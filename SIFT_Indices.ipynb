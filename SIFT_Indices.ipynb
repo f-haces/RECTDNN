{
 "cells": [
  {
   "cell_type": "code",
   "execution_count": 10,
   "id": "16f8633b",
   "metadata": {},
   "outputs": [],
   "source": [
    "import matplotlib.pyplot as plt\n",
    "import matplotlib.patches as patches\n",
    "from PIL import Image\n",
    "\n",
    "from skimage import data, transform, io, exposure\n",
    "from skimage.color import rgb2gray\n",
    "from skimage.feature import match_descriptors, plot_matches, SIFT, match_template, ORB\n",
    "from skimage.transform import rescale, resize, downscale_local_mean, estimate_transform,  warp, AffineTransform\n",
    "\n",
    "import rasterio as rio\n",
    "from rasterio.crs import CRS\n",
    "\n",
    "import cv2\n",
    "from affine import Affine\n",
    "import numpy as np\n",
    "import os\n",
    "\n",
    "Image.MAX_IMAGE_PIXELS = 933120000"
   ]
  },
  {
   "cell_type": "code",
   "execution_count": 11,
   "id": "9a758544",
   "metadata": {},
   "outputs": [],
   "source": [
    "# REFERENCE IMAGE FROM QGIS\n",
    "ref_image = Image.open(r\"data\\GIS\\Harris_full.tiff\")\n",
    "\n",
    "# TILE INDEX TO TEST ON\n",
    "test_index = Image.open(r\"data\\000_WorkingFiles\\HarrisIndexes\\48201CIND0_0992.tif\")"
   ]
  },
  {
   "cell_type": "code",
   "execution_count": 22,
   "id": "16b2b737",
   "metadata": {},
   "outputs": [],
   "source": [
    "def preprocess(image):\n",
    "    image = np.asarray(image) * 255\n",
    "    image = image.astype(np.uint8)\n",
    "    image = cv2.GaussianBlur(image, (5, 5), 0)\n",
    "    image = np.where(image < 100, image, 255).astype(np.uint8)\n",
    "    # image = cv2.dilate(image, np.ones((3,3), np.uint8), iterations=1).astype(np.uint8)\n",
    "    return image\n",
    "\n",
    "test_preprocess = preprocess(test_index)\n",
    "Image.fromarray(test_preprocess).save(\"test.png\")"
   ]
  },
  {
   "cell_type": "code",
   "execution_count": 23,
   "id": "6b654cb4",
   "metadata": {},
   "outputs": [],
   "source": [
    "# Create the SIFT object\n",
    "sift = cv2.SIFT_create()\n",
    "\n",
    "# Detect keypoints and compute descriptors for the images\n",
    "keypoints1, descriptors1 = sift.detectAndCompute(np.array(ref_image), None)\n",
    "keypoints2, descriptors2 = sift.detectAndCompute(test_preprocess, None)"
   ]
  },
  {
   "cell_type": "code",
   "execution_count": 24,
   "id": "ebe07a04",
   "metadata": {},
   "outputs": [],
   "source": [
    "# Draw keypoints on the images\n",
    "image1_keypoints = cv2.drawKeypoints(np.array(ref_image), keypoints1, None)\n",
    "image2_keypoints = cv2.drawKeypoints(test_preprocess, keypoints2, None)"
   ]
  },
  {
   "cell_type": "code",
   "execution_count": 25,
   "id": "8845e02d",
   "metadata": {},
   "outputs": [],
   "source": [
    "def save(image, name):\n",
    "    Image.fromarray(image).save(name)\n",
    "    \n",
    "save(image1_keypoints,\"ref.png\")\n",
    "save(image2_keypoints,\"tile.png\")"
   ]
  },
  {
   "cell_type": "code",
   "execution_count": 26,
   "id": "2a01de2c",
   "metadata": {},
   "outputs": [],
   "source": [
    "# FLANN parameters\n",
    "FLANN_INDEX_KDTREE = 1\n",
    "index_params = dict(algorithm = FLANN_INDEX_KDTREE, trees = 50)\n",
    "search_params = dict(checks=50) # or pass empty dictionary\n",
    "flann = cv2.FlannBasedMatcher(index_params,search_params)\n",
    "matches = flann.knnMatch(descriptors1,descriptors2,k=2)"
   ]
  },
  {
   "cell_type": "code",
   "execution_count": 27,
   "id": "8ae849ba",
   "metadata": {},
   "outputs": [],
   "source": [
    "# Need to draw only good matches, so create a mask\n",
    "matchesMask = [[0,0] for i in range(len(matches))]\n",
    "# ratio test as per Lowe's paper\n",
    "for i,(m,n) in enumerate(matches):\n",
    "    if m.distance < 0.7*n.distance:\n",
    "        matchesMask[i]=[1,0]\n",
    "\n",
    "draw_params = dict(matchColor = (0,255,0),\n",
    "    singlePointColor = (255,0,0),\n",
    "    matchesMask = matchesMask,\n",
    "    flags = cv2.DrawMatchesFlags_DEFAULT)\n",
    "\n",
    "\n",
    "img3 = cv2.drawMatchesKnn(np.array(ref_image),\n",
    "                         keypoints1,\n",
    "                         test_preprocess,\n",
    "                         keypoints2,\n",
    "                         matches,\n",
    "                         None,**draw_params)"
   ]
  },
  {
   "cell_type": "code",
   "execution_count": 28,
   "id": "3d58067a",
   "metadata": {},
   "outputs": [],
   "source": [
    "save(img3, \"testout.png\")"
   ]
  }
 ],
 "metadata": {
  "kernelspec": {
   "display_name": "Python 3 (ipykernel)",
   "language": "python",
   "name": "python3"
  },
  "language_info": {
   "codemirror_mode": {
    "name": "ipython",
    "version": 3
   },
   "file_extension": ".py",
   "mimetype": "text/x-python",
   "name": "python",
   "nbconvert_exporter": "python",
   "pygments_lexer": "ipython3",
   "version": "3.7.16"
  }
 },
 "nbformat": 4,
 "nbformat_minor": 5
}
