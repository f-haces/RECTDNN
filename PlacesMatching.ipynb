{
 "cells": [
  {
   "cell_type": "code",
   "execution_count": 1,
   "id": "d35df5d4",
   "metadata": {},
   "outputs": [],
   "source": [
    "# !pip install pytesseract"
   ]
  },
  {
   "cell_type": "code",
   "execution_count": 2,
   "id": "8d13d09c",
   "metadata": {},
   "outputs": [
    {
     "name": "stderr",
     "output_type": "stream",
     "text": [
      "C:\\Users\\franc\\anaconda3\\envs\\deeplearning\\lib\\site-packages\\fuzzywuzzy\\fuzz.py:11: UserWarning: Using slow pure-python SequenceMatcher. Install python-Levenshtein to remove this warning\n",
      "  warnings.warn('Using slow pure-python SequenceMatcher. Install python-Levenshtein to remove this warning')\n"
     ]
    }
   ],
   "source": [
    "# PYTHON IMPORTS\n",
    "import os, copy, math, re\n",
    "from tqdm.notebook import trange, tqdm\n",
    "\n",
    "# IMAGE IMPORTS \n",
    "from PIL import Image\n",
    "\n",
    "# DATA IMPORTS \n",
    "import random, h5py, glob\n",
    "import numpy as np\n",
    "import requests\n",
    "import pandas as pd\n",
    "\n",
    "# PLOTTING\n",
    "import matplotlib.pyplot as plt\n",
    "import matplotlib.cm as cm\n",
    "\n",
    "# SHAPES IMPORTS\n",
    "import shapely\n",
    "import geopandas as gpd\n",
    "from shapely.ops import unary_union\n",
    "from shapely.geometry import LineString, Polygon, Point\n",
    "\n",
    "# MY OWN CLASSES\n",
    "from FindGrid import *\n",
    "\n",
    "# OCR libraries\n",
    "from fuzzywuzzy import fuzz, process\n",
    "\n",
    "# PREFERENCES\n",
    "Image.MAX_IMAGE_PIXELS = 933120000"
   ]
  },
  {
   "cell_type": "markdown",
   "id": "99fe5e61",
   "metadata": {},
   "source": [
    "Download Places Datasets"
   ]
  },
  {
   "cell_type": "code",
   "execution_count": 3,
   "id": "110e4704",
   "metadata": {
    "scrolled": true
   },
   "outputs": [],
   "source": [
    "if False:\n",
    "    # Base URL pattern with a placeholder for the integer\n",
    "    base_url = \"https://www2.census.gov/geo/tiger/TIGER2022/PLACE/tl_2022_{:02d}_place.zip\"  # Replace with your base URL\n",
    "    savedir  = r\"C:\\Users\\fhacesga\\OneDrive - University Of Houston\\AAA_RECTDNN\\data\\ReferenceDatasets\\Places\"\n",
    "    # Loop through integers from 1 to 100\n",
    "    for i in range(1, 101):\n",
    "        # Construct the URL by formatting the integer into the base URL\n",
    "        url = base_url.format(i)\n",
    "\n",
    "        try:\n",
    "            # Send an HTTP GET request to the URL\n",
    "            response = requests.get(url)\n",
    "\n",
    "            # Check if the request was successful (status code 200)\n",
    "            if response.status_code == 200:\n",
    "                # Save the response content to a file with a filename based on the integer\n",
    "                filename = f\"{i}.zip\"  # You can change the filename format\n",
    "                with open(f\"{savedir}/{filename}\", \"wb\") as file:\n",
    "                    file.write(response.content)\n",
    "                print(f\"Saved {filename}\")\n",
    "            else:\n",
    "                print(f\"Failed to retrieve {url}. Status code: {response.status_code}\")\n",
    "        except Exception as e:\n",
    "            print(f\"An error occurred while processing {url}: {str(e)}\")\n",
    "            \n",
    "def strip_non_numeric_and_convert(field_value):\n",
    "    return pd.to_numeric(field_value.str.replace(r'[^0-9]', ''))"
   ]
  },
  {
   "cell_type": "markdown",
   "id": "dab1e1c6",
   "metadata": {},
   "source": [
    "Read Data and Preprocess"
   ]
  },
  {
   "cell_type": "code",
   "execution_count": 4,
   "id": "b0ee431c",
   "metadata": {},
   "outputs": [
    {
     "name": "stderr",
     "output_type": "stream",
     "text": [
      "C:\\Users\\franc\\AppData\\Roaming\\Python\\Python37\\site-packages\\ipykernel_launcher.py:27: FutureWarning: The default value of regex will change from True to False in a future version.\n"
     ]
    }
   ],
   "source": [
    "data_dir = r\"C:\\Users\\franc\\OneDrive - University Of Houston\\AAA_RECTDNN\\data/\"\n",
    "\n",
    "CIDs        = pd.read_csv(f\"{data_dir}ReferenceDatasets/CommunityNumbers.csv\")\n",
    "CIDs[\"CID\"] = strip_non_numeric_and_convert(CIDs[\"CID\"])\n",
    "CIDs[\"ST\"]  = np.floor(CIDs[\"CID\"] / 1e4)\n",
    "\n",
    "counties    = gpd.read_file(f\"{data_dir}ReferenceDatasets/Counties/tl_2019_us_county.shp\")\n",
    "counties['STATEFP'] = np.array(counties['STATEFP']).astype(np.float32)"
   ]
  },
  {
   "cell_type": "markdown",
   "id": "4179fc11",
   "metadata": {},
   "source": [
    "Fuzzy matching between DataFrame keys"
   ]
  },
  {
   "cell_type": "code",
   "execution_count": 5,
   "id": "81da69d7",
   "metadata": {},
   "outputs": [
    {
     "data": {
      "application/vnd.jupyter.widget-view+json": {
       "model_id": "c6688c616e02451f85c43dae3eee5189",
       "version_major": 2,
       "version_minor": 0
      },
      "text/plain": [
       "  0%|          | 0/25512 [00:00<?, ?it/s]"
      ]
     },
     "metadata": {},
     "output_type": "display_data"
    }
   ],
   "source": [
    "# Function to find the best fuzzy match\n",
    "def find_best_match(left_value, choices):\n",
    "    return process.extract(left_value, choices, scorer=fuzz.ratio, limit=1)\n",
    "\n",
    "county_options = counties['NAMELSAD'].to_numpy()\n",
    "\n",
    "# Apply the fuzzy matching and merge the DataFrames\n",
    "merged_data = []\n",
    "\n",
    "for idx, left_row in tqdm(CIDs.iterrows(), total=CIDs.shape[0]):\n",
    "    if type(left_row[\"County\"]) == str:\n",
    "        index = counties['STATEFP'] == left_row[\"ST\"]\n",
    "        index = index.to_numpy()\n",
    "        best_match = find_best_match(left_row[\"County\"], county_options[index].tolist())\n",
    "        if len(best_match) == 0:\n",
    "            continue\n",
    "        merged_data.append([left_row[\"County\"], best_match[0][0], left_row[\"ST\"]])\n",
    "        "
   ]
  },
  {
   "cell_type": "markdown",
   "id": "e87d6d0c",
   "metadata": {},
   "source": [
    "Create DataFrame for merges and drop duplicates"
   ]
  },
  {
   "cell_type": "code",
   "execution_count": 6,
   "id": "5df8a7a7",
   "metadata": {
    "scrolled": true
   },
   "outputs": [],
   "source": [
    "merged_df = pd.DataFrame(merged_data, columns=['CIDs', 'Counties', \"ST\"]) \n",
    "\n",
    "merged_df[['CIDs', 'Counties']] = merged_df[['CIDs', 'Counties']].astype(pd.StringDtype())\n",
    "merged_df = merged_df.drop_duplicates()"
   ]
  },
  {
   "cell_type": "markdown",
   "id": "2a239e62",
   "metadata": {},
   "source": [
    "Convert to Strings"
   ]
  },
  {
   "cell_type": "code",
   "execution_count": 7,
   "id": "869168c0",
   "metadata": {},
   "outputs": [],
   "source": [
    "CIDs['CID'] = CIDs['CID'].astype(pd.StringDtype())\n",
    "counties['NAMELSAD'] = counties['NAMELSAD'].astype(pd.StringDtype())"
   ]
  },
  {
   "cell_type": "markdown",
   "id": "5a4e1dce",
   "metadata": {},
   "source": [
    "Merge DataFrames and add Geometry"
   ]
  },
  {
   "cell_type": "code",
   "execution_count": 8,
   "id": "8b156ace",
   "metadata": {},
   "outputs": [],
   "source": [
    "result_df   = pd.merge(CIDs, merged_df, right_on=['CIDs', 'ST'], left_on=['County', 'ST'], how='inner')\n",
    "result_df_1 = pd.merge(result_df, counties, right_on=['NAMELSAD', 'STATEFP'], left_on=['Counties', 'ST'], how='inner')\n",
    "result_df_1 = gpd.GeoDataFrame(result_df_1, geometry=result_df_1[\"geometry\"])"
   ]
  },
  {
   "cell_type": "code",
   "execution_count": 9,
   "id": "c848eb05",
   "metadata": {},
   "outputs": [],
   "source": [
    "result_df_final = result_df_1[[\"CID\", \"County\", \"STATEFP\", \"COUNTYFP\" , \"GEOID\", \"Counties\", \"NAME\",]].copy()"
   ]
  },
  {
   "cell_type": "markdown",
   "id": "8ac1bba7",
   "metadata": {},
   "source": [
    "Save files"
   ]
  },
  {
   "cell_type": "code",
   "execution_count": 10,
   "id": "d275c44e",
   "metadata": {},
   "outputs": [],
   "source": [
    "result_df_final.to_csv(f\"{data_dir}ReferenceDatasets/CountyCIDs.csv\")"
   ]
  }
 ],
 "metadata": {
  "kernelspec": {
   "display_name": "Python 3 (ipykernel)",
   "language": "python",
   "name": "python3"
  },
  "language_info": {
   "codemirror_mode": {
    "name": "ipython",
    "version": 3
   },
   "file_extension": ".py",
   "mimetype": "text/x-python",
   "name": "python",
   "nbconvert_exporter": "python",
   "pygments_lexer": "ipython3",
   "version": "3.7.10"
  }
 },
 "nbformat": 4,
 "nbformat_minor": 5
}
