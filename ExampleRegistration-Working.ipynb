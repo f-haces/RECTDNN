{
 "cells": [
  {
   "cell_type": "code",
   "execution_count": 2,
   "metadata": {},
   "outputs": [
    {
     "name": "stdout",
     "output_type": "stream",
     "text": [
      "The autoreload extension is already loaded. To reload it, use:\n",
      "  %reload_ext autoreload\n"
     ]
    }
   ],
   "source": [
    "%load_ext autoreload\n",
    "%notebook autoreload"
   ]
  },
  {
   "cell_type": "code",
   "execution_count": 3,
   "metadata": {},
   "outputs": [
    {
     "name": "stderr",
     "output_type": "stream",
     "text": [
      "C:\\Users\\fhacesga\\AppData\\Local\\Temp\\ipykernel_22360\\2864581687.py:4: TqdmExperimentalWarning: Using `tqdm.autonotebook.tqdm` in notebook mode. Use `tqdm.tqdm` instead to force console mode (e.g. in jupyter console)\n",
      "  from tqdm.autonotebook import tqdm\n"
     ]
    },
    {
     "name": "stdout",
     "output_type": "stream",
     "text": [
      "WARNING  Python>=3.10 is required, but Python==3.8.18 is currently installed \n"
     ]
    }
   ],
   "source": [
    "import numpy as np\n",
    "import geopandas as gpd\n",
    "from scipy.spatial import KDTree\n",
    "from tqdm.autonotebook import tqdm\n",
    "from scipy.ndimage import gaussian_filter\n",
    "from fuzzywuzzy import process\n",
    "import contextily as cx\n",
    "\n",
    "from IndexUtils import * \n",
    "from TileUtils import *\n",
    "from featurematching import *\n",
    "\n",
    "# TILED INFERENCE\n",
    "import sahi\n",
    "from sahi import AutoDetectionModel\n",
    "from sahi.predict import get_sliced_prediction, predict\n",
    "from scipy.spatial.distance import cdist\n",
    "\n",
    "from scipy.fftpack import fft2, ifft2, fftshift\n",
    "from scipy.ndimage import center_of_mass\n",
    "\n",
    "from sklearn.cluster import DBSCAN\n",
    "\n",
    "from skimage.morphology import skeletonize\n",
    "\n",
    "from scipy.interpolate import Rbf"
   ]
  },
  {
   "cell_type": "code",
   "execution_count": 4,
   "metadata": {},
   "outputs": [],
   "source": [
    "corners = gpd.read_file(r\"C:\\Users\\fhacesga\\OneDrive - University Of Houston\\AAA_RECTDNN\\data\\AAA_ReferenceDatasets\\OSM_Roads\\TexasRoads_filtered_strict_3857_nondupe_smaller_harris.gpkg\")\n",
    "roads_gdf = gpd.read_file(r\"C:\\Users\\fhacesga\\Downloads\\TexasRoads_filtered_strict_3857.gpkg\", engine='pyogrio', use_arrow=True)"
   ]
  },
  {
   "cell_type": "code",
   "execution_count": 5,
   "metadata": {},
   "outputs": [],
   "source": [
    "with open(\"SmartDictV2.p\", 'rb') as f:\n",
    "    tile_coords = pickle.load(f)"
   ]
  },
  {
   "cell_type": "code",
   "execution_count": 6,
   "metadata": {},
   "outputs": [
    {
     "name": "stdout",
     "output_type": "stream",
     "text": [
      "1331 / 1331\n"
     ]
    }
   ],
   "source": [
    "with open(r\"D:\\RECTDNN\\processing\\2024-10-11_15-08-46\\street_corners\\exp7\\pickles\\48201C0660L.pickle\", 'rb') as f:\n",
    "    x = pickle.load(f)    \n",
    "    corner_bbox = [a.bbox.to_xyxy() for a in x if a.score.value > 0.001]\n",
    "    corner_arry = np.array([calcCenter(a) for a in corner_bbox ]) * 2\n",
    "    print(f\"{len(corner_bbox)} / {len(x)}\")"
   ]
  },
  {
   "cell_type": "code",
   "execution_count": 7,
   "metadata": {},
   "outputs": [
    {
     "data": {
      "application/vnd.jupyter.widget-view+json": {
       "model_id": "41462b6df3d54074aecfafa22fb85fad",
       "version_major": 2,
       "version_minor": 0
      },
      "text/plain": [
       "  0%|          | 0/127256 [00:00<?, ?it/s]"
      ]
     },
     "metadata": {},
     "output_type": "display_data"
    }
   ],
   "source": [
    "# r\"D:\\RECTDNN\\processing\\2024-10-11_15-08-46\\referencing\\48201C0930J.tif\"\n",
    "im_file    = r\"D:\\RECTDNN\\processing\\2024-10-11_15-08-46\\referencing\\48201C0660L.tif\"\n",
    "him_file   = r\"D:\\RECTDNN\\processing\\2024-10-11_15-08-46\\half_size\\48201C0660L.tif\"\n",
    "\n",
    "curr_tn = os.path.basename(im_file.split(\".\")[0])[:-1]\n",
    "curr_tf = os.path.basename(im_file.split(\".\")[0])[-1]\n",
    "\n",
    "ra = rio.open(im_file)\n",
    "bounds  = ra.bounds\n",
    "image   = ra.read(1)\n",
    "\n",
    "bounds, RLNN = findBounds(im_file, None)\n",
    "bbox = bounds[0].boxes.xyxy.numpy().astype(np.int32)[0].flatten()\n",
    "\n",
    "real_x, real_y = bbox_to_coords_realworld(tile_coords[curr_tn][curr_tf][\"coords\"][0])\n",
    "pic_x, pic_y   = bbox_to_coords_raster(bbox)\n",
    "\n",
    "affine = affineTransformation(pic_x, pic_y, real_x, real_y)\n",
    "\n",
    "# corner_arry = streetcorners[os.path.basename(tile).split(\".\")[0] + \".pickle\"] * 2# streetresults_struct[tile_coords[out_name]['input_file']]\n",
    "corner_arry = np.int32(corner_arry)                 # CONVERT TO INT32\n",
    "corner_arry = cleanCenterBBOX(corner_arry, bbox)\n",
    "\n",
    "# USE RASTER TRANSFORM TO GET REAL-WORLD ESTIMATES OF STREET CORNERS\n",
    "im_corner_gdf = pointsToGeodataFrame(ra, corner_arry[:, 1], corner_arry[:, 0])\n",
    "\n",
    "bounds_poly = enlarged_bounds(ra, n=2)\n",
    "\n",
    "descriptor_kwds = {\n",
    "    \"angle_step\"        : 5,\n",
    "    \"azimuth_radius\"    : 500\n",
    "}\n",
    "\n",
    "corners, _ = calcDescriptors(corners, **descriptor_kwds)\n",
    "corners_curr = gpd.clip(corners, bounds_poly)"
   ]
  },
  {
   "cell_type": "code",
   "execution_count": 8,
   "metadata": {},
   "outputs": [
    {
     "data": {
      "application/vnd.jupyter.widget-view+json": {
       "model_id": "1950037167544326b5e182d25b334bb5",
       "version_major": 2,
       "version_minor": 0
      },
      "text/plain": [
       "  0%|          | 0/11 [00:00<?, ?it/s]"
      ]
     },
     "metadata": {},
     "output_type": "display_data"
    }
   ],
   "source": [
    "roads_clipped = gpd.clip(roads_gdf, bounds_poly)    # CLIP\n",
    "streets = getRoadPoints(roads_clipped, 0.5)         # ROAD POINTS ALONG STREETS, 0.5 IN M\n",
    "\n",
    "model = TPNN(num_classes=2, finalpadding=1, inputsize=2)\n",
    "checkpoint = torch.load(r'C:\\Users\\fhacesga\\OneDrive - University Of Houston\\AAA_RECTDNN\\data/FANN/checkpoint_101123.pth')\n",
    "model.load_state_dict(checkpoint['model_state_dict'])\n",
    "model = model.to('cuda')\n",
    "\n",
    "roads, _    = split_and_run_cnn(image, model, tilesize=1024, num_dim=3, edges=10, dims_rep=[0], n_pyramids=2, device=\"cuda\", verbose=True)\n",
    "roads_thin  = roads[:, :, 1] > 0.95\n",
    "roads_thin  = cleanImageBBOX(roads_thin, bbox)\n",
    "roads_thin  = skeletonize(roads_thin)    # USE SKELETONIZATION ALGORITHM TO THIN ROADS\n",
    "y, x        = np.where(roads_thin[:, :])            # GET X, Y COORDINATES OF IDENTIFIED ROAD POINTS\n",
    "street_det  = pointsToGeodataFrame(ra, y, x)        # CONVERT X, Y COORDINATES TO GDF AND REPROEJCT TO CURRENT ESTIMATE OF RASTER POSITION"
   ]
  },
  {
   "cell_type": "code",
   "execution_count": 9,
   "metadata": {},
   "outputs": [
    {
     "data": {
      "application/vnd.jupyter.widget-view+json": {
       "model_id": "4211810ff167454c8c5fa1c208f4ba79",
       "version_major": 2,
       "version_minor": 0
      },
      "text/plain": [
       "  0%|          | 0/1280 [00:00<?, ?it/s]"
      ]
     },
     "metadata": {},
     "output_type": "display_data"
    },
    {
     "data": {
      "application/vnd.jupyter.widget-view+json": {
       "model_id": "1d952c0d0eef4a908e7be4c2a85513b6",
       "version_major": 2,
       "version_minor": 0
      },
      "text/plain": [
       "  0%|          | 0/1280 [00:00<?, ?it/s]"
      ]
     },
     "metadata": {},
     "output_type": "display_data"
    },
    {
     "name": "stdout",
     "output_type": "stream",
     "text": [
      "[    0.99434      4.1996      6.8884      11.677      91.216] 555\n"
     ]
    },
    {
     "data": {
      "application/vnd.jupyter.widget-view+json": {
       "model_id": "77bdcddf167544558559b415419f4c33",
       "version_major": 2,
       "version_minor": 0
      },
      "text/plain": [
       "  0%|          | 0/1280 [00:00<?, ?it/s]"
      ]
     },
     "metadata": {},
     "output_type": "display_data"
    },
    {
     "data": {
      "application/vnd.jupyter.widget-view+json": {
       "model_id": "fbc61429b8c74551b147cabe6b66ec65",
       "version_major": 2,
       "version_minor": 0
      },
      "text/plain": [
       "  0%|          | 0/13178 [00:00<?, ?it/s]"
      ]
     },
     "metadata": {},
     "output_type": "display_data"
    },
    {
     "name": "stdout",
     "output_type": "stream",
     "text": [
      "[    0.11887      2.5883      4.2095      5.8883      22.172] 531\n"
     ]
    },
    {
     "data": {
      "application/vnd.jupyter.widget-view+json": {
       "model_id": "d9c351e5f5c34ab6871ca5c5d959917c",
       "version_major": 2,
       "version_minor": 0
      },
      "text/plain": [
       "  0%|          | 0/1280 [00:00<?, ?it/s]"
      ]
     },
     "metadata": {},
     "output_type": "display_data"
    },
    {
     "data": {
      "application/vnd.jupyter.widget-view+json": {
       "model_id": "383e0b79011d49ac8bd49c7224fcd13b",
       "version_major": 2,
       "version_minor": 0
      },
      "text/plain": [
       "  0%|          | 0/13178 [00:00<?, ?it/s]"
      ]
     },
     "metadata": {},
     "output_type": "display_data"
    },
    {
     "name": "stdout",
     "output_type": "stream",
     "text": [
      "[     0.4902      4.8421      7.6892      10.518      258.92] 617\n"
     ]
    },
    {
     "data": {
      "application/vnd.jupyter.widget-view+json": {
       "model_id": "b6197fcc86be41b1aa8325158b84e7df",
       "version_major": 2,
       "version_minor": 0
      },
      "text/plain": [
       "  0%|          | 0/1280 [00:00<?, ?it/s]"
      ]
     },
     "metadata": {},
     "output_type": "display_data"
    },
    {
     "data": {
      "application/vnd.jupyter.widget-view+json": {
       "model_id": "30457caac61f4e5499dad7d3317ff72a",
       "version_major": 2,
       "version_minor": 0
      },
      "text/plain": [
       "  0%|          | 0/13178 [00:00<?, ?it/s]"
      ]
     },
     "metadata": {},
     "output_type": "display_data"
    },
    {
     "name": "stdout",
     "output_type": "stream",
     "text": [
      "[     2.1608      8.8518      10.999      14.112      356.14] 616\n"
     ]
    },
    {
     "data": {
      "application/vnd.jupyter.widget-view+json": {
       "model_id": "092769b3f711405591cff30bd19eb8ec",
       "version_major": 2,
       "version_minor": 0
      },
      "text/plain": [
       "  0%|          | 0/1280 [00:00<?, ?it/s]"
      ]
     },
     "metadata": {},
     "output_type": "display_data"
    },
    {
     "data": {
      "application/vnd.jupyter.widget-view+json": {
       "model_id": "20f8bd9e460e4cf59a8342d29fa086ad",
       "version_major": 2,
       "version_minor": 0
      },
      "text/plain": [
       "  0%|          | 0/13178 [00:00<?, ?it/s]"
      ]
     },
     "metadata": {},
     "output_type": "display_data"
    },
    {
     "name": "stdout",
     "output_type": "stream",
     "text": [
      "[   0.094052      8.2957      11.794      14.792      284.41] 653\n"
     ]
    },
    {
     "data": {
      "application/vnd.jupyter.widget-view+json": {
       "model_id": "e03ba745fac747858aa5b6d277a2678e",
       "version_major": 2,
       "version_minor": 0
      },
      "text/plain": [
       "  0%|          | 0/1280 [00:00<?, ?it/s]"
      ]
     },
     "metadata": {},
     "output_type": "display_data"
    },
    {
     "data": {
      "application/vnd.jupyter.widget-view+json": {
       "model_id": "40f0ae282a7e44a699fa687020bca9dc",
       "version_major": 2,
       "version_minor": 0
      },
      "text/plain": [
       "  0%|          | 0/13178 [00:00<?, ?it/s]"
      ]
     },
     "metadata": {},
     "output_type": "display_data"
    },
    {
     "name": "stdout",
     "output_type": "stream",
     "text": [
      "[    0.27589      4.1024      6.3043      8.9903      237.03] 665\n"
     ]
    },
    {
     "data": {
      "application/vnd.jupyter.widget-view+json": {
       "model_id": "82f82526439347fcbdc84daf813a7696",
       "version_major": 2,
       "version_minor": 0
      },
      "text/plain": [
       "  0%|          | 0/1280 [00:00<?, ?it/s]"
      ]
     },
     "metadata": {},
     "output_type": "display_data"
    },
    {
     "data": {
      "application/vnd.jupyter.widget-view+json": {
       "model_id": "c1c4a463bb424348b04645b9fe1e636c",
       "version_major": 2,
       "version_minor": 0
      },
      "text/plain": [
       "  0%|          | 0/13178 [00:00<?, ?it/s]"
      ]
     },
     "metadata": {},
     "output_type": "display_data"
    },
    {
     "name": "stdout",
     "output_type": "stream",
     "text": [
      "[    0.32264      3.9021      5.9055      8.1125       226.2] 670\n"
     ]
    },
    {
     "data": {
      "application/vnd.jupyter.widget-view+json": {
       "model_id": "770af0e1445e4ba1b4134a0c6ed643d9",
       "version_major": 2,
       "version_minor": 0
      },
      "text/plain": [
       "  0%|          | 0/1280 [00:00<?, ?it/s]"
      ]
     },
     "metadata": {},
     "output_type": "display_data"
    },
    {
     "data": {
      "application/vnd.jupyter.widget-view+json": {
       "model_id": "0130f5a468404206b4b93078bbc3cd71",
       "version_major": 2,
       "version_minor": 0
      },
      "text/plain": [
       "  0%|          | 0/13178 [00:00<?, ?it/s]"
      ]
     },
     "metadata": {},
     "output_type": "display_data"
    },
    {
     "name": "stdout",
     "output_type": "stream",
     "text": [
      "[    0.48223      3.8498      5.9873      8.1213      206.47] 677\n"
     ]
    },
    {
     "data": {
      "application/vnd.jupyter.widget-view+json": {
       "model_id": "6efd871a884643aeb741a0042f38b86f",
       "version_major": 2,
       "version_minor": 0
      },
      "text/plain": [
       "  0%|          | 0/1280 [00:00<?, ?it/s]"
      ]
     },
     "metadata": {},
     "output_type": "display_data"
    },
    {
     "data": {
      "application/vnd.jupyter.widget-view+json": {
       "model_id": "54c746aace654d21848142eef9c41dfe",
       "version_major": 2,
       "version_minor": 0
      },
      "text/plain": [
       "  0%|          | 0/13178 [00:00<?, ?it/s]"
      ]
     },
     "metadata": {},
     "output_type": "display_data"
    },
    {
     "name": "stdout",
     "output_type": "stream",
     "text": [
      "[    0.47887      4.6039       7.476      10.566      181.46] 679\n"
     ]
    },
    {
     "data": {
      "application/vnd.jupyter.widget-view+json": {
       "model_id": "97863d8094834e5382797c0125f9664b",
       "version_major": 2,
       "version_minor": 0
      },
      "text/plain": [
       "  0%|          | 0/1280 [00:00<?, ?it/s]"
      ]
     },
     "metadata": {},
     "output_type": "display_data"
    },
    {
     "data": {
      "application/vnd.jupyter.widget-view+json": {
       "model_id": "6cd349feb09046e7b683423c286c0832",
       "version_major": 2,
       "version_minor": 0
      },
      "text/plain": [
       "  0%|          | 0/13178 [00:00<?, ?it/s]"
      ]
     },
     "metadata": {},
     "output_type": "display_data"
    },
    {
     "name": "stdout",
     "output_type": "stream",
     "text": [
      "[    0.28775      3.8266      6.0314      8.1819      163.07] 663\n"
     ]
    },
    {
     "data": {
      "application/vnd.jupyter.widget-view+json": {
       "model_id": "0a507cf2aa2a4e0f878530c1aec39068",
       "version_major": 2,
       "version_minor": 0
      },
      "text/plain": [
       "  0%|          | 0/1280 [00:00<?, ?it/s]"
      ]
     },
     "metadata": {},
     "output_type": "display_data"
    },
    {
     "data": {
      "application/vnd.jupyter.widget-view+json": {
       "model_id": "cf9baaaf05334a88835405cf465ad03a",
       "version_major": 2,
       "version_minor": 0
      },
      "text/plain": [
       "  0%|          | 0/13178 [00:00<?, ?it/s]"
      ]
     },
     "metadata": {},
     "output_type": "display_data"
    },
    {
     "name": "stdout",
     "output_type": "stream",
     "text": [
      "[    0.24173      4.3333      6.9258      9.6975      144.69] 664\n"
     ]
    },
    {
     "data": {
      "application/vnd.jupyter.widget-view+json": {
       "model_id": "915af038e4784b178bf11c559a62e225",
       "version_major": 2,
       "version_minor": 0
      },
      "text/plain": [
       "  0%|          | 0/1280 [00:00<?, ?it/s]"
      ]
     },
     "metadata": {},
     "output_type": "display_data"
    },
    {
     "data": {
      "application/vnd.jupyter.widget-view+json": {
       "model_id": "705ea45c4e8a4c02a065e08effc3c1a6",
       "version_major": 2,
       "version_minor": 0
      },
      "text/plain": [
       "  0%|          | 0/13178 [00:00<?, ?it/s]"
      ]
     },
     "metadata": {},
     "output_type": "display_data"
    },
    {
     "name": "stdout",
     "output_type": "stream",
     "text": [
      "[    0.12833      3.4121      5.4235      7.5483      129.67] 639\n"
     ]
    },
    {
     "data": {
      "application/vnd.jupyter.widget-view+json": {
       "model_id": "be9116ee46da4a77971204830ca10aec",
       "version_major": 2,
       "version_minor": 0
      },
      "text/plain": [
       "  0%|          | 0/1280 [00:00<?, ?it/s]"
      ]
     },
     "metadata": {},
     "output_type": "display_data"
    },
    {
     "data": {
      "application/vnd.jupyter.widget-view+json": {
       "model_id": "1291f4ada07942baae764d54a452feea",
       "version_major": 2,
       "version_minor": 0
      },
      "text/plain": [
       "  0%|          | 0/13178 [00:00<?, ?it/s]"
      ]
     },
     "metadata": {},
     "output_type": "display_data"
    },
    {
     "name": "stdout",
     "output_type": "stream",
     "text": [
      "[    0.16284      3.0211      4.5987      6.3775       105.8] 598\n"
     ]
    },
    {
     "data": {
      "application/vnd.jupyter.widget-view+json": {
       "model_id": "f4af7c8aacb34871854ff63309f1dcd0",
       "version_major": 2,
       "version_minor": 0
      },
      "text/plain": [
       "  0%|          | 0/1280 [00:00<?, ?it/s]"
      ]
     },
     "metadata": {},
     "output_type": "display_data"
    },
    {
     "data": {
      "application/vnd.jupyter.widget-view+json": {
       "model_id": "51f23e03b5394184b6466da13d7b3306",
       "version_major": 2,
       "version_minor": 0
      },
      "text/plain": [
       "  0%|          | 0/13178 [00:00<?, ?it/s]"
      ]
     },
     "metadata": {},
     "output_type": "display_data"
    },
    {
     "name": "stdout",
     "output_type": "stream",
     "text": [
      "[    0.33471      2.4153      3.9764      5.4786      101.56] 563\n"
     ]
    },
    {
     "data": {
      "application/vnd.jupyter.widget-view+json": {
       "model_id": "f42b8077928c46858ae38d06bd7e1094",
       "version_major": 2,
       "version_minor": 0
      },
      "text/plain": [
       "  0%|          | 0/1280 [00:00<?, ?it/s]"
      ]
     },
     "metadata": {},
     "output_type": "display_data"
    },
    {
     "data": {
      "application/vnd.jupyter.widget-view+json": {
       "model_id": "c21876164b0e44979a7acccc061d0071",
       "version_major": 2,
       "version_minor": 0
      },
      "text/plain": [
       "  0%|          | 0/13178 [00:00<?, ?it/s]"
      ]
     },
     "metadata": {},
     "output_type": "display_data"
    },
    {
     "name": "stdout",
     "output_type": "stream",
     "text": [
      "[    0.30227      1.2084       1.724      2.3744      4.0865] 519\n"
     ]
    },
    {
     "data": {
      "application/vnd.jupyter.widget-view+json": {
       "model_id": "2bde1862293a43f184f1811128e9cefb",
       "version_major": 2,
       "version_minor": 0
      },
      "text/plain": [
       "  0%|          | 0/1280 [00:00<?, ?it/s]"
      ]
     },
     "metadata": {},
     "output_type": "display_data"
    },
    {
     "data": {
      "application/vnd.jupyter.widget-view+json": {
       "model_id": "e8b5f8d16825434c9d8ff8325f3336ac",
       "version_major": 2,
       "version_minor": 0
      },
      "text/plain": [
       "  0%|          | 0/13178 [00:00<?, ?it/s]"
      ]
     },
     "metadata": {},
     "output_type": "display_data"
    },
    {
     "name": "stdout",
     "output_type": "stream",
     "text": [
      "[    0.26183     0.81494      1.3014      1.9369      2.9842] 427\n"
     ]
    },
    {
     "data": {
      "application/vnd.jupyter.widget-view+json": {
       "model_id": "e366b6c0beac4008bdca8d9e5bc61159",
       "version_major": 2,
       "version_minor": 0
      },
      "text/plain": [
       "  0%|          | 0/1280 [00:00<?, ?it/s]"
      ]
     },
     "metadata": {},
     "output_type": "display_data"
    },
    {
     "data": {
      "application/vnd.jupyter.widget-view+json": {
       "model_id": "8214e8da4deb4a1c9d62e94e6933c588",
       "version_major": 2,
       "version_minor": 0
      },
      "text/plain": [
       "  0%|          | 0/13178 [00:00<?, ?it/s]"
      ]
     },
     "metadata": {},
     "output_type": "display_data"
    },
    {
     "name": "stdout",
     "output_type": "stream",
     "text": [
      "[    0.86803      1.9195        2.96      4.0005      16.542] 307\n"
     ]
    },
    {
     "data": {
      "application/vnd.jupyter.widget-view+json": {
       "model_id": "c09744d118904e2db080a7cf0cccc8ff",
       "version_major": 2,
       "version_minor": 0
      },
      "text/plain": [
       "  0%|          | 0/1280 [00:00<?, ?it/s]"
      ]
     },
     "metadata": {},
     "output_type": "display_data"
    },
    {
     "data": {
      "application/vnd.jupyter.widget-view+json": {
       "model_id": "8c1f85b580e24f418cf2598145292905",
       "version_major": 2,
       "version_minor": 0
      },
      "text/plain": [
       "  0%|          | 0/13178 [00:00<?, ?it/s]"
      ]
     },
     "metadata": {},
     "output_type": "display_data"
    },
    {
     "name": "stdout",
     "output_type": "stream",
     "text": [
      "[    0.17291      1.9313      2.8469       3.772      45.294] 241\n"
     ]
    },
    {
     "data": {
      "application/vnd.jupyter.widget-view+json": {
       "model_id": "e6ea1a7c41e541ceb84a6547c2939c57",
       "version_major": 2,
       "version_minor": 0
      },
      "text/plain": [
       "  0%|          | 0/1280 [00:00<?, ?it/s]"
      ]
     },
     "metadata": {},
     "output_type": "display_data"
    },
    {
     "data": {
      "application/vnd.jupyter.widget-view+json": {
       "model_id": "0fce2f0d87f34fe19550fbe10550f7da",
       "version_major": 2,
       "version_minor": 0
      },
      "text/plain": [
       "  0%|          | 0/13178 [00:00<?, ?it/s]"
      ]
     },
     "metadata": {},
     "output_type": "display_data"
    },
    {
     "name": "stdout",
     "output_type": "stream",
     "text": [
      "[    0.85632      1.9686      3.0865       4.908      19.608] 190\n"
     ]
    },
    {
     "data": {
      "application/vnd.jupyter.widget-view+json": {
       "model_id": "2529eacc0bd741c7858a96a1d2298543",
       "version_major": 2,
       "version_minor": 0
      },
      "text/plain": [
       "  0%|          | 0/1280 [00:00<?, ?it/s]"
      ]
     },
     "metadata": {},
     "output_type": "display_data"
    },
    {
     "data": {
      "application/vnd.jupyter.widget-view+json": {
       "model_id": "de66fdb30b88452d95cf5e05cc9adf95",
       "version_major": 2,
       "version_minor": 0
      },
      "text/plain": [
       "  0%|          | 0/13178 [00:00<?, ?it/s]"
      ]
     },
     "metadata": {},
     "output_type": "display_data"
    },
    {
     "name": "stdout",
     "output_type": "stream",
     "text": [
      "[ 2.9118e-12  3.2749e-12   3.638e-12  3.6521e-12  3.6663e-12] 153\n",
      "[[     0.1022    0.018474      2773.2]\n",
      " [   0.018662   -0.060042      918.65]\n",
      " [          0           0           0]]\n"
     ]
    }
   ],
   "source": [
    "compoundedAdjustment = np.eye(3)\n",
    "flip=np.array([\n",
    "    [1, 0, 0],\n",
    "    [0, -1, 0],\n",
    "    [0, 0, 1]\n",
    "    ]) \n",
    "\n",
    "\n",
    "r_initial = 500\n",
    "\n",
    "prev_transform = getMatrixFromAffine(ra.transform)\n",
    "\n",
    "for i in range(20):\n",
    "\n",
    "    r_current = r_initial * 0.9 ** i\n",
    "\n",
    "    if i == 0:\n",
    "        matching_results, im_corner_gdf, corners_curr = matching(im_corner_gdf, corners_curr, ratio_threshold=0.95, **descriptor_kwds)\n",
    "        matrix, distances = iterativeAdjustFromMatching(matching_results, corners_curr=corners_curr, im_corner_gdf=im_corner_gdf, plot=False)\n",
    "        #fromPoints, toPoints = iterativeAdjustFromMatching(matching_results, corners_curr=corners_curr, im_corner_gdf=im_corner_gdf, plot=True)\n",
    "    else:\n",
    "        matching_results, _, _ = matching_distances(im_corner_gdf_adj, corners_curr, match_radius=r_current, **descriptor_kwds)\n",
    "        matrix, distances = iterativeAdjustFromMatching(matching_results, plot=False)\n",
    "\n",
    "    compoundedAdjustment = np.linalg.inv(matrix) @ compoundedAdjustment \n",
    "\n",
    "    # current_adjustment = compoundedAdjustment @ getMatrixFromAffine(ra.transform).T\n",
    "    # current_adjustment = getMatrixFromAffine(ra.transform) @ compoundedAdjustment\n",
    "\n",
    "    rev_adj = compoundedAdjustment @ flip\n",
    "    current_adjustment = getMatrixFromAffine(ra.transform) @ flip @ rev_adj\n",
    "\n",
    "    reprojectedcorners = np.hstack((corner_arry, np.ones((corner_arry.shape[0], 1)))) @ current_adjustment.T\n",
    "\n",
    "    if False:\n",
    "        plt.figure()\n",
    "        plt.scatter(reprojectedcorners[:, 0], reprojectedcorners[:, 1])\n",
    "        test = np.hstack((corner_arry, np.ones((corner_arry.shape[0], 1)))) @  getMatrixFromAffine(ra.transform).T\n",
    "        plt.scatter(test[:, 0], test[:, 1])\n",
    "        plt.show()\n",
    "\n",
    "    im_corner_gdf_adj = im_corner_gdf.copy()\n",
    "    im_corner_gdf_adj['geometry'] = gpd.points_from_xy(reprojectedcorners[:,0], reprojectedcorners[:, 1])\n",
    "    \n",
    "    # register_transform1 = matrix @ register_transform\n",
    "    print(np.nanpercentile(distances, [0, 25, 50, 75, 100]), len(matching_results))\n",
    "\n",
    "print(current_adjustment - prev_transform)\n",
    "\n",
    "with rio.open(\"test_registrationV4.tif\", 'w',\n",
    "                driver='GTiff', count=1, dtype=np.uint8,\n",
    "                height=image.shape[0], width=image.shape[1],\n",
    "                crs=f'EPSG:3857',\n",
    "                transform=rio.Affine(*current_adjustment.flatten()[:6])) as dst:\n",
    "                    dst.write(image, 1) "
   ]
  }
 ],
 "metadata": {
  "kernelspec": {
   "display_name": "Python 3",
   "language": "python",
   "name": "python3"
  },
  "language_info": {
   "codemirror_mode": {
    "name": "ipython",
    "version": 3
   },
   "file_extension": ".py",
   "mimetype": "text/x-python",
   "name": "python",
   "nbconvert_exporter": "python",
   "pygments_lexer": "ipython3",
   "version": "3.8.18"
  }
 },
 "nbformat": 4,
 "nbformat_minor": 2
}
