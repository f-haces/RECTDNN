{
 "cells": [
  {
   "cell_type": "code",
   "execution_count": 1,
   "id": "3449d61f",
   "metadata": {},
   "outputs": [],
   "source": [
    "%load_ext autoreload\n",
    "%autoreload 2"
   ]
  },
  {
   "cell_type": "code",
   "execution_count": 2,
   "id": "c7621809",
   "metadata": {},
   "outputs": [
    {
     "name": "stderr",
     "output_type": "stream",
     "text": [
      "c:\\Users\\fhacesga\\Anaconda3\\envs\\yolo\\lib\\site-packages\\geopandas\\_compat.py:124: UserWarning: The Shapely GEOS version (3.11.2-CAPI-1.17.2) is incompatible with the GEOS version PyGEOS was compiled with (3.10.4-CAPI-1.16.2). Conversions between both will be slow.\n",
      "  warnings.warn(\n",
      "C:\\Users\\fhacesga\\AppData\\Local\\Temp\\ipykernel_30396\\1811205482.py:17: DeprecationWarning: Shapely 2.0 is installed, but because PyGEOS is also installed, GeoPandas still uses PyGEOS by default. However, starting with version 0.14, the default will switch to Shapely. To force to use Shapely 2.0 now, you can either uninstall PyGEOS or set the environment variable USE_PYGEOS=0. You can do this before starting the Python process, or in your code before importing geopandas:\n",
      "\n",
      "import os\n",
      "os.environ['USE_PYGEOS'] = '0'\n",
      "import geopandas\n",
      "\n",
      "In the next release, GeoPandas will switch to using Shapely by default, even if PyGEOS is installed. If you only have PyGEOS installed to get speed-ups, this switch should be smooth. However, if you are using PyGEOS directly (calling PyGEOS functions on geometries from GeoPandas), this will then stop working and you are encouraged to migrate from PyGEOS to Shapely 2.0 (https://shapely.readthedocs.io/en/latest/migration_pygeos.html).\n",
      "  import geopandas as gpd\n"
     ]
    },
    {
     "name": "stdout",
     "output_type": "stream",
     "text": [
      "WARNING  Python>=3.10 is required, but Python==3.8.18 is currently installed \n"
     ]
    }
   ],
   "source": [
    "# NOTEBOOK IMPORTS\n",
    "import os, glob, warnings, pickle, re, traceback\n",
    "import numpy as np\n",
    "from shutil import copyfile\n",
    "from datetime import datetime\n",
    "from fuzzywuzzy import process\n",
    "import easyocr\n",
    "\n",
    "# IMAGE IMPORTS\n",
    "from PIL import Image\n",
    "import cv2\n",
    "\n",
    "# GIS IMPORTS\n",
    "from affinetransformation import *\n",
    "from affine import Affine\n",
    "import pandas as pd\n",
    "import geopandas as gpd\n",
    "import rasterio as rio\n",
    "\n",
    "# IMAGE IMPORTS\n",
    "# from skimage.morphology import skeletonize\n",
    "# from skimage import img_as_bool, img_as_ubyte\n",
    "\n",
    "\n",
    "# PLOTTING IMPORTS\n",
    "import matplotlib.pyplot as plt\n",
    "\n",
    "# CUSTOM UTILITIES\n",
    "from IndexUtils import * \n",
    "from TileUtils import *\n",
    "from TileNameFinder import *\n",
    "from ReadDate import *\n",
    "from featurematching import *\n",
    "\n",
    "Image.MAX_IMAGE_PIXELS = 933120000\n",
    "warnings.filterwarnings(\"ignore\")\n",
    "initialize = False\n",
    "\n",
    "%matplotlib widget"
   ]
  },
  {
   "cell_type": "markdown",
   "id": "5ed09b63",
   "metadata": {},
   "source": [
    "IO directories depending on which machine. "
   ]
  },
  {
   "cell_type": "code",
   "execution_count": 3,
   "id": "34617015",
   "metadata": {},
   "outputs": [],
   "source": [
    "username = os.getlogin()\n",
    "\n",
    "dnn_params = {}\n",
    "dnn_params['CLNN'] = {}\n",
    "dnn_params['TPNN'] = {}\n",
    "dnn_params['RLNN'] = {}\n",
    "dnn_params['FLNN'] = {}\n",
    "dnn_params['TLNN'] = {}\n",
    "\n",
    "\n",
    "if username == 'fhacesga':\n",
    "    base_input_path   = r\"D:\\RECTDNN\\uncompress_2\\\\\"\n",
    "    base_output_path  = r\"D:\\RECTDNN\\processing\\\\\"\n",
    "    ref_dir  = r\"C:\\Users\\fhacesga\\OneDrive - University Of Houston\\AAA_RECTDNN\\data\\AAA_ReferenceDatasets\\\\\"\n",
    "    tiled_yolo_model_paths = [\n",
    "        r\"C:\\Users\\fhacesga\\OneDrive - University Of Houston\\AAA_RECTDNN\\data\\CORNERS\\CornersTiled_111324.pt\",\n",
    "        r\"C:\\Users\\fhacesga\\OneDrive - University Of Houston\\AAA_RECTDNN\\data\\FANN\\FANN_large_YOLO.pt\"\n",
    "    ]\n",
    "elif username == 'fhace':\n",
    "    base_input_path   = r\"C:\\Users\\fhace\\Desktop\\FIRMs\\data\\Uncompress\\\\\"\n",
    "    ref_dir = r\"C:\\Users\\fhace\\Desktop\\FIRMs\\data\\AAA_ReferenceDatasets\\\\\"\n",
    "    base_output_path = r\"C:\\Users\\fhace\\Desktop\\FIRMs\\data\\Outputs\\\\\"\n",
    "    # dnn_params['TLNN']['model_weights']    = r\"C:\\Users\\fhace\\Desktop\\FIRMs\\data\\BBNN\\curr_weights.pt\"\n",
    "    dnn_params['CLNN']['model_checkpoint'] = r\"C:\\Users\\fhace\\Desktop\\FIRMs\\data\\RLNN\\checkpoint_101423.pth\"\n",
    "    dnn_params['TPNN']['model_checkpoint'] = r\"C:\\Users\\fhace\\OneDrive - University Of Houston\\AAA_RECTDNN\\data\\TPNN\\checkpoint_091523_pyramids_2.pth\"\n",
    "    dnn_params['RLNN']['model_checkpoint'] = r\"C:\\Users\\fhace\\OneDrive - University Of Houston\\AAA_RECTDNN\\data\\RLNN\\checkpoint_091323.pth\"\n",
    "    \n",
    "else:\n",
    "    base_input_path   = r\"D:\\Desktop\\FIRMsDigitizing\\data\\HistoricalFIRMS\"\n",
    "    base_output_path  = r\"D:\\Desktop\\FIRMsDigitizing\\processing\"\n",
    "    ref_dir  = r\"C:\\Users\\franc\\OneDrive - University Of Houston\\AAA_RECTDNN\\data\\AAA_ReferenceDatasets\\\\\"\n",
    "\n",
    "if not initialize:\n",
    "    initialize = init_databases(ref_dir)\n",
    "\n",
    "try:\n",
    "    reader\n",
    "except:\n",
    "    reader = easyocr.Reader(['en']) "
   ]
  },
  {
   "cell_type": "code",
   "execution_count": 4,
   "id": "008bc5be",
   "metadata": {},
   "outputs": [],
   "source": [
    "proc_dir = r\"D:\\CaseStudies_CoH_FineAdjustDigitization1\\ReRegisterCoH\\\\\""
   ]
  },
  {
   "cell_type": "markdown",
   "id": "ca15694b",
   "metadata": {},
   "source": [
    "For each image we are processing, identify street corners"
   ]
  },
  {
   "cell_type": "code",
   "execution_count": 5,
   "id": "9c3f763b",
   "metadata": {},
   "outputs": [
    {
     "name": "stdout",
     "output_type": "stream",
     "text": [
      "Making images half size for tiled inference\n"
     ]
    },
    {
     "data": {
      "application/vnd.jupyter.widget-view+json": {
       "model_id": "bd64586052da4c508bdfce26350dd7d7",
       "version_major": 2,
       "version_minor": 0
      },
      "text/plain": [
       "  0%|          | 0/7 [00:00<?, ?it/s]"
      ]
     },
     "metadata": {},
     "output_type": "display_data"
    },
    {
     "name": "stdout",
     "output_type": "stream",
     "text": [
      "Reading from D:\\CaseStudies_CoH_FineAdjustDigitization1\\ReRegisterCoH\\\\CornerCoordinates.pkl\n",
      "Reading from D:\\CaseStudies_CoH_FineAdjustDigitization1\\ReRegisterCoH\\\\street_corners.pkl\n"
     ]
    }
   ],
   "source": [
    "tiles = glob.glob(proc_dir + \"focus\\*.tif\")\n",
    "\n",
    "out = processTiledYOLOs(tiles, tiled_yolo_model_paths, ['CornerCoordinates', 'street_corners'], proc_dir, imsizes=[256, 320])\n",
    "\n",
    "cornercoords_dict = out[0]\n",
    "streetcorner_dict = out[1]"
   ]
  },
  {
   "cell_type": "code",
   "execution_count": 6,
   "id": "e9ba6500",
   "metadata": {},
   "outputs": [],
   "source": [
    "corners     = gpd.read_file(r\"C:\\Users\\fhacesga\\Downloads\\Intersections_CoH.gpkg\")\n",
    "# roads_gdf   = gpd.read_file(r\"C:\\Users\\fhacesga\\Downloads\\TexasRoads_filtered_strict_3857.gpkg\", engine='pyogrio', use_arrow=True)"
   ]
  },
  {
   "cell_type": "code",
   "execution_count": 7,
   "id": "3f1d4ec5",
   "metadata": {},
   "outputs": [
    {
     "name": "stdout",
     "output_type": "stream",
     "text": [
      "Focus found, using D:\\CaseStudies_CoH_FineAdjustDigitization1\\ReRegisterCoH\\\\focus\\\n",
      "D:\\CaseStudies_CoH_FineAdjustDigitization1\\ReRegisterCoH\\\\street_corners\\exp\\pickles\n"
     ]
    }
   ],
   "source": [
    "corner_dir = os.path.join(get_largest_subdirectory(os.path.join(proc_dir, \"street_corners\")), \"pickles\")\n",
    "\n",
    "if os.path.isdir(os.path.join(proc_dir, \"focus\")):\n",
    "    referencing_dir  =  os.path.join(proc_dir, \"focus\") + \"\\\\\"\n",
    "    print(f\"Focus found, using {referencing_dir}\")\n",
    "\n",
    "registration_dir = os.path.join(proc_dir, \"registration\")\n",
    "os.makedirs(registration_dir, exist_ok=True)\n",
    "\n",
    "print(corner_dir)"
   ]
  },
  {
   "cell_type": "code",
   "execution_count": 8,
   "id": "094b4758",
   "metadata": {},
   "outputs": [],
   "source": [
    "np.set_printoptions(precision=8) "
   ]
  },
  {
   "cell_type": "code",
   "execution_count": 9,
   "id": "6613bd34",
   "metadata": {},
   "outputs": [],
   "source": [
    "def normCoords(A, B):\n",
    "    offsets = np.min(A, axis=0)\n",
    "    return A - offsets, B - offsets\n",
    "\n",
    "def updateResults(list1, list2, verbose=False):\n",
    "    combined_dict = {}\n",
    "    all_matches = list1 + list2\n",
    "\n",
    "    if not all_matches:\n",
    "        return []\n",
    "\n",
    "    # Check data format (tuple vs dict)\n",
    "    is_dict_format = isinstance(all_matches[0], dict)\n",
    "\n",
    "    for entry in all_matches:\n",
    "        if is_dict_format:\n",
    "            key = entry[\"real_idx\"]\n",
    "            d1, d2 = entry[\"d1\"], entry[\"d2\"]\n",
    "        else:\n",
    "            key = entry[0]\n",
    "            d1, d2 = entry[2], entry[3]\n",
    "\n",
    "        try:\n",
    "            current_ratio = d1 / d2\n",
    "        except ZeroDivisionError:\n",
    "            continue\n",
    "\n",
    "        if key not in combined_dict:\n",
    "            combined_dict[key] = entry\n",
    "        else:\n",
    "            prev = combined_dict[key]\n",
    "            prev_ratio = (prev[\"d1\"] / prev[\"d2\"]) if is_dict_format else (prev[2] / prev[3])\n",
    "            if current_ratio < prev_ratio:\n",
    "                combined_dict[key] = entry\n",
    "\n",
    "    combined_list = list(combined_dict.values())\n",
    "    if verbose:\n",
    "        print(\"Results Update:\", len(list1), len(list2), len(combined_list))\n",
    "    return combined_list\n",
    "def most_popular_indices_2d_flexible(uv_vectors, eps=0.1, iteration=0, n_iters=10, min_cluster_size=10):\n",
    "    \"\"\"\n",
    "    uv_vectors: np.ndarray of shape (N, 2) representing delta vectors (dx, dy)\n",
    "    eps: base clustering threshold (in normalized space)\n",
    "    iteration: current iteration index (0-based)\n",
    "    n_iters: total iterations expected\n",
    "    \"\"\"\n",
    "    # Compute angle and magnitude\n",
    "    angles = np.degrees(np.arctan2(uv_vectors[:, 1], uv_vectors[:, 0])) % 360\n",
    "    magnitudes = np.linalg.norm(uv_vectors, axis=1)\n",
    "\n",
    "    # Normalize\n",
    "    angle_norm = angles / 360.0  # 0–1\n",
    "    length_norm = magnitudes / (np.max(magnitudes) + 1e-6)\n",
    "\n",
    "    # Decay angle weight as we get closer to convergence\n",
    "    angle_weight = max(1 - (iteration / n_iters), 0.1)\n",
    "    length_weight = 1.0\n",
    "\n",
    "    combined = np.vstack([\n",
    "        angle_norm * angle_weight,\n",
    "        length_norm * length_weight\n",
    "    ]).T\n",
    "\n",
    "    db = DBSCAN(eps=eps, min_samples=2).fit(combined)\n",
    "    labels, counts = np.unique(db.labels_[db.labels_ != -1], return_counts=True)\n",
    "\n",
    "    if len(counts) == 0:\n",
    "        return []\n",
    "\n",
    "    # Keep all clusters with sufficient support\n",
    "    good_clusters = [label for label, count in zip(labels, counts) if count >= min_cluster_size]\n",
    "\n",
    "    indices = [i for i, label in enumerate(db.labels_) if label in good_clusters]\n",
    "    return indices, combined"
   ]
  },
  {
   "cell_type": "code",
   "execution_count": 10,
   "id": "e20588a8",
   "metadata": {},
   "outputs": [],
   "source": [
    "def plotMatchesNew(fromPoints, toPoints, angles, idx, coordsBPrime=None, add_basemap=True):\n",
    "    \"\"\"\n",
    "    Plots original and matched points, their directional vectors, and angle histogram.\n",
    "    `idx` should be the final filtered indices to highlight in yellow.\n",
    "    \"\"\"\n",
    "\n",
    "    fig, axs = plt.subplots(1, 2, figsize=(15, 5))\n",
    "\n",
    "    # Plot all points\n",
    "    fromPoints.plot(ax=axs[0],  color='red', markersize=5)\n",
    "    toPoints.plot(ax=axs[0],    color='blue', markersize=5)\n",
    "\n",
    "    # Full vector field\n",
    "    axs[0], uv = calcQuiver(axs[0], fromPoints, toPoints, color=\"black\")\n",
    "\n",
    "    # Add basemap (optional)\n",
    "    if add_basemap:\n",
    "        try:\n",
    "            cx.add_basemap(axs[0])\n",
    "        except:\n",
    "            print(\"Error adding Basemap\")\n",
    "\n",
    "    # Highlight final filtered matches\n",
    "    axs[0], uv_filtered = calcQuiver(axs[0], fromPoints.iloc[idx], toPoints.iloc[idx], color=\"yellow\")\n",
    "\n",
    "    axs[0].scatter(coordsBPrime[:, 0], coordsBPrime[:, 1], marker='x', c='red', label='B warped')\n",
    "\n",
    "    # Angle histograms\n",
    "    bins = np.linspace(-180, 180, 100)\n",
    "    axs[1].hist(angles, bins, label=\"All\", alpha=0.5)\n",
    "    axs[1].hist(angles[idx], bins, label=\"Filtered\", color=\"orange\", alpha=0.7)\n",
    "    axs[1].set_xlabel(\"Adjustment Bearing (degrees)\")\n",
    "    axs[1].set_ylabel(\"Frequency (n)\")\n",
    "    axs[1].legend()\n",
    "\n",
    "    return fig, axs\n",
    "\n",
    "\n",
    "def addGCPsandIndices(coordsA, coordsB, idx, gcps, weights):\n",
    "    if gcps is None:\n",
    "        newA = coordsA[idx, :]\n",
    "        newB = coordsB[idx, :]\n",
    "        weights = weights[idx]\n",
    "    else:\n",
    "        newA = np.vstack((coordsA[idx, :], gcps[['image_X', 'image_Y']].to_numpy()))\n",
    "        newB = np.vstack((coordsB[idx, :], gcps[['X', 'Y']].to_numpy()))\n",
    "        gcp_weights = np.ones(len(gcps))  # assume equal confidence for GCPs\n",
    "        weights = np.concatenate((weights[idx], gcp_weights))\n",
    "        print(newA)\n",
    "        print(newB)\n",
    "    return newA, newB, weights\n",
    "\n",
    "def adjustGCPs(gcps):\n",
    "    coordsA = gcps[['image_X', 'image_Y']].to_numpy()\n",
    "    coordsB = gcps[['X', 'Y']].to_numpy()\n",
    "    initial = similarityTransformation(coordsA[:, 0], coordsA[:, 1], coordsB[:, 0], coordsB[:, 1],verbose=False)\n",
    "    matrix = initial.matrix\n",
    "    coordsBprime = np.hstack((coordsB, np.ones((coordsB.shape[0], 1)))) @ np.linalg.inv(matrix).T    \n",
    "    coordsAprime = np.hstack((coordsA, np.ones((coordsA.shape[0], 1)))) @ matrix.T    \n",
    "\n",
    "    distances = np.sqrt((coordsBprime[:, 0] - coordsA[:, 0]) ** 2 + (coordsBprime[:, 1] - coordsA[:, 1]) ** 2)\n",
    "    print(distances)\n",
    "    return matrix, distances, distances > -10000\n",
    "\n",
    "def apply_adjustment_to_gdf(gdf, matrix, idx=None):\n",
    "    \"\"\"Apply 3×3 affine (homogeneous) matrix M to a subset of a GeoDataFrame and return only adjusted rows with all fields preserved.\"\"\"\n",
    "    cord_arry = getCoordsGDF(gdf)\n",
    "    if idx is None:\n",
    "        idx = np.arange(cord_arry.shape[0])\n",
    "\n",
    "    cord_arry = np.hstack((cord_arry[idx], np.ones((len(idx), 1))))\n",
    "    xy1_t = cord_arry @ matrix.T\n",
    "\n",
    "    # Extract and transform only selected rows\n",
    "    gdf_subset = gdf.iloc[idx].copy()\n",
    "    gdf_subset['geometry'] = gpd.points_from_xy(xy1_t[:, 0], xy1_t[:, 1])\n",
    "\n",
    "    return gdf_subset\n",
    "\n",
    "def extract_weights(matchresults, q_weight=0.4, o_weight=0.3, l_weight=0.3):\n",
    "    \"\"\"\n",
    "    Extracts match weights from matchresults list.\n",
    "    Uses quality tuple (q, o, l) if available, otherwise returns weight=1.\n",
    "    \"\"\"\n",
    "    weights = []\n",
    "    for m in matchresults:\n",
    "        if isinstance(m, dict) and \"qualities\" in m:\n",
    "            q, o, l = m[\"qualities\"]\n",
    "            weight = (q_weight * q) + (o_weight * o) + (l_weight * l)\n",
    "        else:\n",
    "            weight = 1.0\n",
    "        weights.append(weight)\n",
    "    return np.array(weights, dtype=np.float32)\n",
    "\n",
    "\n",
    "def adjustFromMatchingV4(matchresults, \n",
    "                         idx=None, \n",
    "                         plot=False, \n",
    "                         verbose=False, \n",
    "                         dbscan_eps=0.04, \n",
    "                         logging_dir=None, \n",
    "                         iteration_struct=(0, 10),\n",
    "                         n_internal_passes=10,\n",
    "                         filter_topn=None, \n",
    "                         distance_thresh=None,\n",
    "                         gcps=None):\n",
    "    \n",
    "    # Optional confidence filtering\n",
    "    if filter_topn is not None:\n",
    "        print(f\"Filtering top {filter_topn}\")\n",
    "        conf = [a[8][0] / a[8][1] for a in matchresults]\n",
    "        indices = np.argsort(conf)[:filter_topn]\n",
    "        matchresults = [matchresults[i] for i in indices]\n",
    "\n",
    "    if idx is None:\n",
    "        idx = np.arange(len(matchresults), dtype=np.int32)\n",
    "\n",
    "    if isinstance(matchresults[0], dict):\n",
    "        image_coords = [x[\"image_coords\"] for x in matchresults]\n",
    "        real_coords  = [x[\"real_coords\"]  for x in matchresults]\n",
    "    else:\n",
    "        image_coords = [x[5] for x in matchresults]\n",
    "        real_coords  = [x[4] for x in matchresults]\n",
    "\n",
    "    weights=extract_weights(matchresults)\n",
    "\n",
    "    fromPoints = gpd.GeoDataFrame(geometry=gpd.points_from_xy(\n",
    "        [pt[0] for pt in image_coords], [pt[1] for pt in image_coords]))\n",
    "    toPoints = gpd.GeoDataFrame(geometry=gpd.points_from_xy(\n",
    "        [pt[0] for pt in real_coords], [pt[1] for pt in real_coords]))\n",
    "\n",
    "    coordsA = getCoordsGDF(fromPoints)\n",
    "    coordsB = getCoordsGDF(toPoints)\n",
    "\n",
    "    # Iterative refinement loop\n",
    "    i, checker = 0, True\n",
    "    prev_len = len(idx)\n",
    "\n",
    "    while checker and i < n_internal_passes:\n",
    "        # Re-inject GCPs each round and do index slicing\n",
    "        coordsA_aug, coordsB_aug, weights = addGCPsandIndices(coordsA, coordsB, idx, gcps, weights)\n",
    "\n",
    "        # Estimate similarity transform FROM image TO real\n",
    "        transform = similarityTransformation(\n",
    "            coordsA_aug[:, 0], coordsA_aug[:, 1],\n",
    "            coordsB_aug[:, 0], coordsB_aug[:, 1],\n",
    "            verbose=False, rotation_limit=3, weights=weights             \n",
    "        )\n",
    "\n",
    "        matrix = transform.matrix\n",
    "\n",
    "        # Transform image to real\n",
    "        reprojectedpoints   = getCoordsGDF(apply_adjustment_to_gdf(fromPoints, matrix, idx=idx))\n",
    "        distances           = np.linalg.norm(reprojectedpoints[:, :2] - coordsB[idx], axis=1)\n",
    "\n",
    "        # reprojectedpoints_oldfashioned = np.hstack((coordsA[idx], np.ones((len(idx), 1)))) @ matrix.T\n",
    "        # distances_oldfashioned = np.linalg.norm(reprojectedpoints_oldfashioned[:, :2] - coordsB[idx], axis=1)\n",
    "\n",
    "        # Compute angular and magnitude features (FROM IMAGE TO REAL)\n",
    "        uv = coordsA - coordsB\n",
    "        angles = np.degrees(np.arctan2(uv[:, 1], uv[:, 0]))\n",
    "        magnitudes = np.sqrt(uv[:, 0] ** 2 + uv[:, 1] ** 2)\n",
    "        test = np.vstack((normArry(angles), normArry(magnitudes))).T\n",
    "        test[np.isnan(test)] = 0\n",
    "\n",
    "        # DBSCAN-based filtering\n",
    "        db_idx, current_values = most_popular_indices_2d_flexible(\n",
    "            test, eps=dbscan_eps, iteration=iteration_struct[0], n_iters=iteration_struct[1])\n",
    "\n",
    "        # Distance-based filtering\n",
    "        dist_thresh = 3 * np.median(distances)\n",
    "        dist_idx = np.where(distances <= dist_thresh)[0]\n",
    "\n",
    "        print(\"IDX\",np.where(idx)[0].shape[0])\n",
    "        print(\"DISTNACE\", np.where(dist_idx)[0].shape[0])\n",
    "        print(\"DBSCAN\", np.where(db_idx)[0].shape[0])\n",
    "\n",
    "        # Combine filters\n",
    "        idx = np.intersect1d(np.intersect1d(idx, dist_idx), db_idx)\n",
    "        print(\"INTERSECT\", np.where(idx)[0].shape[0])\n",
    "\n",
    "        print(len(idx))\n",
    "        print(idx)\n",
    "\n",
    "        # Relax filter if too few remain\n",
    "        if len(idx) < 10:\n",
    "            print(\"Loosening DBSCAN... \", end=\"\")\n",
    "            for j in range(1, 11):\n",
    "                temp_idx, current_values = most_popular_indices_2d_flexible(\n",
    "                    test, eps=dbscan_eps + 0.02 * j,\n",
    "                    iteration=iteration_struct[0], n_iters=iteration_struct[1])\n",
    "                if len(temp_idx) >= 10:\n",
    "                    idx = np.intersect1d(idx, temp_idx)\n",
    "                    print(f\"Loosened to eps={dbscan_eps + 0.02 * j}\")\n",
    "                    break\n",
    "\n",
    "        # Stop if convergence\n",
    "        if len(idx) >= prev_len:\n",
    "            checker = False\n",
    "        else:\n",
    "            prev_len = len(idx)\n",
    "\n",
    "        # Optional debug plot\n",
    "        if verbose:\n",
    "            print(f\"Iteration {i}, matrix:\\n{np.linalg.inv(matrix).T}\")\n",
    "            fig, axs = plt.subplots(1, 2, figsize=(10, 4))\n",
    "            axs[0].scatter(coordsA[idx, 0], coordsA[idx, 1], c='black', label='A')\n",
    "            axs[0].scatter(coordsB[idx, 0], coordsB[idx, 1], c='blue', label='B')\n",
    "            axs[0].scatter(reprojectedpoints[:, 0], reprojectedpoints[:, 1], marker='x', c='red', label='B warped')\n",
    "            axs[0].legend()\n",
    "            axs[1].hist(distances, bins=50)\n",
    "            axs[1].set_title(f\"Residuals (iter {i})\")\n",
    "            fig.savefig(logging_dir[:-3] + f\"_iteration{i}.jpg\")\n",
    "            if not plot:\n",
    "                plt.close(fig)\n",
    "            else:\n",
    "                plt.show()\n",
    "\n",
    "        i += 1\n",
    "\n",
    "    if len(idx) == 0:\n",
    "        print(f\"DBSCAN FILTER FAILED. FALLING BACK ON ALL POINTS.\")\n",
    "        idx = np.arange(len(matchresults), dtype=np.int32)\n",
    "        coordsA = getCoordsGDF(fromPoints)\n",
    "        coordsB = getCoordsGDF(toPoints)\n",
    "        coordsA_aug, coordsB_aug, weights = addGCPsandIndices(coordsA, coordsB, idx, gcps, weights)\n",
    "\n",
    "        # Transform image to real\n",
    "        reprojectedpoints   = getCoordsGDF(apply_adjustment_to_gdf(fromPoints, matrix, idx=idx))\n",
    "        distances           = np.linalg.norm(reprojectedpoints[:, :2] - coordsB[idx], axis=1)\n",
    "\n",
    "        # Estimate similarity transform FROM image TO real\n",
    "        transform = similarityTransformation(\n",
    "            coordsA_aug[:, 0], coordsA_aug[:, 1],\n",
    "            coordsB_aug[:, 0], coordsB_aug[:, 1],\n",
    "            verbose=False, rotation_limit=3, weights=weights             \n",
    "        )\n",
    "\n",
    "        matrix = transform.matrix\n",
    "\n",
    "        return matrix, distances, idx, None\n",
    "\n",
    "    # Final distance threshold (optional)\n",
    "    if distance_thresh is not None and 'distances' in locals():\n",
    "        n_before_dfilt = distances.shape[0]\n",
    "        distances = distances[idx]\n",
    "        idx = idx[distances < distance_thresh]\n",
    "        distances = distances[distances < distance_thresh]\n",
    "        if verbose:\n",
    "            print(f\"DISTANCE THRESHOLD REMOVED {n_before_dfilt - distances.shape[0]}\")\n",
    "    \n",
    "    # Optional initial plot\n",
    "    if logging_dir is not None and 'angles' in locals():\n",
    "        fig, axs = plotMatchesNew(fromPoints, toPoints, angles, idx, coordsBPrime=reprojectedpoints)\n",
    "        fig.savefig(logging_dir)\n",
    "        if not plot:\n",
    "            plt.close(fig)\n",
    "        else:\n",
    "            plt.show()\n",
    "\n",
    "    return matrix, distances, idx, current_values\n",
    "\n",
    "def registerImagesV3(group_name, im_corner_gdf, corners_curr, im_corner_arry, descriptor_kwds, \n",
    "                     r_initial=500, \n",
    "                     r_min=300,\n",
    "                     verbose=1, \n",
    "                     distance_threshold=10,\n",
    "                     n_iters=20,\n",
    "                     r_change=0.6,\n",
    "                     ratio_threshold=0.9,\n",
    "                     dbscan_ini=0.04,\n",
    "                     dbscan_max=0.1,\n",
    "                     gcps=None,\n",
    "                     logging_dir=None,\n",
    "                     n_internal_passes=10,\n",
    "                     remove_stdev=True\n",
    "                     ):\n",
    "    \n",
    "    compoundedAdjustment = np.eye(3)\n",
    "    \n",
    "    os.makedirs(logging_dir, exist_ok=True)\n",
    "    logging_basename = os.path.join(logging_dir, group_name)\n",
    "\n",
    "    matching_results = None\n",
    "    im_corner_gdf_adj = im_corner_gdf.copy()\n",
    "    im_corner_gdf_adj['orig_x'] = im_corner_gdf_adj.geometry.x\n",
    "    im_corner_gdf_adj['orig_y'] = im_corner_gdf_adj.geometry.y\n",
    "\n",
    "    registration_struct = {}\n",
    "    registration_struct['best_grade']       = 1e9\n",
    "    registration_struct['grades']           = []\n",
    "    registration_struct['transforms']       = []\n",
    "    registration_struct['points']           = []\n",
    "\n",
    "    for i in range(n_iters):\n",
    "        \n",
    "        r_current = r_initial * r_change ** i\n",
    "        dbscan_curr = dbscan_ini + dbscan_ini * i\n",
    "        \n",
    "        dbscan_curr = min(dbscan_curr, dbscan_max)\n",
    "        r_current   = max(r_current, r_min)\n",
    "\n",
    "        # MAIN P1\n",
    "        print(\"Enter Matching\")\n",
    "        matching_results_curr, im_corner_gdf_adj, _ = matching_distances_loosen_distance(im_corner_gdf_adj, corners_curr, \n",
    "                                                                    ratio_threshold=ratio_threshold, \n",
    "                                                                    match_radius=r_current, \n",
    "                                                                    num_retries=10,\n",
    "                                                                    loosening_factor=0.25,\n",
    "                                                                    quality_weight=0.5, \n",
    "                                                                    **descriptor_kwds)\n",
    "        \n",
    "        if matching_results is None:\n",
    "            matching_results = matching_results_curr\n",
    "        else:\n",
    "            matching_results = updateResults(matching_results, matching_results_curr, verbose=verbose>3)\n",
    "        \n",
    "        print(len(matching_results))\n",
    "        if len(matching_results) < 3:\n",
    "            registration_struct[i] = {}\n",
    "            registration_struct[i][\"matching_results\"]   = matching_results\n",
    "            return None, registration_struct\n",
    "        \n",
    "        if i == 0 and gcps is not None:\n",
    "            current_adjustment, distances, idx = adjustGCPs(gcps)\n",
    "        else:\n",
    "            # TODO: REMOVE DB_scan_values. They were for troubleshotting the unending filtering caused by repeated passes during fine tuning\n",
    "            current_adjustment, distances, idx, DB_scan_values = adjustFromMatchingV4(matching_results, plot=verbose>8, \n",
    "                                                        dbscan_eps=dbscan_curr,\n",
    "                                                        verbose=verbose>8,\n",
    "                                                        gcps=gcps,\n",
    "                                                        n_internal_passes=n_internal_passes,\n",
    "                                                        distance_thresh=r_current,\n",
    "                                                        iteration_struct = (i, n_iters),\n",
    "                                                        logging_dir=None if logging_dir is None else logging_basename + f\"_iteration{str(i).zfill(2)}.jpg\")\n",
    "        \n",
    "            matching_results = [matching_results[i] for i in idx]\n",
    "\n",
    "\n",
    "        im_corner_gdf_adj = apply_adjustment_to_gdf(im_corner_gdf_adj, current_adjustment)\n",
    "\n",
    "        scale       = np.sqrt(0.5 * (current_adjustment[0,0] ** 2 + current_adjustment[1,1] ** 2))\n",
    "        translation = np.sqrt(current_adjustment[0,2] ** 2 + current_adjustment[1,2] ** 2)\n",
    "\n",
    "        if verbose > 0:\n",
    "            print(np.nanpercentile(distances, [0, 25, 50, 75, 100]), len(matching_results), len(distances[distances<100]))\n",
    "\n",
    "        if verbose > 3:\n",
    "            print(f\"Distances under 100: {distances[distances<100]}\" )\n",
    "            \n",
    "        if verbose > 8:\n",
    "            print(f\"Scale {scale:.3e}\")\n",
    "            print(f\"Translation {translation:.3e}\")\n",
    "        \n",
    "        if verbose > 10: \n",
    "            print(current_adjustment)\n",
    "            print(\"Inverse\")\n",
    "            print(np.linalg.inv(current_adjustment))\n",
    "\n",
    "        # IF BEST, SAVE AS BEST\n",
    "        if np.nanpercentile(distances, 50) < registration_struct['best_grade']:\n",
    "            registration_struct['best_grade']             = np.nanpercentile(distances, 50)\n",
    "            registration_struct['best_im_corner_gdf_adj'] = im_corner_gdf_adj\n",
    "\n",
    "        # SAVE CURRENT TIMESTEP VALUES\n",
    "        registration_struct[i] = {}\n",
    "        registration_struct[i]['grade']     = np.nanpercentile(distances, 50)\n",
    "        registration_struct[i]['adjust']    = current_adjustment\n",
    "        registration_struct[i]['comp_adj']  = compoundedAdjustment\n",
    "        registration_struct[i][\"matching_results\"]   = matching_results\n",
    "        registration_struct[i][\"distances\"]          = distances\n",
    "        registration_struct[i][\"DB_scan_values\"]     = DB_scan_values\n",
    "        \n",
    "        registration_struct['points'].append(im_corner_gdf_adj)\n",
    "        registration_struct['grades'].append(np.nanpercentile(distances, 50))\n",
    "        registration_struct['transforms'].append(current_adjustment)\n",
    "\n",
    "        # CHECK IF WE HAVE ANY CONDITIONS FOR EARLY STOPPING\n",
    "        matched_check = np.nanpercentile(distances, 50) < distance_threshold\n",
    "        conv_check  = np.abs(1 - scale) < 0.002 and translation < distance_threshold\n",
    "\n",
    "        if (matched_check or conv_check) and i > 1:\n",
    "            print(matched_check, conv_check)\n",
    "            break\n",
    "\n",
    "    with open(logging_basename+\".pkl\", 'wb') as handle:\n",
    "        pickle.dump(registration_struct, handle, protocol=pickle.HIGHEST_PROTOCOL)       \n",
    "\n",
    "    return registration_struct['best_im_corner_gdf_adj'], registration_struct\n"
   ]
  },
  {
   "cell_type": "code",
   "execution_count": 11,
   "id": "f9259695",
   "metadata": {},
   "outputs": [],
   "source": [
    "\n",
    "def loadGCPs(mydir, tile_dir, ra_ref):\n",
    "    if os.path.exists(mydir):\n",
    "        gcps_df = pd.read_csv(mydir)\n",
    "        gdfs = []\n",
    "\n",
    "        for i, tile in enumerate(tile_dir):\n",
    "            curr_name = os.path.basename(tile).split(\".\")[0]\n",
    "            curr_df   = gcps_df[gcps_df['ID'] == curr_name]\n",
    "            curr_gdf = pointsToGeodataFrame(ra_ref[i], curr_df['row'].to_numpy(), curr_df['col'].to_numpy())\n",
    "            gdfs.append(curr_gdf)\n",
    "        \n",
    "        \n",
    "        a = gpd.GeoDataFrame(pd.concat(gdfs, ignore_index=True))\n",
    "\n",
    "        gcps_df['image_X'] = np.array([aa.x for aa in a['geometry']])\n",
    "        gcps_df['image_Y'] = np.array([aa.y for aa in a['geometry']])\n",
    "        return gcps_df\n",
    "    else:\n",
    "         return None\n",
    "def getBBOX(im_file, RLNN):\n",
    "    bounds, RLNN = findBounds(im_file, RLNN)\n",
    "\n",
    "    # IF BOUNDS FOUND, USE. ELSE, USE IMAGE BOUNDS\n",
    "    if len(bounds[0]) < 1:\n",
    "        print(f\"COULD NOT FIND BOUNDS, USING IMAGE EXTENTS {tile_name}\")\n",
    "        bbox = [0, 0, image.shape[0], image.shape[1]]\n",
    "        datebox = [ int(image.shape[1] * 0.75), int(image.shape[0] * 0.75), image.shape[1], image.shape[0]]\n",
    "    else:\n",
    "        bbox = bounds[0].boxes.xyxy.numpy().astype(np.int32)[0].flatten()\n",
    "    return bbox, RLNN\n",
    "\n",
    "def getTileCorners(tile_dir, ra_ref, conf_thresh=0.3, filter_by_bounding_box=True):\n",
    "\n",
    "    tile_name = os.path.basename(tile_dir).split(\".\")[0]\n",
    "\n",
    "    with open(f\"{corner_dir}/{tile_name}.pickle\", 'rb') as f:\n",
    "        x = pickle.load(f)    \n",
    "        corner_bbox = [a.bbox.to_xyxy() for a in x if a.score.value > conf_thresh]\n",
    "        corner_arry = np.array([calcCenter(a) for a in corner_bbox ]) * 2\n",
    "        corner_confs = np.array([a.score.value for a in x if a.score.value > conf_thresh])\n",
    "        print(f\"{len(corner_bbox)} / {len(x)}\")\n",
    "\n",
    "    if len(corner_bbox) == 0:\n",
    "        return None, None\n",
    "\n",
    "    corner_arry  = np.int32(corner_arry)\n",
    "    corner_confs = np.float32(corner_confs)\n",
    "\n",
    "    if filter_by_bounding_box:\n",
    "        bbox, _ = getBBOX(tile_dir, None)\n",
    "        corner_arry, corner_confs = cleanCenterBBOX(corner_arry, bbox, opt_return=[corner_confs])\n",
    "\n",
    "    # USE RASTER TRANSFORM TO GET REAL-WORLD ESTIMATES OF STREET CORNERS\n",
    "    im_corner_gdf = pointsToGeodataFrame(ra_ref, corner_arry[:, 1], corner_arry[:, 0])\n",
    "    return im_corner_gdf, corner_confs\n",
    "\n",
    "\n",
    "def cornerConfsToDescriptorWeights(corner_confs):\n",
    "    q99 = np.percentile(corner_confs, 99)\n",
    "    return np.clip(corner_confs / q99, 0, 1)\n",
    "\n",
    "def estimate_per_image_transforms(im_corner_gdf_adj):\n",
    "    \"\"\"Estimate similarity transforms per image from adjusted GDF.\"\"\"\n",
    "    transform_dict = {}\n",
    "\n",
    "    grouped = im_corner_gdf_adj.groupby(\"source_image\")\n",
    "\n",
    "    for source_image, gdf in grouped:\n",
    "        if len(gdf) < 3:\n",
    "            print(f\"Skipping {source_image}: not enough points.\")\n",
    "            continue\n",
    "        \n",
    "        coords_adj = getCoordsGDF(gdf)\n",
    "\n",
    "        transform = similarityTransformation(\n",
    "            gdf[\"orig_x\"].values, gdf[\"orig_y\"].values,\n",
    "            coords_adj[:, 0], coords_adj[:, 1], rotation_limit=5,\n",
    "            verbose=False\n",
    "        )\n",
    "\n",
    "        transform_dict[source_image] = transform\n",
    "\n",
    "    return transform_dict"
   ]
  },
  {
   "cell_type": "code",
   "execution_count": 15,
   "id": "7186201f",
   "metadata": {},
   "outputs": [],
   "source": [
    "detector_conf_thresh = 0.05\n",
    "\n",
    "registration_kwds = {\n",
    "    \"distance_threshold\": 30,\n",
    "    \"n_iters\": 10,\n",
    "    \"r_min\": 250,\n",
    "    \"r_initial\": 300,\n",
    "    \"ratio_threshold\": 0.95,\n",
    "    \"r_change\": 0.95, \n",
    "    \"dbscan_ini\": 0.1,\n",
    "    \"dbscan_max\": 0.2,\n",
    "    \"n_internal_passes\" : 1,\n",
    "    \"gcps\": None,\n",
    "    \"verbose\": 5,\n",
    "    \"logging_dir\": f\"{registration_dir}/logs/\"\n",
    "}"
   ]
  },
  {
   "cell_type": "code",
   "execution_count": 13,
   "id": "a0cfbcdb",
   "metadata": {},
   "outputs": [],
   "source": [
    "corners = corners.to_crs(\"EPSG:3857\")"
   ]
  },
  {
   "cell_type": "code",
   "execution_count": 16,
   "id": "777df4d4",
   "metadata": {},
   "outputs": [
    {
     "name": "stdout",
     "output_type": "stream",
     "text": [
      "D:\\CaseStudies_CoH_FineAdjustDigitization1\\ReRegisterCoH\\\\focus\\4802960055B.tif\n",
      "1007 / 3435\n",
      "Enter Matching\n"
     ]
    },
    {
     "data": {
      "application/vnd.jupyter.widget-view+json": {
       "model_id": "773a9cf8526643e79e610e8186b7f4ae",
       "version_major": 2,
       "version_minor": 0
      },
      "text/plain": [
       "Calculating Descriptors:   0%|          | 0/3072 [00:00<?, ?it/s]"
      ]
     },
     "metadata": {},
     "output_type": "display_data"
    },
    {
     "data": {
      "application/vnd.jupyter.widget-view+json": {
       "model_id": "21886d82c3104cdf91f357c203f02178",
       "version_major": 2,
       "version_minor": 0
      },
      "text/plain": [
       "Calculating Descriptors:   0%|          | 0/999 [00:00<?, ?it/s]"
      ]
     },
     "metadata": {},
     "output_type": "display_data"
    },
    {
     "data": {
      "application/vnd.jupyter.widget-view+json": {
       "model_id": "ba09fa22b4ca46e8926c3893e05c62ce",
       "version_major": 2,
       "version_minor": 0
      },
      "text/plain": [
       "Descriptor Matching (Flipped):   0%|          | 0/999 [00:00<?, ?it/s]"
      ]
     },
     "metadata": {},
     "output_type": "display_data"
    },
    {
     "name": "stdout",
     "output_type": "stream",
     "text": [
      "459\n",
      "IDX 458\n",
      "DISTNACE 458\n",
      "DBSCAN 458\n",
      "INTERSECT 458\n",
      "459\n",
      "[  0   1   2   3   4   5   6   7   8   9  10  11  12  13  14  15  16  17  18  19  20  21  22  23  24  25  26  27  28  29  30  31  32  33  34  35  36  37  38  39  40  41  42  43  44  45  46  47  48  49  50  51  52  53  54  55  56  57  58  59  60  61  62  63  64  65  66  67  68  69  70  71  72  73  74  75  76  77  78\n",
      "  79  80  81  82  83  84  85  86  87  88  89  90  91  92  93  94  95  96  97  98  99 100 101 102 103 104 105 106 107 108 109 110 111 112 113 114 115 116 117 118 119 120 121 122 123 124 125 126 127 128 129 130 131 132 133 134 135 136 137 138 139 140 141 142 143 144 145 146 147 148 149 150 151 152 153 154 155 156 157\n",
      " 158 159 160 161 162 163 164 165 166 167 168 169 170 171 172 173 174 175 176 177 178 179 180 181 182 183 184 185 186 187 188 189 190 191 192 193 194 195 196 197 198 199 200 201 202 203 204 205 206 207 208 209 210 211 212 213 214 215 216 217 218 219 220 221 222 223 224 225 226 227 228 229 230 231 232 233 234 235 236\n",
      " 237 238 239 240 241 242 243 244 245 246 247 248 249 250 251 252 253 254 255 256 257 258 259 260 261 262 263 264 265 266 267 268 269 270 271 272 273 274 275 276 277 278 279 280 281 282 283 284 285 286 287 288 289 290 291 292 293 294 295 296 297 298 299 300 301 302 303 304 305 306 307 308 309 310 311 312 313 314 315\n",
      " 316 317 318 319 320 321 322 323 324 325 326 327 328 329 330 331 332 333 334 335 336 337 338 339 340 341 342 343 344 345 346 347 348 349 350 351 352 353 354 355 356 357 358 359 360 361 362 363 364 365 366 367 368 369 370 371 372 373 374 375 376 377 378 379 380 381 382 383 384 385 386 387 388 389 390 391 392 393 394\n",
      " 395 396 397 398 399 400 401 402 403 404 405 406 407 408 409 410 411 412 413 414 415 416 417 418 419 420 421 422 423 424 425 426 427 428 429 430 431 432 433 434 435 436 437 438 439 440 441 442 443 444 445 446 447 448 449 450 451 452 453 454 455 456 457 458]\n",
      "[  1.69950072 139.43891352 204.72799468 254.53394849 298.79236411] 434 49\n",
      "Distances under 100: [44.26847485 24.55046492 39.36668788 15.63148548 84.99423069 93.18894911 94.1607939  84.10761146 85.63307783 82.23794234 67.7457706  75.86383693 99.20531011 31.36360149  1.69950072 83.72891407 68.36633522 63.52748077 79.91521202 90.14940401 63.65025252 92.43566928 92.06470393 52.93564482 56.91325232 58.44900909\n",
      " 66.24318983 71.12274627 93.94131803 97.96767125 58.66596634 55.37131809 59.54581565 55.59949313 50.03532374 34.90208844 95.11800967 41.89469768 62.58922551 84.23291034 87.54759365 98.90944954 43.07295925 97.76081578 35.83643266 87.58903489 82.47666597 64.67176939 96.58453488]\n",
      "Enter Matching\n"
     ]
    },
    {
     "data": {
      "application/vnd.jupyter.widget-view+json": {
       "model_id": "edf680592a9e4d56af29846427d4a1fc",
       "version_major": 2,
       "version_minor": 0
      },
      "text/plain": [
       "Descriptor Matching (Flipped):   0%|          | 0/999 [00:00<?, ?it/s]"
      ]
     },
     "metadata": {},
     "output_type": "display_data"
    },
    {
     "name": "stdout",
     "output_type": "stream",
     "text": [
      "Results Update: 434 470 333\n",
      "333\n",
      "IDX 332\n",
      "DISTNACE 332\n",
      "DBSCAN 332\n",
      "INTERSECT 332\n",
      "333\n",
      "[  0   1   2   3   4   5   6   7   8   9  10  11  12  13  14  15  16  17  18  19  20  21  22  23  24  25  26  27  28  29  30  31  32  33  34  35  36  37  38  39  40  41  42  43  44  45  46  47  48  49  50  51  52  53  54  55  56  57  58  59  60  61  62  63  64  65  66  67  68  69  70  71  72  73  74  75  76  77  78\n",
      "  79  80  81  82  83  84  85  86  87  88  89  90  91  92  93  94  95  96  97  98  99 100 101 102 103 104 105 106 107 108 109 110 111 112 113 114 115 116 117 118 119 120 121 122 123 124 125 126 127 128 129 130 131 132 133 134 135 136 137 138 139 140 141 142 143 144 145 146 147 148 149 150 151 152 153 154 155 156 157\n",
      " 158 159 160 161 162 163 164 165 166 167 168 169 170 171 172 173 174 175 176 177 178 179 180 181 182 183 184 185 186 187 188 189 190 191 192 193 194 195 196 197 198 199 200 201 202 203 204 205 206 207 208 209 210 211 212 213 214 215 216 217 218 219 220 221 222 223 224 225 226 227 228 229 230 231 232 233 234 235 236\n",
      " 237 238 239 240 241 242 243 244 245 246 247 248 249 250 251 252 253 254 255 256 257 258 259 260 261 262 263 264 265 266 267 268 269 270 271 272 273 274 275 276 277 278 279 280 281 282 283 284 285 286 287 288 289 290 291 292 293 294 295 296 297 298 299 300 301 302 303 304 305 306 307 308 309 310 311 312 313 314 315\n",
      " 316 317 318 319 320 321 322 323 324 325 326 327 328 329 330 331 332]\n",
      "[ 25.08681632 137.73638608 199.58853527 244.85424622 284.62013374] 299 28\n",
      "Distances under 100: [97.22116323 27.59415702 29.16135224 55.72859783 93.27285965 65.37936157 66.36681462 77.39584603 56.233292   98.33511702 94.92807447 37.7542054  42.42438438 52.0792228  79.39723051 60.74952662 77.27910341 53.74624992 95.32088541 66.58788541 62.70908675 98.41522565 25.08681632 90.36919244 32.3228209  77.88200048\n",
      " 92.70193133 93.05853646]\n",
      "Enter Matching\n"
     ]
    },
    {
     "data": {
      "application/vnd.jupyter.widget-view+json": {
       "model_id": "c87dc1a5deca4ea0888a448f1dfe3fe6",
       "version_major": 2,
       "version_minor": 0
      },
      "text/plain": [
       "Descriptor Matching (Flipped):   0%|          | 0/999 [00:00<?, ?it/s]"
      ]
     },
     "metadata": {},
     "output_type": "display_data"
    },
    {
     "name": "stdout",
     "output_type": "stream",
     "text": [
      "Results Update: 299 428 347\n",
      "347\n",
      "IDX 346\n",
      "DISTNACE 346\n",
      "DBSCAN 346\n",
      "INTERSECT 346\n",
      "347\n",
      "[  0   1   2   3   4   5   6   7   8   9  10  11  12  13  14  15  16  17  18  19  20  21  22  23  24  25  26  27  28  29  30  31  32  33  34  35  36  37  38  39  40  41  42  43  44  45  46  47  48  49  50  51  52  53  54  55  56  57  58  59  60  61  62  63  64  65  66  67  68  69  70  71  72  73  74  75  76  77  78\n",
      "  79  80  81  82  83  84  85  86  87  88  89  90  91  92  93  94  95  96  97  98  99 100 101 102 103 104 105 106 107 108 109 110 111 112 113 114 115 116 117 118 119 120 121 122 123 124 125 126 127 128 129 130 131 132 133 134 135 136 137 138 139 140 141 142 143 144 145 146 147 148 149 150 151 152 153 154 155 156 157\n",
      " 158 159 160 161 162 163 164 165 166 167 168 169 170 171 172 173 174 175 176 177 178 179 180 181 182 183 184 185 186 187 188 189 190 191 192 193 194 195 196 197 198 199 200 201 202 203 204 205 206 207 208 209 210 211 212 213 214 215 216 217 218 219 220 221 222 223 224 225 226 227 228 229 230 231 232 233 234 235 236\n",
      " 237 238 239 240 241 242 243 244 245 246 247 248 249 250 251 252 253 254 255 256 257 258 259 260 261 262 263 264 265 266 267 268 269 270 271 272 273 274 275 276 277 278 279 280 281 282 283 284 285 286 287 288 289 290 291 292 293 294 295 296 297 298 299 300 301 302 303 304 305 306 307 308 309 310 311 312 313 314 315\n",
      " 316 317 318 319 320 321 322 323 324 325 326 327 328 329 330 331 332 333 334 335 336 337 338 339 340 341 342 343 344 345 346]\n",
      "[ 17.26417806 127.635637   180.5157328  226.60831978 270.30856586] 310 46\n",
      "Distances under 100: [69.72133101 85.54066067 24.39872776 51.90077318 79.93837743 92.32534124 82.22979127 36.42799888 45.11914386 72.61947645 62.49392917 92.79720383 83.22870579 53.41867669 55.51897844 48.09344629 54.04283697 64.49363761 92.14237235 68.87111177 82.74174748 63.8008934  78.23412564 48.42565382 96.5626174  91.76910867\n",
      " 92.06404365 87.07212942 74.04135221 67.68341305 93.21251442 93.83781647 92.30244767 96.64477574 43.24169541 17.26417806 95.43818034 72.13664457 86.55527221 99.815367   60.02638651 90.58462397 89.71318708 75.48253859 84.73532044 79.95566054]\n",
      "Enter Matching\n"
     ]
    },
    {
     "data": {
      "application/vnd.jupyter.widget-view+json": {
       "model_id": "3a14395be8b84f9d898592017927a09c",
       "version_major": 2,
       "version_minor": 0
      },
      "text/plain": [
       "Descriptor Matching (Flipped):   0%|          | 0/999 [00:00<?, ?it/s]"
      ]
     },
     "metadata": {},
     "output_type": "display_data"
    },
    {
     "name": "stdout",
     "output_type": "stream",
     "text": [
      "Results Update: 310 438 382\n",
      "382\n",
      "IDX 381\n",
      "DISTNACE 381\n",
      "DBSCAN 381\n",
      "INTERSECT 381\n",
      "382\n",
      "[  0   1   2   3   4   5   6   7   8   9  10  11  12  13  14  15  16  17  18  19  20  21  22  23  24  25  26  27  28  29  30  31  32  33  34  35  36  37  38  39  40  41  42  43  44  45  46  47  48  49  50  51  52  53  54  55  56  57  58  59  60  61  62  63  64  65  66  67  68  69  70  71  72  73  74  75  76  77  78\n",
      "  79  80  81  82  83  84  85  86  87  88  89  90  91  92  93  94  95  96  97  98  99 100 101 102 103 104 105 106 107 108 109 110 111 112 113 114 115 116 117 118 119 120 121 122 123 124 125 126 127 128 129 130 131 132 133 134 135 136 137 138 139 140 141 142 143 144 145 146 147 148 149 150 151 152 153 154 155 156 157\n",
      " 158 159 160 161 162 163 164 165 166 167 168 169 170 171 172 173 174 175 176 177 178 179 180 181 182 183 184 185 186 187 188 189 190 191 192 193 194 195 196 197 198 199 200 201 202 203 204 205 206 207 208 209 210 211 212 213 214 215 216 217 218 219 220 221 222 223 224 225 226 227 228 229 230 231 232 233 234 235 236\n",
      " 237 238 239 240 241 242 243 244 245 246 247 248 249 250 251 252 253 254 255 256 257 258 259 260 261 262 263 264 265 266 267 268 269 270 271 272 273 274 275 276 277 278 279 280 281 282 283 284 285 286 287 288 289 290 291 292 293 294 295 296 297 298 299 300 301 302 303 304 305 306 307 308 309 310 311 312 313 314 315\n",
      " 316 317 318 319 320 321 322 323 324 325 326 327 328 329 330 331 332 333 334 335 336 337 338 339 340 341 342 343 344 345 346 347 348 349 350 351 352 353 354 355 356 357 358 359 360 361 362 363 364 365 366 367 368 369 370 371 372 373 374 375 376 377 378 379 380 381]\n",
      "[ 17.44011335 128.29460204 173.76927692 212.57991087 256.93867897] 348 48\n",
      "Distances under 100: [62.8432811  77.10939311 65.40328316 90.90639474 94.47212047 76.92236621 37.98510067 28.52621637 77.37405511 62.3670972  92.52468601 87.23675163 54.03126425 88.74721685 56.0998944  99.8199322  35.32415815 64.86612836 63.01931612 90.85308332 55.09514268 95.21894949 52.15221051 97.61141764 65.82725022 74.08036312\n",
      " 48.53135908 78.64302082 88.97104731 72.10042703 82.52423382 68.59494273 88.82312552 82.39851441 92.77843395 91.24800469 53.71620487 98.64838355 67.97446532 95.88065664 92.77946802 99.26659655 95.0959309  66.10504868 88.01991778 89.0917592  17.44011335 75.57391472]\n",
      "Enter Matching\n"
     ]
    },
    {
     "data": {
      "application/vnd.jupyter.widget-view+json": {
       "model_id": "d1f7dcebc9bd4aa1802848c2a71c40dd",
       "version_major": 2,
       "version_minor": 0
      },
      "text/plain": [
       "Descriptor Matching (Flipped):   0%|          | 0/999 [00:00<?, ?it/s]"
      ]
     },
     "metadata": {},
     "output_type": "display_data"
    },
    {
     "name": "stdout",
     "output_type": "stream",
     "text": [
      "Results Update: 348 435 416\n",
      "416\n",
      "IDX 415\n",
      "DISTNACE 415\n",
      "DBSCAN 415\n",
      "INTERSECT 415\n",
      "416\n",
      "[  0   1   2   3   4   5   6   7   8   9  10  11  12  13  14  15  16  17  18  19  20  21  22  23  24  25  26  27  28  29  30  31  32  33  34  35  36  37  38  39  40  41  42  43  44  45  46  47  48  49  50  51  52  53  54  55  56  57  58  59  60  61  62  63  64  65  66  67  68  69  70  71  72  73  74  75  76  77  78\n",
      "  79  80  81  82  83  84  85  86  87  88  89  90  91  92  93  94  95  96  97  98  99 100 101 102 103 104 105 106 107 108 109 110 111 112 113 114 115 116 117 118 119 120 121 122 123 124 125 126 127 128 129 130 131 132 133 134 135 136 137 138 139 140 141 142 143 144 145 146 147 148 149 150 151 152 153 154 155 156 157\n",
      " 158 159 160 161 162 163 164 165 166 167 168 169 170 171 172 173 174 175 176 177 178 179 180 181 182 183 184 185 186 187 188 189 190 191 192 193 194 195 196 197 198 199 200 201 202 203 204 205 206 207 208 209 210 211 212 213 214 215 216 217 218 219 220 221 222 223 224 225 226 227 228 229 230 231 232 233 234 235 236\n",
      " 237 238 239 240 241 242 243 244 245 246 247 248 249 250 251 252 253 254 255 256 257 258 259 260 261 262 263 264 265 266 267 268 269 270 271 272 273 274 275 276 277 278 279 280 281 282 283 284 285 286 287 288 289 290 291 292 293 294 295 296 297 298 299 300 301 302 303 304 305 306 307 308 309 310 311 312 313 314 315\n",
      " 316 317 318 319 320 321 322 323 324 325 326 327 328 329 330 331 332 333 334 335 336 337 338 339 340 341 342 343 344 345 346 347 348 349 350 351 352 353 354 355 356 357 358 359 360 361 362 363 364 365 366 367 368 369 370 371 372 373 374 375 376 377 378 379 380 381 382 383 384 385 386 387 388 389 390 391 392 393 394\n",
      " 395 396 397 398 399 400 401 402 403 404 405 406 407 408 409 410 411 412 413 414 415]\n",
      "[  3.6904382  122.36324402 157.83000582 202.97118232 249.57214779] 383 55\n",
      "Distances under 100: [52.89419708 72.21150269 81.54946702 94.24722622 37.89375881 13.39536566 83.84932366 70.30910689 56.37375433 80.17215485 94.09919941 40.78834742 92.84448804 57.90701373 58.22027716 20.70669024 61.69248092 87.7240329  72.59489117 81.63436282 93.75955973 99.39816164 52.46044393 65.86721626 65.49844672 92.12708389\n",
      " 49.04388556 88.60115365 97.31745239 59.37024905 90.58543691 71.21289237 92.05815    80.75026523 69.02313025 82.15386515 65.14839211 94.6434229  59.78024342 82.13208919 90.92145385 71.32217624 55.5925489   3.6904382  96.67118904 94.20268669 88.81732948 35.33643034 18.01875032 86.40301674 94.05076026 57.10286876\n",
      " 33.97904399 99.61016179 54.35241961]\n",
      "Enter Matching\n"
     ]
    },
    {
     "data": {
      "application/vnd.jupyter.widget-view+json": {
       "model_id": "fc3cdd9fcd104deba0e434419ab69080",
       "version_major": 2,
       "version_minor": 0
      },
      "text/plain": [
       "Descriptor Matching (Flipped):   0%|          | 0/999 [00:00<?, ?it/s]"
      ]
     },
     "metadata": {},
     "output_type": "display_data"
    },
    {
     "name": "stdout",
     "output_type": "stream",
     "text": [
      "Results Update: 383 444 482\n",
      "482\n",
      "IDX 481\n",
      "DISTNACE 481\n",
      "DBSCAN 481\n",
      "INTERSECT 481\n",
      "482\n",
      "[  0   1   2   3   4   5   6   7   8   9  10  11  12  13  14  15  16  17  18  19  20  21  22  23  24  25  26  27  28  29  30  31  32  33  34  35  36  37  38  39  40  41  42  43  44  45  46  47  48  49  50  51  52  53  54  55  56  57  58  59  60  61  62  63  64  65  66  67  68  69  70  71  72  73  74  75  76  77  78\n",
      "  79  80  81  82  83  84  85  86  87  88  89  90  91  92  93  94  95  96  97  98  99 100 101 102 103 104 105 106 107 108 109 110 111 112 113 114 115 116 117 118 119 120 121 122 123 124 125 126 127 128 129 130 131 132 133 134 135 136 137 138 139 140 141 142 143 144 145 146 147 148 149 150 151 152 153 154 155 156 157\n",
      " 158 159 160 161 162 163 164 165 166 167 168 169 170 171 172 173 174 175 176 177 178 179 180 181 182 183 184 185 186 187 188 189 190 191 192 193 194 195 196 197 198 199 200 201 202 203 204 205 206 207 208 209 210 211 212 213 214 215 216 217 218 219 220 221 222 223 224 225 226 227 228 229 230 231 232 233 234 235 236\n",
      " 237 238 239 240 241 242 243 244 245 246 247 248 249 250 251 252 253 254 255 256 257 258 259 260 261 262 263 264 265 266 267 268 269 270 271 272 273 274 275 276 277 278 279 280 281 282 283 284 285 286 287 288 289 290 291 292 293 294 295 296 297 298 299 300 301 302 303 304 305 306 307 308 309 310 311 312 313 314 315\n",
      " 316 317 318 319 320 321 322 323 324 325 326 327 328 329 330 331 332 333 334 335 336 337 338 339 340 341 342 343 344 345 346 347 348 349 350 351 352 353 354 355 356 357 358 359 360 361 362 363 364 365 366 367 368 369 370 371 372 373 374 375 376 377 378 379 380 381 382 383 384 385 386 387 388 389 390 391 392 393 394\n",
      " 395 396 397 398 399 400 401 402 403 404 405 406 407 408 409 410 411 412 413 414 415 416 417 418 419 420 421 422 423 424 425 426 427 428 429 430 431 432 433 434 435 436 437 438 439 440 441 442 443 444 445 446 447 448 449 450 451 452 453 454 455 456 457 458 459 460 461 462 463 464 465 466 467 468 469 470 471 472 473\n",
      " 474 475 476 477 478 479 480 481]\n",
      "[  9.55217588 114.51513608 155.82276627 200.86700309 248.61504944] 454 76\n",
      "Distances under 100: [49.43411491 69.93504008 86.8688464  38.87320613 10.94354181 81.44508013 74.15927296 59.98053381 81.53865793 92.28357894 37.6274274  86.82520328 63.89013844 55.51902698 16.50700749 57.05889963 90.6918002  78.60883818 78.28123484 93.06336384 55.23724318 62.64421716 59.94415537 93.35657304 50.42909726 99.66114268\n",
      " 94.22508223 98.90850999 89.93642223 55.77027419 91.24190096 70.10829489 91.3513032  34.62961319 66.28632355 79.69739807 72.15310897 99.99416061 57.08792107 98.61514699 77.11793741 87.31645283 92.71645881 32.0364433  67.13322474  9.55217588 48.77304772 96.52927329 88.89209368 95.16556588 94.26014452 34.40061107\n",
      " 10.34586109 72.29429224 90.97896922 36.57048974 89.72359877 62.69834252 30.81802963 77.61546544 98.06887487 47.12650185 46.45779639 78.13668835 97.70013468 59.06589941 17.14324363 95.06299692 79.16493962 87.20125082 30.74282331 76.86896829 58.59181716 85.04342912 82.88484259 97.17017403]\n",
      "Enter Matching\n"
     ]
    },
    {
     "data": {
      "application/vnd.jupyter.widget-view+json": {
       "model_id": "1c7be9dd67db43a481238a69b4a5aac2",
       "version_major": 2,
       "version_minor": 0
      },
      "text/plain": [
       "Descriptor Matching (Flipped):   0%|          | 0/999 [00:00<?, ?it/s]"
      ]
     },
     "metadata": {},
     "output_type": "display_data"
    },
    {
     "name": "stdout",
     "output_type": "stream",
     "text": [
      "Results Update: 454 465 553\n",
      "553\n",
      "IDX 552\n",
      "DISTNACE 552\n",
      "DBSCAN 552\n",
      "INTERSECT 552\n",
      "553\n",
      "[  0   1   2   3   4   5   6   7   8   9  10  11  12  13  14  15  16  17  18  19  20  21  22  23  24  25  26  27  28  29  30  31  32  33  34  35  36  37  38  39  40  41  42  43  44  45  46  47  48  49  50  51  52  53  54  55  56  57  58  59  60  61  62  63  64  65  66  67  68  69  70  71  72  73  74  75  76  77  78\n",
      "  79  80  81  82  83  84  85  86  87  88  89  90  91  92  93  94  95  96  97  98  99 100 101 102 103 104 105 106 107 108 109 110 111 112 113 114 115 116 117 118 119 120 121 122 123 124 125 126 127 128 129 130 131 132 133 134 135 136 137 138 139 140 141 142 143 144 145 146 147 148 149 150 151 152 153 154 155 156 157\n",
      " 158 159 160 161 162 163 164 165 166 167 168 169 170 171 172 173 174 175 176 177 178 179 180 181 182 183 184 185 186 187 188 189 190 191 192 193 194 195 196 197 198 199 200 201 202 203 204 205 206 207 208 209 210 211 212 213 214 215 216 217 218 219 220 221 222 223 224 225 226 227 228 229 230 231 232 233 234 235 236\n",
      " 237 238 239 240 241 242 243 244 245 246 247 248 249 250 251 252 253 254 255 256 257 258 259 260 261 262 263 264 265 266 267 268 269 270 271 272 273 274 275 276 277 278 279 280 281 282 283 284 285 286 287 288 289 290 291 292 293 294 295 296 297 298 299 300 301 302 303 304 305 306 307 308 309 310 311 312 313 314 315\n",
      " 316 317 318 319 320 321 322 323 324 325 326 327 328 329 330 331 332 333 334 335 336 337 338 339 340 341 342 343 344 345 346 347 348 349 350 351 352 353 354 355 356 357 358 359 360 361 362 363 364 365 366 367 368 369 370 371 372 373 374 375 376 377 378 379 380 381 382 383 384 385 386 387 388 389 390 391 392 393 394\n",
      " 395 396 397 398 399 400 401 402 403 404 405 406 407 408 409 410 411 412 413 414 415 416 417 418 419 420 421 422 423 424 425 426 427 428 429 430 431 432 433 434 435 436 437 438 439 440 441 442 443 444 445 446 447 448 449 450 451 452 453 454 455 456 457 458 459 460 461 462 463 464 465 466 467 468 469 470 471 472 473\n",
      " 474 475 476 477 478 479 480 481 482 483 484 485 486 487 488 489 490 491 492 493 494 495 496 497 498 499 500 501 502 503 504 505 506 507 508 509 510 511 512 513 514 515 516 517 518 519 520 521 522 523 524 525 526 527 528 529 530 531 532 533 534 535 536 537 538 539 540 541 542 543 544 545 546 547 548 549 550 551 552]\n",
      "[  4.4222045  111.91149009 155.40635758 195.95585884 249.99705894] 526 96\n",
      "Distances under 100: [57.35143878 58.25838219 94.61449911 95.71628096 94.501507   52.15914468  4.4222045  77.7635857  72.85838214 65.5009555  86.6834959  82.9524129  35.9813933  86.0181274  71.63544882 95.56556562 17.83002973 91.43316739 48.88434163 92.84242608 85.35177988 72.56320485 92.47169186 97.66219729 65.97560919 56.38899637\n",
      " 57.74939888 62.64044788 98.47630301 58.45872671 77.86309161 42.06101198 75.16984283 79.35833222 43.26482212 64.18018729 82.44523638 94.57756216 82.24627823 73.98483713 89.67106711 92.28467055 27.78835317 56.35090305 20.3374884  59.72063841 89.15045537 79.7417985  87.16018871 99.62646522 47.32258882  9.97462554\n",
      " 30.44104307 61.42298223 84.67782881 96.06699655 98.24134714 97.31561254 70.5669424  24.64703754 80.80224289 72.43088827 88.66547034 41.83200552 89.37044123 40.54254308 95.64066315 35.97446174 86.85873536 55.82885245 92.59449725 17.8836329  88.14059498 73.73048772 80.89010993 16.37790658 69.16921222 98.94277107\n",
      " 97.1073429  49.51176234 88.95352851 96.8474305  96.73899916 96.62517233 79.37173405 89.35142974 70.08719003 34.02697623 70.29072871 81.24242874 66.82315988 85.59363265 82.86675937 89.69652573 20.22785981 48.24813576]\n",
      "Enter Matching\n"
     ]
    },
    {
     "data": {
      "application/vnd.jupyter.widget-view+json": {
       "model_id": "75aa124a3d464903a6133a937c4af2dc",
       "version_major": 2,
       "version_minor": 0
      },
      "text/plain": [
       "Descriptor Matching (Flipped):   0%|          | 0/999 [00:00<?, ?it/s]"
      ]
     },
     "metadata": {},
     "output_type": "display_data"
    },
    {
     "name": "stdout",
     "output_type": "stream",
     "text": [
      "Results Update: 526 478 608\n",
      "608\n",
      "IDX 607\n",
      "DISTNACE 607\n",
      "DBSCAN 607\n",
      "INTERSECT 607\n",
      "608\n",
      "[  0   1   2   3   4   5   6   7   8   9  10  11  12  13  14  15  16  17  18  19  20  21  22  23  24  25  26  27  28  29  30  31  32  33  34  35  36  37  38  39  40  41  42  43  44  45  46  47  48  49  50  51  52  53  54  55  56  57  58  59  60  61  62  63  64  65  66  67  68  69  70  71  72  73  74  75  76  77  78\n",
      "  79  80  81  82  83  84  85  86  87  88  89  90  91  92  93  94  95  96  97  98  99 100 101 102 103 104 105 106 107 108 109 110 111 112 113 114 115 116 117 118 119 120 121 122 123 124 125 126 127 128 129 130 131 132 133 134 135 136 137 138 139 140 141 142 143 144 145 146 147 148 149 150 151 152 153 154 155 156 157\n",
      " 158 159 160 161 162 163 164 165 166 167 168 169 170 171 172 173 174 175 176 177 178 179 180 181 182 183 184 185 186 187 188 189 190 191 192 193 194 195 196 197 198 199 200 201 202 203 204 205 206 207 208 209 210 211 212 213 214 215 216 217 218 219 220 221 222 223 224 225 226 227 228 229 230 231 232 233 234 235 236\n",
      " 237 238 239 240 241 242 243 244 245 246 247 248 249 250 251 252 253 254 255 256 257 258 259 260 261 262 263 264 265 266 267 268 269 270 271 272 273 274 275 276 277 278 279 280 281 282 283 284 285 286 287 288 289 290 291 292 293 294 295 296 297 298 299 300 301 302 303 304 305 306 307 308 309 310 311 312 313 314 315\n",
      " 316 317 318 319 320 321 322 323 324 325 326 327 328 329 330 331 332 333 334 335 336 337 338 339 340 341 342 343 344 345 346 347 348 349 350 351 352 353 354 355 356 357 358 359 360 361 362 363 364 365 366 367 368 369 370 371 372 373 374 375 376 377 378 379 380 381 382 383 384 385 386 387 388 389 390 391 392 393 394\n",
      " 395 396 397 398 399 400 401 402 403 404 405 406 407 408 409 410 411 412 413 414 415 416 417 418 419 420 421 422 423 424 425 426 427 428 429 430 431 432 433 434 435 436 437 438 439 440 441 442 443 444 445 446 447 448 449 450 451 452 453 454 455 456 457 458 459 460 461 462 463 464 465 466 467 468 469 470 471 472 473\n",
      " 474 475 476 477 478 479 480 481 482 483 484 485 486 487 488 489 490 491 492 493 494 495 496 497 498 499 500 501 502 503 504 505 506 507 508 509 510 511 512 513 514 515 516 517 518 519 520 521 522 523 524 525 526 527 528 529 530 531 532 533 534 535 536 537 538 539 540 541 542 543 544 545 546 547 548 549 550 551 552\n",
      " 553 554 555 556 557 558 559 560 561 562 563 564 565 566 567 568 569 570 571 572 573 574 575 576 577 578 579 580 581 582 583 584 585 586 587 588 589 590 591 592 593 594 595 596 597 598 599 600 601 602 603 604 605 606 607]\n",
      "[  8.44880412 110.07506632 151.59792343 192.71473624 249.41860024] 588 118\n",
      "Distances under 100: [65.35228236 50.9394645  92.57225205 85.25980361 87.05619622 64.10534415 17.17255022 80.6931491  72.94857829 81.88189478 64.39644475 87.53258659 75.9034068  99.5678425  35.3984614  91.25997661 72.61005285 91.07301549 23.5264755  89.38415665 47.40613757 91.78560241 94.03221058 99.81893585 67.27019144 98.69847931\n",
      " 88.64960944 72.41687991 56.63422059 59.19675145 71.4885288  95.36170756 54.47870559 99.15882304 99.07742118 69.64894643 30.45673089 78.17407717 67.73920134 54.86213146 61.64323683 84.753066   92.47957667 88.56859698 93.68354729 73.37785669 92.27817026 84.20137968 25.53449682 47.62027062 97.08134857 32.0189038\n",
      " 76.68688357 74.61031179 82.09526612 96.93079834 58.95627841 38.30209033 12.70550937 38.71394311 96.6403785  90.72348521 80.53638237 85.39123247 88.94448327 87.76636649 89.30731795 71.80500219 24.87245882 84.22049699 72.79605365 85.84966848 46.6085465  79.93351811 41.31235363 99.18573827 97.24940318 90.17501412\n",
      " 32.41010886 78.07797847 58.87425724 89.79093633 17.08518685 86.77178772 61.38193724 85.12390365  8.44880412 52.23262366 67.76974374 93.52307127 98.5093898  45.02510445 94.08626219 85.54073766 99.56272905 94.65707075 48.13682656 73.95957984 42.44473215 72.36226826 80.66583399 88.40272111 91.03071027 83.79096325\n",
      " 16.55876304 38.89261717 45.12712682 47.14126641 57.36822858 61.10406488 18.9534244  80.72875725 82.41477586 95.3260019  11.21753755 77.17509988 87.56039268 51.22288011]\n",
      "Enter Matching\n"
     ]
    },
    {
     "data": {
      "application/vnd.jupyter.widget-view+json": {
       "model_id": "eabb24866cb4493790f8c1a200854b36",
       "version_major": 2,
       "version_minor": 0
      },
      "text/plain": [
       "Descriptor Matching (Flipped):   0%|          | 0/999 [00:00<?, ?it/s]"
      ]
     },
     "metadata": {},
     "output_type": "display_data"
    },
    {
     "name": "stdout",
     "output_type": "stream",
     "text": [
      "Results Update: 588 491 678\n",
      "678\n",
      "IDX 677\n",
      "DISTNACE 677\n",
      "DBSCAN 677\n",
      "INTERSECT 677\n",
      "678\n",
      "[  0   1   2   3   4   5   6   7   8   9  10  11  12  13  14  15  16  17  18  19  20  21  22  23  24  25  26  27  28  29  30  31  32  33  34  35  36  37  38  39  40  41  42  43  44  45  46  47  48  49  50  51  52  53  54  55  56  57  58  59  60  61  62  63  64  65  66  67  68  69  70  71  72  73  74  75  76  77  78\n",
      "  79  80  81  82  83  84  85  86  87  88  89  90  91  92  93  94  95  96  97  98  99 100 101 102 103 104 105 106 107 108 109 110 111 112 113 114 115 116 117 118 119 120 121 122 123 124 125 126 127 128 129 130 131 132 133 134 135 136 137 138 139 140 141 142 143 144 145 146 147 148 149 150 151 152 153 154 155 156 157\n",
      " 158 159 160 161 162 163 164 165 166 167 168 169 170 171 172 173 174 175 176 177 178 179 180 181 182 183 184 185 186 187 188 189 190 191 192 193 194 195 196 197 198 199 200 201 202 203 204 205 206 207 208 209 210 211 212 213 214 215 216 217 218 219 220 221 222 223 224 225 226 227 228 229 230 231 232 233 234 235 236\n",
      " 237 238 239 240 241 242 243 244 245 246 247 248 249 250 251 252 253 254 255 256 257 258 259 260 261 262 263 264 265 266 267 268 269 270 271 272 273 274 275 276 277 278 279 280 281 282 283 284 285 286 287 288 289 290 291 292 293 294 295 296 297 298 299 300 301 302 303 304 305 306 307 308 309 310 311 312 313 314 315\n",
      " 316 317 318 319 320 321 322 323 324 325 326 327 328 329 330 331 332 333 334 335 336 337 338 339 340 341 342 343 344 345 346 347 348 349 350 351 352 353 354 355 356 357 358 359 360 361 362 363 364 365 366 367 368 369 370 371 372 373 374 375 376 377 378 379 380 381 382 383 384 385 386 387 388 389 390 391 392 393 394\n",
      " 395 396 397 398 399 400 401 402 403 404 405 406 407 408 409 410 411 412 413 414 415 416 417 418 419 420 421 422 423 424 425 426 427 428 429 430 431 432 433 434 435 436 437 438 439 440 441 442 443 444 445 446 447 448 449 450 451 452 453 454 455 456 457 458 459 460 461 462 463 464 465 466 467 468 469 470 471 472 473\n",
      " 474 475 476 477 478 479 480 481 482 483 484 485 486 487 488 489 490 491 492 493 494 495 496 497 498 499 500 501 502 503 504 505 506 507 508 509 510 511 512 513 514 515 516 517 518 519 520 521 522 523 524 525 526 527 528 529 530 531 532 533 534 535 536 537 538 539 540 541 542 543 544 545 546 547 548 549 550 551 552\n",
      " 553 554 555 556 557 558 559 560 561 562 563 564 565 566 567 568 569 570 571 572 573 574 575 576 577 578 579 580 581 582 583 584 585 586 587 588 589 590 591 592 593 594 595 596 597 598 599 600 601 602 603 604 605 606 607 608 609 610 611 612 613 614 615 616 617 618 619 620 621 622 623 624 625 626 627 628 629 630 631\n",
      " 632 633 634 635 636 637 638 639 640 641 642 643 644 645 646 647 648 649 650 651 652 653 654 655 656 657 658 659 660 661 662 663 664 665 666 667 668 669 670 671 672 673 674 675 676 677]\n",
      "[ 13.69213883 109.99109872 148.3737468  188.33952996 249.92322783] 648 126\n",
      "Distances under 100: [72.86594357 93.4002417  98.47531609 79.78934664 99.41794382 66.0917211  20.82825988 75.41132122 66.0527708  91.38561242 69.31477863 93.59966967 94.91379886 73.25936489 97.70076461 42.98285344 91.81643271 74.8989159  82.05118196 31.13050296 82.25125745 43.25469302 87.86278876 73.17949057 92.43807909 95.91942262\n",
      " 76.78003592 50.75604146 62.13423027 77.26214598 98.12902287 75.36352622 32.10791315 83.46016252 60.30770711 69.08698988 90.33756879 90.63618453 93.71505676 86.68183738 77.77366173 98.98352297 86.61112979 22.14342404 51.54729097 92.82638937 33.10384887 80.48468841 75.58592233 91.01465195 83.35985864 81.02527088\n",
      " 63.85453049 40.61951873 16.53331292 37.93947446 94.58200647 87.40698949 79.67576925 89.2838249  90.58981319 46.44780559 19.0336643  94.13552655 77.2586515  45.10963647 81.16825614 40.37138039 95.51643277 41.34944824 80.0729686  92.72039093 89.9065814  14.11554608 23.25415349 90.8787221  61.55294293 95.11727047\n",
      " 72.02633644 18.9345039  93.6493423  68.4672529  94.69500737 99.24276032 34.01489119 88.93497333 93.6836699  97.73774266 99.95506678 98.02431466 43.9177482  78.80760747 52.6722226  72.86756626 75.12559035 88.63033605 97.10143395 87.83104205 30.69596071 39.28964133 63.94360087 59.23608956 80.51699136 84.37514451\n",
      " 92.60072701 13.69213883 83.12816524 87.57273426 98.29566559 57.01304222 48.23373075 97.42680054 80.01873011 83.99332568 73.98505984 53.36635804 77.74696764 88.27485843 75.18000352 99.77755506 73.98738142 50.4196902  60.84767137 89.43203077 99.48664793 70.50993012]\n",
      "Enter Matching\n"
     ]
    },
    {
     "data": {
      "application/vnd.jupyter.widget-view+json": {
       "model_id": "87f9639c415a44ffbcd3604e31b25929",
       "version_major": 2,
       "version_minor": 0
      },
      "text/plain": [
       "Descriptor Matching (Flipped):   0%|          | 0/999 [00:00<?, ?it/s]"
      ]
     },
     "metadata": {},
     "output_type": "display_data"
    },
    {
     "name": "stdout",
     "output_type": "stream",
     "text": [
      "Results Update: 648 513 742\n",
      "742\n",
      "IDX 741\n",
      "DISTNACE 741\n",
      "DBSCAN 741\n",
      "INTERSECT 741\n",
      "742\n",
      "[  0   1   2   3   4   5   6   7   8   9  10  11  12  13  14  15  16  17  18  19  20  21  22  23  24  25  26  27  28  29  30  31  32  33  34  35  36  37  38  39  40  41  42  43  44  45  46  47  48  49  50  51  52  53  54  55  56  57  58  59  60  61  62  63  64  65  66  67  68  69  70  71  72  73  74  75  76  77  78\n",
      "  79  80  81  82  83  84  85  86  87  88  89  90  91  92  93  94  95  96  97  98  99 100 101 102 103 104 105 106 107 108 109 110 111 112 113 114 115 116 117 118 119 120 121 122 123 124 125 126 127 128 129 130 131 132 133 134 135 136 137 138 139 140 141 142 143 144 145 146 147 148 149 150 151 152 153 154 155 156 157\n",
      " 158 159 160 161 162 163 164 165 166 167 168 169 170 171 172 173 174 175 176 177 178 179 180 181 182 183 184 185 186 187 188 189 190 191 192 193 194 195 196 197 198 199 200 201 202 203 204 205 206 207 208 209 210 211 212 213 214 215 216 217 218 219 220 221 222 223 224 225 226 227 228 229 230 231 232 233 234 235 236\n",
      " 237 238 239 240 241 242 243 244 245 246 247 248 249 250 251 252 253 254 255 256 257 258 259 260 261 262 263 264 265 266 267 268 269 270 271 272 273 274 275 276 277 278 279 280 281 282 283 284 285 286 287 288 289 290 291 292 293 294 295 296 297 298 299 300 301 302 303 304 305 306 307 308 309 310 311 312 313 314 315\n",
      " 316 317 318 319 320 321 322 323 324 325 326 327 328 329 330 331 332 333 334 335 336 337 338 339 340 341 342 343 344 345 346 347 348 349 350 351 352 353 354 355 356 357 358 359 360 361 362 363 364 365 366 367 368 369 370 371 372 373 374 375 376 377 378 379 380 381 382 383 384 385 386 387 388 389 390 391 392 393 394\n",
      " 395 396 397 398 399 400 401 402 403 404 405 406 407 408 409 410 411 412 413 414 415 416 417 418 419 420 421 422 423 424 425 426 427 428 429 430 431 432 433 434 435 436 437 438 439 440 441 442 443 444 445 446 447 448 449 450 451 452 453 454 455 456 457 458 459 460 461 462 463 464 465 466 467 468 469 470 471 472 473\n",
      " 474 475 476 477 478 479 480 481 482 483 484 485 486 487 488 489 490 491 492 493 494 495 496 497 498 499 500 501 502 503 504 505 506 507 508 509 510 511 512 513 514 515 516 517 518 519 520 521 522 523 524 525 526 527 528 529 530 531 532 533 534 535 536 537 538 539 540 541 542 543 544 545 546 547 548 549 550 551 552\n",
      " 553 554 555 556 557 558 559 560 561 562 563 564 565 566 567 568 569 570 571 572 573 574 575 576 577 578 579 580 581 582 583 584 585 586 587 588 589 590 591 592 593 594 595 596 597 598 599 600 601 602 603 604 605 606 607 608 609 610 611 612 613 614 615 616 617 618 619 620 621 622 623 624 625 626 627 628 629 630 631\n",
      " 632 633 634 635 636 637 638 639 640 641 642 643 644 645 646 647 648 649 650 651 652 653 654 655 656 657 658 659 660 661 662 663 664 665 666 667 668 669 670 671 672 673 674 675 676 677 678 679 680 681 682 683 684 685 686 687 688 689 690 691 692 693 694 695 696 697 698 699 700 701 702 703 704 705 706 707 708 709 710\n",
      " 711 712 713 714 715 716 717 718 719 720 721 722 723 724 725 726 727 728 729 730 731 732 733 734 735 736 737 738 739 740 741]\n",
      "[ 12.98253307 108.28358739 145.05444089 189.12129435 249.8932502 ] 720 148\n",
      "Distances under 100: [75.11809277 90.89280465 79.06590264 92.94994087 68.88034856 23.93599774 70.49761208 68.07604791 92.80917163 75.76310425 98.97199581 92.06866915 71.02859297 92.16906686 45.8520339  77.75514798 82.44090393 79.71497569 34.59821413 75.68141655 36.26909856 94.17779797 90.23516504 99.05624647 73.86962729 88.40721432\n",
      " 82.15005455 15.27575355 59.91436053 81.73657888 97.88679504 69.78931627 28.9391769  85.59572418 71.44120515 92.2606727  85.30269401 92.5301402  95.62100036 76.37481268 80.86569641 22.57711056 49.6909234  36.77732358 78.51712569 71.03506248 84.27303481 88.3812954  83.12365335 76.76242957 66.80960477 44.32068983\n",
      " 43.62187475 15.44377459 41.96899188 89.0458386  87.4080824  76.13667858 84.4273277  87.41907831 52.53913642 12.98253307 90.64430038 71.09723009 35.83321934 99.49951349 78.38353614 32.45392837 97.7718522  95.32122416 35.86473127 97.59656588 87.13797673 83.87804895 31.54008111 84.9563024  57.90119622 91.77507022\n",
      " 79.90138356 16.71099798 61.43025612 88.66144764 93.90080355 34.05428336 90.98171247 86.56834013 71.71582865 86.48152677 92.83524175 96.49335824 98.42730765 72.62957761 69.51143787 52.89826017 69.35086387 70.22648407 85.19639976 95.64880072 81.80779815 33.6538489  40.90131616 98.33907214 58.49351744 57.34548268\n",
      " 75.08143457 78.82874808 99.77750087 20.03404214 82.78484214 83.12719387 99.73282686 57.96503905 47.70191326 76.52248795 85.86109011 70.77829262 50.6658715  84.96486627 95.48872477 73.96052086 94.5313048  69.85878901 60.30195512 63.42038778 45.67910373 92.22972739 70.36390117 89.18996009 51.36787786 72.68466304\n",
      " 62.1613705  85.44473715 89.1216793  94.17415599 53.85087799 86.63614952 61.00256586 90.45738114 43.68451367 99.72858942 98.08839033 94.93365615 62.48159099 96.90148033 24.25082026 96.73773214 50.34143193 76.99023249]\n",
      "D:\\CaseStudies_CoH_FineAdjustDigitization1\\ReRegisterCoH\\\\registration/4802960055B.tif\n",
      "[[ 1.06376883e+00 -3.39532379e-02  7.95516807e+05]\n",
      " [ 3.39532379e-02  1.06376883e+00  1.37715961e+05]\n",
      " [ 0.00000000e+00  0.00000000e+00  1.00000000e+00]]\n",
      "[[ 2.40488062e+00  8.25007122e-02 -1.06309018e+07]\n",
      " [ 7.67586731e-02 -2.58478105e+00  3.49232068e+06]\n",
      " [ 0.00000000e+00  0.00000000e+00  1.00000000e+00]]\n",
      "D:\\CaseStudies_CoH_FineAdjustDigitization1\\ReRegisterCoH\\\\focus\\4802960060B.tif\n",
      "641 / 1946\n",
      "Enter Matching\n"
     ]
    },
    {
     "data": {
      "application/vnd.jupyter.widget-view+json": {
       "model_id": "cb1e7a723e7a4dc0aa6a710ada9f1196",
       "version_major": 2,
       "version_minor": 0
      },
      "text/plain": [
       "Calculating Descriptors:   0%|          | 0/2913 [00:00<?, ?it/s]"
      ]
     },
     "metadata": {},
     "output_type": "display_data"
    },
    {
     "data": {
      "application/vnd.jupyter.widget-view+json": {
       "model_id": "1e43e7e8807d42d0af9768fc0d12f5ff",
       "version_major": 2,
       "version_minor": 0
      },
      "text/plain": [
       "Calculating Descriptors:   0%|          | 0/635 [00:00<?, ?it/s]"
      ]
     },
     "metadata": {},
     "output_type": "display_data"
    },
    {
     "data": {
      "application/vnd.jupyter.widget-view+json": {
       "model_id": "23e5ee5fa123444fbabe821db0e8bf6c",
       "version_major": 2,
       "version_minor": 0
      },
      "text/plain": [
       "Descriptor Matching (Flipped):   0%|          | 0/635 [00:00<?, ?it/s]"
      ]
     },
     "metadata": {},
     "output_type": "display_data"
    },
    {
     "name": "stdout",
     "output_type": "stream",
     "text": [
      "315\n",
      "IDX 314\n",
      "DISTNACE 314\n",
      "DBSCAN 314\n",
      "INTERSECT 314\n",
      "315\n",
      "[  0   1   2   3   4   5   6   7   8   9  10  11  12  13  14  15  16  17  18  19  20  21  22  23  24  25  26  27  28  29  30  31  32  33  34  35  36  37  38  39  40  41  42  43  44  45  46  47  48  49  50  51  52  53  54  55  56  57  58  59  60  61  62  63  64  65  66  67  68  69  70  71  72  73  74  75  76  77  78\n",
      "  79  80  81  82  83  84  85  86  87  88  89  90  91  92  93  94  95  96  97  98  99 100 101 102 103 104 105 106 107 108 109 110 111 112 113 114 115 116 117 118 119 120 121 122 123 124 125 126 127 128 129 130 131 132 133 134 135 136 137 138 139 140 141 142 143 144 145 146 147 148 149 150 151 152 153 154 155 156 157\n",
      " 158 159 160 161 162 163 164 165 166 167 168 169 170 171 172 173 174 175 176 177 178 179 180 181 182 183 184 185 186 187 188 189 190 191 192 193 194 195 196 197 198 199 200 201 202 203 204 205 206 207 208 209 210 211 212 213 214 215 216 217 218 219 220 221 222 223 224 225 226 227 228 229 230 231 232 233 234 235 236\n",
      " 237 238 239 240 241 242 243 244 245 246 247 248 249 250 251 252 253 254 255 256 257 258 259 260 261 262 263 264 265 266 267 268 269 270 271 272 273 274 275 276 277 278 279 280 281 282 283 284 285 286 287 288 289 290 291 292 293 294 295 296 297 298 299 300 301 302 303 304 305 306 307 308 309 310 311 312 313 314]\n",
      "[ 15.80300291 168.81363306 216.15378551 248.09315085 299.91723629] 288 15\n",
      "Distances under 100: [15.80300291 67.72806922 89.39691192 63.72665701 50.31290808 97.12665396 67.56799457 48.97241819 49.90226149 24.57787305 22.54962224 99.28539103 36.18451805 77.25066013 40.09227808]\n",
      "Enter Matching\n"
     ]
    },
    {
     "data": {
      "application/vnd.jupyter.widget-view+json": {
       "model_id": "1f551b5dad1242f79f2c933d2d41ff81",
       "version_major": 2,
       "version_minor": 0
      },
      "text/plain": [
       "Descriptor Matching (Flipped):   0%|          | 0/635 [00:00<?, ?it/s]"
      ]
     },
     "metadata": {},
     "output_type": "display_data"
    },
    {
     "name": "stdout",
     "output_type": "stream",
     "text": [
      "Results Update: 288 314 234\n",
      "234\n",
      "IDX 233\n",
      "DISTNACE 233\n",
      "DBSCAN 233\n",
      "INTERSECT 233\n",
      "234\n",
      "[  0   1   2   3   4   5   6   7   8   9  10  11  12  13  14  15  16  17  18  19  20  21  22  23  24  25  26  27  28  29  30  31  32  33  34  35  36  37  38  39  40  41  42  43  44  45  46  47  48  49  50  51  52  53  54  55  56  57  58  59  60  61  62  63  64  65  66  67  68  69  70  71  72  73  74  75  76  77  78\n",
      "  79  80  81  82  83  84  85  86  87  88  89  90  91  92  93  94  95  96  97  98  99 100 101 102 103 104 105 106 107 108 109 110 111 112 113 114 115 116 117 118 119 120 121 122 123 124 125 126 127 128 129 130 131 132 133 134 135 136 137 138 139 140 141 142 143 144 145 146 147 148 149 150 151 152 153 154 155 156 157\n",
      " 158 159 160 161 162 163 164 165 166 167 168 169 170 171 172 173 174 175 176 177 178 179 180 181 182 183 184 185 186 187 188 189 190 191 192 193 194 195 196 197 198 199 200 201 202 203 204 205 206 207 208 209 210 211 212 213 214 215 216 217 218 219 220 221 222 223 224 225 226 227 228 229 230 231 232 233]\n",
      "[ 16.43454515 155.64012023 185.03010199 224.67660171 283.93966727] 195 13\n",
      "Distances under 100: [68.94233162 72.56527978 80.50843376 98.70771005 67.72455539 95.53178401 56.56289384 77.23481038 16.43454515 29.307179   61.51425392 89.07185231 96.15230979]\n",
      "Enter Matching\n"
     ]
    },
    {
     "data": {
      "application/vnd.jupyter.widget-view+json": {
       "model_id": "7142fe0067e84ee8b009675a7aa248a2",
       "version_major": 2,
       "version_minor": 0
      },
      "text/plain": [
       "Descriptor Matching (Flipped):   0%|          | 0/635 [00:00<?, ?it/s]"
      ]
     },
     "metadata": {},
     "output_type": "display_data"
    },
    {
     "name": "stdout",
     "output_type": "stream",
     "text": [
      "Results Update: 195 328 284\n",
      "284\n",
      "IDX 283\n",
      "DISTNACE 283\n",
      "DBSCAN 283\n",
      "INTERSECT 283\n",
      "284\n",
      "[  0   1   2   3   4   5   6   7   8   9  10  11  12  13  14  15  16  17  18  19  20  21  22  23  24  25  26  27  28  29  30  31  32  33  34  35  36  37  38  39  40  41  42  43  44  45  46  47  48  49  50  51  52  53  54  55  56  57  58  59  60  61  62  63  64  65  66  67  68  69  70  71  72  73  74  75  76  77  78\n",
      "  79  80  81  82  83  84  85  86  87  88  89  90  91  92  93  94  95  96  97  98  99 100 101 102 103 104 105 106 107 108 109 110 111 112 113 114 115 116 117 118 119 120 121 122 123 124 125 126 127 128 129 130 131 132 133 134 135 136 137 138 139 140 141 142 143 144 145 146 147 148 149 150 151 152 153 154 155 156 157\n",
      " 158 159 160 161 162 163 164 165 166 167 168 169 170 171 172 173 174 175 176 177 178 179 180 181 182 183 184 185 186 187 188 189 190 191 192 193 194 195 196 197 198 199 200 201 202 203 204 205 206 207 208 209 210 211 212 213 214 215 216 217 218 219 220 221 222 223 224 225 226 227 228 229 230 231 232 233 234 235 236\n",
      " 237 238 239 240 241 242 243 244 245 246 247 248 249 250 251 252 253 254 255 256 257 258 259 260 261 262 263 264 265 266 267 268 269 270 271 272 273 274 275 276 277 278 279 280 281 282 283]\n",
      "[  8.17182896 119.35909105 149.31429162 193.77681674 269.55231464] 241 40\n",
      "Distances under 100: [39.06002112 49.69099783 53.27580331 66.38535255 82.10688932 88.31053807 22.78391169 32.00219775 86.02878853 89.96117551 92.33101798 60.39397874 21.2705122  89.11573115 94.04897803 51.90264986 53.46258119 88.04497084 69.71470601 78.43087754 38.85161702 63.10422377 86.89771886 17.96858752 71.84465807 92.13243961\n",
      " 32.56501266 81.45733132 59.38768439  8.17182896 95.33779976 43.9291891  84.56844304 73.18379402 97.8464346  60.91022727 61.34208266 67.43447582 81.17262917 92.08460754]\n",
      "Enter Matching\n"
     ]
    },
    {
     "data": {
      "application/vnd.jupyter.widget-view+json": {
       "model_id": "efc337e9ad2749edbfb54d951e0e9dc4",
       "version_major": 2,
       "version_minor": 0
      },
      "text/plain": [
       "Descriptor Matching (Flipped):   0%|          | 0/635 [00:00<?, ?it/s]"
      ]
     },
     "metadata": {},
     "output_type": "display_data"
    },
    {
     "name": "stdout",
     "output_type": "stream",
     "text": [
      "Results Update: 241 356 341\n",
      "341\n",
      "IDX 340\n",
      "DISTNACE 340\n",
      "DBSCAN 340\n",
      "INTERSECT 340\n",
      "341\n",
      "[  0   1   2   3   4   5   6   7   8   9  10  11  12  13  14  15  16  17  18  19  20  21  22  23  24  25  26  27  28  29  30  31  32  33  34  35  36  37  38  39  40  41  42  43  44  45  46  47  48  49  50  51  52  53  54  55  56  57  58  59  60  61  62  63  64  65  66  67  68  69  70  71  72  73  74  75  76  77  78\n",
      "  79  80  81  82  83  84  85  86  87  88  89  90  91  92  93  94  95  96  97  98  99 100 101 102 103 104 105 106 107 108 109 110 111 112 113 114 115 116 117 118 119 120 121 122 123 124 125 126 127 128 129 130 131 132 133 134 135 136 137 138 139 140 141 142 143 144 145 146 147 148 149 150 151 152 153 154 155 156 157\n",
      " 158 159 160 161 162 163 164 165 166 167 168 169 170 171 172 173 174 175 176 177 178 179 180 181 182 183 184 185 186 187 188 189 190 191 192 193 194 195 196 197 198 199 200 201 202 203 204 205 206 207 208 209 210 211 212 213 214 215 216 217 218 219 220 221 222 223 224 225 226 227 228 229 230 231 232 233 234 235 236\n",
      " 237 238 239 240 241 242 243 244 245 246 247 248 249 250 251 252 253 254 255 256 257 258 259 260 261 262 263 264 265 266 267 268 269 270 271 272 273 274 275 276 277 278 279 280 281 282 283 284 285 286 287 288 289 290 291 292 293 294 295 296 297 298 299 300 301 302 303 304 305 306 307 308 309 310 311 312 313 314 315\n",
      " 316 317 318 319 320 321 322 323 324 325 326 327 328 329 330 331 332 333 334 335 336 337 338 339 340]\n",
      "[ 20.00884843 109.22316616 146.42653176 193.98306861 257.15605633] 314 67\n",
      "Distances under 100: [28.47347087 69.9735761  77.54192919 88.04235032 85.94733323 65.79582131 62.47783512 83.97523358 67.22042524 46.4085204  64.71521692 80.44204356 71.38782146 34.91442343 63.40605852 39.76482094 56.33210676 27.45906956 70.15933657 81.03042685 87.31768219 73.80470186 55.63756901 30.02321102 62.94592524 95.04098425\n",
      " 20.00884843 46.51721389 67.55639575 93.83574906 88.00550026 96.99767652 91.90085475 66.73091892 89.90436023 81.59723571 57.71805675 93.02540362 79.16514315 91.8241741  36.68378772 85.52154027 96.99204162 62.21854519 99.27076782 49.30910543 81.44449915 97.79310496 61.9415292  44.52373123 60.20640162 41.62377507\n",
      " 68.49561819 76.32861853 90.06487165 62.32731958 68.84534177 83.75068111 88.45872758 80.73395582 50.4063599  58.82366516 88.13899929 98.06911424 73.30627499 48.35094103 83.04689392]\n",
      "Enter Matching\n"
     ]
    },
    {
     "data": {
      "application/vnd.jupyter.widget-view+json": {
       "model_id": "3ca8709bf94e4187af1a45d00f17b40c",
       "version_major": 2,
       "version_minor": 0
      },
      "text/plain": [
       "Descriptor Matching (Flipped):   0%|          | 0/635 [00:00<?, ?it/s]"
      ]
     },
     "metadata": {},
     "output_type": "display_data"
    },
    {
     "name": "stdout",
     "output_type": "stream",
     "text": [
      "Results Update: 314 343 380\n",
      "380\n",
      "IDX 379\n",
      "DISTNACE 379\n",
      "DBSCAN 379\n",
      "INTERSECT 379\n",
      "380\n",
      "[  0   1   2   3   4   5   6   7   8   9  10  11  12  13  14  15  16  17  18  19  20  21  22  23  24  25  26  27  28  29  30  31  32  33  34  35  36  37  38  39  40  41  42  43  44  45  46  47  48  49  50  51  52  53  54  55  56  57  58  59  60  61  62  63  64  65  66  67  68  69  70  71  72  73  74  75  76  77  78\n",
      "  79  80  81  82  83  84  85  86  87  88  89  90  91  92  93  94  95  96  97  98  99 100 101 102 103 104 105 106 107 108 109 110 111 112 113 114 115 116 117 118 119 120 121 122 123 124 125 126 127 128 129 130 131 132 133 134 135 136 137 138 139 140 141 142 143 144 145 146 147 148 149 150 151 152 153 154 155 156 157\n",
      " 158 159 160 161 162 163 164 165 166 167 168 169 170 171 172 173 174 175 176 177 178 179 180 181 182 183 184 185 186 187 188 189 190 191 192 193 194 195 196 197 198 199 200 201 202 203 204 205 206 207 208 209 210 211 212 213 214 215 216 217 218 219 220 221 222 223 224 225 226 227 228 229 230 231 232 233 234 235 236\n",
      " 237 238 239 240 241 242 243 244 245 246 247 248 249 250 251 252 253 254 255 256 257 258 259 260 261 262 263 264 265 266 267 268 269 270 271 272 273 274 275 276 277 278 279 280 281 282 283 284 285 286 287 288 289 290 291 292 293 294 295 296 297 298 299 300 301 302 303 304 305 306 307 308 309 310 311 312 313 314 315\n",
      " 316 317 318 319 320 321 322 323 324 325 326 327 328 329 330 331 332 333 334 335 336 337 338 339 340 341 342 343 344 345 346 347 348 349 350 351 352 353 354 355 356 357 358 359 360 361 362 363 364 365 366 367 368 369 370 371 372 373 374 375 376 377 378 379]\n",
      "[ 12.31783171  99.05215172 142.24164098 183.56313976 249.50400314] 347 88\n",
      "Distances under 100: [45.68260418 90.12223914 68.23255181 79.5660771  78.76052172 92.39823117 63.46647856 82.69592913 66.97450604 80.50073367 70.14431068 50.38299931 71.48053986 59.13922758 36.66960495 50.72060813 46.42190614 61.77014945 69.49652938 39.91824513 49.97670737 93.65200619 67.07081834 75.66270395 88.38647306 66.80070426\n",
      " 80.76996689 79.9527068  12.31783171 64.85326098 46.31399999 86.90888873 46.82917973 62.27621511 93.04776236 86.06449198 76.15837216 95.46233176 49.60077282 93.04835405 81.25250996 51.44008913 82.21968511 78.78451305 38.8882567  47.70226787 47.96075699 70.02338457 51.52953631 32.27906716 67.82909678 90.43485402\n",
      " 60.24489553 70.02152352 61.91165535 97.37243214 84.16556587 48.71721616 60.32783852 98.79180897 93.15848511 99.31249447 86.87645038 66.00748112 50.52945989 62.21425306 95.2302499  85.48072978 49.2953864  80.2403633  66.59997366 97.34499357 65.91949728 46.52441518 45.89637483 88.78540528 48.68436549 66.46181078\n",
      " 58.68651797 95.49098913 54.95526488 80.27253346 68.90330323 24.97736184 77.24245302 92.95508885 71.42921547 63.70524578]\n",
      "Enter Matching\n"
     ]
    },
    {
     "data": {
      "application/vnd.jupyter.widget-view+json": {
       "model_id": "8093adf33b534a18972aa8a38d11e4db",
       "version_major": 2,
       "version_minor": 0
      },
      "text/plain": [
       "Descriptor Matching (Flipped):   0%|          | 0/635 [00:00<?, ?it/s]"
      ]
     },
     "metadata": {},
     "output_type": "display_data"
    },
    {
     "name": "stdout",
     "output_type": "stream",
     "text": [
      "Results Update: 347 381 445\n",
      "445\n",
      "IDX 444\n",
      "DISTNACE 444\n",
      "DBSCAN 444\n",
      "INTERSECT 444\n",
      "445\n",
      "[  0   1   2   3   4   5   6   7   8   9  10  11  12  13  14  15  16  17  18  19  20  21  22  23  24  25  26  27  28  29  30  31  32  33  34  35  36  37  38  39  40  41  42  43  44  45  46  47  48  49  50  51  52  53  54  55  56  57  58  59  60  61  62  63  64  65  66  67  68  69  70  71  72  73  74  75  76  77  78\n",
      "  79  80  81  82  83  84  85  86  87  88  89  90  91  92  93  94  95  96  97  98  99 100 101 102 103 104 105 106 107 108 109 110 111 112 113 114 115 116 117 118 119 120 121 122 123 124 125 126 127 128 129 130 131 132 133 134 135 136 137 138 139 140 141 142 143 144 145 146 147 148 149 150 151 152 153 154 155 156 157\n",
      " 158 159 160 161 162 163 164 165 166 167 168 169 170 171 172 173 174 175 176 177 178 179 180 181 182 183 184 185 186 187 188 189 190 191 192 193 194 195 196 197 198 199 200 201 202 203 204 205 206 207 208 209 210 211 212 213 214 215 216 217 218 219 220 221 222 223 224 225 226 227 228 229 230 231 232 233 234 235 236\n",
      " 237 238 239 240 241 242 243 244 245 246 247 248 249 250 251 252 253 254 255 256 257 258 259 260 261 262 263 264 265 266 267 268 269 270 271 272 273 274 275 276 277 278 279 280 281 282 283 284 285 286 287 288 289 290 291 292 293 294 295 296 297 298 299 300 301 302 303 304 305 306 307 308 309 310 311 312 313 314 315\n",
      " 316 317 318 319 320 321 322 323 324 325 326 327 328 329 330 331 332 333 334 335 336 337 338 339 340 341 342 343 344 345 346 347 348 349 350 351 352 353 354 355 356 357 358 359 360 361 362 363 364 365 366 367 368 369 370 371 372 373 374 375 376 377 378 379 380 381 382 383 384 385 386 387 388 389 390 391 392 393 394\n",
      " 395 396 397 398 399 400 401 402 403 404 405 406 407 408 409 410 411 412 413 414 415 416 417 418 419 420 421 422 423 424 425 426 427 428 429 430 431 432 433 434 435 436 437 438 439 440 441 442 443 444]\n",
      "[  2.70606713  95.05673381 142.74775944 180.36398992 248.30576143] 408 111\n",
      "Distances under 100: [71.24411222 54.93377139 68.08427856 67.18873776 96.11445505 40.81147917 84.05270454 82.67923218 69.95723616 55.18131636 59.08105944 63.3421878  86.55184571 44.07487046 52.45603369 39.48107606 63.55005811 78.36921104 56.51694617 60.93799328 92.02109207 55.49075964 55.41360229 94.32633315 91.23052824 98.75809102\n",
      " 78.69570809 62.30995235 55.08161807 83.67851637 17.5663427  97.45430558 84.99184575 95.3002007  66.19049004 73.01577397 50.99725623 85.40223735 98.66979579 81.27996417 92.76201522 91.72731969 84.91937625 52.82184502 24.97315703 91.0963724  26.79930197 99.54632654 42.27794211 51.8597692  36.615477   57.60433993\n",
      " 38.65502853 53.30461564 91.77582066 81.18362086 70.18756913 77.12289142 36.44475732 83.44404231 99.02468446 73.65396841 33.69226394 65.86980886 36.36008159 65.65262792 83.23520914 67.79465976 69.44257352 55.57860641 89.20999016 69.97623563 27.01993567 31.0307784  73.78767108 99.14233901 61.73787377 67.2251121\n",
      " 56.75567408 84.48205257  2.70606713 81.80750298 92.62963864 61.57895431 39.52042754 98.42198515 75.60093079 88.97793799 93.12819071 92.88957384 70.55164744 65.76532068 84.5091931  77.64157308 87.28598686 76.49733728 35.33607744 33.6981079  53.46651866 77.31425763 88.8732551  90.84331115 80.91037539 81.53604338\n",
      " 59.31902864 81.86830878 76.63192269 51.07445449 82.27670849  5.90455762 16.58509006]\n",
      "Enter Matching\n"
     ]
    },
    {
     "data": {
      "application/vnd.jupyter.widget-view+json": {
       "model_id": "b6e878c77e384365aa3150452bac43aa",
       "version_major": 2,
       "version_minor": 0
      },
      "text/plain": [
       "Descriptor Matching (Flipped):   0%|          | 0/635 [00:00<?, ?it/s]"
      ]
     },
     "metadata": {},
     "output_type": "display_data"
    },
    {
     "name": "stdout",
     "output_type": "stream",
     "text": [
      "Results Update: 408 410 496\n",
      "496\n",
      "IDX 495\n",
      "DISTNACE 495\n",
      "DBSCAN 495\n",
      "INTERSECT 495\n",
      "496\n",
      "[  0   1   2   3   4   5   6   7   8   9  10  11  12  13  14  15  16  17  18  19  20  21  22  23  24  25  26  27  28  29  30  31  32  33  34  35  36  37  38  39  40  41  42  43  44  45  46  47  48  49  50  51  52  53  54  55  56  57  58  59  60  61  62  63  64  65  66  67  68  69  70  71  72  73  74  75  76  77  78\n",
      "  79  80  81  82  83  84  85  86  87  88  89  90  91  92  93  94  95  96  97  98  99 100 101 102 103 104 105 106 107 108 109 110 111 112 113 114 115 116 117 118 119 120 121 122 123 124 125 126 127 128 129 130 131 132 133 134 135 136 137 138 139 140 141 142 143 144 145 146 147 148 149 150 151 152 153 154 155 156 157\n",
      " 158 159 160 161 162 163 164 165 166 167 168 169 170 171 172 173 174 175 176 177 178 179 180 181 182 183 184 185 186 187 188 189 190 191 192 193 194 195 196 197 198 199 200 201 202 203 204 205 206 207 208 209 210 211 212 213 214 215 216 217 218 219 220 221 222 223 224 225 226 227 228 229 230 231 232 233 234 235 236\n",
      " 237 238 239 240 241 242 243 244 245 246 247 248 249 250 251 252 253 254 255 256 257 258 259 260 261 262 263 264 265 266 267 268 269 270 271 272 273 274 275 276 277 278 279 280 281 282 283 284 285 286 287 288 289 290 291 292 293 294 295 296 297 298 299 300 301 302 303 304 305 306 307 308 309 310 311 312 313 314 315\n",
      " 316 317 318 319 320 321 322 323 324 325 326 327 328 329 330 331 332 333 334 335 336 337 338 339 340 341 342 343 344 345 346 347 348 349 350 351 352 353 354 355 356 357 358 359 360 361 362 363 364 365 366 367 368 369 370 371 372 373 374 375 376 377 378 379 380 381 382 383 384 385 386 387 388 389 390 391 392 393 394\n",
      " 395 396 397 398 399 400 401 402 403 404 405 406 407 408 409 410 411 412 413 414 415 416 417 418 419 420 421 422 423 424 425 426 427 428 429 430 431 432 433 434 435 436 437 438 439 440 441 442 443 444 445 446 447 448 449 450 451 452 453 454 455 456 457 458 459 460 461 462 463 464 465 466 467 468 469 470 471 472 473\n",
      " 474 475 476 477 478 479 480 481 482 483 484 485 486 487 488 489 490 491 492 493 494 495]\n",
      "[ 10.33795302  84.1223733  131.96702792 177.8517163  248.51669231] 474 156\n",
      "Distances under 100: [80.77309958 56.00385925 62.42070281 85.44700562 59.57937739 67.36601867 83.60926165 14.65972184 77.99435344 88.38851867 65.11007638 57.40535998 49.56852786 40.09626388 69.96845671 97.49261814 35.75150973 56.22055869 78.44678796 28.68534137 58.08839506 79.71932236 60.10285627 75.23353537 66.94758734 33.34869795\n",
      " 24.20467452 20.17231105 83.53588123 87.50723234 63.44249205 71.40821802 43.26228651 54.23942034 10.33795302 83.09954669 21.53385453 90.44072612 75.73899735 74.78095556 18.16896914 66.79741486 57.15451039 93.66142575 64.94085387 85.61832508 74.20628832 79.2494234  77.54493907 78.78873662 92.25284898 46.32733357\n",
      " 97.11563813 28.2227796  94.15323982 25.74427305 47.94825561 50.76771302 79.47141666 40.34997858 36.83336252 33.87578346 99.73121556 87.5725742  60.94967193 50.15551981 36.18542346 73.79501877 60.4064197  83.20371309 63.10339192 24.07380842 57.89437205 31.3984609  64.97472192 75.13776716 64.52000237 54.77638502\n",
      " 92.60776899 68.63325179 54.00961011 43.99054932 65.10950323 30.55743091 31.47594292 95.30105783 93.33727021 67.97748375 56.55625016 73.65553365 86.52745472 62.00220332 90.96029641 44.80720976 92.05812148 73.23065582 65.90462288 93.59303138 27.15653575 86.12811176 65.15116907 81.60091296 85.97350284 80.93409926\n",
      " 65.23645204 65.35922387 87.11711486 77.18228981 83.56419273 73.64304593 77.93624318 66.16042394 22.13265904 20.78169136 43.00065363 51.41416872 63.79880082 92.89180661 77.28146391 82.11655098 45.50095793 66.67937928 63.5334127  38.71207354 58.35157544 18.59185938 50.36182805 91.30800995 89.81962382 86.68999388\n",
      " 30.76923034 53.82507498 83.6808292  89.86685254 99.56113044 91.74711881 62.46441023 80.22303559 86.47139714 25.44667182 24.20709021 56.16707877 14.14579294 86.10286549 76.45362277 96.68782094 93.26928889 51.69374012 82.98039641 96.44992904 87.59720286 89.33518553 75.42532733 94.51684549 74.09365725 48.73793753]\n",
      "Enter Matching\n"
     ]
    },
    {
     "data": {
      "application/vnd.jupyter.widget-view+json": {
       "model_id": "54512ffe8cbe4c1cbb90c9d4cc64f777",
       "version_major": 2,
       "version_minor": 0
      },
      "text/plain": [
       "Descriptor Matching (Flipped):   0%|          | 0/635 [00:00<?, ?it/s]"
      ]
     },
     "metadata": {},
     "output_type": "display_data"
    },
    {
     "name": "stdout",
     "output_type": "stream",
     "text": [
      "Results Update: 474 412 539\n",
      "539\n",
      "IDX 538\n",
      "DISTNACE 538\n",
      "DBSCAN 538\n",
      "INTERSECT 538\n",
      "539\n",
      "[  0   1   2   3   4   5   6   7   8   9  10  11  12  13  14  15  16  17  18  19  20  21  22  23  24  25  26  27  28  29  30  31  32  33  34  35  36  37  38  39  40  41  42  43  44  45  46  47  48  49  50  51  52  53  54  55  56  57  58  59  60  61  62  63  64  65  66  67  68  69  70  71  72  73  74  75  76  77  78\n",
      "  79  80  81  82  83  84  85  86  87  88  89  90  91  92  93  94  95  96  97  98  99 100 101 102 103 104 105 106 107 108 109 110 111 112 113 114 115 116 117 118 119 120 121 122 123 124 125 126 127 128 129 130 131 132 133 134 135 136 137 138 139 140 141 142 143 144 145 146 147 148 149 150 151 152 153 154 155 156 157\n",
      " 158 159 160 161 162 163 164 165 166 167 168 169 170 171 172 173 174 175 176 177 178 179 180 181 182 183 184 185 186 187 188 189 190 191 192 193 194 195 196 197 198 199 200 201 202 203 204 205 206 207 208 209 210 211 212 213 214 215 216 217 218 219 220 221 222 223 224 225 226 227 228 229 230 231 232 233 234 235 236\n",
      " 237 238 239 240 241 242 243 244 245 246 247 248 249 250 251 252 253 254 255 256 257 258 259 260 261 262 263 264 265 266 267 268 269 270 271 272 273 274 275 276 277 278 279 280 281 282 283 284 285 286 287 288 289 290 291 292 293 294 295 296 297 298 299 300 301 302 303 304 305 306 307 308 309 310 311 312 313 314 315\n",
      " 316 317 318 319 320 321 322 323 324 325 326 327 328 329 330 331 332 333 334 335 336 337 338 339 340 341 342 343 344 345 346 347 348 349 350 351 352 353 354 355 356 357 358 359 360 361 362 363 364 365 366 367 368 369 370 371 372 373 374 375 376 377 378 379 380 381 382 383 384 385 386 387 388 389 390 391 392 393 394\n",
      " 395 396 397 398 399 400 401 402 403 404 405 406 407 408 409 410 411 412 413 414 415 416 417 418 419 420 421 422 423 424 425 426 427 428 429 430 431 432 433 434 435 436 437 438 439 440 441 442 443 444 445 446 447 448 449 450 451 452 453 454 455 456 457 458 459 460 461 462 463 464 465 466 467 468 469 470 471 472 473\n",
      " 474 475 476 477 478 479 480 481 482 483 484 485 486 487 488 489 490 491 492 493 494 495 496 497 498 499 500 501 502 503 504 505 506 507 508 509 510 511 512 513 514 515 516 517 518 519 520 521 522 523 524 525 526 527 528 529 530 531 532 533 534 535 536 537 538]\n",
      "[  7.38895354  92.83030761 138.0034113  181.03440456 243.5971652 ] 516 150\n",
      "Distances under 100: [89.5755458  45.82861052 63.4800527  95.12185148 55.50339675 60.57715691 97.4340332  98.7688781  65.27328781 57.04710889 37.71171748 38.81104817 93.03937024 41.47595959 66.25900515 73.94862434 41.38387761 70.33174312 89.94051843 69.31216233 81.64988209 75.7178365  39.28697593 37.02983137 32.19824663 86.22408191\n",
      " 99.79703085 77.75406625 80.98376242 30.80027779 59.52417001  9.12947883 92.51283417 81.2160304  28.78510896 98.02247862 80.53510065 11.87355643 66.42365744 54.23136917 64.61253746 72.07674627 99.92753033 92.59675424 78.30433256 77.81261308 90.9187121  92.90815874 97.44930812 89.61107131 48.8755276  17.79498755\n",
      " 31.04076272 35.51080022 35.98602488 49.77307661 32.71065876 95.96991922 68.80344577 36.47608405  7.38895354 65.69794223 86.14198768 70.52902758 81.30446088 59.30934526 33.44317176 70.77319035 29.2996348  74.7987705  79.19357207 54.57034497 68.31939066 97.10580178 61.98119133 56.95257826 32.73864205 77.68850252\n",
      " 36.22141918 20.77151323 14.78835502 97.50825313 69.07591503 91.17146803 58.59470226 74.22061896 13.41355529 82.09429087 75.23975795 86.72378445 91.04294329 61.00448319 58.43987847 89.52518381 70.1079552  68.03588583 88.45100387 80.2336967  35.13709785 35.40432024 42.91015071 57.36948461 78.45177244 99.497012\n",
      " 85.87907413 79.06624849 53.84795597 81.73769994 93.11863422 78.12400846 53.28819974 48.10815112  8.71782292 41.5271228  82.68257308 73.26641139 83.06093761 19.94982601 65.44607653 95.51686351 81.83913502 82.20821407 97.72775944 65.62535404 91.58759084 98.27034324 37.47500896 11.01075479 64.77858901 11.37266872\n",
      " 94.19423642 78.91675113 86.55614488 98.16280048 65.00554035 69.57687715 93.40425505 61.81787163 52.67145249 90.36881266 37.82376793 67.24043853 46.06947984 96.87396019 56.97146908 21.86796445 47.61640181 39.19882857 65.24899727 49.47298232]\n",
      "Enter Matching\n"
     ]
    },
    {
     "data": {
      "application/vnd.jupyter.widget-view+json": {
       "model_id": "17de2984ad0b43e6b82997a406210e1d",
       "version_major": 2,
       "version_minor": 0
      },
      "text/plain": [
       "Descriptor Matching (Flipped):   0%|          | 0/635 [00:00<?, ?it/s]"
      ]
     },
     "metadata": {},
     "output_type": "display_data"
    },
    {
     "name": "stdout",
     "output_type": "stream",
     "text": [
      "Results Update: 516 409 581\n",
      "581\n",
      "IDX 580\n",
      "DISTNACE 580\n",
      "DBSCAN 580\n",
      "INTERSECT 580\n",
      "581\n",
      "[  0   1   2   3   4   5   6   7   8   9  10  11  12  13  14  15  16  17  18  19  20  21  22  23  24  25  26  27  28  29  30  31  32  33  34  35  36  37  38  39  40  41  42  43  44  45  46  47  48  49  50  51  52  53  54  55  56  57  58  59  60  61  62  63  64  65  66  67  68  69  70  71  72  73  74  75  76  77  78\n",
      "  79  80  81  82  83  84  85  86  87  88  89  90  91  92  93  94  95  96  97  98  99 100 101 102 103 104 105 106 107 108 109 110 111 112 113 114 115 116 117 118 119 120 121 122 123 124 125 126 127 128 129 130 131 132 133 134 135 136 137 138 139 140 141 142 143 144 145 146 147 148 149 150 151 152 153 154 155 156 157\n",
      " 158 159 160 161 162 163 164 165 166 167 168 169 170 171 172 173 174 175 176 177 178 179 180 181 182 183 184 185 186 187 188 189 190 191 192 193 194 195 196 197 198 199 200 201 202 203 204 205 206 207 208 209 210 211 212 213 214 215 216 217 218 219 220 221 222 223 224 225 226 227 228 229 230 231 232 233 234 235 236\n",
      " 237 238 239 240 241 242 243 244 245 246 247 248 249 250 251 252 253 254 255 256 257 258 259 260 261 262 263 264 265 266 267 268 269 270 271 272 273 274 275 276 277 278 279 280 281 282 283 284 285 286 287 288 289 290 291 292 293 294 295 296 297 298 299 300 301 302 303 304 305 306 307 308 309 310 311 312 313 314 315\n",
      " 316 317 318 319 320 321 322 323 324 325 326 327 328 329 330 331 332 333 334 335 336 337 338 339 340 341 342 343 344 345 346 347 348 349 350 351 352 353 354 355 356 357 358 359 360 361 362 363 364 365 366 367 368 369 370 371 372 373 374 375 376 377 378 379 380 381 382 383 384 385 386 387 388 389 390 391 392 393 394\n",
      " 395 396 397 398 399 400 401 402 403 404 405 406 407 408 409 410 411 412 413 414 415 416 417 418 419 420 421 422 423 424 425 426 427 428 429 430 431 432 433 434 435 436 437 438 439 440 441 442 443 444 445 446 447 448 449 450 451 452 453 454 455 456 457 458 459 460 461 462 463 464 465 466 467 468 469 470 471 472 473\n",
      " 474 475 476 477 478 479 480 481 482 483 484 485 486 487 488 489 490 491 492 493 494 495 496 497 498 499 500 501 502 503 504 505 506 507 508 509 510 511 512 513 514 515 516 517 518 519 520 521 522 523 524 525 526 527 528 529 530 531 532 533 534 535 536 537 538 539 540 541 542 543 544 545 546 547 548 549 550 551 552\n",
      " 553 554 555 556 557 558 559 560 561 562 563 564 565 566 567 568 569 570 571 572 573 574 575 576 577 578 579 580]\n",
      "[ 15.66335878 112.75383627 150.75208436 190.60778582 248.91798867] 545 108\n",
      "Distances under 100: [36.43047241 92.4331172  87.94142611 39.93009319 73.40515947 82.51113864 28.07396934 39.21495679 57.04484368 73.50081696 72.0802736  44.06285796 70.25404708 87.35391091 74.41762388 76.85989936 70.15204368 60.66951061 89.74072383 47.83677927 89.75222714 41.49727005 98.59556356 75.80634609 43.41933526 87.54172992\n",
      " 28.25066671 86.23270226 45.39684708 76.69451604 73.02018304 88.90197423 75.10445084 76.58247027 66.33432988 84.94123292 92.87143501 78.17789838 41.70093851 39.86699238 42.64016821 92.31767146 37.79463326 61.33498716 99.30862825 31.75401851 99.99176092 96.15194169 96.22035879 61.46908153 89.86260701 58.46962012\n",
      " 83.4540117  44.28484206 94.52224348 76.72847314 53.66871073 32.5220477  89.71335276 15.66335878 89.8498694  56.91162605 72.73017561 39.88277937 77.23074008 76.85485435 71.65043045 62.89065795 98.88653681 91.94379098 83.75149846 87.42243717 36.17811092 43.60253336 81.24809009 59.39007745 85.82023947 81.10363251\n",
      " 88.23162282 77.99692281 91.42717085 82.79761905 78.38845459 55.16513991 94.82939869 77.89439745 87.25925389 88.07855339 55.59168861 57.32440264 54.69643418 54.26264485 97.16028858 94.60738915 52.47618466 75.26593925 31.45270805 40.28728788 51.09711428 70.56679504 65.56345046 58.69263291 77.52029516 83.35553903\n",
      " 92.4388629  84.46435305 84.9025202  57.41951813]\n",
      "Enter Matching\n"
     ]
    },
    {
     "data": {
      "application/vnd.jupyter.widget-view+json": {
       "model_id": "8d47eebf9aa647788f6befbe63f8a460",
       "version_major": 2,
       "version_minor": 0
      },
      "text/plain": [
       "Descriptor Matching (Flipped):   0%|          | 0/635 [00:00<?, ?it/s]"
      ]
     },
     "metadata": {},
     "output_type": "display_data"
    },
    {
     "name": "stdout",
     "output_type": "stream",
     "text": [
      "Results Update: 545 373 597\n",
      "597\n",
      "IDX 596\n",
      "DISTNACE 596\n",
      "DBSCAN 596\n",
      "INTERSECT 596\n",
      "597\n",
      "[  0   1   2   3   4   5   6   7   8   9  10  11  12  13  14  15  16  17  18  19  20  21  22  23  24  25  26  27  28  29  30  31  32  33  34  35  36  37  38  39  40  41  42  43  44  45  46  47  48  49  50  51  52  53  54  55  56  57  58  59  60  61  62  63  64  65  66  67  68  69  70  71  72  73  74  75  76  77  78\n",
      "  79  80  81  82  83  84  85  86  87  88  89  90  91  92  93  94  95  96  97  98  99 100 101 102 103 104 105 106 107 108 109 110 111 112 113 114 115 116 117 118 119 120 121 122 123 124 125 126 127 128 129 130 131 132 133 134 135 136 137 138 139 140 141 142 143 144 145 146 147 148 149 150 151 152 153 154 155 156 157\n",
      " 158 159 160 161 162 163 164 165 166 167 168 169 170 171 172 173 174 175 176 177 178 179 180 181 182 183 184 185 186 187 188 189 190 191 192 193 194 195 196 197 198 199 200 201 202 203 204 205 206 207 208 209 210 211 212 213 214 215 216 217 218 219 220 221 222 223 224 225 226 227 228 229 230 231 232 233 234 235 236\n",
      " 237 238 239 240 241 242 243 244 245 246 247 248 249 250 251 252 253 254 255 256 257 258 259 260 261 262 263 264 265 266 267 268 269 270 271 272 273 274 275 276 277 278 279 280 281 282 283 284 285 286 287 288 289 290 291 292 293 294 295 296 297 298 299 300 301 302 303 304 305 306 307 308 309 310 311 312 313 314 315\n",
      " 316 317 318 319 320 321 322 323 324 325 326 327 328 329 330 331 332 333 334 335 336 337 338 339 340 341 342 343 344 345 346 347 348 349 350 351 352 353 354 355 356 357 358 359 360 361 362 363 364 365 366 367 368 369 370 371 372 373 374 375 376 377 378 379 380 381 382 383 384 385 386 387 388 389 390 391 392 393 394\n",
      " 395 396 397 398 399 400 401 402 403 404 405 406 407 408 409 410 411 412 413 414 415 416 417 418 419 420 421 422 423 424 425 426 427 428 429 430 431 432 433 434 435 436 437 438 439 440 441 442 443 444 445 446 447 448 449 450 451 452 453 454 455 456 457 458 459 460 461 462 463 464 465 466 467 468 469 470 471 472 473\n",
      " 474 475 476 477 478 479 480 481 482 483 484 485 486 487 488 489 490 491 492 493 494 495 496 497 498 499 500 501 502 503 504 505 506 507 508 509 510 511 512 513 514 515 516 517 518 519 520 521 522 523 524 525 526 527 528 529 530 531 532 533 534 535 536 537 538 539 540 541 542 543 544 545 546 547 548 549 550 551 552\n",
      " 553 554 555 556 557 558 559 560 561 562 563 564 565 566 567 568 569 570 571 572 573 574 575 576 577 578 579 580 581 582 583 584 585 586 587 588 589 590 591 592 593 594 595 596]\n",
      "[ 12.2412281  114.10306691 152.7018217  192.96381542 249.08000134] 566 109\n",
      "Distances under 100: [37.17380201 90.0279776  85.6398417  40.90492934 74.22888321 80.03573159 24.61855777 36.31530552 59.71744199 70.23761332 70.80748882 44.93692618 66.2554949  84.71029497 72.6335358  74.61081266 71.56833214 57.25430714 89.24720508 46.0014509  86.8773554  38.03921267 74.57460979 40.18604493 85.34950225 23.74348939\n",
      " 85.20539714 44.35993096 73.56839372 69.62153753 89.87061052 79.23052069 78.43616565 69.30140334 85.51476248 90.91172094 75.57734167 39.26771521 39.83289294 42.39554435 96.09163246 35.97980079 58.8055064  95.08184578 96.13779083 29.49454693 99.47747246 96.64975562 95.94218654 91.88044601 58.35772379 85.94324105\n",
      " 55.81325121 44.21773876 90.14934839 76.44469115 56.06717207 98.74108996 31.84759417 92.94887983 12.2412281  86.81868886 56.05987206 75.05698649 44.6257833  77.76944669 71.19721805 65.61742278 57.70008671 96.92237385 92.06474511 81.62411847 30.72435354 41.95688004 80.90344826 62.5613866  86.79292227 76.8775042\n",
      " 89.27768809 80.31219156 88.97471303 82.0549724  99.48143838 77.65101075 50.07915937 89.00036458 58.74194237 59.34416407 49.99147367 91.89279065 53.09529351 71.55046399 27.82975119 38.07335141 47.82829641 71.59289617 62.69253688 74.63856308 61.66736332 80.07102373 86.10178989 88.43834172 86.86748895 53.29114096\n",
      " 89.55715326 57.16010545 13.10300441 98.06672826 89.89926161]\n",
      "D:\\CaseStudies_CoH_FineAdjustDigitization1\\ReRegisterCoH\\\\registration/4802960060B.tif\n",
      "[[ 1.09379295e+00  4.70105860e-02  8.31391664e+05]\n",
      " [-4.70105860e-02  1.09379295e+00 -8.26474673e+05]\n",
      " [ 0.00000000e+00  0.00000000e+00  1.00000000e+00]]\n",
      "[[ 2.49863184e+00 -1.14710358e-01 -1.06194242e+07]\n",
      " [-1.07389747e-01 -2.66896015e+00  3.49322047e+06]\n",
      " [ 0.00000000e+00  0.00000000e+00  1.00000000e+00]]\n",
      "D:\\CaseStudies_CoH_FineAdjustDigitization1\\ReRegisterCoH\\\\focus\\4802960155B.tif\n",
      "947 / 3386\n",
      "Enter Matching\n"
     ]
    },
    {
     "data": {
      "application/vnd.jupyter.widget-view+json": {
       "model_id": "de8a9dd57ec34121a4990c9ba98d2e2e",
       "version_major": 2,
       "version_minor": 0
      },
      "text/plain": [
       "Calculating Descriptors:   0%|          | 0/3601 [00:00<?, ?it/s]"
      ]
     },
     "metadata": {},
     "output_type": "display_data"
    },
    {
     "data": {
      "application/vnd.jupyter.widget-view+json": {
       "model_id": "b6fb3deac7f1409da881435af7959619",
       "version_major": 2,
       "version_minor": 0
      },
      "text/plain": [
       "Calculating Descriptors:   0%|          | 0/903 [00:00<?, ?it/s]"
      ]
     },
     "metadata": {},
     "output_type": "display_data"
    },
    {
     "data": {
      "application/vnd.jupyter.widget-view+json": {
       "model_id": "c0bc163c54db4d7d88e6fc33d7f463e4",
       "version_major": 2,
       "version_minor": 0
      },
      "text/plain": [
       "Descriptor Matching (Flipped):   0%|          | 0/903 [00:00<?, ?it/s]"
      ]
     },
     "metadata": {},
     "output_type": "display_data"
    },
    {
     "name": "stdout",
     "output_type": "stream",
     "text": [
      "373\n",
      "IDX 372\n",
      "DISTNACE 372\n",
      "DBSCAN 371\n",
      "INTERSECT 371\n",
      "372\n",
      "[  0   1   2   3   4   5   6   7   8   9  10  11  12  13  14  15  16  17  18  19  20  21  22  23  24  25  26  27  28  29  30  31  32  33  34  35  36  37  38  39  40  41  42  43  44  45  46  47  48  49  50  51  52  53  54  55  56  57  58  59  60  61  62  63  64  65  66  67  68  69  70  71  72  73  74  75  76  77  78\n",
      "  79  80  81  82  83  84  85  86  87  88  89  90  91  92  93  94  95  96  97  98  99 100 101 102 103 104 105 106 107 108 109 110 111 112 113 114 115 116 117 118 119 120 121 122 123 124 125 126 127 128 129 130 131 132 133 134 135 136 137 138 139 140 141 142 144 145 146 147 148 149 150 151 152 153 154 155 156 157 158\n",
      " 159 160 161 162 163 164 165 166 167 168 169 170 171 172 173 174 175 176 177 178 179 180 181 182 183 184 185 186 187 188 189 190 191 192 193 194 195 196 197 198 199 200 201 202 203 204 205 206 207 208 209 210 211 212 213 214 215 216 217 218 219 220 221 222 223 224 225 226 227 228 229 230 231 232 233 234 235 236 237\n",
      " 238 239 240 241 242 243 244 245 246 247 248 249 250 251 252 253 254 255 256 257 258 259 260 261 262 263 264 265 266 267 268 269 270 271 272 273 274 275 276 277 278 279 280 281 282 283 284 285 286 287 288 289 290 291 292 293 294 295 296 297 298 299 300 301 302 303 304 305 306 307 308 309 310 311 312 313 314 315 316\n",
      " 317 318 319 320 321 322 323 324 325 326 327 328 329 330 331 332 333 334 335 336 337 338 339 340 341 342 343 344 345 346 347 348 349 350 351 352 353 354 355 356 357 358 359 360 361 362 363 364 365 366 367 368 369 370 371 372]\n",
      "[  8.25077673 153.51376695 215.58269856 252.92163927 298.82408778] 356 33\n",
      "Distances under 100: [94.70823238 95.35238827 85.5894626  86.84143966 69.33330532 30.89289077 76.08147629 73.38271343 91.7777415  51.60605518 56.73347912 65.18587743 44.91030108 57.81613349 63.84235642 92.85639547 86.80864768 75.63518164 66.7567716  99.51933855 37.66132486 99.7414557  37.44603673 18.27049594 56.13118182 86.00461173\n",
      " 87.06365272 60.94522059 80.48200475 80.93603842  8.25077673 42.13635296 84.03369618]\n",
      "Enter Matching\n"
     ]
    },
    {
     "data": {
      "application/vnd.jupyter.widget-view+json": {
       "model_id": "9c6571a423f24132bd9f1e3ee5651a24",
       "version_major": 2,
       "version_minor": 0
      },
      "text/plain": [
       "Descriptor Matching (Flipped):   0%|          | 0/903 [00:00<?, ?it/s]"
      ]
     },
     "metadata": {},
     "output_type": "display_data"
    },
    {
     "name": "stdout",
     "output_type": "stream",
     "text": [
      "Results Update: 356 371 295\n",
      "295\n",
      "IDX 294\n",
      "DISTNACE 294\n",
      "DBSCAN 294\n",
      "INTERSECT 294\n",
      "295\n",
      "[  0   1   2   3   4   5   6   7   8   9  10  11  12  13  14  15  16  17  18  19  20  21  22  23  24  25  26  27  28  29  30  31  32  33  34  35  36  37  38  39  40  41  42  43  44  45  46  47  48  49  50  51  52  53  54  55  56  57  58  59  60  61  62  63  64  65  66  67  68  69  70  71  72  73  74  75  76  77  78\n",
      "  79  80  81  82  83  84  85  86  87  88  89  90  91  92  93  94  95  96  97  98  99 100 101 102 103 104 105 106 107 108 109 110 111 112 113 114 115 116 117 118 119 120 121 122 123 124 125 126 127 128 129 130 131 132 133 134 135 136 137 138 139 140 141 142 143 144 145 146 147 148 149 150 151 152 153 154 155 156 157\n",
      " 158 159 160 161 162 163 164 165 166 167 168 169 170 171 172 173 174 175 176 177 178 179 180 181 182 183 184 185 186 187 188 189 190 191 192 193 194 195 196 197 198 199 200 201 202 203 204 205 206 207 208 209 210 211 212 213 214 215 216 217 218 219 220 221 222 223 224 225 226 227 228 229 230 231 232 233 234 235 236\n",
      " 237 238 239 240 241 242 243 244 245 246 247 248 249 250 251 252 253 254 255 256 257 258 259 260 261 262 263 264 265 266 267 268 269 270 271 272 273 274 275 276 277 278 279 280 281 282 283 284 285 286 287 288 289 290 291 292 293 294]\n",
      "[ 11.21842126 139.90374066 205.05934332 244.02440417 282.99505367] 264 28\n",
      "Distances under 100: [82.41020822 97.24833943 85.5319758  67.77821671 57.83734956 62.72421348 79.37449765 98.36593748 33.86310448 57.60108425 47.56591935 34.51031464 96.95502589 92.06023213 75.44104511 73.09119464 88.45326193 37.57839394 68.81617501 96.98567597 91.06890339 99.04031517 80.09757449 11.21842126 50.61240402 81.23960836\n",
      " 81.64642141 78.88314028]\n",
      "Enter Matching\n"
     ]
    },
    {
     "data": {
      "application/vnd.jupyter.widget-view+json": {
       "model_id": "b8ae2f4cf5a647539a47cbb72036966a",
       "version_major": 2,
       "version_minor": 0
      },
      "text/plain": [
       "Descriptor Matching (Flipped):   0%|          | 0/903 [00:00<?, ?it/s]"
      ]
     },
     "metadata": {},
     "output_type": "display_data"
    },
    {
     "name": "stdout",
     "output_type": "stream",
     "text": [
      "Results Update: 264 373 317\n",
      "317\n",
      "IDX 316\n",
      "DISTNACE 316\n",
      "DBSCAN 316\n",
      "INTERSECT 316\n",
      "317\n",
      "[  0   1   2   3   4   5   6   7   8   9  10  11  12  13  14  15  16  17  18  19  20  21  22  23  24  25  26  27  28  29  30  31  32  33  34  35  36  37  38  39  40  41  42  43  44  45  46  47  48  49  50  51  52  53  54  55  56  57  58  59  60  61  62  63  64  65  66  67  68  69  70  71  72  73  74  75  76  77  78\n",
      "  79  80  81  82  83  84  85  86  87  88  89  90  91  92  93  94  95  96  97  98  99 100 101 102 103 104 105 106 107 108 109 110 111 112 113 114 115 116 117 118 119 120 121 122 123 124 125 126 127 128 129 130 131 132 133 134 135 136 137 138 139 140 141 142 143 144 145 146 147 148 149 150 151 152 153 154 155 156 157\n",
      " 158 159 160 161 162 163 164 165 166 167 168 169 170 171 172 173 174 175 176 177 178 179 180 181 182 183 184 185 186 187 188 189 190 191 192 193 194 195 196 197 198 199 200 201 202 203 204 205 206 207 208 209 210 211 212 213 214 215 216 217 218 219 220 221 222 223 224 225 226 227 228 229 230 231 232 233 234 235 236\n",
      " 237 238 239 240 241 242 243 244 245 246 247 248 249 250 251 252 253 254 255 256 257 258 259 260 261 262 263 264 265 266 267 268 269 270 271 272 273 274 275 276 277 278 279 280 281 282 283 284 285 286 287 288 289 290 291 292 293 294 295 296 297 298 299 300 301 302 303 304 305 306 307 308 309 310 311 312 313 314 315\n",
      " 316]\n",
      "[ 22.52350679 130.81686258 191.0864331  228.71984615 270.48551985] 289 36\n",
      "Distances under 100: [93.62034032 97.01195698 99.61718006 98.57507181 88.07472604 30.8348918  55.55565428 76.56164343 97.15536069 25.01342876 51.26755196 41.23966367 53.75841558 99.94913446 76.91614583 69.3761934  52.41291243 81.6464358  22.52350679 95.77649894 76.17354536 74.59507464 88.76604255 37.2428811  62.80104806 33.70441522\n",
      " 51.70191712 59.85934048 38.61398579 93.12707703 85.34074287 85.87959481 89.3956943  59.05545788 76.46852355 58.51152941]\n",
      "Enter Matching\n"
     ]
    },
    {
     "data": {
      "application/vnd.jupyter.widget-view+json": {
       "model_id": "3154829ba6254ace85c3d6c458278daa",
       "version_major": 2,
       "version_minor": 0
      },
      "text/plain": [
       "Descriptor Matching (Flipped):   0%|          | 0/903 [00:00<?, ?it/s]"
      ]
     },
     "metadata": {},
     "output_type": "display_data"
    },
    {
     "name": "stdout",
     "output_type": "stream",
     "text": [
      "Results Update: 289 376 353\n",
      "353\n",
      "IDX 352\n",
      "DISTNACE 352\n",
      "DBSCAN 352\n",
      "INTERSECT 352\n",
      "353\n",
      "[  0   1   2   3   4   5   6   7   8   9  10  11  12  13  14  15  16  17  18  19  20  21  22  23  24  25  26  27  28  29  30  31  32  33  34  35  36  37  38  39  40  41  42  43  44  45  46  47  48  49  50  51  52  53  54  55  56  57  58  59  60  61  62  63  64  65  66  67  68  69  70  71  72  73  74  75  76  77  78\n",
      "  79  80  81  82  83  84  85  86  87  88  89  90  91  92  93  94  95  96  97  98  99 100 101 102 103 104 105 106 107 108 109 110 111 112 113 114 115 116 117 118 119 120 121 122 123 124 125 126 127 128 129 130 131 132 133 134 135 136 137 138 139 140 141 142 143 144 145 146 147 148 149 150 151 152 153 154 155 156 157\n",
      " 158 159 160 161 162 163 164 165 166 167 168 169 170 171 172 173 174 175 176 177 178 179 180 181 182 183 184 185 186 187 188 189 190 191 192 193 194 195 196 197 198 199 200 201 202 203 204 205 206 207 208 209 210 211 212 213 214 215 216 217 218 219 220 221 222 223 224 225 226 227 228 229 230 231 232 233 234 235 236\n",
      " 237 238 239 240 241 242 243 244 245 246 247 248 249 250 251 252 253 254 255 256 257 258 259 260 261 262 263 264 265 266 267 268 269 270 271 272 273 274 275 276 277 278 279 280 281 282 283 284 285 286 287 288 289 290 291 292 293 294 295 296 297 298 299 300 301 302 303 304 305 306 307 308 309 310 311 312 313 314 315\n",
      " 316 317 318 319 320 321 322 323 324 325 326 327 328 329 330 331 332 333 334 335 336 337 338 339 340 341 342 343 344 345 346 347 348 349 350 351 352]\n",
      "[ 10.11653775 123.1786603  182.95957276 220.88481084 257.13895384] 322 50\n",
      "Distances under 100: [87.50657133 88.63052613 92.28441803 73.31205676 15.83032963 54.80312177 82.42827258 99.68480704 23.5528387  47.43489505 63.03084527 81.53396025 64.34429714 70.70019206 68.78757937 34.92138386 99.77274977 49.85931123 67.23825524 77.81447308 10.11653775 18.03439031 79.23361611 69.85928062 87.70021541 37.46148263\n",
      " 47.71555776 45.57147496 48.41997077 41.74050661 30.95537058 32.54865061 96.98192131 69.08040094 91.18196628 82.23445197 96.94626768 67.16781327 59.29391328 66.27982664 60.58703418 43.34110525 40.50681313 85.87680502 73.56172163 91.18276385 57.57771827 90.06456434 71.74458026 84.18508706]\n",
      "Enter Matching\n"
     ]
    },
    {
     "data": {
      "application/vnd.jupyter.widget-view+json": {
       "model_id": "101b89c676cf4be29a359a3dcffb0bf6",
       "version_major": 2,
       "version_minor": 0
      },
      "text/plain": [
       "Descriptor Matching (Flipped):   0%|          | 0/903 [00:00<?, ?it/s]"
      ]
     },
     "metadata": {},
     "output_type": "display_data"
    },
    {
     "name": "stdout",
     "output_type": "stream",
     "text": [
      "Results Update: 322 369 387\n",
      "387\n",
      "IDX 386\n",
      "DISTNACE 386\n",
      "DBSCAN 386\n",
      "INTERSECT 386\n",
      "387\n",
      "[  0   1   2   3   4   5   6   7   8   9  10  11  12  13  14  15  16  17  18  19  20  21  22  23  24  25  26  27  28  29  30  31  32  33  34  35  36  37  38  39  40  41  42  43  44  45  46  47  48  49  50  51  52  53  54  55  56  57  58  59  60  61  62  63  64  65  66  67  68  69  70  71  72  73  74  75  76  77  78\n",
      "  79  80  81  82  83  84  85  86  87  88  89  90  91  92  93  94  95  96  97  98  99 100 101 102 103 104 105 106 107 108 109 110 111 112 113 114 115 116 117 118 119 120 121 122 123 124 125 126 127 128 129 130 131 132 133 134 135 136 137 138 139 140 141 142 143 144 145 146 147 148 149 150 151 152 153 154 155 156 157\n",
      " 158 159 160 161 162 163 164 165 166 167 168 169 170 171 172 173 174 175 176 177 178 179 180 181 182 183 184 185 186 187 188 189 190 191 192 193 194 195 196 197 198 199 200 201 202 203 204 205 206 207 208 209 210 211 212 213 214 215 216 217 218 219 220 221 222 223 224 225 226 227 228 229 230 231 232 233 234 235 236\n",
      " 237 238 239 240 241 242 243 244 245 246 247 248 249 250 251 252 253 254 255 256 257 258 259 260 261 262 263 264 265 266 267 268 269 270 271 272 273 274 275 276 277 278 279 280 281 282 283 284 285 286 287 288 289 290 291 292 293 294 295 296 297 298 299 300 301 302 303 304 305 306 307 308 309 310 311 312 313 314 315\n",
      " 316 317 318 319 320 321 322 323 324 325 326 327 328 329 330 331 332 333 334 335 336 337 338 339 340 341 342 343 344 345 346 347 348 349 350 351 352 353 354 355 356 357 358 359 360 361 362 363 364 365 366 367 368 369 370 371 372 373 374 375 376 377 378 379 380 381 382 383 384 385 386]\n",
      "[ 10.11578967 121.94687198 176.43928647 215.24000218 249.98299846] 362 57\n",
      "Distances under 100: [84.37563909 86.66459626 85.06947817 42.11302053 63.14048661 84.76388082 10.11578967 55.42527626 86.97799922 48.12487603 59.59866453 84.65194687 71.53087252 67.91578486 67.46639411 24.53520549 55.74530533 68.71127726 10.5357875  13.98341433 86.81391179 65.47089638 87.43106319 39.72382479 97.10305082 38.30613793\n",
      " 46.01556944 29.73926084 34.961165   32.01871654 97.76851043 59.43848622 90.82708447 53.42377336 74.83818859 96.14585749 69.82561061 42.76651666 70.17478891 75.39485629 76.7206356  55.4467544  57.4279178  41.38262492 75.05554367 44.81382022 81.00602603 93.54898248 81.50344826 91.66292539 65.38152364 96.82257577\n",
      " 34.3655312  59.43503766 74.84020573 30.35392017 18.94821628]\n",
      "Enter Matching\n"
     ]
    },
    {
     "data": {
      "application/vnd.jupyter.widget-view+json": {
       "model_id": "f43bfa48c8064817a06f1a4ea966e35d",
       "version_major": 2,
       "version_minor": 0
      },
      "text/plain": [
       "Descriptor Matching (Flipped):   0%|          | 0/903 [00:00<?, ?it/s]"
      ]
     },
     "metadata": {},
     "output_type": "display_data"
    },
    {
     "name": "stdout",
     "output_type": "stream",
     "text": [
      "Results Update: 362 376 457\n",
      "457\n",
      "IDX 456\n",
      "DISTNACE 456\n",
      "DBSCAN 456\n",
      "INTERSECT 456\n",
      "457\n",
      "[  0   1   2   3   4   5   6   7   8   9  10  11  12  13  14  15  16  17  18  19  20  21  22  23  24  25  26  27  28  29  30  31  32  33  34  35  36  37  38  39  40  41  42  43  44  45  46  47  48  49  50  51  52  53  54  55  56  57  58  59  60  61  62  63  64  65  66  67  68  69  70  71  72  73  74  75  76  77  78\n",
      "  79  80  81  82  83  84  85  86  87  88  89  90  91  92  93  94  95  96  97  98  99 100 101 102 103 104 105 106 107 108 109 110 111 112 113 114 115 116 117 118 119 120 121 122 123 124 125 126 127 128 129 130 131 132 133 134 135 136 137 138 139 140 141 142 143 144 145 146 147 148 149 150 151 152 153 154 155 156 157\n",
      " 158 159 160 161 162 163 164 165 166 167 168 169 170 171 172 173 174 175 176 177 178 179 180 181 182 183 184 185 186 187 188 189 190 191 192 193 194 195 196 197 198 199 200 201 202 203 204 205 206 207 208 209 210 211 212 213 214 215 216 217 218 219 220 221 222 223 224 225 226 227 228 229 230 231 232 233 234 235 236\n",
      " 237 238 239 240 241 242 243 244 245 246 247 248 249 250 251 252 253 254 255 256 257 258 259 260 261 262 263 264 265 266 267 268 269 270 271 272 273 274 275 276 277 278 279 280 281 282 283 284 285 286 287 288 289 290 291 292 293 294 295 296 297 298 299 300 301 302 303 304 305 306 307 308 309 310 311 312 313 314 315\n",
      " 316 317 318 319 320 321 322 323 324 325 326 327 328 329 330 331 332 333 334 335 336 337 338 339 340 341 342 343 344 345 346 347 348 349 350 351 352 353 354 355 356 357 358 359 360 361 362 363 364 365 366 367 368 369 370 371 372 373 374 375 376 377 378 379 380 381 382 383 384 385 386 387 388 389 390 391 392 393 394\n",
      " 395 396 397 398 399 400 401 402 403 404 405 406 407 408 409 410 411 412 413 414 415 416 417 418 419 420 421 422 423 424 425 426 427 428 429 430 431 432 433 434 435 436 437 438 439 440 441 442 443 444 445 446 447 448 449 450 451 452 453 454 455 456]\n",
      "[  3.94370905 112.37765462 158.68522837 199.00570612 248.73332913] 419 84\n",
      "Distances under 100: [86.05091976 93.70607006 61.49767612 55.35983506 74.75703002 73.81539417 15.5340626  44.49148778 74.39519669 91.69837043 88.00778373 63.006049   83.68809466 89.28876638 50.5808957  56.82792955 19.81044463 84.26161919 93.84963012 67.21096975 87.96436781 15.87058286 23.13467314 92.51528411 48.88799132 72.68340742\n",
      " 28.78281218 74.65512493 32.90510683 53.36188091 22.16233772 96.45097203 37.92621243 19.54380169 52.60947956 89.81642337 36.74957387 50.87693089 93.7961281  69.29764722 91.06289356 29.6884023  87.8983431  69.61902419 99.51271367 80.32078732 55.47161172 76.77974828 67.69777466 41.29496759 67.40505339 63.92479747\n",
      " 97.06035566 91.24652236 50.61994729 94.37044315 99.71159644 33.52190396 71.03395254 87.99766941 74.28352342 40.25384038 85.59656749 31.86296016  3.94370905 69.65080767 76.52526131 92.90726047 55.01247126 85.60587474 75.04193828 95.54126038 47.15358785 89.83210267 85.21365926 85.49119782 95.12937241 82.00796533\n",
      " 98.96308313 95.00482028 78.79330986 98.54542276 84.42299567 99.0312274 ]\n",
      "Enter Matching\n"
     ]
    },
    {
     "data": {
      "application/vnd.jupyter.widget-view+json": {
       "model_id": "f0f3de9209e1454fbb921fae06433b2d",
       "version_major": 2,
       "version_minor": 0
      },
      "text/plain": [
       "Descriptor Matching (Flipped):   0%|          | 0/903 [00:00<?, ?it/s]"
      ]
     },
     "metadata": {},
     "output_type": "display_data"
    },
    {
     "name": "stdout",
     "output_type": "stream",
     "text": [
      "Results Update: 419 406 518\n",
      "518\n",
      "IDX 517\n",
      "DISTNACE 517\n",
      "DBSCAN 517\n",
      "INTERSECT 517\n",
      "518\n",
      "[  0   1   2   3   4   5   6   7   8   9  10  11  12  13  14  15  16  17  18  19  20  21  22  23  24  25  26  27  28  29  30  31  32  33  34  35  36  37  38  39  40  41  42  43  44  45  46  47  48  49  50  51  52  53  54  55  56  57  58  59  60  61  62  63  64  65  66  67  68  69  70  71  72  73  74  75  76  77  78\n",
      "  79  80  81  82  83  84  85  86  87  88  89  90  91  92  93  94  95  96  97  98  99 100 101 102 103 104 105 106 107 108 109 110 111 112 113 114 115 116 117 118 119 120 121 122 123 124 125 126 127 128 129 130 131 132 133 134 135 136 137 138 139 140 141 142 143 144 145 146 147 148 149 150 151 152 153 154 155 156 157\n",
      " 158 159 160 161 162 163 164 165 166 167 168 169 170 171 172 173 174 175 176 177 178 179 180 181 182 183 184 185 186 187 188 189 190 191 192 193 194 195 196 197 198 199 200 201 202 203 204 205 206 207 208 209 210 211 212 213 214 215 216 217 218 219 220 221 222 223 224 225 226 227 228 229 230 231 232 233 234 235 236\n",
      " 237 238 239 240 241 242 243 244 245 246 247 248 249 250 251 252 253 254 255 256 257 258 259 260 261 262 263 264 265 266 267 268 269 270 271 272 273 274 275 276 277 278 279 280 281 282 283 284 285 286 287 288 289 290 291 292 293 294 295 296 297 298 299 300 301 302 303 304 305 306 307 308 309 310 311 312 313 314 315\n",
      " 316 317 318 319 320 321 322 323 324 325 326 327 328 329 330 331 332 333 334 335 336 337 338 339 340 341 342 343 344 345 346 347 348 349 350 351 352 353 354 355 356 357 358 359 360 361 362 363 364 365 366 367 368 369 370 371 372 373 374 375 376 377 378 379 380 381 382 383 384 385 386 387 388 389 390 391 392 393 394\n",
      " 395 396 397 398 399 400 401 402 403 404 405 406 407 408 409 410 411 412 413 414 415 416 417 418 419 420 421 422 423 424 425 426 427 428 429 430 431 432 433 434 435 436 437 438 439 440 441 442 443 444 445 446 447 448 449 450 451 452 453 454 455 456 457 458 459 460 461 462 463 464 465 466 467 468 469 470 471 472 473\n",
      " 474 475 476 477 478 479 480 481 482 483 484 485 486 487 488 489 490 491 492 493 494 495 496 497 498 499 500 501 502 503 504 505 506 507 508 509 510 511 512 513 514 515 516 517]\n",
      "[ 12.99028404 116.26471011 160.03405433 198.51880357 249.88978007] 498 90\n",
      "Distances under 100: [85.00859533 66.85006959 67.29166597 59.17102469 23.5154985  98.95595784 85.60932462 95.03072075 86.52422765 61.04728889 85.02014383 95.42477923 50.89464121 55.38900837 12.99028404 88.36639847 78.80286158 68.29692252 80.83918125 20.71258234 92.55558049 46.04531324 36.33950934 68.70207214 26.55559327 51.96887376\n",
      " 13.58550441 99.20081039 38.737732   29.20069825 46.08691517 88.79135859 50.52287751 91.73831782 14.60735887 86.86646272 62.2137351  94.55086533 51.52135643 84.74307544 74.03153296 29.24365758 81.63854574 54.53749895 87.99126835 91.30341478 47.78037057 79.96599749 87.71555176 88.46434268 27.86259039 75.91757012\n",
      " 29.06730821 88.61280955 89.95195    96.43615107 49.29598043 90.67888704 62.30731351 49.314149   99.13731302 98.340165   94.19569648 87.36235714 93.65757773 78.9337168  28.39941015 88.11470882 24.34514044 78.88849442 92.13585367 92.82765095 99.37447143 53.57890139 49.55209838 71.87641912 69.6116375  98.33347405\n",
      " 13.47159486 85.12198347 56.90935047 64.86348385 50.1364414  87.03047824 93.91100908 74.0726901  52.86458177 95.99729317 52.15602301 94.18930287]\n",
      "Enter Matching\n"
     ]
    },
    {
     "data": {
      "application/vnd.jupyter.widget-view+json": {
       "model_id": "cc29184a443f412a89b1658919d801bc",
       "version_major": 2,
       "version_minor": 0
      },
      "text/plain": [
       "Descriptor Matching (Flipped):   0%|          | 0/903 [00:00<?, ?it/s]"
      ]
     },
     "metadata": {},
     "output_type": "display_data"
    },
    {
     "name": "stdout",
     "output_type": "stream",
     "text": [
      "Results Update: 498 415 598\n",
      "598\n",
      "IDX 597\n",
      "DISTNACE 597\n",
      "DBSCAN 597\n",
      "INTERSECT 597\n",
      "598\n",
      "[  0   1   2   3   4   5   6   7   8   9  10  11  12  13  14  15  16  17  18  19  20  21  22  23  24  25  26  27  28  29  30  31  32  33  34  35  36  37  38  39  40  41  42  43  44  45  46  47  48  49  50  51  52  53  54  55  56  57  58  59  60  61  62  63  64  65  66  67  68  69  70  71  72  73  74  75  76  77  78\n",
      "  79  80  81  82  83  84  85  86  87  88  89  90  91  92  93  94  95  96  97  98  99 100 101 102 103 104 105 106 107 108 109 110 111 112 113 114 115 116 117 118 119 120 121 122 123 124 125 126 127 128 129 130 131 132 133 134 135 136 137 138 139 140 141 142 143 144 145 146 147 148 149 150 151 152 153 154 155 156 157\n",
      " 158 159 160 161 162 163 164 165 166 167 168 169 170 171 172 173 174 175 176 177 178 179 180 181 182 183 184 185 186 187 188 189 190 191 192 193 194 195 196 197 198 199 200 201 202 203 204 205 206 207 208 209 210 211 212 213 214 215 216 217 218 219 220 221 222 223 224 225 226 227 228 229 230 231 232 233 234 235 236\n",
      " 237 238 239 240 241 242 243 244 245 246 247 248 249 250 251 252 253 254 255 256 257 258 259 260 261 262 263 264 265 266 267 268 269 270 271 272 273 274 275 276 277 278 279 280 281 282 283 284 285 286 287 288 289 290 291 292 293 294 295 296 297 298 299 300 301 302 303 304 305 306 307 308 309 310 311 312 313 314 315\n",
      " 316 317 318 319 320 321 322 323 324 325 326 327 328 329 330 331 332 333 334 335 336 337 338 339 340 341 342 343 344 345 346 347 348 349 350 351 352 353 354 355 356 357 358 359 360 361 362 363 364 365 366 367 368 369 370 371 372 373 374 375 376 377 378 379 380 381 382 383 384 385 386 387 388 389 390 391 392 393 394\n",
      " 395 396 397 398 399 400 401 402 403 404 405 406 407 408 409 410 411 412 413 414 415 416 417 418 419 420 421 422 423 424 425 426 427 428 429 430 431 432 433 434 435 436 437 438 439 440 441 442 443 444 445 446 447 448 449 450 451 452 453 454 455 456 457 458 459 460 461 462 463 464 465 466 467 468 469 470 471 472 473\n",
      " 474 475 476 477 478 479 480 481 482 483 484 485 486 487 488 489 490 491 492 493 494 495 496 497 498 499 500 501 502 503 504 505 506 507 508 509 510 511 512 513 514 515 516 517 518 519 520 521 522 523 524 525 526 527 528 529 530 531 532 533 534 535 536 537 538 539 540 541 542 543 544 545 546 547 548 549 550 551 552\n",
      " 553 554 555 556 557 558 559 560 561 562 563 564 565 566 567 568 569 570 571 572 573 574 575 576 577 578 579 580 581 582 583 584 585 586 587 588 589 590 591 592 593 594 595 596 597]\n",
      "[ 10.55456108 120.32665186 161.92138928 198.16321135 249.86924888] 577 92\n",
      "Distances under 100: [70.08015603 72.68677474 61.40718998 23.4706855  96.01998894 82.67560214 83.02259507 88.1414331  94.20616232 56.96688419 52.4350409  25.79148703 76.3612621  82.68306823 98.84341065 45.62344243 41.60166201 75.7061664  39.01041043 57.42137903 27.10012093 98.44450073 30.63157284 37.56956386 59.30699436 78.82269525\n",
      " 48.31050262 97.7883586  18.27235696 76.71926204 55.38881384 75.05522687 99.73934002 62.78142301 93.06441834 84.28708907 25.59134471 88.38296278 57.57838597 77.98610834 98.26523121 45.96343807 76.1367263  84.72033224 92.37811611 23.23471661 75.75328417 37.6545821  92.51975145 96.99491607 93.11176653 54.50030697\n",
      " 97.23405315 64.30665762 57.28092916 96.41410385 94.47378838 93.9198368  89.96204486 19.00146206 87.82426063 19.34527097 97.38593054 68.88043445 96.01778386 86.90770743 55.82446953 84.17816867 74.34638878 10.55456108 51.35381322 66.59434944 44.82564047 89.21406365 97.22391252 73.00328059 57.86921638 93.10352379\n",
      " 92.80023979 59.61948316 98.6438725  98.23890093 61.85688192 92.63198273 67.54260709 71.33801829 94.1474639  96.41406219 95.04438007 54.23643764 22.99312552 57.76353313]\n",
      "Enter Matching\n"
     ]
    },
    {
     "data": {
      "application/vnd.jupyter.widget-view+json": {
       "model_id": "06f2ede5a80f4882b7f7db6b963d3a14",
       "version_major": 2,
       "version_minor": 0
      },
      "text/plain": [
       "Descriptor Matching (Flipped):   0%|          | 0/903 [00:00<?, ?it/s]"
      ]
     },
     "metadata": {},
     "output_type": "display_data"
    },
    {
     "name": "stdout",
     "output_type": "stream",
     "text": [
      "Results Update: 577 425 663\n",
      "663\n",
      "IDX 662\n",
      "DISTNACE 662\n",
      "DBSCAN 662\n",
      "INTERSECT 662\n",
      "663\n",
      "[  0   1   2   3   4   5   6   7   8   9  10  11  12  13  14  15  16  17  18  19  20  21  22  23  24  25  26  27  28  29  30  31  32  33  34  35  36  37  38  39  40  41  42  43  44  45  46  47  48  49  50  51  52  53  54  55  56  57  58  59  60  61  62  63  64  65  66  67  68  69  70  71  72  73  74  75  76  77  78\n",
      "  79  80  81  82  83  84  85  86  87  88  89  90  91  92  93  94  95  96  97  98  99 100 101 102 103 104 105 106 107 108 109 110 111 112 113 114 115 116 117 118 119 120 121 122 123 124 125 126 127 128 129 130 131 132 133 134 135 136 137 138 139 140 141 142 143 144 145 146 147 148 149 150 151 152 153 154 155 156 157\n",
      " 158 159 160 161 162 163 164 165 166 167 168 169 170 171 172 173 174 175 176 177 178 179 180 181 182 183 184 185 186 187 188 189 190 191 192 193 194 195 196 197 198 199 200 201 202 203 204 205 206 207 208 209 210 211 212 213 214 215 216 217 218 219 220 221 222 223 224 225 226 227 228 229 230 231 232 233 234 235 236\n",
      " 237 238 239 240 241 242 243 244 245 246 247 248 249 250 251 252 253 254 255 256 257 258 259 260 261 262 263 264 265 266 267 268 269 270 271 272 273 274 275 276 277 278 279 280 281 282 283 284 285 286 287 288 289 290 291 292 293 294 295 296 297 298 299 300 301 302 303 304 305 306 307 308 309 310 311 312 313 314 315\n",
      " 316 317 318 319 320 321 322 323 324 325 326 327 328 329 330 331 332 333 334 335 336 337 338 339 340 341 342 343 344 345 346 347 348 349 350 351 352 353 354 355 356 357 358 359 360 361 362 363 364 365 366 367 368 369 370 371 372 373 374 375 376 377 378 379 380 381 382 383 384 385 386 387 388 389 390 391 392 393 394\n",
      " 395 396 397 398 399 400 401 402 403 404 405 406 407 408 409 410 411 412 413 414 415 416 417 418 419 420 421 422 423 424 425 426 427 428 429 430 431 432 433 434 435 436 437 438 439 440 441 442 443 444 445 446 447 448 449 450 451 452 453 454 455 456 457 458 459 460 461 462 463 464 465 466 467 468 469 470 471 472 473\n",
      " 474 475 476 477 478 479 480 481 482 483 484 485 486 487 488 489 490 491 492 493 494 495 496 497 498 499 500 501 502 503 504 505 506 507 508 509 510 511 512 513 514 515 516 517 518 519 520 521 522 523 524 525 526 527 528 529 530 531 532 533 534 535 536 537 538 539 540 541 542 543 544 545 546 547 548 549 550 551 552\n",
      " 553 554 555 556 557 558 559 560 561 562 563 564 565 566 567 568 569 570 571 572 573 574 575 576 577 578 579 580 581 582 583 584 585 586 587 588 589 590 591 592 593 594 595 596 597 598 599 600 601 602 603 604 605 606 607 608 609 610 611 612 613 614 615 616 617 618 619 620 621 622 623 624 625 626 627 628 629 630 631\n",
      " 632 633 634 635 636 637 638 639 640 641 642 643 644 645 646 647 648 649 650 651 652 653 654 655 656 657 658 659 660 661 662]\n",
      "[  8.85421922 120.78122231 158.19587299 194.98544641 249.61547709] 628 95\n",
      "Distances under 100: [77.31417114 67.1693307  52.57575812 30.82934348 94.01821743 91.8166972  86.02951211 90.96212014 95.97557275 92.64262173 63.76159817 54.33976125 25.3050963  80.20096747 84.85380586 49.31216998 50.09140528 99.79564962 38.83155112 99.09186703 92.8655138  29.34959315 47.42268139 59.53203907 75.22113111 54.0589886\n",
      " 99.38395595  8.85421922 70.32266045 50.39083834 67.7123975  92.56764471 15.06818111 58.28908586 67.77605781 64.31806129 78.91138597 19.63266175 76.25652604 75.13192569 38.09068906 92.36119559 97.58003417 97.8841411  62.07707107 65.17733793 68.01310627 92.3660621  75.70444416 96.12577557 98.39377015 12.19683929\n",
      " 86.02782021 17.30142836 92.51858454 61.86391681 98.17529723 81.6535301  99.01448047 84.8586329  73.78042139 14.11953634 46.87515018 70.00219616 40.1561324  91.30880558 93.83970817 72.51151381 69.62782613 89.80984523 89.98848364 82.81469074 64.12072293 72.1354358  62.44791625 92.42283349 96.81273063 60.58484409\n",
      " 75.83377572 67.37013709 90.3329698  96.03662815 94.52721922 64.40398217 33.11569973 66.15740897 77.29123978 63.34907032 83.40820726 32.48299196 78.12572007 87.41961481 74.65788355 31.56969823 90.21981363]\n",
      "Enter Matching\n"
     ]
    },
    {
     "data": {
      "application/vnd.jupyter.widget-view+json": {
       "model_id": "47ba3ca3f2224679aa0e21fdace01889",
       "version_major": 2,
       "version_minor": 0
      },
      "text/plain": [
       "Descriptor Matching (Flipped):   0%|          | 0/903 [00:00<?, ?it/s]"
      ]
     },
     "metadata": {},
     "output_type": "display_data"
    },
    {
     "name": "stdout",
     "output_type": "stream",
     "text": [
      "Results Update: 628 441 729\n",
      "729\n",
      "IDX 728\n",
      "DISTNACE 728\n",
      "DBSCAN 728\n",
      "INTERSECT 728\n",
      "729\n",
      "[  0   1   2   3   4   5   6   7   8   9  10  11  12  13  14  15  16  17  18  19  20  21  22  23  24  25  26  27  28  29  30  31  32  33  34  35  36  37  38  39  40  41  42  43  44  45  46  47  48  49  50  51  52  53  54  55  56  57  58  59  60  61  62  63  64  65  66  67  68  69  70  71  72  73  74  75  76  77  78\n",
      "  79  80  81  82  83  84  85  86  87  88  89  90  91  92  93  94  95  96  97  98  99 100 101 102 103 104 105 106 107 108 109 110 111 112 113 114 115 116 117 118 119 120 121 122 123 124 125 126 127 128 129 130 131 132 133 134 135 136 137 138 139 140 141 142 143 144 145 146 147 148 149 150 151 152 153 154 155 156 157\n",
      " 158 159 160 161 162 163 164 165 166 167 168 169 170 171 172 173 174 175 176 177 178 179 180 181 182 183 184 185 186 187 188 189 190 191 192 193 194 195 196 197 198 199 200 201 202 203 204 205 206 207 208 209 210 211 212 213 214 215 216 217 218 219 220 221 222 223 224 225 226 227 228 229 230 231 232 233 234 235 236\n",
      " 237 238 239 240 241 242 243 244 245 246 247 248 249 250 251 252 253 254 255 256 257 258 259 260 261 262 263 264 265 266 267 268 269 270 271 272 273 274 275 276 277 278 279 280 281 282 283 284 285 286 287 288 289 290 291 292 293 294 295 296 297 298 299 300 301 302 303 304 305 306 307 308 309 310 311 312 313 314 315\n",
      " 316 317 318 319 320 321 322 323 324 325 326 327 328 329 330 331 332 333 334 335 336 337 338 339 340 341 342 343 344 345 346 347 348 349 350 351 352 353 354 355 356 357 358 359 360 361 362 363 364 365 366 367 368 369 370 371 372 373 374 375 376 377 378 379 380 381 382 383 384 385 386 387 388 389 390 391 392 393 394\n",
      " 395 396 397 398 399 400 401 402 403 404 405 406 407 408 409 410 411 412 413 414 415 416 417 418 419 420 421 422 423 424 425 426 427 428 429 430 431 432 433 434 435 436 437 438 439 440 441 442 443 444 445 446 447 448 449 450 451 452 453 454 455 456 457 458 459 460 461 462 463 464 465 466 467 468 469 470 471 472 473\n",
      " 474 475 476 477 478 479 480 481 482 483 484 485 486 487 488 489 490 491 492 493 494 495 496 497 498 499 500 501 502 503 504 505 506 507 508 509 510 511 512 513 514 515 516 517 518 519 520 521 522 523 524 525 526 527 528 529 530 531 532 533 534 535 536 537 538 539 540 541 542 543 544 545 546 547 548 549 550 551 552\n",
      " 553 554 555 556 557 558 559 560 561 562 563 564 565 566 567 568 569 570 571 572 573 574 575 576 577 578 579 580 581 582 583 584 585 586 587 588 589 590 591 592 593 594 595 596 597 598 599 600 601 602 603 604 605 606 607 608 609 610 611 612 613 614 615 616 617 618 619 620 621 622 623 624 625 626 627 628 629 630 631\n",
      " 632 633 634 635 636 637 638 639 640 641 642 643 644 645 646 647 648 649 650 651 652 653 654 655 656 657 658 659 660 661 662 663 664 665 666 667 668 669 670 671 672 673 674 675 676 677 678 679 680 681 682 683 684 685 686 687 688 689 690 691 692 693 694 695 696 697 698 699 700 701 702 703 704 705 706 707 708 709 710\n",
      " 711 712 713 714 715 716 717 718 719 720 721 722 723 724 725 726 727 728]\n",
      "[  8.60206489 119.58182652 157.18360025 192.86710805 248.89217165] 687 106\n",
      "Distances under 100: [80.81548801 68.62665988 54.04817117 44.64260837 91.95735892 85.86714683 93.53182486 99.40825686 79.699642   73.09721367 53.71599454 37.56614952 30.08552422 87.93527294 90.27573844 98.70897605 52.77029773 57.40005652 89.78051578 51.52666389 97.98931278 93.76817263 23.26791109 59.49224653 73.21002516 65.36984777\n",
      " 56.21060172 10.87171764 60.26778821 44.17173779 55.78007821  8.60206489 66.11305978 53.87076975 56.96011714 76.72590103 25.03151216 84.30944795 48.07144329 91.58781793 94.68289683 96.35678058 98.57519534 73.40564471 81.23973887 98.53824069 88.99660155 76.57457536 99.37779153 10.07490525 88.17001225 49.51455043\n",
      " 75.62759633 94.53668678 96.28875933 24.69177068 41.60908708 97.94910697 89.94496565 37.83358543 95.83601415 79.75630718 64.88620667 78.76784823 88.91175248 80.68925286 71.94607756 66.12972239 70.35327117 91.71893787 82.52300144 88.47488941 93.67294253 54.22366357 85.49012716 72.41366863 89.39238914 40.86018825\n",
      " 80.54277924 61.95905302 50.53156667 77.53799422 57.65493626 84.80880653 25.31432952 71.61973089 90.95228116 95.33367076 23.85647582 13.76165636 81.34666233 82.64691305 11.34080123 78.68155951 36.00480873 38.13440455 83.04665378 74.32598574 83.46810126 67.43014544 76.04407052 27.66117653 27.6729504  72.46609961\n",
      " 92.92825935 90.59727553]\n",
      "D:\\CaseStudies_CoH_FineAdjustDigitization1\\ReRegisterCoH\\\\registration/4802960155B.tif\n",
      "[[ 1.13634777e+00 -2.74974123e-02  1.54346343e+06]\n",
      " [ 2.74974123e-02  1.13634777e+00 -1.79867469e+05]\n",
      " [ 0.00000000e+00  0.00000000e+00  1.00000000e+00]]\n",
      "[[ 2.67847732e+00  6.74716484e-02 -1.06314652e+07]\n",
      " [ 6.48139568e-02 -2.78830809e+00  3.46620912e+06]\n",
      " [ 0.00000000e+00  0.00000000e+00  1.00000000e+00]]\n",
      "D:\\CaseStudies_CoH_FineAdjustDigitization1\\ReRegisterCoH\\\\focus\\4802960175E.tif\n",
      "637 / 1648\n",
      "Enter Matching\n"
     ]
    },
    {
     "data": {
      "application/vnd.jupyter.widget-view+json": {
       "model_id": "12fea15cfa0b467abde7031decc2018f",
       "version_major": 2,
       "version_minor": 0
      },
      "text/plain": [
       "Calculating Descriptors:   0%|          | 0/2453 [00:00<?, ?it/s]"
      ]
     },
     "metadata": {},
     "output_type": "display_data"
    },
    {
     "data": {
      "application/vnd.jupyter.widget-view+json": {
       "model_id": "05d70674bd2f4d1facba13522ae5409b",
       "version_major": 2,
       "version_minor": 0
      },
      "text/plain": [
       "Calculating Descriptors:   0%|          | 0/635 [00:00<?, ?it/s]"
      ]
     },
     "metadata": {},
     "output_type": "display_data"
    },
    {
     "data": {
      "application/vnd.jupyter.widget-view+json": {
       "model_id": "92ef441058fa4fe1990206f5990bf41a",
       "version_major": 2,
       "version_minor": 0
      },
      "text/plain": [
       "Descriptor Matching (Flipped):   0%|          | 0/635 [00:00<?, ?it/s]"
      ]
     },
     "metadata": {},
     "output_type": "display_data"
    },
    {
     "name": "stdout",
     "output_type": "stream",
     "text": [
      "309\n",
      "IDX 308\n",
      "DISTNACE 308\n",
      "DBSCAN 307\n",
      "INTERSECT 307\n",
      "308\n",
      "[  0   1   2   3   4   5   6   7   8   9  10  11  12  13  14  15  16  17  18  19  20  21  22  23  24  25  26  27  28  29  30  31  32  33  34  35  36  37  38  39  40  41  42  43  44  45  46  47  48  49  50  51  52  53  54  55  56  57  58  59  60  61  62  63  64  65  66  67  68  69  70  71  72  73  74  75  76  77  78\n",
      "  79  80  81  82  83  84  85  86  87  88  89  90  91  92  93  94  95  96  97  98  99 100 101 102 103 104 105 106 107 108 109 110 111 112 113 114 115 116 117 118 119 120 121 122 123 124 125 126 127 128 129 130 131 132 133 134 135 136 137 138 139 140 141 142 143 144 145 146 147 148 149 150 151 152 153 154 155 156 157\n",
      " 158 159 160 161 162 163 164 165 166 167 168 169 170 171 172 173 174 175 176 177 178 179 180 181 182 183 184 185 186 187 188 189 190 191 192 193 194 195 196 197 198 199 200 201 202 203 204 205 206 207 208 209 210 211 212 213 214 215 216 217 218 219 220 221 222 223 224 225 226 227 228 229 230 231 232 233 234 235 236\n",
      " 237 238 239 240 241 242 243 244 245 246 247 248 249 250 251 252 253 254 255 256 257 258 259 260 261 262 263 264 265 266 267 268 269 270 271 272 273 274 275 276 277 279 280 281 282 283 284 285 286 287 288 289 290 291 292 293 294 295 296 297 298 299 300 301 302 303 304 305 306 307 308]\n",
      "[ 15.22585004 157.3807535  210.01194785 247.64212082 296.75215607] 294 35\n",
      "Distances under 100: [49.11936508 64.10574641 97.01182182 87.95481161 59.26683543 94.19401755 81.92032899 84.8211641  72.0934316  62.62961711 82.53436794 43.54372853 87.93572069 63.66113037 26.59996285 39.38087646 67.86825145 73.50388977 45.46960039 93.71183767 66.0751693  35.08553168 95.16805857 33.07472608 87.56502176 47.33444112\n",
      " 15.22585004 60.26225568 32.40243716 82.489322   82.61827815 62.97393263 91.67764635 93.74400788 53.23322081]\n",
      "Enter Matching\n"
     ]
    },
    {
     "data": {
      "application/vnd.jupyter.widget-view+json": {
       "model_id": "a1a4d5a5f42648bcbd11d5cc5b21df3d",
       "version_major": 2,
       "version_minor": 0
      },
      "text/plain": [
       "Descriptor Matching (Flipped):   0%|          | 0/635 [00:00<?, ?it/s]"
      ]
     },
     "metadata": {},
     "output_type": "display_data"
    },
    {
     "name": "stdout",
     "output_type": "stream",
     "text": [
      "Results Update: 294 314 217\n",
      "217\n",
      "IDX 216\n",
      "DISTNACE 216\n",
      "DBSCAN 216\n",
      "INTERSECT 216\n",
      "217\n",
      "[  0   1   2   3   4   5   6   7   8   9  10  11  12  13  14  15  16  17  18  19  20  21  22  23  24  25  26  27  28  29  30  31  32  33  34  35  36  37  38  39  40  41  42  43  44  45  46  47  48  49  50  51  52  53  54  55  56  57  58  59  60  61  62  63  64  65  66  67  68  69  70  71  72  73  74  75  76  77  78\n",
      "  79  80  81  82  83  84  85  86  87  88  89  90  91  92  93  94  95  96  97  98  99 100 101 102 103 104 105 106 107 108 109 110 111 112 113 114 115 116 117 118 119 120 121 122 123 124 125 126 127 128 129 130 131 132 133 134 135 136 137 138 139 140 141 142 143 144 145 146 147 148 149 150 151 152 153 154 155 156 157\n",
      " 158 159 160 161 162 163 164 165 166 167 168 169 170 171 172 173 174 175 176 177 178 179 180 181 182 183 184 185 186 187 188 189 190 191 192 193 194 195 196 197 198 199 200 201 202 203 204 205 206 207 208 209 210 211 212 213 214 215 216]\n",
      "[  9.3715376  159.13608908 202.81445843 242.02439371 282.59501043] 196 25\n",
      "Distances under 100: [94.98910418  9.3715376  69.74229654 67.8761107  97.27667814 41.66025333 99.85293662 90.25096776 62.66929867 50.90054083 42.04417749 48.97845274 41.8698334  55.43452297 17.482898   99.7562168  37.97095211 22.86779057 71.46269813 83.0368073  51.16760888 98.46547213 53.40645753 79.50621175 51.38871101]\n",
      "Enter Matching\n"
     ]
    },
    {
     "data": {
      "application/vnd.jupyter.widget-view+json": {
       "model_id": "98d112b4118b4e5eb3d14ddc36404324",
       "version_major": 2,
       "version_minor": 0
      },
      "text/plain": [
       "Descriptor Matching (Flipped):   0%|          | 0/635 [00:00<?, ?it/s]"
      ]
     },
     "metadata": {},
     "output_type": "display_data"
    },
    {
     "name": "stdout",
     "output_type": "stream",
     "text": [
      "Results Update: 196 312 235\n",
      "235\n",
      "IDX 234\n",
      "DISTNACE 234\n",
      "DBSCAN 234\n",
      "INTERSECT 234\n",
      "235\n",
      "[  0   1   2   3   4   5   6   7   8   9  10  11  12  13  14  15  16  17  18  19  20  21  22  23  24  25  26  27  28  29  30  31  32  33  34  35  36  37  38  39  40  41  42  43  44  45  46  47  48  49  50  51  52  53  54  55  56  57  58  59  60  61  62  63  64  65  66  67  68  69  70  71  72  73  74  75  76  77  78\n",
      "  79  80  81  82  83  84  85  86  87  88  89  90  91  92  93  94  95  96  97  98  99 100 101 102 103 104 105 106 107 108 109 110 111 112 113 114 115 116 117 118 119 120 121 122 123 124 125 126 127 128 129 130 131 132 133 134 135 136 137 138 139 140 141 142 143 144 145 146 147 148 149 150 151 152 153 154 155 156 157\n",
      " 158 159 160 161 162 163 164 165 166 167 168 169 170 171 172 173 174 175 176 177 178 179 180 181 182 183 184 185 186 187 188 189 190 191 192 193 194 195 196 197 198 199 200 201 202 203 204 205 206 207 208 209 210 211 212 213 214 215 216 217 218 219 220 221 222 223 224 225 226 227 228 229 230 231 232 233 234]\n",
      "[  7.29751407 137.60688565 190.16750721 228.35860774 269.79952243] 211 30\n",
      "Distances under 100: [ 7.29751407 77.85352503 56.74123468 52.39231593 96.57200459 64.4326901  45.36942929 47.33202616 48.21751117 84.93887188 21.17563669 43.42773118 96.83186748 24.69045937 72.19017527 88.78782385 16.21431419 74.53497763 86.44620343 49.50880842 73.74959502 55.51995251 40.20609505 73.83483032 59.09177374 42.55837237\n",
      " 90.20660361 93.50166882 70.15475246 31.31314416]\n",
      "Enter Matching\n"
     ]
    },
    {
     "data": {
      "application/vnd.jupyter.widget-view+json": {
       "model_id": "f11b2de10cb4423995c1bfa8cc4484e5",
       "version_major": 2,
       "version_minor": 0
      },
      "text/plain": [
       "Descriptor Matching (Flipped):   0%|          | 0/635 [00:00<?, ?it/s]"
      ]
     },
     "metadata": {},
     "output_type": "display_data"
    },
    {
     "name": "stdout",
     "output_type": "stream",
     "text": [
      "Results Update: 211 303 258\n",
      "258\n",
      "IDX 257\n",
      "DISTNACE 257\n",
      "DBSCAN 257\n",
      "INTERSECT 257\n",
      "258\n",
      "[  0   1   2   3   4   5   6   7   8   9  10  11  12  13  14  15  16  17  18  19  20  21  22  23  24  25  26  27  28  29  30  31  32  33  34  35  36  37  38  39  40  41  42  43  44  45  46  47  48  49  50  51  52  53  54  55  56  57  58  59  60  61  62  63  64  65  66  67  68  69  70  71  72  73  74  75  76  77  78\n",
      "  79  80  81  82  83  84  85  86  87  88  89  90  91  92  93  94  95  96  97  98  99 100 101 102 103 104 105 106 107 108 109 110 111 112 113 114 115 116 117 118 119 120 121 122 123 124 125 126 127 128 129 130 131 132 133 134 135 136 137 138 139 140 141 142 143 144 145 146 147 148 149 150 151 152 153 154 155 156 157\n",
      " 158 159 160 161 162 163 164 165 166 167 168 169 170 171 172 173 174 175 176 177 178 179 180 181 182 183 184 185 186 187 188 189 190 191 192 193 194 195 196 197 198 199 200 201 202 203 204 205 206 207 208 209 210 211 212 213 214 215 216 217 218 219 220 221 222 223 224 225 226 227 228 229 230 231 232 233 234 235 236\n",
      " 237 238 239 240 241 242 243 244 245 246 247 248 249 250 251 252 253 254 255 256 257]\n",
      "[  8.90185755 130.60231373 184.58293668 213.27154616 256.70919605] 230 36\n",
      "Distances under 100: [58.27498586 99.27048428  8.90185755 59.49856422 48.82802114 63.81770227 48.6772767  52.31676085 47.25425909 87.72014374 23.67574422 38.5931132  99.24350176 23.66425482 77.01179326 19.59431422 80.18757221 81.81462395 41.89886071 72.40062577 92.69239847 59.5554638  47.73574357 70.51242385 58.78728527 43.49645305\n",
      " 88.18802009 98.98919114 96.70512049 74.83814051 65.88452822 74.39690349 78.35133999 95.93019437 56.82219355 63.91704083]\n",
      "Enter Matching\n"
     ]
    },
    {
     "data": {
      "application/vnd.jupyter.widget-view+json": {
       "model_id": "16d4fb582e2e4b1597925db207534f83",
       "version_major": 2,
       "version_minor": 0
      },
      "text/plain": [
       "Descriptor Matching (Flipped):   0%|          | 0/635 [00:00<?, ?it/s]"
      ]
     },
     "metadata": {},
     "output_type": "display_data"
    },
    {
     "name": "stdout",
     "output_type": "stream",
     "text": [
      "Results Update: 230 289 280\n",
      "280\n",
      "IDX 279\n",
      "DISTNACE 279\n",
      "DBSCAN 279\n",
      "INTERSECT 279\n",
      "280\n",
      "[  0   1   2   3   4   5   6   7   8   9  10  11  12  13  14  15  16  17  18  19  20  21  22  23  24  25  26  27  28  29  30  31  32  33  34  35  36  37  38  39  40  41  42  43  44  45  46  47  48  49  50  51  52  53  54  55  56  57  58  59  60  61  62  63  64  65  66  67  68  69  70  71  72  73  74  75  76  77  78\n",
      "  79  80  81  82  83  84  85  86  87  88  89  90  91  92  93  94  95  96  97  98  99 100 101 102 103 104 105 106 107 108 109 110 111 112 113 114 115 116 117 118 119 120 121 122 123 124 125 126 127 128 129 130 131 132 133 134 135 136 137 138 139 140 141 142 143 144 145 146 147 148 149 150 151 152 153 154 155 156 157\n",
      " 158 159 160 161 162 163 164 165 166 167 168 169 170 171 172 173 174 175 176 177 178 179 180 181 182 183 184 185 186 187 188 189 190 191 192 193 194 195 196 197 198 199 200 201 202 203 204 205 206 207 208 209 210 211 212 213 214 215 216 217 218 219 220 221 222 223 224 225 226 227 228 229 230 231 232 233 234 235 236\n",
      " 237 238 239 240 241 242 243 244 245 246 247 248 249 250 251 252 253 254 255 256 257 258 259 260 261 262 263 264 265 266 267 268 269 270 271 272 273 274 275 276 277 278 279]\n",
      "[  1.49257301 129.2417115  171.46927176 205.88681143 249.80904179] 252 39\n",
      "Distances under 100: [42.63912082 27.26948236 67.68367595 95.71631298 57.88426768 70.31692965 58.10816189 68.23692271 44.13295235 88.40013756 30.95378304 35.68884192 25.4953608  22.19834188 73.45025677 27.51146485  1.49257301 93.24689901 87.19330729 70.58493621 56.43045006 80.35713183 62.98219221 41.20037383 87.9945749  78.69722223\n",
      " 69.93107559 59.33538446 89.08573686 66.54121299 87.29843853 93.72599358 51.28934947 64.59036233 16.39719842 97.58555875 15.77993596 73.03490313 93.21898273]\n",
      "Enter Matching\n"
     ]
    },
    {
     "data": {
      "application/vnd.jupyter.widget-view+json": {
       "model_id": "786ec81222f142ad89138ca205e552a1",
       "version_major": 2,
       "version_minor": 0
      },
      "text/plain": [
       "Descriptor Matching (Flipped):   0%|          | 0/635 [00:00<?, ?it/s]"
      ]
     },
     "metadata": {},
     "output_type": "display_data"
    },
    {
     "name": "stdout",
     "output_type": "stream",
     "text": [
      "Results Update: 252 290 309\n",
      "309\n",
      "IDX 308\n",
      "DISTNACE 308\n",
      "DBSCAN 308\n",
      "INTERSECT 308\n",
      "309\n",
      "[  0   1   2   3   4   5   6   7   8   9  10  11  12  13  14  15  16  17  18  19  20  21  22  23  24  25  26  27  28  29  30  31  32  33  34  35  36  37  38  39  40  41  42  43  44  45  46  47  48  49  50  51  52  53  54  55  56  57  58  59  60  61  62  63  64  65  66  67  68  69  70  71  72  73  74  75  76  77  78\n",
      "  79  80  81  82  83  84  85  86  87  88  89  90  91  92  93  94  95  96  97  98  99 100 101 102 103 104 105 106 107 108 109 110 111 112 113 114 115 116 117 118 119 120 121 122 123 124 125 126 127 128 129 130 131 132 133 134 135 136 137 138 139 140 141 142 143 144 145 146 147 148 149 150 151 152 153 154 155 156 157\n",
      " 158 159 160 161 162 163 164 165 166 167 168 169 170 171 172 173 174 175 176 177 178 179 180 181 182 183 184 185 186 187 188 189 190 191 192 193 194 195 196 197 198 199 200 201 202 203 204 205 206 207 208 209 210 211 212 213 214 215 216 217 218 219 220 221 222 223 224 225 226 227 228 229 230 231 232 233 234 235 236\n",
      " 237 238 239 240 241 242 243 244 245 246 247 248 249 250 251 252 253 254 255 256 257 258 259 260 261 262 263 264 265 266 267 268 269 270 271 272 273 274 275 276 277 278 279 280 281 282 283 284 285 286 287 288 289 290 291 292 293 294 295 296 297 298 299 300 301 302 303 304 305 306 307 308]\n",
      "[  6.72292866 121.38370515 171.94639173 206.68058786 248.61658932] 295 49\n",
      "Distances under 100: [35.95229303 98.55173457 30.8861254  38.40592182 67.8176222  90.80355305 62.47099296 73.46883765 73.76229849 44.36644479 84.99371462 32.24623396 34.98002594 74.5937305  98.97012116 31.27728184 17.19978015 76.69680286 18.29012982  6.72292866 92.03915999 79.82785483 71.50449011 61.21931254 82.31454779 68.41389031\n",
      " 39.3682498  81.91172465 68.53937558 60.71558167 82.63186991 93.54321827 61.08150781 91.02724271 58.65975938 58.68471327 18.37492858 23.7664968  51.57718894 73.7358051  71.93441304  9.3849302  88.78641239 98.06196364 43.28006871 50.11988068 86.42172095 90.35959311 74.80093994]\n",
      "Enter Matching\n"
     ]
    },
    {
     "data": {
      "application/vnd.jupyter.widget-view+json": {
       "model_id": "c24b74403e094c1b8798b1609c31ea8e",
       "version_major": 2,
       "version_minor": 0
      },
      "text/plain": [
       "Descriptor Matching (Flipped):   0%|          | 0/635 [00:00<?, ?it/s]"
      ]
     },
     "metadata": {},
     "output_type": "display_data"
    },
    {
     "name": "stdout",
     "output_type": "stream",
     "text": [
      "Results Update: 295 296 339\n",
      "339\n",
      "IDX 338\n",
      "DISTNACE 338\n",
      "DBSCAN 338\n",
      "INTERSECT 338\n",
      "339\n",
      "[  0   1   2   3   4   5   6   7   8   9  10  11  12  13  14  15  16  17  18  19  20  21  22  23  24  25  26  27  28  29  30  31  32  33  34  35  36  37  38  39  40  41  42  43  44  45  46  47  48  49  50  51  52  53  54  55  56  57  58  59  60  61  62  63  64  65  66  67  68  69  70  71  72  73  74  75  76  77  78\n",
      "  79  80  81  82  83  84  85  86  87  88  89  90  91  92  93  94  95  96  97  98  99 100 101 102 103 104 105 106 107 108 109 110 111 112 113 114 115 116 117 118 119 120 121 122 123 124 125 126 127 128 129 130 131 132 133 134 135 136 137 138 139 140 141 142 143 144 145 146 147 148 149 150 151 152 153 154 155 156 157\n",
      " 158 159 160 161 162 163 164 165 166 167 168 169 170 171 172 173 174 175 176 177 178 179 180 181 182 183 184 185 186 187 188 189 190 191 192 193 194 195 196 197 198 199 200 201 202 203 204 205 206 207 208 209 210 211 212 213 214 215 216 217 218 219 220 221 222 223 224 225 226 227 228 229 230 231 232 233 234 235 236\n",
      " 237 238 239 240 241 242 243 244 245 246 247 248 249 250 251 252 253 254 255 256 257 258 259 260 261 262 263 264 265 266 267 268 269 270 271 272 273 274 275 276 277 278 279 280 281 282 283 284 285 286 287 288 289 290 291 292 293 294 295 296 297 298 299 300 301 302 303 304 305 306 307 308 309 310 311 312 313 314 315\n",
      " 316 317 318 319 320 321 322 323 324 325 326 327 328 329 330 331 332 333 334 335 336 337 338]\n",
      "[ 10.42754678 124.68829678 174.7538441  209.86332773 248.24650005] 326 54\n",
      "Distances under 100: [94.32003645 37.10326247 33.53640048 73.78891495 86.66436472 73.07880917 76.12559384 78.29414709 42.18427694 78.04003843 31.78147106 38.83507345 75.35375237 34.96099702 10.42754678 81.64723057 13.76949187 94.50262858 14.90988277 87.42374159 72.82536387 70.6330322  66.35074127 91.83015422 93.8982707  72.42849109\n",
      " 42.04049943 90.86127634 61.73458022 65.3607545  77.06983658 50.86480514 84.34560911 66.87947754 52.40797308 95.38788396 23.13225161 83.77106465 97.99219789 72.33194177 39.25438693 97.221575   42.94274509 88.27317729 90.83115246 95.31868217 86.1383864  75.26577364 95.37061959 88.57135549 95.87470466 76.30607472\n",
      " 97.79923373 80.16357274]\n",
      "Enter Matching\n"
     ]
    },
    {
     "data": {
      "application/vnd.jupyter.widget-view+json": {
       "model_id": "9d7656be68bc443dac92d7c626dd5dd3",
       "version_major": 2,
       "version_minor": 0
      },
      "text/plain": [
       "Descriptor Matching (Flipped):   0%|          | 0/635 [00:00<?, ?it/s]"
      ]
     },
     "metadata": {},
     "output_type": "display_data"
    },
    {
     "name": "stdout",
     "output_type": "stream",
     "text": [
      "Results Update: 326 263 368\n",
      "368\n",
      "IDX 367\n",
      "DISTNACE 367\n",
      "DBSCAN 367\n",
      "INTERSECT 367\n",
      "368\n",
      "[  0   1   2   3   4   5   6   7   8   9  10  11  12  13  14  15  16  17  18  19  20  21  22  23  24  25  26  27  28  29  30  31  32  33  34  35  36  37  38  39  40  41  42  43  44  45  46  47  48  49  50  51  52  53  54  55  56  57  58  59  60  61  62  63  64  65  66  67  68  69  70  71  72  73  74  75  76  77  78\n",
      "  79  80  81  82  83  84  85  86  87  88  89  90  91  92  93  94  95  96  97  98  99 100 101 102 103 104 105 106 107 108 109 110 111 112 113 114 115 116 117 118 119 120 121 122 123 124 125 126 127 128 129 130 131 132 133 134 135 136 137 138 139 140 141 142 143 144 145 146 147 148 149 150 151 152 153 154 155 156 157\n",
      " 158 159 160 161 162 163 164 165 166 167 168 169 170 171 172 173 174 175 176 177 178 179 180 181 182 183 184 185 186 187 188 189 190 191 192 193 194 195 196 197 198 199 200 201 202 203 204 205 206 207 208 209 210 211 212 213 214 215 216 217 218 219 220 221 222 223 224 225 226 227 228 229 230 231 232 233 234 235 236\n",
      " 237 238 239 240 241 242 243 244 245 246 247 248 249 250 251 252 253 254 255 256 257 258 259 260 261 262 263 264 265 266 267 268 269 270 271 272 273 274 275 276 277 278 279 280 281 282 283 284 285 286 287 288 289 290 291 292 293 294 295 296 297 298 299 300 301 302 303 304 305 306 307 308 309 310 311 312 313 314 315\n",
      " 316 317 318 319 320 321 322 323 324 325 326 327 328 329 330 331 332 333 334 335 336 337 338 339 340 341 342 343 344 345 346 347 348 349 350 351 352 353 354 355 356 357 358 359 360 361 362 363 364 365 366 367]\n",
      "[  6.34905287 126.68899527 175.7223106  208.85169373 248.98122231] 356 51\n",
      "Distances under 100: [97.41030549 35.65827757 27.65897219 81.41326569 89.2930164  81.88078194 74.19717243 73.88429471 38.48716593 71.68420349 26.6295008  46.1224661  79.29569256 31.05246313  6.34905287 85.53829112 17.404654   93.93432998 15.21208353 81.37724073 74.91683795 65.46672168 65.64876354 93.54460307 69.80415389 47.85229777\n",
      " 98.67435218 53.32835518 72.14002727 44.23843098 77.71762143 49.62331815 92.77575258 21.13151011 80.71932553 77.03691009 53.95613638 79.78589437 48.28707798 88.76031858 85.81002268 88.16054252 71.92804027 97.73729356 79.32745256 77.0413712  79.15730521 46.51345984 95.10589523 90.3784036  49.48590463]\n",
      "Enter Matching\n"
     ]
    },
    {
     "data": {
      "application/vnd.jupyter.widget-view+json": {
       "model_id": "8913517efbbc4032872b2cce4c59461d",
       "version_major": 2,
       "version_minor": 0
      },
      "text/plain": [
       "Descriptor Matching (Flipped):   0%|          | 0/635 [00:00<?, ?it/s]"
      ]
     },
     "metadata": {},
     "output_type": "display_data"
    },
    {
     "name": "stdout",
     "output_type": "stream",
     "text": [
      "Results Update: 356 271 395\n",
      "395\n",
      "IDX 394\n",
      "DISTNACE 394\n",
      "DBSCAN 394\n",
      "INTERSECT 394\n",
      "395\n",
      "[  0   1   2   3   4   5   6   7   8   9  10  11  12  13  14  15  16  17  18  19  20  21  22  23  24  25  26  27  28  29  30  31  32  33  34  35  36  37  38  39  40  41  42  43  44  45  46  47  48  49  50  51  52  53  54  55  56  57  58  59  60  61  62  63  64  65  66  67  68  69  70  71  72  73  74  75  76  77  78\n",
      "  79  80  81  82  83  84  85  86  87  88  89  90  91  92  93  94  95  96  97  98  99 100 101 102 103 104 105 106 107 108 109 110 111 112 113 114 115 116 117 118 119 120 121 122 123 124 125 126 127 128 129 130 131 132 133 134 135 136 137 138 139 140 141 142 143 144 145 146 147 148 149 150 151 152 153 154 155 156 157\n",
      " 158 159 160 161 162 163 164 165 166 167 168 169 170 171 172 173 174 175 176 177 178 179 180 181 182 183 184 185 186 187 188 189 190 191 192 193 194 195 196 197 198 199 200 201 202 203 204 205 206 207 208 209 210 211 212 213 214 215 216 217 218 219 220 221 222 223 224 225 226 227 228 229 230 231 232 233 234 235 236\n",
      " 237 238 239 240 241 242 243 244 245 246 247 248 249 250 251 252 253 254 255 256 257 258 259 260 261 262 263 264 265 266 267 268 269 270 271 272 273 274 275 276 277 278 279 280 281 282 283 284 285 286 287 288 289 290 291 292 293 294 295 296 297 298 299 300 301 302 303 304 305 306 307 308 309 310 311 312 313 314 315\n",
      " 316 317 318 319 320 321 322 323 324 325 326 327 328 329 330 331 332 333 334 335 336 337 338 339 340 341 342 343 344 345 346 347 348 349 350 351 352 353 354 355 356 357 358 359 360 361 362 363 364 365 366 367 368 369 370 371 372 373 374 375 376 377 378 379 380 381 382 383 384 385 386 387 388 389 390 391 392 393 394]\n",
      "[  6.64353593 130.4464519  172.45599591 211.14843338 248.71644798] 378 57\n",
      "Distances under 100: [93.22588963 42.13975954 97.34237624 25.09181394 95.16163174 87.22365655 90.91893334 81.59861236 29.74755578 24.24066514 48.10369306 89.0645749  32.70656819  6.64353593 86.2644493  16.77887208 94.80662262 22.21504516 72.50611205 70.05400906 65.13329425 65.98309861 91.33704997 94.69147151 69.65499528 56.8754248\n",
      " 98.84717387 60.64990506 70.42119394 45.35980194 67.06514204 41.70540493 90.13268627 32.87351061 98.95669776 76.53829693 86.02684894 86.2814005  58.81348901 87.70639482 54.17660367 83.21467585 89.52566031 89.92322846 96.51586469 88.01007794 77.01437876 79.17840468 60.09000059 97.7067665  90.72270411 86.47244245\n",
      " 62.35916958 66.84238564 74.4939379  96.27439899 97.25138735]\n",
      "Enter Matching\n"
     ]
    },
    {
     "data": {
      "application/vnd.jupyter.widget-view+json": {
       "model_id": "aaba6f1c9e7444eb97c5287a5e965460",
       "version_major": 2,
       "version_minor": 0
      },
      "text/plain": [
       "Descriptor Matching (Flipped):   0%|          | 0/635 [00:00<?, ?it/s]"
      ]
     },
     "metadata": {},
     "output_type": "display_data"
    },
    {
     "name": "stdout",
     "output_type": "stream",
     "text": [
      "Results Update: 378 262 416\n",
      "416\n",
      "IDX 415\n",
      "DISTNACE 415\n",
      "DBSCAN 415\n",
      "INTERSECT 415\n",
      "416\n",
      "[  0   1   2   3   4   5   6   7   8   9  10  11  12  13  14  15  16  17  18  19  20  21  22  23  24  25  26  27  28  29  30  31  32  33  34  35  36  37  38  39  40  41  42  43  44  45  46  47  48  49  50  51  52  53  54  55  56  57  58  59  60  61  62  63  64  65  66  67  68  69  70  71  72  73  74  75  76  77  78\n",
      "  79  80  81  82  83  84  85  86  87  88  89  90  91  92  93  94  95  96  97  98  99 100 101 102 103 104 105 106 107 108 109 110 111 112 113 114 115 116 117 118 119 120 121 122 123 124 125 126 127 128 129 130 131 132 133 134 135 136 137 138 139 140 141 142 143 144 145 146 147 148 149 150 151 152 153 154 155 156 157\n",
      " 158 159 160 161 162 163 164 165 166 167 168 169 170 171 172 173 174 175 176 177 178 179 180 181 182 183 184 185 186 187 188 189 190 191 192 193 194 195 196 197 198 199 200 201 202 203 204 205 206 207 208 209 210 211 212 213 214 215 216 217 218 219 220 221 222 223 224 225 226 227 228 229 230 231 232 233 234 235 236\n",
      " 237 238 239 240 241 242 243 244 245 246 247 248 249 250 251 252 253 254 255 256 257 258 259 260 261 262 263 264 265 266 267 268 269 270 271 272 273 274 275 276 277 278 279 280 281 282 283 284 285 286 287 288 289 290 291 292 293 294 295 296 297 298 299 300 301 302 303 304 305 306 307 308 309 310 311 312 313 314 315\n",
      " 316 317 318 319 320 321 322 323 324 325 326 327 328 329 330 331 332 333 334 335 336 337 338 339 340 341 342 343 344 345 346 347 348 349 350 351 352 353 354 355 356 357 358 359 360 361 362 363 364 365 366 367 368 369 370 371 372 373 374 375 376 377 378 379 380 381 382 383 384 385 386 387 388 389 390 391 392 393 394\n",
      " 395 396 397 398 399 400 401 402 403 404 405 406 407 408 409 410 411 412 413 414 415]\n",
      "[ 10.6801334  119.82737592 169.88028368 208.49180147 248.87769066] 404 66\n",
      "Distances under 100: [99.36895152 38.81740772 98.43235013 28.43378868 95.13180526 87.06829788 88.44490686 79.99912735 27.17507193 23.09779031 82.35622961 48.09442513 87.89257176 97.57366277 28.73964355 10.6801334  82.6183746  21.23297371 98.4300216  16.54167941 73.40134975 72.22123764 65.91094675 62.18482569 99.23954814 26.71926314\n",
      " 97.86799796 65.77618725 56.13347353 57.64880172 63.33984792 68.93285141 49.02320691 68.94812855 46.22256422 89.64419696 26.15327702 97.16164621 79.9319967  97.0373945  89.05046882 87.1317359  58.52550548 98.48184118 83.82254945 57.48954719 79.1974836  92.15114525 89.63153951 99.73992301 88.969255   77.93650542\n",
      " 84.13192602 57.96076365 92.99065815 88.86581188 92.99217368 80.92726356 95.45084567 89.21859687 76.85769419 78.2287415  89.64788095 96.93327965 29.9389308  57.74387727]\n",
      "D:\\CaseStudies_CoH_FineAdjustDigitization1\\ReRegisterCoH\\\\registration/4802960175E.tif\n",
      "[[ 1.16594732e+00  1.02007173e-01  1.28403152e+06]\n",
      " [-1.02007173e-01  1.16594732e+00 -1.94514054e+06]\n",
      " [ 0.00000000e+00  0.00000000e+00  1.00000000e+00]]\n",
      "[[ 2.66658656e+00 -2.29355700e-01 -1.07565693e+07]\n",
      " [-2.33296094e-01 -2.62154764e+00  3.16999261e+06]\n",
      " [ 0.00000000e+00  0.00000000e+00  1.00000000e+00]]\n",
      "D:\\CaseStudies_CoH_FineAdjustDigitization1\\ReRegisterCoH\\\\focus\\48201C0855J.tif\n",
      "1587 / 5368\n",
      "Enter Matching\n"
     ]
    },
    {
     "data": {
      "application/vnd.jupyter.widget-view+json": {
       "model_id": "866c4b04897b47c1b72ef34721f82275",
       "version_major": 2,
       "version_minor": 0
      },
      "text/plain": [
       "Calculating Descriptors:   0%|          | 0/3195 [00:00<?, ?it/s]"
      ]
     },
     "metadata": {},
     "output_type": "display_data"
    },
    {
     "data": {
      "application/vnd.jupyter.widget-view+json": {
       "model_id": "7ce1846d826841b8a5e256cc0535727d",
       "version_major": 2,
       "version_minor": 0
      },
      "text/plain": [
       "Calculating Descriptors:   0%|          | 0/1584 [00:00<?, ?it/s]"
      ]
     },
     "metadata": {},
     "output_type": "display_data"
    },
    {
     "data": {
      "application/vnd.jupyter.widget-view+json": {
       "model_id": "b404e4bbe70645dd89a9fbc79af9c0fd",
       "version_major": 2,
       "version_minor": 0
      },
      "text/plain": [
       "Descriptor Matching (Flipped):   0%|          | 0/1584 [00:00<?, ?it/s]"
      ]
     },
     "metadata": {},
     "output_type": "display_data"
    },
    {
     "name": "stdout",
     "output_type": "stream",
     "text": [
      "1154\n",
      "IDX 1153\n",
      "DISTNACE 804\n",
      "DBSCAN 1153\n",
      "INTERSECT 804\n",
      "805\n",
      "[   0    1    3    4    5    7    8    9   10   11   12   13   14   15   16   18   19   20   21   22   23   25   28   29   30   31   32   33   34   35   36   37   38   39   40   42   43   44   45   46   47   48   49   50   51   52   54   55   56   57   58   59   60   61   62   63   65   66   67   68   69   70   71\n",
      "   72   74   75   76   77   78   79   80   81   82   83   84   86   89   90   91   92   93   94   95   96   98   99  101  103  104  106  107  108  109  111  112  113  114  115  116  118  119  121  122  125  126  128  129  131  132  133  134  135  136  137  138  139  141  142  143  144  145  146  147  149  151  152\n",
      "  153  154  155  156  158  159  160  163  165  166  167  168  169  170  171  172  175  176  177  179  180  181  182  183  184  185  186  187  188  191  192  194  195  196  197  198  199  201  202  203  204  205  208  209  211  213  214  215  216  218  220  221  222  225  226  227  228  229  230  231  232  233  235\n",
      "  236  237  238  239  240  241  243  245  246  247  248  250  251  252  253  254  255  256  257  260  262  264  266  267  268  269  270  272  273  275  276  277  279  280  281  282  284  285  286  287  288  289  290  291  292  294  295  296  297  298  299  300  301  302  304  308  309  310  311  314  315  316  319\n",
      "  322  323  324  325  326  328  331  332  333  334  335  336  337  339  341  342  344  345  346  347  348  349  350  351  352  353  354  356  360  361  362  364  366  367  368  369  370  373  374  375  376  378  379  380  381  382  384  385  387  388  389  391  392  393  395  398  399  401  402  404  405  406  407\n",
      "  408  409  410  411  412  413  415  418  419  420  421  422  423  425  426  428  429  430  431  432  433  435  436  437  438  439  440  441  442  443  444  445  446  448  449  451  453  454  455  456  457  458  459  460  462  464  465  466  467  468  469  470  471  472  475  476  477  478  479  480  482  483  485\n",
      "  486  487  488  489  490  491  492  493  494  495  496  497  498  499  500  501  502  505  506  507  508  511  513  514  515  517  518  519  520  523  525  527  528  529  530  533  534  536  537  538  539  540  542  544  545  546  548  549  550  552  553  554  555  556  558  559  560  561  562  564  565  566  567\n",
      "  568  569  570  571  574  575  576  577  578  579  580  581  585  586  587  588  590  591  593  598  599  603  604  605  609  613  614  615  616  617  618  619  622  623  625  626  627  628  630  631  632  633  634  635  639  640  641  644  645  646  647  648  649  651  652  653  654  656  657  658  660  661  663\n",
      "  665  667  668  671  674  675  676  677  678  679  680  681  682  683  684  685  686  687  689  690  691  692  693  694  697  698  699  702  703  705  706  709  711  712  713  714  715  716  719  720  721  722  724  726  727  729  730  732  733  734  735  737  738  739  740  741  742  743  744  749  750  751  753\n",
      "  756  757  758  760  761  762  763  764  765  766  768  770  771  772  773  775  777  778  779  781  783  786  788  789  790  793  795  796  797  798  799  800  803  806  807  808  809  810  811  814  817  818  820  821  822  824  830  831  832  838  839  840  841  842  844  846  847  848  849  850  852  853  854\n",
      "  855  856  859  863  865  867  868  869  872  874  875  877  878  879  880  882  883  886  891  892  894  896  898  900  901  902  903  907  908  910  911  912  913  914  915  916  917  918  919  921  922  924  925  926  928  929  931  932  933  934  935  936  937  938  940  941  943  945  946  947  948  949  950\n",
      "  951  952  954  955  956  957  958  959  960  961  962  964  966  968  969  970  972  973  974  975  976  981  983  984  987  988  989  991  993  995  996  997  998 1001 1002 1004 1005 1006 1008 1013 1014 1016 1018 1020 1022 1024 1025 1026 1028 1029 1031 1033 1036 1037 1038 1039 1040 1042 1046 1047 1049 1051 1053\n",
      " 1054 1057 1058 1062 1063 1064 1067 1069 1070 1073 1074 1075 1076 1077 1078 1080 1081 1084 1085 1087 1089 1090 1092 1094 1095 1096 1097 1098 1099 1100 1104 1108 1109 1111 1112 1114 1115 1117 1125 1127 1129 1133 1134 1135 1137 1138 1139 1150 1153]\n",
      "[ 0.87809239 13.30238429 19.48763412 27.28615571 77.06124973] 805 805\n",
      "Distances under 100: [28.45404701 15.01685477 64.00846274 40.04802508 23.41775065 18.35468024 20.19526192  6.90325273 17.42998332  6.72606973  8.98722743 26.4407094  28.92847985 16.52894064 12.67440043 21.95662586 13.47272192 22.44061226 17.2268335  13.95701554 23.38356485 17.67440112 26.90674116 19.00219155 14.09161625 26.64009054\n",
      " 29.58366359 21.20315652 23.27967001  4.49039552  4.01225993 12.27347411 20.84717527 14.5056453  19.54707738 12.49628238 23.65846328 13.47193095 24.11387633 18.3690618  26.62559836 10.93279648 29.60988616 12.23269474 25.51157949  7.69697128 13.80363029 16.30394479  7.53265259  6.09390246  7.93126714 14.9387329\n",
      " 15.12307433 23.78584571 22.62519135 15.46683224 15.28747055 18.38899261 10.09739628 34.48680753 25.1147964  23.21802803 20.46424043 29.83012497 18.78622257 24.39198871 17.73934378 40.67125641 24.10254084  8.73730853 19.94698913 20.16157533 21.99760888 27.5302231  23.2528751  16.7885387   8.242917   24.1623636\n",
      " 28.66309015 15.29963491 23.10131897 18.24209245 32.84334614 20.6970026  15.34952035 34.45709875  6.94566257 20.1976267  17.00750905 33.55874241 20.93858969 36.49183002 32.83869117 12.12646938 13.36478266  5.58566602 17.27359368 20.57247612 15.12772547 15.90273421  9.84116008 21.31315809  0.87809239  8.31945143\n",
      " 30.5039781  32.27220432 40.21545141  3.85323221 20.13748301  7.58079582 19.23570145 11.00019115 36.17885333 20.80544105 34.42296555 28.59620467 16.18420331 32.41417471 23.13320936 14.78248603 16.11882148 34.65224106 21.94720163 23.27834977 15.99992719 21.22621594 24.55761859 31.70832032 19.88905009 18.19203812\n",
      " 12.67031382 18.05037596 27.46307848 26.9669267   8.32723468 33.41325692  2.90324986 27.38696652 17.41169953 15.13071965 25.65193791 10.42502194 12.24811391 28.51783085 18.57589186 26.39649998 26.96757608 17.83926318 28.0412993  15.58792364 24.06239608 12.83197855 30.22697471 15.2827308  17.88612733 19.63553384\n",
      " 12.53347359 23.94642722  8.97765915 15.96166049 29.22496435  7.88284715 16.31378808 19.48763412  6.66170705  9.07397248 26.63519818 22.53095688 18.33792556 29.93921287 15.77324067 23.74623825 38.61435199 23.97362398 24.92539818  9.6195857  26.68871161 31.3856026   9.7271561   2.85723473 58.40661174 36.22345871\n",
      " 25.35785584  8.20995933 27.29114929 16.35748342 13.77588538 16.38981107 18.16141754 21.68442131 40.45829628 15.34831057 21.09240516 45.33694822 15.46600555 17.46675552 16.50841145 23.86171299 19.04429384 15.07407005 33.77617355 13.58888765  8.8441483  25.399881    3.41252787 27.8200649  13.7110446  15.43277926\n",
      " 26.51339798 23.46154288 10.29317624 20.77082557 23.81374764 22.45437874 11.49973517  5.07752215 11.67981775  5.38086818 23.00592698 25.09682019 11.2950343  33.91650126 21.58990741 18.38374902 29.38705218 16.04313806 15.55942769 23.22318098  8.18498217  5.48688411 19.9307808  12.96281785 12.32245362 27.68387954\n",
      " 13.44209472 10.89725425 19.31913876  2.61387324 15.18946178 26.27790358 29.21021201 32.77355676 22.12782175 33.4179995  19.3501713   9.57080991 15.98799907 24.43125507 14.28790839 14.17626713 21.15969694 18.28670244 18.54273675 30.30696376 28.09031095  2.32824898 41.0312667  11.79132858  8.88832504  3.62784033\n",
      " 11.04690377  9.61274329 17.06226111  8.88045347 28.03569944 12.72030113  4.58192126 15.39820205 24.83470862 21.27359211 25.36479445 17.25729119 21.56388258 24.67507164 18.40900058 23.59261409 12.72183643  6.7897133  11.07713979  8.03165389 16.30042699  8.36792448 16.47139699  6.4580691   5.950652   10.24279083\n",
      " 36.62386677 21.08221237  9.45876321  4.50287877 28.22823198 30.89983601 32.18513786 30.49786021 14.66285082 16.33259471 32.09458108  6.6447254  19.28971482 12.66842779 18.33799052 19.65439847 19.67391551 29.35247008 18.04651555 11.40286014 17.16185262 26.60719077 36.9332775  17.98179993 15.52787686 33.58522086\n",
      " 13.98647478 30.10084323 17.93160501  9.5569937  18.79876514  6.00330952 31.315388   24.09370429 16.93295106 30.89588489 25.36764969 17.16778354 17.62180636 10.22622839 63.42741262 15.06387566 24.41388229 21.43460529 11.65763267 22.13588295 16.3957088  28.20399633  9.35700745  2.22907222 46.27689874 15.48333335\n",
      " 11.59218385 16.33066117 29.43936243 21.07358806  0.90913292 25.33651271 17.54121547 12.49863608 17.07485765 36.93189127 19.2919988   9.10484792  9.82111497 20.96397468 10.86475459 33.13428966 21.72102373  5.84475838 13.08468344 15.82720051 24.55402981 21.71848198  9.57462838  7.43589452 34.17439839 10.80497499\n",
      " 13.95232472 12.15221724 24.18842136  5.9462383  17.67416561 10.14654925 30.01985689 14.70936989 23.60016206 16.98511859 16.47485318 24.44971146 18.80277994  2.56613443 13.32074314 28.42411921 19.921192   24.39466364 28.32826639 35.18262568 31.47364761 19.07714276 62.96984306 10.78874819 30.32534133 22.235098\n",
      " 24.63936209 15.59453187 21.18155638 22.52855341 13.24888945  8.74494586 21.7953913  11.53522746 18.0419454  23.01326699 26.45943967 15.56196734 17.04453087 38.4178417   8.89037623  9.28191832 18.33867253  9.06826838 12.93047585 27.7504304  70.39899878 28.86145861 15.80739469 25.66559795 10.69066868 24.00310903\n",
      " 28.06736423 65.96740676 25.16450449 14.53198547 36.56544675 20.74333002 72.59164667 19.59958272 15.92668654 30.96340935 16.43610976 17.35180735 26.60655771 23.97193647 13.31474747 11.3727304   7.91596021 29.10486815 22.83886891 28.72960267 18.42936003 13.57965357 34.40681796 19.36699178 29.76570051 21.63213287\n",
      " 22.68255485 12.20108393  6.41614194 12.11184097 30.20350411 14.31059855 24.96180002 19.04560303 15.22491616 31.78786283 22.68435042 29.19534521 32.86098057 18.4334408  13.00046616 11.45168153 19.97566505 12.07864339 71.81085033 18.7639405   6.49794037 16.29408439 19.48761177 25.49370714 21.77031538 17.96486075\n",
      " 20.06964382  6.15044561 15.97929114 25.66430046 32.33888599 14.90191778 21.09804381 22.25201828  7.81933877 19.40694245 14.09776115 24.71584224 30.94483379 29.40364214 16.97634697 13.27769466 31.92567186 13.00106967 17.30232884 21.29133071 30.53529195  7.13304187 17.98725575  4.60503913  6.48760611 19.34978816\n",
      " 25.49842805 28.40007855 28.30535979 39.18215417 25.11135218 19.70554962 10.26594148  8.73464421 24.06999183 27.33178688 37.559045   19.23282103 12.52254182 23.38950911 26.87134777 18.03624305 13.03155533 23.51025667 11.38966199 22.22451918 27.14492039 23.11507036 15.67569104 27.7986274  17.42318886 34.59010829\n",
      "  4.27716739 19.4316527  23.72654692 10.19305552 21.09077739  8.99363508 19.3182778  22.59830446 31.17429409 18.48230507 21.74641909 18.90465551 19.76599771 22.2749206  19.74968848 35.59008298  9.41037246  6.09387695 14.80117175 14.79874888 30.51774292 34.45081402 16.24424652 21.25610356  6.95711289 28.16528576\n",
      " 23.69380483 27.86232824  8.66298356 11.63513105 14.53070865 14.93082815 11.18137205  6.00317687 10.69778101 18.28262677 12.47583628 24.40814568 28.72073171 12.78389569 12.76779425 27.28615571 14.00147372 27.53047557 30.78372393 18.64912057 29.90819637 32.42949744 38.51508155 15.4401492  47.05756155 26.49892841\n",
      " 15.53302231 13.18005871 21.58218782 16.44660466  8.45076843 14.95856883 21.92417075 33.0026726  25.94551965  8.02614785 12.41861672 19.79659392 16.10643588  9.25506343 17.04341745 21.67355294 12.66042704  8.89440703 28.59074574  9.15144542 21.27832588 58.21005807 28.43480728 16.7770653  31.05084688 20.30655813\n",
      " 14.08936392 17.84378692 15.42065163 38.15880381 17.47043832  9.9501124   8.63591492 11.10989174  2.65943612 13.22475658  8.79056563 27.31732078 15.25951357 18.26407887 13.02918843 31.6561096  17.07513029 29.88536757  6.30385299  2.04442806 17.79292048 58.38692461 12.3092914  30.52064911 28.439381   25.78978472\n",
      " 41.15705223  8.53171786 26.95782709 37.82744168 57.34634189 11.30831689 21.04021178 31.82726619 12.28859585 13.55695993 29.75882672 44.20486494 30.99293551 10.73272133  8.17946627 27.39637126 23.14069342 28.06887381 21.68516594 19.95141573 10.33527959 26.89005213 13.4059211   9.02571956 25.29169874 25.07888714\n",
      "  9.81505714  9.31776066 24.05831024 14.36152545  6.7068566   4.90545281 25.1924448  17.2873252  10.68621472 18.65946717 49.22111565 24.96505467 28.18872832 23.1790048   9.86259973 32.72149577 28.90596651 25.80590643 23.00579078 12.12749067 15.67146434 27.685052   24.03925411 23.55060392 24.59089938 18.72556398\n",
      " 20.70654324  3.53540491  9.18253205 23.92289666 26.11024481 32.79045156 31.83266822 16.59813998 38.8484894  22.59170088 23.82767724 19.67779129 27.3592238  10.0545831  15.54846332 18.47343411 50.53097869 25.96676491 29.43823805 36.37677897 31.82756974 27.42195942 18.48185365  6.43307508  4.3925573   1.16901093\n",
      " 21.32167412 69.810497   29.39495864  7.46370541  8.78198753 23.85675431 31.45686188 17.77494563 32.16287299 18.26446237 18.3620386  20.53861147 40.05714639 14.6412294   8.14711992  4.85465023 20.04127982 14.88446661 15.45253955 74.00548402 33.18160103  3.44293947 10.23169992 32.61393864 27.44322524 20.861077\n",
      " 11.16235583 39.80664622  6.55438907 15.6367816  22.39136875 27.97832687  7.33353714 14.25747965 25.24684789 25.49299405 71.76562685 25.84980602 57.54457226 19.44851627 35.23629846 33.8874266  18.60366656  5.73880243  6.54340749 28.95207454 57.66329653 13.30238429  8.42146189 29.11506736 23.60862385 10.7912021\n",
      " 50.68027352 13.07429356 77.06124973 25.83072287 22.55783711  8.6051237  19.90823681 45.89654988 38.37314815 11.18326808 15.44111371 11.79894014 22.01628647 64.4902098  40.37291961 49.46420663 41.66935838 25.7848504  24.94033676 21.90985335 37.43902589 28.1186845  58.42483091 42.01948419 19.05132901 55.35234242\n",
      " 20.22533235 12.66612889 16.20681246 70.23975823 16.91128231 36.87018439 31.67838246  9.57249191 45.65537022 32.31116966 24.4970144  17.35633313 35.23923758 15.48805239 34.65118667 37.21138224 33.00668834  3.27582861 58.34962504 13.49718965 57.0480892  15.85236256 74.6193787  37.80629351 27.72822352]\n",
      "Enter Matching\n"
     ]
    },
    {
     "data": {
      "application/vnd.jupyter.widget-view+json": {
       "model_id": "7f718c8c03994d2b815c2940b9fee6d9",
       "version_major": 2,
       "version_minor": 0
      },
      "text/plain": [
       "Descriptor Matching (Flipped):   0%|          | 0/1584 [00:00<?, ?it/s]"
      ]
     },
     "metadata": {},
     "output_type": "display_data"
    },
    {
     "name": "stdout",
     "output_type": "stream",
     "text": [
      "Results Update: 805 1149 894\n",
      "894\n",
      "IDX 893\n",
      "DISTNACE 746\n",
      "DBSCAN 893\n",
      "INTERSECT 746\n",
      "747\n",
      "[  0   1   2   4   5   6   7   8   9  10  11  12  13  14  15  17  18  19  20  21  22  23  24  25  26  27  28  29  30  31  32  33  34  35  36  37  38  39  40  41  42  43  44  45  46  47  48  49  50  51  52  53  54  55  56  57  58  59  60  61  62  63  64  65  66  67  68  69  70  71  72  73  74  75  76  77  78  79  80\n",
      "  81  82  83  84  85  86  87  88  89  90  91  92  93  94  95  96  97  98  99 100 101 102 103 104 105 106 107 108 109 110 112 113 114 115 116 118 119 120 121 122 123 124 125 126 127 128 129 130 131 132 133 134 135 136 137 138 139 140 141 142 143 144 145 146 147 148 149 150 151 152 153 154 155 156 157 158 159 160 161\n",
      " 162 163 164 165 166 167 168 169 170 171 172 173 174 175 177 178 179 180 181 182 183 184 185 186 187 188 189 190 191 192 193 194 195 196 197 198 199 200 201 202 203 204 205 206 207 208 209 210 211 212 213 214 215 216 217 218 219 220 221 222 223 224 225 226 227 228 229 230 231 232 233 234 235 236 237 238 239 240 241\n",
      " 242 243 244 245 246 247 248 249 250 251 252 253 254 255 256 257 258 259 260 261 262 263 264 265 266 267 268 269 270 271 272 273 274 275 276 277 278 279 280 281 282 283 284 285 286 287 288 289 290 291 292 293 294 295 296 297 298 299 300 301 302 303 304 305 306 307 308 309 310 311 312 313 314 315 316 317 320 321 322\n",
      " 323 324 325 326 327 328 329 330 331 332 333 334 335 336 337 338 339 340 341 342 343 344 345 346 347 348 349 350 351 352 353 354 355 356 357 358 359 360 361 362 363 364 365 366 367 368 369 370 371 372 373 374 375 376 377 378 379 380 381 382 383 384 385 386 387 388 389 390 391 392 393 394 395 396 397 398 399 400 401\n",
      " 402 403 404 405 406 407 408 409 410 411 413 415 416 418 419 420 421 422 423 424 425 426 427 428 429 430 431 432 434 435 436 437 438 439 440 441 442 443 444 445 446 447 448 449 450 451 452 453 455 457 458 459 460 461 462 463 464 465 466 467 468 469 470 471 473 475 476 477 478 479 480 481 482 483 484 485 486 487 488\n",
      " 489 490 491 492 493 494 495 496 497 498 499 500 501 502 503 504 505 506 507 508 509 510 511 512 513 514 516 517 518 519 520 521 522 523 524 525 526 527 528 529 530 531 532 533 534 535 536 537 538 539 540 541 542 543 544 545 546 547 548 549 550 551 552 553 554 555 556 557 558 559 560 561 562 563 564 565 566 567 568\n",
      " 569 570 571 572 573 574 575 576 577 578 579 580 581 582 583 584 585 586 588 589 590 591 592 593 594 595 596 597 598 599 600 601 602 603 604 605 606 607 608 609 610 611 612 613 614 615 616 617 618 619 620 621 622 623 624 625 626 627 628 629 630 631 632 633 634 635 636 637 638 639 640 641 642 643 644 645 646 647 648\n",
      " 649 650 651 652 653 654 655 656 657 659 660 661 662 663 664 665 666 667 668 669 670 671 672 673 674 675 676 677 678 679 680 681 682 683 684 685 686 687 688 689 691 692 693 694 695 696 697 698 699 700 701 702 703 704 706 707 708 709 710 711 712 713 714 715 717 718 719 720 721 722 723 724 725 727 728 729 730 731 732\n",
      " 734 735 736 737 738 739 740 741 743 744 745 746 747 748 749 750 752 754 755 756 757 758 759 760 761 762 763 764 765 766 783 813 818 850 852 858]\n",
      "[ 1.1040289  12.72839157 18.75970155 25.31781958 62.12850019] 747 747\n",
      "Distances under 100: [29.2907681   7.94063626 59.07107745 27.29079378 21.34192785 24.22042575  6.80107578 20.96467177  6.58653103  6.42583482 20.19670011 31.77827716 21.24877599 17.31877263 23.49660634 14.33652095 18.66400887  5.7774852  26.01710555 20.47139819 28.84645396 23.83490695 18.94690619 21.09319359 21.8520474  15.69614553\n",
      " 25.68576215 42.72042631  1.96242311 13.09461306 56.42436422 13.8321655  15.28644968 14.84155898 25.99831525 18.17738207 21.09803566 20.72673148 24.50532287  4.61043504 28.96738393 15.0643113  22.23892192  9.26830396 16.57417208 19.1424069   3.33510872  9.74819172 11.21365666 17.59433449 10.06539231 14.24590708\n",
      " 24.93512717 17.4906153  17.76798354 31.16873582 30.922546   27.4079329  24.3085876  23.15739259 20.02961117 10.85102778 27.33348461 36.72004476 32.61247058 18.0303947  11.90402058 19.00509663 16.67243648 15.43366331 17.20391566 13.9261342  20.55120458  8.67004757 18.19718644 24.48785948 15.74048889 28.03186301\n",
      " 22.69899547 30.40114588 14.01797461  9.05482043 27.30367219 35.76060367 20.82869531 17.76843863 28.75441853 25.8318014  34.03501552 36.06866893  6.31895584 15.75210465  4.38855202 12.81025634 18.04237015 17.23037349  9.16705761 15.20670353 54.22910488  4.52353916 11.51374214 25.1892575  23.3010612  35.59065865\n",
      "  8.69659877 13.53517608  4.75860646 24.12955395 14.32568404 12.74663926 37.47881092 23.80832538 18.74968142 26.26735416 15.61427907 17.07311372 32.35717855 24.5730698  17.96542897  9.56594824 24.21182405 20.97595826 31.90568816 21.3325949  20.69568574 17.79897109  8.79703253 21.26522255 20.60839147 11.72476959\n",
      " 24.76602773 10.88758866 25.30301716 23.25603265 13.45960083 16.06192835 13.14661092 14.18483476 27.02515375 23.82349042 21.52919265 24.94888565 23.53961477 18.32391012 10.41722728 18.5431834   8.92516233 34.45904058 20.5369454  13.19946075 15.04185695 12.7060194  18.81971964 21.34043983 12.62440547 22.37887758\n",
      " 13.86020388 10.64405541  9.81253255 11.69172666 13.40082411 24.14432209 18.37754008 17.82634959 54.05050001 11.98741418 29.36474213 28.6181757  29.11699895 20.87008798  3.27145401 29.24920231 20.78780946 10.80573956 28.18099081 27.32415207  4.41458298 29.43542116 22.17110138 12.68620834 10.21587282 17.88040827\n",
      " 16.29650602 32.64799251 22.47321129 15.99009308 38.16474209  8.77841762 12.24059521 19.36773059 25.11655844 18.01144574 14.3679708  28.68334107 15.94562431 11.85466029 24.2586744   8.95908697 22.61941664 42.04152608 16.73176142 29.45772148 27.44154185 11.81328406 16.85591564 18.47906783 24.95513179 16.06915414\n",
      " 10.61703843 14.54209774  7.23419737 18.23290333 18.86753992 10.8637213  26.58058142 20.28223264 14.61638297 24.88607745 18.88549497 19.40448499 15.29263874  7.88466964  7.04316583 19.53307815 13.41066232  9.6418897  27.21336843 11.32778327 16.39282147 25.06653814  7.93954136 19.5517306  21.95326516 25.11307352\n",
      " 30.66633392 11.93635187 27.26315301 22.4293218  10.53491818 18.19517799 26.84715803 14.70084582  7.7352225  25.83643529 15.73823093 18.90849311 26.28794818 18.07510565  5.78285939 36.23603223 11.18075341 12.35618389 19.60460038 15.1828534  43.16429946 20.95095672  7.54326799 27.01242094  9.35948108 18.16037991\n",
      " 22.12459298 26.96831307 21.51780123 19.33265162 13.25324585 28.29564928 22.35012195 19.76405297 23.50673534  6.65253461 10.10569197 11.80534993 18.44788294 51.22882816 22.90421427  3.5154839  10.15408725  6.25333886 26.86762572 25.15147684 14.09062747  7.84138337 31.52633832 28.43997266 23.9440189  22.2385661\n",
      " 13.85905748 12.31102817 26.72384766  8.14647853 18.65419891  6.33561691 23.9348296  11.10126101 24.59253029 26.30218776 15.01162655 15.85948591 23.67495004 20.70556619 34.82671172 13.09224152 12.58574855 13.76223234 15.74126217 28.97594205 22.38659138  6.48301261 19.24583176 12.71014388 28.16725658 26.66721623\n",
      " 17.71713863 21.16638024 17.79871091  6.57642346 59.60769685 10.69923777 18.16967916 25.00474494  2.5740606  26.45229439 12.77228331 18.80026084 11.71159524  6.96746576 42.24503541 15.68360651 15.14545514 19.82352169 31.98202886 23.04800419  7.85870269 21.68604932 12.5426286   4.99341003 18.00567013 39.50075051\n",
      " 12.40195348 13.04680468 27.42234204 27.26696952 12.62866301 35.92095393 20.05772557  5.85301924 17.33487907 14.68916903 27.97245344 25.32604594 13.25762149 11.36155305 29.79571472 11.17655252 18.09682066  2.97474659 28.21389514  8.76112049 20.54265404  3.36139101 28.04685188 14.35105548 27.16398108  8.80161534\n",
      "  7.8267251  27.8536815  15.48278751  7.03181928 11.00332105 31.76169378 23.37264326 17.62107352 30.12193966 27.06129707 27.59572232 21.10525827 50.33400708  8.45851114 24.45235259 25.49348622 18.2082166  18.04580477 24.55767627 25.30959322  6.15706938 13.90262934 19.8691631  13.34572141 15.61820055 19.85164456\n",
      " 17.13328973 14.47174947 21.1820644  45.75225005  7.52891334 11.25799659 21.51127148  7.45489113  8.34802191 18.64469065 22.82574123 15.00799239 16.05317589 14.7495771  18.53550157 16.80882637 31.51663241 22.43179542 23.83045677 19.32096943 22.87173655 12.57361755 20.58535215 20.18483952 29.52673935  6.06459975\n",
      " 12.35069405  7.87360117 21.38657249 19.51792743 18.64974707 24.06881152  5.81530465 18.16955243 22.68067361 24.50355589 28.05881587 12.8333293  10.24458503 14.33577247 26.54950035  8.20379858 28.30472637 14.46152522 17.43878466 15.38451066 46.68602087 32.52340219 20.55389739 16.48608199 10.89786157 23.91178875\n",
      " 11.17195559 24.32717537 19.3080342  16.41286087 27.79953214 12.48214548  8.60446206 13.9095732  12.55034607 20.09549046 20.39519216 26.10565694  7.03085645 24.11060191 16.1996042  12.39851342 22.88436625 30.77871699 19.61137692  9.50794415 16.04242635 23.36310182 16.89422532 16.03325396 24.91671782 22.90510199\n",
      "  1.8640335  10.17729743  9.36155406 11.59014515 23.86416086 18.76352969 29.01364971 18.75970155 36.03095888 23.56884708 22.80612501 28.05115742 15.83950634 13.36786361 19.32460112 28.11818385  9.64362488 17.02050971 17.15153573 17.57419813 29.19146344 14.65449552 14.2944476  17.33985818 25.39735965 32.52047828\n",
      " 41.146177    8.3989393  18.34138641 20.23791551 39.078302    7.06726436 16.80626476  2.5269118  24.21640193  1.81310563 22.636396   13.92989879 27.63324216 12.40168272 26.59229158 21.86384774 12.86905723 27.13393028 23.6369435  33.74559509 54.35671029 13.10127454 17.82548557  7.89306874 20.43985345 27.14603174\n",
      " 19.20214617 14.45743391 11.07704869 28.97575488 26.71842511 32.28158097 11.97141504 12.02431228 21.65888245 15.26500636 10.07613194  6.26257757 16.81752916 20.50665153 15.68239048 27.33961473 20.3697994  17.76058279 10.50013898 31.42563592 15.4895656  18.96985719 24.46873113 24.84822756 32.95198894 29.06168786\n",
      " 28.56077003 18.80267477 54.72669443 29.7798944  17.92400982  5.0354826  13.97678537 21.6738249   8.28232976 15.52567779 24.24442628 49.6960609  30.1511637   1.37908754 10.08261628 11.15938487 18.32150437 13.5285686  11.36774099 14.11685892 14.63126885 14.34294801 21.0133994   5.74320118 27.7123025  12.87544298\n",
      " 30.45580865 24.22697056  9.42593694 23.24971171 17.79462993  2.76747307 20.87686695  9.18564015 14.7113971   4.8870015   5.12627427 11.64532221  4.6377907  27.09589458 15.49052964 10.00903534  6.2779375  27.32006833 20.43706899 32.24766018  3.09518356  6.49366199 21.41231247 55.42859868 13.55002938 20.78153555\n",
      " 20.61452595 28.90067944 35.46947021 16.23202924 30.24342578 34.81950931 58.90781538  4.81440662 16.7704774   8.1335999  17.14818854 18.82033159 25.2612924  15.24036708 30.07522254  6.52953262 10.77781636 30.790734   26.29051635 18.70008984 15.23582261 61.08844707 55.49701769 15.39005396 11.21627843  3.43188366\n",
      " 35.44536421 15.36075391  5.26444764  5.0640143  26.67145142  9.27475133  5.47009497 16.75726829 19.6326071  16.3710712  10.29440468  7.44854661 18.69297879 25.73245101 13.84276133 36.00416478 31.59431509 15.40337498 10.11642317 21.9154654  18.57850844 28.98703148 29.17481217 21.97731737 23.10480969  6.35142011\n",
      "  1.1040289  14.76170243 29.18222384 31.15007112 22.72235883  9.84874987 27.93325124 15.35378759 27.10646773 53.8827486  20.62060234 42.79767627 32.10795293 29.4412738  27.28417009 38.36213577 32.98206623 19.89893697 11.04402048 10.97197578  5.2129856  23.23739565 24.96972202  3.97815555 14.81466766 27.23785706\n",
      " 24.11233951 23.90762355 22.43443931 23.51179368 30.41591445 14.09234971 12.41054483  8.67026659 17.56462367 19.68463819 25.1266964   5.96592169  8.76443349 34.17985367 25.50630593 13.85039224 31.18519941 10.4873218  20.19982767  9.99589391 21.53199174 20.19278101 12.18626676 28.90608482 31.20014382 10.90882712\n",
      "  3.09147423  8.37515194 19.93590953 17.76441907  6.28270221 21.84363509 18.87516303 15.34790548  9.25347199 25.15557193 12.03421861 13.88661473 13.31935597 19.66970659 15.94378053 25.14813139 39.64253394 44.03827144 29.2160821  29.51704739 28.97683317 30.97011009 38.56360012 15.19990909 46.67915825  7.65074599\n",
      " 20.8336381  28.01470438 47.17254215 16.50289701 21.82932554 13.9241899  31.54725673 29.79748723 28.9108528   7.78509503 15.33228887 59.70483147 19.24153569  8.51004866 62.12850019 15.85682593 31.19344113 41.65966315 33.0722746 ]\n",
      "Enter Matching\n"
     ]
    },
    {
     "data": {
      "application/vnd.jupyter.widget-view+json": {
       "model_id": "03c9be0c50034ac7acdaf467842c6252",
       "version_major": 2,
       "version_minor": 0
      },
      "text/plain": [
       "Descriptor Matching (Flipped):   0%|          | 0/1584 [00:00<?, ?it/s]"
      ]
     },
     "metadata": {},
     "output_type": "display_data"
    },
    {
     "name": "stdout",
     "output_type": "stream",
     "text": [
      "Results Update: 747 1142 898\n",
      "898\n",
      "IDX 897\n",
      "DISTNACE 746\n",
      "DBSCAN 897\n",
      "INTERSECT 746\n",
      "747\n",
      "[  0   1   2   3   4   5   6   7   8   9  10  11  12  13  14  15  16  17  18  19  20  21  22  23  24  25  26  27  28  29  30  31  32  33  34  35  36  37  38  39  40  41  42  43  44  45  46  47  48  49  50  51  52  53  54  55  56  57  58  59  60  61  62  63  64  65  66  67  68  69  70  71  72  73  74  75  76  77  78\n",
      "  79  80  81  82  83  84  85  86  87  88  89  90  91  92  93  94  95  96  97  98  99 100 101 102 103 104 105 106 107 108 109 110 111 112 113 114 115 116 117 118 119 120 121 122 123 124 125 126 127 128 129 130 131 132 133 134 135 136 137 138 139 140 141 142 144 145 146 147 148 149 150 151 153 154 155 156 157 158 159\n",
      " 160 161 162 163 164 165 166 167 168 169 170 171 172 173 174 175 176 177 178 179 180 181 182 183 184 185 186 187 188 189 190 191 192 193 194 195 196 197 198 200 201 202 203 204 205 206 207 208 209 210 211 212 213 214 215 216 217 218 219 220 221 222 223 224 225 226 227 228 229 230 231 232 233 234 235 236 237 238 239\n",
      " 240 241 242 243 244 245 246 247 248 249 250 251 252 253 254 255 256 257 258 259 260 261 262 263 264 265 266 267 268 269 270 271 272 273 274 275 276 277 278 279 280 281 282 283 284 285 286 287 288 289 290 291 292 293 294 295 296 297 298 299 300 301 302 303 304 305 306 307 308 309 310 311 312 313 314 315 316 317 318\n",
      " 319 320 321 322 323 324 325 326 327 328 329 330 331 332 333 334 335 336 337 338 339 340 341 342 343 344 345 346 347 348 349 350 351 352 353 354 355 356 357 358 359 360 361 362 363 364 365 366 367 368 369 370 371 372 373 374 375 376 377 378 379 380 381 382 383 385 386 387 388 389 390 391 392 394 395 396 397 398 399\n",
      " 400 401 402 403 404 405 406 407 408 409 410 411 412 413 414 416 417 418 419 420 421 423 424 425 426 427 428 429 430 431 432 433 434 435 436 437 438 439 440 441 442 443 444 445 446 447 448 449 450 451 452 453 455 456 457 458 459 460 461 462 463 464 465 466 467 468 469 470 471 472 473 474 475 476 477 478 479 480 481\n",
      " 482 483 484 485 486 487 488 489 490 491 492 495 496 497 498 499 500 501 502 503 504 505 506 507 508 509 510 512 513 514 515 516 517 518 519 520 521 522 523 524 525 526 527 528 529 530 531 532 533 534 535 536 537 538 539 540 541 542 543 544 545 546 547 548 549 550 551 552 553 554 555 556 557 558 559 560 561 562 563\n",
      " 564 565 566 567 568 569 570 571 572 573 574 575 576 577 578 579 580 581 582 583 584 585 586 587 588 589 590 591 592 593 594 595 596 597 598 599 600 601 602 603 604 605 606 607 608 609 610 611 612 613 614 615 616 617 618 619 620 621 622 623 624 625 626 627 628 629 630 631 632 633 634 637 638 639 640 641 642 643 644\n",
      " 645 646 647 648 649 650 651 652 653 654 655 656 657 658 659 660 661 663 664 665 666 667 668 669 670 671 672 673 674 675 676 678 679 680 681 682 683 684 685 686 687 688 689 690 691 692 693 694 695 696 697 698 699 700 701 702 703 704 705 706 707 708 709 710 711 712 713 714 715 716 717 718 719 720 721 722 723 724 725\n",
      " 726 727 728 729 730 731 732 733 734 735 736 737 738 739 740 741 742 743 744 745 746 750 753 757 803 806 814 817 825 828 849 862 865 869 872 890]\n",
      "[ 0.74599799 14.42736024 20.6623162  28.12416724 70.3343725 ] 747 747\n",
      "Distances under 100: [31.79428196 10.19777801 58.24254573 30.0933419  25.04329243 26.27185401  3.57463447 24.43795929 10.82946091  1.87328781 23.59676663 35.72556185 24.7839728  20.05000475 20.6623162  16.62403076 23.78074817  6.218315   44.1618739  25.13355508 34.13595157 25.93421286 21.19401576 19.40359329 21.2596512  16.55340497\n",
      " 43.06697463 38.51239022  4.67454551 11.88644813 51.22906154 13.37361072 13.58502852 14.7230141  30.92391004 21.76755122 20.01322671 19.70589765 22.93287094  8.20183712 27.45896893 19.61017952 25.76905842 13.13810226 21.24389642 23.62563795  7.85054724 12.18454044 15.49713917 22.2958359  13.05678718 18.11039163\n",
      " 29.5449361  16.559114   21.90134806 27.74805503 31.64398165 32.51158248 22.92643724 27.52697488 23.41534075 10.69689358 31.5027756  32.01121821 36.04791058 19.02693703 12.4664178  18.44540729 15.53282    17.99045757 20.37324087 18.36393667 24.09717581  7.60281083 19.16513862 25.51308129 15.05000222 25.34304283\n",
      " 24.04765423 29.96484275 16.12634084  9.51532093 28.67522156 31.93315398 18.75902052 17.23722388 26.98138307 28.23876759 33.78602579 39.38208593  7.1390774  15.43404462  6.50036605 12.1903899  18.13941192 22.08126182  9.53404152 16.17893885 48.55884573  6.09238556 12.25570621 25.94762629 27.7129119  38.06025444\n",
      " 11.67082896 13.96019037  6.84133947 26.34353447 15.77571892 12.7156117  41.13151952 24.45220705 17.58256098 27.67721839 15.29377602 14.57177305 32.16841085 28.82902413 17.1106834  10.16329854 57.88041383 21.4125892  30.5489775  18.73658781 20.05038832 20.84640547 11.15250861 22.46576572 17.13909686 11.40039949\n",
      " 29.05322143 11.09818085 24.1568761  23.60480896 12.53527464 18.82415635 13.39648839 12.04677652 25.71306177 18.65890636 22.53998962 23.97054093 21.75601865  8.93541561 21.14171515  8.74801652 38.16593083 23.59550265 13.74186863 15.82646398 12.27411559 19.59266692 33.11043009 22.87029116 16.3287311  11.56094117\n",
      " 12.87507061 14.20859606 14.45288886 22.87727344 18.20024357 15.92934204 53.29409602 11.49598527 31.77166947 27.2703155  32.39099618 20.48127732  6.21464978 33.6671461  18.98396853 10.20132818 31.68844633 46.57288828  5.18712019 46.25511938 22.87324732 11.91655588  8.69547162 17.00737869 16.74196666 34.66177657\n",
      " 20.35156624 16.90669375 41.16202856  9.37814198 12.91862691 24.07690377 20.88853436 17.03770819 14.92529403 28.46820889 16.19575166 12.13327603 22.65195836  8.78501572 23.20574712 16.59380675 33.70013782 26.64328544 13.86760357 16.81964486 21.2179788  56.17808082 16.10271985  9.92976904 15.25208202  7.0184467\n",
      " 20.00221928 21.42356636 15.64870264 30.14617804 18.75053504 15.0367739  23.77191983 19.30215933 22.82182693 17.79653517  7.57241589  8.15521703 18.87445515 26.02819732  7.88468467 25.74054976  8.90854846 17.95306414 26.31822799 10.65509751 28.72922857 22.93788854 25.66761871 30.1500524  16.90704146 29.88087652\n",
      " 20.25762919 14.86197809 53.99478538 31.56058765 16.4475618   5.84964111 29.71082811 16.41219822 17.39196432 27.92295206 49.62828974  8.20820209 38.99473251 10.47862634 12.93969308 17.19311766 17.11745099 38.54215828 64.60100276  8.77504535 25.17775879 11.04457471 17.78196908 21.26512108 29.80018368 18.33903388\n",
      " 24.30241476 13.46529438 32.30194175 21.49391549 15.62057363 19.6061615  29.77026797 15.34660797 15.7300618  23.11783089 46.59501994 24.098187    2.29353447 13.3694899   4.86937313 29.77970428 27.14517579 15.00063861 10.60677633 35.51479376 27.32126281 26.91573418 24.46086839 12.78226656 11.36978701 27.04625872\n",
      " 12.18733342 14.64803561  7.36758953 25.7584662  11.80364334 28.38884223 28.15781973 15.47873204 17.03725434 25.43925142 20.91473965 33.80892412 17.06888486 10.83026209 16.19870343 15.83117255 28.79519715 26.61818209  2.03186244 19.07051215 14.41618263 29.83587713 31.05059668 16.47869877 20.06383269 17.63890617\n",
      "  5.49552656 62.10020889 41.56790559 20.04571691 28.99739332  5.27300766 30.203209   13.56042481 20.93407    10.9901425   8.84886641 38.54066933 17.16416126 15.48061274 22.7955582  37.04345675 21.08402743  8.30221681 23.90307879 12.57421015  4.56066067 17.23617398 38.10179019 11.82221393 13.91320266 24.07598304\n",
      " 29.60836268 12.08770698 40.50241626 18.06412992  7.62823079 19.38844953 13.78873401 31.31634613 29.22070359 16.68980395 15.29816156 30.63404322 12.12995299 19.51651428  6.30220217 32.70378779 10.05288385 25.56680315  5.99608293 26.17444842 13.13552395 31.14942864 11.06331886 11.01651702 32.92844549 16.47053185\n",
      "  9.95273755 12.6784365  34.99538745 26.79743047 20.46086388 35.39589725 30.20200141 27.02410006 26.2628504  50.32860993 12.26345837 25.45316879 29.52020983 20.49234315 21.59136607 28.01102756 29.15059909 16.16887002 19.57424604 15.86417948 15.88743258 25.18850225 20.09243364 14.43853785 25.58922859 11.01380201\n",
      " 13.85274108 25.66072973  8.12934987 12.69949259 22.57157008 24.05988672 18.74548683 17.99828556 17.70290812 18.91532588 21.05881343 33.16497154 26.48440509 23.40163451 18.72827444 26.39068922 12.75596345 24.1723295  21.82005058 31.92491269 10.9925932   7.14386344 21.73527184 20.07172678 21.68841435 26.95257276\n",
      " 18.00156882 23.86498336 44.39396349 31.24933084 14.00542269 13.38207894 16.20180031 26.89638174 13.03503463 31.86356263 19.33993116 16.2246695  16.55860574 43.9478506  30.93661021 19.10168015 18.65634377 64.34583086 27.18125485 15.13180848 27.20369539 23.89005072 15.9311917  32.4009259  17.68852087 11.02813003\n",
      " 15.25797643 13.24312563 21.96090726 21.0882541  28.82343487 28.22792596 19.36451899 15.50352654 27.05935612 32.58635813 21.8341455  11.00293389 16.30892239 23.79972509 17.13863627 15.20765905 27.70318699 24.70173866  5.42203456 14.07835254 12.14004261 12.36510318 28.01366526 21.49036623 27.08808753 20.80824029\n",
      " 37.84409089 21.49495065 26.60858518 24.26593443 17.23190597 17.27540938 24.97201551 32.04735598 11.84656028 20.314533   16.88235375 20.98467108 24.22084144 12.80891499 17.02245493 19.70601417 29.74443336 10.12063615 22.20643212 24.50449386 42.91984032 10.14348657 17.8069134   7.32021289 28.58784502  3.48498051\n",
      " 26.15394699 15.07238788 29.59117342 15.41792106 30.29981534 26.09975199 15.21767316 26.99167181 32.7565324  49.25030546 13.36317289 17.98927343  9.64912153 23.98986135 31.24710142 21.24715693 15.45852289 14.78717183 27.51879378 30.91238286 36.3661043  14.22913103 12.58418454 26.83315307 20.31500804 10.29677786\n",
      " 11.1542638  19.00267012 25.1117976  20.78349264 32.25423316 21.40155847 19.0473072   9.04177023 35.29444816 19.56609184 19.17635735 25.84441034 25.20478064 36.868559   28.52155984 31.1049095  23.82372551 54.66856859 32.93300619 16.7384611   5.40143819 70.3343725  24.92991013 12.20889854 20.13268522 29.36883197\n",
      " 52.49384981 32.17093202  3.2937874  15.08918154 12.16907627 16.90689803 17.30752928 15.0108859  14.66045349 16.4997333  16.97747278 23.23100833  5.79750056 29.25367275 16.84332342 46.14521688 26.88944538  6.23890129 26.05842561 22.69156505  3.13315007 22.70629505  6.60948227 15.58843661  9.64817496  6.97531627\n",
      " 62.26433233  9.25587234 22.04486061 19.34730867 10.14521331  9.61286957 28.69173346 21.62690798 37.41584334  7.4758553   9.79934394 25.98068603 53.18310196 12.23659706 25.08998166 19.60741179 32.6252741  37.51234168 16.33435231 35.30103941 34.69041523 60.42958761 10.63093712 13.69869977 42.59171478 19.51451301\n",
      " 21.70729134 26.49368078 17.36961818 29.18934625 11.9508037  12.8760622  35.35414861 33.99456922 21.60125738 17.44990328 62.87174251 50.45841195 45.87220459 14.57602577  3.6261729  38.87691437 17.3555748   6.75514334  0.74599799 25.53622698  5.94575285  9.30946266 19.97927142 24.39429595 14.66295768 12.80954356\n",
      " 30.76055779 17.86288708 41.23665898 32.24936017 15.63347383 11.11201826 18.22529894 19.84145313 31.42693144 32.78442634 25.84924171 27.99093876  9.63442292  6.15004979 20.09651921 29.8102685  29.81347465 24.54723264 11.11307172 30.59934297 15.6898994  25.71879572 48.71982051 23.07483193 44.72819536 24.66599123\n",
      " 28.09051474 38.9752865  34.13996642 18.14171359 14.53795718 12.56322162  7.63058734 20.93116116 26.03002624  5.28942214 15.55230927 26.95083166 26.13601671 23.26658758 26.07775409 32.4081044  12.76570972 13.51249355 11.68922569 15.80861382 21.45197275 26.27672548  8.13782881  9.76027191 31.77032163 27.52974524\n",
      " 15.05090915 31.78100152 12.77915176 22.47874811 13.98094426 20.15218692 16.32099174 12.96430741 29.66832847 30.04985279 12.13796336  5.63564183 11.01673033 24.60164748 20.02084838  9.59249164 23.71589603 17.39367309 17.38305312 14.09508005 29.85146662 14.18523496 14.11815157 13.45697611 23.08718533 18.59543426\n",
      " 22.98981374 38.28756764 49.27026225 29.95429956 27.77595945 34.07818804 28.70629619 38.09578152 15.90236995 50.3186754   6.42061618 24.52421691 27.96318099 51.42776313 16.22738282 26.22269314 12.66670945 30.12342985 31.40333837 30.70702964  9.2317843  19.81934595 63.01450243 21.67627289  9.65549183 57.95748589\n",
      " 12.43903838 26.5339139  37.53230236 34.14409159 42.0242692  50.70371363 56.35116536 46.46421109 26.75155638 28.24502235 32.12260204 24.4899081  37.38489043 48.93630076 40.5623207  67.34074267 12.52472193 57.65174009 45.3049282 ]\n",
      "True False\n",
      "D:\\CaseStudies_CoH_FineAdjustDigitization1\\ReRegisterCoH\\\\registration/48201C0855J.tif\n",
      "[[ 1.01450150e+00  1.59083599e-03  1.48572029e+05]\n",
      " [-1.59083599e-03  1.01450150e+00 -6.71389429e+04]\n",
      " [ 0.00000000e+00  0.00000000e+00  1.00000000e+00]]\n",
      "[[ 8.77314157e-01 -3.20611969e-03 -1.06328080e+07]\n",
      " [-3.01560585e-03 -8.88403047e-01  3.47207275e+06]\n",
      " [ 0.00000000e+00  0.00000000e+00  1.00000000e+00]]\n",
      "D:\\CaseStudies_CoH_FineAdjustDigitization1\\ReRegisterCoH\\\\focus\\48201C0860J.tif\n",
      "2240 / 6160\n",
      "Enter Matching\n"
     ]
    },
    {
     "data": {
      "application/vnd.jupyter.widget-view+json": {
       "model_id": "2bcce74950354d4e889d3e87aa06fbde",
       "version_major": 2,
       "version_minor": 0
      },
      "text/plain": [
       "Calculating Descriptors:   0%|          | 0/4737 [00:00<?, ?it/s]"
      ]
     },
     "metadata": {},
     "output_type": "display_data"
    },
    {
     "data": {
      "application/vnd.jupyter.widget-view+json": {
       "model_id": "7fed743954a941f8bacbd6ca0d3fa7b3",
       "version_major": 2,
       "version_minor": 0
      },
      "text/plain": [
       "Calculating Descriptors:   0%|          | 0/2177 [00:00<?, ?it/s]"
      ]
     },
     "metadata": {},
     "output_type": "display_data"
    },
    {
     "data": {
      "application/vnd.jupyter.widget-view+json": {
       "model_id": "8f6834078b504d37a647fa7c6f19032e",
       "version_major": 2,
       "version_minor": 0
      },
      "text/plain": [
       "Descriptor Matching (Flipped):   0%|          | 0/2177 [00:00<?, ?it/s]"
      ]
     },
     "metadata": {},
     "output_type": "display_data"
    },
    {
     "name": "stdout",
     "output_type": "stream",
     "text": [
      "1610\n",
      "IDX 1609\n",
      "DISTNACE 1075\n",
      "DBSCAN 1609\n",
      "INTERSECT 1075\n",
      "1076\n",
      "[   0    3    5 ... 1603 1604 1609]\n",
      "[ 0.62651204  9.2431443  14.85969697 21.67699154 64.78915951] 1076 1076\n",
      "Distances under 100: [13.43543398 22.23037984 21.91069971 ...  6.69285126 57.60369755 39.62074682]\n",
      "Enter Matching\n"
     ]
    },
    {
     "data": {
      "application/vnd.jupyter.widget-view+json": {
       "model_id": "ffd273980a8c428296102ad4fcea954d",
       "version_major": 2,
       "version_minor": 0
      },
      "text/plain": [
       "Descriptor Matching (Flipped):   0%|          | 0/2177 [00:00<?, ?it/s]"
      ]
     },
     "metadata": {},
     "output_type": "display_data"
    },
    {
     "name": "stdout",
     "output_type": "stream",
     "text": [
      "Results Update: 1076 1591 1215\n",
      "1215\n",
      "IDX 1214\n",
      "DISTNACE 970\n",
      "DBSCAN 1214\n",
      "INTERSECT 970\n",
      "971\n",
      "[   0    1    2    3    5    6    8   10   12   13   14   15   16   17   18   19   20   21   22   24   25   26   27   28   29   30   31   32   33   34   36   37   38   39   40   41   42   43   44   45   46   47   48   50   51   52   53   54   55   56   57   58   59   60   61   62   63   64   65   66   67   68   69\n",
      "   70   72   73   74   75   76   77   78   81   82   83   84   85   86   87   88   89   90   91   92   93   94   95   96   97   98   99  100  101  102  103  104  105  106  107  108  109  110  111  112  113  114  115  116  117  118  119  120  121  122  123  124  125  126  127  128  129  130  131  132  133  134  135\n",
      "  137  138  139  140  141  142  143  144  145  146  148  149  150  151  152  153  154  156  157  158  159  160  161  162  164  165  166  169  170  171  172  173  174  175  176  177  178  179  180  181  182  183  184  185  186  188  189  190  191  192  193  194  195  196  197  198  199  200  201  202  203  204  205\n",
      "  206  207  208  209  210  211  212  213  214  215  216  217  218  219  220  221  222  223  224  225  226  227  228  229  230  231  232  233  234  235  236  237  238  239  240  241  242  243  244  245  246  247  248  249  250  251  252  253  254  255  256  257  258  259  260  262  263  264  265  266  267  268  269\n",
      "  270  271  272  273  274  275  276  277  278  279  280  281  282  283  284  285  287  288  289  290  291  292  293  294  295  296  297  298  299  300  301  302  303  304  305  306  307  308  309  310  311  312  314  316  317  318  319  320  321  323  324  325  326  328  329  330  331  332  333  334  335  336  337\n",
      "  338  339  340  341  342  343  344  345  346  349  350  351  352  353  354  355  356  357  358  359  360  361  362  363  364  365  366  367  368  370  373  374  375  376  377  378  379  381  382  383  384  385  386  387  388  389  390  391  392  393  394  395  396  397  398  400  401  402  403  404  405  406  407\n",
      "  409  410  411  412  413  414  415  416  417  418  419  420  421  422  423  424  425  426  427  428  429  430  431  433  434  435  436  437  438  439  440  441  442  443  444  445  446  447  448  449  450  451  452  453  454  455  456  457  458  459  460  461  462  463  464  465  466  467  468  469  470  471  472\n",
      "  473  474  475  476  477  478  480  481  482  484  486  487  488  490  491  492  493  494  495  496  497  498  499  500  501  502  503  504  505  506  507  508  509  510  511  512  513  514  515  516  517  518  519  520  521  522  523  524  525  526  527  528  530  531  532  533  534  535  537  539  540  541  542\n",
      "  543  544  545  546  547  548  549  550  551  552  553  554  555  556  557  558  559  560  561  562  563  564  565  566  567  568  569  570  571  572  573  574  575  576  577  578  579  580  581  582  583  584  585  586  587  588  589  590  591  592  593  594  595  596  597  598  599  600  601  602  603  604  605\n",
      "  606  607  608  609  610  611  612  613  614  615  616  617  618  619  620  621  622  623  624  625  626  627  628  629  630  631  632  633  634  635  636  637  638  640  641  643  644  645  646  647  648  649  650  651  652  653  654  655  656  657  658  659  660  661  662  663  664  665  666  667  668  669  670\n",
      "  671  672  673  674  675  676  677  678  679  680  681  682  683  684  685  686  687  688  689  690  691  692  693  694  695  696  697  698  699  700  701  702  703  704  705  706  707  708  709  710  711  712  713  714  715  717  718  719  720  721  722  723  724  725  726  727  728  729  730  731  732  733  734\n",
      "  735  736  737  738  739  740  741  742  743  744  745  746  747  748  749  750  751  752  753  754  755  756  757  758  759  761  762  763  764  765  766  767  768  770  771  772  773  774  775  776  777  778  779  780  781  782  783  785  786  787  788  790  791  792  793  794  795  796  797  798  799  800  801\n",
      "  802  803  804  805  806  807  808  809  810  811  812  813  814  815  816  817  818  819  820  821  822  823  824  825  826  827  828  829  830  831  832  834  835  836  837  838  839  840  841  842  843  844  845  846  847  848  849  850  851  852  853  854  855  856  857  858  859  860  861  862  863  864  865\n",
      "  866  867  868  869  870  871  873  874  875  876  877  878  880  881  882  883  884  885  886  887  888  891  892  893  894  895  896  897  898  899  900  901  902  903  904  905  906  907  908  909  910  911  912  913  914  915  916  917  918  919  920  921  922  923  924  925  926  927  928  929  930  931  932\n",
      "  933  934  935  936  937  938  939  940  941  942  943  944  945  946  947  948  949  950  951  952  953  954  956  957  958  959  960  961  962  963  964  965  966  967  969  970  971  972  974  975  976  977  980  981  982  983  985  986  987  988  989  990  991  992  993  994  995  996  997  998 1000 1001 1004\n",
      " 1005 1006 1008 1010 1011 1012 1013 1014 1015 1016 1017 1018 1019 1020 1021 1022 1023 1025 1026 1029 1052 1059 1060 1091 1169 1182]\n",
      "[ 0.33903245  9.36235219 15.04137788 21.29007709 52.59773341] 971 971\n",
      "Distances under 100: [16.74446587 22.33689813 22.40340561 20.1776288   7.92744994 19.65565037  8.78061581 15.43759872 18.75566918 14.26079445 13.2521562  23.6943033  19.15320708  5.16532494 12.49261315 17.38416971 23.48178825 11.6215334  24.31186799 11.77918797 26.25534924 18.97997635 18.30190753 17.00300232 14.05689233 26.21473896\n",
      " 16.29888351  9.401822    1.65562153 32.07118998 24.73844361 16.71160666 11.43546088  9.5326417  17.88448421 16.5124371   8.63219669 20.36180903 42.66424539 15.67182549 21.62686003 22.81018954 27.11601119  9.48756614 25.04055429 19.37218013 39.73851912 20.33565473 22.93116634 25.09698054 36.7884872  22.414342\n",
      " 23.36270492 20.15236346  7.74730747 15.74305207 34.68549948  4.75901226 16.49632451  5.30056266 28.52016961 13.2096318  13.67470812 26.4975626  16.65905156 22.92423753 18.11917447 19.62071006 17.3229151  29.89942458 13.15858507 18.05239286 27.67462984 26.42049261 20.11931201 23.42953236  4.73108981 10.22876531\n",
      " 14.92191001 15.40946246 27.67621413 25.87872911 23.1017154   5.7208998   1.58902146 14.50253716 30.05935945 34.258108   35.71696706 30.53498728  7.35965817 33.85341504 24.56156044 11.26123519  9.40793461 38.83728343  4.66998425 19.54556771 18.25751608 12.34571259 36.43265137  3.67187725 29.05716126  8.25581382\n",
      " 10.08453789 25.29824846 26.43402501 19.51269116  7.47996998 17.57014481 18.78032814 20.79487266 18.48032236 11.54882195 13.71693478 27.75322738 13.54329539  1.1491021   9.54931902 28.33783113 42.96960105 44.98541697 15.24739098 24.35999183  1.79999391 21.79962438 17.35903229 25.05346216 11.87604806 39.44936529\n",
      " 12.35664058 33.57684737 23.33908588 18.04876738 18.42096024 17.49189036 18.76252208 38.82790773 24.57728244 24.11995858 20.99888316 18.17086765 14.19860337 25.64415316 38.91879779 11.43334784 10.03483593 17.59918765  9.6969773  15.49794364 21.53494176  3.65445126 21.1264465  13.24101878 22.56942404 17.80209555\n",
      " 35.04366945 15.402057    1.30763427 16.22876196  8.76816035 20.3070161  14.74656842  7.11412963 11.67494193 32.21839111 18.18875677 26.47637842 12.74376347  8.73307128 16.87475792  5.6020116  11.74613758 20.65263293 20.13647761 25.05120448 11.35109397  7.28331373 14.00956225 11.67667232 16.28544161 22.71240089\n",
      "  7.86736693  5.6227219  12.97289422 38.10756782 23.81085615 35.39445506 43.0979692  25.02255265  9.38956062 20.00477753  4.86126175 15.28521452 23.39909521 15.67644045 31.40860773 24.34293813  9.01625089 27.17034134 10.37247391 16.53878937 26.45810867 29.23718109  8.06709949 22.09895305  8.98148865 14.84828734\n",
      " 15.38651356 17.76879072  9.551525   33.3899308  15.00345067  7.11335911 13.73801612 20.07973565 13.58608212 24.12474394 21.6764773  17.77934481  8.18023259  2.75375744 16.27042335 28.26354503 33.99878454 11.69706043 11.25310365 14.44777339  6.73922075 14.21131579 12.08858123 23.24996322 16.89401402 15.76184122\n",
      "  4.33800091 19.72731551 17.02463744  5.23628571  8.82246859 16.28651807 19.28339218 18.02535866 12.95856534 16.79653335 17.50211232 16.37379704 26.81207652 18.54997492 32.79483065  3.00467776 23.54438743  3.72468836  6.00730894 21.06837093 12.52763653 14.27761353  3.46378886 47.61898111  3.12809263  9.40580548\n",
      " 22.97640804 22.83513027  2.82684808  7.10514608 15.14967721 14.96375549 13.20214642 13.48804485 10.69213607 20.09202816 25.24407622 20.17711882  5.45957904 25.57727276 17.75567889 22.37166196  5.37174676 52.40980652 15.04137788 14.78229225 13.12797005  2.79819229  4.02647865  3.8539579  14.57058315 19.41283869\n",
      " 23.98597973 33.18016891 25.78369809 22.88116378  5.72177493  8.08051804 23.93614835 31.16490868  2.33264413  3.27841906 19.24062886  9.72105628 28.50161887 19.21106211  8.75198973 15.04519565 19.73071674 43.64233582 22.72415835 10.99718422 19.21153189  8.52670433 20.71253672 15.75044111 15.7760124  12.54683737\n",
      " 14.46215969  2.23024822  8.19074455  7.73126065 22.31222282  6.76750178 38.60610556 10.57127355 15.99293149 19.54114526 30.92678848 10.10427198  8.73335669  1.16732835 14.94138128 15.22966877 15.76144759 19.20002609 10.886574    9.64181846 16.88028207  4.05489642  7.682509   11.68604759  8.90817296 19.64090676\n",
      "  4.16648356 22.87001609 13.36150107 15.38001234 11.39443891  6.70886692  9.77298368 16.47615077 19.9970528  24.63989839 14.072071    6.01264364  5.01964762  4.01113626 16.17986036 11.63779939  7.40444604  7.94191518 26.20232857 36.31005224 19.80888032 13.28847001  3.01800345 16.33955073 23.35379446 13.44670307\n",
      "  8.55073771 17.71573439 11.94171178 18.25371094 23.00609461 24.58665015  6.87290025 23.31778963 10.50437374  4.61076239  9.53664962  8.0492545  25.1712392   7.12217272 17.26270645  9.9433128   3.36399499 18.77887004 13.24797737  3.1451563  40.46110684 13.35767012  8.4868682   1.6799117  20.58658609 17.85788172\n",
      "  7.28700005 19.0584601  30.47654707  8.02577423 21.65666297 12.4883534  23.56905186 23.23041622 17.51375788 31.35721548 18.45649472 15.59627149  5.19102394 17.90638907  4.47978667 21.15491484  7.99306471  2.68758927 23.88240767  4.65119511  7.30690681  8.72010184 12.46558358 16.24515994 30.68539228  0.33903245\n",
      "  7.74284379  3.67186164 15.59816497 13.76447783  9.68147177  8.5469304  11.02113002  6.19582154 20.8018865   9.43281756 17.07595909  1.89059968  8.04276198  4.2889166  27.44387468  9.2277647   9.59439072  8.76128169 17.93023467 15.3097806  17.02383192 14.58102064 24.750107   14.53950904  8.27326292  8.75167366\n",
      "  4.88351371 15.69169192 23.57534423  6.69478388 18.96424586 23.42965694 35.54903562  3.3315871  21.73462005  9.88373558  9.26710101  2.60322877  7.06564454 16.5506109   8.89397683  6.89112267  7.99663255  3.08575421 14.396536    6.26511007 11.5514218  24.40106992  9.78694797  5.70292973 12.43806405 42.43475229\n",
      " 17.19768055 20.68408733 20.02712946 12.7791379   6.16247031  1.75289138  5.92944685 16.40015684 22.38352211 23.01734268 16.7111932  17.23274587 13.61002167  5.92710128  5.24024146  2.81193966  5.38017305 13.11560476 12.82692392 12.00294082 20.60537908 17.73892484  5.18342206 10.11742188 10.94820156 32.61713562\n",
      "  1.61966302 28.63269358 27.5465786   6.77339217 31.79570597 24.62366634  9.04945565 14.29335558 11.61231751 41.01076827 13.24530956 10.43999485 21.93987353 10.0564592  13.53871317 18.96217898 11.26204821 10.00906336 14.45444559 22.92981984  6.43759784 29.55371244 10.91448254  7.49598981 13.53829866 23.52301954\n",
      " 29.15558855 15.28455925 11.58409421 16.17660048 21.53435217  8.66087965 16.67856255 11.2838659  12.01016593 15.80137267 11.30169464 14.58052341 19.96918149 10.83812677 18.7211724   9.79182195 12.43273084 13.45073176 18.86398806 15.33017896 20.44828527  4.22515852 17.17335162 13.06234031 10.63895244 13.38142492\n",
      " 33.45565243 12.86282813 22.58716004 24.98384412 17.12654611  5.1227387  11.49252245 19.29790337 17.67566951 18.08219743  8.64757575 21.99520681  5.52668031 17.54136392 22.10583975  9.04203102 41.93910402  4.71880806 26.51446035 18.81729254 15.05933603 28.66532848 52.59773341 19.30617571 14.87245763  8.09251215\n",
      "  0.76361964 21.63985962 11.15484584  1.42552175  3.35818605 14.37879609 12.79542276 17.38494151  4.61545261 35.92993466  5.37234605  8.37499614 18.53336762 17.49969148 11.50978558 17.38824826 14.95391376 13.27797925  6.51411502 11.54386636 17.39651548 17.34876508 24.97255927 28.96722797 12.8788381  12.20631166\n",
      "  6.48305702 12.84842075 19.18190056 12.96432117  8.7263032  15.05746575 23.2727318  22.78038957 17.82763429 16.16708814 10.16708284 38.34955186  6.96597834  8.8631193  16.65694429 20.28822033  9.92250491 21.68552158 24.72725698 30.82819741 13.82582356 11.27817276 10.70749321 15.6783692   5.39526341 32.5582891\n",
      "  7.45854068 17.2495823   5.57691177 11.78752979 11.43275386  6.3946196  14.01797688 43.31536556 24.56717596 14.85502417 12.09519491 27.9828902  22.92939942 13.86720283 18.7192924  26.29862115 20.45604691 10.74754728 15.51830036 32.00245853  6.07208314  9.03568102 17.78621412  2.64480022  7.60624619 11.03093154\n",
      " 15.96805787 14.5530322  16.30993037 21.78653212  4.30125095 13.24750783  0.45609375 22.82670117  9.47116162 32.82928828 27.30996068 13.48023978 11.01059626 12.86328189 10.35020717 20.08256995  9.04062945 12.19363818 18.29480937 10.74666639  7.02965951  9.02220796  3.58516357  1.14569339 13.8727582   5.72661947\n",
      " 16.68717928  9.95998373  3.50388119  9.68774601 10.39014448 15.32446153  8.53927094 13.20102678 17.77592693  2.19372582 15.57473496 19.5269005  17.86415048 38.70282639  3.12240025 22.80751654 11.77635467  8.34898892  6.96888614  6.88491654 13.83256529  4.03173251  5.69873584  9.37759874 16.37449155  7.34606315\n",
      " 10.94167279 30.31359107 17.04054001 26.12174248 26.18203268 12.09379171  4.0703093   6.74139291 17.29467418 13.67569937 16.44915751 22.90746162 20.21667681  4.91540297 12.858954   27.36391001 10.07922215 27.03959376 14.19449661  1.94363521  7.85386898 18.38623107 10.80269372  6.38348871 21.05136189 13.44375357\n",
      " 14.89338487 18.17664798 13.54645914  8.4621707  15.52580979 16.48898516 26.51911464 19.66026887 14.75364953  2.37867316  9.4208213   6.48993782  3.17806479 11.9965007  16.27995095  2.94403385 13.65671745 12.58838179 11.30465115 14.67072844 12.02844467 18.15395626 12.85490685 28.89256511 25.45720887 12.66875855\n",
      " 16.38798635  5.66238639 25.76248769 25.21247909  6.71445959  9.06884127  2.36601329 10.77929814 17.10639697 13.027861   18.02776924 16.48917518  3.44760902 11.92159879 11.92643988 15.60706562 11.6882057   6.20319811 28.05202827  8.76579523 13.7833677   3.21527427 22.34634428 11.07225084 12.3805099   8.74769499\n",
      "  7.54602804 10.90518685  5.01057984 27.42838312 21.20841787 51.497518    7.00348797 11.61610852 17.00105288  6.60599498 23.5247931  28.1185125  40.5909432  31.68847911 22.09132496  7.33591553  7.92141663  6.95535038  8.80075558 18.81857001  9.95824565 17.7997538  28.78375452  7.67559951  5.66278317 23.52459971\n",
      " 17.1937631  13.04256806 11.97652659 14.26536094  4.08782552 10.14226926  2.09225029 10.830299   11.57262541 19.31441447  7.07706435  3.81755887 20.42509688 11.57097351 21.78044652  6.74773035  9.34710563 18.39555446 12.05955592 10.1330928   8.90808404 16.49226977 41.62910152  7.85451861  6.9904182   5.60423867\n",
      " 18.08062232  7.27597557 16.46144694 21.44926049  3.8821912   5.50905342 15.56823795 12.40998109  4.26509807 10.54144478 15.19636167 15.04764342 14.23801273 15.1329898  24.91524496 16.28213387  8.75485158 17.95975114  8.58561953 21.34577255  9.15285106 16.64664078 24.94053933 17.29136582  5.22477805 10.99074632\n",
      " 29.27535624 33.68699181 25.91004099  7.90555902 10.28648931 29.64867999 25.89830501 31.44751908 22.13743061 19.68292069 25.90553271 20.153871    7.42552694  8.48053474 12.49781999 11.73076789 14.04907897 10.93508694 18.61572847  6.31708607 29.24024591 11.12633029 11.57204928 19.46648299  7.37219167 11.51309248\n",
      " 17.39199359  8.51323615  7.67399694 13.34612342 10.03617066 26.72022206  3.64222523 20.23802354  8.02022854 23.97330356 15.47583667 31.31842818 17.27973079 36.51405839 26.51212728 18.23445273 34.49150804 12.99954067 16.58389138 14.54355043 21.74742968 15.95751549 12.87116927 18.65751892 27.65750551 13.29993603\n",
      " 46.32498781 32.7067509  40.07728626 26.97589639 43.48781245 16.09412744 18.60997392 22.70194873 22.32423226  8.76384275 22.67467048 15.95097852 15.54945457  9.73507269  5.64664775 17.15737756 17.8035313   5.88069493  7.21109211  6.15817867 45.45564954 13.56805841 11.69770334 23.43026516 24.88864973 13.47806596\n",
      "  4.73548499 17.28051935 28.82113645  5.7217117  22.52151144  9.93228279 22.08857826 17.73286615 21.23438163 18.61475454  6.13935982  4.64742819 15.39429496  8.50600052 14.69170008 17.92625715 22.88786879 39.31399161 11.24985048 33.74527727 19.34499256  6.42733943 13.43878768 12.54675976 31.48553016 34.14526346\n",
      " 38.50294224 11.31681933 11.57105412 33.44877449  8.09345933 27.53807248 20.40325621 22.1392605   8.22231654]\n",
      "Enter Matching\n"
     ]
    },
    {
     "data": {
      "application/vnd.jupyter.widget-view+json": {
       "model_id": "f7404f4fa2704afba69629fcbd4832c7",
       "version_major": 2,
       "version_minor": 0
      },
      "text/plain": [
       "Descriptor Matching (Flipped):   0%|          | 0/2177 [00:00<?, ?it/s]"
      ]
     },
     "metadata": {},
     "output_type": "display_data"
    },
    {
     "name": "stdout",
     "output_type": "stream",
     "text": [
      "Results Update: 971 1599 1232\n",
      "1232\n",
      "IDX 1231\n",
      "DISTNACE 987\n",
      "DBSCAN 1231\n",
      "INTERSECT 987\n",
      "988\n",
      "[   0    1    2    3    4    5    6    7    8    9   10   11   12   13   14   15   16   17   18   19   20   21   22   23   24   25   26   27   28   29   30   31   32   33   34   36   37   38   39   40   41   42   43   44   45   46   47   48   49   50   51   52   53   54   55   56   57   58   59   60   61   62   63\n",
      "   64   65   66   67   68   69   70   71   72   73   74   75   76   77   78   79   80   81   82   83   84   85   86   87   88   89   90   91   92   93   94   95   96   97   98   99  100  101  102  103  104  105  106  107  108  109  110  111  112  113  114  115  116  117  118  119  120  122  123  124  125  126  127\n",
      "  128  129  130  131  132  133  134  135  136  137  138  139  140  141  142  144  145  146  147  148  149  150  151  152  153  154  155  156  157  158  159  160  161  162  163  164  165  166  167  168  169  170  171  172  173  174  175  176  177  178  179  180  181  182  183  184  185  186  187  188  189  190  191\n",
      "  192  193  194  195  196  197  198  199  200  201  202  203  204  205  206  207  208  209  210  211  212  213  214  215  216  217  218  219  220  221  222  223  224  225  226  227  228  229  230  231  232  233  234  235  236  237  238  239  240  241  242  243  244  245  246  247  248  249  250  251  252  253  254\n",
      "  255  256  257  258  259  260  261  262  263  264  265  266  267  268  269  270  271  272  273  274  275  276  277  279  280  281  282  283  284  285  286  287  288  289  290  291  292  293  294  295  296  297  298  299  300  301  302  303  304  306  307  308  309  310  311  312  313  314  315  316  317  318  319\n",
      "  320  321  322  323  324  325  326  327  328  329  330  331  332  333  334  335  336  337  338  339  340  341  342  343  344  345  346  347  348  349  350  351  352  353  354  355  356  357  358  360  361  362  363  364  365  366  367  368  369  370  371  372  373  374  375  376  377  378  379  380  381  382  383\n",
      "  384  385  386  387  388  389  390  391  392  393  394  395  396  397  398  399  400  401  402  403  404  405  406  407  408  409  410  411  412  413  414  415  416  417  418  419  420  421  422  423  424  425  426  427  428  429  430  431  432  433  434  435  436  437  438  439  440  441  442  443  444  445  446\n",
      "  447  448  449  450  451  452  453  454  455  456  457  458  459  460  461  462  463  464  465  466  467  468  469  470  471  472  474  475  476  477  478  479  480  481  482  483  484  485  486  487  488  489  490  491  492  493  494  495  496  497  498  499  500  501  502  503  504  505  506  507  508  509  510\n",
      "  511  512  513  514  515  516  517  519  520  521  522  523  524  525  526  527  528  529  530  531  532  533  534  535  536  537  538  539  540  541  542  543  544  545  546  547  548  549  550  551  552  553  554  555  556  557  558  559  560  561  562  563  564  565  566  567  568  569  570  571  572  573  574\n",
      "  576  577  578  579  580  581  582  583  584  585  586  587  588  589  590  591  592  593  594  595  596  597  598  599  600  601  602  603  604  605  606  607  608  609  610  611  612  613  614  615  616  617  618  619  620  621  622  623  624  625  626  627  628  629  630  631  632  633  634  635  636  637  638\n",
      "  639  640  641  642  643  644  645  646  647  648  649  650  651  652  653  654  655  656  657  658  659  660  661  662  663  664  665  666  667  668  669  670  671  672  673  674  675  676  677  678  679  680  681  682  683  684  685  686  687  688  689  690  691  692  693  694  695  696  697  698  699  700  701\n",
      "  702  703  704  705  706  707  708  709  710  711  712  713  714  715  716  717  718  719  720  721  722  723  724  725  726  727  728  729  730  731  732  733  734  735  736  737  738  739  740  741  742  743  744  745  746  747  748  749  750  751  752  753  754  755  756  757  758  759  760  761  762  763  764\n",
      "  765  766  767  768  769  770  771  772  773  774  775  776  777  778  779  780  781  782  783  784  785  786  787  788  789  790  791  792  793  794  795  796  797  798  799  800  801  802  803  804  805  806  807  808  809  810  811  813  814  815  816  817  818  819  820  821  822  823  824  825  826  827  828\n",
      "  829  831  832  833  834  835  836  837  838  839  840  841  842  843  844  845  846  847  848  849  850  851  852  853  854  855  856  857  858  859  860  861  863  864  865  866  867  868  869  870  871  872  873  874  875  876  877  878  879  880  881  883  884  885  886  887  888  889  890  891  892  893  894\n",
      "  895  896  897  898  899  900  901  902  903  904  905  906  907  908  909  910  911  912  913  914  915  916  917  918  919  920  921  922  923  924  925  926  927  928  929  930  931  932  933  934  935  936  937  938  939  940  941  942  943  944  945  946  947  948  949  950  951  952  953  954  955  956  957\n",
      "  958  959  960  961  962  963  964  965  966  967  968  969  970  974  976  977  981  998 1019 1023 1025 1034 1072 1074 1080 1083 1092 1099 1100 1103 1117 1122 1133 1145 1150 1154 1167 1173 1179 1206 1217 1218 1230]\n",
      "[ 0.25520589 13.59914426 19.84054973 27.20096314 67.72956171] 988 988\n",
      "Distances under 100: [17.99970999 21.94683891 24.86622326 21.03440389  6.46033191  8.19695434  4.06850261 17.48845852 20.04587777 22.10193959 16.27263328 30.5040374  21.16253207 10.40757348 21.00927194 11.15562746 32.25352768 10.73496881 27.50194062 10.18510508 28.92028661 16.61388844 25.52254466 17.76000263 18.83757864 30.64370676\n",
      " 20.20184223 16.84668864 10.68058579 39.90063508 33.63174717 18.02846245 14.97252801 16.95007781 23.64465962 31.77532854 22.92263119 37.21785972 22.13503713 21.2394041  27.20197726 34.91761747  6.10143296 30.64055644 27.23965835 47.73284808 30.63356926 25.76406052 22.54933022 42.80414197 23.31057739 27.61274842\n",
      " 24.79290676 14.86172521 22.84350046 42.77708327  6.20833627  9.01170055 55.63915353 35.35295889 60.0470251  20.26502931 16.38306649 17.99751484 26.01777606 19.83682065 19.19543881 15.8931686  33.46332904 21.76394436 23.38473409 37.78290054 35.80330852 23.50994532 32.17273736  6.01945547 17.07819627 44.5310894\n",
      " 22.08612218 29.31959031 19.60677357 40.29167786 11.30551413  5.6993599  19.68675325 31.15797259 39.89201282 38.6627921  38.06842869 13.64409452 41.45229552 30.13863732  9.32632761 19.12845499 46.87454296  4.00509825 20.10915291 10.30190395 56.88193055 46.13845405  5.11499918 47.1811669   2.292526   65.73081904\n",
      " 34.86464211 30.20112254 24.07037499 12.2745787  35.16844249 19.18724498 22.95035976 28.04822239 19.31245051 31.84437954 32.15822573 15.19565259 14.32010594  9.91152034 21.32858036 28.73373037 10.90687214 31.75051814  6.11278278 31.65062354 19.15586215 35.2308472  15.57491453 64.62300598 22.60258713 27.61766676\n",
      " 24.47804194 21.45565757 25.0433975  19.74616375 24.14168168 43.80904248 28.25827622 31.32361559 24.60582103 26.7167598  21.87784504 40.7003036  17.03486651 14.08329277 25.1636455   8.62062855 17.90445414 35.9986002  12.18170119 24.9492113  16.24037369 30.58739853 25.67385874 41.99114331 21.22926802  7.87913757\n",
      " 19.78829157 19.9399287  25.41758008 19.0725915  67.57763183 12.7133488  36.04862377 15.55757983 31.99056867 20.20736576 16.13775376 18.681339   11.2183511  12.8371675  24.86976221 20.47582829 27.02829917 16.19345181 14.40763325 18.2544083  12.56161428 24.56618004 27.10037424 13.60694458  6.22732225 14.91709011\n",
      " 42.93471358 28.67642699 45.62816829 49.33547543 29.34676018 16.17797138 23.77487259 12.20456264 65.33315976 29.47994404 23.88929729 25.55619287 30.32800804 58.05197678 36.86772389 11.464881   18.91551728 33.49603614 35.35523072 12.06884393 27.41155403 15.23544847 21.49972967 33.16865304 19.47668961  7.22762022\n",
      " 22.08489864 19.68648016  4.7403516  18.40107333 22.35784713 15.93420102 27.32342019 26.95299052 21.60790754 14.52932193 11.18528146 20.35937292 37.38542544 34.27305766  9.97068124 15.43532928 24.73179146 17.20148712 15.1659242  16.93598579 28.56169725 20.5689693  15.09150765 64.58538281 21.03232474 16.46027035\n",
      " 13.60446567  7.48444143 21.67937802 28.90517255 24.6459093  19.91002592 20.20449643 19.93377985 32.76584003 33.12736801 19.78605143 36.9741587   6.59549852 28.04028851 10.36537057  8.5553815  21.21888158 21.20857786 21.37041265 12.04260366 52.57541632  3.98727628 17.2362974  26.85435446 32.84215684 11.62073104\n",
      " 13.35943404 25.57587269 16.43781828 11.38744027 17.20386078 10.59520841 25.51369994 29.97998364 27.67350813 12.92241265 30.13661001 24.69667721 26.76622864  5.96245658 59.83669042 27.88994453 15.29814984  8.88718284  6.31835212  9.0040962  23.07433114 26.98234509 30.97148752 25.54427693 27.2006251  27.09152882\n",
      " 12.08147277 16.95919356 22.57966389 39.94010435  6.13075374 12.71621525 27.65054132  9.40901174 34.7158586  26.85467967  1.256815   14.85365068 22.3826748  61.47047837 25.02825138 23.28160205 10.09994607 25.45884453 16.8693788  22.84453184  8.28466473 18.73771431 11.22965401 18.10095536 14.16024003 26.58885112\n",
      " 14.72349718 29.41799663 14.84476892 15.06810196 23.07096931 38.14156524  5.69211863 13.7997358   6.57609433 18.81765347 20.83146891 21.89195368 27.79352363 16.28453613 18.44838258 18.49224368  6.91569676 56.08102319  7.3559795  10.16035017 22.84170111  8.15750301 25.09440234 19.08097905 25.50959023 15.23790407\n",
      "  7.80897454 16.11199014 16.11923297 22.22290002 29.43229846 19.95103252 10.01132985 60.91944612  7.00339199 19.69272355 14.70268699 13.93555115  6.87787314 34.83382663 14.03167458 29.19589405 10.85952897 19.08035788 32.06453252 14.38183752 10.71488882 22.94931704 21.92234797 50.3953924  31.17242838 29.81343012\n",
      " 12.42161291 27.51787527 15.68292093  0.99915837 17.66034548  4.667291   25.15733804  6.93364935 20.97173507 13.06825415 10.46156935 26.43208032 14.67032097 10.05762074 30.26410886 12.62979807 67.64951871  9.11200801 22.11696915 25.5625145  64.25343218 29.92004194 39.98478346 18.6421591  26.59901733 12.5561425\n",
      " 25.05678619 27.23394874 26.26061105 35.27341671 23.40580755 42.89278496  8.52299026 21.68624258  8.46775432 22.59955047  7.16448639  8.64739088 27.30884523  8.72481934 14.24631685 33.05653829 19.32551832 15.85197119 33.0304076  10.48952682  8.26975757 10.67982525 13.90709506 15.32718643 16.08870156 10.33453092\n",
      " 12.98201305 16.9021507  24.32661435 12.9088592  22.58763861 10.79237185  5.41985715 12.26919259 30.10115032  0.25520589 12.28195931 13.71105129 21.20233855 20.29387382 19.0364133  25.18928029 24.71425799 18.30439451 17.90444471 13.84842154  4.86989668 19.27606793 26.55456828  8.25239117 21.20683483 27.70010548\n",
      " 61.18326407  5.44363454 31.73998736 15.31971937 13.00342573 10.22291636 11.45054492 18.91435385 17.2644285   4.90440162 10.93102691 59.90194301 20.92588775 13.64113441 17.2291856  28.88032098 16.14318722  5.7320397  16.9425147  33.13620368 40.00869399 28.83404514 22.65463837 20.09892621  8.38488857 14.17908356\n",
      " 16.21010175 29.48706405 25.56286895 22.0592351  15.03908554 21.35202455 10.38308498  5.41109072  7.4000235  13.94760654 11.20196466 21.68389038 20.55059629 27.48944533 23.96770744  4.23060636 13.97290168 14.70497356 36.0398756   7.8259865  22.30649357 31.7455185  13.2870798  37.36582168 27.20200275 13.65169825\n",
      " 23.12568354  9.9809286  31.97623104 19.85657902 40.41711151 31.8165084  19.19225294 17.34314988 22.89371264 18.98932276 12.17080125 21.99136178 23.56374042 15.60655063 28.67983255 14.25938484  8.58239017 27.88869354 30.84205173 19.67955243 19.76647285 18.49998918 18.51063    13.58588186 26.12063071 15.97608167\n",
      " 13.67863598 17.36854807 15.98620466 22.81328208 24.45420477 12.06604874 26.27244149  3.21058586 15.9234812  22.0141626  22.8080133  18.45539266 24.1224524   5.19061975 19.25381718 17.07649598 12.24816416 15.16966255 37.8440224  16.6487812  30.83903713 22.6801415  19.35910364 13.96582878 18.208855   18.53698143\n",
      " 20.46851758 25.23921156  9.71716315 23.29514488  3.64905559 22.37828536 17.43843483 17.72564153 32.40630587  5.42987127 30.26357912 23.48072867 22.94991311 26.2112934  57.27572568 24.55251986 23.10463658 17.13454229  2.72877794 24.69620224 14.86042388  9.19370478 19.24651322 11.95027178 23.38503459  5.05439469\n",
      " 39.155673   10.89912074 13.49933145 21.79285465 18.25051143 15.58809453 19.21127594 56.28727636 19.56458261  8.84958081 16.72240155 19.40662442 21.67003704 33.7646479  37.75603404 20.19096941 13.04391905  8.93376287 20.92820212 26.33657517 20.57993913 10.64954777 15.51848137 29.50334154 23.62866075 21.22567634\n",
      " 24.11823359 10.69502139 45.34132872 10.64873088 16.5392547  17.91996437 22.81404972  9.53909428 24.49795902 28.57079005 22.34597957 16.70722425 21.4236589  11.98086334 19.03133272 11.41720438 40.23581484  9.61104042 23.49691678  4.66946769 17.19553281  8.1870552  10.79038396 18.43111394 35.20124122 31.0364638\n",
      " 12.90117301 16.39038814 21.74218729 32.76764369 18.49817363 21.57560301 30.68273173 26.0102742  17.91345966 21.07920951 35.65924682 12.05236071 10.03990592 20.23808028 11.65634557  4.12303094 14.63503814 20.56209648 16.03913501 15.2233299  28.17491113  7.5705599  21.76586812  9.61033304 29.17706059 12.19222112\n",
      " 24.18829112 30.39718679 17.17058541 20.67556141 20.54860683 14.83710115 24.21309722 10.53349932 15.87815141 26.74293849  9.49972977 12.40425462 13.60132616 11.79586953  8.5719863  11.87037239 11.57849838 19.19627883 12.00333849  9.15949977 17.60415238 11.65832199 17.9006461  16.11209172 21.2984625  23.18244589\n",
      "  8.47937253 23.4771738  28.33617873 25.15676428 46.59481643  5.17899218 28.06471508 12.78870905  8.77416401 12.84908601 14.65759781 16.46643048  8.82823306  9.07537108 18.69966046 18.36436771  7.71462295  9.71046396 31.42390833 19.81136055 19.84692203 29.62718201 13.11939362  8.21433431 11.65129702 23.32294106\n",
      " 12.96494838 25.77005412 24.31116432 26.07338689 10.88784663 10.50449631 31.28891094 15.45496806 31.56482441 21.98645942  5.18306526 52.95627974 24.93734946 12.5144309  12.21401385 24.96632692 22.5220735  16.08787548 22.17769193  9.34972004 13.81356487 25.27684399 22.66127687 31.35832482 24.85244897 20.89395854\n",
      "  8.65686812 10.1626316   7.00507053 10.71928695 13.36942217 20.43949944 11.05693923 21.61825381 16.86590854  7.35174738 18.27184888 13.47850431 26.07221943 11.07221799 38.0247189  33.72558469 19.07703303 26.20447613  8.73061911 30.64120038 34.0511046  14.99136527  8.28047124  8.70907129 16.26854592 26.20636731\n",
      " 20.78382197 22.36414193 22.6175624   4.93261912 15.60235841  8.33579045 24.57847735 20.54477631  4.35179384 33.64340643 17.57219157 13.59259858  9.38892837 24.55499178 19.81178107 37.69373221 16.12722392 12.10726911 18.38697533 13.62006258 32.32244453 31.14221568 58.68770064 11.14575748 18.80781451 22.70954747\n",
      " 13.97242794 24.07747772 37.13593346 45.3789892  37.6160183  28.89249908 14.75885849  9.11036083 11.33212479 15.1202484  24.45232522 14.0708641   9.1759494  21.18418654  8.32000539 57.8973823  17.160009   19.22833941 14.34572853 19.59048995 17.00729105  6.230809   12.98681886 16.29687875 12.71700221 19.4768227\n",
      "  7.04724381 11.94454276 25.55877165 10.99562187 17.41116337 13.22651877 16.08133078 17.09990802 16.36147317 18.05474022 15.96742275 18.24487119 66.17010183 11.98030569 16.02836586 21.16469222 14.22617788 15.36578201 29.25812758  8.22542864  8.58320299 13.19852714 12.31315168  8.25131376 17.19093667 23.00440631\n",
      " 25.83612294 38.97269812 24.04020846 25.22220708 16.54469377 18.35765185 21.94736088 16.9650479  31.36164518  8.76525661 22.41998582 30.26207792 21.48748915 10.50338956 16.01788884 34.57105307 39.63445176 30.13244643 10.1217467  30.25138731 18.55818995 31.86881732 27.27834302 16.61018621 29.2957811  19.01783575\n",
      " 16.84792778 15.58264244 16.21080829 40.21997913 14.88410649  3.32250497 21.74402396  9.45955963 26.6834469  15.22625767 18.7884786  27.58631489 19.84427881 23.95396525 10.65304658 14.48470966 21.55265957 15.35591118 29.96482637  7.03595341 22.58047207  9.97077903 28.87113696 23.69578446 36.9274031  21.60933368\n",
      " 41.03022752 29.33729269 40.95694271 38.5741951  11.50124298 23.94034625 16.25349326 28.09095766 20.0440396  19.00161395 25.90703794 30.73419324 18.87952542 46.12044052 34.77809117 52.5006449  31.69331241 44.73283822 17.69268567 19.28143838 27.06262729 28.59699207 13.82303432 24.40112792 16.49546757 25.42021043\n",
      " 12.27722754  7.21515732 16.20499435 20.71034885  9.30275532  7.75750752 10.93034544 43.67480913 21.7185667  21.52739215 25.55938665 22.39060168 13.58548253 12.97410003 21.70545235 25.88574941 65.84425001 26.10916832  9.60177017 12.41689725 17.97863475 30.72947162 19.0153423   6.74082186  4.35914485 23.43065473\n",
      " 13.63267212 15.32296204 19.03629177 25.55339289 45.52912795 12.99494452 40.208768   23.449032   13.31232791 17.16903415 15.51584419 31.30018554 39.21505653 37.86566708 11.33279177  6.85626556 24.21526764  9.97681724 22.79113806 22.71618788 19.13774174  6.84252644 41.53925068 37.86789194 33.09866357 57.56918452\n",
      " 64.25290092 29.54614991 67.72956171 43.00556539 54.25570401 52.65258213 60.51373228 52.33265183 21.91243915 65.1509053  60.49163436 39.73189352 43.88131703 21.05588598 12.59160965 57.34973859 35.52263673 60.42351745 36.10808788 67.47608266 52.19261954  8.00198764 51.02597994 18.93862143 18.23343159 36.34753915]\n",
      "True False\n",
      "D:\\CaseStudies_CoH_FineAdjustDigitization1\\ReRegisterCoH\\\\registration/48201C0860J.tif\n",
      "[[ 1.00603526e+00 -1.71957746e-03  7.00514358e+04]\n",
      " [ 1.71957746e-03  1.00603526e+00 -2.64856647e+03]\n",
      " [ 0.00000000e+00  0.00000000e+00  1.00000000e+00]]\n",
      "[[ 8.72854352e-01  1.67478485e-03 -1.06258476e+07]\n",
      " [-2.71693817e-03 -8.80164205e-01  3.47200415e+06]\n",
      " [ 0.00000000e+00  0.00000000e+00  1.00000000e+00]]\n",
      "D:\\CaseStudies_CoH_FineAdjustDigitization1\\ReRegisterCoH\\\\focus\\48201C0865J.tif\n",
      "1356 / 4905\n",
      "Enter Matching\n"
     ]
    },
    {
     "data": {
      "application/vnd.jupyter.widget-view+json": {
       "model_id": "203a473c4a604337974c543ffd3e768c",
       "version_major": 2,
       "version_minor": 0
      },
      "text/plain": [
       "Calculating Descriptors:   0%|          | 0/2887 [00:00<?, ?it/s]"
      ]
     },
     "metadata": {},
     "output_type": "display_data"
    },
    {
     "data": {
      "application/vnd.jupyter.widget-view+json": {
       "model_id": "4687d91fe1b14fcba3553d663ef9f3d7",
       "version_major": 2,
       "version_minor": 0
      },
      "text/plain": [
       "Calculating Descriptors:   0%|          | 0/1352 [00:00<?, ?it/s]"
      ]
     },
     "metadata": {},
     "output_type": "display_data"
    },
    {
     "data": {
      "application/vnd.jupyter.widget-view+json": {
       "model_id": "584c2d046fe4401da5c937ee2863d77d",
       "version_major": 2,
       "version_minor": 0
      },
      "text/plain": [
       "Descriptor Matching (Flipped):   0%|          | 0/1352 [00:00<?, ?it/s]"
      ]
     },
     "metadata": {},
     "output_type": "display_data"
    },
    {
     "name": "stdout",
     "output_type": "stream",
     "text": [
      "1090\n",
      "IDX 1089\n",
      "DISTNACE 856\n",
      "DBSCAN 1089\n",
      "INTERSECT 856\n",
      "856\n",
      "[   1    4    5    6    7    8   10   11   12   13   15   16   17   18   19   20   21   22   24   25   26   27   28   29   30   31   33   34   36   37   38   39   40   42   43   45   46   47   48   49   50   51   52   53   54   55   56   57   58   60   61   62   63   64   65   66   67   68   69   70   71   72   73\n",
      "   74   75   76   77   78   79   81   82   84   85   86   87   88   90   91   92   93   94   96   97   99  100  103  104  105  107  108  109  110  111  112  113  114  115  116  117  118  119  120  121  124  125  126  127  128  129  131  134  136  137  139  140  141  142  143  144  145  146  147  149  150  152  154\n",
      "  155  156  157  158  160  161  162  163  164  165  166  167  169  170  171  172  173  174  175  176  177  178  179  180  181  182  183  184  185  186  187  188  189  191  192  193  194  195  196  198  199  200  201  202  203  204  205  206  207  208  209  210  211  212  213  214  215  216  217  218  219  220  221\n",
      "  222  223  224  225  226  228  229  230  232  233  234  236  237  239  240  241  242  243  244  245  246  248  249  250  251  252  253  255  256  257  258  259  260  262  263  264  266  267  268  269  270  271  272  273  274  275  277  278  279  281  282  283  284  285  286  288  289  290  291  292  293  294  295\n",
      "  296  297  298  299  300  301  302  303  305  306  307  308  309  310  311  312  313  314  315  316  317  318  322  323  324  325  326  327  328  329  330  331  332  333  334  335  336  337  339  340  341  342  344  345  346  347  348  349  350  352  353  354  355  356  357  358  359  360  361  362  363  364  365\n",
      "  366  367  368  369  370  371  372  373  374  375  376  377  378  379  380  381  382  383  384  385  386  387  388  389  390  391  392  394  395  396  397  398  399  400  401  402  404  406  407  408  409  410  411  412  413  414  415  416  417  418  419  420  421  422  423  424  425  426  427  428  429  430  431\n",
      "  432  433  434  435  437  438  439  440  441  442  443  444  445  447  448  449  450  451  452  453  454  455  457  459  460  461  462  463  464  465  466  468  469  470  471  472  473  474  475  476  477  478  479  480  481  482  483  484  485  486  487  488  489  490  491  493  494  495  497  498  499  500  501\n",
      "  503  504  505  506  507  508  509  510  511  513  514  515  516  517  518  520  521  523  524  525  526  528  529  530  531  532  533  534  535  536  537  538  539  540  541  542  543  544  546  547  548  549  550  551  552  553  554  555  556  557  558  559  560  561  562  563  566  567  568  571  573  574  575\n",
      "  576  579  580  581  582  583  584  585  586  587  588  589  590  591  592  593  594  595  596  597  598  599  600  601  602  603  605  606  607  608  609  610  611  612  613  614  615  616  617  618  619  620  621  622  623  624  626  627  628  630  631  632  633  634  635  636  637  638  639  640  641  642  644\n",
      "  645  646  647  648  649  650  651  652  653  654  655  656  657  658  659  660  661  662  663  664  665  666  667  668  669  670  671  672  673  675  677  678  679  680  681  682  684  686  687  688  690  691  692  693  695  696  697  698  699  701  702  703  704  705  706  707  708  709  710  711  713  714  716\n",
      "  717  718  719  721  722  723  724  725  727  728  729  730  731  732  733  736  737  739  740  741  743  745  748  749  750  751  752  753  754  755  756  758  759  760  761  762  763  764  765  766  770  771  772  773  774  775  776  777  778  779  780  781  784  786  787  788  789  790  791  792  793  794  796\n",
      "  797  798  799  800  802  804  805  807  808  809  810  811  812  813  815  816  817  818  819  820  821  822  824  825  826  827  828  829  830  831  832  833  834  837  838  839  841  842  844  845  846  847  848  850  851  852  853  855  856  857  858  859  860  861  862  863  864  865  868  869  872  873  874\n",
      "  876  877  879  880  881  882  883  884  885  886  887  888  889  890  891  894  895  896  897  898  899  902  903  906  907  908  909  910  911  912  914  915  916  919  921  922  924  928  934  936  937  939  943  948  949  953  954  957  958  959  960  964  965  966  968  972  974  975  985  989  992  994  996\n",
      "  997  999 1002 1003 1005 1006 1008 1012 1014 1016 1020 1021 1022 1025 1028 1032 1033 1039 1044 1048 1051 1052 1053 1054 1061 1064 1066 1067 1068 1073 1076 1077 1079 1081 1082 1087 1088]\n",
      "[ 0.26828088  6.00592812  9.20975293 13.16533511 33.42075825] 856 856\n",
      "Distances under 100: [ 9.35214808 18.82234398  0.68967413  4.36343418  9.50209156  5.62197085  9.51050776 32.40524616  1.5915769  16.78277743  5.05402166 27.26749375 20.07433323  8.39171281 18.0409591   2.97952214 13.12982331  6.39795464 17.39293861  8.28050082  7.76481895 18.5438084   6.91121587  7.3427321   9.64201028  8.99149885\n",
      "  8.20856743  4.22825872 13.36496246  5.9548434   3.22243105  7.27341615 10.08400033  8.514532    5.83527969 11.80679713 12.61291979  3.74072726 11.3390759   6.65597535 12.9910029   9.01154731  7.52679297  5.47165347  2.73124479  7.19864558  5.88453855  3.64154671  5.28289394 14.97737264  6.67273096 12.67124179\n",
      " 11.47951511 18.24441555  7.34276996 11.34574567 11.03293894  5.99945404  9.16529451  7.5462299   7.14599567  9.70647406 11.01078222  3.58713318 16.55763817  9.88419565  2.69072751 18.86616395 12.31689834 12.31961374 12.46594091  3.95776386  6.00713897  6.3416535  18.4681448   1.12978671  6.60449473  3.03350366\n",
      "  5.73998879  9.25900306  6.61510592 21.12594038 10.62589035 22.69945191  4.84219733  6.8257004   8.56710455 10.15329988  6.71550155  3.76016178  5.82064001  4.6112069  11.34761151  9.3401801  17.20977978 30.74112147  6.04766379  3.05967217  9.68964109  8.06436761 13.69641666  9.25395943  8.35393527  4.22034723\n",
      "  7.45867472  9.30625969 13.93185891  6.76969769  3.88281842 12.04752202  2.72466879 12.15891462  2.16839003  4.28398334 13.06105526 12.53348464  3.85527673  4.49419637  4.12115085 11.4916993   1.74329815 14.57368704  2.13050295 12.12250236 13.41891387 11.41344165  6.20030183  4.74901434  6.36300763 10.54849767\n",
      " 10.3402675  25.14044381  4.8192435  21.75582127 13.15024372 13.47745307  8.84365636 17.6912912  14.08228324 10.22280794  5.22505683  2.39158303 18.44539825 11.75389285 14.13414328 11.23712365 13.52813591  5.03301705 10.54453056  5.55509581 11.4914303  10.55578497  9.03266825  5.60760172  9.44630558 10.76591677\n",
      "  7.56382844  3.6189418   5.86113537  6.17309034  8.67550336 16.24681287 15.97038581  2.2823921   6.21573797  7.82522985 17.53045412  6.63825449 10.35134815 10.43261914 10.63051478  8.04664022  8.23341576  1.5580685  18.99567367 11.56054217 15.69180567 16.78895778  7.5204907  13.17559472 13.54191818  8.85598757\n",
      "  9.15135549 10.02973895 11.24455826 13.54994501  3.54933234 12.46556251  4.67658361  7.1352308  13.84534348  2.66010254  6.78203737  3.87211468  3.81101907  8.44189896 10.80206967 10.42558126  5.78805564 10.50825512  5.61875931  4.91178732 18.01211311 21.66520483  8.43261658  7.48265496 11.42842831  6.82311726\n",
      "  2.90915346  7.19609954  3.52594106  8.79606298 15.43217668  6.13700974  4.34904463  7.7319822   8.90026002 12.90297006 11.83229352  8.86547364 16.0080485   5.4578027   4.89324058  7.86202116  5.68311005 16.38717457  1.76555749  8.27332546 11.95313411  8.45014293 10.17460308  6.17811673  9.0328475   8.04197463\n",
      "  6.00229558  9.46571442  6.66245407  4.82918824 11.17139026 12.71960652 13.62878235 10.48878012  5.14100832  4.11047641  5.33482227  9.36017609 11.93791919 14.09753331  6.72216628 10.11100313  9.43640013  8.00111785 10.50097475  9.41262975  9.33673207  0.86849268  6.48310195  3.71273683 15.18004964  4.7833785\n",
      "  6.55320823 14.80917929 10.21290741 14.63090744  8.22336973 11.17645731  7.20575824  8.98542273 10.22315283  7.34767239  2.73006322 12.45976331  8.21725781  7.01143697  9.10444776 13.85041562  5.56896881  4.63597226 19.28288836 10.20246676  9.56141309 11.59125449  0.49453952  8.69595333 12.14243935  1.83848967\n",
      " 13.04451579  8.38464132  8.40688672 24.55600723 19.71462422 10.47576968  5.98858219 10.17332532  4.09255054 14.87601509  8.46194101  5.07415685  9.82837925 11.23217126  4.34008015  1.82688199  7.78928134 16.19707715 12.91393102 17.1265467  14.71767148  7.19421913  9.80489042  2.45717945 11.1555569  12.33223442\n",
      " 16.89557235 19.70000914  6.25421733 13.55232548 10.97059534  7.69816639  6.31780207 19.00178569 18.50234086  8.86358915 10.89124619  2.87945197  3.98005419 10.56768562  2.71928601 13.83926629  5.98056745 13.95245415  1.67073336  8.15405891  2.85024029  4.98417039 10.70695071 16.65682637  5.2279232  20.33297946\n",
      " 10.71793047  2.53637497  9.82687875 11.44697123  1.52701908  7.90846801 16.89172653  6.52367889 15.07655946 10.05180504 26.04135439 15.68114855 10.68000691  9.7765724   3.79072041 12.27184975  9.83807349  9.33805372  4.60501287  9.74411559 16.16312997 13.55800997 12.62210875  6.69276641 15.82573923  6.94661365\n",
      "  6.45782209 13.84140752  7.17690511 14.67270419 15.34616738  8.49280961 11.34511581 14.94534104 11.01749005 13.71948578 14.33734602 12.94323234  7.08580307 13.16191524 12.5831328  11.31873257 16.1992384   3.93031085 14.63346115  5.83373954  3.96247574 14.89461559  7.64478061 14.88919847 13.50582409 13.83805879\n",
      " 11.20894105 11.15815547 11.08729264  3.81204661 15.74866387 11.70566886  8.72673026  8.32750583 22.0008113  21.57866257  5.66683108  9.3417181   1.32679296 16.23015006 16.99633177 19.09422998  7.98983349 12.26656136  7.81265032  1.50996734  9.58932573  2.502361   11.27312781 23.04119978 14.5084048  11.50125398\n",
      " 12.03599197 21.55592888 14.03544184  1.63566645 17.30930699  2.89190647  2.82806028 12.08748913  6.62318162 13.05745767  4.51942282  2.49188295  5.76436679 18.69863289  8.95908932  5.13581568  7.53435685 10.74379778  3.4747404   6.89532171  6.8019621   3.32478799  9.94207806  8.37692829  4.76755996  0.26828088\n",
      "  7.2094786  14.33234874 16.6058487  12.75990131  7.85478306  8.93803882  3.27995777 21.58412295 20.18538837  8.05761332 16.54415309 19.12984558 15.05204389  7.75213875  6.01749566  8.88952825  3.81493026  5.96208945  3.88913546 18.1573525  14.00907332 10.45336673  7.21959813  5.43706453  7.33987966  3.34719433\n",
      " 10.20636109  9.77921321 11.61146098  2.96375576 19.456756   20.6294187   7.71608416  2.54408491 13.35282521  7.79932696  6.22201339  3.56753661 16.37570634  7.58578887  6.10054881  3.6351743   1.81069462  4.29032069  4.22671447 10.19552765  9.8791222  12.51352556 13.89482379  8.84804314  3.94266917  9.20601199\n",
      "  5.34002836  8.73406397  9.14725692 11.29614364  3.6749984   2.76233105  5.95862128 11.02306769 10.4840448   1.08149592 21.5173192   3.48591619  8.98001464  5.73606902 12.58196437  2.60229424  7.8618511   7.54362531 10.49206537 10.37436989  8.90120324  3.76946568 12.40022179  8.30772716  4.86878937  6.61988213\n",
      " 10.99812032  5.00226459 10.11614421  5.65813997  9.10009382 17.12337634  1.94772978 20.04618374 12.45689612  4.03445009  0.73379082  9.08129464  7.65061796  1.80642081  5.53316194 12.90305972  8.62068462 14.46355232 14.84977848  9.0608865   8.44423571  7.44160363  3.02979883  4.92492479 11.60050512 15.09328578\n",
      "  8.22760941  6.48957171  7.59471702  8.15763907  3.90153866  7.17469548 22.53675689 27.61344753 10.50598872  8.75988679 16.57981553 16.12207469 22.53602485 12.98558657  3.84120042 12.31635859  3.38191969  7.5942137   6.42930429 22.89697104 13.75357442  5.07704747  2.14049724  2.26022388  8.4970842   8.82213541\n",
      "  9.17888389 11.64726614 16.84504102  9.21349388  8.89910402  8.62025755  8.20966818  4.53963943  5.49479303  8.45365107 15.70427149  8.21160562  2.50586436 20.60358297 17.24752938  8.96022618 18.80983073 10.27369464  8.37843777  4.43737369  9.52314466  3.87751327 25.96848573 14.0080003   6.07900093  7.74699451\n",
      "  1.7620586  26.98952481  8.41428217  4.55660789  4.27889771  7.40047256 16.00040444 12.44303722  8.40581016 25.87945886 26.77525028  6.34500024  4.59408857  8.8647942   7.30477116 11.69787257  8.80982546 11.1391883   4.20276352 11.69920049  6.65261706 12.21763474 11.71522677  8.926016    5.52868464  5.63387944\n",
      " 17.206073    6.38926549 18.31937119 12.7566781   5.19550243 15.83351858  7.63938528 12.4006285  11.65770484 17.93037606  4.25758202 17.85309492 15.32883012 18.73570395  9.95146989  6.07326608  6.37041329  1.37289399  9.0709626   1.61918942 13.66533782  6.62381753 13.00882368  8.34636247  7.5670507   7.16665836\n",
      "  8.31060227 15.08333342 13.27685814 14.90140855 10.07523169 11.7916076  19.4924024  11.33102356  5.49877648  6.38118898 13.30805819  4.81102682 11.9267109   9.84478973  8.64864464  4.10172968  1.58816096  5.3336552  13.32452827  6.9800827   9.32322188 15.07671877 10.75501669  6.15715976  2.46698288  4.44004601\n",
      " 11.99628447 13.84491521  9.86001193 11.81853014  4.93926419 10.5826214  20.41733217  6.85484801  3.54383907 13.96275859 15.50572135  9.95535982  7.6210309  13.26489684 10.17335892  9.50698715  7.69101196 16.26779516 13.63631816  8.46653485 22.43015765  5.59490576  6.67192304 14.36278361 11.38049152 15.23757589\n",
      " 16.8200938   5.81027516  9.95789744  4.51107448  1.80815598  6.76872808 13.08217777  7.00900369 17.07115078 16.06312725  9.4381689   5.83400925  4.4584011   6.09316923 17.68348732 14.96533313 14.82146158 11.83033719  6.23936796 15.01670096  9.78524796  5.10708821 18.57622878 13.71702342 11.50726441  3.88968584\n",
      " 11.30001033  2.18127448  8.41608832 16.40418856 12.81519702  4.78001128  2.159761    5.74795061 12.51742225 12.00552536  9.06790698  5.06688544 17.83988162  8.49748658  7.28265275  1.89068659  3.69321359  4.87095333  6.73970879 13.27219102  9.21718665  7.3728463  11.6782298   7.43621557  7.91453051 22.78719676\n",
      " 15.60844182 10.33868651 11.7369929  20.13007077  8.45743148 16.84141169 19.60728655 14.08984992  3.23357017  3.20626767 13.85631709 11.77382025 11.12787362 13.80751252 10.30146308  9.30078989 11.1507795  10.18367282  3.47451969 11.41333302  7.14280105 21.52694375  1.50311256 13.9632314   9.35034949  5.01257004\n",
      " 14.87093178 26.56647932  8.42415125  3.56768279 29.738773    2.92523601  6.6842002   8.52219377  5.71775605  6.13820865  5.49482517  8.78099516 19.6423925   8.9588216   3.58752224  7.35363825 11.29372348  7.82833774  7.60525092 10.22344119 28.30472093 15.8234729   2.3175774  25.274214    7.93637157 12.80289448\n",
      "  6.27680712 10.7465928  15.73703657 22.13582784  7.67816751 33.42075825 15.27090845 27.53130842  2.89372117 12.58205411 23.01226859  8.7955494  18.60390166 23.37830839  9.58586242  9.31279754 27.7707266  10.38946347 11.45014004  9.81541701  1.46314925 12.67317223  3.68305651 12.86577892 31.09644074 28.89304145\n",
      " 10.7323199  15.45508389 26.30330489  8.82836757 27.82829121 18.73222706 18.64399146 16.15302096  4.10614619 29.07333407  0.43823874  3.34570979 21.78812366 21.66605018 16.57718075  8.1015722  23.90606091  2.30688595  5.48515716 27.50845567  9.87867804  2.4609781  20.05049042  9.56123202]\n",
      "Enter Matching\n"
     ]
    },
    {
     "data": {
      "application/vnd.jupyter.widget-view+json": {
       "model_id": "4a0240cfca2843188341fe8985478c75",
       "version_major": 2,
       "version_minor": 0
      },
      "text/plain": [
       "Descriptor Matching (Flipped):   0%|          | 0/1352 [00:00<?, ?it/s]"
      ]
     },
     "metadata": {},
     "output_type": "display_data"
    },
    {
     "name": "stdout",
     "output_type": "stream",
     "text": [
      "Results Update: 856 1103 925\n",
      "925\n",
      "IDX 924\n",
      "DISTNACE 801\n",
      "DBSCAN 924\n",
      "INTERSECT 801\n",
      "802\n",
      "[  0   1   4   5   6   8   9  10  11  12  13  14  15  16  17  18  19  20  21  22  23  24  25  26  27  28  29  30  31  32  33  34  35  36  37  38  39  40  41  42  43  45  46  47  48  49  50  52  53  54  55  56  57  58  59  60  61  62  63  64  65  66  67  68  69  70  71  72  73  74  76  77  78  79  81  82  83  84  85\n",
      "  86  87  88  89  90  91  92  94  95  96  97  98  99 100 101 102 103 104 105 106 107 108 109 110 111 112 113 114 115 116 117 118 119 120 121 122 123 124 125 126 127 128 129 130 131 132 133 134 136 137 138 139 140 141 142 143 144 145 146 147 148 149 150 151 152 153 154 155 156 157 158 159 160 161 162 164 165 166 167\n",
      " 168 169 170 171 172 174 175 176 177 178 179 180 181 182 183 184 185 186 187 188 189 190 191 192 193 194 195 196 197 198 199 200 201 202 203 204 205 206 207 208 209 211 212 213 214 215 216 217 218 219 220 221 222 223 224 225 226 227 228 229 230 231 232 233 234 235 236 237 238 240 241 242 243 244 245 246 247 248 249\n",
      " 250 251 252 253 254 255 256 257 258 259 260 261 262 263 264 265 266 267 268 269 270 271 272 273 274 275 276 277 278 279 280 281 282 283 284 285 286 287 289 291 292 293 294 295 296 297 298 299 300 301 302 303 304 305 306 307 308 309 310 311 312 313 314 315 317 318 319 320 322 323 324 326 327 328 329 330 331 332 333\n",
      " 334 335 336 337 338 339 340 341 342 343 344 345 346 347 348 349 350 351 352 353 354 356 357 358 359 360 361 362 363 364 365 366 367 368 369 370 371 372 373 374 375 376 377 378 379 380 381 382 383 384 385 386 387 388 389 391 392 393 394 395 396 397 398 400 401 402 403 404 405 406 407 408 409 410 411 412 413 414 415\n",
      " 416 417 418 419 420 421 422 423 424 425 426 427 428 429 430 432 433 434 435 436 438 439 440 441 442 443 444 445 446 447 448 449 450 451 452 453 454 455 457 458 459 460 461 462 463 464 465 466 467 468 469 470 471 472 473 474 475 476 477 478 479 480 481 482 483 484 485 486 487 488 489 490 491 492 493 494 495 496 497\n",
      " 498 499 500 501 502 503 504 505 506 507 508 509 510 511 513 514 515 516 517 518 519 520 521 522 523 524 525 526 527 529 530 531 532 533 534 535 536 537 538 539 540 541 542 543 544 545 546 547 548 549 550 551 552 553 554 555 556 557 558 559 560 561 562 563 564 565 566 567 568 569 570 571 572 573 574 575 576 577 578\n",
      " 579 580 581 582 583 584 586 587 588 589 590 591 592 593 594 595 596 597 598 599 600 601 602 603 604 605 606 607 608 609 610 611 612 613 614 615 617 618 619 620 621 622 623 624 625 626 627 628 629 630 631 632 634 635 636 637 638 639 640 641 642 643 644 645 646 648 649 650 651 652 653 654 655 656 657 658 659 660 661\n",
      " 662 663 664 665 666 667 668 669 670 671 672 673 674 675 676 677 678 679 680 681 682 683 684 685 686 687 688 689 690 691 692 693 694 695 696 697 698 699 700 701 702 703 704 705 706 707 708 709 710 711 712 713 715 716 717 718 719 720 721 722 723 724 725 726 727 728 729 730 731 732 733 734 735 736 737 739 740 741 743\n",
      " 744 745 746 747 748 749 750 751 752 753 754 755 756 757 758 759 761 762 763 764 765 766 767 768 769 770 771 772 773 774 776 777 778 779 780 781 782 784 785 786 787 788 789 790 791 792 793 794 795 796 797 798 799 800 801 802 803 804 805 806 807 808 809 811 812 814 815 816 817 818 820 822 823 824 825 826 827 828 829\n",
      " 830 831 832 833 834 835 838 845 852 859 878 887]\n",
      "[ 0.30638185  6.75476952 10.19961106 14.32872769 33.66871924] 802 802\n",
      "Distances under 100: [10.01171051 17.94321136  9.94159967  7.47182588 11.89107337  0.84177103 14.48705672  3.5664892  24.15480253 17.76221411  9.932268   19.52985127  3.29222072 14.43508066  5.93196007 19.81332668 10.25898244 10.30593332 21.85799048  6.62482816  8.89832214 19.38829325  8.93078571  7.94149168  5.2503256  15.18088893\n",
      "  6.01042279  1.95987174  9.46979596 12.55849789 10.82212085  5.05934258 11.98810391 13.74668704  3.57472391 14.58400078  8.43354559 13.97880448 11.06820376  9.84258212  6.26650131  8.77318036  6.31322996  4.29806958  7.29741305 16.13888182  9.42709436 14.65592093 20.52768076  8.98239425 11.72834514 11.99025988\n",
      " 12.23578743 11.24059458  9.59903694  8.61928645  8.73164976 17.30837889  4.67210987 19.77532633 10.52614048  5.29446208 15.86437424 11.62707429 10.69357555 12.41230059  5.67430348  7.93442168  5.48923581 19.43210885  8.18063988  2.84231142  7.26720867 11.84015302 24.4642809  11.28687339 24.08069882  6.58939483\n",
      "  7.47396243 10.73450203  8.96322166 10.83491497  7.55244294  4.40887216  5.97436841 13.73900654 19.9283138  32.23592953  5.50283491  1.67082389 11.42967283  6.22219637 14.01678475  7.4817651   6.6484302   5.75331247  5.93629835 11.61058833 13.00096514  8.56766647  5.63997042 15.38587295  4.8043302  12.12168702\n",
      "  2.24186257  4.04776548 10.65629369 15.12938531  3.54633968  2.86610985  2.67911587 10.77882778  3.34875727 16.68569857  1.89270258 10.96528248 11.70848912 10.53567639  7.06672962  5.25100038  7.91476545  9.10705408 11.28674134 23.47033361  6.36124169 24.93580981 13.42425615 10.97955369 19.28953194 14.52804751\n",
      " 11.16970754  4.00017527  2.18879798 20.58842868 14.33935884 12.86843998 11.04290661 16.91671646  7.17964296 12.84933515  3.24524752 14.04794408  9.87240672 12.36918179  8.32075982 10.08772881  8.7406798   6.1138505   5.03766751  5.00707169  6.94937362  8.66464099 19.26368505 19.35779528  5.75140706  9.29075653\n",
      " 14.92184822  7.69229026  9.66650903 31.34749084 13.78421821 11.7209183   9.58661413 22.18702142 10.11670972 18.91042302 15.47046558 28.38578449 14.24006016 10.88344615  7.59667479  6.68622164 13.2301272   9.47920506 15.36723973  5.45977273 13.37074977  6.9108385   9.35958209 13.38872588  4.02621809 10.34489353\n",
      "  5.62372086  5.68820554  9.39968652 10.00528282 12.37036138  7.36303774 12.2348039   7.73004383  6.14600891 18.88907587 11.22899027  7.64418424 14.09130403  8.51090521  6.58081612  7.43062697  2.93997345 17.53570271  3.67808473  4.97366281  9.99744733  9.23426263 14.7164034  24.95464304  7.73480205 14.10535186\n",
      "  4.74525408  6.71720484  9.33548428  2.9012238  19.18703696  3.56341604  8.06052619 13.91211745 11.28584328 11.95067661  6.43533936  8.80328508 10.47403449  6.1588199  10.96362555  9.01771923  7.1192191   9.13405272 10.53081174 17.70752029  7.61858957  7.38223808  4.41798627 12.59133174 10.08759804 14.08227731\n",
      "  8.62202537  8.28992984  7.85017273  9.10421046 28.696012   11.16395665  8.61319129  2.77539797  9.04233388  5.71844783 13.60467176  5.20454928  9.37253774 17.49816505  8.09125854 13.90830259  9.69820764 13.72618242  8.11619478 11.09532694 22.53332423  6.19544974  4.21092016 15.36564272  7.64372529  7.09374593\n",
      " 11.45005886 15.70099985  5.28318548  6.92793219 17.20320711 12.07200363 10.19823186 13.76437333  2.50945877 10.75450008 12.60618935  1.6474709  13.11388101  7.33929151  9.52073124 22.15366965  2.84063222  8.60015048  6.41225502 16.85059849  7.60624049  1.04368913 13.66891762 13.95488022  6.56584454  4.27359451\n",
      "  7.33944605 15.46734041 10.71358832 20.15030474 17.6688397   7.77666538 12.1168915   4.34515765 13.88970005 12.22982497 14.81724067 20.92827568  8.20506869 16.18767539  9.63817101  6.75367141 18.80247078 16.5709641   7.15804041  5.06671369  4.06473731 12.88091818  9.71047391  4.06518094 15.294599    1.02346601\n",
      "  6.37351313  5.06442264  5.70830137 14.16022468 18.51057251  2.71294318 20.57390146  8.70861045  3.50830827  9.373025    9.50366389  2.68210853 33.66871924 19.07296812  4.77064777 14.95736161 10.20099026 28.0764352  16.22384432  8.82475842 11.31932178  5.06337775 12.45096043 27.70044581  7.9887358  11.26685255\n",
      " 18.00550823 12.66659504 14.88021877  9.06728328 18.40172306  6.77138488  4.41183855 15.41678699  8.64172065 15.26849816 13.92463129 10.46869288 13.40141225 18.04634468 12.65788803 16.80795819 13.85991858 11.90833965  7.89128787 10.80322161 11.09038774  9.70566749 16.44814518  5.07225573 17.52742445  4.88030521\n",
      " 21.67358072 18.27369703  7.39939931 12.84681413 14.60571486 11.86407473 11.07902077 11.78260251  2.11244266 18.24190978 12.92466557  6.09404745  6.18700245 21.5463879  24.11688685  7.3579962   2.85941994 18.66442607 20.10055994 21.72333349  7.41020761 22.91141731  8.88078929 20.3728831   9.97230719  4.10904914\n",
      " 12.47563338 32.49529296 15.47708022  9.64735568 14.97517351 19.69036846 12.77216173  3.70176683 19.41218273  4.61135581  4.94064546 11.61467712 10.28654629 12.24530185  8.61450089  1.14255847  4.83668724 21.89237752  7.32957775  4.29960426 11.40491569  4.59392379  8.93237315  9.34552637  1.67736453 12.14132815\n",
      "  3.9089889   1.97110841  7.54181324 13.64844883 18.79576913 10.40697693 10.48076468 12.0442277  28.4111934  20.16591009 17.17224186  8.55351316 15.00446758 22.04636851 10.91021711 10.68989445  3.55466159  4.66030119  7.5493481   7.75094422 21.59197226 14.95495721  9.37064293  7.13369937  4.30058098  9.20759494\n",
      "  3.79367681  7.85678356 11.27800269  9.69773177  1.2605297  22.50316303 21.95714931  5.43660656  4.013948   16.02965376 11.92994144  5.59977582  3.72392609 19.07050574 11.71902202  8.85625672 28.90429523  5.60959488  6.10508597  4.89699698 12.56610106 11.88715727 11.13978244 16.20707196  8.18833788  6.13292293\n",
      " 12.88582172  4.62857212 10.59083757  9.66821839 14.09077322  1.40206018  4.71053398  4.43841834 12.88995591  7.95716882  4.11771191 18.42203298  2.74267272  7.62309523  6.17924039 12.99245626  6.75806384  5.29566382  7.47021203 11.44848828 10.11049414  2.25073554 10.89080281  7.73557225  8.77859108  9.77472138\n",
      " 13.21992576  7.01606946 12.09135235 18.43886586  8.65670696 14.65465975  4.6661872  22.09454869 10.30675911  2.37115706  7.5145651   5.08364971  3.87484058  3.12611492 16.01310203 10.06802433 13.66470504 18.04908936 12.69168566  5.59669991  7.2781534   6.72064726  4.41082209 14.11847314 13.75909681 11.51196479\n",
      "  5.82563182 10.58501338  5.41395787  1.80736995 11.03555419 19.90200615 25.94761041 24.01681198  9.59749876 18.8549024  26.40777756 24.64997918 15.38846084  5.14701924 11.00577335  6.05934285  5.93981268  4.39709269 20.36005273 10.65460907  7.14387142  4.39623525  4.17027926 11.16592515  9.18698236  6.02809352\n",
      " 14.93589351 17.88952363  9.81820946  9.29864556 11.11957145 11.13069359  3.09879443  4.26614445 10.27284622 17.08306697 11.38521882  6.4196903  23.81466091 10.04461054 19.38331516  9.2987519   7.07900109  7.90979121  7.95229368  6.30687608 22.90917718 17.03745523 29.22508911 10.14957218  5.81188542  6.35635708\n",
      "  7.60602131  7.94223247  7.8524237  13.98165088  9.58993943 11.01288424 26.84501791 24.30141583  8.25006474  7.26174828  6.55636774  6.80729212  9.13665885 11.78790666 13.94458208  6.28320781 12.27782926 11.68875655  9.02446691 11.81685035  6.35241712  5.50201452 20.6467663   8.48380322 18.41403192 12.41007778\n",
      "  3.67286702 19.05832685  8.94703624 14.16662072  9.54804397 14.60489608  5.5660622  12.12840124 21.98957618  8.16565912  9.80773626 10.03508972  1.02856106 10.97487776  5.73873984 14.28381842  8.68444399 12.46718894 10.6624982   8.81698461  9.50280111 16.74824091 12.66294542 16.84663837  8.36321528 15.09972887\n",
      " 18.02141    14.07592621  7.87090589  8.44886633 16.3526481   6.16360971 22.49906207 11.50319386 12.52144904  7.50444421  1.43940871  3.22612306 16.21472324  4.27387006  9.45615953 18.21506291  9.07827951 31.24347859  5.97381132  7.70020814 15.17137423 16.82364203  7.90439575 13.83318793  7.14611857 13.20892269\n",
      " 22.82092938  9.27185802  6.64035727 16.22960479 17.15908706 11.52615234  5.25597689 17.06036604 14.12768671  9.99607706  5.0421944  19.16101983 16.57676943 11.55981501 25.64566167  3.17683449  5.94832312 16.7365275  11.30469769 13.1452358  19.92582264 19.4831091  12.24759058  4.40829571  2.83916818  6.04404099\n",
      " 16.33552639  9.05182726 14.29683424 11.81706246  7.10392308 21.7037779   8.24614706  9.72024166 17.55507093 13.31107495  7.69292814  3.72668472 17.92754458 13.3567179   5.06897367 21.61786072 11.77399068 14.39405423  5.23440879  9.2655283   3.57909433 12.09675385 20.74192972 10.54368192  8.73948899  4.08057412\n",
      "  5.50889162 16.30757226 11.70810032 12.22744658  9.11295995  7.8897262   5.26133339  3.32264116 25.26319464  8.03317627 10.5456864  12.29261723 10.41369206 14.84424932 29.22935308  9.34815991 24.03229551 16.78492267  8.89568475  9.1024297  22.16070294 11.86853208 19.97331875 19.96747611 15.28533485  6.36414177\n",
      " 16.74496645 11.61902975 10.42277153 11.74729567 10.85360935 11.67403304 13.77529346 12.28142654  6.52089753 12.9836983   7.31910783 20.86107087  2.52900466  8.94993653  6.07700434 13.55324932  9.80025379  4.87529102 31.47877288  0.30638185  8.50988834  3.45904717  5.19531889  4.59245419  9.21554704  6.10503957\n",
      " 11.88687976  5.81089424 13.58588278 10.20187139 10.51491532 11.78775809  4.8401947  26.24003085 10.19275148 15.60381671  8.97777411 12.82473321 23.4050266   9.24780613  5.94100401 32.98716882 12.04566936 25.37620255  4.06441589 14.67875522 16.54674594  7.67852739 25.84841105 10.50338092  7.64532203  2.04003549\n",
      " 10.74888552 23.99155755 17.69635948  8.8309896  25.64923898  7.18711197  2.30013882  4.63242088 24.26534233 15.1127658   8.25339869  5.8348125  29.21832622  9.20115758  2.45678067 10.56516542 19.54339126 31.39404247 20.96864911 15.59067912 28.8901298   9.26922286]\n",
      "Enter Matching\n"
     ]
    },
    {
     "data": {
      "application/vnd.jupyter.widget-view+json": {
       "model_id": "b09d4e5cc5584f9c837d09fbf672ec2c",
       "version_major": 2,
       "version_minor": 0
      },
      "text/plain": [
       "Descriptor Matching (Flipped):   0%|          | 0/1352 [00:00<?, ?it/s]"
      ]
     },
     "metadata": {},
     "output_type": "display_data"
    },
    {
     "name": "stdout",
     "output_type": "stream",
     "text": [
      "Results Update: 802 1103 925\n",
      "925\n",
      "IDX 924\n",
      "DISTNACE 777\n",
      "DBSCAN 924\n",
      "INTERSECT 777\n",
      "778\n",
      "[  0   1   2   3   4   5   6   7   8   9  10  11  13  14  15  16  17  18  19  20  21  22  23  24  25  26  27  28  29  30  31  32  33  34  36  37  38  39  40  41  42  43  44  45  46  47  48  49  50  51  52  53  54  55  56  57  58  59  60  61  62  63  64  65  66  68  69  70  71  72  73  74  75  76  77  78  79  80  81\n",
      "  82  83  84  85  86  87  88  89  90  91  92  93  94  95  96  97  98  99 100 101 102 103 104 105 106 107 108 109 110 111 112 113 114 115 116 117 118 119 120 121 122 123 124 125 126 127 128 129 130 131 132 133 135 136 137 138 140 141 142 144 146 147 148 149 150 151 152 153 154 155 156 157 158 159 160 161 162 163 164\n",
      " 165 166 167 168 169 170 171 172 173 174 175 176 177 179 180 181 182 183 184 185 186 188 189 190 191 192 194 195 196 197 198 199 200 202 203 204 205 206 207 208 209 210 211 212 213 214 215 216 217 218 219 220 221 222 223 224 225 226 227 228 229 231 232 233 234 235 236 237 238 239 240 241 242 243 244 246 247 248 249\n",
      " 250 251 252 253 254 255 256 257 258 259 260 261 262 263 264 265 266 267 268 269 270 271 272 273 274 275 276 277 278 279 280 281 282 283 286 287 288 289 290 291 292 293 294 295 296 297 298 299 300 302 303 304 305 306 307 308 309 310 311 312 313 314 315 316 317 318 319 320 321 322 323 324 325 326 327 328 329 330 331\n",
      " 332 333 334 335 336 337 338 339 340 342 343 344 345 346 347 348 349 350 351 352 353 354 355 356 357 358 360 361 362 363 364 365 366 367 368 369 370 371 373 374 375 376 379 380 381 382 383 384 385 386 387 388 389 390 391 392 393 394 395 396 397 398 399 400 401 402 403 404 405 406 407 408 409 411 412 413 414 415 416\n",
      " 417 418 419 420 421 422 424 425 426 427 428 429 431 432 433 434 435 436 437 438 439 440 441 442 443 444 445 446 448 449 450 451 452 454 455 456 457 458 459 460 461 462 463 464 465 466 467 468 469 470 471 472 473 474 475 476 477 478 479 480 481 482 483 484 485 486 487 488 489 490 491 492 493 494 495 496 497 498 499\n",
      " 500 501 502 503 504 505 506 507 508 509 510 511 512 513 514 515 516 517 518 519 520 521 522 523 524 525 526 527 528 529 530 531 532 533 534 535 536 537 538 539 540 541 542 543 544 545 546 547 548 549 550 551 552 553 554 555 556 557 559 560 561 562 563 564 565 566 567 568 569 570 571 572 573 574 575 576 577 578 579\n",
      " 580 581 582 583 584 585 586 587 588 589 590 591 592 593 594 595 596 597 598 599 600 601 602 603 604 605 606 607 608 609 610 611 612 613 614 615 616 617 618 619 620 621 622 623 624 625 626 627 628 629 630 631 632 633 634 635 636 637 638 639 640 641 642 643 644 645 646 647 648 649 650 651 652 653 654 655 656 657 658\n",
      " 659 660 662 663 664 665 666 667 668 669 670 671 672 673 674 675 676 677 678 679 680 681 682 683 684 685 686 687 688 689 690 691 692 693 694 695 696 697 698 699 700 701 702 703 704 705 706 707 708 709 710 711 712 713 714 715 717 718 719 720 721 722 723 724 725 726 727 728 729 730 731 732 733 735 736 737 738 739 740\n",
      " 741 742 743 744 745 746 747 748 749 750 751 752 753 754 755 756 757 758 759 760 761 763 764 765 766 767 768 769 770 771 772 773 774 775 776 777 780 781 783 784 785 786 787 788 789 790 791 792 793 794 795 796 797 798 799 800 801 805 806 818 821 828 838 850 853 864 871]\n",
      "[ 2.26434145 11.91468186 16.78527422 22.31858084 52.88679785] 778 778\n",
      "Distances under 100: [20.40706269 27.96094473 21.17977432 18.35507007 20.00285351  9.54179278 32.62361723 13.85764966 21.01928465 14.56469139 14.33621327 29.33957602 21.96288891 17.32464602 25.795579   14.36864813 12.53615488 34.50452411  6.08089363 19.86891017 13.79380574 18.12042802 17.242044    7.62114845 27.47087743 16.85179205\n",
      " 10.16427342 19.14560826 16.01599288 20.04720979 35.99320683 20.36305485 23.13329798  8.54915395 14.95811743 25.14411729 18.48141835 20.16034322  8.03023429 18.47967026 13.38073459 14.32063344 15.11875679 25.28337344 16.85860873 27.86260949 29.06422462 13.86279271 19.02973931 18.54396285 10.03240498 15.75095162\n",
      " 10.72955494 14.36559345  8.62147163 18.05634434  4.88740927 33.82574198 16.49654993 12.73089587 15.43868049 22.2322175  16.32426831 19.2359486  11.86601676  6.06629911 26.81591755 11.60218445 14.87802502  9.72757865 21.05042876 33.35481928 20.7909689  35.60185672 11.21173587 13.87163417 22.02493351 15.08684269\n",
      " 21.83816998 18.87987404  9.18761157  8.61678686 21.34120875 27.01715473 38.39262888 12.99898366 11.81004712 23.46223389 12.55974121 25.97135608 11.42438781  7.54867843 11.48350617 12.96716014 23.57671536 15.95458302  9.00083332 10.61921565 29.21518158  9.44338588 15.72262756  9.35614306 14.30262558 10.88290258\n",
      " 25.30044714 14.16032947 11.44106481 12.33649463 14.49433365  6.82551895 25.34930183 11.12562824 17.24781779 17.63163034  8.12727706 19.38527729 18.22826185 12.79033857 15.28519297 19.89834383 26.7361424  17.60724122 35.91069348 20.2751788  13.79070948 25.24435879 24.16825932 21.4876657   8.19255879 12.8050397\n",
      " 24.85104321 21.98965811 13.83935938 30.4665808  11.87605265  4.12336118 21.16112213 16.41329258  8.23207814 10.96040318 13.29730029  8.20389948  4.66895218 12.45090383 17.84926059 33.33636739 33.40858265  8.28064975 22.39315836 12.15983554 13.75011391 14.41061543 26.60361147 24.30261213 21.49817089 16.32170711\n",
      " 33.91367327 12.83434643 32.29730235 22.59671214 21.38125898 18.06109434 11.1001647   9.2127556   8.5670179  18.70686695 16.10793619 25.14516164  8.86691858  7.32117317 15.06368887 22.38997755  2.51405573 16.37212911  5.01249753 15.2799985  11.11527122 16.72754017 12.59727519  8.91099101 14.09626766 11.56152295\n",
      " 23.78661154 22.5626116  20.88742175 16.54776498 13.45084211 19.47794487  7.78769862 26.69671853  5.59247044 13.24694808 17.84939299 12.11536707 18.4010507  18.34606922 14.69459509 12.95544859 17.2333297  14.90123929 11.12308712 27.63736553  9.68011368 18.8926846  13.69710512 19.56324899 22.63452319 15.41850952\n",
      " 17.78702219 16.49077681 17.05858606 18.20152089 15.0469819  14.58354764 12.92532206 39.78074441 16.47480917 11.10562585 14.6469434  23.15399401 16.34658455 26.02509173 12.78963562 10.92356391 14.22874243 19.66894274 20.54565882  8.91159631 11.94743958 11.51181746 18.37133042  9.54059294 18.39444717 19.07368895\n",
      " 23.38648138  9.34461433 20.64495688 51.12061305 22.75419458 16.34217028 17.71884118 17.08868326 10.69102783  7.98250789 22.66450326 10.28716604 18.4666895  18.46817196 24.47448314 14.40968792 17.97419031 18.38875473 14.71788281 19.50907246 21.50377014  3.86294267 19.81929156 18.21976604 13.83435919 24.12026147\n",
      " 13.88486595 15.28736158 14.58449639  8.77100323 14.93804421 14.58962108 22.8757094  18.28600744  9.38639403 24.58544973 26.28893033 15.60623691 26.48620712 12.63792322 32.42054984 25.45859138 18.2516887  21.51026494  7.86146846 21.19932265 22.4756709  18.39976504 30.28649571 16.76575317 22.34736861 16.80735753\n",
      " 21.68486048 19.34310343 17.08278684 16.37266302 10.20664678 16.51584987  7.0734602   9.54033022 26.31061323  8.24744598  7.2294048  11.37057269 10.88260354 20.77571918 29.76621438  4.85025484 27.81536316  9.78859349 12.29933169 19.43250847 14.39819646  9.68337376 25.2135104  29.2312816   7.12994175 20.54114507\n",
      " 17.35257194 30.15251428 25.96459686 14.48352729 16.4747557   4.56614174 42.58894449 52.88679785 17.59971589 12.63169429 27.6190286  22.67141774 20.61260679 24.74988395 19.330972    9.5168933  23.07713905 16.34840385 19.04413538 21.12236208 14.98460486 18.46819493 29.86223431 22.89238232 23.5826851  24.64967684\n",
      " 15.65263513 12.96638486 12.50619611 12.74640701 22.87413569  9.39973114 26.00550299 16.37599899 17.99117125 29.64497404 17.89986368 15.51737781  9.95824889 16.72746168 52.00208836 13.80819094 28.04065459 22.79934338  8.91575428  8.50578089 12.44315997 13.73927019 33.51190191 29.74502852 29.68533128  6.53203503\n",
      " 15.3181669  13.01531728 13.00917957 19.53413439  4.0337484  19.95368472 20.69936895 11.11379882 10.8599508  23.41030682 25.59993745 17.75499681  7.50265319 20.44315964  4.85083064  3.69893166 36.7314351  20.41640862 16.85818022 19.18485305  5.24768246  5.17265053 34.80941022 12.98656432  8.50250189  6.87897\n",
      " 16.60689878 16.94223414  3.81353876 20.92676803 15.9005097   7.46358388 12.45988667 22.16490105 27.96819035 13.29078732 25.31632177 22.61052742 22.87902457 14.6625842  15.04221889 21.96891652 32.40852622 20.04348513  9.1133856   4.94051633 10.68828777 16.30527893 32.55109621 25.35095447 16.38265536 13.34207132\n",
      "  5.29615337 13.572684    7.51374525  9.10611018 15.92761016 13.94452773 11.49609549 29.01909396  8.367346    3.85012088 27.46963269 23.74202179  8.32857413 25.01198582 22.51228734 17.92821322 23.3972275  12.377093   12.80987877  8.19257443 19.62702638 11.23023389 17.9179389  25.56772511 16.93207483 16.01533332\n",
      " 22.74593571  8.59527191 19.85996979 16.84743954 25.50026575  7.0361483   6.88109287  4.38708733 20.97903671  7.11811401 14.19677574 15.68180754  8.07081289 14.57143965 11.94038777 17.37090157 17.27434998  6.42686783 18.34540945 21.0617468  11.3253297  10.87782186 52.47098683 10.20853927 18.92618623 23.75607964\n",
      " 20.90491524 15.8378839  13.15744294 17.01260116 17.24811353 16.84126066  4.87418707 32.19013464 14.12492471  2.26434145 11.19850875  3.23108892  4.63984265  5.50219617 29.01317963 18.04809978 18.19415628 29.24597787 20.48938345  3.31849003  5.53646763 18.10002429  7.99541744 22.1813079  16.22143513 21.251588\n",
      "  9.26821871 16.400493    6.39149304  4.83076338 21.45306172 20.00097111 28.2263298  50.92839595  7.05775035 25.17249664 16.72944305 31.20283503 28.33472029 11.9107934  16.02984682 14.70554611  6.29984636  5.07535658 44.3927955   9.51634357 13.283706    3.12414575 11.56593878 20.71268949 17.80113425  4.54944564\n",
      " 26.09244004 18.01097579 14.08562664 15.55475958 19.26111984 19.79674441 12.51318272 15.14787201 15.96126754 23.60695956 19.29583449 15.44003135 13.06039522 21.66965839 21.11877199  3.13988982 16.9550949  13.83707286 16.1790702  21.53990799 28.15180278 22.70133777 21.63046871 15.89262381  3.88353528 16.72463191\n",
      " 16.10147238 10.76484898 18.15085288  7.18376234 24.29702716 28.35045725 24.14890782  8.01919692 17.76227276  8.39299065 11.92634723 11.11360259 23.16514365 26.87081071  7.42826145 16.80479526 16.83372979  8.51016349 18.96817719  8.09919308 10.99518482 30.89867203 15.68170921 24.53644451 18.8928718   3.81789628\n",
      " 28.88811006 17.88246124 23.23232779 14.03477753 14.84657762  9.39283072 10.18931578 33.88105791  5.37747572 18.46848238 18.25612874  3.84902991 16.98404451 16.43754396 24.96996554 16.88093181 13.86064854 13.05138826 19.06809995 18.23446162 26.86723925 17.88740428 27.78145154  5.91295014 27.00769018 12.77190158\n",
      " 14.54018156  7.11031871 18.1964696  24.34156746 14.19835312 23.78241942 25.403552   22.7791617  13.61085589 13.2730718   8.92313843 29.71276661  7.69527789 13.93442902 28.58027511 10.01205956 23.73643242 12.01766552 19.42439052 24.99351997 23.29856638  8.57553632 16.66619578 18.74978486 20.94843436 32.2672561\n",
      " 18.72368229 17.46212859 28.42447755 28.60348793 20.64177874  6.88696348 24.66796734 24.28360418  4.95942774  6.07334025 28.63212439 19.35433035 36.83148011  7.59233178  7.53777002 27.36439574 13.12333089 16.13503325 30.12761935 11.75288677 11.11770284 44.8090217  14.06376893 15.72490897 28.29661955 18.03505068\n",
      " 14.71166945  3.7538495   7.72049711 14.87747812 20.18089399 17.07634212 27.96938073 17.37994952  7.22486301 10.00356204 29.2897925  22.21027565 16.68680552 32.50278642 15.24743861 24.5032053  13.21787643  9.82661702  9.27671508 18.92856905 32.02806649  8.95195225 18.62080073  6.61962444  3.15538726 25.21346101\n",
      " 13.68884936 22.83409609 20.75587881  7.66568007  9.73483278 12.42983931 18.0894352  14.29268444 11.24935517 22.59395751 20.45582142 24.62170867 13.24027829 23.72763041 24.64305822 17.54509239 10.31753235 34.96973868 34.37379028 30.41753876 25.54403016 25.83300972 17.18582342 24.96544765 16.56439289 21.9151358\n",
      " 14.2026773  15.50974426 16.5094604  13.06858678 13.61240826 23.98517971 12.44265507 32.94030304  8.09928395 19.92764349 13.33702046 22.6795871  14.51615408 38.72883948 29.66282831  2.62709544  3.24888909  7.36619897 15.86263358 14.1080793  20.02299046 16.55056836 18.28921893 14.16114117 18.10342121 10.12434172\n",
      " 17.80471445 19.55896663  5.9931467  40.7734921  23.00400404 20.92082296 18.36790277 22.1566902  12.37614367  6.29569758 22.99070554  9.7761538  17.44501319  7.75926553 17.38503789 20.89492516 14.26550095 31.84288638 19.53676897 12.4656269  16.00972878 16.29696151 48.63961363  9.83836525 11.5000023   6.49498791\n",
      " 39.59834746 21.35553053 10.15219991 13.80444245 37.26472652 17.42427668  6.60065729  8.14925669  8.63940109 24.26387281 14.60035873 12.55012597 17.33586183 21.43947628 22.97539838 23.70782943 43.7264985  25.73225688 52.68109914 35.39844014 18.26918636 13.50968326 34.87713446 21.66646211]\n",
      "True False\n",
      "D:\\CaseStudies_CoH_FineAdjustDigitization1\\ReRegisterCoH\\\\registration/48201C0865J.tif\n",
      "[[ 1.00674050e+00 -1.76900521e-03  7.77663548e+04]\n",
      " [ 1.76900521e-03  1.00674050e+00 -4.48799533e+03]\n",
      " [ 0.00000000e+00  0.00000000e+00  1.00000000e+00]]\n",
      "[[ 8.75962366e-01 -1.24443373e-03 -1.06328030e+07]\n",
      " [-1.87537553e-03 -8.79643672e-01  3.46399435e+06]\n",
      " [ 0.00000000e+00  0.00000000e+00  1.00000000e+00]]\n"
     ]
    }
   ],
   "source": [
    "\n",
    "register_tile_names = glob.glob(proc_dir + \"focus/*\")\n",
    "\n",
    "for curr_dir in register_tile_names:\n",
    "    \n",
    "    print(curr_dir)\n",
    "\n",
    "    ra_ref = []\n",
    "    im_corner_list = []\n",
    "    tile_dirs = []\n",
    "    corner_conf_list = []\n",
    "\n",
    "    if os.path.isdir(curr_dir):\n",
    "        print(\"FOUND GROUPING - USING\")\n",
    "        curr_tile_names = glob.glob(curr_dir + \"/*\")\n",
    "        for tile_dir in curr_tile_names:\n",
    "            curr_ra_ref = rio.open(tile_dir)\n",
    "            curr_im_corner_gdf, corner_confs = getTileCorners(tile_dir, curr_ra_ref, conf_thresh=detector_conf_thresh)\n",
    "            if curr_im_corner_gdf is None or curr_im_corner_gdf.shape[0] == 0:\n",
    "                continue\n",
    "            curr_im_corner_gdf['source_image'] = tile_dir               # ENCODING NAME\n",
    "            corner_confs = cornerConfsToDescriptorWeights(corner_confs)\n",
    "            tile_dirs.append(tile_dir)\n",
    "            ra_ref.append(curr_ra_ref)\n",
    "            im_corner_list.append(curr_im_corner_gdf)\n",
    "            corner_conf_list.append(corner_confs) \n",
    "    else:\n",
    "        curr_ra_ref = rio.open(curr_dir)\n",
    "        curr_im_corner_gdf, corner_confs = getTileCorners(curr_dir, curr_ra_ref, conf_thresh=detector_conf_thresh)\n",
    "        curr_im_corner_gdf['source_image'] = curr_dir                   # ENCODING NAME\n",
    "        corner_confs = cornerConfsToDescriptorWeights(corner_confs)\n",
    "        ra_ref.append(curr_ra_ref)\n",
    "        im_corner_list.append(curr_im_corner_gdf)\n",
    "        tile_dirs.append(curr_dir)\n",
    "        corner_conf_list.append(corner_confs)\n",
    "\n",
    "    gcps = loadGCPs(os.path.join(curr_dir, \"gcps.csv\"), tile_dirs, ra_ref)\n",
    "    \n",
    "    # CONVERT LIST TO GEODATAFRAME\n",
    "    im_corner_gdf      = gpd.GeoDataFrame(pd.concat(im_corner_list))\n",
    "    im_corner_arry     = np.stack(im_corner_gdf.geometry.apply(lambda point: np.array([point.x, point.y])))\n",
    "    im_corner_confs    = np.concatenate(corner_conf_list)\n",
    "\n",
    "    descriptor_kwds = {\n",
    "        'angle_step'       :   15, \n",
    "        'azimuth_radius'   :   [100, 250, 500, 1000, 1500, 2500], # [50, 100, 250, 500, 1000, 1500, 2000, 2500], \n",
    "        'overlap'          :   True, \n",
    "        'confidences'      :   im_corner_confs\n",
    "    }\n",
    "    \n",
    "    # BOUNDS\n",
    "    bounds_poly     = enlarged_bounds(ra_ref, n=1.2)\n",
    "    corners_curr    = gpd.clip(corners, bounds_poly)\n",
    "\n",
    "    # REGISTER FIRST PASS\n",
    "    im_corner_gdf_adj, group_registration_struct = registerImagesV3(os.path.basename(curr_dir).split(\".\")[0],  \n",
    "                        im_corner_gdf, corners_curr, im_corner_arry, descriptor_kwds, **registration_kwds)\n",
    "    if im_corner_gdf_adj is None:\n",
    "        raise(Exception(f\"Error with Registration\"))\n",
    "    \n",
    "    # ESTIMATE ORIGINAL TRANSFORMS FROM OUTPUT POINT ADJUSTMENTS\n",
    "    group_transform_dict = estimate_per_image_transforms(im_corner_gdf_adj)\n",
    "\n",
    "    # FOR EACH IMAGE\n",
    "    for i, tile_dir in enumerate(tile_dirs):\n",
    "\n",
    "        # I/O\n",
    "        image = cv2.imread(tile_dir)\n",
    "        image = cv2.cvtColor(image, cv2.COLOR_BGR2GRAY)\n",
    "        tile_name = os.path.basename(tile_dir).split(\".\")[0]\n",
    "        print(f\"{registration_dir}/{tile_name}.tif\")\n",
    "\n",
    "        # GET TRANSFORM\n",
    "        transform = group_transform_dict.get(tile_dir)\n",
    "        if transform is None:\n",
    "            print(f\"No transform found for {tile_name}, skipping.\")\n",
    "        \n",
    "        # FINALIZE TRANSFORM AND EXPORT RASTER\n",
    "        print(transform.matrix)\n",
    "        transform = transform.matrix @ getMatrixFromAffine(ra_ref[i].transform)\n",
    "        print(transform)\n",
    "        # transform = getMatrixFromAffine(ra_ref[i].transform) @ transform.matrix\n",
    "        try:\n",
    "            with rio.open(f\"{registration_dir}/{tile_name}.tif\", 'w',\n",
    "                        driver='GTiff', count=1, dtype=np.uint8,\n",
    "                        height=image.shape[0], width=image.shape[1],\n",
    "                        crs='EPSG:3857',\n",
    "                        transform=rio.Affine(*transform.flatten()[:6])) as dst:\n",
    "                dst.write(image, 1)\n",
    "        except Exception as e:\n",
    "            print(e)\n",
    "            traceback.print_exc()\n",
    "    "
   ]
  },
  {
   "cell_type": "code",
   "execution_count": null,
   "id": "697cbd83",
   "metadata": {},
   "outputs": [
    {
     "ename": "IndentationError",
     "evalue": "expected an indented block (2935472123.py, line 3)",
     "output_type": "error",
     "traceback": [
      "\u001b[1;36m  Cell \u001b[1;32mIn[15], line 3\u001b[1;36m\u001b[0m\n\u001b[1;33m    for i, tile_dir in enumerate(tile_dirs):\u001b[0m\n\u001b[1;37m    ^\u001b[0m\n\u001b[1;31mIndentationError\u001b[0m\u001b[1;31m:\u001b[0m expected an indented block\n"
     ]
    }
   ],
   "source": [
    "\n",
    "    # DO WE NEED TO ADJUST THIS? \n",
    "if False: # len(tile_dirs) > 1:\n",
    "    for i, tile_dir in enumerate(tile_dirs):\n",
    "        ind_dir = os.path.join(registration_dir, \"IndividualAdjustments\")\n",
    "        os.makedirs(ind_dir, exist_ok=True)\n",
    "\n",
    "        # GET CURRENT DETECTIONS AND ADJUST\n",
    "        im_corner_gdf_ind = im_corner_gdf_adj[im_corner_gdf_adj[\"source_image\"] == tile_dir]\n",
    "        print(f\"INDIVIDUAL ADJUSTMENT ON {im_corner_gdf_ind.shape[0]} POINTS\")\n",
    "        if im_corner_gdf_ind.shape[0] == 0:\n",
    "            print(\"CANNOT CONTINUE - NO INDIVIDUAL POINTS\")\n",
    "            continue\n",
    "        im_corner_arry_ind  = np.stack(im_corner_gdf_ind.geometry.apply(lambda point: np.array([point.x, point.y])))\n",
    "\n",
    "        # REGISTER FIRST PASS\n",
    "        im_corner_gdf_adj_ind, registration_struct_ind = registerImagesV3(os.path.basename(tile_dir).split(\".\")[0],  \n",
    "                    im_corner_gdf_ind, corners_curr, im_corner_arry_ind, descriptor_kwds, **adjustment_kwds)\n",
    "        \n",
    "        image_transform_dict = estimate_per_image_transforms(im_corner_gdf_adj_ind)\n",
    "\n",
    "        transform = image_transform_dict.get(tile_dir)\n",
    "        if transform is None:\n",
    "            print(f\"No transform found for {tile_name}, skipping.\")\n",
    "        \n",
    "        # FINALIZE TRANSFORM AND EXPORT RASTER\n",
    "        transform = transform.matrix @ getMatrixFromAffine(ra_ref[i].transform)\n",
    "        try:\n",
    "            with rio.open(f\"{ind_dir}/{tile_name}.tif\", 'w',\n",
    "                        driver='GTiff', count=1, dtype=np.uint8,\n",
    "                        height=image.shape[0], width=image.shape[1],\n",
    "                        crs='EPSG:3857',\n",
    "                        transform=rio.Affine(*transform.flatten()[:6])) as dst:\n",
    "                dst.write(image, 1)\n",
    "        except Exception as e:\n",
    "            print(e)\n",
    "            traceback.print_exc()   "
   ]
  }
 ],
 "metadata": {
  "kernelspec": {
   "display_name": "yolo",
   "language": "python",
   "name": "python3"
  },
  "language_info": {
   "codemirror_mode": {
    "name": "ipython",
    "version": 3
   },
   "file_extension": ".py",
   "mimetype": "text/x-python",
   "name": "python",
   "nbconvert_exporter": "python",
   "pygments_lexer": "ipython3",
   "version": "3.8.18"
  }
 },
 "nbformat": 4,
 "nbformat_minor": 5
}
