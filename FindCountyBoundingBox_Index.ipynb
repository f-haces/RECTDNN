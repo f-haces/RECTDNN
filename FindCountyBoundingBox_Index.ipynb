{
 "cells": [
  {
   "cell_type": "code",
   "execution_count": 1,
   "id": "af66f8d3",
   "metadata": {},
   "outputs": [],
   "source": [
    "import os\n",
    "import matplotlib.pyplot as plt\n",
    "import matplotlib.patches as patches\n",
    "from PIL import Image\n",
    "\n",
    "import torch\n",
    "import torch.nn as nn\n",
    "import torchvision.transforms as transforms\n",
    "\n",
    "from concurrent.futures import ThreadPoolExecutor\n",
    "\n",
    "import rasterio as rio\n",
    "from rasterio.crs import CRS\n",
    "\n",
    "import cv2\n",
    "from affine import Affine\n",
    "import numpy as np\n",
    "import glob\n",
    "\n",
    "from tqdm.notebook import tqdm\n",
    "\n",
    "Image.MAX_IMAGE_PIXELS = 933120000"
   ]
  },
  {
   "cell_type": "code",
   "execution_count": 2,
   "id": "3988c0b1",
   "metadata": {},
   "outputs": [
    {
     "ename": "FileNotFoundError",
     "evalue": "[Errno 2] No such file or directory: 'data\\\\000_WorkingFiles\\\\HarrisIndexes\\\\48201CIND0_1196.tif'",
     "output_type": "error",
     "traceback": [
      "\u001b[1;31m---------------------------------------------------------------------------\u001b[0m",
      "\u001b[1;31mFileNotFoundError\u001b[0m                         Traceback (most recent call last)",
      "\u001b[1;32m~\\AppData\\Local\\Temp\\ipykernel_19168\\540681816.py\u001b[0m in \u001b[0;36m<module>\u001b[1;34m\u001b[0m\n\u001b[0;32m      5\u001b[0m \u001b[1;31m# TILE INDEX TO TEST ON\u001b[0m\u001b[1;33m\u001b[0m\u001b[1;33m\u001b[0m\u001b[1;33m\u001b[0m\u001b[0m\n\u001b[0;32m      6\u001b[0m \u001b[1;31m# test_index = Image.open(r\"data\\000_WorkingFiles\\HarrisIndexes\\48201CIND0_0992.tif\")\u001b[0m\u001b[1;33m\u001b[0m\u001b[1;33m\u001b[0m\u001b[1;33m\u001b[0m\u001b[0m\n\u001b[1;32m----> 7\u001b[1;33m \u001b[0mtest_index\u001b[0m \u001b[1;33m=\u001b[0m \u001b[0mImage\u001b[0m\u001b[1;33m.\u001b[0m\u001b[0mopen\u001b[0m\u001b[1;33m(\u001b[0m\u001b[1;34mr\"data\\000_WorkingFiles\\HarrisIndexes\\48201CIND0_1196.tif\"\u001b[0m\u001b[1;33m)\u001b[0m\u001b[1;33m\u001b[0m\u001b[1;33m\u001b[0m\u001b[0m\n\u001b[0m\u001b[0;32m      8\u001b[0m \u001b[1;33m\u001b[0m\u001b[0m\n\u001b[0;32m      9\u001b[0m \u001b[1;32mdef\u001b[0m \u001b[0mbomb_sides\u001b[0m\u001b[1;33m(\u001b[0m\u001b[0mimage\u001b[0m\u001b[1;33m,\u001b[0m \u001b[0mn\u001b[0m\u001b[1;33m,\u001b[0m \u001b[0mreplacement_value\u001b[0m\u001b[1;33m)\u001b[0m\u001b[1;33m:\u001b[0m\u001b[1;33m\u001b[0m\u001b[1;33m\u001b[0m\u001b[0m\n",
      "\u001b[1;32m~\\Anaconda3\\envs\\deeplearning\\lib\\site-packages\\PIL\\Image.py\u001b[0m in \u001b[0;36mopen\u001b[1;34m(fp, mode, formats)\u001b[0m\n\u001b[0;32m   3129\u001b[0m \u001b[1;33m\u001b[0m\u001b[0m\n\u001b[0;32m   3130\u001b[0m     \u001b[1;32mif\u001b[0m \u001b[0mfilename\u001b[0m\u001b[1;33m:\u001b[0m\u001b[1;33m\u001b[0m\u001b[1;33m\u001b[0m\u001b[0m\n\u001b[1;32m-> 3131\u001b[1;33m         \u001b[0mfp\u001b[0m \u001b[1;33m=\u001b[0m \u001b[0mbuiltins\u001b[0m\u001b[1;33m.\u001b[0m\u001b[0mopen\u001b[0m\u001b[1;33m(\u001b[0m\u001b[0mfilename\u001b[0m\u001b[1;33m,\u001b[0m \u001b[1;34m\"rb\"\u001b[0m\u001b[1;33m)\u001b[0m\u001b[1;33m\u001b[0m\u001b[1;33m\u001b[0m\u001b[0m\n\u001b[0m\u001b[0;32m   3132\u001b[0m         \u001b[0mexclusive_fp\u001b[0m \u001b[1;33m=\u001b[0m \u001b[1;32mTrue\u001b[0m\u001b[1;33m\u001b[0m\u001b[1;33m\u001b[0m\u001b[0m\n\u001b[0;32m   3133\u001b[0m \u001b[1;33m\u001b[0m\u001b[0m\n",
      "\u001b[1;31mFileNotFoundError\u001b[0m: [Errno 2] No such file or directory: 'data\\\\000_WorkingFiles\\\\HarrisIndexes\\\\48201CIND0_1196.tif'"
     ]
    }
   ],
   "source": [
    "# REFERENCE IMAGE FROM QGIS\n",
    "template = Image.open(r\"data\\GIS\\Harris_full_roadsclipped_dark_full.tiff\")\n",
    "# template = Image.open(r\"data\\GIS\\template_cropped.png\")\n",
    "\n",
    "# TILE INDEX TO TEST ON\n",
    "# test_index = Image.open(r\"data\\000_WorkingFiles\\HarrisIndexes\\48201CIND0_0992.tif\")\n",
    "test_index = Image.open(r\"data\\000_WorkingFiles\\HarrisIndexes\\48201CIND0_1196.tif\")\n",
    "\n",
    "def bomb_sides(image, n, replacement_value):\n",
    "    result = np.copy(image)\n",
    "    rows, cols = image.shape\n",
    "\n",
    "    # Replace values in the left and right columns\n",
    "    result[:, :n] = replacement_value\n",
    "    result[:, -n:] = replacement_value\n",
    "\n",
    "    # Replace values in the top and bottom rows\n",
    "    result[:n, :] = replacement_value\n",
    "    result[-n:, :] = replacement_value\n",
    "\n",
    "    return result\n",
    "\n",
    "def preprocess_image_good(image):\n",
    "    image = np.asarray(image) \n",
    "    image = image.astype(np.uint8)\n",
    "    image = 255 * ((image - np.nanpercentile(image, 10)) / (np.nanpercentile(image, 90) - np.nanpercentile(image, 10)))\n",
    "    image = cv2.GaussianBlur(image, (5, 5), 0)\n",
    "    image = cv2.erode(image, np.ones((5,5), np.uint8), iterations=2)\n",
    "    image = np.where(image < 150, 0, 255).astype(np.uint8)\n",
    "    image = cv2.GaussianBlur(image, (15, 15), 0)\n",
    "    image = 255 - image\n",
    "    image = bomb_sides(image, 200, 0)\n",
    "    return image\n",
    "\n",
    "def preprocess_image_good(image):\n",
    "    image = np.asarray(image) * 255\n",
    "    image = image.astype(np.uint8)\n",
    "    image = cv2.GaussianBlur(image, (5, 5), 0)\n",
    "    image = np.where(image < 150, image, 255).astype(np.uint8)\n",
    "    image = cv2.dilate(image, np.ones((3,3), np.uint8), iterations=1)\n",
    "    image = cv2.erode(image, np.ones((5,5), np.uint8), iterations=2)\n",
    "    image = np.where(image < 150, image, 255).astype(np.uint8)\n",
    "    image = cv2.erode(image, np.ones((5,5), np.uint8), iterations=2)\n",
    "    image = np.where(image < 50, 0, 255).astype(np.uint8)\n",
    "    image = cv2.erode(image, np.ones((5,5), np.uint8), iterations=5)\n",
    "    image = cv2.GaussianBlur(image, (5, 5), 0)\n",
    "    image = 255 - image\n",
    "    return image\n",
    "\n",
    "def preprocess_image_working(image):\n",
    "    image = np.asarray(image) * 255\n",
    "    image = bomb_sides(image, 255, 500)\n",
    "    image = image.astype(np.uint8)\n",
    "    image = cv2.GaussianBlur(image, (5, 5), 0)\n",
    "    image = cv2.erode(image, np.ones((5,5), np.uint8), iterations=10)\n",
    "    image = cv2.GaussianBlur(image, (15, 15), 0)\n",
    "    image = 255 - image\n",
    "    return image\n",
    "\n",
    "def preprocess_template(template, image):\n",
    "    template = np.asarray(template).astype(np.uint8)\n",
    "    template = cv2.cvtColor(template, cv2.COLOR_BGR2GRAY)\n",
    "    template = template.astype(np.uint8)\n",
    "    template = 255 - template\n",
    "    scale = image.shape[1] / template.shape[1]\n",
    "    template = cv2.resize(template, None, fx=scale, fy=scale)\n",
    "    return template\n",
    "\n",
    "\n",
    "test_preprocess = preprocess_image_good(test_index)\n",
    "template = preprocess_template(template, test_preprocess)"
   ]
  },
  {
   "cell_type": "code",
   "execution_count": 5,
   "id": "ee782da7",
   "metadata": {},
   "outputs": [],
   "source": [
    "class CNN(nn.Module):\n",
    "    def __init__(self, in_channels=1, out_channels=1):\n",
    "        super().__init__()\n",
    "        \n",
    "        self.relu = nn.ReLU(inplace=True)\n",
    "        \n",
    "        self.conv1 = nn.Conv2d(in_channels, 32, kernel_size=7, padding=3)\n",
    "        self.conv2 = nn.Conv2d(32, 32, kernel_size=7, padding=3)\n",
    "        self.conv3 = nn.Conv2d(32, 64, kernel_size=7, padding=3)\n",
    "        self.conv4 = nn.Conv2d(64, 32, kernel_size=7, padding=3)\n",
    "        self.conv5 = nn.Conv2d(32, out_channels, kernel_size=7, padding=3)\n",
    "        \n",
    "    def forward(self, x):\n",
    "        x = self.conv1(x)\n",
    "        x = self.relu(x)\n",
    "        \n",
    "        x = self.conv2(x)\n",
    "        x = self.relu(x)\n",
    "        x = self.conv3(x)\n",
    "        x = self.relu(x)\n",
    "        x = self.conv4(x)\n",
    "        x = self.relu(x)\n",
    "        x = self.conv5(x)\n",
    "        return x"
   ]
  },
  {
   "cell_type": "code",
   "execution_count": 6,
   "id": "59acea6c",
   "metadata": {},
   "outputs": [],
   "source": [
    "model = torch.load('preprocess.pth').to('cpu')"
   ]
  },
  {
   "cell_type": "code",
   "execution_count": 7,
   "id": "bddbc1ab",
   "metadata": {},
   "outputs": [],
   "source": [
    "# Specify the directory path containing the images\n",
    "directory = r'data\\000_WorkingFiles\\HarrisIndexes'\n",
    "\n",
    "# Specify the list of file extensions of the images (e.g., ['.jpg', '.png'])\n",
    "file_extensions = ['.jpg', '.png', '.tif']\n",
    "\n",
    "# Get the list of image file paths\n",
    "image_paths = []\n",
    "for extension in file_extensions:\n",
    "    image_paths.extend(glob.glob(os.path.join(directory, '*' + extension)))"
   ]
  },
  {
   "cell_type": "code",
   "execution_count": null,
   "id": "110a01d3",
   "metadata": {},
   "outputs": [
    {
     "name": "stdout",
     "output_type": "stream",
     "text": [
      "Processing image: data\\000_WorkingFiles\\HarrisIndexes\\480287IND0_0281.jpg\n",
      "Processing image: data\\000_WorkingFiles\\HarrisIndexes\\480287IND0_0288.jpg\n",
      "Processing image: data\\000_WorkingFiles\\HarrisIndexes\\480287IND0_0382.jpg\n",
      "Processing image: data\\000_WorkingFiles\\HarrisIndexes\\480287IND0_0985.jpg\n",
      "Processing image: data\\000_WorkingFiles\\HarrisIndexes\\480296IND0_0982.jpg\n",
      "Processing image: data\\000_WorkingFiles\\HarrisIndexes\\480296IND0_0985.jpg\n",
      "Processing image: data\\000_WorkingFiles\\HarrisIndexes\\480296IND0_0987.jpg\n",
      "Processing image: data\\000_WorkingFiles\\HarrisIndexes\\480296IND0_1279.jpg\n",
      "Processing image: data\\000_WorkingFiles\\HarrisIndexes\\48201CIND0_0990.jpg\n",
      "Processing image: data\\000_WorkingFiles\\HarrisIndexes\\48201CIND0_0992.tif\n"
     ]
    }
   ],
   "source": [
    "   transform = transforms.Compose([\n",
    "    transforms.PILToTensor()\n",
    "])\n",
    "\n",
    "prepped_images = []\n",
    "\n",
    "# Loop through the image paths\n",
    "for image_path in image_paths:\n",
    "    # Process each image path\n",
    "    print(\"Processing image:\", image_path)\n",
    "    image = Image.open(image_path)\n",
    "    # image = preprocess_image_good(image)\n",
    "    image = transform(image).float().to(\"cpu\")\n",
    "    image = model(image)\n",
    "    image = image.detach().cpu().numpy().squeeze()\n",
    "    \n",
    "    # bott, top = np.percentile(image, [10, 90])\n",
    "    \n",
    "    # image = 255 * (image - bott) / (top - bott)\n",
    "    image = image.astype(np.uint8)\n",
    "    \n",
    "    prepped_images.append(image_path[:-4] + f\"_prep.tif\")\n",
    "    cv2.imwrite(image_path[:-4] + f\"_prep.tif\", image)"
   ]
  },
  {
   "cell_type": "code",
   "execution_count": 33,
   "id": "e2f254bb",
   "metadata": {},
   "outputs": [
    {
     "data": {
      "text/plain": [
       "<matplotlib.image.AxesImage at 0x252c5c5e688>"
      ]
     },
     "execution_count": 33,
     "metadata": {},
     "output_type": "execute_result"
    },
    {
     "data": {
      "image/png": "[encoded data removed]",
      "text/plain": [
       "<Figure size 640x480 with 1 Axes>"
      ]
     },
     "metadata": {},
     "output_type": "display_data"
    }
   ],
   "source": [
    "for image_path in prepped_images:\n",
    "    print(\"Processing image:\", image_path)\n",
    "    image = Image.open(image_path)\n",
    "    \n",
    "    bott, top = np.percentile(image, [1, 99])\n",
    "    image = 255 * (image - bott) / (top - bott)\n",
    "    image = image.astype(np.uint8)\n",
    "    "
   ]
  },
  {
   "cell_type": "code",
   "execution_count": 5,
   "id": "a9ed4fa4",
   "metadata": {},
   "outputs": [],
   "source": [
    "class ReturnValues:\n",
    "    def __init__(self, _result, _mask, _rotated_template, _scale, _angle):\n",
    "        self.result = _result\n",
    "        self.mask = _mask\n",
    "        self.rotated_template = _rotated_template\n",
    "        self.scale = _scale\n",
    "        self.angle = _angle\n",
    "\n",
    "def wrapPattern(scale):\n",
    "    return patternMatch(test_preprocess, template, scale, 0)\n",
    "\n",
    "def patternMatch(test_preprocess, template, scale, angle, method=cv2.TM_SQDIFF):\n",
    "    # Resize the template based on the current scale\n",
    "    scaled_template = cv2.resize(template, None, fx=scale, fy=scale)\n",
    "    \n",
    "    # Rotate the template based on the current angle\n",
    "    rotation_matrix = cv2.getRotationMatrix2D((scaled_template.shape[1] / 2, scaled_template.shape[0] / 2), angle, 1.0)\n",
    "    rotated_template = cv2.warpAffine(scaled_template, rotation_matrix, (scaled_template.shape[1], scaled_template.shape[0]))\n",
    "        \n",
    "    mask = np.where(rotated_template == 0, 0, 255).astype(np.uint8)\n",
    "    # Perform template matching\n",
    "    result = cv2.matchTemplate(test_preprocess, rotated_template, method, mask=mask)\n",
    "    return ReturnValues(result, mask,rotated_template, scale, angle)\n",
    "\n",
    "def postprocess_results(result_list, scales, opt_max):\n",
    "    elem_list = [x.flatten() for x in result_list]\n",
    "    elem_list = np.hstack(elem_list)\n",
    "\n",
    "    if opt_max:\n",
    "        thresh = np.percentile(elem_list, 99.9)\n",
    "        loc_list = [x > thresh for x in result_list]\n",
    "    else:\n",
    "        thresh = np.percentile(elem_list, 0.1)\n",
    "        loc_list = [x < thresh for x in result_list]\n",
    "\n",
    "    votes = np.array([np.count_nonzero(x) for x in loc_list])\n",
    "    rescale_factor = np.sum(votes * scales) / np.sum(votes)\n",
    "\n",
    "    x_list = np.hstack([np.where(x)[0] for x in loc_list])\n",
    "    y_list = np.hstack([np.where(x)[1] for x in loc_list])\n",
    "\n",
    "    x = int(np.median(x_list))\n",
    "    y = int(np.median(y_list))\n",
    "\n",
    "    br = (int(y + template.shape[1] * rescale_factor), int(x + template.shape[0] * rescale_factor))\n",
    "    \n",
    "    return x, y, br, rescale_factor"
   ]
  },
  {
   "cell_type": "code",
   "execution_count": 6,
   "id": "93188853",
   "metadata": {},
   "outputs": [],
   "source": [
    "def wrapSearch(initial_guess, perturbance, retall=True):\n",
    "    scales = np.arange(initial_guess-perturbance, initial_guess+perturbance+1e-5, perturbance/2)\n",
    "\n",
    "    # Initialize a list to store the matches\n",
    "    all_matches = []\n",
    "\n",
    "    # Initialize variables to store the best match\n",
    "    best_match_scale = 1.0\n",
    "    best_match_angle = 0.0\n",
    "\n",
    "    opt_max = False\n",
    "\n",
    "    if opt_max:\n",
    "        best_match_value = -1 * np.inf\n",
    "    else:\n",
    "        best_match_value = np.inf\n",
    "\n",
    "    result_list = list()\n",
    "    best_loc_list = list()\n",
    "    rect_corner_list = list()\n",
    "\n",
    "    with ThreadPoolExecutor(max_workers=4) as executor:\n",
    "        for retvalue in tqdm(executor.map(wrapPattern, scales), total=len(scales)):\n",
    "\n",
    "            mask = retvalue.mask\n",
    "            result = retvalue.result\n",
    "            rotated_template = retvalue.rotated_template\n",
    "            scale = retvalue.scale\n",
    "            angle = retvalue.angle\n",
    "            if not opt_max:\n",
    "                result = np.sqrt(result / np.count_nonzero(mask))\n",
    "\n",
    "            result_list.append(result)\n",
    "            min_val, max_val, min_loc, max_loc = cv2.minMaxLoc(result)\n",
    "\n",
    "            if opt_max:\n",
    "                best_val = max_val\n",
    "                best_loc = max_loc\n",
    "                bottom_right = (best_loc[0] + int(rotated_template.shape[1]), best_loc[1] + int(rotated_template.shape[0]))\n",
    "\n",
    "                best_loc_list.append(best_loc)\n",
    "                rect_corner_list.append(bottom_right)\n",
    "\n",
    "            else:\n",
    "                best_val = min_val\n",
    "                best_loc = min_loc\n",
    "                bottom_right = (best_loc[0] + int(rotated_template.shape[1]), best_loc[1] + int(rotated_template.shape[0]))\n",
    "                best_loc_list.append(best_loc)\n",
    "                rect_corner_list.append(bottom_right)            \n",
    "\n",
    "            print(scale, angle, best_val)\n",
    "        \n",
    "        postprocess = postprocess_results(result_list, scales, opt_max)\n",
    "    \n",
    "    if not retall:\n",
    "        return postprocess[3]\n",
    "    return postprocess"
   ]
  },
  {
   "cell_type": "code",
   "execution_count": 7,
   "id": "3b399792",
   "metadata": {},
   "outputs": [
    {
     "data": {
      "application/vnd.jupyter.widget-view+json": {
       "model_id": "77d47a4f330e42e386ef8e82bf5b304c",
       "version_major": 2,
       "version_minor": 0
      },
      "text/plain": [
       "  0%|          | 0/5 [00:00<?, ?it/s]"
      ]
     },
     "metadata": {},
     "output_type": "display_data"
    },
    {
     "name": "stdout",
     "output_type": "stream",
     "text": [
      "0.7000000000000001 0 126.77954746923128\n",
      "0.7500000000000001 0 126.67089024479698\n",
      "0.8000000000000002 0 126.82986017606385\n",
      "0.8500000000000002 0 127.22911185778047\n",
      "0.9000000000000002 0 127.50554058268173\n"
     ]
    },
    {
     "data": {
      "application/vnd.jupyter.widget-view+json": {
       "model_id": "4d24c0575d9c4a9fb63cddcb0f5d4992",
       "version_major": 2,
       "version_minor": 0
      },
      "text/plain": [
       "  0%|          | 0/5 [00:00<?, ?it/s]"
      ]
     },
     "metadata": {},
     "output_type": "display_data"
    },
    {
     "name": "stdout",
     "output_type": "stream",
     "text": [
      "0.6776391335178535 0 126.70069295980923\n",
      "0.7026391335178536 0 126.75655320093911\n",
      "0.7276391335178536 0 126.76106875675096\n",
      "0.7526391335178536 0 126.64815116979533\n",
      "0.7776391335178536 0 126.64681618208884\n"
     ]
    },
    {
     "data": {
      "application/vnd.jupyter.widget-view+json": {
       "model_id": "ee914f2e6ba34aeda6a8f5ee3e3de28f",
       "version_major": 2,
       "version_minor": 0
      },
      "text/plain": [
       "  0%|          | 0/5 [00:00<?, ?it/s]"
      ]
     },
     "metadata": {},
     "output_type": "display_data"
    },
    {
     "name": "stdout",
     "output_type": "stream",
     "text": [
      "0.7004068297082152 0 126.77634495685584\n",
      "0.7129068297082152 0 126.72778723971679\n",
      "0.7254068297082151 0 126.73349566633671\n",
      "0.7379068297082151 0 126.77865965379127\n",
      "0.750406829708215 0 126.6666429882934\n"
     ]
    },
    {
     "data": {
      "application/vnd.jupyter.widget-view+json": {
       "model_id": "1e7713ecafb34d168954302551bf5829",
       "version_major": 2,
       "version_minor": 0
      },
      "text/plain": [
       "  0%|          | 0/5 [00:00<?, ?it/s]"
      ]
     },
     "metadata": {},
     "output_type": "display_data"
    },
    {
     "name": "stdout",
     "output_type": "stream",
     "text": [
      "0.7145415341321479 0 126.72254003435471\n",
      "0.7207915341321479 0 126.69532757080341\n",
      "0.7270415341321479 0 126.7537825527051\n",
      "0.7332915341321479 0 126.76748312980311\n",
      "0.7395415341321478 0 126.75832600739727\n"
     ]
    }
   ],
   "source": [
    "curr_guess = 0.8\n",
    "perturbations = [0.1, 0.05, 0.025, 0.0125]\n",
    "\n",
    "for i, pert in enumerate(perturbations):\n",
    "    x, y, br, rescale_factor = wrapSearch(curr_guess, pert)\n",
    "    curr_guess = rescale_factor"
   ]
  },
  {
   "cell_type": "code",
   "execution_count": 8,
   "id": "7d0d5542",
   "metadata": {},
   "outputs": [
    {
     "data": {
      "text/plain": [
       "0.7266438068594205"
      ]
     },
     "execution_count": 8,
     "metadata": {},
     "output_type": "execute_result"
    }
   ],
   "source": [
    "rescale_factor"
   ]
  },
  {
   "cell_type": "code",
   "execution_count": 9,
   "id": "1b9c3b52",
   "metadata": {},
   "outputs": [],
   "source": [
    "three_band = np.dstack([test_preprocess,test_preprocess,test_preprocess])\n",
    "    \n",
    "# _ = cv2.rectangle(three_band, best_match_loc, best_match_br, (0, 0, 255), 5)\n",
    "_ = cv2.rectangle(three_band, (y, x), br, (0, 255, 0), 5)"
   ]
  },
  {
   "cell_type": "code",
   "execution_count": 10,
   "id": "3d147836",
   "metadata": {},
   "outputs": [
    {
     "data": {
      "text/plain": [
       "True"
      ]
     },
     "execution_count": 10,
     "metadata": {},
     "output_type": "execute_result"
    }
   ],
   "source": [
    "cv2.imwrite('testout.png', three_band)"
   ]
  }
 ],
 "metadata": {
  "kernelspec": {
   "display_name": "Python 3 (ipykernel)",
   "language": "python",
   "name": "python3"
  },
  "language_info": {
   "codemirror_mode": {
    "name": "ipython",
    "version": 3
   },
   "file_extension": ".py",
   "mimetype": "text/x-python",
   "name": "python",
   "nbconvert_exporter": "python",
   "pygments_lexer": "ipython3",
   "version": "3.7.16"
  }
 },
 "nbformat": 4,
 "nbformat_minor": 5
}
