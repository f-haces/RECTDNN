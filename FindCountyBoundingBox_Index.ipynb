{
 "cells": [
  {
   "cell_type": "code",
   "execution_count": 1,
   "id": "132fb085",
   "metadata": {},
   "outputs": [],
   "source": [
    "import os\n",
    "import matplotlib.pyplot as plt\n",
    "import matplotlib.patches as patches\n",
    "from PIL import Image\n",
    "\n",
    "from concurrent.futures import ThreadPoolExecutor\n",
    "\n",
    "import rasterio as rio\n",
    "from rasterio.crs import CRS\n",
    "\n",
    "import cv2\n",
    "from affine import Affine\n",
    "import numpy as np\n",
    "\n",
    "from tqdm.notebook import tqdm\n",
    "\n",
    "Image.MAX_IMAGE_PIXELS = 933120000"
   ]
  },
  {
   "cell_type": "code",
   "execution_count": 2,
   "id": "185868a2",
   "metadata": {},
   "outputs": [],
   "source": [
    "# REFERENCE IMAGE FROM QGIS\n",
    "template = Image.open(r\"data\\GIS\\Harris_full_roadsclipped_dark_full.tiff\")\n",
    "# template = Image.open(r\"data\\GIS\\template_cropped.png\")\n",
    "\n",
    "# TILE INDEX TO TEST ON\n",
    "test_index = Image.open(r\"data\\000_WorkingFiles\\HarrisIndexes\\48201CIND0_0992.tif\")"
   ]
  },
  {
   "cell_type": "code",
   "execution_count": 3,
   "id": "5030abdd",
   "metadata": {},
   "outputs": [],
   "source": [
    "def bomb_sides(image, n, replacement_value):\n",
    "    result = np.copy(image)\n",
    "    rows, cols = image.shape\n",
    "\n",
    "    # Replace values in the left and right columns\n",
    "    result[:, :n] = replacement_value\n",
    "    result[:, -n:] = replacement_value\n",
    "\n",
    "    # Replace values in the top and bottom rows\n",
    "    result[:n, :] = replacement_value\n",
    "    result[-n:, :] = replacement_value\n",
    "\n",
    "    return result\n",
    "\n",
    "def preprocess_image_good(image):\n",
    "    image = np.asarray(image) * 255\n",
    "    image = image.astype(np.uint8)\n",
    "    image = cv2.GaussianBlur(image, (5, 5), 0)\n",
    "    image = np.where(image < 150, image, 255).astype(np.uint8)\n",
    "    image = cv2.dilate(image, np.ones((3,3), np.uint8), iterations=1)\n",
    "    image = cv2.erode(image, np.ones((5,5), np.uint8), iterations=2)\n",
    "    image = np.where(image < 150, image, 255).astype(np.uint8)\n",
    "    image = cv2.erode(image, np.ones((5,5), np.uint8), iterations=2)\n",
    "    image = np.where(image < 50, 0, 255).astype(np.uint8)\n",
    "    image = cv2.erode(image, np.ones((5,5), np.uint8), iterations=5)\n",
    "    image = cv2.GaussianBlur(image, (5, 5), 0)\n",
    "    image = 255 - image\n",
    "    return image\n",
    "\n",
    "def preprocess_image_working(image):\n",
    "    image = np.asarray(image) * 255\n",
    "    image = bomb_sides(image, 255, 500)\n",
    "    image = image.astype(np.uint8)\n",
    "    image = cv2.GaussianBlur(image, (5, 5), 0)\n",
    "    image = cv2.erode(image, np.ones((5,5), np.uint8), iterations=10)\n",
    "    image = cv2.GaussianBlur(image, (31, 31), 0)\n",
    "    image = 255 - image\n",
    "    return image\n",
    "\n",
    "def preprocess_template(template):\n",
    "    template = np.asarray(template).astype(np.uint8)\n",
    "    template = cv2.cvtColor(template, cv2.COLOR_BGR2GRAY)\n",
    "    # template = cv2.GaussianBlur(template, (11, 11), 0)\n",
    "    # template = 255 * template / np.max(template)\n",
    "    template = template.astype(np.uint8)\n",
    "    template = 255 - template\n",
    "    return template\n",
    "\n",
    "template = preprocess_template(template)\n",
    "test_preprocess = preprocess_image_good(test_index)\n",
    "Image.fromarray(template).save(\"template.png\")\n",
    "Image.fromarray(test_preprocess).save(\"test.png\")"
   ]
  },
  {
   "cell_type": "code",
   "execution_count": 4,
   "id": "c554f31c",
   "metadata": {},
   "outputs": [],
   "source": [
    "class ReturnValues:\n",
    "    def __init__(self, _result, _mask, _rotated_template, _scale, _angle):\n",
    "        self.result = _result\n",
    "        self.mask = _mask\n",
    "        self.rotated_template = _rotated_template\n",
    "        self.scale = _scale\n",
    "        self.angle = _angle\n",
    "\n",
    "def wrapPattern(scale):\n",
    "    return patternMatch(test_preprocess, template, scale, 0)\n",
    "\n",
    "def patternMatch(test_preprocess, template, scale, angle, method=cv2.TM_SQDIFF):\n",
    "    # Resize the template based on the current scale\n",
    "    scaled_template = cv2.resize(template, None, fx=scale, fy=scale)\n",
    "    # Rotate the template based on the current angle\n",
    "    rotation_matrix = cv2.getRotationMatrix2D((scaled_template.shape[1] / 2, scaled_template.shape[0] / 2), angle, 1.0)\n",
    "    rotated_template = cv2.warpAffine(scaled_template, rotation_matrix, (scaled_template.shape[1], scaled_template.shape[0]))\n",
    "    mask = np.where(rotated_template == 0, 0, 255).astype(np.uint8)\n",
    "    # Perform template matching\n",
    "    result = cv2.matchTemplate(test_preprocess, rotated_template, method, mask=mask)\n",
    "    return ReturnValues(result, mask,rotated_template, scale, angle)\n",
    "\n",
    "def postprocess_results(result_list, scales, opt_max):\n",
    "    elem_list = [x.flatten() for x in result_list]\n",
    "    elem_list = np.hstack(elem_list)\n",
    "\n",
    "    if opt_max:\n",
    "        thresh = np.percentile(elem_list, 99.9)\n",
    "        loc_list = [x > thresh for x in result_list]\n",
    "    else:\n",
    "        thresh = np.percentile(elem_list, 0.1)\n",
    "        loc_list = [x < thresh for x in result_list]\n",
    "\n",
    "    votes = np.array([np.count_nonzero(x) for x in loc_list])\n",
    "    rescale_factor = np.sum(votes * scales) / np.sum(votes)\n",
    "\n",
    "    x_list = np.hstack([np.where(x)[0] for x in loc_list])\n",
    "    y_list = np.hstack([np.where(x)[1] for x in loc_list])\n",
    "\n",
    "    x = int(np.median(x_list))\n",
    "    y = int(np.median(y_list))\n",
    "\n",
    "    br = (int(y + template.shape[1] * rescale_factor), int(x + template.shape[0] * rescale_factor))\n",
    "    \n",
    "    return x, y, br, rescale_factor"
   ]
  },
  {
   "cell_type": "code",
   "execution_count": 12,
   "id": "29f7b67b",
   "metadata": {},
   "outputs": [],
   "source": [
    "def wrapSearch(initial_guess, perturbance, retall=True):\n",
    "    scales = np.arange(initial_guess-perturbance, initial_guess+perturbance+1e-5, perturbance/2)\n",
    "\n",
    "    # Initialize a list to store the matches\n",
    "    all_matches = []\n",
    "\n",
    "    # Initialize variables to store the best match\n",
    "    best_match_scale = 1.0\n",
    "    best_match_angle = 0.0\n",
    "\n",
    "    opt_max = False\n",
    "\n",
    "    if opt_max:\n",
    "        best_match_value = -1 * np.inf\n",
    "    else:\n",
    "        best_match_value = np.inf\n",
    "\n",
    "    result_list = list()\n",
    "    best_loc_list = list()\n",
    "    rect_corner_list = list()\n",
    "\n",
    "    with ThreadPoolExecutor(max_workers=4) as executor:\n",
    "        for retvalue in tqdm(executor.map(wrapPattern, scales), total=len(scales)):\n",
    "\n",
    "            mask = retvalue.mask\n",
    "            result = retvalue.result\n",
    "            rotated_template = retvalue.rotated_template\n",
    "            scale = retvalue.scale\n",
    "            angle = retvalue.angle\n",
    "            if not opt_max:\n",
    "                result = np.sqrt(result / np.count_nonzero(mask))\n",
    "\n",
    "            result_list.append(result)\n",
    "            min_val, max_val, min_loc, max_loc = cv2.minMaxLoc(result)\n",
    "\n",
    "            if opt_max:\n",
    "                best_val = max_val\n",
    "                best_loc = max_loc\n",
    "                bottom_right = (best_loc[0] + int(rotated_template.shape[1]), best_loc[1] + int(rotated_template.shape[0]))\n",
    "\n",
    "                best_loc_list.append(best_loc)\n",
    "                rect_corner_list.append(bottom_right)\n",
    "\n",
    "            else:\n",
    "                best_val = min_val\n",
    "                best_loc = min_loc\n",
    "                bottom_right = (best_loc[0] + int(rotated_template.shape[1]), best_loc[1] + int(rotated_template.shape[0]))\n",
    "                best_loc_list.append(best_loc)\n",
    "                rect_corner_list.append(bottom_right)            \n",
    "\n",
    "            print(scale, angle, best_val)\n",
    "        \n",
    "        postprocess = postprocess_results(result_list, scales, opt_max)\n",
    "    \n",
    "    if not retall:\n",
    "        return postprocess[3]\n",
    "    return postprocess"
   ]
  },
  {
   "cell_type": "code",
   "execution_count": 13,
   "id": "aaad2a6a",
   "metadata": {},
   "outputs": [
    {
     "data": {
      "application/vnd.jupyter.widget-view+json": {
       "model_id": "bab11034fd064229a039c5bf754882db",
       "version_major": 2,
       "version_minor": 0
      },
      "text/plain": [
       "  0%|          | 0/5 [00:00<?, ?it/s]"
      ]
     },
     "metadata": {},
     "output_type": "display_data"
    },
    {
     "name": "stdout",
     "output_type": "stream",
     "text": [
      "0.7000000000000001 0 127.24490902172191\n",
      "0.7500000000000001 0 127.21989386689756\n",
      "0.8000000000000002 0 127.10752047488349\n",
      "0.8500000000000002 0 127.04201236836995\n",
      "0.9000000000000002 0 127.13275329192847\n"
     ]
    },
    {
     "data": {
      "application/vnd.jupyter.widget-view+json": {
       "model_id": "509b6533ee594b6e9e1aaefbc41db1b0",
       "version_major": 2,
       "version_minor": 0
      },
      "text/plain": [
       "  0%|          | 0/5 [00:00<?, ?it/s]"
      ]
     },
     "metadata": {},
     "output_type": "display_data"
    },
    {
     "name": "stdout",
     "output_type": "stream",
     "text": [
      "0.7906438472119354 0 127.14541409241517\n",
      "0.8156438472119354 0 127.10745711591075\n",
      "0.8406438472119354 0 127.05490543051535\n",
      "0.8656438472119354 0 126.91103932303739\n",
      "0.8906438472119355 0 127.0736473896806\n"
     ]
    }
   ],
   "source": [
    "x, y, br, rescale_factor = wrapSearch(wrapSearch(0.8, 0.1, retall=False), 0.05)"
   ]
  },
  {
   "cell_type": "code",
   "execution_count": 14,
   "id": "ea413f5a",
   "metadata": {},
   "outputs": [
    {
     "data": {
      "text/plain": [
       "0.8559098638058965"
      ]
     },
     "execution_count": 14,
     "metadata": {},
     "output_type": "execute_result"
    }
   ],
   "source": [
    "rescale_factor"
   ]
  },
  {
   "cell_type": "code",
   "execution_count": 15,
   "id": "c16214c9",
   "metadata": {},
   "outputs": [],
   "source": [
    "three_band = np.dstack([test_preprocess,test_preprocess,test_preprocess])\n",
    "    \n",
    "# _ = cv2.rectangle(three_band, best_match_loc, best_match_br, (0, 0, 255), 5)\n",
    "_ = cv2.rectangle(three_band, (y, x), br, (0, 255, 0), 5)"
   ]
  },
  {
   "cell_type": "code",
   "execution_count": 16,
   "id": "b35e5cf4",
   "metadata": {},
   "outputs": [
    {
     "data": {
      "text/plain": [
       "True"
      ]
     },
     "execution_count": 16,
     "metadata": {},
     "output_type": "execute_result"
    }
   ],
   "source": [
    "cv2.imwrite('testout.png', three_band)"
   ]
  }
 ],
 "metadata": {
  "kernelspec": {
   "display_name": "Python 3 (ipykernel)",
   "language": "python",
   "name": "python3"
  },
  "language_info": {
   "codemirror_mode": {
    "name": "ipython",
    "version": 3
   },
   "file_extension": ".py",
   "mimetype": "text/x-python",
   "name": "python",
   "nbconvert_exporter": "python",
   "pygments_lexer": "ipython3",
   "version": "3.7.16"
  }
 },
 "nbformat": 4,
 "nbformat_minor": 5
}
