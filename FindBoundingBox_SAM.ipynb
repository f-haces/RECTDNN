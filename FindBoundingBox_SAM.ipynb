{
 "cells": [
  {
   "cell_type": "code",
   "execution_count": 12,
   "id": "af66f8d3",
   "metadata": {},
   "outputs": [],
   "source": [
    "import os\n",
    "import matplotlib.pyplot as plt\n",
    "import matplotlib.patches as patches\n",
    "from PIL import Image\n",
    "\n",
    "import torch\n",
    "import torch.nn as nn\n",
    "import torchvision.transforms as transforms\n",
    "\n",
    "from concurrent.futures import ThreadPoolExecutor\n",
    "\n",
    "import rasterio as rio\n",
    "from rasterio.crs import CRS\n",
    "\n",
    "import cv2\n",
    "from affine import Affine\n",
    "import numpy as np\n",
    "import glob\n",
    "\n",
    "from tqdm.notebook import tqdm\n",
    "\n",
    "from affine import Affine\n",
    "\n",
    "from WorldFileUtils import *\n",
    "\n",
    "Image.MAX_IMAGE_PIXELS = 933120000"
   ]
  },
  {
   "cell_type": "code",
   "execution_count": 2,
   "id": "dbab9281",
   "metadata": {},
   "outputs": [
    {
     "data": {
      "text/plain": [
       "True"
      ]
     },
     "execution_count": 2,
     "metadata": {},
     "output_type": "execute_result"
    }
   ],
   "source": [
    "def prep(image):\n",
    "    image = np.asarray(image).astype(np.uint8)\n",
    "    image = np.uint8(255 - image)\n",
    "    return image\n",
    "\n",
    "def prepedges(image):\n",
    "    image = np.asarray(image).astype(np.uint8)\n",
    "    image = cv2.Canny(image,50,100)\n",
    "    image = cv2.dilate(image, np.ones((3,3), np.uint8), iterations=30)\n",
    "    return np.asarray(image ).astype(np.uint8)\n",
    "\n",
    "# REFERENCE IMAGE FROM QGIS\n",
    "template = prep(Image.open(r\"Harris_Boundary_hollow.png\"))[:,:,0]\n",
    "\n",
    "# TILE INDEX TO TEST ON\n",
    "test_preprocess = prepedges(Image.open(r\"masks_black.png\"))\n",
    "\n",
    "cv2.imwrite(\"test.png\", test_preprocess)\n",
    "cv2.imwrite(\"template.png\", template)"
   ]
  },
  {
   "cell_type": "code",
   "execution_count": 3,
   "id": "a9ed4fa4",
   "metadata": {},
   "outputs": [],
   "source": [
    "class ReturnValues:\n",
    "    def __init__(self, _result, _mask, _rotated_template, _scale, _angle):\n",
    "        self.result = _result\n",
    "        self.mask = _mask\n",
    "        self.rotated_template = _rotated_template\n",
    "        self.scale = _scale\n",
    "        self.angle = _angle\n",
    "\n",
    "def wrapPattern(scale):\n",
    "    return patternMatch(test_preprocess, template, scale, 0)\n",
    "\n",
    "def patternMatch(test_preprocess, template, scale, angle, method=cv2.TM_SQDIFF):\n",
    "    # Resize the template based on the current scale\n",
    "    scaled_template = cv2.resize(template, None, fx=scale, fy=scale)\n",
    "    \n",
    "    # Rotate the template based on the current angle\n",
    "    rotation_matrix = cv2.getRotationMatrix2D((scaled_template.shape[1] / 2, scaled_template.shape[0] / 2), angle, 1.0)\n",
    "    rotated_template = cv2.warpAffine(scaled_template, rotation_matrix, (scaled_template.shape[1], scaled_template.shape[0]))\n",
    "        \n",
    "    mask = np.where(rotated_template == 0, 0, 255).astype(np.uint8)\n",
    "    # Perform template matching\n",
    "    \n",
    "    \n",
    "    result = cv2.matchTemplate(test_preprocess, rotated_template, method, mask=mask)\n",
    "    return ReturnValues(result, mask,rotated_template, scale, angle)\n",
    "\n",
    "def postprocess_results(result_list, scales, opt_max):\n",
    "    elem_list = [x.flatten() for x in result_list]\n",
    "    elem_list = np.hstack(elem_list)\n",
    "\n",
    "    if opt_max:\n",
    "        thresh = np.percentile(elem_list, 99.9)\n",
    "        loc_list = [x > thresh for x in result_list]\n",
    "    else:\n",
    "        thresh = np.percentile(elem_list, 0.1)\n",
    "        loc_list = [x < thresh for x in result_list]\n",
    "\n",
    "    votes = np.array([np.count_nonzero(x) for x in loc_list])\n",
    "    rescale_factor = np.sum(votes * scales) / np.sum(votes)\n",
    "\n",
    "    x_list = np.hstack([np.where(x)[0] for x in loc_list])\n",
    "    y_list = np.hstack([np.where(x)[1] for x in loc_list])\n",
    "\n",
    "    x = int(np.median(x_list))\n",
    "    y = int(np.median(y_list))\n",
    "\n",
    "    br = (int(y + template.shape[1] * rescale_factor), int(x + template.shape[0] * rescale_factor))\n",
    "    \n",
    "    return x, y, br, rescale_factor"
   ]
  },
  {
   "cell_type": "code",
   "execution_count": 4,
   "id": "93188853",
   "metadata": {},
   "outputs": [],
   "source": [
    "def wrapSearch(initial_guess, perturbance, retall=True):\n",
    "    scales = np.arange(initial_guess-perturbance, initial_guess+perturbance+1e-5, perturbance/2)\n",
    "\n",
    "    # Initialize a list to store the matches\n",
    "    all_matches = []\n",
    "\n",
    "    # Initialize variables to store the best match\n",
    "    best_match_scale = 1.0\n",
    "    best_match_angle = 0.0\n",
    "\n",
    "    opt_max = False\n",
    "\n",
    "    if opt_max:\n",
    "        best_match_value = -1 * np.inf\n",
    "    else:\n",
    "        best_match_value = np.inf\n",
    "\n",
    "    result_list = list()\n",
    "    best_loc_list = list()\n",
    "    rect_corner_list = list()\n",
    "\n",
    "    with ThreadPoolExecutor(max_workers=4) as executor:\n",
    "        for retvalue in tqdm(executor.map(wrapPattern, scales), total=len(scales)):\n",
    "\n",
    "            mask = retvalue.mask\n",
    "            result = retvalue.result\n",
    "            rotated_template = retvalue.rotated_template\n",
    "            scale = retvalue.scale\n",
    "            angle = retvalue.angle\n",
    "            if not opt_max:\n",
    "                result = np.sqrt(result / np.count_nonzero(mask))\n",
    "\n",
    "            result_list.append(result)\n",
    "            min_val, max_val, min_loc, max_loc = cv2.minMaxLoc(result)\n",
    "\n",
    "            if opt_max:\n",
    "                best_val = max_val\n",
    "                best_loc = max_loc\n",
    "                bottom_right = (best_loc[0] + int(rotated_template.shape[1]), best_loc[1] + int(rotated_template.shape[0]))\n",
    "\n",
    "                best_loc_list.append(best_loc)\n",
    "                rect_corner_list.append(bottom_right)\n",
    "\n",
    "            else:\n",
    "                best_val = min_val\n",
    "                best_loc = min_loc\n",
    "                bottom_right = (best_loc[0] + int(rotated_template.shape[1]), best_loc[1] + int(rotated_template.shape[0]))\n",
    "                best_loc_list.append(best_loc)\n",
    "                rect_corner_list.append(bottom_right)            \n",
    "\n",
    "            print(scale, angle, best_val)\n",
    "        \n",
    "        postprocess = postprocess_results(result_list, scales, opt_max)\n",
    "    \n",
    "    if not retall:\n",
    "        return postprocess[3]\n",
    "    return postprocess"
   ]
  },
  {
   "cell_type": "code",
   "execution_count": 5,
   "id": "3b399792",
   "metadata": {
    "scrolled": false
   },
   "outputs": [
    {
     "data": {
      "application/vnd.jupyter.widget-view+json": {
       "model_id": "4760a12838c44452a3480572d303a140",
       "version_major": 2,
       "version_minor": 0
      },
      "text/plain": [
       "  0%|          | 0/5 [00:00<?, ?it/s]"
      ]
     },
     "metadata": {},
     "output_type": "display_data"
    },
    {
     "name": "stdout",
     "output_type": "stream",
     "text": [
      "0.7000000000000001 0 216.62223399738718\n",
      "0.7500000000000001 0 215.6942329081225\n",
      "0.8000000000000002 0 216.78464493077408\n",
      "0.8500000000000002 0 204.41115459919004\n",
      "0.9000000000000002 0 208.84378380878118\n",
      "New Guess: 0.868405879365459\n"
     ]
    },
    {
     "data": {
      "application/vnd.jupyter.widget-view+json": {
       "model_id": "58915d71c552464cab3c62781686c634",
       "version_major": 2,
       "version_minor": 0
      },
      "text/plain": [
       "  0%|          | 0/5 [00:00<?, ?it/s]"
      ]
     },
     "metadata": {},
     "output_type": "display_data"
    },
    {
     "name": "stdout",
     "output_type": "stream",
     "text": [
      "0.8184058793654589 0 215.9508292292257\n",
      "0.843405879365459 0 206.19018216747364\n",
      "0.868405879365459 0 180.93880574374046\n",
      "0.893405879365459 0 206.6386741173798\n",
      "0.918405879365459 0 212.63262653488525\n",
      "New Guess: 0.868405879365459\n"
     ]
    },
    {
     "data": {
      "application/vnd.jupyter.widget-view+json": {
       "model_id": "0da3dec195a44f1ab07eb814c8706b31",
       "version_major": 2,
       "version_minor": 0
      },
      "text/plain": [
       "  0%|          | 0/5 [00:00<?, ?it/s]"
      ]
     },
     "metadata": {},
     "output_type": "display_data"
    },
    {
     "name": "stdout",
     "output_type": "stream",
     "text": [
      "0.843405879365459 0 206.19018216747364\n",
      "0.8559058793654589 0 203.9508696244984\n",
      "0.8684058793654589 0 180.93880574374046\n",
      "0.8809058793654588 0 190.5873356924205\n",
      "0.8934058793654588 0 206.6386741173798\n",
      "New Guess: 0.8705303580813294\n"
     ]
    },
    {
     "data": {
      "application/vnd.jupyter.widget-view+json": {
       "model_id": "91d7022d193248ebb83b9bc9b83e77b1",
       "version_major": 2,
       "version_minor": 0
      },
      "text/plain": [
       "  0%|          | 0/5 [00:00<?, ?it/s]"
      ]
     },
     "metadata": {},
     "output_type": "display_data"
    },
    {
     "name": "stdout",
     "output_type": "stream",
     "text": [
      "0.8580303580813294 0 201.06806545887088\n",
      "0.8642803580813294 0 183.98855551085148\n",
      "0.8705303580813294 0 180.74920454884904\n",
      "0.8767803580813294 0 186.84215725664637\n",
      "0.8830303580813293 0 194.825116455651\n",
      "New Guess: 0.8698789292739293\n"
     ]
    }
   ],
   "source": [
    "curr_guess = 0.8\n",
    "perturbations = [0.1, 0.05, 0.025, 0.0125]\n",
    "\n",
    "for i, pert in enumerate(perturbations):\n",
    "    x, y, br, rescale_factor = wrapSearch(curr_guess, pert)\n",
    "    curr_guess = rescale_factor\n",
    "    print(f\"New Guess: {curr_guess}\")"
   ]
  },
  {
   "cell_type": "code",
   "execution_count": 6,
   "id": "7d0d5542",
   "metadata": {},
   "outputs": [
    {
     "data": {
      "text/plain": [
       "0.8698789292739293"
      ]
     },
     "execution_count": 6,
     "metadata": {},
     "output_type": "execute_result"
    }
   ],
   "source": [
    "rescale_factor"
   ]
  },
  {
   "cell_type": "code",
   "execution_count": 7,
   "id": "1b9c3b52",
   "metadata": {},
   "outputs": [],
   "source": [
    "three_band = np.dstack([test_preprocess,test_preprocess,test_preprocess])\n",
    "    \n",
    "# _ = cv2.rectangle(three_band, best_match_loc, best_match_br, (0, 0, 255), 5)\n",
    "_ = cv2.rectangle(three_band, (y, x), br, (0, 255, 0), 5)"
   ]
  },
  {
   "cell_type": "code",
   "execution_count": 8,
   "id": "3d147836",
   "metadata": {},
   "outputs": [
    {
     "data": {
      "text/plain": [
       "True"
      ]
     },
     "execution_count": 8,
     "metadata": {},
     "output_type": "execute_result"
    }
   ],
   "source": [
    "cv2.imwrite('testout.png', three_band)"
   ]
  },
  {
   "cell_type": "code",
   "execution_count": 33,
   "id": "467f8383",
   "metadata": {},
   "outputs": [],
   "source": [
    "tfw_file        = \"Harris_Boundary_hollow.pgw\"\n",
    "template_affine = get_affine_from_geotransform(get_geotransform_from_tfw(tfw_file)[0])\n",
    "calc_affine     = Affine(1 / rescale_factor, 0, -y, 0, 1 / rescale_factor, -x)\n",
    "\n",
    "def write_world_file(affine, filename):\n",
    "    with open(filename, 'w') as file:\n",
    "        file.write(f'{affine.a}\\n')\n",
    "        file.write(f'{affine.d}\\n')\n",
    "        file.write(f'{affine.b}\\n')\n",
    "        file.write(f'{affine.e}\\n')\n",
    "        file.write(f'{affine.c}\\n')\n",
    "        file.write(f'{affine.f}\\n')"
   ]
  },
  {
   "cell_type": "code",
   "execution_count": 34,
   "id": "e6735627",
   "metadata": {},
   "outputs": [],
   "source": [
    "# out_affine = combineAffine(template_affine, calc_affine)\n",
    "out_affine = template_affine * calc_affine\n",
    "write_world_file(out_affine, \"data/TileIndices/48201CIND0_0992.tfw\")"
   ]
  }
 ],
 "metadata": {
  "kernelspec": {
   "display_name": "Python 3 (ipykernel)",
   "language": "python",
   "name": "python3"
  },
  "language_info": {
   "codemirror_mode": {
    "name": "ipython",
    "version": 3
   },
   "file_extension": ".py",
   "mimetype": "text/x-python",
   "name": "python",
   "nbconvert_exporter": "python",
   "pygments_lexer": "ipython3",
   "version": "3.7.10"
  }
 },
 "nbformat": 4,
 "nbformat_minor": 5
}
