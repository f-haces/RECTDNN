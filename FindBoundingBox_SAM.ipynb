{
 "cells": [
  {
   "cell_type": "code",
   "execution_count": 1,
   "id": "af66f8d3",
   "metadata": {},
   "outputs": [],
   "source": [
    "# GENERAL PYTHON IMPORTS\n",
    "import os\n",
    "import glob\n",
    "import numpy as np\n",
    "from tqdm.notebook import tqdm\n",
    "from itertools import product\n",
    "from concurrent.futures import ThreadPoolExecutor\n",
    "\n",
    "# IMAGE IMPORTS\n",
    "import cv2\n",
    "from PIL import Image\n",
    "\n",
    "# GIS IMPORTS\n",
    "import fiona\n",
    "import rasterio as rio\n",
    "from rasterio.crs import CRS\n",
    "from affine import Affine\n",
    "from shapely.geometry import shape, mapping\n",
    "\n",
    "# PLOTTING IMPORTS\n",
    "import matplotlib.pyplot as plt\n",
    "import matplotlib.patches as patches\n",
    "\n",
    "# PYTORCH IMPORTS\n",
    "import torch\n",
    "import torch.nn as nn\n",
    "import torchvision.transforms as transforms\n",
    "\n",
    "# CUSTOM UTILITIES\n",
    "from WorldFileUtils import *\n",
    "from icp import *\n",
    "\n",
    "Image.MAX_IMAGE_PIXELS = 933120000"
   ]
  },
  {
   "cell_type": "code",
   "execution_count": 2,
   "id": "e4722bc8",
   "metadata": {},
   "outputs": [],
   "source": [
    "templates_dir = \"data/templates/\"\n",
    "tempfiles_dir = \"tempfiles/\""
   ]
  },
  {
   "cell_type": "code",
   "execution_count": 3,
   "id": "57a4bcab",
   "metadata": {},
   "outputs": [
    {
     "data": {
      "text/plain": [
       "True"
      ]
     },
     "execution_count": 3,
     "metadata": {},
     "output_type": "execute_result"
    }
   ],
   "source": [
    "def prep(image):\n",
    "    image = np.asarray(image).astype(np.uint8)\n",
    "    image = np.uint8(255 - image)\n",
    "    return image\n",
    "\n",
    "def prepedges(image, dilate_iterations=30):\n",
    "    image = np.asarray(image).astype(np.uint8)\n",
    "    image = cv2.Canny(image,50,100)\n",
    "    image = cv2.dilate(image, np.ones((3,3), np.uint8), iterations=dilate_iterations)\n",
    "    return np.asarray(image ).astype(np.uint8)\n",
    "\n",
    "# REFERENCE IMAGE FROM QGIS\n",
    "template = prep(Image.open(f\"{templates_dir}Harris_Boundary_hollow.png\"))[:,:,0]\n",
    "cv2.imwrite(f\"{tempfiles_dir}template.png\", template)\n",
    "\n",
    "# TILE INDEX TO TEST ON\n",
    "image    = prepedges(Image.open(f\"{tempfiles_dir}masks_black.png\"))\n",
    "cv2.imwrite(f\"{tempfiles_dir}coarsematching.png\", image)\n",
    "image  = prepedges(Image.open(f\"{tempfiles_dir}masks_black.png\"), dilate_iterations=0)\n",
    "cv2.imwrite(f\"{tempfiles_dir}border.png\", image)"
   ]
  },
  {
   "cell_type": "code",
   "execution_count": 4,
   "id": "a9ed4fa4",
   "metadata": {},
   "outputs": [],
   "source": [
    "class ReturnValues:\n",
    "    def __init__(self, _result, _mask, _rotated_template, _scale, _angle):\n",
    "        self.result = _result\n",
    "        self.mask = _mask\n",
    "        self.rotated_template = _rotated_template\n",
    "        self.scale = _scale\n",
    "        self.angle = _angle\n",
    "\n",
    "class InputValues:\n",
    "    def __init__(self, scale, angle):\n",
    "        self.angle = angle\n",
    "        self.scale = scale\n",
    "    def __str__(self):\n",
    "        return f\"{self.scale} {self.scale}\"\n",
    "        \n",
    "def wrapPatternMatch(inputvalue):\n",
    "    \"\"\"\n",
    "    Wrapper function for pattern match to only have one input for multithreading\n",
    "\n",
    "    Args:\n",
    "        inputvalue:  Custom class with values for function\n",
    "\n",
    "    Returns:\n",
    "        RVs          Custom wrapper class with required values\n",
    "    \"\"\"\n",
    "    return patternMatch(image, template, inputvalue.scale, inputvalue.angle)\n",
    "\n",
    "def patternMatch(image, template, scale, angle, method=cv2.TM_SQDIFF):\n",
    "    \"\"\"\n",
    "    Pattern matching with rescaling and rotating. \n",
    "\n",
    "    Args:\n",
    "        image:       Image to template match (2D array)\n",
    "        template:    Template to use for matching (2D array)\n",
    "        scale:       Scale for which to rescale as percent of original image width\n",
    "        angle:       Angle to which to rotate template\n",
    "        method:      Method to use for template matching\n",
    "\n",
    "    Returns:\n",
    "        RVs          Custom wrapper class with required values\n",
    "    \"\"\"\n",
    "    \n",
    "    # RESIZE THE TEMPLATE TO APPROPRIATE SCALE\n",
    "    scaled_template = cv2.resize(template, None, fx=scale, fy=scale)\n",
    "    \n",
    "    # ROTATE THE TEMPLATE TO APPROPRIATE ANGLE\n",
    "    rotation_matrix = cv2.getRotationMatrix2D((scaled_template.shape[1] / 2, scaled_template.shape[0] / 2), angle, 1.0)\n",
    "    rotated_template = cv2.warpAffine(scaled_template, rotation_matrix, (scaled_template.shape[1], scaled_template.shape[0]))\n",
    "    \n",
    "    # CREATE MASK TO NOT COUNT ZEROS IN TEMPLATE\n",
    "    mask = np.where(rotated_template == 0, 0, 255).astype(np.uint8)\n",
    "    \n",
    "    # RUN PATTERNMATCHING\n",
    "    result = cv2.matchTemplate(image, rotated_template, method, mask=mask)    \n",
    "    return ReturnValues(result, mask,rotated_template, scale, angle)\n",
    "\n",
    "def postprocess_results(result_list, scales, angles, opt_max, thresh):\n",
    "    \"\"\"\n",
    "    This converts the results from the patternmatching workflow to \n",
    "    actionable information as described below\n",
    "\n",
    "    Args:\n",
    "        result_list: List of 2D arrays containing results from pattern matching\n",
    "        scales:      1D array of scales used for current pattern matching \n",
    "        angles:      1D array of angles used for current pattern matching \n",
    "        opt_max:     Flag indicating whether best is Max or Min. False = Min\n",
    "        thresh:      Threshold to use for voting members\n",
    "\n",
    "    Returns:\n",
    "        x:           Best predicted X for pattern matching\n",
    "        y:           Best predicted Y for pattern matching\n",
    "        br:          Tuple containing (X, Y) coordinates of predicted bottom right corner\n",
    "        rf:          Predicted rescale factor\n",
    "        ang:         Predicted angle\n",
    "    \"\"\"\n",
    "    \n",
    "    # FLATTEN ALL ARRAYS TO CALCULATE CUTOFF VALUES FOR CANDIATES\n",
    "    elem_list = [x.flatten() for x in result_list]\n",
    "    elem_list = np.hstack(elem_list)\n",
    "    \n",
    "    # CUTOFF VALUES FOR CANDIDATES\n",
    "    if opt_max:\n",
    "        thresh = np.percentile(elem_list, 1-thresh)\n",
    "        print(f\"Voting members from {thresh:.2f} to {np.max(elem_list):.2f}\")\n",
    "        loc_list = [x >= thresh for x in result_list]\n",
    "    else:\n",
    "        thresh = np.percentile(elem_list, thresh)\n",
    "        print(f\"Voting members from {thresh} to {np.min(elem_list)}\")\n",
    "        loc_list = [x <= thresh for x in result_list]\n",
    "    \n",
    "    # VOTES ON DIFFERENT PATTERN MATCHING AT DIFFERENT VALUES\n",
    "    votes = np.array([np.count_nonzero(x) for x in loc_list])\n",
    "    \n",
    "    rf  = np.sum(votes * scales) / np.sum(votes)\n",
    "    ang = np.sum(votes * angles) / np.sum(votes)\n",
    "    \n",
    "    # LIST OF X AND Y VALUES\n",
    "    x_list = np.hstack([np.where(x)[0] for x in loc_list])\n",
    "    y_list = np.hstack([np.where(x)[1] for x in loc_list])\n",
    "    \n",
    "    # RETURN MEDIAN OF VALUES\n",
    "    x = int(np.median(x_list))\n",
    "    y = int(np.median(y_list))\n",
    "    \n",
    "    # BOTTOM RIGHT VALUE\n",
    "    br = (int(y + template.shape[1] * rf), int(x + template.shape[0] * rf))\n",
    "    \n",
    "    return x, y, br, rf, ang"
   ]
  },
  {
   "cell_type": "code",
   "execution_count": 5,
   "id": "93188853",
   "metadata": {},
   "outputs": [],
   "source": [
    "def SearchOptimalMatch(initial_guess, perturbance, \n",
    "                       angle=0, \n",
    "                       change_ang=None, \n",
    "                       retall=True, \n",
    "                       rngpert=2,\n",
    "                       voting_thresh=0.1):\n",
    "    \n",
    "    # WHICH ANGLES AND SCALES TO SEARCH\n",
    "    if change_ang is None:\n",
    "        scales = np.arange(initial_guess-perturbance, initial_guess+perturbance+1e-5, perturbance/rngpert)\n",
    "        inputs = [InputValues(scale, angle) for scale in scales]\n",
    "        angles = [0]\n",
    "    else:\n",
    "        scales = np.arange(initial_guess-perturbance, initial_guess+perturbance+1e-5, perturbance/rngpert)\n",
    "        angles = np.arange(angle-change_ang, angle+change_ang+1e-5, change_ang/2)\n",
    "        inputs = [InputValues(scale, angle) for scale, angle in product(scales, angles)]\n",
    "        scales = [IV.scale for IV in inputs]\n",
    "        angles  = [IV.angle for IV in inputs]\n",
    "                \n",
    "    # INITIALIZE BEST MATCH VARIABLES\n",
    "    best_match_scale = 1.0\n",
    "    best_match_angle = 0.0\n",
    "    \n",
    "    # IS BEST MAX OR MIN? FALSE = MIN\n",
    "    opt_max = False\n",
    "    if opt_max:\n",
    "        best_match_value = -1 * np.inf\n",
    "    else:\n",
    "        best_match_value = np.inf\n",
    "        \n",
    "    result_list = list()\n",
    "    best_loc_list = list()\n",
    "    rect_corner_list = list()\n",
    "\n",
    "    with ThreadPoolExecutor(max_workers=8) as executor:\n",
    "        for retvalue in tqdm(executor.map(wrapPatternMatch, inputs), total=len(inputs)):\n",
    "\n",
    "            mask = retvalue.mask\n",
    "            result = retvalue.result\n",
    "            rotated_template = retvalue.rotated_template\n",
    "            scale = retvalue.scale\n",
    "            angle = retvalue.angle\n",
    "            if not opt_max:\n",
    "                result = np.sqrt(result / np.count_nonzero(mask))\n",
    "\n",
    "            result_list.append(result)\n",
    "            min_val, max_val, min_loc, max_loc = cv2.minMaxLoc(result)\n",
    "\n",
    "            if opt_max:\n",
    "                best_val = max_val\n",
    "                best_loc = max_loc\n",
    "                bottom_right = (best_loc[0] + int(rotated_template.shape[1]), best_loc[1] + int(rotated_template.shape[0]))\n",
    "\n",
    "                best_loc_list.append(best_loc)\n",
    "                rect_corner_list.append(bottom_right)\n",
    "\n",
    "            else:\n",
    "                best_val = min_val\n",
    "                best_loc = min_loc\n",
    "                bottom_right = (best_loc[0] + int(rotated_template.shape[1]), best_loc[1] + int(rotated_template.shape[0]))\n",
    "                best_loc_list.append(best_loc)\n",
    "                rect_corner_list.append(bottom_right)            \n",
    "\n",
    "            print(f\"{scale:.3f} {angle} {best_val:3f}\")\n",
    "        \n",
    "        postprocess = postprocess_results(result_list, scales, angles, opt_max, voting_thresh)\n",
    "    \n",
    "    if not retall:\n",
    "        return postprocess[3]\n",
    "    return postprocess"
   ]
  },
  {
   "cell_type": "code",
   "execution_count": 6,
   "id": "5bcec29e",
   "metadata": {},
   "outputs": [
    {
     "data": {
      "application/vnd.jupyter.widget-view+json": {
       "model_id": "37872c280bbf4301a969fae75813e4fe",
       "version_major": 2,
       "version_minor": 0
      },
      "text/plain": [
       "  0%|          | 0/5 [00:00<?, ?it/s]"
      ]
     },
     "metadata": {},
     "output_type": "display_data"
    },
    {
     "name": "stdout",
     "output_type": "stream",
     "text": [
      "0.700 0 240.085251\n",
      "0.750 0 239.914212\n",
      "0.800 0 239.908004\n",
      "0.850 0 239.957525\n",
      "0.900 0 239.941018\n",
      "Voting members from 240.1567513922422 to 239.90800434548157\n",
      "New Guess: 0.7928748543602308 0.0\n"
     ]
    },
    {
     "data": {
      "application/vnd.jupyter.widget-view+json": {
       "model_id": "e67974b28fd6443eaf990e09f81ae0f9",
       "version_major": 2,
       "version_minor": 0
      },
      "text/plain": [
       "  0%|          | 0/5 [00:00<?, ?it/s]"
      ]
     },
     "metadata": {},
     "output_type": "display_data"
    },
    {
     "name": "stdout",
     "output_type": "stream",
     "text": [
      "0.743 0 240.172268\n",
      "0.768 0 240.277662\n",
      "0.793 0 240.151674\n",
      "0.818 0 240.088293\n",
      "0.843 0 240.058947\n",
      "Voting members from 240.38073206138156 to 240.0589466566056\n",
      "New Guess: 0.8083063140764478 0.0\n"
     ]
    },
    {
     "data": {
      "application/vnd.jupyter.widget-view+json": {
       "model_id": "ade4fec0b7054a52b4ce4382970a6699",
       "version_major": 2,
       "version_minor": 0
      },
      "text/plain": [
       "  0%|          | 0/5 [00:00<?, ?it/s]"
      ]
     },
     "metadata": {},
     "output_type": "display_data"
    },
    {
     "name": "stdout",
     "output_type": "stream",
     "text": [
      "0.783 0 240.095956\n",
      "0.796 0 240.158452\n",
      "0.808 0 240.083841\n",
      "0.821 0 240.135929\n",
      "0.833 0 240.013730\n",
      "Voting members from 240.34794207398767 to 240.0137301010282\n",
      "New Guess: 0.8210904670819122 0.0\n"
     ]
    },
    {
     "data": {
      "application/vnd.jupyter.widget-view+json": {
       "model_id": "5b188be78d5647d2b80910be1bd08507",
       "version_major": 2,
       "version_minor": 0
      },
      "text/plain": [
       "  0%|          | 0/5 [00:00<?, ?it/s]"
      ]
     },
     "metadata": {},
     "output_type": "display_data"
    },
    {
     "name": "stdout",
     "output_type": "stream",
     "text": [
      "0.809 0 240.072309\n",
      "0.815 0 240.133632\n",
      "0.821 0 240.077449\n",
      "0.827 0 240.107634\n",
      "0.834 0 240.089163\n",
      "Voting members from 240.36239231269835 to 240.07230894816567\n",
      "New Guess: 0.8234305545085288 0.0\n"
     ]
    }
   ],
   "source": [
    "curr_guess = 0.8\n",
    "perturbations = [0.1, 0.05, 0.025, 0.0125]\n",
    "\n",
    "for i, pert in enumerate(perturbations):\n",
    "    x, y, br, rescale_factor, angle = SearchOptimalMatch(curr_guess, pert)\n",
    "    curr_guess = rescale_factor\n",
    "    print(f\"New Guess: {curr_guess} {angle}\")\n",
    "\n",
    "#ang_search = 1\n",
    "#x, y, br, rescale_factor, angle = SearchOptimalMatch(curr_guess, perturbations[-1], \n",
    "#                                                     change_ang=ang_search,\n",
    "#                                                     voting_thresh=1e-3\n",
    "#                                                    )\n",
    "#curr_guess = rescale_factor\n",
    "\n",
    "#print(f\"New Guess: {curr_guess} {angle}\")\n",
    "#print(rescale_factor)"
   ]
  },
  {
   "cell_type": "code",
   "execution_count": 7,
   "id": "1b9c3b52",
   "metadata": {},
   "outputs": [],
   "source": [
    "three_band = np.dstack([image, image, image])\n",
    "_ = cv2.rectangle(three_band, (y, x), br, (0, 255, 0), 5)"
   ]
  },
  {
   "cell_type": "code",
   "execution_count": 8,
   "id": "e7c1eaea",
   "metadata": {},
   "outputs": [],
   "source": [
    "tfw_file        = f\"{templates_dir}Harris_Boundary_hollow.pgw\"\n",
    "template_affine = get_affine_from_geotransform(get_geotransform_from_tfw(tfw_file)[0])\n",
    "calc_affine     = Affine(1 / rescale_factor, 0, -y, 0, 1 / rescale_factor, -x) * Affine.rotation(angle)"
   ]
  },
  {
   "cell_type": "code",
   "execution_count": 9,
   "id": "a793b040",
   "metadata": {},
   "outputs": [],
   "source": [
    "# out_affine = combineAffine(template_affine, calc_affine)\n",
    "out_affine = template_affine * calc_affine\n",
    "write_world_file_from_affine(out_affine, \"data/TileIndices/48201CIND0_0992.tfw\")"
   ]
  }
 ],
 "metadata": {
  "kernelspec": {
   "display_name": "Python 3 (ipykernel)",
   "language": "python",
   "name": "python3"
  },
  "language_info": {
   "codemirror_mode": {
    "name": "ipython",
    "version": 3
   },
   "file_extension": ".py",
   "mimetype": "text/x-python",
   "name": "python",
   "nbconvert_exporter": "python",
   "pygments_lexer": "ipython3",
   "version": "3.7.10"
  }
 },
 "nbformat": 4,
 "nbformat_minor": 5
}
