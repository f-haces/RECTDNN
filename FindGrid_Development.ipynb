{
 "cells": [
  {
   "cell_type": "code",
   "execution_count": 1,
   "id": "6b80c117",
   "metadata": {},
   "outputs": [
    {
     "name": "stderr",
     "output_type": "stream",
     "text": [
      "Cannot find header.dxf (GDAL_DATA is not defined)\n"
     ]
    }
   ],
   "source": [
    "# PYTHON IMPORTS\n",
    "import os, copy, math\n",
    "from tqdm.notebook import trange, tqdm\n",
    "\n",
    "# IMAGE IMPORTS \n",
    "from PIL import Image\n",
    "\n",
    "# DATA IMPORTS \n",
    "import random, h5py, glob\n",
    "import numpy as np\n",
    "\n",
    "# PLOTTING\n",
    "import matplotlib.pyplot as plt\n",
    "import matplotlib.cm as cm\n",
    "\n",
    "# SHAPES IMPORTS\n",
    "import shapely\n",
    "import geopandas as gpd\n",
    "from shapely.ops import unary_union\n",
    "from shapely.geometry import LineString, Polygon\n",
    "\n",
    "# MY OWN CLASSES\n",
    "from FindGrid import *\n",
    "\n",
    "# OCR libraries\n",
    "import pytesseract\n",
    "from fuzzywuzzy import fuzz\n",
    "import re\n",
    "\n",
    "# INITIALIZE\n",
    "t_path = r'C:\\Users\\fhacesga\\AppData\\Local\\Programs\\Tesseract-OCR\\tesseract.exe'\n",
    "pytesseract.pytesseract.tesseract_cmd = t_path\n",
    "\n",
    "# PREFERENCES\n",
    "Image.MAX_IMAGE_PIXELS = 933120000"
   ]
  },
  {
   "cell_type": "code",
   "execution_count": 2,
   "id": "4ea11617",
   "metadata": {
    "scrolled": true
   },
   "outputs": [],
   "source": [
    "data_dir = r\"C:\\Users\\fhacesga\\OneDrive - University Of Houston\\AAA_RECTDNN\\data/\"\n",
    "\n",
    "prep_folder   = f\"{data_dir}TileLocator/in_prepped_v2/\"    \n",
    "output_folder = f\"{data_dir}TileLocator/out_v2/\"\n",
    "\n",
    "image_path = f'{data_dir}TileLocator/in_prepped_v2/48071CIND0A.tif'\n",
    " "
   ]
  },
  {
   "cell_type": "markdown",
   "id": "d11b785e",
   "metadata": {},
   "source": [
    "Run images through CNNs"
   ]
  },
  {
   "cell_type": "code",
   "execution_count": 3,
   "id": "59844cb3",
   "metadata": {},
   "outputs": [
    {
     "name": "stderr",
     "output_type": "stream",
     "text": [
      "C:\\Users\\fhacesga\\Anaconda3\\envs\\deeplearning\\lib\\site-packages\\torchvision\\models\\_utils.py:209: UserWarning: The parameter 'pretrained' is deprecated since 0.13 and may be removed in the future, please use 'weights' instead.\n",
      "  f\"The parameter '{pretrained_param}' is deprecated since 0.13 and may be removed in the future, \"\n",
      "C:\\Users\\fhacesga\\Anaconda3\\envs\\deeplearning\\lib\\site-packages\\torchvision\\models\\_utils.py:223: UserWarning: Arguments other than a weight enum or `None` for 'weights' are deprecated since 0.13 and may be removed in the future. The current behavior is equivalent to passing `weights=ResNet34_Weights.IMAGENET1K_V1`. You can also use `weights=ResNet34_Weights.DEFAULT` to get the most up-to-date weights.\n",
      "  warnings.warn(msg)\n"
     ]
    },
    {
     "data": {
      "application/vnd.jupyter.widget-view+json": {
       "model_id": "65a2462af9f24d5e89c17e0ee32bee63",
       "version_major": 2,
       "version_minor": 0
      },
      "text/plain": [
       "  0%|          | 0/15 [00:00<?, ?it/s]"
      ]
     },
     "metadata": {},
     "output_type": "display_data"
    },
    {
     "name": "stderr",
     "output_type": "stream",
     "text": [
      "C:\\Users\\fhacesga\\Desktop\\FIRMsDigitizing\\RECTDNN\\TileLocator.py:93: UserWarning: Implicit dimension choice for softmax has been deprecated. Change the call to include dim=X as an argument.\n",
      "  output = self.softmax(output)\n",
      "C:\\Users\\fhacesga\\Desktop\\FIRMsDigitizing\\RECTDNN\\SquareLocator.py:94: UserWarning: Implicit dimension choice for softmax has been deprecated. Change the call to include dim=X as an argument.\n",
      "  output = self.softmax(output)\n"
     ]
    }
   ],
   "source": [
    "# Load the image\n",
    "image = cv2.imread(image_path)\n",
    "image = cv2.cvtColor(image, cv2.COLOR_BGR2GRAY)\n",
    "\n",
    "classifications, classModel = findKeypoints(image)\n",
    "effectiveArea, effectiveAreaModel = findSquares(image)"
   ]
  },
  {
   "cell_type": "markdown",
   "id": "850e086a",
   "metadata": {},
   "source": [
    "Get largest section of mask image"
   ]
  },
  {
   "cell_type": "code",
   "execution_count": 4,
   "id": "38d49d51",
   "metadata": {},
   "outputs": [],
   "source": [
    "image_or = cv2.imread(image_path)\n",
    "image = cv2.cvtColor(image_or, cv2.COLOR_BGR2GRAY)\n",
    "image = cv2.resize(image, (512, 512)) \n",
    "\n",
    "a, b, c = identifyBiggestContour(effectiveArea[:, :, 1])\n",
    "image_mask = cv2.drawContours(a[:, :, 0] * 0, contours=[c],contourIdx=-1, \n",
    "                              color=(255), thickness=cv2.FILLED)"
   ]
  },
  {
   "cell_type": "markdown",
   "id": "cd9abeea",
   "metadata": {},
   "source": [
    "Detect lines"
   ]
  },
  {
   "cell_type": "code",
   "execution_count": 5,
   "id": "1ea9ce04",
   "metadata": {
    "scrolled": true
   },
   "outputs": [],
   "source": [
    "lines, result_image, scale_x, scale_y = line_detection(classifications, effectiveArea)"
   ]
  },
  {
   "cell_type": "markdown",
   "id": "c87ec516",
   "metadata": {},
   "source": [
    "Calculate angles and filter by two most popular angles"
   ]
  },
  {
   "cell_type": "code",
   "execution_count": 6,
   "id": "5c0de9ca",
   "metadata": {},
   "outputs": [],
   "source": [
    "angles = calcAngles(lines)\n",
    "\n",
    "# FILTER BY MOST POPULAR ANGLES\n",
    "line_angles, line_indices, sorted_idx = filterLines_MostPopularAngles(np.array(angles), 0.5)\n",
    "\n",
    "# GET RESCALED lines\n",
    "rescaled_lines_ordered = np.array(lines)[sorted_idx]\n",
    "filtered_lines = rescaled_lines_ordered[np.concatenate(line_indices).flatten()]"
   ]
  },
  {
   "cell_type": "markdown",
   "id": "0d2412ad",
   "metadata": {},
   "source": [
    "Extend lines to edges and filter by distance between lines"
   ]
  },
  {
   "cell_type": "code",
   "execution_count": 7,
   "id": "7db41567",
   "metadata": {},
   "outputs": [],
   "source": [
    "extended_lines = extend_lines_to_edges(filtered_lines, image_or.shape)\n",
    "\n",
    "# Filter lines by distance between endpoints\n",
    "min_distance = 50 * np.sqrt(scale_x ** 2 + scale_y ** 2)\n",
    "filtered_lines, filtered_idx = filter_lines_by_distance(extended_lines, min_distance)"
   ]
  },
  {
   "cell_type": "markdown",
   "id": "05b5d42a",
   "metadata": {},
   "source": [
    "Clip lines"
   ]
  },
  {
   "cell_type": "code",
   "execution_count": 8,
   "id": "75b56fd5",
   "metadata": {},
   "outputs": [
    {
     "name": "stderr",
     "output_type": "stream",
     "text": [
      "C:\\Users\\fhacesga\\Desktop\\FIRMsDigitizing\\RECTDNN\\FindGrid.py:302: ShapelyDeprecationWarning: Iteration over multi-part geometries is deprecated and will be removed in Shapely 2.0. Use the `geoms` property to access the constituent parts of a multi-part geometry.\n",
      "  for linestring in linestrings:\n"
     ]
    }
   ],
   "source": [
    "lines_shp   = lines_to_linestrings(filtered_lines)\n",
    "split_lines = linestrings_to_lines(unary_union(lines_shp))"
   ]
  },
  {
   "cell_type": "markdown",
   "id": "9c67cbde",
   "metadata": {},
   "source": [
    " Run lines on overlap with image and detect which are actually lines in image"
   ]
  },
  {
   "cell_type": "code",
   "execution_count": 9,
   "id": "557fe371",
   "metadata": {
    "scrolled": true
   },
   "outputs": [
    {
     "data": {
      "application/vnd.jupyter.widget-view+json": {
       "model_id": "46d2aebd05c94644a1ddf6911a38873f",
       "version_major": 2,
       "version_minor": 0
      },
      "text/plain": [
       "  0%|          | 0/275 [00:00<?, ?it/s]"
      ]
     },
     "metadata": {},
     "output_type": "display_data"
    }
   ],
   "source": [
    "# INVERT AND MAX TO 1\n",
    "image_or_b = np.asarray(255 - image_or) // 255\n",
    "\n",
    "if image_or_b.ndim == 3:\n",
    "    image_or_b = image_or_b[:, :, 0]\n",
    "\n",
    "overlapping_lines, overlap_image = get_overlapping_lines(split_lines, \n",
    "                                                         image_or_b, \n",
    "                                                         0.8,)"
   ]
  },
  {
   "cell_type": "markdown",
   "id": "012b0384",
   "metadata": {},
   "source": [
    "Convert lines to an image in which we identify contours"
   ]
  },
  {
   "cell_type": "code",
   "execution_count": 10,
   "id": "d31c734b",
   "metadata": {},
   "outputs": [],
   "source": [
    "bw_bounds = draw_lines_to_image(overlapping_lines, (image_or.shape[1], image_or.shape[0]))\n",
    "contours, hierarchy = cv2.findContours(bw_bounds, cv2.RETR_CCOMP, cv2.CHAIN_APPROX_NONE)"
   ]
  },
  {
   "cell_type": "markdown",
   "id": "f8656282",
   "metadata": {},
   "source": [
    "Test which squares are identified"
   ]
  },
  {
   "cell_type": "code",
   "execution_count": 11,
   "id": "6a8fde93",
   "metadata": {},
   "outputs": [],
   "source": [
    "if False:\n",
    "    filled_image = np.zeros(image_or.shape)\n",
    "\n",
    "    # Fill innermost contours with random colors\n",
    "    for idx, contour in enumerate(contours):\n",
    "        if hierarchy[0][idx][3] == 0:  # If contour has no child contours\n",
    "            color = (random.randint(0, 255), random.randint(0, 255), random.randint(0, 255))\n",
    "            cv2.drawContours(filled_image, [contour], -1, color, thickness=cv2.FILLED)\n",
    "    cv2.imwrite(\"test.png\", filled_image)"
   ]
  },
  {
   "cell_type": "markdown",
   "id": "1f42e8e5",
   "metadata": {},
   "source": [
    "Find which squares have a given text"
   ]
  },
  {
   "cell_type": "code",
   "execution_count": 12,
   "id": "c348f0c4",
   "metadata": {},
   "outputs": [
    {
     "data": {
      "application/vnd.jupyter.widget-view+json": {
       "model_id": "60f08e7f48da47b1a4dffc3acaec0c71",
       "version_major": 2,
       "version_minor": 0
      },
      "text/plain": [
       "  0%|          | 0/64 [00:00<?, ?it/s]"
      ]
     },
     "metadata": {},
     "output_type": "display_data"
    },
    {
     "name": "stdout",
     "output_type": "stream",
     "text": [
      "1\n",
      "____________________________________\n",
      "['48071C0540E', 'E']\n",
      "100 48071C0540E\n",
      "2\n",
      "____________________________________\n",
      "['43071C0545E', 'l', 'e']\n",
      "80 43071C0545E\n",
      "3\n",
      "____________________________________\n",
      "['48071C0565E', 'WALLIS', 'LAKE', 'y', 'O']\n",
      "100 48071C0565E\n",
      "4\n",
      "____________________________________\n",
      "['48071C0570E', '4', 'L', '4', 'LAKE', 'SURPRISE']\n",
      "100 48071C0570E\n",
      "5\n",
      "____________________________________\n",
      "['48071C0590E']\n",
      "100 48071C0590E\n",
      "6\n",
      "____________________________________\n",
      "['48071C0S595E', 'e', 'EAST', 'BAY']\n",
      "100 48071C0S595E\n",
      "7\n",
      "____________________________________\n",
      "['48071006155', 'GO', 'eS', 'e', 'G']\n",
      "100 48071006155\n",
      "8\n",
      "____________________________________\n",
      "['F', '48071C0640E', 'GULF', 'OF', 'MEXICO']\n",
      "100 48071C0640E\n",
      "9\n",
      "____________________________________\n",
      "['48071C0500E', 'City', 'of', 'Seabrook', 'AREA', 'NOT', 'INCLUDED', 'R', 'COU', 'Ty']\n",
      "100 48071C0500E\n",
      "10\n",
      "____________________________________\n",
      "['48071C0525E', 'f', 's', 'GALVESTON', 'BAY', 'BN', 'N', 'BN', 'I', 'BN', 'B', 'B', 'Y']\n",
      "100 48071C0525E\n",
      "11\n",
      "____________________________________\n",
      "['48071C0530E']\n",
      "100 48071C0530E\n",
      "12\n",
      "____________________________________\n",
      "['48071C0535E']\n",
      "100 48071C0535E\n",
      "13\n",
      "____________________________________\n",
      "['48071C0S555E', 'P', 'Lone', 'Oak', 'Bayou']\n",
      "100 48071C0S555E\n",
      "14\n",
      "____________________________________\n",
      "['48071C0560E', 'LAKI', 'STEPHE']\n",
      "100 48071C0560E\n",
      "15\n",
      "____________________________________\n",
      "['48071C0580E', 'ROBINSON', 'LAKE', 'E', 'NSON']\n",
      "100 48071C0580E\n",
      "16\n",
      "____________________________________\n",
      "['48071C0585E', 'Lone', 'Tree', 'Bayou']\n",
      "100 48071C0585E\n",
      "17\n",
      "____________________________________\n",
      "['48071C0605E', 'Oyster', 'Bayou']\n",
      "100 48071C0605E\n",
      "18\n",
      "____________________________________\n",
      "['48071C0610E', 'k', '35']\n",
      "100 48071C0610E\n",
      "19\n",
      "____________________________________\n",
      "['Lmﬂﬂm_ﬂmoz', 'COUNTY', 'ou', 'W', 'NN', '48071C0630E', 'P', 'sk']\n",
      "100 48071C0630E\n",
      "20\n",
      "____________________________________\n",
      "['4807102330E', 'L', '4', 'oy']\n",
      "100 4807102330E\n",
      "21\n",
      "____________________________________\n",
      "['48071C0345E', 'e']\n",
      "100 48071C0345E\n",
      "22\n",
      "____________________________________\n",
      "['48071C0365E']\n",
      "100 48071C0365E\n",
      "23\n",
      "____________________________________\n",
      "['48071C0370E']\n",
      "100 48071C0370E\n",
      "24\n",
      "____________________________________\n",
      "['48071C0390E', 'Double', 'Bayou', 'West', 'Fork', 'B']\n",
      "100 48071C0390E\n",
      "25\n",
      "____________________________________\n",
      "['43071C0395E', 'Double', 'Bayou', 'East', 'Fork']\n",
      "80 43071C0395E\n",
      "26\n",
      "____________________________________\n",
      "['48071C0325E']\n",
      "100 48071C0325E\n",
      "27\n",
      "____________________________________\n",
      "['48071C0330E', 'Cedar', 'Bayou', 'City', 'of', 'Baytown']\n",
      "100 48071C0330E\n",
      "28\n",
      "____________________________________\n",
      "['48071C0335E', 'Sutton', 'Gully', 'Cedar', 'Gu', 'RAILROAD', 'avodvd', '2']\n",
      "100 48071C0335E\n",
      "29\n",
      "____________________________________\n",
      "['48071C0355E', 'Clty', 'ully', 'City', 'of', 'Baytown']\n",
      "100 48071C0355E\n",
      "30\n",
      "____________________________________\n",
      "['48071C0360E', 'of', 'Beach', 'City', 'TRINITY', 'BAY']\n",
      "100 48071C0360E\n",
      "31\n",
      "____________________________________\n",
      "['48071C0380E']\n",
      "100 48071C0380E\n",
      "32\n",
      "____________________________________\n",
      "['48071C0385E', 'J']\n",
      "100 48071C0385E\n",
      "33\n",
      "____________________________________\n",
      "['4', '48071C0425E', 'Chimney', 'Bayou', 'Chambers', 'County', 'Unincorporated', 'Areas']\n",
      "100 48071C0425E\n",
      "34\n",
      "____________________________________\n",
      "['4', '48071C0450E', 'East', 'Fork', 'Oyster', 'Bayou', 'STANOLIND', 'RESERVOIR', 'East', 'Bay', 'S', 'Bayou', 'Elm', 'Bayou', 'Onion', 'Bayou']\n",
      "100 48071C0450E\n",
      "35\n",
      "____________________________________\n",
      "['48071C0475E', 'North', 'Prong', 'Mud', 'Bayou']\n",
      "100 48071C0475E\n",
      "36\n",
      "____________________________________\n",
      "['NGZ', 'i', '5']\n",
      "37\n",
      "____________________________________\n",
      "['48071C0190E', 'en', 'Bayou', 'mwpit', 'Gully']\n",
      "100 48071C0190E\n",
      "38\n",
      "____________________________________\n",
      "['48071', 'f', 'IS', 'LAKE', 'LAKE']\n",
      "100 48071\n",
      "39\n",
      "____________________________________\n",
      "['48071C0215E', 'L', 'ANA', 'Trinity', 'River', 'City', 'of', 'Anahuac', '7']\n",
      "100 48071C0215E\n",
      "40\n",
      "____________________________________\n",
      "['48071C0220E', 'AKE', 'HUAC']\n",
      "100 48071C0220E\n",
      "41\n",
      "____________________________________\n",
      "['48071C0270E', '1', 'Bayou', 'Spindletor']\n",
      "100 48071C0270E\n",
      "42\n",
      "____________________________________\n",
      "['48071C0155E', 'Hickory', 'Island', 'Gully', 'Cedar', 'Bayou']\n",
      "100 48071C0155E\n",
      "43\n",
      "____________________________________\n",
      "['48071C0160E', 'Cit', '3M0nti', 'Hackberry', 'Gi']\n",
      "100 48071C0160E\n",
      "44\n",
      "____________________________________\n",
      "['48071C0180', 'ty', 'of', 'Belvieu', 'Smith', 'Gully', 'AN', 'e', 'Hayon', 'rully', 'Pk']\n",
      "100 48071C0180\n",
      "45\n",
      "____________________________________\n",
      "['48071C0185E', 'LOST', 'LAKE', '3', '7iAion', 'U', 's', 'MO', 'City', 'of', 'Cc']\n",
      "100 48071C0185E\n",
      "46\n",
      "____________________________________\n",
      "['48071C0205E', 'MUD', 'LAKE', 'AKE', 'MILLER', 'Turtle', 'Whites', 'Bayou', 'ove']\n",
      "100 48071C0205E\n",
      "47\n",
      "____________________________________\n",
      "['48071C0210E', 'Spring', 'Branch', 'Turtle', 'Bayou']\n",
      "100 48071C0210E\n",
      "48\n",
      "____________________________________\n",
      "['48071C0230E', 'Crooked', 'Bayou', 'Whites', 'Bayou', 'Tributary', '2', 'Whites', 'Bayou', 'Whites', 'Bayou', 'Tributary', '1']\n",
      "100 48071C0230E\n",
      "49\n",
      "____________________________________\n",
      "['48071C0250E', '43071C0230E', 'Crooked', 'Bayou', 'Double', 'Bayou', 'East', 'Fork', 'Whites', 'Bayou', 'Tributary', '2', '1T', 'Whites', 'Bayou', 'Whites', 'Bayou', 'Tributary', '1', 'Barrow', 'Slough', 'Oyster', 'Bayou', 'Double', 'Bayou', 'West', 'Fork']\n",
      "100 48071C0250E\n",
      "50\n",
      "____________________________________\n",
      "['48071C0275E', 'Rush', 'Ditch', '48071C0270E', 'Elm', 'Bayou', 'Spindletc', 'Oyster', 'Bayou', 'T', 'ributa', 'y', '1', 'xzr']\n",
      "100 48071C0275E\n",
      "51\n",
      "____________________________________\n",
      "['48071C0300E', 'o', '73', 'top', 'Bayou', 'MARSHALL', 'ESTATE', 'LAKE', 'NUMBER', '1', 'MARSHALL', 'ESTATE', 'LAKE', 'NUMBER', '2']\n",
      "100 48071C0300E\n",
      "52\n",
      "____________________________________\n",
      "['48071C0015E', 'YSX', 'W', 'SCOTT', 'FROST', 'AN', 'RESERVOIR', 'NUMBER', '1', '3', '1']\n",
      "100 48071C0015E\n",
      "53\n",
      "____________________________________\n",
      "['48071C0020E', 'Cherry', 'Point', 'Gully']\n",
      "100 48071C0020E\n",
      "54\n",
      "____________________________________\n",
      "['48071C0040E', 'City', 'of', 'Old', 'River', 'Winfree', 'OLD', 'RIVER', 'X', 'N']\n",
      "100 48071C0040E\n",
      "55\n",
      "____________________________________\n",
      "['48071C0045E', 'Little', 'Caney', 'Creek', 'Labitt', 'Creek', 'The', 'Cutoff', 'B']\n",
      "100 48071C0045E\n",
      "56\n",
      "____________________________________\n",
      "['48071C0065E', 'LAKE', 'CHARLOTTE']\n",
      "100 48071C0065E\n",
      "57\n",
      "____________________________________\n",
      "['48071C0070E', 'Cow', 'Island', 'Bayou', 'Lee', 'Gully']\n",
      "100 48071C0070E\n",
      "58\n",
      "____________________________________\n",
      "['1380', '0385', '0390', '0395', '0425', '0535', '0540', '0545', '0555', '0', '0', '0585', '0605', '0610', '0615', '0t', '0180', '0185', '0190', '019', '0020', '0040', '0160', '0180', '0', '0040', '0045', '0180', 'MAP', 'NUMBER', 'N', 'I']\n",
      "59\n",
      "____________________________________\n",
      "['5', '6450', 'b475', '0500', '0560', '0565', '0570', '0580', '1630', '0640', '675', '15', '0185']\n",
      "60\n",
      "____________________________________\n",
      "['August', '9', '1974', 'Al', 'June', '5', '1979', 'J', 'Deci', 'December', '24', '1976', 'August', '9', '1974', 'Al']\n",
      "61\n",
      "____________________________________\n",
      "['48071C0100E', 'Whites', 'Bayou', 'Tributary', '3', 'Whites', 'Bayou', 'Tributary', '4', 'e', 'R', 'e', 'Crooked', 'Marsh', 'Y', 'L', 'P', 'WY', 'PN']\n",
      "100 48071C0100E\n",
      "62\n",
      "____________________________________\n",
      "['48071C0125E', 'ALNNOD', 'VeSS', 'EEEE', 'South', 'Fork', 'Taylor', 'E', 'ALNNOD', 'ALd', 'an', '_', 'Spindletop', 'Bayou']\n",
      "100 48071C0125E\n",
      "63\n",
      "____________________________________\n",
      "['48071C0150E', 'lor', 'Bayou']\n",
      "100 48071C0150E\n"
     ]
    }
   ],
   "source": [
    "outdict = {}\n",
    "\n",
    "key = '48071'\n",
    "\n",
    "for idx, contour in tqdm(enumerate(contours), total=len(contours)):\n",
    "    if hierarchy[0][idx][3] == 0:  # If contour has no child contours\n",
    "        x, y, w, h = cv2.boundingRect(contour)\n",
    "    \n",
    "        # Crop the contour region from the image\n",
    "        cropped_region = image_or[y:y+h, x:x+w, 0]\n",
    "        cropped_region = pad_image_with_percentage(cropped_region, 20, 20)\n",
    "        # cropped_region = cv2.resize(cropped_region, (256,256))\n",
    "        \n",
    "        # cropped_region = cv2.ximgproc.thinning(cropped_region, thinningType=cv2.ximgproc.THINNING_GUOHALL)\n",
    "        \n",
    "        # Perform OCR using pytesseract\n",
    "        print(idx)\n",
    "        ocr_text = pytesseract.image_to_string(cropped_region,\n",
    "                                              config='--psm 12 --oem 3')\n",
    "        \n",
    "        text = find_word_with_key(ocr_text, key)\n",
    "        if text is None:\n",
    "            fn = f\"tempfiles/a_test{idx}.png\"\n",
    "            cv2.imwrite(fn, cropped_region)\n",
    "            continue\n",
    "        else:\n",
    "            fn = f\"tempfiles/b_test{idx}.png\"\n",
    "            cv2.imwrite(fn, cropped_region)\n",
    "        \n",
    "        outdict[text] = contour"
   ]
  },
  {
   "cell_type": "markdown",
   "id": "044ed211",
   "metadata": {},
   "source": [
    "Save to shapefile"
   ]
  },
  {
   "cell_type": "code",
   "execution_count": 13,
   "id": "9d384911",
   "metadata": {},
   "outputs": [],
   "source": [
    "contour_dict = outdict.copy()\n",
    "\n",
    "# Convert OpenCV contours to Shapely objects\n",
    "contours_shapely = {}\n",
    "for i, (k, v) in enumerate(contour_dict.items()):\n",
    "    contour_points = [tuple(point[0]) for point in v]\n",
    "    contours_shapely[k] = Polygon(contour_points).simplify(tolerance=10)\n",
    "    \n",
    "create_shapefile_from_dict(contours_shapely, r\"tempfiles/test.shp\")"
   ]
  }
 ],
 "metadata": {
  "kernelspec": {
   "display_name": "Python 3 (ipykernel)",
   "language": "python",
   "name": "python3"
  },
  "language_info": {
   "codemirror_mode": {
    "name": "ipython",
    "version": 3
   },
   "file_extension": ".py",
   "mimetype": "text/x-python",
   "name": "python",
   "nbconvert_exporter": "python",
   "pygments_lexer": "ipython3",
   "version": "3.8.18"
  }
 },
 "nbformat": 4,
 "nbformat_minor": 5
}
