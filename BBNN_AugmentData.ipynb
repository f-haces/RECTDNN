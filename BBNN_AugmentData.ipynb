{
 "cells": [
  {
   "cell_type": "code",
   "execution_count": 1,
   "id": "5d3cc568",
   "metadata": {},
   "outputs": [
    {
     "name": "stderr",
     "output_type": "stream",
     "text": [
      "D:\\Desktop\\FIRMsDigitizing\\RECTDNN\\BBNN.py:6: TqdmExperimentalWarning: Using `tqdm.autonotebook.tqdm` in notebook mode. Use `tqdm.tqdm` instead to force console mode (e.g. in jupyter console)\n",
      "  from tqdm.autonotebook import tqdm\n"
     ]
    }
   ],
   "source": [
    "import os, pickle, random, time\n",
    "\n",
    "from tqdm.notebook import tqdm\n",
    "\n",
    "import numpy as np\n",
    "from PIL import Image\n",
    "\n",
    "import matplotlib.pyplot as plt\n",
    "\n",
    "import torch\n",
    "import torch.nn as nn\n",
    "from torch.utils.data import Dataset, DataLoader\n",
    "import torchvision.transforms as T\n",
    "from torchvision.utils import save_image\n",
    "\n",
    "from BBNN import *"
   ]
  },
  {
   "cell_type": "code",
   "execution_count": 2,
   "id": "ab6539a0",
   "metadata": {
    "scrolled": true
   },
   "outputs": [
    {
     "name": "stderr",
     "output_type": "stream",
     "text": [
      "C:\\Users\\franc\\anaconda3\\envs\\yolo\\lib\\site-packages\\torchvision\\transforms\\functional.py:153: UserWarning: The given NumPy array is not writable, and PyTorch does not support non-writable tensors. This means writing to this tensor will result in undefined behavior. You may want to copy the array to protect its data or make it writable before converting it to a tensor. This type of warning will be suppressed for the rest of this program. (Triggered internally at C:\\cb\\pytorch_1000000000000\\work\\torch\\csrc\\utils\\tensor_numpy.cpp:212.)\n",
      "  img = torch.from_numpy(pic.transpose((2, 0, 1))).contiguous()\n",
      "C:\\Users\\franc\\anaconda3\\envs\\yolo\\lib\\site-packages\\PIL\\Image.py:3157: DecompressionBombWarning: Image size (149040000 pixels) exceeds limit of 89478485 pixels, could be decompression bomb DOS attack.\n",
      "  warnings.warn(\n",
      "C:\\Users\\franc\\anaconda3\\envs\\yolo\\lib\\site-packages\\PIL\\Image.py:3157: DecompressionBombWarning: Image size (149238064 pixels) exceeds limit of 89478485 pixels, could be decompression bomb DOS attack.\n",
      "  warnings.warn(\n",
      "C:\\Users\\franc\\anaconda3\\envs\\yolo\\lib\\site-packages\\PIL\\Image.py:3157: DecompressionBombWarning: Image size (151368000 pixels) exceeds limit of 89478485 pixels, could be decompression bomb DOS attack.\n",
      "  warnings.warn(\n",
      "C:\\Users\\franc\\anaconda3\\envs\\yolo\\lib\\site-packages\\PIL\\Image.py:3157: DecompressionBombWarning: Image size (148978345 pixels) exceeds limit of 89478485 pixels, could be decompression bomb DOS attack.\n",
      "  warnings.warn(\n"
     ]
    }
   ],
   "source": [
    "base_dir = r\"C:\\Users\\franc\\OneDrive - University Of Houston\\AAA_RECTDNN\\data\\BBNN\\tileindices\\\\\"\n",
    "\n",
    "image_dir = f\"{base_dir}in\\\\\"\n",
    "pred_dir  = f\"{base_dir}pkl\\\\\"\n",
    "\n",
    "colorjitter = T.ColorJitter(0.5, 0.2, 0.2, 0.2)\n",
    "colorjitter.saturation=None\n",
    "colorjitter.contrast=None\n",
    "\n",
    "transform = RandomApplyToList(torch.nn.Sequential(\n",
    "     T.Resize(2048),\n",
    "     T.RandomRotation(50),\n",
    "     colorjitter\n",
    "))\n",
    "\n",
    "dataset = BBNN_dataset(image_dir, pred_dir, transform=transform)\n",
    "# loader  = DataLoader(dataset, batch_size=1, shuffle=True, num_workers=0)"
   ]
  },
  {
   "cell_type": "code",
   "execution_count": 3,
   "id": "af648691-0797-4975-bcb9-a95fcd6bf716",
   "metadata": {},
   "outputs": [],
   "source": [
    "if False:\n",
    "    for x in range(len(dataset)):\n",
    "        fig, axs = plt.subplots(1, 4, figsize=(15, 4))\n",
    "        axs[0].imshow(np.asarray(dataset.data[x]['image']))\n",
    "        for i in range(3):\n",
    "            if len(dataset.data[x]['masks']) <= i:\n",
    "                continue\n",
    "            axs[i+1].imshow(dataset.data[x]['masks'][i].numpy()[0])\n",
    "    \n",
    "        plt.show()"
   ]
  },
  {
   "cell_type": "code",
   "execution_count": 4,
   "id": "b286d884",
   "metadata": {},
   "outputs": [
    {
     "data": {
      "application/vnd.jupyter.widget-view+json": {
       "model_id": "1a6386becfb44853994f66ec962728b0",
       "version_major": 2,
       "version_minor": 0
      },
      "text/plain": [
       "  0%|          | 0/100 [00:00<?, ?it/s]"
      ]
     },
     "metadata": {},
     "output_type": "display_data"
    }
   ],
   "source": [
    "aug_dir = r\"C:\\Users\\franc\\OneDrive - University Of Houston\\AAA_RECTDNN\\data\\BBNN\\tileindices\\augmentv4\\\\\"\n",
    "\n",
    "imdir  = f\"{aug_dir}images\"\n",
    "mdir   = f\"{aug_dir}masks\"\n",
    "pkldir = f\"{aug_dir}pkl\"\n",
    "\n",
    "for ii in tqdm(range(100)):\n",
    "    for i in range(len(dataset)):\n",
    "        curr_data = dataset[i]\n",
    "\n",
    "        while curr_data['predictions']['boxes'].sum() == 0:\n",
    "            curr_data = dataset[i]\n",
    "\n",
    "        for iii in range(3):\n",
    "            if len(curr_data['masks']) <= i:\n",
    "                continue\n",
    "                \n",
    "            Image.fromarray((curr_data['masks'][iii].numpy()[0] * 255).astype(np.uint8)).save(os.path.join(mdir, f'{ii}_{i}_{iii}.png'))\n",
    "        \n",
    "        save_image(curr_data['image'], os.path.join(imdir, f'{ii}_{i}.png'))\n",
    "        \n",
    "        out_dict = {\n",
    "            'labels' : curr_data['predictions']['labels'],\n",
    "            'boxes'  : curr_data['predictions']['boxes'].numpy().tolist()\n",
    "        }\n",
    "        f = open(os.path.join(pkldir, f'{ii}_{i}.pkl'), 'wb')\n",
    "        pickle.dump(out_dict,f)\n",
    "        f.close()"
   ]
  }
 ],
 "metadata": {
  "kernelspec": {
   "display_name": "Python 3 (ipykernel)",
   "language": "python",
   "name": "python3"
  },
  "language_info": {
   "codemirror_mode": {
    "name": "ipython",
    "version": 3
   },
   "file_extension": ".py",
   "mimetype": "text/x-python",
   "name": "python",
   "nbconvert_exporter": "python",
   "pygments_lexer": "ipython3",
   "version": "3.8.18"
  }
 },
 "nbformat": 4,
 "nbformat_minor": 5
}
