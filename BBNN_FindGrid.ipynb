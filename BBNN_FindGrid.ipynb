{
 "cells": [
  {
   "cell_type": "code",
   "execution_count": 1,
   "metadata": {},
   "outputs": [],
   "source": [
    "# PYTHON IMPORTS\n",
    "import os, copy, math, re, ultralytics, zipfile, shutil\n",
    "from tqdm.notebook import trange, tqdm\n",
    "from datetime import datetime\n",
    "\n",
    "# IMAGE IMPORTS \n",
    "from PIL import Image\n",
    "\n",
    "# DATA IMPORTS \n",
    "import random, h5py, glob\n",
    "import numpy as np\n",
    "\n",
    "# PLOTTING\n",
    "import matplotlib.pyplot as plt\n",
    "import matplotlib.cm as cm\n",
    "\n",
    "# SHAPES IMPORTS\n",
    "import shapely\n",
    "import geopandas as gpd\n",
    "from shapely.ops import unary_union\n",
    "from shapely.geometry import LineString, Polygon, Point\n",
    "\n",
    "# MY OWN CLASSES\n",
    "from FindGrid import *\n",
    "\n",
    "# OCR libraries\n",
    "import pytesseract\n",
    "from fuzzywuzzy import fuzz\n",
    "\n",
    "# INITIALIZE\n",
    "t_path = r'C:\\Users\\fhacesga\\AppData\\Local\\Programs\\Tesseract-OCR\\tesseract.exe'\n",
    "pytesseract.pytesseract.tesseract_cmd = t_path\n",
    "\n",
    "# PREFERENCES\n",
    "Image.MAX_IMAGE_PIXELS = 933120000"
   ]
  },
  {
   "cell_type": "code",
   "execution_count": 3,
   "metadata": {},
   "outputs": [],
   "source": [
    "# r'C:\\Users\\fhacesga\\Desktop\\FIRMsDigitizing\\data\\runs031524\\runs\\detect\\train_1024px_30tilt\\weights\\best.pt'\n",
    "model_weights = r\"data_local/curr_weights.pt\"\n",
    "\n",
    "zip_folder    = r\"D:\\FloodChange\\AAA_HistoricalDownload\\ZIP\\\\\"\n",
    "input_folder  = r\"D:\\FloodChange\\AAA_HistoricalDownload\\Files\\\\\"\n",
    "\n",
    "\n",
    "output_folder = r\"D:\\FloodChange\\Outputs\\\\\"\n",
    "output_folder = f\"{output_folder}\\\\{datetime.now().strftime('%m-%d-%Y_%H-%M-%S')}\\\\\"\n",
    "index_folder  = f\"{output_folder}00_identifiedIndices\\\\\"\n",
    "resize_folder = f\"{output_folder}01_resized\\\\\"\n",
    "infer_folder  = f\"{output_folder}02_infered\\\\\"\n",
    "\n",
    "os.makedirs(index_folder, exist_ok=True)\n",
    "os.makedirs(resize_folder, exist_ok=True)\n",
    "os.makedirs(infer_folder,  exist_ok=True)"
   ]
  },
  {
   "cell_type": "markdown",
   "metadata": {},
   "source": [
    "Unzip all the files outside the directory if needed"
   ]
  },
  {
   "cell_type": "code",
   "execution_count": 4,
   "metadata": {},
   "outputs": [],
   "source": [
    "def unzip_all_zips(input_dir, output_dir):\n",
    "    # Create the output directory if it doesn't exist\n",
    "    if not os.path.exists(output_dir):\n",
    "        os.makedirs(output_dir)\n",
    "\n",
    "    # Iterate through all files in the input directory\n",
    "    for filename in os.listdir(input_dir):\n",
    "        if filename.endswith(\".zip\"):\n",
    "            zip_file_path = os.path.join(input_dir, filename)\n",
    "            # Open the ZIP file\n",
    "            with zipfile.ZipFile(zip_file_path, 'r') as zip_ref:\n",
    "                # Extract all contents to the output directory\n",
    "                zip_ref.extractall(output_dir)\n",
    "                print(f\"Contents of {zip_file_path} extracted to {output_dir}\")\n",
    "\n",
    "if not os.path.exists(input_folder):\n",
    "    unzip_all_zips(zip_folder, input_folder)"
   ]
  },
  {
   "cell_type": "markdown",
   "metadata": {},
   "source": [
    "Read through all the images in the directory. Some images are saved as Multi-page TIFF files. These need to be exported into individual images. We'll do that first"
   ]
  },
  {
   "cell_type": "code",
   "execution_count": 5,
   "metadata": {},
   "outputs": [
    {
     "data": {
      "application/vnd.jupyter.widget-view+json": {
       "model_id": "fc15742d13b345aca287231e57e22c26",
       "version_major": 2,
       "version_minor": 0
      },
      "text/plain": [
       "  0%|          | 0/710 [00:00<?, ?it/s]"
      ]
     },
     "metadata": {},
     "output_type": "display_data"
    },
    {
     "name": "stdout",
     "output_type": "stream",
     "text": [
      "Error opening D:\\FloodChange\\AAA_HistoricalDownload\\Files\\485479B.tif\n",
      "Error opening D:\\FloodChange\\AAA_HistoricalDownload\\Files\\485479C.tif\n",
      "Error opening D:\\FloodChange\\AAA_HistoricalDownload\\Files\\485481A.tif\n",
      "Error opening D:\\FloodChange\\AAA_HistoricalDownload\\Files\\485510.tif\n",
      "Error opening D:\\FloodChange\\AAA_HistoricalDownload\\Files\\485510B.tif\n",
      "Error opening D:\\FloodChange\\AAA_HistoricalDownload\\Files\\485514B.tif\n",
      "Error opening D:\\FloodChange\\AAA_HistoricalDownload\\Files\\485516A.tif\n"
     ]
    }
   ],
   "source": [
    "for filename in tqdm(glob.glob(input_folder + \"\\\\*.tif*\")):\n",
    "    tiff_file = os.path.join(input_folder, filename)\n",
    "    try:\n",
    "    # Check if the file is a multi-page TIFF\n",
    "        with Image.open(tiff_file) as img:\n",
    "            if img.is_animated:    \n",
    "                for i in range(img.n_frames):\n",
    "                    try:\n",
    "                        img.seek(i)\n",
    "                        output_filename = f\"{os.path.splitext(tiff_file)[0]}_{i+1}{os.path.splitext(tiff_file)[1]}\"\n",
    "                        img.save(output_filename, format=img.format)\n",
    "                    except:\n",
    "                        print(f\"Error with {tiff_file} page {i}\")\n",
    "                        continue\n",
    "    except:\n",
    "        print(f\"Error opening {tiff_file}\")\n",
    "        continue\n",
    "\n",
    "    os.remove(tiff_file)"
   ]
  },
  {
   "cell_type": "markdown",
   "metadata": {},
   "source": [
    "Now we identify the TileIndices through known heuristics"
   ]
  },
  {
   "cell_type": "code",
   "execution_count": 6,
   "metadata": {},
   "outputs": [
    {
     "data": {
      "application/vnd.jupyter.widget-view+json": {
       "model_id": "e9118b501404477eb9d9ca838c73c7fc",
       "version_major": 2,
       "version_minor": 0
      },
      "text/plain": [
       "  0%|          | 0/55 [00:00<?, ?it/s]"
      ]
     },
     "metadata": {},
     "output_type": "display_data"
    }
   ],
   "source": [
    "patterns = [\"IND\", \"_1.\"]\n",
    "\n",
    "index_tiles = [file for pattern in patterns for file in glob.glob(input_folder + \"\\\\*\" + pattern + \"*\")]\n",
    "for file in tqdm(index_tiles):\n",
    "    shutil.copy(file, os.path.join(index_folder, os.path.basename(file)))"
   ]
  },
  {
   "cell_type": "markdown",
   "metadata": {},
   "source": [
    "These are the parameters we define to run BBNN"
   ]
  },
  {
   "cell_type": "code",
   "execution_count": 7,
   "metadata": {},
   "outputs": [],
   "source": [
    "target_size = (1024, 1024) \n",
    "original_shapes = []\n",
    "\n",
    "# COCO DATASET PARAMS\n",
    "category_labels = {\n",
    "    0 : \"County\",\n",
    "    1 : \"Tile\",\n",
    "    2 : \"Box\",\n",
    "    3 : \"Legend\"\n",
    "}\n",
    "\n",
    "categories=[0, 1]"
   ]
  },
  {
   "cell_type": "markdown",
   "metadata": {},
   "source": [
    "Resize all indices to BBNN target size"
   ]
  },
  {
   "cell_type": "code",
   "execution_count": 8,
   "metadata": {},
   "outputs": [
    {
     "data": {
      "application/vnd.jupyter.widget-view+json": {
       "model_id": "d907ba59460e4034b12a4a7397fa31cc",
       "version_major": 2,
       "version_minor": 0
      },
      "text/plain": [
       "  0%|          | 0/127 [00:00<?, ?it/s]"
      ]
     },
     "metadata": {},
     "output_type": "display_data"
    }
   ],
   "source": [
    "for filename in tqdm(os.listdir(index_folder)):\n",
    "    # DEFINE DIRS\n",
    "    input_path  = os.path.join(index_folder, filename)\n",
    "    output_path = os.path.join(resize_folder, filename)\n",
    "    \n",
    "    # LOOP THROUGH RESIZED IMAGES\n",
    "    if os.path.isfile(input_path) and filename.lower().endswith(('.png', '.jpg', '.bmp', '.gif', '.tif')):\n",
    "        if not os.path.exists(output_path[:-3]+\"png\"): # SKIP IF EXISTS\n",
    "            try:\n",
    "                # OPEN IMAGE\n",
    "                img = np.asarray(Image.open(input_path))\n",
    "                original_shapes.append(img.shape)\n",
    "\n",
    "                # RESCALE BW IMAGES TO UINT8 TO BE ABLE TO USE BILINEAR INTERPOLATION\n",
    "                if np.max(img) != 255:\n",
    "                    img = 255 * img / np.max(img)\n",
    "                img = Image.fromarray(img.astype(np.uint8))\n",
    "\n",
    "                # RESIZE AND SAVE\n",
    "                img_resized = img.resize(target_size, Image.BILINEAR)\n",
    "                img_resized.save(output_path[:-3]+\"png\")\n",
    "            except: \n",
    "                continue"
   ]
  },
  {
   "cell_type": "code",
   "execution_count": 10,
   "metadata": {},
   "outputs": [
    {
     "name": "stdout",
     "output_type": "stream",
     "text": [
      "\n",
      "0: 1024x1024 43 tiles, 1 county, 1: 1024x1024 41 tiles, 1 county, 2: 1024x1024 27 tiles, 1 county, 3: 1024x1024 35 tiles, 1 county, 4: 1024x1024 31 tiles, 1 county, 5: 1024x1024 26 tiles, 1 county, 6: 1024x1024 1 tile, 7: 1024x1024 4 tiles, 2 countys, 8: 1024x1024 3 tiles, 9: 1024x1024 3 tiles, 1 county, 10: 1024x1024 (no detections), 11: 1024x1024 1 tile, 12: 1024x1024 1 tile, 1 county, 13: 1024x1024 (no detections), 14: 1024x1024 3 tiles, 15: 1024x1024 4 tiles, 3 countys, 16: 1024x1024 2 tiles, 17: 1024x1024 28 tiles, 1 county, 18: 1024x1024 31 tiles, 1 county, 19: 1024x1024 25 tiles, 1 county, 20: 1024x1024 17 tiles, 1 county, 21: 1024x1024 32 tiles, 1 county, 22: 1024x1024 23 tiles, 1 county, 23: 1024x1024 26 tiles, 1 county, 24: 1024x1024 31 tiles, 1 county, 25: 1024x1024 3 tiles, 1 county, 26: 1024x1024 2 tiles, 27: 1024x1024 2 tiles, 28: 1024x1024 1 tile, 1 county, 29: 1024x1024 6 tiles, 2 countys, 30: 1024x1024 5 tiles, 1 county, 31: 1024x1024 3 tiles, 32: 1024x1024 4 tiles, 1 county, 33: 1024x1024 9 tiles, 1 county, 34: 1024x1024 9 tiles, 1 county, 35: 1024x1024 5 tiles, 1 county, 36: 1024x1024 4 tiles, 2 countys, 37: 1024x1024 6 tiles, 2 countys, 38: 1024x1024 5 tiles, 2 countys, 39: 1024x1024 5 tiles, 2 countys, 40: 1024x1024 (no detections), 41: 1024x1024 44 tiles, 1 county, 42: 1024x1024 22 tiles, 1 county, 43: 1024x1024 77 tiles, 1 county, 44: 1024x1024 22 tiles, 1 county, 45: 1024x1024 77 tiles, 1 county, 46: 1024x1024 5 tiles, 1 county, 47: 1024x1024 1 tile, 48: 1024x1024 1 tile, 49: 1024x1024 1 tile, 1 county, 50: 1024x1024 1 tile, 51: 1024x1024 2 tiles, 1 county, 52: 1024x1024 1 tile, 1 county, 53: 1024x1024 44 tiles, 1 county, 54: 1024x1024 39 tiles, 1 county, 55: 1024x1024 39 tiles, 1 county, 56: 1024x1024 39 tiles, 1 county, 57: 1024x1024 39 tiles, 1 county, 58: 1024x1024 4 tiles, 2 countys, 59: 1024x1024 4 tiles, 1 county, 60: 1024x1024 (no detections), 61: 1024x1024 100 tiles, 1 county, 62: 1024x1024 3 tiles, 63: 1024x1024 4 tiles, 3 countys, 64: 1024x1024 (no detections), 65: 1024x1024 1 tile, 66: 1024x1024 5 tiles, 2 countys, 67: 1024x1024 4 tiles, 1 county, 68: 1024x1024 5 tiles, 1 county, 69: 1024x1024 3 tiles, 2 countys, 70: 1024x1024 3 tiles, 2 countys, 71: 1024x1024 7 tiles, 1 county, 72: 1024x1024 5 tiles, 1 county, 73: 1024x1024 4 tiles, 1 county, 74: 1024x1024 3 tiles, 1 county, 75: 1024x1024 1 tile, 76: 1024x1024 3 tiles, 77: 1024x1024 2 tiles, 78: 1024x1024 22 tiles, 1 county, 79: 1024x1024 5 tiles, 1 county, 80: 1024x1024 6 tiles, 3 countys, 81: 1024x1024 4 tiles, 82: 1024x1024 1 tile, 83: 1024x1024 2 tiles, 2 countys, 84: 1024x1024 4 tiles, 1 county, 85: 1024x1024 2 tiles, 86: 1024x1024 (no detections), 87: 1024x1024 4 tiles, 1 county, 88: 1024x1024 2 tiles, 1 county, 89: 1024x1024 2 tiles, 2 countys, 90: 1024x1024 45 tiles, 1 county, 91: 1024x1024 5 tiles, 1 county, 92: 1024x1024 4 tiles, 1 county, 93: 1024x1024 5 tiles, 1 county, 94: 1024x1024 3 tiles, 1 county, 95: 1024x1024 1 tile, 96: 1024x1024 1 tile, 97: 1024x1024 7 tiles, 2 countys, 98: 1024x1024 5 tiles, 1 county, 99: 1024x1024 8 tiles, 1 county, 100: 1024x1024 9 tiles, 1 county, 101: 1024x1024 11 tiles, 1 county, 102: 1024x1024 20 tiles, 1 county, 103: 1024x1024 4 tiles, 104: 1024x1024 1 tile, 1 county, 105: 1024x1024 36 tiles, 2 countys, 106: 1024x1024 1 tile, 1 county, 107: 1024x1024 4 tiles, 1 county, 108: 1024x1024 3 tiles, 1 county, 109: 1024x1024 4 tiles, 1 county, 110: 1024x1024 4 tiles, 2 countys, 111: 1024x1024 2 tiles, 2 countys, 112: 1024x1024 3 tiles, 1 county, 113: 1024x1024 6 tiles, 1 county, 114: 1024x1024 8 tiles, 1 county, 115: 1024x1024 2 tiles, 1 county, 116: 1024x1024 5 tiles, 2 countys, 117: 1024x1024 12 tiles, 1 county, 118: 1024x1024 7 tiles, 1 county, 119: 1024x1024 1 tile, 1 county, 120: 1024x1024 1 tile, 121: 1024x1024 1 tile, 122: 1024x1024 5 tiles, 1 county, 123: 1024x1024 3 tiles, 124: 1024x1024 3 tiles, 2 countys, 125: 1024x1024 3 tiles, 1 county, 126: 1024x1024 1 tile, 149911.5ms\n",
      "Speed: 7.4ms preprocess, 1180.4ms inference, 3.3ms postprocess per image at shape (1, 3, 1024, 1024)\n"
     ]
    }
   ],
   "source": [
    "model = ultralytics.YOLO(model_weights).to(\"cpu\")\n",
    "results = model(glob.glob(resize_folder+\"\\\\*\"), imgsz=1024,)\n",
    "\n",
    "# Process results list\n",
    "for result in results:\n",
    "    fn = os.path.join(infer_folder, os.path.basename(result.path))\n",
    "    result.save(filename=os.path.join(infer_folder, os.path.basename(result.path)))"
   ]
  },
  {
   "cell_type": "code",
   "execution_count": 8,
   "metadata": {},
   "outputs": [
    {
     "name": "stdout",
     "output_type": "stream",
     "text": [
      "\n",
      "0: 1024x1024 61 tiles, 1 county, 1: 1024x1024 67 tiles, 1 county, 2: 1024x1024 65 tiles, 1 county, 3: 1024x1024 61 tiles, 1 county, 4: 1024x1024 62 tiles, 1 county, 5: 1024x1024 2 tiles, 1 county, 6: 1024x1024 61 tiles, 1 county, 7: 1024x1024 57 tiles, 1 county, 8: 1024x1024 57 tiles, 1 county, 9: 1024x1024 20 tiles, 1 county, 10: 1024x1024 57 tiles, 1 county, 11: 1024x1024 57 tiles, 1 county, 12: 1024x1024 57 tiles, 1 county, 13: 1024x1024 60 tiles, 1 county, 14: 1024x1024 2 tiles, 1 county, 15: 1024x1024 4 tiles, 1 county, 16: 1024x1024 9 tiles, 3 countys, 17: 1024x1024 9 tiles, 2 countys, 18: 1024x1024 2 tiles, 2 countys, 19: 1024x1024 4 tiles, 2 countys, 20: 1024x1024 22 tiles, 1 county, 21: 1024x1024 78 tiles, 1 county, 22: 1024x1024 22 tiles, 1 county, 23: 1024x1024 77 tiles, 1 county, 24: 1024x1024 39 tiles, 1 county, 25: 1024x1024 39 tiles, 1 county, 26: 1024x1024 39 tiles, 1 county, 27: 1024x1024 39 tiles, 1 county, 28: 1024x1024 106 tiles, 1 county, 29: 1024x1024 5 tiles, 3 countys, 30: 1024x1024 2 tiles, 1 county, 31: 1024x1024 5 tiles, 1 county, 32: 1024x1024 4 tiles, 1 county, 33: 1024x1024 45 tiles, 1 county, 34: 1024x1024 3 tiles, 1 county, 35: 1024x1024 4 tiles, 2 countys, 36: 1024x1024 78 tiles, 1 county, 37: 1024x1024 4 tiles, 1 county, 38: 1024x1024 5 tiles, 1 county, 39: 1024x1024 3 tiles, 1 county, 40: 1024x1024 4 tiles, 1 county, 41: 1024x1024 55 tiles, 2 countys, 42: 1024x1024 9 tiles, 2 countys, 43: 1024x1024 52 tiles, 2 countys, 44: 1024x1024 56 tiles, 2 countys, 45: 1024x1024 93 tiles, 1 county, 46: 1024x1024 84 tiles, 1 county, 47: 1024x1024 94 tiles, 1 county, 48: 1024x1024 77 tiles, 1 county, 49: 1024x1024 2 tiles, 1 county, 50: 1024x1024 2 tiles, 1 county, 51: 1024x1024 2 tiles, 1 county, 52: 1024x1024 7 tiles, 1 county, 53: 1024x1024 11 tiles, 1 county, 54: 1024x1024 3 tiles, 1 county, 54841.7ms\n",
      "Speed: 11.7ms preprocess, 997.1ms inference, 1.0ms postprocess per image at shape (1, 3, 1024, 1024)\n"
     ]
    }
   ],
   "source": [
    "model = ultralytics.YOLO(model_weights).to(\"cpu\")\n",
    "results = model(glob.glob(index_folder+\"\\\\*\"), imgsz=1024,)"
   ]
  },
  {
   "cell_type": "code",
   "execution_count": 11,
   "metadata": {},
   "outputs": [
    {
     "data": {
      "text/plain": [
       "tensor([[1763.9381, 2422.2461, 2169.5525, 2891.5251],\n",
       "        [2164.4939, 1519.8820, 2567.7900, 1975.1213],\n",
       "        [ 573.3839, 2420.8589,  973.0733, 2892.2678],\n",
       "        [1771.9183,  596.1050, 2173.3445, 1068.3162],\n",
       "        [2165.1152, 1970.2655, 2567.1863, 2429.7595],\n",
       "        [2165.1943, 1058.0609, 2566.7073, 1525.0452],\n",
       "        [1371.1106, 1061.3557, 1774.7196, 1517.5161],\n",
       "        [ 970.0963, 2421.8728, 1379.3400, 2891.1653],\n",
       "        [ 576.4122, 1747.0842,  773.3394, 1970.4717],\n",
       "        [1766.6050, 1969.5414, 2169.6074, 2426.6318],\n",
       "        [1370.7255,  600.4040, 1776.8030, 1062.4729],\n",
       "        [1972.1722, 1289.7322, 2172.6816, 1522.6820],\n",
       "        [ 771.6378, 1744.9929,  979.3391, 1969.6783],\n",
       "        [1365.1526, 1966.4033, 1772.3239, 2426.7263],\n",
       "        [1363.3843, 2421.0940, 1768.9821, 2890.8765],\n",
       "        [ 770.4731, 1517.9115,  976.2397, 1749.9775],\n",
       "        [ 178.6360, 1053.1951,  584.5432, 1515.1360],\n",
       "        [ 180.5558,  594.4118,  586.3154, 1060.3407],\n",
       "        [1769.6377, 1749.3783, 1972.8888, 1971.8563],\n",
       "        [1970.0101, 1062.3331, 2173.4417, 1294.8584],\n",
       "        [ 769.3629, 1287.3604,  970.5327, 1518.9182],\n",
       "        [1768.5526, 1522.8799, 1977.9414, 1752.9714],\n",
       "        [ 777.2987, 1966.8806,  977.2503, 2182.5234],\n",
       "        [ 380.4780, 1744.8911,  580.4410, 1971.5806],\n",
       "        [1163.5610, 1969.0446, 1370.5017, 2204.9490],\n",
       "        [ 377.0622, 1511.8871,  582.3605, 1746.9460],\n",
       "        [ 397.6574, 1970.3098,  578.7593, 2185.3984],\n",
       "        [ 973.9712, 1969.0482, 1165.7504, 2205.2571],\n",
       "        [ 968.6943, 1516.0708, 1172.8320, 1744.4874],\n",
       "        [ 574.7075, 1515.0953,  772.8070, 1750.7695],\n",
       "        [1371.1230, 1516.8229, 1566.2495, 1752.1528],\n",
       "        [1772.2709, 1294.8685, 1976.8452, 1521.7998],\n",
       "        [1163.4009, 2197.5244, 1369.8892, 2428.1162],\n",
       "        [1560.9044, 1516.1782, 1772.3040, 1752.2166],\n",
       "        [1968.4760, 1752.7831, 2170.7627, 1975.6405],\n",
       "        [ 974.6472, 1741.0934, 1165.5869, 1969.7938],\n",
       "        [ 928.9715,  599.3783, 1376.2252, 1066.0120],\n",
       "        [ 167.1234, 1511.9672,  385.6175, 1972.2722],\n",
       "        [ 973.2490, 2198.6147, 1167.9360, 2430.2256],\n",
       "        [ 781.7557, 1054.5781,  977.8905, 1290.8517],\n",
       "        [1972.3359, 1519.4724, 2171.3210, 1759.6775],\n",
       "        [ 576.4479, 1284.1439,  769.3704, 1515.8252],\n",
       "        [ 213.4957,  481.5579, 2674.7642, 2960.6458],\n",
       "        [ 774.4733, 2182.4390,  975.1566, 2425.6545],\n",
       "        [ 576.1165,  596.2312,  967.8476, 1059.8820],\n",
       "        [1166.1831, 1753.3373, 1370.5312, 1969.6560],\n",
       "        [ 574.8435, 2180.3481,  779.5331, 2427.2998],\n",
       "        [2167.4746, 1293.3171, 2373.5093, 1522.1279],\n",
       "        [1169.6375, 1517.4196, 1373.9965, 1748.6465],\n",
       "        [ 173.5370, 1970.3074,  583.6684, 2423.2102],\n",
       "        [1772.7114, 1063.2571, 1973.5869, 1296.1173],\n",
       "        [ 573.1750, 1968.2386,  781.6786, 2176.3135],\n",
       "        [ 578.7290, 1054.1010,  782.4194, 1274.8496],\n",
       "        [ 966.8441, 1297.6132, 1173.0275, 1518.0616],\n",
       "        [ 576.7983, 1056.6118,  773.1223, 1515.7397],\n",
       "        [1370.5634, 1762.4839, 1564.8052, 1972.2950],\n",
       "        [ 970.4656,  826.5059, 1174.9137, 1062.6826],\n",
       "        [1168.8059, 1055.4829, 1374.1716, 1516.5790],\n",
       "        [ 177.0069, 1973.3159,  408.2692, 2421.6372],\n",
       "        [ 973.3051, 1057.4308, 1170.4961, 1300.1613],\n",
       "        [ 971.8867, 1054.8964, 1166.2544, 1518.0131],\n",
       "        [1368.7487, 1969.8574, 1564.1373, 2194.6169]])"
      ]
     },
     "execution_count": 11,
     "metadata": {},
     "output_type": "execute_result"
    }
   ],
   "source": [
    "results[0].boxes.xyxy"
   ]
  },
  {
   "cell_type": "code",
   "execution_count": 21,
   "metadata": {},
   "outputs": [
    {
     "name": "stdout",
     "output_type": "stream",
     "text": [
      "48023300104\n",
      "4802330005\n",
      "48023300204\n",
      "4802330015\n",
      "4802870250\n",
      "4802870050\n",
      "4802870300\n",
      "4802870275\n",
      "4802870225\n",
      "4802870175\n",
      "4802870400\n",
      "4802870150\n",
      "4302870550\n",
      "4802870200\n",
      "4802870325\n",
      "4802870350\n",
      "1802870\n",
      "4802870075\n",
      "4802870425\n",
      "4802870100\n",
      "4802870375\n",
      "4802870450\n",
      "None\n",
      "No ID Found!\n",
      "None\n",
      "No ID Found!\n",
      "None\n",
      "No ID Found!\n",
      "4802870475\n",
      "4802870460\n",
      "4802870470\n",
      "4802870035\n",
      "4802870055\n",
      "4802870045\n",
      "480287792530\n",
      "4802870370\n",
      "4802870160\n",
      "4802870015\n",
      "4802879305\n",
      "4802870380\n",
      "4802870095\n",
      "48028701450\n"
     ]
    },
    {
     "ename": "KeyboardInterrupt",
     "evalue": "",
     "output_type": "error",
     "traceback": [
      "\u001b[1;31m---------------------------------------------------------------------------\u001b[0m",
      "\u001b[1;31mKeyboardInterrupt\u001b[0m                         Traceback (most recent call last)",
      "Cell \u001b[1;32mIn[21], line 53\u001b[0m\n\u001b[0;32m     50\u001b[0m data \u001b[38;5;241m=\u001b[39m extract_bounded_area(image, bbox)\n\u001b[0;32m     52\u001b[0m \u001b[38;5;66;03m# Perform OCR using pytesseract\u001b[39;00m\n\u001b[1;32m---> 53\u001b[0m text \u001b[38;5;241m=\u001b[39m \u001b[43mpytesseract\u001b[49m\u001b[38;5;241;43m.\u001b[39;49m\u001b[43mimage_to_string\u001b[49m\u001b[43m(\u001b[49m\u001b[43mdata\u001b[49m\u001b[43m,\u001b[49m\u001b[43m \u001b[49m\u001b[43mconfig\u001b[49m\u001b[38;5;241;43m=\u001b[39;49m\u001b[38;5;124;43m'\u001b[39;49m\u001b[38;5;124;43m--psm 12 --oem 3 -c tessedit_char_whitelist=0123456789\u001b[39;49m\u001b[38;5;124;43m'\u001b[39;49m\u001b[43m)\u001b[49m\n\u001b[0;32m     54\u001b[0m                                         \u001b[38;5;66;03m# -c tessedit_char_whitelist=0123456789\u001b[39;00m\n\u001b[0;32m     56\u001b[0m word \u001b[38;5;241m=\u001b[39m find_word_with_key(text, key, threshold\u001b[38;5;241m=\u001b[39m\u001b[38;5;241m80\u001b[39m, verbose\u001b[38;5;241m=\u001b[39m\u001b[38;5;28;01mFalse\u001b[39;00m)\n",
      "File \u001b[1;32mc:\\Users\\fhacesga\\Anaconda3\\envs\\yolo\\lib\\site-packages\\pytesseract\\pytesseract.py:486\u001b[0m, in \u001b[0;36mimage_to_string\u001b[1;34m(image, lang, config, nice, output_type, timeout)\u001b[0m\n\u001b[0;32m    481\u001b[0m \u001b[38;5;250m\u001b[39m\u001b[38;5;124;03m\"\"\"\u001b[39;00m\n\u001b[0;32m    482\u001b[0m \u001b[38;5;124;03mReturns the result of a Tesseract OCR run on the provided image to string\u001b[39;00m\n\u001b[0;32m    483\u001b[0m \u001b[38;5;124;03m\"\"\"\u001b[39;00m\n\u001b[0;32m    484\u001b[0m args \u001b[38;5;241m=\u001b[39m [image, \u001b[38;5;124m'\u001b[39m\u001b[38;5;124mtxt\u001b[39m\u001b[38;5;124m'\u001b[39m, lang, config, nice, timeout]\n\u001b[1;32m--> 486\u001b[0m \u001b[38;5;28;01mreturn\u001b[39;00m \u001b[43m{\u001b[49m\n\u001b[0;32m    487\u001b[0m \u001b[43m    \u001b[49m\u001b[43mOutput\u001b[49m\u001b[38;5;241;43m.\u001b[39;49m\u001b[43mBYTES\u001b[49m\u001b[43m:\u001b[49m\u001b[43m \u001b[49m\u001b[38;5;28;43;01mlambda\u001b[39;49;00m\u001b[43m:\u001b[49m\u001b[43m \u001b[49m\u001b[43mrun_and_get_output\u001b[49m\u001b[43m(\u001b[49m\u001b[38;5;241;43m*\u001b[39;49m\u001b[43m(\u001b[49m\u001b[43margs\u001b[49m\u001b[43m \u001b[49m\u001b[38;5;241;43m+\u001b[39;49m\u001b[43m \u001b[49m\u001b[43m[\u001b[49m\u001b[38;5;28;43;01mTrue\u001b[39;49;00m\u001b[43m]\u001b[49m\u001b[43m)\u001b[49m\u001b[43m)\u001b[49m\u001b[43m,\u001b[49m\n\u001b[0;32m    488\u001b[0m \u001b[43m    \u001b[49m\u001b[43mOutput\u001b[49m\u001b[38;5;241;43m.\u001b[39;49m\u001b[43mDICT\u001b[49m\u001b[43m:\u001b[49m\u001b[43m \u001b[49m\u001b[38;5;28;43;01mlambda\u001b[39;49;00m\u001b[43m:\u001b[49m\u001b[43m \u001b[49m\u001b[43m{\u001b[49m\u001b[38;5;124;43m'\u001b[39;49m\u001b[38;5;124;43mtext\u001b[39;49m\u001b[38;5;124;43m'\u001b[39;49m\u001b[43m:\u001b[49m\u001b[43m \u001b[49m\u001b[43mrun_and_get_output\u001b[49m\u001b[43m(\u001b[49m\u001b[38;5;241;43m*\u001b[39;49m\u001b[43margs\u001b[49m\u001b[43m)\u001b[49m\u001b[43m}\u001b[49m\u001b[43m,\u001b[49m\n\u001b[0;32m    489\u001b[0m \u001b[43m    \u001b[49m\u001b[43mOutput\u001b[49m\u001b[38;5;241;43m.\u001b[39;49m\u001b[43mSTRING\u001b[49m\u001b[43m:\u001b[49m\u001b[43m \u001b[49m\u001b[38;5;28;43;01mlambda\u001b[39;49;00m\u001b[43m:\u001b[49m\u001b[43m \u001b[49m\u001b[43mrun_and_get_output\u001b[49m\u001b[43m(\u001b[49m\u001b[38;5;241;43m*\u001b[39;49m\u001b[43margs\u001b[49m\u001b[43m)\u001b[49m\u001b[43m,\u001b[49m\n\u001b[0;32m    490\u001b[0m \u001b[43m\u001b[49m\u001b[43m}\u001b[49m\u001b[43m[\u001b[49m\u001b[43moutput_type\u001b[49m\u001b[43m]\u001b[49m\u001b[43m(\u001b[49m\u001b[43m)\u001b[49m\n",
      "File \u001b[1;32mc:\\Users\\fhacesga\\Anaconda3\\envs\\yolo\\lib\\site-packages\\pytesseract\\pytesseract.py:489\u001b[0m, in \u001b[0;36mimage_to_string.<locals>.<lambda>\u001b[1;34m()\u001b[0m\n\u001b[0;32m    481\u001b[0m \u001b[38;5;250m\u001b[39m\u001b[38;5;124;03m\"\"\"\u001b[39;00m\n\u001b[0;32m    482\u001b[0m \u001b[38;5;124;03mReturns the result of a Tesseract OCR run on the provided image to string\u001b[39;00m\n\u001b[0;32m    483\u001b[0m \u001b[38;5;124;03m\"\"\"\u001b[39;00m\n\u001b[0;32m    484\u001b[0m args \u001b[38;5;241m=\u001b[39m [image, \u001b[38;5;124m'\u001b[39m\u001b[38;5;124mtxt\u001b[39m\u001b[38;5;124m'\u001b[39m, lang, config, nice, timeout]\n\u001b[0;32m    486\u001b[0m \u001b[38;5;28;01mreturn\u001b[39;00m {\n\u001b[0;32m    487\u001b[0m     Output\u001b[38;5;241m.\u001b[39mBYTES: \u001b[38;5;28;01mlambda\u001b[39;00m: run_and_get_output(\u001b[38;5;241m*\u001b[39m(args \u001b[38;5;241m+\u001b[39m [\u001b[38;5;28;01mTrue\u001b[39;00m])),\n\u001b[0;32m    488\u001b[0m     Output\u001b[38;5;241m.\u001b[39mDICT: \u001b[38;5;28;01mlambda\u001b[39;00m: {\u001b[38;5;124m'\u001b[39m\u001b[38;5;124mtext\u001b[39m\u001b[38;5;124m'\u001b[39m: run_and_get_output(\u001b[38;5;241m*\u001b[39margs)},\n\u001b[1;32m--> 489\u001b[0m     Output\u001b[38;5;241m.\u001b[39mSTRING: \u001b[38;5;28;01mlambda\u001b[39;00m: \u001b[43mrun_and_get_output\u001b[49m\u001b[43m(\u001b[49m\u001b[38;5;241;43m*\u001b[39;49m\u001b[43margs\u001b[49m\u001b[43m)\u001b[49m,\n\u001b[0;32m    490\u001b[0m }[output_type]()\n",
      "File \u001b[1;32mc:\\Users\\fhacesga\\Anaconda3\\envs\\yolo\\lib\\site-packages\\pytesseract\\pytesseract.py:352\u001b[0m, in \u001b[0;36mrun_and_get_output\u001b[1;34m(image, extension, lang, config, nice, timeout, return_bytes)\u001b[0m\n\u001b[0;32m    341\u001b[0m \u001b[38;5;28;01mwith\u001b[39;00m save(image) \u001b[38;5;28;01mas\u001b[39;00m (temp_name, input_filename):\n\u001b[0;32m    342\u001b[0m     kwargs \u001b[38;5;241m=\u001b[39m {\n\u001b[0;32m    343\u001b[0m         \u001b[38;5;124m'\u001b[39m\u001b[38;5;124minput_filename\u001b[39m\u001b[38;5;124m'\u001b[39m: input_filename,\n\u001b[0;32m    344\u001b[0m         \u001b[38;5;124m'\u001b[39m\u001b[38;5;124moutput_filename_base\u001b[39m\u001b[38;5;124m'\u001b[39m: temp_name,\n\u001b[1;32m   (...)\u001b[0m\n\u001b[0;32m    349\u001b[0m         \u001b[38;5;124m'\u001b[39m\u001b[38;5;124mtimeout\u001b[39m\u001b[38;5;124m'\u001b[39m: timeout,\n\u001b[0;32m    350\u001b[0m     }\n\u001b[1;32m--> 352\u001b[0m     \u001b[43mrun_tesseract\u001b[49m\u001b[43m(\u001b[49m\u001b[38;5;241;43m*\u001b[39;49m\u001b[38;5;241;43m*\u001b[39;49m\u001b[43mkwargs\u001b[49m\u001b[43m)\u001b[49m\n\u001b[0;32m    353\u001b[0m     \u001b[38;5;28;01mreturn\u001b[39;00m _read_output(\n\u001b[0;32m    354\u001b[0m         \u001b[38;5;124mf\u001b[39m\u001b[38;5;124m\"\u001b[39m\u001b[38;5;132;01m{\u001b[39;00mkwargs[\u001b[38;5;124m'\u001b[39m\u001b[38;5;124moutput_filename_base\u001b[39m\u001b[38;5;124m'\u001b[39m]\u001b[38;5;132;01m}\u001b[39;00m\u001b[38;5;132;01m{\u001b[39;00mextsep\u001b[38;5;132;01m}\u001b[39;00m\u001b[38;5;132;01m{\u001b[39;00mextension\u001b[38;5;132;01m}\u001b[39;00m\u001b[38;5;124m\"\u001b[39m,\n\u001b[0;32m    355\u001b[0m         return_bytes,\n\u001b[0;32m    356\u001b[0m     )\n",
      "File \u001b[1;32mc:\\Users\\fhacesga\\Anaconda3\\envs\\yolo\\lib\\site-packages\\pytesseract\\pytesseract.py:282\u001b[0m, in \u001b[0;36mrun_tesseract\u001b[1;34m(input_filename, output_filename_base, extension, lang, config, nice, timeout)\u001b[0m\n\u001b[0;32m    279\u001b[0m     \u001b[38;5;28;01melse\u001b[39;00m:\n\u001b[0;32m    280\u001b[0m         \u001b[38;5;28;01mraise\u001b[39;00m TesseractNotFoundError()\n\u001b[1;32m--> 282\u001b[0m \u001b[38;5;28;01mwith\u001b[39;00m timeout_manager(proc, timeout) \u001b[38;5;28;01mas\u001b[39;00m error_string:\n\u001b[0;32m    283\u001b[0m     \u001b[38;5;28;01mif\u001b[39;00m proc\u001b[38;5;241m.\u001b[39mreturncode:\n\u001b[0;32m    284\u001b[0m         \u001b[38;5;28;01mraise\u001b[39;00m TesseractError(proc\u001b[38;5;241m.\u001b[39mreturncode, get_errors(error_string))\n",
      "File \u001b[1;32mc:\\Users\\fhacesga\\Anaconda3\\envs\\yolo\\lib\\contextlib.py:113\u001b[0m, in \u001b[0;36m_GeneratorContextManager.__enter__\u001b[1;34m(self)\u001b[0m\n\u001b[0;32m    111\u001b[0m \u001b[38;5;28;01mdel\u001b[39;00m \u001b[38;5;28mself\u001b[39m\u001b[38;5;241m.\u001b[39margs, \u001b[38;5;28mself\u001b[39m\u001b[38;5;241m.\u001b[39mkwds, \u001b[38;5;28mself\u001b[39m\u001b[38;5;241m.\u001b[39mfunc\n\u001b[0;32m    112\u001b[0m \u001b[38;5;28;01mtry\u001b[39;00m:\n\u001b[1;32m--> 113\u001b[0m     \u001b[38;5;28;01mreturn\u001b[39;00m \u001b[38;5;28;43mnext\u001b[39;49m\u001b[43m(\u001b[49m\u001b[38;5;28;43mself\u001b[39;49m\u001b[38;5;241;43m.\u001b[39;49m\u001b[43mgen\u001b[49m\u001b[43m)\u001b[49m\n\u001b[0;32m    114\u001b[0m \u001b[38;5;28;01mexcept\u001b[39;00m \u001b[38;5;167;01mStopIteration\u001b[39;00m:\n\u001b[0;32m    115\u001b[0m     \u001b[38;5;28;01mraise\u001b[39;00m \u001b[38;5;167;01mRuntimeError\u001b[39;00m(\u001b[38;5;124m\"\u001b[39m\u001b[38;5;124mgenerator didn\u001b[39m\u001b[38;5;124m'\u001b[39m\u001b[38;5;124mt yield\u001b[39m\u001b[38;5;124m\"\u001b[39m) \u001b[38;5;28;01mfrom\u001b[39;00m \u001b[38;5;28;01mNone\u001b[39;00m\n",
      "File \u001b[1;32mc:\\Users\\fhacesga\\Anaconda3\\envs\\yolo\\lib\\site-packages\\pytesseract\\pytesseract.py:144\u001b[0m, in \u001b[0;36mtimeout_manager\u001b[1;34m(proc, seconds)\u001b[0m\n\u001b[0;32m    142\u001b[0m \u001b[38;5;28;01mtry\u001b[39;00m:\n\u001b[0;32m    143\u001b[0m     \u001b[38;5;28;01mif\u001b[39;00m \u001b[38;5;129;01mnot\u001b[39;00m seconds:\n\u001b[1;32m--> 144\u001b[0m         \u001b[38;5;28;01myield\u001b[39;00m \u001b[43mproc\u001b[49m\u001b[38;5;241;43m.\u001b[39;49m\u001b[43mcommunicate\u001b[49m\u001b[43m(\u001b[49m\u001b[43m)\u001b[49m[\u001b[38;5;241m1\u001b[39m]\n\u001b[0;32m    145\u001b[0m         \u001b[38;5;28;01mreturn\u001b[39;00m\n\u001b[0;32m    147\u001b[0m     \u001b[38;5;28;01mtry\u001b[39;00m:\n",
      "File \u001b[1;32mc:\\Users\\fhacesga\\Anaconda3\\envs\\yolo\\lib\\subprocess.py:1028\u001b[0m, in \u001b[0;36mPopen.communicate\u001b[1;34m(self, input, timeout)\u001b[0m\n\u001b[0;32m   1025\u001b[0m     endtime \u001b[38;5;241m=\u001b[39m \u001b[38;5;28;01mNone\u001b[39;00m\n\u001b[0;32m   1027\u001b[0m \u001b[38;5;28;01mtry\u001b[39;00m:\n\u001b[1;32m-> 1028\u001b[0m     stdout, stderr \u001b[38;5;241m=\u001b[39m \u001b[38;5;28;43mself\u001b[39;49m\u001b[38;5;241;43m.\u001b[39;49m\u001b[43m_communicate\u001b[49m\u001b[43m(\u001b[49m\u001b[38;5;28;43minput\u001b[39;49m\u001b[43m,\u001b[49m\u001b[43m \u001b[49m\u001b[43mendtime\u001b[49m\u001b[43m,\u001b[49m\u001b[43m \u001b[49m\u001b[43mtimeout\u001b[49m\u001b[43m)\u001b[49m\n\u001b[0;32m   1029\u001b[0m \u001b[38;5;28;01mexcept\u001b[39;00m \u001b[38;5;167;01mKeyboardInterrupt\u001b[39;00m:\n\u001b[0;32m   1030\u001b[0m     \u001b[38;5;66;03m# https://bugs.python.org/issue25942\u001b[39;00m\n\u001b[0;32m   1031\u001b[0m     \u001b[38;5;66;03m# See the detailed comment in .wait().\u001b[39;00m\n\u001b[0;32m   1032\u001b[0m     \u001b[38;5;28;01mif\u001b[39;00m timeout \u001b[38;5;129;01mis\u001b[39;00m \u001b[38;5;129;01mnot\u001b[39;00m \u001b[38;5;28;01mNone\u001b[39;00m:\n",
      "File \u001b[1;32mc:\\Users\\fhacesga\\Anaconda3\\envs\\yolo\\lib\\subprocess.py:1415\u001b[0m, in \u001b[0;36mPopen._communicate\u001b[1;34m(self, input, endtime, orig_timeout)\u001b[0m\n\u001b[0;32m   1411\u001b[0m \u001b[38;5;66;03m# Wait for the reader threads, or time out.  If we time out, the\u001b[39;00m\n\u001b[0;32m   1412\u001b[0m \u001b[38;5;66;03m# threads remain reading and the fds left open in case the user\u001b[39;00m\n\u001b[0;32m   1413\u001b[0m \u001b[38;5;66;03m# calls communicate again.\u001b[39;00m\n\u001b[0;32m   1414\u001b[0m \u001b[38;5;28;01mif\u001b[39;00m \u001b[38;5;28mself\u001b[39m\u001b[38;5;241m.\u001b[39mstdout \u001b[38;5;129;01mis\u001b[39;00m \u001b[38;5;129;01mnot\u001b[39;00m \u001b[38;5;28;01mNone\u001b[39;00m:\n\u001b[1;32m-> 1415\u001b[0m     \u001b[38;5;28;43mself\u001b[39;49m\u001b[38;5;241;43m.\u001b[39;49m\u001b[43mstdout_thread\u001b[49m\u001b[38;5;241;43m.\u001b[39;49m\u001b[43mjoin\u001b[49m\u001b[43m(\u001b[49m\u001b[38;5;28;43mself\u001b[39;49m\u001b[38;5;241;43m.\u001b[39;49m\u001b[43m_remaining_time\u001b[49m\u001b[43m(\u001b[49m\u001b[43mendtime\u001b[49m\u001b[43m)\u001b[49m\u001b[43m)\u001b[49m\n\u001b[0;32m   1416\u001b[0m     \u001b[38;5;28;01mif\u001b[39;00m \u001b[38;5;28mself\u001b[39m\u001b[38;5;241m.\u001b[39mstdout_thread\u001b[38;5;241m.\u001b[39mis_alive():\n\u001b[0;32m   1417\u001b[0m         \u001b[38;5;28;01mraise\u001b[39;00m TimeoutExpired(\u001b[38;5;28mself\u001b[39m\u001b[38;5;241m.\u001b[39margs, orig_timeout)\n",
      "File \u001b[1;32mc:\\Users\\fhacesga\\Anaconda3\\envs\\yolo\\lib\\threading.py:1011\u001b[0m, in \u001b[0;36mThread.join\u001b[1;34m(self, timeout)\u001b[0m\n\u001b[0;32m   1008\u001b[0m     \u001b[38;5;28;01mraise\u001b[39;00m \u001b[38;5;167;01mRuntimeError\u001b[39;00m(\u001b[38;5;124m\"\u001b[39m\u001b[38;5;124mcannot join current thread\u001b[39m\u001b[38;5;124m\"\u001b[39m)\n\u001b[0;32m   1010\u001b[0m \u001b[38;5;28;01mif\u001b[39;00m timeout \u001b[38;5;129;01mis\u001b[39;00m \u001b[38;5;28;01mNone\u001b[39;00m:\n\u001b[1;32m-> 1011\u001b[0m     \u001b[38;5;28;43mself\u001b[39;49m\u001b[38;5;241;43m.\u001b[39;49m\u001b[43m_wait_for_tstate_lock\u001b[49m\u001b[43m(\u001b[49m\u001b[43m)\u001b[49m\n\u001b[0;32m   1012\u001b[0m \u001b[38;5;28;01melse\u001b[39;00m:\n\u001b[0;32m   1013\u001b[0m     \u001b[38;5;66;03m# the behavior of a negative timeout isn't documented, but\u001b[39;00m\n\u001b[0;32m   1014\u001b[0m     \u001b[38;5;66;03m# historically .join(timeout=x) for x<0 has acted as if timeout=0\u001b[39;00m\n\u001b[0;32m   1015\u001b[0m     \u001b[38;5;28mself\u001b[39m\u001b[38;5;241m.\u001b[39m_wait_for_tstate_lock(timeout\u001b[38;5;241m=\u001b[39m\u001b[38;5;28mmax\u001b[39m(timeout, \u001b[38;5;241m0\u001b[39m))\n",
      "File \u001b[1;32mc:\\Users\\fhacesga\\Anaconda3\\envs\\yolo\\lib\\threading.py:1027\u001b[0m, in \u001b[0;36mThread._wait_for_tstate_lock\u001b[1;34m(self, block, timeout)\u001b[0m\n\u001b[0;32m   1025\u001b[0m \u001b[38;5;28;01mif\u001b[39;00m lock \u001b[38;5;129;01mis\u001b[39;00m \u001b[38;5;28;01mNone\u001b[39;00m:  \u001b[38;5;66;03m# already determined that the C code is done\u001b[39;00m\n\u001b[0;32m   1026\u001b[0m     \u001b[38;5;28;01massert\u001b[39;00m \u001b[38;5;28mself\u001b[39m\u001b[38;5;241m.\u001b[39m_is_stopped\n\u001b[1;32m-> 1027\u001b[0m \u001b[38;5;28;01melif\u001b[39;00m \u001b[43mlock\u001b[49m\u001b[38;5;241;43m.\u001b[39;49m\u001b[43macquire\u001b[49m\u001b[43m(\u001b[49m\u001b[43mblock\u001b[49m\u001b[43m,\u001b[49m\u001b[43m \u001b[49m\u001b[43mtimeout\u001b[49m\u001b[43m)\u001b[49m:\n\u001b[0;32m   1028\u001b[0m     lock\u001b[38;5;241m.\u001b[39mrelease()\n\u001b[0;32m   1029\u001b[0m     \u001b[38;5;28mself\u001b[39m\u001b[38;5;241m.\u001b[39m_stop()\n",
      "\u001b[1;31mKeyboardInterrupt\u001b[0m: "
     ]
    }
   ],
   "source": [
    "def extract_bounded_area(image, bbox):\n",
    "    \"\"\"\n",
    "    Extracts the bounded area from the image defined by the bounding box.\n",
    "\n",
    "    Parameters:\n",
    "        image_path (str): Path to the image file.\n",
    "        bbox (tuple): Bounding box coordinates in the format (x, y, width, height),\n",
    "                      normalized by the total image width and height.\n",
    "\n",
    "    Returns:\n",
    "        cropped_image (PIL.Image): Cropped region of the image.\n",
    "    \"\"\"\n",
    "    # image = Image.fromarray(image)\n",
    "\n",
    "    # Get image width and height\n",
    "    image_width, image_height = image.size\n",
    "    \n",
    "    # Convert normalized bounding box to absolute coordinates\n",
    "    x, y, width, height = bbox\n",
    "    x_abs = int(x * image_width)\n",
    "    y_abs = int(y * image_height)\n",
    "    width_abs = int(width * image_width)\n",
    "    height_abs = int(height * image_height)\n",
    "    \n",
    "    # Define bounding box region\n",
    "    bbox_region = (x_abs, y_abs, width_abs, height_abs)\n",
    "\n",
    "    # Crop the image\n",
    "    cropped_image = image.crop(bbox_region)\n",
    "    \n",
    "    return cropped_image\n",
    "\n",
    "for i, result in enumerate(results):\n",
    "\n",
    "    classes = result.boxes.data.numpy()[:, -1]\n",
    "    conf    = result.boxes.data.numpy()[:, -2]\n",
    "\n",
    "    slice = np.logical_and(classes==0, conf > 0.92)\n",
    "\n",
    "    # GOTTA FIND CORRECT FILE BC RESIZED WERE SAVED WITH PNG EXTENSION\n",
    "    basen = os.path.basename(result.path)[:-4]\n",
    "    in_fn = glob.glob(os.path.join(input_folder,  basen + '*'))[0]\n",
    "    key = findKey(basen)\n",
    "\n",
    "    image = Image.open(in_fn)\n",
    "\n",
    "    for i in np.where(slice)[0]: \n",
    "        \n",
    "        # GET TILE DATA\n",
    "        bbox = result.boxes.xyxyn.numpy()[i]\n",
    "        data = extract_bounded_area(image, bbox)\n",
    "\n",
    "        # GET ID FROM TILE\n",
    "        text = pytesseract.image_to_string(data, config='--psm 12 --oem 3') # -c tessedit_char_whitelist=0123456789\n",
    "        word = find_word_with_key(text, key, threshold=80, verbose=False)\n",
    "        \n",
    "\n",
    "\n",
    "        # if len(ocr_text) == 0:\n",
    "        #     continue\n",
    "            \n",
    "        # text = find_word_with_key(ocr_text, key, verbose=verbose)\n",
    "\n",
    "        # plt.imshow(test)\n",
    "        # plt.show()\n",
    "    # print(result.boxes.xyxyn.numpy()[slice])\n",
    "    # error"
   ]
  }
 ],
 "metadata": {
  "kernelspec": {
   "display_name": "Python 3",
   "language": "python",
   "name": "python3"
  },
  "language_info": {
   "codemirror_mode": {
    "name": "ipython",
    "version": 3
   },
   "file_extension": ".py",
   "mimetype": "text/x-python",
   "name": "python",
   "nbconvert_exporter": "python",
   "pygments_lexer": "ipython3",
   "version": "3.8.18"
  }
 },
 "nbformat": 4,
 "nbformat_minor": 2
}
