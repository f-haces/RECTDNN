{
 "cells": [
  {
   "cell_type": "code",
   "execution_count": 1,
   "metadata": {},
   "outputs": [],
   "source": [
    "# PYTHON IMPORTS\n",
    "import os, copy, traceback\n",
    "from tqdm.notebook import trange, tqdm\n",
    "import glob\n",
    "\n",
    "# IMAGE IMPORTS \n",
    "from PIL import Image\n",
    "import cv2\n",
    "\n",
    "# DATA IMPORTS \n",
    "import numpy as np\n",
    "\n",
    "# PLOTTING\n",
    "import matplotlib.pyplot as plt\n",
    "import matplotlib.cm as cm\n",
    "\n",
    "# NEURAL NETWORK\n",
    "import torch, kornia\n",
    "import torch.nn as nn\n",
    "import torch.optim as optim\n",
    "from torch.utils.data import DataLoader, Dataset\n",
    "from torchvision import transforms, datasets\n",
    "from torchvision.transforms import ToPILImage, GaussianBlur\n",
    "from torchvision.transforms import Compose, RandomCrop, ToTensor, Normalize\n",
    "import torch.optim.lr_scheduler as lr_scheduler\n",
    "import torchvision.models as models\n",
    "# from sklearn.preprocessing import LabelEncoder, OneHotEncoder\n",
    "\n",
    "# MY OWN CLASSES\n",
    "from TPNN import *\n",
    "from PlottingUtils import *\n",
    "from DataUtils import * \n",
    "\n",
    "Image.MAX_IMAGE_PIXELS = 933120000"
   ]
  },
  {
   "cell_type": "code",
   "execution_count": 7,
   "metadata": {},
   "outputs": [],
   "source": [
    "class NN_Dataset_V3(Dataset):\n",
    "    def __init__(self, image_dir, mask_dir, input_transform=None, transform=None, resize=None):\n",
    "        \"\"\"\n",
    "        Args:\n",
    "            image_dir (str): Directory with all the images.\n",
    "            mask_dir (str): Directory with all the masks.\n",
    "            transform (callable, optional): Transformation to apply to both images and masks.\n",
    "        \"\"\"\n",
    "        self.image_dir = image_dir\n",
    "        self.mask_dir = mask_dir\n",
    "        self.image_names = sorted(os.listdir(image_dir))  # Ensure matching order\n",
    "        self.mask_names = sorted(os.listdir(mask_dir))   # Ensure matching order\n",
    "        self.transform = transform\n",
    "        self.input_transform = input_transform\n",
    "\n",
    "        # Preload all images and masks into memory\n",
    "        self.images = []\n",
    "        self.masks = []\n",
    "        for fn in self.image_names:\n",
    "            image = Image.open(os.path.join(image_dir, fn)).convert('L')\n",
    "            if resize is not None:\n",
    "                image = cv2.resize(np.array(image).astype(np.uint8), (resize, resize), interpolation= cv2.INTER_AREA)            \n",
    "            image = Image.fromarray(np.array(image).astype(np.uint8))\n",
    "            self.images.append(image)\n",
    "                \n",
    "        self.targets = loadClasses(mask_dir, fns=self.image_names, flip=False)\n",
    "\n",
    "        if resize is not None:\n",
    "            self.targets = [Image.fromarray(cv2.resize(np.array(im), (resize, resize), interpolation= cv2.INTER_AREA)) for im in self.targets]\n",
    "        \n",
    "    def __len__(self):\n",
    "        return len(self.images)\n",
    "\n",
    "    def __getitem__(self, idx):\n",
    "        # Return preloaded image and mask\n",
    "        image = self.images[idx]\n",
    "        target_image = self.targets[idx]\n",
    "\n",
    "        seed = np.random.randint(2147483647)            \n",
    "        if self.transform is not None:\n",
    "            random.seed(seed)\n",
    "            torch.manual_seed(seed)\n",
    "            image = self.transform(image)            \n",
    "            random.seed(seed)\n",
    "            torch.manual_seed(seed)\n",
    "            target_image = self.transform(target_image)\n",
    "        \n",
    "        if self.input_transform is not None:\n",
    "            image = self.input_transform(image)\n",
    "\n",
    "        if torch.max(target_image) < 1:\n",
    "            target_image = target_image * 255\n",
    "\n",
    "        return image, target_image, self.image_names[idx]\n",
    "\n",
    "\n",
    "# In[3]:\n",
    "\n",
    "\n",
    "base_dir = r\"C:\\Users\\fhacesga\\OneDrive - University Of Houston\\AAA_RECTDNN\\data\\FLNN\\AAA_NewDataset_2\\\\\"\n",
    "\n",
    "input_folder        = f\"{base_dir}/in\"\n",
    "val_folder          = f\"{base_dir}/val\"\n",
    "train_target_folder = f\"{base_dir}/out\"\n",
    "val_target_folder   = f\"{base_dir}/val_out\"\n",
    "batch_size          = 2\n",
    "verbose_level       = 2\n",
    "\n",
    "tensor = transforms.Compose([\n",
    "    transforms.ToTensor(),\n",
    "])\n",
    "\n",
    "transform = transforms.Compose([\n",
    "    transforms.RandomRotation(degrees=45),\n",
    "    transforms.RandomHorizontalFlip(),\n",
    "    transforms.RandomVerticalFlip(),\n",
    "    transforms.ToTensor(),\n",
    "])\n",
    "\n",
    "\n",
    "\n",
    "class LocalizedPixelTransform(torch.nn.Module):  # Subclass torch.nn.Module\n",
    "    def __init__(self, blur_prob=0.5, noise_prob=0.5, illumination_prob=0.5, mask_scale=0.5):\n",
    "        super().__init__()\n",
    "        self.blur_prob = blur_prob\n",
    "        self.noise_prob = noise_prob\n",
    "        self.illumination_prob = illumination_prob\n",
    "        self.mask_scale = mask_scale  # Scale controls how much of the image is affected\n",
    "\n",
    "    def generate_mask(self, img_shape):\n",
    "        # Generate a random gradient mask (1 for transformation, 0 elsewhere)\n",
    "        mask = torch.zeros(img_shape[-2:], dtype=torch.float32)\n",
    "        h, w = mask.shape\n",
    "        # Apply a random rectangle in the image as a \"local region\"\n",
    "        x1, y1 = int(w * torch.rand(1).item() * self.mask_scale), int(h * torch.rand(1).item() * self.mask_scale)\n",
    "        x2, y2 = min(w, x1 + int(w * self.mask_scale)), min(h, y1 + int(h * self.mask_scale))\n",
    "        mask[y1:y2, x1:x2] = 1.0\n",
    "        return mask\n",
    "\n",
    "    def forward(self, img):\n",
    "        # Ensure img is a tensor in [C, H, W] format\n",
    "        if not isinstance(img, torch.Tensor):\n",
    "            raise TypeError(\"Input must be a PyTorch tensor.\")\n",
    "\n",
    "        img_shape = img.shape[-2:]  # H, W\n",
    "        mask = self.generate_mask(img_shape).to(img.device)  # Localized mask\n",
    "\n",
    "        # Apply blur\n",
    "        if torch.rand(1).item() < self.blur_prob:\n",
    "            blurred = kornia.filters.gaussian_blur2d(img.unsqueeze(0), (5, 5), (1.5, 1.5)).squeeze(0)\n",
    "            img = img * (1 - mask) + blurred * mask\n",
    "\n",
    "        # Add random noise\n",
    "        if torch.rand(1).item() < self.noise_prob:\n",
    "            noise = torch.randn_like(img) * 0.05\n",
    "            img = img * (1 - mask) + (img + noise) * mask\n",
    "            img = torch.clamp(img, 0, 1)\n",
    "\n",
    "        # Adjust illumination\n",
    "        if torch.rand(1).item() < self.illumination_prob:\n",
    "            factor = 1.0 + (torch.rand(1).item() - 0.5) * 0.4\n",
    "            illuminated = torch.clamp(img * factor, 0, 1)\n",
    "            img = img * (1 - mask) + illuminated * mask\n",
    "\n",
    "        return img"
   ]
  },
  {
   "cell_type": "code",
   "execution_count": 8,
   "metadata": {},
   "outputs": [
    {
     "name": "stdout",
     "output_type": "stream",
     "text": [
      "['ZoneA']\n",
      "{'4802960160B', '480296A_52', '4802960080E', '4802960090C', '4802960155D', '4802960155B', '4855140009C', '4802960155E', '481141_2', '480296A_66', '4802960155C', '4802960125B', '4802960080D', '4802960095C', '48201C0220J', '4802960080B', '48201C0730J', '4802960080C', '4802960005B', '48201C0225G', '480296A_50', '4802960090B', '48039C0035I', '4802960010C', '4802960130B', '4802870185D', '48201C0410L'}\n",
      "4802870185D.jpg\n",
      "4802870185D.jpg\n",
      "4802870185D\n",
      "4802960005B.png\n",
      "4802960005B.png\n",
      "4802960005B\n",
      "4802960010C.png\n",
      "4802960010C.png\n",
      "4802960010C\n",
      "4802960080B.png\n",
      "4802960080B.png\n",
      "4802960080B\n",
      "4802960080C.png\n",
      "4802960080C.png\n",
      "4802960080C\n",
      "4802960080D.png\n",
      "4802960080D.png\n",
      "4802960080D\n",
      "4802960080E.png\n",
      "4802960080E.png\n",
      "4802960080E\n",
      "4802960090B.png\n",
      "4802960090B.png\n",
      "4802960090B\n",
      "4802960090C.png\n",
      "4802960090C.png\n",
      "4802960090C\n",
      "4802960095C.png\n",
      "4802960095C.png\n",
      "4802960095C\n",
      "4802960125B.png\n",
      "4802960125B.png\n",
      "4802960125B\n",
      "4802960130B.png\n",
      "4802960130B.png\n",
      "4802960130B\n",
      "4802960155B.png\n",
      "4802960155B.png\n",
      "4802960155B\n",
      "4802960155C.png\n",
      "4802960155C.png\n",
      "4802960155C\n",
      "4802960155D.png\n",
      "4802960155D.png\n",
      "4802960155D\n",
      "4802960155E.png\n",
      "4802960155E.png\n",
      "4802960155E\n",
      "4802960160B.png\n",
      "4802960160B.png\n",
      "4802960160B\n",
      "480296A_50.tif\n",
      "480296A_50.tif\n",
      "480296A_50\n",
      "480296A_52.tif\n",
      "480296A_52.tif\n",
      "480296A_52\n",
      "480296A_66.tif\n",
      "480296A_66.tif\n",
      "480296A_66\n",
      "48039C0035I.png\n",
      "48039C0035I.png\n",
      "48039C0035I\n",
      "481141_2.tif\n",
      "481141_2.tif\n",
      "481141_2\n",
      "48201C0220J.png\n",
      "48201C0220J.png\n",
      "48201C0220J\n",
      "48201C0225G.tif\n",
      "48201C0225G.tif\n",
      "48201C0225G\n",
      "48201C0410L.tif\n",
      "48201C0410L.tif\n",
      "48201C0410L\n",
      "48201C0730J.tif\n",
      "48201C0730J.tif\n",
      "48201C0730J\n",
      "4855140009C.tif\n",
      "4855140009C.tif\n",
      "4855140009C\n",
      "['ZoneA']\n"
     ]
    },
    {
     "data": {
      "application/vnd.jupyter.widget-view+json": {
       "model_id": "30fd414e9f8645abaf26fe4020aa2b5f",
       "version_major": 2,
       "version_minor": 0
      },
      "text/plain": [
       "  0%|          | 0/27 [00:00<?, ?it/s]"
      ]
     },
     "metadata": {},
     "output_type": "display_data"
    },
    {
     "name": "stdout",
     "output_type": "stream",
     "text": [
      "ZoneA\n",
      "C:\\Users\\fhacesga\\OneDrive - University Of Houston\\AAA_RECTDNN\\data\\FLNN\\AAA_NewDataset_2\\\\/out\\ZoneA\\4802870185D.jpg\n",
      "1\n",
      "uint8\n",
      "1\n",
      "ZoneA\n",
      "C:\\Users\\fhacesga\\OneDrive - University Of Houston\\AAA_RECTDNN\\data\\FLNN\\AAA_NewDataset_2\\\\/out\\ZoneA\\4802960005B.png\n",
      "1\n",
      "uint8\n",
      "1\n",
      "ZoneA\n",
      "C:\\Users\\fhacesga\\OneDrive - University Of Houston\\AAA_RECTDNN\\data\\FLNN\\AAA_NewDataset_2\\\\/out\\ZoneA\\4802960010C.png\n",
      "1\n",
      "uint8\n",
      "1\n",
      "ZoneA\n",
      "C:\\Users\\fhacesga\\OneDrive - University Of Houston\\AAA_RECTDNN\\data\\FLNN\\AAA_NewDataset_2\\\\/out\\ZoneA\\4802960080B.png\n",
      "1\n",
      "uint8\n",
      "1\n",
      "ZoneA\n",
      "C:\\Users\\fhacesga\\OneDrive - University Of Houston\\AAA_RECTDNN\\data\\FLNN\\AAA_NewDataset_2\\\\/out\\ZoneA\\4802960080C.png\n",
      "1\n",
      "uint8\n",
      "1\n",
      "ZoneA\n",
      "C:\\Users\\fhacesga\\OneDrive - University Of Houston\\AAA_RECTDNN\\data\\FLNN\\AAA_NewDataset_2\\\\/out\\ZoneA\\4802960080D.png\n",
      "1\n",
      "uint8\n",
      "1\n",
      "ZoneA\n",
      "C:\\Users\\fhacesga\\OneDrive - University Of Houston\\AAA_RECTDNN\\data\\FLNN\\AAA_NewDataset_2\\\\/out\\ZoneA\\4802960080E.png\n",
      "1\n",
      "uint8\n",
      "1\n",
      "ZoneA\n",
      "C:\\Users\\fhacesga\\OneDrive - University Of Houston\\AAA_RECTDNN\\data\\FLNN\\AAA_NewDataset_2\\\\/out\\ZoneA\\4802960090B.png\n",
      "1\n",
      "uint8\n",
      "1\n",
      "ZoneA\n",
      "C:\\Users\\fhacesga\\OneDrive - University Of Houston\\AAA_RECTDNN\\data\\FLNN\\AAA_NewDataset_2\\\\/out\\ZoneA\\4802960090C.png\n",
      "1\n",
      "uint8\n",
      "1\n",
      "ZoneA\n",
      "C:\\Users\\fhacesga\\OneDrive - University Of Houston\\AAA_RECTDNN\\data\\FLNN\\AAA_NewDataset_2\\\\/out\\ZoneA\\4802960095C.png\n",
      "1\n",
      "uint8\n",
      "1\n",
      "ZoneA\n",
      "C:\\Users\\fhacesga\\OneDrive - University Of Houston\\AAA_RECTDNN\\data\\FLNN\\AAA_NewDataset_2\\\\/out\\ZoneA\\4802960125B.png\n",
      "1\n",
      "uint8\n",
      "1\n",
      "ZoneA\n",
      "C:\\Users\\fhacesga\\OneDrive - University Of Houston\\AAA_RECTDNN\\data\\FLNN\\AAA_NewDataset_2\\\\/out\\ZoneA\\4802960130B.png\n",
      "1\n",
      "uint8\n",
      "1\n",
      "ZoneA\n",
      "C:\\Users\\fhacesga\\OneDrive - University Of Houston\\AAA_RECTDNN\\data\\FLNN\\AAA_NewDataset_2\\\\/out\\ZoneA\\4802960155B.png\n",
      "1\n",
      "uint8\n",
      "1\n",
      "ZoneA\n",
      "C:\\Users\\fhacesga\\OneDrive - University Of Houston\\AAA_RECTDNN\\data\\FLNN\\AAA_NewDataset_2\\\\/out\\ZoneA\\4802960155C.png\n",
      "1\n",
      "uint8\n",
      "1\n",
      "ZoneA\n",
      "C:\\Users\\fhacesga\\OneDrive - University Of Houston\\AAA_RECTDNN\\data\\FLNN\\AAA_NewDataset_2\\\\/out\\ZoneA\\4802960155D.png\n",
      "1\n",
      "uint8\n",
      "1\n",
      "ZoneA\n",
      "C:\\Users\\fhacesga\\OneDrive - University Of Houston\\AAA_RECTDNN\\data\\FLNN\\AAA_NewDataset_2\\\\/out\\ZoneA\\4802960155E.png\n",
      "1\n",
      "uint8\n",
      "1\n",
      "ZoneA\n",
      "C:\\Users\\fhacesga\\OneDrive - University Of Houston\\AAA_RECTDNN\\data\\FLNN\\AAA_NewDataset_2\\\\/out\\ZoneA\\4802960160B.png\n",
      "1\n",
      "uint8\n",
      "1\n",
      "ZoneA\n",
      "C:\\Users\\fhacesga\\OneDrive - University Of Houston\\AAA_RECTDNN\\data\\FLNN\\AAA_NewDataset_2\\\\/out\\ZoneA\\480296A_50.tif\n",
      "1\n",
      "uint8\n",
      "1\n",
      "ZoneA\n",
      "C:\\Users\\fhacesga\\OneDrive - University Of Houston\\AAA_RECTDNN\\data\\FLNN\\AAA_NewDataset_2\\\\/out\\ZoneA\\480296A_52.tif\n",
      "1\n",
      "uint8\n",
      "1\n",
      "ZoneA\n",
      "C:\\Users\\fhacesga\\OneDrive - University Of Houston\\AAA_RECTDNN\\data\\FLNN\\AAA_NewDataset_2\\\\/out\\ZoneA\\480296A_66.tif\n",
      "1\n",
      "uint8\n",
      "1\n",
      "ZoneA\n",
      "C:\\Users\\fhacesga\\OneDrive - University Of Houston\\AAA_RECTDNN\\data\\FLNN\\AAA_NewDataset_2\\\\/out\\ZoneA\\48039C0035I.png\n",
      "1\n",
      "uint8\n",
      "1\n",
      "ZoneA\n",
      "C:\\Users\\fhacesga\\OneDrive - University Of Houston\\AAA_RECTDNN\\data\\FLNN\\AAA_NewDataset_2\\\\/out\\ZoneA\\481141_2.tif\n",
      "1\n",
      "uint8\n",
      "1\n",
      "ZoneA\n",
      "C:\\Users\\fhacesga\\OneDrive - University Of Houston\\AAA_RECTDNN\\data\\FLNN\\AAA_NewDataset_2\\\\/out\\ZoneA\\48201C0220J.png\n",
      "1\n",
      "uint8\n",
      "1\n",
      "ZoneA\n",
      "C:\\Users\\fhacesga\\OneDrive - University Of Houston\\AAA_RECTDNN\\data\\FLNN\\AAA_NewDataset_2\\\\/out\\ZoneA\\48201C0225G.tif\n",
      "1\n",
      "uint8\n",
      "1\n",
      "ZoneA\n",
      "C:\\Users\\fhacesga\\OneDrive - University Of Houston\\AAA_RECTDNN\\data\\FLNN\\AAA_NewDataset_2\\\\/out\\ZoneA\\48201C0410L.tif\n",
      "1\n",
      "uint8\n",
      "1\n",
      "ZoneA\n",
      "C:\\Users\\fhacesga\\OneDrive - University Of Houston\\AAA_RECTDNN\\data\\FLNN\\AAA_NewDataset_2\\\\/out\\ZoneA\\48201C0730J.tif\n",
      "1\n",
      "uint8\n",
      "1\n",
      "ZoneA\n",
      "C:\\Users\\fhacesga\\OneDrive - University Of Houston\\AAA_RECTDNN\\data\\FLNN\\AAA_NewDataset_2\\\\/out\\ZoneA\\4855140009C.tif\n",
      "1\n",
      "uint8\n",
      "1\n",
      "['ZoneA']\n",
      "{'480296A_56', '4802960090B'}\n",
      "4802960090B.png\n",
      "4802960090B.png\n",
      "4802960090B\n",
      "480296A_56.tif\n",
      "480296A_56.tif\n",
      "480296A_56\n",
      "['ZoneA']\n"
     ]
    },
    {
     "data": {
      "application/vnd.jupyter.widget-view+json": {
       "model_id": "fd565c17544a4f4b92da9092f0389461",
       "version_major": 2,
       "version_minor": 0
      },
      "text/plain": [
       "  0%|          | 0/2 [00:00<?, ?it/s]"
      ]
     },
     "metadata": {},
     "output_type": "display_data"
    },
    {
     "name": "stdout",
     "output_type": "stream",
     "text": [
      "ZoneA\n",
      "C:\\Users\\fhacesga\\OneDrive - University Of Houston\\AAA_RECTDNN\\data\\FLNN\\AAA_NewDataset_2\\\\/val_out\\ZoneA\\4802960090B.png\n",
      "1\n",
      "uint8\n",
      "1\n",
      "ZoneA\n",
      "C:\\Users\\fhacesga\\OneDrive - University Of Houston\\AAA_RECTDNN\\data\\FLNN\\AAA_NewDataset_2\\\\/val_out\\ZoneA\\480296A_56.tif\n",
      "1\n",
      "uint8\n",
      "1\n"
     ]
    }
   ],
   "source": [
    "# Integrate into the transform pipeline\n",
    "input_transform = transforms.RandomApply(torch.nn.ModuleList([\n",
    "    transforms.ColorJitter(0.3, 0.3, 0.3, 0.3),\n",
    "    # LocalizedPixelTransform(blur_prob=0.7, noise_prob=0.5, illumination_prob=0.6, mask_scale=0.3),\n",
    "]), p=1)\n",
    "\n",
    "tensor = transforms.Compose([transforms.ToTensor()])\n",
    "\n",
    "train_dataset = NN_Dataset_V3(input_folder, train_target_folder, transform=transform, \n",
    "                              input_transform=input_transform, resize=1536)\n",
    "train_loader  = DataLoader(train_dataset, batch_size=batch_size, shuffle=True, num_workers=0)\n",
    "val_dataset = NN_Dataset_V3(val_folder, val_target_folder, transform=transform, \n",
    "                              input_transform=input_transform, resize=1536)\n",
    "val_loader  = DataLoader(val_dataset, batch_size=batch_size, shuffle=False, num_workers=0)"
   ]
  },
  {
   "cell_type": "code",
   "execution_count": null,
   "metadata": {},
   "outputs": [],
   "source": [
    "torch.max(tensor)"
   ]
  },
  {
   "cell_type": "code",
   "execution_count": 5,
   "metadata": {},
   "outputs": [
    {
     "name": "stdout",
     "output_type": "stream",
     "text": [
      "0 tensor(0.0039)\n",
      "1 tensor(0.0039)\n",
      "2 tensor(0.0039)\n",
      "3 tensor(0.0039)\n",
      "4 tensor(0.0039)\n",
      "5 tensor(0.0039)\n",
      "6 tensor(0.0039)\n",
      "7 tensor(0.0039)\n",
      "8 tensor(0.0039)\n",
      "9 tensor(0.0039)\n",
      "10 tensor(0.0039)\n",
      "11 tensor(0.0039)\n",
      "12 tensor(0.0039)\n",
      "13 tensor(0.0039)\n",
      "14 tensor(0.0039)\n",
      "15 tensor(0.0039)\n",
      "16 tensor(0.0039)\n",
      "17 tensor(0.0039)\n",
      "18 tensor(0.0039)\n",
      "19 tensor(0.0039)\n",
      "20 tensor(0.0039)\n",
      "21 tensor(0.0039)\n",
      "22 tensor(0.0039)\n",
      "23 tensor(0.0039)\n",
      "24 tensor(0.0039)\n",
      "25 tensor(0.0039)\n",
      "26 tensor(0.0039)\n"
     ]
    },
    {
     "ename": "IndexError",
     "evalue": "list index out of range",
     "output_type": "error",
     "traceback": [
      "\u001b[1;31m---------------------------------------------------------------------------\u001b[0m",
      "\u001b[1;31mIndexError\u001b[0m                                Traceback (most recent call last)",
      "Cell \u001b[1;32mIn[5], line 2\u001b[0m\n\u001b[0;32m      1\u001b[0m \u001b[38;5;28;01mfor\u001b[39;00m i \u001b[38;5;129;01min\u001b[39;00m \u001b[38;5;28mrange\u001b[39m(\u001b[38;5;241m30\u001b[39m):\n\u001b[1;32m----> 2\u001b[0m     \u001b[38;5;28mprint\u001b[39m(i, torch\u001b[38;5;241m.\u001b[39mmax(tensor(\u001b[43mtrain_dataset\u001b[49m\u001b[38;5;241;43m.\u001b[39;49m\u001b[43mtargets\u001b[49m\u001b[43m[\u001b[49m\u001b[43mi\u001b[49m\u001b[43m]\u001b[49m)))\n",
      "\u001b[1;31mIndexError\u001b[0m: list index out of range"
     ]
    }
   ],
   "source": [
    "for i in range(30):\n",
    "    print(i, torch.max(tensor(train_dataset.targets[i])))"
   ]
  },
  {
   "cell_type": "code",
   "execution_count": 9,
   "metadata": {},
   "outputs": [
    {
     "name": "stdout",
     "output_type": "stream",
     "text": [
      "0 tensor(1.)\n",
      "1 tensor(1.)\n",
      "2 tensor(1.)\n",
      "3 tensor(1.)\n",
      "4 tensor(1.)\n",
      "5 tensor(1.)\n",
      "6 tensor(1.)\n",
      "7 tensor(1.)\n",
      "8 tensor(1.)\n",
      "9 tensor(1.)\n",
      "10 tensor(1.)\n",
      "11 tensor(1.)\n",
      "12 tensor(1.)\n",
      "13 tensor(1.)\n",
      "14 tensor(1.)\n",
      "15 tensor(1.)\n",
      "16 tensor(1.)\n",
      "17 tensor(1.)\n",
      "18 tensor(1.)\n",
      "19 tensor(1.)\n",
      "20 tensor(1.)\n",
      "21 tensor(1.)\n",
      "22 tensor(1.)\n",
      "23 tensor(1.)\n",
      "24 tensor(1.)\n",
      "25 tensor(1.)\n",
      "26 tensor(1.)\n"
     ]
    },
    {
     "ename": "IndexError",
     "evalue": "list index out of range",
     "output_type": "error",
     "traceback": [
      "\u001b[1;31m---------------------------------------------------------------------------\u001b[0m",
      "\u001b[1;31mIndexError\u001b[0m                                Traceback (most recent call last)",
      "Cell \u001b[1;32mIn[9], line 2\u001b[0m\n\u001b[0;32m      1\u001b[0m \u001b[38;5;28;01mfor\u001b[39;00m i \u001b[38;5;129;01min\u001b[39;00m \u001b[38;5;28mrange\u001b[39m(\u001b[38;5;241m30\u001b[39m):\n\u001b[1;32m----> 2\u001b[0m     \u001b[38;5;28mprint\u001b[39m(i, torch\u001b[38;5;241m.\u001b[39mmax(\u001b[43mtrain_dataset\u001b[49m\u001b[43m[\u001b[49m\u001b[43mi\u001b[49m\u001b[43m]\u001b[49m[\u001b[38;5;241m1\u001b[39m][\u001b[38;5;241m0\u001b[39m, : ,: ]))\n",
      "Cell \u001b[1;32mIn[7], line 36\u001b[0m, in \u001b[0;36mNN_Dataset_V3.__getitem__\u001b[1;34m(self, idx)\u001b[0m\n\u001b[0;32m     34\u001b[0m \u001b[38;5;28;01mdef\u001b[39;00m \u001b[38;5;21m__getitem__\u001b[39m(\u001b[38;5;28mself\u001b[39m, idx):\n\u001b[0;32m     35\u001b[0m     \u001b[38;5;66;03m# Return preloaded image and mask\u001b[39;00m\n\u001b[1;32m---> 36\u001b[0m     image \u001b[38;5;241m=\u001b[39m \u001b[38;5;28;43mself\u001b[39;49m\u001b[38;5;241;43m.\u001b[39;49m\u001b[43mimages\u001b[49m\u001b[43m[\u001b[49m\u001b[43midx\u001b[49m\u001b[43m]\u001b[49m\n\u001b[0;32m     37\u001b[0m     target_image \u001b[38;5;241m=\u001b[39m \u001b[38;5;28mself\u001b[39m\u001b[38;5;241m.\u001b[39mtargets[idx]\n\u001b[0;32m     39\u001b[0m     seed \u001b[38;5;241m=\u001b[39m np\u001b[38;5;241m.\u001b[39mrandom\u001b[38;5;241m.\u001b[39mrandint(\u001b[38;5;241m2147483647\u001b[39m)            \n",
      "\u001b[1;31mIndexError\u001b[0m: list index out of range"
     ]
    }
   ],
   "source": [
    "for i in range(30):\n",
    "    print(i, torch.max(train_dataset[i][1][0, : ,: ]))"
   ]
  },
  {
   "cell_type": "code",
   "execution_count": null,
   "metadata": {},
   "outputs": [],
   "source": []
  },
  {
   "cell_type": "code",
   "execution_count": null,
   "metadata": {},
   "outputs": [],
   "source": []
  },
  {
   "cell_type": "code",
   "execution_count": null,
   "metadata": {},
   "outputs": [
    {
     "name": "stdout",
     "output_type": "stream",
     "text": [
      "WARNING  Python>=3.10 is required, but Python==3.8.18 is currently installed \n"
     ]
    }
   ],
   "source": [
    "# NOTEBOOK IMPORTS\n",
    "import os, glob, warnings, pickle, re\n",
    "import numpy as np\n",
    "from shutil import copyfile, rmtree\n",
    "from datetime import datetime\n",
    "from fuzzywuzzy import process\n",
    "\n",
    "# IMAGE IMPORTS\n",
    "from PIL import Image\n",
    "import cv2\n",
    "\n",
    "# GIS IMPORTS\n",
    "from affinetransformation import *\n",
    "from affine import Affine\n",
    "import pandas as pd\n",
    "import geopandas as gpd\n",
    "from shapely.geometry import Polygon, LineString, Point, MultiPoint, box\n",
    "import rasterio as rio\n",
    "import contextily as cx\n",
    "\n",
    "# IMAGE IMPORTS\n",
    "from skimage.morphology import skeletonize\n",
    "from skimage import img_as_bool, img_as_ubytebbb\n",
    "\n",
    "\n",
    "# PLOTTING IMPORTS\n",
    "import matplotlib.pyplot as plt\n",
    "\n",
    "# CUSTOM UTILITIES\n",
    "from IndexUtils import * \n",
    "from TileUtils import *\n",
    "\n",
    "# TILED INFERENCE\n",
    "import sahi\n",
    "from sahi import AutoDetectionModel\n",
    "from sahi.predict import get_sliced_prediction, predict\n",
    "sahi.utils.cv.IMAGE_EXTENSIONS = ['.jpg', '.jpeg', '.png', '.tiff', '.bmp', '.tif']\n",
    "\n",
    "Image.MAX_IMAGE_PIXELS = 933120000\n",
    "warnings.filterwarnings(\"ignore\")\n",
    "initialize = False\n",
    "\n",
    "%matplotlib widget"
   ]
  },
  {
   "cell_type": "code",
   "execution_count": null,
   "metadata": {},
   "outputs": [],
   "source": [
    "pkl = r\"D:\\RECTDNN\\processing\\2024-10-11_15-08-46\\street_corners\\exp4\\pickles\\48201C0005G.pickle\""
   ]
  },
  {
   "cell_type": "code",
   "execution_count": null,
   "metadata": {},
   "outputs": [],
   "source": [
    "def saveImages(prob_img_or, outputs, filenames, minputs, outputs_folder, rep_id, labels,):\n",
    "    \n",
    "    # IF FOR SOME REASON OUTPUT IS UNBATCHED, BATCH IT\n",
    "    if prob_img_or.ndim == 3:\n",
    "        prob_img_or = prob_img_or.unsqueeze(0)\n",
    "        \n",
    "    # CONVERT TO NUMPY ARRAY\n",
    "    prob_img_or = prob_img_or.numpy()\n",
    "    \n",
    "    # FOR EACH BATCHED OUTPUT\n",
    "    for i in range(len(outputs)):\n",
    "        filename = filenames[i]\n",
    "\n",
    "        # CONVERT TO IMAGE NUMPY ARRAY\n",
    "        prob_img = prob_img_or[i, :, :, :]\n",
    "        prob_img = (prob_img * 255).astype(np.uint8) \n",
    "        prob_img = np.moveaxis(prob_img, [0, 1, 2], [2, 0, 1])\n",
    "\n",
    "        # SAVE TO FILE\n",
    "        myout = probability_to_rgb(prob_img)\n",
    "        myout.save(os.path.join(outputs_folder, f\"{rep_id}_{filename[:-4]}_out.png\"))\n",
    "\n",
    "        # SAVE INPUTS\n",
    "        myinp = Image.fromarray(np.uint8(minputs[i, 0, :, :] * 255))\n",
    "        myinp.save(os.path.join(outputs_folder, f\"{rep_id}_{filename[:-4]}_inp.png\"))\n",
    "\n",
    "        # SAVE OUTPUTS\n",
    "        mylab = class_to_one_hot(labels[i, :, :], prob_img.shape[-1])\n",
    "        mylab = probability_to_rgb(mylab)\n",
    "        mylab.save(os.path.join(outputs_folder, f\"{rep_id}_{filename[:-4]}_lab.png\"))"
   ]
  },
  {
   "cell_type": "code",
   "execution_count": null,
   "metadata": {},
   "outputs": [
    {
     "data": {
      "text/plain": [
       "17"
      ]
     },
     "execution_count": 13,
     "metadata": {},
     "output_type": "execute_result"
    }
   ],
   "source": [
    "outputs"
   ]
  },
  {
   "cell_type": "code",
   "execution_count": null,
   "metadata": {},
   "outputs": [
    {
     "data": {
      "text/plain": [
       "['D:\\\\RECTDNN\\\\processing\\\\2024-10-11_15-08-46\\\\street_corners\\\\exp4\\\\pickles\\\\\\\\']"
      ]
     },
     "execution_count": 20,
     "metadata": {},
     "output_type": "execute_result"
    }
   ],
   "source": [
    "pkl_files"
   ]
  },
  {
   "cell_type": "code",
   "execution_count": null,
   "metadata": {},
   "outputs": [
    {
     "name": "stdout",
     "output_type": "stream",
     "text": [
      "D:\\RECTDNN\\processing\\2024-10-11_15-08-46\\street_corners\\exp4\\pickles\\\n"
     ]
    }
   ],
   "source": [
    "def get_largest_subdirectory(base_dir):\n",
    "    subdirs = [d for d in os.listdir(base_dir) if os.path.isdir(os.path.join(base_dir, d))]\n",
    "    numbered_subdirs = [(d, int(d.replace('exp', ''))) for d in subdirs if d.startswith('exp') and d[3:].isdigit()]\n",
    "    largest_subdir = max(numbered_subdirs, key=lambda x: x[1])[0] if numbered_subdirs else None\n",
    "    return os.path.join(base_dir, largest_subdir)\n",
    "\n",
    "yolo_path = r\"D:\\RECTDNN\\processing\\2024-10-11_15-08-46\\street_corners\"\n",
    "pkldir    = os.path.join(get_largest_subdirectory(yolo_path), \"pickles\\\\\")\n",
    "print(pkldir)\n",
    "\n",
    "pkl_files = glob.glob(pkldir + \"*\")\n",
    "\n",
    "out_dict = {}\n",
    "\n",
    "for pkl in pkl_files:\n",
    "    with open(pkl, 'rb') as f:\n",
    "        x = pickle.load(f)\n",
    "\n",
    "    out_dict[os.path.basename(pkl)] = np.array([calcCenter(a.bbox.to_xyxy()) for a in x])\n",
    "\n"
   ]
  },
  {
   "cell_type": "code",
   "execution_count": null,
   "metadata": {},
   "outputs": [
    {
     "name": "stdout",
     "output_type": "stream",
     "text": [
      "54\n"
     ]
    },
    {
     "data": {
      "application/vnd.jupyter.widget-view+json": {
       "model_id": "3fba596818824b87b4c8bb7cd373fd21",
       "version_major": 2,
       "version_minor": 0
      },
      "image/png": "[encoded data removed]",
      "text/html": [
       "\n",
       "            <div style=\"display: inline-block;\">\n",
       "                <div class=\"jupyter-widgets widget-label\" style=\"text-align: center;\">\n",
       "                    Figure\n",
       "                </div>\n",
       "                <img src='data:image/png;base64,iVBORw0KGgoAAAANSUhEUgAAAoAAAAHgCAYAAAA10dzkAAAAOXRFWHRTb2Z0d2FyZQBNYXRwbG90bGliIHZlcnNpb24zLjcuMiwgaHR0cHM6Ly9tYXRwbG90bGliLm9yZy8pXeV/AAAACXBIWXMAAA9hAAAPYQGoP6dpAAAdyklEQVR4nO3df2zc9X348dcRk4sTbK/AOOPGBGczo22gpUmXkrEm/RFPacZWRao60tJ0PyTSEBY36kLSTKpbgZ3ljyirsmYCTTQTy1JNpR0bHYppqdsqYoRA1jRMlGomuC2uxZrahqT2IO/vH1/lhhvSBeLz4Xs/HtJJ3Ofz8acvvxvhJ+87XwoppRQAAGTjgmoPAADA1BKAAACZEYAAAJkRgAAAmRGAAACZEYAAAJkRgAAAmRGAAACZEYAAAJkRgAAAmRGAAACZEYAAAJkRgAAAmRGAAACZEYAAAJkRgAAAmRGAAACZEYAAAJkRgAAAmRGAAACZEYAAAJkRgAAAmRGAAACZEYAAAJkRgAAAmRGAAACZEYAAAJkRgAAAmRGAAACZEYAAAJkRgAAAmRGAAACZEYAAAJkRgAAAmRGAAACZEYAAAJkRgAAAmRGAAACZEYAAAJkRgAAAmRGAAACZEYAAAJkRgAAAmRGAAACZEYAAAJkRgAAAmRGAAACZEYAAAJkRgAAAmRGAAACZEYAAAJkRgAAAmRGAAACZEYAAAJkRgAAAmanZAOzq6opCoTDh0dzcXD6fUoqurq5oaWmJ+vr6WLZsWRw9erSKEwMATI26ag9QSW9729vioYceKj+fMWNG+Z+3b98eO3bsiC996Utx1VVXxR133BHLly+Pp556KhoaGs7p/qdOnYqf/OQn0dDQEIVCYdLnBwAmX0opRkdHo6WlJS64oGb3wn6lmg7Aurq6Cbt+p6WUYufOnbF169ZYtWpVRETs2bMnSqVS7N27N2655ZZzuv9PfvKTaG1tndSZAYCpMTAwEHPnzq32GFVR0wH49NNPR0tLSxSLxVi8eHF0d3fH/Pnzo7+/PwYHB6Ojo6N8bbFYjKVLl8aBAwfOOQBP7xQODAxEY2NjRb4HAGByjYyMRGtr6zm/4leLajYAFy9eHH//938fV111Vfz0pz+NO+64I5YsWRJHjx6NwcHBiIgolUoTvqZUKsWxY8fOes+xsbEYGxsrPx8dHY2IiMbGRgEIANNMzm/fqtkAXLFiRfmfr7nmmrj++uvjN37jN2LPnj3x7ne/OyLO/D8+pfQr/zD09PTE5z73ucoMDAAwRbJ55+OcOXPimmuuiaeffrr8vsDTO4GnDQ0NnbEr+EpbtmyJ4eHh8mNgYKCiMwMAVEI2ATg2Nhb/+Z//GZdffnm0tbVFc3Nz9Pb2ls+Pj49HX19fLFmy5Kz3KBaL5Zd7vewLAExXNfsS8Kc//em48cYb44orroihoaG44447YmRkJNasWROFQiE6Ozuju7s72tvbo729Pbq7u2P27NmxevXqao8OAFBRNRuAP/rRj+Kmm26K559/Pn7913893v3ud8cjjzwS8+bNi4iITZs2xcmTJ2PdunVx/PjxWLx4cezfvz/r3wgCAPJQSCmlag8xXY2MjERTU1MMDw97ORgApgk/vzN6DyAAAP+fAAQAyIwABADIjAAEAMiMAAQAyIwABADIjAAEAMiMAAQAyEzN/k0gteDKzQ9Ue4TX7JltK6s9AgDwf7ADCACQGQEIAJAZAQgAkBkBCACQGQEIAJAZAQgAkBkBCACQGQEIAJAZAQgAkBkBCACQGQEIAJAZAQgAkBkBCACQGQEIAJAZAQgAkBkBCACQGQEIAJAZAQgAkBkBCACQGQEIAJAZAQgAkBkBCACQGQEIAJAZAQgAkBkBCACQGQEIAJAZAQgAkBkBCACQGQEIAJAZAQgAkBkBCACQGQEIAJAZAQgAkBkBCACQGQEIAJAZAQgAkBkBCACQGQEIAJAZAQgAkBkBCACQGQEIAJAZAQgAkBkBCACQGQEIAJAZAQgAkBkBCACQGQEIAJAZAQgAkBkBCACQGQEIAJAZAQgAkBkBCACQGQEIAJCZLAKwp6cnCoVCdHZ2lo+llKKrqytaWlqivr4+li1bFkePHq3ekAAAU6TmA/DgwYNx1113xbXXXjvh+Pbt22PHjh2xa9euOHjwYDQ3N8fy5ctjdHS0SpMCAEyNmg7AF154IT760Y/G3XffHW9605vKx1NKsXPnzti6dWusWrUqFixYEHv27IkTJ07E3r17qzgxAEDl1XQA3nrrrbFy5cr4wAc+MOF4f39/DA4ORkdHR/lYsViMpUuXxoEDB6Z6TACAKVVX7QEqZd++ffH444/HwYMHzzg3ODgYERGlUmnC8VKpFMeOHTvrPcfGxmJsbKz8fGRkZJKmBQCYOjW5AzgwMBAbNmyIe++9N2bNmnXW6wqFwoTnKaUzjr1ST09PNDU1lR+tra2TNjMAwFSpyQA8dOhQDA0NxcKFC6Ouri7q6uqir68vvvCFL0RdXV155+/0TuBpQ0NDZ+wKvtKWLVtieHi4/BgYGKjo9wEAUAk1+RLw+9///jhy5MiEY3/8x38cV199ddx+++0xf/78aG5ujt7e3rjuuusiImJ8fDz6+vrir/7qr85632KxGMVisaKzAwBUWk0GYENDQyxYsGDCsTlz5sQll1xSPt7Z2Rnd3d3R3t4e7e3t0d3dHbNnz47Vq1dXY2QAgClTkwF4LjZt2hQnT56MdevWxfHjx2Px4sWxf//+aGhoqPZoAAAVVUgppWoPMV2NjIxEU1NTDA8PR2Nj46Tf/8rND0z6PSvtmW0rqz0CAPxKlf75PR3U5C+BAABwdgIQACAzAhAAIDMCEAAgMwIQACAzAhAAIDMCEAAgMwIQACAzAhAAIDMCEAAgMwIQACAzAhAAIDMCEAAgMwIQACAzAhAAIDMCEAAgMwIQACAzAhAAIDMCEAAgMwIQACAzAhAAIDMCEAAgMwIQACAzAhAAIDMCEAAgMwIQACAzAhAAIDMCEAAgMwIQACAzAhAAIDMCEAAgMwIQACAzAhAAIDMCEAAgMwIQACAzAhAAIDMCEAAgMwIQACAzddUegNpy5eYHqj3Ca/bMtpXVHgEAppQdQACAzAhAAIDMCEAAgMwIQACAzAhAAIDMCEAAgMz4GBiYhnzcDgDnww4gAEBmBCAAQGYEIABAZgQgAEBmBCAAQGYEIABAZgQgAEBmfA4g2ZuOn6kHAOfDDiAAQGYEIABAZgQgAEBmBCAAQGYEIABAZgQgAEBmBCAAQGYEIABAZgQgAEBmajYAd+/eHddee200NjZGY2NjXH/99fFv//Zv5fMppejq6oqWlpaor6+PZcuWxdGjR6s4MQDA1KjZAJw7d25s27YtHnvssXjsscfife97X/zhH/5hOfK2b98eO3bsiF27dsXBgwejubk5li9fHqOjo1WeHACgsmo2AG+88cb44Ac/GFdddVVcddVVceedd8ZFF10UjzzySKSUYufOnbF169ZYtWpVLFiwIPbs2RMnTpyIvXv3Vnt0AICKqtkAfKWXX3459u3bFy+++GJcf/310d/fH4ODg9HR0VG+plgsxtKlS+PAgQNnvc/Y2FiMjIxMeAAATDc1HYBHjhyJiy66KIrFYqxduza++tWvxlvf+tYYHByMiIhSqTTh+lKpVD73anp6eqKpqan8aG1trej8AACVUNMB+Fu/9Vtx+PDheOSRR+KTn/xkrFmzJp588sny+UKhMOH6lNIZx15py5YtMTw8XH4MDAxUbHYAgEqpq/YAlTRz5sz4zd/8zYiIWLRoURw8eDD++q//Om6//faIiBgcHIzLL7+8fP3Q0NAZu4KvVCwWo1gsVnZoAIAKq+kdwF+WUoqxsbFoa2uL5ubm6O3tLZ8bHx+Pvr6+WLJkSRUnBACovJrdAfzMZz4TK1asiNbW1hgdHY19+/bFt771rXjwwQejUChEZ2dndHd3R3t7e7S3t0d3d3fMnj07Vq9eXe3RAQAqqmYD8Kc//WncfPPN8dxzz0VTU1Nce+218eCDD8by5csjImLTpk1x8uTJWLduXRw/fjwWL14c+/fvj4aGhipPDgBQWYWUUqr2ENPVyMhINDU1xfDwcDQ2Nk76/a/c/MCk3xOq5ZltK6s9AkBEVP7n93SQ1XsAAQAQgAAA2RGAAACZEYAAAJkRgAAAmRGAAACZEYAAAJkRgAAAmRGAAACZEYAAAJkRgAAAmRGAAACZEYAAAJkRgAAAmRGAAACZEYAAAJkRgAAAmRGAAACZEYAAAJkRgAAAmRGAAACZEYAAAJkRgAAAmRGAAACZEYAAAJkRgAAAmRGAAACZEYAAAJkRgAAAmRGAAACZEYAAAJkRgAAAmRGAAACZEYAAAJkRgAAAmRGAAACZEYAAAJkRgAAAmRGAAACZEYAAAJkRgAAAmRGAAACZEYAAAJkRgAAAmRGAAACZEYAAAJkRgAAAmRGAAACZEYAAAJkRgAAAmRGAAACZEYAAAJkRgAAAmRGAAACZEYAAAJkRgAAAmRGAAACZEYAAAJkRgAAAmamr9gBAHq7c/EC1R3jNntm2stojvGbWGTgXdgABADIjAAEAMlOzAdjT0xPvete7oqGhIS677LL40Ic+FE899dSEa1JK0dXVFS0tLVFfXx/Lli2Lo0ePVmliAICpUbMB2NfXF7feems88sgj0dvbGy+99FJ0dHTEiy++WL5m+/btsWPHjti1a1ccPHgwmpubY/ny5TE6OlrFyQEAKqtmfwnkwQcfnPD8nnvuicsuuywOHToU73nPeyKlFDt37oytW7fGqlWrIiJiz549USqVYu/evXHLLbdUY2wAgIqr2R3AXzY8PBwRERdffHFERPT398fg4GB0dHSUrykWi7F06dI4cOBAVWYEAJgKNbsD+Eoppdi4cWPccMMNsWDBgoiIGBwcjIiIUqk04dpSqRTHjh171fuMjY3F2NhY+fnIyEiFJgYAqJwsdgDXr18f3/ve9+If//EfzzhXKBQmPE8pnXHstJ6enmhqaio/WltbKzIvAEAl1XwA3nbbbXH//ffHww8/HHPnzi0fb25ujoj/3Qk8bWho6IxdwdO2bNkSw8PD5cfAwEDlBgcAqJCaDcCUUqxfvz7uu++++OY3vxltbW0Tzre1tUVzc3P09vaWj42Pj0dfX18sWbLkVe9ZLBajsbFxwgMAYLqp2fcA3nrrrbF3797453/+52hoaCjv9DU1NUV9fX0UCoXo7OyM7u7uaG9vj/b29uju7o7Zs2fH6tWrqzw9AEDl1GwA7t69OyIili1bNuH4PffcE5/4xCciImLTpk1x8uTJWLduXRw/fjwWL14c+/fvj4aGhimeFgBg6tRsAKaU/s9rCoVCdHV1RVdXV+UHAgB4g6jZ9wACAPDqanYHEIDp4crND1R7hNfsmW0rqz0CnBc7gAAAmRGAAACZEYAAAJkRgAAAmRGAAACZEYAAAJkRgAAAmRGAAACZEYAAAJkRgAAAmRGAAACZEYAAAJkRgAAAmRGAAACZEYAAAJkRgAAAmRGAAACZEYAAAJkRgAAAmRGAAACZEYAAAJkRgAAAmRGAAACZEYAAAJkRgAAAmRGAAACZEYAAAJkRgAAAmRGAAACZEYAAAJkRgAAAmRGAAACZEYAAAJkRgAAAmRGAAACZEYAAAJkRgAAAmRGAAACZEYAAAJkRgAAAmRGAAACZEYAAAJkRgAAAmamr9gAAQOVdufmBao/wmj2zbWW1R6hZdgABADIjAAEAMiMAAQAyIwABADIjAAEAMiMAAQAy42NgAM5iOn5sBsC5sAMIAJAZAQgAkBkBCACQGQEIAJAZAQgAkBkBCACQGQEIAJAZAQgAkBkBCACQmZoNwG9/+9tx4403RktLSxQKhfja17424XxKKbq6uqKlpSXq6+tj2bJlcfTo0eoMCwAwhWo2AF988cV4+9vfHrt27XrV89u3b48dO3bErl274uDBg9Hc3BzLly+P0dHRKZ4UAGBq1ezfBbxixYpYsWLFq55LKcXOnTtj69atsWrVqoiI2LNnT5RKpdi7d2/ccsstUzkqAMCUqtkdwF+lv78/BgcHo6Ojo3ysWCzG0qVL48CBA1WcDACg8mp2B/BXGRwcjIiIUqk04XipVIpjx46d9evGxsZibGys/HxkZKQyAwIAVFCWO4CnFQqFCc9TSmcce6Wenp5oamoqP1pbWys9IgDApMsyAJubmyPif3cCTxsaGjpjV/CVtmzZEsPDw+XHwMBARecEAKiELAOwra0tmpubo7e3t3xsfHw8+vr6YsmSJWf9umKxGI2NjRMeAADTTc2+B/CFF16IH/7wh+Xn/f39cfjw4bj44ovjiiuuiM7Ozuju7o729vZob2+P7u7umD17dqxevbqKUwMAVF7NBuBjjz0W733ve8vPN27cGBERa9asiS996UuxadOmOHnyZKxbty6OHz8eixcvjv3790dDQ0O1RgYAmBI1G4DLli2LlNJZzxcKhejq6oqurq6pGwoA4A0gy/cAAgDkrGZ3AAGgUq7c/EC1R4DzYgcQACAzAhAAIDMCEAAgMwIQACAzAhAAIDMCEAAgMwIQACAzAhAAIDMCEAAgMwIQACAzAhAAIDMCEAAgMwIQACAzAhAAIDMCEAAgMwIQACAzAhAAIDMCEAAgMwIQACAzAhAAIDMCEAAgMwIQACAzAhAAIDMCEAAgMwIQACAzAhAAIDMCEAAgMwIQACAzAhAAIDMCEAAgMwIQACAzAhAAIDMCEAAgMwIQACAzAhAAIDMCEAAgMwIQACAzAhAAIDMCEAAgMwIQACAzAhAAIDMCEAAgMwIQACAzAhAAIDMCEAAgMwIQACAzAhAAIDMCEAAgMwIQACAzAhAAIDMCEAAgMwIQACAzAhAAIDMCEAAgMwIQACAzAhAAIDMCEAAgMwIQACAzAhAAIDMCEAAgMwIQACAz2QfgF7/4xWhra4tZs2bFwoUL4zvf+U61RwIAqKisA/DLX/5ydHZ2xtatW+OJJ56I3/3d340VK1bEs88+W+3RAAAqJusA3LFjR/zpn/5p/Nmf/Vm85S1viZ07d0Zra2vs3r272qMBAFRMXbUHqJbx8fE4dOhQbN68ecLxjo6OOHDgwKt+zdjYWIyNjZWfDw8PR0TEyMhIRWY8NXaiIvcFgOmgUj9fT983pVSR+08H2Qbg888/Hy+//HKUSqUJx0ulUgwODr7q1/T09MTnPve5M463trZWZEYAyFnTzsref3R0NJqamir7P/IGlW0AnlYoFCY8Tymdcey0LVu2xMaNG8vPT506FT/72c/ikksuOevXvF4jIyPR2toaAwMD0djYOKn35n9Z56lhnaeGdZ4a1nlqVHKdU0oxOjoaLS0tk3rf6STbALz00ktjxowZZ+z2DQ0NnbEreFqxWIxisTjh2K/92q9VasSIiGhsbPQvmClgnaeGdZ4a1nlqWOepUal1znXn77Rsfwlk5syZsXDhwujt7Z1wvLe3N5YsWVKlqQAAKi/bHcCIiI0bN8bNN98cixYtiuuvvz7uuuuuePbZZ2Pt2rXVHg0AoGKyDsCPfOQj8d///d/x+c9/Pp577rlYsGBBfP3rX4958+ZVe7QoFovx2c9+9oyXnJlc1nlqWOepYZ2nhnWeGta5sgop59+BBgDIULbvAQQAyJUABADIjAAEAMiMAAQAyIwAfAP64he/GG1tbTFr1qxYuHBhfOc736n2SNNaT09PvOtd74qGhoa47LLL4kMf+lA89dRTE65JKUVXV1e0tLREfX19LFu2LI4ePVqliWtDT09PFAqF6OzsLB+zzpPjxz/+cXzsYx+LSy65JGbPnh3veMc74tChQ+Xz1vn8vfTSS/GXf/mX0dbWFvX19TF//vz4/Oc/H6dOnSpfY51fn29/+9tx4403RktLSxQKhfja17424fy5rOvY2Fjcdtttcemll8acOXPiD/7gD+JHP/rRFH4XNSDxhrJv37504YUXprvvvjs9+eSTacOGDWnOnDnp2LFj1R5t2vq93/u9dM8996Tvf//76fDhw2nlypXpiiuuSC+88EL5mm3btqWGhob0la98JR05ciR95CMfSZdffnkaGRmp4uTT16OPPpquvPLKdO2116YNGzaUj1vn8/ezn/0szZs3L33iE59I//7v/576+/vTQw89lH74wx+Wr7HO5++OO+5Il1xySfrXf/3X1N/fn/7pn/4pXXTRRWnnzp3la6zz6/P1r389bd26NX3lK19JEZG++tWvTjh/Luu6du3a9OY3vzn19vamxx9/PL33ve9Nb3/729NLL700xd/N9CUA32B++7d/O61du3bCsauvvjpt3ry5ShPVnqGhoRQRqa+vL6WU0qlTp1Jzc3Patm1b+Zpf/OIXqampKf3t3/5ttcactkZHR1N7e3vq7e1NS5cuLQegdZ4ct99+e7rhhhvOet46T46VK1emP/mTP5lwbNWqVeljH/tYSsk6T5ZfDsBzWdef//zn6cILL0z79u0rX/PjH/84XXDBBenBBx+cstmnOy8Bv4GMj4/HoUOHoqOjY8Lxjo6OOHDgQJWmqj3Dw8MREXHxxRdHRER/f38MDg5OWPdisRhLly617q/DrbfeGitXrowPfOADE45b58lx//33x6JFi+LDH/5wXHbZZXHdddfF3XffXT5vnSfHDTfcEN/4xjfiBz/4QURE/Md//Ed897vfjQ9+8IMRYZ0r5VzW9dChQ/E///M/E65paWmJBQsWWPvXIOu/CeSN5vnnn4+XX345SqXShOOlUikGBwerNFVtSSnFxo0b44YbbogFCxZERJTX9tXW/dixY1M+43S2b9++ePzxx+PgwYNnnLPOk+O//uu/Yvfu3bFx48b4zGc+E48++mj8+Z//eRSLxfj4xz9unSfJ7bffHsPDw3H11VfHjBkz4uWXX44777wzbrrppojw57lSzmVdBwcHY+bMmfGmN73pjGv8rDx3AvANqFAoTHieUjrjGK/P+vXr43vf+15897vfPeOcdT8/AwMDsWHDhti/f3/MmjXrrNdZ5/Nz6tSpWLRoUXR3d0dExHXXXRdHjx6N3bt3x8c//vHyddb5/Hz5y1+Oe++9N/bu3Rtve9vb4vDhw9HZ2RktLS2xZs2a8nXWuTJez7pa+9fGS8BvIJdeemnMmDHjjP+CGRoaOuO/hnjtbrvttrj//vvj4Ycfjrlz55aPNzc3R0RY9/N06NChGBoaioULF0ZdXV3U1dVFX19ffOELX4i6urryWlrn83P55ZfHW9/61gnH3vKWt8Szzz4bEf48T5a/+Iu/iM2bN8cf/dEfxTXXXBM333xzfOpTn4qenp6IsM6Vci7r2tzcHOPj43H8+PGzXsP/TQC+gcycOTMWLlwYvb29E4739vbGkiVLqjTV9JdSivXr18d9990X3/zmN6OtrW3C+ba2tmhubp6w7uPj49HX12fdX4P3v//9ceTIkTh8+HD5sWjRovjoRz8ahw8fjvnz51vnSfA7v/M7Z3yM0Q9+8IOYN29eRPjzPFlOnDgRF1ww8UfkjBkzyh8DY50r41zWdeHChXHhhRdOuOa5556L73//+9b+tajar5/wqk5/DMzf/d3fpSeffDJ1dnamOXPmpGeeeabao01bn/zkJ1NTU1P61re+lZ577rny48SJE+Vrtm3blpqamtJ9992Xjhw5km666SYf5zAJXvlbwClZ58nw6KOPprq6unTnnXemp59+Ov3DP/xDmj17drr33nvL11jn87dmzZr05je/ufwxMPfdd1+69NJL06ZNm8rXWOfXZ3R0ND3xxBPpiSeeSBGRduzYkZ544onyx52dy7quXbs2zZ07Nz300EPp8ccfT+973/t8DMxrJADfgP7mb/4mzZs3L82cOTO9853vLH9cCa9PRLzq45577ilfc+rUqfTZz342NTc3p2KxmN7znvekI0eOVG/oGvHLAWidJ8e//Mu/pAULFqRisZiuvvrqdNddd004b53P38jISNqwYUO64oor0qxZs9L8+fPT1q1b09jYWPka6/z6PPzww6/67+Q1a9aklM5tXU+ePJnWr1+fLr744lRfX59+//d/Pz377LNV+G6mr0JKKVVn7xEAgGrwHkAAgMwIQACAzAhAAIDMCEAAgMwIQACAzAhAAIDMCEAAgMwIQACAzAhAAIDMCEAAgMwIQACAzAhAAIDMCEAAgMwIQACAzAhAAIDMCEAAgMwIQACAzAhAAIDMCEAAgMwIQACAzAhAAIDMCEAAgMwIQACAzAhAAIDMCEAAgMwIQACAzAhAAIDMCEAAgMwIQACAzAhAAIDMCEAAgMz8P5eNbde0vwrFAAAAAElFTkSuQmCC' width=640.0/>\n",
       "            </div>\n",
       "        "
      ],
      "text/plain": [
       "Canvas(toolbar=Toolbar(toolitems=[('Home', 'Reset original view', 'home', 'home'), ('Back', 'Back to previous …"
      ]
     },
     "metadata": {},
     "output_type": "display_data"
    }
   ],
   "source": [
    "plt.figure()\n",
    "amount_of_corners = np.array([len(a) for a in out_dict.values()])\n",
    "_ = plt.hist(amount_of_corners, range=(0, 100))\n",
    "print(np.count_nonzero(amount_of_corners <= 10))"
   ]
  },
  {
   "cell_type": "code",
   "execution_count": null,
   "metadata": {},
   "outputs": [
    {
     "name": "stdout",
     "output_type": "stream",
     "text": [
      "48\n"
     ]
    },
    {
     "data": {
      "application/vnd.jupyter.widget-view+json": {
       "model_id": "fd20be6d3dc04ca59d6da1719f7f7177",
       "version_major": 2,
       "version_minor": 0
      },
      "image/png": "[encoded data removed]",
      "text/html": [
       "\n",
       "            <div style=\"display: inline-block;\">\n",
       "                <div class=\"jupyter-widgets widget-label\" style=\"text-align: center;\">\n",
       "                    Figure\n",
       "                </div>\n",
       "                <img src='data:image/png;base64,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' width=640.0/>\n",
       "            </div>\n",
       "        "
      ],
      "text/plain": [
       "Canvas(toolbar=Toolbar(toolitems=[('Home', 'Reset original view', 'home', 'home'), ('Back', 'Back to previous …"
      ]
     },
     "metadata": {},
     "output_type": "display_data"
    }
   ],
   "source": []
  }
 ],
 "metadata": {
  "kernelspec": {
   "display_name": "Python 3",
   "language": "python",
   "name": "python3"
  },
  "language_info": {
   "codemirror_mode": {
    "name": "ipython",
    "version": 3
   },
   "file_extension": ".py",
   "mimetype": "text/x-python",
   "name": "python",
   "nbconvert_exporter": "python",
   "pygments_lexer": "ipython3",
   "version": "3.8.18"
  }
 },
 "nbformat": 4,
 "nbformat_minor": 2
}
