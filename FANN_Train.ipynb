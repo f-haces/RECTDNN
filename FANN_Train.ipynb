{
 "cells": [
  {
   "cell_type": "code",
   "execution_count": 1,
   "id": "4333b7a8",
   "metadata": {},
   "outputs": [],
   "source": [
    "# PYTHON IMPORTS\n",
    "import os, copy, traceback\n",
    "from tqdm.notebook import trange, tqdm\n",
    "import glob\n",
    "\n",
    "# IMAGE IMPORTS \n",
    "from PIL import Image\n",
    "import cv2, tifffile\n",
    "\n",
    "# DATA IMPORTS \n",
    "import random\n",
    "import h5py\n",
    "import numpy as np\n",
    "\n",
    "# PLOTTING\n",
    "import matplotlib.pyplot as plt\n",
    "import matplotlib.cm as cm\n",
    "\n",
    "# NEURAL NETWORK\n",
    "import torch\n",
    "import torch.nn as nn\n",
    "import torch.optim as optim\n",
    "from torch.utils.data import DataLoader, Dataset\n",
    "from torchvision import transforms, datasets\n",
    "from torchvision.transforms import ToPILImage, GaussianBlur\n",
    "from torchvision.transforms import Compose, RandomCrop, ToTensor, Normalize\n",
    "import torch.optim.lr_scheduler as lr_scheduler\n",
    "import torchvision.models as models\n",
    "from sklearn.preprocessing import LabelEncoder, OneHotEncoder\n",
    "\n",
    "# MY OWN CLASSES\n",
    "from TPNN import *\n",
    "from PlottingUtils import *\n",
    "from DataUtils import * \n",
    "\n",
    "Image.MAX_IMAGE_PIXELS = 933120000\n",
    "%matplotlib notebook"
   ]
  },
  {
   "cell_type": "code",
   "execution_count": 2,
   "id": "874397a5",
   "metadata": {},
   "outputs": [
    {
     "data": {
      "application/vnd.jupyter.widget-view+json": {
       "model_id": "9b59bde157874b79af7423febf537930",
       "version_major": 2,
       "version_minor": 0
      },
      "text/plain": [
       "  0%|          | 0/4 [00:00<?, ?it/s]"
      ]
     },
     "metadata": {},
     "output_type": "display_data"
    },
    {
     "data": {
      "application/vnd.jupyter.widget-view+json": {
       "model_id": "738280c7698a4abfb76b477f1f5adde3",
       "version_major": 2,
       "version_minor": 0
      },
      "text/plain": [
       "  0%|          | 0/1 [00:00<?, ?it/s]"
      ]
     },
     "metadata": {},
     "output_type": "display_data"
    }
   ],
   "source": [
    "base_dir = r\"C:\\Users\\fhacesga\\OneDrive - University Of Houston\\AAA_RECTDNN\\data\"\n",
    "\n",
    "input_folder        = f\"{base_dir}/FANN/in\"\n",
    "val_folder          = f\"{base_dir}/FANN/val\"\n",
    "train_target_folder = f\"{base_dir}/FANN/out\"\n",
    "val_target_folder   = f\"{base_dir}/FANN/val_out\"\n",
    "batch_size          = 2\n",
    "verbose_level       = 0\n",
    "n_pyramids          = 2\n",
    "processing_size     = 512\n",
    "\n",
    "tensor = transforms.Compose([\n",
    "    transforms.ToTensor(),\n",
    "])\n",
    "\n",
    "transform = transforms.Compose([\n",
    "    transforms.RandomRotation(degrees=180),\n",
    "    transforms.RandomHorizontalFlip(),\n",
    "    transforms.RandomVerticalFlip(),\n",
    "    transforms.ToTensor(),\n",
    "])\n",
    "\n",
    "tensor = transforms.Compose([transforms.ToTensor()])\n",
    "\n",
    "train_dataset = NN_Multiclass(input_folder, train_target_folder, transform=transform, \n",
    "                              crop=True, cropsize=1024, n_pyramids=n_pyramids, flip_outputs=True)\n",
    "train_loader  = DataLoader(train_dataset, batch_size=batch_size, shuffle=True, num_workers=0)\n",
    "\n",
    "val_dataset = NN_Multiclass(val_folder, val_target_folder, transform=transform, \n",
    "                            crop=True, cropsize=1024, n_pyramids=n_pyramids, flip_outputs=True)\n",
    "val_loader  = DataLoader(val_dataset, batch_size=1, shuffle=False, num_workers=0)\n",
    "\n",
    "loaders = {'train' : train_loader, \"test\" : val_loader }"
   ]
  },
  {
   "cell_type": "code",
   "execution_count": 3,
   "id": "e68d36b0",
   "metadata": {},
   "outputs": [],
   "source": [
    "# %matplotlib inline\n",
    "# for inputs, labels, filenames in loaders['train']:\n",
    "#     for i in range(labels.shape[0]):\n",
    "#         plt.imsave(f\"test_{filenames[i]}_{i}_inp.png\", inputs[i, 0, :, :])\n",
    "#        plt.imsave(f\"test_{filenames[i]}_{i}_out.png\", labels[i, :, :])\n",
    "# test_dir = r\"C:\\Users\\fhacesga\\OneDrive - University Of Houston\\AAA_RECTDNN\\data\\FANN\\out\\\\\"\n",
    "# fns = [\"4802870165E.jpg\", \"48201C0225G.tif\", \"48201C0090G.tif\", \"48201C0060G.tif\" ]\n",
    "# test = loadClasses(test_dir, fns=fns, flip=True)\n",
    "# %matplotlib inline\n",
    "# plt.imshow(1 - np.asarray(test[0])[800:1000, 800:1000])\n",
    "# plt.imshow(np.asarray(test[0])[800:1000, 800:1000])"
   ]
  },
  {
   "cell_type": "code",
   "execution_count": 4,
   "id": "97acd5c7",
   "metadata": {},
   "outputs": [],
   "source": [
    "def notify(mess, level=4):\n",
    "    if verbose_level >= level:\n",
    "        print(mess)\n",
    "\n",
    "def saveImages(prob_img_or, outputs, filenames, minputs, outputs_folder, rep_id, labels,):\n",
    "    \n",
    "    # IF FOR SOME REASON OUTPUT IS UNBATCHED, BATCH IT\n",
    "    if prob_img_or.ndim == 3:\n",
    "        prob_img_or = prob_img_or.unsqueeze(0)\n",
    "        \n",
    "    # CONVERT TO NUMPY ARRAY\n",
    "    prob_img_or = prob_img_or.numpy()\n",
    "    \n",
    "    # FOR EACH BATCHED OUTPUT\n",
    "    for i in range(len(outputs)):\n",
    "        filename = filenames[i]\n",
    "\n",
    "        # CONVERT TO IMAGE NUMPY ARRAY\n",
    "        prob_img = prob_img_or[i, :, :, :]\n",
    "        prob_img = (prob_img * 255).astype(np.uint8) \n",
    "        prob_img = np.moveaxis(prob_img, [0, 1, 2], [2, 0, 1])\n",
    "\n",
    "        # SAVE TO FILE\n",
    "        myout = probability_to_rgb(prob_img)\n",
    "        myout.save(os.path.join(outputs_folder, f\"{rep_id}_{filename[:-4]}_out.png\"))\n",
    "\n",
    "        # SAVE INPUTS\n",
    "        myinp = Image.fromarray(np.uint8(minputs[i, 0, :, :] * 255))\n",
    "        myinp.save(os.path.join(outputs_folder, f\"{rep_id}_{filename[:-4]}_inp.png\"))\n",
    "\n",
    "        # SAVE OUTPUTS\n",
    "        mylab = class_to_one_hot(labels[i, :, :], prob_img.shape[-1])\n",
    "        mylab = probability_to_rgb(mylab)\n",
    "        mylab.save(os.path.join(outputs_folder, f\"{rep_id}_{filename[:-4]}_lab.png\"))\n",
    "            \n",
    "def train(model, dataloaders, num_epochs=50, \n",
    "          output_dir=f'{base_dir}/FANN/intermediate_outputs', \n",
    "          learning_rate=5e-4,\n",
    "          device = torch.device(\"cuda:0\"),\n",
    "          continue_from=None,\n",
    "          weights=[1, 10]):\n",
    "    \n",
    "    # TRAINING PARAMETERS\n",
    "    weights = torch.tensor(weights).float().to(device)\n",
    "    criterion = nn.CrossEntropyLoss(weight=weights, reduction=\"mean\")\n",
    "    optimizer = optim.Adam(model.parameters(), lr=learning_rate)\n",
    "    learning_rate_scheduler = lr_scheduler.StepLR(optimizer, step_size=10, gamma=0.99)\n",
    "    start_epoch = 0\n",
    "        \n",
    "    if continue_from is not None:\n",
    "        checkpoint = torch.load(continue_from)\n",
    "        model.load_state_dict(checkpoint['model_state_dict'])\n",
    "        optimizer.load_state_dict(checkpoint['optimizer_state_dict'])\n",
    "        for state in optimizer.state.values():\n",
    "            for k, v in state.items():\n",
    "                if isinstance(v, torch.Tensor):\n",
    "                    state[k] = v.cuda()\n",
    "        start_epoch = checkpoint['epoch']\n",
    "        start_loss = checkpoint['loss']\n",
    "        \n",
    "    # SEND MODEL TO GPU\n",
    "    model = model.to(device)\n",
    "    \n",
    "    # MAKE SURE DIRS FOR TEMP OUTPUTS EXIST\n",
    "    if not os.path.exists(output_dir):\n",
    "        os.makedirs(output_dir)\n",
    "        \n",
    "    # STRUCTURES FOR PLOTTING\n",
    "    epoch_losses = {'train' : [], 'test' : []}\n",
    "    iou_lists    = {'train' : [], 'test' : []}\n",
    "    lr_list      = []\n",
    "    fig, axs = init_plotting()\n",
    "        \n",
    "    # LOOP THROUGH EPOCHS\n",
    "    for epoch in range(start_epoch, num_epochs):\n",
    "        notify('Epoch {}/{}'.format(epoch+1, num_epochs), level=1)\n",
    "        notify('-' * 10, level=1)\n",
    "        phases = ['train', 'test']\n",
    "        epoch_loss = {'train' : 0, 'test' : 0}\n",
    "        iou_list = {'train' : [], 'test' : []}      \n",
    "        \n",
    "        # FOR BOTH PHASES\n",
    "        for phase in phases: \n",
    "            if phase == 'train':\n",
    "                model.train()\n",
    "                repeats = range(4)\n",
    "            else:\n",
    "                model.eval()\n",
    "                repeats = range(1)\n",
    "            \n",
    "            # MAKE DIR FOR CURRENT PHASE IF IT DOES NOT EXIST\n",
    "            outputs_folder = os.path.join(output_dir, phase)\n",
    "            if not os.path.exists(outputs_folder):\n",
    "                os.makedirs(outputs_folder)\n",
    "                \n",
    "            # BASELINE MEMORY USAGE                \n",
    "            notify(f\"Prior to Iterations\\t {torch.cuda.memory_allocated() / 1e6}\")\n",
    "            \n",
    "            # COUNT HOW MANY IMAGES\n",
    "            n_images = 0\n",
    "            \n",
    "            # ITERATE OVER REPEATS\n",
    "            for rep_id in tqdm(repeats, disable=verbose_level < 4):\n",
    "                for inputs, labels, filenames in dataloaders[phase]:\n",
    "                    \n",
    "                    # SEND TO GPU\n",
    "                    inputs = inputs.to(device)\n",
    "                    labels = labels.to(device)\n",
    "                    notify(f\"Datasets Moved\\t\\t {torch.cuda.memory_allocated()/ 1e6}\")\n",
    "                    \n",
    "                    # ZERO GRADIENTS AND THROUGH MODEL\n",
    "                    optimizer.zero_grad()\n",
    "                    outputs = model(inputs, resize=False)\n",
    "                    \n",
    "                    notify(f\"Outputs Processed\\t {torch.cuda.memory_allocated() / 1e6}\")\n",
    "                    # CALCULATE LOSS AND KEEP TRACK OF IT FOR CURRENT EPOCH\n",
    "                    loss = criterion(outputs, labels) \n",
    "                    epoch_loss[phase] += loss\n",
    "                    iou_list[phase].append(calculate_iou(outputs, labels).detach().cpu().numpy())\n",
    "                    notify(f\"Loss Calculated\\t\\t {torch.cuda.memory_allocated() / 1e6}\")\n",
    "                    \n",
    "                    # COUNT HOW MANY IMAGES\n",
    "                    n_images += inputs.shape[0]\n",
    "                    \n",
    "                    # OPTIMIZE IF PHASE IS TRAINING\n",
    "                    if phase is 'train':\n",
    "                        notify(\"Optimizing\")\n",
    "                        loss.backward()\n",
    "                        optimizer.step()\n",
    "                        notify(f\"Backwards and optimized\\t {torch.cuda.memory_allocated() / 1e6}\")\n",
    "                    \n",
    "                    # SAVE TRAINING IMAGES IF CURRENT STEP REQUIRES IT\n",
    "                    if rep_id % 2 == 0 and rep_id != 0:\n",
    "                        prob_img_or = outputs.detach().cpu()\n",
    "                        minputs     = inputs.detach().cpu().numpy()\n",
    "                        mlabels     = labels.detach().cpu().numpy()\n",
    "                        saveImages(prob_img_or, outputs, filenames, minputs, outputs_folder, rep_id, mlabels)\n",
    "                    \n",
    "                    # EMPTY CACHE\n",
    "                    torch.cuda.empty_cache()\n",
    "                    notify(f\"Cache Emptied\\t\\t {torch.cuda.memory_allocated() / 1e6}\")\n",
    "                    \n",
    "            # METRICS - NORMALIZE EPOCH LOSS AND IOU BY HOW MANY IMAGES\n",
    "            epoch_loss[phase] = epoch_loss[phase].cpu().detach().numpy() / (len(repeats) + n_images)\n",
    "            iou_list[phase]   = np.mean(np.vstack(iou_list[phase]), axis=0)\n",
    "        \n",
    "        # UPDATE LEARNING RATE SCHEDULER\n",
    "        lr_list.append(learning_rate_scheduler.get_lr()[0])\n",
    "        learning_rate_scheduler.step()\n",
    "        \n",
    "        # PLOT, FIRST BY TRANSFERING TO LISTS\n",
    "        for i in phases:\n",
    "            epoch_losses[i].append(epoch_loss[i])\n",
    "            iou_lists[i].append(iou_list[i])\n",
    "        \n",
    "        update_plots([epoch_losses[i] for i in phases], [iou_lists[i] for i in phases], fig, axs, \n",
    "                     colors=[\"r\", \"g\", \"b\", \"k\", \"orange\"]*2,\n",
    "                     annotations=f\"Learning Rate: {lr_list[-1]:.2e}\"\n",
    "                    )\n",
    "        \n",
    "        # SAVE MODEL EVERY TEN EPOCHS\n",
    "        if epoch % 10 == 0:\n",
    "            torch.save({\n",
    "                'epoch': epoch,\n",
    "                'model_state_dict': model.state_dict(),\n",
    "                'optimizer_state_dict': optimizer.state_dict(),\n",
    "                'loss': loss,\n",
    "                'iou_lists' : iou_lists,\n",
    "                'epoch_losses' : epoch_losses,\n",
    "                'lr_list' : lr_list\n",
    "            }, f'{base_dir}/FANN/checkpoint_101023.pth')\n",
    "            \n",
    "            torch.save(model, f\"{base_dir}/FANN/101023.pth\")\n",
    "        \n",
    "    return model"
   ]
  },
  {
   "cell_type": "code",
   "execution_count": null,
   "id": "0e8a83ad",
   "metadata": {
    "scrolled": false
   },
   "outputs": [
    {
     "name": "stderr",
     "output_type": "stream",
     "text": [
      "C:\\Users\\fhacesga\\Anaconda3\\envs\\deeplearning\\lib\\site-packages\\torchvision\\models\\_utils.py:209: UserWarning: The parameter 'pretrained' is deprecated since 0.13 and may be removed in the future, please use 'weights' instead.\n",
      "  f\"The parameter '{pretrained_param}' is deprecated since 0.13 and may be removed in the future, \"\n",
      "C:\\Users\\fhacesga\\Anaconda3\\envs\\deeplearning\\lib\\site-packages\\torchvision\\models\\_utils.py:223: UserWarning: Arguments other than a weight enum or `None` for 'weights' are deprecated since 0.13 and may be removed in the future. The current behavior is equivalent to passing `weights=ResNet34_Weights.IMAGENET1K_V1`. You can also use `weights=ResNet34_Weights.DEFAULT` to get the most up-to-date weights.\n",
      "  warnings.warn(msg)\n"
     ]
    },
    {
     "data": {
      "application/javascript": [
       "/* Put everything inside the global mpl namespace */\n",
       "/* global mpl */\n",
       "window.mpl = {};\n",
       "\n",
       "mpl.get_websocket_type = function () {\n",
       "    if (typeof WebSocket !== 'undefined') {\n",
       "        return WebSocket;\n",
       "    } else if (typeof MozWebSocket !== 'undefined') {\n",
       "        return MozWebSocket;\n",
       "    } else {\n",
       "        alert(\n",
       "            'Your browser does not have WebSocket support. ' +\n",
       "                'Please try Chrome, Safari or Firefox ≥ 6. ' +\n",
       "                'Firefox 4 and 5 are also supported but you ' +\n",
       "                'have to enable WebSockets in about:config.'\n",
       "        );\n",
       "    }\n",
       "};\n",
       "\n",
       "mpl.figure = function (figure_id, websocket, ondownload, parent_element) {\n",
       "    this.id = figure_id;\n",
       "\n",
       "    this.ws = websocket;\n",
       "\n",
       "    this.supports_binary = this.ws.binaryType !== undefined;\n",
       "\n",
       "    if (!this.supports_binary) {\n",
       "        var warnings = document.getElementById('mpl-warnings');\n",
       "        if (warnings) {\n",
       "            warnings.style.display = 'block';\n",
       "            warnings.textContent =\n",
       "                'This browser does not support binary websocket messages. ' +\n",
       "                'Performance may be slow.';\n",
       "        }\n",
       "    }\n",
       "\n",
       "    this.imageObj = new Image();\n",
       "\n",
       "    this.context = undefined;\n",
       "    this.message = undefined;\n",
       "    this.canvas = undefined;\n",
       "    this.rubberband_canvas = undefined;\n",
       "    this.rubberband_context = undefined;\n",
       "    this.format_dropdown = undefined;\n",
       "\n",
       "    this.image_mode = 'full';\n",
       "\n",
       "    this.root = document.createElement('div');\n",
       "    this.root.setAttribute('style', 'display: inline-block');\n",
       "    this._root_extra_style(this.root);\n",
       "\n",
       "    parent_element.appendChild(this.root);\n",
       "\n",
       "    this._init_header(this);\n",
       "    this._init_canvas(this);\n",
       "    this._init_toolbar(this);\n",
       "\n",
       "    var fig = this;\n",
       "\n",
       "    this.waiting = false;\n",
       "\n",
       "    this.ws.onopen = function () {\n",
       "        fig.send_message('supports_binary', { value: fig.supports_binary });\n",
       "        fig.send_message('send_image_mode', {});\n",
       "        if (fig.ratio !== 1) {\n",
       "            fig.send_message('set_device_pixel_ratio', {\n",
       "                device_pixel_ratio: fig.ratio,\n",
       "            });\n",
       "        }\n",
       "        fig.send_message('refresh', {});\n",
       "    };\n",
       "\n",
       "    this.imageObj.onload = function () {\n",
       "        if (fig.image_mode === 'full') {\n",
       "            // Full images could contain transparency (where diff images\n",
       "            // almost always do), so we need to clear the canvas so that\n",
       "            // there is no ghosting.\n",
       "            fig.context.clearRect(0, 0, fig.canvas.width, fig.canvas.height);\n",
       "        }\n",
       "        fig.context.drawImage(fig.imageObj, 0, 0);\n",
       "    };\n",
       "\n",
       "    this.imageObj.onunload = function () {\n",
       "        fig.ws.close();\n",
       "    };\n",
       "\n",
       "    this.ws.onmessage = this._make_on_message_function(this);\n",
       "\n",
       "    this.ondownload = ondownload;\n",
       "};\n",
       "\n",
       "mpl.figure.prototype._init_header = function () {\n",
       "    var titlebar = document.createElement('div');\n",
       "    titlebar.classList =\n",
       "        'ui-dialog-titlebar ui-widget-header ui-corner-all ui-helper-clearfix';\n",
       "    var titletext = document.createElement('div');\n",
       "    titletext.classList = 'ui-dialog-title';\n",
       "    titletext.setAttribute(\n",
       "        'style',\n",
       "        'width: 100%; text-align: center; padding: 3px;'\n",
       "    );\n",
       "    titlebar.appendChild(titletext);\n",
       "    this.root.appendChild(titlebar);\n",
       "    this.header = titletext;\n",
       "};\n",
       "\n",
       "mpl.figure.prototype._canvas_extra_style = function (_canvas_div) {};\n",
       "\n",
       "mpl.figure.prototype._root_extra_style = function (_canvas_div) {};\n",
       "\n",
       "mpl.figure.prototype._init_canvas = function () {\n",
       "    var fig = this;\n",
       "\n",
       "    var canvas_div = (this.canvas_div = document.createElement('div'));\n",
       "    canvas_div.setAttribute(\n",
       "        'style',\n",
       "        'border: 1px solid #ddd;' +\n",
       "            'box-sizing: content-box;' +\n",
       "            'clear: both;' +\n",
       "            'min-height: 1px;' +\n",
       "            'min-width: 1px;' +\n",
       "            'outline: 0;' +\n",
       "            'overflow: hidden;' +\n",
       "            'position: relative;' +\n",
       "            'resize: both;'\n",
       "    );\n",
       "\n",
       "    function on_keyboard_event_closure(name) {\n",
       "        return function (event) {\n",
       "            return fig.key_event(event, name);\n",
       "        };\n",
       "    }\n",
       "\n",
       "    canvas_div.addEventListener(\n",
       "        'keydown',\n",
       "        on_keyboard_event_closure('key_press')\n",
       "    );\n",
       "    canvas_div.addEventListener(\n",
       "        'keyup',\n",
       "        on_keyboard_event_closure('key_release')\n",
       "    );\n",
       "\n",
       "    this._canvas_extra_style(canvas_div);\n",
       "    this.root.appendChild(canvas_div);\n",
       "\n",
       "    var canvas = (this.canvas = document.createElement('canvas'));\n",
       "    canvas.classList.add('mpl-canvas');\n",
       "    canvas.setAttribute('style', 'box-sizing: content-box;');\n",
       "\n",
       "    this.context = canvas.getContext('2d');\n",
       "\n",
       "    var backingStore =\n",
       "        this.context.backingStorePixelRatio ||\n",
       "        this.context.webkitBackingStorePixelRatio ||\n",
       "        this.context.mozBackingStorePixelRatio ||\n",
       "        this.context.msBackingStorePixelRatio ||\n",
       "        this.context.oBackingStorePixelRatio ||\n",
       "        this.context.backingStorePixelRatio ||\n",
       "        1;\n",
       "\n",
       "    this.ratio = (window.devicePixelRatio || 1) / backingStore;\n",
       "\n",
       "    var rubberband_canvas = (this.rubberband_canvas = document.createElement(\n",
       "        'canvas'\n",
       "    ));\n",
       "    rubberband_canvas.setAttribute(\n",
       "        'style',\n",
       "        'box-sizing: content-box; position: absolute; left: 0; top: 0; z-index: 1;'\n",
       "    );\n",
       "\n",
       "    // Apply a ponyfill if ResizeObserver is not implemented by browser.\n",
       "    if (this.ResizeObserver === undefined) {\n",
       "        if (window.ResizeObserver !== undefined) {\n",
       "            this.ResizeObserver = window.ResizeObserver;\n",
       "        } else {\n",
       "            var obs = _JSXTOOLS_RESIZE_OBSERVER({});\n",
       "            this.ResizeObserver = obs.ResizeObserver;\n",
       "        }\n",
       "    }\n",
       "\n",
       "    this.resizeObserverInstance = new this.ResizeObserver(function (entries) {\n",
       "        var nentries = entries.length;\n",
       "        for (var i = 0; i < nentries; i++) {\n",
       "            var entry = entries[i];\n",
       "            var width, height;\n",
       "            if (entry.contentBoxSize) {\n",
       "                if (entry.contentBoxSize instanceof Array) {\n",
       "                    // Chrome 84 implements new version of spec.\n",
       "                    width = entry.contentBoxSize[0].inlineSize;\n",
       "                    height = entry.contentBoxSize[0].blockSize;\n",
       "                } else {\n",
       "                    // Firefox implements old version of spec.\n",
       "                    width = entry.contentBoxSize.inlineSize;\n",
       "                    height = entry.contentBoxSize.blockSize;\n",
       "                }\n",
       "            } else {\n",
       "                // Chrome <84 implements even older version of spec.\n",
       "                width = entry.contentRect.width;\n",
       "                height = entry.contentRect.height;\n",
       "            }\n",
       "\n",
       "            // Keep the size of the canvas and rubber band canvas in sync with\n",
       "            // the canvas container.\n",
       "            if (entry.devicePixelContentBoxSize) {\n",
       "                // Chrome 84 implements new version of spec.\n",
       "                canvas.setAttribute(\n",
       "                    'width',\n",
       "                    entry.devicePixelContentBoxSize[0].inlineSize\n",
       "                );\n",
       "                canvas.setAttribute(\n",
       "                    'height',\n",
       "                    entry.devicePixelContentBoxSize[0].blockSize\n",
       "                );\n",
       "            } else {\n",
       "                canvas.setAttribute('width', width * fig.ratio);\n",
       "                canvas.setAttribute('height', height * fig.ratio);\n",
       "            }\n",
       "            canvas.setAttribute(\n",
       "                'style',\n",
       "                'width: ' + width + 'px; height: ' + height + 'px;'\n",
       "            );\n",
       "\n",
       "            rubberband_canvas.setAttribute('width', width);\n",
       "            rubberband_canvas.setAttribute('height', height);\n",
       "\n",
       "            // And update the size in Python. We ignore the initial 0/0 size\n",
       "            // that occurs as the element is placed into the DOM, which should\n",
       "            // otherwise not happen due to the minimum size styling.\n",
       "            if (fig.ws.readyState == 1 && width != 0 && height != 0) {\n",
       "                fig.request_resize(width, height);\n",
       "            }\n",
       "        }\n",
       "    });\n",
       "    this.resizeObserverInstance.observe(canvas_div);\n",
       "\n",
       "    function on_mouse_event_closure(name) {\n",
       "        return function (event) {\n",
       "            return fig.mouse_event(event, name);\n",
       "        };\n",
       "    }\n",
       "\n",
       "    rubberband_canvas.addEventListener(\n",
       "        'mousedown',\n",
       "        on_mouse_event_closure('button_press')\n",
       "    );\n",
       "    rubberband_canvas.addEventListener(\n",
       "        'mouseup',\n",
       "        on_mouse_event_closure('button_release')\n",
       "    );\n",
       "    rubberband_canvas.addEventListener(\n",
       "        'dblclick',\n",
       "        on_mouse_event_closure('dblclick')\n",
       "    );\n",
       "    // Throttle sequential mouse events to 1 every 20ms.\n",
       "    rubberband_canvas.addEventListener(\n",
       "        'mousemove',\n",
       "        on_mouse_event_closure('motion_notify')\n",
       "    );\n",
       "\n",
       "    rubberband_canvas.addEventListener(\n",
       "        'mouseenter',\n",
       "        on_mouse_event_closure('figure_enter')\n",
       "    );\n",
       "    rubberband_canvas.addEventListener(\n",
       "        'mouseleave',\n",
       "        on_mouse_event_closure('figure_leave')\n",
       "    );\n",
       "\n",
       "    canvas_div.addEventListener('wheel', function (event) {\n",
       "        if (event.deltaY < 0) {\n",
       "            event.step = 1;\n",
       "        } else {\n",
       "            event.step = -1;\n",
       "        }\n",
       "        on_mouse_event_closure('scroll')(event);\n",
       "    });\n",
       "\n",
       "    canvas_div.appendChild(canvas);\n",
       "    canvas_div.appendChild(rubberband_canvas);\n",
       "\n",
       "    this.rubberband_context = rubberband_canvas.getContext('2d');\n",
       "    this.rubberband_context.strokeStyle = '#000000';\n",
       "\n",
       "    this._resize_canvas = function (width, height, forward) {\n",
       "        if (forward) {\n",
       "            canvas_div.style.width = width + 'px';\n",
       "            canvas_div.style.height = height + 'px';\n",
       "        }\n",
       "    };\n",
       "\n",
       "    // Disable right mouse context menu.\n",
       "    this.rubberband_canvas.addEventListener('contextmenu', function (_e) {\n",
       "        event.preventDefault();\n",
       "        return false;\n",
       "    });\n",
       "\n",
       "    function set_focus() {\n",
       "        canvas.focus();\n",
       "        canvas_div.focus();\n",
       "    }\n",
       "\n",
       "    window.setTimeout(set_focus, 100);\n",
       "};\n",
       "\n",
       "mpl.figure.prototype._init_toolbar = function () {\n",
       "    var fig = this;\n",
       "\n",
       "    var toolbar = document.createElement('div');\n",
       "    toolbar.classList = 'mpl-toolbar';\n",
       "    this.root.appendChild(toolbar);\n",
       "\n",
       "    function on_click_closure(name) {\n",
       "        return function (_event) {\n",
       "            return fig.toolbar_button_onclick(name);\n",
       "        };\n",
       "    }\n",
       "\n",
       "    function on_mouseover_closure(tooltip) {\n",
       "        return function (event) {\n",
       "            if (!event.currentTarget.disabled) {\n",
       "                return fig.toolbar_button_onmouseover(tooltip);\n",
       "            }\n",
       "        };\n",
       "    }\n",
       "\n",
       "    fig.buttons = {};\n",
       "    var buttonGroup = document.createElement('div');\n",
       "    buttonGroup.classList = 'mpl-button-group';\n",
       "    for (var toolbar_ind in mpl.toolbar_items) {\n",
       "        var name = mpl.toolbar_items[toolbar_ind][0];\n",
       "        var tooltip = mpl.toolbar_items[toolbar_ind][1];\n",
       "        var image = mpl.toolbar_items[toolbar_ind][2];\n",
       "        var method_name = mpl.toolbar_items[toolbar_ind][3];\n",
       "\n",
       "        if (!name) {\n",
       "            /* Instead of a spacer, we start a new button group. */\n",
       "            if (buttonGroup.hasChildNodes()) {\n",
       "                toolbar.appendChild(buttonGroup);\n",
       "            }\n",
       "            buttonGroup = document.createElement('div');\n",
       "            buttonGroup.classList = 'mpl-button-group';\n",
       "            continue;\n",
       "        }\n",
       "\n",
       "        var button = (fig.buttons[name] = document.createElement('button'));\n",
       "        button.classList = 'mpl-widget';\n",
       "        button.setAttribute('role', 'button');\n",
       "        button.setAttribute('aria-disabled', 'false');\n",
       "        button.addEventListener('click', on_click_closure(method_name));\n",
       "        button.addEventListener('mouseover', on_mouseover_closure(tooltip));\n",
       "\n",
       "        var icon_img = document.createElement('img');\n",
       "        icon_img.src = '_images/' + image + '.png';\n",
       "        icon_img.srcset = '_images/' + image + '_large.png 2x';\n",
       "        icon_img.alt = tooltip;\n",
       "        button.appendChild(icon_img);\n",
       "\n",
       "        buttonGroup.appendChild(button);\n",
       "    }\n",
       "\n",
       "    if (buttonGroup.hasChildNodes()) {\n",
       "        toolbar.appendChild(buttonGroup);\n",
       "    }\n",
       "\n",
       "    var fmt_picker = document.createElement('select');\n",
       "    fmt_picker.classList = 'mpl-widget';\n",
       "    toolbar.appendChild(fmt_picker);\n",
       "    this.format_dropdown = fmt_picker;\n",
       "\n",
       "    for (var ind in mpl.extensions) {\n",
       "        var fmt = mpl.extensions[ind];\n",
       "        var option = document.createElement('option');\n",
       "        option.selected = fmt === mpl.default_extension;\n",
       "        option.innerHTML = fmt;\n",
       "        fmt_picker.appendChild(option);\n",
       "    }\n",
       "\n",
       "    var status_bar = document.createElement('span');\n",
       "    status_bar.classList = 'mpl-message';\n",
       "    toolbar.appendChild(status_bar);\n",
       "    this.message = status_bar;\n",
       "};\n",
       "\n",
       "mpl.figure.prototype.request_resize = function (x_pixels, y_pixels) {\n",
       "    // Request matplotlib to resize the figure. Matplotlib will then trigger a resize in the client,\n",
       "    // which will in turn request a refresh of the image.\n",
       "    this.send_message('resize', { width: x_pixels, height: y_pixels });\n",
       "};\n",
       "\n",
       "mpl.figure.prototype.send_message = function (type, properties) {\n",
       "    properties['type'] = type;\n",
       "    properties['figure_id'] = this.id;\n",
       "    this.ws.send(JSON.stringify(properties));\n",
       "};\n",
       "\n",
       "mpl.figure.prototype.send_draw_message = function () {\n",
       "    if (!this.waiting) {\n",
       "        this.waiting = true;\n",
       "        this.ws.send(JSON.stringify({ type: 'draw', figure_id: this.id }));\n",
       "    }\n",
       "};\n",
       "\n",
       "mpl.figure.prototype.handle_save = function (fig, _msg) {\n",
       "    var format_dropdown = fig.format_dropdown;\n",
       "    var format = format_dropdown.options[format_dropdown.selectedIndex].value;\n",
       "    fig.ondownload(fig, format);\n",
       "};\n",
       "\n",
       "mpl.figure.prototype.handle_resize = function (fig, msg) {\n",
       "    var size = msg['size'];\n",
       "    if (size[0] !== fig.canvas.width || size[1] !== fig.canvas.height) {\n",
       "        fig._resize_canvas(size[0], size[1], msg['forward']);\n",
       "        fig.send_message('refresh', {});\n",
       "    }\n",
       "};\n",
       "\n",
       "mpl.figure.prototype.handle_rubberband = function (fig, msg) {\n",
       "    var x0 = msg['x0'] / fig.ratio;\n",
       "    var y0 = (fig.canvas.height - msg['y0']) / fig.ratio;\n",
       "    var x1 = msg['x1'] / fig.ratio;\n",
       "    var y1 = (fig.canvas.height - msg['y1']) / fig.ratio;\n",
       "    x0 = Math.floor(x0) + 0.5;\n",
       "    y0 = Math.floor(y0) + 0.5;\n",
       "    x1 = Math.floor(x1) + 0.5;\n",
       "    y1 = Math.floor(y1) + 0.5;\n",
       "    var min_x = Math.min(x0, x1);\n",
       "    var min_y = Math.min(y0, y1);\n",
       "    var width = Math.abs(x1 - x0);\n",
       "    var height = Math.abs(y1 - y0);\n",
       "\n",
       "    fig.rubberband_context.clearRect(\n",
       "        0,\n",
       "        0,\n",
       "        fig.canvas.width / fig.ratio,\n",
       "        fig.canvas.height / fig.ratio\n",
       "    );\n",
       "\n",
       "    fig.rubberband_context.strokeRect(min_x, min_y, width, height);\n",
       "};\n",
       "\n",
       "mpl.figure.prototype.handle_figure_label = function (fig, msg) {\n",
       "    // Updates the figure title.\n",
       "    fig.header.textContent = msg['label'];\n",
       "};\n",
       "\n",
       "mpl.figure.prototype.handle_cursor = function (fig, msg) {\n",
       "    fig.rubberband_canvas.style.cursor = msg['cursor'];\n",
       "};\n",
       "\n",
       "mpl.figure.prototype.handle_message = function (fig, msg) {\n",
       "    fig.message.textContent = msg['message'];\n",
       "};\n",
       "\n",
       "mpl.figure.prototype.handle_draw = function (fig, _msg) {\n",
       "    // Request the server to send over a new figure.\n",
       "    fig.send_draw_message();\n",
       "};\n",
       "\n",
       "mpl.figure.prototype.handle_image_mode = function (fig, msg) {\n",
       "    fig.image_mode = msg['mode'];\n",
       "};\n",
       "\n",
       "mpl.figure.prototype.handle_history_buttons = function (fig, msg) {\n",
       "    for (var key in msg) {\n",
       "        if (!(key in fig.buttons)) {\n",
       "            continue;\n",
       "        }\n",
       "        fig.buttons[key].disabled = !msg[key];\n",
       "        fig.buttons[key].setAttribute('aria-disabled', !msg[key]);\n",
       "    }\n",
       "};\n",
       "\n",
       "mpl.figure.prototype.handle_navigate_mode = function (fig, msg) {\n",
       "    if (msg['mode'] === 'PAN') {\n",
       "        fig.buttons['Pan'].classList.add('active');\n",
       "        fig.buttons['Zoom'].classList.remove('active');\n",
       "    } else if (msg['mode'] === 'ZOOM') {\n",
       "        fig.buttons['Pan'].classList.remove('active');\n",
       "        fig.buttons['Zoom'].classList.add('active');\n",
       "    } else {\n",
       "        fig.buttons['Pan'].classList.remove('active');\n",
       "        fig.buttons['Zoom'].classList.remove('active');\n",
       "    }\n",
       "};\n",
       "\n",
       "mpl.figure.prototype.updated_canvas_event = function () {\n",
       "    // Called whenever the canvas gets updated.\n",
       "    this.send_message('ack', {});\n",
       "};\n",
       "\n",
       "// A function to construct a web socket function for onmessage handling.\n",
       "// Called in the figure constructor.\n",
       "mpl.figure.prototype._make_on_message_function = function (fig) {\n",
       "    return function socket_on_message(evt) {\n",
       "        if (evt.data instanceof Blob) {\n",
       "            var img = evt.data;\n",
       "            if (img.type !== 'image/png') {\n",
       "                /* FIXME: We get \"Resource interpreted as Image but\n",
       "                 * transferred with MIME type text/plain:\" errors on\n",
       "                 * Chrome.  But how to set the MIME type?  It doesn't seem\n",
       "                 * to be part of the websocket stream */\n",
       "                img.type = 'image/png';\n",
       "            }\n",
       "\n",
       "            /* Free the memory for the previous frames */\n",
       "            if (fig.imageObj.src) {\n",
       "                (window.URL || window.webkitURL).revokeObjectURL(\n",
       "                    fig.imageObj.src\n",
       "                );\n",
       "            }\n",
       "\n",
       "            fig.imageObj.src = (window.URL || window.webkitURL).createObjectURL(\n",
       "                img\n",
       "            );\n",
       "            fig.updated_canvas_event();\n",
       "            fig.waiting = false;\n",
       "            return;\n",
       "        } else if (\n",
       "            typeof evt.data === 'string' &&\n",
       "            evt.data.slice(0, 21) === 'data:image/png;base64'\n",
       "        ) {\n",
       "            fig.imageObj.src = evt.data;\n",
       "            fig.updated_canvas_event();\n",
       "            fig.waiting = false;\n",
       "            return;\n",
       "        }\n",
       "\n",
       "        var msg = JSON.parse(evt.data);\n",
       "        var msg_type = msg['type'];\n",
       "\n",
       "        // Call the  \"handle_{type}\" callback, which takes\n",
       "        // the figure and JSON message as its only arguments.\n",
       "        try {\n",
       "            var callback = fig['handle_' + msg_type];\n",
       "        } catch (e) {\n",
       "            console.log(\n",
       "                \"No handler for the '\" + msg_type + \"' message type: \",\n",
       "                msg\n",
       "            );\n",
       "            return;\n",
       "        }\n",
       "\n",
       "        if (callback) {\n",
       "            try {\n",
       "                // console.log(\"Handling '\" + msg_type + \"' message: \", msg);\n",
       "                callback(fig, msg);\n",
       "            } catch (e) {\n",
       "                console.log(\n",
       "                    \"Exception inside the 'handler_\" + msg_type + \"' callback:\",\n",
       "                    e,\n",
       "                    e.stack,\n",
       "                    msg\n",
       "                );\n",
       "            }\n",
       "        }\n",
       "    };\n",
       "};\n",
       "\n",
       "// from https://stackoverflow.com/questions/1114465/getting-mouse-location-in-canvas\n",
       "mpl.findpos = function (e) {\n",
       "    //this section is from http://www.quirksmode.org/js/events_properties.html\n",
       "    var targ;\n",
       "    if (!e) {\n",
       "        e = window.event;\n",
       "    }\n",
       "    if (e.target) {\n",
       "        targ = e.target;\n",
       "    } else if (e.srcElement) {\n",
       "        targ = e.srcElement;\n",
       "    }\n",
       "    if (targ.nodeType === 3) {\n",
       "        // defeat Safari bug\n",
       "        targ = targ.parentNode;\n",
       "    }\n",
       "\n",
       "    // pageX,Y are the mouse positions relative to the document\n",
       "    var boundingRect = targ.getBoundingClientRect();\n",
       "    var x = e.pageX - (boundingRect.left + document.body.scrollLeft);\n",
       "    var y = e.pageY - (boundingRect.top + document.body.scrollTop);\n",
       "\n",
       "    return { x: x, y: y };\n",
       "};\n",
       "\n",
       "/*\n",
       " * return a copy of an object with only non-object keys\n",
       " * we need this to avoid circular references\n",
       " * https://stackoverflow.com/a/24161582/3208463\n",
       " */\n",
       "function simpleKeys(original) {\n",
       "    return Object.keys(original).reduce(function (obj, key) {\n",
       "        if (typeof original[key] !== 'object') {\n",
       "            obj[key] = original[key];\n",
       "        }\n",
       "        return obj;\n",
       "    }, {});\n",
       "}\n",
       "\n",
       "mpl.figure.prototype.mouse_event = function (event, name) {\n",
       "    var canvas_pos = mpl.findpos(event);\n",
       "\n",
       "    if (name === 'button_press') {\n",
       "        this.canvas.focus();\n",
       "        this.canvas_div.focus();\n",
       "    }\n",
       "\n",
       "    var x = canvas_pos.x * this.ratio;\n",
       "    var y = canvas_pos.y * this.ratio;\n",
       "\n",
       "    this.send_message(name, {\n",
       "        x: x,\n",
       "        y: y,\n",
       "        button: event.button,\n",
       "        step: event.step,\n",
       "        guiEvent: simpleKeys(event),\n",
       "    });\n",
       "\n",
       "    /* This prevents the web browser from automatically changing to\n",
       "     * the text insertion cursor when the button is pressed.  We want\n",
       "     * to control all of the cursor setting manually through the\n",
       "     * 'cursor' event from matplotlib */\n",
       "    event.preventDefault();\n",
       "    return false;\n",
       "};\n",
       "\n",
       "mpl.figure.prototype._key_event_extra = function (_event, _name) {\n",
       "    // Handle any extra behaviour associated with a key event\n",
       "};\n",
       "\n",
       "mpl.figure.prototype.key_event = function (event, name) {\n",
       "    // Prevent repeat events\n",
       "    if (name === 'key_press') {\n",
       "        if (event.key === this._key) {\n",
       "            return;\n",
       "        } else {\n",
       "            this._key = event.key;\n",
       "        }\n",
       "    }\n",
       "    if (name === 'key_release') {\n",
       "        this._key = null;\n",
       "    }\n",
       "\n",
       "    var value = '';\n",
       "    if (event.ctrlKey && event.key !== 'Control') {\n",
       "        value += 'ctrl+';\n",
       "    }\n",
       "    else if (event.altKey && event.key !== 'Alt') {\n",
       "        value += 'alt+';\n",
       "    }\n",
       "    else if (event.shiftKey && event.key !== 'Shift') {\n",
       "        value += 'shift+';\n",
       "    }\n",
       "\n",
       "    value += 'k' + event.key;\n",
       "\n",
       "    this._key_event_extra(event, name);\n",
       "\n",
       "    this.send_message(name, { key: value, guiEvent: simpleKeys(event) });\n",
       "    return false;\n",
       "};\n",
       "\n",
       "mpl.figure.prototype.toolbar_button_onclick = function (name) {\n",
       "    if (name === 'download') {\n",
       "        this.handle_save(this, null);\n",
       "    } else {\n",
       "        this.send_message('toolbar_button', { name: name });\n",
       "    }\n",
       "};\n",
       "\n",
       "mpl.figure.prototype.toolbar_button_onmouseover = function (tooltip) {\n",
       "    this.message.textContent = tooltip;\n",
       "};\n",
       "\n",
       "///////////////// REMAINING CONTENT GENERATED BY embed_js.py /////////////////\n",
       "// prettier-ignore\n",
       "var _JSXTOOLS_RESIZE_OBSERVER=function(A){var t,i=new WeakMap,n=new WeakMap,a=new WeakMap,r=new WeakMap,o=new Set;function s(e){if(!(this instanceof s))throw new TypeError(\"Constructor requires 'new' operator\");i.set(this,e)}function h(){throw new TypeError(\"Function is not a constructor\")}function c(e,t,i,n){e=0 in arguments?Number(arguments[0]):0,t=1 in arguments?Number(arguments[1]):0,i=2 in arguments?Number(arguments[2]):0,n=3 in arguments?Number(arguments[3]):0,this.right=(this.x=this.left=e)+(this.width=i),this.bottom=(this.y=this.top=t)+(this.height=n),Object.freeze(this)}function d(){t=requestAnimationFrame(d);var s=new WeakMap,p=new Set;o.forEach((function(t){r.get(t).forEach((function(i){var r=t instanceof window.SVGElement,o=a.get(t),d=r?0:parseFloat(o.paddingTop),f=r?0:parseFloat(o.paddingRight),l=r?0:parseFloat(o.paddingBottom),u=r?0:parseFloat(o.paddingLeft),g=r?0:parseFloat(o.borderTopWidth),m=r?0:parseFloat(o.borderRightWidth),w=r?0:parseFloat(o.borderBottomWidth),b=u+f,F=d+l,v=(r?0:parseFloat(o.borderLeftWidth))+m,W=g+w,y=r?0:t.offsetHeight-W-t.clientHeight,E=r?0:t.offsetWidth-v-t.clientWidth,R=b+v,z=F+W,M=r?t.width:parseFloat(o.width)-R-E,O=r?t.height:parseFloat(o.height)-z-y;if(n.has(t)){var k=n.get(t);if(k[0]===M&&k[1]===O)return}n.set(t,[M,O]);var S=Object.create(h.prototype);S.target=t,S.contentRect=new c(u,d,M,O),s.has(i)||(s.set(i,[]),p.add(i)),s.get(i).push(S)}))})),p.forEach((function(e){i.get(e).call(e,s.get(e),e)}))}return s.prototype.observe=function(i){if(i instanceof window.Element){r.has(i)||(r.set(i,new Set),o.add(i),a.set(i,window.getComputedStyle(i)));var n=r.get(i);n.has(this)||n.add(this),cancelAnimationFrame(t),t=requestAnimationFrame(d)}},s.prototype.unobserve=function(i){if(i instanceof window.Element&&r.has(i)){var n=r.get(i);n.has(this)&&(n.delete(this),n.size||(r.delete(i),o.delete(i))),n.size||r.delete(i),o.size||cancelAnimationFrame(t)}},A.DOMRectReadOnly=c,A.ResizeObserver=s,A.ResizeObserverEntry=h,A}; // eslint-disable-line\n",
       "mpl.toolbar_items = [[\"Home\", \"Reset original view\", \"fa fa-home icon-home\", \"home\"], [\"Back\", \"Back to previous view\", \"fa fa-arrow-left icon-arrow-left\", \"back\"], [\"Forward\", \"Forward to next view\", \"fa fa-arrow-right icon-arrow-right\", \"forward\"], [\"\", \"\", \"\", \"\"], [\"Pan\", \"Left button pans, Right button zooms\\nx/y fixes axis, CTRL fixes aspect\", \"fa fa-arrows icon-move\", \"pan\"], [\"Zoom\", \"Zoom to rectangle\\nx/y fixes axis\", \"fa fa-square-o icon-check-empty\", \"zoom\"], [\"\", \"\", \"\", \"\"], [\"Download\", \"Download plot\", \"fa fa-floppy-o icon-save\", \"download\"]];\n",
       "\n",
       "mpl.extensions = [\"eps\", \"jpeg\", \"pgf\", \"pdf\", \"png\", \"ps\", \"raw\", \"svg\", \"tif\"];\n",
       "\n",
       "mpl.default_extension = \"png\";/* global mpl */\n",
       "\n",
       "var comm_websocket_adapter = function (comm) {\n",
       "    // Create a \"websocket\"-like object which calls the given IPython comm\n",
       "    // object with the appropriate methods. Currently this is a non binary\n",
       "    // socket, so there is still some room for performance tuning.\n",
       "    var ws = {};\n",
       "\n",
       "    ws.binaryType = comm.kernel.ws.binaryType;\n",
       "    ws.readyState = comm.kernel.ws.readyState;\n",
       "    function updateReadyState(_event) {\n",
       "        if (comm.kernel.ws) {\n",
       "            ws.readyState = comm.kernel.ws.readyState;\n",
       "        } else {\n",
       "            ws.readyState = 3; // Closed state.\n",
       "        }\n",
       "    }\n",
       "    comm.kernel.ws.addEventListener('open', updateReadyState);\n",
       "    comm.kernel.ws.addEventListener('close', updateReadyState);\n",
       "    comm.kernel.ws.addEventListener('error', updateReadyState);\n",
       "\n",
       "    ws.close = function () {\n",
       "        comm.close();\n",
       "    };\n",
       "    ws.send = function (m) {\n",
       "        //console.log('sending', m);\n",
       "        comm.send(m);\n",
       "    };\n",
       "    // Register the callback with on_msg.\n",
       "    comm.on_msg(function (msg) {\n",
       "        //console.log('receiving', msg['content']['data'], msg);\n",
       "        var data = msg['content']['data'];\n",
       "        if (data['blob'] !== undefined) {\n",
       "            data = {\n",
       "                data: new Blob(msg['buffers'], { type: data['blob'] }),\n",
       "            };\n",
       "        }\n",
       "        // Pass the mpl event to the overridden (by mpl) onmessage function.\n",
       "        ws.onmessage(data);\n",
       "    });\n",
       "    return ws;\n",
       "};\n",
       "\n",
       "mpl.mpl_figure_comm = function (comm, msg) {\n",
       "    // This is the function which gets called when the mpl process\n",
       "    // starts-up an IPython Comm through the \"matplotlib\" channel.\n",
       "\n",
       "    var id = msg.content.data.id;\n",
       "    // Get hold of the div created by the display call when the Comm\n",
       "    // socket was opened in Python.\n",
       "    var element = document.getElementById(id);\n",
       "    var ws_proxy = comm_websocket_adapter(comm);\n",
       "\n",
       "    function ondownload(figure, _format) {\n",
       "        window.open(figure.canvas.toDataURL());\n",
       "    }\n",
       "\n",
       "    var fig = new mpl.figure(id, ws_proxy, ondownload, element);\n",
       "\n",
       "    // Call onopen now - mpl needs it, as it is assuming we've passed it a real\n",
       "    // web socket which is closed, not our websocket->open comm proxy.\n",
       "    ws_proxy.onopen();\n",
       "\n",
       "    fig.parent_element = element;\n",
       "    fig.cell_info = mpl.find_output_cell(\"<div id='\" + id + \"'></div>\");\n",
       "    if (!fig.cell_info) {\n",
       "        console.error('Failed to find cell for figure', id, fig);\n",
       "        return;\n",
       "    }\n",
       "    fig.cell_info[0].output_area.element.on(\n",
       "        'cleared',\n",
       "        { fig: fig },\n",
       "        fig._remove_fig_handler\n",
       "    );\n",
       "};\n",
       "\n",
       "mpl.figure.prototype.handle_close = function (fig, msg) {\n",
       "    var width = fig.canvas.width / fig.ratio;\n",
       "    fig.cell_info[0].output_area.element.off(\n",
       "        'cleared',\n",
       "        fig._remove_fig_handler\n",
       "    );\n",
       "    fig.resizeObserverInstance.unobserve(fig.canvas_div);\n",
       "\n",
       "    // Update the output cell to use the data from the current canvas.\n",
       "    fig.push_to_output();\n",
       "    var dataURL = fig.canvas.toDataURL();\n",
       "    // Re-enable the keyboard manager in IPython - without this line, in FF,\n",
       "    // the notebook keyboard shortcuts fail.\n",
       "    IPython.keyboard_manager.enable();\n",
       "    fig.parent_element.innerHTML =\n",
       "        '<img src=\"' + dataURL + '\" width=\"' + width + '\">';\n",
       "    fig.close_ws(fig, msg);\n",
       "};\n",
       "\n",
       "mpl.figure.prototype.close_ws = function (fig, msg) {\n",
       "    fig.send_message('closing', msg);\n",
       "    // fig.ws.close()\n",
       "};\n",
       "\n",
       "mpl.figure.prototype.push_to_output = function (_remove_interactive) {\n",
       "    // Turn the data on the canvas into data in the output cell.\n",
       "    var width = this.canvas.width / this.ratio;\n",
       "    var dataURL = this.canvas.toDataURL();\n",
       "    this.cell_info[1]['text/html'] =\n",
       "        '<img src=\"' + dataURL + '\" width=\"' + width + '\">';\n",
       "};\n",
       "\n",
       "mpl.figure.prototype.updated_canvas_event = function () {\n",
       "    // Tell IPython that the notebook contents must change.\n",
       "    IPython.notebook.set_dirty(true);\n",
       "    this.send_message('ack', {});\n",
       "    var fig = this;\n",
       "    // Wait a second, then push the new image to the DOM so\n",
       "    // that it is saved nicely (might be nice to debounce this).\n",
       "    setTimeout(function () {\n",
       "        fig.push_to_output();\n",
       "    }, 1000);\n",
       "};\n",
       "\n",
       "mpl.figure.prototype._init_toolbar = function () {\n",
       "    var fig = this;\n",
       "\n",
       "    var toolbar = document.createElement('div');\n",
       "    toolbar.classList = 'btn-toolbar';\n",
       "    this.root.appendChild(toolbar);\n",
       "\n",
       "    function on_click_closure(name) {\n",
       "        return function (_event) {\n",
       "            return fig.toolbar_button_onclick(name);\n",
       "        };\n",
       "    }\n",
       "\n",
       "    function on_mouseover_closure(tooltip) {\n",
       "        return function (event) {\n",
       "            if (!event.currentTarget.disabled) {\n",
       "                return fig.toolbar_button_onmouseover(tooltip);\n",
       "            }\n",
       "        };\n",
       "    }\n",
       "\n",
       "    fig.buttons = {};\n",
       "    var buttonGroup = document.createElement('div');\n",
       "    buttonGroup.classList = 'btn-group';\n",
       "    var button;\n",
       "    for (var toolbar_ind in mpl.toolbar_items) {\n",
       "        var name = mpl.toolbar_items[toolbar_ind][0];\n",
       "        var tooltip = mpl.toolbar_items[toolbar_ind][1];\n",
       "        var image = mpl.toolbar_items[toolbar_ind][2];\n",
       "        var method_name = mpl.toolbar_items[toolbar_ind][3];\n",
       "\n",
       "        if (!name) {\n",
       "            /* Instead of a spacer, we start a new button group. */\n",
       "            if (buttonGroup.hasChildNodes()) {\n",
       "                toolbar.appendChild(buttonGroup);\n",
       "            }\n",
       "            buttonGroup = document.createElement('div');\n",
       "            buttonGroup.classList = 'btn-group';\n",
       "            continue;\n",
       "        }\n",
       "\n",
       "        button = fig.buttons[name] = document.createElement('button');\n",
       "        button.classList = 'btn btn-default';\n",
       "        button.href = '#';\n",
       "        button.title = name;\n",
       "        button.innerHTML = '<i class=\"fa ' + image + ' fa-lg\"></i>';\n",
       "        button.addEventListener('click', on_click_closure(method_name));\n",
       "        button.addEventListener('mouseover', on_mouseover_closure(tooltip));\n",
       "        buttonGroup.appendChild(button);\n",
       "    }\n",
       "\n",
       "    if (buttonGroup.hasChildNodes()) {\n",
       "        toolbar.appendChild(buttonGroup);\n",
       "    }\n",
       "\n",
       "    // Add the status bar.\n",
       "    var status_bar = document.createElement('span');\n",
       "    status_bar.classList = 'mpl-message pull-right';\n",
       "    toolbar.appendChild(status_bar);\n",
       "    this.message = status_bar;\n",
       "\n",
       "    // Add the close button to the window.\n",
       "    var buttongrp = document.createElement('div');\n",
       "    buttongrp.classList = 'btn-group inline pull-right';\n",
       "    button = document.createElement('button');\n",
       "    button.classList = 'btn btn-mini btn-primary';\n",
       "    button.href = '#';\n",
       "    button.title = 'Stop Interaction';\n",
       "    button.innerHTML = '<i class=\"fa fa-power-off icon-remove icon-large\"></i>';\n",
       "    button.addEventListener('click', function (_evt) {\n",
       "        fig.handle_close(fig, {});\n",
       "    });\n",
       "    button.addEventListener(\n",
       "        'mouseover',\n",
       "        on_mouseover_closure('Stop Interaction')\n",
       "    );\n",
       "    buttongrp.appendChild(button);\n",
       "    var titlebar = this.root.querySelector('.ui-dialog-titlebar');\n",
       "    titlebar.insertBefore(buttongrp, titlebar.firstChild);\n",
       "};\n",
       "\n",
       "mpl.figure.prototype._remove_fig_handler = function (event) {\n",
       "    var fig = event.data.fig;\n",
       "    if (event.target !== this) {\n",
       "        // Ignore bubbled events from children.\n",
       "        return;\n",
       "    }\n",
       "    fig.close_ws(fig, {});\n",
       "};\n",
       "\n",
       "mpl.figure.prototype._root_extra_style = function (el) {\n",
       "    el.style.boxSizing = 'content-box'; // override notebook setting of border-box.\n",
       "};\n",
       "\n",
       "mpl.figure.prototype._canvas_extra_style = function (el) {\n",
       "    // this is important to make the div 'focusable\n",
       "    el.setAttribute('tabindex', 0);\n",
       "    // reach out to IPython and tell the keyboard manager to turn it's self\n",
       "    // off when our div gets focus\n",
       "\n",
       "    // location in version 3\n",
       "    if (IPython.notebook.keyboard_manager) {\n",
       "        IPython.notebook.keyboard_manager.register_events(el);\n",
       "    } else {\n",
       "        // location in version 2\n",
       "        IPython.keyboard_manager.register_events(el);\n",
       "    }\n",
       "};\n",
       "\n",
       "mpl.figure.prototype._key_event_extra = function (event, _name) {\n",
       "    // Check for shift+enter\n",
       "    if (event.shiftKey && event.which === 13) {\n",
       "        this.canvas_div.blur();\n",
       "        // select the cell after this one\n",
       "        var index = IPython.notebook.find_cell_index(this.cell_info[0]);\n",
       "        IPython.notebook.select(index + 1);\n",
       "    }\n",
       "};\n",
       "\n",
       "mpl.figure.prototype.handle_save = function (fig, _msg) {\n",
       "    fig.ondownload(fig, null);\n",
       "};\n",
       "\n",
       "mpl.find_output_cell = function (html_output) {\n",
       "    // Return the cell and output element which can be found *uniquely* in the notebook.\n",
       "    // Note - this is a bit hacky, but it is done because the \"notebook_saving.Notebook\"\n",
       "    // IPython event is triggered only after the cells have been serialised, which for\n",
       "    // our purposes (turning an active figure into a static one), is too late.\n",
       "    var cells = IPython.notebook.get_cells();\n",
       "    var ncells = cells.length;\n",
       "    for (var i = 0; i < ncells; i++) {\n",
       "        var cell = cells[i];\n",
       "        if (cell.cell_type === 'code') {\n",
       "            for (var j = 0; j < cell.output_area.outputs.length; j++) {\n",
       "                var data = cell.output_area.outputs[j];\n",
       "                if (data.data) {\n",
       "                    // IPython >= 3 moved mimebundle to data attribute of output\n",
       "                    data = data.data;\n",
       "                }\n",
       "                if (data['text/html'] === html_output) {\n",
       "                    return [cell, data, j];\n",
       "                }\n",
       "            }\n",
       "        }\n",
       "    }\n",
       "};\n",
       "\n",
       "// Register the function which deals with the matplotlib target/channel.\n",
       "// The kernel may be null if the page has been refreshed.\n",
       "if (IPython.notebook.kernel !== null) {\n",
       "    IPython.notebook.kernel.comm_manager.register_target(\n",
       "        'matplotlib',\n",
       "        mpl.mpl_figure_comm\n",
       "    );\n",
       "}\n"
      ],
      "text/plain": [
       "<IPython.core.display.Javascript object>"
      ]
     },
     "metadata": {},
     "output_type": "display_data"
    },
    {
     "data": {
      "text/html": [
       "<img src=\"data:image/png;base64,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\" width=\"640\">"
      ],
      "text/plain": [
       "<IPython.core.display.HTML object>"
      ]
     },
     "metadata": {},
     "output_type": "display_data"
    },
    {
     "name": "stderr",
     "output_type": "stream",
     "text": [
      "C:\\Users\\fhacesga\\Desktop\\FIRMsDigitizing\\RECTDNN\\TPNN.py:138: UserWarning: Implicit dimension choice for softmax has been deprecated. Change the call to include dim=X as an argument.\n",
      "  output = self.softmax(output)\n",
      "C:\\Users\\fhacesga\\Anaconda3\\envs\\deeplearning\\lib\\site-packages\\torch\\optim\\lr_scheduler.py:382: UserWarning: To get the last learning rate computed by the scheduler, please use `get_last_lr()`.\n",
      "  \"please use `get_last_lr()`.\", UserWarning)\n"
     ]
    }
   ],
   "source": [
    "model = TPNN(num_classes=2, finalpadding=1, inputsize=n_pyramids)\n",
    "model = train(model, loaders, num_epochs=2500, learning_rate=1e-3)"
   ]
  }
 ],
 "metadata": {
  "kernelspec": {
   "display_name": "Python 3 (ipykernel)",
   "language": "python",
   "name": "python3"
  },
  "language_info": {
   "codemirror_mode": {
    "name": "ipython",
    "version": 3
   },
   "file_extension": ".py",
   "mimetype": "text/x-python",
   "name": "python",
   "nbconvert_exporter": "python",
   "pygments_lexer": "ipython3",
   "version": "3.7.16"
  },
  "widgets": {
   "application/vnd.jupyter.widget-state+json": {
    "state": {
     "000a0ce30ef84bfc8ab5b9c23b221bc4": {
      "model_module": "@jupyter-widgets/controls",
      "model_module_version": "1.5.0",
      "model_name": "ProgressStyleModel",
      "state": {
       "description_width": ""
      }
     },
     "0023fc3242d845c783fb42d2e5d68a32": {
      "model_module": "@jupyter-widgets/controls",
      "model_module_version": "1.5.0",
      "model_name": "HBoxModel",
      "state": {
       "children": [
        "IPY_MODEL_5707ef96db714ec0a3f2f9dbe98908c9",
        "IPY_MODEL_8f3469b12b6d41cca996c3174a8a94d3",
        "IPY_MODEL_69fd7e6e13c94f61a5ebb811aa394333"
       ],
       "layout": "IPY_MODEL_5a7402acea7c46b7acc62d232cbaafda"
      }
     },
     "0063857eab204d448a73753b8424dbad": {
      "model_module": "@jupyter-widgets/controls",
      "model_module_version": "1.5.0",
      "model_name": "HTMLModel",
      "state": {
       "layout": "IPY_MODEL_94b354bd31db4240b3abce5878a7f39e",
       "style": "IPY_MODEL_acdac6e8397d4097ba9b78f5a31f3293",
       "value": "100%"
      }
     },
     "009b2957b305415891bb4aed8cebb918": {
      "model_module": "@jupyter-widgets/controls",
      "model_module_version": "1.5.0",
      "model_name": "DescriptionStyleModel",
      "state": {
       "description_width": ""
      }
     },
     "009e9b31c50b45ce98d8d25a7a492aac": {
      "model_module": "@jupyter-widgets/controls",
      "model_module_version": "1.5.0",
      "model_name": "HTMLModel",
      "state": {
       "layout": "IPY_MODEL_f1cadea86f4349a5ab89df8c16368f3f",
       "style": "IPY_MODEL_2a75bc70851b42b69eacea7343414dbb",
       "value": "100%"
      }
     },
     "01d8b4a699f146feb03b588bf69025c8": {
      "model_module": "@jupyter-widgets/base",
      "model_module_version": "1.2.0",
      "model_name": "LayoutModel",
      "state": {}
     },
     "01e5af5b26df48c68e2a60acda563670": {
      "model_module": "@jupyter-widgets/base",
      "model_module_version": "1.2.0",
      "model_name": "LayoutModel",
      "state": {}
     },
     "0264a0f5edbd4d84b646529d5900ab46": {
      "model_module": "@jupyter-widgets/base",
      "model_module_version": "1.2.0",
      "model_name": "LayoutModel",
      "state": {}
     },
     "029642dfa78247a18b8c1e5fe6452dda": {
      "model_module": "@jupyter-widgets/controls",
      "model_module_version": "1.5.0",
      "model_name": "DescriptionStyleModel",
      "state": {
       "description_width": ""
      }
     },
     "0325411a73a24e76a5a828c1af2f77f4": {
      "model_module": "@jupyter-widgets/controls",
      "model_module_version": "1.5.0",
      "model_name": "DescriptionStyleModel",
      "state": {
       "description_width": ""
      }
     },
     "03a96f3c2a024b0f94090e89d31f9e0a": {
      "model_module": "@jupyter-widgets/base",
      "model_module_version": "1.2.0",
      "model_name": "LayoutModel",
      "state": {}
     },
     "055973be849e46938f53875663039720": {
      "model_module": "@jupyter-widgets/base",
      "model_module_version": "1.2.0",
      "model_name": "LayoutModel",
      "state": {}
     },
     "05b3bfdeba8148b8b4f9e8a220a48ad1": {
      "model_module": "@jupyter-widgets/controls",
      "model_module_version": "1.5.0",
      "model_name": "FloatProgressModel",
      "state": {
       "bar_style": "success",
       "layout": "IPY_MODEL_a001f2d8f0ac46178a6eaf43f36f248e",
       "max": 3,
       "style": "IPY_MODEL_b4844e9f7ac840f8932292a6e55f54c4",
       "value": 3
      }
     },
     "066b157993bf44e680f38377fd313131": {
      "model_module": "@jupyter-widgets/controls",
      "model_module_version": "1.5.0",
      "model_name": "HBoxModel",
      "state": {
       "children": [
        "IPY_MODEL_e3713f550fe34209b0ca21db1baa24aa",
        "IPY_MODEL_e5d5e45fb4914148aa722874d820f5b3",
        "IPY_MODEL_dd4cfe4c1c19432d814165e8bfcadbdb"
       ],
       "layout": "IPY_MODEL_8588cbf7c52d4f418839811101f446cc"
      }
     },
     "069d1da5bb904bb092d378f310a159d1": {
      "model_module": "@jupyter-widgets/controls",
      "model_module_version": "1.5.0",
      "model_name": "ProgressStyleModel",
      "state": {
       "description_width": ""
      }
     },
     "06cd218c9ce0406090f8b3651b412fe3": {
      "model_module": "@jupyter-widgets/base",
      "model_module_version": "1.2.0",
      "model_name": "LayoutModel",
      "state": {}
     },
     "06d57aa711be4630a00b75bef4214d4c": {
      "model_module": "@jupyter-widgets/base",
      "model_module_version": "1.2.0",
      "model_name": "LayoutModel",
      "state": {}
     },
     "06e11f82b78947988f5e6a40a8d2f191": {
      "model_module": "@jupyter-widgets/controls",
      "model_module_version": "1.5.0",
      "model_name": "DescriptionStyleModel",
      "state": {
       "description_width": ""
      }
     },
     "06e417298e2e4c93bfd44db90d47d077": {
      "model_module": "@jupyter-widgets/controls",
      "model_module_version": "1.5.0",
      "model_name": "HTMLModel",
      "state": {
       "layout": "IPY_MODEL_3979d488f5ca4bb7b9752f190f516e49",
       "style": "IPY_MODEL_23d02aee6f02490688abd31c971c5a82",
       "value": "100%"
      }
     },
     "07019ea46ea046e0b87c8e4a25c6963b": {
      "model_module": "@jupyter-widgets/controls",
      "model_module_version": "1.5.0",
      "model_name": "HTMLModel",
      "state": {
       "layout": "IPY_MODEL_f27ed8d568e3443b8ebfc12dea126023",
       "style": "IPY_MODEL_8ccf6c8ad7a94dee96a0b8f1c326da34",
       "value": "100%"
      }
     },
     "07d17a674a6348fc8fa411e197b78069": {
      "model_module": "@jupyter-widgets/controls",
      "model_module_version": "1.5.0",
      "model_name": "ProgressStyleModel",
      "state": {
       "description_width": ""
      }
     },
     "080b15f229de42e488724f68e64030ec": {
      "model_module": "@jupyter-widgets/controls",
      "model_module_version": "1.5.0",
      "model_name": "HBoxModel",
      "state": {
       "children": [
        "IPY_MODEL_8bde0caeebf740c4bc667fbfa72d02ed",
        "IPY_MODEL_1485dc20e8a9448a8d53f4b75b48f675",
        "IPY_MODEL_7598e2700b684d90841799187dfcc138"
       ],
       "layout": "IPY_MODEL_30ebffb12b0f4b59abeb9b83b0a6fbdc"
      }
     },
     "084efb17fade418aac55ccf88c99373d": {
      "model_module": "@jupyter-widgets/base",
      "model_module_version": "1.2.0",
      "model_name": "LayoutModel",
      "state": {}
     },
     "09ee37cbf2df41f5b293113c69bb3a24": {
      "model_module": "@jupyter-widgets/base",
      "model_module_version": "1.2.0",
      "model_name": "LayoutModel",
      "state": {}
     },
     "0b1a304bd15f47ec8858bfd900d11484": {
      "model_module": "@jupyter-widgets/controls",
      "model_module_version": "1.5.0",
      "model_name": "HTMLModel",
      "state": {
       "layout": "IPY_MODEL_ba807cc513b74d7d8eeb027c2910b83d",
       "style": "IPY_MODEL_cb816fa26def400fb32343b0dd2f8917",
       "value": " 14/14 [00:37&lt;00:00,  2.73s/it]"
      }
     },
     "0b1b5e2e830e40bb969f2adc1614aea5": {
      "model_module": "@jupyter-widgets/controls",
      "model_module_version": "1.5.0",
      "model_name": "FloatProgressModel",
      "state": {
       "bar_style": "success",
       "layout": "IPY_MODEL_1f96bc76575143e0bbfa6f656bc14379",
       "max": 14,
       "style": "IPY_MODEL_147d6e998a764a2d9829860f250560d9",
       "value": 14
      }
     },
     "0b4691c9dc8c4730b2406addff4465cf": {
      "model_module": "@jupyter-widgets/controls",
      "model_module_version": "1.5.0",
      "model_name": "HTMLModel",
      "state": {
       "layout": "IPY_MODEL_45f72b16772f40e081fb9d967266f68d",
       "style": "IPY_MODEL_43813cdb3cc948f49df4d4f3c7bbca4d",
       "value": "100%"
      }
     },
     "0b69df04be5841c59960a17eb4f82d76": {
      "model_module": "@jupyter-widgets/controls",
      "model_module_version": "1.5.0",
      "model_name": "HBoxModel",
      "state": {
       "children": [
        "IPY_MODEL_aef0ceb8c0ae4015b63ea8b2d521df89",
        "IPY_MODEL_749e6b87082c4e4bbdd4030cad16b4ca",
        "IPY_MODEL_1ce6f12be1c846d6b0b2f907eb606fa8"
       ],
       "layout": "IPY_MODEL_26ee41edcc1d4611b2c3bf8d590a98f1"
      }
     },
     "0b79ec824d3b4d8aa3cae468021e6ea0": {
      "model_module": "@jupyter-widgets/base",
      "model_module_version": "1.2.0",
      "model_name": "LayoutModel",
      "state": {}
     },
     "0bca4e3d211e481b930b97cb27172398": {
      "model_module": "@jupyter-widgets/controls",
      "model_module_version": "1.5.0",
      "model_name": "HTMLModel",
      "state": {
       "layout": "IPY_MODEL_d2089328393446879bd5bea14c4c46d4",
       "style": "IPY_MODEL_acda4f5b396441189693bf7bffcb701c",
       "value": "100%"
      }
     },
     "0bdac01ac9714d238307c195beb0e4d6": {
      "model_module": "@jupyter-widgets/controls",
      "model_module_version": "1.5.0",
      "model_name": "ProgressStyleModel",
      "state": {
       "description_width": ""
      }
     },
     "0cb625922b5f481f85c9215f9f4b3d23": {
      "model_module": "@jupyter-widgets/base",
      "model_module_version": "1.2.0",
      "model_name": "LayoutModel",
      "state": {}
     },
     "0d06caff45da43a387feb0da28b050fb": {
      "model_module": "@jupyter-widgets/base",
      "model_module_version": "1.2.0",
      "model_name": "LayoutModel",
      "state": {}
     },
     "0d313cc29bcc46dfb446da66fa807e59": {
      "model_module": "@jupyter-widgets/controls",
      "model_module_version": "1.5.0",
      "model_name": "HBoxModel",
      "state": {
       "children": [
        "IPY_MODEL_83c2fac7843c4663a1b118a4efb743db",
        "IPY_MODEL_fa70d6fcb22147d0955df9e8bddc056c",
        "IPY_MODEL_b95eedb43b064ce789790750e2c53bb5"
       ],
       "layout": "IPY_MODEL_2a462a43f7d74fce8b387d4a583712ec"
      }
     },
     "0d3409116f40446cbda24b66b80c0548": {
      "model_module": "@jupyter-widgets/controls",
      "model_module_version": "1.5.0",
      "model_name": "FloatProgressModel",
      "state": {
       "bar_style": "success",
       "layout": "IPY_MODEL_69ba768c93bf4d2585127c9dd8cca2a1",
       "max": 3,
       "style": "IPY_MODEL_e8f26801067b4ef1828250d9824be275",
       "value": 3
      }
     },
     "0d4bc172676c4414864818a4ac6416fe": {
      "model_module": "@jupyter-widgets/controls",
      "model_module_version": "1.5.0",
      "model_name": "HTMLModel",
      "state": {
       "layout": "IPY_MODEL_199baf487d344705bd0e350dbae70ae1",
       "style": "IPY_MODEL_06e11f82b78947988f5e6a40a8d2f191",
       "value": "100%"
      }
     },
     "0d4cdb3348194428b360906169fcc25e": {
      "model_module": "@jupyter-widgets/base",
      "model_module_version": "1.2.0",
      "model_name": "LayoutModel",
      "state": {}
     },
     "0d5bdf9af54d439ca3f4b690da144284": {
      "model_module": "@jupyter-widgets/controls",
      "model_module_version": "1.5.0",
      "model_name": "HTMLModel",
      "state": {
       "layout": "IPY_MODEL_32e522644e3548eeb2a61abd4431c1dc",
       "style": "IPY_MODEL_6598381da8a44dae8d3e17c72ca74f0d",
       "value": "100%"
      }
     },
     "0dc955968bf4464581e4aff52c7e0667": {
      "model_module": "@jupyter-widgets/controls",
      "model_module_version": "1.5.0",
      "model_name": "HTMLModel",
      "state": {
       "layout": "IPY_MODEL_b1a71496bea04ea984d4eaf411c2d37c",
       "style": "IPY_MODEL_22eb8c8a0e00490a9134f86bf95f647a",
       "value": " 3/3 [00:11&lt;00:00,  4.32s/it]"
      }
     },
     "0eaa5fd6d17d42739186b27b186fa2d4": {
      "model_module": "@jupyter-widgets/base",
      "model_module_version": "1.2.0",
      "model_name": "LayoutModel",
      "state": {}
     },
     "0eb10b760dc54f0697396bb1551ea804": {
      "model_module": "@jupyter-widgets/controls",
      "model_module_version": "1.5.0",
      "model_name": "FloatProgressModel",
      "state": {
       "bar_style": "success",
       "layout": "IPY_MODEL_4249d3d2ad154f738789fb624a8e0867",
       "max": 14,
       "style": "IPY_MODEL_5976186c6a0042c2b496154953e7726d",
       "value": 14
      }
     },
     "0f08dbddfbf34a21a5d145735909cfec": {
      "model_module": "@jupyter-widgets/base",
      "model_module_version": "1.2.0",
      "model_name": "LayoutModel",
      "state": {}
     },
     "0f26d84da7c14a52a03a1d4cfbbc0405": {
      "model_module": "@jupyter-widgets/controls",
      "model_module_version": "1.5.0",
      "model_name": "DescriptionStyleModel",
      "state": {
       "description_width": ""
      }
     },
     "0f9c8d0f704c4e5ba707cf9fc4bd45ae": {
      "model_module": "@jupyter-widgets/controls",
      "model_module_version": "1.5.0",
      "model_name": "HTMLModel",
      "state": {
       "layout": "IPY_MODEL_4fcce8713d9f40efa519fad4c3f6d159",
       "style": "IPY_MODEL_287a7573648040f38d693b279d747f3b",
       "value": "100%"
      }
     },
     "1004c413f391408aa53526d8882d9ea5": {
      "model_module": "@jupyter-widgets/controls",
      "model_module_version": "1.5.0",
      "model_name": "HTMLModel",
      "state": {
       "layout": "IPY_MODEL_98cb9a5f782d406992c4ab9ddc0d89c4",
       "style": "IPY_MODEL_583d1f1adf7746b78eeac541b547405b",
       "value": "100%"
      }
     },
     "10e39dc37bd944b3a6cea613c2c089f3": {
      "model_module": "@jupyter-widgets/controls",
      "model_module_version": "1.5.0",
      "model_name": "DescriptionStyleModel",
      "state": {
       "description_width": ""
      }
     },
     "115a126a5dc14d9e9e0c1a91e79ef53e": {
      "model_module": "@jupyter-widgets/base",
      "model_module_version": "1.2.0",
      "model_name": "LayoutModel",
      "state": {}
     },
     "11d0dc6ff6db4abe8434128bba74e17a": {
      "model_module": "@jupyter-widgets/controls",
      "model_module_version": "1.5.0",
      "model_name": "DescriptionStyleModel",
      "state": {
       "description_width": ""
      }
     },
     "11fddfdf1de84920ae47280c167037ea": {
      "model_module": "@jupyter-widgets/controls",
      "model_module_version": "1.5.0",
      "model_name": "HBoxModel",
      "state": {
       "children": [
        "IPY_MODEL_d7843afa00d04ccfa17c4f7a2c0ead9c",
        "IPY_MODEL_b706432285f34e75ae5cff63bc0f811e",
        "IPY_MODEL_8039000c118c4b35bc9ffcc4d13b27f3"
       ],
       "layout": "IPY_MODEL_fc340e178dcf4841a50d791a1e61b133"
      }
     },
     "147d6e998a764a2d9829860f250560d9": {
      "model_module": "@jupyter-widgets/controls",
      "model_module_version": "1.5.0",
      "model_name": "ProgressStyleModel",
      "state": {
       "description_width": ""
      }
     },
     "1485dc20e8a9448a8d53f4b75b48f675": {
      "model_module": "@jupyter-widgets/controls",
      "model_module_version": "1.5.0",
      "model_name": "FloatProgressModel",
      "state": {
       "bar_style": "danger",
       "layout": "IPY_MODEL_305aca9f3f244ad0b9b26ed91ec3af33",
       "max": 14,
       "style": "IPY_MODEL_18d7ef9ee88a455dbbfac965b15c9e1a",
       "value": 10
      }
     },
     "1574450acc874b6f9d2c6fa210c91894": {
      "model_module": "@jupyter-widgets/base",
      "model_module_version": "1.2.0",
      "model_name": "LayoutModel",
      "state": {}
     },
     "16db80d7528e45a79bb7708b65544c05": {
      "model_module": "@jupyter-widgets/controls",
      "model_module_version": "1.5.0",
      "model_name": "FloatProgressModel",
      "state": {
       "bar_style": "success",
       "layout": "IPY_MODEL_8d4c233f2bd34fc785689c28a4443ae4",
       "max": 3,
       "style": "IPY_MODEL_5d60a27d33a64fe0b9065d67b7327045",
       "value": 3
      }
     },
     "16fb2ba10ca54fe5b113a07e4b74a364": {
      "model_module": "@jupyter-widgets/controls",
      "model_module_version": "1.5.0",
      "model_name": "FloatProgressModel",
      "state": {
       "bar_style": "success",
       "layout": "IPY_MODEL_edf5997f4a0c488abc2bd51d603e413b",
       "max": 3,
       "style": "IPY_MODEL_8184abafd437439481a39fe8f50c41bf",
       "value": 3
      }
     },
     "1770df0cfa014ba89fca32d9ccf66276": {
      "model_module": "@jupyter-widgets/base",
      "model_module_version": "1.2.0",
      "model_name": "LayoutModel",
      "state": {}
     },
     "17800447be014770ae05c74ce802f81c": {
      "model_module": "@jupyter-widgets/controls",
      "model_module_version": "1.5.0",
      "model_name": "DescriptionStyleModel",
      "state": {
       "description_width": ""
      }
     },
     "18d7ef9ee88a455dbbfac965b15c9e1a": {
      "model_module": "@jupyter-widgets/controls",
      "model_module_version": "1.5.0",
      "model_name": "ProgressStyleModel",
      "state": {
       "description_width": ""
      }
     },
     "18fb54df65384bb191ef2dd090fb1024": {
      "model_module": "@jupyter-widgets/base",
      "model_module_version": "1.2.0",
      "model_name": "LayoutModel",
      "state": {}
     },
     "195b90f25ae447488562295c171c2e4d": {
      "model_module": "@jupyter-widgets/controls",
      "model_module_version": "1.5.0",
      "model_name": "DescriptionStyleModel",
      "state": {
       "description_width": ""
      }
     },
     "195bf44553064ef9b5c442ed7f8d14c0": {
      "model_module": "@jupyter-widgets/controls",
      "model_module_version": "1.5.0",
      "model_name": "FloatProgressModel",
      "state": {
       "bar_style": "success",
       "layout": "IPY_MODEL_a457bdaff0b54319a7e04193fee288ff",
       "max": 14,
       "style": "IPY_MODEL_5d64f8724c144e37b875cd67b10ec38b",
       "value": 14
      }
     },
     "199baf487d344705bd0e350dbae70ae1": {
      "model_module": "@jupyter-widgets/base",
      "model_module_version": "1.2.0",
      "model_name": "LayoutModel",
      "state": {}
     },
     "19ea34ec07da4d61acec8c855bbc02bf": {
      "model_module": "@jupyter-widgets/base",
      "model_module_version": "1.2.0",
      "model_name": "LayoutModel",
      "state": {}
     },
     "1b128390ad5d40609c6853ee0320d36b": {
      "model_module": "@jupyter-widgets/controls",
      "model_module_version": "1.5.0",
      "model_name": "FloatProgressModel",
      "state": {
       "bar_style": "success",
       "layout": "IPY_MODEL_be41d6ae9f344b5ba9b383d3d5c484bf",
       "max": 3,
       "style": "IPY_MODEL_07d17a674a6348fc8fa411e197b78069",
       "value": 3
      }
     },
     "1b3e9c32128b4afd82e6239a2c210fd1": {
      "model_module": "@jupyter-widgets/base",
      "model_module_version": "1.2.0",
      "model_name": "LayoutModel",
      "state": {}
     },
     "1bb5e4ab089345e486e8cb7702e2a389": {
      "model_module": "@jupyter-widgets/controls",
      "model_module_version": "1.5.0",
      "model_name": "HBoxModel",
      "state": {
       "children": [
        "IPY_MODEL_b4a6ca293cf340b89bc8cee747bd4df1",
        "IPY_MODEL_25903453397444dc8539ba4a20d941d7",
        "IPY_MODEL_4c514c61a1824da0bb353e154c21288e"
       ],
       "layout": "IPY_MODEL_44d1cb966cd74d34b917a08160071f86"
      }
     },
     "1c4bcfb11581445a8d46ce754ec37180": {
      "model_module": "@jupyter-widgets/base",
      "model_module_version": "1.2.0",
      "model_name": "LayoutModel",
      "state": {}
     },
     "1c5a097cc6654b498bb5d102de2ff9a9": {
      "model_module": "@jupyter-widgets/controls",
      "model_module_version": "1.5.0",
      "model_name": "HBoxModel",
      "state": {
       "children": [
        "IPY_MODEL_f3448abc46c64dcc99030e01f7f7c0ad",
        "IPY_MODEL_0eb10b760dc54f0697396bb1551ea804",
        "IPY_MODEL_e6344aec656a4e2ebe984c2af55086ee"
       ],
       "layout": "IPY_MODEL_30edfff582484b6493b79792a84b5d78"
      }
     },
     "1ce6f12be1c846d6b0b2f907eb606fa8": {
      "model_module": "@jupyter-widgets/controls",
      "model_module_version": "1.5.0",
      "model_name": "HTMLModel",
      "state": {
       "layout": "IPY_MODEL_93d601e2d59e468bb0a2e59df885b6bb",
       "style": "IPY_MODEL_6022fd1d8b704696a3ea76aed0286917",
       "value": " 14/14 [00:34&lt;00:00,  2.58s/it]"
      }
     },
     "1d307ce0a82445ba9e28c933d9dc26c9": {
      "model_module": "@jupyter-widgets/controls",
      "model_module_version": "1.5.0",
      "model_name": "HBoxModel",
      "state": {
       "children": [
        "IPY_MODEL_ec90cfce9177485b883662ef681ad8d6",
        "IPY_MODEL_d508b30885034954883d0ecb2f25290a",
        "IPY_MODEL_7863273832e24bb2b5709eec56869f46"
       ],
       "layout": "IPY_MODEL_e704b69e2c0147598b87d70959cc1d19"
      }
     },
     "1ea51bc560ca4022bb1a949c79a0f734": {
      "model_module": "@jupyter-widgets/controls",
      "model_module_version": "1.5.0",
      "model_name": "HTMLModel",
      "state": {
       "layout": "IPY_MODEL_468581f8cddc4e7bb1610ac6320b66b7",
       "style": "IPY_MODEL_d13dd26971b44151b9d2858eba28a261",
       "value": "100%"
      }
     },
     "1f96bc76575143e0bbfa6f656bc14379": {
      "model_module": "@jupyter-widgets/base",
      "model_module_version": "1.2.0",
      "model_name": "LayoutModel",
      "state": {}
     },
     "1f98f10a0be946e8a023ccbd3bb84e77": {
      "model_module": "@jupyter-widgets/base",
      "model_module_version": "1.2.0",
      "model_name": "LayoutModel",
      "state": {}
     },
     "1fc2b21844534159a368b1806fac3a9b": {
      "model_module": "@jupyter-widgets/controls",
      "model_module_version": "1.5.0",
      "model_name": "DescriptionStyleModel",
      "state": {
       "description_width": ""
      }
     },
     "1fc82bd317434156a2e9298ba5e183fd": {
      "model_module": "@jupyter-widgets/controls",
      "model_module_version": "1.5.0",
      "model_name": "HTMLModel",
      "state": {
       "layout": "IPY_MODEL_cc49fe955bc9415abe5836ccaad61025",
       "style": "IPY_MODEL_ddd0a93088564db392114ce48622e704",
       "value": "100%"
      }
     },
     "1fe284f8d07f40878ff479927110d9b2": {
      "model_module": "@jupyter-widgets/controls",
      "model_module_version": "1.5.0",
      "model_name": "HBoxModel",
      "state": {
       "children": [
        "IPY_MODEL_d79d6b73af2144729bed6a955c95e6e1",
        "IPY_MODEL_c2fde99dd01245ec95f086a3473cf135",
        "IPY_MODEL_a0a6992b1429433fbbbaf3d5f05d24c3"
       ],
       "layout": "IPY_MODEL_98307e1ba8e542d28735e73168500439"
      }
     },
     "2014c622957f4172bf5538e7032073d7": {
      "model_module": "@jupyter-widgets/base",
      "model_module_version": "1.2.0",
      "model_name": "LayoutModel",
      "state": {}
     },
     "20e2e54ff7b6404a8ef36f22b44b6529": {
      "model_module": "@jupyter-widgets/controls",
      "model_module_version": "1.5.0",
      "model_name": "FloatProgressModel",
      "state": {
       "bar_style": "success",
       "layout": "IPY_MODEL_fdb9a369ccea4ed5983d9d8248c46c5d",
       "max": 14,
       "style": "IPY_MODEL_cd78b7965d4d428a8cb50a5b211e9793",
       "value": 14
      }
     },
     "212dcdc1e2d240d883b18393d45acda8": {
      "model_module": "@jupyter-widgets/base",
      "model_module_version": "1.2.0",
      "model_name": "LayoutModel",
      "state": {}
     },
     "2170228775ec4e85803342171d2bcc44": {
      "model_module": "@jupyter-widgets/base",
      "model_module_version": "1.2.0",
      "model_name": "LayoutModel",
      "state": {}
     },
     "219404a0aa80406fba4e1a59864e213e": {
      "model_module": "@jupyter-widgets/base",
      "model_module_version": "1.2.0",
      "model_name": "LayoutModel",
      "state": {}
     },
     "219afd487156452a86e2406576ecfcc9": {
      "model_module": "@jupyter-widgets/base",
      "model_module_version": "1.2.0",
      "model_name": "LayoutModel",
      "state": {}
     },
     "21b051ce1eb44d588eb8484bfb57c09c": {
      "model_module": "@jupyter-widgets/controls",
      "model_module_version": "1.5.0",
      "model_name": "HTMLModel",
      "state": {
       "layout": "IPY_MODEL_8b16a795483843d3b70dba6e1fd26a29",
       "style": "IPY_MODEL_845af8d2da2a4ab4ad8df8b4e2341619",
       "value": " 14/14 [00:34&lt;00:00,  2.59s/it]"
      }
     },
     "21d4e7e9c0ce4ddda97e55cf9f588e7c": {
      "model_module": "@jupyter-widgets/base",
      "model_module_version": "1.2.0",
      "model_name": "LayoutModel",
      "state": {}
     },
     "229395b963b84118856df1a35e4fc8fe": {
      "model_module": "@jupyter-widgets/controls",
      "model_module_version": "1.5.0",
      "model_name": "HBoxModel",
      "state": {
       "children": [
        "IPY_MODEL_dcca8bf40bd64061b09a211cc68bba61",
        "IPY_MODEL_1b128390ad5d40609c6853ee0320d36b",
        "IPY_MODEL_82fb3cf99ebb4e96ac943460c9281ad7"
       ],
       "layout": "IPY_MODEL_e59fd9367547423fbe88c0a69e5b5d4f"
      }
     },
     "22eb8c8a0e00490a9134f86bf95f647a": {
      "model_module": "@jupyter-widgets/controls",
      "model_module_version": "1.5.0",
      "model_name": "DescriptionStyleModel",
      "state": {
       "description_width": ""
      }
     },
     "22fd4ea1bcd34be88b6b8c7fe475ca29": {
      "model_module": "@jupyter-widgets/controls",
      "model_module_version": "1.5.0",
      "model_name": "HBoxModel",
      "state": {
       "children": [
        "IPY_MODEL_417fab544a4646ed858872a9006749d0",
        "IPY_MODEL_16fb2ba10ca54fe5b113a07e4b74a364",
        "IPY_MODEL_eba97bc2fe554e4d89a75a68452728ea"
       ],
       "layout": "IPY_MODEL_0d4cdb3348194428b360906169fcc25e"
      }
     },
     "23242f0b8c324c04b28740701db618b7": {
      "model_module": "@jupyter-widgets/controls",
      "model_module_version": "1.5.0",
      "model_name": "HBoxModel",
      "state": {
       "children": [
        "IPY_MODEL_802c5562f59f42ef96997de1b9feb3b5",
        "IPY_MODEL_5082c28037254c02a2c7b11b1fec3d24",
        "IPY_MODEL_cb08a9ff3d324eb28b1c29892c887232"
       ],
       "layout": "IPY_MODEL_01d8b4a699f146feb03b588bf69025c8"
      }
     },
     "234e24831a0f4f43bc69f819aff734ef": {
      "model_module": "@jupyter-widgets/base",
      "model_module_version": "1.2.0",
      "model_name": "LayoutModel",
      "state": {}
     },
     "23d02aee6f02490688abd31c971c5a82": {
      "model_module": "@jupyter-widgets/controls",
      "model_module_version": "1.5.0",
      "model_name": "DescriptionStyleModel",
      "state": {
       "description_width": ""
      }
     },
     "23f649b8681c4860bb7c7d5a1e876cac": {
      "model_module": "@jupyter-widgets/base",
      "model_module_version": "1.2.0",
      "model_name": "LayoutModel",
      "state": {}
     },
     "23ff1d5181ff474a8548c4341dace698": {
      "model_module": "@jupyter-widgets/controls",
      "model_module_version": "1.5.0",
      "model_name": "DescriptionStyleModel",
      "state": {
       "description_width": ""
      }
     },
     "2493d03c7bd34717904cab4538dd29ad": {
      "model_module": "@jupyter-widgets/base",
      "model_module_version": "1.2.0",
      "model_name": "LayoutModel",
      "state": {}
     },
     "24aeaa95de3f4885976b8a9a38c9b3bf": {
      "model_module": "@jupyter-widgets/controls",
      "model_module_version": "1.5.0",
      "model_name": "ProgressStyleModel",
      "state": {
       "description_width": ""
      }
     },
     "2503dfb81f4847be8a2dd83ba9fce570": {
      "model_module": "@jupyter-widgets/base",
      "model_module_version": "1.2.0",
      "model_name": "LayoutModel",
      "state": {}
     },
     "2551adbdd0364fdcb7901efe8a24fbd1": {
      "model_module": "@jupyter-widgets/controls",
      "model_module_version": "1.5.0",
      "model_name": "FloatProgressModel",
      "state": {
       "bar_style": "success",
       "layout": "IPY_MODEL_a362902f497348d289d27ca0913068fe",
       "max": 3,
       "style": "IPY_MODEL_ab4c0e768492431bbb35ce04a23dce63",
       "value": 3
      }
     },
     "25604506d9dd4215b59f34d9b049de1a": {
      "model_module": "@jupyter-widgets/controls",
      "model_module_version": "1.5.0",
      "model_name": "HBoxModel",
      "state": {
       "children": [
        "IPY_MODEL_1004c413f391408aa53526d8882d9ea5",
        "IPY_MODEL_6ab2c800eaef42e4a286a0aab35ed190",
        "IPY_MODEL_e70f3c2d70b247df9fb2de2b32a22bdd"
       ],
       "layout": "IPY_MODEL_21d4e7e9c0ce4ddda97e55cf9f588e7c"
      }
     },
     "25903453397444dc8539ba4a20d941d7": {
      "model_module": "@jupyter-widgets/controls",
      "model_module_version": "1.5.0",
      "model_name": "FloatProgressModel",
      "state": {
       "bar_style": "success",
       "layout": "IPY_MODEL_bcd1686c6e77476086983a24fa87b982",
       "max": 14,
       "style": "IPY_MODEL_63496197b64c4981aa1841e5dd0ed3a2",
       "value": 14
      }
     },
     "25c6f48933ff4136bbdfb125b1cd897e": {
      "model_module": "@jupyter-widgets/controls",
      "model_module_version": "1.5.0",
      "model_name": "HTMLModel",
      "state": {
       "layout": "IPY_MODEL_cc70f9b3c01c457b99cccc2760db08c8",
       "style": "IPY_MODEL_672d456870d44b42957d9ad3669127cc",
       "value": " 3/3 [00:10&lt;00:00,  4.27s/it]"
      }
     },
     "2675acb784a64d10b3c0d15cb32666e4": {
      "model_module": "@jupyter-widgets/base",
      "model_module_version": "1.2.0",
      "model_name": "LayoutModel",
      "state": {}
     },
     "26ee41edcc1d4611b2c3bf8d590a98f1": {
      "model_module": "@jupyter-widgets/base",
      "model_module_version": "1.2.0",
      "model_name": "LayoutModel",
      "state": {}
     },
     "271558bdfe944780b3e8a65d2bfe1626": {
      "model_module": "@jupyter-widgets/base",
      "model_module_version": "1.2.0",
      "model_name": "LayoutModel",
      "state": {}
     },
     "271e20a9175e435b9e432bb49ff28515": {
      "model_module": "@jupyter-widgets/base",
      "model_module_version": "1.2.0",
      "model_name": "LayoutModel",
      "state": {}
     },
     "273b1ed998a24d33896bf669abd17f2d": {
      "model_module": "@jupyter-widgets/controls",
      "model_module_version": "1.5.0",
      "model_name": "HTMLModel",
      "state": {
       "layout": "IPY_MODEL_09ee37cbf2df41f5b293113c69bb3a24",
       "style": "IPY_MODEL_506a403f0fdc4f9f8b85aa651285d720",
       "value": " 3/3 [00:10&lt;00:00,  4.07s/it]"
      }
     },
     "2763bab54f6b4f9b9850c8136f67ce38": {
      "model_module": "@jupyter-widgets/controls",
      "model_module_version": "1.5.0",
      "model_name": "ProgressStyleModel",
      "state": {
       "description_width": ""
      }
     },
     "276ce3320f1349639ffd64105f12b350": {
      "model_module": "@jupyter-widgets/base",
      "model_module_version": "1.2.0",
      "model_name": "LayoutModel",
      "state": {}
     },
     "2796d4640e4c4e929e33d1c64b9f54fc": {
      "model_module": "@jupyter-widgets/controls",
      "model_module_version": "1.5.0",
      "model_name": "HTMLModel",
      "state": {
       "layout": "IPY_MODEL_ce1f0f894a92465db9af08981e3b5c55",
       "style": "IPY_MODEL_e6601afb4f444433a8d2e37f465f45ab",
       "value": " 8/14 [00:15&lt;00:17,  2.86s/it]"
      }
     },
     "27eeaee083424c1f81fecc56dea27a6d": {
      "model_module": "@jupyter-widgets/controls",
      "model_module_version": "1.5.0",
      "model_name": "FloatProgressModel",
      "state": {
       "bar_style": "success",
       "layout": "IPY_MODEL_23f649b8681c4860bb7c7d5a1e876cac",
       "max": 14,
       "style": "IPY_MODEL_b6148f8af3974dfd862a9b5fe1ab3bd7",
       "value": 14
      }
     },
     "2820391b62434f3d8c4aaf1ce302cf30": {
      "model_module": "@jupyter-widgets/controls",
      "model_module_version": "1.5.0",
      "model_name": "HBoxModel",
      "state": {
       "children": [
        "IPY_MODEL_06e417298e2e4c93bfd44db90d47d077",
        "IPY_MODEL_16db80d7528e45a79bb7708b65544c05",
        "IPY_MODEL_b56f52d366d44191901d75a4215ee301"
       ],
       "layout": "IPY_MODEL_90220a88101d49e888b6f83bfb6df436"
      }
     },
     "287a7573648040f38d693b279d747f3b": {
      "model_module": "@jupyter-widgets/controls",
      "model_module_version": "1.5.0",
      "model_name": "DescriptionStyleModel",
      "state": {
       "description_width": ""
      }
     },
     "28d7d40964e34064a071c4f266111d5e": {
      "model_module": "@jupyter-widgets/controls",
      "model_module_version": "1.5.0",
      "model_name": "HTMLModel",
      "state": {
       "layout": "IPY_MODEL_a05d377b458949ba8d7dfb4733c297c6",
       "style": "IPY_MODEL_9f05b8a4032d4eeaa91f17c8df6043fd",
       "value": " 14/14 [00:34&lt;00:00,  2.58s/it]"
      }
     },
     "295a8a63e0a94d208ade3affb9d68e12": {
      "model_module": "@jupyter-widgets/controls",
      "model_module_version": "1.5.0",
      "model_name": "FloatProgressModel",
      "state": {
       "bar_style": "success",
       "layout": "IPY_MODEL_9ac45458d0f9497bac72211e8da9c1ce",
       "max": 14,
       "style": "IPY_MODEL_6ce6dc7f238243caaf36f8495409d552",
       "value": 14
      }
     },
     "298d55ec99f54dcd8e73ef8eba7e4595": {
      "model_module": "@jupyter-widgets/controls",
      "model_module_version": "1.5.0",
      "model_name": "FloatProgressModel",
      "state": {
       "bar_style": "success",
       "layout": "IPY_MODEL_3454421d51a5473faae3117d722bcde8",
       "max": 3,
       "style": "IPY_MODEL_ceb09d33dd824785acf3458f0f6f5b90",
       "value": 3
      }
     },
     "2a1b43fb3d5e41dbaad395e88d69dc17": {
      "model_module": "@jupyter-widgets/controls",
      "model_module_version": "1.5.0",
      "model_name": "DescriptionStyleModel",
      "state": {
       "description_width": ""
      }
     },
     "2a2a37aad76a438cae578d3ae288b46b": {
      "model_module": "@jupyter-widgets/base",
      "model_module_version": "1.2.0",
      "model_name": "LayoutModel",
      "state": {}
     },
     "2a462a43f7d74fce8b387d4a583712ec": {
      "model_module": "@jupyter-widgets/base",
      "model_module_version": "1.2.0",
      "model_name": "LayoutModel",
      "state": {}
     },
     "2a65240a15d4499fbd0cf942492a4711": {
      "model_module": "@jupyter-widgets/controls",
      "model_module_version": "1.5.0",
      "model_name": "HBoxModel",
      "state": {
       "children": [
        "IPY_MODEL_e2bebc0e11bb4c67b655a2bb0e52d17c",
        "IPY_MODEL_295a8a63e0a94d208ade3affb9d68e12",
        "IPY_MODEL_74b05596216a49a1b150b9be0061ffef"
       ],
       "layout": "IPY_MODEL_0264a0f5edbd4d84b646529d5900ab46"
      }
     },
     "2a75bc70851b42b69eacea7343414dbb": {
      "model_module": "@jupyter-widgets/controls",
      "model_module_version": "1.5.0",
      "model_name": "DescriptionStyleModel",
      "state": {
       "description_width": ""
      }
     },
     "2b06f801070a48a5bb5f39f5577cf5f1": {
      "model_module": "@jupyter-widgets/controls",
      "model_module_version": "1.5.0",
      "model_name": "HTMLModel",
      "state": {
       "layout": "IPY_MODEL_539f0d72dd3543fbad79611d9f1bd031",
       "style": "IPY_MODEL_55e7a37abac24908961c342bc93befe3",
       "value": "100%"
      }
     },
     "2cede2330d884562a62166d0d62dcd9b": {
      "model_module": "@jupyter-widgets/controls",
      "model_module_version": "1.5.0",
      "model_name": "HTMLModel",
      "state": {
       "layout": "IPY_MODEL_384d6f8e187a4707b65a2681e16fe7c3",
       "style": "IPY_MODEL_009b2957b305415891bb4aed8cebb918",
       "value": "100%"
      }
     },
     "2d314896d673436ca34fb2700ce24e3f": {
      "model_module": "@jupyter-widgets/controls",
      "model_module_version": "1.5.0",
      "model_name": "ProgressStyleModel",
      "state": {
       "description_width": ""
      }
     },
     "2d3c1b2fd2cc4a93801046220e37b45b": {
      "model_module": "@jupyter-widgets/controls",
      "model_module_version": "1.5.0",
      "model_name": "HBoxModel",
      "state": {
       "children": [
        "IPY_MODEL_ff7181daebce46c8a92713b3908a3645",
        "IPY_MODEL_306500c09d4a4504b0e75f825b372fb8",
        "IPY_MODEL_32176fcf74d844e6b25ff2e5158bb5eb"
       ],
       "layout": "IPY_MODEL_801c18dea9304ecbb6bb0636069827d4"
      }
     },
     "2efac13743ad48a393316dbb618326c8": {
      "model_module": "@jupyter-widgets/base",
      "model_module_version": "1.2.0",
      "model_name": "LayoutModel",
      "state": {}
     },
     "2f5c5af2a7194cbe9dede0e4b86308d8": {
      "model_module": "@jupyter-widgets/base",
      "model_module_version": "1.2.0",
      "model_name": "LayoutModel",
      "state": {}
     },
     "3007aa1f6ee741e29dae0f62533f5049": {
      "model_module": "@jupyter-widgets/controls",
      "model_module_version": "1.5.0",
      "model_name": "DescriptionStyleModel",
      "state": {
       "description_width": ""
      }
     },
     "305aca9f3f244ad0b9b26ed91ec3af33": {
      "model_module": "@jupyter-widgets/base",
      "model_module_version": "1.2.0",
      "model_name": "LayoutModel",
      "state": {}
     },
     "306500c09d4a4504b0e75f825b372fb8": {
      "model_module": "@jupyter-widgets/controls",
      "model_module_version": "1.5.0",
      "model_name": "FloatProgressModel",
      "state": {
       "bar_style": "success",
       "layout": "IPY_MODEL_4627a97cda92444ba7641b387f1ae6bc",
       "max": 8,
       "style": "IPY_MODEL_bf2f79d4b8554fe0a9096bcceea7454d",
       "value": 8
      }
     },
     "3088d09c6b51431da8feba468e073631": {
      "model_module": "@jupyter-widgets/base",
      "model_module_version": "1.2.0",
      "model_name": "LayoutModel",
      "state": {}
     },
     "30abf8ccf99543268d1324b1c5b5ed78": {
      "model_module": "@jupyter-widgets/base",
      "model_module_version": "1.2.0",
      "model_name": "LayoutModel",
      "state": {}
     },
     "30ea388980cf4a02882332baed3e3218": {
      "model_module": "@jupyter-widgets/controls",
      "model_module_version": "1.5.0",
      "model_name": "HBoxModel",
      "state": {
       "children": [
        "IPY_MODEL_adeb3d409ce9403b90fbd2fabd5b7981",
        "IPY_MODEL_0b1b5e2e830e40bb969f2adc1614aea5",
        "IPY_MODEL_9bd67eb962624cffae4c442e70298f11"
       ],
       "layout": "IPY_MODEL_2f5c5af2a7194cbe9dede0e4b86308d8"
      }
     },
     "30ebffb12b0f4b59abeb9b83b0a6fbdc": {
      "model_module": "@jupyter-widgets/base",
      "model_module_version": "1.2.0",
      "model_name": "LayoutModel",
      "state": {}
     },
     "30edfff582484b6493b79792a84b5d78": {
      "model_module": "@jupyter-widgets/base",
      "model_module_version": "1.2.0",
      "model_name": "LayoutModel",
      "state": {}
     },
     "310227bd46d14740a6e6c01f119281fe": {
      "model_module": "@jupyter-widgets/base",
      "model_module_version": "1.2.0",
      "model_name": "LayoutModel",
      "state": {}
     },
     "313184218519478e81dcb94e3da68a3e": {
      "model_module": "@jupyter-widgets/base",
      "model_module_version": "1.2.0",
      "model_name": "LayoutModel",
      "state": {}
     },
     "317058f3878e4108b4079aa84dd60582": {
      "model_module": "@jupyter-widgets/controls",
      "model_module_version": "1.5.0",
      "model_name": "HBoxModel",
      "state": {
       "children": [
        "IPY_MODEL_5d095f99d4c945618fe22682b2919f7f",
        "IPY_MODEL_b42c1ce5b32b407192f3a3d0cc1e8d5c",
        "IPY_MODEL_c699b778decd49ad962699ab3183abb0"
       ],
       "layout": "IPY_MODEL_4936dc8dbc6d405c956ddce5f6a5221e"
      }
     },
     "317d72de13f547c78f6388a685253365": {
      "model_module": "@jupyter-widgets/controls",
      "model_module_version": "1.5.0",
      "model_name": "DescriptionStyleModel",
      "state": {
       "description_width": ""
      }
     },
     "31ad866963ca421385351d2b52b2465d": {
      "model_module": "@jupyter-widgets/controls",
      "model_module_version": "1.5.0",
      "model_name": "HTMLModel",
      "state": {
       "layout": "IPY_MODEL_4b8fe3f450344df59adf09dfde46461c",
       "style": "IPY_MODEL_f02c4f5a3cc94e6a894dfcdd90c4a76c",
       "value": "100%"
      }
     },
     "32176fcf74d844e6b25ff2e5158bb5eb": {
      "model_module": "@jupyter-widgets/controls",
      "model_module_version": "1.5.0",
      "model_name": "HTMLModel",
      "state": {
       "layout": "IPY_MODEL_d1d58a82f6344ab2a101af2e41334a21",
       "style": "IPY_MODEL_af321bf03d344ab5bbf27ecfd4df46e1",
       "value": " 8/8 [00:31&lt;00:00,  4.88s/it]"
      }
     },
     "323409be01bc4fac9783bd8238d5b4de": {
      "model_module": "@jupyter-widgets/base",
      "model_module_version": "1.2.0",
      "model_name": "LayoutModel",
      "state": {}
     },
     "3282bc86098446bebd1e8f06a0a2af04": {
      "model_module": "@jupyter-widgets/controls",
      "model_module_version": "1.5.0",
      "model_name": "DescriptionStyleModel",
      "state": {
       "description_width": ""
      }
     },
     "32e522644e3548eeb2a61abd4431c1dc": {
      "model_module": "@jupyter-widgets/base",
      "model_module_version": "1.2.0",
      "model_name": "LayoutModel",
      "state": {}
     },
     "3304e1dd48ff49ecb920ff68b7dbacaa": {
      "model_module": "@jupyter-widgets/base",
      "model_module_version": "1.2.0",
      "model_name": "LayoutModel",
      "state": {}
     },
     "332676bbba814a449eedc22d227442ce": {
      "model_module": "@jupyter-widgets/controls",
      "model_module_version": "1.5.0",
      "model_name": "ProgressStyleModel",
      "state": {
       "description_width": ""
      }
     },
     "332e05a71fd2414fab6ab38afc22187c": {
      "model_module": "@jupyter-widgets/controls",
      "model_module_version": "1.5.0",
      "model_name": "HTMLModel",
      "state": {
       "layout": "IPY_MODEL_58e730ffdfd4482091cdaf8077d0cb8d",
       "style": "IPY_MODEL_85d9ce7fbbea4356a2844cb8e9bd2564",
       "value": "100%"
      }
     },
     "335359af048044b68a622eeed260338f": {
      "model_module": "@jupyter-widgets/controls",
      "model_module_version": "1.5.0",
      "model_name": "HTMLModel",
      "state": {
       "layout": "IPY_MODEL_caae53edbd58462cbc39966b1649dff7",
       "style": "IPY_MODEL_aa3734b8439c46588fafe5f7b191bb02",
       "value": " 57%"
      }
     },
     "335ac4086e8e40ea906ff302e06b35ec": {
      "model_module": "@jupyter-widgets/base",
      "model_module_version": "1.2.0",
      "model_name": "LayoutModel",
      "state": {}
     },
     "3417b3ebb03f4797818201cd315cc5d6": {
      "model_module": "@jupyter-widgets/controls",
      "model_module_version": "1.5.0",
      "model_name": "HTMLModel",
      "state": {
       "layout": "IPY_MODEL_625a723425fa4d9990a4c0a5613fc01c",
       "style": "IPY_MODEL_e9851f713d7243c19f16d596d8687237",
       "value": "100%"
      }
     },
     "341a7cfa9b9240699db09f61bf95cb69": {
      "model_module": "@jupyter-widgets/controls",
      "model_module_version": "1.5.0",
      "model_name": "FloatProgressModel",
      "state": {
       "bar_style": "success",
       "layout": "IPY_MODEL_47338d97ff134b4ba576a42cb2a64c8d",
       "max": 3,
       "style": "IPY_MODEL_e1c181b12aa041edae8c0265a09202d8",
       "value": 3
      }
     },
     "3454421d51a5473faae3117d722bcde8": {
      "model_module": "@jupyter-widgets/base",
      "model_module_version": "1.2.0",
      "model_name": "LayoutModel",
      "state": {}
     },
     "34606ce89b63484aad57b4a2d451950c": {
      "model_module": "@jupyter-widgets/controls",
      "model_module_version": "1.5.0",
      "model_name": "HTMLModel",
      "state": {
       "layout": "IPY_MODEL_49c8c6d9bde6402bb4136d37f94c0fee",
       "style": "IPY_MODEL_c25231556e594901b84222ec98cfa76c",
       "value": "100%"
      }
     },
     "35a3c9c7f0a84db7b11166c968c8e8c5": {
      "model_module": "@jupyter-widgets/base",
      "model_module_version": "1.2.0",
      "model_name": "LayoutModel",
      "state": {}
     },
     "384d6f8e187a4707b65a2681e16fe7c3": {
      "model_module": "@jupyter-widgets/base",
      "model_module_version": "1.2.0",
      "model_name": "LayoutModel",
      "state": {}
     },
     "385052d0c22a494c95a54f3ec5ca9ea2": {
      "model_module": "@jupyter-widgets/base",
      "model_module_version": "1.2.0",
      "model_name": "LayoutModel",
      "state": {}
     },
     "3979d488f5ca4bb7b9752f190f516e49": {
      "model_module": "@jupyter-widgets/base",
      "model_module_version": "1.2.0",
      "model_name": "LayoutModel",
      "state": {}
     },
     "39954bc2a54d43c78994d415f66343e6": {
      "model_module": "@jupyter-widgets/base",
      "model_module_version": "1.2.0",
      "model_name": "LayoutModel",
      "state": {}
     },
     "39ba132769b346d3807f8ffdb35ef4ef": {
      "model_module": "@jupyter-widgets/controls",
      "model_module_version": "1.5.0",
      "model_name": "HTMLModel",
      "state": {
       "layout": "IPY_MODEL_e67dee11d433417985572ac96d041333",
       "style": "IPY_MODEL_e11500d7c68642fbb6c1587fa476ab91",
       "value": "100%"
      }
     },
     "3a71f9045ef64b82ae273c50b5be2d91": {
      "model_module": "@jupyter-widgets/controls",
      "model_module_version": "1.5.0",
      "model_name": "DescriptionStyleModel",
      "state": {
       "description_width": ""
      }
     },
     "3b0a2073456e43cbbc07113f5a06cd57": {
      "model_module": "@jupyter-widgets/base",
      "model_module_version": "1.2.0",
      "model_name": "LayoutModel",
      "state": {}
     },
     "3bf48ed08eed4ac5a645a04c7acea2f0": {
      "model_module": "@jupyter-widgets/controls",
      "model_module_version": "1.5.0",
      "model_name": "ProgressStyleModel",
      "state": {
       "description_width": ""
      }
     },
     "3c3b7115d2d34299bac7a54a435f0f3c": {
      "model_module": "@jupyter-widgets/base",
      "model_module_version": "1.2.0",
      "model_name": "LayoutModel",
      "state": {}
     },
     "3cc8526128264bb280238503853a9de7": {
      "model_module": "@jupyter-widgets/controls",
      "model_module_version": "1.5.0",
      "model_name": "DescriptionStyleModel",
      "state": {
       "description_width": ""
      }
     },
     "3d166a7aee6444dbaa8ad4fbe9667ab8": {
      "model_module": "@jupyter-widgets/controls",
      "model_module_version": "1.5.0",
      "model_name": "FloatProgressModel",
      "state": {
       "bar_style": "success",
       "layout": "IPY_MODEL_30abf8ccf99543268d1324b1c5b5ed78",
       "max": 3,
       "style": "IPY_MODEL_2763bab54f6b4f9b9850c8136f67ce38",
       "value": 3
      }
     },
     "3d636d403f39459285ec539924773592": {
      "model_module": "@jupyter-widgets/controls",
      "model_module_version": "1.5.0",
      "model_name": "HBoxModel",
      "state": {
       "children": [
        "IPY_MODEL_31ad866963ca421385351d2b52b2465d",
        "IPY_MODEL_d7d389b119e943efb26c211533ca5275",
        "IPY_MODEL_4b6bce95eb034f8fa39251884eef9197"
       ],
       "layout": "IPY_MODEL_d790f3b779934eee8348804dd22ba3c1"
      }
     },
     "3da353bac79d453282b17d5e84055538": {
      "model_module": "@jupyter-widgets/base",
      "model_module_version": "1.2.0",
      "model_name": "LayoutModel",
      "state": {}
     },
     "3e038dd87e8e4559b113c386a0626299": {
      "model_module": "@jupyter-widgets/base",
      "model_module_version": "1.2.0",
      "model_name": "LayoutModel",
      "state": {}
     },
     "3e0b8257b09045b9bb0d57dfa5fc8945": {
      "model_module": "@jupyter-widgets/controls",
      "model_module_version": "1.5.0",
      "model_name": "HTMLModel",
      "state": {
       "layout": "IPY_MODEL_ff6c51d38ade449d9351b3aa712bc22e",
       "style": "IPY_MODEL_3007aa1f6ee741e29dae0f62533f5049",
       "value": "100%"
      }
     },
     "3e19c07dc568400ab3ee08655136390e": {
      "model_module": "@jupyter-widgets/controls",
      "model_module_version": "1.5.0",
      "model_name": "HBoxModel",
      "state": {
       "children": [
        "IPY_MODEL_4a2153b7870843a388965c1d13988aa1",
        "IPY_MODEL_5e4ab518bc7f4437b2e0d4d180d3eb3d",
        "IPY_MODEL_f5b2aff67783436c98d18958c3462638"
       ],
       "layout": "IPY_MODEL_bd439efb587f416c88473e2207f1de00"
      }
     },
     "3e39b41de3b441b9bf4aca91849f83ba": {
      "model_module": "@jupyter-widgets/controls",
      "model_module_version": "1.5.0",
      "model_name": "HTMLModel",
      "state": {
       "layout": "IPY_MODEL_4479826179dd4a00a99758a09b765c55",
       "style": "IPY_MODEL_b9ac73cbe2ab47b6a925b4af56855006",
       "value": " 3/3 [00:10&lt;00:00,  4.21s/it]"
      }
     },
     "3e41b6f6cbc4447a8970ae9f5bb50caf": {
      "model_module": "@jupyter-widgets/controls",
      "model_module_version": "1.5.0",
      "model_name": "ProgressStyleModel",
      "state": {
       "description_width": ""
      }
     },
     "3ed6c93787754b44a7cee52d4c2da14b": {
      "model_module": "@jupyter-widgets/controls",
      "model_module_version": "1.5.0",
      "model_name": "HBoxModel",
      "state": {
       "children": [
        "IPY_MODEL_ca08d7ee14214e2ebed567205b819df1",
        "IPY_MODEL_631932574a4f478698da5bfd889c15f2",
        "IPY_MODEL_273b1ed998a24d33896bf669abd17f2d"
       ],
       "layout": "IPY_MODEL_b5fb0353521943fcb24fee15656f0772"
      }
     },
     "3f0ca1a537944eababed72bd0d0b4031": {
      "model_module": "@jupyter-widgets/controls",
      "model_module_version": "1.5.0",
      "model_name": "DescriptionStyleModel",
      "state": {
       "description_width": ""
      }
     },
     "3f1e1583b7cc4b0d8c5bcff3dfaae02c": {
      "model_module": "@jupyter-widgets/base",
      "model_module_version": "1.2.0",
      "model_name": "LayoutModel",
      "state": {}
     },
     "3f64a682d5ca417bb12d96354fe97ee4": {
      "model_module": "@jupyter-widgets/controls",
      "model_module_version": "1.5.0",
      "model_name": "DescriptionStyleModel",
      "state": {
       "description_width": ""
      }
     },
     "3f789c27308447d6b763ce0d90eb3663": {
      "model_module": "@jupyter-widgets/base",
      "model_module_version": "1.2.0",
      "model_name": "LayoutModel",
      "state": {}
     },
     "3fddd002da7649749b34a9ec104055f6": {
      "model_module": "@jupyter-widgets/controls",
      "model_module_version": "1.5.0",
      "model_name": "HBoxModel",
      "state": {
       "children": [
        "IPY_MODEL_70960292e2904c71aaf0829c5276ff22",
        "IPY_MODEL_b959d2c248eb480db8aa79fc8a5cb534",
        "IPY_MODEL_687f590cf40747caabe161fa9d4c56bc"
       ],
       "layout": "IPY_MODEL_850b5faee343454caff7bcb954c1b297"
      }
     },
     "40ad493a779948fb877b8f1efbeb96ff": {
      "model_module": "@jupyter-widgets/controls",
      "model_module_version": "1.5.0",
      "model_name": "HTMLModel",
      "state": {
       "layout": "IPY_MODEL_d198ef45d5a04f10855f3477e5f4f784",
       "style": "IPY_MODEL_4d050a4d6d284e5fa00be4140da9ca05",
       "value": "100%"
      }
     },
     "415ded97bd634a94aa9493edee1aef5e": {
      "model_module": "@jupyter-widgets/base",
      "model_module_version": "1.2.0",
      "model_name": "LayoutModel",
      "state": {}
     },
     "416740e46d6445bdab71fba20bb12459": {
      "model_module": "@jupyter-widgets/controls",
      "model_module_version": "1.5.0",
      "model_name": "ProgressStyleModel",
      "state": {
       "description_width": ""
      }
     },
     "417fab544a4646ed858872a9006749d0": {
      "model_module": "@jupyter-widgets/controls",
      "model_module_version": "1.5.0",
      "model_name": "HTMLModel",
      "state": {
       "layout": "IPY_MODEL_58366bed42f541dfadf9b3b57d005ecc",
       "style": "IPY_MODEL_a18db3fb7d924aaf9f82396754c998e8",
       "value": "100%"
      }
     },
     "42084ebcfb5c4a14bb1a8dccb70c02e7": {
      "model_module": "@jupyter-widgets/base",
      "model_module_version": "1.2.0",
      "model_name": "LayoutModel",
      "state": {}
     },
     "4249d3d2ad154f738789fb624a8e0867": {
      "model_module": "@jupyter-widgets/base",
      "model_module_version": "1.2.0",
      "model_name": "LayoutModel",
      "state": {}
     },
     "42532cf335f84e91bc184fa3de80d781": {
      "model_module": "@jupyter-widgets/controls",
      "model_module_version": "1.5.0",
      "model_name": "HBoxModel",
      "state": {
       "children": [
        "IPY_MODEL_332e05a71fd2414fab6ab38afc22187c",
        "IPY_MODEL_799c2ce912b542fe9177159be2e714af",
        "IPY_MODEL_96b460c37817428197afea818ff1e4a5"
       ],
       "layout": "IPY_MODEL_313184218519478e81dcb94e3da68a3e"
      }
     },
     "42645fcaf4c64cf68824d93759c75bc8": {
      "model_module": "@jupyter-widgets/controls",
      "model_module_version": "1.5.0",
      "model_name": "HTMLModel",
      "state": {
       "layout": "IPY_MODEL_6947ec67f5c2497fa581f2f98be5d5b6",
       "style": "IPY_MODEL_d463b721d2be4341b9411cf03bac5304",
       "value": "100%"
      }
     },
     "426b1e6d2eb9431a90d9e84453cb2481": {
      "model_module": "@jupyter-widgets/base",
      "model_module_version": "1.2.0",
      "model_name": "LayoutModel",
      "state": {}
     },
     "430fec0f20bc4e7ebe830021f63dd731": {
      "model_module": "@jupyter-widgets/controls",
      "model_module_version": "1.5.0",
      "model_name": "FloatProgressModel",
      "state": {
       "bar_style": "success",
       "layout": "IPY_MODEL_8c9fb845d586409ebe1a3b099073ed87",
       "max": 3,
       "style": "IPY_MODEL_9853c5d67f5f48bb9813db5ee85adebb",
       "value": 3
      }
     },
     "4311cd0e553c47d9b70df4a18569c812": {
      "model_module": "@jupyter-widgets/base",
      "model_module_version": "1.2.0",
      "model_name": "LayoutModel",
      "state": {}
     },
     "437853bb71fc48718a27425bc6fcd9c5": {
      "model_module": "@jupyter-widgets/controls",
      "model_module_version": "1.5.0",
      "model_name": "DescriptionStyleModel",
      "state": {
       "description_width": ""
      }
     },
     "43813cdb3cc948f49df4d4f3c7bbca4d": {
      "model_module": "@jupyter-widgets/controls",
      "model_module_version": "1.5.0",
      "model_name": "DescriptionStyleModel",
      "state": {
       "description_width": ""
      }
     },
     "4388f670ebb044a3a9838ebdc4c2a587": {
      "model_module": "@jupyter-widgets/controls",
      "model_module_version": "1.5.0",
      "model_name": "FloatProgressModel",
      "state": {
       "bar_style": "success",
       "layout": "IPY_MODEL_426b1e6d2eb9431a90d9e84453cb2481",
       "max": 8,
       "style": "IPY_MODEL_de728bf9065147a785cfed2cb35fefdb",
       "value": 8
      }
     },
     "4397d05cf65a4a3098f3fbc65ec9cf13": {
      "model_module": "@jupyter-widgets/controls",
      "model_module_version": "1.5.0",
      "model_name": "DescriptionStyleModel",
      "state": {
       "description_width": ""
      }
     },
     "43b0db65a5c244058d984db9272cbdbd": {
      "model_module": "@jupyter-widgets/controls",
      "model_module_version": "1.5.0",
      "model_name": "DescriptionStyleModel",
      "state": {
       "description_width": ""
      }
     },
     "43ea1b3882bd41068924670970a9c5e8": {
      "model_module": "@jupyter-widgets/controls",
      "model_module_version": "1.5.0",
      "model_name": "HTMLModel",
      "state": {
       "layout": "IPY_MODEL_1c4bcfb11581445a8d46ce754ec37180",
       "style": "IPY_MODEL_f1cfc5bb0898456ca8f5c538a609a70f",
       "value": "100%"
      }
     },
     "4423c92e6ab94b46b6f89bde9dddf3a8": {
      "model_module": "@jupyter-widgets/controls",
      "model_module_version": "1.5.0",
      "model_name": "DescriptionStyleModel",
      "state": {
       "description_width": ""
      }
     },
     "4479826179dd4a00a99758a09b765c55": {
      "model_module": "@jupyter-widgets/base",
      "model_module_version": "1.2.0",
      "model_name": "LayoutModel",
      "state": {}
     },
     "44d1cb966cd74d34b917a08160071f86": {
      "model_module": "@jupyter-widgets/base",
      "model_module_version": "1.2.0",
      "model_name": "LayoutModel",
      "state": {}
     },
     "44d5718f041c4cdf8b85c3e58a90c1e2": {
      "model_module": "@jupyter-widgets/controls",
      "model_module_version": "1.5.0",
      "model_name": "DescriptionStyleModel",
      "state": {
       "description_width": ""
      }
     },
     "44e53d99312544a4b17fe0145636ef45": {
      "model_module": "@jupyter-widgets/controls",
      "model_module_version": "1.5.0",
      "model_name": "HBoxModel",
      "state": {
       "children": [
        "IPY_MODEL_63a70b06ff4246d3819f71da3565aefd",
        "IPY_MODEL_b0abd16537734a9d99386e3c8da6b4b8",
        "IPY_MODEL_97bbbe30ec7f46b9aaa8e4ad4646ac93"
       ],
       "layout": "IPY_MODEL_51c0ffeb291c451e88c73009c996057f"
      }
     },
     "4566d1e63f3940db9ec45156b6a840dc": {
      "model_module": "@jupyter-widgets/controls",
      "model_module_version": "1.5.0",
      "model_name": "DescriptionStyleModel",
      "state": {
       "description_width": ""
      }
     },
     "45f72b16772f40e081fb9d967266f68d": {
      "model_module": "@jupyter-widgets/base",
      "model_module_version": "1.2.0",
      "model_name": "LayoutModel",
      "state": {}
     },
     "4624434e462b4f3592aa0a3f3ada8c5d": {
      "model_module": "@jupyter-widgets/base",
      "model_module_version": "1.2.0",
      "model_name": "LayoutModel",
      "state": {}
     },
     "4627a97cda92444ba7641b387f1ae6bc": {
      "model_module": "@jupyter-widgets/base",
      "model_module_version": "1.2.0",
      "model_name": "LayoutModel",
      "state": {}
     },
     "4649dcb9189249368cf39bbc84f2235f": {
      "model_module": "@jupyter-widgets/base",
      "model_module_version": "1.2.0",
      "model_name": "LayoutModel",
      "state": {}
     },
     "4664fa510ec24a1f8e977e573fdb1129": {
      "model_module": "@jupyter-widgets/base",
      "model_module_version": "1.2.0",
      "model_name": "LayoutModel",
      "state": {}
     },
     "468581f8cddc4e7bb1610ac6320b66b7": {
      "model_module": "@jupyter-widgets/base",
      "model_module_version": "1.2.0",
      "model_name": "LayoutModel",
      "state": {}
     },
     "46b3e17002044bd187ddffcb137f8442": {
      "model_module": "@jupyter-widgets/base",
      "model_module_version": "1.2.0",
      "model_name": "LayoutModel",
      "state": {}
     },
     "46ebb4fddc664e87b0138b0620d90088": {
      "model_module": "@jupyter-widgets/base",
      "model_module_version": "1.2.0",
      "model_name": "LayoutModel",
      "state": {}
     },
     "46f145a243894c2d993c289862c13a8b": {
      "model_module": "@jupyter-widgets/base",
      "model_module_version": "1.2.0",
      "model_name": "LayoutModel",
      "state": {}
     },
     "47338d97ff134b4ba576a42cb2a64c8d": {
      "model_module": "@jupyter-widgets/base",
      "model_module_version": "1.2.0",
      "model_name": "LayoutModel",
      "state": {}
     },
     "478294a04e59466e9eb976ac1abe3192": {
      "model_module": "@jupyter-widgets/base",
      "model_module_version": "1.2.0",
      "model_name": "LayoutModel",
      "state": {}
     },
     "47f98225af024bc7af24fb7f21e52399": {
      "model_module": "@jupyter-widgets/controls",
      "model_module_version": "1.5.0",
      "model_name": "HTMLModel",
      "state": {
       "layout": "IPY_MODEL_2efac13743ad48a393316dbb618326c8",
       "style": "IPY_MODEL_43b0db65a5c244058d984db9272cbdbd",
       "value": " 14/14 [00:34&lt;00:00,  2.56s/it]"
      }
     },
     "485731a4a3dc4749a02b85fab8597d7a": {
      "model_module": "@jupyter-widgets/base",
      "model_module_version": "1.2.0",
      "model_name": "LayoutModel",
      "state": {}
     },
     "4936dc8dbc6d405c956ddce5f6a5221e": {
      "model_module": "@jupyter-widgets/base",
      "model_module_version": "1.2.0",
      "model_name": "LayoutModel",
      "state": {}
     },
     "49c8c6d9bde6402bb4136d37f94c0fee": {
      "model_module": "@jupyter-widgets/base",
      "model_module_version": "1.2.0",
      "model_name": "LayoutModel",
      "state": {}
     },
     "4a02dde9f0c2473ca483bd879aae9897": {
      "model_module": "@jupyter-widgets/controls",
      "model_module_version": "1.5.0",
      "model_name": "HTMLModel",
      "state": {
       "layout": "IPY_MODEL_554aad861ce14a18bcfcd879557d5536",
       "style": "IPY_MODEL_029642dfa78247a18b8c1e5fe6452dda",
       "value": "100%"
      }
     },
     "4a2153b7870843a388965c1d13988aa1": {
      "model_module": "@jupyter-widgets/controls",
      "model_module_version": "1.5.0",
      "model_name": "HTMLModel",
      "state": {
       "layout": "IPY_MODEL_219404a0aa80406fba4e1a59864e213e",
       "style": "IPY_MODEL_f990c3c0d24b4feb8b54ebbb0fe605e3",
       "value": "100%"
      }
     },
     "4a9c8487b9174ce392d94d1f8a019cab": {
      "model_module": "@jupyter-widgets/controls",
      "model_module_version": "1.5.0",
      "model_name": "DescriptionStyleModel",
      "state": {
       "description_width": ""
      }
     },
     "4ad7e55c582c4f96bf747521fa1a880e": {
      "model_module": "@jupyter-widgets/controls",
      "model_module_version": "1.5.0",
      "model_name": "DescriptionStyleModel",
      "state": {
       "description_width": ""
      }
     },
     "4b6bce95eb034f8fa39251884eef9197": {
      "model_module": "@jupyter-widgets/controls",
      "model_module_version": "1.5.0",
      "model_name": "HTMLModel",
      "state": {
       "layout": "IPY_MODEL_4f13d7468d3e433aaebc524e2f966636",
       "style": "IPY_MODEL_317d72de13f547c78f6388a685253365",
       "value": " 14/14 [00:33&lt;00:00,  2.52s/it]"
      }
     },
     "4b756571316644e7a1e95bfff335a728": {
      "model_module": "@jupyter-widgets/base",
      "model_module_version": "1.2.0",
      "model_name": "LayoutModel",
      "state": {}
     },
     "4b8fe3f450344df59adf09dfde46461c": {
      "model_module": "@jupyter-widgets/base",
      "model_module_version": "1.2.0",
      "model_name": "LayoutModel",
      "state": {}
     },
     "4c514c61a1824da0bb353e154c21288e": {
      "model_module": "@jupyter-widgets/controls",
      "model_module_version": "1.5.0",
      "model_name": "HTMLModel",
      "state": {
       "layout": "IPY_MODEL_35a3c9c7f0a84db7b11166c968c8e8c5",
       "style": "IPY_MODEL_f6d9b538a7d4474faf6f1b5d4ed3aa22",
       "value": " 14/14 [00:34&lt;00:00,  2.58s/it]"
      }
     },
     "4c7a44cfe46546c7ad4510925b762ba3": {
      "model_module": "@jupyter-widgets/base",
      "model_module_version": "1.2.0",
      "model_name": "LayoutModel",
      "state": {}
     },
     "4cf01c7addd141348d4644f6e298d0c3": {
      "model_module": "@jupyter-widgets/base",
      "model_module_version": "1.2.0",
      "model_name": "LayoutModel",
      "state": {}
     },
     "4d050a4d6d284e5fa00be4140da9ca05": {
      "model_module": "@jupyter-widgets/controls",
      "model_module_version": "1.5.0",
      "model_name": "DescriptionStyleModel",
      "state": {
       "description_width": ""
      }
     },
     "4df6d7c39cce4536a58880a00a3970ef": {
      "model_module": "@jupyter-widgets/controls",
      "model_module_version": "1.5.0",
      "model_name": "ProgressStyleModel",
      "state": {
       "description_width": ""
      }
     },
     "4df9ea255ee04057a55797a504a03021": {
      "model_module": "@jupyter-widgets/base",
      "model_module_version": "1.2.0",
      "model_name": "LayoutModel",
      "state": {}
     },
     "4f13d7468d3e433aaebc524e2f966636": {
      "model_module": "@jupyter-widgets/base",
      "model_module_version": "1.2.0",
      "model_name": "LayoutModel",
      "state": {}
     },
     "4f45b7be062545dfad8cd46b855234c4": {
      "model_module": "@jupyter-widgets/controls",
      "model_module_version": "1.5.0",
      "model_name": "DescriptionStyleModel",
      "state": {
       "description_width": ""
      }
     },
     "4f8f34f6823f48ae8d4102f40b10a49f": {
      "model_module": "@jupyter-widgets/controls",
      "model_module_version": "1.5.0",
      "model_name": "DescriptionStyleModel",
      "state": {
       "description_width": ""
      }
     },
     "4fcce8713d9f40efa519fad4c3f6d159": {
      "model_module": "@jupyter-widgets/base",
      "model_module_version": "1.2.0",
      "model_name": "LayoutModel",
      "state": {}
     },
     "4fe88752d63e465dacddb2e96db851fc": {
      "model_module": "@jupyter-widgets/controls",
      "model_module_version": "1.5.0",
      "model_name": "DescriptionStyleModel",
      "state": {
       "description_width": ""
      }
     },
     "506a403f0fdc4f9f8b85aa651285d720": {
      "model_module": "@jupyter-widgets/controls",
      "model_module_version": "1.5.0",
      "model_name": "DescriptionStyleModel",
      "state": {
       "description_width": ""
      }
     },
     "5082c28037254c02a2c7b11b1fec3d24": {
      "model_module": "@jupyter-widgets/controls",
      "model_module_version": "1.5.0",
      "model_name": "FloatProgressModel",
      "state": {
       "bar_style": "success",
       "layout": "IPY_MODEL_5a8654bdc7ea4e62b2701eabdcc263a2",
       "max": 14,
       "style": "IPY_MODEL_7ad06790a5154b6986cba20d76f8be7d",
       "value": 14
      }
     },
     "5195b30886ae479ba56e84588a608368": {
      "model_module": "@jupyter-widgets/controls",
      "model_module_version": "1.5.0",
      "model_name": "DescriptionStyleModel",
      "state": {
       "description_width": ""
      }
     },
     "51c0ffeb291c451e88c73009c996057f": {
      "model_module": "@jupyter-widgets/base",
      "model_module_version": "1.2.0",
      "model_name": "LayoutModel",
      "state": {}
     },
     "5256fcf8c90746a2b585640096aabcd5": {
      "model_module": "@jupyter-widgets/base",
      "model_module_version": "1.2.0",
      "model_name": "LayoutModel",
      "state": {}
     },
     "530227233cdb4d7bbe6a127d11bbbc96": {
      "model_module": "@jupyter-widgets/base",
      "model_module_version": "1.2.0",
      "model_name": "LayoutModel",
      "state": {}
     },
     "533f15243a5d4b6393b50c909b6f55e9": {
      "model_module": "@jupyter-widgets/controls",
      "model_module_version": "1.5.0",
      "model_name": "HTMLModel",
      "state": {
       "layout": "IPY_MODEL_dc0cb38431e34554a24eb56835159b14",
       "style": "IPY_MODEL_77cc87b539e74f5dafad722153e60cd3",
       "value": " 3/3 [00:10&lt;00:00,  4.21s/it]"
      }
     },
     "5363fb3cea7e48a79ae2d3eee8d3f103": {
      "model_module": "@jupyter-widgets/controls",
      "model_module_version": "1.5.0",
      "model_name": "HTMLModel",
      "state": {
       "layout": "IPY_MODEL_0cb625922b5f481f85c9215f9f4b3d23",
       "style": "IPY_MODEL_8f5256878fcc4418932eb682a7007e91",
       "value": " 3/3 [00:10&lt;00:00,  4.10s/it]"
      }
     },
     "539f0d72dd3543fbad79611d9f1bd031": {
      "model_module": "@jupyter-widgets/base",
      "model_module_version": "1.2.0",
      "model_name": "LayoutModel",
      "state": {}
     },
     "54ed6756a74146a8bcf1d0d9a6838a2b": {
      "model_module": "@jupyter-widgets/controls",
      "model_module_version": "1.5.0",
      "model_name": "DescriptionStyleModel",
      "state": {
       "description_width": ""
      }
     },
     "554aad861ce14a18bcfcd879557d5536": {
      "model_module": "@jupyter-widgets/base",
      "model_module_version": "1.2.0",
      "model_name": "LayoutModel",
      "state": {}
     },
     "5592b4ced2b04897acb15b7d476b9740": {
      "model_module": "@jupyter-widgets/base",
      "model_module_version": "1.2.0",
      "model_name": "LayoutModel",
      "state": {}
     },
     "55e7a37abac24908961c342bc93befe3": {
      "model_module": "@jupyter-widgets/controls",
      "model_module_version": "1.5.0",
      "model_name": "DescriptionStyleModel",
      "state": {
       "description_width": ""
      }
     },
     "5627352635654cd58c96ca414f1e6114": {
      "model_module": "@jupyter-widgets/base",
      "model_module_version": "1.2.0",
      "model_name": "LayoutModel",
      "state": {}
     },
     "5649d18abbde4f47a03b99cee129ca40": {
      "model_module": "@jupyter-widgets/controls",
      "model_module_version": "1.5.0",
      "model_name": "DescriptionStyleModel",
      "state": {
       "description_width": ""
      }
     },
     "56a6bad0b666407a9367de9bf30fd660": {
      "model_module": "@jupyter-widgets/base",
      "model_module_version": "1.2.0",
      "model_name": "LayoutModel",
      "state": {}
     },
     "56eadb9f4fd944dcb5039b404e09f6a1": {
      "model_module": "@jupyter-widgets/controls",
      "model_module_version": "1.5.0",
      "model_name": "ProgressStyleModel",
      "state": {
       "description_width": ""
      }
     },
     "56f349348df141708ca826a50e524d41": {
      "model_module": "@jupyter-widgets/controls",
      "model_module_version": "1.5.0",
      "model_name": "ProgressStyleModel",
      "state": {
       "description_width": ""
      }
     },
     "5707ef96db714ec0a3f2f9dbe98908c9": {
      "model_module": "@jupyter-widgets/controls",
      "model_module_version": "1.5.0",
      "model_name": "HTMLModel",
      "state": {
       "layout": "IPY_MODEL_3088d09c6b51431da8feba468e073631",
       "style": "IPY_MODEL_95cfbf3086504b4ab9a1449d5cf78769",
       "value": "100%"
      }
     },
     "57dfcbb0414848a7afaf25ae5b8f6318": {
      "model_module": "@jupyter-widgets/controls",
      "model_module_version": "1.5.0",
      "model_name": "HTMLModel",
      "state": {
       "layout": "IPY_MODEL_485731a4a3dc4749a02b85fab8597d7a",
       "style": "IPY_MODEL_f287eebaea2a42059275cf322b97e556",
       "value": "100%"
      }
     },
     "57e76b58a33b4bcd96f3a40b899044d9": {
      "model_module": "@jupyter-widgets/base",
      "model_module_version": "1.2.0",
      "model_name": "LayoutModel",
      "state": {}
     },
     "58366bed42f541dfadf9b3b57d005ecc": {
      "model_module": "@jupyter-widgets/base",
      "model_module_version": "1.2.0",
      "model_name": "LayoutModel",
      "state": {}
     },
     "583d1f1adf7746b78eeac541b547405b": {
      "model_module": "@jupyter-widgets/controls",
      "model_module_version": "1.5.0",
      "model_name": "DescriptionStyleModel",
      "state": {
       "description_width": ""
      }
     },
     "58e730ffdfd4482091cdaf8077d0cb8d": {
      "model_module": "@jupyter-widgets/base",
      "model_module_version": "1.2.0",
      "model_name": "LayoutModel",
      "state": {}
     },
     "58f0f746e8004a5fafe76d9dcdb1209b": {
      "model_module": "@jupyter-widgets/base",
      "model_module_version": "1.2.0",
      "model_name": "LayoutModel",
      "state": {}
     },
     "59116e8e1096438c959870c7d5a626e4": {
      "model_module": "@jupyter-widgets/controls",
      "model_module_version": "1.5.0",
      "model_name": "ProgressStyleModel",
      "state": {
       "description_width": ""
      }
     },
     "5976186c6a0042c2b496154953e7726d": {
      "model_module": "@jupyter-widgets/controls",
      "model_module_version": "1.5.0",
      "model_name": "ProgressStyleModel",
      "state": {
       "description_width": ""
      }
     },
     "5984e37e36044dfeac4109d7bc0b424e": {
      "model_module": "@jupyter-widgets/controls",
      "model_module_version": "1.5.0",
      "model_name": "HTMLModel",
      "state": {
       "layout": "IPY_MODEL_cf54b1ccc6414c8a97397e2727460764",
       "style": "IPY_MODEL_f8d0aa0d6d044fd9b885647c29ad5ed9",
       "value": "100%"
      }
     },
     "59b8436cb07c42e9bc5b74d1bab28248": {
      "model_module": "@jupyter-widgets/controls",
      "model_module_version": "1.5.0",
      "model_name": "DescriptionStyleModel",
      "state": {
       "description_width": ""
      }
     },
     "59cb8b51d70545db801f62bf91dde842": {
      "model_module": "@jupyter-widgets/controls",
      "model_module_version": "1.5.0",
      "model_name": "FloatProgressModel",
      "state": {
       "bar_style": "success",
       "layout": "IPY_MODEL_817301f479794c12b0e516e4b27ca565",
       "max": 3,
       "style": "IPY_MODEL_74e16d5201b746f6bda501151e592eed",
       "value": 3
      }
     },
     "5a7402acea7c46b7acc62d232cbaafda": {
      "model_module": "@jupyter-widgets/base",
      "model_module_version": "1.2.0",
      "model_name": "LayoutModel",
      "state": {}
     },
     "5a8654bdc7ea4e62b2701eabdcc263a2": {
      "model_module": "@jupyter-widgets/base",
      "model_module_version": "1.2.0",
      "model_name": "LayoutModel",
      "state": {}
     },
     "5af10075c7954a7a86b516adebbabe88": {
      "model_module": "@jupyter-widgets/controls",
      "model_module_version": "1.5.0",
      "model_name": "HTMLModel",
      "state": {
       "layout": "IPY_MODEL_d6e18d7031c9403c8ab3e13577ae7c18",
       "style": "IPY_MODEL_77ed0aba6bdd404193911cba5b9d44ea",
       "value": " 3/3 [00:10&lt;00:00,  4.27s/it]"
      }
     },
     "5af398f4192b4467a7e82d44629a7090": {
      "model_module": "@jupyter-widgets/controls",
      "model_module_version": "1.5.0",
      "model_name": "HBoxModel",
      "state": {
       "children": [
        "IPY_MODEL_39ba132769b346d3807f8ffdb35ef4ef",
        "IPY_MODEL_e83b55d4dce248a9ad00d59b4f589287",
        "IPY_MODEL_bd7a94334adf4927a42ed12c73654dac"
       ],
       "layout": "IPY_MODEL_2014c622957f4172bf5538e7032073d7"
      }
     },
     "5b069813b89b417297a48aeb2154fe67": {
      "model_module": "@jupyter-widgets/base",
      "model_module_version": "1.2.0",
      "model_name": "LayoutModel",
      "state": {}
     },
     "5bc99c916ebd414daf96f69f725d40ea": {
      "model_module": "@jupyter-widgets/controls",
      "model_module_version": "1.5.0",
      "model_name": "FloatProgressModel",
      "state": {
       "bar_style": "success",
       "layout": "IPY_MODEL_01e5af5b26df48c68e2a60acda563670",
       "max": 14,
       "style": "IPY_MODEL_a2f63c20b4dd48a8866fcb6b802f8c4a",
       "value": 14
      }
     },
     "5c1cdc7f1d7f4334997a05cb16278393": {
      "model_module": "@jupyter-widgets/base",
      "model_module_version": "1.2.0",
      "model_name": "LayoutModel",
      "state": {}
     },
     "5d095f99d4c945618fe22682b2919f7f": {
      "model_module": "@jupyter-widgets/controls",
      "model_module_version": "1.5.0",
      "model_name": "HTMLModel",
      "state": {
       "layout": "IPY_MODEL_0d06caff45da43a387feb0da28b050fb",
       "style": "IPY_MODEL_df91ae866b7c4ab583dd9c521498031c",
       "value": "100%"
      }
     },
     "5d1a1fe6fd844c7d907c9883a206650c": {
      "model_module": "@jupyter-widgets/controls",
      "model_module_version": "1.5.0",
      "model_name": "HBoxModel",
      "state": {
       "children": [
        "IPY_MODEL_3417b3ebb03f4797818201cd315cc5d6",
        "IPY_MODEL_05b3bfdeba8148b8b4f9e8a220a48ad1",
        "IPY_MODEL_533f15243a5d4b6393b50c909b6f55e9"
       ],
       "layout": "IPY_MODEL_385052d0c22a494c95a54f3ec5ca9ea2"
      }
     },
     "5d60a27d33a64fe0b9065d67b7327045": {
      "model_module": "@jupyter-widgets/controls",
      "model_module_version": "1.5.0",
      "model_name": "ProgressStyleModel",
      "state": {
       "description_width": ""
      }
     },
     "5d64f8724c144e37b875cd67b10ec38b": {
      "model_module": "@jupyter-widgets/controls",
      "model_module_version": "1.5.0",
      "model_name": "ProgressStyleModel",
      "state": {
       "description_width": ""
      }
     },
     "5e4ab518bc7f4437b2e0d4d180d3eb3d": {
      "model_module": "@jupyter-widgets/controls",
      "model_module_version": "1.5.0",
      "model_name": "FloatProgressModel",
      "state": {
       "bar_style": "success",
       "layout": "IPY_MODEL_46ebb4fddc664e87b0138b0620d90088",
       "max": 3,
       "style": "IPY_MODEL_a14329532c41402699841551dbcaf36d",
       "value": 3
      }
     },
     "5f3c41984e834353b4bd3fbb27a25c2c": {
      "model_module": "@jupyter-widgets/controls",
      "model_module_version": "1.5.0",
      "model_name": "DescriptionStyleModel",
      "state": {
       "description_width": ""
      }
     },
     "600360577c904457ae06c714da3226ab": {
      "model_module": "@jupyter-widgets/base",
      "model_module_version": "1.2.0",
      "model_name": "LayoutModel",
      "state": {}
     },
     "6022fd1d8b704696a3ea76aed0286917": {
      "model_module": "@jupyter-widgets/controls",
      "model_module_version": "1.5.0",
      "model_name": "DescriptionStyleModel",
      "state": {
       "description_width": ""
      }
     },
     "6062aa9efc574da8b548fee3b1c51c6e": {
      "model_module": "@jupyter-widgets/controls",
      "model_module_version": "1.5.0",
      "model_name": "HBoxModel",
      "state": {
       "children": [
        "IPY_MODEL_a32af960a36d4b52a3edd1f55e071c15",
        "IPY_MODEL_27eeaee083424c1f81fecc56dea27a6d",
        "IPY_MODEL_28d7d40964e34064a071c4f266111d5e"
       ],
       "layout": "IPY_MODEL_c179d82d134c4885b232d00bb921d2c4"
      }
     },
     "609bdb59378141f4a96e77ac1ac3c4d0": {
      "model_module": "@jupyter-widgets/base",
      "model_module_version": "1.2.0",
      "model_name": "LayoutModel",
      "state": {}
     },
     "60f943ca34524bd1afbce2cc89a7f8f8": {
      "model_module": "@jupyter-widgets/controls",
      "model_module_version": "1.5.0",
      "model_name": "HBoxModel",
      "state": {
       "children": [
        "IPY_MODEL_43ea1b3882bd41068924670970a9c5e8",
        "IPY_MODEL_fd78d4fe60794bd9a4080bccdd2b5066",
        "IPY_MODEL_e026cb4a76f64518aa80c32c5d6bc6d6"
       ],
       "layout": "IPY_MODEL_b248845b0071429886b9bb169c16460e"
      }
     },
     "614f7e74e8964772bbf709eec39a1524": {
      "model_module": "@jupyter-widgets/controls",
      "model_module_version": "1.5.0",
      "model_name": "DescriptionStyleModel",
      "state": {
       "description_width": ""
      }
     },
     "6176e82b1a604fb6b50991303317d235": {
      "model_module": "@jupyter-widgets/base",
      "model_module_version": "1.2.0",
      "model_name": "LayoutModel",
      "state": {}
     },
     "6217b2e724b7488dbf152daf3fb7ff95": {
      "model_module": "@jupyter-widgets/controls",
      "model_module_version": "1.5.0",
      "model_name": "HTMLModel",
      "state": {
       "layout": "IPY_MODEL_600360577c904457ae06c714da3226ab",
       "style": "IPY_MODEL_9a4b752de1ac4a439e4a44845e5667e5",
       "value": " 14/14 [00:36&lt;00:00,  2.68s/it]"
      }
     },
     "625a723425fa4d9990a4c0a5613fc01c": {
      "model_module": "@jupyter-widgets/base",
      "model_module_version": "1.2.0",
      "model_name": "LayoutModel",
      "state": {}
     },
     "62631fe6d1564f839a570964b62a24c8": {
      "model_module": "@jupyter-widgets/base",
      "model_module_version": "1.2.0",
      "model_name": "LayoutModel",
      "state": {}
     },
     "631932574a4f478698da5bfd889c15f2": {
      "model_module": "@jupyter-widgets/controls",
      "model_module_version": "1.5.0",
      "model_name": "FloatProgressModel",
      "state": {
       "bar_style": "success",
       "layout": "IPY_MODEL_cbd792511fbc4743b175d6ca42fbf072",
       "max": 3,
       "style": "IPY_MODEL_7aedc26c48254a838669f450a1fcbb22",
       "value": 3
      }
     },
     "631c4e5439134b44aa2abb0f2d6114da": {
      "model_module": "@jupyter-widgets/controls",
      "model_module_version": "1.5.0",
      "model_name": "HTMLModel",
      "state": {
       "layout": "IPY_MODEL_903eacd04bae46db83092bc1e8f150e2",
       "style": "IPY_MODEL_d87a02a290ab42fb8f24de71c309cf8f",
       "value": "100%"
      }
     },
     "63496197b64c4981aa1841e5dd0ed3a2": {
      "model_module": "@jupyter-widgets/controls",
      "model_module_version": "1.5.0",
      "model_name": "ProgressStyleModel",
      "state": {
       "description_width": ""
      }
     },
     "63a70b06ff4246d3819f71da3565aefd": {
      "model_module": "@jupyter-widgets/controls",
      "model_module_version": "1.5.0",
      "model_name": "HTMLModel",
      "state": {
       "layout": "IPY_MODEL_7a10d58c1ecc444c83d13eb4996e5ee4",
       "style": "IPY_MODEL_8e28b38aef194897b6131f4317563b9f",
       "value": " 21%"
      }
     },
     "63db93ef7251427da2644643a5f52e2a": {
      "model_module": "@jupyter-widgets/controls",
      "model_module_version": "1.5.0",
      "model_name": "DescriptionStyleModel",
      "state": {
       "description_width": ""
      }
     },
     "641a8e47dba14be4aa8a10f1329bcaa6": {
      "model_module": "@jupyter-widgets/controls",
      "model_module_version": "1.5.0",
      "model_name": "HTMLModel",
      "state": {
       "layout": "IPY_MODEL_d545003943714d8c998b2c7a376fd3ff",
       "style": "IPY_MODEL_3a71f9045ef64b82ae273c50b5be2d91",
       "value": " 14/14 [00:33&lt;00:00,  2.49s/it]"
      }
     },
     "643781621b914dceaab16ab069a89a6c": {
      "model_module": "@jupyter-widgets/controls",
      "model_module_version": "1.5.0",
      "model_name": "ProgressStyleModel",
      "state": {
       "description_width": ""
      }
     },
     "6598381da8a44dae8d3e17c72ca74f0d": {
      "model_module": "@jupyter-widgets/controls",
      "model_module_version": "1.5.0",
      "model_name": "DescriptionStyleModel",
      "state": {
       "description_width": ""
      }
     },
     "672d456870d44b42957d9ad3669127cc": {
      "model_module": "@jupyter-widgets/controls",
      "model_module_version": "1.5.0",
      "model_name": "DescriptionStyleModel",
      "state": {
       "description_width": ""
      }
     },
     "67510021658848edbe477ad4bc8038f4": {
      "model_module": "@jupyter-widgets/base",
      "model_module_version": "1.2.0",
      "model_name": "LayoutModel",
      "state": {}
     },
     "67597766408742479ce0bf6cc2478e26": {
      "model_module": "@jupyter-widgets/base",
      "model_module_version": "1.2.0",
      "model_name": "LayoutModel",
      "state": {}
     },
     "67bd004a9cc54ca98a945c66e98a8dc5": {
      "model_module": "@jupyter-widgets/base",
      "model_module_version": "1.2.0",
      "model_name": "LayoutModel",
      "state": {}
     },
     "67f8e9926ff04911a5ecb7f084ab9bda": {
      "model_module": "@jupyter-widgets/controls",
      "model_module_version": "1.5.0",
      "model_name": "HBoxModel",
      "state": {
       "children": [
        "IPY_MODEL_5984e37e36044dfeac4109d7bc0b424e",
        "IPY_MODEL_af81eb420a204b4db16e0900544ee830",
        "IPY_MODEL_8a03ad0d87be4739985ebdbd8e3f6821"
       ],
       "layout": "IPY_MODEL_2503dfb81f4847be8a2dd83ba9fce570"
      }
     },
     "68639f2e8c1c4e3289e0f6d8dce28243": {
      "model_module": "@jupyter-widgets/controls",
      "model_module_version": "1.5.0",
      "model_name": "HTMLModel",
      "state": {
       "layout": "IPY_MODEL_e00f2d4bde8d4977a2c1fcf12272aee9",
       "style": "IPY_MODEL_4566d1e63f3940db9ec45156b6a840dc",
       "value": " 14/14 [00:36&lt;00:00,  2.65s/it]"
      }
     },
     "687f590cf40747caabe161fa9d4c56bc": {
      "model_module": "@jupyter-widgets/controls",
      "model_module_version": "1.5.0",
      "model_name": "HTMLModel",
      "state": {
       "layout": "IPY_MODEL_e11311ed201b4eec8375f0060b43cdd3",
       "style": "IPY_MODEL_4397d05cf65a4a3098f3fbc65ec9cf13",
       "value": " 2/3 [00:06&lt;00:03,  3.20s/it]"
      }
     },
     "6924f9666c14408f974c8626cb341bf0": {
      "model_module": "@jupyter-widgets/base",
      "model_module_version": "1.2.0",
      "model_name": "LayoutModel",
      "state": {}
     },
     "69329a3476f64b6ebd2f92c94b295e8c": {
      "model_module": "@jupyter-widgets/controls",
      "model_module_version": "1.5.0",
      "model_name": "FloatProgressModel",
      "state": {
       "bar_style": "success",
       "layout": "IPY_MODEL_ada2a00636b1438498db0770cdd39bef",
       "max": 3,
       "style": "IPY_MODEL_c5989e198ec944dc8b7775b5705d73e5",
       "value": 3
      }
     },
     "6947ec67f5c2497fa581f2f98be5d5b6": {
      "model_module": "@jupyter-widgets/base",
      "model_module_version": "1.2.0",
      "model_name": "LayoutModel",
      "state": {}
     },
     "69ba768c93bf4d2585127c9dd8cca2a1": {
      "model_module": "@jupyter-widgets/base",
      "model_module_version": "1.2.0",
      "model_name": "LayoutModel",
      "state": {}
     },
     "69fd7e6e13c94f61a5ebb811aa394333": {
      "model_module": "@jupyter-widgets/controls",
      "model_module_version": "1.5.0",
      "model_name": "HTMLModel",
      "state": {
       "layout": "IPY_MODEL_d8b129d3a2c341ac9bc912eaa595c0a3",
       "style": "IPY_MODEL_c06f451b863c41a2afebcd113177edfd",
       "value": " 14/14 [00:34&lt;00:00,  2.60s/it]"
      }
     },
     "6aad32a9423043eb8bffaa7ab8e9632f": {
      "model_module": "@jupyter-widgets/controls",
      "model_module_version": "1.5.0",
      "model_name": "DescriptionStyleModel",
      "state": {
       "description_width": ""
      }
     },
     "6ab2c800eaef42e4a286a0aab35ed190": {
      "model_module": "@jupyter-widgets/controls",
      "model_module_version": "1.5.0",
      "model_name": "FloatProgressModel",
      "state": {
       "bar_style": "success",
       "layout": "IPY_MODEL_cf74716173fd494f8ea0332793acb220",
       "max": 3,
       "style": "IPY_MODEL_000a0ce30ef84bfc8ab5b9c23b221bc4",
       "value": 3
      }
     },
     "6b85b3f5a8a844c2bcfadcce25177f81": {
      "model_module": "@jupyter-widgets/controls",
      "model_module_version": "1.5.0",
      "model_name": "HTMLModel",
      "state": {
       "layout": "IPY_MODEL_78c8eefc38c6474fa027d6414ab01f75",
       "style": "IPY_MODEL_d8dded7411de4690a558a1ae7a282d56",
       "value": "100%"
      }
     },
     "6ba368873182486380ecad62d4aec0de": {
      "model_module": "@jupyter-widgets/controls",
      "model_module_version": "1.5.0",
      "model_name": "HTMLModel",
      "state": {
       "layout": "IPY_MODEL_4311cd0e553c47d9b70df4a18569c812",
       "style": "IPY_MODEL_95300a5b30004cba8b3edd3a03b70613",
       "value": " 14/14 [00:36&lt;00:00,  2.73s/it]"
      }
     },
     "6c26f4dda729429f806b3e336dc81622": {
      "model_module": "@jupyter-widgets/controls",
      "model_module_version": "1.5.0",
      "model_name": "HBoxModel",
      "state": {
       "children": [
        "IPY_MODEL_07019ea46ea046e0b87c8e4a25c6963b",
        "IPY_MODEL_d2f142dce1c9498c806f06a30b43f04b",
        "IPY_MODEL_641a8e47dba14be4aa8a10f1329bcaa6"
       ],
       "layout": "IPY_MODEL_19ea34ec07da4d61acec8c855bbc02bf"
      }
     },
     "6ce6dc7f238243caaf36f8495409d552": {
      "model_module": "@jupyter-widgets/controls",
      "model_module_version": "1.5.0",
      "model_name": "ProgressStyleModel",
      "state": {
       "description_width": ""
      }
     },
     "6e8cca8f46754c3d8e0ab68f602c8685": {
      "model_module": "@jupyter-widgets/controls",
      "model_module_version": "1.5.0",
      "model_name": "HBoxModel",
      "state": {
       "children": [
        "IPY_MODEL_335359af048044b68a622eeed260338f",
        "IPY_MODEL_6fef9dbe7c7f487ea931cc472232c7f8",
        "IPY_MODEL_2796d4640e4c4e929e33d1c64b9f54fc"
       ],
       "layout": "IPY_MODEL_e888eadbc7f94bd8a49318165d57b41e"
      }
     },
     "6f794c624be94766aa1173d268857714": {
      "model_module": "@jupyter-widgets/controls",
      "model_module_version": "1.5.0",
      "model_name": "HTMLModel",
      "state": {
       "layout": "IPY_MODEL_234e24831a0f4f43bc69f819aff734ef",
       "style": "IPY_MODEL_87594e0f75114cac9ea7e461d39e53ea",
       "value": "100%"
      }
     },
     "6fcff024baf2498bb3ac78f0d1527144": {
      "model_module": "@jupyter-widgets/base",
      "model_module_version": "1.2.0",
      "model_name": "LayoutModel",
      "state": {}
     },
     "6fd4f788bb824b16af42e0472465355c": {
      "model_module": "@jupyter-widgets/controls",
      "model_module_version": "1.5.0",
      "model_name": "HBoxModel",
      "state": {
       "children": [
        "IPY_MODEL_dc0dd2981a724c11960fdfb9c4753949",
        "IPY_MODEL_430fec0f20bc4e7ebe830021f63dd731",
        "IPY_MODEL_87bd516446324c848607396a35fbd10d"
       ],
       "layout": "IPY_MODEL_71662bb3355047bfa1794f2618d512fd"
      }
     },
     "6fef9dbe7c7f487ea931cc472232c7f8": {
      "model_module": "@jupyter-widgets/controls",
      "model_module_version": "1.5.0",
      "model_name": "FloatProgressModel",
      "state": {
       "bar_style": "danger",
       "layout": "IPY_MODEL_8ed4ea60c228441bb58a109bfdb44d87",
       "max": 14,
       "style": "IPY_MODEL_2d314896d673436ca34fb2700ce24e3f",
       "value": 8
      }
     },
     "70268c8c928f4f88b7800ca0b349bf8e": {
      "model_module": "@jupyter-widgets/controls",
      "model_module_version": "1.5.0",
      "model_name": "FloatProgressModel",
      "state": {
       "bar_style": "success",
       "layout": "IPY_MODEL_85a207da415748b88779087c996cfbbe",
       "max": 3,
       "style": "IPY_MODEL_a52dc0b6be834b578252ec84b57cb7ae",
       "value": 3
      }
     },
     "70960292e2904c71aaf0829c5276ff22": {
      "model_module": "@jupyter-widgets/controls",
      "model_module_version": "1.5.0",
      "model_name": "HTMLModel",
      "state": {
       "layout": "IPY_MODEL_f302702e49304ecc970ba60d6dff4f48",
       "style": "IPY_MODEL_54ed6756a74146a8bcf1d0d9a6838a2b",
       "value": " 67%"
      }
     },
     "70aed8869bb54430ad242135ad759d2f": {
      "model_module": "@jupyter-widgets/controls",
      "model_module_version": "1.5.0",
      "model_name": "HBoxModel",
      "state": {
       "children": [
        "IPY_MODEL_2b06f801070a48a5bb5f39f5577cf5f1",
        "IPY_MODEL_b6c01ffdf5dc4c1a93c67b7a9fa840a0",
        "IPY_MODEL_c0a9ef47e8e84bcba447e99fa44f6883"
       ],
       "layout": "IPY_MODEL_271558bdfe944780b3e8a65d2bfe1626"
      }
     },
     "70eea4c1fb1e41ff8ee31f5613ef5754": {
      "model_module": "@jupyter-widgets/base",
      "model_module_version": "1.2.0",
      "model_name": "LayoutModel",
      "state": {}
     },
     "71662bb3355047bfa1794f2618d512fd": {
      "model_module": "@jupyter-widgets/base",
      "model_module_version": "1.2.0",
      "model_name": "LayoutModel",
      "state": {}
     },
     "721e182dd01e47aca3f0e758c8c7c4b6": {
      "model_module": "@jupyter-widgets/controls",
      "model_module_version": "1.5.0",
      "model_name": "DescriptionStyleModel",
      "state": {
       "description_width": ""
      }
     },
     "73d6e42220b34c1db7c9c32952805469": {
      "model_module": "@jupyter-widgets/controls",
      "model_module_version": "1.5.0",
      "model_name": "DescriptionStyleModel",
      "state": {
       "description_width": ""
      }
     },
     "749e6b87082c4e4bbdd4030cad16b4ca": {
      "model_module": "@jupyter-widgets/controls",
      "model_module_version": "1.5.0",
      "model_name": "FloatProgressModel",
      "state": {
       "bar_style": "success",
       "layout": "IPY_MODEL_bd101b633ea34ac69246ecb0598515b8",
       "max": 14,
       "style": "IPY_MODEL_9cb0f87fdb62465a8ac2ef169db7b6b9",
       "value": 14
      }
     },
     "74b05596216a49a1b150b9be0061ffef": {
      "model_module": "@jupyter-widgets/controls",
      "model_module_version": "1.5.0",
      "model_name": "HTMLModel",
      "state": {
       "layout": "IPY_MODEL_7b937f4aa0db46cbbdf18c146a4d8d9d",
       "style": "IPY_MODEL_e49fc61a072143458af206edcef6af8c",
       "value": " 14/14 [00:35&lt;00:00,  2.65s/it]"
      }
     },
     "74b140d56f264876ad3baac400674e81": {
      "model_module": "@jupyter-widgets/base",
      "model_module_version": "1.2.0",
      "model_name": "LayoutModel",
      "state": {}
     },
     "74beaec67ac64b4f9e4ffd9764bd2b9d": {
      "model_module": "@jupyter-widgets/controls",
      "model_module_version": "1.5.0",
      "model_name": "DescriptionStyleModel",
      "state": {
       "description_width": ""
      }
     },
     "74e16d5201b746f6bda501151e592eed": {
      "model_module": "@jupyter-widgets/controls",
      "model_module_version": "1.5.0",
      "model_name": "ProgressStyleModel",
      "state": {
       "description_width": ""
      }
     },
     "7598e2700b684d90841799187dfcc138": {
      "model_module": "@jupyter-widgets/controls",
      "model_module_version": "1.5.0",
      "model_name": "HTMLModel",
      "state": {
       "layout": "IPY_MODEL_415ded97bd634a94aa9493edee1aef5e",
       "style": "IPY_MODEL_2a1b43fb3d5e41dbaad395e88d69dc17",
       "value": " 10/14 [00:26&lt;00:17,  4.32s/it]"
      }
     },
     "761febfec9434d18a10e7a292405c5d3": {
      "model_module": "@jupyter-widgets/controls",
      "model_module_version": "1.5.0",
      "model_name": "HTMLModel",
      "state": {
       "layout": "IPY_MODEL_2493d03c7bd34717904cab4538dd29ad",
       "style": "IPY_MODEL_437853bb71fc48718a27425bc6fcd9c5",
       "value": " 3/3 [00:10&lt;00:00,  4.29s/it]"
      }
     },
     "76d91f459d6d4f2aa4c55161e3e2fbd5": {
      "model_module": "@jupyter-widgets/controls",
      "model_module_version": "1.5.0",
      "model_name": "DescriptionStyleModel",
      "state": {
       "description_width": ""
      }
     },
     "77027611d9f94233a558744125d779c3": {
      "model_module": "@jupyter-widgets/controls",
      "model_module_version": "1.5.0",
      "model_name": "DescriptionStyleModel",
      "state": {
       "description_width": ""
      }
     },
     "77569b61b9f94b3bba023f8f25e98d70": {
      "model_module": "@jupyter-widgets/base",
      "model_module_version": "1.2.0",
      "model_name": "LayoutModel",
      "state": {}
     },
     "7764764341734b73a31c67d572f15ab7": {
      "model_module": "@jupyter-widgets/controls",
      "model_module_version": "1.5.0",
      "model_name": "HBoxModel",
      "state": {
       "children": [
        "IPY_MODEL_1ea51bc560ca4022bb1a949c79a0f734",
        "IPY_MODEL_4388f670ebb044a3a9838ebdc4c2a587",
        "IPY_MODEL_b99910e822374a6b9ce70d7b96324062"
       ],
       "layout": "IPY_MODEL_62631fe6d1564f839a570964b62a24c8"
      }
     },
     "777f86a86f664c9cb9be08b5315a4d59": {
      "model_module": "@jupyter-widgets/controls",
      "model_module_version": "1.5.0",
      "model_name": "FloatProgressModel",
      "state": {
       "bar_style": "success",
       "layout": "IPY_MODEL_a251fdba365540e59af8cbd3077647f0",
       "max": 3,
       "style": "IPY_MODEL_c5bdc1aea1dc42808c80934112cab5ca",
       "value": 3
      }
     },
     "77cc87b539e74f5dafad722153e60cd3": {
      "model_module": "@jupyter-widgets/controls",
      "model_module_version": "1.5.0",
      "model_name": "DescriptionStyleModel",
      "state": {
       "description_width": ""
      }
     },
     "77ed0aba6bdd404193911cba5b9d44ea": {
      "model_module": "@jupyter-widgets/controls",
      "model_module_version": "1.5.0",
      "model_name": "DescriptionStyleModel",
      "state": {
       "description_width": ""
      }
     },
     "7863273832e24bb2b5709eec56869f46": {
      "model_module": "@jupyter-widgets/controls",
      "model_module_version": "1.5.0",
      "model_name": "HTMLModel",
      "state": {
       "layout": "IPY_MODEL_4c7a44cfe46546c7ad4510925b762ba3",
       "style": "IPY_MODEL_63db93ef7251427da2644643a5f52e2a",
       "value": " 3/3 [00:10&lt;00:00,  3.99s/it]"
      }
     },
     "78c8eefc38c6474fa027d6414ab01f75": {
      "model_module": "@jupyter-widgets/base",
      "model_module_version": "1.2.0",
      "model_name": "LayoutModel",
      "state": {}
     },
     "799c2ce912b542fe9177159be2e714af": {
      "model_module": "@jupyter-widgets/controls",
      "model_module_version": "1.5.0",
      "model_name": "FloatProgressModel",
      "state": {
       "bar_style": "success",
       "layout": "IPY_MODEL_edba1ebe3a684c6da97596e98b5211a5",
       "max": 14,
       "style": "IPY_MODEL_e4fee53c94fa471e8eb4b075e0b60ed2",
       "value": 14
      }
     },
     "79a44aa20b9946bc8b79ab2e2e5df6a2": {
      "model_module": "@jupyter-widgets/controls",
      "model_module_version": "1.5.0",
      "model_name": "FloatProgressModel",
      "state": {
       "bar_style": "success",
       "layout": "IPY_MODEL_46f145a243894c2d993c289862c13a8b",
       "max": 14,
       "style": "IPY_MODEL_a0618f7e69d04e0a9872eb21f6b60876",
       "value": 14
      }
     },
     "7a10d58c1ecc444c83d13eb4996e5ee4": {
      "model_module": "@jupyter-widgets/base",
      "model_module_version": "1.2.0",
      "model_name": "LayoutModel",
      "state": {}
     },
     "7aab256f06ef4b9e8565daa375e42e01": {
      "model_module": "@jupyter-widgets/controls",
      "model_module_version": "1.5.0",
      "model_name": "DescriptionStyleModel",
      "state": {
       "description_width": ""
      }
     },
     "7ad06790a5154b6986cba20d76f8be7d": {
      "model_module": "@jupyter-widgets/controls",
      "model_module_version": "1.5.0",
      "model_name": "ProgressStyleModel",
      "state": {
       "description_width": ""
      }
     },
     "7aedc26c48254a838669f450a1fcbb22": {
      "model_module": "@jupyter-widgets/controls",
      "model_module_version": "1.5.0",
      "model_name": "ProgressStyleModel",
      "state": {
       "description_width": ""
      }
     },
     "7b671e2e52f24c399d68c55d193f4624": {
      "model_module": "@jupyter-widgets/controls",
      "model_module_version": "1.5.0",
      "model_name": "HTMLModel",
      "state": {
       "layout": "IPY_MODEL_1b3e9c32128b4afd82e6239a2c210fd1",
       "style": "IPY_MODEL_837873934a2b49d7b1739352bf6c8c7c",
       "value": " 3/3 [00:10&lt;00:00,  4.20s/it]"
      }
     },
     "7b937f4aa0db46cbbdf18c146a4d8d9d": {
      "model_module": "@jupyter-widgets/base",
      "model_module_version": "1.2.0",
      "model_name": "LayoutModel",
      "state": {}
     },
     "7b94f9a54ba547ecaa1e06fb565d1e14": {
      "model_module": "@jupyter-widgets/controls",
      "model_module_version": "1.5.0",
      "model_name": "HBoxModel",
      "state": {
       "children": [
        "IPY_MODEL_0b4691c9dc8c4730b2406addff4465cf",
        "IPY_MODEL_195bf44553064ef9b5c442ed7f8d14c0",
        "IPY_MODEL_68639f2e8c1c4e3289e0f6d8dce28243"
       ],
       "layout": "IPY_MODEL_2675acb784a64d10b3c0d15cb32666e4"
      }
     },
     "7bc1387af95243a4936c14134903bc0d": {
      "model_module": "@jupyter-widgets/base",
      "model_module_version": "1.2.0",
      "model_name": "LayoutModel",
      "state": {}
     },
     "7c0f779c53b24b90bfd89261b716e72d": {
      "model_module": "@jupyter-widgets/controls",
      "model_module_version": "1.5.0",
      "model_name": "DescriptionStyleModel",
      "state": {
       "description_width": ""
      }
     },
     "7e6348b6f12249d5968b9eb97f166010": {
      "model_module": "@jupyter-widgets/controls",
      "model_module_version": "1.5.0",
      "model_name": "DescriptionStyleModel",
      "state": {
       "description_width": ""
      }
     },
     "7f39e4fb792e4f0dbe1c7c27002d693a": {
      "model_module": "@jupyter-widgets/controls",
      "model_module_version": "1.5.0",
      "model_name": "FloatProgressModel",
      "state": {
       "bar_style": "success",
       "layout": "IPY_MODEL_81b26703a68944f4ab93ad79e9c80094",
       "max": 14,
       "style": "IPY_MODEL_a4587bcd144e43aca297d025ad154820",
       "value": 14
      }
     },
     "801c18dea9304ecbb6bb0636069827d4": {
      "model_module": "@jupyter-widgets/base",
      "model_module_version": "1.2.0",
      "model_name": "LayoutModel",
      "state": {}
     },
     "802c5562f59f42ef96997de1b9feb3b5": {
      "model_module": "@jupyter-widgets/controls",
      "model_module_version": "1.5.0",
      "model_name": "HTMLModel",
      "state": {
       "layout": "IPY_MODEL_a99c5e20d6d7423181e14969ec0ffc55",
       "style": "IPY_MODEL_edd4ff7f3e974300b167832d9129ddc9",
       "value": "100%"
      }
     },
     "8039000c118c4b35bc9ffcc4d13b27f3": {
      "model_module": "@jupyter-widgets/controls",
      "model_module_version": "1.5.0",
      "model_name": "HTMLModel",
      "state": {
       "layout": "IPY_MODEL_084efb17fade418aac55ccf88c99373d",
       "style": "IPY_MODEL_fcae490625734c64bdd2385f2511ea70",
       "value": " 14/14 [00:37&lt;00:00,  2.77s/it]"
      }
     },
     "805874e27f1a45e1b89fb0c287a680a8": {
      "model_module": "@jupyter-widgets/controls",
      "model_module_version": "1.5.0",
      "model_name": "DescriptionStyleModel",
      "state": {
       "description_width": ""
      }
     },
     "809b845a947d4eceaa9d7201273254c6": {
      "model_module": "@jupyter-widgets/base",
      "model_module_version": "1.2.0",
      "model_name": "LayoutModel",
      "state": {}
     },
     "80c763c7699b4ff49a71253aa16e9b40": {
      "model_module": "@jupyter-widgets/base",
      "model_module_version": "1.2.0",
      "model_name": "LayoutModel",
      "state": {}
     },
     "8119cd3961734583bf6db0c483e7f3a5": {
      "model_module": "@jupyter-widgets/controls",
      "model_module_version": "1.5.0",
      "model_name": "HTMLModel",
      "state": {
       "layout": "IPY_MODEL_0f08dbddfbf34a21a5d145735909cfec",
       "style": "IPY_MODEL_a2dc4e35c9ca48d3a6e51fc5cefd0ced",
       "value": " 14/14 [00:34&lt;00:00,  2.58s/it]"
      }
     },
     "81219c097ac744b69ad4e171ef739df5": {
      "model_module": "@jupyter-widgets/controls",
      "model_module_version": "1.5.0",
      "model_name": "DescriptionStyleModel",
      "state": {
       "description_width": ""
      }
     },
     "817301f479794c12b0e516e4b27ca565": {
      "model_module": "@jupyter-widgets/base",
      "model_module_version": "1.2.0",
      "model_name": "LayoutModel",
      "state": {}
     },
     "8184abafd437439481a39fe8f50c41bf": {
      "model_module": "@jupyter-widgets/controls",
      "model_module_version": "1.5.0",
      "model_name": "ProgressStyleModel",
      "state": {
       "description_width": ""
      }
     },
     "81b26703a68944f4ab93ad79e9c80094": {
      "model_module": "@jupyter-widgets/base",
      "model_module_version": "1.2.0",
      "model_name": "LayoutModel",
      "state": {}
     },
     "81fd12c7fc3c414b93a7481f3fb7da1e": {
      "model_module": "@jupyter-widgets/controls",
      "model_module_version": "1.5.0",
      "model_name": "HTMLModel",
      "state": {
       "layout": "IPY_MODEL_276ce3320f1349639ffd64105f12b350",
       "style": "IPY_MODEL_77027611d9f94233a558744125d779c3",
       "value": "100%"
      }
     },
     "8217a65ec82749c384cfde988d04b47e": {
      "model_module": "@jupyter-widgets/base",
      "model_module_version": "1.2.0",
      "model_name": "LayoutModel",
      "state": {}
     },
     "82fb3cf99ebb4e96ac943460c9281ad7": {
      "model_module": "@jupyter-widgets/controls",
      "model_module_version": "1.5.0",
      "model_name": "HTMLModel",
      "state": {
       "layout": "IPY_MODEL_4df9ea255ee04057a55797a504a03021",
       "style": "IPY_MODEL_f4e82aa0dad7492e9f251f424c0459f3",
       "value": " 3/3 [00:11&lt;00:00,  4.35s/it]"
      }
     },
     "83367f94883e4fd6883bf6596850b72c": {
      "model_module": "@jupyter-widgets/controls",
      "model_module_version": "1.5.0",
      "model_name": "ProgressStyleModel",
      "state": {
       "description_width": ""
      }
     },
     "837873934a2b49d7b1739352bf6c8c7c": {
      "model_module": "@jupyter-widgets/controls",
      "model_module_version": "1.5.0",
      "model_name": "DescriptionStyleModel",
      "state": {
       "description_width": ""
      }
     },
     "83c2fac7843c4663a1b118a4efb743db": {
      "model_module": "@jupyter-widgets/controls",
      "model_module_version": "1.5.0",
      "model_name": "HTMLModel",
      "state": {
       "layout": "IPY_MODEL_5592b4ced2b04897acb15b7d476b9740",
       "style": "IPY_MODEL_f13ca19e18544997bae83876d0159c0a",
       "value": "100%"
      }
     },
     "845af8d2da2a4ab4ad8df8b4e2341619": {
      "model_module": "@jupyter-widgets/controls",
      "model_module_version": "1.5.0",
      "model_name": "DescriptionStyleModel",
      "state": {
       "description_width": ""
      }
     },
     "850b5faee343454caff7bcb954c1b297": {
      "model_module": "@jupyter-widgets/base",
      "model_module_version": "1.2.0",
      "model_name": "LayoutModel",
      "state": {}
     },
     "854dbd68562548558ed1aa363a4554d2": {
      "model_module": "@jupyter-widgets/controls",
      "model_module_version": "1.5.0",
      "model_name": "HTMLModel",
      "state": {
       "layout": "IPY_MODEL_530227233cdb4d7bbe6a127d11bbbc96",
       "style": "IPY_MODEL_5f3c41984e834353b4bd3fbb27a25c2c",
       "value": " 3/3 [00:10&lt;00:00,  4.26s/it]"
      }
     },
     "8588cbf7c52d4f418839811101f446cc": {
      "model_module": "@jupyter-widgets/base",
      "model_module_version": "1.2.0",
      "model_name": "LayoutModel",
      "state": {}
     },
     "85a207da415748b88779087c996cfbbe": {
      "model_module": "@jupyter-widgets/base",
      "model_module_version": "1.2.0",
      "model_name": "LayoutModel",
      "state": {}
     },
     "85bac26c66964215ac5fdf16b0e39b66": {
      "model_module": "@jupyter-widgets/base",
      "model_module_version": "1.2.0",
      "model_name": "LayoutModel",
      "state": {}
     },
     "85d9ce7fbbea4356a2844cb8e9bd2564": {
      "model_module": "@jupyter-widgets/controls",
      "model_module_version": "1.5.0",
      "model_name": "DescriptionStyleModel",
      "state": {
       "description_width": ""
      }
     },
     "85e61beb995d4af989a3d453931372b6": {
      "model_module": "@jupyter-widgets/controls",
      "model_module_version": "1.5.0",
      "model_name": "HBoxModel",
      "state": {
       "children": [
        "IPY_MODEL_57dfcbb0414848a7afaf25ae5b8f6318",
        "IPY_MODEL_59cb8b51d70545db801f62bf91dde842",
        "IPY_MODEL_7b671e2e52f24c399d68c55d193f4624"
       ],
       "layout": "IPY_MODEL_e5627be0bb0747cbb16d4c50cdc94823"
      }
     },
     "85ef1aa4fcf8440085059dd1730c10ce": {
      "model_module": "@jupyter-widgets/controls",
      "model_module_version": "1.5.0",
      "model_name": "HBoxModel",
      "state": {
       "children": [
        "IPY_MODEL_f66bdd911a814945be5752c9df45f480",
        "IPY_MODEL_79a44aa20b9946bc8b79ab2e2e5df6a2",
        "IPY_MODEL_47f98225af024bc7af24fb7f21e52399"
       ],
       "layout": "IPY_MODEL_212dcdc1e2d240d883b18393d45acda8"
      }
     },
     "8758e08007c147cc995a9cd778321546": {
      "model_module": "@jupyter-widgets/base",
      "model_module_version": "1.2.0",
      "model_name": "LayoutModel",
      "state": {}
     },
     "87594e0f75114cac9ea7e461d39e53ea": {
      "model_module": "@jupyter-widgets/controls",
      "model_module_version": "1.5.0",
      "model_name": "DescriptionStyleModel",
      "state": {
       "description_width": ""
      }
     },
     "876f19a2a1274dfaab89aed4f6d34307": {
      "model_module": "@jupyter-widgets/controls",
      "model_module_version": "1.5.0",
      "model_name": "ProgressStyleModel",
      "state": {
       "description_width": ""
      }
     },
     "87bd516446324c848607396a35fbd10d": {
      "model_module": "@jupyter-widgets/controls",
      "model_module_version": "1.5.0",
      "model_name": "HTMLModel",
      "state": {
       "layout": "IPY_MODEL_115a126a5dc14d9e9e0c1a91e79ef53e",
       "style": "IPY_MODEL_5649d18abbde4f47a03b99cee129ca40",
       "value": " 3/3 [00:11&lt;00:00,  4.39s/it]"
      }
     },
     "87ed297c898a4aa8a059c3d7c6418959": {
      "model_module": "@jupyter-widgets/base",
      "model_module_version": "1.2.0",
      "model_name": "LayoutModel",
      "state": {}
     },
     "8882d1d7c3f1433a9b9101a888037ec7": {
      "model_module": "@jupyter-widgets/controls",
      "model_module_version": "1.5.0",
      "model_name": "HTMLModel",
      "state": {
       "layout": "IPY_MODEL_f65d8a8840ca449cbde70bef05e56953",
       "style": "IPY_MODEL_b0967127666b443cb813bf91f7ecfedf",
       "value": "100%"
      }
     },
     "8884c47ab3c441ce8df0a22eac4b497e": {
      "model_module": "@jupyter-widgets/base",
      "model_module_version": "1.2.0",
      "model_name": "LayoutModel",
      "state": {}
     },
     "89df800d4df747eaa75255a756977bf8": {
      "model_module": "@jupyter-widgets/controls",
      "model_module_version": "1.5.0",
      "model_name": "ProgressStyleModel",
      "state": {
       "description_width": ""
      }
     },
     "8a03ad0d87be4739985ebdbd8e3f6821": {
      "model_module": "@jupyter-widgets/controls",
      "model_module_version": "1.5.0",
      "model_name": "HTMLModel",
      "state": {
       "layout": "IPY_MODEL_ba29168235254634b5b1b682e0b4ae4c",
       "style": "IPY_MODEL_bc59be59c8e340218f148d15b9e3c513",
       "value": " 14/14 [00:34&lt;00:00,  2.54s/it]"
      }
     },
     "8b057534064a4e3686cd34358bb93401": {
      "model_module": "@jupyter-widgets/controls",
      "model_module_version": "1.5.0",
      "model_name": "HTMLModel",
      "state": {
       "layout": "IPY_MODEL_bfc48091ec6d4aa88c7cd6e624b2063f",
       "style": "IPY_MODEL_805874e27f1a45e1b89fb0c287a680a8",
       "value": " 3/3 [00:10&lt;00:00,  4.25s/it]"
      }
     },
     "8b16a795483843d3b70dba6e1fd26a29": {
      "model_module": "@jupyter-widgets/base",
      "model_module_version": "1.2.0",
      "model_name": "LayoutModel",
      "state": {}
     },
     "8bde0caeebf740c4bc667fbfa72d02ed": {
      "model_module": "@jupyter-widgets/controls",
      "model_module_version": "1.5.0",
      "model_name": "HTMLModel",
      "state": {
       "layout": "IPY_MODEL_335ac4086e8e40ea906ff302e06b35ec",
       "style": "IPY_MODEL_17800447be014770ae05c74ce802f81c",
       "value": " 71%"
      }
     },
     "8c4974d3c01f4a0ab4612bcd9d2c487e": {
      "model_module": "@jupyter-widgets/controls",
      "model_module_version": "1.5.0",
      "model_name": "FloatProgressModel",
      "state": {
       "bar_style": "success",
       "layout": "IPY_MODEL_06cd218c9ce0406090f8b3651b412fe3",
       "max": 3,
       "style": "IPY_MODEL_069d1da5bb904bb092d378f310a159d1",
       "value": 3
      }
     },
     "8c9fb845d586409ebe1a3b099073ed87": {
      "model_module": "@jupyter-widgets/base",
      "model_module_version": "1.2.0",
      "model_name": "LayoutModel",
      "state": {}
     },
     "8ccf6c8ad7a94dee96a0b8f1c326da34": {
      "model_module": "@jupyter-widgets/controls",
      "model_module_version": "1.5.0",
      "model_name": "DescriptionStyleModel",
      "state": {
       "description_width": ""
      }
     },
     "8d0d8c956fc0459f905a8b1a41ffe4fe": {
      "model_module": "@jupyter-widgets/base",
      "model_module_version": "1.2.0",
      "model_name": "LayoutModel",
      "state": {}
     },
     "8d4c233f2bd34fc785689c28a4443ae4": {
      "model_module": "@jupyter-widgets/base",
      "model_module_version": "1.2.0",
      "model_name": "LayoutModel",
      "state": {}
     },
     "8d537c8aa9584d61a56bb5641182a29e": {
      "model_module": "@jupyter-widgets/base",
      "model_module_version": "1.2.0",
      "model_name": "LayoutModel",
      "state": {}
     },
     "8de9a6074fbd4b38a5a91f1463b54fc9": {
      "model_module": "@jupyter-widgets/base",
      "model_module_version": "1.2.0",
      "model_name": "LayoutModel",
      "state": {}
     },
     "8e28b38aef194897b6131f4317563b9f": {
      "model_module": "@jupyter-widgets/controls",
      "model_module_version": "1.5.0",
      "model_name": "DescriptionStyleModel",
      "state": {
       "description_width": ""
      }
     },
     "8ec11039193343d798c4d59b2cfe705b": {
      "model_module": "@jupyter-widgets/controls",
      "model_module_version": "1.5.0",
      "model_name": "DescriptionStyleModel",
      "state": {
       "description_width": ""
      }
     },
     "8ed4ea60c228441bb58a109bfdb44d87": {
      "model_module": "@jupyter-widgets/base",
      "model_module_version": "1.2.0",
      "model_name": "LayoutModel",
      "state": {}
     },
     "8f3469b12b6d41cca996c3174a8a94d3": {
      "model_module": "@jupyter-widgets/controls",
      "model_module_version": "1.5.0",
      "model_name": "FloatProgressModel",
      "state": {
       "bar_style": "success",
       "layout": "IPY_MODEL_d23780089de748e3a6494a99c3811a90",
       "max": 14,
       "style": "IPY_MODEL_3bf48ed08eed4ac5a645a04c7acea2f0",
       "value": 14
      }
     },
     "8f5256878fcc4418932eb682a7007e91": {
      "model_module": "@jupyter-widgets/controls",
      "model_module_version": "1.5.0",
      "model_name": "DescriptionStyleModel",
      "state": {
       "description_width": ""
      }
     },
     "8f87a82165fc452397ac70cad966bbe4": {
      "model_module": "@jupyter-widgets/controls",
      "model_module_version": "1.5.0",
      "model_name": "ProgressStyleModel",
      "state": {
       "description_width": ""
      }
     },
     "8fa32913544f4ff7ae6cc19b754896c1": {
      "model_module": "@jupyter-widgets/base",
      "model_module_version": "1.2.0",
      "model_name": "LayoutModel",
      "state": {}
     },
     "8ff573009e114a3f87d3b18fc70f28cc": {
      "model_module": "@jupyter-widgets/controls",
      "model_module_version": "1.5.0",
      "model_name": "HTMLModel",
      "state": {
       "layout": "IPY_MODEL_809b845a947d4eceaa9d7201273254c6",
       "style": "IPY_MODEL_d19518513e8a44dfa6fb2814c8c8f05d",
       "value": " 3/3 [00:10&lt;00:00,  4.19s/it]"
      }
     },
     "90220a88101d49e888b6f83bfb6df436": {
      "model_module": "@jupyter-widgets/base",
      "model_module_version": "1.2.0",
      "model_name": "LayoutModel",
      "state": {}
     },
     "903eacd04bae46db83092bc1e8f150e2": {
      "model_module": "@jupyter-widgets/base",
      "model_module_version": "1.2.0",
      "model_name": "LayoutModel",
      "state": {}
     },
     "9081a73355fa4afcacf5da26e5f3a77f": {
      "model_module": "@jupyter-widgets/controls",
      "model_module_version": "1.5.0",
      "model_name": "HBoxModel",
      "state": {
       "children": [
        "IPY_MODEL_96efe36f1bb949629a3d121c3028b8bb",
        "IPY_MODEL_f088a133a8804674b9dd7f297ffbf9c2",
        "IPY_MODEL_d83e8dcffaef45478777c81975daeb66"
       ],
       "layout": "IPY_MODEL_8d537c8aa9584d61a56bb5641182a29e"
      }
     },
     "90847593a34c4349a601197e200e330b": {
      "model_module": "@jupyter-widgets/controls",
      "model_module_version": "1.5.0",
      "model_name": "FloatProgressModel",
      "state": {
       "bar_style": "success",
       "layout": "IPY_MODEL_3e038dd87e8e4559b113c386a0626299",
       "max": 14,
       "style": "IPY_MODEL_8f87a82165fc452397ac70cad966bbe4",
       "value": 14
      }
     },
     "90923c837e1b4ab9bc13f1267d9159d8": {
      "model_module": "@jupyter-widgets/base",
      "model_module_version": "1.2.0",
      "model_name": "LayoutModel",
      "state": {}
     },
     "9216e0e0907040929f6e274b03ee6243": {
      "model_module": "@jupyter-widgets/controls",
      "model_module_version": "1.5.0",
      "model_name": "ProgressStyleModel",
      "state": {
       "description_width": ""
      }
     },
     "9394526ac9c941739cd411acfd526766": {
      "model_module": "@jupyter-widgets/base",
      "model_module_version": "1.2.0",
      "model_name": "LayoutModel",
      "state": {}
     },
     "93d601e2d59e468bb0a2e59df885b6bb": {
      "model_module": "@jupyter-widgets/base",
      "model_module_version": "1.2.0",
      "model_name": "LayoutModel",
      "state": {}
     },
     "946cadf61f5e47fd8270beb2329cf33b": {
      "model_module": "@jupyter-widgets/base",
      "model_module_version": "1.2.0",
      "model_name": "LayoutModel",
      "state": {}
     },
     "94b354bd31db4240b3abce5878a7f39e": {
      "model_module": "@jupyter-widgets/base",
      "model_module_version": "1.2.0",
      "model_name": "LayoutModel",
      "state": {}
     },
     "95300a5b30004cba8b3edd3a03b70613": {
      "model_module": "@jupyter-widgets/controls",
      "model_module_version": "1.5.0",
      "model_name": "DescriptionStyleModel",
      "state": {
       "description_width": ""
      }
     },
     "95cfbf3086504b4ab9a1449d5cf78769": {
      "model_module": "@jupyter-widgets/controls",
      "model_module_version": "1.5.0",
      "model_name": "DescriptionStyleModel",
      "state": {
       "description_width": ""
      }
     },
     "9610b9e50bdc44d6ac6c7b4c9e8a6973": {
      "model_module": "@jupyter-widgets/controls",
      "model_module_version": "1.5.0",
      "model_name": "HBoxModel",
      "state": {
       "children": [
        "IPY_MODEL_42645fcaf4c64cf68824d93759c75bc8",
        "IPY_MODEL_d3134f14b8944f4987bb3b46c8f59e6d",
        "IPY_MODEL_6217b2e724b7488dbf152daf3fb7ff95"
       ],
       "layout": "IPY_MODEL_dc68bf3968c245a59d61247ef22df629"
      }
     },
     "96b460c37817428197afea818ff1e4a5": {
      "model_module": "@jupyter-widgets/controls",
      "model_module_version": "1.5.0",
      "model_name": "HTMLModel",
      "state": {
       "layout": "IPY_MODEL_e40cca4a10a44e0dbd27b705095264cc",
       "style": "IPY_MODEL_3f0ca1a537944eababed72bd0d0b4031",
       "value": " 14/14 [00:35&lt;00:00,  2.59s/it]"
      }
     },
     "96efe36f1bb949629a3d121c3028b8bb": {
      "model_module": "@jupyter-widgets/controls",
      "model_module_version": "1.5.0",
      "model_name": "HTMLModel",
      "state": {
       "layout": "IPY_MODEL_e2df143c4ac449a490b970fc5d42903d",
       "style": "IPY_MODEL_74beaec67ac64b4f9e4ffd9764bd2b9d",
       "value": "100%"
      }
     },
     "97911fa7f7ff4b9ca533f84f14ba8a8d": {
      "model_module": "@jupyter-widgets/controls",
      "model_module_version": "1.5.0",
      "model_name": "DescriptionStyleModel",
      "state": {
       "description_width": ""
      }
     },
     "97bbbe30ec7f46b9aaa8e4ad4646ac93": {
      "model_module": "@jupyter-widgets/controls",
      "model_module_version": "1.5.0",
      "model_name": "HTMLModel",
      "state": {
       "layout": "IPY_MODEL_a287ddab9f4d4efbbc0febc60c8661ae",
       "style": "IPY_MODEL_4ad7e55c582c4f96bf747521fa1a880e",
       "value": " 3/14 [00:02&lt;00:05,  2.05it/s]"
      }
     },
     "98307e1ba8e542d28735e73168500439": {
      "model_module": "@jupyter-widgets/base",
      "model_module_version": "1.2.0",
      "model_name": "LayoutModel",
      "state": {}
     },
     "9853c5d67f5f48bb9813db5ee85adebb": {
      "model_module": "@jupyter-widgets/controls",
      "model_module_version": "1.5.0",
      "model_name": "ProgressStyleModel",
      "state": {
       "description_width": ""
      }
     },
     "9860d769f6e5456f8ab1d86485f89b89": {
      "model_module": "@jupyter-widgets/controls",
      "model_module_version": "1.5.0",
      "model_name": "HTMLModel",
      "state": {
       "layout": "IPY_MODEL_06d57aa711be4630a00b75bef4214d4c",
       "style": "IPY_MODEL_a3bcc7c717b049f4aa944f25a84dc4ef",
       "value": " 3/3 [00:10&lt;00:00,  4.14s/it]"
      }
     },
     "98cb9a5f782d406992c4ab9ddc0d89c4": {
      "model_module": "@jupyter-widgets/base",
      "model_module_version": "1.2.0",
      "model_name": "LayoutModel",
      "state": {}
     },
     "98ebb002e3a64642ad056d5f1b073578": {
      "model_module": "@jupyter-widgets/controls",
      "model_module_version": "1.5.0",
      "model_name": "HTMLModel",
      "state": {
       "layout": "IPY_MODEL_609bdb59378141f4a96e77ac1ac3c4d0",
       "style": "IPY_MODEL_9efb3a41c52e4f40bbec00d4a2d9a969",
       "value": " 3/3 [00:11&lt;00:00,  4.61s/it]"
      }
     },
     "99424901800049039cf89f5962ef052d": {
      "model_module": "@jupyter-widgets/controls",
      "model_module_version": "1.5.0",
      "model_name": "ProgressStyleModel",
      "state": {
       "description_width": ""
      }
     },
     "9a104c1a479a4b499033e7c555c78f9e": {
      "model_module": "@jupyter-widgets/controls",
      "model_module_version": "1.5.0",
      "model_name": "ProgressStyleModel",
      "state": {
       "description_width": ""
      }
     },
     "9a4b752de1ac4a439e4a44845e5667e5": {
      "model_module": "@jupyter-widgets/controls",
      "model_module_version": "1.5.0",
      "model_name": "DescriptionStyleModel",
      "state": {
       "description_width": ""
      }
     },
     "9ac45458d0f9497bac72211e8da9c1ce": {
      "model_module": "@jupyter-widgets/base",
      "model_module_version": "1.2.0",
      "model_name": "LayoutModel",
      "state": {}
     },
     "9b335006471b4b01972e28175f5bd5a6": {
      "model_module": "@jupyter-widgets/controls",
      "model_module_version": "1.5.0",
      "model_name": "HBoxModel",
      "state": {
       "children": [
        "IPY_MODEL_f37ee6991b5b4c67b17f201ce50e2880",
        "IPY_MODEL_2551adbdd0364fdcb7901efe8a24fbd1",
        "IPY_MODEL_a9752cad2c2341dfb8ce3121a4d1ae82"
       ],
       "layout": "IPY_MODEL_67bd004a9cc54ca98a945c66e98a8dc5"
      }
     },
     "9bd67eb962624cffae4c442e70298f11": {
      "model_module": "@jupyter-widgets/controls",
      "model_module_version": "1.5.0",
      "model_name": "HTMLModel",
      "state": {
       "layout": "IPY_MODEL_6924f9666c14408f974c8626cb341bf0",
       "style": "IPY_MODEL_0325411a73a24e76a5a828c1af2f77f4",
       "value": " 14/14 [00:34&lt;00:00,  2.58s/it]"
      }
     },
     "9c9cd8f1d6b24d63a4d2ad548ec9f261": {
      "model_module": "@jupyter-widgets/controls",
      "model_module_version": "1.5.0",
      "model_name": "HBoxModel",
      "state": {
       "children": [
        "IPY_MODEL_0d5bdf9af54d439ca3f4b690da144284",
        "IPY_MODEL_d73879b228ab41edbd87b375a6c4d3eb",
        "IPY_MODEL_5363fb3cea7e48a79ae2d3eee8d3f103"
       ],
       "layout": "IPY_MODEL_85bac26c66964215ac5fdf16b0e39b66"
      }
     },
     "9cb0f87fdb62465a8ac2ef169db7b6b9": {
      "model_module": "@jupyter-widgets/controls",
      "model_module_version": "1.5.0",
      "model_name": "ProgressStyleModel",
      "state": {
       "description_width": ""
      }
     },
     "9cd79e32341d49e79b16310ec2053281": {
      "model_module": "@jupyter-widgets/controls",
      "model_module_version": "1.5.0",
      "model_name": "DescriptionStyleModel",
      "state": {
       "description_width": ""
      }
     },
     "9cf5eea599ac405eba88a368b841cb7b": {
      "model_module": "@jupyter-widgets/base",
      "model_module_version": "1.2.0",
      "model_name": "LayoutModel",
      "state": {}
     },
     "9ee613f03cca4b73a8bc20062ed816c1": {
      "model_module": "@jupyter-widgets/controls",
      "model_module_version": "1.5.0",
      "model_name": "HTMLModel",
      "state": {
       "layout": "IPY_MODEL_323409be01bc4fac9783bd8238d5b4de",
       "style": "IPY_MODEL_7c0f779c53b24b90bfd89261b716e72d",
       "value": " 14/14 [00:37&lt;00:00,  2.74s/it]"
      }
     },
     "9efb3a41c52e4f40bbec00d4a2d9a969": {
      "model_module": "@jupyter-widgets/controls",
      "model_module_version": "1.5.0",
      "model_name": "DescriptionStyleModel",
      "state": {
       "description_width": ""
      }
     },
     "9f05b8a4032d4eeaa91f17c8df6043fd": {
      "model_module": "@jupyter-widgets/controls",
      "model_module_version": "1.5.0",
      "model_name": "DescriptionStyleModel",
      "state": {
       "description_width": ""
      }
     },
     "9f7187b4ecb342f2a742a39abb381f9d": {
      "model_module": "@jupyter-widgets/base",
      "model_module_version": "1.2.0",
      "model_name": "LayoutModel",
      "state": {}
     },
     "a001f2d8f0ac46178a6eaf43f36f248e": {
      "model_module": "@jupyter-widgets/base",
      "model_module_version": "1.2.0",
      "model_name": "LayoutModel",
      "state": {}
     },
     "a0123662844f4a149a0432231f34ba9f": {
      "model_module": "@jupyter-widgets/controls",
      "model_module_version": "1.5.0",
      "model_name": "DescriptionStyleModel",
      "state": {
       "description_width": ""
      }
     },
     "a040616087b0471381e02100d008c999": {
      "model_module": "@jupyter-widgets/controls",
      "model_module_version": "1.5.0",
      "model_name": "FloatProgressModel",
      "state": {
       "bar_style": "success",
       "layout": "IPY_MODEL_d87c3678554943cfaf04488344ff5fe6",
       "max": 3,
       "style": "IPY_MODEL_a3353040007c440c941c724a6c7c4a86",
       "value": 3
      }
     },
     "a05d377b458949ba8d7dfb4733c297c6": {
      "model_module": "@jupyter-widgets/base",
      "model_module_version": "1.2.0",
      "model_name": "LayoutModel",
      "state": {}
     },
     "a0618f7e69d04e0a9872eb21f6b60876": {
      "model_module": "@jupyter-widgets/controls",
      "model_module_version": "1.5.0",
      "model_name": "ProgressStyleModel",
      "state": {
       "description_width": ""
      }
     },
     "a0a6992b1429433fbbbaf3d5f05d24c3": {
      "model_module": "@jupyter-widgets/controls",
      "model_module_version": "1.5.0",
      "model_name": "HTMLModel",
      "state": {
       "layout": "IPY_MODEL_0b79ec824d3b4d8aa3cae468021e6ea0",
       "style": "IPY_MODEL_d7b063232f184ceca6520530d9f21b38",
       "value": " 3/3 [00:10&lt;00:00,  4.23s/it]"
      }
     },
     "a100bb931af3454f8ff02fae28c2ba6a": {
      "model_module": "@jupyter-widgets/base",
      "model_module_version": "1.2.0",
      "model_name": "LayoutModel",
      "state": {}
     },
     "a14329532c41402699841551dbcaf36d": {
      "model_module": "@jupyter-widgets/controls",
      "model_module_version": "1.5.0",
      "model_name": "ProgressStyleModel",
      "state": {
       "description_width": ""
      }
     },
     "a18db3fb7d924aaf9f82396754c998e8": {
      "model_module": "@jupyter-widgets/controls",
      "model_module_version": "1.5.0",
      "model_name": "DescriptionStyleModel",
      "state": {
       "description_width": ""
      }
     },
     "a251fdba365540e59af8cbd3077647f0": {
      "model_module": "@jupyter-widgets/base",
      "model_module_version": "1.2.0",
      "model_name": "LayoutModel",
      "state": {}
     },
     "a287ddab9f4d4efbbc0febc60c8661ae": {
      "model_module": "@jupyter-widgets/base",
      "model_module_version": "1.2.0",
      "model_name": "LayoutModel",
      "state": {}
     },
     "a2955b360dac453d8c26fa7c5687f081": {
      "model_module": "@jupyter-widgets/controls",
      "model_module_version": "1.5.0",
      "model_name": "DescriptionStyleModel",
      "state": {
       "description_width": ""
      }
     },
     "a2dc4e35c9ca48d3a6e51fc5cefd0ced": {
      "model_module": "@jupyter-widgets/controls",
      "model_module_version": "1.5.0",
      "model_name": "DescriptionStyleModel",
      "state": {
       "description_width": ""
      }
     },
     "a2f63c20b4dd48a8866fcb6b802f8c4a": {
      "model_module": "@jupyter-widgets/controls",
      "model_module_version": "1.5.0",
      "model_name": "ProgressStyleModel",
      "state": {
       "description_width": ""
      }
     },
     "a32af960a36d4b52a3edd1f55e071c15": {
      "model_module": "@jupyter-widgets/controls",
      "model_module_version": "1.5.0",
      "model_name": "HTMLModel",
      "state": {
       "layout": "IPY_MODEL_18fb54df65384bb191ef2dd090fb1024",
       "style": "IPY_MODEL_195b90f25ae447488562295c171c2e4d",
       "value": "100%"
      }
     },
     "a3353040007c440c941c724a6c7c4a86": {
      "model_module": "@jupyter-widgets/controls",
      "model_module_version": "1.5.0",
      "model_name": "ProgressStyleModel",
      "state": {
       "description_width": ""
      }
     },
     "a362902f497348d289d27ca0913068fe": {
      "model_module": "@jupyter-widgets/base",
      "model_module_version": "1.2.0",
      "model_name": "LayoutModel",
      "state": {}
     },
     "a3bcc7c717b049f4aa944f25a84dc4ef": {
      "model_module": "@jupyter-widgets/controls",
      "model_module_version": "1.5.0",
      "model_name": "DescriptionStyleModel",
      "state": {
       "description_width": ""
      }
     },
     "a422eb421d334c8a8df8cec41b824897": {
      "model_module": "@jupyter-widgets/base",
      "model_module_version": "1.2.0",
      "model_name": "LayoutModel",
      "state": {}
     },
     "a457bdaff0b54319a7e04193fee288ff": {
      "model_module": "@jupyter-widgets/base",
      "model_module_version": "1.2.0",
      "model_name": "LayoutModel",
      "state": {}
     },
     "a4587bcd144e43aca297d025ad154820": {
      "model_module": "@jupyter-widgets/controls",
      "model_module_version": "1.5.0",
      "model_name": "ProgressStyleModel",
      "state": {
       "description_width": ""
      }
     },
     "a52dc0b6be834b578252ec84b57cb7ae": {
      "model_module": "@jupyter-widgets/controls",
      "model_module_version": "1.5.0",
      "model_name": "ProgressStyleModel",
      "state": {
       "description_width": ""
      }
     },
     "a6916e9d8ced46a5947c9cf22c14cef2": {
      "model_module": "@jupyter-widgets/controls",
      "model_module_version": "1.5.0",
      "model_name": "HBoxModel",
      "state": {
       "children": [
        "IPY_MODEL_fdc23c6f872c4825b03240c4a0ab9831",
        "IPY_MODEL_20e2e54ff7b6404a8ef36f22b44b6529",
        "IPY_MODEL_b7f078efc25d4d45a8d66e11d244e789"
       ],
       "layout": "IPY_MODEL_70eea4c1fb1e41ff8ee31f5613ef5754"
      }
     },
     "a6ec0e6de8ed4d18943486d916631bb3": {
      "model_module": "@jupyter-widgets/base",
      "model_module_version": "1.2.0",
      "model_name": "LayoutModel",
      "state": {}
     },
     "a7d4d21d229e48928273980fb1f57c78": {
      "model_module": "@jupyter-widgets/controls",
      "model_module_version": "1.5.0",
      "model_name": "DescriptionStyleModel",
      "state": {
       "description_width": ""
      }
     },
     "a93293402c394b809ddfc405b57fc3ae": {
      "model_module": "@jupyter-widgets/base",
      "model_module_version": "1.2.0",
      "model_name": "LayoutModel",
      "state": {}
     },
     "a9752cad2c2341dfb8ce3121a4d1ae82": {
      "model_module": "@jupyter-widgets/controls",
      "model_module_version": "1.5.0",
      "model_name": "HTMLModel",
      "state": {
       "layout": "IPY_MODEL_fc07a7ad29a1417dbfecf232fc63168d",
       "style": "IPY_MODEL_4a9c8487b9174ce392d94d1f8a019cab",
       "value": " 3/3 [00:10&lt;00:00,  4.28s/it]"
      }
     },
     "a99c5e20d6d7423181e14969ec0ffc55": {
      "model_module": "@jupyter-widgets/base",
      "model_module_version": "1.2.0",
      "model_name": "LayoutModel",
      "state": {}
     },
     "aa3734b8439c46588fafe5f7b191bb02": {
      "model_module": "@jupyter-widgets/controls",
      "model_module_version": "1.5.0",
      "model_name": "DescriptionStyleModel",
      "state": {
       "description_width": ""
      }
     },
     "ab4c0e768492431bbb35ce04a23dce63": {
      "model_module": "@jupyter-widgets/controls",
      "model_module_version": "1.5.0",
      "model_name": "ProgressStyleModel",
      "state": {
       "description_width": ""
      }
     },
     "abbeb2c6abf448dda079c6cbb462781b": {
      "model_module": "@jupyter-widgets/controls",
      "model_module_version": "1.5.0",
      "model_name": "DescriptionStyleModel",
      "state": {
       "description_width": ""
      }
     },
     "acda4f5b396441189693bf7bffcb701c": {
      "model_module": "@jupyter-widgets/controls",
      "model_module_version": "1.5.0",
      "model_name": "DescriptionStyleModel",
      "state": {
       "description_width": ""
      }
     },
     "acdac6e8397d4097ba9b78f5a31f3293": {
      "model_module": "@jupyter-widgets/controls",
      "model_module_version": "1.5.0",
      "model_name": "DescriptionStyleModel",
      "state": {
       "description_width": ""
      }
     },
     "aceda0a21c1a4b75853cdb8a59f7eadf": {
      "model_module": "@jupyter-widgets/controls",
      "model_module_version": "1.5.0",
      "model_name": "FloatProgressModel",
      "state": {
       "bar_style": "success",
       "layout": "IPY_MODEL_8de9a6074fbd4b38a5a91f1463b54fc9",
       "max": 3,
       "style": "IPY_MODEL_c6b33421e33f4b0380e00957941ef8db",
       "value": 3
      }
     },
     "ad3445fb8cce488999a76f978c9e7a42": {
      "model_module": "@jupyter-widgets/controls",
      "model_module_version": "1.5.0",
      "model_name": "ProgressStyleModel",
      "state": {
       "description_width": ""
      }
     },
     "ad49430f601441eebcd6fdf140b752d4": {
      "model_module": "@jupyter-widgets/controls",
      "model_module_version": "1.5.0",
      "model_name": "ProgressStyleModel",
      "state": {
       "description_width": ""
      }
     },
     "ada2a00636b1438498db0770cdd39bef": {
      "model_module": "@jupyter-widgets/base",
      "model_module_version": "1.2.0",
      "model_name": "LayoutModel",
      "state": {}
     },
     "adb01a75c497444e9fb19c4b1eadcf84": {
      "model_module": "@jupyter-widgets/controls",
      "model_module_version": "1.5.0",
      "model_name": "DescriptionStyleModel",
      "state": {
       "description_width": ""
      }
     },
     "adeb3d409ce9403b90fbd2fabd5b7981": {
      "model_module": "@jupyter-widgets/controls",
      "model_module_version": "1.5.0",
      "model_name": "HTMLModel",
      "state": {
       "layout": "IPY_MODEL_fb2b7e82ece14ab79d84a08df31c827e",
       "style": "IPY_MODEL_721e182dd01e47aca3f0e758c8c7c4b6",
       "value": "100%"
      }
     },
     "ae01414e4d4e4f55b34f35abef29cdfb": {
      "model_module": "@jupyter-widgets/controls",
      "model_module_version": "1.5.0",
      "model_name": "HBoxModel",
      "state": {
       "children": [
        "IPY_MODEL_0bca4e3d211e481b930b97cb27172398",
        "IPY_MODEL_dd17114b4a1c46e3880a89bcd314b090",
        "IPY_MODEL_b7dd1b4dfc814fa3b6b996920c8f0612"
       ],
       "layout": "IPY_MODEL_3304e1dd48ff49ecb920ff68b7dbacaa"
      }
     },
     "aef0ceb8c0ae4015b63ea8b2d521df89": {
      "model_module": "@jupyter-widgets/controls",
      "model_module_version": "1.5.0",
      "model_name": "HTMLModel",
      "state": {
       "layout": "IPY_MODEL_8758e08007c147cc995a9cd778321546",
       "style": "IPY_MODEL_c1185f0270fe4f4b904912182604a1b1",
       "value": "100%"
      }
     },
     "af095a946e40470fb6b10069cdead320": {
      "model_module": "@jupyter-widgets/controls",
      "model_module_version": "1.5.0",
      "model_name": "DescriptionStyleModel",
      "state": {
       "description_width": ""
      }
     },
     "af321bf03d344ab5bbf27ecfd4df46e1": {
      "model_module": "@jupyter-widgets/controls",
      "model_module_version": "1.5.0",
      "model_name": "DescriptionStyleModel",
      "state": {
       "description_width": ""
      }
     },
     "af81eb420a204b4db16e0900544ee830": {
      "model_module": "@jupyter-widgets/controls",
      "model_module_version": "1.5.0",
      "model_name": "FloatProgressModel",
      "state": {
       "bar_style": "success",
       "layout": "IPY_MODEL_5c1cdc7f1d7f4334997a05cb16278393",
       "max": 14,
       "style": "IPY_MODEL_0bdac01ac9714d238307c195beb0e4d6",
       "value": 14
      }
     },
     "b0967127666b443cb813bf91f7ecfedf": {
      "model_module": "@jupyter-widgets/controls",
      "model_module_version": "1.5.0",
      "model_name": "DescriptionStyleModel",
      "state": {
       "description_width": ""
      }
     },
     "b0abd16537734a9d99386e3c8da6b4b8": {
      "model_module": "@jupyter-widgets/controls",
      "model_module_version": "1.5.0",
      "model_name": "FloatProgressModel",
      "state": {
       "bar_style": "danger",
       "layout": "IPY_MODEL_b49cf00a4c3f4163b7e728f814b74fa9",
       "max": 14,
       "style": "IPY_MODEL_c654e302892f4bfba0927c5f041e3257",
       "value": 3
      }
     },
     "b13f40fc66ff46f3b4778d156c0b4e3f": {
      "model_module": "@jupyter-widgets/base",
      "model_module_version": "1.2.0",
      "model_name": "LayoutModel",
      "state": {}
     },
     "b1869575b6bc48b185eadfefede9f2ea": {
      "model_module": "@jupyter-widgets/controls",
      "model_module_version": "1.5.0",
      "model_name": "HTMLModel",
      "state": {
       "layout": "IPY_MODEL_3f789c27308447d6b763ce0d90eb3663",
       "style": "IPY_MODEL_b77fd8eda6364a409317be07cc127253",
       "value": " 14/14 [00:34&lt;00:00,  2.57s/it]"
      }
     },
     "b1a71496bea04ea984d4eaf411c2d37c": {
      "model_module": "@jupyter-widgets/base",
      "model_module_version": "1.2.0",
      "model_name": "LayoutModel",
      "state": {}
     },
     "b248845b0071429886b9bb169c16460e": {
      "model_module": "@jupyter-widgets/base",
      "model_module_version": "1.2.0",
      "model_name": "LayoutModel",
      "state": {}
     },
     "b3c64d1d470d4303ba1161800f662b9d": {
      "model_module": "@jupyter-widgets/base",
      "model_module_version": "1.2.0",
      "model_name": "LayoutModel",
      "state": {}
     },
     "b42c1ce5b32b407192f3a3d0cc1e8d5c": {
      "model_module": "@jupyter-widgets/controls",
      "model_module_version": "1.5.0",
      "model_name": "FloatProgressModel",
      "state": {
       "bar_style": "success",
       "layout": "IPY_MODEL_1574450acc874b6f9d2c6fa210c91894",
       "max": 3,
       "style": "IPY_MODEL_d83ded3010ff4830bdcfd81c9fcef800",
       "value": 3
      }
     },
     "b4844e9f7ac840f8932292a6e55f54c4": {
      "model_module": "@jupyter-widgets/controls",
      "model_module_version": "1.5.0",
      "model_name": "ProgressStyleModel",
      "state": {
       "description_width": ""
      }
     },
     "b49cf00a4c3f4163b7e728f814b74fa9": {
      "model_module": "@jupyter-widgets/base",
      "model_module_version": "1.2.0",
      "model_name": "LayoutModel",
      "state": {}
     },
     "b4a6ca293cf340b89bc8cee747bd4df1": {
      "model_module": "@jupyter-widgets/controls",
      "model_module_version": "1.5.0",
      "model_name": "HTMLModel",
      "state": {
       "layout": "IPY_MODEL_57e76b58a33b4bcd96f3a40b899044d9",
       "style": "IPY_MODEL_44d5718f041c4cdf8b85c3e58a90c1e2",
       "value": "100%"
      }
     },
     "b56f52d366d44191901d75a4215ee301": {
      "model_module": "@jupyter-widgets/controls",
      "model_module_version": "1.5.0",
      "model_name": "HTMLModel",
      "state": {
       "layout": "IPY_MODEL_3da353bac79d453282b17d5e84055538",
       "style": "IPY_MODEL_81219c097ac744b69ad4e171ef739df5",
       "value": " 3/3 [00:10&lt;00:00,  4.22s/it]"
      }
     },
     "b5fb0353521943fcb24fee15656f0772": {
      "model_module": "@jupyter-widgets/base",
      "model_module_version": "1.2.0",
      "model_name": "LayoutModel",
      "state": {}
     },
     "b6148f8af3974dfd862a9b5fe1ab3bd7": {
      "model_module": "@jupyter-widgets/controls",
      "model_module_version": "1.5.0",
      "model_name": "ProgressStyleModel",
      "state": {
       "description_width": ""
      }
     },
     "b6c01ffdf5dc4c1a93c67b7a9fa840a0": {
      "model_module": "@jupyter-widgets/controls",
      "model_module_version": "1.5.0",
      "model_name": "FloatProgressModel",
      "state": {
       "bar_style": "success",
       "layout": "IPY_MODEL_9394526ac9c941739cd411acfd526766",
       "max": 14,
       "style": "IPY_MODEL_ad3445fb8cce488999a76f978c9e7a42",
       "value": 14
      }
     },
     "b706432285f34e75ae5cff63bc0f811e": {
      "model_module": "@jupyter-widgets/controls",
      "model_module_version": "1.5.0",
      "model_name": "FloatProgressModel",
      "state": {
       "bar_style": "success",
       "layout": "IPY_MODEL_dcead6a4bc7c4ebd98c57b29a4cbd66a",
       "max": 14,
       "style": "IPY_MODEL_cbd5356061a440dbb53782fc01963ceb",
       "value": 14
      }
     },
     "b77fd8eda6364a409317be07cc127253": {
      "model_module": "@jupyter-widgets/controls",
      "model_module_version": "1.5.0",
      "model_name": "DescriptionStyleModel",
      "state": {
       "description_width": ""
      }
     },
     "b79c1473aaeb4e08aee55aa670d83fdd": {
      "model_module": "@jupyter-widgets/controls",
      "model_module_version": "1.5.0",
      "model_name": "HBoxModel",
      "state": {
       "children": [
        "IPY_MODEL_8882d1d7c3f1433a9b9101a888037ec7",
        "IPY_MODEL_e2a0c13496744ad68d896d64a962e737",
        "IPY_MODEL_0b1a304bd15f47ec8858bfd900d11484"
       ],
       "layout": "IPY_MODEL_1f98f10a0be946e8a023ccbd3bb84e77"
      }
     },
     "b7dc5056499647e6b599be2a6894c13b": {
      "model_module": "@jupyter-widgets/controls",
      "model_module_version": "1.5.0",
      "model_name": "HTMLModel",
      "state": {
       "layout": "IPY_MODEL_46b3e17002044bd187ddffcb137f8442",
       "style": "IPY_MODEL_4423c92e6ab94b46b6f89bde9dddf3a8",
       "value": " 14/14 [00:34&lt;00:00,  2.57s/it]"
      }
     },
     "b7dd1b4dfc814fa3b6b996920c8f0612": {
      "model_module": "@jupyter-widgets/controls",
      "model_module_version": "1.5.0",
      "model_name": "HTMLModel",
      "state": {
       "layout": "IPY_MODEL_f60f6e5e80ae48e9a0f049286dda0399",
       "style": "IPY_MODEL_4f8f34f6823f48ae8d4102f40b10a49f",
       "value": " 14/14 [00:34&lt;00:00,  2.58s/it]"
      }
     },
     "b7f078efc25d4d45a8d66e11d244e789": {
      "model_module": "@jupyter-widgets/controls",
      "model_module_version": "1.5.0",
      "model_name": "HTMLModel",
      "state": {
       "layout": "IPY_MODEL_7bc1387af95243a4936c14134903bc0d",
       "style": "IPY_MODEL_10e39dc37bd944b3a6cea613c2c089f3",
       "value": " 14/14 [00:34&lt;00:00,  2.60s/it]"
      }
     },
     "b959d2c248eb480db8aa79fc8a5cb534": {
      "model_module": "@jupyter-widgets/controls",
      "model_module_version": "1.5.0",
      "model_name": "FloatProgressModel",
      "state": {
       "bar_style": "danger",
       "layout": "IPY_MODEL_67597766408742479ce0bf6cc2478e26",
       "max": 3,
       "style": "IPY_MODEL_ed4b45ecdd934060aec1b9f01e6666f3",
       "value": 2
      }
     },
     "b95eedb43b064ce789790750e2c53bb5": {
      "model_module": "@jupyter-widgets/controls",
      "model_module_version": "1.5.0",
      "model_name": "HTMLModel",
      "state": {
       "layout": "IPY_MODEL_da154e78fb2f4ccaaf9eaeb787bacfe6",
       "style": "IPY_MODEL_3cc8526128264bb280238503853a9de7",
       "value": " 3/3 [00:10&lt;00:00,  4.00s/it]"
      }
     },
     "b99910e822374a6b9ce70d7b96324062": {
      "model_module": "@jupyter-widgets/controls",
      "model_module_version": "1.5.0",
      "model_name": "HTMLModel",
      "state": {
       "layout": "IPY_MODEL_4624434e462b4f3592aa0a3f3ada8c5d",
       "style": "IPY_MODEL_ea5c5e28a3084a8e9b220f22ec95964c",
       "value": " 8/8 [00:32&lt;00:00,  4.96s/it]"
      }
     },
     "b9ac73cbe2ab47b6a925b4af56855006": {
      "model_module": "@jupyter-widgets/controls",
      "model_module_version": "1.5.0",
      "model_name": "DescriptionStyleModel",
      "state": {
       "description_width": ""
      }
     },
     "ba13e79393134c15b7c1c317500ab049": {
      "model_module": "@jupyter-widgets/controls",
      "model_module_version": "1.5.0",
      "model_name": "HBoxModel",
      "state": {
       "children": [
        "IPY_MODEL_2cede2330d884562a62166d0d62dcd9b",
        "IPY_MODEL_c873b1ae856c49f88d8310b54344f442",
        "IPY_MODEL_9ee613f03cca4b73a8bc20062ed816c1"
       ],
       "layout": "IPY_MODEL_0eaa5fd6d17d42739186b27b186fa2d4"
      }
     },
     "ba29168235254634b5b1b682e0b4ae4c": {
      "model_module": "@jupyter-widgets/base",
      "model_module_version": "1.2.0",
      "model_name": "LayoutModel",
      "state": {}
     },
     "ba807cc513b74d7d8eeb027c2910b83d": {
      "model_module": "@jupyter-widgets/base",
      "model_module_version": "1.2.0",
      "model_name": "LayoutModel",
      "state": {}
     },
     "bc59be59c8e340218f148d15b9e3c513": {
      "model_module": "@jupyter-widgets/controls",
      "model_module_version": "1.5.0",
      "model_name": "DescriptionStyleModel",
      "state": {
       "description_width": ""
      }
     },
     "bcd1686c6e77476086983a24fa87b982": {
      "model_module": "@jupyter-widgets/base",
      "model_module_version": "1.2.0",
      "model_name": "LayoutModel",
      "state": {}
     },
     "bd101b633ea34ac69246ecb0598515b8": {
      "model_module": "@jupyter-widgets/base",
      "model_module_version": "1.2.0",
      "model_name": "LayoutModel",
      "state": {}
     },
     "bd3f5d9954cd4a91a7381e105cf45022": {
      "model_module": "@jupyter-widgets/controls",
      "model_module_version": "1.5.0",
      "model_name": "HTMLModel",
      "state": {
       "layout": "IPY_MODEL_03a96f3c2a024b0f94090e89d31f9e0a",
       "style": "IPY_MODEL_9cd79e32341d49e79b16310ec2053281",
       "value": "100%"
      }
     },
     "bd439efb587f416c88473e2207f1de00": {
      "model_module": "@jupyter-widgets/base",
      "model_module_version": "1.2.0",
      "model_name": "LayoutModel",
      "state": {}
     },
     "bd7a94334adf4927a42ed12c73654dac": {
      "model_module": "@jupyter-widgets/controls",
      "model_module_version": "1.5.0",
      "model_name": "HTMLModel",
      "state": {
       "layout": "IPY_MODEL_c5559374e5554db0ada7dc65ddf5598f",
       "style": "IPY_MODEL_1fc2b21844534159a368b1806fac3a9b",
       "value": " 3/3 [00:10&lt;00:00,  4.12s/it]"
      }
     },
     "be41d6ae9f344b5ba9b383d3d5c484bf": {
      "model_module": "@jupyter-widgets/base",
      "model_module_version": "1.2.0",
      "model_name": "LayoutModel",
      "state": {}
     },
     "bedfc1ababb04676973768143bce8fbc": {
      "model_module": "@jupyter-widgets/controls",
      "model_module_version": "1.5.0",
      "model_name": "HBoxModel",
      "state": {
       "children": [
        "IPY_MODEL_ff775a243b6949488f74e1dbabacf8a0",
        "IPY_MODEL_3d166a7aee6444dbaa8ad4fbe9667ab8",
        "IPY_MODEL_3e39b41de3b441b9bf4aca91849f83ba"
       ],
       "layout": "IPY_MODEL_3f1e1583b7cc4b0d8c5bcff3dfaae02c"
      }
     },
     "bf2f79d4b8554fe0a9096bcceea7454d": {
      "model_module": "@jupyter-widgets/controls",
      "model_module_version": "1.5.0",
      "model_name": "ProgressStyleModel",
      "state": {
       "description_width": ""
      }
     },
     "bf8a60bc94df456e8eb3e78e65680454": {
      "model_module": "@jupyter-widgets/base",
      "model_module_version": "1.2.0",
      "model_name": "LayoutModel",
      "state": {}
     },
     "bfc48091ec6d4aa88c7cd6e624b2063f": {
      "model_module": "@jupyter-widgets/base",
      "model_module_version": "1.2.0",
      "model_name": "LayoutModel",
      "state": {}
     },
     "c06f451b863c41a2afebcd113177edfd": {
      "model_module": "@jupyter-widgets/controls",
      "model_module_version": "1.5.0",
      "model_name": "DescriptionStyleModel",
      "state": {
       "description_width": ""
      }
     },
     "c0a9ef47e8e84bcba447e99fa44f6883": {
      "model_module": "@jupyter-widgets/controls",
      "model_module_version": "1.5.0",
      "model_name": "HTMLModel",
      "state": {
       "layout": "IPY_MODEL_42084ebcfb5c4a14bb1a8dccb70c02e7",
       "style": "IPY_MODEL_5195b30886ae479ba56e84588a608368",
       "value": " 14/14 [00:35&lt;00:00,  2.62s/it]"
      }
     },
     "c1185f0270fe4f4b904912182604a1b1": {
      "model_module": "@jupyter-widgets/controls",
      "model_module_version": "1.5.0",
      "model_name": "DescriptionStyleModel",
      "state": {
       "description_width": ""
      }
     },
     "c179d82d134c4885b232d00bb921d2c4": {
      "model_module": "@jupyter-widgets/base",
      "model_module_version": "1.2.0",
      "model_name": "LayoutModel",
      "state": {}
     },
     "c25231556e594901b84222ec98cfa76c": {
      "model_module": "@jupyter-widgets/controls",
      "model_module_version": "1.5.0",
      "model_name": "DescriptionStyleModel",
      "state": {
       "description_width": ""
      }
     },
     "c2c9bae4f17b430f94173f93bee66759": {
      "model_module": "@jupyter-widgets/base",
      "model_module_version": "1.2.0",
      "model_name": "LayoutModel",
      "state": {}
     },
     "c2fde99dd01245ec95f086a3473cf135": {
      "model_module": "@jupyter-widgets/controls",
      "model_module_version": "1.5.0",
      "model_name": "FloatProgressModel",
      "state": {
       "bar_style": "success",
       "layout": "IPY_MODEL_fc07b8eb3f2d42398ac37ae004962f19",
       "max": 3,
       "style": "IPY_MODEL_643781621b914dceaab16ab069a89a6c",
       "value": 3
      }
     },
     "c332cc3b2cbe413eb2a2d22f4d95bf59": {
      "model_module": "@jupyter-widgets/base",
      "model_module_version": "1.2.0",
      "model_name": "LayoutModel",
      "state": {}
     },
     "c34809797e2148929c31c45e8f49a95c": {
      "model_module": "@jupyter-widgets/base",
      "model_module_version": "1.2.0",
      "model_name": "LayoutModel",
      "state": {}
     },
     "c490158c2f7840d58b26921802f03980": {
      "model_module": "@jupyter-widgets/controls",
      "model_module_version": "1.5.0",
      "model_name": "HBoxModel",
      "state": {
       "children": [
        "IPY_MODEL_40ad493a779948fb877b8f1efbeb96ff",
        "IPY_MODEL_777f86a86f664c9cb9be08b5315a4d59",
        "IPY_MODEL_8b057534064a4e3686cd34358bb93401"
       ],
       "layout": "IPY_MODEL_dfe293cf4ff94c02886d72dddbd301f1"
      }
     },
     "c4dbd55522644ecd95b7a3ba72ba3395": {
      "model_module": "@jupyter-widgets/controls",
      "model_module_version": "1.5.0",
      "model_name": "DescriptionStyleModel",
      "state": {
       "description_width": ""
      }
     },
     "c5559374e5554db0ada7dc65ddf5598f": {
      "model_module": "@jupyter-widgets/base",
      "model_module_version": "1.2.0",
      "model_name": "LayoutModel",
      "state": {}
     },
     "c5989e198ec944dc8b7775b5705d73e5": {
      "model_module": "@jupyter-widgets/controls",
      "model_module_version": "1.5.0",
      "model_name": "ProgressStyleModel",
      "state": {
       "description_width": ""
      }
     },
     "c5bdc1aea1dc42808c80934112cab5ca": {
      "model_module": "@jupyter-widgets/controls",
      "model_module_version": "1.5.0",
      "model_name": "ProgressStyleModel",
      "state": {
       "description_width": ""
      }
     },
     "c61e0f4c117a4d1186762baca090503c": {
      "model_module": "@jupyter-widgets/base",
      "model_module_version": "1.2.0",
      "model_name": "LayoutModel",
      "state": {}
     },
     "c654e302892f4bfba0927c5f041e3257": {
      "model_module": "@jupyter-widgets/controls",
      "model_module_version": "1.5.0",
      "model_name": "ProgressStyleModel",
      "state": {
       "description_width": ""
      }
     },
     "c699b778decd49ad962699ab3183abb0": {
      "model_module": "@jupyter-widgets/controls",
      "model_module_version": "1.5.0",
      "model_name": "HTMLModel",
      "state": {
       "layout": "IPY_MODEL_271e20a9175e435b9e432bb49ff28515",
       "style": "IPY_MODEL_c4dbd55522644ecd95b7a3ba72ba3395",
       "value": " 3/3 [00:10&lt;00:00,  4.22s/it]"
      }
     },
     "c6b33421e33f4b0380e00957941ef8db": {
      "model_module": "@jupyter-widgets/controls",
      "model_module_version": "1.5.0",
      "model_name": "ProgressStyleModel",
      "state": {
       "description_width": ""
      }
     },
     "c873b1ae856c49f88d8310b54344f442": {
      "model_module": "@jupyter-widgets/controls",
      "model_module_version": "1.5.0",
      "model_name": "FloatProgressModel",
      "state": {
       "bar_style": "success",
       "layout": "IPY_MODEL_9f7187b4ecb342f2a742a39abb381f9d",
       "max": 14,
       "style": "IPY_MODEL_ad49430f601441eebcd6fdf140b752d4",
       "value": 14
      }
     },
     "c8cd1c4149dd4c7687e4eb640ff716a8": {
      "model_module": "@jupyter-widgets/controls",
      "model_module_version": "1.5.0",
      "model_name": "HBoxModel",
      "state": {
       "children": [
        "IPY_MODEL_631c4e5439134b44aa2abb0f2d6114da",
        "IPY_MODEL_8c4974d3c01f4a0ab4612bcd9d2c487e",
        "IPY_MODEL_0dc955968bf4464581e4aff52c7e0667"
       ],
       "layout": "IPY_MODEL_3c3b7115d2d34299bac7a54a435f0f3c"
      }
     },
     "c931633d20a244ef9feb92c378ca50c7": {
      "model_module": "@jupyter-widgets/base",
      "model_module_version": "1.2.0",
      "model_name": "LayoutModel",
      "state": {}
     },
     "c9926b82ab4345ebbeaf72d68b2d7259": {
      "model_module": "@jupyter-widgets/base",
      "model_module_version": "1.2.0",
      "model_name": "LayoutModel",
      "state": {}
     },
     "c9f8cbc07cae4d238f0b15e9e0fa371b": {
      "model_module": "@jupyter-widgets/controls",
      "model_module_version": "1.5.0",
      "model_name": "HBoxModel",
      "state": {
       "children": [
        "IPY_MODEL_34606ce89b63484aad57b4a2d451950c",
        "IPY_MODEL_90847593a34c4349a601197e200e330b",
        "IPY_MODEL_21b051ce1eb44d588eb8484bfb57c09c"
       ],
       "layout": "IPY_MODEL_4b756571316644e7a1e95bfff335a728"
      }
     },
     "ca08d7ee14214e2ebed567205b819df1": {
      "model_module": "@jupyter-widgets/controls",
      "model_module_version": "1.5.0",
      "model_name": "HTMLModel",
      "state": {
       "layout": "IPY_MODEL_a6ec0e6de8ed4d18943486d916631bb3",
       "style": "IPY_MODEL_f088742121f542cdb895747b227deca2",
       "value": "100%"
      }
     },
     "caae53edbd58462cbc39966b1649dff7": {
      "model_module": "@jupyter-widgets/base",
      "model_module_version": "1.2.0",
      "model_name": "LayoutModel",
      "state": {}
     },
     "cb08a9ff3d324eb28b1c29892c887232": {
      "model_module": "@jupyter-widgets/controls",
      "model_module_version": "1.5.0",
      "model_name": "HTMLModel",
      "state": {
       "layout": "IPY_MODEL_56a6bad0b666407a9367de9bf30fd660",
       "style": "IPY_MODEL_e90406da19364701938d300128db6610",
       "value": " 14/14 [00:34&lt;00:00,  2.57s/it]"
      }
     },
     "cb816fa26def400fb32343b0dd2f8917": {
      "model_module": "@jupyter-widgets/controls",
      "model_module_version": "1.5.0",
      "model_name": "DescriptionStyleModel",
      "state": {
       "description_width": ""
      }
     },
     "cbd5356061a440dbb53782fc01963ceb": {
      "model_module": "@jupyter-widgets/controls",
      "model_module_version": "1.5.0",
      "model_name": "ProgressStyleModel",
      "state": {
       "description_width": ""
      }
     },
     "cbd792511fbc4743b175d6ca42fbf072": {
      "model_module": "@jupyter-widgets/base",
      "model_module_version": "1.2.0",
      "model_name": "LayoutModel",
      "state": {}
     },
     "cbfe7897a6824407ae27d9e2624c90fd": {
      "model_module": "@jupyter-widgets/controls",
      "model_module_version": "1.5.0",
      "model_name": "HBoxModel",
      "state": {
       "children": [
        "IPY_MODEL_3e0b8257b09045b9bb0d57dfa5fc8945",
        "IPY_MODEL_5bc99c916ebd414daf96f69f725d40ea",
        "IPY_MODEL_6ba368873182486380ecad62d4aec0de"
       ],
       "layout": "IPY_MODEL_c332cc3b2cbe413eb2a2d22f4d95bf59"
      }
     },
     "cc49fe955bc9415abe5836ccaad61025": {
      "model_module": "@jupyter-widgets/base",
      "model_module_version": "1.2.0",
      "model_name": "LayoutModel",
      "state": {}
     },
     "cc70f9b3c01c457b99cccc2760db08c8": {
      "model_module": "@jupyter-widgets/base",
      "model_module_version": "1.2.0",
      "model_name": "LayoutModel",
      "state": {}
     },
     "cc828325858743d1a489b03205ca511f": {
      "model_module": "@jupyter-widgets/controls",
      "model_module_version": "1.5.0",
      "model_name": "HTMLModel",
      "state": {
       "layout": "IPY_MODEL_58f0f746e8004a5fafe76d9dcdb1209b",
       "style": "IPY_MODEL_a0123662844f4a149a0432231f34ba9f",
       "value": "100%"
      }
     },
     "ccc5bf5d8d9348dfadf4db618a2aee02": {
      "model_module": "@jupyter-widgets/controls",
      "model_module_version": "1.5.0",
      "model_name": "FloatProgressModel",
      "state": {
       "bar_style": "success",
       "layout": "IPY_MODEL_478294a04e59466e9eb976ac1abe3192",
       "max": 3,
       "style": "IPY_MODEL_dab4fd7806aa4fc0ba7c459b813d3f9d",
       "value": 3
      }
     },
     "cd78b7965d4d428a8cb50a5b211e9793": {
      "model_module": "@jupyter-widgets/controls",
      "model_module_version": "1.5.0",
      "model_name": "ProgressStyleModel",
      "state": {
       "description_width": ""
      }
     },
     "ce1f0f894a92465db9af08981e3b5c55": {
      "model_module": "@jupyter-widgets/base",
      "model_module_version": "1.2.0",
      "model_name": "LayoutModel",
      "state": {}
     },
     "ceb07ebb580242619894a2c16e706be0": {
      "model_module": "@jupyter-widgets/base",
      "model_module_version": "1.2.0",
      "model_name": "LayoutModel",
      "state": {}
     },
     "ceb09d33dd824785acf3458f0f6f5b90": {
      "model_module": "@jupyter-widgets/controls",
      "model_module_version": "1.5.0",
      "model_name": "ProgressStyleModel",
      "state": {
       "description_width": ""
      }
     },
     "cf54b1ccc6414c8a97397e2727460764": {
      "model_module": "@jupyter-widgets/base",
      "model_module_version": "1.2.0",
      "model_name": "LayoutModel",
      "state": {}
     },
     "cf74716173fd494f8ea0332793acb220": {
      "model_module": "@jupyter-widgets/base",
      "model_module_version": "1.2.0",
      "model_name": "LayoutModel",
      "state": {}
     },
     "d13dd26971b44151b9d2858eba28a261": {
      "model_module": "@jupyter-widgets/controls",
      "model_module_version": "1.5.0",
      "model_name": "DescriptionStyleModel",
      "state": {
       "description_width": ""
      }
     },
     "d19518513e8a44dfa6fb2814c8c8f05d": {
      "model_module": "@jupyter-widgets/controls",
      "model_module_version": "1.5.0",
      "model_name": "DescriptionStyleModel",
      "state": {
       "description_width": ""
      }
     },
     "d198ef45d5a04f10855f3477e5f4f784": {
      "model_module": "@jupyter-widgets/base",
      "model_module_version": "1.2.0",
      "model_name": "LayoutModel",
      "state": {}
     },
     "d1d58a82f6344ab2a101af2e41334a21": {
      "model_module": "@jupyter-widgets/base",
      "model_module_version": "1.2.0",
      "model_name": "LayoutModel",
      "state": {}
     },
     "d2089328393446879bd5bea14c4c46d4": {
      "model_module": "@jupyter-widgets/base",
      "model_module_version": "1.2.0",
      "model_name": "LayoutModel",
      "state": {}
     },
     "d23780089de748e3a6494a99c3811a90": {
      "model_module": "@jupyter-widgets/base",
      "model_module_version": "1.2.0",
      "model_name": "LayoutModel",
      "state": {}
     },
     "d2f142dce1c9498c806f06a30b43f04b": {
      "model_module": "@jupyter-widgets/controls",
      "model_module_version": "1.5.0",
      "model_name": "FloatProgressModel",
      "state": {
       "bar_style": "success",
       "layout": "IPY_MODEL_6fcff024baf2498bb3ac78f0d1527144",
       "max": 14,
       "style": "IPY_MODEL_3e41b6f6cbc4447a8970ae9f5bb50caf",
       "value": 14
      }
     },
     "d3134f14b8944f4987bb3b46c8f59e6d": {
      "model_module": "@jupyter-widgets/controls",
      "model_module_version": "1.5.0",
      "model_name": "FloatProgressModel",
      "state": {
       "bar_style": "success",
       "layout": "IPY_MODEL_87ed297c898a4aa8a059c3d7c6418959",
       "max": 14,
       "style": "IPY_MODEL_416740e46d6445bdab71fba20bb12459",
       "value": 14
      }
     },
     "d463b721d2be4341b9411cf03bac5304": {
      "model_module": "@jupyter-widgets/controls",
      "model_module_version": "1.5.0",
      "model_name": "DescriptionStyleModel",
      "state": {
       "description_width": ""
      }
     },
     "d508b30885034954883d0ecb2f25290a": {
      "model_module": "@jupyter-widgets/controls",
      "model_module_version": "1.5.0",
      "model_name": "FloatProgressModel",
      "state": {
       "bar_style": "success",
       "layout": "IPY_MODEL_c34809797e2148929c31c45e8f49a95c",
       "max": 3,
       "style": "IPY_MODEL_24aeaa95de3f4885976b8a9a38c9b3bf",
       "value": 3
      }
     },
     "d545003943714d8c998b2c7a376fd3ff": {
      "model_module": "@jupyter-widgets/base",
      "model_module_version": "1.2.0",
      "model_name": "LayoutModel",
      "state": {}
     },
     "d6e18d7031c9403c8ab3e13577ae7c18": {
      "model_module": "@jupyter-widgets/base",
      "model_module_version": "1.2.0",
      "model_name": "LayoutModel",
      "state": {}
     },
     "d73879b228ab41edbd87b375a6c4d3eb": {
      "model_module": "@jupyter-widgets/controls",
      "model_module_version": "1.5.0",
      "model_name": "FloatProgressModel",
      "state": {
       "bar_style": "success",
       "layout": "IPY_MODEL_946cadf61f5e47fd8270beb2329cf33b",
       "max": 3,
       "style": "IPY_MODEL_59116e8e1096438c959870c7d5a626e4",
       "value": 3
      }
     },
     "d7843afa00d04ccfa17c4f7a2c0ead9c": {
      "model_module": "@jupyter-widgets/controls",
      "model_module_version": "1.5.0",
      "model_name": "HTMLModel",
      "state": {
       "layout": "IPY_MODEL_dcad3c2850bd4b17934478b75dc1d522",
       "style": "IPY_MODEL_11d0dc6ff6db4abe8434128bba74e17a",
       "value": "100%"
      }
     },
     "d790f3b779934eee8348804dd22ba3c1": {
      "model_module": "@jupyter-widgets/base",
      "model_module_version": "1.2.0",
      "model_name": "LayoutModel",
      "state": {}
     },
     "d79d6b73af2144729bed6a955c95e6e1": {
      "model_module": "@jupyter-widgets/controls",
      "model_module_version": "1.5.0",
      "model_name": "HTMLModel",
      "state": {
       "layout": "IPY_MODEL_39954bc2a54d43c78994d415f66343e6",
       "style": "IPY_MODEL_0f26d84da7c14a52a03a1d4cfbbc0405",
       "value": "100%"
      }
     },
     "d7b063232f184ceca6520530d9f21b38": {
      "model_module": "@jupyter-widgets/controls",
      "model_module_version": "1.5.0",
      "model_name": "DescriptionStyleModel",
      "state": {
       "description_width": ""
      }
     },
     "d7d389b119e943efb26c211533ca5275": {
      "model_module": "@jupyter-widgets/controls",
      "model_module_version": "1.5.0",
      "model_name": "FloatProgressModel",
      "state": {
       "bar_style": "success",
       "layout": "IPY_MODEL_e26fc1c804f246fdacba70c9768b3757",
       "max": 14,
       "style": "IPY_MODEL_9a104c1a479a4b499033e7c555c78f9e",
       "value": 14
      }
     },
     "d839910f6a224af7a9deb86a641b9b32": {
      "model_module": "@jupyter-widgets/controls",
      "model_module_version": "1.5.0",
      "model_name": "HBoxModel",
      "state": {
       "children": [
        "IPY_MODEL_0063857eab204d448a73753b8424dbad",
        "IPY_MODEL_7f39e4fb792e4f0dbe1c7c27002d693a",
        "IPY_MODEL_8119cd3961734583bf6db0c483e7f3a5"
       ],
       "layout": "IPY_MODEL_8884c47ab3c441ce8df0a22eac4b497e"
      }
     },
     "d83ded3010ff4830bdcfd81c9fcef800": {
      "model_module": "@jupyter-widgets/controls",
      "model_module_version": "1.5.0",
      "model_name": "ProgressStyleModel",
      "state": {
       "description_width": ""
      }
     },
     "d83e8dcffaef45478777c81975daeb66": {
      "model_module": "@jupyter-widgets/controls",
      "model_module_version": "1.5.0",
      "model_name": "HTMLModel",
      "state": {
       "layout": "IPY_MODEL_6176e82b1a604fb6b50991303317d235",
       "style": "IPY_MODEL_8ec11039193343d798c4d59b2cfe705b",
       "value": " 3/3 [00:10&lt;00:00,  4.19s/it]"
      }
     },
     "d87a02a290ab42fb8f24de71c309cf8f": {
      "model_module": "@jupyter-widgets/controls",
      "model_module_version": "1.5.0",
      "model_name": "DescriptionStyleModel",
      "state": {
       "description_width": ""
      }
     },
     "d87c3678554943cfaf04488344ff5fe6": {
      "model_module": "@jupyter-widgets/base",
      "model_module_version": "1.2.0",
      "model_name": "LayoutModel",
      "state": {}
     },
     "d8b129d3a2c341ac9bc912eaa595c0a3": {
      "model_module": "@jupyter-widgets/base",
      "model_module_version": "1.2.0",
      "model_name": "LayoutModel",
      "state": {}
     },
     "d8dded7411de4690a558a1ae7a282d56": {
      "model_module": "@jupyter-widgets/controls",
      "model_module_version": "1.5.0",
      "model_name": "DescriptionStyleModel",
      "state": {
       "description_width": ""
      }
     },
     "da154e78fb2f4ccaaf9eaeb787bacfe6": {
      "model_module": "@jupyter-widgets/base",
      "model_module_version": "1.2.0",
      "model_name": "LayoutModel",
      "state": {}
     },
     "dab4fd7806aa4fc0ba7c459b813d3f9d": {
      "model_module": "@jupyter-widgets/controls",
      "model_module_version": "1.5.0",
      "model_name": "ProgressStyleModel",
      "state": {
       "description_width": ""
      }
     },
     "dab97a99fde448d99052d64e95b5cf63": {
      "model_module": "@jupyter-widgets/base",
      "model_module_version": "1.2.0",
      "model_name": "LayoutModel",
      "state": {}
     },
     "dc0cb38431e34554a24eb56835159b14": {
      "model_module": "@jupyter-widgets/base",
      "model_module_version": "1.2.0",
      "model_name": "LayoutModel",
      "state": {}
     },
     "dc0dd2981a724c11960fdfb9c4753949": {
      "model_module": "@jupyter-widgets/controls",
      "model_module_version": "1.5.0",
      "model_name": "HTMLModel",
      "state": {
       "layout": "IPY_MODEL_f4f9b0038c9c44619b86920342744735",
       "style": "IPY_MODEL_7aab256f06ef4b9e8565daa375e42e01",
       "value": "100%"
      }
     },
     "dc68bf3968c245a59d61247ef22df629": {
      "model_module": "@jupyter-widgets/base",
      "model_module_version": "1.2.0",
      "model_name": "LayoutModel",
      "state": {}
     },
     "dcad3c2850bd4b17934478b75dc1d522": {
      "model_module": "@jupyter-widgets/base",
      "model_module_version": "1.2.0",
      "model_name": "LayoutModel",
      "state": {}
     },
     "dcca8bf40bd64061b09a211cc68bba61": {
      "model_module": "@jupyter-widgets/controls",
      "model_module_version": "1.5.0",
      "model_name": "HTMLModel",
      "state": {
       "layout": "IPY_MODEL_4664fa510ec24a1f8e977e573fdb1129",
       "style": "IPY_MODEL_614f7e74e8964772bbf709eec39a1524",
       "value": "100%"
      }
     },
     "dcead6a4bc7c4ebd98c57b29a4cbd66a": {
      "model_module": "@jupyter-widgets/base",
      "model_module_version": "1.2.0",
      "model_name": "LayoutModel",
      "state": {}
     },
     "dd17114b4a1c46e3880a89bcd314b090": {
      "model_module": "@jupyter-widgets/controls",
      "model_module_version": "1.5.0",
      "model_name": "FloatProgressModel",
      "state": {
       "bar_style": "success",
       "layout": "IPY_MODEL_a422eb421d334c8a8df8cec41b824897",
       "max": 14,
       "style": "IPY_MODEL_83367f94883e4fd6883bf6596850b72c",
       "value": 14
      }
     },
     "dd17374c13934f22b4d149c3c17afd1d": {
      "model_module": "@jupyter-widgets/controls",
      "model_module_version": "1.5.0",
      "model_name": "HTMLModel",
      "state": {
       "layout": "IPY_MODEL_1770df0cfa014ba89fca32d9ccf66276",
       "style": "IPY_MODEL_23ff1d5181ff474a8548c4341dace698",
       "value": " 14/14 [00:35&lt;00:00,  2.63s/it]"
      }
     },
     "dd4cfe4c1c19432d814165e8bfcadbdb": {
      "model_module": "@jupyter-widgets/controls",
      "model_module_version": "1.5.0",
      "model_name": "HTMLModel",
      "state": {
       "layout": "IPY_MODEL_77569b61b9f94b3bba023f8f25e98d70",
       "style": "IPY_MODEL_4fe88752d63e465dacddb2e96db851fc",
       "value": " 3/3 [00:10&lt;00:00,  4.18s/it]"
      }
     },
     "ddd0a93088564db392114ce48622e704": {
      "model_module": "@jupyter-widgets/controls",
      "model_module_version": "1.5.0",
      "model_name": "DescriptionStyleModel",
      "state": {
       "description_width": ""
      }
     },
     "de728bf9065147a785cfed2cb35fefdb": {
      "model_module": "@jupyter-widgets/controls",
      "model_module_version": "1.5.0",
      "model_name": "ProgressStyleModel",
      "state": {
       "description_width": ""
      }
     },
     "df91ae866b7c4ab583dd9c521498031c": {
      "model_module": "@jupyter-widgets/controls",
      "model_module_version": "1.5.0",
      "model_name": "DescriptionStyleModel",
      "state": {
       "description_width": ""
      }
     },
     "dfe293cf4ff94c02886d72dddbd301f1": {
      "model_module": "@jupyter-widgets/base",
      "model_module_version": "1.2.0",
      "model_name": "LayoutModel",
      "state": {}
     },
     "e00f2d4bde8d4977a2c1fcf12272aee9": {
      "model_module": "@jupyter-widgets/base",
      "model_module_version": "1.2.0",
      "model_name": "LayoutModel",
      "state": {}
     },
     "e026cb4a76f64518aa80c32c5d6bc6d6": {
      "model_module": "@jupyter-widgets/controls",
      "model_module_version": "1.5.0",
      "model_name": "HTMLModel",
      "state": {
       "layout": "IPY_MODEL_dab97a99fde448d99052d64e95b5cf63",
       "style": "IPY_MODEL_73d6e42220b34c1db7c9c32952805469",
       "value": " 14/14 [00:34&lt;00:00,  2.55s/it]"
      }
     },
     "e07857edb1ab4b4aa304bfdd6b694ad9": {
      "model_module": "@jupyter-widgets/controls",
      "model_module_version": "1.5.0",
      "model_name": "HBoxModel",
      "state": {
       "children": [
        "IPY_MODEL_0f9c8d0f704c4e5ba707cf9fc4bd45ae",
        "IPY_MODEL_e33c825926f441ecb36ebe2d47c4af8f",
        "IPY_MODEL_dd17374c13934f22b4d149c3c17afd1d"
       ],
       "layout": "IPY_MODEL_2170228775ec4e85803342171d2bcc44"
      }
     },
     "e11311ed201b4eec8375f0060b43cdd3": {
      "model_module": "@jupyter-widgets/base",
      "model_module_version": "1.2.0",
      "model_name": "LayoutModel",
      "state": {}
     },
     "e11500d7c68642fbb6c1587fa476ab91": {
      "model_module": "@jupyter-widgets/controls",
      "model_module_version": "1.5.0",
      "model_name": "DescriptionStyleModel",
      "state": {
       "description_width": ""
      }
     },
     "e1c181b12aa041edae8c0265a09202d8": {
      "model_module": "@jupyter-widgets/controls",
      "model_module_version": "1.5.0",
      "model_name": "ProgressStyleModel",
      "state": {
       "description_width": ""
      }
     },
     "e23df4b8b10148898f49280b3bd8308a": {
      "model_module": "@jupyter-widgets/base",
      "model_module_version": "1.2.0",
      "model_name": "LayoutModel",
      "state": {}
     },
     "e245076ed2dc4397ab5a192b2f9ecd9c": {
      "model_module": "@jupyter-widgets/controls",
      "model_module_version": "1.5.0",
      "model_name": "HBoxModel",
      "state": {
       "children": [
        "IPY_MODEL_0d4bc172676c4414864818a4ac6416fe",
        "IPY_MODEL_341a7cfa9b9240699db09f61bf95cb69",
        "IPY_MODEL_761febfec9434d18a10e7a292405c5d3"
       ],
       "layout": "IPY_MODEL_055973be849e46938f53875663039720"
      }
     },
     "e26fc1c804f246fdacba70c9768b3757": {
      "model_module": "@jupyter-widgets/base",
      "model_module_version": "1.2.0",
      "model_name": "LayoutModel",
      "state": {}
     },
     "e27c6e761b364d56bc2c9cee005861aa": {
      "model_module": "@jupyter-widgets/controls",
      "model_module_version": "1.5.0",
      "model_name": "DescriptionStyleModel",
      "state": {
       "description_width": ""
      }
     },
     "e2a0c13496744ad68d896d64a962e737": {
      "model_module": "@jupyter-widgets/controls",
      "model_module_version": "1.5.0",
      "model_name": "FloatProgressModel",
      "state": {
       "bar_style": "success",
       "layout": "IPY_MODEL_8fa32913544f4ff7ae6cc19b754896c1",
       "max": 14,
       "style": "IPY_MODEL_876f19a2a1274dfaab89aed4f6d34307",
       "value": 14
      }
     },
     "e2bebc0e11bb4c67b655a2bb0e52d17c": {
      "model_module": "@jupyter-widgets/controls",
      "model_module_version": "1.5.0",
      "model_name": "HTMLModel",
      "state": {
       "layout": "IPY_MODEL_5627352635654cd58c96ca414f1e6114",
       "style": "IPY_MODEL_a7d4d21d229e48928273980fb1f57c78",
       "value": "100%"
      }
     },
     "e2df143c4ac449a490b970fc5d42903d": {
      "model_module": "@jupyter-widgets/base",
      "model_module_version": "1.2.0",
      "model_name": "LayoutModel",
      "state": {}
     },
     "e2f9c553cda84b29b8912d2d332ae8cb": {
      "model_module": "@jupyter-widgets/controls",
      "model_module_version": "1.5.0",
      "model_name": "HTMLModel",
      "state": {
       "layout": "IPY_MODEL_e23df4b8b10148898f49280b3bd8308a",
       "style": "IPY_MODEL_eb4181bebf4d410e8b5c7badfad5bfda",
       "value": " 3/3 [00:10&lt;00:00,  4.20s/it]"
      }
     },
     "e33c825926f441ecb36ebe2d47c4af8f": {
      "model_module": "@jupyter-widgets/controls",
      "model_module_version": "1.5.0",
      "model_name": "FloatProgressModel",
      "state": {
       "bar_style": "success",
       "layout": "IPY_MODEL_5b069813b89b417297a48aeb2154fe67",
       "max": 14,
       "style": "IPY_MODEL_f46f147ed767438095a88af5a63a467a",
       "value": 14
      }
     },
     "e370ebab14334b8aba9bb8bfed09edb4": {
      "model_module": "@jupyter-widgets/controls",
      "model_module_version": "1.5.0",
      "model_name": "HBoxModel",
      "state": {
       "children": [
        "IPY_MODEL_6f794c624be94766aa1173d268857714",
        "IPY_MODEL_0d3409116f40446cbda24b66b80c0548",
        "IPY_MODEL_9860d769f6e5456f8ab1d86485f89b89"
       ],
       "layout": "IPY_MODEL_bf8a60bc94df456e8eb3e78e65680454"
      }
     },
     "e3713f550fe34209b0ca21db1baa24aa": {
      "model_module": "@jupyter-widgets/controls",
      "model_module_version": "1.5.0",
      "model_name": "HTMLModel",
      "state": {
       "layout": "IPY_MODEL_f21572dd0fec42ae9fb1501edcecfecb",
       "style": "IPY_MODEL_a2955b360dac453d8c26fa7c5687f081",
       "value": "100%"
      }
     },
     "e40cca4a10a44e0dbd27b705095264cc": {
      "model_module": "@jupyter-widgets/base",
      "model_module_version": "1.2.0",
      "model_name": "LayoutModel",
      "state": {}
     },
     "e49fc61a072143458af206edcef6af8c": {
      "model_module": "@jupyter-widgets/controls",
      "model_module_version": "1.5.0",
      "model_name": "DescriptionStyleModel",
      "state": {
       "description_width": ""
      }
     },
     "e4fee53c94fa471e8eb4b075e0b60ed2": {
      "model_module": "@jupyter-widgets/controls",
      "model_module_version": "1.5.0",
      "model_name": "ProgressStyleModel",
      "state": {
       "description_width": ""
      }
     },
     "e521aa828dc94af28f7c171bf9ee1566": {
      "model_module": "@jupyter-widgets/controls",
      "model_module_version": "1.5.0",
      "model_name": "HBoxModel",
      "state": {
       "children": [
        "IPY_MODEL_e585bad70ab040b2929b40c8daac6003",
        "IPY_MODEL_ccc5bf5d8d9348dfadf4db618a2aee02",
        "IPY_MODEL_854dbd68562548558ed1aa363a4554d2"
       ],
       "layout": "IPY_MODEL_67510021658848edbe477ad4bc8038f4"
      }
     },
     "e5627be0bb0747cbb16d4c50cdc94823": {
      "model_module": "@jupyter-widgets/base",
      "model_module_version": "1.2.0",
      "model_name": "LayoutModel",
      "state": {}
     },
     "e585bad70ab040b2929b40c8daac6003": {
      "model_module": "@jupyter-widgets/controls",
      "model_module_version": "1.5.0",
      "model_name": "HTMLModel",
      "state": {
       "layout": "IPY_MODEL_8d0d8c956fc0459f905a8b1a41ffe4fe",
       "style": "IPY_MODEL_7e6348b6f12249d5968b9eb97f166010",
       "value": "100%"
      }
     },
     "e59fd9367547423fbe88c0a69e5b5d4f": {
      "model_module": "@jupyter-widgets/base",
      "model_module_version": "1.2.0",
      "model_name": "LayoutModel",
      "state": {}
     },
     "e5ce606a16644d659863680e146e4706": {
      "model_module": "@jupyter-widgets/base",
      "model_module_version": "1.2.0",
      "model_name": "LayoutModel",
      "state": {}
     },
     "e5d5e45fb4914148aa722874d820f5b3": {
      "model_module": "@jupyter-widgets/controls",
      "model_module_version": "1.5.0",
      "model_name": "FloatProgressModel",
      "state": {
       "bar_style": "success",
       "layout": "IPY_MODEL_c61e0f4c117a4d1186762baca090503c",
       "max": 3,
       "style": "IPY_MODEL_332676bbba814a449eedc22d227442ce",
       "value": 3
      }
     },
     "e6344aec656a4e2ebe984c2af55086ee": {
      "model_module": "@jupyter-widgets/controls",
      "model_module_version": "1.5.0",
      "model_name": "HTMLModel",
      "state": {
       "layout": "IPY_MODEL_3b0a2073456e43cbbc07113f5a06cd57",
       "style": "IPY_MODEL_3f64a682d5ca417bb12d96354fe97ee4",
       "value": " 14/14 [00:34&lt;00:00,  2.55s/it]"
      }
     },
     "e6601afb4f444433a8d2e37f465f45ab": {
      "model_module": "@jupyter-widgets/controls",
      "model_module_version": "1.5.0",
      "model_name": "DescriptionStyleModel",
      "state": {
       "description_width": ""
      }
     },
     "e67dee11d433417985572ac96d041333": {
      "model_module": "@jupyter-widgets/base",
      "model_module_version": "1.2.0",
      "model_name": "LayoutModel",
      "state": {}
     },
     "e6a099540d1b4981b0354d13867760e0": {
      "model_module": "@jupyter-widgets/controls",
      "model_module_version": "1.5.0",
      "model_name": "FloatProgressModel",
      "state": {
       "bar_style": "success",
       "layout": "IPY_MODEL_c2c9bae4f17b430f94173f93bee66759",
       "max": 14,
       "style": "IPY_MODEL_99424901800049039cf89f5962ef052d",
       "value": 14
      }
     },
     "e704b69e2c0147598b87d70959cc1d19": {
      "model_module": "@jupyter-widgets/base",
      "model_module_version": "1.2.0",
      "model_name": "LayoutModel",
      "state": {}
     },
     "e70f3c2d70b247df9fb2de2b32a22bdd": {
      "model_module": "@jupyter-widgets/controls",
      "model_module_version": "1.5.0",
      "model_name": "HTMLModel",
      "state": {
       "layout": "IPY_MODEL_90923c837e1b4ab9bc13f1267d9159d8",
       "style": "IPY_MODEL_abbeb2c6abf448dda079c6cbb462781b",
       "value": " 3/3 [00:10&lt;00:00,  4.12s/it]"
      }
     },
     "e83b55d4dce248a9ad00d59b4f589287": {
      "model_module": "@jupyter-widgets/controls",
      "model_module_version": "1.5.0",
      "model_name": "FloatProgressModel",
      "state": {
       "bar_style": "success",
       "layout": "IPY_MODEL_74b140d56f264876ad3baac400674e81",
       "max": 3,
       "style": "IPY_MODEL_56f349348df141708ca826a50e524d41",
       "value": 3
      }
     },
     "e888eadbc7f94bd8a49318165d57b41e": {
      "model_module": "@jupyter-widgets/base",
      "model_module_version": "1.2.0",
      "model_name": "LayoutModel",
      "state": {}
     },
     "e8f26801067b4ef1828250d9824be275": {
      "model_module": "@jupyter-widgets/controls",
      "model_module_version": "1.5.0",
      "model_name": "ProgressStyleModel",
      "state": {
       "description_width": ""
      }
     },
     "e90406da19364701938d300128db6610": {
      "model_module": "@jupyter-widgets/controls",
      "model_module_version": "1.5.0",
      "model_name": "DescriptionStyleModel",
      "state": {
       "description_width": ""
      }
     },
     "e9851f713d7243c19f16d596d8687237": {
      "model_module": "@jupyter-widgets/controls",
      "model_module_version": "1.5.0",
      "model_name": "DescriptionStyleModel",
      "state": {
       "description_width": ""
      }
     },
     "e9c5bf0eb79e49b88e40dc586ebe3e7c": {
      "model_module": "@jupyter-widgets/base",
      "model_module_version": "1.2.0",
      "model_name": "LayoutModel",
      "state": {}
     },
     "ea5c5e28a3084a8e9b220f22ec95964c": {
      "model_module": "@jupyter-widgets/controls",
      "model_module_version": "1.5.0",
      "model_name": "DescriptionStyleModel",
      "state": {
       "description_width": ""
      }
     },
     "eb4181bebf4d410e8b5c7badfad5bfda": {
      "model_module": "@jupyter-widgets/controls",
      "model_module_version": "1.5.0",
      "model_name": "DescriptionStyleModel",
      "state": {
       "description_width": ""
      }
     },
     "eba97bc2fe554e4d89a75a68452728ea": {
      "model_module": "@jupyter-widgets/controls",
      "model_module_version": "1.5.0",
      "model_name": "HTMLModel",
      "state": {
       "layout": "IPY_MODEL_e5ce606a16644d659863680e146e4706",
       "style": "IPY_MODEL_3282bc86098446bebd1e8f06a0a2af04",
       "value": " 3/3 [00:11&lt;00:00,  4.30s/it]"
      }
     },
     "ec90cfce9177485b883662ef681ad8d6": {
      "model_module": "@jupyter-widgets/controls",
      "model_module_version": "1.5.0",
      "model_name": "HTMLModel",
      "state": {
       "layout": "IPY_MODEL_5256fcf8c90746a2b585640096aabcd5",
       "style": "IPY_MODEL_59b8436cb07c42e9bc5b74d1bab28248",
       "value": "100%"
      }
     },
     "ed4b45ecdd934060aec1b9f01e6666f3": {
      "model_module": "@jupyter-widgets/controls",
      "model_module_version": "1.5.0",
      "model_name": "ProgressStyleModel",
      "state": {
       "description_width": ""
      }
     },
     "edba1ebe3a684c6da97596e98b5211a5": {
      "model_module": "@jupyter-widgets/base",
      "model_module_version": "1.2.0",
      "model_name": "LayoutModel",
      "state": {}
     },
     "edd4ff7f3e974300b167832d9129ddc9": {
      "model_module": "@jupyter-widgets/controls",
      "model_module_version": "1.5.0",
      "model_name": "DescriptionStyleModel",
      "state": {
       "description_width": ""
      }
     },
     "edf5997f4a0c488abc2bd51d603e413b": {
      "model_module": "@jupyter-widgets/base",
      "model_module_version": "1.2.0",
      "model_name": "LayoutModel",
      "state": {}
     },
     "ee2dd5434a194971bea98ba72eb8aad9": {
      "model_module": "@jupyter-widgets/controls",
      "model_module_version": "1.5.0",
      "model_name": "HBoxModel",
      "state": {
       "children": [
        "IPY_MODEL_81fd12c7fc3c414b93a7481f3fb7da1e",
        "IPY_MODEL_f48e026983244ac9ac89fe0530611c84",
        "IPY_MODEL_b7dc5056499647e6b599be2a6894c13b"
       ],
       "layout": "IPY_MODEL_219afd487156452a86e2406576ecfcc9"
      }
     },
     "f02c4f5a3cc94e6a894dfcdd90c4a76c": {
      "model_module": "@jupyter-widgets/controls",
      "model_module_version": "1.5.0",
      "model_name": "DescriptionStyleModel",
      "state": {
       "description_width": ""
      }
     },
     "f088742121f542cdb895747b227deca2": {
      "model_module": "@jupyter-widgets/controls",
      "model_module_version": "1.5.0",
      "model_name": "DescriptionStyleModel",
      "state": {
       "description_width": ""
      }
     },
     "f088a133a8804674b9dd7f297ffbf9c2": {
      "model_module": "@jupyter-widgets/controls",
      "model_module_version": "1.5.0",
      "model_name": "FloatProgressModel",
      "state": {
       "bar_style": "success",
       "layout": "IPY_MODEL_4649dcb9189249368cf39bbc84f2235f",
       "max": 3,
       "style": "IPY_MODEL_89df800d4df747eaa75255a756977bf8",
       "value": 3
      }
     },
     "f0db023865de4e75a40b4550172c6138": {
      "model_module": "@jupyter-widgets/controls",
      "model_module_version": "1.5.0",
      "model_name": "HBoxModel",
      "state": {
       "children": [
        "IPY_MODEL_bd3f5d9954cd4a91a7381e105cf45022",
        "IPY_MODEL_70268c8c928f4f88b7800ca0b349bf8e",
        "IPY_MODEL_5af10075c7954a7a86b516adebbabe88"
       ],
       "layout": "IPY_MODEL_9cf5eea599ac405eba88a368b841cb7b"
      }
     },
     "f0f757600cc0422fb1fcae4bbfb667b7": {
      "model_module": "@jupyter-widgets/base",
      "model_module_version": "1.2.0",
      "model_name": "LayoutModel",
      "state": {}
     },
     "f10a509f4c6a45be95fd03a4d39b1837": {
      "model_module": "@jupyter-widgets/base",
      "model_module_version": "1.2.0",
      "model_name": "LayoutModel",
      "state": {}
     },
     "f13ca19e18544997bae83876d0159c0a": {
      "model_module": "@jupyter-widgets/controls",
      "model_module_version": "1.5.0",
      "model_name": "DescriptionStyleModel",
      "state": {
       "description_width": ""
      }
     },
     "f1a0ce767920426aa410782640361065": {
      "model_module": "@jupyter-widgets/controls",
      "model_module_version": "1.5.0",
      "model_name": "HBoxModel",
      "state": {
       "children": [
        "IPY_MODEL_1fc82bd317434156a2e9298ba5e183fd",
        "IPY_MODEL_e6a099540d1b4981b0354d13867760e0",
        "IPY_MODEL_b1869575b6bc48b185eadfefede9f2ea"
       ],
       "layout": "IPY_MODEL_b3c64d1d470d4303ba1161800f662b9d"
      }
     },
     "f1cadea86f4349a5ab89df8c16368f3f": {
      "model_module": "@jupyter-widgets/base",
      "model_module_version": "1.2.0",
      "model_name": "LayoutModel",
      "state": {}
     },
     "f1cfc5bb0898456ca8f5c538a609a70f": {
      "model_module": "@jupyter-widgets/controls",
      "model_module_version": "1.5.0",
      "model_name": "DescriptionStyleModel",
      "state": {
       "description_width": ""
      }
     },
     "f21572dd0fec42ae9fb1501edcecfecb": {
      "model_module": "@jupyter-widgets/base",
      "model_module_version": "1.2.0",
      "model_name": "LayoutModel",
      "state": {}
     },
     "f21e3b344edc4b7dac55236cc7acdf7f": {
      "model_module": "@jupyter-widgets/controls",
      "model_module_version": "1.5.0",
      "model_name": "HBoxModel",
      "state": {
       "children": [
        "IPY_MODEL_009e9b31c50b45ce98d8d25a7a492aac",
        "IPY_MODEL_298d55ec99f54dcd8e73ef8eba7e4595",
        "IPY_MODEL_98ebb002e3a64642ad056d5f1b073578"
       ],
       "layout": "IPY_MODEL_80c763c7699b4ff49a71253aa16e9b40"
      }
     },
     "f27ed8d568e3443b8ebfc12dea126023": {
      "model_module": "@jupyter-widgets/base",
      "model_module_version": "1.2.0",
      "model_name": "LayoutModel",
      "state": {}
     },
     "f287eebaea2a42059275cf322b97e556": {
      "model_module": "@jupyter-widgets/controls",
      "model_module_version": "1.5.0",
      "model_name": "DescriptionStyleModel",
      "state": {
       "description_width": ""
      }
     },
     "f2b100e087414d70b6a7854840f6a755": {
      "model_module": "@jupyter-widgets/controls",
      "model_module_version": "1.5.0",
      "model_name": "HBoxModel",
      "state": {
       "children": [
        "IPY_MODEL_cc828325858743d1a489b03205ca511f",
        "IPY_MODEL_69329a3476f64b6ebd2f92c94b295e8c",
        "IPY_MODEL_e2f9c553cda84b29b8912d2d332ae8cb"
       ],
       "layout": "IPY_MODEL_310227bd46d14740a6e6c01f119281fe"
      }
     },
     "f302702e49304ecc970ba60d6dff4f48": {
      "model_module": "@jupyter-widgets/base",
      "model_module_version": "1.2.0",
      "model_name": "LayoutModel",
      "state": {}
     },
     "f3448abc46c64dcc99030e01f7f7c0ad": {
      "model_module": "@jupyter-widgets/controls",
      "model_module_version": "1.5.0",
      "model_name": "HTMLModel",
      "state": {
       "layout": "IPY_MODEL_c931633d20a244ef9feb92c378ca50c7",
       "style": "IPY_MODEL_97911fa7f7ff4b9ca533f84f14ba8a8d",
       "value": "100%"
      }
     },
     "f37ee6991b5b4c67b17f201ce50e2880": {
      "model_module": "@jupyter-widgets/controls",
      "model_module_version": "1.5.0",
      "model_name": "HTMLModel",
      "state": {
       "layout": "IPY_MODEL_a93293402c394b809ddfc405b57fc3ae",
       "style": "IPY_MODEL_4f45b7be062545dfad8cd46b855234c4",
       "value": "100%"
      }
     },
     "f44d75a7f63d49649d2bd08154c9e62d": {
      "model_module": "@jupyter-widgets/controls",
      "model_module_version": "1.5.0",
      "model_name": "HBoxModel",
      "state": {
       "children": [
        "IPY_MODEL_4a02dde9f0c2473ca483bd879aae9897",
        "IPY_MODEL_aceda0a21c1a4b75853cdb8a59f7eadf",
        "IPY_MODEL_8ff573009e114a3f87d3b18fc70f28cc"
       ],
       "layout": "IPY_MODEL_c9926b82ab4345ebbeaf72d68b2d7259"
      }
     },
     "f46f147ed767438095a88af5a63a467a": {
      "model_module": "@jupyter-widgets/controls",
      "model_module_version": "1.5.0",
      "model_name": "ProgressStyleModel",
      "state": {
       "description_width": ""
      }
     },
     "f48e026983244ac9ac89fe0530611c84": {
      "model_module": "@jupyter-widgets/controls",
      "model_module_version": "1.5.0",
      "model_name": "FloatProgressModel",
      "state": {
       "bar_style": "success",
       "layout": "IPY_MODEL_4cf01c7addd141348d4644f6e298d0c3",
       "max": 14,
       "style": "IPY_MODEL_9216e0e0907040929f6e274b03ee6243",
       "value": 14
      }
     },
     "f4e82aa0dad7492e9f251f424c0459f3": {
      "model_module": "@jupyter-widgets/controls",
      "model_module_version": "1.5.0",
      "model_name": "DescriptionStyleModel",
      "state": {
       "description_width": ""
      }
     },
     "f4f9b0038c9c44619b86920342744735": {
      "model_module": "@jupyter-widgets/base",
      "model_module_version": "1.2.0",
      "model_name": "LayoutModel",
      "state": {}
     },
     "f5b2aff67783436c98d18958c3462638": {
      "model_module": "@jupyter-widgets/controls",
      "model_module_version": "1.5.0",
      "model_name": "HTMLModel",
      "state": {
       "layout": "IPY_MODEL_e9c5bf0eb79e49b88e40dc586ebe3e7c",
       "style": "IPY_MODEL_6aad32a9423043eb8bffaa7ab8e9632f",
       "value": " 3/3 [00:11&lt;00:00,  4.33s/it]"
      }
     },
     "f60f6e5e80ae48e9a0f049286dda0399": {
      "model_module": "@jupyter-widgets/base",
      "model_module_version": "1.2.0",
      "model_name": "LayoutModel",
      "state": {}
     },
     "f65d8a8840ca449cbde70bef05e56953": {
      "model_module": "@jupyter-widgets/base",
      "model_module_version": "1.2.0",
      "model_name": "LayoutModel",
      "state": {}
     },
     "f66bdd911a814945be5752c9df45f480": {
      "model_module": "@jupyter-widgets/controls",
      "model_module_version": "1.5.0",
      "model_name": "HTMLModel",
      "state": {
       "layout": "IPY_MODEL_8217a65ec82749c384cfde988d04b47e",
       "style": "IPY_MODEL_76d91f459d6d4f2aa4c55161e3e2fbd5",
       "value": "100%"
      }
     },
     "f6d9b538a7d4474faf6f1b5d4ed3aa22": {
      "model_module": "@jupyter-widgets/controls",
      "model_module_version": "1.5.0",
      "model_name": "DescriptionStyleModel",
      "state": {
       "description_width": ""
      }
     },
     "f7b6a4fb1aba43ad94e6124c4f209345": {
      "model_module": "@jupyter-widgets/controls",
      "model_module_version": "1.5.0",
      "model_name": "HBoxModel",
      "state": {
       "children": [
        "IPY_MODEL_6b85b3f5a8a844c2bcfadcce25177f81",
        "IPY_MODEL_a040616087b0471381e02100d008c999",
        "IPY_MODEL_25c6f48933ff4136bbdfb125b1cd897e"
       ],
       "layout": "IPY_MODEL_ceb07ebb580242619894a2c16e706be0"
      }
     },
     "f8d0aa0d6d044fd9b885647c29ad5ed9": {
      "model_module": "@jupyter-widgets/controls",
      "model_module_version": "1.5.0",
      "model_name": "DescriptionStyleModel",
      "state": {
       "description_width": ""
      }
     },
     "f990c3c0d24b4feb8b54ebbb0fe605e3": {
      "model_module": "@jupyter-widgets/controls",
      "model_module_version": "1.5.0",
      "model_name": "DescriptionStyleModel",
      "state": {
       "description_width": ""
      }
     },
     "fa70d6fcb22147d0955df9e8bddc056c": {
      "model_module": "@jupyter-widgets/controls",
      "model_module_version": "1.5.0",
      "model_name": "FloatProgressModel",
      "state": {
       "bar_style": "success",
       "layout": "IPY_MODEL_b13f40fc66ff46f3b4778d156c0b4e3f",
       "max": 3,
       "style": "IPY_MODEL_4df6d7c39cce4536a58880a00a3970ef",
       "value": 3
      }
     },
     "fb2b7e82ece14ab79d84a08df31c827e": {
      "model_module": "@jupyter-widgets/base",
      "model_module_version": "1.2.0",
      "model_name": "LayoutModel",
      "state": {}
     },
     "fc07a7ad29a1417dbfecf232fc63168d": {
      "model_module": "@jupyter-widgets/base",
      "model_module_version": "1.2.0",
      "model_name": "LayoutModel",
      "state": {}
     },
     "fc07b8eb3f2d42398ac37ae004962f19": {
      "model_module": "@jupyter-widgets/base",
      "model_module_version": "1.2.0",
      "model_name": "LayoutModel",
      "state": {}
     },
     "fc340e178dcf4841a50d791a1e61b133": {
      "model_module": "@jupyter-widgets/base",
      "model_module_version": "1.2.0",
      "model_name": "LayoutModel",
      "state": {}
     },
     "fcae490625734c64bdd2385f2511ea70": {
      "model_module": "@jupyter-widgets/controls",
      "model_module_version": "1.5.0",
      "model_name": "DescriptionStyleModel",
      "state": {
       "description_width": ""
      }
     },
     "fd78d4fe60794bd9a4080bccdd2b5066": {
      "model_module": "@jupyter-widgets/controls",
      "model_module_version": "1.5.0",
      "model_name": "FloatProgressModel",
      "state": {
       "bar_style": "success",
       "layout": "IPY_MODEL_2a2a37aad76a438cae578d3ae288b46b",
       "max": 14,
       "style": "IPY_MODEL_56eadb9f4fd944dcb5039b404e09f6a1",
       "value": 14
      }
     },
     "fdb9a369ccea4ed5983d9d8248c46c5d": {
      "model_module": "@jupyter-widgets/base",
      "model_module_version": "1.2.0",
      "model_name": "LayoutModel",
      "state": {}
     },
     "fdc23c6f872c4825b03240c4a0ab9831": {
      "model_module": "@jupyter-widgets/controls",
      "model_module_version": "1.5.0",
      "model_name": "HTMLModel",
      "state": {
       "layout": "IPY_MODEL_a100bb931af3454f8ff02fae28c2ba6a",
       "style": "IPY_MODEL_af095a946e40470fb6b10069cdead320",
       "value": "100%"
      }
     },
     "ff6c51d38ade449d9351b3aa712bc22e": {
      "model_module": "@jupyter-widgets/base",
      "model_module_version": "1.2.0",
      "model_name": "LayoutModel",
      "state": {}
     },
     "ff7181daebce46c8a92713b3908a3645": {
      "model_module": "@jupyter-widgets/controls",
      "model_module_version": "1.5.0",
      "model_name": "HTMLModel",
      "state": {
       "layout": "IPY_MODEL_f10a509f4c6a45be95fd03a4d39b1837",
       "style": "IPY_MODEL_adb01a75c497444e9fb19c4b1eadcf84",
       "value": "100%"
      }
     },
     "ff775a243b6949488f74e1dbabacf8a0": {
      "model_module": "@jupyter-widgets/controls",
      "model_module_version": "1.5.0",
      "model_name": "HTMLModel",
      "state": {
       "layout": "IPY_MODEL_f0f757600cc0422fb1fcae4bbfb667b7",
       "style": "IPY_MODEL_e27c6e761b364d56bc2c9cee005861aa",
       "value": "100%"
      }
     }
    },
    "version_major": 2,
    "version_minor": 0
   }
  }
 },
 "nbformat": 4,
 "nbformat_minor": 5
}
