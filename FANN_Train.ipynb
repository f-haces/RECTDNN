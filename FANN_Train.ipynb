{
 "cells": [
  {
   "cell_type": "code",
   "execution_count": 1,
   "id": "4333b7a8",
   "metadata": {},
   "outputs": [],
   "source": [
    "# PYTHON IMPORTS\n",
    "import os, copy, traceback\n",
    "from tqdm.notebook import trange, tqdm\n",
    "import glob\n",
    "\n",
    "# IMAGE IMPORTS \n",
    "from PIL import Image\n",
    "import cv2, tifffile\n",
    "\n",
    "# DATA IMPORTS \n",
    "import random\n",
    "import h5py\n",
    "import numpy as np\n",
    "\n",
    "# PLOTTING\n",
    "import matplotlib.pyplot as plt\n",
    "import matplotlib.cm as cm\n",
    "\n",
    "# NEURAL NETWORK\n",
    "import torch\n",
    "import torch.nn as nn\n",
    "import torch.optim as optim\n",
    "from torch.utils.data import DataLoader, Dataset\n",
    "from torchvision import transforms, datasets\n",
    "from torchvision.transforms import ToPILImage, GaussianBlur\n",
    "from torchvision.transforms import Compose, RandomCrop, ToTensor, Normalize\n",
    "import torch.optim.lr_scheduler as lr_scheduler\n",
    "import torchvision.models as models\n",
    "from sklearn.preprocessing import LabelEncoder, OneHotEncoder\n",
    "\n",
    "# MY OWN CLASSES\n",
    "from TPNN import *\n",
    "from PlottingUtils import *\n",
    "from DataUtils import * \n",
    "\n",
    "Image.MAX_IMAGE_PIXELS = 933120000\n",
    "%matplotlib notebook"
   ]
  },
  {
   "cell_type": "code",
   "execution_count": 2,
   "id": "874397a5",
   "metadata": {},
   "outputs": [
    {
     "data": {
      "application/vnd.jupyter.widget-view+json": {
       "model_id": "29a3743fec0d45128d6c276ee5ad4c42",
       "version_major": 2,
       "version_minor": 0
      },
      "text/plain": [
       "  0%|          | 0/4 [00:00<?, ?it/s]"
      ]
     },
     "metadata": {},
     "output_type": "display_data"
    },
    {
     "data": {
      "application/vnd.jupyter.widget-view+json": {
       "model_id": "fcef6373ae564b3b87c5b2057e1681be",
       "version_major": 2,
       "version_minor": 0
      },
      "text/plain": [
       "  0%|          | 0/1 [00:00<?, ?it/s]"
      ]
     },
     "metadata": {},
     "output_type": "display_data"
    }
   ],
   "source": [
    "base_dir = r\"C:\\Users\\fhacesga\\OneDrive - University Of Houston\\AAA_RECTDNN\\data\"\n",
    "\n",
    "input_folder        = f\"{base_dir}/FANN/in\"\n",
    "val_folder          = f\"{base_dir}/FANN/val\"\n",
    "train_target_folder = f\"{base_dir}/FANN/out\"\n",
    "val_target_folder   = f\"{base_dir}/FANN/val_out\"\n",
    "batch_size          = 2\n",
    "verbose_level       = 0\n",
    "n_pyramids          = 2\n",
    "processing_size     = 512\n",
    "\n",
    "tensor = transforms.Compose([\n",
    "    transforms.ToTensor(),\n",
    "])\n",
    "\n",
    "transform = transforms.Compose([\n",
    "    transforms.RandomRotation(degrees=180),\n",
    "    transforms.RandomHorizontalFlip(),\n",
    "    transforms.RandomVerticalFlip(),\n",
    "    transforms.ToTensor(),\n",
    "])\n",
    "\n",
    "tensor = transforms.Compose([transforms.ToTensor()])\n",
    "\n",
    "train_dataset = NN_Multiclass(input_folder, train_target_folder, transform=transform, \n",
    "                              crop=True, cropsize=1024, n_pyramids=n_pyramids, flip_outputs=True)\n",
    "train_loader  = DataLoader(train_dataset, batch_size=batch_size, shuffle=True, num_workers=0)\n",
    "\n",
    "val_dataset = NN_Multiclass(val_folder, val_target_folder, transform=transform, \n",
    "                            crop=True, cropsize=1024, n_pyramids=n_pyramids, flip_outputs=True)\n",
    "val_loader  = DataLoader(val_dataset, batch_size=1, shuffle=False, num_workers=0)\n",
    "\n",
    "loaders = {'train' : train_loader, \"test\" : val_loader }"
   ]
  },
  {
   "cell_type": "code",
   "execution_count": 3,
   "id": "e68d36b0",
   "metadata": {},
   "outputs": [],
   "source": [
    "# %matplotlib inline\n",
    "# for inputs, labels, filenames in loaders['train']:\n",
    "#     for i in range(labels.shape[0]):\n",
    "#         plt.imsave(f\"test_{filenames[i]}_{i}_inp.png\", inputs[i, 0, :, :])\n",
    "#        plt.imsave(f\"test_{filenames[i]}_{i}_out.png\", labels[i, :, :])\n",
    "# test_dir = r\"C:\\Users\\fhacesga\\OneDrive - University Of Houston\\AAA_RECTDNN\\data\\FANN\\out\\\\\"\n",
    "# fns = [\"4802870165E.jpg\", \"48201C0225G.tif\", \"48201C0090G.tif\", \"48201C0060G.tif\" ]\n",
    "# test = loadClasses(test_dir, fns=fns, flip=True)\n",
    "# %matplotlib inline\n",
    "# plt.imshow(1 - np.asarray(test[0])[800:1000, 800:1000])\n",
    "# plt.imshow(np.asarray(test[0])[800:1000, 800:1000])"
   ]
  },
  {
   "cell_type": "code",
   "execution_count": 4,
   "id": "97acd5c7",
   "metadata": {},
   "outputs": [],
   "source": [
    "def notify(mess, level=4):\n",
    "    if verbose_level >= level:\n",
    "        print(mess)\n",
    "\n",
    "def saveImages(prob_img_or, outputs, filenames, minputs, outputs_folder, rep_id, labels,):\n",
    "    \n",
    "    # IF FOR SOME REASON OUTPUT IS UNBATCHED, BATCH IT\n",
    "    if prob_img_or.ndim == 3:\n",
    "        prob_img_or = prob_img_or.unsqueeze(0)\n",
    "        \n",
    "    # CONVERT TO NUMPY ARRAY\n",
    "    prob_img_or = prob_img_or.numpy()\n",
    "    \n",
    "    # FOR EACH BATCHED OUTPUT\n",
    "    for i in range(len(outputs)):\n",
    "        filename = filenames[i]\n",
    "\n",
    "        # CONVERT TO IMAGE NUMPY ARRAY\n",
    "        prob_img = prob_img_or[i, :, :, :]\n",
    "        prob_img = (prob_img * 255).astype(np.uint8) \n",
    "        prob_img = np.moveaxis(prob_img, [0, 1, 2], [2, 0, 1])\n",
    "\n",
    "        # SAVE TO FILE\n",
    "        myout = probability_to_rgb(prob_img)\n",
    "        myout.save(os.path.join(outputs_folder, f\"{rep_id}_{filename[:-4]}_out.png\"))\n",
    "\n",
    "        # SAVE INPUTS\n",
    "        myinp = Image.fromarray(np.uint8(minputs[i, 0, :, :] * 255))\n",
    "        myinp.save(os.path.join(outputs_folder, f\"{rep_id}_{filename[:-4]}_inp.png\"))\n",
    "\n",
    "        # SAVE OUTPUTS\n",
    "        mylab = class_to_one_hot(labels[i, :, :], prob_img.shape[-1])\n",
    "        mylab = probability_to_rgb(mylab)\n",
    "        mylab.save(os.path.join(outputs_folder, f\"{rep_id}_{filename[:-4]}_lab.png\"))\n",
    "            \n",
    "def train(model, dataloaders, num_epochs=50, \n",
    "          output_dir=f'{base_dir}/FANN/intermediate_outputs', \n",
    "          learning_rate=5e-4,\n",
    "          device = torch.device(\"cuda:0\"),\n",
    "          continue_from=None,\n",
    "          weights=[1, 10]):\n",
    "    \n",
    "    # TRAINING PARAMETERS\n",
    "    weights = torch.tensor(weights).float().to(device)\n",
    "    criterion = nn.CrossEntropyLoss(weight=weights, reduction=\"mean\")\n",
    "    optimizer = optim.Adam(model.parameters(), lr=learning_rate)\n",
    "    learning_rate_scheduler = lr_scheduler.StepLR(optimizer, step_size=10, gamma=0.99)\n",
    "    start_epoch = 0\n",
    "        \n",
    "    if continue_from is not None:\n",
    "        checkpoint = torch.load(continue_from)\n",
    "        model.load_state_dict(checkpoint['model_state_dict'])\n",
    "        optimizer.load_state_dict(checkpoint['optimizer_state_dict'])\n",
    "        for state in optimizer.state.values():\n",
    "            for k, v in state.items():\n",
    "                if isinstance(v, torch.Tensor):\n",
    "                    state[k] = v.cuda()\n",
    "        start_epoch = checkpoint['epoch']\n",
    "        start_loss = checkpoint['loss']\n",
    "        \n",
    "    # SEND MODEL TO GPU\n",
    "    model = model.to(device)\n",
    "    \n",
    "    # MAKE SURE DIRS FOR TEMP OUTPUTS EXIST\n",
    "    if not os.path.exists(output_dir):\n",
    "        os.makedirs(output_dir)\n",
    "        \n",
    "    # STRUCTURES FOR PLOTTING\n",
    "    epoch_losses = {'train' : [], 'test' : []}\n",
    "    iou_lists    = {'train' : [], 'test' : []}\n",
    "    lr_list      = []\n",
    "    fig, axs = init_plotting()\n",
    "        \n",
    "    # LOOP THROUGH EPOCHS\n",
    "    for epoch in range(start_epoch, num_epochs):\n",
    "        notify('Epoch {}/{}'.format(epoch+1, num_epochs), level=1)\n",
    "        notify('-' * 10, level=1)\n",
    "        phases = ['train', 'test']\n",
    "        epoch_loss = {'train' : 0, 'test' : 0}\n",
    "        iou_list = {'train' : [], 'test' : []}      \n",
    "        \n",
    "        # FOR BOTH PHASES\n",
    "        for phase in phases: \n",
    "            if phase == 'train':\n",
    "                model.train()\n",
    "                repeats = range(4)\n",
    "            else:\n",
    "                model.eval()\n",
    "                repeats = range(1)\n",
    "            \n",
    "            # MAKE DIR FOR CURRENT PHASE IF IT DOES NOT EXIST\n",
    "            outputs_folder = os.path.join(output_dir, phase)\n",
    "            if not os.path.exists(outputs_folder):\n",
    "                os.makedirs(outputs_folder)\n",
    "                \n",
    "            # BASELINE MEMORY USAGE                \n",
    "            notify(f\"Prior to Iterations\\t {torch.cuda.memory_allocated() / 1e6}\")\n",
    "            \n",
    "            # COUNT HOW MANY IMAGES\n",
    "            n_images = 0\n",
    "            \n",
    "            # ITERATE OVER REPEATS\n",
    "            for rep_id in tqdm(repeats, disable=verbose_level < 4):\n",
    "                for inputs, labels, filenames in dataloaders[phase]:\n",
    "                    \n",
    "                    # SEND TO GPU\n",
    "                    inputs = inputs.to(device)\n",
    "                    labels = labels.to(device)\n",
    "                    notify(f\"Datasets Moved\\t\\t {torch.cuda.memory_allocated()/ 1e6}\")\n",
    "                    \n",
    "                    # ZERO GRADIENTS AND THROUGH MODEL\n",
    "                    optimizer.zero_grad()\n",
    "                    outputs = model(inputs, resize=False)\n",
    "                    \n",
    "                    notify(f\"Outputs Processed\\t {torch.cuda.memory_allocated() / 1e6}\")\n",
    "                    # CALCULATE LOSS AND KEEP TRACK OF IT FOR CURRENT EPOCH\n",
    "                    loss = criterion(outputs, labels) \n",
    "                    epoch_loss[phase] += loss\n",
    "                    iou_list[phase].append(calculate_iou(outputs, labels).detach().cpu().numpy())\n",
    "                    notify(f\"Loss Calculated\\t\\t {torch.cuda.memory_allocated() / 1e6}\")\n",
    "                    \n",
    "                    # COUNT HOW MANY IMAGES\n",
    "                    n_images += inputs.shape[0]\n",
    "                    \n",
    "                    # OPTIMIZE IF PHASE IS TRAINING\n",
    "                    if phase is 'train':\n",
    "                        notify(\"Optimizing\")\n",
    "                        loss.backward()\n",
    "                        optimizer.step()\n",
    "                        notify(f\"Backwards and optimized\\t {torch.cuda.memory_allocated() / 1e6}\")\n",
    "                    \n",
    "                    # SAVE TRAINING IMAGES IF CURRENT STEP REQUIRES IT\n",
    "                    if rep_id % 2 == 0 and rep_id != 0:\n",
    "                        prob_img_or = outputs.detach().cpu()\n",
    "                        minputs     = inputs.detach().cpu().numpy()\n",
    "                        mlabels     = labels.detach().cpu().numpy()\n",
    "                        saveImages(prob_img_or, outputs, filenames, minputs, outputs_folder, rep_id, mlabels)\n",
    "                    \n",
    "                    # EMPTY CACHE\n",
    "                    torch.cuda.empty_cache()\n",
    "                    notify(f\"Cache Emptied\\t\\t {torch.cuda.memory_allocated() / 1e6}\")\n",
    "                    \n",
    "            # METRICS - NORMALIZE EPOCH LOSS AND IOU BY HOW MANY IMAGES\n",
    "            epoch_loss[phase] = epoch_loss[phase].cpu().detach().numpy() / (len(repeats) + n_images)\n",
    "            iou_list[phase]   = np.mean(np.vstack(iou_list[phase]), axis=0)\n",
    "        \n",
    "        # UPDATE LEARNING RATE SCHEDULER\n",
    "        lr_list.append(learning_rate_scheduler.get_lr()[0])\n",
    "        learning_rate_scheduler.step()\n",
    "        \n",
    "        # PLOT, FIRST BY TRANSFERING TO LISTS\n",
    "        for i in phases:\n",
    "            epoch_losses[i].append(epoch_loss[i])\n",
    "            iou_lists[i].append(iou_list[i])\n",
    "        \n",
    "        update_plots([epoch_losses[i] for i in phases], [iou_lists[i] for i in phases], fig, axs, \n",
    "                     colors=[\"r\", \"g\", \"b\", \"k\", \"orange\"]*2,\n",
    "                     annotations=f\"Learning Rate: {lr_list[-1]:.2e}\"\n",
    "                    )\n",
    "        \n",
    "        # SAVE MODEL EVERY TEN EPOCHS\n",
    "        if epoch % 10 == 0:\n",
    "            torch.save({\n",
    "                'epoch': epoch,\n",
    "                'model_state_dict': model.state_dict(),\n",
    "                'optimizer_state_dict': optimizer.state_dict(),\n",
    "                'loss': loss,\n",
    "                'iou_lists' : iou_lists,\n",
    "                'epoch_losses' : epoch_losses,\n",
    "                'lr_list' : lr_list\n",
    "            }, f'{base_dir}/FANN/checkpoint_101123.pth')\n",
    "            \n",
    "            torch.save(model, f\"{base_dir}/FANN/101123.pth\")\n",
    "        \n",
    "    return model"
   ]
  },
  {
   "cell_type": "code",
   "execution_count": 5,
   "id": "0e8a83ad",
   "metadata": {
    "scrolled": false
   },
   "outputs": [
    {
     "name": "stderr",
     "output_type": "stream",
     "text": [
      "C:\\Users\\fhacesga\\Anaconda3\\envs\\deeplearning\\lib\\site-packages\\torchvision\\models\\_utils.py:209: UserWarning: The parameter 'pretrained' is deprecated since 0.13 and may be removed in the future, please use 'weights' instead.\n",
      "  f\"The parameter '{pretrained_param}' is deprecated since 0.13 and may be removed in the future, \"\n",
      "C:\\Users\\fhacesga\\Anaconda3\\envs\\deeplearning\\lib\\site-packages\\torchvision\\models\\_utils.py:223: UserWarning: Arguments other than a weight enum or `None` for 'weights' are deprecated since 0.13 and may be removed in the future. The current behavior is equivalent to passing `weights=ResNet34_Weights.IMAGENET1K_V1`. You can also use `weights=ResNet34_Weights.DEFAULT` to get the most up-to-date weights.\n",
      "  warnings.warn(msg)\n"
     ]
    },
    {
     "data": {
      "application/javascript": [
       "/* Put everything inside the global mpl namespace */\n",
       "/* global mpl */\n",
       "window.mpl = {};\n",
       "\n",
       "mpl.get_websocket_type = function () {\n",
       "    if (typeof WebSocket !== 'undefined') {\n",
       "        return WebSocket;\n",
       "    } else if (typeof MozWebSocket !== 'undefined') {\n",
       "        return MozWebSocket;\n",
       "    } else {\n",
       "        alert(\n",
       "            'Your browser does not have WebSocket support. ' +\n",
       "                'Please try Chrome, Safari or Firefox ≥ 6. ' +\n",
       "                'Firefox 4 and 5 are also supported but you ' +\n",
       "                'have to enable WebSockets in about:config.'\n",
       "        );\n",
       "    }\n",
       "};\n",
       "\n",
       "mpl.figure = function (figure_id, websocket, ondownload, parent_element) {\n",
       "    this.id = figure_id;\n",
       "\n",
       "    this.ws = websocket;\n",
       "\n",
       "    this.supports_binary = this.ws.binaryType !== undefined;\n",
       "\n",
       "    if (!this.supports_binary) {\n",
       "        var warnings = document.getElementById('mpl-warnings');\n",
       "        if (warnings) {\n",
       "            warnings.style.display = 'block';\n",
       "            warnings.textContent =\n",
       "                'This browser does not support binary websocket messages. ' +\n",
       "                'Performance may be slow.';\n",
       "        }\n",
       "    }\n",
       "\n",
       "    this.imageObj = new Image();\n",
       "\n",
       "    this.context = undefined;\n",
       "    this.message = undefined;\n",
       "    this.canvas = undefined;\n",
       "    this.rubberband_canvas = undefined;\n",
       "    this.rubberband_context = undefined;\n",
       "    this.format_dropdown = undefined;\n",
       "\n",
       "    this.image_mode = 'full';\n",
       "\n",
       "    this.root = document.createElement('div');\n",
       "    this.root.setAttribute('style', 'display: inline-block');\n",
       "    this._root_extra_style(this.root);\n",
       "\n",
       "    parent_element.appendChild(this.root);\n",
       "\n",
       "    this._init_header(this);\n",
       "    this._init_canvas(this);\n",
       "    this._init_toolbar(this);\n",
       "\n",
       "    var fig = this;\n",
       "\n",
       "    this.waiting = false;\n",
       "\n",
       "    this.ws.onopen = function () {\n",
       "        fig.send_message('supports_binary', { value: fig.supports_binary });\n",
       "        fig.send_message('send_image_mode', {});\n",
       "        if (fig.ratio !== 1) {\n",
       "            fig.send_message('set_device_pixel_ratio', {\n",
       "                device_pixel_ratio: fig.ratio,\n",
       "            });\n",
       "        }\n",
       "        fig.send_message('refresh', {});\n",
       "    };\n",
       "\n",
       "    this.imageObj.onload = function () {\n",
       "        if (fig.image_mode === 'full') {\n",
       "            // Full images could contain transparency (where diff images\n",
       "            // almost always do), so we need to clear the canvas so that\n",
       "            // there is no ghosting.\n",
       "            fig.context.clearRect(0, 0, fig.canvas.width, fig.canvas.height);\n",
       "        }\n",
       "        fig.context.drawImage(fig.imageObj, 0, 0);\n",
       "    };\n",
       "\n",
       "    this.imageObj.onunload = function () {\n",
       "        fig.ws.close();\n",
       "    };\n",
       "\n",
       "    this.ws.onmessage = this._make_on_message_function(this);\n",
       "\n",
       "    this.ondownload = ondownload;\n",
       "};\n",
       "\n",
       "mpl.figure.prototype._init_header = function () {\n",
       "    var titlebar = document.createElement('div');\n",
       "    titlebar.classList =\n",
       "        'ui-dialog-titlebar ui-widget-header ui-corner-all ui-helper-clearfix';\n",
       "    var titletext = document.createElement('div');\n",
       "    titletext.classList = 'ui-dialog-title';\n",
       "    titletext.setAttribute(\n",
       "        'style',\n",
       "        'width: 100%; text-align: center; padding: 3px;'\n",
       "    );\n",
       "    titlebar.appendChild(titletext);\n",
       "    this.root.appendChild(titlebar);\n",
       "    this.header = titletext;\n",
       "};\n",
       "\n",
       "mpl.figure.prototype._canvas_extra_style = function (_canvas_div) {};\n",
       "\n",
       "mpl.figure.prototype._root_extra_style = function (_canvas_div) {};\n",
       "\n",
       "mpl.figure.prototype._init_canvas = function () {\n",
       "    var fig = this;\n",
       "\n",
       "    var canvas_div = (this.canvas_div = document.createElement('div'));\n",
       "    canvas_div.setAttribute(\n",
       "        'style',\n",
       "        'border: 1px solid #ddd;' +\n",
       "            'box-sizing: content-box;' +\n",
       "            'clear: both;' +\n",
       "            'min-height: 1px;' +\n",
       "            'min-width: 1px;' +\n",
       "            'outline: 0;' +\n",
       "            'overflow: hidden;' +\n",
       "            'position: relative;' +\n",
       "            'resize: both;'\n",
       "    );\n",
       "\n",
       "    function on_keyboard_event_closure(name) {\n",
       "        return function (event) {\n",
       "            return fig.key_event(event, name);\n",
       "        };\n",
       "    }\n",
       "\n",
       "    canvas_div.addEventListener(\n",
       "        'keydown',\n",
       "        on_keyboard_event_closure('key_press')\n",
       "    );\n",
       "    canvas_div.addEventListener(\n",
       "        'keyup',\n",
       "        on_keyboard_event_closure('key_release')\n",
       "    );\n",
       "\n",
       "    this._canvas_extra_style(canvas_div);\n",
       "    this.root.appendChild(canvas_div);\n",
       "\n",
       "    var canvas = (this.canvas = document.createElement('canvas'));\n",
       "    canvas.classList.add('mpl-canvas');\n",
       "    canvas.setAttribute('style', 'box-sizing: content-box;');\n",
       "\n",
       "    this.context = canvas.getContext('2d');\n",
       "\n",
       "    var backingStore =\n",
       "        this.context.backingStorePixelRatio ||\n",
       "        this.context.webkitBackingStorePixelRatio ||\n",
       "        this.context.mozBackingStorePixelRatio ||\n",
       "        this.context.msBackingStorePixelRatio ||\n",
       "        this.context.oBackingStorePixelRatio ||\n",
       "        this.context.backingStorePixelRatio ||\n",
       "        1;\n",
       "\n",
       "    this.ratio = (window.devicePixelRatio || 1) / backingStore;\n",
       "\n",
       "    var rubberband_canvas = (this.rubberband_canvas = document.createElement(\n",
       "        'canvas'\n",
       "    ));\n",
       "    rubberband_canvas.setAttribute(\n",
       "        'style',\n",
       "        'box-sizing: content-box; position: absolute; left: 0; top: 0; z-index: 1;'\n",
       "    );\n",
       "\n",
       "    // Apply a ponyfill if ResizeObserver is not implemented by browser.\n",
       "    if (this.ResizeObserver === undefined) {\n",
       "        if (window.ResizeObserver !== undefined) {\n",
       "            this.ResizeObserver = window.ResizeObserver;\n",
       "        } else {\n",
       "            var obs = _JSXTOOLS_RESIZE_OBSERVER({});\n",
       "            this.ResizeObserver = obs.ResizeObserver;\n",
       "        }\n",
       "    }\n",
       "\n",
       "    this.resizeObserverInstance = new this.ResizeObserver(function (entries) {\n",
       "        var nentries = entries.length;\n",
       "        for (var i = 0; i < nentries; i++) {\n",
       "            var entry = entries[i];\n",
       "            var width, height;\n",
       "            if (entry.contentBoxSize) {\n",
       "                if (entry.contentBoxSize instanceof Array) {\n",
       "                    // Chrome 84 implements new version of spec.\n",
       "                    width = entry.contentBoxSize[0].inlineSize;\n",
       "                    height = entry.contentBoxSize[0].blockSize;\n",
       "                } else {\n",
       "                    // Firefox implements old version of spec.\n",
       "                    width = entry.contentBoxSize.inlineSize;\n",
       "                    height = entry.contentBoxSize.blockSize;\n",
       "                }\n",
       "            } else {\n",
       "                // Chrome <84 implements even older version of spec.\n",
       "                width = entry.contentRect.width;\n",
       "                height = entry.contentRect.height;\n",
       "            }\n",
       "\n",
       "            // Keep the size of the canvas and rubber band canvas in sync with\n",
       "            // the canvas container.\n",
       "            if (entry.devicePixelContentBoxSize) {\n",
       "                // Chrome 84 implements new version of spec.\n",
       "                canvas.setAttribute(\n",
       "                    'width',\n",
       "                    entry.devicePixelContentBoxSize[0].inlineSize\n",
       "                );\n",
       "                canvas.setAttribute(\n",
       "                    'height',\n",
       "                    entry.devicePixelContentBoxSize[0].blockSize\n",
       "                );\n",
       "            } else {\n",
       "                canvas.setAttribute('width', width * fig.ratio);\n",
       "                canvas.setAttribute('height', height * fig.ratio);\n",
       "            }\n",
       "            canvas.setAttribute(\n",
       "                'style',\n",
       "                'width: ' + width + 'px; height: ' + height + 'px;'\n",
       "            );\n",
       "\n",
       "            rubberband_canvas.setAttribute('width', width);\n",
       "            rubberband_canvas.setAttribute('height', height);\n",
       "\n",
       "            // And update the size in Python. We ignore the initial 0/0 size\n",
       "            // that occurs as the element is placed into the DOM, which should\n",
       "            // otherwise not happen due to the minimum size styling.\n",
       "            if (fig.ws.readyState == 1 && width != 0 && height != 0) {\n",
       "                fig.request_resize(width, height);\n",
       "            }\n",
       "        }\n",
       "    });\n",
       "    this.resizeObserverInstance.observe(canvas_div);\n",
       "\n",
       "    function on_mouse_event_closure(name) {\n",
       "        return function (event) {\n",
       "            return fig.mouse_event(event, name);\n",
       "        };\n",
       "    }\n",
       "\n",
       "    rubberband_canvas.addEventListener(\n",
       "        'mousedown',\n",
       "        on_mouse_event_closure('button_press')\n",
       "    );\n",
       "    rubberband_canvas.addEventListener(\n",
       "        'mouseup',\n",
       "        on_mouse_event_closure('button_release')\n",
       "    );\n",
       "    rubberband_canvas.addEventListener(\n",
       "        'dblclick',\n",
       "        on_mouse_event_closure('dblclick')\n",
       "    );\n",
       "    // Throttle sequential mouse events to 1 every 20ms.\n",
       "    rubberband_canvas.addEventListener(\n",
       "        'mousemove',\n",
       "        on_mouse_event_closure('motion_notify')\n",
       "    );\n",
       "\n",
       "    rubberband_canvas.addEventListener(\n",
       "        'mouseenter',\n",
       "        on_mouse_event_closure('figure_enter')\n",
       "    );\n",
       "    rubberband_canvas.addEventListener(\n",
       "        'mouseleave',\n",
       "        on_mouse_event_closure('figure_leave')\n",
       "    );\n",
       "\n",
       "    canvas_div.addEventListener('wheel', function (event) {\n",
       "        if (event.deltaY < 0) {\n",
       "            event.step = 1;\n",
       "        } else {\n",
       "            event.step = -1;\n",
       "        }\n",
       "        on_mouse_event_closure('scroll')(event);\n",
       "    });\n",
       "\n",
       "    canvas_div.appendChild(canvas);\n",
       "    canvas_div.appendChild(rubberband_canvas);\n",
       "\n",
       "    this.rubberband_context = rubberband_canvas.getContext('2d');\n",
       "    this.rubberband_context.strokeStyle = '#000000';\n",
       "\n",
       "    this._resize_canvas = function (width, height, forward) {\n",
       "        if (forward) {\n",
       "            canvas_div.style.width = width + 'px';\n",
       "            canvas_div.style.height = height + 'px';\n",
       "        }\n",
       "    };\n",
       "\n",
       "    // Disable right mouse context menu.\n",
       "    this.rubberband_canvas.addEventListener('contextmenu', function (_e) {\n",
       "        event.preventDefault();\n",
       "        return false;\n",
       "    });\n",
       "\n",
       "    function set_focus() {\n",
       "        canvas.focus();\n",
       "        canvas_div.focus();\n",
       "    }\n",
       "\n",
       "    window.setTimeout(set_focus, 100);\n",
       "};\n",
       "\n",
       "mpl.figure.prototype._init_toolbar = function () {\n",
       "    var fig = this;\n",
       "\n",
       "    var toolbar = document.createElement('div');\n",
       "    toolbar.classList = 'mpl-toolbar';\n",
       "    this.root.appendChild(toolbar);\n",
       "\n",
       "    function on_click_closure(name) {\n",
       "        return function (_event) {\n",
       "            return fig.toolbar_button_onclick(name);\n",
       "        };\n",
       "    }\n",
       "\n",
       "    function on_mouseover_closure(tooltip) {\n",
       "        return function (event) {\n",
       "            if (!event.currentTarget.disabled) {\n",
       "                return fig.toolbar_button_onmouseover(tooltip);\n",
       "            }\n",
       "        };\n",
       "    }\n",
       "\n",
       "    fig.buttons = {};\n",
       "    var buttonGroup = document.createElement('div');\n",
       "    buttonGroup.classList = 'mpl-button-group';\n",
       "    for (var toolbar_ind in mpl.toolbar_items) {\n",
       "        var name = mpl.toolbar_items[toolbar_ind][0];\n",
       "        var tooltip = mpl.toolbar_items[toolbar_ind][1];\n",
       "        var image = mpl.toolbar_items[toolbar_ind][2];\n",
       "        var method_name = mpl.toolbar_items[toolbar_ind][3];\n",
       "\n",
       "        if (!name) {\n",
       "            /* Instead of a spacer, we start a new button group. */\n",
       "            if (buttonGroup.hasChildNodes()) {\n",
       "                toolbar.appendChild(buttonGroup);\n",
       "            }\n",
       "            buttonGroup = document.createElement('div');\n",
       "            buttonGroup.classList = 'mpl-button-group';\n",
       "            continue;\n",
       "        }\n",
       "\n",
       "        var button = (fig.buttons[name] = document.createElement('button'));\n",
       "        button.classList = 'mpl-widget';\n",
       "        button.setAttribute('role', 'button');\n",
       "        button.setAttribute('aria-disabled', 'false');\n",
       "        button.addEventListener('click', on_click_closure(method_name));\n",
       "        button.addEventListener('mouseover', on_mouseover_closure(tooltip));\n",
       "\n",
       "        var icon_img = document.createElement('img');\n",
       "        icon_img.src = '_images/' + image + '.png';\n",
       "        icon_img.srcset = '_images/' + image + '_large.png 2x';\n",
       "        icon_img.alt = tooltip;\n",
       "        button.appendChild(icon_img);\n",
       "\n",
       "        buttonGroup.appendChild(button);\n",
       "    }\n",
       "\n",
       "    if (buttonGroup.hasChildNodes()) {\n",
       "        toolbar.appendChild(buttonGroup);\n",
       "    }\n",
       "\n",
       "    var fmt_picker = document.createElement('select');\n",
       "    fmt_picker.classList = 'mpl-widget';\n",
       "    toolbar.appendChild(fmt_picker);\n",
       "    this.format_dropdown = fmt_picker;\n",
       "\n",
       "    for (var ind in mpl.extensions) {\n",
       "        var fmt = mpl.extensions[ind];\n",
       "        var option = document.createElement('option');\n",
       "        option.selected = fmt === mpl.default_extension;\n",
       "        option.innerHTML = fmt;\n",
       "        fmt_picker.appendChild(option);\n",
       "    }\n",
       "\n",
       "    var status_bar = document.createElement('span');\n",
       "    status_bar.classList = 'mpl-message';\n",
       "    toolbar.appendChild(status_bar);\n",
       "    this.message = status_bar;\n",
       "};\n",
       "\n",
       "mpl.figure.prototype.request_resize = function (x_pixels, y_pixels) {\n",
       "    // Request matplotlib to resize the figure. Matplotlib will then trigger a resize in the client,\n",
       "    // which will in turn request a refresh of the image.\n",
       "    this.send_message('resize', { width: x_pixels, height: y_pixels });\n",
       "};\n",
       "\n",
       "mpl.figure.prototype.send_message = function (type, properties) {\n",
       "    properties['type'] = type;\n",
       "    properties['figure_id'] = this.id;\n",
       "    this.ws.send(JSON.stringify(properties));\n",
       "};\n",
       "\n",
       "mpl.figure.prototype.send_draw_message = function () {\n",
       "    if (!this.waiting) {\n",
       "        this.waiting = true;\n",
       "        this.ws.send(JSON.stringify({ type: 'draw', figure_id: this.id }));\n",
       "    }\n",
       "};\n",
       "\n",
       "mpl.figure.prototype.handle_save = function (fig, _msg) {\n",
       "    var format_dropdown = fig.format_dropdown;\n",
       "    var format = format_dropdown.options[format_dropdown.selectedIndex].value;\n",
       "    fig.ondownload(fig, format);\n",
       "};\n",
       "\n",
       "mpl.figure.prototype.handle_resize = function (fig, msg) {\n",
       "    var size = msg['size'];\n",
       "    if (size[0] !== fig.canvas.width || size[1] !== fig.canvas.height) {\n",
       "        fig._resize_canvas(size[0], size[1], msg['forward']);\n",
       "        fig.send_message('refresh', {});\n",
       "    }\n",
       "};\n",
       "\n",
       "mpl.figure.prototype.handle_rubberband = function (fig, msg) {\n",
       "    var x0 = msg['x0'] / fig.ratio;\n",
       "    var y0 = (fig.canvas.height - msg['y0']) / fig.ratio;\n",
       "    var x1 = msg['x1'] / fig.ratio;\n",
       "    var y1 = (fig.canvas.height - msg['y1']) / fig.ratio;\n",
       "    x0 = Math.floor(x0) + 0.5;\n",
       "    y0 = Math.floor(y0) + 0.5;\n",
       "    x1 = Math.floor(x1) + 0.5;\n",
       "    y1 = Math.floor(y1) + 0.5;\n",
       "    var min_x = Math.min(x0, x1);\n",
       "    var min_y = Math.min(y0, y1);\n",
       "    var width = Math.abs(x1 - x0);\n",
       "    var height = Math.abs(y1 - y0);\n",
       "\n",
       "    fig.rubberband_context.clearRect(\n",
       "        0,\n",
       "        0,\n",
       "        fig.canvas.width / fig.ratio,\n",
       "        fig.canvas.height / fig.ratio\n",
       "    );\n",
       "\n",
       "    fig.rubberband_context.strokeRect(min_x, min_y, width, height);\n",
       "};\n",
       "\n",
       "mpl.figure.prototype.handle_figure_label = function (fig, msg) {\n",
       "    // Updates the figure title.\n",
       "    fig.header.textContent = msg['label'];\n",
       "};\n",
       "\n",
       "mpl.figure.prototype.handle_cursor = function (fig, msg) {\n",
       "    fig.rubberband_canvas.style.cursor = msg['cursor'];\n",
       "};\n",
       "\n",
       "mpl.figure.prototype.handle_message = function (fig, msg) {\n",
       "    fig.message.textContent = msg['message'];\n",
       "};\n",
       "\n",
       "mpl.figure.prototype.handle_draw = function (fig, _msg) {\n",
       "    // Request the server to send over a new figure.\n",
       "    fig.send_draw_message();\n",
       "};\n",
       "\n",
       "mpl.figure.prototype.handle_image_mode = function (fig, msg) {\n",
       "    fig.image_mode = msg['mode'];\n",
       "};\n",
       "\n",
       "mpl.figure.prototype.handle_history_buttons = function (fig, msg) {\n",
       "    for (var key in msg) {\n",
       "        if (!(key in fig.buttons)) {\n",
       "            continue;\n",
       "        }\n",
       "        fig.buttons[key].disabled = !msg[key];\n",
       "        fig.buttons[key].setAttribute('aria-disabled', !msg[key]);\n",
       "    }\n",
       "};\n",
       "\n",
       "mpl.figure.prototype.handle_navigate_mode = function (fig, msg) {\n",
       "    if (msg['mode'] === 'PAN') {\n",
       "        fig.buttons['Pan'].classList.add('active');\n",
       "        fig.buttons['Zoom'].classList.remove('active');\n",
       "    } else if (msg['mode'] === 'ZOOM') {\n",
       "        fig.buttons['Pan'].classList.remove('active');\n",
       "        fig.buttons['Zoom'].classList.add('active');\n",
       "    } else {\n",
       "        fig.buttons['Pan'].classList.remove('active');\n",
       "        fig.buttons['Zoom'].classList.remove('active');\n",
       "    }\n",
       "};\n",
       "\n",
       "mpl.figure.prototype.updated_canvas_event = function () {\n",
       "    // Called whenever the canvas gets updated.\n",
       "    this.send_message('ack', {});\n",
       "};\n",
       "\n",
       "// A function to construct a web socket function for onmessage handling.\n",
       "// Called in the figure constructor.\n",
       "mpl.figure.prototype._make_on_message_function = function (fig) {\n",
       "    return function socket_on_message(evt) {\n",
       "        if (evt.data instanceof Blob) {\n",
       "            var img = evt.data;\n",
       "            if (img.type !== 'image/png') {\n",
       "                /* FIXME: We get \"Resource interpreted as Image but\n",
       "                 * transferred with MIME type text/plain:\" errors on\n",
       "                 * Chrome.  But how to set the MIME type?  It doesn't seem\n",
       "                 * to be part of the websocket stream */\n",
       "                img.type = 'image/png';\n",
       "            }\n",
       "\n",
       "            /* Free the memory for the previous frames */\n",
       "            if (fig.imageObj.src) {\n",
       "                (window.URL || window.webkitURL).revokeObjectURL(\n",
       "                    fig.imageObj.src\n",
       "                );\n",
       "            }\n",
       "\n",
       "            fig.imageObj.src = (window.URL || window.webkitURL).createObjectURL(\n",
       "                img\n",
       "            );\n",
       "            fig.updated_canvas_event();\n",
       "            fig.waiting = false;\n",
       "            return;\n",
       "        } else if (\n",
       "            typeof evt.data === 'string' &&\n",
       "            evt.data.slice(0, 21) === 'data:image/png;base64'\n",
       "        ) {\n",
       "            fig.imageObj.src = evt.data;\n",
       "            fig.updated_canvas_event();\n",
       "            fig.waiting = false;\n",
       "            return;\n",
       "        }\n",
       "\n",
       "        var msg = JSON.parse(evt.data);\n",
       "        var msg_type = msg['type'];\n",
       "\n",
       "        // Call the  \"handle_{type}\" callback, which takes\n",
       "        // the figure and JSON message as its only arguments.\n",
       "        try {\n",
       "            var callback = fig['handle_' + msg_type];\n",
       "        } catch (e) {\n",
       "            console.log(\n",
       "                \"No handler for the '\" + msg_type + \"' message type: \",\n",
       "                msg\n",
       "            );\n",
       "            return;\n",
       "        }\n",
       "\n",
       "        if (callback) {\n",
       "            try {\n",
       "                // console.log(\"Handling '\" + msg_type + \"' message: \", msg);\n",
       "                callback(fig, msg);\n",
       "            } catch (e) {\n",
       "                console.log(\n",
       "                    \"Exception inside the 'handler_\" + msg_type + \"' callback:\",\n",
       "                    e,\n",
       "                    e.stack,\n",
       "                    msg\n",
       "                );\n",
       "            }\n",
       "        }\n",
       "    };\n",
       "};\n",
       "\n",
       "// from https://stackoverflow.com/questions/1114465/getting-mouse-location-in-canvas\n",
       "mpl.findpos = function (e) {\n",
       "    //this section is from http://www.quirksmode.org/js/events_properties.html\n",
       "    var targ;\n",
       "    if (!e) {\n",
       "        e = window.event;\n",
       "    }\n",
       "    if (e.target) {\n",
       "        targ = e.target;\n",
       "    } else if (e.srcElement) {\n",
       "        targ = e.srcElement;\n",
       "    }\n",
       "    if (targ.nodeType === 3) {\n",
       "        // defeat Safari bug\n",
       "        targ = targ.parentNode;\n",
       "    }\n",
       "\n",
       "    // pageX,Y are the mouse positions relative to the document\n",
       "    var boundingRect = targ.getBoundingClientRect();\n",
       "    var x = e.pageX - (boundingRect.left + document.body.scrollLeft);\n",
       "    var y = e.pageY - (boundingRect.top + document.body.scrollTop);\n",
       "\n",
       "    return { x: x, y: y };\n",
       "};\n",
       "\n",
       "/*\n",
       " * return a copy of an object with only non-object keys\n",
       " * we need this to avoid circular references\n",
       " * https://stackoverflow.com/a/24161582/3208463\n",
       " */\n",
       "function simpleKeys(original) {\n",
       "    return Object.keys(original).reduce(function (obj, key) {\n",
       "        if (typeof original[key] !== 'object') {\n",
       "            obj[key] = original[key];\n",
       "        }\n",
       "        return obj;\n",
       "    }, {});\n",
       "}\n",
       "\n",
       "mpl.figure.prototype.mouse_event = function (event, name) {\n",
       "    var canvas_pos = mpl.findpos(event);\n",
       "\n",
       "    if (name === 'button_press') {\n",
       "        this.canvas.focus();\n",
       "        this.canvas_div.focus();\n",
       "    }\n",
       "\n",
       "    var x = canvas_pos.x * this.ratio;\n",
       "    var y = canvas_pos.y * this.ratio;\n",
       "\n",
       "    this.send_message(name, {\n",
       "        x: x,\n",
       "        y: y,\n",
       "        button: event.button,\n",
       "        step: event.step,\n",
       "        guiEvent: simpleKeys(event),\n",
       "    });\n",
       "\n",
       "    /* This prevents the web browser from automatically changing to\n",
       "     * the text insertion cursor when the button is pressed.  We want\n",
       "     * to control all of the cursor setting manually through the\n",
       "     * 'cursor' event from matplotlib */\n",
       "    event.preventDefault();\n",
       "    return false;\n",
       "};\n",
       "\n",
       "mpl.figure.prototype._key_event_extra = function (_event, _name) {\n",
       "    // Handle any extra behaviour associated with a key event\n",
       "};\n",
       "\n",
       "mpl.figure.prototype.key_event = function (event, name) {\n",
       "    // Prevent repeat events\n",
       "    if (name === 'key_press') {\n",
       "        if (event.key === this._key) {\n",
       "            return;\n",
       "        } else {\n",
       "            this._key = event.key;\n",
       "        }\n",
       "    }\n",
       "    if (name === 'key_release') {\n",
       "        this._key = null;\n",
       "    }\n",
       "\n",
       "    var value = '';\n",
       "    if (event.ctrlKey && event.key !== 'Control') {\n",
       "        value += 'ctrl+';\n",
       "    }\n",
       "    else if (event.altKey && event.key !== 'Alt') {\n",
       "        value += 'alt+';\n",
       "    }\n",
       "    else if (event.shiftKey && event.key !== 'Shift') {\n",
       "        value += 'shift+';\n",
       "    }\n",
       "\n",
       "    value += 'k' + event.key;\n",
       "\n",
       "    this._key_event_extra(event, name);\n",
       "\n",
       "    this.send_message(name, { key: value, guiEvent: simpleKeys(event) });\n",
       "    return false;\n",
       "};\n",
       "\n",
       "mpl.figure.prototype.toolbar_button_onclick = function (name) {\n",
       "    if (name === 'download') {\n",
       "        this.handle_save(this, null);\n",
       "    } else {\n",
       "        this.send_message('toolbar_button', { name: name });\n",
       "    }\n",
       "};\n",
       "\n",
       "mpl.figure.prototype.toolbar_button_onmouseover = function (tooltip) {\n",
       "    this.message.textContent = tooltip;\n",
       "};\n",
       "\n",
       "///////////////// REMAINING CONTENT GENERATED BY embed_js.py /////////////////\n",
       "// prettier-ignore\n",
       "var _JSXTOOLS_RESIZE_OBSERVER=function(A){var t,i=new WeakMap,n=new WeakMap,a=new WeakMap,r=new WeakMap,o=new Set;function s(e){if(!(this instanceof s))throw new TypeError(\"Constructor requires 'new' operator\");i.set(this,e)}function h(){throw new TypeError(\"Function is not a constructor\")}function c(e,t,i,n){e=0 in arguments?Number(arguments[0]):0,t=1 in arguments?Number(arguments[1]):0,i=2 in arguments?Number(arguments[2]):0,n=3 in arguments?Number(arguments[3]):0,this.right=(this.x=this.left=e)+(this.width=i),this.bottom=(this.y=this.top=t)+(this.height=n),Object.freeze(this)}function d(){t=requestAnimationFrame(d);var s=new WeakMap,p=new Set;o.forEach((function(t){r.get(t).forEach((function(i){var r=t instanceof window.SVGElement,o=a.get(t),d=r?0:parseFloat(o.paddingTop),f=r?0:parseFloat(o.paddingRight),l=r?0:parseFloat(o.paddingBottom),u=r?0:parseFloat(o.paddingLeft),g=r?0:parseFloat(o.borderTopWidth),m=r?0:parseFloat(o.borderRightWidth),w=r?0:parseFloat(o.borderBottomWidth),b=u+f,F=d+l,v=(r?0:parseFloat(o.borderLeftWidth))+m,W=g+w,y=r?0:t.offsetHeight-W-t.clientHeight,E=r?0:t.offsetWidth-v-t.clientWidth,R=b+v,z=F+W,M=r?t.width:parseFloat(o.width)-R-E,O=r?t.height:parseFloat(o.height)-z-y;if(n.has(t)){var k=n.get(t);if(k[0]===M&&k[1]===O)return}n.set(t,[M,O]);var S=Object.create(h.prototype);S.target=t,S.contentRect=new c(u,d,M,O),s.has(i)||(s.set(i,[]),p.add(i)),s.get(i).push(S)}))})),p.forEach((function(e){i.get(e).call(e,s.get(e),e)}))}return s.prototype.observe=function(i){if(i instanceof window.Element){r.has(i)||(r.set(i,new Set),o.add(i),a.set(i,window.getComputedStyle(i)));var n=r.get(i);n.has(this)||n.add(this),cancelAnimationFrame(t),t=requestAnimationFrame(d)}},s.prototype.unobserve=function(i){if(i instanceof window.Element&&r.has(i)){var n=r.get(i);n.has(this)&&(n.delete(this),n.size||(r.delete(i),o.delete(i))),n.size||r.delete(i),o.size||cancelAnimationFrame(t)}},A.DOMRectReadOnly=c,A.ResizeObserver=s,A.ResizeObserverEntry=h,A}; // eslint-disable-line\n",
       "mpl.toolbar_items = [[\"Home\", \"Reset original view\", \"fa fa-home icon-home\", \"home\"], [\"Back\", \"Back to previous view\", \"fa fa-arrow-left icon-arrow-left\", \"back\"], [\"Forward\", \"Forward to next view\", \"fa fa-arrow-right icon-arrow-right\", \"forward\"], [\"\", \"\", \"\", \"\"], [\"Pan\", \"Left button pans, Right button zooms\\nx/y fixes axis, CTRL fixes aspect\", \"fa fa-arrows icon-move\", \"pan\"], [\"Zoom\", \"Zoom to rectangle\\nx/y fixes axis\", \"fa fa-square-o icon-check-empty\", \"zoom\"], [\"\", \"\", \"\", \"\"], [\"Download\", \"Download plot\", \"fa fa-floppy-o icon-save\", \"download\"]];\n",
       "\n",
       "mpl.extensions = [\"eps\", \"jpeg\", \"pgf\", \"pdf\", \"png\", \"ps\", \"raw\", \"svg\", \"tif\"];\n",
       "\n",
       "mpl.default_extension = \"png\";/* global mpl */\n",
       "\n",
       "var comm_websocket_adapter = function (comm) {\n",
       "    // Create a \"websocket\"-like object which calls the given IPython comm\n",
       "    // object with the appropriate methods. Currently this is a non binary\n",
       "    // socket, so there is still some room for performance tuning.\n",
       "    var ws = {};\n",
       "\n",
       "    ws.binaryType = comm.kernel.ws.binaryType;\n",
       "    ws.readyState = comm.kernel.ws.readyState;\n",
       "    function updateReadyState(_event) {\n",
       "        if (comm.kernel.ws) {\n",
       "            ws.readyState = comm.kernel.ws.readyState;\n",
       "        } else {\n",
       "            ws.readyState = 3; // Closed state.\n",
       "        }\n",
       "    }\n",
       "    comm.kernel.ws.addEventListener('open', updateReadyState);\n",
       "    comm.kernel.ws.addEventListener('close', updateReadyState);\n",
       "    comm.kernel.ws.addEventListener('error', updateReadyState);\n",
       "\n",
       "    ws.close = function () {\n",
       "        comm.close();\n",
       "    };\n",
       "    ws.send = function (m) {\n",
       "        //console.log('sending', m);\n",
       "        comm.send(m);\n",
       "    };\n",
       "    // Register the callback with on_msg.\n",
       "    comm.on_msg(function (msg) {\n",
       "        //console.log('receiving', msg['content']['data'], msg);\n",
       "        var data = msg['content']['data'];\n",
       "        if (data['blob'] !== undefined) {\n",
       "            data = {\n",
       "                data: new Blob(msg['buffers'], { type: data['blob'] }),\n",
       "            };\n",
       "        }\n",
       "        // Pass the mpl event to the overridden (by mpl) onmessage function.\n",
       "        ws.onmessage(data);\n",
       "    });\n",
       "    return ws;\n",
       "};\n",
       "\n",
       "mpl.mpl_figure_comm = function (comm, msg) {\n",
       "    // This is the function which gets called when the mpl process\n",
       "    // starts-up an IPython Comm through the \"matplotlib\" channel.\n",
       "\n",
       "    var id = msg.content.data.id;\n",
       "    // Get hold of the div created by the display call when the Comm\n",
       "    // socket was opened in Python.\n",
       "    var element = document.getElementById(id);\n",
       "    var ws_proxy = comm_websocket_adapter(comm);\n",
       "\n",
       "    function ondownload(figure, _format) {\n",
       "        window.open(figure.canvas.toDataURL());\n",
       "    }\n",
       "\n",
       "    var fig = new mpl.figure(id, ws_proxy, ondownload, element);\n",
       "\n",
       "    // Call onopen now - mpl needs it, as it is assuming we've passed it a real\n",
       "    // web socket which is closed, not our websocket->open comm proxy.\n",
       "    ws_proxy.onopen();\n",
       "\n",
       "    fig.parent_element = element;\n",
       "    fig.cell_info = mpl.find_output_cell(\"<div id='\" + id + \"'></div>\");\n",
       "    if (!fig.cell_info) {\n",
       "        console.error('Failed to find cell for figure', id, fig);\n",
       "        return;\n",
       "    }\n",
       "    fig.cell_info[0].output_area.element.on(\n",
       "        'cleared',\n",
       "        { fig: fig },\n",
       "        fig._remove_fig_handler\n",
       "    );\n",
       "};\n",
       "\n",
       "mpl.figure.prototype.handle_close = function (fig, msg) {\n",
       "    var width = fig.canvas.width / fig.ratio;\n",
       "    fig.cell_info[0].output_area.element.off(\n",
       "        'cleared',\n",
       "        fig._remove_fig_handler\n",
       "    );\n",
       "    fig.resizeObserverInstance.unobserve(fig.canvas_div);\n",
       "\n",
       "    // Update the output cell to use the data from the current canvas.\n",
       "    fig.push_to_output();\n",
       "    var dataURL = fig.canvas.toDataURL();\n",
       "    // Re-enable the keyboard manager in IPython - without this line, in FF,\n",
       "    // the notebook keyboard shortcuts fail.\n",
       "    IPython.keyboard_manager.enable();\n",
       "    fig.parent_element.innerHTML =\n",
       "        '<img src=\"' + dataURL + '\" width=\"' + width + '\">';\n",
       "    fig.close_ws(fig, msg);\n",
       "};\n",
       "\n",
       "mpl.figure.prototype.close_ws = function (fig, msg) {\n",
       "    fig.send_message('closing', msg);\n",
       "    // fig.ws.close()\n",
       "};\n",
       "\n",
       "mpl.figure.prototype.push_to_output = function (_remove_interactive) {\n",
       "    // Turn the data on the canvas into data in the output cell.\n",
       "    var width = this.canvas.width / this.ratio;\n",
       "    var dataURL = this.canvas.toDataURL();\n",
       "    this.cell_info[1]['text/html'] =\n",
       "        '<img src=\"' + dataURL + '\" width=\"' + width + '\">';\n",
       "};\n",
       "\n",
       "mpl.figure.prototype.updated_canvas_event = function () {\n",
       "    // Tell IPython that the notebook contents must change.\n",
       "    IPython.notebook.set_dirty(true);\n",
       "    this.send_message('ack', {});\n",
       "    var fig = this;\n",
       "    // Wait a second, then push the new image to the DOM so\n",
       "    // that it is saved nicely (might be nice to debounce this).\n",
       "    setTimeout(function () {\n",
       "        fig.push_to_output();\n",
       "    }, 1000);\n",
       "};\n",
       "\n",
       "mpl.figure.prototype._init_toolbar = function () {\n",
       "    var fig = this;\n",
       "\n",
       "    var toolbar = document.createElement('div');\n",
       "    toolbar.classList = 'btn-toolbar';\n",
       "    this.root.appendChild(toolbar);\n",
       "\n",
       "    function on_click_closure(name) {\n",
       "        return function (_event) {\n",
       "            return fig.toolbar_button_onclick(name);\n",
       "        };\n",
       "    }\n",
       "\n",
       "    function on_mouseover_closure(tooltip) {\n",
       "        return function (event) {\n",
       "            if (!event.currentTarget.disabled) {\n",
       "                return fig.toolbar_button_onmouseover(tooltip);\n",
       "            }\n",
       "        };\n",
       "    }\n",
       "\n",
       "    fig.buttons = {};\n",
       "    var buttonGroup = document.createElement('div');\n",
       "    buttonGroup.classList = 'btn-group';\n",
       "    var button;\n",
       "    for (var toolbar_ind in mpl.toolbar_items) {\n",
       "        var name = mpl.toolbar_items[toolbar_ind][0];\n",
       "        var tooltip = mpl.toolbar_items[toolbar_ind][1];\n",
       "        var image = mpl.toolbar_items[toolbar_ind][2];\n",
       "        var method_name = mpl.toolbar_items[toolbar_ind][3];\n",
       "\n",
       "        if (!name) {\n",
       "            /* Instead of a spacer, we start a new button group. */\n",
       "            if (buttonGroup.hasChildNodes()) {\n",
       "                toolbar.appendChild(buttonGroup);\n",
       "            }\n",
       "            buttonGroup = document.createElement('div');\n",
       "            buttonGroup.classList = 'btn-group';\n",
       "            continue;\n",
       "        }\n",
       "\n",
       "        button = fig.buttons[name] = document.createElement('button');\n",
       "        button.classList = 'btn btn-default';\n",
       "        button.href = '#';\n",
       "        button.title = name;\n",
       "        button.innerHTML = '<i class=\"fa ' + image + ' fa-lg\"></i>';\n",
       "        button.addEventListener('click', on_click_closure(method_name));\n",
       "        button.addEventListener('mouseover', on_mouseover_closure(tooltip));\n",
       "        buttonGroup.appendChild(button);\n",
       "    }\n",
       "\n",
       "    if (buttonGroup.hasChildNodes()) {\n",
       "        toolbar.appendChild(buttonGroup);\n",
       "    }\n",
       "\n",
       "    // Add the status bar.\n",
       "    var status_bar = document.createElement('span');\n",
       "    status_bar.classList = 'mpl-message pull-right';\n",
       "    toolbar.appendChild(status_bar);\n",
       "    this.message = status_bar;\n",
       "\n",
       "    // Add the close button to the window.\n",
       "    var buttongrp = document.createElement('div');\n",
       "    buttongrp.classList = 'btn-group inline pull-right';\n",
       "    button = document.createElement('button');\n",
       "    button.classList = 'btn btn-mini btn-primary';\n",
       "    button.href = '#';\n",
       "    button.title = 'Stop Interaction';\n",
       "    button.innerHTML = '<i class=\"fa fa-power-off icon-remove icon-large\"></i>';\n",
       "    button.addEventListener('click', function (_evt) {\n",
       "        fig.handle_close(fig, {});\n",
       "    });\n",
       "    button.addEventListener(\n",
       "        'mouseover',\n",
       "        on_mouseover_closure('Stop Interaction')\n",
       "    );\n",
       "    buttongrp.appendChild(button);\n",
       "    var titlebar = this.root.querySelector('.ui-dialog-titlebar');\n",
       "    titlebar.insertBefore(buttongrp, titlebar.firstChild);\n",
       "};\n",
       "\n",
       "mpl.figure.prototype._remove_fig_handler = function (event) {\n",
       "    var fig = event.data.fig;\n",
       "    if (event.target !== this) {\n",
       "        // Ignore bubbled events from children.\n",
       "        return;\n",
       "    }\n",
       "    fig.close_ws(fig, {});\n",
       "};\n",
       "\n",
       "mpl.figure.prototype._root_extra_style = function (el) {\n",
       "    el.style.boxSizing = 'content-box'; // override notebook setting of border-box.\n",
       "};\n",
       "\n",
       "mpl.figure.prototype._canvas_extra_style = function (el) {\n",
       "    // this is important to make the div 'focusable\n",
       "    el.setAttribute('tabindex', 0);\n",
       "    // reach out to IPython and tell the keyboard manager to turn it's self\n",
       "    // off when our div gets focus\n",
       "\n",
       "    // location in version 3\n",
       "    if (IPython.notebook.keyboard_manager) {\n",
       "        IPython.notebook.keyboard_manager.register_events(el);\n",
       "    } else {\n",
       "        // location in version 2\n",
       "        IPython.keyboard_manager.register_events(el);\n",
       "    }\n",
       "};\n",
       "\n",
       "mpl.figure.prototype._key_event_extra = function (event, _name) {\n",
       "    // Check for shift+enter\n",
       "    if (event.shiftKey && event.which === 13) {\n",
       "        this.canvas_div.blur();\n",
       "        // select the cell after this one\n",
       "        var index = IPython.notebook.find_cell_index(this.cell_info[0]);\n",
       "        IPython.notebook.select(index + 1);\n",
       "    }\n",
       "};\n",
       "\n",
       "mpl.figure.prototype.handle_save = function (fig, _msg) {\n",
       "    fig.ondownload(fig, null);\n",
       "};\n",
       "\n",
       "mpl.find_output_cell = function (html_output) {\n",
       "    // Return the cell and output element which can be found *uniquely* in the notebook.\n",
       "    // Note - this is a bit hacky, but it is done because the \"notebook_saving.Notebook\"\n",
       "    // IPython event is triggered only after the cells have been serialised, which for\n",
       "    // our purposes (turning an active figure into a static one), is too late.\n",
       "    var cells = IPython.notebook.get_cells();\n",
       "    var ncells = cells.length;\n",
       "    for (var i = 0; i < ncells; i++) {\n",
       "        var cell = cells[i];\n",
       "        if (cell.cell_type === 'code') {\n",
       "            for (var j = 0; j < cell.output_area.outputs.length; j++) {\n",
       "                var data = cell.output_area.outputs[j];\n",
       "                if (data.data) {\n",
       "                    // IPython >= 3 moved mimebundle to data attribute of output\n",
       "                    data = data.data;\n",
       "                }\n",
       "                if (data['text/html'] === html_output) {\n",
       "                    return [cell, data, j];\n",
       "                }\n",
       "            }\n",
       "        }\n",
       "    }\n",
       "};\n",
       "\n",
       "// Register the function which deals with the matplotlib target/channel.\n",
       "// The kernel may be null if the page has been refreshed.\n",
       "if (IPython.notebook.kernel !== null) {\n",
       "    IPython.notebook.kernel.comm_manager.register_target(\n",
       "        'matplotlib',\n",
       "        mpl.mpl_figure_comm\n",
       "    );\n",
       "}\n"
      ],
      "text/plain": [
       "<IPython.core.display.Javascript object>"
      ]
     },
     "metadata": {},
     "output_type": "display_data"
    },
    {
     "data": {
      "text/html": [
       "<img src=\"data:image/png;base64,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\" width=\"640\">"
      ],
      "text/plain": [
       "<IPython.core.display.HTML object>"
      ]
     },
     "metadata": {},
     "output_type": "display_data"
    },
    {
     "name": "stderr",
     "output_type": "stream",
     "text": [
      "C:\\Users\\fhacesga\\Desktop\\FIRMsDigitizing\\RECTDNN\\TPNN.py:138: UserWarning: Implicit dimension choice for softmax has been deprecated. Change the call to include dim=X as an argument.\n",
      "  output = self.softmax(output)\n",
      "C:\\Users\\fhacesga\\Anaconda3\\envs\\deeplearning\\lib\\site-packages\\torch\\optim\\lr_scheduler.py:382: UserWarning: To get the last learning rate computed by the scheduler, please use `get_last_lr()`.\n",
      "  \"please use `get_last_lr()`.\", UserWarning)\n"
     ]
    },
    {
     "ename": "TypeError",
     "evalue": "float() argument must be a string or a number, not 'Image'",
     "output_type": "error",
     "traceback": [
      "\u001b[1;31m---------------------------------------------------------------------------\u001b[0m",
      "\u001b[1;31mTypeError\u001b[0m                                 Traceback (most recent call last)",
      "\u001b[1;32m~\\AppData\\Local\\Temp\\ipykernel_3716\\3395992347.py\u001b[0m in \u001b[0;36m<module>\u001b[1;34m\u001b[0m\n\u001b[0;32m      1\u001b[0m \u001b[0mmodel\u001b[0m \u001b[1;33m=\u001b[0m \u001b[0mTPNN\u001b[0m\u001b[1;33m(\u001b[0m\u001b[0mnum_classes\u001b[0m\u001b[1;33m=\u001b[0m\u001b[1;36m2\u001b[0m\u001b[1;33m,\u001b[0m \u001b[0mfinalpadding\u001b[0m\u001b[1;33m=\u001b[0m\u001b[1;36m1\u001b[0m\u001b[1;33m,\u001b[0m \u001b[0minputsize\u001b[0m\u001b[1;33m=\u001b[0m\u001b[0mn_pyramids\u001b[0m\u001b[1;33m)\u001b[0m\u001b[1;33m\u001b[0m\u001b[1;33m\u001b[0m\u001b[0m\n\u001b[0;32m      2\u001b[0m model = train(model, loaders, num_epochs=2500, learning_rate=1e-3, \n\u001b[1;32m----> 3\u001b[1;33m              continue_from=f\"{base_dir}/FANN/checkpoint_101023.pth\")\n\u001b[0m",
      "\u001b[1;32m~\\AppData\\Local\\Temp\\ipykernel_3716\\3089223535.py\u001b[0m in \u001b[0;36mtrain\u001b[1;34m(model, dataloaders, num_epochs, output_dir, learning_rate, device, continue_from, weights)\u001b[0m\n\u001b[0;32m    102\u001b[0m             \u001b[1;31m# ITERATE OVER REPEATS\u001b[0m\u001b[1;33m\u001b[0m\u001b[1;33m\u001b[0m\u001b[1;33m\u001b[0m\u001b[0m\n\u001b[0;32m    103\u001b[0m             \u001b[1;32mfor\u001b[0m \u001b[0mrep_id\u001b[0m \u001b[1;32min\u001b[0m \u001b[0mtqdm\u001b[0m\u001b[1;33m(\u001b[0m\u001b[0mrepeats\u001b[0m\u001b[1;33m,\u001b[0m \u001b[0mdisable\u001b[0m\u001b[1;33m=\u001b[0m\u001b[0mverbose_level\u001b[0m \u001b[1;33m<\u001b[0m \u001b[1;36m4\u001b[0m\u001b[1;33m)\u001b[0m\u001b[1;33m:\u001b[0m\u001b[1;33m\u001b[0m\u001b[1;33m\u001b[0m\u001b[0m\n\u001b[1;32m--> 104\u001b[1;33m                 \u001b[1;32mfor\u001b[0m \u001b[0minputs\u001b[0m\u001b[1;33m,\u001b[0m \u001b[0mlabels\u001b[0m\u001b[1;33m,\u001b[0m \u001b[0mfilenames\u001b[0m \u001b[1;32min\u001b[0m \u001b[0mdataloaders\u001b[0m\u001b[1;33m[\u001b[0m\u001b[0mphase\u001b[0m\u001b[1;33m]\u001b[0m\u001b[1;33m:\u001b[0m\u001b[1;33m\u001b[0m\u001b[1;33m\u001b[0m\u001b[0m\n\u001b[0m\u001b[0;32m    105\u001b[0m \u001b[1;33m\u001b[0m\u001b[0m\n\u001b[0;32m    106\u001b[0m                     \u001b[1;31m# SEND TO GPU\u001b[0m\u001b[1;33m\u001b[0m\u001b[1;33m\u001b[0m\u001b[1;33m\u001b[0m\u001b[0m\n",
      "\u001b[1;32m~\\Anaconda3\\envs\\deeplearning\\lib\\site-packages\\torch\\utils\\data\\dataloader.py\u001b[0m in \u001b[0;36m__next__\u001b[1;34m(self)\u001b[0m\n\u001b[0;32m    626\u001b[0m                 \u001b[1;31m# TODO(https://github.com/pytorch/pytorch/issues/76750)\u001b[0m\u001b[1;33m\u001b[0m\u001b[1;33m\u001b[0m\u001b[1;33m\u001b[0m\u001b[0m\n\u001b[0;32m    627\u001b[0m                 \u001b[0mself\u001b[0m\u001b[1;33m.\u001b[0m\u001b[0m_reset\u001b[0m\u001b[1;33m(\u001b[0m\u001b[1;33m)\u001b[0m  \u001b[1;31m# type: ignore[call-arg]\u001b[0m\u001b[1;33m\u001b[0m\u001b[1;33m\u001b[0m\u001b[0m\n\u001b[1;32m--> 628\u001b[1;33m             \u001b[0mdata\u001b[0m \u001b[1;33m=\u001b[0m \u001b[0mself\u001b[0m\u001b[1;33m.\u001b[0m\u001b[0m_next_data\u001b[0m\u001b[1;33m(\u001b[0m\u001b[1;33m)\u001b[0m\u001b[1;33m\u001b[0m\u001b[1;33m\u001b[0m\u001b[0m\n\u001b[0m\u001b[0;32m    629\u001b[0m             \u001b[0mself\u001b[0m\u001b[1;33m.\u001b[0m\u001b[0m_num_yielded\u001b[0m \u001b[1;33m+=\u001b[0m \u001b[1;36m1\u001b[0m\u001b[1;33m\u001b[0m\u001b[1;33m\u001b[0m\u001b[0m\n\u001b[0;32m    630\u001b[0m             \u001b[1;32mif\u001b[0m \u001b[0mself\u001b[0m\u001b[1;33m.\u001b[0m\u001b[0m_dataset_kind\u001b[0m \u001b[1;33m==\u001b[0m \u001b[0m_DatasetKind\u001b[0m\u001b[1;33m.\u001b[0m\u001b[0mIterable\u001b[0m \u001b[1;32mand\u001b[0m\u001b[0;31m \u001b[0m\u001b[0;31m\\\u001b[0m\u001b[1;33m\u001b[0m\u001b[1;33m\u001b[0m\u001b[0m\n",
      "\u001b[1;32m~\\Anaconda3\\envs\\deeplearning\\lib\\site-packages\\torch\\utils\\data\\dataloader.py\u001b[0m in \u001b[0;36m_next_data\u001b[1;34m(self)\u001b[0m\n\u001b[0;32m    669\u001b[0m     \u001b[1;32mdef\u001b[0m \u001b[0m_next_data\u001b[0m\u001b[1;33m(\u001b[0m\u001b[0mself\u001b[0m\u001b[1;33m)\u001b[0m\u001b[1;33m:\u001b[0m\u001b[1;33m\u001b[0m\u001b[1;33m\u001b[0m\u001b[0m\n\u001b[0;32m    670\u001b[0m         \u001b[0mindex\u001b[0m \u001b[1;33m=\u001b[0m \u001b[0mself\u001b[0m\u001b[1;33m.\u001b[0m\u001b[0m_next_index\u001b[0m\u001b[1;33m(\u001b[0m\u001b[1;33m)\u001b[0m  \u001b[1;31m# may raise StopIteration\u001b[0m\u001b[1;33m\u001b[0m\u001b[1;33m\u001b[0m\u001b[0m\n\u001b[1;32m--> 671\u001b[1;33m         \u001b[0mdata\u001b[0m \u001b[1;33m=\u001b[0m \u001b[0mself\u001b[0m\u001b[1;33m.\u001b[0m\u001b[0m_dataset_fetcher\u001b[0m\u001b[1;33m.\u001b[0m\u001b[0mfetch\u001b[0m\u001b[1;33m(\u001b[0m\u001b[0mindex\u001b[0m\u001b[1;33m)\u001b[0m  \u001b[1;31m# may raise StopIteration\u001b[0m\u001b[1;33m\u001b[0m\u001b[1;33m\u001b[0m\u001b[0m\n\u001b[0m\u001b[0;32m    672\u001b[0m         \u001b[1;32mif\u001b[0m \u001b[0mself\u001b[0m\u001b[1;33m.\u001b[0m\u001b[0m_pin_memory\u001b[0m\u001b[1;33m:\u001b[0m\u001b[1;33m\u001b[0m\u001b[1;33m\u001b[0m\u001b[0m\n\u001b[0;32m    673\u001b[0m             \u001b[0mdata\u001b[0m \u001b[1;33m=\u001b[0m \u001b[0m_utils\u001b[0m\u001b[1;33m.\u001b[0m\u001b[0mpin_memory\u001b[0m\u001b[1;33m.\u001b[0m\u001b[0mpin_memory\u001b[0m\u001b[1;33m(\u001b[0m\u001b[0mdata\u001b[0m\u001b[1;33m,\u001b[0m \u001b[0mself\u001b[0m\u001b[1;33m.\u001b[0m\u001b[0m_pin_memory_device\u001b[0m\u001b[1;33m)\u001b[0m\u001b[1;33m\u001b[0m\u001b[1;33m\u001b[0m\u001b[0m\n",
      "\u001b[1;32m~\\Anaconda3\\envs\\deeplearning\\lib\\site-packages\\torch\\utils\\data\\_utils\\fetch.py\u001b[0m in \u001b[0;36mfetch\u001b[1;34m(self, possibly_batched_index)\u001b[0m\n\u001b[0;32m     56\u001b[0m                 \u001b[0mdata\u001b[0m \u001b[1;33m=\u001b[0m \u001b[0mself\u001b[0m\u001b[1;33m.\u001b[0m\u001b[0mdataset\u001b[0m\u001b[1;33m.\u001b[0m\u001b[0m__getitems__\u001b[0m\u001b[1;33m(\u001b[0m\u001b[0mpossibly_batched_index\u001b[0m\u001b[1;33m)\u001b[0m\u001b[1;33m\u001b[0m\u001b[1;33m\u001b[0m\u001b[0m\n\u001b[0;32m     57\u001b[0m             \u001b[1;32melse\u001b[0m\u001b[1;33m:\u001b[0m\u001b[1;33m\u001b[0m\u001b[1;33m\u001b[0m\u001b[0m\n\u001b[1;32m---> 58\u001b[1;33m                 \u001b[0mdata\u001b[0m \u001b[1;33m=\u001b[0m \u001b[1;33m[\u001b[0m\u001b[0mself\u001b[0m\u001b[1;33m.\u001b[0m\u001b[0mdataset\u001b[0m\u001b[1;33m[\u001b[0m\u001b[0midx\u001b[0m\u001b[1;33m]\u001b[0m \u001b[1;32mfor\u001b[0m \u001b[0midx\u001b[0m \u001b[1;32min\u001b[0m \u001b[0mpossibly_batched_index\u001b[0m\u001b[1;33m]\u001b[0m\u001b[1;33m\u001b[0m\u001b[1;33m\u001b[0m\u001b[0m\n\u001b[0m\u001b[0;32m     59\u001b[0m         \u001b[1;32melse\u001b[0m\u001b[1;33m:\u001b[0m\u001b[1;33m\u001b[0m\u001b[1;33m\u001b[0m\u001b[0m\n\u001b[0;32m     60\u001b[0m             \u001b[0mdata\u001b[0m \u001b[1;33m=\u001b[0m \u001b[0mself\u001b[0m\u001b[1;33m.\u001b[0m\u001b[0mdataset\u001b[0m\u001b[1;33m[\u001b[0m\u001b[0mpossibly_batched_index\u001b[0m\u001b[1;33m]\u001b[0m\u001b[1;33m\u001b[0m\u001b[1;33m\u001b[0m\u001b[0m\n",
      "\u001b[1;32m~\\Anaconda3\\envs\\deeplearning\\lib\\site-packages\\torch\\utils\\data\\_utils\\fetch.py\u001b[0m in \u001b[0;36m<listcomp>\u001b[1;34m(.0)\u001b[0m\n\u001b[0;32m     56\u001b[0m                 \u001b[0mdata\u001b[0m \u001b[1;33m=\u001b[0m \u001b[0mself\u001b[0m\u001b[1;33m.\u001b[0m\u001b[0mdataset\u001b[0m\u001b[1;33m.\u001b[0m\u001b[0m__getitems__\u001b[0m\u001b[1;33m(\u001b[0m\u001b[0mpossibly_batched_index\u001b[0m\u001b[1;33m)\u001b[0m\u001b[1;33m\u001b[0m\u001b[1;33m\u001b[0m\u001b[0m\n\u001b[0;32m     57\u001b[0m             \u001b[1;32melse\u001b[0m\u001b[1;33m:\u001b[0m\u001b[1;33m\u001b[0m\u001b[1;33m\u001b[0m\u001b[0m\n\u001b[1;32m---> 58\u001b[1;33m                 \u001b[0mdata\u001b[0m \u001b[1;33m=\u001b[0m \u001b[1;33m[\u001b[0m\u001b[0mself\u001b[0m\u001b[1;33m.\u001b[0m\u001b[0mdataset\u001b[0m\u001b[1;33m[\u001b[0m\u001b[0midx\u001b[0m\u001b[1;33m]\u001b[0m \u001b[1;32mfor\u001b[0m \u001b[0midx\u001b[0m \u001b[1;32min\u001b[0m \u001b[0mpossibly_batched_index\u001b[0m\u001b[1;33m]\u001b[0m\u001b[1;33m\u001b[0m\u001b[1;33m\u001b[0m\u001b[0m\n\u001b[0m\u001b[0;32m     59\u001b[0m         \u001b[1;32melse\u001b[0m\u001b[1;33m:\u001b[0m\u001b[1;33m\u001b[0m\u001b[1;33m\u001b[0m\u001b[0m\n\u001b[0;32m     60\u001b[0m             \u001b[0mdata\u001b[0m \u001b[1;33m=\u001b[0m \u001b[0mself\u001b[0m\u001b[1;33m.\u001b[0m\u001b[0mdataset\u001b[0m\u001b[1;33m[\u001b[0m\u001b[0mpossibly_batched_index\u001b[0m\u001b[1;33m]\u001b[0m\u001b[1;33m\u001b[0m\u001b[1;33m\u001b[0m\u001b[0m\n",
      "\u001b[1;32m~\\Desktop\\FIRMsDigitizing\\RECTDNN\\DataUtils.py\u001b[0m in \u001b[0;36m__getitem__\u001b[1;34m(self, index)\u001b[0m\n\u001b[0;32m    127\u001b[0m                 \u001b[0mtarget_image\u001b[0m \u001b[1;33m=\u001b[0m \u001b[0mself\u001b[0m\u001b[1;33m.\u001b[0m\u001b[0mtransform\u001b[0m\u001b[1;33m(\u001b[0m\u001b[0mtarget_image\u001b[0m\u001b[1;33m)\u001b[0m\u001b[1;33m\u001b[0m\u001b[1;33m\u001b[0m\u001b[0m\n\u001b[0;32m    128\u001b[0m             \u001b[1;32melse\u001b[0m\u001b[1;33m:\u001b[0m\u001b[1;33m\u001b[0m\u001b[1;33m\u001b[0m\u001b[0m\n\u001b[1;32m--> 129\u001b[1;33m                 \u001b[0mtarget_image\u001b[0m \u001b[1;33m=\u001b[0m \u001b[0mself\u001b[0m\u001b[1;33m.\u001b[0m\u001b[0mtransform\u001b[0m\u001b[1;33m(\u001b[0m\u001b[0mtarget_image\u001b[0m\u001b[1;33m)\u001b[0m\u001b[1;33m\u001b[0m\u001b[1;33m\u001b[0m\u001b[0m\n\u001b[0m\u001b[0;32m    130\u001b[0m \u001b[1;33m\u001b[0m\u001b[0m\n\u001b[0;32m    131\u001b[0m         \u001b[1;32mif\u001b[0m \u001b[0mself\u001b[0m\u001b[1;33m.\u001b[0m\u001b[0mcrop\u001b[0m\u001b[1;33m:\u001b[0m\u001b[1;33m\u001b[0m\u001b[1;33m\u001b[0m\u001b[0m\n",
      "\u001b[1;32m~\\Anaconda3\\envs\\deeplearning\\lib\\site-packages\\torchvision\\transforms\\transforms.py\u001b[0m in \u001b[0;36m__call__\u001b[1;34m(self, img)\u001b[0m\n\u001b[0;32m     93\u001b[0m     \u001b[1;32mdef\u001b[0m \u001b[0m__call__\u001b[0m\u001b[1;33m(\u001b[0m\u001b[0mself\u001b[0m\u001b[1;33m,\u001b[0m \u001b[0mimg\u001b[0m\u001b[1;33m)\u001b[0m\u001b[1;33m:\u001b[0m\u001b[1;33m\u001b[0m\u001b[1;33m\u001b[0m\u001b[0m\n\u001b[0;32m     94\u001b[0m         \u001b[1;32mfor\u001b[0m \u001b[0mt\u001b[0m \u001b[1;32min\u001b[0m \u001b[0mself\u001b[0m\u001b[1;33m.\u001b[0m\u001b[0mtransforms\u001b[0m\u001b[1;33m:\u001b[0m\u001b[1;33m\u001b[0m\u001b[1;33m\u001b[0m\u001b[0m\n\u001b[1;32m---> 95\u001b[1;33m             \u001b[0mimg\u001b[0m \u001b[1;33m=\u001b[0m \u001b[0mt\u001b[0m\u001b[1;33m(\u001b[0m\u001b[0mimg\u001b[0m\u001b[1;33m)\u001b[0m\u001b[1;33m\u001b[0m\u001b[1;33m\u001b[0m\u001b[0m\n\u001b[0m\u001b[0;32m     96\u001b[0m         \u001b[1;32mreturn\u001b[0m \u001b[0mimg\u001b[0m\u001b[1;33m\u001b[0m\u001b[1;33m\u001b[0m\u001b[0m\n\u001b[0;32m     97\u001b[0m \u001b[1;33m\u001b[0m\u001b[0m\n",
      "\u001b[1;32m~\\Anaconda3\\envs\\deeplearning\\lib\\site-packages\\torchvision\\transforms\\transforms.py\u001b[0m in \u001b[0;36m__call__\u001b[1;34m(self, pic)\u001b[0m\n\u001b[0;32m    133\u001b[0m             \u001b[0mTensor\u001b[0m\u001b[1;33m:\u001b[0m \u001b[0mConverted\u001b[0m \u001b[0mimage\u001b[0m\u001b[1;33m.\u001b[0m\u001b[1;33m\u001b[0m\u001b[1;33m\u001b[0m\u001b[0m\n\u001b[0;32m    134\u001b[0m         \"\"\"\n\u001b[1;32m--> 135\u001b[1;33m         \u001b[1;32mreturn\u001b[0m \u001b[0mF\u001b[0m\u001b[1;33m.\u001b[0m\u001b[0mto_tensor\u001b[0m\u001b[1;33m(\u001b[0m\u001b[0mpic\u001b[0m\u001b[1;33m)\u001b[0m\u001b[1;33m\u001b[0m\u001b[1;33m\u001b[0m\u001b[0m\n\u001b[0m\u001b[0;32m    136\u001b[0m \u001b[1;33m\u001b[0m\u001b[0m\n\u001b[0;32m    137\u001b[0m     \u001b[1;32mdef\u001b[0m \u001b[0m__repr__\u001b[0m\u001b[1;33m(\u001b[0m\u001b[0mself\u001b[0m\u001b[1;33m)\u001b[0m \u001b[1;33m->\u001b[0m \u001b[0mstr\u001b[0m\u001b[1;33m:\u001b[0m\u001b[1;33m\u001b[0m\u001b[1;33m\u001b[0m\u001b[0m\n",
      "\u001b[1;32m~\\Anaconda3\\envs\\deeplearning\\lib\\site-packages\\torchvision\\transforms\\functional.py\u001b[0m in \u001b[0;36mto_tensor\u001b[1;34m(pic)\u001b[0m\n\u001b[0;32m    161\u001b[0m     \u001b[1;31m# handle PIL Image\u001b[0m\u001b[1;33m\u001b[0m\u001b[1;33m\u001b[0m\u001b[1;33m\u001b[0m\u001b[0m\n\u001b[0;32m    162\u001b[0m     \u001b[0mmode_to_nptype\u001b[0m \u001b[1;33m=\u001b[0m \u001b[1;33m{\u001b[0m\u001b[1;34m\"I\"\u001b[0m\u001b[1;33m:\u001b[0m \u001b[0mnp\u001b[0m\u001b[1;33m.\u001b[0m\u001b[0mint32\u001b[0m\u001b[1;33m,\u001b[0m \u001b[1;34m\"I;16\"\u001b[0m\u001b[1;33m:\u001b[0m \u001b[0mnp\u001b[0m\u001b[1;33m.\u001b[0m\u001b[0mint16\u001b[0m\u001b[1;33m,\u001b[0m \u001b[1;34m\"F\"\u001b[0m\u001b[1;33m:\u001b[0m \u001b[0mnp\u001b[0m\u001b[1;33m.\u001b[0m\u001b[0mfloat32\u001b[0m\u001b[1;33m}\u001b[0m\u001b[1;33m\u001b[0m\u001b[1;33m\u001b[0m\u001b[0m\n\u001b[1;32m--> 163\u001b[1;33m     \u001b[0mimg\u001b[0m \u001b[1;33m=\u001b[0m \u001b[0mtorch\u001b[0m\u001b[1;33m.\u001b[0m\u001b[0mfrom_numpy\u001b[0m\u001b[1;33m(\u001b[0m\u001b[0mnp\u001b[0m\u001b[1;33m.\u001b[0m\u001b[0marray\u001b[0m\u001b[1;33m(\u001b[0m\u001b[0mpic\u001b[0m\u001b[1;33m,\u001b[0m \u001b[0mmode_to_nptype\u001b[0m\u001b[1;33m.\u001b[0m\u001b[0mget\u001b[0m\u001b[1;33m(\u001b[0m\u001b[0mpic\u001b[0m\u001b[1;33m.\u001b[0m\u001b[0mmode\u001b[0m\u001b[1;33m,\u001b[0m \u001b[0mnp\u001b[0m\u001b[1;33m.\u001b[0m\u001b[0muint8\u001b[0m\u001b[1;33m)\u001b[0m\u001b[1;33m,\u001b[0m \u001b[0mcopy\u001b[0m\u001b[1;33m=\u001b[0m\u001b[1;32mTrue\u001b[0m\u001b[1;33m)\u001b[0m\u001b[1;33m)\u001b[0m\u001b[1;33m\u001b[0m\u001b[1;33m\u001b[0m\u001b[0m\n\u001b[0m\u001b[0;32m    164\u001b[0m \u001b[1;33m\u001b[0m\u001b[0m\n\u001b[0;32m    165\u001b[0m     \u001b[1;32mif\u001b[0m \u001b[0mpic\u001b[0m\u001b[1;33m.\u001b[0m\u001b[0mmode\u001b[0m \u001b[1;33m==\u001b[0m \u001b[1;34m\"1\"\u001b[0m\u001b[1;33m:\u001b[0m\u001b[1;33m\u001b[0m\u001b[1;33m\u001b[0m\u001b[0m\n",
      "\u001b[1;31mTypeError\u001b[0m: float() argument must be a string or a number, not 'Image'"
     ]
    }
   ],
   "source": [
    "model = TPNN(num_classes=2, finalpadding=1, inputsize=n_pyramids)\n",
    "model = train(model, loaders, num_epochs=2500, learning_rate=1e-3, \n",
    "             continue_from=f\"{base_dir}/FANN/checkpoint_101023.pth\")"
   ]
  }
 ],
 "metadata": {
  "kernelspec": {
   "display_name": "Python 3 (ipykernel)",
   "language": "python",
   "name": "python3"
  },
  "language_info": {
   "codemirror_mode": {
    "name": "ipython",
    "version": 3
   },
   "file_extension": ".py",
   "mimetype": "text/x-python",
   "name": "python",
   "nbconvert_exporter": "python",
   "pygments_lexer": "ipython3",
   "version": "3.7.16"
  },
  "widgets": {
   "application/vnd.jupyter.widget-state+json": {
    "state": {
     "000a0ce30ef84bfc8ab5b9c23b221bc4": {
      "model_module": "@jupyter-widgets/controls",
      "model_module_version": "1.5.0",
      "model_name": "ProgressStyleModel",
      "state": {
       "description_width": ""
      }
     },
     "0023fc3242d845c783fb42d2e5d68a32": {
      "model_module": "@jupyter-widgets/controls",
      "model_module_version": "1.5.0",
      "model_name": "HBoxModel",
      "state": {
       "children": [
        "IPY_MODEL_5707ef96db714ec0a3f2f9dbe98908c9",
        "IPY_MODEL_8f3469b12b6d41cca996c3174a8a94d3",
        "IPY_MODEL_69fd7e6e13c94f61a5ebb811aa394333"
       ],
       "layout": "IPY_MODEL_5a7402acea7c46b7acc62d232cbaafda"
      }
     },
     "0063857eab204d448a73753b8424dbad": {
      "model_module": "@jupyter-widgets/controls",
      "model_module_version": "1.5.0",
      "model_name": "HTMLModel",
      "state": {
       "layout": "IPY_MODEL_94b354bd31db4240b3abce5878a7f39e",
       "style": "IPY_MODEL_acdac6e8397d4097ba9b78f5a31f3293",
       "value": "100%"
      }
     },
     "009b2957b305415891bb4aed8cebb918": {
      "model_module": "@jupyter-widgets/controls",
      "model_module_version": "1.5.0",
      "model_name": "DescriptionStyleModel",
      "state": {
       "description_width": ""
      }
     },
     "009e9b31c50b45ce98d8d25a7a492aac": {
      "model_module": "@jupyter-widgets/controls",
      "model_module_version": "1.5.0",
      "model_name": "HTMLModel",
      "state": {
       "layout": "IPY_MODEL_f1cadea86f4349a5ab89df8c16368f3f",
       "style": "IPY_MODEL_2a75bc70851b42b69eacea7343414dbb",
       "value": "100%"
      }
     },
     "01d8b4a699f146feb03b588bf69025c8": {
      "model_module": "@jupyter-widgets/base",
      "model_module_version": "1.2.0",
      "model_name": "LayoutModel",
      "state": {}
     },
     "01e5af5b26df48c68e2a60acda563670": {
      "model_module": "@jupyter-widgets/base",
      "model_module_version": "1.2.0",
      "model_name": "LayoutModel",
      "state": {}
     },
     "0264a0f5edbd4d84b646529d5900ab46": {
      "model_module": "@jupyter-widgets/base",
      "model_module_version": "1.2.0",
      "model_name": "LayoutModel",
      "state": {}
     },
     "029642dfa78247a18b8c1e5fe6452dda": {
      "model_module": "@jupyter-widgets/controls",
      "model_module_version": "1.5.0",
      "model_name": "DescriptionStyleModel",
      "state": {
       "description_width": ""
      }
     },
     "0325411a73a24e76a5a828c1af2f77f4": {
      "model_module": "@jupyter-widgets/controls",
      "model_module_version": "1.5.0",
      "model_name": "DescriptionStyleModel",
      "state": {
       "description_width": ""
      }
     },
     "03a96f3c2a024b0f94090e89d31f9e0a": {
      "model_module": "@jupyter-widgets/base",
      "model_module_version": "1.2.0",
      "model_name": "LayoutModel",
      "state": {}
     },
     "055973be849e46938f53875663039720": {
      "model_module": "@jupyter-widgets/base",
      "model_module_version": "1.2.0",
      "model_name": "LayoutModel",
      "state": {}
     },
     "05b3bfdeba8148b8b4f9e8a220a48ad1": {
      "model_module": "@jupyter-widgets/controls",
      "model_module_version": "1.5.0",
      "model_name": "FloatProgressModel",
      "state": {
       "bar_style": "success",
       "layout": "IPY_MODEL_a001f2d8f0ac46178a6eaf43f36f248e",
       "max": 3,
       "style": "IPY_MODEL_b4844e9f7ac840f8932292a6e55f54c4",
       "value": 3
      }
     },
     "066b157993bf44e680f38377fd313131": {
      "model_module": "@jupyter-widgets/controls",
      "model_module_version": "1.5.0",
      "model_name": "HBoxModel",
      "state": {
       "children": [
        "IPY_MODEL_e3713f550fe34209b0ca21db1baa24aa",
        "IPY_MODEL_e5d5e45fb4914148aa722874d820f5b3",
        "IPY_MODEL_dd4cfe4c1c19432d814165e8bfcadbdb"
       ],
       "layout": "IPY_MODEL_8588cbf7c52d4f418839811101f446cc"
      }
     },
     "069d1da5bb904bb092d378f310a159d1": {
      "model_module": "@jupyter-widgets/controls",
      "model_module_version": "1.5.0",
      "model_name": "ProgressStyleModel",
      "state": {
       "description_width": ""
      }
     },
     "06cd218c9ce0406090f8b3651b412fe3": {
      "model_module": "@jupyter-widgets/base",
      "model_module_version": "1.2.0",
      "model_name": "LayoutModel",
      "state": {}
     },
     "06d57aa711be4630a00b75bef4214d4c": {
      "model_module": "@jupyter-widgets/base",
      "model_module_version": "1.2.0",
      "model_name": "LayoutModel",
      "state": {}
     },
     "06e11f82b78947988f5e6a40a8d2f191": {
      "model_module": "@jupyter-widgets/controls",
      "model_module_version": "1.5.0",
      "model_name": "DescriptionStyleModel",
      "state": {
       "description_width": ""
      }
     },
     "06e417298e2e4c93bfd44db90d47d077": {
      "model_module": "@jupyter-widgets/controls",
      "model_module_version": "1.5.0",
      "model_name": "HTMLModel",
      "state": {
       "layout": "IPY_MODEL_3979d488f5ca4bb7b9752f190f516e49",
       "style": "IPY_MODEL_23d02aee6f02490688abd31c971c5a82",
       "value": "100%"
      }
     },
     "07019ea46ea046e0b87c8e4a25c6963b": {
      "model_module": "@jupyter-widgets/controls",
      "model_module_version": "1.5.0",
      "model_name": "HTMLModel",
      "state": {
       "layout": "IPY_MODEL_f27ed8d568e3443b8ebfc12dea126023",
       "style": "IPY_MODEL_8ccf6c8ad7a94dee96a0b8f1c326da34",
       "value": "100%"
      }
     },
     "07d17a674a6348fc8fa411e197b78069": {
      "model_module": "@jupyter-widgets/controls",
      "model_module_version": "1.5.0",
      "model_name": "ProgressStyleModel",
      "state": {
       "description_width": ""
      }
     },
     "080b15f229de42e488724f68e64030ec": {
      "model_module": "@jupyter-widgets/controls",
      "model_module_version": "1.5.0",
      "model_name": "HBoxModel",
      "state": {
       "children": [
        "IPY_MODEL_8bde0caeebf740c4bc667fbfa72d02ed",
        "IPY_MODEL_1485dc20e8a9448a8d53f4b75b48f675",
        "IPY_MODEL_7598e2700b684d90841799187dfcc138"
       ],
       "layout": "IPY_MODEL_30ebffb12b0f4b59abeb9b83b0a6fbdc"
      }
     },
     "084efb17fade418aac55ccf88c99373d": {
      "model_module": "@jupyter-widgets/base",
      "model_module_version": "1.2.0",
      "model_name": "LayoutModel",
      "state": {}
     },
     "09ee37cbf2df41f5b293113c69bb3a24": {
      "model_module": "@jupyter-widgets/base",
      "model_module_version": "1.2.0",
      "model_name": "LayoutModel",
      "state": {}
     },
     "0b1a304bd15f47ec8858bfd900d11484": {
      "model_module": "@jupyter-widgets/controls",
      "model_module_version": "1.5.0",
      "model_name": "HTMLModel",
      "state": {
       "layout": "IPY_MODEL_ba807cc513b74d7d8eeb027c2910b83d",
       "style": "IPY_MODEL_cb816fa26def400fb32343b0dd2f8917",
       "value": " 14/14 [00:37&lt;00:00,  2.73s/it]"
      }
     },
     "0b1b5e2e830e40bb969f2adc1614aea5": {
      "model_module": "@jupyter-widgets/controls",
      "model_module_version": "1.5.0",
      "model_name": "FloatProgressModel",
      "state": {
       "bar_style": "success",
       "layout": "IPY_MODEL_1f96bc76575143e0bbfa6f656bc14379",
       "max": 14,
       "style": "IPY_MODEL_147d6e998a764a2d9829860f250560d9",
       "value": 14
      }
     },
     "0b4691c9dc8c4730b2406addff4465cf": {
      "model_module": "@jupyter-widgets/controls",
      "model_module_version": "1.5.0",
      "model_name": "HTMLModel",
      "state": {
       "layout": "IPY_MODEL_45f72b16772f40e081fb9d967266f68d",
       "style": "IPY_MODEL_43813cdb3cc948f49df4d4f3c7bbca4d",
       "value": "100%"
      }
     },
     "0b69df04be5841c59960a17eb4f82d76": {
      "model_module": "@jupyter-widgets/controls",
      "model_module_version": "1.5.0",
      "model_name": "HBoxModel",
      "state": {
       "children": [
        "IPY_MODEL_aef0ceb8c0ae4015b63ea8b2d521df89",
        "IPY_MODEL_749e6b87082c4e4bbdd4030cad16b4ca",
        "IPY_MODEL_1ce6f12be1c846d6b0b2f907eb606fa8"
       ],
       "layout": "IPY_MODEL_26ee41edcc1d4611b2c3bf8d590a98f1"
      }
     },
     "0b79ec824d3b4d8aa3cae468021e6ea0": {
      "model_module": "@jupyter-widgets/base",
      "model_module_version": "1.2.0",
      "model_name": "LayoutModel",
      "state": {}
     },
     "0bca4e3d211e481b930b97cb27172398": {
      "model_module": "@jupyter-widgets/controls",
      "model_module_version": "1.5.0",
      "model_name": "HTMLModel",
      "state": {
       "layout": "IPY_MODEL_d2089328393446879bd5bea14c4c46d4",
       "style": "IPY_MODEL_acda4f5b396441189693bf7bffcb701c",
       "value": "100%"
      }
     },
     "0bdac01ac9714d238307c195beb0e4d6": {
      "model_module": "@jupyter-widgets/controls",
      "model_module_version": "1.5.0",
      "model_name": "ProgressStyleModel",
      "state": {
       "description_width": ""
      }
     },
     "0cb625922b5f481f85c9215f9f4b3d23": {
      "model_module": "@jupyter-widgets/base",
      "model_module_version": "1.2.0",
      "model_name": "LayoutModel",
      "state": {}
     },
     "0d06caff45da43a387feb0da28b050fb": {
      "model_module": "@jupyter-widgets/base",
      "model_module_version": "1.2.0",
      "model_name": "LayoutModel",
      "state": {}
     },
     "0d313cc29bcc46dfb446da66fa807e59": {
      "model_module": "@jupyter-widgets/controls",
      "model_module_version": "1.5.0",
      "model_name": "HBoxModel",
      "state": {
       "children": [
        "IPY_MODEL_83c2fac7843c4663a1b118a4efb743db",
        "IPY_MODEL_fa70d6fcb22147d0955df9e8bddc056c",
        "IPY_MODEL_b95eedb43b064ce789790750e2c53bb5"
       ],
       "layout": "IPY_MODEL_2a462a43f7d74fce8b387d4a583712ec"
      }
     },
     "0d3409116f40446cbda24b66b80c0548": {
      "model_module": "@jupyter-widgets/controls",
      "model_module_version": "1.5.0",
      "model_name": "FloatProgressModel",
      "state": {
       "bar_style": "success",
       "layout": "IPY_MODEL_69ba768c93bf4d2585127c9dd8cca2a1",
       "max": 3,
       "style": "IPY_MODEL_e8f26801067b4ef1828250d9824be275",
       "value": 3
      }
     },
     "0d4bc172676c4414864818a4ac6416fe": {
      "model_module": "@jupyter-widgets/controls",
      "model_module_version": "1.5.0",
      "model_name": "HTMLModel",
      "state": {
       "layout": "IPY_MODEL_199baf487d344705bd0e350dbae70ae1",
       "style": "IPY_MODEL_06e11f82b78947988f5e6a40a8d2f191",
       "value": "100%"
      }
     },
     "0d4cdb3348194428b360906169fcc25e": {
      "model_module": "@jupyter-widgets/base",
      "model_module_version": "1.2.0",
      "model_name": "LayoutModel",
      "state": {}
     },
     "0d5bdf9af54d439ca3f4b690da144284": {
      "model_module": "@jupyter-widgets/controls",
      "model_module_version": "1.5.0",
      "model_name": "HTMLModel",
      "state": {
       "layout": "IPY_MODEL_32e522644e3548eeb2a61abd4431c1dc",
       "style": "IPY_MODEL_6598381da8a44dae8d3e17c72ca74f0d",
       "value": "100%"
      }
     },
     "0dc955968bf4464581e4aff52c7e0667": {
      "model_module": "@jupyter-widgets/controls",
      "model_module_version": "1.5.0",
      "model_name": "HTMLModel",
      "state": {
       "layout": "IPY_MODEL_b1a71496bea04ea984d4eaf411c2d37c",
       "style": "IPY_MODEL_22eb8c8a0e00490a9134f86bf95f647a",
       "value": " 3/3 [00:11&lt;00:00,  4.32s/it]"
      }
     },
     "0eaa5fd6d17d42739186b27b186fa2d4": {
      "model_module": "@jupyter-widgets/base",
      "model_module_version": "1.2.0",
      "model_name": "LayoutModel",
      "state": {}
     },
     "0eb10b760dc54f0697396bb1551ea804": {
      "model_module": "@jupyter-widgets/controls",
      "model_module_version": "1.5.0",
      "model_name": "FloatProgressModel",
      "state": {
       "bar_style": "success",
       "layout": "IPY_MODEL_4249d3d2ad154f738789fb624a8e0867",
       "max": 14,
       "style": "IPY_MODEL_5976186c6a0042c2b496154953e7726d",
       "value": 14
      }
     },
     "0f08dbddfbf34a21a5d145735909cfec": {
      "model_module": "@jupyter-widgets/base",
      "model_module_version": "1.2.0",
      "model_name": "LayoutModel",
      "state": {}
     },
     "0f26d84da7c14a52a03a1d4cfbbc0405": {
      "model_module": "@jupyter-widgets/controls",
      "model_module_version": "1.5.0",
      "model_name": "DescriptionStyleModel",
      "state": {
       "description_width": ""
      }
     },
     "0f9c8d0f704c4e5ba707cf9fc4bd45ae": {
      "model_module": "@jupyter-widgets/controls",
      "model_module_version": "1.5.0",
      "model_name": "HTMLModel",
      "state": {
       "layout": "IPY_MODEL_4fcce8713d9f40efa519fad4c3f6d159",
       "style": "IPY_MODEL_287a7573648040f38d693b279d747f3b",
       "value": "100%"
      }
     },
     "1004c413f391408aa53526d8882d9ea5": {
      "model_module": "@jupyter-widgets/controls",
      "model_module_version": "1.5.0",
      "model_name": "HTMLModel",
      "state": {
       "layout": "IPY_MODEL_98cb9a5f782d406992c4ab9ddc0d89c4",
       "style": "IPY_MODEL_583d1f1adf7746b78eeac541b547405b",
       "value": "100%"
      }
     },
     "10e39dc37bd944b3a6cea613c2c089f3": {
      "model_module": "@jupyter-widgets/controls",
      "model_module_version": "1.5.0",
      "model_name": "DescriptionStyleModel",
      "state": {
       "description_width": ""
      }
     },
     "115a126a5dc14d9e9e0c1a91e79ef53e": {
      "model_module": "@jupyter-widgets/base",
      "model_module_version": "1.2.0",
      "model_name": "LayoutModel",
      "state": {}
     },
     "11d0dc6ff6db4abe8434128bba74e17a": {
      "model_module": "@jupyter-widgets/controls",
      "model_module_version": "1.5.0",
      "model_name": "DescriptionStyleModel",
      "state": {
       "description_width": ""
      }
     },
     "11fddfdf1de84920ae47280c167037ea": {
      "model_module": "@jupyter-widgets/controls",
      "model_module_version": "1.5.0",
      "model_name": "HBoxModel",
      "state": {
       "children": [
        "IPY_MODEL_d7843afa00d04ccfa17c4f7a2c0ead9c",
        "IPY_MODEL_b706432285f34e75ae5cff63bc0f811e",
        "IPY_MODEL_8039000c118c4b35bc9ffcc4d13b27f3"
       ],
       "layout": "IPY_MODEL_fc340e178dcf4841a50d791a1e61b133"
      }
     },
     "147d6e998a764a2d9829860f250560d9": {
      "model_module": "@jupyter-widgets/controls",
      "model_module_version": "1.5.0",
      "model_name": "ProgressStyleModel",
      "state": {
       "description_width": ""
      }
     },
     "1485dc20e8a9448a8d53f4b75b48f675": {
      "model_module": "@jupyter-widgets/controls",
      "model_module_version": "1.5.0",
      "model_name": "FloatProgressModel",
      "state": {
       "bar_style": "danger",
       "layout": "IPY_MODEL_305aca9f3f244ad0b9b26ed91ec3af33",
       "max": 14,
       "style": "IPY_MODEL_18d7ef9ee88a455dbbfac965b15c9e1a",
       "value": 10
      }
     },
     "1574450acc874b6f9d2c6fa210c91894": {
      "model_module": "@jupyter-widgets/base",
      "model_module_version": "1.2.0",
      "model_name": "LayoutModel",
      "state": {}
     },
     "16db80d7528e45a79bb7708b65544c05": {
      "model_module": "@jupyter-widgets/controls",
      "model_module_version": "1.5.0",
      "model_name": "FloatProgressModel",
      "state": {
       "bar_style": "success",
       "layout": "IPY_MODEL_8d4c233f2bd34fc785689c28a4443ae4",
       "max": 3,
       "style": "IPY_MODEL_5d60a27d33a64fe0b9065d67b7327045",
       "value": 3
      }
     },
     "16fb2ba10ca54fe5b113a07e4b74a364": {
      "model_module": "@jupyter-widgets/controls",
      "model_module_version": "1.5.0",
      "model_name": "FloatProgressModel",
      "state": {
       "bar_style": "success",
       "layout": "IPY_MODEL_edf5997f4a0c488abc2bd51d603e413b",
       "max": 3,
       "style": "IPY_MODEL_8184abafd437439481a39fe8f50c41bf",
       "value": 3
      }
     },
     "1770df0cfa014ba89fca32d9ccf66276": {
      "model_module": "@jupyter-widgets/base",
      "model_module_version": "1.2.0",
      "model_name": "LayoutModel",
      "state": {}
     },
     "17800447be014770ae05c74ce802f81c": {
      "model_module": "@jupyter-widgets/controls",
      "model_module_version": "1.5.0",
      "model_name": "DescriptionStyleModel",
      "state": {
       "description_width": ""
      }
     },
     "18d7ef9ee88a455dbbfac965b15c9e1a": {
      "model_module": "@jupyter-widgets/controls",
      "model_module_version": "1.5.0",
      "model_name": "ProgressStyleModel",
      "state": {
       "description_width": ""
      }
     },
     "18fb54df65384bb191ef2dd090fb1024": {
      "model_module": "@jupyter-widgets/base",
      "model_module_version": "1.2.0",
      "model_name": "LayoutModel",
      "state": {}
     },
     "195b90f25ae447488562295c171c2e4d": {
      "model_module": "@jupyter-widgets/controls",
      "model_module_version": "1.5.0",
      "model_name": "DescriptionStyleModel",
      "state": {
       "description_width": ""
      }
     },
     "195bf44553064ef9b5c442ed7f8d14c0": {
      "model_module": "@jupyter-widgets/controls",
      "model_module_version": "1.5.0",
      "model_name": "FloatProgressModel",
      "state": {
       "bar_style": "success",
       "layout": "IPY_MODEL_a457bdaff0b54319a7e04193fee288ff",
       "max": 14,
       "style": "IPY_MODEL_5d64f8724c144e37b875cd67b10ec38b",
       "value": 14
      }
     },
     "199baf487d344705bd0e350dbae70ae1": {
      "model_module": "@jupyter-widgets/base",
      "model_module_version": "1.2.0",
      "model_name": "LayoutModel",
      "state": {}
     },
     "19ea34ec07da4d61acec8c855bbc02bf": {
      "model_module": "@jupyter-widgets/base",
      "model_module_version": "1.2.0",
      "model_name": "LayoutModel",
      "state": {}
     },
     "1b128390ad5d40609c6853ee0320d36b": {
      "model_module": "@jupyter-widgets/controls",
      "model_module_version": "1.5.0",
      "model_name": "FloatProgressModel",
      "state": {
       "bar_style": "success",
       "layout": "IPY_MODEL_be41d6ae9f344b5ba9b383d3d5c484bf",
       "max": 3,
       "style": "IPY_MODEL_07d17a674a6348fc8fa411e197b78069",
       "value": 3
      }
     },
     "1b3e9c32128b4afd82e6239a2c210fd1": {
      "model_module": "@jupyter-widgets/base",
      "model_module_version": "1.2.0",
      "model_name": "LayoutModel",
      "state": {}
     },
     "1bb5e4ab089345e486e8cb7702e2a389": {
      "model_module": "@jupyter-widgets/controls",
      "model_module_version": "1.5.0",
      "model_name": "HBoxModel",
      "state": {
       "children": [
        "IPY_MODEL_b4a6ca293cf340b89bc8cee747bd4df1",
        "IPY_MODEL_25903453397444dc8539ba4a20d941d7",
        "IPY_MODEL_4c514c61a1824da0bb353e154c21288e"
       ],
       "layout": "IPY_MODEL_44d1cb966cd74d34b917a08160071f86"
      }
     },
     "1c4bcfb11581445a8d46ce754ec37180": {
      "model_module": "@jupyter-widgets/base",
      "model_module_version": "1.2.0",
      "model_name": "LayoutModel",
      "state": {}
     },
     "1c5a097cc6654b498bb5d102de2ff9a9": {
      "model_module": "@jupyter-widgets/controls",
      "model_module_version": "1.5.0",
      "model_name": "HBoxModel",
      "state": {
       "children": [
        "IPY_MODEL_f3448abc46c64dcc99030e01f7f7c0ad",
        "IPY_MODEL_0eb10b760dc54f0697396bb1551ea804",
        "IPY_MODEL_e6344aec656a4e2ebe984c2af55086ee"
       ],
       "layout": "IPY_MODEL_30edfff582484b6493b79792a84b5d78"
      }
     },
     "1ce6f12be1c846d6b0b2f907eb606fa8": {
      "model_module": "@jupyter-widgets/controls",
      "model_module_version": "1.5.0",
      "model_name": "HTMLModel",
      "state": {
       "layout": "IPY_MODEL_93d601e2d59e468bb0a2e59df885b6bb",
       "style": "IPY_MODEL_6022fd1d8b704696a3ea76aed0286917",
       "value": " 14/14 [00:34&lt;00:00,  2.58s/it]"
      }
     },
     "1d307ce0a82445ba9e28c933d9dc26c9": {
      "model_module": "@jupyter-widgets/controls",
      "model_module_version": "1.5.0",
      "model_name": "HBoxModel",
      "state": {
       "children": [
        "IPY_MODEL_ec90cfce9177485b883662ef681ad8d6",
        "IPY_MODEL_d508b30885034954883d0ecb2f25290a",
        "IPY_MODEL_7863273832e24bb2b5709eec56869f46"
       ],
       "layout": "IPY_MODEL_e704b69e2c0147598b87d70959cc1d19"
      }
     },
     "1ea51bc560ca4022bb1a949c79a0f734": {
      "model_module": "@jupyter-widgets/controls",
      "model_module_version": "1.5.0",
      "model_name": "HTMLModel",
      "state": {
       "layout": "IPY_MODEL_468581f8cddc4e7bb1610ac6320b66b7",
       "style": "IPY_MODEL_d13dd26971b44151b9d2858eba28a261",
       "value": "100%"
      }
     },
     "1f96bc76575143e0bbfa6f656bc14379": {
      "model_module": "@jupyter-widgets/base",
      "model_module_version": "1.2.0",
      "model_name": "LayoutModel",
      "state": {}
     },
     "1f98f10a0be946e8a023ccbd3bb84e77": {
      "model_module": "@jupyter-widgets/base",
      "model_module_version": "1.2.0",
      "model_name": "LayoutModel",
      "state": {}
     },
     "1fc2b21844534159a368b1806fac3a9b": {
      "model_module": "@jupyter-widgets/controls",
      "model_module_version": "1.5.0",
      "model_name": "DescriptionStyleModel",
      "state": {
       "description_width": ""
      }
     },
     "1fc82bd317434156a2e9298ba5e183fd": {
      "model_module": "@jupyter-widgets/controls",
      "model_module_version": "1.5.0",
      "model_name": "HTMLModel",
      "state": {
       "layout": "IPY_MODEL_cc49fe955bc9415abe5836ccaad61025",
       "style": "IPY_MODEL_ddd0a93088564db392114ce48622e704",
       "value": "100%"
      }
     },
     "1fe284f8d07f40878ff479927110d9b2": {
      "model_module": "@jupyter-widgets/controls",
      "model_module_version": "1.5.0",
      "model_name": "HBoxModel",
      "state": {
       "children": [
        "IPY_MODEL_d79d6b73af2144729bed6a955c95e6e1",
        "IPY_MODEL_c2fde99dd01245ec95f086a3473cf135",
        "IPY_MODEL_a0a6992b1429433fbbbaf3d5f05d24c3"
       ],
       "layout": "IPY_MODEL_98307e1ba8e542d28735e73168500439"
      }
     },
     "2014c622957f4172bf5538e7032073d7": {
      "model_module": "@jupyter-widgets/base",
      "model_module_version": "1.2.0",
      "model_name": "LayoutModel",
      "state": {}
     },
     "20e2e54ff7b6404a8ef36f22b44b6529": {
      "model_module": "@jupyter-widgets/controls",
      "model_module_version": "1.5.0",
      "model_name": "FloatProgressModel",
      "state": {
       "bar_style": "success",
       "layout": "IPY_MODEL_fdb9a369ccea4ed5983d9d8248c46c5d",
       "max": 14,
       "style": "IPY_MODEL_cd78b7965d4d428a8cb50a5b211e9793",
       "value": 14
      }
     },
     "212dcdc1e2d240d883b18393d45acda8": {
      "model_module": "@jupyter-widgets/base",
      "model_module_version": "1.2.0",
      "model_name": "LayoutModel",
      "state": {}
     },
     "2170228775ec4e85803342171d2bcc44": {
      "model_module": "@jupyter-widgets/base",
      "model_module_version": "1.2.0",
      "model_name": "LayoutModel",
      "state": {}
     },
     "219404a0aa80406fba4e1a59864e213e": {
      "model_module": "@jupyter-widgets/base",
      "model_module_version": "1.2.0",
      "model_name": "LayoutModel",
      "state": {}
     },
     "219afd487156452a86e2406576ecfcc9": {
      "model_module": "@jupyter-widgets/base",
      "model_module_version": "1.2.0",
      "model_name": "LayoutModel",
      "state": {}
     },
     "21b051ce1eb44d588eb8484bfb57c09c": {
      "model_module": "@jupyter-widgets/controls",
      "model_module_version": "1.5.0",
      "model_name": "HTMLModel",
      "state": {
       "layout": "IPY_MODEL_8b16a795483843d3b70dba6e1fd26a29",
       "style": "IPY_MODEL_845af8d2da2a4ab4ad8df8b4e2341619",
       "value": " 14/14 [00:34&lt;00:00,  2.59s/it]"
      }
     },
     "21d4e7e9c0ce4ddda97e55cf9f588e7c": {
      "model_module": "@jupyter-widgets/base",
      "model_module_version": "1.2.0",
      "model_name": "LayoutModel",
      "state": {}
     },
     "229395b963b84118856df1a35e4fc8fe": {
      "model_module": "@jupyter-widgets/controls",
      "model_module_version": "1.5.0",
      "model_name": "HBoxModel",
      "state": {
       "children": [
        "IPY_MODEL_dcca8bf40bd64061b09a211cc68bba61",
        "IPY_MODEL_1b128390ad5d40609c6853ee0320d36b",
        "IPY_MODEL_82fb3cf99ebb4e96ac943460c9281ad7"
       ],
       "layout": "IPY_MODEL_e59fd9367547423fbe88c0a69e5b5d4f"
      }
     },
     "22eb8c8a0e00490a9134f86bf95f647a": {
      "model_module": "@jupyter-widgets/controls",
      "model_module_version": "1.5.0",
      "model_name": "DescriptionStyleModel",
      "state": {
       "description_width": ""
      }
     },
     "22fd4ea1bcd34be88b6b8c7fe475ca29": {
      "model_module": "@jupyter-widgets/controls",
      "model_module_version": "1.5.0",
      "model_name": "HBoxModel",
      "state": {
       "children": [
        "IPY_MODEL_417fab544a4646ed858872a9006749d0",
        "IPY_MODEL_16fb2ba10ca54fe5b113a07e4b74a364",
        "IPY_MODEL_eba97bc2fe554e4d89a75a68452728ea"
       ],
       "layout": "IPY_MODEL_0d4cdb3348194428b360906169fcc25e"
      }
     },
     "23242f0b8c324c04b28740701db618b7": {
      "model_module": "@jupyter-widgets/controls",
      "model_module_version": "1.5.0",
      "model_name": "HBoxModel",
      "state": {
       "children": [
        "IPY_MODEL_802c5562f59f42ef96997de1b9feb3b5",
        "IPY_MODEL_5082c28037254c02a2c7b11b1fec3d24",
        "IPY_MODEL_cb08a9ff3d324eb28b1c29892c887232"
       ],
       "layout": "IPY_MODEL_01d8b4a699f146feb03b588bf69025c8"
      }
     },
     "234e24831a0f4f43bc69f819aff734ef": {
      "model_module": "@jupyter-widgets/base",
      "model_module_version": "1.2.0",
      "model_name": "LayoutModel",
      "state": {}
     },
     "23d02aee6f02490688abd31c971c5a82": {
      "model_module": "@jupyter-widgets/controls",
      "model_module_version": "1.5.0",
      "model_name": "DescriptionStyleModel",
      "state": {
       "description_width": ""
      }
     },
     "23f649b8681c4860bb7c7d5a1e876cac": {
      "model_module": "@jupyter-widgets/base",
      "model_module_version": "1.2.0",
      "model_name": "LayoutModel",
      "state": {}
     },
     "23ff1d5181ff474a8548c4341dace698": {
      "model_module": "@jupyter-widgets/controls",
      "model_module_version": "1.5.0",
      "model_name": "DescriptionStyleModel",
      "state": {
       "description_width": ""
      }
     },
     "2493d03c7bd34717904cab4538dd29ad": {
      "model_module": "@jupyter-widgets/base",
      "model_module_version": "1.2.0",
      "model_name": "LayoutModel",
      "state": {}
     },
     "24aeaa95de3f4885976b8a9a38c9b3bf": {
      "model_module": "@jupyter-widgets/controls",
      "model_module_version": "1.5.0",
      "model_name": "ProgressStyleModel",
      "state": {
       "description_width": ""
      }
     },
     "2503dfb81f4847be8a2dd83ba9fce570": {
      "model_module": "@jupyter-widgets/base",
      "model_module_version": "1.2.0",
      "model_name": "LayoutModel",
      "state": {}
     },
     "2551adbdd0364fdcb7901efe8a24fbd1": {
      "model_module": "@jupyter-widgets/controls",
      "model_module_version": "1.5.0",
      "model_name": "FloatProgressModel",
      "state": {
       "bar_style": "success",
       "layout": "IPY_MODEL_a362902f497348d289d27ca0913068fe",
       "max": 3,
       "style": "IPY_MODEL_ab4c0e768492431bbb35ce04a23dce63",
       "value": 3
      }
     },
     "25604506d9dd4215b59f34d9b049de1a": {
      "model_module": "@jupyter-widgets/controls",
      "model_module_version": "1.5.0",
      "model_name": "HBoxModel",
      "state": {
       "children": [
        "IPY_MODEL_1004c413f391408aa53526d8882d9ea5",
        "IPY_MODEL_6ab2c800eaef42e4a286a0aab35ed190",
        "IPY_MODEL_e70f3c2d70b247df9fb2de2b32a22bdd"
       ],
       "layout": "IPY_MODEL_21d4e7e9c0ce4ddda97e55cf9f588e7c"
      }
     },
     "25903453397444dc8539ba4a20d941d7": {
      "model_module": "@jupyter-widgets/controls",
      "model_module_version": "1.5.0",
      "model_name": "FloatProgressModel",
      "state": {
       "bar_style": "success",
       "layout": "IPY_MODEL_bcd1686c6e77476086983a24fa87b982",
       "max": 14,
       "style": "IPY_MODEL_63496197b64c4981aa1841e5dd0ed3a2",
       "value": 14
      }
     },
     "25c6f48933ff4136bbdfb125b1cd897e": {
      "model_module": "@jupyter-widgets/controls",
      "model_module_version": "1.5.0",
      "model_name": "HTMLModel",
      "state": {
       "layout": "IPY_MODEL_cc70f9b3c01c457b99cccc2760db08c8",
       "style": "IPY_MODEL_672d456870d44b42957d9ad3669127cc",
       "value": " 3/3 [00:10&lt;00:00,  4.27s/it]"
      }
     },
     "2675acb784a64d10b3c0d15cb32666e4": {
      "model_module": "@jupyter-widgets/base",
      "model_module_version": "1.2.0",
      "model_name": "LayoutModel",
      "state": {}
     },
     "26ee41edcc1d4611b2c3bf8d590a98f1": {
      "model_module": "@jupyter-widgets/base",
      "model_module_version": "1.2.0",
      "model_name": "LayoutModel",
      "state": {}
     },
     "271558bdfe944780b3e8a65d2bfe1626": {
      "model_module": "@jupyter-widgets/base",
      "model_module_version": "1.2.0",
      "model_name": "LayoutModel",
      "state": {}
     },
     "271e20a9175e435b9e432bb49ff28515": {
      "model_module": "@jupyter-widgets/base",
      "model_module_version": "1.2.0",
      "model_name": "LayoutModel",
      "state": {}
     },
     "273b1ed998a24d33896bf669abd17f2d": {
      "model_module": "@jupyter-widgets/controls",
      "model_module_version": "1.5.0",
      "model_name": "HTMLModel",
      "state": {
       "layout": "IPY_MODEL_09ee37cbf2df41f5b293113c69bb3a24",
       "style": "IPY_MODEL_506a403f0fdc4f9f8b85aa651285d720",
       "value": " 3/3 [00:10&lt;00:00,  4.07s/it]"
      }
     },
     "2763bab54f6b4f9b9850c8136f67ce38": {
      "model_module": "@jupyter-widgets/controls",
      "model_module_version": "1.5.0",
      "model_name": "ProgressStyleModel",
      "state": {
       "description_width": ""
      }
     },
     "276ce3320f1349639ffd64105f12b350": {
      "model_module": "@jupyter-widgets/base",
      "model_module_version": "1.2.0",
      "model_name": "LayoutModel",
      "state": {}
     },
     "2796d4640e4c4e929e33d1c64b9f54fc": {
      "model_module": "@jupyter-widgets/controls",
      "model_module_version": "1.5.0",
      "model_name": "HTMLModel",
      "state": {
       "layout": "IPY_MODEL_ce1f0f894a92465db9af08981e3b5c55",
       "style": "IPY_MODEL_e6601afb4f444433a8d2e37f465f45ab",
       "value": " 8/14 [00:15&lt;00:17,  2.86s/it]"
      }
     },
     "27eeaee083424c1f81fecc56dea27a6d": {
      "model_module": "@jupyter-widgets/controls",
      "model_module_version": "1.5.0",
      "model_name": "FloatProgressModel",
      "state": {
       "bar_style": "success",
       "layout": "IPY_MODEL_23f649b8681c4860bb7c7d5a1e876cac",
       "max": 14,
       "style": "IPY_MODEL_b6148f8af3974dfd862a9b5fe1ab3bd7",
       "value": 14
      }
     },
     "2820391b62434f3d8c4aaf1ce302cf30": {
      "model_module": "@jupyter-widgets/controls",
      "model_module_version": "1.5.0",
      "model_name": "HBoxModel",
      "state": {
       "children": [
        "IPY_MODEL_06e417298e2e4c93bfd44db90d47d077",
        "IPY_MODEL_16db80d7528e45a79bb7708b65544c05",
        "IPY_MODEL_b56f52d366d44191901d75a4215ee301"
       ],
       "layout": "IPY_MODEL_90220a88101d49e888b6f83bfb6df436"
      }
     },
     "287a7573648040f38d693b279d747f3b": {
      "model_module": "@jupyter-widgets/controls",
      "model_module_version": "1.5.0",
      "model_name": "DescriptionStyleModel",
      "state": {
       "description_width": ""
      }
     },
     "28d7d40964e34064a071c4f266111d5e": {
      "model_module": "@jupyter-widgets/controls",
      "model_module_version": "1.5.0",
      "model_name": "HTMLModel",
      "state": {
       "layout": "IPY_MODEL_a05d377b458949ba8d7dfb4733c297c6",
       "style": "IPY_MODEL_9f05b8a4032d4eeaa91f17c8df6043fd",
       "value": " 14/14 [00:34&lt;00:00,  2.58s/it]"
      }
     },
     "295a8a63e0a94d208ade3affb9d68e12": {
      "model_module": "@jupyter-widgets/controls",
      "model_module_version": "1.5.0",
      "model_name": "FloatProgressModel",
      "state": {
       "bar_style": "success",
       "layout": "IPY_MODEL_9ac45458d0f9497bac72211e8da9c1ce",
       "max": 14,
       "style": "IPY_MODEL_6ce6dc7f238243caaf36f8495409d552",
       "value": 14
      }
     },
     "298d55ec99f54dcd8e73ef8eba7e4595": {
      "model_module": "@jupyter-widgets/controls",
      "model_module_version": "1.5.0",
      "model_name": "FloatProgressModel",
      "state": {
       "bar_style": "success",
       "layout": "IPY_MODEL_3454421d51a5473faae3117d722bcde8",
       "max": 3,
       "style": "IPY_MODEL_ceb09d33dd824785acf3458f0f6f5b90",
       "value": 3
      }
     },
     "29a3743fec0d45128d6c276ee5ad4c42": {
      "model_module": "@jupyter-widgets/controls",
      "model_module_version": "1.5.0",
      "model_name": "HBoxModel",
      "state": {
       "children": [
        "IPY_MODEL_7c4f5b395aa7452e91c654d6ad1085cb",
        "IPY_MODEL_bbe85ce599b24733b854475ab22a5979",
        "IPY_MODEL_6f5a802ef427491ab972a34df2bf0c69"
       ],
       "layout": "IPY_MODEL_a47beed7ad784990aa8a2fd794081383"
      }
     },
     "2a1b43fb3d5e41dbaad395e88d69dc17": {
      "model_module": "@jupyter-widgets/controls",
      "model_module_version": "1.5.0",
      "model_name": "DescriptionStyleModel",
      "state": {
       "description_width": ""
      }
     },
     "2a2a37aad76a438cae578d3ae288b46b": {
      "model_module": "@jupyter-widgets/base",
      "model_module_version": "1.2.0",
      "model_name": "LayoutModel",
      "state": {}
     },
     "2a462a43f7d74fce8b387d4a583712ec": {
      "model_module": "@jupyter-widgets/base",
      "model_module_version": "1.2.0",
      "model_name": "LayoutModel",
      "state": {}
     },
     "2a65240a15d4499fbd0cf942492a4711": {
      "model_module": "@jupyter-widgets/controls",
      "model_module_version": "1.5.0",
      "model_name": "HBoxModel",
      "state": {
       "children": [
        "IPY_MODEL_e2bebc0e11bb4c67b655a2bb0e52d17c",
        "IPY_MODEL_295a8a63e0a94d208ade3affb9d68e12",
        "IPY_MODEL_74b05596216a49a1b150b9be0061ffef"
       ],
       "layout": "IPY_MODEL_0264a0f5edbd4d84b646529d5900ab46"
      }
     },
     "2a75bc70851b42b69eacea7343414dbb": {
      "model_module": "@jupyter-widgets/controls",
      "model_module_version": "1.5.0",
      "model_name": "DescriptionStyleModel",
      "state": {
       "description_width": ""
      }
     },
     "2b06f801070a48a5bb5f39f5577cf5f1": {
      "model_module": "@jupyter-widgets/controls",
      "model_module_version": "1.5.0",
      "model_name": "HTMLModel",
      "state": {
       "layout": "IPY_MODEL_539f0d72dd3543fbad79611d9f1bd031",
       "style": "IPY_MODEL_55e7a37abac24908961c342bc93befe3",
       "value": "100%"
      }
     },
     "2cede2330d884562a62166d0d62dcd9b": {
      "model_module": "@jupyter-widgets/controls",
      "model_module_version": "1.5.0",
      "model_name": "HTMLModel",
      "state": {
       "layout": "IPY_MODEL_384d6f8e187a4707b65a2681e16fe7c3",
       "style": "IPY_MODEL_009b2957b305415891bb4aed8cebb918",
       "value": "100%"
      }
     },
     "2d314896d673436ca34fb2700ce24e3f": {
      "model_module": "@jupyter-widgets/controls",
      "model_module_version": "1.5.0",
      "model_name": "ProgressStyleModel",
      "state": {
       "description_width": ""
      }
     },
     "2d3c1b2fd2cc4a93801046220e37b45b": {
      "model_module": "@jupyter-widgets/controls",
      "model_module_version": "1.5.0",
      "model_name": "HBoxModel",
      "state": {
       "children": [
        "IPY_MODEL_ff7181daebce46c8a92713b3908a3645",
        "IPY_MODEL_306500c09d4a4504b0e75f825b372fb8",
        "IPY_MODEL_32176fcf74d844e6b25ff2e5158bb5eb"
       ],
       "layout": "IPY_MODEL_801c18dea9304ecbb6bb0636069827d4"
      }
     },
     "2efac13743ad48a393316dbb618326c8": {
      "model_module": "@jupyter-widgets/base",
      "model_module_version": "1.2.0",
      "model_name": "LayoutModel",
      "state": {}
     },
     "2f5c5af2a7194cbe9dede0e4b86308d8": {
      "model_module": "@jupyter-widgets/base",
      "model_module_version": "1.2.0",
      "model_name": "LayoutModel",
      "state": {}
     },
     "2f72b1c595794230af9af83a13d39cca": {
      "model_module": "@jupyter-widgets/base",
      "model_module_version": "1.2.0",
      "model_name": "LayoutModel",
      "state": {}
     },
     "3007aa1f6ee741e29dae0f62533f5049": {
      "model_module": "@jupyter-widgets/controls",
      "model_module_version": "1.5.0",
      "model_name": "DescriptionStyleModel",
      "state": {
       "description_width": ""
      }
     },
     "305aca9f3f244ad0b9b26ed91ec3af33": {
      "model_module": "@jupyter-widgets/base",
      "model_module_version": "1.2.0",
      "model_name": "LayoutModel",
      "state": {}
     },
     "306500c09d4a4504b0e75f825b372fb8": {
      "model_module": "@jupyter-widgets/controls",
      "model_module_version": "1.5.0",
      "model_name": "FloatProgressModel",
      "state": {
       "bar_style": "success",
       "layout": "IPY_MODEL_4627a97cda92444ba7641b387f1ae6bc",
       "max": 8,
       "style": "IPY_MODEL_bf2f79d4b8554fe0a9096bcceea7454d",
       "value": 8
      }
     },
     "3088d09c6b51431da8feba468e073631": {
      "model_module": "@jupyter-widgets/base",
      "model_module_version": "1.2.0",
      "model_name": "LayoutModel",
      "state": {}
     },
     "30abf8ccf99543268d1324b1c5b5ed78": {
      "model_module": "@jupyter-widgets/base",
      "model_module_version": "1.2.0",
      "model_name": "LayoutModel",
      "state": {}
     },
     "30ea388980cf4a02882332baed3e3218": {
      "model_module": "@jupyter-widgets/controls",
      "model_module_version": "1.5.0",
      "model_name": "HBoxModel",
      "state": {
       "children": [
        "IPY_MODEL_adeb3d409ce9403b90fbd2fabd5b7981",
        "IPY_MODEL_0b1b5e2e830e40bb969f2adc1614aea5",
        "IPY_MODEL_9bd67eb962624cffae4c442e70298f11"
       ],
       "layout": "IPY_MODEL_2f5c5af2a7194cbe9dede0e4b86308d8"
      }
     },
     "30ebffb12b0f4b59abeb9b83b0a6fbdc": {
      "model_module": "@jupyter-widgets/base",
      "model_module_version": "1.2.0",
      "model_name": "LayoutModel",
      "state": {}
     },
     "30edfff582484b6493b79792a84b5d78": {
      "model_module": "@jupyter-widgets/base",
      "model_module_version": "1.2.0",
      "model_name": "LayoutModel",
      "state": {}
     },
     "310227bd46d14740a6e6c01f119281fe": {
      "model_module": "@jupyter-widgets/base",
      "model_module_version": "1.2.0",
      "model_name": "LayoutModel",
      "state": {}
     },
     "313184218519478e81dcb94e3da68a3e": {
      "model_module": "@jupyter-widgets/base",
      "model_module_version": "1.2.0",
      "model_name": "LayoutModel",
      "state": {}
     },
     "317058f3878e4108b4079aa84dd60582": {
      "model_module": "@jupyter-widgets/controls",
      "model_module_version": "1.5.0",
      "model_name": "HBoxModel",
      "state": {
       "children": [
        "IPY_MODEL_5d095f99d4c945618fe22682b2919f7f",
        "IPY_MODEL_b42c1ce5b32b407192f3a3d0cc1e8d5c",
        "IPY_MODEL_c699b778decd49ad962699ab3183abb0"
       ],
       "layout": "IPY_MODEL_4936dc8dbc6d405c956ddce5f6a5221e"
      }
     },
     "317d72de13f547c78f6388a685253365": {
      "model_module": "@jupyter-widgets/controls",
      "model_module_version": "1.5.0",
      "model_name": "DescriptionStyleModel",
      "state": {
       "description_width": ""
      }
     },
     "31ad866963ca421385351d2b52b2465d": {
      "model_module": "@jupyter-widgets/controls",
      "model_module_version": "1.5.0",
      "model_name": "HTMLModel",
      "state": {
       "layout": "IPY_MODEL_4b8fe3f450344df59adf09dfde46461c",
       "style": "IPY_MODEL_f02c4f5a3cc94e6a894dfcdd90c4a76c",
       "value": "100%"
      }
     },
     "32176fcf74d844e6b25ff2e5158bb5eb": {
      "model_module": "@jupyter-widgets/controls",
      "model_module_version": "1.5.0",
      "model_name": "HTMLModel",
      "state": {
       "layout": "IPY_MODEL_d1d58a82f6344ab2a101af2e41334a21",
       "style": "IPY_MODEL_af321bf03d344ab5bbf27ecfd4df46e1",
       "value": " 8/8 [00:31&lt;00:00,  4.88s/it]"
      }
     },
     "323409be01bc4fac9783bd8238d5b4de": {
      "model_module": "@jupyter-widgets/base",
      "model_module_version": "1.2.0",
      "model_name": "LayoutModel",
      "state": {}
     },
     "3282bc86098446bebd1e8f06a0a2af04": {
      "model_module": "@jupyter-widgets/controls",
      "model_module_version": "1.5.0",
      "model_name": "DescriptionStyleModel",
      "state": {
       "description_width": ""
      }
     },
     "32e522644e3548eeb2a61abd4431c1dc": {
      "model_module": "@jupyter-widgets/base",
      "model_module_version": "1.2.0",
      "model_name": "LayoutModel",
      "state": {}
     },
     "3304e1dd48ff49ecb920ff68b7dbacaa": {
      "model_module": "@jupyter-widgets/base",
      "model_module_version": "1.2.0",
      "model_name": "LayoutModel",
      "state": {}
     },
     "332676bbba814a449eedc22d227442ce": {
      "model_module": "@jupyter-widgets/controls",
      "model_module_version": "1.5.0",
      "model_name": "ProgressStyleModel",
      "state": {
       "description_width": ""
      }
     },
     "332e05a71fd2414fab6ab38afc22187c": {
      "model_module": "@jupyter-widgets/controls",
      "model_module_version": "1.5.0",
      "model_name": "HTMLModel",
      "state": {
       "layout": "IPY_MODEL_58e730ffdfd4482091cdaf8077d0cb8d",
       "style": "IPY_MODEL_85d9ce7fbbea4356a2844cb8e9bd2564",
       "value": "100%"
      }
     },
     "335359af048044b68a622eeed260338f": {
      "model_module": "@jupyter-widgets/controls",
      "model_module_version": "1.5.0",
      "model_name": "HTMLModel",
      "state": {
       "layout": "IPY_MODEL_caae53edbd58462cbc39966b1649dff7",
       "style": "IPY_MODEL_aa3734b8439c46588fafe5f7b191bb02",
       "value": " 57%"
      }
     },
     "335ac4086e8e40ea906ff302e06b35ec": {
      "model_module": "@jupyter-widgets/base",
      "model_module_version": "1.2.0",
      "model_name": "LayoutModel",
      "state": {}
     },
     "3417b3ebb03f4797818201cd315cc5d6": {
      "model_module": "@jupyter-widgets/controls",
      "model_module_version": "1.5.0",
      "model_name": "HTMLModel",
      "state": {
       "layout": "IPY_MODEL_625a723425fa4d9990a4c0a5613fc01c",
       "style": "IPY_MODEL_e9851f713d7243c19f16d596d8687237",
       "value": "100%"
      }
     },
     "341a7cfa9b9240699db09f61bf95cb69": {
      "model_module": "@jupyter-widgets/controls",
      "model_module_version": "1.5.0",
      "model_name": "FloatProgressModel",
      "state": {
       "bar_style": "success",
       "layout": "IPY_MODEL_47338d97ff134b4ba576a42cb2a64c8d",
       "max": 3,
       "style": "IPY_MODEL_e1c181b12aa041edae8c0265a09202d8",
       "value": 3
      }
     },
     "3454421d51a5473faae3117d722bcde8": {
      "model_module": "@jupyter-widgets/base",
      "model_module_version": "1.2.0",
      "model_name": "LayoutModel",
      "state": {}
     },
     "34606ce89b63484aad57b4a2d451950c": {
      "model_module": "@jupyter-widgets/controls",
      "model_module_version": "1.5.0",
      "model_name": "HTMLModel",
      "state": {
       "layout": "IPY_MODEL_49c8c6d9bde6402bb4136d37f94c0fee",
       "style": "IPY_MODEL_c25231556e594901b84222ec98cfa76c",
       "value": "100%"
      }
     },
     "35a3c9c7f0a84db7b11166c968c8e8c5": {
      "model_module": "@jupyter-widgets/base",
      "model_module_version": "1.2.0",
      "model_name": "LayoutModel",
      "state": {}
     },
     "384d6f8e187a4707b65a2681e16fe7c3": {
      "model_module": "@jupyter-widgets/base",
      "model_module_version": "1.2.0",
      "model_name": "LayoutModel",
      "state": {}
     },
     "385052d0c22a494c95a54f3ec5ca9ea2": {
      "model_module": "@jupyter-widgets/base",
      "model_module_version": "1.2.0",
      "model_name": "LayoutModel",
      "state": {}
     },
     "3979d488f5ca4bb7b9752f190f516e49": {
      "model_module": "@jupyter-widgets/base",
      "model_module_version": "1.2.0",
      "model_name": "LayoutModel",
      "state": {}
     },
     "39954bc2a54d43c78994d415f66343e6": {
      "model_module": "@jupyter-widgets/base",
      "model_module_version": "1.2.0",
      "model_name": "LayoutModel",
      "state": {}
     },
     "39ba132769b346d3807f8ffdb35ef4ef": {
      "model_module": "@jupyter-widgets/controls",
      "model_module_version": "1.5.0",
      "model_name": "HTMLModel",
      "state": {
       "layout": "IPY_MODEL_e67dee11d433417985572ac96d041333",
       "style": "IPY_MODEL_e11500d7c68642fbb6c1587fa476ab91",
       "value": "100%"
      }
     },
     "3a71f9045ef64b82ae273c50b5be2d91": {
      "model_module": "@jupyter-widgets/controls",
      "model_module_version": "1.5.0",
      "model_name": "DescriptionStyleModel",
      "state": {
       "description_width": ""
      }
     },
     "3b0a2073456e43cbbc07113f5a06cd57": {
      "model_module": "@jupyter-widgets/base",
      "model_module_version": "1.2.0",
      "model_name": "LayoutModel",
      "state": {}
     },
     "3bf48ed08eed4ac5a645a04c7acea2f0": {
      "model_module": "@jupyter-widgets/controls",
      "model_module_version": "1.5.0",
      "model_name": "ProgressStyleModel",
      "state": {
       "description_width": ""
      }
     },
     "3c3b7115d2d34299bac7a54a435f0f3c": {
      "model_module": "@jupyter-widgets/base",
      "model_module_version": "1.2.0",
      "model_name": "LayoutModel",
      "state": {}
     },
     "3cc8526128264bb280238503853a9de7": {
      "model_module": "@jupyter-widgets/controls",
      "model_module_version": "1.5.0",
      "model_name": "DescriptionStyleModel",
      "state": {
       "description_width": ""
      }
     },
     "3d166a7aee6444dbaa8ad4fbe9667ab8": {
      "model_module": "@jupyter-widgets/controls",
      "model_module_version": "1.5.0",
      "model_name": "FloatProgressModel",
      "state": {
       "bar_style": "success",
       "layout": "IPY_MODEL_30abf8ccf99543268d1324b1c5b5ed78",
       "max": 3,
       "style": "IPY_MODEL_2763bab54f6b4f9b9850c8136f67ce38",
       "value": 3
      }
     },
     "3d636d403f39459285ec539924773592": {
      "model_module": "@jupyter-widgets/controls",
      "model_module_version": "1.5.0",
      "model_name": "HBoxModel",
      "state": {
       "children": [
        "IPY_MODEL_31ad866963ca421385351d2b52b2465d",
        "IPY_MODEL_d7d389b119e943efb26c211533ca5275",
        "IPY_MODEL_4b6bce95eb034f8fa39251884eef9197"
       ],
       "layout": "IPY_MODEL_d790f3b779934eee8348804dd22ba3c1"
      }
     },
     "3da353bac79d453282b17d5e84055538": {
      "model_module": "@jupyter-widgets/base",
      "model_module_version": "1.2.0",
      "model_name": "LayoutModel",
      "state": {}
     },
     "3e038dd87e8e4559b113c386a0626299": {
      "model_module": "@jupyter-widgets/base",
      "model_module_version": "1.2.0",
      "model_name": "LayoutModel",
      "state": {}
     },
     "3e0b8257b09045b9bb0d57dfa5fc8945": {
      "model_module": "@jupyter-widgets/controls",
      "model_module_version": "1.5.0",
      "model_name": "HTMLModel",
      "state": {
       "layout": "IPY_MODEL_ff6c51d38ade449d9351b3aa712bc22e",
       "style": "IPY_MODEL_3007aa1f6ee741e29dae0f62533f5049",
       "value": "100%"
      }
     },
     "3e19c07dc568400ab3ee08655136390e": {
      "model_module": "@jupyter-widgets/controls",
      "model_module_version": "1.5.0",
      "model_name": "HBoxModel",
      "state": {
       "children": [
        "IPY_MODEL_4a2153b7870843a388965c1d13988aa1",
        "IPY_MODEL_5e4ab518bc7f4437b2e0d4d180d3eb3d",
        "IPY_MODEL_f5b2aff67783436c98d18958c3462638"
       ],
       "layout": "IPY_MODEL_bd439efb587f416c88473e2207f1de00"
      }
     },
     "3e39b41de3b441b9bf4aca91849f83ba": {
      "model_module": "@jupyter-widgets/controls",
      "model_module_version": "1.5.0",
      "model_name": "HTMLModel",
      "state": {
       "layout": "IPY_MODEL_4479826179dd4a00a99758a09b765c55",
       "style": "IPY_MODEL_b9ac73cbe2ab47b6a925b4af56855006",
       "value": " 3/3 [00:10&lt;00:00,  4.21s/it]"
      }
     },
     "3e41b6f6cbc4447a8970ae9f5bb50caf": {
      "model_module": "@jupyter-widgets/controls",
      "model_module_version": "1.5.0",
      "model_name": "ProgressStyleModel",
      "state": {
       "description_width": ""
      }
     },
     "3ed6c93787754b44a7cee52d4c2da14b": {
      "model_module": "@jupyter-widgets/controls",
      "model_module_version": "1.5.0",
      "model_name": "HBoxModel",
      "state": {
       "children": [
        "IPY_MODEL_ca08d7ee14214e2ebed567205b819df1",
        "IPY_MODEL_631932574a4f478698da5bfd889c15f2",
        "IPY_MODEL_273b1ed998a24d33896bf669abd17f2d"
       ],
       "layout": "IPY_MODEL_b5fb0353521943fcb24fee15656f0772"
      }
     },
     "3f0ca1a537944eababed72bd0d0b4031": {
      "model_module": "@jupyter-widgets/controls",
      "model_module_version": "1.5.0",
      "model_name": "DescriptionStyleModel",
      "state": {
       "description_width": ""
      }
     },
     "3f1e1583b7cc4b0d8c5bcff3dfaae02c": {
      "model_module": "@jupyter-widgets/base",
      "model_module_version": "1.2.0",
      "model_name": "LayoutModel",
      "state": {}
     },
     "3f64a682d5ca417bb12d96354fe97ee4": {
      "model_module": "@jupyter-widgets/controls",
      "model_module_version": "1.5.0",
      "model_name": "DescriptionStyleModel",
      "state": {
       "description_width": ""
      }
     },
     "3f789c27308447d6b763ce0d90eb3663": {
      "model_module": "@jupyter-widgets/base",
      "model_module_version": "1.2.0",
      "model_name": "LayoutModel",
      "state": {}
     },
     "3fddd002da7649749b34a9ec104055f6": {
      "model_module": "@jupyter-widgets/controls",
      "model_module_version": "1.5.0",
      "model_name": "HBoxModel",
      "state": {
       "children": [
        "IPY_MODEL_70960292e2904c71aaf0829c5276ff22",
        "IPY_MODEL_b959d2c248eb480db8aa79fc8a5cb534",
        "IPY_MODEL_687f590cf40747caabe161fa9d4c56bc"
       ],
       "layout": "IPY_MODEL_850b5faee343454caff7bcb954c1b297"
      }
     },
     "40ad493a779948fb877b8f1efbeb96ff": {
      "model_module": "@jupyter-widgets/controls",
      "model_module_version": "1.5.0",
      "model_name": "HTMLModel",
      "state": {
       "layout": "IPY_MODEL_d198ef45d5a04f10855f3477e5f4f784",
       "style": "IPY_MODEL_4d050a4d6d284e5fa00be4140da9ca05",
       "value": "100%"
      }
     },
     "415ded97bd634a94aa9493edee1aef5e": {
      "model_module": "@jupyter-widgets/base",
      "model_module_version": "1.2.0",
      "model_name": "LayoutModel",
      "state": {}
     },
     "416740e46d6445bdab71fba20bb12459": {
      "model_module": "@jupyter-widgets/controls",
      "model_module_version": "1.5.0",
      "model_name": "ProgressStyleModel",
      "state": {
       "description_width": ""
      }
     },
     "417fab544a4646ed858872a9006749d0": {
      "model_module": "@jupyter-widgets/controls",
      "model_module_version": "1.5.0",
      "model_name": "HTMLModel",
      "state": {
       "layout": "IPY_MODEL_58366bed42f541dfadf9b3b57d005ecc",
       "style": "IPY_MODEL_a18db3fb7d924aaf9f82396754c998e8",
       "value": "100%"
      }
     },
     "42084ebcfb5c4a14bb1a8dccb70c02e7": {
      "model_module": "@jupyter-widgets/base",
      "model_module_version": "1.2.0",
      "model_name": "LayoutModel",
      "state": {}
     },
     "4249d3d2ad154f738789fb624a8e0867": {
      "model_module": "@jupyter-widgets/base",
      "model_module_version": "1.2.0",
      "model_name": "LayoutModel",
      "state": {}
     },
     "42532cf335f84e91bc184fa3de80d781": {
      "model_module": "@jupyter-widgets/controls",
      "model_module_version": "1.5.0",
      "model_name": "HBoxModel",
      "state": {
       "children": [
        "IPY_MODEL_332e05a71fd2414fab6ab38afc22187c",
        "IPY_MODEL_799c2ce912b542fe9177159be2e714af",
        "IPY_MODEL_96b460c37817428197afea818ff1e4a5"
       ],
       "layout": "IPY_MODEL_313184218519478e81dcb94e3da68a3e"
      }
     },
     "42645fcaf4c64cf68824d93759c75bc8": {
      "model_module": "@jupyter-widgets/controls",
      "model_module_version": "1.5.0",
      "model_name": "HTMLModel",
      "state": {
       "layout": "IPY_MODEL_6947ec67f5c2497fa581f2f98be5d5b6",
       "style": "IPY_MODEL_d463b721d2be4341b9411cf03bac5304",
       "value": "100%"
      }
     },
     "426b1e6d2eb9431a90d9e84453cb2481": {
      "model_module": "@jupyter-widgets/base",
      "model_module_version": "1.2.0",
      "model_name": "LayoutModel",
      "state": {}
     },
     "430fec0f20bc4e7ebe830021f63dd731": {
      "model_module": "@jupyter-widgets/controls",
      "model_module_version": "1.5.0",
      "model_name": "FloatProgressModel",
      "state": {
       "bar_style": "success",
       "layout": "IPY_MODEL_8c9fb845d586409ebe1a3b099073ed87",
       "max": 3,
       "style": "IPY_MODEL_9853c5d67f5f48bb9813db5ee85adebb",
       "value": 3
      }
     },
     "4311cd0e553c47d9b70df4a18569c812": {
      "model_module": "@jupyter-widgets/base",
      "model_module_version": "1.2.0",
      "model_name": "LayoutModel",
      "state": {}
     },
     "437853bb71fc48718a27425bc6fcd9c5": {
      "model_module": "@jupyter-widgets/controls",
      "model_module_version": "1.5.0",
      "model_name": "DescriptionStyleModel",
      "state": {
       "description_width": ""
      }
     },
     "43813cdb3cc948f49df4d4f3c7bbca4d": {
      "model_module": "@jupyter-widgets/controls",
      "model_module_version": "1.5.0",
      "model_name": "DescriptionStyleModel",
      "state": {
       "description_width": ""
      }
     },
     "4388f670ebb044a3a9838ebdc4c2a587": {
      "model_module": "@jupyter-widgets/controls",
      "model_module_version": "1.5.0",
      "model_name": "FloatProgressModel",
      "state": {
       "bar_style": "success",
       "layout": "IPY_MODEL_426b1e6d2eb9431a90d9e84453cb2481",
       "max": 8,
       "style": "IPY_MODEL_de728bf9065147a785cfed2cb35fefdb",
       "value": 8
      }
     },
     "4397d05cf65a4a3098f3fbc65ec9cf13": {
      "model_module": "@jupyter-widgets/controls",
      "model_module_version": "1.5.0",
      "model_name": "DescriptionStyleModel",
      "state": {
       "description_width": ""
      }
     },
     "43b0db65a5c244058d984db9272cbdbd": {
      "model_module": "@jupyter-widgets/controls",
      "model_module_version": "1.5.0",
      "model_name": "DescriptionStyleModel",
      "state": {
       "description_width": ""
      }
     },
     "43ea1b3882bd41068924670970a9c5e8": {
      "model_module": "@jupyter-widgets/controls",
      "model_module_version": "1.5.0",
      "model_name": "HTMLModel",
      "state": {
       "layout": "IPY_MODEL_1c4bcfb11581445a8d46ce754ec37180",
       "style": "IPY_MODEL_f1cfc5bb0898456ca8f5c538a609a70f",
       "value": "100%"
      }
     },
     "4423c92e6ab94b46b6f89bde9dddf3a8": {
      "model_module": "@jupyter-widgets/controls",
      "model_module_version": "1.5.0",
      "model_name": "DescriptionStyleModel",
      "state": {
       "description_width": ""
      }
     },
     "4479826179dd4a00a99758a09b765c55": {
      "model_module": "@jupyter-widgets/base",
      "model_module_version": "1.2.0",
      "model_name": "LayoutModel",
      "state": {}
     },
     "44d1cb966cd74d34b917a08160071f86": {
      "model_module": "@jupyter-widgets/base",
      "model_module_version": "1.2.0",
      "model_name": "LayoutModel",
      "state": {}
     },
     "44d5718f041c4cdf8b85c3e58a90c1e2": {
      "model_module": "@jupyter-widgets/controls",
      "model_module_version": "1.5.0",
      "model_name": "DescriptionStyleModel",
      "state": {
       "description_width": ""
      }
     },
     "44e53d99312544a4b17fe0145636ef45": {
      "model_module": "@jupyter-widgets/controls",
      "model_module_version": "1.5.0",
      "model_name": "HBoxModel",
      "state": {
       "children": [
        "IPY_MODEL_63a70b06ff4246d3819f71da3565aefd",
        "IPY_MODEL_b0abd16537734a9d99386e3c8da6b4b8",
        "IPY_MODEL_97bbbe30ec7f46b9aaa8e4ad4646ac93"
       ],
       "layout": "IPY_MODEL_51c0ffeb291c451e88c73009c996057f"
      }
     },
     "4566d1e63f3940db9ec45156b6a840dc": {
      "model_module": "@jupyter-widgets/controls",
      "model_module_version": "1.5.0",
      "model_name": "DescriptionStyleModel",
      "state": {
       "description_width": ""
      }
     },
     "45f72b16772f40e081fb9d967266f68d": {
      "model_module": "@jupyter-widgets/base",
      "model_module_version": "1.2.0",
      "model_name": "LayoutModel",
      "state": {}
     },
     "4624434e462b4f3592aa0a3f3ada8c5d": {
      "model_module": "@jupyter-widgets/base",
      "model_module_version": "1.2.0",
      "model_name": "LayoutModel",
      "state": {}
     },
     "4627a97cda92444ba7641b387f1ae6bc": {
      "model_module": "@jupyter-widgets/base",
      "model_module_version": "1.2.0",
      "model_name": "LayoutModel",
      "state": {}
     },
     "4649dcb9189249368cf39bbc84f2235f": {
      "model_module": "@jupyter-widgets/base",
      "model_module_version": "1.2.0",
      "model_name": "LayoutModel",
      "state": {}
     },
     "46630c2bc95d489aae2080882d869949": {
      "model_module": "@jupyter-widgets/controls",
      "model_module_version": "1.5.0",
      "model_name": "HTMLModel",
      "state": {
       "layout": "IPY_MODEL_b6adb3c9788a46f6840785a7436aad91",
       "style": "IPY_MODEL_cb63f7279397407d89c348d03866f8dc",
       "value": " 1/1 [00:00&lt;00:00,  1.83it/s]"
      }
     },
     "4664fa510ec24a1f8e977e573fdb1129": {
      "model_module": "@jupyter-widgets/base",
      "model_module_version": "1.2.0",
      "model_name": "LayoutModel",
      "state": {}
     },
     "468581f8cddc4e7bb1610ac6320b66b7": {
      "model_module": "@jupyter-widgets/base",
      "model_module_version": "1.2.0",
      "model_name": "LayoutModel",
      "state": {}
     },
     "46b3e17002044bd187ddffcb137f8442": {
      "model_module": "@jupyter-widgets/base",
      "model_module_version": "1.2.0",
      "model_name": "LayoutModel",
      "state": {}
     },
     "46ebb4fddc664e87b0138b0620d90088": {
      "model_module": "@jupyter-widgets/base",
      "model_module_version": "1.2.0",
      "model_name": "LayoutModel",
      "state": {}
     },
     "46f145a243894c2d993c289862c13a8b": {
      "model_module": "@jupyter-widgets/base",
      "model_module_version": "1.2.0",
      "model_name": "LayoutModel",
      "state": {}
     },
     "47338d97ff134b4ba576a42cb2a64c8d": {
      "model_module": "@jupyter-widgets/base",
      "model_module_version": "1.2.0",
      "model_name": "LayoutModel",
      "state": {}
     },
     "478294a04e59466e9eb976ac1abe3192": {
      "model_module": "@jupyter-widgets/base",
      "model_module_version": "1.2.0",
      "model_name": "LayoutModel",
      "state": {}
     },
     "47f98225af024bc7af24fb7f21e52399": {
      "model_module": "@jupyter-widgets/controls",
      "model_module_version": "1.5.0",
      "model_name": "HTMLModel",
      "state": {
       "layout": "IPY_MODEL_2efac13743ad48a393316dbb618326c8",
       "style": "IPY_MODEL_43b0db65a5c244058d984db9272cbdbd",
       "value": " 14/14 [00:34&lt;00:00,  2.56s/it]"
      }
     },
     "485731a4a3dc4749a02b85fab8597d7a": {
      "model_module": "@jupyter-widgets/base",
      "model_module_version": "1.2.0",
      "model_name": "LayoutModel",
      "state": {}
     },
     "4936dc8dbc6d405c956ddce5f6a5221e": {
      "model_module": "@jupyter-widgets/base",
      "model_module_version": "1.2.0",
      "model_name": "LayoutModel",
      "state": {}
     },
     "49c8c6d9bde6402bb4136d37f94c0fee": {
      "model_module": "@jupyter-widgets/base",
      "model_module_version": "1.2.0",
      "model_name": "LayoutModel",
      "state": {}
     },
     "4a02dde9f0c2473ca483bd879aae9897": {
      "model_module": "@jupyter-widgets/controls",
      "model_module_version": "1.5.0",
      "model_name": "HTMLModel",
      "state": {
       "layout": "IPY_MODEL_554aad861ce14a18bcfcd879557d5536",
       "style": "IPY_MODEL_029642dfa78247a18b8c1e5fe6452dda",
       "value": "100%"
      }
     },
     "4a2153b7870843a388965c1d13988aa1": {
      "model_module": "@jupyter-widgets/controls",
      "model_module_version": "1.5.0",
      "model_name": "HTMLModel",
      "state": {
       "layout": "IPY_MODEL_219404a0aa80406fba4e1a59864e213e",
       "style": "IPY_MODEL_f990c3c0d24b4feb8b54ebbb0fe605e3",
       "value": "100%"
      }
     },
     "4a9c8487b9174ce392d94d1f8a019cab": {
      "model_module": "@jupyter-widgets/controls",
      "model_module_version": "1.5.0",
      "model_name": "DescriptionStyleModel",
      "state": {
       "description_width": ""
      }
     },
     "4ad7e55c582c4f96bf747521fa1a880e": {
      "model_module": "@jupyter-widgets/controls",
      "model_module_version": "1.5.0",
      "model_name": "DescriptionStyleModel",
      "state": {
       "description_width": ""
      }
     },
     "4b6bce95eb034f8fa39251884eef9197": {
      "model_module": "@jupyter-widgets/controls",
      "model_module_version": "1.5.0",
      "model_name": "HTMLModel",
      "state": {
       "layout": "IPY_MODEL_4f13d7468d3e433aaebc524e2f966636",
       "style": "IPY_MODEL_317d72de13f547c78f6388a685253365",
       "value": " 14/14 [00:33&lt;00:00,  2.52s/it]"
      }
     },
     "4b756571316644e7a1e95bfff335a728": {
      "model_module": "@jupyter-widgets/base",
      "model_module_version": "1.2.0",
      "model_name": "LayoutModel",
      "state": {}
     },
     "4b8fe3f450344df59adf09dfde46461c": {
      "model_module": "@jupyter-widgets/base",
      "model_module_version": "1.2.0",
      "model_name": "LayoutModel",
      "state": {}
     },
     "4c514c61a1824da0bb353e154c21288e": {
      "model_module": "@jupyter-widgets/controls",
      "model_module_version": "1.5.0",
      "model_name": "HTMLModel",
      "state": {
       "layout": "IPY_MODEL_35a3c9c7f0a84db7b11166c968c8e8c5",
       "style": "IPY_MODEL_f6d9b538a7d4474faf6f1b5d4ed3aa22",
       "value": " 14/14 [00:34&lt;00:00,  2.58s/it]"
      }
     },
     "4c7a44cfe46546c7ad4510925b762ba3": {
      "model_module": "@jupyter-widgets/base",
      "model_module_version": "1.2.0",
      "model_name": "LayoutModel",
      "state": {}
     },
     "4cf01c7addd141348d4644f6e298d0c3": {
      "model_module": "@jupyter-widgets/base",
      "model_module_version": "1.2.0",
      "model_name": "LayoutModel",
      "state": {}
     },
     "4d050a4d6d284e5fa00be4140da9ca05": {
      "model_module": "@jupyter-widgets/controls",
      "model_module_version": "1.5.0",
      "model_name": "DescriptionStyleModel",
      "state": {
       "description_width": ""
      }
     },
     "4df6d7c39cce4536a58880a00a3970ef": {
      "model_module": "@jupyter-widgets/controls",
      "model_module_version": "1.5.0",
      "model_name": "ProgressStyleModel",
      "state": {
       "description_width": ""
      }
     },
     "4df9ea255ee04057a55797a504a03021": {
      "model_module": "@jupyter-widgets/base",
      "model_module_version": "1.2.0",
      "model_name": "LayoutModel",
      "state": {}
     },
     "4f13d7468d3e433aaebc524e2f966636": {
      "model_module": "@jupyter-widgets/base",
      "model_module_version": "1.2.0",
      "model_name": "LayoutModel",
      "state": {}
     },
     "4f45b7be062545dfad8cd46b855234c4": {
      "model_module": "@jupyter-widgets/controls",
      "model_module_version": "1.5.0",
      "model_name": "DescriptionStyleModel",
      "state": {
       "description_width": ""
      }
     },
     "4f8f34f6823f48ae8d4102f40b10a49f": {
      "model_module": "@jupyter-widgets/controls",
      "model_module_version": "1.5.0",
      "model_name": "DescriptionStyleModel",
      "state": {
       "description_width": ""
      }
     },
     "4fcce8713d9f40efa519fad4c3f6d159": {
      "model_module": "@jupyter-widgets/base",
      "model_module_version": "1.2.0",
      "model_name": "LayoutModel",
      "state": {}
     },
     "4fe88752d63e465dacddb2e96db851fc": {
      "model_module": "@jupyter-widgets/controls",
      "model_module_version": "1.5.0",
      "model_name": "DescriptionStyleModel",
      "state": {
       "description_width": ""
      }
     },
     "506a403f0fdc4f9f8b85aa651285d720": {
      "model_module": "@jupyter-widgets/controls",
      "model_module_version": "1.5.0",
      "model_name": "DescriptionStyleModel",
      "state": {
       "description_width": ""
      }
     },
     "5082c28037254c02a2c7b11b1fec3d24": {
      "model_module": "@jupyter-widgets/controls",
      "model_module_version": "1.5.0",
      "model_name": "FloatProgressModel",
      "state": {
       "bar_style": "success",
       "layout": "IPY_MODEL_5a8654bdc7ea4e62b2701eabdcc263a2",
       "max": 14,
       "style": "IPY_MODEL_7ad06790a5154b6986cba20d76f8be7d",
       "value": 14
      }
     },
     "5195b30886ae479ba56e84588a608368": {
      "model_module": "@jupyter-widgets/controls",
      "model_module_version": "1.5.0",
      "model_name": "DescriptionStyleModel",
      "state": {
       "description_width": ""
      }
     },
     "51c0ffeb291c451e88c73009c996057f": {
      "model_module": "@jupyter-widgets/base",
      "model_module_version": "1.2.0",
      "model_name": "LayoutModel",
      "state": {}
     },
     "5256fcf8c90746a2b585640096aabcd5": {
      "model_module": "@jupyter-widgets/base",
      "model_module_version": "1.2.0",
      "model_name": "LayoutModel",
      "state": {}
     },
     "530227233cdb4d7bbe6a127d11bbbc96": {
      "model_module": "@jupyter-widgets/base",
      "model_module_version": "1.2.0",
      "model_name": "LayoutModel",
      "state": {}
     },
     "533f15243a5d4b6393b50c909b6f55e9": {
      "model_module": "@jupyter-widgets/controls",
      "model_module_version": "1.5.0",
      "model_name": "HTMLModel",
      "state": {
       "layout": "IPY_MODEL_dc0cb38431e34554a24eb56835159b14",
       "style": "IPY_MODEL_77cc87b539e74f5dafad722153e60cd3",
       "value": " 3/3 [00:10&lt;00:00,  4.21s/it]"
      }
     },
     "5363fb3cea7e48a79ae2d3eee8d3f103": {
      "model_module": "@jupyter-widgets/controls",
      "model_module_version": "1.5.0",
      "model_name": "HTMLModel",
      "state": {
       "layout": "IPY_MODEL_0cb625922b5f481f85c9215f9f4b3d23",
       "style": "IPY_MODEL_8f5256878fcc4418932eb682a7007e91",
       "value": " 3/3 [00:10&lt;00:00,  4.10s/it]"
      }
     },
     "539f0d72dd3543fbad79611d9f1bd031": {
      "model_module": "@jupyter-widgets/base",
      "model_module_version": "1.2.0",
      "model_name": "LayoutModel",
      "state": {}
     },
     "54ed6756a74146a8bcf1d0d9a6838a2b": {
      "model_module": "@jupyter-widgets/controls",
      "model_module_version": "1.5.0",
      "model_name": "DescriptionStyleModel",
      "state": {
       "description_width": ""
      }
     },
     "554aad861ce14a18bcfcd879557d5536": {
      "model_module": "@jupyter-widgets/base",
      "model_module_version": "1.2.0",
      "model_name": "LayoutModel",
      "state": {}
     },
     "5592b4ced2b04897acb15b7d476b9740": {
      "model_module": "@jupyter-widgets/base",
      "model_module_version": "1.2.0",
      "model_name": "LayoutModel",
      "state": {}
     },
     "55e7a37abac24908961c342bc93befe3": {
      "model_module": "@jupyter-widgets/controls",
      "model_module_version": "1.5.0",
      "model_name": "DescriptionStyleModel",
      "state": {
       "description_width": ""
      }
     },
     "5627352635654cd58c96ca414f1e6114": {
      "model_module": "@jupyter-widgets/base",
      "model_module_version": "1.2.0",
      "model_name": "LayoutModel",
      "state": {}
     },
     "5649d18abbde4f47a03b99cee129ca40": {
      "model_module": "@jupyter-widgets/controls",
      "model_module_version": "1.5.0",
      "model_name": "DescriptionStyleModel",
      "state": {
       "description_width": ""
      }
     },
     "56a6bad0b666407a9367de9bf30fd660": {
      "model_module": "@jupyter-widgets/base",
      "model_module_version": "1.2.0",
      "model_name": "LayoutModel",
      "state": {}
     },
     "56eadb9f4fd944dcb5039b404e09f6a1": {
      "model_module": "@jupyter-widgets/controls",
      "model_module_version": "1.5.0",
      "model_name": "ProgressStyleModel",
      "state": {
       "description_width": ""
      }
     },
     "56f1baeba1494b818182222ccb5d13ea": {
      "model_module": "@jupyter-widgets/controls",
      "model_module_version": "1.5.0",
      "model_name": "DescriptionStyleModel",
      "state": {
       "description_width": ""
      }
     },
     "56f349348df141708ca826a50e524d41": {
      "model_module": "@jupyter-widgets/controls",
      "model_module_version": "1.5.0",
      "model_name": "ProgressStyleModel",
      "state": {
       "description_width": ""
      }
     },
     "5707ef96db714ec0a3f2f9dbe98908c9": {
      "model_module": "@jupyter-widgets/controls",
      "model_module_version": "1.5.0",
      "model_name": "HTMLModel",
      "state": {
       "layout": "IPY_MODEL_3088d09c6b51431da8feba468e073631",
       "style": "IPY_MODEL_95cfbf3086504b4ab9a1449d5cf78769",
       "value": "100%"
      }
     },
     "57dfcbb0414848a7afaf25ae5b8f6318": {
      "model_module": "@jupyter-widgets/controls",
      "model_module_version": "1.5.0",
      "model_name": "HTMLModel",
      "state": {
       "layout": "IPY_MODEL_485731a4a3dc4749a02b85fab8597d7a",
       "style": "IPY_MODEL_f287eebaea2a42059275cf322b97e556",
       "value": "100%"
      }
     },
     "57e76b58a33b4bcd96f3a40b899044d9": {
      "model_module": "@jupyter-widgets/base",
      "model_module_version": "1.2.0",
      "model_name": "LayoutModel",
      "state": {}
     },
     "58366bed42f541dfadf9b3b57d005ecc": {
      "model_module": "@jupyter-widgets/base",
      "model_module_version": "1.2.0",
      "model_name": "LayoutModel",
      "state": {}
     },
     "583d1f1adf7746b78eeac541b547405b": {
      "model_module": "@jupyter-widgets/controls",
      "model_module_version": "1.5.0",
      "model_name": "DescriptionStyleModel",
      "state": {
       "description_width": ""
      }
     },
     "58e730ffdfd4482091cdaf8077d0cb8d": {
      "model_module": "@jupyter-widgets/base",
      "model_module_version": "1.2.0",
      "model_name": "LayoutModel",
      "state": {}
     },
     "58f0f746e8004a5fafe76d9dcdb1209b": {
      "model_module": "@jupyter-widgets/base",
      "model_module_version": "1.2.0",
      "model_name": "LayoutModel",
      "state": {}
     },
     "59116e8e1096438c959870c7d5a626e4": {
      "model_module": "@jupyter-widgets/controls",
      "model_module_version": "1.5.0",
      "model_name": "ProgressStyleModel",
      "state": {
       "description_width": ""
      }
     },
     "5976186c6a0042c2b496154953e7726d": {
      "model_module": "@jupyter-widgets/controls",
      "model_module_version": "1.5.0",
      "model_name": "ProgressStyleModel",
      "state": {
       "description_width": ""
      }
     },
     "5984e37e36044dfeac4109d7bc0b424e": {
      "model_module": "@jupyter-widgets/controls",
      "model_module_version": "1.5.0",
      "model_name": "HTMLModel",
      "state": {
       "layout": "IPY_MODEL_cf54b1ccc6414c8a97397e2727460764",
       "style": "IPY_MODEL_f8d0aa0d6d044fd9b885647c29ad5ed9",
       "value": "100%"
      }
     },
     "59b8436cb07c42e9bc5b74d1bab28248": {
      "model_module": "@jupyter-widgets/controls",
      "model_module_version": "1.5.0",
      "model_name": "DescriptionStyleModel",
      "state": {
       "description_width": ""
      }
     },
     "59cb8b51d70545db801f62bf91dde842": {
      "model_module": "@jupyter-widgets/controls",
      "model_module_version": "1.5.0",
      "model_name": "FloatProgressModel",
      "state": {
       "bar_style": "success",
       "layout": "IPY_MODEL_817301f479794c12b0e516e4b27ca565",
       "max": 3,
       "style": "IPY_MODEL_74e16d5201b746f6bda501151e592eed",
       "value": 3
      }
     },
     "5a7402acea7c46b7acc62d232cbaafda": {
      "model_module": "@jupyter-widgets/base",
      "model_module_version": "1.2.0",
      "model_name": "LayoutModel",
      "state": {}
     },
     "5a8654bdc7ea4e62b2701eabdcc263a2": {
      "model_module": "@jupyter-widgets/base",
      "model_module_version": "1.2.0",
      "model_name": "LayoutModel",
      "state": {}
     },
     "5af10075c7954a7a86b516adebbabe88": {
      "model_module": "@jupyter-widgets/controls",
      "model_module_version": "1.5.0",
      "model_name": "HTMLModel",
      "state": {
       "layout": "IPY_MODEL_d6e18d7031c9403c8ab3e13577ae7c18",
       "style": "IPY_MODEL_77ed0aba6bdd404193911cba5b9d44ea",
       "value": " 3/3 [00:10&lt;00:00,  4.27s/it]"
      }
     },
     "5af398f4192b4467a7e82d44629a7090": {
      "model_module": "@jupyter-widgets/controls",
      "model_module_version": "1.5.0",
      "model_name": "HBoxModel",
      "state": {
       "children": [
        "IPY_MODEL_39ba132769b346d3807f8ffdb35ef4ef",
        "IPY_MODEL_e83b55d4dce248a9ad00d59b4f589287",
        "IPY_MODEL_bd7a94334adf4927a42ed12c73654dac"
       ],
       "layout": "IPY_MODEL_2014c622957f4172bf5538e7032073d7"
      }
     },
     "5b069813b89b417297a48aeb2154fe67": {
      "model_module": "@jupyter-widgets/base",
      "model_module_version": "1.2.0",
      "model_name": "LayoutModel",
      "state": {}
     },
     "5bc99c916ebd414daf96f69f725d40ea": {
      "model_module": "@jupyter-widgets/controls",
      "model_module_version": "1.5.0",
      "model_name": "FloatProgressModel",
      "state": {
       "bar_style": "success",
       "layout": "IPY_MODEL_01e5af5b26df48c68e2a60acda563670",
       "max": 14,
       "style": "IPY_MODEL_a2f63c20b4dd48a8866fcb6b802f8c4a",
       "value": 14
      }
     },
     "5c1cdc7f1d7f4334997a05cb16278393": {
      "model_module": "@jupyter-widgets/base",
      "model_module_version": "1.2.0",
      "model_name": "LayoutModel",
      "state": {}
     },
     "5d095f99d4c945618fe22682b2919f7f": {
      "model_module": "@jupyter-widgets/controls",
      "model_module_version": "1.5.0",
      "model_name": "HTMLModel",
      "state": {
       "layout": "IPY_MODEL_0d06caff45da43a387feb0da28b050fb",
       "style": "IPY_MODEL_df91ae866b7c4ab583dd9c521498031c",
       "value": "100%"
      }
     },
     "5d1a1fe6fd844c7d907c9883a206650c": {
      "model_module": "@jupyter-widgets/controls",
      "model_module_version": "1.5.0",
      "model_name": "HBoxModel",
      "state": {
       "children": [
        "IPY_MODEL_3417b3ebb03f4797818201cd315cc5d6",
        "IPY_MODEL_05b3bfdeba8148b8b4f9e8a220a48ad1",
        "IPY_MODEL_533f15243a5d4b6393b50c909b6f55e9"
       ],
       "layout": "IPY_MODEL_385052d0c22a494c95a54f3ec5ca9ea2"
      }
     },
     "5d60a27d33a64fe0b9065d67b7327045": {
      "model_module": "@jupyter-widgets/controls",
      "model_module_version": "1.5.0",
      "model_name": "ProgressStyleModel",
      "state": {
       "description_width": ""
      }
     },
     "5d64f8724c144e37b875cd67b10ec38b": {
      "model_module": "@jupyter-widgets/controls",
      "model_module_version": "1.5.0",
      "model_name": "ProgressStyleModel",
      "state": {
       "description_width": ""
      }
     },
     "5e4ab518bc7f4437b2e0d4d180d3eb3d": {
      "model_module": "@jupyter-widgets/controls",
      "model_module_version": "1.5.0",
      "model_name": "FloatProgressModel",
      "state": {
       "bar_style": "success",
       "layout": "IPY_MODEL_46ebb4fddc664e87b0138b0620d90088",
       "max": 3,
       "style": "IPY_MODEL_a14329532c41402699841551dbcaf36d",
       "value": 3
      }
     },
     "5f3c41984e834353b4bd3fbb27a25c2c": {
      "model_module": "@jupyter-widgets/controls",
      "model_module_version": "1.5.0",
      "model_name": "DescriptionStyleModel",
      "state": {
       "description_width": ""
      }
     },
     "5f8bbc5331a9448daa5e5f3d0b35ea4f": {
      "model_module": "@jupyter-widgets/base",
      "model_module_version": "1.2.0",
      "model_name": "LayoutModel",
      "state": {}
     },
     "600360577c904457ae06c714da3226ab": {
      "model_module": "@jupyter-widgets/base",
      "model_module_version": "1.2.0",
      "model_name": "LayoutModel",
      "state": {}
     },
     "6022fd1d8b704696a3ea76aed0286917": {
      "model_module": "@jupyter-widgets/controls",
      "model_module_version": "1.5.0",
      "model_name": "DescriptionStyleModel",
      "state": {
       "description_width": ""
      }
     },
     "6062aa9efc574da8b548fee3b1c51c6e": {
      "model_module": "@jupyter-widgets/controls",
      "model_module_version": "1.5.0",
      "model_name": "HBoxModel",
      "state": {
       "children": [
        "IPY_MODEL_a32af960a36d4b52a3edd1f55e071c15",
        "IPY_MODEL_27eeaee083424c1f81fecc56dea27a6d",
        "IPY_MODEL_28d7d40964e34064a071c4f266111d5e"
       ],
       "layout": "IPY_MODEL_c179d82d134c4885b232d00bb921d2c4"
      }
     },
     "609bdb59378141f4a96e77ac1ac3c4d0": {
      "model_module": "@jupyter-widgets/base",
      "model_module_version": "1.2.0",
      "model_name": "LayoutModel",
      "state": {}
     },
     "60f943ca34524bd1afbce2cc89a7f8f8": {
      "model_module": "@jupyter-widgets/controls",
      "model_module_version": "1.5.0",
      "model_name": "HBoxModel",
      "state": {
       "children": [
        "IPY_MODEL_43ea1b3882bd41068924670970a9c5e8",
        "IPY_MODEL_fd78d4fe60794bd9a4080bccdd2b5066",
        "IPY_MODEL_e026cb4a76f64518aa80c32c5d6bc6d6"
       ],
       "layout": "IPY_MODEL_b248845b0071429886b9bb169c16460e"
      }
     },
     "614f7e74e8964772bbf709eec39a1524": {
      "model_module": "@jupyter-widgets/controls",
      "model_module_version": "1.5.0",
      "model_name": "DescriptionStyleModel",
      "state": {
       "description_width": ""
      }
     },
     "6176e82b1a604fb6b50991303317d235": {
      "model_module": "@jupyter-widgets/base",
      "model_module_version": "1.2.0",
      "model_name": "LayoutModel",
      "state": {}
     },
     "6217b2e724b7488dbf152daf3fb7ff95": {
      "model_module": "@jupyter-widgets/controls",
      "model_module_version": "1.5.0",
      "model_name": "HTMLModel",
      "state": {
       "layout": "IPY_MODEL_600360577c904457ae06c714da3226ab",
       "style": "IPY_MODEL_9a4b752de1ac4a439e4a44845e5667e5",
       "value": " 14/14 [00:36&lt;00:00,  2.68s/it]"
      }
     },
     "625a723425fa4d9990a4c0a5613fc01c": {
      "model_module": "@jupyter-widgets/base",
      "model_module_version": "1.2.0",
      "model_name": "LayoutModel",
      "state": {}
     },
     "62631fe6d1564f839a570964b62a24c8": {
      "model_module": "@jupyter-widgets/base",
      "model_module_version": "1.2.0",
      "model_name": "LayoutModel",
      "state": {}
     },
     "631932574a4f478698da5bfd889c15f2": {
      "model_module": "@jupyter-widgets/controls",
      "model_module_version": "1.5.0",
      "model_name": "FloatProgressModel",
      "state": {
       "bar_style": "success",
       "layout": "IPY_MODEL_cbd792511fbc4743b175d6ca42fbf072",
       "max": 3,
       "style": "IPY_MODEL_7aedc26c48254a838669f450a1fcbb22",
       "value": 3
      }
     },
     "631c4e5439134b44aa2abb0f2d6114da": {
      "model_module": "@jupyter-widgets/controls",
      "model_module_version": "1.5.0",
      "model_name": "HTMLModel",
      "state": {
       "layout": "IPY_MODEL_903eacd04bae46db83092bc1e8f150e2",
       "style": "IPY_MODEL_d87a02a290ab42fb8f24de71c309cf8f",
       "value": "100%"
      }
     },
     "63496197b64c4981aa1841e5dd0ed3a2": {
      "model_module": "@jupyter-widgets/controls",
      "model_module_version": "1.5.0",
      "model_name": "ProgressStyleModel",
      "state": {
       "description_width": ""
      }
     },
     "63a70b06ff4246d3819f71da3565aefd": {
      "model_module": "@jupyter-widgets/controls",
      "model_module_version": "1.5.0",
      "model_name": "HTMLModel",
      "state": {
       "layout": "IPY_MODEL_7a10d58c1ecc444c83d13eb4996e5ee4",
       "style": "IPY_MODEL_8e28b38aef194897b6131f4317563b9f",
       "value": " 21%"
      }
     },
     "63db93ef7251427da2644643a5f52e2a": {
      "model_module": "@jupyter-widgets/controls",
      "model_module_version": "1.5.0",
      "model_name": "DescriptionStyleModel",
      "state": {
       "description_width": ""
      }
     },
     "641a8e47dba14be4aa8a10f1329bcaa6": {
      "model_module": "@jupyter-widgets/controls",
      "model_module_version": "1.5.0",
      "model_name": "HTMLModel",
      "state": {
       "layout": "IPY_MODEL_d545003943714d8c998b2c7a376fd3ff",
       "style": "IPY_MODEL_3a71f9045ef64b82ae273c50b5be2d91",
       "value": " 14/14 [00:33&lt;00:00,  2.49s/it]"
      }
     },
     "643781621b914dceaab16ab069a89a6c": {
      "model_module": "@jupyter-widgets/controls",
      "model_module_version": "1.5.0",
      "model_name": "ProgressStyleModel",
      "state": {
       "description_width": ""
      }
     },
     "6598381da8a44dae8d3e17c72ca74f0d": {
      "model_module": "@jupyter-widgets/controls",
      "model_module_version": "1.5.0",
      "model_name": "DescriptionStyleModel",
      "state": {
       "description_width": ""
      }
     },
     "672d456870d44b42957d9ad3669127cc": {
      "model_module": "@jupyter-widgets/controls",
      "model_module_version": "1.5.0",
      "model_name": "DescriptionStyleModel",
      "state": {
       "description_width": ""
      }
     },
     "67510021658848edbe477ad4bc8038f4": {
      "model_module": "@jupyter-widgets/base",
      "model_module_version": "1.2.0",
      "model_name": "LayoutModel",
      "state": {}
     },
     "67597766408742479ce0bf6cc2478e26": {
      "model_module": "@jupyter-widgets/base",
      "model_module_version": "1.2.0",
      "model_name": "LayoutModel",
      "state": {}
     },
     "67bd004a9cc54ca98a945c66e98a8dc5": {
      "model_module": "@jupyter-widgets/base",
      "model_module_version": "1.2.0",
      "model_name": "LayoutModel",
      "state": {}
     },
     "67f8e9926ff04911a5ecb7f084ab9bda": {
      "model_module": "@jupyter-widgets/controls",
      "model_module_version": "1.5.0",
      "model_name": "HBoxModel",
      "state": {
       "children": [
        "IPY_MODEL_5984e37e36044dfeac4109d7bc0b424e",
        "IPY_MODEL_af81eb420a204b4db16e0900544ee830",
        "IPY_MODEL_8a03ad0d87be4739985ebdbd8e3f6821"
       ],
       "layout": "IPY_MODEL_2503dfb81f4847be8a2dd83ba9fce570"
      }
     },
     "68639f2e8c1c4e3289e0f6d8dce28243": {
      "model_module": "@jupyter-widgets/controls",
      "model_module_version": "1.5.0",
      "model_name": "HTMLModel",
      "state": {
       "layout": "IPY_MODEL_e00f2d4bde8d4977a2c1fcf12272aee9",
       "style": "IPY_MODEL_4566d1e63f3940db9ec45156b6a840dc",
       "value": " 14/14 [00:36&lt;00:00,  2.65s/it]"
      }
     },
     "687f590cf40747caabe161fa9d4c56bc": {
      "model_module": "@jupyter-widgets/controls",
      "model_module_version": "1.5.0",
      "model_name": "HTMLModel",
      "state": {
       "layout": "IPY_MODEL_e11311ed201b4eec8375f0060b43cdd3",
       "style": "IPY_MODEL_4397d05cf65a4a3098f3fbc65ec9cf13",
       "value": " 2/3 [00:06&lt;00:03,  3.20s/it]"
      }
     },
     "6924f9666c14408f974c8626cb341bf0": {
      "model_module": "@jupyter-widgets/base",
      "model_module_version": "1.2.0",
      "model_name": "LayoutModel",
      "state": {}
     },
     "69329a3476f64b6ebd2f92c94b295e8c": {
      "model_module": "@jupyter-widgets/controls",
      "model_module_version": "1.5.0",
      "model_name": "FloatProgressModel",
      "state": {
       "bar_style": "success",
       "layout": "IPY_MODEL_ada2a00636b1438498db0770cdd39bef",
       "max": 3,
       "style": "IPY_MODEL_c5989e198ec944dc8b7775b5705d73e5",
       "value": 3
      }
     },
     "6947ec67f5c2497fa581f2f98be5d5b6": {
      "model_module": "@jupyter-widgets/base",
      "model_module_version": "1.2.0",
      "model_name": "LayoutModel",
      "state": {}
     },
     "69ba768c93bf4d2585127c9dd8cca2a1": {
      "model_module": "@jupyter-widgets/base",
      "model_module_version": "1.2.0",
      "model_name": "LayoutModel",
      "state": {}
     },
     "69fd7e6e13c94f61a5ebb811aa394333": {
      "model_module": "@jupyter-widgets/controls",
      "model_module_version": "1.5.0",
      "model_name": "HTMLModel",
      "state": {
       "layout": "IPY_MODEL_d8b129d3a2c341ac9bc912eaa595c0a3",
       "style": "IPY_MODEL_c06f451b863c41a2afebcd113177edfd",
       "value": " 14/14 [00:34&lt;00:00,  2.60s/it]"
      }
     },
     "6aad32a9423043eb8bffaa7ab8e9632f": {
      "model_module": "@jupyter-widgets/controls",
      "model_module_version": "1.5.0",
      "model_name": "DescriptionStyleModel",
      "state": {
       "description_width": ""
      }
     },
     "6ab2c800eaef42e4a286a0aab35ed190": {
      "model_module": "@jupyter-widgets/controls",
      "model_module_version": "1.5.0",
      "model_name": "FloatProgressModel",
      "state": {
       "bar_style": "success",
       "layout": "IPY_MODEL_cf74716173fd494f8ea0332793acb220",
       "max": 3,
       "style": "IPY_MODEL_000a0ce30ef84bfc8ab5b9c23b221bc4",
       "value": 3
      }
     },
     "6b85b3f5a8a844c2bcfadcce25177f81": {
      "model_module": "@jupyter-widgets/controls",
      "model_module_version": "1.5.0",
      "model_name": "HTMLModel",
      "state": {
       "layout": "IPY_MODEL_78c8eefc38c6474fa027d6414ab01f75",
       "style": "IPY_MODEL_d8dded7411de4690a558a1ae7a282d56",
       "value": "100%"
      }
     },
     "6ba368873182486380ecad62d4aec0de": {
      "model_module": "@jupyter-widgets/controls",
      "model_module_version": "1.5.0",
      "model_name": "HTMLModel",
      "state": {
       "layout": "IPY_MODEL_4311cd0e553c47d9b70df4a18569c812",
       "style": "IPY_MODEL_95300a5b30004cba8b3edd3a03b70613",
       "value": " 14/14 [00:36&lt;00:00,  2.73s/it]"
      }
     },
     "6c26f4dda729429f806b3e336dc81622": {
      "model_module": "@jupyter-widgets/controls",
      "model_module_version": "1.5.0",
      "model_name": "HBoxModel",
      "state": {
       "children": [
        "IPY_MODEL_07019ea46ea046e0b87c8e4a25c6963b",
        "IPY_MODEL_d2f142dce1c9498c806f06a30b43f04b",
        "IPY_MODEL_641a8e47dba14be4aa8a10f1329bcaa6"
       ],
       "layout": "IPY_MODEL_19ea34ec07da4d61acec8c855bbc02bf"
      }
     },
     "6ce6dc7f238243caaf36f8495409d552": {
      "model_module": "@jupyter-widgets/controls",
      "model_module_version": "1.5.0",
      "model_name": "ProgressStyleModel",
      "state": {
       "description_width": ""
      }
     },
     "6e8cca8f46754c3d8e0ab68f602c8685": {
      "model_module": "@jupyter-widgets/controls",
      "model_module_version": "1.5.0",
      "model_name": "HBoxModel",
      "state": {
       "children": [
        "IPY_MODEL_335359af048044b68a622eeed260338f",
        "IPY_MODEL_6fef9dbe7c7f487ea931cc472232c7f8",
        "IPY_MODEL_2796d4640e4c4e929e33d1c64b9f54fc"
       ],
       "layout": "IPY_MODEL_e888eadbc7f94bd8a49318165d57b41e"
      }
     },
     "6f5a802ef427491ab972a34df2bf0c69": {
      "model_module": "@jupyter-widgets/controls",
      "model_module_version": "1.5.0",
      "model_name": "HTMLModel",
      "state": {
       "layout": "IPY_MODEL_a39be264c3644567a3099972546b6467",
       "style": "IPY_MODEL_56f1baeba1494b818182222ccb5d13ea",
       "value": " 4/4 [00:07&lt;00:00,  2.25s/it]"
      }
     },
     "6f794c624be94766aa1173d268857714": {
      "model_module": "@jupyter-widgets/controls",
      "model_module_version": "1.5.0",
      "model_name": "HTMLModel",
      "state": {
       "layout": "IPY_MODEL_234e24831a0f4f43bc69f819aff734ef",
       "style": "IPY_MODEL_87594e0f75114cac9ea7e461d39e53ea",
       "value": "100%"
      }
     },
     "6fcff024baf2498bb3ac78f0d1527144": {
      "model_module": "@jupyter-widgets/base",
      "model_module_version": "1.2.0",
      "model_name": "LayoutModel",
      "state": {}
     },
     "6fd4f788bb824b16af42e0472465355c": {
      "model_module": "@jupyter-widgets/controls",
      "model_module_version": "1.5.0",
      "model_name": "HBoxModel",
      "state": {
       "children": [
        "IPY_MODEL_dc0dd2981a724c11960fdfb9c4753949",
        "IPY_MODEL_430fec0f20bc4e7ebe830021f63dd731",
        "IPY_MODEL_87bd516446324c848607396a35fbd10d"
       ],
       "layout": "IPY_MODEL_71662bb3355047bfa1794f2618d512fd"
      }
     },
     "6fef9dbe7c7f487ea931cc472232c7f8": {
      "model_module": "@jupyter-widgets/controls",
      "model_module_version": "1.5.0",
      "model_name": "FloatProgressModel",
      "state": {
       "bar_style": "danger",
       "layout": "IPY_MODEL_8ed4ea60c228441bb58a109bfdb44d87",
       "max": 14,
       "style": "IPY_MODEL_2d314896d673436ca34fb2700ce24e3f",
       "value": 8
      }
     },
     "70268c8c928f4f88b7800ca0b349bf8e": {
      "model_module": "@jupyter-widgets/controls",
      "model_module_version": "1.5.0",
      "model_name": "FloatProgressModel",
      "state": {
       "bar_style": "success",
       "layout": "IPY_MODEL_85a207da415748b88779087c996cfbbe",
       "max": 3,
       "style": "IPY_MODEL_a52dc0b6be834b578252ec84b57cb7ae",
       "value": 3
      }
     },
     "70960292e2904c71aaf0829c5276ff22": {
      "model_module": "@jupyter-widgets/controls",
      "model_module_version": "1.5.0",
      "model_name": "HTMLModel",
      "state": {
       "layout": "IPY_MODEL_f302702e49304ecc970ba60d6dff4f48",
       "style": "IPY_MODEL_54ed6756a74146a8bcf1d0d9a6838a2b",
       "value": " 67%"
      }
     },
     "70aed8869bb54430ad242135ad759d2f": {
      "model_module": "@jupyter-widgets/controls",
      "model_module_version": "1.5.0",
      "model_name": "HBoxModel",
      "state": {
       "children": [
        "IPY_MODEL_2b06f801070a48a5bb5f39f5577cf5f1",
        "IPY_MODEL_b6c01ffdf5dc4c1a93c67b7a9fa840a0",
        "IPY_MODEL_c0a9ef47e8e84bcba447e99fa44f6883"
       ],
       "layout": "IPY_MODEL_271558bdfe944780b3e8a65d2bfe1626"
      }
     },
     "70eea4c1fb1e41ff8ee31f5613ef5754": {
      "model_module": "@jupyter-widgets/base",
      "model_module_version": "1.2.0",
      "model_name": "LayoutModel",
      "state": {}
     },
     "71662bb3355047bfa1794f2618d512fd": {
      "model_module": "@jupyter-widgets/base",
      "model_module_version": "1.2.0",
      "model_name": "LayoutModel",
      "state": {}
     },
     "721e182dd01e47aca3f0e758c8c7c4b6": {
      "model_module": "@jupyter-widgets/controls",
      "model_module_version": "1.5.0",
      "model_name": "DescriptionStyleModel",
      "state": {
       "description_width": ""
      }
     },
     "72d2f467985443aa84671df70e62e3fb": {
      "model_module": "@jupyter-widgets/controls",
      "model_module_version": "1.5.0",
      "model_name": "FloatProgressModel",
      "state": {
       "bar_style": "success",
       "layout": "IPY_MODEL_cb2f0f992fb948c28118355cc51d6ae7",
       "max": 1,
       "style": "IPY_MODEL_7fd26fd7a3f84a8e8a1cc03e242485bc",
       "value": 1
      }
     },
     "73d6e42220b34c1db7c9c32952805469": {
      "model_module": "@jupyter-widgets/controls",
      "model_module_version": "1.5.0",
      "model_name": "DescriptionStyleModel",
      "state": {
       "description_width": ""
      }
     },
     "749e6b87082c4e4bbdd4030cad16b4ca": {
      "model_module": "@jupyter-widgets/controls",
      "model_module_version": "1.5.0",
      "model_name": "FloatProgressModel",
      "state": {
       "bar_style": "success",
       "layout": "IPY_MODEL_bd101b633ea34ac69246ecb0598515b8",
       "max": 14,
       "style": "IPY_MODEL_9cb0f87fdb62465a8ac2ef169db7b6b9",
       "value": 14
      }
     },
     "74b05596216a49a1b150b9be0061ffef": {
      "model_module": "@jupyter-widgets/controls",
      "model_module_version": "1.5.0",
      "model_name": "HTMLModel",
      "state": {
       "layout": "IPY_MODEL_7b937f4aa0db46cbbdf18c146a4d8d9d",
       "style": "IPY_MODEL_e49fc61a072143458af206edcef6af8c",
       "value": " 14/14 [00:35&lt;00:00,  2.65s/it]"
      }
     },
     "74b140d56f264876ad3baac400674e81": {
      "model_module": "@jupyter-widgets/base",
      "model_module_version": "1.2.0",
      "model_name": "LayoutModel",
      "state": {}
     },
     "74beaec67ac64b4f9e4ffd9764bd2b9d": {
      "model_module": "@jupyter-widgets/controls",
      "model_module_version": "1.5.0",
      "model_name": "DescriptionStyleModel",
      "state": {
       "description_width": ""
      }
     },
     "74e16d5201b746f6bda501151e592eed": {
      "model_module": "@jupyter-widgets/controls",
      "model_module_version": "1.5.0",
      "model_name": "ProgressStyleModel",
      "state": {
       "description_width": ""
      }
     },
     "7598e2700b684d90841799187dfcc138": {
      "model_module": "@jupyter-widgets/controls",
      "model_module_version": "1.5.0",
      "model_name": "HTMLModel",
      "state": {
       "layout": "IPY_MODEL_415ded97bd634a94aa9493edee1aef5e",
       "style": "IPY_MODEL_2a1b43fb3d5e41dbaad395e88d69dc17",
       "value": " 10/14 [00:26&lt;00:17,  4.32s/it]"
      }
     },
     "761febfec9434d18a10e7a292405c5d3": {
      "model_module": "@jupyter-widgets/controls",
      "model_module_version": "1.5.0",
      "model_name": "HTMLModel",
      "state": {
       "layout": "IPY_MODEL_2493d03c7bd34717904cab4538dd29ad",
       "style": "IPY_MODEL_437853bb71fc48718a27425bc6fcd9c5",
       "value": " 3/3 [00:10&lt;00:00,  4.29s/it]"
      }
     },
     "76d91f459d6d4f2aa4c55161e3e2fbd5": {
      "model_module": "@jupyter-widgets/controls",
      "model_module_version": "1.5.0",
      "model_name": "DescriptionStyleModel",
      "state": {
       "description_width": ""
      }
     },
     "77027611d9f94233a558744125d779c3": {
      "model_module": "@jupyter-widgets/controls",
      "model_module_version": "1.5.0",
      "model_name": "DescriptionStyleModel",
      "state": {
       "description_width": ""
      }
     },
     "77569b61b9f94b3bba023f8f25e98d70": {
      "model_module": "@jupyter-widgets/base",
      "model_module_version": "1.2.0",
      "model_name": "LayoutModel",
      "state": {}
     },
     "7764764341734b73a31c67d572f15ab7": {
      "model_module": "@jupyter-widgets/controls",
      "model_module_version": "1.5.0",
      "model_name": "HBoxModel",
      "state": {
       "children": [
        "IPY_MODEL_1ea51bc560ca4022bb1a949c79a0f734",
        "IPY_MODEL_4388f670ebb044a3a9838ebdc4c2a587",
        "IPY_MODEL_b99910e822374a6b9ce70d7b96324062"
       ],
       "layout": "IPY_MODEL_62631fe6d1564f839a570964b62a24c8"
      }
     },
     "777f86a86f664c9cb9be08b5315a4d59": {
      "model_module": "@jupyter-widgets/controls",
      "model_module_version": "1.5.0",
      "model_name": "FloatProgressModel",
      "state": {
       "bar_style": "success",
       "layout": "IPY_MODEL_a251fdba365540e59af8cbd3077647f0",
       "max": 3,
       "style": "IPY_MODEL_c5bdc1aea1dc42808c80934112cab5ca",
       "value": 3
      }
     },
     "77cc87b539e74f5dafad722153e60cd3": {
      "model_module": "@jupyter-widgets/controls",
      "model_module_version": "1.5.0",
      "model_name": "DescriptionStyleModel",
      "state": {
       "description_width": ""
      }
     },
     "77ed0aba6bdd404193911cba5b9d44ea": {
      "model_module": "@jupyter-widgets/controls",
      "model_module_version": "1.5.0",
      "model_name": "DescriptionStyleModel",
      "state": {
       "description_width": ""
      }
     },
     "7863273832e24bb2b5709eec56869f46": {
      "model_module": "@jupyter-widgets/controls",
      "model_module_version": "1.5.0",
      "model_name": "HTMLModel",
      "state": {
       "layout": "IPY_MODEL_4c7a44cfe46546c7ad4510925b762ba3",
       "style": "IPY_MODEL_63db93ef7251427da2644643a5f52e2a",
       "value": " 3/3 [00:10&lt;00:00,  3.99s/it]"
      }
     },
     "78c8eefc38c6474fa027d6414ab01f75": {
      "model_module": "@jupyter-widgets/base",
      "model_module_version": "1.2.0",
      "model_name": "LayoutModel",
      "state": {}
     },
     "799c2ce912b542fe9177159be2e714af": {
      "model_module": "@jupyter-widgets/controls",
      "model_module_version": "1.5.0",
      "model_name": "FloatProgressModel",
      "state": {
       "bar_style": "success",
       "layout": "IPY_MODEL_edba1ebe3a684c6da97596e98b5211a5",
       "max": 14,
       "style": "IPY_MODEL_e4fee53c94fa471e8eb4b075e0b60ed2",
       "value": 14
      }
     },
     "79a44aa20b9946bc8b79ab2e2e5df6a2": {
      "model_module": "@jupyter-widgets/controls",
      "model_module_version": "1.5.0",
      "model_name": "FloatProgressModel",
      "state": {
       "bar_style": "success",
       "layout": "IPY_MODEL_46f145a243894c2d993c289862c13a8b",
       "max": 14,
       "style": "IPY_MODEL_a0618f7e69d04e0a9872eb21f6b60876",
       "value": 14
      }
     },
     "7a10d58c1ecc444c83d13eb4996e5ee4": {
      "model_module": "@jupyter-widgets/base",
      "model_module_version": "1.2.0",
      "model_name": "LayoutModel",
      "state": {}
     },
     "7a704d424209479cb5037043a800cfd7": {
      "model_module": "@jupyter-widgets/controls",
      "model_module_version": "1.5.0",
      "model_name": "HTMLModel",
      "state": {
       "layout": "IPY_MODEL_5f8bbc5331a9448daa5e5f3d0b35ea4f",
       "style": "IPY_MODEL_9f16e3b71c72436594fb8b03cb684353",
       "value": "100%"
      }
     },
     "7aab256f06ef4b9e8565daa375e42e01": {
      "model_module": "@jupyter-widgets/controls",
      "model_module_version": "1.5.0",
      "model_name": "DescriptionStyleModel",
      "state": {
       "description_width": ""
      }
     },
     "7ad06790a5154b6986cba20d76f8be7d": {
      "model_module": "@jupyter-widgets/controls",
      "model_module_version": "1.5.0",
      "model_name": "ProgressStyleModel",
      "state": {
       "description_width": ""
      }
     },
     "7aedc26c48254a838669f450a1fcbb22": {
      "model_module": "@jupyter-widgets/controls",
      "model_module_version": "1.5.0",
      "model_name": "ProgressStyleModel",
      "state": {
       "description_width": ""
      }
     },
     "7b671e2e52f24c399d68c55d193f4624": {
      "model_module": "@jupyter-widgets/controls",
      "model_module_version": "1.5.0",
      "model_name": "HTMLModel",
      "state": {
       "layout": "IPY_MODEL_1b3e9c32128b4afd82e6239a2c210fd1",
       "style": "IPY_MODEL_837873934a2b49d7b1739352bf6c8c7c",
       "value": " 3/3 [00:10&lt;00:00,  4.20s/it]"
      }
     },
     "7b937f4aa0db46cbbdf18c146a4d8d9d": {
      "model_module": "@jupyter-widgets/base",
      "model_module_version": "1.2.0",
      "model_name": "LayoutModel",
      "state": {}
     },
     "7b94f9a54ba547ecaa1e06fb565d1e14": {
      "model_module": "@jupyter-widgets/controls",
      "model_module_version": "1.5.0",
      "model_name": "HBoxModel",
      "state": {
       "children": [
        "IPY_MODEL_0b4691c9dc8c4730b2406addff4465cf",
        "IPY_MODEL_195bf44553064ef9b5c442ed7f8d14c0",
        "IPY_MODEL_68639f2e8c1c4e3289e0f6d8dce28243"
       ],
       "layout": "IPY_MODEL_2675acb784a64d10b3c0d15cb32666e4"
      }
     },
     "7bc1387af95243a4936c14134903bc0d": {
      "model_module": "@jupyter-widgets/base",
      "model_module_version": "1.2.0",
      "model_name": "LayoutModel",
      "state": {}
     },
     "7c0f779c53b24b90bfd89261b716e72d": {
      "model_module": "@jupyter-widgets/controls",
      "model_module_version": "1.5.0",
      "model_name": "DescriptionStyleModel",
      "state": {
       "description_width": ""
      }
     },
     "7c4f5b395aa7452e91c654d6ad1085cb": {
      "model_module": "@jupyter-widgets/controls",
      "model_module_version": "1.5.0",
      "model_name": "HTMLModel",
      "state": {
       "layout": "IPY_MODEL_2f72b1c595794230af9af83a13d39cca",
       "style": "IPY_MODEL_9dbef2b69974443e8953ecf0124bb856",
       "value": "100%"
      }
     },
     "7e6348b6f12249d5968b9eb97f166010": {
      "model_module": "@jupyter-widgets/controls",
      "model_module_version": "1.5.0",
      "model_name": "DescriptionStyleModel",
      "state": {
       "description_width": ""
      }
     },
     "7f39e4fb792e4f0dbe1c7c27002d693a": {
      "model_module": "@jupyter-widgets/controls",
      "model_module_version": "1.5.0",
      "model_name": "FloatProgressModel",
      "state": {
       "bar_style": "success",
       "layout": "IPY_MODEL_81b26703a68944f4ab93ad79e9c80094",
       "max": 14,
       "style": "IPY_MODEL_a4587bcd144e43aca297d025ad154820",
       "value": 14
      }
     },
     "7fd26fd7a3f84a8e8a1cc03e242485bc": {
      "model_module": "@jupyter-widgets/controls",
      "model_module_version": "1.5.0",
      "model_name": "ProgressStyleModel",
      "state": {
       "description_width": ""
      }
     },
     "801c18dea9304ecbb6bb0636069827d4": {
      "model_module": "@jupyter-widgets/base",
      "model_module_version": "1.2.0",
      "model_name": "LayoutModel",
      "state": {}
     },
     "802c5562f59f42ef96997de1b9feb3b5": {
      "model_module": "@jupyter-widgets/controls",
      "model_module_version": "1.5.0",
      "model_name": "HTMLModel",
      "state": {
       "layout": "IPY_MODEL_a99c5e20d6d7423181e14969ec0ffc55",
       "style": "IPY_MODEL_edd4ff7f3e974300b167832d9129ddc9",
       "value": "100%"
      }
     },
     "8039000c118c4b35bc9ffcc4d13b27f3": {
      "model_module": "@jupyter-widgets/controls",
      "model_module_version": "1.5.0",
      "model_name": "HTMLModel",
      "state": {
       "layout": "IPY_MODEL_084efb17fade418aac55ccf88c99373d",
       "style": "IPY_MODEL_fcae490625734c64bdd2385f2511ea70",
       "value": " 14/14 [00:37&lt;00:00,  2.77s/it]"
      }
     },
     "805874e27f1a45e1b89fb0c287a680a8": {
      "model_module": "@jupyter-widgets/controls",
      "model_module_version": "1.5.0",
      "model_name": "DescriptionStyleModel",
      "state": {
       "description_width": ""
      }
     },
     "809b845a947d4eceaa9d7201273254c6": {
      "model_module": "@jupyter-widgets/base",
      "model_module_version": "1.2.0",
      "model_name": "LayoutModel",
      "state": {}
     },
     "80c763c7699b4ff49a71253aa16e9b40": {
      "model_module": "@jupyter-widgets/base",
      "model_module_version": "1.2.0",
      "model_name": "LayoutModel",
      "state": {}
     },
     "8119cd3961734583bf6db0c483e7f3a5": {
      "model_module": "@jupyter-widgets/controls",
      "model_module_version": "1.5.0",
      "model_name": "HTMLModel",
      "state": {
       "layout": "IPY_MODEL_0f08dbddfbf34a21a5d145735909cfec",
       "style": "IPY_MODEL_a2dc4e35c9ca48d3a6e51fc5cefd0ced",
       "value": " 14/14 [00:34&lt;00:00,  2.58s/it]"
      }
     },
     "81219c097ac744b69ad4e171ef739df5": {
      "model_module": "@jupyter-widgets/controls",
      "model_module_version": "1.5.0",
      "model_name": "DescriptionStyleModel",
      "state": {
       "description_width": ""
      }
     },
     "817301f479794c12b0e516e4b27ca565": {
      "model_module": "@jupyter-widgets/base",
      "model_module_version": "1.2.0",
      "model_name": "LayoutModel",
      "state": {}
     },
     "8184abafd437439481a39fe8f50c41bf": {
      "model_module": "@jupyter-widgets/controls",
      "model_module_version": "1.5.0",
      "model_name": "ProgressStyleModel",
      "state": {
       "description_width": ""
      }
     },
     "81b26703a68944f4ab93ad79e9c80094": {
      "model_module": "@jupyter-widgets/base",
      "model_module_version": "1.2.0",
      "model_name": "LayoutModel",
      "state": {}
     },
     "81fd12c7fc3c414b93a7481f3fb7da1e": {
      "model_module": "@jupyter-widgets/controls",
      "model_module_version": "1.5.0",
      "model_name": "HTMLModel",
      "state": {
       "layout": "IPY_MODEL_276ce3320f1349639ffd64105f12b350",
       "style": "IPY_MODEL_77027611d9f94233a558744125d779c3",
       "value": "100%"
      }
     },
     "8217a65ec82749c384cfde988d04b47e": {
      "model_module": "@jupyter-widgets/base",
      "model_module_version": "1.2.0",
      "model_name": "LayoutModel",
      "state": {}
     },
     "82fb3cf99ebb4e96ac943460c9281ad7": {
      "model_module": "@jupyter-widgets/controls",
      "model_module_version": "1.5.0",
      "model_name": "HTMLModel",
      "state": {
       "layout": "IPY_MODEL_4df9ea255ee04057a55797a504a03021",
       "style": "IPY_MODEL_f4e82aa0dad7492e9f251f424c0459f3",
       "value": " 3/3 [00:11&lt;00:00,  4.35s/it]"
      }
     },
     "83367f94883e4fd6883bf6596850b72c": {
      "model_module": "@jupyter-widgets/controls",
      "model_module_version": "1.5.0",
      "model_name": "ProgressStyleModel",
      "state": {
       "description_width": ""
      }
     },
     "837873934a2b49d7b1739352bf6c8c7c": {
      "model_module": "@jupyter-widgets/controls",
      "model_module_version": "1.5.0",
      "model_name": "DescriptionStyleModel",
      "state": {
       "description_width": ""
      }
     },
     "83c2fac7843c4663a1b118a4efb743db": {
      "model_module": "@jupyter-widgets/controls",
      "model_module_version": "1.5.0",
      "model_name": "HTMLModel",
      "state": {
       "layout": "IPY_MODEL_5592b4ced2b04897acb15b7d476b9740",
       "style": "IPY_MODEL_f13ca19e18544997bae83876d0159c0a",
       "value": "100%"
      }
     },
     "845af8d2da2a4ab4ad8df8b4e2341619": {
      "model_module": "@jupyter-widgets/controls",
      "model_module_version": "1.5.0",
      "model_name": "DescriptionStyleModel",
      "state": {
       "description_width": ""
      }
     },
     "850b5faee343454caff7bcb954c1b297": {
      "model_module": "@jupyter-widgets/base",
      "model_module_version": "1.2.0",
      "model_name": "LayoutModel",
      "state": {}
     },
     "854dbd68562548558ed1aa363a4554d2": {
      "model_module": "@jupyter-widgets/controls",
      "model_module_version": "1.5.0",
      "model_name": "HTMLModel",
      "state": {
       "layout": "IPY_MODEL_530227233cdb4d7bbe6a127d11bbbc96",
       "style": "IPY_MODEL_5f3c41984e834353b4bd3fbb27a25c2c",
       "value": " 3/3 [00:10&lt;00:00,  4.26s/it]"
      }
     },
     "8588cbf7c52d4f418839811101f446cc": {
      "model_module": "@jupyter-widgets/base",
      "model_module_version": "1.2.0",
      "model_name": "LayoutModel",
      "state": {}
     },
     "85a207da415748b88779087c996cfbbe": {
      "model_module": "@jupyter-widgets/base",
      "model_module_version": "1.2.0",
      "model_name": "LayoutModel",
      "state": {}
     },
     "85bac26c66964215ac5fdf16b0e39b66": {
      "model_module": "@jupyter-widgets/base",
      "model_module_version": "1.2.0",
      "model_name": "LayoutModel",
      "state": {}
     },
     "85d9ce7fbbea4356a2844cb8e9bd2564": {
      "model_module": "@jupyter-widgets/controls",
      "model_module_version": "1.5.0",
      "model_name": "DescriptionStyleModel",
      "state": {
       "description_width": ""
      }
     },
     "85e61beb995d4af989a3d453931372b6": {
      "model_module": "@jupyter-widgets/controls",
      "model_module_version": "1.5.0",
      "model_name": "HBoxModel",
      "state": {
       "children": [
        "IPY_MODEL_57dfcbb0414848a7afaf25ae5b8f6318",
        "IPY_MODEL_59cb8b51d70545db801f62bf91dde842",
        "IPY_MODEL_7b671e2e52f24c399d68c55d193f4624"
       ],
       "layout": "IPY_MODEL_e5627be0bb0747cbb16d4c50cdc94823"
      }
     },
     "85ef1aa4fcf8440085059dd1730c10ce": {
      "model_module": "@jupyter-widgets/controls",
      "model_module_version": "1.5.0",
      "model_name": "HBoxModel",
      "state": {
       "children": [
        "IPY_MODEL_f66bdd911a814945be5752c9df45f480",
        "IPY_MODEL_79a44aa20b9946bc8b79ab2e2e5df6a2",
        "IPY_MODEL_47f98225af024bc7af24fb7f21e52399"
       ],
       "layout": "IPY_MODEL_212dcdc1e2d240d883b18393d45acda8"
      }
     },
     "8758e08007c147cc995a9cd778321546": {
      "model_module": "@jupyter-widgets/base",
      "model_module_version": "1.2.0",
      "model_name": "LayoutModel",
      "state": {}
     },
     "87594e0f75114cac9ea7e461d39e53ea": {
      "model_module": "@jupyter-widgets/controls",
      "model_module_version": "1.5.0",
      "model_name": "DescriptionStyleModel",
      "state": {
       "description_width": ""
      }
     },
     "876f19a2a1274dfaab89aed4f6d34307": {
      "model_module": "@jupyter-widgets/controls",
      "model_module_version": "1.5.0",
      "model_name": "ProgressStyleModel",
      "state": {
       "description_width": ""
      }
     },
     "87bd516446324c848607396a35fbd10d": {
      "model_module": "@jupyter-widgets/controls",
      "model_module_version": "1.5.0",
      "model_name": "HTMLModel",
      "state": {
       "layout": "IPY_MODEL_115a126a5dc14d9e9e0c1a91e79ef53e",
       "style": "IPY_MODEL_5649d18abbde4f47a03b99cee129ca40",
       "value": " 3/3 [00:11&lt;00:00,  4.39s/it]"
      }
     },
     "87ed297c898a4aa8a059c3d7c6418959": {
      "model_module": "@jupyter-widgets/base",
      "model_module_version": "1.2.0",
      "model_name": "LayoutModel",
      "state": {}
     },
     "8882d1d7c3f1433a9b9101a888037ec7": {
      "model_module": "@jupyter-widgets/controls",
      "model_module_version": "1.5.0",
      "model_name": "HTMLModel",
      "state": {
       "layout": "IPY_MODEL_f65d8a8840ca449cbde70bef05e56953",
       "style": "IPY_MODEL_b0967127666b443cb813bf91f7ecfedf",
       "value": "100%"
      }
     },
     "8884c47ab3c441ce8df0a22eac4b497e": {
      "model_module": "@jupyter-widgets/base",
      "model_module_version": "1.2.0",
      "model_name": "LayoutModel",
      "state": {}
     },
     "89df800d4df747eaa75255a756977bf8": {
      "model_module": "@jupyter-widgets/controls",
      "model_module_version": "1.5.0",
      "model_name": "ProgressStyleModel",
      "state": {
       "description_width": ""
      }
     },
     "8a03ad0d87be4739985ebdbd8e3f6821": {
      "model_module": "@jupyter-widgets/controls",
      "model_module_version": "1.5.0",
      "model_name": "HTMLModel",
      "state": {
       "layout": "IPY_MODEL_ba29168235254634b5b1b682e0b4ae4c",
       "style": "IPY_MODEL_bc59be59c8e340218f148d15b9e3c513",
       "value": " 14/14 [00:34&lt;00:00,  2.54s/it]"
      }
     },
     "8b057534064a4e3686cd34358bb93401": {
      "model_module": "@jupyter-widgets/controls",
      "model_module_version": "1.5.0",
      "model_name": "HTMLModel",
      "state": {
       "layout": "IPY_MODEL_bfc48091ec6d4aa88c7cd6e624b2063f",
       "style": "IPY_MODEL_805874e27f1a45e1b89fb0c287a680a8",
       "value": " 3/3 [00:10&lt;00:00,  4.25s/it]"
      }
     },
     "8b16a795483843d3b70dba6e1fd26a29": {
      "model_module": "@jupyter-widgets/base",
      "model_module_version": "1.2.0",
      "model_name": "LayoutModel",
      "state": {}
     },
     "8bde0caeebf740c4bc667fbfa72d02ed": {
      "model_module": "@jupyter-widgets/controls",
      "model_module_version": "1.5.0",
      "model_name": "HTMLModel",
      "state": {
       "layout": "IPY_MODEL_335ac4086e8e40ea906ff302e06b35ec",
       "style": "IPY_MODEL_17800447be014770ae05c74ce802f81c",
       "value": " 71%"
      }
     },
     "8c4974d3c01f4a0ab4612bcd9d2c487e": {
      "model_module": "@jupyter-widgets/controls",
      "model_module_version": "1.5.0",
      "model_name": "FloatProgressModel",
      "state": {
       "bar_style": "success",
       "layout": "IPY_MODEL_06cd218c9ce0406090f8b3651b412fe3",
       "max": 3,
       "style": "IPY_MODEL_069d1da5bb904bb092d378f310a159d1",
       "value": 3
      }
     },
     "8c9fb845d586409ebe1a3b099073ed87": {
      "model_module": "@jupyter-widgets/base",
      "model_module_version": "1.2.0",
      "model_name": "LayoutModel",
      "state": {}
     },
     "8ccf6c8ad7a94dee96a0b8f1c326da34": {
      "model_module": "@jupyter-widgets/controls",
      "model_module_version": "1.5.0",
      "model_name": "DescriptionStyleModel",
      "state": {
       "description_width": ""
      }
     },
     "8d0d8c956fc0459f905a8b1a41ffe4fe": {
      "model_module": "@jupyter-widgets/base",
      "model_module_version": "1.2.0",
      "model_name": "LayoutModel",
      "state": {}
     },
     "8d4c233f2bd34fc785689c28a4443ae4": {
      "model_module": "@jupyter-widgets/base",
      "model_module_version": "1.2.0",
      "model_name": "LayoutModel",
      "state": {}
     },
     "8d537c8aa9584d61a56bb5641182a29e": {
      "model_module": "@jupyter-widgets/base",
      "model_module_version": "1.2.0",
      "model_name": "LayoutModel",
      "state": {}
     },
     "8de9a6074fbd4b38a5a91f1463b54fc9": {
      "model_module": "@jupyter-widgets/base",
      "model_module_version": "1.2.0",
      "model_name": "LayoutModel",
      "state": {}
     },
     "8e28b38aef194897b6131f4317563b9f": {
      "model_module": "@jupyter-widgets/controls",
      "model_module_version": "1.5.0",
      "model_name": "DescriptionStyleModel",
      "state": {
       "description_width": ""
      }
     },
     "8ec11039193343d798c4d59b2cfe705b": {
      "model_module": "@jupyter-widgets/controls",
      "model_module_version": "1.5.0",
      "model_name": "DescriptionStyleModel",
      "state": {
       "description_width": ""
      }
     },
     "8ed4ea60c228441bb58a109bfdb44d87": {
      "model_module": "@jupyter-widgets/base",
      "model_module_version": "1.2.0",
      "model_name": "LayoutModel",
      "state": {}
     },
     "8f3469b12b6d41cca996c3174a8a94d3": {
      "model_module": "@jupyter-widgets/controls",
      "model_module_version": "1.5.0",
      "model_name": "FloatProgressModel",
      "state": {
       "bar_style": "success",
       "layout": "IPY_MODEL_d23780089de748e3a6494a99c3811a90",
       "max": 14,
       "style": "IPY_MODEL_3bf48ed08eed4ac5a645a04c7acea2f0",
       "value": 14
      }
     },
     "8f5256878fcc4418932eb682a7007e91": {
      "model_module": "@jupyter-widgets/controls",
      "model_module_version": "1.5.0",
      "model_name": "DescriptionStyleModel",
      "state": {
       "description_width": ""
      }
     },
     "8f87a82165fc452397ac70cad966bbe4": {
      "model_module": "@jupyter-widgets/controls",
      "model_module_version": "1.5.0",
      "model_name": "ProgressStyleModel",
      "state": {
       "description_width": ""
      }
     },
     "8fa32913544f4ff7ae6cc19b754896c1": {
      "model_module": "@jupyter-widgets/base",
      "model_module_version": "1.2.0",
      "model_name": "LayoutModel",
      "state": {}
     },
     "8ff573009e114a3f87d3b18fc70f28cc": {
      "model_module": "@jupyter-widgets/controls",
      "model_module_version": "1.5.0",
      "model_name": "HTMLModel",
      "state": {
       "layout": "IPY_MODEL_809b845a947d4eceaa9d7201273254c6",
       "style": "IPY_MODEL_d19518513e8a44dfa6fb2814c8c8f05d",
       "value": " 3/3 [00:10&lt;00:00,  4.19s/it]"
      }
     },
     "90220a88101d49e888b6f83bfb6df436": {
      "model_module": "@jupyter-widgets/base",
      "model_module_version": "1.2.0",
      "model_name": "LayoutModel",
      "state": {}
     },
     "903eacd04bae46db83092bc1e8f150e2": {
      "model_module": "@jupyter-widgets/base",
      "model_module_version": "1.2.0",
      "model_name": "LayoutModel",
      "state": {}
     },
     "9081a73355fa4afcacf5da26e5f3a77f": {
      "model_module": "@jupyter-widgets/controls",
      "model_module_version": "1.5.0",
      "model_name": "HBoxModel",
      "state": {
       "children": [
        "IPY_MODEL_96efe36f1bb949629a3d121c3028b8bb",
        "IPY_MODEL_f088a133a8804674b9dd7f297ffbf9c2",
        "IPY_MODEL_d83e8dcffaef45478777c81975daeb66"
       ],
       "layout": "IPY_MODEL_8d537c8aa9584d61a56bb5641182a29e"
      }
     },
     "90847593a34c4349a601197e200e330b": {
      "model_module": "@jupyter-widgets/controls",
      "model_module_version": "1.5.0",
      "model_name": "FloatProgressModel",
      "state": {
       "bar_style": "success",
       "layout": "IPY_MODEL_3e038dd87e8e4559b113c386a0626299",
       "max": 14,
       "style": "IPY_MODEL_8f87a82165fc452397ac70cad966bbe4",
       "value": 14
      }
     },
     "90923c837e1b4ab9bc13f1267d9159d8": {
      "model_module": "@jupyter-widgets/base",
      "model_module_version": "1.2.0",
      "model_name": "LayoutModel",
      "state": {}
     },
     "9216e0e0907040929f6e274b03ee6243": {
      "model_module": "@jupyter-widgets/controls",
      "model_module_version": "1.5.0",
      "model_name": "ProgressStyleModel",
      "state": {
       "description_width": ""
      }
     },
     "9394526ac9c941739cd411acfd526766": {
      "model_module": "@jupyter-widgets/base",
      "model_module_version": "1.2.0",
      "model_name": "LayoutModel",
      "state": {}
     },
     "93d601e2d59e468bb0a2e59df885b6bb": {
      "model_module": "@jupyter-widgets/base",
      "model_module_version": "1.2.0",
      "model_name": "LayoutModel",
      "state": {}
     },
     "946cadf61f5e47fd8270beb2329cf33b": {
      "model_module": "@jupyter-widgets/base",
      "model_module_version": "1.2.0",
      "model_name": "LayoutModel",
      "state": {}
     },
     "94b354bd31db4240b3abce5878a7f39e": {
      "model_module": "@jupyter-widgets/base",
      "model_module_version": "1.2.0",
      "model_name": "LayoutModel",
      "state": {}
     },
     "95300a5b30004cba8b3edd3a03b70613": {
      "model_module": "@jupyter-widgets/controls",
      "model_module_version": "1.5.0",
      "model_name": "DescriptionStyleModel",
      "state": {
       "description_width": ""
      }
     },
     "95cfbf3086504b4ab9a1449d5cf78769": {
      "model_module": "@jupyter-widgets/controls",
      "model_module_version": "1.5.0",
      "model_name": "DescriptionStyleModel",
      "state": {
       "description_width": ""
      }
     },
     "9610b9e50bdc44d6ac6c7b4c9e8a6973": {
      "model_module": "@jupyter-widgets/controls",
      "model_module_version": "1.5.0",
      "model_name": "HBoxModel",
      "state": {
       "children": [
        "IPY_MODEL_42645fcaf4c64cf68824d93759c75bc8",
        "IPY_MODEL_d3134f14b8944f4987bb3b46c8f59e6d",
        "IPY_MODEL_6217b2e724b7488dbf152daf3fb7ff95"
       ],
       "layout": "IPY_MODEL_dc68bf3968c245a59d61247ef22df629"
      }
     },
     "96b460c37817428197afea818ff1e4a5": {
      "model_module": "@jupyter-widgets/controls",
      "model_module_version": "1.5.0",
      "model_name": "HTMLModel",
      "state": {
       "layout": "IPY_MODEL_e40cca4a10a44e0dbd27b705095264cc",
       "style": "IPY_MODEL_3f0ca1a537944eababed72bd0d0b4031",
       "value": " 14/14 [00:35&lt;00:00,  2.59s/it]"
      }
     },
     "96efe36f1bb949629a3d121c3028b8bb": {
      "model_module": "@jupyter-widgets/controls",
      "model_module_version": "1.5.0",
      "model_name": "HTMLModel",
      "state": {
       "layout": "IPY_MODEL_e2df143c4ac449a490b970fc5d42903d",
       "style": "IPY_MODEL_74beaec67ac64b4f9e4ffd9764bd2b9d",
       "value": "100%"
      }
     },
     "97911fa7f7ff4b9ca533f84f14ba8a8d": {
      "model_module": "@jupyter-widgets/controls",
      "model_module_version": "1.5.0",
      "model_name": "DescriptionStyleModel",
      "state": {
       "description_width": ""
      }
     },
     "97bbbe30ec7f46b9aaa8e4ad4646ac93": {
      "model_module": "@jupyter-widgets/controls",
      "model_module_version": "1.5.0",
      "model_name": "HTMLModel",
      "state": {
       "layout": "IPY_MODEL_a287ddab9f4d4efbbc0febc60c8661ae",
       "style": "IPY_MODEL_4ad7e55c582c4f96bf747521fa1a880e",
       "value": " 3/14 [00:02&lt;00:05,  2.05it/s]"
      }
     },
     "98307e1ba8e542d28735e73168500439": {
      "model_module": "@jupyter-widgets/base",
      "model_module_version": "1.2.0",
      "model_name": "LayoutModel",
      "state": {}
     },
     "9853c5d67f5f48bb9813db5ee85adebb": {
      "model_module": "@jupyter-widgets/controls",
      "model_module_version": "1.5.0",
      "model_name": "ProgressStyleModel",
      "state": {
       "description_width": ""
      }
     },
     "9860d769f6e5456f8ab1d86485f89b89": {
      "model_module": "@jupyter-widgets/controls",
      "model_module_version": "1.5.0",
      "model_name": "HTMLModel",
      "state": {
       "layout": "IPY_MODEL_06d57aa711be4630a00b75bef4214d4c",
       "style": "IPY_MODEL_a3bcc7c717b049f4aa944f25a84dc4ef",
       "value": " 3/3 [00:10&lt;00:00,  4.14s/it]"
      }
     },
     "98cb9a5f782d406992c4ab9ddc0d89c4": {
      "model_module": "@jupyter-widgets/base",
      "model_module_version": "1.2.0",
      "model_name": "LayoutModel",
      "state": {}
     },
     "98ebb002e3a64642ad056d5f1b073578": {
      "model_module": "@jupyter-widgets/controls",
      "model_module_version": "1.5.0",
      "model_name": "HTMLModel",
      "state": {
       "layout": "IPY_MODEL_609bdb59378141f4a96e77ac1ac3c4d0",
       "style": "IPY_MODEL_9efb3a41c52e4f40bbec00d4a2d9a969",
       "value": " 3/3 [00:11&lt;00:00,  4.61s/it]"
      }
     },
     "99424901800049039cf89f5962ef052d": {
      "model_module": "@jupyter-widgets/controls",
      "model_module_version": "1.5.0",
      "model_name": "ProgressStyleModel",
      "state": {
       "description_width": ""
      }
     },
     "9a104c1a479a4b499033e7c555c78f9e": {
      "model_module": "@jupyter-widgets/controls",
      "model_module_version": "1.5.0",
      "model_name": "ProgressStyleModel",
      "state": {
       "description_width": ""
      }
     },
     "9a4b752de1ac4a439e4a44845e5667e5": {
      "model_module": "@jupyter-widgets/controls",
      "model_module_version": "1.5.0",
      "model_name": "DescriptionStyleModel",
      "state": {
       "description_width": ""
      }
     },
     "9aa137980ea9436eb363e700e522a365": {
      "model_module": "@jupyter-widgets/controls",
      "model_module_version": "1.5.0",
      "model_name": "ProgressStyleModel",
      "state": {
       "description_width": ""
      }
     },
     "9ac45458d0f9497bac72211e8da9c1ce": {
      "model_module": "@jupyter-widgets/base",
      "model_module_version": "1.2.0",
      "model_name": "LayoutModel",
      "state": {}
     },
     "9b335006471b4b01972e28175f5bd5a6": {
      "model_module": "@jupyter-widgets/controls",
      "model_module_version": "1.5.0",
      "model_name": "HBoxModel",
      "state": {
       "children": [
        "IPY_MODEL_f37ee6991b5b4c67b17f201ce50e2880",
        "IPY_MODEL_2551adbdd0364fdcb7901efe8a24fbd1",
        "IPY_MODEL_a9752cad2c2341dfb8ce3121a4d1ae82"
       ],
       "layout": "IPY_MODEL_67bd004a9cc54ca98a945c66e98a8dc5"
      }
     },
     "9bd67eb962624cffae4c442e70298f11": {
      "model_module": "@jupyter-widgets/controls",
      "model_module_version": "1.5.0",
      "model_name": "HTMLModel",
      "state": {
       "layout": "IPY_MODEL_6924f9666c14408f974c8626cb341bf0",
       "style": "IPY_MODEL_0325411a73a24e76a5a828c1af2f77f4",
       "value": " 14/14 [00:34&lt;00:00,  2.58s/it]"
      }
     },
     "9c9cd8f1d6b24d63a4d2ad548ec9f261": {
      "model_module": "@jupyter-widgets/controls",
      "model_module_version": "1.5.0",
      "model_name": "HBoxModel",
      "state": {
       "children": [
        "IPY_MODEL_0d5bdf9af54d439ca3f4b690da144284",
        "IPY_MODEL_d73879b228ab41edbd87b375a6c4d3eb",
        "IPY_MODEL_5363fb3cea7e48a79ae2d3eee8d3f103"
       ],
       "layout": "IPY_MODEL_85bac26c66964215ac5fdf16b0e39b66"
      }
     },
     "9cb0f87fdb62465a8ac2ef169db7b6b9": {
      "model_module": "@jupyter-widgets/controls",
      "model_module_version": "1.5.0",
      "model_name": "ProgressStyleModel",
      "state": {
       "description_width": ""
      }
     },
     "9cd79e32341d49e79b16310ec2053281": {
      "model_module": "@jupyter-widgets/controls",
      "model_module_version": "1.5.0",
      "model_name": "DescriptionStyleModel",
      "state": {
       "description_width": ""
      }
     },
     "9cf5eea599ac405eba88a368b841cb7b": {
      "model_module": "@jupyter-widgets/base",
      "model_module_version": "1.2.0",
      "model_name": "LayoutModel",
      "state": {}
     },
     "9dbef2b69974443e8953ecf0124bb856": {
      "model_module": "@jupyter-widgets/controls",
      "model_module_version": "1.5.0",
      "model_name": "DescriptionStyleModel",
      "state": {
       "description_width": ""
      }
     },
     "9ee613f03cca4b73a8bc20062ed816c1": {
      "model_module": "@jupyter-widgets/controls",
      "model_module_version": "1.5.0",
      "model_name": "HTMLModel",
      "state": {
       "layout": "IPY_MODEL_323409be01bc4fac9783bd8238d5b4de",
       "style": "IPY_MODEL_7c0f779c53b24b90bfd89261b716e72d",
       "value": " 14/14 [00:37&lt;00:00,  2.74s/it]"
      }
     },
     "9efb3a41c52e4f40bbec00d4a2d9a969": {
      "model_module": "@jupyter-widgets/controls",
      "model_module_version": "1.5.0",
      "model_name": "DescriptionStyleModel",
      "state": {
       "description_width": ""
      }
     },
     "9f05b8a4032d4eeaa91f17c8df6043fd": {
      "model_module": "@jupyter-widgets/controls",
      "model_module_version": "1.5.0",
      "model_name": "DescriptionStyleModel",
      "state": {
       "description_width": ""
      }
     },
     "9f16e3b71c72436594fb8b03cb684353": {
      "model_module": "@jupyter-widgets/controls",
      "model_module_version": "1.5.0",
      "model_name": "DescriptionStyleModel",
      "state": {
       "description_width": ""
      }
     },
     "9f7187b4ecb342f2a742a39abb381f9d": {
      "model_module": "@jupyter-widgets/base",
      "model_module_version": "1.2.0",
      "model_name": "LayoutModel",
      "state": {}
     },
     "a001f2d8f0ac46178a6eaf43f36f248e": {
      "model_module": "@jupyter-widgets/base",
      "model_module_version": "1.2.0",
      "model_name": "LayoutModel",
      "state": {}
     },
     "a0123662844f4a149a0432231f34ba9f": {
      "model_module": "@jupyter-widgets/controls",
      "model_module_version": "1.5.0",
      "model_name": "DescriptionStyleModel",
      "state": {
       "description_width": ""
      }
     },
     "a040616087b0471381e02100d008c999": {
      "model_module": "@jupyter-widgets/controls",
      "model_module_version": "1.5.0",
      "model_name": "FloatProgressModel",
      "state": {
       "bar_style": "success",
       "layout": "IPY_MODEL_d87c3678554943cfaf04488344ff5fe6",
       "max": 3,
       "style": "IPY_MODEL_a3353040007c440c941c724a6c7c4a86",
       "value": 3
      }
     },
     "a05d377b458949ba8d7dfb4733c297c6": {
      "model_module": "@jupyter-widgets/base",
      "model_module_version": "1.2.0",
      "model_name": "LayoutModel",
      "state": {}
     },
     "a0618f7e69d04e0a9872eb21f6b60876": {
      "model_module": "@jupyter-widgets/controls",
      "model_module_version": "1.5.0",
      "model_name": "ProgressStyleModel",
      "state": {
       "description_width": ""
      }
     },
     "a0a6992b1429433fbbbaf3d5f05d24c3": {
      "model_module": "@jupyter-widgets/controls",
      "model_module_version": "1.5.0",
      "model_name": "HTMLModel",
      "state": {
       "layout": "IPY_MODEL_0b79ec824d3b4d8aa3cae468021e6ea0",
       "style": "IPY_MODEL_d7b063232f184ceca6520530d9f21b38",
       "value": " 3/3 [00:10&lt;00:00,  4.23s/it]"
      }
     },
     "a100bb931af3454f8ff02fae28c2ba6a": {
      "model_module": "@jupyter-widgets/base",
      "model_module_version": "1.2.0",
      "model_name": "LayoutModel",
      "state": {}
     },
     "a14329532c41402699841551dbcaf36d": {
      "model_module": "@jupyter-widgets/controls",
      "model_module_version": "1.5.0",
      "model_name": "ProgressStyleModel",
      "state": {
       "description_width": ""
      }
     },
     "a18db3fb7d924aaf9f82396754c998e8": {
      "model_module": "@jupyter-widgets/controls",
      "model_module_version": "1.5.0",
      "model_name": "DescriptionStyleModel",
      "state": {
       "description_width": ""
      }
     },
     "a251fdba365540e59af8cbd3077647f0": {
      "model_module": "@jupyter-widgets/base",
      "model_module_version": "1.2.0",
      "model_name": "LayoutModel",
      "state": {}
     },
     "a287ddab9f4d4efbbc0febc60c8661ae": {
      "model_module": "@jupyter-widgets/base",
      "model_module_version": "1.2.0",
      "model_name": "LayoutModel",
      "state": {}
     },
     "a2955b360dac453d8c26fa7c5687f081": {
      "model_module": "@jupyter-widgets/controls",
      "model_module_version": "1.5.0",
      "model_name": "DescriptionStyleModel",
      "state": {
       "description_width": ""
      }
     },
     "a2dc4e35c9ca48d3a6e51fc5cefd0ced": {
      "model_module": "@jupyter-widgets/controls",
      "model_module_version": "1.5.0",
      "model_name": "DescriptionStyleModel",
      "state": {
       "description_width": ""
      }
     },
     "a2f63c20b4dd48a8866fcb6b802f8c4a": {
      "model_module": "@jupyter-widgets/controls",
      "model_module_version": "1.5.0",
      "model_name": "ProgressStyleModel",
      "state": {
       "description_width": ""
      }
     },
     "a32af960a36d4b52a3edd1f55e071c15": {
      "model_module": "@jupyter-widgets/controls",
      "model_module_version": "1.5.0",
      "model_name": "HTMLModel",
      "state": {
       "layout": "IPY_MODEL_18fb54df65384bb191ef2dd090fb1024",
       "style": "IPY_MODEL_195b90f25ae447488562295c171c2e4d",
       "value": "100%"
      }
     },
     "a3353040007c440c941c724a6c7c4a86": {
      "model_module": "@jupyter-widgets/controls",
      "model_module_version": "1.5.0",
      "model_name": "ProgressStyleModel",
      "state": {
       "description_width": ""
      }
     },
     "a362902f497348d289d27ca0913068fe": {
      "model_module": "@jupyter-widgets/base",
      "model_module_version": "1.2.0",
      "model_name": "LayoutModel",
      "state": {}
     },
     "a39be264c3644567a3099972546b6467": {
      "model_module": "@jupyter-widgets/base",
      "model_module_version": "1.2.0",
      "model_name": "LayoutModel",
      "state": {}
     },
     "a3bcc7c717b049f4aa944f25a84dc4ef": {
      "model_module": "@jupyter-widgets/controls",
      "model_module_version": "1.5.0",
      "model_name": "DescriptionStyleModel",
      "state": {
       "description_width": ""
      }
     },
     "a3e6b380a573412ea90193304fab3fb9": {
      "model_module": "@jupyter-widgets/base",
      "model_module_version": "1.2.0",
      "model_name": "LayoutModel",
      "state": {}
     },
     "a422eb421d334c8a8df8cec41b824897": {
      "model_module": "@jupyter-widgets/base",
      "model_module_version": "1.2.0",
      "model_name": "LayoutModel",
      "state": {}
     },
     "a457bdaff0b54319a7e04193fee288ff": {
      "model_module": "@jupyter-widgets/base",
      "model_module_version": "1.2.0",
      "model_name": "LayoutModel",
      "state": {}
     },
     "a4587bcd144e43aca297d025ad154820": {
      "model_module": "@jupyter-widgets/controls",
      "model_module_version": "1.5.0",
      "model_name": "ProgressStyleModel",
      "state": {
       "description_width": ""
      }
     },
     "a47beed7ad784990aa8a2fd794081383": {
      "model_module": "@jupyter-widgets/base",
      "model_module_version": "1.2.0",
      "model_name": "LayoutModel",
      "state": {}
     },
     "a52dc0b6be834b578252ec84b57cb7ae": {
      "model_module": "@jupyter-widgets/controls",
      "model_module_version": "1.5.0",
      "model_name": "ProgressStyleModel",
      "state": {
       "description_width": ""
      }
     },
     "a6916e9d8ced46a5947c9cf22c14cef2": {
      "model_module": "@jupyter-widgets/controls",
      "model_module_version": "1.5.0",
      "model_name": "HBoxModel",
      "state": {
       "children": [
        "IPY_MODEL_fdc23c6f872c4825b03240c4a0ab9831",
        "IPY_MODEL_20e2e54ff7b6404a8ef36f22b44b6529",
        "IPY_MODEL_b7f078efc25d4d45a8d66e11d244e789"
       ],
       "layout": "IPY_MODEL_70eea4c1fb1e41ff8ee31f5613ef5754"
      }
     },
     "a6ec0e6de8ed4d18943486d916631bb3": {
      "model_module": "@jupyter-widgets/base",
      "model_module_version": "1.2.0",
      "model_name": "LayoutModel",
      "state": {}
     },
     "a7d4d21d229e48928273980fb1f57c78": {
      "model_module": "@jupyter-widgets/controls",
      "model_module_version": "1.5.0",
      "model_name": "DescriptionStyleModel",
      "state": {
       "description_width": ""
      }
     },
     "a93293402c394b809ddfc405b57fc3ae": {
      "model_module": "@jupyter-widgets/base",
      "model_module_version": "1.2.0",
      "model_name": "LayoutModel",
      "state": {}
     },
     "a9752cad2c2341dfb8ce3121a4d1ae82": {
      "model_module": "@jupyter-widgets/controls",
      "model_module_version": "1.5.0",
      "model_name": "HTMLModel",
      "state": {
       "layout": "IPY_MODEL_fc07a7ad29a1417dbfecf232fc63168d",
       "style": "IPY_MODEL_4a9c8487b9174ce392d94d1f8a019cab",
       "value": " 3/3 [00:10&lt;00:00,  4.28s/it]"
      }
     },
     "a99c5e20d6d7423181e14969ec0ffc55": {
      "model_module": "@jupyter-widgets/base",
      "model_module_version": "1.2.0",
      "model_name": "LayoutModel",
      "state": {}
     },
     "aa3734b8439c46588fafe5f7b191bb02": {
      "model_module": "@jupyter-widgets/controls",
      "model_module_version": "1.5.0",
      "model_name": "DescriptionStyleModel",
      "state": {
       "description_width": ""
      }
     },
     "ab4c0e768492431bbb35ce04a23dce63": {
      "model_module": "@jupyter-widgets/controls",
      "model_module_version": "1.5.0",
      "model_name": "ProgressStyleModel",
      "state": {
       "description_width": ""
      }
     },
     "abbeb2c6abf448dda079c6cbb462781b": {
      "model_module": "@jupyter-widgets/controls",
      "model_module_version": "1.5.0",
      "model_name": "DescriptionStyleModel",
      "state": {
       "description_width": ""
      }
     },
     "acda4f5b396441189693bf7bffcb701c": {
      "model_module": "@jupyter-widgets/controls",
      "model_module_version": "1.5.0",
      "model_name": "DescriptionStyleModel",
      "state": {
       "description_width": ""
      }
     },
     "acdac6e8397d4097ba9b78f5a31f3293": {
      "model_module": "@jupyter-widgets/controls",
      "model_module_version": "1.5.0",
      "model_name": "DescriptionStyleModel",
      "state": {
       "description_width": ""
      }
     },
     "aceda0a21c1a4b75853cdb8a59f7eadf": {
      "model_module": "@jupyter-widgets/controls",
      "model_module_version": "1.5.0",
      "model_name": "FloatProgressModel",
      "state": {
       "bar_style": "success",
       "layout": "IPY_MODEL_8de9a6074fbd4b38a5a91f1463b54fc9",
       "max": 3,
       "style": "IPY_MODEL_c6b33421e33f4b0380e00957941ef8db",
       "value": 3
      }
     },
     "ad3445fb8cce488999a76f978c9e7a42": {
      "model_module": "@jupyter-widgets/controls",
      "model_module_version": "1.5.0",
      "model_name": "ProgressStyleModel",
      "state": {
       "description_width": ""
      }
     },
     "ad49430f601441eebcd6fdf140b752d4": {
      "model_module": "@jupyter-widgets/controls",
      "model_module_version": "1.5.0",
      "model_name": "ProgressStyleModel",
      "state": {
       "description_width": ""
      }
     },
     "ada2a00636b1438498db0770cdd39bef": {
      "model_module": "@jupyter-widgets/base",
      "model_module_version": "1.2.0",
      "model_name": "LayoutModel",
      "state": {}
     },
     "adb01a75c497444e9fb19c4b1eadcf84": {
      "model_module": "@jupyter-widgets/controls",
      "model_module_version": "1.5.0",
      "model_name": "DescriptionStyleModel",
      "state": {
       "description_width": ""
      }
     },
     "adeb3d409ce9403b90fbd2fabd5b7981": {
      "model_module": "@jupyter-widgets/controls",
      "model_module_version": "1.5.0",
      "model_name": "HTMLModel",
      "state": {
       "layout": "IPY_MODEL_fb2b7e82ece14ab79d84a08df31c827e",
       "style": "IPY_MODEL_721e182dd01e47aca3f0e758c8c7c4b6",
       "value": "100%"
      }
     },
     "ae01414e4d4e4f55b34f35abef29cdfb": {
      "model_module": "@jupyter-widgets/controls",
      "model_module_version": "1.5.0",
      "model_name": "HBoxModel",
      "state": {
       "children": [
        "IPY_MODEL_0bca4e3d211e481b930b97cb27172398",
        "IPY_MODEL_dd17114b4a1c46e3880a89bcd314b090",
        "IPY_MODEL_b7dd1b4dfc814fa3b6b996920c8f0612"
       ],
       "layout": "IPY_MODEL_3304e1dd48ff49ecb920ff68b7dbacaa"
      }
     },
     "aef0ceb8c0ae4015b63ea8b2d521df89": {
      "model_module": "@jupyter-widgets/controls",
      "model_module_version": "1.5.0",
      "model_name": "HTMLModel",
      "state": {
       "layout": "IPY_MODEL_8758e08007c147cc995a9cd778321546",
       "style": "IPY_MODEL_c1185f0270fe4f4b904912182604a1b1",
       "value": "100%"
      }
     },
     "af095a946e40470fb6b10069cdead320": {
      "model_module": "@jupyter-widgets/controls",
      "model_module_version": "1.5.0",
      "model_name": "DescriptionStyleModel",
      "state": {
       "description_width": ""
      }
     },
     "af321bf03d344ab5bbf27ecfd4df46e1": {
      "model_module": "@jupyter-widgets/controls",
      "model_module_version": "1.5.0",
      "model_name": "DescriptionStyleModel",
      "state": {
       "description_width": ""
      }
     },
     "af81eb420a204b4db16e0900544ee830": {
      "model_module": "@jupyter-widgets/controls",
      "model_module_version": "1.5.0",
      "model_name": "FloatProgressModel",
      "state": {
       "bar_style": "success",
       "layout": "IPY_MODEL_5c1cdc7f1d7f4334997a05cb16278393",
       "max": 14,
       "style": "IPY_MODEL_0bdac01ac9714d238307c195beb0e4d6",
       "value": 14
      }
     },
     "b0967127666b443cb813bf91f7ecfedf": {
      "model_module": "@jupyter-widgets/controls",
      "model_module_version": "1.5.0",
      "model_name": "DescriptionStyleModel",
      "state": {
       "description_width": ""
      }
     },
     "b0abd16537734a9d99386e3c8da6b4b8": {
      "model_module": "@jupyter-widgets/controls",
      "model_module_version": "1.5.0",
      "model_name": "FloatProgressModel",
      "state": {
       "bar_style": "danger",
       "layout": "IPY_MODEL_b49cf00a4c3f4163b7e728f814b74fa9",
       "max": 14,
       "style": "IPY_MODEL_c654e302892f4bfba0927c5f041e3257",
       "value": 3
      }
     },
     "b13f40fc66ff46f3b4778d156c0b4e3f": {
      "model_module": "@jupyter-widgets/base",
      "model_module_version": "1.2.0",
      "model_name": "LayoutModel",
      "state": {}
     },
     "b1869575b6bc48b185eadfefede9f2ea": {
      "model_module": "@jupyter-widgets/controls",
      "model_module_version": "1.5.0",
      "model_name": "HTMLModel",
      "state": {
       "layout": "IPY_MODEL_3f789c27308447d6b763ce0d90eb3663",
       "style": "IPY_MODEL_b77fd8eda6364a409317be07cc127253",
       "value": " 14/14 [00:34&lt;00:00,  2.57s/it]"
      }
     },
     "b1a71496bea04ea984d4eaf411c2d37c": {
      "model_module": "@jupyter-widgets/base",
      "model_module_version": "1.2.0",
      "model_name": "LayoutModel",
      "state": {}
     },
     "b248845b0071429886b9bb169c16460e": {
      "model_module": "@jupyter-widgets/base",
      "model_module_version": "1.2.0",
      "model_name": "LayoutModel",
      "state": {}
     },
     "b3879f55d6854176b7408a83e0d39a72": {
      "model_module": "@jupyter-widgets/base",
      "model_module_version": "1.2.0",
      "model_name": "LayoutModel",
      "state": {}
     },
     "b3c64d1d470d4303ba1161800f662b9d": {
      "model_module": "@jupyter-widgets/base",
      "model_module_version": "1.2.0",
      "model_name": "LayoutModel",
      "state": {}
     },
     "b42c1ce5b32b407192f3a3d0cc1e8d5c": {
      "model_module": "@jupyter-widgets/controls",
      "model_module_version": "1.5.0",
      "model_name": "FloatProgressModel",
      "state": {
       "bar_style": "success",
       "layout": "IPY_MODEL_1574450acc874b6f9d2c6fa210c91894",
       "max": 3,
       "style": "IPY_MODEL_d83ded3010ff4830bdcfd81c9fcef800",
       "value": 3
      }
     },
     "b4844e9f7ac840f8932292a6e55f54c4": {
      "model_module": "@jupyter-widgets/controls",
      "model_module_version": "1.5.0",
      "model_name": "ProgressStyleModel",
      "state": {
       "description_width": ""
      }
     },
     "b49cf00a4c3f4163b7e728f814b74fa9": {
      "model_module": "@jupyter-widgets/base",
      "model_module_version": "1.2.0",
      "model_name": "LayoutModel",
      "state": {}
     },
     "b4a6ca293cf340b89bc8cee747bd4df1": {
      "model_module": "@jupyter-widgets/controls",
      "model_module_version": "1.5.0",
      "model_name": "HTMLModel",
      "state": {
       "layout": "IPY_MODEL_57e76b58a33b4bcd96f3a40b899044d9",
       "style": "IPY_MODEL_44d5718f041c4cdf8b85c3e58a90c1e2",
       "value": "100%"
      }
     },
     "b56f52d366d44191901d75a4215ee301": {
      "model_module": "@jupyter-widgets/controls",
      "model_module_version": "1.5.0",
      "model_name": "HTMLModel",
      "state": {
       "layout": "IPY_MODEL_3da353bac79d453282b17d5e84055538",
       "style": "IPY_MODEL_81219c097ac744b69ad4e171ef739df5",
       "value": " 3/3 [00:10&lt;00:00,  4.22s/it]"
      }
     },
     "b5fb0353521943fcb24fee15656f0772": {
      "model_module": "@jupyter-widgets/base",
      "model_module_version": "1.2.0",
      "model_name": "LayoutModel",
      "state": {}
     },
     "b6148f8af3974dfd862a9b5fe1ab3bd7": {
      "model_module": "@jupyter-widgets/controls",
      "model_module_version": "1.5.0",
      "model_name": "ProgressStyleModel",
      "state": {
       "description_width": ""
      }
     },
     "b6adb3c9788a46f6840785a7436aad91": {
      "model_module": "@jupyter-widgets/base",
      "model_module_version": "1.2.0",
      "model_name": "LayoutModel",
      "state": {}
     },
     "b6c01ffdf5dc4c1a93c67b7a9fa840a0": {
      "model_module": "@jupyter-widgets/controls",
      "model_module_version": "1.5.0",
      "model_name": "FloatProgressModel",
      "state": {
       "bar_style": "success",
       "layout": "IPY_MODEL_9394526ac9c941739cd411acfd526766",
       "max": 14,
       "style": "IPY_MODEL_ad3445fb8cce488999a76f978c9e7a42",
       "value": 14
      }
     },
     "b706432285f34e75ae5cff63bc0f811e": {
      "model_module": "@jupyter-widgets/controls",
      "model_module_version": "1.5.0",
      "model_name": "FloatProgressModel",
      "state": {
       "bar_style": "success",
       "layout": "IPY_MODEL_dcead6a4bc7c4ebd98c57b29a4cbd66a",
       "max": 14,
       "style": "IPY_MODEL_cbd5356061a440dbb53782fc01963ceb",
       "value": 14
      }
     },
     "b77fd8eda6364a409317be07cc127253": {
      "model_module": "@jupyter-widgets/controls",
      "model_module_version": "1.5.0",
      "model_name": "DescriptionStyleModel",
      "state": {
       "description_width": ""
      }
     },
     "b79c1473aaeb4e08aee55aa670d83fdd": {
      "model_module": "@jupyter-widgets/controls",
      "model_module_version": "1.5.0",
      "model_name": "HBoxModel",
      "state": {
       "children": [
        "IPY_MODEL_8882d1d7c3f1433a9b9101a888037ec7",
        "IPY_MODEL_e2a0c13496744ad68d896d64a962e737",
        "IPY_MODEL_0b1a304bd15f47ec8858bfd900d11484"
       ],
       "layout": "IPY_MODEL_1f98f10a0be946e8a023ccbd3bb84e77"
      }
     },
     "b7dc5056499647e6b599be2a6894c13b": {
      "model_module": "@jupyter-widgets/controls",
      "model_module_version": "1.5.0",
      "model_name": "HTMLModel",
      "state": {
       "layout": "IPY_MODEL_46b3e17002044bd187ddffcb137f8442",
       "style": "IPY_MODEL_4423c92e6ab94b46b6f89bde9dddf3a8",
       "value": " 14/14 [00:34&lt;00:00,  2.57s/it]"
      }
     },
     "b7dd1b4dfc814fa3b6b996920c8f0612": {
      "model_module": "@jupyter-widgets/controls",
      "model_module_version": "1.5.0",
      "model_name": "HTMLModel",
      "state": {
       "layout": "IPY_MODEL_f60f6e5e80ae48e9a0f049286dda0399",
       "style": "IPY_MODEL_4f8f34f6823f48ae8d4102f40b10a49f",
       "value": " 14/14 [00:34&lt;00:00,  2.58s/it]"
      }
     },
     "b7f078efc25d4d45a8d66e11d244e789": {
      "model_module": "@jupyter-widgets/controls",
      "model_module_version": "1.5.0",
      "model_name": "HTMLModel",
      "state": {
       "layout": "IPY_MODEL_7bc1387af95243a4936c14134903bc0d",
       "style": "IPY_MODEL_10e39dc37bd944b3a6cea613c2c089f3",
       "value": " 14/14 [00:34&lt;00:00,  2.60s/it]"
      }
     },
     "b959d2c248eb480db8aa79fc8a5cb534": {
      "model_module": "@jupyter-widgets/controls",
      "model_module_version": "1.5.0",
      "model_name": "FloatProgressModel",
      "state": {
       "bar_style": "danger",
       "layout": "IPY_MODEL_67597766408742479ce0bf6cc2478e26",
       "max": 3,
       "style": "IPY_MODEL_ed4b45ecdd934060aec1b9f01e6666f3",
       "value": 2
      }
     },
     "b95eedb43b064ce789790750e2c53bb5": {
      "model_module": "@jupyter-widgets/controls",
      "model_module_version": "1.5.0",
      "model_name": "HTMLModel",
      "state": {
       "layout": "IPY_MODEL_da154e78fb2f4ccaaf9eaeb787bacfe6",
       "style": "IPY_MODEL_3cc8526128264bb280238503853a9de7",
       "value": " 3/3 [00:10&lt;00:00,  4.00s/it]"
      }
     },
     "b99910e822374a6b9ce70d7b96324062": {
      "model_module": "@jupyter-widgets/controls",
      "model_module_version": "1.5.0",
      "model_name": "HTMLModel",
      "state": {
       "layout": "IPY_MODEL_4624434e462b4f3592aa0a3f3ada8c5d",
       "style": "IPY_MODEL_ea5c5e28a3084a8e9b220f22ec95964c",
       "value": " 8/8 [00:32&lt;00:00,  4.96s/it]"
      }
     },
     "b9ac73cbe2ab47b6a925b4af56855006": {
      "model_module": "@jupyter-widgets/controls",
      "model_module_version": "1.5.0",
      "model_name": "DescriptionStyleModel",
      "state": {
       "description_width": ""
      }
     },
     "ba13e79393134c15b7c1c317500ab049": {
      "model_module": "@jupyter-widgets/controls",
      "model_module_version": "1.5.0",
      "model_name": "HBoxModel",
      "state": {
       "children": [
        "IPY_MODEL_2cede2330d884562a62166d0d62dcd9b",
        "IPY_MODEL_c873b1ae856c49f88d8310b54344f442",
        "IPY_MODEL_9ee613f03cca4b73a8bc20062ed816c1"
       ],
       "layout": "IPY_MODEL_0eaa5fd6d17d42739186b27b186fa2d4"
      }
     },
     "ba29168235254634b5b1b682e0b4ae4c": {
      "model_module": "@jupyter-widgets/base",
      "model_module_version": "1.2.0",
      "model_name": "LayoutModel",
      "state": {}
     },
     "ba807cc513b74d7d8eeb027c2910b83d": {
      "model_module": "@jupyter-widgets/base",
      "model_module_version": "1.2.0",
      "model_name": "LayoutModel",
      "state": {}
     },
     "bbe85ce599b24733b854475ab22a5979": {
      "model_module": "@jupyter-widgets/controls",
      "model_module_version": "1.5.0",
      "model_name": "FloatProgressModel",
      "state": {
       "bar_style": "success",
       "layout": "IPY_MODEL_a3e6b380a573412ea90193304fab3fb9",
       "max": 4,
       "style": "IPY_MODEL_9aa137980ea9436eb363e700e522a365",
       "value": 4
      }
     },
     "bc59be59c8e340218f148d15b9e3c513": {
      "model_module": "@jupyter-widgets/controls",
      "model_module_version": "1.5.0",
      "model_name": "DescriptionStyleModel",
      "state": {
       "description_width": ""
      }
     },
     "bcd1686c6e77476086983a24fa87b982": {
      "model_module": "@jupyter-widgets/base",
      "model_module_version": "1.2.0",
      "model_name": "LayoutModel",
      "state": {}
     },
     "bd101b633ea34ac69246ecb0598515b8": {
      "model_module": "@jupyter-widgets/base",
      "model_module_version": "1.2.0",
      "model_name": "LayoutModel",
      "state": {}
     },
     "bd3f5d9954cd4a91a7381e105cf45022": {
      "model_module": "@jupyter-widgets/controls",
      "model_module_version": "1.5.0",
      "model_name": "HTMLModel",
      "state": {
       "layout": "IPY_MODEL_03a96f3c2a024b0f94090e89d31f9e0a",
       "style": "IPY_MODEL_9cd79e32341d49e79b16310ec2053281",
       "value": "100%"
      }
     },
     "bd439efb587f416c88473e2207f1de00": {
      "model_module": "@jupyter-widgets/base",
      "model_module_version": "1.2.0",
      "model_name": "LayoutModel",
      "state": {}
     },
     "bd7a94334adf4927a42ed12c73654dac": {
      "model_module": "@jupyter-widgets/controls",
      "model_module_version": "1.5.0",
      "model_name": "HTMLModel",
      "state": {
       "layout": "IPY_MODEL_c5559374e5554db0ada7dc65ddf5598f",
       "style": "IPY_MODEL_1fc2b21844534159a368b1806fac3a9b",
       "value": " 3/3 [00:10&lt;00:00,  4.12s/it]"
      }
     },
     "be41d6ae9f344b5ba9b383d3d5c484bf": {
      "model_module": "@jupyter-widgets/base",
      "model_module_version": "1.2.0",
      "model_name": "LayoutModel",
      "state": {}
     },
     "bedfc1ababb04676973768143bce8fbc": {
      "model_module": "@jupyter-widgets/controls",
      "model_module_version": "1.5.0",
      "model_name": "HBoxModel",
      "state": {
       "children": [
        "IPY_MODEL_ff775a243b6949488f74e1dbabacf8a0",
        "IPY_MODEL_3d166a7aee6444dbaa8ad4fbe9667ab8",
        "IPY_MODEL_3e39b41de3b441b9bf4aca91849f83ba"
       ],
       "layout": "IPY_MODEL_3f1e1583b7cc4b0d8c5bcff3dfaae02c"
      }
     },
     "bf2f79d4b8554fe0a9096bcceea7454d": {
      "model_module": "@jupyter-widgets/controls",
      "model_module_version": "1.5.0",
      "model_name": "ProgressStyleModel",
      "state": {
       "description_width": ""
      }
     },
     "bf8a60bc94df456e8eb3e78e65680454": {
      "model_module": "@jupyter-widgets/base",
      "model_module_version": "1.2.0",
      "model_name": "LayoutModel",
      "state": {}
     },
     "bfc48091ec6d4aa88c7cd6e624b2063f": {
      "model_module": "@jupyter-widgets/base",
      "model_module_version": "1.2.0",
      "model_name": "LayoutModel",
      "state": {}
     },
     "c06f451b863c41a2afebcd113177edfd": {
      "model_module": "@jupyter-widgets/controls",
      "model_module_version": "1.5.0",
      "model_name": "DescriptionStyleModel",
      "state": {
       "description_width": ""
      }
     },
     "c0a9ef47e8e84bcba447e99fa44f6883": {
      "model_module": "@jupyter-widgets/controls",
      "model_module_version": "1.5.0",
      "model_name": "HTMLModel",
      "state": {
       "layout": "IPY_MODEL_42084ebcfb5c4a14bb1a8dccb70c02e7",
       "style": "IPY_MODEL_5195b30886ae479ba56e84588a608368",
       "value": " 14/14 [00:35&lt;00:00,  2.62s/it]"
      }
     },
     "c1185f0270fe4f4b904912182604a1b1": {
      "model_module": "@jupyter-widgets/controls",
      "model_module_version": "1.5.0",
      "model_name": "DescriptionStyleModel",
      "state": {
       "description_width": ""
      }
     },
     "c179d82d134c4885b232d00bb921d2c4": {
      "model_module": "@jupyter-widgets/base",
      "model_module_version": "1.2.0",
      "model_name": "LayoutModel",
      "state": {}
     },
     "c25231556e594901b84222ec98cfa76c": {
      "model_module": "@jupyter-widgets/controls",
      "model_module_version": "1.5.0",
      "model_name": "DescriptionStyleModel",
      "state": {
       "description_width": ""
      }
     },
     "c2c9bae4f17b430f94173f93bee66759": {
      "model_module": "@jupyter-widgets/base",
      "model_module_version": "1.2.0",
      "model_name": "LayoutModel",
      "state": {}
     },
     "c2fde99dd01245ec95f086a3473cf135": {
      "model_module": "@jupyter-widgets/controls",
      "model_module_version": "1.5.0",
      "model_name": "FloatProgressModel",
      "state": {
       "bar_style": "success",
       "layout": "IPY_MODEL_fc07b8eb3f2d42398ac37ae004962f19",
       "max": 3,
       "style": "IPY_MODEL_643781621b914dceaab16ab069a89a6c",
       "value": 3
      }
     },
     "c332cc3b2cbe413eb2a2d22f4d95bf59": {
      "model_module": "@jupyter-widgets/base",
      "model_module_version": "1.2.0",
      "model_name": "LayoutModel",
      "state": {}
     },
     "c34809797e2148929c31c45e8f49a95c": {
      "model_module": "@jupyter-widgets/base",
      "model_module_version": "1.2.0",
      "model_name": "LayoutModel",
      "state": {}
     },
     "c490158c2f7840d58b26921802f03980": {
      "model_module": "@jupyter-widgets/controls",
      "model_module_version": "1.5.0",
      "model_name": "HBoxModel",
      "state": {
       "children": [
        "IPY_MODEL_40ad493a779948fb877b8f1efbeb96ff",
        "IPY_MODEL_777f86a86f664c9cb9be08b5315a4d59",
        "IPY_MODEL_8b057534064a4e3686cd34358bb93401"
       ],
       "layout": "IPY_MODEL_dfe293cf4ff94c02886d72dddbd301f1"
      }
     },
     "c4dbd55522644ecd95b7a3ba72ba3395": {
      "model_module": "@jupyter-widgets/controls",
      "model_module_version": "1.5.0",
      "model_name": "DescriptionStyleModel",
      "state": {
       "description_width": ""
      }
     },
     "c5559374e5554db0ada7dc65ddf5598f": {
      "model_module": "@jupyter-widgets/base",
      "model_module_version": "1.2.0",
      "model_name": "LayoutModel",
      "state": {}
     },
     "c5989e198ec944dc8b7775b5705d73e5": {
      "model_module": "@jupyter-widgets/controls",
      "model_module_version": "1.5.0",
      "model_name": "ProgressStyleModel",
      "state": {
       "description_width": ""
      }
     },
     "c5bdc1aea1dc42808c80934112cab5ca": {
      "model_module": "@jupyter-widgets/controls",
      "model_module_version": "1.5.0",
      "model_name": "ProgressStyleModel",
      "state": {
       "description_width": ""
      }
     },
     "c61e0f4c117a4d1186762baca090503c": {
      "model_module": "@jupyter-widgets/base",
      "model_module_version": "1.2.0",
      "model_name": "LayoutModel",
      "state": {}
     },
     "c654e302892f4bfba0927c5f041e3257": {
      "model_module": "@jupyter-widgets/controls",
      "model_module_version": "1.5.0",
      "model_name": "ProgressStyleModel",
      "state": {
       "description_width": ""
      }
     },
     "c699b778decd49ad962699ab3183abb0": {
      "model_module": "@jupyter-widgets/controls",
      "model_module_version": "1.5.0",
      "model_name": "HTMLModel",
      "state": {
       "layout": "IPY_MODEL_271e20a9175e435b9e432bb49ff28515",
       "style": "IPY_MODEL_c4dbd55522644ecd95b7a3ba72ba3395",
       "value": " 3/3 [00:10&lt;00:00,  4.22s/it]"
      }
     },
     "c6b33421e33f4b0380e00957941ef8db": {
      "model_module": "@jupyter-widgets/controls",
      "model_module_version": "1.5.0",
      "model_name": "ProgressStyleModel",
      "state": {
       "description_width": ""
      }
     },
     "c873b1ae856c49f88d8310b54344f442": {
      "model_module": "@jupyter-widgets/controls",
      "model_module_version": "1.5.0",
      "model_name": "FloatProgressModel",
      "state": {
       "bar_style": "success",
       "layout": "IPY_MODEL_9f7187b4ecb342f2a742a39abb381f9d",
       "max": 14,
       "style": "IPY_MODEL_ad49430f601441eebcd6fdf140b752d4",
       "value": 14
      }
     },
     "c8cd1c4149dd4c7687e4eb640ff716a8": {
      "model_module": "@jupyter-widgets/controls",
      "model_module_version": "1.5.0",
      "model_name": "HBoxModel",
      "state": {
       "children": [
        "IPY_MODEL_631c4e5439134b44aa2abb0f2d6114da",
        "IPY_MODEL_8c4974d3c01f4a0ab4612bcd9d2c487e",
        "IPY_MODEL_0dc955968bf4464581e4aff52c7e0667"
       ],
       "layout": "IPY_MODEL_3c3b7115d2d34299bac7a54a435f0f3c"
      }
     },
     "c931633d20a244ef9feb92c378ca50c7": {
      "model_module": "@jupyter-widgets/base",
      "model_module_version": "1.2.0",
      "model_name": "LayoutModel",
      "state": {}
     },
     "c9926b82ab4345ebbeaf72d68b2d7259": {
      "model_module": "@jupyter-widgets/base",
      "model_module_version": "1.2.0",
      "model_name": "LayoutModel",
      "state": {}
     },
     "c9f8cbc07cae4d238f0b15e9e0fa371b": {
      "model_module": "@jupyter-widgets/controls",
      "model_module_version": "1.5.0",
      "model_name": "HBoxModel",
      "state": {
       "children": [
        "IPY_MODEL_34606ce89b63484aad57b4a2d451950c",
        "IPY_MODEL_90847593a34c4349a601197e200e330b",
        "IPY_MODEL_21b051ce1eb44d588eb8484bfb57c09c"
       ],
       "layout": "IPY_MODEL_4b756571316644e7a1e95bfff335a728"
      }
     },
     "ca08d7ee14214e2ebed567205b819df1": {
      "model_module": "@jupyter-widgets/controls",
      "model_module_version": "1.5.0",
      "model_name": "HTMLModel",
      "state": {
       "layout": "IPY_MODEL_a6ec0e6de8ed4d18943486d916631bb3",
       "style": "IPY_MODEL_f088742121f542cdb895747b227deca2",
       "value": "100%"
      }
     },
     "caae53edbd58462cbc39966b1649dff7": {
      "model_module": "@jupyter-widgets/base",
      "model_module_version": "1.2.0",
      "model_name": "LayoutModel",
      "state": {}
     },
     "cb08a9ff3d324eb28b1c29892c887232": {
      "model_module": "@jupyter-widgets/controls",
      "model_module_version": "1.5.0",
      "model_name": "HTMLModel",
      "state": {
       "layout": "IPY_MODEL_56a6bad0b666407a9367de9bf30fd660",
       "style": "IPY_MODEL_e90406da19364701938d300128db6610",
       "value": " 14/14 [00:34&lt;00:00,  2.57s/it]"
      }
     },
     "cb2f0f992fb948c28118355cc51d6ae7": {
      "model_module": "@jupyter-widgets/base",
      "model_module_version": "1.2.0",
      "model_name": "LayoutModel",
      "state": {}
     },
     "cb63f7279397407d89c348d03866f8dc": {
      "model_module": "@jupyter-widgets/controls",
      "model_module_version": "1.5.0",
      "model_name": "DescriptionStyleModel",
      "state": {
       "description_width": ""
      }
     },
     "cb816fa26def400fb32343b0dd2f8917": {
      "model_module": "@jupyter-widgets/controls",
      "model_module_version": "1.5.0",
      "model_name": "DescriptionStyleModel",
      "state": {
       "description_width": ""
      }
     },
     "cbd5356061a440dbb53782fc01963ceb": {
      "model_module": "@jupyter-widgets/controls",
      "model_module_version": "1.5.0",
      "model_name": "ProgressStyleModel",
      "state": {
       "description_width": ""
      }
     },
     "cbd792511fbc4743b175d6ca42fbf072": {
      "model_module": "@jupyter-widgets/base",
      "model_module_version": "1.2.0",
      "model_name": "LayoutModel",
      "state": {}
     },
     "cbfe7897a6824407ae27d9e2624c90fd": {
      "model_module": "@jupyter-widgets/controls",
      "model_module_version": "1.5.0",
      "model_name": "HBoxModel",
      "state": {
       "children": [
        "IPY_MODEL_3e0b8257b09045b9bb0d57dfa5fc8945",
        "IPY_MODEL_5bc99c916ebd414daf96f69f725d40ea",
        "IPY_MODEL_6ba368873182486380ecad62d4aec0de"
       ],
       "layout": "IPY_MODEL_c332cc3b2cbe413eb2a2d22f4d95bf59"
      }
     },
     "cc49fe955bc9415abe5836ccaad61025": {
      "model_module": "@jupyter-widgets/base",
      "model_module_version": "1.2.0",
      "model_name": "LayoutModel",
      "state": {}
     },
     "cc70f9b3c01c457b99cccc2760db08c8": {
      "model_module": "@jupyter-widgets/base",
      "model_module_version": "1.2.0",
      "model_name": "LayoutModel",
      "state": {}
     },
     "cc828325858743d1a489b03205ca511f": {
      "model_module": "@jupyter-widgets/controls",
      "model_module_version": "1.5.0",
      "model_name": "HTMLModel",
      "state": {
       "layout": "IPY_MODEL_58f0f746e8004a5fafe76d9dcdb1209b",
       "style": "IPY_MODEL_a0123662844f4a149a0432231f34ba9f",
       "value": "100%"
      }
     },
     "ccc5bf5d8d9348dfadf4db618a2aee02": {
      "model_module": "@jupyter-widgets/controls",
      "model_module_version": "1.5.0",
      "model_name": "FloatProgressModel",
      "state": {
       "bar_style": "success",
       "layout": "IPY_MODEL_478294a04e59466e9eb976ac1abe3192",
       "max": 3,
       "style": "IPY_MODEL_dab4fd7806aa4fc0ba7c459b813d3f9d",
       "value": 3
      }
     },
     "cd78b7965d4d428a8cb50a5b211e9793": {
      "model_module": "@jupyter-widgets/controls",
      "model_module_version": "1.5.0",
      "model_name": "ProgressStyleModel",
      "state": {
       "description_width": ""
      }
     },
     "ce1f0f894a92465db9af08981e3b5c55": {
      "model_module": "@jupyter-widgets/base",
      "model_module_version": "1.2.0",
      "model_name": "LayoutModel",
      "state": {}
     },
     "ceb07ebb580242619894a2c16e706be0": {
      "model_module": "@jupyter-widgets/base",
      "model_module_version": "1.2.0",
      "model_name": "LayoutModel",
      "state": {}
     },
     "ceb09d33dd824785acf3458f0f6f5b90": {
      "model_module": "@jupyter-widgets/controls",
      "model_module_version": "1.5.0",
      "model_name": "ProgressStyleModel",
      "state": {
       "description_width": ""
      }
     },
     "cf54b1ccc6414c8a97397e2727460764": {
      "model_module": "@jupyter-widgets/base",
      "model_module_version": "1.2.0",
      "model_name": "LayoutModel",
      "state": {}
     },
     "cf74716173fd494f8ea0332793acb220": {
      "model_module": "@jupyter-widgets/base",
      "model_module_version": "1.2.0",
      "model_name": "LayoutModel",
      "state": {}
     },
     "d13dd26971b44151b9d2858eba28a261": {
      "model_module": "@jupyter-widgets/controls",
      "model_module_version": "1.5.0",
      "model_name": "DescriptionStyleModel",
      "state": {
       "description_width": ""
      }
     },
     "d19518513e8a44dfa6fb2814c8c8f05d": {
      "model_module": "@jupyter-widgets/controls",
      "model_module_version": "1.5.0",
      "model_name": "DescriptionStyleModel",
      "state": {
       "description_width": ""
      }
     },
     "d198ef45d5a04f10855f3477e5f4f784": {
      "model_module": "@jupyter-widgets/base",
      "model_module_version": "1.2.0",
      "model_name": "LayoutModel",
      "state": {}
     },
     "d1d58a82f6344ab2a101af2e41334a21": {
      "model_module": "@jupyter-widgets/base",
      "model_module_version": "1.2.0",
      "model_name": "LayoutModel",
      "state": {}
     },
     "d2089328393446879bd5bea14c4c46d4": {
      "model_module": "@jupyter-widgets/base",
      "model_module_version": "1.2.0",
      "model_name": "LayoutModel",
      "state": {}
     },
     "d23780089de748e3a6494a99c3811a90": {
      "model_module": "@jupyter-widgets/base",
      "model_module_version": "1.2.0",
      "model_name": "LayoutModel",
      "state": {}
     },
     "d2f142dce1c9498c806f06a30b43f04b": {
      "model_module": "@jupyter-widgets/controls",
      "model_module_version": "1.5.0",
      "model_name": "FloatProgressModel",
      "state": {
       "bar_style": "success",
       "layout": "IPY_MODEL_6fcff024baf2498bb3ac78f0d1527144",
       "max": 14,
       "style": "IPY_MODEL_3e41b6f6cbc4447a8970ae9f5bb50caf",
       "value": 14
      }
     },
     "d3134f14b8944f4987bb3b46c8f59e6d": {
      "model_module": "@jupyter-widgets/controls",
      "model_module_version": "1.5.0",
      "model_name": "FloatProgressModel",
      "state": {
       "bar_style": "success",
       "layout": "IPY_MODEL_87ed297c898a4aa8a059c3d7c6418959",
       "max": 14,
       "style": "IPY_MODEL_416740e46d6445bdab71fba20bb12459",
       "value": 14
      }
     },
     "d463b721d2be4341b9411cf03bac5304": {
      "model_module": "@jupyter-widgets/controls",
      "model_module_version": "1.5.0",
      "model_name": "DescriptionStyleModel",
      "state": {
       "description_width": ""
      }
     },
     "d508b30885034954883d0ecb2f25290a": {
      "model_module": "@jupyter-widgets/controls",
      "model_module_version": "1.5.0",
      "model_name": "FloatProgressModel",
      "state": {
       "bar_style": "success",
       "layout": "IPY_MODEL_c34809797e2148929c31c45e8f49a95c",
       "max": 3,
       "style": "IPY_MODEL_24aeaa95de3f4885976b8a9a38c9b3bf",
       "value": 3
      }
     },
     "d545003943714d8c998b2c7a376fd3ff": {
      "model_module": "@jupyter-widgets/base",
      "model_module_version": "1.2.0",
      "model_name": "LayoutModel",
      "state": {}
     },
     "d6e18d7031c9403c8ab3e13577ae7c18": {
      "model_module": "@jupyter-widgets/base",
      "model_module_version": "1.2.0",
      "model_name": "LayoutModel",
      "state": {}
     },
     "d73879b228ab41edbd87b375a6c4d3eb": {
      "model_module": "@jupyter-widgets/controls",
      "model_module_version": "1.5.0",
      "model_name": "FloatProgressModel",
      "state": {
       "bar_style": "success",
       "layout": "IPY_MODEL_946cadf61f5e47fd8270beb2329cf33b",
       "max": 3,
       "style": "IPY_MODEL_59116e8e1096438c959870c7d5a626e4",
       "value": 3
      }
     },
     "d7843afa00d04ccfa17c4f7a2c0ead9c": {
      "model_module": "@jupyter-widgets/controls",
      "model_module_version": "1.5.0",
      "model_name": "HTMLModel",
      "state": {
       "layout": "IPY_MODEL_dcad3c2850bd4b17934478b75dc1d522",
       "style": "IPY_MODEL_11d0dc6ff6db4abe8434128bba74e17a",
       "value": "100%"
      }
     },
     "d790f3b779934eee8348804dd22ba3c1": {
      "model_module": "@jupyter-widgets/base",
      "model_module_version": "1.2.0",
      "model_name": "LayoutModel",
      "state": {}
     },
     "d79d6b73af2144729bed6a955c95e6e1": {
      "model_module": "@jupyter-widgets/controls",
      "model_module_version": "1.5.0",
      "model_name": "HTMLModel",
      "state": {
       "layout": "IPY_MODEL_39954bc2a54d43c78994d415f66343e6",
       "style": "IPY_MODEL_0f26d84da7c14a52a03a1d4cfbbc0405",
       "value": "100%"
      }
     },
     "d7b063232f184ceca6520530d9f21b38": {
      "model_module": "@jupyter-widgets/controls",
      "model_module_version": "1.5.0",
      "model_name": "DescriptionStyleModel",
      "state": {
       "description_width": ""
      }
     },
     "d7d389b119e943efb26c211533ca5275": {
      "model_module": "@jupyter-widgets/controls",
      "model_module_version": "1.5.0",
      "model_name": "FloatProgressModel",
      "state": {
       "bar_style": "success",
       "layout": "IPY_MODEL_e26fc1c804f246fdacba70c9768b3757",
       "max": 14,
       "style": "IPY_MODEL_9a104c1a479a4b499033e7c555c78f9e",
       "value": 14
      }
     },
     "d839910f6a224af7a9deb86a641b9b32": {
      "model_module": "@jupyter-widgets/controls",
      "model_module_version": "1.5.0",
      "model_name": "HBoxModel",
      "state": {
       "children": [
        "IPY_MODEL_0063857eab204d448a73753b8424dbad",
        "IPY_MODEL_7f39e4fb792e4f0dbe1c7c27002d693a",
        "IPY_MODEL_8119cd3961734583bf6db0c483e7f3a5"
       ],
       "layout": "IPY_MODEL_8884c47ab3c441ce8df0a22eac4b497e"
      }
     },
     "d83ded3010ff4830bdcfd81c9fcef800": {
      "model_module": "@jupyter-widgets/controls",
      "model_module_version": "1.5.0",
      "model_name": "ProgressStyleModel",
      "state": {
       "description_width": ""
      }
     },
     "d83e8dcffaef45478777c81975daeb66": {
      "model_module": "@jupyter-widgets/controls",
      "model_module_version": "1.5.0",
      "model_name": "HTMLModel",
      "state": {
       "layout": "IPY_MODEL_6176e82b1a604fb6b50991303317d235",
       "style": "IPY_MODEL_8ec11039193343d798c4d59b2cfe705b",
       "value": " 3/3 [00:10&lt;00:00,  4.19s/it]"
      }
     },
     "d87a02a290ab42fb8f24de71c309cf8f": {
      "model_module": "@jupyter-widgets/controls",
      "model_module_version": "1.5.0",
      "model_name": "DescriptionStyleModel",
      "state": {
       "description_width": ""
      }
     },
     "d87c3678554943cfaf04488344ff5fe6": {
      "model_module": "@jupyter-widgets/base",
      "model_module_version": "1.2.0",
      "model_name": "LayoutModel",
      "state": {}
     },
     "d8b129d3a2c341ac9bc912eaa595c0a3": {
      "model_module": "@jupyter-widgets/base",
      "model_module_version": "1.2.0",
      "model_name": "LayoutModel",
      "state": {}
     },
     "d8dded7411de4690a558a1ae7a282d56": {
      "model_module": "@jupyter-widgets/controls",
      "model_module_version": "1.5.0",
      "model_name": "DescriptionStyleModel",
      "state": {
       "description_width": ""
      }
     },
     "da154e78fb2f4ccaaf9eaeb787bacfe6": {
      "model_module": "@jupyter-widgets/base",
      "model_module_version": "1.2.0",
      "model_name": "LayoutModel",
      "state": {}
     },
     "dab4fd7806aa4fc0ba7c459b813d3f9d": {
      "model_module": "@jupyter-widgets/controls",
      "model_module_version": "1.5.0",
      "model_name": "ProgressStyleModel",
      "state": {
       "description_width": ""
      }
     },
     "dab97a99fde448d99052d64e95b5cf63": {
      "model_module": "@jupyter-widgets/base",
      "model_module_version": "1.2.0",
      "model_name": "LayoutModel",
      "state": {}
     },
     "dc0cb38431e34554a24eb56835159b14": {
      "model_module": "@jupyter-widgets/base",
      "model_module_version": "1.2.0",
      "model_name": "LayoutModel",
      "state": {}
     },
     "dc0dd2981a724c11960fdfb9c4753949": {
      "model_module": "@jupyter-widgets/controls",
      "model_module_version": "1.5.0",
      "model_name": "HTMLModel",
      "state": {
       "layout": "IPY_MODEL_f4f9b0038c9c44619b86920342744735",
       "style": "IPY_MODEL_7aab256f06ef4b9e8565daa375e42e01",
       "value": "100%"
      }
     },
     "dc68bf3968c245a59d61247ef22df629": {
      "model_module": "@jupyter-widgets/base",
      "model_module_version": "1.2.0",
      "model_name": "LayoutModel",
      "state": {}
     },
     "dcad3c2850bd4b17934478b75dc1d522": {
      "model_module": "@jupyter-widgets/base",
      "model_module_version": "1.2.0",
      "model_name": "LayoutModel",
      "state": {}
     },
     "dcca8bf40bd64061b09a211cc68bba61": {
      "model_module": "@jupyter-widgets/controls",
      "model_module_version": "1.5.0",
      "model_name": "HTMLModel",
      "state": {
       "layout": "IPY_MODEL_4664fa510ec24a1f8e977e573fdb1129",
       "style": "IPY_MODEL_614f7e74e8964772bbf709eec39a1524",
       "value": "100%"
      }
     },
     "dcead6a4bc7c4ebd98c57b29a4cbd66a": {
      "model_module": "@jupyter-widgets/base",
      "model_module_version": "1.2.0",
      "model_name": "LayoutModel",
      "state": {}
     },
     "dd17114b4a1c46e3880a89bcd314b090": {
      "model_module": "@jupyter-widgets/controls",
      "model_module_version": "1.5.0",
      "model_name": "FloatProgressModel",
      "state": {
       "bar_style": "success",
       "layout": "IPY_MODEL_a422eb421d334c8a8df8cec41b824897",
       "max": 14,
       "style": "IPY_MODEL_83367f94883e4fd6883bf6596850b72c",
       "value": 14
      }
     },
     "dd17374c13934f22b4d149c3c17afd1d": {
      "model_module": "@jupyter-widgets/controls",
      "model_module_version": "1.5.0",
      "model_name": "HTMLModel",
      "state": {
       "layout": "IPY_MODEL_1770df0cfa014ba89fca32d9ccf66276",
       "style": "IPY_MODEL_23ff1d5181ff474a8548c4341dace698",
       "value": " 14/14 [00:35&lt;00:00,  2.63s/it]"
      }
     },
     "dd4cfe4c1c19432d814165e8bfcadbdb": {
      "model_module": "@jupyter-widgets/controls",
      "model_module_version": "1.5.0",
      "model_name": "HTMLModel",
      "state": {
       "layout": "IPY_MODEL_77569b61b9f94b3bba023f8f25e98d70",
       "style": "IPY_MODEL_4fe88752d63e465dacddb2e96db851fc",
       "value": " 3/3 [00:10&lt;00:00,  4.18s/it]"
      }
     },
     "ddd0a93088564db392114ce48622e704": {
      "model_module": "@jupyter-widgets/controls",
      "model_module_version": "1.5.0",
      "model_name": "DescriptionStyleModel",
      "state": {
       "description_width": ""
      }
     },
     "de728bf9065147a785cfed2cb35fefdb": {
      "model_module": "@jupyter-widgets/controls",
      "model_module_version": "1.5.0",
      "model_name": "ProgressStyleModel",
      "state": {
       "description_width": ""
      }
     },
     "df91ae866b7c4ab583dd9c521498031c": {
      "model_module": "@jupyter-widgets/controls",
      "model_module_version": "1.5.0",
      "model_name": "DescriptionStyleModel",
      "state": {
       "description_width": ""
      }
     },
     "dfe293cf4ff94c02886d72dddbd301f1": {
      "model_module": "@jupyter-widgets/base",
      "model_module_version": "1.2.0",
      "model_name": "LayoutModel",
      "state": {}
     },
     "e00f2d4bde8d4977a2c1fcf12272aee9": {
      "model_module": "@jupyter-widgets/base",
      "model_module_version": "1.2.0",
      "model_name": "LayoutModel",
      "state": {}
     },
     "e026cb4a76f64518aa80c32c5d6bc6d6": {
      "model_module": "@jupyter-widgets/controls",
      "model_module_version": "1.5.0",
      "model_name": "HTMLModel",
      "state": {
       "layout": "IPY_MODEL_dab97a99fde448d99052d64e95b5cf63",
       "style": "IPY_MODEL_73d6e42220b34c1db7c9c32952805469",
       "value": " 14/14 [00:34&lt;00:00,  2.55s/it]"
      }
     },
     "e07857edb1ab4b4aa304bfdd6b694ad9": {
      "model_module": "@jupyter-widgets/controls",
      "model_module_version": "1.5.0",
      "model_name": "HBoxModel",
      "state": {
       "children": [
        "IPY_MODEL_0f9c8d0f704c4e5ba707cf9fc4bd45ae",
        "IPY_MODEL_e33c825926f441ecb36ebe2d47c4af8f",
        "IPY_MODEL_dd17374c13934f22b4d149c3c17afd1d"
       ],
       "layout": "IPY_MODEL_2170228775ec4e85803342171d2bcc44"
      }
     },
     "e11311ed201b4eec8375f0060b43cdd3": {
      "model_module": "@jupyter-widgets/base",
      "model_module_version": "1.2.0",
      "model_name": "LayoutModel",
      "state": {}
     },
     "e11500d7c68642fbb6c1587fa476ab91": {
      "model_module": "@jupyter-widgets/controls",
      "model_module_version": "1.5.0",
      "model_name": "DescriptionStyleModel",
      "state": {
       "description_width": ""
      }
     },
     "e1c181b12aa041edae8c0265a09202d8": {
      "model_module": "@jupyter-widgets/controls",
      "model_module_version": "1.5.0",
      "model_name": "ProgressStyleModel",
      "state": {
       "description_width": ""
      }
     },
     "e23df4b8b10148898f49280b3bd8308a": {
      "model_module": "@jupyter-widgets/base",
      "model_module_version": "1.2.0",
      "model_name": "LayoutModel",
      "state": {}
     },
     "e245076ed2dc4397ab5a192b2f9ecd9c": {
      "model_module": "@jupyter-widgets/controls",
      "model_module_version": "1.5.0",
      "model_name": "HBoxModel",
      "state": {
       "children": [
        "IPY_MODEL_0d4bc172676c4414864818a4ac6416fe",
        "IPY_MODEL_341a7cfa9b9240699db09f61bf95cb69",
        "IPY_MODEL_761febfec9434d18a10e7a292405c5d3"
       ],
       "layout": "IPY_MODEL_055973be849e46938f53875663039720"
      }
     },
     "e26fc1c804f246fdacba70c9768b3757": {
      "model_module": "@jupyter-widgets/base",
      "model_module_version": "1.2.0",
      "model_name": "LayoutModel",
      "state": {}
     },
     "e27c6e761b364d56bc2c9cee005861aa": {
      "model_module": "@jupyter-widgets/controls",
      "model_module_version": "1.5.0",
      "model_name": "DescriptionStyleModel",
      "state": {
       "description_width": ""
      }
     },
     "e2a0c13496744ad68d896d64a962e737": {
      "model_module": "@jupyter-widgets/controls",
      "model_module_version": "1.5.0",
      "model_name": "FloatProgressModel",
      "state": {
       "bar_style": "success",
       "layout": "IPY_MODEL_8fa32913544f4ff7ae6cc19b754896c1",
       "max": 14,
       "style": "IPY_MODEL_876f19a2a1274dfaab89aed4f6d34307",
       "value": 14
      }
     },
     "e2bebc0e11bb4c67b655a2bb0e52d17c": {
      "model_module": "@jupyter-widgets/controls",
      "model_module_version": "1.5.0",
      "model_name": "HTMLModel",
      "state": {
       "layout": "IPY_MODEL_5627352635654cd58c96ca414f1e6114",
       "style": "IPY_MODEL_a7d4d21d229e48928273980fb1f57c78",
       "value": "100%"
      }
     },
     "e2df143c4ac449a490b970fc5d42903d": {
      "model_module": "@jupyter-widgets/base",
      "model_module_version": "1.2.0",
      "model_name": "LayoutModel",
      "state": {}
     },
     "e2f9c553cda84b29b8912d2d332ae8cb": {
      "model_module": "@jupyter-widgets/controls",
      "model_module_version": "1.5.0",
      "model_name": "HTMLModel",
      "state": {
       "layout": "IPY_MODEL_e23df4b8b10148898f49280b3bd8308a",
       "style": "IPY_MODEL_eb4181bebf4d410e8b5c7badfad5bfda",
       "value": " 3/3 [00:10&lt;00:00,  4.20s/it]"
      }
     },
     "e33c825926f441ecb36ebe2d47c4af8f": {
      "model_module": "@jupyter-widgets/controls",
      "model_module_version": "1.5.0",
      "model_name": "FloatProgressModel",
      "state": {
       "bar_style": "success",
       "layout": "IPY_MODEL_5b069813b89b417297a48aeb2154fe67",
       "max": 14,
       "style": "IPY_MODEL_f46f147ed767438095a88af5a63a467a",
       "value": 14
      }
     },
     "e370ebab14334b8aba9bb8bfed09edb4": {
      "model_module": "@jupyter-widgets/controls",
      "model_module_version": "1.5.0",
      "model_name": "HBoxModel",
      "state": {
       "children": [
        "IPY_MODEL_6f794c624be94766aa1173d268857714",
        "IPY_MODEL_0d3409116f40446cbda24b66b80c0548",
        "IPY_MODEL_9860d769f6e5456f8ab1d86485f89b89"
       ],
       "layout": "IPY_MODEL_bf8a60bc94df456e8eb3e78e65680454"
      }
     },
     "e3713f550fe34209b0ca21db1baa24aa": {
      "model_module": "@jupyter-widgets/controls",
      "model_module_version": "1.5.0",
      "model_name": "HTMLModel",
      "state": {
       "layout": "IPY_MODEL_f21572dd0fec42ae9fb1501edcecfecb",
       "style": "IPY_MODEL_a2955b360dac453d8c26fa7c5687f081",
       "value": "100%"
      }
     },
     "e40cca4a10a44e0dbd27b705095264cc": {
      "model_module": "@jupyter-widgets/base",
      "model_module_version": "1.2.0",
      "model_name": "LayoutModel",
      "state": {}
     },
     "e49fc61a072143458af206edcef6af8c": {
      "model_module": "@jupyter-widgets/controls",
      "model_module_version": "1.5.0",
      "model_name": "DescriptionStyleModel",
      "state": {
       "description_width": ""
      }
     },
     "e4fee53c94fa471e8eb4b075e0b60ed2": {
      "model_module": "@jupyter-widgets/controls",
      "model_module_version": "1.5.0",
      "model_name": "ProgressStyleModel",
      "state": {
       "description_width": ""
      }
     },
     "e521aa828dc94af28f7c171bf9ee1566": {
      "model_module": "@jupyter-widgets/controls",
      "model_module_version": "1.5.0",
      "model_name": "HBoxModel",
      "state": {
       "children": [
        "IPY_MODEL_e585bad70ab040b2929b40c8daac6003",
        "IPY_MODEL_ccc5bf5d8d9348dfadf4db618a2aee02",
        "IPY_MODEL_854dbd68562548558ed1aa363a4554d2"
       ],
       "layout": "IPY_MODEL_67510021658848edbe477ad4bc8038f4"
      }
     },
     "e5627be0bb0747cbb16d4c50cdc94823": {
      "model_module": "@jupyter-widgets/base",
      "model_module_version": "1.2.0",
      "model_name": "LayoutModel",
      "state": {}
     },
     "e585bad70ab040b2929b40c8daac6003": {
      "model_module": "@jupyter-widgets/controls",
      "model_module_version": "1.5.0",
      "model_name": "HTMLModel",
      "state": {
       "layout": "IPY_MODEL_8d0d8c956fc0459f905a8b1a41ffe4fe",
       "style": "IPY_MODEL_7e6348b6f12249d5968b9eb97f166010",
       "value": "100%"
      }
     },
     "e59fd9367547423fbe88c0a69e5b5d4f": {
      "model_module": "@jupyter-widgets/base",
      "model_module_version": "1.2.0",
      "model_name": "LayoutModel",
      "state": {}
     },
     "e5ce606a16644d659863680e146e4706": {
      "model_module": "@jupyter-widgets/base",
      "model_module_version": "1.2.0",
      "model_name": "LayoutModel",
      "state": {}
     },
     "e5d5e45fb4914148aa722874d820f5b3": {
      "model_module": "@jupyter-widgets/controls",
      "model_module_version": "1.5.0",
      "model_name": "FloatProgressModel",
      "state": {
       "bar_style": "success",
       "layout": "IPY_MODEL_c61e0f4c117a4d1186762baca090503c",
       "max": 3,
       "style": "IPY_MODEL_332676bbba814a449eedc22d227442ce",
       "value": 3
      }
     },
     "e6344aec656a4e2ebe984c2af55086ee": {
      "model_module": "@jupyter-widgets/controls",
      "model_module_version": "1.5.0",
      "model_name": "HTMLModel",
      "state": {
       "layout": "IPY_MODEL_3b0a2073456e43cbbc07113f5a06cd57",
       "style": "IPY_MODEL_3f64a682d5ca417bb12d96354fe97ee4",
       "value": " 14/14 [00:34&lt;00:00,  2.55s/it]"
      }
     },
     "e6601afb4f444433a8d2e37f465f45ab": {
      "model_module": "@jupyter-widgets/controls",
      "model_module_version": "1.5.0",
      "model_name": "DescriptionStyleModel",
      "state": {
       "description_width": ""
      }
     },
     "e67dee11d433417985572ac96d041333": {
      "model_module": "@jupyter-widgets/base",
      "model_module_version": "1.2.0",
      "model_name": "LayoutModel",
      "state": {}
     },
     "e6a099540d1b4981b0354d13867760e0": {
      "model_module": "@jupyter-widgets/controls",
      "model_module_version": "1.5.0",
      "model_name": "FloatProgressModel",
      "state": {
       "bar_style": "success",
       "layout": "IPY_MODEL_c2c9bae4f17b430f94173f93bee66759",
       "max": 14,
       "style": "IPY_MODEL_99424901800049039cf89f5962ef052d",
       "value": 14
      }
     },
     "e704b69e2c0147598b87d70959cc1d19": {
      "model_module": "@jupyter-widgets/base",
      "model_module_version": "1.2.0",
      "model_name": "LayoutModel",
      "state": {}
     },
     "e70f3c2d70b247df9fb2de2b32a22bdd": {
      "model_module": "@jupyter-widgets/controls",
      "model_module_version": "1.5.0",
      "model_name": "HTMLModel",
      "state": {
       "layout": "IPY_MODEL_90923c837e1b4ab9bc13f1267d9159d8",
       "style": "IPY_MODEL_abbeb2c6abf448dda079c6cbb462781b",
       "value": " 3/3 [00:10&lt;00:00,  4.12s/it]"
      }
     },
     "e83b55d4dce248a9ad00d59b4f589287": {
      "model_module": "@jupyter-widgets/controls",
      "model_module_version": "1.5.0",
      "model_name": "FloatProgressModel",
      "state": {
       "bar_style": "success",
       "layout": "IPY_MODEL_74b140d56f264876ad3baac400674e81",
       "max": 3,
       "style": "IPY_MODEL_56f349348df141708ca826a50e524d41",
       "value": 3
      }
     },
     "e888eadbc7f94bd8a49318165d57b41e": {
      "model_module": "@jupyter-widgets/base",
      "model_module_version": "1.2.0",
      "model_name": "LayoutModel",
      "state": {}
     },
     "e8f26801067b4ef1828250d9824be275": {
      "model_module": "@jupyter-widgets/controls",
      "model_module_version": "1.5.0",
      "model_name": "ProgressStyleModel",
      "state": {
       "description_width": ""
      }
     },
     "e90406da19364701938d300128db6610": {
      "model_module": "@jupyter-widgets/controls",
      "model_module_version": "1.5.0",
      "model_name": "DescriptionStyleModel",
      "state": {
       "description_width": ""
      }
     },
     "e9851f713d7243c19f16d596d8687237": {
      "model_module": "@jupyter-widgets/controls",
      "model_module_version": "1.5.0",
      "model_name": "DescriptionStyleModel",
      "state": {
       "description_width": ""
      }
     },
     "e9c5bf0eb79e49b88e40dc586ebe3e7c": {
      "model_module": "@jupyter-widgets/base",
      "model_module_version": "1.2.0",
      "model_name": "LayoutModel",
      "state": {}
     },
     "ea5c5e28a3084a8e9b220f22ec95964c": {
      "model_module": "@jupyter-widgets/controls",
      "model_module_version": "1.5.0",
      "model_name": "DescriptionStyleModel",
      "state": {
       "description_width": ""
      }
     },
     "eb4181bebf4d410e8b5c7badfad5bfda": {
      "model_module": "@jupyter-widgets/controls",
      "model_module_version": "1.5.0",
      "model_name": "DescriptionStyleModel",
      "state": {
       "description_width": ""
      }
     },
     "eba97bc2fe554e4d89a75a68452728ea": {
      "model_module": "@jupyter-widgets/controls",
      "model_module_version": "1.5.0",
      "model_name": "HTMLModel",
      "state": {
       "layout": "IPY_MODEL_e5ce606a16644d659863680e146e4706",
       "style": "IPY_MODEL_3282bc86098446bebd1e8f06a0a2af04",
       "value": " 3/3 [00:11&lt;00:00,  4.30s/it]"
      }
     },
     "ec90cfce9177485b883662ef681ad8d6": {
      "model_module": "@jupyter-widgets/controls",
      "model_module_version": "1.5.0",
      "model_name": "HTMLModel",
      "state": {
       "layout": "IPY_MODEL_5256fcf8c90746a2b585640096aabcd5",
       "style": "IPY_MODEL_59b8436cb07c42e9bc5b74d1bab28248",
       "value": "100%"
      }
     },
     "ed4b45ecdd934060aec1b9f01e6666f3": {
      "model_module": "@jupyter-widgets/controls",
      "model_module_version": "1.5.0",
      "model_name": "ProgressStyleModel",
      "state": {
       "description_width": ""
      }
     },
     "edba1ebe3a684c6da97596e98b5211a5": {
      "model_module": "@jupyter-widgets/base",
      "model_module_version": "1.2.0",
      "model_name": "LayoutModel",
      "state": {}
     },
     "edd4ff7f3e974300b167832d9129ddc9": {
      "model_module": "@jupyter-widgets/controls",
      "model_module_version": "1.5.0",
      "model_name": "DescriptionStyleModel",
      "state": {
       "description_width": ""
      }
     },
     "edf5997f4a0c488abc2bd51d603e413b": {
      "model_module": "@jupyter-widgets/base",
      "model_module_version": "1.2.0",
      "model_name": "LayoutModel",
      "state": {}
     },
     "ee2dd5434a194971bea98ba72eb8aad9": {
      "model_module": "@jupyter-widgets/controls",
      "model_module_version": "1.5.0",
      "model_name": "HBoxModel",
      "state": {
       "children": [
        "IPY_MODEL_81fd12c7fc3c414b93a7481f3fb7da1e",
        "IPY_MODEL_f48e026983244ac9ac89fe0530611c84",
        "IPY_MODEL_b7dc5056499647e6b599be2a6894c13b"
       ],
       "layout": "IPY_MODEL_219afd487156452a86e2406576ecfcc9"
      }
     },
     "f02c4f5a3cc94e6a894dfcdd90c4a76c": {
      "model_module": "@jupyter-widgets/controls",
      "model_module_version": "1.5.0",
      "model_name": "DescriptionStyleModel",
      "state": {
       "description_width": ""
      }
     },
     "f088742121f542cdb895747b227deca2": {
      "model_module": "@jupyter-widgets/controls",
      "model_module_version": "1.5.0",
      "model_name": "DescriptionStyleModel",
      "state": {
       "description_width": ""
      }
     },
     "f088a133a8804674b9dd7f297ffbf9c2": {
      "model_module": "@jupyter-widgets/controls",
      "model_module_version": "1.5.0",
      "model_name": "FloatProgressModel",
      "state": {
       "bar_style": "success",
       "layout": "IPY_MODEL_4649dcb9189249368cf39bbc84f2235f",
       "max": 3,
       "style": "IPY_MODEL_89df800d4df747eaa75255a756977bf8",
       "value": 3
      }
     },
     "f0db023865de4e75a40b4550172c6138": {
      "model_module": "@jupyter-widgets/controls",
      "model_module_version": "1.5.0",
      "model_name": "HBoxModel",
      "state": {
       "children": [
        "IPY_MODEL_bd3f5d9954cd4a91a7381e105cf45022",
        "IPY_MODEL_70268c8c928f4f88b7800ca0b349bf8e",
        "IPY_MODEL_5af10075c7954a7a86b516adebbabe88"
       ],
       "layout": "IPY_MODEL_9cf5eea599ac405eba88a368b841cb7b"
      }
     },
     "f0f757600cc0422fb1fcae4bbfb667b7": {
      "model_module": "@jupyter-widgets/base",
      "model_module_version": "1.2.0",
      "model_name": "LayoutModel",
      "state": {}
     },
     "f10a509f4c6a45be95fd03a4d39b1837": {
      "model_module": "@jupyter-widgets/base",
      "model_module_version": "1.2.0",
      "model_name": "LayoutModel",
      "state": {}
     },
     "f13ca19e18544997bae83876d0159c0a": {
      "model_module": "@jupyter-widgets/controls",
      "model_module_version": "1.5.0",
      "model_name": "DescriptionStyleModel",
      "state": {
       "description_width": ""
      }
     },
     "f1a0ce767920426aa410782640361065": {
      "model_module": "@jupyter-widgets/controls",
      "model_module_version": "1.5.0",
      "model_name": "HBoxModel",
      "state": {
       "children": [
        "IPY_MODEL_1fc82bd317434156a2e9298ba5e183fd",
        "IPY_MODEL_e6a099540d1b4981b0354d13867760e0",
        "IPY_MODEL_b1869575b6bc48b185eadfefede9f2ea"
       ],
       "layout": "IPY_MODEL_b3c64d1d470d4303ba1161800f662b9d"
      }
     },
     "f1cadea86f4349a5ab89df8c16368f3f": {
      "model_module": "@jupyter-widgets/base",
      "model_module_version": "1.2.0",
      "model_name": "LayoutModel",
      "state": {}
     },
     "f1cfc5bb0898456ca8f5c538a609a70f": {
      "model_module": "@jupyter-widgets/controls",
      "model_module_version": "1.5.0",
      "model_name": "DescriptionStyleModel",
      "state": {
       "description_width": ""
      }
     },
     "f21572dd0fec42ae9fb1501edcecfecb": {
      "model_module": "@jupyter-widgets/base",
      "model_module_version": "1.2.0",
      "model_name": "LayoutModel",
      "state": {}
     },
     "f21e3b344edc4b7dac55236cc7acdf7f": {
      "model_module": "@jupyter-widgets/controls",
      "model_module_version": "1.5.0",
      "model_name": "HBoxModel",
      "state": {
       "children": [
        "IPY_MODEL_009e9b31c50b45ce98d8d25a7a492aac",
        "IPY_MODEL_298d55ec99f54dcd8e73ef8eba7e4595",
        "IPY_MODEL_98ebb002e3a64642ad056d5f1b073578"
       ],
       "layout": "IPY_MODEL_80c763c7699b4ff49a71253aa16e9b40"
      }
     },
     "f27ed8d568e3443b8ebfc12dea126023": {
      "model_module": "@jupyter-widgets/base",
      "model_module_version": "1.2.0",
      "model_name": "LayoutModel",
      "state": {}
     },
     "f287eebaea2a42059275cf322b97e556": {
      "model_module": "@jupyter-widgets/controls",
      "model_module_version": "1.5.0",
      "model_name": "DescriptionStyleModel",
      "state": {
       "description_width": ""
      }
     },
     "f2b100e087414d70b6a7854840f6a755": {
      "model_module": "@jupyter-widgets/controls",
      "model_module_version": "1.5.0",
      "model_name": "HBoxModel",
      "state": {
       "children": [
        "IPY_MODEL_cc828325858743d1a489b03205ca511f",
        "IPY_MODEL_69329a3476f64b6ebd2f92c94b295e8c",
        "IPY_MODEL_e2f9c553cda84b29b8912d2d332ae8cb"
       ],
       "layout": "IPY_MODEL_310227bd46d14740a6e6c01f119281fe"
      }
     },
     "f302702e49304ecc970ba60d6dff4f48": {
      "model_module": "@jupyter-widgets/base",
      "model_module_version": "1.2.0",
      "model_name": "LayoutModel",
      "state": {}
     },
     "f3448abc46c64dcc99030e01f7f7c0ad": {
      "model_module": "@jupyter-widgets/controls",
      "model_module_version": "1.5.0",
      "model_name": "HTMLModel",
      "state": {
       "layout": "IPY_MODEL_c931633d20a244ef9feb92c378ca50c7",
       "style": "IPY_MODEL_97911fa7f7ff4b9ca533f84f14ba8a8d",
       "value": "100%"
      }
     },
     "f37ee6991b5b4c67b17f201ce50e2880": {
      "model_module": "@jupyter-widgets/controls",
      "model_module_version": "1.5.0",
      "model_name": "HTMLModel",
      "state": {
       "layout": "IPY_MODEL_a93293402c394b809ddfc405b57fc3ae",
       "style": "IPY_MODEL_4f45b7be062545dfad8cd46b855234c4",
       "value": "100%"
      }
     },
     "f44d75a7f63d49649d2bd08154c9e62d": {
      "model_module": "@jupyter-widgets/controls",
      "model_module_version": "1.5.0",
      "model_name": "HBoxModel",
      "state": {
       "children": [
        "IPY_MODEL_4a02dde9f0c2473ca483bd879aae9897",
        "IPY_MODEL_aceda0a21c1a4b75853cdb8a59f7eadf",
        "IPY_MODEL_8ff573009e114a3f87d3b18fc70f28cc"
       ],
       "layout": "IPY_MODEL_c9926b82ab4345ebbeaf72d68b2d7259"
      }
     },
     "f46f147ed767438095a88af5a63a467a": {
      "model_module": "@jupyter-widgets/controls",
      "model_module_version": "1.5.0",
      "model_name": "ProgressStyleModel",
      "state": {
       "description_width": ""
      }
     },
     "f48e026983244ac9ac89fe0530611c84": {
      "model_module": "@jupyter-widgets/controls",
      "model_module_version": "1.5.0",
      "model_name": "FloatProgressModel",
      "state": {
       "bar_style": "success",
       "layout": "IPY_MODEL_4cf01c7addd141348d4644f6e298d0c3",
       "max": 14,
       "style": "IPY_MODEL_9216e0e0907040929f6e274b03ee6243",
       "value": 14
      }
     },
     "f4e82aa0dad7492e9f251f424c0459f3": {
      "model_module": "@jupyter-widgets/controls",
      "model_module_version": "1.5.0",
      "model_name": "DescriptionStyleModel",
      "state": {
       "description_width": ""
      }
     },
     "f4f9b0038c9c44619b86920342744735": {
      "model_module": "@jupyter-widgets/base",
      "model_module_version": "1.2.0",
      "model_name": "LayoutModel",
      "state": {}
     },
     "f5b2aff67783436c98d18958c3462638": {
      "model_module": "@jupyter-widgets/controls",
      "model_module_version": "1.5.0",
      "model_name": "HTMLModel",
      "state": {
       "layout": "IPY_MODEL_e9c5bf0eb79e49b88e40dc586ebe3e7c",
       "style": "IPY_MODEL_6aad32a9423043eb8bffaa7ab8e9632f",
       "value": " 3/3 [00:11&lt;00:00,  4.33s/it]"
      }
     },
     "f60f6e5e80ae48e9a0f049286dda0399": {
      "model_module": "@jupyter-widgets/base",
      "model_module_version": "1.2.0",
      "model_name": "LayoutModel",
      "state": {}
     },
     "f65d8a8840ca449cbde70bef05e56953": {
      "model_module": "@jupyter-widgets/base",
      "model_module_version": "1.2.0",
      "model_name": "LayoutModel",
      "state": {}
     },
     "f66bdd911a814945be5752c9df45f480": {
      "model_module": "@jupyter-widgets/controls",
      "model_module_version": "1.5.0",
      "model_name": "HTMLModel",
      "state": {
       "layout": "IPY_MODEL_8217a65ec82749c384cfde988d04b47e",
       "style": "IPY_MODEL_76d91f459d6d4f2aa4c55161e3e2fbd5",
       "value": "100%"
      }
     },
     "f6d9b538a7d4474faf6f1b5d4ed3aa22": {
      "model_module": "@jupyter-widgets/controls",
      "model_module_version": "1.5.0",
      "model_name": "DescriptionStyleModel",
      "state": {
       "description_width": ""
      }
     },
     "f7b6a4fb1aba43ad94e6124c4f209345": {
      "model_module": "@jupyter-widgets/controls",
      "model_module_version": "1.5.0",
      "model_name": "HBoxModel",
      "state": {
       "children": [
        "IPY_MODEL_6b85b3f5a8a844c2bcfadcce25177f81",
        "IPY_MODEL_a040616087b0471381e02100d008c999",
        "IPY_MODEL_25c6f48933ff4136bbdfb125b1cd897e"
       ],
       "layout": "IPY_MODEL_ceb07ebb580242619894a2c16e706be0"
      }
     },
     "f8d0aa0d6d044fd9b885647c29ad5ed9": {
      "model_module": "@jupyter-widgets/controls",
      "model_module_version": "1.5.0",
      "model_name": "DescriptionStyleModel",
      "state": {
       "description_width": ""
      }
     },
     "f990c3c0d24b4feb8b54ebbb0fe605e3": {
      "model_module": "@jupyter-widgets/controls",
      "model_module_version": "1.5.0",
      "model_name": "DescriptionStyleModel",
      "state": {
       "description_width": ""
      }
     },
     "fa70d6fcb22147d0955df9e8bddc056c": {
      "model_module": "@jupyter-widgets/controls",
      "model_module_version": "1.5.0",
      "model_name": "FloatProgressModel",
      "state": {
       "bar_style": "success",
       "layout": "IPY_MODEL_b13f40fc66ff46f3b4778d156c0b4e3f",
       "max": 3,
       "style": "IPY_MODEL_4df6d7c39cce4536a58880a00a3970ef",
       "value": 3
      }
     },
     "fb2b7e82ece14ab79d84a08df31c827e": {
      "model_module": "@jupyter-widgets/base",
      "model_module_version": "1.2.0",
      "model_name": "LayoutModel",
      "state": {}
     },
     "fc07a7ad29a1417dbfecf232fc63168d": {
      "model_module": "@jupyter-widgets/base",
      "model_module_version": "1.2.0",
      "model_name": "LayoutModel",
      "state": {}
     },
     "fc07b8eb3f2d42398ac37ae004962f19": {
      "model_module": "@jupyter-widgets/base",
      "model_module_version": "1.2.0",
      "model_name": "LayoutModel",
      "state": {}
     },
     "fc340e178dcf4841a50d791a1e61b133": {
      "model_module": "@jupyter-widgets/base",
      "model_module_version": "1.2.0",
      "model_name": "LayoutModel",
      "state": {}
     },
     "fcae490625734c64bdd2385f2511ea70": {
      "model_module": "@jupyter-widgets/controls",
      "model_module_version": "1.5.0",
      "model_name": "DescriptionStyleModel",
      "state": {
       "description_width": ""
      }
     },
     "fcef6373ae564b3b87c5b2057e1681be": {
      "model_module": "@jupyter-widgets/controls",
      "model_module_version": "1.5.0",
      "model_name": "HBoxModel",
      "state": {
       "children": [
        "IPY_MODEL_7a704d424209479cb5037043a800cfd7",
        "IPY_MODEL_72d2f467985443aa84671df70e62e3fb",
        "IPY_MODEL_46630c2bc95d489aae2080882d869949"
       ],
       "layout": "IPY_MODEL_b3879f55d6854176b7408a83e0d39a72"
      }
     },
     "fd78d4fe60794bd9a4080bccdd2b5066": {
      "model_module": "@jupyter-widgets/controls",
      "model_module_version": "1.5.0",
      "model_name": "FloatProgressModel",
      "state": {
       "bar_style": "success",
       "layout": "IPY_MODEL_2a2a37aad76a438cae578d3ae288b46b",
       "max": 14,
       "style": "IPY_MODEL_56eadb9f4fd944dcb5039b404e09f6a1",
       "value": 14
      }
     },
     "fdb9a369ccea4ed5983d9d8248c46c5d": {
      "model_module": "@jupyter-widgets/base",
      "model_module_version": "1.2.0",
      "model_name": "LayoutModel",
      "state": {}
     },
     "fdc23c6f872c4825b03240c4a0ab9831": {
      "model_module": "@jupyter-widgets/controls",
      "model_module_version": "1.5.0",
      "model_name": "HTMLModel",
      "state": {
       "layout": "IPY_MODEL_a100bb931af3454f8ff02fae28c2ba6a",
       "style": "IPY_MODEL_af095a946e40470fb6b10069cdead320",
       "value": "100%"
      }
     },
     "ff6c51d38ade449d9351b3aa712bc22e": {
      "model_module": "@jupyter-widgets/base",
      "model_module_version": "1.2.0",
      "model_name": "LayoutModel",
      "state": {}
     },
     "ff7181daebce46c8a92713b3908a3645": {
      "model_module": "@jupyter-widgets/controls",
      "model_module_version": "1.5.0",
      "model_name": "HTMLModel",
      "state": {
       "layout": "IPY_MODEL_f10a509f4c6a45be95fd03a4d39b1837",
       "style": "IPY_MODEL_adb01a75c497444e9fb19c4b1eadcf84",
       "value": "100%"
      }
     },
     "ff775a243b6949488f74e1dbabacf8a0": {
      "model_module": "@jupyter-widgets/controls",
      "model_module_version": "1.5.0",
      "model_name": "HTMLModel",
      "state": {
       "layout": "IPY_MODEL_f0f757600cc0422fb1fcae4bbfb667b7",
       "style": "IPY_MODEL_e27c6e761b364d56bc2c9cee005861aa",
       "value": "100%"
      }
     }
    },
    "version_major": 2,
    "version_minor": 0
   }
  }
 },
 "nbformat": 4,
 "nbformat_minor": 5
}
