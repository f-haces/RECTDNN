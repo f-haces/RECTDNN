{
 "cells": [
  {
   "cell_type": "code",
   "execution_count": 1,
   "metadata": {},
   "outputs": [
    {
     "name": "stderr",
     "output_type": "stream",
     "text": [
      "C:\\Users\\fhacesga\\AppData\\Local\\Temp\\ipykernel_19464\\3096312912.py:4: TqdmExperimentalWarning: Using `tqdm.autonotebook.tqdm` in notebook mode. Use `tqdm.tqdm` instead to force console mode (e.g. in jupyter console)\n",
      "  from tqdm.autonotebook import tqdm\n"
     ]
    },
    {
     "name": "stdout",
     "output_type": "stream",
     "text": [
      "WARNING  Python>=3.10 is required, but Python==3.8.18 is currently installed \n"
     ]
    }
   ],
   "source": [
    "import numpy as np\n",
    "import geopandas as gpd\n",
    "from scipy.spatial import KDTree\n",
    "from tqdm.autonotebook import tqdm\n",
    "from scipy.ndimage import gaussian_filter\n",
    "from fuzzywuzzy import process\n",
    "import contextily as cx\n",
    "\n",
    "import warnings, traceback\n",
    "\n",
    "from IndexUtils import * \n",
    "from TileUtils import *\n",
    "from featurematching import *\n",
    "from ReadDate import *\n",
    "from concurrent.futures import ThreadPoolExecutor\n",
    "\n",
    "# TILED INFERENCE\n",
    "import sahi\n",
    "from sahi import AutoDetectionModel\n",
    "from sahi.predict import get_sliced_prediction, predict\n",
    "from scipy.spatial.distance import cdist\n",
    "import easyocr\n",
    "from scipy.fftpack import fft2, ifft2, fftshift\n",
    "from scipy.ndimage import center_of_mass\n",
    "\n",
    "from sklearn.cluster import DBSCAN\n",
    "\n",
    "from skimage.morphology import skeletonize\n",
    "\n",
    "from scipy.interpolate import Rbf\n",
    "\n",
    "\n",
    "%load_ext autoreload\n",
    "%autoreload 2"
   ]
  },
  {
   "cell_type": "code",
   "execution_count": 2,
   "metadata": {},
   "outputs": [],
   "source": [
    "referencing_dir  = r\"D:\\RECTDNN\\processing\\2024-10-11_15-08-46\\referencing_3\\\\\""
   ]
  },
  {
   "cell_type": "code",
   "execution_count": 3,
   "metadata": {},
   "outputs": [],
   "source": [
    "with open(\"SmartDictV2.p\", 'rb') as f:\n",
    "    tile_coords = pickle.load(f)"
   ]
  },
  {
   "cell_type": "code",
   "execution_count": 4,
   "metadata": {},
   "outputs": [
    {
     "name": "stdout",
     "output_type": "stream",
     "text": [
      "Potential detections 480287: 99\n",
      "Potential detections 48201: 295\n",
      "Potential detections 480296: 51\n"
     ]
    }
   ],
   "source": [
    "base_input_path = r\"D:\\RECTDNN\\uncompress\\\\\"\n",
    "# LIST ALL IMAGES IN DIRECTORY\n",
    "image_files = []\n",
    "wildcards = ['480287', '48201', '480296']\n",
    "\n",
    "# wildcards = ['480296']\n",
    "for w in wildcards:\n",
    "    print(f\"Potential detections {w}: {len([a for a in list(tile_coords.keys()) if w in a])}\")\n",
    "    # print([a for a in list(tile_coords.keys()) if w in a])\n",
    "    image_files.extend(glob.glob(f\"{base_input_path}/*{w}*\"))\n",
    "image_files = [f for f in image_files if 'w' not in os.path.splitext(f)[1]]\n",
    "\n",
    "# FILTER IMAGES USING HEURISTICS TO GET TILEINDICES\n",
    "patterns = [\"IND\", \"_1.\"]\n",
    "index_files = [file for pattern in patterns for file in glob.glob(base_input_path + \"\\\\*\" + pattern + \"*.*[!w]*\")]\n",
    "filtered_files = [file for file in image_files if len(os.path.basename(file)) < 12]\n",
    "index_files.extend(filtered_files)\n",
    "\n",
    "# GET ACTUAL TILES\n",
    "tiles       = list(set(image_files) - set(index_files))\n",
    "tiles_bns   = [os.path.basename(tile).split(\".\")[0] for tile in tiles]"
   ]
  },
  {
   "cell_type": "code",
   "execution_count": null,
   "metadata": {},
   "outputs": [
    {
     "data": {
      "application/vnd.jupyter.widget-view+json": {
       "model_id": "e781ee210c954e3782f9b06827443e5f",
       "version_major": 2,
       "version_minor": 0
      },
      "text/plain": [
       "  0%|          | 0/859 [00:00<?, ?it/s]"
      ]
     },
     "metadata": {},
     "output_type": "display_data"
    },
    {
     "name": "stdout",
     "output_type": "stream",
     "text": [
      "Processing 4802960160B--------------------------------------------------\n",
      "Using 1979-12-11 00:00:00 for tile date 1979-12-11 00:00:00\n",
      "Processing 4802870310D--------------------------------------------------\n",
      "Using 1985-09-27 00:00:00 for tile date 1985-09-27 00:00:00\n",
      "Processing 48201C0840K--------------------------------------------------\n",
      "Could not find date in ['HARRIS  COUNTY', 'TEXAS AND', 'INCORPORATED   AREAS', 'PANEL 840 OF 1135', '{SEE MA? INDEX FOR BANELs NOT PRINTED;', 'CONTAWNS', 'QMMUNTY _NUMBER FAVEL   SUFFIX', 'Fort BEND Cou', 'DNO 2 & 481272 Co', 'HARRIS COUN', 'UNINCORPORATED ARE45 480287  0840', 'HoustoNCrcoRRt 430296   C#c', 'U', 'Map  NUMBER', '48201C0840 K', 'MAp  REVISED:', \"30'\", 'APRIL 20, 2000', 'Federal Emergency Management Agency', 'FOR']\n",
      "Processing 480296A_53--------------------------------------------------\n",
      "Could not find tile in detections 480296A_5\n",
      "Processing 480287B_38--------------------------------------------------\n",
      "Could not find tile in detections 480287B_3\n",
      "Processing 4802870220E--------------------------------------------------\n",
      "Using 1985-09-27 00:00:00 for tile date 1985-09-27 00:00:00\n",
      "Processing 4802870475C--------------------------------------------------\n",
      "Could not find key C for current tile from options [0, 'D'], using closest date from all keys\n",
      "Using 1981-02-24 00:00:00 for tile date 1981-02-24 00:00:00\n",
      "Processing 48201C0295J--------------------------------------------------\n",
      "Could not find key J for current tile from options [0, 'L', 'M'], using closest date from all keys\n",
      "Using 1996-11-23 00:00:00 for tile date 1996-11-06 00:00:00\n"
     ]
    },
    {
     "name": "stderr",
     "output_type": "stream",
     "text": [
      "11/08/2024 10:04:07 - WARNING - rasterio._env -   CPLE_AppDefined in D:/RECTDNN/uncompress/48201C0970L.tif: _TIFFVSetField:D:/RECTDNN/uncompress/48201C0970L.tif: Null count for \"Tag 32934\" (type 4, writecount -3, passcount 1)\n",
      "11/08/2024 10:04:07 - INFO - rasterio._env -   GDAL signalled an error: err_no=1, msg='_TIFFVSetField:D:/RECTDNN/uncompress/48201C0970L.tif: Null count for \"Tag 32934\" (type 4, writecount -3, passcount 1)'\n"
     ]
    },
    {
     "name": "stdout",
     "output_type": "stream",
     "text": [
      "Processing 48201C0970L--------------------------------------------------\n",
      "Using 2007-06-18 00:00:00 for tile date 2007-06-18 00:00:00\n",
      "Processing 480296A_21--------------------------------------------------\n",
      "Could not find tile in detections 480296A_2\n",
      "Processing 4802870475D--------------------------------------------------\n",
      "Using 1982-03-30 00:00:00 for tile date 1982-03-30 00:00:00\n",
      "Processing 48201C0215G--------------------------------------------------\n",
      "Could not find key G for current tile from options [0, 'L'], using closest date from all keys\n",
      "Using 1996-11-23 00:00:00 for tile date 1990-09-28 00:00:00\n",
      "Processing 480287B_3--------------------------------------------------\n",
      "Could not find tile in detections 480287B_\n",
      "Processing 480296A_109--------------------------------------------------\n",
      "Could not find tile in detections 480296A_10\n",
      "Processing 480287B_35--------------------------------------------------\n",
      "Could not find tile in detections 480287B_3\n",
      "Processing 4802870500C--------------------------------------------------\n",
      "Could not find key C for current tile from options [0], using closest date from all keys\n",
      "Using 1981-02-24 00:00:00 for tile date 1981-02-24 00:00:00\n",
      "Processing 48201C1080J--------------------------------------------------\n",
      "Could not find key J for current tile from options [0, 'L', 'M'], using closest date from all keys\n",
      "Using 1996-11-23 00:00:00 for tile date 1996-11-06 00:00:00\n",
      "Processing 48201C0335J--------------------------------------------------\n",
      "Could not find key J for current tile from options [0, 'L', 'H'], using closest date from all keys\n",
      "Using 1996-11-23 00:00:00 for tile date 1996-11-06 00:00:00\n",
      "Processing 4802960175B--------------------------------------------------\n",
      "Using 1979-12-11 00:00:00 for tile date 1979-12-11 00:00:00\n",
      "Processing 4802870145D--------------------------------------------------\n",
      "Using 1985-09-27 00:00:00 for tile date 1985-09-27 00:00:00\n",
      "Processing 48201C0025G--------------------------------------------------\n",
      "Could not find key G for current tile from options ['L'], using closest date from all keys\n",
      "Using 2007-06-18 00:00:00 for tile date 1990-09-28 00:00:00\n",
      "Could not find key 0 for current tile from options ['L'], using closest date from all keys\n",
      "Using 2007-06-18 00:00:00 for tile date 1990-09-28 00:00:00\n",
      "CLOSEST DATE IN KEY IS TOO FAR (6107 days), using general instead (2007-06-18 00:00:00)\n",
      "Processing 48201C0255J--------------------------------------------------\n",
      "Using 2000-04-20 00:00:00 for tile date 1996-11-06 00:00:00\n",
      "Processing 4802870290E--------------------------------------------------\n",
      "Using 1985-09-27 00:00:00 for tile date 1985-09-27 00:00:00\n",
      "Processing 48201C0590J--------------------------------------------------\n",
      "Could not find key J for current tile from options [0, 'L'], using closest date from all keys\n",
      "Using 1996-11-23 00:00:00 for tile date 1996-11-06 00:00:00\n",
      "Processing 4802870170D--------------------------------------------------\n",
      "Using 1985-09-27 00:00:00 for tile date 1985-09-27 00:00:00\n",
      "Processing 48201C0715J--------------------------------------------------\n",
      "Could not find key J for current tile from options [0, 'L', 'M'], using closest date from all keys\n",
      "Using 1996-11-23 00:00:00 for tile date 1996-11-08 00:00:00\n",
      "Processing 48201C0610J--------------------------------------------------\n",
      "Could not find date in ['HARRIS COUNTY', 'TEXAS AND', 'INCORPORATED   AREAS', 'PANEL 610 OF 1135', '{SEE MAP INDEY Fon PANELS NOT PRINTED)', 'CONTAINS:', 'COMVUNTY  NUMBER   PANEL   SUFFIY', 'HeRRIS CC', 'NINCC QQAATED AREAS 48078;  Opu', 'KOUSTCN ATX QF 48C293  0gi', '(n', 'Map  NUMBER', '48201C0610 ]', 'Map REVISED:', \"9048'45'\", 'NOVEMBER 6, 1996', '0\"', 'Federal Emergency Management Agency']\n"
     ]
    },
    {
     "name": "stderr",
     "output_type": "stream",
     "text": [
      "11/08/2024 10:04:48 - WARNING - rasterio._env -   CPLE_AppDefined in D:/RECTDNN/uncompress/48201C0705L.tif: _TIFFVSetField:D:/RECTDNN/uncompress/48201C0705L.tif: Null count for \"Tag 32934\" (type 4, writecount -3, passcount 1)\n",
      "11/08/2024 10:04:48 - INFO - rasterio._env -   GDAL signalled an error: err_no=1, msg='_TIFFVSetField:D:/RECTDNN/uncompress/48201C0705L.tif: Null count for \"Tag 32934\" (type 4, writecount -3, passcount 1)'\n"
     ]
    },
    {
     "name": "stdout",
     "output_type": "stream",
     "text": [
      "Processing 48201C0705L--------------------------------------------------\n",
      "Using 2007-06-18 00:00:00 for tile date 2007-06-18 00:00:00\n",
      "Processing 480296A_16--------------------------------------------------\n",
      "Could not find tile in detections 480296A_1\n",
      "Processing 4802960120B--------------------------------------------------\n",
      "Using 1979-12-11 00:00:00 for tile date 1979-11-08 00:00:00\n",
      "Processing 480296A_12--------------------------------------------------\n",
      "Could not find tile in detections 480296A_1\n",
      "Processing 48201C1035J--------------------------------------------------\n",
      "Could not find key J for current tile from options ['K', 'L', 0], using closest date from all keys\n",
      "Using 1996-11-23 00:00:00 for tile date 1996-11-06 00:00:00\n",
      "Processing 48201C0690M--------------------------------------------------\n",
      "Using 2015-05-04 00:00:00 for tile date 2014-06-09 00:00:00\n"
     ]
    },
    {
     "name": "stderr",
     "output_type": "stream",
     "text": [
      "11/08/2024 10:05:03 - WARNING - rasterio._env -   CPLE_AppDefined in D:/RECTDNN/uncompress/48201C0960L.tif: _TIFFVSetField:D:/RECTDNN/uncompress/48201C0960L.tif: Null count for \"Tag 32934\" (type 4, writecount -3, passcount 1)\n",
      "11/08/2024 10:05:03 - INFO - rasterio._env -   GDAL signalled an error: err_no=1, msg='_TIFFVSetField:D:/RECTDNN/uncompress/48201C0960L.tif: Null count for \"Tag 32934\" (type 4, writecount -3, passcount 1)'\n"
     ]
    },
    {
     "name": "stdout",
     "output_type": "stream",
     "text": [
      "Processing 48201C0960L--------------------------------------------------\n",
      "Using 2007-06-18 00:00:00 for tile date 2007-06-18 00:00:00\n",
      "Processing 4802960190D--------------------------------------------------\n",
      "Using 1985-09-27 00:00:00 for tile date 1985-09-27 00:00:00\n",
      "Processing 480296A_41--------------------------------------------------\n",
      "Could not find tile in detections 480296A_4\n",
      "Processing 48201C0465K--------------------------------------------------\n",
      "Using 2000-04-20 00:00:00 for tile date 2000-04-20 00:00:00\n",
      "Processing 480287B_2--------------------------------------------------\n",
      "Could not find tile in detections 480287B_\n",
      "Processing 4802960025C--------------------------------------------------\n",
      "Could not find key C for current tile from options [0, 'D', 'E', 'B'], using closest date from all keys\n",
      "Using 1982-09-21 00:00:00 for tile date 1982-09-21 00:00:00\n",
      "Processing 480296A_33--------------------------------------------------\n",
      "Could not find tile in detections 480296A_3\n",
      "Processing 4802870550C--------------------------------------------------\n",
      "Could not find key C for current tile from options [0, 'D'], using closest date from all keys\n",
      "Using 1981-02-24 00:00:00 for tile date 1981-02-24 00:00:00\n",
      "Processing 48201C0350H--------------------------------------------------\n",
      "Using 1992-09-30 00:00:00 for tile date 1992-09-30 00:00:00\n",
      "Processing 48201C0345G--------------------------------------------------\n",
      "Using 1990-09-28 00:00:00 for tile date 1990-09-28 00:00:00\n",
      "Processing 48201C0555J--------------------------------------------------\n",
      "Could not find key J for current tile from options [0, 'L'], using closest date from all keys\n",
      "Using 1996-11-23 00:00:00 for tile date 1996-11-06 00:00:00\n",
      "Processing 480296A_6--------------------------------------------------\n",
      "Could not find tile in detections 480296A_\n",
      "Processing 48201C0230G--------------------------------------------------\n",
      "Using 1992-09-30 00:00:00 for tile date 1990-09-28 00:00:00\n",
      "Processing 480296A_138--------------------------------------------------\n",
      "Could not find tile in detections 480296A_13\n",
      "Processing 480296A_30--------------------------------------------------\n",
      "Could not find tile in detections 480296A_3\n",
      "Processing 48201C0175G--------------------------------------------------\n",
      "Could not find key G for current tile from options ['L'], using closest date from all keys\n",
      "Using 2007-06-18 00:00:00 for tile date 1990-09-28 00:00:00\n",
      "Could not find key 0 for current tile from options ['L'], using closest date from all keys\n",
      "Using 2007-06-18 00:00:00 for tile date 1990-09-28 00:00:00\n",
      "CLOSEST DATE IN KEY IS TOO FAR (6107 days), using general instead (2007-06-18 00:00:00)\n",
      "Processing 4802960115D--------------------------------------------------\n",
      "Could not find date in ['CITY 0f', 'W', 'HOUSTON,', 'TEXAS', \"HARRIS ' COUNTY\", 'FORT BEND COUNBY,', 'MONTGOMERY', 'COUNTY', 'PANEL 115 0F 4195', '(SEE MAP NGEOR PANELSAO PERINTED)', 'aneLNUMBER', '(', '480296 0115 D', 'Mae RE VISED:', 'SEREEMEER 27 , 1985', 'Federal Emergency Management Agency', '8', '8']\n",
      "Processing 48201C0635J--------------------------------------------------\n",
      "Could not find key J for current tile from options ['K', 'L', 'M', 0], using closest date from all keys\n",
      "Using 1996-11-23 00:00:00 for tile date 1996-11-06 00:00:00\n",
      "Processing 4802870380D--------------------------------------------------\n",
      "Could not find date in ['HARRIS COUNTY,', 'TEXAS', '(UNINCORPORATED AREAS)', 'PANEL 380 OR550', '(SEE MAP indexseor PANELSNOTRRINTEd)', 'NcL NUMBER', 'Minng', '480287 0380 D', 'MAP RE VISED:', 'SERTEMBER 27 , 1985', 'Federal Emergency Management Ageney', '8', '8']\n",
      "Processing 4802870160D--------------------------------------------------\n"
     ]
    },
    {
     "name": "stderr",
     "output_type": "stream",
     "text": [
      "11/08/2024 10:05:43 - WARNING - rasterio._env -   CPLE_AppDefined in D:/RECTDNN/uncompress/48201C0720L.tif: _TIFFVSetField:D:/RECTDNN/uncompress/48201C0720L.tif: Null count for \"Tag 32934\" (type 4, writecount -3, passcount 1)\n",
      "11/08/2024 10:05:43 - INFO - rasterio._env -   GDAL signalled an error: err_no=1, msg='_TIFFVSetField:D:/RECTDNN/uncompress/48201C0720L.tif: Null count for \"Tag 32934\" (type 4, writecount -3, passcount 1)'\n"
     ]
    },
    {
     "name": "stdout",
     "output_type": "stream",
     "text": [
      "Using 1985-09-27 00:00:00 for tile date 1985-09-27 00:00:00\n",
      "Processing 48201C0720L--------------------------------------------------\n",
      "Using 2007-06-18 00:00:00 for tile date 2007-06-18 00:00:00\n",
      "Processing 4802870005D--------------------------------------------------\n",
      "Using 1985-09-27 00:00:00 for tile date 1985-09-27 00:00:00\n",
      "Processing 480296A_68--------------------------------------------------\n",
      "Could not find tile in detections 480296A_6\n",
      "Processing 4802960175E--------------------------------------------------\n"
     ]
    },
    {
     "name": "stderr",
     "output_type": "stream",
     "text": [
      "11/08/2024 10:05:50 - WARNING - rasterio._env -   CPLE_AppDefined in D:/RECTDNN/uncompress/48201C0615L.tif: _TIFFVSetField:D:/RECTDNN/uncompress/48201C0615L.tif: Null count for \"Tag 32934\" (type 4, writecount -3, passcount 1)\n",
      "11/08/2024 10:05:50 - INFO - rasterio._env -   GDAL signalled an error: err_no=1, msg='_TIFFVSetField:D:/RECTDNN/uncompress/48201C0615L.tif: Null count for \"Tag 32934\" (type 4, writecount -3, passcount 1)'\n"
     ]
    },
    {
     "name": "stdout",
     "output_type": "stream",
     "text": [
      "Using 1987-09-04 00:00:00 for tile date 1987-09-04 00:00:00\n",
      "Processing 48201C0615L--------------------------------------------------\n",
      "Using 2007-06-18 00:00:00 for tile date 2007-06-18 00:00:00\n",
      "Processing 480296A_113--------------------------------------------------\n",
      "Could not find tile in detections 480296A_11\n",
      "Processing 4802960185C--------------------------------------------------\n",
      "Could not find key C for current tile from options [0, 'D', 'E', 'B'], using closest date from all keys\n",
      "Using 1982-09-21 00:00:00 for tile date 1982-09-21 00:00:00\n",
      "Processing 480287B_44--------------------------------------------------\n",
      "Could not find tile in detections 480287B_4\n",
      "Processing 48201C0860K--------------------------------------------------\n",
      "Using 2000-04-20 00:00:00 for tile date 2000-04-20 00:00:00\n",
      "Processing 48201C0760J--------------------------------------------------\n",
      "Could not find key J for current tile from options [0, 'L', 'M', 'N'], using closest date from all keys\n",
      "Using 1996-11-23 00:00:00 for tile date 1996-11-06 00:00:00\n",
      "Processing 480287B_25--------------------------------------------------\n",
      "Could not find tile in detections 480287B_2\n",
      "Processing 4802870510D--------------------------------------------------\n",
      "Could not find date in ['Ldc udEncennnedeon', 'HARRIS COUNTY,', 'TEXAS', '(UNINCORPORATED AREAs)', 'PANEL 510 OF550', '(SEE MAP INDER EoR PANELS Not FaTATEd)', '6', 'COMMunity-paMEL NUMBER', '480287.0510 D', 'Map: REVISED:', 'SEPTERBER 27 , 1985', 'Federal Emergency Management Agency', '8']\n",
      "Processing 48201C0240J--------------------------------------------------\n",
      "Could not find key J for current tile from options [0, 'L', 'M'], using closest date from all keys\n",
      "Using 1996-11-23 00:00:00 for tile date 1996-11-08 00:00:00\n",
      "Processing 48201C0810K--------------------------------------------------\n",
      "Using 2000-04-20 00:00:00 for tile date 2000-04-20 00:00:00\n",
      "Processing 4802960085C--------------------------------------------------\n",
      "Could not find key C for current tile from options [0, 'D', 'B'], using closest date from all keys\n",
      "Using 1982-09-21 00:00:00 for tile date 1982-09-21 00:00:00\n",
      "Processing 48201C0720J--------------------------------------------------\n",
      "Using 1996-11-23 00:00:00 for tile date 1996-11-06 00:00:00\n",
      "Processing 48201C0060G--------------------------------------------------\n",
      "Could not find key G for current tile from options [0], using closest date from all keys\n",
      "Using 1990-09-28 00:00:00 for tile date 1990-09-28 00:00:00\n"
     ]
    },
    {
     "name": "stderr",
     "output_type": "stream",
     "text": [
      "11/08/2024 10:06:21 - WARNING - rasterio._env -   CPLE_AppDefined in D:/RECTDNN/uncompress/48201C0420L.tif: _TIFFVSetField:D:/RECTDNN/uncompress/48201C0420L.tif: Null count for \"Tag 32934\" (type 4, writecount -3, passcount 1)\n",
      "11/08/2024 10:06:21 - INFO - rasterio._env -   GDAL signalled an error: err_no=1, msg='_TIFFVSetField:D:/RECTDNN/uncompress/48201C0420L.tif: Null count for \"Tag 32934\" (type 4, writecount -3, passcount 1)'\n"
     ]
    },
    {
     "name": "stdout",
     "output_type": "stream",
     "text": [
      "Processing 48201C0420L--------------------------------------------------\n",
      "Using 2007-06-18 00:00:00 for tile date 2007-06-18 00:00:00\n",
      "Processing 480296A_94--------------------------------------------------\n",
      "Could not find tile in detections 480296A_9\n",
      "Processing 4802870090D--------------------------------------------------\n",
      "Using 1985-09-27 00:00:00 for tile date 1985-09-27 00:00:00\n",
      "Processing 48201C0235K--------------------------------------------------\n",
      "Using 2000-04-20 00:00:00 for tile date 2000-04-20 00:00:00\n",
      "Processing 4802960130E--------------------------------------------------\n",
      "Using 1987-09-04 00:00:00 for tile date 1987-09-04 00:00:00\n",
      "Processing 480296A_130--------------------------------------------------\n",
      "Could not find tile in detections 480296A_13\n",
      "Processing 4802870340D--------------------------------------------------\n",
      "Using 1985-09-27 00:00:00 for tile date 1985-09-27 00:00:00\n",
      "Processing 4802960015D--------------------------------------------------\n",
      "Using 1985-09-27 00:00:00 for tile date 1985-09-27 00:00:00\n",
      "Processing 480296A_84--------------------------------------------------\n",
      "Could not find tile in detections 480296A_8\n",
      "Processing 480296A_112--------------------------------------------------\n",
      "Could not find tile in detections 480296A_11\n",
      "Processing 480296A_139--------------------------------------------------\n",
      "Could not find tile in detections 480296A_13\n",
      "Processing 4802870535E--------------------------------------------------\n",
      "Could not find tile in detections 4802870535\n",
      "Processing 48201C0210G--------------------------------------------------\n",
      "Using 1990-09-28 00:00:00 for tile date 1990-09-28 00:00:00\n"
     ]
    },
    {
     "name": "stderr",
     "output_type": "stream",
     "text": [
      "11/08/2024 10:06:41 - WARNING - rasterio._env -   CPLE_AppDefined in D:/RECTDNN/uncompress/48201C1065L.tif: _TIFFVSetField:D:/RECTDNN/uncompress/48201C1065L.tif: Null count for \"Tag 32934\" (type 4, writecount -3, passcount 1)\n",
      "11/08/2024 10:06:41 - INFO - rasterio._env -   GDAL signalled an error: err_no=1, msg='_TIFFVSetField:D:/RECTDNN/uncompress/48201C1065L.tif: Null count for \"Tag 32934\" (type 4, writecount -3, passcount 1)'\n"
     ]
    },
    {
     "name": "stdout",
     "output_type": "stream",
     "text": [
      "Processing 48201C1065L--------------------------------------------------\n",
      "Could not find date in ['L4LAL ~JI 1 1', 'TEXAS', 'AND INCORPORATED AREAS', 'PANEL 1065 OF 1150', '(SEE   MAP   INDEX   FOR   FIRM   PANEL   LAYOUT}', 'CQNIAINS _', '9', 'COMMUNITY NumbeR > PANEL _= SUFFX', 'HAARIS COUNTY ,', 'UNINCORPORATED AREAS 480287 1085', 'PEARLAND, CITYOF 480077 1065', 'Notico to Usar; Tha Map Number shown bolow should be Usod', 'whon   placing   map   ordors;   the   Community   Number   showh', 'above should b0 usod on insurance applications for tho subject', 'community:', 'MAP NUMBER', '48201C1065L', 'MAP REVISED:', 'AND SEC', 'JUNE 18, 2007', 'Federal Emergency Management Agency', 'Map', 'OEPARTA']\n",
      "Processing 4802870225C--------------------------------------------------\n",
      "Could not find key C for current tile from options [0, 'D'], using closest date from all keys\n",
      "Using 1981-02-24 00:00:00 for tile date 1981-02-24 00:00:00\n",
      "Processing 48201C0165G--------------------------------------------------\n",
      "Could not find tile in detections 48201C0165\n",
      "Processing 480287B_49--------------------------------------------------\n",
      "Could not find tile in detections 480287B_4\n",
      "Processing 48201C0440J--------------------------------------------------\n",
      "Could not find key J for current tile from options ['K', 'L', 'M', 0], using closest date from all keys\n",
      "Using 1996-11-23 00:00:00 for tile date 1996-11-06 00:00:00\n"
     ]
    },
    {
     "name": "stderr",
     "output_type": "stream",
     "text": [
      "11/08/2024 10:06:52 - WARNING - rasterio._env -   CPLE_AppDefined in D:/RECTDNN/uncompress/48201C0435L.tif: _TIFFVSetField:D:/RECTDNN/uncompress/48201C0435L.tif: Null count for \"Tag 32934\" (type 4, writecount -3, passcount 1)\n",
      "11/08/2024 10:06:52 - INFO - rasterio._env -   GDAL signalled an error: err_no=1, msg='_TIFFVSetField:D:/RECTDNN/uncompress/48201C0435L.tif: Null count for \"Tag 32934\" (type 4, writecount -3, passcount 1)'\n"
     ]
    },
    {
     "name": "stdout",
     "output_type": "stream",
     "text": [
      "Processing 48201C0435L--------------------------------------------------\n",
      "Using 2007-06-18 00:00:00 for tile date 2007-06-18 00:00:00\n"
     ]
    },
    {
     "name": "stderr",
     "output_type": "stream",
     "text": [
      "11/08/2024 10:06:56 - WARNING - rasterio._env -   CPLE_AppDefined in D:/RECTDNN/uncompress/48201C1105L.tif: _TIFFVSetField:D:/RECTDNN/uncompress/48201C1105L.tif: Null count for \"Tag 32934\" (type 4, writecount -3, passcount 1)\n",
      "11/08/2024 10:06:56 - INFO - rasterio._env -   GDAL signalled an error: err_no=1, msg='_TIFFVSetField:D:/RECTDNN/uncompress/48201C1105L.tif: Null count for \"Tag 32934\" (type 4, writecount -3, passcount 1)'\n"
     ]
    },
    {
     "name": "stdout",
     "output_type": "stream",
     "text": [
      "Processing 48201C1105L--------------------------------------------------\n",
      "Using 2007-06-18 00:00:00 for tile date 2007-06-18 00:00:00\n",
      "Processing 4802870305D--------------------------------------------------\n",
      "Using 1985-09-27 00:00:00 for tile date 1985-09-27 00:00:00\n",
      "Processing 4802870160E--------------------------------------------------\n",
      "Using 1988-02-04 00:00:00 for tile date 1988-02-04 00:00:00\n",
      "Processing 4802870380E--------------------------------------------------\n",
      "Using 1988-02-04 00:00:00 for tile date 1988-02-04 00:00:00\n",
      "Processing 48201C0905M--------------------------------------------------\n",
      "Using 2017-01-06 00:00:00 for tile date 2017-01-06 00:00:00\n",
      "Processing 4802960185D--------------------------------------------------\n",
      "Using 1985-09-27 00:00:00 for tile date 1985-09-27 00:00:00\n",
      "Processing 48201C0735K--------------------------------------------------\n",
      "Using 2000-04-20 00:00:00 for tile date 2000-04-20 00:00:00\n"
     ]
    },
    {
     "name": "stderr",
     "output_type": "stream",
     "text": [
      "11/08/2024 10:07:13 - WARNING - rasterio._env -   CPLE_AppDefined in D:/RECTDNN/uncompress/48201C0690L.tif: _TIFFVSetField:D:/RECTDNN/uncompress/48201C0690L.tif: Null count for \"Tag 32934\" (type 4, writecount -3, passcount 1)\n",
      "11/08/2024 10:07:13 - INFO - rasterio._env -   GDAL signalled an error: err_no=1, msg='_TIFFVSetField:D:/RECTDNN/uncompress/48201C0690L.tif: Null count for \"Tag 32934\" (type 4, writecount -3, passcount 1)'\n"
     ]
    },
    {
     "name": "stdout",
     "output_type": "stream",
     "text": [
      "Processing 48201C0690L--------------------------------------------------\n",
      "Could not find date in ['4M Mlij1', 'TEXAS', 'AND INCORPORATED AREAS', 'PANEL 690 OF 1150', '(SEE   MAP   INDEX   FOR   FIRM   PANEL   LAYOUT)', 'CONTAINS:', 'J', 'COMMUNITY NUMBER > PANEL  SVFFX', 'WW', 'HOUSTON, CITY OF 480206 0600', 'Notice to Usor: The Map Number shown balow should be usod', 'when', 'placing   map   orders;   the   Community   Number   shown', 'above should be usod on insuranca applications for the subject', 'communitv', 'MAP NUMBER', '48201CO690L', 'MAP REVISED:', 'AND', 'JUNE 18, 2007', 'Federal Emergency Management Agency', 'OEPARTM', 'SC']\n",
      "Processing 4802870240D--------------------------------------------------\n",
      "Using 1985-09-27 00:00:00 for tile date 1985-09-27 00:00:00\n",
      "Processing 4802870360D--------------------------------------------------\n",
      "Using 1985-09-27 00:00:00 for tile date 1985-09-27 00:00:00\n",
      "Processing 48201C0160J--------------------------------------------------\n",
      "Could not find date in ['HARRIS COUNTY,', 'TEXAS AND', 'INCORPORATED AREAS', 'PANEL 160 OF 1135', '(SEE MAP INDEX FOR PANELS NOT PRINTED}', 'CCNTAINS:', 'COMMUNITY NUMBER', 'FAVEL   SUFFIX', 'Harais COUNTY,', 'CNNCORPORATED: AREAS  480287   01G0', 'HOUSTON, CllY OF; & 480296  0160', 'Up', 'MAP NUMBER', '48201C0160 )', 'MAP REVISED:', '45', 'NOVEMBER 6, 1996', 'Federal Emergency Management Agency']\n",
      "Processing 48201C0865K--------------------------------------------------\n",
      "Using 2000-04-20 00:00:00 for tile date 2000-04-20 00:00:00\n",
      "Processing 480287B_81--------------------------------------------------\n",
      "Could not find tile in detections 480287B_8\n",
      "Processing 48201C0490J--------------------------------------------------\n",
      "Could not find key J for current tile from options [0, 'L'], using closest date from all keys\n",
      "Using 2000-04-20 00:00:00 for tile date 1996-11-06 00:00:00\n",
      "Processing 480296A_8--------------------------------------------------\n"
     ]
    },
    {
     "name": "stderr",
     "output_type": "stream",
     "text": [
      "11/08/2024 10:07:31 - WARNING - rasterio._env -   CPLE_AppDefined in D:/RECTDNN/uncompress/48201C0710L.tif: _TIFFVSetField:D:/RECTDNN/uncompress/48201C0710L.tif: Null count for \"Tag 32934\" (type 4, writecount -3, passcount 1)\n",
      "11/08/2024 10:07:31 - INFO - rasterio._env -   GDAL signalled an error: err_no=1, msg='_TIFFVSetField:D:/RECTDNN/uncompress/48201C0710L.tif: Null count for \"Tag 32934\" (type 4, writecount -3, passcount 1)'\n"
     ]
    },
    {
     "name": "stdout",
     "output_type": "stream",
     "text": [
      "Could not find tile in detections 480296A_\n",
      "Processing 48201C0710L--------------------------------------------------\n",
      "Using 2007-06-18 00:00:00 for tile date 2007-06-18 00:00:00\n",
      "Processing 4802870130D--------------------------------------------------\n"
     ]
    },
    {
     "name": "stderr",
     "output_type": "stream",
     "text": [
      "11/08/2024 10:07:37 - WARNING - rasterio._env -   CPLE_AppDefined in D:/RECTDNN/uncompress/48201C0895L.tif: _TIFFVSetField:D:/RECTDNN/uncompress/48201C0895L.tif: Null count for \"Tag 32934\" (type 4, writecount -3, passcount 1)\n",
      "11/08/2024 10:07:37 - INFO - rasterio._env -   GDAL signalled an error: err_no=1, msg='_TIFFVSetField:D:/RECTDNN/uncompress/48201C0895L.tif: Null count for \"Tag 32934\" (type 4, writecount -3, passcount 1)'\n"
     ]
    },
    {
     "name": "stdout",
     "output_type": "stream",
     "text": [
      "Using 1985-09-27 00:00:00 for tile date 1985-09-27 00:00:00\n",
      "Processing 48201C0895L--------------------------------------------------\n",
      "Using 2007-06-18 00:00:00 for tile date 2007-06-18 00:00:00\n",
      "Processing 4802960135B--------------------------------------------------\n",
      "Using 1979-12-11 00:00:00 for tile date 1979-12-11 00:00:00\n",
      "Processing 48201C0290H--------------------------------------------------\n",
      "Using 1992-09-30 00:00:00 for tile date 1992-09-30 00:00:00\n",
      "Processing 48201C0420J--------------------------------------------------\n",
      "Could not find key J for current tile from options ['K', 'L', 'M', 'N', 0], using closest date from all keys\n",
      "Using 1996-11-23 00:00:00 for tile date 1996-11-08 00:00:00\n",
      "Processing 480296A_43--------------------------------------------------\n",
      "Could not find tile in detections 480296A_4\n",
      "Processing 480287B_24--------------------------------------------------\n",
      "Could not find tile in detections 480287B_2\n",
      "Processing 480296A_9--------------------------------------------------\n",
      "Could not find tile in detections 480296A_\n",
      "Processing 48201C0295G--------------------------------------------------\n",
      "Could not find key G for current tile from options [0, 'L', 'M'], using closest date from all keys\n",
      "Using 1996-11-23 00:00:00 for tile date 1990-09-28 00:00:00\n",
      "Processing 4802960070B--------------------------------------------------\n",
      "Using 1979-12-11 00:00:00 for tile date 1979-12-11 00:00:00\n",
      "Processing 48201C0235J--------------------------------------------------\n",
      "Could not find key J for current tile from options ['K', 'L', 'M', 0], using closest date from all keys\n",
      "Using 1996-11-23 00:00:00 for tile date 1996-11-06 00:00:00\n",
      "Processing 4802960020B--------------------------------------------------\n",
      "Using 1979-12-11 00:00:00 for tile date 1979-12-11 00:00:00\n",
      "Processing 48201C1010J--------------------------------------------------\n",
      "Using 1996-11-23 00:00:00 for tile date 1996-11-08 00:00:00\n",
      "Processing 480287B_76--------------------------------------------------\n"
     ]
    },
    {
     "name": "stderr",
     "output_type": "stream",
     "text": [
      "11/08/2024 10:08:06 - WARNING - rasterio._env -   CPLE_AppDefined in D:/RECTDNN/uncompress/48201C0730L.tif: _TIFFVSetField:D:/RECTDNN/uncompress/48201C0730L.tif: Null count for \"Tag 32934\" (type 4, writecount -3, passcount 1)\n",
      "11/08/2024 10:08:06 - INFO - rasterio._env -   GDAL signalled an error: err_no=1, msg='_TIFFVSetField:D:/RECTDNN/uncompress/48201C0730L.tif: Null count for \"Tag 32934\" (type 4, writecount -3, passcount 1)'\n"
     ]
    },
    {
     "name": "stdout",
     "output_type": "stream",
     "text": [
      "Could not find tile in detections 480287B_7\n",
      "Processing 48201C0730L--------------------------------------------------\n",
      "Using 2007-06-18 00:00:00 for tile date 2007-06-18 00:00:00\n",
      "Processing 480287B_78--------------------------------------------------\n",
      "Could not find tile in detections 480287B_7\n",
      "Processing 4802870395E--------------------------------------------------\n",
      "Using 1988-02-04 00:00:00 for tile date 1988-02-04 00:00:00\n",
      "Processing 48201C0210J--------------------------------------------------\n",
      "Using 1996-11-23 00:00:00 for tile date 1996-11-06 00:00:00\n"
     ]
    },
    {
     "name": "stderr",
     "output_type": "stream",
     "text": [
      "11/08/2024 10:08:16 - WARNING - rasterio._env -   CPLE_AppDefined in D:/RECTDNN/uncompress/48201C0515L.tif: _TIFFVSetField:D:/RECTDNN/uncompress/48201C0515L.tif: Null count for \"Tag 32934\" (type 4, writecount -3, passcount 1)\n",
      "11/08/2024 10:08:16 - INFO - rasterio._env -   GDAL signalled an error: err_no=1, msg='_TIFFVSetField:D:/RECTDNN/uncompress/48201C0515L.tif: Null count for \"Tag 32934\" (type 4, writecount -3, passcount 1)'\n"
     ]
    },
    {
     "name": "stdout",
     "output_type": "stream",
     "text": [
      "Processing 48201C0515L--------------------------------------------------\n",
      "Could not find date in ['LL HJJ1', 'TEXAS', 'AND INCORPORATED AREAS', 'PANEL 515 OF 1150', '(SEE   MAP   INDEX   FOR   FIRM   PANEL  LAYOUT)', 'CQNTAINS_', '9', 'COMMUNITY_ NuMBER = PANEL   SUFFX', '2', 'HARISCCOPORATED AREAS} 480287  0515', 'Notica to Usar: Tha Map Number shown bolow should bo usad', 'when', 'placing   map   orders;   tho  Community   Number   shown', 'above should be usad on insuranco applications for the subjact', 'community', 'MAP NUMBER', '48201C0515L', 'MAP REVISED:', 'AND', 'JUNE 18, 2007', 'Federal Emergency Management Agency', 'Tho', 'SECUR']\n",
      "Processing 4802960175C--------------------------------------------------\n"
     ]
    },
    {
     "name": "stderr",
     "output_type": "stream",
     "text": [
      "11/08/2024 10:08:22 - WARNING - rasterio._env -   CPLE_AppDefined in D:/RECTDNN/uncompress/48201C1005L.tif: _TIFFVSetField:D:/RECTDNN/uncompress/48201C1005L.tif: Null count for \"Tag 32934\" (type 4, writecount -3, passcount 1)\n",
      "11/08/2024 10:08:22 - INFO - rasterio._env -   GDAL signalled an error: err_no=1, msg='_TIFFVSetField:D:/RECTDNN/uncompress/48201C1005L.tif: Null count for \"Tag 32934\" (type 4, writecount -3, passcount 1)'\n"
     ]
    },
    {
     "name": "stdout",
     "output_type": "stream",
     "text": [
      "Using 1982-09-21 00:00:00 for tile date 1982-09-21 00:00:00\n",
      "Processing 48201C1005L--------------------------------------------------\n",
      "Using 2007-06-18 00:00:00 for tile date 2007-06-18 00:00:00\n",
      "Processing 48201C0205G--------------------------------------------------\n",
      "Could not find key G for current tile from options ['L', 'J'], using closest date from all keys\n",
      "Using 1996-11-23 00:00:00 for tile date 1990-09-28 00:00:00\n",
      "Processing 480296A_136--------------------------------------------------\n"
     ]
    },
    {
     "name": "stderr",
     "output_type": "stream",
     "text": [
      "11/08/2024 10:08:31 - WARNING - rasterio._env -   CPLE_AppDefined in D:/RECTDNN/uncompress/48201C0390L.tif: _TIFFVSetField:D:/RECTDNN/uncompress/48201C0390L.tif: Null count for \"Tag 32934\" (type 4, writecount -3, passcount 1)\n",
      "11/08/2024 10:08:31 - INFO - rasterio._env -   GDAL signalled an error: err_no=1, msg='_TIFFVSetField:D:/RECTDNN/uncompress/48201C0390L.tif: Null count for \"Tag 32934\" (type 4, writecount -3, passcount 1)'\n"
     ]
    },
    {
     "name": "stdout",
     "output_type": "stream",
     "text": [
      "Could not find tile in detections 480296A_13\n",
      "Processing 48201C0390L--------------------------------------------------\n",
      "Could not find date in ['TEXAS', 'AND INCORPORATED AREAS', 'PANEL 390 OF 1150', '(SEE   MAP   INDEX   FOR   FIRM   PANEL  LAYOUT)', 'CONTAINS', 'COMMUNITY NUMBER > PANEL _> SUFEX', '1', 'HARRINCCOPORVATED AREAS 480287 } 0390', 'M', 'LD', 'Notice to Usor: Tha Map Number shown below should be Usod', 'when   placing   map  orders;   the  Community   Number   shown', 'above should b0 usod on insurance applications for the subject', 'community-', 'MAP NUMBER', '48201C0390L', 'MAP REVISED:', 'TEIT', 'AND', 'JUNE 18, 2007', 'Federal Emergency Managerent Agency', 'KQEPARTM', 'SEC ']\n"
     ]
    },
    {
     "name": "stderr",
     "output_type": "stream",
     "text": [
      "11/08/2024 10:08:35 - WARNING - rasterio._env -   CPLE_AppDefined in D:/RECTDNN/uncompress/48201C0670L.tif: _TIFFVSetField:D:/RECTDNN/uncompress/48201C0670L.tif: Null count for \"Tag 32934\" (type 4, writecount -3, passcount 1)\n",
      "11/08/2024 10:08:35 - INFO - rasterio._env -   GDAL signalled an error: err_no=1, msg='_TIFFVSetField:D:/RECTDNN/uncompress/48201C0670L.tif: Null count for \"Tag 32934\" (type 4, writecount -3, passcount 1)'\n"
     ]
    },
    {
     "name": "stdout",
     "output_type": "stream",
     "text": [
      "Processing 48201C0670L--------------------------------------------------\n",
      "Could not find date in ['L444AD  JJi 1 1', 'TEXAS', 'AND INCORPORATED AREAS', 'PANEL 670 OF 1150', '{SEE   MAP   INDEX   FOR   FIRM   PANEL ` LAYOUT)', 'CONTAINS:', '35', 'COMMUNITY NumbER > PANEL _> suFFX', 'HOUSTON, CITY OF 480206 0670', '3', 'WD', 'W', 'Notice to Usor: The Map Number shown below should be used', 'when   placing   map  ordors;  the   Community   Number   shown', 'above should be usod on insurance applications for the subject', 'community:', 'MAP NUMBER', '48201C0670L', 'MAP REVISED:', 'MTTrI', 'JUNE 18 , 2007', 'MITTTI', 'Federal Emergency Management Agency', 'HHLT', 'OEPARTM', 'SEC ', 'AND']\n",
      "Processing 480296A_7--------------------------------------------------\n",
      "Could not find tile in detections 480296A_\n",
      "Processing 480296A_85--------------------------------------------------\n",
      "Could not find tile in detections 480296A_8\n",
      "Processing 480296A_114--------------------------------------------------\n",
      "Could not find tile in detections 480296A_11\n",
      "Processing 480287B_33--------------------------------------------------\n",
      "Could not find tile in detections 480287B_3\n",
      "Processing 4802870295F--------------------------------------------------\n",
      "Using 1988-02-04 00:00:00 for tile date 1988-02-04 00:00:00\n",
      "Processing 480287B_10--------------------------------------------------\n",
      "Could not find tile in detections 480287B_1\n",
      "Processing 48201C0805J--------------------------------------------------\n",
      "Could not find key J for current tile from options [0, 'L'], using closest date from all keys\n",
      "Using 1996-11-23 00:00:00 for tile date 1996-11-06 00:00:00\n"
     ]
    },
    {
     "name": "stderr",
     "output_type": "stream",
     "text": [
      "11/08/2024 10:08:49 - WARNING - rasterio._env -   CPLE_AppDefined in D:/RECTDNN/uncompress/48201C0905L.tif: _TIFFVSetField:D:/RECTDNN/uncompress/48201C0905L.tif: Null count for \"Tag 32934\" (type 4, writecount -3, passcount 1)\n",
      "11/08/2024 10:08:49 - INFO - rasterio._env -   GDAL signalled an error: err_no=1, msg='_TIFFVSetField:D:/RECTDNN/uncompress/48201C0905L.tif: Null count for \"Tag 32934\" (type 4, writecount -3, passcount 1)'\n"
     ]
    },
    {
     "name": "stdout",
     "output_type": "stream",
     "text": [
      "Processing 48201C0905L--------------------------------------------------\n",
      "Could not find date in ['TEXAS', 'AND INCORPORATED AREAS', 'PANEL 905 OF 1150', '(SEE   MAP   INDEX   FOR   FIRM   PANEL   LAYOUT}', 'CONTAINS _', 'COMMUNITY NUMBER _> PANEL _= SuFAX', '9', 'HOUSTON, CIY OF 480206 C005', 'GALENA PARK CITY OF 480283 0005', 'HapRIS COUNTY,', 'UNINCORPORATED AREAS 480287 0005', 'PASADENA CITY OF 480307 0005', 'WD', 'LlLL', 'QD', 'Notica to User: Tho Map Number shown below should be used', 'whon   placing   map   orders;   the Community   Mumber   shown', 'above should be usod on insurance applications tor tha subject', 'communiv', 'MAP NUMBER', '48201C0905L', 'MAP REVISED:', 'AND', 'JUNE 18 , 2007', 'Federal Emergency Management Agency', 'DEPART', 'SC']\n",
      "Processing 480296A_10--------------------------------------------------\n",
      "Could not find tile in detections 480296A_1\n",
      "Processing 48201C0840J--------------------------------------------------\n",
      "Could not find date in ['HARRIS COUNTY', 'TEXAS AND', 'INCORPORATED   AREAS', 'PANEL 840 UF 1135', '(SEE MAP INDEX EOR PANELS NoT PRINTED)', 'CONTAINS:', 'CCMMUNTY~NUMBFR   PANFL   SuffIX', 'FonT BEND', 'UoNC 3 481272  084)', 'KAR3IS COUNT', 'UNINCURPORATFO AAEAS  483237   co', '#OUSTCN Gietr* 480291;  6840', '0)', 'MAP NUMBER', '48201C0840 )', 'MAp REVISED:', '29937\\'30\"', 'NOVEMBER 6,1996', '45\"', 'Federal Emergency Management Agency']\n",
      "Could not find tile extension in detections 48201C0840 - J, using default K from options dict_keys(['K', 'L', 0])\n"
     ]
    },
    {
     "name": "stderr",
     "output_type": "stream",
     "text": [
      "11/08/2024 10:08:57 - WARNING - rasterio._env -   CPLE_AppDefined in D:/RECTDNN/uncompress/48201C0595L.tif: _TIFFVSetField:D:/RECTDNN/uncompress/48201C0595L.tif: Null count for \"Tag 32934\" (type 4, writecount -3, passcount 1)\n",
      "11/08/2024 10:08:57 - INFO - rasterio._env -   GDAL signalled an error: err_no=1, msg='_TIFFVSetField:D:/RECTDNN/uncompress/48201C0595L.tif: Null count for \"Tag 32934\" (type 4, writecount -3, passcount 1)'\n"
     ]
    },
    {
     "name": "stdout",
     "output_type": "stream",
     "text": [
      "Processing 48201C0595L--------------------------------------------------\n",
      "Using 2013-10-16 00:00:00 for tile date 2007-06-18 00:00:00\n",
      "Processing 4802960055D--------------------------------------------------\n"
     ]
    },
    {
     "name": "stderr",
     "output_type": "stream",
     "text": [
      "11/08/2024 10:09:03 - WARNING - rasterio._env -   CPLE_AppDefined in D:/RECTDNN/uncompress/48201C0235L.tif: _TIFFVSetField:D:/RECTDNN/uncompress/48201C0235L.tif: Null count for \"Tag 32934\" (type 4, writecount -3, passcount 1)\n",
      "11/08/2024 10:09:03 - INFO - rasterio._env -   GDAL signalled an error: err_no=1, msg='_TIFFVSetField:D:/RECTDNN/uncompress/48201C0235L.tif: Null count for \"Tag 32934\" (type 4, writecount -3, passcount 1)'\n"
     ]
    },
    {
     "name": "stdout",
     "output_type": "stream",
     "text": [
      "Using 1985-09-27 00:00:00 for tile date 1985-09-27 00:00:00\n",
      "Processing 48201C0235L--------------------------------------------------\n",
      "Using 2007-06-18 00:00:00 for tile date 2007-06-18 00:00:00\n",
      "Processing 4802960170B--------------------------------------------------\n",
      "Using 1979-12-11 00:00:00 for tile date 1979-11-08 00:00:00\n",
      "Processing 480296A_116--------------------------------------------------\n",
      "COULD NOT FIND BOUNDS, USING IMAGE EXTENTS 480296A_116\n",
      "Could not find tile in detections 480296A_11\n",
      "Processing 48201C0065G--------------------------------------------------\n",
      "Could not find key G for current tile from options [0, 'L'], using closest date from all keys\n",
      "Using 1996-11-23 00:00:00 for tile date 1990-09-28 00:00:00\n"
     ]
    },
    {
     "name": "stderr",
     "output_type": "stream",
     "text": [
      "11/08/2024 10:09:13 - WARNING - rasterio._env -   CPLE_AppDefined in D:/RECTDNN/uncompress/48201C0955L.tif: _TIFFVSetField:D:/RECTDNN/uncompress/48201C0955L.tif: Null count for \"Tag 32934\" (type 4, writecount -3, passcount 1)\n",
      "11/08/2024 10:09:13 - INFO - rasterio._env -   GDAL signalled an error: err_no=1, msg='_TIFFVSetField:D:/RECTDNN/uncompress/48201C0955L.tif: Null count for \"Tag 32934\" (type 4, writecount -3, passcount 1)'\n"
     ]
    },
    {
     "name": "stdout",
     "output_type": "stream",
     "text": [
      "Processing 48201C0955L--------------------------------------------------\n",
      "Could not find date in ['144440 JUI 1 1', 'TEXAS', 'AND INCORPORATED AREAS', 'PANEL 955 OF 1150', '(SEE   MAP   INDEX   FOR   FIRM   PANEL   LAYOUT)', 'CONTAINS _', 'COMMUNITY NUMBER _> PANEL _  SUEFX', '8', 'BAYTOW, CITY OF 485456 0855', 'MORGANS POINT, CITY OF 480305 0855', 'HARRIS COUNTY,', 'UNINCORPORATED AREAS 480287 0955', 'LA PORTE CITY OF 485487 0855', 'I', 'WWD', 'QD', 'Notice to Usor: Tha Map Number shown below should be Usad', 'when  placing   map  ordors;  tho  Community   Number   shown', 'abova should bo Usod on insurance applications for the subject', 'communitv-', 'MAP NUMBER', '48201C0955L', 'MAP REVISED:', 'AND', 'JUNE 18 , 2007', 'Federal Emergency Management Agency', 'DEPARTA ', 'SECUR']\n"
     ]
    },
    {
     "name": "stderr",
     "output_type": "stream",
     "text": [
      "11/08/2024 10:09:18 - WARNING - rasterio._env -   CPLE_AppDefined in D:/RECTDNN/uncompress/48201C0585L.tif: _TIFFVSetField:D:/RECTDNN/uncompress/48201C0585L.tif: Null count for \"Tag 32934\" (type 4, writecount -3, passcount 1)\n",
      "11/08/2024 10:09:18 - INFO - rasterio._env -   GDAL signalled an error: err_no=1, msg='_TIFFVSetField:D:/RECTDNN/uncompress/48201C0585L.tif: Null count for \"Tag 32934\" (type 4, writecount -3, passcount 1)'\n"
     ]
    },
    {
     "name": "stdout",
     "output_type": "stream",
     "text": [
      "Processing 48201C0585L--------------------------------------------------\n",
      "Using 2007-06-18 00:00:00 for tile date 2007-06-18 00:00:00\n",
      "Processing 480296A_51--------------------------------------------------\n"
     ]
    },
    {
     "name": "stderr",
     "output_type": "stream",
     "text": [
      "11/08/2024 10:09:23 - WARNING - rasterio._env -   CPLE_AppDefined in D:/RECTDNN/uncompress/48201C0405L.tif: _TIFFVSetField:D:/RECTDNN/uncompress/48201C0405L.tif: Null count for \"Tag 32934\" (type 4, writecount -3, passcount 1)\n",
      "11/08/2024 10:09:23 - INFO - rasterio._env -   GDAL signalled an error: err_no=1, msg='_TIFFVSetField:D:/RECTDNN/uncompress/48201C0405L.tif: Null count for \"Tag 32934\" (type 4, writecount -3, passcount 1)'\n"
     ]
    },
    {
     "name": "stdout",
     "output_type": "stream",
     "text": [
      "Could not find tile in detections 480296A_5\n",
      "Processing 48201C0405L--------------------------------------------------\n",
      "Could not find key L for current tile from options [0, 'M', 'J'], using closest date from all keys\n",
      "Using 2013-10-16 00:00:00 for tile date 2007-06-18 00:00:00\n",
      "Processing 48201C0660K--------------------------------------------------\n",
      "Could not find date in ['np Taindd en', 'HARRIS  COUNTY', 'TEXAS AND', 'INCORPORATED  AREAS', 'PANEL 660 OF 4135', '(SEE MAP INDEX FOR PANELS NOT PRINTED}', 'CONTAINS:', 'COMMUNTY _ NUMBER   PANEL   SUFFX', 'HCUSTON, Ciy OF 48o286   CGGC', '0', 'Map  NUMBER', '48201C0660 K', 'Map REVISED:', '1048\\'45\"', 'APRIL 20, 2000', 'Federal Emergency Management Agency']\n",
      "Processing 480296A_132--------------------------------------------------\n",
      "Could not find tile in detections 480296A_13\n",
      "Processing 48201C0140J--------------------------------------------------\n",
      "Could not find key J for current tile from options [0, 'L'], using closest date from all keys\n",
      "Using 1996-11-23 00:00:00 for tile date 1996-11-06 00:00:00\n",
      "Processing 48201C0305K--------------------------------------------------\n",
      "Using 2000-04-20 00:00:00 for tile date 2000-04-20 00:00:00\n"
     ]
    },
    {
     "name": "stderr",
     "output_type": "stream",
     "text": [
      "11/08/2024 10:09:37 - WARNING - rasterio._env -   CPLE_AppDefined in D:/RECTDNN/uncompress/48201C0740L.tif: _TIFFVSetField:D:/RECTDNN/uncompress/48201C0740L.tif: Null count for \"Tag 32934\" (type 4, writecount -3, passcount 1)\n",
      "11/08/2024 10:09:37 - INFO - rasterio._env -   GDAL signalled an error: err_no=1, msg='_TIFFVSetField:D:/RECTDNN/uncompress/48201C0740L.tif: Null count for \"Tag 32934\" (type 4, writecount -3, passcount 1)'\n"
     ]
    },
    {
     "name": "stdout",
     "output_type": "stream",
     "text": [
      "Processing 48201C0740L--------------------------------------------------\n",
      "Using 2007-06-18 00:00:00 for tile date 2007-06-18 00:00:00\n",
      "Processing 480296A_137--------------------------------------------------\n",
      "Could not find tile in detections 480296A_13\n",
      "Processing 48201C0810J--------------------------------------------------\n",
      "Could not find key J for current tile from options ['K', 'L', 0], using closest date from all keys\n",
      "Using 1996-11-23 00:00:00 for tile date 1996-11-06 00:00:00\n"
     ]
    },
    {
     "name": "stderr",
     "output_type": "stream",
     "text": [
      "11/08/2024 10:09:46 - WARNING - rasterio._env -   CPLE_AppDefined in D:/RECTDNN/uncompress/48201C0845L.tif: _TIFFVSetField:D:/RECTDNN/uncompress/48201C0845L.tif: Null count for \"Tag 32934\" (type 4, writecount -3, passcount 1)\n",
      "11/08/2024 10:09:46 - INFO - rasterio._env -   GDAL signalled an error: err_no=1, msg='_TIFFVSetField:D:/RECTDNN/uncompress/48201C0845L.tif: Null count for \"Tag 32934\" (type 4, writecount -3, passcount 1)'\n"
     ]
    },
    {
     "name": "stdout",
     "output_type": "stream",
     "text": [
      "Processing 48201C0845L--------------------------------------------------\n",
      "Using 2007-06-18 00:00:00 for tile date 2007-06-18 00:00:00\n",
      "Processing 48201C0985J--------------------------------------------------\n",
      "Could not find key J for current tile from options [0, 'L', 'M'], using closest date from all keys\n",
      "Using 1996-11-23 00:00:00 for tile date 1996-11-06 00:00:00\n",
      "Processing 4802960005C--------------------------------------------------\n",
      "Could not find date in ['CITY O0', 'U', 'HOUSTON;', 'TEXAS', 'HARRIS COUNTY', 'FORT BEND COUNTY ,', 'MONTGOMERY', 'COUNTY', 'PANEL 5 OF 195', '(SEE MAP INDEXAOR PANELS NoT', 'PNTED)', 'COMMUnITY-PAMEL NUMBER', '480296 0005 C', 'Map REVISED:', 'SERTEMBER 27 , 1985', 'Federal Emergency Management Agency', '8', '8']\n",
      "Processing 480296A_110--------------------------------------------------\n",
      "Could not find tile in detections 480296A_11\n",
      "Processing 480296A_129--------------------------------------------------\n",
      "Could not find tile in detections 480296A_12\n",
      "Processing 480296A_54--------------------------------------------------\n",
      "Could not find tile in detections 480296A_5\n",
      "Processing 480287B_54--------------------------------------------------\n",
      "Could not find tile in detections 480287B_5\n",
      "Processing 48201C0280G--------------------------------------------------\n",
      "Could not find key G for current tile from options [0, 'L'], using closest date from all keys\n",
      "Using 1990-09-28 00:00:00 for tile date 1980-09-28 00:00:00\n",
      "Using 1990-09-28 00:00:00 for tile date 1980-09-28 00:00:00\n",
      "CLOSEST DATE IN KEY IS TOO FAR (3652 days), using general instead (1990-09-28 00:00:00)\n",
      "Processing 4802870020D--------------------------------------------------\n",
      "Using 1985-09-27 00:00:00 for tile date 1985-09-27 00:00:00\n",
      "Processing 480287B_12--------------------------------------------------\n",
      "Could not find tile in detections 480287B_1\n",
      "Processing 480296A_77--------------------------------------------------\n",
      "Could not find tile in detections 480296A_7\n",
      "Processing 480296A_76--------------------------------------------------\n",
      "Could not find tile in detections 480296A_7\n",
      "Processing 480287B_69--------------------------------------------------\n"
     ]
    },
    {
     "name": "stderr",
     "output_type": "stream",
     "text": [
      "11/08/2024 10:10:07 - WARNING - rasterio._env -   CPLE_AppDefined in D:/RECTDNN/uncompress/48201C0715L.tif: _TIFFVSetField:D:/RECTDNN/uncompress/48201C0715L.tif: Null count for \"Tag 32934\" (type 4, writecount -3, passcount 1)\n",
      "11/08/2024 10:10:07 - INFO - rasterio._env -   GDAL signalled an error: err_no=1, msg='_TIFFVSetField:D:/RECTDNN/uncompress/48201C0715L.tif: Null count for \"Tag 32934\" (type 4, writecount -3, passcount 1)'\n"
     ]
    },
    {
     "name": "stdout",
     "output_type": "stream",
     "text": [
      "Could not find tile in detections 480287B_6\n",
      "Processing 48201C0715L--------------------------------------------------\n",
      "Using 2007-06-18 00:00:00 for tile date 2007-06-18 00:00:00\n",
      "Processing 480287B_32--------------------------------------------------\n",
      "Could not find tile in detections 480287B_3\n",
      "Processing 48201C0745K--------------------------------------------------\n",
      "Using 2000-04-20 00:00:00 for tile date 2000-04-20 00:00:00\n",
      "Processing 4802960100B--------------------------------------------------\n",
      "Could not find tile in detections 4802960100\n",
      "Processing 4802870250C--------------------------------------------------\n",
      "Could not find key C for current tile from options [0], using closest date from all keys\n",
      "Using 1981-02-24 00:00:00 for tile date 1981-02-24 00:00:00\n",
      "Processing 48201C0135G--------------------------------------------------\n",
      "COULD NOT FIND BOUNDS, USING IMAGE EXTENTS 48201C0135G\n",
      "Could not find tile in detections 48201C0135\n",
      "Processing 4802960145D--------------------------------------------------\n",
      "Using 1985-09-27 00:00:00 for tile date 1985-09-27 00:00:00\n",
      "Processing 4802870275C--------------------------------------------------\n",
      "Using 1981-02-24 00:00:00 for tile date 1981-02-24 00:00:00\n",
      "Processing 48201C1045J--------------------------------------------------\n",
      "Could not find date in ['HARRIS COUNTY,', 'TEXAS AND', 'INCORPORATED AREAS', 'PANEL 1045 OF 1135', 'ISEE MAP INDEX FCK PANELS NOT PRINTED}', 'CONTANS:', 'COMMUNTY .\"NNUKBER   PANEL   SUFFIX', 'HARRiS COUMY', 'LNINCORPORATED AREAS  420z87 1045', 'PEARLANDCY OF 480877  1045', 'Un', 'MAp NUMBER', '48201C1045 }', 'Map REVISED:', 'NOVEMBER 6, 4996', 'Federal Emergency MManagement Agency']\n",
      "Could not find tile extension in detections 48201C1045 - J, using default K from options dict_keys(['K', 'L', 0])\n",
      "Processing 4802960185E--------------------------------------------------\n",
      "Using 1987-09-04 00:00:00 for tile date 1987-09-04 00:00:00\n",
      "Processing 4802870375C--------------------------------------------------\n",
      "Could not find key C for current tile from options [0], using closest date from all keys\n",
      "Using 1981-02-24 00:00:00 for tile date 1981-02-24 00:00:00\n",
      "Processing 48201C0335G--------------------------------------------------\n",
      "Could not find date in ['HARRIS CQUNTX ,', 'TEXAS AND', 'INCORPORATED ARES', 'PANEL 335 EE2C0', '(see MAP index7oeANELS Not #inteE', 'CONIMNS', 'comMunW WmI', 'OLEM paar CIy U2 % 440z9|', 'Poril ct 0 & Ri', 'Pasadlt: Ciy Q 4347768 40j01', 'WancOHPOAAI: Ws \"   Xaqwa:', '8', 'L', 'Maps WABER', '\"462urna35 6', 'Effeeve DATE:', 'SEPTEMRE 229 , 1990', 'Federiaenrgcncy Managcmcnt Aecncy', '6']\n",
      "Could not find tile extension in detections 48201C0335 - G, using default 0 from options dict_keys([0, 'L', 'H'])\n",
      "Processing 48201C0620J--------------------------------------------------\n",
      "Could not find key J for current tile from options [0, 'L'], using closest date from all keys\n",
      "Using 1996-11-23 00:00:00 for tile date 1996-11-06 00:00:00\n",
      "Processing 4802870255E--------------------------------------------------\n"
     ]
    },
    {
     "name": "stderr",
     "output_type": "stream",
     "text": [
      "11/08/2024 10:10:33 - WARNING - rasterio._env -   CPLE_AppDefined in D:/RECTDNN/uncompress/48201C0245L.tif: _TIFFVSetField:D:/RECTDNN/uncompress/48201C0245L.tif: Null count for \"Tag 32934\" (type 4, writecount -3, passcount 1)\n",
      "11/08/2024 10:10:33 - INFO - rasterio._env -   GDAL signalled an error: err_no=1, msg='_TIFFVSetField:D:/RECTDNN/uncompress/48201C0245L.tif: Null count for \"Tag 32934\" (type 4, writecount -3, passcount 1)'\n"
     ]
    },
    {
     "name": "stdout",
     "output_type": "stream",
     "text": [
      "Could not find tile in detections 4802870255\n",
      "Processing 48201C0245L--------------------------------------------------\n",
      "Using 2007-06-18 00:00:00 for tile date 2007-06-18 00:00:00\n",
      "Processing 48201C0070G--------------------------------------------------\n",
      "Using 1992-09-30 00:00:00 for tile date 1990-09-28 00:00:00\n",
      "Processing 48201C0205J--------------------------------------------------\n",
      "Using 1996-11-23 00:00:00 for tile date 1996-11-06 00:00:00\n",
      "Processing 48201C0310H--------------------------------------------------\n",
      "Could not find key H for current tile from options [0, 'L', 'G'], using closest date from all keys\n",
      "Using 1990-09-28 00:00:00 for tile date 1992-09-30 00:00:00\n",
      "Processing 4802960055B--------------------------------------------------\n",
      "Using 1979-12-11 00:00:00 for tile date 1979-12-11 00:00:00\n",
      "Processing 480296A_48--------------------------------------------------\n",
      "Could not find tile in detections 480296A_4\n",
      "Processing 48201C0730J--------------------------------------------------\n",
      "Could not find key J for current tile from options [0, 'L', 'M'], using closest date from all keys\n",
      "Using 1996-11-23 00:00:00 for tile date 1996-11-08 00:00:00\n",
      "Processing 48201C0385J--------------------------------------------------\n",
      "Could not find key J for current tile from options [0, 'L', 'M', 'G'], using closest date from all keys\n",
      "Using 1996-11-23 00:00:00 for tile date 1996-11-06 00:00:00\n",
      "Processing 48201C1095J--------------------------------------------------\n",
      "Could not find key J for current tile from options [0, 'L', 'M'], using closest date from all keys\n",
      "Using 1996-11-23 00:00:00 for tile date 1996-11-06 00:00:00\n",
      "Processing 48201C0015G--------------------------------------------------\n",
      "Could not find date in ['HARRIS CQUNTY,', 'TEXAS AND', 'INCORRORATED AREAS', 'PANEL 15 Op', '(SEE MAP INDEX For PANELS NOT', 'COnIMNS', 'commumii 4  * WNBERZ', 'unincorporatin #S & `80287', '6', 'Mar', '8', '~NUMBER', '49201C0015 G', 'EFFECTIVE DATE:', 'SEPTEMOER 28, 1990', 'Federal Eniergency Management Agency']\n",
      "Could not find tile extension in detections 48201C0015 - G, using default 0 from options dict_keys([0, 'L'])\n",
      "Processing 48201C0315H--------------------------------------------------\n",
      "COULD NOT FIND BOUNDS, USING IMAGE EXTENTS 48201C0315H\n",
      "Using 1992-09-30 00:00:00 for tile date 1992-09-30 00:00:00\n",
      "Processing 48201C0360J--------------------------------------------------\n",
      "Using 2000-04-20 00:00:00 for tile date 1996-11-06 00:00:00\n",
      "Processing 48201C0640J--------------------------------------------------\n",
      "Could not find date in ['Lud WrarnmaiiJe #Nie Budub', 'HARRIS COUNTY', 'TEXAS AND', 'INCORPORATED   AREAS', 'PANEL 640 OF 1135', '{SEE MAP INDEX FCR PANELS NOT PRINTED}', 'CCNTANS:', 'COMMUNTY _ NUMBER  PANEL   SUFFX', 'HOUSTOSTx QF 480238 Je4C', '0', 'MAP  NUMBER', '48201C0640 )', 'Map REVISED:', 'NOVEMBER 6, 7996', 'Federal Emergency Management Agency']\n",
      "Could not find tile extension in detections 48201C0640 - J, using default 0 from options dict_keys([0, 'L'])\n",
      "Processing 4802960155E--------------------------------------------------\n",
      "Using 1987-09-04 00:00:00 for tile date 1987-09-04 00:00:00\n",
      "Processing 48201C0670J--------------------------------------------------\n",
      "Could not find key J for current tile from options ['K', 'L', 'M', 0], using closest date from all keys\n",
      "Using 1996-11-23 00:00:00 for tile date 1996-11-06 00:00:00\n",
      "Processing 480287B_31--------------------------------------------------\n",
      "Could not find tile in detections 480287B_3\n",
      "Processing 48201C0125G--------------------------------------------------\n",
      "Could not find key G for current tile from options ['L'], using closest date from all keys\n",
      "Using 2007-06-18 00:00:00 for tile date 1990-09-28 00:00:00\n",
      "Could not find key 0 for current tile from options ['L'], using closest date from all keys\n",
      "Using 2007-06-18 00:00:00 for tile date 1990-09-28 00:00:00\n",
      "CLOSEST DATE IN KEY IS TOO FAR (6107 days), using general instead (2007-06-18 00:00:00)\n",
      "Processing 4802870030D--------------------------------------------------\n",
      "Using 1985-09-27 00:00:00 for tile date 1985-09-27 00:00:00\n",
      "Processing 480296A_118--------------------------------------------------\n"
     ]
    },
    {
     "name": "stderr",
     "output_type": "stream",
     "text": [
      "11/08/2024 10:11:22 - WARNING - rasterio._env -   CPLE_AppDefined in D:/RECTDNN/uncompress/48201C0360L.tif: _TIFFVSetField:D:/RECTDNN/uncompress/48201C0360L.tif: Null count for \"Tag 32934\" (type 4, writecount -3, passcount 1)\n",
      "11/08/2024 10:11:22 - INFO - rasterio._env -   GDAL signalled an error: err_no=1, msg='_TIFFVSetField:D:/RECTDNN/uncompress/48201C0360L.tif: Null count for \"Tag 32934\" (type 4, writecount -3, passcount 1)'\n"
     ]
    },
    {
     "name": "stdout",
     "output_type": "stream",
     "text": [
      "Could not find tile in detections 480296A_11\n",
      "Processing 48201C0360L--------------------------------------------------\n",
      "Could not find date in ['TEXAS', 'AND INCORPORATED AREAS', '', 'PANEL 360 OF 1150', 'ISEE   MAP   INDEX   FOR   FIRM  PANEL LAYOUT)', 'Duoiacolwa', 'LALL', 'COMiMuNITX NUHBBR > PANe_> SVEEX', 'ImDpIS nY', 'VhntraprrAteD AFFA9 40pat I3ad', '3318000', 'We', 'Ia', 'Kotido t0 Uzec: Tho Mao Nutbet shown Juloiv Ghogld Vb Vbbu', 'pleciaar  Met  pndars:  thA Contngaiy  Aunbar   shotvn', 'Jbovo Shovid bo Usod On Isurzi go Bppigamnb I0i Ihy bubiot', 'cohilaly', 'LJWuJ', 'MAP NUMBER', 'Yanttt', '48201C0360L', 'MAP REVISED:', '29*68\\'15\"', 'JUNE 18 , 2007', '222000 M 95252*30', 'Zantt', 'Fcdcral Emcrgcncy Management Agency', 'TW', 'Im', 'At']\n",
      "Processing 48201C0385G--------------------------------------------------\n",
      "COULD NOT FIND BOUNDS, USING IMAGE EXTENTS 48201C0385G\n",
      "Using 1990-09-28 00:00:00 for tile date 1990-09-28 00:00:00\n",
      "Processing 4802960040D--------------------------------------------------\n",
      "Using 1987-09-04 00:00:00 for tile date 1985-09-27 00:00:00\n",
      "Processing 4802960145C--------------------------------------------------\n",
      "Could not find date in ['CITY OF', 'W', 'HOUSTON', 'TEXAS', 'HARRIS COUNTY, FORT', 'BEND COUNTY,', 'MONTGOMERY COUNTY', 'PANEL 145 05 195', '(SEE MAP INDERRja PANELS NOTERINTED)', '5', 'coMmunity-PaNEL NUMBER ', '480296 0145 €', '0)', 'Map REVISED:', 'SEPTEMABER 21 , 1982', 'Federal Emergency Management Agency', '8']\n",
      "Could not find tile extension in detections 4802960145 - C, using default 0 from options dict_keys([0, 'D', 'B'])\n",
      "Processing 48201C0770M--------------------------------------------------\n",
      "Using 2015-05-04 00:00:00 for tile date 2015-05-04 00:00:00\n",
      "Processing 48201C1030J--------------------------------------------------\n",
      "Could not find key J for current tile from options ['L', 'M', 0], using closest date from all keys\n",
      "Using 1996-11-23 00:00:00 for tile date 1996-11-06 00:00:00\n"
     ]
    },
    {
     "name": "stderr",
     "output_type": "stream",
     "text": [
      "11/08/2024 10:11:40 - WARNING - rasterio._env -   CPLE_AppDefined in D:/RECTDNN/uncompress/48201C0580L.tif: _TIFFVSetField:D:/RECTDNN/uncompress/48201C0580L.tif: Null count for \"Tag 32934\" (type 4, writecount -3, passcount 1)\n",
      "11/08/2024 10:11:40 - INFO - rasterio._env -   GDAL signalled an error: err_no=1, msg='_TIFFVSetField:D:/RECTDNN/uncompress/48201C0580L.tif: Null count for \"Tag 32934\" (type 4, writecount -3, passcount 1)'\n"
     ]
    },
    {
     "name": "stdout",
     "output_type": "stream",
     "text": [
      "Processing 48201C0580L--------------------------------------------------\n",
      "Using 2007-06-18 00:00:00 for tile date 2007-06-18 00:00:00\n",
      "Processing 48201C0630J--------------------------------------------------\n",
      "Could not find key J for current tile from options [0, 'L'], using closest date from all keys\n",
      "Using 1996-11-23 00:00:00 for tile date 1996-11-06 00:00:00\n",
      "Processing 4802870465E--------------------------------------------------\n",
      "Could not find date in ['HARRIS COUNTY,', 'TEXAS', '(UNINOORPORATED AREAs)', 'PANEL 465 OF550', '(SEE MAP INBexESR PANELS RfO', '#ANTED)', '5', 'Panel  NUMBER', 'Oninm', '480287 0465 E', 'Map; REVISED:', 'SERHEMBER 27 , 1985', 'Federal Emergency Management Agency', '8', '8']\n",
      "Processing 48201C0185G--------------------------------------------------\n",
      "Using 1990-09-28 00:00:00 for tile date 1990-09-28 00:00:00\n",
      "Processing 4802870040D--------------------------------------------------\n",
      "Could not find date in ['2/', 'H4os4', 'HARRIS COUNTY,', 'TEXAs', '(UNINCORPORATED AREAs)', 'PANEL 40 OF 550', '(SEE MAP inde zapr PANELS Not', 'RAINTED)', 'NUMBER', 'Eimbee57g', '480287 0040 D', 'MapREVISED:', 'SEOTEMBER 27 , 1985', 'Federal Emergency Management Agency', '8', '8']\n",
      "Processing 48201C0970M--------------------------------------------------\n",
      "COULD NOT FIND BOUNDS, USING IMAGE EXTENTS 48201C0970M\n",
      "Could not find date in ['HARRIS COUNTY,', 'TEXAS', 'AND INCORPORATED AREAS', \"'80\", 'PANEL 970 OF 1150', '(SEE MAP INDEX FOR FIRM PANEL LAYOUT )', 'CONTAlg', 'COMMUNITY NUMBER   PANEL   SUFFIX', 'BAYTCMN Chty OF 485456  Gt0', 'HARRI8 COUNTY 480287   CtC', 'Nctice t User:   Tne Map Number shcun belcw shoul be', 'used wvhen placing meap orders; iie Community Number', 'shovm} above should be used on insurance applications I; the', 'subject contunity:', '\"79\"6\"N', 'MAP NUMBER', '48201C0970M }', '29*37\\'30}\"', 'MAP REVISED', '94*52*30\"', 'MAY 4, 2015', 'Federal Emergency Management Agency', 'Map', 'Ine']\n",
      "Processing 480287B_91--------------------------------------------------\n",
      "Could not find tile in detections 480287B_9\n",
      "Processing 48201C0330J--------------------------------------------------\n",
      "Using 2000-04-20 00:00:00 for tile date 1996-11-08 00:00:00\n",
      "Processing 4802870215F--------------------------------------------------\n",
      "Using 1988-02-04 00:00:00 for tile date 1988-02-04 00:00:00\n",
      "Processing 48201C0110G--------------------------------------------------\n",
      "COULD NOT FIND BOUNDS, USING IMAGE EXTENTS 48201C0110G\n",
      "Could not find tile in detections 48201C0110\n",
      "Processing 4802960140B--------------------------------------------------\n",
      "Using 1979-12-11 00:00:00 for tile date 1979-12-11 00:00:00\n",
      "Processing 480296A_3--------------------------------------------------\n",
      "Could not find tile in detections 480296A_\n",
      "Processing 480287B_61--------------------------------------------------\n",
      "Could not find tile in detections 480287B_6\n",
      "Processing 4802870355D--------------------------------------------------\n",
      "Could not find date in ['W', 'HARRIS COUNTY', 'TEXAS', '(UNINCORPORATED AREAs)', 'PANEL 355 OF 550', '(SEE MAP INCEXESR PANELS 407RZNTED)', 'Panel NUMBER', '(ui80', '4802870355 D', 'Mae, RE VISED:', 'SERTEMBER 27 , 1985', 'Federal Emergency Management Agency', 'MO', '8', '8']\n",
      "Processing 4802870200C--------------------------------------------------\n",
      "Using 1981-02-24 00:00:00 for tile date 1981-02-24 00:00:00\n",
      "Processing 4802870525C--------------------------------------------------\n",
      "Using 1981-02-24 00:00:00 for tile date 1981-02-24 00:00:00\n",
      "Processing 480296A_11--------------------------------------------------\n",
      "Could not find tile in detections 480296A_1\n",
      "Processing 4802960030B--------------------------------------------------\n",
      "Using 1979-12-11 00:00:00 for tile date 1979-12-11 00:00:00\n",
      "Processing 4802960095E--------------------------------------------------\n"
     ]
    },
    {
     "name": "stderr",
     "output_type": "stream",
     "text": [
      "11/08/2024 10:12:16 - WARNING - rasterio._env -   CPLE_AppDefined in D:/RECTDNN/uncompress/48201C0910L.tif: _TIFFVSetField:D:/RECTDNN/uncompress/48201C0910L.tif: Null count for \"Tag 32934\" (type 4, writecount -3, passcount 1)\n",
      "11/08/2024 10:12:16 - INFO - rasterio._env -   GDAL signalled an error: err_no=1, msg='_TIFFVSetField:D:/RECTDNN/uncompress/48201C0910L.tif: Null count for \"Tag 32934\" (type 4, writecount -3, passcount 1)'\n"
     ]
    },
    {
     "name": "stdout",
     "output_type": "stream",
     "text": [
      "Using 1987-09-04 00:00:00 for tile date 1987-04-08 00:00:00\n",
      "Processing 48201C0910L--------------------------------------------------\n",
      "Using 2007-06-18 00:00:00 for tile date 2007-06-18 00:00:00\n",
      "Processing 48201C0740J--------------------------------------------------\n",
      "Using 2000-04-20 00:00:00 for tile date 1996-11-06 00:00:00\n",
      "Processing 4802960080E--------------------------------------------------\n",
      "Using 1987-09-04 00:00:00 for tile date 1987-09-04 00:00:00\n",
      "Processing 480296A_27--------------------------------------------------\n",
      "Could not find tile in detections 480296A_2\n",
      "Processing 48201C0325G--------------------------------------------------\n",
      "Using 1990-09-28 00:00:00 for tile date 1990-09-28 00:00:00\n",
      "Processing 4802870465F--------------------------------------------------\n",
      "Using 1988-02-04 00:00:00 for tile date 1988-02-04 00:00:00\n",
      "Processing 4802870185D--------------------------------------------------\n",
      "Could not find date in ['HARRIS COUNTY,', 'TEXAS', '(UNINCORPORATED A REAs)', 'PANEL 185 OF.550', '(see MAP ingeseR PANELS Not FZNTED)', 'coMiMunity-PaneL NUMBER', '0480287 0185 D', 'Map REVISED:', 'SEPIEMBER 27 , 1985', 'Federal Emergency Management Agency', 'Rot', '8', '8']\n",
      "Processing 48201C0930J--------------------------------------------------\n",
      "Could not find key J for current tile from options [0, 'L', 'M'], using closest date from all keys\n",
      "Using 1996-11-23 00:00:00 for tile date 1996-11-06 00:00:00\n",
      "Processing 480296A_96--------------------------------------------------\n",
      "Could not find tile in detections 480296A_9\n",
      "Processing 48201C1090J--------------------------------------------------\n",
      "Could not find key J for current tile from options ['L', 'M', 0], using closest date from all keys\n",
      "Using 1996-11-23 00:00:00 for tile date 1996-11-06 00:00:00\n",
      "Processing 48201C0390J--------------------------------------------------\n",
      "Could not find key J for current tile from options [0, 'L', 'M', 'G'], using closest date from all keys\n",
      "Using 1996-11-23 00:00:00 for tile date 1996-11-06 00:00:00\n",
      "Processing 48201C1070J--------------------------------------------------\n",
      "Using 1996-11-23 00:00:00 for tile date 1996-11-06 00:00:00\n",
      "Processing 4802870300C--------------------------------------------------\n",
      "Could not find key C for current tile from options [0, 'D'], using closest date from all keys\n",
      "Using 1981-02-24 00:00:00 for tile date 1981-02-24 00:00:00\n",
      "Processing 480287B_21--------------------------------------------------\n",
      "Could not find tile in detections 480287B_2\n",
      "Processing 4802870365D--------------------------------------------------\n",
      "Could not find date in ['lsim', 'HARRIS COUNT', 'TEXAS', '(UNINCORPORATED AREAS)', 'PANEL365 OF4550', '(SEE MAP INDBXSR PANELS Not PRNTED)', 'Eonnjazceovg,9866E8', '480287.0365 D', 'Me REVISED:', 'EMBER 27 , 1985', 'Federal Emergency Management Agency', '8', '8']\n",
      "Processing 4802960010C--------------------------------------------------\n",
      "Using 1985-09-27 00:00:00 for tile date 1985-09-27 00:00:00\n",
      "Processing 4802870070D--------------------------------------------------\n",
      "Could not find date in ['18/4932', 'HARRIS COUNTY', 'TEXAS', '(UNINCORPORATED AREAs}', 'PANEL 70 OF 550', '(SEE MAP INDE C8OR PANELS NoT FARIED)', 'ComlunITy-parel NUMBER', '0480287.0070 D', 'MAR: REVISED:', 'SBS EMBER 27 , 1985', 'Federal Emergency Management Agency', '8', '8']\n",
      "Processing 480287B_19--------------------------------------------------\n",
      "Could not find tile in detections 480287B_1\n",
      "Processing 48201C0430K--------------------------------------------------\n",
      "Could not find key K for current tile from options ['L', 'M', 0], using closest date from all keys\n",
      "Using 1996-11-23 00:00:00 for tile date 2000-04-20 00:00:00\n",
      "Processing 480296A_107--------------------------------------------------\n",
      "COULD NOT FIND BOUNDS, USING IMAGE EXTENTS 480296A_107\n",
      "Could not find tile in detections 480296A_10\n",
      "Processing 48201C0340G--------------------------------------------------\n",
      "COULD NOT FIND BOUNDS, USING IMAGE EXTENTS 48201C0340G\n",
      "Using 1992-09-30 00:00:00 for tile date 1990-09-28 00:00:00\n",
      "Processing 4802960015C--------------------------------------------------\n",
      "Could not find key C for current tile from options [0, 'D', 'E', 'B'], using closest date from all keys\n",
      "Using 1982-09-21 00:00:00 for tile date 1982-09-21 00:00:00\n",
      "Processing 480296A_64--------------------------------------------------\n",
      "Could not find tile in detections 480296A_6\n",
      "Processing 4802870385D--------------------------------------------------\n",
      "Using 1985-09-27 00:00:00 for tile date 1988-02-04 00:00:00\n",
      "Processing 48201C0405J--------------------------------------------------\n",
      "Using 1996-11-23 00:00:00 for tile date 1996-11-08 00:00:00\n",
      "Processing 480296A_31--------------------------------------------------\n",
      "COULD NOT FIND BOUNDS, USING IMAGE EXTENTS 480296A_31\n",
      "Could not find tile in detections 480296A_3\n",
      "Processing 4802870295E--------------------------------------------------\n",
      "Using 1985-09-27 00:00:00 for tile date 1985-09-27 00:00:00\n",
      "Processing 48201C0190J--------------------------------------------------\n",
      "Could not find key J for current tile from options [0, 'L'], using closest date from all keys\n",
      "Using 1996-11-23 00:00:00 for tile date 1996-11-08 00:00:00\n",
      "Processing 48201C0415J--------------------------------------------------\n",
      "Using 2000-04-20 00:00:00 for tile date 1996-11-06 00:00:00\n",
      "Processing 4802960150C--------------------------------------------------\n",
      "Could not find date in ['CITY OF', 'W', 'HOUSTON', 'TEXAS', 'HARRIS COUNTY , FORT', 'BEND COUNTY,', 'MONTGOMERY COUNT', '9', 'LVD', 'PANEL 150 OF 195', '(SEE MAP INDEXFor PANELS', 'Bo8 ESANTEd)', 'DR', 'DR', 'community PANEL NUMBER', '480296-0150 €', '0', 'RE VISED:', 'SEPTEMBER', '21, 1982', 'Federal Emergency Management Agency', '8', '6']\n",
      "Could not find tile extension in detections 4802960150 - C, using default 0 from options dict_keys([0, 'D', 'B'])\n",
      "Processing 48201C0910J--------------------------------------------------\n",
      "Could not find key J for current tile from options [0, 'L', 'M'], using closest date from all keys\n",
      "Using 1996-11-23 00:00:00 for tile date 1996-11-06 00:00:00\n",
      "Processing 48201C0355H--------------------------------------------------\n",
      "Could not find tile in detections 48201C0355\n",
      "Processing 480296A_14--------------------------------------------------\n"
     ]
    },
    {
     "name": "stderr",
     "output_type": "stream",
     "text": [
      "11/08/2024 10:13:26 - WARNING - rasterio._env -   CPLE_AppDefined in D:/RECTDNN/uncompress/48201C0270L.tif: _TIFFVSetField:D:/RECTDNN/uncompress/48201C0270L.tif: Null count for \"Tag 32934\" (type 4, writecount -3, passcount 1)\n",
      "11/08/2024 10:13:26 - INFO - rasterio._env -   GDAL signalled an error: err_no=1, msg='_TIFFVSetField:D:/RECTDNN/uncompress/48201C0270L.tif: Null count for \"Tag 32934\" (type 4, writecount -3, passcount 1)'\n"
     ]
    },
    {
     "name": "stdout",
     "output_type": "stream",
     "text": [
      "Could not find tile in detections 480296A_1\n",
      "Processing 48201C0270L--------------------------------------------------\n",
      "Could not find date in ['4A #AL>1', 'TEXAS', 'AND INCORPORATED AREAS', 'PANEL 270 OF 1150', '(SEE   MAP   INDEX   FOR   FIRM   PANEL   LAYOUT}', 'CONTAINS _', 'COMMUNITY_ NUMBER _> PANEL _  SUFFX', 'HARRIS COUNTY,', 'UNINCORPORATED AREAS 480287 0270', 'HOUSTON, CITY OF 480296 0270', '~D', 'Notico to Usor: Tho Map Number shown bolow should be used', \"'[HWLLL \", 'whon   placing   map  orders;  the  Community   Number   shown', 'abovo should bo Usod on insurance   applications for the subject', 'communiv:', 'MAP NUMBER', '48201CO27OL', 'MAP REVISED:', 'AND', 'JUNE 18, 2007', 'Federal Emergency Management Agency', 'DEPAR', \"SEC'\"]\n",
      "Processing 48201C0080G--------------------------------------------------\n"
     ]
    },
    {
     "name": "stderr",
     "output_type": "stream",
     "text": [
      "11/08/2024 10:13:32 - WARNING - rasterio._env -   CPLE_AppDefined in D:/RECTDNN/uncompress/48201C1070L.tif: _TIFFVSetField:D:/RECTDNN/uncompress/48201C1070L.tif: Null count for \"Tag 32934\" (type 4, writecount -3, passcount 1)\n",
      "11/08/2024 10:13:32 - INFO - rasterio._env -   GDAL signalled an error: err_no=1, msg='_TIFFVSetField:D:/RECTDNN/uncompress/48201C1070L.tif: Null count for \"Tag 32934\" (type 4, writecount -3, passcount 1)'\n"
     ]
    },
    {
     "name": "stdout",
     "output_type": "stream",
     "text": [
      "COULD NOT FIND BOUNDS, USING IMAGE EXTENTS 48201C0080G\n",
      "Could not find tile in detections 48201C0080\n",
      "Processing 48201C1070L--------------------------------------------------\n",
      "Using 2015-05-04 00:00:00 for tile date 2007-06-18 00:00:00\n",
      "Processing 480296A_44--------------------------------------------------\n",
      "Could not find tile in detections 480296A_4\n",
      "Processing 4802870190E--------------------------------------------------\n",
      "Using 1988-02-04 00:00:00 for tile date 1988-02-04 00:00:00\n",
      "Processing 4802870270E--------------------------------------------------\n",
      "Using 1985-09-27 00:00:00 for tile date 1985-09-27 00:00:00\n",
      "Processing 48201C0410J--------------------------------------------------\n",
      "Could not find key J for current tile from options [0, 'L', 'M'], using closest date from all keys\n",
      "Using 1996-11-23 00:00:00 for tile date 1996-11-06 00:00:00\n",
      "Processing 4802870115D--------------------------------------------------\n",
      "Using 1985-09-27 00:00:00 for tile date 1985-09-27 00:00:00\n",
      "Processing 48201C0235G--------------------------------------------------\n",
      "COULD NOT FIND BOUNDS, USING IMAGE EXTENTS 48201C0235G\n",
      "Could not find date in ['{Pth', 'HARRIS COUNTY,', 'U UHa8', 'ULLU? TEXASAN', 'wetr JL__eetk', 'INCORPORATED AREAS', 'SOUHCSN', 'ACIFIC', 'LPMRRENCE; | (#|rTLRo;b', 'PANEL 235 OF 390', 'RM', '628-Ton 17777 # T Wmrnemhr I |hhH <SEE MAP INDEXFaFFaNfLs NoT PRINTED}', 'ROADM{ { | #M1||W6eA ConTaINS:', \"CQHHUMTY X  Wumbeb ' PAHEL = suffwx\", 'STn_SNLZ ,  G #nsti UL EGtkC WhhL #ouston Eiry DF  eeny403196   0235', 'KUNTEKS CFEE< ViLLAGE CT )   480290   02J6', 'S Piku VAllY.0t JF 43n33   0235', 'ZONE Xul', 'HI', 'RAIFF IkoAL', 'ZONE X', 'EASAN', 'ROAD', 'Hnkerlf Is !J=', 'Map NUMBER', 'SFENEER', 'EiGEL', '0', '48201C0235 G', 'MAXIEJ', '0', 'KCEHLER', 'STREET WFIIMONTANAST /', 'EFFECTIVE DATE:', 'ZONE}  Mcorio| =1K6 e SEPTEMBEP 28,; 1990', 'SCHUER_L i6 AE', 'CENTER', 'EPhVEF_JL  |BowSVARD', 'ederal Emergency Management Agency']\n",
      "Could not find tile extension in detections 48201C0235 - G, using default K from options dict_keys(['K', 'L', 'M', 0])\n",
      "Processing 4802870065E--------------------------------------------------\n",
      "Using 1988-02-04 00:00:00 for tile date 1988-02-04 00:00:00\n",
      "Processing 48201C0605J--------------------------------------------------\n",
      "Could not find key J for current tile from options [0, 'L'], using closest date from all keys\n",
      "Using 1996-11-23 00:00:00 for tile date 1996-11-06 00:00:00\n",
      "Processing 48201C0920J--------------------------------------------------\n",
      "Could not find key J for current tile from options [0, 'L', 'M'], using closest date from all keys\n",
      "Using 1996-11-23 00:00:00 for tile date 1996-11-06 00:00:00\n",
      "Processing 480287B_64--------------------------------------------------\n",
      "Could not find tile in detections 480287B_6\n",
      "Processing 480296A_60--------------------------------------------------\n"
     ]
    },
    {
     "name": "stderr",
     "output_type": "stream",
     "text": [
      "11/08/2024 10:14:01 - WARNING - rasterio._env -   CPLE_AppDefined in D:/RECTDNN/uncompress/48201C0240L.tif: _TIFFVSetField:D:/RECTDNN/uncompress/48201C0240L.tif: Null count for \"Tag 32934\" (type 4, writecount -3, passcount 1)\n",
      "11/08/2024 10:14:01 - INFO - rasterio._env -   GDAL signalled an error: err_no=1, msg='_TIFFVSetField:D:/RECTDNN/uncompress/48201C0240L.tif: Null count for \"Tag 32934\" (type 4, writecount -3, passcount 1)'\n"
     ]
    },
    {
     "name": "stdout",
     "output_type": "stream",
     "text": [
      "Could not find tile in detections 480296A_6\n",
      "Processing 48201C0240L--------------------------------------------------\n",
      "Could not find date in ['1444uU #UJI\" 1 1', 'TEXAS', 'AND INCORPORATED AREAS', 'PANEL 240 OF 1150', '(SEE   MAP   INDEX   FOR   FIRM   PANEL  LAYOUT)', 'CONTAINS ', '0', 'LUM |  coMMUNTY_ NUMBER = PANEL _> SUFFX', 'HARRIS COUNTY', 'UNINCORPORATED AREAS 480287 0240', 'HOUSTON, CITY OF 480288 0240', 'LL', 'WD', 'QD', 'Notice to User; The Map Number shown bolow should be usad', 'whon   placing   map  orders;   tho  Community   Number   shown', 'above should bo used on Insuranco  applications for the subject', 'communitv:', 'MAP NUMBER', '48201C0240L', 'MAP REVISED:', 'AND', 'JUNE 18 , 2007', 'Federal Emergency Management Agency', 'OEPARTM', \"SECUR'\"]\n",
      "Processing 4802960180D--------------------------------------------------\n"
     ]
    },
    {
     "name": "stderr",
     "output_type": "stream",
     "text": [
      "11/08/2024 10:14:06 - WARNING - rasterio._env -   CPLE_AppDefined in D:/RECTDNN/uncompress/48201C0505L.tif: _TIFFVSetField:D:/RECTDNN/uncompress/48201C0505L.tif: Null count for \"Tag 32934\" (type 4, writecount -3, passcount 1)\n",
      "11/08/2024 10:14:06 - INFO - rasterio._env -   GDAL signalled an error: err_no=1, msg='_TIFFVSetField:D:/RECTDNN/uncompress/48201C0505L.tif: Null count for \"Tag 32934\" (type 4, writecount -3, passcount 1)'\n"
     ]
    },
    {
     "name": "stdout",
     "output_type": "stream",
     "text": [
      "Could not find key D for current tile from options ['B', 0], using closest date from all keys\n",
      "Using 1985-09-27 00:00:00 for tile date 1987-09-04 00:00:00\n",
      "Processing 48201C0505L--------------------------------------------------\n",
      "Could not find date in ['TEXAS', 'AND NNCORPORATED AREAS', 'PANEL 505 OF 1150', '(SEE   MAP   INDEX   FOR   FIRM   PANEL   LAYOUT)', 'CONTAINS _', 'COMMUNITY_ NUMBER = PANEL  _ = SUFEX', 'HUMBLE, CITY OF 480297 0505', 'HARRIS COUNTY', 'UNINCORPORATED AREAS 480287 0505', 'HOUSTON, CITY OF 480296 0505', 'Notico to Usor: The Map Number shown below should be used', 'whon   placing   map  orders;  tho   Community   Number   shown', 'above should bo usod on insurance applications for the subject', 'community:', 'MAP NUMBER', '48201CO5O5L', 'MAP REVISED:', 'AND', 'JUNE 18, 2007', 'Federal Emergency Management Agency', 'WL', 'OBPARTM', 'GECURE']\n"
     ]
    },
    {
     "name": "stderr",
     "output_type": "stream",
     "text": [
      "11/08/2024 10:14:10 - WARNING - rasterio._env -   CPLE_AppDefined in D:/RECTDNN/uncompress/48201C0770L.tif: _TIFFVSetField:D:/RECTDNN/uncompress/48201C0770L.tif: Null count for \"Tag 32934\" (type 4, writecount -3, passcount 1)\n",
      "11/08/2024 10:14:10 - INFO - rasterio._env -   GDAL signalled an error: err_no=1, msg='_TIFFVSetField:D:/RECTDNN/uncompress/48201C0770L.tif: Null count for \"Tag 32934\" (type 4, writecount -3, passcount 1)'\n"
     ]
    },
    {
     "name": "stdout",
     "output_type": "stream",
     "text": [
      "Processing 48201C0770L--------------------------------------------------\n",
      "Using 2013-10-16 00:00:00 for tile date 2007-06-18 00:00:00\n",
      "Processing 48201C0185J--------------------------------------------------\n",
      "Could not find key J for current tile from options [0, 'L', 'G'], using closest date from all keys\n",
      "Using 1996-11-23 00:00:00 for tile date 1996-11-06 00:00:00\n",
      "Processing 480287B_46--------------------------------------------------\n",
      "Could not find tile in detections 480287B_4\n",
      "Processing 48201C0255G--------------------------------------------------\n",
      "Could not find key G for current tile from options ['J', 'L', 0], using closest date from all keys\n",
      "Using 1996-11-23 00:00:00 for tile date 1990-09-28 00:00:00\n",
      "Processing 48201C0435J--------------------------------------------------\n",
      "Could not find key J for current tile from options [0, 'L', 'M'], using closest date from all keys\n",
      "Using 1996-11-23 00:00:00 for tile date 1996-11-06 00:00:00\n",
      "Processing 480287B_72--------------------------------------------------\n"
     ]
    },
    {
     "name": "stderr",
     "output_type": "stream",
     "text": [
      "11/08/2024 10:14:26 - WARNING - rasterio._env -   CPLE_AppDefined in D:/RECTDNN/uncompress/48201C0965L.tif: _TIFFVSetField:D:/RECTDNN/uncompress/48201C0965L.tif: Null count for \"Tag 32934\" (type 4, writecount -3, passcount 1)\n",
      "11/08/2024 10:14:26 - INFO - rasterio._env -   GDAL signalled an error: err_no=1, msg='_TIFFVSetField:D:/RECTDNN/uncompress/48201C0965L.tif: Null count for \"Tag 32934\" (type 4, writecount -3, passcount 1)'\n"
     ]
    },
    {
     "name": "stdout",
     "output_type": "stream",
     "text": [
      "Could not find tile in detections 480287B_7\n",
      "Processing 48201C0965L--------------------------------------------------\n",
      "Using 2007-06-18 00:00:00 for tile date 2007-06-18 00:00:00\n",
      "Processing 480296A_4--------------------------------------------------\n",
      "COULD NOT FIND BOUNDS, USING IMAGE EXTENTS 480296A_4\n",
      "Could not find tile in detections 480296A_\n",
      "Processing 480296A_90--------------------------------------------------\n",
      "Could not find tile in detections 480296A_9\n",
      "Processing 4802960035C--------------------------------------------------\n",
      "Could not find key C for current tile from options [0, 'D', 'B'], using closest date from all keys\n",
      "Using 1982-09-21 00:00:00 for tile date 1982-09-21 00:00:00\n",
      "Processing 48201C0510J--------------------------------------------------\n",
      "Using 1996-11-23 00:00:00 for tile date 1996-11-06 00:00:00\n",
      "Processing 48201C0655J--------------------------------------------------\n",
      "Could not find key J for current tile from options ['K', 'L', 'M', 0], using closest date from all keys\n",
      "Using 1996-11-23 00:00:00 for tile date 1996-11-08 00:00:00\n",
      "Processing 4802960030C--------------------------------------------------\n",
      "Could not find key C for current tile from options [0, 'D', 'E', 'B'], using closest date from all keys\n",
      "Using 1982-09-21 00:00:00 for tile date 1982-09-21 00:00:00\n",
      "Processing 480287B_40--------------------------------------------------\n",
      "Could not find tile in detections 480287B_4\n",
      "Processing 480296A_46--------------------------------------------------\n",
      "Could not find tile in detections 480296A_4\n",
      "Processing 48201C0270H--------------------------------------------------\n",
      "Using 1992-09-30 00:00:00 for tile date 1992-09-30 00:00:00\n",
      "Processing 48201C0705J--------------------------------------------------\n",
      "Could not find key J for current tile from options [0, 'L', 'M'], using closest date from all keys\n",
      "Using 1996-11-23 00:00:00 for tile date 1996-11-06 00:00:00\n",
      "Processing 480296A_35--------------------------------------------------\n"
     ]
    },
    {
     "name": "stderr",
     "output_type": "stream",
     "text": [
      "11/08/2024 10:14:51 - WARNING - rasterio._env -   CPLE_AppDefined in D:/RECTDNN/uncompress/48201C0380L.tif: _TIFFVSetField:D:/RECTDNN/uncompress/48201C0380L.tif: Null count for \"Tag 32934\" (type 4, writecount -3, passcount 1)\n",
      "11/08/2024 10:14:51 - INFO - rasterio._env -   GDAL signalled an error: err_no=1, msg='_TIFFVSetField:D:/RECTDNN/uncompress/48201C0380L.tif: Null count for \"Tag 32934\" (type 4, writecount -3, passcount 1)'\n"
     ]
    },
    {
     "name": "stdout",
     "output_type": "stream",
     "text": [
      "Could not find tile in detections 480296A_3\n",
      "Processing 48201C0380L--------------------------------------------------\n",
      "Using 2007-06-18 00:00:00 for tile date 2007-06-18 00:00:00\n",
      "Processing 48201C0050G--------------------------------------------------\n",
      "Could not find date in ['HARRIS CQUNTY,', 'TEXAS AND', 'INCORPORA TED AREAS', 'PANEL 50 Of 380', '(SEE MAP inDEX For PANELS Not Rhinte', 'CONININS:', 'Cohhunuy 4   * WWHBER', 'Unincoaporated Aers   3 *80267', '6', 'MAQnjCoGee', 'EFFECTIVE DATE:', 'SEPTENOCR 28, 1990', 'Federal Emergency Management Agency', '8']\n",
      "Could not find tile extension in detections 48201C0050 - G, using default L from options dict_keys(['L'])\n",
      "Processing 48201C1105J--------------------------------------------------\n",
      "Using 1996-11-23 00:00:00 for tile date 1996-11-06 00:00:00\n",
      "Processing 480296A_57--------------------------------------------------\n",
      "Could not find tile in detections 480296A_5\n",
      "Processing 4802960075E--------------------------------------------------\n",
      "Using 1987-09-04 00:00:00 for tile date 1987-09-04 00:00:00\n",
      "Processing 4802960090C--------------------------------------------------\n",
      "Using 1985-09-27 00:00:00 for tile date 1985-09-27 00:00:00\n",
      "Processing 48201C1060K--------------------------------------------------\n",
      "Using 2000-04-20 00:00:00 for tile date 2000-04-20 00:00:00\n",
      "Processing 48201C0695J--------------------------------------------------\n",
      "Could not find key J for current tile from options ['L', 'M', 0], using closest date from all keys\n",
      "Using 1996-11-23 00:00:00 for tile date 1996-11-06 00:00:00\n"
     ]
    },
    {
     "name": "stderr",
     "output_type": "stream",
     "text": [
      "11/08/2024 10:15:10 - WARNING - rasterio._env -   CPLE_AppDefined in D:/RECTDNN/uncompress/48201C0605L.tif: _TIFFVSetField:D:/RECTDNN/uncompress/48201C0605L.tif: Null count for \"Tag 32934\" (type 4, writecount -3, passcount 1)\n",
      "11/08/2024 10:15:10 - INFO - rasterio._env -   GDAL signalled an error: err_no=1, msg='_TIFFVSetField:D:/RECTDNN/uncompress/48201C0605L.tif: Null count for \"Tag 32934\" (type 4, writecount -3, passcount 1)'\n"
     ]
    },
    {
     "name": "stdout",
     "output_type": "stream",
     "text": [
      "Processing 48201C0605L--------------------------------------------------\n",
      "Using 2007-06-18 00:00:00 for tile date 2007-06-18 00:00:00\n",
      "Processing 4802960075B--------------------------------------------------\n",
      "Using 1979-12-11 00:00:00 for tile date 1979-12-11 00:00:00\n",
      "Processing 48201C0380J--------------------------------------------------\n",
      "Using 1996-11-23 00:00:00 for tile date 1996-11-06 00:00:00\n",
      "Processing 480296A_61--------------------------------------------------\n",
      "Could not find tile in detections 480296A_6\n",
      "Processing 48201C0045J--------------------------------------------------\n",
      "Could not find key J for current tile from options [0, 'L'], using closest date from all keys\n",
      "Using 1996-11-23 00:00:00 for tile date 1996-11-06 00:00:00\n",
      "Processing 48201C0290M--------------------------------------------------\n",
      "Could not find date in ['TEXAS', 'AND INCORPORATED AREAS', 'PANEL 290 OF 1150', '(SEE MAP INDEX FOR FIRM PANEL LAYOUT)', 'CONTAINS:', 'COMMUNITY NUMBER   PANEL   SUFFIX', 'HARRIS COUNTY. 480287 0290 M', 'UNINCORPORATED AREAS', 'HOUSTON, CITY OF 480296 0290 M', 'Notice to User:  The Map Number shown below should be used', 'when   placing   map  orders; the Community Number  shown', 'above should be used on insurance applications for the subject', 'community.', 'MAP NUMBER', '48201C0290M', 'ND $e', 'MAP REVISED', '3', 'OCTOBER 16,2013', 'Federal Emergency Management Agency', 'Map']\n",
      "Processing 480296A_81--------------------------------------------------\n",
      "Could not find tile in detections 480296A_8\n",
      "Processing 48201C0220J--------------------------------------------------\n",
      "Using 1996-11-23 00:00:00 for tile date 1996-11-06 00:00:00\n",
      "Processing 480296A_134--------------------------------------------------\n",
      "Could not find tile in detections 480296A_13\n",
      "Processing 48201C0960M--------------------------------------------------\n",
      "Using 2015-05-04 00:00:00 for tile date 2015-05-04 00:00:00\n",
      "Processing 4802870095E--------------------------------------------------\n",
      "Using 1988-02-04 00:00:00 for tile date 1988-04-08 00:00:00\n",
      "Processing 4802870065D--------------------------------------------------\n",
      "Could not find date in ['HARFIS', '421d', 'TEXAS', '(UNINCORPORATED AREAS)', 'PANEL 65 OF 550', '(SEE MAP indemeor PANELS Not Reinted)', 'CoMmunity-PaneL NUMBER', '480287 0065 D', 'Map RE VISED:', 'SEPTERBER 27 . 1985', 'Federal Emergency Management Ageney', '8', '8']\n",
      "Processing 48201C0880J--------------------------------------------------\n",
      "Could not find date in None\n",
      "Could not find tile extension in detections 48201C0880 - J, using default K from options dict_keys(['K', 'L', 'M', 0])\n",
      "Processing 480287B_13--------------------------------------------------\n"
     ]
    },
    {
     "name": "stderr",
     "output_type": "stream",
     "text": [
      "11/08/2024 10:15:42 - WARNING - rasterio._env -   CPLE_AppDefined in D:/RECTDNN/uncompress/48201C1095L.tif: _TIFFVSetField:D:/RECTDNN/uncompress/48201C1095L.tif: Null count for \"Tag 32934\" (type 4, writecount -3, passcount 1)\n",
      "11/08/2024 10:15:42 - INFO - rasterio._env -   GDAL signalled an error: err_no=1, msg='_TIFFVSetField:D:/RECTDNN/uncompress/48201C1095L.tif: Null count for \"Tag 32934\" (type 4, writecount -3, passcount 1)'\n"
     ]
    },
    {
     "name": "stdout",
     "output_type": "stream",
     "text": [
      "Could not find tile in detections 480287B_1\n",
      "Processing 48201C1095L--------------------------------------------------\n",
      "Could not find date in ['T4iuuo CUUI 1 1 ,', 'TEXAS', 'AND INCORPORATED AREAS', 'PANEL 1095 OF 1150', '(SEE   MAP   INDEX   FOR   FIRM   PANEL   LAYOUT)', 'CONTAINS _', 'COMMUNITY NUMBER > PANEL _> SUFHX', '5', 'ELLAGO, ClTY OF 485466 1085', 'HARAS COUNTY', 'UNINCORPORATED AREAS 480287 1085', 'SEABROOK, CITY OF 485507 1095', 'Notice to Usor: The Map Number shown below should be used', 'whon   placing   map  orders;   the  Community   Number   shown', 'above should bo used on insurance applications for the subjoct', 'community:', 'MAP NUMBER', '48201C1095L', 'MAP REVISED:', 'TTT', 'JUNE 18 , 2007', 'Federal Emergency Management Agency', 'QEPARTM', 'SECU', 'AND']\n",
      "Processing 480296A_58--------------------------------------------------\n",
      "Could not find tile in detections 480296A_5\n",
      "Processing 48201C0660J--------------------------------------------------\n",
      "Could not find key J for current tile from options ['K', 'L', 'M', 0], using closest date from all keys\n",
      "Using 1996-11-23 00:00:00 for tile date 1996-11-06 00:00:00\n",
      "Processing 48201C0595J--------------------------------------------------\n",
      "Could not find key J for current tile from options [0, 'L'], using closest date from all keys\n",
      "Using 1996-11-23 00:00:00 for tile date 1996-11-06 00:00:00\n",
      "Processing 4802870305E--------------------------------------------------\n"
     ]
    },
    {
     "name": "stderr",
     "output_type": "stream",
     "text": [
      "11/08/2024 10:15:55 - WARNING - rasterio._env -   CPLE_AppDefined in D:/RECTDNN/uncompress/48201C0620L.tif: _TIFFVSetField:D:/RECTDNN/uncompress/48201C0620L.tif: Null count for \"Tag 32934\" (type 4, writecount -3, passcount 1)\n",
      "11/08/2024 10:15:55 - INFO - rasterio._env -   GDAL signalled an error: err_no=1, msg='_TIFFVSetField:D:/RECTDNN/uncompress/48201C0620L.tif: Null count for \"Tag 32934\" (type 4, writecount -3, passcount 1)'\n"
     ]
    },
    {
     "name": "stdout",
     "output_type": "stream",
     "text": [
      "Using 1988-02-04 00:00:00 for tile date 1988-02-04 00:00:00\n",
      "Processing 48201C0620L--------------------------------------------------\n",
      "Using 2007-06-18 00:00:00 for tile date 2007-06-18 00:00:00\n",
      "Processing 480287B_4--------------------------------------------------\n",
      "Could not find tile in detections 480287B_\n",
      "Processing 48201C0445K--------------------------------------------------\n",
      "Could not find date in ['CITY OF', '313  ! | Ehoustov/|WEARRIS COUNTY ?', '480296- ||WTEXAS AND', '1', 'INCORFORATDAREAS', '3C €', 'TllC', 'Xleid', \"ZONEt ~ U/ 8a~) ' _ Toc ## Ek8T|W pahel 445 DF 1135\", 'Rent4', 'WE0 Mnt | UdoocotXITID', 'Zhox| KN', 'SaUO', 'Qi', 'ro| \"', 'JurII 2 _VD', 'KII', 'To', 'ZONE', 'Eei', 'ZONE', 'Mult', 'Map MUMBER', '48207C0445 *', 'MAP REVISED:', 'Zuog2', 'RPRIL ZU, \"2400', 'Tpte Oa Uaie 25*38*00\"', '{Li; QWu{C', 'Krdrtaa', 'EttgeT } Menxsetceni Agenc;', 'E']\n",
      "Processing 48201C0745J--------------------------------------------------\n",
      "Could not find key J for current tile from options ['K', 'L', 'M', 0], using closest date from all keys\n",
      "Using 1996-11-23 00:00:00 for tile date 1996-11-06 00:00:00\n",
      "Processing 480296A_100--------------------------------------------------\n",
      "Could not find tile in detections 480296A_10\n",
      "Processing 480287B_51--------------------------------------------------\n",
      "Could not find tile in detections 480287B_5\n",
      "Processing 4802960125C--------------------------------------------------\n",
      "COULD NOT FIND BOUNDS, USING IMAGE EXTENTS 4802960125C\n",
      "Could not find date in ['LAG oL', 'CITY OE', 'AVE', 'HOUSTON,', 'ZONE', 'TEXAS', 'Aii TaWNS ` ! )  k| 2| |hh HARRIS', 'HERAERT', 'FORT BEND', 'SQUUSfnty,', 'MONTGOMERY', \"'ZONE / / /4 J} / ass\", 'COUNTY', 'PANE', '126 OF 195', 'ISEE MAE', 'INDERYFOA PANELS NOT PTTNTED}', 'GARDEL', 'Lrnlocr', \"F8EmETEAfk'\", 'LEX', 'JAPONCA', 'KERNEL', 'LIndEN', 'BL__ illossaoss', 'Bommunity-Panel NUMBER', '[IARCISSus', '480296 0125', 'KELLERJJLLKELER', 'ZONE € `ST 7T PF~|W 3   Me REVISED:', 'PALMETTO', 'SEPTEMBER 27,1985', 'QUINCE', 'RUSTIC', 'RAILER', 'PaRk', '3', 'DEBORAn', 'Federal Emergency Management Agency', 'Maxchester', '1', '1', '0', '8', 'KerNE', 'Lnden_', 'Mossrose', 'PAciFIC', 'Vaacissus', 'BrQ', '0', 'RQAD', 'Voquhidge']\n",
      "Could not find tile extension in detections 4802960125 - C, using default B from options dict_keys(['B', 0])\n",
      "Processing 4802960020C--------------------------------------------------\n",
      "Could not find key C for current tile from options [0, 'D', 'B'], using closest date from all keys\n",
      "Using 1982-09-21 00:00:00 for tile date 1982-09-21 00:00:00\n",
      "Processing 48201C0275G--------------------------------------------------\n"
     ]
    },
    {
     "name": "stderr",
     "output_type": "stream",
     "text": [
      "11/08/2024 10:16:15 - WARNING - rasterio._env -   CPLE_AppDefined in D:/RECTDNN/uncompress/48201C0660L.tif: _TIFFVSetField:D:/RECTDNN/uncompress/48201C0660L.tif: Null count for \"Tag 32934\" (type 4, writecount -3, passcount 1)\n",
      "11/08/2024 10:16:15 - INFO - rasterio._env -   GDAL signalled an error: err_no=1, msg='_TIFFVSetField:D:/RECTDNN/uncompress/48201C0660L.tif: Null count for \"Tag 32934\" (type 4, writecount -3, passcount 1)'\n"
     ]
    },
    {
     "name": "stdout",
     "output_type": "stream",
     "text": [
      "Could not find date in ['HARRIS COUNTY,', 'TEXAS AND', 'INCORPORA TED AREAS', 'PANEL 275 OF.390', '(SEE MAP INDEX FoA PANELS NTLPRUAETED)', 'CONiANS:', 'ComMuniy  3 *  Wketr  Hce-asufeix', 'HQUSTUN Citte &   4s024', 'hunters Calek Ware WF   4807987 0T75', 'Piney Poi VEaGL city 0f   480j08', 'MAP NUMBER', '48201C0275 G', 'EFFECTIVE DATE:', 'SEPTERBER 28, 1990', 'Federal Emergency Management Agency', '8', '6']\n",
      "Could not find tile extension in detections 48201C0275 - G, using default H from options dict_keys(['H'])\n",
      "Processing 48201C0660L--------------------------------------------------\n",
      "Using 2007-06-18 00:00:00 for tile date 2007-06-18 00:00:00\n",
      "Processing 480287B_53--------------------------------------------------\n"
     ]
    },
    {
     "name": "stderr",
     "output_type": "stream",
     "text": [
      "11/08/2024 10:16:20 - WARNING - rasterio._env -   CPLE_AppDefined in D:/RECTDNN/uncompress/48201C0945L.tif: _TIFFVSetField:D:/RECTDNN/uncompress/48201C0945L.tif: Null count for \"Tag 32934\" (type 4, writecount -3, passcount 1)\n",
      "11/08/2024 10:16:20 - INFO - rasterio._env -   GDAL signalled an error: err_no=1, msg='_TIFFVSetField:D:/RECTDNN/uncompress/48201C0945L.tif: Null count for \"Tag 32934\" (type 4, writecount -3, passcount 1)'\n"
     ]
    },
    {
     "name": "stdout",
     "output_type": "stream",
     "text": [
      "Could not find tile in detections 480287B_5\n",
      "Processing 48201C0945L--------------------------------------------------\n",
      "Using 2007-06-18 00:00:00 for tile date 2007-06-18 00:00:00\n",
      "Processing 48201C0275H--------------------------------------------------\n",
      "COULD NOT FIND BOUNDS, USING IMAGE EXTENTS 48201C0275H\n",
      "Using 1992-09-30 00:00:00 for tile date 1992-09-30 00:00:00\n",
      "Processing 48201C0855J--------------------------------------------------\n",
      "Could not find key J for current tile from options ['K', 'L', 0], using closest date from all keys\n",
      "Using 1996-11-23 00:00:00 for tile date 1996-11-08 00:00:00\n",
      "Processing 4802960110B--------------------------------------------------\n",
      "Using 1979-12-11 00:00:00 for tile date 1979-12-11 00:00:00\n",
      "Processing 480296A_34--------------------------------------------------\n",
      "Could not find tile in detections 480296A_3\n",
      "Processing 4802870210E--------------------------------------------------\n",
      "Using 1985-09-27 00:00:00 for tile date 1985-09-27 00:00:00\n",
      "Processing 4802870170E--------------------------------------------------\n",
      "Using 1988-02-04 00:00:00 for tile date 1988-02-04 00:00:00\n",
      "Processing 4802960045D--------------------------------------------------\n",
      "Using 1985-09-27 00:00:00 for tile date 1985-09-27 00:00:00\n",
      "Processing 4802960130D--------------------------------------------------\n",
      "Could not find date in ['W', 'CITY 0f', 'HOUSTON,', 'TEXAS', 'HARRIS COUNTY', 'FORT BEND COUNTY,', 'MONTGOMERY', 'COUNTY', 'PANEL 130 0F T9 5', '(SEE MAP ingrresa PANELSAOT', 'RFINTED)', 'COMMunity-PANEL NUMBER', '480296 0130 D', 'REVISED:', 'SEPTEMDER 27, 1985', 'Federal Emergency Management Ageney', '8', '8', 'MaP']\n",
      "Processing 480296A_125--------------------------------------------------\n",
      "Could not find tile in detections 480296A_12\n",
      "Processing 480287B_29--------------------------------------------------\n",
      "Could not find tile in detections 480287B_2\n",
      "Processing 48201C1055K--------------------------------------------------\n",
      "Using 2000-04-20 00:00:00 for tile date 2000-04-20 00:00:00\n",
      "Processing 480287B_36--------------------------------------------------\n",
      "Could not find tile in detections 480287B_3\n",
      "Processing 480287B_17--------------------------------------------------\n",
      "Could not find tile in detections 480287B_1\n",
      "Processing 480287B_30--------------------------------------------------\n",
      "Could not find tile in detections 480287B_3\n",
      "Processing 48201C0895M--------------------------------------------------\n",
      "Using 2017-01-06 00:00:00 for tile date 2017-01-06 00:00:00\n",
      "Processing 4802870225D--------------------------------------------------\n",
      "Could not find date in ['HARRIS', 'W', 'COUNTY', '2', 'TEXAS', 'UNINGORPORATED AREA', 'PANEL 225 0F 550', '(SEE MAP index Fdr PANELSAO#RRNTEdi', '6', 'Coriunity #anel NUMBER', '480287*0225 D', '0', 'MAP REVISED:', 'Marck 30 , 1982', 'emergancy managamont €gency', 'fcdaral insurance administration', '8']\n",
      "Processing 4802870370D--------------------------------------------------\n",
      "Using 1988-02-04 00:00:00 for tile date 1985-09-27 00:00:00\n",
      "Processing 48201C0345J--------------------------------------------------\n",
      "Could not find key J for current tile from options [0, 'L', 'G'], using closest date from all keys\n",
      "Using 1996-11-23 00:00:00 for tile date 1996-11-06 00:00:00\n",
      "Processing 4802960080B--------------------------------------------------\n",
      "Using 1979-12-11 00:00:00 for tile date 1979-12-11 00:00:00\n",
      "Processing 480296A_83--------------------------------------------------\n",
      "Could not find tile in detections 480296A_8\n",
      "Processing 480296A_55--------------------------------------------------\n",
      "Could not find tile in detections 480296A_5\n",
      "Processing 480287B_52--------------------------------------------------\n",
      "Could not find tile in detections 480287B_5\n",
      "Processing 48201C0045H--------------------------------------------------\n",
      "COULD NOT FIND BOUNDS, USING IMAGE EXTENTS 48201C0045H\n",
      "Could not find date in ['HARRIS COUNTY', 'TEXAS AND', 'INCORPORATED AREAS', 'ZONE:', 'FANEL 45 @F 390', '{SEf MAP {NDEX FOn PANELS NOT PRINTED}', 'CQNTARS:', 'LImit QF', 'DETAILED STUDY |4WXHU eoxmunity8_ NUMBEl > PAHEL   Surtlx', 'ZONE', 'TWNBALL. CITY CI \"sK   045', 'NCCPPOAEFFm KALAS +247   {15', 'Txione', 'W\"or', 'Woh', 'ZONE X,x WHXM  Notice To User: Thp MAP NUIBEM sowr Dolow', 'shontbauszdwvhenP,arngMjp orders: thaCciu', 'OLD SFTNG CYPHESS', 'ZONE X |!hlh  Nify NUmeef ancw above  Iduld be Usedcn insur', 'ROAD', 'abnacnreus uesie Wmet Acnntiny', 'ZONE AE63o', 'MAF NUMBER', '48201C0045 H', 'MAP REVISED:', ')r8AXe %o RM 48 // ! V:aa . SEPTEMBER 3C, 1992', 'ZONE', 'FQep   IRM', 'erleral', 'Lnergericy Management Ageicy', 'Utrr']\n",
      "Could not find tile extension in detections 48201C0045 - H, using default 0 from options dict_keys([0, 'L'])\n"
     ]
    },
    {
     "name": "stderr",
     "output_type": "stream",
     "text": [
      "11/08/2024 10:17:07 - WARNING - rasterio._env -   CPLE_AppDefined in D:/RECTDNN/uncompress/48201CSTD1.tif: TIFFFetchNormalTag:ASCII value for tag \"ImageDescription\" contains null byte in value; value incorrectly truncated during reading due to implementation limitations\n",
      "11/08/2024 10:17:07 - WARNING - rasterio._env -   CPLE_AppDefined in TIFFFetchNormalTag:ASCII value for tag \"ImageDescription\" contains null byte in value; value incorrectly truncated during reading due to implementation limitations\n"
     ]
    },
    {
     "name": "stdout",
     "output_type": "stream",
     "text": [
      "Processing 48201CSTD1--------------------------------------------------\n",
      "COULD NOT FIND BOUNDS, USING IMAGE EXTENTS 48201CSTD1\n",
      "Could not find tile in detections 48201CSTD\n",
      "Processing 4802960020D--------------------------------------------------\n",
      "Could not find date in ['CITY 0F', 'W', 'HOUSTON,', 'TEXAS', 'HARRIS  COUNTY', 'FORT BEND COUNTY,', 'MONTGOMERY', 'COUNTY', 'PANEL 20 0F2195', '(SEE MAP iNbe b6r PANELSRORAMNTED)', 'PaNelNUMBER', '[Ojao', '480296 0020 D', 'Mar REVISED:', 'SEBTEMBER 27 . 1985', 'Federal Emergeney Management Agency', '8', '8']\n",
      "Processing 4802870285F--------------------------------------------------\n",
      "Using 1988-02-04 00:00:00 for tile date 1988-02-04 00:00:00\n",
      "Processing 4802870230D--------------------------------------------------\n",
      "Could not find date in ['HARRIS COUNTY', 'TEXAS', '(UNINCORPORATED AREAs)', 'PANEL  230 OF550', '(SEE MAP inDesFor PANELS Not Printed)', 'COMMunity-PANEL NUMBER', '3480287.0230 D', 'MAP RE VISED:', 'EPTEMBER 27 , 1985', 'Federal Emergency Management Agency', 'Not', '8', '8']\n",
      "Processing 48201C0045G--------------------------------------------------\n",
      "Could not find key G for current tile from options [0, 'L'], using closest date from all keys\n",
      "Using 1996-11-23 00:00:00 for tile date 1990-09-28 00:00:00\n",
      "Processing 48201C1010K--------------------------------------------------\n",
      "Using 2000-04-20 00:00:00 for tile date 2000-04-20 00:00:00\n",
      "Processing 48201C0030G--------------------------------------------------\n",
      "Could not find tile in detections 48201C0030\n",
      "Processing 4802960170D--------------------------------------------------\n",
      "Using 1987-09-04 00:00:00 for tile date 1987-09-04 00:00:00\n",
      "Processing 48201C1070K--------------------------------------------------\n",
      "Could not find date in ['HARRIS COUNTY_', 'TEXAS AND', 'INCORPORATED AREAS', 'PANEL 1070   OF 1135', '(SEE MAP: INDEX FOR EANELS No, PRINTED}', 'CONTAINS:', 'COMMUNTYSUPER   PAVEL   SUFFIX', 'HARAIS COUNTY_', \"UNNCORPORATED AREAS 480287   '070\", 'HOUSTON, CiTY OF 480296 *70', 'WEBSTER Ciyic 485518  {07', 'Un', 'MAP NUMBER', '48201C1070 K', 'MAP REVISED:', 'APRIL 20, 2080', 'Federal Emergency Management Agency']\n",
      "Processing 480287B_68--------------------------------------------------\n",
      "Could not find tile in detections 480287B_6\n",
      "Processing 4802960160D--------------------------------------------------\n",
      "Using 1987-09-04 00:00:00 for tile date 1987-09-04 00:00:00\n",
      "Processing 48201C0070J--------------------------------------------------\n",
      "Could not find key J for current tile from options [0, 'L', 'G'], using closest date from all keys\n",
      "Using 1996-11-23 00:00:00 for tile date 1996-11-06 00:00:00\n",
      "Processing 480296A_20--------------------------------------------------\n",
      "Could not find tile in detections 480296A_2\n",
      "Processing 480296A_119--------------------------------------------------\n",
      "Could not find tile in detections 480296A_11\n",
      "Processing 4802870195E--------------------------------------------------\n",
      "Using 1988-02-04 00:00:00 for tile date 1988-02-04 00:00:00\n",
      "Processing 48201C0115G--------------------------------------------------\n",
      "Using 1990-09-28 00:00:00 for tile date 1990-09-28 00:00:00\n",
      "Processing 4802870035D--------------------------------------------------\n",
      "Using 1985-09-27 00:00:00 for tile date 1985-09-27 00:00:00\n",
      "Processing 4802960075C--------------------------------------------------\n",
      "Could not find key C for current tile from options [0, 'E', 'B'], using closest date from all keys\n",
      "Using 1982-09-21 00:00:00 for tile date 1982-09-21 00:00:00\n",
      "Processing 4802960085B--------------------------------------------------\n",
      "Using 1979-12-11 00:00:00 for tile date 1979-12-11 00:00:00\n",
      "Processing 4802960195B--------------------------------------------------\n",
      "Using 1979-12-11 00:00:00 for tile date 1979-12-11 00:00:00\n",
      "Processing 48201C0250G--------------------------------------------------\n",
      "Could not find tile in detections 48201C0250\n",
      "Processing 48201C0300G--------------------------------------------------\n",
      "Could not find tile in detections 48201C0300\n",
      "Processing 48201C0865J--------------------------------------------------\n",
      "Using 1996-11-23 00:00:00 for tile date 1996-11-06 00:00:00\n",
      "Processing 4802870205F--------------------------------------------------\n",
      "Using 1988-02-04 00:00:00 for tile date 1988-04-08 00:00:00\n",
      "Processing 48201C0420M--------------------------------------------------\n",
      "Using 2013-10-16 00:00:00 for tile date 2013-10-16 00:00:00\n",
      "Processing 48201C0260J--------------------------------------------------\n",
      "Using 2000-04-20 00:00:00 for tile date 1996-11-06 00:00:00\n",
      "Processing 48201C0320J--------------------------------------------------\n",
      "Using 1996-11-23 00:00:00 for tile date 1996-11-06 00:00:00\n",
      "Processing 480287B_37--------------------------------------------------\n",
      "Could not find tile in detections 480287B_3\n",
      "Processing 4802960145B--------------------------------------------------\n",
      "Using 1979-12-11 00:00:00 for tile date 1979-12-11 00:00:00\n",
      "Processing 480287B_67--------------------------------------------------\n",
      "COULD NOT FIND BOUNDS, USING IMAGE EXTENTS 480287B_67\n",
      "Could not find tile in detections 480287B_6\n",
      "Processing 480287B_50--------------------------------------------------\n",
      "Could not find tile in detections 480287B_5\n",
      "Processing 48201C1035K--------------------------------------------------\n",
      "Using 2000-04-20 00:00:00 for tile date 2000-04-20 00:00:00\n",
      "Processing 480296A_29--------------------------------------------------\n",
      "Could not find tile in detections 480296A_2\n",
      "Processing 48201C0010G--------------------------------------------------\n",
      "Using 1990-09-28 00:00:00 for tile date 1990-09-28 00:00:00\n",
      "Processing 4802870015D--------------------------------------------------\n",
      "Using 1985-09-27 00:00:00 for tile date 1985-09-27 00:00:00\n",
      "Processing 480287B_5--------------------------------------------------\n",
      "Could not find tile in detections 480287B_\n",
      "Processing 480287B_56--------------------------------------------------\n"
     ]
    },
    {
     "name": "stderr",
     "output_type": "stream",
     "text": [
      "11/08/2024 10:18:14 - WARNING - rasterio._env -   CPLE_AppDefined in D:/RECTDNN/uncompress/48201C0880L.tif: _TIFFVSetField:D:/RECTDNN/uncompress/48201C0880L.tif: Null count for \"Tag 32934\" (type 4, writecount -3, passcount 1)\n",
      "11/08/2024 10:18:14 - INFO - rasterio._env -   GDAL signalled an error: err_no=1, msg='_TIFFVSetField:D:/RECTDNN/uncompress/48201C0880L.tif: Null count for \"Tag 32934\" (type 4, writecount -3, passcount 1)'\n"
     ]
    },
    {
     "name": "stdout",
     "output_type": "stream",
     "text": [
      "Could not find tile in detections 480287B_5\n",
      "Processing 48201C0880L--------------------------------------------------\n",
      "Using 2007-06-18 00:00:00 for tile date 2007-06-18 00:00:00\n",
      "Processing 480296A_117--------------------------------------------------\n",
      "Could not find tile in detections 480296A_11\n",
      "Processing 48201C0965J--------------------------------------------------\n",
      "Using 1996-11-23 00:00:00 for tile date 1996-11-06 00:00:00\n",
      "Processing 48201C0180J--------------------------------------------------\n",
      "Using 1996-11-23 00:00:00 for tile date 1996-11-06 00:00:00\n",
      "Processing 4802870540E--------------------------------------------------\n",
      "Could not find date in ['8', 'W', 'HARRIS COUNTY,', 'TEXAS', '(UNINCORPORATED AREAS)', 'PANEL 540 OF 550', '(SEE MAP INZEXS0R PANELS Ro', 'CRENTED)', 'Comimunity #aheLNUMBER', '480287 0540 E', 'Mar REVISED:', 'SEPTERABER 27 , 1985', 'Federal Emergency Management Agency', '6', '8']\n",
      "Processing 480296A_38--------------------------------------------------\n",
      "COULD NOT FIND BOUNDS, USING IMAGE EXTENTS 480296A_38\n",
      "Could not find tile in detections 480296A_3\n",
      "Processing 48201C0260G--------------------------------------------------\n",
      "Could not find key G for current tile from options ['J', 'L', 0], using closest date from all keys\n",
      "Using 1996-11-23 00:00:00 for tile date 1990-09-28 00:00:00\n",
      "Processing 4802870050C--------------------------------------------------\n",
      "Could not find key C for current tile from options [0], using closest date from all keys\n",
      "Using 1981-02-24 00:00:00 for tile date 1981-02-24 00:00:00\n",
      "Processing 480287B_41--------------------------------------------------\n",
      "Could not find tile in detections 480287B_4\n",
      "Processing 48201C0830J--------------------------------------------------\n",
      "Could not find key J for current tile from options ['K', 'L', 0], using closest date from all keys\n",
      "Using 1996-11-23 00:00:00 for tile date 1996-11-06 00:00:00\n",
      "Processing 48201C0380G--------------------------------------------------\n",
      "Could not find date in ['HARRIS COUNTY', 'TEXAS AND', 'INCORPORATED AREAS', 'PANEL 380 OF 390', '(SEE MAP INDEX FOR PANELS NOT PRINTED}', 'Contail_', \"COMMWNITY `` ' *4 . NUMBER   PaNel ` SUFFIX\", 'PEARLANC, CTY OF~3 4BOD77 <0380', 'UNINCORPORATED AREAS :~ 480287 ` 0380 [', 'U', 'MAP NUMBER', '48201c0380 G', 'EFFECTIVE DATE:', 'SEPTEMBER 28, 1390', 'Federal Emergency Management Agency']\n",
      "Processing 4802870190D--------------------------------------------------\n"
     ]
    },
    {
     "name": "stderr",
     "output_type": "stream",
     "text": [
      "11/08/2024 10:18:42 - WARNING - rasterio._env -   CPLE_AppDefined in D:/RECTDNN/uncompress/48201C0630L.tif: _TIFFVSetField:D:/RECTDNN/uncompress/48201C0630L.tif: Null count for \"Tag 32934\" (type 4, writecount -3, passcount 1)\n",
      "11/08/2024 10:18:42 - INFO - rasterio._env -   GDAL signalled an error: err_no=1, msg='_TIFFVSetField:D:/RECTDNN/uncompress/48201C0630L.tif: Null count for \"Tag 32934\" (type 4, writecount -3, passcount 1)'\n"
     ]
    },
    {
     "name": "stdout",
     "output_type": "stream",
     "text": [
      "Could not find key D for current tile from options ['E'], using closest date from all keys\n",
      "Using 1988-02-04 00:00:00 for tile date 1985-09-27 00:00:00\n",
      "Processing 48201C0630L--------------------------------------------------\n",
      "Using 2007-06-18 00:00:00 for tile date 2007-06-18 00:00:00\n",
      "Processing 4802960120D--------------------------------------------------\n",
      "Using 1985-09-27 00:00:00 for tile date 1985-09-27 00:00:00\n",
      "Processing 4802960025B--------------------------------------------------\n"
     ]
    },
    {
     "name": "stderr",
     "output_type": "stream",
     "text": [
      "11/08/2024 10:18:49 - WARNING - rasterio._env -   CPLE_AppDefined in D:/RECTDNN/uncompress/48201C1030L.tif: _TIFFVSetField:D:/RECTDNN/uncompress/48201C1030L.tif: Null count for \"Tag 32934\" (type 4, writecount -3, passcount 1)\n",
      "11/08/2024 10:18:49 - INFO - rasterio._env -   GDAL signalled an error: err_no=1, msg='_TIFFVSetField:D:/RECTDNN/uncompress/48201C1030L.tif: Null count for \"Tag 32934\" (type 4, writecount -3, passcount 1)'\n"
     ]
    },
    {
     "name": "stdout",
     "output_type": "stream",
     "text": [
      "Using 1979-12-11 00:00:00 for tile date 1979-12-11 00:00:00\n",
      "Processing 48201C1030L--------------------------------------------------\n",
      "COULD NOT FIND BOUNDS, USING IMAGE EXTENTS 48201C1030L\n",
      "Could not find date in ['TEXAS', '3274000 Mvl', 'AND INCORPORATED AREAS', 'PANEL 1030 OF 1160', '{SEE   MAP   INDEX   FOR  FiRM PANEL LAYot', 'CQNLAINS:', 'COMMUNITY . NUMBER   PANEL   SuFFIX', 'AARRI8COUNY', 'UNNcOnPORATSI) 41F4s 46228} I033', 'PEXALNDCITYCF 480077 103\"', 'HOUSICA,Cnyof 431286 1083', '3272000 M', 'No ice (0 Ve: Thn Map Number chow) Lelov shorld be Usod', '2', 'aboec shcing ,02x48 dcrsn _hencecmp kceticnsNu hee subjecr', 'Tnnuet', 'MAP NUMBER', '48201c1C30L', 'MAP REVISED=', '29*33\\'45\"', 'JUNE 78, 2007', '95\"18\\'45', 'Federal Emergency Management Agency']\n",
      "Processing 48201C0015H--------------------------------------------------\n",
      "Could not find key H for current tile from options [0, 'L'], using closest date from all keys\n",
      "Using 1996-11-23 00:00:00 for tile date 1992-09-30 00:00:00\n",
      "Processing 48201C0195J--------------------------------------------------\n",
      "Could not find key J for current tile from options [0, 'L', 'M'], using closest date from all keys\n",
      "Using 1996-11-23 00:00:00 for tile date 1996-11-06 00:00:00\n",
      "Processing 48201C0530J--------------------------------------------------\n",
      "Could not find key J for current tile from options [0, 'L'], using closest date from all keys\n",
      "Using 1996-11-23 00:00:00 for tile date 1996-11-06 00:00:00\n",
      "Processing 480287B_63--------------------------------------------------\n",
      "Could not find tile in detections 480287B_6\n",
      "Processing 48201C0280J--------------------------------------------------\n",
      "Could not find key J for current tile from options [0, 'L'], using closest date from all keys\n",
      "Using 1996-11-23 00:00:00 for tile date 1996-11-06 00:00:00\n",
      "Processing 4802960155B--------------------------------------------------\n",
      "Using 1979-12-11 00:00:00 for tile date 1979-12-11 00:00:00\n",
      "Processing 480287B_73--------------------------------------------------\n",
      "Could not find tile in detections 480287B_7\n",
      "Processing 480287B_8--------------------------------------------------\n",
      "Could not find tile in detections 480287B_\n",
      "Processing 480287B_11--------------------------------------------------\n",
      "Could not find tile in detections 480287B_1\n",
      "Processing 48201C0315J--------------------------------------------------\n",
      "Could not find key J for current tile from options ['K', 'L', 'H', 0], using closest date from all keys\n",
      "Using 1996-11-23 00:00:00 for tile date 1996-11-06 00:00:00\n",
      "Processing 48201C0270J--------------------------------------------------\n",
      "Could not find key J for current tile from options [0, 'L', 'M', 'H'], using closest date from all keys\n",
      "Using 1996-11-23 00:00:00 for tile date 1996-11-06 00:00:00\n",
      "Processing 48201C0665K--------------------------------------------------\n",
      "Could not find key K for current tile from options ['L', 'M', 'J'], using closest date from all keys\n",
      "Using 1996-11-23 00:00:00 for tile date 2000-04-20 00:00:00\n",
      "Processing 48201C0090J--------------------------------------------------\n",
      "Could not find key J for current tile from options [0, 'L'], using closest date from all keys\n",
      "Using 1996-11-23 00:00:00 for tile date 1996-11-06 00:00:00\n",
      "Processing 480296A_108--------------------------------------------------\n",
      "Could not find tile in detections 480296A_10\n",
      "Processing 48201C0545J--------------------------------------------------\n",
      "Could not find key J for current tile from options [0, 'L'], using closest date from all keys\n",
      "Using 1996-11-23 00:00:00 for tile date 1996-11-06 00:00:00\n",
      "Processing 480296A_73--------------------------------------------------\n",
      "Could not find tile in detections 480296A_7\n",
      "Processing 480287B_9--------------------------------------------------\n",
      "Could not find tile in detections 480287B_\n",
      "Processing 48201C0095G--------------------------------------------------\n",
      "Could not find tile in detections 48201C0095\n",
      "Processing 48201C0100G--------------------------------------------------\n",
      "COULD NOT FIND BOUNDS, USING IMAGE EXTENTS 48201C0100G\n",
      "Could not find key G for current tile from options ['L', 0], using closest date from all keys\n",
      "Using 1990-09-28 00:00:00 for tile date 1990-09-28 00:00:00\n",
      "Processing 48201C0005G--------------------------------------------------\n",
      "Using 1992-09-30 00:00:00 for tile date 1990-09-28 00:00:00\n",
      "Processing 48201C0310G--------------------------------------------------\n",
      "Using 1990-09-28 00:00:00 for tile date 1990-09-28 00:00:00\n",
      "Processing 480287B_47--------------------------------------------------\n",
      "Could not find tile in detections 480287B_4\n",
      "Processing 48201C0835J--------------------------------------------------\n",
      "Could not find key J for current tile from options ['K', 'C', 'L', 0], using closest date from all keys\n",
      "Using 1996-11-23 00:00:00 for tile date 1996-11-06 00:00:00\n",
      "Processing 4802870470E--------------------------------------------------\n",
      "Using 1985-09-27 00:00:00 for tile date 1985-09-27 00:00:00\n",
      "Processing 480287B_34--------------------------------------------------\n",
      "Could not find tile in detections 480287B_3\n",
      "Processing 480287B_18--------------------------------------------------\n",
      "Could not find tile in detections 480287B_1\n",
      "Processing 48201C0890J--------------------------------------------------\n",
      "Could not find key J for current tile from options [0, 'L', 'M'], using closest date from all keys\n",
      "Using 1996-11-23 00:00:00 for tile date 1996-11-06 00:00:00\n",
      "Processing 480296A_65--------------------------------------------------\n",
      "Could not find tile in detections 480296A_6\n",
      "Processing 48201C0245J--------------------------------------------------\n",
      "Could not find key J for current tile from options ['K', 'L', 'M', 'G', 'W'], using closest date from all keys\n",
      "Using 2000-04-20 00:00:00 for tile date 1998-11-06 00:00:00\n",
      "Processing 4802870165E--------------------------------------------------\n",
      "Using 1988-02-04 00:00:00 for tile date 1988-02-04 00:00:00\n",
      "Processing 48201C0870K--------------------------------------------------\n",
      "Using 2000-04-20 00:00:00 for tile date 2000-04-20 00:00:00\n",
      "Processing 480296A_23--------------------------------------------------\n",
      "Could not find tile in detections 480296A_2\n",
      "Processing 4802960040C--------------------------------------------------\n",
      "Could not find key C for current tile from options [0, 'D', 'B'], using closest date from all keys\n",
      "Using 1982-09-21 00:00:00 for tile date 1982-09-21 00:00:00\n",
      "Processing 4802960135C--------------------------------------------------\n",
      "Using 1985-09-27 00:00:00 for tile date 1985-09-27 00:00:00\n",
      "Processing 4802960140C--------------------------------------------------\n",
      "Using 1985-09-27 00:00:00 for tile date 1985-09-27 00:00:00\n",
      "Processing 4802870280E--------------------------------------------------\n",
      "Using 1985-09-27 00:00:00 for tile date 1985-09-27 00:00:00\n",
      "Processing 4802960155C--------------------------------------------------\n",
      "Could not find key C for current tile from options [0, 'D', 'E', 'B'], using closest date from all keys\n",
      "Using 1982-09-21 00:00:00 for tile date 1982-09-21 00:00:00\n",
      "Processing 48201C0170J--------------------------------------------------\n",
      "Could not find key J for current tile from options [0, 'M'], using closest date from all keys\n",
      "Using 1996-11-23 00:00:00 for tile date 1996-11-06 00:00:00\n",
      "Processing 48201C0420K--------------------------------------------------\n",
      "Using 2000-04-20 00:00:00 for tile date 2000-04-20 00:00:00\n",
      "Processing 480296A_39--------------------------------------------------\n",
      "Could not find tile in detections 480296A_3\n",
      "Processing 48201C0395M--------------------------------------------------\n",
      "Could not find date in ['TEXAS', 'AND INCORPORATED AREAS', 'PANEL 395 OF 1150', '(SEE MAP INDEX FOR FIRM PANEL LAYOUT)', 'CONTAINS:', 'COMMUNITY NUMBER   PANEL   SUFFIX', 'HARRIS COUNTY , 480287 0295 M', 'UNINCORPORATED AREAS', 'HOUSTON, CITY OF 480296 0395 M', 'Notice to User; The Map Number shown below should be used', 'when', 'placing   map  orders; the Community Number  shown', 'abave should be used on insurance applications for the subject', 'community.', 'MAP NUMBER', '48201CO395M', 'ND', 'MAP REVISED', '2', 'OCTOBER 16,2013', 'Federal Emergency Management Agency']\n",
      "Processing 48201C0765J--------------------------------------------------\n",
      "Could not find key J for current tile from options [0, 'L', 'M'], using closest date from all keys\n",
      "Using 1996-11-23 00:00:00 for tile date 1996-11-08 00:00:00\n",
      "Processing 480287B_43--------------------------------------------------\n",
      "Could not find tile in detections 480287B_4\n",
      "Processing 4802870025C--------------------------------------------------\n",
      "Could not find key C for current tile from options [0], using closest date from all keys\n",
      "Using 1981-02-24 00:00:00 for tile date 1981-02-24 00:00:00\n",
      "Processing 4802870135D--------------------------------------------------\n",
      "Using 1985-09-27 00:00:00 for tile date 1985-09-27 00:00:00\n",
      "Processing 480296A_124--------------------------------------------------\n",
      "Could not find tile in detections 480296A_12\n",
      "Processing 48201C0460J--------------------------------------------------\n",
      "Could not find key J for current tile from options [0, 'L', 'M'], using closest date from all keys\n",
      "Using 1996-11-23 00:00:00 for tile date 1996-11-06 00:00:00\n",
      "Processing 4802960050B--------------------------------------------------\n",
      "Using 1979-12-11 00:00:00 for tile date 1979-12-11 00:00:00\n",
      "Processing 4802960180B--------------------------------------------------\n",
      "Using 1979-12-11 00:00:00 for tile date 1979-12-11 00:00:00\n",
      "Processing 48201C0515J--------------------------------------------------\n",
      "Could not find key J for current tile from options [0, 'L', 'M'], using closest date from all keys\n",
      "Using 1996-11-23 00:00:00 for tile date 1996-11-06 00:00:00\n",
      "Processing 48201C0145G--------------------------------------------------\n",
      "COULD NOT FIND BOUNDS, USING IMAGE EXTENTS 48201C0145G\n",
      "Using 1992-09-30 00:00:00 for tile date 1990-09-28 00:00:00\n",
      "Processing 4802960155D--------------------------------------------------\n",
      "Could not find date in ['CITY 02', 'TOUSSON;', '@', 'HARRIS {COUNTY', 'FORT BEND COUNTY,', 'MONTGOMERY', 'COUNTY', 'PANEL 155 OF195', '(See MAP Inbex 5ra PANELS Ror', 'FrNTEd)', '5', 'COMMunIty PaNeL NUMBER', '480296 0155 D', 'Map REVISED:', 'SEPTERRBER 27 , 1985', 'Federal Emergency Management Agency', '8']\n",
      "Processing 480296A_2--------------------------------------------------\n",
      "Could not find tile in detections 480296A_\n",
      "Processing 4802870430D--------------------------------------------------\n",
      "Using 1985-09-27 00:00:00 for tile date 1985-09-27 00:00:00\n",
      "Processing 480287B_66--------------------------------------------------\n",
      "Could not find tile in detections 480287B_6\n",
      "Processing 4802960060B--------------------------------------------------\n",
      "Using 1979-12-11 00:00:00 for tile date 1979-11-08 00:00:00\n",
      "Processing 480296A_95--------------------------------------------------\n",
      "Could not find tile in detections 480296A_9\n",
      "Processing 4802870520D--------------------------------------------------\n"
     ]
    },
    {
     "name": "stderr",
     "output_type": "stream",
     "text": [
      "11/08/2024 10:20:50 - WARNING - rasterio._env -   CPLE_AppDefined in D:/RECTDNN/uncompress/48201C0170L.tif: _TIFFVSetField:D:/RECTDNN/uncompress/48201C0170L.tif: Null count for \"Tag 32934\" (type 4, writecount -3, passcount 1)\n",
      "11/08/2024 10:20:50 - INFO - rasterio._env -   GDAL signalled an error: err_no=1, msg='_TIFFVSetField:D:/RECTDNN/uncompress/48201C0170L.tif: Null count for \"Tag 32934\" (type 4, writecount -3, passcount 1)'\n"
     ]
    },
    {
     "name": "stdout",
     "output_type": "stream",
     "text": [
      "Using 1985-09-27 00:00:00 for tile date 1985-09-27 00:00:00\n",
      "Processing 48201C0170L--------------------------------------------------\n",
      "Could not find key L for current tile from options [0, 'M'], using closest date from all keys\n",
      "Using 2013-10-16 00:00:00 for tile date 2007-06-18 00:00:00\n",
      "Processing 48201C0245G--------------------------------------------------\n",
      "Using 1992-09-30 00:00:00 for tile date 1990-09-28 00:00:00\n",
      "Processing 4802870530E--------------------------------------------------\n",
      "Using 1985-09-27 00:00:00 for tile date 1985-09-27 00:00:00\n",
      "Processing 480296A_97--------------------------------------------------\n",
      "Could not find tile in detections 480296A_9\n",
      "Processing 48201C1030K--------------------------------------------------\n",
      "Could not find date in ['HARRIS COUNTY', 'TEXAS AND', 'INCORPORATED   AREAS', 'PANEL 1030 OF 1135', '(SEE MAP INDEX FOR PANELS NoT PRINTED)', 'CONTAINS', 'COMMUNTY _ NUMBcR   PANEL   SUFEIX', 'HaRAIS', 'COUNTY _', 'UNNCOHPORAILD ARLAS 480287 1030', 'HoustoicGx OF 480230  1030', '47', 'Map NUMBER', '48201C1030 K', 'MAP  REVISED:', \"29033'45'-\", 'APRIL 20,2000', '\\'18\\'45\"', 'Federal Emergency Management Agency', '20 ,']\n",
      "Could not find tile extension in detections 48201C1030 - K, using default L from options dict_keys(['L', 'M', 0])\n",
      "Processing 48201C0655K--------------------------------------------------\n",
      "Using 2000-04-20 00:00:00 for tile date 2000-04-20 00:00:00\n",
      "Processing 48201C0265J--------------------------------------------------\n",
      "Could not find key J for current tile from options [0, 'L', 'M', 'G'], using closest date from all keys\n",
      "Using 1996-11-23 00:00:00 for tile date 1996-11-06 00:00:00\n",
      "Processing 480296A_120--------------------------------------------------\n",
      "Could not find tile in detections 480296A_12\n",
      "Processing 48201C0495J--------------------------------------------------\n",
      "Could not find key J for current tile from options [0, 'L'], using closest date from all keys\n",
      "Using 1996-11-23 00:00:00 for tile date 1996-11-06 00:00:00\n",
      "Processing 4802960100C--------------------------------------------------\n",
      "Could not find tile in detections 4802960100\n",
      "Processing 480287B_62--------------------------------------------------\n",
      "Could not find tile in detections 480287B_6\n",
      "Processing 480287B_87--------------------------------------------------\n",
      "COULD NOT FIND BOUNDS, USING IMAGE EXTENTS 480287B_87\n",
      "Could not find tile in detections 480287B_8\n",
      "Processing 480296A_15--------------------------------------------------\n",
      "Could not find tile in detections 480296A_1\n",
      "Processing 48201C0905J--------------------------------------------------\n",
      "Could not find key J for current tile from options ['L', 'M', 'N', 0], using closest date from all keys\n",
      "Using 1996-11-23 00:00:00 for tile date 1996-11-06 00:00:00\n",
      "Processing 4802870180D--------------------------------------------------\n",
      "Using 1985-09-27 00:00:00 for tile date 1985-09-27 00:00:00\n",
      "Processing 4802960015B--------------------------------------------------\n",
      "Using 1979-12-11 00:00:00 for tile date 1979-12-11 00:00:00\n",
      "Processing 480287B_70--------------------------------------------------\n",
      "Could not find tile in detections 480287B_7\n",
      "Processing 4802960185B--------------------------------------------------\n",
      "Using 1979-12-11 00:00:00 for tile date 1979-12-11 00:00:00\n",
      "Processing 48201C0505J--------------------------------------------------\n",
      "Could not find key J for current tile from options [0, 'L', 'M'], using closest date from all keys\n",
      "Using 1996-11-23 00:00:00 for tile date 1996-11-06 00:00:00\n",
      "Processing 48201C1005K--------------------------------------------------\n",
      "Using 2000-04-20 00:00:00 for tile date 2000-04-20 00:00:00\n",
      "Processing 48201C0335H--------------------------------------------------\n",
      "Using 1992-09-30 00:00:00 for tile date 1992-09-30 00:00:00\n",
      "Processing 48201C1045K--------------------------------------------------\n",
      "Using 2000-04-20 00:00:00 for tile date 2000-04-20 00:00:00\n",
      "Processing 4802960110D--------------------------------------------------\n"
     ]
    },
    {
     "name": "stderr",
     "output_type": "stream",
     "text": [
      "11/08/2024 10:21:40 - WARNING - rasterio._env -   CPLE_AppDefined in D:/RECTDNN/uncompress/48201C0465L.tif: _TIFFVSetField:D:/RECTDNN/uncompress/48201C0465L.tif: Null count for \"Tag 32934\" (type 4, writecount -3, passcount 1)\n",
      "11/08/2024 10:21:40 - INFO - rasterio._env -   GDAL signalled an error: err_no=1, msg='_TIFFVSetField:D:/RECTDNN/uncompress/48201C0465L.tif: Null count for \"Tag 32934\" (type 4, writecount -3, passcount 1)'\n"
     ]
    },
    {
     "name": "stdout",
     "output_type": "stream",
     "text": [
      "Using 1985-09-27 00:00:00 for tile date 1985-09-27 00:00:00\n",
      "Processing 48201C0465L--------------------------------------------------\n",
      "Using 2007-06-18 00:00:00 for tile date 2007-06-18 00:00:00\n",
      "Processing 48201C0190G--------------------------------------------------\n",
      "Could not find key G for current tile from options [0, 'L'], using closest date from all keys\n",
      "Using 1996-11-23 00:00:00 for tile date 1990-09-28 00:00:00\n"
     ]
    },
    {
     "name": "stderr",
     "output_type": "stream",
     "text": [
      "11/08/2024 10:21:48 - WARNING - rasterio._env -   CPLE_AppDefined in D:/RECTDNN/uncompress/48201C0240G.tif: _TIFFVSetField:D:/RECTDNN/uncompress/48201C0240G.tif: Null count for \"Tag 32934\" (type 4, writecount -3, passcount 1)\n",
      "11/08/2024 10:21:48 - INFO - rasterio._env -   GDAL signalled an error: err_no=1, msg='_TIFFVSetField:D:/RECTDNN/uncompress/48201C0240G.tif: Null count for \"Tag 32934\" (type 4, writecount -3, passcount 1)'\n"
     ]
    },
    {
     "name": "stdout",
     "output_type": "stream",
     "text": [
      "Processing 48201C0240G--------------------------------------------------\n",
      "Could not find key G for current tile from options [0, 'L', 'M'], using closest date from all keys\n",
      "Using 1992-09-30 00:00:00 for tile date 1990-09-28 00:00:00\n",
      "Processing 480296A_126--------------------------------------------------\n",
      "Could not find tile in detections 480296A_12\n",
      "Processing 480296A_74--------------------------------------------------\n",
      "Could not find tile in detections 480296A_7\n",
      "Processing 48201C0050H--------------------------------------------------\n",
      "Could not find key H for current tile from options ['L'], using closest date from all keys\n",
      "Using 2007-06-18 00:00:00 for tile date 1992-09-30 00:00:00\n",
      "Could not find key 0 for current tile from options ['L'], using closest date from all keys\n",
      "Using 2007-06-18 00:00:00 for tile date 1992-09-30 00:00:00\n",
      "CLOSEST DATE IN KEY IS TOO FAR (5374 days), using general instead (2007-06-18 00:00:00)\n",
      "Processing 48201C0755J--------------------------------------------------\n",
      "Could not find key J for current tile from options [0, 'L', 'M'], using closest date from all keys\n",
      "Using 1996-11-23 00:00:00 for tile date 1996-11-06 00:00:00\n",
      "Processing 4802960080C--------------------------------------------------\n",
      "Could not find key C for current tile from options [0, 'D', 'E', 'B'], using closest date from all keys\n",
      "Using 1982-09-21 00:00:00 for tile date 1982-09-21 00:00:00\n",
      "Processing 48201C0845J--------------------------------------------------\n",
      "Using 1996-11-23 00:00:00 for tile date 1996-11-08 00:00:00\n",
      "Processing 480296A_123--------------------------------------------------\n",
      "Could not find tile in detections 480296A_12\n",
      "Processing 4802960060C--------------------------------------------------\n",
      "Using 1985-09-27 00:00:00 for tile date 1985-09-27 00:00:00\n",
      "Processing 4802870310E--------------------------------------------------\n",
      "Using 1988-02-04 00:00:00 for tile date 1988-02-04 00:00:00\n",
      "Processing 480287B_27--------------------------------------------------\n",
      "Could not find tile in detections 480287B_2\n",
      "Processing 48201C0455J--------------------------------------------------\n",
      "Could not find key J for current tile from options [0, 'L'], using closest date from all keys\n",
      "Using 1996-11-23 00:00:00 for tile date 1996-11-08 00:00:00\n",
      "Processing 4802960105B--------------------------------------------------\n",
      "Using 1979-12-11 00:00:00 for tile date 1979-12-11 00:00:00\n",
      "Processing 48201C0085G--------------------------------------------------\n",
      "Could not find tile in detections 48201C0085\n",
      "Processing 480296A_78--------------------------------------------------\n",
      "COULD NOT FIND BOUNDS, USING IMAGE EXTENTS 480296A_78\n",
      "Could not find tile in detections 480296A_7\n",
      "Processing 48201C1005J--------------------------------------------------\n",
      "Using 1996-11-23 00:00:00 for tile date 1996-11-06 00:00:00\n",
      "Processing 480287B_77--------------------------------------------------\n",
      "Could not find tile in detections 480287B_7\n",
      "Processing 48201C0760M--------------------------------------------------\n",
      "Using 2015-05-04 00:00:00 for tile date 2015-05-04 00:00:00\n",
      "Processing 4802960055C--------------------------------------------------\n",
      "Could not find key C for current tile from options [0, 'D', 'E', 'B'], using closest date from all keys\n",
      "Using 1982-09-21 00:00:00 for tile date 1982-09-21 00:00:00\n",
      "Processing 4802960165C--------------------------------------------------\n",
      "Could not find date in ['Ucood nouant MAiLSG', 'CITY 0', 'HOUSTON,', \"'TEXAS\", 'HARRIS E GOUNT', 'FORT BEND COUNTY,', 'MONTGOMERY', 'COUNTY', 'PANEL 165 OF 95', '(SEE MAE INDEXEPOR PANELS NOi PFINTED)', 'Bommunity PARELNUMBER', '480296504165 C', 'Mae REVISED:', 'DEEMBER 27 , 1985', 'Federal Emergency Management Agency', '8', '8']\n",
      "Could not find tile extension in detections 4802960165 - C, using default B from options dict_keys(['B', 0, 'D'])\n",
      "Processing 48201C0390G--------------------------------------------------\n",
      "Using 1990-09-28 00:00:00 for tile date 1990-09-28 00:00:00\n",
      "Processing 4802870220F--------------------------------------------------\n",
      "Using 1988-02-04 00:00:00 for tile date 1988-02-04 00:00:00\n",
      "Processing 480287B_65--------------------------------------------------\n",
      "Could not find tile in detections 480287B_6\n",
      "Processing 48201C0690K--------------------------------------------------\n",
      "Using 2000-04-20 00:00:00 for tile date 2000-04-20 00:00:00\n",
      "Processing 4802960150B--------------------------------------------------\n",
      "Using 1979-12-11 00:00:00 for tile date 1979-11-08 00:00:00\n",
      "Processing 480296A_91--------------------------------------------------\n"
     ]
    },
    {
     "name": "stderr",
     "output_type": "stream",
     "text": [
      "11/08/2024 10:22:41 - WARNING - rasterio._env -   CPLE_AppDefined in D:/RECTDNN/uncompress/48201C0890L.tif: _TIFFVSetField:D:/RECTDNN/uncompress/48201C0890L.tif: Null count for \"Tag 32934\" (type 4, writecount -3, passcount 1)\n",
      "11/08/2024 10:22:41 - INFO - rasterio._env -   GDAL signalled an error: err_no=1, msg='_TIFFVSetField:D:/RECTDNN/uncompress/48201C0890L.tif: Null count for \"Tag 32934\" (type 4, writecount -3, passcount 1)'\n"
     ]
    },
    {
     "name": "stdout",
     "output_type": "stream",
     "text": [
      "Could not find tile in detections 480296A_9\n",
      "Processing 48201C0890L--------------------------------------------------\n",
      "Could not find date in ['LL XNJ#ie_', 'TEXAS', 'AND INCORPORATED AREAS', 'PANEL 890 OF 1150', '(SEE   MAP   INDEX   FOR   FIRM   PANEL   LAYOUT)', 'CQNIAINS ', 'CQMMUNITY NUMBER > PANEL = SuFFIX', 'HOUSTON, CITY OF 480286 0880', '1', 'Notico to Usor; Tha Map Numbar shown bolow should bo usod', 'whon   placing   map ordert;  the  Communlty   Number   shown', 'ebove should b0 Usod on insurance applications for the subject', 'community', 'MAP NUMBER', '48201C0890L', 'MAP REVISED:', 'AND', 'JUNE 18, 2007', 'Federal Emergency Management Agency', 'OEPARTA', 'SEC']\n",
      "Processing 4802870450C--------------------------------------------------\n",
      "Could not find key C for current tile from options [0], using closest date from all keys\n",
      "Using 1981-02-24 00:00:00 for tile date 1981-02-24 00:00:00\n",
      "Processing 4802870180E--------------------------------------------------\n",
      "Using 1988-02-04 00:00:00 for tile date 1988-02-04 00:00:00\n",
      "Processing 480296A_127--------------------------------------------------\n",
      "Could not find tile in detections 480296A_12\n",
      "Processing 48201C0395J--------------------------------------------------\n",
      "Using 2000-04-20 00:00:00 for tile date 1996-11-06 00:00:00\n",
      "Processing 480296A_75--------------------------------------------------\n",
      "Could not find tile in detections 480296A_7\n",
      "Processing 48201C0955J--------------------------------------------------\n",
      "Could not find key J for current tile from options [0, 'L', 'M'], using closest date from all keys\n",
      "Using 1996-11-23 00:00:00 for tile date 1996-11-06 00:00:00\n",
      "Processing 48201C1085J--------------------------------------------------\n",
      "Could not find key J for current tile from options [0, 'L', 'M'], using closest date from all keys\n",
      "Using 1996-11-23 00:00:00 for tile date 1996-11-06 00:00:00\n",
      "Processing 480296A_18--------------------------------------------------\n",
      "Could not find tile in detections 480296A_1\n",
      "Processing 480296A_135--------------------------------------------------\n",
      "Could not find tile in detections 480296A_13\n",
      "Processing 480287B_93--------------------------------------------------\n",
      "COULD NOT FIND BOUNDS, USING IMAGE EXTENTS 480287B_93\n",
      "Could not find tile in detections 480287B_9\n",
      "Processing 4802960065C--------------------------------------------------\n",
      "Using 1985-09-27 00:00:00 for tile date 1985-09-27 00:00:00\n",
      "Processing 48201C0120G--------------------------------------------------\n",
      "Could not find key G for current tile from options [0, 'L', 'J'], using closest date from all keys\n",
      "Using 1996-11-23 00:00:00 for tile date 1990-09-28 00:00:00\n",
      "Processing 4802960045E--------------------------------------------------\n",
      "Using 1987-09-04 00:00:00 for tile date 1987-09-04 00:00:00\n",
      "Processing 4802870275D--------------------------------------------------\n",
      "Could not find date in ['HARRIS', 'W', 'COUNTY', 'TEXAS', 'UNINCORPORATED AREA', 'PANEL 275 0F 550', '(SEE MAP INDEX ROR PANELSTROIARINTED}', 'AnEL NUMBER', '@na', '480287*0275 D', 'Map REVISED:', 'MARCK 30 , 1982', 'erekemergency management agency', 'federal insufance administration', '4', '8', '6']\n",
      "Processing 480287B_94--------------------------------------------------\n",
      "Could not find tile in detections 480287B_9\n",
      "Processing 480287B_71--------------------------------------------------\n",
      "Could not find tile in detections 480287B_7\n",
      "Processing 4802960025E--------------------------------------------------\n",
      "Using 1987-09-04 00:00:00 for tile date 1987-09-04 00:00:00\n",
      "Processing 48201C0385M--------------------------------------------------\n",
      "Could not find date in ['TEXAS', 'AND INCORPORATED AREAS', 'PANEL 385 OF 1150', '(SEE MAP INDEX FOR FIRM PANEL LAYOUT)', 'CONTAINS:', 'COMMUNITY NUMBER   PANEL   SUFFIX', 'HARRIS COUNTY , 480287 0385 M', 'UNINCORPORATED AREAS', 'HOUSTON, CITY OF 480296 0385', 'Notice to User: The Map Number shown below should be used', 'when   placing   map orders;  the  Community   Number   shown', 'above should be used on insurance applications for the subject', 'community.', 'MAP NUMBER', '48201C0385M', '1', 'OCTOBERREVTSED', 'Federal Emergency Management Agency', 'Map']\n",
      "Processing 480296A_13--------------------------------------------------\n",
      "Could not find tile in detections 480296A_1\n",
      "Processing 4802870125C--------------------------------------------------\n",
      "Could not find tile in detections 4802870125\n",
      "Processing 480287B_20--------------------------------------------------\n",
      "Could not find tile in detections 480287B_2\n",
      "Processing 4802960115B--------------------------------------------------\n",
      "Using 1979-12-11 00:00:00 for tile date 1979-12-11 00:00:00\n",
      "Processing 48201C0290J--------------------------------------------------\n",
      "Using 1996-11-23 00:00:00 for tile date 1996-11-06 00:00:00\n",
      "Processing 48201C0415M--------------------------------------------------\n",
      "COULD NOT FIND BOUNDS, USING IMAGE EXTENTS 48201C0415M\n",
      "Could not find date in ['WIMBERLY PARK', 'TEXAS', 'AND INCORPORATED AREAS', 'PANEL 415 OF 1150', '(SEE MAP INDEX FOR FIRM PANEL LAYOUT)', 'CONIAINE', ' iM', \"'0gUOCmN\", 'COMMUNITY NUMBER   PANEL   SUFFKX', 'HARRISCOUNTY, 4802157 *15', '1291MilvAIU   UNINCORPCRATED AREAS', 'HCUSTCN; CITY OF 480295 0215 M', 'U10O-0O-0o', 'angham Creek)', 'ZONE AE', 'Nctice to User: The Map Numbcr shown belcw should be Used', 'when   placing map orcers; the Community  Number shown', 'above shoulc be Used %I mnsurance @Pplca lons  0I [h subecl', 'HEATHERMtITTHM  community_', 'HOLLOW DR', 'SANTOLINA', 'MAP NUMBER', '48201C0415M', 'VVILD', 'WVILLOWLN', 'AUTUMN', 'TRAILS LN', 'MAP REVISED', '299 52\\' 30\" | Il-4 OCTOBER 16, 2013', '950 41\\' 15\"', 'Federal Emergency Management Agency']\n"
     ]
    },
    {
     "name": "stderr",
     "output_type": "stream",
     "text": [
      "11/08/2024 10:23:29 - WARNING - rasterio._env -   CPLE_AppDefined in D:/RECTDNN/uncompress/48201C1060L.tif: _TIFFVSetField:D:/RECTDNN/uncompress/48201C1060L.tif: Null count for \"Tag 32934\" (type 4, writecount -3, passcount 1)\n",
      "11/08/2024 10:23:29 - INFO - rasterio._env -   GDAL signalled an error: err_no=1, msg='_TIFFVSetField:D:/RECTDNN/uncompress/48201C1060L.tif: Null count for \"Tag 32934\" (type 4, writecount -3, passcount 1)'\n"
     ]
    },
    {
     "name": "stdout",
     "output_type": "stream",
     "text": [
      "Processing 48201C1060L--------------------------------------------------\n",
      "Using 2013-10-16 00:00:00 for tile date 2007-06-18 00:00:00\n",
      "Processing 48201C0040G--------------------------------------------------\n",
      "Could not find tile in detections 48201C0040\n",
      "Processing 4802960005B--------------------------------------------------\n",
      "Using 1979-12-11 00:00:00 for tile date 1979-12-11 00:00:00\n",
      "Processing 48201C0540J--------------------------------------------------\n",
      "Could not find key J for current tile from options [0, 'L'], using closest date from all keys\n",
      "Using 1996-11-23 00:00:00 for tile date 1996-11-06 00:00:00\n",
      "Processing 480296A_92--------------------------------------------------\n",
      "Could not find tile in detections 480296A_9\n",
      "Processing 4802870300D--------------------------------------------------\n",
      "Using 1982-03-30 00:00:00 for tile date 1982-03-30 00:00:00\n",
      "Processing 48201C0685J--------------------------------------------------\n",
      "Could not find date in ['HARRIS COUNTY', 'TEXAS AND', 'INCORPORATED   AREAS', 'PANEL 685 OF  1135', 'SEE MAP INDEX FOR PANJELS NoT PRNTED)', 'QNANS', 'COMMUNTY NUMBER   PANEL   SUFFIX', 'MaraS GOl', 'UNNCORPETD ^EnS 437787  2665', 'HCUS ON @T OF 4802C1;  06c5', 'V', 'MAP NUMBER', '48201c0685', 'MAp REVISED:', '29048\\'45\"', 'NOVEMBER 6, 1996', \"5'00'\", 'Federal', 'Emergency Management Agency', 'For']\n",
      "Could not find tile extension in detections 48201C0685 - J, using default 0 from options dict_keys([0, 'L'])\n",
      "Processing 48201C0845K--------------------------------------------------\n",
      "Using 2000-04-20 00:00:00 for tile date 2000-04-20 00:00:00\n",
      "Processing 4802960160C--------------------------------------------------\n",
      "Using 1985-09-27 00:00:00 for tile date 1985-09-27 00:00:00\n",
      "Processing 480287B_45--------------------------------------------------\n",
      "Could not find tile in detections 480287B_4\n",
      "Processing 4802870480D--------------------------------------------------\n",
      "Using 1985-09-27 00:00:00 for tile date 1985-09-27 00:00:00\n",
      "Processing 4802870325C--------------------------------------------------\n",
      "Could not find tile in detections 4802870325\n",
      "Processing 4802960105D--------------------------------------------------\n",
      "Using 1985-09-27 00:00:00 for tile date 1985-09-27 00:00:00\n",
      "Processing 480296A_25--------------------------------------------------\n",
      "Could not find tile in detections 480296A_2\n",
      "Processing 480287B_90--------------------------------------------------\n",
      "Could not find tile in detections 480287B_9\n",
      "Processing 4802870455E--------------------------------------------------\n",
      "Could not find date in ['HARRIS COUNTY', 'TEXAS', '(UNINCORPORATED AREAs)', 'PANEL 455 OF550', '(SEE MAP indb Aor PANELS #otRRENTED)', 'COCICTuNITV Panel NUMBER', '0)', '480287 0455 E', 'Mae, REVISED:', 'ERCGBER 27 , 1985', 'Federal Emergency Management Agcney', '8', '8']\n",
      "Processing 4802960010D--------------------------------------------------\n",
      "Using 1987-09-04 00:00:00 for tile date 1987-09-04 00:00:00\n",
      "Processing 480296A_80--------------------------------------------------\n",
      "Could not find tile in detections 480296A_8\n",
      "Processing 4802960045C--------------------------------------------------\n",
      "Could not find date in ['CITY OF', 'W', 'HOUSTON', 'TEYAS', 'HARRIS COUNTY , FORT', 'BEND COUNTY,', 'MONTGOMERY COUNTI', 'PANEL 45 OF 195', '(SEE MAP INbezecr PANELS RoP#RNTED)', 'AneL NUMBER', 'Oa', '480296 0045 €', 'MAREVISED:', 'SEPTENOER 21, 1982', 'Federal Emergency Management Agency', 'Not', '8', '8']\n",
      "Could not find tile extension in detections 4802960045 - C, using default 0 from options dict_keys([0, 'D', 'E', 'B'])\n",
      "Processing 480287B_22--------------------------------------------------\n",
      "Could not find tile in detections 480287B_2\n",
      "Processing 480296A_115--------------------------------------------------\n",
      "Could not find tile in detections 480296A_11\n",
      "Processing 480296A_72--------------------------------------------------\n",
      "Could not find tile in detections 480296A_7\n",
      "Processing 4802960010B--------------------------------------------------\n",
      "Using 1979-12-11 00:00:00 for tile date 1979-12-11 00:00:00\n",
      "Processing 48201C0245K--------------------------------------------------\n",
      "Using 2000-04-20 00:00:00 for tile date 2000-04-20 00:00:00\n",
      "Processing 4802870075C--------------------------------------------------\n",
      "Could not find key C for current tile from options [0], using closest date from all keys\n",
      "Using 1981-02-24 00:00:00 for tile date 1981-02-24 00:00:00\n",
      "Processing 480287B_14--------------------------------------------------\n",
      "Could not find tile in detections 480287B_1\n",
      "Processing 480287B_82--------------------------------------------------\n",
      "Could not find tile in detections 480287B_8\n",
      "Processing 4802960070C--------------------------------------------------\n",
      "Using 1985-09-27 00:00:00 for tile date 1985-09-27 00:00:00\n",
      "Processing 48201C0330H--------------------------------------------------\n",
      "Using 1992-09-30 00:00:00 for tile date 1992-09-30 00:00:00\n",
      "Processing 48201C0830K--------------------------------------------------\n",
      "Using 2000-04-20 00:00:00 for tile date 2000-04-20 00:00:00\n"
     ]
    },
    {
     "name": "stderr",
     "output_type": "stream",
     "text": [
      "11/08/2024 10:24:22 - WARNING - rasterio._env -   CPLE_AppDefined in D:/RECTDNN/uncompress/48201C0930L.tif: _TIFFVSetField:D:/RECTDNN/uncompress/48201C0930L.tif: Null count for \"Tag 32934\" (type 4, writecount -3, passcount 1)\n",
      "11/08/2024 10:24:22 - INFO - rasterio._env -   GDAL signalled an error: err_no=1, msg='_TIFFVSetField:D:/RECTDNN/uncompress/48201C0930L.tif: Null count for \"Tag 32934\" (type 4, writecount -3, passcount 1)'\n"
     ]
    },
    {
     "name": "stdout",
     "output_type": "stream",
     "text": [
      "Processing 48201C0930L--------------------------------------------------\n",
      "Using 2007-06-18 00:00:00 for tile date 2007-06-18 00:00:00\n",
      "Processing 48201C0645J--------------------------------------------------\n",
      "Using 1996-11-23 00:00:00 for tile date 1996-11-06 00:00:00\n",
      "Processing 48201C0265H--------------------------------------------------\n",
      "Could not find key H for current tile from options [0, 'L', 'M', 'G'], using closest date from all keys\n",
      "Using 1992-09-30 00:00:00 for tile date 1992-09-30 00:00:00\n",
      "Processing 48201C0390M--------------------------------------------------\n",
      "Using 2013-10-16 00:00:00 for tile date 2013-10-16 00:00:00\n"
     ]
    },
    {
     "name": "stderr",
     "output_type": "stream",
     "text": [
      "11/08/2024 10:24:38 - WARNING - rasterio._env -   CPLE_AppDefined in D:/RECTDNN/uncompress/48201C0920L.tif: _TIFFVSetField:D:/RECTDNN/uncompress/48201C0920L.tif: Null count for \"Tag 32934\" (type 4, writecount -3, passcount 1)\n",
      "11/08/2024 10:24:38 - INFO - rasterio._env -   GDAL signalled an error: err_no=1, msg='_TIFFVSetField:D:/RECTDNN/uncompress/48201C0920L.tif: Null count for \"Tag 32934\" (type 4, writecount -3, passcount 1)'\n"
     ]
    },
    {
     "name": "stdout",
     "output_type": "stream",
     "text": [
      "Processing 48201C0920L--------------------------------------------------\n",
      "Could not find date in ['TEXAS', 'AND INCORPORATED AREAS', 'L', 'PANEL 920 OF 1150', '(SEE   MAP   INDEX   FOR   FIRM   PANEL   LAYOUT)', 'CONTAINS _', 'COMMUNTY NUMBER > PANEL _> SUFFIX', 'W', 'DEERPAFK CITY OF 480201 0820', 'PASADEIA CHTY OF 480307 0820', 'HOUSTON, CITY OF 480206 0820', 'HL', 'WD', 'Notice to Usor: The Map Numbar shown bolow should be usod', 'whan   placing   map   ordars;   the  Community   Number   shown', 'above should be usod on insuranca applications for the subject', 'communiy', 'MAP NUMBER', '48201C0920L', 'MAP REVISED:', 'AND', 'JUNE 18 , 2007', 'Federal Emergency Management Agency', 'DEPAR', 'SECUR']\n",
      "Processing 480296A_99--------------------------------------------------\n",
      "Could not find tile in detections 480296A_9\n",
      "Processing 480296A_26--------------------------------------------------\n",
      "Could not find tile in detections 480296A_2\n",
      "Processing 4802870055E--------------------------------------------------\n"
     ]
    },
    {
     "name": "stderr",
     "output_type": "stream",
     "text": [
      "11/08/2024 10:24:46 - WARNING - rasterio._env -   CPLE_AppDefined in D:/RECTDNN/uncompress/48201C1085L.tif: _TIFFVSetField:D:/RECTDNN/uncompress/48201C1085L.tif: Null count for \"Tag 32934\" (type 4, writecount -3, passcount 1)\n",
      "11/08/2024 10:24:46 - INFO - rasterio._env -   GDAL signalled an error: err_no=1, msg='_TIFFVSetField:D:/RECTDNN/uncompress/48201C1085L.tif: Null count for \"Tag 32934\" (type 4, writecount -3, passcount 1)'\n"
     ]
    },
    {
     "name": "stdout",
     "output_type": "stream",
     "text": [
      "Using 1988-02-04 00:00:00 for tile date 1988-02-04 00:00:00\n",
      "Processing 48201C1085L--------------------------------------------------\n"
     ]
    }
   ],
   "source": [
    "# r\"D:\\RECTDNN\\processing\\2024-10-11_15-08-46\\referencing\\48201C0930J.tif\"\n",
    "# tile_name = f\"48201C0660L\"\n",
    "# tile_name = f\"48201C0930J\"\n",
    "# tile_name = f\"48201C0530J\"\n",
    "# tile_name = f\"48201C0150G\"\n",
    "# tile_name = f\"48201C0290H\"\n",
    "# for tile_name in [\"48201C0290H\", \"48201C0930J\", \"48201C0530J\", \"48201C0660L\"]:\n",
    "# for tile_name in [\"48201C0930J\"]:\n",
    "\n",
    "try:\n",
    "    reader\n",
    "except:\n",
    "    reader = easyocr.Reader(['en']) \n",
    "\n",
    "def find_file_with_extension(filename, allowed_extensions, directory):\n",
    "    for ext in allowed_extensions:\n",
    "        file_path = os.path.join(directory, f\"{filename}.{ext}\")\n",
    "        if os.path.isfile(file_path):\n",
    "            return file_path\n",
    "    return None \n",
    "\n",
    "counter = 0\n",
    "bad_counter = 0\n",
    "\n",
    "# tile_names = [os.path.basename(a).split(\".\")[0] for a in glob.glob(corner_dir + \"*\")][5:]\n",
    "for tile_name in (pbar := tqdm(tiles_bns)): # tile_names: \n",
    "\n",
    "    pbar.set_description(f\"Bad counter: {bad_counter}\")\n",
    "\n",
    "    counter = counter\n",
    "    print(f\"Processing {tile_name}\" + \"-\" * 50)\n",
    "    \n",
    "\n",
    "    # im_file = r\"D:\\RECTDNN\\uncompress\\\\\" + tile_name\n",
    "    im_file = find_file_with_extension(tile_name, ['tif', 'jpg', 'png'], base_input_path)\n",
    "\n",
    "    if im_file is None:\n",
    "        print(f\"COULD NOT FIND {tile_name} IMAGE \" + '-' * 20)\n",
    "        continue\n",
    "\n",
    "    curr_tn = os.path.basename(im_file.split(\".\")[0])[:-1]\n",
    "    curr_tf = os.path.basename(im_file.split(\".\")[0])[-1]\n",
    "\n",
    "    ra = rio.open(im_file)\n",
    "    bounds  = ra.bounds\n",
    "    image   = ra.read(1)\n",
    "\n",
    "    bounds, RLNN = findBounds(im_file, None)\n",
    "\n",
    "    if len(bounds[0]) < 1:\n",
    "        print(f\"COULD NOT FIND BOUNDS, USING IMAGE EXTENTS {tile_name}\")\n",
    "        bbox = [0, 0, image.shape[0], image.shape[1]]\n",
    "        datebox = [ int(image.shape[1] * 0.75), int(image.shape[0] * 0.75), image.shape[1], image.shape[0]]\n",
    "    else:\n",
    "        bbox = bounds[0].boxes.xyxy.numpy().astype(np.int32)[0].flatten()\n",
    "        # ASSUME DATE IS IN LOWER RIGHT OF IMAGE\n",
    "        datebox = [bbox[2], int(3 * image.shape[0] // 4), image.shape[1], image.shape[0]]\n",
    "\n",
    "    current_tile_coords = tile_coords.get(curr_tn, None)\n",
    "    if current_tile_coords is None:\n",
    "        print(f\"Could not find tile in detections {curr_tn}\")\n",
    "        bad_counter = bad_counter + 1\n",
    "        continue\n",
    "    \n",
    "    # GET DATE OF CURRENT TILE\n",
    "    tile_datetime = extractDate(image[datebox[1]:datebox[3], datebox[0]:datebox[2]], reader, imsize=4092, filter_values=['revised', 'effective'])\n",
    "\n",
    "    if tile_datetime[0] is not None: \n",
    "        # IF FOUND, FIND CLOSEST DATE WITHIN CURRENT KEY\n",
    "        curr_bbox, closest_date = getBBOXClosestDate(extractDatesFromDict(tile_coords[curr_tn], curr_tf), tile_datetime[0][0])\n",
    "\n",
    "        # IF CLOSEST DATE WITHIN CURRENT KEY IS OVER 10 YEARS, RETRY WITH ENTIRE DICT\n",
    "        if abs(closest_date - tile_datetime[0][0]).days > 3650:\n",
    "            curr_bbox, closest_date_gen = getBBOXClosestDate(extractDatesFromDict(tile_coords[curr_tn], 0), tile_datetime[0][0])\n",
    "            print(f\"CLOSEST DATE IN KEY IS TOO FAR ({abs(closest_date - tile_datetime[0][0]).days} days), using general instead ({closest_date_gen})\")\n",
    "    else: \n",
    "        print(f\"Could not find date in {tile_datetime[1]}\")\n",
    "        # IF NOT FOUND, USE DEFAULT (0)\n",
    "        current_tf_coords = current_tile_coords.get(curr_tf, None)\n",
    "        if current_tf_coords is None:\n",
    "            print(f\"Could not find tile extension in detections {curr_tn} - {curr_tf}, using default {list(current_tile_coords.keys())[0]} from options {current_tile_coords.keys()}\")\n",
    "            curr_tf = list(current_tile_coords.keys())[0]\n",
    "            curr_bbox = tile_coords[curr_tn][curr_tf][\"coords\"][0]\n",
    "\n",
    "    real_x, real_y = bbox_to_coords_realworld(curr_bbox)\n",
    "    pic_x, pic_y   = bbox_to_coords_raster(bbox)\n",
    "\n",
    "    affine = affineTransformation(pic_x, pic_y, real_x, real_y)\n",
    "    transform = bboxTransformToCRS(affine.matrix, image)\n",
    "\n",
    "    ref_dir = f\"{referencing_dir}{tile_name}.tif\"\n",
    "\n",
    "    with rio.open(ref_dir, 'w',\n",
    "        driver='GTiff', count=1, dtype=image.dtype,\n",
    "        height=image.shape[0], width=image.shape[1],\n",
    "        crs=f'EPSG:3857',\n",
    "        transform=rio.Affine(*transform.flatten()[:6])) as dst:\n",
    "            dst.write(image, 1) \n",
    "    "
   ]
  },
  {
   "cell_type": "code",
   "execution_count": null,
   "metadata": {},
   "outputs": [],
   "source": [
    "ra_ref.close()"
   ]
  },
  {
   "cell_type": "markdown",
   "metadata": {},
   "source": []
  }
 ],
 "metadata": {
  "kernelspec": {
   "display_name": "Python 3",
   "language": "python",
   "name": "python3"
  },
  "language_info": {
   "codemirror_mode": {
    "name": "ipython",
    "version": 3
   },
   "file_extension": ".py",
   "mimetype": "text/x-python",
   "name": "python",
   "nbconvert_exporter": "python",
   "pygments_lexer": "ipython3",
   "version": "3.8.18"
  }
 },
 "nbformat": 4,
 "nbformat_minor": 2
}
