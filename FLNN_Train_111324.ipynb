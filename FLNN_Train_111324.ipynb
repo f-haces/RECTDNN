{
 "cells": [
  {
   "cell_type": "code",
   "execution_count": 1,
   "id": "4333b7a8",
   "metadata": {},
   "outputs": [],
   "source": [
    "# PYTHON IMPORTS\n",
    "import os, copy, traceback\n",
    "from tqdm.notebook import trange, tqdm\n",
    "import glob\n",
    "\n",
    "# IMAGE IMPORTS \n",
    "from PIL import Image\n",
    "import cv2, tifffile\n",
    "\n",
    "# DATA IMPORTS \n",
    "import random\n",
    "import h5py\n",
    "import numpy as np\n",
    "\n",
    "# PLOTTING\n",
    "import matplotlib.pyplot as plt\n",
    "import matplotlib.cm as cm\n",
    "\n",
    "# NEURAL NETWORK\n",
    "import torch\n",
    "import torch.nn as nn\n",
    "import torch.optim as optim\n",
    "from torch.utils.data import DataLoader, Dataset\n",
    "from torchvision import transforms, datasets\n",
    "from torchvision.transforms import ToPILImage, GaussianBlur\n",
    "from torchvision.transforms import Compose, RandomCrop, ToTensor, Normalize\n",
    "import torch.optim.lr_scheduler as lr_scheduler\n",
    "import torchvision.models as models\n",
    "from sklearn.preprocessing import LabelEncoder, OneHotEncoder\n",
    "\n",
    "# MY OWN CLASSES\n",
    "from TPNN import *\n",
    "from PlottingUtils import *\n",
    "from DataUtils import * \n",
    "\n",
    "Image.MAX_IMAGE_PIXELS = 933120000\n",
    "%matplotlib notebook"
   ]
  },
  {
   "cell_type": "code",
   "execution_count": 5,
   "id": "fa7f0da9",
   "metadata": {},
   "outputs": [
    {
     "data": {
      "application/vnd.jupyter.widget-view+json": {
       "model_id": "847313d8fba441bfb9897e560e5c6cef",
       "version_major": 2,
       "version_minor": 0
      },
      "text/plain": [
       "  0%|          | 0/14 [00:00<?, ?it/s]"
      ]
     },
     "metadata": {},
     "output_type": "display_data"
    },
    {
     "data": {
      "application/vnd.jupyter.widget-view+json": {
       "model_id": "3e72b5e9e8b94c30b059f632b98d12fb",
       "version_major": 2,
       "version_minor": 0
      },
      "text/plain": [
       "  0%|          | 0/2 [00:00<?, ?it/s]"
      ]
     },
     "metadata": {},
     "output_type": "display_data"
    }
   ],
   "source": [
    "base_dir = r\"C:\\Users\\fhacesga\\OneDrive - University Of Houston\\AAA_RECTDNN\\data\"\n",
    "\n",
    "input_folder        = f\"{base_dir}/FLNN/AAA_NewDataset/in\"\n",
    "val_folder          = f\"{base_dir}/FLNN/AAA_NewDataset/val\"\n",
    "train_target_folder = f\"{base_dir}/FLNN/AAA_NewDataset/out\"\n",
    "val_target_folder   = f\"{base_dir}/FLNN/AAA_NewDataset/val_out\"\n",
    "batch_size          = 16\n",
    "verbose_level       = 0\n",
    "n_pyramids          = 0\n",
    "processing_size     = 256\n",
    "\n",
    "tensor = transforms.Compose([\n",
    "    transforms.ToTensor(),\n",
    "])\n",
    "\n",
    "transform = transforms.Compose([\n",
    "    transforms.RandomRotation(degrees=180),\n",
    "    transforms.RandomHorizontalFlip(),\n",
    "    transforms.RandomVerticalFlip(),\n",
    "    transforms.ToTensor(),\n",
    "])\n",
    "\n",
    "input_transform = transforms.RandomApply(torch.nn.ModuleList([\n",
    "    transforms.ColorJitter(0.2, 0.2, 0.2, 0.2),\n",
    "    transforms.RandomAdjustSharpness(sharpness_factor=2),\n",
    "    transforms.GaussianBlur(15)\n",
    "]), 0.65)\n",
    "\n",
    "tensor = transforms.Compose([transforms.ToTensor()])\n",
    "\n",
    "train_dataset = NN_MulticlassV2(input_folder, train_target_folder, transform=transform, \n",
    "                              only_true=False, crop=True, cropsize=processing_size,\n",
    "                              n_pyramids=0, input_only_transform=input_transform, inchannels=2)\n",
    "train_loader  = DataLoader(train_dataset, batch_size=batch_size, shuffle=True, num_workers=0)\n",
    "val_dataset = NN_MulticlassV2(val_folder, val_target_folder, transform=transform, \n",
    "                            only_true=False, crop=True, cropsize=processing_size, \n",
    "                            n_pyramids=0, input_only_transform=input_transform, inchannels=2)\n",
    "val_loader  = DataLoader(val_dataset, batch_size=1, shuffle=False, num_workers=0)\n",
    "\n",
    "loaders = {'train' : train_loader, \"test\" : val_loader }"
   ]
  },
  {
   "cell_type": "code",
   "execution_count": 6,
   "id": "97acd5c7",
   "metadata": {},
   "outputs": [],
   "source": [
    "def notify(mess, level=4):\n",
    "    if verbose_level >= level:\n",
    "        print(mess)\n",
    "\n",
    "def saveImages(prob_img_or, outputs, filenames, minputs, outputs_folder, rep_id, labels,):\n",
    "    \n",
    "    # IF FOR SOME REASON OUTPUT IS UNBATCHED, BATCH IT\n",
    "    if prob_img_or.ndim == 3:\n",
    "        prob_img_or = prob_img_or.unsqueeze(0)\n",
    "        \n",
    "    # CONVERT TO NUMPY ARRAY\n",
    "    prob_img_or = prob_img_or.numpy()\n",
    "    \n",
    "    # FOR EACH BATCHED OUTPUT\n",
    "    for i in range(len(outputs)):\n",
    "        filename = filenames[i]\n",
    "\n",
    "        # CONVERT TO IMAGE NUMPY ARRAY\n",
    "        prob_img = prob_img_or[i, :, :, :]\n",
    "        prob_img = (prob_img * 255).astype(np.uint8) \n",
    "        prob_img = np.moveaxis(prob_img, [0, 1, 2], [2, 0, 1])\n",
    "\n",
    "        # SAVE TO FILE\n",
    "        myout = probability_to_rgb(prob_img)\n",
    "        myout.save(os.path.join(outputs_folder, f\"{rep_id}_{filename[:-4]}_out.png\"))\n",
    "\n",
    "        # SAVE INPUTS\n",
    "        myinp = Image.fromarray(np.uint8(minputs[i, 0, :, :] * 255))\n",
    "        myinp.save(os.path.join(outputs_folder, f\"{rep_id}_{filename[:-4]}_inp.png\"))\n",
    "\n",
    "        # SAVE OUTPUTS\n",
    "        mylab = class_to_one_hot(labels[i, :, :], prob_img.shape[-1])\n",
    "        mylab = probability_to_rgb(mylab)\n",
    "        mylab.save(os.path.join(outputs_folder, f\"{rep_id}_{filename[:-4]}_lab.png\"))\n",
    "            \n",
    "def train(model, dataloaders, num_epochs=50, \n",
    "          output_dir=r'C:\\Users\\fhacesga\\Desktop\\FIRMsDigitizing\\data\\FLNN\\intermediate_outputs', \n",
    "          learning_rate=5e-4,\n",
    "          device = torch.device(\"cuda:0\"),\n",
    "          continue_from=None,\n",
    "          weights=[1, 1, 1]):\n",
    "    \n",
    "    # TRAINING PARAMETERS\n",
    "    weights = torch.tensor(weights).float().to(device)\n",
    "    criterion = nn.CrossEntropyLoss(weight=weights, reduction=\"mean\")\n",
    "    optimizer = optim.Adam(model.parameters(), lr=learning_rate)\n",
    "    learning_rate_scheduler = lr_scheduler.StepLR(optimizer, step_size=10, gamma=0.99)\n",
    "    start_epoch = 0\n",
    "        \n",
    "    if continue_from is not None:\n",
    "        checkpoint = torch.load(continue_from)\n",
    "        model.load_state_dict(checkpoint['model_state_dict'])\n",
    "        optimizer.load_state_dict(checkpoint['optimizer_state_dict'])\n",
    "        for g in optimizer.param_groups:\n",
    "            g['lr'] = learning_rate\n",
    "        for state in optimizer.state.values():\n",
    "            for k, v in state.items():\n",
    "                if isinstance(v, torch.Tensor):\n",
    "                    state[k] = v.cuda()\n",
    "        start_epoch = checkpoint['epoch']\n",
    "        start_loss = checkpoint['loss']\n",
    "        \n",
    "        epoch_losses = checkpoint['epoch_losses']\n",
    "        iou_lists    = checkpoint['iou_lists']\n",
    "        lr_list      = checkpoint['lr_list']\n",
    "        \n",
    "    else:\n",
    "         # STRUCTURES FOR PLOTTING\n",
    "        epoch_losses = {'train' : [], 'test' : []}\n",
    "        iou_lists    = {'train' : [], 'test' : []}\n",
    "        lr_list      = []\n",
    "        \n",
    "    # SEND MODEL TO GPU\n",
    "    model = model.to(device)\n",
    "    \n",
    "    # MAKE SURE DIRS FOR TEMP OUTPUTS EXIST\n",
    "    if not os.path.exists(output_dir):\n",
    "        os.makedirs(output_dir)\n",
    "        \n",
    "    fig, axs = init_plotting()\n",
    "        \n",
    "    # LOOP THROUGH EPOCHS\n",
    "    for epoch in range(start_epoch, num_epochs):\n",
    "        notify('Epoch {}/{}'.format(epoch+1, num_epochs), level=1)\n",
    "        notify('-' * 10, level=1)\n",
    "        phases = ['train', 'test']\n",
    "        epoch_loss = {'train' : 0, 'test' : 0}\n",
    "        iou_list = {'train' : [], 'test' : []}      \n",
    "        \n",
    "        # FOR BOTH PHASES\n",
    "        for phase in phases: \n",
    "            if phase == 'train':\n",
    "                model.train()\n",
    "                repeats = range(1)\n",
    "            else:\n",
    "                model.eval()\n",
    "                repeats = range(1)\n",
    "            \n",
    "            # MAKE DIR FOR CURRENT PHASE IF IT DOES NOT EXIST\n",
    "            outputs_folder = os.path.join(output_dir, phase)\n",
    "            if not os.path.exists(outputs_folder):\n",
    "                os.makedirs(outputs_folder)\n",
    "                \n",
    "            # BASELINE MEMORY USAGE                \n",
    "            notify(f\"Prior to Iterations\\t {torch.cuda.memory_allocated() / 1e6}\")\n",
    "            \n",
    "            # COUNT HOW MANY IMAGES\n",
    "            n_images = 0\n",
    "            \n",
    "            # ITERATE OVER REPEATS\n",
    "            for rep_id in tqdm(repeats, disable=verbose_level < 4):\n",
    "                for inputs, labels, filenames in dataloaders[phase]:\n",
    "                    \n",
    "                    # SEND TO GPU\n",
    "                    inputs = inputs.to(device)\n",
    "                    labels = labels.to(device)\n",
    "                    notify(f\"Datasets Moved\\t\\t {torch.cuda.memory_allocated()/ 1e6}\")\n",
    "                    \n",
    "                    # ZERO GRADIENTS AND THROUGH MODEL\n",
    "                    optimizer.zero_grad()\n",
    "                    outputs = model(inputs, resize=False)\n",
    "                    \n",
    "                    notify(f\"Outputs Processed\\t {torch.cuda.memory_allocated() / 1e6}\")\n",
    "                    \n",
    "                    # CALCULATE LOSS AND KEEP TRACK OF IT FOR CURRENT EPOCH\n",
    "                    loss = criterion(outputs, labels) \n",
    "                    epoch_loss[phase] += loss\n",
    "                    iou_list[phase].append(calculate_iou(outputs, labels).detach().cpu().numpy())\n",
    "                    notify(f\"Loss Calculated\\t\\t {torch.cuda.memory_allocated() / 1e6}\")\n",
    "                    \n",
    "                    # COUNT HOW MANY IMAGES\n",
    "                    n_images += inputs.shape[0]\n",
    "                    \n",
    "                    # OPTIMIZE IF PHASE IS TRAINING\n",
    "                    if phase is 'train':\n",
    "                        notify(\"Optimizing\")\n",
    "                        loss.backward()\n",
    "                        optimizer.step()\n",
    "                        notify(f\"Backwards and optimized\\t {torch.cuda.memory_allocated() / 1e6}\")\n",
    "                    \n",
    "                    # SAVE TRAINING IMAGES IF CURRENT STEP REQUIRES IT\n",
    "                    \"\"\"\n",
    "                    if rep_id % 2 == 0 and rep_id != 0:\n",
    "                        prob_img_or = outputs.detach().cpu()\n",
    "                        minputs     = inputs.detach().cpu().numpy()\n",
    "                        mlabels     = labels.detach().cpu().numpy()\n",
    "                        saveImages(prob_img_or, outputs, filenames, minputs, outputs_folder, rep_id, mlabels)\n",
    "                    \"\"\"\n",
    "                    # EMPTY CACHE\n",
    "                    torch.cuda.empty_cache()\n",
    "                    notify(f\"Cache Emptied\\t\\t {torch.cuda.memory_allocated() / 1e6}\")\n",
    "                    \n",
    "            # METRICS - NORMALIZE EPOCH LOSS AND IOU BY HOW MANY IMAGES\n",
    "            epoch_loss[phase] = epoch_loss[phase].cpu().detach().numpy() / (len(repeats) + n_images)\n",
    "            iou_list[phase]   = np.mean(np.vstack(iou_list[phase]), axis=0)\n",
    "        \n",
    "        # UPDATE LEARNING RATE SCHEDULER\n",
    "        lr_list.append(learning_rate_scheduler.get_lr()[0])\n",
    "        learning_rate_scheduler.step()\n",
    "        \n",
    "        # PLOT, FIRST BY TRANSFERING TO LISTS\n",
    "        for i in phases:\n",
    "            epoch_losses[i].append(epoch_loss[i])\n",
    "            iou_lists[i].append(iou_list[i])\n",
    "        \n",
    "        update_plots([epoch_losses[i] for i in phases], [iou_lists[i] for i in phases], fig, axs, \n",
    "                     colors=[\"r\", \"g\", \"b\", \"k\", \"orange\"]*2,\n",
    "                     annotations=f\"Learning Rate: {lr_list[-1]:.2e}, Epochs: {len(lr_list)}\"\n",
    "                    )\n",
    "        \n",
    "        # SAVE MODEL EVERY TEN EPOCHS\n",
    "        if epoch % 10 == 0:\n",
    "            torch.save({\n",
    "                'epoch': epoch,\n",
    "                'model_state_dict': model.state_dict(),\n",
    "                'optimizer_state_dict': optimizer.state_dict(),\n",
    "                'loss': loss,\n",
    "                'iou_lists' : iou_lists,\n",
    "                'epoch_losses' : epoch_losses,\n",
    "                'lr_list' : lr_list\n",
    "            }, r'C:\\Users\\fhacesga\\Desktop\\FIRMsDigitizing\\data\\FLNN\\checkpoint_111324_3.pth')\n",
    "            \n",
    "            torch.save(model, r\"C:\\Users\\fhacesga\\Desktop\\FIRMsDigitizing\\data\\FLNN\\111324_3.pth\")\n",
    "        \n",
    "    return model"
   ]
  },
  {
   "cell_type": "code",
   "execution_count": null,
   "id": "0e8a83ad",
   "metadata": {
    "scrolled": false
   },
   "outputs": [
    {
     "data": {
      "application/javascript": [
       "/* Put everything inside the global mpl namespace */\n",
       "/* global mpl */\n",
       "window.mpl = {};\n",
       "\n",
       "mpl.get_websocket_type = function () {\n",
       "    if (typeof WebSocket !== 'undefined') {\n",
       "        return WebSocket;\n",
       "    } else if (typeof MozWebSocket !== 'undefined') {\n",
       "        return MozWebSocket;\n",
       "    } else {\n",
       "        alert(\n",
       "            'Your browser does not have WebSocket support. ' +\n",
       "                'Please try Chrome, Safari or Firefox ≥ 6. ' +\n",
       "                'Firefox 4 and 5 are also supported but you ' +\n",
       "                'have to enable WebSockets in about:config.'\n",
       "        );\n",
       "    }\n",
       "};\n",
       "\n",
       "mpl.figure = function (figure_id, websocket, ondownload, parent_element) {\n",
       "    this.id = figure_id;\n",
       "\n",
       "    this.ws = websocket;\n",
       "\n",
       "    this.supports_binary = this.ws.binaryType !== undefined;\n",
       "\n",
       "    if (!this.supports_binary) {\n",
       "        var warnings = document.getElementById('mpl-warnings');\n",
       "        if (warnings) {\n",
       "            warnings.style.display = 'block';\n",
       "            warnings.textContent =\n",
       "                'This browser does not support binary websocket messages. ' +\n",
       "                'Performance may be slow.';\n",
       "        }\n",
       "    }\n",
       "\n",
       "    this.imageObj = new Image();\n",
       "\n",
       "    this.context = undefined;\n",
       "    this.message = undefined;\n",
       "    this.canvas = undefined;\n",
       "    this.rubberband_canvas = undefined;\n",
       "    this.rubberband_context = undefined;\n",
       "    this.format_dropdown = undefined;\n",
       "\n",
       "    this.image_mode = 'full';\n",
       "\n",
       "    this.root = document.createElement('div');\n",
       "    this.root.setAttribute('style', 'display: inline-block');\n",
       "    this._root_extra_style(this.root);\n",
       "\n",
       "    parent_element.appendChild(this.root);\n",
       "\n",
       "    this._init_header(this);\n",
       "    this._init_canvas(this);\n",
       "    this._init_toolbar(this);\n",
       "\n",
       "    var fig = this;\n",
       "\n",
       "    this.waiting = false;\n",
       "\n",
       "    this.ws.onopen = function () {\n",
       "        fig.send_message('supports_binary', { value: fig.supports_binary });\n",
       "        fig.send_message('send_image_mode', {});\n",
       "        if (fig.ratio !== 1) {\n",
       "            fig.send_message('set_device_pixel_ratio', {\n",
       "                device_pixel_ratio: fig.ratio,\n",
       "            });\n",
       "        }\n",
       "        fig.send_message('refresh', {});\n",
       "    };\n",
       "\n",
       "    this.imageObj.onload = function () {\n",
       "        if (fig.image_mode === 'full') {\n",
       "            // Full images could contain transparency (where diff images\n",
       "            // almost always do), so we need to clear the canvas so that\n",
       "            // there is no ghosting.\n",
       "            fig.context.clearRect(0, 0, fig.canvas.width, fig.canvas.height);\n",
       "        }\n",
       "        fig.context.drawImage(fig.imageObj, 0, 0);\n",
       "    };\n",
       "\n",
       "    this.imageObj.onunload = function () {\n",
       "        fig.ws.close();\n",
       "    };\n",
       "\n",
       "    this.ws.onmessage = this._make_on_message_function(this);\n",
       "\n",
       "    this.ondownload = ondownload;\n",
       "};\n",
       "\n",
       "mpl.figure.prototype._init_header = function () {\n",
       "    var titlebar = document.createElement('div');\n",
       "    titlebar.classList =\n",
       "        'ui-dialog-titlebar ui-widget-header ui-corner-all ui-helper-clearfix';\n",
       "    var titletext = document.createElement('div');\n",
       "    titletext.classList = 'ui-dialog-title';\n",
       "    titletext.setAttribute(\n",
       "        'style',\n",
       "        'width: 100%; text-align: center; padding: 3px;'\n",
       "    );\n",
       "    titlebar.appendChild(titletext);\n",
       "    this.root.appendChild(titlebar);\n",
       "    this.header = titletext;\n",
       "};\n",
       "\n",
       "mpl.figure.prototype._canvas_extra_style = function (_canvas_div) {};\n",
       "\n",
       "mpl.figure.prototype._root_extra_style = function (_canvas_div) {};\n",
       "\n",
       "mpl.figure.prototype._init_canvas = function () {\n",
       "    var fig = this;\n",
       "\n",
       "    var canvas_div = (this.canvas_div = document.createElement('div'));\n",
       "    canvas_div.setAttribute(\n",
       "        'style',\n",
       "        'border: 1px solid #ddd;' +\n",
       "            'box-sizing: content-box;' +\n",
       "            'clear: both;' +\n",
       "            'min-height: 1px;' +\n",
       "            'min-width: 1px;' +\n",
       "            'outline: 0;' +\n",
       "            'overflow: hidden;' +\n",
       "            'position: relative;' +\n",
       "            'resize: both;'\n",
       "    );\n",
       "\n",
       "    function on_keyboard_event_closure(name) {\n",
       "        return function (event) {\n",
       "            return fig.key_event(event, name);\n",
       "        };\n",
       "    }\n",
       "\n",
       "    canvas_div.addEventListener(\n",
       "        'keydown',\n",
       "        on_keyboard_event_closure('key_press')\n",
       "    );\n",
       "    canvas_div.addEventListener(\n",
       "        'keyup',\n",
       "        on_keyboard_event_closure('key_release')\n",
       "    );\n",
       "\n",
       "    this._canvas_extra_style(canvas_div);\n",
       "    this.root.appendChild(canvas_div);\n",
       "\n",
       "    var canvas = (this.canvas = document.createElement('canvas'));\n",
       "    canvas.classList.add('mpl-canvas');\n",
       "    canvas.setAttribute('style', 'box-sizing: content-box;');\n",
       "\n",
       "    this.context = canvas.getContext('2d');\n",
       "\n",
       "    var backingStore =\n",
       "        this.context.backingStorePixelRatio ||\n",
       "        this.context.webkitBackingStorePixelRatio ||\n",
       "        this.context.mozBackingStorePixelRatio ||\n",
       "        this.context.msBackingStorePixelRatio ||\n",
       "        this.context.oBackingStorePixelRatio ||\n",
       "        this.context.backingStorePixelRatio ||\n",
       "        1;\n",
       "\n",
       "    this.ratio = (window.devicePixelRatio || 1) / backingStore;\n",
       "\n",
       "    var rubberband_canvas = (this.rubberband_canvas = document.createElement(\n",
       "        'canvas'\n",
       "    ));\n",
       "    rubberband_canvas.setAttribute(\n",
       "        'style',\n",
       "        'box-sizing: content-box; position: absolute; left: 0; top: 0; z-index: 1;'\n",
       "    );\n",
       "\n",
       "    // Apply a ponyfill if ResizeObserver is not implemented by browser.\n",
       "    if (this.ResizeObserver === undefined) {\n",
       "        if (window.ResizeObserver !== undefined) {\n",
       "            this.ResizeObserver = window.ResizeObserver;\n",
       "        } else {\n",
       "            var obs = _JSXTOOLS_RESIZE_OBSERVER({});\n",
       "            this.ResizeObserver = obs.ResizeObserver;\n",
       "        }\n",
       "    }\n",
       "\n",
       "    this.resizeObserverInstance = new this.ResizeObserver(function (entries) {\n",
       "        var nentries = entries.length;\n",
       "        for (var i = 0; i < nentries; i++) {\n",
       "            var entry = entries[i];\n",
       "            var width, height;\n",
       "            if (entry.contentBoxSize) {\n",
       "                if (entry.contentBoxSize instanceof Array) {\n",
       "                    // Chrome 84 implements new version of spec.\n",
       "                    width = entry.contentBoxSize[0].inlineSize;\n",
       "                    height = entry.contentBoxSize[0].blockSize;\n",
       "                } else {\n",
       "                    // Firefox implements old version of spec.\n",
       "                    width = entry.contentBoxSize.inlineSize;\n",
       "                    height = entry.contentBoxSize.blockSize;\n",
       "                }\n",
       "            } else {\n",
       "                // Chrome <84 implements even older version of spec.\n",
       "                width = entry.contentRect.width;\n",
       "                height = entry.contentRect.height;\n",
       "            }\n",
       "\n",
       "            // Keep the size of the canvas and rubber band canvas in sync with\n",
       "            // the canvas container.\n",
       "            if (entry.devicePixelContentBoxSize) {\n",
       "                // Chrome 84 implements new version of spec.\n",
       "                canvas.setAttribute(\n",
       "                    'width',\n",
       "                    entry.devicePixelContentBoxSize[0].inlineSize\n",
       "                );\n",
       "                canvas.setAttribute(\n",
       "                    'height',\n",
       "                    entry.devicePixelContentBoxSize[0].blockSize\n",
       "                );\n",
       "            } else {\n",
       "                canvas.setAttribute('width', width * fig.ratio);\n",
       "                canvas.setAttribute('height', height * fig.ratio);\n",
       "            }\n",
       "            canvas.setAttribute(\n",
       "                'style',\n",
       "                'width: ' + width + 'px; height: ' + height + 'px;'\n",
       "            );\n",
       "\n",
       "            rubberband_canvas.setAttribute('width', width);\n",
       "            rubberband_canvas.setAttribute('height', height);\n",
       "\n",
       "            // And update the size in Python. We ignore the initial 0/0 size\n",
       "            // that occurs as the element is placed into the DOM, which should\n",
       "            // otherwise not happen due to the minimum size styling.\n",
       "            if (fig.ws.readyState == 1 && width != 0 && height != 0) {\n",
       "                fig.request_resize(width, height);\n",
       "            }\n",
       "        }\n",
       "    });\n",
       "    this.resizeObserverInstance.observe(canvas_div);\n",
       "\n",
       "    function on_mouse_event_closure(name) {\n",
       "        return function (event) {\n",
       "            return fig.mouse_event(event, name);\n",
       "        };\n",
       "    }\n",
       "\n",
       "    rubberband_canvas.addEventListener(\n",
       "        'mousedown',\n",
       "        on_mouse_event_closure('button_press')\n",
       "    );\n",
       "    rubberband_canvas.addEventListener(\n",
       "        'mouseup',\n",
       "        on_mouse_event_closure('button_release')\n",
       "    );\n",
       "    rubberband_canvas.addEventListener(\n",
       "        'dblclick',\n",
       "        on_mouse_event_closure('dblclick')\n",
       "    );\n",
       "    // Throttle sequential mouse events to 1 every 20ms.\n",
       "    rubberband_canvas.addEventListener(\n",
       "        'mousemove',\n",
       "        on_mouse_event_closure('motion_notify')\n",
       "    );\n",
       "\n",
       "    rubberband_canvas.addEventListener(\n",
       "        'mouseenter',\n",
       "        on_mouse_event_closure('figure_enter')\n",
       "    );\n",
       "    rubberband_canvas.addEventListener(\n",
       "        'mouseleave',\n",
       "        on_mouse_event_closure('figure_leave')\n",
       "    );\n",
       "\n",
       "    canvas_div.addEventListener('wheel', function (event) {\n",
       "        if (event.deltaY < 0) {\n",
       "            event.step = 1;\n",
       "        } else {\n",
       "            event.step = -1;\n",
       "        }\n",
       "        on_mouse_event_closure('scroll')(event);\n",
       "    });\n",
       "\n",
       "    canvas_div.appendChild(canvas);\n",
       "    canvas_div.appendChild(rubberband_canvas);\n",
       "\n",
       "    this.rubberband_context = rubberband_canvas.getContext('2d');\n",
       "    this.rubberband_context.strokeStyle = '#000000';\n",
       "\n",
       "    this._resize_canvas = function (width, height, forward) {\n",
       "        if (forward) {\n",
       "            canvas_div.style.width = width + 'px';\n",
       "            canvas_div.style.height = height + 'px';\n",
       "        }\n",
       "    };\n",
       "\n",
       "    // Disable right mouse context menu.\n",
       "    this.rubberband_canvas.addEventListener('contextmenu', function (_e) {\n",
       "        event.preventDefault();\n",
       "        return false;\n",
       "    });\n",
       "\n",
       "    function set_focus() {\n",
       "        canvas.focus();\n",
       "        canvas_div.focus();\n",
       "    }\n",
       "\n",
       "    window.setTimeout(set_focus, 100);\n",
       "};\n",
       "\n",
       "mpl.figure.prototype._init_toolbar = function () {\n",
       "    var fig = this;\n",
       "\n",
       "    var toolbar = document.createElement('div');\n",
       "    toolbar.classList = 'mpl-toolbar';\n",
       "    this.root.appendChild(toolbar);\n",
       "\n",
       "    function on_click_closure(name) {\n",
       "        return function (_event) {\n",
       "            return fig.toolbar_button_onclick(name);\n",
       "        };\n",
       "    }\n",
       "\n",
       "    function on_mouseover_closure(tooltip) {\n",
       "        return function (event) {\n",
       "            if (!event.currentTarget.disabled) {\n",
       "                return fig.toolbar_button_onmouseover(tooltip);\n",
       "            }\n",
       "        };\n",
       "    }\n",
       "\n",
       "    fig.buttons = {};\n",
       "    var buttonGroup = document.createElement('div');\n",
       "    buttonGroup.classList = 'mpl-button-group';\n",
       "    for (var toolbar_ind in mpl.toolbar_items) {\n",
       "        var name = mpl.toolbar_items[toolbar_ind][0];\n",
       "        var tooltip = mpl.toolbar_items[toolbar_ind][1];\n",
       "        var image = mpl.toolbar_items[toolbar_ind][2];\n",
       "        var method_name = mpl.toolbar_items[toolbar_ind][3];\n",
       "\n",
       "        if (!name) {\n",
       "            /* Instead of a spacer, we start a new button group. */\n",
       "            if (buttonGroup.hasChildNodes()) {\n",
       "                toolbar.appendChild(buttonGroup);\n",
       "            }\n",
       "            buttonGroup = document.createElement('div');\n",
       "            buttonGroup.classList = 'mpl-button-group';\n",
       "            continue;\n",
       "        }\n",
       "\n",
       "        var button = (fig.buttons[name] = document.createElement('button'));\n",
       "        button.classList = 'mpl-widget';\n",
       "        button.setAttribute('role', 'button');\n",
       "        button.setAttribute('aria-disabled', 'false');\n",
       "        button.addEventListener('click', on_click_closure(method_name));\n",
       "        button.addEventListener('mouseover', on_mouseover_closure(tooltip));\n",
       "\n",
       "        var icon_img = document.createElement('img');\n",
       "        icon_img.src = '_images/' + image + '.png';\n",
       "        icon_img.srcset = '_images/' + image + '_large.png 2x';\n",
       "        icon_img.alt = tooltip;\n",
       "        button.appendChild(icon_img);\n",
       "\n",
       "        buttonGroup.appendChild(button);\n",
       "    }\n",
       "\n",
       "    if (buttonGroup.hasChildNodes()) {\n",
       "        toolbar.appendChild(buttonGroup);\n",
       "    }\n",
       "\n",
       "    var fmt_picker = document.createElement('select');\n",
       "    fmt_picker.classList = 'mpl-widget';\n",
       "    toolbar.appendChild(fmt_picker);\n",
       "    this.format_dropdown = fmt_picker;\n",
       "\n",
       "    for (var ind in mpl.extensions) {\n",
       "        var fmt = mpl.extensions[ind];\n",
       "        var option = document.createElement('option');\n",
       "        option.selected = fmt === mpl.default_extension;\n",
       "        option.innerHTML = fmt;\n",
       "        fmt_picker.appendChild(option);\n",
       "    }\n",
       "\n",
       "    var status_bar = document.createElement('span');\n",
       "    status_bar.classList = 'mpl-message';\n",
       "    toolbar.appendChild(status_bar);\n",
       "    this.message = status_bar;\n",
       "};\n",
       "\n",
       "mpl.figure.prototype.request_resize = function (x_pixels, y_pixels) {\n",
       "    // Request matplotlib to resize the figure. Matplotlib will then trigger a resize in the client,\n",
       "    // which will in turn request a refresh of the image.\n",
       "    this.send_message('resize', { width: x_pixels, height: y_pixels });\n",
       "};\n",
       "\n",
       "mpl.figure.prototype.send_message = function (type, properties) {\n",
       "    properties['type'] = type;\n",
       "    properties['figure_id'] = this.id;\n",
       "    this.ws.send(JSON.stringify(properties));\n",
       "};\n",
       "\n",
       "mpl.figure.prototype.send_draw_message = function () {\n",
       "    if (!this.waiting) {\n",
       "        this.waiting = true;\n",
       "        this.ws.send(JSON.stringify({ type: 'draw', figure_id: this.id }));\n",
       "    }\n",
       "};\n",
       "\n",
       "mpl.figure.prototype.handle_save = function (fig, _msg) {\n",
       "    var format_dropdown = fig.format_dropdown;\n",
       "    var format = format_dropdown.options[format_dropdown.selectedIndex].value;\n",
       "    fig.ondownload(fig, format);\n",
       "};\n",
       "\n",
       "mpl.figure.prototype.handle_resize = function (fig, msg) {\n",
       "    var size = msg['size'];\n",
       "    if (size[0] !== fig.canvas.width || size[1] !== fig.canvas.height) {\n",
       "        fig._resize_canvas(size[0], size[1], msg['forward']);\n",
       "        fig.send_message('refresh', {});\n",
       "    }\n",
       "};\n",
       "\n",
       "mpl.figure.prototype.handle_rubberband = function (fig, msg) {\n",
       "    var x0 = msg['x0'] / fig.ratio;\n",
       "    var y0 = (fig.canvas.height - msg['y0']) / fig.ratio;\n",
       "    var x1 = msg['x1'] / fig.ratio;\n",
       "    var y1 = (fig.canvas.height - msg['y1']) / fig.ratio;\n",
       "    x0 = Math.floor(x0) + 0.5;\n",
       "    y0 = Math.floor(y0) + 0.5;\n",
       "    x1 = Math.floor(x1) + 0.5;\n",
       "    y1 = Math.floor(y1) + 0.5;\n",
       "    var min_x = Math.min(x0, x1);\n",
       "    var min_y = Math.min(y0, y1);\n",
       "    var width = Math.abs(x1 - x0);\n",
       "    var height = Math.abs(y1 - y0);\n",
       "\n",
       "    fig.rubberband_context.clearRect(\n",
       "        0,\n",
       "        0,\n",
       "        fig.canvas.width / fig.ratio,\n",
       "        fig.canvas.height / fig.ratio\n",
       "    );\n",
       "\n",
       "    fig.rubberband_context.strokeRect(min_x, min_y, width, height);\n",
       "};\n",
       "\n",
       "mpl.figure.prototype.handle_figure_label = function (fig, msg) {\n",
       "    // Updates the figure title.\n",
       "    fig.header.textContent = msg['label'];\n",
       "};\n",
       "\n",
       "mpl.figure.prototype.handle_cursor = function (fig, msg) {\n",
       "    fig.rubberband_canvas.style.cursor = msg['cursor'];\n",
       "};\n",
       "\n",
       "mpl.figure.prototype.handle_message = function (fig, msg) {\n",
       "    fig.message.textContent = msg['message'];\n",
       "};\n",
       "\n",
       "mpl.figure.prototype.handle_draw = function (fig, _msg) {\n",
       "    // Request the server to send over a new figure.\n",
       "    fig.send_draw_message();\n",
       "};\n",
       "\n",
       "mpl.figure.prototype.handle_image_mode = function (fig, msg) {\n",
       "    fig.image_mode = msg['mode'];\n",
       "};\n",
       "\n",
       "mpl.figure.prototype.handle_history_buttons = function (fig, msg) {\n",
       "    for (var key in msg) {\n",
       "        if (!(key in fig.buttons)) {\n",
       "            continue;\n",
       "        }\n",
       "        fig.buttons[key].disabled = !msg[key];\n",
       "        fig.buttons[key].setAttribute('aria-disabled', !msg[key]);\n",
       "    }\n",
       "};\n",
       "\n",
       "mpl.figure.prototype.handle_navigate_mode = function (fig, msg) {\n",
       "    if (msg['mode'] === 'PAN') {\n",
       "        fig.buttons['Pan'].classList.add('active');\n",
       "        fig.buttons['Zoom'].classList.remove('active');\n",
       "    } else if (msg['mode'] === 'ZOOM') {\n",
       "        fig.buttons['Pan'].classList.remove('active');\n",
       "        fig.buttons['Zoom'].classList.add('active');\n",
       "    } else {\n",
       "        fig.buttons['Pan'].classList.remove('active');\n",
       "        fig.buttons['Zoom'].classList.remove('active');\n",
       "    }\n",
       "};\n",
       "\n",
       "mpl.figure.prototype.updated_canvas_event = function () {\n",
       "    // Called whenever the canvas gets updated.\n",
       "    this.send_message('ack', {});\n",
       "};\n",
       "\n",
       "// A function to construct a web socket function for onmessage handling.\n",
       "// Called in the figure constructor.\n",
       "mpl.figure.prototype._make_on_message_function = function (fig) {\n",
       "    return function socket_on_message(evt) {\n",
       "        if (evt.data instanceof Blob) {\n",
       "            var img = evt.data;\n",
       "            if (img.type !== 'image/png') {\n",
       "                /* FIXME: We get \"Resource interpreted as Image but\n",
       "                 * transferred with MIME type text/plain:\" errors on\n",
       "                 * Chrome.  But how to set the MIME type?  It doesn't seem\n",
       "                 * to be part of the websocket stream */\n",
       "                img.type = 'image/png';\n",
       "            }\n",
       "\n",
       "            /* Free the memory for the previous frames */\n",
       "            if (fig.imageObj.src) {\n",
       "                (window.URL || window.webkitURL).revokeObjectURL(\n",
       "                    fig.imageObj.src\n",
       "                );\n",
       "            }\n",
       "\n",
       "            fig.imageObj.src = (window.URL || window.webkitURL).createObjectURL(\n",
       "                img\n",
       "            );\n",
       "            fig.updated_canvas_event();\n",
       "            fig.waiting = false;\n",
       "            return;\n",
       "        } else if (\n",
       "            typeof evt.data === 'string' &&\n",
       "            evt.data.slice(0, 21) === 'data:image/png;base64'\n",
       "        ) {\n",
       "            fig.imageObj.src = evt.data;\n",
       "            fig.updated_canvas_event();\n",
       "            fig.waiting = false;\n",
       "            return;\n",
       "        }\n",
       "\n",
       "        var msg = JSON.parse(evt.data);\n",
       "        var msg_type = msg['type'];\n",
       "\n",
       "        // Call the  \"handle_{type}\" callback, which takes\n",
       "        // the figure and JSON message as its only arguments.\n",
       "        try {\n",
       "            var callback = fig['handle_' + msg_type];\n",
       "        } catch (e) {\n",
       "            console.log(\n",
       "                \"No handler for the '\" + msg_type + \"' message type: \",\n",
       "                msg\n",
       "            );\n",
       "            return;\n",
       "        }\n",
       "\n",
       "        if (callback) {\n",
       "            try {\n",
       "                // console.log(\"Handling '\" + msg_type + \"' message: \", msg);\n",
       "                callback(fig, msg);\n",
       "            } catch (e) {\n",
       "                console.log(\n",
       "                    \"Exception inside the 'handler_\" + msg_type + \"' callback:\",\n",
       "                    e,\n",
       "                    e.stack,\n",
       "                    msg\n",
       "                );\n",
       "            }\n",
       "        }\n",
       "    };\n",
       "};\n",
       "\n",
       "// from https://stackoverflow.com/questions/1114465/getting-mouse-location-in-canvas\n",
       "mpl.findpos = function (e) {\n",
       "    //this section is from http://www.quirksmode.org/js/events_properties.html\n",
       "    var targ;\n",
       "    if (!e) {\n",
       "        e = window.event;\n",
       "    }\n",
       "    if (e.target) {\n",
       "        targ = e.target;\n",
       "    } else if (e.srcElement) {\n",
       "        targ = e.srcElement;\n",
       "    }\n",
       "    if (targ.nodeType === 3) {\n",
       "        // defeat Safari bug\n",
       "        targ = targ.parentNode;\n",
       "    }\n",
       "\n",
       "    // pageX,Y are the mouse positions relative to the document\n",
       "    var boundingRect = targ.getBoundingClientRect();\n",
       "    var x = e.pageX - (boundingRect.left + document.body.scrollLeft);\n",
       "    var y = e.pageY - (boundingRect.top + document.body.scrollTop);\n",
       "\n",
       "    return { x: x, y: y };\n",
       "};\n",
       "\n",
       "/*\n",
       " * return a copy of an object with only non-object keys\n",
       " * we need this to avoid circular references\n",
       " * https://stackoverflow.com/a/24161582/3208463\n",
       " */\n",
       "function simpleKeys(original) {\n",
       "    return Object.keys(original).reduce(function (obj, key) {\n",
       "        if (typeof original[key] !== 'object') {\n",
       "            obj[key] = original[key];\n",
       "        }\n",
       "        return obj;\n",
       "    }, {});\n",
       "}\n",
       "\n",
       "mpl.figure.prototype.mouse_event = function (event, name) {\n",
       "    var canvas_pos = mpl.findpos(event);\n",
       "\n",
       "    if (name === 'button_press') {\n",
       "        this.canvas.focus();\n",
       "        this.canvas_div.focus();\n",
       "    }\n",
       "\n",
       "    var x = canvas_pos.x * this.ratio;\n",
       "    var y = canvas_pos.y * this.ratio;\n",
       "\n",
       "    this.send_message(name, {\n",
       "        x: x,\n",
       "        y: y,\n",
       "        button: event.button,\n",
       "        step: event.step,\n",
       "        guiEvent: simpleKeys(event),\n",
       "    });\n",
       "\n",
       "    /* This prevents the web browser from automatically changing to\n",
       "     * the text insertion cursor when the button is pressed.  We want\n",
       "     * to control all of the cursor setting manually through the\n",
       "     * 'cursor' event from matplotlib */\n",
       "    event.preventDefault();\n",
       "    return false;\n",
       "};\n",
       "\n",
       "mpl.figure.prototype._key_event_extra = function (_event, _name) {\n",
       "    // Handle any extra behaviour associated with a key event\n",
       "};\n",
       "\n",
       "mpl.figure.prototype.key_event = function (event, name) {\n",
       "    // Prevent repeat events\n",
       "    if (name === 'key_press') {\n",
       "        if (event.key === this._key) {\n",
       "            return;\n",
       "        } else {\n",
       "            this._key = event.key;\n",
       "        }\n",
       "    }\n",
       "    if (name === 'key_release') {\n",
       "        this._key = null;\n",
       "    }\n",
       "\n",
       "    var value = '';\n",
       "    if (event.ctrlKey && event.key !== 'Control') {\n",
       "        value += 'ctrl+';\n",
       "    }\n",
       "    else if (event.altKey && event.key !== 'Alt') {\n",
       "        value += 'alt+';\n",
       "    }\n",
       "    else if (event.shiftKey && event.key !== 'Shift') {\n",
       "        value += 'shift+';\n",
       "    }\n",
       "\n",
       "    value += 'k' + event.key;\n",
       "\n",
       "    this._key_event_extra(event, name);\n",
       "\n",
       "    this.send_message(name, { key: value, guiEvent: simpleKeys(event) });\n",
       "    return false;\n",
       "};\n",
       "\n",
       "mpl.figure.prototype.toolbar_button_onclick = function (name) {\n",
       "    if (name === 'download') {\n",
       "        this.handle_save(this, null);\n",
       "    } else {\n",
       "        this.send_message('toolbar_button', { name: name });\n",
       "    }\n",
       "};\n",
       "\n",
       "mpl.figure.prototype.toolbar_button_onmouseover = function (tooltip) {\n",
       "    this.message.textContent = tooltip;\n",
       "};\n",
       "\n",
       "///////////////// REMAINING CONTENT GENERATED BY embed_js.py /////////////////\n",
       "// prettier-ignore\n",
       "var _JSXTOOLS_RESIZE_OBSERVER=function(A){var t,i=new WeakMap,n=new WeakMap,a=new WeakMap,r=new WeakMap,o=new Set;function s(e){if(!(this instanceof s))throw new TypeError(\"Constructor requires 'new' operator\");i.set(this,e)}function h(){throw new TypeError(\"Function is not a constructor\")}function c(e,t,i,n){e=0 in arguments?Number(arguments[0]):0,t=1 in arguments?Number(arguments[1]):0,i=2 in arguments?Number(arguments[2]):0,n=3 in arguments?Number(arguments[3]):0,this.right=(this.x=this.left=e)+(this.width=i),this.bottom=(this.y=this.top=t)+(this.height=n),Object.freeze(this)}function d(){t=requestAnimationFrame(d);var s=new WeakMap,p=new Set;o.forEach((function(t){r.get(t).forEach((function(i){var r=t instanceof window.SVGElement,o=a.get(t),d=r?0:parseFloat(o.paddingTop),f=r?0:parseFloat(o.paddingRight),l=r?0:parseFloat(o.paddingBottom),u=r?0:parseFloat(o.paddingLeft),g=r?0:parseFloat(o.borderTopWidth),m=r?0:parseFloat(o.borderRightWidth),w=r?0:parseFloat(o.borderBottomWidth),b=u+f,F=d+l,v=(r?0:parseFloat(o.borderLeftWidth))+m,W=g+w,y=r?0:t.offsetHeight-W-t.clientHeight,E=r?0:t.offsetWidth-v-t.clientWidth,R=b+v,z=F+W,M=r?t.width:parseFloat(o.width)-R-E,O=r?t.height:parseFloat(o.height)-z-y;if(n.has(t)){var k=n.get(t);if(k[0]===M&&k[1]===O)return}n.set(t,[M,O]);var S=Object.create(h.prototype);S.target=t,S.contentRect=new c(u,d,M,O),s.has(i)||(s.set(i,[]),p.add(i)),s.get(i).push(S)}))})),p.forEach((function(e){i.get(e).call(e,s.get(e),e)}))}return s.prototype.observe=function(i){if(i instanceof window.Element){r.has(i)||(r.set(i,new Set),o.add(i),a.set(i,window.getComputedStyle(i)));var n=r.get(i);n.has(this)||n.add(this),cancelAnimationFrame(t),t=requestAnimationFrame(d)}},s.prototype.unobserve=function(i){if(i instanceof window.Element&&r.has(i)){var n=r.get(i);n.has(this)&&(n.delete(this),n.size||(r.delete(i),o.delete(i))),n.size||r.delete(i),o.size||cancelAnimationFrame(t)}},A.DOMRectReadOnly=c,A.ResizeObserver=s,A.ResizeObserverEntry=h,A}; // eslint-disable-line\n",
       "mpl.toolbar_items = [[\"Home\", \"Reset original view\", \"fa fa-home icon-home\", \"home\"], [\"Back\", \"Back to previous view\", \"fa fa-arrow-left icon-arrow-left\", \"back\"], [\"Forward\", \"Forward to next view\", \"fa fa-arrow-right icon-arrow-right\", \"forward\"], [\"\", \"\", \"\", \"\"], [\"Pan\", \"Left button pans, Right button zooms\\nx/y fixes axis, CTRL fixes aspect\", \"fa fa-arrows icon-move\", \"pan\"], [\"Zoom\", \"Zoom to rectangle\\nx/y fixes axis\", \"fa fa-square-o icon-check-empty\", \"zoom\"], [\"\", \"\", \"\", \"\"], [\"Download\", \"Download plot\", \"fa fa-floppy-o icon-save\", \"download\"]];\n",
       "\n",
       "mpl.extensions = [\"eps\", \"jpeg\", \"pgf\", \"pdf\", \"png\", \"ps\", \"raw\", \"svg\", \"tif\"];\n",
       "\n",
       "mpl.default_extension = \"png\";/* global mpl */\n",
       "\n",
       "var comm_websocket_adapter = function (comm) {\n",
       "    // Create a \"websocket\"-like object which calls the given IPython comm\n",
       "    // object with the appropriate methods. Currently this is a non binary\n",
       "    // socket, so there is still some room for performance tuning.\n",
       "    var ws = {};\n",
       "\n",
       "    ws.binaryType = comm.kernel.ws.binaryType;\n",
       "    ws.readyState = comm.kernel.ws.readyState;\n",
       "    function updateReadyState(_event) {\n",
       "        if (comm.kernel.ws) {\n",
       "            ws.readyState = comm.kernel.ws.readyState;\n",
       "        } else {\n",
       "            ws.readyState = 3; // Closed state.\n",
       "        }\n",
       "    }\n",
       "    comm.kernel.ws.addEventListener('open', updateReadyState);\n",
       "    comm.kernel.ws.addEventListener('close', updateReadyState);\n",
       "    comm.kernel.ws.addEventListener('error', updateReadyState);\n",
       "\n",
       "    ws.close = function () {\n",
       "        comm.close();\n",
       "    };\n",
       "    ws.send = function (m) {\n",
       "        //console.log('sending', m);\n",
       "        comm.send(m);\n",
       "    };\n",
       "    // Register the callback with on_msg.\n",
       "    comm.on_msg(function (msg) {\n",
       "        //console.log('receiving', msg['content']['data'], msg);\n",
       "        var data = msg['content']['data'];\n",
       "        if (data['blob'] !== undefined) {\n",
       "            data = {\n",
       "                data: new Blob(msg['buffers'], { type: data['blob'] }),\n",
       "            };\n",
       "        }\n",
       "        // Pass the mpl event to the overridden (by mpl) onmessage function.\n",
       "        ws.onmessage(data);\n",
       "    });\n",
       "    return ws;\n",
       "};\n",
       "\n",
       "mpl.mpl_figure_comm = function (comm, msg) {\n",
       "    // This is the function which gets called when the mpl process\n",
       "    // starts-up an IPython Comm through the \"matplotlib\" channel.\n",
       "\n",
       "    var id = msg.content.data.id;\n",
       "    // Get hold of the div created by the display call when the Comm\n",
       "    // socket was opened in Python.\n",
       "    var element = document.getElementById(id);\n",
       "    var ws_proxy = comm_websocket_adapter(comm);\n",
       "\n",
       "    function ondownload(figure, _format) {\n",
       "        window.open(figure.canvas.toDataURL());\n",
       "    }\n",
       "\n",
       "    var fig = new mpl.figure(id, ws_proxy, ondownload, element);\n",
       "\n",
       "    // Call onopen now - mpl needs it, as it is assuming we've passed it a real\n",
       "    // web socket which is closed, not our websocket->open comm proxy.\n",
       "    ws_proxy.onopen();\n",
       "\n",
       "    fig.parent_element = element;\n",
       "    fig.cell_info = mpl.find_output_cell(\"<div id='\" + id + \"'></div>\");\n",
       "    if (!fig.cell_info) {\n",
       "        console.error('Failed to find cell for figure', id, fig);\n",
       "        return;\n",
       "    }\n",
       "    fig.cell_info[0].output_area.element.on(\n",
       "        'cleared',\n",
       "        { fig: fig },\n",
       "        fig._remove_fig_handler\n",
       "    );\n",
       "};\n",
       "\n",
       "mpl.figure.prototype.handle_close = function (fig, msg) {\n",
       "    var width = fig.canvas.width / fig.ratio;\n",
       "    fig.cell_info[0].output_area.element.off(\n",
       "        'cleared',\n",
       "        fig._remove_fig_handler\n",
       "    );\n",
       "    fig.resizeObserverInstance.unobserve(fig.canvas_div);\n",
       "\n",
       "    // Update the output cell to use the data from the current canvas.\n",
       "    fig.push_to_output();\n",
       "    var dataURL = fig.canvas.toDataURL();\n",
       "    // Re-enable the keyboard manager in IPython - without this line, in FF,\n",
       "    // the notebook keyboard shortcuts fail.\n",
       "    IPython.keyboard_manager.enable();\n",
       "    fig.parent_element.innerHTML =\n",
       "        '<img src=\"' + dataURL + '\" width=\"' + width + '\">';\n",
       "    fig.close_ws(fig, msg);\n",
       "};\n",
       "\n",
       "mpl.figure.prototype.close_ws = function (fig, msg) {\n",
       "    fig.send_message('closing', msg);\n",
       "    // fig.ws.close()\n",
       "};\n",
       "\n",
       "mpl.figure.prototype.push_to_output = function (_remove_interactive) {\n",
       "    // Turn the data on the canvas into data in the output cell.\n",
       "    var width = this.canvas.width / this.ratio;\n",
       "    var dataURL = this.canvas.toDataURL();\n",
       "    this.cell_info[1]['text/html'] =\n",
       "        '<img src=\"' + dataURL + '\" width=\"' + width + '\">';\n",
       "};\n",
       "\n",
       "mpl.figure.prototype.updated_canvas_event = function () {\n",
       "    // Tell IPython that the notebook contents must change.\n",
       "    IPython.notebook.set_dirty(true);\n",
       "    this.send_message('ack', {});\n",
       "    var fig = this;\n",
       "    // Wait a second, then push the new image to the DOM so\n",
       "    // that it is saved nicely (might be nice to debounce this).\n",
       "    setTimeout(function () {\n",
       "        fig.push_to_output();\n",
       "    }, 1000);\n",
       "};\n",
       "\n",
       "mpl.figure.prototype._init_toolbar = function () {\n",
       "    var fig = this;\n",
       "\n",
       "    var toolbar = document.createElement('div');\n",
       "    toolbar.classList = 'btn-toolbar';\n",
       "    this.root.appendChild(toolbar);\n",
       "\n",
       "    function on_click_closure(name) {\n",
       "        return function (_event) {\n",
       "            return fig.toolbar_button_onclick(name);\n",
       "        };\n",
       "    }\n",
       "\n",
       "    function on_mouseover_closure(tooltip) {\n",
       "        return function (event) {\n",
       "            if (!event.currentTarget.disabled) {\n",
       "                return fig.toolbar_button_onmouseover(tooltip);\n",
       "            }\n",
       "        };\n",
       "    }\n",
       "\n",
       "    fig.buttons = {};\n",
       "    var buttonGroup = document.createElement('div');\n",
       "    buttonGroup.classList = 'btn-group';\n",
       "    var button;\n",
       "    for (var toolbar_ind in mpl.toolbar_items) {\n",
       "        var name = mpl.toolbar_items[toolbar_ind][0];\n",
       "        var tooltip = mpl.toolbar_items[toolbar_ind][1];\n",
       "        var image = mpl.toolbar_items[toolbar_ind][2];\n",
       "        var method_name = mpl.toolbar_items[toolbar_ind][3];\n",
       "\n",
       "        if (!name) {\n",
       "            /* Instead of a spacer, we start a new button group. */\n",
       "            if (buttonGroup.hasChildNodes()) {\n",
       "                toolbar.appendChild(buttonGroup);\n",
       "            }\n",
       "            buttonGroup = document.createElement('div');\n",
       "            buttonGroup.classList = 'btn-group';\n",
       "            continue;\n",
       "        }\n",
       "\n",
       "        button = fig.buttons[name] = document.createElement('button');\n",
       "        button.classList = 'btn btn-default';\n",
       "        button.href = '#';\n",
       "        button.title = name;\n",
       "        button.innerHTML = '<i class=\"fa ' + image + ' fa-lg\"></i>';\n",
       "        button.addEventListener('click', on_click_closure(method_name));\n",
       "        button.addEventListener('mouseover', on_mouseover_closure(tooltip));\n",
       "        buttonGroup.appendChild(button);\n",
       "    }\n",
       "\n",
       "    if (buttonGroup.hasChildNodes()) {\n",
       "        toolbar.appendChild(buttonGroup);\n",
       "    }\n",
       "\n",
       "    // Add the status bar.\n",
       "    var status_bar = document.createElement('span');\n",
       "    status_bar.classList = 'mpl-message pull-right';\n",
       "    toolbar.appendChild(status_bar);\n",
       "    this.message = status_bar;\n",
       "\n",
       "    // Add the close button to the window.\n",
       "    var buttongrp = document.createElement('div');\n",
       "    buttongrp.classList = 'btn-group inline pull-right';\n",
       "    button = document.createElement('button');\n",
       "    button.classList = 'btn btn-mini btn-primary';\n",
       "    button.href = '#';\n",
       "    button.title = 'Stop Interaction';\n",
       "    button.innerHTML = '<i class=\"fa fa-power-off icon-remove icon-large\"></i>';\n",
       "    button.addEventListener('click', function (_evt) {\n",
       "        fig.handle_close(fig, {});\n",
       "    });\n",
       "    button.addEventListener(\n",
       "        'mouseover',\n",
       "        on_mouseover_closure('Stop Interaction')\n",
       "    );\n",
       "    buttongrp.appendChild(button);\n",
       "    var titlebar = this.root.querySelector('.ui-dialog-titlebar');\n",
       "    titlebar.insertBefore(buttongrp, titlebar.firstChild);\n",
       "};\n",
       "\n",
       "mpl.figure.prototype._remove_fig_handler = function (event) {\n",
       "    var fig = event.data.fig;\n",
       "    if (event.target !== this) {\n",
       "        // Ignore bubbled events from children.\n",
       "        return;\n",
       "    }\n",
       "    fig.close_ws(fig, {});\n",
       "};\n",
       "\n",
       "mpl.figure.prototype._root_extra_style = function (el) {\n",
       "    el.style.boxSizing = 'content-box'; // override notebook setting of border-box.\n",
       "};\n",
       "\n",
       "mpl.figure.prototype._canvas_extra_style = function (el) {\n",
       "    // this is important to make the div 'focusable\n",
       "    el.setAttribute('tabindex', 0);\n",
       "    // reach out to IPython and tell the keyboard manager to turn it's self\n",
       "    // off when our div gets focus\n",
       "\n",
       "    // location in version 3\n",
       "    if (IPython.notebook.keyboard_manager) {\n",
       "        IPython.notebook.keyboard_manager.register_events(el);\n",
       "    } else {\n",
       "        // location in version 2\n",
       "        IPython.keyboard_manager.register_events(el);\n",
       "    }\n",
       "};\n",
       "\n",
       "mpl.figure.prototype._key_event_extra = function (event, _name) {\n",
       "    // Check for shift+enter\n",
       "    if (event.shiftKey && event.which === 13) {\n",
       "        this.canvas_div.blur();\n",
       "        // select the cell after this one\n",
       "        var index = IPython.notebook.find_cell_index(this.cell_info[0]);\n",
       "        IPython.notebook.select(index + 1);\n",
       "    }\n",
       "};\n",
       "\n",
       "mpl.figure.prototype.handle_save = function (fig, _msg) {\n",
       "    fig.ondownload(fig, null);\n",
       "};\n",
       "\n",
       "mpl.find_output_cell = function (html_output) {\n",
       "    // Return the cell and output element which can be found *uniquely* in the notebook.\n",
       "    // Note - this is a bit hacky, but it is done because the \"notebook_saving.Notebook\"\n",
       "    // IPython event is triggered only after the cells have been serialised, which for\n",
       "    // our purposes (turning an active figure into a static one), is too late.\n",
       "    var cells = IPython.notebook.get_cells();\n",
       "    var ncells = cells.length;\n",
       "    for (var i = 0; i < ncells; i++) {\n",
       "        var cell = cells[i];\n",
       "        if (cell.cell_type === 'code') {\n",
       "            for (var j = 0; j < cell.output_area.outputs.length; j++) {\n",
       "                var data = cell.output_area.outputs[j];\n",
       "                if (data.data) {\n",
       "                    // IPython >= 3 moved mimebundle to data attribute of output\n",
       "                    data = data.data;\n",
       "                }\n",
       "                if (data['text/html'] === html_output) {\n",
       "                    return [cell, data, j];\n",
       "                }\n",
       "            }\n",
       "        }\n",
       "    }\n",
       "};\n",
       "\n",
       "// Register the function which deals with the matplotlib target/channel.\n",
       "// The kernel may be null if the page has been refreshed.\n",
       "if (IPython.notebook.kernel !== null) {\n",
       "    IPython.notebook.kernel.comm_manager.register_target(\n",
       "        'matplotlib',\n",
       "        mpl.mpl_figure_comm\n",
       "    );\n",
       "}\n"
      ],
      "text/plain": [
       "<IPython.core.display.Javascript object>"
      ]
     },
     "metadata": {},
     "output_type": "display_data"
    },
    {
     "data": {
      "text/html": [
       "<img src=\"data:image/png;base64,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\" width=\"640\">"
      ],
      "text/plain": [
       "<IPython.core.display.HTML object>"
      ]
     },
     "metadata": {},
     "output_type": "display_data"
    },
    {
     "name": "stderr",
     "output_type": "stream",
     "text": [
      "C:\\Users\\fhacesga\\Desktop\\FIRMsDigitizing\\RECTDNN\\TPNN.py:192: UserWarning: Implicit dimension choice for softmax has been deprecated. Change the call to include dim=X as an argument.\n",
      "  output = self.softmax(output)\n",
      "C:\\Users\\fhacesga\\Anaconda3\\envs\\deeplearning\\lib\\site-packages\\torch\\optim\\lr_scheduler.py:382: UserWarning: To get the last learning rate computed by the scheduler, please use `get_last_lr()`.\n",
      "  \"please use `get_last_lr()`.\", UserWarning)\n"
     ]
    }
   ],
   "source": [
    "model = TPNN(num_classes=3, finalpadding=1, inputsize=2)\n",
    "model = train(model, loaders, num_epochs=5000, learning_rate=1e-3,\n",
    "              continue_from=r\"C:\\Users\\fhacesga\\Desktop\\FIRMsDigitizing\\data\\FLNN\\checkpoint_111324_2.pth\"\n",
    "             )"
   ]
  }
 ],
 "metadata": {
  "kernelspec": {
   "display_name": "Python 3 (ipykernel)",
   "language": "python",
   "name": "python3"
  },
  "language_info": {
   "codemirror_mode": {
    "name": "ipython",
    "version": 3
   },
   "file_extension": ".py",
   "mimetype": "text/x-python",
   "name": "python",
   "nbconvert_exporter": "python",
   "pygments_lexer": "ipython3",
   "version": "3.7.12"
  },
  "widgets": {
   "application/vnd.jupyter.widget-state+json": {
    "state": {
     "000a0ce30ef84bfc8ab5b9c23b221bc4": {
      "model_module": "@jupyter-widgets/controls",
      "model_module_version": "2.0.0",
      "model_name": "ProgressStyleModel",
      "state": {
       "description_width": ""
      }
     },
     "0023fc3242d845c783fb42d2e5d68a32": {
      "model_module": "@jupyter-widgets/controls",
      "model_module_version": "2.0.0",
      "model_name": "HBoxModel",
      "state": {
       "children": [
        "IPY_MODEL_5707ef96db714ec0a3f2f9dbe98908c9",
        "IPY_MODEL_8f3469b12b6d41cca996c3174a8a94d3",
        "IPY_MODEL_69fd7e6e13c94f61a5ebb811aa394333"
       ],
       "layout": "IPY_MODEL_5a7402acea7c46b7acc62d232cbaafda"
      }
     },
     "0063857eab204d448a73753b8424dbad": {
      "model_module": "@jupyter-widgets/controls",
      "model_module_version": "2.0.0",
      "model_name": "HTMLModel",
      "state": {
       "layout": "IPY_MODEL_94b354bd31db4240b3abce5878a7f39e",
       "style": "IPY_MODEL_acdac6e8397d4097ba9b78f5a31f3293",
       "value": "100%"
      }
     },
     "009b2957b305415891bb4aed8cebb918": {
      "model_module": "@jupyter-widgets/controls",
      "model_module_version": "2.0.0",
      "model_name": "DescriptionStyleModel",
      "state": {
       "description_width": ""
      }
     },
     "009e9b31c50b45ce98d8d25a7a492aac": {
      "model_module": "@jupyter-widgets/controls",
      "model_module_version": "2.0.0",
      "model_name": "HTMLModel",
      "state": {
       "layout": "IPY_MODEL_f1cadea86f4349a5ab89df8c16368f3f",
       "style": "IPY_MODEL_2a75bc70851b42b69eacea7343414dbb",
       "value": "100%"
      }
     },
     "01d8b4a699f146feb03b588bf69025c8": {
      "model_module": "@jupyter-widgets/base",
      "model_module_version": "2.0.0",
      "model_name": "LayoutModel",
      "state": {}
     },
     "01d8f884022a47efb55c154520a685d5": {
      "model_module": "@jupyter-widgets/controls",
      "model_module_version": "2.0.0",
      "model_name": "ProgressStyleModel",
      "state": {
       "description_width": ""
      }
     },
     "01e5af5b26df48c68e2a60acda563670": {
      "model_module": "@jupyter-widgets/base",
      "model_module_version": "2.0.0",
      "model_name": "LayoutModel",
      "state": {}
     },
     "0264a0f5edbd4d84b646529d5900ab46": {
      "model_module": "@jupyter-widgets/base",
      "model_module_version": "2.0.0",
      "model_name": "LayoutModel",
      "state": {}
     },
     "029642dfa78247a18b8c1e5fe6452dda": {
      "model_module": "@jupyter-widgets/controls",
      "model_module_version": "2.0.0",
      "model_name": "DescriptionStyleModel",
      "state": {
       "description_width": ""
      }
     },
     "0325411a73a24e76a5a828c1af2f77f4": {
      "model_module": "@jupyter-widgets/controls",
      "model_module_version": "2.0.0",
      "model_name": "DescriptionStyleModel",
      "state": {
       "description_width": ""
      }
     },
     "0336f4a7a20b426fb438fe3bf7ed82b3": {
      "model_module": "@jupyter-widgets/controls",
      "model_module_version": "2.0.0",
      "model_name": "HBoxModel",
      "state": {
       "children": [
        "IPY_MODEL_03cb0af0e762481c9c64df8c86d59f64",
        "IPY_MODEL_4fdb5b1c4a484c5692ff2224cb3311ef",
        "IPY_MODEL_810d595243204b40860e6dae8429371f"
       ],
       "layout": "IPY_MODEL_bc9b146a311b4e43864c0885a0d6254b"
      }
     },
     "0365c814a1964bfa8a174f66d432d2d8": {
      "model_module": "@jupyter-widgets/controls",
      "model_module_version": "2.0.0",
      "model_name": "HTMLModel",
      "state": {
       "layout": "IPY_MODEL_a440e087f1764e1f8107f2d1e11088f3",
       "style": "IPY_MODEL_9b24a19000ef42af8a952c53a70a91cf",
       "value": " 6/6 [00:08&lt;00:00,  1.97s/it]"
      }
     },
     "03a3d629e6154eacaca8081c71a01b2b": {
      "model_module": "@jupyter-widgets/base",
      "model_module_version": "2.0.0",
      "model_name": "LayoutModel",
      "state": {}
     },
     "03a96f3c2a024b0f94090e89d31f9e0a": {
      "model_module": "@jupyter-widgets/base",
      "model_module_version": "2.0.0",
      "model_name": "LayoutModel",
      "state": {}
     },
     "03cb0af0e762481c9c64df8c86d59f64": {
      "model_module": "@jupyter-widgets/controls",
      "model_module_version": "2.0.0",
      "model_name": "HTMLModel",
      "state": {
       "layout": "IPY_MODEL_efc52319653d4b0bbd451e539181b0fa",
       "style": "IPY_MODEL_e107e09de9494b96ba9563b361cbfa93",
       "value": "100%"
      }
     },
     "03cf710d075a49579d410930b6fbacf4": {
      "model_module": "@jupyter-widgets/base",
      "model_module_version": "2.0.0",
      "model_name": "LayoutModel",
      "state": {}
     },
     "042be28fa0bb441d96647ac61c3f1187": {
      "model_module": "@jupyter-widgets/base",
      "model_module_version": "2.0.0",
      "model_name": "LayoutModel",
      "state": {}
     },
     "055973be849e46938f53875663039720": {
      "model_module": "@jupyter-widgets/base",
      "model_module_version": "2.0.0",
      "model_name": "LayoutModel",
      "state": {}
     },
     "05780041cc8a43a09595c7e527476426": {
      "model_module": "@jupyter-widgets/controls",
      "model_module_version": "2.0.0",
      "model_name": "HBoxModel",
      "state": {
       "children": [
        "IPY_MODEL_c0bc0ed166f748e898629d44ab3ed1a8",
        "IPY_MODEL_3d11387ee5bf45a7841f88bcba010856",
        "IPY_MODEL_9b1bd763907b42879195badd1b69a3e8"
       ],
       "layout": "IPY_MODEL_5fc4e3b1da1c478ea141c911c4e76b5e"
      }
     },
     "05b3bfdeba8148b8b4f9e8a220a48ad1": {
      "model_module": "@jupyter-widgets/controls",
      "model_module_version": "2.0.0",
      "model_name": "FloatProgressModel",
      "state": {
       "bar_style": "success",
       "layout": "IPY_MODEL_a001f2d8f0ac46178a6eaf43f36f248e",
       "max": 3,
       "style": "IPY_MODEL_b4844e9f7ac840f8932292a6e55f54c4",
       "value": 3
      }
     },
     "05ce7d2dcc9c42a1a4657f9cae9edea1": {
      "model_module": "@jupyter-widgets/base",
      "model_module_version": "2.0.0",
      "model_name": "LayoutModel",
      "state": {}
     },
     "066b157993bf44e680f38377fd313131": {
      "model_module": "@jupyter-widgets/controls",
      "model_module_version": "2.0.0",
      "model_name": "HBoxModel",
      "state": {
       "children": [
        "IPY_MODEL_e3713f550fe34209b0ca21db1baa24aa",
        "IPY_MODEL_e5d5e45fb4914148aa722874d820f5b3",
        "IPY_MODEL_dd4cfe4c1c19432d814165e8bfcadbdb"
       ],
       "layout": "IPY_MODEL_8588cbf7c52d4f418839811101f446cc"
      }
     },
     "069d1da5bb904bb092d378f310a159d1": {
      "model_module": "@jupyter-widgets/controls",
      "model_module_version": "2.0.0",
      "model_name": "ProgressStyleModel",
      "state": {
       "description_width": ""
      }
     },
     "06cd218c9ce0406090f8b3651b412fe3": {
      "model_module": "@jupyter-widgets/base",
      "model_module_version": "2.0.0",
      "model_name": "LayoutModel",
      "state": {}
     },
     "06d57aa711be4630a00b75bef4214d4c": {
      "model_module": "@jupyter-widgets/base",
      "model_module_version": "2.0.0",
      "model_name": "LayoutModel",
      "state": {}
     },
     "06e11f82b78947988f5e6a40a8d2f191": {
      "model_module": "@jupyter-widgets/controls",
      "model_module_version": "2.0.0",
      "model_name": "DescriptionStyleModel",
      "state": {
       "description_width": ""
      }
     },
     "06e417298e2e4c93bfd44db90d47d077": {
      "model_module": "@jupyter-widgets/controls",
      "model_module_version": "2.0.0",
      "model_name": "HTMLModel",
      "state": {
       "layout": "IPY_MODEL_3979d488f5ca4bb7b9752f190f516e49",
       "style": "IPY_MODEL_23d02aee6f02490688abd31c971c5a82",
       "value": "100%"
      }
     },
     "07019ea46ea046e0b87c8e4a25c6963b": {
      "model_module": "@jupyter-widgets/controls",
      "model_module_version": "2.0.0",
      "model_name": "HTMLModel",
      "state": {
       "layout": "IPY_MODEL_f27ed8d568e3443b8ebfc12dea126023",
       "style": "IPY_MODEL_8ccf6c8ad7a94dee96a0b8f1c326da34",
       "value": "100%"
      }
     },
     "0753c14d260c47b4b76e724d61b7626e": {
      "model_module": "@jupyter-widgets/controls",
      "model_module_version": "2.0.0",
      "model_name": "HTMLModel",
      "state": {
       "layout": "IPY_MODEL_f1cf5257a926489ebdcef6587525d199",
       "style": "IPY_MODEL_86408805e10e4b36b31272710102a681",
       "value": " 6/6 [00:11&lt;00:00,  2.79s/it]"
      }
     },
     "078d87136b9142e9acb4789c407b5e78": {
      "model_module": "@jupyter-widgets/controls",
      "model_module_version": "2.0.0",
      "model_name": "HBoxModel",
      "state": {
       "children": [
        "IPY_MODEL_7a5f3f054d8d4da3aed21f20541bed79",
        "IPY_MODEL_ee40caa8c6a5462badf1997964bd8578",
        "IPY_MODEL_0949c01d9549498994fad95e6c00b4d4"
       ],
       "layout": "IPY_MODEL_217746ae5f514b5cb74f459bb7394317"
      }
     },
     "07a605e198bc4bdc96fd16984325d5d4": {
      "model_module": "@jupyter-widgets/controls",
      "model_module_version": "2.0.0",
      "model_name": "HBoxModel",
      "state": {
       "children": [
        "IPY_MODEL_57843694692c4a3b87bfbd132153cab8",
        "IPY_MODEL_88209ef64d6c4b459ebea93a0eacd68c",
        "IPY_MODEL_fd51647b299b4889b249a7594dbeedea"
       ],
       "layout": "IPY_MODEL_f387bf1b5492446ba39e2624cfcd4629"
      }
     },
     "07d17a674a6348fc8fa411e197b78069": {
      "model_module": "@jupyter-widgets/controls",
      "model_module_version": "2.0.0",
      "model_name": "ProgressStyleModel",
      "state": {
       "description_width": ""
      }
     },
     "080b15f229de42e488724f68e64030ec": {
      "model_module": "@jupyter-widgets/controls",
      "model_module_version": "2.0.0",
      "model_name": "HBoxModel",
      "state": {
       "children": [
        "IPY_MODEL_8bde0caeebf740c4bc667fbfa72d02ed",
        "IPY_MODEL_1485dc20e8a9448a8d53f4b75b48f675",
        "IPY_MODEL_7598e2700b684d90841799187dfcc138"
       ],
       "layout": "IPY_MODEL_30ebffb12b0f4b59abeb9b83b0a6fbdc"
      }
     },
     "08364b2a0e744b05919950b79cbb7529": {
      "model_module": "@jupyter-widgets/controls",
      "model_module_version": "2.0.0",
      "model_name": "HBoxModel",
      "state": {
       "children": [
        "IPY_MODEL_d28805f81f2d4e939de07c7bfb0c3942",
        "IPY_MODEL_902f154135734038946c4cb43ac040ea",
        "IPY_MODEL_54bc5cd15c52489db348d7d474416b63"
       ],
       "layout": "IPY_MODEL_6e6c8d817cf642cda4b8c67c1421f16b"
      }
     },
     "084efb17fade418aac55ccf88c99373d": {
      "model_module": "@jupyter-widgets/base",
      "model_module_version": "2.0.0",
      "model_name": "LayoutModel",
      "state": {}
     },
     "08e2cf45c7c848ed83868e9a1f1ba967": {
      "model_module": "@jupyter-widgets/controls",
      "model_module_version": "2.0.0",
      "model_name": "HTMLModel",
      "state": {
       "layout": "IPY_MODEL_8981bf35b70148559775a41ed92d1ed1",
       "style": "IPY_MODEL_705019b0b05f4387aefdd6bb569e74d9",
       "value": "100%"
      }
     },
     "0949c01d9549498994fad95e6c00b4d4": {
      "model_module": "@jupyter-widgets/controls",
      "model_module_version": "2.0.0",
      "model_name": "HTMLModel",
      "state": {
       "layout": "IPY_MODEL_c7dc4e6681ce4f8eae9a97b57acbed79",
       "style": "IPY_MODEL_945688e6560c48ad8c46b7294bd434b6",
       "value": " 0/6 [00:00&lt;?, ?it/s]"
      }
     },
     "0955482db7ea401daacc4b71171b4096": {
      "model_module": "@jupyter-widgets/controls",
      "model_module_version": "2.0.0",
      "model_name": "ProgressStyleModel",
      "state": {
       "description_width": ""
      }
     },
     "09b9674aaee24f8ba6ac3d70e04734de": {
      "model_module": "@jupyter-widgets/base",
      "model_module_version": "2.0.0",
      "model_name": "LayoutModel",
      "state": {}
     },
     "09ee37cbf2df41f5b293113c69bb3a24": {
      "model_module": "@jupyter-widgets/base",
      "model_module_version": "2.0.0",
      "model_name": "LayoutModel",
      "state": {}
     },
     "0a8273abf4b04fcfa266ece21ec57dc2": {
      "model_module": "@jupyter-widgets/base",
      "model_module_version": "2.0.0",
      "model_name": "LayoutModel",
      "state": {}
     },
     "0abaf50f623a43e58afcf20b196d3dbc": {
      "model_module": "@jupyter-widgets/controls",
      "model_module_version": "2.0.0",
      "model_name": "HTMLStyleModel",
      "state": {
       "description_width": "",
       "font_size": null,
       "text_color": null
      }
     },
     "0ae180ce7c094699b73877331aa776d5": {
      "model_module": "@jupyter-widgets/base",
      "model_module_version": "2.0.0",
      "model_name": "LayoutModel",
      "state": {}
     },
     "0b1a304bd15f47ec8858bfd900d11484": {
      "model_module": "@jupyter-widgets/controls",
      "model_module_version": "2.0.0",
      "model_name": "HTMLModel",
      "state": {
       "layout": "IPY_MODEL_ba807cc513b74d7d8eeb027c2910b83d",
       "style": "IPY_MODEL_cb816fa26def400fb32343b0dd2f8917",
       "value": " 14/14 [00:37&lt;00:00,  2.73s/it]"
      }
     },
     "0b1b5e2e830e40bb969f2adc1614aea5": {
      "model_module": "@jupyter-widgets/controls",
      "model_module_version": "2.0.0",
      "model_name": "FloatProgressModel",
      "state": {
       "bar_style": "success",
       "layout": "IPY_MODEL_1f96bc76575143e0bbfa6f656bc14379",
       "max": 14,
       "style": "IPY_MODEL_147d6e998a764a2d9829860f250560d9",
       "value": 14
      }
     },
     "0b4691c9dc8c4730b2406addff4465cf": {
      "model_module": "@jupyter-widgets/controls",
      "model_module_version": "2.0.0",
      "model_name": "HTMLModel",
      "state": {
       "layout": "IPY_MODEL_45f72b16772f40e081fb9d967266f68d",
       "style": "IPY_MODEL_43813cdb3cc948f49df4d4f3c7bbca4d",
       "value": "100%"
      }
     },
     "0b69df04be5841c59960a17eb4f82d76": {
      "model_module": "@jupyter-widgets/controls",
      "model_module_version": "2.0.0",
      "model_name": "HBoxModel",
      "state": {
       "children": [
        "IPY_MODEL_aef0ceb8c0ae4015b63ea8b2d521df89",
        "IPY_MODEL_749e6b87082c4e4bbdd4030cad16b4ca",
        "IPY_MODEL_1ce6f12be1c846d6b0b2f907eb606fa8"
       ],
       "layout": "IPY_MODEL_26ee41edcc1d4611b2c3bf8d590a98f1"
      }
     },
     "0b79ec824d3b4d8aa3cae468021e6ea0": {
      "model_module": "@jupyter-widgets/base",
      "model_module_version": "2.0.0",
      "model_name": "LayoutModel",
      "state": {}
     },
     "0bca4e3d211e481b930b97cb27172398": {
      "model_module": "@jupyter-widgets/controls",
      "model_module_version": "2.0.0",
      "model_name": "HTMLModel",
      "state": {
       "layout": "IPY_MODEL_d2089328393446879bd5bea14c4c46d4",
       "style": "IPY_MODEL_acda4f5b396441189693bf7bffcb701c",
       "value": "100%"
      }
     },
     "0bdac01ac9714d238307c195beb0e4d6": {
      "model_module": "@jupyter-widgets/controls",
      "model_module_version": "2.0.0",
      "model_name": "ProgressStyleModel",
      "state": {
       "description_width": ""
      }
     },
     "0c661b3b523e46c997b81ec88b55885f": {
      "model_module": "@jupyter-widgets/controls",
      "model_module_version": "2.0.0",
      "model_name": "HBoxModel",
      "state": {
       "children": [
        "IPY_MODEL_2b00516e0d2f4aa38eb103470d68f748",
        "IPY_MODEL_ed986ba25e62442b805d11edfd26d196",
        "IPY_MODEL_2687f4e65b9f494d85e66a18985cc115"
       ],
       "layout": "IPY_MODEL_d215b8a8add54994996af76ab889def9"
      }
     },
     "0cb625922b5f481f85c9215f9f4b3d23": {
      "model_module": "@jupyter-widgets/base",
      "model_module_version": "2.0.0",
      "model_name": "LayoutModel",
      "state": {}
     },
     "0d06caff45da43a387feb0da28b050fb": {
      "model_module": "@jupyter-widgets/base",
      "model_module_version": "2.0.0",
      "model_name": "LayoutModel",
      "state": {}
     },
     "0d313cc29bcc46dfb446da66fa807e59": {
      "model_module": "@jupyter-widgets/controls",
      "model_module_version": "2.0.0",
      "model_name": "HBoxModel",
      "state": {
       "children": [
        "IPY_MODEL_83c2fac7843c4663a1b118a4efb743db",
        "IPY_MODEL_fa70d6fcb22147d0955df9e8bddc056c",
        "IPY_MODEL_b95eedb43b064ce789790750e2c53bb5"
       ],
       "layout": "IPY_MODEL_2a462a43f7d74fce8b387d4a583712ec"
      }
     },
     "0d3409116f40446cbda24b66b80c0548": {
      "model_module": "@jupyter-widgets/controls",
      "model_module_version": "2.0.0",
      "model_name": "FloatProgressModel",
      "state": {
       "bar_style": "success",
       "layout": "IPY_MODEL_69ba768c93bf4d2585127c9dd8cca2a1",
       "max": 3,
       "style": "IPY_MODEL_e8f26801067b4ef1828250d9824be275",
       "value": 3
      }
     },
     "0d4bc172676c4414864818a4ac6416fe": {
      "model_module": "@jupyter-widgets/controls",
      "model_module_version": "2.0.0",
      "model_name": "HTMLModel",
      "state": {
       "layout": "IPY_MODEL_199baf487d344705bd0e350dbae70ae1",
       "style": "IPY_MODEL_06e11f82b78947988f5e6a40a8d2f191",
       "value": "100%"
      }
     },
     "0d4cdb3348194428b360906169fcc25e": {
      "model_module": "@jupyter-widgets/base",
      "model_module_version": "2.0.0",
      "model_name": "LayoutModel",
      "state": {}
     },
     "0d5bdf9af54d439ca3f4b690da144284": {
      "model_module": "@jupyter-widgets/controls",
      "model_module_version": "2.0.0",
      "model_name": "HTMLModel",
      "state": {
       "layout": "IPY_MODEL_32e522644e3548eeb2a61abd4431c1dc",
       "style": "IPY_MODEL_6598381da8a44dae8d3e17c72ca74f0d",
       "value": "100%"
      }
     },
     "0db0d77a505b45c09a86c22ab3ec786f": {
      "model_module": "@jupyter-widgets/base",
      "model_module_version": "2.0.0",
      "model_name": "LayoutModel",
      "state": {}
     },
     "0dc955968bf4464581e4aff52c7e0667": {
      "model_module": "@jupyter-widgets/controls",
      "model_module_version": "2.0.0",
      "model_name": "HTMLModel",
      "state": {
       "layout": "IPY_MODEL_b1a71496bea04ea984d4eaf411c2d37c",
       "style": "IPY_MODEL_22eb8c8a0e00490a9134f86bf95f647a",
       "value": " 3/3 [00:11&lt;00:00,  4.32s/it]"
      }
     },
     "0eaa5fd6d17d42739186b27b186fa2d4": {
      "model_module": "@jupyter-widgets/base",
      "model_module_version": "2.0.0",
      "model_name": "LayoutModel",
      "state": {}
     },
     "0eb105eb3c3a4e0e8ad0c0555002b74a": {
      "model_module": "@jupyter-widgets/base",
      "model_module_version": "2.0.0",
      "model_name": "LayoutModel",
      "state": {}
     },
     "0eb10b760dc54f0697396bb1551ea804": {
      "model_module": "@jupyter-widgets/controls",
      "model_module_version": "2.0.0",
      "model_name": "FloatProgressModel",
      "state": {
       "bar_style": "success",
       "layout": "IPY_MODEL_4249d3d2ad154f738789fb624a8e0867",
       "max": 14,
       "style": "IPY_MODEL_5976186c6a0042c2b496154953e7726d",
       "value": 14
      }
     },
     "0f08dbddfbf34a21a5d145735909cfec": {
      "model_module": "@jupyter-widgets/base",
      "model_module_version": "2.0.0",
      "model_name": "LayoutModel",
      "state": {}
     },
     "0f26d84da7c14a52a03a1d4cfbbc0405": {
      "model_module": "@jupyter-widgets/controls",
      "model_module_version": "2.0.0",
      "model_name": "DescriptionStyleModel",
      "state": {
       "description_width": ""
      }
     },
     "0f4f2ab58d27499ab90aef032e5a3b75": {
      "model_module": "@jupyter-widgets/controls",
      "model_module_version": "2.0.0",
      "model_name": "HBoxModel",
      "state": {
       "children": [
        "IPY_MODEL_de34218bb04f441bb1bc43e285752ade",
        "IPY_MODEL_69a5d1fb555745e39ade5030c767bf78",
        "IPY_MODEL_d7ec9dc0b86e4aa7adcd14aaab8643e1"
       ],
       "layout": "IPY_MODEL_f9620fa4d32740b59e5cb0690a070612"
      }
     },
     "0f833f6471d344ad9cb100183559182a": {
      "model_module": "@jupyter-widgets/controls",
      "model_module_version": "2.0.0",
      "model_name": "FloatProgressModel",
      "state": {
       "bar_style": "success",
       "layout": "IPY_MODEL_dc28259a0652441aacc9366d13c53f3c",
       "max": 6,
       "style": "IPY_MODEL_b85490ed0a0947f0b84a2600a1c988c7",
       "value": 6
      }
     },
     "0f9c8d0f704c4e5ba707cf9fc4bd45ae": {
      "model_module": "@jupyter-widgets/controls",
      "model_module_version": "2.0.0",
      "model_name": "HTMLModel",
      "state": {
       "layout": "IPY_MODEL_4fcce8713d9f40efa519fad4c3f6d159",
       "style": "IPY_MODEL_287a7573648040f38d693b279d747f3b",
       "value": "100%"
      }
     },
     "0fc92f9097474517aa4fad739dce6c9e": {
      "model_module": "@jupyter-widgets/controls",
      "model_module_version": "2.0.0",
      "model_name": "HTMLModel",
      "state": {
       "layout": "IPY_MODEL_bd40e6ea970a42bca8cba175f0e0ef3c",
       "style": "IPY_MODEL_451473f4e335442db1280c3dafa1c5de",
       "value": "100%"
      }
     },
     "1004c413f391408aa53526d8882d9ea5": {
      "model_module": "@jupyter-widgets/controls",
      "model_module_version": "2.0.0",
      "model_name": "HTMLModel",
      "state": {
       "layout": "IPY_MODEL_98cb9a5f782d406992c4ab9ddc0d89c4",
       "style": "IPY_MODEL_583d1f1adf7746b78eeac541b547405b",
       "value": "100%"
      }
     },
     "10e39dc37bd944b3a6cea613c2c089f3": {
      "model_module": "@jupyter-widgets/controls",
      "model_module_version": "2.0.0",
      "model_name": "DescriptionStyleModel",
      "state": {
       "description_width": ""
      }
     },
     "10ea0838335d4ae1bb579ef325c49f1d": {
      "model_module": "@jupyter-widgets/base",
      "model_module_version": "2.0.0",
      "model_name": "LayoutModel",
      "state": {}
     },
     "115a126a5dc14d9e9e0c1a91e79ef53e": {
      "model_module": "@jupyter-widgets/base",
      "model_module_version": "2.0.0",
      "model_name": "LayoutModel",
      "state": {}
     },
     "11d0dc6ff6db4abe8434128bba74e17a": {
      "model_module": "@jupyter-widgets/controls",
      "model_module_version": "2.0.0",
      "model_name": "DescriptionStyleModel",
      "state": {
       "description_width": ""
      }
     },
     "11fddfdf1de84920ae47280c167037ea": {
      "model_module": "@jupyter-widgets/controls",
      "model_module_version": "2.0.0",
      "model_name": "HBoxModel",
      "state": {
       "children": [
        "IPY_MODEL_d7843afa00d04ccfa17c4f7a2c0ead9c",
        "IPY_MODEL_b706432285f34e75ae5cff63bc0f811e",
        "IPY_MODEL_8039000c118c4b35bc9ffcc4d13b27f3"
       ],
       "layout": "IPY_MODEL_fc340e178dcf4841a50d791a1e61b133"
      }
     },
     "12376590b1cc4543ba04cb2c3624454c": {
      "model_module": "@jupyter-widgets/controls",
      "model_module_version": "2.0.0",
      "model_name": "ProgressStyleModel",
      "state": {
       "description_width": ""
      }
     },
     "12bd68cfd5214378b677176807915f57": {
      "model_module": "@jupyter-widgets/controls",
      "model_module_version": "2.0.0",
      "model_name": "HTMLModel",
      "state": {
       "layout": "IPY_MODEL_9722c25d278d4c709a75c1528f7252d6",
       "style": "IPY_MODEL_38b365b1201f4397953d51a62aaf4e80",
       "value": " 6/6 [00:11&lt;00:00,  2.78s/it]"
      }
     },
     "1317b6a0a7bc4b43a76e7ca689d01b22": {
      "model_module": "@jupyter-widgets/controls",
      "model_module_version": "2.0.0",
      "model_name": "HTMLStyleModel",
      "state": {
       "description_width": "",
       "font_size": null,
       "text_color": null
      }
     },
     "147d6e998a764a2d9829860f250560d9": {
      "model_module": "@jupyter-widgets/controls",
      "model_module_version": "2.0.0",
      "model_name": "ProgressStyleModel",
      "state": {
       "description_width": ""
      }
     },
     "1485dc20e8a9448a8d53f4b75b48f675": {
      "model_module": "@jupyter-widgets/controls",
      "model_module_version": "2.0.0",
      "model_name": "FloatProgressModel",
      "state": {
       "bar_style": "danger",
       "layout": "IPY_MODEL_305aca9f3f244ad0b9b26ed91ec3af33",
       "max": 14,
       "style": "IPY_MODEL_18d7ef9ee88a455dbbfac965b15c9e1a",
       "value": 10
      }
     },
     "14f0bd724fd345f8bab8dfc4bef0bf08": {
      "model_module": "@jupyter-widgets/controls",
      "model_module_version": "2.0.0",
      "model_name": "ProgressStyleModel",
      "state": {
       "description_width": ""
      }
     },
     "1550f4570c0649d281d386ee91811c1a": {
      "model_module": "@jupyter-widgets/base",
      "model_module_version": "2.0.0",
      "model_name": "LayoutModel",
      "state": {}
     },
     "1574450acc874b6f9d2c6fa210c91894": {
      "model_module": "@jupyter-widgets/base",
      "model_module_version": "2.0.0",
      "model_name": "LayoutModel",
      "state": {}
     },
     "16db80d7528e45a79bb7708b65544c05": {
      "model_module": "@jupyter-widgets/controls",
      "model_module_version": "2.0.0",
      "model_name": "FloatProgressModel",
      "state": {
       "bar_style": "success",
       "layout": "IPY_MODEL_8d4c233f2bd34fc785689c28a4443ae4",
       "max": 3,
       "style": "IPY_MODEL_5d60a27d33a64fe0b9065d67b7327045",
       "value": 3
      }
     },
     "16fb2ba10ca54fe5b113a07e4b74a364": {
      "model_module": "@jupyter-widgets/controls",
      "model_module_version": "2.0.0",
      "model_name": "FloatProgressModel",
      "state": {
       "bar_style": "success",
       "layout": "IPY_MODEL_edf5997f4a0c488abc2bd51d603e413b",
       "max": 3,
       "style": "IPY_MODEL_8184abafd437439481a39fe8f50c41bf",
       "value": 3
      }
     },
     "1738612afc9045d2aacc3f7bf1bf54c1": {
      "model_module": "@jupyter-widgets/base",
      "model_module_version": "2.0.0",
      "model_name": "LayoutModel",
      "state": {}
     },
     "1770df0cfa014ba89fca32d9ccf66276": {
      "model_module": "@jupyter-widgets/base",
      "model_module_version": "2.0.0",
      "model_name": "LayoutModel",
      "state": {}
     },
     "17800447be014770ae05c74ce802f81c": {
      "model_module": "@jupyter-widgets/controls",
      "model_module_version": "2.0.0",
      "model_name": "DescriptionStyleModel",
      "state": {
       "description_width": ""
      }
     },
     "18d7ef9ee88a455dbbfac965b15c9e1a": {
      "model_module": "@jupyter-widgets/controls",
      "model_module_version": "2.0.0",
      "model_name": "ProgressStyleModel",
      "state": {
       "description_width": ""
      }
     },
     "18f4eee24bac4eed92745ba210060663": {
      "model_module": "@jupyter-widgets/controls",
      "model_module_version": "2.0.0",
      "model_name": "HTMLStyleModel",
      "state": {
       "description_width": "",
       "font_size": null,
       "text_color": null
      }
     },
     "18fb54df65384bb191ef2dd090fb1024": {
      "model_module": "@jupyter-widgets/base",
      "model_module_version": "2.0.0",
      "model_name": "LayoutModel",
      "state": {}
     },
     "195b90f25ae447488562295c171c2e4d": {
      "model_module": "@jupyter-widgets/controls",
      "model_module_version": "2.0.0",
      "model_name": "DescriptionStyleModel",
      "state": {
       "description_width": ""
      }
     },
     "195bf44553064ef9b5c442ed7f8d14c0": {
      "model_module": "@jupyter-widgets/controls",
      "model_module_version": "2.0.0",
      "model_name": "FloatProgressModel",
      "state": {
       "bar_style": "success",
       "layout": "IPY_MODEL_a457bdaff0b54319a7e04193fee288ff",
       "max": 14,
       "style": "IPY_MODEL_5d64f8724c144e37b875cd67b10ec38b",
       "value": 14
      }
     },
     "199baf487d344705bd0e350dbae70ae1": {
      "model_module": "@jupyter-widgets/base",
      "model_module_version": "2.0.0",
      "model_name": "LayoutModel",
      "state": {}
     },
     "19d2a5bbbee14c30bd9480c8930412ef": {
      "model_module": "@jupyter-widgets/controls",
      "model_module_version": "2.0.0",
      "model_name": "FloatProgressModel",
      "state": {
       "bar_style": "success",
       "layout": "IPY_MODEL_042be28fa0bb441d96647ac61c3f1187",
       "max": 6,
       "style": "IPY_MODEL_41d2351da9f445548ea422ffb7bd70b8",
       "value": 6
      }
     },
     "19ea34ec07da4d61acec8c855bbc02bf": {
      "model_module": "@jupyter-widgets/base",
      "model_module_version": "2.0.0",
      "model_name": "LayoutModel",
      "state": {}
     },
     "1a3e94e077794b26a5f1d4383652e342": {
      "model_module": "@jupyter-widgets/controls",
      "model_module_version": "2.0.0",
      "model_name": "HTMLModel",
      "state": {
       "layout": "IPY_MODEL_f1f91959b5e34777a43a77fabbc2547b",
       "style": "IPY_MODEL_8b612f576d034f368bf01513ba1fdbf7",
       "value": " 6/6 [00:11&lt;00:00,  2.85s/it]"
      }
     },
     "1a972bcc03d64354b5cd8ec42d25af83": {
      "model_module": "@jupyter-widgets/base",
      "model_module_version": "2.0.0",
      "model_name": "LayoutModel",
      "state": {}
     },
     "1afd9b14111e46ce980a6e0b1d6e4560": {
      "model_module": "@jupyter-widgets/base",
      "model_module_version": "2.0.0",
      "model_name": "LayoutModel",
      "state": {}
     },
     "1b128390ad5d40609c6853ee0320d36b": {
      "model_module": "@jupyter-widgets/controls",
      "model_module_version": "2.0.0",
      "model_name": "FloatProgressModel",
      "state": {
       "bar_style": "success",
       "layout": "IPY_MODEL_be41d6ae9f344b5ba9b383d3d5c484bf",
       "max": 3,
       "style": "IPY_MODEL_07d17a674a6348fc8fa411e197b78069",
       "value": 3
      }
     },
     "1b3e9c32128b4afd82e6239a2c210fd1": {
      "model_module": "@jupyter-widgets/base",
      "model_module_version": "2.0.0",
      "model_name": "LayoutModel",
      "state": {}
     },
     "1bb5e4ab089345e486e8cb7702e2a389": {
      "model_module": "@jupyter-widgets/controls",
      "model_module_version": "2.0.0",
      "model_name": "HBoxModel",
      "state": {
       "children": [
        "IPY_MODEL_b4a6ca293cf340b89bc8cee747bd4df1",
        "IPY_MODEL_25903453397444dc8539ba4a20d941d7",
        "IPY_MODEL_4c514c61a1824da0bb353e154c21288e"
       ],
       "layout": "IPY_MODEL_44d1cb966cd74d34b917a08160071f86"
      }
     },
     "1c13c5e27a444c34b5616d6b869b0c25": {
      "model_module": "@jupyter-widgets/controls",
      "model_module_version": "2.0.0",
      "model_name": "HBoxModel",
      "state": {
       "children": [
        "IPY_MODEL_affe162fb3a94beba81fa8be1951120f",
        "IPY_MODEL_0f833f6471d344ad9cb100183559182a",
        "IPY_MODEL_658444ed433543249997e5b54ff46591"
       ],
       "layout": "IPY_MODEL_51afde547a624857871d55d2bbcc2c75"
      }
     },
     "1c4bcfb11581445a8d46ce754ec37180": {
      "model_module": "@jupyter-widgets/base",
      "model_module_version": "2.0.0",
      "model_name": "LayoutModel",
      "state": {}
     },
     "1c5a097cc6654b498bb5d102de2ff9a9": {
      "model_module": "@jupyter-widgets/controls",
      "model_module_version": "2.0.0",
      "model_name": "HBoxModel",
      "state": {
       "children": [
        "IPY_MODEL_f3448abc46c64dcc99030e01f7f7c0ad",
        "IPY_MODEL_0eb10b760dc54f0697396bb1551ea804",
        "IPY_MODEL_e6344aec656a4e2ebe984c2af55086ee"
       ],
       "layout": "IPY_MODEL_30edfff582484b6493b79792a84b5d78"
      }
     },
     "1ce6f12be1c846d6b0b2f907eb606fa8": {
      "model_module": "@jupyter-widgets/controls",
      "model_module_version": "2.0.0",
      "model_name": "HTMLModel",
      "state": {
       "layout": "IPY_MODEL_93d601e2d59e468bb0a2e59df885b6bb",
       "style": "IPY_MODEL_6022fd1d8b704696a3ea76aed0286917",
       "value": " 14/14 [00:34&lt;00:00,  2.58s/it]"
      }
     },
     "1cf7ed64d07e42f1a35ac54ff80c9321": {
      "model_module": "@jupyter-widgets/controls",
      "model_module_version": "2.0.0",
      "model_name": "HTMLStyleModel",
      "state": {
       "description_width": "",
       "font_size": null,
       "text_color": null
      }
     },
     "1d1d0262b04541a6a88b8cfc2026e946": {
      "model_module": "@jupyter-widgets/controls",
      "model_module_version": "2.0.0",
      "model_name": "HTMLStyleModel",
      "state": {
       "description_width": "",
       "font_size": null,
       "text_color": null
      }
     },
     "1d1da6d468c74317a13dc9fc56dfb053": {
      "model_module": "@jupyter-widgets/controls",
      "model_module_version": "2.0.0",
      "model_name": "HTMLStyleModel",
      "state": {
       "description_width": "",
       "font_size": null,
       "text_color": null
      }
     },
     "1d307ce0a82445ba9e28c933d9dc26c9": {
      "model_module": "@jupyter-widgets/controls",
      "model_module_version": "2.0.0",
      "model_name": "HBoxModel",
      "state": {
       "children": [
        "IPY_MODEL_ec90cfce9177485b883662ef681ad8d6",
        "IPY_MODEL_d508b30885034954883d0ecb2f25290a",
        "IPY_MODEL_7863273832e24bb2b5709eec56869f46"
       ],
       "layout": "IPY_MODEL_e704b69e2c0147598b87d70959cc1d19"
      }
     },
     "1df53411fb0547ea99a8fa02b4902311": {
      "model_module": "@jupyter-widgets/controls",
      "model_module_version": "2.0.0",
      "model_name": "HTMLStyleModel",
      "state": {
       "description_width": "",
       "font_size": null,
       "text_color": null
      }
     },
     "1ea51bc560ca4022bb1a949c79a0f734": {
      "model_module": "@jupyter-widgets/controls",
      "model_module_version": "2.0.0",
      "model_name": "HTMLModel",
      "state": {
       "layout": "IPY_MODEL_468581f8cddc4e7bb1610ac6320b66b7",
       "style": "IPY_MODEL_d13dd26971b44151b9d2858eba28a261",
       "value": "100%"
      }
     },
     "1f96bc76575143e0bbfa6f656bc14379": {
      "model_module": "@jupyter-widgets/base",
      "model_module_version": "2.0.0",
      "model_name": "LayoutModel",
      "state": {}
     },
     "1f98f10a0be946e8a023ccbd3bb84e77": {
      "model_module": "@jupyter-widgets/base",
      "model_module_version": "2.0.0",
      "model_name": "LayoutModel",
      "state": {}
     },
     "1fc2b21844534159a368b1806fac3a9b": {
      "model_module": "@jupyter-widgets/controls",
      "model_module_version": "2.0.0",
      "model_name": "DescriptionStyleModel",
      "state": {
       "description_width": ""
      }
     },
     "1fc82bd317434156a2e9298ba5e183fd": {
      "model_module": "@jupyter-widgets/controls",
      "model_module_version": "2.0.0",
      "model_name": "HTMLModel",
      "state": {
       "layout": "IPY_MODEL_cc49fe955bc9415abe5836ccaad61025",
       "style": "IPY_MODEL_ddd0a93088564db392114ce48622e704",
       "value": "100%"
      }
     },
     "1fe284f8d07f40878ff479927110d9b2": {
      "model_module": "@jupyter-widgets/controls",
      "model_module_version": "2.0.0",
      "model_name": "HBoxModel",
      "state": {
       "children": [
        "IPY_MODEL_d79d6b73af2144729bed6a955c95e6e1",
        "IPY_MODEL_c2fde99dd01245ec95f086a3473cf135",
        "IPY_MODEL_a0a6992b1429433fbbbaf3d5f05d24c3"
       ],
       "layout": "IPY_MODEL_98307e1ba8e542d28735e73168500439"
      }
     },
     "2014c622957f4172bf5538e7032073d7": {
      "model_module": "@jupyter-widgets/base",
      "model_module_version": "2.0.0",
      "model_name": "LayoutModel",
      "state": {}
     },
     "20e2e54ff7b6404a8ef36f22b44b6529": {
      "model_module": "@jupyter-widgets/controls",
      "model_module_version": "2.0.0",
      "model_name": "FloatProgressModel",
      "state": {
       "bar_style": "success",
       "layout": "IPY_MODEL_fdb9a369ccea4ed5983d9d8248c46c5d",
       "max": 14,
       "style": "IPY_MODEL_cd78b7965d4d428a8cb50a5b211e9793",
       "value": 14
      }
     },
     "2113a4d44df6462db4fa2f37d71cfcbd": {
      "model_module": "@jupyter-widgets/base",
      "model_module_version": "2.0.0",
      "model_name": "LayoutModel",
      "state": {}
     },
     "212dcdc1e2d240d883b18393d45acda8": {
      "model_module": "@jupyter-widgets/base",
      "model_module_version": "2.0.0",
      "model_name": "LayoutModel",
      "state": {}
     },
     "2170228775ec4e85803342171d2bcc44": {
      "model_module": "@jupyter-widgets/base",
      "model_module_version": "2.0.0",
      "model_name": "LayoutModel",
      "state": {}
     },
     "217746ae5f514b5cb74f459bb7394317": {
      "model_module": "@jupyter-widgets/base",
      "model_module_version": "2.0.0",
      "model_name": "LayoutModel",
      "state": {}
     },
     "219404a0aa80406fba4e1a59864e213e": {
      "model_module": "@jupyter-widgets/base",
      "model_module_version": "2.0.0",
      "model_name": "LayoutModel",
      "state": {}
     },
     "219afd487156452a86e2406576ecfcc9": {
      "model_module": "@jupyter-widgets/base",
      "model_module_version": "2.0.0",
      "model_name": "LayoutModel",
      "state": {}
     },
     "219d72dd2d2b4dd7b8bba69df5cbc177": {
      "model_module": "@jupyter-widgets/controls",
      "model_module_version": "2.0.0",
      "model_name": "FloatProgressModel",
      "state": {
       "bar_style": "success",
       "layout": "IPY_MODEL_eb54245568c3417f8c1a3e0308150b39",
       "max": 6,
       "style": "IPY_MODEL_b1ce81a067f24d3c90467c337ecb4f34",
       "value": 6
      }
     },
     "21b051ce1eb44d588eb8484bfb57c09c": {
      "model_module": "@jupyter-widgets/controls",
      "model_module_version": "2.0.0",
      "model_name": "HTMLModel",
      "state": {
       "layout": "IPY_MODEL_8b16a795483843d3b70dba6e1fd26a29",
       "style": "IPY_MODEL_845af8d2da2a4ab4ad8df8b4e2341619",
       "value": " 14/14 [00:34&lt;00:00,  2.59s/it]"
      }
     },
     "21d4e7e9c0ce4ddda97e55cf9f588e7c": {
      "model_module": "@jupyter-widgets/base",
      "model_module_version": "2.0.0",
      "model_name": "LayoutModel",
      "state": {}
     },
     "21f3def43b384e6aa18449eabe0dfc10": {
      "model_module": "@jupyter-widgets/controls",
      "model_module_version": "2.0.0",
      "model_name": "FloatProgressModel",
      "state": {
       "bar_style": "success",
       "layout": "IPY_MODEL_2ea3d3d9620148b8b3d58795d768afb2",
       "max": 6,
       "style": "IPY_MODEL_01d8f884022a47efb55c154520a685d5",
       "value": 6
      }
     },
     "227e83a28aa846ed87ea1bffc6e15c16": {
      "model_module": "@jupyter-widgets/controls",
      "model_module_version": "2.0.0",
      "model_name": "HTMLStyleModel",
      "state": {
       "description_width": "",
       "font_size": null,
       "text_color": null
      }
     },
     "2288d78992024f17b4c33d51aa323edd": {
      "model_module": "@jupyter-widgets/controls",
      "model_module_version": "2.0.0",
      "model_name": "HTMLModel",
      "state": {
       "layout": "IPY_MODEL_aaad4ca2ef0e400c861ec129402d025e",
       "style": "IPY_MODEL_cac094dfafa64d289e942e132ec9e84f",
       "value": " 6/6 [00:11&lt;00:00,  2.82s/it]"
      }
     },
     "229395b963b84118856df1a35e4fc8fe": {
      "model_module": "@jupyter-widgets/controls",
      "model_module_version": "2.0.0",
      "model_name": "HBoxModel",
      "state": {
       "children": [
        "IPY_MODEL_dcca8bf40bd64061b09a211cc68bba61",
        "IPY_MODEL_1b128390ad5d40609c6853ee0320d36b",
        "IPY_MODEL_82fb3cf99ebb4e96ac943460c9281ad7"
       ],
       "layout": "IPY_MODEL_e59fd9367547423fbe88c0a69e5b5d4f"
      }
     },
     "229cd52eb0e84464ba9215674f6cc175": {
      "model_module": "@jupyter-widgets/controls",
      "model_module_version": "2.0.0",
      "model_name": "HTMLModel",
      "state": {
       "layout": "IPY_MODEL_5cc7f457a2334e71bb5f436ae46c336e",
       "style": "IPY_MODEL_7656a75fac334758bff1db99160dd95b",
       "value": "100%"
      }
     },
     "22eb8c8a0e00490a9134f86bf95f647a": {
      "model_module": "@jupyter-widgets/controls",
      "model_module_version": "2.0.0",
      "model_name": "DescriptionStyleModel",
      "state": {
       "description_width": ""
      }
     },
     "22fd4ea1bcd34be88b6b8c7fe475ca29": {
      "model_module": "@jupyter-widgets/controls",
      "model_module_version": "2.0.0",
      "model_name": "HBoxModel",
      "state": {
       "children": [
        "IPY_MODEL_417fab544a4646ed858872a9006749d0",
        "IPY_MODEL_16fb2ba10ca54fe5b113a07e4b74a364",
        "IPY_MODEL_eba97bc2fe554e4d89a75a68452728ea"
       ],
       "layout": "IPY_MODEL_0d4cdb3348194428b360906169fcc25e"
      }
     },
     "23242f0b8c324c04b28740701db618b7": {
      "model_module": "@jupyter-widgets/controls",
      "model_module_version": "2.0.0",
      "model_name": "HBoxModel",
      "state": {
       "children": [
        "IPY_MODEL_802c5562f59f42ef96997de1b9feb3b5",
        "IPY_MODEL_5082c28037254c02a2c7b11b1fec3d24",
        "IPY_MODEL_cb08a9ff3d324eb28b1c29892c887232"
       ],
       "layout": "IPY_MODEL_01d8b4a699f146feb03b588bf69025c8"
      }
     },
     "23305649c3294c339f312c5895d8215e": {
      "model_module": "@jupyter-widgets/base",
      "model_module_version": "2.0.0",
      "model_name": "LayoutModel",
      "state": {}
     },
     "234e24831a0f4f43bc69f819aff734ef": {
      "model_module": "@jupyter-widgets/base",
      "model_module_version": "2.0.0",
      "model_name": "LayoutModel",
      "state": {}
     },
     "23d02aee6f02490688abd31c971c5a82": {
      "model_module": "@jupyter-widgets/controls",
      "model_module_version": "2.0.0",
      "model_name": "DescriptionStyleModel",
      "state": {
       "description_width": ""
      }
     },
     "23f649b8681c4860bb7c7d5a1e876cac": {
      "model_module": "@jupyter-widgets/base",
      "model_module_version": "2.0.0",
      "model_name": "LayoutModel",
      "state": {}
     },
     "23ff1d5181ff474a8548c4341dace698": {
      "model_module": "@jupyter-widgets/controls",
      "model_module_version": "2.0.0",
      "model_name": "DescriptionStyleModel",
      "state": {
       "description_width": ""
      }
     },
     "240ac9bfcfca4ee1b8552b0aa6b1c30d": {
      "model_module": "@jupyter-widgets/base",
      "model_module_version": "2.0.0",
      "model_name": "LayoutModel",
      "state": {}
     },
     "2493d03c7bd34717904cab4538dd29ad": {
      "model_module": "@jupyter-widgets/base",
      "model_module_version": "2.0.0",
      "model_name": "LayoutModel",
      "state": {}
     },
     "24aeaa95de3f4885976b8a9a38c9b3bf": {
      "model_module": "@jupyter-widgets/controls",
      "model_module_version": "2.0.0",
      "model_name": "ProgressStyleModel",
      "state": {
       "description_width": ""
      }
     },
     "2503dfb81f4847be8a2dd83ba9fce570": {
      "model_module": "@jupyter-widgets/base",
      "model_module_version": "2.0.0",
      "model_name": "LayoutModel",
      "state": {}
     },
     "2551adbdd0364fdcb7901efe8a24fbd1": {
      "model_module": "@jupyter-widgets/controls",
      "model_module_version": "2.0.0",
      "model_name": "FloatProgressModel",
      "state": {
       "bar_style": "success",
       "layout": "IPY_MODEL_a362902f497348d289d27ca0913068fe",
       "max": 3,
       "style": "IPY_MODEL_ab4c0e768492431bbb35ce04a23dce63",
       "value": 3
      }
     },
     "25604506d9dd4215b59f34d9b049de1a": {
      "model_module": "@jupyter-widgets/controls",
      "model_module_version": "2.0.0",
      "model_name": "HBoxModel",
      "state": {
       "children": [
        "IPY_MODEL_1004c413f391408aa53526d8882d9ea5",
        "IPY_MODEL_6ab2c800eaef42e4a286a0aab35ed190",
        "IPY_MODEL_e70f3c2d70b247df9fb2de2b32a22bdd"
       ],
       "layout": "IPY_MODEL_21d4e7e9c0ce4ddda97e55cf9f588e7c"
      }
     },
     "25903453397444dc8539ba4a20d941d7": {
      "model_module": "@jupyter-widgets/controls",
      "model_module_version": "2.0.0",
      "model_name": "FloatProgressModel",
      "state": {
       "bar_style": "success",
       "layout": "IPY_MODEL_bcd1686c6e77476086983a24fa87b982",
       "max": 14,
       "style": "IPY_MODEL_63496197b64c4981aa1841e5dd0ed3a2",
       "value": 14
      }
     },
     "25c6f48933ff4136bbdfb125b1cd897e": {
      "model_module": "@jupyter-widgets/controls",
      "model_module_version": "2.0.0",
      "model_name": "HTMLModel",
      "state": {
       "layout": "IPY_MODEL_cc70f9b3c01c457b99cccc2760db08c8",
       "style": "IPY_MODEL_672d456870d44b42957d9ad3669127cc",
       "value": " 3/3 [00:10&lt;00:00,  4.27s/it]"
      }
     },
     "2675acb784a64d10b3c0d15cb32666e4": {
      "model_module": "@jupyter-widgets/base",
      "model_module_version": "2.0.0",
      "model_name": "LayoutModel",
      "state": {}
     },
     "2687f4e65b9f494d85e66a18985cc115": {
      "model_module": "@jupyter-widgets/controls",
      "model_module_version": "2.0.0",
      "model_name": "HTMLModel",
      "state": {
       "layout": "IPY_MODEL_1738612afc9045d2aacc3f7bf1bf54c1",
       "style": "IPY_MODEL_d46e3a69176d4082bb5494990e3ecd88",
       "value": " 6/6 [00:08&lt;00:00,  1.97s/it]"
      }
     },
     "269217df1e414f15bbce58c8f7f3d364": {
      "model_module": "@jupyter-widgets/base",
      "model_module_version": "2.0.0",
      "model_name": "LayoutModel",
      "state": {}
     },
     "269c6b9560904cc29f2828362cebce81": {
      "model_module": "@jupyter-widgets/controls",
      "model_module_version": "2.0.0",
      "model_name": "HTMLStyleModel",
      "state": {
       "description_width": "",
       "font_size": null,
       "text_color": null
      }
     },
     "26ee41edcc1d4611b2c3bf8d590a98f1": {
      "model_module": "@jupyter-widgets/base",
      "model_module_version": "2.0.0",
      "model_name": "LayoutModel",
      "state": {}
     },
     "271558bdfe944780b3e8a65d2bfe1626": {
      "model_module": "@jupyter-widgets/base",
      "model_module_version": "2.0.0",
      "model_name": "LayoutModel",
      "state": {}
     },
     "271e20a9175e435b9e432bb49ff28515": {
      "model_module": "@jupyter-widgets/base",
      "model_module_version": "2.0.0",
      "model_name": "LayoutModel",
      "state": {}
     },
     "273b1ed998a24d33896bf669abd17f2d": {
      "model_module": "@jupyter-widgets/controls",
      "model_module_version": "2.0.0",
      "model_name": "HTMLModel",
      "state": {
       "layout": "IPY_MODEL_09ee37cbf2df41f5b293113c69bb3a24",
       "style": "IPY_MODEL_506a403f0fdc4f9f8b85aa651285d720",
       "value": " 3/3 [00:10&lt;00:00,  4.07s/it]"
      }
     },
     "274cfec487e047da9460c594076afe69": {
      "model_module": "@jupyter-widgets/controls",
      "model_module_version": "2.0.0",
      "model_name": "HTMLStyleModel",
      "state": {
       "description_width": "",
       "font_size": null,
       "text_color": null
      }
     },
     "2763bab54f6b4f9b9850c8136f67ce38": {
      "model_module": "@jupyter-widgets/controls",
      "model_module_version": "2.0.0",
      "model_name": "ProgressStyleModel",
      "state": {
       "description_width": ""
      }
     },
     "276ce3320f1349639ffd64105f12b350": {
      "model_module": "@jupyter-widgets/base",
      "model_module_version": "2.0.0",
      "model_name": "LayoutModel",
      "state": {}
     },
     "277200fb6799495b95bad3fe02217797": {
      "model_module": "@jupyter-widgets/controls",
      "model_module_version": "2.0.0",
      "model_name": "HBoxModel",
      "state": {
       "children": [
        "IPY_MODEL_4702939ba6f34c9b95242c92bc25156a",
        "IPY_MODEL_f1e99bec5c1a4eb288eb61fa64cd9703",
        "IPY_MODEL_ab8f355ae7164f8b8c9686ea6c91a7a6"
       ],
       "layout": "IPY_MODEL_54c1c14ecefb49e9b1f7fd2138320a0d"
      }
     },
     "2796d4640e4c4e929e33d1c64b9f54fc": {
      "model_module": "@jupyter-widgets/controls",
      "model_module_version": "2.0.0",
      "model_name": "HTMLModel",
      "state": {
       "layout": "IPY_MODEL_ce1f0f894a92465db9af08981e3b5c55",
       "style": "IPY_MODEL_e6601afb4f444433a8d2e37f465f45ab",
       "value": " 8/14 [00:15&lt;00:17,  2.86s/it]"
      }
     },
     "27eeaee083424c1f81fecc56dea27a6d": {
      "model_module": "@jupyter-widgets/controls",
      "model_module_version": "2.0.0",
      "model_name": "FloatProgressModel",
      "state": {
       "bar_style": "success",
       "layout": "IPY_MODEL_23f649b8681c4860bb7c7d5a1e876cac",
       "max": 14,
       "style": "IPY_MODEL_b6148f8af3974dfd862a9b5fe1ab3bd7",
       "value": 14
      }
     },
     "2820391b62434f3d8c4aaf1ce302cf30": {
      "model_module": "@jupyter-widgets/controls",
      "model_module_version": "2.0.0",
      "model_name": "HBoxModel",
      "state": {
       "children": [
        "IPY_MODEL_06e417298e2e4c93bfd44db90d47d077",
        "IPY_MODEL_16db80d7528e45a79bb7708b65544c05",
        "IPY_MODEL_b56f52d366d44191901d75a4215ee301"
       ],
       "layout": "IPY_MODEL_90220a88101d49e888b6f83bfb6df436"
      }
     },
     "287a7573648040f38d693b279d747f3b": {
      "model_module": "@jupyter-widgets/controls",
      "model_module_version": "2.0.0",
      "model_name": "DescriptionStyleModel",
      "state": {
       "description_width": ""
      }
     },
     "28d7d40964e34064a071c4f266111d5e": {
      "model_module": "@jupyter-widgets/controls",
      "model_module_version": "2.0.0",
      "model_name": "HTMLModel",
      "state": {
       "layout": "IPY_MODEL_a05d377b458949ba8d7dfb4733c297c6",
       "style": "IPY_MODEL_9f05b8a4032d4eeaa91f17c8df6043fd",
       "value": " 14/14 [00:34&lt;00:00,  2.58s/it]"
      }
     },
     "291c07312d7647979fa567eec843280e": {
      "model_module": "@jupyter-widgets/base",
      "model_module_version": "2.0.0",
      "model_name": "LayoutModel",
      "state": {}
     },
     "295a8a63e0a94d208ade3affb9d68e12": {
      "model_module": "@jupyter-widgets/controls",
      "model_module_version": "2.0.0",
      "model_name": "FloatProgressModel",
      "state": {
       "bar_style": "success",
       "layout": "IPY_MODEL_9ac45458d0f9497bac72211e8da9c1ce",
       "max": 14,
       "style": "IPY_MODEL_6ce6dc7f238243caaf36f8495409d552",
       "value": 14
      }
     },
     "298d55ec99f54dcd8e73ef8eba7e4595": {
      "model_module": "@jupyter-widgets/controls",
      "model_module_version": "2.0.0",
      "model_name": "FloatProgressModel",
      "state": {
       "bar_style": "success",
       "layout": "IPY_MODEL_3454421d51a5473faae3117d722bcde8",
       "max": 3,
       "style": "IPY_MODEL_ceb09d33dd824785acf3458f0f6f5b90",
       "value": 3
      }
     },
     "2a1b43fb3d5e41dbaad395e88d69dc17": {
      "model_module": "@jupyter-widgets/controls",
      "model_module_version": "2.0.0",
      "model_name": "DescriptionStyleModel",
      "state": {
       "description_width": ""
      }
     },
     "2a2a37aad76a438cae578d3ae288b46b": {
      "model_module": "@jupyter-widgets/base",
      "model_module_version": "2.0.0",
      "model_name": "LayoutModel",
      "state": {}
     },
     "2a462a43f7d74fce8b387d4a583712ec": {
      "model_module": "@jupyter-widgets/base",
      "model_module_version": "2.0.0",
      "model_name": "LayoutModel",
      "state": {}
     },
     "2a65240a15d4499fbd0cf942492a4711": {
      "model_module": "@jupyter-widgets/controls",
      "model_module_version": "2.0.0",
      "model_name": "HBoxModel",
      "state": {
       "children": [
        "IPY_MODEL_e2bebc0e11bb4c67b655a2bb0e52d17c",
        "IPY_MODEL_295a8a63e0a94d208ade3affb9d68e12",
        "IPY_MODEL_74b05596216a49a1b150b9be0061ffef"
       ],
       "layout": "IPY_MODEL_0264a0f5edbd4d84b646529d5900ab46"
      }
     },
     "2a75bc70851b42b69eacea7343414dbb": {
      "model_module": "@jupyter-widgets/controls",
      "model_module_version": "2.0.0",
      "model_name": "DescriptionStyleModel",
      "state": {
       "description_width": ""
      }
     },
     "2b00516e0d2f4aa38eb103470d68f748": {
      "model_module": "@jupyter-widgets/controls",
      "model_module_version": "2.0.0",
      "model_name": "HTMLModel",
      "state": {
       "layout": "IPY_MODEL_3cda17e2deb342b08a1a07c1f5b64474",
       "style": "IPY_MODEL_97d2f02d0fb04261aec409b6acb27725",
       "value": "100%"
      }
     },
     "2b06f801070a48a5bb5f39f5577cf5f1": {
      "model_module": "@jupyter-widgets/controls",
      "model_module_version": "2.0.0",
      "model_name": "HTMLModel",
      "state": {
       "layout": "IPY_MODEL_539f0d72dd3543fbad79611d9f1bd031",
       "style": "IPY_MODEL_55e7a37abac24908961c342bc93befe3",
       "value": "100%"
      }
     },
     "2bde0fcb4f0c49e49f7641beef0d42bf": {
      "model_module": "@jupyter-widgets/controls",
      "model_module_version": "2.0.0",
      "model_name": "HBoxModel",
      "state": {
       "children": [
        "IPY_MODEL_a92590bf59d342f794d3708da665facf",
        "IPY_MODEL_d828002b1a404756b8f9dbfc96b1ffc1",
        "IPY_MODEL_8f744712f1da42b693089113de819dfb"
       ],
       "layout": "IPY_MODEL_1afd9b14111e46ce980a6e0b1d6e4560"
      }
     },
     "2cede2330d884562a62166d0d62dcd9b": {
      "model_module": "@jupyter-widgets/controls",
      "model_module_version": "2.0.0",
      "model_name": "HTMLModel",
      "state": {
       "layout": "IPY_MODEL_384d6f8e187a4707b65a2681e16fe7c3",
       "style": "IPY_MODEL_009b2957b305415891bb4aed8cebb918",
       "value": "100%"
      }
     },
     "2d314896d673436ca34fb2700ce24e3f": {
      "model_module": "@jupyter-widgets/controls",
      "model_module_version": "2.0.0",
      "model_name": "ProgressStyleModel",
      "state": {
       "description_width": ""
      }
     },
     "2d3c1b2fd2cc4a93801046220e37b45b": {
      "model_module": "@jupyter-widgets/controls",
      "model_module_version": "2.0.0",
      "model_name": "HBoxModel",
      "state": {
       "children": [
        "IPY_MODEL_ff7181daebce46c8a92713b3908a3645",
        "IPY_MODEL_306500c09d4a4504b0e75f825b372fb8",
        "IPY_MODEL_32176fcf74d844e6b25ff2e5158bb5eb"
       ],
       "layout": "IPY_MODEL_801c18dea9304ecbb6bb0636069827d4"
      }
     },
     "2d42c6d71c264d4b9b14ffa02a354d67": {
      "model_module": "@jupyter-widgets/base",
      "model_module_version": "2.0.0",
      "model_name": "LayoutModel",
      "state": {}
     },
     "2dadb4f5dece4bcc8627747de19f2efb": {
      "model_module": "@jupyter-widgets/controls",
      "model_module_version": "2.0.0",
      "model_name": "ProgressStyleModel",
      "state": {
       "description_width": ""
      }
     },
     "2e67d915b16444b9b3a482f2cd5cc527": {
      "model_module": "@jupyter-widgets/base",
      "model_module_version": "2.0.0",
      "model_name": "LayoutModel",
      "state": {}
     },
     "2ea3d3d9620148b8b3d58795d768afb2": {
      "model_module": "@jupyter-widgets/base",
      "model_module_version": "2.0.0",
      "model_name": "LayoutModel",
      "state": {}
     },
     "2efac13743ad48a393316dbb618326c8": {
      "model_module": "@jupyter-widgets/base",
      "model_module_version": "2.0.0",
      "model_name": "LayoutModel",
      "state": {}
     },
     "2f5c5af2a7194cbe9dede0e4b86308d8": {
      "model_module": "@jupyter-widgets/base",
      "model_module_version": "2.0.0",
      "model_name": "LayoutModel",
      "state": {}
     },
     "2feda786b216462abb1de9b6c3309cd7": {
      "model_module": "@jupyter-widgets/controls",
      "model_module_version": "2.0.0",
      "model_name": "HBoxModel",
      "state": {
       "children": [
        "IPY_MODEL_e98c8a8741464f7d89d4b1b0c4ba928e",
        "IPY_MODEL_71c16ffe2b024132b2cf659c64ff8904",
        "IPY_MODEL_cbe0ed1b6adb4f9ab4b90bafbb80e6c2"
       ],
       "layout": "IPY_MODEL_3611cc15566d491ea3d1ecf6979ec2fc"
      }
     },
     "3007aa1f6ee741e29dae0f62533f5049": {
      "model_module": "@jupyter-widgets/controls",
      "model_module_version": "2.0.0",
      "model_name": "DescriptionStyleModel",
      "state": {
       "description_width": ""
      }
     },
     "305aca9f3f244ad0b9b26ed91ec3af33": {
      "model_module": "@jupyter-widgets/base",
      "model_module_version": "2.0.0",
      "model_name": "LayoutModel",
      "state": {}
     },
     "306500c09d4a4504b0e75f825b372fb8": {
      "model_module": "@jupyter-widgets/controls",
      "model_module_version": "2.0.0",
      "model_name": "FloatProgressModel",
      "state": {
       "bar_style": "success",
       "layout": "IPY_MODEL_4627a97cda92444ba7641b387f1ae6bc",
       "max": 8,
       "style": "IPY_MODEL_bf2f79d4b8554fe0a9096bcceea7454d",
       "value": 8
      }
     },
     "30713ba3edd24ada839b9c13e1c290ff": {
      "model_module": "@jupyter-widgets/controls",
      "model_module_version": "2.0.0",
      "model_name": "HBoxModel",
      "state": {
       "children": [
        "IPY_MODEL_320e498a8ce44472bed31c2cb114f16d",
        "IPY_MODEL_3b059e86837346c498a31efea6bf754f",
        "IPY_MODEL_ba7005dc539b433c853dc0d5edf5deb3"
       ],
       "layout": "IPY_MODEL_f8f2b91fd5f749c1a9005b5678f313bc"
      }
     },
     "3088d09c6b51431da8feba468e073631": {
      "model_module": "@jupyter-widgets/base",
      "model_module_version": "2.0.0",
      "model_name": "LayoutModel",
      "state": {}
     },
     "3095d5471968403f8ffde3590444ba81": {
      "model_module": "@jupyter-widgets/base",
      "model_module_version": "2.0.0",
      "model_name": "LayoutModel",
      "state": {}
     },
     "30abf8ccf99543268d1324b1c5b5ed78": {
      "model_module": "@jupyter-widgets/base",
      "model_module_version": "2.0.0",
      "model_name": "LayoutModel",
      "state": {}
     },
     "30ea388980cf4a02882332baed3e3218": {
      "model_module": "@jupyter-widgets/controls",
      "model_module_version": "2.0.0",
      "model_name": "HBoxModel",
      "state": {
       "children": [
        "IPY_MODEL_adeb3d409ce9403b90fbd2fabd5b7981",
        "IPY_MODEL_0b1b5e2e830e40bb969f2adc1614aea5",
        "IPY_MODEL_9bd67eb962624cffae4c442e70298f11"
       ],
       "layout": "IPY_MODEL_2f5c5af2a7194cbe9dede0e4b86308d8"
      }
     },
     "30ebffb12b0f4b59abeb9b83b0a6fbdc": {
      "model_module": "@jupyter-widgets/base",
      "model_module_version": "2.0.0",
      "model_name": "LayoutModel",
      "state": {}
     },
     "30edfff582484b6493b79792a84b5d78": {
      "model_module": "@jupyter-widgets/base",
      "model_module_version": "2.0.0",
      "model_name": "LayoutModel",
      "state": {}
     },
     "310227bd46d14740a6e6c01f119281fe": {
      "model_module": "@jupyter-widgets/base",
      "model_module_version": "2.0.0",
      "model_name": "LayoutModel",
      "state": {}
     },
     "313184218519478e81dcb94e3da68a3e": {
      "model_module": "@jupyter-widgets/base",
      "model_module_version": "2.0.0",
      "model_name": "LayoutModel",
      "state": {}
     },
     "317058f3878e4108b4079aa84dd60582": {
      "model_module": "@jupyter-widgets/controls",
      "model_module_version": "2.0.0",
      "model_name": "HBoxModel",
      "state": {
       "children": [
        "IPY_MODEL_5d095f99d4c945618fe22682b2919f7f",
        "IPY_MODEL_b42c1ce5b32b407192f3a3d0cc1e8d5c",
        "IPY_MODEL_c699b778decd49ad962699ab3183abb0"
       ],
       "layout": "IPY_MODEL_4936dc8dbc6d405c956ddce5f6a5221e"
      }
     },
     "3178ada1cf22496f9e0de37eba7c5d31": {
      "model_module": "@jupyter-widgets/controls",
      "model_module_version": "2.0.0",
      "model_name": "HTMLModel",
      "state": {
       "layout": "IPY_MODEL_0a8273abf4b04fcfa266ece21ec57dc2",
       "style": "IPY_MODEL_eb0aa6c7a1894f94bcde787892e4921b",
       "value": "100%"
      }
     },
     "317d72de13f547c78f6388a685253365": {
      "model_module": "@jupyter-widgets/controls",
      "model_module_version": "2.0.0",
      "model_name": "DescriptionStyleModel",
      "state": {
       "description_width": ""
      }
     },
     "317facdbf72e446fb5da04ed0647fdad": {
      "model_module": "@jupyter-widgets/base",
      "model_module_version": "2.0.0",
      "model_name": "LayoutModel",
      "state": {}
     },
     "31ad866963ca421385351d2b52b2465d": {
      "model_module": "@jupyter-widgets/controls",
      "model_module_version": "2.0.0",
      "model_name": "HTMLModel",
      "state": {
       "layout": "IPY_MODEL_4b8fe3f450344df59adf09dfde46461c",
       "style": "IPY_MODEL_f02c4f5a3cc94e6a894dfcdd90c4a76c",
       "value": "100%"
      }
     },
     "31b974d56faf4275a2224373ca792f0c": {
      "model_module": "@jupyter-widgets/controls",
      "model_module_version": "2.0.0",
      "model_name": "HTMLStyleModel",
      "state": {
       "description_width": "",
       "font_size": null,
       "text_color": null
      }
     },
     "320e498a8ce44472bed31c2cb114f16d": {
      "model_module": "@jupyter-widgets/controls",
      "model_module_version": "2.0.0",
      "model_name": "HTMLModel",
      "state": {
       "layout": "IPY_MODEL_7e6cc6a679764955ae923d5a7ffce52d",
       "style": "IPY_MODEL_b24610b68ced4adca0b9b6b56cd9fbbc",
       "value": "100%"
      }
     },
     "32176fcf74d844e6b25ff2e5158bb5eb": {
      "model_module": "@jupyter-widgets/controls",
      "model_module_version": "2.0.0",
      "model_name": "HTMLModel",
      "state": {
       "layout": "IPY_MODEL_d1d58a82f6344ab2a101af2e41334a21",
       "style": "IPY_MODEL_af321bf03d344ab5bbf27ecfd4df46e1",
       "value": " 8/8 [00:31&lt;00:00,  4.88s/it]"
      }
     },
     "323409be01bc4fac9783bd8238d5b4de": {
      "model_module": "@jupyter-widgets/base",
      "model_module_version": "2.0.0",
      "model_name": "LayoutModel",
      "state": {}
     },
     "3282bc86098446bebd1e8f06a0a2af04": {
      "model_module": "@jupyter-widgets/controls",
      "model_module_version": "2.0.0",
      "model_name": "DescriptionStyleModel",
      "state": {
       "description_width": ""
      }
     },
     "32e522644e3548eeb2a61abd4431c1dc": {
      "model_module": "@jupyter-widgets/base",
      "model_module_version": "2.0.0",
      "model_name": "LayoutModel",
      "state": {}
     },
     "3304e1dd48ff49ecb920ff68b7dbacaa": {
      "model_module": "@jupyter-widgets/base",
      "model_module_version": "2.0.0",
      "model_name": "LayoutModel",
      "state": {}
     },
     "332676bbba814a449eedc22d227442ce": {
      "model_module": "@jupyter-widgets/controls",
      "model_module_version": "2.0.0",
      "model_name": "ProgressStyleModel",
      "state": {
       "description_width": ""
      }
     },
     "332e05a71fd2414fab6ab38afc22187c": {
      "model_module": "@jupyter-widgets/controls",
      "model_module_version": "2.0.0",
      "model_name": "HTMLModel",
      "state": {
       "layout": "IPY_MODEL_58e730ffdfd4482091cdaf8077d0cb8d",
       "style": "IPY_MODEL_85d9ce7fbbea4356a2844cb8e9bd2564",
       "value": "100%"
      }
     },
     "334435f8ee8b43159cafd77d58d41c79": {
      "model_module": "@jupyter-widgets/controls",
      "model_module_version": "2.0.0",
      "model_name": "ProgressStyleModel",
      "state": {
       "description_width": ""
      }
     },
     "334b08b1d51a4a27ba72938258be0194": {
      "model_module": "@jupyter-widgets/controls",
      "model_module_version": "2.0.0",
      "model_name": "HTMLStyleModel",
      "state": {
       "description_width": "",
       "font_size": null,
       "text_color": null
      }
     },
     "335359af048044b68a622eeed260338f": {
      "model_module": "@jupyter-widgets/controls",
      "model_module_version": "2.0.0",
      "model_name": "HTMLModel",
      "state": {
       "layout": "IPY_MODEL_caae53edbd58462cbc39966b1649dff7",
       "style": "IPY_MODEL_aa3734b8439c46588fafe5f7b191bb02",
       "value": " 57%"
      }
     },
     "335ac4086e8e40ea906ff302e06b35ec": {
      "model_module": "@jupyter-widgets/base",
      "model_module_version": "2.0.0",
      "model_name": "LayoutModel",
      "state": {}
     },
     "33e227418c11451eaa71da98a73824de": {
      "model_module": "@jupyter-widgets/base",
      "model_module_version": "2.0.0",
      "model_name": "LayoutModel",
      "state": {}
     },
     "3417b3ebb03f4797818201cd315cc5d6": {
      "model_module": "@jupyter-widgets/controls",
      "model_module_version": "2.0.0",
      "model_name": "HTMLModel",
      "state": {
       "layout": "IPY_MODEL_625a723425fa4d9990a4c0a5613fc01c",
       "style": "IPY_MODEL_e9851f713d7243c19f16d596d8687237",
       "value": "100%"
      }
     },
     "341a7cfa9b9240699db09f61bf95cb69": {
      "model_module": "@jupyter-widgets/controls",
      "model_module_version": "2.0.0",
      "model_name": "FloatProgressModel",
      "state": {
       "bar_style": "success",
       "layout": "IPY_MODEL_47338d97ff134b4ba576a42cb2a64c8d",
       "max": 3,
       "style": "IPY_MODEL_e1c181b12aa041edae8c0265a09202d8",
       "value": 3
      }
     },
     "3454421d51a5473faae3117d722bcde8": {
      "model_module": "@jupyter-widgets/base",
      "model_module_version": "2.0.0",
      "model_name": "LayoutModel",
      "state": {}
     },
     "34606ce89b63484aad57b4a2d451950c": {
      "model_module": "@jupyter-widgets/controls",
      "model_module_version": "2.0.0",
      "model_name": "HTMLModel",
      "state": {
       "layout": "IPY_MODEL_49c8c6d9bde6402bb4136d37f94c0fee",
       "style": "IPY_MODEL_c25231556e594901b84222ec98cfa76c",
       "value": "100%"
      }
     },
     "348a6bbab1df499393ae546399d44ddd": {
      "model_module": "@jupyter-widgets/controls",
      "model_module_version": "2.0.0",
      "model_name": "FloatProgressModel",
      "state": {
       "bar_style": "success",
       "layout": "IPY_MODEL_10ea0838335d4ae1bb579ef325c49f1d",
       "max": 6,
       "style": "IPY_MODEL_12376590b1cc4543ba04cb2c3624454c",
       "value": 6
      }
     },
     "354441ea960046e78181c0039137b821": {
      "model_module": "@jupyter-widgets/base",
      "model_module_version": "2.0.0",
      "model_name": "LayoutModel",
      "state": {}
     },
     "35a3c9c7f0a84db7b11166c968c8e8c5": {
      "model_module": "@jupyter-widgets/base",
      "model_module_version": "2.0.0",
      "model_name": "LayoutModel",
      "state": {}
     },
     "3611cc15566d491ea3d1ecf6979ec2fc": {
      "model_module": "@jupyter-widgets/base",
      "model_module_version": "2.0.0",
      "model_name": "LayoutModel",
      "state": {}
     },
     "361f76237aa24315b59c5ca16a22a090": {
      "model_module": "@jupyter-widgets/controls",
      "model_module_version": "2.0.0",
      "model_name": "HTMLModel",
      "state": {
       "layout": "IPY_MODEL_ce39bf113fa24c5a9c3d66bf8827fbe9",
       "style": "IPY_MODEL_cd5ec6a0899a4ec3bf44ab5113ec9831",
       "value": " 6/6 [00:11&lt;00:00,  2.81s/it]"
      }
     },
     "36b244b936554e89b66a62ccb92cddff": {
      "model_module": "@jupyter-widgets/controls",
      "model_module_version": "2.0.0",
      "model_name": "HTMLModel",
      "state": {
       "layout": "IPY_MODEL_ee859f8513d14fd2a184aee7c23944ab",
       "style": "IPY_MODEL_e3bb59a05fb8415c83eb1f0ab2bfbf5f",
       "value": "100%"
      }
     },
     "376f7f735cd6494b93669863dd2219d1": {
      "model_module": "@jupyter-widgets/controls",
      "model_module_version": "2.0.0",
      "model_name": "ProgressStyleModel",
      "state": {
       "description_width": ""
      }
     },
     "384d6f8e187a4707b65a2681e16fe7c3": {
      "model_module": "@jupyter-widgets/base",
      "model_module_version": "2.0.0",
      "model_name": "LayoutModel",
      "state": {}
     },
     "385052d0c22a494c95a54f3ec5ca9ea2": {
      "model_module": "@jupyter-widgets/base",
      "model_module_version": "2.0.0",
      "model_name": "LayoutModel",
      "state": {}
     },
     "38b365b1201f4397953d51a62aaf4e80": {
      "model_module": "@jupyter-widgets/controls",
      "model_module_version": "2.0.0",
      "model_name": "HTMLStyleModel",
      "state": {
       "description_width": "",
       "font_size": null,
       "text_color": null
      }
     },
     "38b3f926069543699e7356d6fb50128f": {
      "model_module": "@jupyter-widgets/base",
      "model_module_version": "2.0.0",
      "model_name": "LayoutModel",
      "state": {}
     },
     "394586c584cb4ba4a4e8e82ff2f12879": {
      "model_module": "@jupyter-widgets/controls",
      "model_module_version": "2.0.0",
      "model_name": "HTMLModel",
      "state": {
       "layout": "IPY_MODEL_03cf710d075a49579d410930b6fbacf4",
       "style": "IPY_MODEL_1d1d0262b04541a6a88b8cfc2026e946",
       "value": "100%"
      }
     },
     "39492984205c40f9a2c80345c5accd4d": {
      "model_module": "@jupyter-widgets/base",
      "model_module_version": "2.0.0",
      "model_name": "LayoutModel",
      "state": {}
     },
     "3979d488f5ca4bb7b9752f190f516e49": {
      "model_module": "@jupyter-widgets/base",
      "model_module_version": "2.0.0",
      "model_name": "LayoutModel",
      "state": {}
     },
     "39954bc2a54d43c78994d415f66343e6": {
      "model_module": "@jupyter-widgets/base",
      "model_module_version": "2.0.0",
      "model_name": "LayoutModel",
      "state": {}
     },
     "39ba132769b346d3807f8ffdb35ef4ef": {
      "model_module": "@jupyter-widgets/controls",
      "model_module_version": "2.0.0",
      "model_name": "HTMLModel",
      "state": {
       "layout": "IPY_MODEL_e67dee11d433417985572ac96d041333",
       "style": "IPY_MODEL_e11500d7c68642fbb6c1587fa476ab91",
       "value": "100%"
      }
     },
     "3a71f9045ef64b82ae273c50b5be2d91": {
      "model_module": "@jupyter-widgets/controls",
      "model_module_version": "2.0.0",
      "model_name": "DescriptionStyleModel",
      "state": {
       "description_width": ""
      }
     },
     "3b059e86837346c498a31efea6bf754f": {
      "model_module": "@jupyter-widgets/controls",
      "model_module_version": "2.0.0",
      "model_name": "FloatProgressModel",
      "state": {
       "bar_style": "success",
       "layout": "IPY_MODEL_420b0dcef4f141b690b67d4328cbe628",
       "max": 6,
       "style": "IPY_MODEL_0955482db7ea401daacc4b71171b4096",
       "value": 6
      }
     },
     "3b0a2073456e43cbbc07113f5a06cd57": {
      "model_module": "@jupyter-widgets/base",
      "model_module_version": "2.0.0",
      "model_name": "LayoutModel",
      "state": {}
     },
     "3bf48ed08eed4ac5a645a04c7acea2f0": {
      "model_module": "@jupyter-widgets/controls",
      "model_module_version": "2.0.0",
      "model_name": "ProgressStyleModel",
      "state": {
       "description_width": ""
      }
     },
     "3c3b7115d2d34299bac7a54a435f0f3c": {
      "model_module": "@jupyter-widgets/base",
      "model_module_version": "2.0.0",
      "model_name": "LayoutModel",
      "state": {}
     },
     "3cc770638fe64170b64f98ec87ea9bbb": {
      "model_module": "@jupyter-widgets/controls",
      "model_module_version": "2.0.0",
      "model_name": "HTMLStyleModel",
      "state": {
       "description_width": "",
       "font_size": null,
       "text_color": null
      }
     },
     "3cc8526128264bb280238503853a9de7": {
      "model_module": "@jupyter-widgets/controls",
      "model_module_version": "2.0.0",
      "model_name": "DescriptionStyleModel",
      "state": {
       "description_width": ""
      }
     },
     "3cda17e2deb342b08a1a07c1f5b64474": {
      "model_module": "@jupyter-widgets/base",
      "model_module_version": "2.0.0",
      "model_name": "LayoutModel",
      "state": {}
     },
     "3d11387ee5bf45a7841f88bcba010856": {
      "model_module": "@jupyter-widgets/controls",
      "model_module_version": "2.0.0",
      "model_name": "FloatProgressModel",
      "state": {
       "bar_style": "success",
       "layout": "IPY_MODEL_7a28907fd43d4e51b721aa9335b3ddd1",
       "max": 6,
       "style": "IPY_MODEL_4f1b62d56e4841a0b8a437b1e7082159",
       "value": 6
      }
     },
     "3d166a7aee6444dbaa8ad4fbe9667ab8": {
      "model_module": "@jupyter-widgets/controls",
      "model_module_version": "2.0.0",
      "model_name": "FloatProgressModel",
      "state": {
       "bar_style": "success",
       "layout": "IPY_MODEL_30abf8ccf99543268d1324b1c5b5ed78",
       "max": 3,
       "style": "IPY_MODEL_2763bab54f6b4f9b9850c8136f67ce38",
       "value": 3
      }
     },
     "3d1cac7f5ee04ba786173b125cae00a4": {
      "model_module": "@jupyter-widgets/base",
      "model_module_version": "2.0.0",
      "model_name": "LayoutModel",
      "state": {}
     },
     "3d47e1796585418ca1b913a20708cefa": {
      "model_module": "@jupyter-widgets/controls",
      "model_module_version": "2.0.0",
      "model_name": "ProgressStyleModel",
      "state": {
       "description_width": ""
      }
     },
     "3d636d403f39459285ec539924773592": {
      "model_module": "@jupyter-widgets/controls",
      "model_module_version": "2.0.0",
      "model_name": "HBoxModel",
      "state": {
       "children": [
        "IPY_MODEL_31ad866963ca421385351d2b52b2465d",
        "IPY_MODEL_d7d389b119e943efb26c211533ca5275",
        "IPY_MODEL_4b6bce95eb034f8fa39251884eef9197"
       ],
       "layout": "IPY_MODEL_d790f3b779934eee8348804dd22ba3c1"
      }
     },
     "3d9c0e4cf5424a148ed3f6045f692b24": {
      "model_module": "@jupyter-widgets/controls",
      "model_module_version": "2.0.0",
      "model_name": "HTMLModel",
      "state": {
       "layout": "IPY_MODEL_ae857c0ea2034768aaa19e883a3f5fae",
       "style": "IPY_MODEL_461586af515a4296b87a80fa580a2f99",
       "value": "100%"
      }
     },
     "3da353bac79d453282b17d5e84055538": {
      "model_module": "@jupyter-widgets/base",
      "model_module_version": "2.0.0",
      "model_name": "LayoutModel",
      "state": {}
     },
     "3ddf5925f06b4d429e4f92bd152b3bec": {
      "model_module": "@jupyter-widgets/controls",
      "model_module_version": "2.0.0",
      "model_name": "HTMLModel",
      "state": {
       "layout": "IPY_MODEL_3f5f678c463f4cde99c45b47248d772d",
       "style": "IPY_MODEL_d7436bd261a3403b974de6b6da39f46a",
       "value": "100%"
      }
     },
     "3e038dd87e8e4559b113c386a0626299": {
      "model_module": "@jupyter-widgets/base",
      "model_module_version": "2.0.0",
      "model_name": "LayoutModel",
      "state": {}
     },
     "3e0b8257b09045b9bb0d57dfa5fc8945": {
      "model_module": "@jupyter-widgets/controls",
      "model_module_version": "2.0.0",
      "model_name": "HTMLModel",
      "state": {
       "layout": "IPY_MODEL_ff6c51d38ade449d9351b3aa712bc22e",
       "style": "IPY_MODEL_3007aa1f6ee741e29dae0f62533f5049",
       "value": "100%"
      }
     },
     "3e19c07dc568400ab3ee08655136390e": {
      "model_module": "@jupyter-widgets/controls",
      "model_module_version": "2.0.0",
      "model_name": "HBoxModel",
      "state": {
       "children": [
        "IPY_MODEL_4a2153b7870843a388965c1d13988aa1",
        "IPY_MODEL_5e4ab518bc7f4437b2e0d4d180d3eb3d",
        "IPY_MODEL_f5b2aff67783436c98d18958c3462638"
       ],
       "layout": "IPY_MODEL_bd439efb587f416c88473e2207f1de00"
      }
     },
     "3e39b41de3b441b9bf4aca91849f83ba": {
      "model_module": "@jupyter-widgets/controls",
      "model_module_version": "2.0.0",
      "model_name": "HTMLModel",
      "state": {
       "layout": "IPY_MODEL_4479826179dd4a00a99758a09b765c55",
       "style": "IPY_MODEL_b9ac73cbe2ab47b6a925b4af56855006",
       "value": " 3/3 [00:10&lt;00:00,  4.21s/it]"
      }
     },
     "3e41b6f6cbc4447a8970ae9f5bb50caf": {
      "model_module": "@jupyter-widgets/controls",
      "model_module_version": "2.0.0",
      "model_name": "ProgressStyleModel",
      "state": {
       "description_width": ""
      }
     },
     "3e57f777247b4598b82b5d44f6a95f1f": {
      "model_module": "@jupyter-widgets/controls",
      "model_module_version": "2.0.0",
      "model_name": "FloatProgressModel",
      "state": {
       "bar_style": "danger",
       "layout": "IPY_MODEL_c8a1210993ec476fbde009309209fc35",
       "max": 6,
       "style": "IPY_MODEL_f8689e845c5447c398f87941c18b50cf"
      }
     },
     "3e652183e9194bbeb3771a9fb7244611": {
      "model_module": "@jupyter-widgets/base",
      "model_module_version": "2.0.0",
      "model_name": "LayoutModel",
      "state": {}
     },
     "3ed6c93787754b44a7cee52d4c2da14b": {
      "model_module": "@jupyter-widgets/controls",
      "model_module_version": "2.0.0",
      "model_name": "HBoxModel",
      "state": {
       "children": [
        "IPY_MODEL_ca08d7ee14214e2ebed567205b819df1",
        "IPY_MODEL_631932574a4f478698da5bfd889c15f2",
        "IPY_MODEL_273b1ed998a24d33896bf669abd17f2d"
       ],
       "layout": "IPY_MODEL_b5fb0353521943fcb24fee15656f0772"
      }
     },
     "3f0ca1a537944eababed72bd0d0b4031": {
      "model_module": "@jupyter-widgets/controls",
      "model_module_version": "2.0.0",
      "model_name": "DescriptionStyleModel",
      "state": {
       "description_width": ""
      }
     },
     "3f1e1583b7cc4b0d8c5bcff3dfaae02c": {
      "model_module": "@jupyter-widgets/base",
      "model_module_version": "2.0.0",
      "model_name": "LayoutModel",
      "state": {}
     },
     "3f5f678c463f4cde99c45b47248d772d": {
      "model_module": "@jupyter-widgets/base",
      "model_module_version": "2.0.0",
      "model_name": "LayoutModel",
      "state": {}
     },
     "3f5fc16ddecb4154990b5e1d937d9c61": {
      "model_module": "@jupyter-widgets/controls",
      "model_module_version": "2.0.0",
      "model_name": "HTMLStyleModel",
      "state": {
       "description_width": "",
       "font_size": null,
       "text_color": null
      }
     },
     "3f64a682d5ca417bb12d96354fe97ee4": {
      "model_module": "@jupyter-widgets/controls",
      "model_module_version": "2.0.0",
      "model_name": "DescriptionStyleModel",
      "state": {
       "description_width": ""
      }
     },
     "3f789c27308447d6b763ce0d90eb3663": {
      "model_module": "@jupyter-widgets/base",
      "model_module_version": "2.0.0",
      "model_name": "LayoutModel",
      "state": {}
     },
     "3f85e0c67a0d4d7cb0b7456565c6674c": {
      "model_module": "@jupyter-widgets/controls",
      "model_module_version": "2.0.0",
      "model_name": "HTMLModel",
      "state": {
       "layout": "IPY_MODEL_0ae180ce7c094699b73877331aa776d5",
       "style": "IPY_MODEL_7ac288d49970411bbc6f9fd4c48b352e",
       "value": " 6/6 [00:08&lt;00:00,  1.96s/it]"
      }
     },
     "3fddd002da7649749b34a9ec104055f6": {
      "model_module": "@jupyter-widgets/controls",
      "model_module_version": "2.0.0",
      "model_name": "HBoxModel",
      "state": {
       "children": [
        "IPY_MODEL_70960292e2904c71aaf0829c5276ff22",
        "IPY_MODEL_b959d2c248eb480db8aa79fc8a5cb534",
        "IPY_MODEL_687f590cf40747caabe161fa9d4c56bc"
       ],
       "layout": "IPY_MODEL_850b5faee343454caff7bcb954c1b297"
      }
     },
     "40ad493a779948fb877b8f1efbeb96ff": {
      "model_module": "@jupyter-widgets/controls",
      "model_module_version": "2.0.0",
      "model_name": "HTMLModel",
      "state": {
       "layout": "IPY_MODEL_d198ef45d5a04f10855f3477e5f4f784",
       "style": "IPY_MODEL_4d050a4d6d284e5fa00be4140da9ca05",
       "value": "100%"
      }
     },
     "4141feb5c5b04f67b14d782916cf2a43": {
      "model_module": "@jupyter-widgets/controls",
      "model_module_version": "2.0.0",
      "model_name": "HTMLStyleModel",
      "state": {
       "description_width": "",
       "font_size": null,
       "text_color": null
      }
     },
     "415a0ab04e254c019410b5f8792449de": {
      "model_module": "@jupyter-widgets/base",
      "model_module_version": "2.0.0",
      "model_name": "LayoutModel",
      "state": {}
     },
     "415ded97bd634a94aa9493edee1aef5e": {
      "model_module": "@jupyter-widgets/base",
      "model_module_version": "2.0.0",
      "model_name": "LayoutModel",
      "state": {}
     },
     "416740e46d6445bdab71fba20bb12459": {
      "model_module": "@jupyter-widgets/controls",
      "model_module_version": "2.0.0",
      "model_name": "ProgressStyleModel",
      "state": {
       "description_width": ""
      }
     },
     "417fab544a4646ed858872a9006749d0": {
      "model_module": "@jupyter-widgets/controls",
      "model_module_version": "2.0.0",
      "model_name": "HTMLModel",
      "state": {
       "layout": "IPY_MODEL_58366bed42f541dfadf9b3b57d005ecc",
       "style": "IPY_MODEL_a18db3fb7d924aaf9f82396754c998e8",
       "value": "100%"
      }
     },
     "41d2351da9f445548ea422ffb7bd70b8": {
      "model_module": "@jupyter-widgets/controls",
      "model_module_version": "2.0.0",
      "model_name": "ProgressStyleModel",
      "state": {
       "description_width": ""
      }
     },
     "42084ebcfb5c4a14bb1a8dccb70c02e7": {
      "model_module": "@jupyter-widgets/base",
      "model_module_version": "2.0.0",
      "model_name": "LayoutModel",
      "state": {}
     },
     "420b0dcef4f141b690b67d4328cbe628": {
      "model_module": "@jupyter-widgets/base",
      "model_module_version": "2.0.0",
      "model_name": "LayoutModel",
      "state": {}
     },
     "423dea1c8eb945b6a7163ee3148987c8": {
      "model_module": "@jupyter-widgets/controls",
      "model_module_version": "2.0.0",
      "model_name": "HBoxModel",
      "state": {
       "children": [
        "IPY_MODEL_394586c584cb4ba4a4e8e82ff2f12879",
        "IPY_MODEL_21f3def43b384e6aa18449eabe0dfc10",
        "IPY_MODEL_e532c67f1c5a459dbaf78b5d1c681376"
       ],
       "layout": "IPY_MODEL_633e8f4668c54e8796993e023cf93211"
      }
     },
     "4249d3d2ad154f738789fb624a8e0867": {
      "model_module": "@jupyter-widgets/base",
      "model_module_version": "2.0.0",
      "model_name": "LayoutModel",
      "state": {}
     },
     "42532cf335f84e91bc184fa3de80d781": {
      "model_module": "@jupyter-widgets/controls",
      "model_module_version": "2.0.0",
      "model_name": "HBoxModel",
      "state": {
       "children": [
        "IPY_MODEL_332e05a71fd2414fab6ab38afc22187c",
        "IPY_MODEL_799c2ce912b542fe9177159be2e714af",
        "IPY_MODEL_96b460c37817428197afea818ff1e4a5"
       ],
       "layout": "IPY_MODEL_313184218519478e81dcb94e3da68a3e"
      }
     },
     "42645fcaf4c64cf68824d93759c75bc8": {
      "model_module": "@jupyter-widgets/controls",
      "model_module_version": "2.0.0",
      "model_name": "HTMLModel",
      "state": {
       "layout": "IPY_MODEL_6947ec67f5c2497fa581f2f98be5d5b6",
       "style": "IPY_MODEL_d463b721d2be4341b9411cf03bac5304",
       "value": "100%"
      }
     },
     "426b1e6d2eb9431a90d9e84453cb2481": {
      "model_module": "@jupyter-widgets/base",
      "model_module_version": "2.0.0",
      "model_name": "LayoutModel",
      "state": {}
     },
     "430fec0f20bc4e7ebe830021f63dd731": {
      "model_module": "@jupyter-widgets/controls",
      "model_module_version": "2.0.0",
      "model_name": "FloatProgressModel",
      "state": {
       "bar_style": "success",
       "layout": "IPY_MODEL_8c9fb845d586409ebe1a3b099073ed87",
       "max": 3,
       "style": "IPY_MODEL_9853c5d67f5f48bb9813db5ee85adebb",
       "value": 3
      }
     },
     "4311cd0e553c47d9b70df4a18569c812": {
      "model_module": "@jupyter-widgets/base",
      "model_module_version": "2.0.0",
      "model_name": "LayoutModel",
      "state": {}
     },
     "4324a89963364b5987259e4f966771c2": {
      "model_module": "@jupyter-widgets/controls",
      "model_module_version": "2.0.0",
      "model_name": "HBoxModel",
      "state": {
       "children": [
        "IPY_MODEL_783ab5f1eaf04f2e9109c2425d8d2ce7",
        "IPY_MODEL_fdad8f8a394b4897a51e1509b9cafa80",
        "IPY_MODEL_2288d78992024f17b4c33d51aa323edd"
       ],
       "layout": "IPY_MODEL_e7c676f5f32c47ba9d376ed1e98d2579"
      }
     },
     "437853bb71fc48718a27425bc6fcd9c5": {
      "model_module": "@jupyter-widgets/controls",
      "model_module_version": "2.0.0",
      "model_name": "DescriptionStyleModel",
      "state": {
       "description_width": ""
      }
     },
     "43813cdb3cc948f49df4d4f3c7bbca4d": {
      "model_module": "@jupyter-widgets/controls",
      "model_module_version": "2.0.0",
      "model_name": "DescriptionStyleModel",
      "state": {
       "description_width": ""
      }
     },
     "4388f670ebb044a3a9838ebdc4c2a587": {
      "model_module": "@jupyter-widgets/controls",
      "model_module_version": "2.0.0",
      "model_name": "FloatProgressModel",
      "state": {
       "bar_style": "success",
       "layout": "IPY_MODEL_426b1e6d2eb9431a90d9e84453cb2481",
       "max": 8,
       "style": "IPY_MODEL_de728bf9065147a785cfed2cb35fefdb",
       "value": 8
      }
     },
     "4397d05cf65a4a3098f3fbc65ec9cf13": {
      "model_module": "@jupyter-widgets/controls",
      "model_module_version": "2.0.0",
      "model_name": "DescriptionStyleModel",
      "state": {
       "description_width": ""
      }
     },
     "43b0db65a5c244058d984db9272cbdbd": {
      "model_module": "@jupyter-widgets/controls",
      "model_module_version": "2.0.0",
      "model_name": "DescriptionStyleModel",
      "state": {
       "description_width": ""
      }
     },
     "43ea1b3882bd41068924670970a9c5e8": {
      "model_module": "@jupyter-widgets/controls",
      "model_module_version": "2.0.0",
      "model_name": "HTMLModel",
      "state": {
       "layout": "IPY_MODEL_1c4bcfb11581445a8d46ce754ec37180",
       "style": "IPY_MODEL_f1cfc5bb0898456ca8f5c538a609a70f",
       "value": "100%"
      }
     },
     "4423c92e6ab94b46b6f89bde9dddf3a8": {
      "model_module": "@jupyter-widgets/controls",
      "model_module_version": "2.0.0",
      "model_name": "DescriptionStyleModel",
      "state": {
       "description_width": ""
      }
     },
     "4479826179dd4a00a99758a09b765c55": {
      "model_module": "@jupyter-widgets/base",
      "model_module_version": "2.0.0",
      "model_name": "LayoutModel",
      "state": {}
     },
     "44d1cb966cd74d34b917a08160071f86": {
      "model_module": "@jupyter-widgets/base",
      "model_module_version": "2.0.0",
      "model_name": "LayoutModel",
      "state": {}
     },
     "44d5718f041c4cdf8b85c3e58a90c1e2": {
      "model_module": "@jupyter-widgets/controls",
      "model_module_version": "2.0.0",
      "model_name": "DescriptionStyleModel",
      "state": {
       "description_width": ""
      }
     },
     "44e53d99312544a4b17fe0145636ef45": {
      "model_module": "@jupyter-widgets/controls",
      "model_module_version": "2.0.0",
      "model_name": "HBoxModel",
      "state": {
       "children": [
        "IPY_MODEL_63a70b06ff4246d3819f71da3565aefd",
        "IPY_MODEL_b0abd16537734a9d99386e3c8da6b4b8",
        "IPY_MODEL_97bbbe30ec7f46b9aaa8e4ad4646ac93"
       ],
       "layout": "IPY_MODEL_51c0ffeb291c451e88c73009c996057f"
      }
     },
     "451473f4e335442db1280c3dafa1c5de": {
      "model_module": "@jupyter-widgets/controls",
      "model_module_version": "2.0.0",
      "model_name": "HTMLStyleModel",
      "state": {
       "description_width": "",
       "font_size": null,
       "text_color": null
      }
     },
     "45418625fe974d70bd43597a713421ee": {
      "model_module": "@jupyter-widgets/controls",
      "model_module_version": "2.0.0",
      "model_name": "HTMLStyleModel",
      "state": {
       "description_width": "",
       "font_size": null,
       "text_color": null
      }
     },
     "4553fb4f7c304feda4bdd2c6af136987": {
      "model_module": "@jupyter-widgets/controls",
      "model_module_version": "2.0.0",
      "model_name": "FloatProgressModel",
      "state": {
       "bar_style": "success",
       "layout": "IPY_MODEL_39492984205c40f9a2c80345c5accd4d",
       "max": 6,
       "style": "IPY_MODEL_376f7f735cd6494b93669863dd2219d1",
       "value": 6
      }
     },
     "4566d1e63f3940db9ec45156b6a840dc": {
      "model_module": "@jupyter-widgets/controls",
      "model_module_version": "2.0.0",
      "model_name": "DescriptionStyleModel",
      "state": {
       "description_width": ""
      }
     },
     "45f72b16772f40e081fb9d967266f68d": {
      "model_module": "@jupyter-widgets/base",
      "model_module_version": "2.0.0",
      "model_name": "LayoutModel",
      "state": {}
     },
     "461586af515a4296b87a80fa580a2f99": {
      "model_module": "@jupyter-widgets/controls",
      "model_module_version": "2.0.0",
      "model_name": "HTMLStyleModel",
      "state": {
       "description_width": "",
       "font_size": null,
       "text_color": null
      }
     },
     "4624434e462b4f3592aa0a3f3ada8c5d": {
      "model_module": "@jupyter-widgets/base",
      "model_module_version": "2.0.0",
      "model_name": "LayoutModel",
      "state": {}
     },
     "4627a97cda92444ba7641b387f1ae6bc": {
      "model_module": "@jupyter-widgets/base",
      "model_module_version": "2.0.0",
      "model_name": "LayoutModel",
      "state": {}
     },
     "4649dcb9189249368cf39bbc84f2235f": {
      "model_module": "@jupyter-widgets/base",
      "model_module_version": "2.0.0",
      "model_name": "LayoutModel",
      "state": {}
     },
     "4664fa510ec24a1f8e977e573fdb1129": {
      "model_module": "@jupyter-widgets/base",
      "model_module_version": "2.0.0",
      "model_name": "LayoutModel",
      "state": {}
     },
     "468581f8cddc4e7bb1610ac6320b66b7": {
      "model_module": "@jupyter-widgets/base",
      "model_module_version": "2.0.0",
      "model_name": "LayoutModel",
      "state": {}
     },
     "46b3e17002044bd187ddffcb137f8442": {
      "model_module": "@jupyter-widgets/base",
      "model_module_version": "2.0.0",
      "model_name": "LayoutModel",
      "state": {}
     },
     "46ebb4fddc664e87b0138b0620d90088": {
      "model_module": "@jupyter-widgets/base",
      "model_module_version": "2.0.0",
      "model_name": "LayoutModel",
      "state": {}
     },
     "46f145a243894c2d993c289862c13a8b": {
      "model_module": "@jupyter-widgets/base",
      "model_module_version": "2.0.0",
      "model_name": "LayoutModel",
      "state": {}
     },
     "4702939ba6f34c9b95242c92bc25156a": {
      "model_module": "@jupyter-widgets/controls",
      "model_module_version": "2.0.0",
      "model_name": "HTMLModel",
      "state": {
       "layout": "IPY_MODEL_269217df1e414f15bbce58c8f7f3d364",
       "style": "IPY_MODEL_856fc5b6342d48619ba1ba16c73ed3f4",
       "value": " 83%"
      }
     },
     "47338d97ff134b4ba576a42cb2a64c8d": {
      "model_module": "@jupyter-widgets/base",
      "model_module_version": "2.0.0",
      "model_name": "LayoutModel",
      "state": {}
     },
     "478294a04e59466e9eb976ac1abe3192": {
      "model_module": "@jupyter-widgets/base",
      "model_module_version": "2.0.0",
      "model_name": "LayoutModel",
      "state": {}
     },
     "47f98225af024bc7af24fb7f21e52399": {
      "model_module": "@jupyter-widgets/controls",
      "model_module_version": "2.0.0",
      "model_name": "HTMLModel",
      "state": {
       "layout": "IPY_MODEL_2efac13743ad48a393316dbb618326c8",
       "style": "IPY_MODEL_43b0db65a5c244058d984db9272cbdbd",
       "value": " 14/14 [00:34&lt;00:00,  2.56s/it]"
      }
     },
     "48509f32298d424d92624149bb5d2dbb": {
      "model_module": "@jupyter-widgets/controls",
      "model_module_version": "2.0.0",
      "model_name": "HBoxModel",
      "state": {
       "children": [
        "IPY_MODEL_5b922da8cd1e4231beb1695f3a1f7ef4",
        "IPY_MODEL_526a7acfe3114c5bb4689cd4e0cfd2be",
        "IPY_MODEL_ae271860a6e14fda9f58304373ac1cba"
       ],
       "layout": "IPY_MODEL_87797a99938f45d29bd835be4b5ec572"
      }
     },
     "485731a4a3dc4749a02b85fab8597d7a": {
      "model_module": "@jupyter-widgets/base",
      "model_module_version": "2.0.0",
      "model_name": "LayoutModel",
      "state": {}
     },
     "4936dc8dbc6d405c956ddce5f6a5221e": {
      "model_module": "@jupyter-widgets/base",
      "model_module_version": "2.0.0",
      "model_name": "LayoutModel",
      "state": {}
     },
     "49c8c6d9bde6402bb4136d37f94c0fee": {
      "model_module": "@jupyter-widgets/base",
      "model_module_version": "2.0.0",
      "model_name": "LayoutModel",
      "state": {}
     },
     "4a02dde9f0c2473ca483bd879aae9897": {
      "model_module": "@jupyter-widgets/controls",
      "model_module_version": "2.0.0",
      "model_name": "HTMLModel",
      "state": {
       "layout": "IPY_MODEL_554aad861ce14a18bcfcd879557d5536",
       "style": "IPY_MODEL_029642dfa78247a18b8c1e5fe6452dda",
       "value": "100%"
      }
     },
     "4a2153b7870843a388965c1d13988aa1": {
      "model_module": "@jupyter-widgets/controls",
      "model_module_version": "2.0.0",
      "model_name": "HTMLModel",
      "state": {
       "layout": "IPY_MODEL_219404a0aa80406fba4e1a59864e213e",
       "style": "IPY_MODEL_f990c3c0d24b4feb8b54ebbb0fe605e3",
       "value": "100%"
      }
     },
     "4a9c8487b9174ce392d94d1f8a019cab": {
      "model_module": "@jupyter-widgets/controls",
      "model_module_version": "2.0.0",
      "model_name": "DescriptionStyleModel",
      "state": {
       "description_width": ""
      }
     },
     "4aa728bf97a248ecb6f1ed409e13c000": {
      "model_module": "@jupyter-widgets/controls",
      "model_module_version": "2.0.0",
      "model_name": "HTMLStyleModel",
      "state": {
       "description_width": "",
       "font_size": null,
       "text_color": null
      }
     },
     "4aaaf3eed0254936b5a52ab7b0c6415e": {
      "model_module": "@jupyter-widgets/controls",
      "model_module_version": "2.0.0",
      "model_name": "HBoxModel",
      "state": {
       "children": [
        "IPY_MODEL_77060f02c0864339a20814717a687e8b",
        "IPY_MODEL_acb3fc7c388f438890ef68e82fa1047e",
        "IPY_MODEL_d2dc6893736e407cb84282e4eceb0b6f"
       ],
       "layout": "IPY_MODEL_fb01dde1bd6a48828dc2335448eeab33"
      }
     },
     "4ad7e55c582c4f96bf747521fa1a880e": {
      "model_module": "@jupyter-widgets/controls",
      "model_module_version": "2.0.0",
      "model_name": "DescriptionStyleModel",
      "state": {
       "description_width": ""
      }
     },
     "4b6bce95eb034f8fa39251884eef9197": {
      "model_module": "@jupyter-widgets/controls",
      "model_module_version": "2.0.0",
      "model_name": "HTMLModel",
      "state": {
       "layout": "IPY_MODEL_4f13d7468d3e433aaebc524e2f966636",
       "style": "IPY_MODEL_317d72de13f547c78f6388a685253365",
       "value": " 14/14 [00:33&lt;00:00,  2.52s/it]"
      }
     },
     "4b756571316644e7a1e95bfff335a728": {
      "model_module": "@jupyter-widgets/base",
      "model_module_version": "2.0.0",
      "model_name": "LayoutModel",
      "state": {}
     },
     "4b8fe3f450344df59adf09dfde46461c": {
      "model_module": "@jupyter-widgets/base",
      "model_module_version": "2.0.0",
      "model_name": "LayoutModel",
      "state": {}
     },
     "4c341a451372475c8ab1b62d52cc124c": {
      "model_module": "@jupyter-widgets/controls",
      "model_module_version": "2.0.0",
      "model_name": "FloatProgressModel",
      "state": {
       "bar_style": "success",
       "layout": "IPY_MODEL_354441ea960046e78181c0039137b821",
       "max": 6,
       "style": "IPY_MODEL_14f0bd724fd345f8bab8dfc4bef0bf08",
       "value": 6
      }
     },
     "4c514c61a1824da0bb353e154c21288e": {
      "model_module": "@jupyter-widgets/controls",
      "model_module_version": "2.0.0",
      "model_name": "HTMLModel",
      "state": {
       "layout": "IPY_MODEL_35a3c9c7f0a84db7b11166c968c8e8c5",
       "style": "IPY_MODEL_f6d9b538a7d4474faf6f1b5d4ed3aa22",
       "value": " 14/14 [00:34&lt;00:00,  2.58s/it]"
      }
     },
     "4c7a44cfe46546c7ad4510925b762ba3": {
      "model_module": "@jupyter-widgets/base",
      "model_module_version": "2.0.0",
      "model_name": "LayoutModel",
      "state": {}
     },
     "4cf01c7addd141348d4644f6e298d0c3": {
      "model_module": "@jupyter-widgets/base",
      "model_module_version": "2.0.0",
      "model_name": "LayoutModel",
      "state": {}
     },
     "4d050a4d6d284e5fa00be4140da9ca05": {
      "model_module": "@jupyter-widgets/controls",
      "model_module_version": "2.0.0",
      "model_name": "DescriptionStyleModel",
      "state": {
       "description_width": ""
      }
     },
     "4dd2a703b89e4906995b6ae63384ebec": {
      "model_module": "@jupyter-widgets/base",
      "model_module_version": "2.0.0",
      "model_name": "LayoutModel",
      "state": {}
     },
     "4df6d7c39cce4536a58880a00a3970ef": {
      "model_module": "@jupyter-widgets/controls",
      "model_module_version": "2.0.0",
      "model_name": "ProgressStyleModel",
      "state": {
       "description_width": ""
      }
     },
     "4df9ea255ee04057a55797a504a03021": {
      "model_module": "@jupyter-widgets/base",
      "model_module_version": "2.0.0",
      "model_name": "LayoutModel",
      "state": {}
     },
     "4f13d7468d3e433aaebc524e2f966636": {
      "model_module": "@jupyter-widgets/base",
      "model_module_version": "2.0.0",
      "model_name": "LayoutModel",
      "state": {}
     },
     "4f1b62d56e4841a0b8a437b1e7082159": {
      "model_module": "@jupyter-widgets/controls",
      "model_module_version": "2.0.0",
      "model_name": "ProgressStyleModel",
      "state": {
       "description_width": ""
      }
     },
     "4f45b7be062545dfad8cd46b855234c4": {
      "model_module": "@jupyter-widgets/controls",
      "model_module_version": "2.0.0",
      "model_name": "DescriptionStyleModel",
      "state": {
       "description_width": ""
      }
     },
     "4f8f34f6823f48ae8d4102f40b10a49f": {
      "model_module": "@jupyter-widgets/controls",
      "model_module_version": "2.0.0",
      "model_name": "DescriptionStyleModel",
      "state": {
       "description_width": ""
      }
     },
     "4fbd978fd55041cb9ce67134a734e2df": {
      "model_module": "@jupyter-widgets/controls",
      "model_module_version": "2.0.0",
      "model_name": "ProgressStyleModel",
      "state": {
       "description_width": ""
      }
     },
     "4fcce8713d9f40efa519fad4c3f6d159": {
      "model_module": "@jupyter-widgets/base",
      "model_module_version": "2.0.0",
      "model_name": "LayoutModel",
      "state": {}
     },
     "4fdb5b1c4a484c5692ff2224cb3311ef": {
      "model_module": "@jupyter-widgets/controls",
      "model_module_version": "2.0.0",
      "model_name": "FloatProgressModel",
      "state": {
       "bar_style": "success",
       "layout": "IPY_MODEL_be287985079e402d8332d24294a34c84",
       "max": 6,
       "style": "IPY_MODEL_e2e8ccf1279e404e8a34624c43cb47a1",
       "value": 6
      }
     },
     "4fe88752d63e465dacddb2e96db851fc": {
      "model_module": "@jupyter-widgets/controls",
      "model_module_version": "2.0.0",
      "model_name": "DescriptionStyleModel",
      "state": {
       "description_width": ""
      }
     },
     "4ffcd09f2b804a8cae799939c2e95ae0": {
      "model_module": "@jupyter-widgets/controls",
      "model_module_version": "2.0.0",
      "model_name": "ProgressStyleModel",
      "state": {
       "description_width": ""
      }
     },
     "50194aefb1b848b9bacb0fb7cde4e7c1": {
      "model_module": "@jupyter-widgets/controls",
      "model_module_version": "2.0.0",
      "model_name": "HBoxModel",
      "state": {
       "children": [
        "IPY_MODEL_672e12ea73c54890b34126836365b7b0",
        "IPY_MODEL_8db24025e8b24c4a812fbe69c0ae9de9",
        "IPY_MODEL_b9f2c8dcd1d742c2b0284bbedcc5052f"
       ],
       "layout": "IPY_MODEL_5df21fe561884711a538f2ca542e6bd8"
      }
     },
     "506a403f0fdc4f9f8b85aa651285d720": {
      "model_module": "@jupyter-widgets/controls",
      "model_module_version": "2.0.0",
      "model_name": "DescriptionStyleModel",
      "state": {
       "description_width": ""
      }
     },
     "5082c28037254c02a2c7b11b1fec3d24": {
      "model_module": "@jupyter-widgets/controls",
      "model_module_version": "2.0.0",
      "model_name": "FloatProgressModel",
      "state": {
       "bar_style": "success",
       "layout": "IPY_MODEL_5a8654bdc7ea4e62b2701eabdcc263a2",
       "max": 14,
       "style": "IPY_MODEL_7ad06790a5154b6986cba20d76f8be7d",
       "value": 14
      }
     },
     "50f4f2ca4dba4a54b2e2e14d411ef914": {
      "model_module": "@jupyter-widgets/controls",
      "model_module_version": "2.0.0",
      "model_name": "HTMLStyleModel",
      "state": {
       "description_width": "",
       "font_size": null,
       "text_color": null
      }
     },
     "516b22b99dad4b26bda95b7f5f377e6b": {
      "model_module": "@jupyter-widgets/controls",
      "model_module_version": "2.0.0",
      "model_name": "FloatProgressModel",
      "state": {
       "bar_style": "success",
       "layout": "IPY_MODEL_702032d5605547c28038f28511a85928",
       "max": 6,
       "style": "IPY_MODEL_7c31ea7a778745c7b6d783ad107c3f8b",
       "value": 6
      }
     },
     "5195b30886ae479ba56e84588a608368": {
      "model_module": "@jupyter-widgets/controls",
      "model_module_version": "2.0.0",
      "model_name": "DescriptionStyleModel",
      "state": {
       "description_width": ""
      }
     },
     "51afde547a624857871d55d2bbcc2c75": {
      "model_module": "@jupyter-widgets/base",
      "model_module_version": "2.0.0",
      "model_name": "LayoutModel",
      "state": {}
     },
     "51c0ffeb291c451e88c73009c996057f": {
      "model_module": "@jupyter-widgets/base",
      "model_module_version": "2.0.0",
      "model_name": "LayoutModel",
      "state": {}
     },
     "5256fcf8c90746a2b585640096aabcd5": {
      "model_module": "@jupyter-widgets/base",
      "model_module_version": "2.0.0",
      "model_name": "LayoutModel",
      "state": {}
     },
     "526a7acfe3114c5bb4689cd4e0cfd2be": {
      "model_module": "@jupyter-widgets/controls",
      "model_module_version": "2.0.0",
      "model_name": "FloatProgressModel",
      "state": {
       "bar_style": "success",
       "layout": "IPY_MODEL_05ce7d2dcc9c42a1a4657f9cae9edea1",
       "max": 6,
       "style": "IPY_MODEL_2dadb4f5dece4bcc8627747de19f2efb",
       "value": 6
      }
     },
     "530227233cdb4d7bbe6a127d11bbbc96": {
      "model_module": "@jupyter-widgets/base",
      "model_module_version": "2.0.0",
      "model_name": "LayoutModel",
      "state": {}
     },
     "533f15243a5d4b6393b50c909b6f55e9": {
      "model_module": "@jupyter-widgets/controls",
      "model_module_version": "2.0.0",
      "model_name": "HTMLModel",
      "state": {
       "layout": "IPY_MODEL_dc0cb38431e34554a24eb56835159b14",
       "style": "IPY_MODEL_77cc87b539e74f5dafad722153e60cd3",
       "value": " 3/3 [00:10&lt;00:00,  4.21s/it]"
      }
     },
     "5363fb3cea7e48a79ae2d3eee8d3f103": {
      "model_module": "@jupyter-widgets/controls",
      "model_module_version": "2.0.0",
      "model_name": "HTMLModel",
      "state": {
       "layout": "IPY_MODEL_0cb625922b5f481f85c9215f9f4b3d23",
       "style": "IPY_MODEL_8f5256878fcc4418932eb682a7007e91",
       "value": " 3/3 [00:10&lt;00:00,  4.10s/it]"
      }
     },
     "539f0d72dd3543fbad79611d9f1bd031": {
      "model_module": "@jupyter-widgets/base",
      "model_module_version": "2.0.0",
      "model_name": "LayoutModel",
      "state": {}
     },
     "54bc5cd15c52489db348d7d474416b63": {
      "model_module": "@jupyter-widgets/controls",
      "model_module_version": "2.0.0",
      "model_name": "HTMLModel",
      "state": {
       "layout": "IPY_MODEL_6979e3f8add643d597915c6a8bb91077",
       "style": "IPY_MODEL_1317b6a0a7bc4b43a76e7ca689d01b22",
       "value": " 6/6 [00:08&lt;00:00,  2.02s/it]"
      }
     },
     "54c1c14ecefb49e9b1f7fd2138320a0d": {
      "model_module": "@jupyter-widgets/base",
      "model_module_version": "2.0.0",
      "model_name": "LayoutModel",
      "state": {}
     },
     "54ed6756a74146a8bcf1d0d9a6838a2b": {
      "model_module": "@jupyter-widgets/controls",
      "model_module_version": "2.0.0",
      "model_name": "DescriptionStyleModel",
      "state": {
       "description_width": ""
      }
     },
     "552543fdef3e445191c3480ff295802c": {
      "model_module": "@jupyter-widgets/controls",
      "model_module_version": "2.0.0",
      "model_name": "ProgressStyleModel",
      "state": {
       "description_width": ""
      }
     },
     "554aad861ce14a18bcfcd879557d5536": {
      "model_module": "@jupyter-widgets/base",
      "model_module_version": "2.0.0",
      "model_name": "LayoutModel",
      "state": {}
     },
     "5592b4ced2b04897acb15b7d476b9740": {
      "model_module": "@jupyter-widgets/base",
      "model_module_version": "2.0.0",
      "model_name": "LayoutModel",
      "state": {}
     },
     "55e7a37abac24908961c342bc93befe3": {
      "model_module": "@jupyter-widgets/controls",
      "model_module_version": "2.0.0",
      "model_name": "DescriptionStyleModel",
      "state": {
       "description_width": ""
      }
     },
     "5627352635654cd58c96ca414f1e6114": {
      "model_module": "@jupyter-widgets/base",
      "model_module_version": "2.0.0",
      "model_name": "LayoutModel",
      "state": {}
     },
     "5649d18abbde4f47a03b99cee129ca40": {
      "model_module": "@jupyter-widgets/controls",
      "model_module_version": "2.0.0",
      "model_name": "DescriptionStyleModel",
      "state": {
       "description_width": ""
      }
     },
     "56a6bad0b666407a9367de9bf30fd660": {
      "model_module": "@jupyter-widgets/base",
      "model_module_version": "2.0.0",
      "model_name": "LayoutModel",
      "state": {}
     },
     "56eadb9f4fd944dcb5039b404e09f6a1": {
      "model_module": "@jupyter-widgets/controls",
      "model_module_version": "2.0.0",
      "model_name": "ProgressStyleModel",
      "state": {
       "description_width": ""
      }
     },
     "56f349348df141708ca826a50e524d41": {
      "model_module": "@jupyter-widgets/controls",
      "model_module_version": "2.0.0",
      "model_name": "ProgressStyleModel",
      "state": {
       "description_width": ""
      }
     },
     "5707ef96db714ec0a3f2f9dbe98908c9": {
      "model_module": "@jupyter-widgets/controls",
      "model_module_version": "2.0.0",
      "model_name": "HTMLModel",
      "state": {
       "layout": "IPY_MODEL_3088d09c6b51431da8feba468e073631",
       "style": "IPY_MODEL_95cfbf3086504b4ab9a1449d5cf78769",
       "value": "100%"
      }
     },
     "57843694692c4a3b87bfbd132153cab8": {
      "model_module": "@jupyter-widgets/controls",
      "model_module_version": "2.0.0",
      "model_name": "HTMLModel",
      "state": {
       "layout": "IPY_MODEL_f8d197cb409d41f082178184a9954ac3",
       "style": "IPY_MODEL_269c6b9560904cc29f2828362cebce81",
       "value": "100%"
      }
     },
     "57da2d0871fc4c189bbfb98644cdca7c": {
      "model_module": "@jupyter-widgets/base",
      "model_module_version": "2.0.0",
      "model_name": "LayoutModel",
      "state": {}
     },
     "57dfcbb0414848a7afaf25ae5b8f6318": {
      "model_module": "@jupyter-widgets/controls",
      "model_module_version": "2.0.0",
      "model_name": "HTMLModel",
      "state": {
       "layout": "IPY_MODEL_485731a4a3dc4749a02b85fab8597d7a",
       "style": "IPY_MODEL_f287eebaea2a42059275cf322b97e556",
       "value": "100%"
      }
     },
     "57e76b58a33b4bcd96f3a40b899044d9": {
      "model_module": "@jupyter-widgets/base",
      "model_module_version": "2.0.0",
      "model_name": "LayoutModel",
      "state": {}
     },
     "582ab9a756b849b2b26d95663d2ff9e2": {
      "model_module": "@jupyter-widgets/controls",
      "model_module_version": "2.0.0",
      "model_name": "HTMLStyleModel",
      "state": {
       "description_width": "",
       "font_size": null,
       "text_color": null
      }
     },
     "58366bed42f541dfadf9b3b57d005ecc": {
      "model_module": "@jupyter-widgets/base",
      "model_module_version": "2.0.0",
      "model_name": "LayoutModel",
      "state": {}
     },
     "583d1f1adf7746b78eeac541b547405b": {
      "model_module": "@jupyter-widgets/controls",
      "model_module_version": "2.0.0",
      "model_name": "DescriptionStyleModel",
      "state": {
       "description_width": ""
      }
     },
     "589a4e209def475289c2189ea9d4b87d": {
      "model_module": "@jupyter-widgets/controls",
      "model_module_version": "2.0.0",
      "model_name": "HTMLStyleModel",
      "state": {
       "description_width": "",
       "font_size": null,
       "text_color": null
      }
     },
     "58e730ffdfd4482091cdaf8077d0cb8d": {
      "model_module": "@jupyter-widgets/base",
      "model_module_version": "2.0.0",
      "model_name": "LayoutModel",
      "state": {}
     },
     "58f0f746e8004a5fafe76d9dcdb1209b": {
      "model_module": "@jupyter-widgets/base",
      "model_module_version": "2.0.0",
      "model_name": "LayoutModel",
      "state": {}
     },
     "59116e8e1096438c959870c7d5a626e4": {
      "model_module": "@jupyter-widgets/controls",
      "model_module_version": "2.0.0",
      "model_name": "ProgressStyleModel",
      "state": {
       "description_width": ""
      }
     },
     "5976186c6a0042c2b496154953e7726d": {
      "model_module": "@jupyter-widgets/controls",
      "model_module_version": "2.0.0",
      "model_name": "ProgressStyleModel",
      "state": {
       "description_width": ""
      }
     },
     "5984e37e36044dfeac4109d7bc0b424e": {
      "model_module": "@jupyter-widgets/controls",
      "model_module_version": "2.0.0",
      "model_name": "HTMLModel",
      "state": {
       "layout": "IPY_MODEL_cf54b1ccc6414c8a97397e2727460764",
       "style": "IPY_MODEL_f8d0aa0d6d044fd9b885647c29ad5ed9",
       "value": "100%"
      }
     },
     "59b8436cb07c42e9bc5b74d1bab28248": {
      "model_module": "@jupyter-widgets/controls",
      "model_module_version": "2.0.0",
      "model_name": "DescriptionStyleModel",
      "state": {
       "description_width": ""
      }
     },
     "59cb8b51d70545db801f62bf91dde842": {
      "model_module": "@jupyter-widgets/controls",
      "model_module_version": "2.0.0",
      "model_name": "FloatProgressModel",
      "state": {
       "bar_style": "success",
       "layout": "IPY_MODEL_817301f479794c12b0e516e4b27ca565",
       "max": 3,
       "style": "IPY_MODEL_74e16d5201b746f6bda501151e592eed",
       "value": 3
      }
     },
     "5a47368809b04a868d7c3abfa75b1f0b": {
      "model_module": "@jupyter-widgets/base",
      "model_module_version": "2.0.0",
      "model_name": "LayoutModel",
      "state": {}
     },
     "5a7402acea7c46b7acc62d232cbaafda": {
      "model_module": "@jupyter-widgets/base",
      "model_module_version": "2.0.0",
      "model_name": "LayoutModel",
      "state": {}
     },
     "5a8654bdc7ea4e62b2701eabdcc263a2": {
      "model_module": "@jupyter-widgets/base",
      "model_module_version": "2.0.0",
      "model_name": "LayoutModel",
      "state": {}
     },
     "5af10075c7954a7a86b516adebbabe88": {
      "model_module": "@jupyter-widgets/controls",
      "model_module_version": "2.0.0",
      "model_name": "HTMLModel",
      "state": {
       "layout": "IPY_MODEL_d6e18d7031c9403c8ab3e13577ae7c18",
       "style": "IPY_MODEL_77ed0aba6bdd404193911cba5b9d44ea",
       "value": " 3/3 [00:10&lt;00:00,  4.27s/it]"
      }
     },
     "5af398f4192b4467a7e82d44629a7090": {
      "model_module": "@jupyter-widgets/controls",
      "model_module_version": "2.0.0",
      "model_name": "HBoxModel",
      "state": {
       "children": [
        "IPY_MODEL_39ba132769b346d3807f8ffdb35ef4ef",
        "IPY_MODEL_e83b55d4dce248a9ad00d59b4f589287",
        "IPY_MODEL_bd7a94334adf4927a42ed12c73654dac"
       ],
       "layout": "IPY_MODEL_2014c622957f4172bf5538e7032073d7"
      }
     },
     "5b069813b89b417297a48aeb2154fe67": {
      "model_module": "@jupyter-widgets/base",
      "model_module_version": "2.0.0",
      "model_name": "LayoutModel",
      "state": {}
     },
     "5b922da8cd1e4231beb1695f3a1f7ef4": {
      "model_module": "@jupyter-widgets/controls",
      "model_module_version": "2.0.0",
      "model_name": "HTMLModel",
      "state": {
       "layout": "IPY_MODEL_eea860404204486385b30ba97d247ae2",
       "style": "IPY_MODEL_e33a5f4c714945229331ede15abc8eeb",
       "value": "100%"
      }
     },
     "5bc99c916ebd414daf96f69f725d40ea": {
      "model_module": "@jupyter-widgets/controls",
      "model_module_version": "2.0.0",
      "model_name": "FloatProgressModel",
      "state": {
       "bar_style": "success",
       "layout": "IPY_MODEL_01e5af5b26df48c68e2a60acda563670",
       "max": 14,
       "style": "IPY_MODEL_a2f63c20b4dd48a8866fcb6b802f8c4a",
       "value": 14
      }
     },
     "5c1cdc7f1d7f4334997a05cb16278393": {
      "model_module": "@jupyter-widgets/base",
      "model_module_version": "2.0.0",
      "model_name": "LayoutModel",
      "state": {}
     },
     "5cc7f457a2334e71bb5f436ae46c336e": {
      "model_module": "@jupyter-widgets/base",
      "model_module_version": "2.0.0",
      "model_name": "LayoutModel",
      "state": {}
     },
     "5d095f99d4c945618fe22682b2919f7f": {
      "model_module": "@jupyter-widgets/controls",
      "model_module_version": "2.0.0",
      "model_name": "HTMLModel",
      "state": {
       "layout": "IPY_MODEL_0d06caff45da43a387feb0da28b050fb",
       "style": "IPY_MODEL_df91ae866b7c4ab583dd9c521498031c",
       "value": "100%"
      }
     },
     "5d1150275c574960b7ee756c4e5b8422": {
      "model_module": "@jupyter-widgets/base",
      "model_module_version": "2.0.0",
      "model_name": "LayoutModel",
      "state": {}
     },
     "5d1a1fe6fd844c7d907c9883a206650c": {
      "model_module": "@jupyter-widgets/controls",
      "model_module_version": "2.0.0",
      "model_name": "HBoxModel",
      "state": {
       "children": [
        "IPY_MODEL_3417b3ebb03f4797818201cd315cc5d6",
        "IPY_MODEL_05b3bfdeba8148b8b4f9e8a220a48ad1",
        "IPY_MODEL_533f15243a5d4b6393b50c909b6f55e9"
       ],
       "layout": "IPY_MODEL_385052d0c22a494c95a54f3ec5ca9ea2"
      }
     },
     "5d60a27d33a64fe0b9065d67b7327045": {
      "model_module": "@jupyter-widgets/controls",
      "model_module_version": "2.0.0",
      "model_name": "ProgressStyleModel",
      "state": {
       "description_width": ""
      }
     },
     "5d64f8724c144e37b875cd67b10ec38b": {
      "model_module": "@jupyter-widgets/controls",
      "model_module_version": "2.0.0",
      "model_name": "ProgressStyleModel",
      "state": {
       "description_width": ""
      }
     },
     "5df21fe561884711a538f2ca542e6bd8": {
      "model_module": "@jupyter-widgets/base",
      "model_module_version": "2.0.0",
      "model_name": "LayoutModel",
      "state": {}
     },
     "5e4ab518bc7f4437b2e0d4d180d3eb3d": {
      "model_module": "@jupyter-widgets/controls",
      "model_module_version": "2.0.0",
      "model_name": "FloatProgressModel",
      "state": {
       "bar_style": "success",
       "layout": "IPY_MODEL_46ebb4fddc664e87b0138b0620d90088",
       "max": 3,
       "style": "IPY_MODEL_a14329532c41402699841551dbcaf36d",
       "value": 3
      }
     },
     "5f3c41984e834353b4bd3fbb27a25c2c": {
      "model_module": "@jupyter-widgets/controls",
      "model_module_version": "2.0.0",
      "model_name": "DescriptionStyleModel",
      "state": {
       "description_width": ""
      }
     },
     "5fc4e3b1da1c478ea141c911c4e76b5e": {
      "model_module": "@jupyter-widgets/base",
      "model_module_version": "2.0.0",
      "model_name": "LayoutModel",
      "state": {}
     },
     "5fe97e3ddaf541e8bb132154c246ac91": {
      "model_module": "@jupyter-widgets/controls",
      "model_module_version": "2.0.0",
      "model_name": "HTMLStyleModel",
      "state": {
       "description_width": "",
       "font_size": null,
       "text_color": null
      }
     },
     "600360577c904457ae06c714da3226ab": {
      "model_module": "@jupyter-widgets/base",
      "model_module_version": "2.0.0",
      "model_name": "LayoutModel",
      "state": {}
     },
     "6022fd1d8b704696a3ea76aed0286917": {
      "model_module": "@jupyter-widgets/controls",
      "model_module_version": "2.0.0",
      "model_name": "DescriptionStyleModel",
      "state": {
       "description_width": ""
      }
     },
     "6062aa9efc574da8b548fee3b1c51c6e": {
      "model_module": "@jupyter-widgets/controls",
      "model_module_version": "2.0.0",
      "model_name": "HBoxModel",
      "state": {
       "children": [
        "IPY_MODEL_a32af960a36d4b52a3edd1f55e071c15",
        "IPY_MODEL_27eeaee083424c1f81fecc56dea27a6d",
        "IPY_MODEL_28d7d40964e34064a071c4f266111d5e"
       ],
       "layout": "IPY_MODEL_c179d82d134c4885b232d00bb921d2c4"
      }
     },
     "609bdb59378141f4a96e77ac1ac3c4d0": {
      "model_module": "@jupyter-widgets/base",
      "model_module_version": "2.0.0",
      "model_name": "LayoutModel",
      "state": {}
     },
     "60f943ca34524bd1afbce2cc89a7f8f8": {
      "model_module": "@jupyter-widgets/controls",
      "model_module_version": "2.0.0",
      "model_name": "HBoxModel",
      "state": {
       "children": [
        "IPY_MODEL_43ea1b3882bd41068924670970a9c5e8",
        "IPY_MODEL_fd78d4fe60794bd9a4080bccdd2b5066",
        "IPY_MODEL_e026cb4a76f64518aa80c32c5d6bc6d6"
       ],
       "layout": "IPY_MODEL_b248845b0071429886b9bb169c16460e"
      }
     },
     "614f7e74e8964772bbf709eec39a1524": {
      "model_module": "@jupyter-widgets/controls",
      "model_module_version": "2.0.0",
      "model_name": "DescriptionStyleModel",
      "state": {
       "description_width": ""
      }
     },
     "6176e82b1a604fb6b50991303317d235": {
      "model_module": "@jupyter-widgets/base",
      "model_module_version": "2.0.0",
      "model_name": "LayoutModel",
      "state": {}
     },
     "6217b2e724b7488dbf152daf3fb7ff95": {
      "model_module": "@jupyter-widgets/controls",
      "model_module_version": "2.0.0",
      "model_name": "HTMLModel",
      "state": {
       "layout": "IPY_MODEL_600360577c904457ae06c714da3226ab",
       "style": "IPY_MODEL_9a4b752de1ac4a439e4a44845e5667e5",
       "value": " 14/14 [00:36&lt;00:00,  2.68s/it]"
      }
     },
     "623a9efab414447da1c1ae61858f5778": {
      "model_module": "@jupyter-widgets/base",
      "model_module_version": "2.0.0",
      "model_name": "LayoutModel",
      "state": {}
     },
     "625a723425fa4d9990a4c0a5613fc01c": {
      "model_module": "@jupyter-widgets/base",
      "model_module_version": "2.0.0",
      "model_name": "LayoutModel",
      "state": {}
     },
     "62631fe6d1564f839a570964b62a24c8": {
      "model_module": "@jupyter-widgets/base",
      "model_module_version": "2.0.0",
      "model_name": "LayoutModel",
      "state": {}
     },
     "631932574a4f478698da5bfd889c15f2": {
      "model_module": "@jupyter-widgets/controls",
      "model_module_version": "2.0.0",
      "model_name": "FloatProgressModel",
      "state": {
       "bar_style": "success",
       "layout": "IPY_MODEL_cbd792511fbc4743b175d6ca42fbf072",
       "max": 3,
       "style": "IPY_MODEL_7aedc26c48254a838669f450a1fcbb22",
       "value": 3
      }
     },
     "631c4e5439134b44aa2abb0f2d6114da": {
      "model_module": "@jupyter-widgets/controls",
      "model_module_version": "2.0.0",
      "model_name": "HTMLModel",
      "state": {
       "layout": "IPY_MODEL_903eacd04bae46db83092bc1e8f150e2",
       "style": "IPY_MODEL_d87a02a290ab42fb8f24de71c309cf8f",
       "value": "100%"
      }
     },
     "633e8f4668c54e8796993e023cf93211": {
      "model_module": "@jupyter-widgets/base",
      "model_module_version": "2.0.0",
      "model_name": "LayoutModel",
      "state": {}
     },
     "63496197b64c4981aa1841e5dd0ed3a2": {
      "model_module": "@jupyter-widgets/controls",
      "model_module_version": "2.0.0",
      "model_name": "ProgressStyleModel",
      "state": {
       "description_width": ""
      }
     },
     "63a70b06ff4246d3819f71da3565aefd": {
      "model_module": "@jupyter-widgets/controls",
      "model_module_version": "2.0.0",
      "model_name": "HTMLModel",
      "state": {
       "layout": "IPY_MODEL_7a10d58c1ecc444c83d13eb4996e5ee4",
       "style": "IPY_MODEL_8e28b38aef194897b6131f4317563b9f",
       "value": " 21%"
      }
     },
     "63db93ef7251427da2644643a5f52e2a": {
      "model_module": "@jupyter-widgets/controls",
      "model_module_version": "2.0.0",
      "model_name": "DescriptionStyleModel",
      "state": {
       "description_width": ""
      }
     },
     "63f72555303e4481a28135d51cbf9841": {
      "model_module": "@jupyter-widgets/controls",
      "model_module_version": "2.0.0",
      "model_name": "HTMLStyleModel",
      "state": {
       "description_width": "",
       "font_size": null,
       "text_color": null
      }
     },
     "641a8e47dba14be4aa8a10f1329bcaa6": {
      "model_module": "@jupyter-widgets/controls",
      "model_module_version": "2.0.0",
      "model_name": "HTMLModel",
      "state": {
       "layout": "IPY_MODEL_d545003943714d8c998b2c7a376fd3ff",
       "style": "IPY_MODEL_3a71f9045ef64b82ae273c50b5be2d91",
       "value": " 14/14 [00:33&lt;00:00,  2.49s/it]"
      }
     },
     "643781621b914dceaab16ab069a89a6c": {
      "model_module": "@jupyter-widgets/controls",
      "model_module_version": "2.0.0",
      "model_name": "ProgressStyleModel",
      "state": {
       "description_width": ""
      }
     },
     "658444ed433543249997e5b54ff46591": {
      "model_module": "@jupyter-widgets/controls",
      "model_module_version": "2.0.0",
      "model_name": "HTMLModel",
      "state": {
       "layout": "IPY_MODEL_761aab67640240e3ba173a5b2eaf5401",
       "style": "IPY_MODEL_9c92d863eca84c9a8609b6367f2c1d8b",
       "value": " 6/6 [00:11&lt;00:00,  2.84s/it]"
      }
     },
     "6598381da8a44dae8d3e17c72ca74f0d": {
      "model_module": "@jupyter-widgets/controls",
      "model_module_version": "2.0.0",
      "model_name": "DescriptionStyleModel",
      "state": {
       "description_width": ""
      }
     },
     "672d456870d44b42957d9ad3669127cc": {
      "model_module": "@jupyter-widgets/controls",
      "model_module_version": "2.0.0",
      "model_name": "DescriptionStyleModel",
      "state": {
       "description_width": ""
      }
     },
     "672e12ea73c54890b34126836365b7b0": {
      "model_module": "@jupyter-widgets/controls",
      "model_module_version": "2.0.0",
      "model_name": "HTMLModel",
      "state": {
       "layout": "IPY_MODEL_3e652183e9194bbeb3771a9fb7244611",
       "style": "IPY_MODEL_6f156dc2b78341ecaa1dc302165080a5",
       "value": "100%"
      }
     },
     "67510021658848edbe477ad4bc8038f4": {
      "model_module": "@jupyter-widgets/base",
      "model_module_version": "2.0.0",
      "model_name": "LayoutModel",
      "state": {}
     },
     "67597766408742479ce0bf6cc2478e26": {
      "model_module": "@jupyter-widgets/base",
      "model_module_version": "2.0.0",
      "model_name": "LayoutModel",
      "state": {}
     },
     "67bd004a9cc54ca98a945c66e98a8dc5": {
      "model_module": "@jupyter-widgets/base",
      "model_module_version": "2.0.0",
      "model_name": "LayoutModel",
      "state": {}
     },
     "67f8e9926ff04911a5ecb7f084ab9bda": {
      "model_module": "@jupyter-widgets/controls",
      "model_module_version": "2.0.0",
      "model_name": "HBoxModel",
      "state": {
       "children": [
        "IPY_MODEL_5984e37e36044dfeac4109d7bc0b424e",
        "IPY_MODEL_af81eb420a204b4db16e0900544ee830",
        "IPY_MODEL_8a03ad0d87be4739985ebdbd8e3f6821"
       ],
       "layout": "IPY_MODEL_2503dfb81f4847be8a2dd83ba9fce570"
      }
     },
     "68639f2e8c1c4e3289e0f6d8dce28243": {
      "model_module": "@jupyter-widgets/controls",
      "model_module_version": "2.0.0",
      "model_name": "HTMLModel",
      "state": {
       "layout": "IPY_MODEL_e00f2d4bde8d4977a2c1fcf12272aee9",
       "style": "IPY_MODEL_4566d1e63f3940db9ec45156b6a840dc",
       "value": " 14/14 [00:36&lt;00:00,  2.65s/it]"
      }
     },
     "687f590cf40747caabe161fa9d4c56bc": {
      "model_module": "@jupyter-widgets/controls",
      "model_module_version": "2.0.0",
      "model_name": "HTMLModel",
      "state": {
       "layout": "IPY_MODEL_e11311ed201b4eec8375f0060b43cdd3",
       "style": "IPY_MODEL_4397d05cf65a4a3098f3fbc65ec9cf13",
       "value": " 2/3 [00:06&lt;00:03,  3.20s/it]"
      }
     },
     "6924f9666c14408f974c8626cb341bf0": {
      "model_module": "@jupyter-widgets/base",
      "model_module_version": "2.0.0",
      "model_name": "LayoutModel",
      "state": {}
     },
     "69329a3476f64b6ebd2f92c94b295e8c": {
      "model_module": "@jupyter-widgets/controls",
      "model_module_version": "2.0.0",
      "model_name": "FloatProgressModel",
      "state": {
       "bar_style": "success",
       "layout": "IPY_MODEL_ada2a00636b1438498db0770cdd39bef",
       "max": 3,
       "style": "IPY_MODEL_c5989e198ec944dc8b7775b5705d73e5",
       "value": 3
      }
     },
     "6947ec67f5c2497fa581f2f98be5d5b6": {
      "model_module": "@jupyter-widgets/base",
      "model_module_version": "2.0.0",
      "model_name": "LayoutModel",
      "state": {}
     },
     "6979e3f8add643d597915c6a8bb91077": {
      "model_module": "@jupyter-widgets/base",
      "model_module_version": "2.0.0",
      "model_name": "LayoutModel",
      "state": {}
     },
     "69a5d1fb555745e39ade5030c767bf78": {
      "model_module": "@jupyter-widgets/controls",
      "model_module_version": "2.0.0",
      "model_name": "FloatProgressModel",
      "state": {
       "bar_style": "success",
       "layout": "IPY_MODEL_d70423af9ef64c5a9d6538a15c6e12b9",
       "max": 6,
       "style": "IPY_MODEL_e1b73ba901f94de3bfe97bd1cf8952e9",
       "value": 6
      }
     },
     "69ba768c93bf4d2585127c9dd8cca2a1": {
      "model_module": "@jupyter-widgets/base",
      "model_module_version": "2.0.0",
      "model_name": "LayoutModel",
      "state": {}
     },
     "69fd7e6e13c94f61a5ebb811aa394333": {
      "model_module": "@jupyter-widgets/controls",
      "model_module_version": "2.0.0",
      "model_name": "HTMLModel",
      "state": {
       "layout": "IPY_MODEL_d8b129d3a2c341ac9bc912eaa595c0a3",
       "style": "IPY_MODEL_c06f451b863c41a2afebcd113177edfd",
       "value": " 14/14 [00:34&lt;00:00,  2.60s/it]"
      }
     },
     "6a06014e46784b398bbbdbee3663f860": {
      "model_module": "@jupyter-widgets/controls",
      "model_module_version": "2.0.0",
      "model_name": "FloatProgressModel",
      "state": {
       "bar_style": "success",
       "layout": "IPY_MODEL_1a972bcc03d64354b5cd8ec42d25af83",
       "max": 6,
       "style": "IPY_MODEL_dd9f8393faa64097954bd7d834610506",
       "value": 6
      }
     },
     "6aad32a9423043eb8bffaa7ab8e9632f": {
      "model_module": "@jupyter-widgets/controls",
      "model_module_version": "2.0.0",
      "model_name": "DescriptionStyleModel",
      "state": {
       "description_width": ""
      }
     },
     "6ab2c800eaef42e4a286a0aab35ed190": {
      "model_module": "@jupyter-widgets/controls",
      "model_module_version": "2.0.0",
      "model_name": "FloatProgressModel",
      "state": {
       "bar_style": "success",
       "layout": "IPY_MODEL_cf74716173fd494f8ea0332793acb220",
       "max": 3,
       "style": "IPY_MODEL_000a0ce30ef84bfc8ab5b9c23b221bc4",
       "value": 3
      }
     },
     "6b85b3f5a8a844c2bcfadcce25177f81": {
      "model_module": "@jupyter-widgets/controls",
      "model_module_version": "2.0.0",
      "model_name": "HTMLModel",
      "state": {
       "layout": "IPY_MODEL_78c8eefc38c6474fa027d6414ab01f75",
       "style": "IPY_MODEL_d8dded7411de4690a558a1ae7a282d56",
       "value": "100%"
      }
     },
     "6ba368873182486380ecad62d4aec0de": {
      "model_module": "@jupyter-widgets/controls",
      "model_module_version": "2.0.0",
      "model_name": "HTMLModel",
      "state": {
       "layout": "IPY_MODEL_4311cd0e553c47d9b70df4a18569c812",
       "style": "IPY_MODEL_95300a5b30004cba8b3edd3a03b70613",
       "value": " 14/14 [00:36&lt;00:00,  2.73s/it]"
      }
     },
     "6c26f4dda729429f806b3e336dc81622": {
      "model_module": "@jupyter-widgets/controls",
      "model_module_version": "2.0.0",
      "model_name": "HBoxModel",
      "state": {
       "children": [
        "IPY_MODEL_07019ea46ea046e0b87c8e4a25c6963b",
        "IPY_MODEL_d2f142dce1c9498c806f06a30b43f04b",
        "IPY_MODEL_641a8e47dba14be4aa8a10f1329bcaa6"
       ],
       "layout": "IPY_MODEL_19ea34ec07da4d61acec8c855bbc02bf"
      }
     },
     "6cc16a4ebcaa45d0a75baf8f0f57957e": {
      "model_module": "@jupyter-widgets/base",
      "model_module_version": "2.0.0",
      "model_name": "LayoutModel",
      "state": {}
     },
     "6ce6dc7f238243caaf36f8495409d552": {
      "model_module": "@jupyter-widgets/controls",
      "model_module_version": "2.0.0",
      "model_name": "ProgressStyleModel",
      "state": {
       "description_width": ""
      }
     },
     "6d0bfbc93a1545819218856abadd1ff0": {
      "model_module": "@jupyter-widgets/controls",
      "model_module_version": "2.0.0",
      "model_name": "HTMLStyleModel",
      "state": {
       "description_width": "",
       "font_size": null,
       "text_color": null
      }
     },
     "6df3561b5e8444b9b1151930e443c9f8": {
      "model_module": "@jupyter-widgets/controls",
      "model_module_version": "2.0.0",
      "model_name": "HTMLModel",
      "state": {
       "layout": "IPY_MODEL_a2cb0e65b1f44625aefab52e868e76be",
       "style": "IPY_MODEL_ab3e3837b3154d8494ca8fad1899cfb9",
       "value": " 6/6 [00:11&lt;00:00,  2.85s/it]"
      }
     },
     "6e6c8d817cf642cda4b8c67c1421f16b": {
      "model_module": "@jupyter-widgets/base",
      "model_module_version": "2.0.0",
      "model_name": "LayoutModel",
      "state": {}
     },
     "6e7b05e3ccb84beab343d30286940b3b": {
      "model_module": "@jupyter-widgets/controls",
      "model_module_version": "2.0.0",
      "model_name": "HTMLModel",
      "state": {
       "layout": "IPY_MODEL_e33de6c094a54effb98a325d8beecad8",
       "style": "IPY_MODEL_31b974d56faf4275a2224373ca792f0c",
       "value": " 6/6 [00:11&lt;00:00,  2.79s/it]"
      }
     },
     "6e8cca8f46754c3d8e0ab68f602c8685": {
      "model_module": "@jupyter-widgets/controls",
      "model_module_version": "2.0.0",
      "model_name": "HBoxModel",
      "state": {
       "children": [
        "IPY_MODEL_335359af048044b68a622eeed260338f",
        "IPY_MODEL_6fef9dbe7c7f487ea931cc472232c7f8",
        "IPY_MODEL_2796d4640e4c4e929e33d1c64b9f54fc"
       ],
       "layout": "IPY_MODEL_e888eadbc7f94bd8a49318165d57b41e"
      }
     },
     "6f0469764bbf4e3aacaca79738c9664f": {
      "model_module": "@jupyter-widgets/controls",
      "model_module_version": "2.0.0",
      "model_name": "HTMLModel",
      "state": {
       "layout": "IPY_MODEL_88b61669524141039a422c0c834da8c4",
       "style": "IPY_MODEL_0abaf50f623a43e58afcf20b196d3dbc",
       "value": " 6/6 [00:11&lt;00:00,  2.79s/it]"
      }
     },
     "6f156dc2b78341ecaa1dc302165080a5": {
      "model_module": "@jupyter-widgets/controls",
      "model_module_version": "2.0.0",
      "model_name": "HTMLStyleModel",
      "state": {
       "description_width": "",
       "font_size": null,
       "text_color": null
      }
     },
     "6f794c624be94766aa1173d268857714": {
      "model_module": "@jupyter-widgets/controls",
      "model_module_version": "2.0.0",
      "model_name": "HTMLModel",
      "state": {
       "layout": "IPY_MODEL_234e24831a0f4f43bc69f819aff734ef",
       "style": "IPY_MODEL_87594e0f75114cac9ea7e461d39e53ea",
       "value": "100%"
      }
     },
     "6f7a1a6f807143a381b1a06a03ca9ff4": {
      "model_module": "@jupyter-widgets/controls",
      "model_module_version": "2.0.0",
      "model_name": "HBoxModel",
      "state": {
       "children": [
        "IPY_MODEL_cee6b08836af4849b0c65597ec0a4bf1",
        "IPY_MODEL_19d2a5bbbee14c30bd9480c8930412ef",
        "IPY_MODEL_12bd68cfd5214378b677176807915f57"
       ],
       "layout": "IPY_MODEL_77ff9a2f1111443b9a3740a2f82341be"
      }
     },
     "6fcff024baf2498bb3ac78f0d1527144": {
      "model_module": "@jupyter-widgets/base",
      "model_module_version": "2.0.0",
      "model_name": "LayoutModel",
      "state": {}
     },
     "6fd4f788bb824b16af42e0472465355c": {
      "model_module": "@jupyter-widgets/controls",
      "model_module_version": "2.0.0",
      "model_name": "HBoxModel",
      "state": {
       "children": [
        "IPY_MODEL_dc0dd2981a724c11960fdfb9c4753949",
        "IPY_MODEL_430fec0f20bc4e7ebe830021f63dd731",
        "IPY_MODEL_87bd516446324c848607396a35fbd10d"
       ],
       "layout": "IPY_MODEL_71662bb3355047bfa1794f2618d512fd"
      }
     },
     "6fef9dbe7c7f487ea931cc472232c7f8": {
      "model_module": "@jupyter-widgets/controls",
      "model_module_version": "2.0.0",
      "model_name": "FloatProgressModel",
      "state": {
       "bar_style": "danger",
       "layout": "IPY_MODEL_8ed4ea60c228441bb58a109bfdb44d87",
       "max": 14,
       "style": "IPY_MODEL_2d314896d673436ca34fb2700ce24e3f",
       "value": 8
      }
     },
     "702032d5605547c28038f28511a85928": {
      "model_module": "@jupyter-widgets/base",
      "model_module_version": "2.0.0",
      "model_name": "LayoutModel",
      "state": {}
     },
     "70268c8c928f4f88b7800ca0b349bf8e": {
      "model_module": "@jupyter-widgets/controls",
      "model_module_version": "2.0.0",
      "model_name": "FloatProgressModel",
      "state": {
       "bar_style": "success",
       "layout": "IPY_MODEL_85a207da415748b88779087c996cfbbe",
       "max": 3,
       "style": "IPY_MODEL_a52dc0b6be834b578252ec84b57cb7ae",
       "value": 3
      }
     },
     "705019b0b05f4387aefdd6bb569e74d9": {
      "model_module": "@jupyter-widgets/controls",
      "model_module_version": "2.0.0",
      "model_name": "HTMLStyleModel",
      "state": {
       "description_width": "",
       "font_size": null,
       "text_color": null
      }
     },
     "70960292e2904c71aaf0829c5276ff22": {
      "model_module": "@jupyter-widgets/controls",
      "model_module_version": "2.0.0",
      "model_name": "HTMLModel",
      "state": {
       "layout": "IPY_MODEL_f302702e49304ecc970ba60d6dff4f48",
       "style": "IPY_MODEL_54ed6756a74146a8bcf1d0d9a6838a2b",
       "value": " 67%"
      }
     },
     "70aed8869bb54430ad242135ad759d2f": {
      "model_module": "@jupyter-widgets/controls",
      "model_module_version": "2.0.0",
      "model_name": "HBoxModel",
      "state": {
       "children": [
        "IPY_MODEL_2b06f801070a48a5bb5f39f5577cf5f1",
        "IPY_MODEL_b6c01ffdf5dc4c1a93c67b7a9fa840a0",
        "IPY_MODEL_c0a9ef47e8e84bcba447e99fa44f6883"
       ],
       "layout": "IPY_MODEL_271558bdfe944780b3e8a65d2bfe1626"
      }
     },
     "70eea4c1fb1e41ff8ee31f5613ef5754": {
      "model_module": "@jupyter-widgets/base",
      "model_module_version": "2.0.0",
      "model_name": "LayoutModel",
      "state": {}
     },
     "71662bb3355047bfa1794f2618d512fd": {
      "model_module": "@jupyter-widgets/base",
      "model_module_version": "2.0.0",
      "model_name": "LayoutModel",
      "state": {}
     },
     "71c16ffe2b024132b2cf659c64ff8904": {
      "model_module": "@jupyter-widgets/controls",
      "model_module_version": "2.0.0",
      "model_name": "FloatProgressModel",
      "state": {
       "bar_style": "success",
       "layout": "IPY_MODEL_e9f11de37b074385b4ae630297261ce2",
       "max": 6,
       "style": "IPY_MODEL_4ffcd09f2b804a8cae799939c2e95ae0",
       "value": 6
      }
     },
     "721e182dd01e47aca3f0e758c8c7c4b6": {
      "model_module": "@jupyter-widgets/controls",
      "model_module_version": "2.0.0",
      "model_name": "DescriptionStyleModel",
      "state": {
       "description_width": ""
      }
     },
     "72959c60ea7840199da1f865e3205678": {
      "model_module": "@jupyter-widgets/controls",
      "model_module_version": "2.0.0",
      "model_name": "HTMLStyleModel",
      "state": {
       "description_width": "",
       "font_size": null,
       "text_color": null
      }
     },
     "730913aaea4747af9cb8ab72603e2493": {
      "model_module": "@jupyter-widgets/controls",
      "model_module_version": "2.0.0",
      "model_name": "HTMLModel",
      "state": {
       "layout": "IPY_MODEL_c94f83c2248f4f50974750f0c2ee6bc1",
       "style": "IPY_MODEL_bb4c687cc5b7401d8d90170737dfe53e",
       "value": " 6/6 [00:08&lt;00:00,  1.96s/it]"
      }
     },
     "73d6e42220b34c1db7c9c32952805469": {
      "model_module": "@jupyter-widgets/controls",
      "model_module_version": "2.0.0",
      "model_name": "DescriptionStyleModel",
      "state": {
       "description_width": ""
      }
     },
     "749e6b87082c4e4bbdd4030cad16b4ca": {
      "model_module": "@jupyter-widgets/controls",
      "model_module_version": "2.0.0",
      "model_name": "FloatProgressModel",
      "state": {
       "bar_style": "success",
       "layout": "IPY_MODEL_bd101b633ea34ac69246ecb0598515b8",
       "max": 14,
       "style": "IPY_MODEL_9cb0f87fdb62465a8ac2ef169db7b6b9",
       "value": 14
      }
     },
     "74b05596216a49a1b150b9be0061ffef": {
      "model_module": "@jupyter-widgets/controls",
      "model_module_version": "2.0.0",
      "model_name": "HTMLModel",
      "state": {
       "layout": "IPY_MODEL_7b937f4aa0db46cbbdf18c146a4d8d9d",
       "style": "IPY_MODEL_e49fc61a072143458af206edcef6af8c",
       "value": " 14/14 [00:35&lt;00:00,  2.65s/it]"
      }
     },
     "74b140d56f264876ad3baac400674e81": {
      "model_module": "@jupyter-widgets/base",
      "model_module_version": "2.0.0",
      "model_name": "LayoutModel",
      "state": {}
     },
     "74beaec67ac64b4f9e4ffd9764bd2b9d": {
      "model_module": "@jupyter-widgets/controls",
      "model_module_version": "2.0.0",
      "model_name": "DescriptionStyleModel",
      "state": {
       "description_width": ""
      }
     },
     "74e16d5201b746f6bda501151e592eed": {
      "model_module": "@jupyter-widgets/controls",
      "model_module_version": "2.0.0",
      "model_name": "ProgressStyleModel",
      "state": {
       "description_width": ""
      }
     },
     "7598e2700b684d90841799187dfcc138": {
      "model_module": "@jupyter-widgets/controls",
      "model_module_version": "2.0.0",
      "model_name": "HTMLModel",
      "state": {
       "layout": "IPY_MODEL_415ded97bd634a94aa9493edee1aef5e",
       "style": "IPY_MODEL_2a1b43fb3d5e41dbaad395e88d69dc17",
       "value": " 10/14 [00:26&lt;00:17,  4.32s/it]"
      }
     },
     "761aab67640240e3ba173a5b2eaf5401": {
      "model_module": "@jupyter-widgets/base",
      "model_module_version": "2.0.0",
      "model_name": "LayoutModel",
      "state": {}
     },
     "761febfec9434d18a10e7a292405c5d3": {
      "model_module": "@jupyter-widgets/controls",
      "model_module_version": "2.0.0",
      "model_name": "HTMLModel",
      "state": {
       "layout": "IPY_MODEL_2493d03c7bd34717904cab4538dd29ad",
       "style": "IPY_MODEL_437853bb71fc48718a27425bc6fcd9c5",
       "value": " 3/3 [00:10&lt;00:00,  4.29s/it]"
      }
     },
     "7656a75fac334758bff1db99160dd95b": {
      "model_module": "@jupyter-widgets/controls",
      "model_module_version": "2.0.0",
      "model_name": "HTMLStyleModel",
      "state": {
       "description_width": "",
       "font_size": null,
       "text_color": null
      }
     },
     "76d91f459d6d4f2aa4c55161e3e2fbd5": {
      "model_module": "@jupyter-widgets/controls",
      "model_module_version": "2.0.0",
      "model_name": "DescriptionStyleModel",
      "state": {
       "description_width": ""
      }
     },
     "76dc5ba1a0eb48358cccdd7b604f2521": {
      "model_module": "@jupyter-widgets/base",
      "model_module_version": "2.0.0",
      "model_name": "LayoutModel",
      "state": {}
     },
     "77027611d9f94233a558744125d779c3": {
      "model_module": "@jupyter-widgets/controls",
      "model_module_version": "2.0.0",
      "model_name": "DescriptionStyleModel",
      "state": {
       "description_width": ""
      }
     },
     "77060f02c0864339a20814717a687e8b": {
      "model_module": "@jupyter-widgets/controls",
      "model_module_version": "2.0.0",
      "model_name": "HTMLModel",
      "state": {
       "layout": "IPY_MODEL_93384c970167447d96b9fbe341ba03f3",
       "style": "IPY_MODEL_334b08b1d51a4a27ba72938258be0194",
       "value": "100%"
      }
     },
     "77569b61b9f94b3bba023f8f25e98d70": {
      "model_module": "@jupyter-widgets/base",
      "model_module_version": "2.0.0",
      "model_name": "LayoutModel",
      "state": {}
     },
     "7764764341734b73a31c67d572f15ab7": {
      "model_module": "@jupyter-widgets/controls",
      "model_module_version": "2.0.0",
      "model_name": "HBoxModel",
      "state": {
       "children": [
        "IPY_MODEL_1ea51bc560ca4022bb1a949c79a0f734",
        "IPY_MODEL_4388f670ebb044a3a9838ebdc4c2a587",
        "IPY_MODEL_b99910e822374a6b9ce70d7b96324062"
       ],
       "layout": "IPY_MODEL_62631fe6d1564f839a570964b62a24c8"
      }
     },
     "777f86a86f664c9cb9be08b5315a4d59": {
      "model_module": "@jupyter-widgets/controls",
      "model_module_version": "2.0.0",
      "model_name": "FloatProgressModel",
      "state": {
       "bar_style": "success",
       "layout": "IPY_MODEL_a251fdba365540e59af8cbd3077647f0",
       "max": 3,
       "style": "IPY_MODEL_c5bdc1aea1dc42808c80934112cab5ca",
       "value": 3
      }
     },
     "77c0f641a17541f098b0af2bfc288ba2": {
      "model_module": "@jupyter-widgets/controls",
      "model_module_version": "2.0.0",
      "model_name": "HTMLStyleModel",
      "state": {
       "description_width": "",
       "font_size": null,
       "text_color": null
      }
     },
     "77cc87b539e74f5dafad722153e60cd3": {
      "model_module": "@jupyter-widgets/controls",
      "model_module_version": "2.0.0",
      "model_name": "DescriptionStyleModel",
      "state": {
       "description_width": ""
      }
     },
     "77ed0aba6bdd404193911cba5b9d44ea": {
      "model_module": "@jupyter-widgets/controls",
      "model_module_version": "2.0.0",
      "model_name": "DescriptionStyleModel",
      "state": {
       "description_width": ""
      }
     },
     "77ff9a2f1111443b9a3740a2f82341be": {
      "model_module": "@jupyter-widgets/base",
      "model_module_version": "2.0.0",
      "model_name": "LayoutModel",
      "state": {}
     },
     "782e5b5a30014d79b29896c0c203222d": {
      "model_module": "@jupyter-widgets/base",
      "model_module_version": "2.0.0",
      "model_name": "LayoutModel",
      "state": {}
     },
     "783ab5f1eaf04f2e9109c2425d8d2ce7": {
      "model_module": "@jupyter-widgets/controls",
      "model_module_version": "2.0.0",
      "model_name": "HTMLModel",
      "state": {
       "layout": "IPY_MODEL_5a47368809b04a868d7c3abfa75b1f0b",
       "style": "IPY_MODEL_ffaab0ce30f54c8899278aa16a20a700",
       "value": "100%"
      }
     },
     "7863273832e24bb2b5709eec56869f46": {
      "model_module": "@jupyter-widgets/controls",
      "model_module_version": "2.0.0",
      "model_name": "HTMLModel",
      "state": {
       "layout": "IPY_MODEL_4c7a44cfe46546c7ad4510925b762ba3",
       "style": "IPY_MODEL_63db93ef7251427da2644643a5f52e2a",
       "value": " 3/3 [00:10&lt;00:00,  3.99s/it]"
      }
     },
     "78c8eefc38c6474fa027d6414ab01f75": {
      "model_module": "@jupyter-widgets/base",
      "model_module_version": "2.0.0",
      "model_name": "LayoutModel",
      "state": {}
     },
     "799c2ce912b542fe9177159be2e714af": {
      "model_module": "@jupyter-widgets/controls",
      "model_module_version": "2.0.0",
      "model_name": "FloatProgressModel",
      "state": {
       "bar_style": "success",
       "layout": "IPY_MODEL_edba1ebe3a684c6da97596e98b5211a5",
       "max": 14,
       "style": "IPY_MODEL_e4fee53c94fa471e8eb4b075e0b60ed2",
       "value": 14
      }
     },
     "79a44aa20b9946bc8b79ab2e2e5df6a2": {
      "model_module": "@jupyter-widgets/controls",
      "model_module_version": "2.0.0",
      "model_name": "FloatProgressModel",
      "state": {
       "bar_style": "success",
       "layout": "IPY_MODEL_46f145a243894c2d993c289862c13a8b",
       "max": 14,
       "style": "IPY_MODEL_a0618f7e69d04e0a9872eb21f6b60876",
       "value": 14
      }
     },
     "79d7c97072684d3f9b29378b6b243616": {
      "model_module": "@jupyter-widgets/controls",
      "model_module_version": "2.0.0",
      "model_name": "HBoxModel",
      "state": {
       "children": [
        "IPY_MODEL_7fc0e0843f474d44ac6ab47c69f5c3e3",
        "IPY_MODEL_80d0c8c416f94608b61f96459cf40fe7",
        "IPY_MODEL_fec48c92bd4346b18cec58b6d94fbb49"
       ],
       "layout": "IPY_MODEL_ee0c4e46207a4274a774314fe021f144"
      }
     },
     "7a10d58c1ecc444c83d13eb4996e5ee4": {
      "model_module": "@jupyter-widgets/base",
      "model_module_version": "2.0.0",
      "model_name": "LayoutModel",
      "state": {}
     },
     "7a28907fd43d4e51b721aa9335b3ddd1": {
      "model_module": "@jupyter-widgets/base",
      "model_module_version": "2.0.0",
      "model_name": "LayoutModel",
      "state": {}
     },
     "7a5f3f054d8d4da3aed21f20541bed79": {
      "model_module": "@jupyter-widgets/controls",
      "model_module_version": "2.0.0",
      "model_name": "HTMLModel",
      "state": {
       "layout": "IPY_MODEL_23305649c3294c339f312c5895d8215e",
       "style": "IPY_MODEL_589a4e209def475289c2189ea9d4b87d",
       "value": "  0%"
      }
     },
     "7aab256f06ef4b9e8565daa375e42e01": {
      "model_module": "@jupyter-widgets/controls",
      "model_module_version": "2.0.0",
      "model_name": "DescriptionStyleModel",
      "state": {
       "description_width": ""
      }
     },
     "7ac288d49970411bbc6f9fd4c48b352e": {
      "model_module": "@jupyter-widgets/controls",
      "model_module_version": "2.0.0",
      "model_name": "HTMLStyleModel",
      "state": {
       "description_width": "",
       "font_size": null,
       "text_color": null
      }
     },
     "7ad06790a5154b6986cba20d76f8be7d": {
      "model_module": "@jupyter-widgets/controls",
      "model_module_version": "2.0.0",
      "model_name": "ProgressStyleModel",
      "state": {
       "description_width": ""
      }
     },
     "7aedc26c48254a838669f450a1fcbb22": {
      "model_module": "@jupyter-widgets/controls",
      "model_module_version": "2.0.0",
      "model_name": "ProgressStyleModel",
      "state": {
       "description_width": ""
      }
     },
     "7b671e2e52f24c399d68c55d193f4624": {
      "model_module": "@jupyter-widgets/controls",
      "model_module_version": "2.0.0",
      "model_name": "HTMLModel",
      "state": {
       "layout": "IPY_MODEL_1b3e9c32128b4afd82e6239a2c210fd1",
       "style": "IPY_MODEL_837873934a2b49d7b1739352bf6c8c7c",
       "value": " 3/3 [00:10&lt;00:00,  4.20s/it]"
      }
     },
     "7b937f4aa0db46cbbdf18c146a4d8d9d": {
      "model_module": "@jupyter-widgets/base",
      "model_module_version": "2.0.0",
      "model_name": "LayoutModel",
      "state": {}
     },
     "7b94f9a54ba547ecaa1e06fb565d1e14": {
      "model_module": "@jupyter-widgets/controls",
      "model_module_version": "2.0.0",
      "model_name": "HBoxModel",
      "state": {
       "children": [
        "IPY_MODEL_0b4691c9dc8c4730b2406addff4465cf",
        "IPY_MODEL_195bf44553064ef9b5c442ed7f8d14c0",
        "IPY_MODEL_68639f2e8c1c4e3289e0f6d8dce28243"
       ],
       "layout": "IPY_MODEL_2675acb784a64d10b3c0d15cb32666e4"
      }
     },
     "7bc1387af95243a4936c14134903bc0d": {
      "model_module": "@jupyter-widgets/base",
      "model_module_version": "2.0.0",
      "model_name": "LayoutModel",
      "state": {}
     },
     "7c0f779c53b24b90bfd89261b716e72d": {
      "model_module": "@jupyter-widgets/controls",
      "model_module_version": "2.0.0",
      "model_name": "DescriptionStyleModel",
      "state": {
       "description_width": ""
      }
     },
     "7c31ea7a778745c7b6d783ad107c3f8b": {
      "model_module": "@jupyter-widgets/controls",
      "model_module_version": "2.0.0",
      "model_name": "ProgressStyleModel",
      "state": {
       "description_width": ""
      }
     },
     "7cdbaf6f3ca74f5f9129c7b62ff0fad9": {
      "model_module": "@jupyter-widgets/base",
      "model_module_version": "2.0.0",
      "model_name": "LayoutModel",
      "state": {}
     },
     "7d1f068199244ed6b81817ea80f86c30": {
      "model_module": "@jupyter-widgets/base",
      "model_module_version": "2.0.0",
      "model_name": "LayoutModel",
      "state": {}
     },
     "7e6348b6f12249d5968b9eb97f166010": {
      "model_module": "@jupyter-widgets/controls",
      "model_module_version": "2.0.0",
      "model_name": "DescriptionStyleModel",
      "state": {
       "description_width": ""
      }
     },
     "7e6cc6a679764955ae923d5a7ffce52d": {
      "model_module": "@jupyter-widgets/base",
      "model_module_version": "2.0.0",
      "model_name": "LayoutModel",
      "state": {}
     },
     "7e75042516144e45b782a1306aa9391c": {
      "model_module": "@jupyter-widgets/base",
      "model_module_version": "2.0.0",
      "model_name": "LayoutModel",
      "state": {}
     },
     "7eae24d97b304548b79fa6b8c4f0440c": {
      "model_module": "@jupyter-widgets/controls",
      "model_module_version": "2.0.0",
      "model_name": "HTMLModel",
      "state": {
       "layout": "IPY_MODEL_ab1b358f19404b43ab69060dc71719fd",
       "style": "IPY_MODEL_98b51c8e0b6446d884029b755913174d",
       "value": " 0/6 [00:00&lt;?, ?it/s]"
      }
     },
     "7f39e4fb792e4f0dbe1c7c27002d693a": {
      "model_module": "@jupyter-widgets/controls",
      "model_module_version": "2.0.0",
      "model_name": "FloatProgressModel",
      "state": {
       "bar_style": "success",
       "layout": "IPY_MODEL_81b26703a68944f4ab93ad79e9c80094",
       "max": 14,
       "style": "IPY_MODEL_a4587bcd144e43aca297d025ad154820",
       "value": 14
      }
     },
     "7fc0e0843f474d44ac6ab47c69f5c3e3": {
      "model_module": "@jupyter-widgets/controls",
      "model_module_version": "2.0.0",
      "model_name": "HTMLModel",
      "state": {
       "layout": "IPY_MODEL_623a9efab414447da1c1ae61858f5778",
       "style": "IPY_MODEL_5fe97e3ddaf541e8bb132154c246ac91",
       "value": "100%"
      }
     },
     "801c18dea9304ecbb6bb0636069827d4": {
      "model_module": "@jupyter-widgets/base",
      "model_module_version": "2.0.0",
      "model_name": "LayoutModel",
      "state": {}
     },
     "802c5562f59f42ef96997de1b9feb3b5": {
      "model_module": "@jupyter-widgets/controls",
      "model_module_version": "2.0.0",
      "model_name": "HTMLModel",
      "state": {
       "layout": "IPY_MODEL_a99c5e20d6d7423181e14969ec0ffc55",
       "style": "IPY_MODEL_edd4ff7f3e974300b167832d9129ddc9",
       "value": "100%"
      }
     },
     "8039000c118c4b35bc9ffcc4d13b27f3": {
      "model_module": "@jupyter-widgets/controls",
      "model_module_version": "2.0.0",
      "model_name": "HTMLModel",
      "state": {
       "layout": "IPY_MODEL_084efb17fade418aac55ccf88c99373d",
       "style": "IPY_MODEL_fcae490625734c64bdd2385f2511ea70",
       "value": " 14/14 [00:37&lt;00:00,  2.77s/it]"
      }
     },
     "805874e27f1a45e1b89fb0c287a680a8": {
      "model_module": "@jupyter-widgets/controls",
      "model_module_version": "2.0.0",
      "model_name": "DescriptionStyleModel",
      "state": {
       "description_width": ""
      }
     },
     "809b845a947d4eceaa9d7201273254c6": {
      "model_module": "@jupyter-widgets/base",
      "model_module_version": "2.0.0",
      "model_name": "LayoutModel",
      "state": {}
     },
     "80c763c7699b4ff49a71253aa16e9b40": {
      "model_module": "@jupyter-widgets/base",
      "model_module_version": "2.0.0",
      "model_name": "LayoutModel",
      "state": {}
     },
     "80d0c8c416f94608b61f96459cf40fe7": {
      "model_module": "@jupyter-widgets/controls",
      "model_module_version": "2.0.0",
      "model_name": "FloatProgressModel",
      "state": {
       "bar_style": "success",
       "layout": "IPY_MODEL_7e75042516144e45b782a1306aa9391c",
       "max": 6,
       "style": "IPY_MODEL_b8816800b87d481bb2bae8c7a9c6e818",
       "value": 6
      }
     },
     "810d595243204b40860e6dae8429371f": {
      "model_module": "@jupyter-widgets/controls",
      "model_module_version": "2.0.0",
      "model_name": "HTMLModel",
      "state": {
       "layout": "IPY_MODEL_835227c5d2954262939a6cba31a5dc46",
       "style": "IPY_MODEL_50f4f2ca4dba4a54b2e2e14d411ef914",
       "value": " 6/6 [00:11&lt;00:00,  2.78s/it]"
      }
     },
     "8119cd3961734583bf6db0c483e7f3a5": {
      "model_module": "@jupyter-widgets/controls",
      "model_module_version": "2.0.0",
      "model_name": "HTMLModel",
      "state": {
       "layout": "IPY_MODEL_0f08dbddfbf34a21a5d145735909cfec",
       "style": "IPY_MODEL_a2dc4e35c9ca48d3a6e51fc5cefd0ced",
       "value": " 14/14 [00:34&lt;00:00,  2.58s/it]"
      }
     },
     "81219c097ac744b69ad4e171ef739df5": {
      "model_module": "@jupyter-widgets/controls",
      "model_module_version": "2.0.0",
      "model_name": "DescriptionStyleModel",
      "state": {
       "description_width": ""
      }
     },
     "817301f479794c12b0e516e4b27ca565": {
      "model_module": "@jupyter-widgets/base",
      "model_module_version": "2.0.0",
      "model_name": "LayoutModel",
      "state": {}
     },
     "8184abafd437439481a39fe8f50c41bf": {
      "model_module": "@jupyter-widgets/controls",
      "model_module_version": "2.0.0",
      "model_name": "ProgressStyleModel",
      "state": {
       "description_width": ""
      }
     },
     "81b26703a68944f4ab93ad79e9c80094": {
      "model_module": "@jupyter-widgets/base",
      "model_module_version": "2.0.0",
      "model_name": "LayoutModel",
      "state": {}
     },
     "81e017f82e2b4d11af2c8ce57dcb546b": {
      "model_module": "@jupyter-widgets/base",
      "model_module_version": "2.0.0",
      "model_name": "LayoutModel",
      "state": {}
     },
     "81fd12c7fc3c414b93a7481f3fb7da1e": {
      "model_module": "@jupyter-widgets/controls",
      "model_module_version": "2.0.0",
      "model_name": "HTMLModel",
      "state": {
       "layout": "IPY_MODEL_276ce3320f1349639ffd64105f12b350",
       "style": "IPY_MODEL_77027611d9f94233a558744125d779c3",
       "value": "100%"
      }
     },
     "8217a65ec82749c384cfde988d04b47e": {
      "model_module": "@jupyter-widgets/base",
      "model_module_version": "2.0.0",
      "model_name": "LayoutModel",
      "state": {}
     },
     "82c29639356a4a678ac451eeb04f30de": {
      "model_module": "@jupyter-widgets/base",
      "model_module_version": "2.0.0",
      "model_name": "LayoutModel",
      "state": {}
     },
     "82fb3cf99ebb4e96ac943460c9281ad7": {
      "model_module": "@jupyter-widgets/controls",
      "model_module_version": "2.0.0",
      "model_name": "HTMLModel",
      "state": {
       "layout": "IPY_MODEL_4df9ea255ee04057a55797a504a03021",
       "style": "IPY_MODEL_f4e82aa0dad7492e9f251f424c0459f3",
       "value": " 3/3 [00:11&lt;00:00,  4.35s/it]"
      }
     },
     "83367f94883e4fd6883bf6596850b72c": {
      "model_module": "@jupyter-widgets/controls",
      "model_module_version": "2.0.0",
      "model_name": "ProgressStyleModel",
      "state": {
       "description_width": ""
      }
     },
     "835227c5d2954262939a6cba31a5dc46": {
      "model_module": "@jupyter-widgets/base",
      "model_module_version": "2.0.0",
      "model_name": "LayoutModel",
      "state": {}
     },
     "837873934a2b49d7b1739352bf6c8c7c": {
      "model_module": "@jupyter-widgets/controls",
      "model_module_version": "2.0.0",
      "model_name": "DescriptionStyleModel",
      "state": {
       "description_width": ""
      }
     },
     "83c2fac7843c4663a1b118a4efb743db": {
      "model_module": "@jupyter-widgets/controls",
      "model_module_version": "2.0.0",
      "model_name": "HTMLModel",
      "state": {
       "layout": "IPY_MODEL_5592b4ced2b04897acb15b7d476b9740",
       "style": "IPY_MODEL_f13ca19e18544997bae83876d0159c0a",
       "value": "100%"
      }
     },
     "845af8d2da2a4ab4ad8df8b4e2341619": {
      "model_module": "@jupyter-widgets/controls",
      "model_module_version": "2.0.0",
      "model_name": "DescriptionStyleModel",
      "state": {
       "description_width": ""
      }
     },
     "850b5faee343454caff7bcb954c1b297": {
      "model_module": "@jupyter-widgets/base",
      "model_module_version": "2.0.0",
      "model_name": "LayoutModel",
      "state": {}
     },
     "854dbd68562548558ed1aa363a4554d2": {
      "model_module": "@jupyter-widgets/controls",
      "model_module_version": "2.0.0",
      "model_name": "HTMLModel",
      "state": {
       "layout": "IPY_MODEL_530227233cdb4d7bbe6a127d11bbbc96",
       "style": "IPY_MODEL_5f3c41984e834353b4bd3fbb27a25c2c",
       "value": " 3/3 [00:10&lt;00:00,  4.26s/it]"
      }
     },
     "856fc5b6342d48619ba1ba16c73ed3f4": {
      "model_module": "@jupyter-widgets/controls",
      "model_module_version": "2.0.0",
      "model_name": "HTMLStyleModel",
      "state": {
       "description_width": "",
       "font_size": null,
       "text_color": null
      }
     },
     "8588cbf7c52d4f418839811101f446cc": {
      "model_module": "@jupyter-widgets/base",
      "model_module_version": "2.0.0",
      "model_name": "LayoutModel",
      "state": {}
     },
     "85a207da415748b88779087c996cfbbe": {
      "model_module": "@jupyter-widgets/base",
      "model_module_version": "2.0.0",
      "model_name": "LayoutModel",
      "state": {}
     },
     "85bac26c66964215ac5fdf16b0e39b66": {
      "model_module": "@jupyter-widgets/base",
      "model_module_version": "2.0.0",
      "model_name": "LayoutModel",
      "state": {}
     },
     "85d9ce7fbbea4356a2844cb8e9bd2564": {
      "model_module": "@jupyter-widgets/controls",
      "model_module_version": "2.0.0",
      "model_name": "DescriptionStyleModel",
      "state": {
       "description_width": ""
      }
     },
     "85e61beb995d4af989a3d453931372b6": {
      "model_module": "@jupyter-widgets/controls",
      "model_module_version": "2.0.0",
      "model_name": "HBoxModel",
      "state": {
       "children": [
        "IPY_MODEL_57dfcbb0414848a7afaf25ae5b8f6318",
        "IPY_MODEL_59cb8b51d70545db801f62bf91dde842",
        "IPY_MODEL_7b671e2e52f24c399d68c55d193f4624"
       ],
       "layout": "IPY_MODEL_e5627be0bb0747cbb16d4c50cdc94823"
      }
     },
     "85ef1aa4fcf8440085059dd1730c10ce": {
      "model_module": "@jupyter-widgets/controls",
      "model_module_version": "2.0.0",
      "model_name": "HBoxModel",
      "state": {
       "children": [
        "IPY_MODEL_f66bdd911a814945be5752c9df45f480",
        "IPY_MODEL_79a44aa20b9946bc8b79ab2e2e5df6a2",
        "IPY_MODEL_47f98225af024bc7af24fb7f21e52399"
       ],
       "layout": "IPY_MODEL_212dcdc1e2d240d883b18393d45acda8"
      }
     },
     "86408805e10e4b36b31272710102a681": {
      "model_module": "@jupyter-widgets/controls",
      "model_module_version": "2.0.0",
      "model_name": "HTMLStyleModel",
      "state": {
       "description_width": "",
       "font_size": null,
       "text_color": null
      }
     },
     "86b7cab297b94e7ab2ac786d7cd1fa55": {
      "model_module": "@jupyter-widgets/base",
      "model_module_version": "2.0.0",
      "model_name": "LayoutModel",
      "state": {}
     },
     "8758e08007c147cc995a9cd778321546": {
      "model_module": "@jupyter-widgets/base",
      "model_module_version": "2.0.0",
      "model_name": "LayoutModel",
      "state": {}
     },
     "87594e0f75114cac9ea7e461d39e53ea": {
      "model_module": "@jupyter-widgets/controls",
      "model_module_version": "2.0.0",
      "model_name": "DescriptionStyleModel",
      "state": {
       "description_width": ""
      }
     },
     "876f19a2a1274dfaab89aed4f6d34307": {
      "model_module": "@jupyter-widgets/controls",
      "model_module_version": "2.0.0",
      "model_name": "ProgressStyleModel",
      "state": {
       "description_width": ""
      }
     },
     "87797a99938f45d29bd835be4b5ec572": {
      "model_module": "@jupyter-widgets/base",
      "model_module_version": "2.0.0",
      "model_name": "LayoutModel",
      "state": {}
     },
     "87bd516446324c848607396a35fbd10d": {
      "model_module": "@jupyter-widgets/controls",
      "model_module_version": "2.0.0",
      "model_name": "HTMLModel",
      "state": {
       "layout": "IPY_MODEL_115a126a5dc14d9e9e0c1a91e79ef53e",
       "style": "IPY_MODEL_5649d18abbde4f47a03b99cee129ca40",
       "value": " 3/3 [00:11&lt;00:00,  4.39s/it]"
      }
     },
     "87ed297c898a4aa8a059c3d7c6418959": {
      "model_module": "@jupyter-widgets/base",
      "model_module_version": "2.0.0",
      "model_name": "LayoutModel",
      "state": {}
     },
     "88209ef64d6c4b459ebea93a0eacd68c": {
      "model_module": "@jupyter-widgets/controls",
      "model_module_version": "2.0.0",
      "model_name": "FloatProgressModel",
      "state": {
       "bar_style": "success",
       "layout": "IPY_MODEL_8a24378d55ee46b6877d4dec1c9a5199",
       "max": 6,
       "style": "IPY_MODEL_91ba93a175354e73ad7477e0f4bdf81a",
       "value": 6
      }
     },
     "8882d1d7c3f1433a9b9101a888037ec7": {
      "model_module": "@jupyter-widgets/controls",
      "model_module_version": "2.0.0",
      "model_name": "HTMLModel",
      "state": {
       "layout": "IPY_MODEL_f65d8a8840ca449cbde70bef05e56953",
       "style": "IPY_MODEL_b0967127666b443cb813bf91f7ecfedf",
       "value": "100%"
      }
     },
     "8884c47ab3c441ce8df0a22eac4b497e": {
      "model_module": "@jupyter-widgets/base",
      "model_module_version": "2.0.0",
      "model_name": "LayoutModel",
      "state": {}
     },
     "88b61669524141039a422c0c834da8c4": {
      "model_module": "@jupyter-widgets/base",
      "model_module_version": "2.0.0",
      "model_name": "LayoutModel",
      "state": {}
     },
     "8981bf35b70148559775a41ed92d1ed1": {
      "model_module": "@jupyter-widgets/base",
      "model_module_version": "2.0.0",
      "model_name": "LayoutModel",
      "state": {}
     },
     "89df800d4df747eaa75255a756977bf8": {
      "model_module": "@jupyter-widgets/controls",
      "model_module_version": "2.0.0",
      "model_name": "ProgressStyleModel",
      "state": {
       "description_width": ""
      }
     },
     "8a03ad0d87be4739985ebdbd8e3f6821": {
      "model_module": "@jupyter-widgets/controls",
      "model_module_version": "2.0.0",
      "model_name": "HTMLModel",
      "state": {
       "layout": "IPY_MODEL_ba29168235254634b5b1b682e0b4ae4c",
       "style": "IPY_MODEL_bc59be59c8e340218f148d15b9e3c513",
       "value": " 14/14 [00:34&lt;00:00,  2.54s/it]"
      }
     },
     "8a24378d55ee46b6877d4dec1c9a5199": {
      "model_module": "@jupyter-widgets/base",
      "model_module_version": "2.0.0",
      "model_name": "LayoutModel",
      "state": {}
     },
     "8b057534064a4e3686cd34358bb93401": {
      "model_module": "@jupyter-widgets/controls",
      "model_module_version": "2.0.0",
      "model_name": "HTMLModel",
      "state": {
       "layout": "IPY_MODEL_bfc48091ec6d4aa88c7cd6e624b2063f",
       "style": "IPY_MODEL_805874e27f1a45e1b89fb0c287a680a8",
       "value": " 3/3 [00:10&lt;00:00,  4.25s/it]"
      }
     },
     "8b16a795483843d3b70dba6e1fd26a29": {
      "model_module": "@jupyter-widgets/base",
      "model_module_version": "2.0.0",
      "model_name": "LayoutModel",
      "state": {}
     },
     "8b612f576d034f368bf01513ba1fdbf7": {
      "model_module": "@jupyter-widgets/controls",
      "model_module_version": "2.0.0",
      "model_name": "HTMLStyleModel",
      "state": {
       "description_width": "",
       "font_size": null,
       "text_color": null
      }
     },
     "8ba4f31efed1433d8576bf8f21e073b8": {
      "model_module": "@jupyter-widgets/controls",
      "model_module_version": "2.0.0",
      "model_name": "HTMLModel",
      "state": {
       "layout": "IPY_MODEL_a67580eb9d634cf69c7c9c303da15028",
       "style": "IPY_MODEL_582ab9a756b849b2b26d95663d2ff9e2",
       "value": "100%"
      }
     },
     "8bde0caeebf740c4bc667fbfa72d02ed": {
      "model_module": "@jupyter-widgets/controls",
      "model_module_version": "2.0.0",
      "model_name": "HTMLModel",
      "state": {
       "layout": "IPY_MODEL_335ac4086e8e40ea906ff302e06b35ec",
       "style": "IPY_MODEL_17800447be014770ae05c74ce802f81c",
       "value": " 71%"
      }
     },
     "8c4974d3c01f4a0ab4612bcd9d2c487e": {
      "model_module": "@jupyter-widgets/controls",
      "model_module_version": "2.0.0",
      "model_name": "FloatProgressModel",
      "state": {
       "bar_style": "success",
       "layout": "IPY_MODEL_06cd218c9ce0406090f8b3651b412fe3",
       "max": 3,
       "style": "IPY_MODEL_069d1da5bb904bb092d378f310a159d1",
       "value": 3
      }
     },
     "8c9fb845d586409ebe1a3b099073ed87": {
      "model_module": "@jupyter-widgets/base",
      "model_module_version": "2.0.0",
      "model_name": "LayoutModel",
      "state": {}
     },
     "8ccf6c8ad7a94dee96a0b8f1c326da34": {
      "model_module": "@jupyter-widgets/controls",
      "model_module_version": "2.0.0",
      "model_name": "DescriptionStyleModel",
      "state": {
       "description_width": ""
      }
     },
     "8d0d8c956fc0459f905a8b1a41ffe4fe": {
      "model_module": "@jupyter-widgets/base",
      "model_module_version": "2.0.0",
      "model_name": "LayoutModel",
      "state": {}
     },
     "8d4c233f2bd34fc785689c28a4443ae4": {
      "model_module": "@jupyter-widgets/base",
      "model_module_version": "2.0.0",
      "model_name": "LayoutModel",
      "state": {}
     },
     "8d537c8aa9584d61a56bb5641182a29e": {
      "model_module": "@jupyter-widgets/base",
      "model_module_version": "2.0.0",
      "model_name": "LayoutModel",
      "state": {}
     },
     "8d594a3eb60f4356a1bd8855a8fbab5e": {
      "model_module": "@jupyter-widgets/controls",
      "model_module_version": "2.0.0",
      "model_name": "HTMLModel",
      "state": {
       "layout": "IPY_MODEL_2e67d915b16444b9b3a482f2cd5cc527",
       "style": "IPY_MODEL_e58ad84b62ec439799d1916be0c1311f",
       "value": "100%"
      }
     },
     "8db24025e8b24c4a812fbe69c0ae9de9": {
      "model_module": "@jupyter-widgets/controls",
      "model_module_version": "2.0.0",
      "model_name": "FloatProgressModel",
      "state": {
       "bar_style": "success",
       "layout": "IPY_MODEL_415a0ab04e254c019410b5f8792449de",
       "max": 6,
       "style": "IPY_MODEL_a1e775eb43e44bc4acd045fc2f754041",
       "value": 6
      }
     },
     "8de9a6074fbd4b38a5a91f1463b54fc9": {
      "model_module": "@jupyter-widgets/base",
      "model_module_version": "2.0.0",
      "model_name": "LayoutModel",
      "state": {}
     },
     "8e28b38aef194897b6131f4317563b9f": {
      "model_module": "@jupyter-widgets/controls",
      "model_module_version": "2.0.0",
      "model_name": "DescriptionStyleModel",
      "state": {
       "description_width": ""
      }
     },
     "8ec11039193343d798c4d59b2cfe705b": {
      "model_module": "@jupyter-widgets/controls",
      "model_module_version": "2.0.0",
      "model_name": "DescriptionStyleModel",
      "state": {
       "description_width": ""
      }
     },
     "8ed4ea60c228441bb58a109bfdb44d87": {
      "model_module": "@jupyter-widgets/base",
      "model_module_version": "2.0.0",
      "model_name": "LayoutModel",
      "state": {}
     },
     "8f3469b12b6d41cca996c3174a8a94d3": {
      "model_module": "@jupyter-widgets/controls",
      "model_module_version": "2.0.0",
      "model_name": "FloatProgressModel",
      "state": {
       "bar_style": "success",
       "layout": "IPY_MODEL_d23780089de748e3a6494a99c3811a90",
       "max": 14,
       "style": "IPY_MODEL_3bf48ed08eed4ac5a645a04c7acea2f0",
       "value": 14
      }
     },
     "8f409e26f6304a798feedac9af5080d5": {
      "model_module": "@jupyter-widgets/base",
      "model_module_version": "2.0.0",
      "model_name": "LayoutModel",
      "state": {}
     },
     "8f5256878fcc4418932eb682a7007e91": {
      "model_module": "@jupyter-widgets/controls",
      "model_module_version": "2.0.0",
      "model_name": "DescriptionStyleModel",
      "state": {
       "description_width": ""
      }
     },
     "8f744712f1da42b693089113de819dfb": {
      "model_module": "@jupyter-widgets/controls",
      "model_module_version": "2.0.0",
      "model_name": "HTMLModel",
      "state": {
       "layout": "IPY_MODEL_e8e8410b949c4d85ab8ffc6736cacd90",
       "style": "IPY_MODEL_3f5fc16ddecb4154990b5e1d937d9c61",
       "value": " 6/6 [00:08&lt;00:00,  2.00s/it]"
      }
     },
     "8f87a82165fc452397ac70cad966bbe4": {
      "model_module": "@jupyter-widgets/controls",
      "model_module_version": "2.0.0",
      "model_name": "ProgressStyleModel",
      "state": {
       "description_width": ""
      }
     },
     "8fa32913544f4ff7ae6cc19b754896c1": {
      "model_module": "@jupyter-widgets/base",
      "model_module_version": "2.0.0",
      "model_name": "LayoutModel",
      "state": {}
     },
     "8ff573009e114a3f87d3b18fc70f28cc": {
      "model_module": "@jupyter-widgets/controls",
      "model_module_version": "2.0.0",
      "model_name": "HTMLModel",
      "state": {
       "layout": "IPY_MODEL_809b845a947d4eceaa9d7201273254c6",
       "style": "IPY_MODEL_d19518513e8a44dfa6fb2814c8c8f05d",
       "value": " 3/3 [00:10&lt;00:00,  4.19s/it]"
      }
     },
     "90220a88101d49e888b6f83bfb6df436": {
      "model_module": "@jupyter-widgets/base",
      "model_module_version": "2.0.0",
      "model_name": "LayoutModel",
      "state": {}
     },
     "902f154135734038946c4cb43ac040ea": {
      "model_module": "@jupyter-widgets/controls",
      "model_module_version": "2.0.0",
      "model_name": "FloatProgressModel",
      "state": {
       "bar_style": "success",
       "layout": "IPY_MODEL_86b7cab297b94e7ab2ac786d7cd1fa55",
       "max": 6,
       "style": "IPY_MODEL_a7a16d4f0fb34f68b8745330c293ea9d",
       "value": 6
      }
     },
     "903eacd04bae46db83092bc1e8f150e2": {
      "model_module": "@jupyter-widgets/base",
      "model_module_version": "2.0.0",
      "model_name": "LayoutModel",
      "state": {}
     },
     "9081a73355fa4afcacf5da26e5f3a77f": {
      "model_module": "@jupyter-widgets/controls",
      "model_module_version": "2.0.0",
      "model_name": "HBoxModel",
      "state": {
       "children": [
        "IPY_MODEL_96efe36f1bb949629a3d121c3028b8bb",
        "IPY_MODEL_f088a133a8804674b9dd7f297ffbf9c2",
        "IPY_MODEL_d83e8dcffaef45478777c81975daeb66"
       ],
       "layout": "IPY_MODEL_8d537c8aa9584d61a56bb5641182a29e"
      }
     },
     "90847593a34c4349a601197e200e330b": {
      "model_module": "@jupyter-widgets/controls",
      "model_module_version": "2.0.0",
      "model_name": "FloatProgressModel",
      "state": {
       "bar_style": "success",
       "layout": "IPY_MODEL_3e038dd87e8e4559b113c386a0626299",
       "max": 14,
       "style": "IPY_MODEL_8f87a82165fc452397ac70cad966bbe4",
       "value": 14
      }
     },
     "90923c837e1b4ab9bc13f1267d9159d8": {
      "model_module": "@jupyter-widgets/base",
      "model_module_version": "2.0.0",
      "model_name": "LayoutModel",
      "state": {}
     },
     "917f0d2e1d3647cc9e7a51370040f48c": {
      "model_module": "@jupyter-widgets/controls",
      "model_module_version": "2.0.0",
      "model_name": "HTMLStyleModel",
      "state": {
       "description_width": "",
       "font_size": null,
       "text_color": null
      }
     },
     "91ba93a175354e73ad7477e0f4bdf81a": {
      "model_module": "@jupyter-widgets/controls",
      "model_module_version": "2.0.0",
      "model_name": "ProgressStyleModel",
      "state": {
       "description_width": ""
      }
     },
     "9216e0e0907040929f6e274b03ee6243": {
      "model_module": "@jupyter-widgets/controls",
      "model_module_version": "2.0.0",
      "model_name": "ProgressStyleModel",
      "state": {
       "description_width": ""
      }
     },
     "924612cd146e4e69b75731ce2c3641e8": {
      "model_module": "@jupyter-widgets/controls",
      "model_module_version": "2.0.0",
      "model_name": "HBoxModel",
      "state": {
       "children": [
        "IPY_MODEL_8d594a3eb60f4356a1bd8855a8fbab5e",
        "IPY_MODEL_6a06014e46784b398bbbdbee3663f860",
        "IPY_MODEL_0753c14d260c47b4b76e724d61b7626e"
       ],
       "layout": "IPY_MODEL_1550f4570c0649d281d386ee91811c1a"
      }
     },
     "93384c970167447d96b9fbe341ba03f3": {
      "model_module": "@jupyter-widgets/base",
      "model_module_version": "2.0.0",
      "model_name": "LayoutModel",
      "state": {}
     },
     "9394526ac9c941739cd411acfd526766": {
      "model_module": "@jupyter-widgets/base",
      "model_module_version": "2.0.0",
      "model_name": "LayoutModel",
      "state": {}
     },
     "93d601e2d59e468bb0a2e59df885b6bb": {
      "model_module": "@jupyter-widgets/base",
      "model_module_version": "2.0.0",
      "model_name": "LayoutModel",
      "state": {}
     },
     "945688e6560c48ad8c46b7294bd434b6": {
      "model_module": "@jupyter-widgets/controls",
      "model_module_version": "2.0.0",
      "model_name": "HTMLStyleModel",
      "state": {
       "description_width": "",
       "font_size": null,
       "text_color": null
      }
     },
     "946cadf61f5e47fd8270beb2329cf33b": {
      "model_module": "@jupyter-widgets/base",
      "model_module_version": "2.0.0",
      "model_name": "LayoutModel",
      "state": {}
     },
     "94b354bd31db4240b3abce5878a7f39e": {
      "model_module": "@jupyter-widgets/base",
      "model_module_version": "2.0.0",
      "model_name": "LayoutModel",
      "state": {}
     },
     "95300a5b30004cba8b3edd3a03b70613": {
      "model_module": "@jupyter-widgets/controls",
      "model_module_version": "2.0.0",
      "model_name": "DescriptionStyleModel",
      "state": {
       "description_width": ""
      }
     },
     "9598104261b74175b7595970dc69aa41": {
      "model_module": "@jupyter-widgets/controls",
      "model_module_version": "2.0.0",
      "model_name": "HBoxModel",
      "state": {
       "children": [
        "IPY_MODEL_08e2cf45c7c848ed83868e9a1f1ba967",
        "IPY_MODEL_219d72dd2d2b4dd7b8bba69df5cbc177",
        "IPY_MODEL_730913aaea4747af9cb8ab72603e2493"
       ],
       "layout": "IPY_MODEL_782e5b5a30014d79b29896c0c203222d"
      }
     },
     "95cfbf3086504b4ab9a1449d5cf78769": {
      "model_module": "@jupyter-widgets/controls",
      "model_module_version": "2.0.0",
      "model_name": "DescriptionStyleModel",
      "state": {
       "description_width": ""
      }
     },
     "9610b9e50bdc44d6ac6c7b4c9e8a6973": {
      "model_module": "@jupyter-widgets/controls",
      "model_module_version": "2.0.0",
      "model_name": "HBoxModel",
      "state": {
       "children": [
        "IPY_MODEL_42645fcaf4c64cf68824d93759c75bc8",
        "IPY_MODEL_d3134f14b8944f4987bb3b46c8f59e6d",
        "IPY_MODEL_6217b2e724b7488dbf152daf3fb7ff95"
       ],
       "layout": "IPY_MODEL_dc68bf3968c245a59d61247ef22df629"
      }
     },
     "963e6ff751eb492db8552071ba8a2b76": {
      "model_module": "@jupyter-widgets/controls",
      "model_module_version": "2.0.0",
      "model_name": "ProgressStyleModel",
      "state": {
       "description_width": ""
      }
     },
     "96b460c37817428197afea818ff1e4a5": {
      "model_module": "@jupyter-widgets/controls",
      "model_module_version": "2.0.0",
      "model_name": "HTMLModel",
      "state": {
       "layout": "IPY_MODEL_e40cca4a10a44e0dbd27b705095264cc",
       "style": "IPY_MODEL_3f0ca1a537944eababed72bd0d0b4031",
       "value": " 14/14 [00:35&lt;00:00,  2.59s/it]"
      }
     },
     "96efe36f1bb949629a3d121c3028b8bb": {
      "model_module": "@jupyter-widgets/controls",
      "model_module_version": "2.0.0",
      "model_name": "HTMLModel",
      "state": {
       "layout": "IPY_MODEL_e2df143c4ac449a490b970fc5d42903d",
       "style": "IPY_MODEL_74beaec67ac64b4f9e4ffd9764bd2b9d",
       "value": "100%"
      }
     },
     "9722c25d278d4c709a75c1528f7252d6": {
      "model_module": "@jupyter-widgets/base",
      "model_module_version": "2.0.0",
      "model_name": "LayoutModel",
      "state": {}
     },
     "97911fa7f7ff4b9ca533f84f14ba8a8d": {
      "model_module": "@jupyter-widgets/controls",
      "model_module_version": "2.0.0",
      "model_name": "DescriptionStyleModel",
      "state": {
       "description_width": ""
      }
     },
     "97bbbe30ec7f46b9aaa8e4ad4646ac93": {
      "model_module": "@jupyter-widgets/controls",
      "model_module_version": "2.0.0",
      "model_name": "HTMLModel",
      "state": {
       "layout": "IPY_MODEL_a287ddab9f4d4efbbc0febc60c8661ae",
       "style": "IPY_MODEL_4ad7e55c582c4f96bf747521fa1a880e",
       "value": " 3/14 [00:02&lt;00:05,  2.05it/s]"
      }
     },
     "97d2f02d0fb04261aec409b6acb27725": {
      "model_module": "@jupyter-widgets/controls",
      "model_module_version": "2.0.0",
      "model_name": "HTMLStyleModel",
      "state": {
       "description_width": "",
       "font_size": null,
       "text_color": null
      }
     },
     "982382b357b14ca8804bd87ffe32397e": {
      "model_module": "@jupyter-widgets/controls",
      "model_module_version": "2.0.0",
      "model_name": "HTMLModel",
      "state": {
       "layout": "IPY_MODEL_e631feec27f44638b2b4bcc59588718e",
       "style": "IPY_MODEL_c941c9c883be4ff7a4d90b55852afc96",
       "value": "100%"
      }
     },
     "98307e1ba8e542d28735e73168500439": {
      "model_module": "@jupyter-widgets/base",
      "model_module_version": "2.0.0",
      "model_name": "LayoutModel",
      "state": {}
     },
     "9853c5d67f5f48bb9813db5ee85adebb": {
      "model_module": "@jupyter-widgets/controls",
      "model_module_version": "2.0.0",
      "model_name": "ProgressStyleModel",
      "state": {
       "description_width": ""
      }
     },
     "9860d769f6e5456f8ab1d86485f89b89": {
      "model_module": "@jupyter-widgets/controls",
      "model_module_version": "2.0.0",
      "model_name": "HTMLModel",
      "state": {
       "layout": "IPY_MODEL_06d57aa711be4630a00b75bef4214d4c",
       "style": "IPY_MODEL_a3bcc7c717b049f4aa944f25a84dc4ef",
       "value": " 3/3 [00:10&lt;00:00,  4.14s/it]"
      }
     },
     "98b51c8e0b6446d884029b755913174d": {
      "model_module": "@jupyter-widgets/controls",
      "model_module_version": "2.0.0",
      "model_name": "HTMLStyleModel",
      "state": {
       "description_width": "",
       "font_size": null,
       "text_color": null
      }
     },
     "98cb9a5f782d406992c4ab9ddc0d89c4": {
      "model_module": "@jupyter-widgets/base",
      "model_module_version": "2.0.0",
      "model_name": "LayoutModel",
      "state": {}
     },
     "98ebb002e3a64642ad056d5f1b073578": {
      "model_module": "@jupyter-widgets/controls",
      "model_module_version": "2.0.0",
      "model_name": "HTMLModel",
      "state": {
       "layout": "IPY_MODEL_609bdb59378141f4a96e77ac1ac3c4d0",
       "style": "IPY_MODEL_9efb3a41c52e4f40bbec00d4a2d9a969",
       "value": " 3/3 [00:11&lt;00:00,  4.61s/it]"
      }
     },
     "99424901800049039cf89f5962ef052d": {
      "model_module": "@jupyter-widgets/controls",
      "model_module_version": "2.0.0",
      "model_name": "ProgressStyleModel",
      "state": {
       "description_width": ""
      }
     },
     "9a104c1a479a4b499033e7c555c78f9e": {
      "model_module": "@jupyter-widgets/controls",
      "model_module_version": "2.0.0",
      "model_name": "ProgressStyleModel",
      "state": {
       "description_width": ""
      }
     },
     "9a4b752de1ac4a439e4a44845e5667e5": {
      "model_module": "@jupyter-widgets/controls",
      "model_module_version": "2.0.0",
      "model_name": "DescriptionStyleModel",
      "state": {
       "description_width": ""
      }
     },
     "9ac45458d0f9497bac72211e8da9c1ce": {
      "model_module": "@jupyter-widgets/base",
      "model_module_version": "2.0.0",
      "model_name": "LayoutModel",
      "state": {}
     },
     "9b1bd763907b42879195badd1b69a3e8": {
      "model_module": "@jupyter-widgets/controls",
      "model_module_version": "2.0.0",
      "model_name": "HTMLModel",
      "state": {
       "layout": "IPY_MODEL_09b9674aaee24f8ba6ac3d70e04734de",
       "style": "IPY_MODEL_dd6570846ab0438d81b9a130d3dcc1c4",
       "value": " 6/6 [00:11&lt;00:00,  2.78s/it]"
      }
     },
     "9b24a19000ef42af8a952c53a70a91cf": {
      "model_module": "@jupyter-widgets/controls",
      "model_module_version": "2.0.0",
      "model_name": "HTMLStyleModel",
      "state": {
       "description_width": "",
       "font_size": null,
       "text_color": null
      }
     },
     "9b335006471b4b01972e28175f5bd5a6": {
      "model_module": "@jupyter-widgets/controls",
      "model_module_version": "2.0.0",
      "model_name": "HBoxModel",
      "state": {
       "children": [
        "IPY_MODEL_f37ee6991b5b4c67b17f201ce50e2880",
        "IPY_MODEL_2551adbdd0364fdcb7901efe8a24fbd1",
        "IPY_MODEL_a9752cad2c2341dfb8ce3121a4d1ae82"
       ],
       "layout": "IPY_MODEL_67bd004a9cc54ca98a945c66e98a8dc5"
      }
     },
     "9bd67eb962624cffae4c442e70298f11": {
      "model_module": "@jupyter-widgets/controls",
      "model_module_version": "2.0.0",
      "model_name": "HTMLModel",
      "state": {
       "layout": "IPY_MODEL_6924f9666c14408f974c8626cb341bf0",
       "style": "IPY_MODEL_0325411a73a24e76a5a828c1af2f77f4",
       "value": " 14/14 [00:34&lt;00:00,  2.58s/it]"
      }
     },
     "9c92d863eca84c9a8609b6367f2c1d8b": {
      "model_module": "@jupyter-widgets/controls",
      "model_module_version": "2.0.0",
      "model_name": "HTMLStyleModel",
      "state": {
       "description_width": "",
       "font_size": null,
       "text_color": null
      }
     },
     "9c9cd8f1d6b24d63a4d2ad548ec9f261": {
      "model_module": "@jupyter-widgets/controls",
      "model_module_version": "2.0.0",
      "model_name": "HBoxModel",
      "state": {
       "children": [
        "IPY_MODEL_0d5bdf9af54d439ca3f4b690da144284",
        "IPY_MODEL_d73879b228ab41edbd87b375a6c4d3eb",
        "IPY_MODEL_5363fb3cea7e48a79ae2d3eee8d3f103"
       ],
       "layout": "IPY_MODEL_85bac26c66964215ac5fdf16b0e39b66"
      }
     },
     "9cb0f87fdb62465a8ac2ef169db7b6b9": {
      "model_module": "@jupyter-widgets/controls",
      "model_module_version": "2.0.0",
      "model_name": "ProgressStyleModel",
      "state": {
       "description_width": ""
      }
     },
     "9cd79e32341d49e79b16310ec2053281": {
      "model_module": "@jupyter-widgets/controls",
      "model_module_version": "2.0.0",
      "model_name": "DescriptionStyleModel",
      "state": {
       "description_width": ""
      }
     },
     "9cf5eea599ac405eba88a368b841cb7b": {
      "model_module": "@jupyter-widgets/base",
      "model_module_version": "2.0.0",
      "model_name": "LayoutModel",
      "state": {}
     },
     "9ee613f03cca4b73a8bc20062ed816c1": {
      "model_module": "@jupyter-widgets/controls",
      "model_module_version": "2.0.0",
      "model_name": "HTMLModel",
      "state": {
       "layout": "IPY_MODEL_323409be01bc4fac9783bd8238d5b4de",
       "style": "IPY_MODEL_7c0f779c53b24b90bfd89261b716e72d",
       "value": " 14/14 [00:37&lt;00:00,  2.74s/it]"
      }
     },
     "9efb3a41c52e4f40bbec00d4a2d9a969": {
      "model_module": "@jupyter-widgets/controls",
      "model_module_version": "2.0.0",
      "model_name": "DescriptionStyleModel",
      "state": {
       "description_width": ""
      }
     },
     "9f05b8a4032d4eeaa91f17c8df6043fd": {
      "model_module": "@jupyter-widgets/controls",
      "model_module_version": "2.0.0",
      "model_name": "DescriptionStyleModel",
      "state": {
       "description_width": ""
      }
     },
     "9f7187b4ecb342f2a742a39abb381f9d": {
      "model_module": "@jupyter-widgets/base",
      "model_module_version": "2.0.0",
      "model_name": "LayoutModel",
      "state": {}
     },
     "a001f2d8f0ac46178a6eaf43f36f248e": {
      "model_module": "@jupyter-widgets/base",
      "model_module_version": "2.0.0",
      "model_name": "LayoutModel",
      "state": {}
     },
     "a0123662844f4a149a0432231f34ba9f": {
      "model_module": "@jupyter-widgets/controls",
      "model_module_version": "2.0.0",
      "model_name": "DescriptionStyleModel",
      "state": {
       "description_width": ""
      }
     },
     "a040616087b0471381e02100d008c999": {
      "model_module": "@jupyter-widgets/controls",
      "model_module_version": "2.0.0",
      "model_name": "FloatProgressModel",
      "state": {
       "bar_style": "success",
       "layout": "IPY_MODEL_d87c3678554943cfaf04488344ff5fe6",
       "max": 3,
       "style": "IPY_MODEL_a3353040007c440c941c724a6c7c4a86",
       "value": 3
      }
     },
     "a05d377b458949ba8d7dfb4733c297c6": {
      "model_module": "@jupyter-widgets/base",
      "model_module_version": "2.0.0",
      "model_name": "LayoutModel",
      "state": {}
     },
     "a0618f7e69d04e0a9872eb21f6b60876": {
      "model_module": "@jupyter-widgets/controls",
      "model_module_version": "2.0.0",
      "model_name": "ProgressStyleModel",
      "state": {
       "description_width": ""
      }
     },
     "a0a6992b1429433fbbbaf3d5f05d24c3": {
      "model_module": "@jupyter-widgets/controls",
      "model_module_version": "2.0.0",
      "model_name": "HTMLModel",
      "state": {
       "layout": "IPY_MODEL_0b79ec824d3b4d8aa3cae468021e6ea0",
       "style": "IPY_MODEL_d7b063232f184ceca6520530d9f21b38",
       "value": " 3/3 [00:10&lt;00:00,  4.23s/it]"
      }
     },
     "a100bb931af3454f8ff02fae28c2ba6a": {
      "model_module": "@jupyter-widgets/base",
      "model_module_version": "2.0.0",
      "model_name": "LayoutModel",
      "state": {}
     },
     "a14329532c41402699841551dbcaf36d": {
      "model_module": "@jupyter-widgets/controls",
      "model_module_version": "2.0.0",
      "model_name": "ProgressStyleModel",
      "state": {
       "description_width": ""
      }
     },
     "a18db3fb7d924aaf9f82396754c998e8": {
      "model_module": "@jupyter-widgets/controls",
      "model_module_version": "2.0.0",
      "model_name": "DescriptionStyleModel",
      "state": {
       "description_width": ""
      }
     },
     "a1e775eb43e44bc4acd045fc2f754041": {
      "model_module": "@jupyter-widgets/controls",
      "model_module_version": "2.0.0",
      "model_name": "ProgressStyleModel",
      "state": {
       "description_width": ""
      }
     },
     "a251fdba365540e59af8cbd3077647f0": {
      "model_module": "@jupyter-widgets/base",
      "model_module_version": "2.0.0",
      "model_name": "LayoutModel",
      "state": {}
     },
     "a287ddab9f4d4efbbc0febc60c8661ae": {
      "model_module": "@jupyter-widgets/base",
      "model_module_version": "2.0.0",
      "model_name": "LayoutModel",
      "state": {}
     },
     "a2955b360dac453d8c26fa7c5687f081": {
      "model_module": "@jupyter-widgets/controls",
      "model_module_version": "2.0.0",
      "model_name": "DescriptionStyleModel",
      "state": {
       "description_width": ""
      }
     },
     "a2cb0e65b1f44625aefab52e868e76be": {
      "model_module": "@jupyter-widgets/base",
      "model_module_version": "2.0.0",
      "model_name": "LayoutModel",
      "state": {}
     },
     "a2dc4e35c9ca48d3a6e51fc5cefd0ced": {
      "model_module": "@jupyter-widgets/controls",
      "model_module_version": "2.0.0",
      "model_name": "DescriptionStyleModel",
      "state": {
       "description_width": ""
      }
     },
     "a2f63c20b4dd48a8866fcb6b802f8c4a": {
      "model_module": "@jupyter-widgets/controls",
      "model_module_version": "2.0.0",
      "model_name": "ProgressStyleModel",
      "state": {
       "description_width": ""
      }
     },
     "a32af960a36d4b52a3edd1f55e071c15": {
      "model_module": "@jupyter-widgets/controls",
      "model_module_version": "2.0.0",
      "model_name": "HTMLModel",
      "state": {
       "layout": "IPY_MODEL_18fb54df65384bb191ef2dd090fb1024",
       "style": "IPY_MODEL_195b90f25ae447488562295c171c2e4d",
       "value": "100%"
      }
     },
     "a3353040007c440c941c724a6c7c4a86": {
      "model_module": "@jupyter-widgets/controls",
      "model_module_version": "2.0.0",
      "model_name": "ProgressStyleModel",
      "state": {
       "description_width": ""
      }
     },
     "a362902f497348d289d27ca0913068fe": {
      "model_module": "@jupyter-widgets/base",
      "model_module_version": "2.0.0",
      "model_name": "LayoutModel",
      "state": {}
     },
     "a3bcc7c717b049f4aa944f25a84dc4ef": {
      "model_module": "@jupyter-widgets/controls",
      "model_module_version": "2.0.0",
      "model_name": "DescriptionStyleModel",
      "state": {
       "description_width": ""
      }
     },
     "a422eb421d334c8a8df8cec41b824897": {
      "model_module": "@jupyter-widgets/base",
      "model_module_version": "2.0.0",
      "model_name": "LayoutModel",
      "state": {}
     },
     "a440e087f1764e1f8107f2d1e11088f3": {
      "model_module": "@jupyter-widgets/base",
      "model_module_version": "2.0.0",
      "model_name": "LayoutModel",
      "state": {}
     },
     "a457bdaff0b54319a7e04193fee288ff": {
      "model_module": "@jupyter-widgets/base",
      "model_module_version": "2.0.0",
      "model_name": "LayoutModel",
      "state": {}
     },
     "a4587bcd144e43aca297d025ad154820": {
      "model_module": "@jupyter-widgets/controls",
      "model_module_version": "2.0.0",
      "model_name": "ProgressStyleModel",
      "state": {
       "description_width": ""
      }
     },
     "a52dc0b6be834b578252ec84b57cb7ae": {
      "model_module": "@jupyter-widgets/controls",
      "model_module_version": "2.0.0",
      "model_name": "ProgressStyleModel",
      "state": {
       "description_width": ""
      }
     },
     "a5d2a0d48dfa452a87f1d0a82f6365a5": {
      "model_module": "@jupyter-widgets/base",
      "model_module_version": "2.0.0",
      "model_name": "LayoutModel",
      "state": {}
     },
     "a67580eb9d634cf69c7c9c303da15028": {
      "model_module": "@jupyter-widgets/base",
      "model_module_version": "2.0.0",
      "model_name": "LayoutModel",
      "state": {}
     },
     "a6916e9d8ced46a5947c9cf22c14cef2": {
      "model_module": "@jupyter-widgets/controls",
      "model_module_version": "2.0.0",
      "model_name": "HBoxModel",
      "state": {
       "children": [
        "IPY_MODEL_fdc23c6f872c4825b03240c4a0ab9831",
        "IPY_MODEL_20e2e54ff7b6404a8ef36f22b44b6529",
        "IPY_MODEL_b7f078efc25d4d45a8d66e11d244e789"
       ],
       "layout": "IPY_MODEL_70eea4c1fb1e41ff8ee31f5613ef5754"
      }
     },
     "a6ec0e6de8ed4d18943486d916631bb3": {
      "model_module": "@jupyter-widgets/base",
      "model_module_version": "2.0.0",
      "model_name": "LayoutModel",
      "state": {}
     },
     "a7a16d4f0fb34f68b8745330c293ea9d": {
      "model_module": "@jupyter-widgets/controls",
      "model_module_version": "2.0.0",
      "model_name": "ProgressStyleModel",
      "state": {
       "description_width": ""
      }
     },
     "a7aed6a1208c42f2a3249230064c6597": {
      "model_module": "@jupyter-widgets/controls",
      "model_module_version": "2.0.0",
      "model_name": "HTMLModel",
      "state": {
       "layout": "IPY_MODEL_57da2d0871fc4c189bbfb98644cdca7c",
       "style": "IPY_MODEL_1df53411fb0547ea99a8fa02b4902311",
       "value": " 6/6 [00:11&lt;00:00,  2.81s/it]"
      }
     },
     "a7d4d21d229e48928273980fb1f57c78": {
      "model_module": "@jupyter-widgets/controls",
      "model_module_version": "2.0.0",
      "model_name": "DescriptionStyleModel",
      "state": {
       "description_width": ""
      }
     },
     "a89c19df94ce4db18c427504318b7256": {
      "model_module": "@jupyter-widgets/controls",
      "model_module_version": "2.0.0",
      "model_name": "HTMLStyleModel",
      "state": {
       "description_width": "",
       "font_size": null,
       "text_color": null
      }
     },
     "a92590bf59d342f794d3708da665facf": {
      "model_module": "@jupyter-widgets/controls",
      "model_module_version": "2.0.0",
      "model_name": "HTMLModel",
      "state": {
       "layout": "IPY_MODEL_76dc5ba1a0eb48358cccdd7b604f2521",
       "style": "IPY_MODEL_45418625fe974d70bd43597a713421ee",
       "value": "100%"
      }
     },
     "a93293402c394b809ddfc405b57fc3ae": {
      "model_module": "@jupyter-widgets/base",
      "model_module_version": "2.0.0",
      "model_name": "LayoutModel",
      "state": {}
     },
     "a9752cad2c2341dfb8ce3121a4d1ae82": {
      "model_module": "@jupyter-widgets/controls",
      "model_module_version": "2.0.0",
      "model_name": "HTMLModel",
      "state": {
       "layout": "IPY_MODEL_fc07a7ad29a1417dbfecf232fc63168d",
       "style": "IPY_MODEL_4a9c8487b9174ce392d94d1f8a019cab",
       "value": " 3/3 [00:10&lt;00:00,  4.28s/it]"
      }
     },
     "a98327ed4bd04814ab99164413777c03": {
      "model_module": "@jupyter-widgets/controls",
      "model_module_version": "2.0.0",
      "model_name": "ProgressStyleModel",
      "state": {
       "description_width": ""
      }
     },
     "a99c5e20d6d7423181e14969ec0ffc55": {
      "model_module": "@jupyter-widgets/base",
      "model_module_version": "2.0.0",
      "model_name": "LayoutModel",
      "state": {}
     },
     "aa3734b8439c46588fafe5f7b191bb02": {
      "model_module": "@jupyter-widgets/controls",
      "model_module_version": "2.0.0",
      "model_name": "DescriptionStyleModel",
      "state": {
       "description_width": ""
      }
     },
     "aa7fe29f797c4f7aac8b1ae7567c0ce2": {
      "model_module": "@jupyter-widgets/base",
      "model_module_version": "2.0.0",
      "model_name": "LayoutModel",
      "state": {}
     },
     "aaad4ca2ef0e400c861ec129402d025e": {
      "model_module": "@jupyter-widgets/base",
      "model_module_version": "2.0.0",
      "model_name": "LayoutModel",
      "state": {}
     },
     "aaadb36b2dd341be8d326c8b49aababd": {
      "model_module": "@jupyter-widgets/controls",
      "model_module_version": "2.0.0",
      "model_name": "HBoxModel",
      "state": {
       "children": [
        "IPY_MODEL_3178ada1cf22496f9e0de37eba7c5d31",
        "IPY_MODEL_f205a09d309f47fe9800e84ab1b9b096",
        "IPY_MODEL_6df3561b5e8444b9b1151930e443c9f8"
       ],
       "layout": "IPY_MODEL_0db0d77a505b45c09a86c22ab3ec786f"
      }
     },
     "ab111e79a0c94723934c519342c92cab": {
      "model_module": "@jupyter-widgets/controls",
      "model_module_version": "2.0.0",
      "model_name": "HBoxModel",
      "state": {
       "children": [
        "IPY_MODEL_3d9c0e4cf5424a148ed3f6045f692b24",
        "IPY_MODEL_348a6bbab1df499393ae546399d44ddd",
        "IPY_MODEL_6e7b05e3ccb84beab343d30286940b3b"
       ],
       "layout": "IPY_MODEL_81e017f82e2b4d11af2c8ce57dcb546b"
      }
     },
     "ab1b358f19404b43ab69060dc71719fd": {
      "model_module": "@jupyter-widgets/base",
      "model_module_version": "2.0.0",
      "model_name": "LayoutModel",
      "state": {}
     },
     "ab3e3837b3154d8494ca8fad1899cfb9": {
      "model_module": "@jupyter-widgets/controls",
      "model_module_version": "2.0.0",
      "model_name": "HTMLStyleModel",
      "state": {
       "description_width": "",
       "font_size": null,
       "text_color": null
      }
     },
     "ab4c0e768492431bbb35ce04a23dce63": {
      "model_module": "@jupyter-widgets/controls",
      "model_module_version": "2.0.0",
      "model_name": "ProgressStyleModel",
      "state": {
       "description_width": ""
      }
     },
     "ab66689f2e41405eb01c1c18ef038851": {
      "model_module": "@jupyter-widgets/controls",
      "model_module_version": "2.0.0",
      "model_name": "HTMLStyleModel",
      "state": {
       "description_width": "",
       "font_size": null,
       "text_color": null
      }
     },
     "ab8f355ae7164f8b8c9686ea6c91a7a6": {
      "model_module": "@jupyter-widgets/controls",
      "model_module_version": "2.0.0",
      "model_name": "HTMLModel",
      "state": {
       "layout": "IPY_MODEL_d520791859134727bc1617d07d6991ba",
       "style": "IPY_MODEL_3cc770638fe64170b64f98ec87ea9bbb",
       "value": " 5/6 [00:08&lt;00:01,  1.93s/it]"
      }
     },
     "abbeb2c6abf448dda079c6cbb462781b": {
      "model_module": "@jupyter-widgets/controls",
      "model_module_version": "2.0.0",
      "model_name": "DescriptionStyleModel",
      "state": {
       "description_width": ""
      }
     },
     "acb3fc7c388f438890ef68e82fa1047e": {
      "model_module": "@jupyter-widgets/controls",
      "model_module_version": "2.0.0",
      "model_name": "FloatProgressModel",
      "state": {
       "bar_style": "success",
       "layout": "IPY_MODEL_fdaec1db841d41f4b0b47f94f489842b",
       "max": 6,
       "style": "IPY_MODEL_334435f8ee8b43159cafd77d58d41c79",
       "value": 6
      }
     },
     "acda4f5b396441189693bf7bffcb701c": {
      "model_module": "@jupyter-widgets/controls",
      "model_module_version": "2.0.0",
      "model_name": "DescriptionStyleModel",
      "state": {
       "description_width": ""
      }
     },
     "acdac6e8397d4097ba9b78f5a31f3293": {
      "model_module": "@jupyter-widgets/controls",
      "model_module_version": "2.0.0",
      "model_name": "DescriptionStyleModel",
      "state": {
       "description_width": ""
      }
     },
     "aceda0a21c1a4b75853cdb8a59f7eadf": {
      "model_module": "@jupyter-widgets/controls",
      "model_module_version": "2.0.0",
      "model_name": "FloatProgressModel",
      "state": {
       "bar_style": "success",
       "layout": "IPY_MODEL_8de9a6074fbd4b38a5a91f1463b54fc9",
       "max": 3,
       "style": "IPY_MODEL_c6b33421e33f4b0380e00957941ef8db",
       "value": 3
      }
     },
     "acfe89b7172645378b180def2d2a8ff1": {
      "model_module": "@jupyter-widgets/base",
      "model_module_version": "2.0.0",
      "model_name": "LayoutModel",
      "state": {}
     },
     "ad3445fb8cce488999a76f978c9e7a42": {
      "model_module": "@jupyter-widgets/controls",
      "model_module_version": "2.0.0",
      "model_name": "ProgressStyleModel",
      "state": {
       "description_width": ""
      }
     },
     "ad49430f601441eebcd6fdf140b752d4": {
      "model_module": "@jupyter-widgets/controls",
      "model_module_version": "2.0.0",
      "model_name": "ProgressStyleModel",
      "state": {
       "description_width": ""
      }
     },
     "ada2a00636b1438498db0770cdd39bef": {
      "model_module": "@jupyter-widgets/base",
      "model_module_version": "2.0.0",
      "model_name": "LayoutModel",
      "state": {}
     },
     "adb01a75c497444e9fb19c4b1eadcf84": {
      "model_module": "@jupyter-widgets/controls",
      "model_module_version": "2.0.0",
      "model_name": "DescriptionStyleModel",
      "state": {
       "description_width": ""
      }
     },
     "adeb3d409ce9403b90fbd2fabd5b7981": {
      "model_module": "@jupyter-widgets/controls",
      "model_module_version": "2.0.0",
      "model_name": "HTMLModel",
      "state": {
       "layout": "IPY_MODEL_fb2b7e82ece14ab79d84a08df31c827e",
       "style": "IPY_MODEL_721e182dd01e47aca3f0e758c8c7c4b6",
       "value": "100%"
      }
     },
     "ae01414e4d4e4f55b34f35abef29cdfb": {
      "model_module": "@jupyter-widgets/controls",
      "model_module_version": "2.0.0",
      "model_name": "HBoxModel",
      "state": {
       "children": [
        "IPY_MODEL_0bca4e3d211e481b930b97cb27172398",
        "IPY_MODEL_dd17114b4a1c46e3880a89bcd314b090",
        "IPY_MODEL_b7dd1b4dfc814fa3b6b996920c8f0612"
       ],
       "layout": "IPY_MODEL_3304e1dd48ff49ecb920ff68b7dbacaa"
      }
     },
     "ae271860a6e14fda9f58304373ac1cba": {
      "model_module": "@jupyter-widgets/controls",
      "model_module_version": "2.0.0",
      "model_name": "HTMLModel",
      "state": {
       "layout": "IPY_MODEL_bb6cdac5407f4a11ad920f298d404dea",
       "style": "IPY_MODEL_917f0d2e1d3647cc9e7a51370040f48c",
       "value": " 6/6 [00:11&lt;00:00,  2.78s/it]"
      }
     },
     "ae857c0ea2034768aaa19e883a3f5fae": {
      "model_module": "@jupyter-widgets/base",
      "model_module_version": "2.0.0",
      "model_name": "LayoutModel",
      "state": {}
     },
     "ae935114aa1e4839b970b1db58c9c731": {
      "model_module": "@jupyter-widgets/controls",
      "model_module_version": "2.0.0",
      "model_name": "ProgressStyleModel",
      "state": {
       "description_width": ""
      }
     },
     "aef0ceb8c0ae4015b63ea8b2d521df89": {
      "model_module": "@jupyter-widgets/controls",
      "model_module_version": "2.0.0",
      "model_name": "HTMLModel",
      "state": {
       "layout": "IPY_MODEL_8758e08007c147cc995a9cd778321546",
       "style": "IPY_MODEL_c1185f0270fe4f4b904912182604a1b1",
       "value": "100%"
      }
     },
     "af095a946e40470fb6b10069cdead320": {
      "model_module": "@jupyter-widgets/controls",
      "model_module_version": "2.0.0",
      "model_name": "DescriptionStyleModel",
      "state": {
       "description_width": ""
      }
     },
     "af1d80e909114d99b94b5888fcdc68a0": {
      "model_module": "@jupyter-widgets/base",
      "model_module_version": "2.0.0",
      "model_name": "LayoutModel",
      "state": {}
     },
     "af321bf03d344ab5bbf27ecfd4df46e1": {
      "model_module": "@jupyter-widgets/controls",
      "model_module_version": "2.0.0",
      "model_name": "DescriptionStyleModel",
      "state": {
       "description_width": ""
      }
     },
     "af81eb420a204b4db16e0900544ee830": {
      "model_module": "@jupyter-widgets/controls",
      "model_module_version": "2.0.0",
      "model_name": "FloatProgressModel",
      "state": {
       "bar_style": "success",
       "layout": "IPY_MODEL_5c1cdc7f1d7f4334997a05cb16278393",
       "max": 14,
       "style": "IPY_MODEL_0bdac01ac9714d238307c195beb0e4d6",
       "value": 14
      }
     },
     "affe162fb3a94beba81fa8be1951120f": {
      "model_module": "@jupyter-widgets/controls",
      "model_module_version": "2.0.0",
      "model_name": "HTMLModel",
      "state": {
       "layout": "IPY_MODEL_a5d2a0d48dfa452a87f1d0a82f6365a5",
       "style": "IPY_MODEL_1d1da6d468c74317a13dc9fc56dfb053",
       "value": "100%"
      }
     },
     "b01ac6fa0bf14721b1a2505c3fe93267": {
      "model_module": "@jupyter-widgets/controls",
      "model_module_version": "2.0.0",
      "model_name": "FloatProgressModel",
      "state": {
       "bar_style": "success",
       "layout": "IPY_MODEL_2113a4d44df6462db4fa2f37d71cfcbd",
       "max": 6,
       "style": "IPY_MODEL_963e6ff751eb492db8552071ba8a2b76",
       "value": 6
      }
     },
     "b070d048f3d543a6a1184adb874400cd": {
      "model_module": "@jupyter-widgets/controls",
      "model_module_version": "2.0.0",
      "model_name": "HBoxModel",
      "state": {
       "children": [
        "IPY_MODEL_8ba4f31efed1433d8576bf8f21e073b8",
        "IPY_MODEL_4553fb4f7c304feda4bdd2c6af136987",
        "IPY_MODEL_3f85e0c67a0d4d7cb0b7456565c6674c"
       ],
       "layout": "IPY_MODEL_aa7fe29f797c4f7aac8b1ae7567c0ce2"
      }
     },
     "b0967127666b443cb813bf91f7ecfedf": {
      "model_module": "@jupyter-widgets/controls",
      "model_module_version": "2.0.0",
      "model_name": "DescriptionStyleModel",
      "state": {
       "description_width": ""
      }
     },
     "b0abd16537734a9d99386e3c8da6b4b8": {
      "model_module": "@jupyter-widgets/controls",
      "model_module_version": "2.0.0",
      "model_name": "FloatProgressModel",
      "state": {
       "bar_style": "danger",
       "layout": "IPY_MODEL_b49cf00a4c3f4163b7e728f814b74fa9",
       "max": 14,
       "style": "IPY_MODEL_c654e302892f4bfba0927c5f041e3257",
       "value": 3
      }
     },
     "b13f40fc66ff46f3b4778d156c0b4e3f": {
      "model_module": "@jupyter-widgets/base",
      "model_module_version": "2.0.0",
      "model_name": "LayoutModel",
      "state": {}
     },
     "b1869575b6bc48b185eadfefede9f2ea": {
      "model_module": "@jupyter-widgets/controls",
      "model_module_version": "2.0.0",
      "model_name": "HTMLModel",
      "state": {
       "layout": "IPY_MODEL_3f789c27308447d6b763ce0d90eb3663",
       "style": "IPY_MODEL_b77fd8eda6364a409317be07cc127253",
       "value": " 14/14 [00:34&lt;00:00,  2.57s/it]"
      }
     },
     "b1a71496bea04ea984d4eaf411c2d37c": {
      "model_module": "@jupyter-widgets/base",
      "model_module_version": "2.0.0",
      "model_name": "LayoutModel",
      "state": {}
     },
     "b1ce81a067f24d3c90467c337ecb4f34": {
      "model_module": "@jupyter-widgets/controls",
      "model_module_version": "2.0.0",
      "model_name": "ProgressStyleModel",
      "state": {
       "description_width": ""
      }
     },
     "b24610b68ced4adca0b9b6b56cd9fbbc": {
      "model_module": "@jupyter-widgets/controls",
      "model_module_version": "2.0.0",
      "model_name": "HTMLStyleModel",
      "state": {
       "description_width": "",
       "font_size": null,
       "text_color": null
      }
     },
     "b248845b0071429886b9bb169c16460e": {
      "model_module": "@jupyter-widgets/base",
      "model_module_version": "2.0.0",
      "model_name": "LayoutModel",
      "state": {}
     },
     "b2eb49191f454d1ca89219338d27fff3": {
      "model_module": "@jupyter-widgets/base",
      "model_module_version": "2.0.0",
      "model_name": "LayoutModel",
      "state": {}
     },
     "b30a39d725ec4a5da7ab1f5f3027d270": {
      "model_module": "@jupyter-widgets/base",
      "model_module_version": "2.0.0",
      "model_name": "LayoutModel",
      "state": {}
     },
     "b3c64d1d470d4303ba1161800f662b9d": {
      "model_module": "@jupyter-widgets/base",
      "model_module_version": "2.0.0",
      "model_name": "LayoutModel",
      "state": {}
     },
     "b42c1ce5b32b407192f3a3d0cc1e8d5c": {
      "model_module": "@jupyter-widgets/controls",
      "model_module_version": "2.0.0",
      "model_name": "FloatProgressModel",
      "state": {
       "bar_style": "success",
       "layout": "IPY_MODEL_1574450acc874b6f9d2c6fa210c91894",
       "max": 3,
       "style": "IPY_MODEL_d83ded3010ff4830bdcfd81c9fcef800",
       "value": 3
      }
     },
     "b4656c34dfcd43a29c49c3e1e07e4a50": {
      "model_module": "@jupyter-widgets/controls",
      "model_module_version": "2.0.0",
      "model_name": "HTMLModel",
      "state": {
       "layout": "IPY_MODEL_acfe89b7172645378b180def2d2a8ff1",
       "style": "IPY_MODEL_4141feb5c5b04f67b14d782916cf2a43",
       "value": "100%"
      }
     },
     "b4844e9f7ac840f8932292a6e55f54c4": {
      "model_module": "@jupyter-widgets/controls",
      "model_module_version": "2.0.0",
      "model_name": "ProgressStyleModel",
      "state": {
       "description_width": ""
      }
     },
     "b48b499d55304829a958e0f399dd78b3": {
      "model_module": "@jupyter-widgets/controls",
      "model_module_version": "2.0.0",
      "model_name": "HBoxModel",
      "state": {
       "children": [
        "IPY_MODEL_0fc92f9097474517aa4fad739dce6c9e",
        "IPY_MODEL_d693d67d5f77496bb181a98fdc0b7233",
        "IPY_MODEL_f13fb1a0d89e42c0afa8612021dcb98e"
       ],
       "layout": "IPY_MODEL_6cc16a4ebcaa45d0a75baf8f0f57957e"
      }
     },
     "b49cf00a4c3f4163b7e728f814b74fa9": {
      "model_module": "@jupyter-widgets/base",
      "model_module_version": "2.0.0",
      "model_name": "LayoutModel",
      "state": {}
     },
     "b4a6ca293cf340b89bc8cee747bd4df1": {
      "model_module": "@jupyter-widgets/controls",
      "model_module_version": "2.0.0",
      "model_name": "HTMLModel",
      "state": {
       "layout": "IPY_MODEL_57e76b58a33b4bcd96f3a40b899044d9",
       "style": "IPY_MODEL_44d5718f041c4cdf8b85c3e58a90c1e2",
       "value": "100%"
      }
     },
     "b56f52d366d44191901d75a4215ee301": {
      "model_module": "@jupyter-widgets/controls",
      "model_module_version": "2.0.0",
      "model_name": "HTMLModel",
      "state": {
       "layout": "IPY_MODEL_3da353bac79d453282b17d5e84055538",
       "style": "IPY_MODEL_81219c097ac744b69ad4e171ef739df5",
       "value": " 3/3 [00:10&lt;00:00,  4.22s/it]"
      }
     },
     "b5fb0353521943fcb24fee15656f0772": {
      "model_module": "@jupyter-widgets/base",
      "model_module_version": "2.0.0",
      "model_name": "LayoutModel",
      "state": {}
     },
     "b6148f8af3974dfd862a9b5fe1ab3bd7": {
      "model_module": "@jupyter-widgets/controls",
      "model_module_version": "2.0.0",
      "model_name": "ProgressStyleModel",
      "state": {
       "description_width": ""
      }
     },
     "b6c01ffdf5dc4c1a93c67b7a9fa840a0": {
      "model_module": "@jupyter-widgets/controls",
      "model_module_version": "2.0.0",
      "model_name": "FloatProgressModel",
      "state": {
       "bar_style": "success",
       "layout": "IPY_MODEL_9394526ac9c941739cd411acfd526766",
       "max": 14,
       "style": "IPY_MODEL_ad3445fb8cce488999a76f978c9e7a42",
       "value": 14
      }
     },
     "b706432285f34e75ae5cff63bc0f811e": {
      "model_module": "@jupyter-widgets/controls",
      "model_module_version": "2.0.0",
      "model_name": "FloatProgressModel",
      "state": {
       "bar_style": "success",
       "layout": "IPY_MODEL_dcead6a4bc7c4ebd98c57b29a4cbd66a",
       "max": 14,
       "style": "IPY_MODEL_cbd5356061a440dbb53782fc01963ceb",
       "value": 14
      }
     },
     "b77707f31c9b4dfd80bc0adc3c559056": {
      "model_module": "@jupyter-widgets/controls",
      "model_module_version": "2.0.0",
      "model_name": "ProgressStyleModel",
      "state": {
       "description_width": ""
      }
     },
     "b77fd8eda6364a409317be07cc127253": {
      "model_module": "@jupyter-widgets/controls",
      "model_module_version": "2.0.0",
      "model_name": "DescriptionStyleModel",
      "state": {
       "description_width": ""
      }
     },
     "b79c1473aaeb4e08aee55aa670d83fdd": {
      "model_module": "@jupyter-widgets/controls",
      "model_module_version": "2.0.0",
      "model_name": "HBoxModel",
      "state": {
       "children": [
        "IPY_MODEL_8882d1d7c3f1433a9b9101a888037ec7",
        "IPY_MODEL_e2a0c13496744ad68d896d64a962e737",
        "IPY_MODEL_0b1a304bd15f47ec8858bfd900d11484"
       ],
       "layout": "IPY_MODEL_1f98f10a0be946e8a023ccbd3bb84e77"
      }
     },
     "b7dc5056499647e6b599be2a6894c13b": {
      "model_module": "@jupyter-widgets/controls",
      "model_module_version": "2.0.0",
      "model_name": "HTMLModel",
      "state": {
       "layout": "IPY_MODEL_46b3e17002044bd187ddffcb137f8442",
       "style": "IPY_MODEL_4423c92e6ab94b46b6f89bde9dddf3a8",
       "value": " 14/14 [00:34&lt;00:00,  2.57s/it]"
      }
     },
     "b7dd1b4dfc814fa3b6b996920c8f0612": {
      "model_module": "@jupyter-widgets/controls",
      "model_module_version": "2.0.0",
      "model_name": "HTMLModel",
      "state": {
       "layout": "IPY_MODEL_f60f6e5e80ae48e9a0f049286dda0399",
       "style": "IPY_MODEL_4f8f34f6823f48ae8d4102f40b10a49f",
       "value": " 14/14 [00:34&lt;00:00,  2.58s/it]"
      }
     },
     "b7f078efc25d4d45a8d66e11d244e789": {
      "model_module": "@jupyter-widgets/controls",
      "model_module_version": "2.0.0",
      "model_name": "HTMLModel",
      "state": {
       "layout": "IPY_MODEL_7bc1387af95243a4936c14134903bc0d",
       "style": "IPY_MODEL_10e39dc37bd944b3a6cea613c2c089f3",
       "value": " 14/14 [00:34&lt;00:00,  2.60s/it]"
      }
     },
     "b836e579d57f4ee3ad564a073429a29b": {
      "model_module": "@jupyter-widgets/base",
      "model_module_version": "2.0.0",
      "model_name": "LayoutModel",
      "state": {}
     },
     "b85490ed0a0947f0b84a2600a1c988c7": {
      "model_module": "@jupyter-widgets/controls",
      "model_module_version": "2.0.0",
      "model_name": "ProgressStyleModel",
      "state": {
       "description_width": ""
      }
     },
     "b8816800b87d481bb2bae8c7a9c6e818": {
      "model_module": "@jupyter-widgets/controls",
      "model_module_version": "2.0.0",
      "model_name": "ProgressStyleModel",
      "state": {
       "description_width": ""
      }
     },
     "b959d2c248eb480db8aa79fc8a5cb534": {
      "model_module": "@jupyter-widgets/controls",
      "model_module_version": "2.0.0",
      "model_name": "FloatProgressModel",
      "state": {
       "bar_style": "danger",
       "layout": "IPY_MODEL_67597766408742479ce0bf6cc2478e26",
       "max": 3,
       "style": "IPY_MODEL_ed4b45ecdd934060aec1b9f01e6666f3",
       "value": 2
      }
     },
     "b95eedb43b064ce789790750e2c53bb5": {
      "model_module": "@jupyter-widgets/controls",
      "model_module_version": "2.0.0",
      "model_name": "HTMLModel",
      "state": {
       "layout": "IPY_MODEL_da154e78fb2f4ccaaf9eaeb787bacfe6",
       "style": "IPY_MODEL_3cc8526128264bb280238503853a9de7",
       "value": " 3/3 [00:10&lt;00:00,  4.00s/it]"
      }
     },
     "b99910e822374a6b9ce70d7b96324062": {
      "model_module": "@jupyter-widgets/controls",
      "model_module_version": "2.0.0",
      "model_name": "HTMLModel",
      "state": {
       "layout": "IPY_MODEL_4624434e462b4f3592aa0a3f3ada8c5d",
       "style": "IPY_MODEL_ea5c5e28a3084a8e9b220f22ec95964c",
       "value": " 8/8 [00:32&lt;00:00,  4.96s/it]"
      }
     },
     "b9ac73cbe2ab47b6a925b4af56855006": {
      "model_module": "@jupyter-widgets/controls",
      "model_module_version": "2.0.0",
      "model_name": "DescriptionStyleModel",
      "state": {
       "description_width": ""
      }
     },
     "b9f2c8dcd1d742c2b0284bbedcc5052f": {
      "model_module": "@jupyter-widgets/controls",
      "model_module_version": "2.0.0",
      "model_name": "HTMLModel",
      "state": {
       "layout": "IPY_MODEL_3d1cac7f5ee04ba786173b125cae00a4",
       "style": "IPY_MODEL_4aa728bf97a248ecb6f1ed409e13c000",
       "value": " 6/6 [00:11&lt;00:00,  2.81s/it]"
      }
     },
     "ba13e79393134c15b7c1c317500ab049": {
      "model_module": "@jupyter-widgets/controls",
      "model_module_version": "2.0.0",
      "model_name": "HBoxModel",
      "state": {
       "children": [
        "IPY_MODEL_2cede2330d884562a62166d0d62dcd9b",
        "IPY_MODEL_c873b1ae856c49f88d8310b54344f442",
        "IPY_MODEL_9ee613f03cca4b73a8bc20062ed816c1"
       ],
       "layout": "IPY_MODEL_0eaa5fd6d17d42739186b27b186fa2d4"
      }
     },
     "ba29168235254634b5b1b682e0b4ae4c": {
      "model_module": "@jupyter-widgets/base",
      "model_module_version": "2.0.0",
      "model_name": "LayoutModel",
      "state": {}
     },
     "ba7005dc539b433c853dc0d5edf5deb3": {
      "model_module": "@jupyter-widgets/controls",
      "model_module_version": "2.0.0",
      "model_name": "HTMLModel",
      "state": {
       "layout": "IPY_MODEL_b836e579d57f4ee3ad564a073429a29b",
       "style": "IPY_MODEL_227e83a28aa846ed87ea1bffc6e15c16",
       "value": " 6/6 [00:11&lt;00:00,  2.83s/it]"
      }
     },
     "ba807cc513b74d7d8eeb027c2910b83d": {
      "model_module": "@jupyter-widgets/base",
      "model_module_version": "2.0.0",
      "model_name": "LayoutModel",
      "state": {}
     },
     "bb3bcedafa734364a633828b37f8bd9f": {
      "model_module": "@jupyter-widgets/base",
      "model_module_version": "2.0.0",
      "model_name": "LayoutModel",
      "state": {}
     },
     "bb4c687cc5b7401d8d90170737dfe53e": {
      "model_module": "@jupyter-widgets/controls",
      "model_module_version": "2.0.0",
      "model_name": "HTMLStyleModel",
      "state": {
       "description_width": "",
       "font_size": null,
       "text_color": null
      }
     },
     "bb6cdac5407f4a11ad920f298d404dea": {
      "model_module": "@jupyter-widgets/base",
      "model_module_version": "2.0.0",
      "model_name": "LayoutModel",
      "state": {}
     },
     "bc59be59c8e340218f148d15b9e3c513": {
      "model_module": "@jupyter-widgets/controls",
      "model_module_version": "2.0.0",
      "model_name": "DescriptionStyleModel",
      "state": {
       "description_width": ""
      }
     },
     "bc9b146a311b4e43864c0885a0d6254b": {
      "model_module": "@jupyter-widgets/base",
      "model_module_version": "2.0.0",
      "model_name": "LayoutModel",
      "state": {}
     },
     "bcd1686c6e77476086983a24fa87b982": {
      "model_module": "@jupyter-widgets/base",
      "model_module_version": "2.0.0",
      "model_name": "LayoutModel",
      "state": {}
     },
     "bd101b633ea34ac69246ecb0598515b8": {
      "model_module": "@jupyter-widgets/base",
      "model_module_version": "2.0.0",
      "model_name": "LayoutModel",
      "state": {}
     },
     "bd3f5d9954cd4a91a7381e105cf45022": {
      "model_module": "@jupyter-widgets/controls",
      "model_module_version": "2.0.0",
      "model_name": "HTMLModel",
      "state": {
       "layout": "IPY_MODEL_03a96f3c2a024b0f94090e89d31f9e0a",
       "style": "IPY_MODEL_9cd79e32341d49e79b16310ec2053281",
       "value": "100%"
      }
     },
     "bd40e6ea970a42bca8cba175f0e0ef3c": {
      "model_module": "@jupyter-widgets/base",
      "model_module_version": "2.0.0",
      "model_name": "LayoutModel",
      "state": {}
     },
     "bd439efb587f416c88473e2207f1de00": {
      "model_module": "@jupyter-widgets/base",
      "model_module_version": "2.0.0",
      "model_name": "LayoutModel",
      "state": {}
     },
     "bd7a94334adf4927a42ed12c73654dac": {
      "model_module": "@jupyter-widgets/controls",
      "model_module_version": "2.0.0",
      "model_name": "HTMLModel",
      "state": {
       "layout": "IPY_MODEL_c5559374e5554db0ada7dc65ddf5598f",
       "style": "IPY_MODEL_1fc2b21844534159a368b1806fac3a9b",
       "value": " 3/3 [00:10&lt;00:00,  4.12s/it]"
      }
     },
     "be287985079e402d8332d24294a34c84": {
      "model_module": "@jupyter-widgets/base",
      "model_module_version": "2.0.0",
      "model_name": "LayoutModel",
      "state": {}
     },
     "be41d6ae9f344b5ba9b383d3d5c484bf": {
      "model_module": "@jupyter-widgets/base",
      "model_module_version": "2.0.0",
      "model_name": "LayoutModel",
      "state": {}
     },
     "bea60f47ad4342aa85af0a82419d5792": {
      "model_module": "@jupyter-widgets/base",
      "model_module_version": "2.0.0",
      "model_name": "LayoutModel",
      "state": {}
     },
     "bedfc1ababb04676973768143bce8fbc": {
      "model_module": "@jupyter-widgets/controls",
      "model_module_version": "2.0.0",
      "model_name": "HBoxModel",
      "state": {
       "children": [
        "IPY_MODEL_ff775a243b6949488f74e1dbabacf8a0",
        "IPY_MODEL_3d166a7aee6444dbaa8ad4fbe9667ab8",
        "IPY_MODEL_3e39b41de3b441b9bf4aca91849f83ba"
       ],
       "layout": "IPY_MODEL_3f1e1583b7cc4b0d8c5bcff3dfaae02c"
      }
     },
     "bf2f79d4b8554fe0a9096bcceea7454d": {
      "model_module": "@jupyter-widgets/controls",
      "model_module_version": "2.0.0",
      "model_name": "ProgressStyleModel",
      "state": {
       "description_width": ""
      }
     },
     "bf4a972555a14ee59cc8ab9d09092f4e": {
      "model_module": "@jupyter-widgets/controls",
      "model_module_version": "2.0.0",
      "model_name": "HTMLStyleModel",
      "state": {
       "description_width": "",
       "font_size": null,
       "text_color": null
      }
     },
     "bf8a60bc94df456e8eb3e78e65680454": {
      "model_module": "@jupyter-widgets/base",
      "model_module_version": "2.0.0",
      "model_name": "LayoutModel",
      "state": {}
     },
     "bfc48091ec6d4aa88c7cd6e624b2063f": {
      "model_module": "@jupyter-widgets/base",
      "model_module_version": "2.0.0",
      "model_name": "LayoutModel",
      "state": {}
     },
     "c06f451b863c41a2afebcd113177edfd": {
      "model_module": "@jupyter-widgets/controls",
      "model_module_version": "2.0.0",
      "model_name": "DescriptionStyleModel",
      "state": {
       "description_width": ""
      }
     },
     "c0a9ef47e8e84bcba447e99fa44f6883": {
      "model_module": "@jupyter-widgets/controls",
      "model_module_version": "2.0.0",
      "model_name": "HTMLModel",
      "state": {
       "layout": "IPY_MODEL_42084ebcfb5c4a14bb1a8dccb70c02e7",
       "style": "IPY_MODEL_5195b30886ae479ba56e84588a608368",
       "value": " 14/14 [00:35&lt;00:00,  2.62s/it]"
      }
     },
     "c0bc0ed166f748e898629d44ab3ed1a8": {
      "model_module": "@jupyter-widgets/controls",
      "model_module_version": "2.0.0",
      "model_name": "HTMLModel",
      "state": {
       "layout": "IPY_MODEL_291c07312d7647979fa567eec843280e",
       "style": "IPY_MODEL_18f4eee24bac4eed92745ba210060663",
       "value": "100%"
      }
     },
     "c1185f0270fe4f4b904912182604a1b1": {
      "model_module": "@jupyter-widgets/controls",
      "model_module_version": "2.0.0",
      "model_name": "DescriptionStyleModel",
      "state": {
       "description_width": ""
      }
     },
     "c118c80129a249eea1b05cb08a19d240": {
      "model_module": "@jupyter-widgets/base",
      "model_module_version": "2.0.0",
      "model_name": "LayoutModel",
      "state": {}
     },
     "c179d82d134c4885b232d00bb921d2c4": {
      "model_module": "@jupyter-widgets/base",
      "model_module_version": "2.0.0",
      "model_name": "LayoutModel",
      "state": {}
     },
     "c1d48ac75e284e85b0d09d8c36f30458": {
      "model_module": "@jupyter-widgets/base",
      "model_module_version": "2.0.0",
      "model_name": "LayoutModel",
      "state": {}
     },
     "c25231556e594901b84222ec98cfa76c": {
      "model_module": "@jupyter-widgets/controls",
      "model_module_version": "2.0.0",
      "model_name": "DescriptionStyleModel",
      "state": {
       "description_width": ""
      }
     },
     "c2c9bae4f17b430f94173f93bee66759": {
      "model_module": "@jupyter-widgets/base",
      "model_module_version": "2.0.0",
      "model_name": "LayoutModel",
      "state": {}
     },
     "c2fde99dd01245ec95f086a3473cf135": {
      "model_module": "@jupyter-widgets/controls",
      "model_module_version": "2.0.0",
      "model_name": "FloatProgressModel",
      "state": {
       "bar_style": "success",
       "layout": "IPY_MODEL_fc07b8eb3f2d42398ac37ae004962f19",
       "max": 3,
       "style": "IPY_MODEL_643781621b914dceaab16ab069a89a6c",
       "value": 3
      }
     },
     "c332cc3b2cbe413eb2a2d22f4d95bf59": {
      "model_module": "@jupyter-widgets/base",
      "model_module_version": "2.0.0",
      "model_name": "LayoutModel",
      "state": {}
     },
     "c34809797e2148929c31c45e8f49a95c": {
      "model_module": "@jupyter-widgets/base",
      "model_module_version": "2.0.0",
      "model_name": "LayoutModel",
      "state": {}
     },
     "c490158c2f7840d58b26921802f03980": {
      "model_module": "@jupyter-widgets/controls",
      "model_module_version": "2.0.0",
      "model_name": "HBoxModel",
      "state": {
       "children": [
        "IPY_MODEL_40ad493a779948fb877b8f1efbeb96ff",
        "IPY_MODEL_777f86a86f664c9cb9be08b5315a4d59",
        "IPY_MODEL_8b057534064a4e3686cd34358bb93401"
       ],
       "layout": "IPY_MODEL_dfe293cf4ff94c02886d72dddbd301f1"
      }
     },
     "c4dbd55522644ecd95b7a3ba72ba3395": {
      "model_module": "@jupyter-widgets/controls",
      "model_module_version": "2.0.0",
      "model_name": "DescriptionStyleModel",
      "state": {
       "description_width": ""
      }
     },
     "c5559374e5554db0ada7dc65ddf5598f": {
      "model_module": "@jupyter-widgets/base",
      "model_module_version": "2.0.0",
      "model_name": "LayoutModel",
      "state": {}
     },
     "c5989e198ec944dc8b7775b5705d73e5": {
      "model_module": "@jupyter-widgets/controls",
      "model_module_version": "2.0.0",
      "model_name": "ProgressStyleModel",
      "state": {
       "description_width": ""
      }
     },
     "c5bdc1aea1dc42808c80934112cab5ca": {
      "model_module": "@jupyter-widgets/controls",
      "model_module_version": "2.0.0",
      "model_name": "ProgressStyleModel",
      "state": {
       "description_width": ""
      }
     },
     "c61e0f4c117a4d1186762baca090503c": {
      "model_module": "@jupyter-widgets/base",
      "model_module_version": "2.0.0",
      "model_name": "LayoutModel",
      "state": {}
     },
     "c654e302892f4bfba0927c5f041e3257": {
      "model_module": "@jupyter-widgets/controls",
      "model_module_version": "2.0.0",
      "model_name": "ProgressStyleModel",
      "state": {
       "description_width": ""
      }
     },
     "c699b778decd49ad962699ab3183abb0": {
      "model_module": "@jupyter-widgets/controls",
      "model_module_version": "2.0.0",
      "model_name": "HTMLModel",
      "state": {
       "layout": "IPY_MODEL_271e20a9175e435b9e432bb49ff28515",
       "style": "IPY_MODEL_c4dbd55522644ecd95b7a3ba72ba3395",
       "value": " 3/3 [00:10&lt;00:00,  4.22s/it]"
      }
     },
     "c6b33421e33f4b0380e00957941ef8db": {
      "model_module": "@jupyter-widgets/controls",
      "model_module_version": "2.0.0",
      "model_name": "ProgressStyleModel",
      "state": {
       "description_width": ""
      }
     },
     "c7dc4e6681ce4f8eae9a97b57acbed79": {
      "model_module": "@jupyter-widgets/base",
      "model_module_version": "2.0.0",
      "model_name": "LayoutModel",
      "state": {}
     },
     "c873b1ae856c49f88d8310b54344f442": {
      "model_module": "@jupyter-widgets/controls",
      "model_module_version": "2.0.0",
      "model_name": "FloatProgressModel",
      "state": {
       "bar_style": "success",
       "layout": "IPY_MODEL_9f7187b4ecb342f2a742a39abb381f9d",
       "max": 14,
       "style": "IPY_MODEL_ad49430f601441eebcd6fdf140b752d4",
       "value": 14
      }
     },
     "c8a1210993ec476fbde009309209fc35": {
      "model_module": "@jupyter-widgets/base",
      "model_module_version": "2.0.0",
      "model_name": "LayoutModel",
      "state": {}
     },
     "c8cd1c4149dd4c7687e4eb640ff716a8": {
      "model_module": "@jupyter-widgets/controls",
      "model_module_version": "2.0.0",
      "model_name": "HBoxModel",
      "state": {
       "children": [
        "IPY_MODEL_631c4e5439134b44aa2abb0f2d6114da",
        "IPY_MODEL_8c4974d3c01f4a0ab4612bcd9d2c487e",
        "IPY_MODEL_0dc955968bf4464581e4aff52c7e0667"
       ],
       "layout": "IPY_MODEL_3c3b7115d2d34299bac7a54a435f0f3c"
      }
     },
     "c931633d20a244ef9feb92c378ca50c7": {
      "model_module": "@jupyter-widgets/base",
      "model_module_version": "2.0.0",
      "model_name": "LayoutModel",
      "state": {}
     },
     "c941c9c883be4ff7a4d90b55852afc96": {
      "model_module": "@jupyter-widgets/controls",
      "model_module_version": "2.0.0",
      "model_name": "HTMLStyleModel",
      "state": {
       "description_width": "",
       "font_size": null,
       "text_color": null
      }
     },
     "c94f83c2248f4f50974750f0c2ee6bc1": {
      "model_module": "@jupyter-widgets/base",
      "model_module_version": "2.0.0",
      "model_name": "LayoutModel",
      "state": {}
     },
     "c9926b82ab4345ebbeaf72d68b2d7259": {
      "model_module": "@jupyter-widgets/base",
      "model_module_version": "2.0.0",
      "model_name": "LayoutModel",
      "state": {}
     },
     "c9f8cbc07cae4d238f0b15e9e0fa371b": {
      "model_module": "@jupyter-widgets/controls",
      "model_module_version": "2.0.0",
      "model_name": "HBoxModel",
      "state": {
       "children": [
        "IPY_MODEL_34606ce89b63484aad57b4a2d451950c",
        "IPY_MODEL_90847593a34c4349a601197e200e330b",
        "IPY_MODEL_21b051ce1eb44d588eb8484bfb57c09c"
       ],
       "layout": "IPY_MODEL_4b756571316644e7a1e95bfff335a728"
      }
     },
     "ca08d7ee14214e2ebed567205b819df1": {
      "model_module": "@jupyter-widgets/controls",
      "model_module_version": "2.0.0",
      "model_name": "HTMLModel",
      "state": {
       "layout": "IPY_MODEL_a6ec0e6de8ed4d18943486d916631bb3",
       "style": "IPY_MODEL_f088742121f542cdb895747b227deca2",
       "value": "100%"
      }
     },
     "caae53edbd58462cbc39966b1649dff7": {
      "model_module": "@jupyter-widgets/base",
      "model_module_version": "2.0.0",
      "model_name": "LayoutModel",
      "state": {}
     },
     "cac094dfafa64d289e942e132ec9e84f": {
      "model_module": "@jupyter-widgets/controls",
      "model_module_version": "2.0.0",
      "model_name": "HTMLStyleModel",
      "state": {
       "description_width": "",
       "font_size": null,
       "text_color": null
      }
     },
     "cb08a9ff3d324eb28b1c29892c887232": {
      "model_module": "@jupyter-widgets/controls",
      "model_module_version": "2.0.0",
      "model_name": "HTMLModel",
      "state": {
       "layout": "IPY_MODEL_56a6bad0b666407a9367de9bf30fd660",
       "style": "IPY_MODEL_e90406da19364701938d300128db6610",
       "value": " 14/14 [00:34&lt;00:00,  2.57s/it]"
      }
     },
     "cb816fa26def400fb32343b0dd2f8917": {
      "model_module": "@jupyter-widgets/controls",
      "model_module_version": "2.0.0",
      "model_name": "DescriptionStyleModel",
      "state": {
       "description_width": ""
      }
     },
     "cbd5356061a440dbb53782fc01963ceb": {
      "model_module": "@jupyter-widgets/controls",
      "model_module_version": "2.0.0",
      "model_name": "ProgressStyleModel",
      "state": {
       "description_width": ""
      }
     },
     "cbd792511fbc4743b175d6ca42fbf072": {
      "model_module": "@jupyter-widgets/base",
      "model_module_version": "2.0.0",
      "model_name": "LayoutModel",
      "state": {}
     },
     "cbe0ed1b6adb4f9ab4b90bafbb80e6c2": {
      "model_module": "@jupyter-widgets/controls",
      "model_module_version": "2.0.0",
      "model_name": "HTMLModel",
      "state": {
       "layout": "IPY_MODEL_5d1150275c574960b7ee756c4e5b8422",
       "style": "IPY_MODEL_cde62e1f9b294d619d4ffd1aa0fac805",
       "value": " 6/6 [00:08&lt;00:00,  1.95s/it]"
      }
     },
     "cbfe7897a6824407ae27d9e2624c90fd": {
      "model_module": "@jupyter-widgets/controls",
      "model_module_version": "2.0.0",
      "model_name": "HBoxModel",
      "state": {
       "children": [
        "IPY_MODEL_3e0b8257b09045b9bb0d57dfa5fc8945",
        "IPY_MODEL_5bc99c916ebd414daf96f69f725d40ea",
        "IPY_MODEL_6ba368873182486380ecad62d4aec0de"
       ],
       "layout": "IPY_MODEL_c332cc3b2cbe413eb2a2d22f4d95bf59"
      }
     },
     "cc49fe955bc9415abe5836ccaad61025": {
      "model_module": "@jupyter-widgets/base",
      "model_module_version": "2.0.0",
      "model_name": "LayoutModel",
      "state": {}
     },
     "cc70f9b3c01c457b99cccc2760db08c8": {
      "model_module": "@jupyter-widgets/base",
      "model_module_version": "2.0.0",
      "model_name": "LayoutModel",
      "state": {}
     },
     "cc828325858743d1a489b03205ca511f": {
      "model_module": "@jupyter-widgets/controls",
      "model_module_version": "2.0.0",
      "model_name": "HTMLModel",
      "state": {
       "layout": "IPY_MODEL_58f0f746e8004a5fafe76d9dcdb1209b",
       "style": "IPY_MODEL_a0123662844f4a149a0432231f34ba9f",
       "value": "100%"
      }
     },
     "ccc5bf5d8d9348dfadf4db618a2aee02": {
      "model_module": "@jupyter-widgets/controls",
      "model_module_version": "2.0.0",
      "model_name": "FloatProgressModel",
      "state": {
       "bar_style": "success",
       "layout": "IPY_MODEL_478294a04e59466e9eb976ac1abe3192",
       "max": 3,
       "style": "IPY_MODEL_dab4fd7806aa4fc0ba7c459b813d3f9d",
       "value": 3
      }
     },
     "cd5ec6a0899a4ec3bf44ab5113ec9831": {
      "model_module": "@jupyter-widgets/controls",
      "model_module_version": "2.0.0",
      "model_name": "HTMLStyleModel",
      "state": {
       "description_width": "",
       "font_size": null,
       "text_color": null
      }
     },
     "cd78b7965d4d428a8cb50a5b211e9793": {
      "model_module": "@jupyter-widgets/controls",
      "model_module_version": "2.0.0",
      "model_name": "ProgressStyleModel",
      "state": {
       "description_width": ""
      }
     },
     "cde62e1f9b294d619d4ffd1aa0fac805": {
      "model_module": "@jupyter-widgets/controls",
      "model_module_version": "2.0.0",
      "model_name": "HTMLStyleModel",
      "state": {
       "description_width": "",
       "font_size": null,
       "text_color": null
      }
     },
     "ce1f0f894a92465db9af08981e3b5c55": {
      "model_module": "@jupyter-widgets/base",
      "model_module_version": "2.0.0",
      "model_name": "LayoutModel",
      "state": {}
     },
     "ce39bf113fa24c5a9c3d66bf8827fbe9": {
      "model_module": "@jupyter-widgets/base",
      "model_module_version": "2.0.0",
      "model_name": "LayoutModel",
      "state": {}
     },
     "ce7f7abe8f384bdd91ef63c4be8b933c": {
      "model_module": "@jupyter-widgets/controls",
      "model_module_version": "2.0.0",
      "model_name": "ProgressStyleModel",
      "state": {
       "description_width": ""
      }
     },
     "ce936f4a7b7442b4bce1d0487ab9ce67": {
      "model_module": "@jupyter-widgets/controls",
      "model_module_version": "2.0.0",
      "model_name": "FloatProgressModel",
      "state": {
       "bar_style": "success",
       "layout": "IPY_MODEL_33e227418c11451eaa71da98a73824de",
       "max": 6,
       "style": "IPY_MODEL_f5f8f0158f5e4152a38befdfae4ec590",
       "value": 6
      }
     },
     "ceb07ebb580242619894a2c16e706be0": {
      "model_module": "@jupyter-widgets/base",
      "model_module_version": "2.0.0",
      "model_name": "LayoutModel",
      "state": {}
     },
     "ceb09d33dd824785acf3458f0f6f5b90": {
      "model_module": "@jupyter-widgets/controls",
      "model_module_version": "2.0.0",
      "model_name": "ProgressStyleModel",
      "state": {
       "description_width": ""
      }
     },
     "cee6b08836af4849b0c65597ec0a4bf1": {
      "model_module": "@jupyter-widgets/controls",
      "model_module_version": "2.0.0",
      "model_name": "HTMLModel",
      "state": {
       "layout": "IPY_MODEL_f4d962287f0a4127a69e007329d4b295",
       "style": "IPY_MODEL_63f72555303e4481a28135d51cbf9841",
       "value": "100%"
      }
     },
     "cf54b1ccc6414c8a97397e2727460764": {
      "model_module": "@jupyter-widgets/base",
      "model_module_version": "2.0.0",
      "model_name": "LayoutModel",
      "state": {}
     },
     "cf74716173fd494f8ea0332793acb220": {
      "model_module": "@jupyter-widgets/base",
      "model_module_version": "2.0.0",
      "model_name": "LayoutModel",
      "state": {}
     },
     "d13dd26971b44151b9d2858eba28a261": {
      "model_module": "@jupyter-widgets/controls",
      "model_module_version": "2.0.0",
      "model_name": "DescriptionStyleModel",
      "state": {
       "description_width": ""
      }
     },
     "d19518513e8a44dfa6fb2814c8c8f05d": {
      "model_module": "@jupyter-widgets/controls",
      "model_module_version": "2.0.0",
      "model_name": "DescriptionStyleModel",
      "state": {
       "description_width": ""
      }
     },
     "d198ef45d5a04f10855f3477e5f4f784": {
      "model_module": "@jupyter-widgets/base",
      "model_module_version": "2.0.0",
      "model_name": "LayoutModel",
      "state": {}
     },
     "d1d58a82f6344ab2a101af2e41334a21": {
      "model_module": "@jupyter-widgets/base",
      "model_module_version": "2.0.0",
      "model_name": "LayoutModel",
      "state": {}
     },
     "d2089328393446879bd5bea14c4c46d4": {
      "model_module": "@jupyter-widgets/base",
      "model_module_version": "2.0.0",
      "model_name": "LayoutModel",
      "state": {}
     },
     "d215b8a8add54994996af76ab889def9": {
      "model_module": "@jupyter-widgets/base",
      "model_module_version": "2.0.0",
      "model_name": "LayoutModel",
      "state": {}
     },
     "d23780089de748e3a6494a99c3811a90": {
      "model_module": "@jupyter-widgets/base",
      "model_module_version": "2.0.0",
      "model_name": "LayoutModel",
      "state": {}
     },
     "d27eb65ea0fb4a90a0ec72145561cd69": {
      "model_module": "@jupyter-widgets/controls",
      "model_module_version": "2.0.0",
      "model_name": "HBoxModel",
      "state": {
       "children": [
        "IPY_MODEL_36b244b936554e89b66a62ccb92cddff",
        "IPY_MODEL_b01ac6fa0bf14721b1a2505c3fe93267",
        "IPY_MODEL_a7aed6a1208c42f2a3249230064c6597"
       ],
       "layout": "IPY_MODEL_d9e198f42bd34f4bbed0a7207fa4066a"
      }
     },
     "d28805f81f2d4e939de07c7bfb0c3942": {
      "model_module": "@jupyter-widgets/controls",
      "model_module_version": "2.0.0",
      "model_name": "HTMLModel",
      "state": {
       "layout": "IPY_MODEL_82c29639356a4a678ac451eeb04f30de",
       "style": "IPY_MODEL_bf4a972555a14ee59cc8ab9d09092f4e",
       "value": "100%"
      }
     },
     "d2a0bce7014243eea3c459bb4989239a": {
      "model_module": "@jupyter-widgets/controls",
      "model_module_version": "2.0.0",
      "model_name": "HBoxModel",
      "state": {
       "children": [
        "IPY_MODEL_229cd52eb0e84464ba9215674f6cc175",
        "IPY_MODEL_ce936f4a7b7442b4bce1d0487ab9ce67",
        "IPY_MODEL_1a3e94e077794b26a5f1d4383652e342"
       ],
       "layout": "IPY_MODEL_da56b68130ac42c0946bd3a2d5a758f4"
      }
     },
     "d2dc6893736e407cb84282e4eceb0b6f": {
      "model_module": "@jupyter-widgets/controls",
      "model_module_version": "2.0.0",
      "model_name": "HTMLModel",
      "state": {
       "layout": "IPY_MODEL_317facdbf72e446fb5da04ed0647fdad",
       "style": "IPY_MODEL_ead2c8de8254474aa03caec7fb6f8f4f",
       "value": " 6/6 [00:11&lt;00:00,  2.80s/it]"
      }
     },
     "d2f142dce1c9498c806f06a30b43f04b": {
      "model_module": "@jupyter-widgets/controls",
      "model_module_version": "2.0.0",
      "model_name": "FloatProgressModel",
      "state": {
       "bar_style": "success",
       "layout": "IPY_MODEL_6fcff024baf2498bb3ac78f0d1527144",
       "max": 14,
       "style": "IPY_MODEL_3e41b6f6cbc4447a8970ae9f5bb50caf",
       "value": 14
      }
     },
     "d3134f14b8944f4987bb3b46c8f59e6d": {
      "model_module": "@jupyter-widgets/controls",
      "model_module_version": "2.0.0",
      "model_name": "FloatProgressModel",
      "state": {
       "bar_style": "success",
       "layout": "IPY_MODEL_87ed297c898a4aa8a059c3d7c6418959",
       "max": 14,
       "style": "IPY_MODEL_416740e46d6445bdab71fba20bb12459",
       "value": 14
      }
     },
     "d463b721d2be4341b9411cf03bac5304": {
      "model_module": "@jupyter-widgets/controls",
      "model_module_version": "2.0.0",
      "model_name": "DescriptionStyleModel",
      "state": {
       "description_width": ""
      }
     },
     "d46e3a69176d4082bb5494990e3ecd88": {
      "model_module": "@jupyter-widgets/controls",
      "model_module_version": "2.0.0",
      "model_name": "HTMLStyleModel",
      "state": {
       "description_width": "",
       "font_size": null,
       "text_color": null
      }
     },
     "d48b08577167403c853df23ea21f8587": {
      "model_module": "@jupyter-widgets/controls",
      "model_module_version": "2.0.0",
      "model_name": "HBoxModel",
      "state": {
       "children": [
        "IPY_MODEL_982382b357b14ca8804bd87ffe32397e",
        "IPY_MODEL_d7a56ac309b042a68746893386ad2d9d",
        "IPY_MODEL_361f76237aa24315b59c5ca16a22a090"
       ],
       "layout": "IPY_MODEL_bb3bcedafa734364a633828b37f8bd9f"
      }
     },
     "d508b30885034954883d0ecb2f25290a": {
      "model_module": "@jupyter-widgets/controls",
      "model_module_version": "2.0.0",
      "model_name": "FloatProgressModel",
      "state": {
       "bar_style": "success",
       "layout": "IPY_MODEL_c34809797e2148929c31c45e8f49a95c",
       "max": 3,
       "style": "IPY_MODEL_24aeaa95de3f4885976b8a9a38c9b3bf",
       "value": 3
      }
     },
     "d520791859134727bc1617d07d6991ba": {
      "model_module": "@jupyter-widgets/base",
      "model_module_version": "2.0.0",
      "model_name": "LayoutModel",
      "state": {}
     },
     "d545003943714d8c998b2c7a376fd3ff": {
      "model_module": "@jupyter-widgets/base",
      "model_module_version": "2.0.0",
      "model_name": "LayoutModel",
      "state": {}
     },
     "d693d67d5f77496bb181a98fdc0b7233": {
      "model_module": "@jupyter-widgets/controls",
      "model_module_version": "2.0.0",
      "model_name": "FloatProgressModel",
      "state": {
       "bar_style": "success",
       "layout": "IPY_MODEL_0eb105eb3c3a4e0e8ad0c0555002b74a",
       "max": 6,
       "style": "IPY_MODEL_ae935114aa1e4839b970b1db58c9c731",
       "value": 6
      }
     },
     "d6e18d7031c9403c8ab3e13577ae7c18": {
      "model_module": "@jupyter-widgets/base",
      "model_module_version": "2.0.0",
      "model_name": "LayoutModel",
      "state": {}
     },
     "d70423af9ef64c5a9d6538a15c6e12b9": {
      "model_module": "@jupyter-widgets/base",
      "model_module_version": "2.0.0",
      "model_name": "LayoutModel",
      "state": {}
     },
     "d73879b228ab41edbd87b375a6c4d3eb": {
      "model_module": "@jupyter-widgets/controls",
      "model_module_version": "2.0.0",
      "model_name": "FloatProgressModel",
      "state": {
       "bar_style": "success",
       "layout": "IPY_MODEL_946cadf61f5e47fd8270beb2329cf33b",
       "max": 3,
       "style": "IPY_MODEL_59116e8e1096438c959870c7d5a626e4",
       "value": 3
      }
     },
     "d7436bd261a3403b974de6b6da39f46a": {
      "model_module": "@jupyter-widgets/controls",
      "model_module_version": "2.0.0",
      "model_name": "HTMLStyleModel",
      "state": {
       "description_width": "",
       "font_size": null,
       "text_color": null
      }
     },
     "d7843afa00d04ccfa17c4f7a2c0ead9c": {
      "model_module": "@jupyter-widgets/controls",
      "model_module_version": "2.0.0",
      "model_name": "HTMLModel",
      "state": {
       "layout": "IPY_MODEL_dcad3c2850bd4b17934478b75dc1d522",
       "style": "IPY_MODEL_11d0dc6ff6db4abe8434128bba74e17a",
       "value": "100%"
      }
     },
     "d790f3b779934eee8348804dd22ba3c1": {
      "model_module": "@jupyter-widgets/base",
      "model_module_version": "2.0.0",
      "model_name": "LayoutModel",
      "state": {}
     },
     "d79d6b73af2144729bed6a955c95e6e1": {
      "model_module": "@jupyter-widgets/controls",
      "model_module_version": "2.0.0",
      "model_name": "HTMLModel",
      "state": {
       "layout": "IPY_MODEL_39954bc2a54d43c78994d415f66343e6",
       "style": "IPY_MODEL_0f26d84da7c14a52a03a1d4cfbbc0405",
       "value": "100%"
      }
     },
     "d7a56ac309b042a68746893386ad2d9d": {
      "model_module": "@jupyter-widgets/controls",
      "model_module_version": "2.0.0",
      "model_name": "FloatProgressModel",
      "state": {
       "bar_style": "success",
       "layout": "IPY_MODEL_38b3f926069543699e7356d6fb50128f",
       "max": 6,
       "style": "IPY_MODEL_552543fdef3e445191c3480ff295802c",
       "value": 6
      }
     },
     "d7b063232f184ceca6520530d9f21b38": {
      "model_module": "@jupyter-widgets/controls",
      "model_module_version": "2.0.0",
      "model_name": "DescriptionStyleModel",
      "state": {
       "description_width": ""
      }
     },
     "d7d389b119e943efb26c211533ca5275": {
      "model_module": "@jupyter-widgets/controls",
      "model_module_version": "2.0.0",
      "model_name": "FloatProgressModel",
      "state": {
       "bar_style": "success",
       "layout": "IPY_MODEL_e26fc1c804f246fdacba70c9768b3757",
       "max": 14,
       "style": "IPY_MODEL_9a104c1a479a4b499033e7c555c78f9e",
       "value": 14
      }
     },
     "d7ec9dc0b86e4aa7adcd14aaab8643e1": {
      "model_module": "@jupyter-widgets/controls",
      "model_module_version": "2.0.0",
      "model_name": "HTMLModel",
      "state": {
       "layout": "IPY_MODEL_af1d80e909114d99b94b5888fcdc68a0",
       "style": "IPY_MODEL_274cfec487e047da9460c594076afe69",
       "value": " 6/6 [00:11&lt;00:00,  2.80s/it]"
      }
     },
     "d81ac806a89843e3a258a28316de145f": {
      "model_module": "@jupyter-widgets/base",
      "model_module_version": "2.0.0",
      "model_name": "LayoutModel",
      "state": {}
     },
     "d828002b1a404756b8f9dbfc96b1ffc1": {
      "model_module": "@jupyter-widgets/controls",
      "model_module_version": "2.0.0",
      "model_name": "FloatProgressModel",
      "state": {
       "bar_style": "success",
       "layout": "IPY_MODEL_2d42c6d71c264d4b9b14ffa02a354d67",
       "max": 6,
       "style": "IPY_MODEL_fd5e81f960e243358e7a5d42b3ba3402",
       "value": 6
      }
     },
     "d839910f6a224af7a9deb86a641b9b32": {
      "model_module": "@jupyter-widgets/controls",
      "model_module_version": "2.0.0",
      "model_name": "HBoxModel",
      "state": {
       "children": [
        "IPY_MODEL_0063857eab204d448a73753b8424dbad",
        "IPY_MODEL_7f39e4fb792e4f0dbe1c7c27002d693a",
        "IPY_MODEL_8119cd3961734583bf6db0c483e7f3a5"
       ],
       "layout": "IPY_MODEL_8884c47ab3c441ce8df0a22eac4b497e"
      }
     },
     "d83ded3010ff4830bdcfd81c9fcef800": {
      "model_module": "@jupyter-widgets/controls",
      "model_module_version": "2.0.0",
      "model_name": "ProgressStyleModel",
      "state": {
       "description_width": ""
      }
     },
     "d83e8dcffaef45478777c81975daeb66": {
      "model_module": "@jupyter-widgets/controls",
      "model_module_version": "2.0.0",
      "model_name": "HTMLModel",
      "state": {
       "layout": "IPY_MODEL_6176e82b1a604fb6b50991303317d235",
       "style": "IPY_MODEL_8ec11039193343d798c4d59b2cfe705b",
       "value": " 3/3 [00:10&lt;00:00,  4.19s/it]"
      }
     },
     "d87a02a290ab42fb8f24de71c309cf8f": {
      "model_module": "@jupyter-widgets/controls",
      "model_module_version": "2.0.0",
      "model_name": "DescriptionStyleModel",
      "state": {
       "description_width": ""
      }
     },
     "d87c3678554943cfaf04488344ff5fe6": {
      "model_module": "@jupyter-widgets/base",
      "model_module_version": "2.0.0",
      "model_name": "LayoutModel",
      "state": {}
     },
     "d8b129d3a2c341ac9bc912eaa595c0a3": {
      "model_module": "@jupyter-widgets/base",
      "model_module_version": "2.0.0",
      "model_name": "LayoutModel",
      "state": {}
     },
     "d8dded7411de4690a558a1ae7a282d56": {
      "model_module": "@jupyter-widgets/controls",
      "model_module_version": "2.0.0",
      "model_name": "DescriptionStyleModel",
      "state": {
       "description_width": ""
      }
     },
     "d9e198f42bd34f4bbed0a7207fa4066a": {
      "model_module": "@jupyter-widgets/base",
      "model_module_version": "2.0.0",
      "model_name": "LayoutModel",
      "state": {}
     },
     "da154e78fb2f4ccaaf9eaeb787bacfe6": {
      "model_module": "@jupyter-widgets/base",
      "model_module_version": "2.0.0",
      "model_name": "LayoutModel",
      "state": {}
     },
     "da56b68130ac42c0946bd3a2d5a758f4": {
      "model_module": "@jupyter-widgets/base",
      "model_module_version": "2.0.0",
      "model_name": "LayoutModel",
      "state": {}
     },
     "dab4fd7806aa4fc0ba7c459b813d3f9d": {
      "model_module": "@jupyter-widgets/controls",
      "model_module_version": "2.0.0",
      "model_name": "ProgressStyleModel",
      "state": {
       "description_width": ""
      }
     },
     "dab97a99fde448d99052d64e95b5cf63": {
      "model_module": "@jupyter-widgets/base",
      "model_module_version": "2.0.0",
      "model_name": "LayoutModel",
      "state": {}
     },
     "dac323477cf149139d9d28f79c4064bc": {
      "model_module": "@jupyter-widgets/base",
      "model_module_version": "2.0.0",
      "model_name": "LayoutModel",
      "state": {}
     },
     "dc0cb38431e34554a24eb56835159b14": {
      "model_module": "@jupyter-widgets/base",
      "model_module_version": "2.0.0",
      "model_name": "LayoutModel",
      "state": {}
     },
     "dc0dd2981a724c11960fdfb9c4753949": {
      "model_module": "@jupyter-widgets/controls",
      "model_module_version": "2.0.0",
      "model_name": "HTMLModel",
      "state": {
       "layout": "IPY_MODEL_f4f9b0038c9c44619b86920342744735",
       "style": "IPY_MODEL_7aab256f06ef4b9e8565daa375e42e01",
       "value": "100%"
      }
     },
     "dc28259a0652441aacc9366d13c53f3c": {
      "model_module": "@jupyter-widgets/base",
      "model_module_version": "2.0.0",
      "model_name": "LayoutModel",
      "state": {}
     },
     "dc68bf3968c245a59d61247ef22df629": {
      "model_module": "@jupyter-widgets/base",
      "model_module_version": "2.0.0",
      "model_name": "LayoutModel",
      "state": {}
     },
     "dcad3c2850bd4b17934478b75dc1d522": {
      "model_module": "@jupyter-widgets/base",
      "model_module_version": "2.0.0",
      "model_name": "LayoutModel",
      "state": {}
     },
     "dcc6fc36c70f4eb6864cde07b3f8c400": {
      "model_module": "@jupyter-widgets/controls",
      "model_module_version": "2.0.0",
      "model_name": "HBoxModel",
      "state": {
       "children": [
        "IPY_MODEL_b4656c34dfcd43a29c49c3e1e07e4a50",
        "IPY_MODEL_4c341a451372475c8ab1b62d52cc124c",
        "IPY_MODEL_6f0469764bbf4e3aacaca79738c9664f"
       ],
       "layout": "IPY_MODEL_3095d5471968403f8ffde3590444ba81"
      }
     },
     "dcca8bf40bd64061b09a211cc68bba61": {
      "model_module": "@jupyter-widgets/controls",
      "model_module_version": "2.0.0",
      "model_name": "HTMLModel",
      "state": {
       "layout": "IPY_MODEL_4664fa510ec24a1f8e977e573fdb1129",
       "style": "IPY_MODEL_614f7e74e8964772bbf709eec39a1524",
       "value": "100%"
      }
     },
     "dcead6a4bc7c4ebd98c57b29a4cbd66a": {
      "model_module": "@jupyter-widgets/base",
      "model_module_version": "2.0.0",
      "model_name": "LayoutModel",
      "state": {}
     },
     "dd17114b4a1c46e3880a89bcd314b090": {
      "model_module": "@jupyter-widgets/controls",
      "model_module_version": "2.0.0",
      "model_name": "FloatProgressModel",
      "state": {
       "bar_style": "success",
       "layout": "IPY_MODEL_a422eb421d334c8a8df8cec41b824897",
       "max": 14,
       "style": "IPY_MODEL_83367f94883e4fd6883bf6596850b72c",
       "value": 14
      }
     },
     "dd17374c13934f22b4d149c3c17afd1d": {
      "model_module": "@jupyter-widgets/controls",
      "model_module_version": "2.0.0",
      "model_name": "HTMLModel",
      "state": {
       "layout": "IPY_MODEL_1770df0cfa014ba89fca32d9ccf66276",
       "style": "IPY_MODEL_23ff1d5181ff474a8548c4341dace698",
       "value": " 14/14 [00:35&lt;00:00,  2.63s/it]"
      }
     },
     "dd4cfe4c1c19432d814165e8bfcadbdb": {
      "model_module": "@jupyter-widgets/controls",
      "model_module_version": "2.0.0",
      "model_name": "HTMLModel",
      "state": {
       "layout": "IPY_MODEL_77569b61b9f94b3bba023f8f25e98d70",
       "style": "IPY_MODEL_4fe88752d63e465dacddb2e96db851fc",
       "value": " 3/3 [00:10&lt;00:00,  4.18s/it]"
      }
     },
     "dd6570846ab0438d81b9a130d3dcc1c4": {
      "model_module": "@jupyter-widgets/controls",
      "model_module_version": "2.0.0",
      "model_name": "HTMLStyleModel",
      "state": {
       "description_width": "",
       "font_size": null,
       "text_color": null
      }
     },
     "dd9f8393faa64097954bd7d834610506": {
      "model_module": "@jupyter-widgets/controls",
      "model_module_version": "2.0.0",
      "model_name": "ProgressStyleModel",
      "state": {
       "description_width": ""
      }
     },
     "ddd0a93088564db392114ce48622e704": {
      "model_module": "@jupyter-widgets/controls",
      "model_module_version": "2.0.0",
      "model_name": "DescriptionStyleModel",
      "state": {
       "description_width": ""
      }
     },
     "de34218bb04f441bb1bc43e285752ade": {
      "model_module": "@jupyter-widgets/controls",
      "model_module_version": "2.0.0",
      "model_name": "HTMLModel",
      "state": {
       "layout": "IPY_MODEL_7d1f068199244ed6b81817ea80f86c30",
       "style": "IPY_MODEL_72959c60ea7840199da1f865e3205678",
       "value": "100%"
      }
     },
     "de728bf9065147a785cfed2cb35fefdb": {
      "model_module": "@jupyter-widgets/controls",
      "model_module_version": "2.0.0",
      "model_name": "ProgressStyleModel",
      "state": {
       "description_width": ""
      }
     },
     "df91ae866b7c4ab583dd9c521498031c": {
      "model_module": "@jupyter-widgets/controls",
      "model_module_version": "2.0.0",
      "model_name": "DescriptionStyleModel",
      "state": {
       "description_width": ""
      }
     },
     "dfe293cf4ff94c02886d72dddbd301f1": {
      "model_module": "@jupyter-widgets/base",
      "model_module_version": "2.0.0",
      "model_name": "LayoutModel",
      "state": {}
     },
     "e00f2d4bde8d4977a2c1fcf12272aee9": {
      "model_module": "@jupyter-widgets/base",
      "model_module_version": "2.0.0",
      "model_name": "LayoutModel",
      "state": {}
     },
     "e026cb4a76f64518aa80c32c5d6bc6d6": {
      "model_module": "@jupyter-widgets/controls",
      "model_module_version": "2.0.0",
      "model_name": "HTMLModel",
      "state": {
       "layout": "IPY_MODEL_dab97a99fde448d99052d64e95b5cf63",
       "style": "IPY_MODEL_73d6e42220b34c1db7c9c32952805469",
       "value": " 14/14 [00:34&lt;00:00,  2.55s/it]"
      }
     },
     "e07857edb1ab4b4aa304bfdd6b694ad9": {
      "model_module": "@jupyter-widgets/controls",
      "model_module_version": "2.0.0",
      "model_name": "HBoxModel",
      "state": {
       "children": [
        "IPY_MODEL_0f9c8d0f704c4e5ba707cf9fc4bd45ae",
        "IPY_MODEL_e33c825926f441ecb36ebe2d47c4af8f",
        "IPY_MODEL_dd17374c13934f22b4d149c3c17afd1d"
       ],
       "layout": "IPY_MODEL_2170228775ec4e85803342171d2bcc44"
      }
     },
     "e107e09de9494b96ba9563b361cbfa93": {
      "model_module": "@jupyter-widgets/controls",
      "model_module_version": "2.0.0",
      "model_name": "HTMLStyleModel",
      "state": {
       "description_width": "",
       "font_size": null,
       "text_color": null
      }
     },
     "e11311ed201b4eec8375f0060b43cdd3": {
      "model_module": "@jupyter-widgets/base",
      "model_module_version": "2.0.0",
      "model_name": "LayoutModel",
      "state": {}
     },
     "e11500d7c68642fbb6c1587fa476ab91": {
      "model_module": "@jupyter-widgets/controls",
      "model_module_version": "2.0.0",
      "model_name": "DescriptionStyleModel",
      "state": {
       "description_width": ""
      }
     },
     "e1b73ba901f94de3bfe97bd1cf8952e9": {
      "model_module": "@jupyter-widgets/controls",
      "model_module_version": "2.0.0",
      "model_name": "ProgressStyleModel",
      "state": {
       "description_width": ""
      }
     },
     "e1c181b12aa041edae8c0265a09202d8": {
      "model_module": "@jupyter-widgets/controls",
      "model_module_version": "2.0.0",
      "model_name": "ProgressStyleModel",
      "state": {
       "description_width": ""
      }
     },
     "e23df4b8b10148898f49280b3bd8308a": {
      "model_module": "@jupyter-widgets/base",
      "model_module_version": "2.0.0",
      "model_name": "LayoutModel",
      "state": {}
     },
     "e245076ed2dc4397ab5a192b2f9ecd9c": {
      "model_module": "@jupyter-widgets/controls",
      "model_module_version": "2.0.0",
      "model_name": "HBoxModel",
      "state": {
       "children": [
        "IPY_MODEL_0d4bc172676c4414864818a4ac6416fe",
        "IPY_MODEL_341a7cfa9b9240699db09f61bf95cb69",
        "IPY_MODEL_761febfec9434d18a10e7a292405c5d3"
       ],
       "layout": "IPY_MODEL_055973be849e46938f53875663039720"
      }
     },
     "e26fc1c804f246fdacba70c9768b3757": {
      "model_module": "@jupyter-widgets/base",
      "model_module_version": "2.0.0",
      "model_name": "LayoutModel",
      "state": {}
     },
     "e27c6e761b364d56bc2c9cee005861aa": {
      "model_module": "@jupyter-widgets/controls",
      "model_module_version": "2.0.0",
      "model_name": "DescriptionStyleModel",
      "state": {
       "description_width": ""
      }
     },
     "e2a0c13496744ad68d896d64a962e737": {
      "model_module": "@jupyter-widgets/controls",
      "model_module_version": "2.0.0",
      "model_name": "FloatProgressModel",
      "state": {
       "bar_style": "success",
       "layout": "IPY_MODEL_8fa32913544f4ff7ae6cc19b754896c1",
       "max": 14,
       "style": "IPY_MODEL_876f19a2a1274dfaab89aed4f6d34307",
       "value": 14
      }
     },
     "e2bebc0e11bb4c67b655a2bb0e52d17c": {
      "model_module": "@jupyter-widgets/controls",
      "model_module_version": "2.0.0",
      "model_name": "HTMLModel",
      "state": {
       "layout": "IPY_MODEL_5627352635654cd58c96ca414f1e6114",
       "style": "IPY_MODEL_a7d4d21d229e48928273980fb1f57c78",
       "value": "100%"
      }
     },
     "e2df143c4ac449a490b970fc5d42903d": {
      "model_module": "@jupyter-widgets/base",
      "model_module_version": "2.0.0",
      "model_name": "LayoutModel",
      "state": {}
     },
     "e2e8ccf1279e404e8a34624c43cb47a1": {
      "model_module": "@jupyter-widgets/controls",
      "model_module_version": "2.0.0",
      "model_name": "ProgressStyleModel",
      "state": {
       "description_width": ""
      }
     },
     "e2f9c553cda84b29b8912d2d332ae8cb": {
      "model_module": "@jupyter-widgets/controls",
      "model_module_version": "2.0.0",
      "model_name": "HTMLModel",
      "state": {
       "layout": "IPY_MODEL_e23df4b8b10148898f49280b3bd8308a",
       "style": "IPY_MODEL_eb4181bebf4d410e8b5c7badfad5bfda",
       "value": " 3/3 [00:10&lt;00:00,  4.20s/it]"
      }
     },
     "e33a5f4c714945229331ede15abc8eeb": {
      "model_module": "@jupyter-widgets/controls",
      "model_module_version": "2.0.0",
      "model_name": "HTMLStyleModel",
      "state": {
       "description_width": "",
       "font_size": null,
       "text_color": null
      }
     },
     "e33c825926f441ecb36ebe2d47c4af8f": {
      "model_module": "@jupyter-widgets/controls",
      "model_module_version": "2.0.0",
      "model_name": "FloatProgressModel",
      "state": {
       "bar_style": "success",
       "layout": "IPY_MODEL_5b069813b89b417297a48aeb2154fe67",
       "max": 14,
       "style": "IPY_MODEL_f46f147ed767438095a88af5a63a467a",
       "value": 14
      }
     },
     "e33de6c094a54effb98a325d8beecad8": {
      "model_module": "@jupyter-widgets/base",
      "model_module_version": "2.0.0",
      "model_name": "LayoutModel",
      "state": {}
     },
     "e370ebab14334b8aba9bb8bfed09edb4": {
      "model_module": "@jupyter-widgets/controls",
      "model_module_version": "2.0.0",
      "model_name": "HBoxModel",
      "state": {
       "children": [
        "IPY_MODEL_6f794c624be94766aa1173d268857714",
        "IPY_MODEL_0d3409116f40446cbda24b66b80c0548",
        "IPY_MODEL_9860d769f6e5456f8ab1d86485f89b89"
       ],
       "layout": "IPY_MODEL_bf8a60bc94df456e8eb3e78e65680454"
      }
     },
     "e3713f550fe34209b0ca21db1baa24aa": {
      "model_module": "@jupyter-widgets/controls",
      "model_module_version": "2.0.0",
      "model_name": "HTMLModel",
      "state": {
       "layout": "IPY_MODEL_f21572dd0fec42ae9fb1501edcecfecb",
       "style": "IPY_MODEL_a2955b360dac453d8c26fa7c5687f081",
       "value": "100%"
      }
     },
     "e3bb59a05fb8415c83eb1f0ab2bfbf5f": {
      "model_module": "@jupyter-widgets/controls",
      "model_module_version": "2.0.0",
      "model_name": "HTMLStyleModel",
      "state": {
       "description_width": "",
       "font_size": null,
       "text_color": null
      }
     },
     "e40cca4a10a44e0dbd27b705095264cc": {
      "model_module": "@jupyter-widgets/base",
      "model_module_version": "2.0.0",
      "model_name": "LayoutModel",
      "state": {}
     },
     "e49fc61a072143458af206edcef6af8c": {
      "model_module": "@jupyter-widgets/controls",
      "model_module_version": "2.0.0",
      "model_name": "DescriptionStyleModel",
      "state": {
       "description_width": ""
      }
     },
     "e4fee53c94fa471e8eb4b075e0b60ed2": {
      "model_module": "@jupyter-widgets/controls",
      "model_module_version": "2.0.0",
      "model_name": "ProgressStyleModel",
      "state": {
       "description_width": ""
      }
     },
     "e521aa828dc94af28f7c171bf9ee1566": {
      "model_module": "@jupyter-widgets/controls",
      "model_module_version": "2.0.0",
      "model_name": "HBoxModel",
      "state": {
       "children": [
        "IPY_MODEL_e585bad70ab040b2929b40c8daac6003",
        "IPY_MODEL_ccc5bf5d8d9348dfadf4db618a2aee02",
        "IPY_MODEL_854dbd68562548558ed1aa363a4554d2"
       ],
       "layout": "IPY_MODEL_67510021658848edbe477ad4bc8038f4"
      }
     },
     "e532c67f1c5a459dbaf78b5d1c681376": {
      "model_module": "@jupyter-widgets/controls",
      "model_module_version": "2.0.0",
      "model_name": "HTMLModel",
      "state": {
       "layout": "IPY_MODEL_d81ac806a89843e3a258a28316de145f",
       "style": "IPY_MODEL_1cf7ed64d07e42f1a35ac54ff80c9321",
       "value": " 6/6 [00:08&lt;00:00,  1.98s/it]"
      }
     },
     "e5627be0bb0747cbb16d4c50cdc94823": {
      "model_module": "@jupyter-widgets/base",
      "model_module_version": "2.0.0",
      "model_name": "LayoutModel",
      "state": {}
     },
     "e585bad70ab040b2929b40c8daac6003": {
      "model_module": "@jupyter-widgets/controls",
      "model_module_version": "2.0.0",
      "model_name": "HTMLModel",
      "state": {
       "layout": "IPY_MODEL_8d0d8c956fc0459f905a8b1a41ffe4fe",
       "style": "IPY_MODEL_7e6348b6f12249d5968b9eb97f166010",
       "value": "100%"
      }
     },
     "e58ad84b62ec439799d1916be0c1311f": {
      "model_module": "@jupyter-widgets/controls",
      "model_module_version": "2.0.0",
      "model_name": "HTMLStyleModel",
      "state": {
       "description_width": "",
       "font_size": null,
       "text_color": null
      }
     },
     "e59fd9367547423fbe88c0a69e5b5d4f": {
      "model_module": "@jupyter-widgets/base",
      "model_module_version": "2.0.0",
      "model_name": "LayoutModel",
      "state": {}
     },
     "e5ce606a16644d659863680e146e4706": {
      "model_module": "@jupyter-widgets/base",
      "model_module_version": "2.0.0",
      "model_name": "LayoutModel",
      "state": {}
     },
     "e5d5e45fb4914148aa722874d820f5b3": {
      "model_module": "@jupyter-widgets/controls",
      "model_module_version": "2.0.0",
      "model_name": "FloatProgressModel",
      "state": {
       "bar_style": "success",
       "layout": "IPY_MODEL_c61e0f4c117a4d1186762baca090503c",
       "max": 3,
       "style": "IPY_MODEL_332676bbba814a449eedc22d227442ce",
       "value": 3
      }
     },
     "e631feec27f44638b2b4bcc59588718e": {
      "model_module": "@jupyter-widgets/base",
      "model_module_version": "2.0.0",
      "model_name": "LayoutModel",
      "state": {}
     },
     "e6344aec656a4e2ebe984c2af55086ee": {
      "model_module": "@jupyter-widgets/controls",
      "model_module_version": "2.0.0",
      "model_name": "HTMLModel",
      "state": {
       "layout": "IPY_MODEL_3b0a2073456e43cbbc07113f5a06cd57",
       "style": "IPY_MODEL_3f64a682d5ca417bb12d96354fe97ee4",
       "value": " 14/14 [00:34&lt;00:00,  2.55s/it]"
      }
     },
     "e6601afb4f444433a8d2e37f465f45ab": {
      "model_module": "@jupyter-widgets/controls",
      "model_module_version": "2.0.0",
      "model_name": "DescriptionStyleModel",
      "state": {
       "description_width": ""
      }
     },
     "e67dee11d433417985572ac96d041333": {
      "model_module": "@jupyter-widgets/base",
      "model_module_version": "2.0.0",
      "model_name": "LayoutModel",
      "state": {}
     },
     "e6a099540d1b4981b0354d13867760e0": {
      "model_module": "@jupyter-widgets/controls",
      "model_module_version": "2.0.0",
      "model_name": "FloatProgressModel",
      "state": {
       "bar_style": "success",
       "layout": "IPY_MODEL_c2c9bae4f17b430f94173f93bee66759",
       "max": 14,
       "style": "IPY_MODEL_99424901800049039cf89f5962ef052d",
       "value": 14
      }
     },
     "e704b69e2c0147598b87d70959cc1d19": {
      "model_module": "@jupyter-widgets/base",
      "model_module_version": "2.0.0",
      "model_name": "LayoutModel",
      "state": {}
     },
     "e70f3c2d70b247df9fb2de2b32a22bdd": {
      "model_module": "@jupyter-widgets/controls",
      "model_module_version": "2.0.0",
      "model_name": "HTMLModel",
      "state": {
       "layout": "IPY_MODEL_90923c837e1b4ab9bc13f1267d9159d8",
       "style": "IPY_MODEL_abbeb2c6abf448dda079c6cbb462781b",
       "value": " 3/3 [00:10&lt;00:00,  4.12s/it]"
      }
     },
     "e744abc2fbcd45b6a9780d2183ae3d83": {
      "model_module": "@jupyter-widgets/controls",
      "model_module_version": "2.0.0",
      "model_name": "HTMLModel",
      "state": {
       "layout": "IPY_MODEL_240ac9bfcfca4ee1b8552b0aa6b1c30d",
       "style": "IPY_MODEL_f48ab7314b0244899aa892e212fa4d79",
       "value": "  0%"
      }
     },
     "e7c676f5f32c47ba9d376ed1e98d2579": {
      "model_module": "@jupyter-widgets/base",
      "model_module_version": "2.0.0",
      "model_name": "LayoutModel",
      "state": {}
     },
     "e83b55d4dce248a9ad00d59b4f589287": {
      "model_module": "@jupyter-widgets/controls",
      "model_module_version": "2.0.0",
      "model_name": "FloatProgressModel",
      "state": {
       "bar_style": "success",
       "layout": "IPY_MODEL_74b140d56f264876ad3baac400674e81",
       "max": 3,
       "style": "IPY_MODEL_56f349348df141708ca826a50e524d41",
       "value": 3
      }
     },
     "e888eadbc7f94bd8a49318165d57b41e": {
      "model_module": "@jupyter-widgets/base",
      "model_module_version": "2.0.0",
      "model_name": "LayoutModel",
      "state": {}
     },
     "e8e8410b949c4d85ab8ffc6736cacd90": {
      "model_module": "@jupyter-widgets/base",
      "model_module_version": "2.0.0",
      "model_name": "LayoutModel",
      "state": {}
     },
     "e8f26801067b4ef1828250d9824be275": {
      "model_module": "@jupyter-widgets/controls",
      "model_module_version": "2.0.0",
      "model_name": "ProgressStyleModel",
      "state": {
       "description_width": ""
      }
     },
     "e90406da19364701938d300128db6610": {
      "model_module": "@jupyter-widgets/controls",
      "model_module_version": "2.0.0",
      "model_name": "DescriptionStyleModel",
      "state": {
       "description_width": ""
      }
     },
     "e9242590798b48be820f5b35bb78d603": {
      "model_module": "@jupyter-widgets/controls",
      "model_module_version": "2.0.0",
      "model_name": "HBoxModel",
      "state": {
       "children": [
        "IPY_MODEL_e744abc2fbcd45b6a9780d2183ae3d83",
        "IPY_MODEL_3e57f777247b4598b82b5d44f6a95f1f",
        "IPY_MODEL_7eae24d97b304548b79fa6b8c4f0440c"
       ],
       "layout": "IPY_MODEL_bea60f47ad4342aa85af0a82419d5792"
      }
     },
     "e9851f713d7243c19f16d596d8687237": {
      "model_module": "@jupyter-widgets/controls",
      "model_module_version": "2.0.0",
      "model_name": "DescriptionStyleModel",
      "state": {
       "description_width": ""
      }
     },
     "e98c8a8741464f7d89d4b1b0c4ba928e": {
      "model_module": "@jupyter-widgets/controls",
      "model_module_version": "2.0.0",
      "model_name": "HTMLModel",
      "state": {
       "layout": "IPY_MODEL_4dd2a703b89e4906995b6ae63384ebec",
       "style": "IPY_MODEL_77c0f641a17541f098b0af2bfc288ba2",
       "value": "100%"
      }
     },
     "e9c5bf0eb79e49b88e40dc586ebe3e7c": {
      "model_module": "@jupyter-widgets/base",
      "model_module_version": "2.0.0",
      "model_name": "LayoutModel",
      "state": {}
     },
     "e9f11de37b074385b4ae630297261ce2": {
      "model_module": "@jupyter-widgets/base",
      "model_module_version": "2.0.0",
      "model_name": "LayoutModel",
      "state": {}
     },
     "ea5c5e28a3084a8e9b220f22ec95964c": {
      "model_module": "@jupyter-widgets/controls",
      "model_module_version": "2.0.0",
      "model_name": "DescriptionStyleModel",
      "state": {
       "description_width": ""
      }
     },
     "ead2c8de8254474aa03caec7fb6f8f4f": {
      "model_module": "@jupyter-widgets/controls",
      "model_module_version": "2.0.0",
      "model_name": "HTMLStyleModel",
      "state": {
       "description_width": "",
       "font_size": null,
       "text_color": null
      }
     },
     "eb0aa6c7a1894f94bcde787892e4921b": {
      "model_module": "@jupyter-widgets/controls",
      "model_module_version": "2.0.0",
      "model_name": "HTMLStyleModel",
      "state": {
       "description_width": "",
       "font_size": null,
       "text_color": null
      }
     },
     "eb4181bebf4d410e8b5c7badfad5bfda": {
      "model_module": "@jupyter-widgets/controls",
      "model_module_version": "2.0.0",
      "model_name": "DescriptionStyleModel",
      "state": {
       "description_width": ""
      }
     },
     "eb54245568c3417f8c1a3e0308150b39": {
      "model_module": "@jupyter-widgets/base",
      "model_module_version": "2.0.0",
      "model_name": "LayoutModel",
      "state": {}
     },
     "eba97bc2fe554e4d89a75a68452728ea": {
      "model_module": "@jupyter-widgets/controls",
      "model_module_version": "2.0.0",
      "model_name": "HTMLModel",
      "state": {
       "layout": "IPY_MODEL_e5ce606a16644d659863680e146e4706",
       "style": "IPY_MODEL_3282bc86098446bebd1e8f06a0a2af04",
       "value": " 3/3 [00:11&lt;00:00,  4.30s/it]"
      }
     },
     "ec90cfce9177485b883662ef681ad8d6": {
      "model_module": "@jupyter-widgets/controls",
      "model_module_version": "2.0.0",
      "model_name": "HTMLModel",
      "state": {
       "layout": "IPY_MODEL_5256fcf8c90746a2b585640096aabcd5",
       "style": "IPY_MODEL_59b8436cb07c42e9bc5b74d1bab28248",
       "value": "100%"
      }
     },
     "ecc123de3d6c47dc8f8232d19946d330": {
      "model_module": "@jupyter-widgets/controls",
      "model_module_version": "2.0.0",
      "model_name": "HBoxModel",
      "state": {
       "children": [
        "IPY_MODEL_3ddf5925f06b4d429e4f92bd152b3bec",
        "IPY_MODEL_516b22b99dad4b26bda95b7f5f377e6b",
        "IPY_MODEL_0365c814a1964bfa8a174f66d432d2d8"
       ],
       "layout": "IPY_MODEL_03a3d629e6154eacaca8081c71a01b2b"
      }
     },
     "ed4b45ecdd934060aec1b9f01e6666f3": {
      "model_module": "@jupyter-widgets/controls",
      "model_module_version": "2.0.0",
      "model_name": "ProgressStyleModel",
      "state": {
       "description_width": ""
      }
     },
     "ed986ba25e62442b805d11edfd26d196": {
      "model_module": "@jupyter-widgets/controls",
      "model_module_version": "2.0.0",
      "model_name": "FloatProgressModel",
      "state": {
       "bar_style": "success",
       "layout": "IPY_MODEL_7cdbaf6f3ca74f5f9129c7b62ff0fad9",
       "max": 6,
       "style": "IPY_MODEL_ce7f7abe8f384bdd91ef63c4be8b933c",
       "value": 6
      }
     },
     "edba1ebe3a684c6da97596e98b5211a5": {
      "model_module": "@jupyter-widgets/base",
      "model_module_version": "2.0.0",
      "model_name": "LayoutModel",
      "state": {}
     },
     "edd4ff7f3e974300b167832d9129ddc9": {
      "model_module": "@jupyter-widgets/controls",
      "model_module_version": "2.0.0",
      "model_name": "DescriptionStyleModel",
      "state": {
       "description_width": ""
      }
     },
     "edf5997f4a0c488abc2bd51d603e413b": {
      "model_module": "@jupyter-widgets/base",
      "model_module_version": "2.0.0",
      "model_name": "LayoutModel",
      "state": {}
     },
     "ee0c4e46207a4274a774314fe021f144": {
      "model_module": "@jupyter-widgets/base",
      "model_module_version": "2.0.0",
      "model_name": "LayoutModel",
      "state": {}
     },
     "ee2dd5434a194971bea98ba72eb8aad9": {
      "model_module": "@jupyter-widgets/controls",
      "model_module_version": "2.0.0",
      "model_name": "HBoxModel",
      "state": {
       "children": [
        "IPY_MODEL_81fd12c7fc3c414b93a7481f3fb7da1e",
        "IPY_MODEL_f48e026983244ac9ac89fe0530611c84",
        "IPY_MODEL_b7dc5056499647e6b599be2a6894c13b"
       ],
       "layout": "IPY_MODEL_219afd487156452a86e2406576ecfcc9"
      }
     },
     "ee40caa8c6a5462badf1997964bd8578": {
      "model_module": "@jupyter-widgets/controls",
      "model_module_version": "2.0.0",
      "model_name": "FloatProgressModel",
      "state": {
       "bar_style": "danger",
       "layout": "IPY_MODEL_b30a39d725ec4a5da7ab1f5f3027d270",
       "max": 6,
       "style": "IPY_MODEL_b77707f31c9b4dfd80bc0adc3c559056"
      }
     },
     "ee859f8513d14fd2a184aee7c23944ab": {
      "model_module": "@jupyter-widgets/base",
      "model_module_version": "2.0.0",
      "model_name": "LayoutModel",
      "state": {}
     },
     "eea860404204486385b30ba97d247ae2": {
      "model_module": "@jupyter-widgets/base",
      "model_module_version": "2.0.0",
      "model_name": "LayoutModel",
      "state": {}
     },
     "efc52319653d4b0bbd451e539181b0fa": {
      "model_module": "@jupyter-widgets/base",
      "model_module_version": "2.0.0",
      "model_name": "LayoutModel",
      "state": {}
     },
     "f02c4f5a3cc94e6a894dfcdd90c4a76c": {
      "model_module": "@jupyter-widgets/controls",
      "model_module_version": "2.0.0",
      "model_name": "DescriptionStyleModel",
      "state": {
       "description_width": ""
      }
     },
     "f088742121f542cdb895747b227deca2": {
      "model_module": "@jupyter-widgets/controls",
      "model_module_version": "2.0.0",
      "model_name": "DescriptionStyleModel",
      "state": {
       "description_width": ""
      }
     },
     "f088a133a8804674b9dd7f297ffbf9c2": {
      "model_module": "@jupyter-widgets/controls",
      "model_module_version": "2.0.0",
      "model_name": "FloatProgressModel",
      "state": {
       "bar_style": "success",
       "layout": "IPY_MODEL_4649dcb9189249368cf39bbc84f2235f",
       "max": 3,
       "style": "IPY_MODEL_89df800d4df747eaa75255a756977bf8",
       "value": 3
      }
     },
     "f0db023865de4e75a40b4550172c6138": {
      "model_module": "@jupyter-widgets/controls",
      "model_module_version": "2.0.0",
      "model_name": "HBoxModel",
      "state": {
       "children": [
        "IPY_MODEL_bd3f5d9954cd4a91a7381e105cf45022",
        "IPY_MODEL_70268c8c928f4f88b7800ca0b349bf8e",
        "IPY_MODEL_5af10075c7954a7a86b516adebbabe88"
       ],
       "layout": "IPY_MODEL_9cf5eea599ac405eba88a368b841cb7b"
      }
     },
     "f0f757600cc0422fb1fcae4bbfb667b7": {
      "model_module": "@jupyter-widgets/base",
      "model_module_version": "2.0.0",
      "model_name": "LayoutModel",
      "state": {}
     },
     "f10a509f4c6a45be95fd03a4d39b1837": {
      "model_module": "@jupyter-widgets/base",
      "model_module_version": "2.0.0",
      "model_name": "LayoutModel",
      "state": {}
     },
     "f13ca19e18544997bae83876d0159c0a": {
      "model_module": "@jupyter-widgets/controls",
      "model_module_version": "2.0.0",
      "model_name": "DescriptionStyleModel",
      "state": {
       "description_width": ""
      }
     },
     "f13fb1a0d89e42c0afa8612021dcb98e": {
      "model_module": "@jupyter-widgets/controls",
      "model_module_version": "2.0.0",
      "model_name": "HTMLModel",
      "state": {
       "layout": "IPY_MODEL_b2eb49191f454d1ca89219338d27fff3",
       "style": "IPY_MODEL_6d0bfbc93a1545819218856abadd1ff0",
       "value": " 6/6 [00:11&lt;00:00,  2.78s/it]"
      }
     },
     "f1a0ce767920426aa410782640361065": {
      "model_module": "@jupyter-widgets/controls",
      "model_module_version": "2.0.0",
      "model_name": "HBoxModel",
      "state": {
       "children": [
        "IPY_MODEL_1fc82bd317434156a2e9298ba5e183fd",
        "IPY_MODEL_e6a099540d1b4981b0354d13867760e0",
        "IPY_MODEL_b1869575b6bc48b185eadfefede9f2ea"
       ],
       "layout": "IPY_MODEL_b3c64d1d470d4303ba1161800f662b9d"
      }
     },
     "f1cadea86f4349a5ab89df8c16368f3f": {
      "model_module": "@jupyter-widgets/base",
      "model_module_version": "2.0.0",
      "model_name": "LayoutModel",
      "state": {}
     },
     "f1cf5257a926489ebdcef6587525d199": {
      "model_module": "@jupyter-widgets/base",
      "model_module_version": "2.0.0",
      "model_name": "LayoutModel",
      "state": {}
     },
     "f1cfc5bb0898456ca8f5c538a609a70f": {
      "model_module": "@jupyter-widgets/controls",
      "model_module_version": "2.0.0",
      "model_name": "DescriptionStyleModel",
      "state": {
       "description_width": ""
      }
     },
     "f1e99bec5c1a4eb288eb61fa64cd9703": {
      "model_module": "@jupyter-widgets/controls",
      "model_module_version": "2.0.0",
      "model_name": "FloatProgressModel",
      "state": {
       "bar_style": "danger",
       "layout": "IPY_MODEL_dac323477cf149139d9d28f79c4064bc",
       "max": 6,
       "style": "IPY_MODEL_3d47e1796585418ca1b913a20708cefa",
       "value": 5
      }
     },
     "f1f91959b5e34777a43a77fabbc2547b": {
      "model_module": "@jupyter-widgets/base",
      "model_module_version": "2.0.0",
      "model_name": "LayoutModel",
      "state": {}
     },
     "f205a09d309f47fe9800e84ab1b9b096": {
      "model_module": "@jupyter-widgets/controls",
      "model_module_version": "2.0.0",
      "model_name": "FloatProgressModel",
      "state": {
       "bar_style": "success",
       "layout": "IPY_MODEL_c1d48ac75e284e85b0d09d8c36f30458",
       "max": 6,
       "style": "IPY_MODEL_a98327ed4bd04814ab99164413777c03",
       "value": 6
      }
     },
     "f21572dd0fec42ae9fb1501edcecfecb": {
      "model_module": "@jupyter-widgets/base",
      "model_module_version": "2.0.0",
      "model_name": "LayoutModel",
      "state": {}
     },
     "f21e3b344edc4b7dac55236cc7acdf7f": {
      "model_module": "@jupyter-widgets/controls",
      "model_module_version": "2.0.0",
      "model_name": "HBoxModel",
      "state": {
       "children": [
        "IPY_MODEL_009e9b31c50b45ce98d8d25a7a492aac",
        "IPY_MODEL_298d55ec99f54dcd8e73ef8eba7e4595",
        "IPY_MODEL_98ebb002e3a64642ad056d5f1b073578"
       ],
       "layout": "IPY_MODEL_80c763c7699b4ff49a71253aa16e9b40"
      }
     },
     "f27ed8d568e3443b8ebfc12dea126023": {
      "model_module": "@jupyter-widgets/base",
      "model_module_version": "2.0.0",
      "model_name": "LayoutModel",
      "state": {}
     },
     "f287eebaea2a42059275cf322b97e556": {
      "model_module": "@jupyter-widgets/controls",
      "model_module_version": "2.0.0",
      "model_name": "DescriptionStyleModel",
      "state": {
       "description_width": ""
      }
     },
     "f2b100e087414d70b6a7854840f6a755": {
      "model_module": "@jupyter-widgets/controls",
      "model_module_version": "2.0.0",
      "model_name": "HBoxModel",
      "state": {
       "children": [
        "IPY_MODEL_cc828325858743d1a489b03205ca511f",
        "IPY_MODEL_69329a3476f64b6ebd2f92c94b295e8c",
        "IPY_MODEL_e2f9c553cda84b29b8912d2d332ae8cb"
       ],
       "layout": "IPY_MODEL_310227bd46d14740a6e6c01f119281fe"
      }
     },
     "f302702e49304ecc970ba60d6dff4f48": {
      "model_module": "@jupyter-widgets/base",
      "model_module_version": "2.0.0",
      "model_name": "LayoutModel",
      "state": {}
     },
     "f3448abc46c64dcc99030e01f7f7c0ad": {
      "model_module": "@jupyter-widgets/controls",
      "model_module_version": "2.0.0",
      "model_name": "HTMLModel",
      "state": {
       "layout": "IPY_MODEL_c931633d20a244ef9feb92c378ca50c7",
       "style": "IPY_MODEL_97911fa7f7ff4b9ca533f84f14ba8a8d",
       "value": "100%"
      }
     },
     "f37ee6991b5b4c67b17f201ce50e2880": {
      "model_module": "@jupyter-widgets/controls",
      "model_module_version": "2.0.0",
      "model_name": "HTMLModel",
      "state": {
       "layout": "IPY_MODEL_a93293402c394b809ddfc405b57fc3ae",
       "style": "IPY_MODEL_4f45b7be062545dfad8cd46b855234c4",
       "value": "100%"
      }
     },
     "f387bf1b5492446ba39e2624cfcd4629": {
      "model_module": "@jupyter-widgets/base",
      "model_module_version": "2.0.0",
      "model_name": "LayoutModel",
      "state": {}
     },
     "f44d75a7f63d49649d2bd08154c9e62d": {
      "model_module": "@jupyter-widgets/controls",
      "model_module_version": "2.0.0",
      "model_name": "HBoxModel",
      "state": {
       "children": [
        "IPY_MODEL_4a02dde9f0c2473ca483bd879aae9897",
        "IPY_MODEL_aceda0a21c1a4b75853cdb8a59f7eadf",
        "IPY_MODEL_8ff573009e114a3f87d3b18fc70f28cc"
       ],
       "layout": "IPY_MODEL_c9926b82ab4345ebbeaf72d68b2d7259"
      }
     },
     "f46f147ed767438095a88af5a63a467a": {
      "model_module": "@jupyter-widgets/controls",
      "model_module_version": "2.0.0",
      "model_name": "ProgressStyleModel",
      "state": {
       "description_width": ""
      }
     },
     "f48ab7314b0244899aa892e212fa4d79": {
      "model_module": "@jupyter-widgets/controls",
      "model_module_version": "2.0.0",
      "model_name": "HTMLStyleModel",
      "state": {
       "description_width": "",
       "font_size": null,
       "text_color": null
      }
     },
     "f48e026983244ac9ac89fe0530611c84": {
      "model_module": "@jupyter-widgets/controls",
      "model_module_version": "2.0.0",
      "model_name": "FloatProgressModel",
      "state": {
       "bar_style": "success",
       "layout": "IPY_MODEL_4cf01c7addd141348d4644f6e298d0c3",
       "max": 14,
       "style": "IPY_MODEL_9216e0e0907040929f6e274b03ee6243",
       "value": 14
      }
     },
     "f4d962287f0a4127a69e007329d4b295": {
      "model_module": "@jupyter-widgets/base",
      "model_module_version": "2.0.0",
      "model_name": "LayoutModel",
      "state": {}
     },
     "f4e82aa0dad7492e9f251f424c0459f3": {
      "model_module": "@jupyter-widgets/controls",
      "model_module_version": "2.0.0",
      "model_name": "DescriptionStyleModel",
      "state": {
       "description_width": ""
      }
     },
     "f4f9b0038c9c44619b86920342744735": {
      "model_module": "@jupyter-widgets/base",
      "model_module_version": "2.0.0",
      "model_name": "LayoutModel",
      "state": {}
     },
     "f5b2aff67783436c98d18958c3462638": {
      "model_module": "@jupyter-widgets/controls",
      "model_module_version": "2.0.0",
      "model_name": "HTMLModel",
      "state": {
       "layout": "IPY_MODEL_e9c5bf0eb79e49b88e40dc586ebe3e7c",
       "style": "IPY_MODEL_6aad32a9423043eb8bffaa7ab8e9632f",
       "value": " 3/3 [00:11&lt;00:00,  4.33s/it]"
      }
     },
     "f5f8f0158f5e4152a38befdfae4ec590": {
      "model_module": "@jupyter-widgets/controls",
      "model_module_version": "2.0.0",
      "model_name": "ProgressStyleModel",
      "state": {
       "description_width": ""
      }
     },
     "f60f6e5e80ae48e9a0f049286dda0399": {
      "model_module": "@jupyter-widgets/base",
      "model_module_version": "2.0.0",
      "model_name": "LayoutModel",
      "state": {}
     },
     "f65d8a8840ca449cbde70bef05e56953": {
      "model_module": "@jupyter-widgets/base",
      "model_module_version": "2.0.0",
      "model_name": "LayoutModel",
      "state": {}
     },
     "f66bdd911a814945be5752c9df45f480": {
      "model_module": "@jupyter-widgets/controls",
      "model_module_version": "2.0.0",
      "model_name": "HTMLModel",
      "state": {
       "layout": "IPY_MODEL_8217a65ec82749c384cfde988d04b47e",
       "style": "IPY_MODEL_76d91f459d6d4f2aa4c55161e3e2fbd5",
       "value": "100%"
      }
     },
     "f6d9b538a7d4474faf6f1b5d4ed3aa22": {
      "model_module": "@jupyter-widgets/controls",
      "model_module_version": "2.0.0",
      "model_name": "DescriptionStyleModel",
      "state": {
       "description_width": ""
      }
     },
     "f7b6a4fb1aba43ad94e6124c4f209345": {
      "model_module": "@jupyter-widgets/controls",
      "model_module_version": "2.0.0",
      "model_name": "HBoxModel",
      "state": {
       "children": [
        "IPY_MODEL_6b85b3f5a8a844c2bcfadcce25177f81",
        "IPY_MODEL_a040616087b0471381e02100d008c999",
        "IPY_MODEL_25c6f48933ff4136bbdfb125b1cd897e"
       ],
       "layout": "IPY_MODEL_ceb07ebb580242619894a2c16e706be0"
      }
     },
     "f8689e845c5447c398f87941c18b50cf": {
      "model_module": "@jupyter-widgets/controls",
      "model_module_version": "2.0.0",
      "model_name": "ProgressStyleModel",
      "state": {
       "description_width": ""
      }
     },
     "f8d0aa0d6d044fd9b885647c29ad5ed9": {
      "model_module": "@jupyter-widgets/controls",
      "model_module_version": "2.0.0",
      "model_name": "DescriptionStyleModel",
      "state": {
       "description_width": ""
      }
     },
     "f8d197cb409d41f082178184a9954ac3": {
      "model_module": "@jupyter-widgets/base",
      "model_module_version": "2.0.0",
      "model_name": "LayoutModel",
      "state": {}
     },
     "f8f2b91fd5f749c1a9005b5678f313bc": {
      "model_module": "@jupyter-widgets/base",
      "model_module_version": "2.0.0",
      "model_name": "LayoutModel",
      "state": {}
     },
     "f9620fa4d32740b59e5cb0690a070612": {
      "model_module": "@jupyter-widgets/base",
      "model_module_version": "2.0.0",
      "model_name": "LayoutModel",
      "state": {}
     },
     "f990c3c0d24b4feb8b54ebbb0fe605e3": {
      "model_module": "@jupyter-widgets/controls",
      "model_module_version": "2.0.0",
      "model_name": "DescriptionStyleModel",
      "state": {
       "description_width": ""
      }
     },
     "fa70d6fcb22147d0955df9e8bddc056c": {
      "model_module": "@jupyter-widgets/controls",
      "model_module_version": "2.0.0",
      "model_name": "FloatProgressModel",
      "state": {
       "bar_style": "success",
       "layout": "IPY_MODEL_b13f40fc66ff46f3b4778d156c0b4e3f",
       "max": 3,
       "style": "IPY_MODEL_4df6d7c39cce4536a58880a00a3970ef",
       "value": 3
      }
     },
     "fb01dde1bd6a48828dc2335448eeab33": {
      "model_module": "@jupyter-widgets/base",
      "model_module_version": "2.0.0",
      "model_name": "LayoutModel",
      "state": {}
     },
     "fb2b7e82ece14ab79d84a08df31c827e": {
      "model_module": "@jupyter-widgets/base",
      "model_module_version": "2.0.0",
      "model_name": "LayoutModel",
      "state": {}
     },
     "fb408567788d4f848be4ce280f558218": {
      "model_module": "@jupyter-widgets/base",
      "model_module_version": "2.0.0",
      "model_name": "LayoutModel",
      "state": {}
     },
     "fc07a7ad29a1417dbfecf232fc63168d": {
      "model_module": "@jupyter-widgets/base",
      "model_module_version": "2.0.0",
      "model_name": "LayoutModel",
      "state": {}
     },
     "fc07b8eb3f2d42398ac37ae004962f19": {
      "model_module": "@jupyter-widgets/base",
      "model_module_version": "2.0.0",
      "model_name": "LayoutModel",
      "state": {}
     },
     "fc340e178dcf4841a50d791a1e61b133": {
      "model_module": "@jupyter-widgets/base",
      "model_module_version": "2.0.0",
      "model_name": "LayoutModel",
      "state": {}
     },
     "fcae490625734c64bdd2385f2511ea70": {
      "model_module": "@jupyter-widgets/controls",
      "model_module_version": "2.0.0",
      "model_name": "DescriptionStyleModel",
      "state": {
       "description_width": ""
      }
     },
     "fd51647b299b4889b249a7594dbeedea": {
      "model_module": "@jupyter-widgets/controls",
      "model_module_version": "2.0.0",
      "model_name": "HTMLModel",
      "state": {
       "layout": "IPY_MODEL_8f409e26f6304a798feedac9af5080d5",
       "style": "IPY_MODEL_ab66689f2e41405eb01c1c18ef038851",
       "value": " 6/6 [00:08&lt;00:00,  1.99s/it]"
      }
     },
     "fd5e81f960e243358e7a5d42b3ba3402": {
      "model_module": "@jupyter-widgets/controls",
      "model_module_version": "2.0.0",
      "model_name": "ProgressStyleModel",
      "state": {
       "description_width": ""
      }
     },
     "fd78d4fe60794bd9a4080bccdd2b5066": {
      "model_module": "@jupyter-widgets/controls",
      "model_module_version": "2.0.0",
      "model_name": "FloatProgressModel",
      "state": {
       "bar_style": "success",
       "layout": "IPY_MODEL_2a2a37aad76a438cae578d3ae288b46b",
       "max": 14,
       "style": "IPY_MODEL_56eadb9f4fd944dcb5039b404e09f6a1",
       "value": 14
      }
     },
     "fdad8f8a394b4897a51e1509b9cafa80": {
      "model_module": "@jupyter-widgets/controls",
      "model_module_version": "2.0.0",
      "model_name": "FloatProgressModel",
      "state": {
       "bar_style": "success",
       "layout": "IPY_MODEL_fb408567788d4f848be4ce280f558218",
       "max": 6,
       "style": "IPY_MODEL_4fbd978fd55041cb9ce67134a734e2df",
       "value": 6
      }
     },
     "fdaec1db841d41f4b0b47f94f489842b": {
      "model_module": "@jupyter-widgets/base",
      "model_module_version": "2.0.0",
      "model_name": "LayoutModel",
      "state": {}
     },
     "fdb9a369ccea4ed5983d9d8248c46c5d": {
      "model_module": "@jupyter-widgets/base",
      "model_module_version": "2.0.0",
      "model_name": "LayoutModel",
      "state": {}
     },
     "fdc23c6f872c4825b03240c4a0ab9831": {
      "model_module": "@jupyter-widgets/controls",
      "model_module_version": "2.0.0",
      "model_name": "HTMLModel",
      "state": {
       "layout": "IPY_MODEL_a100bb931af3454f8ff02fae28c2ba6a",
       "style": "IPY_MODEL_af095a946e40470fb6b10069cdead320",
       "value": "100%"
      }
     },
     "fec48c92bd4346b18cec58b6d94fbb49": {
      "model_module": "@jupyter-widgets/controls",
      "model_module_version": "2.0.0",
      "model_name": "HTMLModel",
      "state": {
       "layout": "IPY_MODEL_c118c80129a249eea1b05cb08a19d240",
       "style": "IPY_MODEL_a89c19df94ce4db18c427504318b7256",
       "value": " 6/6 [00:11&lt;00:00,  2.84s/it]"
      }
     },
     "ff6c51d38ade449d9351b3aa712bc22e": {
      "model_module": "@jupyter-widgets/base",
      "model_module_version": "2.0.0",
      "model_name": "LayoutModel",
      "state": {}
     },
     "ff7181daebce46c8a92713b3908a3645": {
      "model_module": "@jupyter-widgets/controls",
      "model_module_version": "2.0.0",
      "model_name": "HTMLModel",
      "state": {
       "layout": "IPY_MODEL_f10a509f4c6a45be95fd03a4d39b1837",
       "style": "IPY_MODEL_adb01a75c497444e9fb19c4b1eadcf84",
       "value": "100%"
      }
     },
     "ff775a243b6949488f74e1dbabacf8a0": {
      "model_module": "@jupyter-widgets/controls",
      "model_module_version": "2.0.0",
      "model_name": "HTMLModel",
      "state": {
       "layout": "IPY_MODEL_f0f757600cc0422fb1fcae4bbfb667b7",
       "style": "IPY_MODEL_e27c6e761b364d56bc2c9cee005861aa",
       "value": "100%"
      }
     },
     "ffaab0ce30f54c8899278aa16a20a700": {
      "model_module": "@jupyter-widgets/controls",
      "model_module_version": "2.0.0",
      "model_name": "HTMLStyleModel",
      "state": {
       "description_width": "",
       "font_size": null,
       "text_color": null
      }
     }
    },
    "version_major": 2,
    "version_minor": 0
   }
  }
 },
 "nbformat": 4,
 "nbformat_minor": 5
}
