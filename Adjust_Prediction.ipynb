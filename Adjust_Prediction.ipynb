{
 "cells": [
  {
   "cell_type": "code",
   "execution_count": 1,
   "id": "e39c8d38",
   "metadata": {},
   "outputs": [],
   "source": [
    "# NOTEBOOK IMPORTS\n",
    "import os\n",
    "import glob\n",
    "import numpy as np\n",
    "from tqdm.notebook import tqdm\n",
    "from shutil import copyfile\n",
    "\n",
    "# IMAGE IMPORTS\n",
    "import cv2\n",
    "from PIL import Image\n",
    "\n",
    "# GIS IMPORTS\n",
    "import fiona\n",
    "import pyproj\n",
    "from affine import Affine\n",
    "from shapely.geometry import shape, mapping\n",
    "from shapely.geometry import Point, LineString\n",
    "from shapely.ops import transform, nearest_points, snap\n",
    "import geopandas as gpd\n",
    "import rasterio as rio\n",
    "from rasterio.mask import mask\n",
    "from scipy.spatial import cKDTree\n",
    "\n",
    "# PLOTTING IMPORTS\n",
    "import matplotlib.pyplot as plt\n",
    "import matplotlib.patches as patches\n",
    "\n",
    "\n",
    "# CUSTOM UTILITIES\n",
    "from WorldFileUtils import *\n",
    "from GeometryUtils import *\n",
    "from icp import *\n",
    "\n",
    "Image.MAX_IMAGE_PIXELS = 933120000"
   ]
  },
  {
   "cell_type": "code",
   "execution_count": 2,
   "id": "1ee7bc87",
   "metadata": {},
   "outputs": [],
   "source": [
    "templates_dir = \"data/templates/\"\n",
    "tempfiles_dir = \"tempfiles/\"\n",
    "\n",
    "boundary_shapefile = f\"{templates_dir}HCAD_Harris_County_Boundary.shp\"\n",
    "boundary_points    = f'{tempfiles_dir}boundary_points.shp'"
   ]
  },
  {
   "cell_type": "code",
   "execution_count": 3,
   "id": "3119e887",
   "metadata": {},
   "outputs": [
    {
     "name": "stderr",
     "output_type": "stream",
     "text": [
      "C:\\Users\\franc\\AppData\\Roaming\\Python\\Python37\\site-packages\\ipykernel_launcher.py:3: FionaDeprecationWarning: Collection.__next__() is buggy and will be removed in Fiona 2.0. Switch to `next(iter(collection))`.\n",
      "  This is separate from the ipykernel package so we can avoid doing imports until\n"
     ]
    }
   ],
   "source": [
    "line = fiona.open(boundary_shapefile)\n",
    "\n",
    "firstline = line.next()\n",
    "first = shape(firstline['geometry']).boundary\n",
    "\n",
    "wgs84 = pyproj.CRS('EPSG:4326')\n",
    "utm = pyproj.CRS('EPSG:3857')\n",
    "\n",
    "project = pyproj.Transformer.from_crs(wgs84, utm, always_xy=True).transform\n",
    "first = transform(project, first)\n",
    "\n",
    "# length of the LineString\n",
    "length = first.length\n",
    "\n",
    "point_boundary_list = list()\n",
    "\n",
    "if not os.path.exists(boundary_points):\n",
    "    for distance in tqdm(range(0,int(length),5)):\n",
    "        point = first.interpolate(distance)   \n",
    "        point_boundary_list.append(point)\n",
    "        point_boundary_gdf = gpd.GeoDataFrame(geometry=point_boundary_list)\n",
    "        point_boundary_gdf.to_file(boundary_points)"
   ]
  },
  {
   "cell_type": "code",
   "execution_count": 4,
   "id": "85cfba67",
   "metadata": {},
   "outputs": [],
   "source": [
    "def normalize_geometry(gdf, sp):\n",
    "    \"\"\"\n",
    "    Subtract a point from the geometry of each point in the GeoDataFrame.\n",
    "\n",
    "    Args:\n",
    "        gdf (geopandas.GeoDataFrame): GeoDataFrame containing points.\n",
    "        point (tuple): Tuple of X and Y coordinates of the point.\n",
    "\n",
    "    Returns:\n",
    "        geopandas.GeoDataFrame: GeoDataFrame with updated geometries.\n",
    "    \"\"\"\n",
    "    \n",
    "    new_x = gdf.geometry.geometry.x - sp.geometry.x.to_numpy()\n",
    "    new_y = gdf.geometry.geometry.y - sp.geometry.y.to_numpy()\n",
    "    # Subtract the given point from each geometry\n",
    "    updated_geometries = [Point(x, y) for x,y in zip(new_x, new_y)]\n",
    "\n",
    "    # Create a new GeoDataFrame with the updated geometries\n",
    "    updated_gdf = gdf.copy()\n",
    "    updated_gdf.geometry = updated_geometries\n",
    "\n",
    "    return updated_gdf\n",
    "\n",
    "def normalize_geometry(gdf, ot):\n",
    "    \"\"\"\n",
    "    Warp by original transform\n",
    "    \"\"\"\n",
    "    \n",
    "    ot = ~ot\n",
    "    geometry = gdf.geometry.affine_transform([ot.a, ot.b, ot.d, ot.e, ot.c, ot.f])\n",
    "    gdf['geometry'] = geometry\n",
    "    return gdf"
   ]
  },
  {
   "cell_type": "code",
   "execution_count": 5,
   "id": "ab547576",
   "metadata": {},
   "outputs": [],
   "source": [
    "def getActualTransform(ot, ho):\n",
    "    ot_a = Affine.from_gdal(*ot)\n",
    "    ho = ho.flatten()\n",
    "    # t = [[ho[2]] * ho[5]]# ho[2] = ho[2] * -1\n",
    "    \n",
    "    # translation = np.array(ot_a).flatten()# Affine.translation(ho[2], ho[5])\n",
    "    # translation[2] = ho[2]\n",
    "    # translation[5] = ho[5]\n",
    "    # translation = Affine(*translation[:6])\n",
    "    \n",
    "    # ho[2] = 0\n",
    "    # ho[5] = 0\n",
    "    \n",
    "    ho_a = Affine(*ho[:6])\n",
    "    return ot_a * ho_a"
   ]
  },
  {
   "cell_type": "code",
   "execution_count": 6,
   "id": "25295990",
   "metadata": {
    "scrolled": false
   },
   "outputs": [
    {
     "name": "stdout",
     "output_type": "stream",
     "text": [
      "Original Transform\n",
      "Coords\n"
     ]
    },
    {
     "data": {
      "application/vnd.jupyter.widget-view+json": {
       "model_id": "fbc89b67e63d41569f1f53d07ec7bcf1",
       "version_major": 2,
       "version_minor": 0
      },
      "text/plain": [
       "  0%|          | 0/1000 [00:00<?, ?it/s]"
      ]
     },
     "metadata": {},
     "output_type": "display_data"
    },
    {
     "name": "stdout",
     "output_type": "stream",
     "text": [
      "[[ 1.00021077e+00  1.43671272e-02 -4.59166290e+01]\n",
      " [-1.65616996e-03  1.00703537e+00 -3.91813965e+00]\n",
      " [-4.14600337e-07  1.53765875e-06  1.00000000e+00]]\n",
      "Original Transform\n",
      "Coords\n"
     ]
    },
    {
     "data": {
      "application/vnd.jupyter.widget-view+json": {
       "model_id": "1b081184ee764f93b9f77208bc812975",
       "version_major": 2,
       "version_minor": 0
      },
      "text/plain": [
       "  0%|          | 0/1000 [00:00<?, ?it/s]"
      ]
     },
     "metadata": {},
     "output_type": "display_data"
    },
    {
     "name": "stdout",
     "output_type": "stream",
     "text": [
      "[[ 9.99680273e-01  1.45936693e-02 -4.42547901e+01]\n",
      " [-2.06181087e-03  1.00705654e+00 -4.33745691e-01]\n",
      " [-4.93936303e-07  1.65419324e-06  1.00000000e+00]]\n",
      "Original Transform\n",
      "Coords\n"
     ]
    },
    {
     "data": {
      "application/vnd.jupyter.widget-view+json": {
       "model_id": "074fded470294bcc843b7beee3d0a461",
       "version_major": 2,
       "version_minor": 0
      },
      "text/plain": [
       "  0%|          | 0/1000 [00:00<?, ?it/s]"
      ]
     },
     "metadata": {},
     "output_type": "display_data"
    },
    {
     "name": "stdout",
     "output_type": "stream",
     "text": [
      "[[ 9.92946063e-01  1.36768969e-02 -9.73161366e+00]\n",
      " [-2.50134486e-04  1.00316052e+00  1.39495036e+00]\n",
      " [-7.60150980e-07  1.56521804e-06  1.00000000e+00]]\n",
      "Original Transform\n",
      "Coords\n"
     ]
    },
    {
     "data": {
      "application/vnd.jupyter.widget-view+json": {
       "model_id": "e5e1c0ed93cc4532b3bc37219b810e2b",
       "version_major": 2,
       "version_minor": 0
      },
      "text/plain": [
       "  0%|          | 0/1000 [00:00<?, ?it/s]"
      ]
     },
     "metadata": {},
     "output_type": "display_data"
    },
    {
     "name": "stdout",
     "output_type": "stream",
     "text": [
      "[[ 9.98324422e-01  1.06694240e-02 -1.79002486e+01]\n",
      " [-1.09324524e-03  1.00531510e+00  2.14402752e+00]\n",
      " [-5.20620163e-07  1.50300898e-06  1.00000000e+00]]\n",
      "Original Transform\n",
      "Coords\n"
     ]
    },
    {
     "data": {
      "application/vnd.jupyter.widget-view+json": {
       "model_id": "35c0cc0ebf304e3884fc026ddc1b95cf",
       "version_major": 2,
       "version_minor": 0
      },
      "text/plain": [
       "  0%|          | 0/1000 [00:00<?, ?it/s]"
      ]
     },
     "metadata": {},
     "output_type": "display_data"
    },
    {
     "name": "stdout",
     "output_type": "stream",
     "text": [
      "[[ 9.88700390e-01  8.60170807e-03  1.64707012e+01]\n",
      " [-1.72182912e-03  9.97384996e-01  1.77359795e+01]\n",
      " [-9.76015583e-07  9.90436812e-07  1.00000000e+00]]\n",
      "2min 28s ± 0 ns per loop (mean ± std. dev. of 1 run, 1 loop each)\n"
     ]
    }
   ],
   "source": [
    "%%timeit -n 1 -r 1\n",
    "\n",
    "# BOUNDARY SHAPEFILE AND BUFFER\n",
    "boundary_shp = gpd.read_file(boundary_shapefile).to_crs(\"EPSG:3857\")\n",
    "boundary_buf = boundary_shp.boundary.buffer(1000)\n",
    "\n",
    "initial_filename = f\"{tempfiles_dir}border.png\"\n",
    "current_filename = initial_filename\n",
    "\n",
    "plot = False\n",
    "\n",
    "for i in range(5):\n",
    "    \n",
    "    output_filename = f\"{tempfiles_dir}/out/border_{i}.png\"\n",
    "    \n",
    "    print(\"Original Transform\")\n",
    "    # GET ORIGINAL TRANSFORM FROM IMAGE AND CONVERT TO AFFINE OBJECT\n",
    "    original_transform, _ = get_geotransform_from_tfw(current_filename[:-3]+\"pgw\")\n",
    "    ot = Affine.from_gdal(*original_transform)\n",
    "    \n",
    "    print(\"Coords\")\n",
    "    # PIXEL COORDINATES FROM TILE (ONLY CANDIDATES), NORMALIZED BY INVERSE AFFINE FOR IMAGE COORDINATES\n",
    "    # coords_gdf = gpd.GeoDataFrame(geometry=gpd.points_from_xy(coords[:, 0] - np.mean(coords[:, 0]), coords[:, 1] - np.mean(coords[:, 1])))\n",
    "    coords = get_true_pixel_coordinates(current_filename, polygon=boundary_buf)    \n",
    "    coords_gdf = gpd.GeoDataFrame(geometry=gpd.points_from_xy(coords[:, 0], coords[:, 1] ))\n",
    "    coords_gdf = normalize_geometry(coords_gdf, ot)\n",
    "    coords_gdf = coords_gdf.sample(n=1000)\n",
    "    \n",
    "    # ALL PIXELS FROM TILE, NORMALIZED BY INVERSE AFFINE FOR IMAGE COORDINATES\n",
    "    coords_full = get_true_pixel_coordinates(current_filename)\n",
    "    coords_full_gdf = gpd.GeoDataFrame(geometry=gpd.points_from_xy(coords_full[:, 0], coords_full[:, 1]))\n",
    "    coords_full_gdf = normalize_geometry(coords_full_gdf, ot)\n",
    "                                  \n",
    "    # PIXEL COORDINATES FROM CLOSEST POINT IN LINE\n",
    "    # point_boundary_gdf = normalize_geometry(point_boundary_gdf, point_boundary_gdf.dissolve().centroid)\n",
    "    point_boundary_gdf = gpd.read_file(boundary_points)\n",
    "    point_boundary_gdf = normalize_geometry(point_boundary_gdf, ot)\n",
    "    boundary_line = LineString(point_boundary_gdf.geometry)\n",
    "    boundary_points_matching = find_points_on_linestring(boundary_line, coords_gdf.geometry)\n",
    "    boundary_points_matching_gdf = gpd.GeoDataFrame(geometry=boundary_points_matching)\n",
    "    \n",
    "    \n",
    "    if plot:\n",
    "        fig, ax = plt.subplots(figsize=(30, 30))\n",
    "        # boundary_buf.plot(ax=ax, label=\"Zone of Interest for Candidate Points\")\n",
    "        # boundary_shp.plot(ax=ax, color=\"None\", edgecolor='black', label=\"True Boundary\")\n",
    "        coords_gdf.plot(ax=ax, marker='.', color='red', markersize=2, label=\"Candidate Points\")\n",
    "        boundary_points_matching_gdf.plot(ax=ax, marker='x', color=\"green\", label=\"Candidate Targets\")\n",
    "        ax.invert_yaxis()\n",
    "        ax.legend()\n",
    "        plt.show()\n",
    "    \n",
    "    # COORDINATE ARRAY \n",
    "    boundary_points_matching_coords = np.array([np.array([m.x, m.y]) for m in boundary_points_matching])\n",
    "    \n",
    "    # TO AND FROM POINTS\n",
    "    to_points = np.array(boundary_points_matching_coords).astype(np.float32)\n",
    "    from_points = np.array([np.array([cg.x, cg.y]).astype(np.float32) for cg in coords_gdf.geometry])\n",
    "    \n",
    "    # CALCULATE HOMOGRAPHY\n",
    "    test = cv2.findHomography(from_points, to_points, cv2.RANSAC,1000)\n",
    "    \n",
    "    points_to_project = np.vstack((coords_full_gdf.geometry.x.to_numpy().T, coords_full_gdf.geometry.y.to_numpy().T)).T\n",
    "    homography = test[0]\n",
    "    print(homography)\n",
    "    \n",
    "    original_transform, _ = get_geotransform_from_tfw(current_filename[:-3]+\"pgw\")\n",
    "    \n",
    "    current_transform = getActualTransform(original_transform, homography.flatten()[:6])\n",
    "    \n",
    "    copyfile(current_filename, output_filename)\n",
    "    write_world_file_from_affine(current_transform, output_filename[:-3]+\"pgw\")\n",
    "    current_filename = output_filename\n",
    "    \n",
    "    \n",
    "    if plot:\n",
    "        points_to_project_homogeneous = np.hstack((points_to_project, np.ones((points_to_project.shape[0], 1))))\n",
    "        # Project the points using the homography matrix\n",
    "        projected_points_homogeneous = np.dot(homography, points_to_project_homogeneous.T).T\n",
    "\n",
    "        # Convert homogeneous coordinates to Cartesian coordinates\n",
    "        projected_points = (projected_points_homogeneous[:, :2] / projected_points_homogeneous[:, 2:]).astype(np.int)\n",
    "\n",
    "        projected_geometries = [Point(x, y) for x, y in projected_points]\n",
    "        projected_gdf = gpd.GeoDataFrame(geometry=projected_geometries)\n",
    "        fig, ax = plt.subplots(figsize=(30, 30))\n",
    "        # boundary_buf.plot(ax=ax)\n",
    "        # boundary_shp.plot(ax=ax, color=\"None\", edgecolor='black')\n",
    "        coords_full_gdf.plot(ax=ax, marker='.', color='red', markersize=2)\n",
    "        # boundary_points_matching_gdf.plot(ax=ax, marker='x', color=\"green\")\n",
    "        projected_gdf.plot(ax=ax, marker='x', color=\"green\", markersize=2)\n",
    "        ax.invert_yaxis()\n",
    "        plt.show()"
   ]
  },
  {
   "cell_type": "code",
   "execution_count": 7,
   "id": "ae5f46ef",
   "metadata": {},
   "outputs": [
    {
     "ename": "NameError",
     "evalue": "name 'to_points' is not defined",
     "output_type": "error",
     "traceback": [
      "\u001b[1;31m---------------------------------------------------------------------------\u001b[0m",
      "\u001b[1;31mNameError\u001b[0m                                 Traceback (most recent call last)",
      "\u001b[1;32m~\\AppData\\Local\\Temp\\ipykernel_25084\\1358756608.py\u001b[0m in \u001b[0;36m<module>\u001b[1;34m\u001b[0m\n\u001b[1;32m----> 1\u001b[1;33m \u001b[0mto_points\u001b[0m\u001b[1;33m\u001b[0m\u001b[1;33m\u001b[0m\u001b[0m\n\u001b[0m",
      "\u001b[1;31mNameError\u001b[0m: name 'to_points' is not defined"
     ]
    }
   ],
   "source": [
    "to_points"
   ]
  },
  {
   "cell_type": "code",
   "execution_count": null,
   "id": "dabda560",
   "metadata": {},
   "outputs": [],
   "source": [
    "from_points"
   ]
  },
  {
   "cell_type": "code",
   "execution_count": null,
   "id": "8c3e6735",
   "metadata": {},
   "outputs": [],
   "source": [
    "homography = test[0]\n",
    "current_transform = Affine.from_gdal(*homography.flatten()[:6])\n",
    "\n",
    "print(homography)\n",
    "print(current_transform)"
   ]
  }
 ],
 "metadata": {
  "kernelspec": {
   "display_name": "Python 3 (ipykernel)",
   "language": "python",
   "name": "python3"
  },
  "language_info": {
   "codemirror_mode": {
    "name": "ipython",
    "version": 3
   },
   "file_extension": ".py",
   "mimetype": "text/x-python",
   "name": "python",
   "nbconvert_exporter": "python",
   "pygments_lexer": "ipython3",
   "version": "3.7.10"
  }
 },
 "nbformat": 4,
 "nbformat_minor": 5
}
