{
 "cells": [
  {
   "cell_type": "code",
   "execution_count": 1,
   "id": "c7621809",
   "metadata": {},
   "outputs": [],
   "source": [
    "# NOTEBOOK IMPORTS\n",
    "import os, glob, warnings, pickle\n",
    "import numpy as np\n",
    "from shutil import copyfile, rmtree\n",
    "from datetime import datetime\n",
    "\n",
    "# IMAGE IMPORTS\n",
    "from PIL import Image\n",
    "\n",
    "# GIS IMPORTS\n",
    "from affine import Affine\n",
    "import pandas as pd\n",
    "\n",
    "# PLOTTING IMPORTS\n",
    "import matplotlib.pyplot as plt\n",
    "\n",
    "# CUSTOM UTILITIES\n",
    "from IndexUtils import * \n",
    "\n",
    "Image.MAX_IMAGE_PIXELS = 933120000\n",
    "warnings.filterwarnings(\"ignore\")\n",
    "initialize = False"
   ]
  },
  {
   "cell_type": "markdown",
   "id": "5ed09b63",
   "metadata": {},
   "source": [
    "IO directories depending on which machine. "
   ]
  },
  {
   "cell_type": "code",
   "execution_count": 2,
   "id": "34617015",
   "metadata": {},
   "outputs": [],
   "source": [
    "username = os.getlogin()\n",
    "\n",
    "dnn_params = {}\n",
    "dnn_params['CLNN'] = {}\n",
    "dnn_params['TPNN'] = {}\n",
    "dnn_params['RLNN'] = {}\n",
    "dnn_params['FLNN'] = {}\n",
    "dnn_params['TLNN'] = {}\n",
    "\n",
    "\n",
    "if username == 'fhacesga':\n",
    "    base_input_path   = r\"D:\\FloodChange\\AAA_HistoricalDownload\\ZIP\\\\\"\n",
    "    base_output_path  = r\"C:\\Users\\\\\"+username+\"\\Desktop\\FIRMsDigitizing\\processing\"\n",
    "    ref_dir  = r\"C:\\Users\\fhacesga\\OneDrive - University Of Houston\\AAA_RECTDNN\\data\\AAA_ReferenceDatasets\\\\\"\n",
    "elif username == 'fhace':\n",
    "    ref_dir = r\"C:\\Users\\fhace\\Desktop\\FIRMs\\data\\AAA_ReferenceDatasets\\\\\"\n",
    "    base_output_path = r\"C:\\Users\\fhace\\Desktop\\FIRMs\\data\\Outputs\\\\\"\n",
    "    dnn_params['TLNN']['model_weights']    = r\"C:\\Users\\fhace\\Desktop\\FIRMs\\data\\BBNN\\curr_weights.pt\"\n",
    "    dnn_params['CLNN']['model_checkpoint'] = r\"C:\\Users\\fhace\\Desktop\\FIRMs\\data\\RLNN\\checkpoint_101423.pth\"\n",
    "    dnn_params['TPNN']['model_checkpoint'] = r\"C:\\Users\\fhace\\OneDrive - University Of Houston\\AAA_RECTDNN\\data\\TPNN\\checkpoint_091523_pyramids_2.pth\"\n",
    "    dnn_params['RLNN']['model_checkpoint'] = r\"C:\\Users\\fhace\\OneDrive - University Of Houston\\AAA_RECTDNN\\data\\RLNN\\checkpoint_091323.pth\"\n",
    "    \n",
    "else:\n",
    "    base_input_path   = r\"D:\\Desktop\\FIRMsDigitizing\\data\\HistoricalFIRMS\"\n",
    "    base_output_path  = r\"D:\\Desktop\\FIRMsDigitizing\\processing\"\n",
    "    ref_dir  = r\"C:\\Users\\franc\\OneDrive - University Of Houston\\AAA_RECTDNN\\data\\AAA_ReferenceDatasets\\\\\"\n",
    "\n",
    "if not initialize:\n",
    "    initialize = init_databases(ref_dir)"
   ]
  },
  {
   "cell_type": "markdown",
   "id": "a5ca1967",
   "metadata": {},
   "source": [
    "Create working dir and unzip all files if needed"
   ]
  },
  {
   "cell_type": "code",
   "execution_count": null,
   "id": "eca9abcb",
   "metadata": {},
   "outputs": [],
   "source": [
    "proc_dir = None\n",
    "proc_dir = r\"C:\\Users\\fhacesga\\Desktop\\FIRMsDigitizing\\processing\\2024-05-12_23-27-54\\\\\"\n",
    "\n",
    "if proc_dir is None:\n",
    "    datetime_str = datetime.now().strftime(\"%Y-%m-%d_%H-%M-%S\")\n",
    "    proc_dir     = os.path.join(base_output_path, datetime_str)\n",
    "    unzipped_dir = os.path.join(proc_dir, \"Inputs\")\n",
    "    outputs_dir  = os.path.join(proc_dir, \"Outputs\")\n",
    "    print(proc_dir)\n",
    "    os.makedirs(proc_dir)\n",
    "    os.makedirs(unzipped_dir)\n",
    "    os.makedirs(outputs_dir)\n",
    "    extractZipFiles(base_input_path, unzipped_dir)\n",
    "else:\n",
    "    unzipped_dir = os.path.join(proc_dir, \"Inputs\")\n",
    "    outputs_dir  = os.path.join(proc_dir, \"Outputs\")\n",
    "    rmtree(outputs_dir)\n",
    "    os.makedirs(outputs_dir)"
   ]
  },
  {
   "cell_type": "markdown",
   "id": "469fbdb7",
   "metadata": {},
   "source": [
    "Read through all the images in the directory. Some images are saved as Multi-page TIFF files. These need to be exported into individual images. We'll do that first"
   ]
  },
  {
   "cell_type": "code",
   "execution_count": null,
   "id": "ea68a26c",
   "metadata": {},
   "outputs": [
    {
     "data": {
      "application/vnd.jupyter.widget-view+json": {
       "model_id": "7c65cdb87b1246d6bfeb925e7a079057",
       "version_major": 2,
       "version_minor": 0
      },
      "text/plain": [
       "  0%|          | 0/7 [00:00<?, ?it/s]"
      ]
     },
     "metadata": {},
     "output_type": "display_data"
    },
    {
     "name": "stdout",
     "output_type": "stream",
     "text": [
      "Error opening C:\\Users\\fhacesga\\Desktop\\FIRMsDigitizing\\processing\\2024-05-12_23-27-54\\\\Inputs\\485479B.tif\n",
      "Error opening C:\\Users\\fhacesga\\Desktop\\FIRMsDigitizing\\processing\\2024-05-12_23-27-54\\\\Inputs\\485479C.tif\n",
      "Error opening C:\\Users\\fhacesga\\Desktop\\FIRMsDigitizing\\processing\\2024-05-12_23-27-54\\\\Inputs\\485481A.tif\n",
      "Error opening C:\\Users\\fhacesga\\Desktop\\FIRMsDigitizing\\processing\\2024-05-12_23-27-54\\\\Inputs\\485510.tif\n",
      "Error opening C:\\Users\\fhacesga\\Desktop\\FIRMsDigitizing\\processing\\2024-05-12_23-27-54\\\\Inputs\\485510B.tif\n",
      "Error opening C:\\Users\\fhacesga\\Desktop\\FIRMsDigitizing\\processing\\2024-05-12_23-27-54\\\\Inputs\\485514B.tif\n",
      "Error opening C:\\Users\\fhacesga\\Desktop\\FIRMsDigitizing\\processing\\2024-05-12_23-27-54\\\\Inputs\\485516A.tif\n"
     ]
    }
   ],
   "source": [
    "for filename in tqdm(glob.glob(unzipped_dir + \"\\\\*.tif*\")):\n",
    "    tiff_file = os.path.join(unzipped_dir, filename)\n",
    "    try:\n",
    "    # Check if the file is a multi-page TIFF\n",
    "        with Image.open(tiff_file) as img:\n",
    "            if img.is_animated:    \n",
    "                for i in range(img.n_frames):\n",
    "                    try:\n",
    "                        img.seek(i)\n",
    "                        output_filename = f\"{os.path.splitext(tiff_file)[0]}_{i+1}{os.path.splitext(tiff_file)[1]}\"\n",
    "                        img.save(output_filename, format=img.format)\n",
    "                    except:\n",
    "                        print(f\"Error with {tiff_file} page {i}\")\n",
    "                        continue\n",
    "    except:\n",
    "        print(f\"Error opening {tiff_file}\")\n",
    "        continue\n",
    "\n",
    "    os.remove(tiff_file)"
   ]
  },
  {
   "cell_type": "markdown",
   "id": "acac9f90",
   "metadata": {},
   "source": [
    "Here we're using heuristics to identify indices within all the image files. These include:\n",
    "- Files that are shorter than 12 characters\n",
    "- Files that have the ```IND``` marker\n",
    "\n",
    "We create a Pandas DataFrame with the files matching. We then add several fields as below"
   ]
  },
  {
   "cell_type": "code",
   "execution_count": null,
   "id": "d5180ac2",
   "metadata": {},
   "outputs": [],
   "source": [
    "# LIST ALL IMAGES IN DIRECTORY\n",
    "image_files = glob.glob(f\"{unzipped_dir}/*\")\n",
    "\n",
    "# FILTER IMAGES USING HEURISTICS\n",
    "patterns = [\"IND\", \"_1.\"]\n",
    "index_files = [file for pattern in patterns for file in glob.glob(unzipped_dir + \"\\\\*\" + pattern + \"*\")]\n",
    "filtered_files = [file for file in image_files if len(os.path.basename(file)) < 12]\n",
    "index_files.extend(filtered_files)\n",
    "\n",
    "# CREATE DATAFRAME\n",
    "index_files = pd.DataFrame(index_files, columns=[\"FilePath\"])\n",
    "\n",
    "# INDEX ATTRIBUTES TO BE ADDED\n",
    "index_files[\"Basename\"] = [os.path.basename(file) for file in index_files[\"FilePath\"].to_list()]    # BASENAME\n",
    "index_files[\"Location\"] = index_files[\"Basename\"].apply(extract_numerical_chars).astype(np.int32)   # \n",
    "index_files[\"GEOID\"]    = index_files[\"Location\"].apply(getGEOID)       # GET GEOID FOR EACH INDEX\n",
    "index_files[\"geometry\"] = index_files[\"GEOID\"].apply(getGeometry)       # GET GEOMETRY FROM MATCHING GEOIDs"
   ]
  },
  {
   "cell_type": "code",
   "execution_count": null,
   "id": "19d477e1",
   "metadata": {},
   "outputs": [],
   "source": []
  },
  {
   "cell_type": "code",
   "execution_count": null,
   "id": "544b54fd",
   "metadata": {
    "scrolled": false
   },
   "outputs": [
    {
     "name": "stdout",
     "output_type": "stream",
     "text": [
      "C:\\Users\\fhacesga\\Desktop\\FIRMsDigitizing\\processing\\2024-05-12_23-27-54\\\\Inputs\\480035IND0_0490.jpg\n",
      "C:\\Users\\fhacesga\\Desktop\\FIRMsDigitizing\\processing\\2024-05-12_23-27-54\\\\Outputs\\480035IND0_0490.tif\n"
     ]
    },
    {
     "data": {
      "application/vnd.jupyter.widget-view+json": {
       "model_id": "564d756ecd7c4854bc544a10bb4c9f37",
       "version_major": 2,
       "version_minor": 0
      },
      "text/plain": [
       "  0%|          | 0/2 [00:00<?, ?it/s]"
      ]
     },
     "metadata": {},
     "output_type": "display_data"
    },
    {
     "name": "stdout",
     "output_type": "stream",
     "text": [
      "\n",
      "image 1/1 C:\\Users\\fhacesga\\Desktop\\FIRMsDigitizing\\processing\\2024-05-12_23-27-54\\Inputs\\480035IND0_0490.jpg: 1920x1920 1 tile, 51 countys, 3 legends, 3164.3ms\n",
      "Speed: 44.9ms preprocess, 3164.3ms inference, 3.0ms postprocess per image at shape (1, 3, 1920, 1920)\n",
      "[          0           1           1           1           1           1           1           1           1           1           1           1           1           1           1           1           1           1           1           1           1           1           1           1           1           1\n",
      "           1           1           1           1           1           1           1           1           1           1           1           1           1           1           1           1           1           1           1           1           1           1           1           1           2           1\n",
      "           1           2           2]\n"
     ]
    },
    {
     "data": {
      "image/png": "[encoded data removed]",
      "text/plain": [
       "<Figure size 640x480 with 1 Axes>"
      ]
     },
     "metadata": {},
     "output_type": "display_data"
    },
    {
     "name": "stdout",
     "output_type": "stream",
     "text": [
      "ERROR : 'bbox'\n",
      "C:\\Users\\fhacesga\\Desktop\\FIRMsDigitizing\\processing\\2024-05-12_23-27-54\\\\Inputs\\480035IND0_0789.jpg\n",
      "C:\\Users\\fhacesga\\Desktop\\FIRMsDigitizing\\processing\\2024-05-12_23-27-54\\\\Outputs\\480035IND0_0789.tif\n"
     ]
    },
    {
     "data": {
      "application/vnd.jupyter.widget-view+json": {
       "model_id": "653e2a9edfe248b39776b3b93f532f0d",
       "version_major": 2,
       "version_minor": 0
      },
      "text/plain": [
       "  0%|          | 0/2 [00:00<?, ?it/s]"
      ]
     },
     "metadata": {},
     "output_type": "display_data"
    },
    {
     "name": "stdout",
     "output_type": "stream",
     "text": [
      "\n",
      "image 1/1 C:\\Users\\fhacesga\\Desktop\\FIRMsDigitizing\\processing\\2024-05-12_23-27-54\\Inputs\\480035IND0_0789.jpg: 1920x1920 1 tile, 51 countys, 3 legends, 3107.9ms\n",
      "Speed: 35.0ms preprocess, 3107.9ms inference, 1.0ms postprocess per image at shape (1, 3, 1920, 1920)\n",
      "[          0           1           1           1           1           1           1           1           1           1           1           1           1           1           1           1           1           1           1           1           1           1           1           1           1           1\n",
      "           1           1           1           1           1           1           1           1           1           1           1           1           1           1           1           1           1           1           1           1           1           1           1           2           1           2\n",
      "           2           1           1]\n"
     ]
    },
    {
     "ename": "KeyboardInterrupt",
     "evalue": "",
     "output_type": "error",
     "traceback": [
      "\u001b[1;31m---------------------------------------------------------------------------\u001b[0m",
      "\u001b[1;31mKeyboardInterrupt\u001b[0m                         Traceback (most recent call last)",
      "Cell \u001b[1;32mIn[6], line 151\u001b[0m\n\u001b[0;32m    149\u001b[0m effectiveArea, RLNN    \u001b[38;5;241m=\u001b[39m findSquares(image, model\u001b[38;5;241m=\u001b[39mRLNN, \u001b[38;5;241m*\u001b[39m\u001b[38;5;241m*\u001b[39mdnn_params[\u001b[38;5;124m'\u001b[39m\u001b[38;5;124mRLNN\u001b[39m\u001b[38;5;124m'\u001b[39m])\n\u001b[0;32m    150\u001b[0m countyArea, CLNN       \u001b[38;5;241m=\u001b[39m findCounty(image, model\u001b[38;5;241m=\u001b[39mCLNN, \u001b[38;5;241m*\u001b[39m\u001b[38;5;241m*\u001b[39mdnn_params[\u001b[38;5;124m'\u001b[39m\u001b[38;5;124mCLNN\u001b[39m\u001b[38;5;124m'\u001b[39m])\n\u001b[1;32m--> 151\u001b[0m tiles, TLNN            \u001b[38;5;241m=\u001b[39m \u001b[43mfindTiles\u001b[49m\u001b[43m(\u001b[49m\u001b[43mrow\u001b[49m\u001b[43m[\u001b[49m\u001b[38;5;124;43m\"\u001b[39;49m\u001b[38;5;124;43mFilePath\u001b[39;49m\u001b[38;5;124;43m\"\u001b[39;49m\u001b[43m]\u001b[49m\u001b[43m,\u001b[49m\u001b[43m \u001b[49m\u001b[43mmodel\u001b[49m\u001b[38;5;241;43m=\u001b[39;49m\u001b[43mTLNN\u001b[49m\u001b[43m,\u001b[49m\u001b[43m \u001b[49m\u001b[38;5;241;43m*\u001b[39;49m\u001b[38;5;241;43m*\u001b[39;49m\u001b[43mdnn_params\u001b[49m\u001b[43m[\u001b[49m\u001b[38;5;124;43m'\u001b[39;49m\u001b[38;5;124;43mTLNN\u001b[39;49m\u001b[38;5;124;43m'\u001b[39;49m\u001b[43m]\u001b[49m\u001b[43m,\u001b[49m\u001b[43m \u001b[49m\n\u001b[0;32m    152\u001b[0m \u001b[43m                                   \u001b[49m\u001b[43msave_dir\u001b[49m\u001b[38;5;241;43m=\u001b[39;49m\u001b[43mos\u001b[49m\u001b[38;5;241;43m.\u001b[39;49m\u001b[43mpath\u001b[49m\u001b[38;5;241;43m.\u001b[39;49m\u001b[43mjoin\u001b[49m\u001b[43m(\u001b[49m\u001b[43moutputs_dir\u001b[49m\u001b[43m,\u001b[49m\u001b[43m \u001b[49m\u001b[43mfilename\u001b[49m\u001b[38;5;241;43m.\u001b[39;49m\u001b[43msplit\u001b[49m\u001b[43m(\u001b[49m\u001b[38;5;124;43m\"\u001b[39;49m\u001b[38;5;124;43m.\u001b[39;49m\u001b[38;5;124;43m\"\u001b[39;49m\u001b[43m)\u001b[49m\u001b[43m[\u001b[49m\u001b[38;5;241;43m0\u001b[39;49m\u001b[43m]\u001b[49m\u001b[43m \u001b[49m\u001b[38;5;241;43m+\u001b[39;49m\u001b[43m \u001b[49m\u001b[38;5;124;43m\"\u001b[39;49m\u001b[38;5;124;43m_BBNN.tif\u001b[39;49m\u001b[38;5;124;43m\"\u001b[39;49m\u001b[43m)\u001b[49m\u001b[43m)\u001b[49m\n\u001b[0;32m    154\u001b[0m dnn_outputs \u001b[38;5;241m=\u001b[39m {\n\u001b[0;32m    155\u001b[0m     \u001b[38;5;124m\"\u001b[39m\u001b[38;5;124mclassifications\u001b[39m\u001b[38;5;124m\"\u001b[39m   : classifications,\n\u001b[0;32m    156\u001b[0m     \u001b[38;5;124m\"\u001b[39m\u001b[38;5;124meffectiveArea\u001b[39m\u001b[38;5;124m\"\u001b[39m     : effectiveArea,\n\u001b[0;32m    157\u001b[0m     \u001b[38;5;124m\"\u001b[39m\u001b[38;5;124mcountyArea\u001b[39m\u001b[38;5;124m\"\u001b[39m    : countyArea,\n\u001b[0;32m    158\u001b[0m     \u001b[38;5;124m\"\u001b[39m\u001b[38;5;124mtiles\u001b[39m\u001b[38;5;124m\"\u001b[39m         : tiles\n\u001b[0;32m    159\u001b[0m }\n\u001b[0;32m    161\u001b[0m \u001b[38;5;66;03m# GET COUNTY BOUNDS IDENTIFIED IN INDEX BY TLNN\u001b[39;00m\n",
      "File \u001b[1;32mc:\\Users\\fhacesga\\Desktop\\FIRMsDigitizing\\RECTDNN\\IndexUtils.py:312\u001b[0m, in \u001b[0;36mfindTiles\u001b[1;34m(image_fn, model, model_weights, creation_params, save_dir, device)\u001b[0m\n\u001b[0;32m    309\u001b[0m outputs[\u001b[38;5;124m\"\u001b[39m\u001b[38;5;124mcounty\u001b[39m\u001b[38;5;124m\"\u001b[39m] \u001b[38;5;241m=\u001b[39m {\u001b[38;5;124m\"\u001b[39m\u001b[38;5;124mbbox\u001b[39m\u001b[38;5;124m\"\u001b[39m : bbox \u001b[38;5;241m*\u001b[39m im_size_arry, \u001b[38;5;124m\"\u001b[39m\u001b[38;5;124mdata\u001b[39m\u001b[38;5;124m\"\u001b[39m : extract_bounded_area(image, bbox)}\n\u001b[0;32m    311\u001b[0m \u001b[38;5;28;01mif\u001b[39;00m save_dir \u001b[38;5;129;01mis\u001b[39;00m \u001b[38;5;129;01mnot\u001b[39;00m \u001b[38;5;28;01mNone\u001b[39;00m:\n\u001b[1;32m--> 312\u001b[0m     \u001b[43mresults\u001b[49m\u001b[43m[\u001b[49m\u001b[38;5;241;43m0\u001b[39;49m\u001b[43m]\u001b[49m\u001b[38;5;241;43m.\u001b[39;49m\u001b[43msave\u001b[49m\u001b[43m(\u001b[49m\u001b[43msave_dir\u001b[49m\u001b[43m)\u001b[49m\n\u001b[0;32m    314\u001b[0m \u001b[38;5;28;01mreturn\u001b[39;00m outputs, model\n",
      "File \u001b[1;32mc:\\Users\\fhacesga\\Anaconda3\\envs\\yolo\\lib\\site-packages\\ultralytics\\engine\\results.py:312\u001b[0m, in \u001b[0;36mResults.save\u001b[1;34m(self, filename, *args, **kwargs)\u001b[0m\n\u001b[0;32m    310\u001b[0m \u001b[38;5;28;01mif\u001b[39;00m \u001b[38;5;129;01mnot\u001b[39;00m filename:\n\u001b[0;32m    311\u001b[0m     filename \u001b[38;5;241m=\u001b[39m \u001b[38;5;124mf\u001b[39m\u001b[38;5;124m\"\u001b[39m\u001b[38;5;124mresults_\u001b[39m\u001b[38;5;132;01m{\u001b[39;00mPath(\u001b[38;5;28mself\u001b[39m\u001b[38;5;241m.\u001b[39mpath)\u001b[38;5;241m.\u001b[39mname\u001b[38;5;132;01m}\u001b[39;00m\u001b[38;5;124m\"\u001b[39m\n\u001b[1;32m--> 312\u001b[0m \u001b[38;5;28;43mself\u001b[39;49m\u001b[38;5;241;43m.\u001b[39;49m\u001b[43mplot\u001b[49m\u001b[43m(\u001b[49m\u001b[43msave\u001b[49m\u001b[38;5;241;43m=\u001b[39;49m\u001b[38;5;28;43;01mTrue\u001b[39;49;00m\u001b[43m,\u001b[49m\u001b[43m \u001b[49m\u001b[43mfilename\u001b[49m\u001b[38;5;241;43m=\u001b[39;49m\u001b[43mfilename\u001b[49m\u001b[43m,\u001b[49m\u001b[43m \u001b[49m\u001b[38;5;241;43m*\u001b[39;49m\u001b[43margs\u001b[49m\u001b[43m,\u001b[49m\u001b[43m \u001b[49m\u001b[38;5;241;43m*\u001b[39;49m\u001b[38;5;241;43m*\u001b[39;49m\u001b[43mkwargs\u001b[49m\u001b[43m)\u001b[49m\n\u001b[0;32m    313\u001b[0m \u001b[38;5;28;01mreturn\u001b[39;00m filename\n",
      "File \u001b[1;32mc:\\Users\\fhacesga\\Anaconda3\\envs\\yolo\\lib\\site-packages\\ultralytics\\engine\\results.py:281\u001b[0m, in \u001b[0;36mResults.plot\u001b[1;34m(self, conf, line_width, font_size, font, pil, img, im_gpu, kpt_radius, kpt_line, labels, boxes, masks, probs, show, save, filename)\u001b[0m\n\u001b[0;32m    279\u001b[0m         label \u001b[38;5;241m=\u001b[39m (\u001b[38;5;124mf\u001b[39m\u001b[38;5;124m\"\u001b[39m\u001b[38;5;132;01m{\u001b[39;00mname\u001b[38;5;132;01m}\u001b[39;00m\u001b[38;5;124m \u001b[39m\u001b[38;5;132;01m{\u001b[39;00mconf\u001b[38;5;132;01m:\u001b[39;00m\u001b[38;5;124m.2f\u001b[39m\u001b[38;5;132;01m}\u001b[39;00m\u001b[38;5;124m\"\u001b[39m \u001b[38;5;28;01mif\u001b[39;00m conf \u001b[38;5;28;01melse\u001b[39;00m name) \u001b[38;5;28;01mif\u001b[39;00m labels \u001b[38;5;28;01melse\u001b[39;00m \u001b[38;5;28;01mNone\u001b[39;00m\n\u001b[0;32m    280\u001b[0m         box \u001b[38;5;241m=\u001b[39m d\u001b[38;5;241m.\u001b[39mxyxyxyxy\u001b[38;5;241m.\u001b[39mreshape(\u001b[38;5;241m-\u001b[39m\u001b[38;5;241m1\u001b[39m, \u001b[38;5;241m4\u001b[39m, \u001b[38;5;241m2\u001b[39m)\u001b[38;5;241m.\u001b[39msqueeze() \u001b[38;5;28;01mif\u001b[39;00m is_obb \u001b[38;5;28;01melse\u001b[39;00m d\u001b[38;5;241m.\u001b[39mxyxy\u001b[38;5;241m.\u001b[39msqueeze()\n\u001b[1;32m--> 281\u001b[0m         \u001b[43mannotator\u001b[49m\u001b[38;5;241;43m.\u001b[39;49m\u001b[43mbox_label\u001b[49m\u001b[43m(\u001b[49m\u001b[43mbox\u001b[49m\u001b[43m,\u001b[49m\u001b[43m \u001b[49m\u001b[43mlabel\u001b[49m\u001b[43m,\u001b[49m\u001b[43m \u001b[49m\u001b[43mcolor\u001b[49m\u001b[38;5;241;43m=\u001b[39;49m\u001b[43mcolors\u001b[49m\u001b[43m(\u001b[49m\u001b[43mc\u001b[49m\u001b[43m,\u001b[49m\u001b[43m \u001b[49m\u001b[38;5;28;43;01mTrue\u001b[39;49;00m\u001b[43m)\u001b[49m\u001b[43m,\u001b[49m\u001b[43m \u001b[49m\u001b[43mrotated\u001b[49m\u001b[38;5;241;43m=\u001b[39;49m\u001b[43mis_obb\u001b[49m\u001b[43m)\u001b[49m\n\u001b[0;32m    283\u001b[0m \u001b[38;5;66;03m# Plot Classify results\u001b[39;00m\n\u001b[0;32m    284\u001b[0m \u001b[38;5;28;01mif\u001b[39;00m pred_probs \u001b[38;5;129;01mis\u001b[39;00m \u001b[38;5;129;01mnot\u001b[39;00m \u001b[38;5;28;01mNone\u001b[39;00m \u001b[38;5;129;01mand\u001b[39;00m show_probs:\n",
      "File \u001b[1;32mc:\\Users\\fhacesga\\Anaconda3\\envs\\yolo\\lib\\site-packages\\ultralytics\\utils\\plotting.py:194\u001b[0m, in \u001b[0;36mAnnotator.box_label\u001b[1;34m(self, box, label, color, txt_color, rotated)\u001b[0m\n\u001b[0;32m    192\u001b[0m outside \u001b[38;5;241m=\u001b[39m p1[\u001b[38;5;241m1\u001b[39m] \u001b[38;5;241m-\u001b[39m h \u001b[38;5;241m>\u001b[39m\u001b[38;5;241m=\u001b[39m \u001b[38;5;241m3\u001b[39m\n\u001b[0;32m    193\u001b[0m p2 \u001b[38;5;241m=\u001b[39m p1[\u001b[38;5;241m0\u001b[39m] \u001b[38;5;241m+\u001b[39m w, p1[\u001b[38;5;241m1\u001b[39m] \u001b[38;5;241m-\u001b[39m h \u001b[38;5;241m-\u001b[39m \u001b[38;5;241m3\u001b[39m \u001b[38;5;28;01mif\u001b[39;00m outside \u001b[38;5;28;01melse\u001b[39;00m p1[\u001b[38;5;241m1\u001b[39m] \u001b[38;5;241m+\u001b[39m h \u001b[38;5;241m+\u001b[39m \u001b[38;5;241m3\u001b[39m\n\u001b[1;32m--> 194\u001b[0m \u001b[43mcv2\u001b[49m\u001b[38;5;241;43m.\u001b[39;49m\u001b[43mrectangle\u001b[49m\u001b[43m(\u001b[49m\u001b[38;5;28;43mself\u001b[39;49m\u001b[38;5;241;43m.\u001b[39;49m\u001b[43mim\u001b[49m\u001b[43m,\u001b[49m\u001b[43m \u001b[49m\u001b[43mp1\u001b[49m\u001b[43m,\u001b[49m\u001b[43m \u001b[49m\u001b[43mp2\u001b[49m\u001b[43m,\u001b[49m\u001b[43m \u001b[49m\u001b[43mcolor\u001b[49m\u001b[43m,\u001b[49m\u001b[43m \u001b[49m\u001b[38;5;241;43m-\u001b[39;49m\u001b[38;5;241;43m1\u001b[39;49m\u001b[43m,\u001b[49m\u001b[43m \u001b[49m\u001b[43mcv2\u001b[49m\u001b[38;5;241;43m.\u001b[39;49m\u001b[43mLINE_AA\u001b[49m\u001b[43m)\u001b[49m  \u001b[38;5;66;03m# filled\u001b[39;00m\n\u001b[0;32m    195\u001b[0m cv2\u001b[38;5;241m.\u001b[39mputText(\n\u001b[0;32m    196\u001b[0m     \u001b[38;5;28mself\u001b[39m\u001b[38;5;241m.\u001b[39mim,\n\u001b[0;32m    197\u001b[0m     label,\n\u001b[1;32m   (...)\u001b[0m\n\u001b[0;32m    203\u001b[0m     lineType\u001b[38;5;241m=\u001b[39mcv2\u001b[38;5;241m.\u001b[39mLINE_AA,\n\u001b[0;32m    204\u001b[0m )\n",
      "\u001b[1;31mKeyboardInterrupt\u001b[0m: "
     ]
    }
   ],
   "source": [
    "def getBBOX_coords(tile_ds : rio.DatasetReader, bbox : list) -> list:\n",
    "    \"\"\"\n",
    "    Converts Bounding Box pixel coordinates into actual coordinates by using the input rasterio dataset\n",
    "\n",
    "    Parameters:\n",
    "        tile_ds (rasterio.Dataset): Post-ICP rasterio dataset saved with a world file.\n",
    "        bbox (iterable): Bounding box coordinates in format (x_min, y_min, x_max, y_max),\n",
    "                      normalized by the total image width and height.\n",
    "\n",
    "    Returns:\n",
    "        coords (list): list of raster coordinates in (x_min, y_min, x_max, y_max) format.\n",
    "    \"\"\"\n",
    "    # x1, y1 = rio.transform.xy(tile_ds.transform, bbox[0], bbox[1]) WRONG X, Y \n",
    "    # x2, y2 = rio.transform.xy(tile_ds.transform, bbox[2], bbox[3]) WRONG X, Y\n",
    "    x1, y1 = rio.transform.xy(tile_ds.transform, bbox[1], bbox[0]) \n",
    "    x2, y2 = rio.transform.xy(tile_ds.transform, bbox[3], bbox[2])\n",
    "    return [x1, y1, x2, y2]\n",
    "\n",
    "def bbox_to_coords(bbox):\n",
    "    '''\n",
    "    x1, y1, x2, y2 = bbox\n",
    "\n",
    "    x_min = np.min([x1, x2])    \n",
    "    x_max = np.max([x1, x2])    \n",
    "    y_min = np.min([y1, y2])    \n",
    "    y_max = np.max([y1, y2])    \n",
    "\n",
    "    \n",
    "    '''\n",
    "    x_min, y_min, x_max, y_max = bbox\n",
    "\n",
    "    xs = [x_min, x_max, x_min, x_max]\n",
    "    ys = [y_min, y_min, y_max, y_max]\n",
    "    return xs, ys# [(x_min, y_min), (x_max, y_min), (x_max, y_max), (x_min, y_max)]\n",
    "\n",
    "# def getTileTransform(tile):\n",
    "\n",
    "def getTileAffine(tile, baseaffine=None):\n",
    "\n",
    "    b = baseaffine\n",
    "\n",
    "    w, h = tile['data'].size\n",
    "\n",
    "    x_i = [0, w, 0, w]\n",
    "    y_i = [0, 0, h, h]\n",
    "    x_c, y_c = bbox_to_coords(tile['coords'])\n",
    "\n",
    "    test = pd.DataFrame()\n",
    "    test[\"x_i\"] = x_i\n",
    "    test[\"y_i\"] = y_i\n",
    "    test[\"x_c\"] = x_c\n",
    "    test[\"y_c\"] = y_c\n",
    "\n",
    "    a = affineTransformation(x_i, y_i, x_c, y_c)\n",
    "\n",
    "    matrix = None\n",
    "    if b is not None: \n",
    "        matrix = b.flatten()[:6]\n",
    "        matrix[2] = a.matrix.flatten()[2]\n",
    "        matrix[5] = a.matrix.flatten()[5]\n",
    "    else:\n",
    "        matrix = a.matrix.flatten()[:6]\n",
    "         \n",
    "\n",
    "    return rio.Affine(*matrix)\n",
    "\n",
    "def saveTile(fn, tile, baseaffine=None):\n",
    "    transform = tile['affine'] if 'affine' in tile else getTileAffine(tile, baseaffine=baseaffine)\n",
    "    image = np.asarray(tile['data'])\n",
    "    epsg_code = 3857\n",
    "    with rio.open(fn, 'w',\n",
    "        driver='GTiff',\n",
    "        height=image.shape[0],\n",
    "        width=image.shape[1],\n",
    "        count=1,\n",
    "        dtype=image.dtype,\n",
    "        crs=f'EPSG:{epsg_code}',\n",
    "        transform=transform) as dst:\n",
    "            dst.write(image, 1)    \n",
    "\n",
    "def ICPtoCRSTransform(image_arry, transform_dict):\n",
    "    # REVERSE Y AXIS\n",
    "    rev_y_axis = np.array([[1, 0, 0],\n",
    "                        [0,-1, 0],\n",
    "                        [0, 0, 1]])\n",
    "\n",
    "    # move = original_homography @ np.array([0, image_t.shape[0], 0])\n",
    "    translation = np.eye(3)\n",
    "    translation[1, 2] = image_arry.shape[0]\n",
    "\n",
    "    transform_dict['translation'] = translation\n",
    "    \n",
    "    # adjustment =  np.linalg.inv(transform_dict['best'].copy())\n",
    "    # rev_adj = adjustment.copy()\n",
    "    # rev_adj[1, 1] = rev_adj[1, 1] * -1\n",
    "    transform_dict['rev_adj'] = np.linalg.inv(transform_dict['best'].copy())\n",
    "\n",
    "    transform_dict['flip'] = np.array([\n",
    "    [1, 0, 0],\n",
    "    [0, -1, 0],\n",
    "    [0, 0, 1]\n",
    "    ])\n",
    "    \n",
    "    # output_transform = transform_dict['initial'] @ transform_dict['translation'] @ transform_dict['rev_adj']\n",
    "    output_transform = transform_dict['initial'] @ transform_dict['rev_adj'] @ transform_dict['translation']  @ transform_dict['flip']\n",
    "    offsets = output_transform @ np.array([[0, 0, 1], [image_arry.shape[0], 0, 1]]).T\n",
    "    offsets = offsets[:, 1] - offsets[:, 0]\n",
    "    transform_dict['offsets'] = offsets\n",
    "\n",
    "    return output_transform, transform_dict\n",
    "\n",
    "\n",
    "verbose = True\n",
    "\n",
    "TPNN = None\n",
    "RLNN = None\n",
    "CLNN = None\n",
    "TLNN = None\n",
    "\n",
    "gen_dict = {}\n",
    "\n",
    "for i, row in index_files.iterrows():\n",
    "    \n",
    "    print(row[\"FilePath\"])\n",
    "    \n",
    "    try:\n",
    "\n",
    "        filename = os.path.basename(row[\"FilePath\"])\n",
    "        \n",
    "        # READ FILES AND CONVERT TO GRAYSCALE\n",
    "        image = cv2.imread(row[\"FilePath\"])\n",
    "        image = cv2.cvtColor(image, cv2.COLOR_BGR2GRAY)\n",
    "        image_arry = np.asarray(image)\n",
    "        \n",
    "        # SAVE IMAGE TO OUTPUT DIRECTORY\n",
    "        output_image_fn = os.path.join(outputs_dir, filename.split(\".\")[0] + \".tif\")\n",
    "        print(output_image_fn)\n",
    "        copyfile(row[\"FilePath\"], output_image_fn)\n",
    "\n",
    "        # GET BOUNDARY POINTS FROM RESPECTIVE SHAPEFILE\n",
    "        output = getBoundaryPoints(row, distance=100)\n",
    "        if output is None:\n",
    "            print(f\"COULD NOT FIND SHAPEFILE FOR {filename}\")\n",
    "            continue\n",
    "        point_boundary_gdf, shp_bounds = output\n",
    "        \n",
    "        # RUN IMAGES THROUGH DNNs\n",
    "        classifications, TPNN  = findKeypoints(image, model=TPNN, **dnn_params['TPNN'])\n",
    "        effectiveArea, RLNN    = findSquares(image, model=RLNN, **dnn_params['RLNN'])\n",
    "        countyArea, CLNN       = findCounty(image, model=CLNN, **dnn_params['CLNN'])\n",
    "        tiles, TLNN            = findTiles(row[\"FilePath\"], model=TLNN, **dnn_params['TLNN'], \n",
    "                                           save_dir=os.path.join(outputs_dir, filename.split(\".\")[0] + \"_BBNN.tif\"))\n",
    "\n",
    "        dnn_outputs = {\n",
    "            \"classifications\"   : classifications,\n",
    "            \"effectiveArea\"     : effectiveArea,\n",
    "            \"countyArea\"    : countyArea,\n",
    "            \"tiles\"         : tiles\n",
    "        }\n",
    "        \n",
    "        # GET COUNTY BOUNDS IDENTIFIED IN INDEX BY TLNN\n",
    "        bounds_panels = tiles[\"county\"][\"bbox\"]\n",
    "\n",
    "        # SKIP IF WE CAN'T FIND BOUNDARY IN EXISTING DATABASES\n",
    "        if point_boundary_gdf is None:\n",
    "            continue\n",
    "\n",
    "        # DEFINE BOUNDARY STRUCTU\n",
    "        boundaries = {\n",
    "            \"point_boundary_gdf\"    : point_boundary_gdf,\n",
    "            \"shp_bounds\"            : shp_bounds,\n",
    "            \"bounds_panels\"         : bounds_panels,\n",
    "        }\n",
    "\n",
    "        # WHAT ARE WE LOOKING FOR IN EACH IDENTIFIED SQUARE?\n",
    "        key = findKey(row[\"Basename\"])    \n",
    "        if key is None:\n",
    "            print(f\"Could not find key in {filename}\")\n",
    "        \n",
    "        # DO ICP\n",
    "        transform_dict = performICPonIndex(boundaries, dnn_outputs, debug=False, plot=True, rotation=True, shear=False, perspective=False, icp_iterations=30)\n",
    "\n",
    "        # GET TRANSFORM FROM ICP TO CRS TRANSFORM\n",
    "        output_transform, transform_dict = ICPtoCRSTransform(image_arry, transform_dict)\n",
    "\n",
    "        # GET OUTPUT TRANSFORM INTO AFFINE AND WRITE\n",
    "        output_affine = Affine(*output_transform.flatten()[:6])\n",
    "        # write_world_file_from_affine(output_affine, get_world_file_path(output_image_fn))\n",
    "        with rio.open(output_image_fn, 'w',\n",
    "            driver='GTiff',\n",
    "            height=image.shape[0], width=image.shape[1],\n",
    "            count=1, dtype=image.dtype,\n",
    "            crs=f'EPSG:3857',\n",
    "            transform=rio.Affine(*output_transform.flatten()[:6])) as dst:\n",
    "                dst.write(image, 1)   \n",
    "\n",
    "        tiles['transform_info'] = transform_dict\n",
    "        tiles['output_transform'] = output_transform\n",
    "        gen_dict[filename] = tiles\n",
    "\n",
    "        \n",
    "        src = rio.open(output_image_fn)\n",
    "        for iii, (k, v) in enumerate(tiles.items()):\n",
    "            try:\n",
    "                tiles[k]['coords'] = getBBOX_coords(src, tiles[k]['bbox'])\n",
    "                saveTile(os.path.join(outputs_dir, f\"{filename}_{k}.tif\"), v, baseaffine=output_transform)\n",
    "            except Exception as e:\n",
    "                print(\"ERROR : \"+str(e) + f\" {k}\")\n",
    "                continue\n",
    "    except Exception as e:\n",
    "        print(\"ERROR : \"+str(e))\n",
    "        continue\n",
    "\n",
    "with open(os.path.join(outputs_dir, \"IndexCoords.pkl\"), 'wb') as handle:\n",
    "    pickle.dump(gen_dict, handle, protocol=pickle.HIGHEST_PROTOCOL)\n",
    " \n",
    "    "
   ]
  }
 ],
 "metadata": {
  "kernelspec": {
   "display_name": "Python 3 (ipykernel)",
   "language": "python",
   "name": "python3"
  },
  "language_info": {
   "codemirror_mode": {
    "name": "ipython",
    "version": 3
   },
   "file_extension": ".py",
   "mimetype": "text/x-python",
   "name": "python",
   "nbconvert_exporter": "python",
   "pygments_lexer": "ipython3",
   "version": "3.8.18"
  }
 },
 "nbformat": 4,
 "nbformat_minor": 5
}
