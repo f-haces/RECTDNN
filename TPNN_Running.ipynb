{
 "cells": [
  {
   "cell_type": "code",
   "execution_count": 1,
   "id": "6b80c117",
   "metadata": {},
   "outputs": [],
   "source": [
    "# PYTHON IMPORTS\n",
    "import os\n",
    "from tqdm.notebook import tqdm\n",
    "\n",
    "# IMAGE IMPORTS \n",
    "from PIL import Image\n",
    "\n",
    "# MY OWN CLASSES\n",
    "from TPNN import *\n",
    "from DataUtils import *\n",
    "\n",
    "import torch\n",
    "\n",
    "# PREFERENCES\n",
    "Image.MAX_IMAGE_PIXELS = 933120000"
   ]
  },
  {
   "cell_type": "code",
   "execution_count": 2,
   "id": "face9e4f",
   "metadata": {},
   "outputs": [],
   "source": [
    "data_dir = r\"C:\\Users\\fhacesga\\Desktop\\FIRMsDigitizing\\data\\TPNN\\\\\"\n",
    "\n",
    "model_checkpoint = f\"{data_dir}checkpoint_091523_pyramids_2.pth\"\n",
    "\n",
    "input_folder  = r\"C:\\Users\\fhacesga\\OneDrive - University Of Houston\\AAA_RECTDNN\\data\\AAA_Images\\TileIndicesStore\\\\\"\n",
    "output_folder = f\"{data_dir}intermediate_outputs/predict/\"\n",
    "classes       = getClasses(f\"{data_dir}zzz_backup/out/\")"
   ]
  },
  {
   "cell_type": "code",
   "execution_count": 3,
   "id": "c5e51deb",
   "metadata": {},
   "outputs": [
    {
     "name": "stderr",
     "output_type": "stream",
     "text": [
      "c:\\Users\\fhacesga\\Anaconda3\\envs\\deeplearning\\lib\\site-packages\\torchvision\\models\\_utils.py:209: UserWarning: The parameter 'pretrained' is deprecated since 0.13 and may be removed in the future, please use 'weights' instead.\n",
      "  f\"The parameter '{pretrained_param}' is deprecated since 0.13 and may be removed in the future, \"\n",
      "c:\\Users\\fhacesga\\Anaconda3\\envs\\deeplearning\\lib\\site-packages\\torchvision\\models\\_utils.py:223: UserWarning: Arguments other than a weight enum or `None` for 'weights' are deprecated since 0.13 and may be removed in the future. The current behavior is equivalent to passing `weights=ResNet34_Weights.IMAGENET1K_V1`. You can also use `weights=ResNet34_Weights.DEFAULT` to get the most up-to-date weights.\n",
      "  warnings.warn(msg)\n"
     ]
    }
   ],
   "source": [
    "model      = TPNN(num_classes=5, finalpadding=1, inputsize=3)\n",
    "checkpoint = torch.load(model_checkpoint)\n",
    "\n",
    "model.load_state_dict(checkpoint[\"model_state_dict\"])\n",
    "model = model.to(\"cuda\")"
   ]
  },
  {
   "cell_type": "code",
   "execution_count": 5,
   "id": "692f1655",
   "metadata": {},
   "outputs": [
    {
     "name": "stdout",
     "output_type": "stream",
     "text": [
      "Already processed C:\\Users\\fhacesga\\OneDrive - University Of Houston\\AAA_RECTDNN\\data\\AAA_Images\\TileIndicesStore\\\\480077.tif\n",
      "Already processed C:\\Users\\fhacesga\\OneDrive - University Of Houston\\AAA_RECTDNN\\data\\AAA_Images\\TileIndicesStore\\\\480077A.tif\n",
      "Already processed C:\\Users\\fhacesga\\OneDrive - University Of Houston\\AAA_RECTDNN\\data\\AAA_Images\\TileIndicesStore\\\\480233IND0_0382.jpg\n",
      "Already processed C:\\Users\\fhacesga\\OneDrive - University Of Houston\\AAA_RECTDNN\\data\\AAA_Images\\TileIndicesStore\\\\480287B.tif\n",
      "Already processed C:\\Users\\fhacesga\\OneDrive - University Of Houston\\AAA_RECTDNN\\data\\AAA_Images\\TileIndicesStore\\\\480287IND0_0281.jpg\n",
      "Already processed C:\\Users\\fhacesga\\OneDrive - University Of Houston\\AAA_RECTDNN\\data\\AAA_Images\\TileIndicesStore\\\\480287IND0_0288.jpg\n",
      "Already processed C:\\Users\\fhacesga\\OneDrive - University Of Houston\\AAA_RECTDNN\\data\\AAA_Images\\TileIndicesStore\\\\480287IND0_0382.jpg\n",
      "Already processed C:\\Users\\fhacesga\\OneDrive - University Of Houston\\AAA_RECTDNN\\data\\AAA_Images\\TileIndicesStore\\\\480287IND0_0985.jpg\n",
      "Already processed C:\\Users\\fhacesga\\OneDrive - University Of Houston\\AAA_RECTDNN\\data\\AAA_Images\\TileIndicesStore\\\\480289.tif\n",
      "Already processed C:\\Users\\fhacesga\\OneDrive - University Of Houston\\AAA_RECTDNN\\data\\AAA_Images\\TileIndicesStore\\\\480289A.tif\n",
      "Already processed C:\\Users\\fhacesga\\OneDrive - University Of Houston\\AAA_RECTDNN\\data\\AAA_Images\\TileIndicesStore\\\\480290A.tif\n",
      "Already processed C:\\Users\\fhacesga\\OneDrive - University Of Houston\\AAA_RECTDNN\\data\\AAA_Images\\TileIndicesStore\\\\480291.tif\n",
      "Already processed C:\\Users\\fhacesga\\OneDrive - University Of Houston\\AAA_RECTDNN\\data\\AAA_Images\\TileIndicesStore\\\\480293.tif\n",
      "Already processed C:\\Users\\fhacesga\\OneDrive - University Of Houston\\AAA_RECTDNN\\data\\AAA_Images\\TileIndicesStore\\\\480293A.tif\n",
      "Already processed C:\\Users\\fhacesga\\OneDrive - University Of Houston\\AAA_RECTDNN\\data\\AAA_Images\\TileIndicesStore\\\\480295A.tif\n",
      "Already processed C:\\Users\\fhacesga\\OneDrive - University Of Houston\\AAA_RECTDNN\\data\\AAA_Images\\TileIndicesStore\\\\480296A.tif\n",
      "Already processed C:\\Users\\fhacesga\\OneDrive - University Of Houston\\AAA_RECTDNN\\data\\AAA_Images\\TileIndicesStore\\\\480296IND0_0982.jpg\n",
      "Already processed C:\\Users\\fhacesga\\OneDrive - University Of Houston\\AAA_RECTDNN\\data\\AAA_Images\\TileIndicesStore\\\\480296IND0_0985.jpg\n",
      "Already processed C:\\Users\\fhacesga\\OneDrive - University Of Houston\\AAA_RECTDNN\\data\\AAA_Images\\TileIndicesStore\\\\480296IND0_0987.jpg\n",
      "Already processed C:\\Users\\fhacesga\\OneDrive - University Of Houston\\AAA_RECTDNN\\data\\AAA_Images\\TileIndicesStore\\\\480296IND0_1279.jpg\n",
      "Already processed C:\\Users\\fhacesga\\OneDrive - University Of Houston\\AAA_RECTDNN\\data\\AAA_Images\\TileIndicesStore\\\\480297A.tif\n",
      "Already processed C:\\Users\\fhacesga\\OneDrive - University Of Houston\\AAA_RECTDNN\\data\\AAA_Images\\TileIndicesStore\\\\480298A.tif\n",
      "Already processed C:\\Users\\fhacesga\\OneDrive - University Of Houston\\AAA_RECTDNN\\data\\AAA_Images\\TileIndicesStore\\\\480299.tif\n",
      "Already processed C:\\Users\\fhacesga\\OneDrive - University Of Houston\\AAA_RECTDNN\\data\\AAA_Images\\TileIndicesStore\\\\480300A.tif\n",
      "Already processed C:\\Users\\fhacesga\\OneDrive - University Of Houston\\AAA_RECTDNN\\data\\AAA_Images\\TileIndicesStore\\\\480301A.tif\n",
      "Already processed C:\\Users\\fhacesga\\OneDrive - University Of Houston\\AAA_RECTDNN\\data\\AAA_Images\\TileIndicesStore\\\\480303.tif\n",
      "Already processed C:\\Users\\fhacesga\\OneDrive - University Of Houston\\AAA_RECTDNN\\data\\AAA_Images\\TileIndicesStore\\\\480303A.tif\n",
      "Already processed C:\\Users\\fhacesga\\OneDrive - University Of Houston\\AAA_RECTDNN\\data\\AAA_Images\\TileIndicesStore\\\\480304.tif\n",
      "Already processed C:\\Users\\fhacesga\\OneDrive - University Of Houston\\AAA_RECTDNN\\data\\AAA_Images\\TileIndicesStore\\\\480304IND0_0182.jpg\n",
      "Already processed C:\\Users\\fhacesga\\OneDrive - University Of Houston\\AAA_RECTDNN\\data\\AAA_Images\\TileIndicesStore\\\\480304IND0_1077.jpg\n",
      "Already processed C:\\Users\\fhacesga\\OneDrive - University Of Houston\\AAA_RECTDNN\\data\\AAA_Images\\TileIndicesStore\\\\480304IND0_1287.jpg\n",
      "Already processed C:\\Users\\fhacesga\\OneDrive - University Of Houston\\AAA_RECTDNN\\data\\AAA_Images\\TileIndicesStore\\\\480305A.tif\n",
      "Already processed C:\\Users\\fhacesga\\OneDrive - University Of Houston\\AAA_RECTDNN\\data\\AAA_Images\\TileIndicesStore\\\\480307A.tif\n",
      "Already processed C:\\Users\\fhacesga\\OneDrive - University Of Houston\\AAA_RECTDNN\\data\\AAA_Images\\TileIndicesStore\\\\480307C.tif\n",
      "Already processed C:\\Users\\fhacesga\\OneDrive - University Of Houston\\AAA_RECTDNN\\data\\AAA_Images\\TileIndicesStore\\\\480307IND0_0686.jpg\n",
      "Already processed C:\\Users\\fhacesga\\OneDrive - University Of Houston\\AAA_RECTDNN\\data\\AAA_Images\\TileIndicesStore\\\\480308.tif\n",
      "Already processed C:\\Users\\fhacesga\\OneDrive - University Of Houston\\AAA_RECTDNN\\data\\AAA_Images\\TileIndicesStore\\\\480311A.tif\n",
      "Already processed C:\\Users\\fhacesga\\OneDrive - University Of Houston\\AAA_RECTDNN\\data\\AAA_Images\\TileIndicesStore\\\\480313A.tif\n",
      "Already processed C:\\Users\\fhacesga\\OneDrive - University Of Houston\\AAA_RECTDNN\\data\\AAA_Images\\TileIndicesStore\\\\480315.tif\n",
      "Already processed C:\\Users\\fhacesga\\OneDrive - University Of Houston\\AAA_RECTDNN\\data\\AAA_Images\\TileIndicesStore\\\\48039CIND0.tif\n",
      "Already processed C:\\Users\\fhacesga\\OneDrive - University Of Houston\\AAA_RECTDNN\\data\\AAA_Images\\TileIndicesStore\\\\480641A.tif\n",
      "Already processed C:\\Users\\fhacesga\\OneDrive - University Of Houston\\AAA_RECTDNN\\data\\AAA_Images\\TileIndicesStore\\\\48071CIND0A.tif\n",
      "Already processed C:\\Users\\fhacesga\\OneDrive - University Of Houston\\AAA_RECTDNN\\data\\AAA_Images\\TileIndicesStore\\\\48157CIND0.tif\n",
      "Already processed C:\\Users\\fhacesga\\OneDrive - University Of Houston\\AAA_RECTDNN\\data\\AAA_Images\\TileIndicesStore\\\\48157CIND0A.tif\n",
      "Already processed C:\\Users\\fhacesga\\OneDrive - University Of Houston\\AAA_RECTDNN\\data\\AAA_Images\\TileIndicesStore\\\\48201CIND0.tif\n",
      "Already processed C:\\Users\\fhacesga\\OneDrive - University Of Houston\\AAA_RECTDNN\\data\\AAA_Images\\TileIndicesStore\\\\48201CIND0A.tif\n",
      "Already processed C:\\Users\\fhacesga\\OneDrive - University Of Houston\\AAA_RECTDNN\\data\\AAA_Images\\TileIndicesStore\\\\48201CIND0F.tif\n",
      "Already processed C:\\Users\\fhacesga\\OneDrive - University Of Houston\\AAA_RECTDNN\\data\\AAA_Images\\TileIndicesStore\\\\48201CIND0_0990.jpg\n",
      "Already processed C:\\Users\\fhacesga\\OneDrive - University Of Houston\\AAA_RECTDNN\\data\\AAA_Images\\TileIndicesStore\\\\48339CIND0.tif\n",
      "Already processed C:\\Users\\fhacesga\\OneDrive - University Of Houston\\AAA_RECTDNN\\data\\AAA_Images\\TileIndicesStore\\\\485456A.tif\n",
      "Already processed C:\\Users\\fhacesga\\OneDrive - University Of Houston\\AAA_RECTDNN\\data\\AAA_Images\\TileIndicesStore\\\\485456IND0_0279.jpg\n",
      "Already processed C:\\Users\\fhacesga\\OneDrive - University Of Houston\\AAA_RECTDNN\\data\\AAA_Images\\TileIndicesStore\\\\485456IND0_0982.jpg\n",
      "Already processed C:\\Users\\fhacesga\\OneDrive - University Of Houston\\AAA_RECTDNN\\data\\AAA_Images\\TileIndicesStore\\\\485456IND0_1185.jpg\n",
      "Already processed C:\\Users\\fhacesga\\OneDrive - University Of Houston\\AAA_RECTDNN\\data\\AAA_Images\\TileIndicesStore\\\\485466.tif\n",
      "Already processed C:\\Users\\fhacesga\\OneDrive - University Of Houston\\AAA_RECTDNN\\data\\AAA_Images\\TileIndicesStore\\\\485466B.tif\n",
      "Already processed C:\\Users\\fhacesga\\OneDrive - University Of Houston\\AAA_RECTDNN\\data\\AAA_Images\\TileIndicesStore\\\\485468A.tif\n",
      "Already processed C:\\Users\\fhacesga\\OneDrive - University Of Houston\\AAA_RECTDNN\\data\\AAA_Images\\TileIndicesStore\\\\485468B.tif\n",
      "Already processed C:\\Users\\fhacesga\\OneDrive - University Of Houston\\AAA_RECTDNN\\data\\AAA_Images\\TileIndicesStore\\\\485468IND0_0483.jpg\n",
      "Already processed C:\\Users\\fhacesga\\OneDrive - University Of Houston\\AAA_RECTDNN\\data\\AAA_Images\\TileIndicesStore\\\\485487.tif\n",
      "Already processed C:\\Users\\fhacesga\\OneDrive - University Of Houston\\AAA_RECTDNN\\data\\AAA_Images\\TileIndicesStore\\\\485487B.tif\n",
      "Already processed C:\\Users\\fhacesga\\OneDrive - University Of Houston\\AAA_RECTDNN\\data\\AAA_Images\\TileIndicesStore\\\\485487C.tif\n",
      "Already processed C:\\Users\\fhacesga\\OneDrive - University Of Houston\\AAA_RECTDNN\\data\\AAA_Images\\TileIndicesStore\\\\485487IND0_1185.jpg\n",
      "Already processed C:\\Users\\fhacesga\\OneDrive - University Of Houston\\AAA_RECTDNN\\data\\AAA_Images\\TileIndicesStore\\\\485488A.tif\n",
      "Already processed C:\\Users\\fhacesga\\OneDrive - University Of Houston\\AAA_RECTDNN\\data\\AAA_Images\\TileIndicesStore\\\\485488IND0.tif\n",
      "Already processed C:\\Users\\fhacesga\\OneDrive - University Of Houston\\AAA_RECTDNN\\data\\AAA_Images\\TileIndicesStore\\\\485488IND0_0583.jpg\n",
      "Already processed C:\\Users\\fhacesga\\OneDrive - University Of Houston\\AAA_RECTDNN\\data\\AAA_Images\\TileIndicesStore\\\\485488IND0_0990.tif\n",
      "Already processed C:\\Users\\fhacesga\\OneDrive - University Of Houston\\AAA_RECTDNN\\data\\AAA_Images\\TileIndicesStore\\\\485491.tif\n",
      "Already processed C:\\Users\\fhacesga\\OneDrive - University Of Houston\\AAA_RECTDNN\\data\\AAA_Images\\TileIndicesStore\\\\485491B.tif\n",
      "Already processed C:\\Users\\fhacesga\\OneDrive - University Of Houston\\AAA_RECTDNN\\data\\AAA_Images\\TileIndicesStore\\\\485491C.tif\n",
      "Already processed C:\\Users\\fhacesga\\OneDrive - University Of Houston\\AAA_RECTDNN\\data\\AAA_Images\\TileIndicesStore\\\\485491D.tif\n",
      "Could not open C:\\Users\\fhacesga\\OneDrive - University Of Houston\\AAA_RECTDNN\\data\\AAA_Images\\TileIndicesStore\\\\485510.tif\n",
      "Could not open C:\\Users\\fhacesga\\OneDrive - University Of Houston\\AAA_RECTDNN\\data\\AAA_Images\\TileIndicesStore\\\\485510B.tif\n",
      "C:\\Users\\fhacesga\\OneDrive - University Of Houston\\AAA_RECTDNN\\data\\AAA_Images\\TileIndicesStore\\\\485513.tif\n"
     ]
    },
    {
     "data": {
      "application/vnd.jupyter.widget-view+json": {
       "model_id": "b58e94b7653841bc91e224a3f362b33d",
       "version_major": 2,
       "version_minor": 0
      },
      "text/plain": [
       "  0%|          | 0/2 [00:00<?, ?it/s]"
      ]
     },
     "metadata": {},
     "output_type": "display_data"
    },
    {
     "name": "stderr",
     "output_type": "stream",
     "text": [
      "c:\\Users\\fhacesga\\Desktop\\FIRMsDigitizing\\RECTDNN\\TPNN.py:192: UserWarning: Implicit dimension choice for softmax has been deprecated. Change the call to include dim=X as an argument.\n",
      "  output = self.softmax(output)\n"
     ]
    },
    {
     "name": "stdout",
     "output_type": "stream",
     "text": [
      "C:\\Users\\fhacesga\\OneDrive - University Of Houston\\AAA_RECTDNN\\data\\AAA_Images\\TileIndicesStore\\\\485513A.tif\n"
     ]
    },
    {
     "data": {
      "application/vnd.jupyter.widget-view+json": {
       "model_id": "22d7f353859549d3af6c96978b15748f",
       "version_major": 2,
       "version_minor": 0
      },
      "text/plain": [
       "  0%|          | 0/2 [00:00<?, ?it/s]"
      ]
     },
     "metadata": {},
     "output_type": "display_data"
    },
    {
     "name": "stdout",
     "output_type": "stream",
     "text": [
      "C:\\Users\\fhacesga\\OneDrive - University Of Houston\\AAA_RECTDNN\\data\\AAA_Images\\TileIndicesStore\\\\485516.tif\n"
     ]
    },
    {
     "data": {
      "application/vnd.jupyter.widget-view+json": {
       "model_id": "1a7b82d95cd7430ea370035cc692586d",
       "version_major": 2,
       "version_minor": 0
      },
      "text/plain": [
       "  0%|          | 0/2 [00:00<?, ?it/s]"
      ]
     },
     "metadata": {},
     "output_type": "display_data"
    },
    {
     "name": "stdout",
     "output_type": "stream",
     "text": [
      "Could not open C:\\Users\\fhacesga\\OneDrive - University Of Houston\\AAA_RECTDNN\\data\\AAA_Images\\TileIndicesStore\\\\485516A.tif\n",
      "C:\\Users\\fhacesga\\OneDrive - University Of Houston\\AAA_RECTDNN\\data\\AAA_Images\\TileIndicesStore\\\\485516IND0_0281.jpg\n"
     ]
    },
    {
     "data": {
      "application/vnd.jupyter.widget-view+json": {
       "model_id": "e253fb1a353d433cbe986b698c9c86ab",
       "version_major": 2,
       "version_minor": 0
      },
      "text/plain": [
       "  0%|          | 0/2 [00:00<?, ?it/s]"
      ]
     },
     "metadata": {},
     "output_type": "display_data"
    }
   ],
   "source": [
    "os.makedirs(output_folder, exist_ok=True)\n",
    "\n",
    "for filename in os.listdir(input_folder):\n",
    "\n",
    "    if filename.lower().endswith(('.png', '.jpg', '.jpeg', '.tif', '.tiff')):\n",
    "        # OPEN IMAGE FILE\n",
    "        image_path = os.path.join(input_folder, filename)\n",
    "        image = cv2.imread(image_path)\n",
    "\n",
    "        if image is None:\n",
    "            print(f\"Could not open {image_path}\")\n",
    "            continue\n",
    "            \n",
    "        test_output_path = os.path.join(output_folder, f\"{os.path.basename(image_path)[:-4]}_{classes[0]}.png\")\n",
    "        if os.path.exists(test_output_path):\n",
    "            print(f\"Already processed {image_path}\")\n",
    "            continue\n",
    "\n",
    "        print(image_path)\n",
    "\n",
    "        # SEND TO CNN RUNNING CODE\n",
    "        processed_image, tiles = split_and_run_cnn(image, model)\n",
    "        \n",
    "        # FOR EACH BAND IN OUTPUT, SAVE BLACK AND WHITE IMAGE\n",
    "        for x in range(processed_image.shape[-1]):\n",
    "            im_path = os.path.join(output_folder, f\"{os.path.basename(image_path)[:-4]}_{classes[x]}.png\")\n",
    "            output = processed_image[:, :, x] * 255\n",
    "            output = output.astype(np.uint8)\n",
    "            cv2.imwrite(im_path, output)"
   ]
  }
 ],
 "metadata": {
  "kernelspec": {
   "display_name": "Python 3 (ipykernel)",
   "language": "python",
   "name": "python3"
  },
  "language_info": {
   "codemirror_mode": {
    "name": "ipython",
    "version": 3
   },
   "file_extension": ".py",
   "mimetype": "text/x-python",
   "name": "python",
   "nbconvert_exporter": "python",
   "pygments_lexer": "ipython3",
   "version": "3.7.12"
  }
 },
 "nbformat": 4,
 "nbformat_minor": 5
}
