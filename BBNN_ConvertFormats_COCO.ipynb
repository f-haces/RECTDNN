{
 "cells": [
  {
   "cell_type": "code",
   "execution_count": 1,
   "id": "9c12f72a",
   "metadata": {},
   "outputs": [
    {
     "name": "stderr",
     "output_type": "stream",
     "text": [
      "C:\\Users\\fhacesga\\Desktop\\FIRMsDigitizing\\RECTDNN\\DatasetConversion.py:3: TqdmExperimentalWarning: Using `tqdm.autonotebook.tqdm` in notebook mode. Use `tqdm.tqdm` instead to force console mode (e.g. in jupyter console)\n",
      "  from tqdm.autonotebook import tqdm\n"
     ]
    }
   ],
   "source": [
    "import os, cv2, json, pickle\n",
    "import numpy as np\n",
    "from tqdm.notebook import tqdm\n",
    "from shutil import copyfile\n",
    "\n",
    "from DatasetConversion import *\n",
    "\n",
    "import matplotlib.pyplot as plt\n",
    "\n",
    "from ultralytics.data.converter import convert_coco"
   ]
  },
  {
   "cell_type": "code",
   "execution_count": 3,
   "id": "fe90c4b2-5480-47b0-885b-02772a5bb7c6",
   "metadata": {},
   "outputs": [],
   "source": [
    "base_dir = r\"C:\\Users\\franc\\OneDrive - University Of Houston\\AAA_RECTDNN\\data\\BBNN\\tileindices\\augmentv4\\\\\"\n",
    "\n",
    "pkl_folder    = f\"{base_dir}pkl\\\\\"\n",
    "\n",
    "category_labels = {\n",
    "    0 : \"County\",\n",
    "    1 : \"Tile\",\n",
    "    2 : \"Box\",\n",
    "    3 : \"Legend\"\n",
    "}\n",
    "\n",
    "categories=[0, 1]"
   ]
  },
  {
   "cell_type": "code",
   "execution_count": 4,
   "id": "4a2b2d2f",
   "metadata": {},
   "outputs": [
    {
     "data": {
      "application/vnd.jupyter.widget-view+json": {
       "model_id": "7090ec9a3ae840c9b800349e17910aa7",
       "version_major": 2,
       "version_minor": 0
      },
      "text/plain": [
       "  0%|          | 0/800 [00:00<?, ?it/s]"
      ]
     },
     "metadata": {},
     "output_type": "display_data"
    },
    {
     "data": {
      "application/vnd.jupyter.widget-view+json": {
       "model_id": "53619ded8b554cc6a2a0f9bca66a3bd5",
       "version_major": 2,
       "version_minor": 0
      },
      "text/plain": [
       "  0%|          | 0/200 [00:00<?, ?it/s]"
      ]
     },
     "metadata": {},
     "output_type": "display_data"
    },
    {
     "name": "stderr",
     "output_type": "stream",
     "text": [
      "Annotations C:\\Users\\franc\\OneDrive - University Of Houston\\AAA_RECTDNN\\data\\BBNN\\tileindices\\augmentv4\\annotations\\instances_train\n",
      "Annotations C:\\Users\\franc\\OneDrive - University Of Houston\\AAA_RECTDNN\\data\\BBNN\\tileindices\\augmentv4\\annotations\\instances_val.j"
     ]
    },
    {
     "name": "stdout",
     "output_type": "stream",
     "text": [
      "COCO data converted successfully.\n",
      "Results saved to C:\\Users\\franc\\OneDrive - University Of Houston\\AAA_RECTDNN\\data\\BBNN\\tileindices\\augmentv4\\YOLO_dataset\n"
     ]
    },
    {
     "name": "stderr",
     "output_type": "stream",
     "text": [
      "\n"
     ]
    }
   ],
   "source": [
    "train = toCOCO(f\"{base_dir}train\\\\\", pkl_folder, f\"{base_dir}annotations/instances_train.json\", \"../train/\", category_labels, categories)\n",
    "val   = toCOCO(f\"{base_dir}val\\\\\", pkl_folder, f\"{base_dir}annotations/instances_val.json\", \"../val/\", category_labels, categories)\n",
    "convert_coco(labels_dir=f'{base_dir}annotations', save_dir=f\"{base_dir}YOLO_dataset\", cls91to80=False)"
   ]
  }
 ],
 "metadata": {
  "kernelspec": {
   "display_name": "Python 3 (ipykernel)",
   "language": "python",
   "name": "python3"
  },
  "language_info": {
   "codemirror_mode": {
    "name": "ipython",
    "version": 3
   },
   "file_extension": ".py",
   "mimetype": "text/x-python",
   "name": "python",
   "nbconvert_exporter": "python",
   "pygments_lexer": "ipython3",
   "version": "3.8.18"
  }
 },
 "nbformat": 4,
 "nbformat_minor": 5
}
