{
 "cells": [
  {
   "cell_type": "code",
   "execution_count": 1,
   "id": "9c12f72a",
   "metadata": {},
   "outputs": [],
   "source": [
    "import os, cv2, json, pickle\n",
    "import numpy as np\n",
    "from tqdm.notebook import tqdm\n",
    "\n",
    "import matplotlib.pyplot as plt\n",
    "\n",
    "from ultralytics.data.converter import convert_coco"
   ]
  },
  {
   "cell_type": "code",
   "execution_count": 2,
   "id": "b3fac48f-f887-4631-997b-e494137aa740",
   "metadata": {},
   "outputs": [],
   "source": [
    "def toCOCO(images_folder, pkl_folder, output_file, relative_image_path, category_labels, categories):\n",
    "    \n",
    "    def convertBBOXFormats(bbox):\n",
    "        y_min, x_max, y_max, x_min = bbox\n",
    "        width = x_max - x_min\n",
    "        height = y_max - y_min\n",
    "        \n",
    "        if x_min+y_min+x_max+y_max != 0 and False:\n",
    "            print(bbox)\n",
    "            print(x_min, y_max, width, height)\n",
    "            \n",
    "        return x_min, y_min, width, height\n",
    "        \n",
    "    \n",
    "    def convert(o):\n",
    "        if isinstance(o, np.generic): return o.item()  \n",
    "        raise TypeError\n",
    "        \n",
    "    # LIST FILES \n",
    "    fns       = os.listdir(images_folder)\n",
    "    image_fns = [os.path.join(images_folder, fn) for fn in fns]\n",
    "    pkl_fns   = [os.path.join(pkl_folder, fn[:-3]+\"pkl\") for fn in fns]\n",
    "    \n",
    "    coco_data = {\n",
    "        \"images\": [],\n",
    "        \"annotations\": [],\n",
    "        \"categories\": []\n",
    "    }\n",
    "    \n",
    "    # Map category names to IDs\n",
    "    category_id_map = {}\n",
    "    for idx, category in enumerate(categories):\n",
    "        category_id_map[category_labels[category]] = idx + 1  # COCO categories are 1-indexed\n",
    "    \n",
    "    # Add categories to COCO data\n",
    "    for category in categories:\n",
    "        coco_data['categories'].append({\n",
    "            'id': category_id_map[category_labels[category]],\n",
    "            'name': category_labels[category],\n",
    "            'supercategory': \"\"\n",
    "        })\n",
    "    \n",
    "    # Process images and annotations\n",
    "    image_id = 1\n",
    "    annotation_id = 1\n",
    "    for i, image_path in tqdm(enumerate(image_fns), total=len(image_fns)):\n",
    "        filename = fns[i]\n",
    "    \n",
    "        # READ IMAGE\n",
    "        image = cv2.imread(image_path)\n",
    "        height, width, _ = image.shape\n",
    "    \n",
    "        # READ PICKLE FILE\n",
    "        pkl = pickle.load(open(pkl_fns[i], 'rb'))\n",
    "    \n",
    "        # Add image to COCO data\n",
    "        coco_data['images'].append({\n",
    "            'id': image_id,\n",
    "            'file_name': f\"{relative_image_path}{filename}\",\n",
    "            'width': width,\n",
    "            'height': height\n",
    "        })\n",
    "    \n",
    "        count = 0\n",
    "    \n",
    "        # Add annotations to COCO data\n",
    "        for i, bbox in enumerate(pkl['boxes']):\n",
    "    \n",
    "            label = pkl[\"labels\"][i]\n",
    "    \n",
    "            x, y, w, h = convertBBOXFormats(bbox)\n",
    "    \n",
    "            if x + y + w + h == 0:\n",
    "                continue\n",
    "    \n",
    "            count = count + 1\n",
    "            \n",
    "            coco_data['annotations'].append({\n",
    "                'id': annotation_id,\n",
    "                'image_id': image_id,\n",
    "                'category_id': category_id_map[category_labels[label]],\n",
    "                'bbox': [x, y, w, h],\n",
    "                'area': w * h,\n",
    "                'iscrowd': 0  # assuming annotations are not crowd\n",
    "            })\n",
    "            annotation_id += 1\n",
    "    \n",
    "        image_id += 1\n",
    "        \n",
    "    with open(output_file, 'w') as f:\n",
    "        json.dump(coco_data, f, default=convert)\n",
    "\n",
    "    return coco_data"
   ]
  },
  {
   "cell_type": "code",
   "execution_count": 3,
   "id": "fe90c4b2-5480-47b0-885b-02772a5bb7c6",
   "metadata": {},
   "outputs": [],
   "source": [
    "base_dir = r\"C:\\Users\\franc\\OneDrive - University Of Houston\\AAA_RECTDNN\\data\\BBNN\\tileindices\\augmentv4\\\\\"\n",
    "\n",
    "pkl_folder    = f\"{base_dir}pkl\\\\\"\n",
    "\n",
    "category_labels = {\n",
    "    0 : \"County\",\n",
    "    1 : \"Tile\",\n",
    "    2 : \"Box\",\n",
    "    3 : \"Legend\"\n",
    "}\n",
    "\n",
    "categories=[0, 1]"
   ]
  },
  {
   "cell_type": "code",
   "execution_count": 4,
   "id": "4a2b2d2f",
   "metadata": {},
   "outputs": [
    {
     "data": {
      "application/vnd.jupyter.widget-view+json": {
       "model_id": "7090ec9a3ae840c9b800349e17910aa7",
       "version_major": 2,
       "version_minor": 0
      },
      "text/plain": [
       "  0%|          | 0/800 [00:00<?, ?it/s]"
      ]
     },
     "metadata": {},
     "output_type": "display_data"
    },
    {
     "data": {
      "application/vnd.jupyter.widget-view+json": {
       "model_id": "53619ded8b554cc6a2a0f9bca66a3bd5",
       "version_major": 2,
       "version_minor": 0
      },
      "text/plain": [
       "  0%|          | 0/200 [00:00<?, ?it/s]"
      ]
     },
     "metadata": {},
     "output_type": "display_data"
    },
    {
     "name": "stderr",
     "output_type": "stream",
     "text": [
      "Annotations C:\\Users\\franc\\OneDrive - University Of Houston\\AAA_RECTDNN\\data\\BBNN\\tileindices\\augmentv4\\annotations\\instances_train\n",
      "Annotations C:\\Users\\franc\\OneDrive - University Of Houston\\AAA_RECTDNN\\data\\BBNN\\tileindices\\augmentv4\\annotations\\instances_val.j"
     ]
    },
    {
     "name": "stdout",
     "output_type": "stream",
     "text": [
      "COCO data converted successfully.\n",
      "Results saved to C:\\Users\\franc\\OneDrive - University Of Houston\\AAA_RECTDNN\\data\\BBNN\\tileindices\\augmentv4\\YOLO_dataset\n"
     ]
    },
    {
     "name": "stderr",
     "output_type": "stream",
     "text": [
      "\n"
     ]
    }
   ],
   "source": [
    "train = toCOCO(f\"{base_dir}train\\\\\", pkl_folder, f\"{base_dir}annotations/instances_train.json\", \"../train/\", category_labels, categories)\n",
    "val   = toCOCO(f\"{base_dir}val\\\\\", pkl_folder, f\"{base_dir}annotations/instances_val.json\", \"../val/\", category_labels, categories)\n",
    "convert_coco(labels_dir=f'{base_dir}annotations', save_dir=f\"{base_dir}YOLO_dataset\", cls91to80=False)"
   ]
  }
 ],
 "metadata": {
  "kernelspec": {
   "display_name": "Python 3 (ipykernel)",
   "language": "python",
   "name": "python3"
  },
  "language_info": {
   "codemirror_mode": {
    "name": "ipython",
    "version": 3
   },
   "file_extension": ".py",
   "mimetype": "text/x-python",
   "name": "python",
   "nbconvert_exporter": "python",
   "pygments_lexer": "ipython3",
   "version": "3.8.18"
  }
 },
 "nbformat": 4,
 "nbformat_minor": 5
}
