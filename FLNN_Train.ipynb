{
 "cells": [
  {
   "cell_type": "code",
   "execution_count": 1,
   "id": "4333b7a8",
   "metadata": {},
   "outputs": [],
   "source": [
    "# PYTHON IMPORTS\n",
    "import os, copy, traceback\n",
    "from tqdm.notebook import trange, tqdm\n",
    "import glob\n",
    "\n",
    "# IMAGE IMPORTS \n",
    "from PIL import Image\n",
    "import cv2, tifffile\n",
    "\n",
    "# DATA IMPORTS \n",
    "import random\n",
    "import h5py\n",
    "import numpy as np\n",
    "\n",
    "# PLOTTING\n",
    "import matplotlib.pyplot as plt\n",
    "import matplotlib.cm as cm\n",
    "\n",
    "# NEURAL NETWORK\n",
    "import torch\n",
    "import torch.nn as nn\n",
    "import torch.optim as optim\n",
    "from torch.utils.data import DataLoader, Dataset\n",
    "from torchvision import transforms, datasets\n",
    "from torchvision.transforms import ToPILImage, GaussianBlur\n",
    "from torchvision.transforms import Compose, RandomCrop, ToTensor, Normalize\n",
    "import torch.optim.lr_scheduler as lr_scheduler\n",
    "import torchvision.models as models\n",
    "from sklearn.preprocessing import LabelEncoder, OneHotEncoder\n",
    "\n",
    "# MY OWN CLASSES\n",
    "from TPNN import *\n",
    "from PlottingUtils import *\n",
    "from DataUtils import * \n",
    "\n",
    "Image.MAX_IMAGE_PIXELS = 933120000\n",
    "%matplotlib notebook"
   ]
  },
  {
   "cell_type": "code",
   "execution_count": 2,
   "id": "fa7f0da9",
   "metadata": {},
   "outputs": [
    {
     "data": {
      "application/vnd.jupyter.widget-view+json": {
       "model_id": "9598104261b74175b7595970dc69aa41",
       "version_major": 2,
       "version_minor": 0
      },
      "text/plain": [
       "  0%|          | 0/6 [00:00<?, ?it/s]"
      ]
     },
     "metadata": {},
     "output_type": "display_data"
    },
    {
     "data": {
      "application/vnd.jupyter.widget-view+json": {
       "model_id": "0c661b3b523e46c997b81ec88b55885f",
       "version_major": 2,
       "version_minor": 0
      },
      "text/plain": [
       "  0%|          | 0/6 [00:00<?, ?it/s]"
      ]
     },
     "metadata": {},
     "output_type": "display_data"
    }
   ],
   "source": [
    "base_dir = r\"C:\\Users\\franc\\OneDrive - University Of Houston\\AAA_RECTDNN\\data\"\n",
    "\n",
    "input_folder        = f\"{base_dir}/FLNN/in\"\n",
    "val_folder          = f\"{base_dir}/FLNN/val\"\n",
    "train_target_folder = f\"{base_dir}/FLNN/out\"\n",
    "val_target_folder   = f\"{base_dir}/FLNN/val_out\"\n",
    "batch_size          = 6\n",
    "verbose_level       = 0\n",
    "n_pyramids          = 2\n",
    "processing_size     = 256\n",
    "\n",
    "tensor = transforms.Compose([\n",
    "    transforms.ToTensor(),\n",
    "])\n",
    "\n",
    "transform = transforms.Compose([\n",
    "    transforms.RandomRotation(degrees=180),\n",
    "    transforms.RandomHorizontalFlip(),\n",
    "    transforms.RandomVerticalFlip(),\n",
    "    transforms.ToTensor(),\n",
    "])\n",
    "\n",
    "tensor = transforms.Compose([transforms.ToTensor()])\n",
    "\n",
    "train_dataset = NN_Multiclass(input_folder, train_target_folder, transform=transform, \n",
    "                              only_true=False, crop=True, cropsize=processing_size,\n",
    "                              n_pyramids=n_pyramids)\n",
    "train_loader  = DataLoader(train_dataset, batch_size=batch_size, shuffle=True, num_workers=0)\n",
    "val_dataset = NN_Multiclass(val_folder, val_target_folder, transform=transform, \n",
    "                            only_true=False, crop=True, cropsize=processing_size, \n",
    "                            n_pyramids=n_pyramids)\n",
    "val_loader  = DataLoader(val_dataset, batch_size=1, shuffle=False, num_workers=0)\n",
    "\n",
    "loaders = {'train' : train_loader, \"test\" : val_loader }"
   ]
  },
  {
   "cell_type": "code",
   "execution_count": 3,
   "id": "97acd5c7",
   "metadata": {},
   "outputs": [],
   "source": [
    "def notify(mess, level=4):\n",
    "    if verbose_level >= level:\n",
    "        print(mess)\n",
    "\n",
    "def saveImages(prob_img_or, outputs, filenames, minputs, outputs_folder, rep_id, labels,):\n",
    "    \n",
    "    # IF FOR SOME REASON OUTPUT IS UNBATCHED, BATCH IT\n",
    "    if prob_img_or.ndim == 3:\n",
    "        prob_img_or = prob_img_or.unsqueeze(0)\n",
    "        \n",
    "    # CONVERT TO NUMPY ARRAY\n",
    "    prob_img_or = prob_img_or.numpy()\n",
    "    \n",
    "    # FOR EACH BATCHED OUTPUT\n",
    "    for i in range(len(outputs)):\n",
    "        filename = filenames[i]\n",
    "\n",
    "        # CONVERT TO IMAGE NUMPY ARRAY\n",
    "        prob_img = prob_img_or[i, :, :, :]\n",
    "        prob_img = (prob_img * 255).astype(np.uint8) \n",
    "        prob_img = np.moveaxis(prob_img, [0, 1, 2], [2, 0, 1])\n",
    "\n",
    "        # SAVE TO FILE\n",
    "        myout = probability_to_rgb(prob_img)\n",
    "        myout.save(os.path.join(outputs_folder, f\"{rep_id}_{filename[:-4]}_out.png\"))\n",
    "\n",
    "        # SAVE INPUTS\n",
    "        myinp = Image.fromarray(np.uint8(minputs[i, 0, :, :] * 255))\n",
    "        myinp.save(os.path.join(outputs_folder, f\"{rep_id}_{filename[:-4]}_inp.png\"))\n",
    "\n",
    "        # SAVE OUTPUTS\n",
    "        mylab = class_to_one_hot(labels[i, :, :], prob_img.shape[-1])\n",
    "        mylab = probability_to_rgb(mylab)\n",
    "        mylab.save(os.path.join(outputs_folder, f\"{rep_id}_{filename[:-4]}_lab.png\"))\n",
    "            \n",
    "def train(model, dataloaders, num_epochs=50, \n",
    "          output_dir=r'D:\\Desktop\\FIRMsDigitizing\\data\\FLNN\\intermediate_outputs', \n",
    "          learning_rate=5e-4,\n",
    "          device = torch.device(\"cuda:0\"),\n",
    "          continue_from=None,\n",
    "          weights=[1, 1, 1]):\n",
    "    \n",
    "    # TRAINING PARAMETERS\n",
    "    weights = torch.tensor(weights).float().to(device)\n",
    "    criterion = nn.CrossEntropyLoss(weight=weights, reduction=\"mean\")\n",
    "    optimizer = optim.Adam(model.parameters(), lr=learning_rate)\n",
    "    learning_rate_scheduler = lr_scheduler.StepLR(optimizer, step_size=10, gamma=0.99)\n",
    "    start_epoch = 0\n",
    "        \n",
    "    if continue_from is not None:\n",
    "        checkpoint = torch.load(continue_from)\n",
    "        model.load_state_dict(checkpoint['model_state_dict'])\n",
    "        optimizer.load_state_dict(checkpoint['optimizer_state_dict'])\n",
    "        for state in optimizer.state.values():\n",
    "            for k, v in state.items():\n",
    "                if isinstance(v, torch.Tensor):\n",
    "                    state[k] = v.cuda()\n",
    "        start_epoch = checkpoint['epoch']\n",
    "        start_loss = checkpoint['loss']\n",
    "        \n",
    "    # SEND MODEL TO GPU\n",
    "    model = model.to(device)\n",
    "    \n",
    "    # MAKE SURE DIRS FOR TEMP OUTPUTS EXIST\n",
    "    if not os.path.exists(output_dir):\n",
    "        os.makedirs(output_dir)\n",
    "        \n",
    "    # STRUCTURES FOR PLOTTING\n",
    "    epoch_losses = {'train' : [], 'test' : []}\n",
    "    iou_lists    = {'train' : [], 'test' : []}\n",
    "    lr_list      = []\n",
    "    fig, axs = init_plotting()\n",
    "        \n",
    "    # LOOP THROUGH EPOCHS\n",
    "    for epoch in range(start_epoch, num_epochs):\n",
    "        notify('Epoch {}/{}'.format(epoch+1, num_epochs), level=1)\n",
    "        notify('-' * 10, level=1)\n",
    "        phases = ['train', 'test']\n",
    "        epoch_loss = {'train' : 0, 'test' : 0}\n",
    "        iou_list = {'train' : [], 'test' : []}      \n",
    "        \n",
    "        # FOR BOTH PHASES\n",
    "        for phase in phases: \n",
    "            if phase == 'train':\n",
    "                model.train()\n",
    "                repeats = range(4)\n",
    "            else:\n",
    "                model.eval()\n",
    "                repeats = range(1)\n",
    "            \n",
    "            # MAKE DIR FOR CURRENT PHASE IF IT DOES NOT EXIST\n",
    "            outputs_folder = os.path.join(output_dir, phase)\n",
    "            if not os.path.exists(outputs_folder):\n",
    "                os.makedirs(outputs_folder)\n",
    "                \n",
    "            # BASELINE MEMORY USAGE                \n",
    "            notify(f\"Prior to Iterations\\t {torch.cuda.memory_allocated() / 1e6}\")\n",
    "            \n",
    "            # COUNT HOW MANY IMAGES\n",
    "            n_images = 0\n",
    "            \n",
    "            # ITERATE OVER REPEATS\n",
    "            for rep_id in tqdm(repeats, disable=verbose_level < 4):\n",
    "                for inputs, labels, filenames in dataloaders[phase]:\n",
    "                    \n",
    "                    # SEND TO GPU\n",
    "                    inputs = inputs.to(device)\n",
    "                    labels = labels.to(device)\n",
    "                    notify(f\"Datasets Moved\\t\\t {torch.cuda.memory_allocated()/ 1e6}\")\n",
    "                    \n",
    "                    # ZERO GRADIENTS AND THROUGH MODEL\n",
    "                    optimizer.zero_grad()\n",
    "                    outputs = model(inputs, resize=False)\n",
    "                    \n",
    "                    notify(f\"Outputs Processed\\t {torch.cuda.memory_allocated() / 1e6}\")\n",
    "                    \n",
    "                    # CALCULATE LOSS AND KEEP TRACK OF IT FOR CURRENT EPOCH\n",
    "                    loss = criterion(outputs, labels) \n",
    "                    epoch_loss[phase] += loss\n",
    "                    iou_list[phase].append(calculate_iou(outputs, labels).detach().cpu().numpy())\n",
    "                    notify(f\"Loss Calculated\\t\\t {torch.cuda.memory_allocated() / 1e6}\")\n",
    "                    \n",
    "                    # COUNT HOW MANY IMAGES\n",
    "                    n_images += inputs.shape[0]\n",
    "                    \n",
    "                    # OPTIMIZE IF PHASE IS TRAINING\n",
    "                    if phase is 'train':\n",
    "                        notify(\"Optimizing\")\n",
    "                        loss.backward()\n",
    "                        optimizer.step()\n",
    "                        notify(f\"Backwards and optimized\\t {torch.cuda.memory_allocated() / 1e6}\")\n",
    "                    \n",
    "                    # SAVE TRAINING IMAGES IF CURRENT STEP REQUIRES IT\n",
    "                    if rep_id % 2 == 0 and rep_id != 0:\n",
    "                        prob_img_or = outputs.detach().cpu()\n",
    "                        minputs     = inputs.detach().cpu().numpy()\n",
    "                        mlabels     = labels.detach().cpu().numpy()\n",
    "                        saveImages(prob_img_or, outputs, filenames, minputs, outputs_folder, rep_id, mlabels)\n",
    "                    \n",
    "                    # EMPTY CACHE\n",
    "                    torch.cuda.empty_cache()\n",
    "                    notify(f\"Cache Emptied\\t\\t {torch.cuda.memory_allocated() / 1e6}\")\n",
    "                    \n",
    "            # METRICS - NORMALIZE EPOCH LOSS AND IOU BY HOW MANY IMAGES\n",
    "            epoch_loss[phase] = epoch_loss[phase].cpu().detach().numpy() / (len(repeats) + n_images)\n",
    "            iou_list[phase]   = np.mean(np.vstack(iou_list[phase]), axis=0)\n",
    "        \n",
    "        # UPDATE LEARNING RATE SCHEDULER\n",
    "        lr_list.append(learning_rate_scheduler.get_lr()[0])\n",
    "        learning_rate_scheduler.step()\n",
    "        \n",
    "        # PLOT, FIRST BY TRANSFERING TO LISTS\n",
    "        for i in phases:\n",
    "            epoch_losses[i].append(epoch_loss[i])\n",
    "            iou_lists[i].append(iou_list[i])\n",
    "        \n",
    "        update_plots([epoch_losses[i] for i in phases], [iou_lists[i] for i in phases], fig, axs, \n",
    "                     colors=[\"r\", \"g\", \"b\", \"k\", \"orange\"]*2,\n",
    "                     annotations=f\"Learning Rate: {lr_list[-1]:.2e}\"\n",
    "                    )\n",
    "        \n",
    "        # SAVE MODEL EVERY TEN EPOCHS\n",
    "        if epoch % 10 == 0:\n",
    "            torch.save({\n",
    "                'epoch': epoch,\n",
    "                'model_state_dict': model.state_dict(),\n",
    "                'optimizer_state_dict': optimizer.state_dict(),\n",
    "                'loss': loss,\n",
    "                'iou_lists' : iou_lists,\n",
    "                'epoch_losses' : epoch_losses,\n",
    "                'lr_list' : lr_list\n",
    "            }, r'D:\\Desktop\\FIRMsDigitizing\\data\\FLNN\\checkpoint_010824.pth')\n",
    "            \n",
    "            torch.save(model, r\"D:\\Desktop\\FIRMsDigitizing\\data\\FLNN\\010824.pth\")\n",
    "        \n",
    "    return model"
   ]
  },
  {
   "cell_type": "code",
   "execution_count": 4,
   "id": "0e8a83ad",
   "metadata": {
    "scrolled": false
   },
   "outputs": [
    {
     "data": {
      "application/javascript": [
       "/* Put everything inside the global mpl namespace */\n",
       "/* global mpl */\n",
       "window.mpl = {};\n",
       "\n",
       "mpl.get_websocket_type = function () {\n",
       "    if (typeof WebSocket !== 'undefined') {\n",
       "        return WebSocket;\n",
       "    } else if (typeof MozWebSocket !== 'undefined') {\n",
       "        return MozWebSocket;\n",
       "    } else {\n",
       "        alert(\n",
       "            'Your browser does not have WebSocket support. ' +\n",
       "                'Please try Chrome, Safari or Firefox ≥ 6. ' +\n",
       "                'Firefox 4 and 5 are also supported but you ' +\n",
       "                'have to enable WebSockets in about:config.'\n",
       "        );\n",
       "    }\n",
       "};\n",
       "\n",
       "mpl.figure = function (figure_id, websocket, ondownload, parent_element) {\n",
       "    this.id = figure_id;\n",
       "\n",
       "    this.ws = websocket;\n",
       "\n",
       "    this.supports_binary = this.ws.binaryType !== undefined;\n",
       "\n",
       "    if (!this.supports_binary) {\n",
       "        var warnings = document.getElementById('mpl-warnings');\n",
       "        if (warnings) {\n",
       "            warnings.style.display = 'block';\n",
       "            warnings.textContent =\n",
       "                'This browser does not support binary websocket messages. ' +\n",
       "                'Performance may be slow.';\n",
       "        }\n",
       "    }\n",
       "\n",
       "    this.imageObj = new Image();\n",
       "\n",
       "    this.context = undefined;\n",
       "    this.message = undefined;\n",
       "    this.canvas = undefined;\n",
       "    this.rubberband_canvas = undefined;\n",
       "    this.rubberband_context = undefined;\n",
       "    this.format_dropdown = undefined;\n",
       "\n",
       "    this.image_mode = 'full';\n",
       "\n",
       "    this.root = document.createElement('div');\n",
       "    this.root.setAttribute('style', 'display: inline-block');\n",
       "    this._root_extra_style(this.root);\n",
       "\n",
       "    parent_element.appendChild(this.root);\n",
       "\n",
       "    this._init_header(this);\n",
       "    this._init_canvas(this);\n",
       "    this._init_toolbar(this);\n",
       "\n",
       "    var fig = this;\n",
       "\n",
       "    this.waiting = false;\n",
       "\n",
       "    this.ws.onopen = function () {\n",
       "        fig.send_message('supports_binary', { value: fig.supports_binary });\n",
       "        fig.send_message('send_image_mode', {});\n",
       "        if (fig.ratio !== 1) {\n",
       "            fig.send_message('set_dpi_ratio', { dpi_ratio: fig.ratio });\n",
       "        }\n",
       "        fig.send_message('refresh', {});\n",
       "    };\n",
       "\n",
       "    this.imageObj.onload = function () {\n",
       "        if (fig.image_mode === 'full') {\n",
       "            // Full images could contain transparency (where diff images\n",
       "            // almost always do), so we need to clear the canvas so that\n",
       "            // there is no ghosting.\n",
       "            fig.context.clearRect(0, 0, fig.canvas.width, fig.canvas.height);\n",
       "        }\n",
       "        fig.context.drawImage(fig.imageObj, 0, 0);\n",
       "    };\n",
       "\n",
       "    this.imageObj.onunload = function () {\n",
       "        fig.ws.close();\n",
       "    };\n",
       "\n",
       "    this.ws.onmessage = this._make_on_message_function(this);\n",
       "\n",
       "    this.ondownload = ondownload;\n",
       "};\n",
       "\n",
       "mpl.figure.prototype._init_header = function () {\n",
       "    var titlebar = document.createElement('div');\n",
       "    titlebar.classList =\n",
       "        'ui-dialog-titlebar ui-widget-header ui-corner-all ui-helper-clearfix';\n",
       "    var titletext = document.createElement('div');\n",
       "    titletext.classList = 'ui-dialog-title';\n",
       "    titletext.setAttribute(\n",
       "        'style',\n",
       "        'width: 100%; text-align: center; padding: 3px;'\n",
       "    );\n",
       "    titlebar.appendChild(titletext);\n",
       "    this.root.appendChild(titlebar);\n",
       "    this.header = titletext;\n",
       "};\n",
       "\n",
       "mpl.figure.prototype._canvas_extra_style = function (_canvas_div) {};\n",
       "\n",
       "mpl.figure.prototype._root_extra_style = function (_canvas_div) {};\n",
       "\n",
       "mpl.figure.prototype._init_canvas = function () {\n",
       "    var fig = this;\n",
       "\n",
       "    var canvas_div = (this.canvas_div = document.createElement('div'));\n",
       "    canvas_div.setAttribute(\n",
       "        'style',\n",
       "        'border: 1px solid #ddd;' +\n",
       "            'box-sizing: content-box;' +\n",
       "            'clear: both;' +\n",
       "            'min-height: 1px;' +\n",
       "            'min-width: 1px;' +\n",
       "            'outline: 0;' +\n",
       "            'overflow: hidden;' +\n",
       "            'position: relative;' +\n",
       "            'resize: both;'\n",
       "    );\n",
       "\n",
       "    function on_keyboard_event_closure(name) {\n",
       "        return function (event) {\n",
       "            return fig.key_event(event, name);\n",
       "        };\n",
       "    }\n",
       "\n",
       "    canvas_div.addEventListener(\n",
       "        'keydown',\n",
       "        on_keyboard_event_closure('key_press')\n",
       "    );\n",
       "    canvas_div.addEventListener(\n",
       "        'keyup',\n",
       "        on_keyboard_event_closure('key_release')\n",
       "    );\n",
       "\n",
       "    this._canvas_extra_style(canvas_div);\n",
       "    this.root.appendChild(canvas_div);\n",
       "\n",
       "    var canvas = (this.canvas = document.createElement('canvas'));\n",
       "    canvas.classList.add('mpl-canvas');\n",
       "    canvas.setAttribute('style', 'box-sizing: content-box;');\n",
       "\n",
       "    this.context = canvas.getContext('2d');\n",
       "\n",
       "    var backingStore =\n",
       "        this.context.backingStorePixelRatio ||\n",
       "        this.context.webkitBackingStorePixelRatio ||\n",
       "        this.context.mozBackingStorePixelRatio ||\n",
       "        this.context.msBackingStorePixelRatio ||\n",
       "        this.context.oBackingStorePixelRatio ||\n",
       "        this.context.backingStorePixelRatio ||\n",
       "        1;\n",
       "\n",
       "    this.ratio = (window.devicePixelRatio || 1) / backingStore;\n",
       "\n",
       "    var rubberband_canvas = (this.rubberband_canvas = document.createElement(\n",
       "        'canvas'\n",
       "    ));\n",
       "    rubberband_canvas.setAttribute(\n",
       "        'style',\n",
       "        'box-sizing: content-box; position: absolute; left: 0; top: 0; z-index: 1;'\n",
       "    );\n",
       "\n",
       "    // Apply a ponyfill if ResizeObserver is not implemented by browser.\n",
       "    if (this.ResizeObserver === undefined) {\n",
       "        if (window.ResizeObserver !== undefined) {\n",
       "            this.ResizeObserver = window.ResizeObserver;\n",
       "        } else {\n",
       "            var obs = _JSXTOOLS_RESIZE_OBSERVER({});\n",
       "            this.ResizeObserver = obs.ResizeObserver;\n",
       "        }\n",
       "    }\n",
       "\n",
       "    this.resizeObserverInstance = new this.ResizeObserver(function (entries) {\n",
       "        var nentries = entries.length;\n",
       "        for (var i = 0; i < nentries; i++) {\n",
       "            var entry = entries[i];\n",
       "            var width, height;\n",
       "            if (entry.contentBoxSize) {\n",
       "                if (entry.contentBoxSize instanceof Array) {\n",
       "                    // Chrome 84 implements new version of spec.\n",
       "                    width = entry.contentBoxSize[0].inlineSize;\n",
       "                    height = entry.contentBoxSize[0].blockSize;\n",
       "                } else {\n",
       "                    // Firefox implements old version of spec.\n",
       "                    width = entry.contentBoxSize.inlineSize;\n",
       "                    height = entry.contentBoxSize.blockSize;\n",
       "                }\n",
       "            } else {\n",
       "                // Chrome <84 implements even older version of spec.\n",
       "                width = entry.contentRect.width;\n",
       "                height = entry.contentRect.height;\n",
       "            }\n",
       "\n",
       "            // Keep the size of the canvas and rubber band canvas in sync with\n",
       "            // the canvas container.\n",
       "            if (entry.devicePixelContentBoxSize) {\n",
       "                // Chrome 84 implements new version of spec.\n",
       "                canvas.setAttribute(\n",
       "                    'width',\n",
       "                    entry.devicePixelContentBoxSize[0].inlineSize\n",
       "                );\n",
       "                canvas.setAttribute(\n",
       "                    'height',\n",
       "                    entry.devicePixelContentBoxSize[0].blockSize\n",
       "                );\n",
       "            } else {\n",
       "                canvas.setAttribute('width', width * fig.ratio);\n",
       "                canvas.setAttribute('height', height * fig.ratio);\n",
       "            }\n",
       "            canvas.setAttribute(\n",
       "                'style',\n",
       "                'width: ' + width + 'px; height: ' + height + 'px;'\n",
       "            );\n",
       "\n",
       "            rubberband_canvas.setAttribute('width', width);\n",
       "            rubberband_canvas.setAttribute('height', height);\n",
       "\n",
       "            // And update the size in Python. We ignore the initial 0/0 size\n",
       "            // that occurs as the element is placed into the DOM, which should\n",
       "            // otherwise not happen due to the minimum size styling.\n",
       "            if (fig.ws.readyState == 1 && width != 0 && height != 0) {\n",
       "                fig.request_resize(width, height);\n",
       "            }\n",
       "        }\n",
       "    });\n",
       "    this.resizeObserverInstance.observe(canvas_div);\n",
       "\n",
       "    function on_mouse_event_closure(name) {\n",
       "        return function (event) {\n",
       "            return fig.mouse_event(event, name);\n",
       "        };\n",
       "    }\n",
       "\n",
       "    rubberband_canvas.addEventListener(\n",
       "        'mousedown',\n",
       "        on_mouse_event_closure('button_press')\n",
       "    );\n",
       "    rubberband_canvas.addEventListener(\n",
       "        'mouseup',\n",
       "        on_mouse_event_closure('button_release')\n",
       "    );\n",
       "    rubberband_canvas.addEventListener(\n",
       "        'dblclick',\n",
       "        on_mouse_event_closure('dblclick')\n",
       "    );\n",
       "    // Throttle sequential mouse events to 1 every 20ms.\n",
       "    rubberband_canvas.addEventListener(\n",
       "        'mousemove',\n",
       "        on_mouse_event_closure('motion_notify')\n",
       "    );\n",
       "\n",
       "    rubberband_canvas.addEventListener(\n",
       "        'mouseenter',\n",
       "        on_mouse_event_closure('figure_enter')\n",
       "    );\n",
       "    rubberband_canvas.addEventListener(\n",
       "        'mouseleave',\n",
       "        on_mouse_event_closure('figure_leave')\n",
       "    );\n",
       "\n",
       "    canvas_div.addEventListener('wheel', function (event) {\n",
       "        if (event.deltaY < 0) {\n",
       "            event.step = 1;\n",
       "        } else {\n",
       "            event.step = -1;\n",
       "        }\n",
       "        on_mouse_event_closure('scroll')(event);\n",
       "    });\n",
       "\n",
       "    canvas_div.appendChild(canvas);\n",
       "    canvas_div.appendChild(rubberband_canvas);\n",
       "\n",
       "    this.rubberband_context = rubberband_canvas.getContext('2d');\n",
       "    this.rubberband_context.strokeStyle = '#000000';\n",
       "\n",
       "    this._resize_canvas = function (width, height, forward) {\n",
       "        if (forward) {\n",
       "            canvas_div.style.width = width + 'px';\n",
       "            canvas_div.style.height = height + 'px';\n",
       "        }\n",
       "    };\n",
       "\n",
       "    // Disable right mouse context menu.\n",
       "    this.rubberband_canvas.addEventListener('contextmenu', function (_e) {\n",
       "        event.preventDefault();\n",
       "        return false;\n",
       "    });\n",
       "\n",
       "    function set_focus() {\n",
       "        canvas.focus();\n",
       "        canvas_div.focus();\n",
       "    }\n",
       "\n",
       "    window.setTimeout(set_focus, 100);\n",
       "};\n",
       "\n",
       "mpl.figure.prototype._init_toolbar = function () {\n",
       "    var fig = this;\n",
       "\n",
       "    var toolbar = document.createElement('div');\n",
       "    toolbar.classList = 'mpl-toolbar';\n",
       "    this.root.appendChild(toolbar);\n",
       "\n",
       "    function on_click_closure(name) {\n",
       "        return function (_event) {\n",
       "            return fig.toolbar_button_onclick(name);\n",
       "        };\n",
       "    }\n",
       "\n",
       "    function on_mouseover_closure(tooltip) {\n",
       "        return function (event) {\n",
       "            if (!event.currentTarget.disabled) {\n",
       "                return fig.toolbar_button_onmouseover(tooltip);\n",
       "            }\n",
       "        };\n",
       "    }\n",
       "\n",
       "    fig.buttons = {};\n",
       "    var buttonGroup = document.createElement('div');\n",
       "    buttonGroup.classList = 'mpl-button-group';\n",
       "    for (var toolbar_ind in mpl.toolbar_items) {\n",
       "        var name = mpl.toolbar_items[toolbar_ind][0];\n",
       "        var tooltip = mpl.toolbar_items[toolbar_ind][1];\n",
       "        var image = mpl.toolbar_items[toolbar_ind][2];\n",
       "        var method_name = mpl.toolbar_items[toolbar_ind][3];\n",
       "\n",
       "        if (!name) {\n",
       "            /* Instead of a spacer, we start a new button group. */\n",
       "            if (buttonGroup.hasChildNodes()) {\n",
       "                toolbar.appendChild(buttonGroup);\n",
       "            }\n",
       "            buttonGroup = document.createElement('div');\n",
       "            buttonGroup.classList = 'mpl-button-group';\n",
       "            continue;\n",
       "        }\n",
       "\n",
       "        var button = (fig.buttons[name] = document.createElement('button'));\n",
       "        button.classList = 'mpl-widget';\n",
       "        button.setAttribute('role', 'button');\n",
       "        button.setAttribute('aria-disabled', 'false');\n",
       "        button.addEventListener('click', on_click_closure(method_name));\n",
       "        button.addEventListener('mouseover', on_mouseover_closure(tooltip));\n",
       "\n",
       "        var icon_img = document.createElement('img');\n",
       "        icon_img.src = '_images/' + image + '.png';\n",
       "        icon_img.srcset = '_images/' + image + '_large.png 2x';\n",
       "        icon_img.alt = tooltip;\n",
       "        button.appendChild(icon_img);\n",
       "\n",
       "        buttonGroup.appendChild(button);\n",
       "    }\n",
       "\n",
       "    if (buttonGroup.hasChildNodes()) {\n",
       "        toolbar.appendChild(buttonGroup);\n",
       "    }\n",
       "\n",
       "    var fmt_picker = document.createElement('select');\n",
       "    fmt_picker.classList = 'mpl-widget';\n",
       "    toolbar.appendChild(fmt_picker);\n",
       "    this.format_dropdown = fmt_picker;\n",
       "\n",
       "    for (var ind in mpl.extensions) {\n",
       "        var fmt = mpl.extensions[ind];\n",
       "        var option = document.createElement('option');\n",
       "        option.selected = fmt === mpl.default_extension;\n",
       "        option.innerHTML = fmt;\n",
       "        fmt_picker.appendChild(option);\n",
       "    }\n",
       "\n",
       "    var status_bar = document.createElement('span');\n",
       "    status_bar.classList = 'mpl-message';\n",
       "    toolbar.appendChild(status_bar);\n",
       "    this.message = status_bar;\n",
       "};\n",
       "\n",
       "mpl.figure.prototype.request_resize = function (x_pixels, y_pixels) {\n",
       "    // Request matplotlib to resize the figure. Matplotlib will then trigger a resize in the client,\n",
       "    // which will in turn request a refresh of the image.\n",
       "    this.send_message('resize', { width: x_pixels, height: y_pixels });\n",
       "};\n",
       "\n",
       "mpl.figure.prototype.send_message = function (type, properties) {\n",
       "    properties['type'] = type;\n",
       "    properties['figure_id'] = this.id;\n",
       "    this.ws.send(JSON.stringify(properties));\n",
       "};\n",
       "\n",
       "mpl.figure.prototype.send_draw_message = function () {\n",
       "    if (!this.waiting) {\n",
       "        this.waiting = true;\n",
       "        this.ws.send(JSON.stringify({ type: 'draw', figure_id: this.id }));\n",
       "    }\n",
       "};\n",
       "\n",
       "mpl.figure.prototype.handle_save = function (fig, _msg) {\n",
       "    var format_dropdown = fig.format_dropdown;\n",
       "    var format = format_dropdown.options[format_dropdown.selectedIndex].value;\n",
       "    fig.ondownload(fig, format);\n",
       "};\n",
       "\n",
       "mpl.figure.prototype.handle_resize = function (fig, msg) {\n",
       "    var size = msg['size'];\n",
       "    if (size[0] !== fig.canvas.width || size[1] !== fig.canvas.height) {\n",
       "        fig._resize_canvas(size[0], size[1], msg['forward']);\n",
       "        fig.send_message('refresh', {});\n",
       "    }\n",
       "};\n",
       "\n",
       "mpl.figure.prototype.handle_rubberband = function (fig, msg) {\n",
       "    var x0 = msg['x0'] / fig.ratio;\n",
       "    var y0 = (fig.canvas.height - msg['y0']) / fig.ratio;\n",
       "    var x1 = msg['x1'] / fig.ratio;\n",
       "    var y1 = (fig.canvas.height - msg['y1']) / fig.ratio;\n",
       "    x0 = Math.floor(x0) + 0.5;\n",
       "    y0 = Math.floor(y0) + 0.5;\n",
       "    x1 = Math.floor(x1) + 0.5;\n",
       "    y1 = Math.floor(y1) + 0.5;\n",
       "    var min_x = Math.min(x0, x1);\n",
       "    var min_y = Math.min(y0, y1);\n",
       "    var width = Math.abs(x1 - x0);\n",
       "    var height = Math.abs(y1 - y0);\n",
       "\n",
       "    fig.rubberband_context.clearRect(\n",
       "        0,\n",
       "        0,\n",
       "        fig.canvas.width / fig.ratio,\n",
       "        fig.canvas.height / fig.ratio\n",
       "    );\n",
       "\n",
       "    fig.rubberband_context.strokeRect(min_x, min_y, width, height);\n",
       "};\n",
       "\n",
       "mpl.figure.prototype.handle_figure_label = function (fig, msg) {\n",
       "    // Updates the figure title.\n",
       "    fig.header.textContent = msg['label'];\n",
       "};\n",
       "\n",
       "mpl.figure.prototype.handle_cursor = function (fig, msg) {\n",
       "    var cursor = msg['cursor'];\n",
       "    switch (cursor) {\n",
       "        case 0:\n",
       "            cursor = 'pointer';\n",
       "            break;\n",
       "        case 1:\n",
       "            cursor = 'default';\n",
       "            break;\n",
       "        case 2:\n",
       "            cursor = 'crosshair';\n",
       "            break;\n",
       "        case 3:\n",
       "            cursor = 'move';\n",
       "            break;\n",
       "    }\n",
       "    fig.rubberband_canvas.style.cursor = cursor;\n",
       "};\n",
       "\n",
       "mpl.figure.prototype.handle_message = function (fig, msg) {\n",
       "    fig.message.textContent = msg['message'];\n",
       "};\n",
       "\n",
       "mpl.figure.prototype.handle_draw = function (fig, _msg) {\n",
       "    // Request the server to send over a new figure.\n",
       "    fig.send_draw_message();\n",
       "};\n",
       "\n",
       "mpl.figure.prototype.handle_image_mode = function (fig, msg) {\n",
       "    fig.image_mode = msg['mode'];\n",
       "};\n",
       "\n",
       "mpl.figure.prototype.handle_history_buttons = function (fig, msg) {\n",
       "    for (var key in msg) {\n",
       "        if (!(key in fig.buttons)) {\n",
       "            continue;\n",
       "        }\n",
       "        fig.buttons[key].disabled = !msg[key];\n",
       "        fig.buttons[key].setAttribute('aria-disabled', !msg[key]);\n",
       "    }\n",
       "};\n",
       "\n",
       "mpl.figure.prototype.handle_navigate_mode = function (fig, msg) {\n",
       "    if (msg['mode'] === 'PAN') {\n",
       "        fig.buttons['Pan'].classList.add('active');\n",
       "        fig.buttons['Zoom'].classList.remove('active');\n",
       "    } else if (msg['mode'] === 'ZOOM') {\n",
       "        fig.buttons['Pan'].classList.remove('active');\n",
       "        fig.buttons['Zoom'].classList.add('active');\n",
       "    } else {\n",
       "        fig.buttons['Pan'].classList.remove('active');\n",
       "        fig.buttons['Zoom'].classList.remove('active');\n",
       "    }\n",
       "};\n",
       "\n",
       "mpl.figure.prototype.updated_canvas_event = function () {\n",
       "    // Called whenever the canvas gets updated.\n",
       "    this.send_message('ack', {});\n",
       "};\n",
       "\n",
       "// A function to construct a web socket function for onmessage handling.\n",
       "// Called in the figure constructor.\n",
       "mpl.figure.prototype._make_on_message_function = function (fig) {\n",
       "    return function socket_on_message(evt) {\n",
       "        if (evt.data instanceof Blob) {\n",
       "            var img = evt.data;\n",
       "            if (img.type !== 'image/png') {\n",
       "                /* FIXME: We get \"Resource interpreted as Image but\n",
       "                 * transferred with MIME type text/plain:\" errors on\n",
       "                 * Chrome.  But how to set the MIME type?  It doesn't seem\n",
       "                 * to be part of the websocket stream */\n",
       "                img.type = 'image/png';\n",
       "            }\n",
       "\n",
       "            /* Free the memory for the previous frames */\n",
       "            if (fig.imageObj.src) {\n",
       "                (window.URL || window.webkitURL).revokeObjectURL(\n",
       "                    fig.imageObj.src\n",
       "                );\n",
       "            }\n",
       "\n",
       "            fig.imageObj.src = (window.URL || window.webkitURL).createObjectURL(\n",
       "                img\n",
       "            );\n",
       "            fig.updated_canvas_event();\n",
       "            fig.waiting = false;\n",
       "            return;\n",
       "        } else if (\n",
       "            typeof evt.data === 'string' &&\n",
       "            evt.data.slice(0, 21) === 'data:image/png;base64'\n",
       "        ) {\n",
       "            fig.imageObj.src = evt.data;\n",
       "            fig.updated_canvas_event();\n",
       "            fig.waiting = false;\n",
       "            return;\n",
       "        }\n",
       "\n",
       "        var msg = JSON.parse(evt.data);\n",
       "        var msg_type = msg['type'];\n",
       "\n",
       "        // Call the  \"handle_{type}\" callback, which takes\n",
       "        // the figure and JSON message as its only arguments.\n",
       "        try {\n",
       "            var callback = fig['handle_' + msg_type];\n",
       "        } catch (e) {\n",
       "            console.log(\n",
       "                \"No handler for the '\" + msg_type + \"' message type: \",\n",
       "                msg\n",
       "            );\n",
       "            return;\n",
       "        }\n",
       "\n",
       "        if (callback) {\n",
       "            try {\n",
       "                // console.log(\"Handling '\" + msg_type + \"' message: \", msg);\n",
       "                callback(fig, msg);\n",
       "            } catch (e) {\n",
       "                console.log(\n",
       "                    \"Exception inside the 'handler_\" + msg_type + \"' callback:\",\n",
       "                    e,\n",
       "                    e.stack,\n",
       "                    msg\n",
       "                );\n",
       "            }\n",
       "        }\n",
       "    };\n",
       "};\n",
       "\n",
       "// from http://stackoverflow.com/questions/1114465/getting-mouse-location-in-canvas\n",
       "mpl.findpos = function (e) {\n",
       "    //this section is from http://www.quirksmode.org/js/events_properties.html\n",
       "    var targ;\n",
       "    if (!e) {\n",
       "        e = window.event;\n",
       "    }\n",
       "    if (e.target) {\n",
       "        targ = e.target;\n",
       "    } else if (e.srcElement) {\n",
       "        targ = e.srcElement;\n",
       "    }\n",
       "    if (targ.nodeType === 3) {\n",
       "        // defeat Safari bug\n",
       "        targ = targ.parentNode;\n",
       "    }\n",
       "\n",
       "    // pageX,Y are the mouse positions relative to the document\n",
       "    var boundingRect = targ.getBoundingClientRect();\n",
       "    var x = e.pageX - (boundingRect.left + document.body.scrollLeft);\n",
       "    var y = e.pageY - (boundingRect.top + document.body.scrollTop);\n",
       "\n",
       "    return { x: x, y: y };\n",
       "};\n",
       "\n",
       "/*\n",
       " * return a copy of an object with only non-object keys\n",
       " * we need this to avoid circular references\n",
       " * http://stackoverflow.com/a/24161582/3208463\n",
       " */\n",
       "function simpleKeys(original) {\n",
       "    return Object.keys(original).reduce(function (obj, key) {\n",
       "        if (typeof original[key] !== 'object') {\n",
       "            obj[key] = original[key];\n",
       "        }\n",
       "        return obj;\n",
       "    }, {});\n",
       "}\n",
       "\n",
       "mpl.figure.prototype.mouse_event = function (event, name) {\n",
       "    var canvas_pos = mpl.findpos(event);\n",
       "\n",
       "    if (name === 'button_press') {\n",
       "        this.canvas.focus();\n",
       "        this.canvas_div.focus();\n",
       "    }\n",
       "\n",
       "    var x = canvas_pos.x * this.ratio;\n",
       "    var y = canvas_pos.y * this.ratio;\n",
       "\n",
       "    this.send_message(name, {\n",
       "        x: x,\n",
       "        y: y,\n",
       "        button: event.button,\n",
       "        step: event.step,\n",
       "        guiEvent: simpleKeys(event),\n",
       "    });\n",
       "\n",
       "    /* This prevents the web browser from automatically changing to\n",
       "     * the text insertion cursor when the button is pressed.  We want\n",
       "     * to control all of the cursor setting manually through the\n",
       "     * 'cursor' event from matplotlib */\n",
       "    event.preventDefault();\n",
       "    return false;\n",
       "};\n",
       "\n",
       "mpl.figure.prototype._key_event_extra = function (_event, _name) {\n",
       "    // Handle any extra behaviour associated with a key event\n",
       "};\n",
       "\n",
       "mpl.figure.prototype.key_event = function (event, name) {\n",
       "    // Prevent repeat events\n",
       "    if (name === 'key_press') {\n",
       "        if (event.key === this._key) {\n",
       "            return;\n",
       "        } else {\n",
       "            this._key = event.key;\n",
       "        }\n",
       "    }\n",
       "    if (name === 'key_release') {\n",
       "        this._key = null;\n",
       "    }\n",
       "\n",
       "    var value = '';\n",
       "    if (event.ctrlKey && event.key !== 'Control') {\n",
       "        value += 'ctrl+';\n",
       "    }\n",
       "    else if (event.altKey && event.key !== 'Alt') {\n",
       "        value += 'alt+';\n",
       "    }\n",
       "    else if (event.shiftKey && event.key !== 'Shift') {\n",
       "        value += 'shift+';\n",
       "    }\n",
       "\n",
       "    value += 'k' + event.key;\n",
       "\n",
       "    this._key_event_extra(event, name);\n",
       "\n",
       "    this.send_message(name, { key: value, guiEvent: simpleKeys(event) });\n",
       "    return false;\n",
       "};\n",
       "\n",
       "mpl.figure.prototype.toolbar_button_onclick = function (name) {\n",
       "    if (name === 'download') {\n",
       "        this.handle_save(this, null);\n",
       "    } else {\n",
       "        this.send_message('toolbar_button', { name: name });\n",
       "    }\n",
       "};\n",
       "\n",
       "mpl.figure.prototype.toolbar_button_onmouseover = function (tooltip) {\n",
       "    this.message.textContent = tooltip;\n",
       "};\n",
       "\n",
       "///////////////// REMAINING CONTENT GENERATED BY embed_js.py /////////////////\n",
       "// prettier-ignore\n",
       "var _JSXTOOLS_RESIZE_OBSERVER=function(A){var t,i=new WeakMap,n=new WeakMap,a=new WeakMap,r=new WeakMap,o=new Set;function s(e){if(!(this instanceof s))throw new TypeError(\"Constructor requires 'new' operator\");i.set(this,e)}function h(){throw new TypeError(\"Function is not a constructor\")}function c(e,t,i,n){e=0 in arguments?Number(arguments[0]):0,t=1 in arguments?Number(arguments[1]):0,i=2 in arguments?Number(arguments[2]):0,n=3 in arguments?Number(arguments[3]):0,this.right=(this.x=this.left=e)+(this.width=i),this.bottom=(this.y=this.top=t)+(this.height=n),Object.freeze(this)}function d(){t=requestAnimationFrame(d);var s=new WeakMap,p=new Set;o.forEach((function(t){r.get(t).forEach((function(i){var r=t instanceof window.SVGElement,o=a.get(t),d=r?0:parseFloat(o.paddingTop),f=r?0:parseFloat(o.paddingRight),l=r?0:parseFloat(o.paddingBottom),u=r?0:parseFloat(o.paddingLeft),g=r?0:parseFloat(o.borderTopWidth),m=r?0:parseFloat(o.borderRightWidth),w=r?0:parseFloat(o.borderBottomWidth),b=u+f,F=d+l,v=(r?0:parseFloat(o.borderLeftWidth))+m,W=g+w,y=r?0:t.offsetHeight-W-t.clientHeight,E=r?0:t.offsetWidth-v-t.clientWidth,R=b+v,z=F+W,M=r?t.width:parseFloat(o.width)-R-E,O=r?t.height:parseFloat(o.height)-z-y;if(n.has(t)){var k=n.get(t);if(k[0]===M&&k[1]===O)return}n.set(t,[M,O]);var S=Object.create(h.prototype);S.target=t,S.contentRect=new c(u,d,M,O),s.has(i)||(s.set(i,[]),p.add(i)),s.get(i).push(S)}))})),p.forEach((function(e){i.get(e).call(e,s.get(e),e)}))}return s.prototype.observe=function(i){if(i instanceof window.Element){r.has(i)||(r.set(i,new Set),o.add(i),a.set(i,window.getComputedStyle(i)));var n=r.get(i);n.has(this)||n.add(this),cancelAnimationFrame(t),t=requestAnimationFrame(d)}},s.prototype.unobserve=function(i){if(i instanceof window.Element&&r.has(i)){var n=r.get(i);n.has(this)&&(n.delete(this),n.size||(r.delete(i),o.delete(i))),n.size||r.delete(i),o.size||cancelAnimationFrame(t)}},A.DOMRectReadOnly=c,A.ResizeObserver=s,A.ResizeObserverEntry=h,A}; // eslint-disable-line\n",
       "mpl.toolbar_items = [[\"Home\", \"Reset original view\", \"fa fa-home icon-home\", \"home\"], [\"Back\", \"Back to previous view\", \"fa fa-arrow-left icon-arrow-left\", \"back\"], [\"Forward\", \"Forward to next view\", \"fa fa-arrow-right icon-arrow-right\", \"forward\"], [\"\", \"\", \"\", \"\"], [\"Pan\", \"Left button pans, Right button zooms\\nx/y fixes axis, CTRL fixes aspect\", \"fa fa-arrows icon-move\", \"pan\"], [\"Zoom\", \"Zoom to rectangle\\nx/y fixes axis, CTRL fixes aspect\", \"fa fa-square-o icon-check-empty\", \"zoom\"], [\"\", \"\", \"\", \"\"], [\"Download\", \"Download plot\", \"fa fa-floppy-o icon-save\", \"download\"]];\n",
       "\n",
       "mpl.extensions = [\"eps\", \"jpeg\", \"pgf\", \"pdf\", \"png\", \"ps\", \"raw\", \"svg\", \"tif\"];\n",
       "\n",
       "mpl.default_extension = \"png\";/* global mpl */\n",
       "\n",
       "var comm_websocket_adapter = function (comm) {\n",
       "    // Create a \"websocket\"-like object which calls the given IPython comm\n",
       "    // object with the appropriate methods. Currently this is a non binary\n",
       "    // socket, so there is still some room for performance tuning.\n",
       "    var ws = {};\n",
       "\n",
       "    ws.binaryType = comm.kernel.ws.binaryType;\n",
       "    ws.readyState = comm.kernel.ws.readyState;\n",
       "    function updateReadyState(_event) {\n",
       "        if (comm.kernel.ws) {\n",
       "            ws.readyState = comm.kernel.ws.readyState;\n",
       "        } else {\n",
       "            ws.readyState = 3; // Closed state.\n",
       "        }\n",
       "    }\n",
       "    comm.kernel.ws.addEventListener('open', updateReadyState);\n",
       "    comm.kernel.ws.addEventListener('close', updateReadyState);\n",
       "    comm.kernel.ws.addEventListener('error', updateReadyState);\n",
       "\n",
       "    ws.close = function () {\n",
       "        comm.close();\n",
       "    };\n",
       "    ws.send = function (m) {\n",
       "        //console.log('sending', m);\n",
       "        comm.send(m);\n",
       "    };\n",
       "    // Register the callback with on_msg.\n",
       "    comm.on_msg(function (msg) {\n",
       "        //console.log('receiving', msg['content']['data'], msg);\n",
       "        var data = msg['content']['data'];\n",
       "        if (data['blob'] !== undefined) {\n",
       "            data = {\n",
       "                data: new Blob(msg['buffers'], { type: data['blob'] }),\n",
       "            };\n",
       "        }\n",
       "        // Pass the mpl event to the overridden (by mpl) onmessage function.\n",
       "        ws.onmessage(data);\n",
       "    });\n",
       "    return ws;\n",
       "};\n",
       "\n",
       "mpl.mpl_figure_comm = function (comm, msg) {\n",
       "    // This is the function which gets called when the mpl process\n",
       "    // starts-up an IPython Comm through the \"matplotlib\" channel.\n",
       "\n",
       "    var id = msg.content.data.id;\n",
       "    // Get hold of the div created by the display call when the Comm\n",
       "    // socket was opened in Python.\n",
       "    var element = document.getElementById(id);\n",
       "    var ws_proxy = comm_websocket_adapter(comm);\n",
       "\n",
       "    function ondownload(figure, _format) {\n",
       "        window.open(figure.canvas.toDataURL());\n",
       "    }\n",
       "\n",
       "    var fig = new mpl.figure(id, ws_proxy, ondownload, element);\n",
       "\n",
       "    // Call onopen now - mpl needs it, as it is assuming we've passed it a real\n",
       "    // web socket which is closed, not our websocket->open comm proxy.\n",
       "    ws_proxy.onopen();\n",
       "\n",
       "    fig.parent_element = element;\n",
       "    fig.cell_info = mpl.find_output_cell(\"<div id='\" + id + \"'></div>\");\n",
       "    if (!fig.cell_info) {\n",
       "        console.error('Failed to find cell for figure', id, fig);\n",
       "        return;\n",
       "    }\n",
       "    fig.cell_info[0].output_area.element.on(\n",
       "        'cleared',\n",
       "        { fig: fig },\n",
       "        fig._remove_fig_handler\n",
       "    );\n",
       "};\n",
       "\n",
       "mpl.figure.prototype.handle_close = function (fig, msg) {\n",
       "    var width = fig.canvas.width / fig.ratio;\n",
       "    fig.cell_info[0].output_area.element.off(\n",
       "        'cleared',\n",
       "        fig._remove_fig_handler\n",
       "    );\n",
       "    fig.resizeObserverInstance.unobserve(fig.canvas_div);\n",
       "\n",
       "    // Update the output cell to use the data from the current canvas.\n",
       "    fig.push_to_output();\n",
       "    var dataURL = fig.canvas.toDataURL();\n",
       "    // Re-enable the keyboard manager in IPython - without this line, in FF,\n",
       "    // the notebook keyboard shortcuts fail.\n",
       "    IPython.keyboard_manager.enable();\n",
       "    fig.parent_element.innerHTML =\n",
       "        '<img src=\"' + dataURL + '\" width=\"' + width + '\">';\n",
       "    fig.close_ws(fig, msg);\n",
       "};\n",
       "\n",
       "mpl.figure.prototype.close_ws = function (fig, msg) {\n",
       "    fig.send_message('closing', msg);\n",
       "    // fig.ws.close()\n",
       "};\n",
       "\n",
       "mpl.figure.prototype.push_to_output = function (_remove_interactive) {\n",
       "    // Turn the data on the canvas into data in the output cell.\n",
       "    var width = this.canvas.width / this.ratio;\n",
       "    var dataURL = this.canvas.toDataURL();\n",
       "    this.cell_info[1]['text/html'] =\n",
       "        '<img src=\"' + dataURL + '\" width=\"' + width + '\">';\n",
       "};\n",
       "\n",
       "mpl.figure.prototype.updated_canvas_event = function () {\n",
       "    // Tell IPython that the notebook contents must change.\n",
       "    IPython.notebook.set_dirty(true);\n",
       "    this.send_message('ack', {});\n",
       "    var fig = this;\n",
       "    // Wait a second, then push the new image to the DOM so\n",
       "    // that it is saved nicely (might be nice to debounce this).\n",
       "    setTimeout(function () {\n",
       "        fig.push_to_output();\n",
       "    }, 1000);\n",
       "};\n",
       "\n",
       "mpl.figure.prototype._init_toolbar = function () {\n",
       "    var fig = this;\n",
       "\n",
       "    var toolbar = document.createElement('div');\n",
       "    toolbar.classList = 'btn-toolbar';\n",
       "    this.root.appendChild(toolbar);\n",
       "\n",
       "    function on_click_closure(name) {\n",
       "        return function (_event) {\n",
       "            return fig.toolbar_button_onclick(name);\n",
       "        };\n",
       "    }\n",
       "\n",
       "    function on_mouseover_closure(tooltip) {\n",
       "        return function (event) {\n",
       "            if (!event.currentTarget.disabled) {\n",
       "                return fig.toolbar_button_onmouseover(tooltip);\n",
       "            }\n",
       "        };\n",
       "    }\n",
       "\n",
       "    fig.buttons = {};\n",
       "    var buttonGroup = document.createElement('div');\n",
       "    buttonGroup.classList = 'btn-group';\n",
       "    var button;\n",
       "    for (var toolbar_ind in mpl.toolbar_items) {\n",
       "        var name = mpl.toolbar_items[toolbar_ind][0];\n",
       "        var tooltip = mpl.toolbar_items[toolbar_ind][1];\n",
       "        var image = mpl.toolbar_items[toolbar_ind][2];\n",
       "        var method_name = mpl.toolbar_items[toolbar_ind][3];\n",
       "\n",
       "        if (!name) {\n",
       "            /* Instead of a spacer, we start a new button group. */\n",
       "            if (buttonGroup.hasChildNodes()) {\n",
       "                toolbar.appendChild(buttonGroup);\n",
       "            }\n",
       "            buttonGroup = document.createElement('div');\n",
       "            buttonGroup.classList = 'btn-group';\n",
       "            continue;\n",
       "        }\n",
       "\n",
       "        button = fig.buttons[name] = document.createElement('button');\n",
       "        button.classList = 'btn btn-default';\n",
       "        button.href = '#';\n",
       "        button.title = name;\n",
       "        button.innerHTML = '<i class=\"fa ' + image + ' fa-lg\"></i>';\n",
       "        button.addEventListener('click', on_click_closure(method_name));\n",
       "        button.addEventListener('mouseover', on_mouseover_closure(tooltip));\n",
       "        buttonGroup.appendChild(button);\n",
       "    }\n",
       "\n",
       "    if (buttonGroup.hasChildNodes()) {\n",
       "        toolbar.appendChild(buttonGroup);\n",
       "    }\n",
       "\n",
       "    // Add the status bar.\n",
       "    var status_bar = document.createElement('span');\n",
       "    status_bar.classList = 'mpl-message pull-right';\n",
       "    toolbar.appendChild(status_bar);\n",
       "    this.message = status_bar;\n",
       "\n",
       "    // Add the close button to the window.\n",
       "    var buttongrp = document.createElement('div');\n",
       "    buttongrp.classList = 'btn-group inline pull-right';\n",
       "    button = document.createElement('button');\n",
       "    button.classList = 'btn btn-mini btn-primary';\n",
       "    button.href = '#';\n",
       "    button.title = 'Stop Interaction';\n",
       "    button.innerHTML = '<i class=\"fa fa-power-off icon-remove icon-large\"></i>';\n",
       "    button.addEventListener('click', function (_evt) {\n",
       "        fig.handle_close(fig, {});\n",
       "    });\n",
       "    button.addEventListener(\n",
       "        'mouseover',\n",
       "        on_mouseover_closure('Stop Interaction')\n",
       "    );\n",
       "    buttongrp.appendChild(button);\n",
       "    var titlebar = this.root.querySelector('.ui-dialog-titlebar');\n",
       "    titlebar.insertBefore(buttongrp, titlebar.firstChild);\n",
       "};\n",
       "\n",
       "mpl.figure.prototype._remove_fig_handler = function (event) {\n",
       "    var fig = event.data.fig;\n",
       "    if (event.target !== this) {\n",
       "        // Ignore bubbled events from children.\n",
       "        return;\n",
       "    }\n",
       "    fig.close_ws(fig, {});\n",
       "};\n",
       "\n",
       "mpl.figure.prototype._root_extra_style = function (el) {\n",
       "    el.style.boxSizing = 'content-box'; // override notebook setting of border-box.\n",
       "};\n",
       "\n",
       "mpl.figure.prototype._canvas_extra_style = function (el) {\n",
       "    // this is important to make the div 'focusable\n",
       "    el.setAttribute('tabindex', 0);\n",
       "    // reach out to IPython and tell the keyboard manager to turn it's self\n",
       "    // off when our div gets focus\n",
       "\n",
       "    // location in version 3\n",
       "    if (IPython.notebook.keyboard_manager) {\n",
       "        IPython.notebook.keyboard_manager.register_events(el);\n",
       "    } else {\n",
       "        // location in version 2\n",
       "        IPython.keyboard_manager.register_events(el);\n",
       "    }\n",
       "};\n",
       "\n",
       "mpl.figure.prototype._key_event_extra = function (event, _name) {\n",
       "    var manager = IPython.notebook.keyboard_manager;\n",
       "    if (!manager) {\n",
       "        manager = IPython.keyboard_manager;\n",
       "    }\n",
       "\n",
       "    // Check for shift+enter\n",
       "    if (event.shiftKey && event.which === 13) {\n",
       "        this.canvas_div.blur();\n",
       "        // select the cell after this one\n",
       "        var index = IPython.notebook.find_cell_index(this.cell_info[0]);\n",
       "        IPython.notebook.select(index + 1);\n",
       "    }\n",
       "};\n",
       "\n",
       "mpl.figure.prototype.handle_save = function (fig, _msg) {\n",
       "    fig.ondownload(fig, null);\n",
       "};\n",
       "\n",
       "mpl.find_output_cell = function (html_output) {\n",
       "    // Return the cell and output element which can be found *uniquely* in the notebook.\n",
       "    // Note - this is a bit hacky, but it is done because the \"notebook_saving.Notebook\"\n",
       "    // IPython event is triggered only after the cells have been serialised, which for\n",
       "    // our purposes (turning an active figure into a static one), is too late.\n",
       "    var cells = IPython.notebook.get_cells();\n",
       "    var ncells = cells.length;\n",
       "    for (var i = 0; i < ncells; i++) {\n",
       "        var cell = cells[i];\n",
       "        if (cell.cell_type === 'code') {\n",
       "            for (var j = 0; j < cell.output_area.outputs.length; j++) {\n",
       "                var data = cell.output_area.outputs[j];\n",
       "                if (data.data) {\n",
       "                    // IPython >= 3 moved mimebundle to data attribute of output\n",
       "                    data = data.data;\n",
       "                }\n",
       "                if (data['text/html'] === html_output) {\n",
       "                    return [cell, data, j];\n",
       "                }\n",
       "            }\n",
       "        }\n",
       "    }\n",
       "};\n",
       "\n",
       "// Register the function which deals with the matplotlib target/channel.\n",
       "// The kernel may be null if the page has been refreshed.\n",
       "if (IPython.notebook.kernel !== null) {\n",
       "    IPython.notebook.kernel.comm_manager.register_target(\n",
       "        'matplotlib',\n",
       "        mpl.mpl_figure_comm\n",
       "    );\n",
       "}\n"
      ],
      "text/plain": [
       "<IPython.core.display.Javascript object>"
      ]
     },
     "metadata": {},
     "output_type": "display_data"
    },
    {
     "data": {
      "text/html": [
       "<img src=\"data:image/png;base64,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\" width=\"640\">"
      ],
      "text/plain": [
       "<IPython.core.display.HTML object>"
      ]
     },
     "metadata": {},
     "output_type": "display_data"
    },
    {
     "name": "stderr",
     "output_type": "stream",
     "text": [
      "C:\\Users\\franc\\anaconda3\\envs\\deeplearning\\lib\\site-packages\\torch\\nn\\functional.py:718: UserWarning: Named tensors and all their associated APIs are an experimental feature and subject to change. Please do not use them for anything important until they are released as stable. (Triggered internally at  ..\\c10/core/TensorImpl.h:1156.)\n",
      "  return torch.max_pool2d(input, kernel_size, stride, padding, dilation, ceil_mode)\n",
      "D:\\Desktop\\FIRMsDigitizing\\RECTDNN\\TPNN.py:120: UserWarning: Implicit dimension choice for softmax has been deprecated. Change the call to include dim=X as an argument.\n",
      "  output = self.softmax(output)\n",
      "C:\\Users\\franc\\anaconda3\\envs\\deeplearning\\lib\\site-packages\\torch\\optim\\lr_scheduler.py:370: UserWarning: To get the last learning rate computed by the scheduler, please use `get_last_lr()`.\n",
      "  \"please use `get_last_lr()`.\", UserWarning)\n"
     ]
    },
    {
     "ename": "KeyboardInterrupt",
     "evalue": "",
     "output_type": "error",
     "traceback": [
      "\u001b[1;31m---------------------------------------------------------------------------\u001b[0m",
      "\u001b[1;31mKeyboardInterrupt\u001b[0m                         Traceback (most recent call last)",
      "\u001b[1;32m~\\AppData\\Local\\Temp\\ipykernel_46564\\2241763632.py\u001b[0m in \u001b[0;36m<module>\u001b[1;34m\u001b[0m\n\u001b[0;32m      1\u001b[0m \u001b[0mmodel\u001b[0m \u001b[1;33m=\u001b[0m \u001b[0mTPNN\u001b[0m\u001b[1;33m(\u001b[0m\u001b[0mnum_classes\u001b[0m\u001b[1;33m=\u001b[0m\u001b[1;36m3\u001b[0m\u001b[1;33m,\u001b[0m \u001b[0mfinalpadding\u001b[0m\u001b[1;33m=\u001b[0m\u001b[1;36m1\u001b[0m\u001b[1;33m,\u001b[0m \u001b[0minputsize\u001b[0m\u001b[1;33m=\u001b[0m\u001b[0mn_pyramids\u001b[0m\u001b[1;33m)\u001b[0m\u001b[1;33m\u001b[0m\u001b[1;33m\u001b[0m\u001b[0m\n\u001b[1;32m----> 2\u001b[1;33m \u001b[0mmodel\u001b[0m \u001b[1;33m=\u001b[0m \u001b[0mtrain\u001b[0m\u001b[1;33m(\u001b[0m\u001b[0mmodel\u001b[0m\u001b[1;33m,\u001b[0m \u001b[0mloaders\u001b[0m\u001b[1;33m,\u001b[0m \u001b[0mnum_epochs\u001b[0m\u001b[1;33m=\u001b[0m\u001b[1;36m2500\u001b[0m\u001b[1;33m,\u001b[0m \u001b[0mlearning_rate\u001b[0m\u001b[1;33m=\u001b[0m\u001b[1;36m1e-3\u001b[0m\u001b[1;33m)\u001b[0m\u001b[1;33m\u001b[0m\u001b[1;33m\u001b[0m\u001b[0m\n\u001b[0m",
      "\u001b[1;32m~\\AppData\\Local\\Temp\\ipykernel_46564\\3468650405.py\u001b[0m in \u001b[0;36mtrain\u001b[1;34m(model, dataloaders, num_epochs, output_dir, learning_rate, device, continue_from, weights)\u001b[0m\n\u001b[0;32m    102\u001b[0m             \u001b[1;31m# ITERATE OVER REPEATS\u001b[0m\u001b[1;33m\u001b[0m\u001b[1;33m\u001b[0m\u001b[1;33m\u001b[0m\u001b[0m\n\u001b[0;32m    103\u001b[0m             \u001b[1;32mfor\u001b[0m \u001b[0mrep_id\u001b[0m \u001b[1;32min\u001b[0m \u001b[0mtqdm\u001b[0m\u001b[1;33m(\u001b[0m\u001b[0mrepeats\u001b[0m\u001b[1;33m,\u001b[0m \u001b[0mdisable\u001b[0m\u001b[1;33m=\u001b[0m\u001b[0mverbose_level\u001b[0m \u001b[1;33m<\u001b[0m \u001b[1;36m4\u001b[0m\u001b[1;33m)\u001b[0m\u001b[1;33m:\u001b[0m\u001b[1;33m\u001b[0m\u001b[1;33m\u001b[0m\u001b[0m\n\u001b[1;32m--> 104\u001b[1;33m                 \u001b[1;32mfor\u001b[0m \u001b[0minputs\u001b[0m\u001b[1;33m,\u001b[0m \u001b[0mlabels\u001b[0m\u001b[1;33m,\u001b[0m \u001b[0mfilenames\u001b[0m \u001b[1;32min\u001b[0m \u001b[0mdataloaders\u001b[0m\u001b[1;33m[\u001b[0m\u001b[0mphase\u001b[0m\u001b[1;33m]\u001b[0m\u001b[1;33m:\u001b[0m\u001b[1;33m\u001b[0m\u001b[1;33m\u001b[0m\u001b[0m\n\u001b[0m\u001b[0;32m    105\u001b[0m \u001b[1;33m\u001b[0m\u001b[0m\n\u001b[0;32m    106\u001b[0m                     \u001b[1;31m# SEND TO GPU\u001b[0m\u001b[1;33m\u001b[0m\u001b[1;33m\u001b[0m\u001b[1;33m\u001b[0m\u001b[0m\n",
      "\u001b[1;32m~\\anaconda3\\envs\\deeplearning\\lib\\site-packages\\torch\\utils\\data\\dataloader.py\u001b[0m in \u001b[0;36m__next__\u001b[1;34m(self)\u001b[0m\n\u001b[0;32m    519\u001b[0m             \u001b[1;32mif\u001b[0m \u001b[0mself\u001b[0m\u001b[1;33m.\u001b[0m\u001b[0m_sampler_iter\u001b[0m \u001b[1;32mis\u001b[0m \u001b[1;32mNone\u001b[0m\u001b[1;33m:\u001b[0m\u001b[1;33m\u001b[0m\u001b[1;33m\u001b[0m\u001b[0m\n\u001b[0;32m    520\u001b[0m                 \u001b[0mself\u001b[0m\u001b[1;33m.\u001b[0m\u001b[0m_reset\u001b[0m\u001b[1;33m(\u001b[0m\u001b[1;33m)\u001b[0m\u001b[1;33m\u001b[0m\u001b[1;33m\u001b[0m\u001b[0m\n\u001b[1;32m--> 521\u001b[1;33m             \u001b[0mdata\u001b[0m \u001b[1;33m=\u001b[0m \u001b[0mself\u001b[0m\u001b[1;33m.\u001b[0m\u001b[0m_next_data\u001b[0m\u001b[1;33m(\u001b[0m\u001b[1;33m)\u001b[0m\u001b[1;33m\u001b[0m\u001b[1;33m\u001b[0m\u001b[0m\n\u001b[0m\u001b[0;32m    522\u001b[0m             \u001b[0mself\u001b[0m\u001b[1;33m.\u001b[0m\u001b[0m_num_yielded\u001b[0m \u001b[1;33m+=\u001b[0m \u001b[1;36m1\u001b[0m\u001b[1;33m\u001b[0m\u001b[1;33m\u001b[0m\u001b[0m\n\u001b[0;32m    523\u001b[0m             \u001b[1;32mif\u001b[0m \u001b[0mself\u001b[0m\u001b[1;33m.\u001b[0m\u001b[0m_dataset_kind\u001b[0m \u001b[1;33m==\u001b[0m \u001b[0m_DatasetKind\u001b[0m\u001b[1;33m.\u001b[0m\u001b[0mIterable\u001b[0m \u001b[1;32mand\u001b[0m\u001b[0;31m \u001b[0m\u001b[0;31m\\\u001b[0m\u001b[1;33m\u001b[0m\u001b[1;33m\u001b[0m\u001b[0m\n",
      "\u001b[1;32m~\\anaconda3\\envs\\deeplearning\\lib\\site-packages\\torch\\utils\\data\\dataloader.py\u001b[0m in \u001b[0;36m_next_data\u001b[1;34m(self)\u001b[0m\n\u001b[0;32m    559\u001b[0m     \u001b[1;32mdef\u001b[0m \u001b[0m_next_data\u001b[0m\u001b[1;33m(\u001b[0m\u001b[0mself\u001b[0m\u001b[1;33m)\u001b[0m\u001b[1;33m:\u001b[0m\u001b[1;33m\u001b[0m\u001b[1;33m\u001b[0m\u001b[0m\n\u001b[0;32m    560\u001b[0m         \u001b[0mindex\u001b[0m \u001b[1;33m=\u001b[0m \u001b[0mself\u001b[0m\u001b[1;33m.\u001b[0m\u001b[0m_next_index\u001b[0m\u001b[1;33m(\u001b[0m\u001b[1;33m)\u001b[0m  \u001b[1;31m# may raise StopIteration\u001b[0m\u001b[1;33m\u001b[0m\u001b[1;33m\u001b[0m\u001b[0m\n\u001b[1;32m--> 561\u001b[1;33m         \u001b[0mdata\u001b[0m \u001b[1;33m=\u001b[0m \u001b[0mself\u001b[0m\u001b[1;33m.\u001b[0m\u001b[0m_dataset_fetcher\u001b[0m\u001b[1;33m.\u001b[0m\u001b[0mfetch\u001b[0m\u001b[1;33m(\u001b[0m\u001b[0mindex\u001b[0m\u001b[1;33m)\u001b[0m  \u001b[1;31m# may raise StopIteration\u001b[0m\u001b[1;33m\u001b[0m\u001b[1;33m\u001b[0m\u001b[0m\n\u001b[0m\u001b[0;32m    562\u001b[0m         \u001b[1;32mif\u001b[0m \u001b[0mself\u001b[0m\u001b[1;33m.\u001b[0m\u001b[0m_pin_memory\u001b[0m\u001b[1;33m:\u001b[0m\u001b[1;33m\u001b[0m\u001b[1;33m\u001b[0m\u001b[0m\n\u001b[0;32m    563\u001b[0m             \u001b[0mdata\u001b[0m \u001b[1;33m=\u001b[0m \u001b[0m_utils\u001b[0m\u001b[1;33m.\u001b[0m\u001b[0mpin_memory\u001b[0m\u001b[1;33m.\u001b[0m\u001b[0mpin_memory\u001b[0m\u001b[1;33m(\u001b[0m\u001b[0mdata\u001b[0m\u001b[1;33m)\u001b[0m\u001b[1;33m\u001b[0m\u001b[1;33m\u001b[0m\u001b[0m\n",
      "\u001b[1;32m~\\anaconda3\\envs\\deeplearning\\lib\\site-packages\\torch\\utils\\data\\_utils\\fetch.py\u001b[0m in \u001b[0;36mfetch\u001b[1;34m(self, possibly_batched_index)\u001b[0m\n\u001b[0;32m     42\u001b[0m     \u001b[1;32mdef\u001b[0m \u001b[0mfetch\u001b[0m\u001b[1;33m(\u001b[0m\u001b[0mself\u001b[0m\u001b[1;33m,\u001b[0m \u001b[0mpossibly_batched_index\u001b[0m\u001b[1;33m)\u001b[0m\u001b[1;33m:\u001b[0m\u001b[1;33m\u001b[0m\u001b[1;33m\u001b[0m\u001b[0m\n\u001b[0;32m     43\u001b[0m         \u001b[1;32mif\u001b[0m \u001b[0mself\u001b[0m\u001b[1;33m.\u001b[0m\u001b[0mauto_collation\u001b[0m\u001b[1;33m:\u001b[0m\u001b[1;33m\u001b[0m\u001b[1;33m\u001b[0m\u001b[0m\n\u001b[1;32m---> 44\u001b[1;33m             \u001b[0mdata\u001b[0m \u001b[1;33m=\u001b[0m \u001b[1;33m[\u001b[0m\u001b[0mself\u001b[0m\u001b[1;33m.\u001b[0m\u001b[0mdataset\u001b[0m\u001b[1;33m[\u001b[0m\u001b[0midx\u001b[0m\u001b[1;33m]\u001b[0m \u001b[1;32mfor\u001b[0m \u001b[0midx\u001b[0m \u001b[1;32min\u001b[0m \u001b[0mpossibly_batched_index\u001b[0m\u001b[1;33m]\u001b[0m\u001b[1;33m\u001b[0m\u001b[1;33m\u001b[0m\u001b[0m\n\u001b[0m\u001b[0;32m     45\u001b[0m         \u001b[1;32melse\u001b[0m\u001b[1;33m:\u001b[0m\u001b[1;33m\u001b[0m\u001b[1;33m\u001b[0m\u001b[0m\n\u001b[0;32m     46\u001b[0m             \u001b[0mdata\u001b[0m \u001b[1;33m=\u001b[0m \u001b[0mself\u001b[0m\u001b[1;33m.\u001b[0m\u001b[0mdataset\u001b[0m\u001b[1;33m[\u001b[0m\u001b[0mpossibly_batched_index\u001b[0m\u001b[1;33m]\u001b[0m\u001b[1;33m\u001b[0m\u001b[1;33m\u001b[0m\u001b[0m\n",
      "\u001b[1;32m~\\anaconda3\\envs\\deeplearning\\lib\\site-packages\\torch\\utils\\data\\_utils\\fetch.py\u001b[0m in \u001b[0;36m<listcomp>\u001b[1;34m(.0)\u001b[0m\n\u001b[0;32m     42\u001b[0m     \u001b[1;32mdef\u001b[0m \u001b[0mfetch\u001b[0m\u001b[1;33m(\u001b[0m\u001b[0mself\u001b[0m\u001b[1;33m,\u001b[0m \u001b[0mpossibly_batched_index\u001b[0m\u001b[1;33m)\u001b[0m\u001b[1;33m:\u001b[0m\u001b[1;33m\u001b[0m\u001b[1;33m\u001b[0m\u001b[0m\n\u001b[0;32m     43\u001b[0m         \u001b[1;32mif\u001b[0m \u001b[0mself\u001b[0m\u001b[1;33m.\u001b[0m\u001b[0mauto_collation\u001b[0m\u001b[1;33m:\u001b[0m\u001b[1;33m\u001b[0m\u001b[1;33m\u001b[0m\u001b[0m\n\u001b[1;32m---> 44\u001b[1;33m             \u001b[0mdata\u001b[0m \u001b[1;33m=\u001b[0m \u001b[1;33m[\u001b[0m\u001b[0mself\u001b[0m\u001b[1;33m.\u001b[0m\u001b[0mdataset\u001b[0m\u001b[1;33m[\u001b[0m\u001b[0midx\u001b[0m\u001b[1;33m]\u001b[0m \u001b[1;32mfor\u001b[0m \u001b[0midx\u001b[0m \u001b[1;32min\u001b[0m \u001b[0mpossibly_batched_index\u001b[0m\u001b[1;33m]\u001b[0m\u001b[1;33m\u001b[0m\u001b[1;33m\u001b[0m\u001b[0m\n\u001b[0m\u001b[0;32m     45\u001b[0m         \u001b[1;32melse\u001b[0m\u001b[1;33m:\u001b[0m\u001b[1;33m\u001b[0m\u001b[1;33m\u001b[0m\u001b[0m\n\u001b[0;32m     46\u001b[0m             \u001b[0mdata\u001b[0m \u001b[1;33m=\u001b[0m \u001b[0mself\u001b[0m\u001b[1;33m.\u001b[0m\u001b[0mdataset\u001b[0m\u001b[1;33m[\u001b[0m\u001b[0mpossibly_batched_index\u001b[0m\u001b[1;33m]\u001b[0m\u001b[1;33m\u001b[0m\u001b[1;33m\u001b[0m\u001b[0m\n",
      "\u001b[1;32mD:\\Desktop\\FIRMsDigitizing\\RECTDNN\\DataUtils.py\u001b[0m in \u001b[0;36m__getitem__\u001b[1;34m(self, index)\u001b[0m\n\u001b[0;32m    127\u001b[0m                 \u001b[0mtarget_image\u001b[0m \u001b[1;33m=\u001b[0m \u001b[0mself\u001b[0m\u001b[1;33m.\u001b[0m\u001b[0mtransform\u001b[0m\u001b[1;33m(\u001b[0m\u001b[0mtarget_image\u001b[0m\u001b[1;33m)\u001b[0m\u001b[1;33m\u001b[0m\u001b[1;33m\u001b[0m\u001b[0m\n\u001b[0;32m    128\u001b[0m             \u001b[1;32melse\u001b[0m\u001b[1;33m:\u001b[0m\u001b[1;33m\u001b[0m\u001b[1;33m\u001b[0m\u001b[0m\n\u001b[1;32m--> 129\u001b[1;33m                 \u001b[0mtarget_image\u001b[0m \u001b[1;33m=\u001b[0m \u001b[0mself\u001b[0m\u001b[1;33m.\u001b[0m\u001b[0mtransform\u001b[0m\u001b[1;33m(\u001b[0m\u001b[0mtarget_image\u001b[0m\u001b[1;33m)\u001b[0m\u001b[1;33m\u001b[0m\u001b[1;33m\u001b[0m\u001b[0m\n\u001b[0m\u001b[0;32m    130\u001b[0m \u001b[1;33m\u001b[0m\u001b[0m\n\u001b[0;32m    131\u001b[0m         \u001b[1;32mif\u001b[0m \u001b[0mself\u001b[0m\u001b[1;33m.\u001b[0m\u001b[0mcrop\u001b[0m\u001b[1;33m:\u001b[0m\u001b[1;33m\u001b[0m\u001b[1;33m\u001b[0m\u001b[0m\n",
      "\u001b[1;32m~\\anaconda3\\envs\\deeplearning\\lib\\site-packages\\torchvision\\transforms\\transforms.py\u001b[0m in \u001b[0;36m__call__\u001b[1;34m(self, img)\u001b[0m\n\u001b[0;32m     58\u001b[0m     \u001b[1;32mdef\u001b[0m \u001b[0m__call__\u001b[0m\u001b[1;33m(\u001b[0m\u001b[0mself\u001b[0m\u001b[1;33m,\u001b[0m \u001b[0mimg\u001b[0m\u001b[1;33m)\u001b[0m\u001b[1;33m:\u001b[0m\u001b[1;33m\u001b[0m\u001b[1;33m\u001b[0m\u001b[0m\n\u001b[0;32m     59\u001b[0m         \u001b[1;32mfor\u001b[0m \u001b[0mt\u001b[0m \u001b[1;32min\u001b[0m \u001b[0mself\u001b[0m\u001b[1;33m.\u001b[0m\u001b[0mtransforms\u001b[0m\u001b[1;33m:\u001b[0m\u001b[1;33m\u001b[0m\u001b[1;33m\u001b[0m\u001b[0m\n\u001b[1;32m---> 60\u001b[1;33m             \u001b[0mimg\u001b[0m \u001b[1;33m=\u001b[0m \u001b[0mt\u001b[0m\u001b[1;33m(\u001b[0m\u001b[0mimg\u001b[0m\u001b[1;33m)\u001b[0m\u001b[1;33m\u001b[0m\u001b[1;33m\u001b[0m\u001b[0m\n\u001b[0m\u001b[0;32m     61\u001b[0m         \u001b[1;32mreturn\u001b[0m \u001b[0mimg\u001b[0m\u001b[1;33m\u001b[0m\u001b[1;33m\u001b[0m\u001b[0m\n\u001b[0;32m     62\u001b[0m \u001b[1;33m\u001b[0m\u001b[0m\n",
      "\u001b[1;32m~\\anaconda3\\envs\\deeplearning\\lib\\site-packages\\torchvision\\transforms\\transforms.py\u001b[0m in \u001b[0;36m__call__\u001b[1;34m(self, pic)\u001b[0m\n\u001b[0;32m     95\u001b[0m             \u001b[0mTensor\u001b[0m\u001b[1;33m:\u001b[0m \u001b[0mConverted\u001b[0m \u001b[0mimage\u001b[0m\u001b[1;33m.\u001b[0m\u001b[1;33m\u001b[0m\u001b[1;33m\u001b[0m\u001b[0m\n\u001b[0;32m     96\u001b[0m         \"\"\"\n\u001b[1;32m---> 97\u001b[1;33m         \u001b[1;32mreturn\u001b[0m \u001b[0mF\u001b[0m\u001b[1;33m.\u001b[0m\u001b[0mto_tensor\u001b[0m\u001b[1;33m(\u001b[0m\u001b[0mpic\u001b[0m\u001b[1;33m)\u001b[0m\u001b[1;33m\u001b[0m\u001b[1;33m\u001b[0m\u001b[0m\n\u001b[0m\u001b[0;32m     98\u001b[0m \u001b[1;33m\u001b[0m\u001b[0m\n\u001b[0;32m     99\u001b[0m     \u001b[1;32mdef\u001b[0m \u001b[0m__repr__\u001b[0m\u001b[1;33m(\u001b[0m\u001b[0mself\u001b[0m\u001b[1;33m)\u001b[0m\u001b[1;33m:\u001b[0m\u001b[1;33m\u001b[0m\u001b[1;33m\u001b[0m\u001b[0m\n",
      "\u001b[1;32m~\\anaconda3\\envs\\deeplearning\\lib\\site-packages\\torchvision\\transforms\\functional.py\u001b[0m in \u001b[0;36mto_tensor\u001b[1;34m(pic)\u001b[0m\n\u001b[0;32m    127\u001b[0m     \u001b[0mmode_to_nptype\u001b[0m \u001b[1;33m=\u001b[0m \u001b[1;33m{\u001b[0m\u001b[1;34m'I'\u001b[0m\u001b[1;33m:\u001b[0m \u001b[0mnp\u001b[0m\u001b[1;33m.\u001b[0m\u001b[0mint32\u001b[0m\u001b[1;33m,\u001b[0m \u001b[1;34m'I;16'\u001b[0m\u001b[1;33m:\u001b[0m \u001b[0mnp\u001b[0m\u001b[1;33m.\u001b[0m\u001b[0mint16\u001b[0m\u001b[1;33m,\u001b[0m \u001b[1;34m'F'\u001b[0m\u001b[1;33m:\u001b[0m \u001b[0mnp\u001b[0m\u001b[1;33m.\u001b[0m\u001b[0mfloat32\u001b[0m\u001b[1;33m}\u001b[0m\u001b[1;33m\u001b[0m\u001b[1;33m\u001b[0m\u001b[0m\n\u001b[0;32m    128\u001b[0m     img = torch.from_numpy(\n\u001b[1;32m--> 129\u001b[1;33m         \u001b[0mnp\u001b[0m\u001b[1;33m.\u001b[0m\u001b[0marray\u001b[0m\u001b[1;33m(\u001b[0m\u001b[0mpic\u001b[0m\u001b[1;33m,\u001b[0m \u001b[0mmode_to_nptype\u001b[0m\u001b[1;33m.\u001b[0m\u001b[0mget\u001b[0m\u001b[1;33m(\u001b[0m\u001b[0mpic\u001b[0m\u001b[1;33m.\u001b[0m\u001b[0mmode\u001b[0m\u001b[1;33m,\u001b[0m \u001b[0mnp\u001b[0m\u001b[1;33m.\u001b[0m\u001b[0muint8\u001b[0m\u001b[1;33m)\u001b[0m\u001b[1;33m,\u001b[0m \u001b[0mcopy\u001b[0m\u001b[1;33m=\u001b[0m\u001b[1;32mTrue\u001b[0m\u001b[1;33m)\u001b[0m\u001b[1;33m\u001b[0m\u001b[1;33m\u001b[0m\u001b[0m\n\u001b[0m\u001b[0;32m    130\u001b[0m     )\n\u001b[0;32m    131\u001b[0m \u001b[1;33m\u001b[0m\u001b[0m\n",
      "\u001b[1;32m~\\anaconda3\\envs\\deeplearning\\lib\\site-packages\\PIL\\Image.py\u001b[0m in \u001b[0;36m__array__\u001b[1;34m(self, dtype)\u001b[0m\n\u001b[0;32m    696\u001b[0m             \u001b[0mnew\u001b[0m\u001b[1;33m[\u001b[0m\u001b[1;34m\"data\"\u001b[0m\u001b[1;33m]\u001b[0m \u001b[1;33m=\u001b[0m \u001b[0mself\u001b[0m\u001b[1;33m.\u001b[0m\u001b[0mtobytes\u001b[0m\u001b[1;33m(\u001b[0m\u001b[1;34m\"raw\"\u001b[0m\u001b[1;33m,\u001b[0m \u001b[1;34m\"L\"\u001b[0m\u001b[1;33m)\u001b[0m\u001b[1;33m\u001b[0m\u001b[1;33m\u001b[0m\u001b[0m\n\u001b[0;32m    697\u001b[0m         \u001b[1;32melse\u001b[0m\u001b[1;33m:\u001b[0m\u001b[1;33m\u001b[0m\u001b[1;33m\u001b[0m\u001b[0m\n\u001b[1;32m--> 698\u001b[1;33m             \u001b[0mnew\u001b[0m\u001b[1;33m[\u001b[0m\u001b[1;34m\"data\"\u001b[0m\u001b[1;33m]\u001b[0m \u001b[1;33m=\u001b[0m \u001b[0mself\u001b[0m\u001b[1;33m.\u001b[0m\u001b[0mtobytes\u001b[0m\u001b[1;33m(\u001b[0m\u001b[1;33m)\u001b[0m\u001b[1;33m\u001b[0m\u001b[1;33m\u001b[0m\u001b[0m\n\u001b[0m\u001b[0;32m    699\u001b[0m \u001b[1;33m\u001b[0m\u001b[0m\n\u001b[0;32m    700\u001b[0m         \u001b[1;32mclass\u001b[0m \u001b[0mArrayData\u001b[0m\u001b[1;33m:\u001b[0m\u001b[1;33m\u001b[0m\u001b[1;33m\u001b[0m\u001b[0m\n",
      "\u001b[1;32m~\\anaconda3\\envs\\deeplearning\\lib\\site-packages\\PIL\\Image.py\u001b[0m in \u001b[0;36mtobytes\u001b[1;34m(self, encoder_name, *args)\u001b[0m\n\u001b[0;32m    752\u001b[0m         \u001b[0mdata\u001b[0m \u001b[1;33m=\u001b[0m \u001b[1;33m[\u001b[0m\u001b[1;33m]\u001b[0m\u001b[1;33m\u001b[0m\u001b[1;33m\u001b[0m\u001b[0m\n\u001b[0;32m    753\u001b[0m         \u001b[1;32mwhile\u001b[0m \u001b[1;32mTrue\u001b[0m\u001b[1;33m:\u001b[0m\u001b[1;33m\u001b[0m\u001b[1;33m\u001b[0m\u001b[0m\n\u001b[1;32m--> 754\u001b[1;33m             \u001b[0ml\u001b[0m\u001b[1;33m,\u001b[0m \u001b[0ms\u001b[0m\u001b[1;33m,\u001b[0m \u001b[0md\u001b[0m \u001b[1;33m=\u001b[0m \u001b[0me\u001b[0m\u001b[1;33m.\u001b[0m\u001b[0mencode\u001b[0m\u001b[1;33m(\u001b[0m\u001b[0mbufsize\u001b[0m\u001b[1;33m)\u001b[0m\u001b[1;33m\u001b[0m\u001b[1;33m\u001b[0m\u001b[0m\n\u001b[0m\u001b[0;32m    755\u001b[0m             \u001b[0mdata\u001b[0m\u001b[1;33m.\u001b[0m\u001b[0mappend\u001b[0m\u001b[1;33m(\u001b[0m\u001b[0md\u001b[0m\u001b[1;33m)\u001b[0m\u001b[1;33m\u001b[0m\u001b[1;33m\u001b[0m\u001b[0m\n\u001b[0;32m    756\u001b[0m             \u001b[1;32mif\u001b[0m \u001b[0ms\u001b[0m\u001b[1;33m:\u001b[0m\u001b[1;33m\u001b[0m\u001b[1;33m\u001b[0m\u001b[0m\n",
      "\u001b[1;31mKeyboardInterrupt\u001b[0m: "
     ]
    }
   ],
   "source": [
    "model = TPNN(num_classes=3, finalpadding=1, inputsize=n_pyramids)\n",
    "model = train(model, loaders, num_epochs=2500, learning_rate=1e-3)"
   ]
  }
 ],
 "metadata": {
  "kernelspec": {
   "display_name": "Python 3 (ipykernel)",
   "language": "python",
   "name": "python3"
  },
  "language_info": {
   "codemirror_mode": {
    "name": "ipython",
    "version": 3
   },
   "file_extension": ".py",
   "mimetype": "text/x-python",
   "name": "python",
   "nbconvert_exporter": "python",
   "pygments_lexer": "ipython3",
   "version": "3.7.10"
  },
  "widgets": {
   "application/vnd.jupyter.widget-state+json": {
    "state": {
     "000a0ce30ef84bfc8ab5b9c23b221bc4": {
      "model_module": "@jupyter-widgets/controls",
      "model_module_version": "2.0.0",
      "model_name": "ProgressStyleModel",
      "state": {
       "description_width": ""
      }
     },
     "0023fc3242d845c783fb42d2e5d68a32": {
      "model_module": "@jupyter-widgets/controls",
      "model_module_version": "2.0.0",
      "model_name": "HBoxModel",
      "state": {
       "children": [
        "IPY_MODEL_5707ef96db714ec0a3f2f9dbe98908c9",
        "IPY_MODEL_8f3469b12b6d41cca996c3174a8a94d3",
        "IPY_MODEL_69fd7e6e13c94f61a5ebb811aa394333"
       ],
       "layout": "IPY_MODEL_5a7402acea7c46b7acc62d232cbaafda"
      }
     },
     "0063857eab204d448a73753b8424dbad": {
      "model_module": "@jupyter-widgets/controls",
      "model_module_version": "2.0.0",
      "model_name": "HTMLModel",
      "state": {
       "layout": "IPY_MODEL_94b354bd31db4240b3abce5878a7f39e",
       "style": "IPY_MODEL_acdac6e8397d4097ba9b78f5a31f3293",
       "value": "100%"
      }
     },
     "009b2957b305415891bb4aed8cebb918": {
      "model_module": "@jupyter-widgets/controls",
      "model_module_version": "2.0.0",
      "model_name": "DescriptionStyleModel",
      "state": {
       "description_width": ""
      }
     },
     "009e9b31c50b45ce98d8d25a7a492aac": {
      "model_module": "@jupyter-widgets/controls",
      "model_module_version": "2.0.0",
      "model_name": "HTMLModel",
      "state": {
       "layout": "IPY_MODEL_f1cadea86f4349a5ab89df8c16368f3f",
       "style": "IPY_MODEL_2a75bc70851b42b69eacea7343414dbb",
       "value": "100%"
      }
     },
     "01d8b4a699f146feb03b588bf69025c8": {
      "model_module": "@jupyter-widgets/base",
      "model_module_version": "2.0.0",
      "model_name": "LayoutModel",
      "state": {}
     },
     "01d8f884022a47efb55c154520a685d5": {
      "model_module": "@jupyter-widgets/controls",
      "model_module_version": "2.0.0",
      "model_name": "ProgressStyleModel",
      "state": {
       "description_width": ""
      }
     },
     "01e5af5b26df48c68e2a60acda563670": {
      "model_module": "@jupyter-widgets/base",
      "model_module_version": "2.0.0",
      "model_name": "LayoutModel",
      "state": {}
     },
     "0264a0f5edbd4d84b646529d5900ab46": {
      "model_module": "@jupyter-widgets/base",
      "model_module_version": "2.0.0",
      "model_name": "LayoutModel",
      "state": {}
     },
     "029642dfa78247a18b8c1e5fe6452dda": {
      "model_module": "@jupyter-widgets/controls",
      "model_module_version": "2.0.0",
      "model_name": "DescriptionStyleModel",
      "state": {
       "description_width": ""
      }
     },
     "0325411a73a24e76a5a828c1af2f77f4": {
      "model_module": "@jupyter-widgets/controls",
      "model_module_version": "2.0.0",
      "model_name": "DescriptionStyleModel",
      "state": {
       "description_width": ""
      }
     },
     "0336f4a7a20b426fb438fe3bf7ed82b3": {
      "model_module": "@jupyter-widgets/controls",
      "model_module_version": "2.0.0",
      "model_name": "HBoxModel",
      "state": {
       "children": [
        "IPY_MODEL_03cb0af0e762481c9c64df8c86d59f64",
        "IPY_MODEL_4fdb5b1c4a484c5692ff2224cb3311ef",
        "IPY_MODEL_810d595243204b40860e6dae8429371f"
       ],
       "layout": "IPY_MODEL_bc9b146a311b4e43864c0885a0d6254b"
      }
     },
     "0365c814a1964bfa8a174f66d432d2d8": {
      "model_module": "@jupyter-widgets/controls",
      "model_module_version": "2.0.0",
      "model_name": "HTMLModel",
      "state": {
       "layout": "IPY_MODEL_a440e087f1764e1f8107f2d1e11088f3",
       "style": "IPY_MODEL_9b24a19000ef42af8a952c53a70a91cf",
       "value": " 6/6 [00:08&lt;00:00,  1.97s/it]"
      }
     },
     "03a3d629e6154eacaca8081c71a01b2b": {
      "model_module": "@jupyter-widgets/base",
      "model_module_version": "2.0.0",
      "model_name": "LayoutModel",
      "state": {}
     },
     "03a96f3c2a024b0f94090e89d31f9e0a": {
      "model_module": "@jupyter-widgets/base",
      "model_module_version": "2.0.0",
      "model_name": "LayoutModel",
      "state": {}
     },
     "03cb0af0e762481c9c64df8c86d59f64": {
      "model_module": "@jupyter-widgets/controls",
      "model_module_version": "2.0.0",
      "model_name": "HTMLModel",
      "state": {
       "layout": "IPY_MODEL_efc52319653d4b0bbd451e539181b0fa",
       "style": "IPY_MODEL_e107e09de9494b96ba9563b361cbfa93",
       "value": "100%"
      }
     },
     "03cf710d075a49579d410930b6fbacf4": {
      "model_module": "@jupyter-widgets/base",
      "model_module_version": "2.0.0",
      "model_name": "LayoutModel",
      "state": {}
     },
     "042be28fa0bb441d96647ac61c3f1187": {
      "model_module": "@jupyter-widgets/base",
      "model_module_version": "2.0.0",
      "model_name": "LayoutModel",
      "state": {}
     },
     "055973be849e46938f53875663039720": {
      "model_module": "@jupyter-widgets/base",
      "model_module_version": "2.0.0",
      "model_name": "LayoutModel",
      "state": {}
     },
     "05780041cc8a43a09595c7e527476426": {
      "model_module": "@jupyter-widgets/controls",
      "model_module_version": "2.0.0",
      "model_name": "HBoxModel",
      "state": {
       "children": [
        "IPY_MODEL_c0bc0ed166f748e898629d44ab3ed1a8",
        "IPY_MODEL_3d11387ee5bf45a7841f88bcba010856",
        "IPY_MODEL_9b1bd763907b42879195badd1b69a3e8"
       ],
       "layout": "IPY_MODEL_5fc4e3b1da1c478ea141c911c4e76b5e"
      }
     },
     "05b3bfdeba8148b8b4f9e8a220a48ad1": {
      "model_module": "@jupyter-widgets/controls",
      "model_module_version": "2.0.0",
      "model_name": "FloatProgressModel",
      "state": {
       "bar_style": "success",
       "layout": "IPY_MODEL_a001f2d8f0ac46178a6eaf43f36f248e",
       "max": 3,
       "style": "IPY_MODEL_b4844e9f7ac840f8932292a6e55f54c4",
       "value": 3
      }
     },
     "05ce7d2dcc9c42a1a4657f9cae9edea1": {
      "model_module": "@jupyter-widgets/base",
      "model_module_version": "2.0.0",
      "model_name": "LayoutModel",
      "state": {}
     },
     "066b157993bf44e680f38377fd313131": {
      "model_module": "@jupyter-widgets/controls",
      "model_module_version": "2.0.0",
      "model_name": "HBoxModel",
      "state": {
       "children": [
        "IPY_MODEL_e3713f550fe34209b0ca21db1baa24aa",
        "IPY_MODEL_e5d5e45fb4914148aa722874d820f5b3",
        "IPY_MODEL_dd4cfe4c1c19432d814165e8bfcadbdb"
       ],
       "layout": "IPY_MODEL_8588cbf7c52d4f418839811101f446cc"
      }
     },
     "069d1da5bb904bb092d378f310a159d1": {
      "model_module": "@jupyter-widgets/controls",
      "model_module_version": "2.0.0",
      "model_name": "ProgressStyleModel",
      "state": {
       "description_width": ""
      }
     },
     "06cd218c9ce0406090f8b3651b412fe3": {
      "model_module": "@jupyter-widgets/base",
      "model_module_version": "2.0.0",
      "model_name": "LayoutModel",
      "state": {}
     },
     "06d57aa711be4630a00b75bef4214d4c": {
      "model_module": "@jupyter-widgets/base",
      "model_module_version": "2.0.0",
      "model_name": "LayoutModel",
      "state": {}
     },
     "06e11f82b78947988f5e6a40a8d2f191": {
      "model_module": "@jupyter-widgets/controls",
      "model_module_version": "2.0.0",
      "model_name": "DescriptionStyleModel",
      "state": {
       "description_width": ""
      }
     },
     "06e417298e2e4c93bfd44db90d47d077": {
      "model_module": "@jupyter-widgets/controls",
      "model_module_version": "2.0.0",
      "model_name": "HTMLModel",
      "state": {
       "layout": "IPY_MODEL_3979d488f5ca4bb7b9752f190f516e49",
       "style": "IPY_MODEL_23d02aee6f02490688abd31c971c5a82",
       "value": "100%"
      }
     },
     "07019ea46ea046e0b87c8e4a25c6963b": {
      "model_module": "@jupyter-widgets/controls",
      "model_module_version": "2.0.0",
      "model_name": "HTMLModel",
      "state": {
       "layout": "IPY_MODEL_f27ed8d568e3443b8ebfc12dea126023",
       "style": "IPY_MODEL_8ccf6c8ad7a94dee96a0b8f1c326da34",
       "value": "100%"
      }
     },
     "0753c14d260c47b4b76e724d61b7626e": {
      "model_module": "@jupyter-widgets/controls",
      "model_module_version": "2.0.0",
      "model_name": "HTMLModel",
      "state": {
       "layout": "IPY_MODEL_f1cf5257a926489ebdcef6587525d199",
       "style": "IPY_MODEL_86408805e10e4b36b31272710102a681",
       "value": " 6/6 [00:11&lt;00:00,  2.79s/it]"
      }
     },
     "078d87136b9142e9acb4789c407b5e78": {
      "model_module": "@jupyter-widgets/controls",
      "model_module_version": "2.0.0",
      "model_name": "HBoxModel",
      "state": {
       "children": [
        "IPY_MODEL_7a5f3f054d8d4da3aed21f20541bed79",
        "IPY_MODEL_ee40caa8c6a5462badf1997964bd8578",
        "IPY_MODEL_0949c01d9549498994fad95e6c00b4d4"
       ],
       "layout": "IPY_MODEL_217746ae5f514b5cb74f459bb7394317"
      }
     },
     "07a605e198bc4bdc96fd16984325d5d4": {
      "model_module": "@jupyter-widgets/controls",
      "model_module_version": "2.0.0",
      "model_name": "HBoxModel",
      "state": {
       "children": [
        "IPY_MODEL_57843694692c4a3b87bfbd132153cab8",
        "IPY_MODEL_88209ef64d6c4b459ebea93a0eacd68c",
        "IPY_MODEL_fd51647b299b4889b249a7594dbeedea"
       ],
       "layout": "IPY_MODEL_f387bf1b5492446ba39e2624cfcd4629"
      }
     },
     "07d17a674a6348fc8fa411e197b78069": {
      "model_module": "@jupyter-widgets/controls",
      "model_module_version": "2.0.0",
      "model_name": "ProgressStyleModel",
      "state": {
       "description_width": ""
      }
     },
     "080b15f229de42e488724f68e64030ec": {
      "model_module": "@jupyter-widgets/controls",
      "model_module_version": "2.0.0",
      "model_name": "HBoxModel",
      "state": {
       "children": [
        "IPY_MODEL_8bde0caeebf740c4bc667fbfa72d02ed",
        "IPY_MODEL_1485dc20e8a9448a8d53f4b75b48f675",
        "IPY_MODEL_7598e2700b684d90841799187dfcc138"
       ],
       "layout": "IPY_MODEL_30ebffb12b0f4b59abeb9b83b0a6fbdc"
      }
     },
     "08364b2a0e744b05919950b79cbb7529": {
      "model_module": "@jupyter-widgets/controls",
      "model_module_version": "2.0.0",
      "model_name": "HBoxModel",
      "state": {
       "children": [
        "IPY_MODEL_d28805f81f2d4e939de07c7bfb0c3942",
        "IPY_MODEL_902f154135734038946c4cb43ac040ea",
        "IPY_MODEL_54bc5cd15c52489db348d7d474416b63"
       ],
       "layout": "IPY_MODEL_6e6c8d817cf642cda4b8c67c1421f16b"
      }
     },
     "084efb17fade418aac55ccf88c99373d": {
      "model_module": "@jupyter-widgets/base",
      "model_module_version": "2.0.0",
      "model_name": "LayoutModel",
      "state": {}
     },
     "08e2cf45c7c848ed83868e9a1f1ba967": {
      "model_module": "@jupyter-widgets/controls",
      "model_module_version": "2.0.0",
      "model_name": "HTMLModel",
      "state": {
       "layout": "IPY_MODEL_8981bf35b70148559775a41ed92d1ed1",
       "style": "IPY_MODEL_705019b0b05f4387aefdd6bb569e74d9",
       "value": "100%"
      }
     },
     "0949c01d9549498994fad95e6c00b4d4": {
      "model_module": "@jupyter-widgets/controls",
      "model_module_version": "2.0.0",
      "model_name": "HTMLModel",
      "state": {
       "layout": "IPY_MODEL_c7dc4e6681ce4f8eae9a97b57acbed79",
       "style": "IPY_MODEL_945688e6560c48ad8c46b7294bd434b6",
       "value": " 0/6 [00:00&lt;?, ?it/s]"
      }
     },
     "0955482db7ea401daacc4b71171b4096": {
      "model_module": "@jupyter-widgets/controls",
      "model_module_version": "2.0.0",
      "model_name": "ProgressStyleModel",
      "state": {
       "description_width": ""
      }
     },
     "09b9674aaee24f8ba6ac3d70e04734de": {
      "model_module": "@jupyter-widgets/base",
      "model_module_version": "2.0.0",
      "model_name": "LayoutModel",
      "state": {}
     },
     "09ee37cbf2df41f5b293113c69bb3a24": {
      "model_module": "@jupyter-widgets/base",
      "model_module_version": "2.0.0",
      "model_name": "LayoutModel",
      "state": {}
     },
     "0a8273abf4b04fcfa266ece21ec57dc2": {
      "model_module": "@jupyter-widgets/base",
      "model_module_version": "2.0.0",
      "model_name": "LayoutModel",
      "state": {}
     },
     "0abaf50f623a43e58afcf20b196d3dbc": {
      "model_module": "@jupyter-widgets/controls",
      "model_module_version": "2.0.0",
      "model_name": "HTMLStyleModel",
      "state": {
       "description_width": "",
       "font_size": null,
       "text_color": null
      }
     },
     "0ae180ce7c094699b73877331aa776d5": {
      "model_module": "@jupyter-widgets/base",
      "model_module_version": "2.0.0",
      "model_name": "LayoutModel",
      "state": {}
     },
     "0b1a304bd15f47ec8858bfd900d11484": {
      "model_module": "@jupyter-widgets/controls",
      "model_module_version": "2.0.0",
      "model_name": "HTMLModel",
      "state": {
       "layout": "IPY_MODEL_ba807cc513b74d7d8eeb027c2910b83d",
       "style": "IPY_MODEL_cb816fa26def400fb32343b0dd2f8917",
       "value": " 14/14 [00:37&lt;00:00,  2.73s/it]"
      }
     },
     "0b1b5e2e830e40bb969f2adc1614aea5": {
      "model_module": "@jupyter-widgets/controls",
      "model_module_version": "2.0.0",
      "model_name": "FloatProgressModel",
      "state": {
       "bar_style": "success",
       "layout": "IPY_MODEL_1f96bc76575143e0bbfa6f656bc14379",
       "max": 14,
       "style": "IPY_MODEL_147d6e998a764a2d9829860f250560d9",
       "value": 14
      }
     },
     "0b4691c9dc8c4730b2406addff4465cf": {
      "model_module": "@jupyter-widgets/controls",
      "model_module_version": "2.0.0",
      "model_name": "HTMLModel",
      "state": {
       "layout": "IPY_MODEL_45f72b16772f40e081fb9d967266f68d",
       "style": "IPY_MODEL_43813cdb3cc948f49df4d4f3c7bbca4d",
       "value": "100%"
      }
     },
     "0b69df04be5841c59960a17eb4f82d76": {
      "model_module": "@jupyter-widgets/controls",
      "model_module_version": "2.0.0",
      "model_name": "HBoxModel",
      "state": {
       "children": [
        "IPY_MODEL_aef0ceb8c0ae4015b63ea8b2d521df89",
        "IPY_MODEL_749e6b87082c4e4bbdd4030cad16b4ca",
        "IPY_MODEL_1ce6f12be1c846d6b0b2f907eb606fa8"
       ],
       "layout": "IPY_MODEL_26ee41edcc1d4611b2c3bf8d590a98f1"
      }
     },
     "0b79ec824d3b4d8aa3cae468021e6ea0": {
      "model_module": "@jupyter-widgets/base",
      "model_module_version": "2.0.0",
      "model_name": "LayoutModel",
      "state": {}
     },
     "0bca4e3d211e481b930b97cb27172398": {
      "model_module": "@jupyter-widgets/controls",
      "model_module_version": "2.0.0",
      "model_name": "HTMLModel",
      "state": {
       "layout": "IPY_MODEL_d2089328393446879bd5bea14c4c46d4",
       "style": "IPY_MODEL_acda4f5b396441189693bf7bffcb701c",
       "value": "100%"
      }
     },
     "0bdac01ac9714d238307c195beb0e4d6": {
      "model_module": "@jupyter-widgets/controls",
      "model_module_version": "2.0.0",
      "model_name": "ProgressStyleModel",
      "state": {
       "description_width": ""
      }
     },
     "0c661b3b523e46c997b81ec88b55885f": {
      "model_module": "@jupyter-widgets/controls",
      "model_module_version": "2.0.0",
      "model_name": "HBoxModel",
      "state": {
       "children": [
        "IPY_MODEL_2b00516e0d2f4aa38eb103470d68f748",
        "IPY_MODEL_ed986ba25e62442b805d11edfd26d196",
        "IPY_MODEL_2687f4e65b9f494d85e66a18985cc115"
       ],
       "layout": "IPY_MODEL_d215b8a8add54994996af76ab889def9"
      }
     },
     "0cb625922b5f481f85c9215f9f4b3d23": {
      "model_module": "@jupyter-widgets/base",
      "model_module_version": "2.0.0",
      "model_name": "LayoutModel",
      "state": {}
     },
     "0d06caff45da43a387feb0da28b050fb": {
      "model_module": "@jupyter-widgets/base",
      "model_module_version": "2.0.0",
      "model_name": "LayoutModel",
      "state": {}
     },
     "0d313cc29bcc46dfb446da66fa807e59": {
      "model_module": "@jupyter-widgets/controls",
      "model_module_version": "2.0.0",
      "model_name": "HBoxModel",
      "state": {
       "children": [
        "IPY_MODEL_83c2fac7843c4663a1b118a4efb743db",
        "IPY_MODEL_fa70d6fcb22147d0955df9e8bddc056c",
        "IPY_MODEL_b95eedb43b064ce789790750e2c53bb5"
       ],
       "layout": "IPY_MODEL_2a462a43f7d74fce8b387d4a583712ec"
      }
     },
     "0d3409116f40446cbda24b66b80c0548": {
      "model_module": "@jupyter-widgets/controls",
      "model_module_version": "2.0.0",
      "model_name": "FloatProgressModel",
      "state": {
       "bar_style": "success",
       "layout": "IPY_MODEL_69ba768c93bf4d2585127c9dd8cca2a1",
       "max": 3,
       "style": "IPY_MODEL_e8f26801067b4ef1828250d9824be275",
       "value": 3
      }
     },
     "0d4bc172676c4414864818a4ac6416fe": {
      "model_module": "@jupyter-widgets/controls",
      "model_module_version": "2.0.0",
      "model_name": "HTMLModel",
      "state": {
       "layout": "IPY_MODEL_199baf487d344705bd0e350dbae70ae1",
       "style": "IPY_MODEL_06e11f82b78947988f5e6a40a8d2f191",
       "value": "100%"
      }
     },
     "0d4cdb3348194428b360906169fcc25e": {
      "model_module": "@jupyter-widgets/base",
      "model_module_version": "2.0.0",
      "model_name": "LayoutModel",
      "state": {}
     },
     "0d5bdf9af54d439ca3f4b690da144284": {
      "model_module": "@jupyter-widgets/controls",
      "model_module_version": "2.0.0",
      "model_name": "HTMLModel",
      "state": {
       "layout": "IPY_MODEL_32e522644e3548eeb2a61abd4431c1dc",
       "style": "IPY_MODEL_6598381da8a44dae8d3e17c72ca74f0d",
       "value": "100%"
      }
     },
     "0db0d77a505b45c09a86c22ab3ec786f": {
      "model_module": "@jupyter-widgets/base",
      "model_module_version": "2.0.0",
      "model_name": "LayoutModel",
      "state": {}
     },
     "0dc955968bf4464581e4aff52c7e0667": {
      "model_module": "@jupyter-widgets/controls",
      "model_module_version": "2.0.0",
      "model_name": "HTMLModel",
      "state": {
       "layout": "IPY_MODEL_b1a71496bea04ea984d4eaf411c2d37c",
       "style": "IPY_MODEL_22eb8c8a0e00490a9134f86bf95f647a",
       "value": " 3/3 [00:11&lt;00:00,  4.32s/it]"
      }
     },
     "0eaa5fd6d17d42739186b27b186fa2d4": {
      "model_module": "@jupyter-widgets/base",
      "model_module_version": "2.0.0",
      "model_name": "LayoutModel",
      "state": {}
     },
     "0eb105eb3c3a4e0e8ad0c0555002b74a": {
      "model_module": "@jupyter-widgets/base",
      "model_module_version": "2.0.0",
      "model_name": "LayoutModel",
      "state": {}
     },
     "0eb10b760dc54f0697396bb1551ea804": {
      "model_module": "@jupyter-widgets/controls",
      "model_module_version": "2.0.0",
      "model_name": "FloatProgressModel",
      "state": {
       "bar_style": "success",
       "layout": "IPY_MODEL_4249d3d2ad154f738789fb624a8e0867",
       "max": 14,
       "style": "IPY_MODEL_5976186c6a0042c2b496154953e7726d",
       "value": 14
      }
     },
     "0f08dbddfbf34a21a5d145735909cfec": {
      "model_module": "@jupyter-widgets/base",
      "model_module_version": "2.0.0",
      "model_name": "LayoutModel",
      "state": {}
     },
     "0f26d84da7c14a52a03a1d4cfbbc0405": {
      "model_module": "@jupyter-widgets/controls",
      "model_module_version": "2.0.0",
      "model_name": "DescriptionStyleModel",
      "state": {
       "description_width": ""
      }
     },
     "0f4f2ab58d27499ab90aef032e5a3b75": {
      "model_module": "@jupyter-widgets/controls",
      "model_module_version": "2.0.0",
      "model_name": "HBoxModel",
      "state": {
       "children": [
        "IPY_MODEL_de34218bb04f441bb1bc43e285752ade",
        "IPY_MODEL_69a5d1fb555745e39ade5030c767bf78",
        "IPY_MODEL_d7ec9dc0b86e4aa7adcd14aaab8643e1"
       ],
       "layout": "IPY_MODEL_f9620fa4d32740b59e5cb0690a070612"
      }
     },
     "0f833f6471d344ad9cb100183559182a": {
      "model_module": "@jupyter-widgets/controls",
      "model_module_version": "2.0.0",
      "model_name": "FloatProgressModel",
      "state": {
       "bar_style": "success",
       "layout": "IPY_MODEL_dc28259a0652441aacc9366d13c53f3c",
       "max": 6,
       "style": "IPY_MODEL_b85490ed0a0947f0b84a2600a1c988c7",
       "value": 6
      }
     },
     "0f9c8d0f704c4e5ba707cf9fc4bd45ae": {
      "model_module": "@jupyter-widgets/controls",
      "model_module_version": "2.0.0",
      "model_name": "HTMLModel",
      "state": {
       "layout": "IPY_MODEL_4fcce8713d9f40efa519fad4c3f6d159",
       "style": "IPY_MODEL_287a7573648040f38d693b279d747f3b",
       "value": "100%"
      }
     },
     "0fc92f9097474517aa4fad739dce6c9e": {
      "model_module": "@jupyter-widgets/controls",
      "model_module_version": "2.0.0",
      "model_name": "HTMLModel",
      "state": {
       "layout": "IPY_MODEL_bd40e6ea970a42bca8cba175f0e0ef3c",
       "style": "IPY_MODEL_451473f4e335442db1280c3dafa1c5de",
       "value": "100%"
      }
     },
     "1004c413f391408aa53526d8882d9ea5": {
      "model_module": "@jupyter-widgets/controls",
      "model_module_version": "2.0.0",
      "model_name": "HTMLModel",
      "state": {
       "layout": "IPY_MODEL_98cb9a5f782d406992c4ab9ddc0d89c4",
       "style": "IPY_MODEL_583d1f1adf7746b78eeac541b547405b",
       "value": "100%"
      }
     },
     "10e39dc37bd944b3a6cea613c2c089f3": {
      "model_module": "@jupyter-widgets/controls",
      "model_module_version": "2.0.0",
      "model_name": "DescriptionStyleModel",
      "state": {
       "description_width": ""
      }
     },
     "10ea0838335d4ae1bb579ef325c49f1d": {
      "model_module": "@jupyter-widgets/base",
      "model_module_version": "2.0.0",
      "model_name": "LayoutModel",
      "state": {}
     },
     "115a126a5dc14d9e9e0c1a91e79ef53e": {
      "model_module": "@jupyter-widgets/base",
      "model_module_version": "2.0.0",
      "model_name": "LayoutModel",
      "state": {}
     },
     "11d0dc6ff6db4abe8434128bba74e17a": {
      "model_module": "@jupyter-widgets/controls",
      "model_module_version": "2.0.0",
      "model_name": "DescriptionStyleModel",
      "state": {
       "description_width": ""
      }
     },
     "11fddfdf1de84920ae47280c167037ea": {
      "model_module": "@jupyter-widgets/controls",
      "model_module_version": "2.0.0",
      "model_name": "HBoxModel",
      "state": {
       "children": [
        "IPY_MODEL_d7843afa00d04ccfa17c4f7a2c0ead9c",
        "IPY_MODEL_b706432285f34e75ae5cff63bc0f811e",
        "IPY_MODEL_8039000c118c4b35bc9ffcc4d13b27f3"
       ],
       "layout": "IPY_MODEL_fc340e178dcf4841a50d791a1e61b133"
      }
     },
     "12376590b1cc4543ba04cb2c3624454c": {
      "model_module": "@jupyter-widgets/controls",
      "model_module_version": "2.0.0",
      "model_name": "ProgressStyleModel",
      "state": {
       "description_width": ""
      }
     },
     "12bd68cfd5214378b677176807915f57": {
      "model_module": "@jupyter-widgets/controls",
      "model_module_version": "2.0.0",
      "model_name": "HTMLModel",
      "state": {
       "layout": "IPY_MODEL_9722c25d278d4c709a75c1528f7252d6",
       "style": "IPY_MODEL_38b365b1201f4397953d51a62aaf4e80",
       "value": " 6/6 [00:11&lt;00:00,  2.78s/it]"
      }
     },
     "1317b6a0a7bc4b43a76e7ca689d01b22": {
      "model_module": "@jupyter-widgets/controls",
      "model_module_version": "2.0.0",
      "model_name": "HTMLStyleModel",
      "state": {
       "description_width": "",
       "font_size": null,
       "text_color": null
      }
     },
     "147d6e998a764a2d9829860f250560d9": {
      "model_module": "@jupyter-widgets/controls",
      "model_module_version": "2.0.0",
      "model_name": "ProgressStyleModel",
      "state": {
       "description_width": ""
      }
     },
     "1485dc20e8a9448a8d53f4b75b48f675": {
      "model_module": "@jupyter-widgets/controls",
      "model_module_version": "2.0.0",
      "model_name": "FloatProgressModel",
      "state": {
       "bar_style": "danger",
       "layout": "IPY_MODEL_305aca9f3f244ad0b9b26ed91ec3af33",
       "max": 14,
       "style": "IPY_MODEL_18d7ef9ee88a455dbbfac965b15c9e1a",
       "value": 10
      }
     },
     "14f0bd724fd345f8bab8dfc4bef0bf08": {
      "model_module": "@jupyter-widgets/controls",
      "model_module_version": "2.0.0",
      "model_name": "ProgressStyleModel",
      "state": {
       "description_width": ""
      }
     },
     "1550f4570c0649d281d386ee91811c1a": {
      "model_module": "@jupyter-widgets/base",
      "model_module_version": "2.0.0",
      "model_name": "LayoutModel",
      "state": {}
     },
     "1574450acc874b6f9d2c6fa210c91894": {
      "model_module": "@jupyter-widgets/base",
      "model_module_version": "2.0.0",
      "model_name": "LayoutModel",
      "state": {}
     },
     "16db80d7528e45a79bb7708b65544c05": {
      "model_module": "@jupyter-widgets/controls",
      "model_module_version": "2.0.0",
      "model_name": "FloatProgressModel",
      "state": {
       "bar_style": "success",
       "layout": "IPY_MODEL_8d4c233f2bd34fc785689c28a4443ae4",
       "max": 3,
       "style": "IPY_MODEL_5d60a27d33a64fe0b9065d67b7327045",
       "value": 3
      }
     },
     "16fb2ba10ca54fe5b113a07e4b74a364": {
      "model_module": "@jupyter-widgets/controls",
      "model_module_version": "2.0.0",
      "model_name": "FloatProgressModel",
      "state": {
       "bar_style": "success",
       "layout": "IPY_MODEL_edf5997f4a0c488abc2bd51d603e413b",
       "max": 3,
       "style": "IPY_MODEL_8184abafd437439481a39fe8f50c41bf",
       "value": 3
      }
     },
     "1738612afc9045d2aacc3f7bf1bf54c1": {
      "model_module": "@jupyter-widgets/base",
      "model_module_version": "2.0.0",
      "model_name": "LayoutModel",
      "state": {}
     },
     "1770df0cfa014ba89fca32d9ccf66276": {
      "model_module": "@jupyter-widgets/base",
      "model_module_version": "2.0.0",
      "model_name": "LayoutModel",
      "state": {}
     },
     "17800447be014770ae05c74ce802f81c": {
      "model_module": "@jupyter-widgets/controls",
      "model_module_version": "2.0.0",
      "model_name": "DescriptionStyleModel",
      "state": {
       "description_width": ""
      }
     },
     "18d7ef9ee88a455dbbfac965b15c9e1a": {
      "model_module": "@jupyter-widgets/controls",
      "model_module_version": "2.0.0",
      "model_name": "ProgressStyleModel",
      "state": {
       "description_width": ""
      }
     },
     "18f4eee24bac4eed92745ba210060663": {
      "model_module": "@jupyter-widgets/controls",
      "model_module_version": "2.0.0",
      "model_name": "HTMLStyleModel",
      "state": {
       "description_width": "",
       "font_size": null,
       "text_color": null
      }
     },
     "18fb54df65384bb191ef2dd090fb1024": {
      "model_module": "@jupyter-widgets/base",
      "model_module_version": "2.0.0",
      "model_name": "LayoutModel",
      "state": {}
     },
     "195b90f25ae447488562295c171c2e4d": {
      "model_module": "@jupyter-widgets/controls",
      "model_module_version": "2.0.0",
      "model_name": "DescriptionStyleModel",
      "state": {
       "description_width": ""
      }
     },
     "195bf44553064ef9b5c442ed7f8d14c0": {
      "model_module": "@jupyter-widgets/controls",
      "model_module_version": "2.0.0",
      "model_name": "FloatProgressModel",
      "state": {
       "bar_style": "success",
       "layout": "IPY_MODEL_a457bdaff0b54319a7e04193fee288ff",
       "max": 14,
       "style": "IPY_MODEL_5d64f8724c144e37b875cd67b10ec38b",
       "value": 14
      }
     },
     "199baf487d344705bd0e350dbae70ae1": {
      "model_module": "@jupyter-widgets/base",
      "model_module_version": "2.0.0",
      "model_name": "LayoutModel",
      "state": {}
     },
     "19d2a5bbbee14c30bd9480c8930412ef": {
      "model_module": "@jupyter-widgets/controls",
      "model_module_version": "2.0.0",
      "model_name": "FloatProgressModel",
      "state": {
       "bar_style": "success",
       "layout": "IPY_MODEL_042be28fa0bb441d96647ac61c3f1187",
       "max": 6,
       "style": "IPY_MODEL_41d2351da9f445548ea422ffb7bd70b8",
       "value": 6
      }
     },
     "19ea34ec07da4d61acec8c855bbc02bf": {
      "model_module": "@jupyter-widgets/base",
      "model_module_version": "2.0.0",
      "model_name": "LayoutModel",
      "state": {}
     },
     "1a3e94e077794b26a5f1d4383652e342": {
      "model_module": "@jupyter-widgets/controls",
      "model_module_version": "2.0.0",
      "model_name": "HTMLModel",
      "state": {
       "layout": "IPY_MODEL_f1f91959b5e34777a43a77fabbc2547b",
       "style": "IPY_MODEL_8b612f576d034f368bf01513ba1fdbf7",
       "value": " 6/6 [00:11&lt;00:00,  2.85s/it]"
      }
     },
     "1a972bcc03d64354b5cd8ec42d25af83": {
      "model_module": "@jupyter-widgets/base",
      "model_module_version": "2.0.0",
      "model_name": "LayoutModel",
      "state": {}
     },
     "1afd9b14111e46ce980a6e0b1d6e4560": {
      "model_module": "@jupyter-widgets/base",
      "model_module_version": "2.0.0",
      "model_name": "LayoutModel",
      "state": {}
     },
     "1b128390ad5d40609c6853ee0320d36b": {
      "model_module": "@jupyter-widgets/controls",
      "model_module_version": "2.0.0",
      "model_name": "FloatProgressModel",
      "state": {
       "bar_style": "success",
       "layout": "IPY_MODEL_be41d6ae9f344b5ba9b383d3d5c484bf",
       "max": 3,
       "style": "IPY_MODEL_07d17a674a6348fc8fa411e197b78069",
       "value": 3
      }
     },
     "1b3e9c32128b4afd82e6239a2c210fd1": {
      "model_module": "@jupyter-widgets/base",
      "model_module_version": "2.0.0",
      "model_name": "LayoutModel",
      "state": {}
     },
     "1bb5e4ab089345e486e8cb7702e2a389": {
      "model_module": "@jupyter-widgets/controls",
      "model_module_version": "2.0.0",
      "model_name": "HBoxModel",
      "state": {
       "children": [
        "IPY_MODEL_b4a6ca293cf340b89bc8cee747bd4df1",
        "IPY_MODEL_25903453397444dc8539ba4a20d941d7",
        "IPY_MODEL_4c514c61a1824da0bb353e154c21288e"
       ],
       "layout": "IPY_MODEL_44d1cb966cd74d34b917a08160071f86"
      }
     },
     "1c13c5e27a444c34b5616d6b869b0c25": {
      "model_module": "@jupyter-widgets/controls",
      "model_module_version": "2.0.0",
      "model_name": "HBoxModel",
      "state": {
       "children": [
        "IPY_MODEL_affe162fb3a94beba81fa8be1951120f",
        "IPY_MODEL_0f833f6471d344ad9cb100183559182a",
        "IPY_MODEL_658444ed433543249997e5b54ff46591"
       ],
       "layout": "IPY_MODEL_51afde547a624857871d55d2bbcc2c75"
      }
     },
     "1c4bcfb11581445a8d46ce754ec37180": {
      "model_module": "@jupyter-widgets/base",
      "model_module_version": "2.0.0",
      "model_name": "LayoutModel",
      "state": {}
     },
     "1c5a097cc6654b498bb5d102de2ff9a9": {
      "model_module": "@jupyter-widgets/controls",
      "model_module_version": "2.0.0",
      "model_name": "HBoxModel",
      "state": {
       "children": [
        "IPY_MODEL_f3448abc46c64dcc99030e01f7f7c0ad",
        "IPY_MODEL_0eb10b760dc54f0697396bb1551ea804",
        "IPY_MODEL_e6344aec656a4e2ebe984c2af55086ee"
       ],
       "layout": "IPY_MODEL_30edfff582484b6493b79792a84b5d78"
      }
     },
     "1ce6f12be1c846d6b0b2f907eb606fa8": {
      "model_module": "@jupyter-widgets/controls",
      "model_module_version": "2.0.0",
      "model_name": "HTMLModel",
      "state": {
       "layout": "IPY_MODEL_93d601e2d59e468bb0a2e59df885b6bb",
       "style": "IPY_MODEL_6022fd1d8b704696a3ea76aed0286917",
       "value": " 14/14 [00:34&lt;00:00,  2.58s/it]"
      }
     },
     "1cf7ed64d07e42f1a35ac54ff80c9321": {
      "model_module": "@jupyter-widgets/controls",
      "model_module_version": "2.0.0",
      "model_name": "HTMLStyleModel",
      "state": {
       "description_width": "",
       "font_size": null,
       "text_color": null
      }
     },
     "1d1d0262b04541a6a88b8cfc2026e946": {
      "model_module": "@jupyter-widgets/controls",
      "model_module_version": "2.0.0",
      "model_name": "HTMLStyleModel",
      "state": {
       "description_width": "",
       "font_size": null,
       "text_color": null
      }
     },
     "1d1da6d468c74317a13dc9fc56dfb053": {
      "model_module": "@jupyter-widgets/controls",
      "model_module_version": "2.0.0",
      "model_name": "HTMLStyleModel",
      "state": {
       "description_width": "",
       "font_size": null,
       "text_color": null
      }
     },
     "1d307ce0a82445ba9e28c933d9dc26c9": {
      "model_module": "@jupyter-widgets/controls",
      "model_module_version": "2.0.0",
      "model_name": "HBoxModel",
      "state": {
       "children": [
        "IPY_MODEL_ec90cfce9177485b883662ef681ad8d6",
        "IPY_MODEL_d508b30885034954883d0ecb2f25290a",
        "IPY_MODEL_7863273832e24bb2b5709eec56869f46"
       ],
       "layout": "IPY_MODEL_e704b69e2c0147598b87d70959cc1d19"
      }
     },
     "1df53411fb0547ea99a8fa02b4902311": {
      "model_module": "@jupyter-widgets/controls",
      "model_module_version": "2.0.0",
      "model_name": "HTMLStyleModel",
      "state": {
       "description_width": "",
       "font_size": null,
       "text_color": null
      }
     },
     "1ea51bc560ca4022bb1a949c79a0f734": {
      "model_module": "@jupyter-widgets/controls",
      "model_module_version": "2.0.0",
      "model_name": "HTMLModel",
      "state": {
       "layout": "IPY_MODEL_468581f8cddc4e7bb1610ac6320b66b7",
       "style": "IPY_MODEL_d13dd26971b44151b9d2858eba28a261",
       "value": "100%"
      }
     },
     "1f96bc76575143e0bbfa6f656bc14379": {
      "model_module": "@jupyter-widgets/base",
      "model_module_version": "2.0.0",
      "model_name": "LayoutModel",
      "state": {}
     },
     "1f98f10a0be946e8a023ccbd3bb84e77": {
      "model_module": "@jupyter-widgets/base",
      "model_module_version": "2.0.0",
      "model_name": "LayoutModel",
      "state": {}
     },
     "1fc2b21844534159a368b1806fac3a9b": {
      "model_module": "@jupyter-widgets/controls",
      "model_module_version": "2.0.0",
      "model_name": "DescriptionStyleModel",
      "state": {
       "description_width": ""
      }
     },
     "1fc82bd317434156a2e9298ba5e183fd": {
      "model_module": "@jupyter-widgets/controls",
      "model_module_version": "2.0.0",
      "model_name": "HTMLModel",
      "state": {
       "layout": "IPY_MODEL_cc49fe955bc9415abe5836ccaad61025",
       "style": "IPY_MODEL_ddd0a93088564db392114ce48622e704",
       "value": "100%"
      }
     },
     "1fe284f8d07f40878ff479927110d9b2": {
      "model_module": "@jupyter-widgets/controls",
      "model_module_version": "2.0.0",
      "model_name": "HBoxModel",
      "state": {
       "children": [
        "IPY_MODEL_d79d6b73af2144729bed6a955c95e6e1",
        "IPY_MODEL_c2fde99dd01245ec95f086a3473cf135",
        "IPY_MODEL_a0a6992b1429433fbbbaf3d5f05d24c3"
       ],
       "layout": "IPY_MODEL_98307e1ba8e542d28735e73168500439"
      }
     },
     "2014c622957f4172bf5538e7032073d7": {
      "model_module": "@jupyter-widgets/base",
      "model_module_version": "2.0.0",
      "model_name": "LayoutModel",
      "state": {}
     },
     "20e2e54ff7b6404a8ef36f22b44b6529": {
      "model_module": "@jupyter-widgets/controls",
      "model_module_version": "2.0.0",
      "model_name": "FloatProgressModel",
      "state": {
       "bar_style": "success",
       "layout": "IPY_MODEL_fdb9a369ccea4ed5983d9d8248c46c5d",
       "max": 14,
       "style": "IPY_MODEL_cd78b7965d4d428a8cb50a5b211e9793",
       "value": 14
      }
     },
     "2113a4d44df6462db4fa2f37d71cfcbd": {
      "model_module": "@jupyter-widgets/base",
      "model_module_version": "2.0.0",
      "model_name": "LayoutModel",
      "state": {}
     },
     "212dcdc1e2d240d883b18393d45acda8": {
      "model_module": "@jupyter-widgets/base",
      "model_module_version": "2.0.0",
      "model_name": "LayoutModel",
      "state": {}
     },
     "2170228775ec4e85803342171d2bcc44": {
      "model_module": "@jupyter-widgets/base",
      "model_module_version": "2.0.0",
      "model_name": "LayoutModel",
      "state": {}
     },
     "217746ae5f514b5cb74f459bb7394317": {
      "model_module": "@jupyter-widgets/base",
      "model_module_version": "2.0.0",
      "model_name": "LayoutModel",
      "state": {}
     },
     "219404a0aa80406fba4e1a59864e213e": {
      "model_module": "@jupyter-widgets/base",
      "model_module_version": "2.0.0",
      "model_name": "LayoutModel",
      "state": {}
     },
     "219afd487156452a86e2406576ecfcc9": {
      "model_module": "@jupyter-widgets/base",
      "model_module_version": "2.0.0",
      "model_name": "LayoutModel",
      "state": {}
     },
     "219d72dd2d2b4dd7b8bba69df5cbc177": {
      "model_module": "@jupyter-widgets/controls",
      "model_module_version": "2.0.0",
      "model_name": "FloatProgressModel",
      "state": {
       "bar_style": "success",
       "layout": "IPY_MODEL_eb54245568c3417f8c1a3e0308150b39",
       "max": 6,
       "style": "IPY_MODEL_b1ce81a067f24d3c90467c337ecb4f34",
       "value": 6
      }
     },
     "21b051ce1eb44d588eb8484bfb57c09c": {
      "model_module": "@jupyter-widgets/controls",
      "model_module_version": "2.0.0",
      "model_name": "HTMLModel",
      "state": {
       "layout": "IPY_MODEL_8b16a795483843d3b70dba6e1fd26a29",
       "style": "IPY_MODEL_845af8d2da2a4ab4ad8df8b4e2341619",
       "value": " 14/14 [00:34&lt;00:00,  2.59s/it]"
      }
     },
     "21d4e7e9c0ce4ddda97e55cf9f588e7c": {
      "model_module": "@jupyter-widgets/base",
      "model_module_version": "2.0.0",
      "model_name": "LayoutModel",
      "state": {}
     },
     "21f3def43b384e6aa18449eabe0dfc10": {
      "model_module": "@jupyter-widgets/controls",
      "model_module_version": "2.0.0",
      "model_name": "FloatProgressModel",
      "state": {
       "bar_style": "success",
       "layout": "IPY_MODEL_2ea3d3d9620148b8b3d58795d768afb2",
       "max": 6,
       "style": "IPY_MODEL_01d8f884022a47efb55c154520a685d5",
       "value": 6
      }
     },
     "227e83a28aa846ed87ea1bffc6e15c16": {
      "model_module": "@jupyter-widgets/controls",
      "model_module_version": "2.0.0",
      "model_name": "HTMLStyleModel",
      "state": {
       "description_width": "",
       "font_size": null,
       "text_color": null
      }
     },
     "2288d78992024f17b4c33d51aa323edd": {
      "model_module": "@jupyter-widgets/controls",
      "model_module_version": "2.0.0",
      "model_name": "HTMLModel",
      "state": {
       "layout": "IPY_MODEL_aaad4ca2ef0e400c861ec129402d025e",
       "style": "IPY_MODEL_cac094dfafa64d289e942e132ec9e84f",
       "value": " 6/6 [00:11&lt;00:00,  2.82s/it]"
      }
     },
     "229395b963b84118856df1a35e4fc8fe": {
      "model_module": "@jupyter-widgets/controls",
      "model_module_version": "2.0.0",
      "model_name": "HBoxModel",
      "state": {
       "children": [
        "IPY_MODEL_dcca8bf40bd64061b09a211cc68bba61",
        "IPY_MODEL_1b128390ad5d40609c6853ee0320d36b",
        "IPY_MODEL_82fb3cf99ebb4e96ac943460c9281ad7"
       ],
       "layout": "IPY_MODEL_e59fd9367547423fbe88c0a69e5b5d4f"
      }
     },
     "229cd52eb0e84464ba9215674f6cc175": {
      "model_module": "@jupyter-widgets/controls",
      "model_module_version": "2.0.0",
      "model_name": "HTMLModel",
      "state": {
       "layout": "IPY_MODEL_5cc7f457a2334e71bb5f436ae46c336e",
       "style": "IPY_MODEL_7656a75fac334758bff1db99160dd95b",
       "value": "100%"
      }
     },
     "22eb8c8a0e00490a9134f86bf95f647a": {
      "model_module": "@jupyter-widgets/controls",
      "model_module_version": "2.0.0",
      "model_name": "DescriptionStyleModel",
      "state": {
       "description_width": ""
      }
     },
     "22fd4ea1bcd34be88b6b8c7fe475ca29": {
      "model_module": "@jupyter-widgets/controls",
      "model_module_version": "2.0.0",
      "model_name": "HBoxModel",
      "state": {
       "children": [
        "IPY_MODEL_417fab544a4646ed858872a9006749d0",
        "IPY_MODEL_16fb2ba10ca54fe5b113a07e4b74a364",
        "IPY_MODEL_eba97bc2fe554e4d89a75a68452728ea"
       ],
       "layout": "IPY_MODEL_0d4cdb3348194428b360906169fcc25e"
      }
     },
     "23242f0b8c324c04b28740701db618b7": {
      "model_module": "@jupyter-widgets/controls",
      "model_module_version": "2.0.0",
      "model_name": "HBoxModel",
      "state": {
       "children": [
        "IPY_MODEL_802c5562f59f42ef96997de1b9feb3b5",
        "IPY_MODEL_5082c28037254c02a2c7b11b1fec3d24",
        "IPY_MODEL_cb08a9ff3d324eb28b1c29892c887232"
       ],
       "layout": "IPY_MODEL_01d8b4a699f146feb03b588bf69025c8"
      }
     },
     "23305649c3294c339f312c5895d8215e": {
      "model_module": "@jupyter-widgets/base",
      "model_module_version": "2.0.0",
      "model_name": "LayoutModel",
      "state": {}
     },
     "234e24831a0f4f43bc69f819aff734ef": {
      "model_module": "@jupyter-widgets/base",
      "model_module_version": "2.0.0",
      "model_name": "LayoutModel",
      "state": {}
     },
     "23d02aee6f02490688abd31c971c5a82": {
      "model_module": "@jupyter-widgets/controls",
      "model_module_version": "2.0.0",
      "model_name": "DescriptionStyleModel",
      "state": {
       "description_width": ""
      }
     },
     "23f649b8681c4860bb7c7d5a1e876cac": {
      "model_module": "@jupyter-widgets/base",
      "model_module_version": "2.0.0",
      "model_name": "LayoutModel",
      "state": {}
     },
     "23ff1d5181ff474a8548c4341dace698": {
      "model_module": "@jupyter-widgets/controls",
      "model_module_version": "2.0.0",
      "model_name": "DescriptionStyleModel",
      "state": {
       "description_width": ""
      }
     },
     "240ac9bfcfca4ee1b8552b0aa6b1c30d": {
      "model_module": "@jupyter-widgets/base",
      "model_module_version": "2.0.0",
      "model_name": "LayoutModel",
      "state": {}
     },
     "2493d03c7bd34717904cab4538dd29ad": {
      "model_module": "@jupyter-widgets/base",
      "model_module_version": "2.0.0",
      "model_name": "LayoutModel",
      "state": {}
     },
     "24aeaa95de3f4885976b8a9a38c9b3bf": {
      "model_module": "@jupyter-widgets/controls",
      "model_module_version": "2.0.0",
      "model_name": "ProgressStyleModel",
      "state": {
       "description_width": ""
      }
     },
     "2503dfb81f4847be8a2dd83ba9fce570": {
      "model_module": "@jupyter-widgets/base",
      "model_module_version": "2.0.0",
      "model_name": "LayoutModel",
      "state": {}
     },
     "2551adbdd0364fdcb7901efe8a24fbd1": {
      "model_module": "@jupyter-widgets/controls",
      "model_module_version": "2.0.0",
      "model_name": "FloatProgressModel",
      "state": {
       "bar_style": "success",
       "layout": "IPY_MODEL_a362902f497348d289d27ca0913068fe",
       "max": 3,
       "style": "IPY_MODEL_ab4c0e768492431bbb35ce04a23dce63",
       "value": 3
      }
     },
     "25604506d9dd4215b59f34d9b049de1a": {
      "model_module": "@jupyter-widgets/controls",
      "model_module_version": "2.0.0",
      "model_name": "HBoxModel",
      "state": {
       "children": [
        "IPY_MODEL_1004c413f391408aa53526d8882d9ea5",
        "IPY_MODEL_6ab2c800eaef42e4a286a0aab35ed190",
        "IPY_MODEL_e70f3c2d70b247df9fb2de2b32a22bdd"
       ],
       "layout": "IPY_MODEL_21d4e7e9c0ce4ddda97e55cf9f588e7c"
      }
     },
     "25903453397444dc8539ba4a20d941d7": {
      "model_module": "@jupyter-widgets/controls",
      "model_module_version": "2.0.0",
      "model_name": "FloatProgressModel",
      "state": {
       "bar_style": "success",
       "layout": "IPY_MODEL_bcd1686c6e77476086983a24fa87b982",
       "max": 14,
       "style": "IPY_MODEL_63496197b64c4981aa1841e5dd0ed3a2",
       "value": 14
      }
     },
     "25c6f48933ff4136bbdfb125b1cd897e": {
      "model_module": "@jupyter-widgets/controls",
      "model_module_version": "2.0.0",
      "model_name": "HTMLModel",
      "state": {
       "layout": "IPY_MODEL_cc70f9b3c01c457b99cccc2760db08c8",
       "style": "IPY_MODEL_672d456870d44b42957d9ad3669127cc",
       "value": " 3/3 [00:10&lt;00:00,  4.27s/it]"
      }
     },
     "2675acb784a64d10b3c0d15cb32666e4": {
      "model_module": "@jupyter-widgets/base",
      "model_module_version": "2.0.0",
      "model_name": "LayoutModel",
      "state": {}
     },
     "2687f4e65b9f494d85e66a18985cc115": {
      "model_module": "@jupyter-widgets/controls",
      "model_module_version": "2.0.0",
      "model_name": "HTMLModel",
      "state": {
       "layout": "IPY_MODEL_1738612afc9045d2aacc3f7bf1bf54c1",
       "style": "IPY_MODEL_d46e3a69176d4082bb5494990e3ecd88",
       "value": " 6/6 [00:08&lt;00:00,  1.97s/it]"
      }
     },
     "269217df1e414f15bbce58c8f7f3d364": {
      "model_module": "@jupyter-widgets/base",
      "model_module_version": "2.0.0",
      "model_name": "LayoutModel",
      "state": {}
     },
     "269c6b9560904cc29f2828362cebce81": {
      "model_module": "@jupyter-widgets/controls",
      "model_module_version": "2.0.0",
      "model_name": "HTMLStyleModel",
      "state": {
       "description_width": "",
       "font_size": null,
       "text_color": null
      }
     },
     "26ee41edcc1d4611b2c3bf8d590a98f1": {
      "model_module": "@jupyter-widgets/base",
      "model_module_version": "2.0.0",
      "model_name": "LayoutModel",
      "state": {}
     },
     "271558bdfe944780b3e8a65d2bfe1626": {
      "model_module": "@jupyter-widgets/base",
      "model_module_version": "2.0.0",
      "model_name": "LayoutModel",
      "state": {}
     },
     "271e20a9175e435b9e432bb49ff28515": {
      "model_module": "@jupyter-widgets/base",
      "model_module_version": "2.0.0",
      "model_name": "LayoutModel",
      "state": {}
     },
     "273b1ed998a24d33896bf669abd17f2d": {
      "model_module": "@jupyter-widgets/controls",
      "model_module_version": "2.0.0",
      "model_name": "HTMLModel",
      "state": {
       "layout": "IPY_MODEL_09ee37cbf2df41f5b293113c69bb3a24",
       "style": "IPY_MODEL_506a403f0fdc4f9f8b85aa651285d720",
       "value": " 3/3 [00:10&lt;00:00,  4.07s/it]"
      }
     },
     "274cfec487e047da9460c594076afe69": {
      "model_module": "@jupyter-widgets/controls",
      "model_module_version": "2.0.0",
      "model_name": "HTMLStyleModel",
      "state": {
       "description_width": "",
       "font_size": null,
       "text_color": null
      }
     },
     "2763bab54f6b4f9b9850c8136f67ce38": {
      "model_module": "@jupyter-widgets/controls",
      "model_module_version": "2.0.0",
      "model_name": "ProgressStyleModel",
      "state": {
       "description_width": ""
      }
     },
     "276ce3320f1349639ffd64105f12b350": {
      "model_module": "@jupyter-widgets/base",
      "model_module_version": "2.0.0",
      "model_name": "LayoutModel",
      "state": {}
     },
     "277200fb6799495b95bad3fe02217797": {
      "model_module": "@jupyter-widgets/controls",
      "model_module_version": "2.0.0",
      "model_name": "HBoxModel",
      "state": {
       "children": [
        "IPY_MODEL_4702939ba6f34c9b95242c92bc25156a",
        "IPY_MODEL_f1e99bec5c1a4eb288eb61fa64cd9703",
        "IPY_MODEL_ab8f355ae7164f8b8c9686ea6c91a7a6"
       ],
       "layout": "IPY_MODEL_54c1c14ecefb49e9b1f7fd2138320a0d"
      }
     },
     "2796d4640e4c4e929e33d1c64b9f54fc": {
      "model_module": "@jupyter-widgets/controls",
      "model_module_version": "2.0.0",
      "model_name": "HTMLModel",
      "state": {
       "layout": "IPY_MODEL_ce1f0f894a92465db9af08981e3b5c55",
       "style": "IPY_MODEL_e6601afb4f444433a8d2e37f465f45ab",
       "value": " 8/14 [00:15&lt;00:17,  2.86s/it]"
      }
     },
     "27eeaee083424c1f81fecc56dea27a6d": {
      "model_module": "@jupyter-widgets/controls",
      "model_module_version": "2.0.0",
      "model_name": "FloatProgressModel",
      "state": {
       "bar_style": "success",
       "layout": "IPY_MODEL_23f649b8681c4860bb7c7d5a1e876cac",
       "max": 14,
       "style": "IPY_MODEL_b6148f8af3974dfd862a9b5fe1ab3bd7",
       "value": 14
      }
     },
     "2820391b62434f3d8c4aaf1ce302cf30": {
      "model_module": "@jupyter-widgets/controls",
      "model_module_version": "2.0.0",
      "model_name": "HBoxModel",
      "state": {
       "children": [
        "IPY_MODEL_06e417298e2e4c93bfd44db90d47d077",
        "IPY_MODEL_16db80d7528e45a79bb7708b65544c05",
        "IPY_MODEL_b56f52d366d44191901d75a4215ee301"
       ],
       "layout": "IPY_MODEL_90220a88101d49e888b6f83bfb6df436"
      }
     },
     "287a7573648040f38d693b279d747f3b": {
      "model_module": "@jupyter-widgets/controls",
      "model_module_version": "2.0.0",
      "model_name": "DescriptionStyleModel",
      "state": {
       "description_width": ""
      }
     },
     "28d7d40964e34064a071c4f266111d5e": {
      "model_module": "@jupyter-widgets/controls",
      "model_module_version": "2.0.0",
      "model_name": "HTMLModel",
      "state": {
       "layout": "IPY_MODEL_a05d377b458949ba8d7dfb4733c297c6",
       "style": "IPY_MODEL_9f05b8a4032d4eeaa91f17c8df6043fd",
       "value": " 14/14 [00:34&lt;00:00,  2.58s/it]"
      }
     },
     "291c07312d7647979fa567eec843280e": {
      "model_module": "@jupyter-widgets/base",
      "model_module_version": "2.0.0",
      "model_name": "LayoutModel",
      "state": {}
     },
     "295a8a63e0a94d208ade3affb9d68e12": {
      "model_module": "@jupyter-widgets/controls",
      "model_module_version": "2.0.0",
      "model_name": "FloatProgressModel",
      "state": {
       "bar_style": "success",
       "layout": "IPY_MODEL_9ac45458d0f9497bac72211e8da9c1ce",
       "max": 14,
       "style": "IPY_MODEL_6ce6dc7f238243caaf36f8495409d552",
       "value": 14
      }
     },
     "298d55ec99f54dcd8e73ef8eba7e4595": {
      "model_module": "@jupyter-widgets/controls",
      "model_module_version": "2.0.0",
      "model_name": "FloatProgressModel",
      "state": {
       "bar_style": "success",
       "layout": "IPY_MODEL_3454421d51a5473faae3117d722bcde8",
       "max": 3,
       "style": "IPY_MODEL_ceb09d33dd824785acf3458f0f6f5b90",
       "value": 3
      }
     },
     "2a1b43fb3d5e41dbaad395e88d69dc17": {
      "model_module": "@jupyter-widgets/controls",
      "model_module_version": "2.0.0",
      "model_name": "DescriptionStyleModel",
      "state": {
       "description_width": ""
      }
     },
     "2a2a37aad76a438cae578d3ae288b46b": {
      "model_module": "@jupyter-widgets/base",
      "model_module_version": "2.0.0",
      "model_name": "LayoutModel",
      "state": {}
     },
     "2a462a43f7d74fce8b387d4a583712ec": {
      "model_module": "@jupyter-widgets/base",
      "model_module_version": "2.0.0",
      "model_name": "LayoutModel",
      "state": {}
     },
     "2a65240a15d4499fbd0cf942492a4711": {
      "model_module": "@jupyter-widgets/controls",
      "model_module_version": "2.0.0",
      "model_name": "HBoxModel",
      "state": {
       "children": [
        "IPY_MODEL_e2bebc0e11bb4c67b655a2bb0e52d17c",
        "IPY_MODEL_295a8a63e0a94d208ade3affb9d68e12",
        "IPY_MODEL_74b05596216a49a1b150b9be0061ffef"
       ],
       "layout": "IPY_MODEL_0264a0f5edbd4d84b646529d5900ab46"
      }
     },
     "2a75bc70851b42b69eacea7343414dbb": {
      "model_module": "@jupyter-widgets/controls",
      "model_module_version": "2.0.0",
      "model_name": "DescriptionStyleModel",
      "state": {
       "description_width": ""
      }
     },
     "2b00516e0d2f4aa38eb103470d68f748": {
      "model_module": "@jupyter-widgets/controls",
      "model_module_version": "2.0.0",
      "model_name": "HTMLModel",
      "state": {
       "layout": "IPY_MODEL_3cda17e2deb342b08a1a07c1f5b64474",
       "style": "IPY_MODEL_97d2f02d0fb04261aec409b6acb27725",
       "value": "100%"
      }
     },
     "2b06f801070a48a5bb5f39f5577cf5f1": {
      "model_module": "@jupyter-widgets/controls",
      "model_module_version": "2.0.0",
      "model_name": "HTMLModel",
      "state": {
       "layout": "IPY_MODEL_539f0d72dd3543fbad79611d9f1bd031",
       "style": "IPY_MODEL_55e7a37abac24908961c342bc93befe3",
       "value": "100%"
      }
     },
     "2bde0fcb4f0c49e49f7641beef0d42bf": {
      "model_module": "@jupyter-widgets/controls",
      "model_module_version": "2.0.0",
      "model_name": "HBoxModel",
      "state": {
       "children": [
        "IPY_MODEL_a92590bf59d342f794d3708da665facf",
        "IPY_MODEL_d828002b1a404756b8f9dbfc96b1ffc1",
        "IPY_MODEL_8f744712f1da42b693089113de819dfb"
       ],
       "layout": "IPY_MODEL_1afd9b14111e46ce980a6e0b1d6e4560"
      }
     },
     "2cede2330d884562a62166d0d62dcd9b": {
      "model_module": "@jupyter-widgets/controls",
      "model_module_version": "2.0.0",
      "model_name": "HTMLModel",
      "state": {
       "layout": "IPY_MODEL_384d6f8e187a4707b65a2681e16fe7c3",
       "style": "IPY_MODEL_009b2957b305415891bb4aed8cebb918",
       "value": "100%"
      }
     },
     "2d314896d673436ca34fb2700ce24e3f": {
      "model_module": "@jupyter-widgets/controls",
      "model_module_version": "2.0.0",
      "model_name": "ProgressStyleModel",
      "state": {
       "description_width": ""
      }
     },
     "2d3c1b2fd2cc4a93801046220e37b45b": {
      "model_module": "@jupyter-widgets/controls",
      "model_module_version": "2.0.0",
      "model_name": "HBoxModel",
      "state": {
       "children": [
        "IPY_MODEL_ff7181daebce46c8a92713b3908a3645",
        "IPY_MODEL_306500c09d4a4504b0e75f825b372fb8",
        "IPY_MODEL_32176fcf74d844e6b25ff2e5158bb5eb"
       ],
       "layout": "IPY_MODEL_801c18dea9304ecbb6bb0636069827d4"
      }
     },
     "2d42c6d71c264d4b9b14ffa02a354d67": {
      "model_module": "@jupyter-widgets/base",
      "model_module_version": "2.0.0",
      "model_name": "LayoutModel",
      "state": {}
     },
     "2dadb4f5dece4bcc8627747de19f2efb": {
      "model_module": "@jupyter-widgets/controls",
      "model_module_version": "2.0.0",
      "model_name": "ProgressStyleModel",
      "state": {
       "description_width": ""
      }
     },
     "2e67d915b16444b9b3a482f2cd5cc527": {
      "model_module": "@jupyter-widgets/base",
      "model_module_version": "2.0.0",
      "model_name": "LayoutModel",
      "state": {}
     },
     "2ea3d3d9620148b8b3d58795d768afb2": {
      "model_module": "@jupyter-widgets/base",
      "model_module_version": "2.0.0",
      "model_name": "LayoutModel",
      "state": {}
     },
     "2efac13743ad48a393316dbb618326c8": {
      "model_module": "@jupyter-widgets/base",
      "model_module_version": "2.0.0",
      "model_name": "LayoutModel",
      "state": {}
     },
     "2f5c5af2a7194cbe9dede0e4b86308d8": {
      "model_module": "@jupyter-widgets/base",
      "model_module_version": "2.0.0",
      "model_name": "LayoutModel",
      "state": {}
     },
     "2feda786b216462abb1de9b6c3309cd7": {
      "model_module": "@jupyter-widgets/controls",
      "model_module_version": "2.0.0",
      "model_name": "HBoxModel",
      "state": {
       "children": [
        "IPY_MODEL_e98c8a8741464f7d89d4b1b0c4ba928e",
        "IPY_MODEL_71c16ffe2b024132b2cf659c64ff8904",
        "IPY_MODEL_cbe0ed1b6adb4f9ab4b90bafbb80e6c2"
       ],
       "layout": "IPY_MODEL_3611cc15566d491ea3d1ecf6979ec2fc"
      }
     },
     "3007aa1f6ee741e29dae0f62533f5049": {
      "model_module": "@jupyter-widgets/controls",
      "model_module_version": "2.0.0",
      "model_name": "DescriptionStyleModel",
      "state": {
       "description_width": ""
      }
     },
     "305aca9f3f244ad0b9b26ed91ec3af33": {
      "model_module": "@jupyter-widgets/base",
      "model_module_version": "2.0.0",
      "model_name": "LayoutModel",
      "state": {}
     },
     "306500c09d4a4504b0e75f825b372fb8": {
      "model_module": "@jupyter-widgets/controls",
      "model_module_version": "2.0.0",
      "model_name": "FloatProgressModel",
      "state": {
       "bar_style": "success",
       "layout": "IPY_MODEL_4627a97cda92444ba7641b387f1ae6bc",
       "max": 8,
       "style": "IPY_MODEL_bf2f79d4b8554fe0a9096bcceea7454d",
       "value": 8
      }
     },
     "30713ba3edd24ada839b9c13e1c290ff": {
      "model_module": "@jupyter-widgets/controls",
      "model_module_version": "2.0.0",
      "model_name": "HBoxModel",
      "state": {
       "children": [
        "IPY_MODEL_320e498a8ce44472bed31c2cb114f16d",
        "IPY_MODEL_3b059e86837346c498a31efea6bf754f",
        "IPY_MODEL_ba7005dc539b433c853dc0d5edf5deb3"
       ],
       "layout": "IPY_MODEL_f8f2b91fd5f749c1a9005b5678f313bc"
      }
     },
     "3088d09c6b51431da8feba468e073631": {
      "model_module": "@jupyter-widgets/base",
      "model_module_version": "2.0.0",
      "model_name": "LayoutModel",
      "state": {}
     },
     "3095d5471968403f8ffde3590444ba81": {
      "model_module": "@jupyter-widgets/base",
      "model_module_version": "2.0.0",
      "model_name": "LayoutModel",
      "state": {}
     },
     "30abf8ccf99543268d1324b1c5b5ed78": {
      "model_module": "@jupyter-widgets/base",
      "model_module_version": "2.0.0",
      "model_name": "LayoutModel",
      "state": {}
     },
     "30ea388980cf4a02882332baed3e3218": {
      "model_module": "@jupyter-widgets/controls",
      "model_module_version": "2.0.0",
      "model_name": "HBoxModel",
      "state": {
       "children": [
        "IPY_MODEL_adeb3d409ce9403b90fbd2fabd5b7981",
        "IPY_MODEL_0b1b5e2e830e40bb969f2adc1614aea5",
        "IPY_MODEL_9bd67eb962624cffae4c442e70298f11"
       ],
       "layout": "IPY_MODEL_2f5c5af2a7194cbe9dede0e4b86308d8"
      }
     },
     "30ebffb12b0f4b59abeb9b83b0a6fbdc": {
      "model_module": "@jupyter-widgets/base",
      "model_module_version": "2.0.0",
      "model_name": "LayoutModel",
      "state": {}
     },
     "30edfff582484b6493b79792a84b5d78": {
      "model_module": "@jupyter-widgets/base",
      "model_module_version": "2.0.0",
      "model_name": "LayoutModel",
      "state": {}
     },
     "310227bd46d14740a6e6c01f119281fe": {
      "model_module": "@jupyter-widgets/base",
      "model_module_version": "2.0.0",
      "model_name": "LayoutModel",
      "state": {}
     },
     "313184218519478e81dcb94e3da68a3e": {
      "model_module": "@jupyter-widgets/base",
      "model_module_version": "2.0.0",
      "model_name": "LayoutModel",
      "state": {}
     },
     "317058f3878e4108b4079aa84dd60582": {
      "model_module": "@jupyter-widgets/controls",
      "model_module_version": "2.0.0",
      "model_name": "HBoxModel",
      "state": {
       "children": [
        "IPY_MODEL_5d095f99d4c945618fe22682b2919f7f",
        "IPY_MODEL_b42c1ce5b32b407192f3a3d0cc1e8d5c",
        "IPY_MODEL_c699b778decd49ad962699ab3183abb0"
       ],
       "layout": "IPY_MODEL_4936dc8dbc6d405c956ddce5f6a5221e"
      }
     },
     "3178ada1cf22496f9e0de37eba7c5d31": {
      "model_module": "@jupyter-widgets/controls",
      "model_module_version": "2.0.0",
      "model_name": "HTMLModel",
      "state": {
       "layout": "IPY_MODEL_0a8273abf4b04fcfa266ece21ec57dc2",
       "style": "IPY_MODEL_eb0aa6c7a1894f94bcde787892e4921b",
       "value": "100%"
      }
     },
     "317d72de13f547c78f6388a685253365": {
      "model_module": "@jupyter-widgets/controls",
      "model_module_version": "2.0.0",
      "model_name": "DescriptionStyleModel",
      "state": {
       "description_width": ""
      }
     },
     "317facdbf72e446fb5da04ed0647fdad": {
      "model_module": "@jupyter-widgets/base",
      "model_module_version": "2.0.0",
      "model_name": "LayoutModel",
      "state": {}
     },
     "31ad866963ca421385351d2b52b2465d": {
      "model_module": "@jupyter-widgets/controls",
      "model_module_version": "2.0.0",
      "model_name": "HTMLModel",
      "state": {
       "layout": "IPY_MODEL_4b8fe3f450344df59adf09dfde46461c",
       "style": "IPY_MODEL_f02c4f5a3cc94e6a894dfcdd90c4a76c",
       "value": "100%"
      }
     },
     "31b974d56faf4275a2224373ca792f0c": {
      "model_module": "@jupyter-widgets/controls",
      "model_module_version": "2.0.0",
      "model_name": "HTMLStyleModel",
      "state": {
       "description_width": "",
       "font_size": null,
       "text_color": null
      }
     },
     "320e498a8ce44472bed31c2cb114f16d": {
      "model_module": "@jupyter-widgets/controls",
      "model_module_version": "2.0.0",
      "model_name": "HTMLModel",
      "state": {
       "layout": "IPY_MODEL_7e6cc6a679764955ae923d5a7ffce52d",
       "style": "IPY_MODEL_b24610b68ced4adca0b9b6b56cd9fbbc",
       "value": "100%"
      }
     },
     "32176fcf74d844e6b25ff2e5158bb5eb": {
      "model_module": "@jupyter-widgets/controls",
      "model_module_version": "2.0.0",
      "model_name": "HTMLModel",
      "state": {
       "layout": "IPY_MODEL_d1d58a82f6344ab2a101af2e41334a21",
       "style": "IPY_MODEL_af321bf03d344ab5bbf27ecfd4df46e1",
       "value": " 8/8 [00:31&lt;00:00,  4.88s/it]"
      }
     },
     "323409be01bc4fac9783bd8238d5b4de": {
      "model_module": "@jupyter-widgets/base",
      "model_module_version": "2.0.0",
      "model_name": "LayoutModel",
      "state": {}
     },
     "3282bc86098446bebd1e8f06a0a2af04": {
      "model_module": "@jupyter-widgets/controls",
      "model_module_version": "2.0.0",
      "model_name": "DescriptionStyleModel",
      "state": {
       "description_width": ""
      }
     },
     "32e522644e3548eeb2a61abd4431c1dc": {
      "model_module": "@jupyter-widgets/base",
      "model_module_version": "2.0.0",
      "model_name": "LayoutModel",
      "state": {}
     },
     "3304e1dd48ff49ecb920ff68b7dbacaa": {
      "model_module": "@jupyter-widgets/base",
      "model_module_version": "2.0.0",
      "model_name": "LayoutModel",
      "state": {}
     },
     "332676bbba814a449eedc22d227442ce": {
      "model_module": "@jupyter-widgets/controls",
      "model_module_version": "2.0.0",
      "model_name": "ProgressStyleModel",
      "state": {
       "description_width": ""
      }
     },
     "332e05a71fd2414fab6ab38afc22187c": {
      "model_module": "@jupyter-widgets/controls",
      "model_module_version": "2.0.0",
      "model_name": "HTMLModel",
      "state": {
       "layout": "IPY_MODEL_58e730ffdfd4482091cdaf8077d0cb8d",
       "style": "IPY_MODEL_85d9ce7fbbea4356a2844cb8e9bd2564",
       "value": "100%"
      }
     },
     "334435f8ee8b43159cafd77d58d41c79": {
      "model_module": "@jupyter-widgets/controls",
      "model_module_version": "2.0.0",
      "model_name": "ProgressStyleModel",
      "state": {
       "description_width": ""
      }
     },
     "334b08b1d51a4a27ba72938258be0194": {
      "model_module": "@jupyter-widgets/controls",
      "model_module_version": "2.0.0",
      "model_name": "HTMLStyleModel",
      "state": {
       "description_width": "",
       "font_size": null,
       "text_color": null
      }
     },
     "335359af048044b68a622eeed260338f": {
      "model_module": "@jupyter-widgets/controls",
      "model_module_version": "2.0.0",
      "model_name": "HTMLModel",
      "state": {
       "layout": "IPY_MODEL_caae53edbd58462cbc39966b1649dff7",
       "style": "IPY_MODEL_aa3734b8439c46588fafe5f7b191bb02",
       "value": " 57%"
      }
     },
     "335ac4086e8e40ea906ff302e06b35ec": {
      "model_module": "@jupyter-widgets/base",
      "model_module_version": "2.0.0",
      "model_name": "LayoutModel",
      "state": {}
     },
     "33e227418c11451eaa71da98a73824de": {
      "model_module": "@jupyter-widgets/base",
      "model_module_version": "2.0.0",
      "model_name": "LayoutModel",
      "state": {}
     },
     "3417b3ebb03f4797818201cd315cc5d6": {
      "model_module": "@jupyter-widgets/controls",
      "model_module_version": "2.0.0",
      "model_name": "HTMLModel",
      "state": {
       "layout": "IPY_MODEL_625a723425fa4d9990a4c0a5613fc01c",
       "style": "IPY_MODEL_e9851f713d7243c19f16d596d8687237",
       "value": "100%"
      }
     },
     "341a7cfa9b9240699db09f61bf95cb69": {
      "model_module": "@jupyter-widgets/controls",
      "model_module_version": "2.0.0",
      "model_name": "FloatProgressModel",
      "state": {
       "bar_style": "success",
       "layout": "IPY_MODEL_47338d97ff134b4ba576a42cb2a64c8d",
       "max": 3,
       "style": "IPY_MODEL_e1c181b12aa041edae8c0265a09202d8",
       "value": 3
      }
     },
     "3454421d51a5473faae3117d722bcde8": {
      "model_module": "@jupyter-widgets/base",
      "model_module_version": "2.0.0",
      "model_name": "LayoutModel",
      "state": {}
     },
     "34606ce89b63484aad57b4a2d451950c": {
      "model_module": "@jupyter-widgets/controls",
      "model_module_version": "2.0.0",
      "model_name": "HTMLModel",
      "state": {
       "layout": "IPY_MODEL_49c8c6d9bde6402bb4136d37f94c0fee",
       "style": "IPY_MODEL_c25231556e594901b84222ec98cfa76c",
       "value": "100%"
      }
     },
     "348a6bbab1df499393ae546399d44ddd": {
      "model_module": "@jupyter-widgets/controls",
      "model_module_version": "2.0.0",
      "model_name": "FloatProgressModel",
      "state": {
       "bar_style": "success",
       "layout": "IPY_MODEL_10ea0838335d4ae1bb579ef325c49f1d",
       "max": 6,
       "style": "IPY_MODEL_12376590b1cc4543ba04cb2c3624454c",
       "value": 6
      }
     },
     "354441ea960046e78181c0039137b821": {
      "model_module": "@jupyter-widgets/base",
      "model_module_version": "2.0.0",
      "model_name": "LayoutModel",
      "state": {}
     },
     "35a3c9c7f0a84db7b11166c968c8e8c5": {
      "model_module": "@jupyter-widgets/base",
      "model_module_version": "2.0.0",
      "model_name": "LayoutModel",
      "state": {}
     },
     "3611cc15566d491ea3d1ecf6979ec2fc": {
      "model_module": "@jupyter-widgets/base",
      "model_module_version": "2.0.0",
      "model_name": "LayoutModel",
      "state": {}
     },
     "361f76237aa24315b59c5ca16a22a090": {
      "model_module": "@jupyter-widgets/controls",
      "model_module_version": "2.0.0",
      "model_name": "HTMLModel",
      "state": {
       "layout": "IPY_MODEL_ce39bf113fa24c5a9c3d66bf8827fbe9",
       "style": "IPY_MODEL_cd5ec6a0899a4ec3bf44ab5113ec9831",
       "value": " 6/6 [00:11&lt;00:00,  2.81s/it]"
      }
     },
     "36b244b936554e89b66a62ccb92cddff": {
      "model_module": "@jupyter-widgets/controls",
      "model_module_version": "2.0.0",
      "model_name": "HTMLModel",
      "state": {
       "layout": "IPY_MODEL_ee859f8513d14fd2a184aee7c23944ab",
       "style": "IPY_MODEL_e3bb59a05fb8415c83eb1f0ab2bfbf5f",
       "value": "100%"
      }
     },
     "376f7f735cd6494b93669863dd2219d1": {
      "model_module": "@jupyter-widgets/controls",
      "model_module_version": "2.0.0",
      "model_name": "ProgressStyleModel",
      "state": {
       "description_width": ""
      }
     },
     "384d6f8e187a4707b65a2681e16fe7c3": {
      "model_module": "@jupyter-widgets/base",
      "model_module_version": "2.0.0",
      "model_name": "LayoutModel",
      "state": {}
     },
     "385052d0c22a494c95a54f3ec5ca9ea2": {
      "model_module": "@jupyter-widgets/base",
      "model_module_version": "2.0.0",
      "model_name": "LayoutModel",
      "state": {}
     },
     "38b365b1201f4397953d51a62aaf4e80": {
      "model_module": "@jupyter-widgets/controls",
      "model_module_version": "2.0.0",
      "model_name": "HTMLStyleModel",
      "state": {
       "description_width": "",
       "font_size": null,
       "text_color": null
      }
     },
     "38b3f926069543699e7356d6fb50128f": {
      "model_module": "@jupyter-widgets/base",
      "model_module_version": "2.0.0",
      "model_name": "LayoutModel",
      "state": {}
     },
     "394586c584cb4ba4a4e8e82ff2f12879": {
      "model_module": "@jupyter-widgets/controls",
      "model_module_version": "2.0.0",
      "model_name": "HTMLModel",
      "state": {
       "layout": "IPY_MODEL_03cf710d075a49579d410930b6fbacf4",
       "style": "IPY_MODEL_1d1d0262b04541a6a88b8cfc2026e946",
       "value": "100%"
      }
     },
     "39492984205c40f9a2c80345c5accd4d": {
      "model_module": "@jupyter-widgets/base",
      "model_module_version": "2.0.0",
      "model_name": "LayoutModel",
      "state": {}
     },
     "3979d488f5ca4bb7b9752f190f516e49": {
      "model_module": "@jupyter-widgets/base",
      "model_module_version": "2.0.0",
      "model_name": "LayoutModel",
      "state": {}
     },
     "39954bc2a54d43c78994d415f66343e6": {
      "model_module": "@jupyter-widgets/base",
      "model_module_version": "2.0.0",
      "model_name": "LayoutModel",
      "state": {}
     },
     "39ba132769b346d3807f8ffdb35ef4ef": {
      "model_module": "@jupyter-widgets/controls",
      "model_module_version": "2.0.0",
      "model_name": "HTMLModel",
      "state": {
       "layout": "IPY_MODEL_e67dee11d433417985572ac96d041333",
       "style": "IPY_MODEL_e11500d7c68642fbb6c1587fa476ab91",
       "value": "100%"
      }
     },
     "3a71f9045ef64b82ae273c50b5be2d91": {
      "model_module": "@jupyter-widgets/controls",
      "model_module_version": "2.0.0",
      "model_name": "DescriptionStyleModel",
      "state": {
       "description_width": ""
      }
     },
     "3b059e86837346c498a31efea6bf754f": {
      "model_module": "@jupyter-widgets/controls",
      "model_module_version": "2.0.0",
      "model_name": "FloatProgressModel",
      "state": {
       "bar_style": "success",
       "layout": "IPY_MODEL_420b0dcef4f141b690b67d4328cbe628",
       "max": 6,
       "style": "IPY_MODEL_0955482db7ea401daacc4b71171b4096",
       "value": 6
      }
     },
     "3b0a2073456e43cbbc07113f5a06cd57": {
      "model_module": "@jupyter-widgets/base",
      "model_module_version": "2.0.0",
      "model_name": "LayoutModel",
      "state": {}
     },
     "3bf48ed08eed4ac5a645a04c7acea2f0": {
      "model_module": "@jupyter-widgets/controls",
      "model_module_version": "2.0.0",
      "model_name": "ProgressStyleModel",
      "state": {
       "description_width": ""
      }
     },
     "3c3b7115d2d34299bac7a54a435f0f3c": {
      "model_module": "@jupyter-widgets/base",
      "model_module_version": "2.0.0",
      "model_name": "LayoutModel",
      "state": {}
     },
     "3cc770638fe64170b64f98ec87ea9bbb": {
      "model_module": "@jupyter-widgets/controls",
      "model_module_version": "2.0.0",
      "model_name": "HTMLStyleModel",
      "state": {
       "description_width": "",
       "font_size": null,
       "text_color": null
      }
     },
     "3cc8526128264bb280238503853a9de7": {
      "model_module": "@jupyter-widgets/controls",
      "model_module_version": "2.0.0",
      "model_name": "DescriptionStyleModel",
      "state": {
       "description_width": ""
      }
     },
     "3cda17e2deb342b08a1a07c1f5b64474": {
      "model_module": "@jupyter-widgets/base",
      "model_module_version": "2.0.0",
      "model_name": "LayoutModel",
      "state": {}
     },
     "3d11387ee5bf45a7841f88bcba010856": {
      "model_module": "@jupyter-widgets/controls",
      "model_module_version": "2.0.0",
      "model_name": "FloatProgressModel",
      "state": {
       "bar_style": "success",
       "layout": "IPY_MODEL_7a28907fd43d4e51b721aa9335b3ddd1",
       "max": 6,
       "style": "IPY_MODEL_4f1b62d56e4841a0b8a437b1e7082159",
       "value": 6
      }
     },
     "3d166a7aee6444dbaa8ad4fbe9667ab8": {
      "model_module": "@jupyter-widgets/controls",
      "model_module_version": "2.0.0",
      "model_name": "FloatProgressModel",
      "state": {
       "bar_style": "success",
       "layout": "IPY_MODEL_30abf8ccf99543268d1324b1c5b5ed78",
       "max": 3,
       "style": "IPY_MODEL_2763bab54f6b4f9b9850c8136f67ce38",
       "value": 3
      }
     },
     "3d1cac7f5ee04ba786173b125cae00a4": {
      "model_module": "@jupyter-widgets/base",
      "model_module_version": "2.0.0",
      "model_name": "LayoutModel",
      "state": {}
     },
     "3d47e1796585418ca1b913a20708cefa": {
      "model_module": "@jupyter-widgets/controls",
      "model_module_version": "2.0.0",
      "model_name": "ProgressStyleModel",
      "state": {
       "description_width": ""
      }
     },
     "3d636d403f39459285ec539924773592": {
      "model_module": "@jupyter-widgets/controls",
      "model_module_version": "2.0.0",
      "model_name": "HBoxModel",
      "state": {
       "children": [
        "IPY_MODEL_31ad866963ca421385351d2b52b2465d",
        "IPY_MODEL_d7d389b119e943efb26c211533ca5275",
        "IPY_MODEL_4b6bce95eb034f8fa39251884eef9197"
       ],
       "layout": "IPY_MODEL_d790f3b779934eee8348804dd22ba3c1"
      }
     },
     "3d9c0e4cf5424a148ed3f6045f692b24": {
      "model_module": "@jupyter-widgets/controls",
      "model_module_version": "2.0.0",
      "model_name": "HTMLModel",
      "state": {
       "layout": "IPY_MODEL_ae857c0ea2034768aaa19e883a3f5fae",
       "style": "IPY_MODEL_461586af515a4296b87a80fa580a2f99",
       "value": "100%"
      }
     },
     "3da353bac79d453282b17d5e84055538": {
      "model_module": "@jupyter-widgets/base",
      "model_module_version": "2.0.0",
      "model_name": "LayoutModel",
      "state": {}
     },
     "3ddf5925f06b4d429e4f92bd152b3bec": {
      "model_module": "@jupyter-widgets/controls",
      "model_module_version": "2.0.0",
      "model_name": "HTMLModel",
      "state": {
       "layout": "IPY_MODEL_3f5f678c463f4cde99c45b47248d772d",
       "style": "IPY_MODEL_d7436bd261a3403b974de6b6da39f46a",
       "value": "100%"
      }
     },
     "3e038dd87e8e4559b113c386a0626299": {
      "model_module": "@jupyter-widgets/base",
      "model_module_version": "2.0.0",
      "model_name": "LayoutModel",
      "state": {}
     },
     "3e0b8257b09045b9bb0d57dfa5fc8945": {
      "model_module": "@jupyter-widgets/controls",
      "model_module_version": "2.0.0",
      "model_name": "HTMLModel",
      "state": {
       "layout": "IPY_MODEL_ff6c51d38ade449d9351b3aa712bc22e",
       "style": "IPY_MODEL_3007aa1f6ee741e29dae0f62533f5049",
       "value": "100%"
      }
     },
     "3e19c07dc568400ab3ee08655136390e": {
      "model_module": "@jupyter-widgets/controls",
      "model_module_version": "2.0.0",
      "model_name": "HBoxModel",
      "state": {
       "children": [
        "IPY_MODEL_4a2153b7870843a388965c1d13988aa1",
        "IPY_MODEL_5e4ab518bc7f4437b2e0d4d180d3eb3d",
        "IPY_MODEL_f5b2aff67783436c98d18958c3462638"
       ],
       "layout": "IPY_MODEL_bd439efb587f416c88473e2207f1de00"
      }
     },
     "3e39b41de3b441b9bf4aca91849f83ba": {
      "model_module": "@jupyter-widgets/controls",
      "model_module_version": "2.0.0",
      "model_name": "HTMLModel",
      "state": {
       "layout": "IPY_MODEL_4479826179dd4a00a99758a09b765c55",
       "style": "IPY_MODEL_b9ac73cbe2ab47b6a925b4af56855006",
       "value": " 3/3 [00:10&lt;00:00,  4.21s/it]"
      }
     },
     "3e41b6f6cbc4447a8970ae9f5bb50caf": {
      "model_module": "@jupyter-widgets/controls",
      "model_module_version": "2.0.0",
      "model_name": "ProgressStyleModel",
      "state": {
       "description_width": ""
      }
     },
     "3e57f777247b4598b82b5d44f6a95f1f": {
      "model_module": "@jupyter-widgets/controls",
      "model_module_version": "2.0.0",
      "model_name": "FloatProgressModel",
      "state": {
       "bar_style": "danger",
       "layout": "IPY_MODEL_c8a1210993ec476fbde009309209fc35",
       "max": 6,
       "style": "IPY_MODEL_f8689e845c5447c398f87941c18b50cf"
      }
     },
     "3e652183e9194bbeb3771a9fb7244611": {
      "model_module": "@jupyter-widgets/base",
      "model_module_version": "2.0.0",
      "model_name": "LayoutModel",
      "state": {}
     },
     "3ed6c93787754b44a7cee52d4c2da14b": {
      "model_module": "@jupyter-widgets/controls",
      "model_module_version": "2.0.0",
      "model_name": "HBoxModel",
      "state": {
       "children": [
        "IPY_MODEL_ca08d7ee14214e2ebed567205b819df1",
        "IPY_MODEL_631932574a4f478698da5bfd889c15f2",
        "IPY_MODEL_273b1ed998a24d33896bf669abd17f2d"
       ],
       "layout": "IPY_MODEL_b5fb0353521943fcb24fee15656f0772"
      }
     },
     "3f0ca1a537944eababed72bd0d0b4031": {
      "model_module": "@jupyter-widgets/controls",
      "model_module_version": "2.0.0",
      "model_name": "DescriptionStyleModel",
      "state": {
       "description_width": ""
      }
     },
     "3f1e1583b7cc4b0d8c5bcff3dfaae02c": {
      "model_module": "@jupyter-widgets/base",
      "model_module_version": "2.0.0",
      "model_name": "LayoutModel",
      "state": {}
     },
     "3f5f678c463f4cde99c45b47248d772d": {
      "model_module": "@jupyter-widgets/base",
      "model_module_version": "2.0.0",
      "model_name": "LayoutModel",
      "state": {}
     },
     "3f5fc16ddecb4154990b5e1d937d9c61": {
      "model_module": "@jupyter-widgets/controls",
      "model_module_version": "2.0.0",
      "model_name": "HTMLStyleModel",
      "state": {
       "description_width": "",
       "font_size": null,
       "text_color": null
      }
     },
     "3f64a682d5ca417bb12d96354fe97ee4": {
      "model_module": "@jupyter-widgets/controls",
      "model_module_version": "2.0.0",
      "model_name": "DescriptionStyleModel",
      "state": {
       "description_width": ""
      }
     },
     "3f789c27308447d6b763ce0d90eb3663": {
      "model_module": "@jupyter-widgets/base",
      "model_module_version": "2.0.0",
      "model_name": "LayoutModel",
      "state": {}
     },
     "3f85e0c67a0d4d7cb0b7456565c6674c": {
      "model_module": "@jupyter-widgets/controls",
      "model_module_version": "2.0.0",
      "model_name": "HTMLModel",
      "state": {
       "layout": "IPY_MODEL_0ae180ce7c094699b73877331aa776d5",
       "style": "IPY_MODEL_7ac288d49970411bbc6f9fd4c48b352e",
       "value": " 6/6 [00:08&lt;00:00,  1.96s/it]"
      }
     },
     "3fddd002da7649749b34a9ec104055f6": {
      "model_module": "@jupyter-widgets/controls",
      "model_module_version": "2.0.0",
      "model_name": "HBoxModel",
      "state": {
       "children": [
        "IPY_MODEL_70960292e2904c71aaf0829c5276ff22",
        "IPY_MODEL_b959d2c248eb480db8aa79fc8a5cb534",
        "IPY_MODEL_687f590cf40747caabe161fa9d4c56bc"
       ],
       "layout": "IPY_MODEL_850b5faee343454caff7bcb954c1b297"
      }
     },
     "40ad493a779948fb877b8f1efbeb96ff": {
      "model_module": "@jupyter-widgets/controls",
      "model_module_version": "2.0.0",
      "model_name": "HTMLModel",
      "state": {
       "layout": "IPY_MODEL_d198ef45d5a04f10855f3477e5f4f784",
       "style": "IPY_MODEL_4d050a4d6d284e5fa00be4140da9ca05",
       "value": "100%"
      }
     },
     "4141feb5c5b04f67b14d782916cf2a43": {
      "model_module": "@jupyter-widgets/controls",
      "model_module_version": "2.0.0",
      "model_name": "HTMLStyleModel",
      "state": {
       "description_width": "",
       "font_size": null,
       "text_color": null
      }
     },
     "415a0ab04e254c019410b5f8792449de": {
      "model_module": "@jupyter-widgets/base",
      "model_module_version": "2.0.0",
      "model_name": "LayoutModel",
      "state": {}
     },
     "415ded97bd634a94aa9493edee1aef5e": {
      "model_module": "@jupyter-widgets/base",
      "model_module_version": "2.0.0",
      "model_name": "LayoutModel",
      "state": {}
     },
     "416740e46d6445bdab71fba20bb12459": {
      "model_module": "@jupyter-widgets/controls",
      "model_module_version": "2.0.0",
      "model_name": "ProgressStyleModel",
      "state": {
       "description_width": ""
      }
     },
     "417fab544a4646ed858872a9006749d0": {
      "model_module": "@jupyter-widgets/controls",
      "model_module_version": "2.0.0",
      "model_name": "HTMLModel",
      "state": {
       "layout": "IPY_MODEL_58366bed42f541dfadf9b3b57d005ecc",
       "style": "IPY_MODEL_a18db3fb7d924aaf9f82396754c998e8",
       "value": "100%"
      }
     },
     "41d2351da9f445548ea422ffb7bd70b8": {
      "model_module": "@jupyter-widgets/controls",
      "model_module_version": "2.0.0",
      "model_name": "ProgressStyleModel",
      "state": {
       "description_width": ""
      }
     },
     "42084ebcfb5c4a14bb1a8dccb70c02e7": {
      "model_module": "@jupyter-widgets/base",
      "model_module_version": "2.0.0",
      "model_name": "LayoutModel",
      "state": {}
     },
     "420b0dcef4f141b690b67d4328cbe628": {
      "model_module": "@jupyter-widgets/base",
      "model_module_version": "2.0.0",
      "model_name": "LayoutModel",
      "state": {}
     },
     "423dea1c8eb945b6a7163ee3148987c8": {
      "model_module": "@jupyter-widgets/controls",
      "model_module_version": "2.0.0",
      "model_name": "HBoxModel",
      "state": {
       "children": [
        "IPY_MODEL_394586c584cb4ba4a4e8e82ff2f12879",
        "IPY_MODEL_21f3def43b384e6aa18449eabe0dfc10",
        "IPY_MODEL_e532c67f1c5a459dbaf78b5d1c681376"
       ],
       "layout": "IPY_MODEL_633e8f4668c54e8796993e023cf93211"
      }
     },
     "4249d3d2ad154f738789fb624a8e0867": {
      "model_module": "@jupyter-widgets/base",
      "model_module_version": "2.0.0",
      "model_name": "LayoutModel",
      "state": {}
     },
     "42532cf335f84e91bc184fa3de80d781": {
      "model_module": "@jupyter-widgets/controls",
      "model_module_version": "2.0.0",
      "model_name": "HBoxModel",
      "state": {
       "children": [
        "IPY_MODEL_332e05a71fd2414fab6ab38afc22187c",
        "IPY_MODEL_799c2ce912b542fe9177159be2e714af",
        "IPY_MODEL_96b460c37817428197afea818ff1e4a5"
       ],
       "layout": "IPY_MODEL_313184218519478e81dcb94e3da68a3e"
      }
     },
     "42645fcaf4c64cf68824d93759c75bc8": {
      "model_module": "@jupyter-widgets/controls",
      "model_module_version": "2.0.0",
      "model_name": "HTMLModel",
      "state": {
       "layout": "IPY_MODEL_6947ec67f5c2497fa581f2f98be5d5b6",
       "style": "IPY_MODEL_d463b721d2be4341b9411cf03bac5304",
       "value": "100%"
      }
     },
     "426b1e6d2eb9431a90d9e84453cb2481": {
      "model_module": "@jupyter-widgets/base",
      "model_module_version": "2.0.0",
      "model_name": "LayoutModel",
      "state": {}
     },
     "430fec0f20bc4e7ebe830021f63dd731": {
      "model_module": "@jupyter-widgets/controls",
      "model_module_version": "2.0.0",
      "model_name": "FloatProgressModel",
      "state": {
       "bar_style": "success",
       "layout": "IPY_MODEL_8c9fb845d586409ebe1a3b099073ed87",
       "max": 3,
       "style": "IPY_MODEL_9853c5d67f5f48bb9813db5ee85adebb",
       "value": 3
      }
     },
     "4311cd0e553c47d9b70df4a18569c812": {
      "model_module": "@jupyter-widgets/base",
      "model_module_version": "2.0.0",
      "model_name": "LayoutModel",
      "state": {}
     },
     "4324a89963364b5987259e4f966771c2": {
      "model_module": "@jupyter-widgets/controls",
      "model_module_version": "2.0.0",
      "model_name": "HBoxModel",
      "state": {
       "children": [
        "IPY_MODEL_783ab5f1eaf04f2e9109c2425d8d2ce7",
        "IPY_MODEL_fdad8f8a394b4897a51e1509b9cafa80",
        "IPY_MODEL_2288d78992024f17b4c33d51aa323edd"
       ],
       "layout": "IPY_MODEL_e7c676f5f32c47ba9d376ed1e98d2579"
      }
     },
     "437853bb71fc48718a27425bc6fcd9c5": {
      "model_module": "@jupyter-widgets/controls",
      "model_module_version": "2.0.0",
      "model_name": "DescriptionStyleModel",
      "state": {
       "description_width": ""
      }
     },
     "43813cdb3cc948f49df4d4f3c7bbca4d": {
      "model_module": "@jupyter-widgets/controls",
      "model_module_version": "2.0.0",
      "model_name": "DescriptionStyleModel",
      "state": {
       "description_width": ""
      }
     },
     "4388f670ebb044a3a9838ebdc4c2a587": {
      "model_module": "@jupyter-widgets/controls",
      "model_module_version": "2.0.0",
      "model_name": "FloatProgressModel",
      "state": {
       "bar_style": "success",
       "layout": "IPY_MODEL_426b1e6d2eb9431a90d9e84453cb2481",
       "max": 8,
       "style": "IPY_MODEL_de728bf9065147a785cfed2cb35fefdb",
       "value": 8
      }
     },
     "4397d05cf65a4a3098f3fbc65ec9cf13": {
      "model_module": "@jupyter-widgets/controls",
      "model_module_version": "2.0.0",
      "model_name": "DescriptionStyleModel",
      "state": {
       "description_width": ""
      }
     },
     "43b0db65a5c244058d984db9272cbdbd": {
      "model_module": "@jupyter-widgets/controls",
      "model_module_version": "2.0.0",
      "model_name": "DescriptionStyleModel",
      "state": {
       "description_width": ""
      }
     },
     "43ea1b3882bd41068924670970a9c5e8": {
      "model_module": "@jupyter-widgets/controls",
      "model_module_version": "2.0.0",
      "model_name": "HTMLModel",
      "state": {
       "layout": "IPY_MODEL_1c4bcfb11581445a8d46ce754ec37180",
       "style": "IPY_MODEL_f1cfc5bb0898456ca8f5c538a609a70f",
       "value": "100%"
      }
     },
     "4423c92e6ab94b46b6f89bde9dddf3a8": {
      "model_module": "@jupyter-widgets/controls",
      "model_module_version": "2.0.0",
      "model_name": "DescriptionStyleModel",
      "state": {
       "description_width": ""
      }
     },
     "4479826179dd4a00a99758a09b765c55": {
      "model_module": "@jupyter-widgets/base",
      "model_module_version": "2.0.0",
      "model_name": "LayoutModel",
      "state": {}
     },
     "44d1cb966cd74d34b917a08160071f86": {
      "model_module": "@jupyter-widgets/base",
      "model_module_version": "2.0.0",
      "model_name": "LayoutModel",
      "state": {}
     },
     "44d5718f041c4cdf8b85c3e58a90c1e2": {
      "model_module": "@jupyter-widgets/controls",
      "model_module_version": "2.0.0",
      "model_name": "DescriptionStyleModel",
      "state": {
       "description_width": ""
      }
     },
     "44e53d99312544a4b17fe0145636ef45": {
      "model_module": "@jupyter-widgets/controls",
      "model_module_version": "2.0.0",
      "model_name": "HBoxModel",
      "state": {
       "children": [
        "IPY_MODEL_63a70b06ff4246d3819f71da3565aefd",
        "IPY_MODEL_b0abd16537734a9d99386e3c8da6b4b8",
        "IPY_MODEL_97bbbe30ec7f46b9aaa8e4ad4646ac93"
       ],
       "layout": "IPY_MODEL_51c0ffeb291c451e88c73009c996057f"
      }
     },
     "451473f4e335442db1280c3dafa1c5de": {
      "model_module": "@jupyter-widgets/controls",
      "model_module_version": "2.0.0",
      "model_name": "HTMLStyleModel",
      "state": {
       "description_width": "",
       "font_size": null,
       "text_color": null
      }
     },
     "45418625fe974d70bd43597a713421ee": {
      "model_module": "@jupyter-widgets/controls",
      "model_module_version": "2.0.0",
      "model_name": "HTMLStyleModel",
      "state": {
       "description_width": "",
       "font_size": null,
       "text_color": null
      }
     },
     "4553fb4f7c304feda4bdd2c6af136987": {
      "model_module": "@jupyter-widgets/controls",
      "model_module_version": "2.0.0",
      "model_name": "FloatProgressModel",
      "state": {
       "bar_style": "success",
       "layout": "IPY_MODEL_39492984205c40f9a2c80345c5accd4d",
       "max": 6,
       "style": "IPY_MODEL_376f7f735cd6494b93669863dd2219d1",
       "value": 6
      }
     },
     "4566d1e63f3940db9ec45156b6a840dc": {
      "model_module": "@jupyter-widgets/controls",
      "model_module_version": "2.0.0",
      "model_name": "DescriptionStyleModel",
      "state": {
       "description_width": ""
      }
     },
     "45f72b16772f40e081fb9d967266f68d": {
      "model_module": "@jupyter-widgets/base",
      "model_module_version": "2.0.0",
      "model_name": "LayoutModel",
      "state": {}
     },
     "461586af515a4296b87a80fa580a2f99": {
      "model_module": "@jupyter-widgets/controls",
      "model_module_version": "2.0.0",
      "model_name": "HTMLStyleModel",
      "state": {
       "description_width": "",
       "font_size": null,
       "text_color": null
      }
     },
     "4624434e462b4f3592aa0a3f3ada8c5d": {
      "model_module": "@jupyter-widgets/base",
      "model_module_version": "2.0.0",
      "model_name": "LayoutModel",
      "state": {}
     },
     "4627a97cda92444ba7641b387f1ae6bc": {
      "model_module": "@jupyter-widgets/base",
      "model_module_version": "2.0.0",
      "model_name": "LayoutModel",
      "state": {}
     },
     "4649dcb9189249368cf39bbc84f2235f": {
      "model_module": "@jupyter-widgets/base",
      "model_module_version": "2.0.0",
      "model_name": "LayoutModel",
      "state": {}
     },
     "4664fa510ec24a1f8e977e573fdb1129": {
      "model_module": "@jupyter-widgets/base",
      "model_module_version": "2.0.0",
      "model_name": "LayoutModel",
      "state": {}
     },
     "468581f8cddc4e7bb1610ac6320b66b7": {
      "model_module": "@jupyter-widgets/base",
      "model_module_version": "2.0.0",
      "model_name": "LayoutModel",
      "state": {}
     },
     "46b3e17002044bd187ddffcb137f8442": {
      "model_module": "@jupyter-widgets/base",
      "model_module_version": "2.0.0",
      "model_name": "LayoutModel",
      "state": {}
     },
     "46ebb4fddc664e87b0138b0620d90088": {
      "model_module": "@jupyter-widgets/base",
      "model_module_version": "2.0.0",
      "model_name": "LayoutModel",
      "state": {}
     },
     "46f145a243894c2d993c289862c13a8b": {
      "model_module": "@jupyter-widgets/base",
      "model_module_version": "2.0.0",
      "model_name": "LayoutModel",
      "state": {}
     },
     "4702939ba6f34c9b95242c92bc25156a": {
      "model_module": "@jupyter-widgets/controls",
      "model_module_version": "2.0.0",
      "model_name": "HTMLModel",
      "state": {
       "layout": "IPY_MODEL_269217df1e414f15bbce58c8f7f3d364",
       "style": "IPY_MODEL_856fc5b6342d48619ba1ba16c73ed3f4",
       "value": " 83%"
      }
     },
     "47338d97ff134b4ba576a42cb2a64c8d": {
      "model_module": "@jupyter-widgets/base",
      "model_module_version": "2.0.0",
      "model_name": "LayoutModel",
      "state": {}
     },
     "478294a04e59466e9eb976ac1abe3192": {
      "model_module": "@jupyter-widgets/base",
      "model_module_version": "2.0.0",
      "model_name": "LayoutModel",
      "state": {}
     },
     "47f98225af024bc7af24fb7f21e52399": {
      "model_module": "@jupyter-widgets/controls",
      "model_module_version": "2.0.0",
      "model_name": "HTMLModel",
      "state": {
       "layout": "IPY_MODEL_2efac13743ad48a393316dbb618326c8",
       "style": "IPY_MODEL_43b0db65a5c244058d984db9272cbdbd",
       "value": " 14/14 [00:34&lt;00:00,  2.56s/it]"
      }
     },
     "48509f32298d424d92624149bb5d2dbb": {
      "model_module": "@jupyter-widgets/controls",
      "model_module_version": "2.0.0",
      "model_name": "HBoxModel",
      "state": {
       "children": [
        "IPY_MODEL_5b922da8cd1e4231beb1695f3a1f7ef4",
        "IPY_MODEL_526a7acfe3114c5bb4689cd4e0cfd2be",
        "IPY_MODEL_ae271860a6e14fda9f58304373ac1cba"
       ],
       "layout": "IPY_MODEL_87797a99938f45d29bd835be4b5ec572"
      }
     },
     "485731a4a3dc4749a02b85fab8597d7a": {
      "model_module": "@jupyter-widgets/base",
      "model_module_version": "2.0.0",
      "model_name": "LayoutModel",
      "state": {}
     },
     "4936dc8dbc6d405c956ddce5f6a5221e": {
      "model_module": "@jupyter-widgets/base",
      "model_module_version": "2.0.0",
      "model_name": "LayoutModel",
      "state": {}
     },
     "49c8c6d9bde6402bb4136d37f94c0fee": {
      "model_module": "@jupyter-widgets/base",
      "model_module_version": "2.0.0",
      "model_name": "LayoutModel",
      "state": {}
     },
     "4a02dde9f0c2473ca483bd879aae9897": {
      "model_module": "@jupyter-widgets/controls",
      "model_module_version": "2.0.0",
      "model_name": "HTMLModel",
      "state": {
       "layout": "IPY_MODEL_554aad861ce14a18bcfcd879557d5536",
       "style": "IPY_MODEL_029642dfa78247a18b8c1e5fe6452dda",
       "value": "100%"
      }
     },
     "4a2153b7870843a388965c1d13988aa1": {
      "model_module": "@jupyter-widgets/controls",
      "model_module_version": "2.0.0",
      "model_name": "HTMLModel",
      "state": {
       "layout": "IPY_MODEL_219404a0aa80406fba4e1a59864e213e",
       "style": "IPY_MODEL_f990c3c0d24b4feb8b54ebbb0fe605e3",
       "value": "100%"
      }
     },
     "4a9c8487b9174ce392d94d1f8a019cab": {
      "model_module": "@jupyter-widgets/controls",
      "model_module_version": "2.0.0",
      "model_name": "DescriptionStyleModel",
      "state": {
       "description_width": ""
      }
     },
     "4aa728bf97a248ecb6f1ed409e13c000": {
      "model_module": "@jupyter-widgets/controls",
      "model_module_version": "2.0.0",
      "model_name": "HTMLStyleModel",
      "state": {
       "description_width": "",
       "font_size": null,
       "text_color": null
      }
     },
     "4aaaf3eed0254936b5a52ab7b0c6415e": {
      "model_module": "@jupyter-widgets/controls",
      "model_module_version": "2.0.0",
      "model_name": "HBoxModel",
      "state": {
       "children": [
        "IPY_MODEL_77060f02c0864339a20814717a687e8b",
        "IPY_MODEL_acb3fc7c388f438890ef68e82fa1047e",
        "IPY_MODEL_d2dc6893736e407cb84282e4eceb0b6f"
       ],
       "layout": "IPY_MODEL_fb01dde1bd6a48828dc2335448eeab33"
      }
     },
     "4ad7e55c582c4f96bf747521fa1a880e": {
      "model_module": "@jupyter-widgets/controls",
      "model_module_version": "2.0.0",
      "model_name": "DescriptionStyleModel",
      "state": {
       "description_width": ""
      }
     },
     "4b6bce95eb034f8fa39251884eef9197": {
      "model_module": "@jupyter-widgets/controls",
      "model_module_version": "2.0.0",
      "model_name": "HTMLModel",
      "state": {
       "layout": "IPY_MODEL_4f13d7468d3e433aaebc524e2f966636",
       "style": "IPY_MODEL_317d72de13f547c78f6388a685253365",
       "value": " 14/14 [00:33&lt;00:00,  2.52s/it]"
      }
     },
     "4b756571316644e7a1e95bfff335a728": {
      "model_module": "@jupyter-widgets/base",
      "model_module_version": "2.0.0",
      "model_name": "LayoutModel",
      "state": {}
     },
     "4b8fe3f450344df59adf09dfde46461c": {
      "model_module": "@jupyter-widgets/base",
      "model_module_version": "2.0.0",
      "model_name": "LayoutModel",
      "state": {}
     },
     "4c341a451372475c8ab1b62d52cc124c": {
      "model_module": "@jupyter-widgets/controls",
      "model_module_version": "2.0.0",
      "model_name": "FloatProgressModel",
      "state": {
       "bar_style": "success",
       "layout": "IPY_MODEL_354441ea960046e78181c0039137b821",
       "max": 6,
       "style": "IPY_MODEL_14f0bd724fd345f8bab8dfc4bef0bf08",
       "value": 6
      }
     },
     "4c514c61a1824da0bb353e154c21288e": {
      "model_module": "@jupyter-widgets/controls",
      "model_module_version": "2.0.0",
      "model_name": "HTMLModel",
      "state": {
       "layout": "IPY_MODEL_35a3c9c7f0a84db7b11166c968c8e8c5",
       "style": "IPY_MODEL_f6d9b538a7d4474faf6f1b5d4ed3aa22",
       "value": " 14/14 [00:34&lt;00:00,  2.58s/it]"
      }
     },
     "4c7a44cfe46546c7ad4510925b762ba3": {
      "model_module": "@jupyter-widgets/base",
      "model_module_version": "2.0.0",
      "model_name": "LayoutModel",
      "state": {}
     },
     "4cf01c7addd141348d4644f6e298d0c3": {
      "model_module": "@jupyter-widgets/base",
      "model_module_version": "2.0.0",
      "model_name": "LayoutModel",
      "state": {}
     },
     "4d050a4d6d284e5fa00be4140da9ca05": {
      "model_module": "@jupyter-widgets/controls",
      "model_module_version": "2.0.0",
      "model_name": "DescriptionStyleModel",
      "state": {
       "description_width": ""
      }
     },
     "4dd2a703b89e4906995b6ae63384ebec": {
      "model_module": "@jupyter-widgets/base",
      "model_module_version": "2.0.0",
      "model_name": "LayoutModel",
      "state": {}
     },
     "4df6d7c39cce4536a58880a00a3970ef": {
      "model_module": "@jupyter-widgets/controls",
      "model_module_version": "2.0.0",
      "model_name": "ProgressStyleModel",
      "state": {
       "description_width": ""
      }
     },
     "4df9ea255ee04057a55797a504a03021": {
      "model_module": "@jupyter-widgets/base",
      "model_module_version": "2.0.0",
      "model_name": "LayoutModel",
      "state": {}
     },
     "4f13d7468d3e433aaebc524e2f966636": {
      "model_module": "@jupyter-widgets/base",
      "model_module_version": "2.0.0",
      "model_name": "LayoutModel",
      "state": {}
     },
     "4f1b62d56e4841a0b8a437b1e7082159": {
      "model_module": "@jupyter-widgets/controls",
      "model_module_version": "2.0.0",
      "model_name": "ProgressStyleModel",
      "state": {
       "description_width": ""
      }
     },
     "4f45b7be062545dfad8cd46b855234c4": {
      "model_module": "@jupyter-widgets/controls",
      "model_module_version": "2.0.0",
      "model_name": "DescriptionStyleModel",
      "state": {
       "description_width": ""
      }
     },
     "4f8f34f6823f48ae8d4102f40b10a49f": {
      "model_module": "@jupyter-widgets/controls",
      "model_module_version": "2.0.0",
      "model_name": "DescriptionStyleModel",
      "state": {
       "description_width": ""
      }
     },
     "4fbd978fd55041cb9ce67134a734e2df": {
      "model_module": "@jupyter-widgets/controls",
      "model_module_version": "2.0.0",
      "model_name": "ProgressStyleModel",
      "state": {
       "description_width": ""
      }
     },
     "4fcce8713d9f40efa519fad4c3f6d159": {
      "model_module": "@jupyter-widgets/base",
      "model_module_version": "2.0.0",
      "model_name": "LayoutModel",
      "state": {}
     },
     "4fdb5b1c4a484c5692ff2224cb3311ef": {
      "model_module": "@jupyter-widgets/controls",
      "model_module_version": "2.0.0",
      "model_name": "FloatProgressModel",
      "state": {
       "bar_style": "success",
       "layout": "IPY_MODEL_be287985079e402d8332d24294a34c84",
       "max": 6,
       "style": "IPY_MODEL_e2e8ccf1279e404e8a34624c43cb47a1",
       "value": 6
      }
     },
     "4fe88752d63e465dacddb2e96db851fc": {
      "model_module": "@jupyter-widgets/controls",
      "model_module_version": "2.0.0",
      "model_name": "DescriptionStyleModel",
      "state": {
       "description_width": ""
      }
     },
     "4ffcd09f2b804a8cae799939c2e95ae0": {
      "model_module": "@jupyter-widgets/controls",
      "model_module_version": "2.0.0",
      "model_name": "ProgressStyleModel",
      "state": {
       "description_width": ""
      }
     },
     "50194aefb1b848b9bacb0fb7cde4e7c1": {
      "model_module": "@jupyter-widgets/controls",
      "model_module_version": "2.0.0",
      "model_name": "HBoxModel",
      "state": {
       "children": [
        "IPY_MODEL_672e12ea73c54890b34126836365b7b0",
        "IPY_MODEL_8db24025e8b24c4a812fbe69c0ae9de9",
        "IPY_MODEL_b9f2c8dcd1d742c2b0284bbedcc5052f"
       ],
       "layout": "IPY_MODEL_5df21fe561884711a538f2ca542e6bd8"
      }
     },
     "506a403f0fdc4f9f8b85aa651285d720": {
      "model_module": "@jupyter-widgets/controls",
      "model_module_version": "2.0.0",
      "model_name": "DescriptionStyleModel",
      "state": {
       "description_width": ""
      }
     },
     "5082c28037254c02a2c7b11b1fec3d24": {
      "model_module": "@jupyter-widgets/controls",
      "model_module_version": "2.0.0",
      "model_name": "FloatProgressModel",
      "state": {
       "bar_style": "success",
       "layout": "IPY_MODEL_5a8654bdc7ea4e62b2701eabdcc263a2",
       "max": 14,
       "style": "IPY_MODEL_7ad06790a5154b6986cba20d76f8be7d",
       "value": 14
      }
     },
     "50f4f2ca4dba4a54b2e2e14d411ef914": {
      "model_module": "@jupyter-widgets/controls",
      "model_module_version": "2.0.0",
      "model_name": "HTMLStyleModel",
      "state": {
       "description_width": "",
       "font_size": null,
       "text_color": null
      }
     },
     "516b22b99dad4b26bda95b7f5f377e6b": {
      "model_module": "@jupyter-widgets/controls",
      "model_module_version": "2.0.0",
      "model_name": "FloatProgressModel",
      "state": {
       "bar_style": "success",
       "layout": "IPY_MODEL_702032d5605547c28038f28511a85928",
       "max": 6,
       "style": "IPY_MODEL_7c31ea7a778745c7b6d783ad107c3f8b",
       "value": 6
      }
     },
     "5195b30886ae479ba56e84588a608368": {
      "model_module": "@jupyter-widgets/controls",
      "model_module_version": "2.0.0",
      "model_name": "DescriptionStyleModel",
      "state": {
       "description_width": ""
      }
     },
     "51afde547a624857871d55d2bbcc2c75": {
      "model_module": "@jupyter-widgets/base",
      "model_module_version": "2.0.0",
      "model_name": "LayoutModel",
      "state": {}
     },
     "51c0ffeb291c451e88c73009c996057f": {
      "model_module": "@jupyter-widgets/base",
      "model_module_version": "2.0.0",
      "model_name": "LayoutModel",
      "state": {}
     },
     "5256fcf8c90746a2b585640096aabcd5": {
      "model_module": "@jupyter-widgets/base",
      "model_module_version": "2.0.0",
      "model_name": "LayoutModel",
      "state": {}
     },
     "526a7acfe3114c5bb4689cd4e0cfd2be": {
      "model_module": "@jupyter-widgets/controls",
      "model_module_version": "2.0.0",
      "model_name": "FloatProgressModel",
      "state": {
       "bar_style": "success",
       "layout": "IPY_MODEL_05ce7d2dcc9c42a1a4657f9cae9edea1",
       "max": 6,
       "style": "IPY_MODEL_2dadb4f5dece4bcc8627747de19f2efb",
       "value": 6
      }
     },
     "530227233cdb4d7bbe6a127d11bbbc96": {
      "model_module": "@jupyter-widgets/base",
      "model_module_version": "2.0.0",
      "model_name": "LayoutModel",
      "state": {}
     },
     "533f15243a5d4b6393b50c909b6f55e9": {
      "model_module": "@jupyter-widgets/controls",
      "model_module_version": "2.0.0",
      "model_name": "HTMLModel",
      "state": {
       "layout": "IPY_MODEL_dc0cb38431e34554a24eb56835159b14",
       "style": "IPY_MODEL_77cc87b539e74f5dafad722153e60cd3",
       "value": " 3/3 [00:10&lt;00:00,  4.21s/it]"
      }
     },
     "5363fb3cea7e48a79ae2d3eee8d3f103": {
      "model_module": "@jupyter-widgets/controls",
      "model_module_version": "2.0.0",
      "model_name": "HTMLModel",
      "state": {
       "layout": "IPY_MODEL_0cb625922b5f481f85c9215f9f4b3d23",
       "style": "IPY_MODEL_8f5256878fcc4418932eb682a7007e91",
       "value": " 3/3 [00:10&lt;00:00,  4.10s/it]"
      }
     },
     "539f0d72dd3543fbad79611d9f1bd031": {
      "model_module": "@jupyter-widgets/base",
      "model_module_version": "2.0.0",
      "model_name": "LayoutModel",
      "state": {}
     },
     "54bc5cd15c52489db348d7d474416b63": {
      "model_module": "@jupyter-widgets/controls",
      "model_module_version": "2.0.0",
      "model_name": "HTMLModel",
      "state": {
       "layout": "IPY_MODEL_6979e3f8add643d597915c6a8bb91077",
       "style": "IPY_MODEL_1317b6a0a7bc4b43a76e7ca689d01b22",
       "value": " 6/6 [00:08&lt;00:00,  2.02s/it]"
      }
     },
     "54c1c14ecefb49e9b1f7fd2138320a0d": {
      "model_module": "@jupyter-widgets/base",
      "model_module_version": "2.0.0",
      "model_name": "LayoutModel",
      "state": {}
     },
     "54ed6756a74146a8bcf1d0d9a6838a2b": {
      "model_module": "@jupyter-widgets/controls",
      "model_module_version": "2.0.0",
      "model_name": "DescriptionStyleModel",
      "state": {
       "description_width": ""
      }
     },
     "552543fdef3e445191c3480ff295802c": {
      "model_module": "@jupyter-widgets/controls",
      "model_module_version": "2.0.0",
      "model_name": "ProgressStyleModel",
      "state": {
       "description_width": ""
      }
     },
     "554aad861ce14a18bcfcd879557d5536": {
      "model_module": "@jupyter-widgets/base",
      "model_module_version": "2.0.0",
      "model_name": "LayoutModel",
      "state": {}
     },
     "5592b4ced2b04897acb15b7d476b9740": {
      "model_module": "@jupyter-widgets/base",
      "model_module_version": "2.0.0",
      "model_name": "LayoutModel",
      "state": {}
     },
     "55e7a37abac24908961c342bc93befe3": {
      "model_module": "@jupyter-widgets/controls",
      "model_module_version": "2.0.0",
      "model_name": "DescriptionStyleModel",
      "state": {
       "description_width": ""
      }
     },
     "5627352635654cd58c96ca414f1e6114": {
      "model_module": "@jupyter-widgets/base",
      "model_module_version": "2.0.0",
      "model_name": "LayoutModel",
      "state": {}
     },
     "5649d18abbde4f47a03b99cee129ca40": {
      "model_module": "@jupyter-widgets/controls",
      "model_module_version": "2.0.0",
      "model_name": "DescriptionStyleModel",
      "state": {
       "description_width": ""
      }
     },
     "56a6bad0b666407a9367de9bf30fd660": {
      "model_module": "@jupyter-widgets/base",
      "model_module_version": "2.0.0",
      "model_name": "LayoutModel",
      "state": {}
     },
     "56eadb9f4fd944dcb5039b404e09f6a1": {
      "model_module": "@jupyter-widgets/controls",
      "model_module_version": "2.0.0",
      "model_name": "ProgressStyleModel",
      "state": {
       "description_width": ""
      }
     },
     "56f349348df141708ca826a50e524d41": {
      "model_module": "@jupyter-widgets/controls",
      "model_module_version": "2.0.0",
      "model_name": "ProgressStyleModel",
      "state": {
       "description_width": ""
      }
     },
     "5707ef96db714ec0a3f2f9dbe98908c9": {
      "model_module": "@jupyter-widgets/controls",
      "model_module_version": "2.0.0",
      "model_name": "HTMLModel",
      "state": {
       "layout": "IPY_MODEL_3088d09c6b51431da8feba468e073631",
       "style": "IPY_MODEL_95cfbf3086504b4ab9a1449d5cf78769",
       "value": "100%"
      }
     },
     "57843694692c4a3b87bfbd132153cab8": {
      "model_module": "@jupyter-widgets/controls",
      "model_module_version": "2.0.0",
      "model_name": "HTMLModel",
      "state": {
       "layout": "IPY_MODEL_f8d197cb409d41f082178184a9954ac3",
       "style": "IPY_MODEL_269c6b9560904cc29f2828362cebce81",
       "value": "100%"
      }
     },
     "57da2d0871fc4c189bbfb98644cdca7c": {
      "model_module": "@jupyter-widgets/base",
      "model_module_version": "2.0.0",
      "model_name": "LayoutModel",
      "state": {}
     },
     "57dfcbb0414848a7afaf25ae5b8f6318": {
      "model_module": "@jupyter-widgets/controls",
      "model_module_version": "2.0.0",
      "model_name": "HTMLModel",
      "state": {
       "layout": "IPY_MODEL_485731a4a3dc4749a02b85fab8597d7a",
       "style": "IPY_MODEL_f287eebaea2a42059275cf322b97e556",
       "value": "100%"
      }
     },
     "57e76b58a33b4bcd96f3a40b899044d9": {
      "model_module": "@jupyter-widgets/base",
      "model_module_version": "2.0.0",
      "model_name": "LayoutModel",
      "state": {}
     },
     "582ab9a756b849b2b26d95663d2ff9e2": {
      "model_module": "@jupyter-widgets/controls",
      "model_module_version": "2.0.0",
      "model_name": "HTMLStyleModel",
      "state": {
       "description_width": "",
       "font_size": null,
       "text_color": null
      }
     },
     "58366bed42f541dfadf9b3b57d005ecc": {
      "model_module": "@jupyter-widgets/base",
      "model_module_version": "2.0.0",
      "model_name": "LayoutModel",
      "state": {}
     },
     "583d1f1adf7746b78eeac541b547405b": {
      "model_module": "@jupyter-widgets/controls",
      "model_module_version": "2.0.0",
      "model_name": "DescriptionStyleModel",
      "state": {
       "description_width": ""
      }
     },
     "589a4e209def475289c2189ea9d4b87d": {
      "model_module": "@jupyter-widgets/controls",
      "model_module_version": "2.0.0",
      "model_name": "HTMLStyleModel",
      "state": {
       "description_width": "",
       "font_size": null,
       "text_color": null
      }
     },
     "58e730ffdfd4482091cdaf8077d0cb8d": {
      "model_module": "@jupyter-widgets/base",
      "model_module_version": "2.0.0",
      "model_name": "LayoutModel",
      "state": {}
     },
     "58f0f746e8004a5fafe76d9dcdb1209b": {
      "model_module": "@jupyter-widgets/base",
      "model_module_version": "2.0.0",
      "model_name": "LayoutModel",
      "state": {}
     },
     "59116e8e1096438c959870c7d5a626e4": {
      "model_module": "@jupyter-widgets/controls",
      "model_module_version": "2.0.0",
      "model_name": "ProgressStyleModel",
      "state": {
       "description_width": ""
      }
     },
     "5976186c6a0042c2b496154953e7726d": {
      "model_module": "@jupyter-widgets/controls",
      "model_module_version": "2.0.0",
      "model_name": "ProgressStyleModel",
      "state": {
       "description_width": ""
      }
     },
     "5984e37e36044dfeac4109d7bc0b424e": {
      "model_module": "@jupyter-widgets/controls",
      "model_module_version": "2.0.0",
      "model_name": "HTMLModel",
      "state": {
       "layout": "IPY_MODEL_cf54b1ccc6414c8a97397e2727460764",
       "style": "IPY_MODEL_f8d0aa0d6d044fd9b885647c29ad5ed9",
       "value": "100%"
      }
     },
     "59b8436cb07c42e9bc5b74d1bab28248": {
      "model_module": "@jupyter-widgets/controls",
      "model_module_version": "2.0.0",
      "model_name": "DescriptionStyleModel",
      "state": {
       "description_width": ""
      }
     },
     "59cb8b51d70545db801f62bf91dde842": {
      "model_module": "@jupyter-widgets/controls",
      "model_module_version": "2.0.0",
      "model_name": "FloatProgressModel",
      "state": {
       "bar_style": "success",
       "layout": "IPY_MODEL_817301f479794c12b0e516e4b27ca565",
       "max": 3,
       "style": "IPY_MODEL_74e16d5201b746f6bda501151e592eed",
       "value": 3
      }
     },
     "5a47368809b04a868d7c3abfa75b1f0b": {
      "model_module": "@jupyter-widgets/base",
      "model_module_version": "2.0.0",
      "model_name": "LayoutModel",
      "state": {}
     },
     "5a7402acea7c46b7acc62d232cbaafda": {
      "model_module": "@jupyter-widgets/base",
      "model_module_version": "2.0.0",
      "model_name": "LayoutModel",
      "state": {}
     },
     "5a8654bdc7ea4e62b2701eabdcc263a2": {
      "model_module": "@jupyter-widgets/base",
      "model_module_version": "2.0.0",
      "model_name": "LayoutModel",
      "state": {}
     },
     "5af10075c7954a7a86b516adebbabe88": {
      "model_module": "@jupyter-widgets/controls",
      "model_module_version": "2.0.0",
      "model_name": "HTMLModel",
      "state": {
       "layout": "IPY_MODEL_d6e18d7031c9403c8ab3e13577ae7c18",
       "style": "IPY_MODEL_77ed0aba6bdd404193911cba5b9d44ea",
       "value": " 3/3 [00:10&lt;00:00,  4.27s/it]"
      }
     },
     "5af398f4192b4467a7e82d44629a7090": {
      "model_module": "@jupyter-widgets/controls",
      "model_module_version": "2.0.0",
      "model_name": "HBoxModel",
      "state": {
       "children": [
        "IPY_MODEL_39ba132769b346d3807f8ffdb35ef4ef",
        "IPY_MODEL_e83b55d4dce248a9ad00d59b4f589287",
        "IPY_MODEL_bd7a94334adf4927a42ed12c73654dac"
       ],
       "layout": "IPY_MODEL_2014c622957f4172bf5538e7032073d7"
      }
     },
     "5b069813b89b417297a48aeb2154fe67": {
      "model_module": "@jupyter-widgets/base",
      "model_module_version": "2.0.0",
      "model_name": "LayoutModel",
      "state": {}
     },
     "5b922da8cd1e4231beb1695f3a1f7ef4": {
      "model_module": "@jupyter-widgets/controls",
      "model_module_version": "2.0.0",
      "model_name": "HTMLModel",
      "state": {
       "layout": "IPY_MODEL_eea860404204486385b30ba97d247ae2",
       "style": "IPY_MODEL_e33a5f4c714945229331ede15abc8eeb",
       "value": "100%"
      }
     },
     "5bc99c916ebd414daf96f69f725d40ea": {
      "model_module": "@jupyter-widgets/controls",
      "model_module_version": "2.0.0",
      "model_name": "FloatProgressModel",
      "state": {
       "bar_style": "success",
       "layout": "IPY_MODEL_01e5af5b26df48c68e2a60acda563670",
       "max": 14,
       "style": "IPY_MODEL_a2f63c20b4dd48a8866fcb6b802f8c4a",
       "value": 14
      }
     },
     "5c1cdc7f1d7f4334997a05cb16278393": {
      "model_module": "@jupyter-widgets/base",
      "model_module_version": "2.0.0",
      "model_name": "LayoutModel",
      "state": {}
     },
     "5cc7f457a2334e71bb5f436ae46c336e": {
      "model_module": "@jupyter-widgets/base",
      "model_module_version": "2.0.0",
      "model_name": "LayoutModel",
      "state": {}
     },
     "5d095f99d4c945618fe22682b2919f7f": {
      "model_module": "@jupyter-widgets/controls",
      "model_module_version": "2.0.0",
      "model_name": "HTMLModel",
      "state": {
       "layout": "IPY_MODEL_0d06caff45da43a387feb0da28b050fb",
       "style": "IPY_MODEL_df91ae866b7c4ab583dd9c521498031c",
       "value": "100%"
      }
     },
     "5d1150275c574960b7ee756c4e5b8422": {
      "model_module": "@jupyter-widgets/base",
      "model_module_version": "2.0.0",
      "model_name": "LayoutModel",
      "state": {}
     },
     "5d1a1fe6fd844c7d907c9883a206650c": {
      "model_module": "@jupyter-widgets/controls",
      "model_module_version": "2.0.0",
      "model_name": "HBoxModel",
      "state": {
       "children": [
        "IPY_MODEL_3417b3ebb03f4797818201cd315cc5d6",
        "IPY_MODEL_05b3bfdeba8148b8b4f9e8a220a48ad1",
        "IPY_MODEL_533f15243a5d4b6393b50c909b6f55e9"
       ],
       "layout": "IPY_MODEL_385052d0c22a494c95a54f3ec5ca9ea2"
      }
     },
     "5d60a27d33a64fe0b9065d67b7327045": {
      "model_module": "@jupyter-widgets/controls",
      "model_module_version": "2.0.0",
      "model_name": "ProgressStyleModel",
      "state": {
       "description_width": ""
      }
     },
     "5d64f8724c144e37b875cd67b10ec38b": {
      "model_module": "@jupyter-widgets/controls",
      "model_module_version": "2.0.0",
      "model_name": "ProgressStyleModel",
      "state": {
       "description_width": ""
      }
     },
     "5df21fe561884711a538f2ca542e6bd8": {
      "model_module": "@jupyter-widgets/base",
      "model_module_version": "2.0.0",
      "model_name": "LayoutModel",
      "state": {}
     },
     "5e4ab518bc7f4437b2e0d4d180d3eb3d": {
      "model_module": "@jupyter-widgets/controls",
      "model_module_version": "2.0.0",
      "model_name": "FloatProgressModel",
      "state": {
       "bar_style": "success",
       "layout": "IPY_MODEL_46ebb4fddc664e87b0138b0620d90088",
       "max": 3,
       "style": "IPY_MODEL_a14329532c41402699841551dbcaf36d",
       "value": 3
      }
     },
     "5f3c41984e834353b4bd3fbb27a25c2c": {
      "model_module": "@jupyter-widgets/controls",
      "model_module_version": "2.0.0",
      "model_name": "DescriptionStyleModel",
      "state": {
       "description_width": ""
      }
     },
     "5fc4e3b1da1c478ea141c911c4e76b5e": {
      "model_module": "@jupyter-widgets/base",
      "model_module_version": "2.0.0",
      "model_name": "LayoutModel",
      "state": {}
     },
     "5fe97e3ddaf541e8bb132154c246ac91": {
      "model_module": "@jupyter-widgets/controls",
      "model_module_version": "2.0.0",
      "model_name": "HTMLStyleModel",
      "state": {
       "description_width": "",
       "font_size": null,
       "text_color": null
      }
     },
     "600360577c904457ae06c714da3226ab": {
      "model_module": "@jupyter-widgets/base",
      "model_module_version": "2.0.0",
      "model_name": "LayoutModel",
      "state": {}
     },
     "6022fd1d8b704696a3ea76aed0286917": {
      "model_module": "@jupyter-widgets/controls",
      "model_module_version": "2.0.0",
      "model_name": "DescriptionStyleModel",
      "state": {
       "description_width": ""
      }
     },
     "6062aa9efc574da8b548fee3b1c51c6e": {
      "model_module": "@jupyter-widgets/controls",
      "model_module_version": "2.0.0",
      "model_name": "HBoxModel",
      "state": {
       "children": [
        "IPY_MODEL_a32af960a36d4b52a3edd1f55e071c15",
        "IPY_MODEL_27eeaee083424c1f81fecc56dea27a6d",
        "IPY_MODEL_28d7d40964e34064a071c4f266111d5e"
       ],
       "layout": "IPY_MODEL_c179d82d134c4885b232d00bb921d2c4"
      }
     },
     "609bdb59378141f4a96e77ac1ac3c4d0": {
      "model_module": "@jupyter-widgets/base",
      "model_module_version": "2.0.0",
      "model_name": "LayoutModel",
      "state": {}
     },
     "60f943ca34524bd1afbce2cc89a7f8f8": {
      "model_module": "@jupyter-widgets/controls",
      "model_module_version": "2.0.0",
      "model_name": "HBoxModel",
      "state": {
       "children": [
        "IPY_MODEL_43ea1b3882bd41068924670970a9c5e8",
        "IPY_MODEL_fd78d4fe60794bd9a4080bccdd2b5066",
        "IPY_MODEL_e026cb4a76f64518aa80c32c5d6bc6d6"
       ],
       "layout": "IPY_MODEL_b248845b0071429886b9bb169c16460e"
      }
     },
     "614f7e74e8964772bbf709eec39a1524": {
      "model_module": "@jupyter-widgets/controls",
      "model_module_version": "2.0.0",
      "model_name": "DescriptionStyleModel",
      "state": {
       "description_width": ""
      }
     },
     "6176e82b1a604fb6b50991303317d235": {
      "model_module": "@jupyter-widgets/base",
      "model_module_version": "2.0.0",
      "model_name": "LayoutModel",
      "state": {}
     },
     "6217b2e724b7488dbf152daf3fb7ff95": {
      "model_module": "@jupyter-widgets/controls",
      "model_module_version": "2.0.0",
      "model_name": "HTMLModel",
      "state": {
       "layout": "IPY_MODEL_600360577c904457ae06c714da3226ab",
       "style": "IPY_MODEL_9a4b752de1ac4a439e4a44845e5667e5",
       "value": " 14/14 [00:36&lt;00:00,  2.68s/it]"
      }
     },
     "623a9efab414447da1c1ae61858f5778": {
      "model_module": "@jupyter-widgets/base",
      "model_module_version": "2.0.0",
      "model_name": "LayoutModel",
      "state": {}
     },
     "625a723425fa4d9990a4c0a5613fc01c": {
      "model_module": "@jupyter-widgets/base",
      "model_module_version": "2.0.0",
      "model_name": "LayoutModel",
      "state": {}
     },
     "62631fe6d1564f839a570964b62a24c8": {
      "model_module": "@jupyter-widgets/base",
      "model_module_version": "2.0.0",
      "model_name": "LayoutModel",
      "state": {}
     },
     "631932574a4f478698da5bfd889c15f2": {
      "model_module": "@jupyter-widgets/controls",
      "model_module_version": "2.0.0",
      "model_name": "FloatProgressModel",
      "state": {
       "bar_style": "success",
       "layout": "IPY_MODEL_cbd792511fbc4743b175d6ca42fbf072",
       "max": 3,
       "style": "IPY_MODEL_7aedc26c48254a838669f450a1fcbb22",
       "value": 3
      }
     },
     "631c4e5439134b44aa2abb0f2d6114da": {
      "model_module": "@jupyter-widgets/controls",
      "model_module_version": "2.0.0",
      "model_name": "HTMLModel",
      "state": {
       "layout": "IPY_MODEL_903eacd04bae46db83092bc1e8f150e2",
       "style": "IPY_MODEL_d87a02a290ab42fb8f24de71c309cf8f",
       "value": "100%"
      }
     },
     "633e8f4668c54e8796993e023cf93211": {
      "model_module": "@jupyter-widgets/base",
      "model_module_version": "2.0.0",
      "model_name": "LayoutModel",
      "state": {}
     },
     "63496197b64c4981aa1841e5dd0ed3a2": {
      "model_module": "@jupyter-widgets/controls",
      "model_module_version": "2.0.0",
      "model_name": "ProgressStyleModel",
      "state": {
       "description_width": ""
      }
     },
     "63a70b06ff4246d3819f71da3565aefd": {
      "model_module": "@jupyter-widgets/controls",
      "model_module_version": "2.0.0",
      "model_name": "HTMLModel",
      "state": {
       "layout": "IPY_MODEL_7a10d58c1ecc444c83d13eb4996e5ee4",
       "style": "IPY_MODEL_8e28b38aef194897b6131f4317563b9f",
       "value": " 21%"
      }
     },
     "63db93ef7251427da2644643a5f52e2a": {
      "model_module": "@jupyter-widgets/controls",
      "model_module_version": "2.0.0",
      "model_name": "DescriptionStyleModel",
      "state": {
       "description_width": ""
      }
     },
     "63f72555303e4481a28135d51cbf9841": {
      "model_module": "@jupyter-widgets/controls",
      "model_module_version": "2.0.0",
      "model_name": "HTMLStyleModel",
      "state": {
       "description_width": "",
       "font_size": null,
       "text_color": null
      }
     },
     "641a8e47dba14be4aa8a10f1329bcaa6": {
      "model_module": "@jupyter-widgets/controls",
      "model_module_version": "2.0.0",
      "model_name": "HTMLModel",
      "state": {
       "layout": "IPY_MODEL_d545003943714d8c998b2c7a376fd3ff",
       "style": "IPY_MODEL_3a71f9045ef64b82ae273c50b5be2d91",
       "value": " 14/14 [00:33&lt;00:00,  2.49s/it]"
      }
     },
     "643781621b914dceaab16ab069a89a6c": {
      "model_module": "@jupyter-widgets/controls",
      "model_module_version": "2.0.0",
      "model_name": "ProgressStyleModel",
      "state": {
       "description_width": ""
      }
     },
     "658444ed433543249997e5b54ff46591": {
      "model_module": "@jupyter-widgets/controls",
      "model_module_version": "2.0.0",
      "model_name": "HTMLModel",
      "state": {
       "layout": "IPY_MODEL_761aab67640240e3ba173a5b2eaf5401",
       "style": "IPY_MODEL_9c92d863eca84c9a8609b6367f2c1d8b",
       "value": " 6/6 [00:11&lt;00:00,  2.84s/it]"
      }
     },
     "6598381da8a44dae8d3e17c72ca74f0d": {
      "model_module": "@jupyter-widgets/controls",
      "model_module_version": "2.0.0",
      "model_name": "DescriptionStyleModel",
      "state": {
       "description_width": ""
      }
     },
     "672d456870d44b42957d9ad3669127cc": {
      "model_module": "@jupyter-widgets/controls",
      "model_module_version": "2.0.0",
      "model_name": "DescriptionStyleModel",
      "state": {
       "description_width": ""
      }
     },
     "672e12ea73c54890b34126836365b7b0": {
      "model_module": "@jupyter-widgets/controls",
      "model_module_version": "2.0.0",
      "model_name": "HTMLModel",
      "state": {
       "layout": "IPY_MODEL_3e652183e9194bbeb3771a9fb7244611",
       "style": "IPY_MODEL_6f156dc2b78341ecaa1dc302165080a5",
       "value": "100%"
      }
     },
     "67510021658848edbe477ad4bc8038f4": {
      "model_module": "@jupyter-widgets/base",
      "model_module_version": "2.0.0",
      "model_name": "LayoutModel",
      "state": {}
     },
     "67597766408742479ce0bf6cc2478e26": {
      "model_module": "@jupyter-widgets/base",
      "model_module_version": "2.0.0",
      "model_name": "LayoutModel",
      "state": {}
     },
     "67bd004a9cc54ca98a945c66e98a8dc5": {
      "model_module": "@jupyter-widgets/base",
      "model_module_version": "2.0.0",
      "model_name": "LayoutModel",
      "state": {}
     },
     "67f8e9926ff04911a5ecb7f084ab9bda": {
      "model_module": "@jupyter-widgets/controls",
      "model_module_version": "2.0.0",
      "model_name": "HBoxModel",
      "state": {
       "children": [
        "IPY_MODEL_5984e37e36044dfeac4109d7bc0b424e",
        "IPY_MODEL_af81eb420a204b4db16e0900544ee830",
        "IPY_MODEL_8a03ad0d87be4739985ebdbd8e3f6821"
       ],
       "layout": "IPY_MODEL_2503dfb81f4847be8a2dd83ba9fce570"
      }
     },
     "68639f2e8c1c4e3289e0f6d8dce28243": {
      "model_module": "@jupyter-widgets/controls",
      "model_module_version": "2.0.0",
      "model_name": "HTMLModel",
      "state": {
       "layout": "IPY_MODEL_e00f2d4bde8d4977a2c1fcf12272aee9",
       "style": "IPY_MODEL_4566d1e63f3940db9ec45156b6a840dc",
       "value": " 14/14 [00:36&lt;00:00,  2.65s/it]"
      }
     },
     "687f590cf40747caabe161fa9d4c56bc": {
      "model_module": "@jupyter-widgets/controls",
      "model_module_version": "2.0.0",
      "model_name": "HTMLModel",
      "state": {
       "layout": "IPY_MODEL_e11311ed201b4eec8375f0060b43cdd3",
       "style": "IPY_MODEL_4397d05cf65a4a3098f3fbc65ec9cf13",
       "value": " 2/3 [00:06&lt;00:03,  3.20s/it]"
      }
     },
     "6924f9666c14408f974c8626cb341bf0": {
      "model_module": "@jupyter-widgets/base",
      "model_module_version": "2.0.0",
      "model_name": "LayoutModel",
      "state": {}
     },
     "69329a3476f64b6ebd2f92c94b295e8c": {
      "model_module": "@jupyter-widgets/controls",
      "model_module_version": "2.0.0",
      "model_name": "FloatProgressModel",
      "state": {
       "bar_style": "success",
       "layout": "IPY_MODEL_ada2a00636b1438498db0770cdd39bef",
       "max": 3,
       "style": "IPY_MODEL_c5989e198ec944dc8b7775b5705d73e5",
       "value": 3
      }
     },
     "6947ec67f5c2497fa581f2f98be5d5b6": {
      "model_module": "@jupyter-widgets/base",
      "model_module_version": "2.0.0",
      "model_name": "LayoutModel",
      "state": {}
     },
     "6979e3f8add643d597915c6a8bb91077": {
      "model_module": "@jupyter-widgets/base",
      "model_module_version": "2.0.0",
      "model_name": "LayoutModel",
      "state": {}
     },
     "69a5d1fb555745e39ade5030c767bf78": {
      "model_module": "@jupyter-widgets/controls",
      "model_module_version": "2.0.0",
      "model_name": "FloatProgressModel",
      "state": {
       "bar_style": "success",
       "layout": "IPY_MODEL_d70423af9ef64c5a9d6538a15c6e12b9",
       "max": 6,
       "style": "IPY_MODEL_e1b73ba901f94de3bfe97bd1cf8952e9",
       "value": 6
      }
     },
     "69ba768c93bf4d2585127c9dd8cca2a1": {
      "model_module": "@jupyter-widgets/base",
      "model_module_version": "2.0.0",
      "model_name": "LayoutModel",
      "state": {}
     },
     "69fd7e6e13c94f61a5ebb811aa394333": {
      "model_module": "@jupyter-widgets/controls",
      "model_module_version": "2.0.0",
      "model_name": "HTMLModel",
      "state": {
       "layout": "IPY_MODEL_d8b129d3a2c341ac9bc912eaa595c0a3",
       "style": "IPY_MODEL_c06f451b863c41a2afebcd113177edfd",
       "value": " 14/14 [00:34&lt;00:00,  2.60s/it]"
      }
     },
     "6a06014e46784b398bbbdbee3663f860": {
      "model_module": "@jupyter-widgets/controls",
      "model_module_version": "2.0.0",
      "model_name": "FloatProgressModel",
      "state": {
       "bar_style": "success",
       "layout": "IPY_MODEL_1a972bcc03d64354b5cd8ec42d25af83",
       "max": 6,
       "style": "IPY_MODEL_dd9f8393faa64097954bd7d834610506",
       "value": 6
      }
     },
     "6aad32a9423043eb8bffaa7ab8e9632f": {
      "model_module": "@jupyter-widgets/controls",
      "model_module_version": "2.0.0",
      "model_name": "DescriptionStyleModel",
      "state": {
       "description_width": ""
      }
     },
     "6ab2c800eaef42e4a286a0aab35ed190": {
      "model_module": "@jupyter-widgets/controls",
      "model_module_version": "2.0.0",
      "model_name": "FloatProgressModel",
      "state": {
       "bar_style": "success",
       "layout": "IPY_MODEL_cf74716173fd494f8ea0332793acb220",
       "max": 3,
       "style": "IPY_MODEL_000a0ce30ef84bfc8ab5b9c23b221bc4",
       "value": 3
      }
     },
     "6b85b3f5a8a844c2bcfadcce25177f81": {
      "model_module": "@jupyter-widgets/controls",
      "model_module_version": "2.0.0",
      "model_name": "HTMLModel",
      "state": {
       "layout": "IPY_MODEL_78c8eefc38c6474fa027d6414ab01f75",
       "style": "IPY_MODEL_d8dded7411de4690a558a1ae7a282d56",
       "value": "100%"
      }
     },
     "6ba368873182486380ecad62d4aec0de": {
      "model_module": "@jupyter-widgets/controls",
      "model_module_version": "2.0.0",
      "model_name": "HTMLModel",
      "state": {
       "layout": "IPY_MODEL_4311cd0e553c47d9b70df4a18569c812",
       "style": "IPY_MODEL_95300a5b30004cba8b3edd3a03b70613",
       "value": " 14/14 [00:36&lt;00:00,  2.73s/it]"
      }
     },
     "6c26f4dda729429f806b3e336dc81622": {
      "model_module": "@jupyter-widgets/controls",
      "model_module_version": "2.0.0",
      "model_name": "HBoxModel",
      "state": {
       "children": [
        "IPY_MODEL_07019ea46ea046e0b87c8e4a25c6963b",
        "IPY_MODEL_d2f142dce1c9498c806f06a30b43f04b",
        "IPY_MODEL_641a8e47dba14be4aa8a10f1329bcaa6"
       ],
       "layout": "IPY_MODEL_19ea34ec07da4d61acec8c855bbc02bf"
      }
     },
     "6cc16a4ebcaa45d0a75baf8f0f57957e": {
      "model_module": "@jupyter-widgets/base",
      "model_module_version": "2.0.0",
      "model_name": "LayoutModel",
      "state": {}
     },
     "6ce6dc7f238243caaf36f8495409d552": {
      "model_module": "@jupyter-widgets/controls",
      "model_module_version": "2.0.0",
      "model_name": "ProgressStyleModel",
      "state": {
       "description_width": ""
      }
     },
     "6d0bfbc93a1545819218856abadd1ff0": {
      "model_module": "@jupyter-widgets/controls",
      "model_module_version": "2.0.0",
      "model_name": "HTMLStyleModel",
      "state": {
       "description_width": "",
       "font_size": null,
       "text_color": null
      }
     },
     "6df3561b5e8444b9b1151930e443c9f8": {
      "model_module": "@jupyter-widgets/controls",
      "model_module_version": "2.0.0",
      "model_name": "HTMLModel",
      "state": {
       "layout": "IPY_MODEL_a2cb0e65b1f44625aefab52e868e76be",
       "style": "IPY_MODEL_ab3e3837b3154d8494ca8fad1899cfb9",
       "value": " 6/6 [00:11&lt;00:00,  2.85s/it]"
      }
     },
     "6e6c8d817cf642cda4b8c67c1421f16b": {
      "model_module": "@jupyter-widgets/base",
      "model_module_version": "2.0.0",
      "model_name": "LayoutModel",
      "state": {}
     },
     "6e7b05e3ccb84beab343d30286940b3b": {
      "model_module": "@jupyter-widgets/controls",
      "model_module_version": "2.0.0",
      "model_name": "HTMLModel",
      "state": {
       "layout": "IPY_MODEL_e33de6c094a54effb98a325d8beecad8",
       "style": "IPY_MODEL_31b974d56faf4275a2224373ca792f0c",
       "value": " 6/6 [00:11&lt;00:00,  2.79s/it]"
      }
     },
     "6e8cca8f46754c3d8e0ab68f602c8685": {
      "model_module": "@jupyter-widgets/controls",
      "model_module_version": "2.0.0",
      "model_name": "HBoxModel",
      "state": {
       "children": [
        "IPY_MODEL_335359af048044b68a622eeed260338f",
        "IPY_MODEL_6fef9dbe7c7f487ea931cc472232c7f8",
        "IPY_MODEL_2796d4640e4c4e929e33d1c64b9f54fc"
       ],
       "layout": "IPY_MODEL_e888eadbc7f94bd8a49318165d57b41e"
      }
     },
     "6f0469764bbf4e3aacaca79738c9664f": {
      "model_module": "@jupyter-widgets/controls",
      "model_module_version": "2.0.0",
      "model_name": "HTMLModel",
      "state": {
       "layout": "IPY_MODEL_88b61669524141039a422c0c834da8c4",
       "style": "IPY_MODEL_0abaf50f623a43e58afcf20b196d3dbc",
       "value": " 6/6 [00:11&lt;00:00,  2.79s/it]"
      }
     },
     "6f156dc2b78341ecaa1dc302165080a5": {
      "model_module": "@jupyter-widgets/controls",
      "model_module_version": "2.0.0",
      "model_name": "HTMLStyleModel",
      "state": {
       "description_width": "",
       "font_size": null,
       "text_color": null
      }
     },
     "6f794c624be94766aa1173d268857714": {
      "model_module": "@jupyter-widgets/controls",
      "model_module_version": "2.0.0",
      "model_name": "HTMLModel",
      "state": {
       "layout": "IPY_MODEL_234e24831a0f4f43bc69f819aff734ef",
       "style": "IPY_MODEL_87594e0f75114cac9ea7e461d39e53ea",
       "value": "100%"
      }
     },
     "6f7a1a6f807143a381b1a06a03ca9ff4": {
      "model_module": "@jupyter-widgets/controls",
      "model_module_version": "2.0.0",
      "model_name": "HBoxModel",
      "state": {
       "children": [
        "IPY_MODEL_cee6b08836af4849b0c65597ec0a4bf1",
        "IPY_MODEL_19d2a5bbbee14c30bd9480c8930412ef",
        "IPY_MODEL_12bd68cfd5214378b677176807915f57"
       ],
       "layout": "IPY_MODEL_77ff9a2f1111443b9a3740a2f82341be"
      }
     },
     "6fcff024baf2498bb3ac78f0d1527144": {
      "model_module": "@jupyter-widgets/base",
      "model_module_version": "2.0.0",
      "model_name": "LayoutModel",
      "state": {}
     },
     "6fd4f788bb824b16af42e0472465355c": {
      "model_module": "@jupyter-widgets/controls",
      "model_module_version": "2.0.0",
      "model_name": "HBoxModel",
      "state": {
       "children": [
        "IPY_MODEL_dc0dd2981a724c11960fdfb9c4753949",
        "IPY_MODEL_430fec0f20bc4e7ebe830021f63dd731",
        "IPY_MODEL_87bd516446324c848607396a35fbd10d"
       ],
       "layout": "IPY_MODEL_71662bb3355047bfa1794f2618d512fd"
      }
     },
     "6fef9dbe7c7f487ea931cc472232c7f8": {
      "model_module": "@jupyter-widgets/controls",
      "model_module_version": "2.0.0",
      "model_name": "FloatProgressModel",
      "state": {
       "bar_style": "danger",
       "layout": "IPY_MODEL_8ed4ea60c228441bb58a109bfdb44d87",
       "max": 14,
       "style": "IPY_MODEL_2d314896d673436ca34fb2700ce24e3f",
       "value": 8
      }
     },
     "702032d5605547c28038f28511a85928": {
      "model_module": "@jupyter-widgets/base",
      "model_module_version": "2.0.0",
      "model_name": "LayoutModel",
      "state": {}
     },
     "70268c8c928f4f88b7800ca0b349bf8e": {
      "model_module": "@jupyter-widgets/controls",
      "model_module_version": "2.0.0",
      "model_name": "FloatProgressModel",
      "state": {
       "bar_style": "success",
       "layout": "IPY_MODEL_85a207da415748b88779087c996cfbbe",
       "max": 3,
       "style": "IPY_MODEL_a52dc0b6be834b578252ec84b57cb7ae",
       "value": 3
      }
     },
     "705019b0b05f4387aefdd6bb569e74d9": {
      "model_module": "@jupyter-widgets/controls",
      "model_module_version": "2.0.0",
      "model_name": "HTMLStyleModel",
      "state": {
       "description_width": "",
       "font_size": null,
       "text_color": null
      }
     },
     "70960292e2904c71aaf0829c5276ff22": {
      "model_module": "@jupyter-widgets/controls",
      "model_module_version": "2.0.0",
      "model_name": "HTMLModel",
      "state": {
       "layout": "IPY_MODEL_f302702e49304ecc970ba60d6dff4f48",
       "style": "IPY_MODEL_54ed6756a74146a8bcf1d0d9a6838a2b",
       "value": " 67%"
      }
     },
     "70aed8869bb54430ad242135ad759d2f": {
      "model_module": "@jupyter-widgets/controls",
      "model_module_version": "2.0.0",
      "model_name": "HBoxModel",
      "state": {
       "children": [
        "IPY_MODEL_2b06f801070a48a5bb5f39f5577cf5f1",
        "IPY_MODEL_b6c01ffdf5dc4c1a93c67b7a9fa840a0",
        "IPY_MODEL_c0a9ef47e8e84bcba447e99fa44f6883"
       ],
       "layout": "IPY_MODEL_271558bdfe944780b3e8a65d2bfe1626"
      }
     },
     "70eea4c1fb1e41ff8ee31f5613ef5754": {
      "model_module": "@jupyter-widgets/base",
      "model_module_version": "2.0.0",
      "model_name": "LayoutModel",
      "state": {}
     },
     "71662bb3355047bfa1794f2618d512fd": {
      "model_module": "@jupyter-widgets/base",
      "model_module_version": "2.0.0",
      "model_name": "LayoutModel",
      "state": {}
     },
     "71c16ffe2b024132b2cf659c64ff8904": {
      "model_module": "@jupyter-widgets/controls",
      "model_module_version": "2.0.0",
      "model_name": "FloatProgressModel",
      "state": {
       "bar_style": "success",
       "layout": "IPY_MODEL_e9f11de37b074385b4ae630297261ce2",
       "max": 6,
       "style": "IPY_MODEL_4ffcd09f2b804a8cae799939c2e95ae0",
       "value": 6
      }
     },
     "721e182dd01e47aca3f0e758c8c7c4b6": {
      "model_module": "@jupyter-widgets/controls",
      "model_module_version": "2.0.0",
      "model_name": "DescriptionStyleModel",
      "state": {
       "description_width": ""
      }
     },
     "72959c60ea7840199da1f865e3205678": {
      "model_module": "@jupyter-widgets/controls",
      "model_module_version": "2.0.0",
      "model_name": "HTMLStyleModel",
      "state": {
       "description_width": "",
       "font_size": null,
       "text_color": null
      }
     },
     "730913aaea4747af9cb8ab72603e2493": {
      "model_module": "@jupyter-widgets/controls",
      "model_module_version": "2.0.0",
      "model_name": "HTMLModel",
      "state": {
       "layout": "IPY_MODEL_c94f83c2248f4f50974750f0c2ee6bc1",
       "style": "IPY_MODEL_bb4c687cc5b7401d8d90170737dfe53e",
       "value": " 6/6 [00:08&lt;00:00,  1.96s/it]"
      }
     },
     "73d6e42220b34c1db7c9c32952805469": {
      "model_module": "@jupyter-widgets/controls",
      "model_module_version": "2.0.0",
      "model_name": "DescriptionStyleModel",
      "state": {
       "description_width": ""
      }
     },
     "749e6b87082c4e4bbdd4030cad16b4ca": {
      "model_module": "@jupyter-widgets/controls",
      "model_module_version": "2.0.0",
      "model_name": "FloatProgressModel",
      "state": {
       "bar_style": "success",
       "layout": "IPY_MODEL_bd101b633ea34ac69246ecb0598515b8",
       "max": 14,
       "style": "IPY_MODEL_9cb0f87fdb62465a8ac2ef169db7b6b9",
       "value": 14
      }
     },
     "74b05596216a49a1b150b9be0061ffef": {
      "model_module": "@jupyter-widgets/controls",
      "model_module_version": "2.0.0",
      "model_name": "HTMLModel",
      "state": {
       "layout": "IPY_MODEL_7b937f4aa0db46cbbdf18c146a4d8d9d",
       "style": "IPY_MODEL_e49fc61a072143458af206edcef6af8c",
       "value": " 14/14 [00:35&lt;00:00,  2.65s/it]"
      }
     },
     "74b140d56f264876ad3baac400674e81": {
      "model_module": "@jupyter-widgets/base",
      "model_module_version": "2.0.0",
      "model_name": "LayoutModel",
      "state": {}
     },
     "74beaec67ac64b4f9e4ffd9764bd2b9d": {
      "model_module": "@jupyter-widgets/controls",
      "model_module_version": "2.0.0",
      "model_name": "DescriptionStyleModel",
      "state": {
       "description_width": ""
      }
     },
     "74e16d5201b746f6bda501151e592eed": {
      "model_module": "@jupyter-widgets/controls",
      "model_module_version": "2.0.0",
      "model_name": "ProgressStyleModel",
      "state": {
       "description_width": ""
      }
     },
     "7598e2700b684d90841799187dfcc138": {
      "model_module": "@jupyter-widgets/controls",
      "model_module_version": "2.0.0",
      "model_name": "HTMLModel",
      "state": {
       "layout": "IPY_MODEL_415ded97bd634a94aa9493edee1aef5e",
       "style": "IPY_MODEL_2a1b43fb3d5e41dbaad395e88d69dc17",
       "value": " 10/14 [00:26&lt;00:17,  4.32s/it]"
      }
     },
     "761aab67640240e3ba173a5b2eaf5401": {
      "model_module": "@jupyter-widgets/base",
      "model_module_version": "2.0.0",
      "model_name": "LayoutModel",
      "state": {}
     },
     "761febfec9434d18a10e7a292405c5d3": {
      "model_module": "@jupyter-widgets/controls",
      "model_module_version": "2.0.0",
      "model_name": "HTMLModel",
      "state": {
       "layout": "IPY_MODEL_2493d03c7bd34717904cab4538dd29ad",
       "style": "IPY_MODEL_437853bb71fc48718a27425bc6fcd9c5",
       "value": " 3/3 [00:10&lt;00:00,  4.29s/it]"
      }
     },
     "7656a75fac334758bff1db99160dd95b": {
      "model_module": "@jupyter-widgets/controls",
      "model_module_version": "2.0.0",
      "model_name": "HTMLStyleModel",
      "state": {
       "description_width": "",
       "font_size": null,
       "text_color": null
      }
     },
     "76d91f459d6d4f2aa4c55161e3e2fbd5": {
      "model_module": "@jupyter-widgets/controls",
      "model_module_version": "2.0.0",
      "model_name": "DescriptionStyleModel",
      "state": {
       "description_width": ""
      }
     },
     "76dc5ba1a0eb48358cccdd7b604f2521": {
      "model_module": "@jupyter-widgets/base",
      "model_module_version": "2.0.0",
      "model_name": "LayoutModel",
      "state": {}
     },
     "77027611d9f94233a558744125d779c3": {
      "model_module": "@jupyter-widgets/controls",
      "model_module_version": "2.0.0",
      "model_name": "DescriptionStyleModel",
      "state": {
       "description_width": ""
      }
     },
     "77060f02c0864339a20814717a687e8b": {
      "model_module": "@jupyter-widgets/controls",
      "model_module_version": "2.0.0",
      "model_name": "HTMLModel",
      "state": {
       "layout": "IPY_MODEL_93384c970167447d96b9fbe341ba03f3",
       "style": "IPY_MODEL_334b08b1d51a4a27ba72938258be0194",
       "value": "100%"
      }
     },
     "77569b61b9f94b3bba023f8f25e98d70": {
      "model_module": "@jupyter-widgets/base",
      "model_module_version": "2.0.0",
      "model_name": "LayoutModel",
      "state": {}
     },
     "7764764341734b73a31c67d572f15ab7": {
      "model_module": "@jupyter-widgets/controls",
      "model_module_version": "2.0.0",
      "model_name": "HBoxModel",
      "state": {
       "children": [
        "IPY_MODEL_1ea51bc560ca4022bb1a949c79a0f734",
        "IPY_MODEL_4388f670ebb044a3a9838ebdc4c2a587",
        "IPY_MODEL_b99910e822374a6b9ce70d7b96324062"
       ],
       "layout": "IPY_MODEL_62631fe6d1564f839a570964b62a24c8"
      }
     },
     "777f86a86f664c9cb9be08b5315a4d59": {
      "model_module": "@jupyter-widgets/controls",
      "model_module_version": "2.0.0",
      "model_name": "FloatProgressModel",
      "state": {
       "bar_style": "success",
       "layout": "IPY_MODEL_a251fdba365540e59af8cbd3077647f0",
       "max": 3,
       "style": "IPY_MODEL_c5bdc1aea1dc42808c80934112cab5ca",
       "value": 3
      }
     },
     "77c0f641a17541f098b0af2bfc288ba2": {
      "model_module": "@jupyter-widgets/controls",
      "model_module_version": "2.0.0",
      "model_name": "HTMLStyleModel",
      "state": {
       "description_width": "",
       "font_size": null,
       "text_color": null
      }
     },
     "77cc87b539e74f5dafad722153e60cd3": {
      "model_module": "@jupyter-widgets/controls",
      "model_module_version": "2.0.0",
      "model_name": "DescriptionStyleModel",
      "state": {
       "description_width": ""
      }
     },
     "77ed0aba6bdd404193911cba5b9d44ea": {
      "model_module": "@jupyter-widgets/controls",
      "model_module_version": "2.0.0",
      "model_name": "DescriptionStyleModel",
      "state": {
       "description_width": ""
      }
     },
     "77ff9a2f1111443b9a3740a2f82341be": {
      "model_module": "@jupyter-widgets/base",
      "model_module_version": "2.0.0",
      "model_name": "LayoutModel",
      "state": {}
     },
     "782e5b5a30014d79b29896c0c203222d": {
      "model_module": "@jupyter-widgets/base",
      "model_module_version": "2.0.0",
      "model_name": "LayoutModel",
      "state": {}
     },
     "783ab5f1eaf04f2e9109c2425d8d2ce7": {
      "model_module": "@jupyter-widgets/controls",
      "model_module_version": "2.0.0",
      "model_name": "HTMLModel",
      "state": {
       "layout": "IPY_MODEL_5a47368809b04a868d7c3abfa75b1f0b",
       "style": "IPY_MODEL_ffaab0ce30f54c8899278aa16a20a700",
       "value": "100%"
      }
     },
     "7863273832e24bb2b5709eec56869f46": {
      "model_module": "@jupyter-widgets/controls",
      "model_module_version": "2.0.0",
      "model_name": "HTMLModel",
      "state": {
       "layout": "IPY_MODEL_4c7a44cfe46546c7ad4510925b762ba3",
       "style": "IPY_MODEL_63db93ef7251427da2644643a5f52e2a",
       "value": " 3/3 [00:10&lt;00:00,  3.99s/it]"
      }
     },
     "78c8eefc38c6474fa027d6414ab01f75": {
      "model_module": "@jupyter-widgets/base",
      "model_module_version": "2.0.0",
      "model_name": "LayoutModel",
      "state": {}
     },
     "799c2ce912b542fe9177159be2e714af": {
      "model_module": "@jupyter-widgets/controls",
      "model_module_version": "2.0.0",
      "model_name": "FloatProgressModel",
      "state": {
       "bar_style": "success",
       "layout": "IPY_MODEL_edba1ebe3a684c6da97596e98b5211a5",
       "max": 14,
       "style": "IPY_MODEL_e4fee53c94fa471e8eb4b075e0b60ed2",
       "value": 14
      }
     },
     "79a44aa20b9946bc8b79ab2e2e5df6a2": {
      "model_module": "@jupyter-widgets/controls",
      "model_module_version": "2.0.0",
      "model_name": "FloatProgressModel",
      "state": {
       "bar_style": "success",
       "layout": "IPY_MODEL_46f145a243894c2d993c289862c13a8b",
       "max": 14,
       "style": "IPY_MODEL_a0618f7e69d04e0a9872eb21f6b60876",
       "value": 14
      }
     },
     "79d7c97072684d3f9b29378b6b243616": {
      "model_module": "@jupyter-widgets/controls",
      "model_module_version": "2.0.0",
      "model_name": "HBoxModel",
      "state": {
       "children": [
        "IPY_MODEL_7fc0e0843f474d44ac6ab47c69f5c3e3",
        "IPY_MODEL_80d0c8c416f94608b61f96459cf40fe7",
        "IPY_MODEL_fec48c92bd4346b18cec58b6d94fbb49"
       ],
       "layout": "IPY_MODEL_ee0c4e46207a4274a774314fe021f144"
      }
     },
     "7a10d58c1ecc444c83d13eb4996e5ee4": {
      "model_module": "@jupyter-widgets/base",
      "model_module_version": "2.0.0",
      "model_name": "LayoutModel",
      "state": {}
     },
     "7a28907fd43d4e51b721aa9335b3ddd1": {
      "model_module": "@jupyter-widgets/base",
      "model_module_version": "2.0.0",
      "model_name": "LayoutModel",
      "state": {}
     },
     "7a5f3f054d8d4da3aed21f20541bed79": {
      "model_module": "@jupyter-widgets/controls",
      "model_module_version": "2.0.0",
      "model_name": "HTMLModel",
      "state": {
       "layout": "IPY_MODEL_23305649c3294c339f312c5895d8215e",
       "style": "IPY_MODEL_589a4e209def475289c2189ea9d4b87d",
       "value": "  0%"
      }
     },
     "7aab256f06ef4b9e8565daa375e42e01": {
      "model_module": "@jupyter-widgets/controls",
      "model_module_version": "2.0.0",
      "model_name": "DescriptionStyleModel",
      "state": {
       "description_width": ""
      }
     },
     "7ac288d49970411bbc6f9fd4c48b352e": {
      "model_module": "@jupyter-widgets/controls",
      "model_module_version": "2.0.0",
      "model_name": "HTMLStyleModel",
      "state": {
       "description_width": "",
       "font_size": null,
       "text_color": null
      }
     },
     "7ad06790a5154b6986cba20d76f8be7d": {
      "model_module": "@jupyter-widgets/controls",
      "model_module_version": "2.0.0",
      "model_name": "ProgressStyleModel",
      "state": {
       "description_width": ""
      }
     },
     "7aedc26c48254a838669f450a1fcbb22": {
      "model_module": "@jupyter-widgets/controls",
      "model_module_version": "2.0.0",
      "model_name": "ProgressStyleModel",
      "state": {
       "description_width": ""
      }
     },
     "7b671e2e52f24c399d68c55d193f4624": {
      "model_module": "@jupyter-widgets/controls",
      "model_module_version": "2.0.0",
      "model_name": "HTMLModel",
      "state": {
       "layout": "IPY_MODEL_1b3e9c32128b4afd82e6239a2c210fd1",
       "style": "IPY_MODEL_837873934a2b49d7b1739352bf6c8c7c",
       "value": " 3/3 [00:10&lt;00:00,  4.20s/it]"
      }
     },
     "7b937f4aa0db46cbbdf18c146a4d8d9d": {
      "model_module": "@jupyter-widgets/base",
      "model_module_version": "2.0.0",
      "model_name": "LayoutModel",
      "state": {}
     },
     "7b94f9a54ba547ecaa1e06fb565d1e14": {
      "model_module": "@jupyter-widgets/controls",
      "model_module_version": "2.0.0",
      "model_name": "HBoxModel",
      "state": {
       "children": [
        "IPY_MODEL_0b4691c9dc8c4730b2406addff4465cf",
        "IPY_MODEL_195bf44553064ef9b5c442ed7f8d14c0",
        "IPY_MODEL_68639f2e8c1c4e3289e0f6d8dce28243"
       ],
       "layout": "IPY_MODEL_2675acb784a64d10b3c0d15cb32666e4"
      }
     },
     "7bc1387af95243a4936c14134903bc0d": {
      "model_module": "@jupyter-widgets/base",
      "model_module_version": "2.0.0",
      "model_name": "LayoutModel",
      "state": {}
     },
     "7c0f779c53b24b90bfd89261b716e72d": {
      "model_module": "@jupyter-widgets/controls",
      "model_module_version": "2.0.0",
      "model_name": "DescriptionStyleModel",
      "state": {
       "description_width": ""
      }
     },
     "7c31ea7a778745c7b6d783ad107c3f8b": {
      "model_module": "@jupyter-widgets/controls",
      "model_module_version": "2.0.0",
      "model_name": "ProgressStyleModel",
      "state": {
       "description_width": ""
      }
     },
     "7cdbaf6f3ca74f5f9129c7b62ff0fad9": {
      "model_module": "@jupyter-widgets/base",
      "model_module_version": "2.0.0",
      "model_name": "LayoutModel",
      "state": {}
     },
     "7d1f068199244ed6b81817ea80f86c30": {
      "model_module": "@jupyter-widgets/base",
      "model_module_version": "2.0.0",
      "model_name": "LayoutModel",
      "state": {}
     },
     "7e6348b6f12249d5968b9eb97f166010": {
      "model_module": "@jupyter-widgets/controls",
      "model_module_version": "2.0.0",
      "model_name": "DescriptionStyleModel",
      "state": {
       "description_width": ""
      }
     },
     "7e6cc6a679764955ae923d5a7ffce52d": {
      "model_module": "@jupyter-widgets/base",
      "model_module_version": "2.0.0",
      "model_name": "LayoutModel",
      "state": {}
     },
     "7e75042516144e45b782a1306aa9391c": {
      "model_module": "@jupyter-widgets/base",
      "model_module_version": "2.0.0",
      "model_name": "LayoutModel",
      "state": {}
     },
     "7eae24d97b304548b79fa6b8c4f0440c": {
      "model_module": "@jupyter-widgets/controls",
      "model_module_version": "2.0.0",
      "model_name": "HTMLModel",
      "state": {
       "layout": "IPY_MODEL_ab1b358f19404b43ab69060dc71719fd",
       "style": "IPY_MODEL_98b51c8e0b6446d884029b755913174d",
       "value": " 0/6 [00:00&lt;?, ?it/s]"
      }
     },
     "7f39e4fb792e4f0dbe1c7c27002d693a": {
      "model_module": "@jupyter-widgets/controls",
      "model_module_version": "2.0.0",
      "model_name": "FloatProgressModel",
      "state": {
       "bar_style": "success",
       "layout": "IPY_MODEL_81b26703a68944f4ab93ad79e9c80094",
       "max": 14,
       "style": "IPY_MODEL_a4587bcd144e43aca297d025ad154820",
       "value": 14
      }
     },
     "7fc0e0843f474d44ac6ab47c69f5c3e3": {
      "model_module": "@jupyter-widgets/controls",
      "model_module_version": "2.0.0",
      "model_name": "HTMLModel",
      "state": {
       "layout": "IPY_MODEL_623a9efab414447da1c1ae61858f5778",
       "style": "IPY_MODEL_5fe97e3ddaf541e8bb132154c246ac91",
       "value": "100%"
      }
     },
     "801c18dea9304ecbb6bb0636069827d4": {
      "model_module": "@jupyter-widgets/base",
      "model_module_version": "2.0.0",
      "model_name": "LayoutModel",
      "state": {}
     },
     "802c5562f59f42ef96997de1b9feb3b5": {
      "model_module": "@jupyter-widgets/controls",
      "model_module_version": "2.0.0",
      "model_name": "HTMLModel",
      "state": {
       "layout": "IPY_MODEL_a99c5e20d6d7423181e14969ec0ffc55",
       "style": "IPY_MODEL_edd4ff7f3e974300b167832d9129ddc9",
       "value": "100%"
      }
     },
     "8039000c118c4b35bc9ffcc4d13b27f3": {
      "model_module": "@jupyter-widgets/controls",
      "model_module_version": "2.0.0",
      "model_name": "HTMLModel",
      "state": {
       "layout": "IPY_MODEL_084efb17fade418aac55ccf88c99373d",
       "style": "IPY_MODEL_fcae490625734c64bdd2385f2511ea70",
       "value": " 14/14 [00:37&lt;00:00,  2.77s/it]"
      }
     },
     "805874e27f1a45e1b89fb0c287a680a8": {
      "model_module": "@jupyter-widgets/controls",
      "model_module_version": "2.0.0",
      "model_name": "DescriptionStyleModel",
      "state": {
       "description_width": ""
      }
     },
     "809b845a947d4eceaa9d7201273254c6": {
      "model_module": "@jupyter-widgets/base",
      "model_module_version": "2.0.0",
      "model_name": "LayoutModel",
      "state": {}
     },
     "80c763c7699b4ff49a71253aa16e9b40": {
      "model_module": "@jupyter-widgets/base",
      "model_module_version": "2.0.0",
      "model_name": "LayoutModel",
      "state": {}
     },
     "80d0c8c416f94608b61f96459cf40fe7": {
      "model_module": "@jupyter-widgets/controls",
      "model_module_version": "2.0.0",
      "model_name": "FloatProgressModel",
      "state": {
       "bar_style": "success",
       "layout": "IPY_MODEL_7e75042516144e45b782a1306aa9391c",
       "max": 6,
       "style": "IPY_MODEL_b8816800b87d481bb2bae8c7a9c6e818",
       "value": 6
      }
     },
     "810d595243204b40860e6dae8429371f": {
      "model_module": "@jupyter-widgets/controls",
      "model_module_version": "2.0.0",
      "model_name": "HTMLModel",
      "state": {
       "layout": "IPY_MODEL_835227c5d2954262939a6cba31a5dc46",
       "style": "IPY_MODEL_50f4f2ca4dba4a54b2e2e14d411ef914",
       "value": " 6/6 [00:11&lt;00:00,  2.78s/it]"
      }
     },
     "8119cd3961734583bf6db0c483e7f3a5": {
      "model_module": "@jupyter-widgets/controls",
      "model_module_version": "2.0.0",
      "model_name": "HTMLModel",
      "state": {
       "layout": "IPY_MODEL_0f08dbddfbf34a21a5d145735909cfec",
       "style": "IPY_MODEL_a2dc4e35c9ca48d3a6e51fc5cefd0ced",
       "value": " 14/14 [00:34&lt;00:00,  2.58s/it]"
      }
     },
     "81219c097ac744b69ad4e171ef739df5": {
      "model_module": "@jupyter-widgets/controls",
      "model_module_version": "2.0.0",
      "model_name": "DescriptionStyleModel",
      "state": {
       "description_width": ""
      }
     },
     "817301f479794c12b0e516e4b27ca565": {
      "model_module": "@jupyter-widgets/base",
      "model_module_version": "2.0.0",
      "model_name": "LayoutModel",
      "state": {}
     },
     "8184abafd437439481a39fe8f50c41bf": {
      "model_module": "@jupyter-widgets/controls",
      "model_module_version": "2.0.0",
      "model_name": "ProgressStyleModel",
      "state": {
       "description_width": ""
      }
     },
     "81b26703a68944f4ab93ad79e9c80094": {
      "model_module": "@jupyter-widgets/base",
      "model_module_version": "2.0.0",
      "model_name": "LayoutModel",
      "state": {}
     },
     "81e017f82e2b4d11af2c8ce57dcb546b": {
      "model_module": "@jupyter-widgets/base",
      "model_module_version": "2.0.0",
      "model_name": "LayoutModel",
      "state": {}
     },
     "81fd12c7fc3c414b93a7481f3fb7da1e": {
      "model_module": "@jupyter-widgets/controls",
      "model_module_version": "2.0.0",
      "model_name": "HTMLModel",
      "state": {
       "layout": "IPY_MODEL_276ce3320f1349639ffd64105f12b350",
       "style": "IPY_MODEL_77027611d9f94233a558744125d779c3",
       "value": "100%"
      }
     },
     "8217a65ec82749c384cfde988d04b47e": {
      "model_module": "@jupyter-widgets/base",
      "model_module_version": "2.0.0",
      "model_name": "LayoutModel",
      "state": {}
     },
     "82c29639356a4a678ac451eeb04f30de": {
      "model_module": "@jupyter-widgets/base",
      "model_module_version": "2.0.0",
      "model_name": "LayoutModel",
      "state": {}
     },
     "82fb3cf99ebb4e96ac943460c9281ad7": {
      "model_module": "@jupyter-widgets/controls",
      "model_module_version": "2.0.0",
      "model_name": "HTMLModel",
      "state": {
       "layout": "IPY_MODEL_4df9ea255ee04057a55797a504a03021",
       "style": "IPY_MODEL_f4e82aa0dad7492e9f251f424c0459f3",
       "value": " 3/3 [00:11&lt;00:00,  4.35s/it]"
      }
     },
     "83367f94883e4fd6883bf6596850b72c": {
      "model_module": "@jupyter-widgets/controls",
      "model_module_version": "2.0.0",
      "model_name": "ProgressStyleModel",
      "state": {
       "description_width": ""
      }
     },
     "835227c5d2954262939a6cba31a5dc46": {
      "model_module": "@jupyter-widgets/base",
      "model_module_version": "2.0.0",
      "model_name": "LayoutModel",
      "state": {}
     },
     "837873934a2b49d7b1739352bf6c8c7c": {
      "model_module": "@jupyter-widgets/controls",
      "model_module_version": "2.0.0",
      "model_name": "DescriptionStyleModel",
      "state": {
       "description_width": ""
      }
     },
     "83c2fac7843c4663a1b118a4efb743db": {
      "model_module": "@jupyter-widgets/controls",
      "model_module_version": "2.0.0",
      "model_name": "HTMLModel",
      "state": {
       "layout": "IPY_MODEL_5592b4ced2b04897acb15b7d476b9740",
       "style": "IPY_MODEL_f13ca19e18544997bae83876d0159c0a",
       "value": "100%"
      }
     },
     "845af8d2da2a4ab4ad8df8b4e2341619": {
      "model_module": "@jupyter-widgets/controls",
      "model_module_version": "2.0.0",
      "model_name": "DescriptionStyleModel",
      "state": {
       "description_width": ""
      }
     },
     "850b5faee343454caff7bcb954c1b297": {
      "model_module": "@jupyter-widgets/base",
      "model_module_version": "2.0.0",
      "model_name": "LayoutModel",
      "state": {}
     },
     "854dbd68562548558ed1aa363a4554d2": {
      "model_module": "@jupyter-widgets/controls",
      "model_module_version": "2.0.0",
      "model_name": "HTMLModel",
      "state": {
       "layout": "IPY_MODEL_530227233cdb4d7bbe6a127d11bbbc96",
       "style": "IPY_MODEL_5f3c41984e834353b4bd3fbb27a25c2c",
       "value": " 3/3 [00:10&lt;00:00,  4.26s/it]"
      }
     },
     "856fc5b6342d48619ba1ba16c73ed3f4": {
      "model_module": "@jupyter-widgets/controls",
      "model_module_version": "2.0.0",
      "model_name": "HTMLStyleModel",
      "state": {
       "description_width": "",
       "font_size": null,
       "text_color": null
      }
     },
     "8588cbf7c52d4f418839811101f446cc": {
      "model_module": "@jupyter-widgets/base",
      "model_module_version": "2.0.0",
      "model_name": "LayoutModel",
      "state": {}
     },
     "85a207da415748b88779087c996cfbbe": {
      "model_module": "@jupyter-widgets/base",
      "model_module_version": "2.0.0",
      "model_name": "LayoutModel",
      "state": {}
     },
     "85bac26c66964215ac5fdf16b0e39b66": {
      "model_module": "@jupyter-widgets/base",
      "model_module_version": "2.0.0",
      "model_name": "LayoutModel",
      "state": {}
     },
     "85d9ce7fbbea4356a2844cb8e9bd2564": {
      "model_module": "@jupyter-widgets/controls",
      "model_module_version": "2.0.0",
      "model_name": "DescriptionStyleModel",
      "state": {
       "description_width": ""
      }
     },
     "85e61beb995d4af989a3d453931372b6": {
      "model_module": "@jupyter-widgets/controls",
      "model_module_version": "2.0.0",
      "model_name": "HBoxModel",
      "state": {
       "children": [
        "IPY_MODEL_57dfcbb0414848a7afaf25ae5b8f6318",
        "IPY_MODEL_59cb8b51d70545db801f62bf91dde842",
        "IPY_MODEL_7b671e2e52f24c399d68c55d193f4624"
       ],
       "layout": "IPY_MODEL_e5627be0bb0747cbb16d4c50cdc94823"
      }
     },
     "85ef1aa4fcf8440085059dd1730c10ce": {
      "model_module": "@jupyter-widgets/controls",
      "model_module_version": "2.0.0",
      "model_name": "HBoxModel",
      "state": {
       "children": [
        "IPY_MODEL_f66bdd911a814945be5752c9df45f480",
        "IPY_MODEL_79a44aa20b9946bc8b79ab2e2e5df6a2",
        "IPY_MODEL_47f98225af024bc7af24fb7f21e52399"
       ],
       "layout": "IPY_MODEL_212dcdc1e2d240d883b18393d45acda8"
      }
     },
     "86408805e10e4b36b31272710102a681": {
      "model_module": "@jupyter-widgets/controls",
      "model_module_version": "2.0.0",
      "model_name": "HTMLStyleModel",
      "state": {
       "description_width": "",
       "font_size": null,
       "text_color": null
      }
     },
     "86b7cab297b94e7ab2ac786d7cd1fa55": {
      "model_module": "@jupyter-widgets/base",
      "model_module_version": "2.0.0",
      "model_name": "LayoutModel",
      "state": {}
     },
     "8758e08007c147cc995a9cd778321546": {
      "model_module": "@jupyter-widgets/base",
      "model_module_version": "2.0.0",
      "model_name": "LayoutModel",
      "state": {}
     },
     "87594e0f75114cac9ea7e461d39e53ea": {
      "model_module": "@jupyter-widgets/controls",
      "model_module_version": "2.0.0",
      "model_name": "DescriptionStyleModel",
      "state": {
       "description_width": ""
      }
     },
     "876f19a2a1274dfaab89aed4f6d34307": {
      "model_module": "@jupyter-widgets/controls",
      "model_module_version": "2.0.0",
      "model_name": "ProgressStyleModel",
      "state": {
       "description_width": ""
      }
     },
     "87797a99938f45d29bd835be4b5ec572": {
      "model_module": "@jupyter-widgets/base",
      "model_module_version": "2.0.0",
      "model_name": "LayoutModel",
      "state": {}
     },
     "87bd516446324c848607396a35fbd10d": {
      "model_module": "@jupyter-widgets/controls",
      "model_module_version": "2.0.0",
      "model_name": "HTMLModel",
      "state": {
       "layout": "IPY_MODEL_115a126a5dc14d9e9e0c1a91e79ef53e",
       "style": "IPY_MODEL_5649d18abbde4f47a03b99cee129ca40",
       "value": " 3/3 [00:11&lt;00:00,  4.39s/it]"
      }
     },
     "87ed297c898a4aa8a059c3d7c6418959": {
      "model_module": "@jupyter-widgets/base",
      "model_module_version": "2.0.0",
      "model_name": "LayoutModel",
      "state": {}
     },
     "88209ef64d6c4b459ebea93a0eacd68c": {
      "model_module": "@jupyter-widgets/controls",
      "model_module_version": "2.0.0",
      "model_name": "FloatProgressModel",
      "state": {
       "bar_style": "success",
       "layout": "IPY_MODEL_8a24378d55ee46b6877d4dec1c9a5199",
       "max": 6,
       "style": "IPY_MODEL_91ba93a175354e73ad7477e0f4bdf81a",
       "value": 6
      }
     },
     "8882d1d7c3f1433a9b9101a888037ec7": {
      "model_module": "@jupyter-widgets/controls",
      "model_module_version": "2.0.0",
      "model_name": "HTMLModel",
      "state": {
       "layout": "IPY_MODEL_f65d8a8840ca449cbde70bef05e56953",
       "style": "IPY_MODEL_b0967127666b443cb813bf91f7ecfedf",
       "value": "100%"
      }
     },
     "8884c47ab3c441ce8df0a22eac4b497e": {
      "model_module": "@jupyter-widgets/base",
      "model_module_version": "2.0.0",
      "model_name": "LayoutModel",
      "state": {}
     },
     "88b61669524141039a422c0c834da8c4": {
      "model_module": "@jupyter-widgets/base",
      "model_module_version": "2.0.0",
      "model_name": "LayoutModel",
      "state": {}
     },
     "8981bf35b70148559775a41ed92d1ed1": {
      "model_module": "@jupyter-widgets/base",
      "model_module_version": "2.0.0",
      "model_name": "LayoutModel",
      "state": {}
     },
     "89df800d4df747eaa75255a756977bf8": {
      "model_module": "@jupyter-widgets/controls",
      "model_module_version": "2.0.0",
      "model_name": "ProgressStyleModel",
      "state": {
       "description_width": ""
      }
     },
     "8a03ad0d87be4739985ebdbd8e3f6821": {
      "model_module": "@jupyter-widgets/controls",
      "model_module_version": "2.0.0",
      "model_name": "HTMLModel",
      "state": {
       "layout": "IPY_MODEL_ba29168235254634b5b1b682e0b4ae4c",
       "style": "IPY_MODEL_bc59be59c8e340218f148d15b9e3c513",
       "value": " 14/14 [00:34&lt;00:00,  2.54s/it]"
      }
     },
     "8a24378d55ee46b6877d4dec1c9a5199": {
      "model_module": "@jupyter-widgets/base",
      "model_module_version": "2.0.0",
      "model_name": "LayoutModel",
      "state": {}
     },
     "8b057534064a4e3686cd34358bb93401": {
      "model_module": "@jupyter-widgets/controls",
      "model_module_version": "2.0.0",
      "model_name": "HTMLModel",
      "state": {
       "layout": "IPY_MODEL_bfc48091ec6d4aa88c7cd6e624b2063f",
       "style": "IPY_MODEL_805874e27f1a45e1b89fb0c287a680a8",
       "value": " 3/3 [00:10&lt;00:00,  4.25s/it]"
      }
     },
     "8b16a795483843d3b70dba6e1fd26a29": {
      "model_module": "@jupyter-widgets/base",
      "model_module_version": "2.0.0",
      "model_name": "LayoutModel",
      "state": {}
     },
     "8b612f576d034f368bf01513ba1fdbf7": {
      "model_module": "@jupyter-widgets/controls",
      "model_module_version": "2.0.0",
      "model_name": "HTMLStyleModel",
      "state": {
       "description_width": "",
       "font_size": null,
       "text_color": null
      }
     },
     "8ba4f31efed1433d8576bf8f21e073b8": {
      "model_module": "@jupyter-widgets/controls",
      "model_module_version": "2.0.0",
      "model_name": "HTMLModel",
      "state": {
       "layout": "IPY_MODEL_a67580eb9d634cf69c7c9c303da15028",
       "style": "IPY_MODEL_582ab9a756b849b2b26d95663d2ff9e2",
       "value": "100%"
      }
     },
     "8bde0caeebf740c4bc667fbfa72d02ed": {
      "model_module": "@jupyter-widgets/controls",
      "model_module_version": "2.0.0",
      "model_name": "HTMLModel",
      "state": {
       "layout": "IPY_MODEL_335ac4086e8e40ea906ff302e06b35ec",
       "style": "IPY_MODEL_17800447be014770ae05c74ce802f81c",
       "value": " 71%"
      }
     },
     "8c4974d3c01f4a0ab4612bcd9d2c487e": {
      "model_module": "@jupyter-widgets/controls",
      "model_module_version": "2.0.0",
      "model_name": "FloatProgressModel",
      "state": {
       "bar_style": "success",
       "layout": "IPY_MODEL_06cd218c9ce0406090f8b3651b412fe3",
       "max": 3,
       "style": "IPY_MODEL_069d1da5bb904bb092d378f310a159d1",
       "value": 3
      }
     },
     "8c9fb845d586409ebe1a3b099073ed87": {
      "model_module": "@jupyter-widgets/base",
      "model_module_version": "2.0.0",
      "model_name": "LayoutModel",
      "state": {}
     },
     "8ccf6c8ad7a94dee96a0b8f1c326da34": {
      "model_module": "@jupyter-widgets/controls",
      "model_module_version": "2.0.0",
      "model_name": "DescriptionStyleModel",
      "state": {
       "description_width": ""
      }
     },
     "8d0d8c956fc0459f905a8b1a41ffe4fe": {
      "model_module": "@jupyter-widgets/base",
      "model_module_version": "2.0.0",
      "model_name": "LayoutModel",
      "state": {}
     },
     "8d4c233f2bd34fc785689c28a4443ae4": {
      "model_module": "@jupyter-widgets/base",
      "model_module_version": "2.0.0",
      "model_name": "LayoutModel",
      "state": {}
     },
     "8d537c8aa9584d61a56bb5641182a29e": {
      "model_module": "@jupyter-widgets/base",
      "model_module_version": "2.0.0",
      "model_name": "LayoutModel",
      "state": {}
     },
     "8d594a3eb60f4356a1bd8855a8fbab5e": {
      "model_module": "@jupyter-widgets/controls",
      "model_module_version": "2.0.0",
      "model_name": "HTMLModel",
      "state": {
       "layout": "IPY_MODEL_2e67d915b16444b9b3a482f2cd5cc527",
       "style": "IPY_MODEL_e58ad84b62ec439799d1916be0c1311f",
       "value": "100%"
      }
     },
     "8db24025e8b24c4a812fbe69c0ae9de9": {
      "model_module": "@jupyter-widgets/controls",
      "model_module_version": "2.0.0",
      "model_name": "FloatProgressModel",
      "state": {
       "bar_style": "success",
       "layout": "IPY_MODEL_415a0ab04e254c019410b5f8792449de",
       "max": 6,
       "style": "IPY_MODEL_a1e775eb43e44bc4acd045fc2f754041",
       "value": 6
      }
     },
     "8de9a6074fbd4b38a5a91f1463b54fc9": {
      "model_module": "@jupyter-widgets/base",
      "model_module_version": "2.0.0",
      "model_name": "LayoutModel",
      "state": {}
     },
     "8e28b38aef194897b6131f4317563b9f": {
      "model_module": "@jupyter-widgets/controls",
      "model_module_version": "2.0.0",
      "model_name": "DescriptionStyleModel",
      "state": {
       "description_width": ""
      }
     },
     "8ec11039193343d798c4d59b2cfe705b": {
      "model_module": "@jupyter-widgets/controls",
      "model_module_version": "2.0.0",
      "model_name": "DescriptionStyleModel",
      "state": {
       "description_width": ""
      }
     },
     "8ed4ea60c228441bb58a109bfdb44d87": {
      "model_module": "@jupyter-widgets/base",
      "model_module_version": "2.0.0",
      "model_name": "LayoutModel",
      "state": {}
     },
     "8f3469b12b6d41cca996c3174a8a94d3": {
      "model_module": "@jupyter-widgets/controls",
      "model_module_version": "2.0.0",
      "model_name": "FloatProgressModel",
      "state": {
       "bar_style": "success",
       "layout": "IPY_MODEL_d23780089de748e3a6494a99c3811a90",
       "max": 14,
       "style": "IPY_MODEL_3bf48ed08eed4ac5a645a04c7acea2f0",
       "value": 14
      }
     },
     "8f409e26f6304a798feedac9af5080d5": {
      "model_module": "@jupyter-widgets/base",
      "model_module_version": "2.0.0",
      "model_name": "LayoutModel",
      "state": {}
     },
     "8f5256878fcc4418932eb682a7007e91": {
      "model_module": "@jupyter-widgets/controls",
      "model_module_version": "2.0.0",
      "model_name": "DescriptionStyleModel",
      "state": {
       "description_width": ""
      }
     },
     "8f744712f1da42b693089113de819dfb": {
      "model_module": "@jupyter-widgets/controls",
      "model_module_version": "2.0.0",
      "model_name": "HTMLModel",
      "state": {
       "layout": "IPY_MODEL_e8e8410b949c4d85ab8ffc6736cacd90",
       "style": "IPY_MODEL_3f5fc16ddecb4154990b5e1d937d9c61",
       "value": " 6/6 [00:08&lt;00:00,  2.00s/it]"
      }
     },
     "8f87a82165fc452397ac70cad966bbe4": {
      "model_module": "@jupyter-widgets/controls",
      "model_module_version": "2.0.0",
      "model_name": "ProgressStyleModel",
      "state": {
       "description_width": ""
      }
     },
     "8fa32913544f4ff7ae6cc19b754896c1": {
      "model_module": "@jupyter-widgets/base",
      "model_module_version": "2.0.0",
      "model_name": "LayoutModel",
      "state": {}
     },
     "8ff573009e114a3f87d3b18fc70f28cc": {
      "model_module": "@jupyter-widgets/controls",
      "model_module_version": "2.0.0",
      "model_name": "HTMLModel",
      "state": {
       "layout": "IPY_MODEL_809b845a947d4eceaa9d7201273254c6",
       "style": "IPY_MODEL_d19518513e8a44dfa6fb2814c8c8f05d",
       "value": " 3/3 [00:10&lt;00:00,  4.19s/it]"
      }
     },
     "90220a88101d49e888b6f83bfb6df436": {
      "model_module": "@jupyter-widgets/base",
      "model_module_version": "2.0.0",
      "model_name": "LayoutModel",
      "state": {}
     },
     "902f154135734038946c4cb43ac040ea": {
      "model_module": "@jupyter-widgets/controls",
      "model_module_version": "2.0.0",
      "model_name": "FloatProgressModel",
      "state": {
       "bar_style": "success",
       "layout": "IPY_MODEL_86b7cab297b94e7ab2ac786d7cd1fa55",
       "max": 6,
       "style": "IPY_MODEL_a7a16d4f0fb34f68b8745330c293ea9d",
       "value": 6
      }
     },
     "903eacd04bae46db83092bc1e8f150e2": {
      "model_module": "@jupyter-widgets/base",
      "model_module_version": "2.0.0",
      "model_name": "LayoutModel",
      "state": {}
     },
     "9081a73355fa4afcacf5da26e5f3a77f": {
      "model_module": "@jupyter-widgets/controls",
      "model_module_version": "2.0.0",
      "model_name": "HBoxModel",
      "state": {
       "children": [
        "IPY_MODEL_96efe36f1bb949629a3d121c3028b8bb",
        "IPY_MODEL_f088a133a8804674b9dd7f297ffbf9c2",
        "IPY_MODEL_d83e8dcffaef45478777c81975daeb66"
       ],
       "layout": "IPY_MODEL_8d537c8aa9584d61a56bb5641182a29e"
      }
     },
     "90847593a34c4349a601197e200e330b": {
      "model_module": "@jupyter-widgets/controls",
      "model_module_version": "2.0.0",
      "model_name": "FloatProgressModel",
      "state": {
       "bar_style": "success",
       "layout": "IPY_MODEL_3e038dd87e8e4559b113c386a0626299",
       "max": 14,
       "style": "IPY_MODEL_8f87a82165fc452397ac70cad966bbe4",
       "value": 14
      }
     },
     "90923c837e1b4ab9bc13f1267d9159d8": {
      "model_module": "@jupyter-widgets/base",
      "model_module_version": "2.0.0",
      "model_name": "LayoutModel",
      "state": {}
     },
     "917f0d2e1d3647cc9e7a51370040f48c": {
      "model_module": "@jupyter-widgets/controls",
      "model_module_version": "2.0.0",
      "model_name": "HTMLStyleModel",
      "state": {
       "description_width": "",
       "font_size": null,
       "text_color": null
      }
     },
     "91ba93a175354e73ad7477e0f4bdf81a": {
      "model_module": "@jupyter-widgets/controls",
      "model_module_version": "2.0.0",
      "model_name": "ProgressStyleModel",
      "state": {
       "description_width": ""
      }
     },
     "9216e0e0907040929f6e274b03ee6243": {
      "model_module": "@jupyter-widgets/controls",
      "model_module_version": "2.0.0",
      "model_name": "ProgressStyleModel",
      "state": {
       "description_width": ""
      }
     },
     "924612cd146e4e69b75731ce2c3641e8": {
      "model_module": "@jupyter-widgets/controls",
      "model_module_version": "2.0.0",
      "model_name": "HBoxModel",
      "state": {
       "children": [
        "IPY_MODEL_8d594a3eb60f4356a1bd8855a8fbab5e",
        "IPY_MODEL_6a06014e46784b398bbbdbee3663f860",
        "IPY_MODEL_0753c14d260c47b4b76e724d61b7626e"
       ],
       "layout": "IPY_MODEL_1550f4570c0649d281d386ee91811c1a"
      }
     },
     "93384c970167447d96b9fbe341ba03f3": {
      "model_module": "@jupyter-widgets/base",
      "model_module_version": "2.0.0",
      "model_name": "LayoutModel",
      "state": {}
     },
     "9394526ac9c941739cd411acfd526766": {
      "model_module": "@jupyter-widgets/base",
      "model_module_version": "2.0.0",
      "model_name": "LayoutModel",
      "state": {}
     },
     "93d601e2d59e468bb0a2e59df885b6bb": {
      "model_module": "@jupyter-widgets/base",
      "model_module_version": "2.0.0",
      "model_name": "LayoutModel",
      "state": {}
     },
     "945688e6560c48ad8c46b7294bd434b6": {
      "model_module": "@jupyter-widgets/controls",
      "model_module_version": "2.0.0",
      "model_name": "HTMLStyleModel",
      "state": {
       "description_width": "",
       "font_size": null,
       "text_color": null
      }
     },
     "946cadf61f5e47fd8270beb2329cf33b": {
      "model_module": "@jupyter-widgets/base",
      "model_module_version": "2.0.0",
      "model_name": "LayoutModel",
      "state": {}
     },
     "94b354bd31db4240b3abce5878a7f39e": {
      "model_module": "@jupyter-widgets/base",
      "model_module_version": "2.0.0",
      "model_name": "LayoutModel",
      "state": {}
     },
     "95300a5b30004cba8b3edd3a03b70613": {
      "model_module": "@jupyter-widgets/controls",
      "model_module_version": "2.0.0",
      "model_name": "DescriptionStyleModel",
      "state": {
       "description_width": ""
      }
     },
     "9598104261b74175b7595970dc69aa41": {
      "model_module": "@jupyter-widgets/controls",
      "model_module_version": "2.0.0",
      "model_name": "HBoxModel",
      "state": {
       "children": [
        "IPY_MODEL_08e2cf45c7c848ed83868e9a1f1ba967",
        "IPY_MODEL_219d72dd2d2b4dd7b8bba69df5cbc177",
        "IPY_MODEL_730913aaea4747af9cb8ab72603e2493"
       ],
       "layout": "IPY_MODEL_782e5b5a30014d79b29896c0c203222d"
      }
     },
     "95cfbf3086504b4ab9a1449d5cf78769": {
      "model_module": "@jupyter-widgets/controls",
      "model_module_version": "2.0.0",
      "model_name": "DescriptionStyleModel",
      "state": {
       "description_width": ""
      }
     },
     "9610b9e50bdc44d6ac6c7b4c9e8a6973": {
      "model_module": "@jupyter-widgets/controls",
      "model_module_version": "2.0.0",
      "model_name": "HBoxModel",
      "state": {
       "children": [
        "IPY_MODEL_42645fcaf4c64cf68824d93759c75bc8",
        "IPY_MODEL_d3134f14b8944f4987bb3b46c8f59e6d",
        "IPY_MODEL_6217b2e724b7488dbf152daf3fb7ff95"
       ],
       "layout": "IPY_MODEL_dc68bf3968c245a59d61247ef22df629"
      }
     },
     "963e6ff751eb492db8552071ba8a2b76": {
      "model_module": "@jupyter-widgets/controls",
      "model_module_version": "2.0.0",
      "model_name": "ProgressStyleModel",
      "state": {
       "description_width": ""
      }
     },
     "96b460c37817428197afea818ff1e4a5": {
      "model_module": "@jupyter-widgets/controls",
      "model_module_version": "2.0.0",
      "model_name": "HTMLModel",
      "state": {
       "layout": "IPY_MODEL_e40cca4a10a44e0dbd27b705095264cc",
       "style": "IPY_MODEL_3f0ca1a537944eababed72bd0d0b4031",
       "value": " 14/14 [00:35&lt;00:00,  2.59s/it]"
      }
     },
     "96efe36f1bb949629a3d121c3028b8bb": {
      "model_module": "@jupyter-widgets/controls",
      "model_module_version": "2.0.0",
      "model_name": "HTMLModel",
      "state": {
       "layout": "IPY_MODEL_e2df143c4ac449a490b970fc5d42903d",
       "style": "IPY_MODEL_74beaec67ac64b4f9e4ffd9764bd2b9d",
       "value": "100%"
      }
     },
     "9722c25d278d4c709a75c1528f7252d6": {
      "model_module": "@jupyter-widgets/base",
      "model_module_version": "2.0.0",
      "model_name": "LayoutModel",
      "state": {}
     },
     "97911fa7f7ff4b9ca533f84f14ba8a8d": {
      "model_module": "@jupyter-widgets/controls",
      "model_module_version": "2.0.0",
      "model_name": "DescriptionStyleModel",
      "state": {
       "description_width": ""
      }
     },
     "97bbbe30ec7f46b9aaa8e4ad4646ac93": {
      "model_module": "@jupyter-widgets/controls",
      "model_module_version": "2.0.0",
      "model_name": "HTMLModel",
      "state": {
       "layout": "IPY_MODEL_a287ddab9f4d4efbbc0febc60c8661ae",
       "style": "IPY_MODEL_4ad7e55c582c4f96bf747521fa1a880e",
       "value": " 3/14 [00:02&lt;00:05,  2.05it/s]"
      }
     },
     "97d2f02d0fb04261aec409b6acb27725": {
      "model_module": "@jupyter-widgets/controls",
      "model_module_version": "2.0.0",
      "model_name": "HTMLStyleModel",
      "state": {
       "description_width": "",
       "font_size": null,
       "text_color": null
      }
     },
     "982382b357b14ca8804bd87ffe32397e": {
      "model_module": "@jupyter-widgets/controls",
      "model_module_version": "2.0.0",
      "model_name": "HTMLModel",
      "state": {
       "layout": "IPY_MODEL_e631feec27f44638b2b4bcc59588718e",
       "style": "IPY_MODEL_c941c9c883be4ff7a4d90b55852afc96",
       "value": "100%"
      }
     },
     "98307e1ba8e542d28735e73168500439": {
      "model_module": "@jupyter-widgets/base",
      "model_module_version": "2.0.0",
      "model_name": "LayoutModel",
      "state": {}
     },
     "9853c5d67f5f48bb9813db5ee85adebb": {
      "model_module": "@jupyter-widgets/controls",
      "model_module_version": "2.0.0",
      "model_name": "ProgressStyleModel",
      "state": {
       "description_width": ""
      }
     },
     "9860d769f6e5456f8ab1d86485f89b89": {
      "model_module": "@jupyter-widgets/controls",
      "model_module_version": "2.0.0",
      "model_name": "HTMLModel",
      "state": {
       "layout": "IPY_MODEL_06d57aa711be4630a00b75bef4214d4c",
       "style": "IPY_MODEL_a3bcc7c717b049f4aa944f25a84dc4ef",
       "value": " 3/3 [00:10&lt;00:00,  4.14s/it]"
      }
     },
     "98b51c8e0b6446d884029b755913174d": {
      "model_module": "@jupyter-widgets/controls",
      "model_module_version": "2.0.0",
      "model_name": "HTMLStyleModel",
      "state": {
       "description_width": "",
       "font_size": null,
       "text_color": null
      }
     },
     "98cb9a5f782d406992c4ab9ddc0d89c4": {
      "model_module": "@jupyter-widgets/base",
      "model_module_version": "2.0.0",
      "model_name": "LayoutModel",
      "state": {}
     },
     "98ebb002e3a64642ad056d5f1b073578": {
      "model_module": "@jupyter-widgets/controls",
      "model_module_version": "2.0.0",
      "model_name": "HTMLModel",
      "state": {
       "layout": "IPY_MODEL_609bdb59378141f4a96e77ac1ac3c4d0",
       "style": "IPY_MODEL_9efb3a41c52e4f40bbec00d4a2d9a969",
       "value": " 3/3 [00:11&lt;00:00,  4.61s/it]"
      }
     },
     "99424901800049039cf89f5962ef052d": {
      "model_module": "@jupyter-widgets/controls",
      "model_module_version": "2.0.0",
      "model_name": "ProgressStyleModel",
      "state": {
       "description_width": ""
      }
     },
     "9a104c1a479a4b499033e7c555c78f9e": {
      "model_module": "@jupyter-widgets/controls",
      "model_module_version": "2.0.0",
      "model_name": "ProgressStyleModel",
      "state": {
       "description_width": ""
      }
     },
     "9a4b752de1ac4a439e4a44845e5667e5": {
      "model_module": "@jupyter-widgets/controls",
      "model_module_version": "2.0.0",
      "model_name": "DescriptionStyleModel",
      "state": {
       "description_width": ""
      }
     },
     "9ac45458d0f9497bac72211e8da9c1ce": {
      "model_module": "@jupyter-widgets/base",
      "model_module_version": "2.0.0",
      "model_name": "LayoutModel",
      "state": {}
     },
     "9b1bd763907b42879195badd1b69a3e8": {
      "model_module": "@jupyter-widgets/controls",
      "model_module_version": "2.0.0",
      "model_name": "HTMLModel",
      "state": {
       "layout": "IPY_MODEL_09b9674aaee24f8ba6ac3d70e04734de",
       "style": "IPY_MODEL_dd6570846ab0438d81b9a130d3dcc1c4",
       "value": " 6/6 [00:11&lt;00:00,  2.78s/it]"
      }
     },
     "9b24a19000ef42af8a952c53a70a91cf": {
      "model_module": "@jupyter-widgets/controls",
      "model_module_version": "2.0.0",
      "model_name": "HTMLStyleModel",
      "state": {
       "description_width": "",
       "font_size": null,
       "text_color": null
      }
     },
     "9b335006471b4b01972e28175f5bd5a6": {
      "model_module": "@jupyter-widgets/controls",
      "model_module_version": "2.0.0",
      "model_name": "HBoxModel",
      "state": {
       "children": [
        "IPY_MODEL_f37ee6991b5b4c67b17f201ce50e2880",
        "IPY_MODEL_2551adbdd0364fdcb7901efe8a24fbd1",
        "IPY_MODEL_a9752cad2c2341dfb8ce3121a4d1ae82"
       ],
       "layout": "IPY_MODEL_67bd004a9cc54ca98a945c66e98a8dc5"
      }
     },
     "9bd67eb962624cffae4c442e70298f11": {
      "model_module": "@jupyter-widgets/controls",
      "model_module_version": "2.0.0",
      "model_name": "HTMLModel",
      "state": {
       "layout": "IPY_MODEL_6924f9666c14408f974c8626cb341bf0",
       "style": "IPY_MODEL_0325411a73a24e76a5a828c1af2f77f4",
       "value": " 14/14 [00:34&lt;00:00,  2.58s/it]"
      }
     },
     "9c92d863eca84c9a8609b6367f2c1d8b": {
      "model_module": "@jupyter-widgets/controls",
      "model_module_version": "2.0.0",
      "model_name": "HTMLStyleModel",
      "state": {
       "description_width": "",
       "font_size": null,
       "text_color": null
      }
     },
     "9c9cd8f1d6b24d63a4d2ad548ec9f261": {
      "model_module": "@jupyter-widgets/controls",
      "model_module_version": "2.0.0",
      "model_name": "HBoxModel",
      "state": {
       "children": [
        "IPY_MODEL_0d5bdf9af54d439ca3f4b690da144284",
        "IPY_MODEL_d73879b228ab41edbd87b375a6c4d3eb",
        "IPY_MODEL_5363fb3cea7e48a79ae2d3eee8d3f103"
       ],
       "layout": "IPY_MODEL_85bac26c66964215ac5fdf16b0e39b66"
      }
     },
     "9cb0f87fdb62465a8ac2ef169db7b6b9": {
      "model_module": "@jupyter-widgets/controls",
      "model_module_version": "2.0.0",
      "model_name": "ProgressStyleModel",
      "state": {
       "description_width": ""
      }
     },
     "9cd79e32341d49e79b16310ec2053281": {
      "model_module": "@jupyter-widgets/controls",
      "model_module_version": "2.0.0",
      "model_name": "DescriptionStyleModel",
      "state": {
       "description_width": ""
      }
     },
     "9cf5eea599ac405eba88a368b841cb7b": {
      "model_module": "@jupyter-widgets/base",
      "model_module_version": "2.0.0",
      "model_name": "LayoutModel",
      "state": {}
     },
     "9ee613f03cca4b73a8bc20062ed816c1": {
      "model_module": "@jupyter-widgets/controls",
      "model_module_version": "2.0.0",
      "model_name": "HTMLModel",
      "state": {
       "layout": "IPY_MODEL_323409be01bc4fac9783bd8238d5b4de",
       "style": "IPY_MODEL_7c0f779c53b24b90bfd89261b716e72d",
       "value": " 14/14 [00:37&lt;00:00,  2.74s/it]"
      }
     },
     "9efb3a41c52e4f40bbec00d4a2d9a969": {
      "model_module": "@jupyter-widgets/controls",
      "model_module_version": "2.0.0",
      "model_name": "DescriptionStyleModel",
      "state": {
       "description_width": ""
      }
     },
     "9f05b8a4032d4eeaa91f17c8df6043fd": {
      "model_module": "@jupyter-widgets/controls",
      "model_module_version": "2.0.0",
      "model_name": "DescriptionStyleModel",
      "state": {
       "description_width": ""
      }
     },
     "9f7187b4ecb342f2a742a39abb381f9d": {
      "model_module": "@jupyter-widgets/base",
      "model_module_version": "2.0.0",
      "model_name": "LayoutModel",
      "state": {}
     },
     "a001f2d8f0ac46178a6eaf43f36f248e": {
      "model_module": "@jupyter-widgets/base",
      "model_module_version": "2.0.0",
      "model_name": "LayoutModel",
      "state": {}
     },
     "a0123662844f4a149a0432231f34ba9f": {
      "model_module": "@jupyter-widgets/controls",
      "model_module_version": "2.0.0",
      "model_name": "DescriptionStyleModel",
      "state": {
       "description_width": ""
      }
     },
     "a040616087b0471381e02100d008c999": {
      "model_module": "@jupyter-widgets/controls",
      "model_module_version": "2.0.0",
      "model_name": "FloatProgressModel",
      "state": {
       "bar_style": "success",
       "layout": "IPY_MODEL_d87c3678554943cfaf04488344ff5fe6",
       "max": 3,
       "style": "IPY_MODEL_a3353040007c440c941c724a6c7c4a86",
       "value": 3
      }
     },
     "a05d377b458949ba8d7dfb4733c297c6": {
      "model_module": "@jupyter-widgets/base",
      "model_module_version": "2.0.0",
      "model_name": "LayoutModel",
      "state": {}
     },
     "a0618f7e69d04e0a9872eb21f6b60876": {
      "model_module": "@jupyter-widgets/controls",
      "model_module_version": "2.0.0",
      "model_name": "ProgressStyleModel",
      "state": {
       "description_width": ""
      }
     },
     "a0a6992b1429433fbbbaf3d5f05d24c3": {
      "model_module": "@jupyter-widgets/controls",
      "model_module_version": "2.0.0",
      "model_name": "HTMLModel",
      "state": {
       "layout": "IPY_MODEL_0b79ec824d3b4d8aa3cae468021e6ea0",
       "style": "IPY_MODEL_d7b063232f184ceca6520530d9f21b38",
       "value": " 3/3 [00:10&lt;00:00,  4.23s/it]"
      }
     },
     "a100bb931af3454f8ff02fae28c2ba6a": {
      "model_module": "@jupyter-widgets/base",
      "model_module_version": "2.0.0",
      "model_name": "LayoutModel",
      "state": {}
     },
     "a14329532c41402699841551dbcaf36d": {
      "model_module": "@jupyter-widgets/controls",
      "model_module_version": "2.0.0",
      "model_name": "ProgressStyleModel",
      "state": {
       "description_width": ""
      }
     },
     "a18db3fb7d924aaf9f82396754c998e8": {
      "model_module": "@jupyter-widgets/controls",
      "model_module_version": "2.0.0",
      "model_name": "DescriptionStyleModel",
      "state": {
       "description_width": ""
      }
     },
     "a1e775eb43e44bc4acd045fc2f754041": {
      "model_module": "@jupyter-widgets/controls",
      "model_module_version": "2.0.0",
      "model_name": "ProgressStyleModel",
      "state": {
       "description_width": ""
      }
     },
     "a251fdba365540e59af8cbd3077647f0": {
      "model_module": "@jupyter-widgets/base",
      "model_module_version": "2.0.0",
      "model_name": "LayoutModel",
      "state": {}
     },
     "a287ddab9f4d4efbbc0febc60c8661ae": {
      "model_module": "@jupyter-widgets/base",
      "model_module_version": "2.0.0",
      "model_name": "LayoutModel",
      "state": {}
     },
     "a2955b360dac453d8c26fa7c5687f081": {
      "model_module": "@jupyter-widgets/controls",
      "model_module_version": "2.0.0",
      "model_name": "DescriptionStyleModel",
      "state": {
       "description_width": ""
      }
     },
     "a2cb0e65b1f44625aefab52e868e76be": {
      "model_module": "@jupyter-widgets/base",
      "model_module_version": "2.0.0",
      "model_name": "LayoutModel",
      "state": {}
     },
     "a2dc4e35c9ca48d3a6e51fc5cefd0ced": {
      "model_module": "@jupyter-widgets/controls",
      "model_module_version": "2.0.0",
      "model_name": "DescriptionStyleModel",
      "state": {
       "description_width": ""
      }
     },
     "a2f63c20b4dd48a8866fcb6b802f8c4a": {
      "model_module": "@jupyter-widgets/controls",
      "model_module_version": "2.0.0",
      "model_name": "ProgressStyleModel",
      "state": {
       "description_width": ""
      }
     },
     "a32af960a36d4b52a3edd1f55e071c15": {
      "model_module": "@jupyter-widgets/controls",
      "model_module_version": "2.0.0",
      "model_name": "HTMLModel",
      "state": {
       "layout": "IPY_MODEL_18fb54df65384bb191ef2dd090fb1024",
       "style": "IPY_MODEL_195b90f25ae447488562295c171c2e4d",
       "value": "100%"
      }
     },
     "a3353040007c440c941c724a6c7c4a86": {
      "model_module": "@jupyter-widgets/controls",
      "model_module_version": "2.0.0",
      "model_name": "ProgressStyleModel",
      "state": {
       "description_width": ""
      }
     },
     "a362902f497348d289d27ca0913068fe": {
      "model_module": "@jupyter-widgets/base",
      "model_module_version": "2.0.0",
      "model_name": "LayoutModel",
      "state": {}
     },
     "a3bcc7c717b049f4aa944f25a84dc4ef": {
      "model_module": "@jupyter-widgets/controls",
      "model_module_version": "2.0.0",
      "model_name": "DescriptionStyleModel",
      "state": {
       "description_width": ""
      }
     },
     "a422eb421d334c8a8df8cec41b824897": {
      "model_module": "@jupyter-widgets/base",
      "model_module_version": "2.0.0",
      "model_name": "LayoutModel",
      "state": {}
     },
     "a440e087f1764e1f8107f2d1e11088f3": {
      "model_module": "@jupyter-widgets/base",
      "model_module_version": "2.0.0",
      "model_name": "LayoutModel",
      "state": {}
     },
     "a457bdaff0b54319a7e04193fee288ff": {
      "model_module": "@jupyter-widgets/base",
      "model_module_version": "2.0.0",
      "model_name": "LayoutModel",
      "state": {}
     },
     "a4587bcd144e43aca297d025ad154820": {
      "model_module": "@jupyter-widgets/controls",
      "model_module_version": "2.0.0",
      "model_name": "ProgressStyleModel",
      "state": {
       "description_width": ""
      }
     },
     "a52dc0b6be834b578252ec84b57cb7ae": {
      "model_module": "@jupyter-widgets/controls",
      "model_module_version": "2.0.0",
      "model_name": "ProgressStyleModel",
      "state": {
       "description_width": ""
      }
     },
     "a5d2a0d48dfa452a87f1d0a82f6365a5": {
      "model_module": "@jupyter-widgets/base",
      "model_module_version": "2.0.0",
      "model_name": "LayoutModel",
      "state": {}
     },
     "a67580eb9d634cf69c7c9c303da15028": {
      "model_module": "@jupyter-widgets/base",
      "model_module_version": "2.0.0",
      "model_name": "LayoutModel",
      "state": {}
     },
     "a6916e9d8ced46a5947c9cf22c14cef2": {
      "model_module": "@jupyter-widgets/controls",
      "model_module_version": "2.0.0",
      "model_name": "HBoxModel",
      "state": {
       "children": [
        "IPY_MODEL_fdc23c6f872c4825b03240c4a0ab9831",
        "IPY_MODEL_20e2e54ff7b6404a8ef36f22b44b6529",
        "IPY_MODEL_b7f078efc25d4d45a8d66e11d244e789"
       ],
       "layout": "IPY_MODEL_70eea4c1fb1e41ff8ee31f5613ef5754"
      }
     },
     "a6ec0e6de8ed4d18943486d916631bb3": {
      "model_module": "@jupyter-widgets/base",
      "model_module_version": "2.0.0",
      "model_name": "LayoutModel",
      "state": {}
     },
     "a7a16d4f0fb34f68b8745330c293ea9d": {
      "model_module": "@jupyter-widgets/controls",
      "model_module_version": "2.0.0",
      "model_name": "ProgressStyleModel",
      "state": {
       "description_width": ""
      }
     },
     "a7aed6a1208c42f2a3249230064c6597": {
      "model_module": "@jupyter-widgets/controls",
      "model_module_version": "2.0.0",
      "model_name": "HTMLModel",
      "state": {
       "layout": "IPY_MODEL_57da2d0871fc4c189bbfb98644cdca7c",
       "style": "IPY_MODEL_1df53411fb0547ea99a8fa02b4902311",
       "value": " 6/6 [00:11&lt;00:00,  2.81s/it]"
      }
     },
     "a7d4d21d229e48928273980fb1f57c78": {
      "model_module": "@jupyter-widgets/controls",
      "model_module_version": "2.0.0",
      "model_name": "DescriptionStyleModel",
      "state": {
       "description_width": ""
      }
     },
     "a89c19df94ce4db18c427504318b7256": {
      "model_module": "@jupyter-widgets/controls",
      "model_module_version": "2.0.0",
      "model_name": "HTMLStyleModel",
      "state": {
       "description_width": "",
       "font_size": null,
       "text_color": null
      }
     },
     "a92590bf59d342f794d3708da665facf": {
      "model_module": "@jupyter-widgets/controls",
      "model_module_version": "2.0.0",
      "model_name": "HTMLModel",
      "state": {
       "layout": "IPY_MODEL_76dc5ba1a0eb48358cccdd7b604f2521",
       "style": "IPY_MODEL_45418625fe974d70bd43597a713421ee",
       "value": "100%"
      }
     },
     "a93293402c394b809ddfc405b57fc3ae": {
      "model_module": "@jupyter-widgets/base",
      "model_module_version": "2.0.0",
      "model_name": "LayoutModel",
      "state": {}
     },
     "a9752cad2c2341dfb8ce3121a4d1ae82": {
      "model_module": "@jupyter-widgets/controls",
      "model_module_version": "2.0.0",
      "model_name": "HTMLModel",
      "state": {
       "layout": "IPY_MODEL_fc07a7ad29a1417dbfecf232fc63168d",
       "style": "IPY_MODEL_4a9c8487b9174ce392d94d1f8a019cab",
       "value": " 3/3 [00:10&lt;00:00,  4.28s/it]"
      }
     },
     "a98327ed4bd04814ab99164413777c03": {
      "model_module": "@jupyter-widgets/controls",
      "model_module_version": "2.0.0",
      "model_name": "ProgressStyleModel",
      "state": {
       "description_width": ""
      }
     },
     "a99c5e20d6d7423181e14969ec0ffc55": {
      "model_module": "@jupyter-widgets/base",
      "model_module_version": "2.0.0",
      "model_name": "LayoutModel",
      "state": {}
     },
     "aa3734b8439c46588fafe5f7b191bb02": {
      "model_module": "@jupyter-widgets/controls",
      "model_module_version": "2.0.0",
      "model_name": "DescriptionStyleModel",
      "state": {
       "description_width": ""
      }
     },
     "aa7fe29f797c4f7aac8b1ae7567c0ce2": {
      "model_module": "@jupyter-widgets/base",
      "model_module_version": "2.0.0",
      "model_name": "LayoutModel",
      "state": {}
     },
     "aaad4ca2ef0e400c861ec129402d025e": {
      "model_module": "@jupyter-widgets/base",
      "model_module_version": "2.0.0",
      "model_name": "LayoutModel",
      "state": {}
     },
     "aaadb36b2dd341be8d326c8b49aababd": {
      "model_module": "@jupyter-widgets/controls",
      "model_module_version": "2.0.0",
      "model_name": "HBoxModel",
      "state": {
       "children": [
        "IPY_MODEL_3178ada1cf22496f9e0de37eba7c5d31",
        "IPY_MODEL_f205a09d309f47fe9800e84ab1b9b096",
        "IPY_MODEL_6df3561b5e8444b9b1151930e443c9f8"
       ],
       "layout": "IPY_MODEL_0db0d77a505b45c09a86c22ab3ec786f"
      }
     },
     "ab111e79a0c94723934c519342c92cab": {
      "model_module": "@jupyter-widgets/controls",
      "model_module_version": "2.0.0",
      "model_name": "HBoxModel",
      "state": {
       "children": [
        "IPY_MODEL_3d9c0e4cf5424a148ed3f6045f692b24",
        "IPY_MODEL_348a6bbab1df499393ae546399d44ddd",
        "IPY_MODEL_6e7b05e3ccb84beab343d30286940b3b"
       ],
       "layout": "IPY_MODEL_81e017f82e2b4d11af2c8ce57dcb546b"
      }
     },
     "ab1b358f19404b43ab69060dc71719fd": {
      "model_module": "@jupyter-widgets/base",
      "model_module_version": "2.0.0",
      "model_name": "LayoutModel",
      "state": {}
     },
     "ab3e3837b3154d8494ca8fad1899cfb9": {
      "model_module": "@jupyter-widgets/controls",
      "model_module_version": "2.0.0",
      "model_name": "HTMLStyleModel",
      "state": {
       "description_width": "",
       "font_size": null,
       "text_color": null
      }
     },
     "ab4c0e768492431bbb35ce04a23dce63": {
      "model_module": "@jupyter-widgets/controls",
      "model_module_version": "2.0.0",
      "model_name": "ProgressStyleModel",
      "state": {
       "description_width": ""
      }
     },
     "ab66689f2e41405eb01c1c18ef038851": {
      "model_module": "@jupyter-widgets/controls",
      "model_module_version": "2.0.0",
      "model_name": "HTMLStyleModel",
      "state": {
       "description_width": "",
       "font_size": null,
       "text_color": null
      }
     },
     "ab8f355ae7164f8b8c9686ea6c91a7a6": {
      "model_module": "@jupyter-widgets/controls",
      "model_module_version": "2.0.0",
      "model_name": "HTMLModel",
      "state": {
       "layout": "IPY_MODEL_d520791859134727bc1617d07d6991ba",
       "style": "IPY_MODEL_3cc770638fe64170b64f98ec87ea9bbb",
       "value": " 5/6 [00:08&lt;00:01,  1.93s/it]"
      }
     },
     "abbeb2c6abf448dda079c6cbb462781b": {
      "model_module": "@jupyter-widgets/controls",
      "model_module_version": "2.0.0",
      "model_name": "DescriptionStyleModel",
      "state": {
       "description_width": ""
      }
     },
     "acb3fc7c388f438890ef68e82fa1047e": {
      "model_module": "@jupyter-widgets/controls",
      "model_module_version": "2.0.0",
      "model_name": "FloatProgressModel",
      "state": {
       "bar_style": "success",
       "layout": "IPY_MODEL_fdaec1db841d41f4b0b47f94f489842b",
       "max": 6,
       "style": "IPY_MODEL_334435f8ee8b43159cafd77d58d41c79",
       "value": 6
      }
     },
     "acda4f5b396441189693bf7bffcb701c": {
      "model_module": "@jupyter-widgets/controls",
      "model_module_version": "2.0.0",
      "model_name": "DescriptionStyleModel",
      "state": {
       "description_width": ""
      }
     },
     "acdac6e8397d4097ba9b78f5a31f3293": {
      "model_module": "@jupyter-widgets/controls",
      "model_module_version": "2.0.0",
      "model_name": "DescriptionStyleModel",
      "state": {
       "description_width": ""
      }
     },
     "aceda0a21c1a4b75853cdb8a59f7eadf": {
      "model_module": "@jupyter-widgets/controls",
      "model_module_version": "2.0.0",
      "model_name": "FloatProgressModel",
      "state": {
       "bar_style": "success",
       "layout": "IPY_MODEL_8de9a6074fbd4b38a5a91f1463b54fc9",
       "max": 3,
       "style": "IPY_MODEL_c6b33421e33f4b0380e00957941ef8db",
       "value": 3
      }
     },
     "acfe89b7172645378b180def2d2a8ff1": {
      "model_module": "@jupyter-widgets/base",
      "model_module_version": "2.0.0",
      "model_name": "LayoutModel",
      "state": {}
     },
     "ad3445fb8cce488999a76f978c9e7a42": {
      "model_module": "@jupyter-widgets/controls",
      "model_module_version": "2.0.0",
      "model_name": "ProgressStyleModel",
      "state": {
       "description_width": ""
      }
     },
     "ad49430f601441eebcd6fdf140b752d4": {
      "model_module": "@jupyter-widgets/controls",
      "model_module_version": "2.0.0",
      "model_name": "ProgressStyleModel",
      "state": {
       "description_width": ""
      }
     },
     "ada2a00636b1438498db0770cdd39bef": {
      "model_module": "@jupyter-widgets/base",
      "model_module_version": "2.0.0",
      "model_name": "LayoutModel",
      "state": {}
     },
     "adb01a75c497444e9fb19c4b1eadcf84": {
      "model_module": "@jupyter-widgets/controls",
      "model_module_version": "2.0.0",
      "model_name": "DescriptionStyleModel",
      "state": {
       "description_width": ""
      }
     },
     "adeb3d409ce9403b90fbd2fabd5b7981": {
      "model_module": "@jupyter-widgets/controls",
      "model_module_version": "2.0.0",
      "model_name": "HTMLModel",
      "state": {
       "layout": "IPY_MODEL_fb2b7e82ece14ab79d84a08df31c827e",
       "style": "IPY_MODEL_721e182dd01e47aca3f0e758c8c7c4b6",
       "value": "100%"
      }
     },
     "ae01414e4d4e4f55b34f35abef29cdfb": {
      "model_module": "@jupyter-widgets/controls",
      "model_module_version": "2.0.0",
      "model_name": "HBoxModel",
      "state": {
       "children": [
        "IPY_MODEL_0bca4e3d211e481b930b97cb27172398",
        "IPY_MODEL_dd17114b4a1c46e3880a89bcd314b090",
        "IPY_MODEL_b7dd1b4dfc814fa3b6b996920c8f0612"
       ],
       "layout": "IPY_MODEL_3304e1dd48ff49ecb920ff68b7dbacaa"
      }
     },
     "ae271860a6e14fda9f58304373ac1cba": {
      "model_module": "@jupyter-widgets/controls",
      "model_module_version": "2.0.0",
      "model_name": "HTMLModel",
      "state": {
       "layout": "IPY_MODEL_bb6cdac5407f4a11ad920f298d404dea",
       "style": "IPY_MODEL_917f0d2e1d3647cc9e7a51370040f48c",
       "value": " 6/6 [00:11&lt;00:00,  2.78s/it]"
      }
     },
     "ae857c0ea2034768aaa19e883a3f5fae": {
      "model_module": "@jupyter-widgets/base",
      "model_module_version": "2.0.0",
      "model_name": "LayoutModel",
      "state": {}
     },
     "ae935114aa1e4839b970b1db58c9c731": {
      "model_module": "@jupyter-widgets/controls",
      "model_module_version": "2.0.0",
      "model_name": "ProgressStyleModel",
      "state": {
       "description_width": ""
      }
     },
     "aef0ceb8c0ae4015b63ea8b2d521df89": {
      "model_module": "@jupyter-widgets/controls",
      "model_module_version": "2.0.0",
      "model_name": "HTMLModel",
      "state": {
       "layout": "IPY_MODEL_8758e08007c147cc995a9cd778321546",
       "style": "IPY_MODEL_c1185f0270fe4f4b904912182604a1b1",
       "value": "100%"
      }
     },
     "af095a946e40470fb6b10069cdead320": {
      "model_module": "@jupyter-widgets/controls",
      "model_module_version": "2.0.0",
      "model_name": "DescriptionStyleModel",
      "state": {
       "description_width": ""
      }
     },
     "af1d80e909114d99b94b5888fcdc68a0": {
      "model_module": "@jupyter-widgets/base",
      "model_module_version": "2.0.0",
      "model_name": "LayoutModel",
      "state": {}
     },
     "af321bf03d344ab5bbf27ecfd4df46e1": {
      "model_module": "@jupyter-widgets/controls",
      "model_module_version": "2.0.0",
      "model_name": "DescriptionStyleModel",
      "state": {
       "description_width": ""
      }
     },
     "af81eb420a204b4db16e0900544ee830": {
      "model_module": "@jupyter-widgets/controls",
      "model_module_version": "2.0.0",
      "model_name": "FloatProgressModel",
      "state": {
       "bar_style": "success",
       "layout": "IPY_MODEL_5c1cdc7f1d7f4334997a05cb16278393",
       "max": 14,
       "style": "IPY_MODEL_0bdac01ac9714d238307c195beb0e4d6",
       "value": 14
      }
     },
     "affe162fb3a94beba81fa8be1951120f": {
      "model_module": "@jupyter-widgets/controls",
      "model_module_version": "2.0.0",
      "model_name": "HTMLModel",
      "state": {
       "layout": "IPY_MODEL_a5d2a0d48dfa452a87f1d0a82f6365a5",
       "style": "IPY_MODEL_1d1da6d468c74317a13dc9fc56dfb053",
       "value": "100%"
      }
     },
     "b01ac6fa0bf14721b1a2505c3fe93267": {
      "model_module": "@jupyter-widgets/controls",
      "model_module_version": "2.0.0",
      "model_name": "FloatProgressModel",
      "state": {
       "bar_style": "success",
       "layout": "IPY_MODEL_2113a4d44df6462db4fa2f37d71cfcbd",
       "max": 6,
       "style": "IPY_MODEL_963e6ff751eb492db8552071ba8a2b76",
       "value": 6
      }
     },
     "b070d048f3d543a6a1184adb874400cd": {
      "model_module": "@jupyter-widgets/controls",
      "model_module_version": "2.0.0",
      "model_name": "HBoxModel",
      "state": {
       "children": [
        "IPY_MODEL_8ba4f31efed1433d8576bf8f21e073b8",
        "IPY_MODEL_4553fb4f7c304feda4bdd2c6af136987",
        "IPY_MODEL_3f85e0c67a0d4d7cb0b7456565c6674c"
       ],
       "layout": "IPY_MODEL_aa7fe29f797c4f7aac8b1ae7567c0ce2"
      }
     },
     "b0967127666b443cb813bf91f7ecfedf": {
      "model_module": "@jupyter-widgets/controls",
      "model_module_version": "2.0.0",
      "model_name": "DescriptionStyleModel",
      "state": {
       "description_width": ""
      }
     },
     "b0abd16537734a9d99386e3c8da6b4b8": {
      "model_module": "@jupyter-widgets/controls",
      "model_module_version": "2.0.0",
      "model_name": "FloatProgressModel",
      "state": {
       "bar_style": "danger",
       "layout": "IPY_MODEL_b49cf00a4c3f4163b7e728f814b74fa9",
       "max": 14,
       "style": "IPY_MODEL_c654e302892f4bfba0927c5f041e3257",
       "value": 3
      }
     },
     "b13f40fc66ff46f3b4778d156c0b4e3f": {
      "model_module": "@jupyter-widgets/base",
      "model_module_version": "2.0.0",
      "model_name": "LayoutModel",
      "state": {}
     },
     "b1869575b6bc48b185eadfefede9f2ea": {
      "model_module": "@jupyter-widgets/controls",
      "model_module_version": "2.0.0",
      "model_name": "HTMLModel",
      "state": {
       "layout": "IPY_MODEL_3f789c27308447d6b763ce0d90eb3663",
       "style": "IPY_MODEL_b77fd8eda6364a409317be07cc127253",
       "value": " 14/14 [00:34&lt;00:00,  2.57s/it]"
      }
     },
     "b1a71496bea04ea984d4eaf411c2d37c": {
      "model_module": "@jupyter-widgets/base",
      "model_module_version": "2.0.0",
      "model_name": "LayoutModel",
      "state": {}
     },
     "b1ce81a067f24d3c90467c337ecb4f34": {
      "model_module": "@jupyter-widgets/controls",
      "model_module_version": "2.0.0",
      "model_name": "ProgressStyleModel",
      "state": {
       "description_width": ""
      }
     },
     "b24610b68ced4adca0b9b6b56cd9fbbc": {
      "model_module": "@jupyter-widgets/controls",
      "model_module_version": "2.0.0",
      "model_name": "HTMLStyleModel",
      "state": {
       "description_width": "",
       "font_size": null,
       "text_color": null
      }
     },
     "b248845b0071429886b9bb169c16460e": {
      "model_module": "@jupyter-widgets/base",
      "model_module_version": "2.0.0",
      "model_name": "LayoutModel",
      "state": {}
     },
     "b2eb49191f454d1ca89219338d27fff3": {
      "model_module": "@jupyter-widgets/base",
      "model_module_version": "2.0.0",
      "model_name": "LayoutModel",
      "state": {}
     },
     "b30a39d725ec4a5da7ab1f5f3027d270": {
      "model_module": "@jupyter-widgets/base",
      "model_module_version": "2.0.0",
      "model_name": "LayoutModel",
      "state": {}
     },
     "b3c64d1d470d4303ba1161800f662b9d": {
      "model_module": "@jupyter-widgets/base",
      "model_module_version": "2.0.0",
      "model_name": "LayoutModel",
      "state": {}
     },
     "b42c1ce5b32b407192f3a3d0cc1e8d5c": {
      "model_module": "@jupyter-widgets/controls",
      "model_module_version": "2.0.0",
      "model_name": "FloatProgressModel",
      "state": {
       "bar_style": "success",
       "layout": "IPY_MODEL_1574450acc874b6f9d2c6fa210c91894",
       "max": 3,
       "style": "IPY_MODEL_d83ded3010ff4830bdcfd81c9fcef800",
       "value": 3
      }
     },
     "b4656c34dfcd43a29c49c3e1e07e4a50": {
      "model_module": "@jupyter-widgets/controls",
      "model_module_version": "2.0.0",
      "model_name": "HTMLModel",
      "state": {
       "layout": "IPY_MODEL_acfe89b7172645378b180def2d2a8ff1",
       "style": "IPY_MODEL_4141feb5c5b04f67b14d782916cf2a43",
       "value": "100%"
      }
     },
     "b4844e9f7ac840f8932292a6e55f54c4": {
      "model_module": "@jupyter-widgets/controls",
      "model_module_version": "2.0.0",
      "model_name": "ProgressStyleModel",
      "state": {
       "description_width": ""
      }
     },
     "b48b499d55304829a958e0f399dd78b3": {
      "model_module": "@jupyter-widgets/controls",
      "model_module_version": "2.0.0",
      "model_name": "HBoxModel",
      "state": {
       "children": [
        "IPY_MODEL_0fc92f9097474517aa4fad739dce6c9e",
        "IPY_MODEL_d693d67d5f77496bb181a98fdc0b7233",
        "IPY_MODEL_f13fb1a0d89e42c0afa8612021dcb98e"
       ],
       "layout": "IPY_MODEL_6cc16a4ebcaa45d0a75baf8f0f57957e"
      }
     },
     "b49cf00a4c3f4163b7e728f814b74fa9": {
      "model_module": "@jupyter-widgets/base",
      "model_module_version": "2.0.0",
      "model_name": "LayoutModel",
      "state": {}
     },
     "b4a6ca293cf340b89bc8cee747bd4df1": {
      "model_module": "@jupyter-widgets/controls",
      "model_module_version": "2.0.0",
      "model_name": "HTMLModel",
      "state": {
       "layout": "IPY_MODEL_57e76b58a33b4bcd96f3a40b899044d9",
       "style": "IPY_MODEL_44d5718f041c4cdf8b85c3e58a90c1e2",
       "value": "100%"
      }
     },
     "b56f52d366d44191901d75a4215ee301": {
      "model_module": "@jupyter-widgets/controls",
      "model_module_version": "2.0.0",
      "model_name": "HTMLModel",
      "state": {
       "layout": "IPY_MODEL_3da353bac79d453282b17d5e84055538",
       "style": "IPY_MODEL_81219c097ac744b69ad4e171ef739df5",
       "value": " 3/3 [00:10&lt;00:00,  4.22s/it]"
      }
     },
     "b5fb0353521943fcb24fee15656f0772": {
      "model_module": "@jupyter-widgets/base",
      "model_module_version": "2.0.0",
      "model_name": "LayoutModel",
      "state": {}
     },
     "b6148f8af3974dfd862a9b5fe1ab3bd7": {
      "model_module": "@jupyter-widgets/controls",
      "model_module_version": "2.0.0",
      "model_name": "ProgressStyleModel",
      "state": {
       "description_width": ""
      }
     },
     "b6c01ffdf5dc4c1a93c67b7a9fa840a0": {
      "model_module": "@jupyter-widgets/controls",
      "model_module_version": "2.0.0",
      "model_name": "FloatProgressModel",
      "state": {
       "bar_style": "success",
       "layout": "IPY_MODEL_9394526ac9c941739cd411acfd526766",
       "max": 14,
       "style": "IPY_MODEL_ad3445fb8cce488999a76f978c9e7a42",
       "value": 14
      }
     },
     "b706432285f34e75ae5cff63bc0f811e": {
      "model_module": "@jupyter-widgets/controls",
      "model_module_version": "2.0.0",
      "model_name": "FloatProgressModel",
      "state": {
       "bar_style": "success",
       "layout": "IPY_MODEL_dcead6a4bc7c4ebd98c57b29a4cbd66a",
       "max": 14,
       "style": "IPY_MODEL_cbd5356061a440dbb53782fc01963ceb",
       "value": 14
      }
     },
     "b77707f31c9b4dfd80bc0adc3c559056": {
      "model_module": "@jupyter-widgets/controls",
      "model_module_version": "2.0.0",
      "model_name": "ProgressStyleModel",
      "state": {
       "description_width": ""
      }
     },
     "b77fd8eda6364a409317be07cc127253": {
      "model_module": "@jupyter-widgets/controls",
      "model_module_version": "2.0.0",
      "model_name": "DescriptionStyleModel",
      "state": {
       "description_width": ""
      }
     },
     "b79c1473aaeb4e08aee55aa670d83fdd": {
      "model_module": "@jupyter-widgets/controls",
      "model_module_version": "2.0.0",
      "model_name": "HBoxModel",
      "state": {
       "children": [
        "IPY_MODEL_8882d1d7c3f1433a9b9101a888037ec7",
        "IPY_MODEL_e2a0c13496744ad68d896d64a962e737",
        "IPY_MODEL_0b1a304bd15f47ec8858bfd900d11484"
       ],
       "layout": "IPY_MODEL_1f98f10a0be946e8a023ccbd3bb84e77"
      }
     },
     "b7dc5056499647e6b599be2a6894c13b": {
      "model_module": "@jupyter-widgets/controls",
      "model_module_version": "2.0.0",
      "model_name": "HTMLModel",
      "state": {
       "layout": "IPY_MODEL_46b3e17002044bd187ddffcb137f8442",
       "style": "IPY_MODEL_4423c92e6ab94b46b6f89bde9dddf3a8",
       "value": " 14/14 [00:34&lt;00:00,  2.57s/it]"
      }
     },
     "b7dd1b4dfc814fa3b6b996920c8f0612": {
      "model_module": "@jupyter-widgets/controls",
      "model_module_version": "2.0.0",
      "model_name": "HTMLModel",
      "state": {
       "layout": "IPY_MODEL_f60f6e5e80ae48e9a0f049286dda0399",
       "style": "IPY_MODEL_4f8f34f6823f48ae8d4102f40b10a49f",
       "value": " 14/14 [00:34&lt;00:00,  2.58s/it]"
      }
     },
     "b7f078efc25d4d45a8d66e11d244e789": {
      "model_module": "@jupyter-widgets/controls",
      "model_module_version": "2.0.0",
      "model_name": "HTMLModel",
      "state": {
       "layout": "IPY_MODEL_7bc1387af95243a4936c14134903bc0d",
       "style": "IPY_MODEL_10e39dc37bd944b3a6cea613c2c089f3",
       "value": " 14/14 [00:34&lt;00:00,  2.60s/it]"
      }
     },
     "b836e579d57f4ee3ad564a073429a29b": {
      "model_module": "@jupyter-widgets/base",
      "model_module_version": "2.0.0",
      "model_name": "LayoutModel",
      "state": {}
     },
     "b85490ed0a0947f0b84a2600a1c988c7": {
      "model_module": "@jupyter-widgets/controls",
      "model_module_version": "2.0.0",
      "model_name": "ProgressStyleModel",
      "state": {
       "description_width": ""
      }
     },
     "b8816800b87d481bb2bae8c7a9c6e818": {
      "model_module": "@jupyter-widgets/controls",
      "model_module_version": "2.0.0",
      "model_name": "ProgressStyleModel",
      "state": {
       "description_width": ""
      }
     },
     "b959d2c248eb480db8aa79fc8a5cb534": {
      "model_module": "@jupyter-widgets/controls",
      "model_module_version": "2.0.0",
      "model_name": "FloatProgressModel",
      "state": {
       "bar_style": "danger",
       "layout": "IPY_MODEL_67597766408742479ce0bf6cc2478e26",
       "max": 3,
       "style": "IPY_MODEL_ed4b45ecdd934060aec1b9f01e6666f3",
       "value": 2
      }
     },
     "b95eedb43b064ce789790750e2c53bb5": {
      "model_module": "@jupyter-widgets/controls",
      "model_module_version": "2.0.0",
      "model_name": "HTMLModel",
      "state": {
       "layout": "IPY_MODEL_da154e78fb2f4ccaaf9eaeb787bacfe6",
       "style": "IPY_MODEL_3cc8526128264bb280238503853a9de7",
       "value": " 3/3 [00:10&lt;00:00,  4.00s/it]"
      }
     },
     "b99910e822374a6b9ce70d7b96324062": {
      "model_module": "@jupyter-widgets/controls",
      "model_module_version": "2.0.0",
      "model_name": "HTMLModel",
      "state": {
       "layout": "IPY_MODEL_4624434e462b4f3592aa0a3f3ada8c5d",
       "style": "IPY_MODEL_ea5c5e28a3084a8e9b220f22ec95964c",
       "value": " 8/8 [00:32&lt;00:00,  4.96s/it]"
      }
     },
     "b9ac73cbe2ab47b6a925b4af56855006": {
      "model_module": "@jupyter-widgets/controls",
      "model_module_version": "2.0.0",
      "model_name": "DescriptionStyleModel",
      "state": {
       "description_width": ""
      }
     },
     "b9f2c8dcd1d742c2b0284bbedcc5052f": {
      "model_module": "@jupyter-widgets/controls",
      "model_module_version": "2.0.0",
      "model_name": "HTMLModel",
      "state": {
       "layout": "IPY_MODEL_3d1cac7f5ee04ba786173b125cae00a4",
       "style": "IPY_MODEL_4aa728bf97a248ecb6f1ed409e13c000",
       "value": " 6/6 [00:11&lt;00:00,  2.81s/it]"
      }
     },
     "ba13e79393134c15b7c1c317500ab049": {
      "model_module": "@jupyter-widgets/controls",
      "model_module_version": "2.0.0",
      "model_name": "HBoxModel",
      "state": {
       "children": [
        "IPY_MODEL_2cede2330d884562a62166d0d62dcd9b",
        "IPY_MODEL_c873b1ae856c49f88d8310b54344f442",
        "IPY_MODEL_9ee613f03cca4b73a8bc20062ed816c1"
       ],
       "layout": "IPY_MODEL_0eaa5fd6d17d42739186b27b186fa2d4"
      }
     },
     "ba29168235254634b5b1b682e0b4ae4c": {
      "model_module": "@jupyter-widgets/base",
      "model_module_version": "2.0.0",
      "model_name": "LayoutModel",
      "state": {}
     },
     "ba7005dc539b433c853dc0d5edf5deb3": {
      "model_module": "@jupyter-widgets/controls",
      "model_module_version": "2.0.0",
      "model_name": "HTMLModel",
      "state": {
       "layout": "IPY_MODEL_b836e579d57f4ee3ad564a073429a29b",
       "style": "IPY_MODEL_227e83a28aa846ed87ea1bffc6e15c16",
       "value": " 6/6 [00:11&lt;00:00,  2.83s/it]"
      }
     },
     "ba807cc513b74d7d8eeb027c2910b83d": {
      "model_module": "@jupyter-widgets/base",
      "model_module_version": "2.0.0",
      "model_name": "LayoutModel",
      "state": {}
     },
     "bb3bcedafa734364a633828b37f8bd9f": {
      "model_module": "@jupyter-widgets/base",
      "model_module_version": "2.0.0",
      "model_name": "LayoutModel",
      "state": {}
     },
     "bb4c687cc5b7401d8d90170737dfe53e": {
      "model_module": "@jupyter-widgets/controls",
      "model_module_version": "2.0.0",
      "model_name": "HTMLStyleModel",
      "state": {
       "description_width": "",
       "font_size": null,
       "text_color": null
      }
     },
     "bb6cdac5407f4a11ad920f298d404dea": {
      "model_module": "@jupyter-widgets/base",
      "model_module_version": "2.0.0",
      "model_name": "LayoutModel",
      "state": {}
     },
     "bc59be59c8e340218f148d15b9e3c513": {
      "model_module": "@jupyter-widgets/controls",
      "model_module_version": "2.0.0",
      "model_name": "DescriptionStyleModel",
      "state": {
       "description_width": ""
      }
     },
     "bc9b146a311b4e43864c0885a0d6254b": {
      "model_module": "@jupyter-widgets/base",
      "model_module_version": "2.0.0",
      "model_name": "LayoutModel",
      "state": {}
     },
     "bcd1686c6e77476086983a24fa87b982": {
      "model_module": "@jupyter-widgets/base",
      "model_module_version": "2.0.0",
      "model_name": "LayoutModel",
      "state": {}
     },
     "bd101b633ea34ac69246ecb0598515b8": {
      "model_module": "@jupyter-widgets/base",
      "model_module_version": "2.0.0",
      "model_name": "LayoutModel",
      "state": {}
     },
     "bd3f5d9954cd4a91a7381e105cf45022": {
      "model_module": "@jupyter-widgets/controls",
      "model_module_version": "2.0.0",
      "model_name": "HTMLModel",
      "state": {
       "layout": "IPY_MODEL_03a96f3c2a024b0f94090e89d31f9e0a",
       "style": "IPY_MODEL_9cd79e32341d49e79b16310ec2053281",
       "value": "100%"
      }
     },
     "bd40e6ea970a42bca8cba175f0e0ef3c": {
      "model_module": "@jupyter-widgets/base",
      "model_module_version": "2.0.0",
      "model_name": "LayoutModel",
      "state": {}
     },
     "bd439efb587f416c88473e2207f1de00": {
      "model_module": "@jupyter-widgets/base",
      "model_module_version": "2.0.0",
      "model_name": "LayoutModel",
      "state": {}
     },
     "bd7a94334adf4927a42ed12c73654dac": {
      "model_module": "@jupyter-widgets/controls",
      "model_module_version": "2.0.0",
      "model_name": "HTMLModel",
      "state": {
       "layout": "IPY_MODEL_c5559374e5554db0ada7dc65ddf5598f",
       "style": "IPY_MODEL_1fc2b21844534159a368b1806fac3a9b",
       "value": " 3/3 [00:10&lt;00:00,  4.12s/it]"
      }
     },
     "be287985079e402d8332d24294a34c84": {
      "model_module": "@jupyter-widgets/base",
      "model_module_version": "2.0.0",
      "model_name": "LayoutModel",
      "state": {}
     },
     "be41d6ae9f344b5ba9b383d3d5c484bf": {
      "model_module": "@jupyter-widgets/base",
      "model_module_version": "2.0.0",
      "model_name": "LayoutModel",
      "state": {}
     },
     "bea60f47ad4342aa85af0a82419d5792": {
      "model_module": "@jupyter-widgets/base",
      "model_module_version": "2.0.0",
      "model_name": "LayoutModel",
      "state": {}
     },
     "bedfc1ababb04676973768143bce8fbc": {
      "model_module": "@jupyter-widgets/controls",
      "model_module_version": "2.0.0",
      "model_name": "HBoxModel",
      "state": {
       "children": [
        "IPY_MODEL_ff775a243b6949488f74e1dbabacf8a0",
        "IPY_MODEL_3d166a7aee6444dbaa8ad4fbe9667ab8",
        "IPY_MODEL_3e39b41de3b441b9bf4aca91849f83ba"
       ],
       "layout": "IPY_MODEL_3f1e1583b7cc4b0d8c5bcff3dfaae02c"
      }
     },
     "bf2f79d4b8554fe0a9096bcceea7454d": {
      "model_module": "@jupyter-widgets/controls",
      "model_module_version": "2.0.0",
      "model_name": "ProgressStyleModel",
      "state": {
       "description_width": ""
      }
     },
     "bf4a972555a14ee59cc8ab9d09092f4e": {
      "model_module": "@jupyter-widgets/controls",
      "model_module_version": "2.0.0",
      "model_name": "HTMLStyleModel",
      "state": {
       "description_width": "",
       "font_size": null,
       "text_color": null
      }
     },
     "bf8a60bc94df456e8eb3e78e65680454": {
      "model_module": "@jupyter-widgets/base",
      "model_module_version": "2.0.0",
      "model_name": "LayoutModel",
      "state": {}
     },
     "bfc48091ec6d4aa88c7cd6e624b2063f": {
      "model_module": "@jupyter-widgets/base",
      "model_module_version": "2.0.0",
      "model_name": "LayoutModel",
      "state": {}
     },
     "c06f451b863c41a2afebcd113177edfd": {
      "model_module": "@jupyter-widgets/controls",
      "model_module_version": "2.0.0",
      "model_name": "DescriptionStyleModel",
      "state": {
       "description_width": ""
      }
     },
     "c0a9ef47e8e84bcba447e99fa44f6883": {
      "model_module": "@jupyter-widgets/controls",
      "model_module_version": "2.0.0",
      "model_name": "HTMLModel",
      "state": {
       "layout": "IPY_MODEL_42084ebcfb5c4a14bb1a8dccb70c02e7",
       "style": "IPY_MODEL_5195b30886ae479ba56e84588a608368",
       "value": " 14/14 [00:35&lt;00:00,  2.62s/it]"
      }
     },
     "c0bc0ed166f748e898629d44ab3ed1a8": {
      "model_module": "@jupyter-widgets/controls",
      "model_module_version": "2.0.0",
      "model_name": "HTMLModel",
      "state": {
       "layout": "IPY_MODEL_291c07312d7647979fa567eec843280e",
       "style": "IPY_MODEL_18f4eee24bac4eed92745ba210060663",
       "value": "100%"
      }
     },
     "c1185f0270fe4f4b904912182604a1b1": {
      "model_module": "@jupyter-widgets/controls",
      "model_module_version": "2.0.0",
      "model_name": "DescriptionStyleModel",
      "state": {
       "description_width": ""
      }
     },
     "c118c80129a249eea1b05cb08a19d240": {
      "model_module": "@jupyter-widgets/base",
      "model_module_version": "2.0.0",
      "model_name": "LayoutModel",
      "state": {}
     },
     "c179d82d134c4885b232d00bb921d2c4": {
      "model_module": "@jupyter-widgets/base",
      "model_module_version": "2.0.0",
      "model_name": "LayoutModel",
      "state": {}
     },
     "c1d48ac75e284e85b0d09d8c36f30458": {
      "model_module": "@jupyter-widgets/base",
      "model_module_version": "2.0.0",
      "model_name": "LayoutModel",
      "state": {}
     },
     "c25231556e594901b84222ec98cfa76c": {
      "model_module": "@jupyter-widgets/controls",
      "model_module_version": "2.0.0",
      "model_name": "DescriptionStyleModel",
      "state": {
       "description_width": ""
      }
     },
     "c2c9bae4f17b430f94173f93bee66759": {
      "model_module": "@jupyter-widgets/base",
      "model_module_version": "2.0.0",
      "model_name": "LayoutModel",
      "state": {}
     },
     "c2fde99dd01245ec95f086a3473cf135": {
      "model_module": "@jupyter-widgets/controls",
      "model_module_version": "2.0.0",
      "model_name": "FloatProgressModel",
      "state": {
       "bar_style": "success",
       "layout": "IPY_MODEL_fc07b8eb3f2d42398ac37ae004962f19",
       "max": 3,
       "style": "IPY_MODEL_643781621b914dceaab16ab069a89a6c",
       "value": 3
      }
     },
     "c332cc3b2cbe413eb2a2d22f4d95bf59": {
      "model_module": "@jupyter-widgets/base",
      "model_module_version": "2.0.0",
      "model_name": "LayoutModel",
      "state": {}
     },
     "c34809797e2148929c31c45e8f49a95c": {
      "model_module": "@jupyter-widgets/base",
      "model_module_version": "2.0.0",
      "model_name": "LayoutModel",
      "state": {}
     },
     "c490158c2f7840d58b26921802f03980": {
      "model_module": "@jupyter-widgets/controls",
      "model_module_version": "2.0.0",
      "model_name": "HBoxModel",
      "state": {
       "children": [
        "IPY_MODEL_40ad493a779948fb877b8f1efbeb96ff",
        "IPY_MODEL_777f86a86f664c9cb9be08b5315a4d59",
        "IPY_MODEL_8b057534064a4e3686cd34358bb93401"
       ],
       "layout": "IPY_MODEL_dfe293cf4ff94c02886d72dddbd301f1"
      }
     },
     "c4dbd55522644ecd95b7a3ba72ba3395": {
      "model_module": "@jupyter-widgets/controls",
      "model_module_version": "2.0.0",
      "model_name": "DescriptionStyleModel",
      "state": {
       "description_width": ""
      }
     },
     "c5559374e5554db0ada7dc65ddf5598f": {
      "model_module": "@jupyter-widgets/base",
      "model_module_version": "2.0.0",
      "model_name": "LayoutModel",
      "state": {}
     },
     "c5989e198ec944dc8b7775b5705d73e5": {
      "model_module": "@jupyter-widgets/controls",
      "model_module_version": "2.0.0",
      "model_name": "ProgressStyleModel",
      "state": {
       "description_width": ""
      }
     },
     "c5bdc1aea1dc42808c80934112cab5ca": {
      "model_module": "@jupyter-widgets/controls",
      "model_module_version": "2.0.0",
      "model_name": "ProgressStyleModel",
      "state": {
       "description_width": ""
      }
     },
     "c61e0f4c117a4d1186762baca090503c": {
      "model_module": "@jupyter-widgets/base",
      "model_module_version": "2.0.0",
      "model_name": "LayoutModel",
      "state": {}
     },
     "c654e302892f4bfba0927c5f041e3257": {
      "model_module": "@jupyter-widgets/controls",
      "model_module_version": "2.0.0",
      "model_name": "ProgressStyleModel",
      "state": {
       "description_width": ""
      }
     },
     "c699b778decd49ad962699ab3183abb0": {
      "model_module": "@jupyter-widgets/controls",
      "model_module_version": "2.0.0",
      "model_name": "HTMLModel",
      "state": {
       "layout": "IPY_MODEL_271e20a9175e435b9e432bb49ff28515",
       "style": "IPY_MODEL_c4dbd55522644ecd95b7a3ba72ba3395",
       "value": " 3/3 [00:10&lt;00:00,  4.22s/it]"
      }
     },
     "c6b33421e33f4b0380e00957941ef8db": {
      "model_module": "@jupyter-widgets/controls",
      "model_module_version": "2.0.0",
      "model_name": "ProgressStyleModel",
      "state": {
       "description_width": ""
      }
     },
     "c7dc4e6681ce4f8eae9a97b57acbed79": {
      "model_module": "@jupyter-widgets/base",
      "model_module_version": "2.0.0",
      "model_name": "LayoutModel",
      "state": {}
     },
     "c873b1ae856c49f88d8310b54344f442": {
      "model_module": "@jupyter-widgets/controls",
      "model_module_version": "2.0.0",
      "model_name": "FloatProgressModel",
      "state": {
       "bar_style": "success",
       "layout": "IPY_MODEL_9f7187b4ecb342f2a742a39abb381f9d",
       "max": 14,
       "style": "IPY_MODEL_ad49430f601441eebcd6fdf140b752d4",
       "value": 14
      }
     },
     "c8a1210993ec476fbde009309209fc35": {
      "model_module": "@jupyter-widgets/base",
      "model_module_version": "2.0.0",
      "model_name": "LayoutModel",
      "state": {}
     },
     "c8cd1c4149dd4c7687e4eb640ff716a8": {
      "model_module": "@jupyter-widgets/controls",
      "model_module_version": "2.0.0",
      "model_name": "HBoxModel",
      "state": {
       "children": [
        "IPY_MODEL_631c4e5439134b44aa2abb0f2d6114da",
        "IPY_MODEL_8c4974d3c01f4a0ab4612bcd9d2c487e",
        "IPY_MODEL_0dc955968bf4464581e4aff52c7e0667"
       ],
       "layout": "IPY_MODEL_3c3b7115d2d34299bac7a54a435f0f3c"
      }
     },
     "c931633d20a244ef9feb92c378ca50c7": {
      "model_module": "@jupyter-widgets/base",
      "model_module_version": "2.0.0",
      "model_name": "LayoutModel",
      "state": {}
     },
     "c941c9c883be4ff7a4d90b55852afc96": {
      "model_module": "@jupyter-widgets/controls",
      "model_module_version": "2.0.0",
      "model_name": "HTMLStyleModel",
      "state": {
       "description_width": "",
       "font_size": null,
       "text_color": null
      }
     },
     "c94f83c2248f4f50974750f0c2ee6bc1": {
      "model_module": "@jupyter-widgets/base",
      "model_module_version": "2.0.0",
      "model_name": "LayoutModel",
      "state": {}
     },
     "c9926b82ab4345ebbeaf72d68b2d7259": {
      "model_module": "@jupyter-widgets/base",
      "model_module_version": "2.0.0",
      "model_name": "LayoutModel",
      "state": {}
     },
     "c9f8cbc07cae4d238f0b15e9e0fa371b": {
      "model_module": "@jupyter-widgets/controls",
      "model_module_version": "2.0.0",
      "model_name": "HBoxModel",
      "state": {
       "children": [
        "IPY_MODEL_34606ce89b63484aad57b4a2d451950c",
        "IPY_MODEL_90847593a34c4349a601197e200e330b",
        "IPY_MODEL_21b051ce1eb44d588eb8484bfb57c09c"
       ],
       "layout": "IPY_MODEL_4b756571316644e7a1e95bfff335a728"
      }
     },
     "ca08d7ee14214e2ebed567205b819df1": {
      "model_module": "@jupyter-widgets/controls",
      "model_module_version": "2.0.0",
      "model_name": "HTMLModel",
      "state": {
       "layout": "IPY_MODEL_a6ec0e6de8ed4d18943486d916631bb3",
       "style": "IPY_MODEL_f088742121f542cdb895747b227deca2",
       "value": "100%"
      }
     },
     "caae53edbd58462cbc39966b1649dff7": {
      "model_module": "@jupyter-widgets/base",
      "model_module_version": "2.0.0",
      "model_name": "LayoutModel",
      "state": {}
     },
     "cac094dfafa64d289e942e132ec9e84f": {
      "model_module": "@jupyter-widgets/controls",
      "model_module_version": "2.0.0",
      "model_name": "HTMLStyleModel",
      "state": {
       "description_width": "",
       "font_size": null,
       "text_color": null
      }
     },
     "cb08a9ff3d324eb28b1c29892c887232": {
      "model_module": "@jupyter-widgets/controls",
      "model_module_version": "2.0.0",
      "model_name": "HTMLModel",
      "state": {
       "layout": "IPY_MODEL_56a6bad0b666407a9367de9bf30fd660",
       "style": "IPY_MODEL_e90406da19364701938d300128db6610",
       "value": " 14/14 [00:34&lt;00:00,  2.57s/it]"
      }
     },
     "cb816fa26def400fb32343b0dd2f8917": {
      "model_module": "@jupyter-widgets/controls",
      "model_module_version": "2.0.0",
      "model_name": "DescriptionStyleModel",
      "state": {
       "description_width": ""
      }
     },
     "cbd5356061a440dbb53782fc01963ceb": {
      "model_module": "@jupyter-widgets/controls",
      "model_module_version": "2.0.0",
      "model_name": "ProgressStyleModel",
      "state": {
       "description_width": ""
      }
     },
     "cbd792511fbc4743b175d6ca42fbf072": {
      "model_module": "@jupyter-widgets/base",
      "model_module_version": "2.0.0",
      "model_name": "LayoutModel",
      "state": {}
     },
     "cbe0ed1b6adb4f9ab4b90bafbb80e6c2": {
      "model_module": "@jupyter-widgets/controls",
      "model_module_version": "2.0.0",
      "model_name": "HTMLModel",
      "state": {
       "layout": "IPY_MODEL_5d1150275c574960b7ee756c4e5b8422",
       "style": "IPY_MODEL_cde62e1f9b294d619d4ffd1aa0fac805",
       "value": " 6/6 [00:08&lt;00:00,  1.95s/it]"
      }
     },
     "cbfe7897a6824407ae27d9e2624c90fd": {
      "model_module": "@jupyter-widgets/controls",
      "model_module_version": "2.0.0",
      "model_name": "HBoxModel",
      "state": {
       "children": [
        "IPY_MODEL_3e0b8257b09045b9bb0d57dfa5fc8945",
        "IPY_MODEL_5bc99c916ebd414daf96f69f725d40ea",
        "IPY_MODEL_6ba368873182486380ecad62d4aec0de"
       ],
       "layout": "IPY_MODEL_c332cc3b2cbe413eb2a2d22f4d95bf59"
      }
     },
     "cc49fe955bc9415abe5836ccaad61025": {
      "model_module": "@jupyter-widgets/base",
      "model_module_version": "2.0.0",
      "model_name": "LayoutModel",
      "state": {}
     },
     "cc70f9b3c01c457b99cccc2760db08c8": {
      "model_module": "@jupyter-widgets/base",
      "model_module_version": "2.0.0",
      "model_name": "LayoutModel",
      "state": {}
     },
     "cc828325858743d1a489b03205ca511f": {
      "model_module": "@jupyter-widgets/controls",
      "model_module_version": "2.0.0",
      "model_name": "HTMLModel",
      "state": {
       "layout": "IPY_MODEL_58f0f746e8004a5fafe76d9dcdb1209b",
       "style": "IPY_MODEL_a0123662844f4a149a0432231f34ba9f",
       "value": "100%"
      }
     },
     "ccc5bf5d8d9348dfadf4db618a2aee02": {
      "model_module": "@jupyter-widgets/controls",
      "model_module_version": "2.0.0",
      "model_name": "FloatProgressModel",
      "state": {
       "bar_style": "success",
       "layout": "IPY_MODEL_478294a04e59466e9eb976ac1abe3192",
       "max": 3,
       "style": "IPY_MODEL_dab4fd7806aa4fc0ba7c459b813d3f9d",
       "value": 3
      }
     },
     "cd5ec6a0899a4ec3bf44ab5113ec9831": {
      "model_module": "@jupyter-widgets/controls",
      "model_module_version": "2.0.0",
      "model_name": "HTMLStyleModel",
      "state": {
       "description_width": "",
       "font_size": null,
       "text_color": null
      }
     },
     "cd78b7965d4d428a8cb50a5b211e9793": {
      "model_module": "@jupyter-widgets/controls",
      "model_module_version": "2.0.0",
      "model_name": "ProgressStyleModel",
      "state": {
       "description_width": ""
      }
     },
     "cde62e1f9b294d619d4ffd1aa0fac805": {
      "model_module": "@jupyter-widgets/controls",
      "model_module_version": "2.0.0",
      "model_name": "HTMLStyleModel",
      "state": {
       "description_width": "",
       "font_size": null,
       "text_color": null
      }
     },
     "ce1f0f894a92465db9af08981e3b5c55": {
      "model_module": "@jupyter-widgets/base",
      "model_module_version": "2.0.0",
      "model_name": "LayoutModel",
      "state": {}
     },
     "ce39bf113fa24c5a9c3d66bf8827fbe9": {
      "model_module": "@jupyter-widgets/base",
      "model_module_version": "2.0.0",
      "model_name": "LayoutModel",
      "state": {}
     },
     "ce7f7abe8f384bdd91ef63c4be8b933c": {
      "model_module": "@jupyter-widgets/controls",
      "model_module_version": "2.0.0",
      "model_name": "ProgressStyleModel",
      "state": {
       "description_width": ""
      }
     },
     "ce936f4a7b7442b4bce1d0487ab9ce67": {
      "model_module": "@jupyter-widgets/controls",
      "model_module_version": "2.0.0",
      "model_name": "FloatProgressModel",
      "state": {
       "bar_style": "success",
       "layout": "IPY_MODEL_33e227418c11451eaa71da98a73824de",
       "max": 6,
       "style": "IPY_MODEL_f5f8f0158f5e4152a38befdfae4ec590",
       "value": 6
      }
     },
     "ceb07ebb580242619894a2c16e706be0": {
      "model_module": "@jupyter-widgets/base",
      "model_module_version": "2.0.0",
      "model_name": "LayoutModel",
      "state": {}
     },
     "ceb09d33dd824785acf3458f0f6f5b90": {
      "model_module": "@jupyter-widgets/controls",
      "model_module_version": "2.0.0",
      "model_name": "ProgressStyleModel",
      "state": {
       "description_width": ""
      }
     },
     "cee6b08836af4849b0c65597ec0a4bf1": {
      "model_module": "@jupyter-widgets/controls",
      "model_module_version": "2.0.0",
      "model_name": "HTMLModel",
      "state": {
       "layout": "IPY_MODEL_f4d962287f0a4127a69e007329d4b295",
       "style": "IPY_MODEL_63f72555303e4481a28135d51cbf9841",
       "value": "100%"
      }
     },
     "cf54b1ccc6414c8a97397e2727460764": {
      "model_module": "@jupyter-widgets/base",
      "model_module_version": "2.0.0",
      "model_name": "LayoutModel",
      "state": {}
     },
     "cf74716173fd494f8ea0332793acb220": {
      "model_module": "@jupyter-widgets/base",
      "model_module_version": "2.0.0",
      "model_name": "LayoutModel",
      "state": {}
     },
     "d13dd26971b44151b9d2858eba28a261": {
      "model_module": "@jupyter-widgets/controls",
      "model_module_version": "2.0.0",
      "model_name": "DescriptionStyleModel",
      "state": {
       "description_width": ""
      }
     },
     "d19518513e8a44dfa6fb2814c8c8f05d": {
      "model_module": "@jupyter-widgets/controls",
      "model_module_version": "2.0.0",
      "model_name": "DescriptionStyleModel",
      "state": {
       "description_width": ""
      }
     },
     "d198ef45d5a04f10855f3477e5f4f784": {
      "model_module": "@jupyter-widgets/base",
      "model_module_version": "2.0.0",
      "model_name": "LayoutModel",
      "state": {}
     },
     "d1d58a82f6344ab2a101af2e41334a21": {
      "model_module": "@jupyter-widgets/base",
      "model_module_version": "2.0.0",
      "model_name": "LayoutModel",
      "state": {}
     },
     "d2089328393446879bd5bea14c4c46d4": {
      "model_module": "@jupyter-widgets/base",
      "model_module_version": "2.0.0",
      "model_name": "LayoutModel",
      "state": {}
     },
     "d215b8a8add54994996af76ab889def9": {
      "model_module": "@jupyter-widgets/base",
      "model_module_version": "2.0.0",
      "model_name": "LayoutModel",
      "state": {}
     },
     "d23780089de748e3a6494a99c3811a90": {
      "model_module": "@jupyter-widgets/base",
      "model_module_version": "2.0.0",
      "model_name": "LayoutModel",
      "state": {}
     },
     "d27eb65ea0fb4a90a0ec72145561cd69": {
      "model_module": "@jupyter-widgets/controls",
      "model_module_version": "2.0.0",
      "model_name": "HBoxModel",
      "state": {
       "children": [
        "IPY_MODEL_36b244b936554e89b66a62ccb92cddff",
        "IPY_MODEL_b01ac6fa0bf14721b1a2505c3fe93267",
        "IPY_MODEL_a7aed6a1208c42f2a3249230064c6597"
       ],
       "layout": "IPY_MODEL_d9e198f42bd34f4bbed0a7207fa4066a"
      }
     },
     "d28805f81f2d4e939de07c7bfb0c3942": {
      "model_module": "@jupyter-widgets/controls",
      "model_module_version": "2.0.0",
      "model_name": "HTMLModel",
      "state": {
       "layout": "IPY_MODEL_82c29639356a4a678ac451eeb04f30de",
       "style": "IPY_MODEL_bf4a972555a14ee59cc8ab9d09092f4e",
       "value": "100%"
      }
     },
     "d2a0bce7014243eea3c459bb4989239a": {
      "model_module": "@jupyter-widgets/controls",
      "model_module_version": "2.0.0",
      "model_name": "HBoxModel",
      "state": {
       "children": [
        "IPY_MODEL_229cd52eb0e84464ba9215674f6cc175",
        "IPY_MODEL_ce936f4a7b7442b4bce1d0487ab9ce67",
        "IPY_MODEL_1a3e94e077794b26a5f1d4383652e342"
       ],
       "layout": "IPY_MODEL_da56b68130ac42c0946bd3a2d5a758f4"
      }
     },
     "d2dc6893736e407cb84282e4eceb0b6f": {
      "model_module": "@jupyter-widgets/controls",
      "model_module_version": "2.0.0",
      "model_name": "HTMLModel",
      "state": {
       "layout": "IPY_MODEL_317facdbf72e446fb5da04ed0647fdad",
       "style": "IPY_MODEL_ead2c8de8254474aa03caec7fb6f8f4f",
       "value": " 6/6 [00:11&lt;00:00,  2.80s/it]"
      }
     },
     "d2f142dce1c9498c806f06a30b43f04b": {
      "model_module": "@jupyter-widgets/controls",
      "model_module_version": "2.0.0",
      "model_name": "FloatProgressModel",
      "state": {
       "bar_style": "success",
       "layout": "IPY_MODEL_6fcff024baf2498bb3ac78f0d1527144",
       "max": 14,
       "style": "IPY_MODEL_3e41b6f6cbc4447a8970ae9f5bb50caf",
       "value": 14
      }
     },
     "d3134f14b8944f4987bb3b46c8f59e6d": {
      "model_module": "@jupyter-widgets/controls",
      "model_module_version": "2.0.0",
      "model_name": "FloatProgressModel",
      "state": {
       "bar_style": "success",
       "layout": "IPY_MODEL_87ed297c898a4aa8a059c3d7c6418959",
       "max": 14,
       "style": "IPY_MODEL_416740e46d6445bdab71fba20bb12459",
       "value": 14
      }
     },
     "d463b721d2be4341b9411cf03bac5304": {
      "model_module": "@jupyter-widgets/controls",
      "model_module_version": "2.0.0",
      "model_name": "DescriptionStyleModel",
      "state": {
       "description_width": ""
      }
     },
     "d46e3a69176d4082bb5494990e3ecd88": {
      "model_module": "@jupyter-widgets/controls",
      "model_module_version": "2.0.0",
      "model_name": "HTMLStyleModel",
      "state": {
       "description_width": "",
       "font_size": null,
       "text_color": null
      }
     },
     "d48b08577167403c853df23ea21f8587": {
      "model_module": "@jupyter-widgets/controls",
      "model_module_version": "2.0.0",
      "model_name": "HBoxModel",
      "state": {
       "children": [
        "IPY_MODEL_982382b357b14ca8804bd87ffe32397e",
        "IPY_MODEL_d7a56ac309b042a68746893386ad2d9d",
        "IPY_MODEL_361f76237aa24315b59c5ca16a22a090"
       ],
       "layout": "IPY_MODEL_bb3bcedafa734364a633828b37f8bd9f"
      }
     },
     "d508b30885034954883d0ecb2f25290a": {
      "model_module": "@jupyter-widgets/controls",
      "model_module_version": "2.0.0",
      "model_name": "FloatProgressModel",
      "state": {
       "bar_style": "success",
       "layout": "IPY_MODEL_c34809797e2148929c31c45e8f49a95c",
       "max": 3,
       "style": "IPY_MODEL_24aeaa95de3f4885976b8a9a38c9b3bf",
       "value": 3
      }
     },
     "d520791859134727bc1617d07d6991ba": {
      "model_module": "@jupyter-widgets/base",
      "model_module_version": "2.0.0",
      "model_name": "LayoutModel",
      "state": {}
     },
     "d545003943714d8c998b2c7a376fd3ff": {
      "model_module": "@jupyter-widgets/base",
      "model_module_version": "2.0.0",
      "model_name": "LayoutModel",
      "state": {}
     },
     "d693d67d5f77496bb181a98fdc0b7233": {
      "model_module": "@jupyter-widgets/controls",
      "model_module_version": "2.0.0",
      "model_name": "FloatProgressModel",
      "state": {
       "bar_style": "success",
       "layout": "IPY_MODEL_0eb105eb3c3a4e0e8ad0c0555002b74a",
       "max": 6,
       "style": "IPY_MODEL_ae935114aa1e4839b970b1db58c9c731",
       "value": 6
      }
     },
     "d6e18d7031c9403c8ab3e13577ae7c18": {
      "model_module": "@jupyter-widgets/base",
      "model_module_version": "2.0.0",
      "model_name": "LayoutModel",
      "state": {}
     },
     "d70423af9ef64c5a9d6538a15c6e12b9": {
      "model_module": "@jupyter-widgets/base",
      "model_module_version": "2.0.0",
      "model_name": "LayoutModel",
      "state": {}
     },
     "d73879b228ab41edbd87b375a6c4d3eb": {
      "model_module": "@jupyter-widgets/controls",
      "model_module_version": "2.0.0",
      "model_name": "FloatProgressModel",
      "state": {
       "bar_style": "success",
       "layout": "IPY_MODEL_946cadf61f5e47fd8270beb2329cf33b",
       "max": 3,
       "style": "IPY_MODEL_59116e8e1096438c959870c7d5a626e4",
       "value": 3
      }
     },
     "d7436bd261a3403b974de6b6da39f46a": {
      "model_module": "@jupyter-widgets/controls",
      "model_module_version": "2.0.0",
      "model_name": "HTMLStyleModel",
      "state": {
       "description_width": "",
       "font_size": null,
       "text_color": null
      }
     },
     "d7843afa00d04ccfa17c4f7a2c0ead9c": {
      "model_module": "@jupyter-widgets/controls",
      "model_module_version": "2.0.0",
      "model_name": "HTMLModel",
      "state": {
       "layout": "IPY_MODEL_dcad3c2850bd4b17934478b75dc1d522",
       "style": "IPY_MODEL_11d0dc6ff6db4abe8434128bba74e17a",
       "value": "100%"
      }
     },
     "d790f3b779934eee8348804dd22ba3c1": {
      "model_module": "@jupyter-widgets/base",
      "model_module_version": "2.0.0",
      "model_name": "LayoutModel",
      "state": {}
     },
     "d79d6b73af2144729bed6a955c95e6e1": {
      "model_module": "@jupyter-widgets/controls",
      "model_module_version": "2.0.0",
      "model_name": "HTMLModel",
      "state": {
       "layout": "IPY_MODEL_39954bc2a54d43c78994d415f66343e6",
       "style": "IPY_MODEL_0f26d84da7c14a52a03a1d4cfbbc0405",
       "value": "100%"
      }
     },
     "d7a56ac309b042a68746893386ad2d9d": {
      "model_module": "@jupyter-widgets/controls",
      "model_module_version": "2.0.0",
      "model_name": "FloatProgressModel",
      "state": {
       "bar_style": "success",
       "layout": "IPY_MODEL_38b3f926069543699e7356d6fb50128f",
       "max": 6,
       "style": "IPY_MODEL_552543fdef3e445191c3480ff295802c",
       "value": 6
      }
     },
     "d7b063232f184ceca6520530d9f21b38": {
      "model_module": "@jupyter-widgets/controls",
      "model_module_version": "2.0.0",
      "model_name": "DescriptionStyleModel",
      "state": {
       "description_width": ""
      }
     },
     "d7d389b119e943efb26c211533ca5275": {
      "model_module": "@jupyter-widgets/controls",
      "model_module_version": "2.0.0",
      "model_name": "FloatProgressModel",
      "state": {
       "bar_style": "success",
       "layout": "IPY_MODEL_e26fc1c804f246fdacba70c9768b3757",
       "max": 14,
       "style": "IPY_MODEL_9a104c1a479a4b499033e7c555c78f9e",
       "value": 14
      }
     },
     "d7ec9dc0b86e4aa7adcd14aaab8643e1": {
      "model_module": "@jupyter-widgets/controls",
      "model_module_version": "2.0.0",
      "model_name": "HTMLModel",
      "state": {
       "layout": "IPY_MODEL_af1d80e909114d99b94b5888fcdc68a0",
       "style": "IPY_MODEL_274cfec487e047da9460c594076afe69",
       "value": " 6/6 [00:11&lt;00:00,  2.80s/it]"
      }
     },
     "d81ac806a89843e3a258a28316de145f": {
      "model_module": "@jupyter-widgets/base",
      "model_module_version": "2.0.0",
      "model_name": "LayoutModel",
      "state": {}
     },
     "d828002b1a404756b8f9dbfc96b1ffc1": {
      "model_module": "@jupyter-widgets/controls",
      "model_module_version": "2.0.0",
      "model_name": "FloatProgressModel",
      "state": {
       "bar_style": "success",
       "layout": "IPY_MODEL_2d42c6d71c264d4b9b14ffa02a354d67",
       "max": 6,
       "style": "IPY_MODEL_fd5e81f960e243358e7a5d42b3ba3402",
       "value": 6
      }
     },
     "d839910f6a224af7a9deb86a641b9b32": {
      "model_module": "@jupyter-widgets/controls",
      "model_module_version": "2.0.0",
      "model_name": "HBoxModel",
      "state": {
       "children": [
        "IPY_MODEL_0063857eab204d448a73753b8424dbad",
        "IPY_MODEL_7f39e4fb792e4f0dbe1c7c27002d693a",
        "IPY_MODEL_8119cd3961734583bf6db0c483e7f3a5"
       ],
       "layout": "IPY_MODEL_8884c47ab3c441ce8df0a22eac4b497e"
      }
     },
     "d83ded3010ff4830bdcfd81c9fcef800": {
      "model_module": "@jupyter-widgets/controls",
      "model_module_version": "2.0.0",
      "model_name": "ProgressStyleModel",
      "state": {
       "description_width": ""
      }
     },
     "d83e8dcffaef45478777c81975daeb66": {
      "model_module": "@jupyter-widgets/controls",
      "model_module_version": "2.0.0",
      "model_name": "HTMLModel",
      "state": {
       "layout": "IPY_MODEL_6176e82b1a604fb6b50991303317d235",
       "style": "IPY_MODEL_8ec11039193343d798c4d59b2cfe705b",
       "value": " 3/3 [00:10&lt;00:00,  4.19s/it]"
      }
     },
     "d87a02a290ab42fb8f24de71c309cf8f": {
      "model_module": "@jupyter-widgets/controls",
      "model_module_version": "2.0.0",
      "model_name": "DescriptionStyleModel",
      "state": {
       "description_width": ""
      }
     },
     "d87c3678554943cfaf04488344ff5fe6": {
      "model_module": "@jupyter-widgets/base",
      "model_module_version": "2.0.0",
      "model_name": "LayoutModel",
      "state": {}
     },
     "d8b129d3a2c341ac9bc912eaa595c0a3": {
      "model_module": "@jupyter-widgets/base",
      "model_module_version": "2.0.0",
      "model_name": "LayoutModel",
      "state": {}
     },
     "d8dded7411de4690a558a1ae7a282d56": {
      "model_module": "@jupyter-widgets/controls",
      "model_module_version": "2.0.0",
      "model_name": "DescriptionStyleModel",
      "state": {
       "description_width": ""
      }
     },
     "d9e198f42bd34f4bbed0a7207fa4066a": {
      "model_module": "@jupyter-widgets/base",
      "model_module_version": "2.0.0",
      "model_name": "LayoutModel",
      "state": {}
     },
     "da154e78fb2f4ccaaf9eaeb787bacfe6": {
      "model_module": "@jupyter-widgets/base",
      "model_module_version": "2.0.0",
      "model_name": "LayoutModel",
      "state": {}
     },
     "da56b68130ac42c0946bd3a2d5a758f4": {
      "model_module": "@jupyter-widgets/base",
      "model_module_version": "2.0.0",
      "model_name": "LayoutModel",
      "state": {}
     },
     "dab4fd7806aa4fc0ba7c459b813d3f9d": {
      "model_module": "@jupyter-widgets/controls",
      "model_module_version": "2.0.0",
      "model_name": "ProgressStyleModel",
      "state": {
       "description_width": ""
      }
     },
     "dab97a99fde448d99052d64e95b5cf63": {
      "model_module": "@jupyter-widgets/base",
      "model_module_version": "2.0.0",
      "model_name": "LayoutModel",
      "state": {}
     },
     "dac323477cf149139d9d28f79c4064bc": {
      "model_module": "@jupyter-widgets/base",
      "model_module_version": "2.0.0",
      "model_name": "LayoutModel",
      "state": {}
     },
     "dc0cb38431e34554a24eb56835159b14": {
      "model_module": "@jupyter-widgets/base",
      "model_module_version": "2.0.0",
      "model_name": "LayoutModel",
      "state": {}
     },
     "dc0dd2981a724c11960fdfb9c4753949": {
      "model_module": "@jupyter-widgets/controls",
      "model_module_version": "2.0.0",
      "model_name": "HTMLModel",
      "state": {
       "layout": "IPY_MODEL_f4f9b0038c9c44619b86920342744735",
       "style": "IPY_MODEL_7aab256f06ef4b9e8565daa375e42e01",
       "value": "100%"
      }
     },
     "dc28259a0652441aacc9366d13c53f3c": {
      "model_module": "@jupyter-widgets/base",
      "model_module_version": "2.0.0",
      "model_name": "LayoutModel",
      "state": {}
     },
     "dc68bf3968c245a59d61247ef22df629": {
      "model_module": "@jupyter-widgets/base",
      "model_module_version": "2.0.0",
      "model_name": "LayoutModel",
      "state": {}
     },
     "dcad3c2850bd4b17934478b75dc1d522": {
      "model_module": "@jupyter-widgets/base",
      "model_module_version": "2.0.0",
      "model_name": "LayoutModel",
      "state": {}
     },
     "dcc6fc36c70f4eb6864cde07b3f8c400": {
      "model_module": "@jupyter-widgets/controls",
      "model_module_version": "2.0.0",
      "model_name": "HBoxModel",
      "state": {
       "children": [
        "IPY_MODEL_b4656c34dfcd43a29c49c3e1e07e4a50",
        "IPY_MODEL_4c341a451372475c8ab1b62d52cc124c",
        "IPY_MODEL_6f0469764bbf4e3aacaca79738c9664f"
       ],
       "layout": "IPY_MODEL_3095d5471968403f8ffde3590444ba81"
      }
     },
     "dcca8bf40bd64061b09a211cc68bba61": {
      "model_module": "@jupyter-widgets/controls",
      "model_module_version": "2.0.0",
      "model_name": "HTMLModel",
      "state": {
       "layout": "IPY_MODEL_4664fa510ec24a1f8e977e573fdb1129",
       "style": "IPY_MODEL_614f7e74e8964772bbf709eec39a1524",
       "value": "100%"
      }
     },
     "dcead6a4bc7c4ebd98c57b29a4cbd66a": {
      "model_module": "@jupyter-widgets/base",
      "model_module_version": "2.0.0",
      "model_name": "LayoutModel",
      "state": {}
     },
     "dd17114b4a1c46e3880a89bcd314b090": {
      "model_module": "@jupyter-widgets/controls",
      "model_module_version": "2.0.0",
      "model_name": "FloatProgressModel",
      "state": {
       "bar_style": "success",
       "layout": "IPY_MODEL_a422eb421d334c8a8df8cec41b824897",
       "max": 14,
       "style": "IPY_MODEL_83367f94883e4fd6883bf6596850b72c",
       "value": 14
      }
     },
     "dd17374c13934f22b4d149c3c17afd1d": {
      "model_module": "@jupyter-widgets/controls",
      "model_module_version": "2.0.0",
      "model_name": "HTMLModel",
      "state": {
       "layout": "IPY_MODEL_1770df0cfa014ba89fca32d9ccf66276",
       "style": "IPY_MODEL_23ff1d5181ff474a8548c4341dace698",
       "value": " 14/14 [00:35&lt;00:00,  2.63s/it]"
      }
     },
     "dd4cfe4c1c19432d814165e8bfcadbdb": {
      "model_module": "@jupyter-widgets/controls",
      "model_module_version": "2.0.0",
      "model_name": "HTMLModel",
      "state": {
       "layout": "IPY_MODEL_77569b61b9f94b3bba023f8f25e98d70",
       "style": "IPY_MODEL_4fe88752d63e465dacddb2e96db851fc",
       "value": " 3/3 [00:10&lt;00:00,  4.18s/it]"
      }
     },
     "dd6570846ab0438d81b9a130d3dcc1c4": {
      "model_module": "@jupyter-widgets/controls",
      "model_module_version": "2.0.0",
      "model_name": "HTMLStyleModel",
      "state": {
       "description_width": "",
       "font_size": null,
       "text_color": null
      }
     },
     "dd9f8393faa64097954bd7d834610506": {
      "model_module": "@jupyter-widgets/controls",
      "model_module_version": "2.0.0",
      "model_name": "ProgressStyleModel",
      "state": {
       "description_width": ""
      }
     },
     "ddd0a93088564db392114ce48622e704": {
      "model_module": "@jupyter-widgets/controls",
      "model_module_version": "2.0.0",
      "model_name": "DescriptionStyleModel",
      "state": {
       "description_width": ""
      }
     },
     "de34218bb04f441bb1bc43e285752ade": {
      "model_module": "@jupyter-widgets/controls",
      "model_module_version": "2.0.0",
      "model_name": "HTMLModel",
      "state": {
       "layout": "IPY_MODEL_7d1f068199244ed6b81817ea80f86c30",
       "style": "IPY_MODEL_72959c60ea7840199da1f865e3205678",
       "value": "100%"
      }
     },
     "de728bf9065147a785cfed2cb35fefdb": {
      "model_module": "@jupyter-widgets/controls",
      "model_module_version": "2.0.0",
      "model_name": "ProgressStyleModel",
      "state": {
       "description_width": ""
      }
     },
     "df91ae866b7c4ab583dd9c521498031c": {
      "model_module": "@jupyter-widgets/controls",
      "model_module_version": "2.0.0",
      "model_name": "DescriptionStyleModel",
      "state": {
       "description_width": ""
      }
     },
     "dfe293cf4ff94c02886d72dddbd301f1": {
      "model_module": "@jupyter-widgets/base",
      "model_module_version": "2.0.0",
      "model_name": "LayoutModel",
      "state": {}
     },
     "e00f2d4bde8d4977a2c1fcf12272aee9": {
      "model_module": "@jupyter-widgets/base",
      "model_module_version": "2.0.0",
      "model_name": "LayoutModel",
      "state": {}
     },
     "e026cb4a76f64518aa80c32c5d6bc6d6": {
      "model_module": "@jupyter-widgets/controls",
      "model_module_version": "2.0.0",
      "model_name": "HTMLModel",
      "state": {
       "layout": "IPY_MODEL_dab97a99fde448d99052d64e95b5cf63",
       "style": "IPY_MODEL_73d6e42220b34c1db7c9c32952805469",
       "value": " 14/14 [00:34&lt;00:00,  2.55s/it]"
      }
     },
     "e07857edb1ab4b4aa304bfdd6b694ad9": {
      "model_module": "@jupyter-widgets/controls",
      "model_module_version": "2.0.0",
      "model_name": "HBoxModel",
      "state": {
       "children": [
        "IPY_MODEL_0f9c8d0f704c4e5ba707cf9fc4bd45ae",
        "IPY_MODEL_e33c825926f441ecb36ebe2d47c4af8f",
        "IPY_MODEL_dd17374c13934f22b4d149c3c17afd1d"
       ],
       "layout": "IPY_MODEL_2170228775ec4e85803342171d2bcc44"
      }
     },
     "e107e09de9494b96ba9563b361cbfa93": {
      "model_module": "@jupyter-widgets/controls",
      "model_module_version": "2.0.0",
      "model_name": "HTMLStyleModel",
      "state": {
       "description_width": "",
       "font_size": null,
       "text_color": null
      }
     },
     "e11311ed201b4eec8375f0060b43cdd3": {
      "model_module": "@jupyter-widgets/base",
      "model_module_version": "2.0.0",
      "model_name": "LayoutModel",
      "state": {}
     },
     "e11500d7c68642fbb6c1587fa476ab91": {
      "model_module": "@jupyter-widgets/controls",
      "model_module_version": "2.0.0",
      "model_name": "DescriptionStyleModel",
      "state": {
       "description_width": ""
      }
     },
     "e1b73ba901f94de3bfe97bd1cf8952e9": {
      "model_module": "@jupyter-widgets/controls",
      "model_module_version": "2.0.0",
      "model_name": "ProgressStyleModel",
      "state": {
       "description_width": ""
      }
     },
     "e1c181b12aa041edae8c0265a09202d8": {
      "model_module": "@jupyter-widgets/controls",
      "model_module_version": "2.0.0",
      "model_name": "ProgressStyleModel",
      "state": {
       "description_width": ""
      }
     },
     "e23df4b8b10148898f49280b3bd8308a": {
      "model_module": "@jupyter-widgets/base",
      "model_module_version": "2.0.0",
      "model_name": "LayoutModel",
      "state": {}
     },
     "e245076ed2dc4397ab5a192b2f9ecd9c": {
      "model_module": "@jupyter-widgets/controls",
      "model_module_version": "2.0.0",
      "model_name": "HBoxModel",
      "state": {
       "children": [
        "IPY_MODEL_0d4bc172676c4414864818a4ac6416fe",
        "IPY_MODEL_341a7cfa9b9240699db09f61bf95cb69",
        "IPY_MODEL_761febfec9434d18a10e7a292405c5d3"
       ],
       "layout": "IPY_MODEL_055973be849e46938f53875663039720"
      }
     },
     "e26fc1c804f246fdacba70c9768b3757": {
      "model_module": "@jupyter-widgets/base",
      "model_module_version": "2.0.0",
      "model_name": "LayoutModel",
      "state": {}
     },
     "e27c6e761b364d56bc2c9cee005861aa": {
      "model_module": "@jupyter-widgets/controls",
      "model_module_version": "2.0.0",
      "model_name": "DescriptionStyleModel",
      "state": {
       "description_width": ""
      }
     },
     "e2a0c13496744ad68d896d64a962e737": {
      "model_module": "@jupyter-widgets/controls",
      "model_module_version": "2.0.0",
      "model_name": "FloatProgressModel",
      "state": {
       "bar_style": "success",
       "layout": "IPY_MODEL_8fa32913544f4ff7ae6cc19b754896c1",
       "max": 14,
       "style": "IPY_MODEL_876f19a2a1274dfaab89aed4f6d34307",
       "value": 14
      }
     },
     "e2bebc0e11bb4c67b655a2bb0e52d17c": {
      "model_module": "@jupyter-widgets/controls",
      "model_module_version": "2.0.0",
      "model_name": "HTMLModel",
      "state": {
       "layout": "IPY_MODEL_5627352635654cd58c96ca414f1e6114",
       "style": "IPY_MODEL_a7d4d21d229e48928273980fb1f57c78",
       "value": "100%"
      }
     },
     "e2df143c4ac449a490b970fc5d42903d": {
      "model_module": "@jupyter-widgets/base",
      "model_module_version": "2.0.0",
      "model_name": "LayoutModel",
      "state": {}
     },
     "e2e8ccf1279e404e8a34624c43cb47a1": {
      "model_module": "@jupyter-widgets/controls",
      "model_module_version": "2.0.0",
      "model_name": "ProgressStyleModel",
      "state": {
       "description_width": ""
      }
     },
     "e2f9c553cda84b29b8912d2d332ae8cb": {
      "model_module": "@jupyter-widgets/controls",
      "model_module_version": "2.0.0",
      "model_name": "HTMLModel",
      "state": {
       "layout": "IPY_MODEL_e23df4b8b10148898f49280b3bd8308a",
       "style": "IPY_MODEL_eb4181bebf4d410e8b5c7badfad5bfda",
       "value": " 3/3 [00:10&lt;00:00,  4.20s/it]"
      }
     },
     "e33a5f4c714945229331ede15abc8eeb": {
      "model_module": "@jupyter-widgets/controls",
      "model_module_version": "2.0.0",
      "model_name": "HTMLStyleModel",
      "state": {
       "description_width": "",
       "font_size": null,
       "text_color": null
      }
     },
     "e33c825926f441ecb36ebe2d47c4af8f": {
      "model_module": "@jupyter-widgets/controls",
      "model_module_version": "2.0.0",
      "model_name": "FloatProgressModel",
      "state": {
       "bar_style": "success",
       "layout": "IPY_MODEL_5b069813b89b417297a48aeb2154fe67",
       "max": 14,
       "style": "IPY_MODEL_f46f147ed767438095a88af5a63a467a",
       "value": 14
      }
     },
     "e33de6c094a54effb98a325d8beecad8": {
      "model_module": "@jupyter-widgets/base",
      "model_module_version": "2.0.0",
      "model_name": "LayoutModel",
      "state": {}
     },
     "e370ebab14334b8aba9bb8bfed09edb4": {
      "model_module": "@jupyter-widgets/controls",
      "model_module_version": "2.0.0",
      "model_name": "HBoxModel",
      "state": {
       "children": [
        "IPY_MODEL_6f794c624be94766aa1173d268857714",
        "IPY_MODEL_0d3409116f40446cbda24b66b80c0548",
        "IPY_MODEL_9860d769f6e5456f8ab1d86485f89b89"
       ],
       "layout": "IPY_MODEL_bf8a60bc94df456e8eb3e78e65680454"
      }
     },
     "e3713f550fe34209b0ca21db1baa24aa": {
      "model_module": "@jupyter-widgets/controls",
      "model_module_version": "2.0.0",
      "model_name": "HTMLModel",
      "state": {
       "layout": "IPY_MODEL_f21572dd0fec42ae9fb1501edcecfecb",
       "style": "IPY_MODEL_a2955b360dac453d8c26fa7c5687f081",
       "value": "100%"
      }
     },
     "e3bb59a05fb8415c83eb1f0ab2bfbf5f": {
      "model_module": "@jupyter-widgets/controls",
      "model_module_version": "2.0.0",
      "model_name": "HTMLStyleModel",
      "state": {
       "description_width": "",
       "font_size": null,
       "text_color": null
      }
     },
     "e40cca4a10a44e0dbd27b705095264cc": {
      "model_module": "@jupyter-widgets/base",
      "model_module_version": "2.0.0",
      "model_name": "LayoutModel",
      "state": {}
     },
     "e49fc61a072143458af206edcef6af8c": {
      "model_module": "@jupyter-widgets/controls",
      "model_module_version": "2.0.0",
      "model_name": "DescriptionStyleModel",
      "state": {
       "description_width": ""
      }
     },
     "e4fee53c94fa471e8eb4b075e0b60ed2": {
      "model_module": "@jupyter-widgets/controls",
      "model_module_version": "2.0.0",
      "model_name": "ProgressStyleModel",
      "state": {
       "description_width": ""
      }
     },
     "e521aa828dc94af28f7c171bf9ee1566": {
      "model_module": "@jupyter-widgets/controls",
      "model_module_version": "2.0.0",
      "model_name": "HBoxModel",
      "state": {
       "children": [
        "IPY_MODEL_e585bad70ab040b2929b40c8daac6003",
        "IPY_MODEL_ccc5bf5d8d9348dfadf4db618a2aee02",
        "IPY_MODEL_854dbd68562548558ed1aa363a4554d2"
       ],
       "layout": "IPY_MODEL_67510021658848edbe477ad4bc8038f4"
      }
     },
     "e532c67f1c5a459dbaf78b5d1c681376": {
      "model_module": "@jupyter-widgets/controls",
      "model_module_version": "2.0.0",
      "model_name": "HTMLModel",
      "state": {
       "layout": "IPY_MODEL_d81ac806a89843e3a258a28316de145f",
       "style": "IPY_MODEL_1cf7ed64d07e42f1a35ac54ff80c9321",
       "value": " 6/6 [00:08&lt;00:00,  1.98s/it]"
      }
     },
     "e5627be0bb0747cbb16d4c50cdc94823": {
      "model_module": "@jupyter-widgets/base",
      "model_module_version": "2.0.0",
      "model_name": "LayoutModel",
      "state": {}
     },
     "e585bad70ab040b2929b40c8daac6003": {
      "model_module": "@jupyter-widgets/controls",
      "model_module_version": "2.0.0",
      "model_name": "HTMLModel",
      "state": {
       "layout": "IPY_MODEL_8d0d8c956fc0459f905a8b1a41ffe4fe",
       "style": "IPY_MODEL_7e6348b6f12249d5968b9eb97f166010",
       "value": "100%"
      }
     },
     "e58ad84b62ec439799d1916be0c1311f": {
      "model_module": "@jupyter-widgets/controls",
      "model_module_version": "2.0.0",
      "model_name": "HTMLStyleModel",
      "state": {
       "description_width": "",
       "font_size": null,
       "text_color": null
      }
     },
     "e59fd9367547423fbe88c0a69e5b5d4f": {
      "model_module": "@jupyter-widgets/base",
      "model_module_version": "2.0.0",
      "model_name": "LayoutModel",
      "state": {}
     },
     "e5ce606a16644d659863680e146e4706": {
      "model_module": "@jupyter-widgets/base",
      "model_module_version": "2.0.0",
      "model_name": "LayoutModel",
      "state": {}
     },
     "e5d5e45fb4914148aa722874d820f5b3": {
      "model_module": "@jupyter-widgets/controls",
      "model_module_version": "2.0.0",
      "model_name": "FloatProgressModel",
      "state": {
       "bar_style": "success",
       "layout": "IPY_MODEL_c61e0f4c117a4d1186762baca090503c",
       "max": 3,
       "style": "IPY_MODEL_332676bbba814a449eedc22d227442ce",
       "value": 3
      }
     },
     "e631feec27f44638b2b4bcc59588718e": {
      "model_module": "@jupyter-widgets/base",
      "model_module_version": "2.0.0",
      "model_name": "LayoutModel",
      "state": {}
     },
     "e6344aec656a4e2ebe984c2af55086ee": {
      "model_module": "@jupyter-widgets/controls",
      "model_module_version": "2.0.0",
      "model_name": "HTMLModel",
      "state": {
       "layout": "IPY_MODEL_3b0a2073456e43cbbc07113f5a06cd57",
       "style": "IPY_MODEL_3f64a682d5ca417bb12d96354fe97ee4",
       "value": " 14/14 [00:34&lt;00:00,  2.55s/it]"
      }
     },
     "e6601afb4f444433a8d2e37f465f45ab": {
      "model_module": "@jupyter-widgets/controls",
      "model_module_version": "2.0.0",
      "model_name": "DescriptionStyleModel",
      "state": {
       "description_width": ""
      }
     },
     "e67dee11d433417985572ac96d041333": {
      "model_module": "@jupyter-widgets/base",
      "model_module_version": "2.0.0",
      "model_name": "LayoutModel",
      "state": {}
     },
     "e6a099540d1b4981b0354d13867760e0": {
      "model_module": "@jupyter-widgets/controls",
      "model_module_version": "2.0.0",
      "model_name": "FloatProgressModel",
      "state": {
       "bar_style": "success",
       "layout": "IPY_MODEL_c2c9bae4f17b430f94173f93bee66759",
       "max": 14,
       "style": "IPY_MODEL_99424901800049039cf89f5962ef052d",
       "value": 14
      }
     },
     "e704b69e2c0147598b87d70959cc1d19": {
      "model_module": "@jupyter-widgets/base",
      "model_module_version": "2.0.0",
      "model_name": "LayoutModel",
      "state": {}
     },
     "e70f3c2d70b247df9fb2de2b32a22bdd": {
      "model_module": "@jupyter-widgets/controls",
      "model_module_version": "2.0.0",
      "model_name": "HTMLModel",
      "state": {
       "layout": "IPY_MODEL_90923c837e1b4ab9bc13f1267d9159d8",
       "style": "IPY_MODEL_abbeb2c6abf448dda079c6cbb462781b",
       "value": " 3/3 [00:10&lt;00:00,  4.12s/it]"
      }
     },
     "e744abc2fbcd45b6a9780d2183ae3d83": {
      "model_module": "@jupyter-widgets/controls",
      "model_module_version": "2.0.0",
      "model_name": "HTMLModel",
      "state": {
       "layout": "IPY_MODEL_240ac9bfcfca4ee1b8552b0aa6b1c30d",
       "style": "IPY_MODEL_f48ab7314b0244899aa892e212fa4d79",
       "value": "  0%"
      }
     },
     "e7c676f5f32c47ba9d376ed1e98d2579": {
      "model_module": "@jupyter-widgets/base",
      "model_module_version": "2.0.0",
      "model_name": "LayoutModel",
      "state": {}
     },
     "e83b55d4dce248a9ad00d59b4f589287": {
      "model_module": "@jupyter-widgets/controls",
      "model_module_version": "2.0.0",
      "model_name": "FloatProgressModel",
      "state": {
       "bar_style": "success",
       "layout": "IPY_MODEL_74b140d56f264876ad3baac400674e81",
       "max": 3,
       "style": "IPY_MODEL_56f349348df141708ca826a50e524d41",
       "value": 3
      }
     },
     "e888eadbc7f94bd8a49318165d57b41e": {
      "model_module": "@jupyter-widgets/base",
      "model_module_version": "2.0.0",
      "model_name": "LayoutModel",
      "state": {}
     },
     "e8e8410b949c4d85ab8ffc6736cacd90": {
      "model_module": "@jupyter-widgets/base",
      "model_module_version": "2.0.0",
      "model_name": "LayoutModel",
      "state": {}
     },
     "e8f26801067b4ef1828250d9824be275": {
      "model_module": "@jupyter-widgets/controls",
      "model_module_version": "2.0.0",
      "model_name": "ProgressStyleModel",
      "state": {
       "description_width": ""
      }
     },
     "e90406da19364701938d300128db6610": {
      "model_module": "@jupyter-widgets/controls",
      "model_module_version": "2.0.0",
      "model_name": "DescriptionStyleModel",
      "state": {
       "description_width": ""
      }
     },
     "e9242590798b48be820f5b35bb78d603": {
      "model_module": "@jupyter-widgets/controls",
      "model_module_version": "2.0.0",
      "model_name": "HBoxModel",
      "state": {
       "children": [
        "IPY_MODEL_e744abc2fbcd45b6a9780d2183ae3d83",
        "IPY_MODEL_3e57f777247b4598b82b5d44f6a95f1f",
        "IPY_MODEL_7eae24d97b304548b79fa6b8c4f0440c"
       ],
       "layout": "IPY_MODEL_bea60f47ad4342aa85af0a82419d5792"
      }
     },
     "e9851f713d7243c19f16d596d8687237": {
      "model_module": "@jupyter-widgets/controls",
      "model_module_version": "2.0.0",
      "model_name": "DescriptionStyleModel",
      "state": {
       "description_width": ""
      }
     },
     "e98c8a8741464f7d89d4b1b0c4ba928e": {
      "model_module": "@jupyter-widgets/controls",
      "model_module_version": "2.0.0",
      "model_name": "HTMLModel",
      "state": {
       "layout": "IPY_MODEL_4dd2a703b89e4906995b6ae63384ebec",
       "style": "IPY_MODEL_77c0f641a17541f098b0af2bfc288ba2",
       "value": "100%"
      }
     },
     "e9c5bf0eb79e49b88e40dc586ebe3e7c": {
      "model_module": "@jupyter-widgets/base",
      "model_module_version": "2.0.0",
      "model_name": "LayoutModel",
      "state": {}
     },
     "e9f11de37b074385b4ae630297261ce2": {
      "model_module": "@jupyter-widgets/base",
      "model_module_version": "2.0.0",
      "model_name": "LayoutModel",
      "state": {}
     },
     "ea5c5e28a3084a8e9b220f22ec95964c": {
      "model_module": "@jupyter-widgets/controls",
      "model_module_version": "2.0.0",
      "model_name": "DescriptionStyleModel",
      "state": {
       "description_width": ""
      }
     },
     "ead2c8de8254474aa03caec7fb6f8f4f": {
      "model_module": "@jupyter-widgets/controls",
      "model_module_version": "2.0.0",
      "model_name": "HTMLStyleModel",
      "state": {
       "description_width": "",
       "font_size": null,
       "text_color": null
      }
     },
     "eb0aa6c7a1894f94bcde787892e4921b": {
      "model_module": "@jupyter-widgets/controls",
      "model_module_version": "2.0.0",
      "model_name": "HTMLStyleModel",
      "state": {
       "description_width": "",
       "font_size": null,
       "text_color": null
      }
     },
     "eb4181bebf4d410e8b5c7badfad5bfda": {
      "model_module": "@jupyter-widgets/controls",
      "model_module_version": "2.0.0",
      "model_name": "DescriptionStyleModel",
      "state": {
       "description_width": ""
      }
     },
     "eb54245568c3417f8c1a3e0308150b39": {
      "model_module": "@jupyter-widgets/base",
      "model_module_version": "2.0.0",
      "model_name": "LayoutModel",
      "state": {}
     },
     "eba97bc2fe554e4d89a75a68452728ea": {
      "model_module": "@jupyter-widgets/controls",
      "model_module_version": "2.0.0",
      "model_name": "HTMLModel",
      "state": {
       "layout": "IPY_MODEL_e5ce606a16644d659863680e146e4706",
       "style": "IPY_MODEL_3282bc86098446bebd1e8f06a0a2af04",
       "value": " 3/3 [00:11&lt;00:00,  4.30s/it]"
      }
     },
     "ec90cfce9177485b883662ef681ad8d6": {
      "model_module": "@jupyter-widgets/controls",
      "model_module_version": "2.0.0",
      "model_name": "HTMLModel",
      "state": {
       "layout": "IPY_MODEL_5256fcf8c90746a2b585640096aabcd5",
       "style": "IPY_MODEL_59b8436cb07c42e9bc5b74d1bab28248",
       "value": "100%"
      }
     },
     "ecc123de3d6c47dc8f8232d19946d330": {
      "model_module": "@jupyter-widgets/controls",
      "model_module_version": "2.0.0",
      "model_name": "HBoxModel",
      "state": {
       "children": [
        "IPY_MODEL_3ddf5925f06b4d429e4f92bd152b3bec",
        "IPY_MODEL_516b22b99dad4b26bda95b7f5f377e6b",
        "IPY_MODEL_0365c814a1964bfa8a174f66d432d2d8"
       ],
       "layout": "IPY_MODEL_03a3d629e6154eacaca8081c71a01b2b"
      }
     },
     "ed4b45ecdd934060aec1b9f01e6666f3": {
      "model_module": "@jupyter-widgets/controls",
      "model_module_version": "2.0.0",
      "model_name": "ProgressStyleModel",
      "state": {
       "description_width": ""
      }
     },
     "ed986ba25e62442b805d11edfd26d196": {
      "model_module": "@jupyter-widgets/controls",
      "model_module_version": "2.0.0",
      "model_name": "FloatProgressModel",
      "state": {
       "bar_style": "success",
       "layout": "IPY_MODEL_7cdbaf6f3ca74f5f9129c7b62ff0fad9",
       "max": 6,
       "style": "IPY_MODEL_ce7f7abe8f384bdd91ef63c4be8b933c",
       "value": 6
      }
     },
     "edba1ebe3a684c6da97596e98b5211a5": {
      "model_module": "@jupyter-widgets/base",
      "model_module_version": "2.0.0",
      "model_name": "LayoutModel",
      "state": {}
     },
     "edd4ff7f3e974300b167832d9129ddc9": {
      "model_module": "@jupyter-widgets/controls",
      "model_module_version": "2.0.0",
      "model_name": "DescriptionStyleModel",
      "state": {
       "description_width": ""
      }
     },
     "edf5997f4a0c488abc2bd51d603e413b": {
      "model_module": "@jupyter-widgets/base",
      "model_module_version": "2.0.0",
      "model_name": "LayoutModel",
      "state": {}
     },
     "ee0c4e46207a4274a774314fe021f144": {
      "model_module": "@jupyter-widgets/base",
      "model_module_version": "2.0.0",
      "model_name": "LayoutModel",
      "state": {}
     },
     "ee2dd5434a194971bea98ba72eb8aad9": {
      "model_module": "@jupyter-widgets/controls",
      "model_module_version": "2.0.0",
      "model_name": "HBoxModel",
      "state": {
       "children": [
        "IPY_MODEL_81fd12c7fc3c414b93a7481f3fb7da1e",
        "IPY_MODEL_f48e026983244ac9ac89fe0530611c84",
        "IPY_MODEL_b7dc5056499647e6b599be2a6894c13b"
       ],
       "layout": "IPY_MODEL_219afd487156452a86e2406576ecfcc9"
      }
     },
     "ee40caa8c6a5462badf1997964bd8578": {
      "model_module": "@jupyter-widgets/controls",
      "model_module_version": "2.0.0",
      "model_name": "FloatProgressModel",
      "state": {
       "bar_style": "danger",
       "layout": "IPY_MODEL_b30a39d725ec4a5da7ab1f5f3027d270",
       "max": 6,
       "style": "IPY_MODEL_b77707f31c9b4dfd80bc0adc3c559056"
      }
     },
     "ee859f8513d14fd2a184aee7c23944ab": {
      "model_module": "@jupyter-widgets/base",
      "model_module_version": "2.0.0",
      "model_name": "LayoutModel",
      "state": {}
     },
     "eea860404204486385b30ba97d247ae2": {
      "model_module": "@jupyter-widgets/base",
      "model_module_version": "2.0.0",
      "model_name": "LayoutModel",
      "state": {}
     },
     "efc52319653d4b0bbd451e539181b0fa": {
      "model_module": "@jupyter-widgets/base",
      "model_module_version": "2.0.0",
      "model_name": "LayoutModel",
      "state": {}
     },
     "f02c4f5a3cc94e6a894dfcdd90c4a76c": {
      "model_module": "@jupyter-widgets/controls",
      "model_module_version": "2.0.0",
      "model_name": "DescriptionStyleModel",
      "state": {
       "description_width": ""
      }
     },
     "f088742121f542cdb895747b227deca2": {
      "model_module": "@jupyter-widgets/controls",
      "model_module_version": "2.0.0",
      "model_name": "DescriptionStyleModel",
      "state": {
       "description_width": ""
      }
     },
     "f088a133a8804674b9dd7f297ffbf9c2": {
      "model_module": "@jupyter-widgets/controls",
      "model_module_version": "2.0.0",
      "model_name": "FloatProgressModel",
      "state": {
       "bar_style": "success",
       "layout": "IPY_MODEL_4649dcb9189249368cf39bbc84f2235f",
       "max": 3,
       "style": "IPY_MODEL_89df800d4df747eaa75255a756977bf8",
       "value": 3
      }
     },
     "f0db023865de4e75a40b4550172c6138": {
      "model_module": "@jupyter-widgets/controls",
      "model_module_version": "2.0.0",
      "model_name": "HBoxModel",
      "state": {
       "children": [
        "IPY_MODEL_bd3f5d9954cd4a91a7381e105cf45022",
        "IPY_MODEL_70268c8c928f4f88b7800ca0b349bf8e",
        "IPY_MODEL_5af10075c7954a7a86b516adebbabe88"
       ],
       "layout": "IPY_MODEL_9cf5eea599ac405eba88a368b841cb7b"
      }
     },
     "f0f757600cc0422fb1fcae4bbfb667b7": {
      "model_module": "@jupyter-widgets/base",
      "model_module_version": "2.0.0",
      "model_name": "LayoutModel",
      "state": {}
     },
     "f10a509f4c6a45be95fd03a4d39b1837": {
      "model_module": "@jupyter-widgets/base",
      "model_module_version": "2.0.0",
      "model_name": "LayoutModel",
      "state": {}
     },
     "f13ca19e18544997bae83876d0159c0a": {
      "model_module": "@jupyter-widgets/controls",
      "model_module_version": "2.0.0",
      "model_name": "DescriptionStyleModel",
      "state": {
       "description_width": ""
      }
     },
     "f13fb1a0d89e42c0afa8612021dcb98e": {
      "model_module": "@jupyter-widgets/controls",
      "model_module_version": "2.0.0",
      "model_name": "HTMLModel",
      "state": {
       "layout": "IPY_MODEL_b2eb49191f454d1ca89219338d27fff3",
       "style": "IPY_MODEL_6d0bfbc93a1545819218856abadd1ff0",
       "value": " 6/6 [00:11&lt;00:00,  2.78s/it]"
      }
     },
     "f1a0ce767920426aa410782640361065": {
      "model_module": "@jupyter-widgets/controls",
      "model_module_version": "2.0.0",
      "model_name": "HBoxModel",
      "state": {
       "children": [
        "IPY_MODEL_1fc82bd317434156a2e9298ba5e183fd",
        "IPY_MODEL_e6a099540d1b4981b0354d13867760e0",
        "IPY_MODEL_b1869575b6bc48b185eadfefede9f2ea"
       ],
       "layout": "IPY_MODEL_b3c64d1d470d4303ba1161800f662b9d"
      }
     },
     "f1cadea86f4349a5ab89df8c16368f3f": {
      "model_module": "@jupyter-widgets/base",
      "model_module_version": "2.0.0",
      "model_name": "LayoutModel",
      "state": {}
     },
     "f1cf5257a926489ebdcef6587525d199": {
      "model_module": "@jupyter-widgets/base",
      "model_module_version": "2.0.0",
      "model_name": "LayoutModel",
      "state": {}
     },
     "f1cfc5bb0898456ca8f5c538a609a70f": {
      "model_module": "@jupyter-widgets/controls",
      "model_module_version": "2.0.0",
      "model_name": "DescriptionStyleModel",
      "state": {
       "description_width": ""
      }
     },
     "f1e99bec5c1a4eb288eb61fa64cd9703": {
      "model_module": "@jupyter-widgets/controls",
      "model_module_version": "2.0.0",
      "model_name": "FloatProgressModel",
      "state": {
       "bar_style": "danger",
       "layout": "IPY_MODEL_dac323477cf149139d9d28f79c4064bc",
       "max": 6,
       "style": "IPY_MODEL_3d47e1796585418ca1b913a20708cefa",
       "value": 5
      }
     },
     "f1f91959b5e34777a43a77fabbc2547b": {
      "model_module": "@jupyter-widgets/base",
      "model_module_version": "2.0.0",
      "model_name": "LayoutModel",
      "state": {}
     },
     "f205a09d309f47fe9800e84ab1b9b096": {
      "model_module": "@jupyter-widgets/controls",
      "model_module_version": "2.0.0",
      "model_name": "FloatProgressModel",
      "state": {
       "bar_style": "success",
       "layout": "IPY_MODEL_c1d48ac75e284e85b0d09d8c36f30458",
       "max": 6,
       "style": "IPY_MODEL_a98327ed4bd04814ab99164413777c03",
       "value": 6
      }
     },
     "f21572dd0fec42ae9fb1501edcecfecb": {
      "model_module": "@jupyter-widgets/base",
      "model_module_version": "2.0.0",
      "model_name": "LayoutModel",
      "state": {}
     },
     "f21e3b344edc4b7dac55236cc7acdf7f": {
      "model_module": "@jupyter-widgets/controls",
      "model_module_version": "2.0.0",
      "model_name": "HBoxModel",
      "state": {
       "children": [
        "IPY_MODEL_009e9b31c50b45ce98d8d25a7a492aac",
        "IPY_MODEL_298d55ec99f54dcd8e73ef8eba7e4595",
        "IPY_MODEL_98ebb002e3a64642ad056d5f1b073578"
       ],
       "layout": "IPY_MODEL_80c763c7699b4ff49a71253aa16e9b40"
      }
     },
     "f27ed8d568e3443b8ebfc12dea126023": {
      "model_module": "@jupyter-widgets/base",
      "model_module_version": "2.0.0",
      "model_name": "LayoutModel",
      "state": {}
     },
     "f287eebaea2a42059275cf322b97e556": {
      "model_module": "@jupyter-widgets/controls",
      "model_module_version": "2.0.0",
      "model_name": "DescriptionStyleModel",
      "state": {
       "description_width": ""
      }
     },
     "f2b100e087414d70b6a7854840f6a755": {
      "model_module": "@jupyter-widgets/controls",
      "model_module_version": "2.0.0",
      "model_name": "HBoxModel",
      "state": {
       "children": [
        "IPY_MODEL_cc828325858743d1a489b03205ca511f",
        "IPY_MODEL_69329a3476f64b6ebd2f92c94b295e8c",
        "IPY_MODEL_e2f9c553cda84b29b8912d2d332ae8cb"
       ],
       "layout": "IPY_MODEL_310227bd46d14740a6e6c01f119281fe"
      }
     },
     "f302702e49304ecc970ba60d6dff4f48": {
      "model_module": "@jupyter-widgets/base",
      "model_module_version": "2.0.0",
      "model_name": "LayoutModel",
      "state": {}
     },
     "f3448abc46c64dcc99030e01f7f7c0ad": {
      "model_module": "@jupyter-widgets/controls",
      "model_module_version": "2.0.0",
      "model_name": "HTMLModel",
      "state": {
       "layout": "IPY_MODEL_c931633d20a244ef9feb92c378ca50c7",
       "style": "IPY_MODEL_97911fa7f7ff4b9ca533f84f14ba8a8d",
       "value": "100%"
      }
     },
     "f37ee6991b5b4c67b17f201ce50e2880": {
      "model_module": "@jupyter-widgets/controls",
      "model_module_version": "2.0.0",
      "model_name": "HTMLModel",
      "state": {
       "layout": "IPY_MODEL_a93293402c394b809ddfc405b57fc3ae",
       "style": "IPY_MODEL_4f45b7be062545dfad8cd46b855234c4",
       "value": "100%"
      }
     },
     "f387bf1b5492446ba39e2624cfcd4629": {
      "model_module": "@jupyter-widgets/base",
      "model_module_version": "2.0.0",
      "model_name": "LayoutModel",
      "state": {}
     },
     "f44d75a7f63d49649d2bd08154c9e62d": {
      "model_module": "@jupyter-widgets/controls",
      "model_module_version": "2.0.0",
      "model_name": "HBoxModel",
      "state": {
       "children": [
        "IPY_MODEL_4a02dde9f0c2473ca483bd879aae9897",
        "IPY_MODEL_aceda0a21c1a4b75853cdb8a59f7eadf",
        "IPY_MODEL_8ff573009e114a3f87d3b18fc70f28cc"
       ],
       "layout": "IPY_MODEL_c9926b82ab4345ebbeaf72d68b2d7259"
      }
     },
     "f46f147ed767438095a88af5a63a467a": {
      "model_module": "@jupyter-widgets/controls",
      "model_module_version": "2.0.0",
      "model_name": "ProgressStyleModel",
      "state": {
       "description_width": ""
      }
     },
     "f48ab7314b0244899aa892e212fa4d79": {
      "model_module": "@jupyter-widgets/controls",
      "model_module_version": "2.0.0",
      "model_name": "HTMLStyleModel",
      "state": {
       "description_width": "",
       "font_size": null,
       "text_color": null
      }
     },
     "f48e026983244ac9ac89fe0530611c84": {
      "model_module": "@jupyter-widgets/controls",
      "model_module_version": "2.0.0",
      "model_name": "FloatProgressModel",
      "state": {
       "bar_style": "success",
       "layout": "IPY_MODEL_4cf01c7addd141348d4644f6e298d0c3",
       "max": 14,
       "style": "IPY_MODEL_9216e0e0907040929f6e274b03ee6243",
       "value": 14
      }
     },
     "f4d962287f0a4127a69e007329d4b295": {
      "model_module": "@jupyter-widgets/base",
      "model_module_version": "2.0.0",
      "model_name": "LayoutModel",
      "state": {}
     },
     "f4e82aa0dad7492e9f251f424c0459f3": {
      "model_module": "@jupyter-widgets/controls",
      "model_module_version": "2.0.0",
      "model_name": "DescriptionStyleModel",
      "state": {
       "description_width": ""
      }
     },
     "f4f9b0038c9c44619b86920342744735": {
      "model_module": "@jupyter-widgets/base",
      "model_module_version": "2.0.0",
      "model_name": "LayoutModel",
      "state": {}
     },
     "f5b2aff67783436c98d18958c3462638": {
      "model_module": "@jupyter-widgets/controls",
      "model_module_version": "2.0.0",
      "model_name": "HTMLModel",
      "state": {
       "layout": "IPY_MODEL_e9c5bf0eb79e49b88e40dc586ebe3e7c",
       "style": "IPY_MODEL_6aad32a9423043eb8bffaa7ab8e9632f",
       "value": " 3/3 [00:11&lt;00:00,  4.33s/it]"
      }
     },
     "f5f8f0158f5e4152a38befdfae4ec590": {
      "model_module": "@jupyter-widgets/controls",
      "model_module_version": "2.0.0",
      "model_name": "ProgressStyleModel",
      "state": {
       "description_width": ""
      }
     },
     "f60f6e5e80ae48e9a0f049286dda0399": {
      "model_module": "@jupyter-widgets/base",
      "model_module_version": "2.0.0",
      "model_name": "LayoutModel",
      "state": {}
     },
     "f65d8a8840ca449cbde70bef05e56953": {
      "model_module": "@jupyter-widgets/base",
      "model_module_version": "2.0.0",
      "model_name": "LayoutModel",
      "state": {}
     },
     "f66bdd911a814945be5752c9df45f480": {
      "model_module": "@jupyter-widgets/controls",
      "model_module_version": "2.0.0",
      "model_name": "HTMLModel",
      "state": {
       "layout": "IPY_MODEL_8217a65ec82749c384cfde988d04b47e",
       "style": "IPY_MODEL_76d91f459d6d4f2aa4c55161e3e2fbd5",
       "value": "100%"
      }
     },
     "f6d9b538a7d4474faf6f1b5d4ed3aa22": {
      "model_module": "@jupyter-widgets/controls",
      "model_module_version": "2.0.0",
      "model_name": "DescriptionStyleModel",
      "state": {
       "description_width": ""
      }
     },
     "f7b6a4fb1aba43ad94e6124c4f209345": {
      "model_module": "@jupyter-widgets/controls",
      "model_module_version": "2.0.0",
      "model_name": "HBoxModel",
      "state": {
       "children": [
        "IPY_MODEL_6b85b3f5a8a844c2bcfadcce25177f81",
        "IPY_MODEL_a040616087b0471381e02100d008c999",
        "IPY_MODEL_25c6f48933ff4136bbdfb125b1cd897e"
       ],
       "layout": "IPY_MODEL_ceb07ebb580242619894a2c16e706be0"
      }
     },
     "f8689e845c5447c398f87941c18b50cf": {
      "model_module": "@jupyter-widgets/controls",
      "model_module_version": "2.0.0",
      "model_name": "ProgressStyleModel",
      "state": {
       "description_width": ""
      }
     },
     "f8d0aa0d6d044fd9b885647c29ad5ed9": {
      "model_module": "@jupyter-widgets/controls",
      "model_module_version": "2.0.0",
      "model_name": "DescriptionStyleModel",
      "state": {
       "description_width": ""
      }
     },
     "f8d197cb409d41f082178184a9954ac3": {
      "model_module": "@jupyter-widgets/base",
      "model_module_version": "2.0.0",
      "model_name": "LayoutModel",
      "state": {}
     },
     "f8f2b91fd5f749c1a9005b5678f313bc": {
      "model_module": "@jupyter-widgets/base",
      "model_module_version": "2.0.0",
      "model_name": "LayoutModel",
      "state": {}
     },
     "f9620fa4d32740b59e5cb0690a070612": {
      "model_module": "@jupyter-widgets/base",
      "model_module_version": "2.0.0",
      "model_name": "LayoutModel",
      "state": {}
     },
     "f990c3c0d24b4feb8b54ebbb0fe605e3": {
      "model_module": "@jupyter-widgets/controls",
      "model_module_version": "2.0.0",
      "model_name": "DescriptionStyleModel",
      "state": {
       "description_width": ""
      }
     },
     "fa70d6fcb22147d0955df9e8bddc056c": {
      "model_module": "@jupyter-widgets/controls",
      "model_module_version": "2.0.0",
      "model_name": "FloatProgressModel",
      "state": {
       "bar_style": "success",
       "layout": "IPY_MODEL_b13f40fc66ff46f3b4778d156c0b4e3f",
       "max": 3,
       "style": "IPY_MODEL_4df6d7c39cce4536a58880a00a3970ef",
       "value": 3
      }
     },
     "fb01dde1bd6a48828dc2335448eeab33": {
      "model_module": "@jupyter-widgets/base",
      "model_module_version": "2.0.0",
      "model_name": "LayoutModel",
      "state": {}
     },
     "fb2b7e82ece14ab79d84a08df31c827e": {
      "model_module": "@jupyter-widgets/base",
      "model_module_version": "2.0.0",
      "model_name": "LayoutModel",
      "state": {}
     },
     "fb408567788d4f848be4ce280f558218": {
      "model_module": "@jupyter-widgets/base",
      "model_module_version": "2.0.0",
      "model_name": "LayoutModel",
      "state": {}
     },
     "fc07a7ad29a1417dbfecf232fc63168d": {
      "model_module": "@jupyter-widgets/base",
      "model_module_version": "2.0.0",
      "model_name": "LayoutModel",
      "state": {}
     },
     "fc07b8eb3f2d42398ac37ae004962f19": {
      "model_module": "@jupyter-widgets/base",
      "model_module_version": "2.0.0",
      "model_name": "LayoutModel",
      "state": {}
     },
     "fc340e178dcf4841a50d791a1e61b133": {
      "model_module": "@jupyter-widgets/base",
      "model_module_version": "2.0.0",
      "model_name": "LayoutModel",
      "state": {}
     },
     "fcae490625734c64bdd2385f2511ea70": {
      "model_module": "@jupyter-widgets/controls",
      "model_module_version": "2.0.0",
      "model_name": "DescriptionStyleModel",
      "state": {
       "description_width": ""
      }
     },
     "fd51647b299b4889b249a7594dbeedea": {
      "model_module": "@jupyter-widgets/controls",
      "model_module_version": "2.0.0",
      "model_name": "HTMLModel",
      "state": {
       "layout": "IPY_MODEL_8f409e26f6304a798feedac9af5080d5",
       "style": "IPY_MODEL_ab66689f2e41405eb01c1c18ef038851",
       "value": " 6/6 [00:08&lt;00:00,  1.99s/it]"
      }
     },
     "fd5e81f960e243358e7a5d42b3ba3402": {
      "model_module": "@jupyter-widgets/controls",
      "model_module_version": "2.0.0",
      "model_name": "ProgressStyleModel",
      "state": {
       "description_width": ""
      }
     },
     "fd78d4fe60794bd9a4080bccdd2b5066": {
      "model_module": "@jupyter-widgets/controls",
      "model_module_version": "2.0.0",
      "model_name": "FloatProgressModel",
      "state": {
       "bar_style": "success",
       "layout": "IPY_MODEL_2a2a37aad76a438cae578d3ae288b46b",
       "max": 14,
       "style": "IPY_MODEL_56eadb9f4fd944dcb5039b404e09f6a1",
       "value": 14
      }
     },
     "fdad8f8a394b4897a51e1509b9cafa80": {
      "model_module": "@jupyter-widgets/controls",
      "model_module_version": "2.0.0",
      "model_name": "FloatProgressModel",
      "state": {
       "bar_style": "success",
       "layout": "IPY_MODEL_fb408567788d4f848be4ce280f558218",
       "max": 6,
       "style": "IPY_MODEL_4fbd978fd55041cb9ce67134a734e2df",
       "value": 6
      }
     },
     "fdaec1db841d41f4b0b47f94f489842b": {
      "model_module": "@jupyter-widgets/base",
      "model_module_version": "2.0.0",
      "model_name": "LayoutModel",
      "state": {}
     },
     "fdb9a369ccea4ed5983d9d8248c46c5d": {
      "model_module": "@jupyter-widgets/base",
      "model_module_version": "2.0.0",
      "model_name": "LayoutModel",
      "state": {}
     },
     "fdc23c6f872c4825b03240c4a0ab9831": {
      "model_module": "@jupyter-widgets/controls",
      "model_module_version": "2.0.0",
      "model_name": "HTMLModel",
      "state": {
       "layout": "IPY_MODEL_a100bb931af3454f8ff02fae28c2ba6a",
       "style": "IPY_MODEL_af095a946e40470fb6b10069cdead320",
       "value": "100%"
      }
     },
     "fec48c92bd4346b18cec58b6d94fbb49": {
      "model_module": "@jupyter-widgets/controls",
      "model_module_version": "2.0.0",
      "model_name": "HTMLModel",
      "state": {
       "layout": "IPY_MODEL_c118c80129a249eea1b05cb08a19d240",
       "style": "IPY_MODEL_a89c19df94ce4db18c427504318b7256",
       "value": " 6/6 [00:11&lt;00:00,  2.84s/it]"
      }
     },
     "ff6c51d38ade449d9351b3aa712bc22e": {
      "model_module": "@jupyter-widgets/base",
      "model_module_version": "2.0.0",
      "model_name": "LayoutModel",
      "state": {}
     },
     "ff7181daebce46c8a92713b3908a3645": {
      "model_module": "@jupyter-widgets/controls",
      "model_module_version": "2.0.0",
      "model_name": "HTMLModel",
      "state": {
       "layout": "IPY_MODEL_f10a509f4c6a45be95fd03a4d39b1837",
       "style": "IPY_MODEL_adb01a75c497444e9fb19c4b1eadcf84",
       "value": "100%"
      }
     },
     "ff775a243b6949488f74e1dbabacf8a0": {
      "model_module": "@jupyter-widgets/controls",
      "model_module_version": "2.0.0",
      "model_name": "HTMLModel",
      "state": {
       "layout": "IPY_MODEL_f0f757600cc0422fb1fcae4bbfb667b7",
       "style": "IPY_MODEL_e27c6e761b364d56bc2c9cee005861aa",
       "value": "100%"
      }
     },
     "ffaab0ce30f54c8899278aa16a20a700": {
      "model_module": "@jupyter-widgets/controls",
      "model_module_version": "2.0.0",
      "model_name": "HTMLStyleModel",
      "state": {
       "description_width": "",
       "font_size": null,
       "text_color": null
      }
     }
    },
    "version_major": 2,
    "version_minor": 0
   }
  }
 },
 "nbformat": 4,
 "nbformat_minor": 5
}
