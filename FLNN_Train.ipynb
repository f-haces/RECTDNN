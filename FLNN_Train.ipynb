{
 "cells": [
  {
   "cell_type": "code",
   "execution_count": 1,
   "id": "4333b7a8",
   "metadata": {},
   "outputs": [],
   "source": [
    "# PYTHON IMPORTS\n",
    "import os, copy, traceback\n",
    "from tqdm.notebook import trange, tqdm\n",
    "import glob\n",
    "\n",
    "# IMAGE IMPORTS \n",
    "from PIL import Image\n",
    "import cv2, tifffile\n",
    "\n",
    "# DATA IMPORTS \n",
    "import random\n",
    "import h5py\n",
    "import numpy as np\n",
    "\n",
    "# PLOTTING\n",
    "import matplotlib.pyplot as plt\n",
    "import matplotlib.cm as cm\n",
    "\n",
    "# NEURAL NETWORK\n",
    "import torch\n",
    "import torch.nn as nn\n",
    "import torch.optim as optim\n",
    "from torch.utils.data import DataLoader, Dataset\n",
    "from torchvision import transforms, datasets\n",
    "from torchvision.transforms import ToPILImage, GaussianBlur\n",
    "from torchvision.transforms import Compose, RandomCrop, ToTensor, Normalize\n",
    "import torch.optim.lr_scheduler as lr_scheduler\n",
    "import torchvision.models as models\n",
    "from sklearn.preprocessing import LabelEncoder, OneHotEncoder\n",
    "\n",
    "# MY OWN CLASSES\n",
    "from TPNN import *\n",
    "from PlottingUtils import *\n",
    "from DataUtils import * \n",
    "\n",
    "Image.MAX_IMAGE_PIXELS = 933120000\n",
    "%matplotlib notebook"
   ]
  },
  {
   "cell_type": "code",
   "execution_count": 2,
   "id": "fa7f0da9",
   "metadata": {},
   "outputs": [
    {
     "data": {
      "application/vnd.jupyter.widget-view+json": {
       "model_id": "6ee2bc3e3d0243319182efbfc942be1d",
       "version_major": 2,
       "version_minor": 0
      },
      "text/plain": [
       "  0%|          | 0/6 [00:00<?, ?it/s]"
      ]
     },
     "metadata": {},
     "output_type": "display_data"
    },
    {
     "data": {
      "application/vnd.jupyter.widget-view+json": {
       "model_id": "9a17229afc4443d0872786e2e1682b8a",
       "version_major": 2,
       "version_minor": 0
      },
      "text/plain": [
       "  0%|          | 0/6 [00:00<?, ?it/s]"
      ]
     },
     "metadata": {},
     "output_type": "display_data"
    }
   ],
   "source": [
    "base_dir = r\"C:\\Users\\fhacesga\\OneDrive - University Of Houston\\AAA_RECTDNN\\data\"\n",
    "\n",
    "input_folder        = f\"{base_dir}/FLNN/in\"\n",
    "val_folder          = f\"{base_dir}/FLNN/val\"\n",
    "train_target_folder = f\"{base_dir}/FLNN/out\"\n",
    "val_target_folder   = f\"{base_dir}/FLNN/val_out\"\n",
    "batch_size          = 3\n",
    "verbose_level       = 0\n",
    "n_pyramids          = 2\n",
    "processing_size     = 768\n",
    "\n",
    "tensor = transforms.Compose([\n",
    "    transforms.ToTensor(),\n",
    "])\n",
    "\n",
    "transform = transforms.Compose([\n",
    "    transforms.RandomRotation(degrees=180),\n",
    "    transforms.RandomHorizontalFlip(),\n",
    "    transforms.RandomVerticalFlip(),\n",
    "    transforms.ToTensor(),\n",
    "])\n",
    "\n",
    "input_transform = transforms.RandomApply(torch.nn.ModuleList([\n",
    "    transforms.ColorJitter(0.2, 0.2, 0.2, 0.2),\n",
    "    transforms.RandomAdjustSharpness(sharpness_factor=2),\n",
    "    transforms.GaussianBlur(5)\n",
    "]), 0.65)\n",
    "\n",
    "tensor = transforms.Compose([transforms.ToTensor()])\n",
    "\n",
    "train_dataset = NN_Multiclass(input_folder, train_target_folder, transform=transform, \n",
    "                              only_true=False, crop=True, cropsize=processing_size,\n",
    "                              n_pyramids=n_pyramids, input_only_transform=input_transform)\n",
    "train_loader  = DataLoader(train_dataset, batch_size=batch_size, shuffle=True, num_workers=0)\n",
    "val_dataset = NN_Multiclass(val_folder, val_target_folder, transform=transform, \n",
    "                            only_true=False, crop=True, cropsize=processing_size, \n",
    "                            n_pyramids=n_pyramids, input_only_transform=input_transform)\n",
    "val_loader  = DataLoader(val_dataset, batch_size=1, shuffle=False, num_workers=0)\n",
    "\n",
    "loaders = {'train' : train_loader, \"test\" : val_loader }"
   ]
  },
  {
   "cell_type": "code",
   "execution_count": 3,
   "id": "97acd5c7",
   "metadata": {},
   "outputs": [],
   "source": [
    "def notify(mess, level=4):\n",
    "    if verbose_level >= level:\n",
    "        print(mess)\n",
    "\n",
    "def saveImages(prob_img_or, outputs, filenames, minputs, outputs_folder, rep_id, labels,):\n",
    "    \n",
    "    # IF FOR SOME REASON OUTPUT IS UNBATCHED, BATCH IT\n",
    "    if prob_img_or.ndim == 3:\n",
    "        prob_img_or = prob_img_or.unsqueeze(0)\n",
    "        \n",
    "    # CONVERT TO NUMPY ARRAY\n",
    "    prob_img_or = prob_img_or.numpy()\n",
    "    \n",
    "    # FOR EACH BATCHED OUTPUT\n",
    "    for i in range(len(outputs)):\n",
    "        filename = filenames[i]\n",
    "\n",
    "        # CONVERT TO IMAGE NUMPY ARRAY\n",
    "        prob_img = prob_img_or[i, :, :, :]\n",
    "        prob_img = (prob_img * 255).astype(np.uint8) \n",
    "        prob_img = np.moveaxis(prob_img, [0, 1, 2], [2, 0, 1])\n",
    "\n",
    "        # SAVE TO FILE\n",
    "        myout = probability_to_rgb(prob_img)\n",
    "        myout.save(os.path.join(outputs_folder, f\"{rep_id}_{filename[:-4]}_out.png\"))\n",
    "\n",
    "        # SAVE INPUTS\n",
    "        myinp = Image.fromarray(np.uint8(minputs[i, 0, :, :] * 255))\n",
    "        myinp.save(os.path.join(outputs_folder, f\"{rep_id}_{filename[:-4]}_inp.png\"))\n",
    "\n",
    "        # SAVE OUTPUTS\n",
    "        mylab = class_to_one_hot(labels[i, :, :], prob_img.shape[-1])\n",
    "        mylab = probability_to_rgb(mylab)\n",
    "        mylab.save(os.path.join(outputs_folder, f\"{rep_id}_{filename[:-4]}_lab.png\"))\n",
    "            \n",
    "def train(model, dataloaders, num_epochs=50, \n",
    "          output_dir=r'C:\\Users\\fhacesga\\Desktop\\FIRMsDigitizing\\data\\FLNN\\intermediate_outputs', \n",
    "          learning_rate=5e-4,\n",
    "          device = torch.device(\"cuda:0\"),\n",
    "          continue_from=None,\n",
    "          weights=[1, 1, 1]):\n",
    "    \n",
    "    # TRAINING PARAMETERS\n",
    "    weights = torch.tensor(weights).float().to(device)\n",
    "    criterion = nn.CrossEntropyLoss(weight=weights, reduction=\"mean\")\n",
    "    optimizer = optim.Adam(model.parameters(), lr=learning_rate)\n",
    "    learning_rate_scheduler = lr_scheduler.StepLR(optimizer, step_size=10, gamma=0.99)\n",
    "    start_epoch = 0\n",
    "        \n",
    "    if continue_from is not None:\n",
    "        checkpoint = torch.load(continue_from)\n",
    "        model.load_state_dict(checkpoint['model_state_dict'])\n",
    "        optimizer.load_state_dict(checkpoint['optimizer_state_dict'])\n",
    "        for g in optimizer.param_groups:\n",
    "            g['lr'] = learning_rate\n",
    "        for state in optimizer.state.values():\n",
    "            for k, v in state.items():\n",
    "                if isinstance(v, torch.Tensor):\n",
    "                    state[k] = v.cuda()\n",
    "        start_epoch = checkpoint['epoch']\n",
    "        start_loss = checkpoint['loss']\n",
    "        \n",
    "        epoch_losses = checkpoint['epoch_losses']\n",
    "        iou_lists    = checkpoint['iou_lists']\n",
    "        lr_list      = checkpoint['lr_list']\n",
    "        \n",
    "    else:\n",
    "         # STRUCTURES FOR PLOTTING\n",
    "        epoch_losses = {'train' : [], 'test' : []}\n",
    "        iou_lists    = {'train' : [], 'test' : []}\n",
    "        lr_list      = []\n",
    "        \n",
    "    # SEND MODEL TO GPU\n",
    "    model = model.to(device)\n",
    "    \n",
    "    # MAKE SURE DIRS FOR TEMP OUTPUTS EXIST\n",
    "    if not os.path.exists(output_dir):\n",
    "        os.makedirs(output_dir)\n",
    "        \n",
    "    fig, axs = init_plotting()\n",
    "        \n",
    "    # LOOP THROUGH EPOCHS\n",
    "    for epoch in range(start_epoch, num_epochs):\n",
    "        notify('Epoch {}/{}'.format(epoch+1, num_epochs), level=1)\n",
    "        notify('-' * 10, level=1)\n",
    "        phases = ['train', 'test']\n",
    "        epoch_loss = {'train' : 0, 'test' : 0}\n",
    "        iou_list = {'train' : [], 'test' : []}      \n",
    "        \n",
    "        # FOR BOTH PHASES\n",
    "        for phase in phases: \n",
    "            if phase == 'train':\n",
    "                model.train()\n",
    "                repeats = range(4)\n",
    "            else:\n",
    "                model.eval()\n",
    "                repeats = range(1)\n",
    "            \n",
    "            # MAKE DIR FOR CURRENT PHASE IF IT DOES NOT EXIST\n",
    "            outputs_folder = os.path.join(output_dir, phase)\n",
    "            if not os.path.exists(outputs_folder):\n",
    "                os.makedirs(outputs_folder)\n",
    "                \n",
    "            # BASELINE MEMORY USAGE                \n",
    "            notify(f\"Prior to Iterations\\t {torch.cuda.memory_allocated() / 1e6}\")\n",
    "            \n",
    "            # COUNT HOW MANY IMAGES\n",
    "            n_images = 0\n",
    "            \n",
    "            # ITERATE OVER REPEATS\n",
    "            for rep_id in tqdm(repeats, disable=verbose_level < 4):\n",
    "                for inputs, labels, filenames in dataloaders[phase]:\n",
    "                    \n",
    "                    # SEND TO GPU\n",
    "                    inputs = inputs.to(device)\n",
    "                    labels = labels.to(device)\n",
    "                    notify(f\"Datasets Moved\\t\\t {torch.cuda.memory_allocated()/ 1e6}\")\n",
    "                    \n",
    "                    # ZERO GRADIENTS AND THROUGH MODEL\n",
    "                    optimizer.zero_grad()\n",
    "                    outputs = model(inputs, resize=False)\n",
    "                    \n",
    "                    notify(f\"Outputs Processed\\t {torch.cuda.memory_allocated() / 1e6}\")\n",
    "                    \n",
    "                    # CALCULATE LOSS AND KEEP TRACK OF IT FOR CURRENT EPOCH\n",
    "                    loss = criterion(outputs, labels) \n",
    "                    epoch_loss[phase] += loss\n",
    "                    iou_list[phase].append(calculate_iou(outputs, labels).detach().cpu().numpy())\n",
    "                    notify(f\"Loss Calculated\\t\\t {torch.cuda.memory_allocated() / 1e6}\")\n",
    "                    \n",
    "                    # COUNT HOW MANY IMAGES\n",
    "                    n_images += inputs.shape[0]\n",
    "                    \n",
    "                    # OPTIMIZE IF PHASE IS TRAINING\n",
    "                    if phase is 'train':\n",
    "                        notify(\"Optimizing\")\n",
    "                        loss.backward()\n",
    "                        optimizer.step()\n",
    "                        notify(f\"Backwards and optimized\\t {torch.cuda.memory_allocated() / 1e6}\")\n",
    "                    \n",
    "                    # SAVE TRAINING IMAGES IF CURRENT STEP REQUIRES IT\n",
    "                    if rep_id % 2 == 0 and rep_id != 0:\n",
    "                        prob_img_or = outputs.detach().cpu()\n",
    "                        minputs     = inputs.detach().cpu().numpy()\n",
    "                        mlabels     = labels.detach().cpu().numpy()\n",
    "                        saveImages(prob_img_or, outputs, filenames, minputs, outputs_folder, rep_id, mlabels)\n",
    "                    \n",
    "                    # EMPTY CACHE\n",
    "                    torch.cuda.empty_cache()\n",
    "                    notify(f\"Cache Emptied\\t\\t {torch.cuda.memory_allocated() / 1e6}\")\n",
    "                    \n",
    "            # METRICS - NORMALIZE EPOCH LOSS AND IOU BY HOW MANY IMAGES\n",
    "            epoch_loss[phase] = epoch_loss[phase].cpu().detach().numpy() / (len(repeats) + n_images)\n",
    "            iou_list[phase]   = np.mean(np.vstack(iou_list[phase]), axis=0)\n",
    "        \n",
    "        # UPDATE LEARNING RATE SCHEDULER\n",
    "        lr_list.append(learning_rate_scheduler.get_lr()[0])\n",
    "        learning_rate_scheduler.step()\n",
    "        \n",
    "        # PLOT, FIRST BY TRANSFERING TO LISTS\n",
    "        for i in phases:\n",
    "            epoch_losses[i].append(epoch_loss[i])\n",
    "            iou_lists[i].append(iou_list[i])\n",
    "        \n",
    "        update_plots([epoch_losses[i] for i in phases], [iou_lists[i] for i in phases], fig, axs, \n",
    "                     colors=[\"r\", \"g\", \"b\", \"k\", \"orange\"]*2,\n",
    "                     annotations=f\"Learning Rate: {lr_list[-1]:.2e}\"\n",
    "                    )\n",
    "        \n",
    "        # SAVE MODEL EVERY TEN EPOCHS\n",
    "        if epoch % 10 == 0:\n",
    "            torch.save({\n",
    "                'epoch': epoch,\n",
    "                'model_state_dict': model.state_dict(),\n",
    "                'optimizer_state_dict': optimizer.state_dict(),\n",
    "                'loss': loss,\n",
    "                'iou_lists' : iou_lists,\n",
    "                'epoch_losses' : epoch_losses,\n",
    "                'lr_list' : lr_list\n",
    "            }, r'C:\\Users\\fhacesga\\Desktop\\FIRMsDigitizing\\data\\FLNN\\checkpoint_021524.pth')\n",
    "            \n",
    "            torch.save(model, r\"C:\\Users\\fhacesga\\Desktop\\FIRMsDigitizing\\data\\FLNN\\021524.pth\")\n",
    "        \n",
    "    return model"
   ]
  },
  {
   "cell_type": "code",
   "execution_count": 4,
   "id": "0e8a83ad",
   "metadata": {
    "scrolled": true
   },
   "outputs": [
    {
     "name": "stderr",
     "output_type": "stream",
     "text": [
      "C:\\Users\\fhacesga\\Anaconda3\\envs\\deeplearning\\lib\\site-packages\\torchvision\\models\\_utils.py:209: UserWarning: The parameter 'pretrained' is deprecated since 0.13 and may be removed in the future, please use 'weights' instead.\n",
      "  f\"The parameter '{pretrained_param}' is deprecated since 0.13 and may be removed in the future, \"\n",
      "C:\\Users\\fhacesga\\Anaconda3\\envs\\deeplearning\\lib\\site-packages\\torchvision\\models\\_utils.py:223: UserWarning: Arguments other than a weight enum or `None` for 'weights' are deprecated since 0.13 and may be removed in the future. The current behavior is equivalent to passing `weights=ResNet34_Weights.IMAGENET1K_V1`. You can also use `weights=ResNet34_Weights.DEFAULT` to get the most up-to-date weights.\n",
      "  warnings.warn(msg)\n"
     ]
    },
    {
     "data": {
      "application/javascript": [
       "/* Put everything inside the global mpl namespace */\n",
       "/* global mpl */\n",
       "window.mpl = {};\n",
       "\n",
       "mpl.get_websocket_type = function () {\n",
       "    if (typeof WebSocket !== 'undefined') {\n",
       "        return WebSocket;\n",
       "    } else if (typeof MozWebSocket !== 'undefined') {\n",
       "        return MozWebSocket;\n",
       "    } else {\n",
       "        alert(\n",
       "            'Your browser does not have WebSocket support. ' +\n",
       "                'Please try Chrome, Safari or Firefox ≥ 6. ' +\n",
       "                'Firefox 4 and 5 are also supported but you ' +\n",
       "                'have to enable WebSockets in about:config.'\n",
       "        );\n",
       "    }\n",
       "};\n",
       "\n",
       "mpl.figure = function (figure_id, websocket, ondownload, parent_element) {\n",
       "    this.id = figure_id;\n",
       "\n",
       "    this.ws = websocket;\n",
       "\n",
       "    this.supports_binary = this.ws.binaryType !== undefined;\n",
       "\n",
       "    if (!this.supports_binary) {\n",
       "        var warnings = document.getElementById('mpl-warnings');\n",
       "        if (warnings) {\n",
       "            warnings.style.display = 'block';\n",
       "            warnings.textContent =\n",
       "                'This browser does not support binary websocket messages. ' +\n",
       "                'Performance may be slow.';\n",
       "        }\n",
       "    }\n",
       "\n",
       "    this.imageObj = new Image();\n",
       "\n",
       "    this.context = undefined;\n",
       "    this.message = undefined;\n",
       "    this.canvas = undefined;\n",
       "    this.rubberband_canvas = undefined;\n",
       "    this.rubberband_context = undefined;\n",
       "    this.format_dropdown = undefined;\n",
       "\n",
       "    this.image_mode = 'full';\n",
       "\n",
       "    this.root = document.createElement('div');\n",
       "    this.root.setAttribute('style', 'display: inline-block');\n",
       "    this._root_extra_style(this.root);\n",
       "\n",
       "    parent_element.appendChild(this.root);\n",
       "\n",
       "    this._init_header(this);\n",
       "    this._init_canvas(this);\n",
       "    this._init_toolbar(this);\n",
       "\n",
       "    var fig = this;\n",
       "\n",
       "    this.waiting = false;\n",
       "\n",
       "    this.ws.onopen = function () {\n",
       "        fig.send_message('supports_binary', { value: fig.supports_binary });\n",
       "        fig.send_message('send_image_mode', {});\n",
       "        if (fig.ratio !== 1) {\n",
       "            fig.send_message('set_device_pixel_ratio', {\n",
       "                device_pixel_ratio: fig.ratio,\n",
       "            });\n",
       "        }\n",
       "        fig.send_message('refresh', {});\n",
       "    };\n",
       "\n",
       "    this.imageObj.onload = function () {\n",
       "        if (fig.image_mode === 'full') {\n",
       "            // Full images could contain transparency (where diff images\n",
       "            // almost always do), so we need to clear the canvas so that\n",
       "            // there is no ghosting.\n",
       "            fig.context.clearRect(0, 0, fig.canvas.width, fig.canvas.height);\n",
       "        }\n",
       "        fig.context.drawImage(fig.imageObj, 0, 0);\n",
       "    };\n",
       "\n",
       "    this.imageObj.onunload = function () {\n",
       "        fig.ws.close();\n",
       "    };\n",
       "\n",
       "    this.ws.onmessage = this._make_on_message_function(this);\n",
       "\n",
       "    this.ondownload = ondownload;\n",
       "};\n",
       "\n",
       "mpl.figure.prototype._init_header = function () {\n",
       "    var titlebar = document.createElement('div');\n",
       "    titlebar.classList =\n",
       "        'ui-dialog-titlebar ui-widget-header ui-corner-all ui-helper-clearfix';\n",
       "    var titletext = document.createElement('div');\n",
       "    titletext.classList = 'ui-dialog-title';\n",
       "    titletext.setAttribute(\n",
       "        'style',\n",
       "        'width: 100%; text-align: center; padding: 3px;'\n",
       "    );\n",
       "    titlebar.appendChild(titletext);\n",
       "    this.root.appendChild(titlebar);\n",
       "    this.header = titletext;\n",
       "};\n",
       "\n",
       "mpl.figure.prototype._canvas_extra_style = function (_canvas_div) {};\n",
       "\n",
       "mpl.figure.prototype._root_extra_style = function (_canvas_div) {};\n",
       "\n",
       "mpl.figure.prototype._init_canvas = function () {\n",
       "    var fig = this;\n",
       "\n",
       "    var canvas_div = (this.canvas_div = document.createElement('div'));\n",
       "    canvas_div.setAttribute(\n",
       "        'style',\n",
       "        'border: 1px solid #ddd;' +\n",
       "            'box-sizing: content-box;' +\n",
       "            'clear: both;' +\n",
       "            'min-height: 1px;' +\n",
       "            'min-width: 1px;' +\n",
       "            'outline: 0;' +\n",
       "            'overflow: hidden;' +\n",
       "            'position: relative;' +\n",
       "            'resize: both;'\n",
       "    );\n",
       "\n",
       "    function on_keyboard_event_closure(name) {\n",
       "        return function (event) {\n",
       "            return fig.key_event(event, name);\n",
       "        };\n",
       "    }\n",
       "\n",
       "    canvas_div.addEventListener(\n",
       "        'keydown',\n",
       "        on_keyboard_event_closure('key_press')\n",
       "    );\n",
       "    canvas_div.addEventListener(\n",
       "        'keyup',\n",
       "        on_keyboard_event_closure('key_release')\n",
       "    );\n",
       "\n",
       "    this._canvas_extra_style(canvas_div);\n",
       "    this.root.appendChild(canvas_div);\n",
       "\n",
       "    var canvas = (this.canvas = document.createElement('canvas'));\n",
       "    canvas.classList.add('mpl-canvas');\n",
       "    canvas.setAttribute('style', 'box-sizing: content-box;');\n",
       "\n",
       "    this.context = canvas.getContext('2d');\n",
       "\n",
       "    var backingStore =\n",
       "        this.context.backingStorePixelRatio ||\n",
       "        this.context.webkitBackingStorePixelRatio ||\n",
       "        this.context.mozBackingStorePixelRatio ||\n",
       "        this.context.msBackingStorePixelRatio ||\n",
       "        this.context.oBackingStorePixelRatio ||\n",
       "        this.context.backingStorePixelRatio ||\n",
       "        1;\n",
       "\n",
       "    this.ratio = (window.devicePixelRatio || 1) / backingStore;\n",
       "\n",
       "    var rubberband_canvas = (this.rubberband_canvas = document.createElement(\n",
       "        'canvas'\n",
       "    ));\n",
       "    rubberband_canvas.setAttribute(\n",
       "        'style',\n",
       "        'box-sizing: content-box; position: absolute; left: 0; top: 0; z-index: 1;'\n",
       "    );\n",
       "\n",
       "    // Apply a ponyfill if ResizeObserver is not implemented by browser.\n",
       "    if (this.ResizeObserver === undefined) {\n",
       "        if (window.ResizeObserver !== undefined) {\n",
       "            this.ResizeObserver = window.ResizeObserver;\n",
       "        } else {\n",
       "            var obs = _JSXTOOLS_RESIZE_OBSERVER({});\n",
       "            this.ResizeObserver = obs.ResizeObserver;\n",
       "        }\n",
       "    }\n",
       "\n",
       "    this.resizeObserverInstance = new this.ResizeObserver(function (entries) {\n",
       "        var nentries = entries.length;\n",
       "        for (var i = 0; i < nentries; i++) {\n",
       "            var entry = entries[i];\n",
       "            var width, height;\n",
       "            if (entry.contentBoxSize) {\n",
       "                if (entry.contentBoxSize instanceof Array) {\n",
       "                    // Chrome 84 implements new version of spec.\n",
       "                    width = entry.contentBoxSize[0].inlineSize;\n",
       "                    height = entry.contentBoxSize[0].blockSize;\n",
       "                } else {\n",
       "                    // Firefox implements old version of spec.\n",
       "                    width = entry.contentBoxSize.inlineSize;\n",
       "                    height = entry.contentBoxSize.blockSize;\n",
       "                }\n",
       "            } else {\n",
       "                // Chrome <84 implements even older version of spec.\n",
       "                width = entry.contentRect.width;\n",
       "                height = entry.contentRect.height;\n",
       "            }\n",
       "\n",
       "            // Keep the size of the canvas and rubber band canvas in sync with\n",
       "            // the canvas container.\n",
       "            if (entry.devicePixelContentBoxSize) {\n",
       "                // Chrome 84 implements new version of spec.\n",
       "                canvas.setAttribute(\n",
       "                    'width',\n",
       "                    entry.devicePixelContentBoxSize[0].inlineSize\n",
       "                );\n",
       "                canvas.setAttribute(\n",
       "                    'height',\n",
       "                    entry.devicePixelContentBoxSize[0].blockSize\n",
       "                );\n",
       "            } else {\n",
       "                canvas.setAttribute('width', width * fig.ratio);\n",
       "                canvas.setAttribute('height', height * fig.ratio);\n",
       "            }\n",
       "            canvas.setAttribute(\n",
       "                'style',\n",
       "                'width: ' + width + 'px; height: ' + height + 'px;'\n",
       "            );\n",
       "\n",
       "            rubberband_canvas.setAttribute('width', width);\n",
       "            rubberband_canvas.setAttribute('height', height);\n",
       "\n",
       "            // And update the size in Python. We ignore the initial 0/0 size\n",
       "            // that occurs as the element is placed into the DOM, which should\n",
       "            // otherwise not happen due to the minimum size styling.\n",
       "            if (fig.ws.readyState == 1 && width != 0 && height != 0) {\n",
       "                fig.request_resize(width, height);\n",
       "            }\n",
       "        }\n",
       "    });\n",
       "    this.resizeObserverInstance.observe(canvas_div);\n",
       "\n",
       "    function on_mouse_event_closure(name) {\n",
       "        return function (event) {\n",
       "            return fig.mouse_event(event, name);\n",
       "        };\n",
       "    }\n",
       "\n",
       "    rubberband_canvas.addEventListener(\n",
       "        'mousedown',\n",
       "        on_mouse_event_closure('button_press')\n",
       "    );\n",
       "    rubberband_canvas.addEventListener(\n",
       "        'mouseup',\n",
       "        on_mouse_event_closure('button_release')\n",
       "    );\n",
       "    rubberband_canvas.addEventListener(\n",
       "        'dblclick',\n",
       "        on_mouse_event_closure('dblclick')\n",
       "    );\n",
       "    // Throttle sequential mouse events to 1 every 20ms.\n",
       "    rubberband_canvas.addEventListener(\n",
       "        'mousemove',\n",
       "        on_mouse_event_closure('motion_notify')\n",
       "    );\n",
       "\n",
       "    rubberband_canvas.addEventListener(\n",
       "        'mouseenter',\n",
       "        on_mouse_event_closure('figure_enter')\n",
       "    );\n",
       "    rubberband_canvas.addEventListener(\n",
       "        'mouseleave',\n",
       "        on_mouse_event_closure('figure_leave')\n",
       "    );\n",
       "\n",
       "    canvas_div.addEventListener('wheel', function (event) {\n",
       "        if (event.deltaY < 0) {\n",
       "            event.step = 1;\n",
       "        } else {\n",
       "            event.step = -1;\n",
       "        }\n",
       "        on_mouse_event_closure('scroll')(event);\n",
       "    });\n",
       "\n",
       "    canvas_div.appendChild(canvas);\n",
       "    canvas_div.appendChild(rubberband_canvas);\n",
       "\n",
       "    this.rubberband_context = rubberband_canvas.getContext('2d');\n",
       "    this.rubberband_context.strokeStyle = '#000000';\n",
       "\n",
       "    this._resize_canvas = function (width, height, forward) {\n",
       "        if (forward) {\n",
       "            canvas_div.style.width = width + 'px';\n",
       "            canvas_div.style.height = height + 'px';\n",
       "        }\n",
       "    };\n",
       "\n",
       "    // Disable right mouse context menu.\n",
       "    this.rubberband_canvas.addEventListener('contextmenu', function (_e) {\n",
       "        event.preventDefault();\n",
       "        return false;\n",
       "    });\n",
       "\n",
       "    function set_focus() {\n",
       "        canvas.focus();\n",
       "        canvas_div.focus();\n",
       "    }\n",
       "\n",
       "    window.setTimeout(set_focus, 100);\n",
       "};\n",
       "\n",
       "mpl.figure.prototype._init_toolbar = function () {\n",
       "    var fig = this;\n",
       "\n",
       "    var toolbar = document.createElement('div');\n",
       "    toolbar.classList = 'mpl-toolbar';\n",
       "    this.root.appendChild(toolbar);\n",
       "\n",
       "    function on_click_closure(name) {\n",
       "        return function (_event) {\n",
       "            return fig.toolbar_button_onclick(name);\n",
       "        };\n",
       "    }\n",
       "\n",
       "    function on_mouseover_closure(tooltip) {\n",
       "        return function (event) {\n",
       "            if (!event.currentTarget.disabled) {\n",
       "                return fig.toolbar_button_onmouseover(tooltip);\n",
       "            }\n",
       "        };\n",
       "    }\n",
       "\n",
       "    fig.buttons = {};\n",
       "    var buttonGroup = document.createElement('div');\n",
       "    buttonGroup.classList = 'mpl-button-group';\n",
       "    for (var toolbar_ind in mpl.toolbar_items) {\n",
       "        var name = mpl.toolbar_items[toolbar_ind][0];\n",
       "        var tooltip = mpl.toolbar_items[toolbar_ind][1];\n",
       "        var image = mpl.toolbar_items[toolbar_ind][2];\n",
       "        var method_name = mpl.toolbar_items[toolbar_ind][3];\n",
       "\n",
       "        if (!name) {\n",
       "            /* Instead of a spacer, we start a new button group. */\n",
       "            if (buttonGroup.hasChildNodes()) {\n",
       "                toolbar.appendChild(buttonGroup);\n",
       "            }\n",
       "            buttonGroup = document.createElement('div');\n",
       "            buttonGroup.classList = 'mpl-button-group';\n",
       "            continue;\n",
       "        }\n",
       "\n",
       "        var button = (fig.buttons[name] = document.createElement('button'));\n",
       "        button.classList = 'mpl-widget';\n",
       "        button.setAttribute('role', 'button');\n",
       "        button.setAttribute('aria-disabled', 'false');\n",
       "        button.addEventListener('click', on_click_closure(method_name));\n",
       "        button.addEventListener('mouseover', on_mouseover_closure(tooltip));\n",
       "\n",
       "        var icon_img = document.createElement('img');\n",
       "        icon_img.src = '_images/' + image + '.png';\n",
       "        icon_img.srcset = '_images/' + image + '_large.png 2x';\n",
       "        icon_img.alt = tooltip;\n",
       "        button.appendChild(icon_img);\n",
       "\n",
       "        buttonGroup.appendChild(button);\n",
       "    }\n",
       "\n",
       "    if (buttonGroup.hasChildNodes()) {\n",
       "        toolbar.appendChild(buttonGroup);\n",
       "    }\n",
       "\n",
       "    var fmt_picker = document.createElement('select');\n",
       "    fmt_picker.classList = 'mpl-widget';\n",
       "    toolbar.appendChild(fmt_picker);\n",
       "    this.format_dropdown = fmt_picker;\n",
       "\n",
       "    for (var ind in mpl.extensions) {\n",
       "        var fmt = mpl.extensions[ind];\n",
       "        var option = document.createElement('option');\n",
       "        option.selected = fmt === mpl.default_extension;\n",
       "        option.innerHTML = fmt;\n",
       "        fmt_picker.appendChild(option);\n",
       "    }\n",
       "\n",
       "    var status_bar = document.createElement('span');\n",
       "    status_bar.classList = 'mpl-message';\n",
       "    toolbar.appendChild(status_bar);\n",
       "    this.message = status_bar;\n",
       "};\n",
       "\n",
       "mpl.figure.prototype.request_resize = function (x_pixels, y_pixels) {\n",
       "    // Request matplotlib to resize the figure. Matplotlib will then trigger a resize in the client,\n",
       "    // which will in turn request a refresh of the image.\n",
       "    this.send_message('resize', { width: x_pixels, height: y_pixels });\n",
       "};\n",
       "\n",
       "mpl.figure.prototype.send_message = function (type, properties) {\n",
       "    properties['type'] = type;\n",
       "    properties['figure_id'] = this.id;\n",
       "    this.ws.send(JSON.stringify(properties));\n",
       "};\n",
       "\n",
       "mpl.figure.prototype.send_draw_message = function () {\n",
       "    if (!this.waiting) {\n",
       "        this.waiting = true;\n",
       "        this.ws.send(JSON.stringify({ type: 'draw', figure_id: this.id }));\n",
       "    }\n",
       "};\n",
       "\n",
       "mpl.figure.prototype.handle_save = function (fig, _msg) {\n",
       "    var format_dropdown = fig.format_dropdown;\n",
       "    var format = format_dropdown.options[format_dropdown.selectedIndex].value;\n",
       "    fig.ondownload(fig, format);\n",
       "};\n",
       "\n",
       "mpl.figure.prototype.handle_resize = function (fig, msg) {\n",
       "    var size = msg['size'];\n",
       "    if (size[0] !== fig.canvas.width || size[1] !== fig.canvas.height) {\n",
       "        fig._resize_canvas(size[0], size[1], msg['forward']);\n",
       "        fig.send_message('refresh', {});\n",
       "    }\n",
       "};\n",
       "\n",
       "mpl.figure.prototype.handle_rubberband = function (fig, msg) {\n",
       "    var x0 = msg['x0'] / fig.ratio;\n",
       "    var y0 = (fig.canvas.height - msg['y0']) / fig.ratio;\n",
       "    var x1 = msg['x1'] / fig.ratio;\n",
       "    var y1 = (fig.canvas.height - msg['y1']) / fig.ratio;\n",
       "    x0 = Math.floor(x0) + 0.5;\n",
       "    y0 = Math.floor(y0) + 0.5;\n",
       "    x1 = Math.floor(x1) + 0.5;\n",
       "    y1 = Math.floor(y1) + 0.5;\n",
       "    var min_x = Math.min(x0, x1);\n",
       "    var min_y = Math.min(y0, y1);\n",
       "    var width = Math.abs(x1 - x0);\n",
       "    var height = Math.abs(y1 - y0);\n",
       "\n",
       "    fig.rubberband_context.clearRect(\n",
       "        0,\n",
       "        0,\n",
       "        fig.canvas.width / fig.ratio,\n",
       "        fig.canvas.height / fig.ratio\n",
       "    );\n",
       "\n",
       "    fig.rubberband_context.strokeRect(min_x, min_y, width, height);\n",
       "};\n",
       "\n",
       "mpl.figure.prototype.handle_figure_label = function (fig, msg) {\n",
       "    // Updates the figure title.\n",
       "    fig.header.textContent = msg['label'];\n",
       "};\n",
       "\n",
       "mpl.figure.prototype.handle_cursor = function (fig, msg) {\n",
       "    fig.rubberband_canvas.style.cursor = msg['cursor'];\n",
       "};\n",
       "\n",
       "mpl.figure.prototype.handle_message = function (fig, msg) {\n",
       "    fig.message.textContent = msg['message'];\n",
       "};\n",
       "\n",
       "mpl.figure.prototype.handle_draw = function (fig, _msg) {\n",
       "    // Request the server to send over a new figure.\n",
       "    fig.send_draw_message();\n",
       "};\n",
       "\n",
       "mpl.figure.prototype.handle_image_mode = function (fig, msg) {\n",
       "    fig.image_mode = msg['mode'];\n",
       "};\n",
       "\n",
       "mpl.figure.prototype.handle_history_buttons = function (fig, msg) {\n",
       "    for (var key in msg) {\n",
       "        if (!(key in fig.buttons)) {\n",
       "            continue;\n",
       "        }\n",
       "        fig.buttons[key].disabled = !msg[key];\n",
       "        fig.buttons[key].setAttribute('aria-disabled', !msg[key]);\n",
       "    }\n",
       "};\n",
       "\n",
       "mpl.figure.prototype.handle_navigate_mode = function (fig, msg) {\n",
       "    if (msg['mode'] === 'PAN') {\n",
       "        fig.buttons['Pan'].classList.add('active');\n",
       "        fig.buttons['Zoom'].classList.remove('active');\n",
       "    } else if (msg['mode'] === 'ZOOM') {\n",
       "        fig.buttons['Pan'].classList.remove('active');\n",
       "        fig.buttons['Zoom'].classList.add('active');\n",
       "    } else {\n",
       "        fig.buttons['Pan'].classList.remove('active');\n",
       "        fig.buttons['Zoom'].classList.remove('active');\n",
       "    }\n",
       "};\n",
       "\n",
       "mpl.figure.prototype.updated_canvas_event = function () {\n",
       "    // Called whenever the canvas gets updated.\n",
       "    this.send_message('ack', {});\n",
       "};\n",
       "\n",
       "// A function to construct a web socket function for onmessage handling.\n",
       "// Called in the figure constructor.\n",
       "mpl.figure.prototype._make_on_message_function = function (fig) {\n",
       "    return function socket_on_message(evt) {\n",
       "        if (evt.data instanceof Blob) {\n",
       "            var img = evt.data;\n",
       "            if (img.type !== 'image/png') {\n",
       "                /* FIXME: We get \"Resource interpreted as Image but\n",
       "                 * transferred with MIME type text/plain:\" errors on\n",
       "                 * Chrome.  But how to set the MIME type?  It doesn't seem\n",
       "                 * to be part of the websocket stream */\n",
       "                img.type = 'image/png';\n",
       "            }\n",
       "\n",
       "            /* Free the memory for the previous frames */\n",
       "            if (fig.imageObj.src) {\n",
       "                (window.URL || window.webkitURL).revokeObjectURL(\n",
       "                    fig.imageObj.src\n",
       "                );\n",
       "            }\n",
       "\n",
       "            fig.imageObj.src = (window.URL || window.webkitURL).createObjectURL(\n",
       "                img\n",
       "            );\n",
       "            fig.updated_canvas_event();\n",
       "            fig.waiting = false;\n",
       "            return;\n",
       "        } else if (\n",
       "            typeof evt.data === 'string' &&\n",
       "            evt.data.slice(0, 21) === 'data:image/png;base64'\n",
       "        ) {\n",
       "            fig.imageObj.src = evt.data;\n",
       "            fig.updated_canvas_event();\n",
       "            fig.waiting = false;\n",
       "            return;\n",
       "        }\n",
       "\n",
       "        var msg = JSON.parse(evt.data);\n",
       "        var msg_type = msg['type'];\n",
       "\n",
       "        // Call the  \"handle_{type}\" callback, which takes\n",
       "        // the figure and JSON message as its only arguments.\n",
       "        try {\n",
       "            var callback = fig['handle_' + msg_type];\n",
       "        } catch (e) {\n",
       "            console.log(\n",
       "                \"No handler for the '\" + msg_type + \"' message type: \",\n",
       "                msg\n",
       "            );\n",
       "            return;\n",
       "        }\n",
       "\n",
       "        if (callback) {\n",
       "            try {\n",
       "                // console.log(\"Handling '\" + msg_type + \"' message: \", msg);\n",
       "                callback(fig, msg);\n",
       "            } catch (e) {\n",
       "                console.log(\n",
       "                    \"Exception inside the 'handler_\" + msg_type + \"' callback:\",\n",
       "                    e,\n",
       "                    e.stack,\n",
       "                    msg\n",
       "                );\n",
       "            }\n",
       "        }\n",
       "    };\n",
       "};\n",
       "\n",
       "// from https://stackoverflow.com/questions/1114465/getting-mouse-location-in-canvas\n",
       "mpl.findpos = function (e) {\n",
       "    //this section is from http://www.quirksmode.org/js/events_properties.html\n",
       "    var targ;\n",
       "    if (!e) {\n",
       "        e = window.event;\n",
       "    }\n",
       "    if (e.target) {\n",
       "        targ = e.target;\n",
       "    } else if (e.srcElement) {\n",
       "        targ = e.srcElement;\n",
       "    }\n",
       "    if (targ.nodeType === 3) {\n",
       "        // defeat Safari bug\n",
       "        targ = targ.parentNode;\n",
       "    }\n",
       "\n",
       "    // pageX,Y are the mouse positions relative to the document\n",
       "    var boundingRect = targ.getBoundingClientRect();\n",
       "    var x = e.pageX - (boundingRect.left + document.body.scrollLeft);\n",
       "    var y = e.pageY - (boundingRect.top + document.body.scrollTop);\n",
       "\n",
       "    return { x: x, y: y };\n",
       "};\n",
       "\n",
       "/*\n",
       " * return a copy of an object with only non-object keys\n",
       " * we need this to avoid circular references\n",
       " * https://stackoverflow.com/a/24161582/3208463\n",
       " */\n",
       "function simpleKeys(original) {\n",
       "    return Object.keys(original).reduce(function (obj, key) {\n",
       "        if (typeof original[key] !== 'object') {\n",
       "            obj[key] = original[key];\n",
       "        }\n",
       "        return obj;\n",
       "    }, {});\n",
       "}\n",
       "\n",
       "mpl.figure.prototype.mouse_event = function (event, name) {\n",
       "    var canvas_pos = mpl.findpos(event);\n",
       "\n",
       "    if (name === 'button_press') {\n",
       "        this.canvas.focus();\n",
       "        this.canvas_div.focus();\n",
       "    }\n",
       "\n",
       "    var x = canvas_pos.x * this.ratio;\n",
       "    var y = canvas_pos.y * this.ratio;\n",
       "\n",
       "    this.send_message(name, {\n",
       "        x: x,\n",
       "        y: y,\n",
       "        button: event.button,\n",
       "        step: event.step,\n",
       "        guiEvent: simpleKeys(event),\n",
       "    });\n",
       "\n",
       "    /* This prevents the web browser from automatically changing to\n",
       "     * the text insertion cursor when the button is pressed.  We want\n",
       "     * to control all of the cursor setting manually through the\n",
       "     * 'cursor' event from matplotlib */\n",
       "    event.preventDefault();\n",
       "    return false;\n",
       "};\n",
       "\n",
       "mpl.figure.prototype._key_event_extra = function (_event, _name) {\n",
       "    // Handle any extra behaviour associated with a key event\n",
       "};\n",
       "\n",
       "mpl.figure.prototype.key_event = function (event, name) {\n",
       "    // Prevent repeat events\n",
       "    if (name === 'key_press') {\n",
       "        if (event.key === this._key) {\n",
       "            return;\n",
       "        } else {\n",
       "            this._key = event.key;\n",
       "        }\n",
       "    }\n",
       "    if (name === 'key_release') {\n",
       "        this._key = null;\n",
       "    }\n",
       "\n",
       "    var value = '';\n",
       "    if (event.ctrlKey && event.key !== 'Control') {\n",
       "        value += 'ctrl+';\n",
       "    }\n",
       "    else if (event.altKey && event.key !== 'Alt') {\n",
       "        value += 'alt+';\n",
       "    }\n",
       "    else if (event.shiftKey && event.key !== 'Shift') {\n",
       "        value += 'shift+';\n",
       "    }\n",
       "\n",
       "    value += 'k' + event.key;\n",
       "\n",
       "    this._key_event_extra(event, name);\n",
       "\n",
       "    this.send_message(name, { key: value, guiEvent: simpleKeys(event) });\n",
       "    return false;\n",
       "};\n",
       "\n",
       "mpl.figure.prototype.toolbar_button_onclick = function (name) {\n",
       "    if (name === 'download') {\n",
       "        this.handle_save(this, null);\n",
       "    } else {\n",
       "        this.send_message('toolbar_button', { name: name });\n",
       "    }\n",
       "};\n",
       "\n",
       "mpl.figure.prototype.toolbar_button_onmouseover = function (tooltip) {\n",
       "    this.message.textContent = tooltip;\n",
       "};\n",
       "\n",
       "///////////////// REMAINING CONTENT GENERATED BY embed_js.py /////////////////\n",
       "// prettier-ignore\n",
       "var _JSXTOOLS_RESIZE_OBSERVER=function(A){var t,i=new WeakMap,n=new WeakMap,a=new WeakMap,r=new WeakMap,o=new Set;function s(e){if(!(this instanceof s))throw new TypeError(\"Constructor requires 'new' operator\");i.set(this,e)}function h(){throw new TypeError(\"Function is not a constructor\")}function c(e,t,i,n){e=0 in arguments?Number(arguments[0]):0,t=1 in arguments?Number(arguments[1]):0,i=2 in arguments?Number(arguments[2]):0,n=3 in arguments?Number(arguments[3]):0,this.right=(this.x=this.left=e)+(this.width=i),this.bottom=(this.y=this.top=t)+(this.height=n),Object.freeze(this)}function d(){t=requestAnimationFrame(d);var s=new WeakMap,p=new Set;o.forEach((function(t){r.get(t).forEach((function(i){var r=t instanceof window.SVGElement,o=a.get(t),d=r?0:parseFloat(o.paddingTop),f=r?0:parseFloat(o.paddingRight),l=r?0:parseFloat(o.paddingBottom),u=r?0:parseFloat(o.paddingLeft),g=r?0:parseFloat(o.borderTopWidth),m=r?0:parseFloat(o.borderRightWidth),w=r?0:parseFloat(o.borderBottomWidth),b=u+f,F=d+l,v=(r?0:parseFloat(o.borderLeftWidth))+m,W=g+w,y=r?0:t.offsetHeight-W-t.clientHeight,E=r?0:t.offsetWidth-v-t.clientWidth,R=b+v,z=F+W,M=r?t.width:parseFloat(o.width)-R-E,O=r?t.height:parseFloat(o.height)-z-y;if(n.has(t)){var k=n.get(t);if(k[0]===M&&k[1]===O)return}n.set(t,[M,O]);var S=Object.create(h.prototype);S.target=t,S.contentRect=new c(u,d,M,O),s.has(i)||(s.set(i,[]),p.add(i)),s.get(i).push(S)}))})),p.forEach((function(e){i.get(e).call(e,s.get(e),e)}))}return s.prototype.observe=function(i){if(i instanceof window.Element){r.has(i)||(r.set(i,new Set),o.add(i),a.set(i,window.getComputedStyle(i)));var n=r.get(i);n.has(this)||n.add(this),cancelAnimationFrame(t),t=requestAnimationFrame(d)}},s.prototype.unobserve=function(i){if(i instanceof window.Element&&r.has(i)){var n=r.get(i);n.has(this)&&(n.delete(this),n.size||(r.delete(i),o.delete(i))),n.size||r.delete(i),o.size||cancelAnimationFrame(t)}},A.DOMRectReadOnly=c,A.ResizeObserver=s,A.ResizeObserverEntry=h,A}; // eslint-disable-line\n",
       "mpl.toolbar_items = [[\"Home\", \"Reset original view\", \"fa fa-home icon-home\", \"home\"], [\"Back\", \"Back to previous view\", \"fa fa-arrow-left icon-arrow-left\", \"back\"], [\"Forward\", \"Forward to next view\", \"fa fa-arrow-right icon-arrow-right\", \"forward\"], [\"\", \"\", \"\", \"\"], [\"Pan\", \"Left button pans, Right button zooms\\nx/y fixes axis, CTRL fixes aspect\", \"fa fa-arrows icon-move\", \"pan\"], [\"Zoom\", \"Zoom to rectangle\\nx/y fixes axis\", \"fa fa-square-o icon-check-empty\", \"zoom\"], [\"\", \"\", \"\", \"\"], [\"Download\", \"Download plot\", \"fa fa-floppy-o icon-save\", \"download\"]];\n",
       "\n",
       "mpl.extensions = [\"eps\", \"jpeg\", \"pgf\", \"pdf\", \"png\", \"ps\", \"raw\", \"svg\", \"tif\"];\n",
       "\n",
       "mpl.default_extension = \"png\";/* global mpl */\n",
       "\n",
       "var comm_websocket_adapter = function (comm) {\n",
       "    // Create a \"websocket\"-like object which calls the given IPython comm\n",
       "    // object with the appropriate methods. Currently this is a non binary\n",
       "    // socket, so there is still some room for performance tuning.\n",
       "    var ws = {};\n",
       "\n",
       "    ws.binaryType = comm.kernel.ws.binaryType;\n",
       "    ws.readyState = comm.kernel.ws.readyState;\n",
       "    function updateReadyState(_event) {\n",
       "        if (comm.kernel.ws) {\n",
       "            ws.readyState = comm.kernel.ws.readyState;\n",
       "        } else {\n",
       "            ws.readyState = 3; // Closed state.\n",
       "        }\n",
       "    }\n",
       "    comm.kernel.ws.addEventListener('open', updateReadyState);\n",
       "    comm.kernel.ws.addEventListener('close', updateReadyState);\n",
       "    comm.kernel.ws.addEventListener('error', updateReadyState);\n",
       "\n",
       "    ws.close = function () {\n",
       "        comm.close();\n",
       "    };\n",
       "    ws.send = function (m) {\n",
       "        //console.log('sending', m);\n",
       "        comm.send(m);\n",
       "    };\n",
       "    // Register the callback with on_msg.\n",
       "    comm.on_msg(function (msg) {\n",
       "        //console.log('receiving', msg['content']['data'], msg);\n",
       "        var data = msg['content']['data'];\n",
       "        if (data['blob'] !== undefined) {\n",
       "            data = {\n",
       "                data: new Blob(msg['buffers'], { type: data['blob'] }),\n",
       "            };\n",
       "        }\n",
       "        // Pass the mpl event to the overridden (by mpl) onmessage function.\n",
       "        ws.onmessage(data);\n",
       "    });\n",
       "    return ws;\n",
       "};\n",
       "\n",
       "mpl.mpl_figure_comm = function (comm, msg) {\n",
       "    // This is the function which gets called when the mpl process\n",
       "    // starts-up an IPython Comm through the \"matplotlib\" channel.\n",
       "\n",
       "    var id = msg.content.data.id;\n",
       "    // Get hold of the div created by the display call when the Comm\n",
       "    // socket was opened in Python.\n",
       "    var element = document.getElementById(id);\n",
       "    var ws_proxy = comm_websocket_adapter(comm);\n",
       "\n",
       "    function ondownload(figure, _format) {\n",
       "        window.open(figure.canvas.toDataURL());\n",
       "    }\n",
       "\n",
       "    var fig = new mpl.figure(id, ws_proxy, ondownload, element);\n",
       "\n",
       "    // Call onopen now - mpl needs it, as it is assuming we've passed it a real\n",
       "    // web socket which is closed, not our websocket->open comm proxy.\n",
       "    ws_proxy.onopen();\n",
       "\n",
       "    fig.parent_element = element;\n",
       "    fig.cell_info = mpl.find_output_cell(\"<div id='\" + id + \"'></div>\");\n",
       "    if (!fig.cell_info) {\n",
       "        console.error('Failed to find cell for figure', id, fig);\n",
       "        return;\n",
       "    }\n",
       "    fig.cell_info[0].output_area.element.on(\n",
       "        'cleared',\n",
       "        { fig: fig },\n",
       "        fig._remove_fig_handler\n",
       "    );\n",
       "};\n",
       "\n",
       "mpl.figure.prototype.handle_close = function (fig, msg) {\n",
       "    var width = fig.canvas.width / fig.ratio;\n",
       "    fig.cell_info[0].output_area.element.off(\n",
       "        'cleared',\n",
       "        fig._remove_fig_handler\n",
       "    );\n",
       "    fig.resizeObserverInstance.unobserve(fig.canvas_div);\n",
       "\n",
       "    // Update the output cell to use the data from the current canvas.\n",
       "    fig.push_to_output();\n",
       "    var dataURL = fig.canvas.toDataURL();\n",
       "    // Re-enable the keyboard manager in IPython - without this line, in FF,\n",
       "    // the notebook keyboard shortcuts fail.\n",
       "    IPython.keyboard_manager.enable();\n",
       "    fig.parent_element.innerHTML =\n",
       "        '<img src=\"' + dataURL + '\" width=\"' + width + '\">';\n",
       "    fig.close_ws(fig, msg);\n",
       "};\n",
       "\n",
       "mpl.figure.prototype.close_ws = function (fig, msg) {\n",
       "    fig.send_message('closing', msg);\n",
       "    // fig.ws.close()\n",
       "};\n",
       "\n",
       "mpl.figure.prototype.push_to_output = function (_remove_interactive) {\n",
       "    // Turn the data on the canvas into data in the output cell.\n",
       "    var width = this.canvas.width / this.ratio;\n",
       "    var dataURL = this.canvas.toDataURL();\n",
       "    this.cell_info[1]['text/html'] =\n",
       "        '<img src=\"' + dataURL + '\" width=\"' + width + '\">';\n",
       "};\n",
       "\n",
       "mpl.figure.prototype.updated_canvas_event = function () {\n",
       "    // Tell IPython that the notebook contents must change.\n",
       "    IPython.notebook.set_dirty(true);\n",
       "    this.send_message('ack', {});\n",
       "    var fig = this;\n",
       "    // Wait a second, then push the new image to the DOM so\n",
       "    // that it is saved nicely (might be nice to debounce this).\n",
       "    setTimeout(function () {\n",
       "        fig.push_to_output();\n",
       "    }, 1000);\n",
       "};\n",
       "\n",
       "mpl.figure.prototype._init_toolbar = function () {\n",
       "    var fig = this;\n",
       "\n",
       "    var toolbar = document.createElement('div');\n",
       "    toolbar.classList = 'btn-toolbar';\n",
       "    this.root.appendChild(toolbar);\n",
       "\n",
       "    function on_click_closure(name) {\n",
       "        return function (_event) {\n",
       "            return fig.toolbar_button_onclick(name);\n",
       "        };\n",
       "    }\n",
       "\n",
       "    function on_mouseover_closure(tooltip) {\n",
       "        return function (event) {\n",
       "            if (!event.currentTarget.disabled) {\n",
       "                return fig.toolbar_button_onmouseover(tooltip);\n",
       "            }\n",
       "        };\n",
       "    }\n",
       "\n",
       "    fig.buttons = {};\n",
       "    var buttonGroup = document.createElement('div');\n",
       "    buttonGroup.classList = 'btn-group';\n",
       "    var button;\n",
       "    for (var toolbar_ind in mpl.toolbar_items) {\n",
       "        var name = mpl.toolbar_items[toolbar_ind][0];\n",
       "        var tooltip = mpl.toolbar_items[toolbar_ind][1];\n",
       "        var image = mpl.toolbar_items[toolbar_ind][2];\n",
       "        var method_name = mpl.toolbar_items[toolbar_ind][3];\n",
       "\n",
       "        if (!name) {\n",
       "            /* Instead of a spacer, we start a new button group. */\n",
       "            if (buttonGroup.hasChildNodes()) {\n",
       "                toolbar.appendChild(buttonGroup);\n",
       "            }\n",
       "            buttonGroup = document.createElement('div');\n",
       "            buttonGroup.classList = 'btn-group';\n",
       "            continue;\n",
       "        }\n",
       "\n",
       "        button = fig.buttons[name] = document.createElement('button');\n",
       "        button.classList = 'btn btn-default';\n",
       "        button.href = '#';\n",
       "        button.title = name;\n",
       "        button.innerHTML = '<i class=\"fa ' + image + ' fa-lg\"></i>';\n",
       "        button.addEventListener('click', on_click_closure(method_name));\n",
       "        button.addEventListener('mouseover', on_mouseover_closure(tooltip));\n",
       "        buttonGroup.appendChild(button);\n",
       "    }\n",
       "\n",
       "    if (buttonGroup.hasChildNodes()) {\n",
       "        toolbar.appendChild(buttonGroup);\n",
       "    }\n",
       "\n",
       "    // Add the status bar.\n",
       "    var status_bar = document.createElement('span');\n",
       "    status_bar.classList = 'mpl-message pull-right';\n",
       "    toolbar.appendChild(status_bar);\n",
       "    this.message = status_bar;\n",
       "\n",
       "    // Add the close button to the window.\n",
       "    var buttongrp = document.createElement('div');\n",
       "    buttongrp.classList = 'btn-group inline pull-right';\n",
       "    button = document.createElement('button');\n",
       "    button.classList = 'btn btn-mini btn-primary';\n",
       "    button.href = '#';\n",
       "    button.title = 'Stop Interaction';\n",
       "    button.innerHTML = '<i class=\"fa fa-power-off icon-remove icon-large\"></i>';\n",
       "    button.addEventListener('click', function (_evt) {\n",
       "        fig.handle_close(fig, {});\n",
       "    });\n",
       "    button.addEventListener(\n",
       "        'mouseover',\n",
       "        on_mouseover_closure('Stop Interaction')\n",
       "    );\n",
       "    buttongrp.appendChild(button);\n",
       "    var titlebar = this.root.querySelector('.ui-dialog-titlebar');\n",
       "    titlebar.insertBefore(buttongrp, titlebar.firstChild);\n",
       "};\n",
       "\n",
       "mpl.figure.prototype._remove_fig_handler = function (event) {\n",
       "    var fig = event.data.fig;\n",
       "    if (event.target !== this) {\n",
       "        // Ignore bubbled events from children.\n",
       "        return;\n",
       "    }\n",
       "    fig.close_ws(fig, {});\n",
       "};\n",
       "\n",
       "mpl.figure.prototype._root_extra_style = function (el) {\n",
       "    el.style.boxSizing = 'content-box'; // override notebook setting of border-box.\n",
       "};\n",
       "\n",
       "mpl.figure.prototype._canvas_extra_style = function (el) {\n",
       "    // this is important to make the div 'focusable\n",
       "    el.setAttribute('tabindex', 0);\n",
       "    // reach out to IPython and tell the keyboard manager to turn it's self\n",
       "    // off when our div gets focus\n",
       "\n",
       "    // location in version 3\n",
       "    if (IPython.notebook.keyboard_manager) {\n",
       "        IPython.notebook.keyboard_manager.register_events(el);\n",
       "    } else {\n",
       "        // location in version 2\n",
       "        IPython.keyboard_manager.register_events(el);\n",
       "    }\n",
       "};\n",
       "\n",
       "mpl.figure.prototype._key_event_extra = function (event, _name) {\n",
       "    // Check for shift+enter\n",
       "    if (event.shiftKey && event.which === 13) {\n",
       "        this.canvas_div.blur();\n",
       "        // select the cell after this one\n",
       "        var index = IPython.notebook.find_cell_index(this.cell_info[0]);\n",
       "        IPython.notebook.select(index + 1);\n",
       "    }\n",
       "};\n",
       "\n",
       "mpl.figure.prototype.handle_save = function (fig, _msg) {\n",
       "    fig.ondownload(fig, null);\n",
       "};\n",
       "\n",
       "mpl.find_output_cell = function (html_output) {\n",
       "    // Return the cell and output element which can be found *uniquely* in the notebook.\n",
       "    // Note - this is a bit hacky, but it is done because the \"notebook_saving.Notebook\"\n",
       "    // IPython event is triggered only after the cells have been serialised, which for\n",
       "    // our purposes (turning an active figure into a static one), is too late.\n",
       "    var cells = IPython.notebook.get_cells();\n",
       "    var ncells = cells.length;\n",
       "    for (var i = 0; i < ncells; i++) {\n",
       "        var cell = cells[i];\n",
       "        if (cell.cell_type === 'code') {\n",
       "            for (var j = 0; j < cell.output_area.outputs.length; j++) {\n",
       "                var data = cell.output_area.outputs[j];\n",
       "                if (data.data) {\n",
       "                    // IPython >= 3 moved mimebundle to data attribute of output\n",
       "                    data = data.data;\n",
       "                }\n",
       "                if (data['text/html'] === html_output) {\n",
       "                    return [cell, data, j];\n",
       "                }\n",
       "            }\n",
       "        }\n",
       "    }\n",
       "};\n",
       "\n",
       "// Register the function which deals with the matplotlib target/channel.\n",
       "// The kernel may be null if the page has been refreshed.\n",
       "if (IPython.notebook.kernel !== null) {\n",
       "    IPython.notebook.kernel.comm_manager.register_target(\n",
       "        'matplotlib',\n",
       "        mpl.mpl_figure_comm\n",
       "    );\n",
       "}\n"
      ],
      "text/plain": [
       "<IPython.core.display.Javascript object>"
      ]
     },
     "metadata": {},
     "output_type": "display_data"
    },
    {
     "data": {
      "text/html": [
       "<img src=\"data:image/png;base64,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\" width=\"640\">"
      ],
      "text/plain": [
       "<IPython.core.display.HTML object>"
      ]
     },
     "metadata": {},
     "output_type": "display_data"
    },
    {
     "name": "stderr",
     "output_type": "stream",
     "text": [
      "C:\\Users\\fhacesga\\Desktop\\FIRMsDigitizing\\RECTDNN\\TPNN.py:120: UserWarning: Implicit dimension choice for softmax has been deprecated. Change the call to include dim=X as an argument.\n",
      "  output = self.softmax(output)\n",
      "C:\\Users\\fhacesga\\Anaconda3\\envs\\deeplearning\\lib\\site-packages\\torch\\optim\\lr_scheduler.py:382: UserWarning: To get the last learning rate computed by the scheduler, please use `get_last_lr()`.\n",
      "  \"please use `get_last_lr()`.\", UserWarning)\n"
     ]
    },
    {
     "ename": "KeyboardInterrupt",
     "evalue": "",
     "output_type": "error",
     "traceback": [
      "\u001b[1;31m---------------------------------------------------------------------------\u001b[0m",
      "\u001b[1;31mKeyboardInterrupt\u001b[0m                         Traceback (most recent call last)",
      "\u001b[1;32m~\\AppData\\Local\\Temp\\ipykernel_22288\\3640307852.py\u001b[0m in \u001b[0;36m<module>\u001b[1;34m\u001b[0m\n\u001b[0;32m      1\u001b[0m \u001b[0mmodel\u001b[0m \u001b[1;33m=\u001b[0m \u001b[0mTPNN\u001b[0m\u001b[1;33m(\u001b[0m\u001b[0mnum_classes\u001b[0m\u001b[1;33m=\u001b[0m\u001b[1;36m3\u001b[0m\u001b[1;33m,\u001b[0m \u001b[0mfinalpadding\u001b[0m\u001b[1;33m=\u001b[0m\u001b[1;36m1\u001b[0m\u001b[1;33m,\u001b[0m \u001b[0minputsize\u001b[0m\u001b[1;33m=\u001b[0m\u001b[0mn_pyramids\u001b[0m\u001b[1;33m)\u001b[0m\u001b[1;33m\u001b[0m\u001b[1;33m\u001b[0m\u001b[0m\n\u001b[0;32m      2\u001b[0m model = train(model, loaders, num_epochs=5000, learning_rate=1e-4,\n\u001b[1;32m----> 3\u001b[1;33m               \u001b[0mcontinue_from\u001b[0m\u001b[1;33m=\u001b[0m\u001b[1;34mr\"C:\\Users\\fhacesga\\Desktop\\FIRMsDigitizing\\data\\FLNN\\checkpoint_021424.pth\"\u001b[0m\u001b[1;33m\u001b[0m\u001b[1;33m\u001b[0m\u001b[0m\n\u001b[0m\u001b[0;32m      4\u001b[0m              )\n",
      "\u001b[1;32m~\\AppData\\Local\\Temp\\ipykernel_22288\\492518717.py\u001b[0m in \u001b[0;36mtrain\u001b[1;34m(model, dataloaders, num_epochs, output_dir, learning_rate, device, continue_from, weights)\u001b[0m\n\u001b[0;32m    110\u001b[0m             \u001b[1;31m# ITERATE OVER REPEATS\u001b[0m\u001b[1;33m\u001b[0m\u001b[1;33m\u001b[0m\u001b[1;33m\u001b[0m\u001b[0m\n\u001b[0;32m    111\u001b[0m             \u001b[1;32mfor\u001b[0m \u001b[0mrep_id\u001b[0m \u001b[1;32min\u001b[0m \u001b[0mtqdm\u001b[0m\u001b[1;33m(\u001b[0m\u001b[0mrepeats\u001b[0m\u001b[1;33m,\u001b[0m \u001b[0mdisable\u001b[0m\u001b[1;33m=\u001b[0m\u001b[0mverbose_level\u001b[0m \u001b[1;33m<\u001b[0m \u001b[1;36m4\u001b[0m\u001b[1;33m)\u001b[0m\u001b[1;33m:\u001b[0m\u001b[1;33m\u001b[0m\u001b[1;33m\u001b[0m\u001b[0m\n\u001b[1;32m--> 112\u001b[1;33m                 \u001b[1;32mfor\u001b[0m \u001b[0minputs\u001b[0m\u001b[1;33m,\u001b[0m \u001b[0mlabels\u001b[0m\u001b[1;33m,\u001b[0m \u001b[0mfilenames\u001b[0m \u001b[1;32min\u001b[0m \u001b[0mdataloaders\u001b[0m\u001b[1;33m[\u001b[0m\u001b[0mphase\u001b[0m\u001b[1;33m]\u001b[0m\u001b[1;33m:\u001b[0m\u001b[1;33m\u001b[0m\u001b[1;33m\u001b[0m\u001b[0m\n\u001b[0m\u001b[0;32m    113\u001b[0m \u001b[1;33m\u001b[0m\u001b[0m\n\u001b[0;32m    114\u001b[0m                     \u001b[1;31m# SEND TO GPU\u001b[0m\u001b[1;33m\u001b[0m\u001b[1;33m\u001b[0m\u001b[1;33m\u001b[0m\u001b[0m\n",
      "\u001b[1;32m~\\Anaconda3\\envs\\deeplearning\\lib\\site-packages\\torch\\utils\\data\\dataloader.py\u001b[0m in \u001b[0;36m__next__\u001b[1;34m(self)\u001b[0m\n\u001b[0;32m    626\u001b[0m                 \u001b[1;31m# TODO(https://github.com/pytorch/pytorch/issues/76750)\u001b[0m\u001b[1;33m\u001b[0m\u001b[1;33m\u001b[0m\u001b[1;33m\u001b[0m\u001b[0m\n\u001b[0;32m    627\u001b[0m                 \u001b[0mself\u001b[0m\u001b[1;33m.\u001b[0m\u001b[0m_reset\u001b[0m\u001b[1;33m(\u001b[0m\u001b[1;33m)\u001b[0m  \u001b[1;31m# type: ignore[call-arg]\u001b[0m\u001b[1;33m\u001b[0m\u001b[1;33m\u001b[0m\u001b[0m\n\u001b[1;32m--> 628\u001b[1;33m             \u001b[0mdata\u001b[0m \u001b[1;33m=\u001b[0m \u001b[0mself\u001b[0m\u001b[1;33m.\u001b[0m\u001b[0m_next_data\u001b[0m\u001b[1;33m(\u001b[0m\u001b[1;33m)\u001b[0m\u001b[1;33m\u001b[0m\u001b[1;33m\u001b[0m\u001b[0m\n\u001b[0m\u001b[0;32m    629\u001b[0m             \u001b[0mself\u001b[0m\u001b[1;33m.\u001b[0m\u001b[0m_num_yielded\u001b[0m \u001b[1;33m+=\u001b[0m \u001b[1;36m1\u001b[0m\u001b[1;33m\u001b[0m\u001b[1;33m\u001b[0m\u001b[0m\n\u001b[0;32m    630\u001b[0m             \u001b[1;32mif\u001b[0m \u001b[0mself\u001b[0m\u001b[1;33m.\u001b[0m\u001b[0m_dataset_kind\u001b[0m \u001b[1;33m==\u001b[0m \u001b[0m_DatasetKind\u001b[0m\u001b[1;33m.\u001b[0m\u001b[0mIterable\u001b[0m \u001b[1;32mand\u001b[0m\u001b[0;31m \u001b[0m\u001b[0;31m\\\u001b[0m\u001b[1;33m\u001b[0m\u001b[1;33m\u001b[0m\u001b[0m\n",
      "\u001b[1;32m~\\Anaconda3\\envs\\deeplearning\\lib\\site-packages\\torch\\utils\\data\\dataloader.py\u001b[0m in \u001b[0;36m_next_data\u001b[1;34m(self)\u001b[0m\n\u001b[0;32m    669\u001b[0m     \u001b[1;32mdef\u001b[0m \u001b[0m_next_data\u001b[0m\u001b[1;33m(\u001b[0m\u001b[0mself\u001b[0m\u001b[1;33m)\u001b[0m\u001b[1;33m:\u001b[0m\u001b[1;33m\u001b[0m\u001b[1;33m\u001b[0m\u001b[0m\n\u001b[0;32m    670\u001b[0m         \u001b[0mindex\u001b[0m \u001b[1;33m=\u001b[0m \u001b[0mself\u001b[0m\u001b[1;33m.\u001b[0m\u001b[0m_next_index\u001b[0m\u001b[1;33m(\u001b[0m\u001b[1;33m)\u001b[0m  \u001b[1;31m# may raise StopIteration\u001b[0m\u001b[1;33m\u001b[0m\u001b[1;33m\u001b[0m\u001b[0m\n\u001b[1;32m--> 671\u001b[1;33m         \u001b[0mdata\u001b[0m \u001b[1;33m=\u001b[0m \u001b[0mself\u001b[0m\u001b[1;33m.\u001b[0m\u001b[0m_dataset_fetcher\u001b[0m\u001b[1;33m.\u001b[0m\u001b[0mfetch\u001b[0m\u001b[1;33m(\u001b[0m\u001b[0mindex\u001b[0m\u001b[1;33m)\u001b[0m  \u001b[1;31m# may raise StopIteration\u001b[0m\u001b[1;33m\u001b[0m\u001b[1;33m\u001b[0m\u001b[0m\n\u001b[0m\u001b[0;32m    672\u001b[0m         \u001b[1;32mif\u001b[0m \u001b[0mself\u001b[0m\u001b[1;33m.\u001b[0m\u001b[0m_pin_memory\u001b[0m\u001b[1;33m:\u001b[0m\u001b[1;33m\u001b[0m\u001b[1;33m\u001b[0m\u001b[0m\n\u001b[0;32m    673\u001b[0m             \u001b[0mdata\u001b[0m \u001b[1;33m=\u001b[0m \u001b[0m_utils\u001b[0m\u001b[1;33m.\u001b[0m\u001b[0mpin_memory\u001b[0m\u001b[1;33m.\u001b[0m\u001b[0mpin_memory\u001b[0m\u001b[1;33m(\u001b[0m\u001b[0mdata\u001b[0m\u001b[1;33m,\u001b[0m \u001b[0mself\u001b[0m\u001b[1;33m.\u001b[0m\u001b[0m_pin_memory_device\u001b[0m\u001b[1;33m)\u001b[0m\u001b[1;33m\u001b[0m\u001b[1;33m\u001b[0m\u001b[0m\n",
      "\u001b[1;32m~\\Anaconda3\\envs\\deeplearning\\lib\\site-packages\\torch\\utils\\data\\_utils\\fetch.py\u001b[0m in \u001b[0;36mfetch\u001b[1;34m(self, possibly_batched_index)\u001b[0m\n\u001b[0;32m     56\u001b[0m                 \u001b[0mdata\u001b[0m \u001b[1;33m=\u001b[0m \u001b[0mself\u001b[0m\u001b[1;33m.\u001b[0m\u001b[0mdataset\u001b[0m\u001b[1;33m.\u001b[0m\u001b[0m__getitems__\u001b[0m\u001b[1;33m(\u001b[0m\u001b[0mpossibly_batched_index\u001b[0m\u001b[1;33m)\u001b[0m\u001b[1;33m\u001b[0m\u001b[1;33m\u001b[0m\u001b[0m\n\u001b[0;32m     57\u001b[0m             \u001b[1;32melse\u001b[0m\u001b[1;33m:\u001b[0m\u001b[1;33m\u001b[0m\u001b[1;33m\u001b[0m\u001b[0m\n\u001b[1;32m---> 58\u001b[1;33m                 \u001b[0mdata\u001b[0m \u001b[1;33m=\u001b[0m \u001b[1;33m[\u001b[0m\u001b[0mself\u001b[0m\u001b[1;33m.\u001b[0m\u001b[0mdataset\u001b[0m\u001b[1;33m[\u001b[0m\u001b[0midx\u001b[0m\u001b[1;33m]\u001b[0m \u001b[1;32mfor\u001b[0m \u001b[0midx\u001b[0m \u001b[1;32min\u001b[0m \u001b[0mpossibly_batched_index\u001b[0m\u001b[1;33m]\u001b[0m\u001b[1;33m\u001b[0m\u001b[1;33m\u001b[0m\u001b[0m\n\u001b[0m\u001b[0;32m     59\u001b[0m         \u001b[1;32melse\u001b[0m\u001b[1;33m:\u001b[0m\u001b[1;33m\u001b[0m\u001b[1;33m\u001b[0m\u001b[0m\n\u001b[0;32m     60\u001b[0m             \u001b[0mdata\u001b[0m \u001b[1;33m=\u001b[0m \u001b[0mself\u001b[0m\u001b[1;33m.\u001b[0m\u001b[0mdataset\u001b[0m\u001b[1;33m[\u001b[0m\u001b[0mpossibly_batched_index\u001b[0m\u001b[1;33m]\u001b[0m\u001b[1;33m\u001b[0m\u001b[1;33m\u001b[0m\u001b[0m\n",
      "\u001b[1;32m~\\Anaconda3\\envs\\deeplearning\\lib\\site-packages\\torch\\utils\\data\\_utils\\fetch.py\u001b[0m in \u001b[0;36m<listcomp>\u001b[1;34m(.0)\u001b[0m\n\u001b[0;32m     56\u001b[0m                 \u001b[0mdata\u001b[0m \u001b[1;33m=\u001b[0m \u001b[0mself\u001b[0m\u001b[1;33m.\u001b[0m\u001b[0mdataset\u001b[0m\u001b[1;33m.\u001b[0m\u001b[0m__getitems__\u001b[0m\u001b[1;33m(\u001b[0m\u001b[0mpossibly_batched_index\u001b[0m\u001b[1;33m)\u001b[0m\u001b[1;33m\u001b[0m\u001b[1;33m\u001b[0m\u001b[0m\n\u001b[0;32m     57\u001b[0m             \u001b[1;32melse\u001b[0m\u001b[1;33m:\u001b[0m\u001b[1;33m\u001b[0m\u001b[1;33m\u001b[0m\u001b[0m\n\u001b[1;32m---> 58\u001b[1;33m                 \u001b[0mdata\u001b[0m \u001b[1;33m=\u001b[0m \u001b[1;33m[\u001b[0m\u001b[0mself\u001b[0m\u001b[1;33m.\u001b[0m\u001b[0mdataset\u001b[0m\u001b[1;33m[\u001b[0m\u001b[0midx\u001b[0m\u001b[1;33m]\u001b[0m \u001b[1;32mfor\u001b[0m \u001b[0midx\u001b[0m \u001b[1;32min\u001b[0m \u001b[0mpossibly_batched_index\u001b[0m\u001b[1;33m]\u001b[0m\u001b[1;33m\u001b[0m\u001b[1;33m\u001b[0m\u001b[0m\n\u001b[0m\u001b[0;32m     59\u001b[0m         \u001b[1;32melse\u001b[0m\u001b[1;33m:\u001b[0m\u001b[1;33m\u001b[0m\u001b[1;33m\u001b[0m\u001b[0m\n\u001b[0;32m     60\u001b[0m             \u001b[0mdata\u001b[0m \u001b[1;33m=\u001b[0m \u001b[0mself\u001b[0m\u001b[1;33m.\u001b[0m\u001b[0mdataset\u001b[0m\u001b[1;33m[\u001b[0m\u001b[0mpossibly_batched_index\u001b[0m\u001b[1;33m]\u001b[0m\u001b[1;33m\u001b[0m\u001b[1;33m\u001b[0m\u001b[0m\n",
      "\u001b[1;32m~\\Desktop\\FIRMsDigitizing\\RECTDNN\\DataUtils.py\u001b[0m in \u001b[0;36m__getitem__\u001b[1;34m(self, index)\u001b[0m\n\u001b[0;32m    191\u001b[0m             \u001b[0mrandom\u001b[0m\u001b[1;33m.\u001b[0m\u001b[0mseed\u001b[0m\u001b[1;33m(\u001b[0m\u001b[0mseed\u001b[0m\u001b[1;33m)\u001b[0m\u001b[1;33m\u001b[0m\u001b[1;33m\u001b[0m\u001b[0m\n\u001b[0;32m    192\u001b[0m             \u001b[0mtorch\u001b[0m\u001b[1;33m.\u001b[0m\u001b[0mmanual_seed\u001b[0m\u001b[1;33m(\u001b[0m\u001b[0mseed\u001b[0m\u001b[1;33m)\u001b[0m\u001b[1;33m\u001b[0m\u001b[1;33m\u001b[0m\u001b[0m\n\u001b[1;32m--> 193\u001b[1;33m             \u001b[0minput_image\u001b[0m \u001b[1;33m=\u001b[0m \u001b[0mself\u001b[0m\u001b[1;33m.\u001b[0m\u001b[0mtransform\u001b[0m\u001b[1;33m(\u001b[0m\u001b[0minput_image\u001b[0m\u001b[1;33m)\u001b[0m\u001b[1;33m\u001b[0m\u001b[1;33m\u001b[0m\u001b[0m\n\u001b[0m\u001b[0;32m    194\u001b[0m             \u001b[0mrandom\u001b[0m\u001b[1;33m.\u001b[0m\u001b[0mseed\u001b[0m\u001b[1;33m(\u001b[0m\u001b[0mseed\u001b[0m\u001b[1;33m)\u001b[0m\u001b[1;33m\u001b[0m\u001b[1;33m\u001b[0m\u001b[0m\n\u001b[0;32m    195\u001b[0m             \u001b[0mtorch\u001b[0m\u001b[1;33m.\u001b[0m\u001b[0mmanual_seed\u001b[0m\u001b[1;33m(\u001b[0m\u001b[0mseed\u001b[0m\u001b[1;33m)\u001b[0m\u001b[1;33m\u001b[0m\u001b[1;33m\u001b[0m\u001b[0m\n",
      "\u001b[1;32m~\\Anaconda3\\envs\\deeplearning\\lib\\site-packages\\torchvision\\transforms\\transforms.py\u001b[0m in \u001b[0;36m__call__\u001b[1;34m(self, img)\u001b[0m\n\u001b[0;32m     93\u001b[0m     \u001b[1;32mdef\u001b[0m \u001b[0m__call__\u001b[0m\u001b[1;33m(\u001b[0m\u001b[0mself\u001b[0m\u001b[1;33m,\u001b[0m \u001b[0mimg\u001b[0m\u001b[1;33m)\u001b[0m\u001b[1;33m:\u001b[0m\u001b[1;33m\u001b[0m\u001b[1;33m\u001b[0m\u001b[0m\n\u001b[0;32m     94\u001b[0m         \u001b[1;32mfor\u001b[0m \u001b[0mt\u001b[0m \u001b[1;32min\u001b[0m \u001b[0mself\u001b[0m\u001b[1;33m.\u001b[0m\u001b[0mtransforms\u001b[0m\u001b[1;33m:\u001b[0m\u001b[1;33m\u001b[0m\u001b[1;33m\u001b[0m\u001b[0m\n\u001b[1;32m---> 95\u001b[1;33m             \u001b[0mimg\u001b[0m \u001b[1;33m=\u001b[0m \u001b[0mt\u001b[0m\u001b[1;33m(\u001b[0m\u001b[0mimg\u001b[0m\u001b[1;33m)\u001b[0m\u001b[1;33m\u001b[0m\u001b[1;33m\u001b[0m\u001b[0m\n\u001b[0m\u001b[0;32m     96\u001b[0m         \u001b[1;32mreturn\u001b[0m \u001b[0mimg\u001b[0m\u001b[1;33m\u001b[0m\u001b[1;33m\u001b[0m\u001b[0m\n\u001b[0;32m     97\u001b[0m \u001b[1;33m\u001b[0m\u001b[0m\n",
      "\u001b[1;32m~\\Anaconda3\\envs\\deeplearning\\lib\\site-packages\\torch\\nn\\modules\\module.py\u001b[0m in \u001b[0;36m_call_impl\u001b[1;34m(self, *input, **kwargs)\u001b[0m\n\u001b[0;32m   1192\u001b[0m         if not (self._backward_hooks or self._forward_hooks or self._forward_pre_hooks or _global_backward_hooks\n\u001b[0;32m   1193\u001b[0m                 or _global_forward_hooks or _global_forward_pre_hooks):\n\u001b[1;32m-> 1194\u001b[1;33m             \u001b[1;32mreturn\u001b[0m \u001b[0mforward_call\u001b[0m\u001b[1;33m(\u001b[0m\u001b[1;33m*\u001b[0m\u001b[0minput\u001b[0m\u001b[1;33m,\u001b[0m \u001b[1;33m**\u001b[0m\u001b[0mkwargs\u001b[0m\u001b[1;33m)\u001b[0m\u001b[1;33m\u001b[0m\u001b[1;33m\u001b[0m\u001b[0m\n\u001b[0m\u001b[0;32m   1195\u001b[0m         \u001b[1;31m# Do not call functions when jit is used\u001b[0m\u001b[1;33m\u001b[0m\u001b[1;33m\u001b[0m\u001b[1;33m\u001b[0m\u001b[0m\n\u001b[0;32m   1196\u001b[0m         \u001b[0mfull_backward_hooks\u001b[0m\u001b[1;33m,\u001b[0m \u001b[0mnon_full_backward_hooks\u001b[0m \u001b[1;33m=\u001b[0m \u001b[1;33m[\u001b[0m\u001b[1;33m]\u001b[0m\u001b[1;33m,\u001b[0m \u001b[1;33m[\u001b[0m\u001b[1;33m]\u001b[0m\u001b[1;33m\u001b[0m\u001b[1;33m\u001b[0m\u001b[0m\n",
      "\u001b[1;32m~\\Anaconda3\\envs\\deeplearning\\lib\\site-packages\\torchvision\\transforms\\transforms.py\u001b[0m in \u001b[0;36mforward\u001b[1;34m(self, img)\u001b[0m\n\u001b[0;32m   1351\u001b[0m         \u001b[0mangle\u001b[0m \u001b[1;33m=\u001b[0m \u001b[0mself\u001b[0m\u001b[1;33m.\u001b[0m\u001b[0mget_params\u001b[0m\u001b[1;33m(\u001b[0m\u001b[0mself\u001b[0m\u001b[1;33m.\u001b[0m\u001b[0mdegrees\u001b[0m\u001b[1;33m)\u001b[0m\u001b[1;33m\u001b[0m\u001b[1;33m\u001b[0m\u001b[0m\n\u001b[0;32m   1352\u001b[0m \u001b[1;33m\u001b[0m\u001b[0m\n\u001b[1;32m-> 1353\u001b[1;33m         \u001b[1;32mreturn\u001b[0m \u001b[0mF\u001b[0m\u001b[1;33m.\u001b[0m\u001b[0mrotate\u001b[0m\u001b[1;33m(\u001b[0m\u001b[0mimg\u001b[0m\u001b[1;33m,\u001b[0m \u001b[0mangle\u001b[0m\u001b[1;33m,\u001b[0m \u001b[0mself\u001b[0m\u001b[1;33m.\u001b[0m\u001b[0minterpolation\u001b[0m\u001b[1;33m,\u001b[0m \u001b[0mself\u001b[0m\u001b[1;33m.\u001b[0m\u001b[0mexpand\u001b[0m\u001b[1;33m,\u001b[0m \u001b[0mself\u001b[0m\u001b[1;33m.\u001b[0m\u001b[0mcenter\u001b[0m\u001b[1;33m,\u001b[0m \u001b[0mfill\u001b[0m\u001b[1;33m)\u001b[0m\u001b[1;33m\u001b[0m\u001b[1;33m\u001b[0m\u001b[0m\n\u001b[0m\u001b[0;32m   1354\u001b[0m \u001b[1;33m\u001b[0m\u001b[0m\n\u001b[0;32m   1355\u001b[0m     \u001b[1;32mdef\u001b[0m \u001b[0m__repr__\u001b[0m\u001b[1;33m(\u001b[0m\u001b[0mself\u001b[0m\u001b[1;33m)\u001b[0m \u001b[1;33m->\u001b[0m \u001b[0mstr\u001b[0m\u001b[1;33m:\u001b[0m\u001b[1;33m\u001b[0m\u001b[1;33m\u001b[0m\u001b[0m\n",
      "\u001b[1;32m~\\Anaconda3\\envs\\deeplearning\\lib\\site-packages\\torchvision\\transforms\\functional.py\u001b[0m in \u001b[0;36mrotate\u001b[1;34m(img, angle, interpolation, expand, center, fill)\u001b[0m\n\u001b[0;32m   1105\u001b[0m     \u001b[1;32mif\u001b[0m \u001b[1;32mnot\u001b[0m \u001b[0misinstance\u001b[0m\u001b[1;33m(\u001b[0m\u001b[0mimg\u001b[0m\u001b[1;33m,\u001b[0m \u001b[0mtorch\u001b[0m\u001b[1;33m.\u001b[0m\u001b[0mTensor\u001b[0m\u001b[1;33m)\u001b[0m\u001b[1;33m:\u001b[0m\u001b[1;33m\u001b[0m\u001b[1;33m\u001b[0m\u001b[0m\n\u001b[0;32m   1106\u001b[0m         \u001b[0mpil_interpolation\u001b[0m \u001b[1;33m=\u001b[0m \u001b[0mpil_modes_mapping\u001b[0m\u001b[1;33m[\u001b[0m\u001b[0minterpolation\u001b[0m\u001b[1;33m]\u001b[0m\u001b[1;33m\u001b[0m\u001b[1;33m\u001b[0m\u001b[0m\n\u001b[1;32m-> 1107\u001b[1;33m         \u001b[1;32mreturn\u001b[0m \u001b[0mF_pil\u001b[0m\u001b[1;33m.\u001b[0m\u001b[0mrotate\u001b[0m\u001b[1;33m(\u001b[0m\u001b[0mimg\u001b[0m\u001b[1;33m,\u001b[0m \u001b[0mangle\u001b[0m\u001b[1;33m=\u001b[0m\u001b[0mangle\u001b[0m\u001b[1;33m,\u001b[0m \u001b[0minterpolation\u001b[0m\u001b[1;33m=\u001b[0m\u001b[0mpil_interpolation\u001b[0m\u001b[1;33m,\u001b[0m \u001b[0mexpand\u001b[0m\u001b[1;33m=\u001b[0m\u001b[0mexpand\u001b[0m\u001b[1;33m,\u001b[0m \u001b[0mcenter\u001b[0m\u001b[1;33m=\u001b[0m\u001b[0mcenter\u001b[0m\u001b[1;33m,\u001b[0m \u001b[0mfill\u001b[0m\u001b[1;33m=\u001b[0m\u001b[0mfill\u001b[0m\u001b[1;33m)\u001b[0m\u001b[1;33m\u001b[0m\u001b[1;33m\u001b[0m\u001b[0m\n\u001b[0m\u001b[0;32m   1108\u001b[0m \u001b[1;33m\u001b[0m\u001b[0m\n\u001b[0;32m   1109\u001b[0m     \u001b[0mcenter_f\u001b[0m \u001b[1;33m=\u001b[0m \u001b[1;33m[\u001b[0m\u001b[1;36m0.0\u001b[0m\u001b[1;33m,\u001b[0m \u001b[1;36m0.0\u001b[0m\u001b[1;33m]\u001b[0m\u001b[1;33m\u001b[0m\u001b[1;33m\u001b[0m\u001b[0m\n",
      "\u001b[1;32m~\\Anaconda3\\envs\\deeplearning\\lib\\site-packages\\torchvision\\transforms\\functional_pil.py\u001b[0m in \u001b[0;36mrotate\u001b[1;34m(img, angle, interpolation, expand, center, fill)\u001b[0m\n\u001b[0;32m    312\u001b[0m \u001b[1;33m\u001b[0m\u001b[0m\n\u001b[0;32m    313\u001b[0m     \u001b[0mopts\u001b[0m \u001b[1;33m=\u001b[0m \u001b[0m_parse_fill\u001b[0m\u001b[1;33m(\u001b[0m\u001b[0mfill\u001b[0m\u001b[1;33m,\u001b[0m \u001b[0mimg\u001b[0m\u001b[1;33m)\u001b[0m\u001b[1;33m\u001b[0m\u001b[1;33m\u001b[0m\u001b[0m\n\u001b[1;32m--> 314\u001b[1;33m     \u001b[1;32mreturn\u001b[0m \u001b[0mimg\u001b[0m\u001b[1;33m.\u001b[0m\u001b[0mrotate\u001b[0m\u001b[1;33m(\u001b[0m\u001b[0mangle\u001b[0m\u001b[1;33m,\u001b[0m \u001b[0minterpolation\u001b[0m\u001b[1;33m,\u001b[0m \u001b[0mexpand\u001b[0m\u001b[1;33m,\u001b[0m \u001b[0mcenter\u001b[0m\u001b[1;33m,\u001b[0m \u001b[1;33m**\u001b[0m\u001b[0mopts\u001b[0m\u001b[1;33m)\u001b[0m\u001b[1;33m\u001b[0m\u001b[1;33m\u001b[0m\u001b[0m\n\u001b[0m\u001b[0;32m    315\u001b[0m \u001b[1;33m\u001b[0m\u001b[0m\n\u001b[0;32m    316\u001b[0m \u001b[1;33m\u001b[0m\u001b[0m\n",
      "\u001b[1;32m~\\Anaconda3\\envs\\deeplearning\\lib\\site-packages\\PIL\\Image.py\u001b[0m in \u001b[0;36mrotate\u001b[1;34m(self, angle, resample, expand, center, translate, fillcolor)\u001b[0m\n\u001b[0;32m   2264\u001b[0m \u001b[1;33m\u001b[0m\u001b[0m\n\u001b[0;32m   2265\u001b[0m         return self.transform(\n\u001b[1;32m-> 2266\u001b[1;33m             \u001b[1;33m(\u001b[0m\u001b[0mw\u001b[0m\u001b[1;33m,\u001b[0m \u001b[0mh\u001b[0m\u001b[1;33m)\u001b[0m\u001b[1;33m,\u001b[0m \u001b[0mTransform\u001b[0m\u001b[1;33m.\u001b[0m\u001b[0mAFFINE\u001b[0m\u001b[1;33m,\u001b[0m \u001b[0mmatrix\u001b[0m\u001b[1;33m,\u001b[0m \u001b[0mresample\u001b[0m\u001b[1;33m,\u001b[0m \u001b[0mfillcolor\u001b[0m\u001b[1;33m=\u001b[0m\u001b[0mfillcolor\u001b[0m\u001b[1;33m\u001b[0m\u001b[1;33m\u001b[0m\u001b[0m\n\u001b[0m\u001b[0;32m   2267\u001b[0m         )\n\u001b[0;32m   2268\u001b[0m \u001b[1;33m\u001b[0m\u001b[0m\n",
      "\u001b[1;32m~\\Anaconda3\\envs\\deeplearning\\lib\\site-packages\\PIL\\Image.py\u001b[0m in \u001b[0;36mtransform\u001b[1;34m(self, size, method, data, resample, fill, fillcolor)\u001b[0m\n\u001b[0;32m   2630\u001b[0m         \u001b[1;32melse\u001b[0m\u001b[1;33m:\u001b[0m\u001b[1;33m\u001b[0m\u001b[1;33m\u001b[0m\u001b[0m\n\u001b[0;32m   2631\u001b[0m             im.__transformer(\n\u001b[1;32m-> 2632\u001b[1;33m                 \u001b[1;33m(\u001b[0m\u001b[1;36m0\u001b[0m\u001b[1;33m,\u001b[0m \u001b[1;36m0\u001b[0m\u001b[1;33m)\u001b[0m \u001b[1;33m+\u001b[0m \u001b[0msize\u001b[0m\u001b[1;33m,\u001b[0m \u001b[0mself\u001b[0m\u001b[1;33m,\u001b[0m \u001b[0mmethod\u001b[0m\u001b[1;33m,\u001b[0m \u001b[0mdata\u001b[0m\u001b[1;33m,\u001b[0m \u001b[0mresample\u001b[0m\u001b[1;33m,\u001b[0m \u001b[0mfillcolor\u001b[0m \u001b[1;32mis\u001b[0m \u001b[1;32mNone\u001b[0m\u001b[1;33m\u001b[0m\u001b[1;33m\u001b[0m\u001b[0m\n\u001b[0m\u001b[0;32m   2633\u001b[0m             )\n\u001b[0;32m   2634\u001b[0m \u001b[1;33m\u001b[0m\u001b[0m\n",
      "\u001b[1;32m~\\Anaconda3\\envs\\deeplearning\\lib\\site-packages\\PIL\\Image.py\u001b[0m in \u001b[0;36m__transformer\u001b[1;34m(self, box, image, method, data, resample, fill)\u001b[0m\n\u001b[0;32m   2712\u001b[0m             \u001b[0mresample\u001b[0m \u001b[1;33m=\u001b[0m \u001b[0mResampling\u001b[0m\u001b[1;33m.\u001b[0m\u001b[0mNEAREST\u001b[0m\u001b[1;33m\u001b[0m\u001b[1;33m\u001b[0m\u001b[0m\n\u001b[0;32m   2713\u001b[0m \u001b[1;33m\u001b[0m\u001b[0m\n\u001b[1;32m-> 2714\u001b[1;33m         \u001b[0mself\u001b[0m\u001b[1;33m.\u001b[0m\u001b[0mim\u001b[0m\u001b[1;33m.\u001b[0m\u001b[0mtransform2\u001b[0m\u001b[1;33m(\u001b[0m\u001b[0mbox\u001b[0m\u001b[1;33m,\u001b[0m \u001b[0mimage\u001b[0m\u001b[1;33m.\u001b[0m\u001b[0mim\u001b[0m\u001b[1;33m,\u001b[0m \u001b[0mmethod\u001b[0m\u001b[1;33m,\u001b[0m \u001b[0mdata\u001b[0m\u001b[1;33m,\u001b[0m \u001b[0mresample\u001b[0m\u001b[1;33m,\u001b[0m \u001b[0mfill\u001b[0m\u001b[1;33m)\u001b[0m\u001b[1;33m\u001b[0m\u001b[1;33m\u001b[0m\u001b[0m\n\u001b[0m\u001b[0;32m   2715\u001b[0m \u001b[1;33m\u001b[0m\u001b[0m\n\u001b[0;32m   2716\u001b[0m     \u001b[1;32mdef\u001b[0m \u001b[0mtranspose\u001b[0m\u001b[1;33m(\u001b[0m\u001b[0mself\u001b[0m\u001b[1;33m,\u001b[0m \u001b[0mmethod\u001b[0m\u001b[1;33m)\u001b[0m\u001b[1;33m:\u001b[0m\u001b[1;33m\u001b[0m\u001b[1;33m\u001b[0m\u001b[0m\n",
      "\u001b[1;31mKeyboardInterrupt\u001b[0m: "
     ]
    }
   ],
   "source": [
    "model = TPNN(num_classes=3, finalpadding=1, inputsize=n_pyramids)\n",
    "model = train(model, loaders, num_epochs=5000, learning_rate=1e-4,\n",
    "              continue_from=r\"C:\\Users\\fhacesga\\Desktop\\FIRMsDigitizing\\data\\FLNN\\checkpoint_021424.pth\"\n",
    "             )"
   ]
  }
 ],
 "metadata": {
  "kernelspec": {
   "display_name": "Python 3 (ipykernel)",
   "language": "python",
   "name": "python3"
  },
  "language_info": {
   "codemirror_mode": {
    "name": "ipython",
    "version": 3
   },
   "file_extension": ".py",
   "mimetype": "text/x-python",
   "name": "python",
   "nbconvert_exporter": "python",
   "pygments_lexer": "ipython3",
   "version": "3.7.16"
  },
  "widgets": {
   "application/vnd.jupyter.widget-state+json": {
    "state": {
     "000a0ce30ef84bfc8ab5b9c23b221bc4": {
      "model_module": "@jupyter-widgets/controls",
      "model_module_version": "2.0.0",
      "model_name": "ProgressStyleModel",
      "state": {
       "description_width": ""
      }
     },
     "0023fc3242d845c783fb42d2e5d68a32": {
      "model_module": "@jupyter-widgets/controls",
      "model_module_version": "2.0.0",
      "model_name": "HBoxModel",
      "state": {
       "children": [
        "IPY_MODEL_5707ef96db714ec0a3f2f9dbe98908c9",
        "IPY_MODEL_8f3469b12b6d41cca996c3174a8a94d3",
        "IPY_MODEL_69fd7e6e13c94f61a5ebb811aa394333"
       ],
       "layout": "IPY_MODEL_5a7402acea7c46b7acc62d232cbaafda"
      }
     },
     "0063857eab204d448a73753b8424dbad": {
      "model_module": "@jupyter-widgets/controls",
      "model_module_version": "2.0.0",
      "model_name": "HTMLModel",
      "state": {
       "layout": "IPY_MODEL_94b354bd31db4240b3abce5878a7f39e",
       "style": "IPY_MODEL_acdac6e8397d4097ba9b78f5a31f3293",
       "value": "100%"
      }
     },
     "009b2957b305415891bb4aed8cebb918": {
      "model_module": "@jupyter-widgets/controls",
      "model_module_version": "2.0.0",
      "model_name": "DescriptionStyleModel",
      "state": {
       "description_width": ""
      }
     },
     "009e9b31c50b45ce98d8d25a7a492aac": {
      "model_module": "@jupyter-widgets/controls",
      "model_module_version": "2.0.0",
      "model_name": "HTMLModel",
      "state": {
       "layout": "IPY_MODEL_f1cadea86f4349a5ab89df8c16368f3f",
       "style": "IPY_MODEL_2a75bc70851b42b69eacea7343414dbb",
       "value": "100%"
      }
     },
     "01d8b4a699f146feb03b588bf69025c8": {
      "model_module": "@jupyter-widgets/base",
      "model_module_version": "2.0.0",
      "model_name": "LayoutModel",
      "state": {}
     },
     "01d8f884022a47efb55c154520a685d5": {
      "model_module": "@jupyter-widgets/controls",
      "model_module_version": "2.0.0",
      "model_name": "ProgressStyleModel",
      "state": {
       "description_width": ""
      }
     },
     "01e5af5b26df48c68e2a60acda563670": {
      "model_module": "@jupyter-widgets/base",
      "model_module_version": "2.0.0",
      "model_name": "LayoutModel",
      "state": {}
     },
     "0264a0f5edbd4d84b646529d5900ab46": {
      "model_module": "@jupyter-widgets/base",
      "model_module_version": "2.0.0",
      "model_name": "LayoutModel",
      "state": {}
     },
     "029642dfa78247a18b8c1e5fe6452dda": {
      "model_module": "@jupyter-widgets/controls",
      "model_module_version": "2.0.0",
      "model_name": "DescriptionStyleModel",
      "state": {
       "description_width": ""
      }
     },
     "0325411a73a24e76a5a828c1af2f77f4": {
      "model_module": "@jupyter-widgets/controls",
      "model_module_version": "2.0.0",
      "model_name": "DescriptionStyleModel",
      "state": {
       "description_width": ""
      }
     },
     "0336f4a7a20b426fb438fe3bf7ed82b3": {
      "model_module": "@jupyter-widgets/controls",
      "model_module_version": "2.0.0",
      "model_name": "HBoxModel",
      "state": {
       "children": [
        "IPY_MODEL_03cb0af0e762481c9c64df8c86d59f64",
        "IPY_MODEL_4fdb5b1c4a484c5692ff2224cb3311ef",
        "IPY_MODEL_810d595243204b40860e6dae8429371f"
       ],
       "layout": "IPY_MODEL_bc9b146a311b4e43864c0885a0d6254b"
      }
     },
     "0365c814a1964bfa8a174f66d432d2d8": {
      "model_module": "@jupyter-widgets/controls",
      "model_module_version": "2.0.0",
      "model_name": "HTMLModel",
      "state": {
       "layout": "IPY_MODEL_a440e087f1764e1f8107f2d1e11088f3",
       "style": "IPY_MODEL_9b24a19000ef42af8a952c53a70a91cf",
       "value": " 6/6 [00:08&lt;00:00,  1.97s/it]"
      }
     },
     "03a3d629e6154eacaca8081c71a01b2b": {
      "model_module": "@jupyter-widgets/base",
      "model_module_version": "2.0.0",
      "model_name": "LayoutModel",
      "state": {}
     },
     "03a96f3c2a024b0f94090e89d31f9e0a": {
      "model_module": "@jupyter-widgets/base",
      "model_module_version": "2.0.0",
      "model_name": "LayoutModel",
      "state": {}
     },
     "03cb0af0e762481c9c64df8c86d59f64": {
      "model_module": "@jupyter-widgets/controls",
      "model_module_version": "2.0.0",
      "model_name": "HTMLModel",
      "state": {
       "layout": "IPY_MODEL_efc52319653d4b0bbd451e539181b0fa",
       "style": "IPY_MODEL_e107e09de9494b96ba9563b361cbfa93",
       "value": "100%"
      }
     },
     "03cf710d075a49579d410930b6fbacf4": {
      "model_module": "@jupyter-widgets/base",
      "model_module_version": "2.0.0",
      "model_name": "LayoutModel",
      "state": {}
     },
     "042be28fa0bb441d96647ac61c3f1187": {
      "model_module": "@jupyter-widgets/base",
      "model_module_version": "2.0.0",
      "model_name": "LayoutModel",
      "state": {}
     },
     "055973be849e46938f53875663039720": {
      "model_module": "@jupyter-widgets/base",
      "model_module_version": "2.0.0",
      "model_name": "LayoutModel",
      "state": {}
     },
     "05780041cc8a43a09595c7e527476426": {
      "model_module": "@jupyter-widgets/controls",
      "model_module_version": "2.0.0",
      "model_name": "HBoxModel",
      "state": {
       "children": [
        "IPY_MODEL_c0bc0ed166f748e898629d44ab3ed1a8",
        "IPY_MODEL_3d11387ee5bf45a7841f88bcba010856",
        "IPY_MODEL_9b1bd763907b42879195badd1b69a3e8"
       ],
       "layout": "IPY_MODEL_5fc4e3b1da1c478ea141c911c4e76b5e"
      }
     },
     "05b3bfdeba8148b8b4f9e8a220a48ad1": {
      "model_module": "@jupyter-widgets/controls",
      "model_module_version": "2.0.0",
      "model_name": "FloatProgressModel",
      "state": {
       "bar_style": "success",
       "layout": "IPY_MODEL_a001f2d8f0ac46178a6eaf43f36f248e",
       "max": 3,
       "style": "IPY_MODEL_b4844e9f7ac840f8932292a6e55f54c4",
       "value": 3
      }
     },
     "05ce7d2dcc9c42a1a4657f9cae9edea1": {
      "model_module": "@jupyter-widgets/base",
      "model_module_version": "2.0.0",
      "model_name": "LayoutModel",
      "state": {}
     },
     "066b157993bf44e680f38377fd313131": {
      "model_module": "@jupyter-widgets/controls",
      "model_module_version": "2.0.0",
      "model_name": "HBoxModel",
      "state": {
       "children": [
        "IPY_MODEL_e3713f550fe34209b0ca21db1baa24aa",
        "IPY_MODEL_e5d5e45fb4914148aa722874d820f5b3",
        "IPY_MODEL_dd4cfe4c1c19432d814165e8bfcadbdb"
       ],
       "layout": "IPY_MODEL_8588cbf7c52d4f418839811101f446cc"
      }
     },
     "069d1da5bb904bb092d378f310a159d1": {
      "model_module": "@jupyter-widgets/controls",
      "model_module_version": "2.0.0",
      "model_name": "ProgressStyleModel",
      "state": {
       "description_width": ""
      }
     },
     "06cd218c9ce0406090f8b3651b412fe3": {
      "model_module": "@jupyter-widgets/base",
      "model_module_version": "2.0.0",
      "model_name": "LayoutModel",
      "state": {}
     },
     "06d57aa711be4630a00b75bef4214d4c": {
      "model_module": "@jupyter-widgets/base",
      "model_module_version": "2.0.0",
      "model_name": "LayoutModel",
      "state": {}
     },
     "06e11f82b78947988f5e6a40a8d2f191": {
      "model_module": "@jupyter-widgets/controls",
      "model_module_version": "2.0.0",
      "model_name": "DescriptionStyleModel",
      "state": {
       "description_width": ""
      }
     },
     "06e417298e2e4c93bfd44db90d47d077": {
      "model_module": "@jupyter-widgets/controls",
      "model_module_version": "2.0.0",
      "model_name": "HTMLModel",
      "state": {
       "layout": "IPY_MODEL_3979d488f5ca4bb7b9752f190f516e49",
       "style": "IPY_MODEL_23d02aee6f02490688abd31c971c5a82",
       "value": "100%"
      }
     },
     "07019ea46ea046e0b87c8e4a25c6963b": {
      "model_module": "@jupyter-widgets/controls",
      "model_module_version": "2.0.0",
      "model_name": "HTMLModel",
      "state": {
       "layout": "IPY_MODEL_f27ed8d568e3443b8ebfc12dea126023",
       "style": "IPY_MODEL_8ccf6c8ad7a94dee96a0b8f1c326da34",
       "value": "100%"
      }
     },
     "0753c14d260c47b4b76e724d61b7626e": {
      "model_module": "@jupyter-widgets/controls",
      "model_module_version": "2.0.0",
      "model_name": "HTMLModel",
      "state": {
       "layout": "IPY_MODEL_f1cf5257a926489ebdcef6587525d199",
       "style": "IPY_MODEL_86408805e10e4b36b31272710102a681",
       "value": " 6/6 [00:11&lt;00:00,  2.79s/it]"
      }
     },
     "078d87136b9142e9acb4789c407b5e78": {
      "model_module": "@jupyter-widgets/controls",
      "model_module_version": "2.0.0",
      "model_name": "HBoxModel",
      "state": {
       "children": [
        "IPY_MODEL_7a5f3f054d8d4da3aed21f20541bed79",
        "IPY_MODEL_ee40caa8c6a5462badf1997964bd8578",
        "IPY_MODEL_0949c01d9549498994fad95e6c00b4d4"
       ],
       "layout": "IPY_MODEL_217746ae5f514b5cb74f459bb7394317"
      }
     },
     "07a605e198bc4bdc96fd16984325d5d4": {
      "model_module": "@jupyter-widgets/controls",
      "model_module_version": "2.0.0",
      "model_name": "HBoxModel",
      "state": {
       "children": [
        "IPY_MODEL_57843694692c4a3b87bfbd132153cab8",
        "IPY_MODEL_88209ef64d6c4b459ebea93a0eacd68c",
        "IPY_MODEL_fd51647b299b4889b249a7594dbeedea"
       ],
       "layout": "IPY_MODEL_f387bf1b5492446ba39e2624cfcd4629"
      }
     },
     "07d17a674a6348fc8fa411e197b78069": {
      "model_module": "@jupyter-widgets/controls",
      "model_module_version": "2.0.0",
      "model_name": "ProgressStyleModel",
      "state": {
       "description_width": ""
      }
     },
     "080b15f229de42e488724f68e64030ec": {
      "model_module": "@jupyter-widgets/controls",
      "model_module_version": "2.0.0",
      "model_name": "HBoxModel",
      "state": {
       "children": [
        "IPY_MODEL_8bde0caeebf740c4bc667fbfa72d02ed",
        "IPY_MODEL_1485dc20e8a9448a8d53f4b75b48f675",
        "IPY_MODEL_7598e2700b684d90841799187dfcc138"
       ],
       "layout": "IPY_MODEL_30ebffb12b0f4b59abeb9b83b0a6fbdc"
      }
     },
     "08364b2a0e744b05919950b79cbb7529": {
      "model_module": "@jupyter-widgets/controls",
      "model_module_version": "2.0.0",
      "model_name": "HBoxModel",
      "state": {
       "children": [
        "IPY_MODEL_d28805f81f2d4e939de07c7bfb0c3942",
        "IPY_MODEL_902f154135734038946c4cb43ac040ea",
        "IPY_MODEL_54bc5cd15c52489db348d7d474416b63"
       ],
       "layout": "IPY_MODEL_6e6c8d817cf642cda4b8c67c1421f16b"
      }
     },
     "084efb17fade418aac55ccf88c99373d": {
      "model_module": "@jupyter-widgets/base",
      "model_module_version": "2.0.0",
      "model_name": "LayoutModel",
      "state": {}
     },
     "08e2cf45c7c848ed83868e9a1f1ba967": {
      "model_module": "@jupyter-widgets/controls",
      "model_module_version": "2.0.0",
      "model_name": "HTMLModel",
      "state": {
       "layout": "IPY_MODEL_8981bf35b70148559775a41ed92d1ed1",
       "style": "IPY_MODEL_705019b0b05f4387aefdd6bb569e74d9",
       "value": "100%"
      }
     },
     "0949c01d9549498994fad95e6c00b4d4": {
      "model_module": "@jupyter-widgets/controls",
      "model_module_version": "2.0.0",
      "model_name": "HTMLModel",
      "state": {
       "layout": "IPY_MODEL_c7dc4e6681ce4f8eae9a97b57acbed79",
       "style": "IPY_MODEL_945688e6560c48ad8c46b7294bd434b6",
       "value": " 0/6 [00:00&lt;?, ?it/s]"
      }
     },
     "0955482db7ea401daacc4b71171b4096": {
      "model_module": "@jupyter-widgets/controls",
      "model_module_version": "2.0.0",
      "model_name": "ProgressStyleModel",
      "state": {
       "description_width": ""
      }
     },
     "09b9674aaee24f8ba6ac3d70e04734de": {
      "model_module": "@jupyter-widgets/base",
      "model_module_version": "2.0.0",
      "model_name": "LayoutModel",
      "state": {}
     },
     "09ee37cbf2df41f5b293113c69bb3a24": {
      "model_module": "@jupyter-widgets/base",
      "model_module_version": "2.0.0",
      "model_name": "LayoutModel",
      "state": {}
     },
     "0a8273abf4b04fcfa266ece21ec57dc2": {
      "model_module": "@jupyter-widgets/base",
      "model_module_version": "2.0.0",
      "model_name": "LayoutModel",
      "state": {}
     },
     "0abaf50f623a43e58afcf20b196d3dbc": {
      "model_module": "@jupyter-widgets/controls",
      "model_module_version": "2.0.0",
      "model_name": "HTMLStyleModel",
      "state": {
       "description_width": "",
       "font_size": null,
       "text_color": null
      }
     },
     "0ae180ce7c094699b73877331aa776d5": {
      "model_module": "@jupyter-widgets/base",
      "model_module_version": "2.0.0",
      "model_name": "LayoutModel",
      "state": {}
     },
     "0b1a304bd15f47ec8858bfd900d11484": {
      "model_module": "@jupyter-widgets/controls",
      "model_module_version": "2.0.0",
      "model_name": "HTMLModel",
      "state": {
       "layout": "IPY_MODEL_ba807cc513b74d7d8eeb027c2910b83d",
       "style": "IPY_MODEL_cb816fa26def400fb32343b0dd2f8917",
       "value": " 14/14 [00:37&lt;00:00,  2.73s/it]"
      }
     },
     "0b1b5e2e830e40bb969f2adc1614aea5": {
      "model_module": "@jupyter-widgets/controls",
      "model_module_version": "2.0.0",
      "model_name": "FloatProgressModel",
      "state": {
       "bar_style": "success",
       "layout": "IPY_MODEL_1f96bc76575143e0bbfa6f656bc14379",
       "max": 14,
       "style": "IPY_MODEL_147d6e998a764a2d9829860f250560d9",
       "value": 14
      }
     },
     "0b4691c9dc8c4730b2406addff4465cf": {
      "model_module": "@jupyter-widgets/controls",
      "model_module_version": "2.0.0",
      "model_name": "HTMLModel",
      "state": {
       "layout": "IPY_MODEL_45f72b16772f40e081fb9d967266f68d",
       "style": "IPY_MODEL_43813cdb3cc948f49df4d4f3c7bbca4d",
       "value": "100%"
      }
     },
     "0b69df04be5841c59960a17eb4f82d76": {
      "model_module": "@jupyter-widgets/controls",
      "model_module_version": "2.0.0",
      "model_name": "HBoxModel",
      "state": {
       "children": [
        "IPY_MODEL_aef0ceb8c0ae4015b63ea8b2d521df89",
        "IPY_MODEL_749e6b87082c4e4bbdd4030cad16b4ca",
        "IPY_MODEL_1ce6f12be1c846d6b0b2f907eb606fa8"
       ],
       "layout": "IPY_MODEL_26ee41edcc1d4611b2c3bf8d590a98f1"
      }
     },
     "0b79ec824d3b4d8aa3cae468021e6ea0": {
      "model_module": "@jupyter-widgets/base",
      "model_module_version": "2.0.0",
      "model_name": "LayoutModel",
      "state": {}
     },
     "0bca4e3d211e481b930b97cb27172398": {
      "model_module": "@jupyter-widgets/controls",
      "model_module_version": "2.0.0",
      "model_name": "HTMLModel",
      "state": {
       "layout": "IPY_MODEL_d2089328393446879bd5bea14c4c46d4",
       "style": "IPY_MODEL_acda4f5b396441189693bf7bffcb701c",
       "value": "100%"
      }
     },
     "0bdac01ac9714d238307c195beb0e4d6": {
      "model_module": "@jupyter-widgets/controls",
      "model_module_version": "2.0.0",
      "model_name": "ProgressStyleModel",
      "state": {
       "description_width": ""
      }
     },
     "0c661b3b523e46c997b81ec88b55885f": {
      "model_module": "@jupyter-widgets/controls",
      "model_module_version": "2.0.0",
      "model_name": "HBoxModel",
      "state": {
       "children": [
        "IPY_MODEL_2b00516e0d2f4aa38eb103470d68f748",
        "IPY_MODEL_ed986ba25e62442b805d11edfd26d196",
        "IPY_MODEL_2687f4e65b9f494d85e66a18985cc115"
       ],
       "layout": "IPY_MODEL_d215b8a8add54994996af76ab889def9"
      }
     },
     "0cb625922b5f481f85c9215f9f4b3d23": {
      "model_module": "@jupyter-widgets/base",
      "model_module_version": "2.0.0",
      "model_name": "LayoutModel",
      "state": {}
     },
     "0d06caff45da43a387feb0da28b050fb": {
      "model_module": "@jupyter-widgets/base",
      "model_module_version": "2.0.0",
      "model_name": "LayoutModel",
      "state": {}
     },
     "0d313cc29bcc46dfb446da66fa807e59": {
      "model_module": "@jupyter-widgets/controls",
      "model_module_version": "2.0.0",
      "model_name": "HBoxModel",
      "state": {
       "children": [
        "IPY_MODEL_83c2fac7843c4663a1b118a4efb743db",
        "IPY_MODEL_fa70d6fcb22147d0955df9e8bddc056c",
        "IPY_MODEL_b95eedb43b064ce789790750e2c53bb5"
       ],
       "layout": "IPY_MODEL_2a462a43f7d74fce8b387d4a583712ec"
      }
     },
     "0d3409116f40446cbda24b66b80c0548": {
      "model_module": "@jupyter-widgets/controls",
      "model_module_version": "2.0.0",
      "model_name": "FloatProgressModel",
      "state": {
       "bar_style": "success",
       "layout": "IPY_MODEL_69ba768c93bf4d2585127c9dd8cca2a1",
       "max": 3,
       "style": "IPY_MODEL_e8f26801067b4ef1828250d9824be275",
       "value": 3
      }
     },
     "0d4bc172676c4414864818a4ac6416fe": {
      "model_module": "@jupyter-widgets/controls",
      "model_module_version": "2.0.0",
      "model_name": "HTMLModel",
      "state": {
       "layout": "IPY_MODEL_199baf487d344705bd0e350dbae70ae1",
       "style": "IPY_MODEL_06e11f82b78947988f5e6a40a8d2f191",
       "value": "100%"
      }
     },
     "0d4cdb3348194428b360906169fcc25e": {
      "model_module": "@jupyter-widgets/base",
      "model_module_version": "2.0.0",
      "model_name": "LayoutModel",
      "state": {}
     },
     "0d5bdf9af54d439ca3f4b690da144284": {
      "model_module": "@jupyter-widgets/controls",
      "model_module_version": "2.0.0",
      "model_name": "HTMLModel",
      "state": {
       "layout": "IPY_MODEL_32e522644e3548eeb2a61abd4431c1dc",
       "style": "IPY_MODEL_6598381da8a44dae8d3e17c72ca74f0d",
       "value": "100%"
      }
     },
     "0db0d77a505b45c09a86c22ab3ec786f": {
      "model_module": "@jupyter-widgets/base",
      "model_module_version": "2.0.0",
      "model_name": "LayoutModel",
      "state": {}
     },
     "0dc955968bf4464581e4aff52c7e0667": {
      "model_module": "@jupyter-widgets/controls",
      "model_module_version": "2.0.0",
      "model_name": "HTMLModel",
      "state": {
       "layout": "IPY_MODEL_b1a71496bea04ea984d4eaf411c2d37c",
       "style": "IPY_MODEL_22eb8c8a0e00490a9134f86bf95f647a",
       "value": " 3/3 [00:11&lt;00:00,  4.32s/it]"
      }
     },
     "0eaa5fd6d17d42739186b27b186fa2d4": {
      "model_module": "@jupyter-widgets/base",
      "model_module_version": "2.0.0",
      "model_name": "LayoutModel",
      "state": {}
     },
     "0eb105eb3c3a4e0e8ad0c0555002b74a": {
      "model_module": "@jupyter-widgets/base",
      "model_module_version": "2.0.0",
      "model_name": "LayoutModel",
      "state": {}
     },
     "0eb10b760dc54f0697396bb1551ea804": {
      "model_module": "@jupyter-widgets/controls",
      "model_module_version": "2.0.0",
      "model_name": "FloatProgressModel",
      "state": {
       "bar_style": "success",
       "layout": "IPY_MODEL_4249d3d2ad154f738789fb624a8e0867",
       "max": 14,
       "style": "IPY_MODEL_5976186c6a0042c2b496154953e7726d",
       "value": 14
      }
     },
     "0f08dbddfbf34a21a5d145735909cfec": {
      "model_module": "@jupyter-widgets/base",
      "model_module_version": "2.0.0",
      "model_name": "LayoutModel",
      "state": {}
     },
     "0f26d84da7c14a52a03a1d4cfbbc0405": {
      "model_module": "@jupyter-widgets/controls",
      "model_module_version": "2.0.0",
      "model_name": "DescriptionStyleModel",
      "state": {
       "description_width": ""
      }
     },
     "0f4f2ab58d27499ab90aef032e5a3b75": {
      "model_module": "@jupyter-widgets/controls",
      "model_module_version": "2.0.0",
      "model_name": "HBoxModel",
      "state": {
       "children": [
        "IPY_MODEL_de34218bb04f441bb1bc43e285752ade",
        "IPY_MODEL_69a5d1fb555745e39ade5030c767bf78",
        "IPY_MODEL_d7ec9dc0b86e4aa7adcd14aaab8643e1"
       ],
       "layout": "IPY_MODEL_f9620fa4d32740b59e5cb0690a070612"
      }
     },
     "0f833f6471d344ad9cb100183559182a": {
      "model_module": "@jupyter-widgets/controls",
      "model_module_version": "2.0.0",
      "model_name": "FloatProgressModel",
      "state": {
       "bar_style": "success",
       "layout": "IPY_MODEL_dc28259a0652441aacc9366d13c53f3c",
       "max": 6,
       "style": "IPY_MODEL_b85490ed0a0947f0b84a2600a1c988c7",
       "value": 6
      }
     },
     "0f9c8d0f704c4e5ba707cf9fc4bd45ae": {
      "model_module": "@jupyter-widgets/controls",
      "model_module_version": "2.0.0",
      "model_name": "HTMLModel",
      "state": {
       "layout": "IPY_MODEL_4fcce8713d9f40efa519fad4c3f6d159",
       "style": "IPY_MODEL_287a7573648040f38d693b279d747f3b",
       "value": "100%"
      }
     },
     "0fc92f9097474517aa4fad739dce6c9e": {
      "model_module": "@jupyter-widgets/controls",
      "model_module_version": "2.0.0",
      "model_name": "HTMLModel",
      "state": {
       "layout": "IPY_MODEL_bd40e6ea970a42bca8cba175f0e0ef3c",
       "style": "IPY_MODEL_451473f4e335442db1280c3dafa1c5de",
       "value": "100%"
      }
     },
     "1004c413f391408aa53526d8882d9ea5": {
      "model_module": "@jupyter-widgets/controls",
      "model_module_version": "2.0.0",
      "model_name": "HTMLModel",
      "state": {
       "layout": "IPY_MODEL_98cb9a5f782d406992c4ab9ddc0d89c4",
       "style": "IPY_MODEL_583d1f1adf7746b78eeac541b547405b",
       "value": "100%"
      }
     },
     "10e39dc37bd944b3a6cea613c2c089f3": {
      "model_module": "@jupyter-widgets/controls",
      "model_module_version": "2.0.0",
      "model_name": "DescriptionStyleModel",
      "state": {
       "description_width": ""
      }
     },
     "10ea0838335d4ae1bb579ef325c49f1d": {
      "model_module": "@jupyter-widgets/base",
      "model_module_version": "2.0.0",
      "model_name": "LayoutModel",
      "state": {}
     },
     "115a126a5dc14d9e9e0c1a91e79ef53e": {
      "model_module": "@jupyter-widgets/base",
      "model_module_version": "2.0.0",
      "model_name": "LayoutModel",
      "state": {}
     },
     "11d0dc6ff6db4abe8434128bba74e17a": {
      "model_module": "@jupyter-widgets/controls",
      "model_module_version": "2.0.0",
      "model_name": "DescriptionStyleModel",
      "state": {
       "description_width": ""
      }
     },
     "11fddfdf1de84920ae47280c167037ea": {
      "model_module": "@jupyter-widgets/controls",
      "model_module_version": "2.0.0",
      "model_name": "HBoxModel",
      "state": {
       "children": [
        "IPY_MODEL_d7843afa00d04ccfa17c4f7a2c0ead9c",
        "IPY_MODEL_b706432285f34e75ae5cff63bc0f811e",
        "IPY_MODEL_8039000c118c4b35bc9ffcc4d13b27f3"
       ],
       "layout": "IPY_MODEL_fc340e178dcf4841a50d791a1e61b133"
      }
     },
     "12376590b1cc4543ba04cb2c3624454c": {
      "model_module": "@jupyter-widgets/controls",
      "model_module_version": "2.0.0",
      "model_name": "ProgressStyleModel",
      "state": {
       "description_width": ""
      }
     },
     "12bd68cfd5214378b677176807915f57": {
      "model_module": "@jupyter-widgets/controls",
      "model_module_version": "2.0.0",
      "model_name": "HTMLModel",
      "state": {
       "layout": "IPY_MODEL_9722c25d278d4c709a75c1528f7252d6",
       "style": "IPY_MODEL_38b365b1201f4397953d51a62aaf4e80",
       "value": " 6/6 [00:11&lt;00:00,  2.78s/it]"
      }
     },
     "1317b6a0a7bc4b43a76e7ca689d01b22": {
      "model_module": "@jupyter-widgets/controls",
      "model_module_version": "2.0.0",
      "model_name": "HTMLStyleModel",
      "state": {
       "description_width": "",
       "font_size": null,
       "text_color": null
      }
     },
     "147d6e998a764a2d9829860f250560d9": {
      "model_module": "@jupyter-widgets/controls",
      "model_module_version": "2.0.0",
      "model_name": "ProgressStyleModel",
      "state": {
       "description_width": ""
      }
     },
     "1485dc20e8a9448a8d53f4b75b48f675": {
      "model_module": "@jupyter-widgets/controls",
      "model_module_version": "2.0.0",
      "model_name": "FloatProgressModel",
      "state": {
       "bar_style": "danger",
       "layout": "IPY_MODEL_305aca9f3f244ad0b9b26ed91ec3af33",
       "max": 14,
       "style": "IPY_MODEL_18d7ef9ee88a455dbbfac965b15c9e1a",
       "value": 10
      }
     },
     "14f0bd724fd345f8bab8dfc4bef0bf08": {
      "model_module": "@jupyter-widgets/controls",
      "model_module_version": "2.0.0",
      "model_name": "ProgressStyleModel",
      "state": {
       "description_width": ""
      }
     },
     "1550f4570c0649d281d386ee91811c1a": {
      "model_module": "@jupyter-widgets/base",
      "model_module_version": "2.0.0",
      "model_name": "LayoutModel",
      "state": {}
     },
     "1574450acc874b6f9d2c6fa210c91894": {
      "model_module": "@jupyter-widgets/base",
      "model_module_version": "2.0.0",
      "model_name": "LayoutModel",
      "state": {}
     },
     "16db80d7528e45a79bb7708b65544c05": {
      "model_module": "@jupyter-widgets/controls",
      "model_module_version": "2.0.0",
      "model_name": "FloatProgressModel",
      "state": {
       "bar_style": "success",
       "layout": "IPY_MODEL_8d4c233f2bd34fc785689c28a4443ae4",
       "max": 3,
       "style": "IPY_MODEL_5d60a27d33a64fe0b9065d67b7327045",
       "value": 3
      }
     },
     "16fb2ba10ca54fe5b113a07e4b74a364": {
      "model_module": "@jupyter-widgets/controls",
      "model_module_version": "2.0.0",
      "model_name": "FloatProgressModel",
      "state": {
       "bar_style": "success",
       "layout": "IPY_MODEL_edf5997f4a0c488abc2bd51d603e413b",
       "max": 3,
       "style": "IPY_MODEL_8184abafd437439481a39fe8f50c41bf",
       "value": 3
      }
     },
     "1738612afc9045d2aacc3f7bf1bf54c1": {
      "model_module": "@jupyter-widgets/base",
      "model_module_version": "2.0.0",
      "model_name": "LayoutModel",
      "state": {}
     },
     "1770df0cfa014ba89fca32d9ccf66276": {
      "model_module": "@jupyter-widgets/base",
      "model_module_version": "2.0.0",
      "model_name": "LayoutModel",
      "state": {}
     },
     "17800447be014770ae05c74ce802f81c": {
      "model_module": "@jupyter-widgets/controls",
      "model_module_version": "2.0.0",
      "model_name": "DescriptionStyleModel",
      "state": {
       "description_width": ""
      }
     },
     "18d7ef9ee88a455dbbfac965b15c9e1a": {
      "model_module": "@jupyter-widgets/controls",
      "model_module_version": "2.0.0",
      "model_name": "ProgressStyleModel",
      "state": {
       "description_width": ""
      }
     },
     "18f4eee24bac4eed92745ba210060663": {
      "model_module": "@jupyter-widgets/controls",
      "model_module_version": "2.0.0",
      "model_name": "HTMLStyleModel",
      "state": {
       "description_width": "",
       "font_size": null,
       "text_color": null
      }
     },
     "18fb54df65384bb191ef2dd090fb1024": {
      "model_module": "@jupyter-widgets/base",
      "model_module_version": "2.0.0",
      "model_name": "LayoutModel",
      "state": {}
     },
     "195b90f25ae447488562295c171c2e4d": {
      "model_module": "@jupyter-widgets/controls",
      "model_module_version": "2.0.0",
      "model_name": "DescriptionStyleModel",
      "state": {
       "description_width": ""
      }
     },
     "195bf44553064ef9b5c442ed7f8d14c0": {
      "model_module": "@jupyter-widgets/controls",
      "model_module_version": "2.0.0",
      "model_name": "FloatProgressModel",
      "state": {
       "bar_style": "success",
       "layout": "IPY_MODEL_a457bdaff0b54319a7e04193fee288ff",
       "max": 14,
       "style": "IPY_MODEL_5d64f8724c144e37b875cd67b10ec38b",
       "value": 14
      }
     },
     "199baf487d344705bd0e350dbae70ae1": {
      "model_module": "@jupyter-widgets/base",
      "model_module_version": "2.0.0",
      "model_name": "LayoutModel",
      "state": {}
     },
     "19d2a5bbbee14c30bd9480c8930412ef": {
      "model_module": "@jupyter-widgets/controls",
      "model_module_version": "2.0.0",
      "model_name": "FloatProgressModel",
      "state": {
       "bar_style": "success",
       "layout": "IPY_MODEL_042be28fa0bb441d96647ac61c3f1187",
       "max": 6,
       "style": "IPY_MODEL_41d2351da9f445548ea422ffb7bd70b8",
       "value": 6
      }
     },
     "19ea34ec07da4d61acec8c855bbc02bf": {
      "model_module": "@jupyter-widgets/base",
      "model_module_version": "2.0.0",
      "model_name": "LayoutModel",
      "state": {}
     },
     "1a3e94e077794b26a5f1d4383652e342": {
      "model_module": "@jupyter-widgets/controls",
      "model_module_version": "2.0.0",
      "model_name": "HTMLModel",
      "state": {
       "layout": "IPY_MODEL_f1f91959b5e34777a43a77fabbc2547b",
       "style": "IPY_MODEL_8b612f576d034f368bf01513ba1fdbf7",
       "value": " 6/6 [00:11&lt;00:00,  2.85s/it]"
      }
     },
     "1a972bcc03d64354b5cd8ec42d25af83": {
      "model_module": "@jupyter-widgets/base",
      "model_module_version": "2.0.0",
      "model_name": "LayoutModel",
      "state": {}
     },
     "1afd9b14111e46ce980a6e0b1d6e4560": {
      "model_module": "@jupyter-widgets/base",
      "model_module_version": "2.0.0",
      "model_name": "LayoutModel",
      "state": {}
     },
     "1b128390ad5d40609c6853ee0320d36b": {
      "model_module": "@jupyter-widgets/controls",
      "model_module_version": "2.0.0",
      "model_name": "FloatProgressModel",
      "state": {
       "bar_style": "success",
       "layout": "IPY_MODEL_be41d6ae9f344b5ba9b383d3d5c484bf",
       "max": 3,
       "style": "IPY_MODEL_07d17a674a6348fc8fa411e197b78069",
       "value": 3
      }
     },
     "1b3e9c32128b4afd82e6239a2c210fd1": {
      "model_module": "@jupyter-widgets/base",
      "model_module_version": "2.0.0",
      "model_name": "LayoutModel",
      "state": {}
     },
     "1bb5e4ab089345e486e8cb7702e2a389": {
      "model_module": "@jupyter-widgets/controls",
      "model_module_version": "2.0.0",
      "model_name": "HBoxModel",
      "state": {
       "children": [
        "IPY_MODEL_b4a6ca293cf340b89bc8cee747bd4df1",
        "IPY_MODEL_25903453397444dc8539ba4a20d941d7",
        "IPY_MODEL_4c514c61a1824da0bb353e154c21288e"
       ],
       "layout": "IPY_MODEL_44d1cb966cd74d34b917a08160071f86"
      }
     },
     "1c13c5e27a444c34b5616d6b869b0c25": {
      "model_module": "@jupyter-widgets/controls",
      "model_module_version": "2.0.0",
      "model_name": "HBoxModel",
      "state": {
       "children": [
        "IPY_MODEL_affe162fb3a94beba81fa8be1951120f",
        "IPY_MODEL_0f833f6471d344ad9cb100183559182a",
        "IPY_MODEL_658444ed433543249997e5b54ff46591"
       ],
       "layout": "IPY_MODEL_51afde547a624857871d55d2bbcc2c75"
      }
     },
     "1c4bcfb11581445a8d46ce754ec37180": {
      "model_module": "@jupyter-widgets/base",
      "model_module_version": "2.0.0",
      "model_name": "LayoutModel",
      "state": {}
     },
     "1c5a097cc6654b498bb5d102de2ff9a9": {
      "model_module": "@jupyter-widgets/controls",
      "model_module_version": "2.0.0",
      "model_name": "HBoxModel",
      "state": {
       "children": [
        "IPY_MODEL_f3448abc46c64dcc99030e01f7f7c0ad",
        "IPY_MODEL_0eb10b760dc54f0697396bb1551ea804",
        "IPY_MODEL_e6344aec656a4e2ebe984c2af55086ee"
       ],
       "layout": "IPY_MODEL_30edfff582484b6493b79792a84b5d78"
      }
     },
     "1ce6f12be1c846d6b0b2f907eb606fa8": {
      "model_module": "@jupyter-widgets/controls",
      "model_module_version": "2.0.0",
      "model_name": "HTMLModel",
      "state": {
       "layout": "IPY_MODEL_93d601e2d59e468bb0a2e59df885b6bb",
       "style": "IPY_MODEL_6022fd1d8b704696a3ea76aed0286917",
       "value": " 14/14 [00:34&lt;00:00,  2.58s/it]"
      }
     },
     "1cf7ed64d07e42f1a35ac54ff80c9321": {
      "model_module": "@jupyter-widgets/controls",
      "model_module_version": "2.0.0",
      "model_name": "HTMLStyleModel",
      "state": {
       "description_width": "",
       "font_size": null,
       "text_color": null
      }
     },
     "1d1d0262b04541a6a88b8cfc2026e946": {
      "model_module": "@jupyter-widgets/controls",
      "model_module_version": "2.0.0",
      "model_name": "HTMLStyleModel",
      "state": {
       "description_width": "",
       "font_size": null,
       "text_color": null
      }
     },
     "1d1da6d468c74317a13dc9fc56dfb053": {
      "model_module": "@jupyter-widgets/controls",
      "model_module_version": "2.0.0",
      "model_name": "HTMLStyleModel",
      "state": {
       "description_width": "",
       "font_size": null,
       "text_color": null
      }
     },
     "1d307ce0a82445ba9e28c933d9dc26c9": {
      "model_module": "@jupyter-widgets/controls",
      "model_module_version": "2.0.0",
      "model_name": "HBoxModel",
      "state": {
       "children": [
        "IPY_MODEL_ec90cfce9177485b883662ef681ad8d6",
        "IPY_MODEL_d508b30885034954883d0ecb2f25290a",
        "IPY_MODEL_7863273832e24bb2b5709eec56869f46"
       ],
       "layout": "IPY_MODEL_e704b69e2c0147598b87d70959cc1d19"
      }
     },
     "1df53411fb0547ea99a8fa02b4902311": {
      "model_module": "@jupyter-widgets/controls",
      "model_module_version": "2.0.0",
      "model_name": "HTMLStyleModel",
      "state": {
       "description_width": "",
       "font_size": null,
       "text_color": null
      }
     },
     "1ea51bc560ca4022bb1a949c79a0f734": {
      "model_module": "@jupyter-widgets/controls",
      "model_module_version": "2.0.0",
      "model_name": "HTMLModel",
      "state": {
       "layout": "IPY_MODEL_468581f8cddc4e7bb1610ac6320b66b7",
       "style": "IPY_MODEL_d13dd26971b44151b9d2858eba28a261",
       "value": "100%"
      }
     },
     "1f96bc76575143e0bbfa6f656bc14379": {
      "model_module": "@jupyter-widgets/base",
      "model_module_version": "2.0.0",
      "model_name": "LayoutModel",
      "state": {}
     },
     "1f98f10a0be946e8a023ccbd3bb84e77": {
      "model_module": "@jupyter-widgets/base",
      "model_module_version": "2.0.0",
      "model_name": "LayoutModel",
      "state": {}
     },
     "1fc2b21844534159a368b1806fac3a9b": {
      "model_module": "@jupyter-widgets/controls",
      "model_module_version": "2.0.0",
      "model_name": "DescriptionStyleModel",
      "state": {
       "description_width": ""
      }
     },
     "1fc82bd317434156a2e9298ba5e183fd": {
      "model_module": "@jupyter-widgets/controls",
      "model_module_version": "2.0.0",
      "model_name": "HTMLModel",
      "state": {
       "layout": "IPY_MODEL_cc49fe955bc9415abe5836ccaad61025",
       "style": "IPY_MODEL_ddd0a93088564db392114ce48622e704",
       "value": "100%"
      }
     },
     "1fe284f8d07f40878ff479927110d9b2": {
      "model_module": "@jupyter-widgets/controls",
      "model_module_version": "2.0.0",
      "model_name": "HBoxModel",
      "state": {
       "children": [
        "IPY_MODEL_d79d6b73af2144729bed6a955c95e6e1",
        "IPY_MODEL_c2fde99dd01245ec95f086a3473cf135",
        "IPY_MODEL_a0a6992b1429433fbbbaf3d5f05d24c3"
       ],
       "layout": "IPY_MODEL_98307e1ba8e542d28735e73168500439"
      }
     },
     "2014c622957f4172bf5538e7032073d7": {
      "model_module": "@jupyter-widgets/base",
      "model_module_version": "2.0.0",
      "model_name": "LayoutModel",
      "state": {}
     },
     "20e2e54ff7b6404a8ef36f22b44b6529": {
      "model_module": "@jupyter-widgets/controls",
      "model_module_version": "2.0.0",
      "model_name": "FloatProgressModel",
      "state": {
       "bar_style": "success",
       "layout": "IPY_MODEL_fdb9a369ccea4ed5983d9d8248c46c5d",
       "max": 14,
       "style": "IPY_MODEL_cd78b7965d4d428a8cb50a5b211e9793",
       "value": 14
      }
     },
     "2113a4d44df6462db4fa2f37d71cfcbd": {
      "model_module": "@jupyter-widgets/base",
      "model_module_version": "2.0.0",
      "model_name": "LayoutModel",
      "state": {}
     },
     "212dcdc1e2d240d883b18393d45acda8": {
      "model_module": "@jupyter-widgets/base",
      "model_module_version": "2.0.0",
      "model_name": "LayoutModel",
      "state": {}
     },
     "2170228775ec4e85803342171d2bcc44": {
      "model_module": "@jupyter-widgets/base",
      "model_module_version": "2.0.0",
      "model_name": "LayoutModel",
      "state": {}
     },
     "217746ae5f514b5cb74f459bb7394317": {
      "model_module": "@jupyter-widgets/base",
      "model_module_version": "2.0.0",
      "model_name": "LayoutModel",
      "state": {}
     },
     "219404a0aa80406fba4e1a59864e213e": {
      "model_module": "@jupyter-widgets/base",
      "model_module_version": "2.0.0",
      "model_name": "LayoutModel",
      "state": {}
     },
     "219afd487156452a86e2406576ecfcc9": {
      "model_module": "@jupyter-widgets/base",
      "model_module_version": "2.0.0",
      "model_name": "LayoutModel",
      "state": {}
     },
     "219d72dd2d2b4dd7b8bba69df5cbc177": {
      "model_module": "@jupyter-widgets/controls",
      "model_module_version": "2.0.0",
      "model_name": "FloatProgressModel",
      "state": {
       "bar_style": "success",
       "layout": "IPY_MODEL_eb54245568c3417f8c1a3e0308150b39",
       "max": 6,
       "style": "IPY_MODEL_b1ce81a067f24d3c90467c337ecb4f34",
       "value": 6
      }
     },
     "21b051ce1eb44d588eb8484bfb57c09c": {
      "model_module": "@jupyter-widgets/controls",
      "model_module_version": "2.0.0",
      "model_name": "HTMLModel",
      "state": {
       "layout": "IPY_MODEL_8b16a795483843d3b70dba6e1fd26a29",
       "style": "IPY_MODEL_845af8d2da2a4ab4ad8df8b4e2341619",
       "value": " 14/14 [00:34&lt;00:00,  2.59s/it]"
      }
     },
     "21d4e7e9c0ce4ddda97e55cf9f588e7c": {
      "model_module": "@jupyter-widgets/base",
      "model_module_version": "2.0.0",
      "model_name": "LayoutModel",
      "state": {}
     },
     "21f3def43b384e6aa18449eabe0dfc10": {
      "model_module": "@jupyter-widgets/controls",
      "model_module_version": "2.0.0",
      "model_name": "FloatProgressModel",
      "state": {
       "bar_style": "success",
       "layout": "IPY_MODEL_2ea3d3d9620148b8b3d58795d768afb2",
       "max": 6,
       "style": "IPY_MODEL_01d8f884022a47efb55c154520a685d5",
       "value": 6
      }
     },
     "227e83a28aa846ed87ea1bffc6e15c16": {
      "model_module": "@jupyter-widgets/controls",
      "model_module_version": "2.0.0",
      "model_name": "HTMLStyleModel",
      "state": {
       "description_width": "",
       "font_size": null,
       "text_color": null
      }
     },
     "2288d78992024f17b4c33d51aa323edd": {
      "model_module": "@jupyter-widgets/controls",
      "model_module_version": "2.0.0",
      "model_name": "HTMLModel",
      "state": {
       "layout": "IPY_MODEL_aaad4ca2ef0e400c861ec129402d025e",
       "style": "IPY_MODEL_cac094dfafa64d289e942e132ec9e84f",
       "value": " 6/6 [00:11&lt;00:00,  2.82s/it]"
      }
     },
     "229395b963b84118856df1a35e4fc8fe": {
      "model_module": "@jupyter-widgets/controls",
      "model_module_version": "2.0.0",
      "model_name": "HBoxModel",
      "state": {
       "children": [
        "IPY_MODEL_dcca8bf40bd64061b09a211cc68bba61",
        "IPY_MODEL_1b128390ad5d40609c6853ee0320d36b",
        "IPY_MODEL_82fb3cf99ebb4e96ac943460c9281ad7"
       ],
       "layout": "IPY_MODEL_e59fd9367547423fbe88c0a69e5b5d4f"
      }
     },
     "229cd52eb0e84464ba9215674f6cc175": {
      "model_module": "@jupyter-widgets/controls",
      "model_module_version": "2.0.0",
      "model_name": "HTMLModel",
      "state": {
       "layout": "IPY_MODEL_5cc7f457a2334e71bb5f436ae46c336e",
       "style": "IPY_MODEL_7656a75fac334758bff1db99160dd95b",
       "value": "100%"
      }
     },
     "22eb8c8a0e00490a9134f86bf95f647a": {
      "model_module": "@jupyter-widgets/controls",
      "model_module_version": "2.0.0",
      "model_name": "DescriptionStyleModel",
      "state": {
       "description_width": ""
      }
     },
     "22fd4ea1bcd34be88b6b8c7fe475ca29": {
      "model_module": "@jupyter-widgets/controls",
      "model_module_version": "2.0.0",
      "model_name": "HBoxModel",
      "state": {
       "children": [
        "IPY_MODEL_417fab544a4646ed858872a9006749d0",
        "IPY_MODEL_16fb2ba10ca54fe5b113a07e4b74a364",
        "IPY_MODEL_eba97bc2fe554e4d89a75a68452728ea"
       ],
       "layout": "IPY_MODEL_0d4cdb3348194428b360906169fcc25e"
      }
     },
     "23242f0b8c324c04b28740701db618b7": {
      "model_module": "@jupyter-widgets/controls",
      "model_module_version": "2.0.0",
      "model_name": "HBoxModel",
      "state": {
       "children": [
        "IPY_MODEL_802c5562f59f42ef96997de1b9feb3b5",
        "IPY_MODEL_5082c28037254c02a2c7b11b1fec3d24",
        "IPY_MODEL_cb08a9ff3d324eb28b1c29892c887232"
       ],
       "layout": "IPY_MODEL_01d8b4a699f146feb03b588bf69025c8"
      }
     },
     "23305649c3294c339f312c5895d8215e": {
      "model_module": "@jupyter-widgets/base",
      "model_module_version": "2.0.0",
      "model_name": "LayoutModel",
      "state": {}
     },
     "234e24831a0f4f43bc69f819aff734ef": {
      "model_module": "@jupyter-widgets/base",
      "model_module_version": "2.0.0",
      "model_name": "LayoutModel",
      "state": {}
     },
     "23d02aee6f02490688abd31c971c5a82": {
      "model_module": "@jupyter-widgets/controls",
      "model_module_version": "2.0.0",
      "model_name": "DescriptionStyleModel",
      "state": {
       "description_width": ""
      }
     },
     "23f649b8681c4860bb7c7d5a1e876cac": {
      "model_module": "@jupyter-widgets/base",
      "model_module_version": "2.0.0",
      "model_name": "LayoutModel",
      "state": {}
     },
     "23ff1d5181ff474a8548c4341dace698": {
      "model_module": "@jupyter-widgets/controls",
      "model_module_version": "2.0.0",
      "model_name": "DescriptionStyleModel",
      "state": {
       "description_width": ""
      }
     },
     "240ac9bfcfca4ee1b8552b0aa6b1c30d": {
      "model_module": "@jupyter-widgets/base",
      "model_module_version": "2.0.0",
      "model_name": "LayoutModel",
      "state": {}
     },
     "2493d03c7bd34717904cab4538dd29ad": {
      "model_module": "@jupyter-widgets/base",
      "model_module_version": "2.0.0",
      "model_name": "LayoutModel",
      "state": {}
     },
     "24aeaa95de3f4885976b8a9a38c9b3bf": {
      "model_module": "@jupyter-widgets/controls",
      "model_module_version": "2.0.0",
      "model_name": "ProgressStyleModel",
      "state": {
       "description_width": ""
      }
     },
     "2503dfb81f4847be8a2dd83ba9fce570": {
      "model_module": "@jupyter-widgets/base",
      "model_module_version": "2.0.0",
      "model_name": "LayoutModel",
      "state": {}
     },
     "2551adbdd0364fdcb7901efe8a24fbd1": {
      "model_module": "@jupyter-widgets/controls",
      "model_module_version": "2.0.0",
      "model_name": "FloatProgressModel",
      "state": {
       "bar_style": "success",
       "layout": "IPY_MODEL_a362902f497348d289d27ca0913068fe",
       "max": 3,
       "style": "IPY_MODEL_ab4c0e768492431bbb35ce04a23dce63",
       "value": 3
      }
     },
     "25604506d9dd4215b59f34d9b049de1a": {
      "model_module": "@jupyter-widgets/controls",
      "model_module_version": "2.0.0",
      "model_name": "HBoxModel",
      "state": {
       "children": [
        "IPY_MODEL_1004c413f391408aa53526d8882d9ea5",
        "IPY_MODEL_6ab2c800eaef42e4a286a0aab35ed190",
        "IPY_MODEL_e70f3c2d70b247df9fb2de2b32a22bdd"
       ],
       "layout": "IPY_MODEL_21d4e7e9c0ce4ddda97e55cf9f588e7c"
      }
     },
     "25903453397444dc8539ba4a20d941d7": {
      "model_module": "@jupyter-widgets/controls",
      "model_module_version": "2.0.0",
      "model_name": "FloatProgressModel",
      "state": {
       "bar_style": "success",
       "layout": "IPY_MODEL_bcd1686c6e77476086983a24fa87b982",
       "max": 14,
       "style": "IPY_MODEL_63496197b64c4981aa1841e5dd0ed3a2",
       "value": 14
      }
     },
     "25c6f48933ff4136bbdfb125b1cd897e": {
      "model_module": "@jupyter-widgets/controls",
      "model_module_version": "2.0.0",
      "model_name": "HTMLModel",
      "state": {
       "layout": "IPY_MODEL_cc70f9b3c01c457b99cccc2760db08c8",
       "style": "IPY_MODEL_672d456870d44b42957d9ad3669127cc",
       "value": " 3/3 [00:10&lt;00:00,  4.27s/it]"
      }
     },
     "2675acb784a64d10b3c0d15cb32666e4": {
      "model_module": "@jupyter-widgets/base",
      "model_module_version": "2.0.0",
      "model_name": "LayoutModel",
      "state": {}
     },
     "2687f4e65b9f494d85e66a18985cc115": {
      "model_module": "@jupyter-widgets/controls",
      "model_module_version": "2.0.0",
      "model_name": "HTMLModel",
      "state": {
       "layout": "IPY_MODEL_1738612afc9045d2aacc3f7bf1bf54c1",
       "style": "IPY_MODEL_d46e3a69176d4082bb5494990e3ecd88",
       "value": " 6/6 [00:08&lt;00:00,  1.97s/it]"
      }
     },
     "269217df1e414f15bbce58c8f7f3d364": {
      "model_module": "@jupyter-widgets/base",
      "model_module_version": "2.0.0",
      "model_name": "LayoutModel",
      "state": {}
     },
     "269c6b9560904cc29f2828362cebce81": {
      "model_module": "@jupyter-widgets/controls",
      "model_module_version": "2.0.0",
      "model_name": "HTMLStyleModel",
      "state": {
       "description_width": "",
       "font_size": null,
       "text_color": null
      }
     },
     "26ee41edcc1d4611b2c3bf8d590a98f1": {
      "model_module": "@jupyter-widgets/base",
      "model_module_version": "2.0.0",
      "model_name": "LayoutModel",
      "state": {}
     },
     "271558bdfe944780b3e8a65d2bfe1626": {
      "model_module": "@jupyter-widgets/base",
      "model_module_version": "2.0.0",
      "model_name": "LayoutModel",
      "state": {}
     },
     "271e20a9175e435b9e432bb49ff28515": {
      "model_module": "@jupyter-widgets/base",
      "model_module_version": "2.0.0",
      "model_name": "LayoutModel",
      "state": {}
     },
     "273b1ed998a24d33896bf669abd17f2d": {
      "model_module": "@jupyter-widgets/controls",
      "model_module_version": "2.0.0",
      "model_name": "HTMLModel",
      "state": {
       "layout": "IPY_MODEL_09ee37cbf2df41f5b293113c69bb3a24",
       "style": "IPY_MODEL_506a403f0fdc4f9f8b85aa651285d720",
       "value": " 3/3 [00:10&lt;00:00,  4.07s/it]"
      }
     },
     "274cfec487e047da9460c594076afe69": {
      "model_module": "@jupyter-widgets/controls",
      "model_module_version": "2.0.0",
      "model_name": "HTMLStyleModel",
      "state": {
       "description_width": "",
       "font_size": null,
       "text_color": null
      }
     },
     "2763bab54f6b4f9b9850c8136f67ce38": {
      "model_module": "@jupyter-widgets/controls",
      "model_module_version": "2.0.0",
      "model_name": "ProgressStyleModel",
      "state": {
       "description_width": ""
      }
     },
     "276ce3320f1349639ffd64105f12b350": {
      "model_module": "@jupyter-widgets/base",
      "model_module_version": "2.0.0",
      "model_name": "LayoutModel",
      "state": {}
     },
     "277200fb6799495b95bad3fe02217797": {
      "model_module": "@jupyter-widgets/controls",
      "model_module_version": "2.0.0",
      "model_name": "HBoxModel",
      "state": {
       "children": [
        "IPY_MODEL_4702939ba6f34c9b95242c92bc25156a",
        "IPY_MODEL_f1e99bec5c1a4eb288eb61fa64cd9703",
        "IPY_MODEL_ab8f355ae7164f8b8c9686ea6c91a7a6"
       ],
       "layout": "IPY_MODEL_54c1c14ecefb49e9b1f7fd2138320a0d"
      }
     },
     "2796d4640e4c4e929e33d1c64b9f54fc": {
      "model_module": "@jupyter-widgets/controls",
      "model_module_version": "2.0.0",
      "model_name": "HTMLModel",
      "state": {
       "layout": "IPY_MODEL_ce1f0f894a92465db9af08981e3b5c55",
       "style": "IPY_MODEL_e6601afb4f444433a8d2e37f465f45ab",
       "value": " 8/14 [00:15&lt;00:17,  2.86s/it]"
      }
     },
     "27eeaee083424c1f81fecc56dea27a6d": {
      "model_module": "@jupyter-widgets/controls",
      "model_module_version": "2.0.0",
      "model_name": "FloatProgressModel",
      "state": {
       "bar_style": "success",
       "layout": "IPY_MODEL_23f649b8681c4860bb7c7d5a1e876cac",
       "max": 14,
       "style": "IPY_MODEL_b6148f8af3974dfd862a9b5fe1ab3bd7",
       "value": 14
      }
     },
     "2820391b62434f3d8c4aaf1ce302cf30": {
      "model_module": "@jupyter-widgets/controls",
      "model_module_version": "2.0.0",
      "model_name": "HBoxModel",
      "state": {
       "children": [
        "IPY_MODEL_06e417298e2e4c93bfd44db90d47d077",
        "IPY_MODEL_16db80d7528e45a79bb7708b65544c05",
        "IPY_MODEL_b56f52d366d44191901d75a4215ee301"
       ],
       "layout": "IPY_MODEL_90220a88101d49e888b6f83bfb6df436"
      }
     },
     "287a7573648040f38d693b279d747f3b": {
      "model_module": "@jupyter-widgets/controls",
      "model_module_version": "2.0.0",
      "model_name": "DescriptionStyleModel",
      "state": {
       "description_width": ""
      }
     },
     "28d7d40964e34064a071c4f266111d5e": {
      "model_module": "@jupyter-widgets/controls",
      "model_module_version": "2.0.0",
      "model_name": "HTMLModel",
      "state": {
       "layout": "IPY_MODEL_a05d377b458949ba8d7dfb4733c297c6",
       "style": "IPY_MODEL_9f05b8a4032d4eeaa91f17c8df6043fd",
       "value": " 14/14 [00:34&lt;00:00,  2.58s/it]"
      }
     },
     "291c07312d7647979fa567eec843280e": {
      "model_module": "@jupyter-widgets/base",
      "model_module_version": "2.0.0",
      "model_name": "LayoutModel",
      "state": {}
     },
     "295a8a63e0a94d208ade3affb9d68e12": {
      "model_module": "@jupyter-widgets/controls",
      "model_module_version": "2.0.0",
      "model_name": "FloatProgressModel",
      "state": {
       "bar_style": "success",
       "layout": "IPY_MODEL_9ac45458d0f9497bac72211e8da9c1ce",
       "max": 14,
       "style": "IPY_MODEL_6ce6dc7f238243caaf36f8495409d552",
       "value": 14
      }
     },
     "298d55ec99f54dcd8e73ef8eba7e4595": {
      "model_module": "@jupyter-widgets/controls",
      "model_module_version": "2.0.0",
      "model_name": "FloatProgressModel",
      "state": {
       "bar_style": "success",
       "layout": "IPY_MODEL_3454421d51a5473faae3117d722bcde8",
       "max": 3,
       "style": "IPY_MODEL_ceb09d33dd824785acf3458f0f6f5b90",
       "value": 3
      }
     },
     "2a1b43fb3d5e41dbaad395e88d69dc17": {
      "model_module": "@jupyter-widgets/controls",
      "model_module_version": "2.0.0",
      "model_name": "DescriptionStyleModel",
      "state": {
       "description_width": ""
      }
     },
     "2a2a37aad76a438cae578d3ae288b46b": {
      "model_module": "@jupyter-widgets/base",
      "model_module_version": "2.0.0",
      "model_name": "LayoutModel",
      "state": {}
     },
     "2a462a43f7d74fce8b387d4a583712ec": {
      "model_module": "@jupyter-widgets/base",
      "model_module_version": "2.0.0",
      "model_name": "LayoutModel",
      "state": {}
     },
     "2a65240a15d4499fbd0cf942492a4711": {
      "model_module": "@jupyter-widgets/controls",
      "model_module_version": "2.0.0",
      "model_name": "HBoxModel",
      "state": {
       "children": [
        "IPY_MODEL_e2bebc0e11bb4c67b655a2bb0e52d17c",
        "IPY_MODEL_295a8a63e0a94d208ade3affb9d68e12",
        "IPY_MODEL_74b05596216a49a1b150b9be0061ffef"
       ],
       "layout": "IPY_MODEL_0264a0f5edbd4d84b646529d5900ab46"
      }
     },
     "2a75bc70851b42b69eacea7343414dbb": {
      "model_module": "@jupyter-widgets/controls",
      "model_module_version": "2.0.0",
      "model_name": "DescriptionStyleModel",
      "state": {
       "description_width": ""
      }
     },
     "2b00516e0d2f4aa38eb103470d68f748": {
      "model_module": "@jupyter-widgets/controls",
      "model_module_version": "2.0.0",
      "model_name": "HTMLModel",
      "state": {
       "layout": "IPY_MODEL_3cda17e2deb342b08a1a07c1f5b64474",
       "style": "IPY_MODEL_97d2f02d0fb04261aec409b6acb27725",
       "value": "100%"
      }
     },
     "2b06f801070a48a5bb5f39f5577cf5f1": {
      "model_module": "@jupyter-widgets/controls",
      "model_module_version": "2.0.0",
      "model_name": "HTMLModel",
      "state": {
       "layout": "IPY_MODEL_539f0d72dd3543fbad79611d9f1bd031",
       "style": "IPY_MODEL_55e7a37abac24908961c342bc93befe3",
       "value": "100%"
      }
     },
     "2bde0fcb4f0c49e49f7641beef0d42bf": {
      "model_module": "@jupyter-widgets/controls",
      "model_module_version": "2.0.0",
      "model_name": "HBoxModel",
      "state": {
       "children": [
        "IPY_MODEL_a92590bf59d342f794d3708da665facf",
        "IPY_MODEL_d828002b1a404756b8f9dbfc96b1ffc1",
        "IPY_MODEL_8f744712f1da42b693089113de819dfb"
       ],
       "layout": "IPY_MODEL_1afd9b14111e46ce980a6e0b1d6e4560"
      }
     },
     "2cede2330d884562a62166d0d62dcd9b": {
      "model_module": "@jupyter-widgets/controls",
      "model_module_version": "2.0.0",
      "model_name": "HTMLModel",
      "state": {
       "layout": "IPY_MODEL_384d6f8e187a4707b65a2681e16fe7c3",
       "style": "IPY_MODEL_009b2957b305415891bb4aed8cebb918",
       "value": "100%"
      }
     },
     "2d314896d673436ca34fb2700ce24e3f": {
      "model_module": "@jupyter-widgets/controls",
      "model_module_version": "2.0.0",
      "model_name": "ProgressStyleModel",
      "state": {
       "description_width": ""
      }
     },
     "2d3c1b2fd2cc4a93801046220e37b45b": {
      "model_module": "@jupyter-widgets/controls",
      "model_module_version": "2.0.0",
      "model_name": "HBoxModel",
      "state": {
       "children": [
        "IPY_MODEL_ff7181daebce46c8a92713b3908a3645",
        "IPY_MODEL_306500c09d4a4504b0e75f825b372fb8",
        "IPY_MODEL_32176fcf74d844e6b25ff2e5158bb5eb"
       ],
       "layout": "IPY_MODEL_801c18dea9304ecbb6bb0636069827d4"
      }
     },
     "2d42c6d71c264d4b9b14ffa02a354d67": {
      "model_module": "@jupyter-widgets/base",
      "model_module_version": "2.0.0",
      "model_name": "LayoutModel",
      "state": {}
     },
     "2dadb4f5dece4bcc8627747de19f2efb": {
      "model_module": "@jupyter-widgets/controls",
      "model_module_version": "2.0.0",
      "model_name": "ProgressStyleModel",
      "state": {
       "description_width": ""
      }
     },
     "2e67d915b16444b9b3a482f2cd5cc527": {
      "model_module": "@jupyter-widgets/base",
      "model_module_version": "2.0.0",
      "model_name": "LayoutModel",
      "state": {}
     },
     "2ea3d3d9620148b8b3d58795d768afb2": {
      "model_module": "@jupyter-widgets/base",
      "model_module_version": "2.0.0",
      "model_name": "LayoutModel",
      "state": {}
     },
     "2efac13743ad48a393316dbb618326c8": {
      "model_module": "@jupyter-widgets/base",
      "model_module_version": "2.0.0",
      "model_name": "LayoutModel",
      "state": {}
     },
     "2f5c5af2a7194cbe9dede0e4b86308d8": {
      "model_module": "@jupyter-widgets/base",
      "model_module_version": "2.0.0",
      "model_name": "LayoutModel",
      "state": {}
     },
     "2feda786b216462abb1de9b6c3309cd7": {
      "model_module": "@jupyter-widgets/controls",
      "model_module_version": "2.0.0",
      "model_name": "HBoxModel",
      "state": {
       "children": [
        "IPY_MODEL_e98c8a8741464f7d89d4b1b0c4ba928e",
        "IPY_MODEL_71c16ffe2b024132b2cf659c64ff8904",
        "IPY_MODEL_cbe0ed1b6adb4f9ab4b90bafbb80e6c2"
       ],
       "layout": "IPY_MODEL_3611cc15566d491ea3d1ecf6979ec2fc"
      }
     },
     "3007aa1f6ee741e29dae0f62533f5049": {
      "model_module": "@jupyter-widgets/controls",
      "model_module_version": "2.0.0",
      "model_name": "DescriptionStyleModel",
      "state": {
       "description_width": ""
      }
     },
     "305aca9f3f244ad0b9b26ed91ec3af33": {
      "model_module": "@jupyter-widgets/base",
      "model_module_version": "2.0.0",
      "model_name": "LayoutModel",
      "state": {}
     },
     "306500c09d4a4504b0e75f825b372fb8": {
      "model_module": "@jupyter-widgets/controls",
      "model_module_version": "2.0.0",
      "model_name": "FloatProgressModel",
      "state": {
       "bar_style": "success",
       "layout": "IPY_MODEL_4627a97cda92444ba7641b387f1ae6bc",
       "max": 8,
       "style": "IPY_MODEL_bf2f79d4b8554fe0a9096bcceea7454d",
       "value": 8
      }
     },
     "30713ba3edd24ada839b9c13e1c290ff": {
      "model_module": "@jupyter-widgets/controls",
      "model_module_version": "2.0.0",
      "model_name": "HBoxModel",
      "state": {
       "children": [
        "IPY_MODEL_320e498a8ce44472bed31c2cb114f16d",
        "IPY_MODEL_3b059e86837346c498a31efea6bf754f",
        "IPY_MODEL_ba7005dc539b433c853dc0d5edf5deb3"
       ],
       "layout": "IPY_MODEL_f8f2b91fd5f749c1a9005b5678f313bc"
      }
     },
     "3088d09c6b51431da8feba468e073631": {
      "model_module": "@jupyter-widgets/base",
      "model_module_version": "2.0.0",
      "model_name": "LayoutModel",
      "state": {}
     },
     "3095d5471968403f8ffde3590444ba81": {
      "model_module": "@jupyter-widgets/base",
      "model_module_version": "2.0.0",
      "model_name": "LayoutModel",
      "state": {}
     },
     "30abf8ccf99543268d1324b1c5b5ed78": {
      "model_module": "@jupyter-widgets/base",
      "model_module_version": "2.0.0",
      "model_name": "LayoutModel",
      "state": {}
     },
     "30ea388980cf4a02882332baed3e3218": {
      "model_module": "@jupyter-widgets/controls",
      "model_module_version": "2.0.0",
      "model_name": "HBoxModel",
      "state": {
       "children": [
        "IPY_MODEL_adeb3d409ce9403b90fbd2fabd5b7981",
        "IPY_MODEL_0b1b5e2e830e40bb969f2adc1614aea5",
        "IPY_MODEL_9bd67eb962624cffae4c442e70298f11"
       ],
       "layout": "IPY_MODEL_2f5c5af2a7194cbe9dede0e4b86308d8"
      }
     },
     "30ebffb12b0f4b59abeb9b83b0a6fbdc": {
      "model_module": "@jupyter-widgets/base",
      "model_module_version": "2.0.0",
      "model_name": "LayoutModel",
      "state": {}
     },
     "30edfff582484b6493b79792a84b5d78": {
      "model_module": "@jupyter-widgets/base",
      "model_module_version": "2.0.0",
      "model_name": "LayoutModel",
      "state": {}
     },
     "310227bd46d14740a6e6c01f119281fe": {
      "model_module": "@jupyter-widgets/base",
      "model_module_version": "2.0.0",
      "model_name": "LayoutModel",
      "state": {}
     },
     "313184218519478e81dcb94e3da68a3e": {
      "model_module": "@jupyter-widgets/base",
      "model_module_version": "2.0.0",
      "model_name": "LayoutModel",
      "state": {}
     },
     "317058f3878e4108b4079aa84dd60582": {
      "model_module": "@jupyter-widgets/controls",
      "model_module_version": "2.0.0",
      "model_name": "HBoxModel",
      "state": {
       "children": [
        "IPY_MODEL_5d095f99d4c945618fe22682b2919f7f",
        "IPY_MODEL_b42c1ce5b32b407192f3a3d0cc1e8d5c",
        "IPY_MODEL_c699b778decd49ad962699ab3183abb0"
       ],
       "layout": "IPY_MODEL_4936dc8dbc6d405c956ddce5f6a5221e"
      }
     },
     "3178ada1cf22496f9e0de37eba7c5d31": {
      "model_module": "@jupyter-widgets/controls",
      "model_module_version": "2.0.0",
      "model_name": "HTMLModel",
      "state": {
       "layout": "IPY_MODEL_0a8273abf4b04fcfa266ece21ec57dc2",
       "style": "IPY_MODEL_eb0aa6c7a1894f94bcde787892e4921b",
       "value": "100%"
      }
     },
     "317d72de13f547c78f6388a685253365": {
      "model_module": "@jupyter-widgets/controls",
      "model_module_version": "2.0.0",
      "model_name": "DescriptionStyleModel",
      "state": {
       "description_width": ""
      }
     },
     "317facdbf72e446fb5da04ed0647fdad": {
      "model_module": "@jupyter-widgets/base",
      "model_module_version": "2.0.0",
      "model_name": "LayoutModel",
      "state": {}
     },
     "31ad866963ca421385351d2b52b2465d": {
      "model_module": "@jupyter-widgets/controls",
      "model_module_version": "2.0.0",
      "model_name": "HTMLModel",
      "state": {
       "layout": "IPY_MODEL_4b8fe3f450344df59adf09dfde46461c",
       "style": "IPY_MODEL_f02c4f5a3cc94e6a894dfcdd90c4a76c",
       "value": "100%"
      }
     },
     "31b974d56faf4275a2224373ca792f0c": {
      "model_module": "@jupyter-widgets/controls",
      "model_module_version": "2.0.0",
      "model_name": "HTMLStyleModel",
      "state": {
       "description_width": "",
       "font_size": null,
       "text_color": null
      }
     },
     "320e498a8ce44472bed31c2cb114f16d": {
      "model_module": "@jupyter-widgets/controls",
      "model_module_version": "2.0.0",
      "model_name": "HTMLModel",
      "state": {
       "layout": "IPY_MODEL_7e6cc6a679764955ae923d5a7ffce52d",
       "style": "IPY_MODEL_b24610b68ced4adca0b9b6b56cd9fbbc",
       "value": "100%"
      }
     },
     "32176fcf74d844e6b25ff2e5158bb5eb": {
      "model_module": "@jupyter-widgets/controls",
      "model_module_version": "2.0.0",
      "model_name": "HTMLModel",
      "state": {
       "layout": "IPY_MODEL_d1d58a82f6344ab2a101af2e41334a21",
       "style": "IPY_MODEL_af321bf03d344ab5bbf27ecfd4df46e1",
       "value": " 8/8 [00:31&lt;00:00,  4.88s/it]"
      }
     },
     "323409be01bc4fac9783bd8238d5b4de": {
      "model_module": "@jupyter-widgets/base",
      "model_module_version": "2.0.0",
      "model_name": "LayoutModel",
      "state": {}
     },
     "3282bc86098446bebd1e8f06a0a2af04": {
      "model_module": "@jupyter-widgets/controls",
      "model_module_version": "2.0.0",
      "model_name": "DescriptionStyleModel",
      "state": {
       "description_width": ""
      }
     },
     "32e522644e3548eeb2a61abd4431c1dc": {
      "model_module": "@jupyter-widgets/base",
      "model_module_version": "2.0.0",
      "model_name": "LayoutModel",
      "state": {}
     },
     "3304e1dd48ff49ecb920ff68b7dbacaa": {
      "model_module": "@jupyter-widgets/base",
      "model_module_version": "2.0.0",
      "model_name": "LayoutModel",
      "state": {}
     },
     "332676bbba814a449eedc22d227442ce": {
      "model_module": "@jupyter-widgets/controls",
      "model_module_version": "2.0.0",
      "model_name": "ProgressStyleModel",
      "state": {
       "description_width": ""
      }
     },
     "332e05a71fd2414fab6ab38afc22187c": {
      "model_module": "@jupyter-widgets/controls",
      "model_module_version": "2.0.0",
      "model_name": "HTMLModel",
      "state": {
       "layout": "IPY_MODEL_58e730ffdfd4482091cdaf8077d0cb8d",
       "style": "IPY_MODEL_85d9ce7fbbea4356a2844cb8e9bd2564",
       "value": "100%"
      }
     },
     "334435f8ee8b43159cafd77d58d41c79": {
      "model_module": "@jupyter-widgets/controls",
      "model_module_version": "2.0.0",
      "model_name": "ProgressStyleModel",
      "state": {
       "description_width": ""
      }
     },
     "334b08b1d51a4a27ba72938258be0194": {
      "model_module": "@jupyter-widgets/controls",
      "model_module_version": "2.0.0",
      "model_name": "HTMLStyleModel",
      "state": {
       "description_width": "",
       "font_size": null,
       "text_color": null
      }
     },
     "335359af048044b68a622eeed260338f": {
      "model_module": "@jupyter-widgets/controls",
      "model_module_version": "2.0.0",
      "model_name": "HTMLModel",
      "state": {
       "layout": "IPY_MODEL_caae53edbd58462cbc39966b1649dff7",
       "style": "IPY_MODEL_aa3734b8439c46588fafe5f7b191bb02",
       "value": " 57%"
      }
     },
     "335ac4086e8e40ea906ff302e06b35ec": {
      "model_module": "@jupyter-widgets/base",
      "model_module_version": "2.0.0",
      "model_name": "LayoutModel",
      "state": {}
     },
     "33e227418c11451eaa71da98a73824de": {
      "model_module": "@jupyter-widgets/base",
      "model_module_version": "2.0.0",
      "model_name": "LayoutModel",
      "state": {}
     },
     "3417b3ebb03f4797818201cd315cc5d6": {
      "model_module": "@jupyter-widgets/controls",
      "model_module_version": "2.0.0",
      "model_name": "HTMLModel",
      "state": {
       "layout": "IPY_MODEL_625a723425fa4d9990a4c0a5613fc01c",
       "style": "IPY_MODEL_e9851f713d7243c19f16d596d8687237",
       "value": "100%"
      }
     },
     "341a7cfa9b9240699db09f61bf95cb69": {
      "model_module": "@jupyter-widgets/controls",
      "model_module_version": "2.0.0",
      "model_name": "FloatProgressModel",
      "state": {
       "bar_style": "success",
       "layout": "IPY_MODEL_47338d97ff134b4ba576a42cb2a64c8d",
       "max": 3,
       "style": "IPY_MODEL_e1c181b12aa041edae8c0265a09202d8",
       "value": 3
      }
     },
     "3454421d51a5473faae3117d722bcde8": {
      "model_module": "@jupyter-widgets/base",
      "model_module_version": "2.0.0",
      "model_name": "LayoutModel",
      "state": {}
     },
     "34606ce89b63484aad57b4a2d451950c": {
      "model_module": "@jupyter-widgets/controls",
      "model_module_version": "2.0.0",
      "model_name": "HTMLModel",
      "state": {
       "layout": "IPY_MODEL_49c8c6d9bde6402bb4136d37f94c0fee",
       "style": "IPY_MODEL_c25231556e594901b84222ec98cfa76c",
       "value": "100%"
      }
     },
     "348a6bbab1df499393ae546399d44ddd": {
      "model_module": "@jupyter-widgets/controls",
      "model_module_version": "2.0.0",
      "model_name": "FloatProgressModel",
      "state": {
       "bar_style": "success",
       "layout": "IPY_MODEL_10ea0838335d4ae1bb579ef325c49f1d",
       "max": 6,
       "style": "IPY_MODEL_12376590b1cc4543ba04cb2c3624454c",
       "value": 6
      }
     },
     "354441ea960046e78181c0039137b821": {
      "model_module": "@jupyter-widgets/base",
      "model_module_version": "2.0.0",
      "model_name": "LayoutModel",
      "state": {}
     },
     "35a3c9c7f0a84db7b11166c968c8e8c5": {
      "model_module": "@jupyter-widgets/base",
      "model_module_version": "2.0.0",
      "model_name": "LayoutModel",
      "state": {}
     },
     "3611cc15566d491ea3d1ecf6979ec2fc": {
      "model_module": "@jupyter-widgets/base",
      "model_module_version": "2.0.0",
      "model_name": "LayoutModel",
      "state": {}
     },
     "361f76237aa24315b59c5ca16a22a090": {
      "model_module": "@jupyter-widgets/controls",
      "model_module_version": "2.0.0",
      "model_name": "HTMLModel",
      "state": {
       "layout": "IPY_MODEL_ce39bf113fa24c5a9c3d66bf8827fbe9",
       "style": "IPY_MODEL_cd5ec6a0899a4ec3bf44ab5113ec9831",
       "value": " 6/6 [00:11&lt;00:00,  2.81s/it]"
      }
     },
     "36b244b936554e89b66a62ccb92cddff": {
      "model_module": "@jupyter-widgets/controls",
      "model_module_version": "2.0.0",
      "model_name": "HTMLModel",
      "state": {
       "layout": "IPY_MODEL_ee859f8513d14fd2a184aee7c23944ab",
       "style": "IPY_MODEL_e3bb59a05fb8415c83eb1f0ab2bfbf5f",
       "value": "100%"
      }
     },
     "376f7f735cd6494b93669863dd2219d1": {
      "model_module": "@jupyter-widgets/controls",
      "model_module_version": "2.0.0",
      "model_name": "ProgressStyleModel",
      "state": {
       "description_width": ""
      }
     },
     "384d6f8e187a4707b65a2681e16fe7c3": {
      "model_module": "@jupyter-widgets/base",
      "model_module_version": "2.0.0",
      "model_name": "LayoutModel",
      "state": {}
     },
     "385052d0c22a494c95a54f3ec5ca9ea2": {
      "model_module": "@jupyter-widgets/base",
      "model_module_version": "2.0.0",
      "model_name": "LayoutModel",
      "state": {}
     },
     "38b365b1201f4397953d51a62aaf4e80": {
      "model_module": "@jupyter-widgets/controls",
      "model_module_version": "2.0.0",
      "model_name": "HTMLStyleModel",
      "state": {
       "description_width": "",
       "font_size": null,
       "text_color": null
      }
     },
     "38b3f926069543699e7356d6fb50128f": {
      "model_module": "@jupyter-widgets/base",
      "model_module_version": "2.0.0",
      "model_name": "LayoutModel",
      "state": {}
     },
     "394586c584cb4ba4a4e8e82ff2f12879": {
      "model_module": "@jupyter-widgets/controls",
      "model_module_version": "2.0.0",
      "model_name": "HTMLModel",
      "state": {
       "layout": "IPY_MODEL_03cf710d075a49579d410930b6fbacf4",
       "style": "IPY_MODEL_1d1d0262b04541a6a88b8cfc2026e946",
       "value": "100%"
      }
     },
     "39492984205c40f9a2c80345c5accd4d": {
      "model_module": "@jupyter-widgets/base",
      "model_module_version": "2.0.0",
      "model_name": "LayoutModel",
      "state": {}
     },
     "3979d488f5ca4bb7b9752f190f516e49": {
      "model_module": "@jupyter-widgets/base",
      "model_module_version": "2.0.0",
      "model_name": "LayoutModel",
      "state": {}
     },
     "39954bc2a54d43c78994d415f66343e6": {
      "model_module": "@jupyter-widgets/base",
      "model_module_version": "2.0.0",
      "model_name": "LayoutModel",
      "state": {}
     },
     "39ba132769b346d3807f8ffdb35ef4ef": {
      "model_module": "@jupyter-widgets/controls",
      "model_module_version": "2.0.0",
      "model_name": "HTMLModel",
      "state": {
       "layout": "IPY_MODEL_e67dee11d433417985572ac96d041333",
       "style": "IPY_MODEL_e11500d7c68642fbb6c1587fa476ab91",
       "value": "100%"
      }
     },
     "3a71f9045ef64b82ae273c50b5be2d91": {
      "model_module": "@jupyter-widgets/controls",
      "model_module_version": "2.0.0",
      "model_name": "DescriptionStyleModel",
      "state": {
       "description_width": ""
      }
     },
     "3b059e86837346c498a31efea6bf754f": {
      "model_module": "@jupyter-widgets/controls",
      "model_module_version": "2.0.0",
      "model_name": "FloatProgressModel",
      "state": {
       "bar_style": "success",
       "layout": "IPY_MODEL_420b0dcef4f141b690b67d4328cbe628",
       "max": 6,
       "style": "IPY_MODEL_0955482db7ea401daacc4b71171b4096",
       "value": 6
      }
     },
     "3b0a2073456e43cbbc07113f5a06cd57": {
      "model_module": "@jupyter-widgets/base",
      "model_module_version": "2.0.0",
      "model_name": "LayoutModel",
      "state": {}
     },
     "3bf48ed08eed4ac5a645a04c7acea2f0": {
      "model_module": "@jupyter-widgets/controls",
      "model_module_version": "2.0.0",
      "model_name": "ProgressStyleModel",
      "state": {
       "description_width": ""
      }
     },
     "3c3b7115d2d34299bac7a54a435f0f3c": {
      "model_module": "@jupyter-widgets/base",
      "model_module_version": "2.0.0",
      "model_name": "LayoutModel",
      "state": {}
     },
     "3cc770638fe64170b64f98ec87ea9bbb": {
      "model_module": "@jupyter-widgets/controls",
      "model_module_version": "2.0.0",
      "model_name": "HTMLStyleModel",
      "state": {
       "description_width": "",
       "font_size": null,
       "text_color": null
      }
     },
     "3cc8526128264bb280238503853a9de7": {
      "model_module": "@jupyter-widgets/controls",
      "model_module_version": "2.0.0",
      "model_name": "DescriptionStyleModel",
      "state": {
       "description_width": ""
      }
     },
     "3cda17e2deb342b08a1a07c1f5b64474": {
      "model_module": "@jupyter-widgets/base",
      "model_module_version": "2.0.0",
      "model_name": "LayoutModel",
      "state": {}
     },
     "3d11387ee5bf45a7841f88bcba010856": {
      "model_module": "@jupyter-widgets/controls",
      "model_module_version": "2.0.0",
      "model_name": "FloatProgressModel",
      "state": {
       "bar_style": "success",
       "layout": "IPY_MODEL_7a28907fd43d4e51b721aa9335b3ddd1",
       "max": 6,
       "style": "IPY_MODEL_4f1b62d56e4841a0b8a437b1e7082159",
       "value": 6
      }
     },
     "3d166a7aee6444dbaa8ad4fbe9667ab8": {
      "model_module": "@jupyter-widgets/controls",
      "model_module_version": "2.0.0",
      "model_name": "FloatProgressModel",
      "state": {
       "bar_style": "success",
       "layout": "IPY_MODEL_30abf8ccf99543268d1324b1c5b5ed78",
       "max": 3,
       "style": "IPY_MODEL_2763bab54f6b4f9b9850c8136f67ce38",
       "value": 3
      }
     },
     "3d1cac7f5ee04ba786173b125cae00a4": {
      "model_module": "@jupyter-widgets/base",
      "model_module_version": "2.0.0",
      "model_name": "LayoutModel",
      "state": {}
     },
     "3d47e1796585418ca1b913a20708cefa": {
      "model_module": "@jupyter-widgets/controls",
      "model_module_version": "2.0.0",
      "model_name": "ProgressStyleModel",
      "state": {
       "description_width": ""
      }
     },
     "3d636d403f39459285ec539924773592": {
      "model_module": "@jupyter-widgets/controls",
      "model_module_version": "2.0.0",
      "model_name": "HBoxModel",
      "state": {
       "children": [
        "IPY_MODEL_31ad866963ca421385351d2b52b2465d",
        "IPY_MODEL_d7d389b119e943efb26c211533ca5275",
        "IPY_MODEL_4b6bce95eb034f8fa39251884eef9197"
       ],
       "layout": "IPY_MODEL_d790f3b779934eee8348804dd22ba3c1"
      }
     },
     "3d9c0e4cf5424a148ed3f6045f692b24": {
      "model_module": "@jupyter-widgets/controls",
      "model_module_version": "2.0.0",
      "model_name": "HTMLModel",
      "state": {
       "layout": "IPY_MODEL_ae857c0ea2034768aaa19e883a3f5fae",
       "style": "IPY_MODEL_461586af515a4296b87a80fa580a2f99",
       "value": "100%"
      }
     },
     "3da353bac79d453282b17d5e84055538": {
      "model_module": "@jupyter-widgets/base",
      "model_module_version": "2.0.0",
      "model_name": "LayoutModel",
      "state": {}
     },
     "3ddf5925f06b4d429e4f92bd152b3bec": {
      "model_module": "@jupyter-widgets/controls",
      "model_module_version": "2.0.0",
      "model_name": "HTMLModel",
      "state": {
       "layout": "IPY_MODEL_3f5f678c463f4cde99c45b47248d772d",
       "style": "IPY_MODEL_d7436bd261a3403b974de6b6da39f46a",
       "value": "100%"
      }
     },
     "3e038dd87e8e4559b113c386a0626299": {
      "model_module": "@jupyter-widgets/base",
      "model_module_version": "2.0.0",
      "model_name": "LayoutModel",
      "state": {}
     },
     "3e0b8257b09045b9bb0d57dfa5fc8945": {
      "model_module": "@jupyter-widgets/controls",
      "model_module_version": "2.0.0",
      "model_name": "HTMLModel",
      "state": {
       "layout": "IPY_MODEL_ff6c51d38ade449d9351b3aa712bc22e",
       "style": "IPY_MODEL_3007aa1f6ee741e29dae0f62533f5049",
       "value": "100%"
      }
     },
     "3e19c07dc568400ab3ee08655136390e": {
      "model_module": "@jupyter-widgets/controls",
      "model_module_version": "2.0.0",
      "model_name": "HBoxModel",
      "state": {
       "children": [
        "IPY_MODEL_4a2153b7870843a388965c1d13988aa1",
        "IPY_MODEL_5e4ab518bc7f4437b2e0d4d180d3eb3d",
        "IPY_MODEL_f5b2aff67783436c98d18958c3462638"
       ],
       "layout": "IPY_MODEL_bd439efb587f416c88473e2207f1de00"
      }
     },
     "3e39b41de3b441b9bf4aca91849f83ba": {
      "model_module": "@jupyter-widgets/controls",
      "model_module_version": "2.0.0",
      "model_name": "HTMLModel",
      "state": {
       "layout": "IPY_MODEL_4479826179dd4a00a99758a09b765c55",
       "style": "IPY_MODEL_b9ac73cbe2ab47b6a925b4af56855006",
       "value": " 3/3 [00:10&lt;00:00,  4.21s/it]"
      }
     },
     "3e41b6f6cbc4447a8970ae9f5bb50caf": {
      "model_module": "@jupyter-widgets/controls",
      "model_module_version": "2.0.0",
      "model_name": "ProgressStyleModel",
      "state": {
       "description_width": ""
      }
     },
     "3e57f777247b4598b82b5d44f6a95f1f": {
      "model_module": "@jupyter-widgets/controls",
      "model_module_version": "2.0.0",
      "model_name": "FloatProgressModel",
      "state": {
       "bar_style": "danger",
       "layout": "IPY_MODEL_c8a1210993ec476fbde009309209fc35",
       "max": 6,
       "style": "IPY_MODEL_f8689e845c5447c398f87941c18b50cf"
      }
     },
     "3e652183e9194bbeb3771a9fb7244611": {
      "model_module": "@jupyter-widgets/base",
      "model_module_version": "2.0.0",
      "model_name": "LayoutModel",
      "state": {}
     },
     "3ed6c93787754b44a7cee52d4c2da14b": {
      "model_module": "@jupyter-widgets/controls",
      "model_module_version": "2.0.0",
      "model_name": "HBoxModel",
      "state": {
       "children": [
        "IPY_MODEL_ca08d7ee14214e2ebed567205b819df1",
        "IPY_MODEL_631932574a4f478698da5bfd889c15f2",
        "IPY_MODEL_273b1ed998a24d33896bf669abd17f2d"
       ],
       "layout": "IPY_MODEL_b5fb0353521943fcb24fee15656f0772"
      }
     },
     "3f0ca1a537944eababed72bd0d0b4031": {
      "model_module": "@jupyter-widgets/controls",
      "model_module_version": "2.0.0",
      "model_name": "DescriptionStyleModel",
      "state": {
       "description_width": ""
      }
     },
     "3f1e1583b7cc4b0d8c5bcff3dfaae02c": {
      "model_module": "@jupyter-widgets/base",
      "model_module_version": "2.0.0",
      "model_name": "LayoutModel",
      "state": {}
     },
     "3f5f678c463f4cde99c45b47248d772d": {
      "model_module": "@jupyter-widgets/base",
      "model_module_version": "2.0.0",
      "model_name": "LayoutModel",
      "state": {}
     },
     "3f5fc16ddecb4154990b5e1d937d9c61": {
      "model_module": "@jupyter-widgets/controls",
      "model_module_version": "2.0.0",
      "model_name": "HTMLStyleModel",
      "state": {
       "description_width": "",
       "font_size": null,
       "text_color": null
      }
     },
     "3f64a682d5ca417bb12d96354fe97ee4": {
      "model_module": "@jupyter-widgets/controls",
      "model_module_version": "2.0.0",
      "model_name": "DescriptionStyleModel",
      "state": {
       "description_width": ""
      }
     },
     "3f789c27308447d6b763ce0d90eb3663": {
      "model_module": "@jupyter-widgets/base",
      "model_module_version": "2.0.0",
      "model_name": "LayoutModel",
      "state": {}
     },
     "3f85e0c67a0d4d7cb0b7456565c6674c": {
      "model_module": "@jupyter-widgets/controls",
      "model_module_version": "2.0.0",
      "model_name": "HTMLModel",
      "state": {
       "layout": "IPY_MODEL_0ae180ce7c094699b73877331aa776d5",
       "style": "IPY_MODEL_7ac288d49970411bbc6f9fd4c48b352e",
       "value": " 6/6 [00:08&lt;00:00,  1.96s/it]"
      }
     },
     "3fddd002da7649749b34a9ec104055f6": {
      "model_module": "@jupyter-widgets/controls",
      "model_module_version": "2.0.0",
      "model_name": "HBoxModel",
      "state": {
       "children": [
        "IPY_MODEL_70960292e2904c71aaf0829c5276ff22",
        "IPY_MODEL_b959d2c248eb480db8aa79fc8a5cb534",
        "IPY_MODEL_687f590cf40747caabe161fa9d4c56bc"
       ],
       "layout": "IPY_MODEL_850b5faee343454caff7bcb954c1b297"
      }
     },
     "40ad493a779948fb877b8f1efbeb96ff": {
      "model_module": "@jupyter-widgets/controls",
      "model_module_version": "2.0.0",
      "model_name": "HTMLModel",
      "state": {
       "layout": "IPY_MODEL_d198ef45d5a04f10855f3477e5f4f784",
       "style": "IPY_MODEL_4d050a4d6d284e5fa00be4140da9ca05",
       "value": "100%"
      }
     },
     "4141feb5c5b04f67b14d782916cf2a43": {
      "model_module": "@jupyter-widgets/controls",
      "model_module_version": "2.0.0",
      "model_name": "HTMLStyleModel",
      "state": {
       "description_width": "",
       "font_size": null,
       "text_color": null
      }
     },
     "415a0ab04e254c019410b5f8792449de": {
      "model_module": "@jupyter-widgets/base",
      "model_module_version": "2.0.0",
      "model_name": "LayoutModel",
      "state": {}
     },
     "415ded97bd634a94aa9493edee1aef5e": {
      "model_module": "@jupyter-widgets/base",
      "model_module_version": "2.0.0",
      "model_name": "LayoutModel",
      "state": {}
     },
     "416740e46d6445bdab71fba20bb12459": {
      "model_module": "@jupyter-widgets/controls",
      "model_module_version": "2.0.0",
      "model_name": "ProgressStyleModel",
      "state": {
       "description_width": ""
      }
     },
     "417fab544a4646ed858872a9006749d0": {
      "model_module": "@jupyter-widgets/controls",
      "model_module_version": "2.0.0",
      "model_name": "HTMLModel",
      "state": {
       "layout": "IPY_MODEL_58366bed42f541dfadf9b3b57d005ecc",
       "style": "IPY_MODEL_a18db3fb7d924aaf9f82396754c998e8",
       "value": "100%"
      }
     },
     "41d2351da9f445548ea422ffb7bd70b8": {
      "model_module": "@jupyter-widgets/controls",
      "model_module_version": "2.0.0",
      "model_name": "ProgressStyleModel",
      "state": {
       "description_width": ""
      }
     },
     "42084ebcfb5c4a14bb1a8dccb70c02e7": {
      "model_module": "@jupyter-widgets/base",
      "model_module_version": "2.0.0",
      "model_name": "LayoutModel",
      "state": {}
     },
     "420b0dcef4f141b690b67d4328cbe628": {
      "model_module": "@jupyter-widgets/base",
      "model_module_version": "2.0.0",
      "model_name": "LayoutModel",
      "state": {}
     },
     "423dea1c8eb945b6a7163ee3148987c8": {
      "model_module": "@jupyter-widgets/controls",
      "model_module_version": "2.0.0",
      "model_name": "HBoxModel",
      "state": {
       "children": [
        "IPY_MODEL_394586c584cb4ba4a4e8e82ff2f12879",
        "IPY_MODEL_21f3def43b384e6aa18449eabe0dfc10",
        "IPY_MODEL_e532c67f1c5a459dbaf78b5d1c681376"
       ],
       "layout": "IPY_MODEL_633e8f4668c54e8796993e023cf93211"
      }
     },
     "4249d3d2ad154f738789fb624a8e0867": {
      "model_module": "@jupyter-widgets/base",
      "model_module_version": "2.0.0",
      "model_name": "LayoutModel",
      "state": {}
     },
     "42532cf335f84e91bc184fa3de80d781": {
      "model_module": "@jupyter-widgets/controls",
      "model_module_version": "2.0.0",
      "model_name": "HBoxModel",
      "state": {
       "children": [
        "IPY_MODEL_332e05a71fd2414fab6ab38afc22187c",
        "IPY_MODEL_799c2ce912b542fe9177159be2e714af",
        "IPY_MODEL_96b460c37817428197afea818ff1e4a5"
       ],
       "layout": "IPY_MODEL_313184218519478e81dcb94e3da68a3e"
      }
     },
     "42645fcaf4c64cf68824d93759c75bc8": {
      "model_module": "@jupyter-widgets/controls",
      "model_module_version": "2.0.0",
      "model_name": "HTMLModel",
      "state": {
       "layout": "IPY_MODEL_6947ec67f5c2497fa581f2f98be5d5b6",
       "style": "IPY_MODEL_d463b721d2be4341b9411cf03bac5304",
       "value": "100%"
      }
     },
     "426b1e6d2eb9431a90d9e84453cb2481": {
      "model_module": "@jupyter-widgets/base",
      "model_module_version": "2.0.0",
      "model_name": "LayoutModel",
      "state": {}
     },
     "430fec0f20bc4e7ebe830021f63dd731": {
      "model_module": "@jupyter-widgets/controls",
      "model_module_version": "2.0.0",
      "model_name": "FloatProgressModel",
      "state": {
       "bar_style": "success",
       "layout": "IPY_MODEL_8c9fb845d586409ebe1a3b099073ed87",
       "max": 3,
       "style": "IPY_MODEL_9853c5d67f5f48bb9813db5ee85adebb",
       "value": 3
      }
     },
     "4311cd0e553c47d9b70df4a18569c812": {
      "model_module": "@jupyter-widgets/base",
      "model_module_version": "2.0.0",
      "model_name": "LayoutModel",
      "state": {}
     },
     "4324a89963364b5987259e4f966771c2": {
      "model_module": "@jupyter-widgets/controls",
      "model_module_version": "2.0.0",
      "model_name": "HBoxModel",
      "state": {
       "children": [
        "IPY_MODEL_783ab5f1eaf04f2e9109c2425d8d2ce7",
        "IPY_MODEL_fdad8f8a394b4897a51e1509b9cafa80",
        "IPY_MODEL_2288d78992024f17b4c33d51aa323edd"
       ],
       "layout": "IPY_MODEL_e7c676f5f32c47ba9d376ed1e98d2579"
      }
     },
     "437853bb71fc48718a27425bc6fcd9c5": {
      "model_module": "@jupyter-widgets/controls",
      "model_module_version": "2.0.0",
      "model_name": "DescriptionStyleModel",
      "state": {
       "description_width": ""
      }
     },
     "43813cdb3cc948f49df4d4f3c7bbca4d": {
      "model_module": "@jupyter-widgets/controls",
      "model_module_version": "2.0.0",
      "model_name": "DescriptionStyleModel",
      "state": {
       "description_width": ""
      }
     },
     "4388f670ebb044a3a9838ebdc4c2a587": {
      "model_module": "@jupyter-widgets/controls",
      "model_module_version": "2.0.0",
      "model_name": "FloatProgressModel",
      "state": {
       "bar_style": "success",
       "layout": "IPY_MODEL_426b1e6d2eb9431a90d9e84453cb2481",
       "max": 8,
       "style": "IPY_MODEL_de728bf9065147a785cfed2cb35fefdb",
       "value": 8
      }
     },
     "4397d05cf65a4a3098f3fbc65ec9cf13": {
      "model_module": "@jupyter-widgets/controls",
      "model_module_version": "2.0.0",
      "model_name": "DescriptionStyleModel",
      "state": {
       "description_width": ""
      }
     },
     "43b0db65a5c244058d984db9272cbdbd": {
      "model_module": "@jupyter-widgets/controls",
      "model_module_version": "2.0.0",
      "model_name": "DescriptionStyleModel",
      "state": {
       "description_width": ""
      }
     },
     "43ea1b3882bd41068924670970a9c5e8": {
      "model_module": "@jupyter-widgets/controls",
      "model_module_version": "2.0.0",
      "model_name": "HTMLModel",
      "state": {
       "layout": "IPY_MODEL_1c4bcfb11581445a8d46ce754ec37180",
       "style": "IPY_MODEL_f1cfc5bb0898456ca8f5c538a609a70f",
       "value": "100%"
      }
     },
     "4423c92e6ab94b46b6f89bde9dddf3a8": {
      "model_module": "@jupyter-widgets/controls",
      "model_module_version": "2.0.0",
      "model_name": "DescriptionStyleModel",
      "state": {
       "description_width": ""
      }
     },
     "4479826179dd4a00a99758a09b765c55": {
      "model_module": "@jupyter-widgets/base",
      "model_module_version": "2.0.0",
      "model_name": "LayoutModel",
      "state": {}
     },
     "44d1cb966cd74d34b917a08160071f86": {
      "model_module": "@jupyter-widgets/base",
      "model_module_version": "2.0.0",
      "model_name": "LayoutModel",
      "state": {}
     },
     "44d5718f041c4cdf8b85c3e58a90c1e2": {
      "model_module": "@jupyter-widgets/controls",
      "model_module_version": "2.0.0",
      "model_name": "DescriptionStyleModel",
      "state": {
       "description_width": ""
      }
     },
     "44e53d99312544a4b17fe0145636ef45": {
      "model_module": "@jupyter-widgets/controls",
      "model_module_version": "2.0.0",
      "model_name": "HBoxModel",
      "state": {
       "children": [
        "IPY_MODEL_63a70b06ff4246d3819f71da3565aefd",
        "IPY_MODEL_b0abd16537734a9d99386e3c8da6b4b8",
        "IPY_MODEL_97bbbe30ec7f46b9aaa8e4ad4646ac93"
       ],
       "layout": "IPY_MODEL_51c0ffeb291c451e88c73009c996057f"
      }
     },
     "451473f4e335442db1280c3dafa1c5de": {
      "model_module": "@jupyter-widgets/controls",
      "model_module_version": "2.0.0",
      "model_name": "HTMLStyleModel",
      "state": {
       "description_width": "",
       "font_size": null,
       "text_color": null
      }
     },
     "45418625fe974d70bd43597a713421ee": {
      "model_module": "@jupyter-widgets/controls",
      "model_module_version": "2.0.0",
      "model_name": "HTMLStyleModel",
      "state": {
       "description_width": "",
       "font_size": null,
       "text_color": null
      }
     },
     "4553fb4f7c304feda4bdd2c6af136987": {
      "model_module": "@jupyter-widgets/controls",
      "model_module_version": "2.0.0",
      "model_name": "FloatProgressModel",
      "state": {
       "bar_style": "success",
       "layout": "IPY_MODEL_39492984205c40f9a2c80345c5accd4d",
       "max": 6,
       "style": "IPY_MODEL_376f7f735cd6494b93669863dd2219d1",
       "value": 6
      }
     },
     "4566d1e63f3940db9ec45156b6a840dc": {
      "model_module": "@jupyter-widgets/controls",
      "model_module_version": "2.0.0",
      "model_name": "DescriptionStyleModel",
      "state": {
       "description_width": ""
      }
     },
     "45f72b16772f40e081fb9d967266f68d": {
      "model_module": "@jupyter-widgets/base",
      "model_module_version": "2.0.0",
      "model_name": "LayoutModel",
      "state": {}
     },
     "461586af515a4296b87a80fa580a2f99": {
      "model_module": "@jupyter-widgets/controls",
      "model_module_version": "2.0.0",
      "model_name": "HTMLStyleModel",
      "state": {
       "description_width": "",
       "font_size": null,
       "text_color": null
      }
     },
     "4624434e462b4f3592aa0a3f3ada8c5d": {
      "model_module": "@jupyter-widgets/base",
      "model_module_version": "2.0.0",
      "model_name": "LayoutModel",
      "state": {}
     },
     "4627a97cda92444ba7641b387f1ae6bc": {
      "model_module": "@jupyter-widgets/base",
      "model_module_version": "2.0.0",
      "model_name": "LayoutModel",
      "state": {}
     },
     "4649dcb9189249368cf39bbc84f2235f": {
      "model_module": "@jupyter-widgets/base",
      "model_module_version": "2.0.0",
      "model_name": "LayoutModel",
      "state": {}
     },
     "4664fa510ec24a1f8e977e573fdb1129": {
      "model_module": "@jupyter-widgets/base",
      "model_module_version": "2.0.0",
      "model_name": "LayoutModel",
      "state": {}
     },
     "468581f8cddc4e7bb1610ac6320b66b7": {
      "model_module": "@jupyter-widgets/base",
      "model_module_version": "2.0.0",
      "model_name": "LayoutModel",
      "state": {}
     },
     "46b3e17002044bd187ddffcb137f8442": {
      "model_module": "@jupyter-widgets/base",
      "model_module_version": "2.0.0",
      "model_name": "LayoutModel",
      "state": {}
     },
     "46ebb4fddc664e87b0138b0620d90088": {
      "model_module": "@jupyter-widgets/base",
      "model_module_version": "2.0.0",
      "model_name": "LayoutModel",
      "state": {}
     },
     "46f145a243894c2d993c289862c13a8b": {
      "model_module": "@jupyter-widgets/base",
      "model_module_version": "2.0.0",
      "model_name": "LayoutModel",
      "state": {}
     },
     "4702939ba6f34c9b95242c92bc25156a": {
      "model_module": "@jupyter-widgets/controls",
      "model_module_version": "2.0.0",
      "model_name": "HTMLModel",
      "state": {
       "layout": "IPY_MODEL_269217df1e414f15bbce58c8f7f3d364",
       "style": "IPY_MODEL_856fc5b6342d48619ba1ba16c73ed3f4",
       "value": " 83%"
      }
     },
     "47338d97ff134b4ba576a42cb2a64c8d": {
      "model_module": "@jupyter-widgets/base",
      "model_module_version": "2.0.0",
      "model_name": "LayoutModel",
      "state": {}
     },
     "478294a04e59466e9eb976ac1abe3192": {
      "model_module": "@jupyter-widgets/base",
      "model_module_version": "2.0.0",
      "model_name": "LayoutModel",
      "state": {}
     },
     "47f98225af024bc7af24fb7f21e52399": {
      "model_module": "@jupyter-widgets/controls",
      "model_module_version": "2.0.0",
      "model_name": "HTMLModel",
      "state": {
       "layout": "IPY_MODEL_2efac13743ad48a393316dbb618326c8",
       "style": "IPY_MODEL_43b0db65a5c244058d984db9272cbdbd",
       "value": " 14/14 [00:34&lt;00:00,  2.56s/it]"
      }
     },
     "48509f32298d424d92624149bb5d2dbb": {
      "model_module": "@jupyter-widgets/controls",
      "model_module_version": "2.0.0",
      "model_name": "HBoxModel",
      "state": {
       "children": [
        "IPY_MODEL_5b922da8cd1e4231beb1695f3a1f7ef4",
        "IPY_MODEL_526a7acfe3114c5bb4689cd4e0cfd2be",
        "IPY_MODEL_ae271860a6e14fda9f58304373ac1cba"
       ],
       "layout": "IPY_MODEL_87797a99938f45d29bd835be4b5ec572"
      }
     },
     "485731a4a3dc4749a02b85fab8597d7a": {
      "model_module": "@jupyter-widgets/base",
      "model_module_version": "2.0.0",
      "model_name": "LayoutModel",
      "state": {}
     },
     "4936dc8dbc6d405c956ddce5f6a5221e": {
      "model_module": "@jupyter-widgets/base",
      "model_module_version": "2.0.0",
      "model_name": "LayoutModel",
      "state": {}
     },
     "49c8c6d9bde6402bb4136d37f94c0fee": {
      "model_module": "@jupyter-widgets/base",
      "model_module_version": "2.0.0",
      "model_name": "LayoutModel",
      "state": {}
     },
     "4a02dde9f0c2473ca483bd879aae9897": {
      "model_module": "@jupyter-widgets/controls",
      "model_module_version": "2.0.0",
      "model_name": "HTMLModel",
      "state": {
       "layout": "IPY_MODEL_554aad861ce14a18bcfcd879557d5536",
       "style": "IPY_MODEL_029642dfa78247a18b8c1e5fe6452dda",
       "value": "100%"
      }
     },
     "4a2153b7870843a388965c1d13988aa1": {
      "model_module": "@jupyter-widgets/controls",
      "model_module_version": "2.0.0",
      "model_name": "HTMLModel",
      "state": {
       "layout": "IPY_MODEL_219404a0aa80406fba4e1a59864e213e",
       "style": "IPY_MODEL_f990c3c0d24b4feb8b54ebbb0fe605e3",
       "value": "100%"
      }
     },
     "4a9c8487b9174ce392d94d1f8a019cab": {
      "model_module": "@jupyter-widgets/controls",
      "model_module_version": "2.0.0",
      "model_name": "DescriptionStyleModel",
      "state": {
       "description_width": ""
      }
     },
     "4aa728bf97a248ecb6f1ed409e13c000": {
      "model_module": "@jupyter-widgets/controls",
      "model_module_version": "2.0.0",
      "model_name": "HTMLStyleModel",
      "state": {
       "description_width": "",
       "font_size": null,
       "text_color": null
      }
     },
     "4aaaf3eed0254936b5a52ab7b0c6415e": {
      "model_module": "@jupyter-widgets/controls",
      "model_module_version": "2.0.0",
      "model_name": "HBoxModel",
      "state": {
       "children": [
        "IPY_MODEL_77060f02c0864339a20814717a687e8b",
        "IPY_MODEL_acb3fc7c388f438890ef68e82fa1047e",
        "IPY_MODEL_d2dc6893736e407cb84282e4eceb0b6f"
       ],
       "layout": "IPY_MODEL_fb01dde1bd6a48828dc2335448eeab33"
      }
     },
     "4ad7e55c582c4f96bf747521fa1a880e": {
      "model_module": "@jupyter-widgets/controls",
      "model_module_version": "2.0.0",
      "model_name": "DescriptionStyleModel",
      "state": {
       "description_width": ""
      }
     },
     "4b6bce95eb034f8fa39251884eef9197": {
      "model_module": "@jupyter-widgets/controls",
      "model_module_version": "2.0.0",
      "model_name": "HTMLModel",
      "state": {
       "layout": "IPY_MODEL_4f13d7468d3e433aaebc524e2f966636",
       "style": "IPY_MODEL_317d72de13f547c78f6388a685253365",
       "value": " 14/14 [00:33&lt;00:00,  2.52s/it]"
      }
     },
     "4b756571316644e7a1e95bfff335a728": {
      "model_module": "@jupyter-widgets/base",
      "model_module_version": "2.0.0",
      "model_name": "LayoutModel",
      "state": {}
     },
     "4b8fe3f450344df59adf09dfde46461c": {
      "model_module": "@jupyter-widgets/base",
      "model_module_version": "2.0.0",
      "model_name": "LayoutModel",
      "state": {}
     },
     "4c341a451372475c8ab1b62d52cc124c": {
      "model_module": "@jupyter-widgets/controls",
      "model_module_version": "2.0.0",
      "model_name": "FloatProgressModel",
      "state": {
       "bar_style": "success",
       "layout": "IPY_MODEL_354441ea960046e78181c0039137b821",
       "max": 6,
       "style": "IPY_MODEL_14f0bd724fd345f8bab8dfc4bef0bf08",
       "value": 6
      }
     },
     "4c514c61a1824da0bb353e154c21288e": {
      "model_module": "@jupyter-widgets/controls",
      "model_module_version": "2.0.0",
      "model_name": "HTMLModel",
      "state": {
       "layout": "IPY_MODEL_35a3c9c7f0a84db7b11166c968c8e8c5",
       "style": "IPY_MODEL_f6d9b538a7d4474faf6f1b5d4ed3aa22",
       "value": " 14/14 [00:34&lt;00:00,  2.58s/it]"
      }
     },
     "4c7a44cfe46546c7ad4510925b762ba3": {
      "model_module": "@jupyter-widgets/base",
      "model_module_version": "2.0.0",
      "model_name": "LayoutModel",
      "state": {}
     },
     "4cf01c7addd141348d4644f6e298d0c3": {
      "model_module": "@jupyter-widgets/base",
      "model_module_version": "2.0.0",
      "model_name": "LayoutModel",
      "state": {}
     },
     "4d050a4d6d284e5fa00be4140da9ca05": {
      "model_module": "@jupyter-widgets/controls",
      "model_module_version": "2.0.0",
      "model_name": "DescriptionStyleModel",
      "state": {
       "description_width": ""
      }
     },
     "4dd2a703b89e4906995b6ae63384ebec": {
      "model_module": "@jupyter-widgets/base",
      "model_module_version": "2.0.0",
      "model_name": "LayoutModel",
      "state": {}
     },
     "4df6d7c39cce4536a58880a00a3970ef": {
      "model_module": "@jupyter-widgets/controls",
      "model_module_version": "2.0.0",
      "model_name": "ProgressStyleModel",
      "state": {
       "description_width": ""
      }
     },
     "4df9ea255ee04057a55797a504a03021": {
      "model_module": "@jupyter-widgets/base",
      "model_module_version": "2.0.0",
      "model_name": "LayoutModel",
      "state": {}
     },
     "4f13d7468d3e433aaebc524e2f966636": {
      "model_module": "@jupyter-widgets/base",
      "model_module_version": "2.0.0",
      "model_name": "LayoutModel",
      "state": {}
     },
     "4f1b62d56e4841a0b8a437b1e7082159": {
      "model_module": "@jupyter-widgets/controls",
      "model_module_version": "2.0.0",
      "model_name": "ProgressStyleModel",
      "state": {
       "description_width": ""
      }
     },
     "4f45b7be062545dfad8cd46b855234c4": {
      "model_module": "@jupyter-widgets/controls",
      "model_module_version": "2.0.0",
      "model_name": "DescriptionStyleModel",
      "state": {
       "description_width": ""
      }
     },
     "4f8f34f6823f48ae8d4102f40b10a49f": {
      "model_module": "@jupyter-widgets/controls",
      "model_module_version": "2.0.0",
      "model_name": "DescriptionStyleModel",
      "state": {
       "description_width": ""
      }
     },
     "4fbd978fd55041cb9ce67134a734e2df": {
      "model_module": "@jupyter-widgets/controls",
      "model_module_version": "2.0.0",
      "model_name": "ProgressStyleModel",
      "state": {
       "description_width": ""
      }
     },
     "4fcce8713d9f40efa519fad4c3f6d159": {
      "model_module": "@jupyter-widgets/base",
      "model_module_version": "2.0.0",
      "model_name": "LayoutModel",
      "state": {}
     },
     "4fdb5b1c4a484c5692ff2224cb3311ef": {
      "model_module": "@jupyter-widgets/controls",
      "model_module_version": "2.0.0",
      "model_name": "FloatProgressModel",
      "state": {
       "bar_style": "success",
       "layout": "IPY_MODEL_be287985079e402d8332d24294a34c84",
       "max": 6,
       "style": "IPY_MODEL_e2e8ccf1279e404e8a34624c43cb47a1",
       "value": 6
      }
     },
     "4fe88752d63e465dacddb2e96db851fc": {
      "model_module": "@jupyter-widgets/controls",
      "model_module_version": "2.0.0",
      "model_name": "DescriptionStyleModel",
      "state": {
       "description_width": ""
      }
     },
     "4ffcd09f2b804a8cae799939c2e95ae0": {
      "model_module": "@jupyter-widgets/controls",
      "model_module_version": "2.0.0",
      "model_name": "ProgressStyleModel",
      "state": {
       "description_width": ""
      }
     },
     "50194aefb1b848b9bacb0fb7cde4e7c1": {
      "model_module": "@jupyter-widgets/controls",
      "model_module_version": "2.0.0",
      "model_name": "HBoxModel",
      "state": {
       "children": [
        "IPY_MODEL_672e12ea73c54890b34126836365b7b0",
        "IPY_MODEL_8db24025e8b24c4a812fbe69c0ae9de9",
        "IPY_MODEL_b9f2c8dcd1d742c2b0284bbedcc5052f"
       ],
       "layout": "IPY_MODEL_5df21fe561884711a538f2ca542e6bd8"
      }
     },
     "506a403f0fdc4f9f8b85aa651285d720": {
      "model_module": "@jupyter-widgets/controls",
      "model_module_version": "2.0.0",
      "model_name": "DescriptionStyleModel",
      "state": {
       "description_width": ""
      }
     },
     "5082c28037254c02a2c7b11b1fec3d24": {
      "model_module": "@jupyter-widgets/controls",
      "model_module_version": "2.0.0",
      "model_name": "FloatProgressModel",
      "state": {
       "bar_style": "success",
       "layout": "IPY_MODEL_5a8654bdc7ea4e62b2701eabdcc263a2",
       "max": 14,
       "style": "IPY_MODEL_7ad06790a5154b6986cba20d76f8be7d",
       "value": 14
      }
     },
     "50f4f2ca4dba4a54b2e2e14d411ef914": {
      "model_module": "@jupyter-widgets/controls",
      "model_module_version": "2.0.0",
      "model_name": "HTMLStyleModel",
      "state": {
       "description_width": "",
       "font_size": null,
       "text_color": null
      }
     },
     "516b22b99dad4b26bda95b7f5f377e6b": {
      "model_module": "@jupyter-widgets/controls",
      "model_module_version": "2.0.0",
      "model_name": "FloatProgressModel",
      "state": {
       "bar_style": "success",
       "layout": "IPY_MODEL_702032d5605547c28038f28511a85928",
       "max": 6,
       "style": "IPY_MODEL_7c31ea7a778745c7b6d783ad107c3f8b",
       "value": 6
      }
     },
     "5195b30886ae479ba56e84588a608368": {
      "model_module": "@jupyter-widgets/controls",
      "model_module_version": "2.0.0",
      "model_name": "DescriptionStyleModel",
      "state": {
       "description_width": ""
      }
     },
     "51afde547a624857871d55d2bbcc2c75": {
      "model_module": "@jupyter-widgets/base",
      "model_module_version": "2.0.0",
      "model_name": "LayoutModel",
      "state": {}
     },
     "51c0ffeb291c451e88c73009c996057f": {
      "model_module": "@jupyter-widgets/base",
      "model_module_version": "2.0.0",
      "model_name": "LayoutModel",
      "state": {}
     },
     "5256fcf8c90746a2b585640096aabcd5": {
      "model_module": "@jupyter-widgets/base",
      "model_module_version": "2.0.0",
      "model_name": "LayoutModel",
      "state": {}
     },
     "526a7acfe3114c5bb4689cd4e0cfd2be": {
      "model_module": "@jupyter-widgets/controls",
      "model_module_version": "2.0.0",
      "model_name": "FloatProgressModel",
      "state": {
       "bar_style": "success",
       "layout": "IPY_MODEL_05ce7d2dcc9c42a1a4657f9cae9edea1",
       "max": 6,
       "style": "IPY_MODEL_2dadb4f5dece4bcc8627747de19f2efb",
       "value": 6
      }
     },
     "530227233cdb4d7bbe6a127d11bbbc96": {
      "model_module": "@jupyter-widgets/base",
      "model_module_version": "2.0.0",
      "model_name": "LayoutModel",
      "state": {}
     },
     "533f15243a5d4b6393b50c909b6f55e9": {
      "model_module": "@jupyter-widgets/controls",
      "model_module_version": "2.0.0",
      "model_name": "HTMLModel",
      "state": {
       "layout": "IPY_MODEL_dc0cb38431e34554a24eb56835159b14",
       "style": "IPY_MODEL_77cc87b539e74f5dafad722153e60cd3",
       "value": " 3/3 [00:10&lt;00:00,  4.21s/it]"
      }
     },
     "5363fb3cea7e48a79ae2d3eee8d3f103": {
      "model_module": "@jupyter-widgets/controls",
      "model_module_version": "2.0.0",
      "model_name": "HTMLModel",
      "state": {
       "layout": "IPY_MODEL_0cb625922b5f481f85c9215f9f4b3d23",
       "style": "IPY_MODEL_8f5256878fcc4418932eb682a7007e91",
       "value": " 3/3 [00:10&lt;00:00,  4.10s/it]"
      }
     },
     "539f0d72dd3543fbad79611d9f1bd031": {
      "model_module": "@jupyter-widgets/base",
      "model_module_version": "2.0.0",
      "model_name": "LayoutModel",
      "state": {}
     },
     "54bc5cd15c52489db348d7d474416b63": {
      "model_module": "@jupyter-widgets/controls",
      "model_module_version": "2.0.0",
      "model_name": "HTMLModel",
      "state": {
       "layout": "IPY_MODEL_6979e3f8add643d597915c6a8bb91077",
       "style": "IPY_MODEL_1317b6a0a7bc4b43a76e7ca689d01b22",
       "value": " 6/6 [00:08&lt;00:00,  2.02s/it]"
      }
     },
     "54c1c14ecefb49e9b1f7fd2138320a0d": {
      "model_module": "@jupyter-widgets/base",
      "model_module_version": "2.0.0",
      "model_name": "LayoutModel",
      "state": {}
     },
     "54ed6756a74146a8bcf1d0d9a6838a2b": {
      "model_module": "@jupyter-widgets/controls",
      "model_module_version": "2.0.0",
      "model_name": "DescriptionStyleModel",
      "state": {
       "description_width": ""
      }
     },
     "552543fdef3e445191c3480ff295802c": {
      "model_module": "@jupyter-widgets/controls",
      "model_module_version": "2.0.0",
      "model_name": "ProgressStyleModel",
      "state": {
       "description_width": ""
      }
     },
     "554aad861ce14a18bcfcd879557d5536": {
      "model_module": "@jupyter-widgets/base",
      "model_module_version": "2.0.0",
      "model_name": "LayoutModel",
      "state": {}
     },
     "5592b4ced2b04897acb15b7d476b9740": {
      "model_module": "@jupyter-widgets/base",
      "model_module_version": "2.0.0",
      "model_name": "LayoutModel",
      "state": {}
     },
     "55e7a37abac24908961c342bc93befe3": {
      "model_module": "@jupyter-widgets/controls",
      "model_module_version": "2.0.0",
      "model_name": "DescriptionStyleModel",
      "state": {
       "description_width": ""
      }
     },
     "5627352635654cd58c96ca414f1e6114": {
      "model_module": "@jupyter-widgets/base",
      "model_module_version": "2.0.0",
      "model_name": "LayoutModel",
      "state": {}
     },
     "5649d18abbde4f47a03b99cee129ca40": {
      "model_module": "@jupyter-widgets/controls",
      "model_module_version": "2.0.0",
      "model_name": "DescriptionStyleModel",
      "state": {
       "description_width": ""
      }
     },
     "56a6bad0b666407a9367de9bf30fd660": {
      "model_module": "@jupyter-widgets/base",
      "model_module_version": "2.0.0",
      "model_name": "LayoutModel",
      "state": {}
     },
     "56eadb9f4fd944dcb5039b404e09f6a1": {
      "model_module": "@jupyter-widgets/controls",
      "model_module_version": "2.0.0",
      "model_name": "ProgressStyleModel",
      "state": {
       "description_width": ""
      }
     },
     "56f349348df141708ca826a50e524d41": {
      "model_module": "@jupyter-widgets/controls",
      "model_module_version": "2.0.0",
      "model_name": "ProgressStyleModel",
      "state": {
       "description_width": ""
      }
     },
     "5707ef96db714ec0a3f2f9dbe98908c9": {
      "model_module": "@jupyter-widgets/controls",
      "model_module_version": "2.0.0",
      "model_name": "HTMLModel",
      "state": {
       "layout": "IPY_MODEL_3088d09c6b51431da8feba468e073631",
       "style": "IPY_MODEL_95cfbf3086504b4ab9a1449d5cf78769",
       "value": "100%"
      }
     },
     "57843694692c4a3b87bfbd132153cab8": {
      "model_module": "@jupyter-widgets/controls",
      "model_module_version": "2.0.0",
      "model_name": "HTMLModel",
      "state": {
       "layout": "IPY_MODEL_f8d197cb409d41f082178184a9954ac3",
       "style": "IPY_MODEL_269c6b9560904cc29f2828362cebce81",
       "value": "100%"
      }
     },
     "57da2d0871fc4c189bbfb98644cdca7c": {
      "model_module": "@jupyter-widgets/base",
      "model_module_version": "2.0.0",
      "model_name": "LayoutModel",
      "state": {}
     },
     "57dfcbb0414848a7afaf25ae5b8f6318": {
      "model_module": "@jupyter-widgets/controls",
      "model_module_version": "2.0.0",
      "model_name": "HTMLModel",
      "state": {
       "layout": "IPY_MODEL_485731a4a3dc4749a02b85fab8597d7a",
       "style": "IPY_MODEL_f287eebaea2a42059275cf322b97e556",
       "value": "100%"
      }
     },
     "57e76b58a33b4bcd96f3a40b899044d9": {
      "model_module": "@jupyter-widgets/base",
      "model_module_version": "2.0.0",
      "model_name": "LayoutModel",
      "state": {}
     },
     "582ab9a756b849b2b26d95663d2ff9e2": {
      "model_module": "@jupyter-widgets/controls",
      "model_module_version": "2.0.0",
      "model_name": "HTMLStyleModel",
      "state": {
       "description_width": "",
       "font_size": null,
       "text_color": null
      }
     },
     "58366bed42f541dfadf9b3b57d005ecc": {
      "model_module": "@jupyter-widgets/base",
      "model_module_version": "2.0.0",
      "model_name": "LayoutModel",
      "state": {}
     },
     "583d1f1adf7746b78eeac541b547405b": {
      "model_module": "@jupyter-widgets/controls",
      "model_module_version": "2.0.0",
      "model_name": "DescriptionStyleModel",
      "state": {
       "description_width": ""
      }
     },
     "589a4e209def475289c2189ea9d4b87d": {
      "model_module": "@jupyter-widgets/controls",
      "model_module_version": "2.0.0",
      "model_name": "HTMLStyleModel",
      "state": {
       "description_width": "",
       "font_size": null,
       "text_color": null
      }
     },
     "58e730ffdfd4482091cdaf8077d0cb8d": {
      "model_module": "@jupyter-widgets/base",
      "model_module_version": "2.0.0",
      "model_name": "LayoutModel",
      "state": {}
     },
     "58f0f746e8004a5fafe76d9dcdb1209b": {
      "model_module": "@jupyter-widgets/base",
      "model_module_version": "2.0.0",
      "model_name": "LayoutModel",
      "state": {}
     },
     "59116e8e1096438c959870c7d5a626e4": {
      "model_module": "@jupyter-widgets/controls",
      "model_module_version": "2.0.0",
      "model_name": "ProgressStyleModel",
      "state": {
       "description_width": ""
      }
     },
     "5976186c6a0042c2b496154953e7726d": {
      "model_module": "@jupyter-widgets/controls",
      "model_module_version": "2.0.0",
      "model_name": "ProgressStyleModel",
      "state": {
       "description_width": ""
      }
     },
     "5984e37e36044dfeac4109d7bc0b424e": {
      "model_module": "@jupyter-widgets/controls",
      "model_module_version": "2.0.0",
      "model_name": "HTMLModel",
      "state": {
       "layout": "IPY_MODEL_cf54b1ccc6414c8a97397e2727460764",
       "style": "IPY_MODEL_f8d0aa0d6d044fd9b885647c29ad5ed9",
       "value": "100%"
      }
     },
     "59b8436cb07c42e9bc5b74d1bab28248": {
      "model_module": "@jupyter-widgets/controls",
      "model_module_version": "2.0.0",
      "model_name": "DescriptionStyleModel",
      "state": {
       "description_width": ""
      }
     },
     "59cb8b51d70545db801f62bf91dde842": {
      "model_module": "@jupyter-widgets/controls",
      "model_module_version": "2.0.0",
      "model_name": "FloatProgressModel",
      "state": {
       "bar_style": "success",
       "layout": "IPY_MODEL_817301f479794c12b0e516e4b27ca565",
       "max": 3,
       "style": "IPY_MODEL_74e16d5201b746f6bda501151e592eed",
       "value": 3
      }
     },
     "5a47368809b04a868d7c3abfa75b1f0b": {
      "model_module": "@jupyter-widgets/base",
      "model_module_version": "2.0.0",
      "model_name": "LayoutModel",
      "state": {}
     },
     "5a7402acea7c46b7acc62d232cbaafda": {
      "model_module": "@jupyter-widgets/base",
      "model_module_version": "2.0.0",
      "model_name": "LayoutModel",
      "state": {}
     },
     "5a8654bdc7ea4e62b2701eabdcc263a2": {
      "model_module": "@jupyter-widgets/base",
      "model_module_version": "2.0.0",
      "model_name": "LayoutModel",
      "state": {}
     },
     "5af10075c7954a7a86b516adebbabe88": {
      "model_module": "@jupyter-widgets/controls",
      "model_module_version": "2.0.0",
      "model_name": "HTMLModel",
      "state": {
       "layout": "IPY_MODEL_d6e18d7031c9403c8ab3e13577ae7c18",
       "style": "IPY_MODEL_77ed0aba6bdd404193911cba5b9d44ea",
       "value": " 3/3 [00:10&lt;00:00,  4.27s/it]"
      }
     },
     "5af398f4192b4467a7e82d44629a7090": {
      "model_module": "@jupyter-widgets/controls",
      "model_module_version": "2.0.0",
      "model_name": "HBoxModel",
      "state": {
       "children": [
        "IPY_MODEL_39ba132769b346d3807f8ffdb35ef4ef",
        "IPY_MODEL_e83b55d4dce248a9ad00d59b4f589287",
        "IPY_MODEL_bd7a94334adf4927a42ed12c73654dac"
       ],
       "layout": "IPY_MODEL_2014c622957f4172bf5538e7032073d7"
      }
     },
     "5b069813b89b417297a48aeb2154fe67": {
      "model_module": "@jupyter-widgets/base",
      "model_module_version": "2.0.0",
      "model_name": "LayoutModel",
      "state": {}
     },
     "5b922da8cd1e4231beb1695f3a1f7ef4": {
      "model_module": "@jupyter-widgets/controls",
      "model_module_version": "2.0.0",
      "model_name": "HTMLModel",
      "state": {
       "layout": "IPY_MODEL_eea860404204486385b30ba97d247ae2",
       "style": "IPY_MODEL_e33a5f4c714945229331ede15abc8eeb",
       "value": "100%"
      }
     },
     "5bc99c916ebd414daf96f69f725d40ea": {
      "model_module": "@jupyter-widgets/controls",
      "model_module_version": "2.0.0",
      "model_name": "FloatProgressModel",
      "state": {
       "bar_style": "success",
       "layout": "IPY_MODEL_01e5af5b26df48c68e2a60acda563670",
       "max": 14,
       "style": "IPY_MODEL_a2f63c20b4dd48a8866fcb6b802f8c4a",
       "value": 14
      }
     },
     "5c1cdc7f1d7f4334997a05cb16278393": {
      "model_module": "@jupyter-widgets/base",
      "model_module_version": "2.0.0",
      "model_name": "LayoutModel",
      "state": {}
     },
     "5cc7f457a2334e71bb5f436ae46c336e": {
      "model_module": "@jupyter-widgets/base",
      "model_module_version": "2.0.0",
      "model_name": "LayoutModel",
      "state": {}
     },
     "5d095f99d4c945618fe22682b2919f7f": {
      "model_module": "@jupyter-widgets/controls",
      "model_module_version": "2.0.0",
      "model_name": "HTMLModel",
      "state": {
       "layout": "IPY_MODEL_0d06caff45da43a387feb0da28b050fb",
       "style": "IPY_MODEL_df91ae866b7c4ab583dd9c521498031c",
       "value": "100%"
      }
     },
     "5d1150275c574960b7ee756c4e5b8422": {
      "model_module": "@jupyter-widgets/base",
      "model_module_version": "2.0.0",
      "model_name": "LayoutModel",
      "state": {}
     },
     "5d1a1fe6fd844c7d907c9883a206650c": {
      "model_module": "@jupyter-widgets/controls",
      "model_module_version": "2.0.0",
      "model_name": "HBoxModel",
      "state": {
       "children": [
        "IPY_MODEL_3417b3ebb03f4797818201cd315cc5d6",
        "IPY_MODEL_05b3bfdeba8148b8b4f9e8a220a48ad1",
        "IPY_MODEL_533f15243a5d4b6393b50c909b6f55e9"
       ],
       "layout": "IPY_MODEL_385052d0c22a494c95a54f3ec5ca9ea2"
      }
     },
     "5d60a27d33a64fe0b9065d67b7327045": {
      "model_module": "@jupyter-widgets/controls",
      "model_module_version": "2.0.0",
      "model_name": "ProgressStyleModel",
      "state": {
       "description_width": ""
      }
     },
     "5d64f8724c144e37b875cd67b10ec38b": {
      "model_module": "@jupyter-widgets/controls",
      "model_module_version": "2.0.0",
      "model_name": "ProgressStyleModel",
      "state": {
       "description_width": ""
      }
     },
     "5df21fe561884711a538f2ca542e6bd8": {
      "model_module": "@jupyter-widgets/base",
      "model_module_version": "2.0.0",
      "model_name": "LayoutModel",
      "state": {}
     },
     "5e4ab518bc7f4437b2e0d4d180d3eb3d": {
      "model_module": "@jupyter-widgets/controls",
      "model_module_version": "2.0.0",
      "model_name": "FloatProgressModel",
      "state": {
       "bar_style": "success",
       "layout": "IPY_MODEL_46ebb4fddc664e87b0138b0620d90088",
       "max": 3,
       "style": "IPY_MODEL_a14329532c41402699841551dbcaf36d",
       "value": 3
      }
     },
     "5f3c41984e834353b4bd3fbb27a25c2c": {
      "model_module": "@jupyter-widgets/controls",
      "model_module_version": "2.0.0",
      "model_name": "DescriptionStyleModel",
      "state": {
       "description_width": ""
      }
     },
     "5fc4e3b1da1c478ea141c911c4e76b5e": {
      "model_module": "@jupyter-widgets/base",
      "model_module_version": "2.0.0",
      "model_name": "LayoutModel",
      "state": {}
     },
     "5fe97e3ddaf541e8bb132154c246ac91": {
      "model_module": "@jupyter-widgets/controls",
      "model_module_version": "2.0.0",
      "model_name": "HTMLStyleModel",
      "state": {
       "description_width": "",
       "font_size": null,
       "text_color": null
      }
     },
     "600360577c904457ae06c714da3226ab": {
      "model_module": "@jupyter-widgets/base",
      "model_module_version": "2.0.0",
      "model_name": "LayoutModel",
      "state": {}
     },
     "6022fd1d8b704696a3ea76aed0286917": {
      "model_module": "@jupyter-widgets/controls",
      "model_module_version": "2.0.0",
      "model_name": "DescriptionStyleModel",
      "state": {
       "description_width": ""
      }
     },
     "6062aa9efc574da8b548fee3b1c51c6e": {
      "model_module": "@jupyter-widgets/controls",
      "model_module_version": "2.0.0",
      "model_name": "HBoxModel",
      "state": {
       "children": [
        "IPY_MODEL_a32af960a36d4b52a3edd1f55e071c15",
        "IPY_MODEL_27eeaee083424c1f81fecc56dea27a6d",
        "IPY_MODEL_28d7d40964e34064a071c4f266111d5e"
       ],
       "layout": "IPY_MODEL_c179d82d134c4885b232d00bb921d2c4"
      }
     },
     "609bdb59378141f4a96e77ac1ac3c4d0": {
      "model_module": "@jupyter-widgets/base",
      "model_module_version": "2.0.0",
      "model_name": "LayoutModel",
      "state": {}
     },
     "60f943ca34524bd1afbce2cc89a7f8f8": {
      "model_module": "@jupyter-widgets/controls",
      "model_module_version": "2.0.0",
      "model_name": "HBoxModel",
      "state": {
       "children": [
        "IPY_MODEL_43ea1b3882bd41068924670970a9c5e8",
        "IPY_MODEL_fd78d4fe60794bd9a4080bccdd2b5066",
        "IPY_MODEL_e026cb4a76f64518aa80c32c5d6bc6d6"
       ],
       "layout": "IPY_MODEL_b248845b0071429886b9bb169c16460e"
      }
     },
     "614f7e74e8964772bbf709eec39a1524": {
      "model_module": "@jupyter-widgets/controls",
      "model_module_version": "2.0.0",
      "model_name": "DescriptionStyleModel",
      "state": {
       "description_width": ""
      }
     },
     "6176e82b1a604fb6b50991303317d235": {
      "model_module": "@jupyter-widgets/base",
      "model_module_version": "2.0.0",
      "model_name": "LayoutModel",
      "state": {}
     },
     "6217b2e724b7488dbf152daf3fb7ff95": {
      "model_module": "@jupyter-widgets/controls",
      "model_module_version": "2.0.0",
      "model_name": "HTMLModel",
      "state": {
       "layout": "IPY_MODEL_600360577c904457ae06c714da3226ab",
       "style": "IPY_MODEL_9a4b752de1ac4a439e4a44845e5667e5",
       "value": " 14/14 [00:36&lt;00:00,  2.68s/it]"
      }
     },
     "623a9efab414447da1c1ae61858f5778": {
      "model_module": "@jupyter-widgets/base",
      "model_module_version": "2.0.0",
      "model_name": "LayoutModel",
      "state": {}
     },
     "625a723425fa4d9990a4c0a5613fc01c": {
      "model_module": "@jupyter-widgets/base",
      "model_module_version": "2.0.0",
      "model_name": "LayoutModel",
      "state": {}
     },
     "62631fe6d1564f839a570964b62a24c8": {
      "model_module": "@jupyter-widgets/base",
      "model_module_version": "2.0.0",
      "model_name": "LayoutModel",
      "state": {}
     },
     "631932574a4f478698da5bfd889c15f2": {
      "model_module": "@jupyter-widgets/controls",
      "model_module_version": "2.0.0",
      "model_name": "FloatProgressModel",
      "state": {
       "bar_style": "success",
       "layout": "IPY_MODEL_cbd792511fbc4743b175d6ca42fbf072",
       "max": 3,
       "style": "IPY_MODEL_7aedc26c48254a838669f450a1fcbb22",
       "value": 3
      }
     },
     "631c4e5439134b44aa2abb0f2d6114da": {
      "model_module": "@jupyter-widgets/controls",
      "model_module_version": "2.0.0",
      "model_name": "HTMLModel",
      "state": {
       "layout": "IPY_MODEL_903eacd04bae46db83092bc1e8f150e2",
       "style": "IPY_MODEL_d87a02a290ab42fb8f24de71c309cf8f",
       "value": "100%"
      }
     },
     "633e8f4668c54e8796993e023cf93211": {
      "model_module": "@jupyter-widgets/base",
      "model_module_version": "2.0.0",
      "model_name": "LayoutModel",
      "state": {}
     },
     "63496197b64c4981aa1841e5dd0ed3a2": {
      "model_module": "@jupyter-widgets/controls",
      "model_module_version": "2.0.0",
      "model_name": "ProgressStyleModel",
      "state": {
       "description_width": ""
      }
     },
     "63a70b06ff4246d3819f71da3565aefd": {
      "model_module": "@jupyter-widgets/controls",
      "model_module_version": "2.0.0",
      "model_name": "HTMLModel",
      "state": {
       "layout": "IPY_MODEL_7a10d58c1ecc444c83d13eb4996e5ee4",
       "style": "IPY_MODEL_8e28b38aef194897b6131f4317563b9f",
       "value": " 21%"
      }
     },
     "63db93ef7251427da2644643a5f52e2a": {
      "model_module": "@jupyter-widgets/controls",
      "model_module_version": "2.0.0",
      "model_name": "DescriptionStyleModel",
      "state": {
       "description_width": ""
      }
     },
     "63f72555303e4481a28135d51cbf9841": {
      "model_module": "@jupyter-widgets/controls",
      "model_module_version": "2.0.0",
      "model_name": "HTMLStyleModel",
      "state": {
       "description_width": "",
       "font_size": null,
       "text_color": null
      }
     },
     "641a8e47dba14be4aa8a10f1329bcaa6": {
      "model_module": "@jupyter-widgets/controls",
      "model_module_version": "2.0.0",
      "model_name": "HTMLModel",
      "state": {
       "layout": "IPY_MODEL_d545003943714d8c998b2c7a376fd3ff",
       "style": "IPY_MODEL_3a71f9045ef64b82ae273c50b5be2d91",
       "value": " 14/14 [00:33&lt;00:00,  2.49s/it]"
      }
     },
     "643781621b914dceaab16ab069a89a6c": {
      "model_module": "@jupyter-widgets/controls",
      "model_module_version": "2.0.0",
      "model_name": "ProgressStyleModel",
      "state": {
       "description_width": ""
      }
     },
     "658444ed433543249997e5b54ff46591": {
      "model_module": "@jupyter-widgets/controls",
      "model_module_version": "2.0.0",
      "model_name": "HTMLModel",
      "state": {
       "layout": "IPY_MODEL_761aab67640240e3ba173a5b2eaf5401",
       "style": "IPY_MODEL_9c92d863eca84c9a8609b6367f2c1d8b",
       "value": " 6/6 [00:11&lt;00:00,  2.84s/it]"
      }
     },
     "6598381da8a44dae8d3e17c72ca74f0d": {
      "model_module": "@jupyter-widgets/controls",
      "model_module_version": "2.0.0",
      "model_name": "DescriptionStyleModel",
      "state": {
       "description_width": ""
      }
     },
     "672d456870d44b42957d9ad3669127cc": {
      "model_module": "@jupyter-widgets/controls",
      "model_module_version": "2.0.0",
      "model_name": "DescriptionStyleModel",
      "state": {
       "description_width": ""
      }
     },
     "672e12ea73c54890b34126836365b7b0": {
      "model_module": "@jupyter-widgets/controls",
      "model_module_version": "2.0.0",
      "model_name": "HTMLModel",
      "state": {
       "layout": "IPY_MODEL_3e652183e9194bbeb3771a9fb7244611",
       "style": "IPY_MODEL_6f156dc2b78341ecaa1dc302165080a5",
       "value": "100%"
      }
     },
     "67510021658848edbe477ad4bc8038f4": {
      "model_module": "@jupyter-widgets/base",
      "model_module_version": "2.0.0",
      "model_name": "LayoutModel",
      "state": {}
     },
     "67597766408742479ce0bf6cc2478e26": {
      "model_module": "@jupyter-widgets/base",
      "model_module_version": "2.0.0",
      "model_name": "LayoutModel",
      "state": {}
     },
     "67bd004a9cc54ca98a945c66e98a8dc5": {
      "model_module": "@jupyter-widgets/base",
      "model_module_version": "2.0.0",
      "model_name": "LayoutModel",
      "state": {}
     },
     "67f8e9926ff04911a5ecb7f084ab9bda": {
      "model_module": "@jupyter-widgets/controls",
      "model_module_version": "2.0.0",
      "model_name": "HBoxModel",
      "state": {
       "children": [
        "IPY_MODEL_5984e37e36044dfeac4109d7bc0b424e",
        "IPY_MODEL_af81eb420a204b4db16e0900544ee830",
        "IPY_MODEL_8a03ad0d87be4739985ebdbd8e3f6821"
       ],
       "layout": "IPY_MODEL_2503dfb81f4847be8a2dd83ba9fce570"
      }
     },
     "68639f2e8c1c4e3289e0f6d8dce28243": {
      "model_module": "@jupyter-widgets/controls",
      "model_module_version": "2.0.0",
      "model_name": "HTMLModel",
      "state": {
       "layout": "IPY_MODEL_e00f2d4bde8d4977a2c1fcf12272aee9",
       "style": "IPY_MODEL_4566d1e63f3940db9ec45156b6a840dc",
       "value": " 14/14 [00:36&lt;00:00,  2.65s/it]"
      }
     },
     "687f590cf40747caabe161fa9d4c56bc": {
      "model_module": "@jupyter-widgets/controls",
      "model_module_version": "2.0.0",
      "model_name": "HTMLModel",
      "state": {
       "layout": "IPY_MODEL_e11311ed201b4eec8375f0060b43cdd3",
       "style": "IPY_MODEL_4397d05cf65a4a3098f3fbc65ec9cf13",
       "value": " 2/3 [00:06&lt;00:03,  3.20s/it]"
      }
     },
     "6924f9666c14408f974c8626cb341bf0": {
      "model_module": "@jupyter-widgets/base",
      "model_module_version": "2.0.0",
      "model_name": "LayoutModel",
      "state": {}
     },
     "69329a3476f64b6ebd2f92c94b295e8c": {
      "model_module": "@jupyter-widgets/controls",
      "model_module_version": "2.0.0",
      "model_name": "FloatProgressModel",
      "state": {
       "bar_style": "success",
       "layout": "IPY_MODEL_ada2a00636b1438498db0770cdd39bef",
       "max": 3,
       "style": "IPY_MODEL_c5989e198ec944dc8b7775b5705d73e5",
       "value": 3
      }
     },
     "6947ec67f5c2497fa581f2f98be5d5b6": {
      "model_module": "@jupyter-widgets/base",
      "model_module_version": "2.0.0",
      "model_name": "LayoutModel",
      "state": {}
     },
     "6979e3f8add643d597915c6a8bb91077": {
      "model_module": "@jupyter-widgets/base",
      "model_module_version": "2.0.0",
      "model_name": "LayoutModel",
      "state": {}
     },
     "69a5d1fb555745e39ade5030c767bf78": {
      "model_module": "@jupyter-widgets/controls",
      "model_module_version": "2.0.0",
      "model_name": "FloatProgressModel",
      "state": {
       "bar_style": "success",
       "layout": "IPY_MODEL_d70423af9ef64c5a9d6538a15c6e12b9",
       "max": 6,
       "style": "IPY_MODEL_e1b73ba901f94de3bfe97bd1cf8952e9",
       "value": 6
      }
     },
     "69ba768c93bf4d2585127c9dd8cca2a1": {
      "model_module": "@jupyter-widgets/base",
      "model_module_version": "2.0.0",
      "model_name": "LayoutModel",
      "state": {}
     },
     "69fd7e6e13c94f61a5ebb811aa394333": {
      "model_module": "@jupyter-widgets/controls",
      "model_module_version": "2.0.0",
      "model_name": "HTMLModel",
      "state": {
       "layout": "IPY_MODEL_d8b129d3a2c341ac9bc912eaa595c0a3",
       "style": "IPY_MODEL_c06f451b863c41a2afebcd113177edfd",
       "value": " 14/14 [00:34&lt;00:00,  2.60s/it]"
      }
     },
     "6a06014e46784b398bbbdbee3663f860": {
      "model_module": "@jupyter-widgets/controls",
      "model_module_version": "2.0.0",
      "model_name": "FloatProgressModel",
      "state": {
       "bar_style": "success",
       "layout": "IPY_MODEL_1a972bcc03d64354b5cd8ec42d25af83",
       "max": 6,
       "style": "IPY_MODEL_dd9f8393faa64097954bd7d834610506",
       "value": 6
      }
     },
     "6aad32a9423043eb8bffaa7ab8e9632f": {
      "model_module": "@jupyter-widgets/controls",
      "model_module_version": "2.0.0",
      "model_name": "DescriptionStyleModel",
      "state": {
       "description_width": ""
      }
     },
     "6ab2c800eaef42e4a286a0aab35ed190": {
      "model_module": "@jupyter-widgets/controls",
      "model_module_version": "2.0.0",
      "model_name": "FloatProgressModel",
      "state": {
       "bar_style": "success",
       "layout": "IPY_MODEL_cf74716173fd494f8ea0332793acb220",
       "max": 3,
       "style": "IPY_MODEL_000a0ce30ef84bfc8ab5b9c23b221bc4",
       "value": 3
      }
     },
     "6b85b3f5a8a844c2bcfadcce25177f81": {
      "model_module": "@jupyter-widgets/controls",
      "model_module_version": "2.0.0",
      "model_name": "HTMLModel",
      "state": {
       "layout": "IPY_MODEL_78c8eefc38c6474fa027d6414ab01f75",
       "style": "IPY_MODEL_d8dded7411de4690a558a1ae7a282d56",
       "value": "100%"
      }
     },
     "6ba368873182486380ecad62d4aec0de": {
      "model_module": "@jupyter-widgets/controls",
      "model_module_version": "2.0.0",
      "model_name": "HTMLModel",
      "state": {
       "layout": "IPY_MODEL_4311cd0e553c47d9b70df4a18569c812",
       "style": "IPY_MODEL_95300a5b30004cba8b3edd3a03b70613",
       "value": " 14/14 [00:36&lt;00:00,  2.73s/it]"
      }
     },
     "6c26f4dda729429f806b3e336dc81622": {
      "model_module": "@jupyter-widgets/controls",
      "model_module_version": "2.0.0",
      "model_name": "HBoxModel",
      "state": {
       "children": [
        "IPY_MODEL_07019ea46ea046e0b87c8e4a25c6963b",
        "IPY_MODEL_d2f142dce1c9498c806f06a30b43f04b",
        "IPY_MODEL_641a8e47dba14be4aa8a10f1329bcaa6"
       ],
       "layout": "IPY_MODEL_19ea34ec07da4d61acec8c855bbc02bf"
      }
     },
     "6cc16a4ebcaa45d0a75baf8f0f57957e": {
      "model_module": "@jupyter-widgets/base",
      "model_module_version": "2.0.0",
      "model_name": "LayoutModel",
      "state": {}
     },
     "6ce6dc7f238243caaf36f8495409d552": {
      "model_module": "@jupyter-widgets/controls",
      "model_module_version": "2.0.0",
      "model_name": "ProgressStyleModel",
      "state": {
       "description_width": ""
      }
     },
     "6d0bfbc93a1545819218856abadd1ff0": {
      "model_module": "@jupyter-widgets/controls",
      "model_module_version": "2.0.0",
      "model_name": "HTMLStyleModel",
      "state": {
       "description_width": "",
       "font_size": null,
       "text_color": null
      }
     },
     "6df3561b5e8444b9b1151930e443c9f8": {
      "model_module": "@jupyter-widgets/controls",
      "model_module_version": "2.0.0",
      "model_name": "HTMLModel",
      "state": {
       "layout": "IPY_MODEL_a2cb0e65b1f44625aefab52e868e76be",
       "style": "IPY_MODEL_ab3e3837b3154d8494ca8fad1899cfb9",
       "value": " 6/6 [00:11&lt;00:00,  2.85s/it]"
      }
     },
     "6e6c8d817cf642cda4b8c67c1421f16b": {
      "model_module": "@jupyter-widgets/base",
      "model_module_version": "2.0.0",
      "model_name": "LayoutModel",
      "state": {}
     },
     "6e7b05e3ccb84beab343d30286940b3b": {
      "model_module": "@jupyter-widgets/controls",
      "model_module_version": "2.0.0",
      "model_name": "HTMLModel",
      "state": {
       "layout": "IPY_MODEL_e33de6c094a54effb98a325d8beecad8",
       "style": "IPY_MODEL_31b974d56faf4275a2224373ca792f0c",
       "value": " 6/6 [00:11&lt;00:00,  2.79s/it]"
      }
     },
     "6e8cca8f46754c3d8e0ab68f602c8685": {
      "model_module": "@jupyter-widgets/controls",
      "model_module_version": "2.0.0",
      "model_name": "HBoxModel",
      "state": {
       "children": [
        "IPY_MODEL_335359af048044b68a622eeed260338f",
        "IPY_MODEL_6fef9dbe7c7f487ea931cc472232c7f8",
        "IPY_MODEL_2796d4640e4c4e929e33d1c64b9f54fc"
       ],
       "layout": "IPY_MODEL_e888eadbc7f94bd8a49318165d57b41e"
      }
     },
     "6f0469764bbf4e3aacaca79738c9664f": {
      "model_module": "@jupyter-widgets/controls",
      "model_module_version": "2.0.0",
      "model_name": "HTMLModel",
      "state": {
       "layout": "IPY_MODEL_88b61669524141039a422c0c834da8c4",
       "style": "IPY_MODEL_0abaf50f623a43e58afcf20b196d3dbc",
       "value": " 6/6 [00:11&lt;00:00,  2.79s/it]"
      }
     },
     "6f156dc2b78341ecaa1dc302165080a5": {
      "model_module": "@jupyter-widgets/controls",
      "model_module_version": "2.0.0",
      "model_name": "HTMLStyleModel",
      "state": {
       "description_width": "",
       "font_size": null,
       "text_color": null
      }
     },
     "6f794c624be94766aa1173d268857714": {
      "model_module": "@jupyter-widgets/controls",
      "model_module_version": "2.0.0",
      "model_name": "HTMLModel",
      "state": {
       "layout": "IPY_MODEL_234e24831a0f4f43bc69f819aff734ef",
       "style": "IPY_MODEL_87594e0f75114cac9ea7e461d39e53ea",
       "value": "100%"
      }
     },
     "6f7a1a6f807143a381b1a06a03ca9ff4": {
      "model_module": "@jupyter-widgets/controls",
      "model_module_version": "2.0.0",
      "model_name": "HBoxModel",
      "state": {
       "children": [
        "IPY_MODEL_cee6b08836af4849b0c65597ec0a4bf1",
        "IPY_MODEL_19d2a5bbbee14c30bd9480c8930412ef",
        "IPY_MODEL_12bd68cfd5214378b677176807915f57"
       ],
       "layout": "IPY_MODEL_77ff9a2f1111443b9a3740a2f82341be"
      }
     },
     "6fcff024baf2498bb3ac78f0d1527144": {
      "model_module": "@jupyter-widgets/base",
      "model_module_version": "2.0.0",
      "model_name": "LayoutModel",
      "state": {}
     },
     "6fd4f788bb824b16af42e0472465355c": {
      "model_module": "@jupyter-widgets/controls",
      "model_module_version": "2.0.0",
      "model_name": "HBoxModel",
      "state": {
       "children": [
        "IPY_MODEL_dc0dd2981a724c11960fdfb9c4753949",
        "IPY_MODEL_430fec0f20bc4e7ebe830021f63dd731",
        "IPY_MODEL_87bd516446324c848607396a35fbd10d"
       ],
       "layout": "IPY_MODEL_71662bb3355047bfa1794f2618d512fd"
      }
     },
     "6fef9dbe7c7f487ea931cc472232c7f8": {
      "model_module": "@jupyter-widgets/controls",
      "model_module_version": "2.0.0",
      "model_name": "FloatProgressModel",
      "state": {
       "bar_style": "danger",
       "layout": "IPY_MODEL_8ed4ea60c228441bb58a109bfdb44d87",
       "max": 14,
       "style": "IPY_MODEL_2d314896d673436ca34fb2700ce24e3f",
       "value": 8
      }
     },
     "702032d5605547c28038f28511a85928": {
      "model_module": "@jupyter-widgets/base",
      "model_module_version": "2.0.0",
      "model_name": "LayoutModel",
      "state": {}
     },
     "70268c8c928f4f88b7800ca0b349bf8e": {
      "model_module": "@jupyter-widgets/controls",
      "model_module_version": "2.0.0",
      "model_name": "FloatProgressModel",
      "state": {
       "bar_style": "success",
       "layout": "IPY_MODEL_85a207da415748b88779087c996cfbbe",
       "max": 3,
       "style": "IPY_MODEL_a52dc0b6be834b578252ec84b57cb7ae",
       "value": 3
      }
     },
     "705019b0b05f4387aefdd6bb569e74d9": {
      "model_module": "@jupyter-widgets/controls",
      "model_module_version": "2.0.0",
      "model_name": "HTMLStyleModel",
      "state": {
       "description_width": "",
       "font_size": null,
       "text_color": null
      }
     },
     "70960292e2904c71aaf0829c5276ff22": {
      "model_module": "@jupyter-widgets/controls",
      "model_module_version": "2.0.0",
      "model_name": "HTMLModel",
      "state": {
       "layout": "IPY_MODEL_f302702e49304ecc970ba60d6dff4f48",
       "style": "IPY_MODEL_54ed6756a74146a8bcf1d0d9a6838a2b",
       "value": " 67%"
      }
     },
     "70aed8869bb54430ad242135ad759d2f": {
      "model_module": "@jupyter-widgets/controls",
      "model_module_version": "2.0.0",
      "model_name": "HBoxModel",
      "state": {
       "children": [
        "IPY_MODEL_2b06f801070a48a5bb5f39f5577cf5f1",
        "IPY_MODEL_b6c01ffdf5dc4c1a93c67b7a9fa840a0",
        "IPY_MODEL_c0a9ef47e8e84bcba447e99fa44f6883"
       ],
       "layout": "IPY_MODEL_271558bdfe944780b3e8a65d2bfe1626"
      }
     },
     "70eea4c1fb1e41ff8ee31f5613ef5754": {
      "model_module": "@jupyter-widgets/base",
      "model_module_version": "2.0.0",
      "model_name": "LayoutModel",
      "state": {}
     },
     "71662bb3355047bfa1794f2618d512fd": {
      "model_module": "@jupyter-widgets/base",
      "model_module_version": "2.0.0",
      "model_name": "LayoutModel",
      "state": {}
     },
     "71c16ffe2b024132b2cf659c64ff8904": {
      "model_module": "@jupyter-widgets/controls",
      "model_module_version": "2.0.0",
      "model_name": "FloatProgressModel",
      "state": {
       "bar_style": "success",
       "layout": "IPY_MODEL_e9f11de37b074385b4ae630297261ce2",
       "max": 6,
       "style": "IPY_MODEL_4ffcd09f2b804a8cae799939c2e95ae0",
       "value": 6
      }
     },
     "721e182dd01e47aca3f0e758c8c7c4b6": {
      "model_module": "@jupyter-widgets/controls",
      "model_module_version": "2.0.0",
      "model_name": "DescriptionStyleModel",
      "state": {
       "description_width": ""
      }
     },
     "72959c60ea7840199da1f865e3205678": {
      "model_module": "@jupyter-widgets/controls",
      "model_module_version": "2.0.0",
      "model_name": "HTMLStyleModel",
      "state": {
       "description_width": "",
       "font_size": null,
       "text_color": null
      }
     },
     "730913aaea4747af9cb8ab72603e2493": {
      "model_module": "@jupyter-widgets/controls",
      "model_module_version": "2.0.0",
      "model_name": "HTMLModel",
      "state": {
       "layout": "IPY_MODEL_c94f83c2248f4f50974750f0c2ee6bc1",
       "style": "IPY_MODEL_bb4c687cc5b7401d8d90170737dfe53e",
       "value": " 6/6 [00:08&lt;00:00,  1.96s/it]"
      }
     },
     "73d6e42220b34c1db7c9c32952805469": {
      "model_module": "@jupyter-widgets/controls",
      "model_module_version": "2.0.0",
      "model_name": "DescriptionStyleModel",
      "state": {
       "description_width": ""
      }
     },
     "749e6b87082c4e4bbdd4030cad16b4ca": {
      "model_module": "@jupyter-widgets/controls",
      "model_module_version": "2.0.0",
      "model_name": "FloatProgressModel",
      "state": {
       "bar_style": "success",
       "layout": "IPY_MODEL_bd101b633ea34ac69246ecb0598515b8",
       "max": 14,
       "style": "IPY_MODEL_9cb0f87fdb62465a8ac2ef169db7b6b9",
       "value": 14
      }
     },
     "74b05596216a49a1b150b9be0061ffef": {
      "model_module": "@jupyter-widgets/controls",
      "model_module_version": "2.0.0",
      "model_name": "HTMLModel",
      "state": {
       "layout": "IPY_MODEL_7b937f4aa0db46cbbdf18c146a4d8d9d",
       "style": "IPY_MODEL_e49fc61a072143458af206edcef6af8c",
       "value": " 14/14 [00:35&lt;00:00,  2.65s/it]"
      }
     },
     "74b140d56f264876ad3baac400674e81": {
      "model_module": "@jupyter-widgets/base",
      "model_module_version": "2.0.0",
      "model_name": "LayoutModel",
      "state": {}
     },
     "74beaec67ac64b4f9e4ffd9764bd2b9d": {
      "model_module": "@jupyter-widgets/controls",
      "model_module_version": "2.0.0",
      "model_name": "DescriptionStyleModel",
      "state": {
       "description_width": ""
      }
     },
     "74e16d5201b746f6bda501151e592eed": {
      "model_module": "@jupyter-widgets/controls",
      "model_module_version": "2.0.0",
      "model_name": "ProgressStyleModel",
      "state": {
       "description_width": ""
      }
     },
     "7598e2700b684d90841799187dfcc138": {
      "model_module": "@jupyter-widgets/controls",
      "model_module_version": "2.0.0",
      "model_name": "HTMLModel",
      "state": {
       "layout": "IPY_MODEL_415ded97bd634a94aa9493edee1aef5e",
       "style": "IPY_MODEL_2a1b43fb3d5e41dbaad395e88d69dc17",
       "value": " 10/14 [00:26&lt;00:17,  4.32s/it]"
      }
     },
     "761aab67640240e3ba173a5b2eaf5401": {
      "model_module": "@jupyter-widgets/base",
      "model_module_version": "2.0.0",
      "model_name": "LayoutModel",
      "state": {}
     },
     "761febfec9434d18a10e7a292405c5d3": {
      "model_module": "@jupyter-widgets/controls",
      "model_module_version": "2.0.0",
      "model_name": "HTMLModel",
      "state": {
       "layout": "IPY_MODEL_2493d03c7bd34717904cab4538dd29ad",
       "style": "IPY_MODEL_437853bb71fc48718a27425bc6fcd9c5",
       "value": " 3/3 [00:10&lt;00:00,  4.29s/it]"
      }
     },
     "7656a75fac334758bff1db99160dd95b": {
      "model_module": "@jupyter-widgets/controls",
      "model_module_version": "2.0.0",
      "model_name": "HTMLStyleModel",
      "state": {
       "description_width": "",
       "font_size": null,
       "text_color": null
      }
     },
     "76d91f459d6d4f2aa4c55161e3e2fbd5": {
      "model_module": "@jupyter-widgets/controls",
      "model_module_version": "2.0.0",
      "model_name": "DescriptionStyleModel",
      "state": {
       "description_width": ""
      }
     },
     "76dc5ba1a0eb48358cccdd7b604f2521": {
      "model_module": "@jupyter-widgets/base",
      "model_module_version": "2.0.0",
      "model_name": "LayoutModel",
      "state": {}
     },
     "77027611d9f94233a558744125d779c3": {
      "model_module": "@jupyter-widgets/controls",
      "model_module_version": "2.0.0",
      "model_name": "DescriptionStyleModel",
      "state": {
       "description_width": ""
      }
     },
     "77060f02c0864339a20814717a687e8b": {
      "model_module": "@jupyter-widgets/controls",
      "model_module_version": "2.0.0",
      "model_name": "HTMLModel",
      "state": {
       "layout": "IPY_MODEL_93384c970167447d96b9fbe341ba03f3",
       "style": "IPY_MODEL_334b08b1d51a4a27ba72938258be0194",
       "value": "100%"
      }
     },
     "77569b61b9f94b3bba023f8f25e98d70": {
      "model_module": "@jupyter-widgets/base",
      "model_module_version": "2.0.0",
      "model_name": "LayoutModel",
      "state": {}
     },
     "7764764341734b73a31c67d572f15ab7": {
      "model_module": "@jupyter-widgets/controls",
      "model_module_version": "2.0.0",
      "model_name": "HBoxModel",
      "state": {
       "children": [
        "IPY_MODEL_1ea51bc560ca4022bb1a949c79a0f734",
        "IPY_MODEL_4388f670ebb044a3a9838ebdc4c2a587",
        "IPY_MODEL_b99910e822374a6b9ce70d7b96324062"
       ],
       "layout": "IPY_MODEL_62631fe6d1564f839a570964b62a24c8"
      }
     },
     "777f86a86f664c9cb9be08b5315a4d59": {
      "model_module": "@jupyter-widgets/controls",
      "model_module_version": "2.0.0",
      "model_name": "FloatProgressModel",
      "state": {
       "bar_style": "success",
       "layout": "IPY_MODEL_a251fdba365540e59af8cbd3077647f0",
       "max": 3,
       "style": "IPY_MODEL_c5bdc1aea1dc42808c80934112cab5ca",
       "value": 3
      }
     },
     "77c0f641a17541f098b0af2bfc288ba2": {
      "model_module": "@jupyter-widgets/controls",
      "model_module_version": "2.0.0",
      "model_name": "HTMLStyleModel",
      "state": {
       "description_width": "",
       "font_size": null,
       "text_color": null
      }
     },
     "77cc87b539e74f5dafad722153e60cd3": {
      "model_module": "@jupyter-widgets/controls",
      "model_module_version": "2.0.0",
      "model_name": "DescriptionStyleModel",
      "state": {
       "description_width": ""
      }
     },
     "77ed0aba6bdd404193911cba5b9d44ea": {
      "model_module": "@jupyter-widgets/controls",
      "model_module_version": "2.0.0",
      "model_name": "DescriptionStyleModel",
      "state": {
       "description_width": ""
      }
     },
     "77ff9a2f1111443b9a3740a2f82341be": {
      "model_module": "@jupyter-widgets/base",
      "model_module_version": "2.0.0",
      "model_name": "LayoutModel",
      "state": {}
     },
     "782e5b5a30014d79b29896c0c203222d": {
      "model_module": "@jupyter-widgets/base",
      "model_module_version": "2.0.0",
      "model_name": "LayoutModel",
      "state": {}
     },
     "783ab5f1eaf04f2e9109c2425d8d2ce7": {
      "model_module": "@jupyter-widgets/controls",
      "model_module_version": "2.0.0",
      "model_name": "HTMLModel",
      "state": {
       "layout": "IPY_MODEL_5a47368809b04a868d7c3abfa75b1f0b",
       "style": "IPY_MODEL_ffaab0ce30f54c8899278aa16a20a700",
       "value": "100%"
      }
     },
     "7863273832e24bb2b5709eec56869f46": {
      "model_module": "@jupyter-widgets/controls",
      "model_module_version": "2.0.0",
      "model_name": "HTMLModel",
      "state": {
       "layout": "IPY_MODEL_4c7a44cfe46546c7ad4510925b762ba3",
       "style": "IPY_MODEL_63db93ef7251427da2644643a5f52e2a",
       "value": " 3/3 [00:10&lt;00:00,  3.99s/it]"
      }
     },
     "78c8eefc38c6474fa027d6414ab01f75": {
      "model_module": "@jupyter-widgets/base",
      "model_module_version": "2.0.0",
      "model_name": "LayoutModel",
      "state": {}
     },
     "799c2ce912b542fe9177159be2e714af": {
      "model_module": "@jupyter-widgets/controls",
      "model_module_version": "2.0.0",
      "model_name": "FloatProgressModel",
      "state": {
       "bar_style": "success",
       "layout": "IPY_MODEL_edba1ebe3a684c6da97596e98b5211a5",
       "max": 14,
       "style": "IPY_MODEL_e4fee53c94fa471e8eb4b075e0b60ed2",
       "value": 14
      }
     },
     "79a44aa20b9946bc8b79ab2e2e5df6a2": {
      "model_module": "@jupyter-widgets/controls",
      "model_module_version": "2.0.0",
      "model_name": "FloatProgressModel",
      "state": {
       "bar_style": "success",
       "layout": "IPY_MODEL_46f145a243894c2d993c289862c13a8b",
       "max": 14,
       "style": "IPY_MODEL_a0618f7e69d04e0a9872eb21f6b60876",
       "value": 14
      }
     },
     "79d7c97072684d3f9b29378b6b243616": {
      "model_module": "@jupyter-widgets/controls",
      "model_module_version": "2.0.0",
      "model_name": "HBoxModel",
      "state": {
       "children": [
        "IPY_MODEL_7fc0e0843f474d44ac6ab47c69f5c3e3",
        "IPY_MODEL_80d0c8c416f94608b61f96459cf40fe7",
        "IPY_MODEL_fec48c92bd4346b18cec58b6d94fbb49"
       ],
       "layout": "IPY_MODEL_ee0c4e46207a4274a774314fe021f144"
      }
     },
     "7a10d58c1ecc444c83d13eb4996e5ee4": {
      "model_module": "@jupyter-widgets/base",
      "model_module_version": "2.0.0",
      "model_name": "LayoutModel",
      "state": {}
     },
     "7a28907fd43d4e51b721aa9335b3ddd1": {
      "model_module": "@jupyter-widgets/base",
      "model_module_version": "2.0.0",
      "model_name": "LayoutModel",
      "state": {}
     },
     "7a5f3f054d8d4da3aed21f20541bed79": {
      "model_module": "@jupyter-widgets/controls",
      "model_module_version": "2.0.0",
      "model_name": "HTMLModel",
      "state": {
       "layout": "IPY_MODEL_23305649c3294c339f312c5895d8215e",
       "style": "IPY_MODEL_589a4e209def475289c2189ea9d4b87d",
       "value": "  0%"
      }
     },
     "7aab256f06ef4b9e8565daa375e42e01": {
      "model_module": "@jupyter-widgets/controls",
      "model_module_version": "2.0.0",
      "model_name": "DescriptionStyleModel",
      "state": {
       "description_width": ""
      }
     },
     "7ac288d49970411bbc6f9fd4c48b352e": {
      "model_module": "@jupyter-widgets/controls",
      "model_module_version": "2.0.0",
      "model_name": "HTMLStyleModel",
      "state": {
       "description_width": "",
       "font_size": null,
       "text_color": null
      }
     },
     "7ad06790a5154b6986cba20d76f8be7d": {
      "model_module": "@jupyter-widgets/controls",
      "model_module_version": "2.0.0",
      "model_name": "ProgressStyleModel",
      "state": {
       "description_width": ""
      }
     },
     "7aedc26c48254a838669f450a1fcbb22": {
      "model_module": "@jupyter-widgets/controls",
      "model_module_version": "2.0.0",
      "model_name": "ProgressStyleModel",
      "state": {
       "description_width": ""
      }
     },
     "7b671e2e52f24c399d68c55d193f4624": {
      "model_module": "@jupyter-widgets/controls",
      "model_module_version": "2.0.0",
      "model_name": "HTMLModel",
      "state": {
       "layout": "IPY_MODEL_1b3e9c32128b4afd82e6239a2c210fd1",
       "style": "IPY_MODEL_837873934a2b49d7b1739352bf6c8c7c",
       "value": " 3/3 [00:10&lt;00:00,  4.20s/it]"
      }
     },
     "7b937f4aa0db46cbbdf18c146a4d8d9d": {
      "model_module": "@jupyter-widgets/base",
      "model_module_version": "2.0.0",
      "model_name": "LayoutModel",
      "state": {}
     },
     "7b94f9a54ba547ecaa1e06fb565d1e14": {
      "model_module": "@jupyter-widgets/controls",
      "model_module_version": "2.0.0",
      "model_name": "HBoxModel",
      "state": {
       "children": [
        "IPY_MODEL_0b4691c9dc8c4730b2406addff4465cf",
        "IPY_MODEL_195bf44553064ef9b5c442ed7f8d14c0",
        "IPY_MODEL_68639f2e8c1c4e3289e0f6d8dce28243"
       ],
       "layout": "IPY_MODEL_2675acb784a64d10b3c0d15cb32666e4"
      }
     },
     "7bc1387af95243a4936c14134903bc0d": {
      "model_module": "@jupyter-widgets/base",
      "model_module_version": "2.0.0",
      "model_name": "LayoutModel",
      "state": {}
     },
     "7c0f779c53b24b90bfd89261b716e72d": {
      "model_module": "@jupyter-widgets/controls",
      "model_module_version": "2.0.0",
      "model_name": "DescriptionStyleModel",
      "state": {
       "description_width": ""
      }
     },
     "7c31ea7a778745c7b6d783ad107c3f8b": {
      "model_module": "@jupyter-widgets/controls",
      "model_module_version": "2.0.0",
      "model_name": "ProgressStyleModel",
      "state": {
       "description_width": ""
      }
     },
     "7cdbaf6f3ca74f5f9129c7b62ff0fad9": {
      "model_module": "@jupyter-widgets/base",
      "model_module_version": "2.0.0",
      "model_name": "LayoutModel",
      "state": {}
     },
     "7d1f068199244ed6b81817ea80f86c30": {
      "model_module": "@jupyter-widgets/base",
      "model_module_version": "2.0.0",
      "model_name": "LayoutModel",
      "state": {}
     },
     "7e6348b6f12249d5968b9eb97f166010": {
      "model_module": "@jupyter-widgets/controls",
      "model_module_version": "2.0.0",
      "model_name": "DescriptionStyleModel",
      "state": {
       "description_width": ""
      }
     },
     "7e6cc6a679764955ae923d5a7ffce52d": {
      "model_module": "@jupyter-widgets/base",
      "model_module_version": "2.0.0",
      "model_name": "LayoutModel",
      "state": {}
     },
     "7e75042516144e45b782a1306aa9391c": {
      "model_module": "@jupyter-widgets/base",
      "model_module_version": "2.0.0",
      "model_name": "LayoutModel",
      "state": {}
     },
     "7eae24d97b304548b79fa6b8c4f0440c": {
      "model_module": "@jupyter-widgets/controls",
      "model_module_version": "2.0.0",
      "model_name": "HTMLModel",
      "state": {
       "layout": "IPY_MODEL_ab1b358f19404b43ab69060dc71719fd",
       "style": "IPY_MODEL_98b51c8e0b6446d884029b755913174d",
       "value": " 0/6 [00:00&lt;?, ?it/s]"
      }
     },
     "7f39e4fb792e4f0dbe1c7c27002d693a": {
      "model_module": "@jupyter-widgets/controls",
      "model_module_version": "2.0.0",
      "model_name": "FloatProgressModel",
      "state": {
       "bar_style": "success",
       "layout": "IPY_MODEL_81b26703a68944f4ab93ad79e9c80094",
       "max": 14,
       "style": "IPY_MODEL_a4587bcd144e43aca297d025ad154820",
       "value": 14
      }
     },
     "7fc0e0843f474d44ac6ab47c69f5c3e3": {
      "model_module": "@jupyter-widgets/controls",
      "model_module_version": "2.0.0",
      "model_name": "HTMLModel",
      "state": {
       "layout": "IPY_MODEL_623a9efab414447da1c1ae61858f5778",
       "style": "IPY_MODEL_5fe97e3ddaf541e8bb132154c246ac91",
       "value": "100%"
      }
     },
     "801c18dea9304ecbb6bb0636069827d4": {
      "model_module": "@jupyter-widgets/base",
      "model_module_version": "2.0.0",
      "model_name": "LayoutModel",
      "state": {}
     },
     "802c5562f59f42ef96997de1b9feb3b5": {
      "model_module": "@jupyter-widgets/controls",
      "model_module_version": "2.0.0",
      "model_name": "HTMLModel",
      "state": {
       "layout": "IPY_MODEL_a99c5e20d6d7423181e14969ec0ffc55",
       "style": "IPY_MODEL_edd4ff7f3e974300b167832d9129ddc9",
       "value": "100%"
      }
     },
     "8039000c118c4b35bc9ffcc4d13b27f3": {
      "model_module": "@jupyter-widgets/controls",
      "model_module_version": "2.0.0",
      "model_name": "HTMLModel",
      "state": {
       "layout": "IPY_MODEL_084efb17fade418aac55ccf88c99373d",
       "style": "IPY_MODEL_fcae490625734c64bdd2385f2511ea70",
       "value": " 14/14 [00:37&lt;00:00,  2.77s/it]"
      }
     },
     "805874e27f1a45e1b89fb0c287a680a8": {
      "model_module": "@jupyter-widgets/controls",
      "model_module_version": "2.0.0",
      "model_name": "DescriptionStyleModel",
      "state": {
       "description_width": ""
      }
     },
     "809b845a947d4eceaa9d7201273254c6": {
      "model_module": "@jupyter-widgets/base",
      "model_module_version": "2.0.0",
      "model_name": "LayoutModel",
      "state": {}
     },
     "80c763c7699b4ff49a71253aa16e9b40": {
      "model_module": "@jupyter-widgets/base",
      "model_module_version": "2.0.0",
      "model_name": "LayoutModel",
      "state": {}
     },
     "80d0c8c416f94608b61f96459cf40fe7": {
      "model_module": "@jupyter-widgets/controls",
      "model_module_version": "2.0.0",
      "model_name": "FloatProgressModel",
      "state": {
       "bar_style": "success",
       "layout": "IPY_MODEL_7e75042516144e45b782a1306aa9391c",
       "max": 6,
       "style": "IPY_MODEL_b8816800b87d481bb2bae8c7a9c6e818",
       "value": 6
      }
     },
     "810d595243204b40860e6dae8429371f": {
      "model_module": "@jupyter-widgets/controls",
      "model_module_version": "2.0.0",
      "model_name": "HTMLModel",
      "state": {
       "layout": "IPY_MODEL_835227c5d2954262939a6cba31a5dc46",
       "style": "IPY_MODEL_50f4f2ca4dba4a54b2e2e14d411ef914",
       "value": " 6/6 [00:11&lt;00:00,  2.78s/it]"
      }
     },
     "8119cd3961734583bf6db0c483e7f3a5": {
      "model_module": "@jupyter-widgets/controls",
      "model_module_version": "2.0.0",
      "model_name": "HTMLModel",
      "state": {
       "layout": "IPY_MODEL_0f08dbddfbf34a21a5d145735909cfec",
       "style": "IPY_MODEL_a2dc4e35c9ca48d3a6e51fc5cefd0ced",
       "value": " 14/14 [00:34&lt;00:00,  2.58s/it]"
      }
     },
     "81219c097ac744b69ad4e171ef739df5": {
      "model_module": "@jupyter-widgets/controls",
      "model_module_version": "2.0.0",
      "model_name": "DescriptionStyleModel",
      "state": {
       "description_width": ""
      }
     },
     "817301f479794c12b0e516e4b27ca565": {
      "model_module": "@jupyter-widgets/base",
      "model_module_version": "2.0.0",
      "model_name": "LayoutModel",
      "state": {}
     },
     "8184abafd437439481a39fe8f50c41bf": {
      "model_module": "@jupyter-widgets/controls",
      "model_module_version": "2.0.0",
      "model_name": "ProgressStyleModel",
      "state": {
       "description_width": ""
      }
     },
     "81b26703a68944f4ab93ad79e9c80094": {
      "model_module": "@jupyter-widgets/base",
      "model_module_version": "2.0.0",
      "model_name": "LayoutModel",
      "state": {}
     },
     "81e017f82e2b4d11af2c8ce57dcb546b": {
      "model_module": "@jupyter-widgets/base",
      "model_module_version": "2.0.0",
      "model_name": "LayoutModel",
      "state": {}
     },
     "81fd12c7fc3c414b93a7481f3fb7da1e": {
      "model_module": "@jupyter-widgets/controls",
      "model_module_version": "2.0.0",
      "model_name": "HTMLModel",
      "state": {
       "layout": "IPY_MODEL_276ce3320f1349639ffd64105f12b350",
       "style": "IPY_MODEL_77027611d9f94233a558744125d779c3",
       "value": "100%"
      }
     },
     "8217a65ec82749c384cfde988d04b47e": {
      "model_module": "@jupyter-widgets/base",
      "model_module_version": "2.0.0",
      "model_name": "LayoutModel",
      "state": {}
     },
     "82c29639356a4a678ac451eeb04f30de": {
      "model_module": "@jupyter-widgets/base",
      "model_module_version": "2.0.0",
      "model_name": "LayoutModel",
      "state": {}
     },
     "82fb3cf99ebb4e96ac943460c9281ad7": {
      "model_module": "@jupyter-widgets/controls",
      "model_module_version": "2.0.0",
      "model_name": "HTMLModel",
      "state": {
       "layout": "IPY_MODEL_4df9ea255ee04057a55797a504a03021",
       "style": "IPY_MODEL_f4e82aa0dad7492e9f251f424c0459f3",
       "value": " 3/3 [00:11&lt;00:00,  4.35s/it]"
      }
     },
     "83367f94883e4fd6883bf6596850b72c": {
      "model_module": "@jupyter-widgets/controls",
      "model_module_version": "2.0.0",
      "model_name": "ProgressStyleModel",
      "state": {
       "description_width": ""
      }
     },
     "835227c5d2954262939a6cba31a5dc46": {
      "model_module": "@jupyter-widgets/base",
      "model_module_version": "2.0.0",
      "model_name": "LayoutModel",
      "state": {}
     },
     "837873934a2b49d7b1739352bf6c8c7c": {
      "model_module": "@jupyter-widgets/controls",
      "model_module_version": "2.0.0",
      "model_name": "DescriptionStyleModel",
      "state": {
       "description_width": ""
      }
     },
     "83c2fac7843c4663a1b118a4efb743db": {
      "model_module": "@jupyter-widgets/controls",
      "model_module_version": "2.0.0",
      "model_name": "HTMLModel",
      "state": {
       "layout": "IPY_MODEL_5592b4ced2b04897acb15b7d476b9740",
       "style": "IPY_MODEL_f13ca19e18544997bae83876d0159c0a",
       "value": "100%"
      }
     },
     "845af8d2da2a4ab4ad8df8b4e2341619": {
      "model_module": "@jupyter-widgets/controls",
      "model_module_version": "2.0.0",
      "model_name": "DescriptionStyleModel",
      "state": {
       "description_width": ""
      }
     },
     "850b5faee343454caff7bcb954c1b297": {
      "model_module": "@jupyter-widgets/base",
      "model_module_version": "2.0.0",
      "model_name": "LayoutModel",
      "state": {}
     },
     "854dbd68562548558ed1aa363a4554d2": {
      "model_module": "@jupyter-widgets/controls",
      "model_module_version": "2.0.0",
      "model_name": "HTMLModel",
      "state": {
       "layout": "IPY_MODEL_530227233cdb4d7bbe6a127d11bbbc96",
       "style": "IPY_MODEL_5f3c41984e834353b4bd3fbb27a25c2c",
       "value": " 3/3 [00:10&lt;00:00,  4.26s/it]"
      }
     },
     "856fc5b6342d48619ba1ba16c73ed3f4": {
      "model_module": "@jupyter-widgets/controls",
      "model_module_version": "2.0.0",
      "model_name": "HTMLStyleModel",
      "state": {
       "description_width": "",
       "font_size": null,
       "text_color": null
      }
     },
     "8588cbf7c52d4f418839811101f446cc": {
      "model_module": "@jupyter-widgets/base",
      "model_module_version": "2.0.0",
      "model_name": "LayoutModel",
      "state": {}
     },
     "85a207da415748b88779087c996cfbbe": {
      "model_module": "@jupyter-widgets/base",
      "model_module_version": "2.0.0",
      "model_name": "LayoutModel",
      "state": {}
     },
     "85bac26c66964215ac5fdf16b0e39b66": {
      "model_module": "@jupyter-widgets/base",
      "model_module_version": "2.0.0",
      "model_name": "LayoutModel",
      "state": {}
     },
     "85d9ce7fbbea4356a2844cb8e9bd2564": {
      "model_module": "@jupyter-widgets/controls",
      "model_module_version": "2.0.0",
      "model_name": "DescriptionStyleModel",
      "state": {
       "description_width": ""
      }
     },
     "85e61beb995d4af989a3d453931372b6": {
      "model_module": "@jupyter-widgets/controls",
      "model_module_version": "2.0.0",
      "model_name": "HBoxModel",
      "state": {
       "children": [
        "IPY_MODEL_57dfcbb0414848a7afaf25ae5b8f6318",
        "IPY_MODEL_59cb8b51d70545db801f62bf91dde842",
        "IPY_MODEL_7b671e2e52f24c399d68c55d193f4624"
       ],
       "layout": "IPY_MODEL_e5627be0bb0747cbb16d4c50cdc94823"
      }
     },
     "85ef1aa4fcf8440085059dd1730c10ce": {
      "model_module": "@jupyter-widgets/controls",
      "model_module_version": "2.0.0",
      "model_name": "HBoxModel",
      "state": {
       "children": [
        "IPY_MODEL_f66bdd911a814945be5752c9df45f480",
        "IPY_MODEL_79a44aa20b9946bc8b79ab2e2e5df6a2",
        "IPY_MODEL_47f98225af024bc7af24fb7f21e52399"
       ],
       "layout": "IPY_MODEL_212dcdc1e2d240d883b18393d45acda8"
      }
     },
     "86408805e10e4b36b31272710102a681": {
      "model_module": "@jupyter-widgets/controls",
      "model_module_version": "2.0.0",
      "model_name": "HTMLStyleModel",
      "state": {
       "description_width": "",
       "font_size": null,
       "text_color": null
      }
     },
     "86b7cab297b94e7ab2ac786d7cd1fa55": {
      "model_module": "@jupyter-widgets/base",
      "model_module_version": "2.0.0",
      "model_name": "LayoutModel",
      "state": {}
     },
     "8758e08007c147cc995a9cd778321546": {
      "model_module": "@jupyter-widgets/base",
      "model_module_version": "2.0.0",
      "model_name": "LayoutModel",
      "state": {}
     },
     "87594e0f75114cac9ea7e461d39e53ea": {
      "model_module": "@jupyter-widgets/controls",
      "model_module_version": "2.0.0",
      "model_name": "DescriptionStyleModel",
      "state": {
       "description_width": ""
      }
     },
     "876f19a2a1274dfaab89aed4f6d34307": {
      "model_module": "@jupyter-widgets/controls",
      "model_module_version": "2.0.0",
      "model_name": "ProgressStyleModel",
      "state": {
       "description_width": ""
      }
     },
     "87797a99938f45d29bd835be4b5ec572": {
      "model_module": "@jupyter-widgets/base",
      "model_module_version": "2.0.0",
      "model_name": "LayoutModel",
      "state": {}
     },
     "87bd516446324c848607396a35fbd10d": {
      "model_module": "@jupyter-widgets/controls",
      "model_module_version": "2.0.0",
      "model_name": "HTMLModel",
      "state": {
       "layout": "IPY_MODEL_115a126a5dc14d9e9e0c1a91e79ef53e",
       "style": "IPY_MODEL_5649d18abbde4f47a03b99cee129ca40",
       "value": " 3/3 [00:11&lt;00:00,  4.39s/it]"
      }
     },
     "87ed297c898a4aa8a059c3d7c6418959": {
      "model_module": "@jupyter-widgets/base",
      "model_module_version": "2.0.0",
      "model_name": "LayoutModel",
      "state": {}
     },
     "88209ef64d6c4b459ebea93a0eacd68c": {
      "model_module": "@jupyter-widgets/controls",
      "model_module_version": "2.0.0",
      "model_name": "FloatProgressModel",
      "state": {
       "bar_style": "success",
       "layout": "IPY_MODEL_8a24378d55ee46b6877d4dec1c9a5199",
       "max": 6,
       "style": "IPY_MODEL_91ba93a175354e73ad7477e0f4bdf81a",
       "value": 6
      }
     },
     "8882d1d7c3f1433a9b9101a888037ec7": {
      "model_module": "@jupyter-widgets/controls",
      "model_module_version": "2.0.0",
      "model_name": "HTMLModel",
      "state": {
       "layout": "IPY_MODEL_f65d8a8840ca449cbde70bef05e56953",
       "style": "IPY_MODEL_b0967127666b443cb813bf91f7ecfedf",
       "value": "100%"
      }
     },
     "8884c47ab3c441ce8df0a22eac4b497e": {
      "model_module": "@jupyter-widgets/base",
      "model_module_version": "2.0.0",
      "model_name": "LayoutModel",
      "state": {}
     },
     "88b61669524141039a422c0c834da8c4": {
      "model_module": "@jupyter-widgets/base",
      "model_module_version": "2.0.0",
      "model_name": "LayoutModel",
      "state": {}
     },
     "8981bf35b70148559775a41ed92d1ed1": {
      "model_module": "@jupyter-widgets/base",
      "model_module_version": "2.0.0",
      "model_name": "LayoutModel",
      "state": {}
     },
     "89df800d4df747eaa75255a756977bf8": {
      "model_module": "@jupyter-widgets/controls",
      "model_module_version": "2.0.0",
      "model_name": "ProgressStyleModel",
      "state": {
       "description_width": ""
      }
     },
     "8a03ad0d87be4739985ebdbd8e3f6821": {
      "model_module": "@jupyter-widgets/controls",
      "model_module_version": "2.0.0",
      "model_name": "HTMLModel",
      "state": {
       "layout": "IPY_MODEL_ba29168235254634b5b1b682e0b4ae4c",
       "style": "IPY_MODEL_bc59be59c8e340218f148d15b9e3c513",
       "value": " 14/14 [00:34&lt;00:00,  2.54s/it]"
      }
     },
     "8a24378d55ee46b6877d4dec1c9a5199": {
      "model_module": "@jupyter-widgets/base",
      "model_module_version": "2.0.0",
      "model_name": "LayoutModel",
      "state": {}
     },
     "8b057534064a4e3686cd34358bb93401": {
      "model_module": "@jupyter-widgets/controls",
      "model_module_version": "2.0.0",
      "model_name": "HTMLModel",
      "state": {
       "layout": "IPY_MODEL_bfc48091ec6d4aa88c7cd6e624b2063f",
       "style": "IPY_MODEL_805874e27f1a45e1b89fb0c287a680a8",
       "value": " 3/3 [00:10&lt;00:00,  4.25s/it]"
      }
     },
     "8b16a795483843d3b70dba6e1fd26a29": {
      "model_module": "@jupyter-widgets/base",
      "model_module_version": "2.0.0",
      "model_name": "LayoutModel",
      "state": {}
     },
     "8b612f576d034f368bf01513ba1fdbf7": {
      "model_module": "@jupyter-widgets/controls",
      "model_module_version": "2.0.0",
      "model_name": "HTMLStyleModel",
      "state": {
       "description_width": "",
       "font_size": null,
       "text_color": null
      }
     },
     "8ba4f31efed1433d8576bf8f21e073b8": {
      "model_module": "@jupyter-widgets/controls",
      "model_module_version": "2.0.0",
      "model_name": "HTMLModel",
      "state": {
       "layout": "IPY_MODEL_a67580eb9d634cf69c7c9c303da15028",
       "style": "IPY_MODEL_582ab9a756b849b2b26d95663d2ff9e2",
       "value": "100%"
      }
     },
     "8bde0caeebf740c4bc667fbfa72d02ed": {
      "model_module": "@jupyter-widgets/controls",
      "model_module_version": "2.0.0",
      "model_name": "HTMLModel",
      "state": {
       "layout": "IPY_MODEL_335ac4086e8e40ea906ff302e06b35ec",
       "style": "IPY_MODEL_17800447be014770ae05c74ce802f81c",
       "value": " 71%"
      }
     },
     "8c4974d3c01f4a0ab4612bcd9d2c487e": {
      "model_module": "@jupyter-widgets/controls",
      "model_module_version": "2.0.0",
      "model_name": "FloatProgressModel",
      "state": {
       "bar_style": "success",
       "layout": "IPY_MODEL_06cd218c9ce0406090f8b3651b412fe3",
       "max": 3,
       "style": "IPY_MODEL_069d1da5bb904bb092d378f310a159d1",
       "value": 3
      }
     },
     "8c9fb845d586409ebe1a3b099073ed87": {
      "model_module": "@jupyter-widgets/base",
      "model_module_version": "2.0.0",
      "model_name": "LayoutModel",
      "state": {}
     },
     "8ccf6c8ad7a94dee96a0b8f1c326da34": {
      "model_module": "@jupyter-widgets/controls",
      "model_module_version": "2.0.0",
      "model_name": "DescriptionStyleModel",
      "state": {
       "description_width": ""
      }
     },
     "8d0d8c956fc0459f905a8b1a41ffe4fe": {
      "model_module": "@jupyter-widgets/base",
      "model_module_version": "2.0.0",
      "model_name": "LayoutModel",
      "state": {}
     },
     "8d4c233f2bd34fc785689c28a4443ae4": {
      "model_module": "@jupyter-widgets/base",
      "model_module_version": "2.0.0",
      "model_name": "LayoutModel",
      "state": {}
     },
     "8d537c8aa9584d61a56bb5641182a29e": {
      "model_module": "@jupyter-widgets/base",
      "model_module_version": "2.0.0",
      "model_name": "LayoutModel",
      "state": {}
     },
     "8d594a3eb60f4356a1bd8855a8fbab5e": {
      "model_module": "@jupyter-widgets/controls",
      "model_module_version": "2.0.0",
      "model_name": "HTMLModel",
      "state": {
       "layout": "IPY_MODEL_2e67d915b16444b9b3a482f2cd5cc527",
       "style": "IPY_MODEL_e58ad84b62ec439799d1916be0c1311f",
       "value": "100%"
      }
     },
     "8db24025e8b24c4a812fbe69c0ae9de9": {
      "model_module": "@jupyter-widgets/controls",
      "model_module_version": "2.0.0",
      "model_name": "FloatProgressModel",
      "state": {
       "bar_style": "success",
       "layout": "IPY_MODEL_415a0ab04e254c019410b5f8792449de",
       "max": 6,
       "style": "IPY_MODEL_a1e775eb43e44bc4acd045fc2f754041",
       "value": 6
      }
     },
     "8de9a6074fbd4b38a5a91f1463b54fc9": {
      "model_module": "@jupyter-widgets/base",
      "model_module_version": "2.0.0",
      "model_name": "LayoutModel",
      "state": {}
     },
     "8e28b38aef194897b6131f4317563b9f": {
      "model_module": "@jupyter-widgets/controls",
      "model_module_version": "2.0.0",
      "model_name": "DescriptionStyleModel",
      "state": {
       "description_width": ""
      }
     },
     "8ec11039193343d798c4d59b2cfe705b": {
      "model_module": "@jupyter-widgets/controls",
      "model_module_version": "2.0.0",
      "model_name": "DescriptionStyleModel",
      "state": {
       "description_width": ""
      }
     },
     "8ed4ea60c228441bb58a109bfdb44d87": {
      "model_module": "@jupyter-widgets/base",
      "model_module_version": "2.0.0",
      "model_name": "LayoutModel",
      "state": {}
     },
     "8f3469b12b6d41cca996c3174a8a94d3": {
      "model_module": "@jupyter-widgets/controls",
      "model_module_version": "2.0.0",
      "model_name": "FloatProgressModel",
      "state": {
       "bar_style": "success",
       "layout": "IPY_MODEL_d23780089de748e3a6494a99c3811a90",
       "max": 14,
       "style": "IPY_MODEL_3bf48ed08eed4ac5a645a04c7acea2f0",
       "value": 14
      }
     },
     "8f409e26f6304a798feedac9af5080d5": {
      "model_module": "@jupyter-widgets/base",
      "model_module_version": "2.0.0",
      "model_name": "LayoutModel",
      "state": {}
     },
     "8f5256878fcc4418932eb682a7007e91": {
      "model_module": "@jupyter-widgets/controls",
      "model_module_version": "2.0.0",
      "model_name": "DescriptionStyleModel",
      "state": {
       "description_width": ""
      }
     },
     "8f744712f1da42b693089113de819dfb": {
      "model_module": "@jupyter-widgets/controls",
      "model_module_version": "2.0.0",
      "model_name": "HTMLModel",
      "state": {
       "layout": "IPY_MODEL_e8e8410b949c4d85ab8ffc6736cacd90",
       "style": "IPY_MODEL_3f5fc16ddecb4154990b5e1d937d9c61",
       "value": " 6/6 [00:08&lt;00:00,  2.00s/it]"
      }
     },
     "8f87a82165fc452397ac70cad966bbe4": {
      "model_module": "@jupyter-widgets/controls",
      "model_module_version": "2.0.0",
      "model_name": "ProgressStyleModel",
      "state": {
       "description_width": ""
      }
     },
     "8fa32913544f4ff7ae6cc19b754896c1": {
      "model_module": "@jupyter-widgets/base",
      "model_module_version": "2.0.0",
      "model_name": "LayoutModel",
      "state": {}
     },
     "8ff573009e114a3f87d3b18fc70f28cc": {
      "model_module": "@jupyter-widgets/controls",
      "model_module_version": "2.0.0",
      "model_name": "HTMLModel",
      "state": {
       "layout": "IPY_MODEL_809b845a947d4eceaa9d7201273254c6",
       "style": "IPY_MODEL_d19518513e8a44dfa6fb2814c8c8f05d",
       "value": " 3/3 [00:10&lt;00:00,  4.19s/it]"
      }
     },
     "90220a88101d49e888b6f83bfb6df436": {
      "model_module": "@jupyter-widgets/base",
      "model_module_version": "2.0.0",
      "model_name": "LayoutModel",
      "state": {}
     },
     "902f154135734038946c4cb43ac040ea": {
      "model_module": "@jupyter-widgets/controls",
      "model_module_version": "2.0.0",
      "model_name": "FloatProgressModel",
      "state": {
       "bar_style": "success",
       "layout": "IPY_MODEL_86b7cab297b94e7ab2ac786d7cd1fa55",
       "max": 6,
       "style": "IPY_MODEL_a7a16d4f0fb34f68b8745330c293ea9d",
       "value": 6
      }
     },
     "903eacd04bae46db83092bc1e8f150e2": {
      "model_module": "@jupyter-widgets/base",
      "model_module_version": "2.0.0",
      "model_name": "LayoutModel",
      "state": {}
     },
     "9081a73355fa4afcacf5da26e5f3a77f": {
      "model_module": "@jupyter-widgets/controls",
      "model_module_version": "2.0.0",
      "model_name": "HBoxModel",
      "state": {
       "children": [
        "IPY_MODEL_96efe36f1bb949629a3d121c3028b8bb",
        "IPY_MODEL_f088a133a8804674b9dd7f297ffbf9c2",
        "IPY_MODEL_d83e8dcffaef45478777c81975daeb66"
       ],
       "layout": "IPY_MODEL_8d537c8aa9584d61a56bb5641182a29e"
      }
     },
     "90847593a34c4349a601197e200e330b": {
      "model_module": "@jupyter-widgets/controls",
      "model_module_version": "2.0.0",
      "model_name": "FloatProgressModel",
      "state": {
       "bar_style": "success",
       "layout": "IPY_MODEL_3e038dd87e8e4559b113c386a0626299",
       "max": 14,
       "style": "IPY_MODEL_8f87a82165fc452397ac70cad966bbe4",
       "value": 14
      }
     },
     "90923c837e1b4ab9bc13f1267d9159d8": {
      "model_module": "@jupyter-widgets/base",
      "model_module_version": "2.0.0",
      "model_name": "LayoutModel",
      "state": {}
     },
     "917f0d2e1d3647cc9e7a51370040f48c": {
      "model_module": "@jupyter-widgets/controls",
      "model_module_version": "2.0.0",
      "model_name": "HTMLStyleModel",
      "state": {
       "description_width": "",
       "font_size": null,
       "text_color": null
      }
     },
     "91ba93a175354e73ad7477e0f4bdf81a": {
      "model_module": "@jupyter-widgets/controls",
      "model_module_version": "2.0.0",
      "model_name": "ProgressStyleModel",
      "state": {
       "description_width": ""
      }
     },
     "9216e0e0907040929f6e274b03ee6243": {
      "model_module": "@jupyter-widgets/controls",
      "model_module_version": "2.0.0",
      "model_name": "ProgressStyleModel",
      "state": {
       "description_width": ""
      }
     },
     "924612cd146e4e69b75731ce2c3641e8": {
      "model_module": "@jupyter-widgets/controls",
      "model_module_version": "2.0.0",
      "model_name": "HBoxModel",
      "state": {
       "children": [
        "IPY_MODEL_8d594a3eb60f4356a1bd8855a8fbab5e",
        "IPY_MODEL_6a06014e46784b398bbbdbee3663f860",
        "IPY_MODEL_0753c14d260c47b4b76e724d61b7626e"
       ],
       "layout": "IPY_MODEL_1550f4570c0649d281d386ee91811c1a"
      }
     },
     "93384c970167447d96b9fbe341ba03f3": {
      "model_module": "@jupyter-widgets/base",
      "model_module_version": "2.0.0",
      "model_name": "LayoutModel",
      "state": {}
     },
     "9394526ac9c941739cd411acfd526766": {
      "model_module": "@jupyter-widgets/base",
      "model_module_version": "2.0.0",
      "model_name": "LayoutModel",
      "state": {}
     },
     "93d601e2d59e468bb0a2e59df885b6bb": {
      "model_module": "@jupyter-widgets/base",
      "model_module_version": "2.0.0",
      "model_name": "LayoutModel",
      "state": {}
     },
     "945688e6560c48ad8c46b7294bd434b6": {
      "model_module": "@jupyter-widgets/controls",
      "model_module_version": "2.0.0",
      "model_name": "HTMLStyleModel",
      "state": {
       "description_width": "",
       "font_size": null,
       "text_color": null
      }
     },
     "946cadf61f5e47fd8270beb2329cf33b": {
      "model_module": "@jupyter-widgets/base",
      "model_module_version": "2.0.0",
      "model_name": "LayoutModel",
      "state": {}
     },
     "94b354bd31db4240b3abce5878a7f39e": {
      "model_module": "@jupyter-widgets/base",
      "model_module_version": "2.0.0",
      "model_name": "LayoutModel",
      "state": {}
     },
     "95300a5b30004cba8b3edd3a03b70613": {
      "model_module": "@jupyter-widgets/controls",
      "model_module_version": "2.0.0",
      "model_name": "DescriptionStyleModel",
      "state": {
       "description_width": ""
      }
     },
     "9598104261b74175b7595970dc69aa41": {
      "model_module": "@jupyter-widgets/controls",
      "model_module_version": "2.0.0",
      "model_name": "HBoxModel",
      "state": {
       "children": [
        "IPY_MODEL_08e2cf45c7c848ed83868e9a1f1ba967",
        "IPY_MODEL_219d72dd2d2b4dd7b8bba69df5cbc177",
        "IPY_MODEL_730913aaea4747af9cb8ab72603e2493"
       ],
       "layout": "IPY_MODEL_782e5b5a30014d79b29896c0c203222d"
      }
     },
     "95cfbf3086504b4ab9a1449d5cf78769": {
      "model_module": "@jupyter-widgets/controls",
      "model_module_version": "2.0.0",
      "model_name": "DescriptionStyleModel",
      "state": {
       "description_width": ""
      }
     },
     "9610b9e50bdc44d6ac6c7b4c9e8a6973": {
      "model_module": "@jupyter-widgets/controls",
      "model_module_version": "2.0.0",
      "model_name": "HBoxModel",
      "state": {
       "children": [
        "IPY_MODEL_42645fcaf4c64cf68824d93759c75bc8",
        "IPY_MODEL_d3134f14b8944f4987bb3b46c8f59e6d",
        "IPY_MODEL_6217b2e724b7488dbf152daf3fb7ff95"
       ],
       "layout": "IPY_MODEL_dc68bf3968c245a59d61247ef22df629"
      }
     },
     "963e6ff751eb492db8552071ba8a2b76": {
      "model_module": "@jupyter-widgets/controls",
      "model_module_version": "2.0.0",
      "model_name": "ProgressStyleModel",
      "state": {
       "description_width": ""
      }
     },
     "96b460c37817428197afea818ff1e4a5": {
      "model_module": "@jupyter-widgets/controls",
      "model_module_version": "2.0.0",
      "model_name": "HTMLModel",
      "state": {
       "layout": "IPY_MODEL_e40cca4a10a44e0dbd27b705095264cc",
       "style": "IPY_MODEL_3f0ca1a537944eababed72bd0d0b4031",
       "value": " 14/14 [00:35&lt;00:00,  2.59s/it]"
      }
     },
     "96efe36f1bb949629a3d121c3028b8bb": {
      "model_module": "@jupyter-widgets/controls",
      "model_module_version": "2.0.0",
      "model_name": "HTMLModel",
      "state": {
       "layout": "IPY_MODEL_e2df143c4ac449a490b970fc5d42903d",
       "style": "IPY_MODEL_74beaec67ac64b4f9e4ffd9764bd2b9d",
       "value": "100%"
      }
     },
     "9722c25d278d4c709a75c1528f7252d6": {
      "model_module": "@jupyter-widgets/base",
      "model_module_version": "2.0.0",
      "model_name": "LayoutModel",
      "state": {}
     },
     "97911fa7f7ff4b9ca533f84f14ba8a8d": {
      "model_module": "@jupyter-widgets/controls",
      "model_module_version": "2.0.0",
      "model_name": "DescriptionStyleModel",
      "state": {
       "description_width": ""
      }
     },
     "97bbbe30ec7f46b9aaa8e4ad4646ac93": {
      "model_module": "@jupyter-widgets/controls",
      "model_module_version": "2.0.0",
      "model_name": "HTMLModel",
      "state": {
       "layout": "IPY_MODEL_a287ddab9f4d4efbbc0febc60c8661ae",
       "style": "IPY_MODEL_4ad7e55c582c4f96bf747521fa1a880e",
       "value": " 3/14 [00:02&lt;00:05,  2.05it/s]"
      }
     },
     "97d2f02d0fb04261aec409b6acb27725": {
      "model_module": "@jupyter-widgets/controls",
      "model_module_version": "2.0.0",
      "model_name": "HTMLStyleModel",
      "state": {
       "description_width": "",
       "font_size": null,
       "text_color": null
      }
     },
     "982382b357b14ca8804bd87ffe32397e": {
      "model_module": "@jupyter-widgets/controls",
      "model_module_version": "2.0.0",
      "model_name": "HTMLModel",
      "state": {
       "layout": "IPY_MODEL_e631feec27f44638b2b4bcc59588718e",
       "style": "IPY_MODEL_c941c9c883be4ff7a4d90b55852afc96",
       "value": "100%"
      }
     },
     "98307e1ba8e542d28735e73168500439": {
      "model_module": "@jupyter-widgets/base",
      "model_module_version": "2.0.0",
      "model_name": "LayoutModel",
      "state": {}
     },
     "9853c5d67f5f48bb9813db5ee85adebb": {
      "model_module": "@jupyter-widgets/controls",
      "model_module_version": "2.0.0",
      "model_name": "ProgressStyleModel",
      "state": {
       "description_width": ""
      }
     },
     "9860d769f6e5456f8ab1d86485f89b89": {
      "model_module": "@jupyter-widgets/controls",
      "model_module_version": "2.0.0",
      "model_name": "HTMLModel",
      "state": {
       "layout": "IPY_MODEL_06d57aa711be4630a00b75bef4214d4c",
       "style": "IPY_MODEL_a3bcc7c717b049f4aa944f25a84dc4ef",
       "value": " 3/3 [00:10&lt;00:00,  4.14s/it]"
      }
     },
     "98b51c8e0b6446d884029b755913174d": {
      "model_module": "@jupyter-widgets/controls",
      "model_module_version": "2.0.0",
      "model_name": "HTMLStyleModel",
      "state": {
       "description_width": "",
       "font_size": null,
       "text_color": null
      }
     },
     "98cb9a5f782d406992c4ab9ddc0d89c4": {
      "model_module": "@jupyter-widgets/base",
      "model_module_version": "2.0.0",
      "model_name": "LayoutModel",
      "state": {}
     },
     "98ebb002e3a64642ad056d5f1b073578": {
      "model_module": "@jupyter-widgets/controls",
      "model_module_version": "2.0.0",
      "model_name": "HTMLModel",
      "state": {
       "layout": "IPY_MODEL_609bdb59378141f4a96e77ac1ac3c4d0",
       "style": "IPY_MODEL_9efb3a41c52e4f40bbec00d4a2d9a969",
       "value": " 3/3 [00:11&lt;00:00,  4.61s/it]"
      }
     },
     "99424901800049039cf89f5962ef052d": {
      "model_module": "@jupyter-widgets/controls",
      "model_module_version": "2.0.0",
      "model_name": "ProgressStyleModel",
      "state": {
       "description_width": ""
      }
     },
     "9a104c1a479a4b499033e7c555c78f9e": {
      "model_module": "@jupyter-widgets/controls",
      "model_module_version": "2.0.0",
      "model_name": "ProgressStyleModel",
      "state": {
       "description_width": ""
      }
     },
     "9a4b752de1ac4a439e4a44845e5667e5": {
      "model_module": "@jupyter-widgets/controls",
      "model_module_version": "2.0.0",
      "model_name": "DescriptionStyleModel",
      "state": {
       "description_width": ""
      }
     },
     "9ac45458d0f9497bac72211e8da9c1ce": {
      "model_module": "@jupyter-widgets/base",
      "model_module_version": "2.0.0",
      "model_name": "LayoutModel",
      "state": {}
     },
     "9b1bd763907b42879195badd1b69a3e8": {
      "model_module": "@jupyter-widgets/controls",
      "model_module_version": "2.0.0",
      "model_name": "HTMLModel",
      "state": {
       "layout": "IPY_MODEL_09b9674aaee24f8ba6ac3d70e04734de",
       "style": "IPY_MODEL_dd6570846ab0438d81b9a130d3dcc1c4",
       "value": " 6/6 [00:11&lt;00:00,  2.78s/it]"
      }
     },
     "9b24a19000ef42af8a952c53a70a91cf": {
      "model_module": "@jupyter-widgets/controls",
      "model_module_version": "2.0.0",
      "model_name": "HTMLStyleModel",
      "state": {
       "description_width": "",
       "font_size": null,
       "text_color": null
      }
     },
     "9b335006471b4b01972e28175f5bd5a6": {
      "model_module": "@jupyter-widgets/controls",
      "model_module_version": "2.0.0",
      "model_name": "HBoxModel",
      "state": {
       "children": [
        "IPY_MODEL_f37ee6991b5b4c67b17f201ce50e2880",
        "IPY_MODEL_2551adbdd0364fdcb7901efe8a24fbd1",
        "IPY_MODEL_a9752cad2c2341dfb8ce3121a4d1ae82"
       ],
       "layout": "IPY_MODEL_67bd004a9cc54ca98a945c66e98a8dc5"
      }
     },
     "9bd67eb962624cffae4c442e70298f11": {
      "model_module": "@jupyter-widgets/controls",
      "model_module_version": "2.0.0",
      "model_name": "HTMLModel",
      "state": {
       "layout": "IPY_MODEL_6924f9666c14408f974c8626cb341bf0",
       "style": "IPY_MODEL_0325411a73a24e76a5a828c1af2f77f4",
       "value": " 14/14 [00:34&lt;00:00,  2.58s/it]"
      }
     },
     "9c92d863eca84c9a8609b6367f2c1d8b": {
      "model_module": "@jupyter-widgets/controls",
      "model_module_version": "2.0.0",
      "model_name": "HTMLStyleModel",
      "state": {
       "description_width": "",
       "font_size": null,
       "text_color": null
      }
     },
     "9c9cd8f1d6b24d63a4d2ad548ec9f261": {
      "model_module": "@jupyter-widgets/controls",
      "model_module_version": "2.0.0",
      "model_name": "HBoxModel",
      "state": {
       "children": [
        "IPY_MODEL_0d5bdf9af54d439ca3f4b690da144284",
        "IPY_MODEL_d73879b228ab41edbd87b375a6c4d3eb",
        "IPY_MODEL_5363fb3cea7e48a79ae2d3eee8d3f103"
       ],
       "layout": "IPY_MODEL_85bac26c66964215ac5fdf16b0e39b66"
      }
     },
     "9cb0f87fdb62465a8ac2ef169db7b6b9": {
      "model_module": "@jupyter-widgets/controls",
      "model_module_version": "2.0.0",
      "model_name": "ProgressStyleModel",
      "state": {
       "description_width": ""
      }
     },
     "9cd79e32341d49e79b16310ec2053281": {
      "model_module": "@jupyter-widgets/controls",
      "model_module_version": "2.0.0",
      "model_name": "DescriptionStyleModel",
      "state": {
       "description_width": ""
      }
     },
     "9cf5eea599ac405eba88a368b841cb7b": {
      "model_module": "@jupyter-widgets/base",
      "model_module_version": "2.0.0",
      "model_name": "LayoutModel",
      "state": {}
     },
     "9ee613f03cca4b73a8bc20062ed816c1": {
      "model_module": "@jupyter-widgets/controls",
      "model_module_version": "2.0.0",
      "model_name": "HTMLModel",
      "state": {
       "layout": "IPY_MODEL_323409be01bc4fac9783bd8238d5b4de",
       "style": "IPY_MODEL_7c0f779c53b24b90bfd89261b716e72d",
       "value": " 14/14 [00:37&lt;00:00,  2.74s/it]"
      }
     },
     "9efb3a41c52e4f40bbec00d4a2d9a969": {
      "model_module": "@jupyter-widgets/controls",
      "model_module_version": "2.0.0",
      "model_name": "DescriptionStyleModel",
      "state": {
       "description_width": ""
      }
     },
     "9f05b8a4032d4eeaa91f17c8df6043fd": {
      "model_module": "@jupyter-widgets/controls",
      "model_module_version": "2.0.0",
      "model_name": "DescriptionStyleModel",
      "state": {
       "description_width": ""
      }
     },
     "9f7187b4ecb342f2a742a39abb381f9d": {
      "model_module": "@jupyter-widgets/base",
      "model_module_version": "2.0.0",
      "model_name": "LayoutModel",
      "state": {}
     },
     "a001f2d8f0ac46178a6eaf43f36f248e": {
      "model_module": "@jupyter-widgets/base",
      "model_module_version": "2.0.0",
      "model_name": "LayoutModel",
      "state": {}
     },
     "a0123662844f4a149a0432231f34ba9f": {
      "model_module": "@jupyter-widgets/controls",
      "model_module_version": "2.0.0",
      "model_name": "DescriptionStyleModel",
      "state": {
       "description_width": ""
      }
     },
     "a040616087b0471381e02100d008c999": {
      "model_module": "@jupyter-widgets/controls",
      "model_module_version": "2.0.0",
      "model_name": "FloatProgressModel",
      "state": {
       "bar_style": "success",
       "layout": "IPY_MODEL_d87c3678554943cfaf04488344ff5fe6",
       "max": 3,
       "style": "IPY_MODEL_a3353040007c440c941c724a6c7c4a86",
       "value": 3
      }
     },
     "a05d377b458949ba8d7dfb4733c297c6": {
      "model_module": "@jupyter-widgets/base",
      "model_module_version": "2.0.0",
      "model_name": "LayoutModel",
      "state": {}
     },
     "a0618f7e69d04e0a9872eb21f6b60876": {
      "model_module": "@jupyter-widgets/controls",
      "model_module_version": "2.0.0",
      "model_name": "ProgressStyleModel",
      "state": {
       "description_width": ""
      }
     },
     "a0a6992b1429433fbbbaf3d5f05d24c3": {
      "model_module": "@jupyter-widgets/controls",
      "model_module_version": "2.0.0",
      "model_name": "HTMLModel",
      "state": {
       "layout": "IPY_MODEL_0b79ec824d3b4d8aa3cae468021e6ea0",
       "style": "IPY_MODEL_d7b063232f184ceca6520530d9f21b38",
       "value": " 3/3 [00:10&lt;00:00,  4.23s/it]"
      }
     },
     "a100bb931af3454f8ff02fae28c2ba6a": {
      "model_module": "@jupyter-widgets/base",
      "model_module_version": "2.0.0",
      "model_name": "LayoutModel",
      "state": {}
     },
     "a14329532c41402699841551dbcaf36d": {
      "model_module": "@jupyter-widgets/controls",
      "model_module_version": "2.0.0",
      "model_name": "ProgressStyleModel",
      "state": {
       "description_width": ""
      }
     },
     "a18db3fb7d924aaf9f82396754c998e8": {
      "model_module": "@jupyter-widgets/controls",
      "model_module_version": "2.0.0",
      "model_name": "DescriptionStyleModel",
      "state": {
       "description_width": ""
      }
     },
     "a1e775eb43e44bc4acd045fc2f754041": {
      "model_module": "@jupyter-widgets/controls",
      "model_module_version": "2.0.0",
      "model_name": "ProgressStyleModel",
      "state": {
       "description_width": ""
      }
     },
     "a251fdba365540e59af8cbd3077647f0": {
      "model_module": "@jupyter-widgets/base",
      "model_module_version": "2.0.0",
      "model_name": "LayoutModel",
      "state": {}
     },
     "a287ddab9f4d4efbbc0febc60c8661ae": {
      "model_module": "@jupyter-widgets/base",
      "model_module_version": "2.0.0",
      "model_name": "LayoutModel",
      "state": {}
     },
     "a2955b360dac453d8c26fa7c5687f081": {
      "model_module": "@jupyter-widgets/controls",
      "model_module_version": "2.0.0",
      "model_name": "DescriptionStyleModel",
      "state": {
       "description_width": ""
      }
     },
     "a2cb0e65b1f44625aefab52e868e76be": {
      "model_module": "@jupyter-widgets/base",
      "model_module_version": "2.0.0",
      "model_name": "LayoutModel",
      "state": {}
     },
     "a2dc4e35c9ca48d3a6e51fc5cefd0ced": {
      "model_module": "@jupyter-widgets/controls",
      "model_module_version": "2.0.0",
      "model_name": "DescriptionStyleModel",
      "state": {
       "description_width": ""
      }
     },
     "a2f63c20b4dd48a8866fcb6b802f8c4a": {
      "model_module": "@jupyter-widgets/controls",
      "model_module_version": "2.0.0",
      "model_name": "ProgressStyleModel",
      "state": {
       "description_width": ""
      }
     },
     "a32af960a36d4b52a3edd1f55e071c15": {
      "model_module": "@jupyter-widgets/controls",
      "model_module_version": "2.0.0",
      "model_name": "HTMLModel",
      "state": {
       "layout": "IPY_MODEL_18fb54df65384bb191ef2dd090fb1024",
       "style": "IPY_MODEL_195b90f25ae447488562295c171c2e4d",
       "value": "100%"
      }
     },
     "a3353040007c440c941c724a6c7c4a86": {
      "model_module": "@jupyter-widgets/controls",
      "model_module_version": "2.0.0",
      "model_name": "ProgressStyleModel",
      "state": {
       "description_width": ""
      }
     },
     "a362902f497348d289d27ca0913068fe": {
      "model_module": "@jupyter-widgets/base",
      "model_module_version": "2.0.0",
      "model_name": "LayoutModel",
      "state": {}
     },
     "a3bcc7c717b049f4aa944f25a84dc4ef": {
      "model_module": "@jupyter-widgets/controls",
      "model_module_version": "2.0.0",
      "model_name": "DescriptionStyleModel",
      "state": {
       "description_width": ""
      }
     },
     "a422eb421d334c8a8df8cec41b824897": {
      "model_module": "@jupyter-widgets/base",
      "model_module_version": "2.0.0",
      "model_name": "LayoutModel",
      "state": {}
     },
     "a440e087f1764e1f8107f2d1e11088f3": {
      "model_module": "@jupyter-widgets/base",
      "model_module_version": "2.0.0",
      "model_name": "LayoutModel",
      "state": {}
     },
     "a457bdaff0b54319a7e04193fee288ff": {
      "model_module": "@jupyter-widgets/base",
      "model_module_version": "2.0.0",
      "model_name": "LayoutModel",
      "state": {}
     },
     "a4587bcd144e43aca297d025ad154820": {
      "model_module": "@jupyter-widgets/controls",
      "model_module_version": "2.0.0",
      "model_name": "ProgressStyleModel",
      "state": {
       "description_width": ""
      }
     },
     "a52dc0b6be834b578252ec84b57cb7ae": {
      "model_module": "@jupyter-widgets/controls",
      "model_module_version": "2.0.0",
      "model_name": "ProgressStyleModel",
      "state": {
       "description_width": ""
      }
     },
     "a5d2a0d48dfa452a87f1d0a82f6365a5": {
      "model_module": "@jupyter-widgets/base",
      "model_module_version": "2.0.0",
      "model_name": "LayoutModel",
      "state": {}
     },
     "a67580eb9d634cf69c7c9c303da15028": {
      "model_module": "@jupyter-widgets/base",
      "model_module_version": "2.0.0",
      "model_name": "LayoutModel",
      "state": {}
     },
     "a6916e9d8ced46a5947c9cf22c14cef2": {
      "model_module": "@jupyter-widgets/controls",
      "model_module_version": "2.0.0",
      "model_name": "HBoxModel",
      "state": {
       "children": [
        "IPY_MODEL_fdc23c6f872c4825b03240c4a0ab9831",
        "IPY_MODEL_20e2e54ff7b6404a8ef36f22b44b6529",
        "IPY_MODEL_b7f078efc25d4d45a8d66e11d244e789"
       ],
       "layout": "IPY_MODEL_70eea4c1fb1e41ff8ee31f5613ef5754"
      }
     },
     "a6ec0e6de8ed4d18943486d916631bb3": {
      "model_module": "@jupyter-widgets/base",
      "model_module_version": "2.0.0",
      "model_name": "LayoutModel",
      "state": {}
     },
     "a7a16d4f0fb34f68b8745330c293ea9d": {
      "model_module": "@jupyter-widgets/controls",
      "model_module_version": "2.0.0",
      "model_name": "ProgressStyleModel",
      "state": {
       "description_width": ""
      }
     },
     "a7aed6a1208c42f2a3249230064c6597": {
      "model_module": "@jupyter-widgets/controls",
      "model_module_version": "2.0.0",
      "model_name": "HTMLModel",
      "state": {
       "layout": "IPY_MODEL_57da2d0871fc4c189bbfb98644cdca7c",
       "style": "IPY_MODEL_1df53411fb0547ea99a8fa02b4902311",
       "value": " 6/6 [00:11&lt;00:00,  2.81s/it]"
      }
     },
     "a7d4d21d229e48928273980fb1f57c78": {
      "model_module": "@jupyter-widgets/controls",
      "model_module_version": "2.0.0",
      "model_name": "DescriptionStyleModel",
      "state": {
       "description_width": ""
      }
     },
     "a89c19df94ce4db18c427504318b7256": {
      "model_module": "@jupyter-widgets/controls",
      "model_module_version": "2.0.0",
      "model_name": "HTMLStyleModel",
      "state": {
       "description_width": "",
       "font_size": null,
       "text_color": null
      }
     },
     "a92590bf59d342f794d3708da665facf": {
      "model_module": "@jupyter-widgets/controls",
      "model_module_version": "2.0.0",
      "model_name": "HTMLModel",
      "state": {
       "layout": "IPY_MODEL_76dc5ba1a0eb48358cccdd7b604f2521",
       "style": "IPY_MODEL_45418625fe974d70bd43597a713421ee",
       "value": "100%"
      }
     },
     "a93293402c394b809ddfc405b57fc3ae": {
      "model_module": "@jupyter-widgets/base",
      "model_module_version": "2.0.0",
      "model_name": "LayoutModel",
      "state": {}
     },
     "a9752cad2c2341dfb8ce3121a4d1ae82": {
      "model_module": "@jupyter-widgets/controls",
      "model_module_version": "2.0.0",
      "model_name": "HTMLModel",
      "state": {
       "layout": "IPY_MODEL_fc07a7ad29a1417dbfecf232fc63168d",
       "style": "IPY_MODEL_4a9c8487b9174ce392d94d1f8a019cab",
       "value": " 3/3 [00:10&lt;00:00,  4.28s/it]"
      }
     },
     "a98327ed4bd04814ab99164413777c03": {
      "model_module": "@jupyter-widgets/controls",
      "model_module_version": "2.0.0",
      "model_name": "ProgressStyleModel",
      "state": {
       "description_width": ""
      }
     },
     "a99c5e20d6d7423181e14969ec0ffc55": {
      "model_module": "@jupyter-widgets/base",
      "model_module_version": "2.0.0",
      "model_name": "LayoutModel",
      "state": {}
     },
     "aa3734b8439c46588fafe5f7b191bb02": {
      "model_module": "@jupyter-widgets/controls",
      "model_module_version": "2.0.0",
      "model_name": "DescriptionStyleModel",
      "state": {
       "description_width": ""
      }
     },
     "aa7fe29f797c4f7aac8b1ae7567c0ce2": {
      "model_module": "@jupyter-widgets/base",
      "model_module_version": "2.0.0",
      "model_name": "LayoutModel",
      "state": {}
     },
     "aaad4ca2ef0e400c861ec129402d025e": {
      "model_module": "@jupyter-widgets/base",
      "model_module_version": "2.0.0",
      "model_name": "LayoutModel",
      "state": {}
     },
     "aaadb36b2dd341be8d326c8b49aababd": {
      "model_module": "@jupyter-widgets/controls",
      "model_module_version": "2.0.0",
      "model_name": "HBoxModel",
      "state": {
       "children": [
        "IPY_MODEL_3178ada1cf22496f9e0de37eba7c5d31",
        "IPY_MODEL_f205a09d309f47fe9800e84ab1b9b096",
        "IPY_MODEL_6df3561b5e8444b9b1151930e443c9f8"
       ],
       "layout": "IPY_MODEL_0db0d77a505b45c09a86c22ab3ec786f"
      }
     },
     "ab111e79a0c94723934c519342c92cab": {
      "model_module": "@jupyter-widgets/controls",
      "model_module_version": "2.0.0",
      "model_name": "HBoxModel",
      "state": {
       "children": [
        "IPY_MODEL_3d9c0e4cf5424a148ed3f6045f692b24",
        "IPY_MODEL_348a6bbab1df499393ae546399d44ddd",
        "IPY_MODEL_6e7b05e3ccb84beab343d30286940b3b"
       ],
       "layout": "IPY_MODEL_81e017f82e2b4d11af2c8ce57dcb546b"
      }
     },
     "ab1b358f19404b43ab69060dc71719fd": {
      "model_module": "@jupyter-widgets/base",
      "model_module_version": "2.0.0",
      "model_name": "LayoutModel",
      "state": {}
     },
     "ab3e3837b3154d8494ca8fad1899cfb9": {
      "model_module": "@jupyter-widgets/controls",
      "model_module_version": "2.0.0",
      "model_name": "HTMLStyleModel",
      "state": {
       "description_width": "",
       "font_size": null,
       "text_color": null
      }
     },
     "ab4c0e768492431bbb35ce04a23dce63": {
      "model_module": "@jupyter-widgets/controls",
      "model_module_version": "2.0.0",
      "model_name": "ProgressStyleModel",
      "state": {
       "description_width": ""
      }
     },
     "ab66689f2e41405eb01c1c18ef038851": {
      "model_module": "@jupyter-widgets/controls",
      "model_module_version": "2.0.0",
      "model_name": "HTMLStyleModel",
      "state": {
       "description_width": "",
       "font_size": null,
       "text_color": null
      }
     },
     "ab8f355ae7164f8b8c9686ea6c91a7a6": {
      "model_module": "@jupyter-widgets/controls",
      "model_module_version": "2.0.0",
      "model_name": "HTMLModel",
      "state": {
       "layout": "IPY_MODEL_d520791859134727bc1617d07d6991ba",
       "style": "IPY_MODEL_3cc770638fe64170b64f98ec87ea9bbb",
       "value": " 5/6 [00:08&lt;00:01,  1.93s/it]"
      }
     },
     "abbeb2c6abf448dda079c6cbb462781b": {
      "model_module": "@jupyter-widgets/controls",
      "model_module_version": "2.0.0",
      "model_name": "DescriptionStyleModel",
      "state": {
       "description_width": ""
      }
     },
     "acb3fc7c388f438890ef68e82fa1047e": {
      "model_module": "@jupyter-widgets/controls",
      "model_module_version": "2.0.0",
      "model_name": "FloatProgressModel",
      "state": {
       "bar_style": "success",
       "layout": "IPY_MODEL_fdaec1db841d41f4b0b47f94f489842b",
       "max": 6,
       "style": "IPY_MODEL_334435f8ee8b43159cafd77d58d41c79",
       "value": 6
      }
     },
     "acda4f5b396441189693bf7bffcb701c": {
      "model_module": "@jupyter-widgets/controls",
      "model_module_version": "2.0.0",
      "model_name": "DescriptionStyleModel",
      "state": {
       "description_width": ""
      }
     },
     "acdac6e8397d4097ba9b78f5a31f3293": {
      "model_module": "@jupyter-widgets/controls",
      "model_module_version": "2.0.0",
      "model_name": "DescriptionStyleModel",
      "state": {
       "description_width": ""
      }
     },
     "aceda0a21c1a4b75853cdb8a59f7eadf": {
      "model_module": "@jupyter-widgets/controls",
      "model_module_version": "2.0.0",
      "model_name": "FloatProgressModel",
      "state": {
       "bar_style": "success",
       "layout": "IPY_MODEL_8de9a6074fbd4b38a5a91f1463b54fc9",
       "max": 3,
       "style": "IPY_MODEL_c6b33421e33f4b0380e00957941ef8db",
       "value": 3
      }
     },
     "acfe89b7172645378b180def2d2a8ff1": {
      "model_module": "@jupyter-widgets/base",
      "model_module_version": "2.0.0",
      "model_name": "LayoutModel",
      "state": {}
     },
     "ad3445fb8cce488999a76f978c9e7a42": {
      "model_module": "@jupyter-widgets/controls",
      "model_module_version": "2.0.0",
      "model_name": "ProgressStyleModel",
      "state": {
       "description_width": ""
      }
     },
     "ad49430f601441eebcd6fdf140b752d4": {
      "model_module": "@jupyter-widgets/controls",
      "model_module_version": "2.0.0",
      "model_name": "ProgressStyleModel",
      "state": {
       "description_width": ""
      }
     },
     "ada2a00636b1438498db0770cdd39bef": {
      "model_module": "@jupyter-widgets/base",
      "model_module_version": "2.0.0",
      "model_name": "LayoutModel",
      "state": {}
     },
     "adb01a75c497444e9fb19c4b1eadcf84": {
      "model_module": "@jupyter-widgets/controls",
      "model_module_version": "2.0.0",
      "model_name": "DescriptionStyleModel",
      "state": {
       "description_width": ""
      }
     },
     "adeb3d409ce9403b90fbd2fabd5b7981": {
      "model_module": "@jupyter-widgets/controls",
      "model_module_version": "2.0.0",
      "model_name": "HTMLModel",
      "state": {
       "layout": "IPY_MODEL_fb2b7e82ece14ab79d84a08df31c827e",
       "style": "IPY_MODEL_721e182dd01e47aca3f0e758c8c7c4b6",
       "value": "100%"
      }
     },
     "ae01414e4d4e4f55b34f35abef29cdfb": {
      "model_module": "@jupyter-widgets/controls",
      "model_module_version": "2.0.0",
      "model_name": "HBoxModel",
      "state": {
       "children": [
        "IPY_MODEL_0bca4e3d211e481b930b97cb27172398",
        "IPY_MODEL_dd17114b4a1c46e3880a89bcd314b090",
        "IPY_MODEL_b7dd1b4dfc814fa3b6b996920c8f0612"
       ],
       "layout": "IPY_MODEL_3304e1dd48ff49ecb920ff68b7dbacaa"
      }
     },
     "ae271860a6e14fda9f58304373ac1cba": {
      "model_module": "@jupyter-widgets/controls",
      "model_module_version": "2.0.0",
      "model_name": "HTMLModel",
      "state": {
       "layout": "IPY_MODEL_bb6cdac5407f4a11ad920f298d404dea",
       "style": "IPY_MODEL_917f0d2e1d3647cc9e7a51370040f48c",
       "value": " 6/6 [00:11&lt;00:00,  2.78s/it]"
      }
     },
     "ae857c0ea2034768aaa19e883a3f5fae": {
      "model_module": "@jupyter-widgets/base",
      "model_module_version": "2.0.0",
      "model_name": "LayoutModel",
      "state": {}
     },
     "ae935114aa1e4839b970b1db58c9c731": {
      "model_module": "@jupyter-widgets/controls",
      "model_module_version": "2.0.0",
      "model_name": "ProgressStyleModel",
      "state": {
       "description_width": ""
      }
     },
     "aef0ceb8c0ae4015b63ea8b2d521df89": {
      "model_module": "@jupyter-widgets/controls",
      "model_module_version": "2.0.0",
      "model_name": "HTMLModel",
      "state": {
       "layout": "IPY_MODEL_8758e08007c147cc995a9cd778321546",
       "style": "IPY_MODEL_c1185f0270fe4f4b904912182604a1b1",
       "value": "100%"
      }
     },
     "af095a946e40470fb6b10069cdead320": {
      "model_module": "@jupyter-widgets/controls",
      "model_module_version": "2.0.0",
      "model_name": "DescriptionStyleModel",
      "state": {
       "description_width": ""
      }
     },
     "af1d80e909114d99b94b5888fcdc68a0": {
      "model_module": "@jupyter-widgets/base",
      "model_module_version": "2.0.0",
      "model_name": "LayoutModel",
      "state": {}
     },
     "af321bf03d344ab5bbf27ecfd4df46e1": {
      "model_module": "@jupyter-widgets/controls",
      "model_module_version": "2.0.0",
      "model_name": "DescriptionStyleModel",
      "state": {
       "description_width": ""
      }
     },
     "af81eb420a204b4db16e0900544ee830": {
      "model_module": "@jupyter-widgets/controls",
      "model_module_version": "2.0.0",
      "model_name": "FloatProgressModel",
      "state": {
       "bar_style": "success",
       "layout": "IPY_MODEL_5c1cdc7f1d7f4334997a05cb16278393",
       "max": 14,
       "style": "IPY_MODEL_0bdac01ac9714d238307c195beb0e4d6",
       "value": 14
      }
     },
     "affe162fb3a94beba81fa8be1951120f": {
      "model_module": "@jupyter-widgets/controls",
      "model_module_version": "2.0.0",
      "model_name": "HTMLModel",
      "state": {
       "layout": "IPY_MODEL_a5d2a0d48dfa452a87f1d0a82f6365a5",
       "style": "IPY_MODEL_1d1da6d468c74317a13dc9fc56dfb053",
       "value": "100%"
      }
     },
     "b01ac6fa0bf14721b1a2505c3fe93267": {
      "model_module": "@jupyter-widgets/controls",
      "model_module_version": "2.0.0",
      "model_name": "FloatProgressModel",
      "state": {
       "bar_style": "success",
       "layout": "IPY_MODEL_2113a4d44df6462db4fa2f37d71cfcbd",
       "max": 6,
       "style": "IPY_MODEL_963e6ff751eb492db8552071ba8a2b76",
       "value": 6
      }
     },
     "b070d048f3d543a6a1184adb874400cd": {
      "model_module": "@jupyter-widgets/controls",
      "model_module_version": "2.0.0",
      "model_name": "HBoxModel",
      "state": {
       "children": [
        "IPY_MODEL_8ba4f31efed1433d8576bf8f21e073b8",
        "IPY_MODEL_4553fb4f7c304feda4bdd2c6af136987",
        "IPY_MODEL_3f85e0c67a0d4d7cb0b7456565c6674c"
       ],
       "layout": "IPY_MODEL_aa7fe29f797c4f7aac8b1ae7567c0ce2"
      }
     },
     "b0967127666b443cb813bf91f7ecfedf": {
      "model_module": "@jupyter-widgets/controls",
      "model_module_version": "2.0.0",
      "model_name": "DescriptionStyleModel",
      "state": {
       "description_width": ""
      }
     },
     "b0abd16537734a9d99386e3c8da6b4b8": {
      "model_module": "@jupyter-widgets/controls",
      "model_module_version": "2.0.0",
      "model_name": "FloatProgressModel",
      "state": {
       "bar_style": "danger",
       "layout": "IPY_MODEL_b49cf00a4c3f4163b7e728f814b74fa9",
       "max": 14,
       "style": "IPY_MODEL_c654e302892f4bfba0927c5f041e3257",
       "value": 3
      }
     },
     "b13f40fc66ff46f3b4778d156c0b4e3f": {
      "model_module": "@jupyter-widgets/base",
      "model_module_version": "2.0.0",
      "model_name": "LayoutModel",
      "state": {}
     },
     "b1869575b6bc48b185eadfefede9f2ea": {
      "model_module": "@jupyter-widgets/controls",
      "model_module_version": "2.0.0",
      "model_name": "HTMLModel",
      "state": {
       "layout": "IPY_MODEL_3f789c27308447d6b763ce0d90eb3663",
       "style": "IPY_MODEL_b77fd8eda6364a409317be07cc127253",
       "value": " 14/14 [00:34&lt;00:00,  2.57s/it]"
      }
     },
     "b1a71496bea04ea984d4eaf411c2d37c": {
      "model_module": "@jupyter-widgets/base",
      "model_module_version": "2.0.0",
      "model_name": "LayoutModel",
      "state": {}
     },
     "b1ce81a067f24d3c90467c337ecb4f34": {
      "model_module": "@jupyter-widgets/controls",
      "model_module_version": "2.0.0",
      "model_name": "ProgressStyleModel",
      "state": {
       "description_width": ""
      }
     },
     "b24610b68ced4adca0b9b6b56cd9fbbc": {
      "model_module": "@jupyter-widgets/controls",
      "model_module_version": "2.0.0",
      "model_name": "HTMLStyleModel",
      "state": {
       "description_width": "",
       "font_size": null,
       "text_color": null
      }
     },
     "b248845b0071429886b9bb169c16460e": {
      "model_module": "@jupyter-widgets/base",
      "model_module_version": "2.0.0",
      "model_name": "LayoutModel",
      "state": {}
     },
     "b2eb49191f454d1ca89219338d27fff3": {
      "model_module": "@jupyter-widgets/base",
      "model_module_version": "2.0.0",
      "model_name": "LayoutModel",
      "state": {}
     },
     "b30a39d725ec4a5da7ab1f5f3027d270": {
      "model_module": "@jupyter-widgets/base",
      "model_module_version": "2.0.0",
      "model_name": "LayoutModel",
      "state": {}
     },
     "b3c64d1d470d4303ba1161800f662b9d": {
      "model_module": "@jupyter-widgets/base",
      "model_module_version": "2.0.0",
      "model_name": "LayoutModel",
      "state": {}
     },
     "b42c1ce5b32b407192f3a3d0cc1e8d5c": {
      "model_module": "@jupyter-widgets/controls",
      "model_module_version": "2.0.0",
      "model_name": "FloatProgressModel",
      "state": {
       "bar_style": "success",
       "layout": "IPY_MODEL_1574450acc874b6f9d2c6fa210c91894",
       "max": 3,
       "style": "IPY_MODEL_d83ded3010ff4830bdcfd81c9fcef800",
       "value": 3
      }
     },
     "b4656c34dfcd43a29c49c3e1e07e4a50": {
      "model_module": "@jupyter-widgets/controls",
      "model_module_version": "2.0.0",
      "model_name": "HTMLModel",
      "state": {
       "layout": "IPY_MODEL_acfe89b7172645378b180def2d2a8ff1",
       "style": "IPY_MODEL_4141feb5c5b04f67b14d782916cf2a43",
       "value": "100%"
      }
     },
     "b4844e9f7ac840f8932292a6e55f54c4": {
      "model_module": "@jupyter-widgets/controls",
      "model_module_version": "2.0.0",
      "model_name": "ProgressStyleModel",
      "state": {
       "description_width": ""
      }
     },
     "b48b499d55304829a958e0f399dd78b3": {
      "model_module": "@jupyter-widgets/controls",
      "model_module_version": "2.0.0",
      "model_name": "HBoxModel",
      "state": {
       "children": [
        "IPY_MODEL_0fc92f9097474517aa4fad739dce6c9e",
        "IPY_MODEL_d693d67d5f77496bb181a98fdc0b7233",
        "IPY_MODEL_f13fb1a0d89e42c0afa8612021dcb98e"
       ],
       "layout": "IPY_MODEL_6cc16a4ebcaa45d0a75baf8f0f57957e"
      }
     },
     "b49cf00a4c3f4163b7e728f814b74fa9": {
      "model_module": "@jupyter-widgets/base",
      "model_module_version": "2.0.0",
      "model_name": "LayoutModel",
      "state": {}
     },
     "b4a6ca293cf340b89bc8cee747bd4df1": {
      "model_module": "@jupyter-widgets/controls",
      "model_module_version": "2.0.0",
      "model_name": "HTMLModel",
      "state": {
       "layout": "IPY_MODEL_57e76b58a33b4bcd96f3a40b899044d9",
       "style": "IPY_MODEL_44d5718f041c4cdf8b85c3e58a90c1e2",
       "value": "100%"
      }
     },
     "b56f52d366d44191901d75a4215ee301": {
      "model_module": "@jupyter-widgets/controls",
      "model_module_version": "2.0.0",
      "model_name": "HTMLModel",
      "state": {
       "layout": "IPY_MODEL_3da353bac79d453282b17d5e84055538",
       "style": "IPY_MODEL_81219c097ac744b69ad4e171ef739df5",
       "value": " 3/3 [00:10&lt;00:00,  4.22s/it]"
      }
     },
     "b5fb0353521943fcb24fee15656f0772": {
      "model_module": "@jupyter-widgets/base",
      "model_module_version": "2.0.0",
      "model_name": "LayoutModel",
      "state": {}
     },
     "b6148f8af3974dfd862a9b5fe1ab3bd7": {
      "model_module": "@jupyter-widgets/controls",
      "model_module_version": "2.0.0",
      "model_name": "ProgressStyleModel",
      "state": {
       "description_width": ""
      }
     },
     "b6c01ffdf5dc4c1a93c67b7a9fa840a0": {
      "model_module": "@jupyter-widgets/controls",
      "model_module_version": "2.0.0",
      "model_name": "FloatProgressModel",
      "state": {
       "bar_style": "success",
       "layout": "IPY_MODEL_9394526ac9c941739cd411acfd526766",
       "max": 14,
       "style": "IPY_MODEL_ad3445fb8cce488999a76f978c9e7a42",
       "value": 14
      }
     },
     "b706432285f34e75ae5cff63bc0f811e": {
      "model_module": "@jupyter-widgets/controls",
      "model_module_version": "2.0.0",
      "model_name": "FloatProgressModel",
      "state": {
       "bar_style": "success",
       "layout": "IPY_MODEL_dcead6a4bc7c4ebd98c57b29a4cbd66a",
       "max": 14,
       "style": "IPY_MODEL_cbd5356061a440dbb53782fc01963ceb",
       "value": 14
      }
     },
     "b77707f31c9b4dfd80bc0adc3c559056": {
      "model_module": "@jupyter-widgets/controls",
      "model_module_version": "2.0.0",
      "model_name": "ProgressStyleModel",
      "state": {
       "description_width": ""
      }
     },
     "b77fd8eda6364a409317be07cc127253": {
      "model_module": "@jupyter-widgets/controls",
      "model_module_version": "2.0.0",
      "model_name": "DescriptionStyleModel",
      "state": {
       "description_width": ""
      }
     },
     "b79c1473aaeb4e08aee55aa670d83fdd": {
      "model_module": "@jupyter-widgets/controls",
      "model_module_version": "2.0.0",
      "model_name": "HBoxModel",
      "state": {
       "children": [
        "IPY_MODEL_8882d1d7c3f1433a9b9101a888037ec7",
        "IPY_MODEL_e2a0c13496744ad68d896d64a962e737",
        "IPY_MODEL_0b1a304bd15f47ec8858bfd900d11484"
       ],
       "layout": "IPY_MODEL_1f98f10a0be946e8a023ccbd3bb84e77"
      }
     },
     "b7dc5056499647e6b599be2a6894c13b": {
      "model_module": "@jupyter-widgets/controls",
      "model_module_version": "2.0.0",
      "model_name": "HTMLModel",
      "state": {
       "layout": "IPY_MODEL_46b3e17002044bd187ddffcb137f8442",
       "style": "IPY_MODEL_4423c92e6ab94b46b6f89bde9dddf3a8",
       "value": " 14/14 [00:34&lt;00:00,  2.57s/it]"
      }
     },
     "b7dd1b4dfc814fa3b6b996920c8f0612": {
      "model_module": "@jupyter-widgets/controls",
      "model_module_version": "2.0.0",
      "model_name": "HTMLModel",
      "state": {
       "layout": "IPY_MODEL_f60f6e5e80ae48e9a0f049286dda0399",
       "style": "IPY_MODEL_4f8f34f6823f48ae8d4102f40b10a49f",
       "value": " 14/14 [00:34&lt;00:00,  2.58s/it]"
      }
     },
     "b7f078efc25d4d45a8d66e11d244e789": {
      "model_module": "@jupyter-widgets/controls",
      "model_module_version": "2.0.0",
      "model_name": "HTMLModel",
      "state": {
       "layout": "IPY_MODEL_7bc1387af95243a4936c14134903bc0d",
       "style": "IPY_MODEL_10e39dc37bd944b3a6cea613c2c089f3",
       "value": " 14/14 [00:34&lt;00:00,  2.60s/it]"
      }
     },
     "b836e579d57f4ee3ad564a073429a29b": {
      "model_module": "@jupyter-widgets/base",
      "model_module_version": "2.0.0",
      "model_name": "LayoutModel",
      "state": {}
     },
     "b85490ed0a0947f0b84a2600a1c988c7": {
      "model_module": "@jupyter-widgets/controls",
      "model_module_version": "2.0.0",
      "model_name": "ProgressStyleModel",
      "state": {
       "description_width": ""
      }
     },
     "b8816800b87d481bb2bae8c7a9c6e818": {
      "model_module": "@jupyter-widgets/controls",
      "model_module_version": "2.0.0",
      "model_name": "ProgressStyleModel",
      "state": {
       "description_width": ""
      }
     },
     "b959d2c248eb480db8aa79fc8a5cb534": {
      "model_module": "@jupyter-widgets/controls",
      "model_module_version": "2.0.0",
      "model_name": "FloatProgressModel",
      "state": {
       "bar_style": "danger",
       "layout": "IPY_MODEL_67597766408742479ce0bf6cc2478e26",
       "max": 3,
       "style": "IPY_MODEL_ed4b45ecdd934060aec1b9f01e6666f3",
       "value": 2
      }
     },
     "b95eedb43b064ce789790750e2c53bb5": {
      "model_module": "@jupyter-widgets/controls",
      "model_module_version": "2.0.0",
      "model_name": "HTMLModel",
      "state": {
       "layout": "IPY_MODEL_da154e78fb2f4ccaaf9eaeb787bacfe6",
       "style": "IPY_MODEL_3cc8526128264bb280238503853a9de7",
       "value": " 3/3 [00:10&lt;00:00,  4.00s/it]"
      }
     },
     "b99910e822374a6b9ce70d7b96324062": {
      "model_module": "@jupyter-widgets/controls",
      "model_module_version": "2.0.0",
      "model_name": "HTMLModel",
      "state": {
       "layout": "IPY_MODEL_4624434e462b4f3592aa0a3f3ada8c5d",
       "style": "IPY_MODEL_ea5c5e28a3084a8e9b220f22ec95964c",
       "value": " 8/8 [00:32&lt;00:00,  4.96s/it]"
      }
     },
     "b9ac73cbe2ab47b6a925b4af56855006": {
      "model_module": "@jupyter-widgets/controls",
      "model_module_version": "2.0.0",
      "model_name": "DescriptionStyleModel",
      "state": {
       "description_width": ""
      }
     },
     "b9f2c8dcd1d742c2b0284bbedcc5052f": {
      "model_module": "@jupyter-widgets/controls",
      "model_module_version": "2.0.0",
      "model_name": "HTMLModel",
      "state": {
       "layout": "IPY_MODEL_3d1cac7f5ee04ba786173b125cae00a4",
       "style": "IPY_MODEL_4aa728bf97a248ecb6f1ed409e13c000",
       "value": " 6/6 [00:11&lt;00:00,  2.81s/it]"
      }
     },
     "ba13e79393134c15b7c1c317500ab049": {
      "model_module": "@jupyter-widgets/controls",
      "model_module_version": "2.0.0",
      "model_name": "HBoxModel",
      "state": {
       "children": [
        "IPY_MODEL_2cede2330d884562a62166d0d62dcd9b",
        "IPY_MODEL_c873b1ae856c49f88d8310b54344f442",
        "IPY_MODEL_9ee613f03cca4b73a8bc20062ed816c1"
       ],
       "layout": "IPY_MODEL_0eaa5fd6d17d42739186b27b186fa2d4"
      }
     },
     "ba29168235254634b5b1b682e0b4ae4c": {
      "model_module": "@jupyter-widgets/base",
      "model_module_version": "2.0.0",
      "model_name": "LayoutModel",
      "state": {}
     },
     "ba7005dc539b433c853dc0d5edf5deb3": {
      "model_module": "@jupyter-widgets/controls",
      "model_module_version": "2.0.0",
      "model_name": "HTMLModel",
      "state": {
       "layout": "IPY_MODEL_b836e579d57f4ee3ad564a073429a29b",
       "style": "IPY_MODEL_227e83a28aa846ed87ea1bffc6e15c16",
       "value": " 6/6 [00:11&lt;00:00,  2.83s/it]"
      }
     },
     "ba807cc513b74d7d8eeb027c2910b83d": {
      "model_module": "@jupyter-widgets/base",
      "model_module_version": "2.0.0",
      "model_name": "LayoutModel",
      "state": {}
     },
     "bb3bcedafa734364a633828b37f8bd9f": {
      "model_module": "@jupyter-widgets/base",
      "model_module_version": "2.0.0",
      "model_name": "LayoutModel",
      "state": {}
     },
     "bb4c687cc5b7401d8d90170737dfe53e": {
      "model_module": "@jupyter-widgets/controls",
      "model_module_version": "2.0.0",
      "model_name": "HTMLStyleModel",
      "state": {
       "description_width": "",
       "font_size": null,
       "text_color": null
      }
     },
     "bb6cdac5407f4a11ad920f298d404dea": {
      "model_module": "@jupyter-widgets/base",
      "model_module_version": "2.0.0",
      "model_name": "LayoutModel",
      "state": {}
     },
     "bc59be59c8e340218f148d15b9e3c513": {
      "model_module": "@jupyter-widgets/controls",
      "model_module_version": "2.0.0",
      "model_name": "DescriptionStyleModel",
      "state": {
       "description_width": ""
      }
     },
     "bc9b146a311b4e43864c0885a0d6254b": {
      "model_module": "@jupyter-widgets/base",
      "model_module_version": "2.0.0",
      "model_name": "LayoutModel",
      "state": {}
     },
     "bcd1686c6e77476086983a24fa87b982": {
      "model_module": "@jupyter-widgets/base",
      "model_module_version": "2.0.0",
      "model_name": "LayoutModel",
      "state": {}
     },
     "bd101b633ea34ac69246ecb0598515b8": {
      "model_module": "@jupyter-widgets/base",
      "model_module_version": "2.0.0",
      "model_name": "LayoutModel",
      "state": {}
     },
     "bd3f5d9954cd4a91a7381e105cf45022": {
      "model_module": "@jupyter-widgets/controls",
      "model_module_version": "2.0.0",
      "model_name": "HTMLModel",
      "state": {
       "layout": "IPY_MODEL_03a96f3c2a024b0f94090e89d31f9e0a",
       "style": "IPY_MODEL_9cd79e32341d49e79b16310ec2053281",
       "value": "100%"
      }
     },
     "bd40e6ea970a42bca8cba175f0e0ef3c": {
      "model_module": "@jupyter-widgets/base",
      "model_module_version": "2.0.0",
      "model_name": "LayoutModel",
      "state": {}
     },
     "bd439efb587f416c88473e2207f1de00": {
      "model_module": "@jupyter-widgets/base",
      "model_module_version": "2.0.0",
      "model_name": "LayoutModel",
      "state": {}
     },
     "bd7a94334adf4927a42ed12c73654dac": {
      "model_module": "@jupyter-widgets/controls",
      "model_module_version": "2.0.0",
      "model_name": "HTMLModel",
      "state": {
       "layout": "IPY_MODEL_c5559374e5554db0ada7dc65ddf5598f",
       "style": "IPY_MODEL_1fc2b21844534159a368b1806fac3a9b",
       "value": " 3/3 [00:10&lt;00:00,  4.12s/it]"
      }
     },
     "be287985079e402d8332d24294a34c84": {
      "model_module": "@jupyter-widgets/base",
      "model_module_version": "2.0.0",
      "model_name": "LayoutModel",
      "state": {}
     },
     "be41d6ae9f344b5ba9b383d3d5c484bf": {
      "model_module": "@jupyter-widgets/base",
      "model_module_version": "2.0.0",
      "model_name": "LayoutModel",
      "state": {}
     },
     "bea60f47ad4342aa85af0a82419d5792": {
      "model_module": "@jupyter-widgets/base",
      "model_module_version": "2.0.0",
      "model_name": "LayoutModel",
      "state": {}
     },
     "bedfc1ababb04676973768143bce8fbc": {
      "model_module": "@jupyter-widgets/controls",
      "model_module_version": "2.0.0",
      "model_name": "HBoxModel",
      "state": {
       "children": [
        "IPY_MODEL_ff775a243b6949488f74e1dbabacf8a0",
        "IPY_MODEL_3d166a7aee6444dbaa8ad4fbe9667ab8",
        "IPY_MODEL_3e39b41de3b441b9bf4aca91849f83ba"
       ],
       "layout": "IPY_MODEL_3f1e1583b7cc4b0d8c5bcff3dfaae02c"
      }
     },
     "bf2f79d4b8554fe0a9096bcceea7454d": {
      "model_module": "@jupyter-widgets/controls",
      "model_module_version": "2.0.0",
      "model_name": "ProgressStyleModel",
      "state": {
       "description_width": ""
      }
     },
     "bf4a972555a14ee59cc8ab9d09092f4e": {
      "model_module": "@jupyter-widgets/controls",
      "model_module_version": "2.0.0",
      "model_name": "HTMLStyleModel",
      "state": {
       "description_width": "",
       "font_size": null,
       "text_color": null
      }
     },
     "bf8a60bc94df456e8eb3e78e65680454": {
      "model_module": "@jupyter-widgets/base",
      "model_module_version": "2.0.0",
      "model_name": "LayoutModel",
      "state": {}
     },
     "bfc48091ec6d4aa88c7cd6e624b2063f": {
      "model_module": "@jupyter-widgets/base",
      "model_module_version": "2.0.0",
      "model_name": "LayoutModel",
      "state": {}
     },
     "c06f451b863c41a2afebcd113177edfd": {
      "model_module": "@jupyter-widgets/controls",
      "model_module_version": "2.0.0",
      "model_name": "DescriptionStyleModel",
      "state": {
       "description_width": ""
      }
     },
     "c0a9ef47e8e84bcba447e99fa44f6883": {
      "model_module": "@jupyter-widgets/controls",
      "model_module_version": "2.0.0",
      "model_name": "HTMLModel",
      "state": {
       "layout": "IPY_MODEL_42084ebcfb5c4a14bb1a8dccb70c02e7",
       "style": "IPY_MODEL_5195b30886ae479ba56e84588a608368",
       "value": " 14/14 [00:35&lt;00:00,  2.62s/it]"
      }
     },
     "c0bc0ed166f748e898629d44ab3ed1a8": {
      "model_module": "@jupyter-widgets/controls",
      "model_module_version": "2.0.0",
      "model_name": "HTMLModel",
      "state": {
       "layout": "IPY_MODEL_291c07312d7647979fa567eec843280e",
       "style": "IPY_MODEL_18f4eee24bac4eed92745ba210060663",
       "value": "100%"
      }
     },
     "c1185f0270fe4f4b904912182604a1b1": {
      "model_module": "@jupyter-widgets/controls",
      "model_module_version": "2.0.0",
      "model_name": "DescriptionStyleModel",
      "state": {
       "description_width": ""
      }
     },
     "c118c80129a249eea1b05cb08a19d240": {
      "model_module": "@jupyter-widgets/base",
      "model_module_version": "2.0.0",
      "model_name": "LayoutModel",
      "state": {}
     },
     "c179d82d134c4885b232d00bb921d2c4": {
      "model_module": "@jupyter-widgets/base",
      "model_module_version": "2.0.0",
      "model_name": "LayoutModel",
      "state": {}
     },
     "c1d48ac75e284e85b0d09d8c36f30458": {
      "model_module": "@jupyter-widgets/base",
      "model_module_version": "2.0.0",
      "model_name": "LayoutModel",
      "state": {}
     },
     "c25231556e594901b84222ec98cfa76c": {
      "model_module": "@jupyter-widgets/controls",
      "model_module_version": "2.0.0",
      "model_name": "DescriptionStyleModel",
      "state": {
       "description_width": ""
      }
     },
     "c2c9bae4f17b430f94173f93bee66759": {
      "model_module": "@jupyter-widgets/base",
      "model_module_version": "2.0.0",
      "model_name": "LayoutModel",
      "state": {}
     },
     "c2fde99dd01245ec95f086a3473cf135": {
      "model_module": "@jupyter-widgets/controls",
      "model_module_version": "2.0.0",
      "model_name": "FloatProgressModel",
      "state": {
       "bar_style": "success",
       "layout": "IPY_MODEL_fc07b8eb3f2d42398ac37ae004962f19",
       "max": 3,
       "style": "IPY_MODEL_643781621b914dceaab16ab069a89a6c",
       "value": 3
      }
     },
     "c332cc3b2cbe413eb2a2d22f4d95bf59": {
      "model_module": "@jupyter-widgets/base",
      "model_module_version": "2.0.0",
      "model_name": "LayoutModel",
      "state": {}
     },
     "c34809797e2148929c31c45e8f49a95c": {
      "model_module": "@jupyter-widgets/base",
      "model_module_version": "2.0.0",
      "model_name": "LayoutModel",
      "state": {}
     },
     "c490158c2f7840d58b26921802f03980": {
      "model_module": "@jupyter-widgets/controls",
      "model_module_version": "2.0.0",
      "model_name": "HBoxModel",
      "state": {
       "children": [
        "IPY_MODEL_40ad493a779948fb877b8f1efbeb96ff",
        "IPY_MODEL_777f86a86f664c9cb9be08b5315a4d59",
        "IPY_MODEL_8b057534064a4e3686cd34358bb93401"
       ],
       "layout": "IPY_MODEL_dfe293cf4ff94c02886d72dddbd301f1"
      }
     },
     "c4dbd55522644ecd95b7a3ba72ba3395": {
      "model_module": "@jupyter-widgets/controls",
      "model_module_version": "2.0.0",
      "model_name": "DescriptionStyleModel",
      "state": {
       "description_width": ""
      }
     },
     "c5559374e5554db0ada7dc65ddf5598f": {
      "model_module": "@jupyter-widgets/base",
      "model_module_version": "2.0.0",
      "model_name": "LayoutModel",
      "state": {}
     },
     "c5989e198ec944dc8b7775b5705d73e5": {
      "model_module": "@jupyter-widgets/controls",
      "model_module_version": "2.0.0",
      "model_name": "ProgressStyleModel",
      "state": {
       "description_width": ""
      }
     },
     "c5bdc1aea1dc42808c80934112cab5ca": {
      "model_module": "@jupyter-widgets/controls",
      "model_module_version": "2.0.0",
      "model_name": "ProgressStyleModel",
      "state": {
       "description_width": ""
      }
     },
     "c61e0f4c117a4d1186762baca090503c": {
      "model_module": "@jupyter-widgets/base",
      "model_module_version": "2.0.0",
      "model_name": "LayoutModel",
      "state": {}
     },
     "c654e302892f4bfba0927c5f041e3257": {
      "model_module": "@jupyter-widgets/controls",
      "model_module_version": "2.0.0",
      "model_name": "ProgressStyleModel",
      "state": {
       "description_width": ""
      }
     },
     "c699b778decd49ad962699ab3183abb0": {
      "model_module": "@jupyter-widgets/controls",
      "model_module_version": "2.0.0",
      "model_name": "HTMLModel",
      "state": {
       "layout": "IPY_MODEL_271e20a9175e435b9e432bb49ff28515",
       "style": "IPY_MODEL_c4dbd55522644ecd95b7a3ba72ba3395",
       "value": " 3/3 [00:10&lt;00:00,  4.22s/it]"
      }
     },
     "c6b33421e33f4b0380e00957941ef8db": {
      "model_module": "@jupyter-widgets/controls",
      "model_module_version": "2.0.0",
      "model_name": "ProgressStyleModel",
      "state": {
       "description_width": ""
      }
     },
     "c7dc4e6681ce4f8eae9a97b57acbed79": {
      "model_module": "@jupyter-widgets/base",
      "model_module_version": "2.0.0",
      "model_name": "LayoutModel",
      "state": {}
     },
     "c873b1ae856c49f88d8310b54344f442": {
      "model_module": "@jupyter-widgets/controls",
      "model_module_version": "2.0.0",
      "model_name": "FloatProgressModel",
      "state": {
       "bar_style": "success",
       "layout": "IPY_MODEL_9f7187b4ecb342f2a742a39abb381f9d",
       "max": 14,
       "style": "IPY_MODEL_ad49430f601441eebcd6fdf140b752d4",
       "value": 14
      }
     },
     "c8a1210993ec476fbde009309209fc35": {
      "model_module": "@jupyter-widgets/base",
      "model_module_version": "2.0.0",
      "model_name": "LayoutModel",
      "state": {}
     },
     "c8cd1c4149dd4c7687e4eb640ff716a8": {
      "model_module": "@jupyter-widgets/controls",
      "model_module_version": "2.0.0",
      "model_name": "HBoxModel",
      "state": {
       "children": [
        "IPY_MODEL_631c4e5439134b44aa2abb0f2d6114da",
        "IPY_MODEL_8c4974d3c01f4a0ab4612bcd9d2c487e",
        "IPY_MODEL_0dc955968bf4464581e4aff52c7e0667"
       ],
       "layout": "IPY_MODEL_3c3b7115d2d34299bac7a54a435f0f3c"
      }
     },
     "c931633d20a244ef9feb92c378ca50c7": {
      "model_module": "@jupyter-widgets/base",
      "model_module_version": "2.0.0",
      "model_name": "LayoutModel",
      "state": {}
     },
     "c941c9c883be4ff7a4d90b55852afc96": {
      "model_module": "@jupyter-widgets/controls",
      "model_module_version": "2.0.0",
      "model_name": "HTMLStyleModel",
      "state": {
       "description_width": "",
       "font_size": null,
       "text_color": null
      }
     },
     "c94f83c2248f4f50974750f0c2ee6bc1": {
      "model_module": "@jupyter-widgets/base",
      "model_module_version": "2.0.0",
      "model_name": "LayoutModel",
      "state": {}
     },
     "c9926b82ab4345ebbeaf72d68b2d7259": {
      "model_module": "@jupyter-widgets/base",
      "model_module_version": "2.0.0",
      "model_name": "LayoutModel",
      "state": {}
     },
     "c9f8cbc07cae4d238f0b15e9e0fa371b": {
      "model_module": "@jupyter-widgets/controls",
      "model_module_version": "2.0.0",
      "model_name": "HBoxModel",
      "state": {
       "children": [
        "IPY_MODEL_34606ce89b63484aad57b4a2d451950c",
        "IPY_MODEL_90847593a34c4349a601197e200e330b",
        "IPY_MODEL_21b051ce1eb44d588eb8484bfb57c09c"
       ],
       "layout": "IPY_MODEL_4b756571316644e7a1e95bfff335a728"
      }
     },
     "ca08d7ee14214e2ebed567205b819df1": {
      "model_module": "@jupyter-widgets/controls",
      "model_module_version": "2.0.0",
      "model_name": "HTMLModel",
      "state": {
       "layout": "IPY_MODEL_a6ec0e6de8ed4d18943486d916631bb3",
       "style": "IPY_MODEL_f088742121f542cdb895747b227deca2",
       "value": "100%"
      }
     },
     "caae53edbd58462cbc39966b1649dff7": {
      "model_module": "@jupyter-widgets/base",
      "model_module_version": "2.0.0",
      "model_name": "LayoutModel",
      "state": {}
     },
     "cac094dfafa64d289e942e132ec9e84f": {
      "model_module": "@jupyter-widgets/controls",
      "model_module_version": "2.0.0",
      "model_name": "HTMLStyleModel",
      "state": {
       "description_width": "",
       "font_size": null,
       "text_color": null
      }
     },
     "cb08a9ff3d324eb28b1c29892c887232": {
      "model_module": "@jupyter-widgets/controls",
      "model_module_version": "2.0.0",
      "model_name": "HTMLModel",
      "state": {
       "layout": "IPY_MODEL_56a6bad0b666407a9367de9bf30fd660",
       "style": "IPY_MODEL_e90406da19364701938d300128db6610",
       "value": " 14/14 [00:34&lt;00:00,  2.57s/it]"
      }
     },
     "cb816fa26def400fb32343b0dd2f8917": {
      "model_module": "@jupyter-widgets/controls",
      "model_module_version": "2.0.0",
      "model_name": "DescriptionStyleModel",
      "state": {
       "description_width": ""
      }
     },
     "cbd5356061a440dbb53782fc01963ceb": {
      "model_module": "@jupyter-widgets/controls",
      "model_module_version": "2.0.0",
      "model_name": "ProgressStyleModel",
      "state": {
       "description_width": ""
      }
     },
     "cbd792511fbc4743b175d6ca42fbf072": {
      "model_module": "@jupyter-widgets/base",
      "model_module_version": "2.0.0",
      "model_name": "LayoutModel",
      "state": {}
     },
     "cbe0ed1b6adb4f9ab4b90bafbb80e6c2": {
      "model_module": "@jupyter-widgets/controls",
      "model_module_version": "2.0.0",
      "model_name": "HTMLModel",
      "state": {
       "layout": "IPY_MODEL_5d1150275c574960b7ee756c4e5b8422",
       "style": "IPY_MODEL_cde62e1f9b294d619d4ffd1aa0fac805",
       "value": " 6/6 [00:08&lt;00:00,  1.95s/it]"
      }
     },
     "cbfe7897a6824407ae27d9e2624c90fd": {
      "model_module": "@jupyter-widgets/controls",
      "model_module_version": "2.0.0",
      "model_name": "HBoxModel",
      "state": {
       "children": [
        "IPY_MODEL_3e0b8257b09045b9bb0d57dfa5fc8945",
        "IPY_MODEL_5bc99c916ebd414daf96f69f725d40ea",
        "IPY_MODEL_6ba368873182486380ecad62d4aec0de"
       ],
       "layout": "IPY_MODEL_c332cc3b2cbe413eb2a2d22f4d95bf59"
      }
     },
     "cc49fe955bc9415abe5836ccaad61025": {
      "model_module": "@jupyter-widgets/base",
      "model_module_version": "2.0.0",
      "model_name": "LayoutModel",
      "state": {}
     },
     "cc70f9b3c01c457b99cccc2760db08c8": {
      "model_module": "@jupyter-widgets/base",
      "model_module_version": "2.0.0",
      "model_name": "LayoutModel",
      "state": {}
     },
     "cc828325858743d1a489b03205ca511f": {
      "model_module": "@jupyter-widgets/controls",
      "model_module_version": "2.0.0",
      "model_name": "HTMLModel",
      "state": {
       "layout": "IPY_MODEL_58f0f746e8004a5fafe76d9dcdb1209b",
       "style": "IPY_MODEL_a0123662844f4a149a0432231f34ba9f",
       "value": "100%"
      }
     },
     "ccc5bf5d8d9348dfadf4db618a2aee02": {
      "model_module": "@jupyter-widgets/controls",
      "model_module_version": "2.0.0",
      "model_name": "FloatProgressModel",
      "state": {
       "bar_style": "success",
       "layout": "IPY_MODEL_478294a04e59466e9eb976ac1abe3192",
       "max": 3,
       "style": "IPY_MODEL_dab4fd7806aa4fc0ba7c459b813d3f9d",
       "value": 3
      }
     },
     "cd5ec6a0899a4ec3bf44ab5113ec9831": {
      "model_module": "@jupyter-widgets/controls",
      "model_module_version": "2.0.0",
      "model_name": "HTMLStyleModel",
      "state": {
       "description_width": "",
       "font_size": null,
       "text_color": null
      }
     },
     "cd78b7965d4d428a8cb50a5b211e9793": {
      "model_module": "@jupyter-widgets/controls",
      "model_module_version": "2.0.0",
      "model_name": "ProgressStyleModel",
      "state": {
       "description_width": ""
      }
     },
     "cde62e1f9b294d619d4ffd1aa0fac805": {
      "model_module": "@jupyter-widgets/controls",
      "model_module_version": "2.0.0",
      "model_name": "HTMLStyleModel",
      "state": {
       "description_width": "",
       "font_size": null,
       "text_color": null
      }
     },
     "ce1f0f894a92465db9af08981e3b5c55": {
      "model_module": "@jupyter-widgets/base",
      "model_module_version": "2.0.0",
      "model_name": "LayoutModel",
      "state": {}
     },
     "ce39bf113fa24c5a9c3d66bf8827fbe9": {
      "model_module": "@jupyter-widgets/base",
      "model_module_version": "2.0.0",
      "model_name": "LayoutModel",
      "state": {}
     },
     "ce7f7abe8f384bdd91ef63c4be8b933c": {
      "model_module": "@jupyter-widgets/controls",
      "model_module_version": "2.0.0",
      "model_name": "ProgressStyleModel",
      "state": {
       "description_width": ""
      }
     },
     "ce936f4a7b7442b4bce1d0487ab9ce67": {
      "model_module": "@jupyter-widgets/controls",
      "model_module_version": "2.0.0",
      "model_name": "FloatProgressModel",
      "state": {
       "bar_style": "success",
       "layout": "IPY_MODEL_33e227418c11451eaa71da98a73824de",
       "max": 6,
       "style": "IPY_MODEL_f5f8f0158f5e4152a38befdfae4ec590",
       "value": 6
      }
     },
     "ceb07ebb580242619894a2c16e706be0": {
      "model_module": "@jupyter-widgets/base",
      "model_module_version": "2.0.0",
      "model_name": "LayoutModel",
      "state": {}
     },
     "ceb09d33dd824785acf3458f0f6f5b90": {
      "model_module": "@jupyter-widgets/controls",
      "model_module_version": "2.0.0",
      "model_name": "ProgressStyleModel",
      "state": {
       "description_width": ""
      }
     },
     "cee6b08836af4849b0c65597ec0a4bf1": {
      "model_module": "@jupyter-widgets/controls",
      "model_module_version": "2.0.0",
      "model_name": "HTMLModel",
      "state": {
       "layout": "IPY_MODEL_f4d962287f0a4127a69e007329d4b295",
       "style": "IPY_MODEL_63f72555303e4481a28135d51cbf9841",
       "value": "100%"
      }
     },
     "cf54b1ccc6414c8a97397e2727460764": {
      "model_module": "@jupyter-widgets/base",
      "model_module_version": "2.0.0",
      "model_name": "LayoutModel",
      "state": {}
     },
     "cf74716173fd494f8ea0332793acb220": {
      "model_module": "@jupyter-widgets/base",
      "model_module_version": "2.0.0",
      "model_name": "LayoutModel",
      "state": {}
     },
     "d13dd26971b44151b9d2858eba28a261": {
      "model_module": "@jupyter-widgets/controls",
      "model_module_version": "2.0.0",
      "model_name": "DescriptionStyleModel",
      "state": {
       "description_width": ""
      }
     },
     "d19518513e8a44dfa6fb2814c8c8f05d": {
      "model_module": "@jupyter-widgets/controls",
      "model_module_version": "2.0.0",
      "model_name": "DescriptionStyleModel",
      "state": {
       "description_width": ""
      }
     },
     "d198ef45d5a04f10855f3477e5f4f784": {
      "model_module": "@jupyter-widgets/base",
      "model_module_version": "2.0.0",
      "model_name": "LayoutModel",
      "state": {}
     },
     "d1d58a82f6344ab2a101af2e41334a21": {
      "model_module": "@jupyter-widgets/base",
      "model_module_version": "2.0.0",
      "model_name": "LayoutModel",
      "state": {}
     },
     "d2089328393446879bd5bea14c4c46d4": {
      "model_module": "@jupyter-widgets/base",
      "model_module_version": "2.0.0",
      "model_name": "LayoutModel",
      "state": {}
     },
     "d215b8a8add54994996af76ab889def9": {
      "model_module": "@jupyter-widgets/base",
      "model_module_version": "2.0.0",
      "model_name": "LayoutModel",
      "state": {}
     },
     "d23780089de748e3a6494a99c3811a90": {
      "model_module": "@jupyter-widgets/base",
      "model_module_version": "2.0.0",
      "model_name": "LayoutModel",
      "state": {}
     },
     "d27eb65ea0fb4a90a0ec72145561cd69": {
      "model_module": "@jupyter-widgets/controls",
      "model_module_version": "2.0.0",
      "model_name": "HBoxModel",
      "state": {
       "children": [
        "IPY_MODEL_36b244b936554e89b66a62ccb92cddff",
        "IPY_MODEL_b01ac6fa0bf14721b1a2505c3fe93267",
        "IPY_MODEL_a7aed6a1208c42f2a3249230064c6597"
       ],
       "layout": "IPY_MODEL_d9e198f42bd34f4bbed0a7207fa4066a"
      }
     },
     "d28805f81f2d4e939de07c7bfb0c3942": {
      "model_module": "@jupyter-widgets/controls",
      "model_module_version": "2.0.0",
      "model_name": "HTMLModel",
      "state": {
       "layout": "IPY_MODEL_82c29639356a4a678ac451eeb04f30de",
       "style": "IPY_MODEL_bf4a972555a14ee59cc8ab9d09092f4e",
       "value": "100%"
      }
     },
     "d2a0bce7014243eea3c459bb4989239a": {
      "model_module": "@jupyter-widgets/controls",
      "model_module_version": "2.0.0",
      "model_name": "HBoxModel",
      "state": {
       "children": [
        "IPY_MODEL_229cd52eb0e84464ba9215674f6cc175",
        "IPY_MODEL_ce936f4a7b7442b4bce1d0487ab9ce67",
        "IPY_MODEL_1a3e94e077794b26a5f1d4383652e342"
       ],
       "layout": "IPY_MODEL_da56b68130ac42c0946bd3a2d5a758f4"
      }
     },
     "d2dc6893736e407cb84282e4eceb0b6f": {
      "model_module": "@jupyter-widgets/controls",
      "model_module_version": "2.0.0",
      "model_name": "HTMLModel",
      "state": {
       "layout": "IPY_MODEL_317facdbf72e446fb5da04ed0647fdad",
       "style": "IPY_MODEL_ead2c8de8254474aa03caec7fb6f8f4f",
       "value": " 6/6 [00:11&lt;00:00,  2.80s/it]"
      }
     },
     "d2f142dce1c9498c806f06a30b43f04b": {
      "model_module": "@jupyter-widgets/controls",
      "model_module_version": "2.0.0",
      "model_name": "FloatProgressModel",
      "state": {
       "bar_style": "success",
       "layout": "IPY_MODEL_6fcff024baf2498bb3ac78f0d1527144",
       "max": 14,
       "style": "IPY_MODEL_3e41b6f6cbc4447a8970ae9f5bb50caf",
       "value": 14
      }
     },
     "d3134f14b8944f4987bb3b46c8f59e6d": {
      "model_module": "@jupyter-widgets/controls",
      "model_module_version": "2.0.0",
      "model_name": "FloatProgressModel",
      "state": {
       "bar_style": "success",
       "layout": "IPY_MODEL_87ed297c898a4aa8a059c3d7c6418959",
       "max": 14,
       "style": "IPY_MODEL_416740e46d6445bdab71fba20bb12459",
       "value": 14
      }
     },
     "d463b721d2be4341b9411cf03bac5304": {
      "model_module": "@jupyter-widgets/controls",
      "model_module_version": "2.0.0",
      "model_name": "DescriptionStyleModel",
      "state": {
       "description_width": ""
      }
     },
     "d46e3a69176d4082bb5494990e3ecd88": {
      "model_module": "@jupyter-widgets/controls",
      "model_module_version": "2.0.0",
      "model_name": "HTMLStyleModel",
      "state": {
       "description_width": "",
       "font_size": null,
       "text_color": null
      }
     },
     "d48b08577167403c853df23ea21f8587": {
      "model_module": "@jupyter-widgets/controls",
      "model_module_version": "2.0.0",
      "model_name": "HBoxModel",
      "state": {
       "children": [
        "IPY_MODEL_982382b357b14ca8804bd87ffe32397e",
        "IPY_MODEL_d7a56ac309b042a68746893386ad2d9d",
        "IPY_MODEL_361f76237aa24315b59c5ca16a22a090"
       ],
       "layout": "IPY_MODEL_bb3bcedafa734364a633828b37f8bd9f"
      }
     },
     "d508b30885034954883d0ecb2f25290a": {
      "model_module": "@jupyter-widgets/controls",
      "model_module_version": "2.0.0",
      "model_name": "FloatProgressModel",
      "state": {
       "bar_style": "success",
       "layout": "IPY_MODEL_c34809797e2148929c31c45e8f49a95c",
       "max": 3,
       "style": "IPY_MODEL_24aeaa95de3f4885976b8a9a38c9b3bf",
       "value": 3
      }
     },
     "d520791859134727bc1617d07d6991ba": {
      "model_module": "@jupyter-widgets/base",
      "model_module_version": "2.0.0",
      "model_name": "LayoutModel",
      "state": {}
     },
     "d545003943714d8c998b2c7a376fd3ff": {
      "model_module": "@jupyter-widgets/base",
      "model_module_version": "2.0.0",
      "model_name": "LayoutModel",
      "state": {}
     },
     "d693d67d5f77496bb181a98fdc0b7233": {
      "model_module": "@jupyter-widgets/controls",
      "model_module_version": "2.0.0",
      "model_name": "FloatProgressModel",
      "state": {
       "bar_style": "success",
       "layout": "IPY_MODEL_0eb105eb3c3a4e0e8ad0c0555002b74a",
       "max": 6,
       "style": "IPY_MODEL_ae935114aa1e4839b970b1db58c9c731",
       "value": 6
      }
     },
     "d6e18d7031c9403c8ab3e13577ae7c18": {
      "model_module": "@jupyter-widgets/base",
      "model_module_version": "2.0.0",
      "model_name": "LayoutModel",
      "state": {}
     },
     "d70423af9ef64c5a9d6538a15c6e12b9": {
      "model_module": "@jupyter-widgets/base",
      "model_module_version": "2.0.0",
      "model_name": "LayoutModel",
      "state": {}
     },
     "d73879b228ab41edbd87b375a6c4d3eb": {
      "model_module": "@jupyter-widgets/controls",
      "model_module_version": "2.0.0",
      "model_name": "FloatProgressModel",
      "state": {
       "bar_style": "success",
       "layout": "IPY_MODEL_946cadf61f5e47fd8270beb2329cf33b",
       "max": 3,
       "style": "IPY_MODEL_59116e8e1096438c959870c7d5a626e4",
       "value": 3
      }
     },
     "d7436bd261a3403b974de6b6da39f46a": {
      "model_module": "@jupyter-widgets/controls",
      "model_module_version": "2.0.0",
      "model_name": "HTMLStyleModel",
      "state": {
       "description_width": "",
       "font_size": null,
       "text_color": null
      }
     },
     "d7843afa00d04ccfa17c4f7a2c0ead9c": {
      "model_module": "@jupyter-widgets/controls",
      "model_module_version": "2.0.0",
      "model_name": "HTMLModel",
      "state": {
       "layout": "IPY_MODEL_dcad3c2850bd4b17934478b75dc1d522",
       "style": "IPY_MODEL_11d0dc6ff6db4abe8434128bba74e17a",
       "value": "100%"
      }
     },
     "d790f3b779934eee8348804dd22ba3c1": {
      "model_module": "@jupyter-widgets/base",
      "model_module_version": "2.0.0",
      "model_name": "LayoutModel",
      "state": {}
     },
     "d79d6b73af2144729bed6a955c95e6e1": {
      "model_module": "@jupyter-widgets/controls",
      "model_module_version": "2.0.0",
      "model_name": "HTMLModel",
      "state": {
       "layout": "IPY_MODEL_39954bc2a54d43c78994d415f66343e6",
       "style": "IPY_MODEL_0f26d84da7c14a52a03a1d4cfbbc0405",
       "value": "100%"
      }
     },
     "d7a56ac309b042a68746893386ad2d9d": {
      "model_module": "@jupyter-widgets/controls",
      "model_module_version": "2.0.0",
      "model_name": "FloatProgressModel",
      "state": {
       "bar_style": "success",
       "layout": "IPY_MODEL_38b3f926069543699e7356d6fb50128f",
       "max": 6,
       "style": "IPY_MODEL_552543fdef3e445191c3480ff295802c",
       "value": 6
      }
     },
     "d7b063232f184ceca6520530d9f21b38": {
      "model_module": "@jupyter-widgets/controls",
      "model_module_version": "2.0.0",
      "model_name": "DescriptionStyleModel",
      "state": {
       "description_width": ""
      }
     },
     "d7d389b119e943efb26c211533ca5275": {
      "model_module": "@jupyter-widgets/controls",
      "model_module_version": "2.0.0",
      "model_name": "FloatProgressModel",
      "state": {
       "bar_style": "success",
       "layout": "IPY_MODEL_e26fc1c804f246fdacba70c9768b3757",
       "max": 14,
       "style": "IPY_MODEL_9a104c1a479a4b499033e7c555c78f9e",
       "value": 14
      }
     },
     "d7ec9dc0b86e4aa7adcd14aaab8643e1": {
      "model_module": "@jupyter-widgets/controls",
      "model_module_version": "2.0.0",
      "model_name": "HTMLModel",
      "state": {
       "layout": "IPY_MODEL_af1d80e909114d99b94b5888fcdc68a0",
       "style": "IPY_MODEL_274cfec487e047da9460c594076afe69",
       "value": " 6/6 [00:11&lt;00:00,  2.80s/it]"
      }
     },
     "d81ac806a89843e3a258a28316de145f": {
      "model_module": "@jupyter-widgets/base",
      "model_module_version": "2.0.0",
      "model_name": "LayoutModel",
      "state": {}
     },
     "d828002b1a404756b8f9dbfc96b1ffc1": {
      "model_module": "@jupyter-widgets/controls",
      "model_module_version": "2.0.0",
      "model_name": "FloatProgressModel",
      "state": {
       "bar_style": "success",
       "layout": "IPY_MODEL_2d42c6d71c264d4b9b14ffa02a354d67",
       "max": 6,
       "style": "IPY_MODEL_fd5e81f960e243358e7a5d42b3ba3402",
       "value": 6
      }
     },
     "d839910f6a224af7a9deb86a641b9b32": {
      "model_module": "@jupyter-widgets/controls",
      "model_module_version": "2.0.0",
      "model_name": "HBoxModel",
      "state": {
       "children": [
        "IPY_MODEL_0063857eab204d448a73753b8424dbad",
        "IPY_MODEL_7f39e4fb792e4f0dbe1c7c27002d693a",
        "IPY_MODEL_8119cd3961734583bf6db0c483e7f3a5"
       ],
       "layout": "IPY_MODEL_8884c47ab3c441ce8df0a22eac4b497e"
      }
     },
     "d83ded3010ff4830bdcfd81c9fcef800": {
      "model_module": "@jupyter-widgets/controls",
      "model_module_version": "2.0.0",
      "model_name": "ProgressStyleModel",
      "state": {
       "description_width": ""
      }
     },
     "d83e8dcffaef45478777c81975daeb66": {
      "model_module": "@jupyter-widgets/controls",
      "model_module_version": "2.0.0",
      "model_name": "HTMLModel",
      "state": {
       "layout": "IPY_MODEL_6176e82b1a604fb6b50991303317d235",
       "style": "IPY_MODEL_8ec11039193343d798c4d59b2cfe705b",
       "value": " 3/3 [00:10&lt;00:00,  4.19s/it]"
      }
     },
     "d87a02a290ab42fb8f24de71c309cf8f": {
      "model_module": "@jupyter-widgets/controls",
      "model_module_version": "2.0.0",
      "model_name": "DescriptionStyleModel",
      "state": {
       "description_width": ""
      }
     },
     "d87c3678554943cfaf04488344ff5fe6": {
      "model_module": "@jupyter-widgets/base",
      "model_module_version": "2.0.0",
      "model_name": "LayoutModel",
      "state": {}
     },
     "d8b129d3a2c341ac9bc912eaa595c0a3": {
      "model_module": "@jupyter-widgets/base",
      "model_module_version": "2.0.0",
      "model_name": "LayoutModel",
      "state": {}
     },
     "d8dded7411de4690a558a1ae7a282d56": {
      "model_module": "@jupyter-widgets/controls",
      "model_module_version": "2.0.0",
      "model_name": "DescriptionStyleModel",
      "state": {
       "description_width": ""
      }
     },
     "d9e198f42bd34f4bbed0a7207fa4066a": {
      "model_module": "@jupyter-widgets/base",
      "model_module_version": "2.0.0",
      "model_name": "LayoutModel",
      "state": {}
     },
     "da154e78fb2f4ccaaf9eaeb787bacfe6": {
      "model_module": "@jupyter-widgets/base",
      "model_module_version": "2.0.0",
      "model_name": "LayoutModel",
      "state": {}
     },
     "da56b68130ac42c0946bd3a2d5a758f4": {
      "model_module": "@jupyter-widgets/base",
      "model_module_version": "2.0.0",
      "model_name": "LayoutModel",
      "state": {}
     },
     "dab4fd7806aa4fc0ba7c459b813d3f9d": {
      "model_module": "@jupyter-widgets/controls",
      "model_module_version": "2.0.0",
      "model_name": "ProgressStyleModel",
      "state": {
       "description_width": ""
      }
     },
     "dab97a99fde448d99052d64e95b5cf63": {
      "model_module": "@jupyter-widgets/base",
      "model_module_version": "2.0.0",
      "model_name": "LayoutModel",
      "state": {}
     },
     "dac323477cf149139d9d28f79c4064bc": {
      "model_module": "@jupyter-widgets/base",
      "model_module_version": "2.0.0",
      "model_name": "LayoutModel",
      "state": {}
     },
     "dc0cb38431e34554a24eb56835159b14": {
      "model_module": "@jupyter-widgets/base",
      "model_module_version": "2.0.0",
      "model_name": "LayoutModel",
      "state": {}
     },
     "dc0dd2981a724c11960fdfb9c4753949": {
      "model_module": "@jupyter-widgets/controls",
      "model_module_version": "2.0.0",
      "model_name": "HTMLModel",
      "state": {
       "layout": "IPY_MODEL_f4f9b0038c9c44619b86920342744735",
       "style": "IPY_MODEL_7aab256f06ef4b9e8565daa375e42e01",
       "value": "100%"
      }
     },
     "dc28259a0652441aacc9366d13c53f3c": {
      "model_module": "@jupyter-widgets/base",
      "model_module_version": "2.0.0",
      "model_name": "LayoutModel",
      "state": {}
     },
     "dc68bf3968c245a59d61247ef22df629": {
      "model_module": "@jupyter-widgets/base",
      "model_module_version": "2.0.0",
      "model_name": "LayoutModel",
      "state": {}
     },
     "dcad3c2850bd4b17934478b75dc1d522": {
      "model_module": "@jupyter-widgets/base",
      "model_module_version": "2.0.0",
      "model_name": "LayoutModel",
      "state": {}
     },
     "dcc6fc36c70f4eb6864cde07b3f8c400": {
      "model_module": "@jupyter-widgets/controls",
      "model_module_version": "2.0.0",
      "model_name": "HBoxModel",
      "state": {
       "children": [
        "IPY_MODEL_b4656c34dfcd43a29c49c3e1e07e4a50",
        "IPY_MODEL_4c341a451372475c8ab1b62d52cc124c",
        "IPY_MODEL_6f0469764bbf4e3aacaca79738c9664f"
       ],
       "layout": "IPY_MODEL_3095d5471968403f8ffde3590444ba81"
      }
     },
     "dcca8bf40bd64061b09a211cc68bba61": {
      "model_module": "@jupyter-widgets/controls",
      "model_module_version": "2.0.0",
      "model_name": "HTMLModel",
      "state": {
       "layout": "IPY_MODEL_4664fa510ec24a1f8e977e573fdb1129",
       "style": "IPY_MODEL_614f7e74e8964772bbf709eec39a1524",
       "value": "100%"
      }
     },
     "dcead6a4bc7c4ebd98c57b29a4cbd66a": {
      "model_module": "@jupyter-widgets/base",
      "model_module_version": "2.0.0",
      "model_name": "LayoutModel",
      "state": {}
     },
     "dd17114b4a1c46e3880a89bcd314b090": {
      "model_module": "@jupyter-widgets/controls",
      "model_module_version": "2.0.0",
      "model_name": "FloatProgressModel",
      "state": {
       "bar_style": "success",
       "layout": "IPY_MODEL_a422eb421d334c8a8df8cec41b824897",
       "max": 14,
       "style": "IPY_MODEL_83367f94883e4fd6883bf6596850b72c",
       "value": 14
      }
     },
     "dd17374c13934f22b4d149c3c17afd1d": {
      "model_module": "@jupyter-widgets/controls",
      "model_module_version": "2.0.0",
      "model_name": "HTMLModel",
      "state": {
       "layout": "IPY_MODEL_1770df0cfa014ba89fca32d9ccf66276",
       "style": "IPY_MODEL_23ff1d5181ff474a8548c4341dace698",
       "value": " 14/14 [00:35&lt;00:00,  2.63s/it]"
      }
     },
     "dd4cfe4c1c19432d814165e8bfcadbdb": {
      "model_module": "@jupyter-widgets/controls",
      "model_module_version": "2.0.0",
      "model_name": "HTMLModel",
      "state": {
       "layout": "IPY_MODEL_77569b61b9f94b3bba023f8f25e98d70",
       "style": "IPY_MODEL_4fe88752d63e465dacddb2e96db851fc",
       "value": " 3/3 [00:10&lt;00:00,  4.18s/it]"
      }
     },
     "dd6570846ab0438d81b9a130d3dcc1c4": {
      "model_module": "@jupyter-widgets/controls",
      "model_module_version": "2.0.0",
      "model_name": "HTMLStyleModel",
      "state": {
       "description_width": "",
       "font_size": null,
       "text_color": null
      }
     },
     "dd9f8393faa64097954bd7d834610506": {
      "model_module": "@jupyter-widgets/controls",
      "model_module_version": "2.0.0",
      "model_name": "ProgressStyleModel",
      "state": {
       "description_width": ""
      }
     },
     "ddd0a93088564db392114ce48622e704": {
      "model_module": "@jupyter-widgets/controls",
      "model_module_version": "2.0.0",
      "model_name": "DescriptionStyleModel",
      "state": {
       "description_width": ""
      }
     },
     "de34218bb04f441bb1bc43e285752ade": {
      "model_module": "@jupyter-widgets/controls",
      "model_module_version": "2.0.0",
      "model_name": "HTMLModel",
      "state": {
       "layout": "IPY_MODEL_7d1f068199244ed6b81817ea80f86c30",
       "style": "IPY_MODEL_72959c60ea7840199da1f865e3205678",
       "value": "100%"
      }
     },
     "de728bf9065147a785cfed2cb35fefdb": {
      "model_module": "@jupyter-widgets/controls",
      "model_module_version": "2.0.0",
      "model_name": "ProgressStyleModel",
      "state": {
       "description_width": ""
      }
     },
     "df91ae866b7c4ab583dd9c521498031c": {
      "model_module": "@jupyter-widgets/controls",
      "model_module_version": "2.0.0",
      "model_name": "DescriptionStyleModel",
      "state": {
       "description_width": ""
      }
     },
     "dfe293cf4ff94c02886d72dddbd301f1": {
      "model_module": "@jupyter-widgets/base",
      "model_module_version": "2.0.0",
      "model_name": "LayoutModel",
      "state": {}
     },
     "e00f2d4bde8d4977a2c1fcf12272aee9": {
      "model_module": "@jupyter-widgets/base",
      "model_module_version": "2.0.0",
      "model_name": "LayoutModel",
      "state": {}
     },
     "e026cb4a76f64518aa80c32c5d6bc6d6": {
      "model_module": "@jupyter-widgets/controls",
      "model_module_version": "2.0.0",
      "model_name": "HTMLModel",
      "state": {
       "layout": "IPY_MODEL_dab97a99fde448d99052d64e95b5cf63",
       "style": "IPY_MODEL_73d6e42220b34c1db7c9c32952805469",
       "value": " 14/14 [00:34&lt;00:00,  2.55s/it]"
      }
     },
     "e07857edb1ab4b4aa304bfdd6b694ad9": {
      "model_module": "@jupyter-widgets/controls",
      "model_module_version": "2.0.0",
      "model_name": "HBoxModel",
      "state": {
       "children": [
        "IPY_MODEL_0f9c8d0f704c4e5ba707cf9fc4bd45ae",
        "IPY_MODEL_e33c825926f441ecb36ebe2d47c4af8f",
        "IPY_MODEL_dd17374c13934f22b4d149c3c17afd1d"
       ],
       "layout": "IPY_MODEL_2170228775ec4e85803342171d2bcc44"
      }
     },
     "e107e09de9494b96ba9563b361cbfa93": {
      "model_module": "@jupyter-widgets/controls",
      "model_module_version": "2.0.0",
      "model_name": "HTMLStyleModel",
      "state": {
       "description_width": "",
       "font_size": null,
       "text_color": null
      }
     },
     "e11311ed201b4eec8375f0060b43cdd3": {
      "model_module": "@jupyter-widgets/base",
      "model_module_version": "2.0.0",
      "model_name": "LayoutModel",
      "state": {}
     },
     "e11500d7c68642fbb6c1587fa476ab91": {
      "model_module": "@jupyter-widgets/controls",
      "model_module_version": "2.0.0",
      "model_name": "DescriptionStyleModel",
      "state": {
       "description_width": ""
      }
     },
     "e1b73ba901f94de3bfe97bd1cf8952e9": {
      "model_module": "@jupyter-widgets/controls",
      "model_module_version": "2.0.0",
      "model_name": "ProgressStyleModel",
      "state": {
       "description_width": ""
      }
     },
     "e1c181b12aa041edae8c0265a09202d8": {
      "model_module": "@jupyter-widgets/controls",
      "model_module_version": "2.0.0",
      "model_name": "ProgressStyleModel",
      "state": {
       "description_width": ""
      }
     },
     "e23df4b8b10148898f49280b3bd8308a": {
      "model_module": "@jupyter-widgets/base",
      "model_module_version": "2.0.0",
      "model_name": "LayoutModel",
      "state": {}
     },
     "e245076ed2dc4397ab5a192b2f9ecd9c": {
      "model_module": "@jupyter-widgets/controls",
      "model_module_version": "2.0.0",
      "model_name": "HBoxModel",
      "state": {
       "children": [
        "IPY_MODEL_0d4bc172676c4414864818a4ac6416fe",
        "IPY_MODEL_341a7cfa9b9240699db09f61bf95cb69",
        "IPY_MODEL_761febfec9434d18a10e7a292405c5d3"
       ],
       "layout": "IPY_MODEL_055973be849e46938f53875663039720"
      }
     },
     "e26fc1c804f246fdacba70c9768b3757": {
      "model_module": "@jupyter-widgets/base",
      "model_module_version": "2.0.0",
      "model_name": "LayoutModel",
      "state": {}
     },
     "e27c6e761b364d56bc2c9cee005861aa": {
      "model_module": "@jupyter-widgets/controls",
      "model_module_version": "2.0.0",
      "model_name": "DescriptionStyleModel",
      "state": {
       "description_width": ""
      }
     },
     "e2a0c13496744ad68d896d64a962e737": {
      "model_module": "@jupyter-widgets/controls",
      "model_module_version": "2.0.0",
      "model_name": "FloatProgressModel",
      "state": {
       "bar_style": "success",
       "layout": "IPY_MODEL_8fa32913544f4ff7ae6cc19b754896c1",
       "max": 14,
       "style": "IPY_MODEL_876f19a2a1274dfaab89aed4f6d34307",
       "value": 14
      }
     },
     "e2bebc0e11bb4c67b655a2bb0e52d17c": {
      "model_module": "@jupyter-widgets/controls",
      "model_module_version": "2.0.0",
      "model_name": "HTMLModel",
      "state": {
       "layout": "IPY_MODEL_5627352635654cd58c96ca414f1e6114",
       "style": "IPY_MODEL_a7d4d21d229e48928273980fb1f57c78",
       "value": "100%"
      }
     },
     "e2df143c4ac449a490b970fc5d42903d": {
      "model_module": "@jupyter-widgets/base",
      "model_module_version": "2.0.0",
      "model_name": "LayoutModel",
      "state": {}
     },
     "e2e8ccf1279e404e8a34624c43cb47a1": {
      "model_module": "@jupyter-widgets/controls",
      "model_module_version": "2.0.0",
      "model_name": "ProgressStyleModel",
      "state": {
       "description_width": ""
      }
     },
     "e2f9c553cda84b29b8912d2d332ae8cb": {
      "model_module": "@jupyter-widgets/controls",
      "model_module_version": "2.0.0",
      "model_name": "HTMLModel",
      "state": {
       "layout": "IPY_MODEL_e23df4b8b10148898f49280b3bd8308a",
       "style": "IPY_MODEL_eb4181bebf4d410e8b5c7badfad5bfda",
       "value": " 3/3 [00:10&lt;00:00,  4.20s/it]"
      }
     },
     "e33a5f4c714945229331ede15abc8eeb": {
      "model_module": "@jupyter-widgets/controls",
      "model_module_version": "2.0.0",
      "model_name": "HTMLStyleModel",
      "state": {
       "description_width": "",
       "font_size": null,
       "text_color": null
      }
     },
     "e33c825926f441ecb36ebe2d47c4af8f": {
      "model_module": "@jupyter-widgets/controls",
      "model_module_version": "2.0.0",
      "model_name": "FloatProgressModel",
      "state": {
       "bar_style": "success",
       "layout": "IPY_MODEL_5b069813b89b417297a48aeb2154fe67",
       "max": 14,
       "style": "IPY_MODEL_f46f147ed767438095a88af5a63a467a",
       "value": 14
      }
     },
     "e33de6c094a54effb98a325d8beecad8": {
      "model_module": "@jupyter-widgets/base",
      "model_module_version": "2.0.0",
      "model_name": "LayoutModel",
      "state": {}
     },
     "e370ebab14334b8aba9bb8bfed09edb4": {
      "model_module": "@jupyter-widgets/controls",
      "model_module_version": "2.0.0",
      "model_name": "HBoxModel",
      "state": {
       "children": [
        "IPY_MODEL_6f794c624be94766aa1173d268857714",
        "IPY_MODEL_0d3409116f40446cbda24b66b80c0548",
        "IPY_MODEL_9860d769f6e5456f8ab1d86485f89b89"
       ],
       "layout": "IPY_MODEL_bf8a60bc94df456e8eb3e78e65680454"
      }
     },
     "e3713f550fe34209b0ca21db1baa24aa": {
      "model_module": "@jupyter-widgets/controls",
      "model_module_version": "2.0.0",
      "model_name": "HTMLModel",
      "state": {
       "layout": "IPY_MODEL_f21572dd0fec42ae9fb1501edcecfecb",
       "style": "IPY_MODEL_a2955b360dac453d8c26fa7c5687f081",
       "value": "100%"
      }
     },
     "e3bb59a05fb8415c83eb1f0ab2bfbf5f": {
      "model_module": "@jupyter-widgets/controls",
      "model_module_version": "2.0.0",
      "model_name": "HTMLStyleModel",
      "state": {
       "description_width": "",
       "font_size": null,
       "text_color": null
      }
     },
     "e40cca4a10a44e0dbd27b705095264cc": {
      "model_module": "@jupyter-widgets/base",
      "model_module_version": "2.0.0",
      "model_name": "LayoutModel",
      "state": {}
     },
     "e49fc61a072143458af206edcef6af8c": {
      "model_module": "@jupyter-widgets/controls",
      "model_module_version": "2.0.0",
      "model_name": "DescriptionStyleModel",
      "state": {
       "description_width": ""
      }
     },
     "e4fee53c94fa471e8eb4b075e0b60ed2": {
      "model_module": "@jupyter-widgets/controls",
      "model_module_version": "2.0.0",
      "model_name": "ProgressStyleModel",
      "state": {
       "description_width": ""
      }
     },
     "e521aa828dc94af28f7c171bf9ee1566": {
      "model_module": "@jupyter-widgets/controls",
      "model_module_version": "2.0.0",
      "model_name": "HBoxModel",
      "state": {
       "children": [
        "IPY_MODEL_e585bad70ab040b2929b40c8daac6003",
        "IPY_MODEL_ccc5bf5d8d9348dfadf4db618a2aee02",
        "IPY_MODEL_854dbd68562548558ed1aa363a4554d2"
       ],
       "layout": "IPY_MODEL_67510021658848edbe477ad4bc8038f4"
      }
     },
     "e532c67f1c5a459dbaf78b5d1c681376": {
      "model_module": "@jupyter-widgets/controls",
      "model_module_version": "2.0.0",
      "model_name": "HTMLModel",
      "state": {
       "layout": "IPY_MODEL_d81ac806a89843e3a258a28316de145f",
       "style": "IPY_MODEL_1cf7ed64d07e42f1a35ac54ff80c9321",
       "value": " 6/6 [00:08&lt;00:00,  1.98s/it]"
      }
     },
     "e5627be0bb0747cbb16d4c50cdc94823": {
      "model_module": "@jupyter-widgets/base",
      "model_module_version": "2.0.0",
      "model_name": "LayoutModel",
      "state": {}
     },
     "e585bad70ab040b2929b40c8daac6003": {
      "model_module": "@jupyter-widgets/controls",
      "model_module_version": "2.0.0",
      "model_name": "HTMLModel",
      "state": {
       "layout": "IPY_MODEL_8d0d8c956fc0459f905a8b1a41ffe4fe",
       "style": "IPY_MODEL_7e6348b6f12249d5968b9eb97f166010",
       "value": "100%"
      }
     },
     "e58ad84b62ec439799d1916be0c1311f": {
      "model_module": "@jupyter-widgets/controls",
      "model_module_version": "2.0.0",
      "model_name": "HTMLStyleModel",
      "state": {
       "description_width": "",
       "font_size": null,
       "text_color": null
      }
     },
     "e59fd9367547423fbe88c0a69e5b5d4f": {
      "model_module": "@jupyter-widgets/base",
      "model_module_version": "2.0.0",
      "model_name": "LayoutModel",
      "state": {}
     },
     "e5ce606a16644d659863680e146e4706": {
      "model_module": "@jupyter-widgets/base",
      "model_module_version": "2.0.0",
      "model_name": "LayoutModel",
      "state": {}
     },
     "e5d5e45fb4914148aa722874d820f5b3": {
      "model_module": "@jupyter-widgets/controls",
      "model_module_version": "2.0.0",
      "model_name": "FloatProgressModel",
      "state": {
       "bar_style": "success",
       "layout": "IPY_MODEL_c61e0f4c117a4d1186762baca090503c",
       "max": 3,
       "style": "IPY_MODEL_332676bbba814a449eedc22d227442ce",
       "value": 3
      }
     },
     "e631feec27f44638b2b4bcc59588718e": {
      "model_module": "@jupyter-widgets/base",
      "model_module_version": "2.0.0",
      "model_name": "LayoutModel",
      "state": {}
     },
     "e6344aec656a4e2ebe984c2af55086ee": {
      "model_module": "@jupyter-widgets/controls",
      "model_module_version": "2.0.0",
      "model_name": "HTMLModel",
      "state": {
       "layout": "IPY_MODEL_3b0a2073456e43cbbc07113f5a06cd57",
       "style": "IPY_MODEL_3f64a682d5ca417bb12d96354fe97ee4",
       "value": " 14/14 [00:34&lt;00:00,  2.55s/it]"
      }
     },
     "e6601afb4f444433a8d2e37f465f45ab": {
      "model_module": "@jupyter-widgets/controls",
      "model_module_version": "2.0.0",
      "model_name": "DescriptionStyleModel",
      "state": {
       "description_width": ""
      }
     },
     "e67dee11d433417985572ac96d041333": {
      "model_module": "@jupyter-widgets/base",
      "model_module_version": "2.0.0",
      "model_name": "LayoutModel",
      "state": {}
     },
     "e6a099540d1b4981b0354d13867760e0": {
      "model_module": "@jupyter-widgets/controls",
      "model_module_version": "2.0.0",
      "model_name": "FloatProgressModel",
      "state": {
       "bar_style": "success",
       "layout": "IPY_MODEL_c2c9bae4f17b430f94173f93bee66759",
       "max": 14,
       "style": "IPY_MODEL_99424901800049039cf89f5962ef052d",
       "value": 14
      }
     },
     "e704b69e2c0147598b87d70959cc1d19": {
      "model_module": "@jupyter-widgets/base",
      "model_module_version": "2.0.0",
      "model_name": "LayoutModel",
      "state": {}
     },
     "e70f3c2d70b247df9fb2de2b32a22bdd": {
      "model_module": "@jupyter-widgets/controls",
      "model_module_version": "2.0.0",
      "model_name": "HTMLModel",
      "state": {
       "layout": "IPY_MODEL_90923c837e1b4ab9bc13f1267d9159d8",
       "style": "IPY_MODEL_abbeb2c6abf448dda079c6cbb462781b",
       "value": " 3/3 [00:10&lt;00:00,  4.12s/it]"
      }
     },
     "e744abc2fbcd45b6a9780d2183ae3d83": {
      "model_module": "@jupyter-widgets/controls",
      "model_module_version": "2.0.0",
      "model_name": "HTMLModel",
      "state": {
       "layout": "IPY_MODEL_240ac9bfcfca4ee1b8552b0aa6b1c30d",
       "style": "IPY_MODEL_f48ab7314b0244899aa892e212fa4d79",
       "value": "  0%"
      }
     },
     "e7c676f5f32c47ba9d376ed1e98d2579": {
      "model_module": "@jupyter-widgets/base",
      "model_module_version": "2.0.0",
      "model_name": "LayoutModel",
      "state": {}
     },
     "e83b55d4dce248a9ad00d59b4f589287": {
      "model_module": "@jupyter-widgets/controls",
      "model_module_version": "2.0.0",
      "model_name": "FloatProgressModel",
      "state": {
       "bar_style": "success",
       "layout": "IPY_MODEL_74b140d56f264876ad3baac400674e81",
       "max": 3,
       "style": "IPY_MODEL_56f349348df141708ca826a50e524d41",
       "value": 3
      }
     },
     "e888eadbc7f94bd8a49318165d57b41e": {
      "model_module": "@jupyter-widgets/base",
      "model_module_version": "2.0.0",
      "model_name": "LayoutModel",
      "state": {}
     },
     "e8e8410b949c4d85ab8ffc6736cacd90": {
      "model_module": "@jupyter-widgets/base",
      "model_module_version": "2.0.0",
      "model_name": "LayoutModel",
      "state": {}
     },
     "e8f26801067b4ef1828250d9824be275": {
      "model_module": "@jupyter-widgets/controls",
      "model_module_version": "2.0.0",
      "model_name": "ProgressStyleModel",
      "state": {
       "description_width": ""
      }
     },
     "e90406da19364701938d300128db6610": {
      "model_module": "@jupyter-widgets/controls",
      "model_module_version": "2.0.0",
      "model_name": "DescriptionStyleModel",
      "state": {
       "description_width": ""
      }
     },
     "e9242590798b48be820f5b35bb78d603": {
      "model_module": "@jupyter-widgets/controls",
      "model_module_version": "2.0.0",
      "model_name": "HBoxModel",
      "state": {
       "children": [
        "IPY_MODEL_e744abc2fbcd45b6a9780d2183ae3d83",
        "IPY_MODEL_3e57f777247b4598b82b5d44f6a95f1f",
        "IPY_MODEL_7eae24d97b304548b79fa6b8c4f0440c"
       ],
       "layout": "IPY_MODEL_bea60f47ad4342aa85af0a82419d5792"
      }
     },
     "e9851f713d7243c19f16d596d8687237": {
      "model_module": "@jupyter-widgets/controls",
      "model_module_version": "2.0.0",
      "model_name": "DescriptionStyleModel",
      "state": {
       "description_width": ""
      }
     },
     "e98c8a8741464f7d89d4b1b0c4ba928e": {
      "model_module": "@jupyter-widgets/controls",
      "model_module_version": "2.0.0",
      "model_name": "HTMLModel",
      "state": {
       "layout": "IPY_MODEL_4dd2a703b89e4906995b6ae63384ebec",
       "style": "IPY_MODEL_77c0f641a17541f098b0af2bfc288ba2",
       "value": "100%"
      }
     },
     "e9c5bf0eb79e49b88e40dc586ebe3e7c": {
      "model_module": "@jupyter-widgets/base",
      "model_module_version": "2.0.0",
      "model_name": "LayoutModel",
      "state": {}
     },
     "e9f11de37b074385b4ae630297261ce2": {
      "model_module": "@jupyter-widgets/base",
      "model_module_version": "2.0.0",
      "model_name": "LayoutModel",
      "state": {}
     },
     "ea5c5e28a3084a8e9b220f22ec95964c": {
      "model_module": "@jupyter-widgets/controls",
      "model_module_version": "2.0.0",
      "model_name": "DescriptionStyleModel",
      "state": {
       "description_width": ""
      }
     },
     "ead2c8de8254474aa03caec7fb6f8f4f": {
      "model_module": "@jupyter-widgets/controls",
      "model_module_version": "2.0.0",
      "model_name": "HTMLStyleModel",
      "state": {
       "description_width": "",
       "font_size": null,
       "text_color": null
      }
     },
     "eb0aa6c7a1894f94bcde787892e4921b": {
      "model_module": "@jupyter-widgets/controls",
      "model_module_version": "2.0.0",
      "model_name": "HTMLStyleModel",
      "state": {
       "description_width": "",
       "font_size": null,
       "text_color": null
      }
     },
     "eb4181bebf4d410e8b5c7badfad5bfda": {
      "model_module": "@jupyter-widgets/controls",
      "model_module_version": "2.0.0",
      "model_name": "DescriptionStyleModel",
      "state": {
       "description_width": ""
      }
     },
     "eb54245568c3417f8c1a3e0308150b39": {
      "model_module": "@jupyter-widgets/base",
      "model_module_version": "2.0.0",
      "model_name": "LayoutModel",
      "state": {}
     },
     "eba97bc2fe554e4d89a75a68452728ea": {
      "model_module": "@jupyter-widgets/controls",
      "model_module_version": "2.0.0",
      "model_name": "HTMLModel",
      "state": {
       "layout": "IPY_MODEL_e5ce606a16644d659863680e146e4706",
       "style": "IPY_MODEL_3282bc86098446bebd1e8f06a0a2af04",
       "value": " 3/3 [00:11&lt;00:00,  4.30s/it]"
      }
     },
     "ec90cfce9177485b883662ef681ad8d6": {
      "model_module": "@jupyter-widgets/controls",
      "model_module_version": "2.0.0",
      "model_name": "HTMLModel",
      "state": {
       "layout": "IPY_MODEL_5256fcf8c90746a2b585640096aabcd5",
       "style": "IPY_MODEL_59b8436cb07c42e9bc5b74d1bab28248",
       "value": "100%"
      }
     },
     "ecc123de3d6c47dc8f8232d19946d330": {
      "model_module": "@jupyter-widgets/controls",
      "model_module_version": "2.0.0",
      "model_name": "HBoxModel",
      "state": {
       "children": [
        "IPY_MODEL_3ddf5925f06b4d429e4f92bd152b3bec",
        "IPY_MODEL_516b22b99dad4b26bda95b7f5f377e6b",
        "IPY_MODEL_0365c814a1964bfa8a174f66d432d2d8"
       ],
       "layout": "IPY_MODEL_03a3d629e6154eacaca8081c71a01b2b"
      }
     },
     "ed4b45ecdd934060aec1b9f01e6666f3": {
      "model_module": "@jupyter-widgets/controls",
      "model_module_version": "2.0.0",
      "model_name": "ProgressStyleModel",
      "state": {
       "description_width": ""
      }
     },
     "ed986ba25e62442b805d11edfd26d196": {
      "model_module": "@jupyter-widgets/controls",
      "model_module_version": "2.0.0",
      "model_name": "FloatProgressModel",
      "state": {
       "bar_style": "success",
       "layout": "IPY_MODEL_7cdbaf6f3ca74f5f9129c7b62ff0fad9",
       "max": 6,
       "style": "IPY_MODEL_ce7f7abe8f384bdd91ef63c4be8b933c",
       "value": 6
      }
     },
     "edba1ebe3a684c6da97596e98b5211a5": {
      "model_module": "@jupyter-widgets/base",
      "model_module_version": "2.0.0",
      "model_name": "LayoutModel",
      "state": {}
     },
     "edd4ff7f3e974300b167832d9129ddc9": {
      "model_module": "@jupyter-widgets/controls",
      "model_module_version": "2.0.0",
      "model_name": "DescriptionStyleModel",
      "state": {
       "description_width": ""
      }
     },
     "edf5997f4a0c488abc2bd51d603e413b": {
      "model_module": "@jupyter-widgets/base",
      "model_module_version": "2.0.0",
      "model_name": "LayoutModel",
      "state": {}
     },
     "ee0c4e46207a4274a774314fe021f144": {
      "model_module": "@jupyter-widgets/base",
      "model_module_version": "2.0.0",
      "model_name": "LayoutModel",
      "state": {}
     },
     "ee2dd5434a194971bea98ba72eb8aad9": {
      "model_module": "@jupyter-widgets/controls",
      "model_module_version": "2.0.0",
      "model_name": "HBoxModel",
      "state": {
       "children": [
        "IPY_MODEL_81fd12c7fc3c414b93a7481f3fb7da1e",
        "IPY_MODEL_f48e026983244ac9ac89fe0530611c84",
        "IPY_MODEL_b7dc5056499647e6b599be2a6894c13b"
       ],
       "layout": "IPY_MODEL_219afd487156452a86e2406576ecfcc9"
      }
     },
     "ee40caa8c6a5462badf1997964bd8578": {
      "model_module": "@jupyter-widgets/controls",
      "model_module_version": "2.0.0",
      "model_name": "FloatProgressModel",
      "state": {
       "bar_style": "danger",
       "layout": "IPY_MODEL_b30a39d725ec4a5da7ab1f5f3027d270",
       "max": 6,
       "style": "IPY_MODEL_b77707f31c9b4dfd80bc0adc3c559056"
      }
     },
     "ee859f8513d14fd2a184aee7c23944ab": {
      "model_module": "@jupyter-widgets/base",
      "model_module_version": "2.0.0",
      "model_name": "LayoutModel",
      "state": {}
     },
     "eea860404204486385b30ba97d247ae2": {
      "model_module": "@jupyter-widgets/base",
      "model_module_version": "2.0.0",
      "model_name": "LayoutModel",
      "state": {}
     },
     "efc52319653d4b0bbd451e539181b0fa": {
      "model_module": "@jupyter-widgets/base",
      "model_module_version": "2.0.0",
      "model_name": "LayoutModel",
      "state": {}
     },
     "f02c4f5a3cc94e6a894dfcdd90c4a76c": {
      "model_module": "@jupyter-widgets/controls",
      "model_module_version": "2.0.0",
      "model_name": "DescriptionStyleModel",
      "state": {
       "description_width": ""
      }
     },
     "f088742121f542cdb895747b227deca2": {
      "model_module": "@jupyter-widgets/controls",
      "model_module_version": "2.0.0",
      "model_name": "DescriptionStyleModel",
      "state": {
       "description_width": ""
      }
     },
     "f088a133a8804674b9dd7f297ffbf9c2": {
      "model_module": "@jupyter-widgets/controls",
      "model_module_version": "2.0.0",
      "model_name": "FloatProgressModel",
      "state": {
       "bar_style": "success",
       "layout": "IPY_MODEL_4649dcb9189249368cf39bbc84f2235f",
       "max": 3,
       "style": "IPY_MODEL_89df800d4df747eaa75255a756977bf8",
       "value": 3
      }
     },
     "f0db023865de4e75a40b4550172c6138": {
      "model_module": "@jupyter-widgets/controls",
      "model_module_version": "2.0.0",
      "model_name": "HBoxModel",
      "state": {
       "children": [
        "IPY_MODEL_bd3f5d9954cd4a91a7381e105cf45022",
        "IPY_MODEL_70268c8c928f4f88b7800ca0b349bf8e",
        "IPY_MODEL_5af10075c7954a7a86b516adebbabe88"
       ],
       "layout": "IPY_MODEL_9cf5eea599ac405eba88a368b841cb7b"
      }
     },
     "f0f757600cc0422fb1fcae4bbfb667b7": {
      "model_module": "@jupyter-widgets/base",
      "model_module_version": "2.0.0",
      "model_name": "LayoutModel",
      "state": {}
     },
     "f10a509f4c6a45be95fd03a4d39b1837": {
      "model_module": "@jupyter-widgets/base",
      "model_module_version": "2.0.0",
      "model_name": "LayoutModel",
      "state": {}
     },
     "f13ca19e18544997bae83876d0159c0a": {
      "model_module": "@jupyter-widgets/controls",
      "model_module_version": "2.0.0",
      "model_name": "DescriptionStyleModel",
      "state": {
       "description_width": ""
      }
     },
     "f13fb1a0d89e42c0afa8612021dcb98e": {
      "model_module": "@jupyter-widgets/controls",
      "model_module_version": "2.0.0",
      "model_name": "HTMLModel",
      "state": {
       "layout": "IPY_MODEL_b2eb49191f454d1ca89219338d27fff3",
       "style": "IPY_MODEL_6d0bfbc93a1545819218856abadd1ff0",
       "value": " 6/6 [00:11&lt;00:00,  2.78s/it]"
      }
     },
     "f1a0ce767920426aa410782640361065": {
      "model_module": "@jupyter-widgets/controls",
      "model_module_version": "2.0.0",
      "model_name": "HBoxModel",
      "state": {
       "children": [
        "IPY_MODEL_1fc82bd317434156a2e9298ba5e183fd",
        "IPY_MODEL_e6a099540d1b4981b0354d13867760e0",
        "IPY_MODEL_b1869575b6bc48b185eadfefede9f2ea"
       ],
       "layout": "IPY_MODEL_b3c64d1d470d4303ba1161800f662b9d"
      }
     },
     "f1cadea86f4349a5ab89df8c16368f3f": {
      "model_module": "@jupyter-widgets/base",
      "model_module_version": "2.0.0",
      "model_name": "LayoutModel",
      "state": {}
     },
     "f1cf5257a926489ebdcef6587525d199": {
      "model_module": "@jupyter-widgets/base",
      "model_module_version": "2.0.0",
      "model_name": "LayoutModel",
      "state": {}
     },
     "f1cfc5bb0898456ca8f5c538a609a70f": {
      "model_module": "@jupyter-widgets/controls",
      "model_module_version": "2.0.0",
      "model_name": "DescriptionStyleModel",
      "state": {
       "description_width": ""
      }
     },
     "f1e99bec5c1a4eb288eb61fa64cd9703": {
      "model_module": "@jupyter-widgets/controls",
      "model_module_version": "2.0.0",
      "model_name": "FloatProgressModel",
      "state": {
       "bar_style": "danger",
       "layout": "IPY_MODEL_dac323477cf149139d9d28f79c4064bc",
       "max": 6,
       "style": "IPY_MODEL_3d47e1796585418ca1b913a20708cefa",
       "value": 5
      }
     },
     "f1f91959b5e34777a43a77fabbc2547b": {
      "model_module": "@jupyter-widgets/base",
      "model_module_version": "2.0.0",
      "model_name": "LayoutModel",
      "state": {}
     },
     "f205a09d309f47fe9800e84ab1b9b096": {
      "model_module": "@jupyter-widgets/controls",
      "model_module_version": "2.0.0",
      "model_name": "FloatProgressModel",
      "state": {
       "bar_style": "success",
       "layout": "IPY_MODEL_c1d48ac75e284e85b0d09d8c36f30458",
       "max": 6,
       "style": "IPY_MODEL_a98327ed4bd04814ab99164413777c03",
       "value": 6
      }
     },
     "f21572dd0fec42ae9fb1501edcecfecb": {
      "model_module": "@jupyter-widgets/base",
      "model_module_version": "2.0.0",
      "model_name": "LayoutModel",
      "state": {}
     },
     "f21e3b344edc4b7dac55236cc7acdf7f": {
      "model_module": "@jupyter-widgets/controls",
      "model_module_version": "2.0.0",
      "model_name": "HBoxModel",
      "state": {
       "children": [
        "IPY_MODEL_009e9b31c50b45ce98d8d25a7a492aac",
        "IPY_MODEL_298d55ec99f54dcd8e73ef8eba7e4595",
        "IPY_MODEL_98ebb002e3a64642ad056d5f1b073578"
       ],
       "layout": "IPY_MODEL_80c763c7699b4ff49a71253aa16e9b40"
      }
     },
     "f27ed8d568e3443b8ebfc12dea126023": {
      "model_module": "@jupyter-widgets/base",
      "model_module_version": "2.0.0",
      "model_name": "LayoutModel",
      "state": {}
     },
     "f287eebaea2a42059275cf322b97e556": {
      "model_module": "@jupyter-widgets/controls",
      "model_module_version": "2.0.0",
      "model_name": "DescriptionStyleModel",
      "state": {
       "description_width": ""
      }
     },
     "f2b100e087414d70b6a7854840f6a755": {
      "model_module": "@jupyter-widgets/controls",
      "model_module_version": "2.0.0",
      "model_name": "HBoxModel",
      "state": {
       "children": [
        "IPY_MODEL_cc828325858743d1a489b03205ca511f",
        "IPY_MODEL_69329a3476f64b6ebd2f92c94b295e8c",
        "IPY_MODEL_e2f9c553cda84b29b8912d2d332ae8cb"
       ],
       "layout": "IPY_MODEL_310227bd46d14740a6e6c01f119281fe"
      }
     },
     "f302702e49304ecc970ba60d6dff4f48": {
      "model_module": "@jupyter-widgets/base",
      "model_module_version": "2.0.0",
      "model_name": "LayoutModel",
      "state": {}
     },
     "f3448abc46c64dcc99030e01f7f7c0ad": {
      "model_module": "@jupyter-widgets/controls",
      "model_module_version": "2.0.0",
      "model_name": "HTMLModel",
      "state": {
       "layout": "IPY_MODEL_c931633d20a244ef9feb92c378ca50c7",
       "style": "IPY_MODEL_97911fa7f7ff4b9ca533f84f14ba8a8d",
       "value": "100%"
      }
     },
     "f37ee6991b5b4c67b17f201ce50e2880": {
      "model_module": "@jupyter-widgets/controls",
      "model_module_version": "2.0.0",
      "model_name": "HTMLModel",
      "state": {
       "layout": "IPY_MODEL_a93293402c394b809ddfc405b57fc3ae",
       "style": "IPY_MODEL_4f45b7be062545dfad8cd46b855234c4",
       "value": "100%"
      }
     },
     "f387bf1b5492446ba39e2624cfcd4629": {
      "model_module": "@jupyter-widgets/base",
      "model_module_version": "2.0.0",
      "model_name": "LayoutModel",
      "state": {}
     },
     "f44d75a7f63d49649d2bd08154c9e62d": {
      "model_module": "@jupyter-widgets/controls",
      "model_module_version": "2.0.0",
      "model_name": "HBoxModel",
      "state": {
       "children": [
        "IPY_MODEL_4a02dde9f0c2473ca483bd879aae9897",
        "IPY_MODEL_aceda0a21c1a4b75853cdb8a59f7eadf",
        "IPY_MODEL_8ff573009e114a3f87d3b18fc70f28cc"
       ],
       "layout": "IPY_MODEL_c9926b82ab4345ebbeaf72d68b2d7259"
      }
     },
     "f46f147ed767438095a88af5a63a467a": {
      "model_module": "@jupyter-widgets/controls",
      "model_module_version": "2.0.0",
      "model_name": "ProgressStyleModel",
      "state": {
       "description_width": ""
      }
     },
     "f48ab7314b0244899aa892e212fa4d79": {
      "model_module": "@jupyter-widgets/controls",
      "model_module_version": "2.0.0",
      "model_name": "HTMLStyleModel",
      "state": {
       "description_width": "",
       "font_size": null,
       "text_color": null
      }
     },
     "f48e026983244ac9ac89fe0530611c84": {
      "model_module": "@jupyter-widgets/controls",
      "model_module_version": "2.0.0",
      "model_name": "FloatProgressModel",
      "state": {
       "bar_style": "success",
       "layout": "IPY_MODEL_4cf01c7addd141348d4644f6e298d0c3",
       "max": 14,
       "style": "IPY_MODEL_9216e0e0907040929f6e274b03ee6243",
       "value": 14
      }
     },
     "f4d962287f0a4127a69e007329d4b295": {
      "model_module": "@jupyter-widgets/base",
      "model_module_version": "2.0.0",
      "model_name": "LayoutModel",
      "state": {}
     },
     "f4e82aa0dad7492e9f251f424c0459f3": {
      "model_module": "@jupyter-widgets/controls",
      "model_module_version": "2.0.0",
      "model_name": "DescriptionStyleModel",
      "state": {
       "description_width": ""
      }
     },
     "f4f9b0038c9c44619b86920342744735": {
      "model_module": "@jupyter-widgets/base",
      "model_module_version": "2.0.0",
      "model_name": "LayoutModel",
      "state": {}
     },
     "f5b2aff67783436c98d18958c3462638": {
      "model_module": "@jupyter-widgets/controls",
      "model_module_version": "2.0.0",
      "model_name": "HTMLModel",
      "state": {
       "layout": "IPY_MODEL_e9c5bf0eb79e49b88e40dc586ebe3e7c",
       "style": "IPY_MODEL_6aad32a9423043eb8bffaa7ab8e9632f",
       "value": " 3/3 [00:11&lt;00:00,  4.33s/it]"
      }
     },
     "f5f8f0158f5e4152a38befdfae4ec590": {
      "model_module": "@jupyter-widgets/controls",
      "model_module_version": "2.0.0",
      "model_name": "ProgressStyleModel",
      "state": {
       "description_width": ""
      }
     },
     "f60f6e5e80ae48e9a0f049286dda0399": {
      "model_module": "@jupyter-widgets/base",
      "model_module_version": "2.0.0",
      "model_name": "LayoutModel",
      "state": {}
     },
     "f65d8a8840ca449cbde70bef05e56953": {
      "model_module": "@jupyter-widgets/base",
      "model_module_version": "2.0.0",
      "model_name": "LayoutModel",
      "state": {}
     },
     "f66bdd911a814945be5752c9df45f480": {
      "model_module": "@jupyter-widgets/controls",
      "model_module_version": "2.0.0",
      "model_name": "HTMLModel",
      "state": {
       "layout": "IPY_MODEL_8217a65ec82749c384cfde988d04b47e",
       "style": "IPY_MODEL_76d91f459d6d4f2aa4c55161e3e2fbd5",
       "value": "100%"
      }
     },
     "f6d9b538a7d4474faf6f1b5d4ed3aa22": {
      "model_module": "@jupyter-widgets/controls",
      "model_module_version": "2.0.0",
      "model_name": "DescriptionStyleModel",
      "state": {
       "description_width": ""
      }
     },
     "f7b6a4fb1aba43ad94e6124c4f209345": {
      "model_module": "@jupyter-widgets/controls",
      "model_module_version": "2.0.0",
      "model_name": "HBoxModel",
      "state": {
       "children": [
        "IPY_MODEL_6b85b3f5a8a844c2bcfadcce25177f81",
        "IPY_MODEL_a040616087b0471381e02100d008c999",
        "IPY_MODEL_25c6f48933ff4136bbdfb125b1cd897e"
       ],
       "layout": "IPY_MODEL_ceb07ebb580242619894a2c16e706be0"
      }
     },
     "f8689e845c5447c398f87941c18b50cf": {
      "model_module": "@jupyter-widgets/controls",
      "model_module_version": "2.0.0",
      "model_name": "ProgressStyleModel",
      "state": {
       "description_width": ""
      }
     },
     "f8d0aa0d6d044fd9b885647c29ad5ed9": {
      "model_module": "@jupyter-widgets/controls",
      "model_module_version": "2.0.0",
      "model_name": "DescriptionStyleModel",
      "state": {
       "description_width": ""
      }
     },
     "f8d197cb409d41f082178184a9954ac3": {
      "model_module": "@jupyter-widgets/base",
      "model_module_version": "2.0.0",
      "model_name": "LayoutModel",
      "state": {}
     },
     "f8f2b91fd5f749c1a9005b5678f313bc": {
      "model_module": "@jupyter-widgets/base",
      "model_module_version": "2.0.0",
      "model_name": "LayoutModel",
      "state": {}
     },
     "f9620fa4d32740b59e5cb0690a070612": {
      "model_module": "@jupyter-widgets/base",
      "model_module_version": "2.0.0",
      "model_name": "LayoutModel",
      "state": {}
     },
     "f990c3c0d24b4feb8b54ebbb0fe605e3": {
      "model_module": "@jupyter-widgets/controls",
      "model_module_version": "2.0.0",
      "model_name": "DescriptionStyleModel",
      "state": {
       "description_width": ""
      }
     },
     "fa70d6fcb22147d0955df9e8bddc056c": {
      "model_module": "@jupyter-widgets/controls",
      "model_module_version": "2.0.0",
      "model_name": "FloatProgressModel",
      "state": {
       "bar_style": "success",
       "layout": "IPY_MODEL_b13f40fc66ff46f3b4778d156c0b4e3f",
       "max": 3,
       "style": "IPY_MODEL_4df6d7c39cce4536a58880a00a3970ef",
       "value": 3
      }
     },
     "fb01dde1bd6a48828dc2335448eeab33": {
      "model_module": "@jupyter-widgets/base",
      "model_module_version": "2.0.0",
      "model_name": "LayoutModel",
      "state": {}
     },
     "fb2b7e82ece14ab79d84a08df31c827e": {
      "model_module": "@jupyter-widgets/base",
      "model_module_version": "2.0.0",
      "model_name": "LayoutModel",
      "state": {}
     },
     "fb408567788d4f848be4ce280f558218": {
      "model_module": "@jupyter-widgets/base",
      "model_module_version": "2.0.0",
      "model_name": "LayoutModel",
      "state": {}
     },
     "fc07a7ad29a1417dbfecf232fc63168d": {
      "model_module": "@jupyter-widgets/base",
      "model_module_version": "2.0.0",
      "model_name": "LayoutModel",
      "state": {}
     },
     "fc07b8eb3f2d42398ac37ae004962f19": {
      "model_module": "@jupyter-widgets/base",
      "model_module_version": "2.0.0",
      "model_name": "LayoutModel",
      "state": {}
     },
     "fc340e178dcf4841a50d791a1e61b133": {
      "model_module": "@jupyter-widgets/base",
      "model_module_version": "2.0.0",
      "model_name": "LayoutModel",
      "state": {}
     },
     "fcae490625734c64bdd2385f2511ea70": {
      "model_module": "@jupyter-widgets/controls",
      "model_module_version": "2.0.0",
      "model_name": "DescriptionStyleModel",
      "state": {
       "description_width": ""
      }
     },
     "fd51647b299b4889b249a7594dbeedea": {
      "model_module": "@jupyter-widgets/controls",
      "model_module_version": "2.0.0",
      "model_name": "HTMLModel",
      "state": {
       "layout": "IPY_MODEL_8f409e26f6304a798feedac9af5080d5",
       "style": "IPY_MODEL_ab66689f2e41405eb01c1c18ef038851",
       "value": " 6/6 [00:08&lt;00:00,  1.99s/it]"
      }
     },
     "fd5e81f960e243358e7a5d42b3ba3402": {
      "model_module": "@jupyter-widgets/controls",
      "model_module_version": "2.0.0",
      "model_name": "ProgressStyleModel",
      "state": {
       "description_width": ""
      }
     },
     "fd78d4fe60794bd9a4080bccdd2b5066": {
      "model_module": "@jupyter-widgets/controls",
      "model_module_version": "2.0.0",
      "model_name": "FloatProgressModel",
      "state": {
       "bar_style": "success",
       "layout": "IPY_MODEL_2a2a37aad76a438cae578d3ae288b46b",
       "max": 14,
       "style": "IPY_MODEL_56eadb9f4fd944dcb5039b404e09f6a1",
       "value": 14
      }
     },
     "fdad8f8a394b4897a51e1509b9cafa80": {
      "model_module": "@jupyter-widgets/controls",
      "model_module_version": "2.0.0",
      "model_name": "FloatProgressModel",
      "state": {
       "bar_style": "success",
       "layout": "IPY_MODEL_fb408567788d4f848be4ce280f558218",
       "max": 6,
       "style": "IPY_MODEL_4fbd978fd55041cb9ce67134a734e2df",
       "value": 6
      }
     },
     "fdaec1db841d41f4b0b47f94f489842b": {
      "model_module": "@jupyter-widgets/base",
      "model_module_version": "2.0.0",
      "model_name": "LayoutModel",
      "state": {}
     },
     "fdb9a369ccea4ed5983d9d8248c46c5d": {
      "model_module": "@jupyter-widgets/base",
      "model_module_version": "2.0.0",
      "model_name": "LayoutModel",
      "state": {}
     },
     "fdc23c6f872c4825b03240c4a0ab9831": {
      "model_module": "@jupyter-widgets/controls",
      "model_module_version": "2.0.0",
      "model_name": "HTMLModel",
      "state": {
       "layout": "IPY_MODEL_a100bb931af3454f8ff02fae28c2ba6a",
       "style": "IPY_MODEL_af095a946e40470fb6b10069cdead320",
       "value": "100%"
      }
     },
     "fec48c92bd4346b18cec58b6d94fbb49": {
      "model_module": "@jupyter-widgets/controls",
      "model_module_version": "2.0.0",
      "model_name": "HTMLModel",
      "state": {
       "layout": "IPY_MODEL_c118c80129a249eea1b05cb08a19d240",
       "style": "IPY_MODEL_a89c19df94ce4db18c427504318b7256",
       "value": " 6/6 [00:11&lt;00:00,  2.84s/it]"
      }
     },
     "ff6c51d38ade449d9351b3aa712bc22e": {
      "model_module": "@jupyter-widgets/base",
      "model_module_version": "2.0.0",
      "model_name": "LayoutModel",
      "state": {}
     },
     "ff7181daebce46c8a92713b3908a3645": {
      "model_module": "@jupyter-widgets/controls",
      "model_module_version": "2.0.0",
      "model_name": "HTMLModel",
      "state": {
       "layout": "IPY_MODEL_f10a509f4c6a45be95fd03a4d39b1837",
       "style": "IPY_MODEL_adb01a75c497444e9fb19c4b1eadcf84",
       "value": "100%"
      }
     },
     "ff775a243b6949488f74e1dbabacf8a0": {
      "model_module": "@jupyter-widgets/controls",
      "model_module_version": "2.0.0",
      "model_name": "HTMLModel",
      "state": {
       "layout": "IPY_MODEL_f0f757600cc0422fb1fcae4bbfb667b7",
       "style": "IPY_MODEL_e27c6e761b364d56bc2c9cee005861aa",
       "value": "100%"
      }
     },
     "ffaab0ce30f54c8899278aa16a20a700": {
      "model_module": "@jupyter-widgets/controls",
      "model_module_version": "2.0.0",
      "model_name": "HTMLStyleModel",
      "state": {
       "description_width": "",
       "font_size": null,
       "text_color": null
      }
     }
    },
    "version_major": 2,
    "version_minor": 0
   }
  }
 },
 "nbformat": 4,
 "nbformat_minor": 5
}
