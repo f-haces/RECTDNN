{
 "cells": [
  {
   "cell_type": "code",
   "execution_count": 1,
   "metadata": {},
   "outputs": [],
   "source": [
    "%load_ext autoreload\n",
    "%autoreload 2"
   ]
  },
  {
   "cell_type": "code",
   "execution_count": 6,
   "metadata": {},
   "outputs": [],
   "source": [
    "# NOTEBOOK IMPORTS\n",
    "import os, glob, warnings, pickle, re\n",
    "import numpy as np\n",
    "from shutil import copyfile, rmtree\n",
    "from datetime import datetime\n",
    "from fuzzywuzzy import process\n",
    "\n",
    "# IMAGE IMPORTS\n",
    "# from PIL import Image\n",
    "\n",
    "# GIS IMPORTS\n",
    "from affinetransformation import *\n",
    "from affine import Affine\n",
    "import pandas as pd\n",
    "import geopandas as gpd\n",
    "from shapely.geometry import Polygon, LineString, Point, MultiPoint, box\n",
    "import rasterio as rio\n",
    "import contextily as cx\n",
    "\n",
    "# IMAGE IMPORTS\n",
    "from skimage.morphology import skeletonize\n",
    "from skimage import img_as_bool, img_as_ubyte\n",
    "\n",
    "\n",
    "# PLOTTING IMPORTS\n",
    "import matplotlib.pyplot as plt\n",
    "\n",
    "# CUSTOM UTILITIES\n",
    "from IndexUtils import * \n",
    "from TileUtils import *\n",
    "\n",
    "Image.MAX_IMAGE_PIXELS = 933120000\n",
    "warnings.filterwarnings(\"ignore\")\n",
    "initialize = False\n",
    "\n",
    "%matplotlib widget"
   ]
  },
  {
   "cell_type": "code",
   "execution_count": 4,
   "metadata": {},
   "outputs": [],
   "source": [
    "input_dir = r\"D:\\RECTDNN\\uncompress\\\\\"\n",
    "proc_dir  = r\"D:\\RECTDNN\\processing\\2024-05-31_14-05-48\\Tiles\\\\\""
   ]
  },
  {
   "cell_type": "code",
   "execution_count": 5,
   "metadata": {},
   "outputs": [
    {
     "data": {
      "text/plain": [
       "True"
      ]
     },
     "execution_count": 5,
     "metadata": {},
     "output_type": "execute_result"
    }
   ],
   "source": [
    "stateplanes = gpd.read_file(f\"{data_dir}/AAA_ReferenceDatasets/stateplane.shp\")\n",
    "init_databases(f\"{data_dir}/AAA_ReferenceDatasets/\")"
   ]
  },
  {
   "cell_type": "code",
   "execution_count": 6,
   "metadata": {},
   "outputs": [],
   "source": [
    "# LIST ALL IMAGES IN DIRECTORY\n",
    "image_files = glob.glob(f\"{input_dir}/*480287*\")\n",
    "image_files = [f for f in image_files if 'w' not in os.path.splitext(f)[1]]\n",
    "\n",
    "# FILTER IMAGES USING HEURISTICS TO GET TILEINDICES\n",
    "patterns = [\"IND\", \"_1.\"]\n",
    "index_files = [file for pattern in patterns for file in glob.glob(input_dir + \"\\\\*\" + pattern + \"*.*[!w]*\")]\n",
    "filtered_files = [file for file in image_files if len(os.path.basename(file)) < 12]\n",
    "index_files.extend(filtered_files)\n",
    "\n",
    "# GET ACTUAL TILES\n",
    "tiles       = list(set(image_files) - set(index_files))\n",
    "tiles_bns   = [os.path.basename(tile).split(\".\")[0] for tile in tiles]\n",
    "\n",
    "with open(f\"{data_dir}/AAA_ReferenceDatasets/IndexCoords.pkl\", 'rb') as handle:\n",
    "    dict = pickle.load(handle)"
   ]
  },
  {
   "cell_type": "markdown",
   "metadata": {},
   "source": [
    "We create the tile database with the detected tiles"
   ]
  },
  {
   "cell_type": "code",
   "execution_count": 6,
   "metadata": {},
   "outputs": [
    {
     "name": "stdout",
     "output_type": "stream",
     "text": [
      "2190 1493\n"
     ]
    }
   ],
   "source": [
    "duplicate_db, non_dupped_dict, dupped_dict = buildDetectedDatabase(dict)\n",
    "\n",
    "print(len(non_dupped_dict), len(dupped_dict))  \n",
    "\n",
    "detected_tiles = pd.DataFrame.from_dict(non_dupped_dict).T\n",
    "detected_tiles['geometry'] = detected_tiles['coords'].apply(bbox_to_polygon)\n",
    "detected_tiles_gdf = gpd.GeoDataFrame(detected_tiles)\n",
    "detected_tiles_gdf = detected_tiles_gdf[['geometry']]"
   ]
  },
  {
   "cell_type": "markdown",
   "metadata": {},
   "source": [
    "Here we supplement that database with all existing world files..."
   ]
  },
  {
   "cell_type": "code",
   "execution_count": 7,
   "metadata": {},
   "outputs": [],
   "source": [
    "fn = os.path.join(proc_dir, \"WorldFileDatabase.feather\")\n",
    "if os.path.exists(fn):\n",
    "    df = pd.read_pickle(fn)\n",
    "else:\n",
    "    df = buildWorldFileDatabase(input_dir, duplicate_db, stateplanes)\n",
    "    df.to_pickle(fn)"
   ]
  },
  {
   "cell_type": "markdown",
   "metadata": {},
   "source": [
    "Now we can save both databases as shapefiles"
   ]
  },
  {
   "cell_type": "code",
   "execution_count": 8,
   "metadata": {},
   "outputs": [],
   "source": [
    "# Apply the function to the 'bbox' column\n",
    "df['geometry'] = df['webmerc'].apply(bbox_to_polygon)\n",
    "gdf = gpd.GeoDataFrame(df)\n",
    "gdf.dropna(axis=0)\n",
    "\n",
    "for key in gdf.keys():\n",
    "    if key == 'geometry':\n",
    "        continue\n",
    "    gdf[key] = gdf[key].astype(str)\n",
    "\n",
    "gdf.to_file(r\"D:\\RECTDNN\\WorldFiles.shp\")\n",
    "detected_tiles_gdf.to_file(r\"D:\\RECTDNN\\Detected.shp\")"
   ]
  },
  {
   "cell_type": "markdown",
   "metadata": {},
   "source": [
    "This is where we identify Street Corners in each raster using YOLO models"
   ]
  },
  {
   "cell_type": "code",
   "execution_count": 11,
   "metadata": {},
   "outputs": [
    {
     "data": {
      "text/plain": [
       "220"
      ]
     },
     "execution_count": 11,
     "metadata": {},
     "output_type": "execute_result"
    }
   ],
   "source": [
    "len(tiles)"
   ]
  },
  {
   "cell_type": "code",
   "execution_count": 12,
   "metadata": {},
   "outputs": [
    {
     "name": "stdout",
     "output_type": "stream",
     "text": [
      "FOUND DICTIONARY, LOADING\n"
     ]
    },
    {
     "data": {
      "application/vnd.jupyter.widget-view+json": {
       "model_id": "1ec728bcc2474efb864fff8a4f1df211",
       "version_major": 2,
       "version_minor": 0
      },
      "text/plain": [
       "  0%|          | 0/220 [00:00<?, ?it/s]"
      ]
     },
     "metadata": {},
     "output_type": "display_data"
    }
   ],
   "source": [
    "FANN_prior = None\n",
    "RLNN_prior = None\n",
    "model = None\n",
    "\n",
    "color=False\n",
    "\n",
    "plot_params = {\"labels\" : False, }\n",
    "YOLO_params = {\n",
    "    \"device\"  : \"cuda\",     \"find_text\" : False, \n",
    "    \"keyed_text\"  : False,  \"verbose\" : False,  \"get_data\"  : False,\n",
    "    \"target_size\" : 1920,   \"plot_params\" : plot_params, \"ret_values\" : True\n",
    "}\n",
    "\n",
    "# IF WE'VE ALREADY STARTED PROCESSING THINGS, LOAD STATE DICT\n",
    "if os.path.exists(f'{proc_dir}results.pkl'):\n",
    "    print(\"FOUND DICTIONARY, LOADING\")\n",
    "    with open(f'{proc_dir}results.pkl', 'rb') as handle:\n",
    "        results_struct = pickle.load(handle)\n",
    "else:\n",
    "    results_struct = {}\n",
    "\n",
    "# LOOP FOR EACH TILE\n",
    "for i, tile in tqdm(enumerate(tiles), total=len(tiles)):\n",
    "    \n",
    "    # DEFINE WHERE GEOREFERENCED TILE IS SAVED\n",
    "    out_fn = os.path.join(proc_dir, os.path.basename(tile).split(\".\")[0] + \"_FANN.png\")\n",
    "    fin_fn = os.path.join(proc_dir, os.path.basename(tile).split(\".\")[0] + \"_results.pkl\")\n",
    "\n",
    "    # HAVE WE ALREADY PROCESSED THIS TILE? IF SO, SKIP\n",
    "    if results_struct.get(tile, None):\n",
    "        # print(f\"Found in dict, skipping {tile}\")\n",
    "        continue\n",
    "\n",
    "    # WHICH VERSION OF FANN ARE WE USING\n",
    "    if color:\n",
    "        # RUN AND SAVE PREPROCESSING FANN AND RLNN\n",
    "        prepped_fn = os.path.join(proc_dir, os.path.basename(tile).split(\".\")[0] + \"_prepped.png\")                      # FILE NAME\n",
    "        prepped, FANN_prior, RLNN_prior, bounds = findStreetCorners_colorPrep(tile, FANN=FANN_prior, RLNN=RLNN_prior)   # RUN FANN_PRIOR AND RLNN\n",
    "        Image.fromarray(prepped).save(prepped_fn) # SAVE\n",
    "\n",
    "        # RUN FANN\n",
    "        results, model, base = runYOLO_Text(prepped_fn, model=model, model_weights=f\"{data_dir}FANN/YOLO/051624.pt\", **YOLO_params)\n",
    "        \n",
    "    else:\n",
    "        bounds = None\n",
    "\n",
    "        # RUN FANN\n",
    "        results, model, base = runYOLO_Text(tile, model=model, model_weights=f\"{data_dir}FANN/YOLO/051624_bw.pt\", **YOLO_params)\n",
    "\n",
    "    results_struct[tile] = results\n",
    "\n",
    "    ''' IF YOU WANT TO SAVE DETAILED OUTPUT, THIS CODE WORKS, BUT IT'S HELLA SLOW AND BURDENSOME\n",
    "    temp_dict = {\"results\" : results, \"bounds\" : bounds, \"results_2\" : base}\n",
    "    results_struct[tile] = fin_fn\n",
    "    if os.path.exists(fin_fn):\n",
    "        os.remove(fin_fn)\n",
    "    with open(fin_fn, 'wb') as handle:\n",
    "        pickle.dump(temp_dict, handle, protocol=pickle.HIGHEST_PROTOCOL)\n",
    "    '''\n",
    "\n",
    "    \n",
    "    # SAVE EVERY N ITERATIONS AND LAST\n",
    "    if i % 60 == 0 or i == len(tiles) - 1:\n",
    "        file_path = f'{proc_dir}results.pkl'\n",
    "        if os.path.exists(file_path):\n",
    "            os.remove(file_path)\n",
    "        with open(file_path, 'wb') as handle:\n",
    "            pickle.dump(results_struct, handle, protocol=pickle.HIGHEST_PROTOCOL)\n",
    "    "
   ]
  },
  {
   "cell_type": "code",
   "execution_count": 10,
   "metadata": {},
   "outputs": [
    {
     "name": "stdout",
     "output_type": "stream",
     "text": [
      "45\n"
     ]
    },
    {
     "data": {
      "application/vnd.jupyter.widget-view+json": {
       "model_id": "10d3b00436a14a91930f34e37e5d4755",
       "version_major": 2,
       "version_minor": 0
      },
      "image/png": "[encoded data removed]",
      "text/html": [
       "\n",
       "            <div style=\"display: inline-block;\">\n",
       "                <div class=\"jupyter-widgets widget-label\" style=\"text-align: center;\">\n",
       "                    Figure\n",
       "                </div>\n",
       "                <img src='data:image/png;base64,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' width=640.0/>\n",
       "            </div>\n",
       "        "
      ],
      "text/plain": [
       "Canvas(toolbar=Toolbar(toolitems=[('Home', 'Reset original view', 'home', 'home'), ('Back', 'Back to previous …"
      ]
     },
     "metadata": {},
     "output_type": "display_data"
    }
   ],
   "source": [
    "amount_of_corners = np.array([len(results_struct[list(results_struct.keys())[i]]) for i in range(len(results_struct))])\n",
    "_ = plt.hist(amount_of_corners)\n",
    "print(np.count_nonzero(amount_of_corners <= 10))"
   ]
  },
  {
   "cell_type": "code",
   "execution_count": 11,
   "metadata": {},
   "outputs": [
    {
     "data": {
      "application/vnd.jupyter.widget-view+json": {
       "model_id": "7215645651f640da9981de2a99071a6b",
       "version_major": 2,
       "version_minor": 0
      },
      "text/plain": [
       "  0%|          | 0/220 [00:00<?, ?it/s]"
      ]
     },
     "metadata": {},
     "output_type": "display_data"
    },
    {
     "name": "stdout",
     "output_type": "stream",
     "text": [
      "COULD NOT FIND BOUNDS, USING IMAGE EXTENTS D:\\RECTDNN\\uncompress\\4802870260E.jpg\n"
     ]
    }
   ],
   "source": [
    "def bboxTransformToCRS(transform, image):\n",
    "    rev_y_axis = np.array([[1, 0, 0],\n",
    "                        [0,-1, 0],\n",
    "                        [0, 0, 1]])\n",
    "    \n",
    "    translation = np.eye(3)\n",
    "    translation[1, 2] = image.shape[0]\n",
    "\n",
    "    return transform @ translation @ rev_y_axis\n",
    "\n",
    "\n",
    "def bbox_to_coords_realworld(bbox):\n",
    "    # BOUNDING BOX \n",
    "\n",
    "    x_min, y_min, x_max, y_max = bbox\n",
    "\n",
    "    xs = [x_min, x_min, x_max, x_max]\n",
    "    ys = [y_max, y_min, y_min, y_max]\n",
    "    return xs, ys\n",
    "\n",
    "def bbox_to_coords_raster(bbox):\n",
    "    # BOUNDING BOX \n",
    "\n",
    "    x_min, y_min, x_max, y_max = bbox\n",
    "\n",
    "    xs = [x_min, x_min, x_max, x_max]\n",
    "    ys = [y_min, y_max, y_max, y_min]\n",
    "    return xs, ys\n",
    "\n",
    "bad = 0\n",
    "RLNN = None\n",
    "\n",
    "detected_tiles['reference_name'] = detected_tiles.index\n",
    "list_tiles = list(detected_tiles_gdf.index)\n",
    "\n",
    "tile_coords = {}\n",
    "debug_struct = {}\n",
    "for i, tile in tqdm(enumerate(tiles), total=len(tiles)):\n",
    "\n",
    "    comp_length = len(tiles_bns[i]) - 2\n",
    "    curr_tiles = [a if comp_length <= len(a) else \"\" for a in list_tiles]\n",
    "\n",
    "    # KEEP NUMERIC PART OF TILE NAME\n",
    "    p = re.sub(r\"[^0-9]\", \"\", os.path.basename(tile))\n",
    "    \n",
    "    # PERFORM MATCHING\n",
    "    match, score = process.extractOne(tiles_bns[i], list_tiles)\n",
    "    matches = process.extract(tiles_bns[i], curr_tiles)\n",
    "    out_fn = os.path.join(proc_dir, tiles_bns[i] + \".tif\")\n",
    "    \n",
    "    if score > 90:\n",
    "        image = np.asarray(Image.open(tile))\n",
    "\n",
    "        if np.max(image) < 255:\n",
    "            image = image * 255\n",
    "            image = image.astype(np.uint8)\n",
    "\n",
    "        tile_coords[out_fn] = detected_tiles.loc[match]\n",
    "        tile_coords[out_fn]['input_file'] = tile\n",
    "\n",
    "        bounds, RLNN = findBounds(tile, RLNN)\n",
    "        \n",
    "        if len(bounds[0]) < 1:\n",
    "            print(f\"COULD NOT FIND BOUNDS, USING IMAGE EXTENTS {tile}\")\n",
    "            \n",
    "            bbox = [0, 0, image.shape[0], image.shape[1]]\n",
    "        else:\n",
    "            bbox = bounds[0].boxes.xyxy.numpy().astype(np.int32)[0].flatten()\n",
    "        \n",
    "        real_x, real_y = bbox_to_coords_realworld(tile_coords[out_fn][\"coords\"])\n",
    "        pic_x, pic_y   = bbox_to_coords_raster(bbox)\n",
    "\n",
    "        # transform = similarityTransformation(pic_x, pic_y, real_x, real_y)\n",
    "        affine = affineTransformation(pic_x, pic_y, real_x, real_y)\n",
    "        transform = bboxTransformToCRS(affine.matrix, image)\n",
    "\n",
    "        # print(*transform.flatten()[:6])\n",
    "\n",
    "        debug_struct[out_fn] = {\n",
    "            \"match\"  : match,  \"basename\" : tiles_bns[i],\n",
    "            \"matches\": matches, \"bbox\" : bbox,\n",
    "            \"real_x\" : real_x, \"real_y\" : real_y,\n",
    "            \"pic_x\"  : pic_x,  \"pic_y\"  : pic_y,\n",
    "            \"affine\" : affine, \"transform\" : transform\n",
    "        }\n",
    "        try:\n",
    "            with rio.open(out_fn, 'w',\n",
    "                driver='GTiff', count=1, dtype=image.dtype,\n",
    "                height=image.shape[0], width=image.shape[1],\n",
    "                crs=f'EPSG:3857',\n",
    "                transform=rio.Affine(*transform.flatten()[:6])) as dst:\n",
    "                    dst.write(image, 1) \n",
    "        except: \n",
    "            print(f\"Could not save {tiles_bns[i]}\")\n",
    "                \n",
    "    else:\n",
    "        tile_coords[out_fn] = None\n",
    "        bad = bad + 1"
   ]
  },
  {
   "cell_type": "code",
   "execution_count": 39,
   "metadata": {},
   "outputs": [],
   "source": [
    "# intersections = gpd.read_file(f\"{data_dir}/AAA_ReferenceDatasets/Intersections.gpkg\", engine='pyogrio', use_arrow=True)\n",
    "# C:\\Users\\fhacesga\\OneDrive - University Of Houston\\AAA_RECTDNN\\data\\AAA_ReferenceDatasets\\OSM_Roads\\TexasRoads_LineIntersections.gpkg\n",
    "\n",
    "# roads_gdf = gpd.read_file(r\"C:\\Users\\fhacesga\\Downloads\\TxDOT_Street_Definition_-1346186713652838562\\TxDOT_Street_Definition.shp\", engine='pyogrio', use_arrow=True)\n",
    "# intersections = gpd.read_file(f\"{data_dir}/AAA_ReferenceDatasets/OSM_Roads/TexasRoads_LineIntersections.gpkg\", engine='pyogrio', use_arrow=True)\n",
    "# intersections = gpd.read_file(f\"{data_dir}/AAA_ReferenceDatasets/OSM_Roads/TexasRoads_LineIntersections_strict.gpkg\", engine='pyogrio', use_arrow=True)\n",
    "intersections = gpd.read_file(f\"{data_dir}/AAA_ReferenceDatasets/OSM_Roads/TexasRoads_filtered_strict_3857_nondupe_smaller.gpkg\", engine='pyogrio', use_arrow=True)\n",
    "roads_gdf = gpd.read_file(r\"C:\\Users\\fhacesga\\Downloads\\TexasRoads_filtered_strict_3857.gpkg\", engine='pyogrio', use_arrow=True)"
   ]
  },
  {
   "cell_type": "code",
   "execution_count": 13,
   "metadata": {},
   "outputs": [],
   "source": [
    "def getRoadPoints(gdf, distance):\n",
    "    \"\"\"\n",
    "    GENERATED WITH CHATGPT\n",
    "    Interpolate points along the LineString geometries at every `distance` interval.\n",
    "    \n",
    "    Parameters:\n",
    "    gdf (GeoDataFrame): A GeoDataFrame containing LineString geometries.\n",
    "    distance (float): The distance interval at which to interpolate points.\n",
    "    \n",
    "    Returns:\n",
    "    GeoDataFrame: A GeoDataFrame with the interpolated Point geometries.\n",
    "    \"\"\"\n",
    "    points = []\n",
    "\n",
    "    # Efficiently process LineStrings only\n",
    "    for line in gdf.geometry:\n",
    "        if line.geom_type == 'LineString':\n",
    "            num_points = int(line.length // distance) + 1\n",
    "            distances = [i * distance for i in range(num_points)]\n",
    "            points.extend([line.interpolate(d) for d in distances])\n",
    "\n",
    "    # Create a new GeoDataFrame with Point geometries\n",
    "    points_gdf = gpd.GeoDataFrame(geometry=points, crs=gdf.crs)\n",
    "    \n",
    "    return points_gdf"
   ]
  },
  {
   "cell_type": "code",
   "execution_count": 14,
   "metadata": {},
   "outputs": [],
   "source": [
    "if False:\n",
    "    roads_full = roads_gdf.copy()\n",
    "    roads_min = roads_gdf[roads_gdf['highway'].isin(['abandoned', 'corridor', 'disused', 'living_street', 'motorway', 'motorway_link', 'primary', 'primary_link', \n",
    "                           'secondary', 'secondary_link', 'tertiary', 'tertiary_link', 'road', 'residential'])]\n",
    "    roads_min.to_file(r\"C:\\Users\\fhacesga\\Downloads\\TexasRoads_filtered_strict_3857.gpkg\")"
   ]
  },
  {
   "cell_type": "code",
   "execution_count": 44,
   "metadata": {},
   "outputs": [
    {
     "data": {
      "application/vnd.jupyter.widget-view+json": {
       "model_id": "6375370539e34c80bf21ea8c8bf0783a",
       "version_major": 2,
       "version_minor": 0
      },
      "text/plain": [
       "  0%|          | 0/4 [00:00<?, ?it/s]"
      ]
     },
     "metadata": {},
     "output_type": "display_data"
    },
    {
     "data": {
      "application/vnd.jupyter.widget-view+json": {
       "model_id": "52ac6b84322e4566b78856381870ad70",
       "version_major": 2,
       "version_minor": 0
      },
      "text/plain": [
       "  0%|          | 0/300 [00:00<?, ?it/s]"
      ]
     },
     "metadata": {},
     "output_type": "display_data"
    },
    {
     "data": {
      "application/vnd.jupyter.widget-view+json": {
       "model_id": "ad953dae36854a8bb8077fb4d3f14ecc",
       "version_major": 2,
       "version_minor": 0
      },
      "text/plain": [
       "  0%|          | 0/4 [00:00<?, ?it/s]"
      ]
     },
     "metadata": {},
     "output_type": "display_data"
    },
    {
     "data": {
      "application/vnd.jupyter.widget-view+json": {
       "model_id": "719a8100a23845afb32fd8700143ac77",
       "version_major": 2,
       "version_minor": 0
      },
      "text/plain": [
       "  0%|          | 0/300 [00:00<?, ?it/s]"
      ]
     },
     "metadata": {},
     "output_type": "display_data"
    },
    {
     "data": {
      "application/vnd.jupyter.widget-view+json": {
       "model_id": "fbbf08b487c64af5bdb4a8101395a4f2",
       "version_major": 2,
       "version_minor": 0
      },
      "text/plain": [
       "  0%|          | 0/4 [00:00<?, ?it/s]"
      ]
     },
     "metadata": {},
     "output_type": "display_data"
    },
    {
     "data": {
      "application/vnd.jupyter.widget-view+json": {
       "model_id": "39e24d1024e44ac28ab04d520ae1b58e",
       "version_major": 2,
       "version_minor": 0
      },
      "text/plain": [
       "  0%|          | 0/300 [00:00<?, ?it/s]"
      ]
     },
     "metadata": {},
     "output_type": "display_data"
    },
    {
     "data": {
      "application/vnd.jupyter.widget-view+json": {
       "model_id": "e405fc10ed9a4937bd4a9a6c78884584",
       "version_major": 2,
       "version_minor": 0
      },
      "text/plain": [
       "  0%|          | 0/4 [00:00<?, ?it/s]"
      ]
     },
     "metadata": {},
     "output_type": "display_data"
    },
    {
     "data": {
      "application/vnd.jupyter.widget-view+json": {
       "model_id": "5a45b21d8ca948da82f3541fae7d6d07",
       "version_major": 2,
       "version_minor": 0
      },
      "text/plain": [
       "  0%|          | 0/300 [00:00<?, ?it/s]"
      ]
     },
     "metadata": {},
     "output_type": "display_data"
    },
    {
     "name": "stdout",
     "output_type": "stream",
     "text": [
      "Could not save photo D:\\RECTDNN\\processing\\2024-05-31_14-05-48\\Tiles\\\\4802870020D.tif\n"
     ]
    },
    {
     "data": {
      "application/vnd.jupyter.widget-view+json": {
       "model_id": "6fd3b875f3b24fb2a8218206428af482",
       "version_major": 2,
       "version_minor": 0
      },
      "text/plain": [
       "  0%|          | 0/4 [00:00<?, ?it/s]"
      ]
     },
     "metadata": {},
     "output_type": "display_data"
    },
    {
     "data": {
      "application/vnd.jupyter.widget-view+json": {
       "model_id": "e28e857e64ae470385440c87333eda1e",
       "version_major": 2,
       "version_minor": 0
      },
      "text/plain": [
       "  0%|          | 0/300 [00:00<?, ?it/s]"
      ]
     },
     "metadata": {},
     "output_type": "display_data"
    },
    {
     "name": "stdout",
     "output_type": "stream",
     "text": [
      "Could not save photo D:\\RECTDNN\\processing\\2024-05-31_14-05-48\\Tiles\\\\4802870345E.tif\n"
     ]
    },
    {
     "data": {
      "application/vnd.jupyter.widget-view+json": {
       "model_id": "a652af5fef264635818a3320cf3887d0",
       "version_major": 2,
       "version_minor": 0
      },
      "text/plain": [
       "  0%|          | 0/4 [00:00<?, ?it/s]"
      ]
     },
     "metadata": {},
     "output_type": "display_data"
    },
    {
     "data": {
      "application/vnd.jupyter.widget-view+json": {
       "model_id": "44da8d5d37114212bb4683107c79949d",
       "version_major": 2,
       "version_minor": 0
      },
      "text/plain": [
       "  0%|          | 0/300 [00:00<?, ?it/s]"
      ]
     },
     "metadata": {},
     "output_type": "display_data"
    },
    {
     "data": {
      "application/vnd.jupyter.widget-view+json": {
       "model_id": "f96e07d0c8644878b9d53c6a7d3ac6ff",
       "version_major": 2,
       "version_minor": 0
      },
      "text/plain": [
       "  0%|          | 0/4 [00:00<?, ?it/s]"
      ]
     },
     "metadata": {},
     "output_type": "display_data"
    },
    {
     "data": {
      "application/vnd.jupyter.widget-view+json": {
       "model_id": "79a470d8930549149279dc303c105ebd",
       "version_major": 2,
       "version_minor": 0
      },
      "text/plain": [
       "  0%|          | 0/300 [00:00<?, ?it/s]"
      ]
     },
     "metadata": {},
     "output_type": "display_data"
    },
    {
     "data": {
      "application/vnd.jupyter.widget-view+json": {
       "model_id": "0a265a41dea94951a5161fbc4776ca73",
       "version_major": 2,
       "version_minor": 0
      },
      "text/plain": [
       "  0%|          | 0/4 [00:00<?, ?it/s]"
      ]
     },
     "metadata": {},
     "output_type": "display_data"
    },
    {
     "data": {
      "application/vnd.jupyter.widget-view+json": {
       "model_id": "008a59eea02041e8bb6e7557bd62d3bd",
       "version_major": 2,
       "version_minor": 0
      },
      "text/plain": [
       "  0%|          | 0/300 [00:00<?, ?it/s]"
      ]
     },
     "metadata": {},
     "output_type": "display_data"
    },
    {
     "data": {
      "application/vnd.jupyter.widget-view+json": {
       "model_id": "4fb08166ef2b49f4ad3063510265c295",
       "version_major": 2,
       "version_minor": 0
      },
      "text/plain": [
       "  0%|          | 0/4 [00:00<?, ?it/s]"
      ]
     },
     "metadata": {},
     "output_type": "display_data"
    },
    {
     "data": {
      "application/vnd.jupyter.widget-view+json": {
       "model_id": "682866f17bd94339a147166298e22157",
       "version_major": 2,
       "version_minor": 0
      },
      "text/plain": [
       "  0%|          | 0/300 [00:00<?, ?it/s]"
      ]
     },
     "metadata": {},
     "output_type": "display_data"
    },
    {
     "data": {
      "application/vnd.jupyter.widget-view+json": {
       "model_id": "dd0d45de408541d8920b117f6ffc1dd6",
       "version_major": 2,
       "version_minor": 0
      },
      "text/plain": [
       "  0%|          | 0/4 [00:00<?, ?it/s]"
      ]
     },
     "metadata": {},
     "output_type": "display_data"
    },
    {
     "data": {
      "application/vnd.jupyter.widget-view+json": {
       "model_id": "9680448dad2e4995887088dca5ea7e22",
       "version_major": 2,
       "version_minor": 0
      },
      "text/plain": [
       "  0%|          | 0/300 [00:00<?, ?it/s]"
      ]
     },
     "metadata": {},
     "output_type": "display_data"
    },
    {
     "name": "stdout",
     "output_type": "stream",
     "text": [
      "Could not save photo D:\\RECTDNN\\processing\\2024-05-31_14-05-48\\Tiles\\\\4802870160D.tif\n"
     ]
    },
    {
     "data": {
      "application/vnd.jupyter.widget-view+json": {
       "model_id": "efc7046aab05476496a50b0758ea0e2e",
       "version_major": 2,
       "version_minor": 0
      },
      "text/plain": [
       "  0%|          | 0/4 [00:00<?, ?it/s]"
      ]
     },
     "metadata": {},
     "output_type": "display_data"
    },
    {
     "data": {
      "application/vnd.jupyter.widget-view+json": {
       "model_id": "38272bb86a87444a9252e8bf3136c2be",
       "version_major": 2,
       "version_minor": 0
      },
      "text/plain": [
       "  0%|          | 0/300 [00:00<?, ?it/s]"
      ]
     },
     "metadata": {},
     "output_type": "display_data"
    },
    {
     "name": "stdout",
     "output_type": "stream",
     "text": [
      "Error with {out_name}\n"
     ]
    },
    {
     "data": {
      "application/vnd.jupyter.widget-view+json": {
       "model_id": "50023beddbd84555935d767e0bd22d1a",
       "version_major": 2,
       "version_minor": 0
      },
      "text/plain": [
       "  0%|          | 0/4 [00:00<?, ?it/s]"
      ]
     },
     "metadata": {},
     "output_type": "display_data"
    },
    {
     "data": {
      "application/vnd.jupyter.widget-view+json": {
       "model_id": "955fba31f26247b5acb9cedff2486dc9",
       "version_major": 2,
       "version_minor": 0
      },
      "text/plain": [
       "  0%|          | 0/300 [00:00<?, ?it/s]"
      ]
     },
     "metadata": {},
     "output_type": "display_data"
    },
    {
     "data": {
      "application/vnd.jupyter.widget-view+json": {
       "model_id": "bba7fca55726462194bf33ec82bcac7c",
       "version_major": 2,
       "version_minor": 0
      },
      "text/plain": [
       "  0%|          | 0/4 [00:00<?, ?it/s]"
      ]
     },
     "metadata": {},
     "output_type": "display_data"
    },
    {
     "data": {
      "application/vnd.jupyter.widget-view+json": {
       "model_id": "4ffd5346f1814b5c9e74f64628005067",
       "version_major": 2,
       "version_minor": 0
      },
      "text/plain": [
       "  0%|          | 0/300 [00:00<?, ?it/s]"
      ]
     },
     "metadata": {},
     "output_type": "display_data"
    },
    {
     "data": {
      "application/vnd.jupyter.widget-view+json": {
       "model_id": "381d8d1f09014e64b2aaa25e8f1088fe",
       "version_major": 2,
       "version_minor": 0
      },
      "text/plain": [
       "  0%|          | 0/4 [00:00<?, ?it/s]"
      ]
     },
     "metadata": {},
     "output_type": "display_data"
    },
    {
     "data": {
      "application/vnd.jupyter.widget-view+json": {
       "model_id": "fc4c120b0b0042729d51ce889a1ed775",
       "version_major": 2,
       "version_minor": 0
      },
      "text/plain": [
       "  0%|          | 0/300 [00:00<?, ?it/s]"
      ]
     },
     "metadata": {},
     "output_type": "display_data"
    },
    {
     "data": {
      "application/vnd.jupyter.widget-view+json": {
       "model_id": "e3d35a89a16e43b4b9a08d050000de8f",
       "version_major": 2,
       "version_minor": 0
      },
      "text/plain": [
       "  0%|          | 0/3 [00:00<?, ?it/s]"
      ]
     },
     "metadata": {},
     "output_type": "display_data"
    },
    {
     "data": {
      "application/vnd.jupyter.widget-view+json": {
       "model_id": "245b01cf89614ff096a10612b44ed2c6",
       "version_major": 2,
       "version_minor": 0
      },
      "text/plain": [
       "  0%|          | 0/300 [00:00<?, ?it/s]"
      ]
     },
     "metadata": {},
     "output_type": "display_data"
    },
    {
     "data": {
      "application/vnd.jupyter.widget-view+json": {
       "model_id": "cd36aa89e3524ec8be5abfecb3bf66cb",
       "version_major": 2,
       "version_minor": 0
      },
      "text/plain": [
       "  0%|          | 0/4 [00:00<?, ?it/s]"
      ]
     },
     "metadata": {},
     "output_type": "display_data"
    },
    {
     "data": {
      "application/vnd.jupyter.widget-view+json": {
       "model_id": "edc781e2155a40598ea7dff6736eb0a0",
       "version_major": 2,
       "version_minor": 0
      },
      "text/plain": [
       "  0%|          | 0/300 [00:00<?, ?it/s]"
      ]
     },
     "metadata": {},
     "output_type": "display_data"
    },
    {
     "data": {
      "application/vnd.jupyter.widget-view+json": {
       "model_id": "e22d2717f0bd40db813a09a5d33a6711",
       "version_major": 2,
       "version_minor": 0
      },
      "text/plain": [
       "  0%|          | 0/4 [00:00<?, ?it/s]"
      ]
     },
     "metadata": {},
     "output_type": "display_data"
    },
    {
     "data": {
      "application/vnd.jupyter.widget-view+json": {
       "model_id": "0c1ad2fb8ec54222bc0900cb96f21f71",
       "version_major": 2,
       "version_minor": 0
      },
      "text/plain": [
       "  0%|          | 0/300 [00:00<?, ?it/s]"
      ]
     },
     "metadata": {},
     "output_type": "display_data"
    },
    {
     "data": {
      "application/vnd.jupyter.widget-view+json": {
       "model_id": "9207f67b3b94424abad4d9ad8d5de8d5",
       "version_major": 2,
       "version_minor": 0
      },
      "text/plain": [
       "  0%|          | 0/4 [00:00<?, ?it/s]"
      ]
     },
     "metadata": {},
     "output_type": "display_data"
    },
    {
     "data": {
      "application/vnd.jupyter.widget-view+json": {
       "model_id": "9add4b24141b40238d690b5dcae0d452",
       "version_major": 2,
       "version_minor": 0
      },
      "text/plain": [
       "  0%|          | 0/300 [00:00<?, ?it/s]"
      ]
     },
     "metadata": {},
     "output_type": "display_data"
    },
    {
     "data": {
      "application/vnd.jupyter.widget-view+json": {
       "model_id": "e0fe4edd8bc94268a85d95eedea96517",
       "version_major": 2,
       "version_minor": 0
      },
      "text/plain": [
       "  0%|          | 0/4 [00:00<?, ?it/s]"
      ]
     },
     "metadata": {},
     "output_type": "display_data"
    },
    {
     "data": {
      "application/vnd.jupyter.widget-view+json": {
       "model_id": "5bfc1fb8b7d34bdc9e0c6806fb463fc5",
       "version_major": 2,
       "version_minor": 0
      },
      "text/plain": [
       "  0%|          | 0/300 [00:00<?, ?it/s]"
      ]
     },
     "metadata": {},
     "output_type": "display_data"
    },
    {
     "data": {
      "application/vnd.jupyter.widget-view+json": {
       "model_id": "20a0e1bfad9b45f5bc899d64c4733ca6",
       "version_major": 2,
       "version_minor": 0
      },
      "text/plain": [
       "  0%|          | 0/4 [00:00<?, ?it/s]"
      ]
     },
     "metadata": {},
     "output_type": "display_data"
    },
    {
     "data": {
      "application/vnd.jupyter.widget-view+json": {
       "model_id": "6ea3c2aff6a143b8942da7e98888bfac",
       "version_major": 2,
       "version_minor": 0
      },
      "text/plain": [
       "  0%|          | 0/300 [00:00<?, ?it/s]"
      ]
     },
     "metadata": {},
     "output_type": "display_data"
    },
    {
     "data": {
      "application/vnd.jupyter.widget-view+json": {
       "model_id": "191b2160b05240b3937ef4fee37dca98",
       "version_major": 2,
       "version_minor": 0
      },
      "text/plain": [
       "  0%|          | 0/4 [00:00<?, ?it/s]"
      ]
     },
     "metadata": {},
     "output_type": "display_data"
    },
    {
     "data": {
      "application/vnd.jupyter.widget-view+json": {
       "model_id": "003f977121364b1a87a5e6310cbc55bd",
       "version_major": 2,
       "version_minor": 0
      },
      "text/plain": [
       "  0%|          | 0/300 [00:00<?, ?it/s]"
      ]
     },
     "metadata": {},
     "output_type": "display_data"
    },
    {
     "data": {
      "application/vnd.jupyter.widget-view+json": {
       "model_id": "aab208c55f72414eaca4a13e1612d90c",
       "version_major": 2,
       "version_minor": 0
      },
      "text/plain": [
       "  0%|          | 0/4 [00:00<?, ?it/s]"
      ]
     },
     "metadata": {},
     "output_type": "display_data"
    },
    {
     "data": {
      "application/vnd.jupyter.widget-view+json": {
       "model_id": "ccd7151a49704fd2914913dfc562efb7",
       "version_major": 2,
       "version_minor": 0
      },
      "text/plain": [
       "  0%|          | 0/300 [00:00<?, ?it/s]"
      ]
     },
     "metadata": {},
     "output_type": "display_data"
    },
    {
     "data": {
      "application/vnd.jupyter.widget-view+json": {
       "model_id": "09e719976bab42fda23c81357daf66c0",
       "version_major": 2,
       "version_minor": 0
      },
      "text/plain": [
       "  0%|          | 0/4 [00:00<?, ?it/s]"
      ]
     },
     "metadata": {},
     "output_type": "display_data"
    },
    {
     "data": {
      "application/vnd.jupyter.widget-view+json": {
       "model_id": "d5550edb5a1e4d1f9b75386497dc87f0",
       "version_major": 2,
       "version_minor": 0
      },
      "text/plain": [
       "  0%|          | 0/300 [00:00<?, ?it/s]"
      ]
     },
     "metadata": {},
     "output_type": "display_data"
    },
    {
     "data": {
      "application/vnd.jupyter.widget-view+json": {
       "model_id": "7b23efb69e8347af85de3b0b31780760",
       "version_major": 2,
       "version_minor": 0
      },
      "text/plain": [
       "  0%|          | 0/4 [00:00<?, ?it/s]"
      ]
     },
     "metadata": {},
     "output_type": "display_data"
    },
    {
     "data": {
      "application/vnd.jupyter.widget-view+json": {
       "model_id": "947750c28b044a5dabedfcf8e7287087",
       "version_major": 2,
       "version_minor": 0
      },
      "text/plain": [
       "  0%|          | 0/300 [00:00<?, ?it/s]"
      ]
     },
     "metadata": {},
     "output_type": "display_data"
    },
    {
     "data": {
      "application/vnd.jupyter.widget-view+json": {
       "model_id": "328c0f944d64472db06736264a3bafde",
       "version_major": 2,
       "version_minor": 0
      },
      "text/plain": [
       "  0%|          | 0/4 [00:00<?, ?it/s]"
      ]
     },
     "metadata": {},
     "output_type": "display_data"
    },
    {
     "data": {
      "application/vnd.jupyter.widget-view+json": {
       "model_id": "dd8c2113887340a094e7ef949ec4f705",
       "version_major": 2,
       "version_minor": 0
      },
      "text/plain": [
       "  0%|          | 0/300 [00:00<?, ?it/s]"
      ]
     },
     "metadata": {},
     "output_type": "display_data"
    },
    {
     "name": "stdout",
     "output_type": "stream",
     "text": [
      "Error with {out_name}\n"
     ]
    },
    {
     "data": {
      "application/vnd.jupyter.widget-view+json": {
       "model_id": "977fa1a8d19f46e8babe91ab0fe68a6c",
       "version_major": 2,
       "version_minor": 0
      },
      "text/plain": [
       "  0%|          | 0/4 [00:00<?, ?it/s]"
      ]
     },
     "metadata": {},
     "output_type": "display_data"
    },
    {
     "data": {
      "application/vnd.jupyter.widget-view+json": {
       "model_id": "2248c8b195624eae9241ab1ecb285608",
       "version_major": 2,
       "version_minor": 0
      },
      "text/plain": [
       "  0%|          | 0/300 [00:00<?, ?it/s]"
      ]
     },
     "metadata": {},
     "output_type": "display_data"
    },
    {
     "data": {
      "application/vnd.jupyter.widget-view+json": {
       "model_id": "c9190d108c794ef0a8bbb349dce5036e",
       "version_major": 2,
       "version_minor": 0
      },
      "text/plain": [
       "  0%|          | 0/4 [00:00<?, ?it/s]"
      ]
     },
     "metadata": {},
     "output_type": "display_data"
    },
    {
     "data": {
      "application/vnd.jupyter.widget-view+json": {
       "model_id": "f50f6616d1db4b3aad7ac961fceedc6f",
       "version_major": 2,
       "version_minor": 0
      },
      "text/plain": [
       "  0%|          | 0/300 [00:00<?, ?it/s]"
      ]
     },
     "metadata": {},
     "output_type": "display_data"
    },
    {
     "data": {
      "application/vnd.jupyter.widget-view+json": {
       "model_id": "0cc260b2850345d2b7d0e4f902a2859a",
       "version_major": 2,
       "version_minor": 0
      },
      "text/plain": [
       "  0%|          | 0/4 [00:00<?, ?it/s]"
      ]
     },
     "metadata": {},
     "output_type": "display_data"
    },
    {
     "data": {
      "application/vnd.jupyter.widget-view+json": {
       "model_id": "298683a6f0b14b78802ed4655fa54fc2",
       "version_major": 2,
       "version_minor": 0
      },
      "text/plain": [
       "  0%|          | 0/300 [00:00<?, ?it/s]"
      ]
     },
     "metadata": {},
     "output_type": "display_data"
    },
    {
     "data": {
      "application/vnd.jupyter.widget-view+json": {
       "model_id": "d9a5bc8bc7dc4778aa1dc299ece40f97",
       "version_major": 2,
       "version_minor": 0
      },
      "text/plain": [
       "  0%|          | 0/4 [00:00<?, ?it/s]"
      ]
     },
     "metadata": {},
     "output_type": "display_data"
    },
    {
     "data": {
      "application/vnd.jupyter.widget-view+json": {
       "model_id": "c2bc8f0612d94da28cff036ff962217a",
       "version_major": 2,
       "version_minor": 0
      },
      "text/plain": [
       "  0%|          | 0/300 [00:00<?, ?it/s]"
      ]
     },
     "metadata": {},
     "output_type": "display_data"
    },
    {
     "data": {
      "application/vnd.jupyter.widget-view+json": {
       "model_id": "7c0852093d7c47ab897ab43ea850b4ca",
       "version_major": 2,
       "version_minor": 0
      },
      "text/plain": [
       "  0%|          | 0/4 [00:00<?, ?it/s]"
      ]
     },
     "metadata": {},
     "output_type": "display_data"
    },
    {
     "data": {
      "application/vnd.jupyter.widget-view+json": {
       "model_id": "fff4291c79264be7aee29f0b1697144a",
       "version_major": 2,
       "version_minor": 0
      },
      "text/plain": [
       "  0%|          | 0/300 [00:00<?, ?it/s]"
      ]
     },
     "metadata": {},
     "output_type": "display_data"
    },
    {
     "data": {
      "application/vnd.jupyter.widget-view+json": {
       "model_id": "04f53decda0441aba4504f3408f7a5b5",
       "version_major": 2,
       "version_minor": 0
      },
      "text/plain": [
       "  0%|          | 0/4 [00:00<?, ?it/s]"
      ]
     },
     "metadata": {},
     "output_type": "display_data"
    },
    {
     "data": {
      "application/vnd.jupyter.widget-view+json": {
       "model_id": "4c6b25a986374a318534b37a812f7fcb",
       "version_major": 2,
       "version_minor": 0
      },
      "text/plain": [
       "  0%|          | 0/300 [00:00<?, ?it/s]"
      ]
     },
     "metadata": {},
     "output_type": "display_data"
    },
    {
     "data": {
      "application/vnd.jupyter.widget-view+json": {
       "model_id": "b200703d1d964657974e28e2dfd9d15a",
       "version_major": 2,
       "version_minor": 0
      },
      "text/plain": [
       "  0%|          | 0/4 [00:00<?, ?it/s]"
      ]
     },
     "metadata": {},
     "output_type": "display_data"
    },
    {
     "data": {
      "application/vnd.jupyter.widget-view+json": {
       "model_id": "5e04627a5e234265ab409cac30a85634",
       "version_major": 2,
       "version_minor": 0
      },
      "text/plain": [
       "  0%|          | 0/300 [00:00<?, ?it/s]"
      ]
     },
     "metadata": {},
     "output_type": "display_data"
    },
    {
     "data": {
      "application/vnd.jupyter.widget-view+json": {
       "model_id": "8f701cee095641ddb8add8e9064ca119",
       "version_major": 2,
       "version_minor": 0
      },
      "text/plain": [
       "  0%|          | 0/4 [00:00<?, ?it/s]"
      ]
     },
     "metadata": {},
     "output_type": "display_data"
    },
    {
     "data": {
      "application/vnd.jupyter.widget-view+json": {
       "model_id": "a870c20ceec14aa68bff639e5e1f4a37",
       "version_major": 2,
       "version_minor": 0
      },
      "text/plain": [
       "  0%|          | 0/300 [00:00<?, ?it/s]"
      ]
     },
     "metadata": {},
     "output_type": "display_data"
    },
    {
     "data": {
      "application/vnd.jupyter.widget-view+json": {
       "model_id": "3bc94c87889c43ed90070b6aaa373646",
       "version_major": 2,
       "version_minor": 0
      },
      "text/plain": [
       "  0%|          | 0/4 [00:00<?, ?it/s]"
      ]
     },
     "metadata": {},
     "output_type": "display_data"
    },
    {
     "data": {
      "application/vnd.jupyter.widget-view+json": {
       "model_id": "340635f040984d1c885def850b9c2904",
       "version_major": 2,
       "version_minor": 0
      },
      "text/plain": [
       "  0%|          | 0/300 [00:00<?, ?it/s]"
      ]
     },
     "metadata": {},
     "output_type": "display_data"
    },
    {
     "data": {
      "application/vnd.jupyter.widget-view+json": {
       "model_id": "f7e68dd6d5854df296b4f84104f38e91",
       "version_major": 2,
       "version_minor": 0
      },
      "text/plain": [
       "  0%|          | 0/4 [00:00<?, ?it/s]"
      ]
     },
     "metadata": {},
     "output_type": "display_data"
    },
    {
     "data": {
      "application/vnd.jupyter.widget-view+json": {
       "model_id": "6359903ccb574f46a26f86bf6b8c2344",
       "version_major": 2,
       "version_minor": 0
      },
      "text/plain": [
       "  0%|          | 0/300 [00:00<?, ?it/s]"
      ]
     },
     "metadata": {},
     "output_type": "display_data"
    },
    {
     "data": {
      "application/vnd.jupyter.widget-view+json": {
       "model_id": "d12a81a09977449b9d2851318ea873da",
       "version_major": 2,
       "version_minor": 0
      },
      "text/plain": [
       "  0%|          | 0/4 [00:00<?, ?it/s]"
      ]
     },
     "metadata": {},
     "output_type": "display_data"
    },
    {
     "data": {
      "application/vnd.jupyter.widget-view+json": {
       "model_id": "61ba22d323b343e7800f6e4f1f528041",
       "version_major": 2,
       "version_minor": 0
      },
      "text/plain": [
       "  0%|          | 0/300 [00:00<?, ?it/s]"
      ]
     },
     "metadata": {},
     "output_type": "display_data"
    },
    {
     "data": {
      "application/vnd.jupyter.widget-view+json": {
       "model_id": "6cfca544dd804e2ab9d47f1d502af8a3",
       "version_major": 2,
       "version_minor": 0
      },
      "text/plain": [
       "  0%|          | 0/4 [00:00<?, ?it/s]"
      ]
     },
     "metadata": {},
     "output_type": "display_data"
    },
    {
     "data": {
      "application/vnd.jupyter.widget-view+json": {
       "model_id": "af4b70dbe27442279f3e3a4ec9b75083",
       "version_major": 2,
       "version_minor": 0
      },
      "text/plain": [
       "  0%|          | 0/300 [00:00<?, ?it/s]"
      ]
     },
     "metadata": {},
     "output_type": "display_data"
    },
    {
     "data": {
      "application/vnd.jupyter.widget-view+json": {
       "model_id": "80c5bbcc36904e96952206c7fa09286e",
       "version_major": 2,
       "version_minor": 0
      },
      "text/plain": [
       "  0%|          | 0/4 [00:00<?, ?it/s]"
      ]
     },
     "metadata": {},
     "output_type": "display_data"
    },
    {
     "data": {
      "application/vnd.jupyter.widget-view+json": {
       "model_id": "b1e535a5b925488ebb5db4b8e5e0006f",
       "version_major": 2,
       "version_minor": 0
      },
      "text/plain": [
       "  0%|          | 0/300 [00:00<?, ?it/s]"
      ]
     },
     "metadata": {},
     "output_type": "display_data"
    },
    {
     "data": {
      "application/vnd.jupyter.widget-view+json": {
       "model_id": "486d950661f84ae9b1f2cf93efcd3aed",
       "version_major": 2,
       "version_minor": 0
      },
      "text/plain": [
       "  0%|          | 0/4 [00:00<?, ?it/s]"
      ]
     },
     "metadata": {},
     "output_type": "display_data"
    },
    {
     "data": {
      "application/vnd.jupyter.widget-view+json": {
       "model_id": "1223d5f7601348b0a140722480896423",
       "version_major": 2,
       "version_minor": 0
      },
      "text/plain": [
       "  0%|          | 0/300 [00:00<?, ?it/s]"
      ]
     },
     "metadata": {},
     "output_type": "display_data"
    },
    {
     "data": {
      "application/vnd.jupyter.widget-view+json": {
       "model_id": "39646fcaf95d46498abfaf2fa2411c88",
       "version_major": 2,
       "version_minor": 0
      },
      "text/plain": [
       "  0%|          | 0/4 [00:00<?, ?it/s]"
      ]
     },
     "metadata": {},
     "output_type": "display_data"
    },
    {
     "data": {
      "application/vnd.jupyter.widget-view+json": {
       "model_id": "66a6a381eab546e88410ccc931a66277",
       "version_major": 2,
       "version_minor": 0
      },
      "text/plain": [
       "  0%|          | 0/300 [00:00<?, ?it/s]"
      ]
     },
     "metadata": {},
     "output_type": "display_data"
    },
    {
     "data": {
      "application/vnd.jupyter.widget-view+json": {
       "model_id": "9399617efdb54f9c93e0b3209bf5992f",
       "version_major": 2,
       "version_minor": 0
      },
      "text/plain": [
       "  0%|          | 0/4 [00:00<?, ?it/s]"
      ]
     },
     "metadata": {},
     "output_type": "display_data"
    },
    {
     "data": {
      "application/vnd.jupyter.widget-view+json": {
       "model_id": "7c02b0dbd36145a1845ca5e4a0e68bdf",
       "version_major": 2,
       "version_minor": 0
      },
      "text/plain": [
       "  0%|          | 0/300 [00:00<?, ?it/s]"
      ]
     },
     "metadata": {},
     "output_type": "display_data"
    },
    {
     "data": {
      "application/vnd.jupyter.widget-view+json": {
       "model_id": "9178f5ce49ac44bcb7598ff7acb986ef",
       "version_major": 2,
       "version_minor": 0
      },
      "text/plain": [
       "  0%|          | 0/4 [00:00<?, ?it/s]"
      ]
     },
     "metadata": {},
     "output_type": "display_data"
    },
    {
     "data": {
      "application/vnd.jupyter.widget-view+json": {
       "model_id": "4fb8d0ed0e794f33be203b7756ad8ddb",
       "version_major": 2,
       "version_minor": 0
      },
      "text/plain": [
       "  0%|          | 0/300 [00:00<?, ?it/s]"
      ]
     },
     "metadata": {},
     "output_type": "display_data"
    },
    {
     "data": {
      "application/vnd.jupyter.widget-view+json": {
       "model_id": "6b98827d6c414968acbb259ffe7b49ec",
       "version_major": 2,
       "version_minor": 0
      },
      "text/plain": [
       "  0%|          | 0/4 [00:00<?, ?it/s]"
      ]
     },
     "metadata": {},
     "output_type": "display_data"
    },
    {
     "data": {
      "application/vnd.jupyter.widget-view+json": {
       "model_id": "b3689abe41d9474cadd32396d9a41dc8",
       "version_major": 2,
       "version_minor": 0
      },
      "text/plain": [
       "  0%|          | 0/300 [00:00<?, ?it/s]"
      ]
     },
     "metadata": {},
     "output_type": "display_data"
    },
    {
     "data": {
      "application/vnd.jupyter.widget-view+json": {
       "model_id": "8ac8185fd713449c9e747b7537d86214",
       "version_major": 2,
       "version_minor": 0
      },
      "text/plain": [
       "  0%|          | 0/4 [00:00<?, ?it/s]"
      ]
     },
     "metadata": {},
     "output_type": "display_data"
    },
    {
     "data": {
      "application/vnd.jupyter.widget-view+json": {
       "model_id": "953784dcbaec4f109079cfaa434af095",
       "version_major": 2,
       "version_minor": 0
      },
      "text/plain": [
       "  0%|          | 0/300 [00:00<?, ?it/s]"
      ]
     },
     "metadata": {},
     "output_type": "display_data"
    },
    {
     "data": {
      "application/vnd.jupyter.widget-view+json": {
       "model_id": "91516a9c7ce84173bfc961c952f72d81",
       "version_major": 2,
       "version_minor": 0
      },
      "text/plain": [
       "  0%|          | 0/4 [00:00<?, ?it/s]"
      ]
     },
     "metadata": {},
     "output_type": "display_data"
    },
    {
     "data": {
      "application/vnd.jupyter.widget-view+json": {
       "model_id": "4a7b2172244342ce938e72ab3d2a9e2b",
       "version_major": 2,
       "version_minor": 0
      },
      "text/plain": [
       "  0%|          | 0/300 [00:00<?, ?it/s]"
      ]
     },
     "metadata": {},
     "output_type": "display_data"
    },
    {
     "data": {
      "application/vnd.jupyter.widget-view+json": {
       "model_id": "06ef301b46c84fbd889e2b430745047e",
       "version_major": 2,
       "version_minor": 0
      },
      "text/plain": [
       "  0%|          | 0/4 [00:00<?, ?it/s]"
      ]
     },
     "metadata": {},
     "output_type": "display_data"
    },
    {
     "data": {
      "application/vnd.jupyter.widget-view+json": {
       "model_id": "bfcdaa83db4d479dbe933ece2cd6a779",
       "version_major": 2,
       "version_minor": 0
      },
      "text/plain": [
       "  0%|          | 0/300 [00:00<?, ?it/s]"
      ]
     },
     "metadata": {},
     "output_type": "display_data"
    },
    {
     "data": {
      "application/vnd.jupyter.widget-view+json": {
       "model_id": "adc545e9b7134559b48ac050885bb7f1",
       "version_major": 2,
       "version_minor": 0
      },
      "text/plain": [
       "  0%|          | 0/4 [00:00<?, ?it/s]"
      ]
     },
     "metadata": {},
     "output_type": "display_data"
    },
    {
     "data": {
      "application/vnd.jupyter.widget-view+json": {
       "model_id": "a39e7ef6bfb6443ca80bc7e620521de2",
       "version_major": 2,
       "version_minor": 0
      },
      "text/plain": [
       "  0%|          | 0/300 [00:00<?, ?it/s]"
      ]
     },
     "metadata": {},
     "output_type": "display_data"
    },
    {
     "data": {
      "application/vnd.jupyter.widget-view+json": {
       "model_id": "56d1b877d0bd4f71b76b79ec599ad095",
       "version_major": 2,
       "version_minor": 0
      },
      "text/plain": [
       "  0%|          | 0/4 [00:00<?, ?it/s]"
      ]
     },
     "metadata": {},
     "output_type": "display_data"
    },
    {
     "data": {
      "application/vnd.jupyter.widget-view+json": {
       "model_id": "c1ad718fe2a94fd4829106d6f9e33ecf",
       "version_major": 2,
       "version_minor": 0
      },
      "text/plain": [
       "  0%|          | 0/300 [00:00<?, ?it/s]"
      ]
     },
     "metadata": {},
     "output_type": "display_data"
    },
    {
     "data": {
      "application/vnd.jupyter.widget-view+json": {
       "model_id": "cdcf85aea8fa4cceb6cbc8b8b891dba2",
       "version_major": 2,
       "version_minor": 0
      },
      "text/plain": [
       "  0%|          | 0/4 [00:00<?, ?it/s]"
      ]
     },
     "metadata": {},
     "output_type": "display_data"
    },
    {
     "data": {
      "application/vnd.jupyter.widget-view+json": {
       "model_id": "557be05051604e3497bf9761399a8cee",
       "version_major": 2,
       "version_minor": 0
      },
      "text/plain": [
       "  0%|          | 0/300 [00:00<?, ?it/s]"
      ]
     },
     "metadata": {},
     "output_type": "display_data"
    },
    {
     "data": {
      "application/vnd.jupyter.widget-view+json": {
       "model_id": "f7d010d5678c4423aaf834812b7e8044",
       "version_major": 2,
       "version_minor": 0
      },
      "text/plain": [
       "  0%|          | 0/4 [00:00<?, ?it/s]"
      ]
     },
     "metadata": {},
     "output_type": "display_data"
    },
    {
     "data": {
      "application/vnd.jupyter.widget-view+json": {
       "model_id": "baf9bf9cafda4089bdb87516b6ad4b31",
       "version_major": 2,
       "version_minor": 0
      },
      "text/plain": [
       "  0%|          | 0/300 [00:00<?, ?it/s]"
      ]
     },
     "metadata": {},
     "output_type": "display_data"
    },
    {
     "data": {
      "application/vnd.jupyter.widget-view+json": {
       "model_id": "a6b45a26fe084053ad5e5099f1c495c2",
       "version_major": 2,
       "version_minor": 0
      },
      "text/plain": [
       "  0%|          | 0/4 [00:00<?, ?it/s]"
      ]
     },
     "metadata": {},
     "output_type": "display_data"
    },
    {
     "data": {
      "application/vnd.jupyter.widget-view+json": {
       "model_id": "d268e526a9194cc994563070eb5b5fba",
       "version_major": 2,
       "version_minor": 0
      },
      "text/plain": [
       "  0%|          | 0/300 [00:00<?, ?it/s]"
      ]
     },
     "metadata": {},
     "output_type": "display_data"
    },
    {
     "data": {
      "application/vnd.jupyter.widget-view+json": {
       "model_id": "4c83dd11e5214cc9a4bc0389389a58fb",
       "version_major": 2,
       "version_minor": 0
      },
      "text/plain": [
       "  0%|          | 0/4 [00:00<?, ?it/s]"
      ]
     },
     "metadata": {},
     "output_type": "display_data"
    },
    {
     "data": {
      "application/vnd.jupyter.widget-view+json": {
       "model_id": "00a04d10ee3840bfbf043b775741a75f",
       "version_major": 2,
       "version_minor": 0
      },
      "text/plain": [
       "  0%|          | 0/300 [00:00<?, ?it/s]"
      ]
     },
     "metadata": {},
     "output_type": "display_data"
    },
    {
     "data": {
      "application/vnd.jupyter.widget-view+json": {
       "model_id": "fdfdb29b2f5d424f9cd1746afe9071cf",
       "version_major": 2,
       "version_minor": 0
      },
      "text/plain": [
       "  0%|          | 0/4 [00:00<?, ?it/s]"
      ]
     },
     "metadata": {},
     "output_type": "display_data"
    },
    {
     "data": {
      "application/vnd.jupyter.widget-view+json": {
       "model_id": "52343a705bc5436e87652cd7f2ae53e4",
       "version_major": 2,
       "version_minor": 0
      },
      "text/plain": [
       "  0%|          | 0/300 [00:00<?, ?it/s]"
      ]
     },
     "metadata": {},
     "output_type": "display_data"
    },
    {
     "data": {
      "application/vnd.jupyter.widget-view+json": {
       "model_id": "6d3dc7918f43481e848ffbddd6070582",
       "version_major": 2,
       "version_minor": 0
      },
      "text/plain": [
       "  0%|          | 0/4 [00:00<?, ?it/s]"
      ]
     },
     "metadata": {},
     "output_type": "display_data"
    },
    {
     "data": {
      "application/vnd.jupyter.widget-view+json": {
       "model_id": "5ef1cc546c624a5db57e9bb3258ffe22",
       "version_major": 2,
       "version_minor": 0
      },
      "text/plain": [
       "  0%|          | 0/300 [00:00<?, ?it/s]"
      ]
     },
     "metadata": {},
     "output_type": "display_data"
    },
    {
     "data": {
      "application/vnd.jupyter.widget-view+json": {
       "model_id": "d5fa72a6021146d38b3c629b69b13b70",
       "version_major": 2,
       "version_minor": 0
      },
      "text/plain": [
       "  0%|          | 0/4 [00:00<?, ?it/s]"
      ]
     },
     "metadata": {},
     "output_type": "display_data"
    },
    {
     "data": {
      "application/vnd.jupyter.widget-view+json": {
       "model_id": "45273eaaae1e4fb7a1d1b4a401b6cc0b",
       "version_major": 2,
       "version_minor": 0
      },
      "text/plain": [
       "  0%|          | 0/300 [00:00<?, ?it/s]"
      ]
     },
     "metadata": {},
     "output_type": "display_data"
    },
    {
     "data": {
      "application/vnd.jupyter.widget-view+json": {
       "model_id": "b73b99f5c0ed4bf4b8005bff7f31d639",
       "version_major": 2,
       "version_minor": 0
      },
      "text/plain": [
       "  0%|          | 0/4 [00:00<?, ?it/s]"
      ]
     },
     "metadata": {},
     "output_type": "display_data"
    },
    {
     "data": {
      "application/vnd.jupyter.widget-view+json": {
       "model_id": "d6299bedc1944c718a7c9764aafaa294",
       "version_major": 2,
       "version_minor": 0
      },
      "text/plain": [
       "  0%|          | 0/300 [00:00<?, ?it/s]"
      ]
     },
     "metadata": {},
     "output_type": "display_data"
    },
    {
     "data": {
      "application/vnd.jupyter.widget-view+json": {
       "model_id": "fc827cd39a2848d2b9ee368081ba1a4f",
       "version_major": 2,
       "version_minor": 0
      },
      "text/plain": [
       "  0%|          | 0/4 [00:00<?, ?it/s]"
      ]
     },
     "metadata": {},
     "output_type": "display_data"
    },
    {
     "data": {
      "application/vnd.jupyter.widget-view+json": {
       "model_id": "8020ec94553e4d89967f1917fa450bbf",
       "version_major": 2,
       "version_minor": 0
      },
      "text/plain": [
       "  0%|          | 0/300 [00:00<?, ?it/s]"
      ]
     },
     "metadata": {},
     "output_type": "display_data"
    },
    {
     "data": {
      "application/vnd.jupyter.widget-view+json": {
       "model_id": "8c4f89f2400a4cdabbac69d91c0a3bfb",
       "version_major": 2,
       "version_minor": 0
      },
      "text/plain": [
       "  0%|          | 0/4 [00:00<?, ?it/s]"
      ]
     },
     "metadata": {},
     "output_type": "display_data"
    },
    {
     "data": {
      "application/vnd.jupyter.widget-view+json": {
       "model_id": "a925525222fa46bc9ef8d1d47c1a5b32",
       "version_major": 2,
       "version_minor": 0
      },
      "text/plain": [
       "  0%|          | 0/300 [00:00<?, ?it/s]"
      ]
     },
     "metadata": {},
     "output_type": "display_data"
    },
    {
     "data": {
      "application/vnd.jupyter.widget-view+json": {
       "model_id": "4279d37d887e470ab336fffc63490a47",
       "version_major": 2,
       "version_minor": 0
      },
      "text/plain": [
       "  0%|          | 0/4 [00:00<?, ?it/s]"
      ]
     },
     "metadata": {},
     "output_type": "display_data"
    },
    {
     "data": {
      "application/vnd.jupyter.widget-view+json": {
       "model_id": "46cd26cec0ea44b5b9e59747b8720510",
       "version_major": 2,
       "version_minor": 0
      },
      "text/plain": [
       "  0%|          | 0/300 [00:00<?, ?it/s]"
      ]
     },
     "metadata": {},
     "output_type": "display_data"
    },
    {
     "data": {
      "application/vnd.jupyter.widget-view+json": {
       "model_id": "6be9296c94b846ec8f4f5a60b732a455",
       "version_major": 2,
       "version_minor": 0
      },
      "text/plain": [
       "  0%|          | 0/4 [00:00<?, ?it/s]"
      ]
     },
     "metadata": {},
     "output_type": "display_data"
    },
    {
     "data": {
      "application/vnd.jupyter.widget-view+json": {
       "model_id": "bf0626c651f14888bcd29ac1bb7bc6fe",
       "version_major": 2,
       "version_minor": 0
      },
      "text/plain": [
       "  0%|          | 0/300 [00:00<?, ?it/s]"
      ]
     },
     "metadata": {},
     "output_type": "display_data"
    },
    {
     "data": {
      "application/vnd.jupyter.widget-view+json": {
       "model_id": "c7debef6e372427ba564ddd1f9e51192",
       "version_major": 2,
       "version_minor": 0
      },
      "text/plain": [
       "  0%|          | 0/4 [00:00<?, ?it/s]"
      ]
     },
     "metadata": {},
     "output_type": "display_data"
    },
    {
     "data": {
      "application/vnd.jupyter.widget-view+json": {
       "model_id": "175e761bbb51424f8b8d55d7a95c7432",
       "version_major": 2,
       "version_minor": 0
      },
      "text/plain": [
       "  0%|          | 0/300 [00:00<?, ?it/s]"
      ]
     },
     "metadata": {},
     "output_type": "display_data"
    },
    {
     "data": {
      "application/vnd.jupyter.widget-view+json": {
       "model_id": "4c902e600f4949bc908d99180c7c581f",
       "version_major": 2,
       "version_minor": 0
      },
      "text/plain": [
       "  0%|          | 0/4 [00:00<?, ?it/s]"
      ]
     },
     "metadata": {},
     "output_type": "display_data"
    },
    {
     "data": {
      "application/vnd.jupyter.widget-view+json": {
       "model_id": "5297390f5589468b873e78bd0f695ebf",
       "version_major": 2,
       "version_minor": 0
      },
      "text/plain": [
       "  0%|          | 0/300 [00:00<?, ?it/s]"
      ]
     },
     "metadata": {},
     "output_type": "display_data"
    },
    {
     "data": {
      "application/vnd.jupyter.widget-view+json": {
       "model_id": "f676093f15eb4306b01fd79e7670ec57",
       "version_major": 2,
       "version_minor": 0
      },
      "text/plain": [
       "  0%|          | 0/4 [00:00<?, ?it/s]"
      ]
     },
     "metadata": {},
     "output_type": "display_data"
    },
    {
     "data": {
      "application/vnd.jupyter.widget-view+json": {
       "model_id": "52a2dd17873443248515c8aeccc2880f",
       "version_major": 2,
       "version_minor": 0
      },
      "text/plain": [
       "  0%|          | 0/300 [00:00<?, ?it/s]"
      ]
     },
     "metadata": {},
     "output_type": "display_data"
    },
    {
     "data": {
      "application/vnd.jupyter.widget-view+json": {
       "model_id": "505c7046c5e541248f337146b71b8db4",
       "version_major": 2,
       "version_minor": 0
      },
      "text/plain": [
       "  0%|          | 0/4 [00:00<?, ?it/s]"
      ]
     },
     "metadata": {},
     "output_type": "display_data"
    },
    {
     "data": {
      "application/vnd.jupyter.widget-view+json": {
       "model_id": "30fbbd1b78184945af25b002eaa10275",
       "version_major": 2,
       "version_minor": 0
      },
      "text/plain": [
       "  0%|          | 0/300 [00:00<?, ?it/s]"
      ]
     },
     "metadata": {},
     "output_type": "display_data"
    },
    {
     "data": {
      "application/vnd.jupyter.widget-view+json": {
       "model_id": "7929cbb67a5a46b3943fa2432e9344a4",
       "version_major": 2,
       "version_minor": 0
      },
      "text/plain": [
       "  0%|          | 0/4 [00:00<?, ?it/s]"
      ]
     },
     "metadata": {},
     "output_type": "display_data"
    },
    {
     "data": {
      "application/vnd.jupyter.widget-view+json": {
       "model_id": "f6110b1596be4ba7ba0bab1f17fc1ae1",
       "version_major": 2,
       "version_minor": 0
      },
      "text/plain": [
       "  0%|          | 0/300 [00:00<?, ?it/s]"
      ]
     },
     "metadata": {},
     "output_type": "display_data"
    },
    {
     "data": {
      "application/vnd.jupyter.widget-view+json": {
       "model_id": "089ea04ccdc240468d5dab7600c04760",
       "version_major": 2,
       "version_minor": 0
      },
      "text/plain": [
       "  0%|          | 0/4 [00:00<?, ?it/s]"
      ]
     },
     "metadata": {},
     "output_type": "display_data"
    },
    {
     "data": {
      "application/vnd.jupyter.widget-view+json": {
       "model_id": "2686645a7f97449ba4f6f082a9ad9c2a",
       "version_major": 2,
       "version_minor": 0
      },
      "text/plain": [
       "  0%|          | 0/300 [00:00<?, ?it/s]"
      ]
     },
     "metadata": {},
     "output_type": "display_data"
    },
    {
     "data": {
      "application/vnd.jupyter.widget-view+json": {
       "model_id": "d555c062e8224dc686b76181dfc4073f",
       "version_major": 2,
       "version_minor": 0
      },
      "text/plain": [
       "  0%|          | 0/4 [00:00<?, ?it/s]"
      ]
     },
     "metadata": {},
     "output_type": "display_data"
    },
    {
     "data": {
      "application/vnd.jupyter.widget-view+json": {
       "model_id": "0c0d17b38f8e4d69b663b14d02dfb1c1",
       "version_major": 2,
       "version_minor": 0
      },
      "text/plain": [
       "  0%|          | 0/300 [00:00<?, ?it/s]"
      ]
     },
     "metadata": {},
     "output_type": "display_data"
    },
    {
     "data": {
      "application/vnd.jupyter.widget-view+json": {
       "model_id": "53528b91f24f45a5b432856d20ebc832",
       "version_major": 2,
       "version_minor": 0
      },
      "text/plain": [
       "  0%|          | 0/4 [00:00<?, ?it/s]"
      ]
     },
     "metadata": {},
     "output_type": "display_data"
    },
    {
     "data": {
      "application/vnd.jupyter.widget-view+json": {
       "model_id": "46f4ddca959843218c8b56ed43b0f202",
       "version_major": 2,
       "version_minor": 0
      },
      "text/plain": [
       "  0%|          | 0/300 [00:00<?, ?it/s]"
      ]
     },
     "metadata": {},
     "output_type": "display_data"
    },
    {
     "data": {
      "application/vnd.jupyter.widget-view+json": {
       "model_id": "9897b1a1302c4fe99077f9a9073a887c",
       "version_major": 2,
       "version_minor": 0
      },
      "text/plain": [
       "  0%|          | 0/4 [00:00<?, ?it/s]"
      ]
     },
     "metadata": {},
     "output_type": "display_data"
    },
    {
     "data": {
      "application/vnd.jupyter.widget-view+json": {
       "model_id": "be8c07509ee040a2ad3e0fff40b99830",
       "version_major": 2,
       "version_minor": 0
      },
      "text/plain": [
       "  0%|          | 0/300 [00:00<?, ?it/s]"
      ]
     },
     "metadata": {},
     "output_type": "display_data"
    },
    {
     "data": {
      "application/vnd.jupyter.widget-view+json": {
       "model_id": "0fe19be996384c69876b9118246977d8",
       "version_major": 2,
       "version_minor": 0
      },
      "text/plain": [
       "  0%|          | 0/4 [00:00<?, ?it/s]"
      ]
     },
     "metadata": {},
     "output_type": "display_data"
    },
    {
     "data": {
      "application/vnd.jupyter.widget-view+json": {
       "model_id": "9446a8b4effc43dcbd9f59cf0ee7a591",
       "version_major": 2,
       "version_minor": 0
      },
      "text/plain": [
       "  0%|          | 0/300 [00:00<?, ?it/s]"
      ]
     },
     "metadata": {},
     "output_type": "display_data"
    },
    {
     "data": {
      "application/vnd.jupyter.widget-view+json": {
       "model_id": "015553326da041fcbc1bccbee3d27d53",
       "version_major": 2,
       "version_minor": 0
      },
      "text/plain": [
       "  0%|          | 0/4 [00:00<?, ?it/s]"
      ]
     },
     "metadata": {},
     "output_type": "display_data"
    },
    {
     "data": {
      "application/vnd.jupyter.widget-view+json": {
       "model_id": "519d0a9b0a13460194e768f0fb8a29b5",
       "version_major": 2,
       "version_minor": 0
      },
      "text/plain": [
       "  0%|          | 0/300 [00:00<?, ?it/s]"
      ]
     },
     "metadata": {},
     "output_type": "display_data"
    },
    {
     "name": "stdout",
     "output_type": "stream",
     "text": [
      "Error with {out_name}\n"
     ]
    },
    {
     "data": {
      "application/vnd.jupyter.widget-view+json": {
       "model_id": "f45249e3ea804f929f10ab96cfd8515a",
       "version_major": 2,
       "version_minor": 0
      },
      "text/plain": [
       "  0%|          | 0/4 [00:00<?, ?it/s]"
      ]
     },
     "metadata": {},
     "output_type": "display_data"
    },
    {
     "data": {
      "application/vnd.jupyter.widget-view+json": {
       "model_id": "95469b17e51c4e9fb2da79d3e8a4f2d5",
       "version_major": 2,
       "version_minor": 0
      },
      "text/plain": [
       "  0%|          | 0/300 [00:00<?, ?it/s]"
      ]
     },
     "metadata": {},
     "output_type": "display_data"
    },
    {
     "data": {
      "application/vnd.jupyter.widget-view+json": {
       "model_id": "0565a364a9354ca7899e8c80af8c57d1",
       "version_major": 2,
       "version_minor": 0
      },
      "text/plain": [
       "  0%|          | 0/4 [00:00<?, ?it/s]"
      ]
     },
     "metadata": {},
     "output_type": "display_data"
    },
    {
     "data": {
      "application/vnd.jupyter.widget-view+json": {
       "model_id": "58737bf7279f485997eebfd90231f7a7",
       "version_major": 2,
       "version_minor": 0
      },
      "text/plain": [
       "  0%|          | 0/300 [00:00<?, ?it/s]"
      ]
     },
     "metadata": {},
     "output_type": "display_data"
    },
    {
     "data": {
      "application/vnd.jupyter.widget-view+json": {
       "model_id": "16a5976f044548dcb5381bae82869241",
       "version_major": 2,
       "version_minor": 0
      },
      "text/plain": [
       "  0%|          | 0/4 [00:00<?, ?it/s]"
      ]
     },
     "metadata": {},
     "output_type": "display_data"
    },
    {
     "data": {
      "application/vnd.jupyter.widget-view+json": {
       "model_id": "b7ea6230db474cbc8179540483ced164",
       "version_major": 2,
       "version_minor": 0
      },
      "text/plain": [
       "  0%|          | 0/300 [00:00<?, ?it/s]"
      ]
     },
     "metadata": {},
     "output_type": "display_data"
    },
    {
     "data": {
      "application/vnd.jupyter.widget-view+json": {
       "model_id": "dcb7be0f0c8e46ca8f3c81e89aeb0674",
       "version_major": 2,
       "version_minor": 0
      },
      "text/plain": [
       "  0%|          | 0/4 [00:00<?, ?it/s]"
      ]
     },
     "metadata": {},
     "output_type": "display_data"
    },
    {
     "data": {
      "application/vnd.jupyter.widget-view+json": {
       "model_id": "32aa7cbfe94c4088a8454f7b23799856",
       "version_major": 2,
       "version_minor": 0
      },
      "text/plain": [
       "  0%|          | 0/300 [00:00<?, ?it/s]"
      ]
     },
     "metadata": {},
     "output_type": "display_data"
    },
    {
     "data": {
      "application/vnd.jupyter.widget-view+json": {
       "model_id": "c899cea737b1467d8b6da09c72d9a595",
       "version_major": 2,
       "version_minor": 0
      },
      "text/plain": [
       "  0%|          | 0/4 [00:00<?, ?it/s]"
      ]
     },
     "metadata": {},
     "output_type": "display_data"
    },
    {
     "data": {
      "application/vnd.jupyter.widget-view+json": {
       "model_id": "f38a3f452f8844c4906a48dca6ab2a1d",
       "version_major": 2,
       "version_minor": 0
      },
      "text/plain": [
       "  0%|          | 0/300 [00:00<?, ?it/s]"
      ]
     },
     "metadata": {},
     "output_type": "display_data"
    },
    {
     "name": "stdout",
     "output_type": "stream",
     "text": [
      "Error with {out_name}\n"
     ]
    },
    {
     "data": {
      "application/vnd.jupyter.widget-view+json": {
       "model_id": "8e23b296b771455aa0fab7dba3d7cd52",
       "version_major": 2,
       "version_minor": 0
      },
      "text/plain": [
       "  0%|          | 0/4 [00:00<?, ?it/s]"
      ]
     },
     "metadata": {},
     "output_type": "display_data"
    },
    {
     "data": {
      "application/vnd.jupyter.widget-view+json": {
       "model_id": "96bc0872e5794c97bfa395991bb8dad5",
       "version_major": 2,
       "version_minor": 0
      },
      "text/plain": [
       "  0%|          | 0/300 [00:00<?, ?it/s]"
      ]
     },
     "metadata": {},
     "output_type": "display_data"
    },
    {
     "data": {
      "application/vnd.jupyter.widget-view+json": {
       "model_id": "6d8356e4b74146399ada0cac339611c4",
       "version_major": 2,
       "version_minor": 0
      },
      "text/plain": [
       "  0%|          | 0/4 [00:00<?, ?it/s]"
      ]
     },
     "metadata": {},
     "output_type": "display_data"
    },
    {
     "data": {
      "application/vnd.jupyter.widget-view+json": {
       "model_id": "a5e6a9fa65bf418fb0bde0c32ff258e7",
       "version_major": 2,
       "version_minor": 0
      },
      "text/plain": [
       "  0%|          | 0/300 [00:00<?, ?it/s]"
      ]
     },
     "metadata": {},
     "output_type": "display_data"
    },
    {
     "data": {
      "application/vnd.jupyter.widget-view+json": {
       "model_id": "17086ab7598b47c482240de393b37413",
       "version_major": 2,
       "version_minor": 0
      },
      "text/plain": [
       "  0%|          | 0/4 [00:00<?, ?it/s]"
      ]
     },
     "metadata": {},
     "output_type": "display_data"
    },
    {
     "data": {
      "application/vnd.jupyter.widget-view+json": {
       "model_id": "fa6d447ee99a465cb17b038ccb2e643c",
       "version_major": 2,
       "version_minor": 0
      },
      "text/plain": [
       "  0%|          | 0/300 [00:00<?, ?it/s]"
      ]
     },
     "metadata": {},
     "output_type": "display_data"
    },
    {
     "data": {
      "application/vnd.jupyter.widget-view+json": {
       "model_id": "5a6082c221a7468e954c12659dab87e4",
       "version_major": 2,
       "version_minor": 0
      },
      "text/plain": [
       "  0%|          | 0/4 [00:00<?, ?it/s]"
      ]
     },
     "metadata": {},
     "output_type": "display_data"
    },
    {
     "data": {
      "application/vnd.jupyter.widget-view+json": {
       "model_id": "9be381c160e14ad78985d2ea1f811d99",
       "version_major": 2,
       "version_minor": 0
      },
      "text/plain": [
       "  0%|          | 0/300 [00:00<?, ?it/s]"
      ]
     },
     "metadata": {},
     "output_type": "display_data"
    },
    {
     "data": {
      "application/vnd.jupyter.widget-view+json": {
       "model_id": "3c49c42cd21949bb879ef0fb5dac8c5a",
       "version_major": 2,
       "version_minor": 0
      },
      "text/plain": [
       "  0%|          | 0/4 [00:00<?, ?it/s]"
      ]
     },
     "metadata": {},
     "output_type": "display_data"
    },
    {
     "data": {
      "application/vnd.jupyter.widget-view+json": {
       "model_id": "c42bdcb7e96843ed96c19114ddc82e99",
       "version_major": 2,
       "version_minor": 0
      },
      "text/plain": [
       "  0%|          | 0/300 [00:00<?, ?it/s]"
      ]
     },
     "metadata": {},
     "output_type": "display_data"
    },
    {
     "data": {
      "application/vnd.jupyter.widget-view+json": {
       "model_id": "36c5af089370427b98a0847c490004f9",
       "version_major": 2,
       "version_minor": 0
      },
      "text/plain": [
       "  0%|          | 0/4 [00:00<?, ?it/s]"
      ]
     },
     "metadata": {},
     "output_type": "display_data"
    },
    {
     "data": {
      "application/vnd.jupyter.widget-view+json": {
       "model_id": "97f2ed7e2a4c494286c2d1f14f90e3d9",
       "version_major": 2,
       "version_minor": 0
      },
      "text/plain": [
       "  0%|          | 0/300 [00:00<?, ?it/s]"
      ]
     },
     "metadata": {},
     "output_type": "display_data"
    },
    {
     "name": "stdout",
     "output_type": "stream",
     "text": [
      "Error with {out_name}\n"
     ]
    },
    {
     "data": {
      "application/vnd.jupyter.widget-view+json": {
       "model_id": "775dda359d4e421da0cc3b23f641b447",
       "version_major": 2,
       "version_minor": 0
      },
      "text/plain": [
       "  0%|          | 0/4 [00:00<?, ?it/s]"
      ]
     },
     "metadata": {},
     "output_type": "display_data"
    },
    {
     "data": {
      "application/vnd.jupyter.widget-view+json": {
       "model_id": "a3627516e0b3469bace832ce0246b3d2",
       "version_major": 2,
       "version_minor": 0
      },
      "text/plain": [
       "  0%|          | 0/300 [00:00<?, ?it/s]"
      ]
     },
     "metadata": {},
     "output_type": "display_data"
    },
    {
     "data": {
      "application/vnd.jupyter.widget-view+json": {
       "model_id": "e5197b817ad340b4840a6444687ea8cb",
       "version_major": 2,
       "version_minor": 0
      },
      "text/plain": [
       "  0%|          | 0/4 [00:00<?, ?it/s]"
      ]
     },
     "metadata": {},
     "output_type": "display_data"
    },
    {
     "data": {
      "application/vnd.jupyter.widget-view+json": {
       "model_id": "2621f0f7b8d74c00a5f37ffe803a0a6f",
       "version_major": 2,
       "version_minor": 0
      },
      "text/plain": [
       "  0%|          | 0/300 [00:00<?, ?it/s]"
      ]
     },
     "metadata": {},
     "output_type": "display_data"
    },
    {
     "data": {
      "application/vnd.jupyter.widget-view+json": {
       "model_id": "a815525a64d043cd877b5c1d101f00c6",
       "version_major": 2,
       "version_minor": 0
      },
      "text/plain": [
       "  0%|          | 0/4 [00:00<?, ?it/s]"
      ]
     },
     "metadata": {},
     "output_type": "display_data"
    },
    {
     "data": {
      "application/vnd.jupyter.widget-view+json": {
       "model_id": "777e3c8f755246b9a8b1a5781867886f",
       "version_major": 2,
       "version_minor": 0
      },
      "text/plain": [
       "  0%|          | 0/300 [00:00<?, ?it/s]"
      ]
     },
     "metadata": {},
     "output_type": "display_data"
    },
    {
     "data": {
      "application/vnd.jupyter.widget-view+json": {
       "model_id": "cdd1791099034e97b009dbbd222f1545",
       "version_major": 2,
       "version_minor": 0
      },
      "text/plain": [
       "  0%|          | 0/4 [00:00<?, ?it/s]"
      ]
     },
     "metadata": {},
     "output_type": "display_data"
    },
    {
     "data": {
      "application/vnd.jupyter.widget-view+json": {
       "model_id": "d3e3e19996ea4853bdf91fcb5425f644",
       "version_major": 2,
       "version_minor": 0
      },
      "text/plain": [
       "  0%|          | 0/300 [00:00<?, ?it/s]"
      ]
     },
     "metadata": {},
     "output_type": "display_data"
    },
    {
     "name": "stdout",
     "output_type": "stream",
     "text": [
      "Error with {out_name}\n"
     ]
    },
    {
     "data": {
      "application/vnd.jupyter.widget-view+json": {
       "model_id": "524ccf354304446f8409ea098de85a11",
       "version_major": 2,
       "version_minor": 0
      },
      "text/plain": [
       "  0%|          | 0/4 [00:00<?, ?it/s]"
      ]
     },
     "metadata": {},
     "output_type": "display_data"
    },
    {
     "data": {
      "application/vnd.jupyter.widget-view+json": {
       "model_id": "35ce94278a634b23979c54febcc92a6b",
       "version_major": 2,
       "version_minor": 0
      },
      "text/plain": [
       "  0%|          | 0/300 [00:00<?, ?it/s]"
      ]
     },
     "metadata": {},
     "output_type": "display_data"
    },
    {
     "data": {
      "application/vnd.jupyter.widget-view+json": {
       "model_id": "53fac0dda8b74941b9d96b1dafc797e1",
       "version_major": 2,
       "version_minor": 0
      },
      "text/plain": [
       "  0%|          | 0/4 [00:00<?, ?it/s]"
      ]
     },
     "metadata": {},
     "output_type": "display_data"
    },
    {
     "data": {
      "application/vnd.jupyter.widget-view+json": {
       "model_id": "9bb80651c5254073b809440228bc1c45",
       "version_major": 2,
       "version_minor": 0
      },
      "text/plain": [
       "  0%|          | 0/300 [00:00<?, ?it/s]"
      ]
     },
     "metadata": {},
     "output_type": "display_data"
    },
    {
     "data": {
      "application/vnd.jupyter.widget-view+json": {
       "model_id": "ef3f69a85f8c41adaeaf13009b8d8cab",
       "version_major": 2,
       "version_minor": 0
      },
      "text/plain": [
       "  0%|          | 0/4 [00:00<?, ?it/s]"
      ]
     },
     "metadata": {},
     "output_type": "display_data"
    },
    {
     "data": {
      "application/vnd.jupyter.widget-view+json": {
       "model_id": "e135bc2bc76947b9a264102ef47fcd4c",
       "version_major": 2,
       "version_minor": 0
      },
      "text/plain": [
       "  0%|          | 0/300 [00:00<?, ?it/s]"
      ]
     },
     "metadata": {},
     "output_type": "display_data"
    },
    {
     "name": "stdout",
     "output_type": "stream",
     "text": [
      "Error with {out_name}\n"
     ]
    },
    {
     "data": {
      "application/vnd.jupyter.widget-view+json": {
       "model_id": "ce5a5fafcc484b03aa48f7572ddbd60c",
       "version_major": 2,
       "version_minor": 0
      },
      "text/plain": [
       "  0%|          | 0/4 [00:00<?, ?it/s]"
      ]
     },
     "metadata": {},
     "output_type": "display_data"
    },
    {
     "data": {
      "application/vnd.jupyter.widget-view+json": {
       "model_id": "ec43e6565a3641b8aae0238355e5656a",
       "version_major": 2,
       "version_minor": 0
      },
      "text/plain": [
       "  0%|          | 0/300 [00:00<?, ?it/s]"
      ]
     },
     "metadata": {},
     "output_type": "display_data"
    },
    {
     "data": {
      "application/vnd.jupyter.widget-view+json": {
       "model_id": "9ba8d978362e4826bd8a7641d4f3b454",
       "version_major": 2,
       "version_minor": 0
      },
      "text/plain": [
       "  0%|          | 0/4 [00:00<?, ?it/s]"
      ]
     },
     "metadata": {},
     "output_type": "display_data"
    },
    {
     "data": {
      "application/vnd.jupyter.widget-view+json": {
       "model_id": "60aabc7d7aa2422f9aa33d4937f87525",
       "version_major": 2,
       "version_minor": 0
      },
      "text/plain": [
       "  0%|          | 0/300 [00:00<?, ?it/s]"
      ]
     },
     "metadata": {},
     "output_type": "display_data"
    },
    {
     "data": {
      "application/vnd.jupyter.widget-view+json": {
       "model_id": "cef353dea2ba47398a634566db0715b9",
       "version_major": 2,
       "version_minor": 0
      },
      "text/plain": [
       "  0%|          | 0/4 [00:00<?, ?it/s]"
      ]
     },
     "metadata": {},
     "output_type": "display_data"
    },
    {
     "data": {
      "application/vnd.jupyter.widget-view+json": {
       "model_id": "6992683b16b449f4805703046b2d1ac5",
       "version_major": 2,
       "version_minor": 0
      },
      "text/plain": [
       "  0%|          | 0/300 [00:00<?, ?it/s]"
      ]
     },
     "metadata": {},
     "output_type": "display_data"
    },
    {
     "data": {
      "application/vnd.jupyter.widget-view+json": {
       "model_id": "9c591c45fd434739823091bd4cd47f3e",
       "version_major": 2,
       "version_minor": 0
      },
      "text/plain": [
       "  0%|          | 0/4 [00:00<?, ?it/s]"
      ]
     },
     "metadata": {},
     "output_type": "display_data"
    },
    {
     "data": {
      "application/vnd.jupyter.widget-view+json": {
       "model_id": "9c605d1d17d643fa9d72bfc18c8152ae",
       "version_major": 2,
       "version_minor": 0
      },
      "text/plain": [
       "  0%|          | 0/300 [00:00<?, ?it/s]"
      ]
     },
     "metadata": {},
     "output_type": "display_data"
    },
    {
     "data": {
      "application/vnd.jupyter.widget-view+json": {
       "model_id": "d5a0b3c2155a49338821b59430a46a4a",
       "version_major": 2,
       "version_minor": 0
      },
      "text/plain": [
       "  0%|          | 0/4 [00:00<?, ?it/s]"
      ]
     },
     "metadata": {},
     "output_type": "display_data"
    },
    {
     "data": {
      "application/vnd.jupyter.widget-view+json": {
       "model_id": "20e32932adac429ba0d5ecca0980b32b",
       "version_major": 2,
       "version_minor": 0
      },
      "text/plain": [
       "  0%|          | 0/300 [00:00<?, ?it/s]"
      ]
     },
     "metadata": {},
     "output_type": "display_data"
    },
    {
     "data": {
      "application/vnd.jupyter.widget-view+json": {
       "model_id": "0274197ad4dd4936bdd3fdcb7e3c0ef8",
       "version_major": 2,
       "version_minor": 0
      },
      "text/plain": [
       "  0%|          | 0/4 [00:00<?, ?it/s]"
      ]
     },
     "metadata": {},
     "output_type": "display_data"
    },
    {
     "data": {
      "application/vnd.jupyter.widget-view+json": {
       "model_id": "a6764bbc07854d07b8cce306d7736d7d",
       "version_major": 2,
       "version_minor": 0
      },
      "text/plain": [
       "  0%|          | 0/300 [00:00<?, ?it/s]"
      ]
     },
     "metadata": {},
     "output_type": "display_data"
    },
    {
     "data": {
      "application/vnd.jupyter.widget-view+json": {
       "model_id": "870cec41e5af4aefb94de596fc205667",
       "version_major": 2,
       "version_minor": 0
      },
      "text/plain": [
       "  0%|          | 0/4 [00:00<?, ?it/s]"
      ]
     },
     "metadata": {},
     "output_type": "display_data"
    },
    {
     "data": {
      "application/vnd.jupyter.widget-view+json": {
       "model_id": "bc8854cfcaf84d749868d3a8c4bdea29",
       "version_major": 2,
       "version_minor": 0
      },
      "text/plain": [
       "  0%|          | 0/300 [00:00<?, ?it/s]"
      ]
     },
     "metadata": {},
     "output_type": "display_data"
    },
    {
     "name": "stdout",
     "output_type": "stream",
     "text": [
      "Error with {out_name}\n"
     ]
    },
    {
     "data": {
      "application/vnd.jupyter.widget-view+json": {
       "model_id": "a1bef9e0c90149c792b651b6fef83d84",
       "version_major": 2,
       "version_minor": 0
      },
      "text/plain": [
       "  0%|          | 0/4 [00:00<?, ?it/s]"
      ]
     },
     "metadata": {},
     "output_type": "display_data"
    },
    {
     "data": {
      "application/vnd.jupyter.widget-view+json": {
       "model_id": "b396f4f1b1d549869ad862253f4a2325",
       "version_major": 2,
       "version_minor": 0
      },
      "text/plain": [
       "  0%|          | 0/300 [00:00<?, ?it/s]"
      ]
     },
     "metadata": {},
     "output_type": "display_data"
    },
    {
     "data": {
      "application/vnd.jupyter.widget-view+json": {
       "model_id": "557307cfd7264c7eba4f36a765a61b31",
       "version_major": 2,
       "version_minor": 0
      },
      "text/plain": [
       "  0%|          | 0/4 [00:00<?, ?it/s]"
      ]
     },
     "metadata": {},
     "output_type": "display_data"
    },
    {
     "data": {
      "application/vnd.jupyter.widget-view+json": {
       "model_id": "ec59655bcdf349bcb3b460922e66423a",
       "version_major": 2,
       "version_minor": 0
      },
      "text/plain": [
       "  0%|          | 0/300 [00:00<?, ?it/s]"
      ]
     },
     "metadata": {},
     "output_type": "display_data"
    },
    {
     "data": {
      "application/vnd.jupyter.widget-view+json": {
       "model_id": "7f898bbdca3749d18045d43b28374fda",
       "version_major": 2,
       "version_minor": 0
      },
      "text/plain": [
       "  0%|          | 0/4 [00:00<?, ?it/s]"
      ]
     },
     "metadata": {},
     "output_type": "display_data"
    },
    {
     "data": {
      "application/vnd.jupyter.widget-view+json": {
       "model_id": "05f6f805956b48ed9bed6cdf18232bfc",
       "version_major": 2,
       "version_minor": 0
      },
      "text/plain": [
       "  0%|          | 0/300 [00:00<?, ?it/s]"
      ]
     },
     "metadata": {},
     "output_type": "display_data"
    },
    {
     "data": {
      "application/vnd.jupyter.widget-view+json": {
       "model_id": "e4d3e751e29e4b0eba30a3ae18a4e167",
       "version_major": 2,
       "version_minor": 0
      },
      "text/plain": [
       "  0%|          | 0/4 [00:00<?, ?it/s]"
      ]
     },
     "metadata": {},
     "output_type": "display_data"
    },
    {
     "data": {
      "application/vnd.jupyter.widget-view+json": {
       "model_id": "bf4f32f23db449e9aed907f5802d1d7d",
       "version_major": 2,
       "version_minor": 0
      },
      "text/plain": [
       "  0%|          | 0/300 [00:00<?, ?it/s]"
      ]
     },
     "metadata": {},
     "output_type": "display_data"
    },
    {
     "data": {
      "application/vnd.jupyter.widget-view+json": {
       "model_id": "daad1cf6fa7147998b2835dd1dbeb753",
       "version_major": 2,
       "version_minor": 0
      },
      "text/plain": [
       "  0%|          | 0/4 [00:00<?, ?it/s]"
      ]
     },
     "metadata": {},
     "output_type": "display_data"
    },
    {
     "data": {
      "application/vnd.jupyter.widget-view+json": {
       "model_id": "d0dd5491597f4af6b7e9958da9b85723",
       "version_major": 2,
       "version_minor": 0
      },
      "text/plain": [
       "  0%|          | 0/300 [00:00<?, ?it/s]"
      ]
     },
     "metadata": {},
     "output_type": "display_data"
    },
    {
     "name": "stdout",
     "output_type": "stream",
     "text": [
      "Error with {out_name}\n"
     ]
    },
    {
     "data": {
      "application/vnd.jupyter.widget-view+json": {
       "model_id": "438f81d7140440cc9b05e93a3b69e23a",
       "version_major": 2,
       "version_minor": 0
      },
      "text/plain": [
       "  0%|          | 0/4 [00:00<?, ?it/s]"
      ]
     },
     "metadata": {},
     "output_type": "display_data"
    },
    {
     "data": {
      "application/vnd.jupyter.widget-view+json": {
       "model_id": "86e31fc4a9bf40808af6d40f5b1a2e1f",
       "version_major": 2,
       "version_minor": 0
      },
      "text/plain": [
       "  0%|          | 0/300 [00:00<?, ?it/s]"
      ]
     },
     "metadata": {},
     "output_type": "display_data"
    },
    {
     "data": {
      "application/vnd.jupyter.widget-view+json": {
       "model_id": "c80fa5f2e9504f06b106fd0887646ea2",
       "version_major": 2,
       "version_minor": 0
      },
      "text/plain": [
       "  0%|          | 0/4 [00:00<?, ?it/s]"
      ]
     },
     "metadata": {},
     "output_type": "display_data"
    },
    {
     "data": {
      "application/vnd.jupyter.widget-view+json": {
       "model_id": "98c287933d2947cda8af8df51de9a7e5",
       "version_major": 2,
       "version_minor": 0
      },
      "text/plain": [
       "  0%|          | 0/300 [00:00<?, ?it/s]"
      ]
     },
     "metadata": {},
     "output_type": "display_data"
    },
    {
     "data": {
      "application/vnd.jupyter.widget-view+json": {
       "model_id": "96a7784c8b0748e1afe5ebe4d9e534b7",
       "version_major": 2,
       "version_minor": 0
      },
      "text/plain": [
       "  0%|          | 0/4 [00:00<?, ?it/s]"
      ]
     },
     "metadata": {},
     "output_type": "display_data"
    },
    {
     "data": {
      "application/vnd.jupyter.widget-view+json": {
       "model_id": "4cef9fe396d1411da628bf134a9a3e03",
       "version_major": 2,
       "version_minor": 0
      },
      "text/plain": [
       "  0%|          | 0/300 [00:00<?, ?it/s]"
      ]
     },
     "metadata": {},
     "output_type": "display_data"
    },
    {
     "data": {
      "application/vnd.jupyter.widget-view+json": {
       "model_id": "fc7cc1e9a63a4ec1a3cef0c56b98c4f0",
       "version_major": 2,
       "version_minor": 0
      },
      "text/plain": [
       "  0%|          | 0/4 [00:00<?, ?it/s]"
      ]
     },
     "metadata": {},
     "output_type": "display_data"
    },
    {
     "data": {
      "application/vnd.jupyter.widget-view+json": {
       "model_id": "bbe42f917dee4e619873f63ef8a720bc",
       "version_major": 2,
       "version_minor": 0
      },
      "text/plain": [
       "  0%|          | 0/300 [00:00<?, ?it/s]"
      ]
     },
     "metadata": {},
     "output_type": "display_data"
    },
    {
     "data": {
      "application/vnd.jupyter.widget-view+json": {
       "model_id": "d3acc3857e0f45b4a4945678b05cef47",
       "version_major": 2,
       "version_minor": 0
      },
      "text/plain": [
       "  0%|          | 0/4 [00:00<?, ?it/s]"
      ]
     },
     "metadata": {},
     "output_type": "display_data"
    },
    {
     "data": {
      "application/vnd.jupyter.widget-view+json": {
       "model_id": "4908bef371e94bceab8f524d271f2270",
       "version_major": 2,
       "version_minor": 0
      },
      "text/plain": [
       "  0%|          | 0/300 [00:00<?, ?it/s]"
      ]
     },
     "metadata": {},
     "output_type": "display_data"
    },
    {
     "data": {
      "application/vnd.jupyter.widget-view+json": {
       "model_id": "7a853e179bb6459bbd82d7cec91952a0",
       "version_major": 2,
       "version_minor": 0
      },
      "text/plain": [
       "  0%|          | 0/4 [00:00<?, ?it/s]"
      ]
     },
     "metadata": {},
     "output_type": "display_data"
    },
    {
     "data": {
      "application/vnd.jupyter.widget-view+json": {
       "model_id": "3d25e91a82294dc89ff0a6415038c22a",
       "version_major": 2,
       "version_minor": 0
      },
      "text/plain": [
       "  0%|          | 0/300 [00:00<?, ?it/s]"
      ]
     },
     "metadata": {},
     "output_type": "display_data"
    },
    {
     "data": {
      "application/vnd.jupyter.widget-view+json": {
       "model_id": "37b2cee98b9e4dceb031c1190908dbbc",
       "version_major": 2,
       "version_minor": 0
      },
      "text/plain": [
       "  0%|          | 0/4 [00:00<?, ?it/s]"
      ]
     },
     "metadata": {},
     "output_type": "display_data"
    },
    {
     "data": {
      "application/vnd.jupyter.widget-view+json": {
       "model_id": "502037fb62674a589005955cabd74bed",
       "version_major": 2,
       "version_minor": 0
      },
      "text/plain": [
       "  0%|          | 0/300 [00:00<?, ?it/s]"
      ]
     },
     "metadata": {},
     "output_type": "display_data"
    },
    {
     "data": {
      "application/vnd.jupyter.widget-view+json": {
       "model_id": "e446aca5a6484a2f95a4b5cb651d54cc",
       "version_major": 2,
       "version_minor": 0
      },
      "text/plain": [
       "  0%|          | 0/4 [00:00<?, ?it/s]"
      ]
     },
     "metadata": {},
     "output_type": "display_data"
    },
    {
     "data": {
      "application/vnd.jupyter.widget-view+json": {
       "model_id": "1dcd695d81f547498f43c21adc944540",
       "version_major": 2,
       "version_minor": 0
      },
      "text/plain": [
       "  0%|          | 0/300 [00:00<?, ?it/s]"
      ]
     },
     "metadata": {},
     "output_type": "display_data"
    },
    {
     "data": {
      "application/vnd.jupyter.widget-view+json": {
       "model_id": "b8476b206707496a800518e3567e143d",
       "version_major": 2,
       "version_minor": 0
      },
      "text/plain": [
       "  0%|          | 0/4 [00:00<?, ?it/s]"
      ]
     },
     "metadata": {},
     "output_type": "display_data"
    },
    {
     "data": {
      "application/vnd.jupyter.widget-view+json": {
       "model_id": "1bcc3905fcb0450c81649fd8773fd37d",
       "version_major": 2,
       "version_minor": 0
      },
      "text/plain": [
       "  0%|          | 0/300 [00:00<?, ?it/s]"
      ]
     },
     "metadata": {},
     "output_type": "display_data"
    },
    {
     "data": {
      "application/vnd.jupyter.widget-view+json": {
       "model_id": "0874630a84ee42e39abfebb15d929de4",
       "version_major": 2,
       "version_minor": 0
      },
      "text/plain": [
       "  0%|          | 0/4 [00:00<?, ?it/s]"
      ]
     },
     "metadata": {},
     "output_type": "display_data"
    },
    {
     "data": {
      "application/vnd.jupyter.widget-view+json": {
       "model_id": "706a93a74e394faba7cc688976d0c9b7",
       "version_major": 2,
       "version_minor": 0
      },
      "text/plain": [
       "  0%|          | 0/300 [00:00<?, ?it/s]"
      ]
     },
     "metadata": {},
     "output_type": "display_data"
    },
    {
     "data": {
      "application/vnd.jupyter.widget-view+json": {
       "model_id": "3a5d01fb546547a2bd3c1150d26dfdd9",
       "version_major": 2,
       "version_minor": 0
      },
      "text/plain": [
       "  0%|          | 0/4 [00:00<?, ?it/s]"
      ]
     },
     "metadata": {},
     "output_type": "display_data"
    },
    {
     "data": {
      "application/vnd.jupyter.widget-view+json": {
       "model_id": "c3b6320b208e433684c228aa60a66f4c",
       "version_major": 2,
       "version_minor": 0
      },
      "text/plain": [
       "  0%|          | 0/300 [00:00<?, ?it/s]"
      ]
     },
     "metadata": {},
     "output_type": "display_data"
    },
    {
     "data": {
      "application/vnd.jupyter.widget-view+json": {
       "model_id": "adcdd676a35e45aab8ceb47204e6fe71",
       "version_major": 2,
       "version_minor": 0
      },
      "text/plain": [
       "  0%|          | 0/4 [00:00<?, ?it/s]"
      ]
     },
     "metadata": {},
     "output_type": "display_data"
    },
    {
     "data": {
      "application/vnd.jupyter.widget-view+json": {
       "model_id": "2c7ad68b9de64322914aa355bcf08eac",
       "version_major": 2,
       "version_minor": 0
      },
      "text/plain": [
       "  0%|          | 0/300 [00:00<?, ?it/s]"
      ]
     },
     "metadata": {},
     "output_type": "display_data"
    }
   ],
   "source": [
    "\n",
    "\n",
    "bestgrades = []\n",
    "numcorners = []\n",
    "\n",
    "allgrades = []\n",
    "\n",
    "model = TPNN(num_classes=2, finalpadding=1, inputsize=2)\n",
    "checkpoint = torch.load(r'C:\\Users\\fhacesga\\OneDrive - University Of Houston\\AAA_RECTDNN\\data/FANN/checkpoint_101123.pth')\n",
    "model.load_state_dict(checkpoint['model_state_dict'])\n",
    "model = model.to('cuda')\n",
    "\n",
    "for i, (out_name, db) in enumerate(tile_coords.items()):\n",
    "    if db is not None:\n",
    "\n",
    "        try:\n",
    "        \n",
    "            # GET STREET CORNERS FROM TPNN OUTPUTS\n",
    "            street_corners = results_struct[tile_coords[out_name]['input_file']]\n",
    "\n",
    "            # SKIP IF TOO FEW CORNERS\n",
    "            if len(street_corners) < 3:\n",
    "                continue\n",
    "\n",
    "            # OPEN RASTER AND GET BOUNDING BOX\n",
    "            ra = rio.open(out_name)\n",
    "            bounds  = ra.bounds\n",
    "            image   = ra.read(1)\n",
    "\n",
    "            # VALID BBOX FOR OBSERVATIONS OF ROADS\n",
    "            bbox = debug_struct[out_name]['bbox']\n",
    "\n",
    "            # RUN ROADS DETECTION ON CNN AND PREP FOR ICP\n",
    "            roads, _    = split_and_run_cnn(image, model, tilesize=1024, num_dim=3, edges=10, dims_rep=[0], n_pyramids=2, device=\"cuda\", verbose=True)\n",
    "            roads_thin  = roads[:, :, 1] > 0.95\n",
    "            roads_thin  = cleanImageBBOX(roads_thin, bbox)\n",
    "            roads_thin  = skeletonize(roads_thin)    # USE SKELETONIZATION ALGORITHM TO THIN ROADS\n",
    "            y, x        = np.where(roads_thin[:, :])            # GET X, Y COORDINATES OF IDENTIFIED ROAD POINTS\n",
    "            street_det  = pointsToGeodataFrame(ra, y, x)        # CONVERT X, Y COORDINATES TO GDF AND REPROEJCT TO CURRENT ESTIMATE OF RASTER POSITION\n",
    "\n",
    "            # USING CURRENT ENLARGED RASTER EXTENTS, GET RELEVANT ROADS FROM OPENSTREETMAP FILE\n",
    "            bounds_poly = enlarged_bounds(ra, n=1)              # ENLARGED EXTENTS - NOTE, SET TO 1 (NO ENLARGEMENT) BECAUSE I'M NOT SURE HOW NEEDED THIS IS\n",
    "            roads_clipped = gpd.clip(roads_gdf, bounds_poly)    # CLIP\n",
    "            streets = getRoadPoints(roads_clipped, 0.5)         # ROAD POINTS ALONG STREETS, 0.5 IN M\n",
    "\n",
    "            # RUN YOLO DETECTION ON STREET INTERSECTIONS AND PREP FOR DATASET\n",
    "            corner_bbox = [street_corners[a]['bbox'] for a in street_corners]\n",
    "            corner_arry = np.array([calcCenter(a) for a in corner_bbox ]) \n",
    "            corner_arry = np.int32(corner_arry)                 # CONVERT TO INT32\n",
    "            corner_arry = cleanCenterBBOX(corner_arry, bbox)\n",
    "\n",
    "            # USE RASTER TRANSFORM TO GET REAL-WORLD ESTIMATES OF STREET CORNERS\n",
    "            corner_gdf = pointsToGeodataFrame(ra, corner_arry[:, 1], corner_arry[:, 0])\n",
    "            \n",
    "            # GET SHAPEFILE OF STREET INTERSECTIONS\n",
    "            corners = gpd.clip(intersections, bounds_poly)\n",
    "            \n",
    "            # DEFINE OUTPUT FILENAME\n",
    "            ICP_fn = os.path.join(proc_dir, os.path.basename(out_name).split(\".\")[0] + \"_ICP.tif\")\n",
    "            \n",
    "            # ACTUALLY PERFORM ICP AND SAVE OUTPUT GRADE\n",
    "            # best_transform, transform_dict = performICPonTile(detections, streets, plot=True, save_fig=ICP_fn, icp_iterations=500, conv=1e-6)\n",
    "            # best_transform, transform_dict = performICPonTile(detections, streets, plot=True, icp_iterations=50, conv=1e-6, rotation_limit=20)\n",
    "            # out = performWeightedICPonTile([street_det, corner_gdf], [streets, corners], weights=[1, 1/50])\n",
    "            # best_transform, transform_dict = performWeightedICPonTile([street_det, corner_gdf], [streets, corners],proc_limit=200, icp_iterations=90, plot_datasets=[roads_clipped, corners], weights=[1, 1/10], plot=False, shear=True )\n",
    "            best_transform, transform_dict = performWeightedICPonTile([corner_gdf], [corners], proc_limit=1000, icp_iterations=300, plot_datasets=[roads_clipped, corners], weights=[1, 1/10], plot=False, shear=True, dist_threshold=1000, )\n",
    "            \n",
    "            bestgrades.append(np.min(transform_dict['grades']))\n",
    "\n",
    "            # SAVE WITH REGISTRATION\n",
    "            raster_name = os.path.join(proc_dir, os.path.basename(out_name).split(\".\")[0] + \"_registered6.tif\")\n",
    "            transform = best_transform @ getMatrixFromAffine(ra.transform) \n",
    "            \n",
    "            # SAVE POINTS USED FOR ESTIMATION\n",
    "            shp_name = os.path.join(proc_dir, os.path.basename(out_name).split(\".\")[0] + \"_XY.gpkg\")\n",
    "            a = gpd.GeoDataFrame(crs=\"EPSG:3857\", geometry=gpd.points_from_xy(transform_dict['reproj'][0][:, 0], transform_dict['reproj'][0][:, 1]))\n",
    "            a.to_file(shp_name)\n",
    "\n",
    "            # SAVE ANCILLARY FILES\n",
    "            out_struct = {\n",
    "                \"best_transform\" : best_transform,\n",
    "                \"transform_dict\" : transform_dict,\n",
    "            }\n",
    "\n",
    "            allgrades.append(transform_dict)\n",
    "            \n",
    "            try:\n",
    "                with rio.open(raster_name, 'w',\n",
    "                    driver='GTiff', count=3, dtype=image.dtype,\n",
    "                    height=image.shape[0], width=image.shape[1],\n",
    "                    crs=f'EPSG:3857',\n",
    "                    transform=rio.Affine(*transform.flatten()[:6])) as dst:\n",
    "                        dst.write(image, 1) \n",
    "                        dst.write(roads_thin * 255, 2) \n",
    "                        dst.write(draw_bounding_boxes(corner_bbox, image.shape[:2]), 3) \n",
    "\n",
    "                with open(raster_name[:-4] + \".pkl\", 'wb') as handle:\n",
    "                    pickle.dump(out_struct, handle, protocol=pickle.HIGHEST_PROTOCOL)\n",
    "\n",
    "            except:\n",
    "                print(f\"Could not save photo {out_name}\")\n",
    "        except:\n",
    "            print(\"Error with {out_name}\")\n",
    "            continue"
   ]
  },
  {
   "cell_type": "code",
   "execution_count": 43,
   "metadata": {},
   "outputs": [
    {
     "data": {
      "text/html": [
       "<div>\n",
       "<style scoped>\n",
       "    .dataframe tbody tr th:only-of-type {\n",
       "        vertical-align: middle;\n",
       "    }\n",
       "\n",
       "    .dataframe tbody tr th {\n",
       "        vertical-align: top;\n",
       "    }\n",
       "\n",
       "    .dataframe thead th {\n",
       "        text-align: right;\n",
       "    }\n",
       "</style>\n",
       "<table border=\"1\" class=\"dataframe\">\n",
       "  <thead>\n",
       "    <tr style=\"text-align: right;\">\n",
       "      <th></th>\n",
       "      <th>geometry</th>\n",
       "      <th>x</th>\n",
       "      <th>y</th>\n",
       "    </tr>\n",
       "  </thead>\n",
       "  <tbody>\n",
       "    <tr>\n",
       "      <th>0</th>\n",
       "      <td>POINT (-10596030.440 3471824.312)</td>\n",
       "      <td>-1.059603e+07</td>\n",
       "      <td>3.471824e+06</td>\n",
       "    </tr>\n",
       "    <tr>\n",
       "      <th>0</th>\n",
       "      <td>POINT (-10602839.782 3468454.022)</td>\n",
       "      <td>-1.060284e+07</td>\n",
       "      <td>3.468454e+06</td>\n",
       "    </tr>\n",
       "    <tr>\n",
       "      <th>0</th>\n",
       "      <td>POINT (-10594194.837 3472822.577)</td>\n",
       "      <td>-1.059419e+07</td>\n",
       "      <td>3.472823e+06</td>\n",
       "    </tr>\n",
       "    <tr>\n",
       "      <th>0</th>\n",
       "      <td>POINT (-10599613.572 3469356.124)</td>\n",
       "      <td>-1.059961e+07</td>\n",
       "      <td>3.469356e+06</td>\n",
       "    </tr>\n",
       "    <tr>\n",
       "      <th>0</th>\n",
       "      <td>POINT (-10594180.931 3472859.211)</td>\n",
       "      <td>-1.059418e+07</td>\n",
       "      <td>3.472859e+06</td>\n",
       "    </tr>\n",
       "  </tbody>\n",
       "</table>\n",
       "</div>"
      ],
      "text/plain": [
       "                            geometry             x             y\n",
       "0  POINT (-10596030.440 3471824.312) -1.059603e+07  3.471824e+06\n",
       "0  POINT (-10602839.782 3468454.022) -1.060284e+07  3.468454e+06\n",
       "0  POINT (-10594194.837 3472822.577) -1.059419e+07  3.472823e+06\n",
       "0  POINT (-10599613.572 3469356.124) -1.059961e+07  3.469356e+06\n",
       "0  POINT (-10594180.931 3472859.211) -1.059418e+07  3.472859e+06"
      ]
     },
     "execution_count": 43,
     "metadata": {},
     "output_type": "execute_result"
    }
   ],
   "source": [
    "corner_gdf"
   ]
  },
  {
   "cell_type": "code",
   "execution_count": 25,
   "metadata": {},
   "outputs": [
    {
     "data": {
      "text/plain": [
       "[<matplotlib.lines.Line2D at 0x1e32a8903d0>,\n",
       " <matplotlib.lines.Line2D at 0x1e32a8f3910>,\n",
       " <matplotlib.lines.Line2D at 0x1e32a8f3250>,\n",
       " <matplotlib.lines.Line2D at 0x1e32a890070>,\n",
       " <matplotlib.lines.Line2D at 0x1e44322d280>,\n",
       " <matplotlib.lines.Line2D at 0x1e32a8ecfa0>,\n",
       " <matplotlib.lines.Line2D at 0x1e32a8ecac0>,\n",
       " <matplotlib.lines.Line2D at 0x1e32a8ecb20>,\n",
       " <matplotlib.lines.Line2D at 0x1e32a8ec070>,\n",
       " <matplotlib.lines.Line2D at 0x1e32a8ec520>,\n",
       " <matplotlib.lines.Line2D at 0x1e32a8f3c70>,\n",
       " <matplotlib.lines.Line2D at 0x1e32a8ec370>,\n",
       " <matplotlib.lines.Line2D at 0x1e32a8ec640>,\n",
       " <matplotlib.lines.Line2D at 0x1e32a8ec1c0>,\n",
       " <matplotlib.lines.Line2D at 0x1e32a8ec880>,\n",
       " <matplotlib.lines.Line2D at 0x1e32a8ec250>,\n",
       " <matplotlib.lines.Line2D at 0x1e32a8ec190>,\n",
       " <matplotlib.lines.Line2D at 0x1e32a890d90>,\n",
       " <matplotlib.lines.Line2D at 0x1e32a890c70>,\n",
       " <matplotlib.lines.Line2D at 0x1e32a8a9a90>,\n",
       " <matplotlib.lines.Line2D at 0x1e32a8a9e80>,\n",
       " <matplotlib.lines.Line2D at 0x1e32a890b50>,\n",
       " <matplotlib.lines.Line2D at 0x1e32a890c40>,\n",
       " <matplotlib.lines.Line2D at 0x1e32a8a95b0>,\n",
       " <matplotlib.lines.Line2D at 0x1e32a8a9190>,\n",
       " <matplotlib.lines.Line2D at 0x1e32a8a9520>,\n",
       " <matplotlib.lines.Line2D at 0x1e32a8a9610>,\n",
       " <matplotlib.lines.Line2D at 0x1e32a8a9370>,\n",
       " <matplotlib.lines.Line2D at 0x1e32a8a9580>,\n",
       " <matplotlib.lines.Line2D at 0x1e32afb46a0>,\n",
       " <matplotlib.lines.Line2D at 0x1e32a8f8580>,\n",
       " <matplotlib.lines.Line2D at 0x1e32a8f8f10>,\n",
       " <matplotlib.lines.Line2D at 0x1e32a8f8be0>,\n",
       " <matplotlib.lines.Line2D at 0x1e32a8f8f40>,\n",
       " <matplotlib.lines.Line2D at 0x1e32a8f86a0>,\n",
       " <matplotlib.lines.Line2D at 0x1e32a8f8970>,\n",
       " <matplotlib.lines.Line2D at 0x1e32a8f89a0>,\n",
       " <matplotlib.lines.Line2D at 0x1e32a8f8910>,\n",
       " <matplotlib.lines.Line2D at 0x1e32a8f8490>,\n",
       " <matplotlib.lines.Line2D at 0x1e32a8f8100>,\n",
       " <matplotlib.lines.Line2D at 0x1e32a8f8e20>,\n",
       " <matplotlib.lines.Line2D at 0x1e32a8ce880>,\n",
       " <matplotlib.lines.Line2D at 0x1e32a8ced60>,\n",
       " <matplotlib.lines.Line2D at 0x1e32a8ceb50>,\n",
       " <matplotlib.lines.Line2D at 0x1e32a8ce4f0>,\n",
       " <matplotlib.lines.Line2D at 0x1e32a8ce7f0>,\n",
       " <matplotlib.lines.Line2D at 0x1e32a8cef40>,\n",
       " <matplotlib.lines.Line2D at 0x1e32a8ceb20>,\n",
       " <matplotlib.lines.Line2D at 0x1e32a890880>,\n",
       " <matplotlib.lines.Line2D at 0x1e32a890610>,\n",
       " <matplotlib.lines.Line2D at 0x1e32a8cee80>,\n",
       " <matplotlib.lines.Line2D at 0x1e32a8ce490>,\n",
       " <matplotlib.lines.Line2D at 0x1e32a8ce100>,\n",
       " <matplotlib.lines.Line2D at 0x1e32a8daa90>,\n",
       " <matplotlib.lines.Line2D at 0x1e32a8da8e0>,\n",
       " <matplotlib.lines.Line2D at 0x1e32a8da610>,\n",
       " <matplotlib.lines.Line2D at 0x1e32a8da760>,\n",
       " <matplotlib.lines.Line2D at 0x1e32a8dab20>,\n",
       " <matplotlib.lines.Line2D at 0x1e32be7df10>,\n",
       " <matplotlib.lines.Line2D at 0x1e32be66850>,\n",
       " <matplotlib.lines.Line2D at 0x1e32a84d640>,\n",
       " <matplotlib.lines.Line2D at 0x1e32a84dd00>,\n",
       " <matplotlib.lines.Line2D at 0x1e32be8c070>,\n",
       " <matplotlib.lines.Line2D at 0x1e32be8ccd0>,\n",
       " <matplotlib.lines.Line2D at 0x1e32be8ca90>,\n",
       " <matplotlib.lines.Line2D at 0x1e32be8cd00>,\n",
       " <matplotlib.lines.Line2D at 0x1e32be8ce80>,\n",
       " <matplotlib.lines.Line2D at 0x1e32be8ceb0>,\n",
       " <matplotlib.lines.Line2D at 0x1e32be6ed00>,\n",
       " <matplotlib.lines.Line2D at 0x1e32ad76ac0>,\n",
       " <matplotlib.lines.Line2D at 0x1e32ad762b0>,\n",
       " <matplotlib.lines.Line2D at 0x1e32be567f0>,\n",
       " <matplotlib.lines.Line2D at 0x1e32be85370>,\n",
       " <matplotlib.lines.Line2D at 0x1e32be85220>,\n",
       " <matplotlib.lines.Line2D at 0x1e32be852b0>,\n",
       " <matplotlib.lines.Line2D at 0x1e32be853d0>,\n",
       " <matplotlib.lines.Line2D at 0x1e32be851c0>,\n",
       " <matplotlib.lines.Line2D at 0x1e32be85880>,\n",
       " <matplotlib.lines.Line2D at 0x1e32be85a30>,\n",
       " <matplotlib.lines.Line2D at 0x1e32be85b50>,\n",
       " <matplotlib.lines.Line2D at 0x1e32be85c40>,\n",
       " <matplotlib.lines.Line2D at 0x1e32be85df0>,\n",
       " <matplotlib.lines.Line2D at 0x1e32be85f10>,\n",
       " <matplotlib.lines.Line2D at 0x1e32be85490>,\n",
       " <matplotlib.lines.Line2D at 0x1e32ad7d1c0>,\n",
       " <matplotlib.lines.Line2D at 0x1e32ad7d2b0>,\n",
       " <matplotlib.lines.Line2D at 0x1e32ad7d490>,\n",
       " <matplotlib.lines.Line2D at 0x1e32ad7d640>,\n",
       " <matplotlib.lines.Line2D at 0x1e32ad7d730>,\n",
       " <matplotlib.lines.Line2D at 0x1e32ad7d8e0>,\n",
       " <matplotlib.lines.Line2D at 0x1e32ad7da00>,\n",
       " <matplotlib.lines.Line2D at 0x1e32ad7dbe0>,\n",
       " <matplotlib.lines.Line2D at 0x1e32ad7d7c0>,\n",
       " <matplotlib.lines.Line2D at 0x1e32ad7df40>,\n",
       " <matplotlib.lines.Line2D at 0x1e32ad7dd00>,\n",
       " <matplotlib.lines.Line2D at 0x1e32ad84100>,\n",
       " <matplotlib.lines.Line2D at 0x1e32ad842e0>,\n",
       " <matplotlib.lines.Line2D at 0x1e32ad84490>,\n",
       " <matplotlib.lines.Line2D at 0x1e32ad84580>,\n",
       " <matplotlib.lines.Line2D at 0x1e32ad847f0>,\n",
       " <matplotlib.lines.Line2D at 0x1e32ad848e0>,\n",
       " <matplotlib.lines.Line2D at 0x1e32ad84ac0>,\n",
       " <matplotlib.lines.Line2D at 0x1e32ad84b20>,\n",
       " <matplotlib.lines.Line2D at 0x1e32ad84cd0>,\n",
       " <matplotlib.lines.Line2D at 0x1e32ad84eb0>,\n",
       " <matplotlib.lines.Line2D at 0x1e32ad846d0>,\n",
       " <matplotlib.lines.Line2D at 0x1e32b6f4c70>,\n",
       " <matplotlib.lines.Line2D at 0x1e32a8f3970>,\n",
       " <matplotlib.lines.Line2D at 0x1e32ad8d130>,\n",
       " <matplotlib.lines.Line2D at 0x1e32ad8d3d0>,\n",
       " <matplotlib.lines.Line2D at 0x1e32ad8d520>,\n",
       " <matplotlib.lines.Line2D at 0x1e32ad8d6d0>,\n",
       " <matplotlib.lines.Line2D at 0x1e32ad8d7f0>]"
      ]
     },
     "execution_count": 25,
     "metadata": {},
     "output_type": "execute_result"
    },
    {
     "data": {
      "application/vnd.jupyter.widget-view+json": {
       "model_id": "fde1d1f5d5f346c7868b4b01a4701f74",
       "version_major": 2,
       "version_minor": 0
      },
      "image/png": "[encoded data removed]",
      "text/html": [
       "\n",
       "            <div style=\"display: inline-block;\">\n",
       "                <div class=\"jupyter-widgets widget-label\" style=\"text-align: center;\">\n",
       "                    Figure\n",
       "                </div>\n",
       "                <img src='data:image/png;base64,iVBORw0KGgoAAAANSUhEUgAAAoAAAAHgCAYAAAA10dzkAAAAOXRFWHRTb2Z0d2FyZQBNYXRwbG90bGliIHZlcnNpb24zLjcuMiwgaHR0cHM6Ly9tYXRwbG90bGliLm9yZy8pXeV/AAAACXBIWXMAAA9hAAAPYQGoP6dpAAEAAElEQVR4nOydd5wbxfn/37tadel6852v2efebZpNbzZOCCEhOCEJJCQhvZBA2i8NvikkkC8ppHzTSUiAQAi9GzAYjDHuvft8vt6LurQ7vz9W0kl3uvPZPuNy8355vbrd2ZlnZlfSR8/MPKMIIQQSiUQikUgkkjGDeqINkEgkEolEIpG8s0gBKJFIJBKJRDLGkAJQIpFIJBKJZIwhBaBEIpFIJBLJGEMKQIlEIpFIJJIxhhSAEolEIpFIJGMMKQAlEolEIpFIxhhSAEokEolEIpGMMaQAlEgkEolEIhljSAEokUgkEolEMsaQAlAikUgkEolkjCEFoEQikUgkEskYQwpAiUQikUgkkjGGFIASiUQikUgkYwwpACUSiUQikUjGGFIASiQSiUQikYwxpACUSCQSiUQiGWNIASiRSCQSiUQyxpACUCKRSCQSiWSMIQWgRCKRSCQSyRhDCkCJRCKRSCSSMYYUgBKJRCKRSCRjDCkAJRKJRCKRSMYYUgBKJBKJRCKRjDGkAJRIJBKJRCIZY0gBKJFIJBKJRDLGkAJQIpFIJBKJZIwhBaBEIpFIJBLJGEMKQIlEIpFIJJIxhhSAEolEIpFIJGMMKQAlEolEIpFIxhhSAEokEolEIpGMMaQAlEgkEolEIhljSAEokUgkEolEMsaQAlAikUgkEolkjCEFoEQikUgkEskYQwpAiUQikUgkkjGGFIASiUQikUgkYwwpACUSiUQikUjGGFIASiQSiUQikYwxpACUSCQSiUQiGWNIASiRSCQSiUQyxpACUCKRSCQSiWSMIQWgRCKRSCQSyRhDCkCJRCKRSCSSMYYUgBKJRCKRSCRjDCkAJRKJRCKRSMYYUgBKJBKJRCKRjDGkAJRIJBKJRCIZY0gBKJFIJBKJRDLGkAJQIpFIJBKJZIwhBaBEIpFIJBLJGEMKQIlEIpFIJJIxhhSAEolEIpFIJGMMKQAlEolEIpFIxhhSAEokEolEIpGMMbQTbcCpjGEYNDY24vV6URTlRJsjkUgkEolkBAgh6Ovro7S0FFUdm74wKQCPgcbGRsrLy0+0GRKJRCKRSI6CQ4cOMX78+BNtxglBCsBjwOv1AuYDlJWVdYKtkUgkEolEMhJ6e3spLy9Pfo+PRaQAPAYS3b5ZWVlSAEokEolEcooxlodvjc2Ob4lEIpFIJJIxjBSAEolEIpFIJGMMKQAlEolEIpFIxhhSAEokEolEIpGMMaQAlEgkEolEIhljSAEokUgkEolEMsaQAlAikUgkEolkjCEFoEQikUgkEskYQwpAiUQikUgkkjGGFIASiUQikUgkYwwpACUSiUQikUjGGFIASiQSiUQikYwxTkkB+Nprr/Ge97yH0tJSFEXhscceGzLtZz7zGRRF4Ze//GXa8XA4zJe+9CUKCgpwu91cddVV1NfXH1/DJUPi8+1i/4F72Lv3Z+ze/UN27voe23d8kx07/x+dnW8ghDjRJkokEolEctqgnWgDjga/38+cOXO48cYbueaaa4ZM99hjj/HWW29RWlo66NzNN9/Mk08+yYMPPkh+fj633HILV155JevWrcNisRxP8yUpxGJ+DtT+mkOH/oYQesY0jY3/xuOeQnn5jRQXX4XFYn+HrZRIJBKJ5PTilBSAS5cuZenSpcOmaWho4Itf/CLPP/887373u9PO9fT08Je//IX77ruPyy67DIB//vOflJeXs3z5cpYsWXLcbJf009b2Irt230443ARAfv6FuFwTUVU7qmpDVWyEwg00NT2Kz7+LHTu/xd59d1JW9mHGlbwfl6vyBNdAIpFIJJJTk1NSAB4OwzC4/vrr+frXv86MGTMGnV+3bh3RaJTFixcnj5WWljJz5kxWrVo1pAAMh8OEw+Hk3729vaNv/BjA79/L3n130d6+HACHYzxTJt9GQcHFGdNPnHArjU0PUX/oH4TCjdTW/oba2t/g9c6kuOhdFBW9C6ez/J2sgkQikUgkpzSnpQD82c9+hqZpfPnLX854vrm5GZvNRm5ubtrx4uJimpubh8z3jjvu4Pbbbx9VW8cKoXAzLS1P0dL8BH2+bQAoipXKik9RVfUFLBbnkNdardlUVtxE+fgbaWt/gcaGB+nsepO+vq309W1l77478XpnkZe7kKysuWRlz8FhL3mnqiaRSCQSySnHaScA161bx69+9SvWr1+PoihHdK0QYthrvv3tb/O1r30t+Xdvby/l5dLzNBSGEaal9Vmamv5DV9dqwJzIoSga+fkXMXHirXjck0acn6pqFBe9i+KidxGJdNDa9jytLU/T1b2Gvr4t9PVtSaa120vIypqN3V6CpmVh1bLQtCw0zYumebFY3GiaJ7lXVRuKYkVRTsl5URKJRCKRHBGnnQBcuXIlra2tVFRUJI/pus4tt9zCL3/5S2praykpKSESidDV1ZXmBWxtbWXRokVD5m2327Hb5QSEwxEOt9LQcD8NjQ8QibQnj2dnL6Ck+L0UFS3FZss7pjJstnzGl32Y8WUfJhxuo6NjBT29G+jt3YTPt5twuJm2tqG9uUOhKBYURUNRrFgszrhAdGOxeNAsblTVjqJqKIqGqlhRVKt5DSqKYgFFQcHcIwQgEJh7AAUVUEBRUQAU828FJX5cif+d0bpMBg8+llruwNnT8fyHyG1wVpn+Gq0Z2Unbj+yHWpotx8rh6jKwfUX/vcyQOPM1Q6UbbMxhrht4rTiMPcPYlax3pmtT0mWsy9D1G2DdEdiZ/uwPvvY4cYT1y5jFMOeOqB4jdlgog16JZBlG2udN+meLegQ1y5RSpPyffmxU71GGdsjNOZvc3LNHrwwJcBoKwOuvvz45sSPBkiVLuP7667nxxhsBWLBgAVarlRdffJFly5YB0NTUxNatW7nzzjvfcZtPRbq63qK7+21TLKkaimJBVax096yjtfUZhIgBYLcVU1p2HeNK3ofTOf642GK3F1Jaei2lpdcC5sxis3t4G9FoF7FYH7FYL9FYL7FYL3rMR0z3E4v50HVf0lYAIfT4bOQwuu4D2o6LzRKJRCIZIdVfkQLwOHBKCkCfz8fevXuTfx84cICNGzeSl5dHRUUF+fn5aemtVislJSVMmTIFgOzsbD75yU9yyy23kJ+fT15eHrfeeiuzZs0aJB4lgwmHW9m46UYMIzxkmuzsBZSPv4HCwiWoqvUdtA40zU1u7sh+MQohMIwIQkQwjChCRDGMGEJE0PUgMd2PHvOh635iuj+eNoYwIhgihjBiCHSEMOK/vnUQAoFB/69v+n/Vin6PoBAGYJg/3JO/2vs9BSLtt/YIf2ELkeJJ6feqJPPImHc/GX2Pab/Ij8RrN5zN/Z6DhC2D2iqZNNWPIlLqNVI7Uss8Eo/PwPbvLzO1ndI9Lkd6n0ZqS0reifZIu7eHa4dMdUl4ggfWJdM1wx1LnDrcfVIyPl8Dn/2hrh2ZLQPv8Uj8cyn5DHlfhsoiQ50Hcth6DLBh+AIHlZ3eXorZyxB3o2b6XDl8CUOny/wePXLP5XClZ3qd5Z05wjIkR8IpKQDXrl3LxRf3zxhNjMv72Mc+xr333juiPH7xi1+gaRrLli0jGAxy6aWXcu+998oYgCPg4ME/YBhhXK5qsrMXxAVRDEPEsNnyKS1ddsq8YRVFiccVlF37EolEIhk7KEIusXDU9Pb2kp2dTU9PD1lZWSfanHeEcLiVVW9ehGGEmTv37+TnnXeiTZJIJBKJ5IgYi9/fA5FTHiVHxMG6P2IYYbKz55OXe+6JNkcikUgkEslRIAWgZMSEw200NNwPQHXVl484zI5EIpFIJJKTAykAJSOmru5PGEaYrKx55MmuX4lEIpFITlmkAJSMiHCknfqGfwEwoVp6/yQSiUQiOZWRAlAyIuoO/hHDCJGVNZe8vPNPtDkSiUQikUiOASkAJYclkuL9q67+kvT+SSQSiURyiiMFoOSwHKz7k+n9884mP+/CE22ORCKRSCSSY0QKQMmwxGI+6usT3j859k8ikUgkktMBKQAlw9LWvhzDCOJyVZOff9GJNkcikUgkEskoIAWgZFhaWp4EoLjoPdL7J5FIJBLJaYIUgJIhiUa76Ox8HYDi4vecYGskEolEIpGMFlIASoakpfVZhIjh9czA7Z5wos2RSCQSiUQySkgBKBmSlpanACguvvIEWyKRSCQSiWQ0kQJQkpFQuJnu7jWAFIASiUQikZxuSAEoyUhry9OAIDv7DByO0hNtjkQikUgkklFECkBJRpoTs3+l908ikUgkktMOKQAlgwgEaunr24KiWCguWnqizZFIJBKJRDLKSAEoGURi8kdu7iJstoITbI1EIpFIJJLRRgpASRpCCFpa5exfiUQikUhOZ6QAlKTh8+/C79+DqtooKlxyos2RSCQSiURyHJACUJJGYum3/PyL0DTvCbZGIpFIJBLJ8UAKQEkSIURK8Ge59JtEIpFIJKcrUgBKknR2vUEoVI/F4qEg/+ITbY5EIpFIJJLjhBSAkiT1h/4OwLhx78dicZ5gayQSiUQikRwvpACUAGbsv/aOVwAoH3/DCbZGIpFIJBLJ8UQKQAkA9fX3AYL8/ItwuapPtDkSiUQikUiOI1IASojFfDQ2/QeA8vEfO8HWSCQSiUQiOd5oJ9oAyYmnqekRdN2HyzWRvLzzT7Q5R0ws1kco3IwwYoCBQIAwEMLAMMLoRhBDD6HrQXQjCICCiqJYQFFQsODxTMbjmY6iKCe2MhKJRCKRvANIATjGEcLgUP0/AHPs38kogIQQRKIdBPz78Af2EQzUEgwdIhRsIBiqJxbrGZVybLYiCvIvIr/gIvJyz0XTPKOSr2QwQggCgQA9PT309vai6zoOhwOHw4HdbsfhcGC1WlEUBVVVURQlbZNIJBLJsSEF4Bino+NVgsFaNM1LScn7TrQ5AOh6kO7ut+nsfJ3unvUEAvuIxXqHvUbTslFVGwoqKAqgoKCgWhxYLE5U1Rnf21EUFSEM00uIgaGH6OndRCTSSmPTQzQ2PYSiWMnyzsSbNYss7yy83pm43RNNr6HkiOnp6WH37t3s2bOHtra2pOg7UiwWCx6PJ7l5vV48Hg9utztty8rKwmazHYeaSCQSyemBFIBjnEP1ZuiX0nHL0DT3CbMjHG6jqelhOjpfp6dnA0JEBqRQcDrKcbkn4HJNwOksx+kYj8NRhsMx/pht1/Uw3d1r6OhYQXvHCoLBWnp6N9DTuyGZxmJx4XRWYLMWYLPlY7OZe03LxmJxYdHcWFQnFs1tCs14N3NyU63meYsDRbGdtp4sIQR+v5+2tjb279/P7t27aWlpyZjW7XaTnZ2NxWIhHA4TCoUIhUJEIgPvv4mu6/T09NDTM7zX12KxcM4553D++efjcDgypmlvb6e2tha3201OTg45OTk4HI7T9r5IJBJJKooQQpxoI05Vent7yc7Opqenh6ysrBNtzhHj9+9j9VuLAYVFC1/G6aw4IXZ0da1hy9YvEo12JI857KXk5Z1Hbu45eDxTcTqrsFjs75hNgcBBens30du3hb7eLfT5tqHrgVEsQYl7JB2oqh2LxRF/7Yh7MhVQ4gISBRQFIQyE0JOeS4RI83aiqCgoCIw0DyfCiBepJMvuv0aJ/x0/EherJIWrCqhpaftfAwJC4RB9fX2EQiHC4TCRcBjdMFBI/2hxuVx4vV6cLhdWqxWrVRsgtlLyFmAkPpoE5rhOwNANorEI0WiEWCya3PRYjJgeQ9d1YrEohmHE29hKUVERubn5Zl0E+Pw+Otrb6OvrG3RXVIsFm81KQUE+WVmetHY0vctqSlurcbviY04H1DeRzmzfRDoxRLrEfVDSjw+4b+ltL/rLHwYhjEE2ptahv+xU++LPFwxZL9MbrsTbVSSfSUG8PNT482OmSbZXyvMrEOnP1qB2FZlfp9mU4bnsr/wA+w/3ddefT3/bgBB6/FnQzdeItLol3yPJ9kqUk2J3sv1FynX9+2TZkF6P1HuStDH+LCbby+i3MfH+T7lX/eWk1zW1TQZeO1TrDGTg82Gar6JgSfkMU/vLOew9EAOePUFR0bsoLlp6mOuOjFP9+3s0kB7AMUxi7F9BwaUnRPwJIahvuI89e36MEDE87imUlX2EvLxFOJ1VJ9QT43JV4nJVUlJyVdxWnUDgAKFQI5FIe8rWQUzvQ4/50fUAuhEkFvNhGBFI+VA29xFTwJk5mulHVVSeWGw2c2OYJaQNAX7/6JaraeY21M+DaHQ/ra3pxxxOcxuKcBja2kbNRIlEcgy43ZOA0RWAEikAxyyxWB/Nzf8FTkzoF10Ps2vX92hqfgQw1x6eNvWOk3YFEkWx4HbX4HbXHFM+hhHFMELoegjDCKLrwfhM5TCGHsIwQhhGJN2bInSEMD0O/V4XS/yXfYpnQcS9C3GvQP8s534hbaZLvEr1rAwsL2WLl9Hd00NDfT1NzY1Eo9FknqqiUFBQQE5OLm6PG7fLjcvlwmIxbR05A7w1IsWLkpKi3ysa92CleH5S66rrOgcP1rJnzy5isUjSyaVaVMaXlVNZVYnH7U7aGNN1QsEgjU2N7N27HyEUbDY7c+bMY1xJabx0I9neQugpHhb6PUbx+yBS2lZJePeS90NJqVHC0znYU5V6jwa1T7K+GTxfaWlSPJep5aZ4iDN5ONPbc4C9Qgy4NtWjqCbrk5oGYQxuq0S+cS9l4llLv6fp43oH1TfZNkb/tTD4mmSDDPYS9rd6wlua3t7976d+r3yaVy9Rx4HlJe53sv3VZEmpz1LCS5/mPUzz8Ktpdqf3BBgD3vOJ90WiPsSjImQacyvi7dnvDR74nPSnzOy5y/iMCAOBnm5nqodzuM+FlHombMnKmjN0eslRIwXgGKWt7QV0PYDLNYHc3IXvaNmhUCObt3yevr4tgEpNzTepKP/kmBh7papWVNWKpg3jJjuJ6O3tZfPmzWzcuJH29k7ABdTgdDqZPHkyU6dOZeLEiSfthIuKCliwIMCKFSs4cOAAs2fPZsGCBbhcriGvmTYNpk5p4NFHH6W5qZ26g53MmVPOFVdcgdN5cv5AkUgkkiNFjgE8Bk7lMQQbN32Cjo5Xqa7+ChOqv/yOldvZ+QZbt91MNNqJpuUwa+avycs79x0r/2RF13V2797Nhg0baG9vJzc3l4KCAvLz88nPz6eoqAiv950TjYGAKZrefvttEh8RmqYxdepU5s6dS3V1ddzDd/oSjUZ55ZVXWLVqFQA5OTlce+21lJWVnWDLJBLJsXIqf3+PFlIAHgOn6gMUjXaz8vWzESLGOWe/gNs98biXKYTBwYP/x779vwAMPJ7pzJ71O5zO8uNe9slMe3s7GzZsYOPGjfgPMziupKSEqVOnMmXKFEpKSo6Lx1TXddauXcuKFSsIBs2g2eXl5cydO5cZM2YMOaP2dKauro7//ve/dHd3o6oqixcv5uyzzx4THmuJ5HTlVP3+Hk2kADwGTtUHqLHxIXbs/DYez1TOPuvp415eNNrL9h230t7+EgDjxn2AKZNvx2I5fcWEOWYvs0Boa2tj165d7Nixg4aGhuRxt9vN3LlzmTBhAt3d3XR0dNDR0UF7ezudnZ2kvlWzs7OZMmUKc+bMobS0dFTEyL59+3juuedoi89+KCoq4oorrmDChAnHnPepTjAY5IknnmDHjh0ATJkyhfe+973DdiVLJJKTl1P1+3s0kQLwGDhVH6ANGz9OZ+dKJkz4GtVVXziuZfX0bGTbtq8SDNWhqjamTL6d0tJlx7XME0lTUxOPPvooHR0d5OTkkJeXR25uLrm5ufh8Pnbu3ElHR3+4G0VRqKmpYf78+UyePHnIblW/38/u3bvZtWsXe/fuJRaLJc8VFxczb948Zs+efcSCRAjB3r17WblyJXV1dQA4nU4uueQS5s+ff9p38x4JQgjWrFnDCy+8gK7rZGdnc8kllzB16lTs9ncuRJFEIjl2TtXv79FECsBj4FR8gCKRDl5/YyFC6Cw8ZzkuV/VxKaeraw21B39HZ+dKAByO8cya+RuysmYdl/JONEII1q9fzzPPPHPYFS5UVaW6ujrZnXukz040GmX//v1s2bKFHTt2JMuzWCxMnjyZCRMmUFZWRnFx8ZACzjAMduzYwcqVK2lubk7adeaZZ3LRRRfJyQ7D0NjYyMMPP0xXVxdgjo2cMmUKs2bNoqamBk2Tc+skkpOdU/H7e7SRAvAYOBUfoPqG+9m163t4PTM466wnRjVvIQQdna9SW/t7enrWAmb4lOLiq5g86btYrTmjWt7JQiQS4emnn2bTpk0ATJ48mcsuuwyfz0dXVxednZ10dXWhaRqTJ0+mpqZm1MbSBYNBtmzZwoYNG2hqako7p2kapaWllJSUJO1MbB0dHUkBY7VaOeOMM1i4cOEp8xyfaEKhEKtXr2bz5s10dnYmjzscDiZMmEB5eTnl5eWUlJRIQSiRnIScit/fo40UgMfAyfAADTfWLBPrN3yUrq43mTjxG1RVfmZUbIhGe2lufpSGxgfx+3cDoCg2SsddQ2Xlp0/YCiPvBO3t7fz73/+mra0NRVG49NJLWbRoEao6MOr+8aepqSk5rrC+vp5wODxseofDwdlnn83ZZ58tx7IdJUIIGhsb2bJlC1u3bsXn86Wd1zSNsrIyKioqqKqqory8/KQNmSORjCVOhu/vE40UgMfAiX6A2trauPfee5kxYwZXXHHFYUVHONLO668vBAwWLVxxTDNwhRD09m6goeEBWlqfwTBCgLleblnpdVRUfBK7vfio8z/Z0XWd1atXs2LFCqLRKB6Phw984ANUVVWdaNMAs4u3o6OD+vp62tra0DQNm82W3BwOB9XV1XLs2ihiGAaHDh2irq6OQ4cOcejQoeRM6gSqqlJWVkZVVRUlJSXk5OSQm5uL0+mUs4olkneQE/39fTIg+yZOYXbv3o3f72fNmjUYhsG73/3uYb9EWlufBQyyvLOPSfwZRpTNmz9NR+dryWMe9xRKy66jpPi9WK2n95upvr6eJ598kpaWFgCqq6t5//vf/47G6TscqqpSWFhIYWHhiTZlzKCqKpWVlVRWVgLmj6T29nYOHTpEbW0ttbW19Pb2JsVhKjabjZycHLKzs8nKykpuXq+XwsJCsrOzT0SVJBLJaYwUgKcwbSmLla5duxZN01iyZMmQIrC19RkAiorffUzl1tb+lo7O11BVG8VF76Gs7Dqysuae9h6MUCjESy+9xNtvvw2Ys2UXL17M3Lmnf90lR46iKEkRPn/+fIQQdHV1UVtby8GDB+no6KC7uxufz0ckEqG1tZXWgYsWx8nNzaWqqorKykqqqqrIycl5ZysjkUhOO6QAPIVpb28HzJhku3btYvXq1VgsFi677LJBgiQcbqG72xQuxUXvOuoyu3vWcaD2twBMn3YXxcVXDpk28PbbtP/hj4R27cRWXoFtQjX2CRPNfc0krGWjE7/ueBMMBlm7di2rV69OBmueM2cOixcvxu12n2DrJKcKiqKQl5dHXl4e8+fPTx6PRqP09PTQ1dVFb29vcuvr66Onp4f29na6urro6upiw4YNALhcrqS3MNVr6Ha7cbvdeDweXC7XCRmLKpFITg2kADxFSXQvAVx88cXU1NTw9NNP88Ybb6BpGhdffHFa+pbWZwBBdtY8HI7SoyozFvOxbdstgEFJ8dUZxZ8QgsCbb9L+u98TWLs2eTzY1k5w/fq0tJacHBwzZ+KcPQvHzFk4ZkxHKyhAOUliz/X29vLmm2+ybt06IpEIAHl5eVx55ZUyOLJk1LBarRQUFFBQUJDxfCgUSutGbmxsJBAIEAgEBs38TkVRFBwOBzabDbvdnjYGVNM0rFZrctM0DVVVB22JfBI/1BKvFUVBVdVB51LLzrSNhNR0A4eoDyxrYJ6KoiSvGbgfyFDHB9qbmudoM9J8h2qHga8z5TdUW2VKPxJ7hmu3w6Ub6TMw8Nq8vLwh3x+So0cKwFMUn89HKBRCURTy8/MpKSlB13Wee+45Xn31Vex2O4sWLUqmH43u3927/4dQ6BAORxlTptw26Hxw0yZafnIHwXg4FMVqJfua95N91VVEm5qI7D9AeP8+Ivv2Ez5wAL27G//rr+N//fX+TCwWtPx8tMJCtKIitMJCLLm5WHJysOTmmPvsbFSnE8VmQ7HZUWxWVLsdxWpFsVpB047asxgIBDhw4AC7du1i69atGIYBmKtinHvuucycOVMGR5a8ozgcDiZNmsSkSZMACIfDdHZ2Jj2FPT09SY+h3+/H5/MRCAQQQhAMBgdNRJFITjUuuugiLrroohNtxmmHFICnKAnvX05ODlarFYBzzjmHWCzG8uXLWb58OZMnT6agoIBgsIGenvWAQlHR0qMqr6X1WZqaHwFUpk//XzQtfcKD3tND3aduwujrQ7HbyVm2jPxPfgJrPAbdQIxIhPCuXQS3bCG0ZSvBLZuJ7D8Auk6stZVYayts23ZUtqIophjUNBiqC0xVIS4SDQS6bqAb5gZQqShUKAqapmF3ubDabChPPEltan4JkamkHsrwa3y4H9VCgGGAEAgEGKI/bwUUJW5nYhtQ3qD8hUjmKRKvh/pVr6pmGSj97ZEqnBPFDeU5ECRtT9qfAQUlvQ4ZyhiqnMGVJf36RJ3NF4PtS96DFNsGtOXwPxZSzwmEIdLuWVp+yW2Y7EZKskoibUu9pxYgVwhyM5qtYMSfAbMZ+u9Rsmni9RYpm1knM4EQAiXZfkZ6e8bTJM1VIN6YyXyT1YifMy3JfO/T6jxEgygD2yT1WEoWR9T8A95TQvQfS9qeOJZIcwQlKCn2JnMVqSdTyk+pX/K6YewWA/ZD1o2EJzRDsoFlHq4F4zYpA/4eCWLA+06kv/mHvdbqdIIUgKOOFICnKIkJIANneZ577rkcPHiQPXv28PTTT3PDDTfQ0PgAALk5Z+OwZxZkwxEKN7Nz53cAqKr8DLk5Zw5K0/GXv2L09WGfVEPFX/+KdpjZp6rNhnPWLJyz+lcGEbEYsY5OUwC2tSX3ene3uXV1mfueHoxIGBGJIsJhRDic/kEkBCISQcS7bUeCJb5lpLeX6IhzkkhOXhRGR59KJO8kBW7PiTbhtEQKwFOUhAdw4LgIRVFYunQpBw4c4MCBA2zevJae3gcBGF9+wxGXI4Rgx/ZvEov14PXOpLr6y4PSxNrb6bzvPgAKb775sOJvKBRNw1pchLW46IjsW/PWW6x+4w0sQuB2OHDbbLhtdpxWjUgkQiAQJBgMEAgG8fv8xGJREKZPAgEup4PxZWVUlJczvrQUt8vV7+kRhulNMwxIWeIto3cv7ddw/Jf0UF67lGSKmvDAqf3pRPy/hHcw4RnMVAak/YLuz88sfygPV5qHUAizjolsM3jV0un3dimZvIepFUkrI0N+Q3oRRpg24dpIlp/SJhm8mEnv4LBlp9ieSKeqZt6q0l/nNM/c4fIbAUN5YNO8pwnvcOrzlXLdgB9Dg2plxL18qc+WMMj0vPbfW/WwZYqEVzTxfkmey2RLSrsegedXUTO0xVEzxLOUek8TyZKe0Qx2H3a4SfyZSbU7xTOffHYS7ZvsnRjCmzzUZ8PAemS8cAhPYeq9Hao+Q73PRkyKzUO+BzO/f6zjxx9hWZKRcEoKwNdee4277rqLdevW0dTUxKOPPsrVV18NmDPqvvvd7/LMM8+wf/9+srOzueyyy/jpT39KaWn/5IdwOMytt97KAw88QDAY5NJLL+V3v/sd40+RB20oAQjmgNkLLriAl19+mXXr/o/Kqi4cjjIK8i894nJa256ls+t1VNXBjOm/QFUHr2LQ/sc/IoJBHLNn47nkkiOvzFESCAR4/PHH2bVrV78tA1ZiGITTgd2eTVVVFdXV1VRXV1NUVHRKzEaWSCQSiWS0OCUFoN/vZ86cOdx4441cc801aecCgQDr16/ne9/7HnPmzKGrq4ubb76Zq666irUps1JvvvlmnnzySR588EHy8/O55ZZbuPLKK1m3bt0pMch/qC7gBIsWLWLTpo3kFzwFwPiyj6KqR3a7dT3M3r0/A6Cy4tO43YNnvkabmuh+wPQwFn7ly++YkKqtreWRRx6hr68vGfqmtLSUQCCA3+/H7/cTDAax2+14PJ5keAy3201ubu4pcY8lEolEIjlenJICcOnSpSxdmnkyQ3Z2Ni+++GLasXvuuYezzjqLuro6Kioq6Onp4S9/+Qv33Xcfl112GQD//Oc/KS8vZ/ny5SxZsuS41+FYCIVC9PX1AZk9gGCuQXrJpRU0N3eh6xYU5fwjLufQob8RCtVjt5dQWXlTxjTtv/s9IhrFddZZuFNmHR8PhBD4fD7Wrl3La6+9hhCC/Px8PvCBDzBu3LjjWrZEIpFIJKcTp6QAPFJ6enpQFCUZPX/dunVEo1EWL16cTFNaWsrMmTNZtWrVkAIwHA4TDoeTf/f29h5Xu4ci0f3r8XhwOp1DptN1Uwi3tk7gwP7XuOmmKSMODBsOt1F78PcATJz4dSwW16A0kdpauv/7X8Ac+zea3r9wOEx9fT2NjY20t7cnt9T2nzdvHkuXLsVmG9wtLZFIJBKJZGhOewEYCoX41re+xYc//OHkgs/Nzc3YbDZyc9MDKBQXF9Pc3DxkXnfccQe33377cbV3JAw3/i9BKNRIW9sLAHS0z6arq4nVq1enxQYcjv3770bXfWR5Z1NSfFXGNG2/+S3oOu4LL8A1f94R1iKd7u5uDh06RF1dHYcOHaKlpWXIQKL5+flceOGFzEqZQSyRSCQSiWTknNYCMBqN8qEPfQjDMPjd73532PRCiGG9WN/+9rf52te+lvy7t7eX8vLyUbH1SBiJAKyv/ydgkJu7iEWLruXpp5/mhRdeoLOzk8WLFw/rNevr205j08MATJr8XTMW3QBCu3fT+/TTABR95Ssjtl0IQTgcpqurKyn46urqMnpTs7OzKS8vp6ioKLlSQl5eHpp2Wj+2EolEIpEcd07bb9JoNMqyZcs4cOAAL7/8ctL7B1BSUkIkEqGrqyvNC9ja2jqsh8xut2O324+r3QBdXWvo7HyN7OwFFBRcPOj84SaA6HqQhkZzYkb5+I+Rn7+Arq4uVq1axdq1azlw4ADXXHNN2qzoBEIIdu/5ESAoLrqSnOwFGctov+ceEALvkiU4pk83j9XVEo2EGVczhWg0yv79+9m9ezdNTU2EQiGCwSChUGhIz15JSQkVFRWUl5dTUVGRds8kEolEIpGMHqelAEyIvz179vDKK6+Qn5+fdn7BggVYrVZefPFFli1bBkBTUxNbt27lzjvvPBEmp9HZ+Rq1B39PaemHMgrAw3kAm5sfJxbrweEop6DgYhRFZfHixUycOJHHHnuMjo4O/vznP3PJJZewaNGitHGB7e0v0t39FqpqZ+LEb2TMP1JfT9+Ly0FRyP3Mp9nyygtsWf48TXvNcCw58xfSFBXEYrEh62iz2Rg/fjwVFRVUVFRQVlb2johriUQikUgkp6gA9Pl87N27N/n3gQMH2LhxI3l5eZSWlvKBD3yA9evX89RTT6HrenJcX15eHjabjezsbD75yU9yyy23kJ+fT15eHrfeeiuzZs1Kzgo+kbjdkwHw+/cMOheLxejs7AQyewCFEByq/zsA5eOvR1H6w51MnDiRz33uczz55JPs2LGD5cuXs3PnTi6//HIqKysxjCh79v4UgIryT+J0lmW0r/vh/wAQqirnr3feRiQYMMvGDA3atX41oryG7LIKJk+eTHV1NW63G6fTicPhwOl0Jpevk0gkEolE8s5zSgrAtWvXcvHF/Z6xxLi8j33sY9x222088cQTAMydOzftuldeeSW5oPQvfvELNE1j2bJlyUDQ995770kRH87tNhd99/v3DBqX2NnZiRACm82G1+sddG1v7wb8/t2oqpNx464ddN7lcrFs2TI2bNjAs88+S319PX/729+YNGkSZ56pEQwexGrNo7LysxltE9Eo3Y88AsA2I0wkGMCw2onmFBDNKSC7pw29tZGs1jo+9PkvUDyhZjSaRCKRSCQSyShySgrAiy66KOM4sgTDnUvgcDi45557uOeee0bTtFHB5ZoAqMRivUQirdjtxclzqd2/mSas9Pl2ApCbew5Wa+YxdIqiMH/+fGpqanjttddYt24de/bswWZ/ibw88HqWousaA+daCCGof+xx9PZ2wpqFlrwsAuNr0F1eqidM4LzzzqOyopxHf3obdVs38+jPbufDP/pfsgpHvrSbRCKRSCSS488pKQBPdywWOy5XJYHAAfz+vWkC8HATQIKBWgBcrqrDlpOVlcWVV17JwoULefXVR8jKbgTg+ef9PP74HWRlZVFYWEhBQQGBQID9+/ez4JlnGAfU53mJenOpmX8m5513Xtps6Ktu+Q4P/uCbtNfV8sgdP+BD/3MnTs9gb2Uq0UiYQHcX2UUlh7VbIpFIJBLJsTGyqMCSd5xEN7DPvzvt+OEmgASCBwFwOatGXFZ+fj5z5vSiKBCJ1KCqpuDs7e1l3759vPXWW2zZsgXR0kpJkzme8lBeFpd/8MNcd911g0Lh2F1u3v+t2/DkF9DZcIjH7/phcpzgQPzdXbzx7/v40+dv5M9f+hTbXn1pxHZLJBKJRCI5OqQH8CTF7Z5EW9sLgyaCHNYDGBeATmfliMsyjCiNTebEjgXzv8rSK64gEAikrcChaRrjV65EB9o9TiIeN7PPvXDIPL35BVzzrdt48AffpGHndh74/je4+uvfI7vIFJdtBw+w7unH2fnGCvSU2cIv/+0PlM+YRVaB7DaWSCQSieR4IT2AJympE0ESGIZBR0cHkNkDKIRBIGAKwPqGfxIKD72qSSrt7S8TibRhsxVQUHApYE4WqaioYP78+SxevJiLL7gAZbnpnavLz6Ji9lysDsew+RZUVHHNd/4Hd04u7XW1/Ov/fZX67VtZ9fC/+Mc3vsS2V5ejx2KUTp7Ge776LcZNnkokGOCFP9wzonGcEolEIpFIjg4pAE9SBs4EBrNLNhqNoqrqoGXsAMLhZoSIANDevpzVqy/n4ME/YBiRYctqaHwAgHHjrkVVM4dn8b36KrG2NqI2Gy1ZbmrOOGdE9RhXM4WP/OQXFFVPJNjXy8M/+i4bXzBXEJl4xtlc98Ofc90P72LyOedxxeduRrPaOLh5A1tefn5E+UskEolEIjlypAA8SXG7qlEUC7FYH+FIC9Df/Zufn58xXE0gcCD5WtO86HqAvfvu5K01V9LZ+UbGcoLBOjo7VwJQVvrBIe3pfshcGq4u24WwqEyYf+aI6+LNL+BDt/+MyQvPx9BjBOPLvuWUlLJr1Ws89/tf8sTdP+G1f/2NkhozBuLLf/sjDbu2IwxjxOVIJBKJRCIZGXIM4EmKEAKHo5xgsBa/bw8Oe8mIJ4AAzJr5W0LhJvbu/RmBwD42bLyBkuL3MmXK7Wha/4zchsaHAMjLOx+nM/O6xtHGRnwrTZF4KN/LuElTcOcM9kAOh9Xu4MqvfIMXnE62vvwCAOueenTI9Ho0woPf/waazUZJzWTKpkynbMp0xk2eisPtOaKyJRKJRCKRpCMF4EnI3n0/5+DBP+ByVQNmN3B+/vmHnQDS17ct/kohK2suedq5FBYsZv+BX1Bf/0+aWx6nu2c9M2f8guzseRhGlKYm07NXVnrdkPZ0P/JfMAz8JUUE7DYWjLD7dyCKolBcXcNWXsCTl0/Nmedgc7qwOV3YnS5QFLpbmmir3U/d1s2AIBaJUL99K/XbtyYyoaC8kinnnMf0Cy8lqyBzW0gkEolEIhkaKQBPQuy2AsBACLP7MzER5HAewIQAtNuL0TQ3AFZrFlMm/4CS4qvYuu2rhEKHWLf+g1RXfwWXs4pIpB2brZCCgksy5ikMI7nyx16n2e08ccHZR1239jqzm3ra+RdzwYc/PmS69c8+wSv3/hHNauOcD1xHV2MDjbu309XUSHtdLe11tbzx8L+omj2PmRdfzsQzzkGTy8tJJBKJRDIipAA8CfF4pgMQi3YDIxeAwWAdAF7vjEHnsrPncfZZT7Jz1/doaXmS/fvvRlFsAJSO+8CQkz/CO3cSa24Gh50mj5PccaXklY0/6rq1HawFoLCyeth085ZcyZ41q6jfvpW9b7/Jh27/GRbNir+7i9pN69m2YjmHtm+hdtN6ajetx+H2MPmc85h67gWUTZuBqp74Jf0kEolEIjlZkQLwJMTrnQZANNYFgM+/B5/PRyBgBlMeKgRMLGZOrsjLXZQxX03zMmP6L8jPO59du29D1wOAQukwkz/8b64GIFBchKEqTDzjnIxL0I0EYRi01dUCUFhRNWxaRVVZ+vmvcd83v0zz3t2svP/vXHTDp3Dn5DLjwkuZceGldDc3se3V5Wx99SV8He1sfuk5Nr/0HO7cPKYsPJ+piy6gZOIkFFXOdTqdEULQG4xxqCtAfVeQhu4gnf4wCgqKYg49UBVQFQUFUFXzuKooaKpCjstGnttKrstGnttGvseOxy4/GiUSyemN/JQ7CdE0Lw5HOaHQIcCCrvtoaTHX+M3OzsZmsw26xu/fD5jhYhKx/DKhKAolxe8j2O7lQN2v8HqmDzn5A8C/2hSA9UoMsDFxwVlHXa+etlaioSAWTSN3XNlh02cVFrHkczfz+M9/xLqnH6N8xqy07uecknGc+8HrWXjthzm0dQs7V73GnjVv4O/qZP0zj7P+mcexOV2MmzSFcZOmUhrfOzxyEsmxIoQgHDMIRnQCUZ1gJEbMEBgGGEIgBOhC0BWI0NwToqknRHNPkKaeEKGojoJC/B+KAoYBYd0gGjOI6AZR3UAIsGkqVouKTVOxWRQUFMK6QTiqE4kZhGMGPcEovnDssDaPFEWBy6YV89kLJ7Kg8sgmO0kkEsmpghSAJyle7zRCoUPYrLlEou20tW0Chu7+7eh4BQBFsWQUdEIIWvbtYeeq19j15kp8nR2AgqLsorx0F+MmTRl8TSRCYO1aAFpsFpzeLEqnTDvqOrXFx//lj6/Eoo3s0as58xzmv+u9rH/mcZ777S+4/s5fD1olpKk3wi93wPlnvZ/PfOKz1G3ZyM43XmXfujVEggEObt7Awc0bkumdWdl48wrwFhTgySvAm5eP05uF1enE7nRhczqxOV1oNhuqRUO1WLBoGqqmoWlWNJvttPEqGoagzRemrjPAoc4ALb1hWvtCtPaFaesN0+4LE4rqxAyBbghihiCmGwSjOsZJFqu7wGOjLNfF+BwnhV47YD73hgCBQDcA+kWqISCqG3QHo3T5I3T6I3QFIgQiOi9ub+HF7S2cVZ3H5y6cyEVTCo/a8y2RSCQnI1IAnqR4PdNpa3sBRTW9fcHgPsBGdnZ2xvTd3W8DYLXmc2DDWtoPHaS3vZWO+kP0tLYQ6OkmFgkn09ucLrz5BXTU1/H8//2Kj/70V4MmUQQ3bUIEg+guF30OGzPmn3VMY+vaak0BWFhZdUTXXfCRj9Owczst+/fw9K/uYtkP7kgTkL95eS+Pbmjg0Q0N/H1VNt9/z3Te/eWzMHSd9kMHady9k6bdO2jau4uupkaCvT0Ee3tord131HWxWE0hqNnspjhULSgWC6qqoqoqimoxPVyKihJ3cylmf2Tc+5XonlRT0in96aBfcCT+hrTzMQN0w0CPizNDmOIsHDPi3jHTSxYxlQ9qitdNQNKDZwgQSrKEJIVAIf0qTxlC8KmKgqqa+xRzUVDQLAoOzYLdquLQVGxWC1qKeBbx/BPdtSqk5WWIfo+iIQQIYXblqgqWeDeuRVVwWC1YVAV8mBum+CMeRD3VdCWlDUkVdSrggUBY52CHn6aeEEaL4D+r4Tm7Rq7LhtNmwWnVcNksOKyqWaZZWObGSdjR/0fmRAPv+TFw2FV0hjs/wI5BbXi4vOPd7Kl5peaXli61jJHknWJPppSZys2QwWHLyEjqM/NOkrENh7NjpPVLf6/CyJpGSfmc6H8PJXb9mQkEwhDmK9Fv11DPZnrbDq7f1EXnM3WYpUclR4cUgCcpHq85EcQwTNEWjdUBNbhcrozpfX6zi1jR8/nvT28bMt+quQuYc9lSqubMJxoOce8tn6ejvo7VjzzAeR+6IS1tYvxfh9cJisLEMzJ3/+pC8HqXj/+0dLLdFyRsCEKGQUgXhA0DAWRpFnCXo7z3JsYVFvLk9oMUWDUKbPHNqlFgs5JvtZBv03CnBLq2aFauvPmb3PfNL9O4ewdvPPTP5AxiIQQr95jhcTRVYVN9D9f8/k2unD2Oby2dyviqCRRVTWDu4ncBEPL76G1rxdfZQV9HO30d7fg62wn5/USCgfgWJBIMEItGMGI6hh5LW68YQI9G0aNRwn7/kG19orHGN/eJNiSOAYROtBEjxA5UpR4IAF0QA/rim0QieWcoqppwok04LZEC8CTF64lPBImaE0GEaABqcDqdg9IKoRMKmev+Nm/rA/oDPVvtDnLGlaJHonQ2HiLQ3U31vDOwaBqazcaln/wcT959B2se/w+TzlpE8YSa5LV9b5irhzRbVRxuD1Wz56eVu8MX5OHmLv7b0kVzJDpsfXy6AU4vOL00AGtbuoZN71QV8qwauVYNLT6IP3zjN+lqrOcBw2DC6+upKCjEEjOozVLR3C6+vXQaL21v4fXdbTze0Mkzf3mTr146iXMn5GNRFTRFwaJYsBSWohaVkq0o5AAWRaHAquGwDN2tK4RAGAaxaIRYJEIsEo7vI+ixKIZuIAwdQzcw9BiGbhCIxgiEY/hCUfzhGMFwjEA0RiiiE4rqhOLnk1skRigSwx+OEo0lVkBJ8cCl/J14bVEVc4ycpX+snNdhxevQyHJayXLacNs1FBKeNJHsus12WMlzW8l2aqgJt2Daj+8MXqmhnA+Drs1wnuG8U/0ZjKi8wxHPLuFtTeTb70ESIEbgLQOCUZ3tDT20+yN0xLuKO/1hAhE9zUCB+SNEURSienq+I/HLZKqqpkKOy4rTpuGyWnDZ+jePw4rXbsFjt+JxaGQ5rNisar8nZhiPVSZv1kBPnECkeKuH8eYNvH5AXkl/nciU1rxRqd6kgZ6klGTxJINtymTDoHr0V+CI6pKaT4phw78XUvIZ6ClL1mHIy9Pby7RlcBsOX8ZI3owDrs102ZD3LHFs4IuBz42Zqdm70V9Aapnp78HM75Ti6pqMxyXHhhSAJyE9rS201R1CES6EYs78VWgCBO3798K556al9/n3ADoAnfvNY2dedQ1zl7wbb745dsnX1cnfb/0CrbX7eOvRf7Po2o8AMPnsc5m88Hx2v7mS537/Sz56xy/McCstzYQ2b0YB+grzed+3bsPqcADmG/Yz2w/yRGt30oYczcJVRTlclp+FV7NgVxUcqooj3t3XEQhw3x23EbLaWfTpLxPQbLRHYrRFojSHIrSEY3TGYvToBlEhCBqChnCUhnCqsLRASSUA9VGgqcM8PDWHGPCdumbwAPPNcZJR4MfdnbC+87BtrgA5ikqRxUKxRaNEs1Bg0chSFbJVC1mKiiv+ASZIjCFTEcJOl1+hsSdEQ1eE+u4gjd1BOnzhIcbIqfFtiJiFKhDX+F67RqHXTqHXTlGWg/JcJ+V5LspzXZTnOSnJdmDXZLibd4JMkS87/RE21Xezsa6bDYe62VjXRW8o3VNsURVcNgslWQ4q891U5ruoyndRke/GabUQjU94ieqCSMygvivA7hYfu1v62NPaRyga/yEQjW+B4azUKc7SqMx3U5XvojLfTaHXnhT9umH+AHDaNGaWZVFT6EEb5kePRCI5vZEC8CRk04vP8PYTjzDxSvCWgTDAokWx2QPsXPECXj3ERTd8Kjker7vr7eS14R47Vrudcz94fdo4OU9uHpd+8nM8/as7Wf3ffzNxwdlJb9+ln/gsh7Zuor2ulrcefYi5i9/N8m98lclCEHTYeM+P70rzDL7Y0csTrd1oCizOz+YDJblcmp+FfZiJEY76A+Q1NdOaN4md/3ycSOM+AoYFn7CCaidHteOw2HFp2fQ4cgg6XWBTEdZ4nqm/cBUFYVPBqiJsav9rNf4r04z50T/FVImPcUs9lsgL87hQFbqEQVfMYFcsCmEGYwiIGCgRHSVqmK+jBkQNFF2Y54VA8ajgdIAhsCkKXquFLJuGx2bBbbXgtltx2yx47Rpum4Vsp5Ush0aO00aWQyPXZaXIY8dj07AoijnGLoM5AgjpxqBjRnzcjUFcqCaajUTzKMnXmfJMbEbKL3Oz2Uw7lAHpB+7FEGO0DkdyhNMRjrUSSQ9N5jyTYypT7MuUfmDaZBvFvVJiQLsqNpV5E/JYMDHfvD9C0NQTQlHAZdVw2izYtMwtncnWgX4QwxA0dAdo80XoCUTpCUboDcboDkbo8kfj3sgwHf4IHb4IwahOcyBCcyDCW3VDeNhTCnFaLUwb52VGWRZzynM4b1IBXrt1+PF1Q2Q5VLsOet5SPHyJY6nPqR4XqwmHkUr/c5epLFLzV8xxrvGRZ8T/ZbzPA5tjJHXO+LyQsFWJ18Us1Mhgp5IyPlJN+TvxsWQI0OmfQZ943ybe/4n6jeTdMdTzNbBdjuR9mslbPtz1A9/Ph2vP4fKwqcqw3y+So0MKwJOQvLJyiqonYtdUYBsKTiCI29VNWI+x4dkn6W1r5d1f+jpWh4OmenNtXWFApM/K9PPPzTjLduqiC9iz5k12v7mSZ397Nx+945doNhuurGwu+cRnefpXd/LWow+x4/UVjNt3AIDcSy5NE39CCH5+wOxu/mx5Ed+dWDpsXTbXd/PExkZeXruTvKwZzO3YjLNt42HbIKza6bVl02nNZVvOLNocxclzihBYIgFsRpiYasVncXPOhDzy3bZkfDeLqrChrovajgDluU4WVObGP5BTRIogPjtUEEDQaxH0qQKfphDQFCKaQjS+1y1xUemwIByWEX9wRgE/0DzojAFE4pUNmoKzZ4SZSsY2tviWq2F+hB/dKM8w8CbwJjHoaoc17aNmokQymtxaVcKt1SUn2ozTDikAT0JmXnQZMy+6jKamR9m+41asdgfRaBCXq4dFH/0kb9z7f+xb+xb/vv3bLPnsl+nqfBvNCbGgFYRCzVkLh8z70k98lvrtW+ior+ONh/7JhR/9BABTFp7PrlUr2fv2m3Q3NzE7aIqT/MsvT7v++fZeNvuCuC0qnysvGpQ/mOLqtT3t/N+KfWzY08C8no1c1rsNu4gLHm8+lYsuxm23okaDEA4SCfgJ9HTT3dKEr7MDuxGmMNRKYaiVKX27qDnzHM794PUUlJtdwDtWvsIzv/lfBPBi1fv416fe1T8jM87GQ91c/ds3aO0Lc/t7Z5LtPPql4kK6QVs0RkckRmc0Rlc0RmdUpyMaw6frBHSDoG4QNAwCukHIEIQSe8MgbJhd24YwvQQJh2G/ty4RruTIfpVLJBKJRHI0SAF4EuONzwSOxcy4Fi53NzMWnU9peQWP3/VDWvbv4f7bPsvM681xcsFOK5rNTtXseUPm6crK5vJPf4nH7/oha596lJozF1I2ZRqKonDZpz5PW90BHLrAs8kMkeI6u3/0kxCCn9eavqxPlhWQb0t/fGK6wdNbmvjDq/vZ3tSLUw+wrPFRsuMrlBgozLt8KZfc+BlUy9Bj16KhEN2tzXQ3NbJv3Vtsf+0V9r69mn1r1zD9gotZ+IEPM+38i3nmhZUou9dwSdNywn3X4MrOSctnzvhsppZ42dncxxMbG7h+YdUIWj0zDotKucVGuWNwEO7RRqR0h5lC0fx7pKjxriJLossorosT8fBE/PWgckntJu7v1kp0HSUEqpEyqD7ZzcOAXvohuqoyd01llrzDjbPPbHe6Tckur8TrlK7FkaQVqcdFepedmtI2CfGeEPNpNqdOXEg/lLFuox1pZFA9YPCECsxnbndzH89sbeKZLU3UdwYBc1LLdWdX8KVLash22oa8JwPvPfQ/a0PZkDimEu/mVMCCuQfSnjcjpV1Ty0rNP639U57f1GczbW7HgHOZuoYT1wxMM6he8WEPqd20ifdQalvAYHsTXeCWeFdvoi3U+LUDn6+BNg68J8M9QsO1Tab6Dswv07t66KEk6XXOaE+Gtk/NI4FlRJ8EkiNFESOZBifJSG9vL9nZ2fT09JCVlTXq+RtGlFdfm41hmJ6zvt4CrrrqTVRVpau5kUd/ehuGcyfVlzcA0LYlF2f0at5763cPm/dzv/sF2159idxxpdxw52/Q4quL6LEovueep/HWr2OfNo0Jj/43ec0zbd18YmstHovKmoXTybP2C8CmniA3/WMtWxtMsZel6Xy08xksHfVkFRQR6O0mFolww12/OewycAPpqK/j9QfvY+/bb5oHFAWbw4E/Bmo0hAWB1eEgu6gkHuOtP7ZeRyBGbXcYp8POWTVFWDQrVrsjHuzZidVh7hOx/FSLBUVVUS0WVE3DomlYLNb+QNDx2H9Wux3Nbsdqs6OoihkuxtDRYzGEYSCE6A8gbbEkA0rLYMKSkx0hBBsPdfPbV/axfEcLYM5E/trlk/nwWRVy4ojktOB4f3+fCkgP4EmMqlpxuyfT17cVAJe7JykgcktK+dD/3MWalZ9HxxSA4R4bsy4cuvs3lYs+dhO1mzfQ1dTI2088wsIPXAeYMfcSy7+5zzknmd5IGft30/jCNPG3pb6HT/79bVr7wmQ7rXxiUQUlb91PfUc9Dm8WSz73FR7+4XdQLRp5pYdfAm4g+eMreO+t3zHXBH7wH9Rt2UgkGEybRxsNhWiPrzM8kPEAIdi39sARlz3qKEo8ULQ6IPgzpIdLIO0nsIiHcBHCML0nwogHWh22qLQ/FMxxjKlhNBQ1IZiV9ADJkBK4eqhMUxg4AWDg78pEPkNEnj2aX6HD2nUkv2uPRpQnB7anX3tU01+O5Td4pmsHBRAfgY0Z8jkTmB0z6AtFiemCAzvhZ6qCx2HFYbVkGNUvDl+XIw3SnClg93AcD3/GUJMfEs/8wIkeyfe0mnRT9ns+B78v0spJTKBKTZf63snUDiMJNM6A99hRvj+UDMcyBVvPmM0Iy8iU5xlXvo8zrnzfYUqQHClSAJ7keD3T6evbihAKFkuUcLgJh8OceOHKysZV5KcvHpU20mdnwgjX6nW4PVx0/Sd5+td38dZjDzHtvIvIKRkHQCAeANq9sF8APt3Ww3Z/CK9F5TPlhcnjz29r5uYHNxKM6kwu9vDnG85gx8N/ZuuW9Wg2O+/7xvcJ9JqzG/LHl2PRjn4cXknNZK797o/wd3exfHMdtz+2icpsG1+bFGLN4/8BoHTyNM646v1omhXDMGPy/eXVPWys7WBRdTZXzigiGg4RDQXNgM+hINFgEF03PXeGrpuboWPEdPRYFD1mBoI2gz9HiIbNGICGfhTrzwqBoeug60fdDhLJO4kj9Q8dYtHkYisSyTtCJBg80SaclkgBeJLj8U6DJtB1C5oWw+ffnRSAuh6gr29bMm1e0UycHu9QWQ1iyqIL2PLKi9Rt2chLf/s/3v+t24jW1xNtaABNw7VgAWB6//43PvbvpvJCcqwaQgj++Np+fvrcToSACyYX8psPz2Prkw+x9ZUXURSVd3/lG5ROnsqbjzwAcMRdv0PhzsllTUc9nbZ83jO3kvPfO5OCiiqe//0vady9gzWPPczVX/8e7pxcAN6TN5kH//wWDX0aX7/0Mpy20Ymdp8dixCIRQCSXgrPEu5CBpIhM3QvDiO9Fsqu4PzBx6rJJg38vm57DdI/dkD+rB3gPE4OuhDDMMuJlCiPhVYzb03/RoLAPaYGCM3gihuveFpm8QykBmo+FjKNYUmwcmP+IlmZL5Vi8iyPlMJ7VI7r2OI3q8YViPLapkSc2NsSDYENZrpNlC8Zz4ZQiNHUID9VwDPEspZ0/Uo7EWziStMM8SwOPJTz1pOwHBa3ONCAx5VwkZnCwI0B9dxCnVSXXZSXHZSXHacVmUTO/X47w/TiS84n6DHvsMG2Tes2Ig25nyC/xWS4ZXaQAPMnxesyJIEp8IVa/fw8F+RcB0NOzAeLTA4QB1bMuPaK8FUXh0k98jn98/QvUblzHnjWrKKw1u5Odc+egus3wEk+2dbPTHyJLU/nMeNP7d/uT27l3VS0A159TyQ/eM53tK17gzf+YYu/ST36OmjPMCSTtB810BZXVR94AQ/D6XjNkxfmTTHumnXcR3vwCHv/5j2neu5v7v3sr7//WbeSPL2fhhHzK85wc6gzyzJYmrlkwflRssMTHCA6FqlpQR0lsSiQnmmLglulT+dTVUf6xqpa/vHGAjYEoG1d2U7YlzI3nVvGhsyrw2OXXykgxDMGWhh5e39vO9qZedjb1cqDdP0QQechyaIzPdVFV4KIizx0PKu6ixOsg32Mny6HJccaSESPfqSc5Hs8UACyW+EofnW9QUf4pAA7U/jaZLtJnpeb8cwdncBjySss486prWP3ff/PKvX9kqTUbAPc55lhCIQR315oDwT8zvohsq8Ybe9u5d1UtigLfv3I6H19Uxd61q1n+p98BcPb7Psicy5cmy2iLj80rHCUBeLDDz8GOAJqqcM7E/OTx8dNmct0Pf86jP72N7pYmHvjerSz5/M3UnHEOHzyjnJ+/sJt/rz00agJQIhmLZDutfOnSSdx4XjX3vXmQv7y+n4buID96ege/emkPHzm7khvPraI4y3H4zMYgvaEoK3e38/LOVl7d3Uq7LzIoTb7bRk2Rh1DMoL0vTFtfmIhu0BuKsb2pl+1NvRnztllU8j028j02ynNdTCryMLHIQ02Rh4mFHnPs5kmAEIJQ1KA3FKUnGKU3GN+HovSFYvSFYvSGovjir989exxLZsg4gKONFIAnOZrmRYhCFKUNIVQ6O1fS2vo0qmqju/stEBZQdEQ0l6yCwsNnmIGz3reMHa+voKelmb69W1DpH/93KBRhlz+EVVG4qbyQmG7wP09uB+CGcyq58dxqDm3bzNO/uhMhDGZefDnnfvCjybyjoRBdzY3A6HUBr9xjev/mV+QO8jbklZZx3Y9+zuN3/YjG3Tt44uc/pnruAhZf83HuVmDNgU72t/mYUOgZFVskkrGKx67xuYsmcuO5VTy2oYE/rtzP/jY///fqPv60cj+lOQ5KshwUZ5n7kmwH43NdVOa7qMhz4R5DnsLuQIQXtrXw1JYmVu1tJ5bi4vPYNc6rKWBuRQ7TxmUxbZyXQo99UNdybzBGS1+IQ50BDnYEzB/CnQHqOgK09oXxhWNEdIOmnhBNPSG2NvTybIoNigLluS4mFrqpiYvCmiIPHruVQCRGIKLHtxixlLWsE2bYNJUcp41sp9klne2yoioK7X1hOvxh2voidPjDdPgS62VH6AqY+55glHDMIBzVzX3sSAJbQVWBWwrA48DYeQeewsRi47Ba21DVaQixjV27foBFM7tnY75cNG87Xu/Eo87farNzySc+ywu3fQc1EAS7HeesWQBs8ZmDb6e5HWRpFu5bfZBdLX1kO63cfNlkWg7s47G7fogejVJz5jlcftMX0z642usPghC4snNGbRzH63sS3b8FGc+7srK59ns/5s1HHmDtk49yYOM66rZuYlnlOfxHn8qfVh7gJ++bKbtKJJJRwGG18KGzKlh2Rjkv72zljyv3s+ZAJ4c6gxzqHHrwfoHHTmW+i1ll2ZxZlceZ1bkUeU8Pr6EQgvquIKv3d/D0liZe35Mu+iYWurlkahEXTy3ijMo8bNrwoXUURSE7LromF2ce5x2K6nT4I0mPYW2Hn72tPva2+tjT6qMnGKWuM0BdZ4BXdrWNan2PFouqkOXQzOUwnVayHFa8Di2+WfHYzdfzK+UYwOOBFICnAOFQIVYrWCw5OBzT8Pl2EI11Y7MW0tsZIssLReMXHFMZE+adyaSyKth1CL/bCVZztu6WPvMDfJbXSU8gyt0v7ALgq5dNgr52/nvHD4gEg4yfPpN3f/kbgwI8t8XH/41W929MN3hjnykAzxtCAAJoNhvnX/cxZlx4Ga/c+wdqN62ncN/rfNSykbdeOoO7HQpfWzpDikDJUSEMAyMQxOjrRe/rw+jri+99iEgYEY0iIpHk3ohEzL8jUUQ4nHZORKP9W3yGuBBGfHFYvX8ygRGfrJM4Fz8mEP1/p07UgcHnBoQXSdsPquSAyQxGitdGVZNRtRNhhVAUKhWFHysKbTYPrbYs2jUX7TYv7TY3bTYvzY4cGh259FmdtPvCtPvCrDvYlRxPXBrsZFZvPVWBdorDvRSFeymJ9JKlhw4fCvhoJqCk7uOvE6GWDhvWJhnuRaHVnsXW7HL2uIrY6y5ir6cEn5YuZif4W7mgfScXdu5mfLAT8Zh5H2tHEj4nQ7n9r9ND/biACgQVwAWQmP9Ft+akzlVAnSufOqe5P+TKJ6pqOPQIDj2K0zD3VhEfW57SpmHVSp9mx6c56LM4CFvM7wiHHiEnGiA36icnGiA7GozvA2THgmRHA3hiIexGDJuhYxMxbIa5ufRIMmxOsj4Z7k3ejR+Hj3985G0kGRFSAJ4C+Hx5mJN7DzGp5kds2HgDADYxB6tnJQD54+YeczlTxlfRx0o60Nm56jWmnXshm/sCAMzyuvjVS3voCkSpKfJw9RQv/7n9mwR6uimsmsDVX/9eMph0Km0Hzdh7BaPU/bu5oYe+UIwsh8bs8TmHTZ9XWsb7v307e9euZsXf/wRtrVzWvoLgfav5343n8ZnPfBRv/tBCUnL6YAQCxNrazK211dx3dYFuAOYsaHPJBd0Ud8EgRiCAEQyYe58fw+fD8Psx/P7jNtv2dCA3vk0Z4rzP6qDJlU+9t4gdeVVsza+mNquERmcejc68QekdsTClvnaq+pqp7I1vfS0UBbpQT8Diid02D5sKJ7KpoIaNhZNo8gz+DNGMGNU9TZzTvI3zGzZR7uv3uh1FAKljJguYySFmjlJ+EVXDUFQc+uAxjCNlpMGwDJ//qMuQDI0UgKcAPT1ZlIyDWKyepuZHk8f90TexZ5tvPrer6pjLEXWHAOhz2nntX39j4vyz2Bz3AOZG4Udv1uLUA3zK28q/v/dXfJ0d5JSM45pv347dlXlB+raD+4HRG/+X6P49b1LBoLV/h0JRFCaduZCq2fPY+MIzrHz8UZx9XbBpOX/4wstMW3Q+Z733A6PmpZS88+g+H9HGRmLNzUQbm4g2NxFraSXW0kK0tYVYSytGImDmaKJpWLxe1CwvFo8X1etFtdtRbDYUq9XcbFYUW/yYzRb/22amS6axoWgaaJoZRki1mEG7VRUU1XytKKbnLRHIW1X6PXHEPUFKvzeu3yOm9HuKUo+nBuIeKkxHWpnm9SKxlhnpnsXk8UTYocSKPKran0fKNTMNIy3iUV/UYH1rmA1tYQ71RWnwxWj0x2gL6oQ0O/tzytifkx5I3m1VmJprY1qujWl5Nqbl2Kjwari0IUKvDKpf4nTK+Qxt2uKPsbY5wNvNQdY2B9nTnS56LArMyLMxs8DO9HwH0wsc1OTYsWnTQFxi1jvpwRXx+9p/n0baE9Efiil5ZOgfIumR4A+X8yAv8aCyhitn4LM1IH3a8zUgzaDnhpR84vlaCuSP9OOBFICnAH19KtGIHastTHNcADodFQRDdagaIBQcjmOf2RrabXbv6iXF+Draef7pJ2jPn4IFwbOPruCS5jeYFNhHQ53ZPZBVWMQHvvPDIcf29bS20LBrBwBlU6Yfs30Am+u7ATizarCX4HBY7Q7OfM/7WfCu9/Kn+x5n98vPUBpuZucbr7Jz1WtMP+8izv3g9WQVFo2KrZLjg9B1Qtt34H/jDfyrVhHasWPE4k5xOtEKC9GKCs19bh6KVYuLLDPOIoqK6nKiOJ2oTheqy4XqcqK6PageDxaPG9XtRvV4UBwOOYxglHACV8S3VEJRncbuIHtbfexu6WN3i7nf1+bDHxWsaw2zrjWcdo3DqpLvtpPntpHntlHktTMux0lptoPSHCelOQ4KvQ68dg11wA9JfzjGtsZetjT0sLWhh/V1XRzsCAyyd2qJl0UTCzi3Jp+zqvPwOo4+yL1EciKQAvAkxzAMgsEQPn8uuTYzGHNR0buorPg0a95+H4oiUEUeqnpsHz56Tw+xxiYA5n7i09T/8de89tqrXFK4h0n1e8nqbk+mHTdpCnMXv5vJ55yXsds3weaXngMhqJg5J7nKyLGyo8n8op827ujXblQtFj7z8ffzjynzueehFSzo2cAk/z62r3yFXatfZ+6SKzn7fcuOKKi25PghhCB68CD+t9bgX/0mgVVvovf0DEpnyc5GGzcO67hxWMeVoBUVoxUXYy0uQisuRisqMkWbFGxHTlct7HsFWraB1QE2L9g9YPOAIxvyJkDBJLA6R71oh9XChEIPEwo9LE6ZCRrVDfa1+djWYIZF2dbYw/bGXnpDMUJRg4buIA3dw68goSqQ5TSDLGc7rfjCMfa3+wc5u1QFppdmcVaVKfbOrMol32Mf9bpKJO8kUgCe5ATjS+D4fXnk5jajqjZqJn4Tp3M8wUNTcVXswKZVJdO3HTzAGw/9k3E1UzjzqmsGTcoYivDu3egKNEwop2vlSwCUtNRR0lIHQFTRUCbO4+Of/AjFE2oOm18sGmXrKy8CMHfxu4+kykPSE4gmP9CPRQAmuGFhFbpxIbc/WchO0cFnXTto2L6FdU89ytZXXmDhNdcx74r3jLgNJaNHtKnJ9PC9tYbAmjXEWlrSzqseD65zzsa9aBGuM87AVlaWDFwuScHQwYjFt/hrPQpRP0SD5hbxgx6Jd+WpoFjMfaAd9r8K+18xBeBhUSCnAgqnQP4kUxjaXKYotLrMLasMcivBXXjkkzYGYLWoTC3JYmpJFtfEjwkhCER0Ov0R2n1hOv0ROnwRWnpDNPaEaOoJ0tQdorE7SF84hiGgOxClOxBNy7sky8HMsmxmlWUzuzybBZW5ZEkPn+Q0QwrAk5yEAOzpmURV9SGqq76M02l297ZtLMXY2cslH/k8hqGz9slHeePf/8TQY+xb+xZ7165m6RduIa+0bLgiANi/8lVen1yO32GDHebycj6nh73V0zjEOLojxbz63XeR7TQ/BENRnbrOwJAhCfasWUWgpxtPbh4T4yuCHCs7ms3gp2U5zqQdx8rHFlbxp9f2U9uTj+fqL/H+qxp57f57aa+rZcU//sy2115m8U1fpKRm8qiUJxmaaGsrfc+/QO8zzxDcsCHtnGK14pw7F9fZpuhzzp5ljpk7XRECogEI9wEK2L2mkEodv+dvh4698W0P9DZCoMPc/PF9bJTWUFU1GH8mlJ9lLjsU9kHEZ9oX6DTLD3ZB90Fz2/PC8PlZXaZYzKkAZy7Y3OYxm8cUjSimWBW6OXYu+VrvPyZ005b4UoYIA0UYuBG4haA8Mf01WQcgD8gzx5jFDIjGdCIxnYhuEIkZqAhyXDac1nhYFh+wXcD2AfYrClisYLHFN6spnI0o6DFTUBvRuN0w5Fi9xFjDNDLMTh6WI5kEM3AcnhI/pPTbkmpTajrob29EfH8kJqa2wRHOfJ52JUx7z8jTS0bEafwJenoQCJhjT4So5ILzN6R1X/m6uoiGstCUXB66/f/RsNMUbhUz59ByYC/Ne3dz3ze/zAUfvZG5i9+dseurr7OdFf/4C7vfWgkOGw6rjYUf+TgT5p3Jos11dFrt2N5q4z01eUnR5Q/HmH37C+iGYPNtizP+Mt70wtMAzLr0ilHzoO2IR78fDe9fAlVVuHpeGb9bsY/HNjZw5cfOpHLOPLa+8iIr/3UvbbX7+dd3b2Hekis594PXY3e5Rq1siTkzt+fpp+l98ikCb7/d/6WgKDjnzsW98BxcZ51tLk3oOD1ixA0iGoIdT8DGf0HnAQj3msLKGDBXVLGY3a72LAj1QnhwN/jIUOKCK8Uzp9nShBSGDpodKhfBhIuh6lxThA5FQpC274K2XdC53/QsRgPxLWjWqacBehvMY207ze0EocW30e+0low6edVSAB4HpAA8yUkIQJfLlSbgIsEA0ZD56/6xu35ENBTE6nBy8cdvYuZFl+Pr7OC53/+Sui0befmv/8e+tW8x57KlRCNhoqEQsUgYX1cnm1581sxHQFV7Nxd85esULr2KtkiUTmsLCIHSF2Ua/SEM3HaNAo+Nlt4we1t9zK9InwTSVldLw87tKKrK7EuXjFpbJATg9HHmF5EQAhHRMfwxjGAMEdURMYGIGRAzELph/kjV47MUjURMNFJmnsG1hpUubGg7e2h+7gAuq4UqMY2ya27nwKb1tB08QHh1B69v/ANl02aQVVCIKycXVU0J3jrwx+xIft0qSnwWXDy9AAzRPzEyPrsu6SDI1GWWOlMvtcihrkuLeUa8XVLKP6zNqXslzYHQ7zUYaGP8v5Qi9O5uQtu3E969GxGJACXYplyJVlyMY3IN9smTUb0eEAI9AL43WlNmJw5jXmqdB6ZPraNItyejvYldIpFKfMYm/fcmrdAMtyhtdmn/34qioPhrsTY+jLX5MdRYd8b6CFRAoCBMj1eox9wSR+3j0J2VGI5KDHspwpaL0PIQ1hwMay5YPAjFYhauaKaIFPEZqAPqmfYcJhotBuwG9rQBbcmJvGnPXbKugFIKailwCWhmkTjpfz7KBOhRlEgTaqgBNdyIovvACKEaATACKHrca6lYQLGk2G9JdlGLRFc1lnje8dnSiQc/1auVMbZcyozTtAowYHZu4kYoKRNvEyI5hiKiCCOGYkTM+6NoCMVq7olPLqJ/FvWAm5vSgPFZ0wmz1f43cNpsXJGYJZtqb8rrVJK2i3i1RP8JJfXGxdsi+UYx0u6xIoy4qSJeFxWR/kGQtElJ5jfYnozXjBDVdgZyxOXoIwXgSU5CADqd6b9TfV1dydfRUJDSKdNZ+oWvkVNsDpL25hfwgf/3P2x4/mlW/utvHNy8gYOb07vVEoybNIWJL64kq6ePrNmzAdgaD/+i+GNYYjGir/4X/7vPTs74nVTkHVIAbnrhGTPNmQvx5OVztAgh0LvCxDqCxDpCTNvZy09wcub6bhrffgsjEDXF3TFiBb6AAwTEVtSTuspmCeMpyU2ZYV0LRq0PH75jLldSga26YtDRaBtE29qB9sGXnAZYlb1ka//AYVmfPBYTBfhjSwgbczFwYwgXAjcCB+ZXZxiFAKoSQCGAwE5MlELIBkM6Ag1Ie5pPJlSgPL5JJMOTVVkhBeBxQArAk5RoSwvW4uLkGEDXgK5Hf1dH8vWsS5dw2ac+j6qmd7Uqqsr8pe+hctZcVj7wdwK93Vjtjvhmx2q3M376LCaMq+DAf55BcTiwVZhfyIkl4JS+KNV0YvS08/Sv7+ID3/0hqmqhpsjD63vb2deaLoTCgQDbV74CwJwjnPxhRHQih/qI1PUSOWjujUB/N9jlAFihO0La6BNNRXVpqFYVNBUlsVkUsCTipcV/0auYr6E/fhWwt93Phvpuctw2c6bhgB+nhq7TcagOX2cHgd4e9Gi0Pw8hsLvc5JdXkDuuDIt1wNtqKA9c6vnEr/6BaZNOiwzXJUNmZfC8iQGeg0wOgoQXK9E2qV7DDA6etNhjiV2qRy1jWoh1dxPZu4fwvn2IcCheuIq1vBz7lClYEzPEE14HI8VDq6TYmVrHgXUeaIfInFYZ6LkbygmRyaM5wEMmUpb2Omw7CCDSjKv599h7no4fUoh6FhEpuIZo1iJQrViTj+bIvSNpz0YmT3SG52PQM6MopiZjgIcz7qVKOs0QKZ6xFA910qk2wKOdakd/4Ske6vjFKdcP9bwOei8MrGumZ0GQdp+Ugfd8iHKEIQbbk3Ktkmyv/uPJvBNtq2aoX8KuQW0QP26k9FQYpLw/B3w+pLTBkJ8NaX8PaLPEdUO1NQkvZHrd0+qopjT4cJ8FyQxT80up9wiwVY7esB9JP1IAnoR0/+c/NP/ox5Tc9gMC8ZmNAwVg8749ydfnvP9Dg8RfKvnjy7n6698d8nzvs+aS4fbJk1Hi4/USK4CovVGuvXgukQee5tC2zax66H7O+9D1TCzyALBngADcsfIVoqEgeaXjKZ8x67B1FbpBaEcn/rebCe3pgoHjii0KWr6DkMfKf/a30WaBH1w/H81rQ3VrqC4rqu3YxxhO8IW57icvoftDnHH+PCYWegalyWeqabNh0NXcSNOeXTTs3MauN18n0hGAQ2aswekXXMK08y+msKISm3NsjhkUhkHPo4/R9eCDhLZsSR7XiorIfv/7yF22DGtp6Qm08B0k7IM3fgWr7umflDH7gygXfRtbXjVDB1KSSCSS44cUgCchsbY2RChE8//8kOjnPwcMFoD71q0BwJOXT1ZB4TGVF9plBoB2TOmf6bqxxxSASm+EqxdOpcv7RZ759V289ei/KZsyjZrCagD2pghAIQQb45M/5ix+17BejFhHEP/bzfjXtWD0pYRgsERQbQEUrQ9F7UH1CvI//jGe2tvNb/bXM78sB9fUIw8CfTgKPHYumFTAK7vaeGxDA7csHmoRK9Ozmlc6nrzS8cy48FIuuuFTbF+5go3PP0VHfR2bXnyGTS+a3eDe/ELyyyvIH19BcfVEKmfPw5WVPer2n0xEGxpo/Pb/I7DGfEbRNLwXX0zOB67Bfe65p/fs3YE0rIMHPgw+M4YnFYtgyY+g7NjW7pZIJJJjZQx9Ep865H/60/jfXE1gzRqK/3U/6nnnpo0BjEbCNO/dDcC4mqGFykgJ7zQFoH2K6eHqjsaoj5iibLbXRUm2g5JzL6RhxzY2vfgMz/z2bq78/l0AHOoKEIrqOKwWGnZuo6O+Ds1uZ/oFlwwqR0R1gls78L/dTHh//8Al1WNFb9uA//UHEf7WQdcpRoztk8wO4NGcATyQ980fzyu72nh0QwNfvWzyoBUChsLmdDF38buYc/lSDm3bwqYXnqZh9w78XZ30dbTR19FG7cZ1ZmJFYVzNZKrnncGEeWdSVDXBXBbqNEAIQc9/H6XlJz/B8PtRnE4KPvc5cq55P1r+0Y8FPWU5sBIe+JAZLiW3Gi7/H3MmowxELZFITgKkADwJUSwWSu+6kwNXvRdXUxOzNm/B9aEPJc/vfvN19Jgp0MZNOnYBmFgCLuEB3JoY/xeI8a6pxcl0F33sJpr37aZl/17e+OPd5DkuozNksH1vPc6OA6x/9gkApp17IQ53fxdqpMGH/+1mAhvbEKH4mD4F7JNy8ZxVgrXMyp7zb4JYjOyrr0ZxOlA0K7HWVvqef57eZ55lx7VmLMHppcdPAC6eXozHrlHfFWTtwS7Oqj4yT6OiKFTMnE3FTHMiTdDXR0d9HR2H6uior6N+x1baDh6gac8umvbsYtVD/yJmc2EbP5kJs2dz1qKzKKmoTPOcCiFo84XpDcYozrKftMtNxdrbafr+D/C9/DIAznnzKP3pHdgqK0+wZSeI3c/DQzdALATVF8CHHjBDuEgkEslJghSAJynW4mLG3fET6j//Babu2oV1+3aYMQPon2UL5mzfYyF1CTj7FFNMru0yu3WV3ihLzuwXgJrVynu++i3u++ZXaNqzi/dk+9EDfbxyW4o3z2Jh7pIrMUIxAhtb8a9pJtroT5635Nhxn1GMa0ExWq4Z163nyacgFsM2cSKlP72j3zafH9+KFURqa9lRb856Pp4eQIfVwtKZJTy8rp5HN9QfsQAciNPjZfzUGYyfOiN5rKu1lYceX872t1ZT4juELRLA2L+Rvfs3svexfxC1utFLJtDurWCPVsKegJ1wykxnj12jJNvBuPg2PtdFRZ6L8jwn5bkuCr32EU0gCEV1VEXBahn5QvRD5rV9O3Wfugm9sxPFaqXwK18m78Ybk+NJxxxbH4H/fhqMGEbNEgJLfoXwh1CDURRVNTfFbPfEQHwxRGBc87xA12MI3cDQ9fhrHV3XMfQYRkzHMPTkZIfEJA4lZZC9SJ0VcJg4OsnrUiY0KKRPQEjae+yT8AdN1kkrK920USUxWSVjXVLbMDUczCjlN1JGu9x3wvl8JPGdR2qPJ6/gmIc6SQYjBeBJjPeSSzgwfRrV23cQu/sXxC66iA5fL017dyXTeHKPrWstvNvsSraWlmLJMsXVK03dAOTrDJoMkV1UwhWf/yqP//xHZPXUmwcVheLqiYyfNospE85GWxOlactbiGh8RodFwTkjH/eZJdgn5vTPLovT97K59Jz30kvTjls8bjwXXsihFatoC+ooirkA+/HkffPLeHhdPU9tbuIH75mBwzp6ImblnjZ++NQOdrdkQ8ESpk5zcWVplMYdW4nW76Yg0IQ16sd6aAvj2cJ4YIHFQ4OzjDZvBfstRfQJL3vDsbSxl6nYNZWyXCdlOU7G57oYn+sk322jsSdEXYef2o4AdZ0BOv2RtGvsmorTZmHauCzOmZDPORPymVmahWYZvns6tGMHdTd+Ar2nB/vkyZTedSeOKcfulX6nEEIQi8fGjIRCREPB5D4aDhENhVL2YfN1OPE6TCwSJhaJoEcjxCIRqsV2FtnfQlFgR08Rzz3pw3jyphNdTYnklGbhBz7Moms/fKLNOO2QAvAkRgjBupkzyW1oJKeri8Zvfotd58wDzIkIwjBw5+YeUxmh5Pi//i/t7YEQaAqLCrMyeodqzjyHKz7/VV5+czOPNNqYOX8OX7x4Nt1P7iP6VBeBeDqtyIX7rBJc84qwuDN3XRqRCP5XXwPAe9mlg85nvWsp+zccAKAyz4XLdmyPbCAawKk5h/R6nVOdT2m2g8aeEC/vbOVds8YdU3kA9V0Bbn9yOy9uN9ezzXVZ+driKVx3ZnlcYC1GCMHuxm5WrV5H594d2Fr3EW06QJbuw+PfyaTADhYqYM/JwV5ejV5QTq+nkJaIlYYQNPZEae0LERFwoAsOdAms+6M49CAOI4TdCGM3QtiNCJVGiBqiGKgYioqhKMQUDUNRaejUeGC7lX+oVhSrncpxeYzLcZHrspLjtJLrspHjsqLEIvjrDtL2n/8QLXPA7DIK378MR7SP6MY1RGIGEd3Apllw2yx4HBoeu4bHYcVpVdO8UzDAQ3UMCCEIB/z4u7uSAc+joRDRSJhwIECgt5tgdzf+nm4C3V0E+/oQR7Kk1QAUBAWOAOWubmpc3WTbwuzFys7eAt7qLQdPDEVRUVQFwzCOzD2SgqpaUFUV1WKJexEtWCwqikVDtZh/J57pVG/i0FE+4t62AcMNkq+BxFJfqWFXBAIFJSVEyMA7mXL9SEktdxiv4mg7r0Q80/6QOEpK5BsxrD2JdshkZNpnS2rA7RRvb+ZWOzoUFIQiTI9yarkjqEcmhnsvZrJ7NO/LoOg18YDV4bEZTOG4IwXgSci/dvyL+3fcjyEMOis6eeaTBs6Qhmq8RWndLmaq2VgM88PZnXts3ZTh+Pg/+1RTAHaFo/TFnV7X1hQPdRkzLryUtpJZ/ONva7mw1qDt95sAUKwqztmFuM8qwVbhPWz3YmD1aoxAAK2oCMfMmYPOey64gAN/MGcWT3GP/GtFCMGOzh3s7NzJnq495ta9h85QJ9PypvHFeV/k/LLzB9mnqgrvnVfG71fs47/r64cVgLoh+OFT2+kLxbj2jPGcXZ2XzE83dNoDXfz5za38c812osKHPSfIGROdLKhy0CDW84M3++iL9BGIBQhGg+aeIMGqINHyKBEjQlSPYKR9LB4C4mFVEk48h7m5MtwuAQTj29GwBdgSw4wnnCmmcDLUYwe0/ggGz+E5uVCA3Pg2qiQWmk2lebQLkUjGJNll53PxiTbiNEQKwJOQnnAPdX115h9xx5nPDqDQkttDbbGfRVsKGNdlo+OOn+E6YwGOmTOxVVYe8YzShAcw0W338O4WUBQsYZ1LqofuXhZRnZo9fdyPB2fIDA7qWlBM9pIqLN6RRzbrW252/3ouvSSj7arLxaGaOQBUtdYeNr9gLMjT+5/mXzv+xd7uvRnT7OjcwRde+gKzC2fzpXlf4uySs9OE4DXzx/P7Fft4eWcTGxoOoNp6afG30BJooSvURW+kl75IH/s72tnW3AJqmOeWx9A0HbvVADVKKBZM/pLWxve/0TYHYPPAheWPAkWAIlKCzA48n/K7XMEcb5Zpn3Z9ylJZIhEo1sgsus24r+Z9T/gzVKEnS9QtVgyLhhAKgv78MuWW8FslVqdSiC99BiiJ5ajixxQEiug/PxQiLap1fNxVymL3QlEwlxXrP586FE1RlHj83fheUVAVBUUYEPWbkztSa2CxmWvnWmyjOlgt3SsnkvuEtcn9GJpZLER/Oww6d5K1TaYgzUN5AEdi58C6m+8tkfJ+7n+/j9S+k/nZSdTJqckVm48HUgCehLyv5n0sKl1EW1sbTzzxBF63l+uuu477fvd9Xhm3n66sGM8sambOHjcXPfJvbP/+NwBqVhbOmTNwzJyF64wFuM44A9U1tO9c6DrhPWZA6UQX8DOHOsAJpYplyDAosc4Q7X/bCm1BnChsIsa0j8xg/MyiI6qnMAz6XjFnjXovGdz9m2B/din4BGWbViGMj2cUis3+Zh7c+SD/2fMfesLmpBSn5mRO4Rwm5U5iUs4kJudOJt+Zz/077+eBHQ+wuW0zN71wE2eWnMmU3Cl0hjrpCnXRGeokd2ozUXq5YfnwQsOS0rwGEDRID2ZtOMi151CWXUC2PZssWxZZtiy8Ni9ZtizcVjduqxuX5sJldeHSXNg1OzbVhs1iblbViqZqaKqGRbFgUfq7+wxDJ+TzEejpJtDTTTgYwOnNwp2TizsnF5tjdD84I/X11C77IHpnJ44ZM6j421+TY0eb9+3hpb/+PhmiKH98BZPPOZdIMEA4ECQc8BP0+wn09RHy+4j4fcRCgaPuFg1qLnqtOXRpWXRq2XRbc+i2ZtOjZRFTR3e2dCFdfFF7jOssL2NTTKH7pvUclnuuYp97DprFgUNRsasWbJqKzaJgtahYNRWrRcWiKGgWU0RaVOJ7BU1VUBP7eBeebghihkDXDWLJiR2mEFXjA/ktqoJVVdES5VgUNFXFYjHzMvNW6V88QulffCIudhUlIRb665l6TE2UqSpY4vYeTiukiolMSVPzVBUz35EwWkMEBjKaXbFHY2Na+cOZkuyFT+0uHyLPAfkc5dtrxByLfhyqG30gdu30CJV1siEF4EnIOM84xnnGsbt7N/nhfMbljSO/S6N4e5QPHKzmwBVZvBHcwMbJfr751Rxu3JTHrFfrMXp78a96E/+qN+n4I2C14pozB9eihbjPWYhz1kwUa/8XY+RgHSIUSi4BZxiCLX1BcDo4Ky9zyIpIk5/2v27F6Iugem38UYtwb1eAPygGE46wnqHNm9Hb2lE9Htxnn5UxTTimcyA+qLCydhvBjZtwzZ+XPL+/ez9/3vJnnjnwDHrcA1XmKeO6qdfxvknvI8s2eNbw1xZ8jRum38Cft/yZh3Y9xNvNb/N289vpieJflkKolLiLGOcuochVRL4zH6/NS5/fyl9XNqPh4u5rzybL7mT1vl6e39rB3pYQirDzwflT+NYVM8l2Hb/QLapqwZWVbQaXLj++IVdENErDLbegd3Zinz6Nir/+JSn+AEomTuLDP/w5W1csZ+X999JRX8eb/6kbUd4WqxW7y43N6cTmdGF3urC5XDjcHuwuN3a3B4fbjTM7h7xxZeSUlGJP+XETjun4wzq+UIy+cBRfKEYgouOPxPCHY/jCOqGo+XwkRFRivFdMN+JjFgWRmEEoptPjj+Ds3cfEvjXMDG3gDGMzTsXsc39Nn8X/xq5lU6gG+sBcjLdndBpZIpEM4ubLJnHzZZMPn1ByRJySAvC1117jrrvuYt26dTQ1NfHoo49y9dVXJ88LIbj99tv54x//SFdXF2effTa//e1vmTGjPxxHOBzm1ltv5YEHHiAYDHLppZfyu9/9jvHjx5+AGmUmEDCVj8vlYsfrKwCYveACLnFW4VhZz9vz/TRoPn60wEfVxVVcl3sZlzQXYGzeTmD1aqKNjQTWriWwdi3tv74HxWrFPmUKjhkzcMyYjt5jfmklloA72O4n4DQHAC6tGNz9G97fTfs/tiNCOlqxi8JPzKTnuR3Q1cveVh9LZgy6ZFj6Xop3/15wAYotc7fxnhYfMUPgFVEKg930Pvssrvnz2Nm5kz9u/iPLDy5P/io+s+RMPjLtI1w0/iIswyyNB1DgLOBbZ32Lj8/4OA/vfpiYESPPkUeeI49cRy659ly+/M997GtW+OC7ZnDTBeny9vP/Wkesp5mrF4znXfEu6vPK4daLYHdLHw7NQkX+6TVyue2e3xDatBk1K4vye+7Bkj14RRNFVZl1yWJqzlrI+meeINDTZQo4lxuby5V87XB7cHg8cWHnQRvi/o8Uu2bBrlnIcx9DPnoM9r0M2x6FlhXQ15hSMTDKzqBn4bcZV3g23w9F6Q3GCEZNYRmOGYSiOqGoQVQ3t4huEI0JIrqOboBhCHQhknvd6N8MYXr91HhXs6YqWCymh0xREsvEml3pevz6WNxDGImZ+5huxI+LZBrDEClL2ia64s0qJbrk086ROGeeN0TCPpKvR0LGVPE8zO2o75JEIhklTkkB6Pf7mTNnDjfeeCPXXHPNoPN33nknd999N/feey+TJ0/mRz/6EZdffjm7du3C6zXDiNx88808+eSTPPjgg+Tn53PLLbdw5ZVXsm7dOiwnSfyyYNAcuu9wONjzxosATFl0PnVbNlLe6uIK7Vq2Tw/yn13/oba3ljt6/8z/2XNZdu0y3v/t+yjoipkewTffJLB6NXpPD6GtWwlt3ZpWTnj3bmqv+zBt3nw+7vLgc7uZsbOAdsXsJkbXUXOmEtztgpjAVpVFwQ3TUV1WauJrAg8VlmQ4EuP/Ms3+TbCjyZx5MDXPjgBe3/wkryyv57WGlck0l5Rfwqdnf5oZBUeoQIESdwlfmveljOc+fa6Xbz6yhb+9cYAbz61KhkSp6wjw3FZzgP+nzq8edN3k4uMbquZE4H/zTTr+9CcAxv3wh1jLyoZN7/R4OXfZR94J046dtl2w8V+w6d/9S7YBaA6oWAgTLoKJF6OWzCZXUUZ//sgYRCTErBAj7oQdbqxa/9i49B7EgdcMnOl8Ike/pWrgkXTn9o9RHbqbvV/AZx7bN5L6Hqs2H25c4aCZ5iNEPYnHKZ7KnJICcOnSpSxdujTjOSEEv/zlL/nOd77D+9//fgD+/ve/U1xczP33389nPvMZenp6+Mtf/sJ9993HZZddBsA///lPysvLWb58OUuWLHnH6jIcCQ+g4u/F39WJzemiYuZctr9qjpsrzBvH1xZczWdmf4b/7vkv/9z+Txr9jfxh8x/4w+Y/MDVvKhdOuZCLL7uJqXn/i17fQGjbNkLbthHcto3A22shFkOEQgQ3bMAD3BAvOxTfAKyV52OfOwdFEdgq7BR+ciZKPD5eIk7gkQrA8P79RA4cAKsV9wUXDJluR1MfisWHVrWXmz9npTnHBw0rURWVJVVLuGnWTUzKnXREZY+U984t487ndtHYE+LZrc28Z04pAH994wCGgAsmFzK15PgFpj5ZiHV20vCNb4AQ5Hzwg2QtWXyiTTp2hIBdz8DK/zXX603gyodZ18LkK6DiHLDKwefHAyXu2VRHTYKNWEaOUnknOyeynsOVPVba/9TglBSAw3HgwAGam5tZvLj/S8put3PhhReyatUqPvOZz7Bu3Tqi0WhamtLSUmbOnMmqVauGFIDhcJhwOJz8u7c3U1yM0SMhAION5jiqiQvOQrNa8Xd3Af0hYNxWN9dPv57rpl7HS3Uv8eDOB1nfup6dnTvZ2bmTP2z+A0XOIj46/aN8/IqPkxUXz3suvoRYUxMlt9+GJSuL+154G5+vlexwhKvKClA0C4J8jOh8QCFy4DX6nnwQ0Xc9hV/8AqrbnfQA7mvzYRhiROvnRvQIe196DADv2Wdj8Qweb9gX6WN102qeb7sf96QNbA3pkAPOkODySA2f/tivqMw6sjFvRjhM71NPoXf3oDgdqA4nqtOB6nLhXLBgkB0Oq4XrF1byy+V7+PPK/Vw5exy9wRgPrT0EwE0ZvH+nG0IIGr/9bfS2dmw1Eyn+1jdPtEnHTvteePYbsO+l+AEFiqaZm7sQIn7Y8jBsehCEbsbDE0Z81rAFVEt8r4Khgx4FIwpGzOxGFgbm7OpE3L/E9GaV/hnJ8deQNjsZVeufTazZTS+k5jCFqNXVv7dY43aog7e0Wc+YNhqxlE03NzFgr0dBj8S3eJ2GJaUMGODGGsa/k7RRHeb6TNeNxuyGd7jv+Xgsi3HE5Y5mnYfyOQ5V9ijZUH0hTLjw2PKQDOK0E4DNzWYXTnFxelC04uJiDh48mExjs9nIHRBEubi4OHl9Ju644w5uv/32UbZ4aILBIAhBzwEznMmksxcB4OvqAMAzIAagpmosqVrCkqoldIW6WNmwkhWHVvBGwxu0Blu5e93dHOw9yHfP+S5Kn59Yk7kEXNbSpViysnigO5+9JTZmW2189rzpGKEYLb9cD91hHNO9EGglvClG59/+Ru+zz1Ly/e9TeeGFWC0KgYhOU2+IspzMHhMhBJvaNvHkvid5tvZZ+mx9uG+2MM3Vwrz1v2ZWwSwKnAW81fwWK+tXsqltkzmpw2J+5NRkTWeZbT5Tv3Uvbm8bFZ8bvgtyIEYwSP0Xvoh/1aqM57XiYsp++Qtc8+alHf/oOZX8bsU+NtX3sO5gF2tqOwlEdKaWeDmv5tiW4TsV6LrvPvyvvoZis1H2v3ejOo+TRyw5OC1VOMVJFUjmgXSBMzAfMAVMxAfhPnOL+KDzALz957jHb8AXZOt2c5NIJCcdoWgHDikAR53TTgAmyDT243Dxjg6X5tvf/jZf+9rXkn/39vZSXl5+bIYOY0sgEEANBQj39qDZ7VTNmY8QAl9XJzB8EOhcRy5XTbyKqyZeRUSP8PDuh7nz7Tt5ZM8jdIQ6+J+cjwKm8EmG8YjGABvVbnON3u7H96F3h7HkOcj74EzUG36F79VXaf7hj4jW11P/hS9Q8de/UJXvZk+rjz0tfWkCUAhBbW8tLx58kSf3PUltb23ynCIEfqfCWnGAtVv+lLEO4z2V7D9Yjt63gAf+343YMdjzw8fQOzvxvfoq3ksvxdANgn1RomGd7ELnoGXmAAy/n0Of+zyBNWtQXC68l12KCIUxQkFiAT/+A/ugpYUDH/0IG5fNZe35RfRG+3Bb3Yxzj2Nm1STW73Xysxc2cLDNjPHyqfMnnNTxs0aD0PbttN71cwCKvvVNHFNSZuEJAaEe8LeBr9XcRwP9niM9Zu4TafztEOgw9xF/v5dJj4AehmNYjeOoUa39Xj9HdnzLArvXPKeo/d4+RTFtTPOcGeZ51Rr3yGnmlvRspXi5kuI2ReQm2jH1uB4z2yMW3/QwRENm20aD8c3f72kUBkIYCCOMEfOj60EMPWRuRhgQCEVBKKRsZrgZETcx+bcKhqJgqCSvSSAGPOrKKDiVRiOPo2VgfYZjKDuPJI/RQhEnptzRYCR2D1U/q8fg2NdkkgzktBOAJSUlgOnlGzeu/5FpbW1NegVLSkqIRCJ0dXWleQFbW1tZtGjRkHnb7XbsdvtxsryfgwcP8vzzzxMIBND6zO7e6rkLsNodhAMBYvFuaE/OyFYBsVlsfGTaRyhxlfCN177BikMr+HzTfr7qhOKKCgC6/BEC8adheo6LwOY2AhtaQYG8D05BtZsnPRdeyISzzqLp+z+g98knafzGN5n10dvZgzkOcG6ljdXNq1nduJpVjato8jcl7XBqTi6ruIxLDmVR9OO/07poEp23fpQt7VvY0raF1mArC4oWcG7ZuZxXdh7bd8OPVm2hJsvBzlcbCPRG6Fj4ZXz17az5WwPR/z5P2LAmnTklE7K5+KNTySt1J8vUfT4OffozBNevR/V4KP/jH3HOm8valrU8tvcxXjy4EeEP8NlnFRbtEMx/YAOhjQr/t1QlZDc/iXSjCPgab+83R0Xa7UFCjtdp9l9EibvkaG7xicWIBzMO9cY9ZL3xrc8UZ5EAhr+bwL/upXBGN/bKcbjVp+He+yHYBcFuU9Tp4cMWdcKx2OLCLWb+bfPAnOtg3kehaDpoxzb7+J3EMCIEg/UEg7X4A/vw+/cmN11PHYOrAE7Aiao6sFpzsGrZaNZsrFo2qsWBYUQwjHByE0YMRdVQFCuqosVfa5jxA1VAje8T+cdjuKV6ZRPHhiBznLz0qRgp4biTQboV0kW0wDA1M8YQ6dOmgQywIKVLfqipyhnrMPBakRT5g20YXG5iObj+PDJN0FCPsM6DLewvT5DuIR/qvgylwgfezyO9fuD97q/z4WMvDj5fWHQajDs+CTntBGB1dTUlJSW8+OKLzIt350UiEV599VV+9rOfAbBgwQKsVisvvvgiy5YtA6CpqYmtW7dy5513njDbE2zZsoXGxkZUVcURF4CTzj4X6O/+tbvcWB2OI8r30spL+dPiP/HFl7/I1kgd3/+ohW/5veRF+tjXFkE4zIkdkw0LXY+a3c7ei8qxV6ZPdFCdTsb9z+10797KVt8Bsnf/FEdFCX+tbePX++vT3vhW1cqC4gVcOeFKLqu4DC1mZd/vv4jPOZ7y6R9gpnUJ5xUtxigQhANR2g/5aFvex4uHagn0RPggdvAL3vhPYlWPYsiPd+/HF54wh1QpNO/v4d8/XsP8Kyo544oqCPRRd9OnCW02Q5fk/O5u/qm9zaP//X/U++qTNlYVVrP/a7PwvtrAjAfWsmiHwRm+fGq/uYzavBhN/iae72qiq8v8QSGyVvCzta/ys7U/ZlreNN494d0sm7LMjFYvBHQdgK6DplgKdcdFU1fc85UYK5YYN5YyPkuP9nuWEp6j5Niu1G7QxNixlHFfasr4Lz2S7kGKhcyywz5zH/Uf9llRgbykc3sv7My8qgo2L3iKTC+azW16wizWfq+Y3QuuAnDHN1eBecxii29Wc586ni1xUxOR+lK7g8WAL2HzRUqbxPc9h8wJHjuejNvpgfO+Cgu/CNYje9+808Riffj9e/D59+D37yEQ2E8gcIBQqAGRXG0lHUWx4HRW4/VMxZPcpmC3jzvtPdUSieToUESmtWpOcnw+H3v3ml9I8+bN4+677+biiy8mLy+PiooKfvazn3HHHXfwt7/9jUmTJvGTn/yEFStWpIWB+dznPsdTTz3FvffeS15eHrfeeisdHR1HFAamt7eX7Oxsenp6yMoavdmgfr+fe+65h1AohL2pFoevm8//6X7sLhd1Wzfx8A+/Q17peG78xf8dVf77uvdx038+RJu1fzkrq+ogqGQjtFwuCHjx9ml4nVkUnlGN1+4lakRpC7bRGmilLWDum/3NGAzuuqvJqWFh6ULOLDgLdVMhzdv8BPuihHxR9NjIu/oE0KUa5Be6qKnIxuW14cyy4vTaUA/uxH/fn7A07McW6cO65L1sdSyiscf0/nmtIaY3PYV76yuQncXyry7i77GVhONeK7fVzRVVV3B1zdXMKZyT/JIMrN9Aw1e/SqylBUtBAdUPP4R13DhW7mnj+r+swWFV+NLVLaxueZltrRtxGzo1kSiLDI2lWj5l3U0ogfajui/vOIol3uWZ2LxgcxNp6SCweQfCsOBZciXWihpw5IAzF5w54Mg1xZyn6OSbJevvMIXf238yhbCiwvwb4OLvmPaeJEQiHXFR10goVE8w1EAo1IDfv5dwuGnI61TVictVjctVhds9Gbe7Bre7BpezElU9dbyZEsmJ5nh9f59KnJICcMWKFVx88cWDjn/sYx/j3nvvTQaC/sMf/pAWCHrmzJnJtKFQiK9//evcf//9aYGgj2RM3/F8gF5//XWWL1+OEosyzWVl2f+7DYAdK1/hmd/8LxUzZ3Pt935y1Pmv/eQyflG+jf0TXPhE6PAXDEE+Hir39FLZqvBmyXv51ze/QqGrkP0b2nj94T34ugZ3E6p6BLvTguZxo1jMpbAUVcFqU8kv81BY4SV/vIf33LeGjnCURz+/iHkVuYPyMfx+2n59D5333QeGgQDaCuexe9IyIvEVQEpaXuVvCx/nYLHpOZmZP5Prpl3HZRWX4bIOCNRsGOBvJXZwMx0//wF01WMvyyX70kUQ7qSrrQmn3odT95vdpbFgxjbRVQ01vwbFlW+KJkcOBnYMxY6Wm2+OE0t4yVRLymuNHz+3m/ruMAqCAreVqnwnVXlOqvIdjM9xYrPEvTkiMY5M9HsNE5MnNBtY7PFZpHbztd1jeuhsbtNrZ3Ob4m2Adyi0Ywe1H/wQIhKh6OtfJ/+TnziyB+JEEfHDm7+DVb82u7MBJl4Ci38MxdNPrG1xAoGDtLW/QFvr8/T0bhg2rd1WjNs9CbdnEm7XxLjoq8ZmK5IePYlkFJAC8BQVgCcLx/MBam9v57d3/y/CZmfy+FI+/KlPA/D2E4/w2r/+xrTzL+ZdX7zlqPPfc8GFxFpbqXro34hpNXz0wVfY6+3hqzuaCakB9BlOIuMUfBEfvogPTdUochVR6Co0985CxnvHk+/Ip+7zXyTwysvUewqZ+I8H2ba8lbrt5kQVb76Ds6+aQE6xi67/+Q6x1a/imT+byn/8I+Oavgm2NvRw5T2v47FrbPz+5ckgzJnwb9lM3X1/psfXQafRS1ssTA8XYNHM8Zyt7jp6L9jOR85exoLiBWZnYW8jNG6Apo3QtBk690N33VGNaxNZpRzKHsdTkRbeUKPssNuoyKnhtkW3MbdoLtHmZg6892p0n4+yX/6CrMsvz5yPEHzzkc2sO9jFvrbB3bQ2i8rs8dmcWZ3HmVW5zCvPJcdlHTVBoPv81F5zDZGDB/n/7J11nF3Vufe/247LuEvcPSEOBPeiFWihUKHe3sotVG97a7e3Ro1Sh7ZQ3IprIIG4u07Gfea4bVnvH/uMz0RI0ubtnV8+K2vPlmV7n3Oe/XvMt2IFFXf/+qj36IyAqcPm++CN/4VYq72vZCZc+C2YcOG/dGhCCGKxPbR3vEJ7+0vEYnsGHHe5KnC5ynFna5e7HI97DF7vRDQtCEDkxZeQPW58Z5/9r5jCKEbxb4tRAfDf0Abw3wWdjQ24WmpJVk3iYFMLnZ2d5Ofn93kA5wxlxI4XViqF0dYGgFZZiap5aEwE+Vgon4vClTjGBii8YtZxCxbl3/8uGy64nIpYO0c+9TXqJt+MrErMu7iaeZdWozkUuh9+GPH2K6hOJ2Xf/e4xBYs1h2xbx4Vj84YIf5aw2Ne1rzeH76bWTUSnRwe18BATwwc47+BNFMWrqFg5juJABOn190PDetuJYThIMgQqIKcKw3ASWbkeIwnuJRfgv/LdWUavn8rUGUBSVKqA24wknr0PUbfzjxwKH+KW52/hfZPfy42/PdCbdq/pC19E/s1v8C1fNrRrSeJ/b5gNQCSls6MhzNb6ENvqQ2yu66YjlmFjbTcba7v5TfYapypT4HNS4HNkayeF/kHF56Qo4MTjGPnjLoSg5b/+i0xtLWppKaU/+P6ZLfxFmmHzX2DTvX0p23Kq4YJvwvTrbJvIfwEsK01393o6Ol6lveOVAepcSVLIyVlEUeElFBReiMt5dAei8DPP0vSlLwGQe9NNFN95x4gpE0cxilGM4kQxKgCeoTi8aS1qPIKaTmA4Pbz44ovcdNNNxLMCoC93aK7e44XeYDtAyD4fSk4OumnhiOtc2WaTwcHLxh638BdqTbDllVYaJt3K/K0/p7R5Lcqk6cz+xifJKbZVrHpzM20/tJ1rCv/jP3CMGTOgjYSeoC3RRigdQpEUFFnh5b02mzO+xOSV2lc4EjlCbaSW2kgtB0MHiWYGCnw+zcf0/OlMzZ/K1LypTM2fSnWgmnh3htd/v4axnb+mYuWLfTEdJAUKp0DZXCibAwUTbQEiWGGrZLE/HHL+E3R+9auwez3lM95H4LKhglsP3KqbW2fcyrUTr+VHG37EU4eeovOBB0itsRAODd/CRcRXr6bh05+m6g+/x7NgwYhtBVwayyYUsCwba1AIwZHOBBtquthwxC5HOhOkDYvGUJLG0PDq6P7wu1SK/E6KAy5KAi4q8zyMKfBQne8l+NrzpJ99FklRKP/JT1Bz3/kLxmmDEHBklR3Lb++zfZ693kI458sw/9Z/iVevZel0db9Fa+sztLe/PMAjV5Zd5OUtp7DgIgoLL0DTjm9dM/X1tHzrW71/dz/wAKk9eyi/6y604jPHlnEUoxjF/78YFQDPQCQ2bKAhm+4tx+2iC5n9+/dz6NChXgbQl3d8IWCGQ6bOzmShVVUiSRJ1XXE+HFdQgIOVbiqqjk2Ht9VG2PxiLYe2tNveGjkT2Tr+CuYeeoait+6lY8d4DogKOpMd5H7tbgLxON0Ti3hk0hFib3yZcCZMW6KN1ngrUX2gMCeETOzINwEX99f+Fw+2Ng3p36N6mFc8j4UlC1lYspApeVNQ5EHOO0Lgr3ucq6RvIHlsx4z9yXNozLmBxR+7Bnde8JjzzLnuWtIHDtD15z/T9JWvolVW4Z5x9JzDQWeQ7y7/Llc65uP+8dcA+PO5Jq7rC/iwtJzkqtXUf+zjVN17L+6ZM47aVg8kSWJsgZexBV7ec5Ztp5rIGHTGMrTH0nRE03TGM7RH03TE0rRHsyWWpi2SJqmbRFMG0ZQxrHoZgniv+A4lXpWyLRmKD22jOGALi4U+J/k+J/lZljHgUv95dmhCQPM22P0k7HoCuo/0HataAgs+DNPeZds6npLuBKYZQ1G8/cKeDD1H17uIxfbS1vY8be0voOvdvccdjkIKCs6nsOBCcnOXoign5nUsdJ3GL30JKxbDPX8++R+6jaY7v0JyyxZqbrieip/97KgvD6MYxShGcTwYFQDPQLSufI1IKgEC8seMZ3xhEevWreOFF17AeQpUwHqDLQA6Ku0YgI17OrgwLmEBhxYXsmKE64QQNOztZsPzh2ne35cGL17awqZgE+uC53KHuZcVRw7S/aWv8tUPKkytF3xis0VGgW+f10nTwceGbdujesh12XOKRQuIWS5kJUlBMEWFfybVgWqqAlWMCYyhOlDNxNyJaLI2/EDDjXaary33Q/1a2+avYDItU7/Bm88GSdcaNPx0F1d+eja5Jd7h2+iHoi99kfShg8TfXEXtzTeT/+EPk3/brcjeka8VhkHJTx4iqQvap5fy8oIOzNpnqLtiBt9IzEHftJX6j3yEqr/+BdekSSO2czR4HCqePJXKPM9RzxNCEEsbtEbStEVStEZTNIdT1HUmONzQyeGaZjpcQeKam0MZOHTg6F7MmiLh1hQcqoymyKiKhKbIeB0qfpdKwKXhd6n4XRr5PgclARelQRfFQZt59DqP8bWTikDrTjjwclboq+k75vDBrPfYgl/J8QnPR4OuR4hEtxOJbCMSsetMph1JcuB0FuF0luB0FuNw5JFOt5JM1pNM1g+Kuwealk9x8eUUF11JMDhvROHxeND+y1+R2maHLir/0f+ilZUx9tFHaPj0Z0gfOEDtrbdR/NWvkHfTTSc7/VGMYhT/hzEqAJ6BaEjYPy5ew8Kfl8+KFSvYvn077e3tuCQNlZNTAfcwgI7KCgB86217wBdKVTboa2hb9wBlvjIqfBWU+coo8ZSyc0MtO19uxmq3VWymZHIwfxNby1+j29OMmagCaSo/m/tuyjI/YFITfP9v4InbYV92XzuTC85egF/z43P4CDgCFHmKKPYUU+Qpwufoy8N798qD/O/efVw0ZQy/fd8bAwevJ21njdY9/fKaGna8vZo34dBr0L6373zNA+feAYs/SYnq4LppcZ799TYiHSke+99NXP6JmZRNPLow3aMWbfjEJ0ls3EjHr35F90MPUvjZz5Jz3XVIw4QN6vzDH0lu24bs97PkV/fze6mBz6/8PJvDO/niFaX8MDkJc/d+6j78Ycb/4x8oOTkncgtPCJIk4Xdp+F1ab+5mAKO7myPv/U/0ujrk+WchfngX7UmT1kia1kiqt3TGMnTGM3TE0kRTBrop0E3jHY/H71IpC7qpDMhMd3cyUW1jrFVHefoggdBe5O7DAy9Q3TDxIph+LUy82PZoPkmEwpuoPXIPHZ2vM1wwWyEypFINpFINQy8GQMLpLCE/72yKi68kJ2cRsnzyX6fxtWvp/L2dGaf0O99BKysDwFFdzZiHHqT5698g8txztP73d9CKi/FfcMFJ9zmKU4+0maYz2UlXqouuVBfdqW67pLsJpUPEMjHiepyYbjvZJYxEb/xUqV9waUmSkCUZWZLt8NCSbIeTFgJLWFjCGiHAtt2OIisokoIsyb11T7u9/0Zg84UQ9P4bwVd0cDtSTzBsQe91I43vRHDDpBu4YdINJ93OKAZiVAA8A9FtyWiGSSBh4vF4cLvdXHjhhfzjH/8glVuEqmrIrncef02vz6qAK6s4tG0XRR1pDAl+O8FJ7MijrE3v6z03kMrn4n0fpiBRDjjQ5TR7i9bSOmEPU6sncIP3Sgo9hfjkQj7zpzQZkc+S3z9L1w034IvbdmmBa67hfd/6DpJ6fI9bjwPIRaUp2Pp3W6Br32fX3Uc4ZmJxSYby+TD+Aph3s23Xl0VeqZfrv7yA536zndaaCE/9fCsX3DKVSQuPbpCv+P1U/fUvRF98kbaf/BS9vp6Wb3yT7r/8ldybbkQtKUEtLEItLMRob6f9178GoOTrX0MrLeUsSvnbZX/jk69+ksPRej5zhZefRUugvoXuhx+h4PaPjtj3ge4D7O/ez8VjLh6Z9TxBiEyGxs/9B3pdHVp5OWN+eRdqXh5TjnFd2jDpimdIZsysIGiRMS0yhkUiYxBJGsQTcUSoATnagBVtR493IRLdyOkQXjNKmdnJmFALpaEu5BHybHUqBbT6Z5KadBXlZ11DceE7f+HpnbMQdHaupLb2t4TCG3r3u11VBAKzCARmEwjMwuebjK5HSGdaSKdaSKdbyeidOB1FuN1VuN1VuFwVKMqpzQpkdHfT9J9fBiHIec97CFwyMPuB7PFQ9pMfo+Tl0f23v9F051cY+/hjOE5TOspRHBvhdJiNrRtZ37yevV176Uh20JXqIqbHjn3xKI4b5yZG8wCfDoyGgTkJnC438j/e9RCL7/kWzcECfD//EYsXL0YIwRuvvMzKVatBlsnJyeHd73435eXlJ9z+ocuvIHP4MH/56FjOi72XaclxPFKh8sPpbq7mcSYHcmiKNRGvgYkbz8NpuEmrCcITa5hwdj5nj19KdaB6yJvj4u+/SkskxU/bX2PqW8/17s9573so/trXkI/lwZhJoB9+k78/8GeWsY3x8ggBcZ0Bm9lTsnH0ZNWOdVc+DyZcAGPPBc/RbST1jMkrf97N4S22N/Dy90xk9vnH90NqZTJ0P/AAHb+5Byvr3Tsc/BddRPkvfj5gnbpT3Xz2tc+ytX0r5+2U+MQ/dJSiIia+8vIQD8/OZCe/3PJLHj/wOALBrMJZ/OicH1HmKzuucY4EIQQt3/wvQo88guzxUP3g39+ZGtrUbVVt/QZo3Aidh+wMHD3hWI4DacVLu1ZBjVTG5nQl61IV7LGq6Gbg56k8x82CMbnMrcxhckmAySV+8rwjP0+GESOVaswGWm4kmWqgq2sVsZjNDkuSRmnJtVRX347HM/bE536KIYSg4ZOfIvb66zjGj2fso48gu4d/yROZDLU330Jy2zZc06dT/cD9yP+EFJWjgJSRYlPrJtY2r2Vd8zr2du0dkeFSZZU8Vx55rjxynbnkunLJc+WR48zB77A1IV7Ni1/z49E89veE6EuhJoTAwhrA9lnC6mUFFUkZwMD1h6DvGlOYmMLEsqze9vr30f+ann297Up96duGYwqtbE7rXrYwW/dnBE+FvXB1oJrqQPVJt9Mfo2FgRgXAk8LpeoCefuwVJn7tM4SdXtx/+SOzZ9uhQWp3bOWhH3+fTPUkDFlFURQuueQSzjrrrOP+kOlGhv1z5yHrJr+/bQ5f6P4kKQRXr/DR7ZSpPXc2qgTbX2vgrccOIixBQbWXi2+fRm6+/6htf+73b/LUoSjXH1jJ7bUryb35ZjrvuQeEQA4ECFx6KcGr34V73ryB401F4NX/tsN69IvDJyQFqWIBlMyCwsm2127hFDsLxSn4UhGW4O3HD7L1lXpkReK9X19IXumxbQJ7YIbDdN13H6lduzHa2+3S2QmWhVpSwtjHH0Mdxlknbab5+uqv8/Kh5/n13SZ5Mdhw+1JmfeAzzC6cjW7p3L/nfn67/bfEs2nbXIqLlJki4AjwnWXf4fyq89/RnFP79tH+i18Se/VVkGUq7v41/hUrjr+BUB1s/ivUvmXHUdQTw5+nuiGnEnzFdvaQbEBs3LngL4G88ZA/npQzl7sb2tkSSRA1TCJJnVA4RSycQY1kUEM60VCK4b6lCnxOJpf4GJevku/qIsfRgE/aj1tsxcmBYR8RRfFSXn4jlZW3HTMMyz8TXffdR+sP/gfJ4WDMww/hmnJ0LlZvbqbm2uswQyFybnwfpf/1X/+kkf7fghCC/d37WdO0hreb3mZT6yYyVmbAOWODY1lYspC5RXMp8ZaQ58oj352PX/OPBu0+gzEqAI6qgM9IvJJ8nomAL5NE0vrsy+KhbpRUggmqgElT2Lt3L8899xy79u3jqssuo6Cg4KjtHg4f5n/+8Z98XjcxZImb9fcD8IjToNMpU+bQkE3Ba3/fx963bfZt8uISVrx/Mqo21M6tP/TGRqb94y88Ne1aNlXMZMz/fhzn+PE4Kitp/8UvMFpaCD38MKGHH0arqCBw1ZX4zjkHt6Me6YU7emO5RZwlPBOfRqxyBbd/8FZwHdtT951CkiWWXj+BUGuCIzs6WXn/Xq79wjwk+fi+tJVgkMLPfnbAPmGamF1dyH4/8gi5mp2Kkx+e80Mm501m1cJ7uPq1OPlPv83Neeso99vq6sZYIwDT8qdxx1l3UOQp4j/f+E92du7kc69/jg9M/QBfmP8FNOX4VMLpAwdo//XdRF94AVN20FUwi6m3v+v4hb/6DbD217D7aeifj9YZhMqzoGIhFE2BYCXkVIEn/5hC+vZogs9u3I0v8TZV1FJOmABhAi67uIpTSAhShoP6cDm1oSqaoiW0RItpT+bREUvTcTDNW71piouz5WxUySDHFSXPnabQZ1HkUynN8TGubA4OKRc54qI4YOA7lkPKPwHJ7dtp/fFPACi648vHFP4AtNJSyv73h9Tf/jFCf38Qz/wFBK+84nQP9f8ELGGxvX07L9e+zMu1L9McH6iJKPYUs7RsKQtL7QgERZ7RsDyj+P8TowzgSeB0vUHs2H8/6ru+C8CTX7+Mz9/wJZzOUjY8/RirHriXqWefh/LeD/PAa29QtXcrihBYkoQ2ZQbnLl7MhKeeIDB3Nr6zz8Y0TQ7WHOT5zc/zUvdL+Nrq+Pb9JkxZin/KrVgOmcty0nTOzWOBz81tr8doORxGkmDp9ROYfUHlMd9irVSK2pveT/uBGt53+bexJJm37jyf8hxbhSUsi8T69YSfeproiy9iJRKoLpPi+WEClXYaOlMrRFz0A96/uZx1R7r53rUzeP+iU0v5j4RoV4oHvr0OI22y4v2TmX72iavVjwUrk8EMhVACASSns3dN053tHDr/QqR0hh/c4mFLuc0uFLgL+Ny8z/Gu8e/qNdzWTZ27Nt/FX3b/BYDp+dP57LzPsqR0yYj3KLV/P52/+z2RZ58FIdA1LzvP/grdVi6TFhZz0YeOEtLGsmDP07DmV9DQZzPH2HNh5g220Fcw6YSDLhuW4LeHNnKo/kGW8zpBRlajj4SU4aApXkJjrIyWeDERo5LudBEdCT8dceW4zc69DoWyHDfluW7K+9U5HgdBt0bApdq1W0ORJCSJU8rqmOEwNddeh97UhP+SSyi/62cn1H7bXXfRec9vkTwexj76CM5x407Z2P6vYU/nHp4+9DQv175Ma6LPjMGtullQvIClZUtZWraUscHjj5M6ijMXowzgqAB4UjhdD9CuFz9G6ovr8BhpXrh9KrPmbENV/TSvHUvjJp3Y/DG8tOAcGqgikDZYcGAH1V32F1ZSc7C9bDyVLU2MUQ0y6Tj0c9h0SB1c9fBKci7+CpKzisYJfq43whiTg8xrMbjijQhOj8rFH55O1fRjG94LIWi64w4iT/8DJTeXO9/3fTY3x0cU4KxkkuQj38d96B5kKYOwoHOvj45dfoQpsbZ0Bn+fdD73fPdmxhWevLfn8WLrK3W89ehBnB6VG/9rEd7gqbGpSh84QPdDDxN+6imsqB3vUNI05EAAxe9H9nrRW1sxOzqQC/KJTq0g41IZM2E+7rIKtJIS1OJitLIyFJ+9HivrV/K11V8jkrFD8YwPjuemqTdx1fircKtuhBCE336J1mf+SKxlK0ahwAyAWVHNgb0fIRnqYSwE593ewfjp5+N0Fg4ceMdB+MfnoHa1/bfigJnvgcWfeMfhV0wzyc7GZ9lc8wBV5rbe/aqjkKL883A4C3Fo+TgcBTgc+SiKF7J2RLol2J/I8FRbmBc7E+ioGKgsy8vhk2PGMi+nT9Wum1bWg7nPm7klkqI1nKItau9ri6SJpt+5J7OUdXZUZAlFllBlGVnq+9u20wJZkpCzwoIs239L2DUSGK2tWPEEsqqiVZQP61F+LFFDb2zESiaRHA4c5eVI6tHZ+uPFifwynBJ5SAhERsdKp8E0EZZl5/jO1giRXYx+nUmSnbEmWyRZstsxTIRp2u2Ypn2epg0tikzSTNGd6iZh9JkzyMh4NK9tp6d6hgh8//S1+T+OmxdXc/OSMae0zVEBcFQAPCmcrgfo4N130vTHNyiMh3j46oUsuXg1igRHXi4ndDhA+dIWCmd2I5BwuatRtUJq2vI4tCOIkRwquAjVQPLFIBQEJIKRGBc4zydP+HlyQQ4/iIcxq3ws253k6kbBlZ+Zfdy2cF1/+Qut3/8BKApVf/wjf4rn8ZOX93PRtGJ+f8swwWp3PAqPfxSEhSidS3rqZ4jubCW++i0SW7YgZR9Hz9KlFHz8Y3hOwL7xZGAaJo/+cCMd9XHGzPGw/EYHlpVBCBMhjN5aUbw4nEU4HcWo6vA2PlYqRfTll+l+6CGSGzedsjGqpaU4J07ANWkSyaoinpF28tf0SlTijHVYTHGrzMeBQ44g3NaAa/VELvVvfJ5MtBTFFcLpbyHRPgVf+RYqlv2GYHA+RUWXUpR3Aa7Nj8DKH9r2mJoHlnwaFn4UfCeu6hLCort7LS0tT9LS9gLCsm0aLSRM31LmjfkABQXnn1AIlYOJFHcdaeXx1m4sbHHgq+NK+XRV0Qk9K/G0QUskRWO3nUmlp24OJwkldKIpg3BSJ3YSguIoRjGKk8d/XDiR/7jwncVLHQmjAuCoAHhSOF0PUDgcZu1lV1PV1cqvzrqeV99zLn5vnMufepRAS4iCy52MGdeAoQ8M2GtZEs3Nk2hqnIqqZsjNayQvrxG/vwNJgu7uEg5sWU5adaMImfkOP78WHrZMnI1V5OK6vZ38x4oGArm5qKoPRfGiqF5UxYuq+lHVIHK/MCTxdeup+9CHwDQpuvMO8m+9lZ2NYa785Wq8DoXN37wIZ382YteT8OiHbBuyebfAlXfZXrxZ/OYvr6L/9V4uaNyMbNkCjHvePPJu/gD+Cy44JXlQhRCk0y1EozuJRHcSje4iFttDJtNBsquMI698DYRMxdl34SvdNXJDFmghJ672II4ON1q7jNxqILUkEO0xsLIfK0XBf/555LznvXiXLsFKprCiEcxIFCsWxYrFsNJpOu7+Dem9e3HPn4932VKM1jaMlhb01laMlhbMUGj4YXgl0hNN0pMt0lMszCJ6CRIrriL5q/E7l7PryYUkww48OXDRx/LAUnnqx60gJKov/C7uvFr8UZ2p+2P447aNnzX2bOR3/RpyT0wVn8l0EQ5vJhRaT2vbs6TTLb3H2ijisPMi3j/jQ4wJjjmhdgfjcCLNj2qaeaItBMANxbn8eHIlLuWdB2EeDoZpEU+bmKLHyxEsIUCAKQSGKbCEwLAEpiUQAkzL3iey5/RcJ7L7kgcP0fLf3wHTIOeDtxC48KJh1dbDfTsP53VqtLbS9pOfYrS2Ink8FH7mM7imTT2l63BKYJgkd+wgvno1ia1bwRgoXEtuN46qapS8PGS3C9ntRvZ4kNwuJFnJRoCyEJawmT5dR6SSWKkUIpXGSqWQVAXZH0AJ+FH8AWS/H5HJYLS1kW5tobvhEEZbG56EiXyiv36ShJqXj5ITxMpk7D4zaUQqDbKEe9YsPAsX4p41czRv8ylEZa7nmAHvTxSjAuCoE8gZiRcPt/C7OTfy5fX3Y6AQ8hVixVTUuA5AwdjrOZCT4EjXdrojO5Hbm7hxvYWmQufYg0gzmygPVDIhlUdsvU5DcDyNJZUk85ys2LaKg7Oup1GLsl4Pk687EW5bCBs//vfUN2+AEaKvACiKD03LQRUezI21OM8yKCi/lLwPfhCAaaUBCnxOOmJpNh7p7s1ly95n4bEP28LfnPfDlT8fYjv2cszF5vnvo/Lzn2XxhucIP/Y4yc2bady8GSU/n5zrriXn3e/GUVV1QuuZTDbQ1f0W3V1v0x1aSyYzfKYLV24deRNfo2v/hbRt+SAF1feiOiwkSUHusFC3xuFQFLkhgdJsIacFEMoWGz2/J0auILHMQlxQhqh2IQI1mDEvXu8ENF8pWmnpwHUNBKi79TZSu3dTefevUYIDnV/MaJTU/n10bH6K0LaXEbXdaPUSchzcW2XcW+21tByCAxMUfnWeoDWgEGjUedfuGfgyDqxAiooPeAiWj8fv8DN5kcyhtbWUHL6I6d1P4mrciwToqsT+8V5aivaSd+Qb5MfOIy93KV7vpGFUYYJE4jDh8BbC4U2EwptIJA4NnJsSYK20lOeM5Wi+OTw5bxL+U6CmHOdx8pvpY1iY08HXDzTwaGs3R5Jp/jxzLIWOUxMvEUBVZIKeUydUmtEoNR/+CgVtjbbd30ffe/Is9/gCjKk/puFTnya5eTN89VOUffc7BK+++tQM+iRgJZMkt2wh9sabhJ99FrOj7/PnnDoV3/JluKZNwzVtGlplpa3SPcVoS7Tx0L6HeGTfc3RPsdP2eWU3Hyi/muvzLsAfMzE62jFDIVuoS6cQyRRWKonZ1U2mvh69thYrkYD2gyN3VL8Tnn0A2ePBd8EFBC67FO/y5ccOgTWKUfwLMMoAngRO1xvEOXe9TF1LhqJEF4ubdlGdE+PCNSt5dVoVQpZ5dkkD7bk2S+NKC75/n0lFJ0QmlxH43V1MKZrR+4OS2r+f+o9/HKOpGQEoZXPxLPw4m5Uatqg1IMGDc88jFAhyhXiCCRymQktQqup4pRSmGccwYkNSXw2G3z+TgoLzyctdyg9eTvPQphAfPXssX7tiGux/ER58P1i6bUd27T0DmD+w1XGzv/0ShiVY9eXzqMzzoLe2EXroQUKPPobR1tZ7rmfxYpzjxqHk5aHk5qDm5qIWFuKeMwdJ07CsNF1db9Pe8QrdXW+TTNUN6EuSFLzeifj9M/D7p+P3T8flLENVA1i6g79/Zz2xrjTTxutMdR0i+cbrpHbuHDppVUWtLkWuykOUerGKVMxCQbogSVw9Qio9NIcxgNNRjMc7Hq93PE5nqc1kCJOuB/6G0dWBb/EygksuRNNy0LRcVC1IPH6QI0d+QyJh//goipey4vcQaKtCvFVH6K9/t+2kshABH/svncrOzBJyQ5PpcjfzzLS7STgiyEhcpxVxXdhgcvNeHHKy9zpz6uU0z1lEc+QNItHtA8btcBSQm7uEnJyF6JkuwpEthMNbMIyhThwezwRygvPw5p7Npxqq2BA1qHBpPDNvEiXOUyec9eDNrigf3XWEsGFS7tT4y6xxTPe982DppxNNX/0a4ccfR6uoYOwTj6P4jx5e6URgpdM03Xkn0edfACD/Ex+n4CMfOWrawuFgdHWR3LoV2eNFyc1ByclFyc05piBjJZMYnZ3ojU0kNmwgsXYtyW3bELree46Sl0fwqqsIXnvNcXk8v1PEMjFWN67m5dqXea3+NQzLZhvLvGXcNPUmrp14LQHH8X9vCyEwOzvJ1NVhdHYiezwDitnZSeTFl4i88AJGc99btBwIELjkYgJXXGGbtAxj5zmKfz5GGcBRAfCkcLoeoCfe3sD3Hj1AhyNIfjLED66aRv63PsHKcptNu2T7YaIlXtJTxpAbMnBs2YtaVMSYRx9BKxpqp2W0t9Pyve8TW70a18wPoRbP4GAizUrvLnB2s7NsLKsnzqbMqdLUz96pzKlxY2keN5XmU+ZUMIwIqVATjd+5k2TTfowpTqzLKoml9w7pM5z2E9ZLucCfT+Wq55Ask/SEZaSv/B4OVzGaloMsu3pzpq7c18atf95ARa6b1XcMjHEnDIPYypV0P/Qw8dWrR7TAlisK0d9XTvuEnVhWn0G3JCkEArPJy11Gbu5SAoFZKMrwIVrSBw5Qd9/jhJ97Hm8/T0AkCff8eXgXLcY5cSJK9Viaoz5q94QQAoqqAxSPDVBQ7kPR7DllMh1EIjuIRLYRjmwlHttPOnP8QZKHg6oGqKz4IJWVH0TTchGGQe0Hbia5dSuuuXPJveEGOn73W/RaW+jVVS91ledjfnURW+TtWAdf4T2N+5mR6YtlFjaK2S7NY9d5VVSNWcH0gulU+atIJutob3+Bru41hEIbsKzU8OsuOwn4ZxEMziWYs4Cc4Dw0LRfDEty2s4aXOyPkqgpPz5vIRO/w634qcCiR4pbtNRxKpnHLEreUF/CxikLKXGcO+xJduZKGj38CJInqv/0Vz/z5p7wPYVm0//SndP7hjwDIPh/B664l98YbcY49etBrMxan69576frTn2y2axAktxvZ5UJyu5BdbiSXE0nVMLu7MTs7h70GQC0pwbtoIf5LLsF39tlI2ql/CQDoSHbwev3rvFb3Guua16FbfYLnvKJ53DztZlZUrkA9BWn7RoKwLJLbthF5/nmiz7+A0d7ee0wtLCRw+eUEr7/uHecAH8WpwagAOCoAnhRO1wP00qMPUfPnv/Obie8j5PIzrsDLfSt8PPyjb6FZgot2DMyVKmka1X/7K+5swOiRcOTRNSgbMkiSzMpogpbEm8SqNXRZ4ZlFF7LlokXsT6Z5qLmLh1q66NJtllEGFga9THFpFD/+KGVrVzMuFmHmPXfjmjKFdLqNzs436Oh8nUhkW6/NV15Xhlm7IigC2goc7JziRwyKsSfLTmTZRUJX6YirOBylzB4zFZe7ErerHJer3FY5q35U1Y/R1E709deJNx+iq+UQmY4m5FA3rsYEStxuOzPOouFaD6vGL8GVczZfn3Ulqjoyy5KuqSHy3HNEX3iB9IE+9Y4lK3TlTKajYA7R6nnMfNdMXF6Nw1vbqd/ThalbQ9qSVYmCCj/V0/OYc2EVDvfAHxpdj5BIHCIeP0Q8cQA90wWSYkfyFxB++hmEnkIeV4w6pRLdCKHrIWRZo7zsRioqPjBgLu2/+CUdd9+N7Pcz7skn0MrLEYZB5Nlnqf3hL9C6bBbSN95JyXIJLW0/O4bqZFvJJJ6QvBRu/DyqcPDM1LtpyLHTAPodfqblT2N6/nTGBMZQ7M4nTwohJ/cTi27D4cjH65+J5RhLXM4llIkSdAYZHxyPz+FDCMGX9tVzf3MXLlnikTkTOCt4YizUO0FIN/j4rlpWdtse15okcX1xLp+sKmLSaRQ+jwdmOMzhK6/CaG8n79ZbKb7zjtPaX/jpp+n49d1kamt793mXLSPn+utwTpqEVlnZm0FEZDJ0P/IIHXf/BrPTTsXoqK4GVcUMhWwbVNMcrpshkBwOm5GfPQvPosV4Fy9Cq6o6bc5ch8OHea3uNV6vf50d7TsG2EhWB6o5v+p8Lh1zKdPyp52W/o8GYZokNmwk8uwzRF58CSsS6T3mnjOHnPe+l8Cll4yY9WUUpw+jAuCoAHhSOF0P0L3fvAPXmjW4o06+vPwTpFUny3LTzN38JwoqqvjAV79Dctt2klu3kt63j+D11xG4+OIR2xNCsOXlOvRH11KeV0a6u4bC772b+zYc4uCG58i1EhzILeVHrXWUfPMbyC4XacviufYwf2nqYE0oPmy7hQ6V8W4n4z1OxnlcvduVms4ffv99Ptb+WzRMImVVHF4wl7TRja53kcl0IoQ+bJvHgokDAwUnyQH7pRTwcoCCV3W0jP1D9ebchfzhXe/lBxcv58L8offHisdp++nP6H7ggT5WUdPwLV9u2+6cu4Ka/UnWP1NDqHUosxEocDF2TiEOp0LrkShtRyKk4n3zcvs1Fr1rHFOXlSEfZ3Dp2KpV1H/yU6DrBK+9ltLvfXdEm6jEpk3U3nwLWBZlP/kxwSv6AgFHu1L87WurmB57lPl5z+HNtX94LEsiU3ghzlt+iRS07RBffmA7+9/swCiIsX7JQ+zt2jsk20F/5LnyyJiZEfOdlnhLiefewmF5BjKCP80Yx6WFpy+g92AIIXitK8qv6loHPLuXFQT56rjS08pCHg1Nd9xJ+KmncIwZw9gnnxgxUPiphLAs4m+9TfcDDxBbuXIgey5JaKWlOMZUk2loRK+zWWOtuoqiz38e/yWX9AptQgisaBQzEkEke5wuUnat6yg5Oah5eSgFBche72kT9oQQtCZa2da+jW3t21jVsIojkSMDzpmeP50Lqi7g/KrzGRccd8bE7LMyGeKrVxN+4kmir7/e6wAjBwIE3/UuApdfjnvO7NNiAzmKoRgVAEcFwJPC6XqANq5dS829f2TGytW8UTmdH877IEKSmRfazI0Vad799e8ed1tCCN567CDbX6nnMq+FpjlBX0/FT77IFx/exrb6XSyP7icjKbz/wb/jnjqF0m9/G62iAiUYRJJlDoWjvPibP7AvEuNIRTX102bSJEb+Ur2saw2/3fkNHELnzcBywjf+2Y4jR9ZJQggSRozGRJTmVJQ9HZ10ZuJ4tSQFtFNIG0W0UUAb+XTgIYGHgQKYjkqjNI64cypu32wq8uZQFphAQbgbfvtbIo8/DpaFKUm8veQc3vONO8jpp/6KrX6Llm9+E73JZsi8y5cTuOIK/BecjzLoXlqmxb51LWx7tR5Jlhg7q4BxcwvJL/cN+HERQhDpSNF8MMSmF2p7hcb8ci/LbphI5dSj5yfuQeSll2j8/BfANMm58X2UfPObQ37EzEiEw9dcg9HUTPCaayj7nx/0HUyGOHzfz8lteJBctSm77grhhlzaNykYSQXHmDEUfPITBC6/nGTC4q9ffxsjY3H5J2ZSMTOHQ6FD7OrYxZ6uPTTEGmiONdMcbyZpDBS8VVkl35VPniuPjmQHbcl2Yrm3kPJfBMLC3/UHbikv5QsLvoBXO/0M4GBsCsf5VV0bz3fYdoqqBB+tKOSLY0rwnaJ4eceD6Guv0fDJT4EsM+aB+3HPmfNP67sHmYYGQg8+SPztNWRqa7HiA1/slIICCj/1SXJuuOG0qWhPBNFMlPpoPfXReuoidezq3MX29u20J9sHnKfKKotKFnFe5XmcW3kuJd4zJ8XfSNDb2gg//gShRx5Bb2zs3a8UFOA/bwW+Cy7Au2TJv32OZyEEZihkRzxobsHo7LDtRQ0DoRsI00QYOt6zzsJz1lmntO9RAXBUADwpnM4HKLl9O0fe8146XAG+c/aN7PdOBOCjlTG+9qn3HlcbQghWP3KA7a81UKZJnOVVsZIhnGMPU/wfn+OaX7/FFpfOjc1v4TJ0ztm8hdL9+/saUBTU/FxUD6Tr20B1U/m73+FdtJCoYXIokeZwMs2hRIrDiTSHkmmq6l7j7h1fxyEM/lFwLp+Y+k2Mk7S38SsyE90aUz0mE50GY5yC6fkTqXCPzDSk9u+n5Wd3kXz9dQAsRSHvumvJff/76brvL4SfeAIArbyckv/+Nr5ly05qjINhGhY732hkw7M1pBP2m/74eYVc9OHpKP3ClNgfP7v03w4/+xzNX/0KCEHuzTdT+MUvIkkSmUMHCT/zLJFnnsNobUGrqqT6dz9B0TuQQnVQvx5px+NIWUHNUr0w572IJR/HchcT/vvDdP7+T1ghWyDSKsrJ/fAH2SfPYcvr7ZSMD3DNF2b2m4norYUQhNIhWuOtOFUHea58Ag7/AJboP/c18ve2BBKCZdIaDtXejSRBqaeUry/5OgtLFg5aKWlQXz3r0O+M3ns8Ut0TbFca5pjd1oF4mu8cbuGVLpu1LHaofH1cEdcWBrLtCxgQXsVuy25Xzm4P9YDuu04Ma5oqSWCGQtS86wbMjg7yPnwrhV/8j0HnikH1wGMD+zle9Ixfom9deuZjE4FmZxeZ2lr02jqEZRG47BIkj3uEvvqvbc98LYZfM2nQ+fRuD/9xlciYGbZ37GBd8zo2t26iJnyEULp7yJkCUCSFibmTmFkwi7NKFrC0bEn25eJU/JTZbbzzX8XBn+c+DHx+sp8ZyyLx9loiTz1DfNVqrGgfqy653XjPXobvogvxnbsc2TtcGJSRPgs9cxj++8U+LvpdIwFy1iZbHnRd//t8tHvcfw36aiudRm9uQa+tQ69rIFNn13p9A0Zrqx1C5xjI/9QnKPrMZ4953olgVAAcFQBPCqfrARJCkK6rp+aSS0grGtdc9QNuXlTJX9fVU+R38uaXz8N1jNy8QghWPXyAHa83AHDFeD9qZ4r03mfIv2UxwWuv4cZv301FcSszUrWMDzdS6FWpbG+ERAeKmkF1WShOC0kCy5Awqy5Bu/q/oHgEW5q9zyEevgXJ0mmecCUX6rfT7dSYVJ1D0K0N+KpwyjJVbgdd7Qle2tBAgazwj48uxqWqiOyPqf1lL5GvKe9YjbNy1RqO/OznLNq9beABSSL3Ax+g6D8+d8IeksPBsjIkEjXE4vttZ490K4YZJRlLU79xOq27Z4FQKJ71IgXTX8gGl9YR4vjsqgAkSxCIGgQjOsGIgT9m4ExbDKcw6tCr2SsWo5/7MpY28AwpCd43ZLyvKSgxe12NgERN4dU0lS6n6srv4QycmLOKhcR9fIRXpEuRhMVHuZtzef2E2vhnYAvz+CsfolWy1d+TxB6u42FmsP2YGTfeKXL+rODZoKCXCNq/osO/nlwbxZkIAxwHJdzbZFzbZJRQP+2CKkhPFSTnWqRmWIh/XpKkgRAgpUGOg5Sww1DJ8Z46ux0FJSIhhyWUMMjJY3+yTL/AzBVYARAaCEXYcqgCQoHghVcx8X0/OaVTGRUAR+MAnpFo3B9i9Z92MlezcOo6TiPNnKpcXtnbTnM4xWObG46aJ1cIwaoH97PjjUaQ4PxrxqO+XocQFnrtahwV15N49X95kO9D/9/5OODJlv7tISGrArnpBfjNCzDmbFh4O0y+HJTsIxRphsc/imTpMON6Sq/9HZc/votHNjVwQSCHbyybOGScummx4omVKKEUn71qGhWeU28TteLsJXw4t4S/rt3AZ59/jEm7tuMYO5bS730Xz7x5J9yeEBapVCOx2D5i8X3EYvuIx/eTSNQgxPAZI3Knv4HsW0Tzuo/QuvMCPKVv4wwOHyJmmA4pb05R0pYmEDWGDVxrSZB0KaScMgmXyqYDn6cxvoDSRX8kqA0VD4UbYpdaxM+38Lwl431FQe2GiZEnGVfzHKGOEqyr29Crj+/dUAD38lFelS5BEha382vOYeXxze+fjLlsZgbbeU5cxVPcwH5pKv/Df1EparlM/IMl1hoUU8bU3VgZT7b2YupuhKUiTNWuswUhIywFhIQQCkLIICR7v5AINLRStmElQpI4OO8yYhuzkbqFhBD9WBQB/dkUcRQTi2MnhxsJR7ufp1j8Per4TxZHY53eYVvvZLxSP6ZUOoU8ShlQKvB2dZBXf5jchhrc0TCuHRKuHTJCkogWFBMqqyZUXk3Sn3vsfHM947MsVD2NksmgZlKomTRaOomWypZkAi2VRDZ0ZMtCsiwky0QyLRRDR8mkkd8BZ2QqKmlfgJQ/aBdfkLQvQNrjI+PxIpSjiyLjfTkM/QUZxcliVAA8A5F+9lu82/U3OiZ66drtJZiOs+NwN7efM45v/2M397xxiPcuqEQdJuOBaVqseugAu97MCn83T6HCEoQBs2M/ItWJs/bPKLseAGB1cC7NrkKmpDJ0hlMUVk5g+oJz7LRfviLwFSO5c6FuLaz/Lex5Bo6ssou3EKqX2eXgy5CJQfkCuPZ3oKismFzEI5saWLmvjW9cOZQ1fGJzI42hJAU+JzcuPLHgzieC704s5+yuKB8b/xXu8sm8d/aUE4rSb4dDeZn2jleJRndimsM7xSiKD59vEl7vJNyuClQ10Ou9rMz18WY0Q8NuiOz6AVf9RzWq5ujzAEbKql/6qVhq16K89E2k1t29fQh3HqLqLETFWYiyOZA3FnyFOCUFJxJNq9to3FqDL9fBFTf9NqtuFvSp4Aap8i4C66sZIs88R9s996E01pG/tw72ajinTSH47mvxXXxhb2DqoepY+FltB6/WdiIBP51cyruLf0GfCqnv/M1tm/n+2/9DU7QJU9ZBAk1SmVc8j7PLl7O0fBnlvgqEACMjyKQMMgmTVELnSFs9O5p2k0kZVPurKfdUIAsZyxJYpsDULUyjp7aLZYJlCixLIMzseYbA0C2WGIJ5ukk4FUbPWCimH828icPcdNzPxTEhBBM3/RCA+vIVNCeuhOGjpIxiFEMQB9qKL4AigTfeRFH7Vgo6tuGPNxJobyHQ3kLVtnUkXflEfRWknbmknTnZOoimx/EkWvEk2/AkWnEn2nAYw393nShMScXQPOiqB0Pzoms+dNWDnt1OO4JknAG7dgQxVPdQIVVkJ3kcQ3KI0/f78H8ZowLgGYjOsUnGbzPwlBh07YacTIw31jbyyYoigk6V+q4kz2xv5pq55b3XCCGo3dnJW48etJ0PJLjglqlMWVJK+5/sIMZm2xYqzg6j7HoAgcS3jFv47ZwPAfBKpZ+Vf/srWovGuEnvwj04LMGYZXYJN8DGP8GmeyHeDruftEsPXAFo3Qllc1g+sQBFljjUHuelXS1cPL3PONswLX71uh1y5WPnjDumSvtkUOp0cOe4Ur5+oJFvpuA8IVF8lPOFEMRie2hvf4n29peIxfcNOC5JDrze8fi8k3sFPp9vMk5n6bB2YvF4nHA4zIRzYrQcaqKzIcMbjzZRPteFYRhkMhnS6TSZTIZMJoMab2F644NURjYAkJbd7My9jAbfLOKOIiRkpEYJGjsxzTYMw8gWE2NXFeAg4qzlnns2YVkWQojecUmSNMBmz7Ks3iIuPI+yHX4qGtZR2LGZ9O69tH37B7T+9//QXVhAR2UlXVXVxEtLeoPZ7vbn81ilHcz3sqYDdOxcxW8AYUgQ9yKlXaA7kDIO0DUu1L+QFXjBkkyEZGBJJq3AU+IwkqhDFiM9C5VoQBPQxHEyqMeAyvBfgroCaU1CKBaKbOAgg4IJsrDZlJ6CyMq4oo9lkexAJEWNuwnE6jFUBzUL5mE5W3rP6bXTGsxcjcQkDWtgOPBPqzflnEVEdbK5qIqUMvBFRxICVVhIQiAjkEVPsVCzRcnWmmWiWhaqZdrFNFCEBdnrJaysfRgILCzAQiAsYdfY7UrZ8auSjKxoyJKKJKsgy1hIIEnZVcg+F9lNCwmBhMget7J2nr3WaZKElJ2DIgS29Zr90mFJtubCkiSs7BOnCCt7roUisqnksuf1t44baqk3/LLL2I+DjEDqqRH9yEjRO3e5Z6cQvWPu438FssjONzvHnvGL7IOSkGTamQfMwx0LUdxwkKKGA+Q3H8Gd6sSd6hxmpCPDUDUMhwvd4UJ3usm4vGTcXrt2ejA0F5asIGQFS5GxZAVTUTGc9jWW2mPH0P/ODYdUthwNYoglMEhZotxeuYikAhNOaI6jODZGBcAzEM3F4wDw5CdADhDIxNmjWLTtCzPLCavc8JN/7OH86nwCeS46m2K8/ehB6nZ3AXb4kXPeN5kJ84sQukmmJoxElNKxT+LJS4Di4J68O/hzl23s71Nkpo0bS3FxMa2trWzZsoWlS5cOP7hgBVzwTTj3DmjcBDWr4O2fQyb7GnfoNbtMvITguV/mkunFPLejhdv/uombFlXxtcun4nWqPL2tibquBHleB+9ffPrf7m4rL+CRli62RZMsWbeHswJeluR4WZLjY07Ag0OSiMf309r6DK1tz5FMHum9VpIUcnIWUlhwEbl5S/G4xwzIiWxZFpFIhPr6g3R0dNDR0UF3dzehUIhwOIzZL36a01VEID2Fw2ujbDr4BqbaRwmpGCxlI2ezAQ0DC4lNzOR1aymJTjd0hoHwiHN0pAoIZhxYkk6ndQi6h8YpPBZaSkuIBG5FcCF5oecZW1NDTjhMXls7eW3tsGkzaYeD9sJC6svKqVlyIa5UiontjYzbW0cyk4sjnYuqB3oFvZEgC9vAZyRxTyAQko4lGwjZQEgGQjIRUt/Pdc+2kCyQsmJHv22k/udZw58nWQgsTNnicGEJe0sraMrNxxyUrSaQjFEQC5MfC/fW3kxqeCHBsjhr54sA7J08kRZXQ98xLDwiiZsUbtK4yOAijYsUTpHBgY6TDE4yOMigYaD2FhMNAwUzK8RZ2WJvS8CbufP55LSvE1O9uMwUEoKkMhpn7t8LttOaK51i1oG9lHW0URDqpLC7i8JQFwWhLmJuLw3FJdQXl9FQVEpdcSkdOXnEPB7MY6hczzR8JLSBizjnXz2MfzuMOoGcBE6XEWk4FcL633HkWiZHXsnnO9Uf5NXKBfx23ngOrm/j50qUjATXJhycXZVHy+EIwhLIisTs8yuZf/kYnNkAxKn93XT+aR1Fzi+hSfVYloZ02xOcdX+KVqeEvqCAKV4XKxdOYfPmzTz99NMEg0E+/elPox1PKIh1v4Pn/xNcOXD9H2DHo7DjYcgyA+a48/i7ei3f2R4gjYMx+R5+/O7ZfPnR7RzuiPPlSyfzyRX/nDe7PbEkH9h+mMb0wBiEDskkj24cVtT+ESaNW8rgdeQScJfgd5fiVFxoskSuLJGTSuCKdCO3tdDd0kx7ezu6fvS4hn6/H4/HgywrWIfLsMIeZF+GwNwuXC4n5ck9zGz4K96UHUQ7kjuTuumfJJUzCVmWkWXZZneyrF3Px1ZRFFRVRVVVdj4bov1QivFLgkxdUYAsy0MYv55aCNHbbs95siwT78rw7M/2gQTv+tI0vLkO9OZmUmvXklm3DmPjJhiU7cGSJJK+Mlrz51JfcR6matty+vI1cspceHM13EEVb46GK6igORVM3cLI2CrbbIYudDnNodhB9kR2sr17K6ZIsyhvMmflTGCytwSXkUTIGpmC6dSkOtjStoUtbVuoCdcAICExJXcKl469lNmFs4cIoP2Z0P4Ybl/KEmxN6qxLGqxP6RzMDC9MuyQoV2XKNJlyVaFMhQIjRvVrz1P2x78jPA6Cn5pHjmhHTbSjJDtRUl1IJ+D8cyL4a+lV3DnxPzAllSWhLfxp1zfINaKYyCQVJ3HFTVJ2kZY1MrIDXVJJyxop2UlM8RBTPMRVDzHFTVTxElM8RFWvXRQPccWDISmYkozZU6PYQmgPu4WFJOznoue4JclYkoQiTByWgSqM3rpHcO0RaG22zkQVJoow0SwDBQtFmMgiK+xmawuJjKxhSAq6pKLLWpblNNCEgZq93pIkUrKTtOwgJTtJyQ5MScm2Y7OeCj1sZg8r2Mc+Dn5CLCTMbJ+GpKLLCoak0MPrWZJ9vYWMkMjW9t/22skYkoohKVhS34uG3G/eSpaNtdezd0RZZlMesLa6pJ50tIUzGZ8z9vCVi248pW2OOoGMCoAnhdP5AO36zQKmtx6gbbuf3/o+yB/LlvK3Dy9iyZg8vva3LTy4r4VSQ+L9MScSEuPmFLLkuvHkFA304Ag9cxh57fcJqI+gJ2TCgVtJfep7LP/h64hKL+lpOVyYH+Bvs8ah6zq/+MUviEajrFixghUrVhx9kLF2+NV8SIXhip/AWR+x93ceglU/he0P0vPrbkkqB6lkoz6G7WI8W6wJtLrGsfrOC/A5T/8XVybTRSS6nXB4BztDTayPwQ6jkr1MJyK98yDFnnSK3ESUwliYcZLJdLfGlLwc8vPyCAaD5OTk4Pf7UdW+Oca60/z9v9eRSRqcc4WXmYlfwZ6n7YO+ErjkezDj+mMbdveDsAR//NIq0gmD6++YT8nYdz6nJ3+2hcZ93Zx1xRgWXjVuYD+6TuPr63npkVepPLCPgu4aXP3CdZjuANLVN1Px8VsIlgTAMiEdte1D01FIxyDWCpFGCNdDuNHeTobASIGR7lcnGR4SFE6BigVQcRZHnC5eqHmeDU1rEcJEAao8pXx21u0EJQ30RF/JxCHTU8dAT9o5qi0DTMOuLd0et5mxx2FmME2djGWiW6ADOhImch8L11tbyIZF2z+8mHGFgtlRCqdGqXcWs8c7jnpXMV1aDhlJJUcyyZFMApIgVwWPpJPWo4QyXXQm24kaYUzJwBQWpmQLVPneEsr9VRR6ivA4fHg0Dx7Nh1v18mRU5dmwLVAt8yp8uMCJJtnq2FgmRijVRSjVTcpI4Xf48Tt8+DU/PocPRVJsVawkYQiBLkwswKG60BSHbZ/aa6Nqq4Ht3NPCXivEQDV1b8iRQdvDoWetLd2+B6Y+6Hypr+rto6e/fiF8RP/9wh6jGPR3/3EKq6+tAeMeaV9/DCcWHgVDQsD0tSmEwBIgSz1het6ZA43AbscUAgt72P27HT4wz8Drod+yDjeNIZ3aJx9LiBCI3rSfRz8P5Oz6SJJkC74SMPESlCmXHfP6E8GoADiqAj5jkT/1Gmj9Ed6iNBVp24ZiT3OE5RML+NK7Z/DE/7TRjIV/RSkXziulfFLusO1k9u6nQLGFi5aNOXhvnce2eluNmFfgoRmoyOZK1TSNiy++mMcee4zVq1cza9Ys8vKOErz41W/bwl/JTJh/W7/Bj4drfg3n/iesvgv2PoMcb2cSNUxSa7gpGx4k5KzEt/q9MOM6KJp2QgLP0dBjw9fV/RaRyHYike2kUn0qOB9wPnA+Em73ODrV+YTFVCKZatqjOp3xBN2JJLF0BkuW7bdt2S4Jh4uY109Mc5IBJNMgrDkJ5xZxEHhRgkBaYWbcYonDYKkrzURFxpAVJNlm45xumWWXuYm8+DsmbXgaIaWQZAUWfRxW3GnbUZ4guprjpBMGqkOmsGrktHdHRVb4mnmWk9CBTurf7mLBIh1Zj/cKTLWbjlCzoZZJ/hTq/ABCnYrbq+OOhIm+XQtdEXjw17Q/+2uYnSBQHjr52+oM2AyzOwjJMITroH2PXbb8lTHAx7OlD21w+FMn2XEfFMCdLcdC9wEPZlxBcZnkT7TjulWmW6lM97ncZySVpOzCITI4Lb3PRuxY6AoBQ3NvA9yULYMhA4FsOZaxhYQdpWY0Us0/DxKMaAbxTtr554U3/yfCXwKnWAAcxagAeMaiZNoNsPJHuAt0PIfqAVsABHq9Zu99+wgvRiN8cFKfh21zrJmfbf4Z44PjuansPXhCf0ZW06TiucSanORUVrCtIQSAN8cJCCqcfV/3M2bMYPPmzdTU1PD8889z0003DR+Dr2ETbPmrvX35j0Ee5msndwxcdRdc+TOb5WncDE2b6dy/lkDHZnJS9bDqx3YpmAzT3mULgvnjIW88OI8/2FUm00VX12o6u96kq2sVmUzHkHM8nnF4PNMwjHLCoSDNzSr1ta2kY1EkczuSuQXFNCg2DUpMA8k0cMoSDklCMnXMVApTz2AZw4d7GYwE8Eq2jIS3OAsQKKqGUnMA5dGPo6gqsqqhqAqyoqKoGrKqIMkysqzYKtuekr038c44ViyK7JF5+r+fzDJZg4s5dJ+p97Feok/NGQRog6e+MnC8w8lydR1ZPmOKGz3hIxNVEaYEDSC3CDSvgeoRSJoCsmpnhVFdoLlBcYHmAkUDSbFZJjlbSwpCVu0Xg5SApLDZQT0KqRBSOgp6PMsYwUAW6hQpNiQFVA1khz1GWQVZs8MfyYOLHQYmEd2LGKPjHD+W3d4yTCEwUhGsZAgpFUJNhVGso5sM9Kgfex0hsmpF24LQ/hupz3y+x1nApSg4ejy9e2+WlH256sekDcsFjcR6DWbyevof6hHes917tST1/SENPqtnmFL2fsv2+QM81Y+G4RrsaXTQmKRhT2TgmmQhBlTvENKAIQwf+Pv/PwwfDH0ol3iqMaU7l6mnvNVRjAqAZyoKJ5OR3DjUJLmWnZ1jd3NfIvHbzxnH39bW8vahTjbXdTOvKpc9nXv41Kuf6k2VlFm5nk8rLwHQttUHmDiqqtj6ShsAwq2AafQygGB/wC+//HJ+85vfcODAAfbt28eUKVMGjk0IeP7L9vbsG6Fq8dHnIkm280iwAqa9i/wLsVWB+1+AnY/bIWQ69sGbPxp4na8ECibC2HNh4kVQMgv65cm0LJ3OztdpbHqIzs43yfoPAqAoHjyeuVjWeGLRfFpbnLTsP0KmrRlZ34ak60hGBs00jsp2COBYceoH5/m1g1iLE/gelDANA9MwgJHUnseHTBgiI/uJDMJp4guGk9uHhD8xgGi2nAz+2enljGw5CtwOu3S02WUIzgR10zAC3ogYTtB7p22NYhQnjuKz3qFWYxRHxagAeKZCkiB3NnStpdJte/ceao+RMSwcqkxZjpvr5pXz8MYGfvXaQW67MMWX3vgSCSPBuOA4TGFy9ZE9SJLFEWUcyXpbjSyVlLKj4QAAMRkwGSAAAhQWFrJ06VJWr17N888/T1TLJ9fvZkJR9pe9fh00brRZnAu//c7m5/TBzBvskgrD3ueg5g3bfrDrECQ6IdZilyOr4PXvgq8YJlxEpnIW7eldtIbeJCVCGIqErEh43BOQmUpXRz4HDhrEIzGUWB1Ed2HGkmAJhov+p0gWXjWDSzZwKTouxcCtGLhVHY+SydZ2cSgGqiRQJAtVtg3Rj6bi7MloIpCy230MiRA2m2MJCVPImD21lTUWF33HrOy59jXZa8VAtsUUKpLmRna6+xg2zQ2K02bZ1L4i+h/vPc9ls12SQjSUYcMzNSBB2CsTjFkICSLT/VwwvRi/duyvDpFOk9yxg8SmTRgNfSp42e/HNXkKzqmTcY4fj6wo9v0O12dLA4QbEOnoAD5JApA1hDsHXLkIVw64c2yVucMPDm9v6TCT/GrH77EQfGTmR6gKjKD87EdgDHEa6SfEj+RA0h9WOkX7j3+ClUwSvO463HPnEk6HWNO0hs1tW8hYGQA8qoezShYwp2guea7hTSzEACbT7re3/0GEnTgm63k8bNqJCG6DxtOviwFr2O/4AEckIXrXdngT9H/WPIZe0nufsyzpUe/5UeTho96/k8CQ5/B4ZPIR2uk7cYTna1A7I7kLDDuvdzrVEcZdNGbc8AdGcVIYFQDPZJQthK61FPuTqGoG3XBwsC3GtDKbQfjEigk8trmR1/a2sT51D5I7waKSRfz0vJ/ibtqFtu1ShJB4UAS5mhTRoIO9oSRJ3cTrUunQbSZjsAAIcM4557Bjxw7qu1Pcdu96ZEXlgY8uZkZ5EDb8wT5p5g3gP1pEveOEKwhzbrRLD5IhWxBs3gYHXoHDK23nga1/w7EVyrHLQHQC60iZKp7OCrZ0laH3iynnUTJM8HdS7Irh09L41TQ+zRb8er/DHH5w59qChebuVUXaqqkeQ/is4bsw7TrZDbE2SIWGjKj3twQBiopQnOiyRkZSSAmZuKThjLkwLC/1gQBHcgNEFS8ZxYmkupBVJ6rDjdPhJtcToNgXoNSXS6kvgOr0gjNAOKbxwPd3geLgoz86B9VxYqxewrQ4kEixJ5ZkRzTJzliSnVqS95QGqegyyddB90vMvHUyF8wrO3aDlgXxNtvBo9qE5T5Su3cRenM34e1dWF1RqG2Cl15DUgTekhS+0jTe4jSaz7TvhRvwKFA83Xb2KF8A5fOhYNIAFvhoeKOwjscOPMbDjlXcu+LeU/IDPBKEEDTfeSeOxjYcY8difvAa7t37F55rfA5TM6EcxgfHc/O0m7li3BW41FOf9WYUoxjFKE4EowLgmYxx58DOX5CTk0FTj2AYk9jTHOkVACvznEypDrOrJkCy/QLed14731ryLTRZxXrhvwFISBcwM3cs8CxHcnQefv1eYAqTqoKsARySRJFj6GPgcDhYuuIiPvrwXmICpuY5GVfotT1/dz9ln7Tgw6dv7u4cKJ+PUTqb2soJ7Kq24PDbVHelKYnryEJGMcFlmXiytmu6JbOlu4wNHRWkLFux69dSVAdDVOVEyA9kkFUVXfNiOAtIOP3EHV5khxeH4sQpKbgsC4eRRtETtreoHrc9RfWEXadjR/FOBcrm2baMVUtswdbpt4vDD7Lt3+bIFh/gNk1WrqzjyCM1mDGJh8/K56BylPh9SbtoHRLjPE4meGDKwQgeNHwVXtqFiTooZIkpoEs36MwYdOoGHbpBW1pnfyLFvniKI8nMsC/eOya6qFgXR/LJvP+9GoWB3bB7o70W6ajN3KajiGSMdLsbK5aEZDtSogNEhp5QvmAzn8ExDgKVxaTa0ySaUiSa0phJi1ijm1ij7V6h+Dw4x4/HNW0+jpnLUUvG2Jr9qEDsFkAjkiIhKTKodi3JUpZZyg48y1R8TNxEItKKHtLZrL7JlPwp/c7p/c9Gf/bjBATFnjOjrzxN+KmnEbLMuuVTWPN3OwPI2cxlQs4Ezqk4l0m5E5ESEtbOCAkR6RtGvzEP38kpFlxPJPDDaRSaTxr/LvMYCSczv5MJ7nE8lw4wsTyOvo/XymAEaCVeHGX/qgTI/74YFQDPYMhj5mMkZVS3xTx1C29hC4C6pfPMoWf4/Y7fUyvHgC9ixidyZekH0BQNDr6C3PI2Qqhkxn+as9o30wk0F8hsa7ANxMrLAkCGMpeGPMyXY9ow+fG6CBHhxkuaK/yduFQZ1v3VDtlQNg/KTzyX7ogQwmbRwg2kuw6xv+YlmhrXosQ6KDVMlhsGeVZ/wcZEBxpVlXpF43ComFBjKYZus5l+Z4IFxUeY5u2kl2vpldvaT8mQ05JMTJao0VRWev2sDuTS5TTRmp9Ba30RBQUNDYfpwGE58Dl8VBVXMblwMhNzJzIhZwJezcPl543hsY2dtNZE+Fa9ytJbphDSDboNk27doFs3aU5n2BdPsTdb4qbFvrgtwMl7Y8wBXvAY3PH27mMNe1jkZ5JMiMWYHI0zJZJkakSnMi5o9/koUhtwPrWLlLQXh7wfWUpiCQ8p6yyS5mJS1lLE4ATSR+3MLu4ZAivcgNGyDbN9D2Z3DWYsQWLbDhLbdsDf7wXNg5I71i55Y1FyxyE5jt/u77M9frHN0M3+E1qT44XZfYTEqp8D4Jp6HedEL+ac/qaNTcBucdr6H8Uo/t0RuLBqVAA8DRgVAM9gKMEgkXYnwaokK6zdvAW8tO8Aq9NfoDHWCECeP4e502RW74afvryfh8fmIr3yLQBi5hU4pk8j9odHAJiz8ErMrkoA2pV6oJjKYdS/Qgi+/Oh2NhzpxudQuEg5REdDnLdWv8nZm/5sn9QT8+9EIYRt59WyA9r3Qcd+aN+H6NiPlLFDZjiBmdkyGAlJJiI5yLcyaFhU6QY7a8fTESkCwK+mWFZYy9RgG/19MyxJJq25SKlOUopKSlZISRJJSSIhQVSy6BYm3UInKkFclklKEslsnZIk0rJELCv0JWQZQ5JQLZWcdA4+w4evy8dk3YdP9+EyXTgsxxC7sgwZNsgbWKmtJK7GwQdaiUbZlPEU1Mxn37oWlOkRyifmke8IMNYXwK36BqgvhRA0pHX2xVMcjiZJPGeHBUnk2SmmrEECvSwEObpOTsYiNyPIycjkZSSq4xYTYhbjYhZ5GQG4sqUPhSoIiogYPcK+heoIYehB6KdeV1wZlAAgO0F2ICSVo77WW1lbsOLJOCdOyjJvJmbbQfTmPRgNu9FbDoGewGzbhdm2y75OklCLqtGqp6NVTkcrn4LU4y0u9fO8lCQQAt002NS6EdMymZAzgSJPUS9jMayX5iD2QgAZM03KSGXjpPXdUdMy6eiuxf/Sr9Asg1jlBA7NrqLQ00mprwy3eoygMf8fklKj+D+C42VMTzULO0J7Sv5oJpvTgVEB8AyGpCikojkESbJcssOa1LVL+PLayPfkcdv023jP5PcQTcqcs/91NhzpZvdrDzC9ZQeW8BA13kPxpFzShw8BMHP+1Yhn7ZyRGyIbIO/KYQXAn768n6e2NqHKEvfcvABXuIBnnnmG+tf+DNTZMdlmXHd8k0h0Qd0aaNoCTVuwGjcjJ7uGzhUwgXZFoVlV6NYUVK+HgK+SupYymuK5hAhQWj2Fiy+5BK24GCvcwPP3/Ip9kd3IssTZSycwZ+EMVH+BbcfX6ySQg+z045akY8Zxs4RFXI8TSofoTHbSmmilLdHWW5yKk1JvKSXeEow6g31r92HoR/cKlRUZ1aliGiZmxsRluXClXeSn8+1E6K0Q0VqJF6+mrHMObzxUx+Mzf5pNXwaqpOKV3KhCQrYkVEtGsRRUSyMnVcDi6EcQWExsf4CZHQqaUFCEgioUVKGiCgWH0OxiqWjZbR8ugi43jjI/ajAfT34esteN5HIgO1UkhwKKhN4SJ1MXJVMbwQylMTK244Ja6MY9vQD39Hy0Ct8psrFb1LsldJ3Uvv0kt28jtW0byW3byRw5gtFql+T6ZwFwjB+Pa/IknBMn2mXSJLSKCqSsrWD7zi38dNPPKfGWcNd5dzEpZ5LNlA9CZ7KTbe3b2NW5i5pwDTXhGuoidbbzhnPoSCVL8JVnLeYkBJ0FDpr/5wYumXktAceZ4OU7ilGMYhRHx6gAeIYjbZUBzUwyozi1NtJ6EddXfpk7V1zdyzB4NLj5rCr+sKYGddXPQIKYeRWWnEPnAzvQ62wPzL0dToSQcDnSJB22W72ZaKQj7iHfk48kSTy8sZ5fvnYQgO9fO5PlEwsQIp+Ghgamb33CHtP09+DUjiJKdR6Cfc/DvucQdWuQ+sWXk7EzKRxyaBzSNA5rGoez211Ohfn5ZVw55mKmBC7i+efX03SoCYD8/HyuvfhiJk2ahCRJWJbJC/c/wt6tu5EVhSs/fycTz1py0ustS3I2S4KfSn/lsOd0d3fz9NNPU1NTA0AgEKCwsJD8/Hzy8/PJy2YBcbvduFyuASn1kskk3d3ddLV0Ut9Qy6H6w3R2dOHX/SAJQgVbkEyNi+svo8XbSNgRJqJFbLZQAkn089hTwJEpQyDo8DbyYv6b73ziGXC2Oclx5pDnzKNAFBDUg3hTXhyGA8VQkIISltNET+qoqorb6cFZ78TZ5sTpdOJ2u/F4PHi93t66tLQUr/edhWqRNA33jOm4Z0yHm2xVrtHRQWLjRhLrN5DYsJ70gYNkDh0ic+gQ8HzvtbLHg3vObNzz5nPNnBk8ohRSH2/hfc+8D4fsYEreFKYXTKfcV87err1sbdtKQ6xh2HFoskaFvwKH7MDC6k2ld8Erncyp6QCngwV/fATX5EnvaJ6jGMUoRvGvwKgAeIZDuMswkltQ3Qa3V6X55SHwGnNwq26EEKQPhUlsauWaHV3sl/YyWTqEIRzEjKsAQXLrfjvAr+ZhzZpOkGB+xsMWqkgDzx26j9d2vIUmVAKJidTWfQBQ+ECljyuERupQCLXAzeWLp6FtrQXgqYY8rjOMvvRmmTii9m3Ce59CPvAqgUhT7/gl4KCmscPpYJfTwU6ng3T+BCbnVeNMbCUgOpmlCm4oWsq8qd/B4ShhzZo13Pv4PzBNE5fLxXnnnceCBQtQFFvlaFkmL959F3tWvY4ky1z5uTtOifB3LFgZg3Wr1vLamjfQDR1VVliSN4s5+ZPQSrxoRV60Yg9Knq1GNaMZjNo46Y4kRkcSozOJ2Z1CdKXIyVjkEGQmc8lgUC93ckRpo1buwFJ0fKabCZHjy5HcUbIKCYl3N73b/kRnvUyEQ2BpFqZqYgoTwzQwTRPTtLd1Q0c3dXQj61QjFPwZP0E9iJJV7xrZf4ORzmSIJ4YE9xsCIQuscgvPBA/BYBC/w49bdaPJGpqs4VAcaLKGLGXzFmf/9QQI7r+vh2GU5hTAnMvg9sugO4yy/whKTSNyTT3S4Qak2kasRIL422uIv70GgB/LMk0VLl6bZvHq1DTbre1s79g+ZLxl3jLG54yn3FdOqbeUMl8Zhe5CFFnpG4spkB99DulVOxC6+aXb2Z+XQrRvGxIqoye9Vo/iWJZkJCRkScYSFhaWXWfLSJAlecC1wIDrBGJA38PmPD6Kzln0s9LvzRl9DMv9/vdkOCiS0ntfZezx2+nK+sZrZ7Ydfm1MYQ6oB8+j93no95z09GGnV+vrp//xwc9azzYSIOjtr6fv41mDnrpnToPvZc/xnjn2v2892z1j61k3RRrqzT/gPg1zf3rXBjtr8HBr0ZfyTfSuo4RkP+NIKJLSO5f+/fR/xgY/b/3vR+/4jjNsTP8xDV6vnvmUeEso8ZYM294o3jlGBcAzHEpePvE2J8HqJJd66/gllaw93EmmMUb42cOkD9tOHTnA1102A/KcdS5zCJL7rnEkN9aTeB3Uokr2eRVIwAy3i71KIQDBTII0kMGkrn0FAgXFt4fn3A9gvbWUGzovosjII+i8F4ckOMwYdrem8Tx0H5eVtRHf/xzelp0owiInO2Yd2OhysdLjZqXHjREsY1HJIhaVLuLDJQtJtN7PkdrfgBscjkImT/oWhYWX0NHRwZNP/onGRtu+ceLEiVx11VUD8jRalslL9/yC3b3C35eZuGjpKV1zYQnMUBq9JY7eHEdviZNsivB8dB2Nsq2+LrFyODs9lWCDh2RDB8lt/TKPqNmv32PEC5bpRJVacUsd5EntzBMdhDKCx2LvxlRjTBqzh5Dqpy0B0Xg2jqMk9RYhBJbVk8BeINLCjlod7+tDQkLN/nMOp8ccaWyKjBbUED5BWksTJ05UihKyQnSanaT0FJqloQkN1VLRLNvZxWk5cZp28RgefIYPpV4hWZ9kr38v+4L7iGvxYw/gRJGbLfNs1Wxlh8LkBsGUesGUBkFhxKK8LsHNdfCeV2DNVIlX5sjsL2eAbVJTvImmeNNIvVDWKfjEsyaT7UeUF+dJ/NG6B56759TPaRSjGAUAn5z9ST4x5xP/6mH822FUADzDoeTmkjjkIFidZHx8C7CM7XUhjvxyMx4kUCW884vxjuvG8cRGLCHxE+MyPqRY3LKwlNRG2+bPu2QGe10SJGDpjdO4u6kZhOCJq39HoWly95u7+MXedpyKYHrVDg4InX/kvcFzuau5ODyf73Tb9lZRyQkCNh6op/LA88zO5iVtVBXWuz20lkwlOWYZ5QXTuCRnAp8IjiPHldM7nyNH7raFP6C87EbGj/8ymhZg8+bNPPvss5imidPp5NJLL2XOnDlDnB9ev/f37HrjVSRZ5orPfplJi5e/47W1UgZGexK9LYHRnsToSKC320wdxsA30u1KLY1aFyoyi93TmF0yFS3PheJOIzobMVqi6CEJPRkAw5F9nzVQpRZUqQlVaszWrShSK6pHRwoUQqAM8sZB3hTIG4s/bxyVfwrRcjhK+ZSzueqS6t65D35zTsV0/vClNxCSybu/NhdJE6RSKeLxOLFYrLdOJBLIsowsyyiK0lsP3lZVlby8PIqLi8nNzUU+Sry9hJ6gM9VJR7Kjt5iWiSqrKLKCKqnIkkxXUxct21tId6QZGx3LmNgYjKBBxpMh48qQdCWJO+Loip0arT9L0cOi9Pzdn83pjx6moT+rovstdo6FndlzckIGM/ckWboxTlmrzoodghU7TFqLNPZP8HBkjJvaMW6iAbWPPRF9fWKYnPtWmEtfDaEZkHJKPHFpkDULvJRmmRsYyIr1Z6oGszAWFjI2EzWYKRuM/ixRf6awhzHqzw72nN//2v5rNBj917KXfWV4BnG4Ne+5LyMd739PTGH2znkwwzPc2siSjCIPz4YNfib6r9NgVq7/uvTch8GMWP859NyP3jLMPenfX/+2B/fb8yz1P88SVi/L1p/RFUIMYT2HY20H35th7/twYxlmbD3PpilM+x5Zg9jWYfrq386w63KUoOn9n8Me9rf/Pep/rP9nJuActas9HRgVAM9AGIbB6tWrWbRoEUpeLtE2m7lxNm2kGoNaVHZgsmJ2KcFLx6DmuuAJ++3ooO9sajtL+K2U4t2WRfrwYQDMyjHU1dgqu9IiH3qjQJWg1OOkLZLijxtsZuvrV87gA4uvYH3Leu7dcg8Fh1fyscgTOLFVIbPFPjrJ400W8wSX8JQ2EzTBFO9ZnDP9fApmV6HkOIf9AmhofIBDh38CwMSJX6eq8jYA1qxZw4svvgjAhAkTuOqqqwgGg0Ou3/L802x98RkALvv0F5m85PiEP2FY6G0J9KYYelPcFvjaEpiRzMgXKRJakQetxIuer7Bt3SrQ4cpr3sWcqgDsfhr2PA2Nmwb25ZQxRRHCGUQt8CPlj8kKeGdBbjX4S+2ijRwIeOqyJloO72XP283Mvbiql/EbjKaDISRk8op9lFQUHddanCp4NA8ezTOinWQvJgDnQG1tLatWreLgwYNoIQ0tpOHFSy65gG1HWVVV1VuKioqOKoC+UwghSG3bRvfDjxB57jmK21IUt4U5+22bSdcqKnDPmonkGmjjmtqzh/Qe2wTCe/bZTPjvbzO3tPSUj28UoxjFKP5ZGBUAz0A88cQT7Nq1i+bmZi7OySUTVTAyTlRHmmvkw/zcmsS+uXlc/95sjt5wI+ywQ73kln+I4k6JJsPkZy/v58ZDtkNHnd8WEMYVeAllc+aWOh0oEnzzqZ3EMybzq3N5/6JqpFAti3Y8w6Idr9tZLrLodnjYUTmHcMU8co4ECdWGsfQK0KEpFmV70yYmvtCI0+fGUe5DK/PZdamXTv019u37JgBjxnyqV/h78803ee211wBYtmwZF1544bDCzsGN63j9L3YGknPefxtTl5077NoJS2C0J8jURknXRWyhrzVhR0MeBrJfQyv0oBa6UbO1VuBGyXUhZePIPPfcc6T1DCU+mVlrPg1P7ujXggQlM6B4BhRPRyqahlo83U5b9w69YifML2LVwwcItSZoPhSmbELOsOc1HQwBUDZx+ONnEqqrq6murqa1tZX6+no6Ojpob2+nvb2dSCRCJBJh586d7Nxpc3ZOp5OSkpIBTiUjFUmSCIfDhMNhQqEQ4XCYTCZDQUEBhYWFFBUV4XbbAp0kSbjnzME9Zw7Fd95B7M1VJDdvJrF5M+l9+9AbGtAbhncGkQMBir/yFYLXXH1as4qMYhSjGMU/A6MC4BmIZcuWsXfvXvbt20dFs0kBEomuIIGSNi6srOPntZPY0Bnru2Ddb8DSoXo5pCbyJdr4T5L8cXUNM7oNJgE7lFwgwuzKHBrStrqt0uXguR0tvLKnDU2R+J+rJiA/9iHY9QS9odv9JRBtAVkl9zNbOadf6rf29nbWr1/P1q1bCelx3pb3sVWt4ar4Avz7dFL7bOExnr+Thrk/A1mQF76EnE1XED54hEMNNTQePsBYqYips6cza8Ic9MYYKHI224OEpMq0tRzh2V/8LwjBzAsuYcFV19nqgZhOqj1BqiVBsjVOvD5GsjlGJm1hCNARmMKW/UxFQrhVLKeKcMgIzQ5xYgFmREeEdMT+sB2GSgg7b69pkE42c1jbDhJojfk8rH8ICwU0L8Lhw1J90KhAY/87WJMtx4fhRImeGIbP/GobnoDDzi8KA+JkxUJpAA5vaad+z9DQOkM76lFN0mvw3qs+ExxXCtZh5Z6encfTVm97ASQpQCHjyccgJYVJESIl2SWdTlNbW3vsOR0nFOFEEx5UXCjCgYITVTiRhQbMRkybBdMEwtARpomwMy4jJIHAsqfo0JA2pxCbH6THZwAUZKEgCQVZqEjIdumx1ZSlnpCEtjrQshVfiD7nh971zTq+9Kzd4Ps9GLaabOj+IfdI6qdg69kYfJ3ory4e1Fb2eqlfYE2R/YwMvufSME33PG8D9h9n+Lghwx3SuOjdLSEh9SeN+z/vw6FnnQc8r9lVkI7x/tb/2sFD6hlDz7oP0479AjGC6jw7gIHrNejcwZ/l3jGJYz43Qw73TJhhHIX6r4M0cP/A64fJamP1Dmlge9kPz3DrO9CcoE+1P2v5WBZeOuplf6oxKgCegShy5HJ27mxWdmxmFx2cCyQjfgIlbUyStwMXsr0hTDxt4BVx2HivfeGyz2I8nmAJGldO8PHMwXZ+PvNafrHud6yL26FIZlcEqU/aqs8iSea/nrYD7H5ieSUTX7rFjtkHMP58WHg7HHzFzv075YoheX8LCwu54ooruOCCC9i6dStr1qwhHA7zdlUt7559GUZTgnDXZhrH/gJkE3/LQgq2v5ckbXb/qBSKKRiAsR4Or9uGJcDK/vxaAuJGlC1tf8Ow0rgd1XTtnMZ9n30D3bCFvKMkTRuKhIntJXH8COc0ggSOVB6p5FRSPQcMsplFjqJGPgXQUybh1FFSzwHJmE4ypp/WcZx+eFHx4qMcLwJDjWGqSYSsY8k6lqQjZANLzmDJRu/+HgEAS0YxXSiWE9l0IQkZU01gqAksJY0p2eWYGBoW89Sg58fuxNI0n7kYJUBPD0bXdVi4DsdYyKgAeKoxKgCegYi8Usv4hhzqtGK6XDaLFmvRKJ4EzuZNzMzNsKPbwYYjXaxofwAyUSicilV1PmZoLQDfeNc0Vv3yDQ4Hy3lq7pVsa7RzU82uzOGBZAyEoHZrGx2xNOML3Hyq4UvQuBacQXj/w1C12M6F+/jH7EHNv3XE8bpcLhYvXsykSZO45557qG9tZJtZw+RzUuxf/zuSzdPRrAUoxuVsy0nT3hohnbIQQsIawcAaQIgMmehjCCuGJOdjea6kMyMxnNinKhIOp4LTq+H0azjcKg6XiuZUUJ0KmkNBdcioDgVVk5EVCVmRURQJ0bWfeMsuwp2HCafjRFQPYdVHQqhkYrYrb2rBXKK+QhKWRcQyiZoWEdOu9eOlM44X2eauXRMjJylYPcXFwTKt90VdAGVdJpduSRBxSTy6zN97UX9eQZMkNFnCIcmosh2DUZUkbJ4KFFlClkCWpN7tHnNsmR6Db3rbtQ3WQRpgyJ2tBf2YLGnAMTm7q+f6vgv65DeHLONXZQKqgl9TCSgyLsXOnSwNJQWyTQgsU0dYFoo20O60J2sHgGlkSEVDpGJhjHQCvaekEhiZdO+YJUnKsjYSkiwjSXJv3XNc6qF3JPtGWKaBZeqYhm7Xum73LvrTIoNDZgwNofFO0Ru+ZIjkMJiWGXxUDN7R28QQZnKE8wbvHylsjDRgHNKA52c4JnL4QQ8z3t7W+7Gpw155Ymt9Im0d7dzTAXGMuUL/23OM83oeEamn5R6nnuHaOlp/Izh8HGPdR3qU+kLZZP8S4JX/Xd6cziyMCoBnIJwXVZFIprn2/Pfy9wd+C0C6OYoomYXUsp335+3nzu4ZbDjYwoo9tkctyz6L0WHzU7JPo7jIx+eDXXyrI4/7CuaRiWfQFImppQH2rm5C29jBni6bvfofxx9xNq61M2fc/ERfjt/dT0I6DDnVMHbFMccd8AdZPPcc3lz3Cq+9+hpbn5iEnPh6vzN6QqVIDKZCFFVGcyoomoyiSiiqTKjpRYTZjqL5mHb27eQVFeN1q7hcCp4CN+4iD06/A4dTGaCeGg5CCBrTOlsjCWqSaWrjMWrbG6iNZmh05mKOWQJjlvS/gOu2vEERIXaVjmFVvh/6+L8s5GwZCIdkCzq2+lkck6V0iwQFtFNIG4W0ESSEgzTyxLGwfTZL2ms5a9ajqBgomKgYiPpzMVlEXvFWPpf/ZHZVrWwtBiuQTiuO1pcY9BXfe+5wt8vMlrRNsMaGuf4kBonmt8upSColen+e+uY+eB1O2dhPEEcb02D0H+OI4xUSWsaLI+NDy3hRdQ+a4UbVsyW7rQ36WzVc2VeNfy2EZHu4CinriSv101f3F3mkwfev34uOZIFkt2G3I3oFp96zj3K7BzZ9PM/FsIr0Ec87Wt9Hg3TMr4mTeYaP8lnvd8bR18b+uz7v6FqQUbwzjAqAZyD+sPFNptf/nLvWfgR91lLO5i9IQvB6uoLz2c5yaxMeJrB82x2QaQF/Gcy4AX27zRaqhR4ALmzbwVMdJWwpmgzA9NIg33xqJzs2NqAAmiJxR+Blzup6Btx5cMtTUDqrbyCb7rXr+R+Eo3hkZpIGO99sZOsrdSSiGRw5BWRcHYQ8deSn8ygozyVQ4CGcbKem4QCWkmLZisXMmT8Dh8tm6hRtYPv7167mHz/bhSTLvOeb36Js0pQTWsOYYbIjlmRzJMGmcJxNkTitmcGB+YK9Kj9ZWBQoFkUuN4UuF2XNdfijIYSqMWfZchZ5fThlCZ+qkKsq5GkquZpCrqbiU+Q+pk0aGjpBiD6VthAW8dgeurtX0921mlhsD4YRGnYORnWAgzv+F6WzmAmRFpyBFoy0j7Yt7yVSZ6dMKyzeSJDhnRZG8X8IvYZrxyH4C5AND0rGj6L7UDJ+1EzA/jsTRM34UTIBe186iKL7TkqQE5KBqSaw1CSmFsPU4lhaHDNbhJLGkm0Vv5D1bDFBMrMClwm9tWnbZfbfJ9u1LaSZCMlAyGa2HeP41mQUZzQiBR/9Vw/h3xKjAuAZiMX7/8gi623m793JZ6fdSdLhxJ1J09SgghfKOlbzqGMP0zJ1CMWBdPmPQHVgtNlhXrRiWwDUDx3mMzVv8ZGL7sSSZHY0hdnaEALALHHzoOMPLG57FryFcMvTUDytbxCtu6F+HcgqzPnAsONMxXW2v97A9tfqSSds4crhTlLqi9FomRhqkurLDK64ciHr1q1j7fNvgBcuueQSlixZOOL8E+EQr/zhbgAWXfPuYwp/nRmDXbEk26MJdsSS7IwmOZxMD3mHVoTJ9NhBJiVqqU42Uq2aVI9fQtX0yygK5KJkBbdUKsVvXnuaMHD+2cs5d8bxZeQYCel0M13db9PV9RZdXavR9aEOG5qWi8tVjstVgdNZhKJ4UWQX0b1pWg94UMNfI+CFrS87ySRs1eykZTJzLv0EsvLpPsXt4Jhag2LSnQx6GREhBlhw/7PVYIMxrKqp3xiPpdLrf9yM6cQ3tpDa221L7IBa6sU7rwjJqWDFdaxEBjNhIFI6kktD8TtQfA4UvwNhQvT1eox2+7PonBDEd3Y5smsYFdY79CQWQiDCAqvZwmyxsFrsmjRIbpA8Um9BAZECkRKQEohkdvuEjGezw/XYbeOSkFwSkoveGreE7JKzf0vglpCcEpITUAWSFBxGfTmcd8GIsx5h3/Fee7xr3ed40LdLDHuvjkv1OeQ5PDqTN+D6EfodDu/0M3gslfLR53JyONbntn8/TudoFpDTgVEB8AzEhLJr6OjaQIHo5q+7vkro7Fza3nIQSvhJep249TjT5DjtIkDdeb9n/tRLAdDbbJpcK3QjLIt0TQ2liQS+dJyIy49pCWZWBNlYriEFNeatetEOV/LBf0Dh5IGD2HyfXU++bIjzh2labH6hli0v16Gn7PiAOcVuciY9irP4aVTNw2z/t3j66W1s2LgBVVNZs8Z2Ljn33HNZsmTktG1CCF7+/a9JRiMUVo9l8fXv6+tXCGqTGXbFkuyKJdmZrZvTwztAlElp5kb3Mb91NfMju5kZ249H6DDhIjj7dhh3/hBmMxwO88ADDxAOh/H7/Ucd60jQ9W66u9fR1f0WXV1vk0weGXBcUbzk5i4hL28ZOcGzcLsrUVXf8I1d2M5zB3ZwcK2r17kuv9zLeTdPpXjMaHDUUwVhCmJvNxF7uRYpk4ebPJzjgvgvqMI1PueE2sofYxF9vZ7Ia3WwCVL7Bd55+cg+B4pfQ/ZpKD4HsldDdqtI6vGxa2YsQ3xDK/F1zZih4R1aRAJEYoBb64iQnIo9Bo+K4tXs8fn6jc/Xb59HQ1JGPRRGMYp/J4wKgGcgvqdUkuI2Frv28/7Us+QUduO/XOJC1z6clm23FxJerkl/h0u7ypmfva6HAVSLPRjNzYhEAkNWiDo8XDAhwFUziynJiXNNI5Sl23AEy+DmJyF//MAB6EnY9qC9Pcj5I9Sa4OU/7aKt1nYqyS/3seDyMRieu2lsfhKHo4C5c/+GzzuRlhYn69ev7xX+Fi9ezIoVK446971vvcHBDWuQFYXJt32SP7eE2B1LsjuWYl88SdIa/odtjNvBTJ+HWYSYeeQ5Zuy8l4JUa/aoBNVLYfn3YOq7hgi0PWhpaeH+++8nGo3i8/m48cYbcTiO7RaayXTQHdpAKLSOUPd6YvF9A45LkoLfP4u83CXk5Z9DMDAHWdaO2S5A1Yx83AEHyUgGWZFYcPkY5l1SjXKcQsMojo10bYTQkwfRm+0UdY4qP8HLxuIcG3xH7UmKTODCalxT8uh6eB9GW5LoGyOr6SWnguxRkT22MCZ7NZR+21ZSJ30oQrom3MtKokhopV4c5T4c5X60ch/CtEhsbSe5uxNrBAGxF6pkC3YBJ0rAFvIkTUZSZYQpMOM6VkLHaogi0iZWykSkTUTGzHoE9fcOssM1SdrAIjtVJJeC7FKRXQqSS0V2KvZ8nQqo8mg8xVGM4l8ISZwqd7T/g4hEIgSDQcLh8IB8tSeLH3//O8QyNrMmWSbjRQNjlVqqaKKMFhQELSKPxelfUaQk+MJME01WWbi5CAmJg2enKYt1Ev7Rj9gxfiqbJ8+iQO7LvyoAU5HJ93pwON2oqoqmab31hMQmzqr/PSlXEdvP+yserw9N06jf3cWu1U2YusDhVJhz4Rimzq8io29m956PAzBn9r3k558NQGNjI7///e8BKC0t5fbbbz/qF353Rwf3/eenMBNxdiy5mBdmnzPkHJcsMcnrYqbPzXSfmxk+N9NcCr4Dz8L639lq6x6UzIS5N9tCX+DoWRsOHTrEQw891BtA+AMf+AA5OTkDzhFCYJommUyIUGgd3aG1hMPrSSYPDmnP651ITnAxweBifL55SJIHIURvSjZJknq3e8pIqN3VyeHNbcy+oIq8Mu9R5zGK44eV0Am/cIT4+hYAJLdK8LIxeBeUHNOp6HghdJP4xlaM9qQtVEUzmDEdK5bBShrHQ9SNDAmbPVRkJFXC6h8KSJVwT83HUeXHDGcwu1MYoTRmKIUVP0aS6n8WZJAcKopXRfbbKvRe9tGj9gqMsmuoIHkq74+VMLCShi3wpk0wBcK0EIbo29atfrWAnr8NgTAsMOz9wrDsv3u2TdEXF0/0i/NnGwQjLOzj2f3C6jsuejyij/WMiBH/GAYnqG4/kedTGvGP4Rs6WttSvw0JAudXEbig6gQGc2ycrt/v/5/wbysAGobBt771Le6//35aWlooLS3l1ltv5etf/3rvj60Qgm9/+9v87ne/o7u7m0WLFvHrX/+a6dOnH1cfp+sB+sfvvs2GmiSy5hiiovTKKT5v/Q4Vk8vS/8NeUcmNzs0UCRfn6zPpkCK8qe3BmU6Rdg1MN6ZiYBwH6XsbD1NNI6+xlDdZdFxjVpQMXq+DvLwx+Hw+XC4Xu3fvJpHI2kI5nXz+85/H5RqaAu1wIs1v61pJ/unnVNfuo6WwjPuv+RiaprI0x8ccv4dpPjfTfC7GuJ29tnrE2rA2/InEhvuJJ+JYyAhJwxq7AjHtaqzCqSSTSRKJBPF4nEQiQSKRQNd1dF3HMAx0XScajRIOhwFwOBwUFhaiKAqGoWOY3chyG4rSgdPRSSDYjs/XhTTIsDweyyEcLiYULiYSLkbXR071NvIa2rl5VVXF6XTicrl6a5fLNSQDRs9a2kF5+0r/ufWve4ppmhiG0dtX/7zAuq6TSqVIp9O9tWVZ/QJG98t5mi09Au1wwn3/8/qX/u0NPn+4+kTPGQ4D8pCmDDL1MYRuv2gpOS7UYk+vmnOkfMOnHKboFRz8CY3CiJeChBe32ccQW1i0qBHqlQ4iJBDWyP7FsldDCdqsHiMJSUIg9KyAovcILFaf8NFPUJFkyRbUFAlkeWCg5f6yidVfgLFtDIUlwMoKQZborRmBxR8Zw8xDlpAUeuIL9Z0n9VUDWMphx9ZPOHsnYxiCf8uf0kE4DsHuNPQ3Y9o0zrrxvFPa8qgA+G8sAH7ve9/jZz/7Gffddx/Tp09n48aN3HbbbXz3u9/lc5/7HAA//OEP+d73vse9997LpEmT+O53v8ubb77Jvn378Pv9x+zjtD1Am+7lnKZcyrbvZt6BrZhuH8LlRfhz0GWZm3mM8dTxAufyvLWUApeEmRnqJi9ZFiKmMzGnlauslwkQ4Y45P+Qh91xuLw5wS4GfTCbTKxjouo7afYjpK2/DQuaVGT+jPeWgbn8bpmmzBt4cJ26//eOUTqeJRDoxzeNTR6qqSklJCUVFReTl5dFkWKyKJNkWT1PaUsu8nWuxkAhd834WTpiIr6mWzevXEwwGCQaDuFwuLMsi1tVCoquZRFonjpvhQrG8E6hakoKCOny+LrzeEB5PGFUd3r4wkQgQCpUQCpUQDhVjGCcu8I1iFJKQGGsVMdOoolD0fYcYmDTKXdTK7dQqHaSl/98DfY9iFO8c5y4/h/MuPP+UtjkqAP4b2wCuWbOGq6++miuuuAKAMWPG8Pe//52NGzcC9hvuXXfdxde+9jWuu+46AO677z6Ki4t54IEH+NjHPvYvG3tT6cUEa7awculljAmkGb96NRFcCGBOlYVeUgHROiZxmLXyPMxsMgqHUMn1BCmeWI7+5DNM3rqJgnkRKgK21+kh10zqq88nFUpQXVRERVn+0M5ffBgAefJlXHDNLTx11xYCbSUEC91c+rEZFFT0Ccb19fexb/8vEMLLpIl/xDTzicVi7Nmzhz179gBQXl5OOBwmFothGAYNDQ009Mu1mg/0fKyTlRMBcG9ax45NfarctrY22traBg3UwdHSNvQwOLIs9zJclmWh6zqWNdAFUpYNCgtrqKzcicOZRFHM/kfRtBJcrjF4PePw+6eTk7MEl6u4V3UrhMCyLCzLwjTN3vZ7+u1h1yRJ6mXTes4fXHrYuf4MXCqVIplM9rKZPSWVSg3Lrg1W6auqOqT0rIdpmr19WpaFpmkDmEen04miKL1rOiDYcnYe/dnH/sd66sFl8D0ajhHsaTsUCtHV1UVnZyddXV1kMqc284rD4SA/P5/CwkIKCwt7cwb3whTIGZAMgXDLCO3UqB4lXeA+bOA5YKCks3OWIVWhkK5QSBcruFQ/k6lm8jHaOhXoYXXPhPaOxknYbKlpM5i62cs89qlQoZea7ElXl4Wk9qSYlCGbZlJ2ZlXoRxnriXAkxzPnf2V777SPf1Y/I/VRVlZ2Un2PYnj82wqAy5cv55577mH//v1MmjSJbdu2sXr1au666y4AampqaGlp4eKLL+69xul0cu655/L2228PKwCm02nS6T7j6kgkclrGvn79evLrGyC/nJVzrmfFul0kGpupKcphb53MDLEdfDCWes6xVtEk8pmmXEZhejw50xM4J+kc3LoGKQMFwQgpTzn/j733jpMkKe+8vxHpyne19+PtzqyZ9ZbFO+ElEOJFIBByHJKQdJI4nU4n6YTM3SFz8idzQjiBEH4xC7sLrIV1szuz411PT3tb1WXSRrx/ZFV1tRuzBlaof5+Ojqys8BmV+eRjvxzezJNuP4dn5sGwGUisQjz5Fdj/8fj4mp/g/k+fYOxEATth8Jr3XUm+5l4GoFQ6yomTf4gQsHPnf2Zw4DoARkdHOXbsGAAve9nLuOWWW3D9gA/96Z8QVCqc6ejDiAJaKiUSYYAVhUjPRYYB2jBQTnIV1wfNN4VLu1nVCZzzQSmTiYntTEzEBKg2NJ5tUrYSVKw0gZUgsm2U5ZDIt7B5Y5VreytcnUvTUzPGqBNJF0Jd/eBiy38/oJRaIi5eflM+H3HXTMxqrQnDED/w8XwPP/AJwgA/8PC9Kp5fIQiq+LXvfM8n8AN8LyLwQ0oLPlG0ygNBgGkKTLOWW2BaAssCywLThsby1mmBUOFNVXFdgRtJXGUSRgLf9xkbG2NsbAyAjGnRLbL0qzbawiwyMmrN1OZsRui0h0776HSAzrnofAWdr4IdxR2KRtc0H4kFGzmaxxzLI8ZzBJGkIECnfYIdk6gdM+BEjTnG0kxRl2DWJrM8WmqT24xVPaXoWqm6ZfDyQqtVWnQltNLdR2MkK+YXR4MRS+rXx7gopV3NncrSnpf0uywQbdz66mNe/r9ef82IFKtEtKH5zIq1W63gsjaaxvt0I2RcCMvbXbK+q5YVTdelaaxNx/WrKpb/1pf1s+YyrFKrWTKvYc0xLpZtGp1eXHetFZHxQmCdCHy28QNLAP76r/86hUKBXbt2YRgGURTxwQ9+kB/7sR8DYotPgO7upRah3d3dawah/4M/+AN+53d+57kdOJArTLHjsXv42hU3cyaE5PYXsvGRv6CadBjPJvnc2JW8b8dDGNrnxTLmaE54ryFAYB74X8jHHkP4PYBGvu6/YN/+81w5dI4nPvIRpmri0sHVCMDv/DVUZyG/kcNTl3HgmzEh99J371lC/EWRy1NP/RJK+bS3v5CB/h8HoFqt8qlPfYooitixYwctV+zjvz/2FE8ePcYABu3ApunRJV2KwCd9+imE1nTf+lL69lzB/Pw8Tz75JKZQvEd/lB5mANAtG5je/Q5Opa7m5LkJTp06RRiuVGg3bRMjIdH4+E00uuOUyOfHsRJl5qN2ikEr1TBDGDhIX5D0PUylEJEgUY1IVMu0U17Rvnr0Ae52knws14bb3kXP4ADXbBjk5rYsO1OJ59SyUWtNqEKqURU3dPFCDy+KkxvFn+vfVb0qpVIp1nt0AwI3IPRCIi8i8mMuCgFov5YHsX6UeLphBZ4DeNJjJjHDjDPDdGKagl0gEtH5nyZrMQlbl340lUmL30JXtYvuajdtXhulMKDELCeZZcFeYCgzxNnMWarmGpEIirV09hImlQaWGd7jAk9eQhvrWMd/IPzYxhF+o/vlFy64jkvCDywB+MlPfpKPfvSjfPzjH2fPnj3s37+f97///fT19fHOd76zUW41Ze+1HuD/5b/8F375l3+58blYLDI4OPisj71zcCOO79EzPcpY1wBHtnXRBWwfn+dEZy8Zd55D3jYutw/xQMuVfCN5Az9xZhAJHMGkpRATtdX2LuyX/GcAtm7dytW3v5C/rV1yqzgPqSbitzIL9/0pAIUrfoVvfSK2bL3uNZvZfEXHkvEdP/H7lMpHsaw2du/+o8Z6ffGLX2SkXGFywzbOKIsH/+ZvaC8XuXLZ/Lq7u9m7dy/d3d0cvuMznDihGdi9l7e87xcpzU3yl38Vh7d7sb6XHmZhxyvh2p9EbHsJuXCOHeUTbNie5MrrWjgyNMbYuTKlGZPQtQkDh9APCRtEgKat/Rxm/xyHW7Zxh3gtRWsn/ckUg0mbwUScOmrxZ5MqxHSriGoFt1qlVK1SqadKlYmJcdzpKTJele1TIzA1Akce57hhcl+ujUJbJ90DA1y1cQO3dbWxK706QVgJKsxUZ5hxZyj6RQpegaJfpOgVG58LXoHKfAVrysIpOchIIpXEVCaWsjC0QSQiQhESyThXQuFEDk7kYOmLczVTx2ocC93ggCw7LxbPN/LaOS00CoVGo4QikhGRiJMSqnHcfD4UIYEMCGRAKOPjqlGlZJUu3ofvJSKUYUxcJmY43HoYK7LodDvpq/TRX+4nG2TZO7eXPXN7mE5M4Rru0pUQmqBp3PU0nZjGN5qp0OVcIr2EIyIQKxzyXgyXaLXrtda7x6VI7xav64X6XzmG1fo/X9+r9bRW8e/Fa8nT4c09W+O6GOfKF8s9fCZreD5unVjGq7vYMVxMXODzIuq6iB7Xcan4gSUAf/VXf5UPfOAD1+Rt7gAA/XRJREFUvPWtsSPhyy+/nKGhIf7gD/6Ad77znfT0xJ7F6xbCdUxOTq7gCtbhOA6O4zznY9+8YzdCCDadPc5Y1wBfK7m8AEh6HlH/RqqnXQ6NGVy+Ea50h/mlbR/i3WdcfAFvCn6BV8/cz/v4LLndu5e0u/Hqa+GxE6S8Kl/4t0/zUz/1U4t+7u79EHhFVOdePvf1LURhwKYrOrju1ZuWtDE5+TVGRj4GwJ7LPoRjd3C64vEvh46xf7ZEr2mx+eyiWxQtBPn+Qfbt2EZxfp7HHnsMiEX0k6dPcuKh+wC4/e3vRhz4V77yha/ihhvoERPs3A4j+36LkrHA/MI/UbrvNyCcWzKevIT8BqDmISCKTKbdXhb8PgLVSaJ/Gy0DP0pvdpBXOjY9jkXKeGZGI57nMTIywsmhIQ6fPsPs2ChOELBhbhLmJuHkU4wCHzEErqVRtkLZPqFZpcICC6pAmTK+9AlkgBJqCWGUDtP0l/vpL/fTGXaedyyGNrCx4xi6q0CJEGV6KMNDmx7a8MH0EIaPNj0wfTC82rkAQ4aYRoQhIywjwpIaQ4BBPQdDgApNfC+D52Xwqlk8L43AxJQGtmFgGQamaZLL2Az0ttHb008m1Ucq0Y/jdGAZGQwjiRQ1C2JWtyJ+pqgenmHmw4cA6Hj3XszuFLMfO4x/NvZjmXnBAJkbezFanSX9e57HoUOH2L9/P0NDQ3S6F/8AMqTB7u6t7OvfQ2eqFZTG7E6T2J5HJlbecidOF/na3x9kYWZ5rOlFmJakZ2sLA7ta6d/RStfGLPIZ7uPvFbTWjJ8scOy7E5TmXCpFv5HUaiL+f2eIX3rCOCxdXfSra+SxFoD8vkfL+feO616z+fs9hB9I/MASgJVKZYVvtbriO8DmzZvp6enh61//Ovv27QPA932+9a1v8Ud/9Eff8/E2w/3yV+kolNg4cpIHr30RR7oHADCjCEsKzvZeQXKkihsZpL1Z3u+eAXoYykp+7aV74A+/BEB259IQZue8WFyaDzympqa44447eMMb3oCYPxv70AMeLL+D0lxAvjvFS9912RJ/W9XqCIePfAAfm0LXL/GXc9u4+/ATpE4c4YpzJ9gdxpaKSkoyAxu49crL2XfZZQ3F+kqlwoEDB5iYmODwowc58LmPArD5ii1UnvhxvjpvcCh8OaDo3fcw+zNzMPaXS+agEEzSzTSdzNBBZHbRmupnMDvAxpbNbMtvpiNxYQvup4NABUxVppioTDAhJ5jomsDNTFHcNMPM9AzBdECynKTD7SAZJbEjHauFuRJI1FLr+TtZBmEIuga7GNw8SCblIPQUOhqG4ASeexTfXyCKTKLIRCkTrSSm5WHbLpbl4jgpUskBLLsNy8pjWb1YZiuW1YJhZjCMNKaRikPPGUmkdBDCQkoLKW3ApFSqMjY2ydjYBOPjE4yNjVMuLxWN13dJWEt1zACnDygcZ5INGxJs2pRj8+YOenoy5/V9+GwgWvCZ+/RxADK39oOAyf/zGKocIhIGbW/ZSfKyVQyhiF/29u3bx759+5idneXEiRMr9CGVUvi+j+u6jTQ3N8fU1BQHx45xcOwYmzZt4oYbbmD79n6kufR2q7XmibuGefAzJ1FKk+tIsPcFA/huiFcJ8SoBbjlg6uwC1YWAc0fmOHckfgFKZCx2XN/Nrpt66Rxcfb+rmpuT7xehGIWKE49O8sRdw0zVCO7VYFgS05aYltHIDVMgpEAaAinjYyGWchNX5yzG/CshaNSpf26oFTaVrLu80RrCyCeIfGK9s9hVjNYapSNCXHyqhLqKr6uEyiXUfiNdiIclEAhtEMdUlkgkQtRyKZHCQIp6vngskHEdLWq5jMcnFIv8eV3zhiObXqSa8qZR0DgjEBq0lnFdLWnwdJVACANDGEhhIoWBISwEAlU3/FIKpTQhPiFlfCr4lPBUmVC7K1YjJovrL3vx3JtD461892vij2uYcSWwTgQ+2/iBJQBf+9rX8sEPfpANGzawZ88eHn/8cf74j/+Yd7/73UAs+n3/+9/P7//+77N9+3a2b9/O7//+75NKpXjb2972fR27kW+hD5vxiWEs32M2lycSAkNrHM+jN2vxcOt1nCkdYVfLNK+YuJMK7+BEWvLXQYl/zVRQgLN1GQHoxmKpPd2dCCF44okn2LhxI1ef+VuIfMrtN7H/qW1YjsGrfvZynGS8PTyleHR+gU8f+TceD3+FE2IXYkyzd+Tb3HTuJE6N8PNMi1tufyEvu/7aVTmldmBweedWHhs9wp2f/r9Ep08jpMbcdQ9HU5rHj74KgIGBQyQzBcbpYYIezrGBcwziO9vIpbexLZPnmpYUP5ZL0+VY6EgRzXsYOQdhPfOHndaaoeIQx+aOcXL+JCfmT3By/iRDxSFCfR4nuuk4pa00vU4vXUYPVtRC6KWpuhaRbyJCAzOS2JHGCSPsKMRQEYZScdKKSAoq7RLV4ZFqncO1j7KgxkksnF2iAB8bQYC0OkgmN5JLbyad2kQyuZFkcpBEYhDLujT3BkoppqamOHPmDENDQ5w9e5ZSqbRq2ZaWFjo6Oujo6KC9vR3Lspb4GwyCgPHxcYaGhvA8j+PHj3P8eEyQpdNptm3bxvbt29myZQupVGrVPp4utNbMffoYqhxg9aQxWhym//EgaLD60rT/f7sx25MXbghoa2vj+uvXjl29vN/h4WG+853vcOjQIc6cOcOZM2cQQpDP52lvb6e9vZ2WbJ6zj1SZPhIhMNh6dScv+vHdjd/c8jZnx8qMHJ1n5OgcI8fmcEsBT959jifvPkf7QIbdN/XSPpBhdrTE9LkSM+dKzI6W0UD/jlY27m1n4942Wjqf3XVeDhUpZkbKnDkwzcFvjVApxvccw5TsuL6bni0tpHI2qRabVM4mmbWfk6g29f3n+37DD2bdQr9uGFYqlRoeBiYnJxu+QJ8uDMNoGEItR51LWMcShv3TiMv87xZPk+Gb7LhwmXVcOn5gCcA///M/57/9t//Ge9/7XiYnJ+nr6+NnfuZn+K3f+q1GmV/7tV+jWq3y3ve+t+EI+s4777woH4DPJc6238SZXa2Y43/B4NgZTm3ciWc7pDyX7qkpTm9Ks90MeKyyhV0t02QmP4vLKyi3bmbSD5k9dpw84GzdsqTd4RoBuKu9lRe8+MXcddddPPrlD7Mv/CQC+MbwjwKCrk1Z3HLAyVKVj4zP8i9js8yHEfACEJB2K7zpiftIu7GTZ2EY6CjiJTfewEtvu2VJn1ppFo6eYOypLzMf3I/VdxIx+ir8kTEMwG3t5bED1zXKVxMmf7HxXVTCbq6b0dw4r3iNZbM9l6SlK41lpzASNsHZCsHIDJPnFvBHyxAqkGB2puIQWb1prN4M9obsqmK3Zrihy8Hpg+yf2s/+yf3sn9pPwVv9YWBJi65UF92p7jilu+lJ99Cb7qUv00dvupecnVvhLiUMC/j+DGG4QDUosuAXKHlFCtURyuXTaPckTjCMiP1YIAQEgUNxvpNisYtZb5BKMk+YgolUOyeTmzhhbGeUAaphChZALkCnbbInk2RfLsVVWc1VuYBOe6kuoNaaSqXC/Pw8hUKhkWZnZxkeHqZaXWrwIISgq6uLvr4+ent76evro6ur66LC5EFMVI6PjzeIoTNnzlAul3niiSd44oknEEIwODjIrl272L17N62tl8YlXQ3lB8dwj86BKUjf0MP8F06ChvR1PeRft/VZeVFYDUIINmzYwIYNGygUCjz88MM89thjVCoV5ubmmJub48SJpsgx3ZBPZHHtdvZ/6QidiQR5QPo+quqi3SrK99FBQE8Y0u0HXJUPKAUl5kcXKM2UEU9FzH81oqAjhNbYKPp0nAQavgslNIfQGLZBImli2XWum1xTb3BV1K0z625WIkXghQReROCG+L4iFILINBi0TKKEDbkEOpug/IDJoe8Y+IbENww8wyCocYGF1kgdW/hKrTHqSWkMrTA0REIQSIknBUUnQcUyUWI5f2u5Ne4lYrlj8lpuKoUZKSwVYUcRThjihBGJMCAZhKQCHyeKSIQRThRiRwopQAtJJGtJCEIpiIREAZEUKAQREEmJEoKo9n1cR9TOxd8pIYiEqK3VYqr7pNcClBBoBFrQyBtr0jgfq+ZoBErEx2pJivsOpVySdN1tU22NhNbYSpHzPFo8j1wtpYIgLtPMrRVxX/XxRVIs2i6LppUWotGPrp3WCAaGh5/e9VzHefED6wj6e4HnypHk/m+c5f5Pn4Doy9y3qY17bn41H/6tX2bD1BhzLS3c+apXIqOIV3z5DgZfPElfeoFCsJWF132Oty6M83fvi41c8vfdT29HGwC+G/KOJ0/xzXKFX7ZyvLRi8O39d/BDlb9lO2c4Vr2Vrxd+BQ2c6DF5eEeCk72LD/icLnAZB7ghvQl93wn8hXnMZIbBDZs4ffQgyWSSX/zFXySRSBCGJebnH2Z25kGmTt2D65xaMr/j376C8uEAZZiUt+4FIybQImlgXf8SbjW62T1URg2X0N75Xbg0IMXqEQYEWH0ZnM0tOFtacDa3IJMmoQp5YPQBvnjyi9wzfA9etDR2qmM4bM9vZ2t+K9tb43xbfhvdqe5VddW0VrjuOUqlI5RKR6lWz+J6Y3jeOK47jlJrWJEuaQMKhW3Mz+1gbq6FUun8hKufTFF1kixYDgXLoWI5uFZ8zYTWyJpbh1YJ3aFPzq1gV8uocgm9ivV0HZZlMTg4yKZNm9i4cSN9fX1Y1qUZlJwPYRhy9uxZTpw4wfHjx5mamlryfXd3N7t372bbtm10dnZest5tMFFm4s/3Q6jI3j5A6cExtB+Rvr6H/Bu3Peu6hlprork5wvFxgokJwulpopkZwukZwplpwplZytUq81FEQUoKpslCNsNsWxvucr+DgIwicsUi+fl58vPz9IyN0/IcuZw6HyIpqSaTVFIpKqkU1VSSajKJb9sEltXIA8siNE1C00Q9j90bfa9h+T6Jqku+ME9+bp7W+Tnyc/Mk3bV1PZ+vqN9Zv1+ajB3vex+d7/tPz2qb646gf4A5gP+esevGXh763Cl8fysbz8VuXibb2tkwNcZIXx9dhsEkcHj3XopPHqLjhjIt1km8P38df5eKQ7dN5Vv5uUeH+Y1ojsqRAqMnChx6WRbyJmPfGOHB8YDBxALb82eItOShUuwe58Gr0ty1s/bA1ZptYwHXnPDYMVVmfts5RmcrtMsKJW3ztblNvLJylLSA8aTDP9/9e2zKHMAID9MQctSaSgSDzKpevlXZRmb4JFkC7r7plRzceyOv7Wzh7T2tXJ/PYJomqAiq8+jyDNHEJNHUHNFMgWiuiCosoCtljKzEaDExcwIjI5CORrs+UbGCWqiiSlVU2UW7IUwAE5roIXjCcflK2wJ3pueZaRLJdAqbq8wcVxlx2i1TWIGEqRmYmkHzAEoFhMoliqpEURWlqkRRhTAsEYQFVE37LXZRLWipv3fX7p5CWkhhLebCwpAOSuY5Ut7AI3NdzPpLuWqdTsBgOqDNiZj1TaZdgynXpBpJ7GoFu1qhBRi4yL3VTE4bMsAyQiwZYBsBjhnQYnvkEwFJdRT7jMncsGRBCMwlSWMJgS3AQmNLMEWs6l6baS1rUrxqgglsAbageXk/zHdKjhYcDhcchkoWExMTTExM8M1vfhOAnBXRmYhTVzKkJxnSlYhYITkUgqgc4h+fJ49CtOYoPvQmtJ/Bzk6S55OIz6uVymOi5idNyDghiJXD4rI6jPBnqwRzVYJ5j2DOJZx34+OiR1jw4nBq54EE2mqpDg1Uc2nmujuZaW9nJt/KXKaFwDSZb21lvs4JvUqzuzTBDQtnSUkVOy5ekmrOjes6b7Lm3UDEc6szWJQGrxzgVWKOne+FeEiqpk3FdFiwkixYSUpWkgUrQcV0nj4nDU0CRVJEJIhILMkVCRHhiAiHmFOmiPV7lY7zSAsCBGVlMK0dpnWCYpPj9xw+240FOqUX16POTYttqk10bLjUtEfqsXUbxIwGQ6iaYZOuPQxje2xVuz5Kx20GCEItCbQgQOIjCZB4WuJj4GuJqw2qGFS0gUYQ2DaBbbPQkmN4w2Ic2zQh7dKjXfq0C492w6NdBqTq9yO1zF9j43dU36dLJrS0bPPWXs2fas23YZMCZL1w096v1V3u869Wt65XuQT1c/W83k+9D60X5yGaytV/a/WOls9Jg/I97J3rkZaeC6wTgM9DJDIW267u4Mh3ttBVuJNUZYFCNn5DCRyH7KZNTJ48ydnt2/lu9gXIyb/nJT2Had8yxMS305iAkD28+bMzHK/50AMopOO38x1dGbYNSG6c/hy4sD+4mYWoj2JGcs92mySC9lkfnpzl5cZR+qotuGEferKLdruILywKfTfwumg/2xIP09Zxlky6JjKt3cMMv5v05E6GdSufb9/FXcmrCaXJ1vEjvKn0OJFt8UtbXW6Jvkj6+Ag8PAwLo1CZATduSxBv0NU2qS6Y6EICRRKlE0Qk0FhobRHfyi0EFpBA4zBsCv6qY4RvZqcbbeRDm5csDPCK4gZ2uG0IJJr4JlhExO1hARZa27VjEIRAhBBxDhqT2pMXUVOsjhC4CFykcGvHQa28IhQSF5tJ8gzRjYdBJ5pu4THIObqYop05nIoPlboAp05kKFwsSqSp4lDFwSVBFQcPu3ZbrXEAa3kKlxQV0lRJUyWFixEpCC5J/teULz5pong1ap+W58tbWFnOBi6vJQ+LUboYoYdZ8rg4EEHkwjhxerK2FjkWyFOgnXl6mSBDBWpXUCMpzr+WSGeQzJKufhj38aVcWK1ARxKlYgpExfIwolASlg2CioVfNomqJloL0PFegPTiA84WGJ2AEEhLYdgKw9bxsaWQtkJaGmkqpKGRpkYYKs5l/WGqgElgEo2mEDlMkmZSpBkVWU6LVg5neziV6eBWPcQ+HatPLF3rJmJbNa8zKCTz5Jgjx5ydp2hnavsmgcJY7qQGp5ZQYBCRwiNFlRRVkrjYBNiEWATYBFiEmISYRBiNfG2CeKkj56V7SQNjZDkhWjkpWpkU6aaimu3Mca0aZ5Ai4iKFA5eOixGKNal4LNvTGggwcXGokqytfZ55siyQiY0fIiggKACnajUTuLRSoJUieQq0UiDRcGq5fM1WOz7/b2/tua1CSK6xBiuv3YX6u5gxrL2WEN9Vpw8+wcDLLrGbdVwQ6wTg8xH3/x/2nPsSR8UHMMwtbDx3kvkaAeh4Hk+dPk1fXx+jo6PcmEkRLbyBkwsTbM3Osu2qowzd2cGZja9G6Ij8/Amkfxbnhg141k0AvPMntpD8zLsR7iG0lWb/1LsAGO6YRPsZwqOzTI27dCRmueHmv0QowRMP/yxhUEQoyS2722jb9CEq1aONIWss5qOruPPkDq4d38MO2+N3dyd4OL+DdFjh9rlHeN3s/USPjDOGww2Z09z+3bsX62uIdDeh3kqg+wl1PyGbiOiqEWImWpugDbQ2gIsTNZVllU+2f43Ptt1NKEOkFty8cBUvLdzINaXLMGvtXFhAuwrO95y4SMWKzlpaiqsAKNfSWhBAqpYuBT5r+0p+PqClli4FXi2tBkUbc+Gvrl1ZsjSctENs0APUSb5LhWapNfQqgzqv8n97Le0GxsQcD1rHmJUl7hJbeVRdwTXhFgZVe2P/XgxauVQb9IvHcuvvS0UFj+PGOMeMUQqy0jgvNHTpFjZEHWxWXeR0vNtnn9lwv2ewWOs3fmFUamkdMDJ54KKlHOu4eKwTgM9HSANHHKItOcWUv4NNIycpZGLDlLZaPNmOtk5GR0dJ2i7bc9fy9dEH6E0+QCof0HaLzRU3biT1+FdxD30dMwg4sbARbriJbbNnWPjgG0lZs1Slw/+1fhUzaiMwF+iqHqLba2f8yna6rpT8cPIEqiw4N/RDlIN5WnKzbBk4TKLjFJUqRJFBpbKFG67/WTo7X4JhZNgzdzd/mTvN3+X7eNnUA7ziyFdoLc/zGuM76CDiHwrXAnDFJgu/9a14ei9+dQPeXB7lX7pivpIBynDRho+WQZxERCg97k4f4OPZBynImLy7QvXxTq5jY74D0aYI5VHCQKCroCuALxDKAG0glIm0HKyWLHZ7C05PO1Z7C1KaEGm00qAUuubHrFnkprRicnyS8XOjzIxNEXkhljbqzh+oB4myTIt0IkVHWwfZVAaUjtuL1KIEpCGqoelFXS9KcRYLrYRocgGx2kv60xHvrdKX0hBpTd0xhaqdq4vRlgQi07Gyej2P56ERURSnMEJEIagIESlQS5OoiZPq7SsRcx8jY1F8ldQ2OZKxsUs4jw6qmFGIjCKEblJir4v7pCQyDSJpoAxJZBgow0BJiaop4ms0qFincrkz3KU8kZXrs6rD5lUXd/VyBpJbgp0MyWmOmCPMyzJ32QeQWtChsnSpPN0qRwpn7bFICaaFtqxY59Yw4nNyqY+6JSPQ1JTwl83zWVAEExqUVkyHU5wNzjEZTjbGa2DQZXbRbXbRaXZiy1j0e6EXojX7YuX7WHOwG7HGz+disDxojr7I31RzvfgnriEMEEEAgQ9BAFGwbKcRXzvbBstGWzYY5orLcSmBfFab+/JwcOcty7L9v1bfzRLt2j1NhBHoCKIIw3WRvgdRRGgaaCGX7N+ZzVtWNLmOZ451I5BngOdKifRzp4/z68fH+YUD30Afu4Wp8OMcvPxWfu9vPoS2LL788pdhOldTYpwbRD+7o34+Mfdttodf4g2Dh9AIxJv+Dna9msCN+Pgn/o2njp3kuy/cx6f2/wpd0RzlyOEnd/1Pbrp/A6aCA1vG6akco5TO8YXrXkyxtisyYZlbRh/hFakv0N1+BgAVmcwdfzEjp16CfMNOjMEupitl1BN30Fo5yubJM+xf2Mzno1uYIyZcU7jczmn6hx5ia+sAL+h6C9pdJsMxBLIV/PQEJfMA1cRpguQkyvBBhmgZIa0UyVQfdqYNK9WKk+jAdjqx7Q4sM/Ztd7I4xh8++pccnIkdAG/KbeJXr/tVbuu/bU0DAK014XQV98gc7rFZvFMFWOakVmYsnK15ErvaSOxoxUgv5Q2FYcijjz7Kvffeu8R1im3bbNu2jS1btpDP58nn87S0tDyrhhXPR0SFAsHoaGwYMT5BODlBMDFBND1DND9POD9HNF9AFYtrE7EXCd+yGO/tobrlOq7OvxyJ5DvmcQ6Ya8doq++Fp3MLFELgOA6pVIp0Ot1IqVQK27YxTROj5gzbrPn/O/n4JKcenyLfk2Tfyzc03JTUk+d5Dfclza506uMTtZe/hYUFXNddEePacZyGa56uri5SqRSZTIbe3l7y+fxzGqJwOZTnoRYWiBYWUKUyqrRAVCoRFReYmJ3l8NwsxyqVJZz3Tt9nx/w8G6dnsIVAJBLIRKKWO4hEcmnuJBC2jbAshGkiLDM+tqz4vO3UchuZTCDT6TilUoh/B8YqrusyNDTUsJyvx6tuRjqdZnBwkIGBAfr7++nr6/ueBCu4VJTLZYaHhxtpZGTkvDHaDSHo7u6mtzanjRs30tHx7PqCWTcCWScAnxGeqw30B6fG+LOhCVqCBd5zZ4A58RX+7g0v4zf++e+45uhBZrp62b/7AwTOArelbXp0nntHvsl0+X5euOEUl+cn4oakCX1Xw6Zb+KKf4/ZH/ze5qMyI1csb9/0JVz2Z5cozPqN5xVjqCbqkSyIMmN19JXd2tVMJElxvPsBP8rfY+CgE9/JCvl34EV7xbYdcVbOQipi44kneNP8lFmZM/iJ8A4f0psZc2s0IMzSojQhTBbws8vlpq5sux8LemEMOKAqZhxhT/4LrDzXqWlYrnR0vI5u7nHRqG+n0Viyrbc0HWckv8Zf7/5KPH/k4SisyVob3XvVe3rrrrVjy0ogt5Uf4Z4t4pwp4p4v4w0W058eKY4aNkAJ7MEtiZxvWjhYOjh/j3nvvpViz1kyn0+zcuZNdu3axefPmiyL2tNaoUolobg5VLi9Nnl9T9DcQZo17IwTa9dCeG7sM8VyU7yMMc/GhaMe5ritiN9hwClV1UdUKqlJBV6soz8Pq6cXevBlny2bsTZuQy/zz6ShCu26NKBGgFcH4ON7xE/hnzuAPncE/M0QwNEQ0P39Jay5TKWRLC0Y2i5HLIdNpRCqJTKZiQiCZAGXgj1QIxlzQEoSBzGXIv/FaEru2MvuJc6hygNiVZfZqyeTUVMPP2/z8/KrEnhCClpaWJcR5MpkkkUg0Uj0KkOM4DQLvUggqFSk+8psPUprzeNm7L2PH9T2XtDbLobVmamqKY8eOcfz4cc6ePbtkbkIIBgYG2LBhA21tbbS2ttLa2koul8M4D/EThmGDIK2vy5J5uC7h9AzR9BTh9HRs6Tw1FRP34xOEExN4ExOUohDfarIStkwqqRRnN2ygkM832nNcl41nhthy6tT31NJZJBIYba3YGzZiDw5ib9yAtWED9sb48/J9/3xAtVplaGiI4eFhzp49y+jo6KpEVGdnZ8NlU2dnJ11dXWQymefkBUBrTbVapVgsLkkLCwtLUqWyUpht+T7pcplktUpKa9o2bqRz3z4Gr76azs7OxovTc4V1AnCdAHxGeK420KMTT/C2J4YpWAPsmZ3jdV8+yVevChnr2cI/f/DXsVyXo9t/lLHd1/MqO4MZCubu+yOGmebEQCsv7h9lT3+AKI6saPs7LVfyzj2/B26K9325iAD2PfY/aS0OcWLrVh69LhbRFhI5rur/BgP9sZ7fQS7nk+G72Hegk9ysSyIK2FyeolWM4cgS9xlt/LMVO5420dzQkuK1ocWN5Vgp/7PVU3xMKiadOMyeBAaTms3ONJvMs2xOTJOUAUKaGKld+M5OKrKHcqTpSzlsSDk4hkRFOlbeb5KBKqV4xHuAjy38X+ZVrB10Q+IFvC37HvJmbHcpGhZqFwONKi4QTk0STk4STk7F+dxcTAAiwbBQhsV0l825XgPPiRu3Q8HGSpK+MIlhWgjTghp3AgREITqME2EYc0rK5ZhLUimf1z3Ls4uLWwyZzVJzSogOAqS7QMKdxQ5K2EEJKygh9dpv8pG0iAyH0EigrAShlURZSZSVQNtJtJNEWSmU5RD7lYsgUmgVoeuicB2LX7UmFgPXr70ADIFwbKyuLgZbL8fRDkFSUrixH1aJgKG0QqkIpSIiFQupHTsOSfdcYma0zJEHxjBtyXU/tBlpPLsPYz/0mJ4fY2p+lMn5Ucru6sSUEALHii0qF+/8GqU1YRSg9VLFxLSdpktnaJsNSA5PEs0u1b6LJHgJk3LapJQxKWcsyhkTdZ75CQ2dYYJeWmi3WjAse5FzV/durhU6iCAMUGEIYYAOar+ZMICg9huKovilRMWixPizQke178IIohAVhGjfjz0MXASMTAbZ2orZ2oqRb0Xm85j5Fox8HpFMfk+5qWshUiHzpRlmi5PMLUwxV5qi6q0uJLdMh1yqlUwyRyqRJZ3IkHKyJJ0MlmHHaho1H49aayIVEgQefugRRB5B6OMFVVy/iudXcf0KbhDn6iLXNOUqMvMe2WJAthiQjCSJHTtI7N2Ls3Fj/FK7Bnq2tNCz5VI1g8+PdQJwnQB8RniuNtDvPfR7fOzktyj0/B5KOrzssRLpyTv43Ct/lJ+456u881MfJpQ233r5j/CGxAvRWlP60s8zl3L4+vZNZKIKt7/pnVz78uvgzP3oofs4e/x+7s/u4QPbfwlfWLzgYJXbD7nkOpN05XxmjpxjgQzzbZOErcfZvfteWlomARg78hr+tOv/41y7jeMr3vbtEgMzi4TKY3bIXak4Gsj1vsHPkmCHHXMZIq054yuenPw4XjjKaO7lfLdlO+fMZRrwGlqUoCL16oapGlqVoDMSdEaSnBLktCCj4NDAHRzsvwuAnNvBbafezGBh17N2PZYjMqpUU2O4yXG0jNdBRBap8gaSlV4Ezy0x8b2EEbrk54/TPnuItrnDpKpTK8ooYVJO91BO9VJJdVFJdVNJdlFNdhKZ3xv3DVcmJZscA19pvlUKqfxHiq6wCiLDxbfnCM0yyqwSGS6R4V68wpuWgFryniAjG8vPo0WIMjwiw2vs/9XqS2UhlIHQJkIbSGVi+XkctxOp19XPnwso6RNYC4TWAqFZJjIrREb1OXfgJyILQznIyEEqGxk5GMpGRjayfv4ZXPPrXrOZ65/leMDrBOA6AfiM8FxtoLHCKD/02VdTzN5Oqe1dGJHmrV/+Bh//oRcDgk/95n+nY+4Ehe03MLDnJ1HuLOWvfoCHr72WJ1u76J08imMkeetPfhB180bed3SYb8/FOmlJN+LFT1bYdzpYqTyMRvY/yKZr/wXHqRKGFicP3EzvNxM4rsv/esebOTzQSzL0+KNHP8LlM+f4V3Eb/yhjYuvVocUHzASy5ixgPmczkUswXxph6PG/AgTte/dhOpKiMjgZdDEmejnp2UwES98is1KSNw0SQjIRBhSj8z/RhVEiZ0oGzFZaTYu8adJiGiSkxJYCS2ssz8dwq1ilEsZCEaNQxKxWsJRq2FLqmmlAOQcqYyOSKWQygUgmIeEw648x7002+rVFgm566HDboRShKn5ssKBjcwiZkMiEpBZ4M9Y9kkYtl7GYNuEgHQdRS0gjts/QGuGVMRZmMEpzSLeM9OIk3DIi8NB2Am2nUHYC7aSI7DRRSydhSzfaXiS+VmVYLHfl5ZaxJ05jTZzGmjyNNX4aa3akEZ0EQEsDv28HXt9Ogo4NBJ0bCFt70NJctWEdREQLHqrsx6ka1FhPMfdNiJqZSKRiDfJFR3axyzDbQNoGwjERjkQmTIRtNrkYFLQUfQZKsTjq2NwQc9NjNU7t8vnGDmIurG+4mtnAIqp2wOMbT3CsZ4TeQjvXDu2go7T4+xfSALN2jQ2DyHCYMDeCEHSrc1giRAuJMIz4+ptmrbyJDgJUpYyqVFDlCjrwL9oriZBGzPWUcXxZpBFL6SMVc86ikNBQhObiGsynSuwfPMV4yyxSC6xQYIYGTmiS8pN0+t2krDZCE9QaxKMUJmm7hYzdRsZuJWO3kjSzq3PJnk1C5Bk+uRqu6Zaf931UpUJUU7/Q5dr1qFRQ1fM4cW7aNsI0GvqL9d+1sG2k7YBjI+v6jY5T25cXZ5O11pjPh0hFVMMilaCIG5ZwwzJeWMYNy/jR6v4PBBLTsDGljSktTGljSQfbSGAZCSwcTE9hVAKMYhWKJaJCEV0LC9oMmUphtLdj9fRidnbGqiyXiC37Otm6r+uS650P6wTgOgH4jPBcbaCR//pp/qrjW3y+7ZvQ9otMZ66lc66K6U0y1rORd3zzFO/67O9g9V5HYt87CScO4h79KJ95xcvxVYRx6hgpv0Su8xr+7LVvYNoWjTvHT3+1QHdhkdjadk0n+Z4kc+EII7OfYsPGO5FSEbp5jj/1IqbLGYxIcd2j3+GqgcP8wit/i2+3XksidHnVJ77CV7riGKlvCQU/b8Y+ropBkVziKWR3xMzGQzz2+BDTh3PktxTZ8oopKvJFfOj+yzhV2MT/eP1efvymTUwWXU5Pl+nKJehtSZCwluopTZc8Do8VOTK2wLGJBcYKLocmxpgtadAXF5LsfHB0RNrQWIYGFWBqH4sIW0TYRNiEJIIKZuRhqIhcKkFLKokjNURhzZGsRgY+emYeWfGwtINlprCERaozQ2JDCzJl1PwLK1QYoMsVpFtBlMvIcglRWkCUFlALC6jSQmwZKGLCVAnRCPekaiGTNIuWd/XPQI14chDJZEzA2g7CssCyYr1Ay0bYFtoP4igWM9M1Y4yVayOTCYy2doy2NszWVjCXXhtVCggmyuhAwXJR+/LoLOe73RgCmbKQSROZMuMQfvL8T7t0mGVX8WokknOJk4wlh0BpVKVMtFCKDRFKC6hSKbaufgZwbZhsEczkYuvjZuSq0FHQ5MsxrR8YUHWgakMplSKwHIQKsf0FIFZJMBSYocaKwIrADMFUYNRSg94SDXPp8+JSrD/LCRjPCwqZi60hSDpdOFYLSgco5RFFLmFUBR3RlmijJ91D3rmAmO7ZFJ1+Hx5dOlIo1431YD0P5bmLerieh/b9WI3hEtAwVKkRitJJ1F4KE8h0CnERIRcvRiS95FFfO9ZaL+rzirrF+mI5HQSxfnClGr+YlCuxqorrLtmPjb0nJDKdwmhpqaU80rHrg7zgGNfCrltuZ/cttz/t+qthnQBcJwCfEZ6rDXTXR79Mx+GQd2/7bVwzSdD1QYp2nt6Jc4x1D3BD2eUfJg9R+PwhnN2vxz9zLy0v62bkuuv4zGc+gygXyZw9hhKCj/zwe4msTmZaYg7NL361wKZsgtlzZbZe00nL3hIPPvggqdSjbNv+HYTQeF4XL77pDoqPzvLFB77GcBSL/d7CF9nMWd65+Q+4X+3COloA4MdD+GkzSxSGPOwKpqnSs+HT5PZ8m8gQPPWR7ahQckVumL5DgkTrAKNWjkOFCNdKcPPeQTZu6EQma9Z5hlzkZtQMHVS1ZqhQdVHlMp9IPMk/bT6L1vCj30xwzaEss4ksM4kWZhI5ZmvJNWw8w8Iz7TjZyTiXFu6/J1Gt1g0nrM3OWFdz2bDk+0vv6DytscTB8Mpvz4/mms/WTccQJlIItFZEOqy5abmUHlaukK6d1g2X2heq3XRdLrHb1Rzf1vnQQi/tfa2mV66rWDaH1UpeqNULo3m+9XVYvva1maxwj1Kv+4xGJJau30UySi+6l+Yxrr6eK9egXi7u4ekRPCv20Vr9xp2ssd9XmenFDGftZi6+zpKq+gJrvuyutsaefdNAxB/9wg9fxGAuHusE4LofwOclnrz1arYeuIvXzL2Az7TfxYbxv+Hghg8w1h27wnwqYZB/xzsoPPhXAERBifyP/gLtmQwHhkb4UGhyjWWz6+RBXnvXv1HteQkfv303VqS4eqDAqWMBIKmcOEphaJ7cxgfZvPUxAJSS7F34ANP/6xBEmjfK09xvneRRcSWf4VVcZx3n91/5Zl76p/cB8E5s3mM6mK0muWsEG+a/REv6qxhOLHKee7gfFUoyYUT/fXGQcH/mJB3AC+oTHvpuU7ySC+OO6wQffmnMhXrbtyLe+FAJKLG5uNJNwvkQCcFD197AiS1bCbQk0AYtVZ+kHzITRkyFClfY+NLGkw6BkUCaNloLtNKoSMXSXiEJhUEoDSJhEJp27FtOaZSoBXkXcVyOlWL3OPj6Bf2HicXg6Utuo99/XfTvKxoaaEKCeOac4HWsYx3PP+R6n5nV/DpWxzoB+DzEL2zs5u1vupZf/qzFHa33MiGf4urRe3ms7zbQmpJhcaDs0rvvBsKzPkOdWVoqFSwnwf/r2cxoyaV6/cvYfvowbXPjnOo+AuymrTTH2eFZVJDBEXAtXciwm+qUyXj3OH5mlPzozchDbYCmNf//SLn/xqsRFGjhBJt4VFzJN+4+DhquxeCnSHD3gM11r/c4dfa/4VXO4cyCmOmg+ORVTM3PglFlx8YdtF11C1HN91tUKqF8n5HJAr7rYxPRlTQxRM3aU6tYfKj1ossT32eeKttGQ/7HP4e0F6FjobZoNX2qRf2nWqo5ENZ1Z8Jax8daU00k2HXyGLtOHiNZrWIGIb4hiJoYg0ILpDYwMBAYMSdOqzhRc0yMRkgRu1+puV0RpoE0DCAWERMENefREq0MhDTBsJDZBEbWRlsGCkkoJBE1US8CL9IcnSwtuiSs6QDVekUKyDoG2YRFyoqd+iqxlGOhylX0/By6Guv7CECkU4hMBpxEbHEZhmilEHUrShURBREqjBAqQiiFVAqpFbJGgjbe1Gv9LOfBNPMhNRAZJqFhogwDLQ20lESGhTYkodS4okCIW+N8CSydrBnU1KIM10TcioikMmkPMoBm1J6lKn0QMnYOLeuEsmY516EuVpVa1vh7sta6gRASUb/ODf5ffI2FBosEhlh0vKsbY6oR50Lj4yOFxBRWbFlc1WgfpEOsC1pbrwYprzVS1x1MqzjkHJoIjdKKSNTUBYiIUGgdEcXf1iw243nGnwUGEiEEsn5MLB5s5gJJDFJGBsnSF4+6g97G0Gh6v1jyolFXPZBN3C5QWlPVFapRGV/7tTnFc1uMsFxveJHz08xCU0sWtyYqFxKJiS1sHJnEFk5jQLLRSv16rYaaS+HaP60XX6RqaqS161efnqytaa2cEDUH5LV+mubc3KsWi/urHrZR1P/X51t3GF8fUJ3Lq5vabIj+ARUhgxARBMjQRwQBombtLLRebHPFjJvWQi+u9Pn4pBqBsixUIolyHLRloQ0L0ayGUe+z/l+v5uY8/n7Rib1u2mfN61W7Z+iVfNyGs/aa+kPbwIuBG9cc+zqeHtYJwOchDCH446s287sn53jt2O18uuPrmJP/zN6tL+JgNeZ5fO7YKd6rbMDnbGeW6lOH+LNMDwdLLmlX8ZYHTbz8DaRmH6D/zGFs71W8eDZJZ3UjI2j6bYGXHcZ2O0gWt7Lpwd9ldtOXaZ17CekbummZ/QByOLasjZw2hr1upJQUXPjcE+OA4O1zI9xrnWP60TFOfOkUW8YnkW6dC1Mka97P0T2bQGtav/YN5lbRwWoOkaTLFw4nlQNyC6t8UXMHARcvQsqUy2TKS90m2E/XC0sEBEBNR1zXTq0FDUQCqi74c+CbtWTF+mOBKfBNCA3w2+NcydjtRiRrETBkfE7XHpxKiPgzi+e0AN0BbFw+gvnF9sSytldpv94erNR/a9y8ly18/fOijuLitYnHJpaOc1k5LQorvl8mGVuyoBcaR6NOc1nqD/JVxiBWnq9VXwGxbL6LBPhi3UXiYPXximaRqF7a5sVirfIrI1YsF1cuW+MmQkw2iGYalEXzvC5lXPW514+FXrpX1bK1Xms94oguz2wsq42n8XGVdhvXRy8hW1esISzdq83jbqzhksld+J4lzldIrOx7ydd69ePmssv3bHOfy9d9Odbqd7Xyy9ewdrhkLs3n6m3e8NQZbuSnVnawjmeEdQLweYpex+aNL9/N2D+8iGT0bU63ubzv63/I8Zvej2eY/EvB5Wdq4TrmzYg/q5pMEBN/P35Pkckei9zW2+m4/yi4M9zy6N1cZ93OWBDXsa75J84O3IdZbaX70LvJzFxO++nXYXYnSZ/9DeTcXWgNE6kr+OTkVbSOnWaLneAO9hD0CC6bOc2Oe/8SQT1y7SJkSwtmezvj+TREFdKRw0TvCxG2zZbr+sj355t8fhnMVTz+7tsnKbs+OzqTvHpPJ/7MDIX778efmkIJgW/AV24KKCQj+sJWXuRdgQoCQt8j9HyiwCcMNUpl0CqPFu0I2bL4ik/9bX0povAMyt3f4AKYso8kfZhKowmJhCaSmrCWx5wiEy2sWOQoTBBxbGKBQAuDyLQIhU8xscB8ushsqsB8ushCokzV9qjYLlXLw7WfzxF517GOdazj+YGxmWfXAngdMdYJwOcxXt7Rwk9fvYUfevKFfLrja3wpe5xfGXqK399yJQXD5uOtLm8twuf3XEXJSvPSEZ+3HajSmjAZnFQwCUc7XsL+c5/i6gMPUclLFNdj50ah/z6EaiXTvo+Rqz9E++wP0XXorYQTVcb1T3N4rsLJkqBzosgLJu4hEUYUrRRfe8UbAPjRY3dTzKQpWQYTrXnuuP11nBzcyICledfYEbRSjBx5CuYqmP3tnGg18CplDh4/THJcYpoKv1rBq1bQSjUCpvtT8Llv1hYgZ0GuD4D7L5/h+KBP0rXYcl+W/f4IwmhDGN1IoxNhdyHNPoRYuqW1chHRAlZQJOnOk63Mk3QLWGGZOavASJsPTpq2kkd7uYqbGmM2W6SScBCGJBIK31B4Rogn4+TLCN+I8E1FYCo8K6Kc0Ex0ZFlISaQqIFWJi4XQYEQSU0nMyMBQ8bFUElMZSCUxMJDaRGoLiYXUFmgTiYnQFgIzFl9qgUDWcoFnVFhw5qhaC7hmmapVQsu1rWHNyCYZZEgEGZJBhmSQxYocTG1iKAupTAxtxkJHGRKJECVCIhkhtMTUJqaykcrEVHH0k0iERLKWRIgWKhZZCo0WCiUUab+FtkovsdCPOF82F6ElA5ZkkyMJtebxaoSngJrALibil7MoFj9r0VR2yff16MyixrGofdaxiHjxeG02U6PNGmuoMQu9qE+gxSL7Z0l5lo976XzOI2Rbc67Nc67PqRlL5yRWObdsNHV3PUI31qW5zppYcU2a5l+f37LrXL/2usE+WqyjRMRsaozx7CnGc6ep2CsdXncsDHDNyCtxouTK9VhlzepjqX9abW2WlK3Na+laLZZbbR21WIyIXV/DRtnz7Ku1+l3SV1P/y/turrdanOrmdoRePpeV1+p89dfqd8nnZW0uXYfF1pa3PZBe6V5mHc8c6wTg8xDuoUMUv/51MrfeyhUizbH0S0lF3+JMa4WWh75Aqn8XFcfhT3Y4bCsqPnBMsLtYii+mkOBrFIrJ6hD3tJeZsi5jx+lDlL0jmM715Aa/w+T+dmaP5dj5I/cgDcjuvpWn7vtDOsWP0e700Ve8lvZDnyPtxz88bSf54uVvwjUdBsN5zt68i9POFQDIapn+ubM8vOcKhtJZ9Olj3PLotxrzKUwsNc6ozK+cs5ASYVgYlSpOGGIqhd2SI7PrMg51zHI8NYTQ8KbCO+ns2oNbMVaVOSSTms5MhU4xQevsEcT+7xBNTy8pExkGo5dt54wMqNoRmdv3IG+6nKcWRhiePsPowgjT3jAlqkTiUlyHlDCbRMhKZonMLkyrh5vaN/Gy3i10JDvIJ/LknTwtTgtZO4slrVhPK9K4R2YpH57h6P5x+kNYGeodMARmRxKrKwUUcB+/i9L9XyEoLOBZSU4O2tx5QyePdM0QJVYxr9EG0u9C+t3IsJNO0cvl+U1cldpEasbAn6rEwTdqXcu8Q2JHHqM7vahPppfe0vUqH5Y4GGgW7VzA4GXFt1phzM+TOT3J9hMWoiKYOXEnXUOPrKgb9vbib9mCv3kr1f4NVNq6CSPw/fg6tvWmMcymB3PtX31OS55xde6xaPrYVKY+vYZPwqZ5aaV57GtDuOWAHdf30N6fYYkaVPOjsmntGu48at3qxkOyrhvb1PGSSTSJ8IRoZnwD4FddRo4eYuzYEaIgWLxGTRO2E0kybe1k2trJtraTbGlZETZOK0UUhkShT+iHRKFH5Mc+BiMVocIQFcV54HkEXhXf9Qk8l9Bzl+wJLcA0LexUCmmYGKaJNAwM08S0bSwngek4WLaD5SRIZDLxmEyzsYaFYIqzpac4VXicM6UDzISjTGfP8cCuz/C63M/Tl92Bk05jmhZRFBKFESoMiKIQgcC0bUzHRhp2w/fmksvfGKxGVkoYCwvI0gKiUkb4NZ0834cgQNT0ZXWkEJFq6B/LMAQ/1uMjChFhGO8VQ8b3aynQUqANE21aUPMfqQ0TDAF1I7FaXt8joolA1nWd51qb2jDAjNvTlok2TZRpgWHGbZsmuqaLK4x6+9T0rSUCtWQeoh7twzDitmWtDwA/JFgoUJmapDIzjTs/j19eQPkBGtUkBhaLe980cdIZnHQWJ5MlkcviZHLYieTiPabp9zS4rZd1PPtYdwPzDPBcmZGf/b3/QfmjHwcgcJI83LmN06/s5/Od32CLO0B36ne4p8tkwZa0eoqPPFShx9X41TmYOEA0dZRg8hCFDp+//Zl38WDySn7q43+MAOzcT3LTW0LcGZcCf4twphm+r4fyuTQaQW8Frp700IVzALiOg7/3ZbT0v4ofkVVKwM9d8Y/sbckyNXUzQ0NjS27qZ9u6ufOy6/iV4SdRX/0MdjLJ7T/+HizHwbAszh1Z4Kn7JkCbpFuz3PaWvWzc3cXsX/wlc//0TwDMORk+fdOb+c+/9XM88cRBfnPiF/CFyzXDr+C6c69u9GUbITldIF0eITlxnJaJg6SqkysJCNtmrquLc/k8w5vaUVe18dDpe5hocylkLk7pz4oMEsIhaaRI2VlSiRzpZCvHPMlY6KCMPGm7lVf3bOK2jgFak10crAr+fniKc15MRO9MJfinyzezOXX+YO3/40uH+If7TtOXtvncm/eRnPbwzxXxz4zhnz2HV5pmVM2hZ47TdeZJpNbMp+HzNyW4+0qDqu012tKYBIndBPZWQnuAyBogMntqYut/P0gHmo88VGZDRfP1bpPfuNxm48Qol584wt5Tx7ns1HEGpsZX1PMsixMDmzi6cQtn+gbQCAwVYUQKQ0WEhsFTW3ZwfHBT/BBdxwVhRCGtxQIdhTnaC/O0FefJlktky2WylTLZSolMpUzS93B8H8f3SPg+dhCwkEoz29LCbC7PXLaFuVwL5WQK13ZwHYdqLQ8NE13zd6mkjB1na9W4boaKkEqBEITSIDBNIsPEM2Yp81EUcwjt0BK+kVS0GSsMcXyvNqZ4PAnPI+m5JD2XhB8fJzyvqVw89ky1QrZSRq4/Kr9vOPb2n+D1v/nrz2qb625g1gnAZ4TnLBbwH/we85//PO0LFZya4US5o5uffXcBzwh5/dR7ObjhOmYdwbGcwc5Jjz/90w+SmDsOgLdJU35JhHuV4r8YH+Ks2MSvfvx/QbFAWu5mX+UwhYzFuJ5lKsoQsw001xTG6B6qeYY3Hextr2B++/V0G118FJe/wac3Pc6Hf2yObVt+ESktSqUShw8f5uDBgwwNDQHwZP9WUlPn2PfE/ey5/aW88r3vXzK/kWNz3PVPh1mYjS0mNgZH2PjQ/8WMPBKvfQN/oK6mu2TTIRN8bu+fMp05R29xK295/G10TD1F++whsgtnsf3iUmJPCMyeHtSmTUxt2cZIaxvnWtLc651gWg5RlmcIxUqOmKALZA+R0YayOgicbjyrk8jMoWUKLZLwLMaKbbMMtqUSbEra9NgWlhRYQmAKwfBEkTvuO0J7pcDLOqCjPI8aG0NNTcbWgOhFCzmtmc1q7r4yw9nOCroWXUMLi9DeTOhsJ7C3gLAxVRx/2VQaqcFANxTpBcRWzIA0JYYlkVIgxSoCqiZuWE1Y17z8MZoZf6sphi8/oUGpmL2lajF/tQKFji3BFfzISY+dxYg5S/BXGwyqq8SaTVUr9E+O0D81Qu/UGL0z4zjBhfUshda4yRTnNm7m3OatnNu8lVJL6/IhXhKq5QC35GPZJpnWlQT/au2tdSe+WP+5sTA7ToHn4Vcq+NVy4zvDsklks9iJlaJRaJLI1QbiVCu0TU3SNj1F29QEbdNT5OdmSJZLT4sYuqCro6eB1fxglh3419skQ10CqTWvfERz3fGLG+9qY2yuWXUSlBNJXMcmNEzCGuEZmgaRYaKljC3chUAbBso0wXZQVlwuTjL+3anYo4DUGqEiDK2QUVRLCiMKax4HamWJPSM0RrhEOq2RSiGUxtCxNb+MIswowohCjLCWVLTYh1IYUdSI9FO3dq9b7SopG6nOfBYqwlAaWcshlqgEhoznZlo1zqKscaNrHhxEvX3dZFCiGmOP70VqyfWsjwUgc9MN/Ph7n10jkHUCcJ0AfEZ4rjbQgXvu5IlvfImJEyfJVXw6Fyp0LFT4/E0+X71Osms4RduGP+ddp31++NY0kRS855N/Td/0CAOv3kF60xcBRYkMP8v/QwvJb/zTlwncB4DYcrgZXYUSlw9PNYhNP5fFueHdZNJ7AKji8yPGHIUoye+8OsU7X/CiVcd9/PhxPvaxj6ERqJGT5Iuz3PqT7+PqK69Ge3XP+T7ac/GmZjn68bupnBkh6c4gI5+5zr2MdN+Im4xtgx/Y+Fme7PsmKdfkgx/J0Dc9HT/gEgmMtjaC7m6O7biMg4ObOJhrZcROMOEkKToJ7OqjJBfuwvKOIppsizWC0N5E4OwicHYSODvQRvair40pwBISRwqqSuEpTcaQ5GuRS+q/Jq1jdxEy7pRIKSb9kHCdy7SOdaxjHZeEH6HKX7zopme1zXUCcF0H8HmJx6YO0HHDPRxIv46HR7bQ6U/R5U2SCCXoOzkyWOEdM7MMVNO8YHiOeza2cfcb38HLH/wKm/u+Aija217ImcoPoz3J1uEpZOJqcB8GfJLJJAlrihxVdg4XsM5pdJPzu4TRQdIYaHz+UmWGQipNj1/khV/8NpOPPxmHL7JsdBgQTU4RTE5gTkyyqbODoZYcueIsQmuS7/8VTqjV9eiSVppSxz5ObX4N8/ntDS6bGVbwgi9zoPdeAH7+ix4dhYijG7dwYmATxzds4tDm7Zzq34BqJqh0iFN+gNbZL2GGi3qHgjz5ai9WOEjK76KzELBxahYn3I/jfxc7DEi6bkMclDYkTsLBTCXRyRRRMkHgOFQtC8+xcW2bopPgf+65CZwkr3/iPjaOnSNRKJAsFkmXSqQqFZKVKkm3SqLqYoUxEVpKphjp7Gaks5vRzh7msjlCwyQyDMJa8i2bcjJJMZWhlEpTSSTwbAehNXYUovU8rlGucSYEtnJIREkMbdUnzBKn0UI0KNPz8WAWVXXEynNLsAqX5Nln7gBgaoMMCQRQwccTMRd0tZFc8pusXtSxM6MIMwwxwwAZKVb6SxM1Lo9R43TUuBxrvD/rRq2LwCUGga1z+pq/a+bc1fuN/TbWOENax74c63ktNZqo+7pbBiUlyojnraRs5Es4ZU3761nBs9ieZ3i40ltyTgCGjl/YIhGtZjqDRGIrC0vZSP30X9o0q3Apnw4ndK06z9I6Ldk/zesvapy4tfpfdq3WmtkzHWVLxnqGLaxjNawTgM9DGKP7OVRoZ2//Q2w89wKUsZnxPsmd+9K4skii8iAd1TkgzVXzHt/ZLDllpynt0tj2PKgsT3zC4HM9J+GqPvYMzSFEB6nWnVTmDtK5J0vb1Y+y79tl5p7I4ocWIpmg69d+ndKUAefakdIi9MbQZhufSMUOd3/40NepnHmQynnGfj3Q1dHC4f4OWssu1jLiTwPTHVcy0ncrc6070U26aInqNOnSCKYs8levPk01cyuoG/nge7ZSzKWJVrkJtc3PsvXsERLuvQy3Hadc03+zIostC1u4pryZt1mdzBUL3HXsCQxxnNfvvhorY+HOFvGKcwTzBcRCEbNcXvJQvBBeyN/hWjZ2GDREYkqYhGaSyLBR0kLJViopk0haBJZDNZGikO+gmmrHEBn6CwLPdlhIZViw0lSSWUrJJAjI+dBf8BmcKdJdqKKEz6nWwxTtWQA6g352+HtJk0VKiZRGLZdIQ2BIiTRq4lxDxMeGRJoCKSWGKTDq54y4jJAi9lVbzxGEoSL0I0JfEfgRoRfVRLU6jmtcOxZCxAE5hEDKelu1c03H0pCYVpwMyyDSM5QrBylXjhAEhQY1KYMUrWdfjowC3JbTlHv3k3D6SCT7SSYHSCb6kYZzUXFQV4PWmiMPjjEzUsa0JVe+ZAuJvIX2fYKxMYKREYJz5whGRuLYp8tg5POYXV2Y7W0Y7R2Y7e0YHe2MD7ucenyKXEeCK140uGbfFwPRIPo0BCHa91Cuh6pWUeUSpdFRpo4cQvg+ZqRISAMriB2Pn6fRWpsgLBujtRUzn0fm87X4rbn4c0sOadfE12JF9VXm1PzhwnN9JtftYtqLlCJUmrPFc5wqnGSyMs60O0EQLV0bQ5i0OV20Ol34yuNc+QSBXpSS5K0eBpK76XK2IGqupxtOjmmaqmbpZ+LrFlRditOTFGemYgOcpaPGchzsZBI7mcZJpXBSaUzbeVbCJmsNqmacEwYBfrWMWyrhlksErruUMBNg2AmSmQyJTM1Ao3YvWtro2v2djwA873SWqI+sLLlrb/v5aq/jaWJdBPwM8FyxkN/+h6/iid5z3DDSwUtS1zJ75FUoAdNZg2O9Yxxs+yD/beQ/c3NxC/97K6SuzPGPZU2/HuYP+WWG7+ph7kQLH/vhn2O0s5/fedInPFxi+zU+B77xFxh2xEtuPIjzd0ki18Bsa2Hw7/+RYLaFwpdOAeD6+ynv/3vu73oT/3PTtbRpwUce/RTy3HcuOP6HN/cwlUuzfWKOFk8wlW+ld8sWMn1XcWC4hQL5RtnOwQzbru1m2zVdHJ0p8w/3n+Gb7dPMZ7tW6N05XpWW4hy50jy9RPSkI2acAxwr3Y8XxbpOKauVluhakt4ectkOrtq3D9ctYX34T7AnzzG7cw+ndl5JJfBRRhw1QkvQEiRxdA9DayypkSLWp5FKYUaKpKtIeGAHAjuARChJ+AIrFBiRwFJgXMqvaYXbhSVfwjI3GGuXXV4vzkWTe4vY0lXU+hSLfQt94bpNQ2hEPriYeTbqr96eRq5yw18cw3kbXvVBsbzusnKrznk1LG3nUuIdn7/V5rUTrFjvNcstH9fSU7C83LICTddhKZb3cb6yy+qtPoimEs2KoOdpqlZ9SUzkNYiAtdZr8dsLddS07+u/g7qVf83NTaPdiyG+VlmiVa/dWuzx5b+9pmGu1cGFInmcf/1WGcuqv4XmNbiIvfl0vXDX+1p1vmLJ3h5K9/Hbv/7Gi+/nIrAuAl7nAD4v0d16OXCOk+kir8rfRZC7GavYQlcxoqvYRWHXLjr8mHM2mksy8LGPknrt6xkxBrlr7qV0jcxw7dt+lD9p6QcN9kRACOy6dicnHlBUKwbzn2+nw/UwcgkS193ExJ9+CaMt1rHwT95FcOBTWGg+tTP2w/dmYZO7+idwIx9VOUVi+3bM/n4IQ6LCPMH4OP7QWaIwZCYTK5nvv/EWIuHwjb2v5fanKjjzUOiWFFKacptH51Wb2J+0+X+ux7FDxylHCjabQBz3UaoSeeHRwhwtFGix52jpKEBuhOGF03yrMo2uMWZaTcmNWYur02US4i4svoZJgHmu5r7gh+qre4zb+exzfg3XsY51rGMdzw6qR18NPLsE4DrWCcDnJS7fZXPnGZjJ+4wfa2Hhmk/ykzf9Oe4sDD01w8yR22nT8RvLlCPI7byW18vP8AnewWcT7+DtPfsZ6b+ScKHEtkhSmfUQArrufiOtW22qB7o4bbTSwThR0SU4l8beHhN/3uEv4B/9EgCPde3gTEsfTuRz6/xJRPs+Ejf+LB3v3EtyV9uKcWvf58iXvoD65D+BneChHTcxnelhJmvyjy/Lr5xoqRInoE1PcxVPMRAdpD86Qrcs0WW62E0GK6UIPjNv81hlcdtudSJelA25LBEhL/JFVGmJ0rXopEoglEQrE7QRxwnVBlrHMdB0E8esHvO1/sIrtV7y9itWvNEL4oi+MTdP1G3pxBINvdrR4pu1RqC1AchG3NIGx2hJXxohFFKECBEia0kQLSmuEATaJEQSYhBiECGJtCRCopGLxiv1kTXipS6N8SsuyD2rz0s3vcQ3/xfUuQqxiLk+j7pYTdCpLHLaAAQj0qfS5ItxMYLsIudAUIvbuoSTxJJyTXaMzSOsDXflxlkca+1Yx66PhY5dQ8cRikFqESdEbF1dd1q9KpdsNe5m0zWnJuptirsVz63xMY6rW4+dqpdzwlbjitVT7FIlzmno8Onm4yYOWd399EXzAVcRf14cG42m38bivj5fj/V9shTNu2uN2o11VY0rW5/z8n2/+vgjEBFCNAd5rIkPavs1rrV0b65sbzHOcPyxaf2Xz3W1iazGpFzCbV9W80K/2aY5L//9ND7X+xTNZ/Wqba92Dda8Lk1r37hhrNLHzHNgQb6OdQLweYnr+/voGYbxCKo3TnJ1MM3jX/1tXv1Tf8GWqzp5QaWfc7/7KBATgKXuDL/l3cmXzTdRSGY40XkFTz40BXuS7DwcE1gpMcMTJwfoOzTHaDdMZ1N4pkFuz1uxN98OgHvgk1TP3kN5+3a2//CbuKOwAcaqvP7yDo49+hWMUoINmd1MffgAbW/fSWZPzKnTWvPAfIkPj84QHDrKXuCJrXt5bPPmJfOywpCMV6Fjfo5yMkEqV+BK4zGu5hE2cTouZNRSAwahl+PhgsUXvQoV4pv3XtnJ3konbfOtRCM2T6GJUKjIoE0naXNLSC/JVDFHqfAgWllYmXeTlRUyTgmfLHNeZ0zoNcE0FEoLVFPAW8OI70tqteC+ApykgZOycFJmLbewHLkYRF2zqLek6ycUdc++ZT/izkMTCODle3pImhKt4CH1Lb6uvkDaz3NL+ZVsru4m8CICXxH6ivOpKwZCU5GagtDMS82c1MxKxawRf14ez9dBk5QKmxCpIyQBFhEWCrORdJyLxXNGI48wa9dGrnGzFlAjN2PiyZAmluFgiDiMnqEltwV9bIqyKDQP2ROcsRaWPRZrrmnEIqElRKyZpaMqKiyBDmOCT4BhZrGsPAIbpTSBCvGjCF+FBFFEpBSGMpHKQkYmIowjnZiYSG0gVZzqkS8uCULFwV+lQpgaYSikqeNUP5YgY1q/5nZHxJJJBEbgkz/xKLmhp8iMncKInn40BF8alKwUZStByUpRspKU7GScW0kKdprZRI6Ck2HBTlE2E1RNh8AwCaRJJP99+Y38QYJUCluFWLVkqqh2vJibNTcycYqQWjfKmjqq5SoupyIsHWEohakjQBAJgRISJQSRkI1jJWTt8/IX4Kb7Y71drZC1MZgqqh3rxXM67rt5rCJ++2noOwpdU7vRGqmjRv0bb1gPBfdcYJ0AfB4i/EgfN7a8mM+1380xz2Bfm4/OfZVHvvU77Ln+XVAxMDBQKIpygem2fr7+yJt5594i/8fMcN9ek45SzDkbGI6NIvyqSfFMD/3jp8hnksynE0xe/hI6Nt6O1oqJ+bt5akMLE7t+nptuu4X7rSQPHjmKFPCGzZvovOy3OfStuzCGztGfGmDmn49w5Jqz3Lu9h38tLXAqjKML/NTQEQDmW7dx7XGXnsoCCf8YSbfEZG4D3R0Vunr2s1E+RBuzjTlrLRjyBaOBpHX0BjITV+MXe5gNJd/e/GmGWw8D0F7u4/aTP0ZXeQMAgQgp5Y7jJadAQ25+D67Xzigx0eUvfBwdGRiJWxAiR0nnKK3U519c+2jlgz5ajfBrDBy8SoRXiZaelFGNE6BizoNQaGWgI5vVOCO7iZXtzz4+B8Dp1ie5c+c/ooVm09zltJ7dwjzxtawIzbCpmLYUSmgsLcgoQaeStEUCC4GlBS2RoAXYsGLIGh+IaiOxWCPiyPcQBnB92qDLkkRa82glYmq+nQzPXPm72dW3BBK19JxDy3iRIwMd1F4i6l+hCQBXaDwBntC4AkKhcbwie8/dyxXD95EMFk2uFuwshzp28kjPHk629LJg2lRMk6ph4kkTLcBQComqcVLiB3Yk5FJr+WcAU4UkQ6+WfJKhSyL0caIAJwqwVYATBlgqbHBm6wSDps5tFDFfXMR8nkhKImEQCUkkDcJaxAslZK1cfByvW2396u2IuC1VI1oiWSNcqB9LQhH75YsaHNBF4iaUi/2qZTrHUkU1zjGEcvVHpdQKpzZ/WwWkgnhtEpFHKvRIhH7TetW/8xvrl6idi+uHmA0CL8LQEVYUYpyXD/sfA6cn1wnA5wLrBODzEN8SLvvKu/hc+908NW9TBZJtPkX1ER586CM4xQ1s4ndRdpH/ZH2cP+HX+ddrXsN/5b/Trf8TE3Yv1db4jb1XDxPRxwbzU/QWHkcg6JtbYD6d4KxZZJfWPFpRjIrbQUO6DE9+dYovpXywYadn8PjHjtdG1s8oYFiKHssg94THvUxyqtPECjQ3HBolX5wDJC8/1IEQFbSMSHZ7tPQdITPwCSxnoTHPQNnMz/YwN7mZr8pJTqWH2DZ1Na848U58AYc7H+Jbmz5DYHgYyuDm4Zdy3djtGJhghISGSyU7RMbwyUZZ0uWNOGE7GHUSa4IwuQ3DeiXS6Ig7FXE0pGROkWqtYNolgrAch7SKfJQKECJCGBFChkgZYCQiLCfCtBVlFeARkJSatBk/0rUIEDpEiwAIQDSTHHpZHpMgopbQaYZnbRYqWfpbeulM9zAeVvlu8UGuqGxnt3UF1/W9mKGcz3A5YqSsmF3m29hDU0IzLSJypiJrhGQISKkAR4XYkcIKHRJBCjtMxutHYzmaRqrwDRfXKsdxg80SnlkmNIKmGSyPpSsa/1d/TOkVRwpBpA0ibRFpE0Ml+OFgC106TVVHfF5OMJ4JMLQZx0HWEgOJoQ1sJUkqk4Q2SEYGiYvgzK1UO9eo2iwiNL5UeCLCkwpfKFAOIZKq4VG2KvhSERARCFbS7g3VADAiGyfMEAlF1SoREz01wkVLlBbo2AU3apVxt7oLXDZzmoHSFH4qxWOXvZbZRJbTuV7mElkCaTZYJalaWj6/ulH96gJSjSDCEBGmiGKFABFh6XifJCOPVBATJxnPJR14JEKXVOiT9D1SgYdTc2ckiF+w6kReaAgCy8A346gcgW3EBlaiRsDJGjFqSCJZzyVKxiJpJWrh0KgdN611s6BbxEsexwpeeSlqhZpFmrpGLDZz4JepCTRJOesqDwLQDZ2Susi2RkDWjiXxy52wQNkRnlnCM1z8WoqaRMW1OwNFwNASO0yRDNtIhEkslWj8fhZ/TefD0vk1prXk66ZfaUNkvKhQEHOa9VJJ8Zq7prnXixvhalgk3pedOQ99Wy/affmmp9HjOi6EdQLweYibbthN/ttTGNqgaEU8dlcfmwer9F4/AUhMrxWA0JnnWr7Lbfoe7hUv4u+j/8SbFv6Vv87/AkqY5IIiUSl+c0r3HMaoCLTUZN/iIx6Cgj/Fod5/Izewg+kT0ygvSUt6gDKtHJ2OeRU/1NNKrzBjtx9KsyA1v7ZV8nOnfW6aifiTx6p8PqMJJiLMhUOEgOkMkmvPIP3Hab/pE9itE425lchwNLiWngMb6RzqoSvbwqAwuV4atAUtWJi4rT5/1fMvfCP/EACXVbbw/rG3M+j3QEvzSiUhao25LBD7uLabvx+A7ACrwgcmbGiySP5+ob9+MBlnneS4nPctKXPZ0omtDs3ik2Y5VojW14IN1CziQpayz74HSAqDt+q+xRPfV7/ZDpBbZNtdDOp3VJW+9O4SaejvufR6l4q11Oya90jmuR/G9wXPFaP7fL+97zUulmH4/WIsPo1+M7mWCxdaxyVjnQB8HuIfHJv/qh12V7ZwMH2coWsgc3ee8sRlbP2h+zC9+McQpUL+cLyFyfATtPZexbjZy9jjOxncPcJwTz86sAhFSD4apv3zLiBYeE2Ed3mR3FiWwukck6Xv0t/2JbZcv9j/14+8CcULuaz9GDe86MPk8/vI569n0r6Wdz01wlnX5zc7LP7ukSJbpuFNJcERQ3DMPEMI3PzmF2Kd+j1mdh+Pd5jIcrRyPebUdVx+dhvX1I040iw+XGtE3LA9zu/3/z1nEqNILXj79Gv40cKrMDRoXHQY4kuDqBaeyIhCLN+LA5onDUJhEPrOom6fiJB2BWlVELJJTKtlw9ADJKLmPy/2VxeHL6oFRyOqcW+qEZTC2N9dzogD0mstag+VxSDtcUA2hdYKpXWcE6F0nHQtCTSG0Bgi1quLj8GoG4ksUc6W+Mog0OBrRYCucZ9WUcIWAilin4CGNDCF2cibdeekiOcqhYzHrgQq1KhAE9WSitZS8o6Vs2MOjiDUEGlNpBc5DPHqxTSFqeN8JZdhdWhR48zUg9TXjkWsZIgwRJxLUSMSV2u5Flau/kkptHIRUQWpvIauVMyRlERKEmqJUgZKJNFYCKmwEhFSGrXrK2vck3pe00kMA4KyiyEinAQ1Hc8IVBzOCx1R52XFfMGVVFidx9Q8m/OYAjTVWjnv87tJWesarGZUcj6DjGfCBzofVruSYpU5XXhdGsZVjXX9/otT13JXs/rYVju3fG4Xi7X59M19nX+Nnt71e6YYHTpDniue9Xb/o2OdAHweovWpAo9UQnYXd3EwfZwHrG6ue8E45XsmOfb53+SybIUeoGvjrbx5W8CfP/7n9Pp3MGe+nc+96BV0zE4DsJBKcs8V8ItfvxPhCxLtPk7uZ8jttwjav0vh9AJzJ1rouX4aITVSakpBinvPxRbBr9j4DYrFIxSLj/LA2a/wF/wyw2ITfYbip48IDpwICBKSnQmDzZbHkwtnsXM+1fB/Ubw8jrlrFK5l8PF3sNNf9LMUCc1YrkCmrYqZneegez9BYpITLPC5oIiPJiMkPzM4wN7LTzCx8LuEM+MUggxlnUUIgWmXcBIlDLMMSOZPv4CZw68mdPOAwsqM0bbzS7QM7MdJp6jObWT88ZdRmelDhUmE0LRtPkPn7mOYXdOMLmQZWcgyupBjtJhlbCHLbDVFyXPWvGE/PQjin91qP70IYbhAhKkdbMMjYbokDB9TqthwQGikUAih0EKihIOQKUwzi2NlcYwERk0OKESdfooJJ0MKDClQCsJI4UeKSGmCSBEqRRgpQqkJTU1o6/hcqFCegkBhK3C0IKGgXUlalaCtpnfoXCxhBwQGWKJAt32SHvskvamzqNZORne9h+SGXXS2JWhL26QdEykEUnDRToO9asj8RIVK0UdKgeUOkxr/Jsmxb2JNPoJUC/EluAhuaKQNXJWh6ktcAAukpZCmom51nAoDslE1pkFTTZXrw/0e2E5ENb02LepkpagZVC6Sk82k5WoWqM2D1k3HSwV+S6/BxZGluv63Zjm9rMZqrYgmAenSEYim02sTuOf7DYtVjpYKPlcS6qu3sNoYV8PS9hQapeOka8fnH3dtxZpidTdeGMT5BbVrkZiNlyTd/Eqpa8Zri1do8bvzzfNi1+Hi604YN3LZ02xxHWtjnQB8HmLgVJER3yQ/twN6QYoT/EH/h3jfC/4E/8HHMO3XgQOnz87zppf+CP9w4B+Ymv4aN8/28MBVL2W6raPR1v6NgrYTBwBI7LqRqHQThlth+xvTnDxyN26pxHe+/lrSvQP8/M//J/7qm8fw1Vm2tFW4dqBCPQDCACP8Ib/CSLgBDl5H9dT1CCNP4gV5Up0tHP3cR+i8coqea2YILIUOHboPv4P82M0IBJMpF6P9AartT1JtO4IyXcq1MbZo+GLB4p6FONzPZpK8dvYmoqN7+e78ADpyzrNaYe3OFG9lYfgkWs+QaD+JDrPMD93CwrmrqU7vIEJTckpUtj7AXGqeMbedkccuY7LS0dDVWg1SROTsBVrsBRKmiyFjPSpDRBgyiruv6YJFWhDqmGsYKpNIGygd28xG2iRSBoEShJEkUCZhZBMoizqvTEex6DAAAuVQDi7FQalbS88iNOSUoDeS9EWS3lDQFUmsZTfpEE1JxoYNgYitkAOgLDWzUjNnKAoy5Oecj/F6+QiDcmqxsgJmYMt9n+dT0e38UvhGRulY0r5oSpJFwjZmAGryukK3nqNHz9It5tghz3KTuZ8+ObpiSmOqjXO6ixHdzbTK0yJKdIh52sU8HaJAh5jHFrF+XNookG4m4tYQi3vaZFS3M6bbmSFHWWXwVBalshBlsaMECeVgaotIWygslDZYTqBpDJSWcU7sjkg1XPXUeYdxittZdD+yjnX8oKKt49z3ewg/kFgnAJ+HaH9llenPZhGFARJRCteoEFlj/MnO3+Ql4iA3nqgAWUZPlbnnA4+zc3A3j/c9iqh8goHS9ZzL5Ehpl92nQwaGH8D2AmTGIuz4aQSQfE2Krmt+mm3Xuxy8+07M4iw3venNaGHxke/E+no//7KbuGXfm/nKyBE+fPRLXM+DXK6fpN84C3vOoi/7N9ASVyoeD0C9QtBnxo+zxOxu+g6+B8tt54GukOGtX+XK7KcBgS/SFHQLR7iRkk5C4W6eXEgyXvP3t+/cS7lu+NX4q7JOFBg+yBAdJhHaAMwlr7U6sqlO76A6vWNFbQNBi5fFOHkLJUNhm4qkoXAMhTYrZJPTZNPT5JLTtCSmaUnMknOKZO0iltDYIsQREbbQOAIcCY7Q2LE08mlDa3Ajh2qYpBom8CIbpQ0iFfsrjIlIWUs1grJGZIqawFmIaEnoKK1FzZ2NQRhZsViz1kb9O6mp1a0NQoP0M1jVNuxqK1alDaeaxwxX2sxGhkc1PYOXmcFNT+OnZxsidh066DABfopUmMQJUnQFSd6g7+Dlxl2NNkajXo5FWziuNnG5+RQ3mvt5m3kPP2Lcy8eil/Bv0W0k8MmJCjkqZEWFVkp0ink6RYFOMU8HBbrEPEnhrxgjQKANHlE7uUddyb3qCk7pXrwL6lNqEvjkKZEXZVoo00oZq/aaILWMCVEtqKhWqlEHOsqRBXJa06YgWVdBqFkzVEXEggwRMkQYtdz0EZaHNDyk6SFMDx3ZRG6O0MsSeSmUv6iMJ2SAMIJaHmLIALOpvUZUi2YLCjRC1nzXSbV4LBQI3The07+jULXv6+Xj/RZ/t5p6gG6iR9fgNy37foXvP6GXcSabzj9tLK/7TInmtdbr6Ve9tAZXMf6ore3FNr/mUPVaqhrnH8tziURb8jnv4z8i1gnA5yG+EnyUq5Nvwai2s6Owgyfb9uPM7Kfct4Ov776Cn5gpQ1mxoBQJJdgz+jqe6NnPsQGftiOnkPv2sm10hJc92sLeA1+N27z1R/hhIeGqEl03vgqAZP9GAKyFea7YvYf7nxxjuuTRkbJ59Z4ejg4X+MXjHkXxUtwjt5A6MkHHzifo2P0IEYcWHziANDXmQi8dQ68mN3oLh/Lw1KbvciT9YWarIV8qJZgLBREKQZFN+Q1sGarylNjOeO4UQkteeOLH2Dl9PaQnCNLjKALKKqJilRjuPUu5s0TaSWORQ+3fxjVnr8BAUrJCHs1VKAcWZmCQ1IKUEiQ1JLWIk4qPbQQZLdgeGmwPF4nMkew5nuj6Jmfzh5iu3+f8WgLim58FWGStDF3pbnpSPfSkesiYaUwJVs0fnkWE5xUplWbxqkUir4L2Azy/i2LQgQasxDjJlsexJLSFabrDFiwZkTECWowShhlgGD6mGSDlpVghXBq0MihP7mJh+FpKo1cSedmVhURIIn+ORPspkm2nSbafxspMXFKs0u5Jj71HYgvww9szjLcl8aIMYdWj0x1nNOznm26ay+aP0OXN8C7za7zL/NolzcWVFmXTomTZzFtJRjJZxnNpsDWD8kl+XD6O1nWdTklUI4qF0HGiJl5H4xg+juHhmB62DJYR11C3/m04+X6OmHDNgTrXfeGu4z8q0umbv99D+IHEOgH4PMSWlEMpe5qWajvt8zuhbT/Z0kP4B15KuCNHaxg/Fb50VZrtx6p0zWd548Ff4mjnd4Hv8vrP9DNvGnRPHaZ/aoxyIsmfveJlVIeKfPPoafZ98P9xhczSXzGwjSR+VOWp3/oMX0j2gYCdRcXH3v9t/uHWDMVem+65kBc8tcDDvQ9yKnsPr3EVV9WkskrDaGEL+46+mtbCNQwnJb93heRozkGKFxFxG0VZJFI+JpCVNkZgM+IqhvJ/jtKnAIuWxE9y9gWXo1okg2ceomfiO7TokPnd72bY3IQ5uYvCOcGJmQQ3zea40o+37jEr4supgCCyYtmgE+EoyGlBEh8vc5r5loNIexppT2EJj87KAF2lDXSWNtBV3kCL20n/wnb6j2xnwRplMvENtP8o+bKipaKZy/Xzj69/D3Zg8ZHf/m1aK/MIq4zMTWNkh9C5LPP5VqZyWSaTSSYMgwppII3SguNRB0+EfVRqnKeMPYa56T6ios2W4jZeGNxK0UlgOw4BJqVQMO+GzFZC5qoREGJKn5xbos2dp7VaoLVaIO8vkAurZLwSiaAav/3XApxoUxNs1PhbNMEGjcov7i+tJJXJnRSHr2Vh5OolXCZEiJMbJdEyRKLlLMn8WezWYaQZLJHByiIYkwJzUmBOgDlpYWa2IAd3InKdaDNEGz5aRKSyBbac+QQAc3tvw973EgahweWJiZyYC1XQt+OPn6btwH3YhRmU7aAsh6ieOwmiRIowkSJIpIicBEEiSZBIok1J6LsUZyYpTo3jluZorcwifYUwNE7aIdWSw3RsqBnpoOscqbrepERrRRSFRJEiWsX5cmycsrqhxbONdaJvHeuAjva93+8h/EBinQB8HmJzcC1zhkdSQO/8TgCUM01y9DjBtwdpVxlA8ES/xT2bbW445nL7wUFuPTMYl0XR7ecYPHcPACO7b6OaSPKX2xP8biHNzdMKo2Y8OZ7Yxbny4zw8f4i7El0goNOVfHuLw8leGyPSvPasz8g1Fht6PN7sFLAIiZB8k5dyoPJD/O+HbNIyyTnT5T03tDPrNOvT2dCkz1UChFWgpfS/sfQQSiQpdv4yU4ldHAeoAF3vilMsG0WUFYKITCLkTQsBg35shfpgvsSIcLm50kJbZNCiBBnlYXnHOdbzME9cMURnIs92J0+rs4F84gpanVbaEm20JuK8LdlGoppl9MEqx+4boiUU7HSvptXZSGu/RVvk89ubLyNI7OQVT95HqxvhWxbTHR1Md3Yw3dHBbFsbkbn0p6Q1nPVzPBYNUpCxdUA+KPGKyYc4cOU3GTZCNo5LXnWn5ER+jCOtGzmeb8czLFq9BTYXZ9hcGGN3cYzt8+foL01h6vNxAmuWy46DkcthdLRjRX3Y3gZsvQ2RyjNSXuDUUY+xYxkCd1GsazhFsgOPkh18hGT7KaRxYd8vKgcqpwm21YkgDzhcS4swA8X2x+eRkWKm1WJ/6yEYOry8uZXYBYtWFXXFu/LKcnXXGwtLTzudcVoKFz8q4FeWn78wVOgQ+Ul0lKKlo4NUOo+UGU7vXyBwDQY3ZknOT+A9eQQK5ThqmJYkdl5G5sZbcTZtRgijlszY0nyJ8UA9r1HZDSv0lYYPGl1nQzZ9bq6/tNqiOO9Civur4WLqPhNcqN8L1X2G5daisJtZrxdtnbtaKf0M1/9S+3i2cKnWxRfC0zOQqSOV2nIJ41nHxWKdAHweYsC+krPqXi53JFW3nVa3k7nEFGbvv5E5834MBApF2+gRprdcxoO7kpwctLnl4Bl2nk1hKYdUeZz2ucNoBG25W7l5xOeBfpvfujrNW+9dYPNk/JBXcgfwOOfUDEWpMbRmsmOKe67aBYAUiqNXfIe38lHyzANwJLqSz0XvxPUG+OuHy6SlYM6b4KPWF9lT6SSsCuRkip7CALnKBqIoiRbEMUidAt/t+RMKxhQak0GxhetHv0xF3MtRvZMTie0Ukm2otAW2hKSJTkL3XMhbDnm0VMG1BJ+5KcPJ3jhKxJCn6HCr9ATTeJNTZCoRr+rZyOtVnv7CPIPhDDlVUyKuPzjreehD8RxbA5fbWleG/KjKHL9zpof/PKo4be7mnh97JZPRSjFpEo8BMc2AmGI8TPNPwQs4rAdAQhsL/Bxf4S3Gt/nQ1TbDbTaZSPPrMxEdG45w+8IRGNZwSMeEzFq+xITGSkVYqQiznicijITCTERIS9MczCDCZnJkB8eGr+RUdAsl3QnEY0+IIpsTj7A1+Sid6ZNoKQknJUwbBGEBpSOkbMU0t6KCTsKwgyjoJAo7CMN2vPQUXu4MbvYMbm6IIL3o61EGEulpZFWz98wCSVdRNSTHZA7nKbl4j5dgOAJpCwwHLKdm8asX06rQoJVGRxEqitCRAlV7vGhilzeGiW3YmEgMBUakkVrE7QKixn0UteeSBuLIGXFuRgJLSUwlMSMJCoqzLpE/D6JAts0h9BXth6p4ZzXeeDw0CzAcg/xlJq2Xm1jmEDxyFh5d9vA7L4Eh6mxG4gvatF8bIQRpKtOUL9/fq7XZWMTlZZrKNg7XIl70sjms1swa49Nq5VzWrCtrFj/NBPP5xrUaan00+lr++UJjX62fVeouWfvVypyvPVidGH2WCDux4uAS2MvN5Zbtm8aLBxfeD40+Ra3J8/TfvE5CwDU/AddsvcjxruNisU4APg9x+eVtLJS+SMsTvchzW+mb38lczxR2coy96iTIqyiKkHec+BsePXUD99z6JibTST57w1YSl32Ly049wS99IRZpTXdcwQHRzovuLzF9a4ZjfTafvC3L2+9dYGAyxMlvIHCznE7F7ohVXnL3DbtBCPJ6lveIv2YfjwEwE+a50/1R7si8lJ1lzd88UqElFMx6Yxyau4+3cCtDd+cohktZL9Iq0tF+hI26g88kv0vBiC1ADR3xC8e2cWfYzh16CwEmoLCZ5mpxjNsTB9ianmSyfDOV8esRWlJKCL61J8lCUpLwI1zboOpIhp00w6ShI9ZrfGDZmmYDl363SJ9bpMdboMNfoN+d5I2zHyGnlnKWtIaKymMJl6QsMkARItgenuYsA5wSA8yQJ4HHIGNsYJR25hhTbfxu8A6+qmKnihkq/LR5B+82vkJGuHzNSnFuOsVPfjfiJSdCzIU1fIQIjZ0JcfIhiXyAkw9wWkKsVIRY21gZXyUZDXYz5u9h1L+MyWArCqvxvSUqbHG+w/bEg/RY02haiXQrYfU2VKWNSLcS6fY40QZNdZthApaXpm0+xBIutiwhzFlMMY6pVjqu0BrErGT3iQpewcKdjZMKl05GGIp0j0e23yXT52Emnjvdx6eDPKANKE86zDyWoHguifIX55Dq8shvrpAddJGmjvVHZ75fo13HOn5wMNp3JX38xPd7GD9wWCcAn4cYP/3HpNOzzO/7vwzM/XcG5nfyVM99dPgGP//4Y3DNVUxog+Htfey4+ymS84f52ktewUzrbbjZ2yGxld7x3wBAbnkxwnSRYYIfvr/EJ2/NcqrX4qO3pbjiyBfxxBk22XnOVGLCye9vAeAm/W1+Qv8NGeERaPi8fwNfcH6BKJvAiTR/9miBltBkxhvhW2OfQqZuZaZaf0NTJFrPku55it7kIfZOVkh6LdyZirij7SwAYWUDqbE3895gkVi8DMGLibiaKmHYy/TMRobGcsTOd2Nk3IAfOTRGW3KBbtPAoIuy3cp40mDakUw5gilHNI7Hk4J5W7JgJThiJTiSjSOjWCrgEwd+lZyaZ9Tu5F17f4+hRB9aSaxwhoRXIu9Kriuc5ZaFA1znPUy3GmcLQ2xhCPj/2TvvADmKK/9/qsPksDlLWuUsoYRAgEUG24ABA8YBnHP2OeFwDmfsn3322eeEczY2YIyNyRkECCQkoZy1Wm3OOzt5prvr90fPzM7uzgZJYMvcfFet7umuqvcqdPfr96reg4hQ2eP0cI/DybOpV/N46PWkpQcwqXftYRo97Bqaxi/aLmV++2Gm9fbxqZwZV8US0F1l0V8GA6WS/lIYKJEMloKhCUTOX6C7oAVFWDqe6Bx8kfn4wwvwxGYgRq2eNrUhhKuPoDPMNEWjyjgNRV5IT3oKIdSkBekhSHQj4+0Q70DG2iHWAclejDEqujKy1kh/Q5zy+battXeXj2iXcwT/emmalBSYlsBKKyhxBcVQiLS5ibS5kUiSHkk8KIkELFJuMFWQQmZ9d9uau4xCwcI+lhkFoxSj9pmFpdnNHqWZMrIGtBFm0+G6CQn+QUF5l0Jpt4KeHk6YdEq66y26ay3iHgXwIUO+EV010WrL7HWZnzarIEGO0IJmfQ+OgBjJazburpUpXzIcTGVYp5KJ0UteOzA8xbMg3yLLQzYs2tSQDYYn8hVGmbqMpyfLJykyZYzRm4mR7SYz52Teyay2FyZQNI7iK0djFEErW/+8cZXNq+TRyxY2kS5sdLsejxF89LnjMaoWLm/4wVJY4y5z90u2abO9MTq5HNOIhXnNUcwUOF6dhBzu90CvQR1FvNQoCoCnIOZ3BxnEIunup3TVb6l75q0IqdDlMEn7bDNlLxZ/a76CD6/8GfWbfNzw8OM8d+YGdta8k9dsfA7VStNdNo13vHkVTuswvvB+ykIllIca6AmWE/ZobFt0JRLoLmljyHYVyMrYINd3f5+aqhdAQG9qGv+jfYRmlz0Ho7b3KF/Zc4Dy9JkkrShPdNyOIU2c+iJc3hZKFz+Mt2YnoGIefQvu3tfTnUzQTy9fr/5vAFIDp5PsvJo49tT79VLjYlOnPK3QZUj2mmPDaAUUWOhSqNRdqGKa/dbKrtBNwexwipgRxpQGPkdpxuRsYQlJWLPodAk63AqdboV+XXDlwPc5O7yNmOLmI/NuZpd3HmbWl4vTB15oBXbVLeTXXAJSMjfWzKsGt3D2wFbWDb5I0IxweiLM6Ykwb+N+Ip4n2OJbxCbPYnbqc+lIrURz9nPI7aKnthZ/LEpKTZPw+ImV+gnOqsShCQIyhUualApBqaDgfB4pQSZ0rCE3cshjb2E3WCMFOd1hEHBaVCoK9dKJV5QhRLkdaSXPwp1SDRKONCktTUJPEZadxJQQCS2JCFSQ1sGUSdRUCi1hoCfSaIkgWsKLHm9ES5uoKQvVkGhpCzUtUUwLYVpUlh6kvGE7AN2t8+gLz0dxgWKNlGJzkcdcIP2AEUfGB7ESg4h0DFdM4IpBaYcKqgPhKkE4AwiHF6FM8ug6kdUTo8yy0jKQsT6saC+YyeFLioZwBRGuUjwOLzPjgplHxjAwlgdp2Y51Ryw+yb5dbVFH5B2PMdnmeMx7pU9qCh2mJ3PHeeXl8zummAK8jSx5ZMoxZtNswvFMzeNhKvX6Z2Oc9pos7URm9hNd4VNQmp1AjCw4ngoWPDUz7mh64/Ej8yIVS4kdPYfC42SSMRKuqhj3WhEnjqIAeApCX/1elv3+j2w+rYxkzVZmzJlFVWQ6Xf6j7JgrmQ5EtRihVJDn3aezpvYA4Y4UF2yI8LaLP8G0HfaqzkfXXkDUoRJlHv2ueRwbNSneygg8YaMERIgaOvnAjO/hcMawLJWHk1fzR/c1mEKjtt/gsp0trO5rZpF7DSiwe+gYhkyh6fVUrvsT5Q1PY0mFB4+dw/1djZjuPXgq/4ahDYDlBjWBEWsk2fk6dNIslSnWJDwEkjp9QF9e0FVVgJl5R55W5mCGW0UaJpZpYZn2i1RIUISKlJKH23/PYKqL5WXnssCxNvOpamvDXCZUJmFpyC7br/6JoP4IUipEE5/luy/UclQc4ZArhuIsA0cJPS6VsC6IqRBTBTFNEFPr2eps4LH61xGdbjE7dZA1kW2sDe9gdWg3QTPC+tAW1oe2ABBTnDwfXMaG+lVsKFnFLt8c5Dg2XF/aojJhUZm0qEhKgilwJSVqwoK4vXmiFv64ldM4ALgEVGiCSk2hQhd4lDyz7QTPeoep4YhntItA/kIdugrlyM+c2QqEu/Wq91Cq/wWAIeNaUhU34q84/hedFevH6NqB0bkDs2cfmClktBsZtQMmC08FaulM1NJGlJJG1OA0hD7WX+HxQkqJNdhMqukJzNbNYGUmZGpu9PpVaPWrUSvmI5R/QoiPIoooAoCS2rHzs4s4eRQFwFMQsmoRLSUzqTmg07mgm5Kld9G4/VV0+Y+ytayXywZhRvVhaJvDoy1nc+Y5G3Hc7yY15CD2x0o88S5Suo+nZj/Ix/ancJzzRnZYCpaEcodGua7hVRTu6R1kdySB6I8ggTWztuFwxuhLV/Jd/T9o8szFnU5zyc4OFh9yosggQl+OS9FIWJLDoScBEI6V9G6cTZ96PYaQNEh4jxTA6bQqkkdm3YVZvhHL8GK1vpGz4k5WJbUR4cP6fAr9FTrXLqxh/9PtxMNp3H6dV793KbVzSsZtq2Qkyv5nnmbwV11I4FBoG0fCO1EQ1M1ZyKJ151E9bTYyZSKTFsrRu3Dv+SMA8VmfI+o9lweObKAz1gcS3OlWzvAt4WKzjkhbDHf2uaMKtDIXSsDBjmSKm9r76UuWMRg9i53mq9jm9hB0tFLj2Ms0bQ+zlB0ErEHOG9jMeQObARhSvGzzLuIF3xI2B5aw3T+PiNNDWtOI6AoRXaGpgBu+fAhLEkgYBBNJShNxSpNxShNJShMJyhIpgukUDgEiF9dY5OL/KtjHCkrmnCSdDmFaSYQQ6HopQmRjfGTWoMqs2ScbFsoWkrLaq+GPeMFs4yka0ncAsF+7mL3u9SBa7Kt5iiwjlSSdTGKmU8OKMLB50zU0VUf166gNs1CUuWAZmKFurP52zKFeZCKSyREDuQcG98CgQLh8KL5SFG8JwhNEaA6EqoOm2/tCwreUWPEQ5lAv1lAvVqQPmUogAhIWzUN4StBqZqOWT0OoWafjneN3kJRjNTsjbJVyfCWLyJPZs2WMUgCOiwkUgDm6UylnMr4mTXucwn6h9ipA/5RDgSkZw9eOU9tZ4HCYCJP02ThMjG7X42rDiSqXuT5ZFeWow3x2TkDzOXvaXMYs6i/ipFEUAE9B7Nv/eXodg1T9vhLf+1YTqX6BtbO28fwQbKnqIhlKsWrlpZxu3cemjnn88cAb+OIb/86u25OU7bZvrs6qpfT5NvN01z1ccPMW3nbpa5m79mwUJY2QAiEV3liu8fzQvXy6byFJnCwv30X7lkq+tPS/iQk/r+t+lA/sfZCdfe8gJO25c3NdtuajKTWAZYUAB4o+E1CQpjNn1jORbHAZbKvchrt8IwDTj13L6qhAd0Q5hh+n0saHXL/Epx9jxVl3MLtDMvehY2BKyuu9vOb9ywhUTOwB3unz0tV8EIAjgfnscs/hWu8xUk27CO3dwN69G6idM58zr30TjfUC8cAX7YxnfZSuOddw++23E4/H0XWddevWsW7dOpxOJ0/0D/HmbYe5ttPk0y0W1mASoyfOYCjBr1NRwkaUq5ofZXGylVBJkCG9igHHNAYTizmcPpOn017KtVYaHDtocOyg3rGbAFHWhzezPrwZOiBtuWhPL+RQejU7lLW0uqsJuxXCboW4QxBzSqIui5gLok6ViMuJpSiEPDohj84xfGMbREo8qSTeZBxvKo4vEceXjFMaC1MWHcKXiI//aDci412ZFGvYzgoeA+BpVvOIsQiMw+NnyNl/x0HWvUsWOlDts7dJYQED9ptnnNBtY+ADfCXYSz1GIwnxQ1MopIgiing54HPVsPBfzcQrEEUB8BREYFcV1rc1SIWo3vkWkv5mZgZ6CA4FCKlptnj2cllwKf/9puu59H+f43BoJvc1z+Ci12yk4jnbd1p3STUCaK6J0XU4ypZ7/86We/9uExCSwLQIlcv6aXZOJ2mehs8ZofP5StzNcda4XuAdDXG8fct4umuFrRnz66xZVoF/dy/SKTgsfgg4KZ3bS9uKT/PwYIC11WdzTu2rKNPn8qm/7KRThvHW3gnAsvLV7OA3GN4a7r7ybixDJf3jsykZ2s8vUldw3lMRVmdWTFYuKuXK9yzF4Zp8eJpGmgPPPQ3Aigsu4r4XTX7mnMXfv/F+jm14kO0PP0DHof3c9Y3/5K3z91GupJELLmNLyWXc9/vfY1kWdXV1XH/99QQCw3F3/9zRj6kI3GtqqH1DHVv+vpe+LfuJWUO8Sh9kgSNEakkV26jK42YQGKS0tBTpVniq9whaysdc53spS1Zh9e+lQd/LLNdearQ9uJQIM5zbmOHcxgX8nJAxk/7BNUT6VqKIeoTqRtS5oMYJXgeWX6PPqdBpmHSkLToMi24LujJbtwUpIYg5XcScLnooHdNeHiTTMKlKHKMqvJPpyTYWlq3F556ZS5Ov6ZNSDmsRs4Hm877g3fEOZh/+NZV9mwBobriSxIy3cBYQ6e+nt7WZ/vZWjFR2wqbA5fNRWtdAWW0dTq8vR280/fF+F4JMJjH7+zH7+zH6+7HCYWQqhUynkemJJUCha2iVlWhVVeiVlajl5aAWTbyFkB0PrwT8O9RlIv4mui/+Hep2PKirKy4BeTlQFABPQehHDTzeNIOzVZzOEHXbP8jRtf/Fcl+cpyI6D06/jSUtBymtOI9Pr2/ha4/N4K5Dr+XCXi+u5ENYQiPk8TGrzcvhhijNFwVZvmsWyXgn3ult+Bs70D32pPbte2wP66GKSuLh2bibd/G6rh56e6/gUJe9inPhulrWXTOH0K93kwaOBO8nvs0eOl0z3CxZ9nE+OuMCAo4Af93ayjtv207SVPA23opQkywuX8yBwV0AfHzlx3Frbtj9Z2ToAHuNV2PG3szqhF33Zxe42DbT5GLLmjRiK0DTti0kohG8pWW87ZoL+Ufvc+xoDfHd5/r4wY3vZs0V17D57juxnv855UovCVPl9/traNt3HwBLly7liiuuQNeH584Npg3u7xmkPDzIsqO93PTXu9Dj/aiOkQ9ch9SodQWZvnIhVXXVVFZWUl5eTku0hbfc9xbCzjCXz7qcD53xeh547hh/vjfJOudCFlcG6W0PI+VhNHUzXuUF/OIAQa2JoNYE3A5AQgsQjtcw1FZNqKuSsFZOWCvDUMsI4MQvJXPzXgKWlERVjZCqE1IdDGk6Ic3BoO6ky+Gm1+EiJhT2o7HfNQsyC3vcpsG0WJSGZIRpiSj1iQhua+I5N7qVYEX4UZZEnkLFxEJhR/BitsqziW5/kehAP+lkplOFiur14y0tw1dahsNtf6REEkkiCdv8LKXEsqwRW1YAnQpywml5OZSX537biy4kWBbSNDMm2LzJ7kKgulwoqmqboBUFZWgoR380H/nC8GiheDwhWQgxpm7ZLcfjePU5jpf4VPgZ0S4wom7Z4xGm/gkw+vpoevnlFerLieqW7Yv8/Xh0R9c3v9+y+0LpR9d5onRZHka360RtNHoMFNqPV4fR9R29ja7fROMyv+xC5eTXY0ofW+P0++h2KTTGJmurQvUQQtDQ0DApX0UcP4oC4CmIyjN0qiK97KkPkoh0EuhaS/zARSxtfIinIjq7lAFaHffQsecepqvwv+e6eKb9dHa/GKcByWDJHGbOEKw8VMpAQxif2E35hUk0Yz9S2i92PS2p6Yizo2M5ALLKzTWXvIvHtn+MjoM70NxBgtVnce5bFtC4tIKWXQcRLWEskWbfnj1YKRWfG979zvtQFJW0afGpO7Zzxxbb4XJp1T0Y7lb8Dj+17lp29+1meeVyXj3z1ZBO0HPfr3mq/2Y607Zi31Mao3PWUzw683pQFS76yxbuuXIF1YGJJ/bvffoJABasOwdd0/j6VUu54odP84/t7Vy7qoFXzavk3NdfhWz7KiThCfN02lR7ot3SOTO56qqrUBR7blh/fz9NTU08unsf17c0406n2A+4AAQ4Y3HqOjuoGEoxfdEVlFgNiKRAPi5Jaj30ebrZr4ZoSrfwduv1lFFC6dEgTzzwF5zA9WqakBnjru4YQ3qMmEgBVcBr8HAec2liPoeZRgd+oriMIVzGEJWxA2PqHcdJH6Uco46jNHCMehIMt1Ugs+U/Nk0hGPT46fMG6PMF6QqU0uMrJa5qHPAGOeAN5tKWRMNUhQeoHuqnemiAsugQChKBxWns4QKewYf9gXCIGTzIenpC5RBqswvQnfaWpQ2k4kkG4h0T9mcRRRRRxGhMnz79X83CKxJFAfAUhNTdCGBRW4iDwVZgLcHOszg46MNT8ygxkhxoXs7S6jYMVy9uPcGFM56CGdCzWhA7LKg7t52AkuAsI6OFSe9BAgGrimkHDlPZk+RA9evoNYNIBa6rLmP/bf1orjMxEhsx4huYu2oGjUvP5o4Dd1Bydz8LWURz8kUi4TRuI8XrLnsPiqISTRq8/49b2XCgm1IRZ5b/eQ6U2fP+lnYsJbA/wCXaJcwT83jkoceJbumm7dinAAVVF8w6M0Dd0ioON/2Na9v/zi5tBYo0+ciPDvLGFfWUeYa1c/lflelkkt1NzViV9Qy6gzz00EMA3Dg9xK62IX5zewfhVQ0sa/op05IhupUaNjlOBylRoiH2btnM0aZmHCWlhMNhUjkzpb021pQQlw5c8TiNfe040ilMn4+eNWtod0WJD20lFomRtNJIIYfd0mTQRhhoGc+fMgAulwufz4fX6yXtXUWT10un241DJvEnO/EkOvDE2nDH2nDGOnHEOtBTg3bkETppoJN1bEUiSJTOI1a5gnjlacQrlmF57JW92S//cHgvR5p+gJQmFeUXU1t7JYaUHDFhT0qyJ22xJy1pNyWDXj+DXj8HauwHrweLd3Q8wDuafkNd2l4m3J/28mhoMYcTVcAgLgZBCMrqG6hfsJiqWXPRHY4cDyPGeAGNg6qqY7Q+hbQoozG6rKlomkZrKvK1jpZljauBGk97Mp4WKftbUZQx21S0c8eDQhq8Qhq9fI1RPt3sh1AhLVQ+jUJ9UojuaK1ZNn1+vcarYyFNVz69QhoyYNy+G0+DOJ7GbDSPo/nJ1wgXaovRtAr1aaGxMpXpF1MZm+ONg9H5J9ISF+qTido/f5vKWBqvfQrxXV1dXTB/EScHIY/3KVNEDkNDQwSDQUKh0Ij5YyeLgWiKv37jRt6p3U/EOpfB1CeJeI/wcLqXA6X7eaJsI4s7z+FzPW8g6E0S9x9kT8ODBEt3FxA2FJqTgj0JBX1LObWHAiwq6WLF+vV8K/BObtvQTMCt8/5uHcuUuHw6tTP2s/fpvwHgPW8ph1xb+Ni+L2JJk/taf0462cdZrYMseeQR9rV28oO7N0K4hyolgqnGeLT+URJagplDM1nZt9JmQ4IjWYFvaDaqZWuGEq5uov4jWGpqNNMvGRro4F38GYBf8gZaXkZ3ooYwEAqUuoKUuUtRHRpCU9jeMUR/Ik1duZ/zl8+mvLyc8vJyysrKcLsnXuRSEMkIDB6D7j1wdAMcfRr6CixSKG2EaWth2lqidXN44fBHMYww1VWXsXjxdxHjuKTpSxlsC8fY3Bfi2fYOGjo38NFjv2dBrAmAfi3A96e/hbsC51EbHmRmLMTcVJTVtdUsf9V5BKtqjr9ORRRRRBH/RLxc7+9/JxQ1gKcg+qIpbjbezCyth7Ow3Wi4UxWUOXs4L7KCJ8o2crR0BzuOXcV61YXPWM76mul0fvZTDK1103nONOaeNo/KinMpKzuLX2z5GQ/u/wPBhgiXHw6yfaCO7X87yKONu0D4OaMPLFPSuLSc825YiCdwDmX1fp657fdEH9/JG+dfBkBLdB9JM8zijiF2Xnwx9373u5imST2AarsKeb7yBRJagmq1mjcufiM/PPxDPGaQtw1+lsGuzGR8NUwqsBe12kmZFkDTtNxmWSF6owfYJZZhKCoMplETFmfOLqeh1JNrI0VROLJ1E+HeHurmLqBu3oIRX5nH+mM8tKudG9XbQMA2Fo0R/oQQKKaBTMQR6RTHnPX0aiUAVEUHWN+1Gz0VRygqvnPOxrV0KQ6HA0M12D64nae6nqI92U5KSaE6VW5cciM3LroRn2N4per9Ozu4449bcesqT77jXKomMWlPCU4fVC+yt6XX2OeGOqD5GVsYbNlkC4cDR+1tx214gZVelXB9I9Xz3lLQ2TRAKhGnd9NTeJ/7Cxe0beJd7m4qXbapN4qLe+uv5idzb2SPtAXXrmAVL2by6kKw8FiI5QNplvs9LPO7WeB14VAmjzpSRBFFFFHEPxdFAfAUxI59R1iltfJj/Z2sL/s1NIOaDjCnsofKjpW4TCdRZ4gD7hbmlc1j2esXM3jrD1Diguj+1WxWr2O/L8xnF18GoVbe+vyt3Okz6HJrpK6bwfxDdeze2Ucv9ly4WYZkxUVBzrx6WU6ICq0s4eDOfpbtn0FlcjkI2De0Gb/m45kLTkMqCpgmcanRZ3kpF1H6ao/S5enCqTr50Wt+xH9t/C+m9y3nrNarGDQMFE2wsnEvq8L/ibbyenjdDwvW/8DBm2k9doAHrCupSgzi3d3B4/vbeN+ZNVwwywvpGNHBfg7s2YpLwlXnlVFCNxhpsAywDHqBJZ4jzEq1k8DJI5wDSGa4oizwhZnmilHjjKNIg01t8N7Q9YTw443Feffeu7m4abPtB69Mxbw8SNhzB/2H/8zflSRPiCRGRn7y64LrTCfvjOqUbbodNt2R83RvCUFDe4TbHJL6EjdVd/6AYW/7+Xtr1DnGeu8XIpMuk1ZajOuMS9WhegmkY8hUBCvei2Ka+KMm/gOH4cCFdhrVCYqGJVRM0yKdNlCNGPMU0yabWUQsEVieKjylDVynHOa6w19iQPGwzTmNra7pbHVOZ5tzGgOqhx3hODvCcX6fCYKrS4N5qW4WpzpYkmq398k2gla8gPd/Ubje+RjddiMwur1yTvDy8o5GgXMT9Ut+3+SOC0GMTVuQl9F1Eba/QkW19yIT865QJJBx20KMoiunmG8U7yPqN6oOBdtFGaf/xtmPaZvR5Wd/jr5fCtAuiAnqVrBe2WzW8JaLYiFG9sd4YyD/3pTWqILzxnM2Xf49PS7fo9prDO3R7Zo3ZvKfF2P4Ia+M48EE9S+UZsJ+HvU8k3K4nXObgNPeZG9FvKR4RQuAbW1tfOYzn+H+++8nHo8zb948fvnLX7Jq1SrAnmPwla98hZ/97GcMDAywdu1afvSjH7F48eJ/Kd8vPPQgi7UoZk8b8eu+jfLro1hWGdN76zClzsLobLYF9tBUtoMdzXUsr/cTefxhAPrKF9GvSm7d6MQl/sbHmr6EZ+AoN2nT+ZgP/hp+jvWrfkNbSxeINJWGiWPgVjbeHqLr8Omcff2N7Fdb+fozn+bDZ0apVc5HiSp0xZvpKfeQCE4DoF2WsjlVhxBwoX6AigYnj7i2gQWfWv0puoa6Kd+4jHm9qwGom1vCuW+YSekf3goiDbPPh+aNEGqBwWbbpBlqg2gPc6M9fC/SiSJ/MdwoDmBLZgP29dch5Wxq3UOUbB8pSO5gPo9xFu/Fdk3yKOuopYsreJhAIopMQL+isEvX+I1yOvfp8xDVD3FhUwvverqNYMx+AD+6XPCbC8CpmlQaASrSpZQZQa4z/MxJelmQ9FBp+BHSSRpBF0o28inZB15lxo0yPdDZA4yIgmrDzmNvckSQWxj54FQycTjzaZgIDBAWIhfvzcrQyAqJFoIITmUPTmUXTuUAwkyBmc6Uam865HzzmbKElDWbtDWbpLUEmfTAwMhxuiSz3cgQkt20uR3sCXjZ6/eyO+hhT8DLkK6x21nHbmcdt7Mql7cunmThUJT54RgLwjEWDEWpTqZGvSYmeEkXhBxnPxHyaYzzkjquMGCF8owSzibkYao0pkI/T6gsWObxtNNUMFlbjocpCuYnVd7x5JnKuJusjuP1wVTL/1eiEM9TyTPeB0UWgonvs/xyRsKrJfGedhzsFDElvGIFwIGBAc466yzOO+887r//fqqqqjh8+DAlJSW5NN/61rf4n//5H37zm98wb948vva1r3HRRRexf/9+/P5JQjK8jFjddYwd9eW4PBaHr3wzZZd+DvQyrJS9YnZhtJFtgT0cLd3G2mOX88xvtlDb0YsUCgMl86mr7YVQkO89qxPzreGmoOSCN9/LeVv+m8HnVXY+20ezx/4aXLC0nMVz1rL7iUc4smUTR7Zuoq0+xrvPi1OqCGqNdQDsdXSS8JbjGorwgGslR60g1UqYC/SDLJg9gyerniTVleKM2jO4tOJyfvLf/2BeaDVSSM65qpFlc9oQz38KEiH7q+4vbx+3/vmPiLjqYEj1E1HdRFU3McWFKdwcancDFgsXz4TFZ4DuIi017j8CWzstXs3juElyVAlwb70DvyvFo4NnYZkKKKCj4pQOnJbOW6NJ1u8vpS5SB/O9JL0euqp8rNaCvLqpFKcc3yHNVHwM/1MwhXdeylxJ2ARI4hAHUMUQQkRRiKGIKIIEaTmDpLUUUx7/pOuqmL2d25llKU6nS7Dfr3IgoHDAr7A/oNLhVmh3O2l3O3m0uiyXvyRlMX/IYn7YtPdDJtNjtkhcRBFF/N9FVKjM/Fcz8QrEK1YA/OY3v8m0adP49a9/nTvX2NiYO5ZS8r3vfY/Pf/7zXH311QD89re/pbq6mltvvZX3vve9/2yWc3i8ah6l6R7SDgc9VVX4Wg7hmDUNmYnb+qZoG7dZgkFPPwPuTvZur0VUr8Gb6sTUXLz5nKWkXryFP7S+lp9FriI6+wq+6qvj0ta303RsAInkoDMNUuHNa+dwyYKzWHPF1Tx66y849sJmzl7cR8BtEd31OhxJPwlS9FRC/aYj/M+MK4hbbmqUIS7QD7Ji6SKcy51senYTDsXBe6o/wp9ufhZfvJKEFuHVjXewaOO98GyeXzlpgVAh2AAl06Fkhr0PNoCvCrwV4K2kI/wsew7cRFr4GZxzBz9uSnLASFMa6uNdz30PKRTmvuu7tGsJduzcStuTRwlE3ZwvE6zRdoEAR+ITfO7g6skbvXb40AH4LUas6k2YMWJGiLgRIWHFSJhRDCWFqyJA6fQGGhYtIVBZBYodHu1Pm4/xt23t1AVd/Pc1y1AVhRGxuPIFtkzINluxJzJWk3wzXHafuaaI3DlpSrAk0srsTQkS+juOsOu5HxLtUkn2e3OrKLNQNZ3KxpnUzF5Jzey5JHU3zb0xokmDpGGSTFskDIukYWKYEsOSGKaFYUlMyxpjfZM2eUxpYVpgmhY2axLLNDD7JNN7JQ2WJKEKBrxqbuv3qgx5FAYdCs9XKDxfMfxYUk1JMGIQCNtbcCiNZ8iwy81ayzl5nUq+3iFf/5Ff7iRGuoL0s2VMlDf/3GTpJsN4OpZCdaNAuuOhk388uv0m0wUVKmeicydTzlT7Lj/tZLrR8dJNNBanOgZOBoXqfDzljh6vU+3Dqep8j7fNsljvm8Y7p1B+EceHV6wAePfdd3PJJZdw7bXX8uSTT1JfX88HPvAB3v3udwPQ1NREZ2cnF198cS6P0+lk/fr1PPvss/9SAbC/tJHuQZWFdPOnta/hgi4n5+Rdr6KTsxIxnvK46dX+ShkfZN+8N1HdY8ecLX/243w1vhl3Y5KfH72a215UCe58Am+/fWs/PO0hUuFXIRQ4d7btKqS0tp4NK7qobzyCy6OxY/tFrO09C4D9Vgvx/jS3NF5JSnNSISKcprZRNns5/sVL+crmtwKwbmg1m27pAhS6Xb30V9zLgVAf+zkDy1WKlQjb0z1WvhWrdgWmUG3XChJMS2JFJESywkQSS66krfMdxOPH8HTcyZWVl7GtvYfw/maaqi9HOL184TuPUWL4UHEhWUArktnaLSjC4Ii5hN9aSxDYrnCkCqaQRA0LxTTxJqNoZhohTdJOncOlZUifi2WlPoSmgENBOFVwaliWyWCXSrjPIjqQJBoysUyge8hecPHCHtyBIKV1Dbgq6/jrrj5MoKbBxw8Pd+fPxrLbAFtQs3/bj8LRQlVWBsy5Xhg9UAQoQpCVByO9PQx0tDDQ0U4iEkEyw06ng+5yEiirxFtRibu0HNUToDOcoq03RtvBgwzE0qNLf3kxOPKnA8ChIJ0K0qkinSo4FFAEQ8BQph6UaxBUEDETETcQMQMxztSmfOTL0GPOC7CjJQ8nFLl2FbnpV7njTDlCZOIl5/Z23lyf5O1FPkFpJ55IaJFIRIHJAtn/pyok5aiIkXmy3yKS4bFnu+sYycd4yI7jLK8T0p4yr6MPxv6UeQdjjLZTIDeC5wJW33yex0xtG5UlV84oTLXeU23rlxOj3fLA1AXG/GcaTD4e7DyFaysK/Mg/N+Aq2gFeDrxiBcAjR45wyy238IlPfILPfe5zbNq0iY985CM4nU5uvPFGOjttO9Vo/0LV1dU0NzcXLDOZTJJMJnO/h4aGXhbeSz2VvNglKVeiVDlj3FW9eIQAGO2Pc2HQFgCPNu7nzCd20le+lM6qtQhMPIPbUKobuekNn8f90G30PrUarykwhWThVdP4wW4fhMHpivCjxw/RF0myt2MHg0ML2Jg4k9+mfJRIndcTBOD/KdW0UJkbLb3SxwPphTywB5z9N+MoHcSRqGLurtcDCrt1g4ecXozIdfwjy3S+fLEJYO8UW+O0zAaQ7Zc6XswuCDaA3Nw3aBQdfF59HIBPGtewNV+Nlx/cQgU83pGkYgbEIjzbPVFMXL+9+cdxTNoJdPblfj6wuwvomqC8lxpB0IMUiAIHcaAFaBlkjAT2L4YASFmIlAXhl96wPvolNfbi2Fd7EUUUcWpg/8BeYMG/mo1XHF6xAqBlWaxevZqvf/3rAKxYsYLdu3dzyy23cOONN+bSFXJQO57Tym984xt85StfefmYzqCtK0qrqtKaWkSNMkSdMgTWsGuRN7vexw19f0KpOMYRn6Ci/TfE3J8m7qlGMZMcvKsa54xq2o/+gS5lNc26xTMug1bNwnzsAGD75kvEfPzgsaz/uFLypYY34EBFsBWDFjJOWKWF00qhK5KAw0TR9zNYai+0uPTQG1ClxhZ/P0/6Oqjz1zI90DCsNWnbipLoR1TMQSmbBQLSVpJIeoihVIih1CBDqSEMKw1IfJabinQJVUYpJaaP/O/BhEgypEWIKDEiapSIGiOmxpFY/EfqATTL4nFlBjtLetDpzeQSmXf6aGODsBdciHzDlcxcHmWwKKiKEKPS5+9H0cqpbsZOeBZirMAhZT7B8fRFGf5HHMuxWUbwm8f3uBjHgCXy2wReWkGpQHuN4ULB0gJYWhmWVo6lBm1VSr5qCBBWAsUKIcwQqhVCMQdBZr9CChmcRvaFzG9TGNnG2bxysjbMr5fMtF1+xUbr8goYK0eMl+NBPt+jfwtstakc258j6jmebmp03pPgb3T95ehzo3+Pvj8nypefP59fa8z9Jke0U6E+l4ztw6ncP4XGSIHy5SgV7XEbbgthAgP2mPYa7xk26llS8Bk6sm2nxusEfZWjMdxOwcDsScot4kTwihUAa2trWbRo0YhzCxcu5M477wSgpsZ2VtvZ2Ult7fAEsO7u7nG9jt9000184hOfyP0eGhpi2rRpLzXr3FRm8ZVmhb26SacVoAtIIHEhsKRkXce9vOCYRt2MEK3uIbbNSvKqvtt4wfMRLNXJb875Mvf6VWK6C5Cg52tU8m48NYTHd5j1ZV2oaY1wVyMuTE5bNJ9LDnghbnJ3RoM22+riNaGHYTAMgEePc885HQyisqDrDOrCcyg9w2IzX6HS4eWe1z9I0GlrEBlsYfD7l7Ir6GDnWZ9gd2QDO3t30p/oByfgBE2qnBmdz+mRpZwRWU5leqQK64Crmed8O9jo38FRZxsKCk7TidN04nKUEvXWcHZ3G6/tscOmfc+5HKGkqVckc1sOsLCrCZdholog62dQd/11OOvqSaQsbt7VSodTQfQn0ZpjzCj1snJ6KZV+F7GUSTRpEksbxJIWkaRBOGEQSRgMJdLEUtkH3glqkDIPXYeq4HaoeHQVt1Ml4NLxuzQCLh2vQ8GKRWhr66SrL0TUVEgoLgxFw4lJwOOkojRARXkJqdizCLONgKeU2TNej9fhwO1QcWoKDk3gUO29Ika+cEabZnJmnOOxN47GBO+flyK/QBAy4EBC4WhSoSmh0JQUdKaz5qKRDqlrdIvpTsl0p2Sawz6u0y0cx2ldGq9t8tswP82kJtIC5seXpP1H0RkRtSJ7rgDNYbPw+GN4RJ3yeLQ/+AozfDIxB7Im8Un5mcKYAfKmVZxY4xbqUyklw1M7Mn/Z6BuZP/vfWJoFx8gU7p+J+ja/3BxvhWiI4X7L8TkB8ssZr1+ydc9vj4LlFhj7hdDgL8YCfjnwihUAzzrrLPbv3z/i3IEDB5gxYwYAM2fOpKamhocffpgVK1YAkEqlePLJJ/nmN79ZsEyn04nT6Sx47aXEEu1hvq/NZmO6nj+6uzhgVtKCxVxU+oTk19NvAEAPVeBy382TSxXOfnHYnNmoVDDbSrFHmlSZkmWhA8xp2cX0SCe7Z03nd3WX2wnNILHQSnZH21mvtlGhDjJr3iLMVD2OeIRBLHa64brYc7zdfQ8LPUdoDpTwUMdcnp6W4phLxZX2csaxK5h+tpcfu74MUVhbu5Y7DtxBe6SdlnALTd076JqRuYH3/WFEXSuMUi4ZWMdrBs6mzAzmzidFihe9+9nk20VbbT9lZS6c3ZuZ+0wNp7nXofhrEAguuugi6las5iP3P8Znej6PAuwOnkN55HW87+l7uPDYC+iZ+Me7yxr5x7JLcaxax8xBH2UpnaG0QXuwmrQi8O7vw4wkOBKBIy1ZTia/RRQBQbdOKJ7GklBf4ubChVW4HRpuXcGMDhHtaiXW0UK0/ShqIozTSuGwkjisFA4rjYqFqmm4gyXoThfpZIJ0PE4qEUdmFnBUZeg5PV7mnH4mC848h2lLlqNqNo9Hj/6Yw0fuQ1HcrD39HjyexqkOuX9rXDrqd9gw2RWJ8+JQjBfDMbaHYxyNp+hMK3SmYVOehV8AlQ6NOqeDOqdObWardupUOXSqHBqVDp0yXbWF5iKKeIVCSknCksRMi7SU9kIr7IVcEjCkJGVJDClJW5K0lJiZa/a8ZrDIzOmWElPaeUzs45Rll5uyhstRhUAToAqR2UBheK6tgj2PNihOIGJSEZPiFSsAfvzjH2fdunV8/etf57rrrmPTpk387Gc/42c/+xlgfzF97GMf4+tf/zpz585l7ty5fP3rX8fj8fCmN/1rHU6mlfk4lXkslD2cobazTGtnyFgHpkpfxvQgpKSsYzpWqaS5WnDvjOnUDsBM53M0Jc/gkrjOGQmNnfVRLjlnKWsazibd3cMvnmoDCaeFmog4Ugx6ajhH7UAV0GyW8NsdHr7BAKCzRenjHPk9jIY2vqkrDKq1DDjdhBf0YGa0JuuOXkWPczu/Sd+Wm2P32LHHeOzYYxPWcX68kdf1n8vZQyvRM8NwyBHlWE0f8UbwzC1nUdl5vDrwNjy6Byklv/rsG+hw12L4SxFCcMUVV7BixQqGhoa4et/9LOAwFoKmFx18ctN/IjIah+0Vs/nT/AvZXjHHNhfu7Ya93UggvbQUq84DcQOjO4EAHKpCOrPSVRGwcnopqxtLCbh1yjwOSr0OyrwOSj32PpYyuOaWjVgyzekzy/jdO07HpaujamyvRLZMk+6jR2jds5OWvbvob20hNjRIKh7HNAwifb0UguZ0MnvVWhaceTaNy1eh6Xkx/yyLltbfcvjIdwCYO+cmPM4GMLOa35fCnDSVrP8kAWm0g+dR8As40+/kTL8LsN3MDKQNdkUS7I8l2R/N7GMJQoZFd8qgO2XwYnh8kpqACl2jyqENC4a6RkBT8KsqPk3gU1V8isCjKnhUBbcicCsKblXByrxck1KSkpCUttbDIQSaktkL+wWatOwtZVkkMkudBfZLUhGgIkhJScQ0iRoWYdMkYlrETYtU3gs2Ke0ysuUlLEky8zst7WN7b7/IxzQzkM6+8KW9tyQ4FQWXInApCi7VrmNAUynRVIKaSolu752ZejkVga4ouITAm2mvgKbg11T8qjK1SDETOkrOthAvzxicTHM5Ec1JxqqtfhvPLFpYyxg1LfrSJn1pg/7MFjeH+zZhWSTlyHGUksNjIGZaxC2LmGmNOI5bx/Oc+OfikzOqWeQrCoEvNV7RsYDvuecebrrpJg4ePMjMmTP5xCc+kVsFDOQcQf/0pz8d4Qh6yZIlUyr/5Yol2PGJL2A6LoH4Af7gTJLwdDM/sZRzqGKXw+R9qSiLxFF+1XELP3BJ7j5ToTo8nSt3fYLLS75Kc2oNO2OvAeDZ0oNsqXsMh/sIUk8QbfoQVqIBV92fqdUOs67nXHTpoEsYHOmoJhRo5DYRRBWCyCNfREa6SKvQXgadpYKu8vnct2aIfm830wYW0ti/iA2z7hxXbhCAzzSpMi0WMpfV4RXMDy2lJDlsntPcrQRKXsDt24cQJmM8w0uTvV0afwkvx/T4EcLkwppNLEnG2Zuq4pmBRq43/k69u5vBJjcdz9vm4+erF3LHvPPZXT5zDF86BrElFZj1XrAk+ov9qD32auEZai8L1TaqZA8lVohyMUSNGqbRHaNUSeAQBk7SODAQmAzE0liWhabYmkD7dZapwwhP/HnnyDsHpC1B3NSIGQ7SpsChGOiKhUMx0RUTRzY6RwG01rrYP9eeI9rYHGN2c+w4R9z/TUigVy+h3VlFh7OSdmclHc5KOpxVdDvK6NbL6HaU0e8o+Vez+oqGw0rhNeN4zVhmH8dtJnFZSdxWEpdp73VpoEsDVZpo0kSzDNxWAr8Rw29G8RtR/GYUp5VGZD6SFSwEoFkGLiuFM7O5rBSaNFCwUKXtOP1fod9NCAeDup8BLUBI9zOk+RjUsnsf3Y5yehz2OOxylNHjKCOpvPxWKEWaqNJCwUKRFoqUqJjolt0HmjRwWEam7ezrSsYBvSIlqjRRsdCkaR9LE4eVxiEN9MxelSYmCpZQMISKKVRMoWChIIUg2ytSCK4pc/H68976ktaxGAv4FS4Avtx4uQZQ1/svJx38NDI5yA79QTZ7KigxgpyeXoFHpHg7USxS/GnDVwglJO//oI6pSi7f/SHmh0s4r/JLdETP5YXodQDsrHmcZxr/jmW6iR78AqAwrfZ7rBtaidt00+/o46naDehpyQeaLucieQkD8YN0bv8elX0GzrSkPziDHYtex3NzDrG14SGcaQ9ze1azq3YD2QnEJWGFNz+bpCIuKU1YlCYkQaUCrfJ0lIrTEb4ZuTpKKw19zyH6H0Qzj6DqEtVpoblNdI+J5jHRXBZCwIDl5UfpN2M4vWCZxKJR3MfiNPT1sWiwmQZfDzPO70OasO+BOu4vW8tdc15Fi78aH1HeqD7OHNFOjeinVvRRL3r5/PyP8efa16BYJlfuuo90l8luq5E2Km0Gp/g20KWBkxRO0rhI4RRpnKRwkcYjkrhJ4SKJW6TwkMRDAq9I2HsSuEUKDRMNEzWzd4kUAaKUiCgBYnhJDEeQyrZfhsH2Gid759lOy2ccizH7aCwz7fz4XmdjHY4cX/6ppJ8KjcwjP5c2m2Z02uF0+eVNjcf8XFPhOy1UevRS+hyluZdwd2YfVr1ENA8RNbNpHmKKi7jqJKG4SKgjX9ZZk7/DSiOFwBAqaaGRVnRMoWYWWqXtKQIyMz1AWrkXoyXsTZMmPiOKLyM0+cwYHjORe7naL9sUumXgspIjBB+HlcKZSee0UuhWGk2aBZcraNLMCF5pNMtEwSKl6CQVBwnFSUJxElNdOcFlUPMT0vyENB9JxUFa0UkpOimhk1AcRFU3Yc1LWPUS1TycSsgucis1hihJhykxhihNh/GYcQxFy/VVVlBRZFbgsYVIgLSiYYjhtIZQkcIWjSyhYKJgKBqhTHsl1BOLDe40k5SnBylLD1GWDuEx47isVKavkzhlZgxlxpqeGRNuM4nbSuAxE7itBG4ze5zEbSbwWnFcZhI9z2XC6Pt23PbLOx79nJo87yQ01t+EOO+zUyprqigKgEUB8KTwcg2gv/z8G5xx+GwAjljv5nHXm5CKRU9sOh3lR5muH0FPbeEdv7HXXH31ravZU/ciDYPz8SVLOVS1kY8MDLKyfT1Ph233mTHPfv532Ty0fQlQ4FrXU3gtN0klRP3gZn62LIRAcOuBbxK0fDyu7+Kw0oOWDCKTPsriM+n0NfH3Jf+LFJJp3U4u2hanJyD5x5kqelpw5YY6GrtTrOpM4KxfjV6/BrW0MVcvaZmYPXtJt72A0fEipIc1VRKIutxE3Z7cFnZ76C0tI1pThqIqGEA6ZpJUdBJOJwmHk5RD4/8lfsB0s5PbSi7hP6Z/HFNVQQikJsCl4lXAo9jzHSxg0IJkZgWnAhkdwT8J4zn7K6KIIooooiBerTv49dmLJk94HCgKgK/gOYD/ztg322Tl/iEcWoA9A410zeylKlXGNJlGjbhRzJUs3+cGnmagZDYrOl7HvpodtJbs57TBxbwnegErl5/GkmWdOB/9KY/1vwtPbD5L98TYqwhm04vXchNTY7RWn8Xi89/Pqn3/j3QqRNDykSaJFfVQETsdYbvoJanEeXD+L5BCUhet48LY+VQtc/OH6t8AaV7ftJqljmlMn7+A4PLhFVtSWoSjLQyEDjIYPkxIVziysIHWc25gwO+n3x+gN1BCX6CElEMf0Q7lkUFeu2MjnnSSkMvLPcvWEXaP9N33sebfMf1oJ716CV9a9CEMfew8kaiEqDnmNCAmdVrwkqMo8BVRRBFFHBdK2g8CL60AWERRADwlMa92Hj1qH/UEOKOjis1Ld0P/OaRcfczrWYtAMPfYgwD0VK5BTZcwp3c1B6o2EdcSXN5yDbRAhzKX8orlXKTdxqPdV9OKAkhWDNUSFH4CnhizBj1079/IYvNCTnMEQYG2pE4kPg0BhB39tJXtYqB8L3FHhEDazxndpxMixmOBJ1k/tIrLBl7FXHMGojxjYpOSmBnGqwXodyhsaJjD9pL57ChRaPaNXhwxErplEDASTBvoZPWBPWiWxZDDyb7yMi4ZfAbPQBy3lcRjxqlLdPGmzvsBOOqq47v7vzk8P0ja5qr8OShqxlSjyZHzWDRpomRMOFlTRL4ZshAmMydKMfbcZP66JjaRZg27MueKbLSZNEt39PXJkKvLqLxTzX88KBTfYgwfo/gRo9onZyTOa+Ncmsnm6xdo66nU82RmiE1U5/yyC9HI7xOYnNdC9ZsKzan0S5afQtfHa38p8vMXMjIzJu94fJzMeJyobvnjabx+LlS/qY6b8fokfxJDfruObq/svLqJ7sn8fszWpRCvE437qTzTxru/RvNf6Dk1Hs+jyylEY8h9GfC6wsSLOGEUBcBTENctvI4tpffBIPjVKr7XspUf+kySaoq5gTupi3SgRY6BgH/MLMNvSVa0X8CByk3s9x1mo3M3p5sLUQ2FZLcfJ2+mc9GThNvXoElJg6GiUwKhEkzAiS3szXJk3ImYMfZWbeFAxQvU6iWsrziX78Zs/4lfq72JuVotzS1HeGvLehxyWGunOkL0p/bxZMsLtATcdJyxlkenrSatjBxmc6PNLA/vY0ainfpkN9MSndQnu6hJ9uKxkhxgJrdzGQYaamyIuv2H+WDdDmb7+wu2lyEVZg81M4M2NAQuy3bkKxHDeyEY1HXaXTpp08QwTaJCIaq6iOkKCUUhqSqkFGHvhSCtCAxFYAowBJhCYAhIIzEAQ0iMzHG+3yuJ7TrBxHajkN1bSMzMSk+JvWg69+A8jnfbBGsgJ0wzlWuFMBUR9mTKP56yC9E4kTXOx9NeU+FhqnQL0X6pcDLiei7vBN8o47XdS0H/eFF4vtnLRCCPkBjn0qhkBY9PhORLmfdE+ZoK7ZfbrnGVDPG5l5nG/0UUBcBTED9r6aanqpy3DqZQfNVE9w4x/w3T2HG4nYHZs2h45CkAvFUJfl7+ZW7p/jkiXkNDdA6tvkP8uupudnd3Mqe+kXOXrqM9qXHfjuUALFKP8o7K73EocRaHE2cQwYehxlmpd+JQzmNQCfOd0z6PodouRDok7I5sAwVePbCGuXtLgDgzsJ1nR9RW6sRjeJSnUJVOmqqXc/fSd/Ji3fJcfU4b2surBrewOrSL1UO70dNpBqWPEF5c/lLqamrwBBaBM8iOkI+/7UthSfCkYyjHDjJjzkxmfeSboLvpC8f59e9uxZ88xnvVu4hJJxenvkmrrOTjl9Rz4VIHreFWmnoO0tR7mK5oJz3JXvqNEBERz3CkZrZ8WEzuxb6IIoooooh/NhyNi//VLLwiURQAT0HEUya73bYzEcVbTWiXm9NcHewA9nVEmNPiwkuU5DQnwrJQTS8W8Ko+D7f6oNXbwlIxn0NdRznUdZRk3TQcPS7AwZCnmx/7Be8aeIKV3r8B9tfgDvlpSMITwRd4W7iPC8Jx7vOcyX2BAfr0QWYlGnhf11uwsNjvPsouzw4c6gu8MdZG3FJ53LeI78/6GruDcwF7Rd2cpr2csXsjwZqZbBiYxd/lcgbwoztcvHZZLe9bP5tZlcMh7p5//nnuf8426boTEZSm/XgCAc5/36cQVdMIhUL87s672Jb08F73Y9zm9PEnbRH9jjsp9XTwi2MpfnFsnEbNfKI6FAdBZxCv7sWjenALBw5LQzcVFBMUQ6KkLETKhLQFaROZNpEpA5kyEKaFIgWKJVAsEKZEUzQ0hwNNd6DpTjRdx6G7cDhdOBwunC43Dqcbp8OF0+VBdzpxOtw4XG503YHmcKCqOqquo6oK4dhOevofJBR6FplxYq0oHurr3kBd3TWo6sh5kPmB7XMe90XhKAHHi/w1YlONtmAfTp3mmKgSeedPJnrAhHTy6U1Q3mRRPyZq22zbFarfmLpNpFY7jmqO1yYTRe7I5R0nOkZWuz2inPH6SRx/vxTidcpRP0bVo1B/TBTeM3u9EO38PPlRLSbkcYJ2nQiF1mJO1g756fJ+FM57gvfMVDB6TEzWNgUKGFvWKOSiShXxkqIoAJ6CqN41QLPXFgCFvxorqVC1+R5OP/cr7H3kEbyDUUwhuL7qS1yvHiWAjkaST5n382RsGW2ePnoCG7ipX/KktprmNkGntQKAH6X+xuKB7hytJKBLJxXJ1UjgImsrwe1nEy57Nc9V/Jk+fZDqVDlvHnot987YwVZpsa2zhEjfORiczzc9GuY8P2a17dJBtUzq2rsYOpzmnEMPUJ4eoLsnwtHay1k9v4HXr2zg4sXVeBwjh95TTz3FY4/ZzqNdQ32obU2U1zVw9U1fxlNezlNNT/Gzh37OHk876bJuPkj2gdCJCmRdHle4K6j31ee2Gm8NNd4aqj3VVHmqKHGWnJRA9HIiGj3C7j0fJxzehQqUqRAInEZ93RuoqnotmuadtIwiiiiiiCKKmAqKAuApiHnTS2ntSwKg6B6Ew0doezcXfXIO/O4XAIQbqvBWVPBIX5CrgRKtjc1yAdcNSL7rhs3lSb4pZtIQqqXPcmOgUk6I+eIYg1oVrUYJm90WP6tM8Pa+xbwm6UGli3mJx0lMq+Rz1W0cdPcTFAF++pqfMbt+Xo6/aNLgwYPd/KpngC0ybc9jk5Lyjj4uObqFQDpO3FIZmruK0sMbqUr28tHIPVx57ueomV0/oq5SSh577DE2bNgAgKO3A62njbrFi/FdewZf2Hkzmzo3ETNikOcyq8YwCCVm4fcs4drZnfhiz1DvreGstXficJS9rP3zUkNKSXv7bRw4+DUsK46q+qitvZr6uuvx+eb/q9kroogiiijiFYiiAHgKYt78cpLPd9HpEtQkJMJXRbg1TO2225jdtBcL2FfXyMdOU/nLw7aJMOpSWCEO8APrWyzre5QdFTt4vqwJNennEBfDICj+Izx52R/YcNdm9gcPsLt0F1IozMqsrlJEBINSvlplsdnbj8uS3FKxnNneka5VdscTfHGwnz4MEHBheYDPz6plvsfF0f2V3HXb70HxEdQinPO2d7P7b7cx2NXBn//zU5z3tvey7MJLEUIgpeTBBx/kueeeA8DZ1UI82crR9X7uCj7N0Kb7cjSF4aEx5uFdif2sS8S5K3kpf/S+lZuW+NCsBC09gqb2EB2tX6W66rJxozeNMPdkzVqTuMLMmcbGMS9NBaPNSVlYVpK+/qeIx44CC3G66qgoP5fmo16ajzYDzQXLmKj8QihU7+PJ/3JjMv7yUYjX4+H/RF2fjqYxWTkvh4vV4+2nk+XhnzkujofXkx0D49GbOg8y49HJZHj+cP4mGTmvuFC5x9c3hao3lTE58txkbXTiy6NGsiLGbcuRPI9OVzhPY+Ni5s1bMWVeipgaio6gTwIvlyPJSCrC2ru/wH8deT2n98PA7lvRDj5B+aI4fXvcSFXw1yuvArcbP69CazXY7EnxXt/N7FUX0izr2Fm6g4MlB1EsCHe/C2tgDsuWPsubU5X8Lvowx/zHQMLnXR/l7BdtLZMhDX7m/B/+MfsomoTvd3VzTjwBQoVZ50LNEp5zTOfLQ0H2uafTGAjytbn1nF1qR6KwLAvjiW+Teup/uF2/jmNpWxPXUFuDeXAXkZajAGg1DaTrGomHQpgOO1LCYGwXu6uP0lmRzLWD23DTEJ5Jx+BqPm0+ylXqRgB+Z1zEd4zruMR5EI9Iv2TtXkQRRRwvJEJYKIqJqhooiomiGKiqgVDs84owURQLoZgIIVGEhRAWQkgQGTfsIuPiRGTchgg56nyeCxSRoTtePmGhKBaKMPN4sOnb/NnnsjzY+TLHOR8kWQEv4z5l1Hkxmb+hIl5SCHEF55/33Ze0zKIj6KIG8JTENf+4BiXaRhezgBXEaucQOPgEfXtsG6h/6TQaFy7k0KFDaENDgIdp2jEeVC7IuSpYMrCUhJagxdeCp/J3RBPv4S0NDfx435/p8/cTML38OP5VyvfZ2r3D+lG+5/8uh6ptgeorZ32Nc/DAsz+Apifh8KNw+FHOAB4ATBRiehmRR4Psk376LQ99hpv1PEeAOGXpdo5hC4CtHZ3gLcdRlcbR3Ua6s5UEKmZpJQZp9jmfY/9Me16ikIIGo4H5ifk4+yvYFq/gJ/pPWK4ewZAqXzLeyl2czwcWJaj1LkBRlNwWTzQzMPA0ICmvuBDdVW9/i8vMN7mUue9yOWITuWvDm7RD9yKxJLlj+zWTnRBvY9zJ/HLUQWbSupQW0egh4gl7xYqqevH7l6Br4z+EJAW8ZuVNuh4+J8eoCrKnRpSQm/CfSVC46BGYRMc4aYrJCsouXpmUzJhThRanjOVnxJlxtEXj6j/y20jkZJBRGcSIXeFys1ohc1jAyJWdT2PYK1tuRGZ8wdmxpDMCVCZiqr03EYqBII0i7L0QKVSRQpBCEUmESKGQtulj2bG3s3kxEMKOb23vs5sJwsxLk39cXDk/GlLajlHsOENK3pU8K0CBc1PHS+mMqYA1YMLcJ6oRPh46Y2novtITpFvERCgKgKcgblh4A19/4Xu0a4eBFRgltZkr9o0ReP0NXPnqK/nxj3+M1aWjAA49RFyqeKwQ73f+g7vqPgvHJO2qiuk+infar/jeoRRhl8G8+DS+3f9Z9CFBUiS5teJ+7ix7GFOR+HU/H1n6EeaZ83msvZ129Toi7oWEStJUin4WRJtYEj5IwIriT/fip5faAnW4UDzHSmcrvVodzVEXEZzEy92Uz1nD0ZZuDF8FfY4+dtS9SL8YBOD1c1/PDdNfR8uTj9HZsoVBs4ePOzZQLQYZEgHek/oIW9UlXHX5PDpKnOxOG/SnTfrTBv1pg7jVSKzyDJKWghRKAa5OIZQ0/qs5eGVASpwk8RHObX4iuIniII1GGg0jt1cywlR2L7CD3CtYqHbE1lx6HQOdFDppdNKoGJmYzQZqJnZzIWSi9mbKNFHy4jwrr2BXQxYKSRykcJLCkWm17N5uTQM1r1W0XEvlO2TOliVzrZi9pmT1cWT1gTKT18pdF5i53s7S1Ub0pJHhK8uLhZLpGSVXxrC+UWTKVyBHx6Zl5vVyth4mKiin5iKzf2d8srKG8/7VTLwCURQAT0G8YeZruG/bk7S5wvYJl0ZfaQnlA4MITeB/zVUoXi+vveQKnrilHYD6FSv4+gsxTBTO5xku8R/klzgwW67HnP5bVFcHYUCzVHTp4Ofu26lzVvAP/1O0O3sAWOpcypKuJey7cx/72AdAXHdwz7LX0OcLolkmr+8+Ssc0SZVXUqGE8cshPOl+XMleXEcfRYl0AuCTYXyJvUxnLyvzKzcAKR/cUlrCXUE/lhBUmRZfHkpz5uO/QEt/l9lgy7qZ0blPmc674x/nGNWkl5fx22gYouFxWk8b8wGpClARqEKgCtCEQBHYv7HPKZlrSua3yJ2384rMNUVkHZ/a5ybybCClgZkewEj3Y6T7SCaOkU71IK0EUqZRFA0hTaRM25uVGj6WFkgLiQky60qaAtq6YUFGyaurrojMXsnVWxegItFEJp1QUYWCqqioQkVBIIQKQkGgZI4FWS2GyHtBi+x5ASKn5VARQrGnDAjVLiObK9tuUubUZzJPByCQGeHKGt4LIyd8DYsTKZwZMcOR2auvYKEqi+FeHt6snPAzvE+jY2ZE2HzBJyuQpXBgoOUJPtoI4cUcIeIqub0ps0JbNo+KJbIirkoaR05IykKI7G8BIqsNy7pTydNq5playSthxMywsYrtYUrZssZpt/zU9riVmbGTlybn5iav/HyCUuZdLay3yo7k4cuF5g6PrV3+LCw7rcilE7maja+TKzyLK5/XfC1z9uworXnmfhbCHlvDVo38vW0ilzJjQ5EF7jsh7L6aSAOZV0db6593nOMv/3kn0dNLgJrxyyzihFAUAE9BaP/4GDf09/Dlhg/CMahOl/G70wze+Dj4L7oAxWu7Ayn11gDt+Mtc3HjNOg6IHfx5cwsfS3+QB/Z9iVjp+wl3lCBabsQ3+79RhMRQTHZ7DrPbczhHrywdYH7/YupidaRIIYSgsrKSYF0DPyxtoM9SqNQ1frdsHisCqwozPdAMP7jNPn7rvaDq0LnD3vqbkLE+EgMddMgon60qY6/Tfvy+NhLlpr5+gtbwA6NbBmmStTSJWvZ6Z/KX/rOI4CawppL5s8qY4XZQ6dAp01XKdI0yXaNEV/GqKi5FoKR72P3imxBGJ353IzMb30d19eUoil6I85NC2krTMtRC01ATTaEmjoaO0jTURFekjWiyD4ewcCrgFZIyAU5F4lLAJSROaf/WBehC4sgIaQ4hM4Kq7a5aE3lCW97vrMCn8G+kdHiZ+DQkRC1B1ISYJYhbgnTmvCnBkMKOvELWnD/87jOlbQS15LCBNp3JY+8z5SAwZWbaf2Y/5j0nbBOgyfDUAytDwyxQRj5kgeOcUDElWNiOnZKTJSyiiH8rOMo+AKz5V7PxikNRADwV8apPMvO3b6ElUIdBGJd0smGlg1B5GV/4yCdzyfpaIwCU1to++P7z8kVsPtrP4R54t3oBe9KtwEJ0Ry/fOvoJFiSn0+rsZI97B087dmM4NRYkZzB3cB5Nzn7mLZ7H4sWLmT17NilV49oXD9MUjlHp0LhrxRzmeFyFuLWx4dtgGfZikZln2+emr81dbm1p4au3f5UXyl7AUAycps5ZvQupi1Xy+4zGJ6Y4+LM8k56EF4dTZdHsMl7cY2snv3H1Et50+oyptZ+7Ad+y77Bjx3uJxw+zZ++nONL0v8yY/h5qa69BVZ1T7op8mGaSgWgTe7qf51DfNjpC+xiMteARBgFVElAlSxTJOofEWXFCJF5aCB0hdBAaQmgwahs2n9napawAlAtpJyVW7kt8WGswYi+zOp3hUHiWtJDSyuTP6i+GZ7SNFmgyugV7VpoUGS2TwJSCNAqGVDN7hTQKaamRRrU3qZJCtY27+VMhFYkiMhpIIVAyUwJG1E1aWFgoGc1HNq2tsxxOAxJVyozmWBmRLvs7W5HxHO3mOxfOzXWU5HiQUmJKc0y6iZxT59PNuzimP0Y7Ns5vA7B5yKbL8ZfPQz4vBdRzhXRvI9o4U0fLsuyyCrVdtp2OczV3QR5H8ZXbj6r3aJoTOdEej8bodPn7LM389hhNN7+t8/nL7gv1x3j8FapPvlP4bB1y6XL35PC9nh2H+bznQxGK3W9C5O6b0U7Cc+013rgb9dywMs+KLB/Ze1Xk3W91vrqCbV7EyaG4Cvgk8HKtIjL64vT++BHesKyGb2xPMj0m+ULDD9ni34OCwuqa1Zw//XwCTy/g2JYQa17byGmvaaAp1MQTTTv432fvRg28SLTpg1iJabxfWLxZlmBg8U2SHFTbuVBt582psxEIwleXMPu0+TgctlYuapi8cccRNoWilOkqd542h4U+N2baIhFNk4imScbSJCIG8UgKq6+JxS9egYLJxrIf0yuWYBomZlpiGhZDRj93l/2YJv8RANLO+URL34NUyyiNSRr7LWb0GmzvC9MiTZwSZkuNPYrt3vlCy8k6OVZoG2GVySL7ThQgtDj+6Y8TaHwA1Tlkt20iSLTtVUQ7TicdbgBskwXCQHUOorkGUF2DqK4BNFcfwtON9LbjcA3g1lPH3Zc2jwqW4cFMBrEMDzLtxjJdWIYLaTixTCfSdOQ2y9KRlpbZ7GMsNXOsgtSGz6Hae6mCVJBSta9JldGCVrZdCv+YqALj/hwuQkw9xsAIk1ueqmvSSCM5omOFn9FVKbSuYkT+40k/VUzSAIXaKkduhBuck+ClAA8Fu/kk3LsUyjmmT0+A9/GiQBQmNpKhnKAz2mp7POUwyRjMowOF76WXvG3yCszSK3jPjMgy9sNg3PE+Ou9kY2X0fTtRvgKYEt0RQqqN0y6azoqLpk+NyBRRXAVc1ACekjj45/009fj52jNR+sp0pscklw6cz2FHO4POQTZ1bmJT5ybeuOsLBKnkls7vsu2PG3JfbmoAzFQJVmIaAniNDBAjyR/Vwzxg1iPNSl7rrUekBHqDj4WnL83RDsfTvOnFw2xOJPBK+PABi60Pb+epgQRGqvBcq/MCP0LxmBxLLmfrnlqgL3etpaSNJ2f/jIhjECTEA1fgUF/HRTvSzG0PE4hLTCR/86Zo0S10CTWGwh7dFv4uiOmsSCnEORF3LxqxgYvo3rWe4MynKZ9/P7p3kODsfxCc/Q/MtAsr7UaoaTRnZEolpiVEDZVUyoOVKEGJVqIlAzgDnbjKjqBmhEQz5Wao+XQGm15FcvClfXBNDslwbJQiiiiiiH9vpJOFF1wVcXIoCoCnIPoq3DTt7GcagsUhW+iqTQe4oP0CgtODlK8t58mDzxBMViKx2KE8jylN/A4/c0vm0uiuZs/Dy9gMLEPFEFEecGzH5YL3z5zDT7cnqR5SAXDOL2OgM8qx3f007e7j25VpDtXoONKSNzwxhNVvMpjHmxDg9Oq4vDour0apq4cF/Y8DEFv5H6yvmoeqK6i6wj3RXTzY9L8YShKH6cJX/RHeMf18LvL50E6zzREWki89sp8jB7pxagqzyzzs6Y6gKoKvXrSAS+dVjd9QuQ/dYZNa1rxgWXEise3Ek3uIJfYST+4llR4ckV3VE6h6IvfblIIhS2HAkIRMwaApGDAEqlpFjW8p84LrWFq+jhJdJ5bYQzy+h2hiB0ORDWRmhOF0NFJZ+hbKApehLHWP+uKVNrd586qn5PpkdBG5w6nFCs1Pf1IaLhhjbswdTrlcmSskvx3s3VgtTsESRmnIxtMcTWQizc+fl+G42rMgb+M1cJakzKSS+fUUhdsi73ehsqbEw0n09/H26ei1Di9prONR6Qqtz8iN70Ja0PGITFVjWohOoevjMD7mnj9OjI5/PGLawRQ1g2PacBQfk2ngxyzEGedZMCFGj2+m1p5u/0s/f7uIogB4SmJQdgDQaUpWWPZdV2Wm0B0aoWMhzlt5Hmc3vpr72YmjAn5w6feYUzqHSnclye4OBn58Cx8wKwCTOhR+79xFgCR15XW889pzmdPQytJ7mgG46dEDzL/zEDqCZxa4OFTjQTckHzoiWbukhtJaD6W1XgLlLlxeHYdLQ+SvOPjbB6HfhNkXsODa1wFgScnndzzGfbs/g6WkKE2W874zv8Mbl6wcMQdFSsmX7t7NAwe6URVBXYmbPd0R3LrKT25Yxfp5lVNuMykl0egB+vqfor9vA4OhzVjWWJOty1mHxzsbp7OGeHqI57p28nhfH61phagFIHAKyXJ/gNVl9Vzo81Oq60iZQMqH6e38Ga2J1jHllpacwfTp76K8fH1m9WMRRRRRRBFFnLooCoCnICpnBTj6RD9pU2G/W7AgAX6zkTP8gg0DR3jooYdYO+NyAOYuaGBd/QKS7WGafvcEjqMGA1zIdmyT5v2kqU7WcZn7CO3t7Xz/K7+job8Rt0+jW1rcL1Js8ytc2VjJhoX2cPjW4um88aLyyRntOwzb/2Qfn/c5AEJpg7dvvp9DB7+MFCnKExV866zvcPqSlWOyf/eRg/xuoy2IOlSFpt4oJR6dX79tDSuml05K3rKS9A9spLfnEXp7HyOZ6hpx3emsIRhcid+/hIB/CX7/InS9lK5oF7/f83vuOPC4HWMYFZ/m5tzyKhY7QjSKdnQRB7MLMwS9BWi73Y12mYGllJWehd+/cPL2KqKIIooooohTBEUB8BTEXYFKZHkP0/sU/lih8V+tBqAwr6MGh9dPKBTm6KY2QKEUScv/bkJ0JHGgARrP0ImFB8uvoxtpuuJBjsUD1Dv7CSnNrHDVAhrxoJNAIkFH2uBH0yEt4OLyANfXlk2N0ae+DdKEORdBw2p2R+K89fm7SbZ+E0hTGa/kC4u/UFD4+9XTR/j+owdzv+Npk/nVfn705hXMqfKPSzKV6qe/fwM9PQ/T1/8UphnNXVMUF6Ulp1Nadg4Bz+koViVGKkk6kSDameTYwW3cve8utnVsQZoW9VKh2jWTM6vPYEFgPsIUyKhFOhUiFmvGtJIImefLDIGqenHolViKgwEp6ZeSo9ZGYCPSsleMSitvpds4K1VEvhPBnHlw2IZjZyu0GsC2+diK1JGr+vIxXrxfm64oaObKpzmuubiACWdKyMVTHkVv/KQjeBrZnmM4H3tGjj4YTjd+LOSRbZs7P06dR/fxRCbTEf2VM/2PnZk/XpkF84+u81QX0QxXb9Sp8cyk+eNlohU0o7jJ64OJFytMYSyNWmk6cizkL7DIv4fyxrAAIRSEIux95j4Yv9zR9yAF77txx9KIaQ35Y3/4ppeSjL/PMQ2Ta5vC9R2L0eNqJK0s5BTvp3HKZZIxNpbc5JhinpmnrWLmitVTKLCI40FRADwFcXjPL+hQaqhmHp5Bg5QCDgsEbmZG3ViynHuj9iR/5/YehCoAE7eykZjjYX7EZZCYj1ntYmkqzL5jOg/L2bzfV0I8fIQaXQUJK6+exz2VLi5/eCddPg2RMjk7pkzNFUPfYdiR8ft37k082jfE+zbfjbPrfxCkqY5V896a93Le2eeNyGZZkm/cv4+fbziSO1fld/IfF8/jmlXTUEc5tLOsNKGhF+nrfZLO1g30tR4hOaRjJFTMhBeZqkZYlciUDyMBe6NREpG/Ia2/FmTbC5xNvoBr0cOz9PDs5HUu4hUPYUlUy0KREkWCkBlnOZnjEWkliMyLVGBfPx6xOFuegEwZI3/bxzbtfJoTv1lPdA5jIQHtpcfJTkF9KfBy1AtG100g8+fbyfFTTgUnMBV00hJlgUJlPjFZmO74Y3C4zKmO00I8FIInGi8KgC8DigLgKYjOQ/NpTQf5kz/Ja3skLRVuZkctfMrfESLGi+kVWMxGFRaG1opHeZagdh8tQuMtDV4ih+YAYFW7ubh0Oef0/ZSfRM/l9qEgn6qZi++YC0NYUO+i15L0VNsuVrQ9g3y9q5MjbUPc9OqFBD0TTLx98pu29m/uxdyqNPLZFx4m0PVdBGlqo7Vc47qGqy6/KidM9kdT3PFCCz/fcITeiD03T1MEHzpvDu9ZPwuPY3goSilpb9rI7md/R/uB/cQHFJKDDsyUCswowMxQZhsJVdPQXC6iJIjIOIZq4XC6mVHaSNBdgqKqqJqOUNVcPGGhqLaWQBkWhEdrh+xoFxmNggAyGoWcds3OlMtn70bO1B6WJUZPEh+eLT5aEzVSKyQLal7GTNTOOz+sFclGNS4Aka9VHKkpHMnz6PIneR3lNC2j6E6gTcqlHa8tx6OTSqPEYoh4wt7H4iixOCIWQ0kkELE4Ip7ZEklEMgXpFCKVRliv/KgiRRTx7wa9u2/yREUcN4oC4CmI96w5wBcfXUIPbv7qTFGuOJiNYIMvxDx5D57BKDCbmGOAIecvWMoWDqaW8oWqKmh+NRIV6VaRXo2LT6tnpnMpT/71KHtTjUS6bfNqu+jjmXvu5seNy7CAq6pKWLTMy3cePsCfN7fw4O5OPnXJAt6wZqxWjuduyWn/fjfv3Xx29xbKur+DIEV1rJpLUpfw5re+GU3T2Nka4pdPH+G+nZ2kzOGX65wqH3945+nUBN0AxCNhjmzdxMEtD9K6Zx/JoWxa7zBdAYGKCsrqpuMJluD2B+wtEMDtC+Dy+3H5/Lh8Plw+P4+1P8HNz93MQHIATWi8Z9l7eNeyd6G/DBFBinh5IKXECoVId3dj9PRg9vVhDoYwBwdHbMbAAGZmk8mXKBKGriM0DaHbHwkoii185ptwVRWhKMN7RRkRlmW0Nj0nKEvsxVRiOI9ADNPI/hai8PXxpfzCGOEle5yvhPxyj9vCP3mGgh8JBa3Ho/g7WaVmfnk5q/P4UyfyP4CGeRh3zkQu3wh6uX7Opz1JeYXKz+N7jNk5a6KeqD9zx4zNI7Nh3RjLez7P+VMOsmMkf6zk1zWf79H1LpRuojrnIXja2GlERZw8igLgKYjrz/4EXxt6EH1jmiFF58fhMHPw0MNcPtdQwXVDaygDDH2IJziTdvdydooAQz3TaTVrEEhSC0twqwpzPS60lW/iR4du4rLtNTQkbPNni9bHwf1tlCYkNXOX8o15DZQs1ljVWMqX/r6bg90RPnfXTm7d1MyXL1/M6saM2XTbH+CBzwJw35IP8pkhL5Ud/4mUYYLJIOuH1nPD22+gPyn43D+28fcX23P1EtjPmVcvqeGHb1qJguTojm3seuwhDm56BitPQBSKJNjgonHpGhrmrqOsfjqlNXVoDgeTIWEk+K/nb+auQ3cBMLd0LjefdTMLy4sLNU4lSNPEHBjA6OvD6Owk3d5Our2DdEcH6fZ2jM5OjN5eZOr4HXALhwO1tBS1pGR4XxK098ES1EDA/h0IIDweFLcHxetBcbtRXC5b+DsJZ8lFFFFEEac6igLgKQhdD7C4YQFW5XN0ddTToUk+Soz/VNcSMO7CEa8FoKTBRfugzu54kJ1GLXtNO1j2dRfO5LdqmkU+N5oiAI1Zb/xvvqX/jUUv2P7/wq4DkPKyunk/F5FCzK0nfDDG7G3d/DLq4K9OD79IxtnVNsQ1P9nIeQ4n1+iwKhpHVW6mx1tBS0sti/tvpsvZjdtw87rY5Vxx+uv4yYOt/GFfJynT/sI7e2YZL7QMkjAsLlxYxc2XTOP5O29l1xOPEO7tydXbVZagpDFN47IzWHrm+wiUzDzutmseauY/nvgP9g/sRxEK71zyTt6//P3oalHrZ4fmytvnTdSXeb9lJu3oOfDDBeUdWhbWwABWTzdmX599PDiA1d+PNTiAjMfBSCPTaWTaQBpp5FAYs68Xq78fpmhyVYJBlIoK1PJylGAJSknQ3mePS0tRS0pRSu1NuN1jtW8FqlHQXbYFJMd3pH1ckTpOQoacavSGl6JsOLm5cRMJy8OhwvLPZQ8mKzhbfqFyp8zeSUeqmGqZJ7IOYry8/yoc7zD7Z/Dt0BScmvpPoPR/C8VQcCeBlzOUzBcOtvKPHcd428NxHvAl2a9JFODcOp3q/YJaU9K8/gHmRxbw954Bdg8tAeDLly+iudrBLS09vK2+gv83ryFXZnRLFwN3HGA/Ju9YpTIv0c26I7sQUuKUOmenFzDTGna8PIDFz0hyD+ncQ6EewWU4OBeT7zT8hP3+Q2iWxqUt12DFVnM/JkOZ1CtRuRyd75AgAqxCcGP0RZp6N2Fa9gtWdZiUzg1RPj/CTOdVVFvXoHv9KF4d1aejeHSEriA0BaEroCmZRS8Z5Jkunml7hu9t+V/i6RilzlL+Y9V/sKx0KdKwkIYFhoU0JFbKRCYMrKSJTJhYSQNMe/VuRjIaa9LJp5WPUdeySYSmoHg0FLeG4tFR3BqmQ2HQshgwTAbSJgNpg5BhEbYswkmDUCzNUCJNNGWSNiwMyyJlSgzTwrQkpiWxpC2kmTLz25KkM9ey6exq2OksKTHlxCtUs/XwGAl8qTi+dByvkcCbzhyn7WN/Kp47V5ocojwxRGkijCZPfN6chSDk9NLvDNDtKaXbU0qPu4QuTym97iD9zgADLj/pogBfRBH/Z/GxC+fysQvnvaRlFkPBFTWApyQSpsXhWJKuUjeWI8Lro052Bk3+QZrH2tPgB580SbUKnvYcpmvobAA+cF4jbztrJtdsOwTAwiSEn2kj3RYh3R4l3RsH4EU3JCv87LJ8fPqwh73WbvqVCI86drKopJxLzz0HlyaoMg2+Y3p4V2sHtz6/g3vMRfSh8IJ2jC3lT7DffwghBe62K/lT7DSy+pSZmsaHvD6mm/CeSIgIMCcd5cz2v3DIigHgL4Oy09oIzgzjicyiZvdHcEbrSTBIYkTskaljNk5+wKeHT+w16GbbCZV1IoghacGiFYsOLLqx6Ebm9oP/zDWQGYEumIoSSEYJpGIEUtHMFiOYjFCSjFCaDFOaCFOaDOOwTix8nIVg0OljwOkn5PQScvoIOXyEnF5imhNTUUkLFUPRMBWFqO5iwBmg3+Un5PBiKcUv+yKKKGJ8WLFiaMuXA0UB8BTEx/cd4/H+MAhBa42XOceSfASVC9C5M2DxXChBRKjQdz5dmcVR6xsM3m246PntLrbXpUETNNzdTCg8VjuzbbYHAKUlygsphfe4E2wx9rNRzGXPYB8H/3YHM2hlNs3M4hjL6KNR93Fm2dW8EKkk5OjhidLdAMjOy0ixjjNn+Zlf42fF9BJeu7SWUDzN6295loGIpMro5/y2uxAyRVltLRUr9uFuaEcVTqa5PkxN6bWIaQrSsLCiacxoGiuaxoqksWJGToM3vI0wJpGyUljSwhISTdFwas5hX1haRnuoCYSaOXapKE4V4dRQXCrCqSLUzER7hbxJzhkS+fPHM6txW+IptvVFeHEgyuFwguZIkr4JzIZZKEBQCEqEQokUBCT4EfgR+DKbB9ARGa+OoCFQATWTXwBqOo4e68cZ60OP9qLFetGivajxAUQyjEhFECeimVN00N2guxG6B5HZkzm29x6EM4BwBxGuEnAG8Coq9SN65eRdfoyXfyomp3FXOZ8ECrrEmCIvJ4qJ6vHSOXyZ+rkTRYFlFWOujUc/O5by001UXqH8x4PjKXuycyeDf5X5eLy2Hi/tVM5NVs5kKHF5TiJ3EeOhKACegvjg9Coe6QsRNiX7K1XmHIOwNFktHKSGulgVKsW1voo79u3icNLLNHcL/9W6lGhrO61uQXi6D92SzBEargU+9HofCAg/coyUW+XROh0nwOEwP5MWS694B5fVDLLg2Tv5264h+k0vh5jJIew5eD6RII4TMywQpNlcvR0EnFl1Cd94/Zco9zlH8B9LGbz915s42hcjkB7iso67qa4uZ82Vryakf4dUqhOvdy7Llv4Ej6fxhNvp2fZn+exTNzGQHMCn+/jaWV/jghnnnXjDjwPDtNjbEeb5pj5eODrAC80D9EYKrzQt9zporPAyvcxDbdBFbYmbuqCL2qCb6oCTEo9jxKpqaUpb6A2nMMMprHAKK2ZgpU3MgT7SrU2kW5swuloxQz2Ygz1YQ33IZGxqzGtOFJcP4fIjnH6E04tw+RAOH4qnBOEOoniCKO6g/VtzjP/0H/1kz7qpycjLI5wv57+1M65bRF767LlxJ01ly8h3+5J7M4sc6RFZ8yctvuRv4ymuTC0kseU3zgQrU7P1ktnro8sbXW85Qdos3dHXR9cpn++JkN8P2bx5ElbWvRASsEZNOcjv5myfF+z7vHEz6nyuauOtUi7Urvm8jzgW5DX0MM0snRyPo5kfTW8Uv4X6dDzk5ckWNaadJsJ4dRqRfdRH7BTvozG+nqcyS2z0BM9R0vfwyuXhNsutuM4bD6LQuAAcAefYk0WcNIoC4CmIJX4Pty6fwxVbD3K02p77lEw7wAH+eBk6cO0FM3j7uhkc/uMmSvQ1OKZ70MrdHC4TkB5ikc/NjM+tyJU5ePdhADZUaUgh+EhjNYOrNH7/XDOfuH07Ze9Yw7qrvsiHr5R0dXVx5MgRDh8+THNzMxHDBUB7sJxttUdJJAcoc5Xx3+d/kaBz5I1pmBbv+eWz7GgL4zITvK77Pi59wxtYdP7pbN/5FlKJTjye2axY8QecjooTah/TMvnpjp/yk+0/QSJZWLaQ76z/DtMC006ovNFIGiY7WkNsaupnU1M/W5oHiIzS7umqYEl9kNUzSllSH2RmhZfGCi8B1/HNVROqQPFpGL2tpA7uJrFrN4l9+0geOIA5MDBhXjUYRJ82Db2hAce0BvSGaej19WjlZbmVr4rLddz1L6KIIooo4pWPogB4imJN0Msyv5vtMkbIoxDNWPMCikpU7+eDz1zLjy69lUWfu3BEvuf3NkMnnF0xPKlVSkl8Xz8A95UKKnSN902rwjWjhp5wkgd2d/Le323h9vedycLaADU1NdTU1LBu3TrS6TR37NrH11v6GHCGqez6FQA3rb2JoDM4graUkg/e8hBPt5qolsG1sad57+c/S0VjGVu3volEog23u5GVJyH8DSQG+OyGz/Jsux2545p51/DZ0z+LUz3xL8TBWIqtxwbYfHSAF472s701RMoYaT71uzTWNJaxurGU1TPKWNYQxKUf39w1mU6Tam0l1dxMurmZ5NGjJA8eJLlnL1asgEZPUXBMn45z3jycc2aj19Wh1dSi19WiV1ejeL1j8xRRRBFFFFHEFFAUAE9hnFniY3s4TlOVxvzWNAAVmqDH1cTuoXauu/tKvn/BT1hcsRiwBbAn+8MAnFc2HE/X6I5h9idIK7CpXOMLjdV4M0vqv3f9adz4q01saurnrb/axF8/sI6G0uH5Fl2m5EthSdgXYN7ADxmQBudNO49LZlwygtdkOs2Hv3MHDw0GEdLiLZ5DfObzX0J1Jdmy9U3EE8dwu6bbwp+ziuOFlJKtPXv55NP/SWd8CIdzNu9c9j7W1Z/D1nAaw0qRlJKUZZGyJCkp7b1lEU2b9MZS9MdS9MfTDMbThJIGQ0mDcNIgZcmcyUf6BCwM4tQVyr0OynxOyrwOfC77VtkKbI2GkPtDo/jL7LO/kViptO2keHAQc2AQKxYdaU4paYA1DbD6XISiovh9qH4/wu9H8flQvF7buTCjLE1hINw1YXuNnsJ4HOFW/yV4qUgf73ylqZbzcjdNnlVuJN0ChKfCy0vNf/4YKmDhm5SHyeb5/atwPPPSRltQRzsJeKkw1eIKjZnxeDkel5aTzQwYz4I/Os+J8DIe7aurS7mqunT8jEWcEIoC4CmM+V7bfNdf76LnaApTSryq4OwZPrZoFt2JQW68/wY+turjXD//eg7FDbpSBm5FsCY4rB2KvWj72ttYrlLlc3JDXXnumktX+fkNq7n2p89yoCvCjb/axJ3vW0ep14ElJR/be4ywaTE3/TgDkf34dB+fX/v5EX6/tjX38aGfP0GbYWsE39GY5PPv/RipdA9bt91APH4Ul6ueFSv+gMtVO6KOUkoGDJO2RIq2RJrWZIq2RIr2ZJq2RIrOVJohwyRsmEgElH4BMs+Br3cBXQePv2EdgEMBvyPzYyziQCvQaqUhnIbw8ZMBQHFCWbW9HQ9SElKREyRaRBFFFPHKwXJ/cRHIy4GiAHgKY4HXDpN2tErDBHoNSbUuOGQu4UMz5nJ72wF2J+Bbm7/Fn/b9iYXT3w5yDmeW+HFmNUdSEnmxG4AHanU+M6sWR+ZaFkGPzm/fcTpX//hZjvREue6nG/mPi+fTElR4ejCCx+wl3vNnAD6x+hNUe6s5FEuwOxTnry+28NiBXmR1GToGr2r0ULZ8Dd89coTm9jtJGGcg1UspKXkNf202SVrNJC1JxDRpTaRoS6aJmVNZrWoLnEJa+DUNp6qgIbBMi0TaJJE0SaVMsKQdiDzr08+yjx2KwOdQ8ekaAZdGiVOjxK1T5nZQ6tFxayoCUIS94lYIUBAjvvqzmxkOY3R05KJWGF2dWENDNl0pEZlvVyFBq67EOWMmjpmNOKY1oASCU4owUTDFKK3eeBgxj17+c7QsL8Wq2ynnH3dS/kjNVKFkYszB+GWdMKZSkePQ7J1Mu45ohxOs8wjtM5JMULrJ10iM+jHuGDnB9hoXU6zn8YzZ0RrPbDuMJnc8fSVHHY+4t6egMp1srBfKOlX+xHg/Rq97yWuHQlkm0kRPeo/m/Vjqc0/CcREngqIAeApjnsee19bmgF6/QldSUq3D3LDkk6mP842qz7AoPMBDYQ8t4RZadn+VEsds5lZ+CJgNQOpYGDmQJKpC+wwfV1aVFKRVG3Tzu3ecznU/3cjB7gjv+8MW8GkojV4WBv7AMTPBourzadXP5uyNeziUyITncgHL7DBxBvAg8ODhbPi3S+0b2AK6ksD4MVordI16l06Dy0GD00G9S6dESXP7nlvY3f08ihXn7YvewDvmv4vNzSEe3N3JY/u6CcVs07gAnEBt0MWi2gCL6wIsrA0ws9JLfYkb/3EuzshCSkny4EFizz1HdONzxHfuxOztLZhWr6uz5+vNm4dr8WI8a1ajlZWdEN0iiiiiiCKKeDlRjARyEni5PIn3hJN87q6dfPG1i7jmwFGOJVK8ZmuUcw4nuSigYwl47QV+PEoTX+ZzSCvFZuUc7mjdhZC2kHXF7Cv4zzP/k9g/Wog+18G9dRrxK2byscaaCWn3R1P8YsMRfvJ0E5ZhodU8jZyWIuVdR9o5ezihJRHhNKphUJ4aYM70eoLBIMKKER58GsUM49Q81FZegFv34VIUHIrAmdl7VSUj6Dmodeq41ZFayQ2tG/jiM/9JTziFmpzHysC1dPb52N8VHjFPpNSjc+HCai5aVM2qGaVjXNKcCMzBQcKPP0H0mWeIPv8cZs8ogU9RcM6ejWvJElyLF+NauADnvHmofn/hAosooogiijilUIwEUtQAnpL44t928fCeLlr6Y8w5t55jiRRH5ntp7EgT82p4ogb3Bqv4jMPPr/vezXuVHxFgiP66b1MR/jsi/Bh3H76bYwPH+Pr29yGA+2t1vllZMintMq8D5gWJqdWoqRAJ9zUgMqtdpUTpS+LuTVLd3kltzwHOTO7l+s98noYFi4lGD7N127tImd14PLPHXfCRMiy6hhL0RJIc7IiyMZKkJ2xvnUMxdnQepTeSRhofBWlr7p5Akp2IN7PCy/kLqrg4I/Rpo4THE4HR30/4kUcIP/gQ0eefB2PY7YtwufCsWoX3zDNwr1qFa8ECFHfRJFFEEUUUUcS/L4oC4CmIL1+xmBeaB9jXGWZ6yxD4BLFyBz9+bQnnduvM2taP70iYW6+bx58738qT+w7QKmux1BIWzHgH/1F7PZ944hM4mg1E3KLPYdFX78mZlAtBSsnWoRjfb+7iwb4h0BRMzV5tETR6WaPUclllCWcuL6H18bt57ok/4nB7uPYLX6NmzjxisaNs3fZmUqkevN55rFjxexS1jKcO9PBC8wCtAzFa++O0DMToHEpMsnLOlztSBCysDbCmsYzTZ9puWKr8L41vO5lKEX70UQZuv53Y85vAGp6L6Jw/H9+55+Jdtw73itNQHIUXixRRRBFFFFHEvyOKAuApiOqAk++86TTe+YtNNB0ZgGVlGBmJaVuNg1lAYn8/SHhjbTkHfN/kDS/YfvGqB3/P/b4P8JtX/4FdP38YgKd8G1iszkWIRWNoDRkmf+ns5w/tfeyJJnLnNbMfR+RJljv7uO3i/8Gh2gJQ15FDbPqrvSDkwne+n5o580gk2tm27QZSqR7cnoXE/d/nS/9o54HdWxnMzNEbDYemUOlzUul3Uul30JU8zP7QZtBClHl1PrjqLaxvXEGl33nc/vYmQ7qzk8Hbb2fgjjtGmHddixfjv+QSAhdfhKOx8SWlWUQRRRRRRBGnEooC4CmIx/vDvL+tgzNePYsnn20BoD9lmyR/LGO83qVixQxSLWGcMwIEHR46qEVgcQEP8WxrnPd3v49fhhYBkicCz3Fg3218S2nmnUveSZmrjOdDUf7c0c/fuweJ52m+kJJg5B/oA3dQ7irjJxfdnhP+0qkk9/3wO1imyby1Z7Hg7HNJJnvYuu0ttIdiPNb2NjZ2nM5gbG+uuHKvg/MWVDGzwsu0Mg8NpW6mlXqo8DkQQjCUGuKmDTfR1PoUjkp43ezX8ZnTP4Pf8dLOpzMjUaJPPcnQ/fcTfuxxME0A1MoKSq+9juBVV+KY9tJEEimiiCKKKKKIUx1FAfAUxJ1t3YQMk0cwUddUgpQkgLkuBwcTKfbVOFlwNEZiXz/OGQGeHLDnxi1yW/hjYS7hPoJHz0A1ptPsEeyvXogYauY3++/jF+0xRPBiQnLYr1KFrtGXNpBWnMbUk0QH7kAVKt9e/22qvcP+657+0+/ob2vBW1LKhe/+IIYxyIPPfJA796zlmfYzMCwNMCj3OrhkSQ2XLa3l9Jll487ROzx4mI8+/lGah5pxqk6+dOaXuHz25S9ZOxoDA0Qee4zwQw8TffZZZHpYG+lZs4bSN70R/wUXIIrm3SKKKKKIIv6PoSgAnoL49C9+yNKeAf50zVvYX1ZJ1hlSW28MfBq/DFp8C0js6yd4SWMu+seFVfXMkO+nufkWru6IkBbwm5kOekveTLD0akIys3BBgrASzNW6Id1He+9GSlJH0YwOohkePr7q46ypWZPj6diu7Wy97+8AXPK+j9ISiXPzH25lw7G3YEnbRHv6zDLef+5szplTMenCjEeaH+HzT3+emBGj1lvL9877HovKx5qojwdSSlKHDxN+/HEiTzxJfNu2EfP6HDNm4L/4IgKXX45r3ryTolVEEUUUUUQR/84ouoE5Cbxcy8iTR47QdOVVWKkUh7/1XT5ZUkdolLNkf1oyN2yydF4Ft/eHiFuSa6pLmebSaGu5h2PdK3mxRCOhjXS1KcwIrsijeIf+kXMZk486bx2Xz76cD572wZzD4kQ0wu8+9WHCfT1UrTmXx8tfxWP7e3J51s3y8NELl7F2VvmY8kYjbab5wYs/4Ne7fg3A2pq1fGv9tyhznZi/PCuVIrZpM5EnniDyxBOkW1tHXHcuXIj/ogsJXHQRjjlzpuSEuYgiiiiiiFc2im5gigLgSeHlHEC9P/85Pd/5HxS/nwd+9Au+EbVQYgbSkkivNuXgjgLJuhI/A2mDuCkJmyYDhoES34c7/BAuRXLV9JVcVL+CReWLCgpi9/zgO+x/+nFizhJ+V3MNaUVHYHFa1T4++ZrzOWvBqinxcjR0lM9s+Ax7+vYAcMOiG/jEqk+gKceniDZ6eog89ZQt9D3zLDIWG66vw4HnjLX4zj0X//r16PX1x1V2EUUUUUQRr3wUBcCiCfiURPfRIxwOeCibMxvr0GHW3fJ9uOGDLCz3kn6qk0OlKpe7XKzsN9le7+Sv5QrTXQ4uLA8ggdjOHqZ1JdkZVInVPctv5l2G17sgV74lJUPGEgaNq6h3OtCVwsKkYVr84e9P0vf041gI7i07D83p4JyaDVw4/XHOW/0pamsnF/6klPz14F/55uZvEjfiBJ1Bvnzml7lwxoVTbpN0ZyfhBx9k6IEHbdNuHrTKSnznrsd33nl4zzgDxVOMG1lEEUUUUUQRE6EoAJ6C2PPUo2y59++sWLeGuuZj+DY+w4Xzl/P8uvU8/4F1vPdPW9njhC92GFzQZXDv+T7eO62St3r8RDd3Et4cwRTwy1kO3i6fZfeex1m96g4UxXaqrAhBia5RohfufiklD+zq5L8f3MeKHX+kDmguW8yNrzubedqnEeldVFZeTE3N1ZPWJZQM8ZWNX+HhZtslzdqatdx89s0jFpeMh1Rrq+2c+YEHib/44ohrrqVLbaHv3HNxLVyIUE7eGXQRRRRRRBFF/F9BUQA8BTF96WlsuffvHOlsYdkHP0DP9/6XD9/+W7YsWEpcE9z6jrXccN8OOl0pahKSdx9Ocfb+Fjpbo7lo2/fXaiTdKitoIhzu42jzT5g188MT0pVS8syhPv77of1sbxmkMdZMXbITVJ2vfPnj9A/9kmMtu3A4Klgw/2sTzqeTUnLPkXv49gvfpj/RjyY0Przyw7xt8dtQRGFhTVoWid27CT/2GJFHHyN54MDwRSFwr1xJ4JJL8F9yMXr15AJkEUUUUUQRRRRRGEUB8BREw8IlKKpKqKsT9TOX4XzoIQJ79vLxP/2S/WevoL4iyJ8uW86vjm2ipiXF25pSQAoAZWaAJ2a5+S8lyqXlAZZWfIHdez7O0aM/pKJ8PYHAsjH0hhJp7traxu+fa+ZQdwQAry64PGWbWle/5nIURxPHWn4FwMIF38DhGH/Bx5HQEW5+7mY2dW4CYGZwJt845xssLl9cMH3y4EEG7/wrQ/fdh9HdPXxBUfCsWoX/kkvwX3QRevXYsHJFFFFEEUUUUcTxoygAnoJwuNzUzp1P2749tOzbxbxvfINDV7+ec7a/wMFbb0V++H0IITj7glmYv91HWIO700nuIUW4IwbzajERvKYiSHX15fT0Pkx3933s3PUhVq74I273NKSU7G4f4tZNx/jbtjZiKdsxssehct3qaVzqauWZX3bg9HpZddmr2b77OkBSV3sdFRXnF+Q7bsT5+Y6f8+vdv8awDJyqk/cuey9vW/w2dFUfkdaMRBi69z4G77yTxI4dufPC48F39tn4Lzgf76tehVZa+rK1cxFFFFFEEUX8X0VRADxFMX3JabTt28OxndtZdsGlHHrjDcz/w2+Y++Pv03ZoHzVf+TLzF/z/9u49Pory0Bv4by57yR1CJCEkhASCkQQEEkSRixLEo0i1WrV4A+3nHC/FBulbodbzWnu4tj0tp6+KB+tLPR+0WC2vItojFxHCqRaaCIY7NDcuCeGaTQjJZmee94/dnd3JjQRIdsP8vp9P2GXmmdln55nd/e0zM89eB/2VvpBsMlxlZ1H46X4cczXADR3QBT7dVAY96wImDv1X1NXtw4WGCqzZ9GNU6vPwxaGLqDgTuHo2s380Hrs5Dd8dMxCRCrDqhX8HAOTN+C7Kjy9DY9MJOJ2pyMz8Wau6CiGwuXIzfrXzVzhx4QQAYOLAiXhp3EtIiUkxymnnz6O+sNB7iHfLlxCNvp+eU1VE3zYZfe6/H1G33grZ0f5vFhMREdGVs0QAXLJkCV566SUUFBRg+fLlALyh5dVXX8XKlStx7tw5jBs3Dq+//jqys9s+TNnT0kaMwlcfvofKPbshdB2ZP5qD37suYvb6D1G3YQMavilG8qJFiJ40CQAwfmgC1j8/AXf9zz5862mGfLoRX+w5iy/2VEOSgJED/xUVp0/ifGM0gDMAAIcqY+rwRDx+cxrGpccb5/QVf/YxXKdqENknFkj6E06e3A1AQvbwX0NVo031/Mf5f2DpjqX4uuprAEBiZCIW3LQA+YPyIUmScSFH/Rdb0FBUZPwEGwDYhwxBnwceQNx3ZkBNSOj+jUpEREQALBAAd+7ciZUrV2LkSPO5b7/85S/xm9/8Bn/4wx8wbNgwLFy4EHfccQcOHjyImJir+zu0lyNp6DDYnBG4WOfCqcpyZA/OgOfJp/Bc9o34t3dWIPHEURz9l6fR5/sPI/7xx6H274//cQt862mGAuDNvKE4En8Om/afxN4TLuw+dgFANCJUN0YmfIuxyaV4fOp8JMabf32jqaEBX699HwCQcGMZLlysgarGICtrMfr0yTPKudwurNi1An888EdoQoNdtmN2zmw8lf0U1IoTOL1iBeo2bkLT/v2m9TuGDUP0lNsRk58PZ04OB2YmIiIKgWt6IOj6+nqMGTMGb7zxBhYuXIhRo0Zh+fLlEEIgOTkZc+fOxfz58wEATU1NSExMxLJly/D00093av3dPZDk/1v2KkqLd2LyY08hb8b9qGpyY/zXB6A1NuL9wk/R58M/mco3Opw4FdcH9uuuw2CnHfqFC9AvXICnvh7ahQaIiAg4ExNwMeIEmqLrgL4OXJf9XTjTMmFPHQzHgFTsXPcX/P3jT+GIa0LWg6Xo228csof/Gk5nMho9jdh+fDv+UvYXbDu2DY2a9xDuPTHj8S/SJETsr8CFbYVwl5cHKqUoiMzLQ0z+FERPmQJ7SgqIiIhCiQNBX+MBcNasWYiPj8dvf/tb3HbbbUYALC0txZAhQ1BcXIzRo0cb5e+991706dMH77zzTqfW3907UNGnH+PL/3oLg0fl4oGfvgoA+FVZFf69/CQGOe34XDuH88uXw11RAb2u7oofTygCDaod9Q4blCw3km+fiqRxP8A3Eafw2dEN+PuBzYg63YDrXAIJtUDO+WiMrLJDqT5tWo9ksyFq/HjETJuG6Cm380IOIiIKKwyA1/Ah4DVr1qC4uBg7d+5sNa+6uhoAkNhiLLnExERUVFS0u86mpiY0NQV+P9flcl2l2rZt0IgbAQDH9u+Bp7kZqs2G5wb1x+oTZ1DZ6MaaIZl49sMPcNrtwe3bimE/cwYvx6qYorshKQrkqGjIUVG+v0jo9fXw1NSg+eRJuKuP4eyhz+GpPgXpZBPkMxokTUKU1oyopmZgB+De8d+oxH+jjwQ8LAOPay1r6Hv+sgzH9dcjcvQoROblIWrSJCjR0S0LExERUZi4JgPg0aNHUVBQgA0bNsDpdLZbruX5Z0KIDs9JW7JkCV599dWrVs9LSUhNQ2RcHzTUnkfV4QNIHT4CUYqCBRkD8MKBo/htRTUeSorHsrIqnFLsGJGRge/kDYPS0Xl1WYGfhEvEC8Z9vbkZq5+dDf1EFTwDFdTXH8egUwKpp4HoRkDRACFLsPVPhC05GbbkZNgHD0bE6FGIuPFGBj4KO0IICAFACO/46CIwTeiBW/jmeW/MB0QkSIDv5SRJ3n8kyffe4Z8ltSgbWMRb3lemM+e7BtdP14W3nrqA0OH9vxCBOnfI+1iSDMiyBEmWICsSZN+tJEs8//Ya1aWDep3flbx3uc9cU67JAFhUVISamhrk5gZ+p1bTNGzbtg2vvfYaDh48CMDbEzhgwACjTE1NTatewWA//elPMW/ePOP/LpcLqampV73+9eeacLHeDUekipThI3Hoq22o3LMbqcNHAAAeSorH28dOY0/9RczZX4Evz3oP//5b5sCOw18baptqseXoFhQWfozkulq4+zrxp5uPQVNVjB84Ht8dch+yHdlQdQm2xERINtulV0ohpWk6NLeOZrcGj1uHp1mD7hHQNN241Zp16JqA5gm69ejQdX848oYOIQR0TYfm8ZfxrUfzTtd14bsf/KcH7vsCTHCY0VuGGr1l7AoSVA8gKLgZ4c43zz8N6NyHWgj5g2Qr/ufUQ2RZgqQEgqEkSZBk74e8JMEIiZIMU/A1trevzv4nFRx0jafnuyNJpv8CLYM1AuGi1aZpZ3rX3up8zwNB9fNVuFXdWq5YCGM/F3rwfg0jkAe+VPj30za+gACm7daqTPA8/77tX0Cgw2AXkv2+K9v/cuvm203G3pOOsdPTL3Ml1J5rMgDm5+ejpKTENO3JJ59EVlYW5s+fj4yMDCQlJWHjxo3GOYButxtbt27FsmXL2l2vw+GAowfGqDvwdRX+9nEpAMDT5O3B3PnJNpTvHQrFJkNRZeT3lbBnmIItvvB3c52E+o8qsUWRIKty4M3d/+1flowPnmbdjbLaMhw6fwjlF0rRKF9E5pHzAIC65Dg8PfBhTEiZiH7OeEADahsASZFgq2mCavdAtcuw2RXIqhT0hhb0IR30hubX23sfhP9DwBeE/H/mQBQUgFoELt2jQwsqI/Sg5fwhzHdf8wUyrTnwOP7A5g9X/nVpzZo3nDUHletUDxGFiv/1cTn8wazdD19hvtWNVNGargtAF9CaL6sqZHU98Tbjz798S+sW12QAjImJQU5OjmlaVFQU+vXrZ0yfO3cuFi9ejMzMTGRmZmLx4sWIjIzEI488Eooqm8iKhMg4OxovNEPRB8EDQHNX4Vz1OUiSN4DGlgOZUdE4PNAOm0fgpi3ncfCi3oVHsSMROUhEDnStFm7X2wCAAee/B+2jvtiKcgDlV/eJBTEOSbUIhi0DkdCFUU5RZd992dxrIHXQG+DrmZBkcy+CuRcpqLcruHeqRU9Wb6TaZSg2GaoqQ1a9Xx4U1bsNg2+921b2hnNfL5D/S4N/OVmVoChBt0qg3WSjPQPTFUWGpPjW4fsiYnwZMW7R4RcCSfYeWjX13shBvUVGuwZ6dUw9SZL5MK7sC0/+Hi/I/o4gKeiwLQJfbIBWh5CND6Wgw8emnhtjuUAPjn+60Ysj0GaIM7Z78HZTpECv3GV8cRK6gC4EhCZMPbb+LyHC6N1qeYg80NuKoMPmgUPfkul1Z/TkBi3jf6ote8FMh9zb+BIZvA2DbowN2eVA4GsLoftXI9psnzZXLAX1kgbtv/59Vw7qJfXvX63ay/Qe1aKn1diXffPa2I/973Mdabnfd5bUTmHRYuMHb5q2eiMvZ99spyO81ePYHEqX102Xdk0GwM548cUXcfHiRTz33HPGQNAbNmwIizEAx0xLw5hpaRBCwNOs450ff4ramiqMu8eOxIwbfb1CAtluN5Y01eJOmwP5MxICh/c8uvFm79E8OHD6IPad2g+35gYgQRJAjD0WqdGpSI4YiNrDf8cZF+CMyUDfgQPbDDu6JuDxHVJsdmtX/O1P6AJaJ3sf/B9YHndXAm73M4UiRYLsD1RBgbVVGV/IMsKvEghVxrK+kKbaFG9I869HMQcvWZGg2BSoNu/yqk2GoipQ7bI3+Klyr+tpDRumz9vevQ0lWYICCeBnKBEFuaaHgeluPXUZ+abfv4HdGz/D6LtmYMrszo1RqOkaPi37FK998xqqLlQBAPpH9sddg+/C3Rl344b4GyBJEjxuN/7zudlorHPh3v/1MoaOvfmS6xYicD5Y4Dwe80nxwSfE+3sPWp5H0/LQqdCFKSwpqhzoFdTM56yZzgEzdde0UV+jZ8LbA2D+ph34Fm58o/f1DgWClmzuhVQDZYiIqPfhMDAW7gHsTQaNuBG7N36GypLdlyyrCx2FxwrxH9/8Bw6fOwzAG/zmjJqDGUNmQJXNTX7wq0I01rkQk3AdMnLHdqo+kuTtnQKvByEiIuqVGADDkBACZbVlyOiTAQBIzR4JSBLOHKtE/bmziO4b32qZUw2n8NGRj7D28Focqz8GAIixx+CfR/wzZmbNhFNtezicXZ+vBwDcOPUuyDKPEREREVkBA2AY+rz8c7y47UU8dP1DeH7084iLjkNi+lCcLD2Myj27MXzi7QC8vX3bj2/HB4c+QOGxQmjCO1JztC0aD17/IH6Q8wPEOeLafZzqI4dQ/Y/DUFQVI/Lv7FIdhRCAJiA8euCvWQc085XAndJimIc2lzUNLdFepYLr16kn0al6dW2lnXncq7Mak+CqtnFousOn0t7zutxD3N1xVsnlrLKt6ndi27T58FfylExntV+ibGc3eWfbpjvP8AnnYUc6vc4OXhgtn18nh6fpyibvqBk79RrtYEVX/eV7Nfal9ob6ucTDKdE2KDH2K398MmEADEMlp0sgIPD+wfexoXwDXsh9Aak5I3Gy9DBKi3Ygc/wErC9dj1V7V6GstsxYbnT/0Xgg8wHckXYHIm2RpnWKZh16owd6kwbRpEFv9OAfH21HWtRwpAwbAU+xC7VN56A3enzzNYig8sKtQWg6hMcb+vxBj4iIqDvFTh2E2Klpoa7GNYcXgVyB7jqJVG/04JvjxVi6+5c44DoISMAtcg6uX18HyBI239WA4/ppxGiRSJL6456kuzC5zwQkaH2h1bmh17mhXWiG7v9raIbo7itoVQmS6h32IzBGi++fDnvsWo7zAPOy/pmijWVarqvl40kt5relo7q1Oe9KuiGCx9Do+jiqbZU3b46OL4bpUJe3Q3AF2ltXZ59hR5VuY3t1pge4zVW3s9901uU2vWkbSu2+JNquahfrfNn77KUauo1ylxqZpBP7zVX/8OnS/nqJN4U23z+6qeKd2fxdfcO4Eu0+1pXsS53Ydm0tKgExE1MQMymlE4/debwIhAHwinTXDuTaUgnX5xUAAF0WqJcacEFugNqoIUJ3QLE5EYGIrq9YAiS7AtmhoOGiC/V1ZyE7VQzIvgGyU4XsUCA5FcgO1XvrVCA5VO+tTYGkSpAU2Rv2FNkb+GwyoPCKWCIi6j0YAHkIOCwJ//AqApB1CbGIQqwW5R3Hq8V1GpJDgRJjhxzjPUfCe98OJdoOOUqFHGWDEmmDHGWD5FAgyRLOnjiGP/54EYSu46H/vRgJ2cND8TSJiIgoRBgAw1DcHWmIzR8E0Rx0Ll6jhnO1Z1D4+//EubMncMujjyBn2jRvj1wXFb73DoSuI2PMWO8VxkRERGQpXU8P1CMkWYLsUKHGOWBLjIIjLRZJI9ORcefNqGs+i6JN6wC564ddjx/YhyM7v4IkyZj4yOyrX3EiIiIKewyAvUzO7XfA5ozAmWOVqPj2my4tK4TA1nf/r289U5GQyquqiIiIrIgBsJdxREYh5/apAIDizz7u0rJHdnyFqkMHoNodGP/go91RPSIiIuoFGAB7odH/NAOQJJTtKsKZ40c7tYzm8aDwj38AAOTdcx+i4/t1Yw2JiIgonDEA9kJ9k5IxJPcmAMA3f/mkU8uUbP4c56pOICI2DnkzHujO6hEREVGYYwDspXLvvhcAsHfbZlysr+uw7KnKcvz1w/cAALd8byYckZEdliciIqJrGwNgL5UyfASuS0uHp6kJW//rbdSfO9uqTHNjI7a9uwqrFxTgoqsWfZNTMDL/n0JQWyIiIgonHAewl5IkCWO/8wA++z+/xt6tm7B/+xZk3jQeo6ZNx8AbslFavBNfrHoTrlM1AIChY2/GlKeegaKyyYmIiKyOaaAXu2HCbZAVBcWfrcOJQ/tx8KtCHPyqENHx/VB/9gwAICbhOkx58hkMzRsX4toSERFRuGAA7OWuv2Uirr9lImrKS7F7w2fYt30L6s+egSTLyJ1+H8Z/7xHYnM5QV5OIiIjCiCSEEKGuRG8Vjj8m3dRwAUd2fo2kIZnolzIo1NUhIiIKO+H4+d3T2AN4jXFERiF7cn6oq0FERERhjFcBExEREVkMAyARERGRxTAAEhEREVkMAyARERGRxTAAEhEREVkMAyARERGRxTAAEhEREVkMAyARERGRxTAAEhEREVkMAyARERGRxTAAEhEREVkMAyARERGRxTAAEhEREVmMGuoK9GZCCACAy+UKcU2IiIios/yf2/7PcStiALwCdXV1AIDU1NQQ14SIiIi6qq6uDnFxcaGuRkhIwsrx9wrpuo4TJ04gJiYGkiRd1XW7XC6kpqbi6NGjiI2NvarrpsvDNgk/bJPwxHYJP2wTMyEE6urqkJycDFm25tlw7AG8ArIsIyUlpVsfIzY2li/WMMM2CT9sk/DEdgk/bJMAq/b8+Vkz9hIRERFZGAMgERERkcUwAIYph8OBV155BQ6HI9RVIR+2Sfhhm4Qntkv4YZtQS7wIhIiIiMhi2ANIREREZDEMgEREREQWwwBIREREZDEMgEREREQWwwAYht544w2kp6fD6XQiNzcXhYWFoa6SZSxZsgRjx45FTEwM+vfvj/vuuw8HDx40lRFC4Oc//zmSk5MRERGB2267DXv37g1Rja1nyZIlkCQJc+fONaaxTULj+PHjeOyxx9CvXz9ERkZi1KhRKCoqMuazXXqWx+PByy+/jPT0dERERCAjIwO/+MUvoOu6UYZtQgZBYWXNmjXCZrOJt956S+zbt08UFBSIqKgoUVFREeqqWcKdd94pVq1aJfbs2SN27dolpk+fLgYNGiTq6+uNMkuXLhUxMTHiz3/+sygpKREPP/ywGDBggHC5XCGsuTXs2LFDDB48WIwcOVIUFBQY09kmPe/s2bMiLS1NzJ49W/ztb38TZWVlYtOmTeLIkSNGGbZLz1q4cKHo16+fWL9+vSgrKxMffPCBiI6OFsuXLzfKsE3IjwEwzNx0003imWeeMU3LysoSCxYsCFGNrK2mpkYAEFu3bhVCCKHrukhKShJLly41yjQ2Noq4uDjx5ptvhqqallBXVycyMzPFxo0bxeTJk40AyDYJjfnz54sJEya0O5/t0vOmT58unnrqKdO0+++/Xzz22GNCCLYJmfEQcBhxu90oKirCtGnTTNOnTZuGv/71ryGqlbXV1tYCAOLj4wEAZWVlqK6uNrWRw+HA5MmT2Ubd7Ic//CGmT5+OqVOnmqazTUJj3bp1yMvLw4MPPoj+/ftj9OjReOutt4z5bJeeN2HCBGzevBmHDh0CAOzevRvbt2/H3XffDYBtQmZqqCtAAadPn4amaUhMTDRNT0xMRHV1dYhqZV1CCMybNw8TJkxATk4OABjt0FYbVVRU9HgdrWLNmjUoLi7Gzp07W81jm4RGaWkpVqxYgXnz5uGll17Cjh078KMf/QgOhwNPPPEE2yUE5s+fj9raWmRlZUFRFGiahkWLFmHmzJkA+FohMwbAMCRJkun/QohW06j7zZkzB99++y22b9/eah7bqOccPXoUBQUF2LBhA5xOZ7vl2CY9S9d15OXlYfHixQCA0aNHY+/evVixYgWeeOIJoxzbpee8//77WL16Nd577z1kZ2dj165dmDt3LpKTkzFr1iyjHNuEAF4FHFYSEhKgKEqr3r6amppW39ioez3//PNYt24dtmzZgpSUFGN6UlISALCNelBRURFqamqQm5sLVVWhqiq2bt2K3/3ud1BV1djubJOeNWDAAAwfPtw07YYbbkBlZSUAvlZC4Sc/+QkWLFiA73//+xgxYgQef/xxvPDCC1iyZAkAtgmZMQCGEbvdjtzcXGzcuNE0fePGjRg/fnyIamUtQgjMmTMHa9euxRdffIH09HTT/PT0dCQlJZnayO12Y+vWrWyjbpKfn4+SkhLs2rXL+MvLy8Ojjz6KXbt2ISMjg20SArfeemurIZIOHTqEtLQ0AHythEJDQwNk2fyxriiKMQwM24RMQngBCrXBPwzM22+/Lfbt2yfmzp0roqKiRHl5eairZgnPPvusiIuLE19++aWoqqoy/hoaGowyS5cuFXFxcWLt2rWipKREzJw5k8Mo9LDgq4CFYJuEwo4dO4SqqmLRokXi8OHD4t133xWRkZFi9erVRhm2S8+aNWuWGDhwoDEMzNq1a0VCQoJ48cUXjTJsE/JjAAxDr7/+ukhLSxN2u12MGTPGGIKEuh+ANv9WrVpllNF1XbzyyisiKSlJOBwOMWnSJFFSUhK6SltQywDINgmNTz75ROTk5AiHwyGysrLEypUrTfPZLj3L5XKJgoICMWjQIOF0OkVGRob42c9+JpqamowybBPyk4QQIpQ9kERERETUs3gOIBEREZHFMAASERERWQwDIBEREZHFMAASERERWQwDIBEREZHFMAASERERWQwDIBEREZHFMAASERERWQwDIBEREZHFMAASERERWQwDIBEREZHFMAASERERWQwDIBEREZHFMAASERERWQwDIBEREZHFMAASERERWQwDIBEREZHFMAASERERWQwDIBEREZHFMAASERERWQwDIBEREZHFMAASERERWQwDIBEREZHFMAASERERWQwDIBEREZHFMAASERERWQwDIBEREZHFMAASERERWQwDIBEREZHFMAASERERWQwDIBEREZHF/H8CO3F3foKZDwAAAABJRU5ErkJggg==' width=640.0/>\n",
       "            </div>\n",
       "        "
      ],
      "text/plain": [
       "Canvas(toolbar=Toolbar(toolitems=[('Home', 'Reset original view', 'home', 'home'), ('Back', 'Back to previous …"
      ]
     },
     "metadata": {},
     "output_type": "display_data"
    }
   ],
   "source": [
    "grades = np.array([a['grades'] for a in allgrades]).T\n",
    "\n",
    "plt.figure()\n",
    "plt.plot(grades)"
   ]
  },
  {
   "cell_type": "code",
   "execution_count": 34,
   "metadata": {},
   "outputs": [
    {
     "data": {
      "text/plain": [
       "103"
      ]
     },
     "execution_count": 34,
     "metadata": {},
     "output_type": "execute_result"
    }
   ],
   "source": [
    "len([a for a in tile_coords.values() if a is None])"
   ]
  },
  {
   "cell_type": "code",
   "execution_count": 32,
   "metadata": {},
   "outputs": [
    {
     "data": {
      "text/plain": [
       "220"
      ]
     },
     "execution_count": 32,
     "metadata": {},
     "output_type": "execute_result"
    }
   ],
   "source": [
    "len(tile_coords.keys())"
   ]
  },
  {
   "cell_type": "code",
   "execution_count": 28,
   "metadata": {},
   "outputs": [
    {
     "data": {
      "text/plain": [
       "<matplotlib.collections.PathCollection at 0x1e4c5ba6910>"
      ]
     },
     "execution_count": 28,
     "metadata": {},
     "output_type": "execute_result"
    },
    {
     "data": {
      "application/vnd.jupyter.widget-view+json": {
       "model_id": "2d977c0ff1a84339a5c6c63af52640a7",
       "version_major": 2,
       "version_minor": 0
      },
      "image/png": "[encoded data removed]",
      "text/html": [
       "\n",
       "            <div style=\"display: inline-block;\">\n",
       "                <div class=\"jupyter-widgets widget-label\" style=\"text-align: center;\">\n",
       "                    Figure\n",
       "                </div>\n",
       "                <img src='data:image/png;base64,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' width=640.0/>\n",
       "            </div>\n",
       "        "
      ],
      "text/plain": [
       "Canvas(toolbar=Toolbar(toolitems=[('Home', 'Reset original view', 'home', 'home'), ('Back', 'Back to previous …"
      ]
     },
     "metadata": {},
     "output_type": "display_data"
    }
   ],
   "source": [
    "plt.figure()\n",
    "\n",
    "argmin = [np.argmin(a['grades']) for a in allgrades]\n",
    "min = [np.min(a['grades']) for a in allgrades]\n",
    "\n",
    "plt.scatter(argmin, min)\n"
   ]
  },
  {
   "cell_type": "code",
   "execution_count": 18,
   "metadata": {},
   "outputs": [],
   "source": [
    "def draw_bounding_boxes(bboxes, shape):\n",
    "    # Create a zero numpy array with the specified shape\n",
    "    img = np.zeros(shape, dtype=np.uint8)\n",
    "    \n",
    "    # Iterate through each bounding box\n",
    "    for bbox in bboxes:\n",
    "        x1, y1, x2, y2 = np.int32(bbox)\n",
    "        # Fill the region specified by the bounding box with 255\n",
    "        img[y1:y2, x1:x2] = 255\n",
    "    \n",
    "    return img"
   ]
  },
  {
   "cell_type": "code",
   "execution_count": 19,
   "metadata": {},
   "outputs": [],
   "source": [
    "# Get a list of all .pkl file paths\n",
    "pkl_files = glob.glob(r'D:\\RECTDNN\\processing\\2024-05-31_14-05-48\\Tiles\\*registered1.pkl')\n",
    "\n",
    "# Load the content of each .pkl file into a list\n",
    "pkl_data = []\n",
    "for file in pkl_files:\n",
    "    with open(file, 'rb') as f:\n",
    "        pkl_data.append(pickle.load(f))"
   ]
  },
  {
   "cell_type": "code",
   "execution_count": 20,
   "metadata": {},
   "outputs": [
    {
     "data": {
      "text/plain": [
       "' THE BELOW IS THE ORIGINAL ICP ON INTERSECTIONS\\ndef calcCenter(a):\\n    # print(a,  (a[0] + a[2]) / 2, (a[1] + a[3]) / 2)\\n    return (a[0] + a[2]) / 2, (a[1] + a[3]) / 2\\n\\nbestgrades = []\\nnumcorners = []\\n\\nfor i, (out_name, db) in enumerate(tile_coords.items()):\\n    if db is not None:\\n        \\n        # GET STREET CORNERS FROM TPNN OUTPUTS\\n        street_corners = results_struct[tile_coords[out_name][\\'input_file\\']]\\n\\n        # SKIP IF TOO FEW CORNERS\\n        if len(street_corners) < 3:\\n            continue\\n\\n        # OPEN RASTER AND GET BOUNDING BOX\\n        ra = rio.open(out_name)\\n        bounds  = ra.bounds\\n        image   = ra.read(1)\\n\\n        # CONVERT STREET CORNERS TO NUMPY ARRAY\\n        street_corners_arry = np.array([calcCenter(street_corners[a][\\'bbox\\']) for a in street_corners])\\n        streets = np.zeros(image.shape)\\n        streetcoords = np.int32(street_corners_arry)\\n        streets[streetcoords[:, 1], streetcoords[:, 0]] = 255\\n\\n        # USE RASTER TRANSFORM TO GET REAL-WORLD ESTIMATES OF STREET CORNERS\\n        xs, ys = rio.transform.xy(ra.transform, street_corners_arry[:, 1], street_corners_arry[:, 0])\\n        numcorners.append(len(xs))\\n        print(out_name, len(xs))\\n        \\n        # GET IDENTIFIED STREET INTERSECTIONS\\n        xy = list(zip(xs, ys))\\n        points = MultiPoint(xy)\\n        TLNN = gpd.GeoDataFrame(index=[0], geometry=[points]).explode(ignore_index=False, index_parts=False)\\n        error\\n        # GET SHAPEFILE OF STREET INTERSECTIONS\\n        bounds_poly = enlarged_bounds(ra, n=1.5)\\n        STCN = gpd.clip(intersections, bounds_poly)\\n\\n        ICP_fn = os.path.join(proc_dir, os.path.basename(out_name).split(\".\")[0] + \"_ICP.tif\")\\n        best_transform, transform_dict = performICPonTile(TLNN, STCN, plot=True, save_fig=ICP_fn, icp_iterations=500)\\n        bestgrades.append(np.min(transform_dict[\\'grades\\']))\\n\\n        raster_name = os.path.join(proc_dir, os.path.basename(out_name).split(\".\")[0] + \"_registered.tif\")\\n        transform = best_transform @ getMatrixFromAffine(ra.transform) \\n        \\n        shp_name = os.path.join(proc_dir, os.path.basename(out_name).split(\".\")[0] + \"_XY.gpkg\")\\n        a = gpd.GeoDataFrame(crs=\"EPSG:3857\", geometry=gpd.points_from_xy(transform_dict[\\'reproj\\'][0][:, 0], transform_dict[\\'reproj\\'][0][:, 1]))\\n        a.to_file(shp_name)\\n\\n        try:\\n            with rio.open(raster_name, \\'w\\',\\n                driver=\\'GTiff\\', count=3, dtype=image.dtype,\\n                height=image.shape[0], width=image.shape[1],\\n                crs=f\\'EPSG:3857\\',\\n                transform=rio.Affine(*transform.flatten()[:6])) as dst:\\n                    dst.write(image, 1) \\n                    dst.write(image, 2) \\n                    dst.write(streets, 3) \\n        except:\\n             print(f\"Could not save photo {out_name}\")\\n        error\\n'"
      ]
     },
     "execution_count": 20,
     "metadata": {},
     "output_type": "execute_result"
    }
   ],
   "source": [
    "''' THE BELOW IS THE ORIGINAL ICP ON INTERSECTIONS\n",
    "def calcCenter(a):\n",
    "    # print(a,  (a[0] + a[2]) / 2, (a[1] + a[3]) / 2)\n",
    "    return (a[0] + a[2]) / 2, (a[1] + a[3]) / 2\n",
    "\n",
    "bestgrades = []\n",
    "numcorners = []\n",
    "\n",
    "for i, (out_name, db) in enumerate(tile_coords.items()):\n",
    "    if db is not None:\n",
    "        \n",
    "        # GET STREET CORNERS FROM TPNN OUTPUTS\n",
    "        street_corners = results_struct[tile_coords[out_name]['input_file']]\n",
    "\n",
    "        # SKIP IF TOO FEW CORNERS\n",
    "        if len(street_corners) < 3:\n",
    "            continue\n",
    "\n",
    "        # OPEN RASTER AND GET BOUNDING BOX\n",
    "        ra = rio.open(out_name)\n",
    "        bounds  = ra.bounds\n",
    "        image   = ra.read(1)\n",
    "\n",
    "        # CONVERT STREET CORNERS TO NUMPY ARRAY\n",
    "        street_corners_arry = np.array([calcCenter(street_corners[a]['bbox']) for a in street_corners])\n",
    "        streets = np.zeros(image.shape)\n",
    "        streetcoords = np.int32(street_corners_arry)\n",
    "        streets[streetcoords[:, 1], streetcoords[:, 0]] = 255\n",
    "\n",
    "        # USE RASTER TRANSFORM TO GET REAL-WORLD ESTIMATES OF STREET CORNERS\n",
    "        xs, ys = rio.transform.xy(ra.transform, street_corners_arry[:, 1], street_corners_arry[:, 0])\n",
    "        numcorners.append(len(xs))\n",
    "        print(out_name, len(xs))\n",
    "        \n",
    "        # GET IDENTIFIED STREET INTERSECTIONS\n",
    "        xy = list(zip(xs, ys))\n",
    "        points = MultiPoint(xy)\n",
    "        TLNN = gpd.GeoDataFrame(index=[0], geometry=[points]).explode(ignore_index=False, index_parts=False)\n",
    "        error\n",
    "        # GET SHAPEFILE OF STREET INTERSECTIONS\n",
    "        bounds_poly = enlarged_bounds(ra, n=1.5)\n",
    "        STCN = gpd.clip(intersections, bounds_poly)\n",
    "\n",
    "        ICP_fn = os.path.join(proc_dir, os.path.basename(out_name).split(\".\")[0] + \"_ICP.tif\")\n",
    "        best_transform, transform_dict = performICPonTile(TLNN, STCN, plot=True, save_fig=ICP_fn, icp_iterations=500)\n",
    "        bestgrades.append(np.min(transform_dict['grades']))\n",
    "\n",
    "        raster_name = os.path.join(proc_dir, os.path.basename(out_name).split(\".\")[0] + \"_registered.tif\")\n",
    "        transform = best_transform @ getMatrixFromAffine(ra.transform) \n",
    "        \n",
    "        shp_name = os.path.join(proc_dir, os.path.basename(out_name).split(\".\")[0] + \"_XY.gpkg\")\n",
    "        a = gpd.GeoDataFrame(crs=\"EPSG:3857\", geometry=gpd.points_from_xy(transform_dict['reproj'][0][:, 0], transform_dict['reproj'][0][:, 1]))\n",
    "        a.to_file(shp_name)\n",
    "\n",
    "        try:\n",
    "            with rio.open(raster_name, 'w',\n",
    "                driver='GTiff', count=3, dtype=image.dtype,\n",
    "                height=image.shape[0], width=image.shape[1],\n",
    "                crs=f'EPSG:3857',\n",
    "                transform=rio.Affine(*transform.flatten()[:6])) as dst:\n",
    "                    dst.write(image, 1) \n",
    "                    dst.write(image, 2) \n",
    "                    dst.write(streets, 3) \n",
    "        except:\n",
    "             print(f\"Could not save photo {out_name}\")\n",
    "        error\n",
    "'''"
   ]
  }
 ],
 "metadata": {
  "kernelspec": {
   "display_name": "Python 3",
   "language": "python",
   "name": "python3"
  },
  "language_info": {
   "codemirror_mode": {
    "name": "ipython",
    "version": 3
   },
   "file_extension": ".py",
   "mimetype": "text/x-python",
   "name": "python",
   "nbconvert_exporter": "python",
   "pygments_lexer": "ipython3",
   "version": "3.8.18"
  }
 },
 "nbformat": 4,
 "nbformat_minor": 4
}
