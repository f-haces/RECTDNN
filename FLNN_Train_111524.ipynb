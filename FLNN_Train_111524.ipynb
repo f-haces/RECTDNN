{
 "cells": [
  {
   "cell_type": "code",
   "execution_count": 1,
   "id": "4333b7a8",
   "metadata": {},
   "outputs": [],
   "source": [
    "# PYTHON IMPORTS\n",
    "import os, copy, traceback\n",
    "from tqdm.notebook import trange, tqdm\n",
    "import glob\n",
    "\n",
    "# IMAGE IMPORTS \n",
    "from PIL import Image\n",
    "import cv2, tifffile\n",
    "\n",
    "# DATA IMPORTS \n",
    "import random\n",
    "import h5py\n",
    "import numpy as np\n",
    "\n",
    "# PLOTTING\n",
    "import matplotlib.pyplot as plt\n",
    "import matplotlib.cm as cm\n",
    "\n",
    "# NEURAL NETWORK\n",
    "import torch\n",
    "import torch.nn as nn\n",
    "import torch.optim as optim\n",
    "from torch.utils.data import DataLoader, Dataset\n",
    "from torchvision import transforms, datasets\n",
    "from torchvision.transforms import ToPILImage, GaussianBlur\n",
    "from torchvision.transforms import Compose, RandomCrop, ToTensor, Normalize\n",
    "import torch.optim.lr_scheduler as lr_scheduler\n",
    "import torchvision.models as models\n",
    "from sklearn.preprocessing import LabelEncoder, OneHotEncoder\n",
    "\n",
    "# MY OWN CLASSES\n",
    "from TPNN import *\n",
    "from PlottingUtils import *\n",
    "from DataUtils import * \n",
    "\n",
    "Image.MAX_IMAGE_PIXELS = 933120000\n",
    "%matplotlib notebook"
   ]
  },
  {
   "cell_type": "code",
   "execution_count": 2,
   "id": "2897966e",
   "metadata": {},
   "outputs": [],
   "source": [
    "class NN_Dataset_V3(Dataset):\n",
    "    def __init__(self, image_dir, mask_dir, input_transform=None, transform=None):\n",
    "        \"\"\"\n",
    "        Args:\n",
    "            image_dir (str): Directory with all the images.\n",
    "            mask_dir (str): Directory with all the masks.\n",
    "            transform (callable, optional): Transformation to apply to both images and masks.\n",
    "        \"\"\"\n",
    "        self.image_dir = image_dir\n",
    "        self.mask_dir = mask_dir\n",
    "        self.image_names = sorted(os.listdir(image_dir))  # Ensure matching order\n",
    "        self.mask_names = sorted(os.listdir(mask_dir))   # Ensure matching order\n",
    "        self.transform = transform\n",
    "        self.input_transform = input_transform\n",
    "\n",
    "        # Preload all images and masks into memory\n",
    "        self.images = []\n",
    "        self.masks = []\n",
    "        for fn in self.image_names:\n",
    "            image = Image.open(os.path.join(image_dir, fn)).convert('L')\n",
    "            image = Image.fromarray(np.array(image).astype(np.uint8))\n",
    "            self.images.append(image)\n",
    "                \n",
    "        self.targets = loadClasses(mask_dir, fns=self.image_names, flip=False)\n",
    "        \n",
    "    def __len__(self):\n",
    "        return len(self.images)\n",
    "\n",
    "    def __getitem__(self, idx):\n",
    "        # Return preloaded image and mask\n",
    "        image = self.images[idx]\n",
    "        target_image = self.targets[idx]\n",
    "\n",
    "        seed = np.random.randint(2147483647)            \n",
    "        if self.transform is not None:\n",
    "            random.seed(seed)\n",
    "            torch.manual_seed(seed)\n",
    "            image = self.transform(image)            \n",
    "            random.seed(seed)\n",
    "            torch.manual_seed(seed)\n",
    "            target_image = self.transform(target_image)\n",
    "        \n",
    "        if self.input_transform is not None:\n",
    "            image = self.input_transform(image)\n",
    "\n",
    "        return image, target_image, self.image_names[idx]"
   ]
  },
  {
   "cell_type": "code",
   "execution_count": 3,
   "id": "fa7f0da9",
   "metadata": {},
   "outputs": [
    {
     "data": {
      "application/vnd.jupyter.widget-view+json": {
       "model_id": "f7212938b23a4aaa808ffebf0bed4d15",
       "version_major": 2,
       "version_minor": 0
      },
      "text/plain": [
       "  0%|          | 0/2506 [00:00<?, ?it/s]"
      ]
     },
     "metadata": {},
     "output_type": "display_data"
    },
    {
     "name": "stdout",
     "output_type": "stream",
     "text": [
      "Some error images in ZoneX, trying to coerce\n"
     ]
    },
    {
     "data": {
      "application/vnd.jupyter.widget-view+json": {
       "model_id": "c7b2cfa7d2ab4418bed1da86be922aa1",
       "version_major": 2,
       "version_minor": 0
      },
      "text/plain": [
       "  0%|          | 0/121 [00:00<?, ?it/s]"
      ]
     },
     "metadata": {},
     "output_type": "display_data"
    },
    {
     "name": "stdout",
     "output_type": "stream",
     "text": [
      "Some error images in ZoneX, trying to coerce\n"
     ]
    }
   ],
   "source": [
    "base_dir = r\"D:\\RECTDNN\\FLNN\\AAA_NewDataset\\tiled_master\\\\\"\n",
    "\n",
    "input_folder        = f\"{base_dir}/in\"\n",
    "val_folder          = f\"{base_dir}/val\"\n",
    "train_target_folder = f\"{base_dir}/out\"\n",
    "val_target_folder   = f\"{base_dir}/val_out\"\n",
    "batch_size          = 2\n",
    "verbose_level       = 0\n",
    "\n",
    "tensor = transforms.Compose([\n",
    "    transforms.ToTensor(),\n",
    "])\n",
    "\n",
    "transform = transforms.Compose([\n",
    "    transforms.RandomRotation(degrees=180),\n",
    "    transforms.RandomHorizontalFlip(),\n",
    "    transforms.RandomVerticalFlip(),\n",
    "    transforms.ToTensor(),\n",
    "    transforms.RandomRotation(degrees=45),\n",
    "])\n",
    "\n",
    "input_transform = transforms.RandomApply(torch.nn.ModuleList([\n",
    "    transforms.ColorJitter(0.2, 0.2, 0.2, 0.2),\n",
    "    transforms.RandomAdjustSharpness(sharpness_factor=2),\n",
    "    transforms.GaussianBlur(5)\n",
    "]), 0.65)\n",
    "\n",
    "tensor = transforms.Compose([transforms.ToTensor()])\n",
    "\n",
    "train_dataset = NN_Dataset_V3(input_folder, train_target_folder, transform=transform, \n",
    "                              input_transform=input_transform)\n",
    "train_loader  = DataLoader(train_dataset, batch_size=batch_size, shuffle=True, num_workers=0)\n",
    "val_dataset = NN_Dataset_V3(val_folder, val_target_folder, transform=transform, \n",
    "                              input_transform=input_transform)\n",
    "val_loader  = DataLoader(val_dataset, batch_size=1, shuffle=False, num_workers=0)\n",
    "\n",
    "loaders = {'train' : train_loader, \"test\" : val_loader }\n",
    "# loaders = {\"test\" : val_loader }"
   ]
  },
  {
   "cell_type": "code",
   "execution_count": 4,
   "id": "97acd5c7",
   "metadata": {},
   "outputs": [],
   "source": [
    "def notify(mess, level=4):\n",
    "    if verbose_level >= level:\n",
    "        print(mess)\n",
    "\n",
    "def saveImages(prob_img_or, outputs, filenames, minputs, outputs_folder, rep_id, labels,):\n",
    "    \n",
    "    # IF FOR SOME REASON OUTPUT IS UNBATCHED, BATCH IT\n",
    "    if prob_img_or.ndim == 3:\n",
    "        prob_img_or = prob_img_or.unsqueeze(0)\n",
    "        \n",
    "    # CONVERT TO NUMPY ARRAY\n",
    "    prob_img_or = prob_img_or.numpy()\n",
    "    \n",
    "    # FOR EACH BATCHED OUTPUT\n",
    "    for i in range(len(outputs)):\n",
    "        filename = filenames[i]\n",
    "\n",
    "        # CONVERT TO IMAGE NUMPY ARRAY\n",
    "        prob_img = prob_img_or[i, :, :, :]\n",
    "        prob_img = (prob_img * 255).astype(np.uint8) \n",
    "        prob_img = np.moveaxis(prob_img, [0, 1, 2], [2, 0, 1])\n",
    "\n",
    "        # SAVE TO FILE\n",
    "        myout = probability_to_rgb(prob_img)\n",
    "        myout.save(os.path.join(outputs_folder, f\"{rep_id}_{filename[:-4]}_out.png\"))\n",
    "\n",
    "        # SAVE INPUTS\n",
    "        myinp = Image.fromarray(np.uint8(minputs[i, 0, :, :] * 255))\n",
    "        myinp.save(os.path.join(outputs_folder, f\"{rep_id}_{filename[:-4]}_inp.png\"))\n",
    "\n",
    "        # SAVE OUTPUTS\n",
    "        mylab = class_to_one_hot(labels[i, :, :], prob_img.shape[-1])\n",
    "        mylab = probability_to_rgb(mylab)\n",
    "        mylab.save(os.path.join(outputs_folder, f\"{rep_id}_{filename[:-4]}_lab.png\"))\n",
    "            \n",
    "def train(model, dataloaders, num_epochs=50, \n",
    "          output_dir=r'C:\\Users\\fhacesga\\Desktop\\FIRMsDigitizing\\data\\FLNN\\intermediate_outputs', \n",
    "          learning_rate=5e-4,\n",
    "          device = torch.device(\"cuda:0\"),\n",
    "          continue_from=None,\n",
    "          weights=[1, 256, 0]):\n",
    "    \n",
    "    # TRAINING PARAMETERS\n",
    "    weights = torch.tensor(weights).float().to(device)\n",
    "    criterion = nn.CrossEntropyLoss(weight=weights, reduction=\"mean\")\n",
    "    optimizer = optim.Adam(model.parameters(), lr=learning_rate)\n",
    "    learning_rate_scheduler = lr_scheduler.StepLR(optimizer, step_size=10, gamma=0.99)\n",
    "    start_epoch = 0\n",
    "        \n",
    "    if continue_from is not None:\n",
    "        checkpoint = torch.load(continue_from)\n",
    "        model.load_state_dict(checkpoint['model_state_dict'])\n",
    "        optimizer.load_state_dict(checkpoint['optimizer_state_dict'])\n",
    "        for g in optimizer.param_groups:\n",
    "            g['lr'] = learning_rate\n",
    "        for state in optimizer.state.values():\n",
    "            for k, v in state.items():\n",
    "                if isinstance(v, torch.Tensor):\n",
    "                    state[k] = v.cuda()\n",
    "        start_epoch = checkpoint['epoch']\n",
    "        start_loss = checkpoint['loss']\n",
    "        \n",
    "        epoch_losses = checkpoint['epoch_losses']\n",
    "        iou_lists    = checkpoint['iou_lists']\n",
    "        lr_list      = checkpoint['lr_list']\n",
    "        \n",
    "    else:\n",
    "         # STRUCTURES FOR PLOTTING\n",
    "        epoch_losses = {'train' : [], 'test' : []}\n",
    "        iou_lists    = {'train' : [], 'test' : []}\n",
    "        lr_list      = []\n",
    "        \n",
    "    # SEND MODEL TO GPU\n",
    "    model = model.to(device)\n",
    "    \n",
    "    # MAKE SURE DIRS FOR TEMP OUTPUTS EXIST\n",
    "    if not os.path.exists(output_dir):\n",
    "        os.makedirs(output_dir)\n",
    "        \n",
    "    fig, axs = init_plotting()\n",
    "        \n",
    "    # LOOP THROUGH EPOCHS\n",
    "    for epoch in range(start_epoch, num_epochs):\n",
    "        notify('Epoch {}/{}'.format(epoch+1, num_epochs), level=1)\n",
    "        notify('-' * 10, level=1)\n",
    "        phases = ['train', 'test']\n",
    "        # phases = ['test']\n",
    "        epoch_loss = {'train' : 0, 'test' : 0}\n",
    "        iou_list = {'train' : [], 'test' : []}      \n",
    "        \n",
    "        # FOR BOTH PHASES\n",
    "        for phase in phases: \n",
    "            if phase == 'train':\n",
    "                model.train()\n",
    "                repeats = range(1)\n",
    "            else:\n",
    "                model.eval()\n",
    "                repeats = range(1)\n",
    "            \n",
    "            # MAKE DIR FOR CURRENT PHASE IF IT DOES NOT EXIST\n",
    "            outputs_folder = os.path.join(output_dir, phase)\n",
    "            if not os.path.exists(outputs_folder):\n",
    "                os.makedirs(outputs_folder)\n",
    "                \n",
    "            # BASELINE MEMORY USAGE                \n",
    "            notify(f\"Prior to Iterations\\t {torch.cuda.memory_allocated() / 1e6}\")\n",
    "            \n",
    "            # COUNT HOW MANY IMAGES\n",
    "            n_images = 0\n",
    "            \n",
    "            # ITERATE OVER REPEATS\n",
    "            for rep_id in tqdm(repeats, disable=verbose_level < 4):\n",
    "                for inputs, labels, filenames in tqdm(dataloaders[phase], leave=False):\n",
    "                    \n",
    "                    # SEND TO GPU\n",
    "                    inputs = inputs.to(device)\n",
    "                    labels = labels.to(device)\n",
    "                    labels = labels[:, 0, :, :].long()\n",
    "                    notify(f\"Datasets Moved\\t\\t {torch.cuda.memory_allocated()/ 1e6}\")\n",
    "                    \n",
    "                    # ZERO GRADIENTS AND THROUGH MODEL\n",
    "                    optimizer.zero_grad()\n",
    "                    outputs = model(inputs, resize=False)\n",
    "                    \n",
    "                    notify(f\"Outputs Processed\\t {torch.cuda.memory_allocated() / 1e6}\")\n",
    "                    \n",
    "                    # CALCULATE LOSS AND KEEP TRACK OF IT FOR CURRENT EPOCH\n",
    "                    \"\"\"print(outputs.shape)\n",
    "                    print(labels.shape)\n",
    "                    print(outputs)\n",
    "                    print(labels)\"\"\"\n",
    "                    loss = criterion(outputs, labels) \n",
    "                    if phase is 'train':\n",
    "                        epoch_loss[phase] += loss\n",
    "                    else:\n",
    "                        epoch_loss[phase] += loss.detach().cpu().numpy()\n",
    "                        \n",
    "                    iou_list[phase].append(calculate_iou(outputs, labels).detach().cpu().numpy())\n",
    "                    notify(f\"Loss Calculated\\t\\t {torch.cuda.memory_allocated() / 1e6}\")\n",
    "                    \n",
    "                    # COUNT HOW MANY IMAGES\n",
    "                    n_images += inputs.shape[0]\n",
    "                    \n",
    "                    # OPTIMIZE IF PHASE IS TRAINING\n",
    "                    if phase is 'train':\n",
    "                        notify(\"Optimizing\")\n",
    "                        loss.backward()\n",
    "                        optimizer.step()\n",
    "                        notify(f\"Backwards and optimized\\t {torch.cuda.memory_allocated() / 1e6}\")\n",
    "                    \n",
    "                    \n",
    "                    # SAVE TRAINING IMAGES IF CURRENT STEP REQUIRES IT\n",
    "                    \n",
    "                    # if rep_id % 2 == 0 and rep_id != 0:\n",
    "                    if random.randrange(0,100) < 2:\n",
    "                        prob_img_or = outputs.detach().cpu()\n",
    "                        minputs     = inputs.detach().cpu().numpy()\n",
    "                        mlabels     = labels.detach().cpu().numpy()\n",
    "                        saveImages(prob_img_or, outputs, filenames, minputs, outputs_folder, rep_id, mlabels)\n",
    "                        \n",
    "                    # EMPTY CACHE\n",
    "                    torch.cuda.empty_cache()\n",
    "                    notify(f\"Cache Emptied\\t\\t {torch.cuda.memory_allocated() / 1e6}\")\n",
    "                    \n",
    "            # METRICS - NORMALIZE EPOCH LOSS AND IOU BY HOW MANY IMAGES\n",
    "            if phase is 'train':\n",
    "                epoch_loss[phase] = epoch_loss[phase].cpu().detach().numpy() / (len(repeats) + n_images)\n",
    "            iou_list[phase]   = np.mean(np.vstack(iou_list[phase]), axis=0)\n",
    "        \n",
    "        # UPDATE LEARNING RATE SCHEDULER\n",
    "        lr_list.append(learning_rate_scheduler.get_lr()[0])\n",
    "        learning_rate_scheduler.step()\n",
    "        \n",
    "        # PLOT, FIRST BY TRANSFERING TO LISTS\n",
    "        for i in phases:\n",
    "            epoch_losses[i].append(epoch_loss[i])\n",
    "            iou_lists[i].append(iou_list[i])\n",
    "        \n",
    "        update_plots([epoch_losses[i] for i in phases], [iou_lists[i] for i in phases], fig, axs, \n",
    "                     colors=[\"r\", \"g\", \"b\", \"k\", \"orange\"]*2,\n",
    "                     annotations=f\"Learning Rate: {lr_list[-1]:.2e}, Epochs: {len(lr_list)}\"\n",
    "                    )\n",
    "        \n",
    "        # SAVE MODEL EVERY TEN EPOCHS\n",
    "        if epoch % 10 == 0:\n",
    "            torch.save({\n",
    "                'epoch': epoch,\n",
    "                'model_state_dict': model.state_dict(),\n",
    "                'optimizer_state_dict': optimizer.state_dict(),\n",
    "                'loss': loss,\n",
    "                'iou_lists' : iou_lists,\n",
    "                'epoch_losses' : epoch_losses,\n",
    "                'lr_list' : lr_list\n",
    "            }, r'C:\\Users\\fhacesga\\Desktop\\FIRMsDigitizing\\data\\FLNN\\checkpoint_111524_tiled.pth')\n",
    "            \n",
    "            torch.save(model, r\"C:\\Users\\fhacesga\\Desktop\\FIRMsDigitizing\\data\\FLNN\\111524_tiled.pth\")\n",
    "        \n",
    "    return model"
   ]
  },
  {
   "cell_type": "code",
   "execution_count": null,
   "id": "34d7dfee",
   "metadata": {},
   "outputs": [
    {
     "name": "stderr",
     "output_type": "stream",
     "text": [
      "C:\\Users\\fhacesga\\Anaconda3\\envs\\deeplearning\\lib\\site-packages\\torchvision\\models\\_utils.py:209: UserWarning: The parameter 'pretrained' is deprecated since 0.13 and may be removed in the future, please use 'weights' instead.\n",
      "  f\"The parameter '{pretrained_param}' is deprecated since 0.13 and may be removed in the future, \"\n",
      "C:\\Users\\fhacesga\\Anaconda3\\envs\\deeplearning\\lib\\site-packages\\torchvision\\models\\_utils.py:223: UserWarning: Arguments other than a weight enum or `None` for 'weights' are deprecated since 0.13 and may be removed in the future. The current behavior is equivalent to passing `weights=ResNet34_Weights.IMAGENET1K_V1`. You can also use `weights=ResNet34_Weights.DEFAULT` to get the most up-to-date weights.\n",
      "  warnings.warn(msg)\n"
     ]
    },
    {
     "data": {
      "application/javascript": [
       "/* Put everything inside the global mpl namespace */\n",
       "/* global mpl */\n",
       "window.mpl = {};\n",
       "\n",
       "mpl.get_websocket_type = function () {\n",
       "    if (typeof WebSocket !== 'undefined') {\n",
       "        return WebSocket;\n",
       "    } else if (typeof MozWebSocket !== 'undefined') {\n",
       "        return MozWebSocket;\n",
       "    } else {\n",
       "        alert(\n",
       "            'Your browser does not have WebSocket support. ' +\n",
       "                'Please try Chrome, Safari or Firefox ≥ 6. ' +\n",
       "                'Firefox 4 and 5 are also supported but you ' +\n",
       "                'have to enable WebSockets in about:config.'\n",
       "        );\n",
       "    }\n",
       "};\n",
       "\n",
       "mpl.figure = function (figure_id, websocket, ondownload, parent_element) {\n",
       "    this.id = figure_id;\n",
       "\n",
       "    this.ws = websocket;\n",
       "\n",
       "    this.supports_binary = this.ws.binaryType !== undefined;\n",
       "\n",
       "    if (!this.supports_binary) {\n",
       "        var warnings = document.getElementById('mpl-warnings');\n",
       "        if (warnings) {\n",
       "            warnings.style.display = 'block';\n",
       "            warnings.textContent =\n",
       "                'This browser does not support binary websocket messages. ' +\n",
       "                'Performance may be slow.';\n",
       "        }\n",
       "    }\n",
       "\n",
       "    this.imageObj = new Image();\n",
       "\n",
       "    this.context = undefined;\n",
       "    this.message = undefined;\n",
       "    this.canvas = undefined;\n",
       "    this.rubberband_canvas = undefined;\n",
       "    this.rubberband_context = undefined;\n",
       "    this.format_dropdown = undefined;\n",
       "\n",
       "    this.image_mode = 'full';\n",
       "\n",
       "    this.root = document.createElement('div');\n",
       "    this.root.setAttribute('style', 'display: inline-block');\n",
       "    this._root_extra_style(this.root);\n",
       "\n",
       "    parent_element.appendChild(this.root);\n",
       "\n",
       "    this._init_header(this);\n",
       "    this._init_canvas(this);\n",
       "    this._init_toolbar(this);\n",
       "\n",
       "    var fig = this;\n",
       "\n",
       "    this.waiting = false;\n",
       "\n",
       "    this.ws.onopen = function () {\n",
       "        fig.send_message('supports_binary', { value: fig.supports_binary });\n",
       "        fig.send_message('send_image_mode', {});\n",
       "        if (fig.ratio !== 1) {\n",
       "            fig.send_message('set_device_pixel_ratio', {\n",
       "                device_pixel_ratio: fig.ratio,\n",
       "            });\n",
       "        }\n",
       "        fig.send_message('refresh', {});\n",
       "    };\n",
       "\n",
       "    this.imageObj.onload = function () {\n",
       "        if (fig.image_mode === 'full') {\n",
       "            // Full images could contain transparency (where diff images\n",
       "            // almost always do), so we need to clear the canvas so that\n",
       "            // there is no ghosting.\n",
       "            fig.context.clearRect(0, 0, fig.canvas.width, fig.canvas.height);\n",
       "        }\n",
       "        fig.context.drawImage(fig.imageObj, 0, 0);\n",
       "    };\n",
       "\n",
       "    this.imageObj.onunload = function () {\n",
       "        fig.ws.close();\n",
       "    };\n",
       "\n",
       "    this.ws.onmessage = this._make_on_message_function(this);\n",
       "\n",
       "    this.ondownload = ondownload;\n",
       "};\n",
       "\n",
       "mpl.figure.prototype._init_header = function () {\n",
       "    var titlebar = document.createElement('div');\n",
       "    titlebar.classList =\n",
       "        'ui-dialog-titlebar ui-widget-header ui-corner-all ui-helper-clearfix';\n",
       "    var titletext = document.createElement('div');\n",
       "    titletext.classList = 'ui-dialog-title';\n",
       "    titletext.setAttribute(\n",
       "        'style',\n",
       "        'width: 100%; text-align: center; padding: 3px;'\n",
       "    );\n",
       "    titlebar.appendChild(titletext);\n",
       "    this.root.appendChild(titlebar);\n",
       "    this.header = titletext;\n",
       "};\n",
       "\n",
       "mpl.figure.prototype._canvas_extra_style = function (_canvas_div) {};\n",
       "\n",
       "mpl.figure.prototype._root_extra_style = function (_canvas_div) {};\n",
       "\n",
       "mpl.figure.prototype._init_canvas = function () {\n",
       "    var fig = this;\n",
       "\n",
       "    var canvas_div = (this.canvas_div = document.createElement('div'));\n",
       "    canvas_div.setAttribute(\n",
       "        'style',\n",
       "        'border: 1px solid #ddd;' +\n",
       "            'box-sizing: content-box;' +\n",
       "            'clear: both;' +\n",
       "            'min-height: 1px;' +\n",
       "            'min-width: 1px;' +\n",
       "            'outline: 0;' +\n",
       "            'overflow: hidden;' +\n",
       "            'position: relative;' +\n",
       "            'resize: both;'\n",
       "    );\n",
       "\n",
       "    function on_keyboard_event_closure(name) {\n",
       "        return function (event) {\n",
       "            return fig.key_event(event, name);\n",
       "        };\n",
       "    }\n",
       "\n",
       "    canvas_div.addEventListener(\n",
       "        'keydown',\n",
       "        on_keyboard_event_closure('key_press')\n",
       "    );\n",
       "    canvas_div.addEventListener(\n",
       "        'keyup',\n",
       "        on_keyboard_event_closure('key_release')\n",
       "    );\n",
       "\n",
       "    this._canvas_extra_style(canvas_div);\n",
       "    this.root.appendChild(canvas_div);\n",
       "\n",
       "    var canvas = (this.canvas = document.createElement('canvas'));\n",
       "    canvas.classList.add('mpl-canvas');\n",
       "    canvas.setAttribute('style', 'box-sizing: content-box;');\n",
       "\n",
       "    this.context = canvas.getContext('2d');\n",
       "\n",
       "    var backingStore =\n",
       "        this.context.backingStorePixelRatio ||\n",
       "        this.context.webkitBackingStorePixelRatio ||\n",
       "        this.context.mozBackingStorePixelRatio ||\n",
       "        this.context.msBackingStorePixelRatio ||\n",
       "        this.context.oBackingStorePixelRatio ||\n",
       "        this.context.backingStorePixelRatio ||\n",
       "        1;\n",
       "\n",
       "    this.ratio = (window.devicePixelRatio || 1) / backingStore;\n",
       "\n",
       "    var rubberband_canvas = (this.rubberband_canvas = document.createElement(\n",
       "        'canvas'\n",
       "    ));\n",
       "    rubberband_canvas.setAttribute(\n",
       "        'style',\n",
       "        'box-sizing: content-box; position: absolute; left: 0; top: 0; z-index: 1;'\n",
       "    );\n",
       "\n",
       "    // Apply a ponyfill if ResizeObserver is not implemented by browser.\n",
       "    if (this.ResizeObserver === undefined) {\n",
       "        if (window.ResizeObserver !== undefined) {\n",
       "            this.ResizeObserver = window.ResizeObserver;\n",
       "        } else {\n",
       "            var obs = _JSXTOOLS_RESIZE_OBSERVER({});\n",
       "            this.ResizeObserver = obs.ResizeObserver;\n",
       "        }\n",
       "    }\n",
       "\n",
       "    this.resizeObserverInstance = new this.ResizeObserver(function (entries) {\n",
       "        var nentries = entries.length;\n",
       "        for (var i = 0; i < nentries; i++) {\n",
       "            var entry = entries[i];\n",
       "            var width, height;\n",
       "            if (entry.contentBoxSize) {\n",
       "                if (entry.contentBoxSize instanceof Array) {\n",
       "                    // Chrome 84 implements new version of spec.\n",
       "                    width = entry.contentBoxSize[0].inlineSize;\n",
       "                    height = entry.contentBoxSize[0].blockSize;\n",
       "                } else {\n",
       "                    // Firefox implements old version of spec.\n",
       "                    width = entry.contentBoxSize.inlineSize;\n",
       "                    height = entry.contentBoxSize.blockSize;\n",
       "                }\n",
       "            } else {\n",
       "                // Chrome <84 implements even older version of spec.\n",
       "                width = entry.contentRect.width;\n",
       "                height = entry.contentRect.height;\n",
       "            }\n",
       "\n",
       "            // Keep the size of the canvas and rubber band canvas in sync with\n",
       "            // the canvas container.\n",
       "            if (entry.devicePixelContentBoxSize) {\n",
       "                // Chrome 84 implements new version of spec.\n",
       "                canvas.setAttribute(\n",
       "                    'width',\n",
       "                    entry.devicePixelContentBoxSize[0].inlineSize\n",
       "                );\n",
       "                canvas.setAttribute(\n",
       "                    'height',\n",
       "                    entry.devicePixelContentBoxSize[0].blockSize\n",
       "                );\n",
       "            } else {\n",
       "                canvas.setAttribute('width', width * fig.ratio);\n",
       "                canvas.setAttribute('height', height * fig.ratio);\n",
       "            }\n",
       "            canvas.setAttribute(\n",
       "                'style',\n",
       "                'width: ' + width + 'px; height: ' + height + 'px;'\n",
       "            );\n",
       "\n",
       "            rubberband_canvas.setAttribute('width', width);\n",
       "            rubberband_canvas.setAttribute('height', height);\n",
       "\n",
       "            // And update the size in Python. We ignore the initial 0/0 size\n",
       "            // that occurs as the element is placed into the DOM, which should\n",
       "            // otherwise not happen due to the minimum size styling.\n",
       "            if (fig.ws.readyState == 1 && width != 0 && height != 0) {\n",
       "                fig.request_resize(width, height);\n",
       "            }\n",
       "        }\n",
       "    });\n",
       "    this.resizeObserverInstance.observe(canvas_div);\n",
       "\n",
       "    function on_mouse_event_closure(name) {\n",
       "        return function (event) {\n",
       "            return fig.mouse_event(event, name);\n",
       "        };\n",
       "    }\n",
       "\n",
       "    rubberband_canvas.addEventListener(\n",
       "        'mousedown',\n",
       "        on_mouse_event_closure('button_press')\n",
       "    );\n",
       "    rubberband_canvas.addEventListener(\n",
       "        'mouseup',\n",
       "        on_mouse_event_closure('button_release')\n",
       "    );\n",
       "    rubberband_canvas.addEventListener(\n",
       "        'dblclick',\n",
       "        on_mouse_event_closure('dblclick')\n",
       "    );\n",
       "    // Throttle sequential mouse events to 1 every 20ms.\n",
       "    rubberband_canvas.addEventListener(\n",
       "        'mousemove',\n",
       "        on_mouse_event_closure('motion_notify')\n",
       "    );\n",
       "\n",
       "    rubberband_canvas.addEventListener(\n",
       "        'mouseenter',\n",
       "        on_mouse_event_closure('figure_enter')\n",
       "    );\n",
       "    rubberband_canvas.addEventListener(\n",
       "        'mouseleave',\n",
       "        on_mouse_event_closure('figure_leave')\n",
       "    );\n",
       "\n",
       "    canvas_div.addEventListener('wheel', function (event) {\n",
       "        if (event.deltaY < 0) {\n",
       "            event.step = 1;\n",
       "        } else {\n",
       "            event.step = -1;\n",
       "        }\n",
       "        on_mouse_event_closure('scroll')(event);\n",
       "    });\n",
       "\n",
       "    canvas_div.appendChild(canvas);\n",
       "    canvas_div.appendChild(rubberband_canvas);\n",
       "\n",
       "    this.rubberband_context = rubberband_canvas.getContext('2d');\n",
       "    this.rubberband_context.strokeStyle = '#000000';\n",
       "\n",
       "    this._resize_canvas = function (width, height, forward) {\n",
       "        if (forward) {\n",
       "            canvas_div.style.width = width + 'px';\n",
       "            canvas_div.style.height = height + 'px';\n",
       "        }\n",
       "    };\n",
       "\n",
       "    // Disable right mouse context menu.\n",
       "    this.rubberband_canvas.addEventListener('contextmenu', function (_e) {\n",
       "        event.preventDefault();\n",
       "        return false;\n",
       "    });\n",
       "\n",
       "    function set_focus() {\n",
       "        canvas.focus();\n",
       "        canvas_div.focus();\n",
       "    }\n",
       "\n",
       "    window.setTimeout(set_focus, 100);\n",
       "};\n",
       "\n",
       "mpl.figure.prototype._init_toolbar = function () {\n",
       "    var fig = this;\n",
       "\n",
       "    var toolbar = document.createElement('div');\n",
       "    toolbar.classList = 'mpl-toolbar';\n",
       "    this.root.appendChild(toolbar);\n",
       "\n",
       "    function on_click_closure(name) {\n",
       "        return function (_event) {\n",
       "            return fig.toolbar_button_onclick(name);\n",
       "        };\n",
       "    }\n",
       "\n",
       "    function on_mouseover_closure(tooltip) {\n",
       "        return function (event) {\n",
       "            if (!event.currentTarget.disabled) {\n",
       "                return fig.toolbar_button_onmouseover(tooltip);\n",
       "            }\n",
       "        };\n",
       "    }\n",
       "\n",
       "    fig.buttons = {};\n",
       "    var buttonGroup = document.createElement('div');\n",
       "    buttonGroup.classList = 'mpl-button-group';\n",
       "    for (var toolbar_ind in mpl.toolbar_items) {\n",
       "        var name = mpl.toolbar_items[toolbar_ind][0];\n",
       "        var tooltip = mpl.toolbar_items[toolbar_ind][1];\n",
       "        var image = mpl.toolbar_items[toolbar_ind][2];\n",
       "        var method_name = mpl.toolbar_items[toolbar_ind][3];\n",
       "\n",
       "        if (!name) {\n",
       "            /* Instead of a spacer, we start a new button group. */\n",
       "            if (buttonGroup.hasChildNodes()) {\n",
       "                toolbar.appendChild(buttonGroup);\n",
       "            }\n",
       "            buttonGroup = document.createElement('div');\n",
       "            buttonGroup.classList = 'mpl-button-group';\n",
       "            continue;\n",
       "        }\n",
       "\n",
       "        var button = (fig.buttons[name] = document.createElement('button'));\n",
       "        button.classList = 'mpl-widget';\n",
       "        button.setAttribute('role', 'button');\n",
       "        button.setAttribute('aria-disabled', 'false');\n",
       "        button.addEventListener('click', on_click_closure(method_name));\n",
       "        button.addEventListener('mouseover', on_mouseover_closure(tooltip));\n",
       "\n",
       "        var icon_img = document.createElement('img');\n",
       "        icon_img.src = '_images/' + image + '.png';\n",
       "        icon_img.srcset = '_images/' + image + '_large.png 2x';\n",
       "        icon_img.alt = tooltip;\n",
       "        button.appendChild(icon_img);\n",
       "\n",
       "        buttonGroup.appendChild(button);\n",
       "    }\n",
       "\n",
       "    if (buttonGroup.hasChildNodes()) {\n",
       "        toolbar.appendChild(buttonGroup);\n",
       "    }\n",
       "\n",
       "    var fmt_picker = document.createElement('select');\n",
       "    fmt_picker.classList = 'mpl-widget';\n",
       "    toolbar.appendChild(fmt_picker);\n",
       "    this.format_dropdown = fmt_picker;\n",
       "\n",
       "    for (var ind in mpl.extensions) {\n",
       "        var fmt = mpl.extensions[ind];\n",
       "        var option = document.createElement('option');\n",
       "        option.selected = fmt === mpl.default_extension;\n",
       "        option.innerHTML = fmt;\n",
       "        fmt_picker.appendChild(option);\n",
       "    }\n",
       "\n",
       "    var status_bar = document.createElement('span');\n",
       "    status_bar.classList = 'mpl-message';\n",
       "    toolbar.appendChild(status_bar);\n",
       "    this.message = status_bar;\n",
       "};\n",
       "\n",
       "mpl.figure.prototype.request_resize = function (x_pixels, y_pixels) {\n",
       "    // Request matplotlib to resize the figure. Matplotlib will then trigger a resize in the client,\n",
       "    // which will in turn request a refresh of the image.\n",
       "    this.send_message('resize', { width: x_pixels, height: y_pixels });\n",
       "};\n",
       "\n",
       "mpl.figure.prototype.send_message = function (type, properties) {\n",
       "    properties['type'] = type;\n",
       "    properties['figure_id'] = this.id;\n",
       "    this.ws.send(JSON.stringify(properties));\n",
       "};\n",
       "\n",
       "mpl.figure.prototype.send_draw_message = function () {\n",
       "    if (!this.waiting) {\n",
       "        this.waiting = true;\n",
       "        this.ws.send(JSON.stringify({ type: 'draw', figure_id: this.id }));\n",
       "    }\n",
       "};\n",
       "\n",
       "mpl.figure.prototype.handle_save = function (fig, _msg) {\n",
       "    var format_dropdown = fig.format_dropdown;\n",
       "    var format = format_dropdown.options[format_dropdown.selectedIndex].value;\n",
       "    fig.ondownload(fig, format);\n",
       "};\n",
       "\n",
       "mpl.figure.prototype.handle_resize = function (fig, msg) {\n",
       "    var size = msg['size'];\n",
       "    if (size[0] !== fig.canvas.width || size[1] !== fig.canvas.height) {\n",
       "        fig._resize_canvas(size[0], size[1], msg['forward']);\n",
       "        fig.send_message('refresh', {});\n",
       "    }\n",
       "};\n",
       "\n",
       "mpl.figure.prototype.handle_rubberband = function (fig, msg) {\n",
       "    var x0 = msg['x0'] / fig.ratio;\n",
       "    var y0 = (fig.canvas.height - msg['y0']) / fig.ratio;\n",
       "    var x1 = msg['x1'] / fig.ratio;\n",
       "    var y1 = (fig.canvas.height - msg['y1']) / fig.ratio;\n",
       "    x0 = Math.floor(x0) + 0.5;\n",
       "    y0 = Math.floor(y0) + 0.5;\n",
       "    x1 = Math.floor(x1) + 0.5;\n",
       "    y1 = Math.floor(y1) + 0.5;\n",
       "    var min_x = Math.min(x0, x1);\n",
       "    var min_y = Math.min(y0, y1);\n",
       "    var width = Math.abs(x1 - x0);\n",
       "    var height = Math.abs(y1 - y0);\n",
       "\n",
       "    fig.rubberband_context.clearRect(\n",
       "        0,\n",
       "        0,\n",
       "        fig.canvas.width / fig.ratio,\n",
       "        fig.canvas.height / fig.ratio\n",
       "    );\n",
       "\n",
       "    fig.rubberband_context.strokeRect(min_x, min_y, width, height);\n",
       "};\n",
       "\n",
       "mpl.figure.prototype.handle_figure_label = function (fig, msg) {\n",
       "    // Updates the figure title.\n",
       "    fig.header.textContent = msg['label'];\n",
       "};\n",
       "\n",
       "mpl.figure.prototype.handle_cursor = function (fig, msg) {\n",
       "    fig.rubberband_canvas.style.cursor = msg['cursor'];\n",
       "};\n",
       "\n",
       "mpl.figure.prototype.handle_message = function (fig, msg) {\n",
       "    fig.message.textContent = msg['message'];\n",
       "};\n",
       "\n",
       "mpl.figure.prototype.handle_draw = function (fig, _msg) {\n",
       "    // Request the server to send over a new figure.\n",
       "    fig.send_draw_message();\n",
       "};\n",
       "\n",
       "mpl.figure.prototype.handle_image_mode = function (fig, msg) {\n",
       "    fig.image_mode = msg['mode'];\n",
       "};\n",
       "\n",
       "mpl.figure.prototype.handle_history_buttons = function (fig, msg) {\n",
       "    for (var key in msg) {\n",
       "        if (!(key in fig.buttons)) {\n",
       "            continue;\n",
       "        }\n",
       "        fig.buttons[key].disabled = !msg[key];\n",
       "        fig.buttons[key].setAttribute('aria-disabled', !msg[key]);\n",
       "    }\n",
       "};\n",
       "\n",
       "mpl.figure.prototype.handle_navigate_mode = function (fig, msg) {\n",
       "    if (msg['mode'] === 'PAN') {\n",
       "        fig.buttons['Pan'].classList.add('active');\n",
       "        fig.buttons['Zoom'].classList.remove('active');\n",
       "    } else if (msg['mode'] === 'ZOOM') {\n",
       "        fig.buttons['Pan'].classList.remove('active');\n",
       "        fig.buttons['Zoom'].classList.add('active');\n",
       "    } else {\n",
       "        fig.buttons['Pan'].classList.remove('active');\n",
       "        fig.buttons['Zoom'].classList.remove('active');\n",
       "    }\n",
       "};\n",
       "\n",
       "mpl.figure.prototype.updated_canvas_event = function () {\n",
       "    // Called whenever the canvas gets updated.\n",
       "    this.send_message('ack', {});\n",
       "};\n",
       "\n",
       "// A function to construct a web socket function for onmessage handling.\n",
       "// Called in the figure constructor.\n",
       "mpl.figure.prototype._make_on_message_function = function (fig) {\n",
       "    return function socket_on_message(evt) {\n",
       "        if (evt.data instanceof Blob) {\n",
       "            var img = evt.data;\n",
       "            if (img.type !== 'image/png') {\n",
       "                /* FIXME: We get \"Resource interpreted as Image but\n",
       "                 * transferred with MIME type text/plain:\" errors on\n",
       "                 * Chrome.  But how to set the MIME type?  It doesn't seem\n",
       "                 * to be part of the websocket stream */\n",
       "                img.type = 'image/png';\n",
       "            }\n",
       "\n",
       "            /* Free the memory for the previous frames */\n",
       "            if (fig.imageObj.src) {\n",
       "                (window.URL || window.webkitURL).revokeObjectURL(\n",
       "                    fig.imageObj.src\n",
       "                );\n",
       "            }\n",
       "\n",
       "            fig.imageObj.src = (window.URL || window.webkitURL).createObjectURL(\n",
       "                img\n",
       "            );\n",
       "            fig.updated_canvas_event();\n",
       "            fig.waiting = false;\n",
       "            return;\n",
       "        } else if (\n",
       "            typeof evt.data === 'string' &&\n",
       "            evt.data.slice(0, 21) === 'data:image/png;base64'\n",
       "        ) {\n",
       "            fig.imageObj.src = evt.data;\n",
       "            fig.updated_canvas_event();\n",
       "            fig.waiting = false;\n",
       "            return;\n",
       "        }\n",
       "\n",
       "        var msg = JSON.parse(evt.data);\n",
       "        var msg_type = msg['type'];\n",
       "\n",
       "        // Call the  \"handle_{type}\" callback, which takes\n",
       "        // the figure and JSON message as its only arguments.\n",
       "        try {\n",
       "            var callback = fig['handle_' + msg_type];\n",
       "        } catch (e) {\n",
       "            console.log(\n",
       "                \"No handler for the '\" + msg_type + \"' message type: \",\n",
       "                msg\n",
       "            );\n",
       "            return;\n",
       "        }\n",
       "\n",
       "        if (callback) {\n",
       "            try {\n",
       "                // console.log(\"Handling '\" + msg_type + \"' message: \", msg);\n",
       "                callback(fig, msg);\n",
       "            } catch (e) {\n",
       "                console.log(\n",
       "                    \"Exception inside the 'handler_\" + msg_type + \"' callback:\",\n",
       "                    e,\n",
       "                    e.stack,\n",
       "                    msg\n",
       "                );\n",
       "            }\n",
       "        }\n",
       "    };\n",
       "};\n",
       "\n",
       "// from https://stackoverflow.com/questions/1114465/getting-mouse-location-in-canvas\n",
       "mpl.findpos = function (e) {\n",
       "    //this section is from http://www.quirksmode.org/js/events_properties.html\n",
       "    var targ;\n",
       "    if (!e) {\n",
       "        e = window.event;\n",
       "    }\n",
       "    if (e.target) {\n",
       "        targ = e.target;\n",
       "    } else if (e.srcElement) {\n",
       "        targ = e.srcElement;\n",
       "    }\n",
       "    if (targ.nodeType === 3) {\n",
       "        // defeat Safari bug\n",
       "        targ = targ.parentNode;\n",
       "    }\n",
       "\n",
       "    // pageX,Y are the mouse positions relative to the document\n",
       "    var boundingRect = targ.getBoundingClientRect();\n",
       "    var x = e.pageX - (boundingRect.left + document.body.scrollLeft);\n",
       "    var y = e.pageY - (boundingRect.top + document.body.scrollTop);\n",
       "\n",
       "    return { x: x, y: y };\n",
       "};\n",
       "\n",
       "/*\n",
       " * return a copy of an object with only non-object keys\n",
       " * we need this to avoid circular references\n",
       " * https://stackoverflow.com/a/24161582/3208463\n",
       " */\n",
       "function simpleKeys(original) {\n",
       "    return Object.keys(original).reduce(function (obj, key) {\n",
       "        if (typeof original[key] !== 'object') {\n",
       "            obj[key] = original[key];\n",
       "        }\n",
       "        return obj;\n",
       "    }, {});\n",
       "}\n",
       "\n",
       "mpl.figure.prototype.mouse_event = function (event, name) {\n",
       "    var canvas_pos = mpl.findpos(event);\n",
       "\n",
       "    if (name === 'button_press') {\n",
       "        this.canvas.focus();\n",
       "        this.canvas_div.focus();\n",
       "    }\n",
       "\n",
       "    var x = canvas_pos.x * this.ratio;\n",
       "    var y = canvas_pos.y * this.ratio;\n",
       "\n",
       "    this.send_message(name, {\n",
       "        x: x,\n",
       "        y: y,\n",
       "        button: event.button,\n",
       "        step: event.step,\n",
       "        guiEvent: simpleKeys(event),\n",
       "    });\n",
       "\n",
       "    /* This prevents the web browser from automatically changing to\n",
       "     * the text insertion cursor when the button is pressed.  We want\n",
       "     * to control all of the cursor setting manually through the\n",
       "     * 'cursor' event from matplotlib */\n",
       "    event.preventDefault();\n",
       "    return false;\n",
       "};\n",
       "\n",
       "mpl.figure.prototype._key_event_extra = function (_event, _name) {\n",
       "    // Handle any extra behaviour associated with a key event\n",
       "};\n",
       "\n",
       "mpl.figure.prototype.key_event = function (event, name) {\n",
       "    // Prevent repeat events\n",
       "    if (name === 'key_press') {\n",
       "        if (event.key === this._key) {\n",
       "            return;\n",
       "        } else {\n",
       "            this._key = event.key;\n",
       "        }\n",
       "    }\n",
       "    if (name === 'key_release') {\n",
       "        this._key = null;\n",
       "    }\n",
       "\n",
       "    var value = '';\n",
       "    if (event.ctrlKey && event.key !== 'Control') {\n",
       "        value += 'ctrl+';\n",
       "    }\n",
       "    else if (event.altKey && event.key !== 'Alt') {\n",
       "        value += 'alt+';\n",
       "    }\n",
       "    else if (event.shiftKey && event.key !== 'Shift') {\n",
       "        value += 'shift+';\n",
       "    }\n",
       "\n",
       "    value += 'k' + event.key;\n",
       "\n",
       "    this._key_event_extra(event, name);\n",
       "\n",
       "    this.send_message(name, { key: value, guiEvent: simpleKeys(event) });\n",
       "    return false;\n",
       "};\n",
       "\n",
       "mpl.figure.prototype.toolbar_button_onclick = function (name) {\n",
       "    if (name === 'download') {\n",
       "        this.handle_save(this, null);\n",
       "    } else {\n",
       "        this.send_message('toolbar_button', { name: name });\n",
       "    }\n",
       "};\n",
       "\n",
       "mpl.figure.prototype.toolbar_button_onmouseover = function (tooltip) {\n",
       "    this.message.textContent = tooltip;\n",
       "};\n",
       "\n",
       "///////////////// REMAINING CONTENT GENERATED BY embed_js.py /////////////////\n",
       "// prettier-ignore\n",
       "var _JSXTOOLS_RESIZE_OBSERVER=function(A){var t,i=new WeakMap,n=new WeakMap,a=new WeakMap,r=new WeakMap,o=new Set;function s(e){if(!(this instanceof s))throw new TypeError(\"Constructor requires 'new' operator\");i.set(this,e)}function h(){throw new TypeError(\"Function is not a constructor\")}function c(e,t,i,n){e=0 in arguments?Number(arguments[0]):0,t=1 in arguments?Number(arguments[1]):0,i=2 in arguments?Number(arguments[2]):0,n=3 in arguments?Number(arguments[3]):0,this.right=(this.x=this.left=e)+(this.width=i),this.bottom=(this.y=this.top=t)+(this.height=n),Object.freeze(this)}function d(){t=requestAnimationFrame(d);var s=new WeakMap,p=new Set;o.forEach((function(t){r.get(t).forEach((function(i){var r=t instanceof window.SVGElement,o=a.get(t),d=r?0:parseFloat(o.paddingTop),f=r?0:parseFloat(o.paddingRight),l=r?0:parseFloat(o.paddingBottom),u=r?0:parseFloat(o.paddingLeft),g=r?0:parseFloat(o.borderTopWidth),m=r?0:parseFloat(o.borderRightWidth),w=r?0:parseFloat(o.borderBottomWidth),b=u+f,F=d+l,v=(r?0:parseFloat(o.borderLeftWidth))+m,W=g+w,y=r?0:t.offsetHeight-W-t.clientHeight,E=r?0:t.offsetWidth-v-t.clientWidth,R=b+v,z=F+W,M=r?t.width:parseFloat(o.width)-R-E,O=r?t.height:parseFloat(o.height)-z-y;if(n.has(t)){var k=n.get(t);if(k[0]===M&&k[1]===O)return}n.set(t,[M,O]);var S=Object.create(h.prototype);S.target=t,S.contentRect=new c(u,d,M,O),s.has(i)||(s.set(i,[]),p.add(i)),s.get(i).push(S)}))})),p.forEach((function(e){i.get(e).call(e,s.get(e),e)}))}return s.prototype.observe=function(i){if(i instanceof window.Element){r.has(i)||(r.set(i,new Set),o.add(i),a.set(i,window.getComputedStyle(i)));var n=r.get(i);n.has(this)||n.add(this),cancelAnimationFrame(t),t=requestAnimationFrame(d)}},s.prototype.unobserve=function(i){if(i instanceof window.Element&&r.has(i)){var n=r.get(i);n.has(this)&&(n.delete(this),n.size||(r.delete(i),o.delete(i))),n.size||r.delete(i),o.size||cancelAnimationFrame(t)}},A.DOMRectReadOnly=c,A.ResizeObserver=s,A.ResizeObserverEntry=h,A}; // eslint-disable-line\n",
       "mpl.toolbar_items = [[\"Home\", \"Reset original view\", \"fa fa-home icon-home\", \"home\"], [\"Back\", \"Back to previous view\", \"fa fa-arrow-left icon-arrow-left\", \"back\"], [\"Forward\", \"Forward to next view\", \"fa fa-arrow-right icon-arrow-right\", \"forward\"], [\"\", \"\", \"\", \"\"], [\"Pan\", \"Left button pans, Right button zooms\\nx/y fixes axis, CTRL fixes aspect\", \"fa fa-arrows icon-move\", \"pan\"], [\"Zoom\", \"Zoom to rectangle\\nx/y fixes axis\", \"fa fa-square-o icon-check-empty\", \"zoom\"], [\"\", \"\", \"\", \"\"], [\"Download\", \"Download plot\", \"fa fa-floppy-o icon-save\", \"download\"]];\n",
       "\n",
       "mpl.extensions = [\"eps\", \"jpeg\", \"pgf\", \"pdf\", \"png\", \"ps\", \"raw\", \"svg\", \"tif\"];\n",
       "\n",
       "mpl.default_extension = \"png\";/* global mpl */\n",
       "\n",
       "var comm_websocket_adapter = function (comm) {\n",
       "    // Create a \"websocket\"-like object which calls the given IPython comm\n",
       "    // object with the appropriate methods. Currently this is a non binary\n",
       "    // socket, so there is still some room for performance tuning.\n",
       "    var ws = {};\n",
       "\n",
       "    ws.binaryType = comm.kernel.ws.binaryType;\n",
       "    ws.readyState = comm.kernel.ws.readyState;\n",
       "    function updateReadyState(_event) {\n",
       "        if (comm.kernel.ws) {\n",
       "            ws.readyState = comm.kernel.ws.readyState;\n",
       "        } else {\n",
       "            ws.readyState = 3; // Closed state.\n",
       "        }\n",
       "    }\n",
       "    comm.kernel.ws.addEventListener('open', updateReadyState);\n",
       "    comm.kernel.ws.addEventListener('close', updateReadyState);\n",
       "    comm.kernel.ws.addEventListener('error', updateReadyState);\n",
       "\n",
       "    ws.close = function () {\n",
       "        comm.close();\n",
       "    };\n",
       "    ws.send = function (m) {\n",
       "        //console.log('sending', m);\n",
       "        comm.send(m);\n",
       "    };\n",
       "    // Register the callback with on_msg.\n",
       "    comm.on_msg(function (msg) {\n",
       "        //console.log('receiving', msg['content']['data'], msg);\n",
       "        var data = msg['content']['data'];\n",
       "        if (data['blob'] !== undefined) {\n",
       "            data = {\n",
       "                data: new Blob(msg['buffers'], { type: data['blob'] }),\n",
       "            };\n",
       "        }\n",
       "        // Pass the mpl event to the overridden (by mpl) onmessage function.\n",
       "        ws.onmessage(data);\n",
       "    });\n",
       "    return ws;\n",
       "};\n",
       "\n",
       "mpl.mpl_figure_comm = function (comm, msg) {\n",
       "    // This is the function which gets called when the mpl process\n",
       "    // starts-up an IPython Comm through the \"matplotlib\" channel.\n",
       "\n",
       "    var id = msg.content.data.id;\n",
       "    // Get hold of the div created by the display call when the Comm\n",
       "    // socket was opened in Python.\n",
       "    var element = document.getElementById(id);\n",
       "    var ws_proxy = comm_websocket_adapter(comm);\n",
       "\n",
       "    function ondownload(figure, _format) {\n",
       "        window.open(figure.canvas.toDataURL());\n",
       "    }\n",
       "\n",
       "    var fig = new mpl.figure(id, ws_proxy, ondownload, element);\n",
       "\n",
       "    // Call onopen now - mpl needs it, as it is assuming we've passed it a real\n",
       "    // web socket which is closed, not our websocket->open comm proxy.\n",
       "    ws_proxy.onopen();\n",
       "\n",
       "    fig.parent_element = element;\n",
       "    fig.cell_info = mpl.find_output_cell(\"<div id='\" + id + \"'></div>\");\n",
       "    if (!fig.cell_info) {\n",
       "        console.error('Failed to find cell for figure', id, fig);\n",
       "        return;\n",
       "    }\n",
       "    fig.cell_info[0].output_area.element.on(\n",
       "        'cleared',\n",
       "        { fig: fig },\n",
       "        fig._remove_fig_handler\n",
       "    );\n",
       "};\n",
       "\n",
       "mpl.figure.prototype.handle_close = function (fig, msg) {\n",
       "    var width = fig.canvas.width / fig.ratio;\n",
       "    fig.cell_info[0].output_area.element.off(\n",
       "        'cleared',\n",
       "        fig._remove_fig_handler\n",
       "    );\n",
       "    fig.resizeObserverInstance.unobserve(fig.canvas_div);\n",
       "\n",
       "    // Update the output cell to use the data from the current canvas.\n",
       "    fig.push_to_output();\n",
       "    var dataURL = fig.canvas.toDataURL();\n",
       "    // Re-enable the keyboard manager in IPython - without this line, in FF,\n",
       "    // the notebook keyboard shortcuts fail.\n",
       "    IPython.keyboard_manager.enable();\n",
       "    fig.parent_element.innerHTML =\n",
       "        '<img src=\"' + dataURL + '\" width=\"' + width + '\">';\n",
       "    fig.close_ws(fig, msg);\n",
       "};\n",
       "\n",
       "mpl.figure.prototype.close_ws = function (fig, msg) {\n",
       "    fig.send_message('closing', msg);\n",
       "    // fig.ws.close()\n",
       "};\n",
       "\n",
       "mpl.figure.prototype.push_to_output = function (_remove_interactive) {\n",
       "    // Turn the data on the canvas into data in the output cell.\n",
       "    var width = this.canvas.width / this.ratio;\n",
       "    var dataURL = this.canvas.toDataURL();\n",
       "    this.cell_info[1]['text/html'] =\n",
       "        '<img src=\"' + dataURL + '\" width=\"' + width + '\">';\n",
       "};\n",
       "\n",
       "mpl.figure.prototype.updated_canvas_event = function () {\n",
       "    // Tell IPython that the notebook contents must change.\n",
       "    IPython.notebook.set_dirty(true);\n",
       "    this.send_message('ack', {});\n",
       "    var fig = this;\n",
       "    // Wait a second, then push the new image to the DOM so\n",
       "    // that it is saved nicely (might be nice to debounce this).\n",
       "    setTimeout(function () {\n",
       "        fig.push_to_output();\n",
       "    }, 1000);\n",
       "};\n",
       "\n",
       "mpl.figure.prototype._init_toolbar = function () {\n",
       "    var fig = this;\n",
       "\n",
       "    var toolbar = document.createElement('div');\n",
       "    toolbar.classList = 'btn-toolbar';\n",
       "    this.root.appendChild(toolbar);\n",
       "\n",
       "    function on_click_closure(name) {\n",
       "        return function (_event) {\n",
       "            return fig.toolbar_button_onclick(name);\n",
       "        };\n",
       "    }\n",
       "\n",
       "    function on_mouseover_closure(tooltip) {\n",
       "        return function (event) {\n",
       "            if (!event.currentTarget.disabled) {\n",
       "                return fig.toolbar_button_onmouseover(tooltip);\n",
       "            }\n",
       "        };\n",
       "    }\n",
       "\n",
       "    fig.buttons = {};\n",
       "    var buttonGroup = document.createElement('div');\n",
       "    buttonGroup.classList = 'btn-group';\n",
       "    var button;\n",
       "    for (var toolbar_ind in mpl.toolbar_items) {\n",
       "        var name = mpl.toolbar_items[toolbar_ind][0];\n",
       "        var tooltip = mpl.toolbar_items[toolbar_ind][1];\n",
       "        var image = mpl.toolbar_items[toolbar_ind][2];\n",
       "        var method_name = mpl.toolbar_items[toolbar_ind][3];\n",
       "\n",
       "        if (!name) {\n",
       "            /* Instead of a spacer, we start a new button group. */\n",
       "            if (buttonGroup.hasChildNodes()) {\n",
       "                toolbar.appendChild(buttonGroup);\n",
       "            }\n",
       "            buttonGroup = document.createElement('div');\n",
       "            buttonGroup.classList = 'btn-group';\n",
       "            continue;\n",
       "        }\n",
       "\n",
       "        button = fig.buttons[name] = document.createElement('button');\n",
       "        button.classList = 'btn btn-default';\n",
       "        button.href = '#';\n",
       "        button.title = name;\n",
       "        button.innerHTML = '<i class=\"fa ' + image + ' fa-lg\"></i>';\n",
       "        button.addEventListener('click', on_click_closure(method_name));\n",
       "        button.addEventListener('mouseover', on_mouseover_closure(tooltip));\n",
       "        buttonGroup.appendChild(button);\n",
       "    }\n",
       "\n",
       "    if (buttonGroup.hasChildNodes()) {\n",
       "        toolbar.appendChild(buttonGroup);\n",
       "    }\n",
       "\n",
       "    // Add the status bar.\n",
       "    var status_bar = document.createElement('span');\n",
       "    status_bar.classList = 'mpl-message pull-right';\n",
       "    toolbar.appendChild(status_bar);\n",
       "    this.message = status_bar;\n",
       "\n",
       "    // Add the close button to the window.\n",
       "    var buttongrp = document.createElement('div');\n",
       "    buttongrp.classList = 'btn-group inline pull-right';\n",
       "    button = document.createElement('button');\n",
       "    button.classList = 'btn btn-mini btn-primary';\n",
       "    button.href = '#';\n",
       "    button.title = 'Stop Interaction';\n",
       "    button.innerHTML = '<i class=\"fa fa-power-off icon-remove icon-large\"></i>';\n",
       "    button.addEventListener('click', function (_evt) {\n",
       "        fig.handle_close(fig, {});\n",
       "    });\n",
       "    button.addEventListener(\n",
       "        'mouseover',\n",
       "        on_mouseover_closure('Stop Interaction')\n",
       "    );\n",
       "    buttongrp.appendChild(button);\n",
       "    var titlebar = this.root.querySelector('.ui-dialog-titlebar');\n",
       "    titlebar.insertBefore(buttongrp, titlebar.firstChild);\n",
       "};\n",
       "\n",
       "mpl.figure.prototype._remove_fig_handler = function (event) {\n",
       "    var fig = event.data.fig;\n",
       "    if (event.target !== this) {\n",
       "        // Ignore bubbled events from children.\n",
       "        return;\n",
       "    }\n",
       "    fig.close_ws(fig, {});\n",
       "};\n",
       "\n",
       "mpl.figure.prototype._root_extra_style = function (el) {\n",
       "    el.style.boxSizing = 'content-box'; // override notebook setting of border-box.\n",
       "};\n",
       "\n",
       "mpl.figure.prototype._canvas_extra_style = function (el) {\n",
       "    // this is important to make the div 'focusable\n",
       "    el.setAttribute('tabindex', 0);\n",
       "    // reach out to IPython and tell the keyboard manager to turn it's self\n",
       "    // off when our div gets focus\n",
       "\n",
       "    // location in version 3\n",
       "    if (IPython.notebook.keyboard_manager) {\n",
       "        IPython.notebook.keyboard_manager.register_events(el);\n",
       "    } else {\n",
       "        // location in version 2\n",
       "        IPython.keyboard_manager.register_events(el);\n",
       "    }\n",
       "};\n",
       "\n",
       "mpl.figure.prototype._key_event_extra = function (event, _name) {\n",
       "    // Check for shift+enter\n",
       "    if (event.shiftKey && event.which === 13) {\n",
       "        this.canvas_div.blur();\n",
       "        // select the cell after this one\n",
       "        var index = IPython.notebook.find_cell_index(this.cell_info[0]);\n",
       "        IPython.notebook.select(index + 1);\n",
       "    }\n",
       "};\n",
       "\n",
       "mpl.figure.prototype.handle_save = function (fig, _msg) {\n",
       "    fig.ondownload(fig, null);\n",
       "};\n",
       "\n",
       "mpl.find_output_cell = function (html_output) {\n",
       "    // Return the cell and output element which can be found *uniquely* in the notebook.\n",
       "    // Note - this is a bit hacky, but it is done because the \"notebook_saving.Notebook\"\n",
       "    // IPython event is triggered only after the cells have been serialised, which for\n",
       "    // our purposes (turning an active figure into a static one), is too late.\n",
       "    var cells = IPython.notebook.get_cells();\n",
       "    var ncells = cells.length;\n",
       "    for (var i = 0; i < ncells; i++) {\n",
       "        var cell = cells[i];\n",
       "        if (cell.cell_type === 'code') {\n",
       "            for (var j = 0; j < cell.output_area.outputs.length; j++) {\n",
       "                var data = cell.output_area.outputs[j];\n",
       "                if (data.data) {\n",
       "                    // IPython >= 3 moved mimebundle to data attribute of output\n",
       "                    data = data.data;\n",
       "                }\n",
       "                if (data['text/html'] === html_output) {\n",
       "                    return [cell, data, j];\n",
       "                }\n",
       "            }\n",
       "        }\n",
       "    }\n",
       "};\n",
       "\n",
       "// Register the function which deals with the matplotlib target/channel.\n",
       "// The kernel may be null if the page has been refreshed.\n",
       "if (IPython.notebook.kernel !== null) {\n",
       "    IPython.notebook.kernel.comm_manager.register_target(\n",
       "        'matplotlib',\n",
       "        mpl.mpl_figure_comm\n",
       "    );\n",
       "}\n"
      ],
      "text/plain": [
       "<IPython.core.display.Javascript object>"
      ]
     },
     "metadata": {},
     "output_type": "display_data"
    },
    {
     "data": {
      "text/html": [
       "<img src=\"data:image/png;base64,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\" width=\"640\">"
      ],
      "text/plain": [
       "<IPython.core.display.HTML object>"
      ]
     },
     "metadata": {},
     "output_type": "display_data"
    },
    {
     "data": {
      "application/vnd.jupyter.widget-view+json": {
       "model_id": "",
       "version_major": 2,
       "version_minor": 0
      },
      "text/plain": [
       "  0%|          | 0/1253 [00:00<?, ?it/s]"
      ]
     },
     "metadata": {},
     "output_type": "display_data"
    },
    {
     "data": {
      "application/vnd.jupyter.widget-view+json": {
       "model_id": "",
       "version_major": 2,
       "version_minor": 0
      },
      "text/plain": [
       "  0%|          | 0/121 [00:00<?, ?it/s]"
      ]
     },
     "metadata": {},
     "output_type": "display_data"
    },
    {
     "name": "stderr",
     "output_type": "stream",
     "text": [
      "C:\\Users\\fhacesga\\Anaconda3\\envs\\deeplearning\\lib\\site-packages\\torch\\optim\\lr_scheduler.py:382: UserWarning: To get the last learning rate computed by the scheduler, please use `get_last_lr()`.\n",
      "  \"please use `get_last_lr()`.\", UserWarning)\n"
     ]
    },
    {
     "data": {
      "application/vnd.jupyter.widget-view+json": {
       "model_id": "",
       "version_major": 2,
       "version_minor": 0
      },
      "text/plain": [
       "  0%|          | 0/1253 [00:00<?, ?it/s]"
      ]
     },
     "metadata": {},
     "output_type": "display_data"
    },
    {
     "data": {
      "application/vnd.jupyter.widget-view+json": {
       "model_id": "",
       "version_major": 2,
       "version_minor": 0
      },
      "text/plain": [
       "  0%|          | 0/121 [00:00<?, ?it/s]"
      ]
     },
     "metadata": {},
     "output_type": "display_data"
    },
    {
     "data": {
      "application/vnd.jupyter.widget-view+json": {
       "model_id": "3f1ed2bb732a4b21b32b92f52f9beb2b",
       "version_major": 2,
       "version_minor": 0
      },
      "text/plain": [
       "  0%|          | 0/1253 [00:00<?, ?it/s]"
      ]
     },
     "metadata": {},
     "output_type": "display_data"
    }
   ],
   "source": [
    "class WrapperTPNN(nn.Module):\n",
    "    def __init__(self, tpnn_model, input_channels=1, target_channels=2):\n",
    "        \"\"\"\n",
    "        A wrapper around the TPNN model that adapts single-channel input for the existing model.\n",
    "\n",
    "        Args:\n",
    "            tpnn_model (nn.Module): The pretrained TPNN model.\n",
    "            input_channels (int): Number of input channels (e.g., 1 for grayscale).\n",
    "            target_channels (int): Target number of channels for the adapted model.\n",
    "        \"\"\"\n",
    "        super(WrapperTPNN, self).__init__()\n",
    "        self.tpnn = tpnn_model\n",
    "        \n",
    "        # Upchanneling layer to convert single-channel input to multi-channel\n",
    "        self.upchannel = nn.Conv2d(input_channels, target_channels, kernel_size=1)\n",
    "\n",
    "    def forward(self, x, resize=False):\n",
    "        # Upchannel the input\n",
    "        x = self.upchannel(x)\n",
    "        \n",
    "        # Pass through the original TPNN model\n",
    "        return self.tpnn(x, resize=resize)\n",
    "\n",
    "or_model = TPNN(num_classes=3, finalpadding=1, inputsize=2)\n",
    "checkpoint = torch.load(r\"C:\\Users\\fhacesga\\Desktop\\FIRMsDigitizing\\data\\FLNN\\checkpoint_021524.pth\")\n",
    "or_model.load_state_dict(checkpoint['model_state_dict'])\n",
    "model = WrapperTPNN(or_model, input_channels=1, target_channels=2)\n",
    "\n",
    "model = train(model, loaders, num_epochs=5000, learning_rate=1e-3,\n",
    "              # continue_from=r\"C:\\Users\\fhacesga\\Desktop\\FIRMsDigitizing\\data\\FLNN\\checkpoint_111324_2.pth\"\n",
    "             )"
   ]
  }
 ],
 "metadata": {
  "kernelspec": {
   "display_name": "Python 3 (ipykernel)",
   "language": "python",
   "name": "python3"
  },
  "language_info": {
   "codemirror_mode": {
    "name": "ipython",
    "version": 3
   },
   "file_extension": ".py",
   "mimetype": "text/x-python",
   "name": "python",
   "nbconvert_exporter": "python",
   "pygments_lexer": "ipython3",
   "version": "3.7.12"
  },
  "widgets": {
   "application/vnd.jupyter.widget-state+json": {
    "state": {
     "000a0ce30ef84bfc8ab5b9c23b221bc4": {
      "model_module": "@jupyter-widgets/controls",
      "model_module_version": "2.0.0",
      "model_name": "ProgressStyleModel",
      "state": {
       "description_width": ""
      }
     },
     "0023fc3242d845c783fb42d2e5d68a32": {
      "model_module": "@jupyter-widgets/controls",
      "model_module_version": "2.0.0",
      "model_name": "HBoxModel",
      "state": {
       "children": [
        "IPY_MODEL_5707ef96db714ec0a3f2f9dbe98908c9",
        "IPY_MODEL_8f3469b12b6d41cca996c3174a8a94d3",
        "IPY_MODEL_69fd7e6e13c94f61a5ebb811aa394333"
       ],
       "layout": "IPY_MODEL_5a7402acea7c46b7acc62d232cbaafda"
      }
     },
     "0063857eab204d448a73753b8424dbad": {
      "model_module": "@jupyter-widgets/controls",
      "model_module_version": "2.0.0",
      "model_name": "HTMLModel",
      "state": {
       "layout": "IPY_MODEL_94b354bd31db4240b3abce5878a7f39e",
       "style": "IPY_MODEL_acdac6e8397d4097ba9b78f5a31f3293",
       "value": "100%"
      }
     },
     "009b2957b305415891bb4aed8cebb918": {
      "model_module": "@jupyter-widgets/controls",
      "model_module_version": "2.0.0",
      "model_name": "DescriptionStyleModel",
      "state": {
       "description_width": ""
      }
     },
     "009e9b31c50b45ce98d8d25a7a492aac": {
      "model_module": "@jupyter-widgets/controls",
      "model_module_version": "2.0.0",
      "model_name": "HTMLModel",
      "state": {
       "layout": "IPY_MODEL_f1cadea86f4349a5ab89df8c16368f3f",
       "style": "IPY_MODEL_2a75bc70851b42b69eacea7343414dbb",
       "value": "100%"
      }
     },
     "01d8b4a699f146feb03b588bf69025c8": {
      "model_module": "@jupyter-widgets/base",
      "model_module_version": "2.0.0",
      "model_name": "LayoutModel",
      "state": {}
     },
     "01d8f884022a47efb55c154520a685d5": {
      "model_module": "@jupyter-widgets/controls",
      "model_module_version": "2.0.0",
      "model_name": "ProgressStyleModel",
      "state": {
       "description_width": ""
      }
     },
     "01e5af5b26df48c68e2a60acda563670": {
      "model_module": "@jupyter-widgets/base",
      "model_module_version": "2.0.0",
      "model_name": "LayoutModel",
      "state": {}
     },
     "0264a0f5edbd4d84b646529d5900ab46": {
      "model_module": "@jupyter-widgets/base",
      "model_module_version": "2.0.0",
      "model_name": "LayoutModel",
      "state": {}
     },
     "029642dfa78247a18b8c1e5fe6452dda": {
      "model_module": "@jupyter-widgets/controls",
      "model_module_version": "2.0.0",
      "model_name": "DescriptionStyleModel",
      "state": {
       "description_width": ""
      }
     },
     "0325411a73a24e76a5a828c1af2f77f4": {
      "model_module": "@jupyter-widgets/controls",
      "model_module_version": "2.0.0",
      "model_name": "DescriptionStyleModel",
      "state": {
       "description_width": ""
      }
     },
     "0336f4a7a20b426fb438fe3bf7ed82b3": {
      "model_module": "@jupyter-widgets/controls",
      "model_module_version": "2.0.0",
      "model_name": "HBoxModel",
      "state": {
       "children": [
        "IPY_MODEL_03cb0af0e762481c9c64df8c86d59f64",
        "IPY_MODEL_4fdb5b1c4a484c5692ff2224cb3311ef",
        "IPY_MODEL_810d595243204b40860e6dae8429371f"
       ],
       "layout": "IPY_MODEL_bc9b146a311b4e43864c0885a0d6254b"
      }
     },
     "0365c814a1964bfa8a174f66d432d2d8": {
      "model_module": "@jupyter-widgets/controls",
      "model_module_version": "2.0.0",
      "model_name": "HTMLModel",
      "state": {
       "layout": "IPY_MODEL_a440e087f1764e1f8107f2d1e11088f3",
       "style": "IPY_MODEL_9b24a19000ef42af8a952c53a70a91cf",
       "value": " 6/6 [00:08&lt;00:00,  1.97s/it]"
      }
     },
     "03a3d629e6154eacaca8081c71a01b2b": {
      "model_module": "@jupyter-widgets/base",
      "model_module_version": "2.0.0",
      "model_name": "LayoutModel",
      "state": {}
     },
     "03a96f3c2a024b0f94090e89d31f9e0a": {
      "model_module": "@jupyter-widgets/base",
      "model_module_version": "2.0.0",
      "model_name": "LayoutModel",
      "state": {}
     },
     "03cb0af0e762481c9c64df8c86d59f64": {
      "model_module": "@jupyter-widgets/controls",
      "model_module_version": "2.0.0",
      "model_name": "HTMLModel",
      "state": {
       "layout": "IPY_MODEL_efc52319653d4b0bbd451e539181b0fa",
       "style": "IPY_MODEL_e107e09de9494b96ba9563b361cbfa93",
       "value": "100%"
      }
     },
     "03cf710d075a49579d410930b6fbacf4": {
      "model_module": "@jupyter-widgets/base",
      "model_module_version": "2.0.0",
      "model_name": "LayoutModel",
      "state": {}
     },
     "042be28fa0bb441d96647ac61c3f1187": {
      "model_module": "@jupyter-widgets/base",
      "model_module_version": "2.0.0",
      "model_name": "LayoutModel",
      "state": {}
     },
     "055973be849e46938f53875663039720": {
      "model_module": "@jupyter-widgets/base",
      "model_module_version": "2.0.0",
      "model_name": "LayoutModel",
      "state": {}
     },
     "05780041cc8a43a09595c7e527476426": {
      "model_module": "@jupyter-widgets/controls",
      "model_module_version": "2.0.0",
      "model_name": "HBoxModel",
      "state": {
       "children": [
        "IPY_MODEL_c0bc0ed166f748e898629d44ab3ed1a8",
        "IPY_MODEL_3d11387ee5bf45a7841f88bcba010856",
        "IPY_MODEL_9b1bd763907b42879195badd1b69a3e8"
       ],
       "layout": "IPY_MODEL_5fc4e3b1da1c478ea141c911c4e76b5e"
      }
     },
     "05b3bfdeba8148b8b4f9e8a220a48ad1": {
      "model_module": "@jupyter-widgets/controls",
      "model_module_version": "2.0.0",
      "model_name": "FloatProgressModel",
      "state": {
       "bar_style": "success",
       "layout": "IPY_MODEL_a001f2d8f0ac46178a6eaf43f36f248e",
       "max": 3,
       "style": "IPY_MODEL_b4844e9f7ac840f8932292a6e55f54c4",
       "value": 3
      }
     },
     "05ce7d2dcc9c42a1a4657f9cae9edea1": {
      "model_module": "@jupyter-widgets/base",
      "model_module_version": "2.0.0",
      "model_name": "LayoutModel",
      "state": {}
     },
     "066b157993bf44e680f38377fd313131": {
      "model_module": "@jupyter-widgets/controls",
      "model_module_version": "2.0.0",
      "model_name": "HBoxModel",
      "state": {
       "children": [
        "IPY_MODEL_e3713f550fe34209b0ca21db1baa24aa",
        "IPY_MODEL_e5d5e45fb4914148aa722874d820f5b3",
        "IPY_MODEL_dd4cfe4c1c19432d814165e8bfcadbdb"
       ],
       "layout": "IPY_MODEL_8588cbf7c52d4f418839811101f446cc"
      }
     },
     "069d1da5bb904bb092d378f310a159d1": {
      "model_module": "@jupyter-widgets/controls",
      "model_module_version": "2.0.0",
      "model_name": "ProgressStyleModel",
      "state": {
       "description_width": ""
      }
     },
     "06cd218c9ce0406090f8b3651b412fe3": {
      "model_module": "@jupyter-widgets/base",
      "model_module_version": "2.0.0",
      "model_name": "LayoutModel",
      "state": {}
     },
     "06d57aa711be4630a00b75bef4214d4c": {
      "model_module": "@jupyter-widgets/base",
      "model_module_version": "2.0.0",
      "model_name": "LayoutModel",
      "state": {}
     },
     "06e11f82b78947988f5e6a40a8d2f191": {
      "model_module": "@jupyter-widgets/controls",
      "model_module_version": "2.0.0",
      "model_name": "DescriptionStyleModel",
      "state": {
       "description_width": ""
      }
     },
     "06e417298e2e4c93bfd44db90d47d077": {
      "model_module": "@jupyter-widgets/controls",
      "model_module_version": "2.0.0",
      "model_name": "HTMLModel",
      "state": {
       "layout": "IPY_MODEL_3979d488f5ca4bb7b9752f190f516e49",
       "style": "IPY_MODEL_23d02aee6f02490688abd31c971c5a82",
       "value": "100%"
      }
     },
     "07019ea46ea046e0b87c8e4a25c6963b": {
      "model_module": "@jupyter-widgets/controls",
      "model_module_version": "2.0.0",
      "model_name": "HTMLModel",
      "state": {
       "layout": "IPY_MODEL_f27ed8d568e3443b8ebfc12dea126023",
       "style": "IPY_MODEL_8ccf6c8ad7a94dee96a0b8f1c326da34",
       "value": "100%"
      }
     },
     "0753c14d260c47b4b76e724d61b7626e": {
      "model_module": "@jupyter-widgets/controls",
      "model_module_version": "2.0.0",
      "model_name": "HTMLModel",
      "state": {
       "layout": "IPY_MODEL_f1cf5257a926489ebdcef6587525d199",
       "style": "IPY_MODEL_86408805e10e4b36b31272710102a681",
       "value": " 6/6 [00:11&lt;00:00,  2.79s/it]"
      }
     },
     "078d87136b9142e9acb4789c407b5e78": {
      "model_module": "@jupyter-widgets/controls",
      "model_module_version": "2.0.0",
      "model_name": "HBoxModel",
      "state": {
       "children": [
        "IPY_MODEL_7a5f3f054d8d4da3aed21f20541bed79",
        "IPY_MODEL_ee40caa8c6a5462badf1997964bd8578",
        "IPY_MODEL_0949c01d9549498994fad95e6c00b4d4"
       ],
       "layout": "IPY_MODEL_217746ae5f514b5cb74f459bb7394317"
      }
     },
     "07a605e198bc4bdc96fd16984325d5d4": {
      "model_module": "@jupyter-widgets/controls",
      "model_module_version": "2.0.0",
      "model_name": "HBoxModel",
      "state": {
       "children": [
        "IPY_MODEL_57843694692c4a3b87bfbd132153cab8",
        "IPY_MODEL_88209ef64d6c4b459ebea93a0eacd68c",
        "IPY_MODEL_fd51647b299b4889b249a7594dbeedea"
       ],
       "layout": "IPY_MODEL_f387bf1b5492446ba39e2624cfcd4629"
      }
     },
     "07d17a674a6348fc8fa411e197b78069": {
      "model_module": "@jupyter-widgets/controls",
      "model_module_version": "2.0.0",
      "model_name": "ProgressStyleModel",
      "state": {
       "description_width": ""
      }
     },
     "080b15f229de42e488724f68e64030ec": {
      "model_module": "@jupyter-widgets/controls",
      "model_module_version": "2.0.0",
      "model_name": "HBoxModel",
      "state": {
       "children": [
        "IPY_MODEL_8bde0caeebf740c4bc667fbfa72d02ed",
        "IPY_MODEL_1485dc20e8a9448a8d53f4b75b48f675",
        "IPY_MODEL_7598e2700b684d90841799187dfcc138"
       ],
       "layout": "IPY_MODEL_30ebffb12b0f4b59abeb9b83b0a6fbdc"
      }
     },
     "08364b2a0e744b05919950b79cbb7529": {
      "model_module": "@jupyter-widgets/controls",
      "model_module_version": "2.0.0",
      "model_name": "HBoxModel",
      "state": {
       "children": [
        "IPY_MODEL_d28805f81f2d4e939de07c7bfb0c3942",
        "IPY_MODEL_902f154135734038946c4cb43ac040ea",
        "IPY_MODEL_54bc5cd15c52489db348d7d474416b63"
       ],
       "layout": "IPY_MODEL_6e6c8d817cf642cda4b8c67c1421f16b"
      }
     },
     "084efb17fade418aac55ccf88c99373d": {
      "model_module": "@jupyter-widgets/base",
      "model_module_version": "2.0.0",
      "model_name": "LayoutModel",
      "state": {}
     },
     "08e2cf45c7c848ed83868e9a1f1ba967": {
      "model_module": "@jupyter-widgets/controls",
      "model_module_version": "2.0.0",
      "model_name": "HTMLModel",
      "state": {
       "layout": "IPY_MODEL_8981bf35b70148559775a41ed92d1ed1",
       "style": "IPY_MODEL_705019b0b05f4387aefdd6bb569e74d9",
       "value": "100%"
      }
     },
     "0949c01d9549498994fad95e6c00b4d4": {
      "model_module": "@jupyter-widgets/controls",
      "model_module_version": "2.0.0",
      "model_name": "HTMLModel",
      "state": {
       "layout": "IPY_MODEL_c7dc4e6681ce4f8eae9a97b57acbed79",
       "style": "IPY_MODEL_945688e6560c48ad8c46b7294bd434b6",
       "value": " 0/6 [00:00&lt;?, ?it/s]"
      }
     },
     "0955482db7ea401daacc4b71171b4096": {
      "model_module": "@jupyter-widgets/controls",
      "model_module_version": "2.0.0",
      "model_name": "ProgressStyleModel",
      "state": {
       "description_width": ""
      }
     },
     "09b9674aaee24f8ba6ac3d70e04734de": {
      "model_module": "@jupyter-widgets/base",
      "model_module_version": "2.0.0",
      "model_name": "LayoutModel",
      "state": {}
     },
     "09ee37cbf2df41f5b293113c69bb3a24": {
      "model_module": "@jupyter-widgets/base",
      "model_module_version": "2.0.0",
      "model_name": "LayoutModel",
      "state": {}
     },
     "0a8273abf4b04fcfa266ece21ec57dc2": {
      "model_module": "@jupyter-widgets/base",
      "model_module_version": "2.0.0",
      "model_name": "LayoutModel",
      "state": {}
     },
     "0abaf50f623a43e58afcf20b196d3dbc": {
      "model_module": "@jupyter-widgets/controls",
      "model_module_version": "2.0.0",
      "model_name": "HTMLStyleModel",
      "state": {
       "description_width": "",
       "font_size": null,
       "text_color": null
      }
     },
     "0ae180ce7c094699b73877331aa776d5": {
      "model_module": "@jupyter-widgets/base",
      "model_module_version": "2.0.0",
      "model_name": "LayoutModel",
      "state": {}
     },
     "0b1a304bd15f47ec8858bfd900d11484": {
      "model_module": "@jupyter-widgets/controls",
      "model_module_version": "2.0.0",
      "model_name": "HTMLModel",
      "state": {
       "layout": "IPY_MODEL_ba807cc513b74d7d8eeb027c2910b83d",
       "style": "IPY_MODEL_cb816fa26def400fb32343b0dd2f8917",
       "value": " 14/14 [00:37&lt;00:00,  2.73s/it]"
      }
     },
     "0b1b5e2e830e40bb969f2adc1614aea5": {
      "model_module": "@jupyter-widgets/controls",
      "model_module_version": "2.0.0",
      "model_name": "FloatProgressModel",
      "state": {
       "bar_style": "success",
       "layout": "IPY_MODEL_1f96bc76575143e0bbfa6f656bc14379",
       "max": 14,
       "style": "IPY_MODEL_147d6e998a764a2d9829860f250560d9",
       "value": 14
      }
     },
     "0b4691c9dc8c4730b2406addff4465cf": {
      "model_module": "@jupyter-widgets/controls",
      "model_module_version": "2.0.0",
      "model_name": "HTMLModel",
      "state": {
       "layout": "IPY_MODEL_45f72b16772f40e081fb9d967266f68d",
       "style": "IPY_MODEL_43813cdb3cc948f49df4d4f3c7bbca4d",
       "value": "100%"
      }
     },
     "0b69df04be5841c59960a17eb4f82d76": {
      "model_module": "@jupyter-widgets/controls",
      "model_module_version": "2.0.0",
      "model_name": "HBoxModel",
      "state": {
       "children": [
        "IPY_MODEL_aef0ceb8c0ae4015b63ea8b2d521df89",
        "IPY_MODEL_749e6b87082c4e4bbdd4030cad16b4ca",
        "IPY_MODEL_1ce6f12be1c846d6b0b2f907eb606fa8"
       ],
       "layout": "IPY_MODEL_26ee41edcc1d4611b2c3bf8d590a98f1"
      }
     },
     "0b79ec824d3b4d8aa3cae468021e6ea0": {
      "model_module": "@jupyter-widgets/base",
      "model_module_version": "2.0.0",
      "model_name": "LayoutModel",
      "state": {}
     },
     "0bca4e3d211e481b930b97cb27172398": {
      "model_module": "@jupyter-widgets/controls",
      "model_module_version": "2.0.0",
      "model_name": "HTMLModel",
      "state": {
       "layout": "IPY_MODEL_d2089328393446879bd5bea14c4c46d4",
       "style": "IPY_MODEL_acda4f5b396441189693bf7bffcb701c",
       "value": "100%"
      }
     },
     "0bdac01ac9714d238307c195beb0e4d6": {
      "model_module": "@jupyter-widgets/controls",
      "model_module_version": "2.0.0",
      "model_name": "ProgressStyleModel",
      "state": {
       "description_width": ""
      }
     },
     "0c661b3b523e46c997b81ec88b55885f": {
      "model_module": "@jupyter-widgets/controls",
      "model_module_version": "2.0.0",
      "model_name": "HBoxModel",
      "state": {
       "children": [
        "IPY_MODEL_2b00516e0d2f4aa38eb103470d68f748",
        "IPY_MODEL_ed986ba25e62442b805d11edfd26d196",
        "IPY_MODEL_2687f4e65b9f494d85e66a18985cc115"
       ],
       "layout": "IPY_MODEL_d215b8a8add54994996af76ab889def9"
      }
     },
     "0cb625922b5f481f85c9215f9f4b3d23": {
      "model_module": "@jupyter-widgets/base",
      "model_module_version": "2.0.0",
      "model_name": "LayoutModel",
      "state": {}
     },
     "0d06caff45da43a387feb0da28b050fb": {
      "model_module": "@jupyter-widgets/base",
      "model_module_version": "2.0.0",
      "model_name": "LayoutModel",
      "state": {}
     },
     "0d313cc29bcc46dfb446da66fa807e59": {
      "model_module": "@jupyter-widgets/controls",
      "model_module_version": "2.0.0",
      "model_name": "HBoxModel",
      "state": {
       "children": [
        "IPY_MODEL_83c2fac7843c4663a1b118a4efb743db",
        "IPY_MODEL_fa70d6fcb22147d0955df9e8bddc056c",
        "IPY_MODEL_b95eedb43b064ce789790750e2c53bb5"
       ],
       "layout": "IPY_MODEL_2a462a43f7d74fce8b387d4a583712ec"
      }
     },
     "0d3409116f40446cbda24b66b80c0548": {
      "model_module": "@jupyter-widgets/controls",
      "model_module_version": "2.0.0",
      "model_name": "FloatProgressModel",
      "state": {
       "bar_style": "success",
       "layout": "IPY_MODEL_69ba768c93bf4d2585127c9dd8cca2a1",
       "max": 3,
       "style": "IPY_MODEL_e8f26801067b4ef1828250d9824be275",
       "value": 3
      }
     },
     "0d4bc172676c4414864818a4ac6416fe": {
      "model_module": "@jupyter-widgets/controls",
      "model_module_version": "2.0.0",
      "model_name": "HTMLModel",
      "state": {
       "layout": "IPY_MODEL_199baf487d344705bd0e350dbae70ae1",
       "style": "IPY_MODEL_06e11f82b78947988f5e6a40a8d2f191",
       "value": "100%"
      }
     },
     "0d4cdb3348194428b360906169fcc25e": {
      "model_module": "@jupyter-widgets/base",
      "model_module_version": "2.0.0",
      "model_name": "LayoutModel",
      "state": {}
     },
     "0d5bdf9af54d439ca3f4b690da144284": {
      "model_module": "@jupyter-widgets/controls",
      "model_module_version": "2.0.0",
      "model_name": "HTMLModel",
      "state": {
       "layout": "IPY_MODEL_32e522644e3548eeb2a61abd4431c1dc",
       "style": "IPY_MODEL_6598381da8a44dae8d3e17c72ca74f0d",
       "value": "100%"
      }
     },
     "0db0d77a505b45c09a86c22ab3ec786f": {
      "model_module": "@jupyter-widgets/base",
      "model_module_version": "2.0.0",
      "model_name": "LayoutModel",
      "state": {}
     },
     "0dc955968bf4464581e4aff52c7e0667": {
      "model_module": "@jupyter-widgets/controls",
      "model_module_version": "2.0.0",
      "model_name": "HTMLModel",
      "state": {
       "layout": "IPY_MODEL_b1a71496bea04ea984d4eaf411c2d37c",
       "style": "IPY_MODEL_22eb8c8a0e00490a9134f86bf95f647a",
       "value": " 3/3 [00:11&lt;00:00,  4.32s/it]"
      }
     },
     "0eaa5fd6d17d42739186b27b186fa2d4": {
      "model_module": "@jupyter-widgets/base",
      "model_module_version": "2.0.0",
      "model_name": "LayoutModel",
      "state": {}
     },
     "0eb105eb3c3a4e0e8ad0c0555002b74a": {
      "model_module": "@jupyter-widgets/base",
      "model_module_version": "2.0.0",
      "model_name": "LayoutModel",
      "state": {}
     },
     "0eb10b760dc54f0697396bb1551ea804": {
      "model_module": "@jupyter-widgets/controls",
      "model_module_version": "2.0.0",
      "model_name": "FloatProgressModel",
      "state": {
       "bar_style": "success",
       "layout": "IPY_MODEL_4249d3d2ad154f738789fb624a8e0867",
       "max": 14,
       "style": "IPY_MODEL_5976186c6a0042c2b496154953e7726d",
       "value": 14
      }
     },
     "0f08dbddfbf34a21a5d145735909cfec": {
      "model_module": "@jupyter-widgets/base",
      "model_module_version": "2.0.0",
      "model_name": "LayoutModel",
      "state": {}
     },
     "0f26d84da7c14a52a03a1d4cfbbc0405": {
      "model_module": "@jupyter-widgets/controls",
      "model_module_version": "2.0.0",
      "model_name": "DescriptionStyleModel",
      "state": {
       "description_width": ""
      }
     },
     "0f4f2ab58d27499ab90aef032e5a3b75": {
      "model_module": "@jupyter-widgets/controls",
      "model_module_version": "2.0.0",
      "model_name": "HBoxModel",
      "state": {
       "children": [
        "IPY_MODEL_de34218bb04f441bb1bc43e285752ade",
        "IPY_MODEL_69a5d1fb555745e39ade5030c767bf78",
        "IPY_MODEL_d7ec9dc0b86e4aa7adcd14aaab8643e1"
       ],
       "layout": "IPY_MODEL_f9620fa4d32740b59e5cb0690a070612"
      }
     },
     "0f833f6471d344ad9cb100183559182a": {
      "model_module": "@jupyter-widgets/controls",
      "model_module_version": "2.0.0",
      "model_name": "FloatProgressModel",
      "state": {
       "bar_style": "success",
       "layout": "IPY_MODEL_dc28259a0652441aacc9366d13c53f3c",
       "max": 6,
       "style": "IPY_MODEL_b85490ed0a0947f0b84a2600a1c988c7",
       "value": 6
      }
     },
     "0f9c8d0f704c4e5ba707cf9fc4bd45ae": {
      "model_module": "@jupyter-widgets/controls",
      "model_module_version": "2.0.0",
      "model_name": "HTMLModel",
      "state": {
       "layout": "IPY_MODEL_4fcce8713d9f40efa519fad4c3f6d159",
       "style": "IPY_MODEL_287a7573648040f38d693b279d747f3b",
       "value": "100%"
      }
     },
     "0fc92f9097474517aa4fad739dce6c9e": {
      "model_module": "@jupyter-widgets/controls",
      "model_module_version": "2.0.0",
      "model_name": "HTMLModel",
      "state": {
       "layout": "IPY_MODEL_bd40e6ea970a42bca8cba175f0e0ef3c",
       "style": "IPY_MODEL_451473f4e335442db1280c3dafa1c5de",
       "value": "100%"
      }
     },
     "1004c413f391408aa53526d8882d9ea5": {
      "model_module": "@jupyter-widgets/controls",
      "model_module_version": "2.0.0",
      "model_name": "HTMLModel",
      "state": {
       "layout": "IPY_MODEL_98cb9a5f782d406992c4ab9ddc0d89c4",
       "style": "IPY_MODEL_583d1f1adf7746b78eeac541b547405b",
       "value": "100%"
      }
     },
     "10e39dc37bd944b3a6cea613c2c089f3": {
      "model_module": "@jupyter-widgets/controls",
      "model_module_version": "2.0.0",
      "model_name": "DescriptionStyleModel",
      "state": {
       "description_width": ""
      }
     },
     "10ea0838335d4ae1bb579ef325c49f1d": {
      "model_module": "@jupyter-widgets/base",
      "model_module_version": "2.0.0",
      "model_name": "LayoutModel",
      "state": {}
     },
     "115a126a5dc14d9e9e0c1a91e79ef53e": {
      "model_module": "@jupyter-widgets/base",
      "model_module_version": "2.0.0",
      "model_name": "LayoutModel",
      "state": {}
     },
     "11d0dc6ff6db4abe8434128bba74e17a": {
      "model_module": "@jupyter-widgets/controls",
      "model_module_version": "2.0.0",
      "model_name": "DescriptionStyleModel",
      "state": {
       "description_width": ""
      }
     },
     "11fddfdf1de84920ae47280c167037ea": {
      "model_module": "@jupyter-widgets/controls",
      "model_module_version": "2.0.0",
      "model_name": "HBoxModel",
      "state": {
       "children": [
        "IPY_MODEL_d7843afa00d04ccfa17c4f7a2c0ead9c",
        "IPY_MODEL_b706432285f34e75ae5cff63bc0f811e",
        "IPY_MODEL_8039000c118c4b35bc9ffcc4d13b27f3"
       ],
       "layout": "IPY_MODEL_fc340e178dcf4841a50d791a1e61b133"
      }
     },
     "12376590b1cc4543ba04cb2c3624454c": {
      "model_module": "@jupyter-widgets/controls",
      "model_module_version": "2.0.0",
      "model_name": "ProgressStyleModel",
      "state": {
       "description_width": ""
      }
     },
     "12bd68cfd5214378b677176807915f57": {
      "model_module": "@jupyter-widgets/controls",
      "model_module_version": "2.0.0",
      "model_name": "HTMLModel",
      "state": {
       "layout": "IPY_MODEL_9722c25d278d4c709a75c1528f7252d6",
       "style": "IPY_MODEL_38b365b1201f4397953d51a62aaf4e80",
       "value": " 6/6 [00:11&lt;00:00,  2.78s/it]"
      }
     },
     "1317b6a0a7bc4b43a76e7ca689d01b22": {
      "model_module": "@jupyter-widgets/controls",
      "model_module_version": "2.0.0",
      "model_name": "HTMLStyleModel",
      "state": {
       "description_width": "",
       "font_size": null,
       "text_color": null
      }
     },
     "147d6e998a764a2d9829860f250560d9": {
      "model_module": "@jupyter-widgets/controls",
      "model_module_version": "2.0.0",
      "model_name": "ProgressStyleModel",
      "state": {
       "description_width": ""
      }
     },
     "1485dc20e8a9448a8d53f4b75b48f675": {
      "model_module": "@jupyter-widgets/controls",
      "model_module_version": "2.0.0",
      "model_name": "FloatProgressModel",
      "state": {
       "bar_style": "danger",
       "layout": "IPY_MODEL_305aca9f3f244ad0b9b26ed91ec3af33",
       "max": 14,
       "style": "IPY_MODEL_18d7ef9ee88a455dbbfac965b15c9e1a",
       "value": 10
      }
     },
     "14f0bd724fd345f8bab8dfc4bef0bf08": {
      "model_module": "@jupyter-widgets/controls",
      "model_module_version": "2.0.0",
      "model_name": "ProgressStyleModel",
      "state": {
       "description_width": ""
      }
     },
     "1550f4570c0649d281d386ee91811c1a": {
      "model_module": "@jupyter-widgets/base",
      "model_module_version": "2.0.0",
      "model_name": "LayoutModel",
      "state": {}
     },
     "1574450acc874b6f9d2c6fa210c91894": {
      "model_module": "@jupyter-widgets/base",
      "model_module_version": "2.0.0",
      "model_name": "LayoutModel",
      "state": {}
     },
     "16db80d7528e45a79bb7708b65544c05": {
      "model_module": "@jupyter-widgets/controls",
      "model_module_version": "2.0.0",
      "model_name": "FloatProgressModel",
      "state": {
       "bar_style": "success",
       "layout": "IPY_MODEL_8d4c233f2bd34fc785689c28a4443ae4",
       "max": 3,
       "style": "IPY_MODEL_5d60a27d33a64fe0b9065d67b7327045",
       "value": 3
      }
     },
     "16fb2ba10ca54fe5b113a07e4b74a364": {
      "model_module": "@jupyter-widgets/controls",
      "model_module_version": "2.0.0",
      "model_name": "FloatProgressModel",
      "state": {
       "bar_style": "success",
       "layout": "IPY_MODEL_edf5997f4a0c488abc2bd51d603e413b",
       "max": 3,
       "style": "IPY_MODEL_8184abafd437439481a39fe8f50c41bf",
       "value": 3
      }
     },
     "1738612afc9045d2aacc3f7bf1bf54c1": {
      "model_module": "@jupyter-widgets/base",
      "model_module_version": "2.0.0",
      "model_name": "LayoutModel",
      "state": {}
     },
     "1770df0cfa014ba89fca32d9ccf66276": {
      "model_module": "@jupyter-widgets/base",
      "model_module_version": "2.0.0",
      "model_name": "LayoutModel",
      "state": {}
     },
     "17800447be014770ae05c74ce802f81c": {
      "model_module": "@jupyter-widgets/controls",
      "model_module_version": "2.0.0",
      "model_name": "DescriptionStyleModel",
      "state": {
       "description_width": ""
      }
     },
     "18d7ef9ee88a455dbbfac965b15c9e1a": {
      "model_module": "@jupyter-widgets/controls",
      "model_module_version": "2.0.0",
      "model_name": "ProgressStyleModel",
      "state": {
       "description_width": ""
      }
     },
     "18f4eee24bac4eed92745ba210060663": {
      "model_module": "@jupyter-widgets/controls",
      "model_module_version": "2.0.0",
      "model_name": "HTMLStyleModel",
      "state": {
       "description_width": "",
       "font_size": null,
       "text_color": null
      }
     },
     "18fb54df65384bb191ef2dd090fb1024": {
      "model_module": "@jupyter-widgets/base",
      "model_module_version": "2.0.0",
      "model_name": "LayoutModel",
      "state": {}
     },
     "195b90f25ae447488562295c171c2e4d": {
      "model_module": "@jupyter-widgets/controls",
      "model_module_version": "2.0.0",
      "model_name": "DescriptionStyleModel",
      "state": {
       "description_width": ""
      }
     },
     "195bf44553064ef9b5c442ed7f8d14c0": {
      "model_module": "@jupyter-widgets/controls",
      "model_module_version": "2.0.0",
      "model_name": "FloatProgressModel",
      "state": {
       "bar_style": "success",
       "layout": "IPY_MODEL_a457bdaff0b54319a7e04193fee288ff",
       "max": 14,
       "style": "IPY_MODEL_5d64f8724c144e37b875cd67b10ec38b",
       "value": 14
      }
     },
     "199baf487d344705bd0e350dbae70ae1": {
      "model_module": "@jupyter-widgets/base",
      "model_module_version": "2.0.0",
      "model_name": "LayoutModel",
      "state": {}
     },
     "19d2a5bbbee14c30bd9480c8930412ef": {
      "model_module": "@jupyter-widgets/controls",
      "model_module_version": "2.0.0",
      "model_name": "FloatProgressModel",
      "state": {
       "bar_style": "success",
       "layout": "IPY_MODEL_042be28fa0bb441d96647ac61c3f1187",
       "max": 6,
       "style": "IPY_MODEL_41d2351da9f445548ea422ffb7bd70b8",
       "value": 6
      }
     },
     "19ea34ec07da4d61acec8c855bbc02bf": {
      "model_module": "@jupyter-widgets/base",
      "model_module_version": "2.0.0",
      "model_name": "LayoutModel",
      "state": {}
     },
     "1a3e94e077794b26a5f1d4383652e342": {
      "model_module": "@jupyter-widgets/controls",
      "model_module_version": "2.0.0",
      "model_name": "HTMLModel",
      "state": {
       "layout": "IPY_MODEL_f1f91959b5e34777a43a77fabbc2547b",
       "style": "IPY_MODEL_8b612f576d034f368bf01513ba1fdbf7",
       "value": " 6/6 [00:11&lt;00:00,  2.85s/it]"
      }
     },
     "1a972bcc03d64354b5cd8ec42d25af83": {
      "model_module": "@jupyter-widgets/base",
      "model_module_version": "2.0.0",
      "model_name": "LayoutModel",
      "state": {}
     },
     "1afd9b14111e46ce980a6e0b1d6e4560": {
      "model_module": "@jupyter-widgets/base",
      "model_module_version": "2.0.0",
      "model_name": "LayoutModel",
      "state": {}
     },
     "1b128390ad5d40609c6853ee0320d36b": {
      "model_module": "@jupyter-widgets/controls",
      "model_module_version": "2.0.0",
      "model_name": "FloatProgressModel",
      "state": {
       "bar_style": "success",
       "layout": "IPY_MODEL_be41d6ae9f344b5ba9b383d3d5c484bf",
       "max": 3,
       "style": "IPY_MODEL_07d17a674a6348fc8fa411e197b78069",
       "value": 3
      }
     },
     "1b3e9c32128b4afd82e6239a2c210fd1": {
      "model_module": "@jupyter-widgets/base",
      "model_module_version": "2.0.0",
      "model_name": "LayoutModel",
      "state": {}
     },
     "1bb5e4ab089345e486e8cb7702e2a389": {
      "model_module": "@jupyter-widgets/controls",
      "model_module_version": "2.0.0",
      "model_name": "HBoxModel",
      "state": {
       "children": [
        "IPY_MODEL_b4a6ca293cf340b89bc8cee747bd4df1",
        "IPY_MODEL_25903453397444dc8539ba4a20d941d7",
        "IPY_MODEL_4c514c61a1824da0bb353e154c21288e"
       ],
       "layout": "IPY_MODEL_44d1cb966cd74d34b917a08160071f86"
      }
     },
     "1c13c5e27a444c34b5616d6b869b0c25": {
      "model_module": "@jupyter-widgets/controls",
      "model_module_version": "2.0.0",
      "model_name": "HBoxModel",
      "state": {
       "children": [
        "IPY_MODEL_affe162fb3a94beba81fa8be1951120f",
        "IPY_MODEL_0f833f6471d344ad9cb100183559182a",
        "IPY_MODEL_658444ed433543249997e5b54ff46591"
       ],
       "layout": "IPY_MODEL_51afde547a624857871d55d2bbcc2c75"
      }
     },
     "1c4bcfb11581445a8d46ce754ec37180": {
      "model_module": "@jupyter-widgets/base",
      "model_module_version": "2.0.0",
      "model_name": "LayoutModel",
      "state": {}
     },
     "1c5a097cc6654b498bb5d102de2ff9a9": {
      "model_module": "@jupyter-widgets/controls",
      "model_module_version": "2.0.0",
      "model_name": "HBoxModel",
      "state": {
       "children": [
        "IPY_MODEL_f3448abc46c64dcc99030e01f7f7c0ad",
        "IPY_MODEL_0eb10b760dc54f0697396bb1551ea804",
        "IPY_MODEL_e6344aec656a4e2ebe984c2af55086ee"
       ],
       "layout": "IPY_MODEL_30edfff582484b6493b79792a84b5d78"
      }
     },
     "1ce6f12be1c846d6b0b2f907eb606fa8": {
      "model_module": "@jupyter-widgets/controls",
      "model_module_version": "2.0.0",
      "model_name": "HTMLModel",
      "state": {
       "layout": "IPY_MODEL_93d601e2d59e468bb0a2e59df885b6bb",
       "style": "IPY_MODEL_6022fd1d8b704696a3ea76aed0286917",
       "value": " 14/14 [00:34&lt;00:00,  2.58s/it]"
      }
     },
     "1cf7ed64d07e42f1a35ac54ff80c9321": {
      "model_module": "@jupyter-widgets/controls",
      "model_module_version": "2.0.0",
      "model_name": "HTMLStyleModel",
      "state": {
       "description_width": "",
       "font_size": null,
       "text_color": null
      }
     },
     "1d1d0262b04541a6a88b8cfc2026e946": {
      "model_module": "@jupyter-widgets/controls",
      "model_module_version": "2.0.0",
      "model_name": "HTMLStyleModel",
      "state": {
       "description_width": "",
       "font_size": null,
       "text_color": null
      }
     },
     "1d1da6d468c74317a13dc9fc56dfb053": {
      "model_module": "@jupyter-widgets/controls",
      "model_module_version": "2.0.0",
      "model_name": "HTMLStyleModel",
      "state": {
       "description_width": "",
       "font_size": null,
       "text_color": null
      }
     },
     "1d307ce0a82445ba9e28c933d9dc26c9": {
      "model_module": "@jupyter-widgets/controls",
      "model_module_version": "2.0.0",
      "model_name": "HBoxModel",
      "state": {
       "children": [
        "IPY_MODEL_ec90cfce9177485b883662ef681ad8d6",
        "IPY_MODEL_d508b30885034954883d0ecb2f25290a",
        "IPY_MODEL_7863273832e24bb2b5709eec56869f46"
       ],
       "layout": "IPY_MODEL_e704b69e2c0147598b87d70959cc1d19"
      }
     },
     "1df53411fb0547ea99a8fa02b4902311": {
      "model_module": "@jupyter-widgets/controls",
      "model_module_version": "2.0.0",
      "model_name": "HTMLStyleModel",
      "state": {
       "description_width": "",
       "font_size": null,
       "text_color": null
      }
     },
     "1ea51bc560ca4022bb1a949c79a0f734": {
      "model_module": "@jupyter-widgets/controls",
      "model_module_version": "2.0.0",
      "model_name": "HTMLModel",
      "state": {
       "layout": "IPY_MODEL_468581f8cddc4e7bb1610ac6320b66b7",
       "style": "IPY_MODEL_d13dd26971b44151b9d2858eba28a261",
       "value": "100%"
      }
     },
     "1f96bc76575143e0bbfa6f656bc14379": {
      "model_module": "@jupyter-widgets/base",
      "model_module_version": "2.0.0",
      "model_name": "LayoutModel",
      "state": {}
     },
     "1f98f10a0be946e8a023ccbd3bb84e77": {
      "model_module": "@jupyter-widgets/base",
      "model_module_version": "2.0.0",
      "model_name": "LayoutModel",
      "state": {}
     },
     "1fc2b21844534159a368b1806fac3a9b": {
      "model_module": "@jupyter-widgets/controls",
      "model_module_version": "2.0.0",
      "model_name": "DescriptionStyleModel",
      "state": {
       "description_width": ""
      }
     },
     "1fc82bd317434156a2e9298ba5e183fd": {
      "model_module": "@jupyter-widgets/controls",
      "model_module_version": "2.0.0",
      "model_name": "HTMLModel",
      "state": {
       "layout": "IPY_MODEL_cc49fe955bc9415abe5836ccaad61025",
       "style": "IPY_MODEL_ddd0a93088564db392114ce48622e704",
       "value": "100%"
      }
     },
     "1fe284f8d07f40878ff479927110d9b2": {
      "model_module": "@jupyter-widgets/controls",
      "model_module_version": "2.0.0",
      "model_name": "HBoxModel",
      "state": {
       "children": [
        "IPY_MODEL_d79d6b73af2144729bed6a955c95e6e1",
        "IPY_MODEL_c2fde99dd01245ec95f086a3473cf135",
        "IPY_MODEL_a0a6992b1429433fbbbaf3d5f05d24c3"
       ],
       "layout": "IPY_MODEL_98307e1ba8e542d28735e73168500439"
      }
     },
     "2014c622957f4172bf5538e7032073d7": {
      "model_module": "@jupyter-widgets/base",
      "model_module_version": "2.0.0",
      "model_name": "LayoutModel",
      "state": {}
     },
     "20e2e54ff7b6404a8ef36f22b44b6529": {
      "model_module": "@jupyter-widgets/controls",
      "model_module_version": "2.0.0",
      "model_name": "FloatProgressModel",
      "state": {
       "bar_style": "success",
       "layout": "IPY_MODEL_fdb9a369ccea4ed5983d9d8248c46c5d",
       "max": 14,
       "style": "IPY_MODEL_cd78b7965d4d428a8cb50a5b211e9793",
       "value": 14
      }
     },
     "2113a4d44df6462db4fa2f37d71cfcbd": {
      "model_module": "@jupyter-widgets/base",
      "model_module_version": "2.0.0",
      "model_name": "LayoutModel",
      "state": {}
     },
     "212dcdc1e2d240d883b18393d45acda8": {
      "model_module": "@jupyter-widgets/base",
      "model_module_version": "2.0.0",
      "model_name": "LayoutModel",
      "state": {}
     },
     "2170228775ec4e85803342171d2bcc44": {
      "model_module": "@jupyter-widgets/base",
      "model_module_version": "2.0.0",
      "model_name": "LayoutModel",
      "state": {}
     },
     "217746ae5f514b5cb74f459bb7394317": {
      "model_module": "@jupyter-widgets/base",
      "model_module_version": "2.0.0",
      "model_name": "LayoutModel",
      "state": {}
     },
     "219404a0aa80406fba4e1a59864e213e": {
      "model_module": "@jupyter-widgets/base",
      "model_module_version": "2.0.0",
      "model_name": "LayoutModel",
      "state": {}
     },
     "219afd487156452a86e2406576ecfcc9": {
      "model_module": "@jupyter-widgets/base",
      "model_module_version": "2.0.0",
      "model_name": "LayoutModel",
      "state": {}
     },
     "219d72dd2d2b4dd7b8bba69df5cbc177": {
      "model_module": "@jupyter-widgets/controls",
      "model_module_version": "2.0.0",
      "model_name": "FloatProgressModel",
      "state": {
       "bar_style": "success",
       "layout": "IPY_MODEL_eb54245568c3417f8c1a3e0308150b39",
       "max": 6,
       "style": "IPY_MODEL_b1ce81a067f24d3c90467c337ecb4f34",
       "value": 6
      }
     },
     "21b051ce1eb44d588eb8484bfb57c09c": {
      "model_module": "@jupyter-widgets/controls",
      "model_module_version": "2.0.0",
      "model_name": "HTMLModel",
      "state": {
       "layout": "IPY_MODEL_8b16a795483843d3b70dba6e1fd26a29",
       "style": "IPY_MODEL_845af8d2da2a4ab4ad8df8b4e2341619",
       "value": " 14/14 [00:34&lt;00:00,  2.59s/it]"
      }
     },
     "21d4e7e9c0ce4ddda97e55cf9f588e7c": {
      "model_module": "@jupyter-widgets/base",
      "model_module_version": "2.0.0",
      "model_name": "LayoutModel",
      "state": {}
     },
     "21f3def43b384e6aa18449eabe0dfc10": {
      "model_module": "@jupyter-widgets/controls",
      "model_module_version": "2.0.0",
      "model_name": "FloatProgressModel",
      "state": {
       "bar_style": "success",
       "layout": "IPY_MODEL_2ea3d3d9620148b8b3d58795d768afb2",
       "max": 6,
       "style": "IPY_MODEL_01d8f884022a47efb55c154520a685d5",
       "value": 6
      }
     },
     "227e83a28aa846ed87ea1bffc6e15c16": {
      "model_module": "@jupyter-widgets/controls",
      "model_module_version": "2.0.0",
      "model_name": "HTMLStyleModel",
      "state": {
       "description_width": "",
       "font_size": null,
       "text_color": null
      }
     },
     "2288d78992024f17b4c33d51aa323edd": {
      "model_module": "@jupyter-widgets/controls",
      "model_module_version": "2.0.0",
      "model_name": "HTMLModel",
      "state": {
       "layout": "IPY_MODEL_aaad4ca2ef0e400c861ec129402d025e",
       "style": "IPY_MODEL_cac094dfafa64d289e942e132ec9e84f",
       "value": " 6/6 [00:11&lt;00:00,  2.82s/it]"
      }
     },
     "229395b963b84118856df1a35e4fc8fe": {
      "model_module": "@jupyter-widgets/controls",
      "model_module_version": "2.0.0",
      "model_name": "HBoxModel",
      "state": {
       "children": [
        "IPY_MODEL_dcca8bf40bd64061b09a211cc68bba61",
        "IPY_MODEL_1b128390ad5d40609c6853ee0320d36b",
        "IPY_MODEL_82fb3cf99ebb4e96ac943460c9281ad7"
       ],
       "layout": "IPY_MODEL_e59fd9367547423fbe88c0a69e5b5d4f"
      }
     },
     "229cd52eb0e84464ba9215674f6cc175": {
      "model_module": "@jupyter-widgets/controls",
      "model_module_version": "2.0.0",
      "model_name": "HTMLModel",
      "state": {
       "layout": "IPY_MODEL_5cc7f457a2334e71bb5f436ae46c336e",
       "style": "IPY_MODEL_7656a75fac334758bff1db99160dd95b",
       "value": "100%"
      }
     },
     "22eb8c8a0e00490a9134f86bf95f647a": {
      "model_module": "@jupyter-widgets/controls",
      "model_module_version": "2.0.0",
      "model_name": "DescriptionStyleModel",
      "state": {
       "description_width": ""
      }
     },
     "22fd4ea1bcd34be88b6b8c7fe475ca29": {
      "model_module": "@jupyter-widgets/controls",
      "model_module_version": "2.0.0",
      "model_name": "HBoxModel",
      "state": {
       "children": [
        "IPY_MODEL_417fab544a4646ed858872a9006749d0",
        "IPY_MODEL_16fb2ba10ca54fe5b113a07e4b74a364",
        "IPY_MODEL_eba97bc2fe554e4d89a75a68452728ea"
       ],
       "layout": "IPY_MODEL_0d4cdb3348194428b360906169fcc25e"
      }
     },
     "23242f0b8c324c04b28740701db618b7": {
      "model_module": "@jupyter-widgets/controls",
      "model_module_version": "2.0.0",
      "model_name": "HBoxModel",
      "state": {
       "children": [
        "IPY_MODEL_802c5562f59f42ef96997de1b9feb3b5",
        "IPY_MODEL_5082c28037254c02a2c7b11b1fec3d24",
        "IPY_MODEL_cb08a9ff3d324eb28b1c29892c887232"
       ],
       "layout": "IPY_MODEL_01d8b4a699f146feb03b588bf69025c8"
      }
     },
     "23305649c3294c339f312c5895d8215e": {
      "model_module": "@jupyter-widgets/base",
      "model_module_version": "2.0.0",
      "model_name": "LayoutModel",
      "state": {}
     },
     "234e24831a0f4f43bc69f819aff734ef": {
      "model_module": "@jupyter-widgets/base",
      "model_module_version": "2.0.0",
      "model_name": "LayoutModel",
      "state": {}
     },
     "23d02aee6f02490688abd31c971c5a82": {
      "model_module": "@jupyter-widgets/controls",
      "model_module_version": "2.0.0",
      "model_name": "DescriptionStyleModel",
      "state": {
       "description_width": ""
      }
     },
     "23f649b8681c4860bb7c7d5a1e876cac": {
      "model_module": "@jupyter-widgets/base",
      "model_module_version": "2.0.0",
      "model_name": "LayoutModel",
      "state": {}
     },
     "23ff1d5181ff474a8548c4341dace698": {
      "model_module": "@jupyter-widgets/controls",
      "model_module_version": "2.0.0",
      "model_name": "DescriptionStyleModel",
      "state": {
       "description_width": ""
      }
     },
     "240ac9bfcfca4ee1b8552b0aa6b1c30d": {
      "model_module": "@jupyter-widgets/base",
      "model_module_version": "2.0.0",
      "model_name": "LayoutModel",
      "state": {}
     },
     "2493d03c7bd34717904cab4538dd29ad": {
      "model_module": "@jupyter-widgets/base",
      "model_module_version": "2.0.0",
      "model_name": "LayoutModel",
      "state": {}
     },
     "24aeaa95de3f4885976b8a9a38c9b3bf": {
      "model_module": "@jupyter-widgets/controls",
      "model_module_version": "2.0.0",
      "model_name": "ProgressStyleModel",
      "state": {
       "description_width": ""
      }
     },
     "2503dfb81f4847be8a2dd83ba9fce570": {
      "model_module": "@jupyter-widgets/base",
      "model_module_version": "2.0.0",
      "model_name": "LayoutModel",
      "state": {}
     },
     "2551adbdd0364fdcb7901efe8a24fbd1": {
      "model_module": "@jupyter-widgets/controls",
      "model_module_version": "2.0.0",
      "model_name": "FloatProgressModel",
      "state": {
       "bar_style": "success",
       "layout": "IPY_MODEL_a362902f497348d289d27ca0913068fe",
       "max": 3,
       "style": "IPY_MODEL_ab4c0e768492431bbb35ce04a23dce63",
       "value": 3
      }
     },
     "25604506d9dd4215b59f34d9b049de1a": {
      "model_module": "@jupyter-widgets/controls",
      "model_module_version": "2.0.0",
      "model_name": "HBoxModel",
      "state": {
       "children": [
        "IPY_MODEL_1004c413f391408aa53526d8882d9ea5",
        "IPY_MODEL_6ab2c800eaef42e4a286a0aab35ed190",
        "IPY_MODEL_e70f3c2d70b247df9fb2de2b32a22bdd"
       ],
       "layout": "IPY_MODEL_21d4e7e9c0ce4ddda97e55cf9f588e7c"
      }
     },
     "25903453397444dc8539ba4a20d941d7": {
      "model_module": "@jupyter-widgets/controls",
      "model_module_version": "2.0.0",
      "model_name": "FloatProgressModel",
      "state": {
       "bar_style": "success",
       "layout": "IPY_MODEL_bcd1686c6e77476086983a24fa87b982",
       "max": 14,
       "style": "IPY_MODEL_63496197b64c4981aa1841e5dd0ed3a2",
       "value": 14
      }
     },
     "25c6f48933ff4136bbdfb125b1cd897e": {
      "model_module": "@jupyter-widgets/controls",
      "model_module_version": "2.0.0",
      "model_name": "HTMLModel",
      "state": {
       "layout": "IPY_MODEL_cc70f9b3c01c457b99cccc2760db08c8",
       "style": "IPY_MODEL_672d456870d44b42957d9ad3669127cc",
       "value": " 3/3 [00:10&lt;00:00,  4.27s/it]"
      }
     },
     "2675acb784a64d10b3c0d15cb32666e4": {
      "model_module": "@jupyter-widgets/base",
      "model_module_version": "2.0.0",
      "model_name": "LayoutModel",
      "state": {}
     },
     "2687f4e65b9f494d85e66a18985cc115": {
      "model_module": "@jupyter-widgets/controls",
      "model_module_version": "2.0.0",
      "model_name": "HTMLModel",
      "state": {
       "layout": "IPY_MODEL_1738612afc9045d2aacc3f7bf1bf54c1",
       "style": "IPY_MODEL_d46e3a69176d4082bb5494990e3ecd88",
       "value": " 6/6 [00:08&lt;00:00,  1.97s/it]"
      }
     },
     "269217df1e414f15bbce58c8f7f3d364": {
      "model_module": "@jupyter-widgets/base",
      "model_module_version": "2.0.0",
      "model_name": "LayoutModel",
      "state": {}
     },
     "269c6b9560904cc29f2828362cebce81": {
      "model_module": "@jupyter-widgets/controls",
      "model_module_version": "2.0.0",
      "model_name": "HTMLStyleModel",
      "state": {
       "description_width": "",
       "font_size": null,
       "text_color": null
      }
     },
     "26ee41edcc1d4611b2c3bf8d590a98f1": {
      "model_module": "@jupyter-widgets/base",
      "model_module_version": "2.0.0",
      "model_name": "LayoutModel",
      "state": {}
     },
     "271558bdfe944780b3e8a65d2bfe1626": {
      "model_module": "@jupyter-widgets/base",
      "model_module_version": "2.0.0",
      "model_name": "LayoutModel",
      "state": {}
     },
     "271e20a9175e435b9e432bb49ff28515": {
      "model_module": "@jupyter-widgets/base",
      "model_module_version": "2.0.0",
      "model_name": "LayoutModel",
      "state": {}
     },
     "273b1ed998a24d33896bf669abd17f2d": {
      "model_module": "@jupyter-widgets/controls",
      "model_module_version": "2.0.0",
      "model_name": "HTMLModel",
      "state": {
       "layout": "IPY_MODEL_09ee37cbf2df41f5b293113c69bb3a24",
       "style": "IPY_MODEL_506a403f0fdc4f9f8b85aa651285d720",
       "value": " 3/3 [00:10&lt;00:00,  4.07s/it]"
      }
     },
     "274cfec487e047da9460c594076afe69": {
      "model_module": "@jupyter-widgets/controls",
      "model_module_version": "2.0.0",
      "model_name": "HTMLStyleModel",
      "state": {
       "description_width": "",
       "font_size": null,
       "text_color": null
      }
     },
     "2763bab54f6b4f9b9850c8136f67ce38": {
      "model_module": "@jupyter-widgets/controls",
      "model_module_version": "2.0.0",
      "model_name": "ProgressStyleModel",
      "state": {
       "description_width": ""
      }
     },
     "276ce3320f1349639ffd64105f12b350": {
      "model_module": "@jupyter-widgets/base",
      "model_module_version": "2.0.0",
      "model_name": "LayoutModel",
      "state": {}
     },
     "277200fb6799495b95bad3fe02217797": {
      "model_module": "@jupyter-widgets/controls",
      "model_module_version": "2.0.0",
      "model_name": "HBoxModel",
      "state": {
       "children": [
        "IPY_MODEL_4702939ba6f34c9b95242c92bc25156a",
        "IPY_MODEL_f1e99bec5c1a4eb288eb61fa64cd9703",
        "IPY_MODEL_ab8f355ae7164f8b8c9686ea6c91a7a6"
       ],
       "layout": "IPY_MODEL_54c1c14ecefb49e9b1f7fd2138320a0d"
      }
     },
     "2796d4640e4c4e929e33d1c64b9f54fc": {
      "model_module": "@jupyter-widgets/controls",
      "model_module_version": "2.0.0",
      "model_name": "HTMLModel",
      "state": {
       "layout": "IPY_MODEL_ce1f0f894a92465db9af08981e3b5c55",
       "style": "IPY_MODEL_e6601afb4f444433a8d2e37f465f45ab",
       "value": " 8/14 [00:15&lt;00:17,  2.86s/it]"
      }
     },
     "27eeaee083424c1f81fecc56dea27a6d": {
      "model_module": "@jupyter-widgets/controls",
      "model_module_version": "2.0.0",
      "model_name": "FloatProgressModel",
      "state": {
       "bar_style": "success",
       "layout": "IPY_MODEL_23f649b8681c4860bb7c7d5a1e876cac",
       "max": 14,
       "style": "IPY_MODEL_b6148f8af3974dfd862a9b5fe1ab3bd7",
       "value": 14
      }
     },
     "2820391b62434f3d8c4aaf1ce302cf30": {
      "model_module": "@jupyter-widgets/controls",
      "model_module_version": "2.0.0",
      "model_name": "HBoxModel",
      "state": {
       "children": [
        "IPY_MODEL_06e417298e2e4c93bfd44db90d47d077",
        "IPY_MODEL_16db80d7528e45a79bb7708b65544c05",
        "IPY_MODEL_b56f52d366d44191901d75a4215ee301"
       ],
       "layout": "IPY_MODEL_90220a88101d49e888b6f83bfb6df436"
      }
     },
     "287a7573648040f38d693b279d747f3b": {
      "model_module": "@jupyter-widgets/controls",
      "model_module_version": "2.0.0",
      "model_name": "DescriptionStyleModel",
      "state": {
       "description_width": ""
      }
     },
     "28d7d40964e34064a071c4f266111d5e": {
      "model_module": "@jupyter-widgets/controls",
      "model_module_version": "2.0.0",
      "model_name": "HTMLModel",
      "state": {
       "layout": "IPY_MODEL_a05d377b458949ba8d7dfb4733c297c6",
       "style": "IPY_MODEL_9f05b8a4032d4eeaa91f17c8df6043fd",
       "value": " 14/14 [00:34&lt;00:00,  2.58s/it]"
      }
     },
     "291c07312d7647979fa567eec843280e": {
      "model_module": "@jupyter-widgets/base",
      "model_module_version": "2.0.0",
      "model_name": "LayoutModel",
      "state": {}
     },
     "295a8a63e0a94d208ade3affb9d68e12": {
      "model_module": "@jupyter-widgets/controls",
      "model_module_version": "2.0.0",
      "model_name": "FloatProgressModel",
      "state": {
       "bar_style": "success",
       "layout": "IPY_MODEL_9ac45458d0f9497bac72211e8da9c1ce",
       "max": 14,
       "style": "IPY_MODEL_6ce6dc7f238243caaf36f8495409d552",
       "value": 14
      }
     },
     "298d55ec99f54dcd8e73ef8eba7e4595": {
      "model_module": "@jupyter-widgets/controls",
      "model_module_version": "2.0.0",
      "model_name": "FloatProgressModel",
      "state": {
       "bar_style": "success",
       "layout": "IPY_MODEL_3454421d51a5473faae3117d722bcde8",
       "max": 3,
       "style": "IPY_MODEL_ceb09d33dd824785acf3458f0f6f5b90",
       "value": 3
      }
     },
     "2a1b43fb3d5e41dbaad395e88d69dc17": {
      "model_module": "@jupyter-widgets/controls",
      "model_module_version": "2.0.0",
      "model_name": "DescriptionStyleModel",
      "state": {
       "description_width": ""
      }
     },
     "2a2a37aad76a438cae578d3ae288b46b": {
      "model_module": "@jupyter-widgets/base",
      "model_module_version": "2.0.0",
      "model_name": "LayoutModel",
      "state": {}
     },
     "2a462a43f7d74fce8b387d4a583712ec": {
      "model_module": "@jupyter-widgets/base",
      "model_module_version": "2.0.0",
      "model_name": "LayoutModel",
      "state": {}
     },
     "2a65240a15d4499fbd0cf942492a4711": {
      "model_module": "@jupyter-widgets/controls",
      "model_module_version": "2.0.0",
      "model_name": "HBoxModel",
      "state": {
       "children": [
        "IPY_MODEL_e2bebc0e11bb4c67b655a2bb0e52d17c",
        "IPY_MODEL_295a8a63e0a94d208ade3affb9d68e12",
        "IPY_MODEL_74b05596216a49a1b150b9be0061ffef"
       ],
       "layout": "IPY_MODEL_0264a0f5edbd4d84b646529d5900ab46"
      }
     },
     "2a75bc70851b42b69eacea7343414dbb": {
      "model_module": "@jupyter-widgets/controls",
      "model_module_version": "2.0.0",
      "model_name": "DescriptionStyleModel",
      "state": {
       "description_width": ""
      }
     },
     "2b00516e0d2f4aa38eb103470d68f748": {
      "model_module": "@jupyter-widgets/controls",
      "model_module_version": "2.0.0",
      "model_name": "HTMLModel",
      "state": {
       "layout": "IPY_MODEL_3cda17e2deb342b08a1a07c1f5b64474",
       "style": "IPY_MODEL_97d2f02d0fb04261aec409b6acb27725",
       "value": "100%"
      }
     },
     "2b06f801070a48a5bb5f39f5577cf5f1": {
      "model_module": "@jupyter-widgets/controls",
      "model_module_version": "2.0.0",
      "model_name": "HTMLModel",
      "state": {
       "layout": "IPY_MODEL_539f0d72dd3543fbad79611d9f1bd031",
       "style": "IPY_MODEL_55e7a37abac24908961c342bc93befe3",
       "value": "100%"
      }
     },
     "2bde0fcb4f0c49e49f7641beef0d42bf": {
      "model_module": "@jupyter-widgets/controls",
      "model_module_version": "2.0.0",
      "model_name": "HBoxModel",
      "state": {
       "children": [
        "IPY_MODEL_a92590bf59d342f794d3708da665facf",
        "IPY_MODEL_d828002b1a404756b8f9dbfc96b1ffc1",
        "IPY_MODEL_8f744712f1da42b693089113de819dfb"
       ],
       "layout": "IPY_MODEL_1afd9b14111e46ce980a6e0b1d6e4560"
      }
     },
     "2cede2330d884562a62166d0d62dcd9b": {
      "model_module": "@jupyter-widgets/controls",
      "model_module_version": "2.0.0",
      "model_name": "HTMLModel",
      "state": {
       "layout": "IPY_MODEL_384d6f8e187a4707b65a2681e16fe7c3",
       "style": "IPY_MODEL_009b2957b305415891bb4aed8cebb918",
       "value": "100%"
      }
     },
     "2d314896d673436ca34fb2700ce24e3f": {
      "model_module": "@jupyter-widgets/controls",
      "model_module_version": "2.0.0",
      "model_name": "ProgressStyleModel",
      "state": {
       "description_width": ""
      }
     },
     "2d3c1b2fd2cc4a93801046220e37b45b": {
      "model_module": "@jupyter-widgets/controls",
      "model_module_version": "2.0.0",
      "model_name": "HBoxModel",
      "state": {
       "children": [
        "IPY_MODEL_ff7181daebce46c8a92713b3908a3645",
        "IPY_MODEL_306500c09d4a4504b0e75f825b372fb8",
        "IPY_MODEL_32176fcf74d844e6b25ff2e5158bb5eb"
       ],
       "layout": "IPY_MODEL_801c18dea9304ecbb6bb0636069827d4"
      }
     },
     "2d42c6d71c264d4b9b14ffa02a354d67": {
      "model_module": "@jupyter-widgets/base",
      "model_module_version": "2.0.0",
      "model_name": "LayoutModel",
      "state": {}
     },
     "2dadb4f5dece4bcc8627747de19f2efb": {
      "model_module": "@jupyter-widgets/controls",
      "model_module_version": "2.0.0",
      "model_name": "ProgressStyleModel",
      "state": {
       "description_width": ""
      }
     },
     "2e67d915b16444b9b3a482f2cd5cc527": {
      "model_module": "@jupyter-widgets/base",
      "model_module_version": "2.0.0",
      "model_name": "LayoutModel",
      "state": {}
     },
     "2ea3d3d9620148b8b3d58795d768afb2": {
      "model_module": "@jupyter-widgets/base",
      "model_module_version": "2.0.0",
      "model_name": "LayoutModel",
      "state": {}
     },
     "2efac13743ad48a393316dbb618326c8": {
      "model_module": "@jupyter-widgets/base",
      "model_module_version": "2.0.0",
      "model_name": "LayoutModel",
      "state": {}
     },
     "2f5c5af2a7194cbe9dede0e4b86308d8": {
      "model_module": "@jupyter-widgets/base",
      "model_module_version": "2.0.0",
      "model_name": "LayoutModel",
      "state": {}
     },
     "2feda786b216462abb1de9b6c3309cd7": {
      "model_module": "@jupyter-widgets/controls",
      "model_module_version": "2.0.0",
      "model_name": "HBoxModel",
      "state": {
       "children": [
        "IPY_MODEL_e98c8a8741464f7d89d4b1b0c4ba928e",
        "IPY_MODEL_71c16ffe2b024132b2cf659c64ff8904",
        "IPY_MODEL_cbe0ed1b6adb4f9ab4b90bafbb80e6c2"
       ],
       "layout": "IPY_MODEL_3611cc15566d491ea3d1ecf6979ec2fc"
      }
     },
     "3007aa1f6ee741e29dae0f62533f5049": {
      "model_module": "@jupyter-widgets/controls",
      "model_module_version": "2.0.0",
      "model_name": "DescriptionStyleModel",
      "state": {
       "description_width": ""
      }
     },
     "305aca9f3f244ad0b9b26ed91ec3af33": {
      "model_module": "@jupyter-widgets/base",
      "model_module_version": "2.0.0",
      "model_name": "LayoutModel",
      "state": {}
     },
     "306500c09d4a4504b0e75f825b372fb8": {
      "model_module": "@jupyter-widgets/controls",
      "model_module_version": "2.0.0",
      "model_name": "FloatProgressModel",
      "state": {
       "bar_style": "success",
       "layout": "IPY_MODEL_4627a97cda92444ba7641b387f1ae6bc",
       "max": 8,
       "style": "IPY_MODEL_bf2f79d4b8554fe0a9096bcceea7454d",
       "value": 8
      }
     },
     "30713ba3edd24ada839b9c13e1c290ff": {
      "model_module": "@jupyter-widgets/controls",
      "model_module_version": "2.0.0",
      "model_name": "HBoxModel",
      "state": {
       "children": [
        "IPY_MODEL_320e498a8ce44472bed31c2cb114f16d",
        "IPY_MODEL_3b059e86837346c498a31efea6bf754f",
        "IPY_MODEL_ba7005dc539b433c853dc0d5edf5deb3"
       ],
       "layout": "IPY_MODEL_f8f2b91fd5f749c1a9005b5678f313bc"
      }
     },
     "3088d09c6b51431da8feba468e073631": {
      "model_module": "@jupyter-widgets/base",
      "model_module_version": "2.0.0",
      "model_name": "LayoutModel",
      "state": {}
     },
     "3095d5471968403f8ffde3590444ba81": {
      "model_module": "@jupyter-widgets/base",
      "model_module_version": "2.0.0",
      "model_name": "LayoutModel",
      "state": {}
     },
     "30abf8ccf99543268d1324b1c5b5ed78": {
      "model_module": "@jupyter-widgets/base",
      "model_module_version": "2.0.0",
      "model_name": "LayoutModel",
      "state": {}
     },
     "30ea388980cf4a02882332baed3e3218": {
      "model_module": "@jupyter-widgets/controls",
      "model_module_version": "2.0.0",
      "model_name": "HBoxModel",
      "state": {
       "children": [
        "IPY_MODEL_adeb3d409ce9403b90fbd2fabd5b7981",
        "IPY_MODEL_0b1b5e2e830e40bb969f2adc1614aea5",
        "IPY_MODEL_9bd67eb962624cffae4c442e70298f11"
       ],
       "layout": "IPY_MODEL_2f5c5af2a7194cbe9dede0e4b86308d8"
      }
     },
     "30ebffb12b0f4b59abeb9b83b0a6fbdc": {
      "model_module": "@jupyter-widgets/base",
      "model_module_version": "2.0.0",
      "model_name": "LayoutModel",
      "state": {}
     },
     "30edfff582484b6493b79792a84b5d78": {
      "model_module": "@jupyter-widgets/base",
      "model_module_version": "2.0.0",
      "model_name": "LayoutModel",
      "state": {}
     },
     "310227bd46d14740a6e6c01f119281fe": {
      "model_module": "@jupyter-widgets/base",
      "model_module_version": "2.0.0",
      "model_name": "LayoutModel",
      "state": {}
     },
     "313184218519478e81dcb94e3da68a3e": {
      "model_module": "@jupyter-widgets/base",
      "model_module_version": "2.0.0",
      "model_name": "LayoutModel",
      "state": {}
     },
     "317058f3878e4108b4079aa84dd60582": {
      "model_module": "@jupyter-widgets/controls",
      "model_module_version": "2.0.0",
      "model_name": "HBoxModel",
      "state": {
       "children": [
        "IPY_MODEL_5d095f99d4c945618fe22682b2919f7f",
        "IPY_MODEL_b42c1ce5b32b407192f3a3d0cc1e8d5c",
        "IPY_MODEL_c699b778decd49ad962699ab3183abb0"
       ],
       "layout": "IPY_MODEL_4936dc8dbc6d405c956ddce5f6a5221e"
      }
     },
     "3178ada1cf22496f9e0de37eba7c5d31": {
      "model_module": "@jupyter-widgets/controls",
      "model_module_version": "2.0.0",
      "model_name": "HTMLModel",
      "state": {
       "layout": "IPY_MODEL_0a8273abf4b04fcfa266ece21ec57dc2",
       "style": "IPY_MODEL_eb0aa6c7a1894f94bcde787892e4921b",
       "value": "100%"
      }
     },
     "317d72de13f547c78f6388a685253365": {
      "model_module": "@jupyter-widgets/controls",
      "model_module_version": "2.0.0",
      "model_name": "DescriptionStyleModel",
      "state": {
       "description_width": ""
      }
     },
     "317facdbf72e446fb5da04ed0647fdad": {
      "model_module": "@jupyter-widgets/base",
      "model_module_version": "2.0.0",
      "model_name": "LayoutModel",
      "state": {}
     },
     "31ad866963ca421385351d2b52b2465d": {
      "model_module": "@jupyter-widgets/controls",
      "model_module_version": "2.0.0",
      "model_name": "HTMLModel",
      "state": {
       "layout": "IPY_MODEL_4b8fe3f450344df59adf09dfde46461c",
       "style": "IPY_MODEL_f02c4f5a3cc94e6a894dfcdd90c4a76c",
       "value": "100%"
      }
     },
     "31b974d56faf4275a2224373ca792f0c": {
      "model_module": "@jupyter-widgets/controls",
      "model_module_version": "2.0.0",
      "model_name": "HTMLStyleModel",
      "state": {
       "description_width": "",
       "font_size": null,
       "text_color": null
      }
     },
     "320e498a8ce44472bed31c2cb114f16d": {
      "model_module": "@jupyter-widgets/controls",
      "model_module_version": "2.0.0",
      "model_name": "HTMLModel",
      "state": {
       "layout": "IPY_MODEL_7e6cc6a679764955ae923d5a7ffce52d",
       "style": "IPY_MODEL_b24610b68ced4adca0b9b6b56cd9fbbc",
       "value": "100%"
      }
     },
     "32176fcf74d844e6b25ff2e5158bb5eb": {
      "model_module": "@jupyter-widgets/controls",
      "model_module_version": "2.0.0",
      "model_name": "HTMLModel",
      "state": {
       "layout": "IPY_MODEL_d1d58a82f6344ab2a101af2e41334a21",
       "style": "IPY_MODEL_af321bf03d344ab5bbf27ecfd4df46e1",
       "value": " 8/8 [00:31&lt;00:00,  4.88s/it]"
      }
     },
     "323409be01bc4fac9783bd8238d5b4de": {
      "model_module": "@jupyter-widgets/base",
      "model_module_version": "2.0.0",
      "model_name": "LayoutModel",
      "state": {}
     },
     "3282bc86098446bebd1e8f06a0a2af04": {
      "model_module": "@jupyter-widgets/controls",
      "model_module_version": "2.0.0",
      "model_name": "DescriptionStyleModel",
      "state": {
       "description_width": ""
      }
     },
     "32e522644e3548eeb2a61abd4431c1dc": {
      "model_module": "@jupyter-widgets/base",
      "model_module_version": "2.0.0",
      "model_name": "LayoutModel",
      "state": {}
     },
     "3304e1dd48ff49ecb920ff68b7dbacaa": {
      "model_module": "@jupyter-widgets/base",
      "model_module_version": "2.0.0",
      "model_name": "LayoutModel",
      "state": {}
     },
     "332676bbba814a449eedc22d227442ce": {
      "model_module": "@jupyter-widgets/controls",
      "model_module_version": "2.0.0",
      "model_name": "ProgressStyleModel",
      "state": {
       "description_width": ""
      }
     },
     "332e05a71fd2414fab6ab38afc22187c": {
      "model_module": "@jupyter-widgets/controls",
      "model_module_version": "2.0.0",
      "model_name": "HTMLModel",
      "state": {
       "layout": "IPY_MODEL_58e730ffdfd4482091cdaf8077d0cb8d",
       "style": "IPY_MODEL_85d9ce7fbbea4356a2844cb8e9bd2564",
       "value": "100%"
      }
     },
     "334435f8ee8b43159cafd77d58d41c79": {
      "model_module": "@jupyter-widgets/controls",
      "model_module_version": "2.0.0",
      "model_name": "ProgressStyleModel",
      "state": {
       "description_width": ""
      }
     },
     "334b08b1d51a4a27ba72938258be0194": {
      "model_module": "@jupyter-widgets/controls",
      "model_module_version": "2.0.0",
      "model_name": "HTMLStyleModel",
      "state": {
       "description_width": "",
       "font_size": null,
       "text_color": null
      }
     },
     "335359af048044b68a622eeed260338f": {
      "model_module": "@jupyter-widgets/controls",
      "model_module_version": "2.0.0",
      "model_name": "HTMLModel",
      "state": {
       "layout": "IPY_MODEL_caae53edbd58462cbc39966b1649dff7",
       "style": "IPY_MODEL_aa3734b8439c46588fafe5f7b191bb02",
       "value": " 57%"
      }
     },
     "335ac4086e8e40ea906ff302e06b35ec": {
      "model_module": "@jupyter-widgets/base",
      "model_module_version": "2.0.0",
      "model_name": "LayoutModel",
      "state": {}
     },
     "33e227418c11451eaa71da98a73824de": {
      "model_module": "@jupyter-widgets/base",
      "model_module_version": "2.0.0",
      "model_name": "LayoutModel",
      "state": {}
     },
     "3417b3ebb03f4797818201cd315cc5d6": {
      "model_module": "@jupyter-widgets/controls",
      "model_module_version": "2.0.0",
      "model_name": "HTMLModel",
      "state": {
       "layout": "IPY_MODEL_625a723425fa4d9990a4c0a5613fc01c",
       "style": "IPY_MODEL_e9851f713d7243c19f16d596d8687237",
       "value": "100%"
      }
     },
     "341a7cfa9b9240699db09f61bf95cb69": {
      "model_module": "@jupyter-widgets/controls",
      "model_module_version": "2.0.0",
      "model_name": "FloatProgressModel",
      "state": {
       "bar_style": "success",
       "layout": "IPY_MODEL_47338d97ff134b4ba576a42cb2a64c8d",
       "max": 3,
       "style": "IPY_MODEL_e1c181b12aa041edae8c0265a09202d8",
       "value": 3
      }
     },
     "3454421d51a5473faae3117d722bcde8": {
      "model_module": "@jupyter-widgets/base",
      "model_module_version": "2.0.0",
      "model_name": "LayoutModel",
      "state": {}
     },
     "34606ce89b63484aad57b4a2d451950c": {
      "model_module": "@jupyter-widgets/controls",
      "model_module_version": "2.0.0",
      "model_name": "HTMLModel",
      "state": {
       "layout": "IPY_MODEL_49c8c6d9bde6402bb4136d37f94c0fee",
       "style": "IPY_MODEL_c25231556e594901b84222ec98cfa76c",
       "value": "100%"
      }
     },
     "348a6bbab1df499393ae546399d44ddd": {
      "model_module": "@jupyter-widgets/controls",
      "model_module_version": "2.0.0",
      "model_name": "FloatProgressModel",
      "state": {
       "bar_style": "success",
       "layout": "IPY_MODEL_10ea0838335d4ae1bb579ef325c49f1d",
       "max": 6,
       "style": "IPY_MODEL_12376590b1cc4543ba04cb2c3624454c",
       "value": 6
      }
     },
     "354441ea960046e78181c0039137b821": {
      "model_module": "@jupyter-widgets/base",
      "model_module_version": "2.0.0",
      "model_name": "LayoutModel",
      "state": {}
     },
     "35a3c9c7f0a84db7b11166c968c8e8c5": {
      "model_module": "@jupyter-widgets/base",
      "model_module_version": "2.0.0",
      "model_name": "LayoutModel",
      "state": {}
     },
     "3611cc15566d491ea3d1ecf6979ec2fc": {
      "model_module": "@jupyter-widgets/base",
      "model_module_version": "2.0.0",
      "model_name": "LayoutModel",
      "state": {}
     },
     "361f76237aa24315b59c5ca16a22a090": {
      "model_module": "@jupyter-widgets/controls",
      "model_module_version": "2.0.0",
      "model_name": "HTMLModel",
      "state": {
       "layout": "IPY_MODEL_ce39bf113fa24c5a9c3d66bf8827fbe9",
       "style": "IPY_MODEL_cd5ec6a0899a4ec3bf44ab5113ec9831",
       "value": " 6/6 [00:11&lt;00:00,  2.81s/it]"
      }
     },
     "36b244b936554e89b66a62ccb92cddff": {
      "model_module": "@jupyter-widgets/controls",
      "model_module_version": "2.0.0",
      "model_name": "HTMLModel",
      "state": {
       "layout": "IPY_MODEL_ee859f8513d14fd2a184aee7c23944ab",
       "style": "IPY_MODEL_e3bb59a05fb8415c83eb1f0ab2bfbf5f",
       "value": "100%"
      }
     },
     "376f7f735cd6494b93669863dd2219d1": {
      "model_module": "@jupyter-widgets/controls",
      "model_module_version": "2.0.0",
      "model_name": "ProgressStyleModel",
      "state": {
       "description_width": ""
      }
     },
     "384d6f8e187a4707b65a2681e16fe7c3": {
      "model_module": "@jupyter-widgets/base",
      "model_module_version": "2.0.0",
      "model_name": "LayoutModel",
      "state": {}
     },
     "385052d0c22a494c95a54f3ec5ca9ea2": {
      "model_module": "@jupyter-widgets/base",
      "model_module_version": "2.0.0",
      "model_name": "LayoutModel",
      "state": {}
     },
     "38b365b1201f4397953d51a62aaf4e80": {
      "model_module": "@jupyter-widgets/controls",
      "model_module_version": "2.0.0",
      "model_name": "HTMLStyleModel",
      "state": {
       "description_width": "",
       "font_size": null,
       "text_color": null
      }
     },
     "38b3f926069543699e7356d6fb50128f": {
      "model_module": "@jupyter-widgets/base",
      "model_module_version": "2.0.0",
      "model_name": "LayoutModel",
      "state": {}
     },
     "394586c584cb4ba4a4e8e82ff2f12879": {
      "model_module": "@jupyter-widgets/controls",
      "model_module_version": "2.0.0",
      "model_name": "HTMLModel",
      "state": {
       "layout": "IPY_MODEL_03cf710d075a49579d410930b6fbacf4",
       "style": "IPY_MODEL_1d1d0262b04541a6a88b8cfc2026e946",
       "value": "100%"
      }
     },
     "39492984205c40f9a2c80345c5accd4d": {
      "model_module": "@jupyter-widgets/base",
      "model_module_version": "2.0.0",
      "model_name": "LayoutModel",
      "state": {}
     },
     "3979d488f5ca4bb7b9752f190f516e49": {
      "model_module": "@jupyter-widgets/base",
      "model_module_version": "2.0.0",
      "model_name": "LayoutModel",
      "state": {}
     },
     "39954bc2a54d43c78994d415f66343e6": {
      "model_module": "@jupyter-widgets/base",
      "model_module_version": "2.0.0",
      "model_name": "LayoutModel",
      "state": {}
     },
     "39ba132769b346d3807f8ffdb35ef4ef": {
      "model_module": "@jupyter-widgets/controls",
      "model_module_version": "2.0.0",
      "model_name": "HTMLModel",
      "state": {
       "layout": "IPY_MODEL_e67dee11d433417985572ac96d041333",
       "style": "IPY_MODEL_e11500d7c68642fbb6c1587fa476ab91",
       "value": "100%"
      }
     },
     "3a71f9045ef64b82ae273c50b5be2d91": {
      "model_module": "@jupyter-widgets/controls",
      "model_module_version": "2.0.0",
      "model_name": "DescriptionStyleModel",
      "state": {
       "description_width": ""
      }
     },
     "3b059e86837346c498a31efea6bf754f": {
      "model_module": "@jupyter-widgets/controls",
      "model_module_version": "2.0.0",
      "model_name": "FloatProgressModel",
      "state": {
       "bar_style": "success",
       "layout": "IPY_MODEL_420b0dcef4f141b690b67d4328cbe628",
       "max": 6,
       "style": "IPY_MODEL_0955482db7ea401daacc4b71171b4096",
       "value": 6
      }
     },
     "3b0a2073456e43cbbc07113f5a06cd57": {
      "model_module": "@jupyter-widgets/base",
      "model_module_version": "2.0.0",
      "model_name": "LayoutModel",
      "state": {}
     },
     "3bf48ed08eed4ac5a645a04c7acea2f0": {
      "model_module": "@jupyter-widgets/controls",
      "model_module_version": "2.0.0",
      "model_name": "ProgressStyleModel",
      "state": {
       "description_width": ""
      }
     },
     "3c3b7115d2d34299bac7a54a435f0f3c": {
      "model_module": "@jupyter-widgets/base",
      "model_module_version": "2.0.0",
      "model_name": "LayoutModel",
      "state": {}
     },
     "3cc770638fe64170b64f98ec87ea9bbb": {
      "model_module": "@jupyter-widgets/controls",
      "model_module_version": "2.0.0",
      "model_name": "HTMLStyleModel",
      "state": {
       "description_width": "",
       "font_size": null,
       "text_color": null
      }
     },
     "3cc8526128264bb280238503853a9de7": {
      "model_module": "@jupyter-widgets/controls",
      "model_module_version": "2.0.0",
      "model_name": "DescriptionStyleModel",
      "state": {
       "description_width": ""
      }
     },
     "3cda17e2deb342b08a1a07c1f5b64474": {
      "model_module": "@jupyter-widgets/base",
      "model_module_version": "2.0.0",
      "model_name": "LayoutModel",
      "state": {}
     },
     "3d11387ee5bf45a7841f88bcba010856": {
      "model_module": "@jupyter-widgets/controls",
      "model_module_version": "2.0.0",
      "model_name": "FloatProgressModel",
      "state": {
       "bar_style": "success",
       "layout": "IPY_MODEL_7a28907fd43d4e51b721aa9335b3ddd1",
       "max": 6,
       "style": "IPY_MODEL_4f1b62d56e4841a0b8a437b1e7082159",
       "value": 6
      }
     },
     "3d166a7aee6444dbaa8ad4fbe9667ab8": {
      "model_module": "@jupyter-widgets/controls",
      "model_module_version": "2.0.0",
      "model_name": "FloatProgressModel",
      "state": {
       "bar_style": "success",
       "layout": "IPY_MODEL_30abf8ccf99543268d1324b1c5b5ed78",
       "max": 3,
       "style": "IPY_MODEL_2763bab54f6b4f9b9850c8136f67ce38",
       "value": 3
      }
     },
     "3d1cac7f5ee04ba786173b125cae00a4": {
      "model_module": "@jupyter-widgets/base",
      "model_module_version": "2.0.0",
      "model_name": "LayoutModel",
      "state": {}
     },
     "3d47e1796585418ca1b913a20708cefa": {
      "model_module": "@jupyter-widgets/controls",
      "model_module_version": "2.0.0",
      "model_name": "ProgressStyleModel",
      "state": {
       "description_width": ""
      }
     },
     "3d636d403f39459285ec539924773592": {
      "model_module": "@jupyter-widgets/controls",
      "model_module_version": "2.0.0",
      "model_name": "HBoxModel",
      "state": {
       "children": [
        "IPY_MODEL_31ad866963ca421385351d2b52b2465d",
        "IPY_MODEL_d7d389b119e943efb26c211533ca5275",
        "IPY_MODEL_4b6bce95eb034f8fa39251884eef9197"
       ],
       "layout": "IPY_MODEL_d790f3b779934eee8348804dd22ba3c1"
      }
     },
     "3d9c0e4cf5424a148ed3f6045f692b24": {
      "model_module": "@jupyter-widgets/controls",
      "model_module_version": "2.0.0",
      "model_name": "HTMLModel",
      "state": {
       "layout": "IPY_MODEL_ae857c0ea2034768aaa19e883a3f5fae",
       "style": "IPY_MODEL_461586af515a4296b87a80fa580a2f99",
       "value": "100%"
      }
     },
     "3da353bac79d453282b17d5e84055538": {
      "model_module": "@jupyter-widgets/base",
      "model_module_version": "2.0.0",
      "model_name": "LayoutModel",
      "state": {}
     },
     "3ddf5925f06b4d429e4f92bd152b3bec": {
      "model_module": "@jupyter-widgets/controls",
      "model_module_version": "2.0.0",
      "model_name": "HTMLModel",
      "state": {
       "layout": "IPY_MODEL_3f5f678c463f4cde99c45b47248d772d",
       "style": "IPY_MODEL_d7436bd261a3403b974de6b6da39f46a",
       "value": "100%"
      }
     },
     "3e038dd87e8e4559b113c386a0626299": {
      "model_module": "@jupyter-widgets/base",
      "model_module_version": "2.0.0",
      "model_name": "LayoutModel",
      "state": {}
     },
     "3e0b8257b09045b9bb0d57dfa5fc8945": {
      "model_module": "@jupyter-widgets/controls",
      "model_module_version": "2.0.0",
      "model_name": "HTMLModel",
      "state": {
       "layout": "IPY_MODEL_ff6c51d38ade449d9351b3aa712bc22e",
       "style": "IPY_MODEL_3007aa1f6ee741e29dae0f62533f5049",
       "value": "100%"
      }
     },
     "3e19c07dc568400ab3ee08655136390e": {
      "model_module": "@jupyter-widgets/controls",
      "model_module_version": "2.0.0",
      "model_name": "HBoxModel",
      "state": {
       "children": [
        "IPY_MODEL_4a2153b7870843a388965c1d13988aa1",
        "IPY_MODEL_5e4ab518bc7f4437b2e0d4d180d3eb3d",
        "IPY_MODEL_f5b2aff67783436c98d18958c3462638"
       ],
       "layout": "IPY_MODEL_bd439efb587f416c88473e2207f1de00"
      }
     },
     "3e39b41de3b441b9bf4aca91849f83ba": {
      "model_module": "@jupyter-widgets/controls",
      "model_module_version": "2.0.0",
      "model_name": "HTMLModel",
      "state": {
       "layout": "IPY_MODEL_4479826179dd4a00a99758a09b765c55",
       "style": "IPY_MODEL_b9ac73cbe2ab47b6a925b4af56855006",
       "value": " 3/3 [00:10&lt;00:00,  4.21s/it]"
      }
     },
     "3e41b6f6cbc4447a8970ae9f5bb50caf": {
      "model_module": "@jupyter-widgets/controls",
      "model_module_version": "2.0.0",
      "model_name": "ProgressStyleModel",
      "state": {
       "description_width": ""
      }
     },
     "3e57f777247b4598b82b5d44f6a95f1f": {
      "model_module": "@jupyter-widgets/controls",
      "model_module_version": "2.0.0",
      "model_name": "FloatProgressModel",
      "state": {
       "bar_style": "danger",
       "layout": "IPY_MODEL_c8a1210993ec476fbde009309209fc35",
       "max": 6,
       "style": "IPY_MODEL_f8689e845c5447c398f87941c18b50cf"
      }
     },
     "3e652183e9194bbeb3771a9fb7244611": {
      "model_module": "@jupyter-widgets/base",
      "model_module_version": "2.0.0",
      "model_name": "LayoutModel",
      "state": {}
     },
     "3ed6c93787754b44a7cee52d4c2da14b": {
      "model_module": "@jupyter-widgets/controls",
      "model_module_version": "2.0.0",
      "model_name": "HBoxModel",
      "state": {
       "children": [
        "IPY_MODEL_ca08d7ee14214e2ebed567205b819df1",
        "IPY_MODEL_631932574a4f478698da5bfd889c15f2",
        "IPY_MODEL_273b1ed998a24d33896bf669abd17f2d"
       ],
       "layout": "IPY_MODEL_b5fb0353521943fcb24fee15656f0772"
      }
     },
     "3f0ca1a537944eababed72bd0d0b4031": {
      "model_module": "@jupyter-widgets/controls",
      "model_module_version": "2.0.0",
      "model_name": "DescriptionStyleModel",
      "state": {
       "description_width": ""
      }
     },
     "3f1e1583b7cc4b0d8c5bcff3dfaae02c": {
      "model_module": "@jupyter-widgets/base",
      "model_module_version": "2.0.0",
      "model_name": "LayoutModel",
      "state": {}
     },
     "3f5f678c463f4cde99c45b47248d772d": {
      "model_module": "@jupyter-widgets/base",
      "model_module_version": "2.0.0",
      "model_name": "LayoutModel",
      "state": {}
     },
     "3f5fc16ddecb4154990b5e1d937d9c61": {
      "model_module": "@jupyter-widgets/controls",
      "model_module_version": "2.0.0",
      "model_name": "HTMLStyleModel",
      "state": {
       "description_width": "",
       "font_size": null,
       "text_color": null
      }
     },
     "3f64a682d5ca417bb12d96354fe97ee4": {
      "model_module": "@jupyter-widgets/controls",
      "model_module_version": "2.0.0",
      "model_name": "DescriptionStyleModel",
      "state": {
       "description_width": ""
      }
     },
     "3f789c27308447d6b763ce0d90eb3663": {
      "model_module": "@jupyter-widgets/base",
      "model_module_version": "2.0.0",
      "model_name": "LayoutModel",
      "state": {}
     },
     "3f85e0c67a0d4d7cb0b7456565c6674c": {
      "model_module": "@jupyter-widgets/controls",
      "model_module_version": "2.0.0",
      "model_name": "HTMLModel",
      "state": {
       "layout": "IPY_MODEL_0ae180ce7c094699b73877331aa776d5",
       "style": "IPY_MODEL_7ac288d49970411bbc6f9fd4c48b352e",
       "value": " 6/6 [00:08&lt;00:00,  1.96s/it]"
      }
     },
     "3fddd002da7649749b34a9ec104055f6": {
      "model_module": "@jupyter-widgets/controls",
      "model_module_version": "2.0.0",
      "model_name": "HBoxModel",
      "state": {
       "children": [
        "IPY_MODEL_70960292e2904c71aaf0829c5276ff22",
        "IPY_MODEL_b959d2c248eb480db8aa79fc8a5cb534",
        "IPY_MODEL_687f590cf40747caabe161fa9d4c56bc"
       ],
       "layout": "IPY_MODEL_850b5faee343454caff7bcb954c1b297"
      }
     },
     "40ad493a779948fb877b8f1efbeb96ff": {
      "model_module": "@jupyter-widgets/controls",
      "model_module_version": "2.0.0",
      "model_name": "HTMLModel",
      "state": {
       "layout": "IPY_MODEL_d198ef45d5a04f10855f3477e5f4f784",
       "style": "IPY_MODEL_4d050a4d6d284e5fa00be4140da9ca05",
       "value": "100%"
      }
     },
     "4141feb5c5b04f67b14d782916cf2a43": {
      "model_module": "@jupyter-widgets/controls",
      "model_module_version": "2.0.0",
      "model_name": "HTMLStyleModel",
      "state": {
       "description_width": "",
       "font_size": null,
       "text_color": null
      }
     },
     "415a0ab04e254c019410b5f8792449de": {
      "model_module": "@jupyter-widgets/base",
      "model_module_version": "2.0.0",
      "model_name": "LayoutModel",
      "state": {}
     },
     "415ded97bd634a94aa9493edee1aef5e": {
      "model_module": "@jupyter-widgets/base",
      "model_module_version": "2.0.0",
      "model_name": "LayoutModel",
      "state": {}
     },
     "416740e46d6445bdab71fba20bb12459": {
      "model_module": "@jupyter-widgets/controls",
      "model_module_version": "2.0.0",
      "model_name": "ProgressStyleModel",
      "state": {
       "description_width": ""
      }
     },
     "417fab544a4646ed858872a9006749d0": {
      "model_module": "@jupyter-widgets/controls",
      "model_module_version": "2.0.0",
      "model_name": "HTMLModel",
      "state": {
       "layout": "IPY_MODEL_58366bed42f541dfadf9b3b57d005ecc",
       "style": "IPY_MODEL_a18db3fb7d924aaf9f82396754c998e8",
       "value": "100%"
      }
     },
     "41d2351da9f445548ea422ffb7bd70b8": {
      "model_module": "@jupyter-widgets/controls",
      "model_module_version": "2.0.0",
      "model_name": "ProgressStyleModel",
      "state": {
       "description_width": ""
      }
     },
     "42084ebcfb5c4a14bb1a8dccb70c02e7": {
      "model_module": "@jupyter-widgets/base",
      "model_module_version": "2.0.0",
      "model_name": "LayoutModel",
      "state": {}
     },
     "420b0dcef4f141b690b67d4328cbe628": {
      "model_module": "@jupyter-widgets/base",
      "model_module_version": "2.0.0",
      "model_name": "LayoutModel",
      "state": {}
     },
     "423dea1c8eb945b6a7163ee3148987c8": {
      "model_module": "@jupyter-widgets/controls",
      "model_module_version": "2.0.0",
      "model_name": "HBoxModel",
      "state": {
       "children": [
        "IPY_MODEL_394586c584cb4ba4a4e8e82ff2f12879",
        "IPY_MODEL_21f3def43b384e6aa18449eabe0dfc10",
        "IPY_MODEL_e532c67f1c5a459dbaf78b5d1c681376"
       ],
       "layout": "IPY_MODEL_633e8f4668c54e8796993e023cf93211"
      }
     },
     "4249d3d2ad154f738789fb624a8e0867": {
      "model_module": "@jupyter-widgets/base",
      "model_module_version": "2.0.0",
      "model_name": "LayoutModel",
      "state": {}
     },
     "42532cf335f84e91bc184fa3de80d781": {
      "model_module": "@jupyter-widgets/controls",
      "model_module_version": "2.0.0",
      "model_name": "HBoxModel",
      "state": {
       "children": [
        "IPY_MODEL_332e05a71fd2414fab6ab38afc22187c",
        "IPY_MODEL_799c2ce912b542fe9177159be2e714af",
        "IPY_MODEL_96b460c37817428197afea818ff1e4a5"
       ],
       "layout": "IPY_MODEL_313184218519478e81dcb94e3da68a3e"
      }
     },
     "42645fcaf4c64cf68824d93759c75bc8": {
      "model_module": "@jupyter-widgets/controls",
      "model_module_version": "2.0.0",
      "model_name": "HTMLModel",
      "state": {
       "layout": "IPY_MODEL_6947ec67f5c2497fa581f2f98be5d5b6",
       "style": "IPY_MODEL_d463b721d2be4341b9411cf03bac5304",
       "value": "100%"
      }
     },
     "426b1e6d2eb9431a90d9e84453cb2481": {
      "model_module": "@jupyter-widgets/base",
      "model_module_version": "2.0.0",
      "model_name": "LayoutModel",
      "state": {}
     },
     "430fec0f20bc4e7ebe830021f63dd731": {
      "model_module": "@jupyter-widgets/controls",
      "model_module_version": "2.0.0",
      "model_name": "FloatProgressModel",
      "state": {
       "bar_style": "success",
       "layout": "IPY_MODEL_8c9fb845d586409ebe1a3b099073ed87",
       "max": 3,
       "style": "IPY_MODEL_9853c5d67f5f48bb9813db5ee85adebb",
       "value": 3
      }
     },
     "4311cd0e553c47d9b70df4a18569c812": {
      "model_module": "@jupyter-widgets/base",
      "model_module_version": "2.0.0",
      "model_name": "LayoutModel",
      "state": {}
     },
     "4324a89963364b5987259e4f966771c2": {
      "model_module": "@jupyter-widgets/controls",
      "model_module_version": "2.0.0",
      "model_name": "HBoxModel",
      "state": {
       "children": [
        "IPY_MODEL_783ab5f1eaf04f2e9109c2425d8d2ce7",
        "IPY_MODEL_fdad8f8a394b4897a51e1509b9cafa80",
        "IPY_MODEL_2288d78992024f17b4c33d51aa323edd"
       ],
       "layout": "IPY_MODEL_e7c676f5f32c47ba9d376ed1e98d2579"
      }
     },
     "437853bb71fc48718a27425bc6fcd9c5": {
      "model_module": "@jupyter-widgets/controls",
      "model_module_version": "2.0.0",
      "model_name": "DescriptionStyleModel",
      "state": {
       "description_width": ""
      }
     },
     "43813cdb3cc948f49df4d4f3c7bbca4d": {
      "model_module": "@jupyter-widgets/controls",
      "model_module_version": "2.0.0",
      "model_name": "DescriptionStyleModel",
      "state": {
       "description_width": ""
      }
     },
     "4388f670ebb044a3a9838ebdc4c2a587": {
      "model_module": "@jupyter-widgets/controls",
      "model_module_version": "2.0.0",
      "model_name": "FloatProgressModel",
      "state": {
       "bar_style": "success",
       "layout": "IPY_MODEL_426b1e6d2eb9431a90d9e84453cb2481",
       "max": 8,
       "style": "IPY_MODEL_de728bf9065147a785cfed2cb35fefdb",
       "value": 8
      }
     },
     "4397d05cf65a4a3098f3fbc65ec9cf13": {
      "model_module": "@jupyter-widgets/controls",
      "model_module_version": "2.0.0",
      "model_name": "DescriptionStyleModel",
      "state": {
       "description_width": ""
      }
     },
     "43b0db65a5c244058d984db9272cbdbd": {
      "model_module": "@jupyter-widgets/controls",
      "model_module_version": "2.0.0",
      "model_name": "DescriptionStyleModel",
      "state": {
       "description_width": ""
      }
     },
     "43ea1b3882bd41068924670970a9c5e8": {
      "model_module": "@jupyter-widgets/controls",
      "model_module_version": "2.0.0",
      "model_name": "HTMLModel",
      "state": {
       "layout": "IPY_MODEL_1c4bcfb11581445a8d46ce754ec37180",
       "style": "IPY_MODEL_f1cfc5bb0898456ca8f5c538a609a70f",
       "value": "100%"
      }
     },
     "4423c92e6ab94b46b6f89bde9dddf3a8": {
      "model_module": "@jupyter-widgets/controls",
      "model_module_version": "2.0.0",
      "model_name": "DescriptionStyleModel",
      "state": {
       "description_width": ""
      }
     },
     "4479826179dd4a00a99758a09b765c55": {
      "model_module": "@jupyter-widgets/base",
      "model_module_version": "2.0.0",
      "model_name": "LayoutModel",
      "state": {}
     },
     "44d1cb966cd74d34b917a08160071f86": {
      "model_module": "@jupyter-widgets/base",
      "model_module_version": "2.0.0",
      "model_name": "LayoutModel",
      "state": {}
     },
     "44d5718f041c4cdf8b85c3e58a90c1e2": {
      "model_module": "@jupyter-widgets/controls",
      "model_module_version": "2.0.0",
      "model_name": "DescriptionStyleModel",
      "state": {
       "description_width": ""
      }
     },
     "44e53d99312544a4b17fe0145636ef45": {
      "model_module": "@jupyter-widgets/controls",
      "model_module_version": "2.0.0",
      "model_name": "HBoxModel",
      "state": {
       "children": [
        "IPY_MODEL_63a70b06ff4246d3819f71da3565aefd",
        "IPY_MODEL_b0abd16537734a9d99386e3c8da6b4b8",
        "IPY_MODEL_97bbbe30ec7f46b9aaa8e4ad4646ac93"
       ],
       "layout": "IPY_MODEL_51c0ffeb291c451e88c73009c996057f"
      }
     },
     "451473f4e335442db1280c3dafa1c5de": {
      "model_module": "@jupyter-widgets/controls",
      "model_module_version": "2.0.0",
      "model_name": "HTMLStyleModel",
      "state": {
       "description_width": "",
       "font_size": null,
       "text_color": null
      }
     },
     "45418625fe974d70bd43597a713421ee": {
      "model_module": "@jupyter-widgets/controls",
      "model_module_version": "2.0.0",
      "model_name": "HTMLStyleModel",
      "state": {
       "description_width": "",
       "font_size": null,
       "text_color": null
      }
     },
     "4553fb4f7c304feda4bdd2c6af136987": {
      "model_module": "@jupyter-widgets/controls",
      "model_module_version": "2.0.0",
      "model_name": "FloatProgressModel",
      "state": {
       "bar_style": "success",
       "layout": "IPY_MODEL_39492984205c40f9a2c80345c5accd4d",
       "max": 6,
       "style": "IPY_MODEL_376f7f735cd6494b93669863dd2219d1",
       "value": 6
      }
     },
     "4566d1e63f3940db9ec45156b6a840dc": {
      "model_module": "@jupyter-widgets/controls",
      "model_module_version": "2.0.0",
      "model_name": "DescriptionStyleModel",
      "state": {
       "description_width": ""
      }
     },
     "45f72b16772f40e081fb9d967266f68d": {
      "model_module": "@jupyter-widgets/base",
      "model_module_version": "2.0.0",
      "model_name": "LayoutModel",
      "state": {}
     },
     "461586af515a4296b87a80fa580a2f99": {
      "model_module": "@jupyter-widgets/controls",
      "model_module_version": "2.0.0",
      "model_name": "HTMLStyleModel",
      "state": {
       "description_width": "",
       "font_size": null,
       "text_color": null
      }
     },
     "4624434e462b4f3592aa0a3f3ada8c5d": {
      "model_module": "@jupyter-widgets/base",
      "model_module_version": "2.0.0",
      "model_name": "LayoutModel",
      "state": {}
     },
     "4627a97cda92444ba7641b387f1ae6bc": {
      "model_module": "@jupyter-widgets/base",
      "model_module_version": "2.0.0",
      "model_name": "LayoutModel",
      "state": {}
     },
     "4649dcb9189249368cf39bbc84f2235f": {
      "model_module": "@jupyter-widgets/base",
      "model_module_version": "2.0.0",
      "model_name": "LayoutModel",
      "state": {}
     },
     "4664fa510ec24a1f8e977e573fdb1129": {
      "model_module": "@jupyter-widgets/base",
      "model_module_version": "2.0.0",
      "model_name": "LayoutModel",
      "state": {}
     },
     "468581f8cddc4e7bb1610ac6320b66b7": {
      "model_module": "@jupyter-widgets/base",
      "model_module_version": "2.0.0",
      "model_name": "LayoutModel",
      "state": {}
     },
     "46b3e17002044bd187ddffcb137f8442": {
      "model_module": "@jupyter-widgets/base",
      "model_module_version": "2.0.0",
      "model_name": "LayoutModel",
      "state": {}
     },
     "46ebb4fddc664e87b0138b0620d90088": {
      "model_module": "@jupyter-widgets/base",
      "model_module_version": "2.0.0",
      "model_name": "LayoutModel",
      "state": {}
     },
     "46f145a243894c2d993c289862c13a8b": {
      "model_module": "@jupyter-widgets/base",
      "model_module_version": "2.0.0",
      "model_name": "LayoutModel",
      "state": {}
     },
     "4702939ba6f34c9b95242c92bc25156a": {
      "model_module": "@jupyter-widgets/controls",
      "model_module_version": "2.0.0",
      "model_name": "HTMLModel",
      "state": {
       "layout": "IPY_MODEL_269217df1e414f15bbce58c8f7f3d364",
       "style": "IPY_MODEL_856fc5b6342d48619ba1ba16c73ed3f4",
       "value": " 83%"
      }
     },
     "47338d97ff134b4ba576a42cb2a64c8d": {
      "model_module": "@jupyter-widgets/base",
      "model_module_version": "2.0.0",
      "model_name": "LayoutModel",
      "state": {}
     },
     "478294a04e59466e9eb976ac1abe3192": {
      "model_module": "@jupyter-widgets/base",
      "model_module_version": "2.0.0",
      "model_name": "LayoutModel",
      "state": {}
     },
     "47f98225af024bc7af24fb7f21e52399": {
      "model_module": "@jupyter-widgets/controls",
      "model_module_version": "2.0.0",
      "model_name": "HTMLModel",
      "state": {
       "layout": "IPY_MODEL_2efac13743ad48a393316dbb618326c8",
       "style": "IPY_MODEL_43b0db65a5c244058d984db9272cbdbd",
       "value": " 14/14 [00:34&lt;00:00,  2.56s/it]"
      }
     },
     "48509f32298d424d92624149bb5d2dbb": {
      "model_module": "@jupyter-widgets/controls",
      "model_module_version": "2.0.0",
      "model_name": "HBoxModel",
      "state": {
       "children": [
        "IPY_MODEL_5b922da8cd1e4231beb1695f3a1f7ef4",
        "IPY_MODEL_526a7acfe3114c5bb4689cd4e0cfd2be",
        "IPY_MODEL_ae271860a6e14fda9f58304373ac1cba"
       ],
       "layout": "IPY_MODEL_87797a99938f45d29bd835be4b5ec572"
      }
     },
     "485731a4a3dc4749a02b85fab8597d7a": {
      "model_module": "@jupyter-widgets/base",
      "model_module_version": "2.0.0",
      "model_name": "LayoutModel",
      "state": {}
     },
     "4936dc8dbc6d405c956ddce5f6a5221e": {
      "model_module": "@jupyter-widgets/base",
      "model_module_version": "2.0.0",
      "model_name": "LayoutModel",
      "state": {}
     },
     "49c8c6d9bde6402bb4136d37f94c0fee": {
      "model_module": "@jupyter-widgets/base",
      "model_module_version": "2.0.0",
      "model_name": "LayoutModel",
      "state": {}
     },
     "4a02dde9f0c2473ca483bd879aae9897": {
      "model_module": "@jupyter-widgets/controls",
      "model_module_version": "2.0.0",
      "model_name": "HTMLModel",
      "state": {
       "layout": "IPY_MODEL_554aad861ce14a18bcfcd879557d5536",
       "style": "IPY_MODEL_029642dfa78247a18b8c1e5fe6452dda",
       "value": "100%"
      }
     },
     "4a2153b7870843a388965c1d13988aa1": {
      "model_module": "@jupyter-widgets/controls",
      "model_module_version": "2.0.0",
      "model_name": "HTMLModel",
      "state": {
       "layout": "IPY_MODEL_219404a0aa80406fba4e1a59864e213e",
       "style": "IPY_MODEL_f990c3c0d24b4feb8b54ebbb0fe605e3",
       "value": "100%"
      }
     },
     "4a9c8487b9174ce392d94d1f8a019cab": {
      "model_module": "@jupyter-widgets/controls",
      "model_module_version": "2.0.0",
      "model_name": "DescriptionStyleModel",
      "state": {
       "description_width": ""
      }
     },
     "4aa728bf97a248ecb6f1ed409e13c000": {
      "model_module": "@jupyter-widgets/controls",
      "model_module_version": "2.0.0",
      "model_name": "HTMLStyleModel",
      "state": {
       "description_width": "",
       "font_size": null,
       "text_color": null
      }
     },
     "4aaaf3eed0254936b5a52ab7b0c6415e": {
      "model_module": "@jupyter-widgets/controls",
      "model_module_version": "2.0.0",
      "model_name": "HBoxModel",
      "state": {
       "children": [
        "IPY_MODEL_77060f02c0864339a20814717a687e8b",
        "IPY_MODEL_acb3fc7c388f438890ef68e82fa1047e",
        "IPY_MODEL_d2dc6893736e407cb84282e4eceb0b6f"
       ],
       "layout": "IPY_MODEL_fb01dde1bd6a48828dc2335448eeab33"
      }
     },
     "4ad7e55c582c4f96bf747521fa1a880e": {
      "model_module": "@jupyter-widgets/controls",
      "model_module_version": "2.0.0",
      "model_name": "DescriptionStyleModel",
      "state": {
       "description_width": ""
      }
     },
     "4b6bce95eb034f8fa39251884eef9197": {
      "model_module": "@jupyter-widgets/controls",
      "model_module_version": "2.0.0",
      "model_name": "HTMLModel",
      "state": {
       "layout": "IPY_MODEL_4f13d7468d3e433aaebc524e2f966636",
       "style": "IPY_MODEL_317d72de13f547c78f6388a685253365",
       "value": " 14/14 [00:33&lt;00:00,  2.52s/it]"
      }
     },
     "4b756571316644e7a1e95bfff335a728": {
      "model_module": "@jupyter-widgets/base",
      "model_module_version": "2.0.0",
      "model_name": "LayoutModel",
      "state": {}
     },
     "4b8fe3f450344df59adf09dfde46461c": {
      "model_module": "@jupyter-widgets/base",
      "model_module_version": "2.0.0",
      "model_name": "LayoutModel",
      "state": {}
     },
     "4c341a451372475c8ab1b62d52cc124c": {
      "model_module": "@jupyter-widgets/controls",
      "model_module_version": "2.0.0",
      "model_name": "FloatProgressModel",
      "state": {
       "bar_style": "success",
       "layout": "IPY_MODEL_354441ea960046e78181c0039137b821",
       "max": 6,
       "style": "IPY_MODEL_14f0bd724fd345f8bab8dfc4bef0bf08",
       "value": 6
      }
     },
     "4c514c61a1824da0bb353e154c21288e": {
      "model_module": "@jupyter-widgets/controls",
      "model_module_version": "2.0.0",
      "model_name": "HTMLModel",
      "state": {
       "layout": "IPY_MODEL_35a3c9c7f0a84db7b11166c968c8e8c5",
       "style": "IPY_MODEL_f6d9b538a7d4474faf6f1b5d4ed3aa22",
       "value": " 14/14 [00:34&lt;00:00,  2.58s/it]"
      }
     },
     "4c7a44cfe46546c7ad4510925b762ba3": {
      "model_module": "@jupyter-widgets/base",
      "model_module_version": "2.0.0",
      "model_name": "LayoutModel",
      "state": {}
     },
     "4cf01c7addd141348d4644f6e298d0c3": {
      "model_module": "@jupyter-widgets/base",
      "model_module_version": "2.0.0",
      "model_name": "LayoutModel",
      "state": {}
     },
     "4d050a4d6d284e5fa00be4140da9ca05": {
      "model_module": "@jupyter-widgets/controls",
      "model_module_version": "2.0.0",
      "model_name": "DescriptionStyleModel",
      "state": {
       "description_width": ""
      }
     },
     "4dd2a703b89e4906995b6ae63384ebec": {
      "model_module": "@jupyter-widgets/base",
      "model_module_version": "2.0.0",
      "model_name": "LayoutModel",
      "state": {}
     },
     "4df6d7c39cce4536a58880a00a3970ef": {
      "model_module": "@jupyter-widgets/controls",
      "model_module_version": "2.0.0",
      "model_name": "ProgressStyleModel",
      "state": {
       "description_width": ""
      }
     },
     "4df9ea255ee04057a55797a504a03021": {
      "model_module": "@jupyter-widgets/base",
      "model_module_version": "2.0.0",
      "model_name": "LayoutModel",
      "state": {}
     },
     "4f13d7468d3e433aaebc524e2f966636": {
      "model_module": "@jupyter-widgets/base",
      "model_module_version": "2.0.0",
      "model_name": "LayoutModel",
      "state": {}
     },
     "4f1b62d56e4841a0b8a437b1e7082159": {
      "model_module": "@jupyter-widgets/controls",
      "model_module_version": "2.0.0",
      "model_name": "ProgressStyleModel",
      "state": {
       "description_width": ""
      }
     },
     "4f45b7be062545dfad8cd46b855234c4": {
      "model_module": "@jupyter-widgets/controls",
      "model_module_version": "2.0.0",
      "model_name": "DescriptionStyleModel",
      "state": {
       "description_width": ""
      }
     },
     "4f8f34f6823f48ae8d4102f40b10a49f": {
      "model_module": "@jupyter-widgets/controls",
      "model_module_version": "2.0.0",
      "model_name": "DescriptionStyleModel",
      "state": {
       "description_width": ""
      }
     },
     "4fbd978fd55041cb9ce67134a734e2df": {
      "model_module": "@jupyter-widgets/controls",
      "model_module_version": "2.0.0",
      "model_name": "ProgressStyleModel",
      "state": {
       "description_width": ""
      }
     },
     "4fcce8713d9f40efa519fad4c3f6d159": {
      "model_module": "@jupyter-widgets/base",
      "model_module_version": "2.0.0",
      "model_name": "LayoutModel",
      "state": {}
     },
     "4fdb5b1c4a484c5692ff2224cb3311ef": {
      "model_module": "@jupyter-widgets/controls",
      "model_module_version": "2.0.0",
      "model_name": "FloatProgressModel",
      "state": {
       "bar_style": "success",
       "layout": "IPY_MODEL_be287985079e402d8332d24294a34c84",
       "max": 6,
       "style": "IPY_MODEL_e2e8ccf1279e404e8a34624c43cb47a1",
       "value": 6
      }
     },
     "4fe88752d63e465dacddb2e96db851fc": {
      "model_module": "@jupyter-widgets/controls",
      "model_module_version": "2.0.0",
      "model_name": "DescriptionStyleModel",
      "state": {
       "description_width": ""
      }
     },
     "4ffcd09f2b804a8cae799939c2e95ae0": {
      "model_module": "@jupyter-widgets/controls",
      "model_module_version": "2.0.0",
      "model_name": "ProgressStyleModel",
      "state": {
       "description_width": ""
      }
     },
     "50194aefb1b848b9bacb0fb7cde4e7c1": {
      "model_module": "@jupyter-widgets/controls",
      "model_module_version": "2.0.0",
      "model_name": "HBoxModel",
      "state": {
       "children": [
        "IPY_MODEL_672e12ea73c54890b34126836365b7b0",
        "IPY_MODEL_8db24025e8b24c4a812fbe69c0ae9de9",
        "IPY_MODEL_b9f2c8dcd1d742c2b0284bbedcc5052f"
       ],
       "layout": "IPY_MODEL_5df21fe561884711a538f2ca542e6bd8"
      }
     },
     "506a403f0fdc4f9f8b85aa651285d720": {
      "model_module": "@jupyter-widgets/controls",
      "model_module_version": "2.0.0",
      "model_name": "DescriptionStyleModel",
      "state": {
       "description_width": ""
      }
     },
     "5082c28037254c02a2c7b11b1fec3d24": {
      "model_module": "@jupyter-widgets/controls",
      "model_module_version": "2.0.0",
      "model_name": "FloatProgressModel",
      "state": {
       "bar_style": "success",
       "layout": "IPY_MODEL_5a8654bdc7ea4e62b2701eabdcc263a2",
       "max": 14,
       "style": "IPY_MODEL_7ad06790a5154b6986cba20d76f8be7d",
       "value": 14
      }
     },
     "50f4f2ca4dba4a54b2e2e14d411ef914": {
      "model_module": "@jupyter-widgets/controls",
      "model_module_version": "2.0.0",
      "model_name": "HTMLStyleModel",
      "state": {
       "description_width": "",
       "font_size": null,
       "text_color": null
      }
     },
     "516b22b99dad4b26bda95b7f5f377e6b": {
      "model_module": "@jupyter-widgets/controls",
      "model_module_version": "2.0.0",
      "model_name": "FloatProgressModel",
      "state": {
       "bar_style": "success",
       "layout": "IPY_MODEL_702032d5605547c28038f28511a85928",
       "max": 6,
       "style": "IPY_MODEL_7c31ea7a778745c7b6d783ad107c3f8b",
       "value": 6
      }
     },
     "5195b30886ae479ba56e84588a608368": {
      "model_module": "@jupyter-widgets/controls",
      "model_module_version": "2.0.0",
      "model_name": "DescriptionStyleModel",
      "state": {
       "description_width": ""
      }
     },
     "51afde547a624857871d55d2bbcc2c75": {
      "model_module": "@jupyter-widgets/base",
      "model_module_version": "2.0.0",
      "model_name": "LayoutModel",
      "state": {}
     },
     "51c0ffeb291c451e88c73009c996057f": {
      "model_module": "@jupyter-widgets/base",
      "model_module_version": "2.0.0",
      "model_name": "LayoutModel",
      "state": {}
     },
     "5256fcf8c90746a2b585640096aabcd5": {
      "model_module": "@jupyter-widgets/base",
      "model_module_version": "2.0.0",
      "model_name": "LayoutModel",
      "state": {}
     },
     "526a7acfe3114c5bb4689cd4e0cfd2be": {
      "model_module": "@jupyter-widgets/controls",
      "model_module_version": "2.0.0",
      "model_name": "FloatProgressModel",
      "state": {
       "bar_style": "success",
       "layout": "IPY_MODEL_05ce7d2dcc9c42a1a4657f9cae9edea1",
       "max": 6,
       "style": "IPY_MODEL_2dadb4f5dece4bcc8627747de19f2efb",
       "value": 6
      }
     },
     "530227233cdb4d7bbe6a127d11bbbc96": {
      "model_module": "@jupyter-widgets/base",
      "model_module_version": "2.0.0",
      "model_name": "LayoutModel",
      "state": {}
     },
     "533f15243a5d4b6393b50c909b6f55e9": {
      "model_module": "@jupyter-widgets/controls",
      "model_module_version": "2.0.0",
      "model_name": "HTMLModel",
      "state": {
       "layout": "IPY_MODEL_dc0cb38431e34554a24eb56835159b14",
       "style": "IPY_MODEL_77cc87b539e74f5dafad722153e60cd3",
       "value": " 3/3 [00:10&lt;00:00,  4.21s/it]"
      }
     },
     "5363fb3cea7e48a79ae2d3eee8d3f103": {
      "model_module": "@jupyter-widgets/controls",
      "model_module_version": "2.0.0",
      "model_name": "HTMLModel",
      "state": {
       "layout": "IPY_MODEL_0cb625922b5f481f85c9215f9f4b3d23",
       "style": "IPY_MODEL_8f5256878fcc4418932eb682a7007e91",
       "value": " 3/3 [00:10&lt;00:00,  4.10s/it]"
      }
     },
     "539f0d72dd3543fbad79611d9f1bd031": {
      "model_module": "@jupyter-widgets/base",
      "model_module_version": "2.0.0",
      "model_name": "LayoutModel",
      "state": {}
     },
     "54bc5cd15c52489db348d7d474416b63": {
      "model_module": "@jupyter-widgets/controls",
      "model_module_version": "2.0.0",
      "model_name": "HTMLModel",
      "state": {
       "layout": "IPY_MODEL_6979e3f8add643d597915c6a8bb91077",
       "style": "IPY_MODEL_1317b6a0a7bc4b43a76e7ca689d01b22",
       "value": " 6/6 [00:08&lt;00:00,  2.02s/it]"
      }
     },
     "54c1c14ecefb49e9b1f7fd2138320a0d": {
      "model_module": "@jupyter-widgets/base",
      "model_module_version": "2.0.0",
      "model_name": "LayoutModel",
      "state": {}
     },
     "54ed6756a74146a8bcf1d0d9a6838a2b": {
      "model_module": "@jupyter-widgets/controls",
      "model_module_version": "2.0.0",
      "model_name": "DescriptionStyleModel",
      "state": {
       "description_width": ""
      }
     },
     "552543fdef3e445191c3480ff295802c": {
      "model_module": "@jupyter-widgets/controls",
      "model_module_version": "2.0.0",
      "model_name": "ProgressStyleModel",
      "state": {
       "description_width": ""
      }
     },
     "554aad861ce14a18bcfcd879557d5536": {
      "model_module": "@jupyter-widgets/base",
      "model_module_version": "2.0.0",
      "model_name": "LayoutModel",
      "state": {}
     },
     "5592b4ced2b04897acb15b7d476b9740": {
      "model_module": "@jupyter-widgets/base",
      "model_module_version": "2.0.0",
      "model_name": "LayoutModel",
      "state": {}
     },
     "55e7a37abac24908961c342bc93befe3": {
      "model_module": "@jupyter-widgets/controls",
      "model_module_version": "2.0.0",
      "model_name": "DescriptionStyleModel",
      "state": {
       "description_width": ""
      }
     },
     "5627352635654cd58c96ca414f1e6114": {
      "model_module": "@jupyter-widgets/base",
      "model_module_version": "2.0.0",
      "model_name": "LayoutModel",
      "state": {}
     },
     "5649d18abbde4f47a03b99cee129ca40": {
      "model_module": "@jupyter-widgets/controls",
      "model_module_version": "2.0.0",
      "model_name": "DescriptionStyleModel",
      "state": {
       "description_width": ""
      }
     },
     "56a6bad0b666407a9367de9bf30fd660": {
      "model_module": "@jupyter-widgets/base",
      "model_module_version": "2.0.0",
      "model_name": "LayoutModel",
      "state": {}
     },
     "56eadb9f4fd944dcb5039b404e09f6a1": {
      "model_module": "@jupyter-widgets/controls",
      "model_module_version": "2.0.0",
      "model_name": "ProgressStyleModel",
      "state": {
       "description_width": ""
      }
     },
     "56f349348df141708ca826a50e524d41": {
      "model_module": "@jupyter-widgets/controls",
      "model_module_version": "2.0.0",
      "model_name": "ProgressStyleModel",
      "state": {
       "description_width": ""
      }
     },
     "5707ef96db714ec0a3f2f9dbe98908c9": {
      "model_module": "@jupyter-widgets/controls",
      "model_module_version": "2.0.0",
      "model_name": "HTMLModel",
      "state": {
       "layout": "IPY_MODEL_3088d09c6b51431da8feba468e073631",
       "style": "IPY_MODEL_95cfbf3086504b4ab9a1449d5cf78769",
       "value": "100%"
      }
     },
     "57843694692c4a3b87bfbd132153cab8": {
      "model_module": "@jupyter-widgets/controls",
      "model_module_version": "2.0.0",
      "model_name": "HTMLModel",
      "state": {
       "layout": "IPY_MODEL_f8d197cb409d41f082178184a9954ac3",
       "style": "IPY_MODEL_269c6b9560904cc29f2828362cebce81",
       "value": "100%"
      }
     },
     "57da2d0871fc4c189bbfb98644cdca7c": {
      "model_module": "@jupyter-widgets/base",
      "model_module_version": "2.0.0",
      "model_name": "LayoutModel",
      "state": {}
     },
     "57dfcbb0414848a7afaf25ae5b8f6318": {
      "model_module": "@jupyter-widgets/controls",
      "model_module_version": "2.0.0",
      "model_name": "HTMLModel",
      "state": {
       "layout": "IPY_MODEL_485731a4a3dc4749a02b85fab8597d7a",
       "style": "IPY_MODEL_f287eebaea2a42059275cf322b97e556",
       "value": "100%"
      }
     },
     "57e76b58a33b4bcd96f3a40b899044d9": {
      "model_module": "@jupyter-widgets/base",
      "model_module_version": "2.0.0",
      "model_name": "LayoutModel",
      "state": {}
     },
     "582ab9a756b849b2b26d95663d2ff9e2": {
      "model_module": "@jupyter-widgets/controls",
      "model_module_version": "2.0.0",
      "model_name": "HTMLStyleModel",
      "state": {
       "description_width": "",
       "font_size": null,
       "text_color": null
      }
     },
     "58366bed42f541dfadf9b3b57d005ecc": {
      "model_module": "@jupyter-widgets/base",
      "model_module_version": "2.0.0",
      "model_name": "LayoutModel",
      "state": {}
     },
     "583d1f1adf7746b78eeac541b547405b": {
      "model_module": "@jupyter-widgets/controls",
      "model_module_version": "2.0.0",
      "model_name": "DescriptionStyleModel",
      "state": {
       "description_width": ""
      }
     },
     "589a4e209def475289c2189ea9d4b87d": {
      "model_module": "@jupyter-widgets/controls",
      "model_module_version": "2.0.0",
      "model_name": "HTMLStyleModel",
      "state": {
       "description_width": "",
       "font_size": null,
       "text_color": null
      }
     },
     "58e730ffdfd4482091cdaf8077d0cb8d": {
      "model_module": "@jupyter-widgets/base",
      "model_module_version": "2.0.0",
      "model_name": "LayoutModel",
      "state": {}
     },
     "58f0f746e8004a5fafe76d9dcdb1209b": {
      "model_module": "@jupyter-widgets/base",
      "model_module_version": "2.0.0",
      "model_name": "LayoutModel",
      "state": {}
     },
     "59116e8e1096438c959870c7d5a626e4": {
      "model_module": "@jupyter-widgets/controls",
      "model_module_version": "2.0.0",
      "model_name": "ProgressStyleModel",
      "state": {
       "description_width": ""
      }
     },
     "5976186c6a0042c2b496154953e7726d": {
      "model_module": "@jupyter-widgets/controls",
      "model_module_version": "2.0.0",
      "model_name": "ProgressStyleModel",
      "state": {
       "description_width": ""
      }
     },
     "5984e37e36044dfeac4109d7bc0b424e": {
      "model_module": "@jupyter-widgets/controls",
      "model_module_version": "2.0.0",
      "model_name": "HTMLModel",
      "state": {
       "layout": "IPY_MODEL_cf54b1ccc6414c8a97397e2727460764",
       "style": "IPY_MODEL_f8d0aa0d6d044fd9b885647c29ad5ed9",
       "value": "100%"
      }
     },
     "59b8436cb07c42e9bc5b74d1bab28248": {
      "model_module": "@jupyter-widgets/controls",
      "model_module_version": "2.0.0",
      "model_name": "DescriptionStyleModel",
      "state": {
       "description_width": ""
      }
     },
     "59cb8b51d70545db801f62bf91dde842": {
      "model_module": "@jupyter-widgets/controls",
      "model_module_version": "2.0.0",
      "model_name": "FloatProgressModel",
      "state": {
       "bar_style": "success",
       "layout": "IPY_MODEL_817301f479794c12b0e516e4b27ca565",
       "max": 3,
       "style": "IPY_MODEL_74e16d5201b746f6bda501151e592eed",
       "value": 3
      }
     },
     "5a47368809b04a868d7c3abfa75b1f0b": {
      "model_module": "@jupyter-widgets/base",
      "model_module_version": "2.0.0",
      "model_name": "LayoutModel",
      "state": {}
     },
     "5a7402acea7c46b7acc62d232cbaafda": {
      "model_module": "@jupyter-widgets/base",
      "model_module_version": "2.0.0",
      "model_name": "LayoutModel",
      "state": {}
     },
     "5a8654bdc7ea4e62b2701eabdcc263a2": {
      "model_module": "@jupyter-widgets/base",
      "model_module_version": "2.0.0",
      "model_name": "LayoutModel",
      "state": {}
     },
     "5af10075c7954a7a86b516adebbabe88": {
      "model_module": "@jupyter-widgets/controls",
      "model_module_version": "2.0.0",
      "model_name": "HTMLModel",
      "state": {
       "layout": "IPY_MODEL_d6e18d7031c9403c8ab3e13577ae7c18",
       "style": "IPY_MODEL_77ed0aba6bdd404193911cba5b9d44ea",
       "value": " 3/3 [00:10&lt;00:00,  4.27s/it]"
      }
     },
     "5af398f4192b4467a7e82d44629a7090": {
      "model_module": "@jupyter-widgets/controls",
      "model_module_version": "2.0.0",
      "model_name": "HBoxModel",
      "state": {
       "children": [
        "IPY_MODEL_39ba132769b346d3807f8ffdb35ef4ef",
        "IPY_MODEL_e83b55d4dce248a9ad00d59b4f589287",
        "IPY_MODEL_bd7a94334adf4927a42ed12c73654dac"
       ],
       "layout": "IPY_MODEL_2014c622957f4172bf5538e7032073d7"
      }
     },
     "5b069813b89b417297a48aeb2154fe67": {
      "model_module": "@jupyter-widgets/base",
      "model_module_version": "2.0.0",
      "model_name": "LayoutModel",
      "state": {}
     },
     "5b922da8cd1e4231beb1695f3a1f7ef4": {
      "model_module": "@jupyter-widgets/controls",
      "model_module_version": "2.0.0",
      "model_name": "HTMLModel",
      "state": {
       "layout": "IPY_MODEL_eea860404204486385b30ba97d247ae2",
       "style": "IPY_MODEL_e33a5f4c714945229331ede15abc8eeb",
       "value": "100%"
      }
     },
     "5bc99c916ebd414daf96f69f725d40ea": {
      "model_module": "@jupyter-widgets/controls",
      "model_module_version": "2.0.0",
      "model_name": "FloatProgressModel",
      "state": {
       "bar_style": "success",
       "layout": "IPY_MODEL_01e5af5b26df48c68e2a60acda563670",
       "max": 14,
       "style": "IPY_MODEL_a2f63c20b4dd48a8866fcb6b802f8c4a",
       "value": 14
      }
     },
     "5c1cdc7f1d7f4334997a05cb16278393": {
      "model_module": "@jupyter-widgets/base",
      "model_module_version": "2.0.0",
      "model_name": "LayoutModel",
      "state": {}
     },
     "5cc7f457a2334e71bb5f436ae46c336e": {
      "model_module": "@jupyter-widgets/base",
      "model_module_version": "2.0.0",
      "model_name": "LayoutModel",
      "state": {}
     },
     "5d095f99d4c945618fe22682b2919f7f": {
      "model_module": "@jupyter-widgets/controls",
      "model_module_version": "2.0.0",
      "model_name": "HTMLModel",
      "state": {
       "layout": "IPY_MODEL_0d06caff45da43a387feb0da28b050fb",
       "style": "IPY_MODEL_df91ae866b7c4ab583dd9c521498031c",
       "value": "100%"
      }
     },
     "5d1150275c574960b7ee756c4e5b8422": {
      "model_module": "@jupyter-widgets/base",
      "model_module_version": "2.0.0",
      "model_name": "LayoutModel",
      "state": {}
     },
     "5d1a1fe6fd844c7d907c9883a206650c": {
      "model_module": "@jupyter-widgets/controls",
      "model_module_version": "2.0.0",
      "model_name": "HBoxModel",
      "state": {
       "children": [
        "IPY_MODEL_3417b3ebb03f4797818201cd315cc5d6",
        "IPY_MODEL_05b3bfdeba8148b8b4f9e8a220a48ad1",
        "IPY_MODEL_533f15243a5d4b6393b50c909b6f55e9"
       ],
       "layout": "IPY_MODEL_385052d0c22a494c95a54f3ec5ca9ea2"
      }
     },
     "5d60a27d33a64fe0b9065d67b7327045": {
      "model_module": "@jupyter-widgets/controls",
      "model_module_version": "2.0.0",
      "model_name": "ProgressStyleModel",
      "state": {
       "description_width": ""
      }
     },
     "5d64f8724c144e37b875cd67b10ec38b": {
      "model_module": "@jupyter-widgets/controls",
      "model_module_version": "2.0.0",
      "model_name": "ProgressStyleModel",
      "state": {
       "description_width": ""
      }
     },
     "5df21fe561884711a538f2ca542e6bd8": {
      "model_module": "@jupyter-widgets/base",
      "model_module_version": "2.0.0",
      "model_name": "LayoutModel",
      "state": {}
     },
     "5e4ab518bc7f4437b2e0d4d180d3eb3d": {
      "model_module": "@jupyter-widgets/controls",
      "model_module_version": "2.0.0",
      "model_name": "FloatProgressModel",
      "state": {
       "bar_style": "success",
       "layout": "IPY_MODEL_46ebb4fddc664e87b0138b0620d90088",
       "max": 3,
       "style": "IPY_MODEL_a14329532c41402699841551dbcaf36d",
       "value": 3
      }
     },
     "5f3c41984e834353b4bd3fbb27a25c2c": {
      "model_module": "@jupyter-widgets/controls",
      "model_module_version": "2.0.0",
      "model_name": "DescriptionStyleModel",
      "state": {
       "description_width": ""
      }
     },
     "5fc4e3b1da1c478ea141c911c4e76b5e": {
      "model_module": "@jupyter-widgets/base",
      "model_module_version": "2.0.0",
      "model_name": "LayoutModel",
      "state": {}
     },
     "5fe97e3ddaf541e8bb132154c246ac91": {
      "model_module": "@jupyter-widgets/controls",
      "model_module_version": "2.0.0",
      "model_name": "HTMLStyleModel",
      "state": {
       "description_width": "",
       "font_size": null,
       "text_color": null
      }
     },
     "600360577c904457ae06c714da3226ab": {
      "model_module": "@jupyter-widgets/base",
      "model_module_version": "2.0.0",
      "model_name": "LayoutModel",
      "state": {}
     },
     "6022fd1d8b704696a3ea76aed0286917": {
      "model_module": "@jupyter-widgets/controls",
      "model_module_version": "2.0.0",
      "model_name": "DescriptionStyleModel",
      "state": {
       "description_width": ""
      }
     },
     "6062aa9efc574da8b548fee3b1c51c6e": {
      "model_module": "@jupyter-widgets/controls",
      "model_module_version": "2.0.0",
      "model_name": "HBoxModel",
      "state": {
       "children": [
        "IPY_MODEL_a32af960a36d4b52a3edd1f55e071c15",
        "IPY_MODEL_27eeaee083424c1f81fecc56dea27a6d",
        "IPY_MODEL_28d7d40964e34064a071c4f266111d5e"
       ],
       "layout": "IPY_MODEL_c179d82d134c4885b232d00bb921d2c4"
      }
     },
     "609bdb59378141f4a96e77ac1ac3c4d0": {
      "model_module": "@jupyter-widgets/base",
      "model_module_version": "2.0.0",
      "model_name": "LayoutModel",
      "state": {}
     },
     "60f943ca34524bd1afbce2cc89a7f8f8": {
      "model_module": "@jupyter-widgets/controls",
      "model_module_version": "2.0.0",
      "model_name": "HBoxModel",
      "state": {
       "children": [
        "IPY_MODEL_43ea1b3882bd41068924670970a9c5e8",
        "IPY_MODEL_fd78d4fe60794bd9a4080bccdd2b5066",
        "IPY_MODEL_e026cb4a76f64518aa80c32c5d6bc6d6"
       ],
       "layout": "IPY_MODEL_b248845b0071429886b9bb169c16460e"
      }
     },
     "614f7e74e8964772bbf709eec39a1524": {
      "model_module": "@jupyter-widgets/controls",
      "model_module_version": "2.0.0",
      "model_name": "DescriptionStyleModel",
      "state": {
       "description_width": ""
      }
     },
     "6176e82b1a604fb6b50991303317d235": {
      "model_module": "@jupyter-widgets/base",
      "model_module_version": "2.0.0",
      "model_name": "LayoutModel",
      "state": {}
     },
     "6217b2e724b7488dbf152daf3fb7ff95": {
      "model_module": "@jupyter-widgets/controls",
      "model_module_version": "2.0.0",
      "model_name": "HTMLModel",
      "state": {
       "layout": "IPY_MODEL_600360577c904457ae06c714da3226ab",
       "style": "IPY_MODEL_9a4b752de1ac4a439e4a44845e5667e5",
       "value": " 14/14 [00:36&lt;00:00,  2.68s/it]"
      }
     },
     "623a9efab414447da1c1ae61858f5778": {
      "model_module": "@jupyter-widgets/base",
      "model_module_version": "2.0.0",
      "model_name": "LayoutModel",
      "state": {}
     },
     "625a723425fa4d9990a4c0a5613fc01c": {
      "model_module": "@jupyter-widgets/base",
      "model_module_version": "2.0.0",
      "model_name": "LayoutModel",
      "state": {}
     },
     "62631fe6d1564f839a570964b62a24c8": {
      "model_module": "@jupyter-widgets/base",
      "model_module_version": "2.0.0",
      "model_name": "LayoutModel",
      "state": {}
     },
     "631932574a4f478698da5bfd889c15f2": {
      "model_module": "@jupyter-widgets/controls",
      "model_module_version": "2.0.0",
      "model_name": "FloatProgressModel",
      "state": {
       "bar_style": "success",
       "layout": "IPY_MODEL_cbd792511fbc4743b175d6ca42fbf072",
       "max": 3,
       "style": "IPY_MODEL_7aedc26c48254a838669f450a1fcbb22",
       "value": 3
      }
     },
     "631c4e5439134b44aa2abb0f2d6114da": {
      "model_module": "@jupyter-widgets/controls",
      "model_module_version": "2.0.0",
      "model_name": "HTMLModel",
      "state": {
       "layout": "IPY_MODEL_903eacd04bae46db83092bc1e8f150e2",
       "style": "IPY_MODEL_d87a02a290ab42fb8f24de71c309cf8f",
       "value": "100%"
      }
     },
     "633e8f4668c54e8796993e023cf93211": {
      "model_module": "@jupyter-widgets/base",
      "model_module_version": "2.0.0",
      "model_name": "LayoutModel",
      "state": {}
     },
     "63496197b64c4981aa1841e5dd0ed3a2": {
      "model_module": "@jupyter-widgets/controls",
      "model_module_version": "2.0.0",
      "model_name": "ProgressStyleModel",
      "state": {
       "description_width": ""
      }
     },
     "63a70b06ff4246d3819f71da3565aefd": {
      "model_module": "@jupyter-widgets/controls",
      "model_module_version": "2.0.0",
      "model_name": "HTMLModel",
      "state": {
       "layout": "IPY_MODEL_7a10d58c1ecc444c83d13eb4996e5ee4",
       "style": "IPY_MODEL_8e28b38aef194897b6131f4317563b9f",
       "value": " 21%"
      }
     },
     "63db93ef7251427da2644643a5f52e2a": {
      "model_module": "@jupyter-widgets/controls",
      "model_module_version": "2.0.0",
      "model_name": "DescriptionStyleModel",
      "state": {
       "description_width": ""
      }
     },
     "63f72555303e4481a28135d51cbf9841": {
      "model_module": "@jupyter-widgets/controls",
      "model_module_version": "2.0.0",
      "model_name": "HTMLStyleModel",
      "state": {
       "description_width": "",
       "font_size": null,
       "text_color": null
      }
     },
     "641a8e47dba14be4aa8a10f1329bcaa6": {
      "model_module": "@jupyter-widgets/controls",
      "model_module_version": "2.0.0",
      "model_name": "HTMLModel",
      "state": {
       "layout": "IPY_MODEL_d545003943714d8c998b2c7a376fd3ff",
       "style": "IPY_MODEL_3a71f9045ef64b82ae273c50b5be2d91",
       "value": " 14/14 [00:33&lt;00:00,  2.49s/it]"
      }
     },
     "643781621b914dceaab16ab069a89a6c": {
      "model_module": "@jupyter-widgets/controls",
      "model_module_version": "2.0.0",
      "model_name": "ProgressStyleModel",
      "state": {
       "description_width": ""
      }
     },
     "658444ed433543249997e5b54ff46591": {
      "model_module": "@jupyter-widgets/controls",
      "model_module_version": "2.0.0",
      "model_name": "HTMLModel",
      "state": {
       "layout": "IPY_MODEL_761aab67640240e3ba173a5b2eaf5401",
       "style": "IPY_MODEL_9c92d863eca84c9a8609b6367f2c1d8b",
       "value": " 6/6 [00:11&lt;00:00,  2.84s/it]"
      }
     },
     "6598381da8a44dae8d3e17c72ca74f0d": {
      "model_module": "@jupyter-widgets/controls",
      "model_module_version": "2.0.0",
      "model_name": "DescriptionStyleModel",
      "state": {
       "description_width": ""
      }
     },
     "672d456870d44b42957d9ad3669127cc": {
      "model_module": "@jupyter-widgets/controls",
      "model_module_version": "2.0.0",
      "model_name": "DescriptionStyleModel",
      "state": {
       "description_width": ""
      }
     },
     "672e12ea73c54890b34126836365b7b0": {
      "model_module": "@jupyter-widgets/controls",
      "model_module_version": "2.0.0",
      "model_name": "HTMLModel",
      "state": {
       "layout": "IPY_MODEL_3e652183e9194bbeb3771a9fb7244611",
       "style": "IPY_MODEL_6f156dc2b78341ecaa1dc302165080a5",
       "value": "100%"
      }
     },
     "67510021658848edbe477ad4bc8038f4": {
      "model_module": "@jupyter-widgets/base",
      "model_module_version": "2.0.0",
      "model_name": "LayoutModel",
      "state": {}
     },
     "67597766408742479ce0bf6cc2478e26": {
      "model_module": "@jupyter-widgets/base",
      "model_module_version": "2.0.0",
      "model_name": "LayoutModel",
      "state": {}
     },
     "67bd004a9cc54ca98a945c66e98a8dc5": {
      "model_module": "@jupyter-widgets/base",
      "model_module_version": "2.0.0",
      "model_name": "LayoutModel",
      "state": {}
     },
     "67f8e9926ff04911a5ecb7f084ab9bda": {
      "model_module": "@jupyter-widgets/controls",
      "model_module_version": "2.0.0",
      "model_name": "HBoxModel",
      "state": {
       "children": [
        "IPY_MODEL_5984e37e36044dfeac4109d7bc0b424e",
        "IPY_MODEL_af81eb420a204b4db16e0900544ee830",
        "IPY_MODEL_8a03ad0d87be4739985ebdbd8e3f6821"
       ],
       "layout": "IPY_MODEL_2503dfb81f4847be8a2dd83ba9fce570"
      }
     },
     "68639f2e8c1c4e3289e0f6d8dce28243": {
      "model_module": "@jupyter-widgets/controls",
      "model_module_version": "2.0.0",
      "model_name": "HTMLModel",
      "state": {
       "layout": "IPY_MODEL_e00f2d4bde8d4977a2c1fcf12272aee9",
       "style": "IPY_MODEL_4566d1e63f3940db9ec45156b6a840dc",
       "value": " 14/14 [00:36&lt;00:00,  2.65s/it]"
      }
     },
     "687f590cf40747caabe161fa9d4c56bc": {
      "model_module": "@jupyter-widgets/controls",
      "model_module_version": "2.0.0",
      "model_name": "HTMLModel",
      "state": {
       "layout": "IPY_MODEL_e11311ed201b4eec8375f0060b43cdd3",
       "style": "IPY_MODEL_4397d05cf65a4a3098f3fbc65ec9cf13",
       "value": " 2/3 [00:06&lt;00:03,  3.20s/it]"
      }
     },
     "6924f9666c14408f974c8626cb341bf0": {
      "model_module": "@jupyter-widgets/base",
      "model_module_version": "2.0.0",
      "model_name": "LayoutModel",
      "state": {}
     },
     "69329a3476f64b6ebd2f92c94b295e8c": {
      "model_module": "@jupyter-widgets/controls",
      "model_module_version": "2.0.0",
      "model_name": "FloatProgressModel",
      "state": {
       "bar_style": "success",
       "layout": "IPY_MODEL_ada2a00636b1438498db0770cdd39bef",
       "max": 3,
       "style": "IPY_MODEL_c5989e198ec944dc8b7775b5705d73e5",
       "value": 3
      }
     },
     "6947ec67f5c2497fa581f2f98be5d5b6": {
      "model_module": "@jupyter-widgets/base",
      "model_module_version": "2.0.0",
      "model_name": "LayoutModel",
      "state": {}
     },
     "6979e3f8add643d597915c6a8bb91077": {
      "model_module": "@jupyter-widgets/base",
      "model_module_version": "2.0.0",
      "model_name": "LayoutModel",
      "state": {}
     },
     "69a5d1fb555745e39ade5030c767bf78": {
      "model_module": "@jupyter-widgets/controls",
      "model_module_version": "2.0.0",
      "model_name": "FloatProgressModel",
      "state": {
       "bar_style": "success",
       "layout": "IPY_MODEL_d70423af9ef64c5a9d6538a15c6e12b9",
       "max": 6,
       "style": "IPY_MODEL_e1b73ba901f94de3bfe97bd1cf8952e9",
       "value": 6
      }
     },
     "69ba768c93bf4d2585127c9dd8cca2a1": {
      "model_module": "@jupyter-widgets/base",
      "model_module_version": "2.0.0",
      "model_name": "LayoutModel",
      "state": {}
     },
     "69fd7e6e13c94f61a5ebb811aa394333": {
      "model_module": "@jupyter-widgets/controls",
      "model_module_version": "2.0.0",
      "model_name": "HTMLModel",
      "state": {
       "layout": "IPY_MODEL_d8b129d3a2c341ac9bc912eaa595c0a3",
       "style": "IPY_MODEL_c06f451b863c41a2afebcd113177edfd",
       "value": " 14/14 [00:34&lt;00:00,  2.60s/it]"
      }
     },
     "6a06014e46784b398bbbdbee3663f860": {
      "model_module": "@jupyter-widgets/controls",
      "model_module_version": "2.0.0",
      "model_name": "FloatProgressModel",
      "state": {
       "bar_style": "success",
       "layout": "IPY_MODEL_1a972bcc03d64354b5cd8ec42d25af83",
       "max": 6,
       "style": "IPY_MODEL_dd9f8393faa64097954bd7d834610506",
       "value": 6
      }
     },
     "6aad32a9423043eb8bffaa7ab8e9632f": {
      "model_module": "@jupyter-widgets/controls",
      "model_module_version": "2.0.0",
      "model_name": "DescriptionStyleModel",
      "state": {
       "description_width": ""
      }
     },
     "6ab2c800eaef42e4a286a0aab35ed190": {
      "model_module": "@jupyter-widgets/controls",
      "model_module_version": "2.0.0",
      "model_name": "FloatProgressModel",
      "state": {
       "bar_style": "success",
       "layout": "IPY_MODEL_cf74716173fd494f8ea0332793acb220",
       "max": 3,
       "style": "IPY_MODEL_000a0ce30ef84bfc8ab5b9c23b221bc4",
       "value": 3
      }
     },
     "6b85b3f5a8a844c2bcfadcce25177f81": {
      "model_module": "@jupyter-widgets/controls",
      "model_module_version": "2.0.0",
      "model_name": "HTMLModel",
      "state": {
       "layout": "IPY_MODEL_78c8eefc38c6474fa027d6414ab01f75",
       "style": "IPY_MODEL_d8dded7411de4690a558a1ae7a282d56",
       "value": "100%"
      }
     },
     "6ba368873182486380ecad62d4aec0de": {
      "model_module": "@jupyter-widgets/controls",
      "model_module_version": "2.0.0",
      "model_name": "HTMLModel",
      "state": {
       "layout": "IPY_MODEL_4311cd0e553c47d9b70df4a18569c812",
       "style": "IPY_MODEL_95300a5b30004cba8b3edd3a03b70613",
       "value": " 14/14 [00:36&lt;00:00,  2.73s/it]"
      }
     },
     "6c26f4dda729429f806b3e336dc81622": {
      "model_module": "@jupyter-widgets/controls",
      "model_module_version": "2.0.0",
      "model_name": "HBoxModel",
      "state": {
       "children": [
        "IPY_MODEL_07019ea46ea046e0b87c8e4a25c6963b",
        "IPY_MODEL_d2f142dce1c9498c806f06a30b43f04b",
        "IPY_MODEL_641a8e47dba14be4aa8a10f1329bcaa6"
       ],
       "layout": "IPY_MODEL_19ea34ec07da4d61acec8c855bbc02bf"
      }
     },
     "6cc16a4ebcaa45d0a75baf8f0f57957e": {
      "model_module": "@jupyter-widgets/base",
      "model_module_version": "2.0.0",
      "model_name": "LayoutModel",
      "state": {}
     },
     "6ce6dc7f238243caaf36f8495409d552": {
      "model_module": "@jupyter-widgets/controls",
      "model_module_version": "2.0.0",
      "model_name": "ProgressStyleModel",
      "state": {
       "description_width": ""
      }
     },
     "6d0bfbc93a1545819218856abadd1ff0": {
      "model_module": "@jupyter-widgets/controls",
      "model_module_version": "2.0.0",
      "model_name": "HTMLStyleModel",
      "state": {
       "description_width": "",
       "font_size": null,
       "text_color": null
      }
     },
     "6df3561b5e8444b9b1151930e443c9f8": {
      "model_module": "@jupyter-widgets/controls",
      "model_module_version": "2.0.0",
      "model_name": "HTMLModel",
      "state": {
       "layout": "IPY_MODEL_a2cb0e65b1f44625aefab52e868e76be",
       "style": "IPY_MODEL_ab3e3837b3154d8494ca8fad1899cfb9",
       "value": " 6/6 [00:11&lt;00:00,  2.85s/it]"
      }
     },
     "6e6c8d817cf642cda4b8c67c1421f16b": {
      "model_module": "@jupyter-widgets/base",
      "model_module_version": "2.0.0",
      "model_name": "LayoutModel",
      "state": {}
     },
     "6e7b05e3ccb84beab343d30286940b3b": {
      "model_module": "@jupyter-widgets/controls",
      "model_module_version": "2.0.0",
      "model_name": "HTMLModel",
      "state": {
       "layout": "IPY_MODEL_e33de6c094a54effb98a325d8beecad8",
       "style": "IPY_MODEL_31b974d56faf4275a2224373ca792f0c",
       "value": " 6/6 [00:11&lt;00:00,  2.79s/it]"
      }
     },
     "6e8cca8f46754c3d8e0ab68f602c8685": {
      "model_module": "@jupyter-widgets/controls",
      "model_module_version": "2.0.0",
      "model_name": "HBoxModel",
      "state": {
       "children": [
        "IPY_MODEL_335359af048044b68a622eeed260338f",
        "IPY_MODEL_6fef9dbe7c7f487ea931cc472232c7f8",
        "IPY_MODEL_2796d4640e4c4e929e33d1c64b9f54fc"
       ],
       "layout": "IPY_MODEL_e888eadbc7f94bd8a49318165d57b41e"
      }
     },
     "6f0469764bbf4e3aacaca79738c9664f": {
      "model_module": "@jupyter-widgets/controls",
      "model_module_version": "2.0.0",
      "model_name": "HTMLModel",
      "state": {
       "layout": "IPY_MODEL_88b61669524141039a422c0c834da8c4",
       "style": "IPY_MODEL_0abaf50f623a43e58afcf20b196d3dbc",
       "value": " 6/6 [00:11&lt;00:00,  2.79s/it]"
      }
     },
     "6f156dc2b78341ecaa1dc302165080a5": {
      "model_module": "@jupyter-widgets/controls",
      "model_module_version": "2.0.0",
      "model_name": "HTMLStyleModel",
      "state": {
       "description_width": "",
       "font_size": null,
       "text_color": null
      }
     },
     "6f794c624be94766aa1173d268857714": {
      "model_module": "@jupyter-widgets/controls",
      "model_module_version": "2.0.0",
      "model_name": "HTMLModel",
      "state": {
       "layout": "IPY_MODEL_234e24831a0f4f43bc69f819aff734ef",
       "style": "IPY_MODEL_87594e0f75114cac9ea7e461d39e53ea",
       "value": "100%"
      }
     },
     "6f7a1a6f807143a381b1a06a03ca9ff4": {
      "model_module": "@jupyter-widgets/controls",
      "model_module_version": "2.0.0",
      "model_name": "HBoxModel",
      "state": {
       "children": [
        "IPY_MODEL_cee6b08836af4849b0c65597ec0a4bf1",
        "IPY_MODEL_19d2a5bbbee14c30bd9480c8930412ef",
        "IPY_MODEL_12bd68cfd5214378b677176807915f57"
       ],
       "layout": "IPY_MODEL_77ff9a2f1111443b9a3740a2f82341be"
      }
     },
     "6fcff024baf2498bb3ac78f0d1527144": {
      "model_module": "@jupyter-widgets/base",
      "model_module_version": "2.0.0",
      "model_name": "LayoutModel",
      "state": {}
     },
     "6fd4f788bb824b16af42e0472465355c": {
      "model_module": "@jupyter-widgets/controls",
      "model_module_version": "2.0.0",
      "model_name": "HBoxModel",
      "state": {
       "children": [
        "IPY_MODEL_dc0dd2981a724c11960fdfb9c4753949",
        "IPY_MODEL_430fec0f20bc4e7ebe830021f63dd731",
        "IPY_MODEL_87bd516446324c848607396a35fbd10d"
       ],
       "layout": "IPY_MODEL_71662bb3355047bfa1794f2618d512fd"
      }
     },
     "6fef9dbe7c7f487ea931cc472232c7f8": {
      "model_module": "@jupyter-widgets/controls",
      "model_module_version": "2.0.0",
      "model_name": "FloatProgressModel",
      "state": {
       "bar_style": "danger",
       "layout": "IPY_MODEL_8ed4ea60c228441bb58a109bfdb44d87",
       "max": 14,
       "style": "IPY_MODEL_2d314896d673436ca34fb2700ce24e3f",
       "value": 8
      }
     },
     "702032d5605547c28038f28511a85928": {
      "model_module": "@jupyter-widgets/base",
      "model_module_version": "2.0.0",
      "model_name": "LayoutModel",
      "state": {}
     },
     "70268c8c928f4f88b7800ca0b349bf8e": {
      "model_module": "@jupyter-widgets/controls",
      "model_module_version": "2.0.0",
      "model_name": "FloatProgressModel",
      "state": {
       "bar_style": "success",
       "layout": "IPY_MODEL_85a207da415748b88779087c996cfbbe",
       "max": 3,
       "style": "IPY_MODEL_a52dc0b6be834b578252ec84b57cb7ae",
       "value": 3
      }
     },
     "705019b0b05f4387aefdd6bb569e74d9": {
      "model_module": "@jupyter-widgets/controls",
      "model_module_version": "2.0.0",
      "model_name": "HTMLStyleModel",
      "state": {
       "description_width": "",
       "font_size": null,
       "text_color": null
      }
     },
     "70960292e2904c71aaf0829c5276ff22": {
      "model_module": "@jupyter-widgets/controls",
      "model_module_version": "2.0.0",
      "model_name": "HTMLModel",
      "state": {
       "layout": "IPY_MODEL_f302702e49304ecc970ba60d6dff4f48",
       "style": "IPY_MODEL_54ed6756a74146a8bcf1d0d9a6838a2b",
       "value": " 67%"
      }
     },
     "70aed8869bb54430ad242135ad759d2f": {
      "model_module": "@jupyter-widgets/controls",
      "model_module_version": "2.0.0",
      "model_name": "HBoxModel",
      "state": {
       "children": [
        "IPY_MODEL_2b06f801070a48a5bb5f39f5577cf5f1",
        "IPY_MODEL_b6c01ffdf5dc4c1a93c67b7a9fa840a0",
        "IPY_MODEL_c0a9ef47e8e84bcba447e99fa44f6883"
       ],
       "layout": "IPY_MODEL_271558bdfe944780b3e8a65d2bfe1626"
      }
     },
     "70eea4c1fb1e41ff8ee31f5613ef5754": {
      "model_module": "@jupyter-widgets/base",
      "model_module_version": "2.0.0",
      "model_name": "LayoutModel",
      "state": {}
     },
     "71662bb3355047bfa1794f2618d512fd": {
      "model_module": "@jupyter-widgets/base",
      "model_module_version": "2.0.0",
      "model_name": "LayoutModel",
      "state": {}
     },
     "71c16ffe2b024132b2cf659c64ff8904": {
      "model_module": "@jupyter-widgets/controls",
      "model_module_version": "2.0.0",
      "model_name": "FloatProgressModel",
      "state": {
       "bar_style": "success",
       "layout": "IPY_MODEL_e9f11de37b074385b4ae630297261ce2",
       "max": 6,
       "style": "IPY_MODEL_4ffcd09f2b804a8cae799939c2e95ae0",
       "value": 6
      }
     },
     "721e182dd01e47aca3f0e758c8c7c4b6": {
      "model_module": "@jupyter-widgets/controls",
      "model_module_version": "2.0.0",
      "model_name": "DescriptionStyleModel",
      "state": {
       "description_width": ""
      }
     },
     "72959c60ea7840199da1f865e3205678": {
      "model_module": "@jupyter-widgets/controls",
      "model_module_version": "2.0.0",
      "model_name": "HTMLStyleModel",
      "state": {
       "description_width": "",
       "font_size": null,
       "text_color": null
      }
     },
     "730913aaea4747af9cb8ab72603e2493": {
      "model_module": "@jupyter-widgets/controls",
      "model_module_version": "2.0.0",
      "model_name": "HTMLModel",
      "state": {
       "layout": "IPY_MODEL_c94f83c2248f4f50974750f0c2ee6bc1",
       "style": "IPY_MODEL_bb4c687cc5b7401d8d90170737dfe53e",
       "value": " 6/6 [00:08&lt;00:00,  1.96s/it]"
      }
     },
     "73d6e42220b34c1db7c9c32952805469": {
      "model_module": "@jupyter-widgets/controls",
      "model_module_version": "2.0.0",
      "model_name": "DescriptionStyleModel",
      "state": {
       "description_width": ""
      }
     },
     "749e6b87082c4e4bbdd4030cad16b4ca": {
      "model_module": "@jupyter-widgets/controls",
      "model_module_version": "2.0.0",
      "model_name": "FloatProgressModel",
      "state": {
       "bar_style": "success",
       "layout": "IPY_MODEL_bd101b633ea34ac69246ecb0598515b8",
       "max": 14,
       "style": "IPY_MODEL_9cb0f87fdb62465a8ac2ef169db7b6b9",
       "value": 14
      }
     },
     "74b05596216a49a1b150b9be0061ffef": {
      "model_module": "@jupyter-widgets/controls",
      "model_module_version": "2.0.0",
      "model_name": "HTMLModel",
      "state": {
       "layout": "IPY_MODEL_7b937f4aa0db46cbbdf18c146a4d8d9d",
       "style": "IPY_MODEL_e49fc61a072143458af206edcef6af8c",
       "value": " 14/14 [00:35&lt;00:00,  2.65s/it]"
      }
     },
     "74b140d56f264876ad3baac400674e81": {
      "model_module": "@jupyter-widgets/base",
      "model_module_version": "2.0.0",
      "model_name": "LayoutModel",
      "state": {}
     },
     "74beaec67ac64b4f9e4ffd9764bd2b9d": {
      "model_module": "@jupyter-widgets/controls",
      "model_module_version": "2.0.0",
      "model_name": "DescriptionStyleModel",
      "state": {
       "description_width": ""
      }
     },
     "74e16d5201b746f6bda501151e592eed": {
      "model_module": "@jupyter-widgets/controls",
      "model_module_version": "2.0.0",
      "model_name": "ProgressStyleModel",
      "state": {
       "description_width": ""
      }
     },
     "7598e2700b684d90841799187dfcc138": {
      "model_module": "@jupyter-widgets/controls",
      "model_module_version": "2.0.0",
      "model_name": "HTMLModel",
      "state": {
       "layout": "IPY_MODEL_415ded97bd634a94aa9493edee1aef5e",
       "style": "IPY_MODEL_2a1b43fb3d5e41dbaad395e88d69dc17",
       "value": " 10/14 [00:26&lt;00:17,  4.32s/it]"
      }
     },
     "761aab67640240e3ba173a5b2eaf5401": {
      "model_module": "@jupyter-widgets/base",
      "model_module_version": "2.0.0",
      "model_name": "LayoutModel",
      "state": {}
     },
     "761febfec9434d18a10e7a292405c5d3": {
      "model_module": "@jupyter-widgets/controls",
      "model_module_version": "2.0.0",
      "model_name": "HTMLModel",
      "state": {
       "layout": "IPY_MODEL_2493d03c7bd34717904cab4538dd29ad",
       "style": "IPY_MODEL_437853bb71fc48718a27425bc6fcd9c5",
       "value": " 3/3 [00:10&lt;00:00,  4.29s/it]"
      }
     },
     "7656a75fac334758bff1db99160dd95b": {
      "model_module": "@jupyter-widgets/controls",
      "model_module_version": "2.0.0",
      "model_name": "HTMLStyleModel",
      "state": {
       "description_width": "",
       "font_size": null,
       "text_color": null
      }
     },
     "76d91f459d6d4f2aa4c55161e3e2fbd5": {
      "model_module": "@jupyter-widgets/controls",
      "model_module_version": "2.0.0",
      "model_name": "DescriptionStyleModel",
      "state": {
       "description_width": ""
      }
     },
     "76dc5ba1a0eb48358cccdd7b604f2521": {
      "model_module": "@jupyter-widgets/base",
      "model_module_version": "2.0.0",
      "model_name": "LayoutModel",
      "state": {}
     },
     "77027611d9f94233a558744125d779c3": {
      "model_module": "@jupyter-widgets/controls",
      "model_module_version": "2.0.0",
      "model_name": "DescriptionStyleModel",
      "state": {
       "description_width": ""
      }
     },
     "77060f02c0864339a20814717a687e8b": {
      "model_module": "@jupyter-widgets/controls",
      "model_module_version": "2.0.0",
      "model_name": "HTMLModel",
      "state": {
       "layout": "IPY_MODEL_93384c970167447d96b9fbe341ba03f3",
       "style": "IPY_MODEL_334b08b1d51a4a27ba72938258be0194",
       "value": "100%"
      }
     },
     "77569b61b9f94b3bba023f8f25e98d70": {
      "model_module": "@jupyter-widgets/base",
      "model_module_version": "2.0.0",
      "model_name": "LayoutModel",
      "state": {}
     },
     "7764764341734b73a31c67d572f15ab7": {
      "model_module": "@jupyter-widgets/controls",
      "model_module_version": "2.0.0",
      "model_name": "HBoxModel",
      "state": {
       "children": [
        "IPY_MODEL_1ea51bc560ca4022bb1a949c79a0f734",
        "IPY_MODEL_4388f670ebb044a3a9838ebdc4c2a587",
        "IPY_MODEL_b99910e822374a6b9ce70d7b96324062"
       ],
       "layout": "IPY_MODEL_62631fe6d1564f839a570964b62a24c8"
      }
     },
     "777f86a86f664c9cb9be08b5315a4d59": {
      "model_module": "@jupyter-widgets/controls",
      "model_module_version": "2.0.0",
      "model_name": "FloatProgressModel",
      "state": {
       "bar_style": "success",
       "layout": "IPY_MODEL_a251fdba365540e59af8cbd3077647f0",
       "max": 3,
       "style": "IPY_MODEL_c5bdc1aea1dc42808c80934112cab5ca",
       "value": 3
      }
     },
     "77c0f641a17541f098b0af2bfc288ba2": {
      "model_module": "@jupyter-widgets/controls",
      "model_module_version": "2.0.0",
      "model_name": "HTMLStyleModel",
      "state": {
       "description_width": "",
       "font_size": null,
       "text_color": null
      }
     },
     "77cc87b539e74f5dafad722153e60cd3": {
      "model_module": "@jupyter-widgets/controls",
      "model_module_version": "2.0.0",
      "model_name": "DescriptionStyleModel",
      "state": {
       "description_width": ""
      }
     },
     "77ed0aba6bdd404193911cba5b9d44ea": {
      "model_module": "@jupyter-widgets/controls",
      "model_module_version": "2.0.0",
      "model_name": "DescriptionStyleModel",
      "state": {
       "description_width": ""
      }
     },
     "77ff9a2f1111443b9a3740a2f82341be": {
      "model_module": "@jupyter-widgets/base",
      "model_module_version": "2.0.0",
      "model_name": "LayoutModel",
      "state": {}
     },
     "782e5b5a30014d79b29896c0c203222d": {
      "model_module": "@jupyter-widgets/base",
      "model_module_version": "2.0.0",
      "model_name": "LayoutModel",
      "state": {}
     },
     "783ab5f1eaf04f2e9109c2425d8d2ce7": {
      "model_module": "@jupyter-widgets/controls",
      "model_module_version": "2.0.0",
      "model_name": "HTMLModel",
      "state": {
       "layout": "IPY_MODEL_5a47368809b04a868d7c3abfa75b1f0b",
       "style": "IPY_MODEL_ffaab0ce30f54c8899278aa16a20a700",
       "value": "100%"
      }
     },
     "7863273832e24bb2b5709eec56869f46": {
      "model_module": "@jupyter-widgets/controls",
      "model_module_version": "2.0.0",
      "model_name": "HTMLModel",
      "state": {
       "layout": "IPY_MODEL_4c7a44cfe46546c7ad4510925b762ba3",
       "style": "IPY_MODEL_63db93ef7251427da2644643a5f52e2a",
       "value": " 3/3 [00:10&lt;00:00,  3.99s/it]"
      }
     },
     "78c8eefc38c6474fa027d6414ab01f75": {
      "model_module": "@jupyter-widgets/base",
      "model_module_version": "2.0.0",
      "model_name": "LayoutModel",
      "state": {}
     },
     "799c2ce912b542fe9177159be2e714af": {
      "model_module": "@jupyter-widgets/controls",
      "model_module_version": "2.0.0",
      "model_name": "FloatProgressModel",
      "state": {
       "bar_style": "success",
       "layout": "IPY_MODEL_edba1ebe3a684c6da97596e98b5211a5",
       "max": 14,
       "style": "IPY_MODEL_e4fee53c94fa471e8eb4b075e0b60ed2",
       "value": 14
      }
     },
     "79a44aa20b9946bc8b79ab2e2e5df6a2": {
      "model_module": "@jupyter-widgets/controls",
      "model_module_version": "2.0.0",
      "model_name": "FloatProgressModel",
      "state": {
       "bar_style": "success",
       "layout": "IPY_MODEL_46f145a243894c2d993c289862c13a8b",
       "max": 14,
       "style": "IPY_MODEL_a0618f7e69d04e0a9872eb21f6b60876",
       "value": 14
      }
     },
     "79d7c97072684d3f9b29378b6b243616": {
      "model_module": "@jupyter-widgets/controls",
      "model_module_version": "2.0.0",
      "model_name": "HBoxModel",
      "state": {
       "children": [
        "IPY_MODEL_7fc0e0843f474d44ac6ab47c69f5c3e3",
        "IPY_MODEL_80d0c8c416f94608b61f96459cf40fe7",
        "IPY_MODEL_fec48c92bd4346b18cec58b6d94fbb49"
       ],
       "layout": "IPY_MODEL_ee0c4e46207a4274a774314fe021f144"
      }
     },
     "7a10d58c1ecc444c83d13eb4996e5ee4": {
      "model_module": "@jupyter-widgets/base",
      "model_module_version": "2.0.0",
      "model_name": "LayoutModel",
      "state": {}
     },
     "7a28907fd43d4e51b721aa9335b3ddd1": {
      "model_module": "@jupyter-widgets/base",
      "model_module_version": "2.0.0",
      "model_name": "LayoutModel",
      "state": {}
     },
     "7a5f3f054d8d4da3aed21f20541bed79": {
      "model_module": "@jupyter-widgets/controls",
      "model_module_version": "2.0.0",
      "model_name": "HTMLModel",
      "state": {
       "layout": "IPY_MODEL_23305649c3294c339f312c5895d8215e",
       "style": "IPY_MODEL_589a4e209def475289c2189ea9d4b87d",
       "value": "  0%"
      }
     },
     "7aab256f06ef4b9e8565daa375e42e01": {
      "model_module": "@jupyter-widgets/controls",
      "model_module_version": "2.0.0",
      "model_name": "DescriptionStyleModel",
      "state": {
       "description_width": ""
      }
     },
     "7ac288d49970411bbc6f9fd4c48b352e": {
      "model_module": "@jupyter-widgets/controls",
      "model_module_version": "2.0.0",
      "model_name": "HTMLStyleModel",
      "state": {
       "description_width": "",
       "font_size": null,
       "text_color": null
      }
     },
     "7ad06790a5154b6986cba20d76f8be7d": {
      "model_module": "@jupyter-widgets/controls",
      "model_module_version": "2.0.0",
      "model_name": "ProgressStyleModel",
      "state": {
       "description_width": ""
      }
     },
     "7aedc26c48254a838669f450a1fcbb22": {
      "model_module": "@jupyter-widgets/controls",
      "model_module_version": "2.0.0",
      "model_name": "ProgressStyleModel",
      "state": {
       "description_width": ""
      }
     },
     "7b671e2e52f24c399d68c55d193f4624": {
      "model_module": "@jupyter-widgets/controls",
      "model_module_version": "2.0.0",
      "model_name": "HTMLModel",
      "state": {
       "layout": "IPY_MODEL_1b3e9c32128b4afd82e6239a2c210fd1",
       "style": "IPY_MODEL_837873934a2b49d7b1739352bf6c8c7c",
       "value": " 3/3 [00:10&lt;00:00,  4.20s/it]"
      }
     },
     "7b937f4aa0db46cbbdf18c146a4d8d9d": {
      "model_module": "@jupyter-widgets/base",
      "model_module_version": "2.0.0",
      "model_name": "LayoutModel",
      "state": {}
     },
     "7b94f9a54ba547ecaa1e06fb565d1e14": {
      "model_module": "@jupyter-widgets/controls",
      "model_module_version": "2.0.0",
      "model_name": "HBoxModel",
      "state": {
       "children": [
        "IPY_MODEL_0b4691c9dc8c4730b2406addff4465cf",
        "IPY_MODEL_195bf44553064ef9b5c442ed7f8d14c0",
        "IPY_MODEL_68639f2e8c1c4e3289e0f6d8dce28243"
       ],
       "layout": "IPY_MODEL_2675acb784a64d10b3c0d15cb32666e4"
      }
     },
     "7bc1387af95243a4936c14134903bc0d": {
      "model_module": "@jupyter-widgets/base",
      "model_module_version": "2.0.0",
      "model_name": "LayoutModel",
      "state": {}
     },
     "7c0f779c53b24b90bfd89261b716e72d": {
      "model_module": "@jupyter-widgets/controls",
      "model_module_version": "2.0.0",
      "model_name": "DescriptionStyleModel",
      "state": {
       "description_width": ""
      }
     },
     "7c31ea7a778745c7b6d783ad107c3f8b": {
      "model_module": "@jupyter-widgets/controls",
      "model_module_version": "2.0.0",
      "model_name": "ProgressStyleModel",
      "state": {
       "description_width": ""
      }
     },
     "7cdbaf6f3ca74f5f9129c7b62ff0fad9": {
      "model_module": "@jupyter-widgets/base",
      "model_module_version": "2.0.0",
      "model_name": "LayoutModel",
      "state": {}
     },
     "7d1f068199244ed6b81817ea80f86c30": {
      "model_module": "@jupyter-widgets/base",
      "model_module_version": "2.0.0",
      "model_name": "LayoutModel",
      "state": {}
     },
     "7e6348b6f12249d5968b9eb97f166010": {
      "model_module": "@jupyter-widgets/controls",
      "model_module_version": "2.0.0",
      "model_name": "DescriptionStyleModel",
      "state": {
       "description_width": ""
      }
     },
     "7e6cc6a679764955ae923d5a7ffce52d": {
      "model_module": "@jupyter-widgets/base",
      "model_module_version": "2.0.0",
      "model_name": "LayoutModel",
      "state": {}
     },
     "7e75042516144e45b782a1306aa9391c": {
      "model_module": "@jupyter-widgets/base",
      "model_module_version": "2.0.0",
      "model_name": "LayoutModel",
      "state": {}
     },
     "7eae24d97b304548b79fa6b8c4f0440c": {
      "model_module": "@jupyter-widgets/controls",
      "model_module_version": "2.0.0",
      "model_name": "HTMLModel",
      "state": {
       "layout": "IPY_MODEL_ab1b358f19404b43ab69060dc71719fd",
       "style": "IPY_MODEL_98b51c8e0b6446d884029b755913174d",
       "value": " 0/6 [00:00&lt;?, ?it/s]"
      }
     },
     "7f39e4fb792e4f0dbe1c7c27002d693a": {
      "model_module": "@jupyter-widgets/controls",
      "model_module_version": "2.0.0",
      "model_name": "FloatProgressModel",
      "state": {
       "bar_style": "success",
       "layout": "IPY_MODEL_81b26703a68944f4ab93ad79e9c80094",
       "max": 14,
       "style": "IPY_MODEL_a4587bcd144e43aca297d025ad154820",
       "value": 14
      }
     },
     "7fc0e0843f474d44ac6ab47c69f5c3e3": {
      "model_module": "@jupyter-widgets/controls",
      "model_module_version": "2.0.0",
      "model_name": "HTMLModel",
      "state": {
       "layout": "IPY_MODEL_623a9efab414447da1c1ae61858f5778",
       "style": "IPY_MODEL_5fe97e3ddaf541e8bb132154c246ac91",
       "value": "100%"
      }
     },
     "801c18dea9304ecbb6bb0636069827d4": {
      "model_module": "@jupyter-widgets/base",
      "model_module_version": "2.0.0",
      "model_name": "LayoutModel",
      "state": {}
     },
     "802c5562f59f42ef96997de1b9feb3b5": {
      "model_module": "@jupyter-widgets/controls",
      "model_module_version": "2.0.0",
      "model_name": "HTMLModel",
      "state": {
       "layout": "IPY_MODEL_a99c5e20d6d7423181e14969ec0ffc55",
       "style": "IPY_MODEL_edd4ff7f3e974300b167832d9129ddc9",
       "value": "100%"
      }
     },
     "8039000c118c4b35bc9ffcc4d13b27f3": {
      "model_module": "@jupyter-widgets/controls",
      "model_module_version": "2.0.0",
      "model_name": "HTMLModel",
      "state": {
       "layout": "IPY_MODEL_084efb17fade418aac55ccf88c99373d",
       "style": "IPY_MODEL_fcae490625734c64bdd2385f2511ea70",
       "value": " 14/14 [00:37&lt;00:00,  2.77s/it]"
      }
     },
     "805874e27f1a45e1b89fb0c287a680a8": {
      "model_module": "@jupyter-widgets/controls",
      "model_module_version": "2.0.0",
      "model_name": "DescriptionStyleModel",
      "state": {
       "description_width": ""
      }
     },
     "809b845a947d4eceaa9d7201273254c6": {
      "model_module": "@jupyter-widgets/base",
      "model_module_version": "2.0.0",
      "model_name": "LayoutModel",
      "state": {}
     },
     "80c763c7699b4ff49a71253aa16e9b40": {
      "model_module": "@jupyter-widgets/base",
      "model_module_version": "2.0.0",
      "model_name": "LayoutModel",
      "state": {}
     },
     "80d0c8c416f94608b61f96459cf40fe7": {
      "model_module": "@jupyter-widgets/controls",
      "model_module_version": "2.0.0",
      "model_name": "FloatProgressModel",
      "state": {
       "bar_style": "success",
       "layout": "IPY_MODEL_7e75042516144e45b782a1306aa9391c",
       "max": 6,
       "style": "IPY_MODEL_b8816800b87d481bb2bae8c7a9c6e818",
       "value": 6
      }
     },
     "810d595243204b40860e6dae8429371f": {
      "model_module": "@jupyter-widgets/controls",
      "model_module_version": "2.0.0",
      "model_name": "HTMLModel",
      "state": {
       "layout": "IPY_MODEL_835227c5d2954262939a6cba31a5dc46",
       "style": "IPY_MODEL_50f4f2ca4dba4a54b2e2e14d411ef914",
       "value": " 6/6 [00:11&lt;00:00,  2.78s/it]"
      }
     },
     "8119cd3961734583bf6db0c483e7f3a5": {
      "model_module": "@jupyter-widgets/controls",
      "model_module_version": "2.0.0",
      "model_name": "HTMLModel",
      "state": {
       "layout": "IPY_MODEL_0f08dbddfbf34a21a5d145735909cfec",
       "style": "IPY_MODEL_a2dc4e35c9ca48d3a6e51fc5cefd0ced",
       "value": " 14/14 [00:34&lt;00:00,  2.58s/it]"
      }
     },
     "81219c097ac744b69ad4e171ef739df5": {
      "model_module": "@jupyter-widgets/controls",
      "model_module_version": "2.0.0",
      "model_name": "DescriptionStyleModel",
      "state": {
       "description_width": ""
      }
     },
     "817301f479794c12b0e516e4b27ca565": {
      "model_module": "@jupyter-widgets/base",
      "model_module_version": "2.0.0",
      "model_name": "LayoutModel",
      "state": {}
     },
     "8184abafd437439481a39fe8f50c41bf": {
      "model_module": "@jupyter-widgets/controls",
      "model_module_version": "2.0.0",
      "model_name": "ProgressStyleModel",
      "state": {
       "description_width": ""
      }
     },
     "81b26703a68944f4ab93ad79e9c80094": {
      "model_module": "@jupyter-widgets/base",
      "model_module_version": "2.0.0",
      "model_name": "LayoutModel",
      "state": {}
     },
     "81e017f82e2b4d11af2c8ce57dcb546b": {
      "model_module": "@jupyter-widgets/base",
      "model_module_version": "2.0.0",
      "model_name": "LayoutModel",
      "state": {}
     },
     "81fd12c7fc3c414b93a7481f3fb7da1e": {
      "model_module": "@jupyter-widgets/controls",
      "model_module_version": "2.0.0",
      "model_name": "HTMLModel",
      "state": {
       "layout": "IPY_MODEL_276ce3320f1349639ffd64105f12b350",
       "style": "IPY_MODEL_77027611d9f94233a558744125d779c3",
       "value": "100%"
      }
     },
     "8217a65ec82749c384cfde988d04b47e": {
      "model_module": "@jupyter-widgets/base",
      "model_module_version": "2.0.0",
      "model_name": "LayoutModel",
      "state": {}
     },
     "82c29639356a4a678ac451eeb04f30de": {
      "model_module": "@jupyter-widgets/base",
      "model_module_version": "2.0.0",
      "model_name": "LayoutModel",
      "state": {}
     },
     "82fb3cf99ebb4e96ac943460c9281ad7": {
      "model_module": "@jupyter-widgets/controls",
      "model_module_version": "2.0.0",
      "model_name": "HTMLModel",
      "state": {
       "layout": "IPY_MODEL_4df9ea255ee04057a55797a504a03021",
       "style": "IPY_MODEL_f4e82aa0dad7492e9f251f424c0459f3",
       "value": " 3/3 [00:11&lt;00:00,  4.35s/it]"
      }
     },
     "83367f94883e4fd6883bf6596850b72c": {
      "model_module": "@jupyter-widgets/controls",
      "model_module_version": "2.0.0",
      "model_name": "ProgressStyleModel",
      "state": {
       "description_width": ""
      }
     },
     "835227c5d2954262939a6cba31a5dc46": {
      "model_module": "@jupyter-widgets/base",
      "model_module_version": "2.0.0",
      "model_name": "LayoutModel",
      "state": {}
     },
     "837873934a2b49d7b1739352bf6c8c7c": {
      "model_module": "@jupyter-widgets/controls",
      "model_module_version": "2.0.0",
      "model_name": "DescriptionStyleModel",
      "state": {
       "description_width": ""
      }
     },
     "83c2fac7843c4663a1b118a4efb743db": {
      "model_module": "@jupyter-widgets/controls",
      "model_module_version": "2.0.0",
      "model_name": "HTMLModel",
      "state": {
       "layout": "IPY_MODEL_5592b4ced2b04897acb15b7d476b9740",
       "style": "IPY_MODEL_f13ca19e18544997bae83876d0159c0a",
       "value": "100%"
      }
     },
     "845af8d2da2a4ab4ad8df8b4e2341619": {
      "model_module": "@jupyter-widgets/controls",
      "model_module_version": "2.0.0",
      "model_name": "DescriptionStyleModel",
      "state": {
       "description_width": ""
      }
     },
     "850b5faee343454caff7bcb954c1b297": {
      "model_module": "@jupyter-widgets/base",
      "model_module_version": "2.0.0",
      "model_name": "LayoutModel",
      "state": {}
     },
     "854dbd68562548558ed1aa363a4554d2": {
      "model_module": "@jupyter-widgets/controls",
      "model_module_version": "2.0.0",
      "model_name": "HTMLModel",
      "state": {
       "layout": "IPY_MODEL_530227233cdb4d7bbe6a127d11bbbc96",
       "style": "IPY_MODEL_5f3c41984e834353b4bd3fbb27a25c2c",
       "value": " 3/3 [00:10&lt;00:00,  4.26s/it]"
      }
     },
     "856fc5b6342d48619ba1ba16c73ed3f4": {
      "model_module": "@jupyter-widgets/controls",
      "model_module_version": "2.0.0",
      "model_name": "HTMLStyleModel",
      "state": {
       "description_width": "",
       "font_size": null,
       "text_color": null
      }
     },
     "8588cbf7c52d4f418839811101f446cc": {
      "model_module": "@jupyter-widgets/base",
      "model_module_version": "2.0.0",
      "model_name": "LayoutModel",
      "state": {}
     },
     "85a207da415748b88779087c996cfbbe": {
      "model_module": "@jupyter-widgets/base",
      "model_module_version": "2.0.0",
      "model_name": "LayoutModel",
      "state": {}
     },
     "85bac26c66964215ac5fdf16b0e39b66": {
      "model_module": "@jupyter-widgets/base",
      "model_module_version": "2.0.0",
      "model_name": "LayoutModel",
      "state": {}
     },
     "85d9ce7fbbea4356a2844cb8e9bd2564": {
      "model_module": "@jupyter-widgets/controls",
      "model_module_version": "2.0.0",
      "model_name": "DescriptionStyleModel",
      "state": {
       "description_width": ""
      }
     },
     "85e61beb995d4af989a3d453931372b6": {
      "model_module": "@jupyter-widgets/controls",
      "model_module_version": "2.0.0",
      "model_name": "HBoxModel",
      "state": {
       "children": [
        "IPY_MODEL_57dfcbb0414848a7afaf25ae5b8f6318",
        "IPY_MODEL_59cb8b51d70545db801f62bf91dde842",
        "IPY_MODEL_7b671e2e52f24c399d68c55d193f4624"
       ],
       "layout": "IPY_MODEL_e5627be0bb0747cbb16d4c50cdc94823"
      }
     },
     "85ef1aa4fcf8440085059dd1730c10ce": {
      "model_module": "@jupyter-widgets/controls",
      "model_module_version": "2.0.0",
      "model_name": "HBoxModel",
      "state": {
       "children": [
        "IPY_MODEL_f66bdd911a814945be5752c9df45f480",
        "IPY_MODEL_79a44aa20b9946bc8b79ab2e2e5df6a2",
        "IPY_MODEL_47f98225af024bc7af24fb7f21e52399"
       ],
       "layout": "IPY_MODEL_212dcdc1e2d240d883b18393d45acda8"
      }
     },
     "86408805e10e4b36b31272710102a681": {
      "model_module": "@jupyter-widgets/controls",
      "model_module_version": "2.0.0",
      "model_name": "HTMLStyleModel",
      "state": {
       "description_width": "",
       "font_size": null,
       "text_color": null
      }
     },
     "86b7cab297b94e7ab2ac786d7cd1fa55": {
      "model_module": "@jupyter-widgets/base",
      "model_module_version": "2.0.0",
      "model_name": "LayoutModel",
      "state": {}
     },
     "8758e08007c147cc995a9cd778321546": {
      "model_module": "@jupyter-widgets/base",
      "model_module_version": "2.0.0",
      "model_name": "LayoutModel",
      "state": {}
     },
     "87594e0f75114cac9ea7e461d39e53ea": {
      "model_module": "@jupyter-widgets/controls",
      "model_module_version": "2.0.0",
      "model_name": "DescriptionStyleModel",
      "state": {
       "description_width": ""
      }
     },
     "876f19a2a1274dfaab89aed4f6d34307": {
      "model_module": "@jupyter-widgets/controls",
      "model_module_version": "2.0.0",
      "model_name": "ProgressStyleModel",
      "state": {
       "description_width": ""
      }
     },
     "87797a99938f45d29bd835be4b5ec572": {
      "model_module": "@jupyter-widgets/base",
      "model_module_version": "2.0.0",
      "model_name": "LayoutModel",
      "state": {}
     },
     "87bd516446324c848607396a35fbd10d": {
      "model_module": "@jupyter-widgets/controls",
      "model_module_version": "2.0.0",
      "model_name": "HTMLModel",
      "state": {
       "layout": "IPY_MODEL_115a126a5dc14d9e9e0c1a91e79ef53e",
       "style": "IPY_MODEL_5649d18abbde4f47a03b99cee129ca40",
       "value": " 3/3 [00:11&lt;00:00,  4.39s/it]"
      }
     },
     "87ed297c898a4aa8a059c3d7c6418959": {
      "model_module": "@jupyter-widgets/base",
      "model_module_version": "2.0.0",
      "model_name": "LayoutModel",
      "state": {}
     },
     "88209ef64d6c4b459ebea93a0eacd68c": {
      "model_module": "@jupyter-widgets/controls",
      "model_module_version": "2.0.0",
      "model_name": "FloatProgressModel",
      "state": {
       "bar_style": "success",
       "layout": "IPY_MODEL_8a24378d55ee46b6877d4dec1c9a5199",
       "max": 6,
       "style": "IPY_MODEL_91ba93a175354e73ad7477e0f4bdf81a",
       "value": 6
      }
     },
     "8882d1d7c3f1433a9b9101a888037ec7": {
      "model_module": "@jupyter-widgets/controls",
      "model_module_version": "2.0.0",
      "model_name": "HTMLModel",
      "state": {
       "layout": "IPY_MODEL_f65d8a8840ca449cbde70bef05e56953",
       "style": "IPY_MODEL_b0967127666b443cb813bf91f7ecfedf",
       "value": "100%"
      }
     },
     "8884c47ab3c441ce8df0a22eac4b497e": {
      "model_module": "@jupyter-widgets/base",
      "model_module_version": "2.0.0",
      "model_name": "LayoutModel",
      "state": {}
     },
     "88b61669524141039a422c0c834da8c4": {
      "model_module": "@jupyter-widgets/base",
      "model_module_version": "2.0.0",
      "model_name": "LayoutModel",
      "state": {}
     },
     "8981bf35b70148559775a41ed92d1ed1": {
      "model_module": "@jupyter-widgets/base",
      "model_module_version": "2.0.0",
      "model_name": "LayoutModel",
      "state": {}
     },
     "89df800d4df747eaa75255a756977bf8": {
      "model_module": "@jupyter-widgets/controls",
      "model_module_version": "2.0.0",
      "model_name": "ProgressStyleModel",
      "state": {
       "description_width": ""
      }
     },
     "8a03ad0d87be4739985ebdbd8e3f6821": {
      "model_module": "@jupyter-widgets/controls",
      "model_module_version": "2.0.0",
      "model_name": "HTMLModel",
      "state": {
       "layout": "IPY_MODEL_ba29168235254634b5b1b682e0b4ae4c",
       "style": "IPY_MODEL_bc59be59c8e340218f148d15b9e3c513",
       "value": " 14/14 [00:34&lt;00:00,  2.54s/it]"
      }
     },
     "8a24378d55ee46b6877d4dec1c9a5199": {
      "model_module": "@jupyter-widgets/base",
      "model_module_version": "2.0.0",
      "model_name": "LayoutModel",
      "state": {}
     },
     "8b057534064a4e3686cd34358bb93401": {
      "model_module": "@jupyter-widgets/controls",
      "model_module_version": "2.0.0",
      "model_name": "HTMLModel",
      "state": {
       "layout": "IPY_MODEL_bfc48091ec6d4aa88c7cd6e624b2063f",
       "style": "IPY_MODEL_805874e27f1a45e1b89fb0c287a680a8",
       "value": " 3/3 [00:10&lt;00:00,  4.25s/it]"
      }
     },
     "8b16a795483843d3b70dba6e1fd26a29": {
      "model_module": "@jupyter-widgets/base",
      "model_module_version": "2.0.0",
      "model_name": "LayoutModel",
      "state": {}
     },
     "8b612f576d034f368bf01513ba1fdbf7": {
      "model_module": "@jupyter-widgets/controls",
      "model_module_version": "2.0.0",
      "model_name": "HTMLStyleModel",
      "state": {
       "description_width": "",
       "font_size": null,
       "text_color": null
      }
     },
     "8ba4f31efed1433d8576bf8f21e073b8": {
      "model_module": "@jupyter-widgets/controls",
      "model_module_version": "2.0.0",
      "model_name": "HTMLModel",
      "state": {
       "layout": "IPY_MODEL_a67580eb9d634cf69c7c9c303da15028",
       "style": "IPY_MODEL_582ab9a756b849b2b26d95663d2ff9e2",
       "value": "100%"
      }
     },
     "8bde0caeebf740c4bc667fbfa72d02ed": {
      "model_module": "@jupyter-widgets/controls",
      "model_module_version": "2.0.0",
      "model_name": "HTMLModel",
      "state": {
       "layout": "IPY_MODEL_335ac4086e8e40ea906ff302e06b35ec",
       "style": "IPY_MODEL_17800447be014770ae05c74ce802f81c",
       "value": " 71%"
      }
     },
     "8c4974d3c01f4a0ab4612bcd9d2c487e": {
      "model_module": "@jupyter-widgets/controls",
      "model_module_version": "2.0.0",
      "model_name": "FloatProgressModel",
      "state": {
       "bar_style": "success",
       "layout": "IPY_MODEL_06cd218c9ce0406090f8b3651b412fe3",
       "max": 3,
       "style": "IPY_MODEL_069d1da5bb904bb092d378f310a159d1",
       "value": 3
      }
     },
     "8c9fb845d586409ebe1a3b099073ed87": {
      "model_module": "@jupyter-widgets/base",
      "model_module_version": "2.0.0",
      "model_name": "LayoutModel",
      "state": {}
     },
     "8ccf6c8ad7a94dee96a0b8f1c326da34": {
      "model_module": "@jupyter-widgets/controls",
      "model_module_version": "2.0.0",
      "model_name": "DescriptionStyleModel",
      "state": {
       "description_width": ""
      }
     },
     "8d0d8c956fc0459f905a8b1a41ffe4fe": {
      "model_module": "@jupyter-widgets/base",
      "model_module_version": "2.0.0",
      "model_name": "LayoutModel",
      "state": {}
     },
     "8d4c233f2bd34fc785689c28a4443ae4": {
      "model_module": "@jupyter-widgets/base",
      "model_module_version": "2.0.0",
      "model_name": "LayoutModel",
      "state": {}
     },
     "8d537c8aa9584d61a56bb5641182a29e": {
      "model_module": "@jupyter-widgets/base",
      "model_module_version": "2.0.0",
      "model_name": "LayoutModel",
      "state": {}
     },
     "8d594a3eb60f4356a1bd8855a8fbab5e": {
      "model_module": "@jupyter-widgets/controls",
      "model_module_version": "2.0.0",
      "model_name": "HTMLModel",
      "state": {
       "layout": "IPY_MODEL_2e67d915b16444b9b3a482f2cd5cc527",
       "style": "IPY_MODEL_e58ad84b62ec439799d1916be0c1311f",
       "value": "100%"
      }
     },
     "8db24025e8b24c4a812fbe69c0ae9de9": {
      "model_module": "@jupyter-widgets/controls",
      "model_module_version": "2.0.0",
      "model_name": "FloatProgressModel",
      "state": {
       "bar_style": "success",
       "layout": "IPY_MODEL_415a0ab04e254c019410b5f8792449de",
       "max": 6,
       "style": "IPY_MODEL_a1e775eb43e44bc4acd045fc2f754041",
       "value": 6
      }
     },
     "8de9a6074fbd4b38a5a91f1463b54fc9": {
      "model_module": "@jupyter-widgets/base",
      "model_module_version": "2.0.0",
      "model_name": "LayoutModel",
      "state": {}
     },
     "8e28b38aef194897b6131f4317563b9f": {
      "model_module": "@jupyter-widgets/controls",
      "model_module_version": "2.0.0",
      "model_name": "DescriptionStyleModel",
      "state": {
       "description_width": ""
      }
     },
     "8ec11039193343d798c4d59b2cfe705b": {
      "model_module": "@jupyter-widgets/controls",
      "model_module_version": "2.0.0",
      "model_name": "DescriptionStyleModel",
      "state": {
       "description_width": ""
      }
     },
     "8ed4ea60c228441bb58a109bfdb44d87": {
      "model_module": "@jupyter-widgets/base",
      "model_module_version": "2.0.0",
      "model_name": "LayoutModel",
      "state": {}
     },
     "8f3469b12b6d41cca996c3174a8a94d3": {
      "model_module": "@jupyter-widgets/controls",
      "model_module_version": "2.0.0",
      "model_name": "FloatProgressModel",
      "state": {
       "bar_style": "success",
       "layout": "IPY_MODEL_d23780089de748e3a6494a99c3811a90",
       "max": 14,
       "style": "IPY_MODEL_3bf48ed08eed4ac5a645a04c7acea2f0",
       "value": 14
      }
     },
     "8f409e26f6304a798feedac9af5080d5": {
      "model_module": "@jupyter-widgets/base",
      "model_module_version": "2.0.0",
      "model_name": "LayoutModel",
      "state": {}
     },
     "8f5256878fcc4418932eb682a7007e91": {
      "model_module": "@jupyter-widgets/controls",
      "model_module_version": "2.0.0",
      "model_name": "DescriptionStyleModel",
      "state": {
       "description_width": ""
      }
     },
     "8f744712f1da42b693089113de819dfb": {
      "model_module": "@jupyter-widgets/controls",
      "model_module_version": "2.0.0",
      "model_name": "HTMLModel",
      "state": {
       "layout": "IPY_MODEL_e8e8410b949c4d85ab8ffc6736cacd90",
       "style": "IPY_MODEL_3f5fc16ddecb4154990b5e1d937d9c61",
       "value": " 6/6 [00:08&lt;00:00,  2.00s/it]"
      }
     },
     "8f87a82165fc452397ac70cad966bbe4": {
      "model_module": "@jupyter-widgets/controls",
      "model_module_version": "2.0.0",
      "model_name": "ProgressStyleModel",
      "state": {
       "description_width": ""
      }
     },
     "8fa32913544f4ff7ae6cc19b754896c1": {
      "model_module": "@jupyter-widgets/base",
      "model_module_version": "2.0.0",
      "model_name": "LayoutModel",
      "state": {}
     },
     "8ff573009e114a3f87d3b18fc70f28cc": {
      "model_module": "@jupyter-widgets/controls",
      "model_module_version": "2.0.0",
      "model_name": "HTMLModel",
      "state": {
       "layout": "IPY_MODEL_809b845a947d4eceaa9d7201273254c6",
       "style": "IPY_MODEL_d19518513e8a44dfa6fb2814c8c8f05d",
       "value": " 3/3 [00:10&lt;00:00,  4.19s/it]"
      }
     },
     "90220a88101d49e888b6f83bfb6df436": {
      "model_module": "@jupyter-widgets/base",
      "model_module_version": "2.0.0",
      "model_name": "LayoutModel",
      "state": {}
     },
     "902f154135734038946c4cb43ac040ea": {
      "model_module": "@jupyter-widgets/controls",
      "model_module_version": "2.0.0",
      "model_name": "FloatProgressModel",
      "state": {
       "bar_style": "success",
       "layout": "IPY_MODEL_86b7cab297b94e7ab2ac786d7cd1fa55",
       "max": 6,
       "style": "IPY_MODEL_a7a16d4f0fb34f68b8745330c293ea9d",
       "value": 6
      }
     },
     "903eacd04bae46db83092bc1e8f150e2": {
      "model_module": "@jupyter-widgets/base",
      "model_module_version": "2.0.0",
      "model_name": "LayoutModel",
      "state": {}
     },
     "9081a73355fa4afcacf5da26e5f3a77f": {
      "model_module": "@jupyter-widgets/controls",
      "model_module_version": "2.0.0",
      "model_name": "HBoxModel",
      "state": {
       "children": [
        "IPY_MODEL_96efe36f1bb949629a3d121c3028b8bb",
        "IPY_MODEL_f088a133a8804674b9dd7f297ffbf9c2",
        "IPY_MODEL_d83e8dcffaef45478777c81975daeb66"
       ],
       "layout": "IPY_MODEL_8d537c8aa9584d61a56bb5641182a29e"
      }
     },
     "90847593a34c4349a601197e200e330b": {
      "model_module": "@jupyter-widgets/controls",
      "model_module_version": "2.0.0",
      "model_name": "FloatProgressModel",
      "state": {
       "bar_style": "success",
       "layout": "IPY_MODEL_3e038dd87e8e4559b113c386a0626299",
       "max": 14,
       "style": "IPY_MODEL_8f87a82165fc452397ac70cad966bbe4",
       "value": 14
      }
     },
     "90923c837e1b4ab9bc13f1267d9159d8": {
      "model_module": "@jupyter-widgets/base",
      "model_module_version": "2.0.0",
      "model_name": "LayoutModel",
      "state": {}
     },
     "917f0d2e1d3647cc9e7a51370040f48c": {
      "model_module": "@jupyter-widgets/controls",
      "model_module_version": "2.0.0",
      "model_name": "HTMLStyleModel",
      "state": {
       "description_width": "",
       "font_size": null,
       "text_color": null
      }
     },
     "91ba93a175354e73ad7477e0f4bdf81a": {
      "model_module": "@jupyter-widgets/controls",
      "model_module_version": "2.0.0",
      "model_name": "ProgressStyleModel",
      "state": {
       "description_width": ""
      }
     },
     "9216e0e0907040929f6e274b03ee6243": {
      "model_module": "@jupyter-widgets/controls",
      "model_module_version": "2.0.0",
      "model_name": "ProgressStyleModel",
      "state": {
       "description_width": ""
      }
     },
     "924612cd146e4e69b75731ce2c3641e8": {
      "model_module": "@jupyter-widgets/controls",
      "model_module_version": "2.0.0",
      "model_name": "HBoxModel",
      "state": {
       "children": [
        "IPY_MODEL_8d594a3eb60f4356a1bd8855a8fbab5e",
        "IPY_MODEL_6a06014e46784b398bbbdbee3663f860",
        "IPY_MODEL_0753c14d260c47b4b76e724d61b7626e"
       ],
       "layout": "IPY_MODEL_1550f4570c0649d281d386ee91811c1a"
      }
     },
     "93384c970167447d96b9fbe341ba03f3": {
      "model_module": "@jupyter-widgets/base",
      "model_module_version": "2.0.0",
      "model_name": "LayoutModel",
      "state": {}
     },
     "9394526ac9c941739cd411acfd526766": {
      "model_module": "@jupyter-widgets/base",
      "model_module_version": "2.0.0",
      "model_name": "LayoutModel",
      "state": {}
     },
     "93d601e2d59e468bb0a2e59df885b6bb": {
      "model_module": "@jupyter-widgets/base",
      "model_module_version": "2.0.0",
      "model_name": "LayoutModel",
      "state": {}
     },
     "945688e6560c48ad8c46b7294bd434b6": {
      "model_module": "@jupyter-widgets/controls",
      "model_module_version": "2.0.0",
      "model_name": "HTMLStyleModel",
      "state": {
       "description_width": "",
       "font_size": null,
       "text_color": null
      }
     },
     "946cadf61f5e47fd8270beb2329cf33b": {
      "model_module": "@jupyter-widgets/base",
      "model_module_version": "2.0.0",
      "model_name": "LayoutModel",
      "state": {}
     },
     "94b354bd31db4240b3abce5878a7f39e": {
      "model_module": "@jupyter-widgets/base",
      "model_module_version": "2.0.0",
      "model_name": "LayoutModel",
      "state": {}
     },
     "95300a5b30004cba8b3edd3a03b70613": {
      "model_module": "@jupyter-widgets/controls",
      "model_module_version": "2.0.0",
      "model_name": "DescriptionStyleModel",
      "state": {
       "description_width": ""
      }
     },
     "9598104261b74175b7595970dc69aa41": {
      "model_module": "@jupyter-widgets/controls",
      "model_module_version": "2.0.0",
      "model_name": "HBoxModel",
      "state": {
       "children": [
        "IPY_MODEL_08e2cf45c7c848ed83868e9a1f1ba967",
        "IPY_MODEL_219d72dd2d2b4dd7b8bba69df5cbc177",
        "IPY_MODEL_730913aaea4747af9cb8ab72603e2493"
       ],
       "layout": "IPY_MODEL_782e5b5a30014d79b29896c0c203222d"
      }
     },
     "95cfbf3086504b4ab9a1449d5cf78769": {
      "model_module": "@jupyter-widgets/controls",
      "model_module_version": "2.0.0",
      "model_name": "DescriptionStyleModel",
      "state": {
       "description_width": ""
      }
     },
     "9610b9e50bdc44d6ac6c7b4c9e8a6973": {
      "model_module": "@jupyter-widgets/controls",
      "model_module_version": "2.0.0",
      "model_name": "HBoxModel",
      "state": {
       "children": [
        "IPY_MODEL_42645fcaf4c64cf68824d93759c75bc8",
        "IPY_MODEL_d3134f14b8944f4987bb3b46c8f59e6d",
        "IPY_MODEL_6217b2e724b7488dbf152daf3fb7ff95"
       ],
       "layout": "IPY_MODEL_dc68bf3968c245a59d61247ef22df629"
      }
     },
     "963e6ff751eb492db8552071ba8a2b76": {
      "model_module": "@jupyter-widgets/controls",
      "model_module_version": "2.0.0",
      "model_name": "ProgressStyleModel",
      "state": {
       "description_width": ""
      }
     },
     "96b460c37817428197afea818ff1e4a5": {
      "model_module": "@jupyter-widgets/controls",
      "model_module_version": "2.0.0",
      "model_name": "HTMLModel",
      "state": {
       "layout": "IPY_MODEL_e40cca4a10a44e0dbd27b705095264cc",
       "style": "IPY_MODEL_3f0ca1a537944eababed72bd0d0b4031",
       "value": " 14/14 [00:35&lt;00:00,  2.59s/it]"
      }
     },
     "96efe36f1bb949629a3d121c3028b8bb": {
      "model_module": "@jupyter-widgets/controls",
      "model_module_version": "2.0.0",
      "model_name": "HTMLModel",
      "state": {
       "layout": "IPY_MODEL_e2df143c4ac449a490b970fc5d42903d",
       "style": "IPY_MODEL_74beaec67ac64b4f9e4ffd9764bd2b9d",
       "value": "100%"
      }
     },
     "9722c25d278d4c709a75c1528f7252d6": {
      "model_module": "@jupyter-widgets/base",
      "model_module_version": "2.0.0",
      "model_name": "LayoutModel",
      "state": {}
     },
     "97911fa7f7ff4b9ca533f84f14ba8a8d": {
      "model_module": "@jupyter-widgets/controls",
      "model_module_version": "2.0.0",
      "model_name": "DescriptionStyleModel",
      "state": {
       "description_width": ""
      }
     },
     "97bbbe30ec7f46b9aaa8e4ad4646ac93": {
      "model_module": "@jupyter-widgets/controls",
      "model_module_version": "2.0.0",
      "model_name": "HTMLModel",
      "state": {
       "layout": "IPY_MODEL_a287ddab9f4d4efbbc0febc60c8661ae",
       "style": "IPY_MODEL_4ad7e55c582c4f96bf747521fa1a880e",
       "value": " 3/14 [00:02&lt;00:05,  2.05it/s]"
      }
     },
     "97d2f02d0fb04261aec409b6acb27725": {
      "model_module": "@jupyter-widgets/controls",
      "model_module_version": "2.0.0",
      "model_name": "HTMLStyleModel",
      "state": {
       "description_width": "",
       "font_size": null,
       "text_color": null
      }
     },
     "982382b357b14ca8804bd87ffe32397e": {
      "model_module": "@jupyter-widgets/controls",
      "model_module_version": "2.0.0",
      "model_name": "HTMLModel",
      "state": {
       "layout": "IPY_MODEL_e631feec27f44638b2b4bcc59588718e",
       "style": "IPY_MODEL_c941c9c883be4ff7a4d90b55852afc96",
       "value": "100%"
      }
     },
     "98307e1ba8e542d28735e73168500439": {
      "model_module": "@jupyter-widgets/base",
      "model_module_version": "2.0.0",
      "model_name": "LayoutModel",
      "state": {}
     },
     "9853c5d67f5f48bb9813db5ee85adebb": {
      "model_module": "@jupyter-widgets/controls",
      "model_module_version": "2.0.0",
      "model_name": "ProgressStyleModel",
      "state": {
       "description_width": ""
      }
     },
     "9860d769f6e5456f8ab1d86485f89b89": {
      "model_module": "@jupyter-widgets/controls",
      "model_module_version": "2.0.0",
      "model_name": "HTMLModel",
      "state": {
       "layout": "IPY_MODEL_06d57aa711be4630a00b75bef4214d4c",
       "style": "IPY_MODEL_a3bcc7c717b049f4aa944f25a84dc4ef",
       "value": " 3/3 [00:10&lt;00:00,  4.14s/it]"
      }
     },
     "98b51c8e0b6446d884029b755913174d": {
      "model_module": "@jupyter-widgets/controls",
      "model_module_version": "2.0.0",
      "model_name": "HTMLStyleModel",
      "state": {
       "description_width": "",
       "font_size": null,
       "text_color": null
      }
     },
     "98cb9a5f782d406992c4ab9ddc0d89c4": {
      "model_module": "@jupyter-widgets/base",
      "model_module_version": "2.0.0",
      "model_name": "LayoutModel",
      "state": {}
     },
     "98ebb002e3a64642ad056d5f1b073578": {
      "model_module": "@jupyter-widgets/controls",
      "model_module_version": "2.0.0",
      "model_name": "HTMLModel",
      "state": {
       "layout": "IPY_MODEL_609bdb59378141f4a96e77ac1ac3c4d0",
       "style": "IPY_MODEL_9efb3a41c52e4f40bbec00d4a2d9a969",
       "value": " 3/3 [00:11&lt;00:00,  4.61s/it]"
      }
     },
     "99424901800049039cf89f5962ef052d": {
      "model_module": "@jupyter-widgets/controls",
      "model_module_version": "2.0.0",
      "model_name": "ProgressStyleModel",
      "state": {
       "description_width": ""
      }
     },
     "9a104c1a479a4b499033e7c555c78f9e": {
      "model_module": "@jupyter-widgets/controls",
      "model_module_version": "2.0.0",
      "model_name": "ProgressStyleModel",
      "state": {
       "description_width": ""
      }
     },
     "9a4b752de1ac4a439e4a44845e5667e5": {
      "model_module": "@jupyter-widgets/controls",
      "model_module_version": "2.0.0",
      "model_name": "DescriptionStyleModel",
      "state": {
       "description_width": ""
      }
     },
     "9ac45458d0f9497bac72211e8da9c1ce": {
      "model_module": "@jupyter-widgets/base",
      "model_module_version": "2.0.0",
      "model_name": "LayoutModel",
      "state": {}
     },
     "9b1bd763907b42879195badd1b69a3e8": {
      "model_module": "@jupyter-widgets/controls",
      "model_module_version": "2.0.0",
      "model_name": "HTMLModel",
      "state": {
       "layout": "IPY_MODEL_09b9674aaee24f8ba6ac3d70e04734de",
       "style": "IPY_MODEL_dd6570846ab0438d81b9a130d3dcc1c4",
       "value": " 6/6 [00:11&lt;00:00,  2.78s/it]"
      }
     },
     "9b24a19000ef42af8a952c53a70a91cf": {
      "model_module": "@jupyter-widgets/controls",
      "model_module_version": "2.0.0",
      "model_name": "HTMLStyleModel",
      "state": {
       "description_width": "",
       "font_size": null,
       "text_color": null
      }
     },
     "9b335006471b4b01972e28175f5bd5a6": {
      "model_module": "@jupyter-widgets/controls",
      "model_module_version": "2.0.0",
      "model_name": "HBoxModel",
      "state": {
       "children": [
        "IPY_MODEL_f37ee6991b5b4c67b17f201ce50e2880",
        "IPY_MODEL_2551adbdd0364fdcb7901efe8a24fbd1",
        "IPY_MODEL_a9752cad2c2341dfb8ce3121a4d1ae82"
       ],
       "layout": "IPY_MODEL_67bd004a9cc54ca98a945c66e98a8dc5"
      }
     },
     "9bd67eb962624cffae4c442e70298f11": {
      "model_module": "@jupyter-widgets/controls",
      "model_module_version": "2.0.0",
      "model_name": "HTMLModel",
      "state": {
       "layout": "IPY_MODEL_6924f9666c14408f974c8626cb341bf0",
       "style": "IPY_MODEL_0325411a73a24e76a5a828c1af2f77f4",
       "value": " 14/14 [00:34&lt;00:00,  2.58s/it]"
      }
     },
     "9c92d863eca84c9a8609b6367f2c1d8b": {
      "model_module": "@jupyter-widgets/controls",
      "model_module_version": "2.0.0",
      "model_name": "HTMLStyleModel",
      "state": {
       "description_width": "",
       "font_size": null,
       "text_color": null
      }
     },
     "9c9cd8f1d6b24d63a4d2ad548ec9f261": {
      "model_module": "@jupyter-widgets/controls",
      "model_module_version": "2.0.0",
      "model_name": "HBoxModel",
      "state": {
       "children": [
        "IPY_MODEL_0d5bdf9af54d439ca3f4b690da144284",
        "IPY_MODEL_d73879b228ab41edbd87b375a6c4d3eb",
        "IPY_MODEL_5363fb3cea7e48a79ae2d3eee8d3f103"
       ],
       "layout": "IPY_MODEL_85bac26c66964215ac5fdf16b0e39b66"
      }
     },
     "9cb0f87fdb62465a8ac2ef169db7b6b9": {
      "model_module": "@jupyter-widgets/controls",
      "model_module_version": "2.0.0",
      "model_name": "ProgressStyleModel",
      "state": {
       "description_width": ""
      }
     },
     "9cd79e32341d49e79b16310ec2053281": {
      "model_module": "@jupyter-widgets/controls",
      "model_module_version": "2.0.0",
      "model_name": "DescriptionStyleModel",
      "state": {
       "description_width": ""
      }
     },
     "9cf5eea599ac405eba88a368b841cb7b": {
      "model_module": "@jupyter-widgets/base",
      "model_module_version": "2.0.0",
      "model_name": "LayoutModel",
      "state": {}
     },
     "9ee613f03cca4b73a8bc20062ed816c1": {
      "model_module": "@jupyter-widgets/controls",
      "model_module_version": "2.0.0",
      "model_name": "HTMLModel",
      "state": {
       "layout": "IPY_MODEL_323409be01bc4fac9783bd8238d5b4de",
       "style": "IPY_MODEL_7c0f779c53b24b90bfd89261b716e72d",
       "value": " 14/14 [00:37&lt;00:00,  2.74s/it]"
      }
     },
     "9efb3a41c52e4f40bbec00d4a2d9a969": {
      "model_module": "@jupyter-widgets/controls",
      "model_module_version": "2.0.0",
      "model_name": "DescriptionStyleModel",
      "state": {
       "description_width": ""
      }
     },
     "9f05b8a4032d4eeaa91f17c8df6043fd": {
      "model_module": "@jupyter-widgets/controls",
      "model_module_version": "2.0.0",
      "model_name": "DescriptionStyleModel",
      "state": {
       "description_width": ""
      }
     },
     "9f7187b4ecb342f2a742a39abb381f9d": {
      "model_module": "@jupyter-widgets/base",
      "model_module_version": "2.0.0",
      "model_name": "LayoutModel",
      "state": {}
     },
     "a001f2d8f0ac46178a6eaf43f36f248e": {
      "model_module": "@jupyter-widgets/base",
      "model_module_version": "2.0.0",
      "model_name": "LayoutModel",
      "state": {}
     },
     "a0123662844f4a149a0432231f34ba9f": {
      "model_module": "@jupyter-widgets/controls",
      "model_module_version": "2.0.0",
      "model_name": "DescriptionStyleModel",
      "state": {
       "description_width": ""
      }
     },
     "a040616087b0471381e02100d008c999": {
      "model_module": "@jupyter-widgets/controls",
      "model_module_version": "2.0.0",
      "model_name": "FloatProgressModel",
      "state": {
       "bar_style": "success",
       "layout": "IPY_MODEL_d87c3678554943cfaf04488344ff5fe6",
       "max": 3,
       "style": "IPY_MODEL_a3353040007c440c941c724a6c7c4a86",
       "value": 3
      }
     },
     "a05d377b458949ba8d7dfb4733c297c6": {
      "model_module": "@jupyter-widgets/base",
      "model_module_version": "2.0.0",
      "model_name": "LayoutModel",
      "state": {}
     },
     "a0618f7e69d04e0a9872eb21f6b60876": {
      "model_module": "@jupyter-widgets/controls",
      "model_module_version": "2.0.0",
      "model_name": "ProgressStyleModel",
      "state": {
       "description_width": ""
      }
     },
     "a0a6992b1429433fbbbaf3d5f05d24c3": {
      "model_module": "@jupyter-widgets/controls",
      "model_module_version": "2.0.0",
      "model_name": "HTMLModel",
      "state": {
       "layout": "IPY_MODEL_0b79ec824d3b4d8aa3cae468021e6ea0",
       "style": "IPY_MODEL_d7b063232f184ceca6520530d9f21b38",
       "value": " 3/3 [00:10&lt;00:00,  4.23s/it]"
      }
     },
     "a100bb931af3454f8ff02fae28c2ba6a": {
      "model_module": "@jupyter-widgets/base",
      "model_module_version": "2.0.0",
      "model_name": "LayoutModel",
      "state": {}
     },
     "a14329532c41402699841551dbcaf36d": {
      "model_module": "@jupyter-widgets/controls",
      "model_module_version": "2.0.0",
      "model_name": "ProgressStyleModel",
      "state": {
       "description_width": ""
      }
     },
     "a18db3fb7d924aaf9f82396754c998e8": {
      "model_module": "@jupyter-widgets/controls",
      "model_module_version": "2.0.0",
      "model_name": "DescriptionStyleModel",
      "state": {
       "description_width": ""
      }
     },
     "a1e775eb43e44bc4acd045fc2f754041": {
      "model_module": "@jupyter-widgets/controls",
      "model_module_version": "2.0.0",
      "model_name": "ProgressStyleModel",
      "state": {
       "description_width": ""
      }
     },
     "a251fdba365540e59af8cbd3077647f0": {
      "model_module": "@jupyter-widgets/base",
      "model_module_version": "2.0.0",
      "model_name": "LayoutModel",
      "state": {}
     },
     "a287ddab9f4d4efbbc0febc60c8661ae": {
      "model_module": "@jupyter-widgets/base",
      "model_module_version": "2.0.0",
      "model_name": "LayoutModel",
      "state": {}
     },
     "a2955b360dac453d8c26fa7c5687f081": {
      "model_module": "@jupyter-widgets/controls",
      "model_module_version": "2.0.0",
      "model_name": "DescriptionStyleModel",
      "state": {
       "description_width": ""
      }
     },
     "a2cb0e65b1f44625aefab52e868e76be": {
      "model_module": "@jupyter-widgets/base",
      "model_module_version": "2.0.0",
      "model_name": "LayoutModel",
      "state": {}
     },
     "a2dc4e35c9ca48d3a6e51fc5cefd0ced": {
      "model_module": "@jupyter-widgets/controls",
      "model_module_version": "2.0.0",
      "model_name": "DescriptionStyleModel",
      "state": {
       "description_width": ""
      }
     },
     "a2f63c20b4dd48a8866fcb6b802f8c4a": {
      "model_module": "@jupyter-widgets/controls",
      "model_module_version": "2.0.0",
      "model_name": "ProgressStyleModel",
      "state": {
       "description_width": ""
      }
     },
     "a32af960a36d4b52a3edd1f55e071c15": {
      "model_module": "@jupyter-widgets/controls",
      "model_module_version": "2.0.0",
      "model_name": "HTMLModel",
      "state": {
       "layout": "IPY_MODEL_18fb54df65384bb191ef2dd090fb1024",
       "style": "IPY_MODEL_195b90f25ae447488562295c171c2e4d",
       "value": "100%"
      }
     },
     "a3353040007c440c941c724a6c7c4a86": {
      "model_module": "@jupyter-widgets/controls",
      "model_module_version": "2.0.0",
      "model_name": "ProgressStyleModel",
      "state": {
       "description_width": ""
      }
     },
     "a362902f497348d289d27ca0913068fe": {
      "model_module": "@jupyter-widgets/base",
      "model_module_version": "2.0.0",
      "model_name": "LayoutModel",
      "state": {}
     },
     "a3bcc7c717b049f4aa944f25a84dc4ef": {
      "model_module": "@jupyter-widgets/controls",
      "model_module_version": "2.0.0",
      "model_name": "DescriptionStyleModel",
      "state": {
       "description_width": ""
      }
     },
     "a422eb421d334c8a8df8cec41b824897": {
      "model_module": "@jupyter-widgets/base",
      "model_module_version": "2.0.0",
      "model_name": "LayoutModel",
      "state": {}
     },
     "a440e087f1764e1f8107f2d1e11088f3": {
      "model_module": "@jupyter-widgets/base",
      "model_module_version": "2.0.0",
      "model_name": "LayoutModel",
      "state": {}
     },
     "a457bdaff0b54319a7e04193fee288ff": {
      "model_module": "@jupyter-widgets/base",
      "model_module_version": "2.0.0",
      "model_name": "LayoutModel",
      "state": {}
     },
     "a4587bcd144e43aca297d025ad154820": {
      "model_module": "@jupyter-widgets/controls",
      "model_module_version": "2.0.0",
      "model_name": "ProgressStyleModel",
      "state": {
       "description_width": ""
      }
     },
     "a52dc0b6be834b578252ec84b57cb7ae": {
      "model_module": "@jupyter-widgets/controls",
      "model_module_version": "2.0.0",
      "model_name": "ProgressStyleModel",
      "state": {
       "description_width": ""
      }
     },
     "a5d2a0d48dfa452a87f1d0a82f6365a5": {
      "model_module": "@jupyter-widgets/base",
      "model_module_version": "2.0.0",
      "model_name": "LayoutModel",
      "state": {}
     },
     "a67580eb9d634cf69c7c9c303da15028": {
      "model_module": "@jupyter-widgets/base",
      "model_module_version": "2.0.0",
      "model_name": "LayoutModel",
      "state": {}
     },
     "a6916e9d8ced46a5947c9cf22c14cef2": {
      "model_module": "@jupyter-widgets/controls",
      "model_module_version": "2.0.0",
      "model_name": "HBoxModel",
      "state": {
       "children": [
        "IPY_MODEL_fdc23c6f872c4825b03240c4a0ab9831",
        "IPY_MODEL_20e2e54ff7b6404a8ef36f22b44b6529",
        "IPY_MODEL_b7f078efc25d4d45a8d66e11d244e789"
       ],
       "layout": "IPY_MODEL_70eea4c1fb1e41ff8ee31f5613ef5754"
      }
     },
     "a6ec0e6de8ed4d18943486d916631bb3": {
      "model_module": "@jupyter-widgets/base",
      "model_module_version": "2.0.0",
      "model_name": "LayoutModel",
      "state": {}
     },
     "a7a16d4f0fb34f68b8745330c293ea9d": {
      "model_module": "@jupyter-widgets/controls",
      "model_module_version": "2.0.0",
      "model_name": "ProgressStyleModel",
      "state": {
       "description_width": ""
      }
     },
     "a7aed6a1208c42f2a3249230064c6597": {
      "model_module": "@jupyter-widgets/controls",
      "model_module_version": "2.0.0",
      "model_name": "HTMLModel",
      "state": {
       "layout": "IPY_MODEL_57da2d0871fc4c189bbfb98644cdca7c",
       "style": "IPY_MODEL_1df53411fb0547ea99a8fa02b4902311",
       "value": " 6/6 [00:11&lt;00:00,  2.81s/it]"
      }
     },
     "a7d4d21d229e48928273980fb1f57c78": {
      "model_module": "@jupyter-widgets/controls",
      "model_module_version": "2.0.0",
      "model_name": "DescriptionStyleModel",
      "state": {
       "description_width": ""
      }
     },
     "a89c19df94ce4db18c427504318b7256": {
      "model_module": "@jupyter-widgets/controls",
      "model_module_version": "2.0.0",
      "model_name": "HTMLStyleModel",
      "state": {
       "description_width": "",
       "font_size": null,
       "text_color": null
      }
     },
     "a92590bf59d342f794d3708da665facf": {
      "model_module": "@jupyter-widgets/controls",
      "model_module_version": "2.0.0",
      "model_name": "HTMLModel",
      "state": {
       "layout": "IPY_MODEL_76dc5ba1a0eb48358cccdd7b604f2521",
       "style": "IPY_MODEL_45418625fe974d70bd43597a713421ee",
       "value": "100%"
      }
     },
     "a93293402c394b809ddfc405b57fc3ae": {
      "model_module": "@jupyter-widgets/base",
      "model_module_version": "2.0.0",
      "model_name": "LayoutModel",
      "state": {}
     },
     "a9752cad2c2341dfb8ce3121a4d1ae82": {
      "model_module": "@jupyter-widgets/controls",
      "model_module_version": "2.0.0",
      "model_name": "HTMLModel",
      "state": {
       "layout": "IPY_MODEL_fc07a7ad29a1417dbfecf232fc63168d",
       "style": "IPY_MODEL_4a9c8487b9174ce392d94d1f8a019cab",
       "value": " 3/3 [00:10&lt;00:00,  4.28s/it]"
      }
     },
     "a98327ed4bd04814ab99164413777c03": {
      "model_module": "@jupyter-widgets/controls",
      "model_module_version": "2.0.0",
      "model_name": "ProgressStyleModel",
      "state": {
       "description_width": ""
      }
     },
     "a99c5e20d6d7423181e14969ec0ffc55": {
      "model_module": "@jupyter-widgets/base",
      "model_module_version": "2.0.0",
      "model_name": "LayoutModel",
      "state": {}
     },
     "aa3734b8439c46588fafe5f7b191bb02": {
      "model_module": "@jupyter-widgets/controls",
      "model_module_version": "2.0.0",
      "model_name": "DescriptionStyleModel",
      "state": {
       "description_width": ""
      }
     },
     "aa7fe29f797c4f7aac8b1ae7567c0ce2": {
      "model_module": "@jupyter-widgets/base",
      "model_module_version": "2.0.0",
      "model_name": "LayoutModel",
      "state": {}
     },
     "aaad4ca2ef0e400c861ec129402d025e": {
      "model_module": "@jupyter-widgets/base",
      "model_module_version": "2.0.0",
      "model_name": "LayoutModel",
      "state": {}
     },
     "aaadb36b2dd341be8d326c8b49aababd": {
      "model_module": "@jupyter-widgets/controls",
      "model_module_version": "2.0.0",
      "model_name": "HBoxModel",
      "state": {
       "children": [
        "IPY_MODEL_3178ada1cf22496f9e0de37eba7c5d31",
        "IPY_MODEL_f205a09d309f47fe9800e84ab1b9b096",
        "IPY_MODEL_6df3561b5e8444b9b1151930e443c9f8"
       ],
       "layout": "IPY_MODEL_0db0d77a505b45c09a86c22ab3ec786f"
      }
     },
     "ab111e79a0c94723934c519342c92cab": {
      "model_module": "@jupyter-widgets/controls",
      "model_module_version": "2.0.0",
      "model_name": "HBoxModel",
      "state": {
       "children": [
        "IPY_MODEL_3d9c0e4cf5424a148ed3f6045f692b24",
        "IPY_MODEL_348a6bbab1df499393ae546399d44ddd",
        "IPY_MODEL_6e7b05e3ccb84beab343d30286940b3b"
       ],
       "layout": "IPY_MODEL_81e017f82e2b4d11af2c8ce57dcb546b"
      }
     },
     "ab1b358f19404b43ab69060dc71719fd": {
      "model_module": "@jupyter-widgets/base",
      "model_module_version": "2.0.0",
      "model_name": "LayoutModel",
      "state": {}
     },
     "ab3e3837b3154d8494ca8fad1899cfb9": {
      "model_module": "@jupyter-widgets/controls",
      "model_module_version": "2.0.0",
      "model_name": "HTMLStyleModel",
      "state": {
       "description_width": "",
       "font_size": null,
       "text_color": null
      }
     },
     "ab4c0e768492431bbb35ce04a23dce63": {
      "model_module": "@jupyter-widgets/controls",
      "model_module_version": "2.0.0",
      "model_name": "ProgressStyleModel",
      "state": {
       "description_width": ""
      }
     },
     "ab66689f2e41405eb01c1c18ef038851": {
      "model_module": "@jupyter-widgets/controls",
      "model_module_version": "2.0.0",
      "model_name": "HTMLStyleModel",
      "state": {
       "description_width": "",
       "font_size": null,
       "text_color": null
      }
     },
     "ab8f355ae7164f8b8c9686ea6c91a7a6": {
      "model_module": "@jupyter-widgets/controls",
      "model_module_version": "2.0.0",
      "model_name": "HTMLModel",
      "state": {
       "layout": "IPY_MODEL_d520791859134727bc1617d07d6991ba",
       "style": "IPY_MODEL_3cc770638fe64170b64f98ec87ea9bbb",
       "value": " 5/6 [00:08&lt;00:01,  1.93s/it]"
      }
     },
     "abbeb2c6abf448dda079c6cbb462781b": {
      "model_module": "@jupyter-widgets/controls",
      "model_module_version": "2.0.0",
      "model_name": "DescriptionStyleModel",
      "state": {
       "description_width": ""
      }
     },
     "acb3fc7c388f438890ef68e82fa1047e": {
      "model_module": "@jupyter-widgets/controls",
      "model_module_version": "2.0.0",
      "model_name": "FloatProgressModel",
      "state": {
       "bar_style": "success",
       "layout": "IPY_MODEL_fdaec1db841d41f4b0b47f94f489842b",
       "max": 6,
       "style": "IPY_MODEL_334435f8ee8b43159cafd77d58d41c79",
       "value": 6
      }
     },
     "acda4f5b396441189693bf7bffcb701c": {
      "model_module": "@jupyter-widgets/controls",
      "model_module_version": "2.0.0",
      "model_name": "DescriptionStyleModel",
      "state": {
       "description_width": ""
      }
     },
     "acdac6e8397d4097ba9b78f5a31f3293": {
      "model_module": "@jupyter-widgets/controls",
      "model_module_version": "2.0.0",
      "model_name": "DescriptionStyleModel",
      "state": {
       "description_width": ""
      }
     },
     "aceda0a21c1a4b75853cdb8a59f7eadf": {
      "model_module": "@jupyter-widgets/controls",
      "model_module_version": "2.0.0",
      "model_name": "FloatProgressModel",
      "state": {
       "bar_style": "success",
       "layout": "IPY_MODEL_8de9a6074fbd4b38a5a91f1463b54fc9",
       "max": 3,
       "style": "IPY_MODEL_c6b33421e33f4b0380e00957941ef8db",
       "value": 3
      }
     },
     "acfe89b7172645378b180def2d2a8ff1": {
      "model_module": "@jupyter-widgets/base",
      "model_module_version": "2.0.0",
      "model_name": "LayoutModel",
      "state": {}
     },
     "ad3445fb8cce488999a76f978c9e7a42": {
      "model_module": "@jupyter-widgets/controls",
      "model_module_version": "2.0.0",
      "model_name": "ProgressStyleModel",
      "state": {
       "description_width": ""
      }
     },
     "ad49430f601441eebcd6fdf140b752d4": {
      "model_module": "@jupyter-widgets/controls",
      "model_module_version": "2.0.0",
      "model_name": "ProgressStyleModel",
      "state": {
       "description_width": ""
      }
     },
     "ada2a00636b1438498db0770cdd39bef": {
      "model_module": "@jupyter-widgets/base",
      "model_module_version": "2.0.0",
      "model_name": "LayoutModel",
      "state": {}
     },
     "adb01a75c497444e9fb19c4b1eadcf84": {
      "model_module": "@jupyter-widgets/controls",
      "model_module_version": "2.0.0",
      "model_name": "DescriptionStyleModel",
      "state": {
       "description_width": ""
      }
     },
     "adeb3d409ce9403b90fbd2fabd5b7981": {
      "model_module": "@jupyter-widgets/controls",
      "model_module_version": "2.0.0",
      "model_name": "HTMLModel",
      "state": {
       "layout": "IPY_MODEL_fb2b7e82ece14ab79d84a08df31c827e",
       "style": "IPY_MODEL_721e182dd01e47aca3f0e758c8c7c4b6",
       "value": "100%"
      }
     },
     "ae01414e4d4e4f55b34f35abef29cdfb": {
      "model_module": "@jupyter-widgets/controls",
      "model_module_version": "2.0.0",
      "model_name": "HBoxModel",
      "state": {
       "children": [
        "IPY_MODEL_0bca4e3d211e481b930b97cb27172398",
        "IPY_MODEL_dd17114b4a1c46e3880a89bcd314b090",
        "IPY_MODEL_b7dd1b4dfc814fa3b6b996920c8f0612"
       ],
       "layout": "IPY_MODEL_3304e1dd48ff49ecb920ff68b7dbacaa"
      }
     },
     "ae271860a6e14fda9f58304373ac1cba": {
      "model_module": "@jupyter-widgets/controls",
      "model_module_version": "2.0.0",
      "model_name": "HTMLModel",
      "state": {
       "layout": "IPY_MODEL_bb6cdac5407f4a11ad920f298d404dea",
       "style": "IPY_MODEL_917f0d2e1d3647cc9e7a51370040f48c",
       "value": " 6/6 [00:11&lt;00:00,  2.78s/it]"
      }
     },
     "ae857c0ea2034768aaa19e883a3f5fae": {
      "model_module": "@jupyter-widgets/base",
      "model_module_version": "2.0.0",
      "model_name": "LayoutModel",
      "state": {}
     },
     "ae935114aa1e4839b970b1db58c9c731": {
      "model_module": "@jupyter-widgets/controls",
      "model_module_version": "2.0.0",
      "model_name": "ProgressStyleModel",
      "state": {
       "description_width": ""
      }
     },
     "aef0ceb8c0ae4015b63ea8b2d521df89": {
      "model_module": "@jupyter-widgets/controls",
      "model_module_version": "2.0.0",
      "model_name": "HTMLModel",
      "state": {
       "layout": "IPY_MODEL_8758e08007c147cc995a9cd778321546",
       "style": "IPY_MODEL_c1185f0270fe4f4b904912182604a1b1",
       "value": "100%"
      }
     },
     "af095a946e40470fb6b10069cdead320": {
      "model_module": "@jupyter-widgets/controls",
      "model_module_version": "2.0.0",
      "model_name": "DescriptionStyleModel",
      "state": {
       "description_width": ""
      }
     },
     "af1d80e909114d99b94b5888fcdc68a0": {
      "model_module": "@jupyter-widgets/base",
      "model_module_version": "2.0.0",
      "model_name": "LayoutModel",
      "state": {}
     },
     "af321bf03d344ab5bbf27ecfd4df46e1": {
      "model_module": "@jupyter-widgets/controls",
      "model_module_version": "2.0.0",
      "model_name": "DescriptionStyleModel",
      "state": {
       "description_width": ""
      }
     },
     "af81eb420a204b4db16e0900544ee830": {
      "model_module": "@jupyter-widgets/controls",
      "model_module_version": "2.0.0",
      "model_name": "FloatProgressModel",
      "state": {
       "bar_style": "success",
       "layout": "IPY_MODEL_5c1cdc7f1d7f4334997a05cb16278393",
       "max": 14,
       "style": "IPY_MODEL_0bdac01ac9714d238307c195beb0e4d6",
       "value": 14
      }
     },
     "affe162fb3a94beba81fa8be1951120f": {
      "model_module": "@jupyter-widgets/controls",
      "model_module_version": "2.0.0",
      "model_name": "HTMLModel",
      "state": {
       "layout": "IPY_MODEL_a5d2a0d48dfa452a87f1d0a82f6365a5",
       "style": "IPY_MODEL_1d1da6d468c74317a13dc9fc56dfb053",
       "value": "100%"
      }
     },
     "b01ac6fa0bf14721b1a2505c3fe93267": {
      "model_module": "@jupyter-widgets/controls",
      "model_module_version": "2.0.0",
      "model_name": "FloatProgressModel",
      "state": {
       "bar_style": "success",
       "layout": "IPY_MODEL_2113a4d44df6462db4fa2f37d71cfcbd",
       "max": 6,
       "style": "IPY_MODEL_963e6ff751eb492db8552071ba8a2b76",
       "value": 6
      }
     },
     "b070d048f3d543a6a1184adb874400cd": {
      "model_module": "@jupyter-widgets/controls",
      "model_module_version": "2.0.0",
      "model_name": "HBoxModel",
      "state": {
       "children": [
        "IPY_MODEL_8ba4f31efed1433d8576bf8f21e073b8",
        "IPY_MODEL_4553fb4f7c304feda4bdd2c6af136987",
        "IPY_MODEL_3f85e0c67a0d4d7cb0b7456565c6674c"
       ],
       "layout": "IPY_MODEL_aa7fe29f797c4f7aac8b1ae7567c0ce2"
      }
     },
     "b0967127666b443cb813bf91f7ecfedf": {
      "model_module": "@jupyter-widgets/controls",
      "model_module_version": "2.0.0",
      "model_name": "DescriptionStyleModel",
      "state": {
       "description_width": ""
      }
     },
     "b0abd16537734a9d99386e3c8da6b4b8": {
      "model_module": "@jupyter-widgets/controls",
      "model_module_version": "2.0.0",
      "model_name": "FloatProgressModel",
      "state": {
       "bar_style": "danger",
       "layout": "IPY_MODEL_b49cf00a4c3f4163b7e728f814b74fa9",
       "max": 14,
       "style": "IPY_MODEL_c654e302892f4bfba0927c5f041e3257",
       "value": 3
      }
     },
     "b13f40fc66ff46f3b4778d156c0b4e3f": {
      "model_module": "@jupyter-widgets/base",
      "model_module_version": "2.0.0",
      "model_name": "LayoutModel",
      "state": {}
     },
     "b1869575b6bc48b185eadfefede9f2ea": {
      "model_module": "@jupyter-widgets/controls",
      "model_module_version": "2.0.0",
      "model_name": "HTMLModel",
      "state": {
       "layout": "IPY_MODEL_3f789c27308447d6b763ce0d90eb3663",
       "style": "IPY_MODEL_b77fd8eda6364a409317be07cc127253",
       "value": " 14/14 [00:34&lt;00:00,  2.57s/it]"
      }
     },
     "b1a71496bea04ea984d4eaf411c2d37c": {
      "model_module": "@jupyter-widgets/base",
      "model_module_version": "2.0.0",
      "model_name": "LayoutModel",
      "state": {}
     },
     "b1ce81a067f24d3c90467c337ecb4f34": {
      "model_module": "@jupyter-widgets/controls",
      "model_module_version": "2.0.0",
      "model_name": "ProgressStyleModel",
      "state": {
       "description_width": ""
      }
     },
     "b24610b68ced4adca0b9b6b56cd9fbbc": {
      "model_module": "@jupyter-widgets/controls",
      "model_module_version": "2.0.0",
      "model_name": "HTMLStyleModel",
      "state": {
       "description_width": "",
       "font_size": null,
       "text_color": null
      }
     },
     "b248845b0071429886b9bb169c16460e": {
      "model_module": "@jupyter-widgets/base",
      "model_module_version": "2.0.0",
      "model_name": "LayoutModel",
      "state": {}
     },
     "b2eb49191f454d1ca89219338d27fff3": {
      "model_module": "@jupyter-widgets/base",
      "model_module_version": "2.0.0",
      "model_name": "LayoutModel",
      "state": {}
     },
     "b30a39d725ec4a5da7ab1f5f3027d270": {
      "model_module": "@jupyter-widgets/base",
      "model_module_version": "2.0.0",
      "model_name": "LayoutModel",
      "state": {}
     },
     "b3c64d1d470d4303ba1161800f662b9d": {
      "model_module": "@jupyter-widgets/base",
      "model_module_version": "2.0.0",
      "model_name": "LayoutModel",
      "state": {}
     },
     "b42c1ce5b32b407192f3a3d0cc1e8d5c": {
      "model_module": "@jupyter-widgets/controls",
      "model_module_version": "2.0.0",
      "model_name": "FloatProgressModel",
      "state": {
       "bar_style": "success",
       "layout": "IPY_MODEL_1574450acc874b6f9d2c6fa210c91894",
       "max": 3,
       "style": "IPY_MODEL_d83ded3010ff4830bdcfd81c9fcef800",
       "value": 3
      }
     },
     "b4656c34dfcd43a29c49c3e1e07e4a50": {
      "model_module": "@jupyter-widgets/controls",
      "model_module_version": "2.0.0",
      "model_name": "HTMLModel",
      "state": {
       "layout": "IPY_MODEL_acfe89b7172645378b180def2d2a8ff1",
       "style": "IPY_MODEL_4141feb5c5b04f67b14d782916cf2a43",
       "value": "100%"
      }
     },
     "b4844e9f7ac840f8932292a6e55f54c4": {
      "model_module": "@jupyter-widgets/controls",
      "model_module_version": "2.0.0",
      "model_name": "ProgressStyleModel",
      "state": {
       "description_width": ""
      }
     },
     "b48b499d55304829a958e0f399dd78b3": {
      "model_module": "@jupyter-widgets/controls",
      "model_module_version": "2.0.0",
      "model_name": "HBoxModel",
      "state": {
       "children": [
        "IPY_MODEL_0fc92f9097474517aa4fad739dce6c9e",
        "IPY_MODEL_d693d67d5f77496bb181a98fdc0b7233",
        "IPY_MODEL_f13fb1a0d89e42c0afa8612021dcb98e"
       ],
       "layout": "IPY_MODEL_6cc16a4ebcaa45d0a75baf8f0f57957e"
      }
     },
     "b49cf00a4c3f4163b7e728f814b74fa9": {
      "model_module": "@jupyter-widgets/base",
      "model_module_version": "2.0.0",
      "model_name": "LayoutModel",
      "state": {}
     },
     "b4a6ca293cf340b89bc8cee747bd4df1": {
      "model_module": "@jupyter-widgets/controls",
      "model_module_version": "2.0.0",
      "model_name": "HTMLModel",
      "state": {
       "layout": "IPY_MODEL_57e76b58a33b4bcd96f3a40b899044d9",
       "style": "IPY_MODEL_44d5718f041c4cdf8b85c3e58a90c1e2",
       "value": "100%"
      }
     },
     "b56f52d366d44191901d75a4215ee301": {
      "model_module": "@jupyter-widgets/controls",
      "model_module_version": "2.0.0",
      "model_name": "HTMLModel",
      "state": {
       "layout": "IPY_MODEL_3da353bac79d453282b17d5e84055538",
       "style": "IPY_MODEL_81219c097ac744b69ad4e171ef739df5",
       "value": " 3/3 [00:10&lt;00:00,  4.22s/it]"
      }
     },
     "b5fb0353521943fcb24fee15656f0772": {
      "model_module": "@jupyter-widgets/base",
      "model_module_version": "2.0.0",
      "model_name": "LayoutModel",
      "state": {}
     },
     "b6148f8af3974dfd862a9b5fe1ab3bd7": {
      "model_module": "@jupyter-widgets/controls",
      "model_module_version": "2.0.0",
      "model_name": "ProgressStyleModel",
      "state": {
       "description_width": ""
      }
     },
     "b6c01ffdf5dc4c1a93c67b7a9fa840a0": {
      "model_module": "@jupyter-widgets/controls",
      "model_module_version": "2.0.0",
      "model_name": "FloatProgressModel",
      "state": {
       "bar_style": "success",
       "layout": "IPY_MODEL_9394526ac9c941739cd411acfd526766",
       "max": 14,
       "style": "IPY_MODEL_ad3445fb8cce488999a76f978c9e7a42",
       "value": 14
      }
     },
     "b706432285f34e75ae5cff63bc0f811e": {
      "model_module": "@jupyter-widgets/controls",
      "model_module_version": "2.0.0",
      "model_name": "FloatProgressModel",
      "state": {
       "bar_style": "success",
       "layout": "IPY_MODEL_dcead6a4bc7c4ebd98c57b29a4cbd66a",
       "max": 14,
       "style": "IPY_MODEL_cbd5356061a440dbb53782fc01963ceb",
       "value": 14
      }
     },
     "b77707f31c9b4dfd80bc0adc3c559056": {
      "model_module": "@jupyter-widgets/controls",
      "model_module_version": "2.0.0",
      "model_name": "ProgressStyleModel",
      "state": {
       "description_width": ""
      }
     },
     "b77fd8eda6364a409317be07cc127253": {
      "model_module": "@jupyter-widgets/controls",
      "model_module_version": "2.0.0",
      "model_name": "DescriptionStyleModel",
      "state": {
       "description_width": ""
      }
     },
     "b79c1473aaeb4e08aee55aa670d83fdd": {
      "model_module": "@jupyter-widgets/controls",
      "model_module_version": "2.0.0",
      "model_name": "HBoxModel",
      "state": {
       "children": [
        "IPY_MODEL_8882d1d7c3f1433a9b9101a888037ec7",
        "IPY_MODEL_e2a0c13496744ad68d896d64a962e737",
        "IPY_MODEL_0b1a304bd15f47ec8858bfd900d11484"
       ],
       "layout": "IPY_MODEL_1f98f10a0be946e8a023ccbd3bb84e77"
      }
     },
     "b7dc5056499647e6b599be2a6894c13b": {
      "model_module": "@jupyter-widgets/controls",
      "model_module_version": "2.0.0",
      "model_name": "HTMLModel",
      "state": {
       "layout": "IPY_MODEL_46b3e17002044bd187ddffcb137f8442",
       "style": "IPY_MODEL_4423c92e6ab94b46b6f89bde9dddf3a8",
       "value": " 14/14 [00:34&lt;00:00,  2.57s/it]"
      }
     },
     "b7dd1b4dfc814fa3b6b996920c8f0612": {
      "model_module": "@jupyter-widgets/controls",
      "model_module_version": "2.0.0",
      "model_name": "HTMLModel",
      "state": {
       "layout": "IPY_MODEL_f60f6e5e80ae48e9a0f049286dda0399",
       "style": "IPY_MODEL_4f8f34f6823f48ae8d4102f40b10a49f",
       "value": " 14/14 [00:34&lt;00:00,  2.58s/it]"
      }
     },
     "b7f078efc25d4d45a8d66e11d244e789": {
      "model_module": "@jupyter-widgets/controls",
      "model_module_version": "2.0.0",
      "model_name": "HTMLModel",
      "state": {
       "layout": "IPY_MODEL_7bc1387af95243a4936c14134903bc0d",
       "style": "IPY_MODEL_10e39dc37bd944b3a6cea613c2c089f3",
       "value": " 14/14 [00:34&lt;00:00,  2.60s/it]"
      }
     },
     "b836e579d57f4ee3ad564a073429a29b": {
      "model_module": "@jupyter-widgets/base",
      "model_module_version": "2.0.0",
      "model_name": "LayoutModel",
      "state": {}
     },
     "b85490ed0a0947f0b84a2600a1c988c7": {
      "model_module": "@jupyter-widgets/controls",
      "model_module_version": "2.0.0",
      "model_name": "ProgressStyleModel",
      "state": {
       "description_width": ""
      }
     },
     "b8816800b87d481bb2bae8c7a9c6e818": {
      "model_module": "@jupyter-widgets/controls",
      "model_module_version": "2.0.0",
      "model_name": "ProgressStyleModel",
      "state": {
       "description_width": ""
      }
     },
     "b959d2c248eb480db8aa79fc8a5cb534": {
      "model_module": "@jupyter-widgets/controls",
      "model_module_version": "2.0.0",
      "model_name": "FloatProgressModel",
      "state": {
       "bar_style": "danger",
       "layout": "IPY_MODEL_67597766408742479ce0bf6cc2478e26",
       "max": 3,
       "style": "IPY_MODEL_ed4b45ecdd934060aec1b9f01e6666f3",
       "value": 2
      }
     },
     "b95eedb43b064ce789790750e2c53bb5": {
      "model_module": "@jupyter-widgets/controls",
      "model_module_version": "2.0.0",
      "model_name": "HTMLModel",
      "state": {
       "layout": "IPY_MODEL_da154e78fb2f4ccaaf9eaeb787bacfe6",
       "style": "IPY_MODEL_3cc8526128264bb280238503853a9de7",
       "value": " 3/3 [00:10&lt;00:00,  4.00s/it]"
      }
     },
     "b99910e822374a6b9ce70d7b96324062": {
      "model_module": "@jupyter-widgets/controls",
      "model_module_version": "2.0.0",
      "model_name": "HTMLModel",
      "state": {
       "layout": "IPY_MODEL_4624434e462b4f3592aa0a3f3ada8c5d",
       "style": "IPY_MODEL_ea5c5e28a3084a8e9b220f22ec95964c",
       "value": " 8/8 [00:32&lt;00:00,  4.96s/it]"
      }
     },
     "b9ac73cbe2ab47b6a925b4af56855006": {
      "model_module": "@jupyter-widgets/controls",
      "model_module_version": "2.0.0",
      "model_name": "DescriptionStyleModel",
      "state": {
       "description_width": ""
      }
     },
     "b9f2c8dcd1d742c2b0284bbedcc5052f": {
      "model_module": "@jupyter-widgets/controls",
      "model_module_version": "2.0.0",
      "model_name": "HTMLModel",
      "state": {
       "layout": "IPY_MODEL_3d1cac7f5ee04ba786173b125cae00a4",
       "style": "IPY_MODEL_4aa728bf97a248ecb6f1ed409e13c000",
       "value": " 6/6 [00:11&lt;00:00,  2.81s/it]"
      }
     },
     "ba13e79393134c15b7c1c317500ab049": {
      "model_module": "@jupyter-widgets/controls",
      "model_module_version": "2.0.0",
      "model_name": "HBoxModel",
      "state": {
       "children": [
        "IPY_MODEL_2cede2330d884562a62166d0d62dcd9b",
        "IPY_MODEL_c873b1ae856c49f88d8310b54344f442",
        "IPY_MODEL_9ee613f03cca4b73a8bc20062ed816c1"
       ],
       "layout": "IPY_MODEL_0eaa5fd6d17d42739186b27b186fa2d4"
      }
     },
     "ba29168235254634b5b1b682e0b4ae4c": {
      "model_module": "@jupyter-widgets/base",
      "model_module_version": "2.0.0",
      "model_name": "LayoutModel",
      "state": {}
     },
     "ba7005dc539b433c853dc0d5edf5deb3": {
      "model_module": "@jupyter-widgets/controls",
      "model_module_version": "2.0.0",
      "model_name": "HTMLModel",
      "state": {
       "layout": "IPY_MODEL_b836e579d57f4ee3ad564a073429a29b",
       "style": "IPY_MODEL_227e83a28aa846ed87ea1bffc6e15c16",
       "value": " 6/6 [00:11&lt;00:00,  2.83s/it]"
      }
     },
     "ba807cc513b74d7d8eeb027c2910b83d": {
      "model_module": "@jupyter-widgets/base",
      "model_module_version": "2.0.0",
      "model_name": "LayoutModel",
      "state": {}
     },
     "bb3bcedafa734364a633828b37f8bd9f": {
      "model_module": "@jupyter-widgets/base",
      "model_module_version": "2.0.0",
      "model_name": "LayoutModel",
      "state": {}
     },
     "bb4c687cc5b7401d8d90170737dfe53e": {
      "model_module": "@jupyter-widgets/controls",
      "model_module_version": "2.0.0",
      "model_name": "HTMLStyleModel",
      "state": {
       "description_width": "",
       "font_size": null,
       "text_color": null
      }
     },
     "bb6cdac5407f4a11ad920f298d404dea": {
      "model_module": "@jupyter-widgets/base",
      "model_module_version": "2.0.0",
      "model_name": "LayoutModel",
      "state": {}
     },
     "bc59be59c8e340218f148d15b9e3c513": {
      "model_module": "@jupyter-widgets/controls",
      "model_module_version": "2.0.0",
      "model_name": "DescriptionStyleModel",
      "state": {
       "description_width": ""
      }
     },
     "bc9b146a311b4e43864c0885a0d6254b": {
      "model_module": "@jupyter-widgets/base",
      "model_module_version": "2.0.0",
      "model_name": "LayoutModel",
      "state": {}
     },
     "bcd1686c6e77476086983a24fa87b982": {
      "model_module": "@jupyter-widgets/base",
      "model_module_version": "2.0.0",
      "model_name": "LayoutModel",
      "state": {}
     },
     "bd101b633ea34ac69246ecb0598515b8": {
      "model_module": "@jupyter-widgets/base",
      "model_module_version": "2.0.0",
      "model_name": "LayoutModel",
      "state": {}
     },
     "bd3f5d9954cd4a91a7381e105cf45022": {
      "model_module": "@jupyter-widgets/controls",
      "model_module_version": "2.0.0",
      "model_name": "HTMLModel",
      "state": {
       "layout": "IPY_MODEL_03a96f3c2a024b0f94090e89d31f9e0a",
       "style": "IPY_MODEL_9cd79e32341d49e79b16310ec2053281",
       "value": "100%"
      }
     },
     "bd40e6ea970a42bca8cba175f0e0ef3c": {
      "model_module": "@jupyter-widgets/base",
      "model_module_version": "2.0.0",
      "model_name": "LayoutModel",
      "state": {}
     },
     "bd439efb587f416c88473e2207f1de00": {
      "model_module": "@jupyter-widgets/base",
      "model_module_version": "2.0.0",
      "model_name": "LayoutModel",
      "state": {}
     },
     "bd7a94334adf4927a42ed12c73654dac": {
      "model_module": "@jupyter-widgets/controls",
      "model_module_version": "2.0.0",
      "model_name": "HTMLModel",
      "state": {
       "layout": "IPY_MODEL_c5559374e5554db0ada7dc65ddf5598f",
       "style": "IPY_MODEL_1fc2b21844534159a368b1806fac3a9b",
       "value": " 3/3 [00:10&lt;00:00,  4.12s/it]"
      }
     },
     "be287985079e402d8332d24294a34c84": {
      "model_module": "@jupyter-widgets/base",
      "model_module_version": "2.0.0",
      "model_name": "LayoutModel",
      "state": {}
     },
     "be41d6ae9f344b5ba9b383d3d5c484bf": {
      "model_module": "@jupyter-widgets/base",
      "model_module_version": "2.0.0",
      "model_name": "LayoutModel",
      "state": {}
     },
     "bea60f47ad4342aa85af0a82419d5792": {
      "model_module": "@jupyter-widgets/base",
      "model_module_version": "2.0.0",
      "model_name": "LayoutModel",
      "state": {}
     },
     "bedfc1ababb04676973768143bce8fbc": {
      "model_module": "@jupyter-widgets/controls",
      "model_module_version": "2.0.0",
      "model_name": "HBoxModel",
      "state": {
       "children": [
        "IPY_MODEL_ff775a243b6949488f74e1dbabacf8a0",
        "IPY_MODEL_3d166a7aee6444dbaa8ad4fbe9667ab8",
        "IPY_MODEL_3e39b41de3b441b9bf4aca91849f83ba"
       ],
       "layout": "IPY_MODEL_3f1e1583b7cc4b0d8c5bcff3dfaae02c"
      }
     },
     "bf2f79d4b8554fe0a9096bcceea7454d": {
      "model_module": "@jupyter-widgets/controls",
      "model_module_version": "2.0.0",
      "model_name": "ProgressStyleModel",
      "state": {
       "description_width": ""
      }
     },
     "bf4a972555a14ee59cc8ab9d09092f4e": {
      "model_module": "@jupyter-widgets/controls",
      "model_module_version": "2.0.0",
      "model_name": "HTMLStyleModel",
      "state": {
       "description_width": "",
       "font_size": null,
       "text_color": null
      }
     },
     "bf8a60bc94df456e8eb3e78e65680454": {
      "model_module": "@jupyter-widgets/base",
      "model_module_version": "2.0.0",
      "model_name": "LayoutModel",
      "state": {}
     },
     "bfc48091ec6d4aa88c7cd6e624b2063f": {
      "model_module": "@jupyter-widgets/base",
      "model_module_version": "2.0.0",
      "model_name": "LayoutModel",
      "state": {}
     },
     "c06f451b863c41a2afebcd113177edfd": {
      "model_module": "@jupyter-widgets/controls",
      "model_module_version": "2.0.0",
      "model_name": "DescriptionStyleModel",
      "state": {
       "description_width": ""
      }
     },
     "c0a9ef47e8e84bcba447e99fa44f6883": {
      "model_module": "@jupyter-widgets/controls",
      "model_module_version": "2.0.0",
      "model_name": "HTMLModel",
      "state": {
       "layout": "IPY_MODEL_42084ebcfb5c4a14bb1a8dccb70c02e7",
       "style": "IPY_MODEL_5195b30886ae479ba56e84588a608368",
       "value": " 14/14 [00:35&lt;00:00,  2.62s/it]"
      }
     },
     "c0bc0ed166f748e898629d44ab3ed1a8": {
      "model_module": "@jupyter-widgets/controls",
      "model_module_version": "2.0.0",
      "model_name": "HTMLModel",
      "state": {
       "layout": "IPY_MODEL_291c07312d7647979fa567eec843280e",
       "style": "IPY_MODEL_18f4eee24bac4eed92745ba210060663",
       "value": "100%"
      }
     },
     "c1185f0270fe4f4b904912182604a1b1": {
      "model_module": "@jupyter-widgets/controls",
      "model_module_version": "2.0.0",
      "model_name": "DescriptionStyleModel",
      "state": {
       "description_width": ""
      }
     },
     "c118c80129a249eea1b05cb08a19d240": {
      "model_module": "@jupyter-widgets/base",
      "model_module_version": "2.0.0",
      "model_name": "LayoutModel",
      "state": {}
     },
     "c179d82d134c4885b232d00bb921d2c4": {
      "model_module": "@jupyter-widgets/base",
      "model_module_version": "2.0.0",
      "model_name": "LayoutModel",
      "state": {}
     },
     "c1d48ac75e284e85b0d09d8c36f30458": {
      "model_module": "@jupyter-widgets/base",
      "model_module_version": "2.0.0",
      "model_name": "LayoutModel",
      "state": {}
     },
     "c25231556e594901b84222ec98cfa76c": {
      "model_module": "@jupyter-widgets/controls",
      "model_module_version": "2.0.0",
      "model_name": "DescriptionStyleModel",
      "state": {
       "description_width": ""
      }
     },
     "c2c9bae4f17b430f94173f93bee66759": {
      "model_module": "@jupyter-widgets/base",
      "model_module_version": "2.0.0",
      "model_name": "LayoutModel",
      "state": {}
     },
     "c2fde99dd01245ec95f086a3473cf135": {
      "model_module": "@jupyter-widgets/controls",
      "model_module_version": "2.0.0",
      "model_name": "FloatProgressModel",
      "state": {
       "bar_style": "success",
       "layout": "IPY_MODEL_fc07b8eb3f2d42398ac37ae004962f19",
       "max": 3,
       "style": "IPY_MODEL_643781621b914dceaab16ab069a89a6c",
       "value": 3
      }
     },
     "c332cc3b2cbe413eb2a2d22f4d95bf59": {
      "model_module": "@jupyter-widgets/base",
      "model_module_version": "2.0.0",
      "model_name": "LayoutModel",
      "state": {}
     },
     "c34809797e2148929c31c45e8f49a95c": {
      "model_module": "@jupyter-widgets/base",
      "model_module_version": "2.0.0",
      "model_name": "LayoutModel",
      "state": {}
     },
     "c490158c2f7840d58b26921802f03980": {
      "model_module": "@jupyter-widgets/controls",
      "model_module_version": "2.0.0",
      "model_name": "HBoxModel",
      "state": {
       "children": [
        "IPY_MODEL_40ad493a779948fb877b8f1efbeb96ff",
        "IPY_MODEL_777f86a86f664c9cb9be08b5315a4d59",
        "IPY_MODEL_8b057534064a4e3686cd34358bb93401"
       ],
       "layout": "IPY_MODEL_dfe293cf4ff94c02886d72dddbd301f1"
      }
     },
     "c4dbd55522644ecd95b7a3ba72ba3395": {
      "model_module": "@jupyter-widgets/controls",
      "model_module_version": "2.0.0",
      "model_name": "DescriptionStyleModel",
      "state": {
       "description_width": ""
      }
     },
     "c5559374e5554db0ada7dc65ddf5598f": {
      "model_module": "@jupyter-widgets/base",
      "model_module_version": "2.0.0",
      "model_name": "LayoutModel",
      "state": {}
     },
     "c5989e198ec944dc8b7775b5705d73e5": {
      "model_module": "@jupyter-widgets/controls",
      "model_module_version": "2.0.0",
      "model_name": "ProgressStyleModel",
      "state": {
       "description_width": ""
      }
     },
     "c5bdc1aea1dc42808c80934112cab5ca": {
      "model_module": "@jupyter-widgets/controls",
      "model_module_version": "2.0.0",
      "model_name": "ProgressStyleModel",
      "state": {
       "description_width": ""
      }
     },
     "c61e0f4c117a4d1186762baca090503c": {
      "model_module": "@jupyter-widgets/base",
      "model_module_version": "2.0.0",
      "model_name": "LayoutModel",
      "state": {}
     },
     "c654e302892f4bfba0927c5f041e3257": {
      "model_module": "@jupyter-widgets/controls",
      "model_module_version": "2.0.0",
      "model_name": "ProgressStyleModel",
      "state": {
       "description_width": ""
      }
     },
     "c699b778decd49ad962699ab3183abb0": {
      "model_module": "@jupyter-widgets/controls",
      "model_module_version": "2.0.0",
      "model_name": "HTMLModel",
      "state": {
       "layout": "IPY_MODEL_271e20a9175e435b9e432bb49ff28515",
       "style": "IPY_MODEL_c4dbd55522644ecd95b7a3ba72ba3395",
       "value": " 3/3 [00:10&lt;00:00,  4.22s/it]"
      }
     },
     "c6b33421e33f4b0380e00957941ef8db": {
      "model_module": "@jupyter-widgets/controls",
      "model_module_version": "2.0.0",
      "model_name": "ProgressStyleModel",
      "state": {
       "description_width": ""
      }
     },
     "c7dc4e6681ce4f8eae9a97b57acbed79": {
      "model_module": "@jupyter-widgets/base",
      "model_module_version": "2.0.0",
      "model_name": "LayoutModel",
      "state": {}
     },
     "c873b1ae856c49f88d8310b54344f442": {
      "model_module": "@jupyter-widgets/controls",
      "model_module_version": "2.0.0",
      "model_name": "FloatProgressModel",
      "state": {
       "bar_style": "success",
       "layout": "IPY_MODEL_9f7187b4ecb342f2a742a39abb381f9d",
       "max": 14,
       "style": "IPY_MODEL_ad49430f601441eebcd6fdf140b752d4",
       "value": 14
      }
     },
     "c8a1210993ec476fbde009309209fc35": {
      "model_module": "@jupyter-widgets/base",
      "model_module_version": "2.0.0",
      "model_name": "LayoutModel",
      "state": {}
     },
     "c8cd1c4149dd4c7687e4eb640ff716a8": {
      "model_module": "@jupyter-widgets/controls",
      "model_module_version": "2.0.0",
      "model_name": "HBoxModel",
      "state": {
       "children": [
        "IPY_MODEL_631c4e5439134b44aa2abb0f2d6114da",
        "IPY_MODEL_8c4974d3c01f4a0ab4612bcd9d2c487e",
        "IPY_MODEL_0dc955968bf4464581e4aff52c7e0667"
       ],
       "layout": "IPY_MODEL_3c3b7115d2d34299bac7a54a435f0f3c"
      }
     },
     "c931633d20a244ef9feb92c378ca50c7": {
      "model_module": "@jupyter-widgets/base",
      "model_module_version": "2.0.0",
      "model_name": "LayoutModel",
      "state": {}
     },
     "c941c9c883be4ff7a4d90b55852afc96": {
      "model_module": "@jupyter-widgets/controls",
      "model_module_version": "2.0.0",
      "model_name": "HTMLStyleModel",
      "state": {
       "description_width": "",
       "font_size": null,
       "text_color": null
      }
     },
     "c94f83c2248f4f50974750f0c2ee6bc1": {
      "model_module": "@jupyter-widgets/base",
      "model_module_version": "2.0.0",
      "model_name": "LayoutModel",
      "state": {}
     },
     "c9926b82ab4345ebbeaf72d68b2d7259": {
      "model_module": "@jupyter-widgets/base",
      "model_module_version": "2.0.0",
      "model_name": "LayoutModel",
      "state": {}
     },
     "c9f8cbc07cae4d238f0b15e9e0fa371b": {
      "model_module": "@jupyter-widgets/controls",
      "model_module_version": "2.0.0",
      "model_name": "HBoxModel",
      "state": {
       "children": [
        "IPY_MODEL_34606ce89b63484aad57b4a2d451950c",
        "IPY_MODEL_90847593a34c4349a601197e200e330b",
        "IPY_MODEL_21b051ce1eb44d588eb8484bfb57c09c"
       ],
       "layout": "IPY_MODEL_4b756571316644e7a1e95bfff335a728"
      }
     },
     "ca08d7ee14214e2ebed567205b819df1": {
      "model_module": "@jupyter-widgets/controls",
      "model_module_version": "2.0.0",
      "model_name": "HTMLModel",
      "state": {
       "layout": "IPY_MODEL_a6ec0e6de8ed4d18943486d916631bb3",
       "style": "IPY_MODEL_f088742121f542cdb895747b227deca2",
       "value": "100%"
      }
     },
     "caae53edbd58462cbc39966b1649dff7": {
      "model_module": "@jupyter-widgets/base",
      "model_module_version": "2.0.0",
      "model_name": "LayoutModel",
      "state": {}
     },
     "cac094dfafa64d289e942e132ec9e84f": {
      "model_module": "@jupyter-widgets/controls",
      "model_module_version": "2.0.0",
      "model_name": "HTMLStyleModel",
      "state": {
       "description_width": "",
       "font_size": null,
       "text_color": null
      }
     },
     "cb08a9ff3d324eb28b1c29892c887232": {
      "model_module": "@jupyter-widgets/controls",
      "model_module_version": "2.0.0",
      "model_name": "HTMLModel",
      "state": {
       "layout": "IPY_MODEL_56a6bad0b666407a9367de9bf30fd660",
       "style": "IPY_MODEL_e90406da19364701938d300128db6610",
       "value": " 14/14 [00:34&lt;00:00,  2.57s/it]"
      }
     },
     "cb816fa26def400fb32343b0dd2f8917": {
      "model_module": "@jupyter-widgets/controls",
      "model_module_version": "2.0.0",
      "model_name": "DescriptionStyleModel",
      "state": {
       "description_width": ""
      }
     },
     "cbd5356061a440dbb53782fc01963ceb": {
      "model_module": "@jupyter-widgets/controls",
      "model_module_version": "2.0.0",
      "model_name": "ProgressStyleModel",
      "state": {
       "description_width": ""
      }
     },
     "cbd792511fbc4743b175d6ca42fbf072": {
      "model_module": "@jupyter-widgets/base",
      "model_module_version": "2.0.0",
      "model_name": "LayoutModel",
      "state": {}
     },
     "cbe0ed1b6adb4f9ab4b90bafbb80e6c2": {
      "model_module": "@jupyter-widgets/controls",
      "model_module_version": "2.0.0",
      "model_name": "HTMLModel",
      "state": {
       "layout": "IPY_MODEL_5d1150275c574960b7ee756c4e5b8422",
       "style": "IPY_MODEL_cde62e1f9b294d619d4ffd1aa0fac805",
       "value": " 6/6 [00:08&lt;00:00,  1.95s/it]"
      }
     },
     "cbfe7897a6824407ae27d9e2624c90fd": {
      "model_module": "@jupyter-widgets/controls",
      "model_module_version": "2.0.0",
      "model_name": "HBoxModel",
      "state": {
       "children": [
        "IPY_MODEL_3e0b8257b09045b9bb0d57dfa5fc8945",
        "IPY_MODEL_5bc99c916ebd414daf96f69f725d40ea",
        "IPY_MODEL_6ba368873182486380ecad62d4aec0de"
       ],
       "layout": "IPY_MODEL_c332cc3b2cbe413eb2a2d22f4d95bf59"
      }
     },
     "cc49fe955bc9415abe5836ccaad61025": {
      "model_module": "@jupyter-widgets/base",
      "model_module_version": "2.0.0",
      "model_name": "LayoutModel",
      "state": {}
     },
     "cc70f9b3c01c457b99cccc2760db08c8": {
      "model_module": "@jupyter-widgets/base",
      "model_module_version": "2.0.0",
      "model_name": "LayoutModel",
      "state": {}
     },
     "cc828325858743d1a489b03205ca511f": {
      "model_module": "@jupyter-widgets/controls",
      "model_module_version": "2.0.0",
      "model_name": "HTMLModel",
      "state": {
       "layout": "IPY_MODEL_58f0f746e8004a5fafe76d9dcdb1209b",
       "style": "IPY_MODEL_a0123662844f4a149a0432231f34ba9f",
       "value": "100%"
      }
     },
     "ccc5bf5d8d9348dfadf4db618a2aee02": {
      "model_module": "@jupyter-widgets/controls",
      "model_module_version": "2.0.0",
      "model_name": "FloatProgressModel",
      "state": {
       "bar_style": "success",
       "layout": "IPY_MODEL_478294a04e59466e9eb976ac1abe3192",
       "max": 3,
       "style": "IPY_MODEL_dab4fd7806aa4fc0ba7c459b813d3f9d",
       "value": 3
      }
     },
     "cd5ec6a0899a4ec3bf44ab5113ec9831": {
      "model_module": "@jupyter-widgets/controls",
      "model_module_version": "2.0.0",
      "model_name": "HTMLStyleModel",
      "state": {
       "description_width": "",
       "font_size": null,
       "text_color": null
      }
     },
     "cd78b7965d4d428a8cb50a5b211e9793": {
      "model_module": "@jupyter-widgets/controls",
      "model_module_version": "2.0.0",
      "model_name": "ProgressStyleModel",
      "state": {
       "description_width": ""
      }
     },
     "cde62e1f9b294d619d4ffd1aa0fac805": {
      "model_module": "@jupyter-widgets/controls",
      "model_module_version": "2.0.0",
      "model_name": "HTMLStyleModel",
      "state": {
       "description_width": "",
       "font_size": null,
       "text_color": null
      }
     },
     "ce1f0f894a92465db9af08981e3b5c55": {
      "model_module": "@jupyter-widgets/base",
      "model_module_version": "2.0.0",
      "model_name": "LayoutModel",
      "state": {}
     },
     "ce39bf113fa24c5a9c3d66bf8827fbe9": {
      "model_module": "@jupyter-widgets/base",
      "model_module_version": "2.0.0",
      "model_name": "LayoutModel",
      "state": {}
     },
     "ce7f7abe8f384bdd91ef63c4be8b933c": {
      "model_module": "@jupyter-widgets/controls",
      "model_module_version": "2.0.0",
      "model_name": "ProgressStyleModel",
      "state": {
       "description_width": ""
      }
     },
     "ce936f4a7b7442b4bce1d0487ab9ce67": {
      "model_module": "@jupyter-widgets/controls",
      "model_module_version": "2.0.0",
      "model_name": "FloatProgressModel",
      "state": {
       "bar_style": "success",
       "layout": "IPY_MODEL_33e227418c11451eaa71da98a73824de",
       "max": 6,
       "style": "IPY_MODEL_f5f8f0158f5e4152a38befdfae4ec590",
       "value": 6
      }
     },
     "ceb07ebb580242619894a2c16e706be0": {
      "model_module": "@jupyter-widgets/base",
      "model_module_version": "2.0.0",
      "model_name": "LayoutModel",
      "state": {}
     },
     "ceb09d33dd824785acf3458f0f6f5b90": {
      "model_module": "@jupyter-widgets/controls",
      "model_module_version": "2.0.0",
      "model_name": "ProgressStyleModel",
      "state": {
       "description_width": ""
      }
     },
     "cee6b08836af4849b0c65597ec0a4bf1": {
      "model_module": "@jupyter-widgets/controls",
      "model_module_version": "2.0.0",
      "model_name": "HTMLModel",
      "state": {
       "layout": "IPY_MODEL_f4d962287f0a4127a69e007329d4b295",
       "style": "IPY_MODEL_63f72555303e4481a28135d51cbf9841",
       "value": "100%"
      }
     },
     "cf54b1ccc6414c8a97397e2727460764": {
      "model_module": "@jupyter-widgets/base",
      "model_module_version": "2.0.0",
      "model_name": "LayoutModel",
      "state": {}
     },
     "cf74716173fd494f8ea0332793acb220": {
      "model_module": "@jupyter-widgets/base",
      "model_module_version": "2.0.0",
      "model_name": "LayoutModel",
      "state": {}
     },
     "d13dd26971b44151b9d2858eba28a261": {
      "model_module": "@jupyter-widgets/controls",
      "model_module_version": "2.0.0",
      "model_name": "DescriptionStyleModel",
      "state": {
       "description_width": ""
      }
     },
     "d19518513e8a44dfa6fb2814c8c8f05d": {
      "model_module": "@jupyter-widgets/controls",
      "model_module_version": "2.0.0",
      "model_name": "DescriptionStyleModel",
      "state": {
       "description_width": ""
      }
     },
     "d198ef45d5a04f10855f3477e5f4f784": {
      "model_module": "@jupyter-widgets/base",
      "model_module_version": "2.0.0",
      "model_name": "LayoutModel",
      "state": {}
     },
     "d1d58a82f6344ab2a101af2e41334a21": {
      "model_module": "@jupyter-widgets/base",
      "model_module_version": "2.0.0",
      "model_name": "LayoutModel",
      "state": {}
     },
     "d2089328393446879bd5bea14c4c46d4": {
      "model_module": "@jupyter-widgets/base",
      "model_module_version": "2.0.0",
      "model_name": "LayoutModel",
      "state": {}
     },
     "d215b8a8add54994996af76ab889def9": {
      "model_module": "@jupyter-widgets/base",
      "model_module_version": "2.0.0",
      "model_name": "LayoutModel",
      "state": {}
     },
     "d23780089de748e3a6494a99c3811a90": {
      "model_module": "@jupyter-widgets/base",
      "model_module_version": "2.0.0",
      "model_name": "LayoutModel",
      "state": {}
     },
     "d27eb65ea0fb4a90a0ec72145561cd69": {
      "model_module": "@jupyter-widgets/controls",
      "model_module_version": "2.0.0",
      "model_name": "HBoxModel",
      "state": {
       "children": [
        "IPY_MODEL_36b244b936554e89b66a62ccb92cddff",
        "IPY_MODEL_b01ac6fa0bf14721b1a2505c3fe93267",
        "IPY_MODEL_a7aed6a1208c42f2a3249230064c6597"
       ],
       "layout": "IPY_MODEL_d9e198f42bd34f4bbed0a7207fa4066a"
      }
     },
     "d28805f81f2d4e939de07c7bfb0c3942": {
      "model_module": "@jupyter-widgets/controls",
      "model_module_version": "2.0.0",
      "model_name": "HTMLModel",
      "state": {
       "layout": "IPY_MODEL_82c29639356a4a678ac451eeb04f30de",
       "style": "IPY_MODEL_bf4a972555a14ee59cc8ab9d09092f4e",
       "value": "100%"
      }
     },
     "d2a0bce7014243eea3c459bb4989239a": {
      "model_module": "@jupyter-widgets/controls",
      "model_module_version": "2.0.0",
      "model_name": "HBoxModel",
      "state": {
       "children": [
        "IPY_MODEL_229cd52eb0e84464ba9215674f6cc175",
        "IPY_MODEL_ce936f4a7b7442b4bce1d0487ab9ce67",
        "IPY_MODEL_1a3e94e077794b26a5f1d4383652e342"
       ],
       "layout": "IPY_MODEL_da56b68130ac42c0946bd3a2d5a758f4"
      }
     },
     "d2dc6893736e407cb84282e4eceb0b6f": {
      "model_module": "@jupyter-widgets/controls",
      "model_module_version": "2.0.0",
      "model_name": "HTMLModel",
      "state": {
       "layout": "IPY_MODEL_317facdbf72e446fb5da04ed0647fdad",
       "style": "IPY_MODEL_ead2c8de8254474aa03caec7fb6f8f4f",
       "value": " 6/6 [00:11&lt;00:00,  2.80s/it]"
      }
     },
     "d2f142dce1c9498c806f06a30b43f04b": {
      "model_module": "@jupyter-widgets/controls",
      "model_module_version": "2.0.0",
      "model_name": "FloatProgressModel",
      "state": {
       "bar_style": "success",
       "layout": "IPY_MODEL_6fcff024baf2498bb3ac78f0d1527144",
       "max": 14,
       "style": "IPY_MODEL_3e41b6f6cbc4447a8970ae9f5bb50caf",
       "value": 14
      }
     },
     "d3134f14b8944f4987bb3b46c8f59e6d": {
      "model_module": "@jupyter-widgets/controls",
      "model_module_version": "2.0.0",
      "model_name": "FloatProgressModel",
      "state": {
       "bar_style": "success",
       "layout": "IPY_MODEL_87ed297c898a4aa8a059c3d7c6418959",
       "max": 14,
       "style": "IPY_MODEL_416740e46d6445bdab71fba20bb12459",
       "value": 14
      }
     },
     "d463b721d2be4341b9411cf03bac5304": {
      "model_module": "@jupyter-widgets/controls",
      "model_module_version": "2.0.0",
      "model_name": "DescriptionStyleModel",
      "state": {
       "description_width": ""
      }
     },
     "d46e3a69176d4082bb5494990e3ecd88": {
      "model_module": "@jupyter-widgets/controls",
      "model_module_version": "2.0.0",
      "model_name": "HTMLStyleModel",
      "state": {
       "description_width": "",
       "font_size": null,
       "text_color": null
      }
     },
     "d48b08577167403c853df23ea21f8587": {
      "model_module": "@jupyter-widgets/controls",
      "model_module_version": "2.0.0",
      "model_name": "HBoxModel",
      "state": {
       "children": [
        "IPY_MODEL_982382b357b14ca8804bd87ffe32397e",
        "IPY_MODEL_d7a56ac309b042a68746893386ad2d9d",
        "IPY_MODEL_361f76237aa24315b59c5ca16a22a090"
       ],
       "layout": "IPY_MODEL_bb3bcedafa734364a633828b37f8bd9f"
      }
     },
     "d508b30885034954883d0ecb2f25290a": {
      "model_module": "@jupyter-widgets/controls",
      "model_module_version": "2.0.0",
      "model_name": "FloatProgressModel",
      "state": {
       "bar_style": "success",
       "layout": "IPY_MODEL_c34809797e2148929c31c45e8f49a95c",
       "max": 3,
       "style": "IPY_MODEL_24aeaa95de3f4885976b8a9a38c9b3bf",
       "value": 3
      }
     },
     "d520791859134727bc1617d07d6991ba": {
      "model_module": "@jupyter-widgets/base",
      "model_module_version": "2.0.0",
      "model_name": "LayoutModel",
      "state": {}
     },
     "d545003943714d8c998b2c7a376fd3ff": {
      "model_module": "@jupyter-widgets/base",
      "model_module_version": "2.0.0",
      "model_name": "LayoutModel",
      "state": {}
     },
     "d693d67d5f77496bb181a98fdc0b7233": {
      "model_module": "@jupyter-widgets/controls",
      "model_module_version": "2.0.0",
      "model_name": "FloatProgressModel",
      "state": {
       "bar_style": "success",
       "layout": "IPY_MODEL_0eb105eb3c3a4e0e8ad0c0555002b74a",
       "max": 6,
       "style": "IPY_MODEL_ae935114aa1e4839b970b1db58c9c731",
       "value": 6
      }
     },
     "d6e18d7031c9403c8ab3e13577ae7c18": {
      "model_module": "@jupyter-widgets/base",
      "model_module_version": "2.0.0",
      "model_name": "LayoutModel",
      "state": {}
     },
     "d70423af9ef64c5a9d6538a15c6e12b9": {
      "model_module": "@jupyter-widgets/base",
      "model_module_version": "2.0.0",
      "model_name": "LayoutModel",
      "state": {}
     },
     "d73879b228ab41edbd87b375a6c4d3eb": {
      "model_module": "@jupyter-widgets/controls",
      "model_module_version": "2.0.0",
      "model_name": "FloatProgressModel",
      "state": {
       "bar_style": "success",
       "layout": "IPY_MODEL_946cadf61f5e47fd8270beb2329cf33b",
       "max": 3,
       "style": "IPY_MODEL_59116e8e1096438c959870c7d5a626e4",
       "value": 3
      }
     },
     "d7436bd261a3403b974de6b6da39f46a": {
      "model_module": "@jupyter-widgets/controls",
      "model_module_version": "2.0.0",
      "model_name": "HTMLStyleModel",
      "state": {
       "description_width": "",
       "font_size": null,
       "text_color": null
      }
     },
     "d7843afa00d04ccfa17c4f7a2c0ead9c": {
      "model_module": "@jupyter-widgets/controls",
      "model_module_version": "2.0.0",
      "model_name": "HTMLModel",
      "state": {
       "layout": "IPY_MODEL_dcad3c2850bd4b17934478b75dc1d522",
       "style": "IPY_MODEL_11d0dc6ff6db4abe8434128bba74e17a",
       "value": "100%"
      }
     },
     "d790f3b779934eee8348804dd22ba3c1": {
      "model_module": "@jupyter-widgets/base",
      "model_module_version": "2.0.0",
      "model_name": "LayoutModel",
      "state": {}
     },
     "d79d6b73af2144729bed6a955c95e6e1": {
      "model_module": "@jupyter-widgets/controls",
      "model_module_version": "2.0.0",
      "model_name": "HTMLModel",
      "state": {
       "layout": "IPY_MODEL_39954bc2a54d43c78994d415f66343e6",
       "style": "IPY_MODEL_0f26d84da7c14a52a03a1d4cfbbc0405",
       "value": "100%"
      }
     },
     "d7a56ac309b042a68746893386ad2d9d": {
      "model_module": "@jupyter-widgets/controls",
      "model_module_version": "2.0.0",
      "model_name": "FloatProgressModel",
      "state": {
       "bar_style": "success",
       "layout": "IPY_MODEL_38b3f926069543699e7356d6fb50128f",
       "max": 6,
       "style": "IPY_MODEL_552543fdef3e445191c3480ff295802c",
       "value": 6
      }
     },
     "d7b063232f184ceca6520530d9f21b38": {
      "model_module": "@jupyter-widgets/controls",
      "model_module_version": "2.0.0",
      "model_name": "DescriptionStyleModel",
      "state": {
       "description_width": ""
      }
     },
     "d7d389b119e943efb26c211533ca5275": {
      "model_module": "@jupyter-widgets/controls",
      "model_module_version": "2.0.0",
      "model_name": "FloatProgressModel",
      "state": {
       "bar_style": "success",
       "layout": "IPY_MODEL_e26fc1c804f246fdacba70c9768b3757",
       "max": 14,
       "style": "IPY_MODEL_9a104c1a479a4b499033e7c555c78f9e",
       "value": 14
      }
     },
     "d7ec9dc0b86e4aa7adcd14aaab8643e1": {
      "model_module": "@jupyter-widgets/controls",
      "model_module_version": "2.0.0",
      "model_name": "HTMLModel",
      "state": {
       "layout": "IPY_MODEL_af1d80e909114d99b94b5888fcdc68a0",
       "style": "IPY_MODEL_274cfec487e047da9460c594076afe69",
       "value": " 6/6 [00:11&lt;00:00,  2.80s/it]"
      }
     },
     "d81ac806a89843e3a258a28316de145f": {
      "model_module": "@jupyter-widgets/base",
      "model_module_version": "2.0.0",
      "model_name": "LayoutModel",
      "state": {}
     },
     "d828002b1a404756b8f9dbfc96b1ffc1": {
      "model_module": "@jupyter-widgets/controls",
      "model_module_version": "2.0.0",
      "model_name": "FloatProgressModel",
      "state": {
       "bar_style": "success",
       "layout": "IPY_MODEL_2d42c6d71c264d4b9b14ffa02a354d67",
       "max": 6,
       "style": "IPY_MODEL_fd5e81f960e243358e7a5d42b3ba3402",
       "value": 6
      }
     },
     "d839910f6a224af7a9deb86a641b9b32": {
      "model_module": "@jupyter-widgets/controls",
      "model_module_version": "2.0.0",
      "model_name": "HBoxModel",
      "state": {
       "children": [
        "IPY_MODEL_0063857eab204d448a73753b8424dbad",
        "IPY_MODEL_7f39e4fb792e4f0dbe1c7c27002d693a",
        "IPY_MODEL_8119cd3961734583bf6db0c483e7f3a5"
       ],
       "layout": "IPY_MODEL_8884c47ab3c441ce8df0a22eac4b497e"
      }
     },
     "d83ded3010ff4830bdcfd81c9fcef800": {
      "model_module": "@jupyter-widgets/controls",
      "model_module_version": "2.0.0",
      "model_name": "ProgressStyleModel",
      "state": {
       "description_width": ""
      }
     },
     "d83e8dcffaef45478777c81975daeb66": {
      "model_module": "@jupyter-widgets/controls",
      "model_module_version": "2.0.0",
      "model_name": "HTMLModel",
      "state": {
       "layout": "IPY_MODEL_6176e82b1a604fb6b50991303317d235",
       "style": "IPY_MODEL_8ec11039193343d798c4d59b2cfe705b",
       "value": " 3/3 [00:10&lt;00:00,  4.19s/it]"
      }
     },
     "d87a02a290ab42fb8f24de71c309cf8f": {
      "model_module": "@jupyter-widgets/controls",
      "model_module_version": "2.0.0",
      "model_name": "DescriptionStyleModel",
      "state": {
       "description_width": ""
      }
     },
     "d87c3678554943cfaf04488344ff5fe6": {
      "model_module": "@jupyter-widgets/base",
      "model_module_version": "2.0.0",
      "model_name": "LayoutModel",
      "state": {}
     },
     "d8b129d3a2c341ac9bc912eaa595c0a3": {
      "model_module": "@jupyter-widgets/base",
      "model_module_version": "2.0.0",
      "model_name": "LayoutModel",
      "state": {}
     },
     "d8dded7411de4690a558a1ae7a282d56": {
      "model_module": "@jupyter-widgets/controls",
      "model_module_version": "2.0.0",
      "model_name": "DescriptionStyleModel",
      "state": {
       "description_width": ""
      }
     },
     "d9e198f42bd34f4bbed0a7207fa4066a": {
      "model_module": "@jupyter-widgets/base",
      "model_module_version": "2.0.0",
      "model_name": "LayoutModel",
      "state": {}
     },
     "da154e78fb2f4ccaaf9eaeb787bacfe6": {
      "model_module": "@jupyter-widgets/base",
      "model_module_version": "2.0.0",
      "model_name": "LayoutModel",
      "state": {}
     },
     "da56b68130ac42c0946bd3a2d5a758f4": {
      "model_module": "@jupyter-widgets/base",
      "model_module_version": "2.0.0",
      "model_name": "LayoutModel",
      "state": {}
     },
     "dab4fd7806aa4fc0ba7c459b813d3f9d": {
      "model_module": "@jupyter-widgets/controls",
      "model_module_version": "2.0.0",
      "model_name": "ProgressStyleModel",
      "state": {
       "description_width": ""
      }
     },
     "dab97a99fde448d99052d64e95b5cf63": {
      "model_module": "@jupyter-widgets/base",
      "model_module_version": "2.0.0",
      "model_name": "LayoutModel",
      "state": {}
     },
     "dac323477cf149139d9d28f79c4064bc": {
      "model_module": "@jupyter-widgets/base",
      "model_module_version": "2.0.0",
      "model_name": "LayoutModel",
      "state": {}
     },
     "dc0cb38431e34554a24eb56835159b14": {
      "model_module": "@jupyter-widgets/base",
      "model_module_version": "2.0.0",
      "model_name": "LayoutModel",
      "state": {}
     },
     "dc0dd2981a724c11960fdfb9c4753949": {
      "model_module": "@jupyter-widgets/controls",
      "model_module_version": "2.0.0",
      "model_name": "HTMLModel",
      "state": {
       "layout": "IPY_MODEL_f4f9b0038c9c44619b86920342744735",
       "style": "IPY_MODEL_7aab256f06ef4b9e8565daa375e42e01",
       "value": "100%"
      }
     },
     "dc28259a0652441aacc9366d13c53f3c": {
      "model_module": "@jupyter-widgets/base",
      "model_module_version": "2.0.0",
      "model_name": "LayoutModel",
      "state": {}
     },
     "dc68bf3968c245a59d61247ef22df629": {
      "model_module": "@jupyter-widgets/base",
      "model_module_version": "2.0.0",
      "model_name": "LayoutModel",
      "state": {}
     },
     "dcad3c2850bd4b17934478b75dc1d522": {
      "model_module": "@jupyter-widgets/base",
      "model_module_version": "2.0.0",
      "model_name": "LayoutModel",
      "state": {}
     },
     "dcc6fc36c70f4eb6864cde07b3f8c400": {
      "model_module": "@jupyter-widgets/controls",
      "model_module_version": "2.0.0",
      "model_name": "HBoxModel",
      "state": {
       "children": [
        "IPY_MODEL_b4656c34dfcd43a29c49c3e1e07e4a50",
        "IPY_MODEL_4c341a451372475c8ab1b62d52cc124c",
        "IPY_MODEL_6f0469764bbf4e3aacaca79738c9664f"
       ],
       "layout": "IPY_MODEL_3095d5471968403f8ffde3590444ba81"
      }
     },
     "dcca8bf40bd64061b09a211cc68bba61": {
      "model_module": "@jupyter-widgets/controls",
      "model_module_version": "2.0.0",
      "model_name": "HTMLModel",
      "state": {
       "layout": "IPY_MODEL_4664fa510ec24a1f8e977e573fdb1129",
       "style": "IPY_MODEL_614f7e74e8964772bbf709eec39a1524",
       "value": "100%"
      }
     },
     "dcead6a4bc7c4ebd98c57b29a4cbd66a": {
      "model_module": "@jupyter-widgets/base",
      "model_module_version": "2.0.0",
      "model_name": "LayoutModel",
      "state": {}
     },
     "dd17114b4a1c46e3880a89bcd314b090": {
      "model_module": "@jupyter-widgets/controls",
      "model_module_version": "2.0.0",
      "model_name": "FloatProgressModel",
      "state": {
       "bar_style": "success",
       "layout": "IPY_MODEL_a422eb421d334c8a8df8cec41b824897",
       "max": 14,
       "style": "IPY_MODEL_83367f94883e4fd6883bf6596850b72c",
       "value": 14
      }
     },
     "dd17374c13934f22b4d149c3c17afd1d": {
      "model_module": "@jupyter-widgets/controls",
      "model_module_version": "2.0.0",
      "model_name": "HTMLModel",
      "state": {
       "layout": "IPY_MODEL_1770df0cfa014ba89fca32d9ccf66276",
       "style": "IPY_MODEL_23ff1d5181ff474a8548c4341dace698",
       "value": " 14/14 [00:35&lt;00:00,  2.63s/it]"
      }
     },
     "dd4cfe4c1c19432d814165e8bfcadbdb": {
      "model_module": "@jupyter-widgets/controls",
      "model_module_version": "2.0.0",
      "model_name": "HTMLModel",
      "state": {
       "layout": "IPY_MODEL_77569b61b9f94b3bba023f8f25e98d70",
       "style": "IPY_MODEL_4fe88752d63e465dacddb2e96db851fc",
       "value": " 3/3 [00:10&lt;00:00,  4.18s/it]"
      }
     },
     "dd6570846ab0438d81b9a130d3dcc1c4": {
      "model_module": "@jupyter-widgets/controls",
      "model_module_version": "2.0.0",
      "model_name": "HTMLStyleModel",
      "state": {
       "description_width": "",
       "font_size": null,
       "text_color": null
      }
     },
     "dd9f8393faa64097954bd7d834610506": {
      "model_module": "@jupyter-widgets/controls",
      "model_module_version": "2.0.0",
      "model_name": "ProgressStyleModel",
      "state": {
       "description_width": ""
      }
     },
     "ddd0a93088564db392114ce48622e704": {
      "model_module": "@jupyter-widgets/controls",
      "model_module_version": "2.0.0",
      "model_name": "DescriptionStyleModel",
      "state": {
       "description_width": ""
      }
     },
     "de34218bb04f441bb1bc43e285752ade": {
      "model_module": "@jupyter-widgets/controls",
      "model_module_version": "2.0.0",
      "model_name": "HTMLModel",
      "state": {
       "layout": "IPY_MODEL_7d1f068199244ed6b81817ea80f86c30",
       "style": "IPY_MODEL_72959c60ea7840199da1f865e3205678",
       "value": "100%"
      }
     },
     "de728bf9065147a785cfed2cb35fefdb": {
      "model_module": "@jupyter-widgets/controls",
      "model_module_version": "2.0.0",
      "model_name": "ProgressStyleModel",
      "state": {
       "description_width": ""
      }
     },
     "df91ae866b7c4ab583dd9c521498031c": {
      "model_module": "@jupyter-widgets/controls",
      "model_module_version": "2.0.0",
      "model_name": "DescriptionStyleModel",
      "state": {
       "description_width": ""
      }
     },
     "dfe293cf4ff94c02886d72dddbd301f1": {
      "model_module": "@jupyter-widgets/base",
      "model_module_version": "2.0.0",
      "model_name": "LayoutModel",
      "state": {}
     },
     "e00f2d4bde8d4977a2c1fcf12272aee9": {
      "model_module": "@jupyter-widgets/base",
      "model_module_version": "2.0.0",
      "model_name": "LayoutModel",
      "state": {}
     },
     "e026cb4a76f64518aa80c32c5d6bc6d6": {
      "model_module": "@jupyter-widgets/controls",
      "model_module_version": "2.0.0",
      "model_name": "HTMLModel",
      "state": {
       "layout": "IPY_MODEL_dab97a99fde448d99052d64e95b5cf63",
       "style": "IPY_MODEL_73d6e42220b34c1db7c9c32952805469",
       "value": " 14/14 [00:34&lt;00:00,  2.55s/it]"
      }
     },
     "e07857edb1ab4b4aa304bfdd6b694ad9": {
      "model_module": "@jupyter-widgets/controls",
      "model_module_version": "2.0.0",
      "model_name": "HBoxModel",
      "state": {
       "children": [
        "IPY_MODEL_0f9c8d0f704c4e5ba707cf9fc4bd45ae",
        "IPY_MODEL_e33c825926f441ecb36ebe2d47c4af8f",
        "IPY_MODEL_dd17374c13934f22b4d149c3c17afd1d"
       ],
       "layout": "IPY_MODEL_2170228775ec4e85803342171d2bcc44"
      }
     },
     "e107e09de9494b96ba9563b361cbfa93": {
      "model_module": "@jupyter-widgets/controls",
      "model_module_version": "2.0.0",
      "model_name": "HTMLStyleModel",
      "state": {
       "description_width": "",
       "font_size": null,
       "text_color": null
      }
     },
     "e11311ed201b4eec8375f0060b43cdd3": {
      "model_module": "@jupyter-widgets/base",
      "model_module_version": "2.0.0",
      "model_name": "LayoutModel",
      "state": {}
     },
     "e11500d7c68642fbb6c1587fa476ab91": {
      "model_module": "@jupyter-widgets/controls",
      "model_module_version": "2.0.0",
      "model_name": "DescriptionStyleModel",
      "state": {
       "description_width": ""
      }
     },
     "e1b73ba901f94de3bfe97bd1cf8952e9": {
      "model_module": "@jupyter-widgets/controls",
      "model_module_version": "2.0.0",
      "model_name": "ProgressStyleModel",
      "state": {
       "description_width": ""
      }
     },
     "e1c181b12aa041edae8c0265a09202d8": {
      "model_module": "@jupyter-widgets/controls",
      "model_module_version": "2.0.0",
      "model_name": "ProgressStyleModel",
      "state": {
       "description_width": ""
      }
     },
     "e23df4b8b10148898f49280b3bd8308a": {
      "model_module": "@jupyter-widgets/base",
      "model_module_version": "2.0.0",
      "model_name": "LayoutModel",
      "state": {}
     },
     "e245076ed2dc4397ab5a192b2f9ecd9c": {
      "model_module": "@jupyter-widgets/controls",
      "model_module_version": "2.0.0",
      "model_name": "HBoxModel",
      "state": {
       "children": [
        "IPY_MODEL_0d4bc172676c4414864818a4ac6416fe",
        "IPY_MODEL_341a7cfa9b9240699db09f61bf95cb69",
        "IPY_MODEL_761febfec9434d18a10e7a292405c5d3"
       ],
       "layout": "IPY_MODEL_055973be849e46938f53875663039720"
      }
     },
     "e26fc1c804f246fdacba70c9768b3757": {
      "model_module": "@jupyter-widgets/base",
      "model_module_version": "2.0.0",
      "model_name": "LayoutModel",
      "state": {}
     },
     "e27c6e761b364d56bc2c9cee005861aa": {
      "model_module": "@jupyter-widgets/controls",
      "model_module_version": "2.0.0",
      "model_name": "DescriptionStyleModel",
      "state": {
       "description_width": ""
      }
     },
     "e2a0c13496744ad68d896d64a962e737": {
      "model_module": "@jupyter-widgets/controls",
      "model_module_version": "2.0.0",
      "model_name": "FloatProgressModel",
      "state": {
       "bar_style": "success",
       "layout": "IPY_MODEL_8fa32913544f4ff7ae6cc19b754896c1",
       "max": 14,
       "style": "IPY_MODEL_876f19a2a1274dfaab89aed4f6d34307",
       "value": 14
      }
     },
     "e2bebc0e11bb4c67b655a2bb0e52d17c": {
      "model_module": "@jupyter-widgets/controls",
      "model_module_version": "2.0.0",
      "model_name": "HTMLModel",
      "state": {
       "layout": "IPY_MODEL_5627352635654cd58c96ca414f1e6114",
       "style": "IPY_MODEL_a7d4d21d229e48928273980fb1f57c78",
       "value": "100%"
      }
     },
     "e2df143c4ac449a490b970fc5d42903d": {
      "model_module": "@jupyter-widgets/base",
      "model_module_version": "2.0.0",
      "model_name": "LayoutModel",
      "state": {}
     },
     "e2e8ccf1279e404e8a34624c43cb47a1": {
      "model_module": "@jupyter-widgets/controls",
      "model_module_version": "2.0.0",
      "model_name": "ProgressStyleModel",
      "state": {
       "description_width": ""
      }
     },
     "e2f9c553cda84b29b8912d2d332ae8cb": {
      "model_module": "@jupyter-widgets/controls",
      "model_module_version": "2.0.0",
      "model_name": "HTMLModel",
      "state": {
       "layout": "IPY_MODEL_e23df4b8b10148898f49280b3bd8308a",
       "style": "IPY_MODEL_eb4181bebf4d410e8b5c7badfad5bfda",
       "value": " 3/3 [00:10&lt;00:00,  4.20s/it]"
      }
     },
     "e33a5f4c714945229331ede15abc8eeb": {
      "model_module": "@jupyter-widgets/controls",
      "model_module_version": "2.0.0",
      "model_name": "HTMLStyleModel",
      "state": {
       "description_width": "",
       "font_size": null,
       "text_color": null
      }
     },
     "e33c825926f441ecb36ebe2d47c4af8f": {
      "model_module": "@jupyter-widgets/controls",
      "model_module_version": "2.0.0",
      "model_name": "FloatProgressModel",
      "state": {
       "bar_style": "success",
       "layout": "IPY_MODEL_5b069813b89b417297a48aeb2154fe67",
       "max": 14,
       "style": "IPY_MODEL_f46f147ed767438095a88af5a63a467a",
       "value": 14
      }
     },
     "e33de6c094a54effb98a325d8beecad8": {
      "model_module": "@jupyter-widgets/base",
      "model_module_version": "2.0.0",
      "model_name": "LayoutModel",
      "state": {}
     },
     "e370ebab14334b8aba9bb8bfed09edb4": {
      "model_module": "@jupyter-widgets/controls",
      "model_module_version": "2.0.0",
      "model_name": "HBoxModel",
      "state": {
       "children": [
        "IPY_MODEL_6f794c624be94766aa1173d268857714",
        "IPY_MODEL_0d3409116f40446cbda24b66b80c0548",
        "IPY_MODEL_9860d769f6e5456f8ab1d86485f89b89"
       ],
       "layout": "IPY_MODEL_bf8a60bc94df456e8eb3e78e65680454"
      }
     },
     "e3713f550fe34209b0ca21db1baa24aa": {
      "model_module": "@jupyter-widgets/controls",
      "model_module_version": "2.0.0",
      "model_name": "HTMLModel",
      "state": {
       "layout": "IPY_MODEL_f21572dd0fec42ae9fb1501edcecfecb",
       "style": "IPY_MODEL_a2955b360dac453d8c26fa7c5687f081",
       "value": "100%"
      }
     },
     "e3bb59a05fb8415c83eb1f0ab2bfbf5f": {
      "model_module": "@jupyter-widgets/controls",
      "model_module_version": "2.0.0",
      "model_name": "HTMLStyleModel",
      "state": {
       "description_width": "",
       "font_size": null,
       "text_color": null
      }
     },
     "e40cca4a10a44e0dbd27b705095264cc": {
      "model_module": "@jupyter-widgets/base",
      "model_module_version": "2.0.0",
      "model_name": "LayoutModel",
      "state": {}
     },
     "e49fc61a072143458af206edcef6af8c": {
      "model_module": "@jupyter-widgets/controls",
      "model_module_version": "2.0.0",
      "model_name": "DescriptionStyleModel",
      "state": {
       "description_width": ""
      }
     },
     "e4fee53c94fa471e8eb4b075e0b60ed2": {
      "model_module": "@jupyter-widgets/controls",
      "model_module_version": "2.0.0",
      "model_name": "ProgressStyleModel",
      "state": {
       "description_width": ""
      }
     },
     "e521aa828dc94af28f7c171bf9ee1566": {
      "model_module": "@jupyter-widgets/controls",
      "model_module_version": "2.0.0",
      "model_name": "HBoxModel",
      "state": {
       "children": [
        "IPY_MODEL_e585bad70ab040b2929b40c8daac6003",
        "IPY_MODEL_ccc5bf5d8d9348dfadf4db618a2aee02",
        "IPY_MODEL_854dbd68562548558ed1aa363a4554d2"
       ],
       "layout": "IPY_MODEL_67510021658848edbe477ad4bc8038f4"
      }
     },
     "e532c67f1c5a459dbaf78b5d1c681376": {
      "model_module": "@jupyter-widgets/controls",
      "model_module_version": "2.0.0",
      "model_name": "HTMLModel",
      "state": {
       "layout": "IPY_MODEL_d81ac806a89843e3a258a28316de145f",
       "style": "IPY_MODEL_1cf7ed64d07e42f1a35ac54ff80c9321",
       "value": " 6/6 [00:08&lt;00:00,  1.98s/it]"
      }
     },
     "e5627be0bb0747cbb16d4c50cdc94823": {
      "model_module": "@jupyter-widgets/base",
      "model_module_version": "2.0.0",
      "model_name": "LayoutModel",
      "state": {}
     },
     "e585bad70ab040b2929b40c8daac6003": {
      "model_module": "@jupyter-widgets/controls",
      "model_module_version": "2.0.0",
      "model_name": "HTMLModel",
      "state": {
       "layout": "IPY_MODEL_8d0d8c956fc0459f905a8b1a41ffe4fe",
       "style": "IPY_MODEL_7e6348b6f12249d5968b9eb97f166010",
       "value": "100%"
      }
     },
     "e58ad84b62ec439799d1916be0c1311f": {
      "model_module": "@jupyter-widgets/controls",
      "model_module_version": "2.0.0",
      "model_name": "HTMLStyleModel",
      "state": {
       "description_width": "",
       "font_size": null,
       "text_color": null
      }
     },
     "e59fd9367547423fbe88c0a69e5b5d4f": {
      "model_module": "@jupyter-widgets/base",
      "model_module_version": "2.0.0",
      "model_name": "LayoutModel",
      "state": {}
     },
     "e5ce606a16644d659863680e146e4706": {
      "model_module": "@jupyter-widgets/base",
      "model_module_version": "2.0.0",
      "model_name": "LayoutModel",
      "state": {}
     },
     "e5d5e45fb4914148aa722874d820f5b3": {
      "model_module": "@jupyter-widgets/controls",
      "model_module_version": "2.0.0",
      "model_name": "FloatProgressModel",
      "state": {
       "bar_style": "success",
       "layout": "IPY_MODEL_c61e0f4c117a4d1186762baca090503c",
       "max": 3,
       "style": "IPY_MODEL_332676bbba814a449eedc22d227442ce",
       "value": 3
      }
     },
     "e631feec27f44638b2b4bcc59588718e": {
      "model_module": "@jupyter-widgets/base",
      "model_module_version": "2.0.0",
      "model_name": "LayoutModel",
      "state": {}
     },
     "e6344aec656a4e2ebe984c2af55086ee": {
      "model_module": "@jupyter-widgets/controls",
      "model_module_version": "2.0.0",
      "model_name": "HTMLModel",
      "state": {
       "layout": "IPY_MODEL_3b0a2073456e43cbbc07113f5a06cd57",
       "style": "IPY_MODEL_3f64a682d5ca417bb12d96354fe97ee4",
       "value": " 14/14 [00:34&lt;00:00,  2.55s/it]"
      }
     },
     "e6601afb4f444433a8d2e37f465f45ab": {
      "model_module": "@jupyter-widgets/controls",
      "model_module_version": "2.0.0",
      "model_name": "DescriptionStyleModel",
      "state": {
       "description_width": ""
      }
     },
     "e67dee11d433417985572ac96d041333": {
      "model_module": "@jupyter-widgets/base",
      "model_module_version": "2.0.0",
      "model_name": "LayoutModel",
      "state": {}
     },
     "e6a099540d1b4981b0354d13867760e0": {
      "model_module": "@jupyter-widgets/controls",
      "model_module_version": "2.0.0",
      "model_name": "FloatProgressModel",
      "state": {
       "bar_style": "success",
       "layout": "IPY_MODEL_c2c9bae4f17b430f94173f93bee66759",
       "max": 14,
       "style": "IPY_MODEL_99424901800049039cf89f5962ef052d",
       "value": 14
      }
     },
     "e704b69e2c0147598b87d70959cc1d19": {
      "model_module": "@jupyter-widgets/base",
      "model_module_version": "2.0.0",
      "model_name": "LayoutModel",
      "state": {}
     },
     "e70f3c2d70b247df9fb2de2b32a22bdd": {
      "model_module": "@jupyter-widgets/controls",
      "model_module_version": "2.0.0",
      "model_name": "HTMLModel",
      "state": {
       "layout": "IPY_MODEL_90923c837e1b4ab9bc13f1267d9159d8",
       "style": "IPY_MODEL_abbeb2c6abf448dda079c6cbb462781b",
       "value": " 3/3 [00:10&lt;00:00,  4.12s/it]"
      }
     },
     "e744abc2fbcd45b6a9780d2183ae3d83": {
      "model_module": "@jupyter-widgets/controls",
      "model_module_version": "2.0.0",
      "model_name": "HTMLModel",
      "state": {
       "layout": "IPY_MODEL_240ac9bfcfca4ee1b8552b0aa6b1c30d",
       "style": "IPY_MODEL_f48ab7314b0244899aa892e212fa4d79",
       "value": "  0%"
      }
     },
     "e7c676f5f32c47ba9d376ed1e98d2579": {
      "model_module": "@jupyter-widgets/base",
      "model_module_version": "2.0.0",
      "model_name": "LayoutModel",
      "state": {}
     },
     "e83b55d4dce248a9ad00d59b4f589287": {
      "model_module": "@jupyter-widgets/controls",
      "model_module_version": "2.0.0",
      "model_name": "FloatProgressModel",
      "state": {
       "bar_style": "success",
       "layout": "IPY_MODEL_74b140d56f264876ad3baac400674e81",
       "max": 3,
       "style": "IPY_MODEL_56f349348df141708ca826a50e524d41",
       "value": 3
      }
     },
     "e888eadbc7f94bd8a49318165d57b41e": {
      "model_module": "@jupyter-widgets/base",
      "model_module_version": "2.0.0",
      "model_name": "LayoutModel",
      "state": {}
     },
     "e8e8410b949c4d85ab8ffc6736cacd90": {
      "model_module": "@jupyter-widgets/base",
      "model_module_version": "2.0.0",
      "model_name": "LayoutModel",
      "state": {}
     },
     "e8f26801067b4ef1828250d9824be275": {
      "model_module": "@jupyter-widgets/controls",
      "model_module_version": "2.0.0",
      "model_name": "ProgressStyleModel",
      "state": {
       "description_width": ""
      }
     },
     "e90406da19364701938d300128db6610": {
      "model_module": "@jupyter-widgets/controls",
      "model_module_version": "2.0.0",
      "model_name": "DescriptionStyleModel",
      "state": {
       "description_width": ""
      }
     },
     "e9242590798b48be820f5b35bb78d603": {
      "model_module": "@jupyter-widgets/controls",
      "model_module_version": "2.0.0",
      "model_name": "HBoxModel",
      "state": {
       "children": [
        "IPY_MODEL_e744abc2fbcd45b6a9780d2183ae3d83",
        "IPY_MODEL_3e57f777247b4598b82b5d44f6a95f1f",
        "IPY_MODEL_7eae24d97b304548b79fa6b8c4f0440c"
       ],
       "layout": "IPY_MODEL_bea60f47ad4342aa85af0a82419d5792"
      }
     },
     "e9851f713d7243c19f16d596d8687237": {
      "model_module": "@jupyter-widgets/controls",
      "model_module_version": "2.0.0",
      "model_name": "DescriptionStyleModel",
      "state": {
       "description_width": ""
      }
     },
     "e98c8a8741464f7d89d4b1b0c4ba928e": {
      "model_module": "@jupyter-widgets/controls",
      "model_module_version": "2.0.0",
      "model_name": "HTMLModel",
      "state": {
       "layout": "IPY_MODEL_4dd2a703b89e4906995b6ae63384ebec",
       "style": "IPY_MODEL_77c0f641a17541f098b0af2bfc288ba2",
       "value": "100%"
      }
     },
     "e9c5bf0eb79e49b88e40dc586ebe3e7c": {
      "model_module": "@jupyter-widgets/base",
      "model_module_version": "2.0.0",
      "model_name": "LayoutModel",
      "state": {}
     },
     "e9f11de37b074385b4ae630297261ce2": {
      "model_module": "@jupyter-widgets/base",
      "model_module_version": "2.0.0",
      "model_name": "LayoutModel",
      "state": {}
     },
     "ea5c5e28a3084a8e9b220f22ec95964c": {
      "model_module": "@jupyter-widgets/controls",
      "model_module_version": "2.0.0",
      "model_name": "DescriptionStyleModel",
      "state": {
       "description_width": ""
      }
     },
     "ead2c8de8254474aa03caec7fb6f8f4f": {
      "model_module": "@jupyter-widgets/controls",
      "model_module_version": "2.0.0",
      "model_name": "HTMLStyleModel",
      "state": {
       "description_width": "",
       "font_size": null,
       "text_color": null
      }
     },
     "eb0aa6c7a1894f94bcde787892e4921b": {
      "model_module": "@jupyter-widgets/controls",
      "model_module_version": "2.0.0",
      "model_name": "HTMLStyleModel",
      "state": {
       "description_width": "",
       "font_size": null,
       "text_color": null
      }
     },
     "eb4181bebf4d410e8b5c7badfad5bfda": {
      "model_module": "@jupyter-widgets/controls",
      "model_module_version": "2.0.0",
      "model_name": "DescriptionStyleModel",
      "state": {
       "description_width": ""
      }
     },
     "eb54245568c3417f8c1a3e0308150b39": {
      "model_module": "@jupyter-widgets/base",
      "model_module_version": "2.0.0",
      "model_name": "LayoutModel",
      "state": {}
     },
     "eba97bc2fe554e4d89a75a68452728ea": {
      "model_module": "@jupyter-widgets/controls",
      "model_module_version": "2.0.0",
      "model_name": "HTMLModel",
      "state": {
       "layout": "IPY_MODEL_e5ce606a16644d659863680e146e4706",
       "style": "IPY_MODEL_3282bc86098446bebd1e8f06a0a2af04",
       "value": " 3/3 [00:11&lt;00:00,  4.30s/it]"
      }
     },
     "ec90cfce9177485b883662ef681ad8d6": {
      "model_module": "@jupyter-widgets/controls",
      "model_module_version": "2.0.0",
      "model_name": "HTMLModel",
      "state": {
       "layout": "IPY_MODEL_5256fcf8c90746a2b585640096aabcd5",
       "style": "IPY_MODEL_59b8436cb07c42e9bc5b74d1bab28248",
       "value": "100%"
      }
     },
     "ecc123de3d6c47dc8f8232d19946d330": {
      "model_module": "@jupyter-widgets/controls",
      "model_module_version": "2.0.0",
      "model_name": "HBoxModel",
      "state": {
       "children": [
        "IPY_MODEL_3ddf5925f06b4d429e4f92bd152b3bec",
        "IPY_MODEL_516b22b99dad4b26bda95b7f5f377e6b",
        "IPY_MODEL_0365c814a1964bfa8a174f66d432d2d8"
       ],
       "layout": "IPY_MODEL_03a3d629e6154eacaca8081c71a01b2b"
      }
     },
     "ed4b45ecdd934060aec1b9f01e6666f3": {
      "model_module": "@jupyter-widgets/controls",
      "model_module_version": "2.0.0",
      "model_name": "ProgressStyleModel",
      "state": {
       "description_width": ""
      }
     },
     "ed986ba25e62442b805d11edfd26d196": {
      "model_module": "@jupyter-widgets/controls",
      "model_module_version": "2.0.0",
      "model_name": "FloatProgressModel",
      "state": {
       "bar_style": "success",
       "layout": "IPY_MODEL_7cdbaf6f3ca74f5f9129c7b62ff0fad9",
       "max": 6,
       "style": "IPY_MODEL_ce7f7abe8f384bdd91ef63c4be8b933c",
       "value": 6
      }
     },
     "edba1ebe3a684c6da97596e98b5211a5": {
      "model_module": "@jupyter-widgets/base",
      "model_module_version": "2.0.0",
      "model_name": "LayoutModel",
      "state": {}
     },
     "edd4ff7f3e974300b167832d9129ddc9": {
      "model_module": "@jupyter-widgets/controls",
      "model_module_version": "2.0.0",
      "model_name": "DescriptionStyleModel",
      "state": {
       "description_width": ""
      }
     },
     "edf5997f4a0c488abc2bd51d603e413b": {
      "model_module": "@jupyter-widgets/base",
      "model_module_version": "2.0.0",
      "model_name": "LayoutModel",
      "state": {}
     },
     "ee0c4e46207a4274a774314fe021f144": {
      "model_module": "@jupyter-widgets/base",
      "model_module_version": "2.0.0",
      "model_name": "LayoutModel",
      "state": {}
     },
     "ee2dd5434a194971bea98ba72eb8aad9": {
      "model_module": "@jupyter-widgets/controls",
      "model_module_version": "2.0.0",
      "model_name": "HBoxModel",
      "state": {
       "children": [
        "IPY_MODEL_81fd12c7fc3c414b93a7481f3fb7da1e",
        "IPY_MODEL_f48e026983244ac9ac89fe0530611c84",
        "IPY_MODEL_b7dc5056499647e6b599be2a6894c13b"
       ],
       "layout": "IPY_MODEL_219afd487156452a86e2406576ecfcc9"
      }
     },
     "ee40caa8c6a5462badf1997964bd8578": {
      "model_module": "@jupyter-widgets/controls",
      "model_module_version": "2.0.0",
      "model_name": "FloatProgressModel",
      "state": {
       "bar_style": "danger",
       "layout": "IPY_MODEL_b30a39d725ec4a5da7ab1f5f3027d270",
       "max": 6,
       "style": "IPY_MODEL_b77707f31c9b4dfd80bc0adc3c559056"
      }
     },
     "ee859f8513d14fd2a184aee7c23944ab": {
      "model_module": "@jupyter-widgets/base",
      "model_module_version": "2.0.0",
      "model_name": "LayoutModel",
      "state": {}
     },
     "eea860404204486385b30ba97d247ae2": {
      "model_module": "@jupyter-widgets/base",
      "model_module_version": "2.0.0",
      "model_name": "LayoutModel",
      "state": {}
     },
     "efc52319653d4b0bbd451e539181b0fa": {
      "model_module": "@jupyter-widgets/base",
      "model_module_version": "2.0.0",
      "model_name": "LayoutModel",
      "state": {}
     },
     "f02c4f5a3cc94e6a894dfcdd90c4a76c": {
      "model_module": "@jupyter-widgets/controls",
      "model_module_version": "2.0.0",
      "model_name": "DescriptionStyleModel",
      "state": {
       "description_width": ""
      }
     },
     "f088742121f542cdb895747b227deca2": {
      "model_module": "@jupyter-widgets/controls",
      "model_module_version": "2.0.0",
      "model_name": "DescriptionStyleModel",
      "state": {
       "description_width": ""
      }
     },
     "f088a133a8804674b9dd7f297ffbf9c2": {
      "model_module": "@jupyter-widgets/controls",
      "model_module_version": "2.0.0",
      "model_name": "FloatProgressModel",
      "state": {
       "bar_style": "success",
       "layout": "IPY_MODEL_4649dcb9189249368cf39bbc84f2235f",
       "max": 3,
       "style": "IPY_MODEL_89df800d4df747eaa75255a756977bf8",
       "value": 3
      }
     },
     "f0db023865de4e75a40b4550172c6138": {
      "model_module": "@jupyter-widgets/controls",
      "model_module_version": "2.0.0",
      "model_name": "HBoxModel",
      "state": {
       "children": [
        "IPY_MODEL_bd3f5d9954cd4a91a7381e105cf45022",
        "IPY_MODEL_70268c8c928f4f88b7800ca0b349bf8e",
        "IPY_MODEL_5af10075c7954a7a86b516adebbabe88"
       ],
       "layout": "IPY_MODEL_9cf5eea599ac405eba88a368b841cb7b"
      }
     },
     "f0f757600cc0422fb1fcae4bbfb667b7": {
      "model_module": "@jupyter-widgets/base",
      "model_module_version": "2.0.0",
      "model_name": "LayoutModel",
      "state": {}
     },
     "f10a509f4c6a45be95fd03a4d39b1837": {
      "model_module": "@jupyter-widgets/base",
      "model_module_version": "2.0.0",
      "model_name": "LayoutModel",
      "state": {}
     },
     "f13ca19e18544997bae83876d0159c0a": {
      "model_module": "@jupyter-widgets/controls",
      "model_module_version": "2.0.0",
      "model_name": "DescriptionStyleModel",
      "state": {
       "description_width": ""
      }
     },
     "f13fb1a0d89e42c0afa8612021dcb98e": {
      "model_module": "@jupyter-widgets/controls",
      "model_module_version": "2.0.0",
      "model_name": "HTMLModel",
      "state": {
       "layout": "IPY_MODEL_b2eb49191f454d1ca89219338d27fff3",
       "style": "IPY_MODEL_6d0bfbc93a1545819218856abadd1ff0",
       "value": " 6/6 [00:11&lt;00:00,  2.78s/it]"
      }
     },
     "f1a0ce767920426aa410782640361065": {
      "model_module": "@jupyter-widgets/controls",
      "model_module_version": "2.0.0",
      "model_name": "HBoxModel",
      "state": {
       "children": [
        "IPY_MODEL_1fc82bd317434156a2e9298ba5e183fd",
        "IPY_MODEL_e6a099540d1b4981b0354d13867760e0",
        "IPY_MODEL_b1869575b6bc48b185eadfefede9f2ea"
       ],
       "layout": "IPY_MODEL_b3c64d1d470d4303ba1161800f662b9d"
      }
     },
     "f1cadea86f4349a5ab89df8c16368f3f": {
      "model_module": "@jupyter-widgets/base",
      "model_module_version": "2.0.0",
      "model_name": "LayoutModel",
      "state": {}
     },
     "f1cf5257a926489ebdcef6587525d199": {
      "model_module": "@jupyter-widgets/base",
      "model_module_version": "2.0.0",
      "model_name": "LayoutModel",
      "state": {}
     },
     "f1cfc5bb0898456ca8f5c538a609a70f": {
      "model_module": "@jupyter-widgets/controls",
      "model_module_version": "2.0.0",
      "model_name": "DescriptionStyleModel",
      "state": {
       "description_width": ""
      }
     },
     "f1e99bec5c1a4eb288eb61fa64cd9703": {
      "model_module": "@jupyter-widgets/controls",
      "model_module_version": "2.0.0",
      "model_name": "FloatProgressModel",
      "state": {
       "bar_style": "danger",
       "layout": "IPY_MODEL_dac323477cf149139d9d28f79c4064bc",
       "max": 6,
       "style": "IPY_MODEL_3d47e1796585418ca1b913a20708cefa",
       "value": 5
      }
     },
     "f1f91959b5e34777a43a77fabbc2547b": {
      "model_module": "@jupyter-widgets/base",
      "model_module_version": "2.0.0",
      "model_name": "LayoutModel",
      "state": {}
     },
     "f205a09d309f47fe9800e84ab1b9b096": {
      "model_module": "@jupyter-widgets/controls",
      "model_module_version": "2.0.0",
      "model_name": "FloatProgressModel",
      "state": {
       "bar_style": "success",
       "layout": "IPY_MODEL_c1d48ac75e284e85b0d09d8c36f30458",
       "max": 6,
       "style": "IPY_MODEL_a98327ed4bd04814ab99164413777c03",
       "value": 6
      }
     },
     "f21572dd0fec42ae9fb1501edcecfecb": {
      "model_module": "@jupyter-widgets/base",
      "model_module_version": "2.0.0",
      "model_name": "LayoutModel",
      "state": {}
     },
     "f21e3b344edc4b7dac55236cc7acdf7f": {
      "model_module": "@jupyter-widgets/controls",
      "model_module_version": "2.0.0",
      "model_name": "HBoxModel",
      "state": {
       "children": [
        "IPY_MODEL_009e9b31c50b45ce98d8d25a7a492aac",
        "IPY_MODEL_298d55ec99f54dcd8e73ef8eba7e4595",
        "IPY_MODEL_98ebb002e3a64642ad056d5f1b073578"
       ],
       "layout": "IPY_MODEL_80c763c7699b4ff49a71253aa16e9b40"
      }
     },
     "f27ed8d568e3443b8ebfc12dea126023": {
      "model_module": "@jupyter-widgets/base",
      "model_module_version": "2.0.0",
      "model_name": "LayoutModel",
      "state": {}
     },
     "f287eebaea2a42059275cf322b97e556": {
      "model_module": "@jupyter-widgets/controls",
      "model_module_version": "2.0.0",
      "model_name": "DescriptionStyleModel",
      "state": {
       "description_width": ""
      }
     },
     "f2b100e087414d70b6a7854840f6a755": {
      "model_module": "@jupyter-widgets/controls",
      "model_module_version": "2.0.0",
      "model_name": "HBoxModel",
      "state": {
       "children": [
        "IPY_MODEL_cc828325858743d1a489b03205ca511f",
        "IPY_MODEL_69329a3476f64b6ebd2f92c94b295e8c",
        "IPY_MODEL_e2f9c553cda84b29b8912d2d332ae8cb"
       ],
       "layout": "IPY_MODEL_310227bd46d14740a6e6c01f119281fe"
      }
     },
     "f302702e49304ecc970ba60d6dff4f48": {
      "model_module": "@jupyter-widgets/base",
      "model_module_version": "2.0.0",
      "model_name": "LayoutModel",
      "state": {}
     },
     "f3448abc46c64dcc99030e01f7f7c0ad": {
      "model_module": "@jupyter-widgets/controls",
      "model_module_version": "2.0.0",
      "model_name": "HTMLModel",
      "state": {
       "layout": "IPY_MODEL_c931633d20a244ef9feb92c378ca50c7",
       "style": "IPY_MODEL_97911fa7f7ff4b9ca533f84f14ba8a8d",
       "value": "100%"
      }
     },
     "f37ee6991b5b4c67b17f201ce50e2880": {
      "model_module": "@jupyter-widgets/controls",
      "model_module_version": "2.0.0",
      "model_name": "HTMLModel",
      "state": {
       "layout": "IPY_MODEL_a93293402c394b809ddfc405b57fc3ae",
       "style": "IPY_MODEL_4f45b7be062545dfad8cd46b855234c4",
       "value": "100%"
      }
     },
     "f387bf1b5492446ba39e2624cfcd4629": {
      "model_module": "@jupyter-widgets/base",
      "model_module_version": "2.0.0",
      "model_name": "LayoutModel",
      "state": {}
     },
     "f44d75a7f63d49649d2bd08154c9e62d": {
      "model_module": "@jupyter-widgets/controls",
      "model_module_version": "2.0.0",
      "model_name": "HBoxModel",
      "state": {
       "children": [
        "IPY_MODEL_4a02dde9f0c2473ca483bd879aae9897",
        "IPY_MODEL_aceda0a21c1a4b75853cdb8a59f7eadf",
        "IPY_MODEL_8ff573009e114a3f87d3b18fc70f28cc"
       ],
       "layout": "IPY_MODEL_c9926b82ab4345ebbeaf72d68b2d7259"
      }
     },
     "f46f147ed767438095a88af5a63a467a": {
      "model_module": "@jupyter-widgets/controls",
      "model_module_version": "2.0.0",
      "model_name": "ProgressStyleModel",
      "state": {
       "description_width": ""
      }
     },
     "f48ab7314b0244899aa892e212fa4d79": {
      "model_module": "@jupyter-widgets/controls",
      "model_module_version": "2.0.0",
      "model_name": "HTMLStyleModel",
      "state": {
       "description_width": "",
       "font_size": null,
       "text_color": null
      }
     },
     "f48e026983244ac9ac89fe0530611c84": {
      "model_module": "@jupyter-widgets/controls",
      "model_module_version": "2.0.0",
      "model_name": "FloatProgressModel",
      "state": {
       "bar_style": "success",
       "layout": "IPY_MODEL_4cf01c7addd141348d4644f6e298d0c3",
       "max": 14,
       "style": "IPY_MODEL_9216e0e0907040929f6e274b03ee6243",
       "value": 14
      }
     },
     "f4d962287f0a4127a69e007329d4b295": {
      "model_module": "@jupyter-widgets/base",
      "model_module_version": "2.0.0",
      "model_name": "LayoutModel",
      "state": {}
     },
     "f4e82aa0dad7492e9f251f424c0459f3": {
      "model_module": "@jupyter-widgets/controls",
      "model_module_version": "2.0.0",
      "model_name": "DescriptionStyleModel",
      "state": {
       "description_width": ""
      }
     },
     "f4f9b0038c9c44619b86920342744735": {
      "model_module": "@jupyter-widgets/base",
      "model_module_version": "2.0.0",
      "model_name": "LayoutModel",
      "state": {}
     },
     "f5b2aff67783436c98d18958c3462638": {
      "model_module": "@jupyter-widgets/controls",
      "model_module_version": "2.0.0",
      "model_name": "HTMLModel",
      "state": {
       "layout": "IPY_MODEL_e9c5bf0eb79e49b88e40dc586ebe3e7c",
       "style": "IPY_MODEL_6aad32a9423043eb8bffaa7ab8e9632f",
       "value": " 3/3 [00:11&lt;00:00,  4.33s/it]"
      }
     },
     "f5f8f0158f5e4152a38befdfae4ec590": {
      "model_module": "@jupyter-widgets/controls",
      "model_module_version": "2.0.0",
      "model_name": "ProgressStyleModel",
      "state": {
       "description_width": ""
      }
     },
     "f60f6e5e80ae48e9a0f049286dda0399": {
      "model_module": "@jupyter-widgets/base",
      "model_module_version": "2.0.0",
      "model_name": "LayoutModel",
      "state": {}
     },
     "f65d8a8840ca449cbde70bef05e56953": {
      "model_module": "@jupyter-widgets/base",
      "model_module_version": "2.0.0",
      "model_name": "LayoutModel",
      "state": {}
     },
     "f66bdd911a814945be5752c9df45f480": {
      "model_module": "@jupyter-widgets/controls",
      "model_module_version": "2.0.0",
      "model_name": "HTMLModel",
      "state": {
       "layout": "IPY_MODEL_8217a65ec82749c384cfde988d04b47e",
       "style": "IPY_MODEL_76d91f459d6d4f2aa4c55161e3e2fbd5",
       "value": "100%"
      }
     },
     "f6d9b538a7d4474faf6f1b5d4ed3aa22": {
      "model_module": "@jupyter-widgets/controls",
      "model_module_version": "2.0.0",
      "model_name": "DescriptionStyleModel",
      "state": {
       "description_width": ""
      }
     },
     "f7b6a4fb1aba43ad94e6124c4f209345": {
      "model_module": "@jupyter-widgets/controls",
      "model_module_version": "2.0.0",
      "model_name": "HBoxModel",
      "state": {
       "children": [
        "IPY_MODEL_6b85b3f5a8a844c2bcfadcce25177f81",
        "IPY_MODEL_a040616087b0471381e02100d008c999",
        "IPY_MODEL_25c6f48933ff4136bbdfb125b1cd897e"
       ],
       "layout": "IPY_MODEL_ceb07ebb580242619894a2c16e706be0"
      }
     },
     "f8689e845c5447c398f87941c18b50cf": {
      "model_module": "@jupyter-widgets/controls",
      "model_module_version": "2.0.0",
      "model_name": "ProgressStyleModel",
      "state": {
       "description_width": ""
      }
     },
     "f8d0aa0d6d044fd9b885647c29ad5ed9": {
      "model_module": "@jupyter-widgets/controls",
      "model_module_version": "2.0.0",
      "model_name": "DescriptionStyleModel",
      "state": {
       "description_width": ""
      }
     },
     "f8d197cb409d41f082178184a9954ac3": {
      "model_module": "@jupyter-widgets/base",
      "model_module_version": "2.0.0",
      "model_name": "LayoutModel",
      "state": {}
     },
     "f8f2b91fd5f749c1a9005b5678f313bc": {
      "model_module": "@jupyter-widgets/base",
      "model_module_version": "2.0.0",
      "model_name": "LayoutModel",
      "state": {}
     },
     "f9620fa4d32740b59e5cb0690a070612": {
      "model_module": "@jupyter-widgets/base",
      "model_module_version": "2.0.0",
      "model_name": "LayoutModel",
      "state": {}
     },
     "f990c3c0d24b4feb8b54ebbb0fe605e3": {
      "model_module": "@jupyter-widgets/controls",
      "model_module_version": "2.0.0",
      "model_name": "DescriptionStyleModel",
      "state": {
       "description_width": ""
      }
     },
     "fa70d6fcb22147d0955df9e8bddc056c": {
      "model_module": "@jupyter-widgets/controls",
      "model_module_version": "2.0.0",
      "model_name": "FloatProgressModel",
      "state": {
       "bar_style": "success",
       "layout": "IPY_MODEL_b13f40fc66ff46f3b4778d156c0b4e3f",
       "max": 3,
       "style": "IPY_MODEL_4df6d7c39cce4536a58880a00a3970ef",
       "value": 3
      }
     },
     "fb01dde1bd6a48828dc2335448eeab33": {
      "model_module": "@jupyter-widgets/base",
      "model_module_version": "2.0.0",
      "model_name": "LayoutModel",
      "state": {}
     },
     "fb2b7e82ece14ab79d84a08df31c827e": {
      "model_module": "@jupyter-widgets/base",
      "model_module_version": "2.0.0",
      "model_name": "LayoutModel",
      "state": {}
     },
     "fb408567788d4f848be4ce280f558218": {
      "model_module": "@jupyter-widgets/base",
      "model_module_version": "2.0.0",
      "model_name": "LayoutModel",
      "state": {}
     },
     "fc07a7ad29a1417dbfecf232fc63168d": {
      "model_module": "@jupyter-widgets/base",
      "model_module_version": "2.0.0",
      "model_name": "LayoutModel",
      "state": {}
     },
     "fc07b8eb3f2d42398ac37ae004962f19": {
      "model_module": "@jupyter-widgets/base",
      "model_module_version": "2.0.0",
      "model_name": "LayoutModel",
      "state": {}
     },
     "fc340e178dcf4841a50d791a1e61b133": {
      "model_module": "@jupyter-widgets/base",
      "model_module_version": "2.0.0",
      "model_name": "LayoutModel",
      "state": {}
     },
     "fcae490625734c64bdd2385f2511ea70": {
      "model_module": "@jupyter-widgets/controls",
      "model_module_version": "2.0.0",
      "model_name": "DescriptionStyleModel",
      "state": {
       "description_width": ""
      }
     },
     "fd51647b299b4889b249a7594dbeedea": {
      "model_module": "@jupyter-widgets/controls",
      "model_module_version": "2.0.0",
      "model_name": "HTMLModel",
      "state": {
       "layout": "IPY_MODEL_8f409e26f6304a798feedac9af5080d5",
       "style": "IPY_MODEL_ab66689f2e41405eb01c1c18ef038851",
       "value": " 6/6 [00:08&lt;00:00,  1.99s/it]"
      }
     },
     "fd5e81f960e243358e7a5d42b3ba3402": {
      "model_module": "@jupyter-widgets/controls",
      "model_module_version": "2.0.0",
      "model_name": "ProgressStyleModel",
      "state": {
       "description_width": ""
      }
     },
     "fd78d4fe60794bd9a4080bccdd2b5066": {
      "model_module": "@jupyter-widgets/controls",
      "model_module_version": "2.0.0",
      "model_name": "FloatProgressModel",
      "state": {
       "bar_style": "success",
       "layout": "IPY_MODEL_2a2a37aad76a438cae578d3ae288b46b",
       "max": 14,
       "style": "IPY_MODEL_56eadb9f4fd944dcb5039b404e09f6a1",
       "value": 14
      }
     },
     "fdad8f8a394b4897a51e1509b9cafa80": {
      "model_module": "@jupyter-widgets/controls",
      "model_module_version": "2.0.0",
      "model_name": "FloatProgressModel",
      "state": {
       "bar_style": "success",
       "layout": "IPY_MODEL_fb408567788d4f848be4ce280f558218",
       "max": 6,
       "style": "IPY_MODEL_4fbd978fd55041cb9ce67134a734e2df",
       "value": 6
      }
     },
     "fdaec1db841d41f4b0b47f94f489842b": {
      "model_module": "@jupyter-widgets/base",
      "model_module_version": "2.0.0",
      "model_name": "LayoutModel",
      "state": {}
     },
     "fdb9a369ccea4ed5983d9d8248c46c5d": {
      "model_module": "@jupyter-widgets/base",
      "model_module_version": "2.0.0",
      "model_name": "LayoutModel",
      "state": {}
     },
     "fdc23c6f872c4825b03240c4a0ab9831": {
      "model_module": "@jupyter-widgets/controls",
      "model_module_version": "2.0.0",
      "model_name": "HTMLModel",
      "state": {
       "layout": "IPY_MODEL_a100bb931af3454f8ff02fae28c2ba6a",
       "style": "IPY_MODEL_af095a946e40470fb6b10069cdead320",
       "value": "100%"
      }
     },
     "fec48c92bd4346b18cec58b6d94fbb49": {
      "model_module": "@jupyter-widgets/controls",
      "model_module_version": "2.0.0",
      "model_name": "HTMLModel",
      "state": {
       "layout": "IPY_MODEL_c118c80129a249eea1b05cb08a19d240",
       "style": "IPY_MODEL_a89c19df94ce4db18c427504318b7256",
       "value": " 6/6 [00:11&lt;00:00,  2.84s/it]"
      }
     },
     "ff6c51d38ade449d9351b3aa712bc22e": {
      "model_module": "@jupyter-widgets/base",
      "model_module_version": "2.0.0",
      "model_name": "LayoutModel",
      "state": {}
     },
     "ff7181daebce46c8a92713b3908a3645": {
      "model_module": "@jupyter-widgets/controls",
      "model_module_version": "2.0.0",
      "model_name": "HTMLModel",
      "state": {
       "layout": "IPY_MODEL_f10a509f4c6a45be95fd03a4d39b1837",
       "style": "IPY_MODEL_adb01a75c497444e9fb19c4b1eadcf84",
       "value": "100%"
      }
     },
     "ff775a243b6949488f74e1dbabacf8a0": {
      "model_module": "@jupyter-widgets/controls",
      "model_module_version": "2.0.0",
      "model_name": "HTMLModel",
      "state": {
       "layout": "IPY_MODEL_f0f757600cc0422fb1fcae4bbfb667b7",
       "style": "IPY_MODEL_e27c6e761b364d56bc2c9cee005861aa",
       "value": "100%"
      }
     },
     "ffaab0ce30f54c8899278aa16a20a700": {
      "model_module": "@jupyter-widgets/controls",
      "model_module_version": "2.0.0",
      "model_name": "HTMLStyleModel",
      "state": {
       "description_width": "",
       "font_size": null,
       "text_color": null
      }
     }
    },
    "version_major": 2,
    "version_minor": 0
   }
  }
 },
 "nbformat": 4,
 "nbformat_minor": 5
}
