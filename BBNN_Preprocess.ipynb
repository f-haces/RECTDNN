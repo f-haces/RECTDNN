{
 "cells": [
  {
   "cell_type": "code",
   "execution_count": 1,
   "id": "d396e3aa",
   "metadata": {},
   "outputs": [],
   "source": [
    "import cv2, os, random, pickle\n",
    "import matplotlib.pyplot as plt\n",
    "import numpy as np\n",
    "from tqdm.notebook import tqdm\n",
    "from PIL import Image, ImageDraw"
   ]
  },
  {
   "cell_type": "code",
   "execution_count": 2,
   "id": "b0b26f19",
   "metadata": {},
   "outputs": [],
   "source": [
    "def getCountyBBOX(image):\n",
    "    # https://stackoverflow.com/questions/4808221/is-there-a-bounding-box-function-slice-with-non-zero-values-for-a-ndarray-in\n",
    "    B = np.argwhere(image)\n",
    "    (ystart, xstart), (ystop, xstop) = B.min(0), B.max(0) + 1 \n",
    "    return [xstart, ystart, xstop, ystop]"
   ]
  },
  {
   "cell_type": "code",
   "execution_count": 3,
   "id": "e0684840",
   "metadata": {},
   "outputs": [
    {
     "data": {
      "application/vnd.jupyter.widget-view+json": {
       "model_id": "c4aef4bfbc7c45e59b7f144805dd3ecb",
       "version_major": 2,
       "version_minor": 0
      },
      "text/plain": [
       "  0%|          | 0/14 [00:00<?, ?it/s]"
      ]
     },
     "metadata": {},
     "output_type": "display_data"
    }
   ],
   "source": [
    "base_dir = r\"C:\\Users\\franc\\OneDrive - University Of Houston\\AAA_RECTDNN\\data\\BBNN\\scrap\\\\\"\n",
    "out_dir = r\"C:\\Users\\franc\\OneDrive - University Of Houston\\AAA_RECTDNN\\data\\BBNN\\BBNN_OriginalData\\\\\"\n",
    "\n",
    "base_basedir = f\"{base_dir}in\\\\\"\n",
    "tile_basedir = f\"{base_dir}tiles\\\\\"\n",
    "cnty_basedir = f\"{base_dir}county\\\\\"\n",
    "\n",
    "image_dir = f\"{out_dir}bbox_analysis\\\\\"\n",
    "pkl_dir   = f\"{out_dir}pkl\\\\\"\n",
    "    \n",
    "def exportImage(image, predictions, image_path):\n",
    "    image = Image.fromarray(cv2.cvtColor(image, cv2.COLOR_GRAY2BGR))\n",
    "    # Draw bounding boxes on the image\n",
    "    draw = ImageDraw.Draw(image)\n",
    "    for box, label in zip(predictions['boxes'], predictions['labels']):\n",
    "        draw.rectangle([(box[0], box[1]), (box[2], box[3])], outline='red')\n",
    "        draw.text((box[0], box[1]), f'Label: {label}', fill='red')\n",
    "\n",
    "    # Save the image with bounding boxes\n",
    "    image.save(image_path[:-3]+\"png\")\n",
    "\n",
    "for name in tqdm(os.listdir(tile_basedir)):\n",
    "    \n",
    "    # READ AS NEEDED\n",
    "    image_or_tiles = cv2.imread(os.path.join(tile_basedir, name))\n",
    "    image_or_cnty  = cv2.imread(os.path.join(cnty_basedir, name))\n",
    "    if image_or_cnty is None:\n",
    "        image_or_cnty  = cv2.imread(os.path.join(cnty_basedir, name[:-3] + \"tif\"))\n",
    "    \n",
    "    # CONVERT TO GRAYSCALE (MAYBE NEEDED)\n",
    "    image_tile = cv2.cvtColor(image_or_tiles, cv2.COLOR_BGR2GRAY)\n",
    "    image_cnty = cv2.cvtColor(image_or_cnty, cv2.COLOR_BGR2GRAY)\n",
    "    \n",
    "    contours, hierarchy = cv2.findContours(image_tile, cv2.RETR_CCOMP, cv2.CHAIN_APPROX_NONE)\n",
    "    county_bbox = getCountyBBOX(image_cnty > 0)\n",
    "    \n",
    "    # 0 for county\n",
    "    # 1 for tile\n",
    "    \n",
    "    out_dict = {\n",
    "        'boxes'  : [county_bbox],\n",
    "        'labels' : [\"County\"] \n",
    "    }\n",
    "\n",
    "    highest_level = np.max(hierarchy, axis=1).flatten()[3]\n",
    "    for idx, contour in enumerate(contours):\n",
    "        if hierarchy[0][idx][3] == highest_level: \n",
    "            x, y, w, h = cv2.boundingRect(contour)\n",
    "            out_dict['boxes'].append([x, y, x+w, y+h])\n",
    "            out_dict['labels'].append(\"Tile\")\n",
    "            \n",
    "    exportImage(image_tile, out_dict, image_dir+name)\n",
    "    \n",
    "    with open(pkl_dir+name[:-3]+'pkl', 'wb') as handle:\n",
    "        pickle.dump(out_dict, handle, protocol=pickle.HIGHEST_PROTOCOL)\n",
    "    # print(out_dict)"
   ]
  }
 ],
 "metadata": {
  "kernelspec": {
   "display_name": "Python 3 (ipykernel)",
   "language": "python",
   "name": "python3"
  },
  "language_info": {
   "codemirror_mode": {
    "name": "ipython",
    "version": 3
   },
   "file_extension": ".py",
   "mimetype": "text/x-python",
   "name": "python",
   "nbconvert_exporter": "python",
   "pygments_lexer": "ipython3",
   "version": "3.7.10"
  }
 },
 "nbformat": 4,
 "nbformat_minor": 5
}
