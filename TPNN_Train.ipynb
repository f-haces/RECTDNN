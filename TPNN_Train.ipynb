{
 "cells": [
  {
   "cell_type": "code",
   "execution_count": 1,
   "id": "4333b7a8",
   "metadata": {},
   "outputs": [],
   "source": [
    "# PYTHON IMPORTS\n",
    "import os, copy, traceback\n",
    "from tqdm.notebook import trange, tqdm\n",
    "import glob\n",
    "\n",
    "# IMAGE IMPORTS \n",
    "from PIL import Image\n",
    "import cv2, tifffile\n",
    "\n",
    "# DATA IMPORTS \n",
    "import random\n",
    "import h5py\n",
    "import numpy as np\n",
    "\n",
    "# PLOTTING\n",
    "import matplotlib.pyplot as plt\n",
    "import matplotlib.cm as cm\n",
    "\n",
    "# NEURAL NETWORK\n",
    "import torch\n",
    "import torch.nn as nn\n",
    "import torch.optim as optim\n",
    "from torch.utils.data import DataLoader, Dataset\n",
    "from torchvision import transforms, datasets\n",
    "from torchvision.transforms import ToPILImage, GaussianBlur\n",
    "from torchvision.transforms import Compose, RandomCrop, ToTensor, Normalize\n",
    "import torch.optim.lr_scheduler as lr_scheduler\n",
    "import torchvision.models as models\n",
    "from sklearn.preprocessing import LabelEncoder, OneHotEncoder\n",
    "\n",
    "# MY OWN CLASSES\n",
    "from TPNN import *\n",
    "from PlottingUtils import *\n",
    "from DataUtils import * \n",
    "\n",
    "Image.MAX_IMAGE_PIXELS = 933120000\n",
    "%matplotlib notebook"
   ]
  },
  {
   "cell_type": "code",
   "execution_count": 2,
   "id": "874397a5",
   "metadata": {},
   "outputs": [
    {
     "data": {
      "application/vnd.jupyter.widget-view+json": {
       "model_id": "2a65240a15d4499fbd0cf942492a4711",
       "version_major": 2,
       "version_minor": 0
      },
      "text/plain": [
       "  0%|          | 0/14 [00:00<?, ?it/s]"
      ]
     },
     "metadata": {},
     "output_type": "display_data"
    },
    {
     "data": {
      "application/vnd.jupyter.widget-view+json": {
       "model_id": "229395b963b84118856df1a35e4fc8fe",
       "version_major": 2,
       "version_minor": 0
      },
      "text/plain": [
       "  0%|          | 0/3 [00:00<?, ?it/s]"
      ]
     },
     "metadata": {},
     "output_type": "display_data"
    }
   ],
   "source": [
    "base_dir = r\"C:\\Users\\fhacesga\\OneDrive - University Of Houston\\AAA_RECTDNN\\data\"\n",
    "\n",
    "input_folder        = f\"{base_dir}/TPNN/in\"\n",
    "val_folder          = f\"{base_dir}/TPNN/val\"\n",
    "train_target_folder = f\"{base_dir}/TPNN/out\"\n",
    "val_target_folder   = f\"{base_dir}/TPNN/val_out\"\n",
    "batch_size          = 2\n",
    "verbose_level       = 0\n",
    "n_pyramids          = 3\n",
    "processing_size     = 512\n",
    "\n",
    "tensor = transforms.Compose([\n",
    "    transforms.ToTensor(),\n",
    "])\n",
    "\n",
    "transform = transforms.Compose([\n",
    "    transforms.RandomRotation(degrees=180),\n",
    "    transforms.RandomHorizontalFlip(),\n",
    "    transforms.RandomVerticalFlip(),\n",
    "    transforms.ToTensor(),\n",
    "])\n",
    "\n",
    "tensor = transforms.Compose([transforms.ToTensor()])\n",
    "\n",
    "train_dataset = NN_Multiclass(input_folder, train_target_folder, transform=transform, \n",
    "                              only_true=True, crop=True, cropsize=1024, n_pyramids=n_pyramids)\n",
    "train_loader  = DataLoader(train_dataset, batch_size=batch_size, shuffle=True, num_workers=0)\n",
    "\n",
    "val_dataset = NN_Multiclass(val_folder, val_target_folder, transform=transform, \n",
    "                            only_true=True, crop=True, cropsize=1024, n_pyramids=n_pyramids)\n",
    "val_loader  = DataLoader(val_dataset, batch_size=1, shuffle=False, num_workers=0)\n",
    "\n",
    "loaders = {'train' : train_loader, \"test\" : val_loader }"
   ]
  },
  {
   "cell_type": "code",
   "execution_count": 3,
   "id": "97acd5c7",
   "metadata": {},
   "outputs": [],
   "source": [
    "def notify(mess, level=4):\n",
    "    if verbose_level >= level:\n",
    "        print(mess)\n",
    "\n",
    "def saveImages(prob_img_or, outputs, filenames, minputs, outputs_folder, rep_id, labels,):\n",
    "    \n",
    "    # IF FOR SOME REASON OUTPUT IS UNBATCHED, BATCH IT\n",
    "    if prob_img_or.ndim == 3:\n",
    "        prob_img_or = prob_img_or.unsqueeze(0)\n",
    "        \n",
    "    # CONVERT TO NUMPY ARRAY\n",
    "    prob_img_or = prob_img_or.numpy()\n",
    "    \n",
    "    # FOR EACH BATCHED OUTPUT\n",
    "    for i in range(len(outputs)):\n",
    "        filename = filenames[i]\n",
    "\n",
    "        # CONVERT TO IMAGE NUMPY ARRAY\n",
    "        prob_img = prob_img_or[i, :, :, :]\n",
    "        prob_img = (prob_img * 255).astype(np.uint8) \n",
    "        prob_img = np.moveaxis(prob_img, [0, 1, 2], [2, 0, 1])\n",
    "\n",
    "        # SAVE TO FILE\n",
    "        myout = probability_to_rgb(prob_img)\n",
    "        myout.save(os.path.join(outputs_folder, f\"{rep_id}_{filename[:-4]}_out.png\"))\n",
    "\n",
    "        # SAVE INPUTS\n",
    "        myinp = Image.fromarray(np.uint8(minputs[i, 0, :, :] * 255))\n",
    "        myinp.save(os.path.join(outputs_folder, f\"{rep_id}_{filename[:-4]}_inp.png\"))\n",
    "\n",
    "        # SAVE OUTPUTS\n",
    "        mylab = class_to_one_hot(labels[i, :, :], prob_img.shape[-1])\n",
    "        mylab = probability_to_rgb(mylab)\n",
    "        mylab.save(os.path.join(outputs_folder, f\"{rep_id}_{filename[:-4]}_lab.png\"))\n",
    "            \n",
    "def train(model, dataloaders, num_epochs=50, \n",
    "          output_dir=f'{base_dir}/TPNN/intermediate_outputs', \n",
    "          learning_rate=5e-4,\n",
    "          device = torch.device(\"cuda:0\"),\n",
    "          continue_from=None,\n",
    "          weights=[1, 1e2, 1e2, 1e2, 1e2]):\n",
    "    \n",
    "    # TRAINING PARAMETERS\n",
    "    weights = torch.tensor(weights).float().to(device)\n",
    "    criterion = nn.CrossEntropyLoss(weight=weights, reduction=\"mean\")\n",
    "    optimizer = optim.Adam(model.parameters(), lr=learning_rate)\n",
    "    learning_rate_scheduler = lr_scheduler.StepLR(optimizer, step_size=10, gamma=0.99)\n",
    "    start_epoch = 0\n",
    "        \n",
    "    if continue_from is not None:\n",
    "        checkpoint = torch.load(continue_from)\n",
    "        model.load_state_dict(checkpoint['model_state_dict'])\n",
    "        optimizer.load_state_dict(checkpoint['optimizer_state_dict'])\n",
    "        for state in optimizer.state.values():\n",
    "            for k, v in state.items():\n",
    "                if isinstance(v, torch.Tensor):\n",
    "                    state[k] = v.cuda()\n",
    "        start_epoch = checkpoint['epoch']\n",
    "        start_loss = checkpoint['loss']\n",
    "        \n",
    "    # SEND MODEL TO GPU\n",
    "    model = model.to(device)\n",
    "    \n",
    "    # MAKE SURE DIRS FOR TEMP OUTPUTS EXIST\n",
    "    if not os.path.exists(output_dir):\n",
    "        os.makedirs(output_dir)\n",
    "        \n",
    "    # STRUCTURES FOR PLOTTING\n",
    "    epoch_losses = {'train' : [], 'test' : []}\n",
    "    iou_lists    = {'train' : [], 'test' : []}\n",
    "    lr_list      = []\n",
    "    fig, axs = init_plotting()\n",
    "        \n",
    "    # LOOP THROUGH EPOCHS\n",
    "    for epoch in range(start_epoch, num_epochs):\n",
    "        notify('Epoch {}/{}'.format(epoch+1, num_epochs), level=1)\n",
    "        notify('-' * 10, level=1)\n",
    "        phases = ['train', 'test']\n",
    "        epoch_loss = {'train' : 0, 'test' : 0}\n",
    "        iou_list = {'train' : [], 'test' : []}      \n",
    "        \n",
    "        # FOR BOTH PHASES\n",
    "        for phase in phases: \n",
    "            if phase == 'train':\n",
    "                model.train()\n",
    "                repeats = range(4)\n",
    "            else:\n",
    "                model.eval()\n",
    "                repeats = range(1)\n",
    "            \n",
    "            # MAKE DIR FOR CURRENT PHASE IF IT DOES NOT EXIST\n",
    "            outputs_folder = os.path.join(output_dir, phase)\n",
    "            if not os.path.exists(outputs_folder):\n",
    "                os.makedirs(outputs_folder)\n",
    "                \n",
    "            # BASELINE MEMORY USAGE                \n",
    "            notify(f\"Prior to Iterations\\t {torch.cuda.memory_allocated() / 1e6}\")\n",
    "            \n",
    "            # COUNT HOW MANY IMAGES\n",
    "            n_images = 0\n",
    "            \n",
    "            # ITERATE OVER REPEATS\n",
    "            for rep_id in tqdm(repeats, disable=verbose_level < 4):\n",
    "                for inputs, labels, filenames in dataloaders[phase]:\n",
    "                    \n",
    "                    # SEND TO GPU\n",
    "                    inputs = inputs.to(device)\n",
    "                    labels = labels.to(device)\n",
    "                    notify(f\"Datasets Moved\\t\\t {torch.cuda.memory_allocated()/ 1e6}\")\n",
    "                    \n",
    "                    # ZERO GRADIENTS AND THROUGH MODEL\n",
    "                    optimizer.zero_grad()\n",
    "                    outputs = model(inputs, resize=False)\n",
    "                    \n",
    "                    notify(f\"Outputs Processed\\t {torch.cuda.memory_allocated() / 1e6}\")\n",
    "                    \n",
    "                    # CALCULATE LOSS AND KEEP TRACK OF IT FOR CURRENT EPOCH\n",
    "                    loss = criterion(outputs, labels) \n",
    "                    epoch_loss[phase] += loss\n",
    "                    iou_list[phase].append(calculate_iou(outputs, labels).detach().cpu().numpy())\n",
    "                    notify(f\"Loss Calculated\\t\\t {torch.cuda.memory_allocated() / 1e6}\")\n",
    "                    \n",
    "                    # COUNT HOW MANY IMAGES\n",
    "                    n_images += inputs.shape[0]\n",
    "                    \n",
    "                    # OPTIMIZE IF PHASE IS TRAINING\n",
    "                    if phase is 'train':\n",
    "                        notify(\"Optimizing\")\n",
    "                        loss.backward()\n",
    "                        optimizer.step()\n",
    "                        notify(f\"Backwards and optimized\\t {torch.cuda.memory_allocated() / 1e6}\")\n",
    "                    \n",
    "                    # SAVE TRAINING IMAGES IF CURRENT STEP REQUIRES IT\n",
    "                    if rep_id % 2 == 0 and rep_id != 0:\n",
    "                        prob_img_or = outputs.detach().cpu()\n",
    "                        minputs     = inputs.detach().cpu().numpy()\n",
    "                        mlabels     = labels.detach().cpu().numpy()\n",
    "                        saveImages(prob_img_or, outputs, filenames, minputs, outputs_folder, rep_id, mlabels)\n",
    "                    \n",
    "                    # EMPTY CACHE\n",
    "                    torch.cuda.empty_cache()\n",
    "                    notify(f\"Cache Emptied\\t\\t {torch.cuda.memory_allocated() / 1e6}\")\n",
    "                    \n",
    "            # METRICS - NORMALIZE EPOCH LOSS AND IOU BY HOW MANY IMAGES\n",
    "            epoch_loss[phase] = epoch_loss[phase].cpu().detach().numpy() / (len(repeats) + n_images)\n",
    "            iou_list[phase]   = np.mean(np.vstack(iou_list[phase]), axis=0)\n",
    "        \n",
    "        # UPDATE LEARNING RATE SCHEDULER\n",
    "        lr_list.append(learning_rate_scheduler.get_lr()[0])\n",
    "        learning_rate_scheduler.step()\n",
    "        \n",
    "        # PLOT, FIRST BY TRANSFERING TO LISTS\n",
    "        for i in phases:\n",
    "            epoch_losses[i].append(epoch_loss[i])\n",
    "            iou_lists[i].append(iou_list[i])\n",
    "        \n",
    "        update_plots([epoch_losses[i] for i in phases], [iou_lists[i] for i in phases], fig, axs, \n",
    "                     colors=[\"r\", \"g\", \"b\", \"k\", \"orange\"]*2,\n",
    "                     annotations=f\"Learning Rate: {lr_list[-1]:.2e}\"\n",
    "                    )\n",
    "        \n",
    "        # SAVE MODEL EVERY TEN EPOCHS\n",
    "        if epoch % 10 == 0:\n",
    "            torch.save({\n",
    "                'epoch': epoch,\n",
    "                'model_state_dict': model.state_dict(),\n",
    "                'optimizer_state_dict': optimizer.state_dict(),\n",
    "                'loss': loss,\n",
    "                'iou_lists' : iou_lists,\n",
    "                'epoch_losses' : epoch_losses,\n",
    "                'lr_list' : lr_list\n",
    "            }, f'{base_dir}/TPNN/checkpoint_091523_pyramids_2.pth')\n",
    "            \n",
    "            torch.save(model, f\"{base_dir}/TPNN/091523_pyramids_2.pth\")\n",
    "        \n",
    "    return model"
   ]
  },
  {
   "cell_type": "code",
   "execution_count": 4,
   "id": "0e8a83ad",
   "metadata": {
    "scrolled": false
   },
   "outputs": [
    {
     "name": "stderr",
     "output_type": "stream",
     "text": [
      "C:\\Users\\fhacesga\\Anaconda3\\envs\\deeplearning\\lib\\site-packages\\torchvision\\models\\_utils.py:209: UserWarning: The parameter 'pretrained' is deprecated since 0.13 and may be removed in the future, please use 'weights' instead.\n",
      "  f\"The parameter '{pretrained_param}' is deprecated since 0.13 and may be removed in the future, \"\n",
      "C:\\Users\\fhacesga\\Anaconda3\\envs\\deeplearning\\lib\\site-packages\\torchvision\\models\\_utils.py:223: UserWarning: Arguments other than a weight enum or `None` for 'weights' are deprecated since 0.13 and may be removed in the future. The current behavior is equivalent to passing `weights=ResNet34_Weights.IMAGENET1K_V1`. You can also use `weights=ResNet34_Weights.DEFAULT` to get the most up-to-date weights.\n",
      "  warnings.warn(msg)\n"
     ]
    },
    {
     "data": {
      "application/javascript": [
       "/* Put everything inside the global mpl namespace */\n",
       "/* global mpl */\n",
       "window.mpl = {};\n",
       "\n",
       "mpl.get_websocket_type = function () {\n",
       "    if (typeof WebSocket !== 'undefined') {\n",
       "        return WebSocket;\n",
       "    } else if (typeof MozWebSocket !== 'undefined') {\n",
       "        return MozWebSocket;\n",
       "    } else {\n",
       "        alert(\n",
       "            'Your browser does not have WebSocket support. ' +\n",
       "                'Please try Chrome, Safari or Firefox ≥ 6. ' +\n",
       "                'Firefox 4 and 5 are also supported but you ' +\n",
       "                'have to enable WebSockets in about:config.'\n",
       "        );\n",
       "    }\n",
       "};\n",
       "\n",
       "mpl.figure = function (figure_id, websocket, ondownload, parent_element) {\n",
       "    this.id = figure_id;\n",
       "\n",
       "    this.ws = websocket;\n",
       "\n",
       "    this.supports_binary = this.ws.binaryType !== undefined;\n",
       "\n",
       "    if (!this.supports_binary) {\n",
       "        var warnings = document.getElementById('mpl-warnings');\n",
       "        if (warnings) {\n",
       "            warnings.style.display = 'block';\n",
       "            warnings.textContent =\n",
       "                'This browser does not support binary websocket messages. ' +\n",
       "                'Performance may be slow.';\n",
       "        }\n",
       "    }\n",
       "\n",
       "    this.imageObj = new Image();\n",
       "\n",
       "    this.context = undefined;\n",
       "    this.message = undefined;\n",
       "    this.canvas = undefined;\n",
       "    this.rubberband_canvas = undefined;\n",
       "    this.rubberband_context = undefined;\n",
       "    this.format_dropdown = undefined;\n",
       "\n",
       "    this.image_mode = 'full';\n",
       "\n",
       "    this.root = document.createElement('div');\n",
       "    this.root.setAttribute('style', 'display: inline-block');\n",
       "    this._root_extra_style(this.root);\n",
       "\n",
       "    parent_element.appendChild(this.root);\n",
       "\n",
       "    this._init_header(this);\n",
       "    this._init_canvas(this);\n",
       "    this._init_toolbar(this);\n",
       "\n",
       "    var fig = this;\n",
       "\n",
       "    this.waiting = false;\n",
       "\n",
       "    this.ws.onopen = function () {\n",
       "        fig.send_message('supports_binary', { value: fig.supports_binary });\n",
       "        fig.send_message('send_image_mode', {});\n",
       "        if (fig.ratio !== 1) {\n",
       "            fig.send_message('set_device_pixel_ratio', {\n",
       "                device_pixel_ratio: fig.ratio,\n",
       "            });\n",
       "        }\n",
       "        fig.send_message('refresh', {});\n",
       "    };\n",
       "\n",
       "    this.imageObj.onload = function () {\n",
       "        if (fig.image_mode === 'full') {\n",
       "            // Full images could contain transparency (where diff images\n",
       "            // almost always do), so we need to clear the canvas so that\n",
       "            // there is no ghosting.\n",
       "            fig.context.clearRect(0, 0, fig.canvas.width, fig.canvas.height);\n",
       "        }\n",
       "        fig.context.drawImage(fig.imageObj, 0, 0);\n",
       "    };\n",
       "\n",
       "    this.imageObj.onunload = function () {\n",
       "        fig.ws.close();\n",
       "    };\n",
       "\n",
       "    this.ws.onmessage = this._make_on_message_function(this);\n",
       "\n",
       "    this.ondownload = ondownload;\n",
       "};\n",
       "\n",
       "mpl.figure.prototype._init_header = function () {\n",
       "    var titlebar = document.createElement('div');\n",
       "    titlebar.classList =\n",
       "        'ui-dialog-titlebar ui-widget-header ui-corner-all ui-helper-clearfix';\n",
       "    var titletext = document.createElement('div');\n",
       "    titletext.classList = 'ui-dialog-title';\n",
       "    titletext.setAttribute(\n",
       "        'style',\n",
       "        'width: 100%; text-align: center; padding: 3px;'\n",
       "    );\n",
       "    titlebar.appendChild(titletext);\n",
       "    this.root.appendChild(titlebar);\n",
       "    this.header = titletext;\n",
       "};\n",
       "\n",
       "mpl.figure.prototype._canvas_extra_style = function (_canvas_div) {};\n",
       "\n",
       "mpl.figure.prototype._root_extra_style = function (_canvas_div) {};\n",
       "\n",
       "mpl.figure.prototype._init_canvas = function () {\n",
       "    var fig = this;\n",
       "\n",
       "    var canvas_div = (this.canvas_div = document.createElement('div'));\n",
       "    canvas_div.setAttribute(\n",
       "        'style',\n",
       "        'border: 1px solid #ddd;' +\n",
       "            'box-sizing: content-box;' +\n",
       "            'clear: both;' +\n",
       "            'min-height: 1px;' +\n",
       "            'min-width: 1px;' +\n",
       "            'outline: 0;' +\n",
       "            'overflow: hidden;' +\n",
       "            'position: relative;' +\n",
       "            'resize: both;'\n",
       "    );\n",
       "\n",
       "    function on_keyboard_event_closure(name) {\n",
       "        return function (event) {\n",
       "            return fig.key_event(event, name);\n",
       "        };\n",
       "    }\n",
       "\n",
       "    canvas_div.addEventListener(\n",
       "        'keydown',\n",
       "        on_keyboard_event_closure('key_press')\n",
       "    );\n",
       "    canvas_div.addEventListener(\n",
       "        'keyup',\n",
       "        on_keyboard_event_closure('key_release')\n",
       "    );\n",
       "\n",
       "    this._canvas_extra_style(canvas_div);\n",
       "    this.root.appendChild(canvas_div);\n",
       "\n",
       "    var canvas = (this.canvas = document.createElement('canvas'));\n",
       "    canvas.classList.add('mpl-canvas');\n",
       "    canvas.setAttribute('style', 'box-sizing: content-box;');\n",
       "\n",
       "    this.context = canvas.getContext('2d');\n",
       "\n",
       "    var backingStore =\n",
       "        this.context.backingStorePixelRatio ||\n",
       "        this.context.webkitBackingStorePixelRatio ||\n",
       "        this.context.mozBackingStorePixelRatio ||\n",
       "        this.context.msBackingStorePixelRatio ||\n",
       "        this.context.oBackingStorePixelRatio ||\n",
       "        this.context.backingStorePixelRatio ||\n",
       "        1;\n",
       "\n",
       "    this.ratio = (window.devicePixelRatio || 1) / backingStore;\n",
       "\n",
       "    var rubberband_canvas = (this.rubberband_canvas = document.createElement(\n",
       "        'canvas'\n",
       "    ));\n",
       "    rubberband_canvas.setAttribute(\n",
       "        'style',\n",
       "        'box-sizing: content-box; position: absolute; left: 0; top: 0; z-index: 1;'\n",
       "    );\n",
       "\n",
       "    // Apply a ponyfill if ResizeObserver is not implemented by browser.\n",
       "    if (this.ResizeObserver === undefined) {\n",
       "        if (window.ResizeObserver !== undefined) {\n",
       "            this.ResizeObserver = window.ResizeObserver;\n",
       "        } else {\n",
       "            var obs = _JSXTOOLS_RESIZE_OBSERVER({});\n",
       "            this.ResizeObserver = obs.ResizeObserver;\n",
       "        }\n",
       "    }\n",
       "\n",
       "    this.resizeObserverInstance = new this.ResizeObserver(function (entries) {\n",
       "        var nentries = entries.length;\n",
       "        for (var i = 0; i < nentries; i++) {\n",
       "            var entry = entries[i];\n",
       "            var width, height;\n",
       "            if (entry.contentBoxSize) {\n",
       "                if (entry.contentBoxSize instanceof Array) {\n",
       "                    // Chrome 84 implements new version of spec.\n",
       "                    width = entry.contentBoxSize[0].inlineSize;\n",
       "                    height = entry.contentBoxSize[0].blockSize;\n",
       "                } else {\n",
       "                    // Firefox implements old version of spec.\n",
       "                    width = entry.contentBoxSize.inlineSize;\n",
       "                    height = entry.contentBoxSize.blockSize;\n",
       "                }\n",
       "            } else {\n",
       "                // Chrome <84 implements even older version of spec.\n",
       "                width = entry.contentRect.width;\n",
       "                height = entry.contentRect.height;\n",
       "            }\n",
       "\n",
       "            // Keep the size of the canvas and rubber band canvas in sync with\n",
       "            // the canvas container.\n",
       "            if (entry.devicePixelContentBoxSize) {\n",
       "                // Chrome 84 implements new version of spec.\n",
       "                canvas.setAttribute(\n",
       "                    'width',\n",
       "                    entry.devicePixelContentBoxSize[0].inlineSize\n",
       "                );\n",
       "                canvas.setAttribute(\n",
       "                    'height',\n",
       "                    entry.devicePixelContentBoxSize[0].blockSize\n",
       "                );\n",
       "            } else {\n",
       "                canvas.setAttribute('width', width * fig.ratio);\n",
       "                canvas.setAttribute('height', height * fig.ratio);\n",
       "            }\n",
       "            canvas.setAttribute(\n",
       "                'style',\n",
       "                'width: ' + width + 'px; height: ' + height + 'px;'\n",
       "            );\n",
       "\n",
       "            rubberband_canvas.setAttribute('width', width);\n",
       "            rubberband_canvas.setAttribute('height', height);\n",
       "\n",
       "            // And update the size in Python. We ignore the initial 0/0 size\n",
       "            // that occurs as the element is placed into the DOM, which should\n",
       "            // otherwise not happen due to the minimum size styling.\n",
       "            if (fig.ws.readyState == 1 && width != 0 && height != 0) {\n",
       "                fig.request_resize(width, height);\n",
       "            }\n",
       "        }\n",
       "    });\n",
       "    this.resizeObserverInstance.observe(canvas_div);\n",
       "\n",
       "    function on_mouse_event_closure(name) {\n",
       "        return function (event) {\n",
       "            return fig.mouse_event(event, name);\n",
       "        };\n",
       "    }\n",
       "\n",
       "    rubberband_canvas.addEventListener(\n",
       "        'mousedown',\n",
       "        on_mouse_event_closure('button_press')\n",
       "    );\n",
       "    rubberband_canvas.addEventListener(\n",
       "        'mouseup',\n",
       "        on_mouse_event_closure('button_release')\n",
       "    );\n",
       "    rubberband_canvas.addEventListener(\n",
       "        'dblclick',\n",
       "        on_mouse_event_closure('dblclick')\n",
       "    );\n",
       "    // Throttle sequential mouse events to 1 every 20ms.\n",
       "    rubberband_canvas.addEventListener(\n",
       "        'mousemove',\n",
       "        on_mouse_event_closure('motion_notify')\n",
       "    );\n",
       "\n",
       "    rubberband_canvas.addEventListener(\n",
       "        'mouseenter',\n",
       "        on_mouse_event_closure('figure_enter')\n",
       "    );\n",
       "    rubberband_canvas.addEventListener(\n",
       "        'mouseleave',\n",
       "        on_mouse_event_closure('figure_leave')\n",
       "    );\n",
       "\n",
       "    canvas_div.addEventListener('wheel', function (event) {\n",
       "        if (event.deltaY < 0) {\n",
       "            event.step = 1;\n",
       "        } else {\n",
       "            event.step = -1;\n",
       "        }\n",
       "        on_mouse_event_closure('scroll')(event);\n",
       "    });\n",
       "\n",
       "    canvas_div.appendChild(canvas);\n",
       "    canvas_div.appendChild(rubberband_canvas);\n",
       "\n",
       "    this.rubberband_context = rubberband_canvas.getContext('2d');\n",
       "    this.rubberband_context.strokeStyle = '#000000';\n",
       "\n",
       "    this._resize_canvas = function (width, height, forward) {\n",
       "        if (forward) {\n",
       "            canvas_div.style.width = width + 'px';\n",
       "            canvas_div.style.height = height + 'px';\n",
       "        }\n",
       "    };\n",
       "\n",
       "    // Disable right mouse context menu.\n",
       "    this.rubberband_canvas.addEventListener('contextmenu', function (_e) {\n",
       "        event.preventDefault();\n",
       "        return false;\n",
       "    });\n",
       "\n",
       "    function set_focus() {\n",
       "        canvas.focus();\n",
       "        canvas_div.focus();\n",
       "    }\n",
       "\n",
       "    window.setTimeout(set_focus, 100);\n",
       "};\n",
       "\n",
       "mpl.figure.prototype._init_toolbar = function () {\n",
       "    var fig = this;\n",
       "\n",
       "    var toolbar = document.createElement('div');\n",
       "    toolbar.classList = 'mpl-toolbar';\n",
       "    this.root.appendChild(toolbar);\n",
       "\n",
       "    function on_click_closure(name) {\n",
       "        return function (_event) {\n",
       "            return fig.toolbar_button_onclick(name);\n",
       "        };\n",
       "    }\n",
       "\n",
       "    function on_mouseover_closure(tooltip) {\n",
       "        return function (event) {\n",
       "            if (!event.currentTarget.disabled) {\n",
       "                return fig.toolbar_button_onmouseover(tooltip);\n",
       "            }\n",
       "        };\n",
       "    }\n",
       "\n",
       "    fig.buttons = {};\n",
       "    var buttonGroup = document.createElement('div');\n",
       "    buttonGroup.classList = 'mpl-button-group';\n",
       "    for (var toolbar_ind in mpl.toolbar_items) {\n",
       "        var name = mpl.toolbar_items[toolbar_ind][0];\n",
       "        var tooltip = mpl.toolbar_items[toolbar_ind][1];\n",
       "        var image = mpl.toolbar_items[toolbar_ind][2];\n",
       "        var method_name = mpl.toolbar_items[toolbar_ind][3];\n",
       "\n",
       "        if (!name) {\n",
       "            /* Instead of a spacer, we start a new button group. */\n",
       "            if (buttonGroup.hasChildNodes()) {\n",
       "                toolbar.appendChild(buttonGroup);\n",
       "            }\n",
       "            buttonGroup = document.createElement('div');\n",
       "            buttonGroup.classList = 'mpl-button-group';\n",
       "            continue;\n",
       "        }\n",
       "\n",
       "        var button = (fig.buttons[name] = document.createElement('button'));\n",
       "        button.classList = 'mpl-widget';\n",
       "        button.setAttribute('role', 'button');\n",
       "        button.setAttribute('aria-disabled', 'false');\n",
       "        button.addEventListener('click', on_click_closure(method_name));\n",
       "        button.addEventListener('mouseover', on_mouseover_closure(tooltip));\n",
       "\n",
       "        var icon_img = document.createElement('img');\n",
       "        icon_img.src = '_images/' + image + '.png';\n",
       "        icon_img.srcset = '_images/' + image + '_large.png 2x';\n",
       "        icon_img.alt = tooltip;\n",
       "        button.appendChild(icon_img);\n",
       "\n",
       "        buttonGroup.appendChild(button);\n",
       "    }\n",
       "\n",
       "    if (buttonGroup.hasChildNodes()) {\n",
       "        toolbar.appendChild(buttonGroup);\n",
       "    }\n",
       "\n",
       "    var fmt_picker = document.createElement('select');\n",
       "    fmt_picker.classList = 'mpl-widget';\n",
       "    toolbar.appendChild(fmt_picker);\n",
       "    this.format_dropdown = fmt_picker;\n",
       "\n",
       "    for (var ind in mpl.extensions) {\n",
       "        var fmt = mpl.extensions[ind];\n",
       "        var option = document.createElement('option');\n",
       "        option.selected = fmt === mpl.default_extension;\n",
       "        option.innerHTML = fmt;\n",
       "        fmt_picker.appendChild(option);\n",
       "    }\n",
       "\n",
       "    var status_bar = document.createElement('span');\n",
       "    status_bar.classList = 'mpl-message';\n",
       "    toolbar.appendChild(status_bar);\n",
       "    this.message = status_bar;\n",
       "};\n",
       "\n",
       "mpl.figure.prototype.request_resize = function (x_pixels, y_pixels) {\n",
       "    // Request matplotlib to resize the figure. Matplotlib will then trigger a resize in the client,\n",
       "    // which will in turn request a refresh of the image.\n",
       "    this.send_message('resize', { width: x_pixels, height: y_pixels });\n",
       "};\n",
       "\n",
       "mpl.figure.prototype.send_message = function (type, properties) {\n",
       "    properties['type'] = type;\n",
       "    properties['figure_id'] = this.id;\n",
       "    this.ws.send(JSON.stringify(properties));\n",
       "};\n",
       "\n",
       "mpl.figure.prototype.send_draw_message = function () {\n",
       "    if (!this.waiting) {\n",
       "        this.waiting = true;\n",
       "        this.ws.send(JSON.stringify({ type: 'draw', figure_id: this.id }));\n",
       "    }\n",
       "};\n",
       "\n",
       "mpl.figure.prototype.handle_save = function (fig, _msg) {\n",
       "    var format_dropdown = fig.format_dropdown;\n",
       "    var format = format_dropdown.options[format_dropdown.selectedIndex].value;\n",
       "    fig.ondownload(fig, format);\n",
       "};\n",
       "\n",
       "mpl.figure.prototype.handle_resize = function (fig, msg) {\n",
       "    var size = msg['size'];\n",
       "    if (size[0] !== fig.canvas.width || size[1] !== fig.canvas.height) {\n",
       "        fig._resize_canvas(size[0], size[1], msg['forward']);\n",
       "        fig.send_message('refresh', {});\n",
       "    }\n",
       "};\n",
       "\n",
       "mpl.figure.prototype.handle_rubberband = function (fig, msg) {\n",
       "    var x0 = msg['x0'] / fig.ratio;\n",
       "    var y0 = (fig.canvas.height - msg['y0']) / fig.ratio;\n",
       "    var x1 = msg['x1'] / fig.ratio;\n",
       "    var y1 = (fig.canvas.height - msg['y1']) / fig.ratio;\n",
       "    x0 = Math.floor(x0) + 0.5;\n",
       "    y0 = Math.floor(y0) + 0.5;\n",
       "    x1 = Math.floor(x1) + 0.5;\n",
       "    y1 = Math.floor(y1) + 0.5;\n",
       "    var min_x = Math.min(x0, x1);\n",
       "    var min_y = Math.min(y0, y1);\n",
       "    var width = Math.abs(x1 - x0);\n",
       "    var height = Math.abs(y1 - y0);\n",
       "\n",
       "    fig.rubberband_context.clearRect(\n",
       "        0,\n",
       "        0,\n",
       "        fig.canvas.width / fig.ratio,\n",
       "        fig.canvas.height / fig.ratio\n",
       "    );\n",
       "\n",
       "    fig.rubberband_context.strokeRect(min_x, min_y, width, height);\n",
       "};\n",
       "\n",
       "mpl.figure.prototype.handle_figure_label = function (fig, msg) {\n",
       "    // Updates the figure title.\n",
       "    fig.header.textContent = msg['label'];\n",
       "};\n",
       "\n",
       "mpl.figure.prototype.handle_cursor = function (fig, msg) {\n",
       "    fig.rubberband_canvas.style.cursor = msg['cursor'];\n",
       "};\n",
       "\n",
       "mpl.figure.prototype.handle_message = function (fig, msg) {\n",
       "    fig.message.textContent = msg['message'];\n",
       "};\n",
       "\n",
       "mpl.figure.prototype.handle_draw = function (fig, _msg) {\n",
       "    // Request the server to send over a new figure.\n",
       "    fig.send_draw_message();\n",
       "};\n",
       "\n",
       "mpl.figure.prototype.handle_image_mode = function (fig, msg) {\n",
       "    fig.image_mode = msg['mode'];\n",
       "};\n",
       "\n",
       "mpl.figure.prototype.handle_history_buttons = function (fig, msg) {\n",
       "    for (var key in msg) {\n",
       "        if (!(key in fig.buttons)) {\n",
       "            continue;\n",
       "        }\n",
       "        fig.buttons[key].disabled = !msg[key];\n",
       "        fig.buttons[key].setAttribute('aria-disabled', !msg[key]);\n",
       "    }\n",
       "};\n",
       "\n",
       "mpl.figure.prototype.handle_navigate_mode = function (fig, msg) {\n",
       "    if (msg['mode'] === 'PAN') {\n",
       "        fig.buttons['Pan'].classList.add('active');\n",
       "        fig.buttons['Zoom'].classList.remove('active');\n",
       "    } else if (msg['mode'] === 'ZOOM') {\n",
       "        fig.buttons['Pan'].classList.remove('active');\n",
       "        fig.buttons['Zoom'].classList.add('active');\n",
       "    } else {\n",
       "        fig.buttons['Pan'].classList.remove('active');\n",
       "        fig.buttons['Zoom'].classList.remove('active');\n",
       "    }\n",
       "};\n",
       "\n",
       "mpl.figure.prototype.updated_canvas_event = function () {\n",
       "    // Called whenever the canvas gets updated.\n",
       "    this.send_message('ack', {});\n",
       "};\n",
       "\n",
       "// A function to construct a web socket function for onmessage handling.\n",
       "// Called in the figure constructor.\n",
       "mpl.figure.prototype._make_on_message_function = function (fig) {\n",
       "    return function socket_on_message(evt) {\n",
       "        if (evt.data instanceof Blob) {\n",
       "            var img = evt.data;\n",
       "            if (img.type !== 'image/png') {\n",
       "                /* FIXME: We get \"Resource interpreted as Image but\n",
       "                 * transferred with MIME type text/plain:\" errors on\n",
       "                 * Chrome.  But how to set the MIME type?  It doesn't seem\n",
       "                 * to be part of the websocket stream */\n",
       "                img.type = 'image/png';\n",
       "            }\n",
       "\n",
       "            /* Free the memory for the previous frames */\n",
       "            if (fig.imageObj.src) {\n",
       "                (window.URL || window.webkitURL).revokeObjectURL(\n",
       "                    fig.imageObj.src\n",
       "                );\n",
       "            }\n",
       "\n",
       "            fig.imageObj.src = (window.URL || window.webkitURL).createObjectURL(\n",
       "                img\n",
       "            );\n",
       "            fig.updated_canvas_event();\n",
       "            fig.waiting = false;\n",
       "            return;\n",
       "        } else if (\n",
       "            typeof evt.data === 'string' &&\n",
       "            evt.data.slice(0, 21) === 'data:image/png;base64'\n",
       "        ) {\n",
       "            fig.imageObj.src = evt.data;\n",
       "            fig.updated_canvas_event();\n",
       "            fig.waiting = false;\n",
       "            return;\n",
       "        }\n",
       "\n",
       "        var msg = JSON.parse(evt.data);\n",
       "        var msg_type = msg['type'];\n",
       "\n",
       "        // Call the  \"handle_{type}\" callback, which takes\n",
       "        // the figure and JSON message as its only arguments.\n",
       "        try {\n",
       "            var callback = fig['handle_' + msg_type];\n",
       "        } catch (e) {\n",
       "            console.log(\n",
       "                \"No handler for the '\" + msg_type + \"' message type: \",\n",
       "                msg\n",
       "            );\n",
       "            return;\n",
       "        }\n",
       "\n",
       "        if (callback) {\n",
       "            try {\n",
       "                // console.log(\"Handling '\" + msg_type + \"' message: \", msg);\n",
       "                callback(fig, msg);\n",
       "            } catch (e) {\n",
       "                console.log(\n",
       "                    \"Exception inside the 'handler_\" + msg_type + \"' callback:\",\n",
       "                    e,\n",
       "                    e.stack,\n",
       "                    msg\n",
       "                );\n",
       "            }\n",
       "        }\n",
       "    };\n",
       "};\n",
       "\n",
       "// from https://stackoverflow.com/questions/1114465/getting-mouse-location-in-canvas\n",
       "mpl.findpos = function (e) {\n",
       "    //this section is from http://www.quirksmode.org/js/events_properties.html\n",
       "    var targ;\n",
       "    if (!e) {\n",
       "        e = window.event;\n",
       "    }\n",
       "    if (e.target) {\n",
       "        targ = e.target;\n",
       "    } else if (e.srcElement) {\n",
       "        targ = e.srcElement;\n",
       "    }\n",
       "    if (targ.nodeType === 3) {\n",
       "        // defeat Safari bug\n",
       "        targ = targ.parentNode;\n",
       "    }\n",
       "\n",
       "    // pageX,Y are the mouse positions relative to the document\n",
       "    var boundingRect = targ.getBoundingClientRect();\n",
       "    var x = e.pageX - (boundingRect.left + document.body.scrollLeft);\n",
       "    var y = e.pageY - (boundingRect.top + document.body.scrollTop);\n",
       "\n",
       "    return { x: x, y: y };\n",
       "};\n",
       "\n",
       "/*\n",
       " * return a copy of an object with only non-object keys\n",
       " * we need this to avoid circular references\n",
       " * https://stackoverflow.com/a/24161582/3208463\n",
       " */\n",
       "function simpleKeys(original) {\n",
       "    return Object.keys(original).reduce(function (obj, key) {\n",
       "        if (typeof original[key] !== 'object') {\n",
       "            obj[key] = original[key];\n",
       "        }\n",
       "        return obj;\n",
       "    }, {});\n",
       "}\n",
       "\n",
       "mpl.figure.prototype.mouse_event = function (event, name) {\n",
       "    var canvas_pos = mpl.findpos(event);\n",
       "\n",
       "    if (name === 'button_press') {\n",
       "        this.canvas.focus();\n",
       "        this.canvas_div.focus();\n",
       "    }\n",
       "\n",
       "    var x = canvas_pos.x * this.ratio;\n",
       "    var y = canvas_pos.y * this.ratio;\n",
       "\n",
       "    this.send_message(name, {\n",
       "        x: x,\n",
       "        y: y,\n",
       "        button: event.button,\n",
       "        step: event.step,\n",
       "        guiEvent: simpleKeys(event),\n",
       "    });\n",
       "\n",
       "    /* This prevents the web browser from automatically changing to\n",
       "     * the text insertion cursor when the button is pressed.  We want\n",
       "     * to control all of the cursor setting manually through the\n",
       "     * 'cursor' event from matplotlib */\n",
       "    event.preventDefault();\n",
       "    return false;\n",
       "};\n",
       "\n",
       "mpl.figure.prototype._key_event_extra = function (_event, _name) {\n",
       "    // Handle any extra behaviour associated with a key event\n",
       "};\n",
       "\n",
       "mpl.figure.prototype.key_event = function (event, name) {\n",
       "    // Prevent repeat events\n",
       "    if (name === 'key_press') {\n",
       "        if (event.key === this._key) {\n",
       "            return;\n",
       "        } else {\n",
       "            this._key = event.key;\n",
       "        }\n",
       "    }\n",
       "    if (name === 'key_release') {\n",
       "        this._key = null;\n",
       "    }\n",
       "\n",
       "    var value = '';\n",
       "    if (event.ctrlKey && event.key !== 'Control') {\n",
       "        value += 'ctrl+';\n",
       "    }\n",
       "    else if (event.altKey && event.key !== 'Alt') {\n",
       "        value += 'alt+';\n",
       "    }\n",
       "    else if (event.shiftKey && event.key !== 'Shift') {\n",
       "        value += 'shift+';\n",
       "    }\n",
       "\n",
       "    value += 'k' + event.key;\n",
       "\n",
       "    this._key_event_extra(event, name);\n",
       "\n",
       "    this.send_message(name, { key: value, guiEvent: simpleKeys(event) });\n",
       "    return false;\n",
       "};\n",
       "\n",
       "mpl.figure.prototype.toolbar_button_onclick = function (name) {\n",
       "    if (name === 'download') {\n",
       "        this.handle_save(this, null);\n",
       "    } else {\n",
       "        this.send_message('toolbar_button', { name: name });\n",
       "    }\n",
       "};\n",
       "\n",
       "mpl.figure.prototype.toolbar_button_onmouseover = function (tooltip) {\n",
       "    this.message.textContent = tooltip;\n",
       "};\n",
       "\n",
       "///////////////// REMAINING CONTENT GENERATED BY embed_js.py /////////////////\n",
       "// prettier-ignore\n",
       "var _JSXTOOLS_RESIZE_OBSERVER=function(A){var t,i=new WeakMap,n=new WeakMap,a=new WeakMap,r=new WeakMap,o=new Set;function s(e){if(!(this instanceof s))throw new TypeError(\"Constructor requires 'new' operator\");i.set(this,e)}function h(){throw new TypeError(\"Function is not a constructor\")}function c(e,t,i,n){e=0 in arguments?Number(arguments[0]):0,t=1 in arguments?Number(arguments[1]):0,i=2 in arguments?Number(arguments[2]):0,n=3 in arguments?Number(arguments[3]):0,this.right=(this.x=this.left=e)+(this.width=i),this.bottom=(this.y=this.top=t)+(this.height=n),Object.freeze(this)}function d(){t=requestAnimationFrame(d);var s=new WeakMap,p=new Set;o.forEach((function(t){r.get(t).forEach((function(i){var r=t instanceof window.SVGElement,o=a.get(t),d=r?0:parseFloat(o.paddingTop),f=r?0:parseFloat(o.paddingRight),l=r?0:parseFloat(o.paddingBottom),u=r?0:parseFloat(o.paddingLeft),g=r?0:parseFloat(o.borderTopWidth),m=r?0:parseFloat(o.borderRightWidth),w=r?0:parseFloat(o.borderBottomWidth),b=u+f,F=d+l,v=(r?0:parseFloat(o.borderLeftWidth))+m,W=g+w,y=r?0:t.offsetHeight-W-t.clientHeight,E=r?0:t.offsetWidth-v-t.clientWidth,R=b+v,z=F+W,M=r?t.width:parseFloat(o.width)-R-E,O=r?t.height:parseFloat(o.height)-z-y;if(n.has(t)){var k=n.get(t);if(k[0]===M&&k[1]===O)return}n.set(t,[M,O]);var S=Object.create(h.prototype);S.target=t,S.contentRect=new c(u,d,M,O),s.has(i)||(s.set(i,[]),p.add(i)),s.get(i).push(S)}))})),p.forEach((function(e){i.get(e).call(e,s.get(e),e)}))}return s.prototype.observe=function(i){if(i instanceof window.Element){r.has(i)||(r.set(i,new Set),o.add(i),a.set(i,window.getComputedStyle(i)));var n=r.get(i);n.has(this)||n.add(this),cancelAnimationFrame(t),t=requestAnimationFrame(d)}},s.prototype.unobserve=function(i){if(i instanceof window.Element&&r.has(i)){var n=r.get(i);n.has(this)&&(n.delete(this),n.size||(r.delete(i),o.delete(i))),n.size||r.delete(i),o.size||cancelAnimationFrame(t)}},A.DOMRectReadOnly=c,A.ResizeObserver=s,A.ResizeObserverEntry=h,A}; // eslint-disable-line\n",
       "mpl.toolbar_items = [[\"Home\", \"Reset original view\", \"fa fa-home icon-home\", \"home\"], [\"Back\", \"Back to previous view\", \"fa fa-arrow-left icon-arrow-left\", \"back\"], [\"Forward\", \"Forward to next view\", \"fa fa-arrow-right icon-arrow-right\", \"forward\"], [\"\", \"\", \"\", \"\"], [\"Pan\", \"Left button pans, Right button zooms\\nx/y fixes axis, CTRL fixes aspect\", \"fa fa-arrows icon-move\", \"pan\"], [\"Zoom\", \"Zoom to rectangle\\nx/y fixes axis\", \"fa fa-square-o icon-check-empty\", \"zoom\"], [\"\", \"\", \"\", \"\"], [\"Download\", \"Download plot\", \"fa fa-floppy-o icon-save\", \"download\"]];\n",
       "\n",
       "mpl.extensions = [\"eps\", \"jpeg\", \"pgf\", \"pdf\", \"png\", \"ps\", \"raw\", \"svg\", \"tif\"];\n",
       "\n",
       "mpl.default_extension = \"png\";/* global mpl */\n",
       "\n",
       "var comm_websocket_adapter = function (comm) {\n",
       "    // Create a \"websocket\"-like object which calls the given IPython comm\n",
       "    // object with the appropriate methods. Currently this is a non binary\n",
       "    // socket, so there is still some room for performance tuning.\n",
       "    var ws = {};\n",
       "\n",
       "    ws.binaryType = comm.kernel.ws.binaryType;\n",
       "    ws.readyState = comm.kernel.ws.readyState;\n",
       "    function updateReadyState(_event) {\n",
       "        if (comm.kernel.ws) {\n",
       "            ws.readyState = comm.kernel.ws.readyState;\n",
       "        } else {\n",
       "            ws.readyState = 3; // Closed state.\n",
       "        }\n",
       "    }\n",
       "    comm.kernel.ws.addEventListener('open', updateReadyState);\n",
       "    comm.kernel.ws.addEventListener('close', updateReadyState);\n",
       "    comm.kernel.ws.addEventListener('error', updateReadyState);\n",
       "\n",
       "    ws.close = function () {\n",
       "        comm.close();\n",
       "    };\n",
       "    ws.send = function (m) {\n",
       "        //console.log('sending', m);\n",
       "        comm.send(m);\n",
       "    };\n",
       "    // Register the callback with on_msg.\n",
       "    comm.on_msg(function (msg) {\n",
       "        //console.log('receiving', msg['content']['data'], msg);\n",
       "        var data = msg['content']['data'];\n",
       "        if (data['blob'] !== undefined) {\n",
       "            data = {\n",
       "                data: new Blob(msg['buffers'], { type: data['blob'] }),\n",
       "            };\n",
       "        }\n",
       "        // Pass the mpl event to the overridden (by mpl) onmessage function.\n",
       "        ws.onmessage(data);\n",
       "    });\n",
       "    return ws;\n",
       "};\n",
       "\n",
       "mpl.mpl_figure_comm = function (comm, msg) {\n",
       "    // This is the function which gets called when the mpl process\n",
       "    // starts-up an IPython Comm through the \"matplotlib\" channel.\n",
       "\n",
       "    var id = msg.content.data.id;\n",
       "    // Get hold of the div created by the display call when the Comm\n",
       "    // socket was opened in Python.\n",
       "    var element = document.getElementById(id);\n",
       "    var ws_proxy = comm_websocket_adapter(comm);\n",
       "\n",
       "    function ondownload(figure, _format) {\n",
       "        window.open(figure.canvas.toDataURL());\n",
       "    }\n",
       "\n",
       "    var fig = new mpl.figure(id, ws_proxy, ondownload, element);\n",
       "\n",
       "    // Call onopen now - mpl needs it, as it is assuming we've passed it a real\n",
       "    // web socket which is closed, not our websocket->open comm proxy.\n",
       "    ws_proxy.onopen();\n",
       "\n",
       "    fig.parent_element = element;\n",
       "    fig.cell_info = mpl.find_output_cell(\"<div id='\" + id + \"'></div>\");\n",
       "    if (!fig.cell_info) {\n",
       "        console.error('Failed to find cell for figure', id, fig);\n",
       "        return;\n",
       "    }\n",
       "    fig.cell_info[0].output_area.element.on(\n",
       "        'cleared',\n",
       "        { fig: fig },\n",
       "        fig._remove_fig_handler\n",
       "    );\n",
       "};\n",
       "\n",
       "mpl.figure.prototype.handle_close = function (fig, msg) {\n",
       "    var width = fig.canvas.width / fig.ratio;\n",
       "    fig.cell_info[0].output_area.element.off(\n",
       "        'cleared',\n",
       "        fig._remove_fig_handler\n",
       "    );\n",
       "    fig.resizeObserverInstance.unobserve(fig.canvas_div);\n",
       "\n",
       "    // Update the output cell to use the data from the current canvas.\n",
       "    fig.push_to_output();\n",
       "    var dataURL = fig.canvas.toDataURL();\n",
       "    // Re-enable the keyboard manager in IPython - without this line, in FF,\n",
       "    // the notebook keyboard shortcuts fail.\n",
       "    IPython.keyboard_manager.enable();\n",
       "    fig.parent_element.innerHTML =\n",
       "        '<img src=\"' + dataURL + '\" width=\"' + width + '\">';\n",
       "    fig.close_ws(fig, msg);\n",
       "};\n",
       "\n",
       "mpl.figure.prototype.close_ws = function (fig, msg) {\n",
       "    fig.send_message('closing', msg);\n",
       "    // fig.ws.close()\n",
       "};\n",
       "\n",
       "mpl.figure.prototype.push_to_output = function (_remove_interactive) {\n",
       "    // Turn the data on the canvas into data in the output cell.\n",
       "    var width = this.canvas.width / this.ratio;\n",
       "    var dataURL = this.canvas.toDataURL();\n",
       "    this.cell_info[1]['text/html'] =\n",
       "        '<img src=\"' + dataURL + '\" width=\"' + width + '\">';\n",
       "};\n",
       "\n",
       "mpl.figure.prototype.updated_canvas_event = function () {\n",
       "    // Tell IPython that the notebook contents must change.\n",
       "    IPython.notebook.set_dirty(true);\n",
       "    this.send_message('ack', {});\n",
       "    var fig = this;\n",
       "    // Wait a second, then push the new image to the DOM so\n",
       "    // that it is saved nicely (might be nice to debounce this).\n",
       "    setTimeout(function () {\n",
       "        fig.push_to_output();\n",
       "    }, 1000);\n",
       "};\n",
       "\n",
       "mpl.figure.prototype._init_toolbar = function () {\n",
       "    var fig = this;\n",
       "\n",
       "    var toolbar = document.createElement('div');\n",
       "    toolbar.classList = 'btn-toolbar';\n",
       "    this.root.appendChild(toolbar);\n",
       "\n",
       "    function on_click_closure(name) {\n",
       "        return function (_event) {\n",
       "            return fig.toolbar_button_onclick(name);\n",
       "        };\n",
       "    }\n",
       "\n",
       "    function on_mouseover_closure(tooltip) {\n",
       "        return function (event) {\n",
       "            if (!event.currentTarget.disabled) {\n",
       "                return fig.toolbar_button_onmouseover(tooltip);\n",
       "            }\n",
       "        };\n",
       "    }\n",
       "\n",
       "    fig.buttons = {};\n",
       "    var buttonGroup = document.createElement('div');\n",
       "    buttonGroup.classList = 'btn-group';\n",
       "    var button;\n",
       "    for (var toolbar_ind in mpl.toolbar_items) {\n",
       "        var name = mpl.toolbar_items[toolbar_ind][0];\n",
       "        var tooltip = mpl.toolbar_items[toolbar_ind][1];\n",
       "        var image = mpl.toolbar_items[toolbar_ind][2];\n",
       "        var method_name = mpl.toolbar_items[toolbar_ind][3];\n",
       "\n",
       "        if (!name) {\n",
       "            /* Instead of a spacer, we start a new button group. */\n",
       "            if (buttonGroup.hasChildNodes()) {\n",
       "                toolbar.appendChild(buttonGroup);\n",
       "            }\n",
       "            buttonGroup = document.createElement('div');\n",
       "            buttonGroup.classList = 'btn-group';\n",
       "            continue;\n",
       "        }\n",
       "\n",
       "        button = fig.buttons[name] = document.createElement('button');\n",
       "        button.classList = 'btn btn-default';\n",
       "        button.href = '#';\n",
       "        button.title = name;\n",
       "        button.innerHTML = '<i class=\"fa ' + image + ' fa-lg\"></i>';\n",
       "        button.addEventListener('click', on_click_closure(method_name));\n",
       "        button.addEventListener('mouseover', on_mouseover_closure(tooltip));\n",
       "        buttonGroup.appendChild(button);\n",
       "    }\n",
       "\n",
       "    if (buttonGroup.hasChildNodes()) {\n",
       "        toolbar.appendChild(buttonGroup);\n",
       "    }\n",
       "\n",
       "    // Add the status bar.\n",
       "    var status_bar = document.createElement('span');\n",
       "    status_bar.classList = 'mpl-message pull-right';\n",
       "    toolbar.appendChild(status_bar);\n",
       "    this.message = status_bar;\n",
       "\n",
       "    // Add the close button to the window.\n",
       "    var buttongrp = document.createElement('div');\n",
       "    buttongrp.classList = 'btn-group inline pull-right';\n",
       "    button = document.createElement('button');\n",
       "    button.classList = 'btn btn-mini btn-primary';\n",
       "    button.href = '#';\n",
       "    button.title = 'Stop Interaction';\n",
       "    button.innerHTML = '<i class=\"fa fa-power-off icon-remove icon-large\"></i>';\n",
       "    button.addEventListener('click', function (_evt) {\n",
       "        fig.handle_close(fig, {});\n",
       "    });\n",
       "    button.addEventListener(\n",
       "        'mouseover',\n",
       "        on_mouseover_closure('Stop Interaction')\n",
       "    );\n",
       "    buttongrp.appendChild(button);\n",
       "    var titlebar = this.root.querySelector('.ui-dialog-titlebar');\n",
       "    titlebar.insertBefore(buttongrp, titlebar.firstChild);\n",
       "};\n",
       "\n",
       "mpl.figure.prototype._remove_fig_handler = function (event) {\n",
       "    var fig = event.data.fig;\n",
       "    if (event.target !== this) {\n",
       "        // Ignore bubbled events from children.\n",
       "        return;\n",
       "    }\n",
       "    fig.close_ws(fig, {});\n",
       "};\n",
       "\n",
       "mpl.figure.prototype._root_extra_style = function (el) {\n",
       "    el.style.boxSizing = 'content-box'; // override notebook setting of border-box.\n",
       "};\n",
       "\n",
       "mpl.figure.prototype._canvas_extra_style = function (el) {\n",
       "    // this is important to make the div 'focusable\n",
       "    el.setAttribute('tabindex', 0);\n",
       "    // reach out to IPython and tell the keyboard manager to turn it's self\n",
       "    // off when our div gets focus\n",
       "\n",
       "    // location in version 3\n",
       "    if (IPython.notebook.keyboard_manager) {\n",
       "        IPython.notebook.keyboard_manager.register_events(el);\n",
       "    } else {\n",
       "        // location in version 2\n",
       "        IPython.keyboard_manager.register_events(el);\n",
       "    }\n",
       "};\n",
       "\n",
       "mpl.figure.prototype._key_event_extra = function (event, _name) {\n",
       "    // Check for shift+enter\n",
       "    if (event.shiftKey && event.which === 13) {\n",
       "        this.canvas_div.blur();\n",
       "        // select the cell after this one\n",
       "        var index = IPython.notebook.find_cell_index(this.cell_info[0]);\n",
       "        IPython.notebook.select(index + 1);\n",
       "    }\n",
       "};\n",
       "\n",
       "mpl.figure.prototype.handle_save = function (fig, _msg) {\n",
       "    fig.ondownload(fig, null);\n",
       "};\n",
       "\n",
       "mpl.find_output_cell = function (html_output) {\n",
       "    // Return the cell and output element which can be found *uniquely* in the notebook.\n",
       "    // Note - this is a bit hacky, but it is done because the \"notebook_saving.Notebook\"\n",
       "    // IPython event is triggered only after the cells have been serialised, which for\n",
       "    // our purposes (turning an active figure into a static one), is too late.\n",
       "    var cells = IPython.notebook.get_cells();\n",
       "    var ncells = cells.length;\n",
       "    for (var i = 0; i < ncells; i++) {\n",
       "        var cell = cells[i];\n",
       "        if (cell.cell_type === 'code') {\n",
       "            for (var j = 0; j < cell.output_area.outputs.length; j++) {\n",
       "                var data = cell.output_area.outputs[j];\n",
       "                if (data.data) {\n",
       "                    // IPython >= 3 moved mimebundle to data attribute of output\n",
       "                    data = data.data;\n",
       "                }\n",
       "                if (data['text/html'] === html_output) {\n",
       "                    return [cell, data, j];\n",
       "                }\n",
       "            }\n",
       "        }\n",
       "    }\n",
       "};\n",
       "\n",
       "// Register the function which deals with the matplotlib target/channel.\n",
       "// The kernel may be null if the page has been refreshed.\n",
       "if (IPython.notebook.kernel !== null) {\n",
       "    IPython.notebook.kernel.comm_manager.register_target(\n",
       "        'matplotlib',\n",
       "        mpl.mpl_figure_comm\n",
       "    );\n",
       "}\n"
      ],
      "text/plain": [
       "<IPython.core.display.Javascript object>"
      ]
     },
     "metadata": {},
     "output_type": "display_data"
    },
    {
     "data": {
      "text/html": [
       "<img src=\"data:image/png;base64,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\" width=\"603.2\">"
      ],
      "text/plain": [
       "<IPython.core.display.HTML object>"
      ]
     },
     "metadata": {},
     "output_type": "display_data"
    },
    {
     "name": "stderr",
     "output_type": "stream",
     "text": [
      "C:\\Users\\fhacesga\\Desktop\\FIRMsDigitizing\\RECTDNN\\TPNN.py:138: UserWarning: Implicit dimension choice for softmax has been deprecated. Change the call to include dim=X as an argument.\n",
      "  output = self.softmax(output)\n",
      "C:\\Users\\fhacesga\\Anaconda3\\envs\\deeplearning\\lib\\site-packages\\torch\\optim\\lr_scheduler.py:382: UserWarning: To get the last learning rate computed by the scheduler, please use `get_last_lr()`.\n",
      "  \"please use `get_last_lr()`.\", UserWarning)\n"
     ]
    },
    {
     "ename": "KeyboardInterrupt",
     "evalue": "",
     "output_type": "error",
     "traceback": [
      "\u001b[1;31m---------------------------------------------------------------------------\u001b[0m",
      "\u001b[1;31mKeyboardInterrupt\u001b[0m                         Traceback (most recent call last)",
      "\u001b[1;32m~\\AppData\\Local\\Temp\\ipykernel_16460\\3345250249.py\u001b[0m in \u001b[0;36m<module>\u001b[1;34m\u001b[0m\n\u001b[0;32m      1\u001b[0m \u001b[0mmodel\u001b[0m \u001b[1;33m=\u001b[0m \u001b[0mTPNN\u001b[0m\u001b[1;33m(\u001b[0m\u001b[0mnum_classes\u001b[0m\u001b[1;33m=\u001b[0m\u001b[1;36m5\u001b[0m\u001b[1;33m,\u001b[0m \u001b[0mfinalpadding\u001b[0m\u001b[1;33m=\u001b[0m\u001b[1;36m1\u001b[0m\u001b[1;33m,\u001b[0m \u001b[0minputsize\u001b[0m\u001b[1;33m=\u001b[0m\u001b[0mn_pyramids\u001b[0m\u001b[1;33m)\u001b[0m\u001b[1;33m\u001b[0m\u001b[1;33m\u001b[0m\u001b[0m\n\u001b[0;32m      2\u001b[0m model = train(model, loaders, num_epochs=2500, learning_rate=1e-3, \n\u001b[1;32m----> 3\u001b[1;33m               continue_from=f'{base_dir}/TPNN/checkpoint_091523_pyramids_1.pth')\n\u001b[0m",
      "\u001b[1;32m~\\AppData\\Local\\Temp\\ipykernel_16460\\3022014856.py\u001b[0m in \u001b[0;36mtrain\u001b[1;34m(model, dataloaders, num_epochs, output_dir, learning_rate, device, continue_from, weights)\u001b[0m\n\u001b[0;32m    102\u001b[0m             \u001b[1;31m# ITERATE OVER REPEATS\u001b[0m\u001b[1;33m\u001b[0m\u001b[1;33m\u001b[0m\u001b[1;33m\u001b[0m\u001b[0m\n\u001b[0;32m    103\u001b[0m             \u001b[1;32mfor\u001b[0m \u001b[0mrep_id\u001b[0m \u001b[1;32min\u001b[0m \u001b[0mtqdm\u001b[0m\u001b[1;33m(\u001b[0m\u001b[0mrepeats\u001b[0m\u001b[1;33m,\u001b[0m \u001b[0mdisable\u001b[0m\u001b[1;33m=\u001b[0m\u001b[0mverbose_level\u001b[0m \u001b[1;33m<\u001b[0m \u001b[1;36m4\u001b[0m\u001b[1;33m)\u001b[0m\u001b[1;33m:\u001b[0m\u001b[1;33m\u001b[0m\u001b[1;33m\u001b[0m\u001b[0m\n\u001b[1;32m--> 104\u001b[1;33m                 \u001b[1;32mfor\u001b[0m \u001b[0minputs\u001b[0m\u001b[1;33m,\u001b[0m \u001b[0mlabels\u001b[0m\u001b[1;33m,\u001b[0m \u001b[0mfilenames\u001b[0m \u001b[1;32min\u001b[0m \u001b[0mdataloaders\u001b[0m\u001b[1;33m[\u001b[0m\u001b[0mphase\u001b[0m\u001b[1;33m]\u001b[0m\u001b[1;33m:\u001b[0m\u001b[1;33m\u001b[0m\u001b[1;33m\u001b[0m\u001b[0m\n\u001b[0m\u001b[0;32m    105\u001b[0m \u001b[1;33m\u001b[0m\u001b[0m\n\u001b[0;32m    106\u001b[0m                     \u001b[1;31m# SEND TO GPU\u001b[0m\u001b[1;33m\u001b[0m\u001b[1;33m\u001b[0m\u001b[1;33m\u001b[0m\u001b[0m\n",
      "\u001b[1;32m~\\Anaconda3\\envs\\deeplearning\\lib\\site-packages\\torch\\utils\\data\\dataloader.py\u001b[0m in \u001b[0;36m__next__\u001b[1;34m(self)\u001b[0m\n\u001b[0;32m    626\u001b[0m                 \u001b[1;31m# TODO(https://github.com/pytorch/pytorch/issues/76750)\u001b[0m\u001b[1;33m\u001b[0m\u001b[1;33m\u001b[0m\u001b[1;33m\u001b[0m\u001b[0m\n\u001b[0;32m    627\u001b[0m                 \u001b[0mself\u001b[0m\u001b[1;33m.\u001b[0m\u001b[0m_reset\u001b[0m\u001b[1;33m(\u001b[0m\u001b[1;33m)\u001b[0m  \u001b[1;31m# type: ignore[call-arg]\u001b[0m\u001b[1;33m\u001b[0m\u001b[1;33m\u001b[0m\u001b[0m\n\u001b[1;32m--> 628\u001b[1;33m             \u001b[0mdata\u001b[0m \u001b[1;33m=\u001b[0m \u001b[0mself\u001b[0m\u001b[1;33m.\u001b[0m\u001b[0m_next_data\u001b[0m\u001b[1;33m(\u001b[0m\u001b[1;33m)\u001b[0m\u001b[1;33m\u001b[0m\u001b[1;33m\u001b[0m\u001b[0m\n\u001b[0m\u001b[0;32m    629\u001b[0m             \u001b[0mself\u001b[0m\u001b[1;33m.\u001b[0m\u001b[0m_num_yielded\u001b[0m \u001b[1;33m+=\u001b[0m \u001b[1;36m1\u001b[0m\u001b[1;33m\u001b[0m\u001b[1;33m\u001b[0m\u001b[0m\n\u001b[0;32m    630\u001b[0m             \u001b[1;32mif\u001b[0m \u001b[0mself\u001b[0m\u001b[1;33m.\u001b[0m\u001b[0m_dataset_kind\u001b[0m \u001b[1;33m==\u001b[0m \u001b[0m_DatasetKind\u001b[0m\u001b[1;33m.\u001b[0m\u001b[0mIterable\u001b[0m \u001b[1;32mand\u001b[0m\u001b[0;31m \u001b[0m\u001b[0;31m\\\u001b[0m\u001b[1;33m\u001b[0m\u001b[1;33m\u001b[0m\u001b[0m\n",
      "\u001b[1;32m~\\Anaconda3\\envs\\deeplearning\\lib\\site-packages\\torch\\utils\\data\\dataloader.py\u001b[0m in \u001b[0;36m_next_data\u001b[1;34m(self)\u001b[0m\n\u001b[0;32m    669\u001b[0m     \u001b[1;32mdef\u001b[0m \u001b[0m_next_data\u001b[0m\u001b[1;33m(\u001b[0m\u001b[0mself\u001b[0m\u001b[1;33m)\u001b[0m\u001b[1;33m:\u001b[0m\u001b[1;33m\u001b[0m\u001b[1;33m\u001b[0m\u001b[0m\n\u001b[0;32m    670\u001b[0m         \u001b[0mindex\u001b[0m \u001b[1;33m=\u001b[0m \u001b[0mself\u001b[0m\u001b[1;33m.\u001b[0m\u001b[0m_next_index\u001b[0m\u001b[1;33m(\u001b[0m\u001b[1;33m)\u001b[0m  \u001b[1;31m# may raise StopIteration\u001b[0m\u001b[1;33m\u001b[0m\u001b[1;33m\u001b[0m\u001b[0m\n\u001b[1;32m--> 671\u001b[1;33m         \u001b[0mdata\u001b[0m \u001b[1;33m=\u001b[0m \u001b[0mself\u001b[0m\u001b[1;33m.\u001b[0m\u001b[0m_dataset_fetcher\u001b[0m\u001b[1;33m.\u001b[0m\u001b[0mfetch\u001b[0m\u001b[1;33m(\u001b[0m\u001b[0mindex\u001b[0m\u001b[1;33m)\u001b[0m  \u001b[1;31m# may raise StopIteration\u001b[0m\u001b[1;33m\u001b[0m\u001b[1;33m\u001b[0m\u001b[0m\n\u001b[0m\u001b[0;32m    672\u001b[0m         \u001b[1;32mif\u001b[0m \u001b[0mself\u001b[0m\u001b[1;33m.\u001b[0m\u001b[0m_pin_memory\u001b[0m\u001b[1;33m:\u001b[0m\u001b[1;33m\u001b[0m\u001b[1;33m\u001b[0m\u001b[0m\n\u001b[0;32m    673\u001b[0m             \u001b[0mdata\u001b[0m \u001b[1;33m=\u001b[0m \u001b[0m_utils\u001b[0m\u001b[1;33m.\u001b[0m\u001b[0mpin_memory\u001b[0m\u001b[1;33m.\u001b[0m\u001b[0mpin_memory\u001b[0m\u001b[1;33m(\u001b[0m\u001b[0mdata\u001b[0m\u001b[1;33m,\u001b[0m \u001b[0mself\u001b[0m\u001b[1;33m.\u001b[0m\u001b[0m_pin_memory_device\u001b[0m\u001b[1;33m)\u001b[0m\u001b[1;33m\u001b[0m\u001b[1;33m\u001b[0m\u001b[0m\n",
      "\u001b[1;32m~\\Anaconda3\\envs\\deeplearning\\lib\\site-packages\\torch\\utils\\data\\_utils\\fetch.py\u001b[0m in \u001b[0;36mfetch\u001b[1;34m(self, possibly_batched_index)\u001b[0m\n\u001b[0;32m     56\u001b[0m                 \u001b[0mdata\u001b[0m \u001b[1;33m=\u001b[0m \u001b[0mself\u001b[0m\u001b[1;33m.\u001b[0m\u001b[0mdataset\u001b[0m\u001b[1;33m.\u001b[0m\u001b[0m__getitems__\u001b[0m\u001b[1;33m(\u001b[0m\u001b[0mpossibly_batched_index\u001b[0m\u001b[1;33m)\u001b[0m\u001b[1;33m\u001b[0m\u001b[1;33m\u001b[0m\u001b[0m\n\u001b[0;32m     57\u001b[0m             \u001b[1;32melse\u001b[0m\u001b[1;33m:\u001b[0m\u001b[1;33m\u001b[0m\u001b[1;33m\u001b[0m\u001b[0m\n\u001b[1;32m---> 58\u001b[1;33m                 \u001b[0mdata\u001b[0m \u001b[1;33m=\u001b[0m \u001b[1;33m[\u001b[0m\u001b[0mself\u001b[0m\u001b[1;33m.\u001b[0m\u001b[0mdataset\u001b[0m\u001b[1;33m[\u001b[0m\u001b[0midx\u001b[0m\u001b[1;33m]\u001b[0m \u001b[1;32mfor\u001b[0m \u001b[0midx\u001b[0m \u001b[1;32min\u001b[0m \u001b[0mpossibly_batched_index\u001b[0m\u001b[1;33m]\u001b[0m\u001b[1;33m\u001b[0m\u001b[1;33m\u001b[0m\u001b[0m\n\u001b[0m\u001b[0;32m     59\u001b[0m         \u001b[1;32melse\u001b[0m\u001b[1;33m:\u001b[0m\u001b[1;33m\u001b[0m\u001b[1;33m\u001b[0m\u001b[0m\n\u001b[0;32m     60\u001b[0m             \u001b[0mdata\u001b[0m \u001b[1;33m=\u001b[0m \u001b[0mself\u001b[0m\u001b[1;33m.\u001b[0m\u001b[0mdataset\u001b[0m\u001b[1;33m[\u001b[0m\u001b[0mpossibly_batched_index\u001b[0m\u001b[1;33m]\u001b[0m\u001b[1;33m\u001b[0m\u001b[1;33m\u001b[0m\u001b[0m\n",
      "\u001b[1;32m~\\Anaconda3\\envs\\deeplearning\\lib\\site-packages\\torch\\utils\\data\\_utils\\fetch.py\u001b[0m in \u001b[0;36m<listcomp>\u001b[1;34m(.0)\u001b[0m\n\u001b[0;32m     56\u001b[0m                 \u001b[0mdata\u001b[0m \u001b[1;33m=\u001b[0m \u001b[0mself\u001b[0m\u001b[1;33m.\u001b[0m\u001b[0mdataset\u001b[0m\u001b[1;33m.\u001b[0m\u001b[0m__getitems__\u001b[0m\u001b[1;33m(\u001b[0m\u001b[0mpossibly_batched_index\u001b[0m\u001b[1;33m)\u001b[0m\u001b[1;33m\u001b[0m\u001b[1;33m\u001b[0m\u001b[0m\n\u001b[0;32m     57\u001b[0m             \u001b[1;32melse\u001b[0m\u001b[1;33m:\u001b[0m\u001b[1;33m\u001b[0m\u001b[1;33m\u001b[0m\u001b[0m\n\u001b[1;32m---> 58\u001b[1;33m                 \u001b[0mdata\u001b[0m \u001b[1;33m=\u001b[0m \u001b[1;33m[\u001b[0m\u001b[0mself\u001b[0m\u001b[1;33m.\u001b[0m\u001b[0mdataset\u001b[0m\u001b[1;33m[\u001b[0m\u001b[0midx\u001b[0m\u001b[1;33m]\u001b[0m \u001b[1;32mfor\u001b[0m \u001b[0midx\u001b[0m \u001b[1;32min\u001b[0m \u001b[0mpossibly_batched_index\u001b[0m\u001b[1;33m]\u001b[0m\u001b[1;33m\u001b[0m\u001b[1;33m\u001b[0m\u001b[0m\n\u001b[0m\u001b[0;32m     59\u001b[0m         \u001b[1;32melse\u001b[0m\u001b[1;33m:\u001b[0m\u001b[1;33m\u001b[0m\u001b[1;33m\u001b[0m\u001b[0m\n\u001b[0;32m     60\u001b[0m             \u001b[0mdata\u001b[0m \u001b[1;33m=\u001b[0m \u001b[0mself\u001b[0m\u001b[1;33m.\u001b[0m\u001b[0mdataset\u001b[0m\u001b[1;33m[\u001b[0m\u001b[0mpossibly_batched_index\u001b[0m\u001b[1;33m]\u001b[0m\u001b[1;33m\u001b[0m\u001b[1;33m\u001b[0m\u001b[0m\n",
      "\u001b[1;32m~\\Desktop\\FIRMsDigitizing\\RECTDNN\\DataUtils.py\u001b[0m in \u001b[0;36m__getitem__\u001b[1;34m(self, index)\u001b[0m\n\u001b[0;32m    120\u001b[0m             \u001b[0mrandom\u001b[0m\u001b[1;33m.\u001b[0m\u001b[0mseed\u001b[0m\u001b[1;33m(\u001b[0m\u001b[0mseed\u001b[0m\u001b[1;33m)\u001b[0m\u001b[1;33m\u001b[0m\u001b[1;33m\u001b[0m\u001b[0m\n\u001b[0;32m    121\u001b[0m             \u001b[0mtorch\u001b[0m\u001b[1;33m.\u001b[0m\u001b[0mmanual_seed\u001b[0m\u001b[1;33m(\u001b[0m\u001b[0mseed\u001b[0m\u001b[1;33m)\u001b[0m\u001b[1;33m\u001b[0m\u001b[1;33m\u001b[0m\u001b[0m\n\u001b[1;32m--> 122\u001b[1;33m             \u001b[0minput_image\u001b[0m \u001b[1;33m=\u001b[0m \u001b[0mself\u001b[0m\u001b[1;33m.\u001b[0m\u001b[0mtransform\u001b[0m\u001b[1;33m(\u001b[0m\u001b[0minput_image\u001b[0m\u001b[1;33m)\u001b[0m\u001b[1;33m\u001b[0m\u001b[1;33m\u001b[0m\u001b[0m\n\u001b[0m\u001b[0;32m    123\u001b[0m             \u001b[0mrandom\u001b[0m\u001b[1;33m.\u001b[0m\u001b[0mseed\u001b[0m\u001b[1;33m(\u001b[0m\u001b[0mseed\u001b[0m\u001b[1;33m)\u001b[0m\u001b[1;33m\u001b[0m\u001b[1;33m\u001b[0m\u001b[0m\n\u001b[0;32m    124\u001b[0m             \u001b[0mtorch\u001b[0m\u001b[1;33m.\u001b[0m\u001b[0mmanual_seed\u001b[0m\u001b[1;33m(\u001b[0m\u001b[0mseed\u001b[0m\u001b[1;33m)\u001b[0m\u001b[1;33m\u001b[0m\u001b[1;33m\u001b[0m\u001b[0m\n",
      "\u001b[1;32m~\\Anaconda3\\envs\\deeplearning\\lib\\site-packages\\torchvision\\transforms\\transforms.py\u001b[0m in \u001b[0;36m__call__\u001b[1;34m(self, img)\u001b[0m\n\u001b[0;32m     93\u001b[0m     \u001b[1;32mdef\u001b[0m \u001b[0m__call__\u001b[0m\u001b[1;33m(\u001b[0m\u001b[0mself\u001b[0m\u001b[1;33m,\u001b[0m \u001b[0mimg\u001b[0m\u001b[1;33m)\u001b[0m\u001b[1;33m:\u001b[0m\u001b[1;33m\u001b[0m\u001b[1;33m\u001b[0m\u001b[0m\n\u001b[0;32m     94\u001b[0m         \u001b[1;32mfor\u001b[0m \u001b[0mt\u001b[0m \u001b[1;32min\u001b[0m \u001b[0mself\u001b[0m\u001b[1;33m.\u001b[0m\u001b[0mtransforms\u001b[0m\u001b[1;33m:\u001b[0m\u001b[1;33m\u001b[0m\u001b[1;33m\u001b[0m\u001b[0m\n\u001b[1;32m---> 95\u001b[1;33m             \u001b[0mimg\u001b[0m \u001b[1;33m=\u001b[0m \u001b[0mt\u001b[0m\u001b[1;33m(\u001b[0m\u001b[0mimg\u001b[0m\u001b[1;33m)\u001b[0m\u001b[1;33m\u001b[0m\u001b[1;33m\u001b[0m\u001b[0m\n\u001b[0m\u001b[0;32m     96\u001b[0m         \u001b[1;32mreturn\u001b[0m \u001b[0mimg\u001b[0m\u001b[1;33m\u001b[0m\u001b[1;33m\u001b[0m\u001b[0m\n\u001b[0;32m     97\u001b[0m \u001b[1;33m\u001b[0m\u001b[0m\n",
      "\u001b[1;32m~\\Anaconda3\\envs\\deeplearning\\lib\\site-packages\\torch\\nn\\modules\\module.py\u001b[0m in \u001b[0;36m_call_impl\u001b[1;34m(self, *input, **kwargs)\u001b[0m\n\u001b[0;32m   1192\u001b[0m         if not (self._backward_hooks or self._forward_hooks or self._forward_pre_hooks or _global_backward_hooks\n\u001b[0;32m   1193\u001b[0m                 or _global_forward_hooks or _global_forward_pre_hooks):\n\u001b[1;32m-> 1194\u001b[1;33m             \u001b[1;32mreturn\u001b[0m \u001b[0mforward_call\u001b[0m\u001b[1;33m(\u001b[0m\u001b[1;33m*\u001b[0m\u001b[0minput\u001b[0m\u001b[1;33m,\u001b[0m \u001b[1;33m**\u001b[0m\u001b[0mkwargs\u001b[0m\u001b[1;33m)\u001b[0m\u001b[1;33m\u001b[0m\u001b[1;33m\u001b[0m\u001b[0m\n\u001b[0m\u001b[0;32m   1195\u001b[0m         \u001b[1;31m# Do not call functions when jit is used\u001b[0m\u001b[1;33m\u001b[0m\u001b[1;33m\u001b[0m\u001b[1;33m\u001b[0m\u001b[0m\n\u001b[0;32m   1196\u001b[0m         \u001b[0mfull_backward_hooks\u001b[0m\u001b[1;33m,\u001b[0m \u001b[0mnon_full_backward_hooks\u001b[0m \u001b[1;33m=\u001b[0m \u001b[1;33m[\u001b[0m\u001b[1;33m]\u001b[0m\u001b[1;33m,\u001b[0m \u001b[1;33m[\u001b[0m\u001b[1;33m]\u001b[0m\u001b[1;33m\u001b[0m\u001b[1;33m\u001b[0m\u001b[0m\n",
      "\u001b[1;32m~\\Anaconda3\\envs\\deeplearning\\lib\\site-packages\\torchvision\\transforms\\transforms.py\u001b[0m in \u001b[0;36mforward\u001b[1;34m(self, img)\u001b[0m\n\u001b[0;32m   1351\u001b[0m         \u001b[0mangle\u001b[0m \u001b[1;33m=\u001b[0m \u001b[0mself\u001b[0m\u001b[1;33m.\u001b[0m\u001b[0mget_params\u001b[0m\u001b[1;33m(\u001b[0m\u001b[0mself\u001b[0m\u001b[1;33m.\u001b[0m\u001b[0mdegrees\u001b[0m\u001b[1;33m)\u001b[0m\u001b[1;33m\u001b[0m\u001b[1;33m\u001b[0m\u001b[0m\n\u001b[0;32m   1352\u001b[0m \u001b[1;33m\u001b[0m\u001b[0m\n\u001b[1;32m-> 1353\u001b[1;33m         \u001b[1;32mreturn\u001b[0m \u001b[0mF\u001b[0m\u001b[1;33m.\u001b[0m\u001b[0mrotate\u001b[0m\u001b[1;33m(\u001b[0m\u001b[0mimg\u001b[0m\u001b[1;33m,\u001b[0m \u001b[0mangle\u001b[0m\u001b[1;33m,\u001b[0m \u001b[0mself\u001b[0m\u001b[1;33m.\u001b[0m\u001b[0minterpolation\u001b[0m\u001b[1;33m,\u001b[0m \u001b[0mself\u001b[0m\u001b[1;33m.\u001b[0m\u001b[0mexpand\u001b[0m\u001b[1;33m,\u001b[0m \u001b[0mself\u001b[0m\u001b[1;33m.\u001b[0m\u001b[0mcenter\u001b[0m\u001b[1;33m,\u001b[0m \u001b[0mfill\u001b[0m\u001b[1;33m)\u001b[0m\u001b[1;33m\u001b[0m\u001b[1;33m\u001b[0m\u001b[0m\n\u001b[0m\u001b[0;32m   1354\u001b[0m \u001b[1;33m\u001b[0m\u001b[0m\n\u001b[0;32m   1355\u001b[0m     \u001b[1;32mdef\u001b[0m \u001b[0m__repr__\u001b[0m\u001b[1;33m(\u001b[0m\u001b[0mself\u001b[0m\u001b[1;33m)\u001b[0m \u001b[1;33m->\u001b[0m \u001b[0mstr\u001b[0m\u001b[1;33m:\u001b[0m\u001b[1;33m\u001b[0m\u001b[1;33m\u001b[0m\u001b[0m\n",
      "\u001b[1;32m~\\Anaconda3\\envs\\deeplearning\\lib\\site-packages\\torchvision\\transforms\\functional.py\u001b[0m in \u001b[0;36mrotate\u001b[1;34m(img, angle, interpolation, expand, center, fill)\u001b[0m\n\u001b[0;32m   1105\u001b[0m     \u001b[1;32mif\u001b[0m \u001b[1;32mnot\u001b[0m \u001b[0misinstance\u001b[0m\u001b[1;33m(\u001b[0m\u001b[0mimg\u001b[0m\u001b[1;33m,\u001b[0m \u001b[0mtorch\u001b[0m\u001b[1;33m.\u001b[0m\u001b[0mTensor\u001b[0m\u001b[1;33m)\u001b[0m\u001b[1;33m:\u001b[0m\u001b[1;33m\u001b[0m\u001b[1;33m\u001b[0m\u001b[0m\n\u001b[0;32m   1106\u001b[0m         \u001b[0mpil_interpolation\u001b[0m \u001b[1;33m=\u001b[0m \u001b[0mpil_modes_mapping\u001b[0m\u001b[1;33m[\u001b[0m\u001b[0minterpolation\u001b[0m\u001b[1;33m]\u001b[0m\u001b[1;33m\u001b[0m\u001b[1;33m\u001b[0m\u001b[0m\n\u001b[1;32m-> 1107\u001b[1;33m         \u001b[1;32mreturn\u001b[0m \u001b[0mF_pil\u001b[0m\u001b[1;33m.\u001b[0m\u001b[0mrotate\u001b[0m\u001b[1;33m(\u001b[0m\u001b[0mimg\u001b[0m\u001b[1;33m,\u001b[0m \u001b[0mangle\u001b[0m\u001b[1;33m=\u001b[0m\u001b[0mangle\u001b[0m\u001b[1;33m,\u001b[0m \u001b[0minterpolation\u001b[0m\u001b[1;33m=\u001b[0m\u001b[0mpil_interpolation\u001b[0m\u001b[1;33m,\u001b[0m \u001b[0mexpand\u001b[0m\u001b[1;33m=\u001b[0m\u001b[0mexpand\u001b[0m\u001b[1;33m,\u001b[0m \u001b[0mcenter\u001b[0m\u001b[1;33m=\u001b[0m\u001b[0mcenter\u001b[0m\u001b[1;33m,\u001b[0m \u001b[0mfill\u001b[0m\u001b[1;33m=\u001b[0m\u001b[0mfill\u001b[0m\u001b[1;33m)\u001b[0m\u001b[1;33m\u001b[0m\u001b[1;33m\u001b[0m\u001b[0m\n\u001b[0m\u001b[0;32m   1108\u001b[0m \u001b[1;33m\u001b[0m\u001b[0m\n\u001b[0;32m   1109\u001b[0m     \u001b[0mcenter_f\u001b[0m \u001b[1;33m=\u001b[0m \u001b[1;33m[\u001b[0m\u001b[1;36m0.0\u001b[0m\u001b[1;33m,\u001b[0m \u001b[1;36m0.0\u001b[0m\u001b[1;33m]\u001b[0m\u001b[1;33m\u001b[0m\u001b[1;33m\u001b[0m\u001b[0m\n",
      "\u001b[1;32m~\\Anaconda3\\envs\\deeplearning\\lib\\site-packages\\torchvision\\transforms\\functional_pil.py\u001b[0m in \u001b[0;36mrotate\u001b[1;34m(img, angle, interpolation, expand, center, fill)\u001b[0m\n\u001b[0;32m    312\u001b[0m \u001b[1;33m\u001b[0m\u001b[0m\n\u001b[0;32m    313\u001b[0m     \u001b[0mopts\u001b[0m \u001b[1;33m=\u001b[0m \u001b[0m_parse_fill\u001b[0m\u001b[1;33m(\u001b[0m\u001b[0mfill\u001b[0m\u001b[1;33m,\u001b[0m \u001b[0mimg\u001b[0m\u001b[1;33m)\u001b[0m\u001b[1;33m\u001b[0m\u001b[1;33m\u001b[0m\u001b[0m\n\u001b[1;32m--> 314\u001b[1;33m     \u001b[1;32mreturn\u001b[0m \u001b[0mimg\u001b[0m\u001b[1;33m.\u001b[0m\u001b[0mrotate\u001b[0m\u001b[1;33m(\u001b[0m\u001b[0mangle\u001b[0m\u001b[1;33m,\u001b[0m \u001b[0minterpolation\u001b[0m\u001b[1;33m,\u001b[0m \u001b[0mexpand\u001b[0m\u001b[1;33m,\u001b[0m \u001b[0mcenter\u001b[0m\u001b[1;33m,\u001b[0m \u001b[1;33m**\u001b[0m\u001b[0mopts\u001b[0m\u001b[1;33m)\u001b[0m\u001b[1;33m\u001b[0m\u001b[1;33m\u001b[0m\u001b[0m\n\u001b[0m\u001b[0;32m    315\u001b[0m \u001b[1;33m\u001b[0m\u001b[0m\n\u001b[0;32m    316\u001b[0m \u001b[1;33m\u001b[0m\u001b[0m\n",
      "\u001b[1;32m~\\Anaconda3\\envs\\deeplearning\\lib\\site-packages\\PIL\\Image.py\u001b[0m in \u001b[0;36mrotate\u001b[1;34m(self, angle, resample, expand, center, translate, fillcolor)\u001b[0m\n\u001b[0;32m   2264\u001b[0m \u001b[1;33m\u001b[0m\u001b[0m\n\u001b[0;32m   2265\u001b[0m         return self.transform(\n\u001b[1;32m-> 2266\u001b[1;33m             \u001b[1;33m(\u001b[0m\u001b[0mw\u001b[0m\u001b[1;33m,\u001b[0m \u001b[0mh\u001b[0m\u001b[1;33m)\u001b[0m\u001b[1;33m,\u001b[0m \u001b[0mTransform\u001b[0m\u001b[1;33m.\u001b[0m\u001b[0mAFFINE\u001b[0m\u001b[1;33m,\u001b[0m \u001b[0mmatrix\u001b[0m\u001b[1;33m,\u001b[0m \u001b[0mresample\u001b[0m\u001b[1;33m,\u001b[0m \u001b[0mfillcolor\u001b[0m\u001b[1;33m=\u001b[0m\u001b[0mfillcolor\u001b[0m\u001b[1;33m\u001b[0m\u001b[1;33m\u001b[0m\u001b[0m\n\u001b[0m\u001b[0;32m   2267\u001b[0m         )\n\u001b[0;32m   2268\u001b[0m \u001b[1;33m\u001b[0m\u001b[0m\n",
      "\u001b[1;32m~\\Anaconda3\\envs\\deeplearning\\lib\\site-packages\\PIL\\Image.py\u001b[0m in \u001b[0;36mtransform\u001b[1;34m(self, size, method, data, resample, fill, fillcolor)\u001b[0m\n\u001b[0;32m   2630\u001b[0m         \u001b[1;32melse\u001b[0m\u001b[1;33m:\u001b[0m\u001b[1;33m\u001b[0m\u001b[1;33m\u001b[0m\u001b[0m\n\u001b[0;32m   2631\u001b[0m             im.__transformer(\n\u001b[1;32m-> 2632\u001b[1;33m                 \u001b[1;33m(\u001b[0m\u001b[1;36m0\u001b[0m\u001b[1;33m,\u001b[0m \u001b[1;36m0\u001b[0m\u001b[1;33m)\u001b[0m \u001b[1;33m+\u001b[0m \u001b[0msize\u001b[0m\u001b[1;33m,\u001b[0m \u001b[0mself\u001b[0m\u001b[1;33m,\u001b[0m \u001b[0mmethod\u001b[0m\u001b[1;33m,\u001b[0m \u001b[0mdata\u001b[0m\u001b[1;33m,\u001b[0m \u001b[0mresample\u001b[0m\u001b[1;33m,\u001b[0m \u001b[0mfillcolor\u001b[0m \u001b[1;32mis\u001b[0m \u001b[1;32mNone\u001b[0m\u001b[1;33m\u001b[0m\u001b[1;33m\u001b[0m\u001b[0m\n\u001b[0m\u001b[0;32m   2633\u001b[0m             )\n\u001b[0;32m   2634\u001b[0m \u001b[1;33m\u001b[0m\u001b[0m\n",
      "\u001b[1;32m~\\Anaconda3\\envs\\deeplearning\\lib\\site-packages\\PIL\\Image.py\u001b[0m in \u001b[0;36m__transformer\u001b[1;34m(self, box, image, method, data, resample, fill)\u001b[0m\n\u001b[0;32m   2712\u001b[0m             \u001b[0mresample\u001b[0m \u001b[1;33m=\u001b[0m \u001b[0mResampling\u001b[0m\u001b[1;33m.\u001b[0m\u001b[0mNEAREST\u001b[0m\u001b[1;33m\u001b[0m\u001b[1;33m\u001b[0m\u001b[0m\n\u001b[0;32m   2713\u001b[0m \u001b[1;33m\u001b[0m\u001b[0m\n\u001b[1;32m-> 2714\u001b[1;33m         \u001b[0mself\u001b[0m\u001b[1;33m.\u001b[0m\u001b[0mim\u001b[0m\u001b[1;33m.\u001b[0m\u001b[0mtransform2\u001b[0m\u001b[1;33m(\u001b[0m\u001b[0mbox\u001b[0m\u001b[1;33m,\u001b[0m \u001b[0mimage\u001b[0m\u001b[1;33m.\u001b[0m\u001b[0mim\u001b[0m\u001b[1;33m,\u001b[0m \u001b[0mmethod\u001b[0m\u001b[1;33m,\u001b[0m \u001b[0mdata\u001b[0m\u001b[1;33m,\u001b[0m \u001b[0mresample\u001b[0m\u001b[1;33m,\u001b[0m \u001b[0mfill\u001b[0m\u001b[1;33m)\u001b[0m\u001b[1;33m\u001b[0m\u001b[1;33m\u001b[0m\u001b[0m\n\u001b[0m\u001b[0;32m   2715\u001b[0m \u001b[1;33m\u001b[0m\u001b[0m\n\u001b[0;32m   2716\u001b[0m     \u001b[1;32mdef\u001b[0m \u001b[0mtranspose\u001b[0m\u001b[1;33m(\u001b[0m\u001b[0mself\u001b[0m\u001b[1;33m,\u001b[0m \u001b[0mmethod\u001b[0m\u001b[1;33m)\u001b[0m\u001b[1;33m:\u001b[0m\u001b[1;33m\u001b[0m\u001b[1;33m\u001b[0m\u001b[0m\n",
      "\u001b[1;31mKeyboardInterrupt\u001b[0m: "
     ]
    }
   ],
   "source": [
    "model = TPNN(num_classes=5, finalpadding=1, inputsize=n_pyramids)\n",
    "model = train(model, loaders, num_epochs=2500, learning_rate=1e-3, \n",
    "              continue_from=f'{base_dir}/TPNN/checkpoint_091523_pyramids_1.pth')"
   ]
  }
 ],
 "metadata": {
  "kernelspec": {
   "display_name": "Python 3 (ipykernel)",
   "language": "python",
   "name": "python3"
  },
  "language_info": {
   "codemirror_mode": {
    "name": "ipython",
    "version": 3
   },
   "file_extension": ".py",
   "mimetype": "text/x-python",
   "name": "python",
   "nbconvert_exporter": "python",
   "pygments_lexer": "ipython3",
   "version": "3.7.16"
  },
  "widgets": {
   "application/vnd.jupyter.widget-state+json": {
    "state": {
     "000a0ce30ef84bfc8ab5b9c23b221bc4": {
      "model_module": "@jupyter-widgets/controls",
      "model_module_version": "1.5.0",
      "model_name": "ProgressStyleModel",
      "state": {
       "description_width": ""
      }
     },
     "0023fc3242d845c783fb42d2e5d68a32": {
      "model_module": "@jupyter-widgets/controls",
      "model_module_version": "1.5.0",
      "model_name": "HBoxModel",
      "state": {
       "children": [
        "IPY_MODEL_5707ef96db714ec0a3f2f9dbe98908c9",
        "IPY_MODEL_8f3469b12b6d41cca996c3174a8a94d3",
        "IPY_MODEL_69fd7e6e13c94f61a5ebb811aa394333"
       ],
       "layout": "IPY_MODEL_5a7402acea7c46b7acc62d232cbaafda"
      }
     },
     "0063857eab204d448a73753b8424dbad": {
      "model_module": "@jupyter-widgets/controls",
      "model_module_version": "1.5.0",
      "model_name": "HTMLModel",
      "state": {
       "layout": "IPY_MODEL_94b354bd31db4240b3abce5878a7f39e",
       "style": "IPY_MODEL_acdac6e8397d4097ba9b78f5a31f3293",
       "value": "100%"
      }
     },
     "009b2957b305415891bb4aed8cebb918": {
      "model_module": "@jupyter-widgets/controls",
      "model_module_version": "1.5.0",
      "model_name": "DescriptionStyleModel",
      "state": {
       "description_width": ""
      }
     },
     "009e9b31c50b45ce98d8d25a7a492aac": {
      "model_module": "@jupyter-widgets/controls",
      "model_module_version": "1.5.0",
      "model_name": "HTMLModel",
      "state": {
       "layout": "IPY_MODEL_f1cadea86f4349a5ab89df8c16368f3f",
       "style": "IPY_MODEL_2a75bc70851b42b69eacea7343414dbb",
       "value": "100%"
      }
     },
     "01d8b4a699f146feb03b588bf69025c8": {
      "model_module": "@jupyter-widgets/base",
      "model_module_version": "1.2.0",
      "model_name": "LayoutModel",
      "state": {}
     },
     "01e5af5b26df48c68e2a60acda563670": {
      "model_module": "@jupyter-widgets/base",
      "model_module_version": "1.2.0",
      "model_name": "LayoutModel",
      "state": {}
     },
     "0264a0f5edbd4d84b646529d5900ab46": {
      "model_module": "@jupyter-widgets/base",
      "model_module_version": "1.2.0",
      "model_name": "LayoutModel",
      "state": {}
     },
     "029642dfa78247a18b8c1e5fe6452dda": {
      "model_module": "@jupyter-widgets/controls",
      "model_module_version": "1.5.0",
      "model_name": "DescriptionStyleModel",
      "state": {
       "description_width": ""
      }
     },
     "0325411a73a24e76a5a828c1af2f77f4": {
      "model_module": "@jupyter-widgets/controls",
      "model_module_version": "1.5.0",
      "model_name": "DescriptionStyleModel",
      "state": {
       "description_width": ""
      }
     },
     "03a96f3c2a024b0f94090e89d31f9e0a": {
      "model_module": "@jupyter-widgets/base",
      "model_module_version": "1.2.0",
      "model_name": "LayoutModel",
      "state": {}
     },
     "055973be849e46938f53875663039720": {
      "model_module": "@jupyter-widgets/base",
      "model_module_version": "1.2.0",
      "model_name": "LayoutModel",
      "state": {}
     },
     "05b3bfdeba8148b8b4f9e8a220a48ad1": {
      "model_module": "@jupyter-widgets/controls",
      "model_module_version": "1.5.0",
      "model_name": "FloatProgressModel",
      "state": {
       "bar_style": "success",
       "layout": "IPY_MODEL_a001f2d8f0ac46178a6eaf43f36f248e",
       "max": 3,
       "style": "IPY_MODEL_b4844e9f7ac840f8932292a6e55f54c4",
       "value": 3
      }
     },
     "066b157993bf44e680f38377fd313131": {
      "model_module": "@jupyter-widgets/controls",
      "model_module_version": "1.5.0",
      "model_name": "HBoxModel",
      "state": {
       "children": [
        "IPY_MODEL_e3713f550fe34209b0ca21db1baa24aa",
        "IPY_MODEL_e5d5e45fb4914148aa722874d820f5b3",
        "IPY_MODEL_dd4cfe4c1c19432d814165e8bfcadbdb"
       ],
       "layout": "IPY_MODEL_8588cbf7c52d4f418839811101f446cc"
      }
     },
     "069d1da5bb904bb092d378f310a159d1": {
      "model_module": "@jupyter-widgets/controls",
      "model_module_version": "1.5.0",
      "model_name": "ProgressStyleModel",
      "state": {
       "description_width": ""
      }
     },
     "06cd218c9ce0406090f8b3651b412fe3": {
      "model_module": "@jupyter-widgets/base",
      "model_module_version": "1.2.0",
      "model_name": "LayoutModel",
      "state": {}
     },
     "06d57aa711be4630a00b75bef4214d4c": {
      "model_module": "@jupyter-widgets/base",
      "model_module_version": "1.2.0",
      "model_name": "LayoutModel",
      "state": {}
     },
     "06e11f82b78947988f5e6a40a8d2f191": {
      "model_module": "@jupyter-widgets/controls",
      "model_module_version": "1.5.0",
      "model_name": "DescriptionStyleModel",
      "state": {
       "description_width": ""
      }
     },
     "06e417298e2e4c93bfd44db90d47d077": {
      "model_module": "@jupyter-widgets/controls",
      "model_module_version": "1.5.0",
      "model_name": "HTMLModel",
      "state": {
       "layout": "IPY_MODEL_3979d488f5ca4bb7b9752f190f516e49",
       "style": "IPY_MODEL_23d02aee6f02490688abd31c971c5a82",
       "value": "100%"
      }
     },
     "07019ea46ea046e0b87c8e4a25c6963b": {
      "model_module": "@jupyter-widgets/controls",
      "model_module_version": "1.5.0",
      "model_name": "HTMLModel",
      "state": {
       "layout": "IPY_MODEL_f27ed8d568e3443b8ebfc12dea126023",
       "style": "IPY_MODEL_8ccf6c8ad7a94dee96a0b8f1c326da34",
       "value": "100%"
      }
     },
     "07d17a674a6348fc8fa411e197b78069": {
      "model_module": "@jupyter-widgets/controls",
      "model_module_version": "1.5.0",
      "model_name": "ProgressStyleModel",
      "state": {
       "description_width": ""
      }
     },
     "080b15f229de42e488724f68e64030ec": {
      "model_module": "@jupyter-widgets/controls",
      "model_module_version": "1.5.0",
      "model_name": "HBoxModel",
      "state": {
       "children": [
        "IPY_MODEL_8bde0caeebf740c4bc667fbfa72d02ed",
        "IPY_MODEL_1485dc20e8a9448a8d53f4b75b48f675",
        "IPY_MODEL_7598e2700b684d90841799187dfcc138"
       ],
       "layout": "IPY_MODEL_30ebffb12b0f4b59abeb9b83b0a6fbdc"
      }
     },
     "084efb17fade418aac55ccf88c99373d": {
      "model_module": "@jupyter-widgets/base",
      "model_module_version": "1.2.0",
      "model_name": "LayoutModel",
      "state": {}
     },
     "09ee37cbf2df41f5b293113c69bb3a24": {
      "model_module": "@jupyter-widgets/base",
      "model_module_version": "1.2.0",
      "model_name": "LayoutModel",
      "state": {}
     },
     "0b1a304bd15f47ec8858bfd900d11484": {
      "model_module": "@jupyter-widgets/controls",
      "model_module_version": "1.5.0",
      "model_name": "HTMLModel",
      "state": {
       "layout": "IPY_MODEL_ba807cc513b74d7d8eeb027c2910b83d",
       "style": "IPY_MODEL_cb816fa26def400fb32343b0dd2f8917",
       "value": " 14/14 [00:37&lt;00:00,  2.73s/it]"
      }
     },
     "0b1b5e2e830e40bb969f2adc1614aea5": {
      "model_module": "@jupyter-widgets/controls",
      "model_module_version": "1.5.0",
      "model_name": "FloatProgressModel",
      "state": {
       "bar_style": "success",
       "layout": "IPY_MODEL_1f96bc76575143e0bbfa6f656bc14379",
       "max": 14,
       "style": "IPY_MODEL_147d6e998a764a2d9829860f250560d9",
       "value": 14
      }
     },
     "0b4691c9dc8c4730b2406addff4465cf": {
      "model_module": "@jupyter-widgets/controls",
      "model_module_version": "1.5.0",
      "model_name": "HTMLModel",
      "state": {
       "layout": "IPY_MODEL_45f72b16772f40e081fb9d967266f68d",
       "style": "IPY_MODEL_43813cdb3cc948f49df4d4f3c7bbca4d",
       "value": "100%"
      }
     },
     "0b69df04be5841c59960a17eb4f82d76": {
      "model_module": "@jupyter-widgets/controls",
      "model_module_version": "1.5.0",
      "model_name": "HBoxModel",
      "state": {
       "children": [
        "IPY_MODEL_aef0ceb8c0ae4015b63ea8b2d521df89",
        "IPY_MODEL_749e6b87082c4e4bbdd4030cad16b4ca",
        "IPY_MODEL_1ce6f12be1c846d6b0b2f907eb606fa8"
       ],
       "layout": "IPY_MODEL_26ee41edcc1d4611b2c3bf8d590a98f1"
      }
     },
     "0b79ec824d3b4d8aa3cae468021e6ea0": {
      "model_module": "@jupyter-widgets/base",
      "model_module_version": "1.2.0",
      "model_name": "LayoutModel",
      "state": {}
     },
     "0bca4e3d211e481b930b97cb27172398": {
      "model_module": "@jupyter-widgets/controls",
      "model_module_version": "1.5.0",
      "model_name": "HTMLModel",
      "state": {
       "layout": "IPY_MODEL_d2089328393446879bd5bea14c4c46d4",
       "style": "IPY_MODEL_acda4f5b396441189693bf7bffcb701c",
       "value": "100%"
      }
     },
     "0bdac01ac9714d238307c195beb0e4d6": {
      "model_module": "@jupyter-widgets/controls",
      "model_module_version": "1.5.0",
      "model_name": "ProgressStyleModel",
      "state": {
       "description_width": ""
      }
     },
     "0cb625922b5f481f85c9215f9f4b3d23": {
      "model_module": "@jupyter-widgets/base",
      "model_module_version": "1.2.0",
      "model_name": "LayoutModel",
      "state": {}
     },
     "0d06caff45da43a387feb0da28b050fb": {
      "model_module": "@jupyter-widgets/base",
      "model_module_version": "1.2.0",
      "model_name": "LayoutModel",
      "state": {}
     },
     "0d313cc29bcc46dfb446da66fa807e59": {
      "model_module": "@jupyter-widgets/controls",
      "model_module_version": "1.5.0",
      "model_name": "HBoxModel",
      "state": {
       "children": [
        "IPY_MODEL_83c2fac7843c4663a1b118a4efb743db",
        "IPY_MODEL_fa70d6fcb22147d0955df9e8bddc056c",
        "IPY_MODEL_b95eedb43b064ce789790750e2c53bb5"
       ],
       "layout": "IPY_MODEL_2a462a43f7d74fce8b387d4a583712ec"
      }
     },
     "0d3409116f40446cbda24b66b80c0548": {
      "model_module": "@jupyter-widgets/controls",
      "model_module_version": "1.5.0",
      "model_name": "FloatProgressModel",
      "state": {
       "bar_style": "success",
       "layout": "IPY_MODEL_69ba768c93bf4d2585127c9dd8cca2a1",
       "max": 3,
       "style": "IPY_MODEL_e8f26801067b4ef1828250d9824be275",
       "value": 3
      }
     },
     "0d4bc172676c4414864818a4ac6416fe": {
      "model_module": "@jupyter-widgets/controls",
      "model_module_version": "1.5.0",
      "model_name": "HTMLModel",
      "state": {
       "layout": "IPY_MODEL_199baf487d344705bd0e350dbae70ae1",
       "style": "IPY_MODEL_06e11f82b78947988f5e6a40a8d2f191",
       "value": "100%"
      }
     },
     "0d4cdb3348194428b360906169fcc25e": {
      "model_module": "@jupyter-widgets/base",
      "model_module_version": "1.2.0",
      "model_name": "LayoutModel",
      "state": {}
     },
     "0d5bdf9af54d439ca3f4b690da144284": {
      "model_module": "@jupyter-widgets/controls",
      "model_module_version": "1.5.0",
      "model_name": "HTMLModel",
      "state": {
       "layout": "IPY_MODEL_32e522644e3548eeb2a61abd4431c1dc",
       "style": "IPY_MODEL_6598381da8a44dae8d3e17c72ca74f0d",
       "value": "100%"
      }
     },
     "0dc955968bf4464581e4aff52c7e0667": {
      "model_module": "@jupyter-widgets/controls",
      "model_module_version": "1.5.0",
      "model_name": "HTMLModel",
      "state": {
       "layout": "IPY_MODEL_b1a71496bea04ea984d4eaf411c2d37c",
       "style": "IPY_MODEL_22eb8c8a0e00490a9134f86bf95f647a",
       "value": " 3/3 [00:11&lt;00:00,  4.32s/it]"
      }
     },
     "0eaa5fd6d17d42739186b27b186fa2d4": {
      "model_module": "@jupyter-widgets/base",
      "model_module_version": "1.2.0",
      "model_name": "LayoutModel",
      "state": {}
     },
     "0eb10b760dc54f0697396bb1551ea804": {
      "model_module": "@jupyter-widgets/controls",
      "model_module_version": "1.5.0",
      "model_name": "FloatProgressModel",
      "state": {
       "bar_style": "success",
       "layout": "IPY_MODEL_4249d3d2ad154f738789fb624a8e0867",
       "max": 14,
       "style": "IPY_MODEL_5976186c6a0042c2b496154953e7726d",
       "value": 14
      }
     },
     "0f08dbddfbf34a21a5d145735909cfec": {
      "model_module": "@jupyter-widgets/base",
      "model_module_version": "1.2.0",
      "model_name": "LayoutModel",
      "state": {}
     },
     "0f26d84da7c14a52a03a1d4cfbbc0405": {
      "model_module": "@jupyter-widgets/controls",
      "model_module_version": "1.5.0",
      "model_name": "DescriptionStyleModel",
      "state": {
       "description_width": ""
      }
     },
     "0f9c8d0f704c4e5ba707cf9fc4bd45ae": {
      "model_module": "@jupyter-widgets/controls",
      "model_module_version": "1.5.0",
      "model_name": "HTMLModel",
      "state": {
       "layout": "IPY_MODEL_4fcce8713d9f40efa519fad4c3f6d159",
       "style": "IPY_MODEL_287a7573648040f38d693b279d747f3b",
       "value": "100%"
      }
     },
     "1004c413f391408aa53526d8882d9ea5": {
      "model_module": "@jupyter-widgets/controls",
      "model_module_version": "1.5.0",
      "model_name": "HTMLModel",
      "state": {
       "layout": "IPY_MODEL_98cb9a5f782d406992c4ab9ddc0d89c4",
       "style": "IPY_MODEL_583d1f1adf7746b78eeac541b547405b",
       "value": "100%"
      }
     },
     "10e39dc37bd944b3a6cea613c2c089f3": {
      "model_module": "@jupyter-widgets/controls",
      "model_module_version": "1.5.0",
      "model_name": "DescriptionStyleModel",
      "state": {
       "description_width": ""
      }
     },
     "115a126a5dc14d9e9e0c1a91e79ef53e": {
      "model_module": "@jupyter-widgets/base",
      "model_module_version": "1.2.0",
      "model_name": "LayoutModel",
      "state": {}
     },
     "11d0dc6ff6db4abe8434128bba74e17a": {
      "model_module": "@jupyter-widgets/controls",
      "model_module_version": "1.5.0",
      "model_name": "DescriptionStyleModel",
      "state": {
       "description_width": ""
      }
     },
     "11fddfdf1de84920ae47280c167037ea": {
      "model_module": "@jupyter-widgets/controls",
      "model_module_version": "1.5.0",
      "model_name": "HBoxModel",
      "state": {
       "children": [
        "IPY_MODEL_d7843afa00d04ccfa17c4f7a2c0ead9c",
        "IPY_MODEL_b706432285f34e75ae5cff63bc0f811e",
        "IPY_MODEL_8039000c118c4b35bc9ffcc4d13b27f3"
       ],
       "layout": "IPY_MODEL_fc340e178dcf4841a50d791a1e61b133"
      }
     },
     "147d6e998a764a2d9829860f250560d9": {
      "model_module": "@jupyter-widgets/controls",
      "model_module_version": "1.5.0",
      "model_name": "ProgressStyleModel",
      "state": {
       "description_width": ""
      }
     },
     "1485dc20e8a9448a8d53f4b75b48f675": {
      "model_module": "@jupyter-widgets/controls",
      "model_module_version": "1.5.0",
      "model_name": "FloatProgressModel",
      "state": {
       "bar_style": "danger",
       "layout": "IPY_MODEL_305aca9f3f244ad0b9b26ed91ec3af33",
       "max": 14,
       "style": "IPY_MODEL_18d7ef9ee88a455dbbfac965b15c9e1a",
       "value": 10
      }
     },
     "1574450acc874b6f9d2c6fa210c91894": {
      "model_module": "@jupyter-widgets/base",
      "model_module_version": "1.2.0",
      "model_name": "LayoutModel",
      "state": {}
     },
     "16db80d7528e45a79bb7708b65544c05": {
      "model_module": "@jupyter-widgets/controls",
      "model_module_version": "1.5.0",
      "model_name": "FloatProgressModel",
      "state": {
       "bar_style": "success",
       "layout": "IPY_MODEL_8d4c233f2bd34fc785689c28a4443ae4",
       "max": 3,
       "style": "IPY_MODEL_5d60a27d33a64fe0b9065d67b7327045",
       "value": 3
      }
     },
     "16fb2ba10ca54fe5b113a07e4b74a364": {
      "model_module": "@jupyter-widgets/controls",
      "model_module_version": "1.5.0",
      "model_name": "FloatProgressModel",
      "state": {
       "bar_style": "success",
       "layout": "IPY_MODEL_edf5997f4a0c488abc2bd51d603e413b",
       "max": 3,
       "style": "IPY_MODEL_8184abafd437439481a39fe8f50c41bf",
       "value": 3
      }
     },
     "1770df0cfa014ba89fca32d9ccf66276": {
      "model_module": "@jupyter-widgets/base",
      "model_module_version": "1.2.0",
      "model_name": "LayoutModel",
      "state": {}
     },
     "17800447be014770ae05c74ce802f81c": {
      "model_module": "@jupyter-widgets/controls",
      "model_module_version": "1.5.0",
      "model_name": "DescriptionStyleModel",
      "state": {
       "description_width": ""
      }
     },
     "18d7ef9ee88a455dbbfac965b15c9e1a": {
      "model_module": "@jupyter-widgets/controls",
      "model_module_version": "1.5.0",
      "model_name": "ProgressStyleModel",
      "state": {
       "description_width": ""
      }
     },
     "18fb54df65384bb191ef2dd090fb1024": {
      "model_module": "@jupyter-widgets/base",
      "model_module_version": "1.2.0",
      "model_name": "LayoutModel",
      "state": {}
     },
     "195b90f25ae447488562295c171c2e4d": {
      "model_module": "@jupyter-widgets/controls",
      "model_module_version": "1.5.0",
      "model_name": "DescriptionStyleModel",
      "state": {
       "description_width": ""
      }
     },
     "195bf44553064ef9b5c442ed7f8d14c0": {
      "model_module": "@jupyter-widgets/controls",
      "model_module_version": "1.5.0",
      "model_name": "FloatProgressModel",
      "state": {
       "bar_style": "success",
       "layout": "IPY_MODEL_a457bdaff0b54319a7e04193fee288ff",
       "max": 14,
       "style": "IPY_MODEL_5d64f8724c144e37b875cd67b10ec38b",
       "value": 14
      }
     },
     "199baf487d344705bd0e350dbae70ae1": {
      "model_module": "@jupyter-widgets/base",
      "model_module_version": "1.2.0",
      "model_name": "LayoutModel",
      "state": {}
     },
     "19ea34ec07da4d61acec8c855bbc02bf": {
      "model_module": "@jupyter-widgets/base",
      "model_module_version": "1.2.0",
      "model_name": "LayoutModel",
      "state": {}
     },
     "1b128390ad5d40609c6853ee0320d36b": {
      "model_module": "@jupyter-widgets/controls",
      "model_module_version": "1.5.0",
      "model_name": "FloatProgressModel",
      "state": {
       "bar_style": "success",
       "layout": "IPY_MODEL_be41d6ae9f344b5ba9b383d3d5c484bf",
       "max": 3,
       "style": "IPY_MODEL_07d17a674a6348fc8fa411e197b78069",
       "value": 3
      }
     },
     "1b3e9c32128b4afd82e6239a2c210fd1": {
      "model_module": "@jupyter-widgets/base",
      "model_module_version": "1.2.0",
      "model_name": "LayoutModel",
      "state": {}
     },
     "1bb5e4ab089345e486e8cb7702e2a389": {
      "model_module": "@jupyter-widgets/controls",
      "model_module_version": "1.5.0",
      "model_name": "HBoxModel",
      "state": {
       "children": [
        "IPY_MODEL_b4a6ca293cf340b89bc8cee747bd4df1",
        "IPY_MODEL_25903453397444dc8539ba4a20d941d7",
        "IPY_MODEL_4c514c61a1824da0bb353e154c21288e"
       ],
       "layout": "IPY_MODEL_44d1cb966cd74d34b917a08160071f86"
      }
     },
     "1c4bcfb11581445a8d46ce754ec37180": {
      "model_module": "@jupyter-widgets/base",
      "model_module_version": "1.2.0",
      "model_name": "LayoutModel",
      "state": {}
     },
     "1c5a097cc6654b498bb5d102de2ff9a9": {
      "model_module": "@jupyter-widgets/controls",
      "model_module_version": "1.5.0",
      "model_name": "HBoxModel",
      "state": {
       "children": [
        "IPY_MODEL_f3448abc46c64dcc99030e01f7f7c0ad",
        "IPY_MODEL_0eb10b760dc54f0697396bb1551ea804",
        "IPY_MODEL_e6344aec656a4e2ebe984c2af55086ee"
       ],
       "layout": "IPY_MODEL_30edfff582484b6493b79792a84b5d78"
      }
     },
     "1ce6f12be1c846d6b0b2f907eb606fa8": {
      "model_module": "@jupyter-widgets/controls",
      "model_module_version": "1.5.0",
      "model_name": "HTMLModel",
      "state": {
       "layout": "IPY_MODEL_93d601e2d59e468bb0a2e59df885b6bb",
       "style": "IPY_MODEL_6022fd1d8b704696a3ea76aed0286917",
       "value": " 14/14 [00:34&lt;00:00,  2.58s/it]"
      }
     },
     "1d307ce0a82445ba9e28c933d9dc26c9": {
      "model_module": "@jupyter-widgets/controls",
      "model_module_version": "1.5.0",
      "model_name": "HBoxModel",
      "state": {
       "children": [
        "IPY_MODEL_ec90cfce9177485b883662ef681ad8d6",
        "IPY_MODEL_d508b30885034954883d0ecb2f25290a",
        "IPY_MODEL_7863273832e24bb2b5709eec56869f46"
       ],
       "layout": "IPY_MODEL_e704b69e2c0147598b87d70959cc1d19"
      }
     },
     "1ea51bc560ca4022bb1a949c79a0f734": {
      "model_module": "@jupyter-widgets/controls",
      "model_module_version": "1.5.0",
      "model_name": "HTMLModel",
      "state": {
       "layout": "IPY_MODEL_468581f8cddc4e7bb1610ac6320b66b7",
       "style": "IPY_MODEL_d13dd26971b44151b9d2858eba28a261",
       "value": "100%"
      }
     },
     "1f96bc76575143e0bbfa6f656bc14379": {
      "model_module": "@jupyter-widgets/base",
      "model_module_version": "1.2.0",
      "model_name": "LayoutModel",
      "state": {}
     },
     "1f98f10a0be946e8a023ccbd3bb84e77": {
      "model_module": "@jupyter-widgets/base",
      "model_module_version": "1.2.0",
      "model_name": "LayoutModel",
      "state": {}
     },
     "1fc2b21844534159a368b1806fac3a9b": {
      "model_module": "@jupyter-widgets/controls",
      "model_module_version": "1.5.0",
      "model_name": "DescriptionStyleModel",
      "state": {
       "description_width": ""
      }
     },
     "1fc82bd317434156a2e9298ba5e183fd": {
      "model_module": "@jupyter-widgets/controls",
      "model_module_version": "1.5.0",
      "model_name": "HTMLModel",
      "state": {
       "layout": "IPY_MODEL_cc49fe955bc9415abe5836ccaad61025",
       "style": "IPY_MODEL_ddd0a93088564db392114ce48622e704",
       "value": "100%"
      }
     },
     "1fe284f8d07f40878ff479927110d9b2": {
      "model_module": "@jupyter-widgets/controls",
      "model_module_version": "1.5.0",
      "model_name": "HBoxModel",
      "state": {
       "children": [
        "IPY_MODEL_d79d6b73af2144729bed6a955c95e6e1",
        "IPY_MODEL_c2fde99dd01245ec95f086a3473cf135",
        "IPY_MODEL_a0a6992b1429433fbbbaf3d5f05d24c3"
       ],
       "layout": "IPY_MODEL_98307e1ba8e542d28735e73168500439"
      }
     },
     "2014c622957f4172bf5538e7032073d7": {
      "model_module": "@jupyter-widgets/base",
      "model_module_version": "1.2.0",
      "model_name": "LayoutModel",
      "state": {}
     },
     "20e2e54ff7b6404a8ef36f22b44b6529": {
      "model_module": "@jupyter-widgets/controls",
      "model_module_version": "1.5.0",
      "model_name": "FloatProgressModel",
      "state": {
       "bar_style": "success",
       "layout": "IPY_MODEL_fdb9a369ccea4ed5983d9d8248c46c5d",
       "max": 14,
       "style": "IPY_MODEL_cd78b7965d4d428a8cb50a5b211e9793",
       "value": 14
      }
     },
     "212dcdc1e2d240d883b18393d45acda8": {
      "model_module": "@jupyter-widgets/base",
      "model_module_version": "1.2.0",
      "model_name": "LayoutModel",
      "state": {}
     },
     "2170228775ec4e85803342171d2bcc44": {
      "model_module": "@jupyter-widgets/base",
      "model_module_version": "1.2.0",
      "model_name": "LayoutModel",
      "state": {}
     },
     "219404a0aa80406fba4e1a59864e213e": {
      "model_module": "@jupyter-widgets/base",
      "model_module_version": "1.2.0",
      "model_name": "LayoutModel",
      "state": {}
     },
     "219afd487156452a86e2406576ecfcc9": {
      "model_module": "@jupyter-widgets/base",
      "model_module_version": "1.2.0",
      "model_name": "LayoutModel",
      "state": {}
     },
     "21b051ce1eb44d588eb8484bfb57c09c": {
      "model_module": "@jupyter-widgets/controls",
      "model_module_version": "1.5.0",
      "model_name": "HTMLModel",
      "state": {
       "layout": "IPY_MODEL_8b16a795483843d3b70dba6e1fd26a29",
       "style": "IPY_MODEL_845af8d2da2a4ab4ad8df8b4e2341619",
       "value": " 14/14 [00:34&lt;00:00,  2.59s/it]"
      }
     },
     "21d4e7e9c0ce4ddda97e55cf9f588e7c": {
      "model_module": "@jupyter-widgets/base",
      "model_module_version": "1.2.0",
      "model_name": "LayoutModel",
      "state": {}
     },
     "229395b963b84118856df1a35e4fc8fe": {
      "model_module": "@jupyter-widgets/controls",
      "model_module_version": "1.5.0",
      "model_name": "HBoxModel",
      "state": {
       "children": [
        "IPY_MODEL_dcca8bf40bd64061b09a211cc68bba61",
        "IPY_MODEL_1b128390ad5d40609c6853ee0320d36b",
        "IPY_MODEL_82fb3cf99ebb4e96ac943460c9281ad7"
       ],
       "layout": "IPY_MODEL_e59fd9367547423fbe88c0a69e5b5d4f"
      }
     },
     "22eb8c8a0e00490a9134f86bf95f647a": {
      "model_module": "@jupyter-widgets/controls",
      "model_module_version": "1.5.0",
      "model_name": "DescriptionStyleModel",
      "state": {
       "description_width": ""
      }
     },
     "22fd4ea1bcd34be88b6b8c7fe475ca29": {
      "model_module": "@jupyter-widgets/controls",
      "model_module_version": "1.5.0",
      "model_name": "HBoxModel",
      "state": {
       "children": [
        "IPY_MODEL_417fab544a4646ed858872a9006749d0",
        "IPY_MODEL_16fb2ba10ca54fe5b113a07e4b74a364",
        "IPY_MODEL_eba97bc2fe554e4d89a75a68452728ea"
       ],
       "layout": "IPY_MODEL_0d4cdb3348194428b360906169fcc25e"
      }
     },
     "23242f0b8c324c04b28740701db618b7": {
      "model_module": "@jupyter-widgets/controls",
      "model_module_version": "1.5.0",
      "model_name": "HBoxModel",
      "state": {
       "children": [
        "IPY_MODEL_802c5562f59f42ef96997de1b9feb3b5",
        "IPY_MODEL_5082c28037254c02a2c7b11b1fec3d24",
        "IPY_MODEL_cb08a9ff3d324eb28b1c29892c887232"
       ],
       "layout": "IPY_MODEL_01d8b4a699f146feb03b588bf69025c8"
      }
     },
     "234e24831a0f4f43bc69f819aff734ef": {
      "model_module": "@jupyter-widgets/base",
      "model_module_version": "1.2.0",
      "model_name": "LayoutModel",
      "state": {}
     },
     "23d02aee6f02490688abd31c971c5a82": {
      "model_module": "@jupyter-widgets/controls",
      "model_module_version": "1.5.0",
      "model_name": "DescriptionStyleModel",
      "state": {
       "description_width": ""
      }
     },
     "23f649b8681c4860bb7c7d5a1e876cac": {
      "model_module": "@jupyter-widgets/base",
      "model_module_version": "1.2.0",
      "model_name": "LayoutModel",
      "state": {}
     },
     "23ff1d5181ff474a8548c4341dace698": {
      "model_module": "@jupyter-widgets/controls",
      "model_module_version": "1.5.0",
      "model_name": "DescriptionStyleModel",
      "state": {
       "description_width": ""
      }
     },
     "2493d03c7bd34717904cab4538dd29ad": {
      "model_module": "@jupyter-widgets/base",
      "model_module_version": "1.2.0",
      "model_name": "LayoutModel",
      "state": {}
     },
     "24aeaa95de3f4885976b8a9a38c9b3bf": {
      "model_module": "@jupyter-widgets/controls",
      "model_module_version": "1.5.0",
      "model_name": "ProgressStyleModel",
      "state": {
       "description_width": ""
      }
     },
     "2503dfb81f4847be8a2dd83ba9fce570": {
      "model_module": "@jupyter-widgets/base",
      "model_module_version": "1.2.0",
      "model_name": "LayoutModel",
      "state": {}
     },
     "2551adbdd0364fdcb7901efe8a24fbd1": {
      "model_module": "@jupyter-widgets/controls",
      "model_module_version": "1.5.0",
      "model_name": "FloatProgressModel",
      "state": {
       "bar_style": "success",
       "layout": "IPY_MODEL_a362902f497348d289d27ca0913068fe",
       "max": 3,
       "style": "IPY_MODEL_ab4c0e768492431bbb35ce04a23dce63",
       "value": 3
      }
     },
     "25604506d9dd4215b59f34d9b049de1a": {
      "model_module": "@jupyter-widgets/controls",
      "model_module_version": "1.5.0",
      "model_name": "HBoxModel",
      "state": {
       "children": [
        "IPY_MODEL_1004c413f391408aa53526d8882d9ea5",
        "IPY_MODEL_6ab2c800eaef42e4a286a0aab35ed190",
        "IPY_MODEL_e70f3c2d70b247df9fb2de2b32a22bdd"
       ],
       "layout": "IPY_MODEL_21d4e7e9c0ce4ddda97e55cf9f588e7c"
      }
     },
     "25903453397444dc8539ba4a20d941d7": {
      "model_module": "@jupyter-widgets/controls",
      "model_module_version": "1.5.0",
      "model_name": "FloatProgressModel",
      "state": {
       "bar_style": "success",
       "layout": "IPY_MODEL_bcd1686c6e77476086983a24fa87b982",
       "max": 14,
       "style": "IPY_MODEL_63496197b64c4981aa1841e5dd0ed3a2",
       "value": 14
      }
     },
     "25c6f48933ff4136bbdfb125b1cd897e": {
      "model_module": "@jupyter-widgets/controls",
      "model_module_version": "1.5.0",
      "model_name": "HTMLModel",
      "state": {
       "layout": "IPY_MODEL_cc70f9b3c01c457b99cccc2760db08c8",
       "style": "IPY_MODEL_672d456870d44b42957d9ad3669127cc",
       "value": " 3/3 [00:10&lt;00:00,  4.27s/it]"
      }
     },
     "2675acb784a64d10b3c0d15cb32666e4": {
      "model_module": "@jupyter-widgets/base",
      "model_module_version": "1.2.0",
      "model_name": "LayoutModel",
      "state": {}
     },
     "26ee41edcc1d4611b2c3bf8d590a98f1": {
      "model_module": "@jupyter-widgets/base",
      "model_module_version": "1.2.0",
      "model_name": "LayoutModel",
      "state": {}
     },
     "271558bdfe944780b3e8a65d2bfe1626": {
      "model_module": "@jupyter-widgets/base",
      "model_module_version": "1.2.0",
      "model_name": "LayoutModel",
      "state": {}
     },
     "271e20a9175e435b9e432bb49ff28515": {
      "model_module": "@jupyter-widgets/base",
      "model_module_version": "1.2.0",
      "model_name": "LayoutModel",
      "state": {}
     },
     "273b1ed998a24d33896bf669abd17f2d": {
      "model_module": "@jupyter-widgets/controls",
      "model_module_version": "1.5.0",
      "model_name": "HTMLModel",
      "state": {
       "layout": "IPY_MODEL_09ee37cbf2df41f5b293113c69bb3a24",
       "style": "IPY_MODEL_506a403f0fdc4f9f8b85aa651285d720",
       "value": " 3/3 [00:10&lt;00:00,  4.07s/it]"
      }
     },
     "2763bab54f6b4f9b9850c8136f67ce38": {
      "model_module": "@jupyter-widgets/controls",
      "model_module_version": "1.5.0",
      "model_name": "ProgressStyleModel",
      "state": {
       "description_width": ""
      }
     },
     "276ce3320f1349639ffd64105f12b350": {
      "model_module": "@jupyter-widgets/base",
      "model_module_version": "1.2.0",
      "model_name": "LayoutModel",
      "state": {}
     },
     "2796d4640e4c4e929e33d1c64b9f54fc": {
      "model_module": "@jupyter-widgets/controls",
      "model_module_version": "1.5.0",
      "model_name": "HTMLModel",
      "state": {
       "layout": "IPY_MODEL_ce1f0f894a92465db9af08981e3b5c55",
       "style": "IPY_MODEL_e6601afb4f444433a8d2e37f465f45ab",
       "value": " 8/14 [00:15&lt;00:17,  2.86s/it]"
      }
     },
     "27eeaee083424c1f81fecc56dea27a6d": {
      "model_module": "@jupyter-widgets/controls",
      "model_module_version": "1.5.0",
      "model_name": "FloatProgressModel",
      "state": {
       "bar_style": "success",
       "layout": "IPY_MODEL_23f649b8681c4860bb7c7d5a1e876cac",
       "max": 14,
       "style": "IPY_MODEL_b6148f8af3974dfd862a9b5fe1ab3bd7",
       "value": 14
      }
     },
     "2820391b62434f3d8c4aaf1ce302cf30": {
      "model_module": "@jupyter-widgets/controls",
      "model_module_version": "1.5.0",
      "model_name": "HBoxModel",
      "state": {
       "children": [
        "IPY_MODEL_06e417298e2e4c93bfd44db90d47d077",
        "IPY_MODEL_16db80d7528e45a79bb7708b65544c05",
        "IPY_MODEL_b56f52d366d44191901d75a4215ee301"
       ],
       "layout": "IPY_MODEL_90220a88101d49e888b6f83bfb6df436"
      }
     },
     "287a7573648040f38d693b279d747f3b": {
      "model_module": "@jupyter-widgets/controls",
      "model_module_version": "1.5.0",
      "model_name": "DescriptionStyleModel",
      "state": {
       "description_width": ""
      }
     },
     "28d7d40964e34064a071c4f266111d5e": {
      "model_module": "@jupyter-widgets/controls",
      "model_module_version": "1.5.0",
      "model_name": "HTMLModel",
      "state": {
       "layout": "IPY_MODEL_a05d377b458949ba8d7dfb4733c297c6",
       "style": "IPY_MODEL_9f05b8a4032d4eeaa91f17c8df6043fd",
       "value": " 14/14 [00:34&lt;00:00,  2.58s/it]"
      }
     },
     "295a8a63e0a94d208ade3affb9d68e12": {
      "model_module": "@jupyter-widgets/controls",
      "model_module_version": "1.5.0",
      "model_name": "FloatProgressModel",
      "state": {
       "bar_style": "success",
       "layout": "IPY_MODEL_9ac45458d0f9497bac72211e8da9c1ce",
       "max": 14,
       "style": "IPY_MODEL_6ce6dc7f238243caaf36f8495409d552",
       "value": 14
      }
     },
     "298d55ec99f54dcd8e73ef8eba7e4595": {
      "model_module": "@jupyter-widgets/controls",
      "model_module_version": "1.5.0",
      "model_name": "FloatProgressModel",
      "state": {
       "bar_style": "success",
       "layout": "IPY_MODEL_3454421d51a5473faae3117d722bcde8",
       "max": 3,
       "style": "IPY_MODEL_ceb09d33dd824785acf3458f0f6f5b90",
       "value": 3
      }
     },
     "2a1b43fb3d5e41dbaad395e88d69dc17": {
      "model_module": "@jupyter-widgets/controls",
      "model_module_version": "1.5.0",
      "model_name": "DescriptionStyleModel",
      "state": {
       "description_width": ""
      }
     },
     "2a2a37aad76a438cae578d3ae288b46b": {
      "model_module": "@jupyter-widgets/base",
      "model_module_version": "1.2.0",
      "model_name": "LayoutModel",
      "state": {}
     },
     "2a462a43f7d74fce8b387d4a583712ec": {
      "model_module": "@jupyter-widgets/base",
      "model_module_version": "1.2.0",
      "model_name": "LayoutModel",
      "state": {}
     },
     "2a65240a15d4499fbd0cf942492a4711": {
      "model_module": "@jupyter-widgets/controls",
      "model_module_version": "1.5.0",
      "model_name": "HBoxModel",
      "state": {
       "children": [
        "IPY_MODEL_e2bebc0e11bb4c67b655a2bb0e52d17c",
        "IPY_MODEL_295a8a63e0a94d208ade3affb9d68e12",
        "IPY_MODEL_74b05596216a49a1b150b9be0061ffef"
       ],
       "layout": "IPY_MODEL_0264a0f5edbd4d84b646529d5900ab46"
      }
     },
     "2a75bc70851b42b69eacea7343414dbb": {
      "model_module": "@jupyter-widgets/controls",
      "model_module_version": "1.5.0",
      "model_name": "DescriptionStyleModel",
      "state": {
       "description_width": ""
      }
     },
     "2b06f801070a48a5bb5f39f5577cf5f1": {
      "model_module": "@jupyter-widgets/controls",
      "model_module_version": "1.5.0",
      "model_name": "HTMLModel",
      "state": {
       "layout": "IPY_MODEL_539f0d72dd3543fbad79611d9f1bd031",
       "style": "IPY_MODEL_55e7a37abac24908961c342bc93befe3",
       "value": "100%"
      }
     },
     "2cede2330d884562a62166d0d62dcd9b": {
      "model_module": "@jupyter-widgets/controls",
      "model_module_version": "1.5.0",
      "model_name": "HTMLModel",
      "state": {
       "layout": "IPY_MODEL_384d6f8e187a4707b65a2681e16fe7c3",
       "style": "IPY_MODEL_009b2957b305415891bb4aed8cebb918",
       "value": "100%"
      }
     },
     "2d314896d673436ca34fb2700ce24e3f": {
      "model_module": "@jupyter-widgets/controls",
      "model_module_version": "1.5.0",
      "model_name": "ProgressStyleModel",
      "state": {
       "description_width": ""
      }
     },
     "2d3c1b2fd2cc4a93801046220e37b45b": {
      "model_module": "@jupyter-widgets/controls",
      "model_module_version": "1.5.0",
      "model_name": "HBoxModel",
      "state": {
       "children": [
        "IPY_MODEL_ff7181daebce46c8a92713b3908a3645",
        "IPY_MODEL_306500c09d4a4504b0e75f825b372fb8",
        "IPY_MODEL_32176fcf74d844e6b25ff2e5158bb5eb"
       ],
       "layout": "IPY_MODEL_801c18dea9304ecbb6bb0636069827d4"
      }
     },
     "2efac13743ad48a393316dbb618326c8": {
      "model_module": "@jupyter-widgets/base",
      "model_module_version": "1.2.0",
      "model_name": "LayoutModel",
      "state": {}
     },
     "2f5c5af2a7194cbe9dede0e4b86308d8": {
      "model_module": "@jupyter-widgets/base",
      "model_module_version": "1.2.0",
      "model_name": "LayoutModel",
      "state": {}
     },
     "3007aa1f6ee741e29dae0f62533f5049": {
      "model_module": "@jupyter-widgets/controls",
      "model_module_version": "1.5.0",
      "model_name": "DescriptionStyleModel",
      "state": {
       "description_width": ""
      }
     },
     "305aca9f3f244ad0b9b26ed91ec3af33": {
      "model_module": "@jupyter-widgets/base",
      "model_module_version": "1.2.0",
      "model_name": "LayoutModel",
      "state": {}
     },
     "306500c09d4a4504b0e75f825b372fb8": {
      "model_module": "@jupyter-widgets/controls",
      "model_module_version": "1.5.0",
      "model_name": "FloatProgressModel",
      "state": {
       "bar_style": "success",
       "layout": "IPY_MODEL_4627a97cda92444ba7641b387f1ae6bc",
       "max": 8,
       "style": "IPY_MODEL_bf2f79d4b8554fe0a9096bcceea7454d",
       "value": 8
      }
     },
     "3088d09c6b51431da8feba468e073631": {
      "model_module": "@jupyter-widgets/base",
      "model_module_version": "1.2.0",
      "model_name": "LayoutModel",
      "state": {}
     },
     "30abf8ccf99543268d1324b1c5b5ed78": {
      "model_module": "@jupyter-widgets/base",
      "model_module_version": "1.2.0",
      "model_name": "LayoutModel",
      "state": {}
     },
     "30ea388980cf4a02882332baed3e3218": {
      "model_module": "@jupyter-widgets/controls",
      "model_module_version": "1.5.0",
      "model_name": "HBoxModel",
      "state": {
       "children": [
        "IPY_MODEL_adeb3d409ce9403b90fbd2fabd5b7981",
        "IPY_MODEL_0b1b5e2e830e40bb969f2adc1614aea5",
        "IPY_MODEL_9bd67eb962624cffae4c442e70298f11"
       ],
       "layout": "IPY_MODEL_2f5c5af2a7194cbe9dede0e4b86308d8"
      }
     },
     "30ebffb12b0f4b59abeb9b83b0a6fbdc": {
      "model_module": "@jupyter-widgets/base",
      "model_module_version": "1.2.0",
      "model_name": "LayoutModel",
      "state": {}
     },
     "30edfff582484b6493b79792a84b5d78": {
      "model_module": "@jupyter-widgets/base",
      "model_module_version": "1.2.0",
      "model_name": "LayoutModel",
      "state": {}
     },
     "310227bd46d14740a6e6c01f119281fe": {
      "model_module": "@jupyter-widgets/base",
      "model_module_version": "1.2.0",
      "model_name": "LayoutModel",
      "state": {}
     },
     "313184218519478e81dcb94e3da68a3e": {
      "model_module": "@jupyter-widgets/base",
      "model_module_version": "1.2.0",
      "model_name": "LayoutModel",
      "state": {}
     },
     "317058f3878e4108b4079aa84dd60582": {
      "model_module": "@jupyter-widgets/controls",
      "model_module_version": "1.5.0",
      "model_name": "HBoxModel",
      "state": {
       "children": [
        "IPY_MODEL_5d095f99d4c945618fe22682b2919f7f",
        "IPY_MODEL_b42c1ce5b32b407192f3a3d0cc1e8d5c",
        "IPY_MODEL_c699b778decd49ad962699ab3183abb0"
       ],
       "layout": "IPY_MODEL_4936dc8dbc6d405c956ddce5f6a5221e"
      }
     },
     "317d72de13f547c78f6388a685253365": {
      "model_module": "@jupyter-widgets/controls",
      "model_module_version": "1.5.0",
      "model_name": "DescriptionStyleModel",
      "state": {
       "description_width": ""
      }
     },
     "31ad866963ca421385351d2b52b2465d": {
      "model_module": "@jupyter-widgets/controls",
      "model_module_version": "1.5.0",
      "model_name": "HTMLModel",
      "state": {
       "layout": "IPY_MODEL_4b8fe3f450344df59adf09dfde46461c",
       "style": "IPY_MODEL_f02c4f5a3cc94e6a894dfcdd90c4a76c",
       "value": "100%"
      }
     },
     "32176fcf74d844e6b25ff2e5158bb5eb": {
      "model_module": "@jupyter-widgets/controls",
      "model_module_version": "1.5.0",
      "model_name": "HTMLModel",
      "state": {
       "layout": "IPY_MODEL_d1d58a82f6344ab2a101af2e41334a21",
       "style": "IPY_MODEL_af321bf03d344ab5bbf27ecfd4df46e1",
       "value": " 8/8 [00:31&lt;00:00,  4.88s/it]"
      }
     },
     "323409be01bc4fac9783bd8238d5b4de": {
      "model_module": "@jupyter-widgets/base",
      "model_module_version": "1.2.0",
      "model_name": "LayoutModel",
      "state": {}
     },
     "3282bc86098446bebd1e8f06a0a2af04": {
      "model_module": "@jupyter-widgets/controls",
      "model_module_version": "1.5.0",
      "model_name": "DescriptionStyleModel",
      "state": {
       "description_width": ""
      }
     },
     "32e522644e3548eeb2a61abd4431c1dc": {
      "model_module": "@jupyter-widgets/base",
      "model_module_version": "1.2.0",
      "model_name": "LayoutModel",
      "state": {}
     },
     "3304e1dd48ff49ecb920ff68b7dbacaa": {
      "model_module": "@jupyter-widgets/base",
      "model_module_version": "1.2.0",
      "model_name": "LayoutModel",
      "state": {}
     },
     "332676bbba814a449eedc22d227442ce": {
      "model_module": "@jupyter-widgets/controls",
      "model_module_version": "1.5.0",
      "model_name": "ProgressStyleModel",
      "state": {
       "description_width": ""
      }
     },
     "332e05a71fd2414fab6ab38afc22187c": {
      "model_module": "@jupyter-widgets/controls",
      "model_module_version": "1.5.0",
      "model_name": "HTMLModel",
      "state": {
       "layout": "IPY_MODEL_58e730ffdfd4482091cdaf8077d0cb8d",
       "style": "IPY_MODEL_85d9ce7fbbea4356a2844cb8e9bd2564",
       "value": "100%"
      }
     },
     "335359af048044b68a622eeed260338f": {
      "model_module": "@jupyter-widgets/controls",
      "model_module_version": "1.5.0",
      "model_name": "HTMLModel",
      "state": {
       "layout": "IPY_MODEL_caae53edbd58462cbc39966b1649dff7",
       "style": "IPY_MODEL_aa3734b8439c46588fafe5f7b191bb02",
       "value": " 57%"
      }
     },
     "335ac4086e8e40ea906ff302e06b35ec": {
      "model_module": "@jupyter-widgets/base",
      "model_module_version": "1.2.0",
      "model_name": "LayoutModel",
      "state": {}
     },
     "3417b3ebb03f4797818201cd315cc5d6": {
      "model_module": "@jupyter-widgets/controls",
      "model_module_version": "1.5.0",
      "model_name": "HTMLModel",
      "state": {
       "layout": "IPY_MODEL_625a723425fa4d9990a4c0a5613fc01c",
       "style": "IPY_MODEL_e9851f713d7243c19f16d596d8687237",
       "value": "100%"
      }
     },
     "341a7cfa9b9240699db09f61bf95cb69": {
      "model_module": "@jupyter-widgets/controls",
      "model_module_version": "1.5.0",
      "model_name": "FloatProgressModel",
      "state": {
       "bar_style": "success",
       "layout": "IPY_MODEL_47338d97ff134b4ba576a42cb2a64c8d",
       "max": 3,
       "style": "IPY_MODEL_e1c181b12aa041edae8c0265a09202d8",
       "value": 3
      }
     },
     "3454421d51a5473faae3117d722bcde8": {
      "model_module": "@jupyter-widgets/base",
      "model_module_version": "1.2.0",
      "model_name": "LayoutModel",
      "state": {}
     },
     "34606ce89b63484aad57b4a2d451950c": {
      "model_module": "@jupyter-widgets/controls",
      "model_module_version": "1.5.0",
      "model_name": "HTMLModel",
      "state": {
       "layout": "IPY_MODEL_49c8c6d9bde6402bb4136d37f94c0fee",
       "style": "IPY_MODEL_c25231556e594901b84222ec98cfa76c",
       "value": "100%"
      }
     },
     "35a3c9c7f0a84db7b11166c968c8e8c5": {
      "model_module": "@jupyter-widgets/base",
      "model_module_version": "1.2.0",
      "model_name": "LayoutModel",
      "state": {}
     },
     "384d6f8e187a4707b65a2681e16fe7c3": {
      "model_module": "@jupyter-widgets/base",
      "model_module_version": "1.2.0",
      "model_name": "LayoutModel",
      "state": {}
     },
     "385052d0c22a494c95a54f3ec5ca9ea2": {
      "model_module": "@jupyter-widgets/base",
      "model_module_version": "1.2.0",
      "model_name": "LayoutModel",
      "state": {}
     },
     "3979d488f5ca4bb7b9752f190f516e49": {
      "model_module": "@jupyter-widgets/base",
      "model_module_version": "1.2.0",
      "model_name": "LayoutModel",
      "state": {}
     },
     "39954bc2a54d43c78994d415f66343e6": {
      "model_module": "@jupyter-widgets/base",
      "model_module_version": "1.2.0",
      "model_name": "LayoutModel",
      "state": {}
     },
     "39ba132769b346d3807f8ffdb35ef4ef": {
      "model_module": "@jupyter-widgets/controls",
      "model_module_version": "1.5.0",
      "model_name": "HTMLModel",
      "state": {
       "layout": "IPY_MODEL_e67dee11d433417985572ac96d041333",
       "style": "IPY_MODEL_e11500d7c68642fbb6c1587fa476ab91",
       "value": "100%"
      }
     },
     "3a71f9045ef64b82ae273c50b5be2d91": {
      "model_module": "@jupyter-widgets/controls",
      "model_module_version": "1.5.0",
      "model_name": "DescriptionStyleModel",
      "state": {
       "description_width": ""
      }
     },
     "3b0a2073456e43cbbc07113f5a06cd57": {
      "model_module": "@jupyter-widgets/base",
      "model_module_version": "1.2.0",
      "model_name": "LayoutModel",
      "state": {}
     },
     "3bf48ed08eed4ac5a645a04c7acea2f0": {
      "model_module": "@jupyter-widgets/controls",
      "model_module_version": "1.5.0",
      "model_name": "ProgressStyleModel",
      "state": {
       "description_width": ""
      }
     },
     "3c3b7115d2d34299bac7a54a435f0f3c": {
      "model_module": "@jupyter-widgets/base",
      "model_module_version": "1.2.0",
      "model_name": "LayoutModel",
      "state": {}
     },
     "3cc8526128264bb280238503853a9de7": {
      "model_module": "@jupyter-widgets/controls",
      "model_module_version": "1.5.0",
      "model_name": "DescriptionStyleModel",
      "state": {
       "description_width": ""
      }
     },
     "3d166a7aee6444dbaa8ad4fbe9667ab8": {
      "model_module": "@jupyter-widgets/controls",
      "model_module_version": "1.5.0",
      "model_name": "FloatProgressModel",
      "state": {
       "bar_style": "success",
       "layout": "IPY_MODEL_30abf8ccf99543268d1324b1c5b5ed78",
       "max": 3,
       "style": "IPY_MODEL_2763bab54f6b4f9b9850c8136f67ce38",
       "value": 3
      }
     },
     "3d636d403f39459285ec539924773592": {
      "model_module": "@jupyter-widgets/controls",
      "model_module_version": "1.5.0",
      "model_name": "HBoxModel",
      "state": {
       "children": [
        "IPY_MODEL_31ad866963ca421385351d2b52b2465d",
        "IPY_MODEL_d7d389b119e943efb26c211533ca5275",
        "IPY_MODEL_4b6bce95eb034f8fa39251884eef9197"
       ],
       "layout": "IPY_MODEL_d790f3b779934eee8348804dd22ba3c1"
      }
     },
     "3da353bac79d453282b17d5e84055538": {
      "model_module": "@jupyter-widgets/base",
      "model_module_version": "1.2.0",
      "model_name": "LayoutModel",
      "state": {}
     },
     "3e038dd87e8e4559b113c386a0626299": {
      "model_module": "@jupyter-widgets/base",
      "model_module_version": "1.2.0",
      "model_name": "LayoutModel",
      "state": {}
     },
     "3e0b8257b09045b9bb0d57dfa5fc8945": {
      "model_module": "@jupyter-widgets/controls",
      "model_module_version": "1.5.0",
      "model_name": "HTMLModel",
      "state": {
       "layout": "IPY_MODEL_ff6c51d38ade449d9351b3aa712bc22e",
       "style": "IPY_MODEL_3007aa1f6ee741e29dae0f62533f5049",
       "value": "100%"
      }
     },
     "3e19c07dc568400ab3ee08655136390e": {
      "model_module": "@jupyter-widgets/controls",
      "model_module_version": "1.5.0",
      "model_name": "HBoxModel",
      "state": {
       "children": [
        "IPY_MODEL_4a2153b7870843a388965c1d13988aa1",
        "IPY_MODEL_5e4ab518bc7f4437b2e0d4d180d3eb3d",
        "IPY_MODEL_f5b2aff67783436c98d18958c3462638"
       ],
       "layout": "IPY_MODEL_bd439efb587f416c88473e2207f1de00"
      }
     },
     "3e39b41de3b441b9bf4aca91849f83ba": {
      "model_module": "@jupyter-widgets/controls",
      "model_module_version": "1.5.0",
      "model_name": "HTMLModel",
      "state": {
       "layout": "IPY_MODEL_4479826179dd4a00a99758a09b765c55",
       "style": "IPY_MODEL_b9ac73cbe2ab47b6a925b4af56855006",
       "value": " 3/3 [00:10&lt;00:00,  4.21s/it]"
      }
     },
     "3e41b6f6cbc4447a8970ae9f5bb50caf": {
      "model_module": "@jupyter-widgets/controls",
      "model_module_version": "1.5.0",
      "model_name": "ProgressStyleModel",
      "state": {
       "description_width": ""
      }
     },
     "3ed6c93787754b44a7cee52d4c2da14b": {
      "model_module": "@jupyter-widgets/controls",
      "model_module_version": "1.5.0",
      "model_name": "HBoxModel",
      "state": {
       "children": [
        "IPY_MODEL_ca08d7ee14214e2ebed567205b819df1",
        "IPY_MODEL_631932574a4f478698da5bfd889c15f2",
        "IPY_MODEL_273b1ed998a24d33896bf669abd17f2d"
       ],
       "layout": "IPY_MODEL_b5fb0353521943fcb24fee15656f0772"
      }
     },
     "3f0ca1a537944eababed72bd0d0b4031": {
      "model_module": "@jupyter-widgets/controls",
      "model_module_version": "1.5.0",
      "model_name": "DescriptionStyleModel",
      "state": {
       "description_width": ""
      }
     },
     "3f1e1583b7cc4b0d8c5bcff3dfaae02c": {
      "model_module": "@jupyter-widgets/base",
      "model_module_version": "1.2.0",
      "model_name": "LayoutModel",
      "state": {}
     },
     "3f64a682d5ca417bb12d96354fe97ee4": {
      "model_module": "@jupyter-widgets/controls",
      "model_module_version": "1.5.0",
      "model_name": "DescriptionStyleModel",
      "state": {
       "description_width": ""
      }
     },
     "3f789c27308447d6b763ce0d90eb3663": {
      "model_module": "@jupyter-widgets/base",
      "model_module_version": "1.2.0",
      "model_name": "LayoutModel",
      "state": {}
     },
     "3fddd002da7649749b34a9ec104055f6": {
      "model_module": "@jupyter-widgets/controls",
      "model_module_version": "1.5.0",
      "model_name": "HBoxModel",
      "state": {
       "children": [
        "IPY_MODEL_70960292e2904c71aaf0829c5276ff22",
        "IPY_MODEL_b959d2c248eb480db8aa79fc8a5cb534",
        "IPY_MODEL_687f590cf40747caabe161fa9d4c56bc"
       ],
       "layout": "IPY_MODEL_850b5faee343454caff7bcb954c1b297"
      }
     },
     "40ad493a779948fb877b8f1efbeb96ff": {
      "model_module": "@jupyter-widgets/controls",
      "model_module_version": "1.5.0",
      "model_name": "HTMLModel",
      "state": {
       "layout": "IPY_MODEL_d198ef45d5a04f10855f3477e5f4f784",
       "style": "IPY_MODEL_4d050a4d6d284e5fa00be4140da9ca05",
       "value": "100%"
      }
     },
     "415ded97bd634a94aa9493edee1aef5e": {
      "model_module": "@jupyter-widgets/base",
      "model_module_version": "1.2.0",
      "model_name": "LayoutModel",
      "state": {}
     },
     "416740e46d6445bdab71fba20bb12459": {
      "model_module": "@jupyter-widgets/controls",
      "model_module_version": "1.5.0",
      "model_name": "ProgressStyleModel",
      "state": {
       "description_width": ""
      }
     },
     "417fab544a4646ed858872a9006749d0": {
      "model_module": "@jupyter-widgets/controls",
      "model_module_version": "1.5.0",
      "model_name": "HTMLModel",
      "state": {
       "layout": "IPY_MODEL_58366bed42f541dfadf9b3b57d005ecc",
       "style": "IPY_MODEL_a18db3fb7d924aaf9f82396754c998e8",
       "value": "100%"
      }
     },
     "42084ebcfb5c4a14bb1a8dccb70c02e7": {
      "model_module": "@jupyter-widgets/base",
      "model_module_version": "1.2.0",
      "model_name": "LayoutModel",
      "state": {}
     },
     "4249d3d2ad154f738789fb624a8e0867": {
      "model_module": "@jupyter-widgets/base",
      "model_module_version": "1.2.0",
      "model_name": "LayoutModel",
      "state": {}
     },
     "42532cf335f84e91bc184fa3de80d781": {
      "model_module": "@jupyter-widgets/controls",
      "model_module_version": "1.5.0",
      "model_name": "HBoxModel",
      "state": {
       "children": [
        "IPY_MODEL_332e05a71fd2414fab6ab38afc22187c",
        "IPY_MODEL_799c2ce912b542fe9177159be2e714af",
        "IPY_MODEL_96b460c37817428197afea818ff1e4a5"
       ],
       "layout": "IPY_MODEL_313184218519478e81dcb94e3da68a3e"
      }
     },
     "42645fcaf4c64cf68824d93759c75bc8": {
      "model_module": "@jupyter-widgets/controls",
      "model_module_version": "1.5.0",
      "model_name": "HTMLModel",
      "state": {
       "layout": "IPY_MODEL_6947ec67f5c2497fa581f2f98be5d5b6",
       "style": "IPY_MODEL_d463b721d2be4341b9411cf03bac5304",
       "value": "100%"
      }
     },
     "426b1e6d2eb9431a90d9e84453cb2481": {
      "model_module": "@jupyter-widgets/base",
      "model_module_version": "1.2.0",
      "model_name": "LayoutModel",
      "state": {}
     },
     "430fec0f20bc4e7ebe830021f63dd731": {
      "model_module": "@jupyter-widgets/controls",
      "model_module_version": "1.5.0",
      "model_name": "FloatProgressModel",
      "state": {
       "bar_style": "success",
       "layout": "IPY_MODEL_8c9fb845d586409ebe1a3b099073ed87",
       "max": 3,
       "style": "IPY_MODEL_9853c5d67f5f48bb9813db5ee85adebb",
       "value": 3
      }
     },
     "4311cd0e553c47d9b70df4a18569c812": {
      "model_module": "@jupyter-widgets/base",
      "model_module_version": "1.2.0",
      "model_name": "LayoutModel",
      "state": {}
     },
     "437853bb71fc48718a27425bc6fcd9c5": {
      "model_module": "@jupyter-widgets/controls",
      "model_module_version": "1.5.0",
      "model_name": "DescriptionStyleModel",
      "state": {
       "description_width": ""
      }
     },
     "43813cdb3cc948f49df4d4f3c7bbca4d": {
      "model_module": "@jupyter-widgets/controls",
      "model_module_version": "1.5.0",
      "model_name": "DescriptionStyleModel",
      "state": {
       "description_width": ""
      }
     },
     "4388f670ebb044a3a9838ebdc4c2a587": {
      "model_module": "@jupyter-widgets/controls",
      "model_module_version": "1.5.0",
      "model_name": "FloatProgressModel",
      "state": {
       "bar_style": "success",
       "layout": "IPY_MODEL_426b1e6d2eb9431a90d9e84453cb2481",
       "max": 8,
       "style": "IPY_MODEL_de728bf9065147a785cfed2cb35fefdb",
       "value": 8
      }
     },
     "4397d05cf65a4a3098f3fbc65ec9cf13": {
      "model_module": "@jupyter-widgets/controls",
      "model_module_version": "1.5.0",
      "model_name": "DescriptionStyleModel",
      "state": {
       "description_width": ""
      }
     },
     "43b0db65a5c244058d984db9272cbdbd": {
      "model_module": "@jupyter-widgets/controls",
      "model_module_version": "1.5.0",
      "model_name": "DescriptionStyleModel",
      "state": {
       "description_width": ""
      }
     },
     "43ea1b3882bd41068924670970a9c5e8": {
      "model_module": "@jupyter-widgets/controls",
      "model_module_version": "1.5.0",
      "model_name": "HTMLModel",
      "state": {
       "layout": "IPY_MODEL_1c4bcfb11581445a8d46ce754ec37180",
       "style": "IPY_MODEL_f1cfc5bb0898456ca8f5c538a609a70f",
       "value": "100%"
      }
     },
     "4423c92e6ab94b46b6f89bde9dddf3a8": {
      "model_module": "@jupyter-widgets/controls",
      "model_module_version": "1.5.0",
      "model_name": "DescriptionStyleModel",
      "state": {
       "description_width": ""
      }
     },
     "4479826179dd4a00a99758a09b765c55": {
      "model_module": "@jupyter-widgets/base",
      "model_module_version": "1.2.0",
      "model_name": "LayoutModel",
      "state": {}
     },
     "44d1cb966cd74d34b917a08160071f86": {
      "model_module": "@jupyter-widgets/base",
      "model_module_version": "1.2.0",
      "model_name": "LayoutModel",
      "state": {}
     },
     "44d5718f041c4cdf8b85c3e58a90c1e2": {
      "model_module": "@jupyter-widgets/controls",
      "model_module_version": "1.5.0",
      "model_name": "DescriptionStyleModel",
      "state": {
       "description_width": ""
      }
     },
     "44e53d99312544a4b17fe0145636ef45": {
      "model_module": "@jupyter-widgets/controls",
      "model_module_version": "1.5.0",
      "model_name": "HBoxModel",
      "state": {
       "children": [
        "IPY_MODEL_63a70b06ff4246d3819f71da3565aefd",
        "IPY_MODEL_b0abd16537734a9d99386e3c8da6b4b8",
        "IPY_MODEL_97bbbe30ec7f46b9aaa8e4ad4646ac93"
       ],
       "layout": "IPY_MODEL_51c0ffeb291c451e88c73009c996057f"
      }
     },
     "4566d1e63f3940db9ec45156b6a840dc": {
      "model_module": "@jupyter-widgets/controls",
      "model_module_version": "1.5.0",
      "model_name": "DescriptionStyleModel",
      "state": {
       "description_width": ""
      }
     },
     "45f72b16772f40e081fb9d967266f68d": {
      "model_module": "@jupyter-widgets/base",
      "model_module_version": "1.2.0",
      "model_name": "LayoutModel",
      "state": {}
     },
     "4624434e462b4f3592aa0a3f3ada8c5d": {
      "model_module": "@jupyter-widgets/base",
      "model_module_version": "1.2.0",
      "model_name": "LayoutModel",
      "state": {}
     },
     "4627a97cda92444ba7641b387f1ae6bc": {
      "model_module": "@jupyter-widgets/base",
      "model_module_version": "1.2.0",
      "model_name": "LayoutModel",
      "state": {}
     },
     "4649dcb9189249368cf39bbc84f2235f": {
      "model_module": "@jupyter-widgets/base",
      "model_module_version": "1.2.0",
      "model_name": "LayoutModel",
      "state": {}
     },
     "4664fa510ec24a1f8e977e573fdb1129": {
      "model_module": "@jupyter-widgets/base",
      "model_module_version": "1.2.0",
      "model_name": "LayoutModel",
      "state": {}
     },
     "468581f8cddc4e7bb1610ac6320b66b7": {
      "model_module": "@jupyter-widgets/base",
      "model_module_version": "1.2.0",
      "model_name": "LayoutModel",
      "state": {}
     },
     "46b3e17002044bd187ddffcb137f8442": {
      "model_module": "@jupyter-widgets/base",
      "model_module_version": "1.2.0",
      "model_name": "LayoutModel",
      "state": {}
     },
     "46ebb4fddc664e87b0138b0620d90088": {
      "model_module": "@jupyter-widgets/base",
      "model_module_version": "1.2.0",
      "model_name": "LayoutModel",
      "state": {}
     },
     "46f145a243894c2d993c289862c13a8b": {
      "model_module": "@jupyter-widgets/base",
      "model_module_version": "1.2.0",
      "model_name": "LayoutModel",
      "state": {}
     },
     "47338d97ff134b4ba576a42cb2a64c8d": {
      "model_module": "@jupyter-widgets/base",
      "model_module_version": "1.2.0",
      "model_name": "LayoutModel",
      "state": {}
     },
     "478294a04e59466e9eb976ac1abe3192": {
      "model_module": "@jupyter-widgets/base",
      "model_module_version": "1.2.0",
      "model_name": "LayoutModel",
      "state": {}
     },
     "47f98225af024bc7af24fb7f21e52399": {
      "model_module": "@jupyter-widgets/controls",
      "model_module_version": "1.5.0",
      "model_name": "HTMLModel",
      "state": {
       "layout": "IPY_MODEL_2efac13743ad48a393316dbb618326c8",
       "style": "IPY_MODEL_43b0db65a5c244058d984db9272cbdbd",
       "value": " 14/14 [00:34&lt;00:00,  2.56s/it]"
      }
     },
     "485731a4a3dc4749a02b85fab8597d7a": {
      "model_module": "@jupyter-widgets/base",
      "model_module_version": "1.2.0",
      "model_name": "LayoutModel",
      "state": {}
     },
     "4936dc8dbc6d405c956ddce5f6a5221e": {
      "model_module": "@jupyter-widgets/base",
      "model_module_version": "1.2.0",
      "model_name": "LayoutModel",
      "state": {}
     },
     "49c8c6d9bde6402bb4136d37f94c0fee": {
      "model_module": "@jupyter-widgets/base",
      "model_module_version": "1.2.0",
      "model_name": "LayoutModel",
      "state": {}
     },
     "4a02dde9f0c2473ca483bd879aae9897": {
      "model_module": "@jupyter-widgets/controls",
      "model_module_version": "1.5.0",
      "model_name": "HTMLModel",
      "state": {
       "layout": "IPY_MODEL_554aad861ce14a18bcfcd879557d5536",
       "style": "IPY_MODEL_029642dfa78247a18b8c1e5fe6452dda",
       "value": "100%"
      }
     },
     "4a2153b7870843a388965c1d13988aa1": {
      "model_module": "@jupyter-widgets/controls",
      "model_module_version": "1.5.0",
      "model_name": "HTMLModel",
      "state": {
       "layout": "IPY_MODEL_219404a0aa80406fba4e1a59864e213e",
       "style": "IPY_MODEL_f990c3c0d24b4feb8b54ebbb0fe605e3",
       "value": "100%"
      }
     },
     "4a9c8487b9174ce392d94d1f8a019cab": {
      "model_module": "@jupyter-widgets/controls",
      "model_module_version": "1.5.0",
      "model_name": "DescriptionStyleModel",
      "state": {
       "description_width": ""
      }
     },
     "4ad7e55c582c4f96bf747521fa1a880e": {
      "model_module": "@jupyter-widgets/controls",
      "model_module_version": "1.5.0",
      "model_name": "DescriptionStyleModel",
      "state": {
       "description_width": ""
      }
     },
     "4b6bce95eb034f8fa39251884eef9197": {
      "model_module": "@jupyter-widgets/controls",
      "model_module_version": "1.5.0",
      "model_name": "HTMLModel",
      "state": {
       "layout": "IPY_MODEL_4f13d7468d3e433aaebc524e2f966636",
       "style": "IPY_MODEL_317d72de13f547c78f6388a685253365",
       "value": " 14/14 [00:33&lt;00:00,  2.52s/it]"
      }
     },
     "4b756571316644e7a1e95bfff335a728": {
      "model_module": "@jupyter-widgets/base",
      "model_module_version": "1.2.0",
      "model_name": "LayoutModel",
      "state": {}
     },
     "4b8fe3f450344df59adf09dfde46461c": {
      "model_module": "@jupyter-widgets/base",
      "model_module_version": "1.2.0",
      "model_name": "LayoutModel",
      "state": {}
     },
     "4c514c61a1824da0bb353e154c21288e": {
      "model_module": "@jupyter-widgets/controls",
      "model_module_version": "1.5.0",
      "model_name": "HTMLModel",
      "state": {
       "layout": "IPY_MODEL_35a3c9c7f0a84db7b11166c968c8e8c5",
       "style": "IPY_MODEL_f6d9b538a7d4474faf6f1b5d4ed3aa22",
       "value": " 14/14 [00:34&lt;00:00,  2.58s/it]"
      }
     },
     "4c7a44cfe46546c7ad4510925b762ba3": {
      "model_module": "@jupyter-widgets/base",
      "model_module_version": "1.2.0",
      "model_name": "LayoutModel",
      "state": {}
     },
     "4cf01c7addd141348d4644f6e298d0c3": {
      "model_module": "@jupyter-widgets/base",
      "model_module_version": "1.2.0",
      "model_name": "LayoutModel",
      "state": {}
     },
     "4d050a4d6d284e5fa00be4140da9ca05": {
      "model_module": "@jupyter-widgets/controls",
      "model_module_version": "1.5.0",
      "model_name": "DescriptionStyleModel",
      "state": {
       "description_width": ""
      }
     },
     "4df6d7c39cce4536a58880a00a3970ef": {
      "model_module": "@jupyter-widgets/controls",
      "model_module_version": "1.5.0",
      "model_name": "ProgressStyleModel",
      "state": {
       "description_width": ""
      }
     },
     "4df9ea255ee04057a55797a504a03021": {
      "model_module": "@jupyter-widgets/base",
      "model_module_version": "1.2.0",
      "model_name": "LayoutModel",
      "state": {}
     },
     "4f13d7468d3e433aaebc524e2f966636": {
      "model_module": "@jupyter-widgets/base",
      "model_module_version": "1.2.0",
      "model_name": "LayoutModel",
      "state": {}
     },
     "4f45b7be062545dfad8cd46b855234c4": {
      "model_module": "@jupyter-widgets/controls",
      "model_module_version": "1.5.0",
      "model_name": "DescriptionStyleModel",
      "state": {
       "description_width": ""
      }
     },
     "4f8f34f6823f48ae8d4102f40b10a49f": {
      "model_module": "@jupyter-widgets/controls",
      "model_module_version": "1.5.0",
      "model_name": "DescriptionStyleModel",
      "state": {
       "description_width": ""
      }
     },
     "4fcce8713d9f40efa519fad4c3f6d159": {
      "model_module": "@jupyter-widgets/base",
      "model_module_version": "1.2.0",
      "model_name": "LayoutModel",
      "state": {}
     },
     "4fe88752d63e465dacddb2e96db851fc": {
      "model_module": "@jupyter-widgets/controls",
      "model_module_version": "1.5.0",
      "model_name": "DescriptionStyleModel",
      "state": {
       "description_width": ""
      }
     },
     "506a403f0fdc4f9f8b85aa651285d720": {
      "model_module": "@jupyter-widgets/controls",
      "model_module_version": "1.5.0",
      "model_name": "DescriptionStyleModel",
      "state": {
       "description_width": ""
      }
     },
     "5082c28037254c02a2c7b11b1fec3d24": {
      "model_module": "@jupyter-widgets/controls",
      "model_module_version": "1.5.0",
      "model_name": "FloatProgressModel",
      "state": {
       "bar_style": "success",
       "layout": "IPY_MODEL_5a8654bdc7ea4e62b2701eabdcc263a2",
       "max": 14,
       "style": "IPY_MODEL_7ad06790a5154b6986cba20d76f8be7d",
       "value": 14
      }
     },
     "5195b30886ae479ba56e84588a608368": {
      "model_module": "@jupyter-widgets/controls",
      "model_module_version": "1.5.0",
      "model_name": "DescriptionStyleModel",
      "state": {
       "description_width": ""
      }
     },
     "51c0ffeb291c451e88c73009c996057f": {
      "model_module": "@jupyter-widgets/base",
      "model_module_version": "1.2.0",
      "model_name": "LayoutModel",
      "state": {}
     },
     "5256fcf8c90746a2b585640096aabcd5": {
      "model_module": "@jupyter-widgets/base",
      "model_module_version": "1.2.0",
      "model_name": "LayoutModel",
      "state": {}
     },
     "530227233cdb4d7bbe6a127d11bbbc96": {
      "model_module": "@jupyter-widgets/base",
      "model_module_version": "1.2.0",
      "model_name": "LayoutModel",
      "state": {}
     },
     "533f15243a5d4b6393b50c909b6f55e9": {
      "model_module": "@jupyter-widgets/controls",
      "model_module_version": "1.5.0",
      "model_name": "HTMLModel",
      "state": {
       "layout": "IPY_MODEL_dc0cb38431e34554a24eb56835159b14",
       "style": "IPY_MODEL_77cc87b539e74f5dafad722153e60cd3",
       "value": " 3/3 [00:10&lt;00:00,  4.21s/it]"
      }
     },
     "5363fb3cea7e48a79ae2d3eee8d3f103": {
      "model_module": "@jupyter-widgets/controls",
      "model_module_version": "1.5.0",
      "model_name": "HTMLModel",
      "state": {
       "layout": "IPY_MODEL_0cb625922b5f481f85c9215f9f4b3d23",
       "style": "IPY_MODEL_8f5256878fcc4418932eb682a7007e91",
       "value": " 3/3 [00:10&lt;00:00,  4.10s/it]"
      }
     },
     "539f0d72dd3543fbad79611d9f1bd031": {
      "model_module": "@jupyter-widgets/base",
      "model_module_version": "1.2.0",
      "model_name": "LayoutModel",
      "state": {}
     },
     "54ed6756a74146a8bcf1d0d9a6838a2b": {
      "model_module": "@jupyter-widgets/controls",
      "model_module_version": "1.5.0",
      "model_name": "DescriptionStyleModel",
      "state": {
       "description_width": ""
      }
     },
     "554aad861ce14a18bcfcd879557d5536": {
      "model_module": "@jupyter-widgets/base",
      "model_module_version": "1.2.0",
      "model_name": "LayoutModel",
      "state": {}
     },
     "5592b4ced2b04897acb15b7d476b9740": {
      "model_module": "@jupyter-widgets/base",
      "model_module_version": "1.2.0",
      "model_name": "LayoutModel",
      "state": {}
     },
     "55e7a37abac24908961c342bc93befe3": {
      "model_module": "@jupyter-widgets/controls",
      "model_module_version": "1.5.0",
      "model_name": "DescriptionStyleModel",
      "state": {
       "description_width": ""
      }
     },
     "5627352635654cd58c96ca414f1e6114": {
      "model_module": "@jupyter-widgets/base",
      "model_module_version": "1.2.0",
      "model_name": "LayoutModel",
      "state": {}
     },
     "5649d18abbde4f47a03b99cee129ca40": {
      "model_module": "@jupyter-widgets/controls",
      "model_module_version": "1.5.0",
      "model_name": "DescriptionStyleModel",
      "state": {
       "description_width": ""
      }
     },
     "56a6bad0b666407a9367de9bf30fd660": {
      "model_module": "@jupyter-widgets/base",
      "model_module_version": "1.2.0",
      "model_name": "LayoutModel",
      "state": {}
     },
     "56eadb9f4fd944dcb5039b404e09f6a1": {
      "model_module": "@jupyter-widgets/controls",
      "model_module_version": "1.5.0",
      "model_name": "ProgressStyleModel",
      "state": {
       "description_width": ""
      }
     },
     "56f349348df141708ca826a50e524d41": {
      "model_module": "@jupyter-widgets/controls",
      "model_module_version": "1.5.0",
      "model_name": "ProgressStyleModel",
      "state": {
       "description_width": ""
      }
     },
     "5707ef96db714ec0a3f2f9dbe98908c9": {
      "model_module": "@jupyter-widgets/controls",
      "model_module_version": "1.5.0",
      "model_name": "HTMLModel",
      "state": {
       "layout": "IPY_MODEL_3088d09c6b51431da8feba468e073631",
       "style": "IPY_MODEL_95cfbf3086504b4ab9a1449d5cf78769",
       "value": "100%"
      }
     },
     "57dfcbb0414848a7afaf25ae5b8f6318": {
      "model_module": "@jupyter-widgets/controls",
      "model_module_version": "1.5.0",
      "model_name": "HTMLModel",
      "state": {
       "layout": "IPY_MODEL_485731a4a3dc4749a02b85fab8597d7a",
       "style": "IPY_MODEL_f287eebaea2a42059275cf322b97e556",
       "value": "100%"
      }
     },
     "57e76b58a33b4bcd96f3a40b899044d9": {
      "model_module": "@jupyter-widgets/base",
      "model_module_version": "1.2.0",
      "model_name": "LayoutModel",
      "state": {}
     },
     "58366bed42f541dfadf9b3b57d005ecc": {
      "model_module": "@jupyter-widgets/base",
      "model_module_version": "1.2.0",
      "model_name": "LayoutModel",
      "state": {}
     },
     "583d1f1adf7746b78eeac541b547405b": {
      "model_module": "@jupyter-widgets/controls",
      "model_module_version": "1.5.0",
      "model_name": "DescriptionStyleModel",
      "state": {
       "description_width": ""
      }
     },
     "58e730ffdfd4482091cdaf8077d0cb8d": {
      "model_module": "@jupyter-widgets/base",
      "model_module_version": "1.2.0",
      "model_name": "LayoutModel",
      "state": {}
     },
     "58f0f746e8004a5fafe76d9dcdb1209b": {
      "model_module": "@jupyter-widgets/base",
      "model_module_version": "1.2.0",
      "model_name": "LayoutModel",
      "state": {}
     },
     "59116e8e1096438c959870c7d5a626e4": {
      "model_module": "@jupyter-widgets/controls",
      "model_module_version": "1.5.0",
      "model_name": "ProgressStyleModel",
      "state": {
       "description_width": ""
      }
     },
     "5976186c6a0042c2b496154953e7726d": {
      "model_module": "@jupyter-widgets/controls",
      "model_module_version": "1.5.0",
      "model_name": "ProgressStyleModel",
      "state": {
       "description_width": ""
      }
     },
     "5984e37e36044dfeac4109d7bc0b424e": {
      "model_module": "@jupyter-widgets/controls",
      "model_module_version": "1.5.0",
      "model_name": "HTMLModel",
      "state": {
       "layout": "IPY_MODEL_cf54b1ccc6414c8a97397e2727460764",
       "style": "IPY_MODEL_f8d0aa0d6d044fd9b885647c29ad5ed9",
       "value": "100%"
      }
     },
     "59b8436cb07c42e9bc5b74d1bab28248": {
      "model_module": "@jupyter-widgets/controls",
      "model_module_version": "1.5.0",
      "model_name": "DescriptionStyleModel",
      "state": {
       "description_width": ""
      }
     },
     "59cb8b51d70545db801f62bf91dde842": {
      "model_module": "@jupyter-widgets/controls",
      "model_module_version": "1.5.0",
      "model_name": "FloatProgressModel",
      "state": {
       "bar_style": "success",
       "layout": "IPY_MODEL_817301f479794c12b0e516e4b27ca565",
       "max": 3,
       "style": "IPY_MODEL_74e16d5201b746f6bda501151e592eed",
       "value": 3
      }
     },
     "5a7402acea7c46b7acc62d232cbaafda": {
      "model_module": "@jupyter-widgets/base",
      "model_module_version": "1.2.0",
      "model_name": "LayoutModel",
      "state": {}
     },
     "5a8654bdc7ea4e62b2701eabdcc263a2": {
      "model_module": "@jupyter-widgets/base",
      "model_module_version": "1.2.0",
      "model_name": "LayoutModel",
      "state": {}
     },
     "5af10075c7954a7a86b516adebbabe88": {
      "model_module": "@jupyter-widgets/controls",
      "model_module_version": "1.5.0",
      "model_name": "HTMLModel",
      "state": {
       "layout": "IPY_MODEL_d6e18d7031c9403c8ab3e13577ae7c18",
       "style": "IPY_MODEL_77ed0aba6bdd404193911cba5b9d44ea",
       "value": " 3/3 [00:10&lt;00:00,  4.27s/it]"
      }
     },
     "5af398f4192b4467a7e82d44629a7090": {
      "model_module": "@jupyter-widgets/controls",
      "model_module_version": "1.5.0",
      "model_name": "HBoxModel",
      "state": {
       "children": [
        "IPY_MODEL_39ba132769b346d3807f8ffdb35ef4ef",
        "IPY_MODEL_e83b55d4dce248a9ad00d59b4f589287",
        "IPY_MODEL_bd7a94334adf4927a42ed12c73654dac"
       ],
       "layout": "IPY_MODEL_2014c622957f4172bf5538e7032073d7"
      }
     },
     "5b069813b89b417297a48aeb2154fe67": {
      "model_module": "@jupyter-widgets/base",
      "model_module_version": "1.2.0",
      "model_name": "LayoutModel",
      "state": {}
     },
     "5bc99c916ebd414daf96f69f725d40ea": {
      "model_module": "@jupyter-widgets/controls",
      "model_module_version": "1.5.0",
      "model_name": "FloatProgressModel",
      "state": {
       "bar_style": "success",
       "layout": "IPY_MODEL_01e5af5b26df48c68e2a60acda563670",
       "max": 14,
       "style": "IPY_MODEL_a2f63c20b4dd48a8866fcb6b802f8c4a",
       "value": 14
      }
     },
     "5c1cdc7f1d7f4334997a05cb16278393": {
      "model_module": "@jupyter-widgets/base",
      "model_module_version": "1.2.0",
      "model_name": "LayoutModel",
      "state": {}
     },
     "5d095f99d4c945618fe22682b2919f7f": {
      "model_module": "@jupyter-widgets/controls",
      "model_module_version": "1.5.0",
      "model_name": "HTMLModel",
      "state": {
       "layout": "IPY_MODEL_0d06caff45da43a387feb0da28b050fb",
       "style": "IPY_MODEL_df91ae866b7c4ab583dd9c521498031c",
       "value": "100%"
      }
     },
     "5d1a1fe6fd844c7d907c9883a206650c": {
      "model_module": "@jupyter-widgets/controls",
      "model_module_version": "1.5.0",
      "model_name": "HBoxModel",
      "state": {
       "children": [
        "IPY_MODEL_3417b3ebb03f4797818201cd315cc5d6",
        "IPY_MODEL_05b3bfdeba8148b8b4f9e8a220a48ad1",
        "IPY_MODEL_533f15243a5d4b6393b50c909b6f55e9"
       ],
       "layout": "IPY_MODEL_385052d0c22a494c95a54f3ec5ca9ea2"
      }
     },
     "5d60a27d33a64fe0b9065d67b7327045": {
      "model_module": "@jupyter-widgets/controls",
      "model_module_version": "1.5.0",
      "model_name": "ProgressStyleModel",
      "state": {
       "description_width": ""
      }
     },
     "5d64f8724c144e37b875cd67b10ec38b": {
      "model_module": "@jupyter-widgets/controls",
      "model_module_version": "1.5.0",
      "model_name": "ProgressStyleModel",
      "state": {
       "description_width": ""
      }
     },
     "5e4ab518bc7f4437b2e0d4d180d3eb3d": {
      "model_module": "@jupyter-widgets/controls",
      "model_module_version": "1.5.0",
      "model_name": "FloatProgressModel",
      "state": {
       "bar_style": "success",
       "layout": "IPY_MODEL_46ebb4fddc664e87b0138b0620d90088",
       "max": 3,
       "style": "IPY_MODEL_a14329532c41402699841551dbcaf36d",
       "value": 3
      }
     },
     "5f3c41984e834353b4bd3fbb27a25c2c": {
      "model_module": "@jupyter-widgets/controls",
      "model_module_version": "1.5.0",
      "model_name": "DescriptionStyleModel",
      "state": {
       "description_width": ""
      }
     },
     "600360577c904457ae06c714da3226ab": {
      "model_module": "@jupyter-widgets/base",
      "model_module_version": "1.2.0",
      "model_name": "LayoutModel",
      "state": {}
     },
     "6022fd1d8b704696a3ea76aed0286917": {
      "model_module": "@jupyter-widgets/controls",
      "model_module_version": "1.5.0",
      "model_name": "DescriptionStyleModel",
      "state": {
       "description_width": ""
      }
     },
     "6062aa9efc574da8b548fee3b1c51c6e": {
      "model_module": "@jupyter-widgets/controls",
      "model_module_version": "1.5.0",
      "model_name": "HBoxModel",
      "state": {
       "children": [
        "IPY_MODEL_a32af960a36d4b52a3edd1f55e071c15",
        "IPY_MODEL_27eeaee083424c1f81fecc56dea27a6d",
        "IPY_MODEL_28d7d40964e34064a071c4f266111d5e"
       ],
       "layout": "IPY_MODEL_c179d82d134c4885b232d00bb921d2c4"
      }
     },
     "609bdb59378141f4a96e77ac1ac3c4d0": {
      "model_module": "@jupyter-widgets/base",
      "model_module_version": "1.2.0",
      "model_name": "LayoutModel",
      "state": {}
     },
     "60f943ca34524bd1afbce2cc89a7f8f8": {
      "model_module": "@jupyter-widgets/controls",
      "model_module_version": "1.5.0",
      "model_name": "HBoxModel",
      "state": {
       "children": [
        "IPY_MODEL_43ea1b3882bd41068924670970a9c5e8",
        "IPY_MODEL_fd78d4fe60794bd9a4080bccdd2b5066",
        "IPY_MODEL_e026cb4a76f64518aa80c32c5d6bc6d6"
       ],
       "layout": "IPY_MODEL_b248845b0071429886b9bb169c16460e"
      }
     },
     "614f7e74e8964772bbf709eec39a1524": {
      "model_module": "@jupyter-widgets/controls",
      "model_module_version": "1.5.0",
      "model_name": "DescriptionStyleModel",
      "state": {
       "description_width": ""
      }
     },
     "6176e82b1a604fb6b50991303317d235": {
      "model_module": "@jupyter-widgets/base",
      "model_module_version": "1.2.0",
      "model_name": "LayoutModel",
      "state": {}
     },
     "6217b2e724b7488dbf152daf3fb7ff95": {
      "model_module": "@jupyter-widgets/controls",
      "model_module_version": "1.5.0",
      "model_name": "HTMLModel",
      "state": {
       "layout": "IPY_MODEL_600360577c904457ae06c714da3226ab",
       "style": "IPY_MODEL_9a4b752de1ac4a439e4a44845e5667e5",
       "value": " 14/14 [00:36&lt;00:00,  2.68s/it]"
      }
     },
     "625a723425fa4d9990a4c0a5613fc01c": {
      "model_module": "@jupyter-widgets/base",
      "model_module_version": "1.2.0",
      "model_name": "LayoutModel",
      "state": {}
     },
     "62631fe6d1564f839a570964b62a24c8": {
      "model_module": "@jupyter-widgets/base",
      "model_module_version": "1.2.0",
      "model_name": "LayoutModel",
      "state": {}
     },
     "631932574a4f478698da5bfd889c15f2": {
      "model_module": "@jupyter-widgets/controls",
      "model_module_version": "1.5.0",
      "model_name": "FloatProgressModel",
      "state": {
       "bar_style": "success",
       "layout": "IPY_MODEL_cbd792511fbc4743b175d6ca42fbf072",
       "max": 3,
       "style": "IPY_MODEL_7aedc26c48254a838669f450a1fcbb22",
       "value": 3
      }
     },
     "631c4e5439134b44aa2abb0f2d6114da": {
      "model_module": "@jupyter-widgets/controls",
      "model_module_version": "1.5.0",
      "model_name": "HTMLModel",
      "state": {
       "layout": "IPY_MODEL_903eacd04bae46db83092bc1e8f150e2",
       "style": "IPY_MODEL_d87a02a290ab42fb8f24de71c309cf8f",
       "value": "100%"
      }
     },
     "63496197b64c4981aa1841e5dd0ed3a2": {
      "model_module": "@jupyter-widgets/controls",
      "model_module_version": "1.5.0",
      "model_name": "ProgressStyleModel",
      "state": {
       "description_width": ""
      }
     },
     "63a70b06ff4246d3819f71da3565aefd": {
      "model_module": "@jupyter-widgets/controls",
      "model_module_version": "1.5.0",
      "model_name": "HTMLModel",
      "state": {
       "layout": "IPY_MODEL_7a10d58c1ecc444c83d13eb4996e5ee4",
       "style": "IPY_MODEL_8e28b38aef194897b6131f4317563b9f",
       "value": " 21%"
      }
     },
     "63db93ef7251427da2644643a5f52e2a": {
      "model_module": "@jupyter-widgets/controls",
      "model_module_version": "1.5.0",
      "model_name": "DescriptionStyleModel",
      "state": {
       "description_width": ""
      }
     },
     "641a8e47dba14be4aa8a10f1329bcaa6": {
      "model_module": "@jupyter-widgets/controls",
      "model_module_version": "1.5.0",
      "model_name": "HTMLModel",
      "state": {
       "layout": "IPY_MODEL_d545003943714d8c998b2c7a376fd3ff",
       "style": "IPY_MODEL_3a71f9045ef64b82ae273c50b5be2d91",
       "value": " 14/14 [00:33&lt;00:00,  2.49s/it]"
      }
     },
     "643781621b914dceaab16ab069a89a6c": {
      "model_module": "@jupyter-widgets/controls",
      "model_module_version": "1.5.0",
      "model_name": "ProgressStyleModel",
      "state": {
       "description_width": ""
      }
     },
     "6598381da8a44dae8d3e17c72ca74f0d": {
      "model_module": "@jupyter-widgets/controls",
      "model_module_version": "1.5.0",
      "model_name": "DescriptionStyleModel",
      "state": {
       "description_width": ""
      }
     },
     "672d456870d44b42957d9ad3669127cc": {
      "model_module": "@jupyter-widgets/controls",
      "model_module_version": "1.5.0",
      "model_name": "DescriptionStyleModel",
      "state": {
       "description_width": ""
      }
     },
     "67510021658848edbe477ad4bc8038f4": {
      "model_module": "@jupyter-widgets/base",
      "model_module_version": "1.2.0",
      "model_name": "LayoutModel",
      "state": {}
     },
     "67597766408742479ce0bf6cc2478e26": {
      "model_module": "@jupyter-widgets/base",
      "model_module_version": "1.2.0",
      "model_name": "LayoutModel",
      "state": {}
     },
     "67bd004a9cc54ca98a945c66e98a8dc5": {
      "model_module": "@jupyter-widgets/base",
      "model_module_version": "1.2.0",
      "model_name": "LayoutModel",
      "state": {}
     },
     "67f8e9926ff04911a5ecb7f084ab9bda": {
      "model_module": "@jupyter-widgets/controls",
      "model_module_version": "1.5.0",
      "model_name": "HBoxModel",
      "state": {
       "children": [
        "IPY_MODEL_5984e37e36044dfeac4109d7bc0b424e",
        "IPY_MODEL_af81eb420a204b4db16e0900544ee830",
        "IPY_MODEL_8a03ad0d87be4739985ebdbd8e3f6821"
       ],
       "layout": "IPY_MODEL_2503dfb81f4847be8a2dd83ba9fce570"
      }
     },
     "68639f2e8c1c4e3289e0f6d8dce28243": {
      "model_module": "@jupyter-widgets/controls",
      "model_module_version": "1.5.0",
      "model_name": "HTMLModel",
      "state": {
       "layout": "IPY_MODEL_e00f2d4bde8d4977a2c1fcf12272aee9",
       "style": "IPY_MODEL_4566d1e63f3940db9ec45156b6a840dc",
       "value": " 14/14 [00:36&lt;00:00,  2.65s/it]"
      }
     },
     "687f590cf40747caabe161fa9d4c56bc": {
      "model_module": "@jupyter-widgets/controls",
      "model_module_version": "1.5.0",
      "model_name": "HTMLModel",
      "state": {
       "layout": "IPY_MODEL_e11311ed201b4eec8375f0060b43cdd3",
       "style": "IPY_MODEL_4397d05cf65a4a3098f3fbc65ec9cf13",
       "value": " 2/3 [00:06&lt;00:03,  3.20s/it]"
      }
     },
     "6924f9666c14408f974c8626cb341bf0": {
      "model_module": "@jupyter-widgets/base",
      "model_module_version": "1.2.0",
      "model_name": "LayoutModel",
      "state": {}
     },
     "69329a3476f64b6ebd2f92c94b295e8c": {
      "model_module": "@jupyter-widgets/controls",
      "model_module_version": "1.5.0",
      "model_name": "FloatProgressModel",
      "state": {
       "bar_style": "success",
       "layout": "IPY_MODEL_ada2a00636b1438498db0770cdd39bef",
       "max": 3,
       "style": "IPY_MODEL_c5989e198ec944dc8b7775b5705d73e5",
       "value": 3
      }
     },
     "6947ec67f5c2497fa581f2f98be5d5b6": {
      "model_module": "@jupyter-widgets/base",
      "model_module_version": "1.2.0",
      "model_name": "LayoutModel",
      "state": {}
     },
     "69ba768c93bf4d2585127c9dd8cca2a1": {
      "model_module": "@jupyter-widgets/base",
      "model_module_version": "1.2.0",
      "model_name": "LayoutModel",
      "state": {}
     },
     "69fd7e6e13c94f61a5ebb811aa394333": {
      "model_module": "@jupyter-widgets/controls",
      "model_module_version": "1.5.0",
      "model_name": "HTMLModel",
      "state": {
       "layout": "IPY_MODEL_d8b129d3a2c341ac9bc912eaa595c0a3",
       "style": "IPY_MODEL_c06f451b863c41a2afebcd113177edfd",
       "value": " 14/14 [00:34&lt;00:00,  2.60s/it]"
      }
     },
     "6aad32a9423043eb8bffaa7ab8e9632f": {
      "model_module": "@jupyter-widgets/controls",
      "model_module_version": "1.5.0",
      "model_name": "DescriptionStyleModel",
      "state": {
       "description_width": ""
      }
     },
     "6ab2c800eaef42e4a286a0aab35ed190": {
      "model_module": "@jupyter-widgets/controls",
      "model_module_version": "1.5.0",
      "model_name": "FloatProgressModel",
      "state": {
       "bar_style": "success",
       "layout": "IPY_MODEL_cf74716173fd494f8ea0332793acb220",
       "max": 3,
       "style": "IPY_MODEL_000a0ce30ef84bfc8ab5b9c23b221bc4",
       "value": 3
      }
     },
     "6b85b3f5a8a844c2bcfadcce25177f81": {
      "model_module": "@jupyter-widgets/controls",
      "model_module_version": "1.5.0",
      "model_name": "HTMLModel",
      "state": {
       "layout": "IPY_MODEL_78c8eefc38c6474fa027d6414ab01f75",
       "style": "IPY_MODEL_d8dded7411de4690a558a1ae7a282d56",
       "value": "100%"
      }
     },
     "6ba368873182486380ecad62d4aec0de": {
      "model_module": "@jupyter-widgets/controls",
      "model_module_version": "1.5.0",
      "model_name": "HTMLModel",
      "state": {
       "layout": "IPY_MODEL_4311cd0e553c47d9b70df4a18569c812",
       "style": "IPY_MODEL_95300a5b30004cba8b3edd3a03b70613",
       "value": " 14/14 [00:36&lt;00:00,  2.73s/it]"
      }
     },
     "6c26f4dda729429f806b3e336dc81622": {
      "model_module": "@jupyter-widgets/controls",
      "model_module_version": "1.5.0",
      "model_name": "HBoxModel",
      "state": {
       "children": [
        "IPY_MODEL_07019ea46ea046e0b87c8e4a25c6963b",
        "IPY_MODEL_d2f142dce1c9498c806f06a30b43f04b",
        "IPY_MODEL_641a8e47dba14be4aa8a10f1329bcaa6"
       ],
       "layout": "IPY_MODEL_19ea34ec07da4d61acec8c855bbc02bf"
      }
     },
     "6ce6dc7f238243caaf36f8495409d552": {
      "model_module": "@jupyter-widgets/controls",
      "model_module_version": "1.5.0",
      "model_name": "ProgressStyleModel",
      "state": {
       "description_width": ""
      }
     },
     "6e8cca8f46754c3d8e0ab68f602c8685": {
      "model_module": "@jupyter-widgets/controls",
      "model_module_version": "1.5.0",
      "model_name": "HBoxModel",
      "state": {
       "children": [
        "IPY_MODEL_335359af048044b68a622eeed260338f",
        "IPY_MODEL_6fef9dbe7c7f487ea931cc472232c7f8",
        "IPY_MODEL_2796d4640e4c4e929e33d1c64b9f54fc"
       ],
       "layout": "IPY_MODEL_e888eadbc7f94bd8a49318165d57b41e"
      }
     },
     "6f794c624be94766aa1173d268857714": {
      "model_module": "@jupyter-widgets/controls",
      "model_module_version": "1.5.0",
      "model_name": "HTMLModel",
      "state": {
       "layout": "IPY_MODEL_234e24831a0f4f43bc69f819aff734ef",
       "style": "IPY_MODEL_87594e0f75114cac9ea7e461d39e53ea",
       "value": "100%"
      }
     },
     "6fcff024baf2498bb3ac78f0d1527144": {
      "model_module": "@jupyter-widgets/base",
      "model_module_version": "1.2.0",
      "model_name": "LayoutModel",
      "state": {}
     },
     "6fd4f788bb824b16af42e0472465355c": {
      "model_module": "@jupyter-widgets/controls",
      "model_module_version": "1.5.0",
      "model_name": "HBoxModel",
      "state": {
       "children": [
        "IPY_MODEL_dc0dd2981a724c11960fdfb9c4753949",
        "IPY_MODEL_430fec0f20bc4e7ebe830021f63dd731",
        "IPY_MODEL_87bd516446324c848607396a35fbd10d"
       ],
       "layout": "IPY_MODEL_71662bb3355047bfa1794f2618d512fd"
      }
     },
     "6fef9dbe7c7f487ea931cc472232c7f8": {
      "model_module": "@jupyter-widgets/controls",
      "model_module_version": "1.5.0",
      "model_name": "FloatProgressModel",
      "state": {
       "bar_style": "danger",
       "layout": "IPY_MODEL_8ed4ea60c228441bb58a109bfdb44d87",
       "max": 14,
       "style": "IPY_MODEL_2d314896d673436ca34fb2700ce24e3f",
       "value": 8
      }
     },
     "70268c8c928f4f88b7800ca0b349bf8e": {
      "model_module": "@jupyter-widgets/controls",
      "model_module_version": "1.5.0",
      "model_name": "FloatProgressModel",
      "state": {
       "bar_style": "success",
       "layout": "IPY_MODEL_85a207da415748b88779087c996cfbbe",
       "max": 3,
       "style": "IPY_MODEL_a52dc0b6be834b578252ec84b57cb7ae",
       "value": 3
      }
     },
     "70960292e2904c71aaf0829c5276ff22": {
      "model_module": "@jupyter-widgets/controls",
      "model_module_version": "1.5.0",
      "model_name": "HTMLModel",
      "state": {
       "layout": "IPY_MODEL_f302702e49304ecc970ba60d6dff4f48",
       "style": "IPY_MODEL_54ed6756a74146a8bcf1d0d9a6838a2b",
       "value": " 67%"
      }
     },
     "70aed8869bb54430ad242135ad759d2f": {
      "model_module": "@jupyter-widgets/controls",
      "model_module_version": "1.5.0",
      "model_name": "HBoxModel",
      "state": {
       "children": [
        "IPY_MODEL_2b06f801070a48a5bb5f39f5577cf5f1",
        "IPY_MODEL_b6c01ffdf5dc4c1a93c67b7a9fa840a0",
        "IPY_MODEL_c0a9ef47e8e84bcba447e99fa44f6883"
       ],
       "layout": "IPY_MODEL_271558bdfe944780b3e8a65d2bfe1626"
      }
     },
     "70eea4c1fb1e41ff8ee31f5613ef5754": {
      "model_module": "@jupyter-widgets/base",
      "model_module_version": "1.2.0",
      "model_name": "LayoutModel",
      "state": {}
     },
     "71662bb3355047bfa1794f2618d512fd": {
      "model_module": "@jupyter-widgets/base",
      "model_module_version": "1.2.0",
      "model_name": "LayoutModel",
      "state": {}
     },
     "721e182dd01e47aca3f0e758c8c7c4b6": {
      "model_module": "@jupyter-widgets/controls",
      "model_module_version": "1.5.0",
      "model_name": "DescriptionStyleModel",
      "state": {
       "description_width": ""
      }
     },
     "73d6e42220b34c1db7c9c32952805469": {
      "model_module": "@jupyter-widgets/controls",
      "model_module_version": "1.5.0",
      "model_name": "DescriptionStyleModel",
      "state": {
       "description_width": ""
      }
     },
     "749e6b87082c4e4bbdd4030cad16b4ca": {
      "model_module": "@jupyter-widgets/controls",
      "model_module_version": "1.5.0",
      "model_name": "FloatProgressModel",
      "state": {
       "bar_style": "success",
       "layout": "IPY_MODEL_bd101b633ea34ac69246ecb0598515b8",
       "max": 14,
       "style": "IPY_MODEL_9cb0f87fdb62465a8ac2ef169db7b6b9",
       "value": 14
      }
     },
     "74b05596216a49a1b150b9be0061ffef": {
      "model_module": "@jupyter-widgets/controls",
      "model_module_version": "1.5.0",
      "model_name": "HTMLModel",
      "state": {
       "layout": "IPY_MODEL_7b937f4aa0db46cbbdf18c146a4d8d9d",
       "style": "IPY_MODEL_e49fc61a072143458af206edcef6af8c",
       "value": " 14/14 [00:35&lt;00:00,  2.65s/it]"
      }
     },
     "74b140d56f264876ad3baac400674e81": {
      "model_module": "@jupyter-widgets/base",
      "model_module_version": "1.2.0",
      "model_name": "LayoutModel",
      "state": {}
     },
     "74beaec67ac64b4f9e4ffd9764bd2b9d": {
      "model_module": "@jupyter-widgets/controls",
      "model_module_version": "1.5.0",
      "model_name": "DescriptionStyleModel",
      "state": {
       "description_width": ""
      }
     },
     "74e16d5201b746f6bda501151e592eed": {
      "model_module": "@jupyter-widgets/controls",
      "model_module_version": "1.5.0",
      "model_name": "ProgressStyleModel",
      "state": {
       "description_width": ""
      }
     },
     "7598e2700b684d90841799187dfcc138": {
      "model_module": "@jupyter-widgets/controls",
      "model_module_version": "1.5.0",
      "model_name": "HTMLModel",
      "state": {
       "layout": "IPY_MODEL_415ded97bd634a94aa9493edee1aef5e",
       "style": "IPY_MODEL_2a1b43fb3d5e41dbaad395e88d69dc17",
       "value": " 10/14 [00:26&lt;00:17,  4.32s/it]"
      }
     },
     "761febfec9434d18a10e7a292405c5d3": {
      "model_module": "@jupyter-widgets/controls",
      "model_module_version": "1.5.0",
      "model_name": "HTMLModel",
      "state": {
       "layout": "IPY_MODEL_2493d03c7bd34717904cab4538dd29ad",
       "style": "IPY_MODEL_437853bb71fc48718a27425bc6fcd9c5",
       "value": " 3/3 [00:10&lt;00:00,  4.29s/it]"
      }
     },
     "76d91f459d6d4f2aa4c55161e3e2fbd5": {
      "model_module": "@jupyter-widgets/controls",
      "model_module_version": "1.5.0",
      "model_name": "DescriptionStyleModel",
      "state": {
       "description_width": ""
      }
     },
     "77027611d9f94233a558744125d779c3": {
      "model_module": "@jupyter-widgets/controls",
      "model_module_version": "1.5.0",
      "model_name": "DescriptionStyleModel",
      "state": {
       "description_width": ""
      }
     },
     "77569b61b9f94b3bba023f8f25e98d70": {
      "model_module": "@jupyter-widgets/base",
      "model_module_version": "1.2.0",
      "model_name": "LayoutModel",
      "state": {}
     },
     "7764764341734b73a31c67d572f15ab7": {
      "model_module": "@jupyter-widgets/controls",
      "model_module_version": "1.5.0",
      "model_name": "HBoxModel",
      "state": {
       "children": [
        "IPY_MODEL_1ea51bc560ca4022bb1a949c79a0f734",
        "IPY_MODEL_4388f670ebb044a3a9838ebdc4c2a587",
        "IPY_MODEL_b99910e822374a6b9ce70d7b96324062"
       ],
       "layout": "IPY_MODEL_62631fe6d1564f839a570964b62a24c8"
      }
     },
     "777f86a86f664c9cb9be08b5315a4d59": {
      "model_module": "@jupyter-widgets/controls",
      "model_module_version": "1.5.0",
      "model_name": "FloatProgressModel",
      "state": {
       "bar_style": "success",
       "layout": "IPY_MODEL_a251fdba365540e59af8cbd3077647f0",
       "max": 3,
       "style": "IPY_MODEL_c5bdc1aea1dc42808c80934112cab5ca",
       "value": 3
      }
     },
     "77cc87b539e74f5dafad722153e60cd3": {
      "model_module": "@jupyter-widgets/controls",
      "model_module_version": "1.5.0",
      "model_name": "DescriptionStyleModel",
      "state": {
       "description_width": ""
      }
     },
     "77ed0aba6bdd404193911cba5b9d44ea": {
      "model_module": "@jupyter-widgets/controls",
      "model_module_version": "1.5.0",
      "model_name": "DescriptionStyleModel",
      "state": {
       "description_width": ""
      }
     },
     "7863273832e24bb2b5709eec56869f46": {
      "model_module": "@jupyter-widgets/controls",
      "model_module_version": "1.5.0",
      "model_name": "HTMLModel",
      "state": {
       "layout": "IPY_MODEL_4c7a44cfe46546c7ad4510925b762ba3",
       "style": "IPY_MODEL_63db93ef7251427da2644643a5f52e2a",
       "value": " 3/3 [00:10&lt;00:00,  3.99s/it]"
      }
     },
     "78c8eefc38c6474fa027d6414ab01f75": {
      "model_module": "@jupyter-widgets/base",
      "model_module_version": "1.2.0",
      "model_name": "LayoutModel",
      "state": {}
     },
     "799c2ce912b542fe9177159be2e714af": {
      "model_module": "@jupyter-widgets/controls",
      "model_module_version": "1.5.0",
      "model_name": "FloatProgressModel",
      "state": {
       "bar_style": "success",
       "layout": "IPY_MODEL_edba1ebe3a684c6da97596e98b5211a5",
       "max": 14,
       "style": "IPY_MODEL_e4fee53c94fa471e8eb4b075e0b60ed2",
       "value": 14
      }
     },
     "79a44aa20b9946bc8b79ab2e2e5df6a2": {
      "model_module": "@jupyter-widgets/controls",
      "model_module_version": "1.5.0",
      "model_name": "FloatProgressModel",
      "state": {
       "bar_style": "success",
       "layout": "IPY_MODEL_46f145a243894c2d993c289862c13a8b",
       "max": 14,
       "style": "IPY_MODEL_a0618f7e69d04e0a9872eb21f6b60876",
       "value": 14
      }
     },
     "7a10d58c1ecc444c83d13eb4996e5ee4": {
      "model_module": "@jupyter-widgets/base",
      "model_module_version": "1.2.0",
      "model_name": "LayoutModel",
      "state": {}
     },
     "7aab256f06ef4b9e8565daa375e42e01": {
      "model_module": "@jupyter-widgets/controls",
      "model_module_version": "1.5.0",
      "model_name": "DescriptionStyleModel",
      "state": {
       "description_width": ""
      }
     },
     "7ad06790a5154b6986cba20d76f8be7d": {
      "model_module": "@jupyter-widgets/controls",
      "model_module_version": "1.5.0",
      "model_name": "ProgressStyleModel",
      "state": {
       "description_width": ""
      }
     },
     "7aedc26c48254a838669f450a1fcbb22": {
      "model_module": "@jupyter-widgets/controls",
      "model_module_version": "1.5.0",
      "model_name": "ProgressStyleModel",
      "state": {
       "description_width": ""
      }
     },
     "7b671e2e52f24c399d68c55d193f4624": {
      "model_module": "@jupyter-widgets/controls",
      "model_module_version": "1.5.0",
      "model_name": "HTMLModel",
      "state": {
       "layout": "IPY_MODEL_1b3e9c32128b4afd82e6239a2c210fd1",
       "style": "IPY_MODEL_837873934a2b49d7b1739352bf6c8c7c",
       "value": " 3/3 [00:10&lt;00:00,  4.20s/it]"
      }
     },
     "7b937f4aa0db46cbbdf18c146a4d8d9d": {
      "model_module": "@jupyter-widgets/base",
      "model_module_version": "1.2.0",
      "model_name": "LayoutModel",
      "state": {}
     },
     "7b94f9a54ba547ecaa1e06fb565d1e14": {
      "model_module": "@jupyter-widgets/controls",
      "model_module_version": "1.5.0",
      "model_name": "HBoxModel",
      "state": {
       "children": [
        "IPY_MODEL_0b4691c9dc8c4730b2406addff4465cf",
        "IPY_MODEL_195bf44553064ef9b5c442ed7f8d14c0",
        "IPY_MODEL_68639f2e8c1c4e3289e0f6d8dce28243"
       ],
       "layout": "IPY_MODEL_2675acb784a64d10b3c0d15cb32666e4"
      }
     },
     "7bc1387af95243a4936c14134903bc0d": {
      "model_module": "@jupyter-widgets/base",
      "model_module_version": "1.2.0",
      "model_name": "LayoutModel",
      "state": {}
     },
     "7c0f779c53b24b90bfd89261b716e72d": {
      "model_module": "@jupyter-widgets/controls",
      "model_module_version": "1.5.0",
      "model_name": "DescriptionStyleModel",
      "state": {
       "description_width": ""
      }
     },
     "7e6348b6f12249d5968b9eb97f166010": {
      "model_module": "@jupyter-widgets/controls",
      "model_module_version": "1.5.0",
      "model_name": "DescriptionStyleModel",
      "state": {
       "description_width": ""
      }
     },
     "7f39e4fb792e4f0dbe1c7c27002d693a": {
      "model_module": "@jupyter-widgets/controls",
      "model_module_version": "1.5.0",
      "model_name": "FloatProgressModel",
      "state": {
       "bar_style": "success",
       "layout": "IPY_MODEL_81b26703a68944f4ab93ad79e9c80094",
       "max": 14,
       "style": "IPY_MODEL_a4587bcd144e43aca297d025ad154820",
       "value": 14
      }
     },
     "801c18dea9304ecbb6bb0636069827d4": {
      "model_module": "@jupyter-widgets/base",
      "model_module_version": "1.2.0",
      "model_name": "LayoutModel",
      "state": {}
     },
     "802c5562f59f42ef96997de1b9feb3b5": {
      "model_module": "@jupyter-widgets/controls",
      "model_module_version": "1.5.0",
      "model_name": "HTMLModel",
      "state": {
       "layout": "IPY_MODEL_a99c5e20d6d7423181e14969ec0ffc55",
       "style": "IPY_MODEL_edd4ff7f3e974300b167832d9129ddc9",
       "value": "100%"
      }
     },
     "8039000c118c4b35bc9ffcc4d13b27f3": {
      "model_module": "@jupyter-widgets/controls",
      "model_module_version": "1.5.0",
      "model_name": "HTMLModel",
      "state": {
       "layout": "IPY_MODEL_084efb17fade418aac55ccf88c99373d",
       "style": "IPY_MODEL_fcae490625734c64bdd2385f2511ea70",
       "value": " 14/14 [00:37&lt;00:00,  2.77s/it]"
      }
     },
     "805874e27f1a45e1b89fb0c287a680a8": {
      "model_module": "@jupyter-widgets/controls",
      "model_module_version": "1.5.0",
      "model_name": "DescriptionStyleModel",
      "state": {
       "description_width": ""
      }
     },
     "809b845a947d4eceaa9d7201273254c6": {
      "model_module": "@jupyter-widgets/base",
      "model_module_version": "1.2.0",
      "model_name": "LayoutModel",
      "state": {}
     },
     "80c763c7699b4ff49a71253aa16e9b40": {
      "model_module": "@jupyter-widgets/base",
      "model_module_version": "1.2.0",
      "model_name": "LayoutModel",
      "state": {}
     },
     "8119cd3961734583bf6db0c483e7f3a5": {
      "model_module": "@jupyter-widgets/controls",
      "model_module_version": "1.5.0",
      "model_name": "HTMLModel",
      "state": {
       "layout": "IPY_MODEL_0f08dbddfbf34a21a5d145735909cfec",
       "style": "IPY_MODEL_a2dc4e35c9ca48d3a6e51fc5cefd0ced",
       "value": " 14/14 [00:34&lt;00:00,  2.58s/it]"
      }
     },
     "81219c097ac744b69ad4e171ef739df5": {
      "model_module": "@jupyter-widgets/controls",
      "model_module_version": "1.5.0",
      "model_name": "DescriptionStyleModel",
      "state": {
       "description_width": ""
      }
     },
     "817301f479794c12b0e516e4b27ca565": {
      "model_module": "@jupyter-widgets/base",
      "model_module_version": "1.2.0",
      "model_name": "LayoutModel",
      "state": {}
     },
     "8184abafd437439481a39fe8f50c41bf": {
      "model_module": "@jupyter-widgets/controls",
      "model_module_version": "1.5.0",
      "model_name": "ProgressStyleModel",
      "state": {
       "description_width": ""
      }
     },
     "81b26703a68944f4ab93ad79e9c80094": {
      "model_module": "@jupyter-widgets/base",
      "model_module_version": "1.2.0",
      "model_name": "LayoutModel",
      "state": {}
     },
     "81fd12c7fc3c414b93a7481f3fb7da1e": {
      "model_module": "@jupyter-widgets/controls",
      "model_module_version": "1.5.0",
      "model_name": "HTMLModel",
      "state": {
       "layout": "IPY_MODEL_276ce3320f1349639ffd64105f12b350",
       "style": "IPY_MODEL_77027611d9f94233a558744125d779c3",
       "value": "100%"
      }
     },
     "8217a65ec82749c384cfde988d04b47e": {
      "model_module": "@jupyter-widgets/base",
      "model_module_version": "1.2.0",
      "model_name": "LayoutModel",
      "state": {}
     },
     "82fb3cf99ebb4e96ac943460c9281ad7": {
      "model_module": "@jupyter-widgets/controls",
      "model_module_version": "1.5.0",
      "model_name": "HTMLModel",
      "state": {
       "layout": "IPY_MODEL_4df9ea255ee04057a55797a504a03021",
       "style": "IPY_MODEL_f4e82aa0dad7492e9f251f424c0459f3",
       "value": " 3/3 [00:11&lt;00:00,  4.35s/it]"
      }
     },
     "83367f94883e4fd6883bf6596850b72c": {
      "model_module": "@jupyter-widgets/controls",
      "model_module_version": "1.5.0",
      "model_name": "ProgressStyleModel",
      "state": {
       "description_width": ""
      }
     },
     "837873934a2b49d7b1739352bf6c8c7c": {
      "model_module": "@jupyter-widgets/controls",
      "model_module_version": "1.5.0",
      "model_name": "DescriptionStyleModel",
      "state": {
       "description_width": ""
      }
     },
     "83c2fac7843c4663a1b118a4efb743db": {
      "model_module": "@jupyter-widgets/controls",
      "model_module_version": "1.5.0",
      "model_name": "HTMLModel",
      "state": {
       "layout": "IPY_MODEL_5592b4ced2b04897acb15b7d476b9740",
       "style": "IPY_MODEL_f13ca19e18544997bae83876d0159c0a",
       "value": "100%"
      }
     },
     "845af8d2da2a4ab4ad8df8b4e2341619": {
      "model_module": "@jupyter-widgets/controls",
      "model_module_version": "1.5.0",
      "model_name": "DescriptionStyleModel",
      "state": {
       "description_width": ""
      }
     },
     "850b5faee343454caff7bcb954c1b297": {
      "model_module": "@jupyter-widgets/base",
      "model_module_version": "1.2.0",
      "model_name": "LayoutModel",
      "state": {}
     },
     "854dbd68562548558ed1aa363a4554d2": {
      "model_module": "@jupyter-widgets/controls",
      "model_module_version": "1.5.0",
      "model_name": "HTMLModel",
      "state": {
       "layout": "IPY_MODEL_530227233cdb4d7bbe6a127d11bbbc96",
       "style": "IPY_MODEL_5f3c41984e834353b4bd3fbb27a25c2c",
       "value": " 3/3 [00:10&lt;00:00,  4.26s/it]"
      }
     },
     "8588cbf7c52d4f418839811101f446cc": {
      "model_module": "@jupyter-widgets/base",
      "model_module_version": "1.2.0",
      "model_name": "LayoutModel",
      "state": {}
     },
     "85a207da415748b88779087c996cfbbe": {
      "model_module": "@jupyter-widgets/base",
      "model_module_version": "1.2.0",
      "model_name": "LayoutModel",
      "state": {}
     },
     "85bac26c66964215ac5fdf16b0e39b66": {
      "model_module": "@jupyter-widgets/base",
      "model_module_version": "1.2.0",
      "model_name": "LayoutModel",
      "state": {}
     },
     "85d9ce7fbbea4356a2844cb8e9bd2564": {
      "model_module": "@jupyter-widgets/controls",
      "model_module_version": "1.5.0",
      "model_name": "DescriptionStyleModel",
      "state": {
       "description_width": ""
      }
     },
     "85e61beb995d4af989a3d453931372b6": {
      "model_module": "@jupyter-widgets/controls",
      "model_module_version": "1.5.0",
      "model_name": "HBoxModel",
      "state": {
       "children": [
        "IPY_MODEL_57dfcbb0414848a7afaf25ae5b8f6318",
        "IPY_MODEL_59cb8b51d70545db801f62bf91dde842",
        "IPY_MODEL_7b671e2e52f24c399d68c55d193f4624"
       ],
       "layout": "IPY_MODEL_e5627be0bb0747cbb16d4c50cdc94823"
      }
     },
     "85ef1aa4fcf8440085059dd1730c10ce": {
      "model_module": "@jupyter-widgets/controls",
      "model_module_version": "1.5.0",
      "model_name": "HBoxModel",
      "state": {
       "children": [
        "IPY_MODEL_f66bdd911a814945be5752c9df45f480",
        "IPY_MODEL_79a44aa20b9946bc8b79ab2e2e5df6a2",
        "IPY_MODEL_47f98225af024bc7af24fb7f21e52399"
       ],
       "layout": "IPY_MODEL_212dcdc1e2d240d883b18393d45acda8"
      }
     },
     "8758e08007c147cc995a9cd778321546": {
      "model_module": "@jupyter-widgets/base",
      "model_module_version": "1.2.0",
      "model_name": "LayoutModel",
      "state": {}
     },
     "87594e0f75114cac9ea7e461d39e53ea": {
      "model_module": "@jupyter-widgets/controls",
      "model_module_version": "1.5.0",
      "model_name": "DescriptionStyleModel",
      "state": {
       "description_width": ""
      }
     },
     "876f19a2a1274dfaab89aed4f6d34307": {
      "model_module": "@jupyter-widgets/controls",
      "model_module_version": "1.5.0",
      "model_name": "ProgressStyleModel",
      "state": {
       "description_width": ""
      }
     },
     "87bd516446324c848607396a35fbd10d": {
      "model_module": "@jupyter-widgets/controls",
      "model_module_version": "1.5.0",
      "model_name": "HTMLModel",
      "state": {
       "layout": "IPY_MODEL_115a126a5dc14d9e9e0c1a91e79ef53e",
       "style": "IPY_MODEL_5649d18abbde4f47a03b99cee129ca40",
       "value": " 3/3 [00:11&lt;00:00,  4.39s/it]"
      }
     },
     "87ed297c898a4aa8a059c3d7c6418959": {
      "model_module": "@jupyter-widgets/base",
      "model_module_version": "1.2.0",
      "model_name": "LayoutModel",
      "state": {}
     },
     "8882d1d7c3f1433a9b9101a888037ec7": {
      "model_module": "@jupyter-widgets/controls",
      "model_module_version": "1.5.0",
      "model_name": "HTMLModel",
      "state": {
       "layout": "IPY_MODEL_f65d8a8840ca449cbde70bef05e56953",
       "style": "IPY_MODEL_b0967127666b443cb813bf91f7ecfedf",
       "value": "100%"
      }
     },
     "8884c47ab3c441ce8df0a22eac4b497e": {
      "model_module": "@jupyter-widgets/base",
      "model_module_version": "1.2.0",
      "model_name": "LayoutModel",
      "state": {}
     },
     "89df800d4df747eaa75255a756977bf8": {
      "model_module": "@jupyter-widgets/controls",
      "model_module_version": "1.5.0",
      "model_name": "ProgressStyleModel",
      "state": {
       "description_width": ""
      }
     },
     "8a03ad0d87be4739985ebdbd8e3f6821": {
      "model_module": "@jupyter-widgets/controls",
      "model_module_version": "1.5.0",
      "model_name": "HTMLModel",
      "state": {
       "layout": "IPY_MODEL_ba29168235254634b5b1b682e0b4ae4c",
       "style": "IPY_MODEL_bc59be59c8e340218f148d15b9e3c513",
       "value": " 14/14 [00:34&lt;00:00,  2.54s/it]"
      }
     },
     "8b057534064a4e3686cd34358bb93401": {
      "model_module": "@jupyter-widgets/controls",
      "model_module_version": "1.5.0",
      "model_name": "HTMLModel",
      "state": {
       "layout": "IPY_MODEL_bfc48091ec6d4aa88c7cd6e624b2063f",
       "style": "IPY_MODEL_805874e27f1a45e1b89fb0c287a680a8",
       "value": " 3/3 [00:10&lt;00:00,  4.25s/it]"
      }
     },
     "8b16a795483843d3b70dba6e1fd26a29": {
      "model_module": "@jupyter-widgets/base",
      "model_module_version": "1.2.0",
      "model_name": "LayoutModel",
      "state": {}
     },
     "8bde0caeebf740c4bc667fbfa72d02ed": {
      "model_module": "@jupyter-widgets/controls",
      "model_module_version": "1.5.0",
      "model_name": "HTMLModel",
      "state": {
       "layout": "IPY_MODEL_335ac4086e8e40ea906ff302e06b35ec",
       "style": "IPY_MODEL_17800447be014770ae05c74ce802f81c",
       "value": " 71%"
      }
     },
     "8c4974d3c01f4a0ab4612bcd9d2c487e": {
      "model_module": "@jupyter-widgets/controls",
      "model_module_version": "1.5.0",
      "model_name": "FloatProgressModel",
      "state": {
       "bar_style": "success",
       "layout": "IPY_MODEL_06cd218c9ce0406090f8b3651b412fe3",
       "max": 3,
       "style": "IPY_MODEL_069d1da5bb904bb092d378f310a159d1",
       "value": 3
      }
     },
     "8c9fb845d586409ebe1a3b099073ed87": {
      "model_module": "@jupyter-widgets/base",
      "model_module_version": "1.2.0",
      "model_name": "LayoutModel",
      "state": {}
     },
     "8ccf6c8ad7a94dee96a0b8f1c326da34": {
      "model_module": "@jupyter-widgets/controls",
      "model_module_version": "1.5.0",
      "model_name": "DescriptionStyleModel",
      "state": {
       "description_width": ""
      }
     },
     "8d0d8c956fc0459f905a8b1a41ffe4fe": {
      "model_module": "@jupyter-widgets/base",
      "model_module_version": "1.2.0",
      "model_name": "LayoutModel",
      "state": {}
     },
     "8d4c233f2bd34fc785689c28a4443ae4": {
      "model_module": "@jupyter-widgets/base",
      "model_module_version": "1.2.0",
      "model_name": "LayoutModel",
      "state": {}
     },
     "8d537c8aa9584d61a56bb5641182a29e": {
      "model_module": "@jupyter-widgets/base",
      "model_module_version": "1.2.0",
      "model_name": "LayoutModel",
      "state": {}
     },
     "8de9a6074fbd4b38a5a91f1463b54fc9": {
      "model_module": "@jupyter-widgets/base",
      "model_module_version": "1.2.0",
      "model_name": "LayoutModel",
      "state": {}
     },
     "8e28b38aef194897b6131f4317563b9f": {
      "model_module": "@jupyter-widgets/controls",
      "model_module_version": "1.5.0",
      "model_name": "DescriptionStyleModel",
      "state": {
       "description_width": ""
      }
     },
     "8ec11039193343d798c4d59b2cfe705b": {
      "model_module": "@jupyter-widgets/controls",
      "model_module_version": "1.5.0",
      "model_name": "DescriptionStyleModel",
      "state": {
       "description_width": ""
      }
     },
     "8ed4ea60c228441bb58a109bfdb44d87": {
      "model_module": "@jupyter-widgets/base",
      "model_module_version": "1.2.0",
      "model_name": "LayoutModel",
      "state": {}
     },
     "8f3469b12b6d41cca996c3174a8a94d3": {
      "model_module": "@jupyter-widgets/controls",
      "model_module_version": "1.5.0",
      "model_name": "FloatProgressModel",
      "state": {
       "bar_style": "success",
       "layout": "IPY_MODEL_d23780089de748e3a6494a99c3811a90",
       "max": 14,
       "style": "IPY_MODEL_3bf48ed08eed4ac5a645a04c7acea2f0",
       "value": 14
      }
     },
     "8f5256878fcc4418932eb682a7007e91": {
      "model_module": "@jupyter-widgets/controls",
      "model_module_version": "1.5.0",
      "model_name": "DescriptionStyleModel",
      "state": {
       "description_width": ""
      }
     },
     "8f87a82165fc452397ac70cad966bbe4": {
      "model_module": "@jupyter-widgets/controls",
      "model_module_version": "1.5.0",
      "model_name": "ProgressStyleModel",
      "state": {
       "description_width": ""
      }
     },
     "8fa32913544f4ff7ae6cc19b754896c1": {
      "model_module": "@jupyter-widgets/base",
      "model_module_version": "1.2.0",
      "model_name": "LayoutModel",
      "state": {}
     },
     "8ff573009e114a3f87d3b18fc70f28cc": {
      "model_module": "@jupyter-widgets/controls",
      "model_module_version": "1.5.0",
      "model_name": "HTMLModel",
      "state": {
       "layout": "IPY_MODEL_809b845a947d4eceaa9d7201273254c6",
       "style": "IPY_MODEL_d19518513e8a44dfa6fb2814c8c8f05d",
       "value": " 3/3 [00:10&lt;00:00,  4.19s/it]"
      }
     },
     "90220a88101d49e888b6f83bfb6df436": {
      "model_module": "@jupyter-widgets/base",
      "model_module_version": "1.2.0",
      "model_name": "LayoutModel",
      "state": {}
     },
     "903eacd04bae46db83092bc1e8f150e2": {
      "model_module": "@jupyter-widgets/base",
      "model_module_version": "1.2.0",
      "model_name": "LayoutModel",
      "state": {}
     },
     "9081a73355fa4afcacf5da26e5f3a77f": {
      "model_module": "@jupyter-widgets/controls",
      "model_module_version": "1.5.0",
      "model_name": "HBoxModel",
      "state": {
       "children": [
        "IPY_MODEL_96efe36f1bb949629a3d121c3028b8bb",
        "IPY_MODEL_f088a133a8804674b9dd7f297ffbf9c2",
        "IPY_MODEL_d83e8dcffaef45478777c81975daeb66"
       ],
       "layout": "IPY_MODEL_8d537c8aa9584d61a56bb5641182a29e"
      }
     },
     "90847593a34c4349a601197e200e330b": {
      "model_module": "@jupyter-widgets/controls",
      "model_module_version": "1.5.0",
      "model_name": "FloatProgressModel",
      "state": {
       "bar_style": "success",
       "layout": "IPY_MODEL_3e038dd87e8e4559b113c386a0626299",
       "max": 14,
       "style": "IPY_MODEL_8f87a82165fc452397ac70cad966bbe4",
       "value": 14
      }
     },
     "90923c837e1b4ab9bc13f1267d9159d8": {
      "model_module": "@jupyter-widgets/base",
      "model_module_version": "1.2.0",
      "model_name": "LayoutModel",
      "state": {}
     },
     "9216e0e0907040929f6e274b03ee6243": {
      "model_module": "@jupyter-widgets/controls",
      "model_module_version": "1.5.0",
      "model_name": "ProgressStyleModel",
      "state": {
       "description_width": ""
      }
     },
     "9394526ac9c941739cd411acfd526766": {
      "model_module": "@jupyter-widgets/base",
      "model_module_version": "1.2.0",
      "model_name": "LayoutModel",
      "state": {}
     },
     "93d601e2d59e468bb0a2e59df885b6bb": {
      "model_module": "@jupyter-widgets/base",
      "model_module_version": "1.2.0",
      "model_name": "LayoutModel",
      "state": {}
     },
     "946cadf61f5e47fd8270beb2329cf33b": {
      "model_module": "@jupyter-widgets/base",
      "model_module_version": "1.2.0",
      "model_name": "LayoutModel",
      "state": {}
     },
     "94b354bd31db4240b3abce5878a7f39e": {
      "model_module": "@jupyter-widgets/base",
      "model_module_version": "1.2.0",
      "model_name": "LayoutModel",
      "state": {}
     },
     "95300a5b30004cba8b3edd3a03b70613": {
      "model_module": "@jupyter-widgets/controls",
      "model_module_version": "1.5.0",
      "model_name": "DescriptionStyleModel",
      "state": {
       "description_width": ""
      }
     },
     "95cfbf3086504b4ab9a1449d5cf78769": {
      "model_module": "@jupyter-widgets/controls",
      "model_module_version": "1.5.0",
      "model_name": "DescriptionStyleModel",
      "state": {
       "description_width": ""
      }
     },
     "9610b9e50bdc44d6ac6c7b4c9e8a6973": {
      "model_module": "@jupyter-widgets/controls",
      "model_module_version": "1.5.0",
      "model_name": "HBoxModel",
      "state": {
       "children": [
        "IPY_MODEL_42645fcaf4c64cf68824d93759c75bc8",
        "IPY_MODEL_d3134f14b8944f4987bb3b46c8f59e6d",
        "IPY_MODEL_6217b2e724b7488dbf152daf3fb7ff95"
       ],
       "layout": "IPY_MODEL_dc68bf3968c245a59d61247ef22df629"
      }
     },
     "96b460c37817428197afea818ff1e4a5": {
      "model_module": "@jupyter-widgets/controls",
      "model_module_version": "1.5.0",
      "model_name": "HTMLModel",
      "state": {
       "layout": "IPY_MODEL_e40cca4a10a44e0dbd27b705095264cc",
       "style": "IPY_MODEL_3f0ca1a537944eababed72bd0d0b4031",
       "value": " 14/14 [00:35&lt;00:00,  2.59s/it]"
      }
     },
     "96efe36f1bb949629a3d121c3028b8bb": {
      "model_module": "@jupyter-widgets/controls",
      "model_module_version": "1.5.0",
      "model_name": "HTMLModel",
      "state": {
       "layout": "IPY_MODEL_e2df143c4ac449a490b970fc5d42903d",
       "style": "IPY_MODEL_74beaec67ac64b4f9e4ffd9764bd2b9d",
       "value": "100%"
      }
     },
     "97911fa7f7ff4b9ca533f84f14ba8a8d": {
      "model_module": "@jupyter-widgets/controls",
      "model_module_version": "1.5.0",
      "model_name": "DescriptionStyleModel",
      "state": {
       "description_width": ""
      }
     },
     "97bbbe30ec7f46b9aaa8e4ad4646ac93": {
      "model_module": "@jupyter-widgets/controls",
      "model_module_version": "1.5.0",
      "model_name": "HTMLModel",
      "state": {
       "layout": "IPY_MODEL_a287ddab9f4d4efbbc0febc60c8661ae",
       "style": "IPY_MODEL_4ad7e55c582c4f96bf747521fa1a880e",
       "value": " 3/14 [00:02&lt;00:05,  2.05it/s]"
      }
     },
     "98307e1ba8e542d28735e73168500439": {
      "model_module": "@jupyter-widgets/base",
      "model_module_version": "1.2.0",
      "model_name": "LayoutModel",
      "state": {}
     },
     "9853c5d67f5f48bb9813db5ee85adebb": {
      "model_module": "@jupyter-widgets/controls",
      "model_module_version": "1.5.0",
      "model_name": "ProgressStyleModel",
      "state": {
       "description_width": ""
      }
     },
     "9860d769f6e5456f8ab1d86485f89b89": {
      "model_module": "@jupyter-widgets/controls",
      "model_module_version": "1.5.0",
      "model_name": "HTMLModel",
      "state": {
       "layout": "IPY_MODEL_06d57aa711be4630a00b75bef4214d4c",
       "style": "IPY_MODEL_a3bcc7c717b049f4aa944f25a84dc4ef",
       "value": " 3/3 [00:10&lt;00:00,  4.14s/it]"
      }
     },
     "98cb9a5f782d406992c4ab9ddc0d89c4": {
      "model_module": "@jupyter-widgets/base",
      "model_module_version": "1.2.0",
      "model_name": "LayoutModel",
      "state": {}
     },
     "98ebb002e3a64642ad056d5f1b073578": {
      "model_module": "@jupyter-widgets/controls",
      "model_module_version": "1.5.0",
      "model_name": "HTMLModel",
      "state": {
       "layout": "IPY_MODEL_609bdb59378141f4a96e77ac1ac3c4d0",
       "style": "IPY_MODEL_9efb3a41c52e4f40bbec00d4a2d9a969",
       "value": " 3/3 [00:11&lt;00:00,  4.61s/it]"
      }
     },
     "99424901800049039cf89f5962ef052d": {
      "model_module": "@jupyter-widgets/controls",
      "model_module_version": "1.5.0",
      "model_name": "ProgressStyleModel",
      "state": {
       "description_width": ""
      }
     },
     "9a104c1a479a4b499033e7c555c78f9e": {
      "model_module": "@jupyter-widgets/controls",
      "model_module_version": "1.5.0",
      "model_name": "ProgressStyleModel",
      "state": {
       "description_width": ""
      }
     },
     "9a4b752de1ac4a439e4a44845e5667e5": {
      "model_module": "@jupyter-widgets/controls",
      "model_module_version": "1.5.0",
      "model_name": "DescriptionStyleModel",
      "state": {
       "description_width": ""
      }
     },
     "9ac45458d0f9497bac72211e8da9c1ce": {
      "model_module": "@jupyter-widgets/base",
      "model_module_version": "1.2.0",
      "model_name": "LayoutModel",
      "state": {}
     },
     "9b335006471b4b01972e28175f5bd5a6": {
      "model_module": "@jupyter-widgets/controls",
      "model_module_version": "1.5.0",
      "model_name": "HBoxModel",
      "state": {
       "children": [
        "IPY_MODEL_f37ee6991b5b4c67b17f201ce50e2880",
        "IPY_MODEL_2551adbdd0364fdcb7901efe8a24fbd1",
        "IPY_MODEL_a9752cad2c2341dfb8ce3121a4d1ae82"
       ],
       "layout": "IPY_MODEL_67bd004a9cc54ca98a945c66e98a8dc5"
      }
     },
     "9bd67eb962624cffae4c442e70298f11": {
      "model_module": "@jupyter-widgets/controls",
      "model_module_version": "1.5.0",
      "model_name": "HTMLModel",
      "state": {
       "layout": "IPY_MODEL_6924f9666c14408f974c8626cb341bf0",
       "style": "IPY_MODEL_0325411a73a24e76a5a828c1af2f77f4",
       "value": " 14/14 [00:34&lt;00:00,  2.58s/it]"
      }
     },
     "9c9cd8f1d6b24d63a4d2ad548ec9f261": {
      "model_module": "@jupyter-widgets/controls",
      "model_module_version": "1.5.0",
      "model_name": "HBoxModel",
      "state": {
       "children": [
        "IPY_MODEL_0d5bdf9af54d439ca3f4b690da144284",
        "IPY_MODEL_d73879b228ab41edbd87b375a6c4d3eb",
        "IPY_MODEL_5363fb3cea7e48a79ae2d3eee8d3f103"
       ],
       "layout": "IPY_MODEL_85bac26c66964215ac5fdf16b0e39b66"
      }
     },
     "9cb0f87fdb62465a8ac2ef169db7b6b9": {
      "model_module": "@jupyter-widgets/controls",
      "model_module_version": "1.5.0",
      "model_name": "ProgressStyleModel",
      "state": {
       "description_width": ""
      }
     },
     "9cd79e32341d49e79b16310ec2053281": {
      "model_module": "@jupyter-widgets/controls",
      "model_module_version": "1.5.0",
      "model_name": "DescriptionStyleModel",
      "state": {
       "description_width": ""
      }
     },
     "9cf5eea599ac405eba88a368b841cb7b": {
      "model_module": "@jupyter-widgets/base",
      "model_module_version": "1.2.0",
      "model_name": "LayoutModel",
      "state": {}
     },
     "9ee613f03cca4b73a8bc20062ed816c1": {
      "model_module": "@jupyter-widgets/controls",
      "model_module_version": "1.5.0",
      "model_name": "HTMLModel",
      "state": {
       "layout": "IPY_MODEL_323409be01bc4fac9783bd8238d5b4de",
       "style": "IPY_MODEL_7c0f779c53b24b90bfd89261b716e72d",
       "value": " 14/14 [00:37&lt;00:00,  2.74s/it]"
      }
     },
     "9efb3a41c52e4f40bbec00d4a2d9a969": {
      "model_module": "@jupyter-widgets/controls",
      "model_module_version": "1.5.0",
      "model_name": "DescriptionStyleModel",
      "state": {
       "description_width": ""
      }
     },
     "9f05b8a4032d4eeaa91f17c8df6043fd": {
      "model_module": "@jupyter-widgets/controls",
      "model_module_version": "1.5.0",
      "model_name": "DescriptionStyleModel",
      "state": {
       "description_width": ""
      }
     },
     "9f7187b4ecb342f2a742a39abb381f9d": {
      "model_module": "@jupyter-widgets/base",
      "model_module_version": "1.2.0",
      "model_name": "LayoutModel",
      "state": {}
     },
     "a001f2d8f0ac46178a6eaf43f36f248e": {
      "model_module": "@jupyter-widgets/base",
      "model_module_version": "1.2.0",
      "model_name": "LayoutModel",
      "state": {}
     },
     "a0123662844f4a149a0432231f34ba9f": {
      "model_module": "@jupyter-widgets/controls",
      "model_module_version": "1.5.0",
      "model_name": "DescriptionStyleModel",
      "state": {
       "description_width": ""
      }
     },
     "a040616087b0471381e02100d008c999": {
      "model_module": "@jupyter-widgets/controls",
      "model_module_version": "1.5.0",
      "model_name": "FloatProgressModel",
      "state": {
       "bar_style": "success",
       "layout": "IPY_MODEL_d87c3678554943cfaf04488344ff5fe6",
       "max": 3,
       "style": "IPY_MODEL_a3353040007c440c941c724a6c7c4a86",
       "value": 3
      }
     },
     "a05d377b458949ba8d7dfb4733c297c6": {
      "model_module": "@jupyter-widgets/base",
      "model_module_version": "1.2.0",
      "model_name": "LayoutModel",
      "state": {}
     },
     "a0618f7e69d04e0a9872eb21f6b60876": {
      "model_module": "@jupyter-widgets/controls",
      "model_module_version": "1.5.0",
      "model_name": "ProgressStyleModel",
      "state": {
       "description_width": ""
      }
     },
     "a0a6992b1429433fbbbaf3d5f05d24c3": {
      "model_module": "@jupyter-widgets/controls",
      "model_module_version": "1.5.0",
      "model_name": "HTMLModel",
      "state": {
       "layout": "IPY_MODEL_0b79ec824d3b4d8aa3cae468021e6ea0",
       "style": "IPY_MODEL_d7b063232f184ceca6520530d9f21b38",
       "value": " 3/3 [00:10&lt;00:00,  4.23s/it]"
      }
     },
     "a100bb931af3454f8ff02fae28c2ba6a": {
      "model_module": "@jupyter-widgets/base",
      "model_module_version": "1.2.0",
      "model_name": "LayoutModel",
      "state": {}
     },
     "a14329532c41402699841551dbcaf36d": {
      "model_module": "@jupyter-widgets/controls",
      "model_module_version": "1.5.0",
      "model_name": "ProgressStyleModel",
      "state": {
       "description_width": ""
      }
     },
     "a18db3fb7d924aaf9f82396754c998e8": {
      "model_module": "@jupyter-widgets/controls",
      "model_module_version": "1.5.0",
      "model_name": "DescriptionStyleModel",
      "state": {
       "description_width": ""
      }
     },
     "a251fdba365540e59af8cbd3077647f0": {
      "model_module": "@jupyter-widgets/base",
      "model_module_version": "1.2.0",
      "model_name": "LayoutModel",
      "state": {}
     },
     "a287ddab9f4d4efbbc0febc60c8661ae": {
      "model_module": "@jupyter-widgets/base",
      "model_module_version": "1.2.0",
      "model_name": "LayoutModel",
      "state": {}
     },
     "a2955b360dac453d8c26fa7c5687f081": {
      "model_module": "@jupyter-widgets/controls",
      "model_module_version": "1.5.0",
      "model_name": "DescriptionStyleModel",
      "state": {
       "description_width": ""
      }
     },
     "a2dc4e35c9ca48d3a6e51fc5cefd0ced": {
      "model_module": "@jupyter-widgets/controls",
      "model_module_version": "1.5.0",
      "model_name": "DescriptionStyleModel",
      "state": {
       "description_width": ""
      }
     },
     "a2f63c20b4dd48a8866fcb6b802f8c4a": {
      "model_module": "@jupyter-widgets/controls",
      "model_module_version": "1.5.0",
      "model_name": "ProgressStyleModel",
      "state": {
       "description_width": ""
      }
     },
     "a32af960a36d4b52a3edd1f55e071c15": {
      "model_module": "@jupyter-widgets/controls",
      "model_module_version": "1.5.0",
      "model_name": "HTMLModel",
      "state": {
       "layout": "IPY_MODEL_18fb54df65384bb191ef2dd090fb1024",
       "style": "IPY_MODEL_195b90f25ae447488562295c171c2e4d",
       "value": "100%"
      }
     },
     "a3353040007c440c941c724a6c7c4a86": {
      "model_module": "@jupyter-widgets/controls",
      "model_module_version": "1.5.0",
      "model_name": "ProgressStyleModel",
      "state": {
       "description_width": ""
      }
     },
     "a362902f497348d289d27ca0913068fe": {
      "model_module": "@jupyter-widgets/base",
      "model_module_version": "1.2.0",
      "model_name": "LayoutModel",
      "state": {}
     },
     "a3bcc7c717b049f4aa944f25a84dc4ef": {
      "model_module": "@jupyter-widgets/controls",
      "model_module_version": "1.5.0",
      "model_name": "DescriptionStyleModel",
      "state": {
       "description_width": ""
      }
     },
     "a422eb421d334c8a8df8cec41b824897": {
      "model_module": "@jupyter-widgets/base",
      "model_module_version": "1.2.0",
      "model_name": "LayoutModel",
      "state": {}
     },
     "a457bdaff0b54319a7e04193fee288ff": {
      "model_module": "@jupyter-widgets/base",
      "model_module_version": "1.2.0",
      "model_name": "LayoutModel",
      "state": {}
     },
     "a4587bcd144e43aca297d025ad154820": {
      "model_module": "@jupyter-widgets/controls",
      "model_module_version": "1.5.0",
      "model_name": "ProgressStyleModel",
      "state": {
       "description_width": ""
      }
     },
     "a52dc0b6be834b578252ec84b57cb7ae": {
      "model_module": "@jupyter-widgets/controls",
      "model_module_version": "1.5.0",
      "model_name": "ProgressStyleModel",
      "state": {
       "description_width": ""
      }
     },
     "a6916e9d8ced46a5947c9cf22c14cef2": {
      "model_module": "@jupyter-widgets/controls",
      "model_module_version": "1.5.0",
      "model_name": "HBoxModel",
      "state": {
       "children": [
        "IPY_MODEL_fdc23c6f872c4825b03240c4a0ab9831",
        "IPY_MODEL_20e2e54ff7b6404a8ef36f22b44b6529",
        "IPY_MODEL_b7f078efc25d4d45a8d66e11d244e789"
       ],
       "layout": "IPY_MODEL_70eea4c1fb1e41ff8ee31f5613ef5754"
      }
     },
     "a6ec0e6de8ed4d18943486d916631bb3": {
      "model_module": "@jupyter-widgets/base",
      "model_module_version": "1.2.0",
      "model_name": "LayoutModel",
      "state": {}
     },
     "a7d4d21d229e48928273980fb1f57c78": {
      "model_module": "@jupyter-widgets/controls",
      "model_module_version": "1.5.0",
      "model_name": "DescriptionStyleModel",
      "state": {
       "description_width": ""
      }
     },
     "a93293402c394b809ddfc405b57fc3ae": {
      "model_module": "@jupyter-widgets/base",
      "model_module_version": "1.2.0",
      "model_name": "LayoutModel",
      "state": {}
     },
     "a9752cad2c2341dfb8ce3121a4d1ae82": {
      "model_module": "@jupyter-widgets/controls",
      "model_module_version": "1.5.0",
      "model_name": "HTMLModel",
      "state": {
       "layout": "IPY_MODEL_fc07a7ad29a1417dbfecf232fc63168d",
       "style": "IPY_MODEL_4a9c8487b9174ce392d94d1f8a019cab",
       "value": " 3/3 [00:10&lt;00:00,  4.28s/it]"
      }
     },
     "a99c5e20d6d7423181e14969ec0ffc55": {
      "model_module": "@jupyter-widgets/base",
      "model_module_version": "1.2.0",
      "model_name": "LayoutModel",
      "state": {}
     },
     "aa3734b8439c46588fafe5f7b191bb02": {
      "model_module": "@jupyter-widgets/controls",
      "model_module_version": "1.5.0",
      "model_name": "DescriptionStyleModel",
      "state": {
       "description_width": ""
      }
     },
     "ab4c0e768492431bbb35ce04a23dce63": {
      "model_module": "@jupyter-widgets/controls",
      "model_module_version": "1.5.0",
      "model_name": "ProgressStyleModel",
      "state": {
       "description_width": ""
      }
     },
     "abbeb2c6abf448dda079c6cbb462781b": {
      "model_module": "@jupyter-widgets/controls",
      "model_module_version": "1.5.0",
      "model_name": "DescriptionStyleModel",
      "state": {
       "description_width": ""
      }
     },
     "acda4f5b396441189693bf7bffcb701c": {
      "model_module": "@jupyter-widgets/controls",
      "model_module_version": "1.5.0",
      "model_name": "DescriptionStyleModel",
      "state": {
       "description_width": ""
      }
     },
     "acdac6e8397d4097ba9b78f5a31f3293": {
      "model_module": "@jupyter-widgets/controls",
      "model_module_version": "1.5.0",
      "model_name": "DescriptionStyleModel",
      "state": {
       "description_width": ""
      }
     },
     "aceda0a21c1a4b75853cdb8a59f7eadf": {
      "model_module": "@jupyter-widgets/controls",
      "model_module_version": "1.5.0",
      "model_name": "FloatProgressModel",
      "state": {
       "bar_style": "success",
       "layout": "IPY_MODEL_8de9a6074fbd4b38a5a91f1463b54fc9",
       "max": 3,
       "style": "IPY_MODEL_c6b33421e33f4b0380e00957941ef8db",
       "value": 3
      }
     },
     "ad3445fb8cce488999a76f978c9e7a42": {
      "model_module": "@jupyter-widgets/controls",
      "model_module_version": "1.5.0",
      "model_name": "ProgressStyleModel",
      "state": {
       "description_width": ""
      }
     },
     "ad49430f601441eebcd6fdf140b752d4": {
      "model_module": "@jupyter-widgets/controls",
      "model_module_version": "1.5.0",
      "model_name": "ProgressStyleModel",
      "state": {
       "description_width": ""
      }
     },
     "ada2a00636b1438498db0770cdd39bef": {
      "model_module": "@jupyter-widgets/base",
      "model_module_version": "1.2.0",
      "model_name": "LayoutModel",
      "state": {}
     },
     "adb01a75c497444e9fb19c4b1eadcf84": {
      "model_module": "@jupyter-widgets/controls",
      "model_module_version": "1.5.0",
      "model_name": "DescriptionStyleModel",
      "state": {
       "description_width": ""
      }
     },
     "adeb3d409ce9403b90fbd2fabd5b7981": {
      "model_module": "@jupyter-widgets/controls",
      "model_module_version": "1.5.0",
      "model_name": "HTMLModel",
      "state": {
       "layout": "IPY_MODEL_fb2b7e82ece14ab79d84a08df31c827e",
       "style": "IPY_MODEL_721e182dd01e47aca3f0e758c8c7c4b6",
       "value": "100%"
      }
     },
     "ae01414e4d4e4f55b34f35abef29cdfb": {
      "model_module": "@jupyter-widgets/controls",
      "model_module_version": "1.5.0",
      "model_name": "HBoxModel",
      "state": {
       "children": [
        "IPY_MODEL_0bca4e3d211e481b930b97cb27172398",
        "IPY_MODEL_dd17114b4a1c46e3880a89bcd314b090",
        "IPY_MODEL_b7dd1b4dfc814fa3b6b996920c8f0612"
       ],
       "layout": "IPY_MODEL_3304e1dd48ff49ecb920ff68b7dbacaa"
      }
     },
     "aef0ceb8c0ae4015b63ea8b2d521df89": {
      "model_module": "@jupyter-widgets/controls",
      "model_module_version": "1.5.0",
      "model_name": "HTMLModel",
      "state": {
       "layout": "IPY_MODEL_8758e08007c147cc995a9cd778321546",
       "style": "IPY_MODEL_c1185f0270fe4f4b904912182604a1b1",
       "value": "100%"
      }
     },
     "af095a946e40470fb6b10069cdead320": {
      "model_module": "@jupyter-widgets/controls",
      "model_module_version": "1.5.0",
      "model_name": "DescriptionStyleModel",
      "state": {
       "description_width": ""
      }
     },
     "af321bf03d344ab5bbf27ecfd4df46e1": {
      "model_module": "@jupyter-widgets/controls",
      "model_module_version": "1.5.0",
      "model_name": "DescriptionStyleModel",
      "state": {
       "description_width": ""
      }
     },
     "af81eb420a204b4db16e0900544ee830": {
      "model_module": "@jupyter-widgets/controls",
      "model_module_version": "1.5.0",
      "model_name": "FloatProgressModel",
      "state": {
       "bar_style": "success",
       "layout": "IPY_MODEL_5c1cdc7f1d7f4334997a05cb16278393",
       "max": 14,
       "style": "IPY_MODEL_0bdac01ac9714d238307c195beb0e4d6",
       "value": 14
      }
     },
     "b0967127666b443cb813bf91f7ecfedf": {
      "model_module": "@jupyter-widgets/controls",
      "model_module_version": "1.5.0",
      "model_name": "DescriptionStyleModel",
      "state": {
       "description_width": ""
      }
     },
     "b0abd16537734a9d99386e3c8da6b4b8": {
      "model_module": "@jupyter-widgets/controls",
      "model_module_version": "1.5.0",
      "model_name": "FloatProgressModel",
      "state": {
       "bar_style": "danger",
       "layout": "IPY_MODEL_b49cf00a4c3f4163b7e728f814b74fa9",
       "max": 14,
       "style": "IPY_MODEL_c654e302892f4bfba0927c5f041e3257",
       "value": 3
      }
     },
     "b13f40fc66ff46f3b4778d156c0b4e3f": {
      "model_module": "@jupyter-widgets/base",
      "model_module_version": "1.2.0",
      "model_name": "LayoutModel",
      "state": {}
     },
     "b1869575b6bc48b185eadfefede9f2ea": {
      "model_module": "@jupyter-widgets/controls",
      "model_module_version": "1.5.0",
      "model_name": "HTMLModel",
      "state": {
       "layout": "IPY_MODEL_3f789c27308447d6b763ce0d90eb3663",
       "style": "IPY_MODEL_b77fd8eda6364a409317be07cc127253",
       "value": " 14/14 [00:34&lt;00:00,  2.57s/it]"
      }
     },
     "b1a71496bea04ea984d4eaf411c2d37c": {
      "model_module": "@jupyter-widgets/base",
      "model_module_version": "1.2.0",
      "model_name": "LayoutModel",
      "state": {}
     },
     "b248845b0071429886b9bb169c16460e": {
      "model_module": "@jupyter-widgets/base",
      "model_module_version": "1.2.0",
      "model_name": "LayoutModel",
      "state": {}
     },
     "b3c64d1d470d4303ba1161800f662b9d": {
      "model_module": "@jupyter-widgets/base",
      "model_module_version": "1.2.0",
      "model_name": "LayoutModel",
      "state": {}
     },
     "b42c1ce5b32b407192f3a3d0cc1e8d5c": {
      "model_module": "@jupyter-widgets/controls",
      "model_module_version": "1.5.0",
      "model_name": "FloatProgressModel",
      "state": {
       "bar_style": "success",
       "layout": "IPY_MODEL_1574450acc874b6f9d2c6fa210c91894",
       "max": 3,
       "style": "IPY_MODEL_d83ded3010ff4830bdcfd81c9fcef800",
       "value": 3
      }
     },
     "b4844e9f7ac840f8932292a6e55f54c4": {
      "model_module": "@jupyter-widgets/controls",
      "model_module_version": "1.5.0",
      "model_name": "ProgressStyleModel",
      "state": {
       "description_width": ""
      }
     },
     "b49cf00a4c3f4163b7e728f814b74fa9": {
      "model_module": "@jupyter-widgets/base",
      "model_module_version": "1.2.0",
      "model_name": "LayoutModel",
      "state": {}
     },
     "b4a6ca293cf340b89bc8cee747bd4df1": {
      "model_module": "@jupyter-widgets/controls",
      "model_module_version": "1.5.0",
      "model_name": "HTMLModel",
      "state": {
       "layout": "IPY_MODEL_57e76b58a33b4bcd96f3a40b899044d9",
       "style": "IPY_MODEL_44d5718f041c4cdf8b85c3e58a90c1e2",
       "value": "100%"
      }
     },
     "b56f52d366d44191901d75a4215ee301": {
      "model_module": "@jupyter-widgets/controls",
      "model_module_version": "1.5.0",
      "model_name": "HTMLModel",
      "state": {
       "layout": "IPY_MODEL_3da353bac79d453282b17d5e84055538",
       "style": "IPY_MODEL_81219c097ac744b69ad4e171ef739df5",
       "value": " 3/3 [00:10&lt;00:00,  4.22s/it]"
      }
     },
     "b5fb0353521943fcb24fee15656f0772": {
      "model_module": "@jupyter-widgets/base",
      "model_module_version": "1.2.0",
      "model_name": "LayoutModel",
      "state": {}
     },
     "b6148f8af3974dfd862a9b5fe1ab3bd7": {
      "model_module": "@jupyter-widgets/controls",
      "model_module_version": "1.5.0",
      "model_name": "ProgressStyleModel",
      "state": {
       "description_width": ""
      }
     },
     "b6c01ffdf5dc4c1a93c67b7a9fa840a0": {
      "model_module": "@jupyter-widgets/controls",
      "model_module_version": "1.5.0",
      "model_name": "FloatProgressModel",
      "state": {
       "bar_style": "success",
       "layout": "IPY_MODEL_9394526ac9c941739cd411acfd526766",
       "max": 14,
       "style": "IPY_MODEL_ad3445fb8cce488999a76f978c9e7a42",
       "value": 14
      }
     },
     "b706432285f34e75ae5cff63bc0f811e": {
      "model_module": "@jupyter-widgets/controls",
      "model_module_version": "1.5.0",
      "model_name": "FloatProgressModel",
      "state": {
       "bar_style": "success",
       "layout": "IPY_MODEL_dcead6a4bc7c4ebd98c57b29a4cbd66a",
       "max": 14,
       "style": "IPY_MODEL_cbd5356061a440dbb53782fc01963ceb",
       "value": 14
      }
     },
     "b77fd8eda6364a409317be07cc127253": {
      "model_module": "@jupyter-widgets/controls",
      "model_module_version": "1.5.0",
      "model_name": "DescriptionStyleModel",
      "state": {
       "description_width": ""
      }
     },
     "b79c1473aaeb4e08aee55aa670d83fdd": {
      "model_module": "@jupyter-widgets/controls",
      "model_module_version": "1.5.0",
      "model_name": "HBoxModel",
      "state": {
       "children": [
        "IPY_MODEL_8882d1d7c3f1433a9b9101a888037ec7",
        "IPY_MODEL_e2a0c13496744ad68d896d64a962e737",
        "IPY_MODEL_0b1a304bd15f47ec8858bfd900d11484"
       ],
       "layout": "IPY_MODEL_1f98f10a0be946e8a023ccbd3bb84e77"
      }
     },
     "b7dc5056499647e6b599be2a6894c13b": {
      "model_module": "@jupyter-widgets/controls",
      "model_module_version": "1.5.0",
      "model_name": "HTMLModel",
      "state": {
       "layout": "IPY_MODEL_46b3e17002044bd187ddffcb137f8442",
       "style": "IPY_MODEL_4423c92e6ab94b46b6f89bde9dddf3a8",
       "value": " 14/14 [00:34&lt;00:00,  2.57s/it]"
      }
     },
     "b7dd1b4dfc814fa3b6b996920c8f0612": {
      "model_module": "@jupyter-widgets/controls",
      "model_module_version": "1.5.0",
      "model_name": "HTMLModel",
      "state": {
       "layout": "IPY_MODEL_f60f6e5e80ae48e9a0f049286dda0399",
       "style": "IPY_MODEL_4f8f34f6823f48ae8d4102f40b10a49f",
       "value": " 14/14 [00:34&lt;00:00,  2.58s/it]"
      }
     },
     "b7f078efc25d4d45a8d66e11d244e789": {
      "model_module": "@jupyter-widgets/controls",
      "model_module_version": "1.5.0",
      "model_name": "HTMLModel",
      "state": {
       "layout": "IPY_MODEL_7bc1387af95243a4936c14134903bc0d",
       "style": "IPY_MODEL_10e39dc37bd944b3a6cea613c2c089f3",
       "value": " 14/14 [00:34&lt;00:00,  2.60s/it]"
      }
     },
     "b959d2c248eb480db8aa79fc8a5cb534": {
      "model_module": "@jupyter-widgets/controls",
      "model_module_version": "1.5.0",
      "model_name": "FloatProgressModel",
      "state": {
       "bar_style": "danger",
       "layout": "IPY_MODEL_67597766408742479ce0bf6cc2478e26",
       "max": 3,
       "style": "IPY_MODEL_ed4b45ecdd934060aec1b9f01e6666f3",
       "value": 2
      }
     },
     "b95eedb43b064ce789790750e2c53bb5": {
      "model_module": "@jupyter-widgets/controls",
      "model_module_version": "1.5.0",
      "model_name": "HTMLModel",
      "state": {
       "layout": "IPY_MODEL_da154e78fb2f4ccaaf9eaeb787bacfe6",
       "style": "IPY_MODEL_3cc8526128264bb280238503853a9de7",
       "value": " 3/3 [00:10&lt;00:00,  4.00s/it]"
      }
     },
     "b99910e822374a6b9ce70d7b96324062": {
      "model_module": "@jupyter-widgets/controls",
      "model_module_version": "1.5.0",
      "model_name": "HTMLModel",
      "state": {
       "layout": "IPY_MODEL_4624434e462b4f3592aa0a3f3ada8c5d",
       "style": "IPY_MODEL_ea5c5e28a3084a8e9b220f22ec95964c",
       "value": " 8/8 [00:32&lt;00:00,  4.96s/it]"
      }
     },
     "b9ac73cbe2ab47b6a925b4af56855006": {
      "model_module": "@jupyter-widgets/controls",
      "model_module_version": "1.5.0",
      "model_name": "DescriptionStyleModel",
      "state": {
       "description_width": ""
      }
     },
     "ba13e79393134c15b7c1c317500ab049": {
      "model_module": "@jupyter-widgets/controls",
      "model_module_version": "1.5.0",
      "model_name": "HBoxModel",
      "state": {
       "children": [
        "IPY_MODEL_2cede2330d884562a62166d0d62dcd9b",
        "IPY_MODEL_c873b1ae856c49f88d8310b54344f442",
        "IPY_MODEL_9ee613f03cca4b73a8bc20062ed816c1"
       ],
       "layout": "IPY_MODEL_0eaa5fd6d17d42739186b27b186fa2d4"
      }
     },
     "ba29168235254634b5b1b682e0b4ae4c": {
      "model_module": "@jupyter-widgets/base",
      "model_module_version": "1.2.0",
      "model_name": "LayoutModel",
      "state": {}
     },
     "ba807cc513b74d7d8eeb027c2910b83d": {
      "model_module": "@jupyter-widgets/base",
      "model_module_version": "1.2.0",
      "model_name": "LayoutModel",
      "state": {}
     },
     "bc59be59c8e340218f148d15b9e3c513": {
      "model_module": "@jupyter-widgets/controls",
      "model_module_version": "1.5.0",
      "model_name": "DescriptionStyleModel",
      "state": {
       "description_width": ""
      }
     },
     "bcd1686c6e77476086983a24fa87b982": {
      "model_module": "@jupyter-widgets/base",
      "model_module_version": "1.2.0",
      "model_name": "LayoutModel",
      "state": {}
     },
     "bd101b633ea34ac69246ecb0598515b8": {
      "model_module": "@jupyter-widgets/base",
      "model_module_version": "1.2.0",
      "model_name": "LayoutModel",
      "state": {}
     },
     "bd3f5d9954cd4a91a7381e105cf45022": {
      "model_module": "@jupyter-widgets/controls",
      "model_module_version": "1.5.0",
      "model_name": "HTMLModel",
      "state": {
       "layout": "IPY_MODEL_03a96f3c2a024b0f94090e89d31f9e0a",
       "style": "IPY_MODEL_9cd79e32341d49e79b16310ec2053281",
       "value": "100%"
      }
     },
     "bd439efb587f416c88473e2207f1de00": {
      "model_module": "@jupyter-widgets/base",
      "model_module_version": "1.2.0",
      "model_name": "LayoutModel",
      "state": {}
     },
     "bd7a94334adf4927a42ed12c73654dac": {
      "model_module": "@jupyter-widgets/controls",
      "model_module_version": "1.5.0",
      "model_name": "HTMLModel",
      "state": {
       "layout": "IPY_MODEL_c5559374e5554db0ada7dc65ddf5598f",
       "style": "IPY_MODEL_1fc2b21844534159a368b1806fac3a9b",
       "value": " 3/3 [00:10&lt;00:00,  4.12s/it]"
      }
     },
     "be41d6ae9f344b5ba9b383d3d5c484bf": {
      "model_module": "@jupyter-widgets/base",
      "model_module_version": "1.2.0",
      "model_name": "LayoutModel",
      "state": {}
     },
     "bedfc1ababb04676973768143bce8fbc": {
      "model_module": "@jupyter-widgets/controls",
      "model_module_version": "1.5.0",
      "model_name": "HBoxModel",
      "state": {
       "children": [
        "IPY_MODEL_ff775a243b6949488f74e1dbabacf8a0",
        "IPY_MODEL_3d166a7aee6444dbaa8ad4fbe9667ab8",
        "IPY_MODEL_3e39b41de3b441b9bf4aca91849f83ba"
       ],
       "layout": "IPY_MODEL_3f1e1583b7cc4b0d8c5bcff3dfaae02c"
      }
     },
     "bf2f79d4b8554fe0a9096bcceea7454d": {
      "model_module": "@jupyter-widgets/controls",
      "model_module_version": "1.5.0",
      "model_name": "ProgressStyleModel",
      "state": {
       "description_width": ""
      }
     },
     "bf8a60bc94df456e8eb3e78e65680454": {
      "model_module": "@jupyter-widgets/base",
      "model_module_version": "1.2.0",
      "model_name": "LayoutModel",
      "state": {}
     },
     "bfc48091ec6d4aa88c7cd6e624b2063f": {
      "model_module": "@jupyter-widgets/base",
      "model_module_version": "1.2.0",
      "model_name": "LayoutModel",
      "state": {}
     },
     "c06f451b863c41a2afebcd113177edfd": {
      "model_module": "@jupyter-widgets/controls",
      "model_module_version": "1.5.0",
      "model_name": "DescriptionStyleModel",
      "state": {
       "description_width": ""
      }
     },
     "c0a9ef47e8e84bcba447e99fa44f6883": {
      "model_module": "@jupyter-widgets/controls",
      "model_module_version": "1.5.0",
      "model_name": "HTMLModel",
      "state": {
       "layout": "IPY_MODEL_42084ebcfb5c4a14bb1a8dccb70c02e7",
       "style": "IPY_MODEL_5195b30886ae479ba56e84588a608368",
       "value": " 14/14 [00:35&lt;00:00,  2.62s/it]"
      }
     },
     "c1185f0270fe4f4b904912182604a1b1": {
      "model_module": "@jupyter-widgets/controls",
      "model_module_version": "1.5.0",
      "model_name": "DescriptionStyleModel",
      "state": {
       "description_width": ""
      }
     },
     "c179d82d134c4885b232d00bb921d2c4": {
      "model_module": "@jupyter-widgets/base",
      "model_module_version": "1.2.0",
      "model_name": "LayoutModel",
      "state": {}
     },
     "c25231556e594901b84222ec98cfa76c": {
      "model_module": "@jupyter-widgets/controls",
      "model_module_version": "1.5.0",
      "model_name": "DescriptionStyleModel",
      "state": {
       "description_width": ""
      }
     },
     "c2c9bae4f17b430f94173f93bee66759": {
      "model_module": "@jupyter-widgets/base",
      "model_module_version": "1.2.0",
      "model_name": "LayoutModel",
      "state": {}
     },
     "c2fde99dd01245ec95f086a3473cf135": {
      "model_module": "@jupyter-widgets/controls",
      "model_module_version": "1.5.0",
      "model_name": "FloatProgressModel",
      "state": {
       "bar_style": "success",
       "layout": "IPY_MODEL_fc07b8eb3f2d42398ac37ae004962f19",
       "max": 3,
       "style": "IPY_MODEL_643781621b914dceaab16ab069a89a6c",
       "value": 3
      }
     },
     "c332cc3b2cbe413eb2a2d22f4d95bf59": {
      "model_module": "@jupyter-widgets/base",
      "model_module_version": "1.2.0",
      "model_name": "LayoutModel",
      "state": {}
     },
     "c34809797e2148929c31c45e8f49a95c": {
      "model_module": "@jupyter-widgets/base",
      "model_module_version": "1.2.0",
      "model_name": "LayoutModel",
      "state": {}
     },
     "c490158c2f7840d58b26921802f03980": {
      "model_module": "@jupyter-widgets/controls",
      "model_module_version": "1.5.0",
      "model_name": "HBoxModel",
      "state": {
       "children": [
        "IPY_MODEL_40ad493a779948fb877b8f1efbeb96ff",
        "IPY_MODEL_777f86a86f664c9cb9be08b5315a4d59",
        "IPY_MODEL_8b057534064a4e3686cd34358bb93401"
       ],
       "layout": "IPY_MODEL_dfe293cf4ff94c02886d72dddbd301f1"
      }
     },
     "c4dbd55522644ecd95b7a3ba72ba3395": {
      "model_module": "@jupyter-widgets/controls",
      "model_module_version": "1.5.0",
      "model_name": "DescriptionStyleModel",
      "state": {
       "description_width": ""
      }
     },
     "c5559374e5554db0ada7dc65ddf5598f": {
      "model_module": "@jupyter-widgets/base",
      "model_module_version": "1.2.0",
      "model_name": "LayoutModel",
      "state": {}
     },
     "c5989e198ec944dc8b7775b5705d73e5": {
      "model_module": "@jupyter-widgets/controls",
      "model_module_version": "1.5.0",
      "model_name": "ProgressStyleModel",
      "state": {
       "description_width": ""
      }
     },
     "c5bdc1aea1dc42808c80934112cab5ca": {
      "model_module": "@jupyter-widgets/controls",
      "model_module_version": "1.5.0",
      "model_name": "ProgressStyleModel",
      "state": {
       "description_width": ""
      }
     },
     "c61e0f4c117a4d1186762baca090503c": {
      "model_module": "@jupyter-widgets/base",
      "model_module_version": "1.2.0",
      "model_name": "LayoutModel",
      "state": {}
     },
     "c654e302892f4bfba0927c5f041e3257": {
      "model_module": "@jupyter-widgets/controls",
      "model_module_version": "1.5.0",
      "model_name": "ProgressStyleModel",
      "state": {
       "description_width": ""
      }
     },
     "c699b778decd49ad962699ab3183abb0": {
      "model_module": "@jupyter-widgets/controls",
      "model_module_version": "1.5.0",
      "model_name": "HTMLModel",
      "state": {
       "layout": "IPY_MODEL_271e20a9175e435b9e432bb49ff28515",
       "style": "IPY_MODEL_c4dbd55522644ecd95b7a3ba72ba3395",
       "value": " 3/3 [00:10&lt;00:00,  4.22s/it]"
      }
     },
     "c6b33421e33f4b0380e00957941ef8db": {
      "model_module": "@jupyter-widgets/controls",
      "model_module_version": "1.5.0",
      "model_name": "ProgressStyleModel",
      "state": {
       "description_width": ""
      }
     },
     "c873b1ae856c49f88d8310b54344f442": {
      "model_module": "@jupyter-widgets/controls",
      "model_module_version": "1.5.0",
      "model_name": "FloatProgressModel",
      "state": {
       "bar_style": "success",
       "layout": "IPY_MODEL_9f7187b4ecb342f2a742a39abb381f9d",
       "max": 14,
       "style": "IPY_MODEL_ad49430f601441eebcd6fdf140b752d4",
       "value": 14
      }
     },
     "c8cd1c4149dd4c7687e4eb640ff716a8": {
      "model_module": "@jupyter-widgets/controls",
      "model_module_version": "1.5.0",
      "model_name": "HBoxModel",
      "state": {
       "children": [
        "IPY_MODEL_631c4e5439134b44aa2abb0f2d6114da",
        "IPY_MODEL_8c4974d3c01f4a0ab4612bcd9d2c487e",
        "IPY_MODEL_0dc955968bf4464581e4aff52c7e0667"
       ],
       "layout": "IPY_MODEL_3c3b7115d2d34299bac7a54a435f0f3c"
      }
     },
     "c931633d20a244ef9feb92c378ca50c7": {
      "model_module": "@jupyter-widgets/base",
      "model_module_version": "1.2.0",
      "model_name": "LayoutModel",
      "state": {}
     },
     "c9926b82ab4345ebbeaf72d68b2d7259": {
      "model_module": "@jupyter-widgets/base",
      "model_module_version": "1.2.0",
      "model_name": "LayoutModel",
      "state": {}
     },
     "c9f8cbc07cae4d238f0b15e9e0fa371b": {
      "model_module": "@jupyter-widgets/controls",
      "model_module_version": "1.5.0",
      "model_name": "HBoxModel",
      "state": {
       "children": [
        "IPY_MODEL_34606ce89b63484aad57b4a2d451950c",
        "IPY_MODEL_90847593a34c4349a601197e200e330b",
        "IPY_MODEL_21b051ce1eb44d588eb8484bfb57c09c"
       ],
       "layout": "IPY_MODEL_4b756571316644e7a1e95bfff335a728"
      }
     },
     "ca08d7ee14214e2ebed567205b819df1": {
      "model_module": "@jupyter-widgets/controls",
      "model_module_version": "1.5.0",
      "model_name": "HTMLModel",
      "state": {
       "layout": "IPY_MODEL_a6ec0e6de8ed4d18943486d916631bb3",
       "style": "IPY_MODEL_f088742121f542cdb895747b227deca2",
       "value": "100%"
      }
     },
     "caae53edbd58462cbc39966b1649dff7": {
      "model_module": "@jupyter-widgets/base",
      "model_module_version": "1.2.0",
      "model_name": "LayoutModel",
      "state": {}
     },
     "cb08a9ff3d324eb28b1c29892c887232": {
      "model_module": "@jupyter-widgets/controls",
      "model_module_version": "1.5.0",
      "model_name": "HTMLModel",
      "state": {
       "layout": "IPY_MODEL_56a6bad0b666407a9367de9bf30fd660",
       "style": "IPY_MODEL_e90406da19364701938d300128db6610",
       "value": " 14/14 [00:34&lt;00:00,  2.57s/it]"
      }
     },
     "cb816fa26def400fb32343b0dd2f8917": {
      "model_module": "@jupyter-widgets/controls",
      "model_module_version": "1.5.0",
      "model_name": "DescriptionStyleModel",
      "state": {
       "description_width": ""
      }
     },
     "cbd5356061a440dbb53782fc01963ceb": {
      "model_module": "@jupyter-widgets/controls",
      "model_module_version": "1.5.0",
      "model_name": "ProgressStyleModel",
      "state": {
       "description_width": ""
      }
     },
     "cbd792511fbc4743b175d6ca42fbf072": {
      "model_module": "@jupyter-widgets/base",
      "model_module_version": "1.2.0",
      "model_name": "LayoutModel",
      "state": {}
     },
     "cbfe7897a6824407ae27d9e2624c90fd": {
      "model_module": "@jupyter-widgets/controls",
      "model_module_version": "1.5.0",
      "model_name": "HBoxModel",
      "state": {
       "children": [
        "IPY_MODEL_3e0b8257b09045b9bb0d57dfa5fc8945",
        "IPY_MODEL_5bc99c916ebd414daf96f69f725d40ea",
        "IPY_MODEL_6ba368873182486380ecad62d4aec0de"
       ],
       "layout": "IPY_MODEL_c332cc3b2cbe413eb2a2d22f4d95bf59"
      }
     },
     "cc49fe955bc9415abe5836ccaad61025": {
      "model_module": "@jupyter-widgets/base",
      "model_module_version": "1.2.0",
      "model_name": "LayoutModel",
      "state": {}
     },
     "cc70f9b3c01c457b99cccc2760db08c8": {
      "model_module": "@jupyter-widgets/base",
      "model_module_version": "1.2.0",
      "model_name": "LayoutModel",
      "state": {}
     },
     "cc828325858743d1a489b03205ca511f": {
      "model_module": "@jupyter-widgets/controls",
      "model_module_version": "1.5.0",
      "model_name": "HTMLModel",
      "state": {
       "layout": "IPY_MODEL_58f0f746e8004a5fafe76d9dcdb1209b",
       "style": "IPY_MODEL_a0123662844f4a149a0432231f34ba9f",
       "value": "100%"
      }
     },
     "ccc5bf5d8d9348dfadf4db618a2aee02": {
      "model_module": "@jupyter-widgets/controls",
      "model_module_version": "1.5.0",
      "model_name": "FloatProgressModel",
      "state": {
       "bar_style": "success",
       "layout": "IPY_MODEL_478294a04e59466e9eb976ac1abe3192",
       "max": 3,
       "style": "IPY_MODEL_dab4fd7806aa4fc0ba7c459b813d3f9d",
       "value": 3
      }
     },
     "cd78b7965d4d428a8cb50a5b211e9793": {
      "model_module": "@jupyter-widgets/controls",
      "model_module_version": "1.5.0",
      "model_name": "ProgressStyleModel",
      "state": {
       "description_width": ""
      }
     },
     "ce1f0f894a92465db9af08981e3b5c55": {
      "model_module": "@jupyter-widgets/base",
      "model_module_version": "1.2.0",
      "model_name": "LayoutModel",
      "state": {}
     },
     "ceb07ebb580242619894a2c16e706be0": {
      "model_module": "@jupyter-widgets/base",
      "model_module_version": "1.2.0",
      "model_name": "LayoutModel",
      "state": {}
     },
     "ceb09d33dd824785acf3458f0f6f5b90": {
      "model_module": "@jupyter-widgets/controls",
      "model_module_version": "1.5.0",
      "model_name": "ProgressStyleModel",
      "state": {
       "description_width": ""
      }
     },
     "cf54b1ccc6414c8a97397e2727460764": {
      "model_module": "@jupyter-widgets/base",
      "model_module_version": "1.2.0",
      "model_name": "LayoutModel",
      "state": {}
     },
     "cf74716173fd494f8ea0332793acb220": {
      "model_module": "@jupyter-widgets/base",
      "model_module_version": "1.2.0",
      "model_name": "LayoutModel",
      "state": {}
     },
     "d13dd26971b44151b9d2858eba28a261": {
      "model_module": "@jupyter-widgets/controls",
      "model_module_version": "1.5.0",
      "model_name": "DescriptionStyleModel",
      "state": {
       "description_width": ""
      }
     },
     "d19518513e8a44dfa6fb2814c8c8f05d": {
      "model_module": "@jupyter-widgets/controls",
      "model_module_version": "1.5.0",
      "model_name": "DescriptionStyleModel",
      "state": {
       "description_width": ""
      }
     },
     "d198ef45d5a04f10855f3477e5f4f784": {
      "model_module": "@jupyter-widgets/base",
      "model_module_version": "1.2.0",
      "model_name": "LayoutModel",
      "state": {}
     },
     "d1d58a82f6344ab2a101af2e41334a21": {
      "model_module": "@jupyter-widgets/base",
      "model_module_version": "1.2.0",
      "model_name": "LayoutModel",
      "state": {}
     },
     "d2089328393446879bd5bea14c4c46d4": {
      "model_module": "@jupyter-widgets/base",
      "model_module_version": "1.2.0",
      "model_name": "LayoutModel",
      "state": {}
     },
     "d23780089de748e3a6494a99c3811a90": {
      "model_module": "@jupyter-widgets/base",
      "model_module_version": "1.2.0",
      "model_name": "LayoutModel",
      "state": {}
     },
     "d2f142dce1c9498c806f06a30b43f04b": {
      "model_module": "@jupyter-widgets/controls",
      "model_module_version": "1.5.0",
      "model_name": "FloatProgressModel",
      "state": {
       "bar_style": "success",
       "layout": "IPY_MODEL_6fcff024baf2498bb3ac78f0d1527144",
       "max": 14,
       "style": "IPY_MODEL_3e41b6f6cbc4447a8970ae9f5bb50caf",
       "value": 14
      }
     },
     "d3134f14b8944f4987bb3b46c8f59e6d": {
      "model_module": "@jupyter-widgets/controls",
      "model_module_version": "1.5.0",
      "model_name": "FloatProgressModel",
      "state": {
       "bar_style": "success",
       "layout": "IPY_MODEL_87ed297c898a4aa8a059c3d7c6418959",
       "max": 14,
       "style": "IPY_MODEL_416740e46d6445bdab71fba20bb12459",
       "value": 14
      }
     },
     "d463b721d2be4341b9411cf03bac5304": {
      "model_module": "@jupyter-widgets/controls",
      "model_module_version": "1.5.0",
      "model_name": "DescriptionStyleModel",
      "state": {
       "description_width": ""
      }
     },
     "d508b30885034954883d0ecb2f25290a": {
      "model_module": "@jupyter-widgets/controls",
      "model_module_version": "1.5.0",
      "model_name": "FloatProgressModel",
      "state": {
       "bar_style": "success",
       "layout": "IPY_MODEL_c34809797e2148929c31c45e8f49a95c",
       "max": 3,
       "style": "IPY_MODEL_24aeaa95de3f4885976b8a9a38c9b3bf",
       "value": 3
      }
     },
     "d545003943714d8c998b2c7a376fd3ff": {
      "model_module": "@jupyter-widgets/base",
      "model_module_version": "1.2.0",
      "model_name": "LayoutModel",
      "state": {}
     },
     "d6e18d7031c9403c8ab3e13577ae7c18": {
      "model_module": "@jupyter-widgets/base",
      "model_module_version": "1.2.0",
      "model_name": "LayoutModel",
      "state": {}
     },
     "d73879b228ab41edbd87b375a6c4d3eb": {
      "model_module": "@jupyter-widgets/controls",
      "model_module_version": "1.5.0",
      "model_name": "FloatProgressModel",
      "state": {
       "bar_style": "success",
       "layout": "IPY_MODEL_946cadf61f5e47fd8270beb2329cf33b",
       "max": 3,
       "style": "IPY_MODEL_59116e8e1096438c959870c7d5a626e4",
       "value": 3
      }
     },
     "d7843afa00d04ccfa17c4f7a2c0ead9c": {
      "model_module": "@jupyter-widgets/controls",
      "model_module_version": "1.5.0",
      "model_name": "HTMLModel",
      "state": {
       "layout": "IPY_MODEL_dcad3c2850bd4b17934478b75dc1d522",
       "style": "IPY_MODEL_11d0dc6ff6db4abe8434128bba74e17a",
       "value": "100%"
      }
     },
     "d790f3b779934eee8348804dd22ba3c1": {
      "model_module": "@jupyter-widgets/base",
      "model_module_version": "1.2.0",
      "model_name": "LayoutModel",
      "state": {}
     },
     "d79d6b73af2144729bed6a955c95e6e1": {
      "model_module": "@jupyter-widgets/controls",
      "model_module_version": "1.5.0",
      "model_name": "HTMLModel",
      "state": {
       "layout": "IPY_MODEL_39954bc2a54d43c78994d415f66343e6",
       "style": "IPY_MODEL_0f26d84da7c14a52a03a1d4cfbbc0405",
       "value": "100%"
      }
     },
     "d7b063232f184ceca6520530d9f21b38": {
      "model_module": "@jupyter-widgets/controls",
      "model_module_version": "1.5.0",
      "model_name": "DescriptionStyleModel",
      "state": {
       "description_width": ""
      }
     },
     "d7d389b119e943efb26c211533ca5275": {
      "model_module": "@jupyter-widgets/controls",
      "model_module_version": "1.5.0",
      "model_name": "FloatProgressModel",
      "state": {
       "bar_style": "success",
       "layout": "IPY_MODEL_e26fc1c804f246fdacba70c9768b3757",
       "max": 14,
       "style": "IPY_MODEL_9a104c1a479a4b499033e7c555c78f9e",
       "value": 14
      }
     },
     "d839910f6a224af7a9deb86a641b9b32": {
      "model_module": "@jupyter-widgets/controls",
      "model_module_version": "1.5.0",
      "model_name": "HBoxModel",
      "state": {
       "children": [
        "IPY_MODEL_0063857eab204d448a73753b8424dbad",
        "IPY_MODEL_7f39e4fb792e4f0dbe1c7c27002d693a",
        "IPY_MODEL_8119cd3961734583bf6db0c483e7f3a5"
       ],
       "layout": "IPY_MODEL_8884c47ab3c441ce8df0a22eac4b497e"
      }
     },
     "d83ded3010ff4830bdcfd81c9fcef800": {
      "model_module": "@jupyter-widgets/controls",
      "model_module_version": "1.5.0",
      "model_name": "ProgressStyleModel",
      "state": {
       "description_width": ""
      }
     },
     "d83e8dcffaef45478777c81975daeb66": {
      "model_module": "@jupyter-widgets/controls",
      "model_module_version": "1.5.0",
      "model_name": "HTMLModel",
      "state": {
       "layout": "IPY_MODEL_6176e82b1a604fb6b50991303317d235",
       "style": "IPY_MODEL_8ec11039193343d798c4d59b2cfe705b",
       "value": " 3/3 [00:10&lt;00:00,  4.19s/it]"
      }
     },
     "d87a02a290ab42fb8f24de71c309cf8f": {
      "model_module": "@jupyter-widgets/controls",
      "model_module_version": "1.5.0",
      "model_name": "DescriptionStyleModel",
      "state": {
       "description_width": ""
      }
     },
     "d87c3678554943cfaf04488344ff5fe6": {
      "model_module": "@jupyter-widgets/base",
      "model_module_version": "1.2.0",
      "model_name": "LayoutModel",
      "state": {}
     },
     "d8b129d3a2c341ac9bc912eaa595c0a3": {
      "model_module": "@jupyter-widgets/base",
      "model_module_version": "1.2.0",
      "model_name": "LayoutModel",
      "state": {}
     },
     "d8dded7411de4690a558a1ae7a282d56": {
      "model_module": "@jupyter-widgets/controls",
      "model_module_version": "1.5.0",
      "model_name": "DescriptionStyleModel",
      "state": {
       "description_width": ""
      }
     },
     "da154e78fb2f4ccaaf9eaeb787bacfe6": {
      "model_module": "@jupyter-widgets/base",
      "model_module_version": "1.2.0",
      "model_name": "LayoutModel",
      "state": {}
     },
     "dab4fd7806aa4fc0ba7c459b813d3f9d": {
      "model_module": "@jupyter-widgets/controls",
      "model_module_version": "1.5.0",
      "model_name": "ProgressStyleModel",
      "state": {
       "description_width": ""
      }
     },
     "dab97a99fde448d99052d64e95b5cf63": {
      "model_module": "@jupyter-widgets/base",
      "model_module_version": "1.2.0",
      "model_name": "LayoutModel",
      "state": {}
     },
     "dc0cb38431e34554a24eb56835159b14": {
      "model_module": "@jupyter-widgets/base",
      "model_module_version": "1.2.0",
      "model_name": "LayoutModel",
      "state": {}
     },
     "dc0dd2981a724c11960fdfb9c4753949": {
      "model_module": "@jupyter-widgets/controls",
      "model_module_version": "1.5.0",
      "model_name": "HTMLModel",
      "state": {
       "layout": "IPY_MODEL_f4f9b0038c9c44619b86920342744735",
       "style": "IPY_MODEL_7aab256f06ef4b9e8565daa375e42e01",
       "value": "100%"
      }
     },
     "dc68bf3968c245a59d61247ef22df629": {
      "model_module": "@jupyter-widgets/base",
      "model_module_version": "1.2.0",
      "model_name": "LayoutModel",
      "state": {}
     },
     "dcad3c2850bd4b17934478b75dc1d522": {
      "model_module": "@jupyter-widgets/base",
      "model_module_version": "1.2.0",
      "model_name": "LayoutModel",
      "state": {}
     },
     "dcca8bf40bd64061b09a211cc68bba61": {
      "model_module": "@jupyter-widgets/controls",
      "model_module_version": "1.5.0",
      "model_name": "HTMLModel",
      "state": {
       "layout": "IPY_MODEL_4664fa510ec24a1f8e977e573fdb1129",
       "style": "IPY_MODEL_614f7e74e8964772bbf709eec39a1524",
       "value": "100%"
      }
     },
     "dcead6a4bc7c4ebd98c57b29a4cbd66a": {
      "model_module": "@jupyter-widgets/base",
      "model_module_version": "1.2.0",
      "model_name": "LayoutModel",
      "state": {}
     },
     "dd17114b4a1c46e3880a89bcd314b090": {
      "model_module": "@jupyter-widgets/controls",
      "model_module_version": "1.5.0",
      "model_name": "FloatProgressModel",
      "state": {
       "bar_style": "success",
       "layout": "IPY_MODEL_a422eb421d334c8a8df8cec41b824897",
       "max": 14,
       "style": "IPY_MODEL_83367f94883e4fd6883bf6596850b72c",
       "value": 14
      }
     },
     "dd17374c13934f22b4d149c3c17afd1d": {
      "model_module": "@jupyter-widgets/controls",
      "model_module_version": "1.5.0",
      "model_name": "HTMLModel",
      "state": {
       "layout": "IPY_MODEL_1770df0cfa014ba89fca32d9ccf66276",
       "style": "IPY_MODEL_23ff1d5181ff474a8548c4341dace698",
       "value": " 14/14 [00:35&lt;00:00,  2.63s/it]"
      }
     },
     "dd4cfe4c1c19432d814165e8bfcadbdb": {
      "model_module": "@jupyter-widgets/controls",
      "model_module_version": "1.5.0",
      "model_name": "HTMLModel",
      "state": {
       "layout": "IPY_MODEL_77569b61b9f94b3bba023f8f25e98d70",
       "style": "IPY_MODEL_4fe88752d63e465dacddb2e96db851fc",
       "value": " 3/3 [00:10&lt;00:00,  4.18s/it]"
      }
     },
     "ddd0a93088564db392114ce48622e704": {
      "model_module": "@jupyter-widgets/controls",
      "model_module_version": "1.5.0",
      "model_name": "DescriptionStyleModel",
      "state": {
       "description_width": ""
      }
     },
     "de728bf9065147a785cfed2cb35fefdb": {
      "model_module": "@jupyter-widgets/controls",
      "model_module_version": "1.5.0",
      "model_name": "ProgressStyleModel",
      "state": {
       "description_width": ""
      }
     },
     "df91ae866b7c4ab583dd9c521498031c": {
      "model_module": "@jupyter-widgets/controls",
      "model_module_version": "1.5.0",
      "model_name": "DescriptionStyleModel",
      "state": {
       "description_width": ""
      }
     },
     "dfe293cf4ff94c02886d72dddbd301f1": {
      "model_module": "@jupyter-widgets/base",
      "model_module_version": "1.2.0",
      "model_name": "LayoutModel",
      "state": {}
     },
     "e00f2d4bde8d4977a2c1fcf12272aee9": {
      "model_module": "@jupyter-widgets/base",
      "model_module_version": "1.2.0",
      "model_name": "LayoutModel",
      "state": {}
     },
     "e026cb4a76f64518aa80c32c5d6bc6d6": {
      "model_module": "@jupyter-widgets/controls",
      "model_module_version": "1.5.0",
      "model_name": "HTMLModel",
      "state": {
       "layout": "IPY_MODEL_dab97a99fde448d99052d64e95b5cf63",
       "style": "IPY_MODEL_73d6e42220b34c1db7c9c32952805469",
       "value": " 14/14 [00:34&lt;00:00,  2.55s/it]"
      }
     },
     "e07857edb1ab4b4aa304bfdd6b694ad9": {
      "model_module": "@jupyter-widgets/controls",
      "model_module_version": "1.5.0",
      "model_name": "HBoxModel",
      "state": {
       "children": [
        "IPY_MODEL_0f9c8d0f704c4e5ba707cf9fc4bd45ae",
        "IPY_MODEL_e33c825926f441ecb36ebe2d47c4af8f",
        "IPY_MODEL_dd17374c13934f22b4d149c3c17afd1d"
       ],
       "layout": "IPY_MODEL_2170228775ec4e85803342171d2bcc44"
      }
     },
     "e11311ed201b4eec8375f0060b43cdd3": {
      "model_module": "@jupyter-widgets/base",
      "model_module_version": "1.2.0",
      "model_name": "LayoutModel",
      "state": {}
     },
     "e11500d7c68642fbb6c1587fa476ab91": {
      "model_module": "@jupyter-widgets/controls",
      "model_module_version": "1.5.0",
      "model_name": "DescriptionStyleModel",
      "state": {
       "description_width": ""
      }
     },
     "e1c181b12aa041edae8c0265a09202d8": {
      "model_module": "@jupyter-widgets/controls",
      "model_module_version": "1.5.0",
      "model_name": "ProgressStyleModel",
      "state": {
       "description_width": ""
      }
     },
     "e23df4b8b10148898f49280b3bd8308a": {
      "model_module": "@jupyter-widgets/base",
      "model_module_version": "1.2.0",
      "model_name": "LayoutModel",
      "state": {}
     },
     "e245076ed2dc4397ab5a192b2f9ecd9c": {
      "model_module": "@jupyter-widgets/controls",
      "model_module_version": "1.5.0",
      "model_name": "HBoxModel",
      "state": {
       "children": [
        "IPY_MODEL_0d4bc172676c4414864818a4ac6416fe",
        "IPY_MODEL_341a7cfa9b9240699db09f61bf95cb69",
        "IPY_MODEL_761febfec9434d18a10e7a292405c5d3"
       ],
       "layout": "IPY_MODEL_055973be849e46938f53875663039720"
      }
     },
     "e26fc1c804f246fdacba70c9768b3757": {
      "model_module": "@jupyter-widgets/base",
      "model_module_version": "1.2.0",
      "model_name": "LayoutModel",
      "state": {}
     },
     "e27c6e761b364d56bc2c9cee005861aa": {
      "model_module": "@jupyter-widgets/controls",
      "model_module_version": "1.5.0",
      "model_name": "DescriptionStyleModel",
      "state": {
       "description_width": ""
      }
     },
     "e2a0c13496744ad68d896d64a962e737": {
      "model_module": "@jupyter-widgets/controls",
      "model_module_version": "1.5.0",
      "model_name": "FloatProgressModel",
      "state": {
       "bar_style": "success",
       "layout": "IPY_MODEL_8fa32913544f4ff7ae6cc19b754896c1",
       "max": 14,
       "style": "IPY_MODEL_876f19a2a1274dfaab89aed4f6d34307",
       "value": 14
      }
     },
     "e2bebc0e11bb4c67b655a2bb0e52d17c": {
      "model_module": "@jupyter-widgets/controls",
      "model_module_version": "1.5.0",
      "model_name": "HTMLModel",
      "state": {
       "layout": "IPY_MODEL_5627352635654cd58c96ca414f1e6114",
       "style": "IPY_MODEL_a7d4d21d229e48928273980fb1f57c78",
       "value": "100%"
      }
     },
     "e2df143c4ac449a490b970fc5d42903d": {
      "model_module": "@jupyter-widgets/base",
      "model_module_version": "1.2.0",
      "model_name": "LayoutModel",
      "state": {}
     },
     "e2f9c553cda84b29b8912d2d332ae8cb": {
      "model_module": "@jupyter-widgets/controls",
      "model_module_version": "1.5.0",
      "model_name": "HTMLModel",
      "state": {
       "layout": "IPY_MODEL_e23df4b8b10148898f49280b3bd8308a",
       "style": "IPY_MODEL_eb4181bebf4d410e8b5c7badfad5bfda",
       "value": " 3/3 [00:10&lt;00:00,  4.20s/it]"
      }
     },
     "e33c825926f441ecb36ebe2d47c4af8f": {
      "model_module": "@jupyter-widgets/controls",
      "model_module_version": "1.5.0",
      "model_name": "FloatProgressModel",
      "state": {
       "bar_style": "success",
       "layout": "IPY_MODEL_5b069813b89b417297a48aeb2154fe67",
       "max": 14,
       "style": "IPY_MODEL_f46f147ed767438095a88af5a63a467a",
       "value": 14
      }
     },
     "e370ebab14334b8aba9bb8bfed09edb4": {
      "model_module": "@jupyter-widgets/controls",
      "model_module_version": "1.5.0",
      "model_name": "HBoxModel",
      "state": {
       "children": [
        "IPY_MODEL_6f794c624be94766aa1173d268857714",
        "IPY_MODEL_0d3409116f40446cbda24b66b80c0548",
        "IPY_MODEL_9860d769f6e5456f8ab1d86485f89b89"
       ],
       "layout": "IPY_MODEL_bf8a60bc94df456e8eb3e78e65680454"
      }
     },
     "e3713f550fe34209b0ca21db1baa24aa": {
      "model_module": "@jupyter-widgets/controls",
      "model_module_version": "1.5.0",
      "model_name": "HTMLModel",
      "state": {
       "layout": "IPY_MODEL_f21572dd0fec42ae9fb1501edcecfecb",
       "style": "IPY_MODEL_a2955b360dac453d8c26fa7c5687f081",
       "value": "100%"
      }
     },
     "e40cca4a10a44e0dbd27b705095264cc": {
      "model_module": "@jupyter-widgets/base",
      "model_module_version": "1.2.0",
      "model_name": "LayoutModel",
      "state": {}
     },
     "e49fc61a072143458af206edcef6af8c": {
      "model_module": "@jupyter-widgets/controls",
      "model_module_version": "1.5.0",
      "model_name": "DescriptionStyleModel",
      "state": {
       "description_width": ""
      }
     },
     "e4fee53c94fa471e8eb4b075e0b60ed2": {
      "model_module": "@jupyter-widgets/controls",
      "model_module_version": "1.5.0",
      "model_name": "ProgressStyleModel",
      "state": {
       "description_width": ""
      }
     },
     "e521aa828dc94af28f7c171bf9ee1566": {
      "model_module": "@jupyter-widgets/controls",
      "model_module_version": "1.5.0",
      "model_name": "HBoxModel",
      "state": {
       "children": [
        "IPY_MODEL_e585bad70ab040b2929b40c8daac6003",
        "IPY_MODEL_ccc5bf5d8d9348dfadf4db618a2aee02",
        "IPY_MODEL_854dbd68562548558ed1aa363a4554d2"
       ],
       "layout": "IPY_MODEL_67510021658848edbe477ad4bc8038f4"
      }
     },
     "e5627be0bb0747cbb16d4c50cdc94823": {
      "model_module": "@jupyter-widgets/base",
      "model_module_version": "1.2.0",
      "model_name": "LayoutModel",
      "state": {}
     },
     "e585bad70ab040b2929b40c8daac6003": {
      "model_module": "@jupyter-widgets/controls",
      "model_module_version": "1.5.0",
      "model_name": "HTMLModel",
      "state": {
       "layout": "IPY_MODEL_8d0d8c956fc0459f905a8b1a41ffe4fe",
       "style": "IPY_MODEL_7e6348b6f12249d5968b9eb97f166010",
       "value": "100%"
      }
     },
     "e59fd9367547423fbe88c0a69e5b5d4f": {
      "model_module": "@jupyter-widgets/base",
      "model_module_version": "1.2.0",
      "model_name": "LayoutModel",
      "state": {}
     },
     "e5ce606a16644d659863680e146e4706": {
      "model_module": "@jupyter-widgets/base",
      "model_module_version": "1.2.0",
      "model_name": "LayoutModel",
      "state": {}
     },
     "e5d5e45fb4914148aa722874d820f5b3": {
      "model_module": "@jupyter-widgets/controls",
      "model_module_version": "1.5.0",
      "model_name": "FloatProgressModel",
      "state": {
       "bar_style": "success",
       "layout": "IPY_MODEL_c61e0f4c117a4d1186762baca090503c",
       "max": 3,
       "style": "IPY_MODEL_332676bbba814a449eedc22d227442ce",
       "value": 3
      }
     },
     "e6344aec656a4e2ebe984c2af55086ee": {
      "model_module": "@jupyter-widgets/controls",
      "model_module_version": "1.5.0",
      "model_name": "HTMLModel",
      "state": {
       "layout": "IPY_MODEL_3b0a2073456e43cbbc07113f5a06cd57",
       "style": "IPY_MODEL_3f64a682d5ca417bb12d96354fe97ee4",
       "value": " 14/14 [00:34&lt;00:00,  2.55s/it]"
      }
     },
     "e6601afb4f444433a8d2e37f465f45ab": {
      "model_module": "@jupyter-widgets/controls",
      "model_module_version": "1.5.0",
      "model_name": "DescriptionStyleModel",
      "state": {
       "description_width": ""
      }
     },
     "e67dee11d433417985572ac96d041333": {
      "model_module": "@jupyter-widgets/base",
      "model_module_version": "1.2.0",
      "model_name": "LayoutModel",
      "state": {}
     },
     "e6a099540d1b4981b0354d13867760e0": {
      "model_module": "@jupyter-widgets/controls",
      "model_module_version": "1.5.0",
      "model_name": "FloatProgressModel",
      "state": {
       "bar_style": "success",
       "layout": "IPY_MODEL_c2c9bae4f17b430f94173f93bee66759",
       "max": 14,
       "style": "IPY_MODEL_99424901800049039cf89f5962ef052d",
       "value": 14
      }
     },
     "e704b69e2c0147598b87d70959cc1d19": {
      "model_module": "@jupyter-widgets/base",
      "model_module_version": "1.2.0",
      "model_name": "LayoutModel",
      "state": {}
     },
     "e70f3c2d70b247df9fb2de2b32a22bdd": {
      "model_module": "@jupyter-widgets/controls",
      "model_module_version": "1.5.0",
      "model_name": "HTMLModel",
      "state": {
       "layout": "IPY_MODEL_90923c837e1b4ab9bc13f1267d9159d8",
       "style": "IPY_MODEL_abbeb2c6abf448dda079c6cbb462781b",
       "value": " 3/3 [00:10&lt;00:00,  4.12s/it]"
      }
     },
     "e83b55d4dce248a9ad00d59b4f589287": {
      "model_module": "@jupyter-widgets/controls",
      "model_module_version": "1.5.0",
      "model_name": "FloatProgressModel",
      "state": {
       "bar_style": "success",
       "layout": "IPY_MODEL_74b140d56f264876ad3baac400674e81",
       "max": 3,
       "style": "IPY_MODEL_56f349348df141708ca826a50e524d41",
       "value": 3
      }
     },
     "e888eadbc7f94bd8a49318165d57b41e": {
      "model_module": "@jupyter-widgets/base",
      "model_module_version": "1.2.0",
      "model_name": "LayoutModel",
      "state": {}
     },
     "e8f26801067b4ef1828250d9824be275": {
      "model_module": "@jupyter-widgets/controls",
      "model_module_version": "1.5.0",
      "model_name": "ProgressStyleModel",
      "state": {
       "description_width": ""
      }
     },
     "e90406da19364701938d300128db6610": {
      "model_module": "@jupyter-widgets/controls",
      "model_module_version": "1.5.0",
      "model_name": "DescriptionStyleModel",
      "state": {
       "description_width": ""
      }
     },
     "e9851f713d7243c19f16d596d8687237": {
      "model_module": "@jupyter-widgets/controls",
      "model_module_version": "1.5.0",
      "model_name": "DescriptionStyleModel",
      "state": {
       "description_width": ""
      }
     },
     "e9c5bf0eb79e49b88e40dc586ebe3e7c": {
      "model_module": "@jupyter-widgets/base",
      "model_module_version": "1.2.0",
      "model_name": "LayoutModel",
      "state": {}
     },
     "ea5c5e28a3084a8e9b220f22ec95964c": {
      "model_module": "@jupyter-widgets/controls",
      "model_module_version": "1.5.0",
      "model_name": "DescriptionStyleModel",
      "state": {
       "description_width": ""
      }
     },
     "eb4181bebf4d410e8b5c7badfad5bfda": {
      "model_module": "@jupyter-widgets/controls",
      "model_module_version": "1.5.0",
      "model_name": "DescriptionStyleModel",
      "state": {
       "description_width": ""
      }
     },
     "eba97bc2fe554e4d89a75a68452728ea": {
      "model_module": "@jupyter-widgets/controls",
      "model_module_version": "1.5.0",
      "model_name": "HTMLModel",
      "state": {
       "layout": "IPY_MODEL_e5ce606a16644d659863680e146e4706",
       "style": "IPY_MODEL_3282bc86098446bebd1e8f06a0a2af04",
       "value": " 3/3 [00:11&lt;00:00,  4.30s/it]"
      }
     },
     "ec90cfce9177485b883662ef681ad8d6": {
      "model_module": "@jupyter-widgets/controls",
      "model_module_version": "1.5.0",
      "model_name": "HTMLModel",
      "state": {
       "layout": "IPY_MODEL_5256fcf8c90746a2b585640096aabcd5",
       "style": "IPY_MODEL_59b8436cb07c42e9bc5b74d1bab28248",
       "value": "100%"
      }
     },
     "ed4b45ecdd934060aec1b9f01e6666f3": {
      "model_module": "@jupyter-widgets/controls",
      "model_module_version": "1.5.0",
      "model_name": "ProgressStyleModel",
      "state": {
       "description_width": ""
      }
     },
     "edba1ebe3a684c6da97596e98b5211a5": {
      "model_module": "@jupyter-widgets/base",
      "model_module_version": "1.2.0",
      "model_name": "LayoutModel",
      "state": {}
     },
     "edd4ff7f3e974300b167832d9129ddc9": {
      "model_module": "@jupyter-widgets/controls",
      "model_module_version": "1.5.0",
      "model_name": "DescriptionStyleModel",
      "state": {
       "description_width": ""
      }
     },
     "edf5997f4a0c488abc2bd51d603e413b": {
      "model_module": "@jupyter-widgets/base",
      "model_module_version": "1.2.0",
      "model_name": "LayoutModel",
      "state": {}
     },
     "ee2dd5434a194971bea98ba72eb8aad9": {
      "model_module": "@jupyter-widgets/controls",
      "model_module_version": "1.5.0",
      "model_name": "HBoxModel",
      "state": {
       "children": [
        "IPY_MODEL_81fd12c7fc3c414b93a7481f3fb7da1e",
        "IPY_MODEL_f48e026983244ac9ac89fe0530611c84",
        "IPY_MODEL_b7dc5056499647e6b599be2a6894c13b"
       ],
       "layout": "IPY_MODEL_219afd487156452a86e2406576ecfcc9"
      }
     },
     "f02c4f5a3cc94e6a894dfcdd90c4a76c": {
      "model_module": "@jupyter-widgets/controls",
      "model_module_version": "1.5.0",
      "model_name": "DescriptionStyleModel",
      "state": {
       "description_width": ""
      }
     },
     "f088742121f542cdb895747b227deca2": {
      "model_module": "@jupyter-widgets/controls",
      "model_module_version": "1.5.0",
      "model_name": "DescriptionStyleModel",
      "state": {
       "description_width": ""
      }
     },
     "f088a133a8804674b9dd7f297ffbf9c2": {
      "model_module": "@jupyter-widgets/controls",
      "model_module_version": "1.5.0",
      "model_name": "FloatProgressModel",
      "state": {
       "bar_style": "success",
       "layout": "IPY_MODEL_4649dcb9189249368cf39bbc84f2235f",
       "max": 3,
       "style": "IPY_MODEL_89df800d4df747eaa75255a756977bf8",
       "value": 3
      }
     },
     "f0db023865de4e75a40b4550172c6138": {
      "model_module": "@jupyter-widgets/controls",
      "model_module_version": "1.5.0",
      "model_name": "HBoxModel",
      "state": {
       "children": [
        "IPY_MODEL_bd3f5d9954cd4a91a7381e105cf45022",
        "IPY_MODEL_70268c8c928f4f88b7800ca0b349bf8e",
        "IPY_MODEL_5af10075c7954a7a86b516adebbabe88"
       ],
       "layout": "IPY_MODEL_9cf5eea599ac405eba88a368b841cb7b"
      }
     },
     "f0f757600cc0422fb1fcae4bbfb667b7": {
      "model_module": "@jupyter-widgets/base",
      "model_module_version": "1.2.0",
      "model_name": "LayoutModel",
      "state": {}
     },
     "f10a509f4c6a45be95fd03a4d39b1837": {
      "model_module": "@jupyter-widgets/base",
      "model_module_version": "1.2.0",
      "model_name": "LayoutModel",
      "state": {}
     },
     "f13ca19e18544997bae83876d0159c0a": {
      "model_module": "@jupyter-widgets/controls",
      "model_module_version": "1.5.0",
      "model_name": "DescriptionStyleModel",
      "state": {
       "description_width": ""
      }
     },
     "f1a0ce767920426aa410782640361065": {
      "model_module": "@jupyter-widgets/controls",
      "model_module_version": "1.5.0",
      "model_name": "HBoxModel",
      "state": {
       "children": [
        "IPY_MODEL_1fc82bd317434156a2e9298ba5e183fd",
        "IPY_MODEL_e6a099540d1b4981b0354d13867760e0",
        "IPY_MODEL_b1869575b6bc48b185eadfefede9f2ea"
       ],
       "layout": "IPY_MODEL_b3c64d1d470d4303ba1161800f662b9d"
      }
     },
     "f1cadea86f4349a5ab89df8c16368f3f": {
      "model_module": "@jupyter-widgets/base",
      "model_module_version": "1.2.0",
      "model_name": "LayoutModel",
      "state": {}
     },
     "f1cfc5bb0898456ca8f5c538a609a70f": {
      "model_module": "@jupyter-widgets/controls",
      "model_module_version": "1.5.0",
      "model_name": "DescriptionStyleModel",
      "state": {
       "description_width": ""
      }
     },
     "f21572dd0fec42ae9fb1501edcecfecb": {
      "model_module": "@jupyter-widgets/base",
      "model_module_version": "1.2.0",
      "model_name": "LayoutModel",
      "state": {}
     },
     "f21e3b344edc4b7dac55236cc7acdf7f": {
      "model_module": "@jupyter-widgets/controls",
      "model_module_version": "1.5.0",
      "model_name": "HBoxModel",
      "state": {
       "children": [
        "IPY_MODEL_009e9b31c50b45ce98d8d25a7a492aac",
        "IPY_MODEL_298d55ec99f54dcd8e73ef8eba7e4595",
        "IPY_MODEL_98ebb002e3a64642ad056d5f1b073578"
       ],
       "layout": "IPY_MODEL_80c763c7699b4ff49a71253aa16e9b40"
      }
     },
     "f27ed8d568e3443b8ebfc12dea126023": {
      "model_module": "@jupyter-widgets/base",
      "model_module_version": "1.2.0",
      "model_name": "LayoutModel",
      "state": {}
     },
     "f287eebaea2a42059275cf322b97e556": {
      "model_module": "@jupyter-widgets/controls",
      "model_module_version": "1.5.0",
      "model_name": "DescriptionStyleModel",
      "state": {
       "description_width": ""
      }
     },
     "f2b100e087414d70b6a7854840f6a755": {
      "model_module": "@jupyter-widgets/controls",
      "model_module_version": "1.5.0",
      "model_name": "HBoxModel",
      "state": {
       "children": [
        "IPY_MODEL_cc828325858743d1a489b03205ca511f",
        "IPY_MODEL_69329a3476f64b6ebd2f92c94b295e8c",
        "IPY_MODEL_e2f9c553cda84b29b8912d2d332ae8cb"
       ],
       "layout": "IPY_MODEL_310227bd46d14740a6e6c01f119281fe"
      }
     },
     "f302702e49304ecc970ba60d6dff4f48": {
      "model_module": "@jupyter-widgets/base",
      "model_module_version": "1.2.0",
      "model_name": "LayoutModel",
      "state": {}
     },
     "f3448abc46c64dcc99030e01f7f7c0ad": {
      "model_module": "@jupyter-widgets/controls",
      "model_module_version": "1.5.0",
      "model_name": "HTMLModel",
      "state": {
       "layout": "IPY_MODEL_c931633d20a244ef9feb92c378ca50c7",
       "style": "IPY_MODEL_97911fa7f7ff4b9ca533f84f14ba8a8d",
       "value": "100%"
      }
     },
     "f37ee6991b5b4c67b17f201ce50e2880": {
      "model_module": "@jupyter-widgets/controls",
      "model_module_version": "1.5.0",
      "model_name": "HTMLModel",
      "state": {
       "layout": "IPY_MODEL_a93293402c394b809ddfc405b57fc3ae",
       "style": "IPY_MODEL_4f45b7be062545dfad8cd46b855234c4",
       "value": "100%"
      }
     },
     "f44d75a7f63d49649d2bd08154c9e62d": {
      "model_module": "@jupyter-widgets/controls",
      "model_module_version": "1.5.0",
      "model_name": "HBoxModel",
      "state": {
       "children": [
        "IPY_MODEL_4a02dde9f0c2473ca483bd879aae9897",
        "IPY_MODEL_aceda0a21c1a4b75853cdb8a59f7eadf",
        "IPY_MODEL_8ff573009e114a3f87d3b18fc70f28cc"
       ],
       "layout": "IPY_MODEL_c9926b82ab4345ebbeaf72d68b2d7259"
      }
     },
     "f46f147ed767438095a88af5a63a467a": {
      "model_module": "@jupyter-widgets/controls",
      "model_module_version": "1.5.0",
      "model_name": "ProgressStyleModel",
      "state": {
       "description_width": ""
      }
     },
     "f48e026983244ac9ac89fe0530611c84": {
      "model_module": "@jupyter-widgets/controls",
      "model_module_version": "1.5.0",
      "model_name": "FloatProgressModel",
      "state": {
       "bar_style": "success",
       "layout": "IPY_MODEL_4cf01c7addd141348d4644f6e298d0c3",
       "max": 14,
       "style": "IPY_MODEL_9216e0e0907040929f6e274b03ee6243",
       "value": 14
      }
     },
     "f4e82aa0dad7492e9f251f424c0459f3": {
      "model_module": "@jupyter-widgets/controls",
      "model_module_version": "1.5.0",
      "model_name": "DescriptionStyleModel",
      "state": {
       "description_width": ""
      }
     },
     "f4f9b0038c9c44619b86920342744735": {
      "model_module": "@jupyter-widgets/base",
      "model_module_version": "1.2.0",
      "model_name": "LayoutModel",
      "state": {}
     },
     "f5b2aff67783436c98d18958c3462638": {
      "model_module": "@jupyter-widgets/controls",
      "model_module_version": "1.5.0",
      "model_name": "HTMLModel",
      "state": {
       "layout": "IPY_MODEL_e9c5bf0eb79e49b88e40dc586ebe3e7c",
       "style": "IPY_MODEL_6aad32a9423043eb8bffaa7ab8e9632f",
       "value": " 3/3 [00:11&lt;00:00,  4.33s/it]"
      }
     },
     "f60f6e5e80ae48e9a0f049286dda0399": {
      "model_module": "@jupyter-widgets/base",
      "model_module_version": "1.2.0",
      "model_name": "LayoutModel",
      "state": {}
     },
     "f65d8a8840ca449cbde70bef05e56953": {
      "model_module": "@jupyter-widgets/base",
      "model_module_version": "1.2.0",
      "model_name": "LayoutModel",
      "state": {}
     },
     "f66bdd911a814945be5752c9df45f480": {
      "model_module": "@jupyter-widgets/controls",
      "model_module_version": "1.5.0",
      "model_name": "HTMLModel",
      "state": {
       "layout": "IPY_MODEL_8217a65ec82749c384cfde988d04b47e",
       "style": "IPY_MODEL_76d91f459d6d4f2aa4c55161e3e2fbd5",
       "value": "100%"
      }
     },
     "f6d9b538a7d4474faf6f1b5d4ed3aa22": {
      "model_module": "@jupyter-widgets/controls",
      "model_module_version": "1.5.0",
      "model_name": "DescriptionStyleModel",
      "state": {
       "description_width": ""
      }
     },
     "f7b6a4fb1aba43ad94e6124c4f209345": {
      "model_module": "@jupyter-widgets/controls",
      "model_module_version": "1.5.0",
      "model_name": "HBoxModel",
      "state": {
       "children": [
        "IPY_MODEL_6b85b3f5a8a844c2bcfadcce25177f81",
        "IPY_MODEL_a040616087b0471381e02100d008c999",
        "IPY_MODEL_25c6f48933ff4136bbdfb125b1cd897e"
       ],
       "layout": "IPY_MODEL_ceb07ebb580242619894a2c16e706be0"
      }
     },
     "f8d0aa0d6d044fd9b885647c29ad5ed9": {
      "model_module": "@jupyter-widgets/controls",
      "model_module_version": "1.5.0",
      "model_name": "DescriptionStyleModel",
      "state": {
       "description_width": ""
      }
     },
     "f990c3c0d24b4feb8b54ebbb0fe605e3": {
      "model_module": "@jupyter-widgets/controls",
      "model_module_version": "1.5.0",
      "model_name": "DescriptionStyleModel",
      "state": {
       "description_width": ""
      }
     },
     "fa70d6fcb22147d0955df9e8bddc056c": {
      "model_module": "@jupyter-widgets/controls",
      "model_module_version": "1.5.0",
      "model_name": "FloatProgressModel",
      "state": {
       "bar_style": "success",
       "layout": "IPY_MODEL_b13f40fc66ff46f3b4778d156c0b4e3f",
       "max": 3,
       "style": "IPY_MODEL_4df6d7c39cce4536a58880a00a3970ef",
       "value": 3
      }
     },
     "fb2b7e82ece14ab79d84a08df31c827e": {
      "model_module": "@jupyter-widgets/base",
      "model_module_version": "1.2.0",
      "model_name": "LayoutModel",
      "state": {}
     },
     "fc07a7ad29a1417dbfecf232fc63168d": {
      "model_module": "@jupyter-widgets/base",
      "model_module_version": "1.2.0",
      "model_name": "LayoutModel",
      "state": {}
     },
     "fc07b8eb3f2d42398ac37ae004962f19": {
      "model_module": "@jupyter-widgets/base",
      "model_module_version": "1.2.0",
      "model_name": "LayoutModel",
      "state": {}
     },
     "fc340e178dcf4841a50d791a1e61b133": {
      "model_module": "@jupyter-widgets/base",
      "model_module_version": "1.2.0",
      "model_name": "LayoutModel",
      "state": {}
     },
     "fcae490625734c64bdd2385f2511ea70": {
      "model_module": "@jupyter-widgets/controls",
      "model_module_version": "1.5.0",
      "model_name": "DescriptionStyleModel",
      "state": {
       "description_width": ""
      }
     },
     "fd78d4fe60794bd9a4080bccdd2b5066": {
      "model_module": "@jupyter-widgets/controls",
      "model_module_version": "1.5.0",
      "model_name": "FloatProgressModel",
      "state": {
       "bar_style": "success",
       "layout": "IPY_MODEL_2a2a37aad76a438cae578d3ae288b46b",
       "max": 14,
       "style": "IPY_MODEL_56eadb9f4fd944dcb5039b404e09f6a1",
       "value": 14
      }
     },
     "fdb9a369ccea4ed5983d9d8248c46c5d": {
      "model_module": "@jupyter-widgets/base",
      "model_module_version": "1.2.0",
      "model_name": "LayoutModel",
      "state": {}
     },
     "fdc23c6f872c4825b03240c4a0ab9831": {
      "model_module": "@jupyter-widgets/controls",
      "model_module_version": "1.5.0",
      "model_name": "HTMLModel",
      "state": {
       "layout": "IPY_MODEL_a100bb931af3454f8ff02fae28c2ba6a",
       "style": "IPY_MODEL_af095a946e40470fb6b10069cdead320",
       "value": "100%"
      }
     },
     "ff6c51d38ade449d9351b3aa712bc22e": {
      "model_module": "@jupyter-widgets/base",
      "model_module_version": "1.2.0",
      "model_name": "LayoutModel",
      "state": {}
     },
     "ff7181daebce46c8a92713b3908a3645": {
      "model_module": "@jupyter-widgets/controls",
      "model_module_version": "1.5.0",
      "model_name": "HTMLModel",
      "state": {
       "layout": "IPY_MODEL_f10a509f4c6a45be95fd03a4d39b1837",
       "style": "IPY_MODEL_adb01a75c497444e9fb19c4b1eadcf84",
       "value": "100%"
      }
     },
     "ff775a243b6949488f74e1dbabacf8a0": {
      "model_module": "@jupyter-widgets/controls",
      "model_module_version": "1.5.0",
      "model_name": "HTMLModel",
      "state": {
       "layout": "IPY_MODEL_f0f757600cc0422fb1fcae4bbfb667b7",
       "style": "IPY_MODEL_e27c6e761b364d56bc2c9cee005861aa",
       "value": "100%"
      }
     }
    },
    "version_major": 2,
    "version_minor": 0
   }
  }
 },
 "nbformat": 4,
 "nbformat_minor": 5
}
