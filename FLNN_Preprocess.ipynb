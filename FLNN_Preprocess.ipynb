{
 "cells": [
  {
   "cell_type": "code",
   "execution_count": 1,
   "id": "d1aeb0aa",
   "metadata": {},
   "outputs": [],
   "source": [
    "from PIL import Image\n",
    "import os\n",
    "import numpy as np\n",
    "import matplotlib.pyplot as plt"
   ]
  },
  {
   "cell_type": "code",
   "execution_count": 5,
   "id": "a3cd0dae",
   "metadata": {},
   "outputs": [
    {
     "name": "stdout",
     "output_type": "stream",
     "text": [
      "Converted: 4802960090B.jpg -> 4802960090B.png\n",
      "Converted: 4802960095C.jpg -> 4802960095C.png\n",
      "Converted: 4802960125B.jpg -> 4802960125B.png\n",
      "Converted: 4802960130B.jpg -> 4802960130B.png\n"
     ]
    },
    {
     "name": "stderr",
     "output_type": "stream",
     "text": [
      "C:\\Users\\franc\\anaconda3\\envs\\deeplearning\\lib\\site-packages\\PIL\\Image.py:2921: DecompressionBombWarning: Image size (108659607 pixels) exceeds limit of 89478485 pixels, could be decompression bomb DOS attack.\n",
      "  DecompressionBombWarning,\n"
     ]
    },
    {
     "name": "stdout",
     "output_type": "stream",
     "text": [
      "Converted: 48039C0035I.tif -> 48039C0035I.png\n"
     ]
    },
    {
     "name": "stderr",
     "output_type": "stream",
     "text": [
      "C:\\Users\\franc\\anaconda3\\envs\\deeplearning\\lib\\site-packages\\PIL\\Image.py:2921: DecompressionBombWarning: Image size (120377367 pixels) exceeds limit of 89478485 pixels, could be decompression bomb DOS attack.\n",
      "  DecompressionBombWarning,\n"
     ]
    },
    {
     "name": "stdout",
     "output_type": "stream",
     "text": [
      "Converted: 48201C0220J.tif -> 48201C0220J.png\n"
     ]
    }
   ],
   "source": [
    "from PIL import Image\n",
    "import os\n",
    "\n",
    "def convert_images_to_png(folder_path):\n",
    "    # Ensure the folder path ends with a slash\n",
    "    folder_path = folder_path.rstrip(\"/\") + \"/\"\n",
    "\n",
    "    # Get a list of all files in the folder\n",
    "    files = os.listdir(folder_path)\n",
    "\n",
    "    for file_name in files:\n",
    "        # Check if the file is an image (you can extend the list of supported extensions)\n",
    "        if file_name.lower().endswith(('.png', '.jpg', '.jpeg', '.gif', '.bmp', '.tif')):\n",
    "            # Construct the full path to the image\n",
    "            image_path = os.path.join(folder_path, file_name)\n",
    "\n",
    "            # Open the image\n",
    "            img = Image.open(image_path)\n",
    "\n",
    "            # Construct the new file name with a .png extension\n",
    "            new_file_name = os.path.splitext(file_name)[0] + \".png\"\n",
    "            new_image_path = os.path.join(folder_path, new_file_name)\n",
    "\n",
    "            # Save the image in PNG format\n",
    "            img.save(new_image_path, \"PNG\")\n",
    "\n",
    "            # Optionally, you can remove the original image\n",
    "            os.remove(image_path)\n",
    "\n",
    "            print(f\"Converted: {file_name} -> {new_file_name}\")\n",
    "\n",
    "\n",
    "folder_path = r\"C:\\Users\\franc\\OneDrive - University Of Houston\\AAA_RECTDNN\\data\\FLNN\\in\\\\\"\n",
    "convert_images_to_png(folder_path)\n"
   ]
  },
  {
   "cell_type": "code",
   "execution_count": 2,
   "id": "34f8f63e",
   "metadata": {},
   "outputs": [
    {
     "name": "stderr",
     "output_type": "stream",
     "text": [
      "C:\\Users\\franc\\anaconda3\\envs\\deeplearning\\lib\\site-packages\\PIL\\Image.py:2921: DecompressionBombWarning: Image size (108659607 pixels) exceeds limit of 89478485 pixels, could be decompression bomb DOS attack.\n",
      "  DecompressionBombWarning,\n"
     ]
    }
   ],
   "source": [
    "input_path = r\"C:\\Users\\franc\\OneDrive - University Of Houston\\AAA_RECTDNN\\data\\FLNN\\ZZZ_Preprocess\\prep\\ZoneA\\48039C0035I_p.png\"\n",
    "img = np.asarray(Image.open(input_path))\n",
    "# plt.hist(img[:, :, 1].flatten())"
   ]
  },
  {
   "cell_type": "code",
   "execution_count": 3,
   "id": "c148f3bc",
   "metadata": {},
   "outputs": [
    {
     "data": {
      "text/plain": [
       "(array([1.0029000e+04, 9.6593384e+07, 2.2510000e+03, 1.8520000e+03,\n",
       "        2.1100000e+03, 2.1240000e+03, 3.1050000e+03, 3.2730000e+03,\n",
       "        4.8060000e+03, 1.2036673e+07]),\n",
       " array([ 30. ,  52.3,  74.6,  96.9, 119.2, 141.5, 163.8, 186.1, 208.4,\n",
       "        230.7, 253. ]),\n",
       " <BarContainer object of 10 artists>)"
      ]
     },
     "execution_count": 3,
     "metadata": {},
     "output_type": "execute_result"
    },
    {
     "data": {
      "image/png": "[encoded data removed]",
      "text/plain": [
       "<Figure size 640x480 with 1 Axes>"
      ]
     },
     "metadata": {},
     "output_type": "display_data"
    }
   ],
   "source": [
    "plt.hist(img[:, :, 0].flatten())\n",
    "# plt.hist(img[:, :, 1].flatten())\n",
    "# plt.hist(img[:, :, 2].flatten())"
   ]
  },
  {
   "cell_type": "code",
   "execution_count": 9,
   "id": "88011e4f",
   "metadata": {},
   "outputs": [],
   "source": [
    "def process_image(input_path, output_folder_red, output_folder_green, threshold=66):\n",
    "    # Open the image\n",
    "    img = np.asarray(Image.open(input_path))\n",
    "    # whitemask = np.sum(img, axis=2) > threshold * 3\n",
    "    whitemask = img[:, :, 2] > 0\n",
    "\n",
    "    # Create output folders if they don't exist\n",
    "    os.makedirs(output_folder_red, exist_ok=True)\n",
    "    os.makedirs(output_folder_green, exist_ok=True)\n",
    "    \n",
    "    red = img[:, :, 0].copy()\n",
    "    red[whitemask] = 0\n",
    "    red[red < 100] = 0\n",
    "    red[red > 100] = 255\n",
    "    red = red.astype(np.uint8)\n",
    "    # plt.hist(red.flatten())\n",
    "    Image.fromarray(red).save(os.path.join(output_folder_red, os.path.basename(input_path)[:-3] + \"png\"))\n",
    "    '''plt.imsave(\n",
    "        os.path.join(output_folder_red, os.path.basename(input_path)[:-3] + \"png\"),\n",
    "        red)\n",
    "    green = img[:, :, 0].copy()\n",
    "    green[whitemask] = 0\n",
    "    green[green > 100] = 0\n",
    "    green = green / np.max(green) * 255\n",
    "    plt.imsave(\n",
    "        os.path.join(output_folder_green, os.path.basename(input_path)[:-3] + \"png\"),\n",
    "        green)'''\n",
    "    green = img[:, :, 0].copy()\n",
    "    green[whitemask] = 0\n",
    "    green[green > 100] = 0\n",
    "    green = np.uint8(green / np.max(green) * 255)\n",
    "    Image.fromarray(green).save(os.path.join(output_folder_green, os.path.basename(input_path)[:-3] + \"png\"))\n",
    "    \n",
    "input_folder = r\"C:\\Users\\franc\\OneDrive - University Of Houston\\AAA_RECTDNN\\data\\FLNN\\ZZZ_Preprocess\\prep\\\\\"\n",
    "output_folder_red = r\"C:\\Users\\franc\\OneDrive - University Of Houston\\AAA_RECTDNN\\data\\FLNN\\ZZZ_Preprocess\\prep\\ZoneA\\\\\"\n",
    "output_folder_green = r\"C:\\Users\\franc\\OneDrive - University Of Houston\\AAA_RECTDNN\\data\\FLNN\\ZZZ_Preprocess\\prep\\ZoneX\\\\\"\n",
    "\n",
    "# Loop through each image in the input folder\n",
    "for filename in os.listdir(input_folder):\n",
    "    if filename.endswith(\".png\") or filename.endswith(\".jpg\"):\n",
    "        input_path = os.path.join(input_folder, filename)\n",
    "        process_image(input_path, output_folder_red, output_folder_green)"
   ]
  }
 ],
 "metadata": {
  "kernelspec": {
   "display_name": "Python 3 (ipykernel)",
   "language": "python",
   "name": "python3"
  },
  "language_info": {
   "codemirror_mode": {
    "name": "ipython",
    "version": 3
   },
   "file_extension": ".py",
   "mimetype": "text/x-python",
   "name": "python",
   "nbconvert_exporter": "python",
   "pygments_lexer": "ipython3",
   "version": "3.7.10"
  }
 },
 "nbformat": 4,
 "nbformat_minor": 5
}
