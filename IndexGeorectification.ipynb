{
 "cells": [
  {
   "cell_type": "code",
   "execution_count": 1,
   "id": "c7621809",
   "metadata": {},
   "outputs": [],
   "source": [
    "# NOTEBOOK IMPORTS\n",
    "import os, glob, zipfile, warnings\n",
    "import numpy as np\n",
    "from tqdm.notebook import tqdm\n",
    "from shutil import copyfile, rmtree\n",
    "from datetime import datetime\n",
    "\n",
    "# IMAGE IMPORTS\n",
    "import cv2\n",
    "from PIL import Image\n",
    "\n",
    "# GIS IMPORTS\n",
    "import fiona, pyproj\n",
    "from affine import Affine\n",
    "from shapely.geometry import shape, mapping, Point, LineString, MultiPolygon\n",
    "from shapely.ops import transform, nearest_points, snap\n",
    "import pandas as pd\n",
    "import geopandas as gpd\n",
    "import rasterio as rio\n",
    "from rasterio.mask import mask\n",
    "from scipy.spatial import cKDTree\n",
    "\n",
    "# PLOTTING IMPORTS\n",
    "import matplotlib.pyplot as plt\n",
    "import matplotlib.patches as patches\n",
    "\n",
    "# CUSTOM UTILITIES\n",
    "from WorldFileUtils import *\n",
    "from GeometryUtils import *\n",
    "from icp import *\n",
    "from DataUtils import *\n",
    "from FindGrid import *\n",
    "from PlottingUtils import *\n",
    "\n",
    "Image.MAX_IMAGE_PIXELS = 933120000\n",
    "warnings.filterwarnings(\"ignore\")"
   ]
  },
  {
   "cell_type": "code",
   "execution_count": 2,
   "id": "419ca032",
   "metadata": {},
   "outputs": [],
   "source": [
    "def getGEOID(CID,):\n",
    "    # DEALING WITH A COMMUNITY ID (CID)\n",
    "    if CID >= 9e4:\n",
    "        output = CIDs[CIDs[\"CID\"] == CID][\"GEOID_p\"].to_numpy()\n",
    "    else: # DEALING WITH A COUNTY\n",
    "        output = np.asarray([CID])\n",
    "    \n",
    "    if output.size == 0:\n",
    "        return None\n",
    "    return output[0]\n",
    "\n",
    "def getGeometry(geoid, new_epsg=3857):\n",
    "    \n",
    "    project = pyproj.Transformer.from_crs(pyproj.CRS('EPSG:4326'), pyproj.CRS(f'EPSG:{new_epsg}'), \n",
    "                                          always_xy=True).transform\n",
    "    \n",
    "    # DEALING WITH A COMMUNITY ID (CID)\n",
    "    if geoid >= 9e4:\n",
    "        output = places[places[\"GEOID\"] == geoid][\"geometry\"].to_numpy()\n",
    "    else: # DEALING WITH A COUNTY\n",
    "        output = counties[counties[\"GEOID\"] == geoid][\"geometry\"].to_numpy()\n",
    "    if output.size == 0:\n",
    "        return None    \n",
    "    \n",
    "    output = transform(project, output[0])\n",
    "    \n",
    "    return output\n",
    "\n",
    "def drawGrid(image_t, out):\n",
    "    # Create a blank image to draw the lines on\n",
    "    line_image = np.zeros_like(image_t)\n",
    "\n",
    "    for k, contours in out.items():\n",
    "        contours = contours.squeeze()\n",
    "        for i in range(contours.shape[0] - 1):\n",
    "            start_point = tuple(contours[i, :])\n",
    "            end_point = tuple(contours[i+1, :])\n",
    "            color = (255)  # You can change the color (BGR format) as needed\n",
    "            thickness = 10  # You can adjust the thickness of the line\n",
    "            line_image = cv2.line(line_image, start_point, end_point, color, thickness)\n",
    "            \n",
    "    return line_image > 0\n",
    "\n",
    "def adjustStep(from_points, coords_ras, kdtree, shear=True, rotation = True, perspective=True):\n",
    "    \n",
    "    # CALCULATE NEAREST POINTS AND FIND HOMOGRAPHY\n",
    "    _, nearest_indices = kdtree.query(from_points)\n",
    "    to_points = np.array([coords_ras[idx] for idx in nearest_indices])\n",
    "    new_homography, _ = cv2.findHomography(from_points, to_points, cv2.RANSAC, 10000)\n",
    "    if not shear:\n",
    "        scale  = np.sqrt((new_homography[0, 0] ** 2 + new_homography[1, 1] ** 2) / 2)\n",
    "        new_homography[0, 0] = scale \n",
    "        new_homography[1, 1] = scale\n",
    "    if not perspective:\n",
    "        new_homography[2, 0] = 0 \n",
    "        new_homography[2, 1] = 0 \n",
    "    if not rotation:\n",
    "        new_homography[0, 1] = 0 \n",
    "        new_homography[1, 0] = 0 \n",
    "    final_points = new_homography @ np.vstack((from_points[:, 0], from_points[:, 1], np.ones(from_points[:, 0].shape)))\n",
    "    \n",
    "    return final_points[:2, :].T, new_homography\n",
    "\n",
    "def find_bbox(binary_image):\n",
    "    # Find the coordinates of all \"True\" elements in the binary image\n",
    "    nonzero_points = cv2.findNonZero(binary_image)\n",
    "\n",
    "    if nonzero_points is None:\n",
    "        return None\n",
    "\n",
    "    # Calculate the bounding rectangle for the \"True\" elements\n",
    "    x, y, w, h = cv2.boundingRect(nonzero_points)\n",
    "\n",
    "    return np.array([x, y, x+w, y+h])\n",
    "\n",
    "def get_world_file_path(image_path):\n",
    "    # Get the file extension (e.g., \"png\", \"jpg\", \"tif\")\n",
    "    file_extension = image_path.split('.')[-1].lower()\n",
    "\n",
    "    # Define a dictionary to map file extensions to world file extensions\n",
    "    extension_mapping = {\n",
    "        'png': 'pgw',\n",
    "        'jpg': 'jpw',\n",
    "        'jpeg': 'jpw',  # You can add more extensions if needed\n",
    "        'tif': 'tfw',\n",
    "        'tiff': 'tfw',\n",
    "    }\n",
    "\n",
    "    # Check if the file extension is in the mapping\n",
    "    if file_extension in extension_mapping:\n",
    "        # Replace the file extension with the corresponding world file extension\n",
    "        world_file_extension = extension_mapping[file_extension]\n",
    "\n",
    "        # Create the world file path by replacing the image file extension with the world file extension\n",
    "        world_file_path = os.path.splitext(image_path)[0] + '.' + world_file_extension\n",
    "\n",
    "        return world_file_path\n",
    "    else:\n",
    "        return None  # Unsupported file extension\n",
    "    \n",
    "def plotICP(reprojected_points, plot_skip=2, ):\n",
    "    icp_iterations = len(reprojected_points)\n",
    "    fig, ax = plt.subplots()\n",
    "    colormap = plt.get_cmap('RdYlGn') \n",
    "\n",
    "    ax.scatter(coords_shp_proc[:, 0], coords_shp_proc[:, 1], color=colormap(0), s=0.5)\n",
    "    ax.scatter(coords_ras_proc[:, 0], coords_ras_proc[:, 1], color=\"black\", s=0.5)\n",
    "\n",
    "    for i in np.arange(plot_skip, icp_iterations, plot_skip):\n",
    "        ax.scatter(reprojected_points[i][:, 0], reprojected_points[i][:, 1], color=colormap(i / icp_iterations), s=0.1)\n",
    "    return ax"
   ]
  },
  {
   "cell_type": "markdown",
   "id": "5ed09b63",
   "metadata": {},
   "source": [
    "IO dirs"
   ]
  },
  {
   "cell_type": "code",
   "execution_count": 3,
   "id": "34617015",
   "metadata": {},
   "outputs": [],
   "source": [
    "username = os.getlogin()\n",
    "\n",
    "if username == 'fhacesga':\n",
    "    base_input_path   = r\"D:\\FloodChange\\AAA_HistoricalDownload\"\n",
    "    base_output_path  = r\"C:\\Users\\\\\"+username+\"\\Desktop\\FIRMsDigitizing\\processing\"\n",
    "    ref_dir  = r\"C:\\Users\\fhacesga\\OneDrive - University Of Houston\\AAA_RECTDNN\\data\\AAA_ReferenceDatasets\\\\\"\n",
    "elif username == 'fhace':\n",
    "    ref_dir = r\"C:\\Users\\fhace\\OneDrive - University Of Houston\\AAA_RECTDNN\\data\\AAA_ReferenceDatasets\\\\\"\n",
    "else:\n",
    "    base_input_path   = r\"D:\\Desktop\\FIRMsDigitizing\\data\\HistoricalFIRMS\"\n",
    "    base_output_path  = r\"D:\\Desktop\\FIRMsDigitizing\\processing\"\n",
    "    ref_dir  = r\"C:\\Users\\franc\\OneDrive - University Of Houston\\AAA_RECTDNN\\data\\AAA_ReferenceDatasets\\\\\"\n",
    "\n",
    "CIDs     = pd.read_csv(f\"{ref_dir}CountyCIDs.csv\", index_col=0)\n",
    "counties = gpd.read_file(f\"{ref_dir}Counties.shp\")\n",
    "places   = gpd.read_file(f\"{ref_dir}Places.shp\")\n",
    "\n",
    "counties[\"GEOID\"] = counties[\"GEOID\"].astype(np.int32)\n",
    "places[\"GEOID\"]   = places[\"GEOID\"].astype(np.int32)"
   ]
  },
  {
   "cell_type": "markdown",
   "id": "a5ca1967",
   "metadata": {},
   "source": [
    "Create working dir and unzip all files"
   ]
  },
  {
   "cell_type": "code",
   "execution_count": 4,
   "id": "eca9abcb",
   "metadata": {},
   "outputs": [],
   "source": [
    "proc_dir = None\n",
    "proc_dir = r\"D:\\Desktop\\FIRMsDigitizing\\processing\\2023-10-11_13-54-14\\\\\"\n",
    "proc_dir = r\"C:\\Users\\fhacesga\\Desktop\\FIRMsDigitizing\\processing\\2023-10-10_14-38-16\\\\\""
   ]
  },
  {
   "cell_type": "code",
   "execution_count": 5,
   "id": "8cb6d3e7",
   "metadata": {},
   "outputs": [],
   "source": [
    "if proc_dir is None:\n",
    "    datetime_str = datetime.now().strftime(\"%Y-%m-%d_%H-%M-%S\")\n",
    "    proc_dir     = os.path.join(base_output_path, datetime_str)\n",
    "    unzipped_dir = os.path.join(proc_dir, \"Inputs\")\n",
    "    outputs_dir  = os.path.join(proc_dir, \"Outputs\")\n",
    "    print(proc_dir)\n",
    "    os.makedirs(proc_dir)\n",
    "    os.makedirs(unzipped_dir)\n",
    "    os.makedirs(outputs_dir)\n",
    "    extractZipFiles(base_input_path, unzipped_dir)\n",
    "else:\n",
    "    unzipped_dir = os.path.join(proc_dir, \"Inputs\")\n",
    "    outputs_dir  = os.path.join(proc_dir, \"Outputs\")\n",
    "    rmtree(outputs_dir)\n",
    "    os.makedirs(outputs_dir)"
   ]
  },
  {
   "cell_type": "code",
   "execution_count": 6,
   "id": "d5180ac2",
   "metadata": {},
   "outputs": [],
   "source": [
    "image_files = glob.glob(f\"{unzipped_dir}/*\")\n",
    "filtered_files = [file for file in image_files if len(os.path.basename(file)) < 12]\n",
    "index_files = glob.glob(f\"{unzipped_dir}/*IND*\")\n",
    "\n",
    "index_files.extend(filtered_files)\n",
    "index_files = pd.DataFrame(index_files, columns=[\"FilePath\"])"
   ]
  },
  {
   "cell_type": "code",
   "execution_count": 7,
   "id": "f2b89655",
   "metadata": {},
   "outputs": [],
   "source": [
    "index_files[\"Basename\"] = [os.path.basename(file) for file in index_files[\"FilePath\"].to_list()]\n",
    "index_files[\"Location\"] = index_files[\"Basename\"].apply(extract_numerical_chars).astype(np.int32)\n",
    "index_files[\"GEOID\"] = index_files[\"Location\"].apply(getGEOID)\n",
    "index_files[\"geometry\"] = index_files[\"GEOID\"].apply(getGeometry)"
   ]
  },
  {
   "cell_type": "code",
   "execution_count": 8,
   "id": "ed2454f1",
   "metadata": {},
   "outputs": [],
   "source": [
    "def FindGrid(image, classifications, effectiveArea, key, image_path, verbose=True):    \n",
    "    \n",
    "    # DETECT LINES\n",
    "    lines, result_image, scale_x, scale_y, thinimage = line_detection(classifications, \n",
    "                                                                      effectiveArea, \n",
    "                                                                      image, \n",
    "                                                                      line_length=50)\n",
    "    \n",
    "    writeImage(f\"tempfiles/{filename}_01_linedetection.png\", result_image, verbose)\n",
    "    writeImage(f\"tempfiles/{filename}_01_thinimage.png\", thinimage, verbose)\n",
    "\n",
    "    # FILTER BY MOST POPULAR ANGLES\n",
    "    angles = calcAngles(lines)\n",
    "    line_angles, line_indices, sorted_idx = filterLines_MostPopularAngles(np.array(angles), 0.5)\n",
    "    \n",
    "    # GET RESCALED LINES\n",
    "    rescaled_lines_ordered = np.array(lines)[sorted_idx]\n",
    "    filtered_lines = rescaled_lines_ordered[np.concatenate(line_indices).flatten()]\n",
    "    \n",
    "    if verbose:\n",
    "        fig = plotLines(image, filtered_lines, savedir=f\"tempfiles/{filename}_02_azimuthfiltering.png\")\n",
    "        plt.close(fig)\n",
    "\n",
    "    # EXTEND LINES TO EDGES AND FILTER LINES BY DISTANCE OF EDGEPOINTS\n",
    "    extended_lines = extend_lines_to_edges(filtered_lines, image.shape)\n",
    "    \n",
    "    if verbose:\n",
    "        fig = plotLines(image, extended_lines, savedir=f\"tempfiles/{filename}_03_lineextension.png\")\n",
    "        plt.close(fig)\n",
    "    min_distance = 50 * np.sqrt(scale_x ** 2 + scale_y ** 2)\n",
    "    filtered_lines_extended, filtered_idx = filter_lines_by_distance(extended_lines, min_distance)\n",
    "\n",
    "    # EXTEND LINES TO ENSURE CROSSING\n",
    "    extended_lines = extend_lines_to_edges(filtered_lines_extended, image.shape)\n",
    "    # extended_lines = extend_lines(filtered_lines[filtered_idx], 200)\n",
    "    if verbose:\n",
    "        fig = plotLines(image, extended_lines, savedir=f\"tempfiles/{filename}_04_distancefiltering.png\")\n",
    "        plt.close(fig)\n",
    "\n",
    "    # CLIP LINES BY EACH INTERSECTION\n",
    "    lines_shp   = lines_to_linestrings(filtered_lines_extended)\n",
    "    split_lines = linestrings_to_lines(unary_union(lines_shp))\n",
    "    if verbose:\n",
    "        fig = plotLines(image, extended_lines, savedir=f\"tempfiles/{filename}_05_lineclipping.png\")\n",
    "        plt.close(fig)\n",
    "\n",
    "    # WHICH LINES HAVE SIGNIFICANT OVERLAP WITH DARK PIXELS IN IMAGE?\n",
    "    overlapping_lines, overlap_values = get_overlapping_lines(split_lines, \n",
    "                                                             thinimage, \n",
    "                                                             0.75,\n",
    "                                                             verbose=verbose,\n",
    "                                                             dilate_size=0)\n",
    "    \n",
    "    print(overlap_values)\n",
    "\n",
    "    if verbose:\n",
    "        fig = plotLines(image, overlapping_lines, savedir=f\"tempfiles/{filename}_06_overlappinglines.png\")\n",
    "        plt.close(fig)\n",
    "\n",
    "    # EXTEND OVERLAPPING LINES\n",
    "    if verbose:\n",
    "        fig = plotLines(image, overlapping_lines, savedir=f\"tempfiles/{filename}_06_overlappinglines_extended.png\")\n",
    "        plt.close(fig)\n",
    "\n",
    "    # DRAW LINES IN IMAGE TO IDENIFY CONTOURS\n",
    "    bw_bounds = draw_lines_to_image(overlapping_lines, (image.shape[1], image.shape[0]))\n",
    "    writeImage(f\"tempfiles/{filename}_06_drawnimage.png\", bw_bounds, verbose)\n",
    "\n",
    "    # FIND CONTOURS\n",
    "    contours, hierarchy = cv2.findContours(bw_bounds, cv2.RETR_CCOMP, cv2.CHAIN_APPROX_NONE)\n",
    "\n",
    "    # LOOP THROUGH HIGHEST HERARCHY\n",
    "    highest_level = np.max(hierarchy, axis=1).flatten()[3]\n",
    "    print(f\"Highest Hierarchy: {highest_level} in {hierarchy.shape[1]} contours\")\n",
    "    \n",
    "    # OUTPUT WHICH SQUARES WERE RECOGNIZED\n",
    "    if verbose:\n",
    "        filled_image = np.zeros(image.shape)\n",
    "        # FILL CONTOURS WITH RANDOM COLORS\n",
    "        for idx, contour in enumerate(contours):\n",
    "            if hierarchy[0][idx][3] == highest_level:  # ONLY CONTOURS WITH NO INNER CONTOURS\n",
    "                color = (random.randint(0, 255), random.randint(0, 255), random.randint(0, 255))\n",
    "                cv2.drawContours(filled_image, [contour], -1, color, thickness=cv2.FILLED)\n",
    "        writeImage(f\"tempfiles/{filename}_06_recognizedsquares.png\", filled_image, verbose)\n",
    "\n",
    "    # FIND WHICH CONTOURS CONTAIN WORDS\n",
    "    outdict = {}\n",
    "    for idx, contour in tqdm(enumerate(contours), total=len(contours), disable=~verbose):\n",
    "        if hierarchy[0][idx][3] == highest_level:  # ONLY CONTOURS WITH NO INNER CONTOURS\n",
    "            x, y, w, h = cv2.boundingRect(contour)\n",
    "        \n",
    "            # CROP THE IMAGE TO JUST CONTOUR\n",
    "            if image.ndim == 3:\n",
    "                cropped_region = image[y:y+h, x:x+w, 0]\n",
    "            else: \n",
    "                cropped_region = image[y:y+h, x:x+w]\n",
    "            \n",
    "            # PAD WITH PERCENTANGE\n",
    "            cropped_region = pad_image_with_percentage(cropped_region, 20, 20)\n",
    "            \n",
    "            # WRITE IMAGE\n",
    "            writeImage(f\"tempfiles/{filename}_07_{idx}.png\", cropped_region, verbose)\n",
    "            \n",
    "            # Perform OCR using pytesseract\n",
    "            ocr_text = pytesseract.image_to_string(cropped_region,\n",
    "                                                  config='--psm 12 --oem 3')\n",
    "                                                  # -c tessedit_char_whitelist=0123456789\n",
    "            \n",
    "            # IF WE CAN'T FIND ANYTHING, CONTINUE\n",
    "            if len(ocr_text) == 0:\n",
    "                continue\n",
    "                \n",
    "            # CHECK IF THE KEY IS FOUND IN THE TILE, IF NOT CONTINUE\n",
    "            text = find_word_with_key(ocr_text, key, verbose=verbose)\n",
    "            if text is None:\n",
    "                continue\n",
    "            \n",
    "            # IF WE FOUND TOO MANY\n",
    "            if isinstance(text, list):\n",
    "                print(\"Found too many names! Splitting along longest sides\")\n",
    "                try:\n",
    "                    shapely_contour = contours_to_shapely_polygons(contour)\n",
    "                    outpoly_1, outpoly_2 = splitPolygonByLongerSides(shapely_contour)\n",
    "                    \n",
    "                    outdict[text[0]] = convertShapelyToCV2(outpoly_1)\n",
    "                    outdict[text[1]] = convertShapelyToCV2(outpoly_2)\n",
    "                except:\n",
    "                    print(\"Failure! Results will be inaccurate due to line segment on Tile Boundary not being identified\")\n",
    "                    continue\n",
    "                continue\n",
    "            outdict[text] = contour\n",
    "    \n",
    "    plt.clf()\n",
    "    \n",
    "    return outdict\n"
   ]
  },
  {
   "cell_type": "code",
   "execution_count": 9,
   "id": "0b63c4d6",
   "metadata": {},
   "outputs": [],
   "source": [
    "def getBoundaryPoints(row):\n",
    "    # GET WHICHEVER POLYGON IS THE LARGEST IN THE ROW'S GEOMETRY AND SIMPLIFY\n",
    "    if row[\"geometry\"] is None:\n",
    "        return None\n",
    "    elif isinstance(row[\"geometry\"], MultiPolygon):\n",
    "        largest_polygon_area = np.argmax([a.area for a in row[\"geometry\"]])\n",
    "        largest_polygon = row[\"geometry\"][largest_polygon_area].simplify(tolerance=20)\n",
    "        largest_polygon = largest_polygon.boundary\n",
    "    else:\n",
    "        largest_polygon = row[\"geometry\"].boundary\n",
    "    \n",
    "    # CONVERT POLYGON TO POINTS\n",
    "    length = largest_polygon.length # POLYGON LENGTH\n",
    "    point_boundary_list = list()    # OUTPUT POINT LIST\n",
    "    \n",
    "    # INTERPOLATE THROUGH ALL OF LENGTH\n",
    "    for distance in tqdm(range(0,int(length),20), disable=True):         \n",
    "        point = largest_polygon.interpolate(distance)   \n",
    "        point_boundary_list.append(point)\n",
    "    point_boundary_gdf = gpd.GeoDataFrame(geometry=point_boundary_list)\n",
    "    \n",
    "    # SHAPEFILE BOUNDS\n",
    "    shp_bounds = [i for i in largest_polygon.bounds]\n",
    "    return point_boundary_gdf, shp_bounds"
   ]
  },
  {
   "cell_type": "code",
   "execution_count": 11,
   "id": "ee5e62e4",
   "metadata": {},
   "outputs": [
    {
     "name": "stdout",
     "output_type": "stream",
     "text": [
      "C:\\Users\\fhacesga\\Desktop\\FIRMsDigitizing\\processing\\2023-10-10_14-38-16\\\\Inputs\\480233IND0_0382.jpg\n"
     ]
    },
    {
     "data": {
      "application/vnd.jupyter.widget-view+json": {
       "model_id": "f19a202c2dc0402ca0563b066804f6d8",
       "version_major": 2,
       "version_minor": 0
      },
      "text/plain": [
       "  0%|          | 0/2 [00:00<?, ?it/s]"
      ]
     },
     "metadata": {},
     "output_type": "display_data"
    },
    {
     "name": "stdout",
     "output_type": "stream",
     "text": [
      "C:\\Users\\fhacesga\\Desktop\\FIRMsDigitizing\\processing\\2023-10-10_14-38-16\\\\Inputs\\480287IND0_0281.jpg\n"
     ]
    },
    {
     "data": {
      "application/vnd.jupyter.widget-view+json": {
       "model_id": "5cecdd6a233a418dbfef48cc82599be0",
       "version_major": 2,
       "version_minor": 0
      },
      "text/plain": [
       "  0%|          | 0/2 [00:00<?, ?it/s]"
      ]
     },
     "metadata": {},
     "output_type": "display_data"
    },
    {
     "name": "stdout",
     "output_type": "stream",
     "text": [
      "C:\\Users\\fhacesga\\Desktop\\FIRMsDigitizing\\processing\\2023-10-10_14-38-16\\\\Inputs\\480287IND0_0288.jpg\n"
     ]
    },
    {
     "data": {
      "application/vnd.jupyter.widget-view+json": {
       "model_id": "bf70b1b0231d4c1fa021c17f3ce43524",
       "version_major": 2,
       "version_minor": 0
      },
      "text/plain": [
       "  0%|          | 0/2 [00:00<?, ?it/s]"
      ]
     },
     "metadata": {},
     "output_type": "display_data"
    },
    {
     "name": "stdout",
     "output_type": "stream",
     "text": [
      "C:\\Users\\fhacesga\\Desktop\\FIRMsDigitizing\\processing\\2023-10-10_14-38-16\\\\Inputs\\480287IND0_0382.jpg\n"
     ]
    },
    {
     "data": {
      "application/vnd.jupyter.widget-view+json": {
       "model_id": "28395302715445aaa93c535a83e608ce",
       "version_major": 2,
       "version_minor": 0
      },
      "text/plain": [
       "  0%|          | 0/2 [00:00<?, ?it/s]"
      ]
     },
     "metadata": {},
     "output_type": "display_data"
    },
    {
     "name": "stdout",
     "output_type": "stream",
     "text": [
      "C:\\Users\\fhacesga\\Desktop\\FIRMsDigitizing\\processing\\2023-10-10_14-38-16\\\\Inputs\\480287IND0_0985.jpg\n"
     ]
    },
    {
     "data": {
      "application/vnd.jupyter.widget-view+json": {
       "model_id": "8fc0386dc862478db91de99706917b21",
       "version_major": 2,
       "version_minor": 0
      },
      "text/plain": [
       "  0%|          | 0/2 [00:00<?, ?it/s]"
      ]
     },
     "metadata": {},
     "output_type": "display_data"
    },
    {
     "name": "stdout",
     "output_type": "stream",
     "text": [
      "C:\\Users\\fhacesga\\Desktop\\FIRMsDigitizing\\processing\\2023-10-10_14-38-16\\\\Inputs\\480296IND0_0982.jpg\n"
     ]
    },
    {
     "data": {
      "application/vnd.jupyter.widget-view+json": {
       "model_id": "56beed94b55b42149c519d38a90f3591",
       "version_major": 2,
       "version_minor": 0
      },
      "text/plain": [
       "  0%|          | 0/2 [00:00<?, ?it/s]"
      ]
     },
     "metadata": {},
     "output_type": "display_data"
    },
    {
     "name": "stdout",
     "output_type": "stream",
     "text": [
      "C:\\Users\\fhacesga\\Desktop\\FIRMsDigitizing\\processing\\2023-10-10_14-38-16\\\\Inputs\\480296IND0_0985.jpg\n"
     ]
    },
    {
     "data": {
      "application/vnd.jupyter.widget-view+json": {
       "model_id": "da81163fe84547479966853229db6717",
       "version_major": 2,
       "version_minor": 0
      },
      "text/plain": [
       "  0%|          | 0/2 [00:00<?, ?it/s]"
      ]
     },
     "metadata": {},
     "output_type": "display_data"
    },
    {
     "name": "stdout",
     "output_type": "stream",
     "text": [
      "C:\\Users\\fhacesga\\Desktop\\FIRMsDigitizing\\processing\\2023-10-10_14-38-16\\\\Inputs\\480296IND0_0987.jpg\n"
     ]
    },
    {
     "data": {
      "application/vnd.jupyter.widget-view+json": {
       "model_id": "db6d325c8c4e4601b33c4b68c37f1634",
       "version_major": 2,
       "version_minor": 0
      },
      "text/plain": [
       "  0%|          | 0/2 [00:00<?, ?it/s]"
      ]
     },
     "metadata": {},
     "output_type": "display_data"
    },
    {
     "name": "stdout",
     "output_type": "stream",
     "text": [
      "C:\\Users\\fhacesga\\Desktop\\FIRMsDigitizing\\processing\\2023-10-10_14-38-16\\\\Inputs\\480296IND0_1279.jpg\n"
     ]
    },
    {
     "data": {
      "application/vnd.jupyter.widget-view+json": {
       "model_id": "68c63d28bfce4597ae61b880fe98e979",
       "version_major": 2,
       "version_minor": 0
      },
      "text/plain": [
       "  0%|          | 0/2 [00:00<?, ?it/s]"
      ]
     },
     "metadata": {},
     "output_type": "display_data"
    },
    {
     "name": "stdout",
     "output_type": "stream",
     "text": [
      "C:\\Users\\fhacesga\\Desktop\\FIRMsDigitizing\\processing\\2023-10-10_14-38-16\\\\Inputs\\480304IND0_0182.jpg\n"
     ]
    },
    {
     "data": {
      "application/vnd.jupyter.widget-view+json": {
       "model_id": "046089c5a6ed4c94a77d05dba057bdd0",
       "version_major": 2,
       "version_minor": 0
      },
      "text/plain": [
       "  0%|          | 0/2 [00:00<?, ?it/s]"
      ]
     },
     "metadata": {},
     "output_type": "display_data"
    },
    {
     "name": "stdout",
     "output_type": "stream",
     "text": [
      "C:\\Users\\fhacesga\\Desktop\\FIRMsDigitizing\\processing\\2023-10-10_14-38-16\\\\Inputs\\480304IND0_1077.jpg\n"
     ]
    },
    {
     "data": {
      "application/vnd.jupyter.widget-view+json": {
       "model_id": "0963e9fc48384ca8a03a8fde1e4139be",
       "version_major": 2,
       "version_minor": 0
      },
      "text/plain": [
       "  0%|          | 0/1 [00:00<?, ?it/s]"
      ]
     },
     "metadata": {},
     "output_type": "display_data"
    },
    {
     "name": "stdout",
     "output_type": "stream",
     "text": [
      "C:\\Users\\fhacesga\\Desktop\\FIRMsDigitizing\\processing\\2023-10-10_14-38-16\\\\Inputs\\480304IND0_1287.jpg\n"
     ]
    },
    {
     "data": {
      "application/vnd.jupyter.widget-view+json": {
       "model_id": "be978d775e114d8c95c7c7a78f343a10",
       "version_major": 2,
       "version_minor": 0
      },
      "text/plain": [
       "  0%|          | 0/2 [00:00<?, ?it/s]"
      ]
     },
     "metadata": {},
     "output_type": "display_data"
    },
    {
     "name": "stdout",
     "output_type": "stream",
     "text": [
      "C:\\Users\\fhacesga\\Desktop\\FIRMsDigitizing\\processing\\2023-10-10_14-38-16\\\\Inputs\\480307IND0_0686.jpg\n"
     ]
    },
    {
     "data": {
      "application/vnd.jupyter.widget-view+json": {
       "model_id": "416fde8b018044f9ac5aac892582f0a0",
       "version_major": 2,
       "version_minor": 0
      },
      "text/plain": [
       "  0%|          | 0/2 [00:00<?, ?it/s]"
      ]
     },
     "metadata": {},
     "output_type": "display_data"
    },
    {
     "name": "stdout",
     "output_type": "stream",
     "text": [
      "C:\\Users\\fhacesga\\Desktop\\FIRMsDigitizing\\processing\\2023-10-10_14-38-16\\\\Inputs\\48039CIND0.tif\n"
     ]
    },
    {
     "data": {
      "application/vnd.jupyter.widget-view+json": {
       "model_id": "5c5cf2f0a2f04967bd898b387d69d8e9",
       "version_major": 2,
       "version_minor": 0
      },
      "text/plain": [
       "  0%|          | 0/6 [00:00<?, ?it/s]"
      ]
     },
     "metadata": {},
     "output_type": "display_data"
    },
    {
     "name": "stdout",
     "output_type": "stream",
     "text": [
      "C:\\Users\\fhacesga\\Desktop\\FIRMsDigitizing\\processing\\2023-10-10_14-38-16\\\\Inputs\\48071CIND0A.tif\n"
     ]
    },
    {
     "data": {
      "application/vnd.jupyter.widget-view+json": {
       "model_id": "31631c9080ef4799a47ad6489464cc37",
       "version_major": 2,
       "version_minor": 0
      },
      "text/plain": [
       "  0%|          | 0/6 [00:00<?, ?it/s]"
      ]
     },
     "metadata": {},
     "output_type": "display_data"
    },
    {
     "name": "stdout",
     "output_type": "stream",
     "text": [
      "C:\\Users\\fhacesga\\Desktop\\FIRMsDigitizing\\processing\\2023-10-10_14-38-16\\\\Inputs\\48157CIND0.tif\n"
     ]
    },
    {
     "data": {
      "application/vnd.jupyter.widget-view+json": {
       "model_id": "9f9e26324a9742b2a2fb6740c844a3be",
       "version_major": 2,
       "version_minor": 0
      },
      "text/plain": [
       "  0%|          | 0/5 [00:00<?, ?it/s]"
      ]
     },
     "metadata": {},
     "output_type": "display_data"
    },
    {
     "name": "stdout",
     "output_type": "stream",
     "text": [
      "C:\\Users\\fhacesga\\Desktop\\FIRMsDigitizing\\processing\\2023-10-10_14-38-16\\\\Inputs\\48157CIND0A.tif\n"
     ]
    },
    {
     "data": {
      "application/vnd.jupyter.widget-view+json": {
       "model_id": "11b687007345472abc81cd83f9dc6b18",
       "version_major": 2,
       "version_minor": 0
      },
      "text/plain": [
       "  0%|          | 0/6 [00:00<?, ?it/s]"
      ]
     },
     "metadata": {},
     "output_type": "display_data"
    },
    {
     "name": "stdout",
     "output_type": "stream",
     "text": [
      "C:\\Users\\fhacesga\\Desktop\\FIRMsDigitizing\\processing\\2023-10-10_14-38-16\\\\Inputs\\48157CIND0B.tif\n"
     ]
    },
    {
     "data": {
      "application/vnd.jupyter.widget-view+json": {
       "model_id": "12efd56a37fe4fd19b920228b9e97a80",
       "version_major": 2,
       "version_minor": 0
      },
      "text/plain": [
       "  0%|          | 0/6 [00:00<?, ?it/s]"
      ]
     },
     "metadata": {},
     "output_type": "display_data"
    },
    {
     "name": "stdout",
     "output_type": "stream",
     "text": [
      "C:\\Users\\fhacesga\\Desktop\\FIRMsDigitizing\\processing\\2023-10-10_14-38-16\\\\Inputs\\48201CIND0.tif\n"
     ]
    },
    {
     "data": {
      "application/vnd.jupyter.widget-view+json": {
       "model_id": "22f42e138a5a47b0965fd65832981908",
       "version_major": 2,
       "version_minor": 0
      },
      "text/plain": [
       "  0%|          | 0/6 [00:00<?, ?it/s]"
      ]
     },
     "metadata": {},
     "output_type": "display_data"
    },
    {
     "name": "stdout",
     "output_type": "stream",
     "text": [
      "C:\\Users\\fhacesga\\Desktop\\FIRMsDigitizing\\processing\\2023-10-10_14-38-16\\\\Inputs\\48201CIND0A.tif\n"
     ]
    },
    {
     "data": {
      "application/vnd.jupyter.widget-view+json": {
       "model_id": "222bc15e07cc4e10aa5587aa501cab36",
       "version_major": 2,
       "version_minor": 0
      },
      "text/plain": [
       "  0%|          | 0/5 [00:00<?, ?it/s]"
      ]
     },
     "metadata": {},
     "output_type": "display_data"
    },
    {
     "name": "stdout",
     "output_type": "stream",
     "text": [
      "C:\\Users\\fhacesga\\Desktop\\FIRMsDigitizing\\processing\\2023-10-10_14-38-16\\\\Inputs\\48201CIND0B.tif\n"
     ]
    },
    {
     "data": {
      "application/vnd.jupyter.widget-view+json": {
       "model_id": "08a6a057ca934a2b826f39e7e659df1c",
       "version_major": 2,
       "version_minor": 0
      },
      "text/plain": [
       "  0%|          | 0/6 [00:00<?, ?it/s]"
      ]
     },
     "metadata": {},
     "output_type": "display_data"
    },
    {
     "name": "stdout",
     "output_type": "stream",
     "text": [
      "C:\\Users\\fhacesga\\Desktop\\FIRMsDigitizing\\processing\\2023-10-10_14-38-16\\\\Inputs\\48201CIND0C.tif\n"
     ]
    },
    {
     "data": {
      "application/vnd.jupyter.widget-view+json": {
       "model_id": "b2f02ce2cda44a42b5f9bc7385fc587d",
       "version_major": 2,
       "version_minor": 0
      },
      "text/plain": [
       "  0%|          | 0/6 [00:00<?, ?it/s]"
      ]
     },
     "metadata": {},
     "output_type": "display_data"
    },
    {
     "name": "stdout",
     "output_type": "stream",
     "text": [
      "C:\\Users\\fhacesga\\Desktop\\FIRMsDigitizing\\processing\\2023-10-10_14-38-16\\\\Inputs\\48201CIND0D.tif\n"
     ]
    },
    {
     "data": {
      "application/vnd.jupyter.widget-view+json": {
       "model_id": "f6b086c76ea645e6a519bef264f313f8",
       "version_major": 2,
       "version_minor": 0
      },
      "text/plain": [
       "  0%|          | 0/6 [00:00<?, ?it/s]"
      ]
     },
     "metadata": {},
     "output_type": "display_data"
    },
    {
     "name": "stdout",
     "output_type": "stream",
     "text": [
      "C:\\Users\\fhacesga\\Desktop\\FIRMsDigitizing\\processing\\2023-10-10_14-38-16\\\\Inputs\\48201CIND0E.tif\n"
     ]
    },
    {
     "data": {
      "application/vnd.jupyter.widget-view+json": {
       "model_id": "16ec0974980f47fd807b04b1884b34d9",
       "version_major": 2,
       "version_minor": 0
      },
      "text/plain": [
       "  0%|          | 0/6 [00:00<?, ?it/s]"
      ]
     },
     "metadata": {},
     "output_type": "display_data"
    },
    {
     "name": "stdout",
     "output_type": "stream",
     "text": [
      "C:\\Users\\fhacesga\\Desktop\\FIRMsDigitizing\\processing\\2023-10-10_14-38-16\\\\Inputs\\48201CIND0F.tif\n"
     ]
    },
    {
     "data": {
      "application/vnd.jupyter.widget-view+json": {
       "model_id": "36bd8ee21cb748a7b442cbf77bd75e17",
       "version_major": 2,
       "version_minor": 0
      },
      "text/plain": [
       "  0%|          | 0/6 [00:00<?, ?it/s]"
      ]
     },
     "metadata": {},
     "output_type": "display_data"
    },
    {
     "name": "stdout",
     "output_type": "stream",
     "text": [
      "C:\\Users\\fhacesga\\Desktop\\FIRMsDigitizing\\processing\\2023-10-10_14-38-16\\\\Inputs\\48201CIND0_0990.jpg\n"
     ]
    },
    {
     "data": {
      "application/vnd.jupyter.widget-view+json": {
       "model_id": "e409591db0a54dc3b8faeca70feb699e",
       "version_major": 2,
       "version_minor": 0
      },
      "text/plain": [
       "  0%|          | 0/2 [00:00<?, ?it/s]"
      ]
     },
     "metadata": {},
     "output_type": "display_data"
    },
    {
     "name": "stdout",
     "output_type": "stream",
     "text": [
      "C:\\Users\\fhacesga\\Desktop\\FIRMsDigitizing\\processing\\2023-10-10_14-38-16\\\\Inputs\\48201CIND0_0992.tif\n"
     ]
    },
    {
     "data": {
      "application/vnd.jupyter.widget-view+json": {
       "model_id": "8c7a032ba5aa4ccf960644c9e2f20dc9",
       "version_major": 2,
       "version_minor": 0
      },
      "text/plain": [
       "  0%|          | 0/5 [00:00<?, ?it/s]"
      ]
     },
     "metadata": {},
     "output_type": "display_data"
    },
    {
     "name": "stdout",
     "output_type": "stream",
     "text": [
      "C:\\Users\\fhacesga\\Desktop\\FIRMsDigitizing\\processing\\2023-10-10_14-38-16\\\\Inputs\\48201CIND0_1196.tif\n"
     ]
    },
    {
     "data": {
      "application/vnd.jupyter.widget-view+json": {
       "model_id": "52c75574ff4b48e3b6c6dd7fd735451f",
       "version_major": 2,
       "version_minor": 0
      },
      "text/plain": [
       "  0%|          | 0/5 [00:00<?, ?it/s]"
      ]
     },
     "metadata": {},
     "output_type": "display_data"
    },
    {
     "name": "stdout",
     "output_type": "stream",
     "text": [
      "C:\\Users\\fhacesga\\Desktop\\FIRMsDigitizing\\processing\\2023-10-10_14-38-16\\\\Inputs\\48339CIND0.tif\n"
     ]
    },
    {
     "data": {
      "application/vnd.jupyter.widget-view+json": {
       "model_id": "d672623d9682403fa7fc06c0da570db3",
       "version_major": 2,
       "version_minor": 0
      },
      "text/plain": [
       "  0%|          | 0/5 [00:00<?, ?it/s]"
      ]
     },
     "metadata": {},
     "output_type": "display_data"
    },
    {
     "name": "stdout",
     "output_type": "stream",
     "text": [
      "C:\\Users\\fhacesga\\Desktop\\FIRMsDigitizing\\processing\\2023-10-10_14-38-16\\\\Inputs\\48473CIND0A.tif\n"
     ]
    },
    {
     "data": {
      "application/vnd.jupyter.widget-view+json": {
       "model_id": "c1afe248d345434a9a00deaf77762ac7",
       "version_major": 2,
       "version_minor": 0
      },
      "text/plain": [
       "  0%|          | 0/6 [00:00<?, ?it/s]"
      ]
     },
     "metadata": {},
     "output_type": "display_data"
    },
    {
     "name": "stdout",
     "output_type": "stream",
     "text": [
      "C:\\Users\\fhacesga\\Desktop\\FIRMsDigitizing\\processing\\2023-10-10_14-38-16\\\\Inputs\\485456IND0_0279.jpg\n"
     ]
    },
    {
     "data": {
      "application/vnd.jupyter.widget-view+json": {
       "model_id": "8d7cbc9ecbc44139901496d15443e4ba",
       "version_major": 2,
       "version_minor": 0
      },
      "text/plain": [
       "  0%|          | 0/2 [00:00<?, ?it/s]"
      ]
     },
     "metadata": {},
     "output_type": "display_data"
    },
    {
     "name": "stdout",
     "output_type": "stream",
     "text": [
      "C:\\Users\\fhacesga\\Desktop\\FIRMsDigitizing\\processing\\2023-10-10_14-38-16\\\\Inputs\\485456IND0_0982.jpg\n"
     ]
    },
    {
     "data": {
      "application/vnd.jupyter.widget-view+json": {
       "model_id": "b7ecdf91d9cc453489858ca80741ab23",
       "version_major": 2,
       "version_minor": 0
      },
      "text/plain": [
       "  0%|          | 0/2 [00:00<?, ?it/s]"
      ]
     },
     "metadata": {},
     "output_type": "display_data"
    },
    {
     "name": "stdout",
     "output_type": "stream",
     "text": [
      "C:\\Users\\fhacesga\\Desktop\\FIRMsDigitizing\\processing\\2023-10-10_14-38-16\\\\Inputs\\485456IND0_1185.jpg\n"
     ]
    },
    {
     "data": {
      "application/vnd.jupyter.widget-view+json": {
       "model_id": "c462c7415e2d4c37a1401398c0f01dce",
       "version_major": 2,
       "version_minor": 0
      },
      "text/plain": [
       "  0%|          | 0/2 [00:00<?, ?it/s]"
      ]
     },
     "metadata": {},
     "output_type": "display_data"
    },
    {
     "name": "stdout",
     "output_type": "stream",
     "text": [
      "C:\\Users\\fhacesga\\Desktop\\FIRMsDigitizing\\processing\\2023-10-10_14-38-16\\\\Inputs\\485468IND0_0483.jpg\n"
     ]
    },
    {
     "data": {
      "application/vnd.jupyter.widget-view+json": {
       "model_id": "2287766ca9604514967c95fb62fbebf1",
       "version_major": 2,
       "version_minor": 0
      },
      "text/plain": [
       "  0%|          | 0/2 [00:00<?, ?it/s]"
      ]
     },
     "metadata": {},
     "output_type": "display_data"
    },
    {
     "name": "stdout",
     "output_type": "stream",
     "text": [
      "C:\\Users\\fhacesga\\Desktop\\FIRMsDigitizing\\processing\\2023-10-10_14-38-16\\\\Inputs\\485487IND0_1185.jpg\n"
     ]
    },
    {
     "data": {
      "application/vnd.jupyter.widget-view+json": {
       "model_id": "0496ea5412574a1ea21314f2d2ab1e8e",
       "version_major": 2,
       "version_minor": 0
      },
      "text/plain": [
       "  0%|          | 0/2 [00:00<?, ?it/s]"
      ]
     },
     "metadata": {},
     "output_type": "display_data"
    },
    {
     "name": "stdout",
     "output_type": "stream",
     "text": [
      "C:\\Users\\fhacesga\\Desktop\\FIRMsDigitizing\\processing\\2023-10-10_14-38-16\\\\Inputs\\485488IND0.tif\n"
     ]
    },
    {
     "data": {
      "application/vnd.jupyter.widget-view+json": {
       "model_id": "4e7473b53c224dd39960df64d4dddf4d",
       "version_major": 2,
       "version_minor": 0
      },
      "text/plain": [
       "  0%|          | 0/5 [00:00<?, ?it/s]"
      ]
     },
     "metadata": {},
     "output_type": "display_data"
    },
    {
     "name": "stdout",
     "output_type": "stream",
     "text": [
      "C:\\Users\\fhacesga\\Desktop\\FIRMsDigitizing\\processing\\2023-10-10_14-38-16\\\\Inputs\\485488IND0_0583.jpg\n"
     ]
    },
    {
     "data": {
      "application/vnd.jupyter.widget-view+json": {
       "model_id": "08cd8c9e2f9b4fa785adb2d2d387166b",
       "version_major": 2,
       "version_minor": 0
      },
      "text/plain": [
       "  0%|          | 0/2 [00:00<?, ?it/s]"
      ]
     },
     "metadata": {},
     "output_type": "display_data"
    },
    {
     "name": "stdout",
     "output_type": "stream",
     "text": [
      "C:\\Users\\fhacesga\\Desktop\\FIRMsDigitizing\\processing\\2023-10-10_14-38-16\\\\Inputs\\485488IND0_0990.tif\n"
     ]
    },
    {
     "data": {
      "application/vnd.jupyter.widget-view+json": {
       "model_id": "aca07d1be802457291954bb1e06e7900",
       "version_major": 2,
       "version_minor": 0
      },
      "text/plain": [
       "  0%|          | 0/6 [00:00<?, ?it/s]"
      ]
     },
     "metadata": {},
     "output_type": "display_data"
    },
    {
     "name": "stdout",
     "output_type": "stream",
     "text": [
      "C:\\Users\\fhacesga\\Desktop\\FIRMsDigitizing\\processing\\2023-10-10_14-38-16\\\\Inputs\\485516IND0_0281.jpg\n"
     ]
    },
    {
     "data": {
      "application/vnd.jupyter.widget-view+json": {
       "model_id": "a3b4cdaeaf334f679a9be8724badd340",
       "version_major": 2,
       "version_minor": 0
      },
      "text/plain": [
       "  0%|          | 0/2 [00:00<?, ?it/s]"
      ]
     },
     "metadata": {},
     "output_type": "display_data"
    },
    {
     "name": "stdout",
     "output_type": "stream",
     "text": [
      "C:\\Users\\fhacesga\\Desktop\\FIRMsDigitizing\\processing\\2023-10-10_14-38-16\\\\Inputs\\480077.tif\n"
     ]
    },
    {
     "data": {
      "application/vnd.jupyter.widget-view+json": {
       "model_id": "fee6c8a98b5746ea8d7e687624a9f557",
       "version_major": 2,
       "version_minor": 0
      },
      "text/plain": [
       "  0%|          | 0/2 [00:00<?, ?it/s]"
      ]
     },
     "metadata": {},
     "output_type": "display_data"
    },
    {
     "name": "stdout",
     "output_type": "stream",
     "text": [
      "C:\\Users\\fhacesga\\Desktop\\FIRMsDigitizing\\processing\\2023-10-10_14-38-16\\\\Inputs\\480077A.tif\n"
     ]
    },
    {
     "data": {
      "application/vnd.jupyter.widget-view+json": {
       "model_id": "31c2aa80d6bb43b3a2eb01b897516dde",
       "version_major": 2,
       "version_minor": 0
      },
      "text/plain": [
       "  0%|          | 0/2 [00:00<?, ?it/s]"
      ]
     },
     "metadata": {},
     "output_type": "display_data"
    },
    {
     "name": "stdout",
     "output_type": "stream",
     "text": [
      "C:\\Users\\fhacesga\\Desktop\\FIRMsDigitizing\\processing\\2023-10-10_14-38-16\\\\Inputs\\480287B.tif\n"
     ]
    },
    {
     "data": {
      "application/vnd.jupyter.widget-view+json": {
       "model_id": "522e46417e3941618fabef4060c37fa7",
       "version_major": 2,
       "version_minor": 0
      },
      "text/plain": [
       "  0%|          | 0/2 [00:00<?, ?it/s]"
      ]
     },
     "metadata": {},
     "output_type": "display_data"
    },
    {
     "name": "stdout",
     "output_type": "stream",
     "text": [
      "C:\\Users\\fhacesga\\Desktop\\FIRMsDigitizing\\processing\\2023-10-10_14-38-16\\\\Inputs\\480289.tif\n"
     ]
    },
    {
     "data": {
      "application/vnd.jupyter.widget-view+json": {
       "model_id": "5a4edef42b2a4c69b12b74d413976324",
       "version_major": 2,
       "version_minor": 0
      },
      "text/plain": [
       "  0%|          | 0/2 [00:00<?, ?it/s]"
      ]
     },
     "metadata": {},
     "output_type": "display_data"
    },
    {
     "name": "stdout",
     "output_type": "stream",
     "text": [
      "C:\\Users\\fhacesga\\Desktop\\FIRMsDigitizing\\processing\\2023-10-10_14-38-16\\\\Inputs\\480289A.tif\n"
     ]
    },
    {
     "data": {
      "application/vnd.jupyter.widget-view+json": {
       "model_id": "217e4c0f70554c778d5f2522c5602a7f",
       "version_major": 2,
       "version_minor": 0
      },
      "text/plain": [
       "  0%|          | 0/2 [00:00<?, ?it/s]"
      ]
     },
     "metadata": {},
     "output_type": "display_data"
    },
    {
     "name": "stdout",
     "output_type": "stream",
     "text": [
      "C:\\Users\\fhacesga\\Desktop\\FIRMsDigitizing\\processing\\2023-10-10_14-38-16\\\\Inputs\\480290A.tif\n"
     ]
    },
    {
     "data": {
      "application/vnd.jupyter.widget-view+json": {
       "model_id": "79fc44dbc41c48aabc8d87790c1a68ca",
       "version_major": 2,
       "version_minor": 0
      },
      "text/plain": [
       "  0%|          | 0/2 [00:00<?, ?it/s]"
      ]
     },
     "metadata": {},
     "output_type": "display_data"
    },
    {
     "name": "stdout",
     "output_type": "stream",
     "text": [
      "C:\\Users\\fhacesga\\Desktop\\FIRMsDigitizing\\processing\\2023-10-10_14-38-16\\\\Inputs\\480291.tif\n"
     ]
    },
    {
     "data": {
      "application/vnd.jupyter.widget-view+json": {
       "model_id": "8749b0bf5661481ca12b7eedf9aa9e8b",
       "version_major": 2,
       "version_minor": 0
      },
      "text/plain": [
       "  0%|          | 0/2 [00:00<?, ?it/s]"
      ]
     },
     "metadata": {},
     "output_type": "display_data"
    },
    {
     "name": "stdout",
     "output_type": "stream",
     "text": [
      "C:\\Users\\fhacesga\\Desktop\\FIRMsDigitizing\\processing\\2023-10-10_14-38-16\\\\Inputs\\480293.tif\n"
     ]
    },
    {
     "data": {
      "application/vnd.jupyter.widget-view+json": {
       "model_id": "b5e7ba0850ba4605b81bd73a81e2777c",
       "version_major": 2,
       "version_minor": 0
      },
      "text/plain": [
       "  0%|          | 0/2 [00:00<?, ?it/s]"
      ]
     },
     "metadata": {},
     "output_type": "display_data"
    },
    {
     "name": "stdout",
     "output_type": "stream",
     "text": [
      "C:\\Users\\fhacesga\\Desktop\\FIRMsDigitizing\\processing\\2023-10-10_14-38-16\\\\Inputs\\480293A.tif\n"
     ]
    },
    {
     "data": {
      "application/vnd.jupyter.widget-view+json": {
       "model_id": "fe8eca0c9d54483e8f046d1c0f0f5bd7",
       "version_major": 2,
       "version_minor": 0
      },
      "text/plain": [
       "  0%|          | 0/2 [00:00<?, ?it/s]"
      ]
     },
     "metadata": {},
     "output_type": "display_data"
    },
    {
     "name": "stdout",
     "output_type": "stream",
     "text": [
      "C:\\Users\\fhacesga\\Desktop\\FIRMsDigitizing\\processing\\2023-10-10_14-38-16\\\\Inputs\\480295A.tif\n"
     ]
    },
    {
     "data": {
      "application/vnd.jupyter.widget-view+json": {
       "model_id": "f76f91a9931140c7b94e34a55be83d09",
       "version_major": 2,
       "version_minor": 0
      },
      "text/plain": [
       "  0%|          | 0/2 [00:00<?, ?it/s]"
      ]
     },
     "metadata": {},
     "output_type": "display_data"
    },
    {
     "name": "stdout",
     "output_type": "stream",
     "text": [
      "C:\\Users\\fhacesga\\Desktop\\FIRMsDigitizing\\processing\\2023-10-10_14-38-16\\\\Inputs\\480296A.tif\n"
     ]
    },
    {
     "data": {
      "application/vnd.jupyter.widget-view+json": {
       "model_id": "8f567d898ef3478ab8e2c0ecf997ca64",
       "version_major": 2,
       "version_minor": 0
      },
      "text/plain": [
       "  0%|          | 0/2 [00:00<?, ?it/s]"
      ]
     },
     "metadata": {},
     "output_type": "display_data"
    },
    {
     "name": "stdout",
     "output_type": "stream",
     "text": [
      "C:\\Users\\fhacesga\\Desktop\\FIRMsDigitizing\\processing\\2023-10-10_14-38-16\\\\Inputs\\480297A.tif\n"
     ]
    },
    {
     "data": {
      "application/vnd.jupyter.widget-view+json": {
       "model_id": "2d5bc11a1f304622801020ef77e8a968",
       "version_major": 2,
       "version_minor": 0
      },
      "text/plain": [
       "  0%|          | 0/2 [00:00<?, ?it/s]"
      ]
     },
     "metadata": {},
     "output_type": "display_data"
    },
    {
     "name": "stdout",
     "output_type": "stream",
     "text": [
      "C:\\Users\\fhacesga\\Desktop\\FIRMsDigitizing\\processing\\2023-10-10_14-38-16\\\\Inputs\\480298A.tif\n"
     ]
    },
    {
     "data": {
      "application/vnd.jupyter.widget-view+json": {
       "model_id": "e121fa877c9d4738b4bbc928fea9d99f",
       "version_major": 2,
       "version_minor": 0
      },
      "text/plain": [
       "  0%|          | 0/2 [00:00<?, ?it/s]"
      ]
     },
     "metadata": {},
     "output_type": "display_data"
    },
    {
     "name": "stdout",
     "output_type": "stream",
     "text": [
      "C:\\Users\\fhacesga\\Desktop\\FIRMsDigitizing\\processing\\2023-10-10_14-38-16\\\\Inputs\\480299.tif\n"
     ]
    },
    {
     "data": {
      "application/vnd.jupyter.widget-view+json": {
       "model_id": "431ef9a8dd714d89a6f244f641e84938",
       "version_major": 2,
       "version_minor": 0
      },
      "text/plain": [
       "  0%|          | 0/2 [00:00<?, ?it/s]"
      ]
     },
     "metadata": {},
     "output_type": "display_data"
    },
    {
     "name": "stdout",
     "output_type": "stream",
     "text": [
      "C:\\Users\\fhacesga\\Desktop\\FIRMsDigitizing\\processing\\2023-10-10_14-38-16\\\\Inputs\\480300A.tif\n"
     ]
    },
    {
     "data": {
      "application/vnd.jupyter.widget-view+json": {
       "model_id": "02b7466fbb6b41d1a7cafcf70b25ccf8",
       "version_major": 2,
       "version_minor": 0
      },
      "text/plain": [
       "  0%|          | 0/2 [00:00<?, ?it/s]"
      ]
     },
     "metadata": {},
     "output_type": "display_data"
    },
    {
     "name": "stdout",
     "output_type": "stream",
     "text": [
      "C:\\Users\\fhacesga\\Desktop\\FIRMsDigitizing\\processing\\2023-10-10_14-38-16\\\\Inputs\\480301A.tif\n"
     ]
    },
    {
     "data": {
      "application/vnd.jupyter.widget-view+json": {
       "model_id": "5c5b7e51bc5d4cbebf3d1c625793aec2",
       "version_major": 2,
       "version_minor": 0
      },
      "text/plain": [
       "  0%|          | 0/2 [00:00<?, ?it/s]"
      ]
     },
     "metadata": {},
     "output_type": "display_data"
    },
    {
     "name": "stdout",
     "output_type": "stream",
     "text": [
      "C:\\Users\\fhacesga\\Desktop\\FIRMsDigitizing\\processing\\2023-10-10_14-38-16\\\\Inputs\\480303.tif\n"
     ]
    },
    {
     "ename": "TypeError",
     "evalue": "cannot unpack non-iterable NoneType object",
     "output_type": "error",
     "traceback": [
      "\u001b[1;31m---------------------------------------------------------------------------\u001b[0m",
      "\u001b[1;31mTypeError\u001b[0m                                 Traceback (most recent call last)",
      "\u001b[1;32m~\\AppData\\Local\\Temp\\ipykernel_9932\\374514706.py\u001b[0m in \u001b[0;36m<module>\u001b[1;34m\u001b[0m\n\u001b[0;32m     19\u001b[0m \u001b[1;33m\u001b[0m\u001b[0m\n\u001b[0;32m     20\u001b[0m     \u001b[1;31m# GET BOUNDARY POINTS FROM RESPECTIVE SHAPEFILE\u001b[0m\u001b[1;33m\u001b[0m\u001b[1;33m\u001b[0m\u001b[1;33m\u001b[0m\u001b[0m\n\u001b[1;32m---> 21\u001b[1;33m     \u001b[0mpoint_boundary_gdf\u001b[0m\u001b[1;33m,\u001b[0m \u001b[0mshp_bounds\u001b[0m \u001b[1;33m=\u001b[0m \u001b[0mgetBoundaryPoints\u001b[0m\u001b[1;33m(\u001b[0m\u001b[0mrow\u001b[0m\u001b[1;33m)\u001b[0m\u001b[1;33m\u001b[0m\u001b[1;33m\u001b[0m\u001b[0m\n\u001b[0m\u001b[0;32m     22\u001b[0m     \u001b[1;32mif\u001b[0m \u001b[0mpoint_boundary_gdf\u001b[0m \u001b[1;32mis\u001b[0m \u001b[1;32mNone\u001b[0m\u001b[1;33m:\u001b[0m\u001b[1;33m\u001b[0m\u001b[1;33m\u001b[0m\u001b[0m\n\u001b[0;32m     23\u001b[0m         \u001b[1;32mcontinue\u001b[0m\u001b[1;33m\u001b[0m\u001b[1;33m\u001b[0m\u001b[0m\n",
      "\u001b[1;31mTypeError\u001b[0m: cannot unpack non-iterable NoneType object"
     ]
    }
   ],
   "source": [
    "verbose = True\n",
    "\n",
    "TPNN = None\n",
    "RLNN = None\n",
    "CLNN = None\n",
    "\n",
    "for i, row in index_files.iterrows():\n",
    "    print(row[\"FilePath\"])\n",
    "    \n",
    "    filename = os.path.basename(row[\"FilePath\"])\n",
    "    \n",
    "    # READ FILES AND RUN CLASSIFICATIONS\n",
    "    image = cv2.imread(row[\"FilePath\"])\n",
    "    image = cv2.cvtColor(image, cv2.COLOR_BGR2GRAY)\n",
    "    \n",
    "    # SAVE IMAGE TO OUTPUT DIRECTORY\n",
    "    output_image = os.path.join(outputs_dir, filename)\n",
    "    copyfile(row[\"FilePath\"], output_image)\n",
    "    \n",
    "    # GET BOUNDARY POINTS FROM RESPECTIVE SHAPEFILE\n",
    "    point_boundary_gdf, shp_bounds = getBoundaryPoints(row)\n",
    "    if point_boundary_gdf is None:\n",
    "        continue\n",
    "    \n",
    "    # WHAT ARE WE LOOKING FOR IN EACH IDENTIFIED SQUARE?\n",
    "    key = findKey(row[\"Basename\"])    \n",
    "    if key is None:\n",
    "        print(f\"Could not find key in {filename}\")\n",
    "        \n",
    "    # data_dir = r\"C:\\\\Users\\\\fhace\\\\OneDrive - University Of Houston\\\\AAA_RECTDNN\\\\data\\\\\"\n",
    "        \n",
    "    # RUN IMAGES THROUGH CNNs\n",
    "    classifications, TPNN  = findKeypoints(image, model=TPNN)\n",
    "    effectiveArea, RLNN    = findSquares(image, model=RLNN)\n",
    "    countyArea, CLNN    = findCounty(image, model=CLNN)\n",
    "    \n",
    "    cv2.imwrite(f\"tempfiles/{filename}_00_classification.png\", np.asarray(probability_to_rgb(classifications)))\n",
    "    cv2.imwrite(f\"tempfiles/{filename}_00_effectiveArea.png\", np.asarray(probability_to_rgb(effectiveArea)))\n",
    "    cv2.imwrite(f\"tempfiles/{filename}_00_county.png\", np.asarray(probability_to_rgb(countyArea)))\n",
    "    \n",
    "    continue\n",
    "    \n",
    "    # FIND THE GRID INSIDE THE IMAGE\n",
    "    out = FindGrid(image, classifications, effectiveArea, key, row[\"FilePath\"], verbose=True)\n",
    "    \n",
    "    # PLOT IMAGE\n",
    "    plot_image = np.dstack([image, image, image])\n",
    "    contours = []\n",
    "    \n",
    "    # LOOP THROUGH CONTOURS AND ADD THEM TO IMAGE\n",
    "    for k, v in out.items():\n",
    "        cv2.drawContours(plot_image, v, -1, (0, 255, 0), 3)\n",
    "        contours.append(contours_to_shapely_polygons(v))\n",
    "        \n",
    "    # CALCULATE BOUNDS OF CONTOURS ON IMAGE\n",
    "    bounds_panels = MultiPolygon(contours).bounds\n",
    "    bounds_panels = [int(i) for i in bounds_panels]\n",
    "\n",
    "    # CREATE MASK USING GRID \n",
    "    mask = np.zeros(image.shape)\n",
    "    mask[bounds_panels[1]:bounds_panels[3], bounds_panels[0]:bounds_panels[2]] = 1\n",
    "    mask_1 = drawGrid(image, out)          # GRID MASKING\n",
    "    mask_2 = classifications[:, :, 1]      # CLASSIFICATIONS MAPPING\n",
    "    mask   = np.logical_and(~mask_1, mask)   # MERGE MASKS\n",
    "    mask   = np.logical_and(mask_2, mask)\n",
    "    \n",
    "    # FLIP IMAGE AND MASK IT\n",
    "    image = 255 - image\n",
    "    image_t = image * mask\n",
    "    \n",
    "    # RASTER BOUNDS\n",
    "    get_bounds_image = np.where(np.asarray(cv2.erode(image_t, np.ones((3,3), np.uint8)) > 50), 1, 0)\n",
    "    # plt.imshow(get_bounds_image)\n",
    "    # plt.show()\n",
    "    \n",
    "    # print(get_bounds_image)\n",
    "    bounds_panels_postfilter = find_bbox(get_bounds_image)\n",
    "    bounds_panels = [i for i in bounds_panels_postfilter]\n",
    "\n",
    "    print(\"Assigning Points\")\n",
    "    # INITIAL TRANSFORM\n",
    "    from_points   = np.array([[bounds_panels[0], bounds_panels[1]], \n",
    "                   [bounds_panels[0], bounds_panels[3]],\n",
    "                   [bounds_panels[2], bounds_panels[1]],\n",
    "                   [bounds_panels[2], bounds_panels[3]]])\n",
    "\n",
    "    to_points = np.array([[shp_bounds[0], shp_bounds[1]], \n",
    "                   [shp_bounds[0], shp_bounds[3]],\n",
    "                   [shp_bounds[2], shp_bounds[1]],\n",
    "                   [shp_bounds[2], shp_bounds[3]]])\n",
    "\n",
    "    initial_transform = cv2.findHomography(from_points, to_points, cv2.RANSAC, 1000)\n",
    "    original_homography = initial_transform[0]\n",
    "    inverse_transform = np.linalg.inv(original_homography)\n",
    "\n",
    "    # CONVERT THINNED IMAGE TO POINTS\n",
    "    thin_image = cv2.ximgproc.thinning(image_t.astype(np.uint8), thinningType=cv2.ximgproc.THINNING_GUOHALL)\n",
    "    y, x = np.where(thin_image[::-1, :])                   # GET COORDINATES OF EVERY \n",
    "    image_points = np.vstack((x, y, np.ones(x.shape)))     # STACK X, Y, AND Z COORDINATES\n",
    "    # outputs = original_homography @ image_points           # TRANSFORM COORDINATES USING ESTIMATES\n",
    "    \n",
    "    # TRANSFORM SHAPEFILE POINTS INTO IMAGE COORDINATE SYSTEM\n",
    "    point_geometry = [[point.geometry.x, point.geometry.y, 1] for i, point in point_boundary_gdf.iterrows()]\n",
    "    point_geometry = inverse_transform @ np.array(point_geometry).T\n",
    "    \n",
    "    # COORDINATE HANDLING\n",
    "    coords_shp = point_geometry.T\n",
    "    coords_ras = np.vstack((image_points[0, :], image_points[1, :], np.ones(image_points[1, :].shape))).T\n",
    "    \n",
    "    # IMAGE ORIGIN COORDINATE SYSTEM TO IMAGE CENTER COORDINATE SYSTEM\n",
    "    offsets = np.mean(coords_ras, axis=0)\n",
    "    x_offset = offsets[0]\n",
    "    y_offset = offsets[1]\n",
    "\n",
    "    coords_shp_proc = np.vstack((coords_shp[:, 0] - x_offset, coords_shp[:, 1] - y_offset)).T\n",
    "    coords_ras_proc = np.vstack((coords_ras[:, 0] - x_offset, coords_ras[:, 1] - y_offset)).T\n",
    "    \n",
    "    # FAST SEARCH STRUCTURE\n",
    "    kdtree = cKDTree(coords_ras_proc)\n",
    "    \n",
    "    # ITERATIVE CLOSEST POINT\n",
    "    reprojected_points = []\n",
    "    compounded_homography = np.eye(3)\n",
    "    proc_points = coords_shp_proc\n",
    "    \n",
    "    # ITERATE\n",
    "    for i in tqdm(range(50), disable=True):\n",
    "        # TAKE ADJUSTMENT STEP\n",
    "        out, new_homography = adjustStep(proc_points, coords_ras_proc, kdtree,\n",
    "                                        shear=False, rotation=False, perspective=False)\n",
    "        compounded_homography = compounded_homography @ new_homography\n",
    "        reprojected_points.append(out)\n",
    "        proc_points = out\n",
    "        if i % 10 == 0:\n",
    "            scale  = np.sqrt((new_homography[0, 0] ** 2 + new_homography[1, 1] ** 2) / 2)\n",
    "            offset = np.sqrt((new_homography[1, 2] ** 2 + new_homography[0, 2] ** 2) / 2)\n",
    "\n",
    "            print(f\"Scale: {scale:.2f} Offset: {offset:.2f}\")\n",
    "    \n",
    "    plotICP(reprojected_points, plot_skip=10, )\n",
    "    plt.show()\n",
    "    \n",
    "    # REVERSE Y AXIS\n",
    "    rev_y_axis = np.array([[1, 0, 0],\n",
    "                           [0,-1, 0],\n",
    "                           [0, 0, 1]])\n",
    "\n",
    "    # move = original_homography @ np.array([0, image_t.shape[0], 0])\n",
    "    translation = np.eye(3)\n",
    "    translation[1, 2] = image_t.shape[0]\n",
    "\n",
    "    adjustment = np.linalg.inv(compounded_homography.copy())\n",
    "    adjustment[0, 2] = -1 * adjustment[0, 2]\n",
    "    adjustment[1, 2] = -1 * adjustment[1, 2]\n",
    "    # temp = adjustment[0, 2]\n",
    "    # adjustment[0, 2] = adjustment[1, 2]\n",
    "    # adjustment[1, 2] = temp\n",
    "    output_transform = original_homography @ adjustment @ translation @ rev_y_axis \n",
    "    print(output_transform)\n",
    "    # output_transform = original_homography @ translation @ rev_y_axis \n",
    "      \n",
    "    output_affine = Affine(*output_transform.flatten()[:6])\n",
    "    write_world_file_from_affine(output_affine, get_world_file_path(output_image))\n",
    "    "
   ]
  }
 ],
 "metadata": {
  "kernelspec": {
   "display_name": "Python 3 (ipykernel)",
   "language": "python",
   "name": "python3"
  },
  "language_info": {
   "codemirror_mode": {
    "name": "ipython",
    "version": 3
   },
   "file_extension": ".py",
   "mimetype": "text/x-python",
   "name": "python",
   "nbconvert_exporter": "python",
   "pygments_lexer": "ipython3",
   "version": "3.7.16"
  }
 },
 "nbformat": 4,
 "nbformat_minor": 5
}
