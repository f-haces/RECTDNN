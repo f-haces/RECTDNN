{
 "cells": [
  {
   "cell_type": "code",
   "execution_count": 1,
   "id": "c7621809",
   "metadata": {},
   "outputs": [],
   "source": [
    "# NOTEBOOK IMPORTS\n",
    "import os, glob, zipfile, warnings\n",
    "import numpy as np\n",
    "from tqdm.notebook import tqdm\n",
    "from shutil import copyfile, rmtree\n",
    "from datetime import datetime\n",
    "\n",
    "# IMAGE IMPORTS\n",
    "import cv2\n",
    "from PIL import Image\n",
    "\n",
    "# GIS IMPORTS\n",
    "import fiona, pyproj\n",
    "from affine import Affine\n",
    "from shapely.geometry import shape, mapping, Point, LineString, MultiPolygon, Polygon\n",
    "from shapely.ops import transform, nearest_points, snap\n",
    "import pandas as pd\n",
    "import geopandas as gpd\n",
    "import rasterio as rio\n",
    "from rasterio.mask import mask\n",
    "from scipy.spatial import cKDTree\n",
    "\n",
    "# PLOTTING IMPORTS\n",
    "import matplotlib.pyplot as plt\n",
    "import matplotlib.patches as patches\n",
    "\n",
    "# CUSTOM UTILITIES\n",
    "from WorldFileUtils import *\n",
    "from GeometryUtils import *\n",
    "from icp import *\n",
    "from DataUtils import *\n",
    "from FindGrid import *\n",
    "from PlottingUtils import *\n",
    "\n",
    "Image.MAX_IMAGE_PIXELS = 933120000\n",
    "warnings.filterwarnings(\"ignore\")"
   ]
  },
  {
   "cell_type": "code",
   "execution_count": 17,
   "id": "419ca032",
   "metadata": {},
   "outputs": [],
   "source": [
    "def getGEOID(CID,):\n",
    "    # DEALING WITH A COMMUNITY ID (CID)\n",
    "    if CID >= 9e4:\n",
    "        output = CIDs[CIDs[\"CID\"] == CID][\"GEOID_p\"].to_numpy()\n",
    "    else: # DEALING WITH A COUNTY\n",
    "        output = np.asarray([CID])\n",
    "    \n",
    "    if output.size == 0:\n",
    "        return None\n",
    "    return output[0]\n",
    "\n",
    "def getGeometry(geoid, new_epsg=3857):\n",
    "    \n",
    "    project = pyproj.Transformer.from_crs(pyproj.CRS('EPSG:4326'), pyproj.CRS(f'EPSG:{new_epsg}'), \n",
    "                                          always_xy=True).transform\n",
    "    \n",
    "    # DEALING WITH A COMMUNITY ID (CID)\n",
    "    if geoid >= 9e4:\n",
    "        output = places[places[\"GEOID\"] == geoid][\"geometry\"].to_numpy()\n",
    "    else: # DEALING WITH A COUNTY\n",
    "        output = counties[counties[\"GEOID\"] == geoid][\"geometry\"].to_numpy()\n",
    "    if output.size == 0:\n",
    "        return None    \n",
    "    \n",
    "    output = transform(project, output[0])\n",
    "    \n",
    "    return output\n",
    "\n",
    "def drawGrid(image_t, out):\n",
    "    # Create a blank image to draw the lines on\n",
    "    line_image = np.zeros_like(image_t)\n",
    "\n",
    "    for k, contours in out.items():\n",
    "        contours = contours.squeeze()\n",
    "        for i in range(contours.shape[0] - 1):\n",
    "            start_point = tuple(contours[i, :])\n",
    "            end_point = tuple(contours[i+1, :])\n",
    "            color = (255)  # You can change the color (BGR format) as needed\n",
    "            thickness = 10  # You can adjust the thickness of the line\n",
    "            line_image = cv2.line(line_image, start_point, end_point, color, thickness)\n",
    "            \n",
    "    return line_image > 0\n",
    "\n",
    "def adjustStep(from_points, coords_ras, kdtree, shear=True, rotation = True, perspective=True):\n",
    "    \n",
    "    # CALCULATE NEAREST POINTS AND FIND HOMOGRAPHY\n",
    "    _, nearest_indices = kdtree.query(from_points)\n",
    "    to_points = np.array([coords_ras[idx] for idx in nearest_indices])\n",
    "    new_homography, _ = cv2.findHomography(from_points, to_points, cv2.RANSAC, 10000)\n",
    "    if not shear:\n",
    "        scale  = np.sqrt((new_homography[0, 0] ** 2 + new_homography[1, 1] ** 2) / 2)\n",
    "        new_homography[0, 0] = scale \n",
    "        new_homography[1, 1] = scale\n",
    "    if not perspective:\n",
    "        new_homography[2, 0] = 0 \n",
    "        new_homography[2, 1] = 0 \n",
    "    if not rotation:\n",
    "        new_homography[0, 1] = 0 \n",
    "        new_homography[1, 0] = 0 \n",
    "    \n",
    "    final_points = new_homography @ np.vstack((from_points[:, 0], from_points[:, 1], np.ones(from_points[:, 0].shape)))\n",
    "    final_points = final_points[:2, :].T\n",
    "    \n",
    "    return final_points, new_homography\n",
    "\n",
    "def find_bbox(binary_image):\n",
    "    # Find the coordinates of all \"True\" elements in the binary image\n",
    "    nonzero_points = cv2.findNonZero(binary_image)\n",
    "\n",
    "    if nonzero_points is None:\n",
    "        return None\n",
    "\n",
    "    # Calculate the bounding rectangle for the \"True\" elements\n",
    "    x, y, w, h = cv2.boundingRect(nonzero_points)\n",
    "\n",
    "    return np.array([x, y, x+w, y+h])\n",
    "\n",
    "def get_world_file_path(image_path):\n",
    "    # Get the file extension (e.g., \"png\", \"jpg\", \"tif\")\n",
    "    file_extension = image_path.split('.')[-1].lower()\n",
    "\n",
    "    # Define a dictionary to map file extensions to world file extensions\n",
    "    extension_mapping = {\n",
    "        'png': 'pgw',\n",
    "        'jpg': 'jpw',\n",
    "        'jpeg': 'jpw',  # You can add more extensions if needed\n",
    "        'tif': 'tfw',\n",
    "        'tiff': 'tfw',\n",
    "    }\n",
    "\n",
    "    # Check if the file extension is in the mapping\n",
    "    if file_extension in extension_mapping:\n",
    "        # Replace the file extension with the corresponding world file extension\n",
    "        world_file_extension = extension_mapping[file_extension]\n",
    "\n",
    "        # Create the world file path by replacing the image file extension with the world file extension\n",
    "        world_file_path = os.path.splitext(image_path)[0] + '.' + world_file_extension\n",
    "\n",
    "        return world_file_path\n",
    "    else:\n",
    "        return None  # Unsupported file extension\n",
    "    \n",
    "def plotICP(reprojected_points, plot_skip=2, ):\n",
    "    icp_iterations = len(reprojected_points)\n",
    "    fig, ax = plt.subplots()\n",
    "    colormap = plt.get_cmap('RdYlGn') \n",
    "\n",
    "    ax.scatter(coords_shp_proc[:, 0], coords_shp_proc[:, 1], color=colormap(0), s=0.5)\n",
    "    ax.scatter(coords_ras_proc[:, 0], coords_ras_proc[:, 1], color=\"black\", s=0.5)\n",
    "\n",
    "    for i in np.arange(plot_skip, icp_iterations, plot_skip):\n",
    "        ax.scatter(reprojected_points[i][:, 0], reprojected_points[i][:, 1], color=colormap(i / icp_iterations), s=0.1)\n",
    "        \n",
    "    ax.grid()\n",
    "    ax.axis(\"equal\")\n",
    "    return ax"
   ]
  },
  {
   "cell_type": "markdown",
   "id": "5ed09b63",
   "metadata": {},
   "source": [
    "IO dirs"
   ]
  },
  {
   "cell_type": "code",
   "execution_count": 3,
   "id": "34617015",
   "metadata": {},
   "outputs": [],
   "source": [
    "username = os.getlogin()\n",
    "\n",
    "if username == 'fhacesga':\n",
    "    base_input_path   = r\"D:\\FloodChange\\AAA_HistoricalDownload\"\n",
    "    base_output_path  = r\"C:\\Users\\\\\"+username+\"\\Desktop\\FIRMsDigitizing\\processing\"\n",
    "    ref_dir  = r\"C:\\Users\\fhacesga\\OneDrive - University Of Houston\\AAA_RECTDNN\\data\\AAA_ReferenceDatasets\\\\\"\n",
    "elif username == 'fhace':\n",
    "    ref_dir = r\"C:\\Users\\fhace\\OneDrive - University Of Houston\\AAA_RECTDNN\\data\\AAA_ReferenceDatasets\\\\\"\n",
    "else:\n",
    "    base_input_path   = r\"D:\\Desktop\\FIRMsDigitizing\\data\\HistoricalFIRMS\"\n",
    "    base_output_path  = r\"D:\\Desktop\\FIRMsDigitizing\\processing\"\n",
    "    ref_dir  = r\"C:\\Users\\franc\\OneDrive - University Of Houston\\AAA_RECTDNN\\data\\AAA_ReferenceDatasets\\\\\"\n",
    "\n",
    "CIDs     = pd.read_csv(f\"{ref_dir}CountyCIDs.csv\", index_col=0)\n",
    "counties = gpd.read_file(f\"{ref_dir}Counties.shp\")\n",
    "places   = gpd.read_file(f\"{ref_dir}Places.shp\")\n",
    "\n",
    "counties[\"GEOID\"] = counties[\"GEOID\"].astype(np.int32)\n",
    "places[\"GEOID\"]   = places[\"GEOID\"].astype(np.int32)"
   ]
  },
  {
   "cell_type": "markdown",
   "id": "a5ca1967",
   "metadata": {},
   "source": [
    "Create working dir and unzip all files"
   ]
  },
  {
   "cell_type": "code",
   "execution_count": 4,
   "id": "eca9abcb",
   "metadata": {},
   "outputs": [],
   "source": [
    "proc_dir = None\n",
    "proc_dir = r\"D:\\Desktop\\FIRMsDigitizing\\processing\\2023-10-11_13-54-14\\\\\"\n",
    "proc_dir = r\"C:\\Users\\fhacesga\\Desktop\\FIRMsDigitizing\\processing\\2023-10-10_14-38-16\\\\\""
   ]
  },
  {
   "cell_type": "code",
   "execution_count": 5,
   "id": "8cb6d3e7",
   "metadata": {},
   "outputs": [
    {
     "ename": "PermissionError",
     "evalue": "[WinError 32] The process cannot access the file because it is being used by another process: 'C:\\\\Users\\\\fhacesga\\\\Desktop\\\\FIRMsDigitizing\\\\processing\\\\2023-10-10_14-38-16\\\\\\\\Outputs\\\\480233IND0_0382.jpg'",
     "output_type": "error",
     "traceback": [
      "\u001b[1;31m---------------------------------------------------------------------------\u001b[0m",
      "\u001b[1;31mPermissionError\u001b[0m                           Traceback (most recent call last)",
      "\u001b[1;32m~\\AppData\\Local\\Temp\\ipykernel_10736\\3293990853.py\u001b[0m in \u001b[0;36m<module>\u001b[1;34m\u001b[0m\n\u001b[0;32m     12\u001b[0m     \u001b[0munzipped_dir\u001b[0m \u001b[1;33m=\u001b[0m \u001b[0mos\u001b[0m\u001b[1;33m.\u001b[0m\u001b[0mpath\u001b[0m\u001b[1;33m.\u001b[0m\u001b[0mjoin\u001b[0m\u001b[1;33m(\u001b[0m\u001b[0mproc_dir\u001b[0m\u001b[1;33m,\u001b[0m \u001b[1;34m\"Inputs\"\u001b[0m\u001b[1;33m)\u001b[0m\u001b[1;33m\u001b[0m\u001b[1;33m\u001b[0m\u001b[0m\n\u001b[0;32m     13\u001b[0m     \u001b[0moutputs_dir\u001b[0m  \u001b[1;33m=\u001b[0m \u001b[0mos\u001b[0m\u001b[1;33m.\u001b[0m\u001b[0mpath\u001b[0m\u001b[1;33m.\u001b[0m\u001b[0mjoin\u001b[0m\u001b[1;33m(\u001b[0m\u001b[0mproc_dir\u001b[0m\u001b[1;33m,\u001b[0m \u001b[1;34m\"Outputs\"\u001b[0m\u001b[1;33m)\u001b[0m\u001b[1;33m\u001b[0m\u001b[1;33m\u001b[0m\u001b[0m\n\u001b[1;32m---> 14\u001b[1;33m     \u001b[0mrmtree\u001b[0m\u001b[1;33m(\u001b[0m\u001b[0moutputs_dir\u001b[0m\u001b[1;33m)\u001b[0m\u001b[1;33m\u001b[0m\u001b[1;33m\u001b[0m\u001b[0m\n\u001b[0m\u001b[0;32m     15\u001b[0m     \u001b[0mos\u001b[0m\u001b[1;33m.\u001b[0m\u001b[0mmakedirs\u001b[0m\u001b[1;33m(\u001b[0m\u001b[0moutputs_dir\u001b[0m\u001b[1;33m)\u001b[0m\u001b[1;33m\u001b[0m\u001b[1;33m\u001b[0m\u001b[0m\n",
      "\u001b[1;32m~\\Anaconda3\\envs\\deeplearning\\lib\\shutil.py\u001b[0m in \u001b[0;36mrmtree\u001b[1;34m(path, ignore_errors, onerror)\u001b[0m\n\u001b[0;32m    514\u001b[0m             \u001b[1;31m# can't continue even if onerror hook returns\u001b[0m\u001b[1;33m\u001b[0m\u001b[1;33m\u001b[0m\u001b[1;33m\u001b[0m\u001b[0m\n\u001b[0;32m    515\u001b[0m             \u001b[1;32mreturn\u001b[0m\u001b[1;33m\u001b[0m\u001b[1;33m\u001b[0m\u001b[0m\n\u001b[1;32m--> 516\u001b[1;33m         \u001b[1;32mreturn\u001b[0m \u001b[0m_rmtree_unsafe\u001b[0m\u001b[1;33m(\u001b[0m\u001b[0mpath\u001b[0m\u001b[1;33m,\u001b[0m \u001b[0monerror\u001b[0m\u001b[1;33m)\u001b[0m\u001b[1;33m\u001b[0m\u001b[1;33m\u001b[0m\u001b[0m\n\u001b[0m\u001b[0;32m    517\u001b[0m \u001b[1;33m\u001b[0m\u001b[0m\n\u001b[0;32m    518\u001b[0m \u001b[1;31m# Allow introspection of whether or not the hardening against symlink\u001b[0m\u001b[1;33m\u001b[0m\u001b[1;33m\u001b[0m\u001b[1;33m\u001b[0m\u001b[0m\n",
      "\u001b[1;32m~\\Anaconda3\\envs\\deeplearning\\lib\\shutil.py\u001b[0m in \u001b[0;36m_rmtree_unsafe\u001b[1;34m(path, onerror)\u001b[0m\n\u001b[0;32m    398\u001b[0m                 \u001b[0mos\u001b[0m\u001b[1;33m.\u001b[0m\u001b[0munlink\u001b[0m\u001b[1;33m(\u001b[0m\u001b[0mfullname\u001b[0m\u001b[1;33m)\u001b[0m\u001b[1;33m\u001b[0m\u001b[1;33m\u001b[0m\u001b[0m\n\u001b[0;32m    399\u001b[0m             \u001b[1;32mexcept\u001b[0m \u001b[0mOSError\u001b[0m\u001b[1;33m:\u001b[0m\u001b[1;33m\u001b[0m\u001b[1;33m\u001b[0m\u001b[0m\n\u001b[1;32m--> 400\u001b[1;33m                 \u001b[0monerror\u001b[0m\u001b[1;33m(\u001b[0m\u001b[0mos\u001b[0m\u001b[1;33m.\u001b[0m\u001b[0munlink\u001b[0m\u001b[1;33m,\u001b[0m \u001b[0mfullname\u001b[0m\u001b[1;33m,\u001b[0m \u001b[0msys\u001b[0m\u001b[1;33m.\u001b[0m\u001b[0mexc_info\u001b[0m\u001b[1;33m(\u001b[0m\u001b[1;33m)\u001b[0m\u001b[1;33m)\u001b[0m\u001b[1;33m\u001b[0m\u001b[1;33m\u001b[0m\u001b[0m\n\u001b[0m\u001b[0;32m    401\u001b[0m     \u001b[1;32mtry\u001b[0m\u001b[1;33m:\u001b[0m\u001b[1;33m\u001b[0m\u001b[1;33m\u001b[0m\u001b[0m\n\u001b[0;32m    402\u001b[0m         \u001b[0mos\u001b[0m\u001b[1;33m.\u001b[0m\u001b[0mrmdir\u001b[0m\u001b[1;33m(\u001b[0m\u001b[0mpath\u001b[0m\u001b[1;33m)\u001b[0m\u001b[1;33m\u001b[0m\u001b[1;33m\u001b[0m\u001b[0m\n",
      "\u001b[1;32m~\\Anaconda3\\envs\\deeplearning\\lib\\shutil.py\u001b[0m in \u001b[0;36m_rmtree_unsafe\u001b[1;34m(path, onerror)\u001b[0m\n\u001b[0;32m    396\u001b[0m         \u001b[1;32melse\u001b[0m\u001b[1;33m:\u001b[0m\u001b[1;33m\u001b[0m\u001b[1;33m\u001b[0m\u001b[0m\n\u001b[0;32m    397\u001b[0m             \u001b[1;32mtry\u001b[0m\u001b[1;33m:\u001b[0m\u001b[1;33m\u001b[0m\u001b[1;33m\u001b[0m\u001b[0m\n\u001b[1;32m--> 398\u001b[1;33m                 \u001b[0mos\u001b[0m\u001b[1;33m.\u001b[0m\u001b[0munlink\u001b[0m\u001b[1;33m(\u001b[0m\u001b[0mfullname\u001b[0m\u001b[1;33m)\u001b[0m\u001b[1;33m\u001b[0m\u001b[1;33m\u001b[0m\u001b[0m\n\u001b[0m\u001b[0;32m    399\u001b[0m             \u001b[1;32mexcept\u001b[0m \u001b[0mOSError\u001b[0m\u001b[1;33m:\u001b[0m\u001b[1;33m\u001b[0m\u001b[1;33m\u001b[0m\u001b[0m\n\u001b[0;32m    400\u001b[0m                 \u001b[0monerror\u001b[0m\u001b[1;33m(\u001b[0m\u001b[0mos\u001b[0m\u001b[1;33m.\u001b[0m\u001b[0munlink\u001b[0m\u001b[1;33m,\u001b[0m \u001b[0mfullname\u001b[0m\u001b[1;33m,\u001b[0m \u001b[0msys\u001b[0m\u001b[1;33m.\u001b[0m\u001b[0mexc_info\u001b[0m\u001b[1;33m(\u001b[0m\u001b[1;33m)\u001b[0m\u001b[1;33m)\u001b[0m\u001b[1;33m\u001b[0m\u001b[1;33m\u001b[0m\u001b[0m\n",
      "\u001b[1;31mPermissionError\u001b[0m: [WinError 32] The process cannot access the file because it is being used by another process: 'C:\\\\Users\\\\fhacesga\\\\Desktop\\\\FIRMsDigitizing\\\\processing\\\\2023-10-10_14-38-16\\\\\\\\Outputs\\\\480233IND0_0382.jpg'"
     ]
    }
   ],
   "source": [
    "if proc_dir is None:\n",
    "    datetime_str = datetime.now().strftime(\"%Y-%m-%d_%H-%M-%S\")\n",
    "    proc_dir     = os.path.join(base_output_path, datetime_str)\n",
    "    unzipped_dir = os.path.join(proc_dir, \"Inputs\")\n",
    "    outputs_dir  = os.path.join(proc_dir, \"Outputs\")\n",
    "    print(proc_dir)\n",
    "    os.makedirs(proc_dir)\n",
    "    os.makedirs(unzipped_dir)\n",
    "    os.makedirs(outputs_dir)\n",
    "    extractZipFiles(base_input_path, unzipped_dir)\n",
    "else:\n",
    "    unzipped_dir = os.path.join(proc_dir, \"Inputs\")\n",
    "    outputs_dir  = os.path.join(proc_dir, \"Outputs\")\n",
    "    rmtree(outputs_dir)\n",
    "    os.makedirs(outputs_dir)"
   ]
  },
  {
   "cell_type": "code",
   "execution_count": 7,
   "id": "d5180ac2",
   "metadata": {},
   "outputs": [],
   "source": [
    "image_files = glob.glob(f\"{unzipped_dir}/*\")\n",
    "filtered_files = [file for file in image_files if len(os.path.basename(file)) < 12]\n",
    "index_files = glob.glob(f\"{unzipped_dir}/*IND*\")\n",
    "\n",
    "index_files.extend(filtered_files)\n",
    "index_files = pd.DataFrame(index_files, columns=[\"FilePath\"])"
   ]
  },
  {
   "cell_type": "code",
   "execution_count": 8,
   "id": "f2b89655",
   "metadata": {},
   "outputs": [],
   "source": [
    "index_files[\"Basename\"] = [os.path.basename(file) for file in index_files[\"FilePath\"].to_list()]\n",
    "index_files[\"Location\"] = index_files[\"Basename\"].apply(extract_numerical_chars).astype(np.int32)\n",
    "index_files[\"GEOID\"] = index_files[\"Location\"].apply(getGEOID)\n",
    "index_files[\"geometry\"] = index_files[\"GEOID\"].apply(getGeometry)"
   ]
  },
  {
   "cell_type": "code",
   "execution_count": 9,
   "id": "ed2454f1",
   "metadata": {},
   "outputs": [],
   "source": [
    "def FindGrid(image, classifications, effectiveArea, key, image_path, verbose=True):    \n",
    "    \n",
    "    # DETECT LINES\n",
    "    lines, result_image, scale_x, scale_y, thinimage = line_detection(classifications, \n",
    "                                                                      effectiveArea, \n",
    "                                                                      image, \n",
    "                                                                      line_length=50)\n",
    "    \n",
    "    writeImage(f\"tempfiles/{filename}_01_linedetection.png\", result_image, verbose)\n",
    "    writeImage(f\"tempfiles/{filename}_01_thinimage.png\", thinimage, verbose)\n",
    "\n",
    "    # FILTER BY MOST POPULAR ANGLES\n",
    "    angles = calcAngles(lines)\n",
    "    line_angles, line_indices, sorted_idx = filterLines_MostPopularAngles(np.array(angles), 0.5)\n",
    "    \n",
    "    # GET RESCALED LINES\n",
    "    rescaled_lines_ordered = np.array(lines)[sorted_idx]\n",
    "    filtered_lines = rescaled_lines_ordered[np.concatenate(line_indices).flatten()]\n",
    "    \n",
    "    if verbose:\n",
    "        fig = plotLines(image, filtered_lines, savedir=f\"tempfiles/{filename}_02_azimuthfiltering.png\")\n",
    "        plt.close(fig)\n",
    "\n",
    "    # EXTEND LINES TO EDGES AND FILTER LINES BY DISTANCE OF EDGEPOINTS\n",
    "    extended_lines = extend_lines_to_edges(filtered_lines, image.shape)\n",
    "    \n",
    "    if verbose:\n",
    "        fig = plotLines(image, extended_lines, savedir=f\"tempfiles/{filename}_03_lineextension.png\")\n",
    "        plt.close(fig)\n",
    "    min_distance = 50 * np.sqrt(scale_x ** 2 + scale_y ** 2)\n",
    "    filtered_lines_extended, filtered_idx = filter_lines_by_distance(extended_lines, min_distance)\n",
    "\n",
    "    # EXTEND LINES TO ENSURE CROSSING\n",
    "    extended_lines = extend_lines_to_edges(filtered_lines_extended, image.shape)\n",
    "    # extended_lines = extend_lines(filtered_lines[filtered_idx], 200)\n",
    "    if verbose:\n",
    "        fig = plotLines(image, extended_lines, savedir=f\"tempfiles/{filename}_04_distancefiltering.png\")\n",
    "        plt.close(fig)\n",
    "\n",
    "    # CLIP LINES BY EACH INTERSECTION\n",
    "    lines_shp   = lines_to_linestrings(filtered_lines_extended)\n",
    "    split_lines = linestrings_to_lines(unary_union(lines_shp))\n",
    "    if verbose:\n",
    "        fig = plotLines(image, extended_lines, savedir=f\"tempfiles/{filename}_05_lineclipping.png\")\n",
    "        plt.close(fig)\n",
    "\n",
    "    # WHICH LINES HAVE SIGNIFICANT OVERLAP WITH DARK PIXELS IN IMAGE?\n",
    "    overlapping_lines, overlap_values = get_overlapping_lines(split_lines, \n",
    "                                                             thinimage, \n",
    "                                                             0.75,\n",
    "                                                             verbose=verbose,\n",
    "                                                             dilate_size=0)\n",
    "    \n",
    "    print(overlap_values)\n",
    "\n",
    "    if verbose:\n",
    "        fig = plotLines(image, overlapping_lines, savedir=f\"tempfiles/{filename}_06_overlappinglines.png\")\n",
    "        plt.close(fig)\n",
    "\n",
    "    # EXTEND OVERLAPPING LINES\n",
    "    if verbose:\n",
    "        fig = plotLines(image, overlapping_lines, savedir=f\"tempfiles/{filename}_06_overlappinglines_extended.png\")\n",
    "        plt.close(fig)\n",
    "\n",
    "    # DRAW LINES IN IMAGE TO IDENIFY CONTOURS\n",
    "    bw_bounds = draw_lines_to_image(overlapping_lines, (image.shape[1], image.shape[0]))\n",
    "    writeImage(f\"tempfiles/{filename}_06_drawnimage.png\", bw_bounds, verbose)\n",
    "\n",
    "    # FIND CONTOURS\n",
    "    contours, hierarchy = cv2.findContours(bw_bounds, cv2.RETR_CCOMP, cv2.CHAIN_APPROX_NONE)\n",
    "\n",
    "    # LOOP THROUGH HIGHEST HERARCHY\n",
    "    highest_level = np.max(hierarchy, axis=1).flatten()[3]\n",
    "    print(f\"Highest Hierarchy: {highest_level} in {hierarchy.shape[1]} contours\")\n",
    "    \n",
    "    # OUTPUT WHICH SQUARES WERE RECOGNIZED\n",
    "    if verbose:\n",
    "        filled_image = np.zeros(image.shape)\n",
    "        # FILL CONTOURS WITH RANDOM COLORS\n",
    "        for idx, contour in enumerate(contours):\n",
    "            if hierarchy[0][idx][3] == highest_level:  # ONLY CONTOURS WITH NO INNER CONTOURS\n",
    "                color = (random.randint(0, 255), random.randint(0, 255), random.randint(0, 255))\n",
    "                cv2.drawContours(filled_image, [contour], -1, color, thickness=cv2.FILLED)\n",
    "        writeImage(f\"tempfiles/{filename}_06_recognizedsquares.png\", filled_image, verbose)\n",
    "\n",
    "    # FIND WHICH CONTOURS CONTAIN WORDS\n",
    "    outdict = {}\n",
    "    for idx, contour in tqdm(enumerate(contours), total=len(contours), disable=~verbose):\n",
    "        if hierarchy[0][idx][3] == highest_level:  # ONLY CONTOURS WITH NO INNER CONTOURS\n",
    "            x, y, w, h = cv2.boundingRect(contour)\n",
    "        \n",
    "            # CROP THE IMAGE TO JUST CONTOUR\n",
    "            if image.ndim == 3:\n",
    "                cropped_region = image[y:y+h, x:x+w, 0]\n",
    "            else: \n",
    "                cropped_region = image[y:y+h, x:x+w]\n",
    "            \n",
    "            # PAD WITH PERCENTANGE\n",
    "            cropped_region = pad_image_with_percentage(cropped_region, 20, 20)\n",
    "            \n",
    "            # WRITE IMAGE\n",
    "            writeImage(f\"tempfiles/{filename}_07_{idx}.png\", cropped_region, verbose)\n",
    "            \n",
    "            # Perform OCR using pytesseract\n",
    "            ocr_text = pytesseract.image_to_string(cropped_region,\n",
    "                                                  config='--psm 12 --oem 3')\n",
    "                                                  # -c tessedit_char_whitelist=0123456789\n",
    "            \n",
    "            # IF WE CAN'T FIND ANYTHING, CONTINUE\n",
    "            if len(ocr_text) == 0:\n",
    "                continue\n",
    "                \n",
    "            # CHECK IF THE KEY IS FOUND IN THE TILE, IF NOT CONTINUE\n",
    "            text = find_word_with_key(ocr_text, key, verbose=verbose)\n",
    "            if text is None:\n",
    "                continue\n",
    "            \n",
    "            # IF WE FOUND TOO MANY\n",
    "            if isinstance(text, list):\n",
    "                print(\"Found too many names! Splitting along longest sides\")\n",
    "                try:\n",
    "                    shapely_contour = contours_to_shapely_polygons(contour)\n",
    "                    outpoly_1, outpoly_2 = splitPolygonByLongerSides(shapely_contour)\n",
    "                    \n",
    "                    outdict[text[0]] = convertShapelyToCV2(outpoly_1)\n",
    "                    outdict[text[1]] = convertShapelyToCV2(outpoly_2)\n",
    "                except:\n",
    "                    print(\"Failure! Results will be inaccurate due to line segment on Tile Boundary not being identified\")\n",
    "                    continue\n",
    "                continue\n",
    "            outdict[text] = contour\n",
    "    \n",
    "    plt.clf()\n",
    "    \n",
    "    return outdict\n"
   ]
  },
  {
   "cell_type": "code",
   "execution_count": 10,
   "id": "0b63c4d6",
   "metadata": {},
   "outputs": [],
   "source": [
    "def getBoundaryPoints(row, distance=20):\n",
    "    # GET WHICHEVER POLYGON IS THE LARGEST IN THE ROW'S GEOMETRY AND SIMPLIFY\n",
    "    if row[\"geometry\"] is None:\n",
    "        return None\n",
    "    elif isinstance(row[\"geometry\"], MultiPolygon):\n",
    "        largest_polygon_area = np.argmax([a.area for a in row[\"geometry\"]])\n",
    "        largest_polygon = row[\"geometry\"][largest_polygon_area].simplify(tolerance=20)\n",
    "        largest_polygon = largest_polygon.boundary\n",
    "    else:\n",
    "        largest_polygon = row[\"geometry\"].boundary\n",
    "    \n",
    "    # CONVERT POLYGON TO POINTS\n",
    "    length = largest_polygon.length # POLYGON LENGTH\n",
    "    point_boundary_list = list()    # OUTPUT POINT LIST\n",
    "    \n",
    "    # INTERPOLATE THROUGH ALL OF LENGTH\n",
    "    for distance in tqdm(range(0,int(length), distance), disable=True):         \n",
    "        point = largest_polygon.interpolate(distance)   \n",
    "        point_boundary_list.append(point)\n",
    "    point_boundary_gdf = gpd.GeoDataFrame(geometry=point_boundary_list)\n",
    "    \n",
    "    # SHAPEFILE BOUNDS\n",
    "    shp_bounds = [i for i in largest_polygon.bounds]\n",
    "    return point_boundary_gdf, shp_bounds\n",
    "def getCountyBoundaryFromImage(countyArea):\n",
    "    countyArea = cv2.Canny(countyArea, 50, 100)\n",
    "    # y, x = np.where(np.asarray(countyArea > 0))\n",
    "    return countyArea# np.vstack((x, y)).T"
   ]
  },
  {
   "cell_type": "code",
   "execution_count": 72,
   "id": "ee5e62e4",
   "metadata": {
    "scrolled": false
   },
   "outputs": [
    {
     "name": "stdout",
     "output_type": "stream",
     "text": [
      "C:\\Users\\fhacesga\\Desktop\\FIRMsDigitizing\\processing\\2023-10-10_14-38-16\\\\Inputs\\480233IND0_0382.jpg\n"
     ]
    },
    {
     "data": {
      "application/vnd.jupyter.widget-view+json": {
       "model_id": "7f25975a32d04381a272189ad1aa8421",
       "version_major": 2,
       "version_minor": 0
      },
      "text/plain": [
       "  0%|          | 0/2 [00:00<?, ?it/s]"
      ]
     },
     "metadata": {},
     "output_type": "display_data"
    },
    {
     "name": "stdout",
     "output_type": "stream",
     "text": [
      "[0.036303630363036306, 4.32969696969697, 3.996212121212121, 4.010875475802067, 0.04866180048661801, 0.0, 2.594059405940594, 2.6521212121212123, 2.4545454545454546, 2.8102229472539424, 2.880778588807786, 2.9561904761904763, 0.036303630363036306, 3.767272727272727, 3.053030303030303, 2.6427406199021206, 0.0227088402270884, 0.0, 0.07260726072607261, 0.07272727272727272, 0.05303030303030303, 0.028276237085372486, 0.04866180048661801, 2.236190476190476, 0.04950495049504951, 0.07272727272727272, 0.03787878787878788, 0.03262642740619902, 0.055150040551500405, 3.584761904761905, 0.0429042904290429, 2.496969696969697, 2.727272727272727, 2.723219140837412, 0.035685320356853206, 0.06095238095238095, 0.0462046204620462, 0.08727272727272728, 1.6136363636363635, 0.1022294725394236, 0.0454176804541768, 0.0, 0.04938271604938271, 0.0, 0.0, 0.00975609756097561, 2.696296296296296, 3.422222222222222, 4.02710027100271, 0.038408779149519894, 4.009148084619783, 3.979949874686717, 3.983739837398374, 4.0, 4.032051282051282, 0.037786774628879895, 0.05486968449931413, 4.0437535981577435, 4.1654501216545015, 4.175609756097561, 4.074074074074074, 4.038277511961723, 0.027045300878972278, 0.027434842249657063, 2.7291666666666665, 3.3904761904761904, 3.986991869918699, 4.0, 4.025518341307815, 0.02434077079107505, 0.06310013717421124, 0.861397479954181, 1.671641791044776, 0.04878048780487805, 0.0, 0.03205128205128205, 0.02699055330634278]\n",
      "Highest Hierarchy: 1 in 8 contours\n",
      "____________________________________\n",
      "['35', 'RAILROAD', '2', 'o', 'fé', 'o', '480233', '0020A']\n",
      "____________________________________\n",
      "['g', '40', '70', 'E', 'N', 'é', 'AVENUE', 'E', '1480233', '0015A']\n",
      "____________________________________\n",
      "['7', 'MURPHY', 'J', 'oo', 'y', '2']\n",
      "____________________________________\n",
      "['480233', '0010A', 'K4', 's', 'ey', '000', 'W', 'MULA', 'DERRING', '_ST', 'é', 'ROAD', 'CASH', 'ROAD']\n",
      "____________________________________\n",
      "['480233', '0005', 'A', 'o', '3', '5', 'Q', '7', '5', '00', '0']\n",
      "(636.0, 765.0, 2584.0, 3001.0)\n",
      "[636, 765, 2584, 3001]\n",
      "Assigning Points\n",
      "Scale: 0.98 Offset: 0.00\n",
      "Scale: 1.00 Offset: 0.00\n",
      "Scale: 1.00 Offset: 0.00\n",
      "Scale: 1.00 Offset: 0.00\n",
      "Scale: 1.00 Offset: 0.00\n"
     ]
    },
    {
     "data": {
      "text/plain": [
       "<Figure size 640x480 with 0 Axes>"
      ]
     },
     "metadata": {},
     "output_type": "display_data"
    },
    {
     "data": {
      "image/png": "[encoded data removed]",
      "text/plain": [
       "<Figure size 640x480 with 1 Axes>"
      ]
     },
     "metadata": {},
     "output_type": "display_data"
    },
    {
     "name": "stdout",
     "output_type": "stream",
     "text": [
      "Scale: 1.04 Offset: 17.03\n",
      "Scale: 1.00 Offset: 0.77\n",
      "Scale: 1.00 Offset: 0.15\n",
      "Scale: 1.00 Offset: 0.00\n",
      "Scale: 1.00 Offset: 0.00\n"
     ]
    },
    {
     "data": {
      "image/png": "[encoded data removed]",
      "text/plain": [
       "<Figure size 640x480 with 1 Axes>"
      ]
     },
     "metadata": {},
     "output_type": "display_data"
    },
    {
     "name": "stdout",
     "output_type": "stream",
     "text": [
      "[[ 6.83520105e+00  4.86877735e-01 -1.06498084e+07]\n",
      " [ 3.77144412e-01 -7.08132848e+00  3.46805046e+06]\n",
      " [ 0.00000000e+00  0.00000000e+00  1.00000000e+00]]\n"
     ]
    },
    {
     "ename": "NameError",
     "evalue": "name 'error' is not defined",
     "output_type": "error",
     "traceback": [
      "\u001b[1;31m---------------------------------------------------------------------------\u001b[0m",
      "\u001b[1;31mNameError\u001b[0m                                 Traceback (most recent call last)",
      "\u001b[1;32m~\\AppData\\Local\\Temp\\ipykernel_10736\\2883728540.py\u001b[0m in \u001b[0;36m<module>\u001b[1;34m\u001b[0m\n\u001b[0;32m    235\u001b[0m     \u001b[0moutput_affine\u001b[0m \u001b[1;33m=\u001b[0m \u001b[0mAffine\u001b[0m\u001b[1;33m(\u001b[0m\u001b[1;33m*\u001b[0m\u001b[0moutput_transform\u001b[0m\u001b[1;33m.\u001b[0m\u001b[0mflatten\u001b[0m\u001b[1;33m(\u001b[0m\u001b[1;33m)\u001b[0m\u001b[1;33m[\u001b[0m\u001b[1;33m:\u001b[0m\u001b[1;36m6\u001b[0m\u001b[1;33m]\u001b[0m\u001b[1;33m)\u001b[0m\u001b[1;33m\u001b[0m\u001b[1;33m\u001b[0m\u001b[0m\n\u001b[0;32m    236\u001b[0m     \u001b[0mwrite_world_file_from_affine\u001b[0m\u001b[1;33m(\u001b[0m\u001b[0moutput_affine\u001b[0m\u001b[1;33m,\u001b[0m \u001b[0mget_world_file_path\u001b[0m\u001b[1;33m(\u001b[0m\u001b[0moutput_image\u001b[0m\u001b[1;33m)\u001b[0m\u001b[1;33m)\u001b[0m\u001b[1;33m\u001b[0m\u001b[1;33m\u001b[0m\u001b[0m\n\u001b[1;32m--> 237\u001b[1;33m     \u001b[0merror\u001b[0m\u001b[1;33m\u001b[0m\u001b[1;33m\u001b[0m\u001b[0m\n\u001b[0m",
      "\u001b[1;31mNameError\u001b[0m: name 'error' is not defined"
     ]
    }
   ],
   "source": [
    "verbose = True\n",
    "\n",
    "TPNN = None\n",
    "RLNN = None\n",
    "CLNN = None\n",
    "\n",
    "for i, row in index_files.iterrows():\n",
    "    print(row[\"FilePath\"])\n",
    "    \n",
    "    filename = os.path.basename(row[\"FilePath\"])\n",
    "    \n",
    "    # READ FILES AND RUN CLASSIFICATIONS\n",
    "    image = cv2.imread(row[\"FilePath\"])\n",
    "    image = cv2.cvtColor(image, cv2.COLOR_BGR2GRAY)\n",
    "    \n",
    "    # SAVE IMAGE TO OUTPUT DIRECTORY\n",
    "    output_image = os.path.join(outputs_dir, filename)\n",
    "    copyfile(row[\"FilePath\"], output_image)\n",
    "    \n",
    "    # GET BOUNDARY POINTS FROM RESPECTIVE SHAPEFILE\n",
    "    point_boundary_gdf, shp_bounds = getBoundaryPoints(row, distance=100)\n",
    "    if point_boundary_gdf is None:\n",
    "        continue\n",
    "    \n",
    "    # WHAT ARE WE LOOKING FOR IN EACH IDENTIFIED SQUARE?\n",
    "    key = findKey(row[\"Basename\"])    \n",
    "    if key is None:\n",
    "        print(f\"Could not find key in {filename}\")\n",
    "        \n",
    "    # data_dir = r\"C:\\\\Users\\\\fhace\\\\OneDrive - University Of Houston\\\\AAA_RECTDNN\\\\data\\\\\"\n",
    "        \n",
    "    # RUN IMAGES THROUGH CNNs\n",
    "    classifications, TPNN  = findKeypoints(image, model=TPNN)\n",
    "    effectiveArea, RLNN    = findSquares(image, model=RLNN)\n",
    "    countyArea, CLNN       = findCounty(image, model=CLNN)\n",
    "    \n",
    "    cv2.imwrite(f\"tempfiles/{filename}_00_classification.png\", np.asarray(probability_to_rgb(classifications)))\n",
    "    cv2.imwrite(f\"tempfiles/{filename}_00_effectiveArea.png\", np.asarray(probability_to_rgb(effectiveArea)))\n",
    "    cv2.imwrite(f\"tempfiles/{filename}_00_county.png\", np.asarray(probability_to_rgb(countyArea)))\n",
    "    \n",
    "    # FIND THE GRID INSIDE THE IMAGE\n",
    "    out = FindGrid(image, classifications, effectiveArea, key, row[\"FilePath\"], verbose=True)\n",
    "    \n",
    "    # PLOT IMAGE\n",
    "    plot_image = np.dstack([image, image, image])\n",
    "    contours = []\n",
    "    \n",
    "    # LOOP THROUGH CONTOURS AND ADD THEM TO IMAGE\n",
    "    for k, v in out.items():\n",
    "        cv2.drawContours(plot_image, v, -1, (0, 255, 0), 3)\n",
    "        contours.append(contours_to_shapely_polygons(v))\n",
    "        \n",
    "    # CALCULATE BOUNDS OF CONTOURS ON IMAGE\n",
    "    bounds_panels = MultiPolygon(contours).bounds\n",
    "    print(bounds_panels)\n",
    "    bounds_panels = [int(i) for i in bounds_panels]\n",
    "\n",
    "    # CREATE MASK USING GRID \n",
    "    mask = np.zeros(image.shape)\n",
    "    print(bounds_panels)\n",
    "    mask[bounds_panels[1]:bounds_panels[3], bounds_panels[0]:bounds_panels[2]] = 1\n",
    "    mask_1 = drawGrid(image, out)          # GRID MASKING\n",
    "    mask_2 = classifications[:, :, 1]      # CLASSIFICATIONS MAPPING\n",
    "    mask   = np.logical_and(~mask_1, mask)   # MERGE MASKS\n",
    "    mask   = np.logical_and(mask_2, mask)\n",
    "    \n",
    "    # FLIP IMAGE AND MASK IT\n",
    "    image = 255 - image\n",
    "    image_t = image * mask\n",
    "    \n",
    "    # RASTER BOUNDS\n",
    "    get_bounds_image = np.where(np.asarray(cv2.erode(image_t, np.ones((3,3), np.uint8)) > 50), 1, 0)\n",
    "    # plt.imshow(get_bounds_image)\n",
    "    # plt.show()\n",
    "    \n",
    "    # print(get_bounds_image)\n",
    "    bounds_panels_postfilter = find_bbox(get_bounds_image)\n",
    "    bounds_panels = [i for i in bounds_panels_postfilter]\n",
    "\n",
    "    print(\"Assigning Points\")\n",
    "    # INITIAL TRANSFORM\n",
    "    from_points   = np.array([[bounds_panels[0], bounds_panels[1]], \n",
    "                   [bounds_panels[0], bounds_panels[3]],\n",
    "                   [bounds_panels[2], bounds_panels[1]],\n",
    "                   [bounds_panels[2], bounds_panels[3]]])\n",
    "\n",
    "    to_points = np.array([[shp_bounds[0], shp_bounds[1]], \n",
    "                   [shp_bounds[0], shp_bounds[3]],\n",
    "                   [shp_bounds[2], shp_bounds[1]],\n",
    "                   [shp_bounds[2], shp_bounds[3]]])\n",
    "\n",
    "    initial_transform = cv2.findHomography(from_points, to_points, cv2.RANSAC, 1000)\n",
    "    original_homography = initial_transform[0]\n",
    "    inverse_transform = np.linalg.inv(original_homography)\n",
    "\n",
    "    # CONVERT THINNED IMAGE TO POINTS\n",
    "    thin_image = getCountyBoundaryFromImage(countyArea)\n",
    "    # cv2.ximgproc.thinning(image_t.astype(np.uint8), thinningType=cv2.ximgproc.THINNING_GUOHALL)\n",
    "    y, x = np.where(thin_image[::-1, :])                   # GET COORDINATES OF EVERY \n",
    "    image_points = np.vstack((x, y, np.ones(x.shape)))     # STACK X, Y, AND Z COORDINATES\n",
    "    # outputs = original_homography @ image_points           # TRANSFORM COORDINATES USING ESTIMATES\n",
    "    \n",
    "    # TRANSFORM SHAPEFILE POINTS INTO IMAGE COORDINATE SYSTEM\n",
    "    point_geometry = [[point.geometry.x, point.geometry.y, 1] for i, point in point_boundary_gdf.iterrows()]\n",
    "    point_geometry = inverse_transform @ np.array(point_geometry).T\n",
    "    \n",
    "    # COORDINATE HANDLING\n",
    "    coords_shp = point_geometry.T\n",
    "    coords_ras = np.vstack((image_points[0, :], image_points[1, :], np.ones(image_points[1, :].shape))).T\n",
    "    \n",
    "    # IMAGE ORIGIN COORDINATE SYSTEM TO IMAGE CENTER COORDINATE SYSTEM\n",
    "    offsets = np.min(coords_ras, axis=0)\n",
    "    x_offset = offsets[0]\n",
    "    y_offset = offsets[1]\n",
    "\n",
    "    coords_shp_proc = np.vstack((coords_shp[:, 0] - x_offset, coords_shp[:, 1] - y_offset)).T\n",
    "    coords_ras_proc = np.vstack((coords_ras[:, 0] - x_offset, coords_ras[:, 1] - y_offset)).T\n",
    "    \n",
    "    def balanceArray(a):\n",
    "        temp = a.copy() * -1\n",
    "        \n",
    "        # temp_1 = a.copy()\n",
    "        # temp_1[:, 1] = temp_1[:, 1] * -1\n",
    "        \n",
    "        # temp_2 = a.copy()\n",
    "        # temp_2[:, 0] = temp_2[:, 0] * -1\n",
    "        \n",
    "        # return np.vstack((a, temp, temp_1, temp_2))\n",
    "        return np.vstack((a, temp))\n",
    "    \n",
    "    coords_shp_proc = balanceArray(coords_shp_proc)\n",
    "    coords_ras_proc = balanceArray(coords_ras_proc)\n",
    "    \n",
    "    # FAST SEARCH STRUCTURE\n",
    "    kdtree = cKDTree(coords_ras_proc)\n",
    "    \n",
    "    # ITERATIVE CLOSEST POINT\n",
    "    reprojected_points = []\n",
    "    compounded_homography = np.eye(3)\n",
    "    proc_points = coords_shp_proc\n",
    "    \n",
    "    \n",
    "    rotation=True\n",
    "    shear=True\n",
    "    perspective=False\n",
    "    \n",
    "    # ITERATE\n",
    "    for i in tqdm(range(50), disable=True):\n",
    "        # TAKE ADJUSTMENT STEP\n",
    "        out, new_homography = adjustStep(proc_points, coords_ras_proc, kdtree,\n",
    "                                        shear=shear, rotation=rotation, perspective=perspective)\n",
    "        \n",
    "        compounded_homography = compounded_homography @ np.linalg.inv(new_homography)\n",
    "        reprojected_points.append(out)\n",
    "        proc_points = out\n",
    "        \n",
    "        if i % 10 == 0:\n",
    "            scale  = np.sqrt((new_homography[0, 0] ** 2 + new_homography[1, 1] ** 2) / 2)\n",
    "            offset = np.sqrt((new_homography[1, 2] ** 2 + new_homography[0, 2] ** 2) / 2)\n",
    "            print(f\"Scale: {scale:.2f} Offset: {offset:.2f}\")\n",
    "    \n",
    "    plotICP(reprojected_points, plot_skip=10, )\n",
    "    plt.show()\n",
    "    \n",
    "    symetric_adjustment = np.linalg.inv(compounded_homography.copy())\n",
    "    \n",
    "    # IMAGE ORIGIN COORDINATE SYSTEM TO IMAGE CENTER COORDINATE SYSTEM\n",
    "    offsets = np.mean(coords_ras, axis=0)\n",
    "    x_offset = offsets[0]\n",
    "    y_offset = offsets[1]\n",
    "\n",
    "    coords_shp_proc = np.vstack((coords_shp[:, 0] - x_offset, coords_shp[:, 1] - y_offset)).T\n",
    "    coords_ras_proc = np.vstack((coords_ras[:, 0] - x_offset, coords_ras[:, 1] - y_offset)).T\n",
    "        \n",
    "    # FAST SEARCH STRUCTURE\n",
    "    kdtree = cKDTree(coords_ras_proc)\n",
    "    \n",
    "    # ITERATIVE CLOSEST POINT\n",
    "    reprojected_points = []\n",
    "    compounded_homography = np.eye(3)\n",
    "    proc_points = coords_shp_proc\n",
    "    \n",
    "    # ITERATE\n",
    "    for i in tqdm(range(50), disable=True):\n",
    "        # TAKE ADJUSTMENT STEP\n",
    "        out, new_homography = adjustStep(proc_points, coords_ras_proc, kdtree,\n",
    "                                        shear=shear, rotation=rotation, perspective=perspective)\n",
    "        \n",
    "        compounded_homography = compounded_homography @ np.linalg.inv(new_homography)\n",
    "        reprojected_points.append(out)\n",
    "        proc_points = out\n",
    "        \n",
    "        if i % 10 == 0:\n",
    "            scale  = np.sqrt((new_homography[0, 0] ** 2 + new_homography[1, 1] ** 2) / 2)\n",
    "            offset = np.sqrt((new_homography[1, 2] ** 2 + new_homography[0, 2] ** 2) / 2)\n",
    "            print(f\"Scale: {scale:.2f} Offset: {offset:.2f}\")\n",
    "    \n",
    "    plotICP(reprojected_points, plot_skip=10, )\n",
    "    plt.show()\n",
    "    \n",
    "    asymetric_adjustment = np.linalg.inv(compounded_homography.copy())\n",
    "    \n",
    "    # REVERSE Y AXIS\n",
    "    rev_y_axis = np.array([[1, 0, 0],\n",
    "                           [0,-1, 0],\n",
    "                           [0, 0, 1]])\n",
    "\n",
    "    # move = original_homography @ np.array([0, image_t.shape[0], 0])\n",
    "    translation = np.eye(3)\n",
    "    translation[1, 2] = image_t.shape[0]\n",
    "    \n",
    "    \n",
    "    # adjustment = asymetric_adjustment @ symetric_adjustment\n",
    "    adjustment = symetric_adjustment\n",
    "\n",
    "    rev_adj = rev_y_axis @ adjustment\n",
    "\n",
    "    # rev_adj[0, 2] = -1 * rev_adj[0, 2] # REVERSE X OFFSET FOR ADJUSTMENT\n",
    "    # rev_adj[1, 2] = -1 * rev_adj[1, 2] # REVERSE Y OFFSET FOR ADJUSTMENT\n",
    "\n",
    "    # EMPRICALLY CORRECT I THINK\n",
    "    # if rotation:\n",
    "    #    adjustment[0, 2] = -1 * adjustment[0, 2]\n",
    "\n",
    "    output_transform = original_homography @ translation @ rev_adj\n",
    "    offsets = output_transform @ np.array([[0, 0, 1], [image.shape[0], 0, 1]]).T\n",
    "    offsets = offsets[:, 1] - offsets[:, 0]\n",
    "\n",
    "    output_transform[0, 1] = -1 * output_transform[0, 1]\n",
    "    output_transform[1, 2] = output_transform[1, 2] - offsets[1] / 2\n",
    "\n",
    "    print(output_transform)\n",
    "    output_affine = Affine(*output_transform.flatten()[:6])\n",
    "    write_world_file_from_affine(output_affine, get_world_file_path(output_image))\n",
    "    error"
   ]
  },
  {
   "cell_type": "code",
   "execution_count": null,
   "id": "2f31cc30",
   "metadata": {},
   "outputs": [],
   "source": [
    "adjustment = np.linalg.inv(compounded_homography.copy())\n",
    "    \n",
    "    rev_adj = rev_y_axis @ adjustment    \n",
    "    \n",
    "    output_transform = original_homography @ translation @ rev_adj\n",
    "    \n",
    "    output_affine = Affine(*output_transform.flatten()[:6])\n",
    "    write_world_file_from_affine(output_affine, get_world_file_path(output_image))\n",
    "    error"
   ]
  },
  {
   "cell_type": "code",
   "execution_count": 34,
   "id": "bc1eb5d7",
   "metadata": {},
   "outputs": [
    {
     "name": "stdout",
     "output_type": "stream",
     "text": [
      "[[ 9.62470353e-01 -6.28517372e-02 -2.76621845e-13]\n",
      " [-5.07881291e-02  9.64864778e-01 -2.27011409e-13]\n",
      " [ 0.00000000e+00  0.00000000e+00  1.00000000e+00]]\n",
      "[[ 1.00194566e+00 -3.76902629e-02 -7.55468040e+01]\n",
      " [ 2.24402006e-02  1.00588301e+00 -3.48391354e+01]\n",
      " [ 0.00000000e+00  0.00000000e+00  1.00000000e+00]]\n",
      "[[ 9.66257213e-01 -9.93400327e-02 -7.55468040e+01]\n",
      " [-2.94888882e-02  9.69130679e-01 -3.48391354e+01]\n",
      " [ 0.00000000e+00  0.00000000e+00  1.00000000e+00]]\n"
     ]
    }
   ],
   "source": [
    "print(symetric_adjustment)\n",
    "print(asymetric_adjustment)\n",
    "print(asymetric_adjustment @ symetric_adjustment)"
   ]
  },
  {
   "cell_type": "code",
   "execution_count": 12,
   "id": "8da3a342",
   "metadata": {},
   "outputs": [
    {
     "data": {
      "text/plain": [
       "<matplotlib.collections.PathCollection at 0x18f7f5d1b08>"
      ]
     },
     "execution_count": 12,
     "metadata": {},
     "output_type": "execute_result"
    },
    {
     "data": {
      "image/png": "[encoded data removed]",
      "text/plain": [
       "<Figure size 640x480 with 1 Axes>"
      ]
     },
     "metadata": {},
     "output_type": "display_data"
    }
   ],
   "source": [
    "plt.scatter(coords_shp_proc[:, 0], coords_shp_proc[:, 1])"
   ]
  },
  {
   "cell_type": "code",
   "execution_count": null,
   "id": "49fae45a",
   "metadata": {},
   "outputs": [],
   "source": [
    "original_homography @ translation @ rev_adj"
   ]
  },
  {
   "cell_type": "code",
   "execution_count": null,
   "id": "230f127c",
   "metadata": {},
   "outputs": [],
   "source": [
    "    _, nearest_indices = kdtree.query(proc_points)\n",
    "    error\n",
    "    # point_boundary_gdf.iloc[nearest_indices]\n",
    "    \n",
    "    gcps = [\n",
    "        gdal.GCP(pixel_x, pixel_y, easting, northing, 0)\n",
    "        for pixel_x, pixel_y, easting, northing, elevation in [\n",
    "            (0, 0, easting1, northing1, elevation1),\n",
    "            (100, 0, easting2, northing2, elevation2),\n",
    "            # Add more GCPs as needed\n",
    "        ]\n",
    "    ]\n",
    "    error\n",
    "    \n",
    "    \n",
    "    \n",
    "    \n",
    "    \n",
    "    \n",
    "    # adjustment[0, 2] = -1 * adjustment[0, 2] # REVERSE X OFFSET FOR ADJUSTMENT\n",
    "    # adjustment[1, 2] = -1 * adjustment[1, 2] # REVERSE Y OFFSET FOR ADJUSTMENT\n",
    "    \n",
    "    # EMPRICALLY CORRECT I THINK\n",
    "    # if rotation:\n",
    "    #    adjustment[0, 2] = -1 * adjustment[0, 2]\n",
    "    \n",
    "    # output_transform = original_homography @ translation @ rev_y_axis @ adjustment\n",
    "    # temp = output_transform[1, 0]\n",
    "    \n",
    "    # if shear:\n",
    "    #    output_transform[1, 0] = -1 * output_transform[0, 1]\n",
    "    #else:\n",
    "    #    output_transform[1, 0] = output_transform[0, 1]\n",
    "    # output_transform[0, 1] = temp\n",
    "    # output_transform = original_homography @ translation @ rev_y_axis \n",
    "    \n",
    "    # if rotation and not shear:\n",
    "    #     adjustment[1, 2] = -1 * adjustment[1, 2] # REVERSE Y OFFSET FOR ADJUSTMENT\n",
    "    \n",
    "    # output_transform = original_homography @  @ translation @ rev_y_axis  \n",
    "        \n",
    "    \n",
    "    \n",
    "    \n",
    "    \n",
    "test = balanceArray(coords_shp_proc)"
   ]
  },
  {
   "cell_type": "code",
   "execution_count": null,
   "id": "f86fee13",
   "metadata": {},
   "outputs": [],
   "source": [
    "plt.scatter(test[:, 0], test[:, 1])"
   ]
  },
  {
   "cell_type": "code",
   "execution_count": 47,
   "id": "18165baa",
   "metadata": {},
   "outputs": [
    {
     "data": {
      "text/plain": [
       "3778"
      ]
     },
     "execution_count": 47,
     "metadata": {},
     "output_type": "execute_result"
    }
   ],
   "source": [
    "image.shape[0]"
   ]
  },
  {
   "cell_type": "code",
   "execution_count": null,
   "id": "806eadb7",
   "metadata": {},
   "outputs": [],
   "source": [
    "_ = plt.hist(dist, bins=30)"
   ]
  },
  {
   "cell_type": "code",
   "execution_count": null,
   "id": "2b6e8946",
   "metadata": {},
   "outputs": [],
   "source": [
    "# GET DISTANCE TO NEAREST POINTS AFTER ADJUSTMENT\n",
    "dist, nearest_indices = kdtree.query(proc_points)\n",
    "\n",
    "# RASTER COORDINATES OF NEAREST POINTS\n",
    "tps_raster = coords_ras_proc[nearest_indices]\n",
    "tps_raster[:, 0] = tps_raster[:, 0] + x_offset\n",
    "tps_raster[:, 1] = tps_raster[:, 1] + y_offset\n",
    "\n",
    "# FILTER NEAREST POITNS\n",
    "tps_raster_filter = tps_raster[dist < 10]\n",
    "tps_shapes_filter = np.vstack([p.geometry.x, p.geometry.y] for i, p in point_boundary_gdf[dist < 10].iterrows())\n",
    "\n",
    "gcps = []\n",
    "for i in range(tps_raster_filter.shape[0]):\n",
    "    gcps.append(gdal.GCP(tps_raster_filter[i, 0], tps_raster_filter[i, 1], \n",
    "                         tps_shapes_filter[i, 0], tps_shapes_filter[i, 1], 0) )"
   ]
  },
  {
   "cell_type": "code",
   "execution_count": null,
   "id": "72db8564",
   "metadata": {},
   "outputs": [],
   "source": [
    "gcps"
   ]
  },
  {
   "cell_type": "code",
   "execution_count": null,
   "id": "d9e00957",
   "metadata": {},
   "outputs": [],
   "source": [
    "# Open the input raster\n",
    "ds = gdal.Open(row[\"FilePath\"], gdal.GA_ReadOnly)\n",
    "\n",
    "# Create the output raster\n",
    "driver = gdal.GetDriverByName('GTiff')\n",
    "out_ds = driver.Create(output_image, ds.RasterXSize, ds.RasterYSize, ds.RasterCount, ds.GetRasterBand(1).DataType)\n",
    "\n",
    "# Set the GCPs\n",
    "out_ds.SetGCPs(gcps, ds.GetProjection())\n",
    "\n",
    "# Define the SRC_METHOD (e.g., nearest, bilinear, cubic, etc.)\n",
    "# src_method = 'NO_GEOTRANSFORM'\n",
    "\n",
    "# Perform the georeferencing with SRC_METHOD\n",
    "gdal.Warp(out_ds, ds)\n",
    "\n",
    "# Close the datasets\n",
    "ds = None\n",
    "out_ds = None\n"
   ]
  },
  {
   "cell_type": "code",
   "execution_count": null,
   "id": "84fbe406",
   "metadata": {
    "scrolled": true
   },
   "outputs": [],
   "source": [
    "# gcps = list()\n",
    "# for i in range(tps_raster_filter.shape[0]):\n",
    "#    gcps.append(f\"-gcp {tps_raster_filter[i, 0]} {tps_raster_filter[i, 1]} {tps_shapes_filter[i, 0]} {tps_shapes_filter[i, 1]} \")\n",
    "    \n",
    "# gcp_string = ''.join(gcps)\n",
    "\n",
    "# output_string = f'gdal_translate -a_srs \"EPSG:3857\" {gcp_string} \"{row[\"FilePath\"]}\" \"{output_image}\"'"
   ]
  },
  {
   "cell_type": "code",
   "execution_count": null,
   "id": "c85bc248",
   "metadata": {},
   "outputs": [],
   "source": [
    "gcps = [\n",
    "        gdal.GCP(pixel_x, pixel_y, easting, northing, 0)\n",
    "        for pixel_x, pixel_y, easting, northing, elevation in [\n",
    "            (0, 0, easting1, northing1, elevation1),\n",
    "            (100, 0, easting2, northing2, elevation2),\n",
    "            # Add more GCPs as needed\n",
    "        ]\n",
    "    ]"
   ]
  },
  {
   "cell_type": "code",
   "execution_count": null,
   "id": "750aa96a",
   "metadata": {},
   "outputs": [],
   "source": [
    "test = np.linalg.inv(compounded_homography) @ np.vstack((proc_points[:, 0], proc_points[:, 1], np.ones(proc_points[:, 0].shape)))\n",
    "    plt.scatter(test[:, 0], test[:, 1])"
   ]
  },
  {
   "cell_type": "code",
   "execution_count": null,
   "id": "17735c7f",
   "metadata": {},
   "outputs": [],
   "source": [
    "gcps = list()\n",
    "# gdal.GCP(pixel_x, pixel_y, easting, northing, 0) \n",
    "for i in range(tps_raster_filter.shape[0]):\n",
    "    gcps.append(gdal.GCP(tps_raster_filter[i, 0], tps_raster_filter[i, 1], \n",
    "                         tps_shapes_filter[i, 0], tps_shapes_filter[i, 1], 0) )\n",
    "\n",
    "# Open the input raster\n",
    "ds = gdal.Open(row[\"FilePath\"], gdal.GA_ReadOnly)"
   ]
  },
  {
   "cell_type": "code",
   "execution_count": 54,
   "id": "1b0b3139",
   "metadata": {},
   "outputs": [
    {
     "name": "stdout",
     "output_type": "stream",
     "text": [
      "[-26079.39245406   -809.3390657       0.        ]\n"
     ]
    }
   ],
   "source": [
    "test = output_transform @ np.array([[0, 0, 1], [image.shape[0], 0, 1]]).T\n",
    "print(test[:, 0] - test[:, 1])"
   ]
  },
  {
   "cell_type": "code",
   "execution_count": 71,
   "id": "a27a77cc",
   "metadata": {},
   "outputs": [
    {
     "name": "stdout",
     "output_type": "stream",
     "text": [
      "[[ 6.87590912e+00  4.49014177e-01 -1.06498084e+07]\n",
      " [ 3.68954122e-01 -7.00933157e+00  3.46806593e+06]\n",
      " [ 0.00000000e+00  0.00000000e+00  1.00000000e+00]]\n"
     ]
    }
   ],
   "source": [
    "# adjustment = asymetric_adjustment @ symetric_adjustment\n",
    "adjustment = symetric_adjustment\n",
    "\n",
    "rev_adj = rev_y_axis @ adjustment\n",
    "\n",
    "# rev_adj[0, 2] = -1 * rev_adj[0, 2] # REVERSE X OFFSET FOR ADJUSTMENT\n",
    "# rev_adj[1, 2] = -1 * rev_adj[1, 2] # REVERSE Y OFFSET FOR ADJUSTMENT\n",
    "\n",
    "# EMPRICALLY CORRECT I THINK\n",
    "# if rotation:\n",
    "#    adjustment[0, 2] = -1 * adjustment[0, 2]\n",
    "\n",
    "output_transform = original_homography @ translation @ rev_adj\n",
    "offsets = output_transform @ np.array([[0, 0, 1], [image.shape[0], 0, 1]]).T\n",
    "offsets = offsets[:, 1] - offsets[:, 0]\n",
    "\n",
    "output_transform[0, 1] = -1 * output_transform[0, 1]\n",
    "output_transform[1, 2] = output_transform[1, 2] - offsets[1] / 2\n",
    "\n",
    "print(output_transform)\n",
    "output_affine = Affine(*output_transform.flatten()[:6])\n",
    "write_world_file_from_affine(output_affine, get_world_file_path(output_image))"
   ]
  },
  {
   "cell_type": "code",
   "execution_count": 62,
   "id": "62e373e9",
   "metadata": {},
   "outputs": [
    {
     "data": {
      "text/plain": [
       "3469015.978248485"
      ]
     },
     "execution_count": 62,
     "metadata": {},
     "output_type": "execute_result"
    }
   ],
   "source": [
    "output_transform[1, 2]"
   ]
  },
  {
   "cell_type": "code",
   "execution_count": 49,
   "id": "c520aa6e",
   "metadata": {},
   "outputs": [
    {
     "data": {
      "text/plain": [
       "array([[   0,    0,    1],\n",
       "       [   0, 3778,    1]])"
      ]
     },
     "execution_count": 49,
     "metadata": {},
     "output_type": "execute_result"
    }
   ],
   "source": [
    "# temp = output_transform[1, 0]\n",
    "# if shear:\n",
    "#    output_transform[1, 0] = -1 * output_transform[0, 1]\n",
    "#else:\n",
    "#    output_transform[1, 0] = output_transform[0, 1]\n",
    "#output_transform[0, 1] = temp"
   ]
  },
  {
   "cell_type": "code",
   "execution_count": null,
   "id": "8bd5a974",
   "metadata": {},
   "outputs": [],
   "source": [
    "output_transform = original_homography @ translation @ rev_y_axis @ adjustment\n",
    "temp = output_transform[1, 0]\n",
    "output_transform[1, 0] = -1 * output_transform[0, 1]\n",
    "output_transform[0, 1] = temp\n",
    "print(output_transform)"
   ]
  },
  {
   "cell_type": "code",
   "execution_count": null,
   "id": "c5f3e0b4",
   "metadata": {},
   "outputs": [],
   "source": [
    "output_transform = original_homography @ translation @ rev_y_axis @ adjustment\n",
    "print(output_transform)\n",
    "output_affine = Affine(*output_transform.flatten()[:6])\n",
    "write_world_file_from_affine(output_affine, get_world_file_path(output_image))"
   ]
  },
  {
   "cell_type": "code",
   "execution_count": null,
   "id": "db283562",
   "metadata": {},
   "outputs": [],
   "source": [
    "output_transform = original_homography @ translation @ rev_y_axis @ adjustment\n",
    "temp = output_transform[1, 0]\n",
    "output_transform[1, 0] = -1 * output_transform[0, 1]\n",
    "output_transform[0, 1] = temp\n",
    "output_affine = Affine(*output_transform.flatten()[:6])\n",
    "write_world_file_from_affine(output_affine, get_world_file_path(output_image))"
   ]
  }
 ],
 "metadata": {
  "kernelspec": {
   "display_name": "Python 3 (ipykernel)",
   "language": "python",
   "name": "python3"
  },
  "language_info": {
   "codemirror_mode": {
    "name": "ipython",
    "version": 3
   },
   "file_extension": ".py",
   "mimetype": "text/x-python",
   "name": "python",
   "nbconvert_exporter": "python",
   "pygments_lexer": "ipython3",
   "version": "3.7.16"
  }
 },
 "nbformat": 4,
 "nbformat_minor": 5
}
