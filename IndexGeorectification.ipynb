{
 "cells": [
  {
   "cell_type": "code",
   "execution_count": 1,
   "id": "c7621809",
   "metadata": {},
   "outputs": [],
   "source": [
    "# NOTEBOOK IMPORTS\n",
    "import os, glob, zipfile, warnings\n",
    "import numpy as np\n",
    "from tqdm.notebook import tqdm\n",
    "from shutil import copyfile, rmtree\n",
    "from datetime import datetime\n",
    "\n",
    "# IMAGE IMPORTS\n",
    "import cv2\n",
    "from PIL import Image\n",
    "\n",
    "# GIS IMPORTS\n",
    "import fiona, pyproj\n",
    "from affine import Affine\n",
    "from shapely.geometry import shape, mapping, Point, LineString, MultiPolygon\n",
    "from shapely.ops import transform, nearest_points, snap\n",
    "import pandas as pd\n",
    "import geopandas as gpd\n",
    "import rasterio as rio\n",
    "from rasterio.mask import mask\n",
    "from scipy.spatial import cKDTree\n",
    "\n",
    "# PLOTTING IMPORTS\n",
    "import matplotlib.pyplot as plt\n",
    "import matplotlib.patches as patches\n",
    "\n",
    "# CUSTOM UTILITIES\n",
    "from WorldFileUtils import *\n",
    "from GeometryUtils import *\n",
    "from icp import *\n",
    "from DataUtils import *\n",
    "from FindGrid import *\n",
    "from PlottingUtils import *\n",
    "\n",
    "Image.MAX_IMAGE_PIXELS = 933120000\n",
    "warnings.filterwarnings(\"ignore\")"
   ]
  },
  {
   "cell_type": "code",
   "execution_count": 2,
   "id": "419ca032",
   "metadata": {},
   "outputs": [],
   "source": [
    "def getGEOID(CID,):\n",
    "    # DEALING WITH A COMMUNITY ID (CID)\n",
    "    if CID >= 9e4:\n",
    "        output = CIDs[CIDs[\"CID\"] == CID][\"GEOID_p\"].to_numpy()\n",
    "    else: # DEALING WITH A COUNTY\n",
    "        output = np.asarray([CID])\n",
    "    \n",
    "    if output.size == 0:\n",
    "        return None\n",
    "    return output[0]\n",
    "\n",
    "def getGeometry(geoid, new_epsg=3857):\n",
    "    \n",
    "    project = pyproj.Transformer.from_crs(pyproj.CRS('EPSG:4326'), pyproj.CRS(f'EPSG:{new_epsg}'), \n",
    "                                          always_xy=True).transform\n",
    "    \n",
    "    # DEALING WITH A COMMUNITY ID (CID)\n",
    "    if geoid >= 9e4:\n",
    "        output = places[places[\"GEOID\"] == geoid][\"geometry\"].to_numpy()\n",
    "    else: # DEALING WITH A COUNTY\n",
    "        output = counties[counties[\"GEOID\"] == geoid][\"geometry\"].to_numpy()\n",
    "    if output.size == 0:\n",
    "        return None    \n",
    "    \n",
    "    output = transform(project, output[0])\n",
    "    \n",
    "    return output\n",
    "\n",
    "def drawGrid(image_t, out):\n",
    "    # Create a blank image to draw the lines on\n",
    "    line_image = np.zeros_like(image_t)\n",
    "\n",
    "    for k, contours in out.items():\n",
    "        contours = contours.squeeze()\n",
    "        for i in range(contours.shape[0] - 1):\n",
    "            start_point = tuple(contours[i, :])\n",
    "            end_point = tuple(contours[i+1, :])\n",
    "            color = (255)  # You can change the color (BGR format) as needed\n",
    "            thickness = 10  # You can adjust the thickness of the line\n",
    "            line_image = cv2.line(line_image, start_point, end_point, color, thickness)\n",
    "            \n",
    "    return line_image > 0\n",
    "\n",
    "def adjustStep(from_points, coords_ras, kdtree, shear=True, rotation = True, perspective=True):\n",
    "    \n",
    "    # CALCULATE NEAREST POINTS AND FIND HOMOGRAPHY\n",
    "    _, nearest_indices = kdtree.query(from_points)\n",
    "    to_points = np.array([coords_ras[idx] for idx in nearest_indices])\n",
    "    new_homography, _ = cv2.findHomography(from_points, to_points, cv2.RANSAC, 10000)\n",
    "    if not shear:\n",
    "        scale  = np.sqrt((new_homography[0, 0] ** 2 + new_homography[1, 1] ** 2) / 2)\n",
    "        new_homography[0, 0] = scale \n",
    "        new_homography[1, 1] = scale\n",
    "    if not perspective:\n",
    "        new_homography[2, 0] = 0 \n",
    "        new_homography[2, 1] = 0 \n",
    "    if not rotation:\n",
    "        new_homography[0, 1] = 0 \n",
    "        new_homography[1, 0] = 0 \n",
    "    final_points = new_homography @ np.vstack((from_points[:, 0], from_points[:, 1], np.ones(from_points[:, 0].shape)))\n",
    "    \n",
    "    return final_points[:2, :].T, new_homography\n",
    "\n",
    "def find_bbox(binary_image):\n",
    "    # Find the coordinates of all \"True\" elements in the binary image\n",
    "    nonzero_points = cv2.findNonZero(binary_image)\n",
    "\n",
    "    if nonzero_points is None:\n",
    "        return None\n",
    "\n",
    "    # Calculate the bounding rectangle for the \"True\" elements\n",
    "    x, y, w, h = cv2.boundingRect(nonzero_points)\n",
    "\n",
    "    return np.array([x, y, x+w, y+h])\n",
    "\n",
    "def get_world_file_path(image_path):\n",
    "    # Get the file extension (e.g., \"png\", \"jpg\", \"tif\")\n",
    "    file_extension = image_path.split('.')[-1].lower()\n",
    "\n",
    "    # Define a dictionary to map file extensions to world file extensions\n",
    "    extension_mapping = {\n",
    "        'png': 'pgw',\n",
    "        'jpg': 'jpw',\n",
    "        'jpeg': 'jpw',  # You can add more extensions if needed\n",
    "        'tif': 'tfw',\n",
    "        'tiff': 'tfw',\n",
    "    }\n",
    "\n",
    "    # Check if the file extension is in the mapping\n",
    "    if file_extension in extension_mapping:\n",
    "        # Replace the file extension with the corresponding world file extension\n",
    "        world_file_extension = extension_mapping[file_extension]\n",
    "\n",
    "        # Create the world file path by replacing the image file extension with the world file extension\n",
    "        world_file_path = os.path.splitext(image_path)[0] + '.' + world_file_extension\n",
    "\n",
    "        return world_file_path\n",
    "    else:\n",
    "        return None  # Unsupported file extension\n",
    "    \n",
    "def plotICP(reprojected_points, plot_skip=2, ):\n",
    "    icp_iterations = len(reprojected_points)\n",
    "    fig, ax = plt.subplots()\n",
    "    colormap = plt.get_cmap('RdYlGn') \n",
    "\n",
    "    ax.scatter(coords_shp_proc[:, 0], coords_shp_proc[:, 1], color=colormap(0), s=0.5)\n",
    "    ax.scatter(coords_ras_proc[:, 0], coords_ras_proc[:, 1], color=\"black\", s=0.5)\n",
    "\n",
    "    for i in np.arange(plot_skip, icp_iterations, plot_skip):\n",
    "        ax.scatter(reprojected_points[i][:, 0], reprojected_points[i][:, 1], color=colormap(i / icp_iterations), s=0.1)\n",
    "    return ax"
   ]
  },
  {
   "cell_type": "markdown",
   "id": "5ed09b63",
   "metadata": {},
   "source": [
    "IO dirs"
   ]
  },
  {
   "cell_type": "code",
   "execution_count": 3,
   "id": "34617015",
   "metadata": {},
   "outputs": [],
   "source": [
    "username = os.getlogin()\n",
    "\n",
    "if username == 'fhacesga':\n",
    "    base_input_path   = r\"D:\\FloodChange\\AAA_HistoricalDownload\"\n",
    "    base_output_path  = r\"C:\\Users\\\\\"+username+\"\\Desktop\\FIRMsDigitizing\\processing\"\n",
    "    ref_dir  = r\"C:\\Users\\fhacesga\\OneDrive - University Of Houston\\AAA_RECTDNN\\data\\AAA_ReferenceDatasets\\\\\"\n",
    "else:\n",
    "    base_input_path   = r\"D:\\Desktop\\FIRMsDigitizing\\data\\HistoricalFIRMS\"\n",
    "    base_output_path  = r\"D\\Desktop\\FIRMsDigitizing\\processing\"\n",
    "    ref_dir  = r\"C:\\Users\\franc\\OneDrive - University Of Houston\\AAA_RECTDNN\\data\\AAA_ReferenceDatasets\\\\\"\n",
    " \n",
    "CIDs     = pd.read_csv(f\"{ref_dir}CountyCIDs.csv\", index_col=0)\n",
    "counties = gpd.read_file(f\"{ref_dir}Counties.shp\")\n",
    "places   = gpd.read_file(f\"{ref_dir}Places.shp\")\n",
    "\n",
    "counties[\"GEOID\"] = counties[\"GEOID\"].astype(np.int32)\n",
    "places[\"GEOID\"]   = places[\"GEOID\"].astype(np.int32)"
   ]
  },
  {
   "cell_type": "markdown",
   "id": "a5ca1967",
   "metadata": {},
   "source": [
    "Create working dir and unzip all files"
   ]
  },
  {
   "cell_type": "code",
   "execution_count": 4,
   "id": "eca9abcb",
   "metadata": {},
   "outputs": [],
   "source": [
    "# proc_dir = r\"C:\\Users\\fhacesga\\Desktop\\FIRMsDigitizing\\processing\\2023-09-08_16-35-58\"\n",
    "proc_dir = None\n",
    "# proc_dir = r\"C:\\Users\\fhacesga\\Desktop\\FIRMsDigitizing\\processing\\2023-09-11_14-00-13\"\n",
    "proc_dir = r\"C:\\Users\\fhacesga\\Desktop\\FIRMsDigitizing\\processing\\2023-09-20_16-29-07\""
   ]
  },
  {
   "cell_type": "code",
   "execution_count": 5,
   "id": "8cb6d3e7",
   "metadata": {},
   "outputs": [],
   "source": [
    "if proc_dir is None:\n",
    "    datetime_str = datetime.now().strftime(\"%Y-%m-%d_%H-%M-%S\")\n",
    "    proc_dir     = os.path.join(base_output_path, datetime_str)\n",
    "    unzipped_dir = os.path.join(proc_dir, \"Inputs\")\n",
    "    outputs_dir  = os.path.join(proc_dir, \"Outputs\")\n",
    "    print(proc_dir)\n",
    "    os.makedirs(proc_dir)\n",
    "    os.makedirs(unzipped_dir)\n",
    "    os.makedirs(outputs_dir)\n",
    "    extractZipFiles(base_input_path, unzipped_dir)\n",
    "else:\n",
    "    unzipped_dir = os.path.join(proc_dir, \"Inputs\")\n",
    "    outputs_dir  = os.path.join(proc_dir, \"Outputs\")\n",
    "    rmtree(outputs_dir)\n",
    "    os.makedirs(outputs_dir)"
   ]
  },
  {
   "cell_type": "code",
   "execution_count": 6,
   "id": "d5180ac2",
   "metadata": {},
   "outputs": [],
   "source": [
    "image_files = glob.glob(f\"{unzipped_dir}/*\")\n",
    "filtered_files = [file for file in image_files if len(os.path.basename(file)) < 12]\n",
    "index_files = glob.glob(f\"{unzipped_dir}/*IND*\")\n",
    "\n",
    "index_files.extend(filtered_files)\n",
    "index_files = pd.DataFrame(index_files, columns=[\"FilePath\"])"
   ]
  },
  {
   "cell_type": "code",
   "execution_count": 7,
   "id": "f2b89655",
   "metadata": {},
   "outputs": [],
   "source": [
    "index_files[\"Basename\"] = [os.path.basename(file) for file in index_files[\"FilePath\"].to_list()]\n",
    "index_files[\"Location\"] = index_files[\"Basename\"].apply(extract_numerical_chars).astype(np.int32)\n",
    "index_files[\"GEOID\"] = index_files[\"Location\"].apply(getGEOID)\n",
    "index_files[\"geometry\"] = index_files[\"GEOID\"].apply(getGeometry)"
   ]
  },
  {
   "cell_type": "code",
   "execution_count": 8,
   "id": "dde4b96c",
   "metadata": {},
   "outputs": [
    {
     "data": {
      "text/html": [
       "<div>\n",
       "<style scoped>\n",
       "    .dataframe tbody tr th:only-of-type {\n",
       "        vertical-align: middle;\n",
       "    }\n",
       "\n",
       "    .dataframe tbody tr th {\n",
       "        vertical-align: top;\n",
       "    }\n",
       "\n",
       "    .dataframe thead th {\n",
       "        text-align: right;\n",
       "    }\n",
       "</style>\n",
       "<table border=\"1\" class=\"dataframe\">\n",
       "  <thead>\n",
       "    <tr style=\"text-align: right;\">\n",
       "      <th></th>\n",
       "      <th>FilePath</th>\n",
       "      <th>Basename</th>\n",
       "      <th>Location</th>\n",
       "      <th>GEOID</th>\n",
       "      <th>geometry</th>\n",
       "    </tr>\n",
       "  </thead>\n",
       "  <tbody>\n",
       "    <tr>\n",
       "      <th>0</th>\n",
       "      <td>C:\\Users\\fhacesga\\Desktop\\FIRMsDigitizing\\proc...</td>\n",
       "      <td>480233IND0_0382.jpg</td>\n",
       "      <td>480233</td>\n",
       "      <td>4869908.0</td>\n",
       "      <td>(POLYGON ((-10637353.24214812 3452374.38747516...</td>\n",
       "    </tr>\n",
       "    <tr>\n",
       "      <th>1</th>\n",
       "      <td>C:\\Users\\fhacesga\\Desktop\\FIRMsDigitizing\\proc...</td>\n",
       "      <td>480287IND0_0281.jpg</td>\n",
       "      <td>480287</td>\n",
       "      <td>48201.0</td>\n",
       "      <td>POLYGON ((-10670735.8423667 3487438.181082066,...</td>\n",
       "    </tr>\n",
       "    <tr>\n",
       "      <th>2</th>\n",
       "      <td>C:\\Users\\fhacesga\\Desktop\\FIRMsDigitizing\\proc...</td>\n",
       "      <td>480287IND0_0288.jpg</td>\n",
       "      <td>480287</td>\n",
       "      <td>48201.0</td>\n",
       "      <td>POLYGON ((-10670735.8423667 3487438.181082066,...</td>\n",
       "    </tr>\n",
       "    <tr>\n",
       "      <th>3</th>\n",
       "      <td>C:\\Users\\fhacesga\\Desktop\\FIRMsDigitizing\\proc...</td>\n",
       "      <td>480287IND0_0382.jpg</td>\n",
       "      <td>480287</td>\n",
       "      <td>48201.0</td>\n",
       "      <td>POLYGON ((-10670735.8423667 3487438.181082066,...</td>\n",
       "    </tr>\n",
       "    <tr>\n",
       "      <th>4</th>\n",
       "      <td>C:\\Users\\fhacesga\\Desktop\\FIRMsDigitizing\\proc...</td>\n",
       "      <td>480287IND0_0985.jpg</td>\n",
       "      <td>480287</td>\n",
       "      <td>48201.0</td>\n",
       "      <td>POLYGON ((-10670735.8423667 3487438.181082066,...</td>\n",
       "    </tr>\n",
       "    <tr>\n",
       "      <th>...</th>\n",
       "      <td>...</td>\n",
       "      <td>...</td>\n",
       "      <td>...</td>\n",
       "      <td>...</td>\n",
       "      <td>...</td>\n",
       "    </tr>\n",
       "    <tr>\n",
       "      <th>80</th>\n",
       "      <td>C:\\Users\\fhacesga\\Desktop\\FIRMsDigitizing\\proc...</td>\n",
       "      <td>485510B.tif</td>\n",
       "      <td>485510</td>\n",
       "      <td>4867688.0</td>\n",
       "      <td>POLYGON ((-10579345.43473218 3455313.758801992...</td>\n",
       "    </tr>\n",
       "    <tr>\n",
       "      <th>81</th>\n",
       "      <td>C:\\Users\\fhacesga\\Desktop\\FIRMsDigitizing\\proc...</td>\n",
       "      <td>485513.tif</td>\n",
       "      <td>485513</td>\n",
       "      <td>4871960.0</td>\n",
       "      <td>POLYGON ((-10582980.01610658 3449596.838130131...</td>\n",
       "    </tr>\n",
       "    <tr>\n",
       "      <th>82</th>\n",
       "      <td>C:\\Users\\fhacesga\\Desktop\\FIRMsDigitizing\\proc...</td>\n",
       "      <td>485513A.tif</td>\n",
       "      <td>485513</td>\n",
       "      <td>4871960.0</td>\n",
       "      <td>POLYGON ((-10582980.01610658 3449596.838130131...</td>\n",
       "    </tr>\n",
       "    <tr>\n",
       "      <th>83</th>\n",
       "      <td>C:\\Users\\fhacesga\\Desktop\\FIRMsDigitizing\\proc...</td>\n",
       "      <td>485516.tif</td>\n",
       "      <td>485516</td>\n",
       "      <td>4876948.0</td>\n",
       "      <td>POLYGON ((-10591605.6068507 3445133.552947415,...</td>\n",
       "    </tr>\n",
       "    <tr>\n",
       "      <th>84</th>\n",
       "      <td>C:\\Users\\fhacesga\\Desktop\\FIRMsDigitizing\\proc...</td>\n",
       "      <td>485516A.tif</td>\n",
       "      <td>485516</td>\n",
       "      <td>4876948.0</td>\n",
       "      <td>POLYGON ((-10591605.6068507 3445133.552947415,...</td>\n",
       "    </tr>\n",
       "  </tbody>\n",
       "</table>\n",
       "<p>85 rows × 5 columns</p>\n",
       "</div>"
      ],
      "text/plain": [
       "                                             FilePath             Basename  \\\n",
       "0   C:\\Users\\fhacesga\\Desktop\\FIRMsDigitizing\\proc...  480233IND0_0382.jpg   \n",
       "1   C:\\Users\\fhacesga\\Desktop\\FIRMsDigitizing\\proc...  480287IND0_0281.jpg   \n",
       "2   C:\\Users\\fhacesga\\Desktop\\FIRMsDigitizing\\proc...  480287IND0_0288.jpg   \n",
       "3   C:\\Users\\fhacesga\\Desktop\\FIRMsDigitizing\\proc...  480287IND0_0382.jpg   \n",
       "4   C:\\Users\\fhacesga\\Desktop\\FIRMsDigitizing\\proc...  480287IND0_0985.jpg   \n",
       "..                                                ...                  ...   \n",
       "80  C:\\Users\\fhacesga\\Desktop\\FIRMsDigitizing\\proc...          485510B.tif   \n",
       "81  C:\\Users\\fhacesga\\Desktop\\FIRMsDigitizing\\proc...           485513.tif   \n",
       "82  C:\\Users\\fhacesga\\Desktop\\FIRMsDigitizing\\proc...          485513A.tif   \n",
       "83  C:\\Users\\fhacesga\\Desktop\\FIRMsDigitizing\\proc...           485516.tif   \n",
       "84  C:\\Users\\fhacesga\\Desktop\\FIRMsDigitizing\\proc...          485516A.tif   \n",
       "\n",
       "    Location      GEOID                                           geometry  \n",
       "0     480233  4869908.0  (POLYGON ((-10637353.24214812 3452374.38747516...  \n",
       "1     480287    48201.0  POLYGON ((-10670735.8423667 3487438.181082066,...  \n",
       "2     480287    48201.0  POLYGON ((-10670735.8423667 3487438.181082066,...  \n",
       "3     480287    48201.0  POLYGON ((-10670735.8423667 3487438.181082066,...  \n",
       "4     480287    48201.0  POLYGON ((-10670735.8423667 3487438.181082066,...  \n",
       "..       ...        ...                                                ...  \n",
       "80    485510  4867688.0  POLYGON ((-10579345.43473218 3455313.758801992...  \n",
       "81    485513  4871960.0  POLYGON ((-10582980.01610658 3449596.838130131...  \n",
       "82    485513  4871960.0  POLYGON ((-10582980.01610658 3449596.838130131...  \n",
       "83    485516  4876948.0  POLYGON ((-10591605.6068507 3445133.552947415,...  \n",
       "84    485516  4876948.0  POLYGON ((-10591605.6068507 3445133.552947415,...  \n",
       "\n",
       "[85 rows x 5 columns]"
      ]
     },
     "execution_count": 8,
     "metadata": {},
     "output_type": "execute_result"
    }
   ],
   "source": [
    "index_files"
   ]
  },
  {
   "cell_type": "code",
   "execution_count": 9,
   "id": "ed2454f1",
   "metadata": {},
   "outputs": [],
   "source": [
    "def FindGrid(classifications, effectiveArea, key, image_path, verbose=True):\n",
    "\n",
    "    # Get largest section of mask image\n",
    "    image_or = cv2.imread(image_path)\n",
    "    image = cv2.cvtColor(image_or, cv2.COLOR_BGR2GRAY)\n",
    "    image = cv2.resize(image, (512, 512)) \n",
    "\n",
    "    a, b, c = identifyBiggestContour(effectiveArea[:, :, 1])\n",
    "    image_mask = cv2.drawContours(a[:, :, 0] * 0, contours=[c],contourIdx=-1, \n",
    "                                  color=(255), thickness=cv2.FILLED)\n",
    "    \n",
    "\n",
    "    # Detect lines\n",
    "    lines, result_image, scale_x, scale_y, thinimage = line_detection(classifications, effectiveArea, image)\n",
    "    writeImage(f\"tempfiles/{filename}_01_linedetection.png\", result_image, verbose)\n",
    "    writeImage(f\"tempfiles/{filename}_01_thinimage.png\", thinimage, verbose)\n",
    "\n",
    "    # FILTER BY MOST POPULAR ANGLES\n",
    "    angles = calcAngles(lines)\n",
    "    line_angles, line_indices, sorted_idx = filterLines_MostPopularAngles(np.array(angles), 0.5)\n",
    "    \n",
    "    # GET RESCALED LINES\n",
    "    rescaled_lines_ordered = np.array(lines)[sorted_idx]\n",
    "    filtered_lines = rescaled_lines_ordered[np.concatenate(line_indices).flatten()]\n",
    "    \n",
    "    if verbose:\n",
    "        plotLines(image_or, filtered_lines, savedir=f\"tempfiles/{filename}_02_azimuthfiltering.png\")\n",
    "\n",
    "    # Extend lines to edges and filter by distance between lines\n",
    "    extended_lines = extend_lines_to_edges(filtered_lines, image_or.shape)\n",
    "    if verbose:\n",
    "        plotLines(image_or, extended_lines, savedir=f\"tempfiles/{filename}_03_lineextension.png\")\n",
    "\n",
    "    # Filter lines by distance between endpoints and re-extend\n",
    "    min_distance = 50 * np.sqrt(scale_x ** 2 + scale_y ** 2)\n",
    "    filtered_lines, filtered_idx = filter_lines_by_distance(extended_lines, min_distance)\n",
    "    extended_lines = extend_lines_to_edges(filtered_lines, image_or.shape)\n",
    "    if verbose:\n",
    "        plotLines(image_or, extended_lines, savedir=f\"tempfiles/{filename}_04_distancefiltering.png\")\n",
    "\n",
    "    # Clip lines\n",
    "    lines_shp   = lines_to_linestrings(filtered_lines)\n",
    "    split_lines = linestrings_to_lines(unary_union(lines_shp))\n",
    "    if verbose:\n",
    "        plotLines(image_or, extended_lines, savedir=f\"tempfiles/{filename}_05_lineclipping.png\")\n",
    "\n",
    "    overlapping_lines, overlap_values = get_overlapping_lines(split_lines, \n",
    "                                                             thinimage, \n",
    "                                                             0.8,\n",
    "                                                             verbose=verbose)\n",
    "    \n",
    "    if verbose:\n",
    "        plotLines(image_or, overlapping_lines, savedir=f\"tempfiles/{filename}_06_overlappinglines.png\")\n",
    "    \n",
    "    # Convert lines to an image in which we identify contours\n",
    "    bw_bounds = draw_lines_to_image(overlapping_lines, (image_or.shape[1], image_or.shape[0]))\n",
    "    contours, hierarchy = cv2.findContours(bw_bounds, cv2.RETR_CCOMP, cv2.CHAIN_APPROX_NONE)\n",
    "    writeImage(f\"tempfiles/{filename}_06_drawnimage.png\", bw_bounds, verbose)\n",
    "    highest_level = np.max(hierarchy, axis=1).flatten()[3]\n",
    "    print(f\"Highest Hierarchy: {highest_level} in {hierarchy.shape[1]} contours\")\n",
    "    \n",
    "    # Test which squares are identified\n",
    "    if verbose:\n",
    "        filled_image = np.zeros(image_or.shape)\n",
    "        \n",
    "        # Fill innermost contours with random colors\n",
    "        for idx, contour in enumerate(contours):\n",
    "            \n",
    "            if hierarchy[0][idx][3] == highest_level:  # If contour has no child contours\n",
    "                color = (random.randint(0, 255), random.randint(0, 255), random.randint(0, 255))\n",
    "                cv2.drawContours(filled_image, [contour], -1, color, thickness=cv2.FILLED)\n",
    "        writeImage(f\"tempfiles/{filename}_06_recognizedsquares.png\", filled_image, verbose)\n",
    "\n",
    "\n",
    "    # Find which squares have a given text\n",
    "    outdict = {}\n",
    "\n",
    "    \n",
    "\n",
    "    for idx, contour in tqdm(enumerate(contours), total=len(contours), disable=~verbose):\n",
    "        if hierarchy[0][idx][3] == highest_level:  # If contour has no child contours\n",
    "            x, y, w, h = cv2.boundingRect(contour)\n",
    "        \n",
    "            # Crop the contour region from the image\n",
    "            cropped_region = image_or[y:y+h, x:x+w, 0]\n",
    "            cropped_region = pad_image_with_percentage(cropped_region, 20, 20)\n",
    "            \n",
    "            writeImage(f\"tempfiles/{filename}_07_{idx}.png\", cropped_region, verbose)\n",
    "            \n",
    "            # Perform OCR using pytesseract\n",
    "            ocr_text = pytesseract.image_to_string(cropped_region,\n",
    "                                                  config='--psm 12 --oem 3')\n",
    "                                                  # -c tessedit_char_whitelist=0123456789\n",
    "            \n",
    "            if len(ocr_text) == 0:\n",
    "                continue\n",
    "                \n",
    "            text = find_word_with_key(ocr_text, key, verbose=verbose)\n",
    "            \n",
    "            if text is None:\n",
    "                continue\n",
    "            \n",
    "            if isinstance(text, list):\n",
    "                print(\"Found too many names! Splitting along longest sides\")\n",
    "                try:\n",
    "                    shapely_contour = contours_to_shapely_polygons(contour)\n",
    "                    outpoly_1, outpoly_2 = splitPolygonByLongerSides(shapely_contour)\n",
    "                    \n",
    "                    outdict[text[0]] = convertShapelyToCV2(outpoly_1)\n",
    "                    outdict[text[1]] = convertShapelyToCV2(outpoly_2)\n",
    "                except:\n",
    "                    print(\"Failure! Results will be inaccurate due to line segment on Tile Boundary not being identified\")\n",
    "                    continue\n",
    "                continue\n",
    "            outdict[text] = contour\n",
    "    \n",
    "    plt.clf()\n",
    "    \n",
    "    return outdict\n"
   ]
  },
  {
   "cell_type": "code",
   "execution_count": 10,
   "id": "ebbac5ce",
   "metadata": {},
   "outputs": [
    {
     "name": "stdout",
     "output_type": "stream",
     "text": [
      "C:\\Users\\fhacesga\\Desktop\\FIRMsDigitizing\\processing\\2023-09-20_16-29-07\\Inputs\\480233IND0_0382.jpg\n"
     ]
    },
    {
     "data": {
      "application/vnd.jupyter.widget-view+json": {
       "model_id": "671d2a6f28294683910d2b8f109cdf18",
       "version_major": 2,
       "version_minor": 0
      },
      "text/plain": [
       "  0%|          | 0/2 [00:00<?, ?it/s]"
      ]
     },
     "metadata": {},
     "output_type": "display_data"
    },
    {
     "name": "stdout",
     "output_type": "stream",
     "text": [
      "C:\\Users\\fhacesga\\Desktop\\FIRMsDigitizing\\processing\\2023-09-20_16-29-07\\Inputs\\480287IND0_0281.jpg\n"
     ]
    },
    {
     "data": {
      "application/vnd.jupyter.widget-view+json": {
       "model_id": "00cac5b50a504777bd8489e2124b4943",
       "version_major": 2,
       "version_minor": 0
      },
      "text/plain": [
       "  0%|          | 0/2 [00:00<?, ?it/s]"
      ]
     },
     "metadata": {},
     "output_type": "display_data"
    },
    {
     "name": "stdout",
     "output_type": "stream",
     "text": [
      "C:\\Users\\fhacesga\\Desktop\\FIRMsDigitizing\\processing\\2023-09-20_16-29-07\\Inputs\\480287IND0_0288.jpg\n"
     ]
    },
    {
     "data": {
      "application/vnd.jupyter.widget-view+json": {
       "model_id": "527079ca98894236a6e7cf680767e3d9",
       "version_major": 2,
       "version_minor": 0
      },
      "text/plain": [
       "  0%|          | 0/2 [00:00<?, ?it/s]"
      ]
     },
     "metadata": {},
     "output_type": "display_data"
    },
    {
     "name": "stdout",
     "output_type": "stream",
     "text": [
      "C:\\Users\\fhacesga\\Desktop\\FIRMsDigitizing\\processing\\2023-09-20_16-29-07\\Inputs\\480287IND0_0382.jpg\n"
     ]
    },
    {
     "data": {
      "application/vnd.jupyter.widget-view+json": {
       "model_id": "e0dc6fde2d7248309d535f8e9c994e45",
       "version_major": 2,
       "version_minor": 0
      },
      "text/plain": [
       "  0%|          | 0/2 [00:00<?, ?it/s]"
      ]
     },
     "metadata": {},
     "output_type": "display_data"
    },
    {
     "name": "stdout",
     "output_type": "stream",
     "text": [
      "C:\\Users\\fhacesga\\Desktop\\FIRMsDigitizing\\processing\\2023-09-20_16-29-07\\Inputs\\480287IND0_0985.jpg\n"
     ]
    },
    {
     "data": {
      "application/vnd.jupyter.widget-view+json": {
       "model_id": "b165f3a58ba64f20bb4eebe60e8468c9",
       "version_major": 2,
       "version_minor": 0
      },
      "text/plain": [
       "  0%|          | 0/2 [00:00<?, ?it/s]"
      ]
     },
     "metadata": {},
     "output_type": "display_data"
    },
    {
     "name": "stdout",
     "output_type": "stream",
     "text": [
      "C:\\Users\\fhacesga\\Desktop\\FIRMsDigitizing\\processing\\2023-09-20_16-29-07\\Inputs\\480296IND0_0982.jpg\n"
     ]
    },
    {
     "data": {
      "application/vnd.jupyter.widget-view+json": {
       "model_id": "d41dfae3655d4b6fa5209f92927c4b0e",
       "version_major": 2,
       "version_minor": 0
      },
      "text/plain": [
       "  0%|          | 0/2 [00:00<?, ?it/s]"
      ]
     },
     "metadata": {},
     "output_type": "display_data"
    },
    {
     "name": "stdout",
     "output_type": "stream",
     "text": [
      "C:\\Users\\fhacesga\\Desktop\\FIRMsDigitizing\\processing\\2023-09-20_16-29-07\\Inputs\\480296IND0_0985.jpg\n"
     ]
    },
    {
     "data": {
      "application/vnd.jupyter.widget-view+json": {
       "model_id": "972ffc99bfdc44138d920ed60d714384",
       "version_major": 2,
       "version_minor": 0
      },
      "text/plain": [
       "  0%|          | 0/2 [00:00<?, ?it/s]"
      ]
     },
     "metadata": {},
     "output_type": "display_data"
    },
    {
     "name": "stdout",
     "output_type": "stream",
     "text": [
      "C:\\Users\\fhacesga\\Desktop\\FIRMsDigitizing\\processing\\2023-09-20_16-29-07\\Inputs\\480296IND0_0987.jpg\n"
     ]
    },
    {
     "data": {
      "application/vnd.jupyter.widget-view+json": {
       "model_id": "749c57f539a64c0bb1d3beba96981b29",
       "version_major": 2,
       "version_minor": 0
      },
      "text/plain": [
       "  0%|          | 0/2 [00:00<?, ?it/s]"
      ]
     },
     "metadata": {},
     "output_type": "display_data"
    },
    {
     "name": "stdout",
     "output_type": "stream",
     "text": [
      "C:\\Users\\fhacesga\\Desktop\\FIRMsDigitizing\\processing\\2023-09-20_16-29-07\\Inputs\\480296IND0_1279.jpg\n"
     ]
    },
    {
     "data": {
      "application/vnd.jupyter.widget-view+json": {
       "model_id": "c170b971849240e48d9532c243cd5a64",
       "version_major": 2,
       "version_minor": 0
      },
      "text/plain": [
       "  0%|          | 0/2 [00:00<?, ?it/s]"
      ]
     },
     "metadata": {},
     "output_type": "display_data"
    },
    {
     "name": "stdout",
     "output_type": "stream",
     "text": [
      "C:\\Users\\fhacesga\\Desktop\\FIRMsDigitizing\\processing\\2023-09-20_16-29-07\\Inputs\\480304IND0_0182.jpg\n"
     ]
    },
    {
     "data": {
      "application/vnd.jupyter.widget-view+json": {
       "model_id": "2450d0538a79479b82aa3b20e42e188c",
       "version_major": 2,
       "version_minor": 0
      },
      "text/plain": [
       "  0%|          | 0/2 [00:00<?, ?it/s]"
      ]
     },
     "metadata": {},
     "output_type": "display_data"
    },
    {
     "name": "stdout",
     "output_type": "stream",
     "text": [
      "C:\\Users\\fhacesga\\Desktop\\FIRMsDigitizing\\processing\\2023-09-20_16-29-07\\Inputs\\480304IND0_1077.jpg\n"
     ]
    },
    {
     "data": {
      "application/vnd.jupyter.widget-view+json": {
       "model_id": "16bcdb4b3e764b458788bbd9f73413a8",
       "version_major": 2,
       "version_minor": 0
      },
      "text/plain": [
       "  0%|          | 0/1 [00:00<?, ?it/s]"
      ]
     },
     "metadata": {},
     "output_type": "display_data"
    },
    {
     "name": "stdout",
     "output_type": "stream",
     "text": [
      "C:\\Users\\fhacesga\\Desktop\\FIRMsDigitizing\\processing\\2023-09-20_16-29-07\\Inputs\\480304IND0_1287.jpg\n"
     ]
    },
    {
     "data": {
      "application/vnd.jupyter.widget-view+json": {
       "model_id": "8f1e56d826a34182a0cf2b747dd566ae",
       "version_major": 2,
       "version_minor": 0
      },
      "text/plain": [
       "  0%|          | 0/2 [00:00<?, ?it/s]"
      ]
     },
     "metadata": {},
     "output_type": "display_data"
    },
    {
     "name": "stdout",
     "output_type": "stream",
     "text": [
      "C:\\Users\\fhacesga\\Desktop\\FIRMsDigitizing\\processing\\2023-09-20_16-29-07\\Inputs\\480307IND0_0686.jpg\n"
     ]
    },
    {
     "data": {
      "application/vnd.jupyter.widget-view+json": {
       "model_id": "f1c7a467f067422d94b4763688776416",
       "version_major": 2,
       "version_minor": 0
      },
      "text/plain": [
       "  0%|          | 0/2 [00:00<?, ?it/s]"
      ]
     },
     "metadata": {},
     "output_type": "display_data"
    },
    {
     "name": "stdout",
     "output_type": "stream",
     "text": [
      "C:\\Users\\fhacesga\\Desktop\\FIRMsDigitizing\\processing\\2023-09-20_16-29-07\\Inputs\\48039CIND0.tif\n"
     ]
    },
    {
     "data": {
      "application/vnd.jupyter.widget-view+json": {
       "model_id": "0740ee83c66e4cdeaf51f145ad14731a",
       "version_major": 2,
       "version_minor": 0
      },
      "text/plain": [
       "  0%|          | 0/6 [00:00<?, ?it/s]"
      ]
     },
     "metadata": {},
     "output_type": "display_data"
    },
    {
     "name": "stdout",
     "output_type": "stream",
     "text": [
      "C:\\Users\\fhacesga\\Desktop\\FIRMsDigitizing\\processing\\2023-09-20_16-29-07\\Inputs\\48071CIND0A.tif\n"
     ]
    },
    {
     "data": {
      "application/vnd.jupyter.widget-view+json": {
       "model_id": "b7c64d9566ed43bfaa473937429da829",
       "version_major": 2,
       "version_minor": 0
      },
      "text/plain": [
       "  0%|          | 0/6 [00:00<?, ?it/s]"
      ]
     },
     "metadata": {},
     "output_type": "display_data"
    },
    {
     "name": "stdout",
     "output_type": "stream",
     "text": [
      "C:\\Users\\fhacesga\\Desktop\\FIRMsDigitizing\\processing\\2023-09-20_16-29-07\\Inputs\\48157CIND0.tif\n"
     ]
    },
    {
     "data": {
      "application/vnd.jupyter.widget-view+json": {
       "model_id": "dbcf0de9d57b4d5386d52f9b683ec81d",
       "version_major": 2,
       "version_minor": 0
      },
      "text/plain": [
       "  0%|          | 0/5 [00:00<?, ?it/s]"
      ]
     },
     "metadata": {},
     "output_type": "display_data"
    },
    {
     "name": "stdout",
     "output_type": "stream",
     "text": [
      "C:\\Users\\fhacesga\\Desktop\\FIRMsDigitizing\\processing\\2023-09-20_16-29-07\\Inputs\\48157CIND0A.tif\n"
     ]
    },
    {
     "data": {
      "application/vnd.jupyter.widget-view+json": {
       "model_id": "0e44774dcda64b25ae11b4f09f591ef2",
       "version_major": 2,
       "version_minor": 0
      },
      "text/plain": [
       "  0%|          | 0/6 [00:00<?, ?it/s]"
      ]
     },
     "metadata": {},
     "output_type": "display_data"
    },
    {
     "name": "stdout",
     "output_type": "stream",
     "text": [
      "C:\\Users\\fhacesga\\Desktop\\FIRMsDigitizing\\processing\\2023-09-20_16-29-07\\Inputs\\48157CIND0B.tif\n"
     ]
    },
    {
     "data": {
      "application/vnd.jupyter.widget-view+json": {
       "model_id": "d79053e73cd640fcae5de1baec04dd3d",
       "version_major": 2,
       "version_minor": 0
      },
      "text/plain": [
       "  0%|          | 0/6 [00:00<?, ?it/s]"
      ]
     },
     "metadata": {},
     "output_type": "display_data"
    },
    {
     "name": "stdout",
     "output_type": "stream",
     "text": [
      "C:\\Users\\fhacesga\\Desktop\\FIRMsDigitizing\\processing\\2023-09-20_16-29-07\\Inputs\\48201CIND0.tif\n"
     ]
    },
    {
     "data": {
      "application/vnd.jupyter.widget-view+json": {
       "model_id": "1c391d9caa2244808d8c0358e0ab7c41",
       "version_major": 2,
       "version_minor": 0
      },
      "text/plain": [
       "  0%|          | 0/6 [00:00<?, ?it/s]"
      ]
     },
     "metadata": {},
     "output_type": "display_data"
    },
    {
     "name": "stdout",
     "output_type": "stream",
     "text": [
      "C:\\Users\\fhacesga\\Desktop\\FIRMsDigitizing\\processing\\2023-09-20_16-29-07\\Inputs\\48201CIND0A.tif\n"
     ]
    },
    {
     "data": {
      "application/vnd.jupyter.widget-view+json": {
       "model_id": "6554a969a0c34e5a98db91588fc55a0d",
       "version_major": 2,
       "version_minor": 0
      },
      "text/plain": [
       "  0%|          | 0/5 [00:00<?, ?it/s]"
      ]
     },
     "metadata": {},
     "output_type": "display_data"
    },
    {
     "name": "stdout",
     "output_type": "stream",
     "text": [
      "C:\\Users\\fhacesga\\Desktop\\FIRMsDigitizing\\processing\\2023-09-20_16-29-07\\Inputs\\48201CIND0B.tif\n"
     ]
    },
    {
     "data": {
      "application/vnd.jupyter.widget-view+json": {
       "model_id": "df2985c83d69438ebb61ca7bb90ba8b5",
       "version_major": 2,
       "version_minor": 0
      },
      "text/plain": [
       "  0%|          | 0/6 [00:00<?, ?it/s]"
      ]
     },
     "metadata": {},
     "output_type": "display_data"
    },
    {
     "name": "stdout",
     "output_type": "stream",
     "text": [
      "C:\\Users\\fhacesga\\Desktop\\FIRMsDigitizing\\processing\\2023-09-20_16-29-07\\Inputs\\48201CIND0C.tif\n"
     ]
    },
    {
     "data": {
      "application/vnd.jupyter.widget-view+json": {
       "model_id": "f4df1a11a02f441d896bce48b268b757",
       "version_major": 2,
       "version_minor": 0
      },
      "text/plain": [
       "  0%|          | 0/6 [00:00<?, ?it/s]"
      ]
     },
     "metadata": {},
     "output_type": "display_data"
    },
    {
     "name": "stdout",
     "output_type": "stream",
     "text": [
      "C:\\Users\\fhacesga\\Desktop\\FIRMsDigitizing\\processing\\2023-09-20_16-29-07\\Inputs\\48201CIND0D.tif\n"
     ]
    },
    {
     "data": {
      "application/vnd.jupyter.widget-view+json": {
       "model_id": "9a9b1e0ead0548aea391b62b53037fe0",
       "version_major": 2,
       "version_minor": 0
      },
      "text/plain": [
       "  0%|          | 0/6 [00:00<?, ?it/s]"
      ]
     },
     "metadata": {},
     "output_type": "display_data"
    },
    {
     "name": "stdout",
     "output_type": "stream",
     "text": [
      "C:\\Users\\fhacesga\\Desktop\\FIRMsDigitizing\\processing\\2023-09-20_16-29-07\\Inputs\\48201CIND0E.tif\n"
     ]
    },
    {
     "data": {
      "application/vnd.jupyter.widget-view+json": {
       "model_id": "ef101e037f64431593cec62c522cd772",
       "version_major": 2,
       "version_minor": 0
      },
      "text/plain": [
       "  0%|          | 0/6 [00:00<?, ?it/s]"
      ]
     },
     "metadata": {},
     "output_type": "display_data"
    },
    {
     "name": "stdout",
     "output_type": "stream",
     "text": [
      "C:\\Users\\fhacesga\\Desktop\\FIRMsDigitizing\\processing\\2023-09-20_16-29-07\\Inputs\\48201CIND0F.tif\n"
     ]
    },
    {
     "data": {
      "application/vnd.jupyter.widget-view+json": {
       "model_id": "aa61acff9b6f4320b6fb7a28c6845c23",
       "version_major": 2,
       "version_minor": 0
      },
      "text/plain": [
       "  0%|          | 0/6 [00:00<?, ?it/s]"
      ]
     },
     "metadata": {},
     "output_type": "display_data"
    },
    {
     "name": "stdout",
     "output_type": "stream",
     "text": [
      "C:\\Users\\fhacesga\\Desktop\\FIRMsDigitizing\\processing\\2023-09-20_16-29-07\\Inputs\\48201CIND0_0990.jpg\n"
     ]
    },
    {
     "data": {
      "application/vnd.jupyter.widget-view+json": {
       "model_id": "d7e40323cbdb4e29827f3c44c2333adb",
       "version_major": 2,
       "version_minor": 0
      },
      "text/plain": [
       "  0%|          | 0/2 [00:00<?, ?it/s]"
      ]
     },
     "metadata": {},
     "output_type": "display_data"
    },
    {
     "name": "stdout",
     "output_type": "stream",
     "text": [
      "C:\\Users\\fhacesga\\Desktop\\FIRMsDigitizing\\processing\\2023-09-20_16-29-07\\Inputs\\48201CIND0_0992.tif\n"
     ]
    },
    {
     "data": {
      "application/vnd.jupyter.widget-view+json": {
       "model_id": "50227f85dc1c4af4a837a76f12cef7b8",
       "version_major": 2,
       "version_minor": 0
      },
      "text/plain": [
       "  0%|          | 0/5 [00:00<?, ?it/s]"
      ]
     },
     "metadata": {},
     "output_type": "display_data"
    },
    {
     "name": "stdout",
     "output_type": "stream",
     "text": [
      "C:\\Users\\fhacesga\\Desktop\\FIRMsDigitizing\\processing\\2023-09-20_16-29-07\\Inputs\\48201CIND0_1196.tif\n"
     ]
    },
    {
     "data": {
      "application/vnd.jupyter.widget-view+json": {
       "model_id": "a2cd66a7fc074962ba0f40b02965f429",
       "version_major": 2,
       "version_minor": 0
      },
      "text/plain": [
       "  0%|          | 0/5 [00:00<?, ?it/s]"
      ]
     },
     "metadata": {},
     "output_type": "display_data"
    },
    {
     "name": "stdout",
     "output_type": "stream",
     "text": [
      "C:\\Users\\fhacesga\\Desktop\\FIRMsDigitizing\\processing\\2023-09-20_16-29-07\\Inputs\\48339CIND0.tif\n"
     ]
    },
    {
     "data": {
      "application/vnd.jupyter.widget-view+json": {
       "model_id": "54c3260e1dab4f5ca8c1956928c399ec",
       "version_major": 2,
       "version_minor": 0
      },
      "text/plain": [
       "  0%|          | 0/5 [00:00<?, ?it/s]"
      ]
     },
     "metadata": {},
     "output_type": "display_data"
    },
    {
     "name": "stdout",
     "output_type": "stream",
     "text": [
      "C:\\Users\\fhacesga\\Desktop\\FIRMsDigitizing\\processing\\2023-09-20_16-29-07\\Inputs\\48473CIND0A.tif\n"
     ]
    },
    {
     "data": {
      "application/vnd.jupyter.widget-view+json": {
       "model_id": "b36b990acf9c41838c1d4b8b4bb88b43",
       "version_major": 2,
       "version_minor": 0
      },
      "text/plain": [
       "  0%|          | 0/6 [00:00<?, ?it/s]"
      ]
     },
     "metadata": {},
     "output_type": "display_data"
    },
    {
     "name": "stdout",
     "output_type": "stream",
     "text": [
      "C:\\Users\\fhacesga\\Desktop\\FIRMsDigitizing\\processing\\2023-09-20_16-29-07\\Inputs\\485456IND0_0279.jpg\n"
     ]
    },
    {
     "data": {
      "application/vnd.jupyter.widget-view+json": {
       "model_id": "73b5817ba8bc4e868e545aa293112b14",
       "version_major": 2,
       "version_minor": 0
      },
      "text/plain": [
       "  0%|          | 0/2 [00:00<?, ?it/s]"
      ]
     },
     "metadata": {},
     "output_type": "display_data"
    },
    {
     "name": "stdout",
     "output_type": "stream",
     "text": [
      "C:\\Users\\fhacesga\\Desktop\\FIRMsDigitizing\\processing\\2023-09-20_16-29-07\\Inputs\\485456IND0_0982.jpg\n"
     ]
    },
    {
     "data": {
      "application/vnd.jupyter.widget-view+json": {
       "model_id": "ab127f07edf7408681f76a073814883a",
       "version_major": 2,
       "version_minor": 0
      },
      "text/plain": [
       "  0%|          | 0/2 [00:00<?, ?it/s]"
      ]
     },
     "metadata": {},
     "output_type": "display_data"
    },
    {
     "name": "stdout",
     "output_type": "stream",
     "text": [
      "C:\\Users\\fhacesga\\Desktop\\FIRMsDigitizing\\processing\\2023-09-20_16-29-07\\Inputs\\485456IND0_1185.jpg\n"
     ]
    },
    {
     "data": {
      "application/vnd.jupyter.widget-view+json": {
       "model_id": "4c0bb790d34645c5bd100b8ee29046f9",
       "version_major": 2,
       "version_minor": 0
      },
      "text/plain": [
       "  0%|          | 0/2 [00:00<?, ?it/s]"
      ]
     },
     "metadata": {},
     "output_type": "display_data"
    },
    {
     "name": "stdout",
     "output_type": "stream",
     "text": [
      "C:\\Users\\fhacesga\\Desktop\\FIRMsDigitizing\\processing\\2023-09-20_16-29-07\\Inputs\\485468IND0_0483.jpg\n"
     ]
    },
    {
     "data": {
      "application/vnd.jupyter.widget-view+json": {
       "model_id": "c075cbfb179140708142e4093cf7c0a4",
       "version_major": 2,
       "version_minor": 0
      },
      "text/plain": [
       "  0%|          | 0/2 [00:00<?, ?it/s]"
      ]
     },
     "metadata": {},
     "output_type": "display_data"
    },
    {
     "name": "stdout",
     "output_type": "stream",
     "text": [
      "C:\\Users\\fhacesga\\Desktop\\FIRMsDigitizing\\processing\\2023-09-20_16-29-07\\Inputs\\485487IND0_1185.jpg\n"
     ]
    },
    {
     "data": {
      "application/vnd.jupyter.widget-view+json": {
       "model_id": "2b579af9cb404f4f9e776bacb791b978",
       "version_major": 2,
       "version_minor": 0
      },
      "text/plain": [
       "  0%|          | 0/2 [00:00<?, ?it/s]"
      ]
     },
     "metadata": {},
     "output_type": "display_data"
    },
    {
     "name": "stdout",
     "output_type": "stream",
     "text": [
      "C:\\Users\\fhacesga\\Desktop\\FIRMsDigitizing\\processing\\2023-09-20_16-29-07\\Inputs\\485488IND0.tif\n"
     ]
    },
    {
     "data": {
      "application/vnd.jupyter.widget-view+json": {
       "model_id": "6865941fea464e05b9448e4031f309b2",
       "version_major": 2,
       "version_minor": 0
      },
      "text/plain": [
       "  0%|          | 0/5 [00:00<?, ?it/s]"
      ]
     },
     "metadata": {},
     "output_type": "display_data"
    },
    {
     "name": "stdout",
     "output_type": "stream",
     "text": [
      "C:\\Users\\fhacesga\\Desktop\\FIRMsDigitizing\\processing\\2023-09-20_16-29-07\\Inputs\\485488IND0_0583.jpg\n"
     ]
    },
    {
     "data": {
      "application/vnd.jupyter.widget-view+json": {
       "model_id": "ab13396e5c764f2abbed0652f746600c",
       "version_major": 2,
       "version_minor": 0
      },
      "text/plain": [
       "  0%|          | 0/2 [00:00<?, ?it/s]"
      ]
     },
     "metadata": {},
     "output_type": "display_data"
    },
    {
     "name": "stdout",
     "output_type": "stream",
     "text": [
      "C:\\Users\\fhacesga\\Desktop\\FIRMsDigitizing\\processing\\2023-09-20_16-29-07\\Inputs\\485488IND0_0990.tif\n"
     ]
    },
    {
     "data": {
      "application/vnd.jupyter.widget-view+json": {
       "model_id": "f7b27e439cdc4fe9a313cc2d9fc923f3",
       "version_major": 2,
       "version_minor": 0
      },
      "text/plain": [
       "  0%|          | 0/6 [00:00<?, ?it/s]"
      ]
     },
     "metadata": {},
     "output_type": "display_data"
    },
    {
     "name": "stdout",
     "output_type": "stream",
     "text": [
      "C:\\Users\\fhacesga\\Desktop\\FIRMsDigitizing\\processing\\2023-09-20_16-29-07\\Inputs\\485516IND0_0281.jpg\n"
     ]
    },
    {
     "data": {
      "application/vnd.jupyter.widget-view+json": {
       "model_id": "cf0b993eb7bd49cb87289152110f08ae",
       "version_major": 2,
       "version_minor": 0
      },
      "text/plain": [
       "  0%|          | 0/2 [00:00<?, ?it/s]"
      ]
     },
     "metadata": {},
     "output_type": "display_data"
    },
    {
     "name": "stdout",
     "output_type": "stream",
     "text": [
      "C:\\Users\\fhacesga\\Desktop\\FIRMsDigitizing\\processing\\2023-09-20_16-29-07\\Inputs\\480077.tif\n"
     ]
    },
    {
     "data": {
      "application/vnd.jupyter.widget-view+json": {
       "model_id": "c9ab29d363f64b439615d35065bd1961",
       "version_major": 2,
       "version_minor": 0
      },
      "text/plain": [
       "  0%|          | 0/2 [00:00<?, ?it/s]"
      ]
     },
     "metadata": {},
     "output_type": "display_data"
    },
    {
     "name": "stdout",
     "output_type": "stream",
     "text": [
      "C:\\Users\\fhacesga\\Desktop\\FIRMsDigitizing\\processing\\2023-09-20_16-29-07\\Inputs\\480077A.tif\n"
     ]
    },
    {
     "data": {
      "application/vnd.jupyter.widget-view+json": {
       "model_id": "54438b3265944a6a8dda08d29a4fae65",
       "version_major": 2,
       "version_minor": 0
      },
      "text/plain": [
       "  0%|          | 0/2 [00:00<?, ?it/s]"
      ]
     },
     "metadata": {},
     "output_type": "display_data"
    },
    {
     "name": "stdout",
     "output_type": "stream",
     "text": [
      "C:\\Users\\fhacesga\\Desktop\\FIRMsDigitizing\\processing\\2023-09-20_16-29-07\\Inputs\\480287B.tif\n"
     ]
    },
    {
     "data": {
      "application/vnd.jupyter.widget-view+json": {
       "model_id": "787f3e3c8a8146b1a50fd9caed0e113b",
       "version_major": 2,
       "version_minor": 0
      },
      "text/plain": [
       "  0%|          | 0/2 [00:00<?, ?it/s]"
      ]
     },
     "metadata": {},
     "output_type": "display_data"
    },
    {
     "name": "stdout",
     "output_type": "stream",
     "text": [
      "C:\\Users\\fhacesga\\Desktop\\FIRMsDigitizing\\processing\\2023-09-20_16-29-07\\Inputs\\480289.tif\n"
     ]
    },
    {
     "data": {
      "application/vnd.jupyter.widget-view+json": {
       "model_id": "ab58d3e7e37043ba95955f36edf8eb2b",
       "version_major": 2,
       "version_minor": 0
      },
      "text/plain": [
       "  0%|          | 0/2 [00:00<?, ?it/s]"
      ]
     },
     "metadata": {},
     "output_type": "display_data"
    },
    {
     "name": "stdout",
     "output_type": "stream",
     "text": [
      "C:\\Users\\fhacesga\\Desktop\\FIRMsDigitizing\\processing\\2023-09-20_16-29-07\\Inputs\\480289A.tif\n"
     ]
    },
    {
     "data": {
      "application/vnd.jupyter.widget-view+json": {
       "model_id": "f874ea3796234793ac0820e728c532c9",
       "version_major": 2,
       "version_minor": 0
      },
      "text/plain": [
       "  0%|          | 0/2 [00:00<?, ?it/s]"
      ]
     },
     "metadata": {},
     "output_type": "display_data"
    },
    {
     "name": "stdout",
     "output_type": "stream",
     "text": [
      "C:\\Users\\fhacesga\\Desktop\\FIRMsDigitizing\\processing\\2023-09-20_16-29-07\\Inputs\\480290A.tif\n"
     ]
    },
    {
     "data": {
      "application/vnd.jupyter.widget-view+json": {
       "model_id": "91105641ca5d452e927b12e0c4cb5728",
       "version_major": 2,
       "version_minor": 0
      },
      "text/plain": [
       "  0%|          | 0/2 [00:00<?, ?it/s]"
      ]
     },
     "metadata": {},
     "output_type": "display_data"
    },
    {
     "name": "stdout",
     "output_type": "stream",
     "text": [
      "C:\\Users\\fhacesga\\Desktop\\FIRMsDigitizing\\processing\\2023-09-20_16-29-07\\Inputs\\480291.tif\n"
     ]
    },
    {
     "data": {
      "application/vnd.jupyter.widget-view+json": {
       "model_id": "8e115f6c0c9c43cab724ff5150dc14ba",
       "version_major": 2,
       "version_minor": 0
      },
      "text/plain": [
       "  0%|          | 0/2 [00:00<?, ?it/s]"
      ]
     },
     "metadata": {},
     "output_type": "display_data"
    },
    {
     "name": "stdout",
     "output_type": "stream",
     "text": [
      "C:\\Users\\fhacesga\\Desktop\\FIRMsDigitizing\\processing\\2023-09-20_16-29-07\\Inputs\\480293.tif\n"
     ]
    },
    {
     "data": {
      "application/vnd.jupyter.widget-view+json": {
       "model_id": "69840fd3ed3b46ceb79b53c80b7e3ace",
       "version_major": 2,
       "version_minor": 0
      },
      "text/plain": [
       "  0%|          | 0/2 [00:00<?, ?it/s]"
      ]
     },
     "metadata": {},
     "output_type": "display_data"
    },
    {
     "name": "stdout",
     "output_type": "stream",
     "text": [
      "C:\\Users\\fhacesga\\Desktop\\FIRMsDigitizing\\processing\\2023-09-20_16-29-07\\Inputs\\480293A.tif\n"
     ]
    },
    {
     "data": {
      "application/vnd.jupyter.widget-view+json": {
       "model_id": "46c05bc282cb42199321f1b7e5e21499",
       "version_major": 2,
       "version_minor": 0
      },
      "text/plain": [
       "  0%|          | 0/2 [00:00<?, ?it/s]"
      ]
     },
     "metadata": {},
     "output_type": "display_data"
    },
    {
     "name": "stdout",
     "output_type": "stream",
     "text": [
      "C:\\Users\\fhacesga\\Desktop\\FIRMsDigitizing\\processing\\2023-09-20_16-29-07\\Inputs\\480295A.tif\n"
     ]
    },
    {
     "data": {
      "application/vnd.jupyter.widget-view+json": {
       "model_id": "4deb40253a4e4fbcbd780b892bd3cd85",
       "version_major": 2,
       "version_minor": 0
      },
      "text/plain": [
       "  0%|          | 0/2 [00:00<?, ?it/s]"
      ]
     },
     "metadata": {},
     "output_type": "display_data"
    },
    {
     "name": "stdout",
     "output_type": "stream",
     "text": [
      "C:\\Users\\fhacesga\\Desktop\\FIRMsDigitizing\\processing\\2023-09-20_16-29-07\\Inputs\\480296A.tif\n"
     ]
    },
    {
     "data": {
      "application/vnd.jupyter.widget-view+json": {
       "model_id": "812fb62cb6d84e728e760edd5111f0c8",
       "version_major": 2,
       "version_minor": 0
      },
      "text/plain": [
       "  0%|          | 0/2 [00:00<?, ?it/s]"
      ]
     },
     "metadata": {},
     "output_type": "display_data"
    },
    {
     "name": "stdout",
     "output_type": "stream",
     "text": [
      "C:\\Users\\fhacesga\\Desktop\\FIRMsDigitizing\\processing\\2023-09-20_16-29-07\\Inputs\\480297A.tif\n"
     ]
    },
    {
     "data": {
      "application/vnd.jupyter.widget-view+json": {
       "model_id": "9b4bc7f8fe0640869c2bbda764e8977a",
       "version_major": 2,
       "version_minor": 0
      },
      "text/plain": [
       "  0%|          | 0/2 [00:00<?, ?it/s]"
      ]
     },
     "metadata": {},
     "output_type": "display_data"
    },
    {
     "name": "stdout",
     "output_type": "stream",
     "text": [
      "C:\\Users\\fhacesga\\Desktop\\FIRMsDigitizing\\processing\\2023-09-20_16-29-07\\Inputs\\480298A.tif\n"
     ]
    },
    {
     "data": {
      "application/vnd.jupyter.widget-view+json": {
       "model_id": "bb5fe8560a764cc0abdd104058a14792",
       "version_major": 2,
       "version_minor": 0
      },
      "text/plain": [
       "  0%|          | 0/2 [00:00<?, ?it/s]"
      ]
     },
     "metadata": {},
     "output_type": "display_data"
    },
    {
     "name": "stdout",
     "output_type": "stream",
     "text": [
      "C:\\Users\\fhacesga\\Desktop\\FIRMsDigitizing\\processing\\2023-09-20_16-29-07\\Inputs\\480299.tif\n"
     ]
    },
    {
     "data": {
      "application/vnd.jupyter.widget-view+json": {
       "model_id": "40c5100205cf409fb12c5057e1593a09",
       "version_major": 2,
       "version_minor": 0
      },
      "text/plain": [
       "  0%|          | 0/2 [00:00<?, ?it/s]"
      ]
     },
     "metadata": {},
     "output_type": "display_data"
    },
    {
     "name": "stdout",
     "output_type": "stream",
     "text": [
      "C:\\Users\\fhacesga\\Desktop\\FIRMsDigitizing\\processing\\2023-09-20_16-29-07\\Inputs\\480300A.tif\n"
     ]
    },
    {
     "data": {
      "application/vnd.jupyter.widget-view+json": {
       "model_id": "94009040f93b49a8a4fe1e0a5b000a4e",
       "version_major": 2,
       "version_minor": 0
      },
      "text/plain": [
       "  0%|          | 0/2 [00:00<?, ?it/s]"
      ]
     },
     "metadata": {},
     "output_type": "display_data"
    },
    {
     "name": "stdout",
     "output_type": "stream",
     "text": [
      "C:\\Users\\fhacesga\\Desktop\\FIRMsDigitizing\\processing\\2023-09-20_16-29-07\\Inputs\\480301A.tif\n"
     ]
    },
    {
     "data": {
      "application/vnd.jupyter.widget-view+json": {
       "model_id": "48f5bef362ca4e2e89434cf3cfcbb8ae",
       "version_major": 2,
       "version_minor": 0
      },
      "text/plain": [
       "  0%|          | 0/2 [00:00<?, ?it/s]"
      ]
     },
     "metadata": {},
     "output_type": "display_data"
    },
    {
     "name": "stdout",
     "output_type": "stream",
     "text": [
      "C:\\Users\\fhacesga\\Desktop\\FIRMsDigitizing\\processing\\2023-09-20_16-29-07\\Inputs\\480303.tif\n",
      "C:\\Users\\fhacesga\\Desktop\\FIRMsDigitizing\\processing\\2023-09-20_16-29-07\\Inputs\\480303A.tif\n",
      "C:\\Users\\fhacesga\\Desktop\\FIRMsDigitizing\\processing\\2023-09-20_16-29-07\\Inputs\\480304.tif\n"
     ]
    },
    {
     "data": {
      "application/vnd.jupyter.widget-view+json": {
       "model_id": "fafb3813d6e44375b38e76300e7d4e77",
       "version_major": 2,
       "version_minor": 0
      },
      "text/plain": [
       "  0%|          | 0/2 [00:00<?, ?it/s]"
      ]
     },
     "metadata": {},
     "output_type": "display_data"
    },
    {
     "name": "stdout",
     "output_type": "stream",
     "text": [
      "C:\\Users\\fhacesga\\Desktop\\FIRMsDigitizing\\processing\\2023-09-20_16-29-07\\Inputs\\480305A.tif\n"
     ]
    },
    {
     "data": {
      "application/vnd.jupyter.widget-view+json": {
       "model_id": "616c660935e64f909235337fbabeaca8",
       "version_major": 2,
       "version_minor": 0
      },
      "text/plain": [
       "  0%|          | 0/2 [00:00<?, ?it/s]"
      ]
     },
     "metadata": {},
     "output_type": "display_data"
    },
    {
     "name": "stdout",
     "output_type": "stream",
     "text": [
      "C:\\Users\\fhacesga\\Desktop\\FIRMsDigitizing\\processing\\2023-09-20_16-29-07\\Inputs\\480307A.tif\n"
     ]
    },
    {
     "data": {
      "application/vnd.jupyter.widget-view+json": {
       "model_id": "a09ad76d15c9409b973502b7c6971989",
       "version_major": 2,
       "version_minor": 0
      },
      "text/plain": [
       "  0%|          | 0/2 [00:00<?, ?it/s]"
      ]
     },
     "metadata": {},
     "output_type": "display_data"
    },
    {
     "name": "stdout",
     "output_type": "stream",
     "text": [
      "C:\\Users\\fhacesga\\Desktop\\FIRMsDigitizing\\processing\\2023-09-20_16-29-07\\Inputs\\480307C.tif\n"
     ]
    },
    {
     "data": {
      "application/vnd.jupyter.widget-view+json": {
       "model_id": "864f0e2388c6481497036ddcc25fea2c",
       "version_major": 2,
       "version_minor": 0
      },
      "text/plain": [
       "  0%|          | 0/2 [00:00<?, ?it/s]"
      ]
     },
     "metadata": {},
     "output_type": "display_data"
    },
    {
     "name": "stdout",
     "output_type": "stream",
     "text": [
      "C:\\Users\\fhacesga\\Desktop\\FIRMsDigitizing\\processing\\2023-09-20_16-29-07\\Inputs\\480308.tif\n"
     ]
    },
    {
     "data": {
      "application/vnd.jupyter.widget-view+json": {
       "model_id": "078cea46598e48a7b5daf474dad711ec",
       "version_major": 2,
       "version_minor": 0
      },
      "text/plain": [
       "  0%|          | 0/2 [00:00<?, ?it/s]"
      ]
     },
     "metadata": {},
     "output_type": "display_data"
    },
    {
     "name": "stdout",
     "output_type": "stream",
     "text": [
      "C:\\Users\\fhacesga\\Desktop\\FIRMsDigitizing\\processing\\2023-09-20_16-29-07\\Inputs\\480311A.tif\n"
     ]
    },
    {
     "data": {
      "application/vnd.jupyter.widget-view+json": {
       "model_id": "9a6166442a9740a2adf776ef0bcb10e1",
       "version_major": 2,
       "version_minor": 0
      },
      "text/plain": [
       "  0%|          | 0/2 [00:00<?, ?it/s]"
      ]
     },
     "metadata": {},
     "output_type": "display_data"
    },
    {
     "name": "stdout",
     "output_type": "stream",
     "text": [
      "C:\\Users\\fhacesga\\Desktop\\FIRMsDigitizing\\processing\\2023-09-20_16-29-07\\Inputs\\480313A.tif\n"
     ]
    },
    {
     "data": {
      "application/vnd.jupyter.widget-view+json": {
       "model_id": "d771b100f9194ffe823fc093466bb2e4",
       "version_major": 2,
       "version_minor": 0
      },
      "text/plain": [
       "  0%|          | 0/2 [00:00<?, ?it/s]"
      ]
     },
     "metadata": {},
     "output_type": "display_data"
    },
    {
     "name": "stdout",
     "output_type": "stream",
     "text": [
      "C:\\Users\\fhacesga\\Desktop\\FIRMsDigitizing\\processing\\2023-09-20_16-29-07\\Inputs\\480315.tif\n"
     ]
    },
    {
     "data": {
      "application/vnd.jupyter.widget-view+json": {
       "model_id": "f43282d0c3dd4e26adacfe7fd2462d2a",
       "version_major": 2,
       "version_minor": 0
      },
      "text/plain": [
       "  0%|          | 0/2 [00:00<?, ?it/s]"
      ]
     },
     "metadata": {},
     "output_type": "display_data"
    },
    {
     "name": "stdout",
     "output_type": "stream",
     "text": [
      "C:\\Users\\fhacesga\\Desktop\\FIRMsDigitizing\\processing\\2023-09-20_16-29-07\\Inputs\\480641A.tif\n"
     ]
    },
    {
     "data": {
      "application/vnd.jupyter.widget-view+json": {
       "model_id": "1091b267b4aa48f5b9464404bf39db77",
       "version_major": 2,
       "version_minor": 0
      },
      "text/plain": [
       "  0%|          | 0/2 [00:00<?, ?it/s]"
      ]
     },
     "metadata": {},
     "output_type": "display_data"
    },
    {
     "name": "stdout",
     "output_type": "stream",
     "text": [
      "C:\\Users\\fhacesga\\Desktop\\FIRMsDigitizing\\processing\\2023-09-20_16-29-07\\Inputs\\485456A.tif\n"
     ]
    },
    {
     "data": {
      "application/vnd.jupyter.widget-view+json": {
       "model_id": "273c67c8630a4b5faf1c960202d9ccfe",
       "version_major": 2,
       "version_minor": 0
      },
      "text/plain": [
       "  0%|          | 0/2 [00:00<?, ?it/s]"
      ]
     },
     "metadata": {},
     "output_type": "display_data"
    },
    {
     "name": "stdout",
     "output_type": "stream",
     "text": [
      "C:\\Users\\fhacesga\\Desktop\\FIRMsDigitizing\\processing\\2023-09-20_16-29-07\\Inputs\\485466.tif\n"
     ]
    },
    {
     "data": {
      "application/vnd.jupyter.widget-view+json": {
       "model_id": "4b51ccd8950c42d3bba82e9bd613655c",
       "version_major": 2,
       "version_minor": 0
      },
      "text/plain": [
       "  0%|          | 0/2 [00:00<?, ?it/s]"
      ]
     },
     "metadata": {},
     "output_type": "display_data"
    },
    {
     "name": "stdout",
     "output_type": "stream",
     "text": [
      "C:\\Users\\fhacesga\\Desktop\\FIRMsDigitizing\\processing\\2023-09-20_16-29-07\\Inputs\\485466B.tif\n"
     ]
    },
    {
     "data": {
      "application/vnd.jupyter.widget-view+json": {
       "model_id": "bf07f111fb1d40f3af3fa9cfdbce2e82",
       "version_major": 2,
       "version_minor": 0
      },
      "text/plain": [
       "  0%|          | 0/2 [00:00<?, ?it/s]"
      ]
     },
     "metadata": {},
     "output_type": "display_data"
    },
    {
     "name": "stdout",
     "output_type": "stream",
     "text": [
      "C:\\Users\\fhacesga\\Desktop\\FIRMsDigitizing\\processing\\2023-09-20_16-29-07\\Inputs\\485468A.tif\n"
     ]
    },
    {
     "data": {
      "application/vnd.jupyter.widget-view+json": {
       "model_id": "5f35509b821f46bfa6e0ae363926d5ff",
       "version_major": 2,
       "version_minor": 0
      },
      "text/plain": [
       "  0%|          | 0/2 [00:00<?, ?it/s]"
      ]
     },
     "metadata": {},
     "output_type": "display_data"
    },
    {
     "name": "stdout",
     "output_type": "stream",
     "text": [
      "C:\\Users\\fhacesga\\Desktop\\FIRMsDigitizing\\processing\\2023-09-20_16-29-07\\Inputs\\485468B.tif\n"
     ]
    },
    {
     "data": {
      "application/vnd.jupyter.widget-view+json": {
       "model_id": "3fde11be92154fbe9309a8d53c402c7f",
       "version_major": 2,
       "version_minor": 0
      },
      "text/plain": [
       "  0%|          | 0/2 [00:00<?, ?it/s]"
      ]
     },
     "metadata": {},
     "output_type": "display_data"
    },
    {
     "name": "stdout",
     "output_type": "stream",
     "text": [
      "C:\\Users\\fhacesga\\Desktop\\FIRMsDigitizing\\processing\\2023-09-20_16-29-07\\Inputs\\485487.tif\n"
     ]
    },
    {
     "data": {
      "application/vnd.jupyter.widget-view+json": {
       "model_id": "2353fefb3e644fe9adcf844a9029c015",
       "version_major": 2,
       "version_minor": 0
      },
      "text/plain": [
       "  0%|          | 0/2 [00:00<?, ?it/s]"
      ]
     },
     "metadata": {},
     "output_type": "display_data"
    },
    {
     "name": "stdout",
     "output_type": "stream",
     "text": [
      "C:\\Users\\fhacesga\\Desktop\\FIRMsDigitizing\\processing\\2023-09-20_16-29-07\\Inputs\\485487B.tif\n"
     ]
    },
    {
     "data": {
      "application/vnd.jupyter.widget-view+json": {
       "model_id": "9c62ec367dfd4d5e8ba3c99a72918934",
       "version_major": 2,
       "version_minor": 0
      },
      "text/plain": [
       "  0%|          | 0/2 [00:00<?, ?it/s]"
      ]
     },
     "metadata": {},
     "output_type": "display_data"
    },
    {
     "name": "stdout",
     "output_type": "stream",
     "text": [
      "C:\\Users\\fhacesga\\Desktop\\FIRMsDigitizing\\processing\\2023-09-20_16-29-07\\Inputs\\485487C.tif\n"
     ]
    },
    {
     "data": {
      "application/vnd.jupyter.widget-view+json": {
       "model_id": "d875a6d09b9a46b7a76352d9f314d517",
       "version_major": 2,
       "version_minor": 0
      },
      "text/plain": [
       "  0%|          | 0/2 [00:00<?, ?it/s]"
      ]
     },
     "metadata": {},
     "output_type": "display_data"
    },
    {
     "name": "stdout",
     "output_type": "stream",
     "text": [
      "C:\\Users\\fhacesga\\Desktop\\FIRMsDigitizing\\processing\\2023-09-20_16-29-07\\Inputs\\485488A.tif\n"
     ]
    },
    {
     "data": {
      "application/vnd.jupyter.widget-view+json": {
       "model_id": "3bf60f361ab14acc9317ce6f40ca5257",
       "version_major": 2,
       "version_minor": 0
      },
      "text/plain": [
       "  0%|          | 0/2 [00:00<?, ?it/s]"
      ]
     },
     "metadata": {},
     "output_type": "display_data"
    },
    {
     "name": "stdout",
     "output_type": "stream",
     "text": [
      "C:\\Users\\fhacesga\\Desktop\\FIRMsDigitizing\\processing\\2023-09-20_16-29-07\\Inputs\\485491.tif\n"
     ]
    },
    {
     "data": {
      "application/vnd.jupyter.widget-view+json": {
       "model_id": "854ee2aceca948a6b33f6a2d7e79223a",
       "version_major": 2,
       "version_minor": 0
      },
      "text/plain": [
       "  0%|          | 0/3 [00:00<?, ?it/s]"
      ]
     },
     "metadata": {},
     "output_type": "display_data"
    },
    {
     "name": "stdout",
     "output_type": "stream",
     "text": [
      "C:\\Users\\fhacesga\\Desktop\\FIRMsDigitizing\\processing\\2023-09-20_16-29-07\\Inputs\\485491B.tif\n"
     ]
    },
    {
     "data": {
      "application/vnd.jupyter.widget-view+json": {
       "model_id": "06c0aef3ed264fe0ac6a066cb1e76523",
       "version_major": 2,
       "version_minor": 0
      },
      "text/plain": [
       "  0%|          | 0/3 [00:00<?, ?it/s]"
      ]
     },
     "metadata": {},
     "output_type": "display_data"
    },
    {
     "name": "stdout",
     "output_type": "stream",
     "text": [
      "C:\\Users\\fhacesga\\Desktop\\FIRMsDigitizing\\processing\\2023-09-20_16-29-07\\Inputs\\485491C.tif\n"
     ]
    },
    {
     "data": {
      "application/vnd.jupyter.widget-view+json": {
       "model_id": "8555881e0ad64d24862f01a51c73f7e4",
       "version_major": 2,
       "version_minor": 0
      },
      "text/plain": [
       "  0%|          | 0/2 [00:00<?, ?it/s]"
      ]
     },
     "metadata": {},
     "output_type": "display_data"
    },
    {
     "name": "stdout",
     "output_type": "stream",
     "text": [
      "C:\\Users\\fhacesga\\Desktop\\FIRMsDigitizing\\processing\\2023-09-20_16-29-07\\Inputs\\485491D.tif\n"
     ]
    },
    {
     "data": {
      "application/vnd.jupyter.widget-view+json": {
       "model_id": "d4fac355009244f289151f46f6f91ce0",
       "version_major": 2,
       "version_minor": 0
      },
      "text/plain": [
       "  0%|          | 0/2 [00:00<?, ?it/s]"
      ]
     },
     "metadata": {},
     "output_type": "display_data"
    },
    {
     "name": "stdout",
     "output_type": "stream",
     "text": [
      "C:\\Users\\fhacesga\\Desktop\\FIRMsDigitizing\\processing\\2023-09-20_16-29-07\\Inputs\\485510.tif\n"
     ]
    },
    {
     "ename": "error",
     "evalue": "OpenCV(4.8.0) D:\\a\\opencv-python\\opencv-python\\opencv\\modules\\imgproc\\src\\color.cpp:182: error: (-215:Assertion failed) !_src.empty() in function 'cv::cvtColor'\n",
     "output_type": "error",
     "traceback": [
      "\u001b[1;31m---------------------------------------------------------------------------\u001b[0m",
      "\u001b[1;31merror\u001b[0m                                     Traceback (most recent call last)",
      "\u001b[1;32m~\\AppData\\Local\\Temp\\ipykernel_28332\\293868302.py\u001b[0m in \u001b[0;36m<module>\u001b[1;34m\u001b[0m\n\u001b[0;32m      8\u001b[0m     \u001b[1;31m# READ FILES AND RUN CLASSIFICATIONS\u001b[0m\u001b[1;33m\u001b[0m\u001b[1;33m\u001b[0m\u001b[1;33m\u001b[0m\u001b[0m\n\u001b[0;32m      9\u001b[0m     \u001b[0mimage\u001b[0m \u001b[1;33m=\u001b[0m \u001b[0mcv2\u001b[0m\u001b[1;33m.\u001b[0m\u001b[0mimread\u001b[0m\u001b[1;33m(\u001b[0m\u001b[0mrow\u001b[0m\u001b[1;33m[\u001b[0m\u001b[1;34m\"FilePath\"\u001b[0m\u001b[1;33m]\u001b[0m\u001b[1;33m)\u001b[0m\u001b[1;33m\u001b[0m\u001b[1;33m\u001b[0m\u001b[0m\n\u001b[1;32m---> 10\u001b[1;33m     \u001b[0mimage\u001b[0m \u001b[1;33m=\u001b[0m \u001b[0mcv2\u001b[0m\u001b[1;33m.\u001b[0m\u001b[0mcvtColor\u001b[0m\u001b[1;33m(\u001b[0m\u001b[0mimage\u001b[0m\u001b[1;33m,\u001b[0m \u001b[0mcv2\u001b[0m\u001b[1;33m.\u001b[0m\u001b[0mCOLOR_BGR2GRAY\u001b[0m\u001b[1;33m)\u001b[0m\u001b[1;33m\u001b[0m\u001b[1;33m\u001b[0m\u001b[0m\n\u001b[0m\u001b[0;32m     11\u001b[0m \u001b[1;33m\u001b[0m\u001b[0m\n\u001b[0;32m     12\u001b[0m     \u001b[1;31m# SAVE IMAGE TO OUTPUT DIRECTORY\u001b[0m\u001b[1;33m\u001b[0m\u001b[1;33m\u001b[0m\u001b[1;33m\u001b[0m\u001b[0m\n",
      "\u001b[1;31merror\u001b[0m: OpenCV(4.8.0) D:\\a\\opencv-python\\opencv-python\\opencv\\modules\\imgproc\\src\\color.cpp:182: error: (-215:Assertion failed) !_src.empty() in function 'cv::cvtColor'\n"
     ]
    }
   ],
   "source": [
    "verbose = True\n",
    "\n",
    "for i, row in index_files.iterrows():\n",
    "    print(row[\"FilePath\"])\n",
    "    \n",
    "    filename = os.path.basename(row[\"FilePath\"])\n",
    "    \n",
    "    # READ FILES AND RUN CLASSIFICATIONS\n",
    "    image = cv2.imread(row[\"FilePath\"])\n",
    "    image = cv2.cvtColor(image, cv2.COLOR_BGR2GRAY)\n",
    "    \n",
    "    # SAVE IMAGE TO OUTPUT DIRECTORY\n",
    "    output_image = os.path.join(outputs_dir, filename)\n",
    "    copyfile(row[\"FilePath\"], output_image)\n",
    "    \n",
    "    # GET WHICHEVER POLYGON IS THE LARGEST IN THE ROW'S GEOMETRY AND SIMPLIFY\n",
    "    if row[\"geometry\"] is None:\n",
    "        continue\n",
    "    elif isinstance(row[\"geometry\"], MultiPolygon):\n",
    "        largest_polygon_area = np.argmax([a.area for a in row[\"geometry\"]])\n",
    "        largest_polygon = row[\"geometry\"][largest_polygon_area].simplify(tolerance=20)\n",
    "        largest_polygon = largest_polygon.boundary\n",
    "    else:\n",
    "        largest_polygon = row[\"geometry\"].boundary\n",
    "    \n",
    "    # CONVERT POLYGON TO POINTS\n",
    "    length = largest_polygon.length # POLYGON LENGTH\n",
    "    point_boundary_list = list()    # OUTPUT POINT LIST\n",
    "    \n",
    "    # INTERPOLATE THROUGH ALL OF LENGTH\n",
    "    for distance in tqdm(range(0,int(length),20), disable=True):         \n",
    "        point = largest_polygon.interpolate(distance)   \n",
    "        point_boundary_list.append(point)\n",
    "    point_boundary_gdf = gpd.GeoDataFrame(geometry=point_boundary_list)\n",
    "    \n",
    "    key = findKey(row[\"Basename\"])    \n",
    "    if key is None:\n",
    "        print(f\"Could not find key in {filename}\")\n",
    "        \n",
    "    # RUN IMAGES THROUGH CNNs\n",
    "    classifications, classModel       = findKeypoints(image)\n",
    "    effectiveArea, effectiveAreaModel = findSquares(image)\n",
    "    cv2.imwrite(f\"tempfiles/{filename}_00_classification.png\", np.asarray(probability_to_rgb(classifications)))\n",
    "    cv2.imwrite(f\"tempfiles/{filename}_00_effectiveArea.png\", np.asarray(probability_to_rgb(effectiveArea)))\n",
    "    # writeImage(f\"tempfiles/{filename}_00_classification.png\", probability_to_rgb(classifications), verbose)\n",
    "    # writeImage(f\"tempfiles/{filename}_00_effectiveArea.png\", probability_to_rgb(effectiveArea), verbose)"
   ]
  },
  {
   "cell_type": "code",
   "execution_count": 23,
   "id": "01ee64fd",
   "metadata": {},
   "outputs": [
    {
     "data": {
      "text/plain": [
       "True"
      ]
     },
     "execution_count": 23,
     "metadata": {},
     "output_type": "execute_result"
    }
   ],
   "source": []
  },
  {
   "cell_type": "code",
   "execution_count": 16,
   "id": "95f39579",
   "metadata": {},
   "outputs": [
    {
     "data": {
      "text/plain": [
       "array([3778, 3780,    3])"
      ]
     },
     "execution_count": 16,
     "metadata": {},
     "output_type": "execute_result"
    }
   ],
   "source": [
    "np.hstack((classifications.shape[:-1], 3))"
   ]
  },
  {
   "cell_type": "code",
   "execution_count": 14,
   "id": "c9cfcb06",
   "metadata": {},
   "outputs": [
    {
     "data": {
      "text/plain": [
       "(3778, 3780, 5)"
      ]
     },
     "execution_count": 14,
     "metadata": {},
     "output_type": "execute_result"
    }
   ],
   "source": [
    "classifications.shape"
   ]
  },
  {
   "cell_type": "code",
   "execution_count": 13,
   "id": "e6b30fc6",
   "metadata": {},
   "outputs": [],
   "source": [
    "plt.imsave(f\"tempfiles/{filename}_00_classification.png\", probability_to_rgb(classifications))\n",
    "plt.imsave(f\"tempfiles/{filename}_00_effectiveArea.png\", probability_to_rgb(effectiveArea))"
   ]
  },
  {
   "cell_type": "code",
   "execution_count": null,
   "id": "01a8d752",
   "metadata": {
    "scrolled": false
   },
   "outputs": [],
   "source": [
    "    \n",
    "    # FIND THE GRID INSIDE THE IMAGE\n",
    "    out = FindGrid(row[\"FilePath\"], verbose=False)\n",
    "\n",
    "    # PLOT IMAGE\n",
    "    plot_image = np.dstack([image, image, image])\n",
    "    contours = []\n",
    "    \n",
    "    \n",
    "    # LOOP THROUGH CONTOURS AND ADD THEM TO IMAGE\n",
    "    for k, v in out.items():\n",
    "        cv2.drawContours(plot_image, v, -1, (0, 255, 0), 3)\n",
    "        contours.append(contours_to_shapely_polygons(v))\n",
    "        \n",
    "    # CALCULATE BOUNDS OF CONTOURS ON IMAGE\n",
    "    bounds_panels = MultiPolygon(contours).bounds\n",
    "    bounds_panels = [int(i) for i in bounds_panels]\n",
    "\n",
    "    # CREATE MASK USING GRID \n",
    "    mask = np.zeros(image.shape)\n",
    "    mask[bounds_panels[1]+50:bounds_panels[3]-50, bounds_panels[0]+50:bounds_panels[2]-50] = 1\n",
    "    mask_1 = drawGrid(image, out)          # GRID MASKING\n",
    "    mask = np.logical_and(~mask_1, mask)   # MERGE MASKS\n",
    "    \n",
    "    # FLIP IMAGE AND MASK IT\n",
    "    image = 255 - image\n",
    "    image_t = image * mask\n",
    "    \n",
    "    # RASTER BOUNDS\n",
    "    get_bounds_image = np.where(np.asarray(cv2.erode(image_t, np.ones((3,3), np.uint8)) > 50), 1, 0)\n",
    "    # plt.imshow(get_bounds_image)\n",
    "    # plt.show()\n",
    "    \n",
    "    # print(get_bounds_image)\n",
    "    bounds_panels_postfilter = find_bbox(get_bounds_image)\n",
    "    bounds_panels = [i for i in bounds_panels_postfilter]\n",
    "                                  \n",
    "    # SHAPEFILE BOUNDS\n",
    "    shp_bounds = [i for i in largest_polygon.bounds]\n",
    "\n",
    "    print(\"Assigning Points\")\n",
    "    # INITIAL TRANSFORM\n",
    "    from_points   = np.array([[bounds_panels[0], bounds_panels[1]], \n",
    "                   [bounds_panels[0], bounds_panels[3]],\n",
    "                   [bounds_panels[2], bounds_panels[1]],\n",
    "                   [bounds_panels[2], bounds_panels[3]]])\n",
    "\n",
    "    to_points = np.array([[shp_bounds[0], shp_bounds[1]], \n",
    "                   [shp_bounds[0], shp_bounds[3]],\n",
    "                   [shp_bounds[2], shp_bounds[1]],\n",
    "                   [shp_bounds[2], shp_bounds[3]]])\n",
    "\n",
    "    initial_transform = cv2.findHomography(from_points, to_points, cv2.RANSAC, 1000)\n",
    "    original_homography = initial_transform[0]\n",
    "    inverse_transform = np.linalg.inv(original_homography)\n",
    "\n",
    "    # CONVERT THINNED IMAGE TO POINTS\n",
    "    thin_image = cv2.ximgproc.thinning(image_t.astype(np.uint8), thinningType=cv2.ximgproc.THINNING_GUOHALL)\n",
    "    y, x = np.where(thin_image[::-1, :])                   # GET COORDINATES OF EVERY \n",
    "    image_points = np.vstack((x, y, np.ones(x.shape)))     # STACK X, Y, AND Z COORDINATES\n",
    "    # outputs = original_homography @ image_points           # TRANSFORM COORDINATES USING ESTIMATES\n",
    "    \n",
    "    # TRANSFORM SHAPEFILE POINTS INTO IMAGE COORDINATE SYSTEM\n",
    "    point_geometry = [[point.geometry.x, point.geometry.y, 1] for i, point in point_boundary_gdf.iterrows()]\n",
    "    point_geometry = inverse_transform @ np.array(point_geometry).T\n",
    "    \n",
    "    # COORDINATE HANDLING\n",
    "    coords_shp = point_geometry.T\n",
    "    coords_ras = np.vstack((image_points[0, :], image_points[1, :], np.ones(image_points[1, :].shape))).T\n",
    "    \n",
    "    # IMAGE ORIGIN COORDINATE SYSTEM TO IMAGE CENTER COORDINATE SYSTEM\n",
    "    offsets = np.mean(coords_ras, axis=0)\n",
    "    x_offset = offsets[0]\n",
    "    y_offset = offsets[1]\n",
    "\n",
    "    coords_shp_proc = np.vstack((coords_shp[:, 0] - x_offset, coords_shp[:, 1] - y_offset)).T\n",
    "    coords_ras_proc = np.vstack((coords_ras[:, 0] - x_offset, coords_ras[:, 1] - y_offset)).T\n",
    "    \n",
    "    # FAST SEARCH STRUCTURE\n",
    "    kdtree = cKDTree(coords_ras_proc)\n",
    "    \n",
    "    # ITERATIVE CLOSEST POINT\n",
    "    reprojected_points = []\n",
    "    compounded_homography = np.eye(3)\n",
    "    proc_points = coords_shp_proc\n",
    "    \n",
    "    # ITERATE\n",
    "    for i in tqdm(range(20), disable=True):\n",
    "        # TAKE ADJUSTMENT STEP\n",
    "        out, new_homography = adjustStep(proc_points, coords_ras_proc, kdtree,\n",
    "                                        shear=False, rotation=False, perspective=False)\n",
    "        compounded_homography = compounded_homography @ new_homography\n",
    "        reprojected_points.append(out)\n",
    "        proc_points = out\n",
    "        if i % 10 == 0:\n",
    "            scale  = np.sqrt((new_homography[0, 0] ** 2 + new_homography[1, 1] ** 2) / 2)\n",
    "            offset = np.sqrt((new_homography[1, 2] ** 2 + new_homography[0, 2] ** 2) / 2)\n",
    "\n",
    "            print(f\"Scale: {scale:.2f} Offset: {offset:.2f}\")\n",
    "    \n",
    "    plotICP(reprojected_points, plot_skip=10, )\n",
    "    plt.show()\n",
    "    \n",
    "    # REVERSE Y AXIS\n",
    "    rev_y_axis = np.array([[1, 0, 0],\n",
    "                           [0,-1, 0],\n",
    "                           [0, 0, 1]])\n",
    "\n",
    "    # move = original_homography @ np.array([0, image_t.shape[0], 0])\n",
    "    translation = np.eye(3)\n",
    "    translation[1, 2] = image_t.shape[0]\n",
    "\n",
    "    adjustment = np.linalg.inv(compounded_homography.copy())\n",
    "    adjustment[0, 2] = -1 * adjustment[0, 2]\n",
    "    adjustment[1, 2] = -1 * adjustment[1, 2]\n",
    "    # temp = adjustment[0, 2]\n",
    "    # adjustment[0, 2] = adjustment[1, 2]\n",
    "    # adjustment[1, 2] = temp\n",
    "    output_transform = original_homography @ adjustment @ translation @ rev_y_axis \n",
    "    print(output_transform)\n",
    "    # output_transform = original_homography @ translation @ rev_y_axis \n",
    "      \n",
    "    output_affine = Affine(*output_transform.flatten()[:6])\n",
    "    write_world_file_from_affine(output_affine, get_world_file_path(output_image))"
   ]
  },
  {
   "cell_type": "code",
   "execution_count": null,
   "id": "8820645c",
   "metadata": {},
   "outputs": [],
   "source": []
  }
 ],
 "metadata": {
  "kernelspec": {
   "display_name": "Python 3 (ipykernel)",
   "language": "python",
   "name": "python3"
  },
  "language_info": {
   "codemirror_mode": {
    "name": "ipython",
    "version": 3
   },
   "file_extension": ".py",
   "mimetype": "text/x-python",
   "name": "python",
   "nbconvert_exporter": "python",
   "pygments_lexer": "ipython3",
   "version": "3.7.16"
  }
 },
 "nbformat": 4,
 "nbformat_minor": 5
}
