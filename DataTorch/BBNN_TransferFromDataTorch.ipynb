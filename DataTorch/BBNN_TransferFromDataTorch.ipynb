{
 "cells": [
  {
   "cell_type": "code",
   "execution_count": 1,
   "id": "9c12f72a",
   "metadata": {},
   "outputs": [],
   "source": [
    "import os, shutil, random, glob\n",
    "import numpy as np\n",
    "from tqdm.notebook import tqdm\n",
    "\n",
    "import matplotlib.pyplot as plt\n",
    "\n",
    "from ultralytics.data.converter import convert_coco"
   ]
  },
  {
   "cell_type": "code",
   "execution_count": 2,
   "id": "fe90c4b2-5480-47b0-885b-02772a5bb7c6",
   "metadata": {},
   "outputs": [],
   "source": [
    "base_dir = r\"C:\\Users\\fhacesga\\OneDrive - University Of Houston\\AAA_RECTDNN\\data\\RLNN\\YOLO\\\\\"\n",
    "\n",
    "image_dir = f\"{base_dir}zzz_originalimages/\"\n",
    "yolo_dir  = f\"{base_dir}YOLO_dataset/\""
   ]
  },
  {
   "cell_type": "code",
   "execution_count": 6,
   "id": "0fc65793",
   "metadata": {},
   "outputs": [
    {
     "name": "stderr",
     "output_type": "stream",
     "text": [
      "Annotations C:\\Users\\fhacesga\\OneDrive - University Of Houston\\AAA_RECTDNN\\data\\RLNN\\YOLO\\COCO\\all.json: 100%|██████████| 65/65 [00:00<00:00, 887.41it/s]"
     ]
    },
    {
     "name": "stdout",
     "output_type": "stream",
     "text": [
      "COCO data converted successfully.\n",
      "Results saved to C:\\Users\\fhacesga\\OneDrive - University Of Houston\\AAA_RECTDNN\\data\\RLNN\\YOLO\\YOLO_dataset\n"
     ]
    },
    {
     "name": "stderr",
     "output_type": "stream",
     "text": [
      "\n"
     ]
    }
   ],
   "source": [
    "convert_coco(labels_dir=f'{base_dir}COCO', save_dir=yolo_dir, cls91to80=False)"
   ]
  },
  {
   "cell_type": "code",
   "execution_count": 11,
   "id": "2ac0089a",
   "metadata": {},
   "outputs": [],
   "source": [
    "def copy_matching_images(text_dir, image_dir, output_dir):\n",
    "    os.makedirs(output_dir, exist_ok=True)\n",
    "\n",
    "    # Get list of filenames in directory A\n",
    "    text_files = [os.path.splitext(file)[0] for file in os.listdir(text_dir)]\n",
    "    \n",
    "    # Get list of filenames in directory B\n",
    "    image_files = [os.path.splitext(file)[0] for file in os.listdir(image_dir)]\n",
    "    \n",
    "    # Find matching filenames\n",
    "    matching_files = set(text_files) & set(image_files)\n",
    "    # Copy matching image files to directory C\n",
    "    for filename in matching_files:\n",
    "        fn = glob.glob(os.path.join(image_dir, filename)+\"*\")\n",
    "        shutil.copy(fn[0], output_dir)\n",
    "\n",
    "def split_train_val(yolo_dir, percentage_train=80):\n",
    "    os.makedirs(yolo_dir + \"labels/train\", exist_ok=True)\n",
    "    os.makedirs(yolo_dir + \"labels/val\", exist_ok=True)\n",
    "    # Get list of filenames in directory A\n",
    "    text_files = os.listdir(yolo_dir + \"labels/all/\")\n",
    "\n",
    "    # Calculate the number of filenames to select\n",
    "    num_files_to_select = int(len(text_files) * percentage_train / 100)\n",
    "    \n",
    "    # Randomly select filenames\n",
    "    selected_files = random.sample(text_files, num_files_to_select)\n",
    "    print(selected_files)\n",
    "    for file in selected_files: \n",
    "        shutil.copy(os.path.join(yolo_dir + \"labels/all/\", file), yolo_dir + \"labels/train/\")\n",
    "\n",
    "    not_selected_files = set(text_files) - set(selected_files)\n",
    "\n",
    "    for file in not_selected_files: \n",
    "        shutil.copy(os.path.join(yolo_dir + \"labels/all/\", file), yolo_dir + \"labels/val/\")\n",
    "\n",
    "    copy_matching_images(yolo_dir + \"labels/train/\", yolo_dir + \"images/all/\", yolo_dir + \"images/train/\")\n",
    "    copy_matching_images(yolo_dir + \"labels/val/\", yolo_dir + \"images/all/\", yolo_dir + \"images/val/\")\n",
    "\n"
   ]
  },
  {
   "cell_type": "code",
   "execution_count": 12,
   "id": "af07e09a",
   "metadata": {},
   "outputs": [
    {
     "name": "stdout",
     "output_type": "stream",
     "text": [
      "['4802870180D.txt', '4800350320B.txt', '4802960195B.txt', '48201C0315G.txt', '480035A_3.txt', '4800450046C.txt', '4854690040C.txt', '48029C0476F.txt', '480077A_3.txt', '4800450005B.txt', '4854690025C.txt', '4800450005A.txt', '480036A_2.txt', '480287B_72.txt', '4800450055B.txt', '4854860002B.txt', '48029C0459F.txt', '480287B_83.txt', '48201C0045G.txt', '4800450050B.txt', '480035A_33.txt', '4854690041D.txt', '4802870200C.txt', '4800350395B.txt', '4800450043B.txt', '4802870180E.txt', '4854880030C.txt', '4802870185D.txt', '480035A_74.txt', '4800450052C.txt', '4800450042B.txt', '4800450003A.txt', '480311A_3.txt', '480035A_28.txt', '4802870160D.txt', '48201C0350G.txt', '480037A_3.txt', '4854880002B.txt', '480296A_9.txt', '4802960075C.txt', '48201C0265G.txt', '4800350305C.txt', '4800450002A.txt', '480038A_3.txt', '4802870170E.txt', '480035A_75.txt', '48029C0470F.txt', '4800450004B.txt', '4802960075B.txt', '4800450053B.txt', '48029C0313F.txt', '480311A_2.txt']\n"
     ]
    },
    {
     "ename": "TypeError",
     "evalue": "expected str, bytes or os.PathLike object, not list",
     "output_type": "error",
     "traceback": [
      "\u001b[1;31m---------------------------------------------------------------------------\u001b[0m",
      "\u001b[1;31mTypeError\u001b[0m                                 Traceback (most recent call last)",
      "Cell \u001b[1;32mIn[12], line 2\u001b[0m\n\u001b[0;32m      1\u001b[0m copy_matching_images(\u001b[38;5;124mf\u001b[39m\u001b[38;5;124m\"\u001b[39m\u001b[38;5;132;01m{\u001b[39;00myolo_dir\u001b[38;5;132;01m}\u001b[39;00m\u001b[38;5;124m/labels/all\u001b[39m\u001b[38;5;124m\"\u001b[39m, image_dir, \u001b[38;5;124mf\u001b[39m\u001b[38;5;124m\"\u001b[39m\u001b[38;5;132;01m{\u001b[39;00myolo_dir\u001b[38;5;132;01m}\u001b[39;00m\u001b[38;5;124m/images/all\u001b[39m\u001b[38;5;124m\"\u001b[39m)\n\u001b[1;32m----> 2\u001b[0m \u001b[43msplit_train_val\u001b[49m\u001b[43m(\u001b[49m\u001b[43myolo_dir\u001b[49m\u001b[43m)\u001b[49m\n",
      "Cell \u001b[1;32mIn[11], line 30\u001b[0m, in \u001b[0;36msplit_train_val\u001b[1;34m(yolo_dir, percentage_train)\u001b[0m\n\u001b[0;32m     28\u001b[0m \u001b[38;5;28mprint\u001b[39m(selected_files)\n\u001b[0;32m     29\u001b[0m \u001b[38;5;28;01mfor\u001b[39;00m file \u001b[38;5;129;01min\u001b[39;00m selected_files: \n\u001b[1;32m---> 30\u001b[0m     shutil\u001b[38;5;241m.\u001b[39mcopy(\u001b[43mos\u001b[49m\u001b[38;5;241;43m.\u001b[39;49m\u001b[43mpath\u001b[49m\u001b[38;5;241;43m.\u001b[39;49m\u001b[43mjoin\u001b[49m\u001b[43m(\u001b[49m\u001b[43mtext_files\u001b[49m\u001b[43m,\u001b[49m\u001b[43m \u001b[49m\u001b[43mfile\u001b[49m\u001b[43m)\u001b[49m, yolo_dir \u001b[38;5;241m+\u001b[39m \u001b[38;5;124m\"\u001b[39m\u001b[38;5;124mlabels/train/\u001b[39m\u001b[38;5;124m\"\u001b[39m)\n\u001b[0;32m     32\u001b[0m not_selected_files \u001b[38;5;241m=\u001b[39m \u001b[38;5;28mset\u001b[39m(text_files) \u001b[38;5;241m-\u001b[39m \u001b[38;5;28mset\u001b[39m(selected_files)\n\u001b[0;32m     34\u001b[0m \u001b[38;5;28;01mfor\u001b[39;00m file \u001b[38;5;129;01min\u001b[39;00m not_selected_files: \n",
      "File \u001b[1;32mc:\\Users\\fhacesga\\Anaconda3\\envs\\yolo\\lib\\ntpath.py:78\u001b[0m, in \u001b[0;36mjoin\u001b[1;34m(path, *paths)\u001b[0m\n\u001b[0;32m     77\u001b[0m \u001b[38;5;28;01mdef\u001b[39;00m \u001b[38;5;21mjoin\u001b[39m(path, \u001b[38;5;241m*\u001b[39mpaths):\n\u001b[1;32m---> 78\u001b[0m     path \u001b[38;5;241m=\u001b[39m \u001b[43mos\u001b[49m\u001b[38;5;241;43m.\u001b[39;49m\u001b[43mfspath\u001b[49m\u001b[43m(\u001b[49m\u001b[43mpath\u001b[49m\u001b[43m)\u001b[49m\n\u001b[0;32m     79\u001b[0m     \u001b[38;5;28;01mif\u001b[39;00m \u001b[38;5;28misinstance\u001b[39m(path, \u001b[38;5;28mbytes\u001b[39m):\n\u001b[0;32m     80\u001b[0m         sep \u001b[38;5;241m=\u001b[39m \u001b[38;5;124mb\u001b[39m\u001b[38;5;124m'\u001b[39m\u001b[38;5;130;01m\\\\\u001b[39;00m\u001b[38;5;124m'\u001b[39m\n",
      "\u001b[1;31mTypeError\u001b[0m: expected str, bytes or os.PathLike object, not list"
     ]
    }
   ],
   "source": [
    "copy_matching_images(f\"{yolo_dir}/labels/all\", image_dir, f\"{yolo_dir}/images/all\")\n",
    "split_train_val(yolo_dir)"
   ]
  }
 ],
 "metadata": {
  "kernelspec": {
   "display_name": "Python 3 (ipykernel)",
   "language": "python",
   "name": "python3"
  },
  "language_info": {
   "codemirror_mode": {
    "name": "ipython",
    "version": 3
   },
   "file_extension": ".py",
   "mimetype": "text/x-python",
   "name": "python",
   "nbconvert_exporter": "python",
   "pygments_lexer": "ipython3",
   "version": "3.8.18"
  }
 },
 "nbformat": 4,
 "nbformat_minor": 5
}
