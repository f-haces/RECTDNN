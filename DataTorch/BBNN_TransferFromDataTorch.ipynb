{
 "cells": [
  {
   "cell_type": "code",
   "execution_count": 2,
   "id": "9c12f72a",
   "metadata": {},
   "outputs": [],
   "source": [
    "import os, cv2, json, pickle\n",
    "import numpy as np\n",
    "from tqdm.notebook import tqdm\n",
    "from shutil import copyfile\n",
    "\n",
    "from DatasetConversion import *\n",
    "\n",
    "import matplotlib.pyplot as plt\n",
    "\n",
    "from ultralytics.data.converter import convert_coco"
   ]
  },
  {
   "cell_type": "code",
   "execution_count": 4,
   "id": "fe90c4b2-5480-47b0-885b-02772a5bb7c6",
   "metadata": {},
   "outputs": [],
   "source": [
    "base_dir = r\"C:\\Users\\fhacesga\\OneDrive - University Of Houston\\AAA_RECTDNN\\data\\BBNN\\BBNN_DataTorch_042924\\\\\"\n",
    "\n",
    "pkl_folder    = f\"{base_dir}pkl\\\\\"\n",
    "\n",
    "category_labels = {\n",
    "    0 : \"County\",\n",
    "    1 : \"Tile\",\n",
    "    2 : \"Box\",\n",
    "    3 : \"Legend\"\n",
    "}\n",
    "\n",
    "categories=[0, 1]"
   ]
  },
  {
   "cell_type": "code",
   "execution_count": 5,
   "id": "0fc65793",
   "metadata": {},
   "outputs": [
    {
     "name": "stderr",
     "output_type": "stream",
     "text": [
      "Annotations C:\\Users\\fhacesga\\OneDrive - University Of Houston\\AAA_RECTDNN\\data\\BBNN\\BBNN_DataTorch_042924\\annotations\\toCOCO-1.json: 100%|██████████| 80/80 [00:00<00:00, 474.42it/s]"
     ]
    },
    {
     "name": "stdout",
     "output_type": "stream",
     "text": [
      "COCO data converted successfully.\n",
      "Results saved to C:\\Users\\fhacesga\\OneDrive - University Of Houston\\AAA_RECTDNN\\data\\BBNN\\BBNN_DataTorch_042924\\YOLO_dataset\n"
     ]
    },
    {
     "name": "stderr",
     "output_type": "stream",
     "text": [
      "\n"
     ]
    }
   ],
   "source": [
    "convert_coco(labels_dir=f'{base_dir}annotations', save_dir=f\"{base_dir}YOLO_dataset\", cls91to80=False)"
   ]
  }
 ],
 "metadata": {
  "kernelspec": {
   "display_name": "Python 3 (ipykernel)",
   "language": "python",
   "name": "python3"
  },
  "language_info": {
   "codemirror_mode": {
    "name": "ipython",
    "version": 3
   },
   "file_extension": ".py",
   "mimetype": "text/x-python",
   "name": "python",
   "nbconvert_exporter": "python",
   "pygments_lexer": "ipython3",
   "version": "3.8.18"
  }
 },
 "nbformat": 4,
 "nbformat_minor": 5
}
