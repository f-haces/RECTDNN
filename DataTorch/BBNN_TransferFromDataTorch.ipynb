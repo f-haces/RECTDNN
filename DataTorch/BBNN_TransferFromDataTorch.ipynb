{
 "cells": [
  {
   "cell_type": "code",
   "execution_count": 1,
   "id": "9c12f72a",
   "metadata": {},
   "outputs": [],
   "source": [
    "import os, shutil, random, glob\n",
    "import numpy as np\n",
    "from tqdm.notebook import tqdm\n",
    "\n",
    "import matplotlib.pyplot as plt\n",
    "\n",
    "from ultralytics.data.converter import convert_coco"
   ]
  },
  {
   "cell_type": "code",
   "execution_count": 10,
   "id": "fe90c4b2-5480-47b0-885b-02772a5bb7c6",
   "metadata": {},
   "outputs": [],
   "source": [
    "base_dir = r\"C:\\Users\\fhacesga\\OneDrive - University Of Houston\\AAA_RECTDNN\\data\\FANN\\YOLO_v2\\\\\"\n",
    "\n",
    "image_dir = f\"{base_dir}COCO/img/\"\n",
    "yolo_dir  = f\"{base_dir}YOLO_dataset/\""
   ]
  },
  {
   "cell_type": "code",
   "execution_count": 6,
   "id": "0fc65793",
   "metadata": {},
   "outputs": [
    {
     "name": "stderr",
     "output_type": "stream",
     "text": [
      "Annotations C:\\Users\\fhacesga\\OneDrive - University Of Houston\\AAA_RECTDNN\\data\\FANN\\YOLO_v2\\COCO\\annotations\\PleaseWork2-2.json: 100%|██████████| 12/12 [00:00<00:00, 96.13it/s]"
     ]
    },
    {
     "name": "stdout",
     "output_type": "stream",
     "text": [
      "COCO data converted successfully.\n",
      "Results saved to C:\\Users\\fhacesga\\OneDrive - University Of Houston\\AAA_RECTDNN\\data\\FANN\\YOLO_v2\\YOLO_dataset\n"
     ]
    },
    {
     "name": "stderr",
     "output_type": "stream",
     "text": [
      "\n"
     ]
    }
   ],
   "source": [
    "convert_coco(labels_dir=f'{base_dir}COCO/annotations', save_dir=yolo_dir, cls91to80=False)"
   ]
  },
  {
   "cell_type": "code",
   "execution_count": 8,
   "id": "2ac0089a",
   "metadata": {},
   "outputs": [],
   "source": [
    "def copy_matching_images(text_dir, image_dir, output_dir):\n",
    "    os.makedirs(output_dir, exist_ok=True)\n",
    "\n",
    "    # Get list of filenames in directory A\n",
    "    text_files = [os.path.splitext(file)[0] for file in os.listdir(text_dir)]\n",
    "    \n",
    "    # Get list of filenames in directory B\n",
    "    image_files = [os.path.splitext(file)[0] for file in os.listdir(image_dir)]\n",
    "    \n",
    "    # Find matching filenames\n",
    "    matching_files = set(text_files) & set(image_files)\n",
    "    # Copy matching image files to directory C\n",
    "    for filename in matching_files:\n",
    "        fn = glob.glob(os.path.join(image_dir, filename)+\"*\")\n",
    "        shutil.copy(fn[0], output_dir)\n",
    "\n",
    "def split_train_val(yolo_dir, percentage_train=80):\n",
    "    os.makedirs(yolo_dir + \"labels/train\", exist_ok=True)\n",
    "    os.makedirs(yolo_dir + \"labels/val\", exist_ok=True)\n",
    "    # Get list of filenames in directory A\n",
    "    text_files = os.listdir(yolo_dir + \"labels/all/\")\n",
    "\n",
    "    # Calculate the number of filenames to select\n",
    "    num_files_to_select = int(len(text_files) * percentage_train / 100)\n",
    "    \n",
    "    # Randomly select filenames\n",
    "    selected_files = random.sample(text_files, num_files_to_select)\n",
    "    print(selected_files)\n",
    "    for file in selected_files: \n",
    "        shutil.copy(os.path.join(yolo_dir + \"labels/all/\", file), yolo_dir + \"labels/train/\")\n",
    "\n",
    "    not_selected_files = set(text_files) - set(selected_files)\n",
    "\n",
    "    for file in not_selected_files: \n",
    "        shutil.copy(os.path.join(yolo_dir + \"labels/all/\", file), yolo_dir + \"labels/val/\")\n",
    "\n",
    "    copy_matching_images(yolo_dir + \"labels/train/\", yolo_dir + \"images/all/\", yolo_dir + \"images/train/\")\n",
    "    copy_matching_images(yolo_dir + \"labels/val/\", yolo_dir + \"images/all/\", yolo_dir + \"images/val/\")\n",
    "\n"
   ]
  },
  {
   "cell_type": "code",
   "execution_count": 11,
   "id": "af07e09a",
   "metadata": {},
   "outputs": [
    {
     "name": "stdout",
     "output_type": "stream",
     "text": [
      "['4802870335E.txt', '48201C0300G.txt', '48201C0295L.txt', '485491C_2.txt', '48201C0865J.txt', '485469B_6.txt', '480035A_30.txt', '48201C0140G.txt', '4854560015B.txt']\n"
     ]
    }
   ],
   "source": [
    "copy_matching_images(f\"{yolo_dir}/labels/all\", image_dir, f\"{yolo_dir}/images/all\")\n",
    "split_train_val(yolo_dir)"
   ]
  }
 ],
 "metadata": {
  "kernelspec": {
   "display_name": "Python 3",
   "language": "python",
   "name": "python3"
  },
  "language_info": {
   "codemirror_mode": {
    "name": "ipython",
    "version": 3
   },
   "file_extension": ".py",
   "mimetype": "text/x-python",
   "name": "python",
   "nbconvert_exporter": "python",
   "pygments_lexer": "ipython3",
   "version": "3.8.18"
  }
 },
 "nbformat": 4,
 "nbformat_minor": 5
}
