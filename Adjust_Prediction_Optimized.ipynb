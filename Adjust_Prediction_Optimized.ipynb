{
 "cells": [
  {
   "cell_type": "code",
   "execution_count": 1,
   "id": "e39c8d38",
   "metadata": {},
   "outputs": [],
   "source": [
    "# NOTEBOOK IMPORTS\n",
    "import os\n",
    "import glob\n",
    "import numpy as np\n",
    "from tqdm.notebook import tqdm\n",
    "from shutil import copyfile\n",
    "\n",
    "# IMAGE IMPORTS\n",
    "import cv2\n",
    "from PIL import Image\n",
    "\n",
    "# GIS IMPORTS\n",
    "import fiona\n",
    "import pyproj\n",
    "from affine import Affine\n",
    "from shapely.geometry import shape, mapping\n",
    "from shapely.geometry import Point, LineString\n",
    "from shapely.ops import transform, nearest_points, snap\n",
    "import geopandas as gpd\n",
    "import rasterio as rio\n",
    "from rasterio.mask import mask\n",
    "from scipy.spatial import cKDTree\n",
    "\n",
    "# PLOTTING IMPORTS\n",
    "import matplotlib.pyplot as plt\n",
    "import matplotlib.patches as patches\n",
    "\n",
    "\n",
    "# CUSTOM UTILITIES\n",
    "from WorldFileUtils import *\n",
    "from GeometryUtils import *\n",
    "from icp import *\n",
    "\n",
    "Image.MAX_IMAGE_PIXELS = 933120000"
   ]
  },
  {
   "cell_type": "code",
   "execution_count": 2,
   "id": "1ee7bc87",
   "metadata": {},
   "outputs": [],
   "source": [
    "templates_dir = \"data/templates/\"\n",
    "tempfiles_dir = \"tempfiles/\"\n",
    "\n",
    "boundary_shapefile = f\"{templates_dir}HCAD_Harris_County_Boundary.shp\"\n",
    "boundary_points    = f'{tempfiles_dir}boundary_points.shp'"
   ]
  },
  {
   "cell_type": "code",
   "execution_count": 3,
   "id": "3119e887",
   "metadata": {},
   "outputs": [
    {
     "name": "stderr",
     "output_type": "stream",
     "text": [
      "C:\\Users\\franc\\AppData\\Roaming\\Python\\Python37\\site-packages\\ipykernel_launcher.py:3: FionaDeprecationWarning: Collection.__next__() is buggy and will be removed in Fiona 2.0. Switch to `next(iter(collection))`.\n",
      "  This is separate from the ipykernel package so we can avoid doing imports until\n"
     ]
    }
   ],
   "source": [
    "line = fiona.open(boundary_shapefile)\n",
    "\n",
    "firstline = line.next()\n",
    "first = shape(firstline['geometry']).boundary\n",
    "\n",
    "wgs84 = pyproj.CRS('EPSG:4326')\n",
    "utm = pyproj.CRS('EPSG:3857')\n",
    "\n",
    "project = pyproj.Transformer.from_crs(wgs84, utm, always_xy=True).transform\n",
    "first = transform(project, first)\n",
    "\n",
    "# length of the LineString\n",
    "length = first.length\n",
    "\n",
    "point_boundary_list = list()\n",
    "\n",
    "if not os.path.exists(boundary_points):\n",
    "    for distance in tqdm(range(0,int(length),5)):\n",
    "        point = first.interpolate(distance)   \n",
    "        point_boundary_list.append(point)\n",
    "        point_boundary_gdf = gpd.GeoDataFrame(geometry=point_boundary_list)\n",
    "        point_boundary_gdf.to_file(boundary_points)"
   ]
  },
  {
   "cell_type": "code",
   "execution_count": 4,
   "id": "25295990",
   "metadata": {
    "scrolled": false
   },
   "outputs": [
    {
     "data": {
      "application/vnd.jupyter.widget-view+json": {
       "model_id": "9cde94d28f8d4de2a5e963fb20304b44",
       "version_major": 2,
       "version_minor": 0
      },
      "text/plain": [
       "  0%|          | 0/1000 [00:00<?, ?it/s]"
      ]
     },
     "metadata": {},
     "output_type": "display_data"
    },
    {
     "data": {
      "application/vnd.jupyter.widget-view+json": {
       "model_id": "f94f648381b9452db4fa28e2abc10f57",
       "version_major": 2,
       "version_minor": 0
      },
      "text/plain": [
       "  0%|          | 0/1000 [00:00<?, ?it/s]"
      ]
     },
     "metadata": {},
     "output_type": "display_data"
    },
    {
     "data": {
      "application/vnd.jupyter.widget-view+json": {
       "model_id": "2c154b5afcd9464ebd3de0be18a54f38",
       "version_major": 2,
       "version_minor": 0
      },
      "text/plain": [
       "  0%|          | 0/1000 [00:00<?, ?it/s]"
      ]
     },
     "metadata": {},
     "output_type": "display_data"
    },
    {
     "data": {
      "application/vnd.jupyter.widget-view+json": {
       "model_id": "5b61dc08da9f4eb3b86aefd60b9fb373",
       "version_major": 2,
       "version_minor": 0
      },
      "text/plain": [
       "  0%|          | 0/1000 [00:00<?, ?it/s]"
      ]
     },
     "metadata": {},
     "output_type": "display_data"
    },
    {
     "data": {
      "application/vnd.jupyter.widget-view+json": {
       "model_id": "018d68a0e7934bc0a2bc237bbd7cfc28",
       "version_major": 2,
       "version_minor": 0
      },
      "text/plain": [
       "  0%|          | 0/1000 [00:00<?, ?it/s]"
      ]
     },
     "metadata": {},
     "output_type": "display_data"
    },
    {
     "name": "stdout",
     "output_type": "stream",
     "text": [
      "1min 8s ± 0 ns per loop (mean ± std. dev. of 1 run, 1 loop each)\n"
     ]
    }
   ],
   "source": [
    "%%timeit -n 1 -r 1\n",
    "\n",
    "# BOUNDARY SHAPEFILE AND BUFFER\n",
    "boundary_shp = gpd.read_file(boundary_shapefile).to_crs(\"EPSG:3857\")\n",
    "boundary_buf = boundary_shp.boundary.buffer(1000)\n",
    "\n",
    "# BOUNDARY POINTS \n",
    "boundary_points_gdf_or = gpd.read_file(boundary_points)\n",
    "\n",
    "initial_filename = f\"{tempfiles_dir}border.png\"\n",
    "current_filename = initial_filename\n",
    "\n",
    "plot = False\n",
    "\n",
    "for i in range(5):\n",
    "    output_filename = f\"{tempfiles_dir}/out/border_{i}.png\"\n",
    "    \n",
    "    # GET ORIGINAL TRANSFORM FROM IMAGE AND CONVERT TO AFFINE OBJECT\n",
    "    original_transform, _ = get_geotransform_from_tfw(current_filename[:-3]+\"pgw\")\n",
    "    ot = Affine.from_gdal(*original_transform)\n",
    "    \n",
    "    # CANDIDATE PIXEL (KEYPOINT) COORDINATES FROM TILE\n",
    "    rows, cols = get_true_pixel_rc(current_filename, polygon=boundary_buf)    \n",
    "    coords_gdf = gpd.GeoDataFrame(geometry=gpd.points_from_xy(rows, cols ))\n",
    "    coords_gdf = coords_gdf.sample(n=1000)\n",
    "                                 \n",
    "    # PIXEL COORDINATES FROM CLOSEST POINT IN LINE, NORMALIZED TO INVERSE TRANSFORM OF SHAPEFILE\n",
    "    point_boundary_gdf = boundary_points_gdf_or.copy()\n",
    "    point_boundary_gdf = normalize_geometry(point_boundary_gdf, ot)\n",
    "    boundary_line = LineString(point_boundary_gdf.geometry)\n",
    "    boundary_points_matching = find_points_on_linestring(boundary_line, coords_gdf.geometry)\n",
    "    \n",
    "    # COORDINATE ARRAY \n",
    "    boundary_points_matching_coords = np.array([np.array([m.x, m.y]) for m in boundary_points_matching])\n",
    "    \n",
    "    # TO AND FROM POINTS\n",
    "    to_points = np.array(boundary_points_matching_coords).astype(np.float32)\n",
    "    from_points = np.array([np.array([cg.x, cg.y]).astype(np.float32) for cg in coords_gdf.geometry])\n",
    "    \n",
    "    # CALCULATE HOMOGRAPHY\n",
    "    output = cv2.findHomography(from_points, to_points, cv2.RANSAC,1000)\n",
    "    homography = output[0]\n",
    "    \n",
    "    # GET CURRENT TRANSFORM\n",
    "    original_transform, _ = get_geotransform_from_tfw(current_filename[:-3]+\"pgw\")\n",
    "    current_transform = getActualTransform(original_transform, homography.flatten()[:6])\n",
    "    \n",
    "    # OUTPUT\n",
    "    copyfile(current_filename, output_filename)\n",
    "    write_world_file_from_affine(current_transform, output_filename[:-3]+\"pgw\")\n",
    "    current_filename = output_filename"
   ]
  }
 ],
 "metadata": {
  "kernelspec": {
   "display_name": "Python 3 (ipykernel)",
   "language": "python",
   "name": "python3"
  },
  "language_info": {
   "codemirror_mode": {
    "name": "ipython",
    "version": 3
   },
   "file_extension": ".py",
   "mimetype": "text/x-python",
   "name": "python",
   "nbconvert_exporter": "python",
   "pygments_lexer": "ipython3",
   "version": "3.7.10"
  }
 },
 "nbformat": 4,
 "nbformat_minor": 5
}
