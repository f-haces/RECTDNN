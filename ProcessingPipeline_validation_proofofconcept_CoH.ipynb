{
 "cells": [
  {
   "cell_type": "code",
   "execution_count": 1,
   "id": "3449d61f",
   "metadata": {},
   "outputs": [],
   "source": [
    "%load_ext autoreload\n",
    "%autoreload 2"
   ]
  },
  {
   "cell_type": "code",
   "execution_count": 2,
   "id": "c7621809",
   "metadata": {},
   "outputs": [
    {
     "name": "stderr",
     "output_type": "stream",
     "text": [
      "c:\\Users\\fhacesga\\Anaconda3\\envs\\yolo\\lib\\site-packages\\geopandas\\_compat.py:124: UserWarning: The Shapely GEOS version (3.11.2-CAPI-1.17.2) is incompatible with the GEOS version PyGEOS was compiled with (3.10.4-CAPI-1.16.2). Conversions between both will be slow.\n",
      "  warnings.warn(\n",
      "C:\\Users\\fhacesga\\AppData\\Local\\Temp\\ipykernel_11408\\1811205482.py:17: DeprecationWarning: Shapely 2.0 is installed, but because PyGEOS is also installed, GeoPandas still uses PyGEOS by default. However, starting with version 0.14, the default will switch to Shapely. To force to use Shapely 2.0 now, you can either uninstall PyGEOS or set the environment variable USE_PYGEOS=0. You can do this before starting the Python process, or in your code before importing geopandas:\n",
      "\n",
      "import os\n",
      "os.environ['USE_PYGEOS'] = '0'\n",
      "import geopandas\n",
      "\n",
      "In the next release, GeoPandas will switch to using Shapely by default, even if PyGEOS is installed. If you only have PyGEOS installed to get speed-ups, this switch should be smooth. However, if you are using PyGEOS directly (calling PyGEOS functions on geometries from GeoPandas), this will then stop working and you are encouraged to migrate from PyGEOS to Shapely 2.0 (https://shapely.readthedocs.io/en/latest/migration_pygeos.html).\n",
      "  import geopandas as gpd\n"
     ]
    },
    {
     "name": "stdout",
     "output_type": "stream",
     "text": [
      "WARNING  Python>=3.10 is required, but Python==3.8.18 is currently installed \n"
     ]
    }
   ],
   "source": [
    "# NOTEBOOK IMPORTS\n",
    "import os, glob, warnings, pickle, re, traceback\n",
    "import numpy as np\n",
    "from shutil import copyfile\n",
    "from datetime import datetime\n",
    "from fuzzywuzzy import process\n",
    "import easyocr\n",
    "\n",
    "# IMAGE IMPORTS\n",
    "from PIL import Image\n",
    "import cv2\n",
    "\n",
    "# GIS IMPORTS\n",
    "from affinetransformation import *\n",
    "from affine import Affine\n",
    "import pandas as pd\n",
    "import geopandas as gpd\n",
    "import rasterio as rio\n",
    "\n",
    "# IMAGE IMPORTS\n",
    "# from skimage.morphology import skeletonize\n",
    "# from skimage import img_as_bool, img_as_ubyte\n",
    "\n",
    "\n",
    "# PLOTTING IMPORTS\n",
    "import matplotlib.pyplot as plt\n",
    "\n",
    "# CUSTOM UTILITIES\n",
    "from IndexUtils import * \n",
    "from TileUtils import *\n",
    "from TileNameFinder import *\n",
    "from ReadDate import *\n",
    "from featurematching import *\n",
    "\n",
    "Image.MAX_IMAGE_PIXELS = 933120000\n",
    "warnings.filterwarnings(\"ignore\")\n",
    "initialize = False\n",
    "\n",
    "%matplotlib widget"
   ]
  },
  {
   "cell_type": "markdown",
   "id": "5ed09b63",
   "metadata": {},
   "source": [
    "IO directories depending on which machine. "
   ]
  },
  {
   "cell_type": "code",
   "execution_count": 3,
   "id": "34617015",
   "metadata": {},
   "outputs": [],
   "source": [
    "username = os.getlogin()\n",
    "\n",
    "dnn_params = {}\n",
    "dnn_params['CLNN'] = {}\n",
    "dnn_params['TPNN'] = {}\n",
    "dnn_params['RLNN'] = {}\n",
    "dnn_params['FLNN'] = {}\n",
    "dnn_params['TLNN'] = {}\n",
    "\n",
    "\n",
    "if username == 'fhacesga':\n",
    "    base_input_path   = r\"D:\\RECTDNN\\uncompress_2\\\\\"\n",
    "    base_output_path  = r\"D:\\RECTDNN\\processing\\\\\"\n",
    "    ref_dir  = r\"C:\\Users\\fhacesga\\OneDrive - University Of Houston\\AAA_RECTDNN\\data\\AAA_ReferenceDatasets\\\\\"\n",
    "    tiled_yolo_model_paths = [\n",
    "        r\"C:\\Users\\fhacesga\\OneDrive - University Of Houston\\AAA_RECTDNN\\data\\CORNERS\\CornersTiled_111324.pt\",\n",
    "        r\"C:\\Users\\fhacesga\\OneDrive - University Of Houston\\AAA_RECTDNN\\data\\FANN\\FANN_large_YOLO.pt\"\n",
    "    ]\n",
    "elif username == 'fhace':\n",
    "    base_input_path   = r\"C:\\Users\\fhace\\Desktop\\FIRMs\\data\\Uncompress\\\\\"\n",
    "    ref_dir = r\"C:\\Users\\fhace\\Desktop\\FIRMs\\data\\AAA_ReferenceDatasets\\\\\"\n",
    "    base_output_path = r\"C:\\Users\\fhace\\Desktop\\FIRMs\\data\\Outputs\\\\\"\n",
    "    # dnn_params['TLNN']['model_weights']    = r\"C:\\Users\\fhace\\Desktop\\FIRMs\\data\\BBNN\\curr_weights.pt\"\n",
    "    dnn_params['CLNN']['model_checkpoint'] = r\"C:\\Users\\fhace\\Desktop\\FIRMs\\data\\RLNN\\checkpoint_101423.pth\"\n",
    "    dnn_params['TPNN']['model_checkpoint'] = r\"C:\\Users\\fhace\\OneDrive - University Of Houston\\AAA_RECTDNN\\data\\TPNN\\checkpoint_091523_pyramids_2.pth\"\n",
    "    dnn_params['RLNN']['model_checkpoint'] = r\"C:\\Users\\fhace\\OneDrive - University Of Houston\\AAA_RECTDNN\\data\\RLNN\\checkpoint_091323.pth\"\n",
    "    \n",
    "else:\n",
    "    base_input_path   = r\"D:\\Desktop\\FIRMsDigitizing\\data\\HistoricalFIRMS\"\n",
    "    base_output_path  = r\"D:\\Desktop\\FIRMsDigitizing\\processing\"\n",
    "    ref_dir  = r\"C:\\Users\\franc\\OneDrive - University Of Houston\\AAA_RECTDNN\\data\\AAA_ReferenceDatasets\\\\\"\n",
    "\n",
    "if not initialize:\n",
    "    initialize = init_databases(ref_dir)\n",
    "\n",
    "try:\n",
    "    reader\n",
    "except:\n",
    "    reader = easyocr.Reader(['en']) "
   ]
  },
  {
   "cell_type": "code",
   "execution_count": 4,
   "id": "008bc5be",
   "metadata": {},
   "outputs": [],
   "source": [
    "proc_dir = r\"D:\\CaseStudies\\CornerDigitization\\FineAdjustment\\\\\""
   ]
  },
  {
   "cell_type": "markdown",
   "id": "ca15694b",
   "metadata": {},
   "source": [
    "For each image we are processing, identify street corners"
   ]
  },
  {
   "cell_type": "code",
   "execution_count": 5,
   "id": "9c3f763b",
   "metadata": {},
   "outputs": [
    {
     "name": "stdout",
     "output_type": "stream",
     "text": [
      "Making images half size for tiled inference\n"
     ]
    },
    {
     "data": {
      "application/vnd.jupyter.widget-view+json": {
       "model_id": "2be8cea92d95428a9947c88dccadf055",
       "version_major": 2,
       "version_minor": 0
      },
      "text/plain": [
       "  0%|          | 0/14 [00:00<?, ?it/s]"
      ]
     },
     "metadata": {},
     "output_type": "display_data"
    },
    {
     "name": "stderr",
     "output_type": "stream",
     "text": [
      "Performing inference on images: 100%|██████████| 14/14 [05:09<00:00, 22.14s/it]\n"
     ]
    },
    {
     "name": "stdout",
     "output_type": "stream",
     "text": [
      "Prediction results are successfully exported to D:\\CaseStudies\\CornerDigitization\\FineAdjustment\\CornerCoordinates\\exp\n",
      "Exporting to D:\\CaseStudies\\CornerDigitization\\FineAdjustment\\\\CornerCoordinates.pkl\n",
      "Reading results from: D:\\CaseStudies\\CornerDigitization\\FineAdjustment\\\\CornerCoordinates\\exp\\pickles\\\n"
     ]
    },
    {
     "name": "stderr",
     "output_type": "stream",
     "text": [
      "Performing inference on images: 100%|██████████| 14/14 [05:24<00:00, 23.16s/it]\n"
     ]
    },
    {
     "name": "stdout",
     "output_type": "stream",
     "text": [
      "Prediction results are successfully exported to D:\\CaseStudies\\CornerDigitization\\FineAdjustment\\street_corners\\exp\n",
      "Exporting to D:\\CaseStudies\\CornerDigitization\\FineAdjustment\\\\street_corners.pkl\n",
      "Reading results from: D:\\CaseStudies\\CornerDigitization\\FineAdjustment\\\\street_corners\\exp\\pickles\\\n"
     ]
    }
   ],
   "source": [
    "tiles = glob.glob(proc_dir + \"referencing\\*.tif\")\n",
    "\n",
    "out = processTiledYOLOs(tiles, tiled_yolo_model_paths, ['CornerCoordinates', 'street_corners'], proc_dir, imsizes=[256, 320])\n",
    "\n",
    "cornercoords_dict = out[0]\n",
    "streetcorner_dict = out[1]"
   ]
  },
  {
   "cell_type": "code",
   "execution_count": 6,
   "id": "e9ba6500",
   "metadata": {},
   "outputs": [],
   "source": [
    "corners     = gpd.read_file(r\"C:\\Users\\fhacesga\\OneDrive - University Of Houston\\AAA_RECTDNN\\data\\AAA_ReferenceDatasets\\OSM_Roads\\TexasRoads_filtered_strict_3857_nondupe_smaller_harris.gpkg\")\n",
    "roads_gdf   = gpd.read_file(r\"C:\\Users\\fhacesga\\Downloads\\TexasRoads_filtered_strict_3857.gpkg\", engine='pyogrio', use_arrow=True)"
   ]
  },
  {
   "cell_type": "code",
   "execution_count": 7,
   "id": "3f1d4ec5",
   "metadata": {},
   "outputs": [
    {
     "name": "stdout",
     "output_type": "stream",
     "text": [
      "D:\\CaseStudies\\CornerDigitization\\FineAdjustment\\\\street_corners\\exp\\pickles\n"
     ]
    }
   ],
   "source": [
    "corner_dir = os.path.join(get_largest_subdirectory(os.path.join(proc_dir, \"street_corners\")), \"pickles\")\n",
    "\n",
    "if os.path.isdir(os.path.join(proc_dir, \"focus\")):\n",
    "    referencing_dir  =  os.path.join(proc_dir, \"focus\") + \"\\\\\"\n",
    "    print(f\"Focus found, using {referencing_dir}\")\n",
    "\n",
    "registration_dir = os.path.join(proc_dir, \"registration\")\n",
    "os.makedirs(registration_dir, exist_ok=True)\n",
    "\n",
    "print(corner_dir)"
   ]
  },
  {
   "cell_type": "code",
   "execution_count": 8,
   "id": "094b4758",
   "metadata": {},
   "outputs": [],
   "source": [
    "np.set_printoptions(precision=8) "
   ]
  },
  {
   "cell_type": "code",
   "execution_count": 9,
   "id": "6613bd34",
   "metadata": {},
   "outputs": [],
   "source": [
    "def normCoords(A, B):\n",
    "    offsets = np.min(A, axis=0)\n",
    "    return A - offsets, B - offsets\n",
    "\n",
    "def updateResults(list1, list2, verbose=False):\n",
    "    combined_dict = {}\n",
    "    all_matches = list1 + list2\n",
    "\n",
    "    if not all_matches:\n",
    "        return []\n",
    "\n",
    "    # Check data format (tuple vs dict)\n",
    "    is_dict_format = isinstance(all_matches[0], dict)\n",
    "\n",
    "    for entry in all_matches:\n",
    "        if is_dict_format:\n",
    "            key = entry[\"real_idx\"]\n",
    "            d1, d2 = entry[\"d1\"], entry[\"d2\"]\n",
    "        else:\n",
    "            key = entry[0]\n",
    "            d1, d2 = entry[2], entry[3]\n",
    "\n",
    "        try:\n",
    "            current_ratio = d1 / d2\n",
    "        except ZeroDivisionError:\n",
    "            continue\n",
    "\n",
    "        if key not in combined_dict:\n",
    "            combined_dict[key] = entry\n",
    "        else:\n",
    "            prev = combined_dict[key]\n",
    "            prev_ratio = (prev[\"d1\"] / prev[\"d2\"]) if is_dict_format else (prev[2] / prev[3])\n",
    "            if current_ratio < prev_ratio:\n",
    "                combined_dict[key] = entry\n",
    "\n",
    "    combined_list = list(combined_dict.values())\n",
    "    if verbose:\n",
    "        print(\"Results Update:\", len(list1), len(list2), len(combined_list))\n",
    "    return combined_list\n",
    "def most_popular_indices_2d_flexible(uv_vectors, eps=0.1, iteration=0, n_iters=10, min_cluster_size=10):\n",
    "    \"\"\"\n",
    "    uv_vectors: np.ndarray of shape (N, 2) representing delta vectors (dx, dy)\n",
    "    eps: base clustering threshold (in normalized space)\n",
    "    iteration: current iteration index (0-based)\n",
    "    n_iters: total iterations expected\n",
    "    \"\"\"\n",
    "    # Compute angle and magnitude\n",
    "    angles = np.degrees(np.arctan2(uv_vectors[:, 1], uv_vectors[:, 0])) % 360\n",
    "    magnitudes = np.linalg.norm(uv_vectors, axis=1)\n",
    "\n",
    "    # Normalize\n",
    "    angle_norm = angles / 360.0  # 0–1\n",
    "    length_norm = magnitudes / (np.max(magnitudes) + 1e-6)\n",
    "\n",
    "    # Decay angle weight as we get closer to convergence\n",
    "    angle_weight = max(1 - (iteration / n_iters), 0.1)\n",
    "    length_weight = 1.0\n",
    "\n",
    "    combined = np.vstack([\n",
    "        angle_norm * angle_weight,\n",
    "        length_norm * length_weight\n",
    "    ]).T\n",
    "\n",
    "    db = DBSCAN(eps=eps, min_samples=2).fit(combined)\n",
    "    labels, counts = np.unique(db.labels_[db.labels_ != -1], return_counts=True)\n",
    "\n",
    "    if len(counts) == 0:\n",
    "        return []\n",
    "\n",
    "    # Keep all clusters with sufficient support\n",
    "    good_clusters = [label for label, count in zip(labels, counts) if count >= min_cluster_size]\n",
    "\n",
    "    indices = [i for i, label in enumerate(db.labels_) if label in good_clusters]\n",
    "    return indices, combined"
   ]
  },
  {
   "cell_type": "code",
   "execution_count": null,
   "id": "e20588a8",
   "metadata": {},
   "outputs": [],
   "source": [
    "def plotMatchesNew(fromPoints, toPoints, angles, idx, coordsBPrime=None, add_basemap=True):\n",
    "    \"\"\"\n",
    "    Plots original and matched points, their directional vectors, and angle histogram.\n",
    "    `idx` should be the final filtered indices to highlight in yellow.\n",
    "    \"\"\"\n",
    "\n",
    "    fig, axs = plt.subplots(1, 2, figsize=(15, 5))\n",
    "\n",
    "    # Plot all points\n",
    "    fromPoints.plot(ax=axs[0],  color='red', markersize=5)\n",
    "    toPoints.plot(ax=axs[0],    color='blue', markersize=5)\n",
    "\n",
    "    # Full vector field\n",
    "    axs[0], uv = calcQuiver(axs[0], fromPoints, toPoints, color=\"black\")\n",
    "\n",
    "    # Add basemap (optional)\n",
    "    if add_basemap:\n",
    "        try:\n",
    "            cx.add_basemap(axs[0])\n",
    "        except:\n",
    "            print(\"Error adding Basemap\")\n",
    "\n",
    "    # Highlight final filtered matches\n",
    "    axs[0], uv_filtered = calcQuiver(axs[0], fromPoints.iloc[idx], toPoints.iloc[idx], color=\"yellow\")\n",
    "\n",
    "    axs[0].scatter(coordsBPrime[:, 0], coordsBPrime[:, 1], marker='x', c='red', label='B warped')\n",
    "\n",
    "    # Angle histograms\n",
    "    bins = np.linspace(-180, 180, 100)\n",
    "    axs[1].hist(angles, bins, label=\"All\", alpha=0.5)\n",
    "    axs[1].hist(angles[idx], bins, label=\"Filtered\", color=\"orange\", alpha=0.7)\n",
    "    axs[1].set_xlabel(\"Adjustment Bearing (degrees)\")\n",
    "    axs[1].set_ylabel(\"Frequency (n)\")\n",
    "    axs[1].legend()\n",
    "\n",
    "    return fig, axs\n",
    "\n",
    "\n",
    "def addGCPsandIndices(coordsA, coordsB, idx, gcps, weights):\n",
    "    if gcps is None:\n",
    "        newA = coordsA[idx, :]\n",
    "        newB = coordsB[idx, :]\n",
    "        weights = weights[idx]\n",
    "    else:\n",
    "        newA = np.vstack((coordsA[idx, :], gcps[['image_X', 'image_Y']].to_numpy()))\n",
    "        newB = np.vstack((coordsB[idx, :], gcps[['X', 'Y']].to_numpy()))\n",
    "        gcp_weights = np.ones(len(gcps))  # assume equal confidence for GCPs\n",
    "        weights = np.concatenate((weights[idx], gcp_weights))\n",
    "        print(newA)\n",
    "        print(newB)\n",
    "    return newA, newB, weights\n",
    "\n",
    "def adjustGCPs(gcps):\n",
    "    coordsA = gcps[['image_X', 'image_Y']].to_numpy()\n",
    "    coordsB = gcps[['X', 'Y']].to_numpy()\n",
    "    initial = similarityTransformation(coordsA[:, 0], coordsA[:, 1], coordsB[:, 0], coordsB[:, 1],verbose=False)\n",
    "    matrix = initial.matrix\n",
    "    coordsBprime = np.hstack((coordsB, np.ones((coordsB.shape[0], 1)))) @ np.linalg.inv(matrix).T    \n",
    "    coordsAprime = np.hstack((coordsA, np.ones((coordsA.shape[0], 1)))) @ matrix.T    \n",
    "\n",
    "    distances = np.sqrt((coordsBprime[:, 0] - coordsA[:, 0]) ** 2 + (coordsBprime[:, 1] - coordsA[:, 1]) ** 2)\n",
    "    print(distances)\n",
    "    return matrix, distances, distances > -10000\n",
    "\n",
    "def apply_adjustment_to_gdf(gdf, matrix, idx=None):\n",
    "    \"\"\"Apply 3×3 affine (homogeneous) matrix M to a subset of a GeoDataFrame and return only adjusted rows with all fields preserved.\"\"\"\n",
    "    cord_arry = getCoordsGDF(gdf)\n",
    "    if idx is None:\n",
    "        idx = np.arange(cord_arry.shape[0])\n",
    "\n",
    "    cord_arry = np.hstack((cord_arry[idx], np.ones((len(idx), 1))))\n",
    "    xy1_t = cord_arry @ matrix.T\n",
    "\n",
    "    # Extract and transform only selected rows\n",
    "    gdf_subset = gdf.iloc[idx].copy()\n",
    "    gdf_subset['geometry'] = gpd.points_from_xy(xy1_t[:, 0], xy1_t[:, 1])\n",
    "\n",
    "    return gdf_subset\n",
    "\n",
    "def extract_weights(matchresults, q_weight=0.4, o_weight=0.3, l_weight=0.3):\n",
    "    \"\"\"\n",
    "    Extracts match weights from matchresults list.\n",
    "    Uses quality tuple (q, o, l) if available, otherwise returns weight=1.\n",
    "    \"\"\"\n",
    "    weights = []\n",
    "    for m in matchresults:\n",
    "        if isinstance(m, dict) and \"qualities\" in m:\n",
    "            q, o, l = m[\"qualities\"]\n",
    "            weight = (q_weight * q) + (o_weight * o) + (l_weight * l)\n",
    "        else:\n",
    "            weight = 1.0\n",
    "        weights.append(weight)\n",
    "    return np.array(weights, dtype=np.float32)\n",
    "\n",
    "\n",
    "def adjustFromMatchingV4(matchresults, \n",
    "                         idx=None, \n",
    "                         plot=False, \n",
    "                         verbose=False, \n",
    "                         dbscan_eps=0.04, \n",
    "                         logging_dir=None, \n",
    "                         iteration_struct=(0, 10),\n",
    "                         n_internal_passes=10,\n",
    "                         filter_topn=None, \n",
    "                         distance_thresh=None,\n",
    "                         gcps=None):\n",
    "    \n",
    "    # Optional confidence filtering\n",
    "    if filter_topn is not None:\n",
    "        print(f\"Filtering top {filter_topn}\")\n",
    "        conf = [a[8][0] / a[8][1] for a in matchresults]\n",
    "        indices = np.argsort(conf)[:filter_topn]\n",
    "        matchresults = [matchresults[i] for i in indices]\n",
    "\n",
    "    if idx is None:\n",
    "        idx = np.arange(len(matchresults), dtype=np.int32)\n",
    "\n",
    "    if isinstance(matchresults[0], dict):\n",
    "        image_coords = [x[\"image_coords\"] for x in matchresults]\n",
    "        real_coords  = [x[\"real_coords\"]  for x in matchresults]\n",
    "    else:\n",
    "        image_coords = [x[5] for x in matchresults]\n",
    "        real_coords  = [x[4] for x in matchresults]\n",
    "\n",
    "    weights=extract_weights(matchresults)\n",
    "\n",
    "    fromPoints = gpd.GeoDataFrame(geometry=gpd.points_from_xy(\n",
    "        [pt[0] for pt in image_coords], [pt[1] for pt in image_coords]))\n",
    "    toPoints = gpd.GeoDataFrame(geometry=gpd.points_from_xy(\n",
    "        [pt[0] for pt in real_coords], [pt[1] for pt in real_coords]))\n",
    "\n",
    "    coordsA = getCoordsGDF(fromPoints)\n",
    "    coordsB = getCoordsGDF(toPoints)\n",
    "\n",
    "    # Iterative refinement loop\n",
    "    i, checker = 0, True\n",
    "    prev_len = len(idx)\n",
    "\n",
    "    while checker and i < n_internal_passes:\n",
    "        # Re-inject GCPs each round and do index slicing\n",
    "        coordsA_aug, coordsB_aug, weights = addGCPsandIndices(coordsA, coordsB, idx, gcps, weights)\n",
    "\n",
    "        # Estimate similarity transform FROM image TO real\n",
    "        transform = similarityTransformation(\n",
    "            coordsA_aug[:, 0], coordsA_aug[:, 1],\n",
    "            coordsB_aug[:, 0], coordsB_aug[:, 1],\n",
    "            verbose=False, rotation_limit=3, weights=weights             \n",
    "        )\n",
    "\n",
    "        matrix = transform.matrix\n",
    "\n",
    "        # Transform image to real\n",
    "        reprojectedpoints   = getCoordsGDF(apply_adjustment_to_gdf(fromPoints, matrix, idx=idx))\n",
    "        distances           = np.linalg.norm(reprojectedpoints[:, :2] - coordsB[idx], axis=1)\n",
    "\n",
    "        # reprojectedpoints_oldfashioned = np.hstack((coordsA[idx], np.ones((len(idx), 1)))) @ matrix.T\n",
    "        # distances_oldfashioned = np.linalg.norm(reprojectedpoints_oldfashioned[:, :2] - coordsB[idx], axis=1)\n",
    "\n",
    "        # Compute angular and magnitude features (FROM IMAGE TO REAL)\n",
    "        uv = coordsA - coordsB\n",
    "        angles = np.degrees(np.arctan2(uv[:, 1], uv[:, 0]))\n",
    "        magnitudes = np.sqrt(uv[:, 0] ** 2 + uv[:, 1] ** 2)\n",
    "        test = np.vstack((normArry(angles), normArry(magnitudes))).T\n",
    "        test[np.isnan(test)] = 0\n",
    "\n",
    "        # DBSCAN-based filtering\n",
    "        db_idx, current_values = most_popular_indices_2d_flexible(\n",
    "            test, eps=dbscan_eps, iteration=iteration_struct[0], n_iters=iteration_struct[1])\n",
    "\n",
    "        # Distance-based filtering\n",
    "        dist_thresh = 3 * np.median(distances)\n",
    "        dist_idx = np.where(distances <= dist_thresh)[0]\n",
    "\n",
    "        print(\"IDX\",np.where(idx)[0].shape[0])\n",
    "        print(\"DISTNACE\", np.where(dist_idx)[0].shape[0])\n",
    "        print(\"DBSCAN\", np.where(db_idx)[0].shape[0])\n",
    "\n",
    "        # Combine filters\n",
    "        idx = np.intersect1d(np.intersect1d(idx, dist_idx), db_idx)\n",
    "        print(\"INTERSECT\", np.where(idx)[0].shape[0])\n",
    "\n",
    "        print(len(idx))\n",
    "        print(idx)\n",
    "\n",
    "        # Relax filter if too few remain\n",
    "        if len(idx) < 10:\n",
    "            print(\"Loosening DBSCAN... \", end=\"\")\n",
    "            for j in range(1, 11):\n",
    "                temp_idx, current_values = most_popular_indices_2d_flexible(\n",
    "                    test, eps=dbscan_eps + 0.02 * j,\n",
    "                    iteration=iteration_struct[0], n_iters=iteration_struct[1])\n",
    "                if len(temp_idx) >= 10:\n",
    "                    idx = np.intersect1d(idx, temp_idx)\n",
    "                    print(f\"Loosened to eps={dbscan_eps + 0.02 * j}\")\n",
    "                    break\n",
    "\n",
    "        # Stop if convergence\n",
    "        if len(idx) >= prev_len:\n",
    "            checker = False\n",
    "        else:\n",
    "            prev_len = len(idx)\n",
    "\n",
    "        # Optional debug plot\n",
    "        if verbose:\n",
    "            print(f\"Iteration {i}, matrix:\\n{np.linalg.inv(matrix).T}\")\n",
    "            fig, axs = plt.subplots(1, 2, figsize=(10, 4))\n",
    "            axs[0].scatter(coordsA[idx, 0], coordsA[idx, 1], c='black', label='A')\n",
    "            axs[0].scatter(coordsB[idx, 0], coordsB[idx, 1], c='blue', label='B')\n",
    "            axs[0].scatter(reprojectedpoints[:, 0], reprojectedpoints[:, 1], marker='x', c='red', label='B warped')\n",
    "            axs[0].legend()\n",
    "            axs[1].hist(distances, bins=50)\n",
    "            axs[1].set_title(f\"Residuals (iter {i})\")\n",
    "            fig.savefig(logging_dir[:-3] + f\"_iteration{i}.jpg\")\n",
    "            if not plot:\n",
    "                plt.close(fig)\n",
    "            else:\n",
    "                plt.show()\n",
    "\n",
    "        i += 1\n",
    "\n",
    "    if len(idx) == 0:\n",
    "        print(f\"DBSCAN FILTER FAILED. FALLING BACK ON ALL POINTS.\")\n",
    "        idx = np.arange(len(matchresults), dtype=np.int32)\n",
    "        coordsA = getCoordsGDF(fromPoints)\n",
    "        coordsB = getCoordsGDF(toPoints)\n",
    "        coordsA_aug, coordsB_aug, weights = addGCPsandIndices(coordsA, coordsB, idx, gcps, weights)\n",
    "\n",
    "        # Transform image to real\n",
    "        reprojectedpoints   = getCoordsGDF(apply_adjustment_to_gdf(fromPoints, matrix, idx=idx))\n",
    "        distances           = np.linalg.norm(reprojectedpoints[:, :2] - coordsB[idx], axis=1)\n",
    "\n",
    "        # Estimate similarity transform FROM image TO real\n",
    "        transform = similarityTransformation(\n",
    "            coordsA_aug[:, 0], coordsA_aug[:, 1],\n",
    "            coordsB_aug[:, 0], coordsB_aug[:, 1],\n",
    "            verbose=False, rotation_limit=3, weights=weights             \n",
    "        )\n",
    "\n",
    "        matrix = transform.matrix\n",
    "\n",
    "        return matrix, distances, idx, None\n",
    "\n",
    "    # Final distance threshold (optional)\n",
    "    if distance_thresh is not None and 'distances' in locals():\n",
    "        n_before_dfilt = distances.shape[0]\n",
    "        distances = distances[idx]\n",
    "        idx = idx[distances < distance_thresh]\n",
    "        distances = distances[distances < distance_thresh]\n",
    "        if verbose:\n",
    "            print(f\"DISTANCE THRESHOLD REMOVED {n_before_dfilt - distances.shape[0]}\")\n",
    "    \n",
    "    # Optional initial plot\n",
    "    if logging_dir is not None and 'angles' in locals():\n",
    "        fig, axs = plotMatchesNew(fromPoints, toPoints, angles, idx, coordsBPrime=reprojectedpoints)\n",
    "        fig.savefig(logging_dir)\n",
    "        if not plot:\n",
    "            plt.close(fig)\n",
    "        else:\n",
    "            plt.show()\n",
    "\n",
    "    return matrix, distances, idx, current_values\n",
    "\n",
    "def registerImagesV3(group_name, im_corner_gdf, corners_curr, im_corner_arry, descriptor_kwds, \n",
    "                     r_initial=500, \n",
    "                     r_min=300,\n",
    "                     verbose=1, \n",
    "                     distance_threshold=10,\n",
    "                     n_iters=20,\n",
    "                     r_change=0.6,\n",
    "                     ratio_threshold=0.9,\n",
    "                     dbscan_ini=0.04,\n",
    "                     dbscan_max=0.1,\n",
    "                     gcps=None,\n",
    "                     logging_dir=None,\n",
    "                     n_internal_passes=10,\n",
    "                     remove_stdev=True\n",
    "                     ):\n",
    "    \n",
    "    compoundedAdjustment = np.eye(3)\n",
    "    \n",
    "    os.makedirs(logging_dir, exist_ok=True)\n",
    "    logging_basename = os.path.join(logging_dir, group_name)\n",
    "\n",
    "    matching_results = None\n",
    "    im_corner_gdf_adj = im_corner_gdf.copy()\n",
    "    im_corner_gdf_adj['orig_x'] = im_corner_gdf_adj.geometry.x\n",
    "    im_corner_gdf_adj['orig_y'] = im_corner_gdf_adj.geometry.y\n",
    "\n",
    "    registration_struct = {}\n",
    "    registration_struct['best_grade']       = 1e9\n",
    "    registration_struct['grades']           = []\n",
    "    registration_struct['transforms']       = []\n",
    "    registration_struct['points']           = []\n",
    "\n",
    "    for i in range(n_iters):\n",
    "        \n",
    "        r_current = r_initial * r_change ** i\n",
    "        dbscan_curr = dbscan_ini + dbscan_ini * i\n",
    "        \n",
    "        dbscan_curr = min(dbscan_curr, dbscan_max)\n",
    "        r_current   = max(r_current, r_min)\n",
    "\n",
    "        # MAIN P1\n",
    "        print(\"Enter Matching\")\n",
    "        matching_results_curr, im_corner_gdf_adj, _ = matching_distances_loosen_distance(im_corner_gdf_adj, corners_curr, \n",
    "                                                                    ratio_threshold=ratio_threshold, \n",
    "                                                                    match_radius=r_current, \n",
    "                                                                    num_retries=10,\n",
    "                                                                    loosening_factor=0.25,\n",
    "                                                                    quality_weight=0.5, \n",
    "                                                                    **descriptor_kwds)\n",
    "        \n",
    "        if matching_results is None:\n",
    "            matching_results = matching_results_curr\n",
    "        else:\n",
    "            matching_results = updateResults(matching_results, matching_results_curr, verbose=verbose>3)\n",
    "        \n",
    "        print(len(matching_results))\n",
    "        if len(matching_results) < 3:\n",
    "            registration_struct[i] = {}\n",
    "            registration_struct[i][\"matching_results\"]   = matching_results\n",
    "            return None, registration_struct\n",
    "        \n",
    "        if i == 0 and gcps is not None:\n",
    "            current_adjustment, distances, idx = adjustGCPs(gcps)\n",
    "        else:\n",
    "            # TODO: REMOVE DB_scan_values. They were for troubleshotting the unending filtering caused by repeated passes during fine tuning\n",
    "            current_adjustment, distances, idx, DB_scan_values = adjustFromMatchingV4(matching_results, plot=verbose>8, \n",
    "                                                        dbscan_eps=dbscan_curr,\n",
    "                                                        verbose=verbose>8,\n",
    "                                                        gcps=gcps,\n",
    "                                                        n_internal_passes=n_internal_passes,\n",
    "                                                        distance_thresh=r_current,\n",
    "                                                        iteration_struct = (i, n_iters),\n",
    "                                                        logging_dir=None if logging_dir is None else logging_basename + f\"_iteration{str(i).zfill(2)}.jpg\")\n",
    "        \n",
    "            matching_results = [matching_results[i] for i in idx]\n",
    "\n",
    "\n",
    "        im_corner_gdf_adj = apply_adjustment_to_gdf(im_corner_gdf_adj, current_adjustment)\n",
    "\n",
    "        scale       = np.sqrt(0.5 * (current_adjustment[0,0] ** 2 + current_adjustment[1,1] ** 2))\n",
    "        translation = np.sqrt(current_adjustment[0,2] ** 2 + current_adjustment[1,2] ** 2)\n",
    "\n",
    "        if verbose > 0:\n",
    "            print(np.nanpercentile(distances, [0, 25, 50, 75, 100]), len(matching_results), len(distances[distances<100]))\n",
    "\n",
    "        if verbose > 3:\n",
    "            print(f\"Distances under 100: {distances[distances<100]}\" )\n",
    "            \n",
    "        if verbose > 8:\n",
    "            print(f\"Scale {scale:.3e}\")\n",
    "            print(f\"Translation {translation:.3e}\")\n",
    "        \n",
    "        if verbose > 10: \n",
    "            print(current_adjustment)\n",
    "            print(\"Inverse\")\n",
    "            print(np.linalg.inv(current_adjustment))\n",
    "\n",
    "        # IF BEST, SAVE AS BEST\n",
    "        if np.nanpercentile(distances, 50) < registration_struct['best_grade']:\n",
    "            registration_struct['best_grade']             = np.nanpercentile(distances, 50)\n",
    "            registration_struct['best_im_corner_gdf_adj'] = im_corner_gdf_adj\n",
    "\n",
    "        # SAVE CURRENT TIMESTEP VALUES\n",
    "        registration_struct[i] = {}\n",
    "        registration_struct[i]['grade']     = np.nanpercentile(distances, 50)\n",
    "        registration_struct[i]['adjust']    = current_adjustment\n",
    "        registration_struct[i]['comp_adj']  = compoundedAdjustment\n",
    "        registration_struct[i][\"matching_results\"]   = matching_results\n",
    "        registration_struct[i][\"distances\"]          = distances\n",
    "        registration_struct[i][\"DB_scan_values\"]     = DB_scan_values\n",
    "        \n",
    "        registration_struct['points'].append(im_corner_gdf_adj)\n",
    "        registration_struct['grades'].append(np.nanpercentile(distances, 50))\n",
    "        registration_struct['transforms'].append(current_adjustment)\n",
    "\n",
    "        # CHECK IF WE HAVE ANY CONDITIONS FOR EARLY STOPPING\n",
    "        matched_check = np.nanpercentile(distances, 50) < distance_threshold\n",
    "        conv_check  = np.abs(1 - scale) < 0.002 and translation < distance_threshold\n",
    "\n",
    "        if (matched_check or conv_check) and i > 1:\n",
    "            print(matched_check, conv_check)\n",
    "            break\n",
    "\n",
    "    with open(logging_basename+\".pkl\", 'wb') as handle:\n",
    "        pickle.dump(registration_struct, handle, protocol=pickle.HIGHEST_PROTOCOL)       \n",
    "\n",
    "    return registration_struct['best_im_corner_gdf_adj'], registration_struct\n"
   ]
  },
  {
   "cell_type": "code",
   "execution_count": 11,
   "id": "f9259695",
   "metadata": {},
   "outputs": [],
   "source": [
    "\n",
    "def loadGCPs(mydir, tile_dir, ra_ref):\n",
    "    if os.path.exists(mydir):\n",
    "        gcps_df = pd.read_csv(mydir)\n",
    "        gdfs = []\n",
    "\n",
    "        for i, tile in enumerate(tile_dir):\n",
    "            curr_name = os.path.basename(tile).split(\".\")[0]\n",
    "            curr_df   = gcps_df[gcps_df['ID'] == curr_name]\n",
    "            curr_gdf = pointsToGeodataFrame(ra_ref[i], curr_df['row'].to_numpy(), curr_df['col'].to_numpy())\n",
    "            gdfs.append(curr_gdf)\n",
    "        \n",
    "        \n",
    "        a = gpd.GeoDataFrame(pd.concat(gdfs, ignore_index=True))\n",
    "\n",
    "        gcps_df['image_X'] = np.array([aa.x for aa in a['geometry']])\n",
    "        gcps_df['image_Y'] = np.array([aa.y for aa in a['geometry']])\n",
    "        return gcps_df\n",
    "    else:\n",
    "         return None\n",
    "def getBBOX(im_file, RLNN):\n",
    "    bounds, RLNN = findBounds(im_file, RLNN)\n",
    "\n",
    "    # IF BOUNDS FOUND, USE. ELSE, USE IMAGE BOUNDS\n",
    "    if len(bounds[0]) < 1:\n",
    "        print(f\"COULD NOT FIND BOUNDS, USING IMAGE EXTENTS {tile_name}\")\n",
    "        bbox = [0, 0, image.shape[0], image.shape[1]]\n",
    "        datebox = [ int(image.shape[1] * 0.75), int(image.shape[0] * 0.75), image.shape[1], image.shape[0]]\n",
    "    else:\n",
    "        bbox = bounds[0].boxes.xyxy.numpy().astype(np.int32)[0].flatten()\n",
    "    return bbox, RLNN\n",
    "\n",
    "def getTileCorners(tile_dir, ra_ref, conf_thresh=0.3, filter_by_bounding_box=True):\n",
    "\n",
    "    tile_name = os.path.basename(tile_dir).split(\".\")[0]\n",
    "\n",
    "    with open(f\"{corner_dir}/{tile_name}.pickle\", 'rb') as f:\n",
    "        x = pickle.load(f)    \n",
    "        corner_bbox = [a.bbox.to_xyxy() for a in x if a.score.value > conf_thresh]\n",
    "        corner_arry = np.array([calcCenter(a) for a in corner_bbox ]) * 2\n",
    "        corner_confs = np.array([a.score.value for a in x if a.score.value > conf_thresh])\n",
    "        print(f\"{len(corner_bbox)} / {len(x)}\")\n",
    "\n",
    "    if len(corner_bbox) == 0:\n",
    "        return None, None\n",
    "\n",
    "    corner_arry  = np.int32(corner_arry)\n",
    "    corner_confs = np.float32(corner_confs)\n",
    "\n",
    "    if filter_by_bounding_box:\n",
    "        bbox, _ = getBBOX(tile_dir, None)\n",
    "        corner_arry, corner_confs = cleanCenterBBOX(corner_arry, bbox, opt_return=[corner_confs])\n",
    "\n",
    "    # USE RASTER TRANSFORM TO GET REAL-WORLD ESTIMATES OF STREET CORNERS\n",
    "    im_corner_gdf = pointsToGeodataFrame(ra_ref, corner_arry[:, 1], corner_arry[:, 0])\n",
    "    return im_corner_gdf, corner_confs\n",
    "\n",
    "\n",
    "def cornerConfsToDescriptorWeights(corner_confs):\n",
    "    q99 = np.percentile(corner_confs, 99)\n",
    "    return np.clip(corner_confs / q99, 0, 1)\n",
    "\n",
    "def estimate_per_image_transforms(im_corner_gdf_adj):\n",
    "    \"\"\"Estimate similarity transforms per image from adjusted GDF.\"\"\"\n",
    "    transform_dict = {}\n",
    "\n",
    "    grouped = im_corner_gdf_adj.groupby(\"source_image\")\n",
    "\n",
    "    for source_image, gdf in grouped:\n",
    "        if len(gdf) < 3:\n",
    "            print(f\"Skipping {source_image}: not enough points.\")\n",
    "            continue\n",
    "        \n",
    "        coords_adj = getCoordsGDF(gdf)\n",
    "\n",
    "        transform = similarityTransformation(\n",
    "            gdf[\"orig_x\"].values, gdf[\"orig_y\"].values,\n",
    "            coords_adj[:, 0], coords_adj[:, 1], rotation_limit=5,\n",
    "            verbose=False\n",
    "        )\n",
    "\n",
    "        transform_dict[source_image] = transform\n",
    "\n",
    "    return transform_dict"
   ]
  },
  {
   "cell_type": "code",
   "execution_count": 34,
   "id": "7186201f",
   "metadata": {},
   "outputs": [],
   "source": [
    "detector_conf_thresh = 0.05\n",
    "\n",
    "registration_kwds = {\n",
    "    \"distance_threshold\": 30,\n",
    "    \"n_iters\": 10,\n",
    "    \"r_min\": 250,\n",
    "    \"r_initial\": 300,\n",
    "    \"ratio_threshold\": 0.95,\n",
    "    \"r_change\": 0.95, \n",
    "    \"dbscan_ini\": 0.1,\n",
    "    \"dbscan_max\": 0.2,\n",
    "    \"n_internal_passes\" : 1,\n",
    "    \"gcps\": None,\n",
    "    \"verbose\": 5,\n",
    "    \"logging_dir\": f\"{registration_dir}/logs/\"\n",
    "}"
   ]
  },
  {
   "cell_type": "code",
   "execution_count": 35,
   "id": "777df4d4",
   "metadata": {},
   "outputs": [
    {
     "name": "stdout",
     "output_type": "stream",
     "text": [
      "D:\\CaseStudies\\CornerDigitization\\FineAdjustment\\\\referencing\\48201C0835J.tif\n",
      "1244 / 4721\n",
      "Enter Matching\n"
     ]
    },
    {
     "data": {
      "application/vnd.jupyter.widget-view+json": {
       "model_id": "8199b6969d7f4fdaa3c182f932ceb3d4",
       "version_major": 2,
       "version_minor": 0
      },
      "text/plain": [
       "Calculating Descriptors:   0%|          | 0/4301 [00:00<?, ?it/s]"
      ]
     },
     "metadata": {},
     "output_type": "display_data"
    },
    {
     "data": {
      "application/vnd.jupyter.widget-view+json": {
       "model_id": "6b0662186d9b4acba2a5d10b986008e8",
       "version_major": 2,
       "version_minor": 0
      },
      "text/plain": [
       "Calculating Descriptors:   0%|          | 0/1243 [00:00<?, ?it/s]"
      ]
     },
     "metadata": {},
     "output_type": "display_data"
    },
    {
     "data": {
      "application/vnd.jupyter.widget-view+json": {
       "model_id": "7d24363d79a0433a906d2c44622cf4d6",
       "version_major": 2,
       "version_minor": 0
      },
      "text/plain": [
       "Descriptor Matching (Flipped):   0%|          | 0/1243 [00:00<?, ?it/s]"
      ]
     },
     "metadata": {},
     "output_type": "display_data"
    },
    {
     "name": "stdout",
     "output_type": "stream",
     "text": [
      "830\n",
      "IDX 829\n",
      "DISTNACE 578\n",
      "DBSCAN 829\n",
      "INTERSECT 578\n",
      "578\n",
      "[  2   4   7   8   9  10  11  12  13  14  16  17  18  19  20  21  23  24  25  26  27  28  29  30  31  32  33  34  35  36  37  38  39  40  41  42  43  44  45  46  47  48  49  50  51  52  53  54  58  60  61  62  63  64  65  66  67  68  69  70  71  72  73  74  75  76  77  78  79  80  81  82  83  85  86  87  88  89  90\n",
      "  94  96  97  98  99 100 101 102 103 104 105 106 107 108 111 112 113 114 115 116 117 118 119 120 121 122 125 126 127 128 129 130 131 132 134 136 138 139 140 141 142 143 144 145 146 147 148 149 150 152 153 154 155 156 158 160 161 162 163 164 166 168 169 170 172 173 175 176 177 179 180 181 182 183 184 185 186 188 189\n",
      " 190 191 192 195 196 198 199 200 201 203 204 205 206 207 208 211 212 214 215 216 217 218 220 223 224 225 226 227 228 229 230 231 232 233 234 235 236 238 240 242 243 245 246 247 248 249 250 251 253 254 255 256 259 260 262 265 266 269 271 273 275 276 278 279 280 281 282 283 284 285 286 287 289 291 292 293 294 295 296\n",
      " 298 299 300 302 303 304 305 306 309 310 311 312 313 314 315 316 317 319 321 322 324 325 327 328 329 330 332 334 336 338 339 341 342 344 345 347 348 349 351 352 353 355 356 357 359 360 361 362 365 366 367 369 370 371 373 374 375 376 377 379 380 382 383 385 386 387 388 389 390 391 392 393 396 398 399 400 401 402 404\n",
      " 405 406 407 408 409 410 412 414 416 417 420 421 424 425 426 427 428 431 435 436 437 438 441 442 444 445 446 447 448 449 450 451 452 453 455 456 459 460 461 463 464 465 466 468 469 471 473 474 475 477 478 480 481 482 483 484 485 486 487 488 489 490 491 492 497 498 504 506 507 509 510 511 515 516 517 519 520 521 523\n",
      " 524 525 526 528 529 532 533 535 536 537 539 540 542 543 544 546 547 548 549 550 551 553 554 556 557 560 561 562 565 566 567 568 569 572 573 576 577 578 579 581 582 583 584 586 587 589 591 592 593 595 597 598 599 600 601 602 603 604 605 606 607 609 611 612 614 616 617 620 621 622 624 625 628 630 632 635 636 638 639\n",
      " 640 641 642 644 646 647 653 654 655 657 660 661 662 663 664 666 669 670 673 675 676 680 681 682 686 687 689 690 691 692 694 696 697 698 699 700 702 705 706 707 708 709 711 717 720 721 722 724 726 728 730 731 734 737 738 741 743 744 746 749 750 752 754 758 762 763 764 765 767 770 771 773 774 777 778 780 781 782 785\n",
      " 788 789 790 791 792 795 797 798 800 802 807 808 809 811 816 817 818 819 820 821 823 824 825 828 829]\n",
      "[  1.90113555  18.40210562  26.34377195  45.03924673 120.01276602] 578 544\n",
      "Distances under 100: [42.36161173 19.40333011 37.56833112 28.57666053 15.77708634  5.31597432 24.62139645 28.26951901 32.91131366 31.72123359 26.78982816 12.4924563  15.08262862 32.84964411 20.84896315 19.51565218 23.20041672 30.43289968 25.92935078 18.30451731 33.30059126 10.82174936 23.04222862 19.27264125 24.23047055 11.83781548\n",
      " 19.5538266  88.78888332 20.64891176 26.56514192 12.10930049 26.22108497 19.04474066 20.89101667 96.42823783 72.33167369 41.76379834 27.57604185  8.15990011 17.90725879 11.23237657 19.20326957 20.36206257 24.19260288 17.32640299 42.01707814 98.26193138 24.8272177  10.6582248  25.58920863 24.92542102  5.62509223\n",
      "  8.08548685 21.13127096 17.30966512 24.04610322 24.32926886 30.45099387 20.69176944 15.21134547 25.25157758 15.92391251 29.44978158 41.0846085   4.81014344 20.88478216 12.4149668  29.55095416 14.76132489 26.05992134 19.21309205 29.77150385 24.20664659 15.13483914 15.63499343 29.17403291 82.65678043 21.41918791\n",
      " 22.41162604 26.09973033 23.77684706 24.9225393  15.80227267 18.19821554 30.0860317  29.44489376 40.53075904 13.08393503 29.85643603 23.02303778 19.45988645 94.71335668 19.6273192  21.77093815  3.78687147 22.28089703 28.67491585 29.30439718 23.61183983 20.30643801 13.97345688 22.14260762 18.41141501 98.36446488\n",
      " 27.39082546  9.35205045 18.078961   82.49796822 22.26622946 18.58432361 27.51378831 23.90429262 14.6400042  20.62628699 26.5070336  22.63966496 24.96769696 24.18260789 81.78205707 21.17570753 40.97398716 26.55622246 13.5916833  16.87446858 29.20110809 15.9355126  20.6769611  17.2317824  61.83799875  4.90152973\n",
      " 30.90372609 29.7078064  14.32584131 27.88308171 36.27809487 22.7559935  25.61847267 26.51047861 16.91454755 13.53124366 27.3799584   8.31115107 14.30296195 18.70956879 24.57008937 28.76944975 32.19785809  7.74746337 90.76806002 22.53249659 19.83530752 60.27274566 22.50979103 31.41208977 15.50368762 25.46256358\n",
      " 25.96879592  4.38657892 95.05216875 11.67892092 46.37146307 51.18113426 25.76877878 45.64491085  4.49331602 11.54722088 22.50568441 83.36346613  8.2496808  37.58285795 13.5057936  20.65389687 15.78404304 33.95109278 28.73775362 19.67185728 89.34877107 23.18863456 19.21294114 22.06972163 33.97072873 14.65642643\n",
      "  9.65752653 93.53017499 13.84297024 18.61488814 26.36750218 11.10783118 16.27242178  4.61685121 31.30012471 73.65205618 28.42759667 14.8536222  31.62926493 15.23332036 92.52545769 26.32004173 61.6354804   8.5613019  24.91058895 23.6808187  36.07219899 29.91634049 16.19713031 13.28199199 21.96299922 20.75930283\n",
      "  8.01927727 18.3990025  21.7564489  20.83279623 22.45137485 17.6826749  18.09920263 18.51062083 21.0896932  33.76461314 60.50614971 49.73867016  8.06048761 40.41869209 16.03787298 26.31484273 17.97227836 29.54836464 35.93310318 17.00082681 32.06158971 19.2593737  50.48599549 17.89644013 39.529583   10.3626514\n",
      " 50.1966441  21.43799976  6.03419228 21.2675715  29.42225564 23.83461327  7.81895535 31.55785987 23.09001451 14.67052202 19.23925879 55.54211985 88.05833775 12.20965415 84.16194888 17.60574445 34.07724169 24.90335313 31.3046015  14.43914552 13.37250763 26.68670395 26.91284178 34.3243985  15.53700765 37.78369739\n",
      " 22.59354897 76.41467222 17.45760011 84.04864505 11.32455613 17.22419079 26.49641694 35.24947935 16.51767175 35.80259455 18.48852013 26.26466594 33.15459545  1.90113555 19.8536864  26.47126673 26.29207487 33.22339839  8.2000761  20.85964995 14.8237903  86.90578931 16.14410814 18.27918837 19.86661979 34.2569631\n",
      " 13.29815809 20.43840057 21.5328097  34.58321269 15.09203903  7.02196791 87.7017469  17.10135366 90.50096566 23.53758124 48.17643946 27.90758674 18.47210067 33.08154593 20.8307873  18.91948838 12.82390321 53.94390068 20.16972033 83.2343897  12.45631086 28.1173491  99.99820885 14.10833556 14.74023212 24.44017554\n",
      " 15.38634519 16.71127412 40.15629001 70.9402416  11.36884315 28.07830383 82.28855557 81.00762555 40.08325822 26.71997868 16.267651   18.20247752 22.64846354 19.02503719 94.97670573 48.41369633 18.93580356 30.65626098 20.12717136  9.74341927 27.64348833 82.6794311   5.61432817 18.67220627 26.10322277 90.231652\n",
      " 90.93044607 67.00635334 94.90361204 50.53794646 28.14395878 17.27884601 13.03439059 27.93045407  7.41911075 18.14240296 30.78069454 42.25632473 14.72239621 31.05056677 19.10422136 16.75670758 17.06097971 25.49685356 30.64856756 38.26869803 26.49679718 86.4275641  22.23304991  8.3298676  50.40660818 16.54394613\n",
      " 23.64263544 27.76905389 50.69340091 20.04830618  8.94224351 30.97609847 23.46070143  8.20259351 19.84905411 74.30367521 37.3365313  10.72586758 15.27979006 46.82791647 27.72747395 48.3053772  15.14767967 25.38532591 22.90183369 79.17669675  5.60223811 99.99453689 17.42188157 13.47193125 21.67563694 32.61178615\n",
      " 26.17776639 38.48025867 17.429063   22.92886187 89.02486507 13.61388509 21.00626337 25.67620347 89.87580872 67.86740134 22.2661462  20.88937609 14.70554291 38.26017782 25.75638756 20.93445474 24.69093133 17.67564013 38.67356502 21.13851084 32.85443704 94.38350186  9.98782192 71.48305206 82.48869305 23.93062731\n",
      " 18.09166773  9.69235975 39.76699926 42.39744556 94.05514461 10.58880129  5.54048577 42.07231342 56.34510763 30.88940683 33.41366318 28.67825681 51.10640907 24.56453391 17.50209824 34.90452173 79.93267572 30.66948217 16.79582628 26.89673895 16.88721556 28.93848097 90.09406276 42.27511918 29.61586037 23.24368806\n",
      " 88.41712711 48.16021577 24.64260285 30.44050024 77.85645554 34.81504644 40.23250564 17.084273   55.67291644 23.25139383 35.22097727 44.91686724 19.82811503 91.92524004 59.29995054 57.76036577  6.08998065 27.65861096 91.33163058 30.12043859 97.31918093 87.73131141 61.22911441 60.50360131 27.91305811 37.46326453\n",
      " 25.61911813 15.74674777 31.38534278 31.60975922 43.72167749 81.78641965 18.43916934 23.93912197 33.04040431 83.79536255 21.7375837  59.46975332 70.81476129 24.39857657 14.30743813 16.09400516 34.32549815 82.66037098 46.65782649 33.9918307  39.98278033 44.14526355  9.00087854 98.39811957 14.15164859 96.09455984\n",
      " 77.31925077 82.33042777 13.90043658 49.53767444 43.88852173 33.25888415 84.08705632 16.52581233 15.06455059 35.70323395 66.64524021 54.76462041 45.0800399  86.06788929 15.00071792 36.96109926 37.5614633  14.9004596  35.24375474 22.92316716 91.5266845  69.69288296 47.3996264  42.68268529 22.83013609 54.1026061\n",
      " 37.59847299 72.33855298 38.29423413 29.41399323 60.34122024 56.17685715 97.4724065  77.87983327 48.62584612 32.33613961 36.80678569 22.30993496 19.56092978 54.31019027 46.26346702 80.58604985 38.29058986 26.93874756 97.65266717 59.72132721 35.68305799 32.91231183 15.48342426 19.05232121]\n",
      "Enter Matching\n"
     ]
    },
    {
     "data": {
      "application/vnd.jupyter.widget-view+json": {
       "model_id": "756fa21a9931406b80ce01c53adeda6a",
       "version_major": 2,
       "version_minor": 0
      },
      "text/plain": [
       "Descriptor Matching (Flipped):   0%|          | 0/1243 [00:00<?, ?it/s]"
      ]
     },
     "metadata": {},
     "output_type": "display_data"
    },
    {
     "name": "stdout",
     "output_type": "stream",
     "text": [
      "Results Update: 578 821 612\n",
      "612\n",
      "IDX 611\n",
      "DISTNACE 427\n",
      "DBSCAN 611\n",
      "INTERSECT 427\n",
      "427\n",
      "[  1   2   3   4   5   6   7   8   9  10  11  12  13  14  15  16  17  18  19  20  21  22  23  24  25  26  28  29  30  31  32  33  34  35  36  37  38  39  40  41  42  43  44  45  46  48  49  50  51  52  53  54  55  56  57  58  59  61  62  63  64  65  66  67  68  69  71  72  73  74  75  76  79  80  81  82  83  84  86\n",
      "  87  88  89  90  91  92  93  95  96  97  98  99 100 101 102 103 104 105 106 107 108 110 111 112 113 114 115 116 118 119 120 122 123 125 126 127 128 129 130 132 133 134 135 136 137 138 140 141 142 143 144 145 146 147 148 149 152 153 154 155 156 157 158 159 160 161 162 163 164 165 166 167 168 169 171 172 173 174 175\n",
      " 176 178 179 180 181 182 183 184 185 186 187 188 190 192 193 194 195 196 197 198 199 200 201 202 203 204 205 206 207 208 209 210 211 212 213 214 215 216 217 218 219 220 221 222 223 224 225 226 228 229 230 231 232 233 236 237 239 240 241 242 243 244 245 246 247 248 249 250 251 252 253 255 256 257 258 259 260 261 262\n",
      " 264 265 267 268 269 270 271 272 273 274 275 276 277 278 279 280 281 282 283 284 285 286 287 288 289 290 291 292 293 294 295 296 297 298 299 301 304 305 306 307 308 309 310 311 312 314 315 316 317 318 319 320 321 322 323 324 325 326 328 329 332 334 335 336 337 338 339 340 341 342 343 344 345 346 347 348 349 350 352\n",
      " 353 354 355 356 357 358 359 362 363 364 365 366 368 370 371 372 373 375 376 377 378 379 380 381 383 385 386 387 388 389 390 391 392 393 395 396 397 398 399 401 402 403 404 405 406 408 409 411 412 413 414 416 417 421 422 423 424 425 426 427 428 429 430 431 432 433 434 435 436 437 438 439 440 442 443 445 447 448 449\n",
      " 451 452 453 454 457 458 459 460 461 462 463 464 465 467 471 472 473 474 475 476 477 478 479 480 482 483 487 489 497 524 530 598]\n",
      "[ 0.82324189 13.48847988 19.37212147 26.18143402 73.50907418] 427 427\n",
      "Distances under 100: [10.54944852 22.58519034 11.32120046 17.19532276  7.35304884 16.67048201 17.90611266 23.95402794 22.35690708 16.97112533 15.3301237  13.50814998 25.28897717 23.34718948 26.01464105 18.11763795 20.4567391  16.32492045 21.35409645 22.63559143 23.90202335 22.73032276 25.80680618 11.85133401 14.94586057  8.81334592\n",
      " 19.88182732 18.56264566 12.04172762 34.56840553 18.40866158 16.29081089 24.76888434 64.019274   29.36130759 25.5346446  11.19376424 19.80454206 15.11323    18.35463581 13.67379502 25.59401561 12.81265134 14.05188064 38.2281319  16.71139566 15.467614   24.64977277 25.99703365 11.1347414  10.61308291 22.38459033\n",
      " 21.91691568  9.86121236 24.38615356 23.89503034 18.10081872 11.92260208 20.15221705 13.48974579 26.31423544 27.70253258  5.66045144 18.74882543 16.04342948 24.75729738 19.76740213 16.99149088 30.76469116 19.25512249  5.0541968  28.86853443 21.11474443 22.04960386 31.20079068 20.68437827 18.81833854 16.87357294\n",
      "  9.039004   17.93432776 28.93620247 35.57787657 11.53904441 29.97203056 10.45371695 17.64507466 25.94133227 27.89436007  8.4089468  22.27265229 23.30568133 28.30626836 15.46251956 19.37212147 16.69778198 65.45389095 16.28081356 26.33948469 13.7128969  17.15456847 21.67596386 24.95103638 27.27341556 20.76617772\n",
      " 21.57307964 20.11109796 19.58454261 22.90081958 18.23628789 21.50133482 14.548488   37.58466141 31.34447334 13.19282161 23.03521107 19.328262   16.59478397 17.58946948  7.64862231 16.77669086 23.74235667 14.79838076 25.28091553 24.25982345 20.12733627 10.17458992 23.20860769 11.57747649 14.89966724 16.99742666\n",
      "  6.92816843 21.1551927  21.01895278 29.24006189 12.65219298 21.31200626 17.37977536 39.62499038 22.30542006 20.85185382  6.2108243  24.09110356 33.07524196  6.45960922 14.2777198  32.42908214 37.31136305 12.76362929 29.50610691  7.71508133 15.55831053 15.53554312 18.46102951 11.01431735 28.20451412 15.62003503\n",
      " 12.58841981  9.65883351 29.33385141 16.04330584 24.94128009 10.11337858 30.0609846   9.54797034 12.41314468 12.43126546 16.16874223  6.34146648 14.19798607 15.31654077  7.50430349 59.84527161 19.78291463  0.82324189 29.0985088  16.67830243 20.15420558 58.57482742 11.51226815  9.96701806 15.014046   31.87026294\n",
      " 29.25317852 19.58558967 13.49270988 12.00240114 19.66539546 11.3991814  21.41944167 13.16470649 20.51066716 19.75619219 17.52457045  9.43354715 17.63964688 19.70113356 44.59393517 33.21048785 11.54517342 30.27634999 23.08159647 17.77990352 14.45094046 20.54953256 21.00167532  8.10578867 16.50249671 44.03877494\n",
      " 17.74513269 14.82859415 34.94333604 19.55568377 12.86936483 21.92284382 28.24482942 24.09183177  8.86200226 15.53731527 22.63588436 37.91111943 10.57271401 38.6379414  24.07620059 56.4884811  14.62028797 31.72437059 11.98835765 16.87497593 11.30194053 22.59173835 32.77664048 24.52181396 22.34436845  5.9435963\n",
      " 37.72982302 22.48127336 30.22978772  9.94101917 13.00619746 13.67262312 28.07251997 19.29234433 22.26074851 38.49867123 17.00967788 13.48721397  4.86267342 21.89708651 15.14071763 23.96485555 10.161521   10.02474631 11.23187621  7.01213252  8.75037574 17.15694824 30.88925078 10.80382235 22.5377523  17.6369472\n",
      " 29.6817669  10.23750183  1.62837568  8.85920645 13.41897938 37.31738328 23.65864266 16.58660211 20.75408381 19.41402318 15.31279804 71.3930229   7.89717467 12.40676649  4.47878238 21.42858245 19.53968312 16.26951641 27.54705201 36.7669264  13.85058086 12.14488275 39.63346189 12.26347261  8.63996075 16.267945\n",
      " 14.65289111 14.34962227 33.03385284 19.21561893 10.7242485  18.28163585 22.44504362 20.00269415 15.36247558 27.64446085 13.9105931  23.76858508  7.15812223 22.61249663 11.77375826 11.14587285 18.40992814 26.2567512   9.75991469 58.27385446 10.66706551 19.30773813 11.09069711 22.49012384 30.03725644 32.03864692\n",
      " 12.41955011  9.68407627 36.22457902 11.80141833 11.51038991 26.5278649  16.11045548  9.69116718 17.70613865 21.52806181 11.19911851 25.14515316 13.53480877 41.334398   33.71390779 11.97613417 20.77286151  6.42942216 17.77227604  5.77558603 29.16042284 21.73518384 22.89891501 10.72529631 14.70344287 17.33973727\n",
      " 15.59757765 16.93309845 13.58307078 18.69423273 16.2168911  20.87188245 21.77042721 16.61624145 12.74227147 12.72264567 39.86242261 15.47982713  9.23694895 44.23354446 10.48307634  8.78262964  9.80707981 42.27497338 20.73454789 10.04653187 35.02562976 38.27098205 28.27165077 32.81896543 10.9879294  22.77117954\n",
      " 26.10611684 13.66681227 24.4237676  35.51984439 18.71922607 36.23499299 72.43076219 29.91018066 21.48238544 10.25856027 14.01758361 21.19138236 61.5664672   5.57034624 53.62112723  7.71880117 22.34601552 73.50907418 25.33527958 60.69249552 23.12328702 27.12259225 26.81690209 34.99381658 20.47880512 11.45496152\n",
      " 11.73567521 68.99622381 29.18037469  5.04398976 17.7263513  45.79318759 23.89684611 28.40985288 36.95352952  8.92556506 42.15466464 27.13414627 16.50848598 15.84117923 26.80017921 68.33935229 46.58781045 42.1824115  11.46206983 42.58486397  6.90020248 39.69799225 31.19486479 43.34698814 47.8458458  44.57039933\n",
      " 16.99680909 20.00084699 42.31421597 31.07196503 28.2426236  32.962599   19.06232737 11.43191889 28.24318791 13.94729323 66.98370256]\n",
      "Enter Matching\n"
     ]
    },
    {
     "data": {
      "application/vnd.jupyter.widget-view+json": {
       "model_id": "8d65038f9bf449a0beb18f229a677dc4",
       "version_major": 2,
       "version_minor": 0
      },
      "text/plain": [
       "Descriptor Matching (Flipped):   0%|          | 0/1243 [00:00<?, ?it/s]"
      ]
     },
     "metadata": {},
     "output_type": "display_data"
    },
    {
     "name": "stdout",
     "output_type": "stream",
     "text": [
      "Results Update: 427 819 618\n",
      "618\n",
      "IDX 617\n",
      "DISTNACE 458\n",
      "DBSCAN 617\n",
      "INTERSECT 458\n",
      "459\n",
      "[  0   1   2   3   4   5   6   7   8   9  10  11  12  13  14  15  16  17  18  19  20  21  22  23  24  25  26  27  28  29  30  31  32  33  34  35  36  37  38  39  40  41  42  43  44  45  46  47  48  49  50  51  52  53  54  55  56  57  58  59  60  61  62  63  64  65  66  67  68  69  70  71  72  73  74  75  76  77  78\n",
      "  79  80  81  82  83  84  85  86  87  88  89  90  91  92  93  94  95  96  97  98  99 100 101 102 103 104 105 106 107 108 109 110 111 112 113 114 115 116 117 118 119 120 121 122 123 124 125 126 127 128 129 130 131 132 133 134 135 136 137 139 140 141 142 143 144 145 146 147 148 149 150 151 152 153 154 155 156 157 158\n",
      " 159 160 161 162 163 164 165 166 167 168 169 170 171 172 173 174 175 176 177 178 179 180 181 182 183 184 185 186 187 188 189 190 191 192 193 194 195 196 197 198 199 200 201 202 203 204 205 206 207 208 209 210 211 212 213 214 215 216 217 218 219 220 221 222 223 224 225 226 227 228 229 230 231 232 233 234 235 236 237\n",
      " 238 239 240 241 242 243 245 246 247 248 249 250 251 252 253 254 255 256 257 258 259 260 261 262 263 264 265 266 267 268 269 270 271 272 273 274 275 276 277 278 279 280 281 282 283 284 285 286 287 288 289 290 291 292 293 294 295 296 297 298 299 300 301 302 303 304 305 306 307 308 309 310 311 312 313 314 315 316 317\n",
      " 318 319 320 321 322 323 324 325 326 327 328 329 330 331 333 334 335 336 337 338 339 340 341 342 343 344 345 346 347 348 349 350 351 352 353 354 355 356 357 358 359 360 361 362 363 364 365 366 367 368 369 370 371 372 373 374 375 376 377 378 379 380 381 382 383 384 385 386 387 388 389 390 391 392 393 394 395 396 397\n",
      " 398 399 400 401 402 403 404 405 406 407 408 409 410 411 412 413 414 415 416 417 418 419 420 421 422 423 424 425 426 427 435 436 438 450 454 464 480 503 509 511 512 521 522 523 526 528 534 537 539 540 541 545 549 552 557 567 570 579 586 596 602 605 610 613]\n",
      "[ 3.75356341 17.82739852 23.79136491 33.1222651  88.51704654] 459 459\n",
      "Distances under 100: [18.38203322 35.34861917 15.06839039 16.27271758  9.67148536 25.30409191 27.65260098 33.46732836 31.33153414 25.95198136 16.66927349 13.23869755 32.79513326 26.30854082 24.6866579  23.14427197 29.87458105 23.01469559 23.19139389 32.14793218 18.01041877 20.13804443 22.22118956 21.38874153 15.12854855 16.77072062\n",
      " 17.85094343 23.41859238 15.38913758 27.15439169 23.07826373 15.28860888 30.35486344 73.98382106 39.94876414 32.10279673 11.1494762  22.98795684 13.47028454 23.44636514 13.1477778  29.34390995 10.43232356 20.70507175 37.86247628 25.04170509 14.54649009 21.28061916 26.7527041  35.51191256 12.65005247 26.31601249\n",
      " 19.89430901 12.28173841 29.28187512 26.51866141 24.29607987 18.307752   28.88872223 19.93170929 24.79768139 38.08444841  8.16527134 25.04900791 16.78984382 24.8861766  17.51565133 26.8134211  37.12576268 16.87120439 13.01493854 34.08447803 22.36222904 26.05650042 25.87372338 24.11472623 27.01556102 18.24364822\n",
      " 42.48982326 28.31205879 25.46472117 36.22367854 17.03792161 34.79898707 19.93302288 22.16934708 20.84254501 25.51397338  6.23711142 26.88720312 32.31909682 27.15597923 22.74968547 24.45547873 18.86502207 69.88051951 21.010733   22.82339702 10.71929092 22.50814775 23.74009434 21.69035687 32.41199223 26.37690156\n",
      " 24.18804865 17.93047464 25.06126403 21.26836345 19.30414961 28.64199805 20.49281951 36.69589411 25.37941822 20.82764313 31.68772068 20.62308709 24.66621264 16.09621677  9.20800747 28.96242176 24.8791569  19.06312965 32.23550958 32.77622859 26.4131826  12.39232001 22.19549201 11.37087037 21.98206467 19.16135121\n",
      "  4.59091621 20.09675821 23.27694782 34.60775263 11.80979699 27.41440231 16.58567415 44.45222264 30.48978231 14.26002084 22.27329965 31.72148945  8.71155625 14.58643895 43.85205035 50.76221404 24.37030954 44.10047666  7.97759557 15.6880675  16.63426788 26.45233918  9.16128995 38.58374153 10.86984067 19.89698093\n",
      " 14.70981088 28.38538995 21.63633162 20.10800937 19.43971067 30.07894726 12.29278621 13.25643959 11.71612458 18.578819   17.20074873 23.87105238 15.96167243 30.43333174 71.08251942 36.75879815  5.60892619 37.82244682 14.7490436  22.902006   62.13549839  8.72217816 54.09920415 22.52345435 31.32538425 27.3488924\n",
      " 20.08756724 16.64575059 21.12338569 22.06093706 11.43354356 23.13902344 20.47598739 22.78992827 17.01728155 22.28783443 18.60779458 17.65072289 19.45157633 58.0465745  49.16742664  7.53496976 39.09623668 20.97981568 26.79041014 17.00830934 28.86712499 33.91883924 11.81676    22.90509805 45.61750121 21.9516226\n",
      " 13.73607153 47.97641267 21.74365073  8.55029496 19.97256548 24.65819486 19.74815474 10.87934376 14.99144282 26.68938691 36.55513858  8.26166596 53.64550866 20.89505127 63.29767739 18.73207927 38.3087388  22.29639136 29.13160957 12.82400574 21.92591843 31.90143505 24.00614459 30.75343189 14.75226628 38.23408219\n",
      " 27.72722612 28.16474492  7.81880445 14.10345812 23.99205593 31.73441662 20.34600593 34.11299625 32.98201442 19.15179224 32.60445659 22.37748197 23.44747677 27.07767516  9.98181164 20.64094735 14.06785379 16.01410954 18.46896248 19.32873795 33.26251578 16.8725393  23.15738431 17.46664375 30.69521979 13.06801693\n",
      "  5.9794747  16.93317079 22.11447656 46.47045725 29.88765861 14.35010946 30.36925686 18.26589798 14.89977992 56.62321901 11.53163229 14.20617161 14.51241385 24.91163337 17.20124691 17.96045142 37.15762457 49.8984065  13.80228688 25.3741295  37.56051986  3.75356341 17.01230238 19.26243963 22.29304705 21.17215162\n",
      " 46.36971468 18.08987034  5.27148938 21.9930812  23.31928059 30.29386713  9.33549452 30.07399575 12.58966905 23.79136491 13.24585135 27.26758158 11.18703232 18.56967139 27.59634797 40.72678794 15.59465792 55.43659894 14.58682072 18.16955232 30.48807806 25.81116632 33.79812149 16.45977817 19.87723965 10.19329731\n",
      " 47.788033   14.3959078  22.79579893 23.91553247 22.43424156  8.56343724 29.03212055 19.57396132  9.72017048 34.06853326 12.97681713 45.1681985  47.08744849 14.5326085  22.50481118  8.36239286 19.47882803 12.91294528 30.14985596 22.55265944 17.22292741 22.5296612  11.83510142 21.29143487 21.80941343 21.69320048\n",
      " 21.98968042 15.8030191  36.49621405 23.66210786 23.25076231 21.79028048 14.68742512 41.16535786 21.52348934  7.9735839  44.65080881 22.15438523 16.33591683 12.04375209 47.62005825 13.75532919  9.52255155 36.12502243 33.9506529  29.21314599 27.3049538  21.96430415 28.45713562 22.02110086 26.22256748 21.18687181\n",
      " 37.13989514 28.49242672 31.49995795 74.09433009 30.50323246 38.68451154 15.59742292 19.42008545 31.62723494 56.34432998 18.58013895 54.13175204  9.58230779 27.32997151 87.91817573 25.38701184 59.03468363 29.83508293 34.34914985 27.94190612 34.03800167 30.57335047 17.80385361 31.71612487 62.6360046  29.81321425\n",
      " 10.50454955 20.09620381 47.69856532 34.89814953 37.3898993  39.41762213 12.86573763 49.44662486 27.84840311 14.19892273 19.52459581 37.52661574 66.2870731  49.58326192 40.7099682  15.0353224  46.08898834  5.41691166 35.87160683 26.12746267 57.24063058 48.56466653 53.30407042 18.37045219 24.14109695 49.21454249\n",
      " 39.77724287 31.922321   28.8260556  24.01475082 29.59876349 28.93667042 40.42744555 72.70847564 85.56417228 87.89571101 65.98849626 85.19171488 79.64560035 66.08415889 77.80971759 71.12559361 67.90237135 32.55197811 76.04136771 58.32867812 88.51704654 46.92590185 17.04461793 19.70263436 35.93822868 52.18231084\n",
      " 28.56249082 53.93876106 86.41551094 81.17016317 51.73397882 65.90462875 87.79602908 78.13946534 61.84062353 45.90308754 57.57949867 73.2345132  83.62711977 25.21479576 67.42380526 86.05874459 37.35178293]\n",
      "True False\n"
     ]
    },
    {
     "name": "stderr",
     "output_type": "stream",
     "text": [
      "05/22/2025 15:10:09 - INFO - rasterio._env -   GDAL signalled an error: err_no=1, msg='Deleting D:/CaseStudies/CornerDigitization/FineAdjustment/registration/48201C0835J.tif failed:\\nPermission denied'\n"
     ]
    },
    {
     "name": "stdout",
     "output_type": "stream",
     "text": [
      "D:\\CaseStudies\\CornerDigitization\\FineAdjustment\\\\registration/48201C0835J.tif\n",
      "[[ 1.01423639e+00  2.63584121e-03  1.42224837e+05]\n",
      " [-2.63584121e-03  1.01423639e+00 -7.73645006e+04]\n",
      " [ 0.00000000e+00  0.00000000e+00  1.00000000e+00]]\n",
      "[[ 8.77908988e-01 -2.14623809e-03 -1.06397944e+07]\n",
      " [-1.46156875e-03 -8.88005951e-01  3.47202020e+06]\n",
      " [ 0.00000000e+00  0.00000000e+00  1.00000000e+00]]\n",
      "Deleting D:/CaseStudies/CornerDigitization/FineAdjustment/registration/48201C0835J.tif failed: Permission denied\n",
      "D:\\CaseStudies\\CornerDigitization\\FineAdjustment\\\\referencing\\48201C0835K.tif\n",
      "1066 / 3954\n"
     ]
    },
    {
     "name": "stderr",
     "output_type": "stream",
     "text": [
      "Traceback (most recent call last):\n",
      "  File \"C:\\Users\\fhacesga\\AppData\\Local\\Temp\\ipykernel_11408\\3710684814.py\", line 83, in <module>\n",
      "    with rio.open(f\"{registration_dir}/{tile_name}.tif\", 'w',\n",
      "  File \"c:\\Users\\fhacesga\\Anaconda3\\envs\\yolo\\lib\\site-packages\\rasterio\\env.py\", line 451, in wrapper\n",
      "    return f(*args, **kwds)\n",
      "  File \"c:\\Users\\fhacesga\\Anaconda3\\envs\\yolo\\lib\\site-packages\\rasterio\\__init__.py\", line 314, in open\n",
      "    dataset = writer(\n",
      "  File \"rasterio\\_io.pyx\", line 1430, in rasterio._io.DatasetWriterBase.__init__\n",
      "  File \"rasterio\\_io.pyx\", line 293, in rasterio._io._delete_dataset_if_exists\n",
      "  File \"rasterio\\_err.pyx\", line 195, in rasterio._err.exc_wrap_int\n",
      "rasterio._err.CPLE_AppDefinedError: Deleting D:/CaseStudies/CornerDigitization/FineAdjustment/registration/48201C0835J.tif failed: Permission denied\n"
     ]
    },
    {
     "name": "stdout",
     "output_type": "stream",
     "text": [
      "Enter Matching\n"
     ]
    },
    {
     "data": {
      "application/vnd.jupyter.widget-view+json": {
       "model_id": "0ec5dbaa879e461e9a3d583b92e32e0b",
       "version_major": 2,
       "version_minor": 0
      },
      "text/plain": [
       "Calculating Descriptors:   0%|          | 0/4273 [00:00<?, ?it/s]"
      ]
     },
     "metadata": {},
     "output_type": "display_data"
    },
    {
     "data": {
      "application/vnd.jupyter.widget-view+json": {
       "model_id": "fd75510e8c1749769f9c1b89a1ebe318",
       "version_major": 2,
       "version_minor": 0
      },
      "text/plain": [
       "Calculating Descriptors:   0%|          | 0/1064 [00:00<?, ?it/s]"
      ]
     },
     "metadata": {},
     "output_type": "display_data"
    },
    {
     "data": {
      "application/vnd.jupyter.widget-view+json": {
       "model_id": "3b22ed82b5c34a718e4ee36046d29bdc",
       "version_major": 2,
       "version_minor": 0
      },
      "text/plain": [
       "Descriptor Matching (Flipped):   0%|          | 0/1064 [00:00<?, ?it/s]"
      ]
     },
     "metadata": {},
     "output_type": "display_data"
    },
    {
     "name": "stdout",
     "output_type": "stream",
     "text": [
      "728\n",
      "IDX 727\n",
      "DISTNACE 484\n",
      "DBSCAN 727\n",
      "INTERSECT 484\n",
      "485\n",
      "[  0   1   3   4   5   7   8  10  11  12  13  15  16  17  19  21  22  23  24  27  28  29  30  31  33  34  35  36  37  38  39  40  41  43  44  48  49  50  51  52  54  55  56  57  58  59  61  62  63  65  66  67  69  70  71  72  73  74  76  77  78  79  80  81  85  87  88  89  90  91  92  99 101 102 103 104 107 108 110\n",
      " 111 113 114 116 118 119 122 123 124 126 127 128 129 130 131 132 133 134 137 140 141 143 144 145 146 148 149 150 153 154 155 156 158 159 160 161 162 163 164 165 167 168 169 172 173 175 177 178 179 180 181 182 186 187 188 189 191 192 193 194 195 196 197 198 199 200 201 204 205 206 207 208 209 210 211 212 213 214 215\n",
      " 217 218 219 221 223 224 225 226 227 229 231 233 234 235 236 238 239 240 241 242 243 244 246 247 248 250 251 252 253 255 257 259 260 264 265 266 267 268 269 271 272 273 275 276 277 278 279 280 281 282 284 285 287 289 292 293 294 295 297 299 301 303 304 305 306 307 308 309 311 312 314 315 316 317 318 323 324 325 326\n",
      " 327 328 330 331 334 335 338 339 340 341 342 345 348 350 351 352 353 355 356 358 361 362 363 364 365 369 370 372 374 377 378 379 382 383 385 387 389 390 391 394 395 396 398 400 401 403 404 405 406 408 409 410 411 412 413 417 419 420 421 423 424 426 428 430 432 435 436 437 439 440 441 442 446 447 448 449 451 455 458\n",
      " 459 460 461 462 463 464 465 466 467 469 471 472 474 475 476 477 479 480 483 485 487 488 490 491 494 495 496 497 498 499 500 501 502 504 507 508 509 514 515 516 519 521 523 524 527 528 532 533 534 535 536 537 538 541 542 544 546 547 548 551 552 553 554 556 557 558 559 560 561 562 564 565 566 567 569 570 571 573 574\n",
      " 575 576 578 579 582 583 584 585 586 587 590 591 592 594 595 596 598 599 601 602 606 607 608 610 611 613 614 616 617 619 620 622 624 626 627 629 631 633 634 636 641 643 644 645 646 647 648 651 652 654 656 657 660 662 663 666 667 668 669 670 671 672 674 677 678 679 680 682 683 685 688 692 693 697 698 699 701 704 705\n",
      " 707 710 713 715 716 718 719 720 722 724 726]\n",
      "[ 1.20201081 13.32656851 20.04453591 29.72433878 89.34922776] 485 485\n",
      "Distances under 100: [45.49727904 18.00979933 19.22234159 28.54098793 11.49792395 20.6428929  27.8171046  21.68741461 30.18634987 33.33837209 20.66926492 28.24047661 15.9472457  86.48321248 13.15893477 23.85510014 28.3674223  23.69273292 58.64989152  8.52949879  4.92157322 22.03160058  4.74027154 15.08212887 33.39544149 18.75237366\n",
      "  4.75570694 10.58200621 88.5656071   9.67818785 21.8167423  19.93637566  5.71760399 19.2169917  16.74094698  9.48132636 39.17014317 10.47239439 21.59731327 28.470641    5.05097621  7.72433109  8.76866518 10.27735985 15.33585045  5.2099469   8.23594414 17.57432284 24.29646662 31.44563762 17.96097868 17.64425515\n",
      " 21.57022337 27.48912863 18.57202604 16.20676354 33.02462782  8.37894021 23.41701072 23.69900423  6.7015435  28.60561597 11.65977548 25.59162256 17.84603449 26.885948    8.81360655 21.1083385  13.21460148 21.01738627 21.26013207 17.73222734 45.55118294  9.40128449  2.24638465 26.55206977 10.51909047 11.57494203\n",
      " 16.28845646 15.68043397 11.14701431  5.09159613 15.57466511 24.55629428  2.46756444 20.34604479 32.07882232 25.7759899  17.01995342 16.63896563  2.32936051 31.8851838   5.91820991 26.99976357 11.11108572  5.55482658 15.08638882 37.51192538  4.97153384  7.61714934 51.71924229 14.34799555 22.75584364  6.60287252\n",
      " 24.02821743 29.72433878 49.67662577  8.26873098 29.22786979 26.5408243  30.99672235 10.82023886 10.16398333  4.59637956 10.41913023 31.52550384  8.58625556  2.8818276  15.74162469 15.40841807 25.83963154 23.35787864 21.72870353 18.3237622  55.40838315 32.73856111 15.14314441  3.16279541 13.32656851 18.30690183\n",
      " 22.21049114 12.15418223  9.43606247 16.47658772 11.74258548  5.86628601 20.82151858 18.44352724 21.6243234  16.63292977 25.3472397  16.94064761  9.93348185 14.58913155 22.49406563 13.64010049 17.23181419 10.43270768 24.39500955 23.00952017 33.27810231 30.15242117 27.02187637 34.9652557  35.80015506 19.39430168\n",
      " 28.47091465 16.85535053 16.25986143 43.56924271 29.63038025  9.56749114 42.84857924 12.30937142 26.39065352 19.59363888 33.88323507 21.62283261  7.43691856 27.97336848 12.33815096  9.62417666 24.22200359 21.48768411 13.59090852  9.35907046  4.85681133 25.55034518  6.76046268 15.57779493 10.14130711 51.53597448\n",
      "  3.66216648 19.9191336  19.91888311 20.17468477  4.20102132 13.84505979 12.53433257 11.74479856  3.72023142 18.4013695  44.0962055  42.13973424 24.48996313 20.53175645 11.46120705  8.79151718 11.25765557 38.78558641 43.19754793 12.03935395  7.369623   19.26260378  2.44362885 23.95996022 31.98387301 17.15772389\n",
      "  9.97257777 15.59027792 22.39167327 29.45715935  8.66853698 36.5858448  14.6669015  23.52718448 11.77884812  2.97846398 17.13444224 32.42821238 18.03975177 22.40310291 16.27064618 15.74821065 17.88330869 27.1610758  16.42793824 34.42282574 21.0586922   4.51906667 14.81593149 33.05659759 16.40058629  6.45652085\n",
      " 18.62140557 17.99678433 15.20625836 16.47016167 15.80285611  6.14011127 15.94438384 13.84093227 17.57903698 12.23246649 25.23902511 11.75320939 14.09052564 26.34748446 16.49769724 21.15993119 16.38931428 18.43559343 22.00997978 18.03881489 14.44953525 16.36430326 19.221625    9.39138837  5.30041303 13.7949288\n",
      " 15.442247   24.42340281 22.11237454 27.26790656 43.06554894  3.86819591 16.47338272 89.00456158 32.26238247 29.2038995   6.66759951 23.91323669 21.05833169  7.44140619 45.79441087 81.9076679  20.11201457 28.69902465 30.47044121 22.60147651 78.62565551 19.25896088 12.01450647 80.77231638 46.32579231 71.92217492\n",
      " 13.16881437 28.88824335  7.91371102 17.3754155  14.57310277 56.45805337 89.34922776 15.96837746 13.6426052  35.78439541 48.0624154  15.09397618  9.93177434 28.03678973  7.77810284 24.06951727 24.57147805 79.65741046 13.64304958 43.52077901 22.31263521 17.08654584 20.06854311  9.70049881 21.49649476 40.70066926\n",
      " 22.46741503 58.81673582 16.77496312 10.71211396 59.19179399 19.18585085 15.67184756  3.9012661  20.71597137 22.97948088 70.59821393 25.39067146 18.09288908 25.21597801  9.00226428 29.48402273  3.94018857 16.23161514 24.74631587 35.31415308 19.44788873 29.91893397 22.03233561 17.25477548  8.04578852 27.49871604\n",
      " 17.46435397 16.30886909 16.79123224 21.82238299 38.83756533 25.59878113 63.34809652 87.50370393 14.32026704 10.17083485 13.10520434 27.74697383 20.06440076 29.89333755 17.71322232 12.84988052 34.96895027 53.17225088 73.47343571 17.45712283 14.29718661 15.60416706 19.93276038 29.16475409 88.27952069 10.72095428\n",
      " 15.47811509 53.93214942  7.67478355 31.54462421 44.79959735 23.67613339 12.9531555  30.26525013 11.7819015  18.53032649 25.09766476 24.06586248 17.0504422  59.72906751 54.38589132 87.20536563 12.23056488 29.13957643 23.22169795 17.56414713 10.04431564 62.61089278 15.76506705 57.32838654 28.9748089  24.29188118\n",
      " 52.98059179 13.85661862 18.00847508 10.1589512   6.43084655 26.83008845  4.29233447 15.69523733  2.73915548 18.48456078 49.90538119 11.04250268  8.55819216  8.29839773 67.48850995 33.56824779 13.69248619 33.46640864  5.97109347 67.46290596 20.04453591 17.09943724 26.85795612 19.1184315   9.45907158 52.63225183\n",
      " 16.84568195 24.28160482 29.85968347 79.43003063 35.22574039 25.0092822  74.00817061  6.20052844 12.21704195 46.42509812 40.07874781 27.23933992 24.35400808 66.49646304  8.48826238  8.0644962  53.44705629 45.67285405 25.99300986 16.9251478   7.9550674  20.13319594 22.61826532 33.42101306 50.37428919 14.42289392\n",
      " 48.47180253 18.48008339 52.43551856 22.1587991  83.65538784 30.51923078 29.33255417 41.14254018 86.73115296  2.73000046 31.1068267  29.11678539 78.46611007 36.96419372 49.0645347  39.67877894 59.51580477 25.70414527 15.50825414 23.60310867 27.04221721  9.01044438 77.73274058 39.75585415 44.50275807 60.07739744\n",
      " 25.6870653  80.17501573 19.2711426  18.69757557 23.49465952 46.27428939 75.40737077 32.24928375 30.4493184  32.27146961 32.98718356 73.82440395 32.88855786 18.4301328  39.13914554 60.13157631  1.20201081]\n",
      "Enter Matching\n"
     ]
    },
    {
     "data": {
      "application/vnd.jupyter.widget-view+json": {
       "model_id": "b6491c3f04704dcc9bf645545c53335a",
       "version_major": 2,
       "version_minor": 0
      },
      "text/plain": [
       "Descriptor Matching (Flipped):   0%|          | 0/1064 [00:00<?, ?it/s]"
      ]
     },
     "metadata": {},
     "output_type": "display_data"
    },
    {
     "name": "stdout",
     "output_type": "stream",
     "text": [
      "Results Update: 485 722 553\n",
      "553\n",
      "IDX 552\n",
      "DISTNACE 413\n",
      "DBSCAN 552\n",
      "INTERSECT 413\n",
      "414\n",
      "[  0   1   2   3   4   5   6   7   8   9  10  11  12  13  14  15  16  18  19  20  21  22  23  24  25  26  28  29  31  32  33  34  35  36  37  38  39  40  41  42  43  44  45  46  47  48  49  50  51  52  53  54  55  56  57  58  59  60  61  62  63  64  65  66  67  68  69  70  71  72  73  74  75  76  77  78  79  80  81\n",
      "  82  83  84  85  86  87  88  89  90  91  92  93  94  95  96  97  98  99 100 101 102 103 104 106 107 108 110 111 112 113 114 115 116 117 118 119 120 121 122 123 124 125 126 127 129 131 132 133 134 136 137 138 139 140 142 143 144 146 147 148 149 150 151 152 153 154 155 156 157 159 160 161 162 163 164 165 166 167 168\n",
      " 169 170 171 172 173 174 175 176 177 178 179 180 181 182 183 184 185 186 187 188 189 190 191 192 193 194 195 196 197 198 199 200 201 202 203 204 205 206 208 209 210 211 212 213 214 215 216 217 218 219 220 221 223 224 226 227 228 229 230 231 232 233 234 235 236 237 238 239 240 241 242 243 244 245 246 247 248 249 251\n",
      " 252 253 254 255 256 257 258 259 260 261 262 263 264 265 266 267 268 271 272 273 274 276 277 279 281 282 283 284 285 286 288 289 291 292 293 294 296 297 299 300 301 302 303 304 305 306 307 308 309 310 311 312 313 314 315 317 318 319 320 321 322 323 324 325 326 327 328 329 330 331 333 334 335 336 337 339 340 341 342\n",
      " 343 344 345 346 347 348 349 350 351 352 353 354 355 356 357 358 359 360 361 363 364 365 366 368 369 370 371 372 374 376 377 379 380 381 382 383 384 385 386 387 388 389 390 391 393 394 395 397 398 401 402 403 404 406 407 409 410 411 412 413 415 416 417 418 419 420 421 422 423 424 425 427 429 430 431 432 433 434 435\n",
      " 436 438 439 440 441 442 444 446 447 448 449 450 451 452 476 508 509 532 540]\n",
      "[ 0.5470186  10.01970229 14.4922564  20.28901377 52.66933244] 414 414\n",
      "Distances under 100: [51.35665614  9.36256436 15.07593409 24.49300691 16.01460851 20.02543339 21.99615015 18.79972162 24.18608372 27.73840507 22.49131056 16.68870626 13.81711502 12.11239431 18.22368423 16.54863125 17.37209054 14.37279856  6.76595091 15.20251194  4.38942717 13.59265033 25.56280303 20.76770759  7.69257001  9.52020215\n",
      "  1.51924045 11.55974591 10.87220713 19.42494124 16.41341257 12.71577953 33.52796758 14.62395454 20.46253722 24.75238333  9.63203762 12.4769477  12.4119146   4.15695016  7.44430465 10.01882771 13.34581355 18.94637685 19.78267878 28.6367465  13.50101284 10.12336983 14.63521752 25.04683507 19.64190721 19.27030923\n",
      " 23.43675992 13.79208449 17.7852738  12.78616348 10.99021304 19.29069069  6.7676621  14.8120549  20.30378942 27.7820841   8.6450323  10.1213438   1.03548982 24.6440518  24.49909502 13.50438129 36.07322154 11.16651175  5.22363558 16.73987821  9.21360657 14.69744082 17.51660028 15.9936414  13.74127983  3.27654125\n",
      " 19.97993767 20.31513539  6.44600642 22.6746698  19.90322309 13.95343795 18.25253366  9.89905516  4.9691676  19.3023667   9.21062022 16.62264454 15.08559794  7.52062293 20.29247951 25.72271839 11.19110267  6.43768879 42.04714186  4.06043672 15.89731249  1.04402309 13.16396865 21.36980481 13.76655544 14.691317\n",
      " 17.40649632 12.90811729 11.89760417 10.47833272 15.01427285 42.42555383  4.29901064  4.89275919 17.01015947 18.14897049 16.88613968  7.18263064 17.28134478 21.3431866  45.35770397 21.73694934  9.12044763  5.37642646  6.78479084 24.13004017  0.57245868 17.82379073 14.44647873  7.69546766 11.16612546 14.25621812\n",
      "  4.36702884 16.17315516 18.10528343 17.67146492 14.26838378  6.38840622  9.71713227 18.49069095 24.97702073 20.27861654 18.76164416 23.15912452 28.1041882  32.23212751 19.41611289 24.0381228   9.3181905  10.06421945 21.29437041 34.69072409 34.72821987 14.29890158 16.86403546 18.82674159 18.74558258 12.74504601\n",
      "  1.79069253 29.11215509 16.19479461 10.7455672  15.48562012 10.02232606 14.40088029  9.49638544  9.21470668 24.86462323 11.81170078 17.763743    5.9627222  41.7431462   8.31825588 11.29515603  8.79506057 10.26431672  4.41151396 11.25691339  5.90697165  9.93720877  8.46703191 19.45422082 34.23868263 32.57836682\n",
      " 14.94823788 12.52352164 13.94080172  7.25144145 28.75347071 34.36389015 10.20675072 11.70950036 12.6679574   7.82375408 15.81118874 39.54319643 22.54309648 13.4149258  14.5385291  19.01401017 13.18468369 24.44506673 17.61381724 13.86168073  2.55853213  9.76443916 12.89400403 21.21300142 10.5511379  12.553662\n",
      " 14.48263276  8.79785362 22.47829772 18.6377375  23.07185539  6.10526478 13.73963194 27.56349217  9.42133386  0.5470186  11.58705775 10.85848349  8.77813139 17.60558751 11.32782197  5.67905752  7.19380547  7.90395292 17.20214252  5.67939162 12.97735779 14.21256324 24.41306822  9.9534056  16.38676368 19.00477807\n",
      "  9.01569114 14.50188003 10.0112546  17.438451   16.89115742 12.88526404  7.51635049 16.88945519  4.61875603 14.48001922 22.45179042 21.3684305   9.81139678 16.73898438 22.52988793 17.64036002  8.01825952 18.60747308 10.19588747  9.95363376 22.06191914 16.32088856 23.98481123 25.03060255 15.09403568  2.39211279\n",
      " 40.98248371  2.9389803  17.74346284  9.51223645  1.43578017  7.35732956 47.1292072   7.20358636  9.76980344 39.70330367 13.30912689 21.58092484 23.39668826 14.06288735 13.9640135   5.44746279 33.77146344 12.34932969 17.05596063 11.36165179 11.13011208 11.8211559  31.70625562 19.71685816  9.2770388  13.57751385\n",
      " 49.26763001 13.76314971 11.70370413  9.39493173 12.94135376 16.51088855 12.74268111 16.90566229 18.17553727 18.52319395  5.75027526 14.0943635  18.75402787 24.85940141  7.86869937 19.42845272 18.99049131 10.84115255 14.47988479  7.87662537 14.14719289  8.51623024 12.11407675 28.20591767 22.46592434 52.66933244\n",
      "  9.52677297 15.03604999 18.25162052 14.19100353 18.12347147 18.63550045 21.93101749  9.44042245 10.80258656 10.57085122 14.63096444 14.3950534  17.1058657  12.89415494 19.21262193 50.19074888 10.07862535 25.89420876 34.12656576 10.85150763 15.82470135 38.06412641 13.36012301 13.80182548 19.5572682   5.69844252\n",
      " 49.48843898 13.13484802 30.37271911  8.0838005  14.89550012 11.67217622  2.25149331 30.2567162   9.91647753  7.01362581 12.17488968  6.72601366 12.69648141  1.64337735  8.68915331 12.53462667 17.1679344  48.1545364  12.42263412  9.48929554 11.97717451 19.22294146 18.73724749 30.24184129  9.92837766 14.42297189\n",
      "  8.34391123 13.5638156   3.39874995 24.19895547 18.4477214  27.22584809 21.1486441   5.21878124  6.58939367 39.44946403 39.41989329 14.88214756  5.05964352 13.15417208 41.843338   25.25079527 17.3765299   7.47433141  9.46428988 14.95343719 34.92626102 49.44098015 16.26341365 11.83464735 31.40569815 23.79933356\n",
      "  5.31449502 26.58526683 24.75517737 26.41013029 41.09833735 31.62680097 18.82454656 19.85708203 10.50481     3.72239441 40.03918244 14.42821112 12.48877003 39.9167102  23.58958879 31.2764689  24.62781892 19.82324996 11.01490275 13.40740782 29.61800163  2.3028999   8.87588618 24.98593249]\n",
      "Enter Matching\n"
     ]
    },
    {
     "data": {
      "application/vnd.jupyter.widget-view+json": {
       "model_id": "7713e6b8d7db4a308baf0d5e90a353c2",
       "version_major": 2,
       "version_minor": 0
      },
      "text/plain": [
       "Descriptor Matching (Flipped):   0%|          | 0/1064 [00:00<?, ?it/s]"
      ]
     },
     "metadata": {},
     "output_type": "display_data"
    },
    {
     "name": "stdout",
     "output_type": "stream",
     "text": [
      "Results Update: 414 721 556\n",
      "556\n",
      "IDX 555\n",
      "DISTNACE 429\n",
      "DBSCAN 555\n",
      "INTERSECT 429\n",
      "429\n",
      "[  1   2   3   4   5   6   7   8   9  10  11  12  13  14  15  16  17  18  19  20  21  22  23  24  25  26  27  28  29  30  31  32  33  34  35  36  37  38  39  40  41  42  43  44  45  46  47  48  49  50  51  52  53  54  55  56  57  58  59  60  61  62  63  64  65  66  67  68  69  70  71  72  73  74  75  76  77  78  79\n",
      "  80  81  82  83  84  85  86  87  88  89  90  91  92  93  94  95  96  97  98  99 100 101 102 103 104 105 106 107 108 109 110 111 112 113 114 115 116 117 118 119 120 121 122 123 124 125 126 127 128 129 130 131 132 133 134 135 136 137 138 139 140 141 142 143 144 145 146 147 148 149 150 151 152 153 154 155 156 157 158\n",
      " 159 160 161 162 163 164 165 166 167 168 169 170 171 172 173 174 175 176 177 178 179 180 181 182 183 184 185 186 187 188 189 190 191 192 193 194 195 196 197 198 199 200 201 202 203 204 205 206 207 208 209 210 211 212 213 214 215 216 217 218 219 220 221 222 223 224 225 226 227 228 229 230 231 232 233 234 235 236 237\n",
      " 238 239 240 241 242 243 244 245 246 247 248 249 250 251 252 253 254 255 256 257 258 259 260 261 262 263 264 265 266 267 268 269 270 271 272 273 274 275 276 277 278 279 280 281 282 283 284 285 286 287 288 289 290 291 292 293 294 295 296 297 298 299 300 301 302 303 304 305 306 307 308 309 310 311 312 313 314 315 316\n",
      " 317 318 319 320 321 322 323 324 325 326 327 328 329 330 331 332 333 334 335 336 337 338 339 340 341 342 343 344 345 346 347 348 349 350 351 352 353 354 355 356 357 358 359 360 361 362 363 364 365 366 367 368 369 370 371 372 373 374 375 376 377 378 379 380 381 382 383 384 385 386 387 389 390 391 392 393 394 395 396\n",
      " 397 398 399 400 401 402 403 404 405 406 407 408 409 410 411 412 413 419 424 427 429 432 436 437 452 474 476 478 482 490 499 508 533 549]\n",
      "[ 1.84894604 14.02938801 20.27204834 28.05586531 73.32628346] 429 429\n",
      "Distances under 100: [11.05044003 21.50812033 32.99204066 19.73984787 22.94584853 32.02673471 26.26588241 34.01639409 37.02966052 24.32975186 28.75356862  3.04299393 19.22468708 28.46288897 31.04979263 26.03090292 15.04964588 13.14711251 24.41654694  5.77650263 15.56789633 37.95732156 26.56320734  7.46322591 12.02036832  9.60384476\n",
      " 22.20614817 15.22519944 25.20865344 23.99362516 16.90605857 40.40736021 17.96009162 29.03529116 32.92984495 13.51544704 14.57298433 10.10993225  5.91825067  9.51685219 12.50034692 16.42008556 26.89767791 28.82469015 36.69316181 15.03101912 12.22858787 23.66936488 30.20978892 24.04303418 25.16692594 31.61600269\n",
      " 15.06050721 19.57491904 18.31483082 15.06320398 19.41919248  5.20705731 18.68992988 26.62921517 35.41537084  9.71529412 21.59594093 16.89846317 30.97914068 30.75506656 14.86530006 48.74353109 15.40783244  7.68994897 20.17936106 12.919983   15.78327179 22.22951716 20.7703563  18.92695438  3.03529168 24.90050519\n",
      " 27.31474499  5.79678909 29.64676591 25.9628564  25.14532765 23.10034018 15.87164496  7.80805137 25.34572771 10.26006639 19.41403841 18.46145163  7.62182706 24.11426405 30.6112536  13.22255472  6.25465903 55.65952526 14.83194464 25.80734099  2.64592876 19.12444805 32.94734427 14.92136964 32.04207433 20.36219773\n",
      "  9.93800994 16.38460875 10.47302758 17.00880632 27.38515289 13.17255027  3.8301407  22.23894509 22.80122085 20.28371841 14.16057004 26.37138754 27.94063797 61.9206395  26.53694749 13.30322047  9.07028219 17.15423778 29.64242967  6.90561282 22.72209881 20.73779327  8.05538062 20.71563802 23.63288286  6.6123057\n",
      " 22.11900186 23.20633176 21.77942241 24.74935531  8.65020286  9.50650026 19.95193893 32.63399145 33.69108746 34.18948339 30.77333937 29.57737742 41.63876085 22.48317638 32.96290831 20.46770361 19.26812028 24.80019585 36.36346333 46.63987382 20.51857205 20.11893784 25.97355681 25.26735508 14.25737444  2.59208562\n",
      " 33.73580056 19.90366242 14.23934346 28.08947673 22.17843807 15.04876862 16.73033129 11.98252847 31.30621071 10.2919963  22.95137368  6.38744861 53.88868841  9.64362926 13.96860174 14.74672045 15.62510429  6.67793226 13.41449894  7.77053177  9.30459287  8.76523891 25.28544462 48.29755197 44.60513009 17.8225141\n",
      " 13.84750807 18.276152   15.73293272 33.39633533 47.61831735  7.60288326 11.78702737 22.32140115 10.22118468 16.02461956 36.61371244 20.38162642 14.41846453 17.46686244 24.68061669 15.81642066 30.65742338 21.65185979 19.61905558  6.47219074 11.51301021 21.12393901 28.49617525 16.34812649 15.06240778 19.65961716\n",
      "  8.76261867 33.78410127 23.36719326 28.6000527   7.03380202 18.36369837 36.8219796  12.75728027  1.84894604 21.69145673 21.22163413 17.84407021 25.1747922   9.66921214  4.0488673  10.8872154   7.74897064 23.10167593 13.42263053 26.2740548  18.41859885 27.28019957  9.42831072 24.35842085 24.62931263 21.75092801\n",
      " 16.79852068 18.78188812 24.50200846 21.53445946 14.29857173  9.61236026 23.45543641 14.37009652 27.57582234 27.99520357 32.15268812 10.00496662 19.54409452 27.70287639 30.05273405  7.0686003  28.05586531 15.80616039 13.06794762 27.83011503 29.24322519 25.75075857 31.58216743 19.845815   12.3017346  48.80633722\n",
      " 10.30729653 23.10915681 12.38333532  6.61711057 11.72602198 59.34474143 16.48990956 14.28777111 53.72939057 18.77185226 25.59463695 30.62895539 18.85141263 19.22135099 14.31709749 48.01478629 16.68282132 19.68292317 14.20295345 12.25238096 16.155725   44.65645154 25.34900901 16.65434539 12.26988919 62.70825258\n",
      " 21.48531149 16.91581367  9.4152774  15.00082708 27.45574534 21.24937512 29.87973025 11.06894973 23.94271889  6.8459865  20.39853099 27.54031084 30.45846167 20.85618202 24.33123356 21.37234724 20.3143601  17.4268255   8.36521927 21.41099632 11.57991666 24.54398386 33.44749207 19.88522593 68.04993364 13.21988972\n",
      " 19.64381922 27.89486478 16.90424051 29.65867297 16.11026917 15.48178141 21.78275722  5.9786937  17.45199684 18.8442672  22.71270634 29.93881649 15.51406155 25.06551663 56.68364771 11.90115724 34.14069463 49.15149    26.26393373 18.08610162 28.41607395 14.29238441 28.23926566 23.8456551  17.83214081 63.14417903\n",
      " 15.62552101 36.48689928 25.15465621 19.68530133 14.02938801  6.60014809 33.39611627  9.76589816 12.52400849 16.67528966  7.51805613 29.04777977  4.49438355 13.48131555  7.27029138 21.92251117 50.13734477 14.71182068 11.51758269 11.20233393 29.11447341 17.46261817 27.18508135 11.20296845 13.7443151  12.20649623\n",
      " 18.98235183  5.35444928 15.22451305 23.871148   39.48915146 28.72616364  5.77124153 11.34583674 50.0820384  49.13742118 16.85136106  6.47953076 16.49872663 58.73099055 33.34419502 23.26727168 10.02108511 17.43300926 14.85642728 33.81915342 56.55847227 22.31096942 16.19844118 35.23660465  5.10887371 35.29245942\n",
      " 24.59788433 41.29683451 52.05807974 35.10251233 18.46455503 23.17965649 24.3373777   9.41232103 38.38228882 19.58071268 17.78957426 49.71063782 32.96530545 20.0025438  39.91709331 22.61804917  3.98114834 10.17715497 22.43018116  3.94926963 10.00859354 28.86509129 57.9448783  13.86433514 19.31397006 66.77840401\n",
      " 10.23353123 49.86339816 17.99737842 20.27204834 65.54659842 37.68342825 72.39848871 44.20730182 73.32628346 58.99603973 59.86579581 58.07804127 68.28598974]\n",
      "True False\n",
      "D:\\CaseStudies\\CornerDigitization\\FineAdjustment\\\\registration/48201C0835K.tif\n",
      "[[ 1.01095658e+00  1.33792675e-03  1.11861578e+05]\n",
      " [-1.33792675e-03  1.01095658e+00 -5.21863662e+04]\n",
      " [ 0.00000000e+00  0.00000000e+00  1.00000000e+00]]\n",
      "[[ 8.73336326e-01 -1.22537357e-03 -1.06397782e+07]\n",
      " [-5.71197610e-04 -8.85570993e-01  3.47203869e+06]\n",
      " [ 0.00000000e+00  0.00000000e+00  1.00000000e+00]]\n",
      "D:\\CaseStudies\\CornerDigitization\\FineAdjustment\\\\referencing\\48201C0840J.tif\n",
      "659 / 2592\n",
      "Enter Matching\n"
     ]
    },
    {
     "data": {
      "application/vnd.jupyter.widget-view+json": {
       "model_id": "2be8203565eb44f0b651a1db07b6f2ec",
       "version_major": 2,
       "version_minor": 0
      },
      "text/plain": [
       "Calculating Descriptors:   0%|          | 0/2134 [00:00<?, ?it/s]"
      ]
     },
     "metadata": {},
     "output_type": "display_data"
    },
    {
     "data": {
      "application/vnd.jupyter.widget-view+json": {
       "model_id": "3c07baa5efa242bebfafdb7d2a8c8ae2",
       "version_major": 2,
       "version_minor": 0
      },
      "text/plain": [
       "Calculating Descriptors:   0%|          | 0/658 [00:00<?, ?it/s]"
      ]
     },
     "metadata": {},
     "output_type": "display_data"
    },
    {
     "data": {
      "application/vnd.jupyter.widget-view+json": {
       "model_id": "19afa20ccbfb4934801e877cb3748163",
       "version_major": 2,
       "version_minor": 0
      },
      "text/plain": [
       "Descriptor Matching (Flipped):   0%|          | 0/658 [00:00<?, ?it/s]"
      ]
     },
     "metadata": {},
     "output_type": "display_data"
    },
    {
     "name": "stdout",
     "output_type": "stream",
     "text": [
      "459\n",
      "IDX 458\n",
      "DISTNACE 308\n",
      "DBSCAN 458\n",
      "INTERSECT 308\n",
      "309\n",
      "[  0   1   2   3   4   5   6   7   9  10  11  12  13  14  15  16  17  18  19  20  21  23  25  26  27  28  30  31  32  33  35  37  38  39  40  46  47  48  49  51  52  53  54  55  56  57  58  59  60  61  62  64  65  66  68  69  70  71  72  73  74  75  77  79  80  81  82  83  84  85  86  88  89  90  91  92  93  94  95\n",
      "  96  98  99 100 101 102 105 107 108 109 111 112 114 116 117 118 120 121 122 123 124 125 126 128 129 130 132 133 134 135 136 137 138 139 140 141 142 143 144 145 146 147 148 149 150 151 152 154 155 156 157 160 161 163 164 165 166 167 168 169 170 171 172 173 174 176 178 179 180 182 183 184 185 186 187 188 189 190 191\n",
      " 192 193 194 197 198 200 201 202 203 204 208 209 210 211 212 213 214 215 216 217 218 219 220 222 223 225 227 228 229 230 231 233 235 237 238 239 240 241 244 245 246 247 250 251 252 253 254 255 256 257 259 261 262 263 264 265 266 267 268 269 271 275 276 279 281 282 283 284 285 286 289 290 291 292 293 294 295 296 297\n",
      " 299 302 303 304 305 306 307 308 314 315 316 318 319 322 326 327 328 330 333 334 336 339 340 342 344 349 350 351 352 354 356 361 362 364 366 367 375 376 377 379 381 382 384 385 386 390 392 396 397 398 399 401 402 403 404 405 406 409 411 414 421 423 427 431 437 438 439 445 448 449 453 457]\n",
      "[ 1.51807572 12.16390085 16.82329038 22.33854959 62.97690932] 309 309\n",
      "Distances under 100: [ 7.71088809 52.31692004 14.71494924 25.3920563  57.46880755 19.16886817  9.09908748 24.91258942 15.35442676 17.12323822 10.50939651 13.5207415  12.68864251 13.51116876 21.40480654  8.82615846  1.80939564 15.51623788 23.36753643 15.06454738 21.30839522  9.83346546 17.77250144 17.21811327 11.72829121 12.14640046\n",
      "  7.52910907  9.21321557 22.94664031 21.2699837   9.48816888 20.67353132 25.58178497 16.45764892 27.12635455 24.13637344 24.05065626 23.9950644  20.19840806  9.09569466  7.29941883 12.13273743 14.65588085 21.62375853 15.72026999 17.97793786  7.27463127 18.22644509 16.40291257 11.17678632 31.31757557 22.33854959\n",
      " 43.17859022 13.17017982 18.79985732 21.21422204  9.38724342 12.13329127 14.84971029 15.80185585 28.68299199 17.14752491 23.08652979 21.77281017 37.08701864 13.15344033 10.34989708 26.70870462  3.1271946  15.1915637  17.52477227 18.01388814 12.35262959 11.9342101  20.09837726 23.58366057 12.22520807 12.09095138\n",
      " 22.49280598 47.59224877 20.32486741 18.22917348  4.10195467 21.85762509  6.38445881  7.59847992  2.47479522 15.42212445  3.64873407 10.68012886 11.6165449  21.84921657 28.0174858  10.82025169 11.36405583 25.89055926 22.57898871  4.21034781 19.1501122  22.25216323 14.38254148 21.73716111 14.96787712 13.30156745\n",
      " 17.15750859 22.99765991 25.40018234  8.97552654 18.87068165 19.73489105 30.06337173 15.72543972 16.432443   14.25657882 25.29172297 17.1522277  13.31450461 14.92243979  8.09642518 15.69931103  6.0169967   9.41756877 58.96923029 14.78371515 14.50238286 18.50806039 21.30998041  8.29699602  9.2374899  12.44437839\n",
      " 10.80604489 21.7643571  25.19826458 15.26690298 13.36991811  9.173716   20.93510785 19.01344565 23.74576566  5.34002493 16.02760722 12.1400715  13.34085386 17.80555913 16.23711441  9.09324278 24.36551718 22.59611685 18.55818761 12.17124589 43.90776495 14.60897848 14.22144496 30.99295158 24.00509202 21.68672214\n",
      " 17.97326614 18.49768762 13.2040003   6.07616582  3.74916404 23.84483976 16.57589071 12.05641199 20.88093071  9.72961497 18.09332309 15.22164584 10.08842587  4.65647403 13.55686613 19.76864723 21.28716561  8.62522784  4.40497093 21.4053114  10.27249063 27.34861675 12.14456151 15.55777218  6.34179634 33.42028548\n",
      " 10.80007409 11.27791465 16.6076173  18.23337586 13.99814522  7.60236711 25.72941136  3.97669366 61.72383286  1.75179676 17.69010833 19.8169478  10.61484741 13.43416423 23.14231107 25.2442261  19.94340263 19.20537871 18.97631037  4.05012853 19.93962975 14.68147555 14.64665954 25.24183428 10.90563936 19.77001972\n",
      " 12.31203745 12.99386435 27.47051523 22.5018079   3.7131504  18.53439338 12.60475359 28.20677878 12.0507808  13.76075849 13.79155572 36.48456617 16.987553    2.52914858 47.18972714 17.48022347 26.70331483 14.42396482 42.48527157 34.92834234 17.17573503 15.61351626 43.70314582  9.01278948  8.39027675  5.09053228\n",
      " 13.65093464 60.97412697 22.21308238 20.13615887 21.72160065 15.18875761 12.8895389  16.36189961 31.17604888 24.6222585   7.57465415 14.57884278 16.2753741  12.15007486 20.43392526 18.07124145 37.31623042 20.93355744 16.82329038 47.06726577 12.87687164 16.69879402 18.17902369 26.97917619 10.92785119 37.81200832\n",
      "  7.06389803 13.53805509 30.87493857 17.46489208 20.81938727 25.88873332 14.98761883  2.57691276 12.94569799 48.13268909 62.38867989 16.26737933 12.16390085 19.992564   41.71212477 12.76485645 30.05133676 15.57493636 37.67151578 21.24837659 18.96324891  1.51807572 54.38880975 17.62421026 62.97690932 54.63659026\n",
      " 26.57652633 25.25886769 17.12164556 19.08450628 24.80791369 36.29470015 12.5401496  11.40982732 19.13760546 13.6791232  11.32926423 12.15260197 19.89610878 16.40648578 26.70449312 48.18009257 15.04097469 14.53616945 13.80409159 18.77229002 19.44047074 56.62221206 34.52459824]\n",
      "Enter Matching\n"
     ]
    },
    {
     "data": {
      "application/vnd.jupyter.widget-view+json": {
       "model_id": "b90215cce1964aaebcdaa3499f074eb5",
       "version_major": 2,
       "version_minor": 0
      },
      "text/plain": [
       "Descriptor Matching (Flipped):   0%|          | 0/658 [00:00<?, ?it/s]"
      ]
     },
     "metadata": {},
     "output_type": "display_data"
    },
    {
     "name": "stdout",
     "output_type": "stream",
     "text": [
      "Results Update: 309 461 365\n",
      "365\n",
      "IDX 364\n",
      "DISTNACE 289\n",
      "DBSCAN 364\n",
      "INTERSECT 289\n",
      "290\n",
      "[  0   1   2   3   4   5   6   7   8   9  10  11  12  13  14  15  17  18  19  20  21  22  23  24  25  26  27  28  29  30  31  32  33  34  35  36  37  38  39  40  41  42  43  44  45  46  47  48  49  50  51  52  53  55  56  57  58  60  61  62  63  64  65  66  67  68  69  71  72  73  74  75  76  77  78  79  80  81  82\n",
      "  83  84  85  86  87  88  89  90  91  92  93  94  95  96  97  98  99 100 101 102 103 104 105 106 107 108 109 110 111 112 113 114 115 116 117 118 119 120 121 122 123 124 125 126 127 128 129 130 131 132 133 134 135 136 137 138 139 140 141 142 143 144 146 147 148 149 151 152 153 154 156 157 158 159 160 161 162 163 164\n",
      " 165 166 167 168 169 170 171 172 173 174 175 176 177 179 180 181 182 183 184 185 186 187 188 189 190 192 193 194 195 196 197 198 199 200 201 202 203 204 205 206 207 208 209 210 211 212 213 214 215 216 217 218 219 220 221 222 223 224 225 226 227 228 229 230 232 233 234 235 236 238 239 240 241 242 243 244 245 246 247\n",
      " 248 249 250 251 252 253 254 255 256 257 258 259 260 261 262 263 264 265 266 267 268 269 270 271 272 273 274 275 276 277 278 279 280 283 284 285 286 287 288 289 290 291 292 293 294 295 296 299 300 304 316 320 327]\n",
      "[ 0.73176985  9.91936559 16.03954103 24.14989581 58.83490798] 290 290\n",
      "Distances under 100: [ 2.98261378 57.76147559  7.79490408 27.93659172 56.09492783 10.07990068  7.7132945  26.72052141 18.98209291  8.81671853  8.51852373  5.26123744 11.0395062  13.19414131 13.15660043 12.20036063 12.28967854 23.90985067  8.88570213 21.8622666   9.60819761  8.8228351  19.82446975 16.14417448  9.44527582  5.16271697\n",
      " 10.2010221  26.52776083 25.44586472 20.40939561 23.2458061  31.35586692 12.46843992 20.12619716 28.37971222 19.7298194  28.07723755 24.93203786 10.65822235 13.95360168 12.60868859 10.6672922  25.58962779 18.71350259 19.85807174  8.17241507 11.24351865 11.88324083  4.57379099 34.47886803 18.27141724 45.56434428\n",
      "  7.96398274 17.76605557 15.13174126 12.69273023 21.04927841 29.84778056  9.9049028  24.71390845 14.95795367 40.81376695 10.23439242  5.25881138 24.65593067  3.38865347 19.39637236 21.44630871  6.93465219 36.53917407 23.09187711 29.46705065 10.90385697  6.68392748 18.38614349 56.2548684  13.53899641 12.83902166\n",
      "  5.43075782 14.15842588  0.73176985  3.87025209  3.88479225  9.86360064 39.6626533   8.64912009 18.96248159 18.69233327 34.94124326  2.08041515  8.11660786 22.59093928 22.14187247  3.57411665 18.38420597 20.0361269   9.64570615 26.00566454 10.62952417 15.80597153 16.98024709 27.60820627 26.60883292 10.9471061\n",
      " 24.54659231 12.7878195  28.29101194  8.13196754 14.67907449  8.75058123 25.59888548 15.07003844  9.66722958 17.14927567  5.52654766 11.07355506 16.01177917 11.09599238 58.51504982  9.8542545  10.64064405 12.31273907 21.62121713  3.60578893  3.15423855  4.89552267  8.19224991 14.74275363 28.14217245 15.47485925\n",
      " 21.0665744  13.47757828 13.0135873   5.45506948 28.12074357  9.29670239 15.16964023 17.88067161 44.29742439 18.97356184 16.79307573 29.58034048 22.65022431 15.11867576 30.32163375  6.13051505  7.45500564 30.86549478 25.98856368 19.80558177 18.71460231  8.90381509 14.50713149  8.01188513 14.44879332 11.23617054\n",
      " 10.10424151 25.26584198  7.29842616 15.10323443 11.72050379  9.96275394  4.3864677   7.42358172 25.5776001  15.05451502  5.26557874  2.86039806 23.35140507 19.60616429 26.86079402  8.67503258  4.27086096 31.68454681  7.21546088  5.58881021  9.52756319 16.06730289  7.50361187  4.28952785 31.74188743  7.38663902\n",
      " 58.83490798 14.98397784 20.05183555  6.05795828  6.23369533 24.72188524 24.24220634 16.21536156 21.54479456 23.72163466  3.45504655 12.56734894 10.65038285 10.91012604 20.49197084 11.33967005 14.80585683  8.60513838 17.00054571 18.84322234 26.4033469   6.54654936 13.02110723  6.06737404 28.14502144  4.14491768\n",
      " 17.881725   13.54626271 31.96178942 18.66711999  2.66418696 46.2920337  13.71444747 23.6157811  17.96701837 55.16702402 25.36228644 17.99785773 20.10558323 35.828878    3.38732894  2.46782507 11.8730607  24.20171497 27.03219615 21.79549125 10.02381245 12.90504123 20.60384821 34.25375397 25.51040032  1.65068315\n",
      " 20.5250873  13.22493873 20.19980252 21.52392106 21.20114494 34.34288963 13.51965632 17.72870137 18.99481519 12.23339095  7.88977032 15.97814949 33.17345047 12.23959942 27.66817776  4.2010637  15.4262313  28.32118492 23.91798147 17.36984909 17.90658226 14.5829667   4.21677732  5.89071019 51.76182518 49.66065623\n",
      " 20.63389815 17.17292107 22.58604906 31.89977866 16.54204742 32.77143284 21.91595618 24.97686188 23.99443835 53.23937544 22.26640418 22.88448268 21.71378075 36.1566083  10.07624883 20.27203099 25.98066853 14.66101673  9.07044951 15.71233484 30.57332298 20.65552608 13.55614441 13.24839986 45.76233139 12.50528372\n",
      " 27.8561013  33.66442722 57.13555674 32.83584196]\n",
      "Enter Matching\n"
     ]
    },
    {
     "data": {
      "application/vnd.jupyter.widget-view+json": {
       "model_id": "edd4293accd141e2a64b0c4f096e165d",
       "version_major": 2,
       "version_minor": 0
      },
      "text/plain": [
       "Descriptor Matching (Flipped):   0%|          | 0/658 [00:00<?, ?it/s]"
      ]
     },
     "metadata": {},
     "output_type": "display_data"
    },
    {
     "name": "stdout",
     "output_type": "stream",
     "text": [
      "Results Update: 290 459 371\n",
      "371\n",
      "IDX 370\n",
      "DISTNACE 294\n",
      "DBSCAN 370\n",
      "INTERSECT 294\n",
      "295\n",
      "[  0   1   2   3   4   5   6   7   8   9  10  11  12  13  14  15  16  17  18  19  20  21  22  23  24  25  26  27  28  29  30  31  32  33  34  35  36  37  38  40  41  42  43  44  45  46  47  48  49  50  51  52  53  54  55  56  57  58  59  60  61  62  63  64  65  66  67  68  69  70  71  72  73  74  75  76  77  78  79\n",
      "  80  81  82  83  84  85  86  87  88  89  90  91  92  93  94  95  96  97  98  99 100 101 102 103 104 105 106 107 108 109 110 111 112 113 114 115 116 117 118 119 120 121 122 123 124 125 126 127 128 129 130 131 132 133 134 135 136 137 138 139 140 141 142 143 144 145 146 147 148 149 150 151 152 153 154 155 156 157 158\n",
      " 159 160 161 162 163 164 165 166 167 168 169 170 171 172 173 174 175 176 177 178 179 180 181 182 183 184 185 186 187 188 189 190 191 192 193 194 195 196 197 198 199 200 201 202 203 204 205 206 207 208 209 210 211 212 213 214 215 216 217 218 219 220 221 222 223 224 225 226 227 228 229 230 231 232 233 234 235 236 237\n",
      " 238 239 240 241 242 243 244 245 246 247 248 249 250 251 252 253 254 255 256 257 258 259 260 261 262 263 264 265 266 267 268 269 270 271 272 273 274 275 276 277 278 279 280 281 282 283 284 285 286 287 288 289 295 312 317 329 349 350]\n",
      "[ 3.21898943 15.73155666 22.34973637 29.52191967 74.61316588] 295 295\n",
      "Distances under 100: [ 9.86012016 58.85013568 18.759378   31.93799093 62.30342555 17.2525781  26.47710538 30.2572644  24.29058006 15.73861211 25.91550967 12.03891993 15.73380211 11.61539516 21.05611492 15.6562216  22.67210783 29.0972811  14.67412968 26.6452096   9.08494127 14.59463478 24.78120328 19.46270906  8.60269662  7.83049144\n",
      " 18.33424757 30.10584    28.95582178 12.82332086 29.92449849 33.8528193  12.84626895 25.67673755 34.24145687 24.31503391 34.22070611 28.93186095 15.12473692 17.59150047 19.77104567 31.65022389 24.03707466 22.43593568 17.07739757 13.93574732 20.13374045 15.78713386 40.52528248 25.68111511 37.59789763 16.21205749\n",
      " 24.68687158 19.96092538  6.56353128 24.95527162 28.82195548 16.2629554  29.82439257 18.2132078  35.72356994 19.29178076 13.93149985 31.82376333  4.79172115 23.59346275 24.98034096 15.07235436 25.93463568 28.28701251 32.14027861 35.26330075 13.16727896 27.79690955 49.36525125 20.15282848 19.14750228  5.18243211\n",
      " 73.20790364  7.79292413 39.0861352  43.53636043 15.63344659 28.38261164 13.92044776 22.56420368 25.76017936 41.02081899 10.94326947 15.44018345 29.390973   24.34446642  9.84303046 24.89740784 27.03924231 13.99333692 32.1263868  17.25127149 17.42265209 20.36617051 34.52255962 30.84220209 10.67449084 29.16253778\n",
      " 20.53834333 35.4009912  64.22870073 21.14276121 14.07496536 31.17503519 22.30280562 17.09338245 24.68057406 12.28658771 17.96099021 11.28554519 13.08417184 48.80653183 14.64893519 15.72023317 16.60866575 26.96327689 12.16207605 10.54761794 13.23549097 17.43317456 16.3302719  34.75328057 20.54968249 26.37169184\n",
      " 19.27753808 23.90784012  9.49767607 34.83386232  3.21898943 23.5618924  21.31075531 33.80801447 23.91986873 23.81872476 27.81657251 59.7517214  22.15503349 20.06178464 14.74926041 13.61527157 38.54667352 31.73288009 25.45154533 24.57961274 16.7490402  18.6246173  11.14932883 23.00096138 18.99394008 19.88139836\n",
      " 27.14351704 10.76015334 23.5821078  20.58790939 74.41406451 10.99365701 19.01521588 29.50198122 17.95172868  5.52206045  7.595794   17.31259916 16.4707916  31.6800951  15.45401881 12.4322513  39.11508929 12.06691858 15.7293112  14.04906044 17.36961073 15.99750742 10.55490913 37.91324898 11.91203778 61.98347443\n",
      " 23.68136833 25.31446606 14.62841074  8.37385139 28.02216738 31.19248154 23.32693051 12.23122128 27.61486139  4.6058299  22.24256787 17.69730951 18.01362314 24.7540092  20.37373154 23.88753641 13.98091975 18.73029944 24.68304774 31.91297546 14.33660226 15.64034123 11.21649023 31.5676387  14.00253605 23.86402568\n",
      " 18.69836064 36.88621416 23.29699855  7.76283248 46.53545132 19.10001669 18.3343798  23.88370678 50.34897222 35.00524039 20.65956992 22.34973637 42.73323983 12.41388212  7.27585108  9.38616556 26.25581188 33.39735996 27.71903154 19.26836519 15.19646573 22.66432    40.23528185 30.67223488 19.28771515 25.34599932\n",
      " 17.95791651 26.98811212 26.11936232 26.68116499 35.19565042 18.43226127 19.35746227 21.87454997 21.95155989 13.45187784 22.85037479 38.01222522 15.70137167 54.03700774 30.81321077 18.19749822 35.9163615  28.51658966 19.72645278 22.90573301 12.99205296  5.30821352 12.18745687 49.00835078 57.24261808 23.0611444\n",
      " 22.09357713 26.73662277 35.79375715 20.67552307 37.02722912 26.67291918 29.32536003 20.86044758 56.03036584 29.54185812 26.92082559 26.03052019 34.12367296 10.35225634 24.66705974 30.5197335  15.82714293 13.98779799 19.36463383 20.94631236 65.21176234 16.60473782 19.72988406 35.17784113  9.68272204 67.72710506\n",
      " 24.56776454 64.1897884  22.25259696 52.83339492 40.00128158 62.98489297 74.61316588 36.64927647 61.65203599]\n",
      "True False\n",
      "D:\\CaseStudies\\CornerDigitization\\FineAdjustment\\\\registration/48201C0840J.tif\n",
      "[[ 1.01722819e+00  1.35534448e-03  1.78624310e+05]\n",
      " [-1.35534448e-03  1.01722819e+00 -7.39988496e+04]\n",
      " [ 0.00000000e+00  0.00000000e+00  1.00000000e+00]]\n",
      "[[ 8.82309699e-01 -1.85696222e-03 -1.06467639e+07]\n",
      " [-4.22832296e-04 -8.89745551e-01  3.46401698e+06]\n",
      " [ 0.00000000e+00  0.00000000e+00  1.00000000e+00]]\n",
      "D:\\CaseStudies\\CornerDigitization\\FineAdjustment\\\\referencing\\48201C0840K.tif\n",
      "585 / 2229\n",
      "Enter Matching\n"
     ]
    },
    {
     "data": {
      "application/vnd.jupyter.widget-view+json": {
       "model_id": "760de14ad82044438157fa59ad8fc977",
       "version_major": 2,
       "version_minor": 0
      },
      "text/plain": [
       "Calculating Descriptors:   0%|          | 0/2142 [00:00<?, ?it/s]"
      ]
     },
     "metadata": {},
     "output_type": "display_data"
    },
    {
     "data": {
      "application/vnd.jupyter.widget-view+json": {
       "model_id": "c8dde9fb3c444ec0ba67b89928785d80",
       "version_major": 2,
       "version_minor": 0
      },
      "text/plain": [
       "Calculating Descriptors:   0%|          | 0/583 [00:00<?, ?it/s]"
      ]
     },
     "metadata": {},
     "output_type": "display_data"
    },
    {
     "data": {
      "application/vnd.jupyter.widget-view+json": {
       "model_id": "db29f8100f944c43b835d361ff807d2a",
       "version_major": 2,
       "version_minor": 0
      },
      "text/plain": [
       "Descriptor Matching (Flipped):   0%|          | 0/583 [00:00<?, ?it/s]"
      ]
     },
     "metadata": {},
     "output_type": "display_data"
    },
    {
     "name": "stdout",
     "output_type": "stream",
     "text": [
      "447\n",
      "IDX 446\n",
      "DISTNACE 314\n",
      "DBSCAN 446\n",
      "INTERSECT 314\n",
      "314\n",
      "[  2   3   4   5   6   7   9  11  12  13  15  16  19  20  21  22  23  24  25  26  27  28  29  30  31  32  34  35  36  37  38  39  40  41  42  43  44  45  46  47  48  49  50  51  53  54  55  56  57  58  61  62  63  64  65  66  67  68  69  70  71  73  74  75  77  79  82  83  84  85  86  89  90  91  92  93  94  96  97\n",
      "  99 100 101 102 103 104 105 106 107 108 109 110 112 113 115 116 117 118 120 122 123 124 126 129 130 131 132 133 134 135 136 139 140 142 144 145 146 149 150 151 153 154 155 156 157 158 159 160 161 162 163 167 168 170 171 172 173 175 176 177 179 180 181 182 183 184 185 186 187 189 190 191 192 195 196 197 199 200 201\n",
      " 202 203 204 206 209 210 211 212 213 214 215 216 217 218 219 221 223 225 226 228 229 230 231 232 234 235 236 238 239 240 241 243 244 245 246 247 249 251 252 253 255 256 258 259 260 262 264 265 267 268 270 271 272 273 274 275 276 278 279 281 282 283 284 285 286 287 288 289 291 292 295 297 298 299 300 302 303 304 305\n",
      " 306 308 309 310 311 312 313 314 315 318 319 320 321 322 325 326 327 329 330 333 337 338 339 340 343 349 350 352 354 355 356 357 358 361 365 366 367 368 372 375 377 378 379 380 382 384 386 387 388 390 391 392 397 398 400 401 402 405 406 408 409 412 415 419 420 424 426 427 432 433 435 436 437 440 442 443 445]\n",
      "[ 1.16205874  7.10291912 10.73528901 16.64939655 46.92334126] 314 314\n",
      "Distances under 100: [23.0241636   7.76450319  7.0089735  10.2938131   9.22651464 10.62688032  4.05546819  2.38847404 29.61358945 26.28642123  3.59675995 10.91099541  4.28353762  8.88652731  9.45910507 23.87502369 15.63929842  4.14065775 17.58567497 14.77800597  6.04627187  2.59159825 14.70797458 15.71623761  5.86754048 19.18645296\n",
      " 16.76867021 20.474431   15.73539741 10.88693997 25.62221087 11.99707267 17.17345419  8.90046508 25.73614516 14.47018771 10.70455381 13.97034868 12.05104533 22.36689121  6.27384076  8.83998845  9.1693448  18.2268866  20.909839   46.29282048 12.34009126  4.67597666 12.88762625 15.69702821 10.82440941 14.05926587\n",
      "  6.57041827 12.38861246 25.12182755 10.29050805  9.53323105 10.03389521 21.04647765  5.8780717   6.34700466  9.76125489  5.86664978  8.67499168  8.40936996 22.2584207  15.32207236  6.73815645 14.46995077  3.2711157  13.62269249  3.76494978 13.86428315 14.04016775  5.71587383  6.21189796  5.46758755 17.57335679\n",
      "  3.65727216 10.48044922  8.98643407 18.23409158  9.02342245 11.8682792  12.67686468 14.03480497  8.90961891  2.68294832  4.52058484 28.56661519 13.75904377  9.78179081  3.29678381  7.55736348 27.76026374  3.22859801  9.80279596 10.49352342 18.06807875  6.28188157 14.48041612 10.41210862  8.64692457 11.31426196\n",
      " 10.41350191 14.05836364 13.22174261  4.85146268 15.72718776  9.4199614  17.22068805 33.42178517 11.99263392 16.53223772  7.53933939 14.07875189  4.43487946 10.22838977  8.23704839 28.31765375 22.27220186  3.16768049  9.52282952  6.30947861 17.64773764 10.76036597  4.67919371 21.75700929 12.43997704  3.94380748\n",
      " 17.33440062 12.01558874 14.26677651 19.16355399 22.14295867  5.77472266  4.0791281  26.48658971  7.82181321  5.37020847  4.24263557  8.81822319 14.17093094  8.47942913 24.29262536 12.86150589  3.86935682 10.27704031  7.07043314 16.07643651 12.1695865  31.26041505 10.71021205  5.80614508 18.40715472 16.36852664\n",
      " 13.5065867  14.43578611  8.46653803 11.27150417  7.92455775  1.26788099  5.77110575 16.85971387  5.45164419 17.2038241  11.70017346 17.71907799  9.80379057 16.54629584  2.14391057 10.53336283 45.03292319  6.14012567  9.59822671  9.64654532  7.59359421  3.2137518   3.84729942 30.53621353  9.75322286  6.60302309\n",
      " 18.26974595 18.44566026  9.46924843 17.31018844  1.54472888 13.72589393  6.6436765  15.13555083  8.81845366  2.46216031 11.13125269  7.10602493 15.64355808  3.22302894  7.10188385 25.64435359 20.1688013   7.61092543  9.46087122 19.99783921 15.69178756 10.50240716 10.02989842 10.94299597  8.8444749  13.57413695\n",
      "  5.1335441  16.68376345 12.05921274 10.36791542  5.24571601 19.01512886  6.30557397  3.52996616  2.65373752  6.62138071 10.11042061 12.06691248 16.01893416 13.43414392 13.23480054 12.38729702 19.47866902  5.27854323  6.08987749  3.85580236  7.53865182  8.35121105  5.08908377 34.07859809 43.015822    1.16205874\n",
      "  5.48278807 24.75869243 11.21348693 15.06084531  8.1291543  11.03748604 23.40842039  8.48182569 12.79606977  8.61656352 10.04003356  7.95918306 18.91796204  8.55393202  8.19843025  6.86310561  7.3059685   4.93558723 12.62901262  5.01996422  7.36125164 14.75945439 15.39890269 13.0383721   1.73997552  3.06586285\n",
      " 23.36570919  7.0007802  20.19185079  7.69820545  2.3658762  18.46254196  7.77383099 17.67108292 14.61180265  2.59620471 17.04787106  7.6939442  34.5357035  18.23191772  7.55050056 27.10650874 41.3130767   4.37005193 10.1697859  15.66050621 46.71624114 23.83138268  3.7707471  23.50792045  7.28808895  8.30597493\n",
      " 10.34201991  7.23003973 13.81237885 20.18257775  3.70599466 46.92334126 37.76063836  2.81606179  9.18210119 25.38556876 13.83801678 22.0319155  26.88385274 11.40422153  6.8182055  10.00991373 30.98460688  7.65437553  6.30762721 10.86344253 11.79787189 13.32388084 44.70951344 23.56471204 32.65691472 24.98090955\n",
      " 21.83950691 12.86297984]\n",
      "Enter Matching\n"
     ]
    },
    {
     "data": {
      "application/vnd.jupyter.widget-view+json": {
       "model_id": "50266a3fdaf94404b42de6180f4b2530",
       "version_major": 2,
       "version_minor": 0
      },
      "text/plain": [
       "Descriptor Matching (Flipped):   0%|          | 0/583 [00:00<?, ?it/s]"
      ]
     },
     "metadata": {},
     "output_type": "display_data"
    },
    {
     "name": "stdout",
     "output_type": "stream",
     "text": [
      "Results Update: 314 446 368\n",
      "368\n",
      "IDX 367\n",
      "DISTNACE 284\n",
      "DBSCAN 367\n",
      "INTERSECT 284\n",
      "285\n",
      "[  0   1   2   3   4   5   6   7   8   9  10  11  12  13  14  15  16  18  19  20  22  23  24  25  26  27  28  30  31  32  33  34  35  36  37  38  39  40  41  42  43  44  46  48  49  50  51  52  53  54  55  56  58  59  60  61  62  63  64  65  66  67  68  69  70  71  73  74  75  76  77  78  79  80  81  82  83  84  85\n",
      "  87  88  89  90  91  92  93  94  95  96  97  98  99 100 101 102 103 104 105 106 108 109 110 111 112 113 114 115 116 117 118 119 120 121 122 123 124 125 126 127 128 129 130 131 132 133 134 135 136 137 138 139 140 141 142 143 144 145 146 147 148 149 150 151 152 153 154 155 156 157 158 159 160 161 162 163 164 165 166\n",
      " 167 168 169 170 171 173 174 175 176 177 178 179 180 181 182 183 184 185 186 187 188 189 190 191 192 193 195 196 197 198 199 200 201 202 204 205 206 207 208 209 210 211 212 213 214 217 218 219 220 221 222 223 224 226 227 228 229 230 232 233 234 236 237 238 239 240 241 242 243 244 245 246 248 249 250 251 252 253 254\n",
      " 255 256 257 258 259 260 261 263 264 265 266 267 268 269 270 272 273 274 275 276 278 279 280 283 284 285 286 287 288 289 290 292 293 294 295 296 297 298 300 301 302 304 305 306 310 336 349 367]\n",
      "[ 0.21430982  6.77463755 11.00668117 15.1830578  36.94013356] 285 285\n",
      "Distances under 100: [17.5559166  20.54640233  3.49262557 11.31312514 11.4026805   6.08991195  6.56443958  3.64644658 21.51385037 20.98186826  9.41732125  8.32969853  6.32159265 10.83924777  9.10296455 17.13195256 13.02083592 10.67685214 15.31375168  5.99347788 17.32094878 12.90197005 11.12051383 12.5096353   8.94919728 14.26105067\n",
      " 15.63502279 22.22811029 14.93701642 13.32760348  5.32989544 23.10426504 20.16104485  5.79816363 15.43412694  6.4182383  19.61553874  3.19866827 12.60092086  4.33267186 12.42698762 15.02571271 14.30663784  7.99528613 19.20803378 12.85967923  8.85015457  0.21430982  4.42950374 19.75275622  6.77463755 11.87660721\n",
      " 14.12443987  5.95006457  1.89130777 15.49066244  9.86370673  4.75265233  9.70167308 13.01583366  7.59223706 12.81242185 15.06943234  1.36874673 24.22913621  7.08862929 11.86782745  5.75152806 11.27151044  8.73871083  9.90157075  6.62301923 10.03683877 10.95856372 19.99488737  4.86332552  9.39146985 16.47781087\n",
      " 15.88680983  9.23427034  2.05782026 24.76096061 18.1664726   5.40961634  6.32657516 11.208202   27.86410249  4.98394659  6.78210366 10.99192504 12.7119333   9.56517493 14.1928823  12.65566204  2.72239367  9.92489882 15.19925422  8.48089449 13.91894283 18.66964317  9.33235422 11.19566565 32.71868032  9.91081828\n",
      " 13.90732732 13.16566441 16.58148024  1.64977848 10.69883256  5.99289882 31.25412704 19.8215153   5.05742545 14.2410137   4.02701479 21.47983845  5.74996963 10.57306007 16.13095477 14.83973672  5.73852223 11.33279771  8.714737   17.70999538 14.78398289 16.38303543  9.29132078  3.43858256 18.33200351  6.77820265\n",
      "  2.93470844  2.56783907 11.13626254 11.9128304  10.17983121 26.18099545  8.67918585  7.6864274  13.38927842  5.09210511 19.80060527 17.97113859 21.88502271 12.7762883   9.8552837  11.1044583  10.47981659  7.59376455 13.0970874   5.91165294  6.64895204  7.83146945  2.36510259  8.61574388  8.3863692   2.64967088\n",
      " 16.09334906 14.84854744 14.05104963  7.76891964 12.35731861  5.6452636  13.05881847 11.1942853  11.48495519  4.82646523  4.24693804  0.79405904  7.89216824 34.58780458  6.21145242 12.05972993 16.57734523 10.70974327 10.83410293 17.43924731  7.38353592 10.58968314 11.20989283 13.56668109 10.85869478  6.03807063\n",
      " 10.17528591  8.92789753  5.26419403  8.53135317 19.92355612 12.58788294  5.58988151 11.54674692 12.75009931 13.44829508  5.95914672 15.1830578   5.51037237 16.04224462  6.67092875 19.06979403 14.39162789  8.7411025   1.5949358  16.77271633  4.69926231  2.98276846  8.5849894  14.88700875 18.68260269 11.00668117\n",
      "  5.22458247 12.45518763 19.40222701  7.83031826  2.44099917  4.17180775 11.75351909  8.30033679  3.94034553  4.58425379 20.05450601 11.26973712 13.08826128  9.22029561 26.16615789 14.50415457 14.54105668  4.86186378 10.62706872  7.17596902 15.03435174  6.47424873  6.47992746 12.35477737  5.38265638 11.32627947\n",
      "  4.82165614 10.84073306 18.38592556 16.34526984  5.62014431  3.75975787  6.0498967  22.38339318  4.98554145 17.99360722  7.11598826  9.44795439  8.10346412 15.45020936  7.46644071  5.95263873 21.70958129  6.06181068  9.24137435  8.72312428 21.13428444 36.71862625  8.79403383 13.48038951 20.53983879  8.1540805\n",
      " 14.25362207 14.33663668  8.06782375 13.72899684  6.76623153 13.63173573 36.94013356  5.28108262 25.72386373 17.90419043 21.88792472 16.82615677 26.97114736 25.71651288 12.76161047  8.14263635  8.19077671 10.13688599 22.42107679 19.0458451   8.49002496 23.77912238 33.48919231 36.32420382 12.69274709]\n",
      "Enter Matching\n"
     ]
    },
    {
     "data": {
      "application/vnd.jupyter.widget-view+json": {
       "model_id": "3886b218324d4911a71e30d7c6190c6a",
       "version_major": 2,
       "version_minor": 0
      },
      "text/plain": [
       "Descriptor Matching (Flipped):   0%|          | 0/583 [00:00<?, ?it/s]"
      ]
     },
     "metadata": {},
     "output_type": "display_data"
    },
    {
     "name": "stdout",
     "output_type": "stream",
     "text": [
      "Results Update: 285 443 373\n",
      "373\n",
      "IDX 372\n",
      "DISTNACE 300\n",
      "DBSCAN 372\n",
      "INTERSECT 300\n",
      "301\n",
      "[  0   1   2   3   4   5   6   7   8   9  10  11  12  13  14  15  16  17  18  19  20  21  22  23  24  25  26  27  28  29  30  31  32  33  34  35  36  37  38  39  40  41  42  43  44  45  46  47  48  49  50  51  52  53  54  55  56  57  58  59  60  61  62  63  64  65  66  67  68  69  70  71  72  73  74  75  76  77  78\n",
      "  79  80  81  82  83  84  85  86  87  88  89  90  91  93  94  96  97  98  99 100 101 102 104 105 106 107 108 109 110 111 112 113 114 115 116 117 118 119 120 121 122 123 124 125 126 127 128 129 130 131 133 134 135 136 137 138 139 140 141 142 143 144 145 146 147 148 149 150 151 152 153 154 155 156 157 158 159 160 161\n",
      " 162 163 164 165 166 167 168 169 170 172 173 174 175 176 177 178 179 181 182 183 184 185 186 187 188 189 190 191 192 193 194 195 196 197 198 199 200 201 202 203 204 205 206 207 208 209 210 211 212 213 214 215 216 217 218 219 220 221 222 223 224 226 227 228 230 231 233 234 235 236 237 238 239 240 241 242 243 244 245\n",
      " 246 247 248 249 250 251 252 253 254 255 256 257 258 259 260 261 262 263 264 265 266 267 268 269 270 271 272 273 274 275 276 277 278 279 280 281 282 283 284 291 295 301 306 315 316 319 322 324 327 328 330 331 332 335 336 347 355 356 359 360 363 365 367 368]\n",
      "[ 1.37611308 17.92349268 25.28722536 34.552104   84.6352715 ] 301 301\n",
      "Distances under 100: [22.73431481 42.73415396  5.13942893 22.30099522 23.57362217 23.87448162 24.56928224 20.50596512 26.79394504 34.90351577 16.33713092 14.20054698 15.91920423 23.05044123 28.60470497 24.40168011 17.95766142 18.78398899 26.77001619 30.32512806 47.01274394 16.2820261  32.31571218 19.72669838 14.63756047 21.62710345\n",
      " 35.7828851  33.62551311 31.98686577 20.91978505 16.08949313 34.43452973 40.06106156 25.76534458 30.72098763  8.1853033  31.3196723  14.21689881 33.13545653  7.36865132 19.89169885 21.08447931 18.41764257 19.10999647 37.94179985 28.92823102 14.78176146 22.8093069  11.51015831 25.4536001  15.7977732  18.90185272\n",
      " 27.23450299  7.7837068  27.90710818 39.94172467 29.13959435 13.10659736  9.89266625 17.999182   11.62227737 36.61429383 36.82710201 20.3368305  15.60971798 14.53213971 20.25745599  9.4004225  32.90197996 13.51538828 15.24746524 23.17156277 35.63050346 27.40073854 36.43315096 14.17890736 39.73979093 40.28453866\n",
      " 31.99082999 19.72347571 12.14625487 34.35689189 39.71466346 14.15403964 17.92349268 25.85801054 25.78148412 28.83902427 20.39337877 21.87560978 21.33021508 26.84785501 25.43254368 22.61635709 36.43648711 19.39256688 27.26189156 35.2175188  25.18681064 18.95050246 44.90487723 26.66017842 34.0213895  25.86270446\n",
      "  8.44274987 34.0931472   5.89404668 39.07898382 34.71039817  4.87315453 23.83105887 15.22297129 49.9555572  13.28759206 15.19539963 23.58968198 29.76485339 15.23701335 22.49160476 23.57256751 45.02589062 18.55441428 23.98421593 26.20305679 13.75693937 23.05699093 28.76914887 15.64354655  8.63912126 19.68512679\n",
      " 19.61488263 18.79990404 14.2087764  15.34979614 30.19991371 70.9002786  49.14735465 37.05928377 25.45971217 28.19500366 34.51382774 15.39722578 17.25303245 29.31663657 30.93087704 18.65733164 11.43646231 83.85295311 17.57187221 13.73446221 12.5141191  21.18325327 33.60347893 38.8997918  18.87128612 16.74605449\n",
      " 24.33708    32.27824317 25.96110523 23.31990299 35.76232517 10.7331605  11.02573778 21.63404954 17.84204259 33.70458006 22.89005992 62.64760135 13.79428294 26.30266706 18.70582524 22.26924398 41.32605194 30.01426125 36.86710994 21.87212362 14.04928644 54.25802624 17.12454432 26.96915155 21.51274942 16.07671014\n",
      " 16.52315741 34.93123185 17.54115409 31.90401246 21.01289929 37.58220555 28.35204535 36.93400017 25.11466877 43.65370521 39.75042869 24.28009811 21.09722668 30.65050078 25.28722536 22.00614129 19.62268329 40.19523689 42.91118216 28.60413829  8.82711668 37.500079   45.78066238  1.37611308 24.74188251 26.26074897\n",
      " 38.09891083 30.68945912 16.56852087  2.26534925 26.82385077 18.64923953 39.72177455 31.99468014 38.06715879 29.5748018  20.3630077  34.32804788 25.58928144 15.26446818 16.24428811 12.16663612 24.78807974 29.7003054  36.93958015 20.29542286 43.82331051  9.78491222 27.45979872 28.9432572  36.19458532 28.82005501\n",
      " 26.26015552 19.32319602 15.0467473  31.99282602 14.88843504 17.69257835 27.609055   36.8380554  16.16408796 14.01017927 36.30045016 23.30422612 40.34102906 18.95234427 26.07890724 24.95944788 25.0909466  32.87507337 34.552104   18.1224753  25.04286566 20.85359829 28.46143811 34.84511492 12.06400733 34.30666091\n",
      " 43.09390371 17.55289485 12.79662302 19.03896574 22.50713701 31.93436578 16.23515953 14.40620998 16.66721425 27.95821673 31.48709622 13.89513726 33.75734764 16.61020154 61.78393661 37.00228627 39.80723384 82.98571802 70.74030761 13.30996261 69.00251091 72.54838759 53.3861632  75.10765423 74.47193893 69.34090085\n",
      " 27.36353159 79.26040519 60.82040367 78.98670681 42.6848185  42.20209458 65.29453161 71.76945876 44.01768613 48.65875346 84.6352715  47.71633941 24.77081807 63.07556634 69.05986064]\n",
      "True False\n",
      "D:\\CaseStudies\\CornerDigitization\\FineAdjustment\\\\registration/48201C0840K.tif\n",
      "[[ 1.01285013e+00  1.22990703e-03  1.32462047e+05]\n",
      " [-1.22990703e-03  1.01285013e+00 -5.75337798e+04]\n",
      " [ 0.00000000e+00  0.00000000e+00  1.00000000e+00]]\n",
      "[[ 8.72322837e-01 -5.83526709e-04 -1.06467423e+07]\n",
      " [-1.48789371e-03 -8.85703731e-01  3.46399632e+06]\n",
      " [ 0.00000000e+00  0.00000000e+00  1.00000000e+00]]\n",
      "D:\\CaseStudies\\CornerDigitization\\FineAdjustment\\\\referencing\\48201C0845J.tif\n",
      "1151 / 4693\n",
      "Enter Matching\n"
     ]
    },
    {
     "data": {
      "application/vnd.jupyter.widget-view+json": {
       "model_id": "85afb844d0714085b93f70ffc0515987",
       "version_major": 2,
       "version_minor": 0
      },
      "text/plain": [
       "Calculating Descriptors:   0%|          | 0/3582 [00:00<?, ?it/s]"
      ]
     },
     "metadata": {},
     "output_type": "display_data"
    },
    {
     "data": {
      "application/vnd.jupyter.widget-view+json": {
       "model_id": "38f01fb5b6ef46c99b9c5c248b7070fb",
       "version_major": 2,
       "version_minor": 0
      },
      "text/plain": [
       "Calculating Descriptors:   0%|          | 0/1149 [00:00<?, ?it/s]"
      ]
     },
     "metadata": {},
     "output_type": "display_data"
    },
    {
     "data": {
      "application/vnd.jupyter.widget-view+json": {
       "model_id": "a4c2def07e7d4a46a69cebfb053fe695",
       "version_major": 2,
       "version_minor": 0
      },
      "text/plain": [
       "Descriptor Matching (Flipped):   0%|          | 0/1149 [00:00<?, ?it/s]"
      ]
     },
     "metadata": {},
     "output_type": "display_data"
    },
    {
     "name": "stdout",
     "output_type": "stream",
     "text": [
      "742\n",
      "IDX 741\n",
      "DISTNACE 484\n",
      "DBSCAN 741\n",
      "INTERSECT 484\n",
      "485\n",
      "[  0   1   3   4   5   8   9  10  11  15  16  18  19  20  21  22  23  24  25  27  29  30  31  32  33  36  37  38  39  41  43  44  45  46  50  51  52  53  55  57  59  60  62  63  64  65  66  67  68  69  70  71  73  74  75  76  77  78  79  80  81  82  83  84  86  87  88  89  90  91  92  94  97  98 100 101 102 104 105\n",
      " 106 107 108 109 110 111 112 113 114 115 116 117 119 120 123 124 125 126 127 129 130 131 132 133 136 138 141 142 143 144 145 147 149 150 151 152 153 154 155 156 157 161 162 163 164 165 166 167 168 169 171 172 173 175 176 177 179 180 181 182 183 186 188 189 192 193 194 196 197 198 199 200 201 202 203 205 208 210 211\n",
      " 212 214 215 216 217 218 219 221 223 224 225 226 227 228 229 230 231 232 233 234 235 236 238 239 240 241 243 244 246 247 248 250 251 252 253 254 255 256 258 259 260 261 262 263 265 266 268 269 270 273 274 276 277 278 279 280 282 284 286 288 289 290 291 292 293 294 295 296 298 299 301 302 303 305 306 307 308 309 311\n",
      " 312 313 314 315 316 317 319 320 321 322 323 326 328 329 330 331 332 333 334 335 336 337 339 340 341 343 344 345 346 347 348 349 352 353 355 356 357 359 361 362 363 364 365 366 367 368 370 373 374 375 376 377 378 379 381 382 383 384 388 389 390 392 393 395 396 397 398 399 400 401 402 403 406 407 409 410 411 412 413\n",
      " 415 416 418 419 420 421 423 424 425 426 427 428 429 430 432 435 436 437 438 439 443 445 446 448 449 450 451 452 453 456 458 459 460 461 462 463 464 466 467 469 470 472 474 475 478 479 482 485 486 487 488 489 490 491 492 493 494 495 496 500 501 503 504 505 508 509 510 511 512 515 518 519 520 521 523 524 527 528 529\n",
      " 530 536 537 539 540 541 543 544 548 549 550 551 552 553 556 559 562 566 567 568 569 572 574 575 576 577 579 580 589 591 595 597 600 601 603 605 608 609 612 614 615 616 618 619 620 622 623 627 628 630 631 632 644 646 648 651 655 659 660 666 668 669 670 671 672 673 674 675 677 680 681 682 684 685 686 689 694 698 699\n",
      " 701 705 706 710 712 714 716 717 722 728 731]\n",
      "[ 1.94273636 10.95066095 15.29658316 21.78640519 64.82617279] 485 485\n",
      "Distances under 100: [44.2502185  17.25927941  2.763638    7.76227314 27.11027267 17.48075431 28.70014081 20.82975687 12.86700066 28.2638815  18.7159453   6.90172516 13.14132292 13.0398792   3.96234016  7.34952563 13.8873196  22.56313191  7.60898418  6.48212383 10.74326135  7.69199697 24.2665416   7.14416974  5.83124737 17.01287904\n",
      "  7.62915598  1.94273636 12.24951272 35.76679511  6.55344997 11.00811075 19.73706418 14.22895887 21.78640519 15.01945496 12.45211373 58.66733458 14.88978116 14.15019944 21.55480564  7.78284672 20.92002263 16.91701839 15.56204147 14.22133496 11.85587771 13.59067951 17.39559318 10.98184886 10.95066095 21.95137418\n",
      " 18.12692819 10.88477409 42.62513946 15.96596112 14.52794329 13.71429526 18.14459032 15.1300377  54.67151531 13.87864712 14.97636083 13.90797338 23.59071139  9.07378875 11.45297264 60.16844516 11.94904897 12.04851238 10.1078911   9.23733144 10.80613393 14.60281264 18.79586142 21.80123262 20.92863426 57.15464701\n",
      "  7.09458064 16.54042386  8.01434934 14.90770054  7.51067291 15.74598726 12.66770737  5.97126484 17.96744549 34.99566599 31.89562229 29.8266386  18.2737908  21.62348657 14.03070323 23.10326293 13.49214711 14.0901475  21.7895787  20.41517243 17.65504725 10.12154881 27.3090999  18.44436864 16.50112298  2.2943241\n",
      " 14.4083752  16.1887949  10.46667954  6.19358772  7.68926305 22.5702915  25.39601521 23.66616285 14.94252639  9.14773055 10.8620042  14.76788089 11.36727911  6.15442742 17.01139043 44.90424725 11.77062705 28.57460094 13.943968   10.77146725 16.56355509 13.79914272 12.71864837 14.15401615 25.72431699 21.6462551\n",
      " 15.36982417 15.61922481 19.90313024  4.39386967 10.04369496  8.91905231 15.29658316 11.9520404  10.043633    9.31471531  9.07862562 20.5738108  17.80458655 24.64825901 10.82302213 13.24516487 15.2086506  10.26620099 12.2167038  17.80522216 16.75152434  5.4881742  13.15539646 21.86663548 11.06159332 18.02784736\n",
      " 19.62586714 15.26535061  7.72527842 12.50306021 18.4913293   5.80454163  5.51587878 11.94876547  8.94187204 23.00804442 18.90686341 13.51129706 15.26306639 22.09389262  4.87988068 13.92343494 16.86643565 22.90609775 44.87084167 14.13484978 21.20868645 17.03089399  3.94081147 10.65111287 23.33272245 17.64746443\n",
      " 12.76074641 24.13131413 16.58226485  9.91374999 21.75411354 11.37824567  2.7408499  15.44925089 12.41306239  9.98946047 16.40362229 23.92243014 18.44096465 33.10492953  9.54442536  6.14880901 10.01570351 11.79574417  9.15145295 17.5589531   7.97140322 20.18246154  9.71497791 17.87296678 17.91955829 14.03596456\n",
      " 11.56276584 26.70419924 14.50939054 19.35166542  9.47180779 26.55505908 25.4364854  18.18428671 11.10194096  8.34342014 13.01340798 29.28653773 21.25795068  9.8295174  28.87262185 13.25292325 14.37447147 21.43308468 16.96593352 13.35008481 16.65317627 21.33019476  6.23114701 52.1289958  64.71399706 29.38288405\n",
      "  9.55500618 11.7714383   7.84949537  5.71715437  3.79326726 13.42192662 15.20226247 52.35654348 19.90332294 14.68130617 19.77878305 21.71424112 26.12336775  9.26452973 22.66645293 23.85769853 19.40626496 15.38156989 14.51221069 18.68479105  9.81271427 14.11760529 27.65691578 12.22749124 14.18269202 13.68289161\n",
      " 11.63044929  6.39016327  3.03351867 21.93473972 15.86299145 28.30751021 15.18256665 13.3108693   9.50899994 12.05237175 12.4403506  19.62824579  9.64541084 12.46969574 19.91833542 39.3669519  15.55577317 10.20801222 20.94249896 29.64646637 18.66235505  3.25273641 17.75913665 16.30867448 18.88535855 11.69682334\n",
      " 12.70469022 22.50899461 13.91307232 12.27080712 24.76761205 37.10252352 24.05638881 10.42128561  7.96816506 55.42776753  6.28958755 16.97422208 12.29269251 11.93566781  9.64482144  9.28266573  4.13811398 14.96175142  5.0282014  10.77026616 26.01787923  2.8644924   3.05143657  8.4802131   8.01961216 14.41260371\n",
      " 20.16801742 18.86958068  8.68381051 18.68930144 30.29033914 19.10102296 19.13649932 18.21391513 11.86897391 21.5454598  16.65697307 15.40568324  7.29516347 21.51118916 15.10811751 12.24653252 10.04504597 35.80450512 27.60931714  6.99445143 40.67729837 19.08267151 55.39893226 18.68710457 13.33261559 17.18384115\n",
      " 25.8986097  45.69529952  6.2247415   8.54128267  8.1866238   4.16644319  3.73039612  8.09922824 25.53549997 19.64478882 14.74486661 26.79660216 14.62541158 23.1042744  24.30666489 20.2794893  14.17929402 24.2435933  19.32045085  3.80873417 26.02785834 14.04804208 21.16581206 18.20840452 26.48977024 14.28459036\n",
      " 20.83849682 13.23018666 13.44935885 22.19965683  4.79809536 12.66458089 21.7712171   5.06462114 15.96844116 18.41346469 37.98909753 13.73064687 24.62661416 16.96728129  8.00275207 24.93289369  7.06355574 15.82115924 16.77587704 12.61869187 15.68601587 14.34644804 22.49856029 54.03229821 13.94425732 20.10691576\n",
      " 17.31842284  8.60259769 26.37687354 11.42566563  3.75342669 16.23939291  9.30357039 25.23762123  8.67973911  7.73539119  4.80689796 34.66875835 18.52916914 25.50350462  7.17740258 15.73345371 13.12291645  8.04020469 14.82058069 11.05384751 32.19059401 19.37398874  8.38439538 31.79013471 21.95516964 15.25861168\n",
      " 12.40643978 18.18345226  2.86495689  8.7519485  11.77238945 26.68214447 15.63286412 11.62953592 44.59403818 18.83206258 18.12394619 14.85526493 26.32066636 30.16437323 20.04163558 12.21795586 13.62908054 36.02564941 43.37016271 17.75916787 18.34469525 44.66485659  5.75287324 43.58008859  9.87299022 20.70356483\n",
      "  4.90041648 31.59871174 23.49714919 25.63512358 34.23168399 54.73385796 39.19270398  4.81754541 31.61160898 20.16054923 29.8314744  43.22858037 58.97062231 31.87863566 25.62516143 23.86237907 24.75481881 64.82617279 11.18541277  7.92609205  5.03689556 15.7138903  20.21431669  7.03138101 23.66232504 35.05047654\n",
      " 30.18704238 43.85181324 54.43333111 64.04154776 38.52069745  6.70771886  8.65712096 14.28905688 13.39458121 15.45260356 33.59006055 11.01599414 37.44368304 11.16761246 12.92639526 31.94445265 26.65813199]\n",
      "Enter Matching\n"
     ]
    },
    {
     "data": {
      "application/vnd.jupyter.widget-view+json": {
       "model_id": "bcbfde7680b24ab18382ee3c07cbbaba",
       "version_major": 2,
       "version_minor": 0
      },
      "text/plain": [
       "Descriptor Matching (Flipped):   0%|          | 0/1149 [00:00<?, ?it/s]"
      ]
     },
     "metadata": {},
     "output_type": "display_data"
    },
    {
     "name": "stdout",
     "output_type": "stream",
     "text": [
      "Results Update: 485 749 599\n",
      "599\n",
      "IDX 598\n",
      "DISTNACE 455\n",
      "DBSCAN 598\n",
      "INTERSECT 455\n",
      "456\n",
      "[  0   1   2   3   4   5   6   7   8   9  10  11  12  13  14  15  16  17  18  19  20  21  22  23  24  25  26  27  28  29  30  31  32  33  34  35  36  37  38  39  40  41  42  43  44  45  46  47  48  50  51  52  53  54  55  56  57  58  59  60  62  63  64  65  66  67  68  69  70  71  72  73  74  75  76  77  78  79  80\n",
      "  81  82  83  84  85  86  87  88  89  91  93  94  95  96  97  98  99 100 101 102 103 104 105 106 107 108 109 110 111 112 113 114 115 116 117 118 119 120 121 122 123 124 125 126 127 128 129 130 131 132 133 134 135 136 137 138 139 140 141 142 143 144 145 146 147 148 149 150 151 152 153 154 155 156 157 158 159 160 161\n",
      " 162 163 164 165 166 168 169 170 171 172 173 174 175 176 177 178 179 180 181 182 183 184 185 186 187 188 189 190 191 192 193 194 195 196 197 198 199 200 201 202 203 204 205 206 208 209 210 211 212 213 214 215 216 217 218 219 220 221 222 223 224 225 226 227 228 229 230 231 232 233 234 235 236 237 238 239 240 241 242\n",
      " 243 244 245 246 247 248 249 250 251 252 253 254 255 256 257 258 259 260 261 262 263 264 265 266 267 268 269 270 271 272 273 274 275 276 277 278 279 280 281 282 283 284 285 286 287 288 289 290 291 292 293 294 295 296 298 299 300 301 302 303 304 305 306 307 308 309 310 311 312 313 314 315 316 317 318 319 320 321 322\n",
      " 323 324 325 326 327 328 329 330 332 333 334 335 336 337 338 339 340 341 342 343 344 345 346 347 348 349 350 351 352 353 354 355 356 357 358 359 360 361 362 363 364 365 366 367 368 369 370 371 372 373 374 375 376 377 378 379 380 381 382 384 385 386 387 388 389 390 393 394 395 396 397 398 399 400 401 402 403 404 405\n",
      " 407 408 409 410 411 413 414 415 416 417 418 419 420 421 422 423 424 425 426 427 428 429 431 432 433 434 435 436 437 438 439 440 441 442 443 444 445 446 447 448 449 450 451 452 454 455 456 457 459 460 461 462 479 498 526 537 547 554 571 581 587]\n",
      "[ 0.32265045 11.29805264 16.67920016 21.98047981 55.53715623] 456 456\n",
      "Distances under 100: [48.19392824 10.91615753  7.03801052 14.14956935 31.92166004 12.7867678  22.30728633 13.94929848 13.92654832 30.88904176 13.57311429  4.69960482 13.29757581 14.31660948  9.79175875 37.48617218  6.4300712  21.51252017  9.9888055  10.70522685 17.32457536 10.25210414 20.77858501  9.19684913  1.65396011 21.35532638\n",
      " 11.66487326  6.13530715 16.24218569 30.41026406  6.69943384 16.76113209 24.81609488 17.96108691 15.45912731 10.31493924 25.93929526 54.99287506 18.62653685 15.84394068 17.11454492 12.61738342 24.40195323 14.5246294  23.34978109 11.96128414 12.94167041 11.97291816 21.61710449  9.08836169 17.07043799 12.89897058\n",
      "  8.33185859 35.51510303 19.64371579 17.76192331 17.43626095 22.27587151 19.00035246 25.8011332  18.66878037 12.24882963 21.65558625 11.56751789 15.20747508 17.29888102 12.16934824 10.90054568  7.83213742 14.61694936 19.64742324 20.60339225 24.08068409 23.73914382 53.86664264 12.34213996 20.12576089  7.0078233\n",
      " 19.39948404 11.60667256 10.47765785 17.48872173  9.33293366 14.32060922 29.76296006 28.79771822 31.80477083 24.23655076 19.1556049  17.87527039 19.30185247 15.36685828 18.92960467 21.37623587  6.2419553  31.73709641 12.76081706 10.05598951  6.01772904 18.69231712 21.03891259 11.85733638 12.09888225  0.68231241\n",
      " 15.5464546  20.88347356 28.56974527 17.98424827  4.5962716  15.77825775 19.54647317 16.41530757 10.07886448 10.97026489 38.83798725 15.50403358 23.01568133 18.52464443 11.91059543 15.35989668  9.09522813 10.34560402 18.53972793 22.9108243  16.15399963 12.34406765 18.79047863 17.20248998  8.73530761 13.5904573\n",
      "  6.60599511 14.37447827  5.56283768 15.00352808 10.84619905  6.71365039 14.29454628 26.75782428  5.89798971 17.58394637 10.71266048 15.24448244 15.93708144 17.47107614 21.10022682  9.83680781 10.21605068 15.69904359 14.45090652 16.1390421  17.50968328 10.54627694  3.69749354 14.62704946 17.85876843  5.18513958\n",
      " 33.71994677 17.01080461  5.62906332 19.70946947 23.96367822 17.83414463 18.15186928  9.4642954  14.9257662  20.40401616 25.63353182 45.10768033 19.19891386 16.18169228 21.63494134  6.22131338  9.49676185 17.52014473 22.51995479 17.20706491 18.21352454 11.3822408   7.68439125 25.65697527  4.70955117  9.78446454\n",
      " 19.78677439 16.95495904 13.01001264 10.99375967 18.50855689 22.77397349 27.61925056 14.2979578   0.32265045  3.23848478 16.62937475  3.80551729 15.34921899 12.97490432 13.94956993 13.46957564 21.35425454 17.40896194 12.36740045 15.05614755 17.26108934 20.09955798  9.59140547 24.55673282 27.22243952 20.77040498\n",
      " 15.57530783 14.44398749 18.31307649 31.89551972 26.06528556  7.76970123 25.54365241  7.89673839  9.96409126 25.71562548 51.4774132  27.41257878 21.60546466 17.99448933  0.97180707 48.85196176 24.27953331 12.53063374  6.64573117 11.17588324  1.82119189  8.74458279 12.96006051  8.67982081 55.53715623 16.1175294\n",
      "  8.34676852 18.68806053 17.6031684  22.07653819  9.51454034 18.46483038 21.02027542 19.28706896 12.89692905  9.40104621 15.53390271 14.33661418 18.54085007 30.20193094 17.13532139 17.34313014  7.09809407 15.93897386  8.68557682 29.58760516 25.71222916 14.94410763 30.91643221 10.51457967 18.05298471 11.05561655\n",
      " 21.12986958  6.56629899 24.97397208  2.78208576  8.41521793 17.08349198 33.12551749 12.6003919   4.9028606  21.31134535 25.04264265 16.85034609  3.48694548 22.70715895 21.15759898 24.30547113 10.64098791  7.54196913 18.20756673  7.4330095   7.79563242 24.71538788 42.18495473 25.9389198  11.15413261  7.40215062\n",
      " 13.50540598  2.27913049 17.80144903 16.29504513 16.81785499 14.12388269  1.65232549 20.10881246  8.39977529 14.21414494 28.95419794  6.77045228  4.75107691 10.73983472  2.25337739 16.34961971 24.61617397 15.8426984   8.95998944 21.27090384 23.82008242 23.99492253 13.21174946 23.01256435  9.32076742 17.50315142\n",
      " 20.30461011 20.10395147 16.39999618 26.64203427 19.83617065  6.67926512 16.72902556 30.41804703 21.3923775  10.04432481 35.54320073 24.49587231 17.62709428 17.61901786 12.63876477 19.20272083  8.99110926  7.99147186 15.28563478 13.29357565  6.32395074  3.0753735   1.44381523 23.74681892 16.8407658  14.16353786\n",
      " 23.3245161  15.22037589 28.35337157 17.21185478 14.55681468 12.52730279 29.18489858 13.27738152  5.35863474 27.56159603 18.42511622 23.29413913 22.32871862 22.29285082 15.98681974 14.21709388  8.77617145  7.8463652  26.90629873  7.66052801  7.73076018 19.16245259  5.53016272 10.75745096 12.61900259 47.84798384\n",
      " 19.81370515 21.99395539  1.97641486 19.2169776   7.55781022 47.02703953 11.33877578 17.0469138  14.2417878   8.16851764 16.39834712 18.47228558 22.76623474 12.32044653 13.40514008 28.56660738 12.5742429   3.87393079 19.2945294  13.42455019 14.03927594 29.62387161 17.27256051 28.65783665  8.49369808 19.36592162\n",
      "  5.57193273 19.47606939 14.89959476 26.64572591 43.55140744 17.71839575 22.82377309 20.0590208  11.67611949 12.6257796  10.06972095 13.10683269 20.02299108 13.29926108 36.46324337 12.94346999 15.8545726  21.1227766  27.08143281 23.12063309 38.20776233 16.04876547 38.79155794 43.42914222 11.34631017 21.97598795\n",
      " 11.8003953  15.82250533 25.927044    6.44212448 35.1001787  16.50698643 28.69075609 32.13662062 50.9762945  41.70885265 10.13507008 24.91177726 15.17253551 41.46183977 28.95315698 18.91917221 16.24608432 12.91503857 17.43052382  4.20663554 18.05255268 35.64435348 54.61271602 36.63664411 16.53178822 17.0989371\n",
      " 27.11454267 41.81534616 12.44438757  7.10605187 30.667909   33.29967546 21.77711383 19.19867726 31.35723767 36.88908905 18.88553245 42.62088097 49.6208101  36.80510888]\n",
      "Enter Matching\n"
     ]
    },
    {
     "data": {
      "application/vnd.jupyter.widget-view+json": {
       "model_id": "bd8fd7c8b8bf4bca86f3912d2a6ebd80",
       "version_major": 2,
       "version_minor": 0
      },
      "text/plain": [
       "Descriptor Matching (Flipped):   0%|          | 0/1149 [00:00<?, ?it/s]"
      ]
     },
     "metadata": {},
     "output_type": "display_data"
    },
    {
     "name": "stdout",
     "output_type": "stream",
     "text": [
      "Results Update: 456 765 607\n",
      "607\n",
      "IDX 606\n",
      "DISTNACE 466\n",
      "DBSCAN 606\n",
      "INTERSECT 466\n",
      "467\n",
      "[  0   1   2   3   4   5   6   7   8   9  10  11  12  13  14  15  16  17  18  19  20  21  22  23  24  25  26  27  28  29  30  31  32  33  34  35  36  37  38  39  40  41  42  43  44  45  46  47  48  49  50  51  52  53  54  55  56  57  58  59  60  61  62  63  64  65  66  67  68  69  70  71  72  73  75  76  77  78  79\n",
      "  80  81  82  83  84  85  86  87  88  89  90  91  92  93  94  95  96  97  98  99 100 101 102 103 104 105 106 107 108 109 110 111 112 113 114 115 116 117 118 119 120 121 122 123 124 125 126 127 128 129 130 131 132 133 134 135 136 137 138 139 140 141 142 143 144 145 146 148 149 150 151 152 153 154 155 156 157 158 159\n",
      " 160 161 162 163 164 165 166 167 168 169 170 171 172 173 174 175 176 177 178 179 180 181 182 183 184 185 186 187 188 189 190 191 192 193 194 195 196 197 198 199 200 201 202 203 204 205 206 207 208 209 210 211 212 213 214 215 216 217 218 219 220 221 222 223 224 225 226 227 228 229 230 231 232 233 234 235 236 237 238\n",
      " 239 240 241 242 243 244 245 246 247 248 249 250 251 252 253 254 255 256 257 258 259 260 261 262 263 264 265 266 267 268 269 270 271 272 273 274 275 276 277 278 279 280 281 282 283 284 285 286 287 288 289 290 291 292 293 294 295 296 297 298 299 300 301 302 303 304 305 306 307 308 309 310 311 312 313 314 315 316 317\n",
      " 318 319 320 321 322 323 324 325 326 327 328 329 330 331 332 333 334 335 336 337 338 339 340 341 342 343 344 345 346 347 348 349 350 351 352 353 354 355 356 357 358 359 360 361 362 364 365 366 367 368 369 370 371 372 373 374 375 376 377 378 379 380 381 382 383 384 385 386 387 388 389 390 391 392 393 394 395 396 397\n",
      " 398 399 400 401 402 403 404 405 406 407 408 409 410 411 412 413 414 415 416 417 418 419 420 421 422 423 424 425 426 427 428 429 430 431 432 433 434 435 436 437 438 439 440 442 443 444 445 446 447 448 449 450 451 452 453 454 455 456 477 488 510 515 518 521 525 537 544 546 570 587 590 596]\n",
      "[ 0.37277751 14.79094699 22.55962776 30.30704017 80.82560979] 467 467\n",
      "Distances under 100: [47.1866302  11.08366828  6.59579393 13.88265276 39.23622515 17.90573199 25.95550455 16.78227802 15.83059095 39.5179665  17.13454269  1.91493498 14.13498121 15.91011104  9.08523995 23.74292987 10.41368022 21.2845601  22.38576408 10.8840958  17.50849381  9.43630559 27.91536924  5.26746394  0.37277751 30.13722836\n",
      " 23.68956288  5.28345719 27.86727732 33.18979024  5.06582157 33.73568833 32.11229077 78.17551051 35.9403033  12.46806512 18.83277638 66.84244161 31.12292322 15.72882968 18.73671222 19.58402109 31.5422262  14.32109545 20.48483264 10.23312406 25.62579742 12.3929311  29.08101627 17.61768431 18.71509268 20.19130183\n",
      " 10.24064922 37.5969341  33.98512456 30.70279174 29.17308571 29.48449247 31.75622628 31.60674455 32.68132372  9.04297664 22.85304292 14.1654513  69.96970552 22.62478012 19.8178072   9.94513942  9.00335119 26.56366662 29.88161831 41.57662729 30.61604751 34.65877523 21.23702978 34.23245269  5.93138188 26.66770786\n",
      " 22.30054465 20.01213357 26.18377675 21.37755223 21.56515669 41.3315978  32.39898696 37.28176137 27.01282076 24.88263723 23.64337414 26.07361944 19.04930064 20.72341948 29.8646548   6.67987202 40.69314552  7.24308445 12.26756355 13.88425025 26.70510383 29.28486614 18.52804911 12.15230433  2.64068188 17.23142226\n",
      " 27.91885282 25.7584899  25.82440065 18.10902853 24.30021756 26.6261989  22.38750889 12.29053247 15.18293077 36.72067655 21.1324994  62.30994625 25.78077481 18.67009996 21.92918311 11.2716811  19.60284605 26.64520407 25.8118737  23.2816219  13.53514354 26.86317117 21.00217855 13.54472521 73.11948567 13.77741122\n",
      " 13.99738009 10.44851313 21.57593442 23.88766993  6.00010021 15.95557947 35.25577218  6.40580603 30.44032857 11.96422465 22.81902235 15.81749018 45.2939354  27.71363021 17.44467701 11.11926017 23.88769829 22.15410473 20.51866615 16.92283852  7.33036665 10.94682971 16.7400613   3.33123586 28.3440933  24.52420348\n",
      " 13.26568116 24.31813067 27.18141947 24.58315622 23.41437154  8.5024389  20.25308488 31.95111593 37.53773561 39.64212825 25.943019   31.11710447 19.00488451 13.4797107   9.80231976 21.27993145 30.47358088 24.59211293 21.58408032 15.4209991   9.49214635 32.80391433  5.91006151  7.50669118 27.14698313 24.01975057\n",
      "  6.69852618 12.76472305 20.57600796 30.96956129 33.35202938 22.38718333 13.83363982  8.2632057  23.54617973  3.38788948 23.85809808 19.12570763 16.00682533 16.62682245 21.6942716  18.39980682 14.01058943 22.11523839 30.06661735 26.30360868  9.21739853 38.62912279 39.84269485 29.17439557 15.62983222 74.01595411\n",
      " 24.26358939 41.14069854 33.41945431  8.43377796 36.34678695 13.85282545 20.83821613 24.64050426 40.51278438 19.13564764 20.5538165  26.73786272  1.21771034 50.0634063  37.80532171 19.56386131 17.09045642 23.81508363 13.13572465 18.96028037 18.97753297 15.10485421 45.60228103 23.85412294  9.94902422 25.04031571\n",
      " 13.73692219 26.25576147 11.283961   20.89908775 24.73456363 20.82099649 19.63069066 11.0395563  22.90268972 20.85510529 23.94494497 35.24563016 24.04563257 22.42395737  8.20338132 24.28035844  8.79447029 45.24267609 27.69668741 19.16142732 40.21808577 20.52104618 25.48564453 10.42645954 18.27320378  5.81445854\n",
      " 30.66755971  5.09373367  9.54134118 30.0969463  32.15796102 17.10360572  6.81951835 28.21326126 37.28766917 19.05331406  3.43726917 29.02950235 28.41502258 27.65574221 19.84025423 10.19272301 20.73665669 13.23141699 14.1638179  30.14978559 49.09306852 35.09212403 20.57738393  6.23125715 19.61849157  2.86136933\n",
      " 17.7227571  16.26313137 24.23808753 24.18615717  6.16503103 26.26767004  9.68988923 19.68959917 37.80910335 11.63618165  5.0029225  14.35017559  4.51616802 15.67299722 31.42950438 23.36937137  8.66877917 30.17375177 29.86864789 22.26623986 14.38793951 29.91102165 10.68467077 20.68081064 27.0363872  27.12634825\n",
      " 11.12212735 33.6314613  26.68843834  9.86255019 13.25526746 37.5875884  33.34346918 12.1656612  35.00981228 29.91516861 22.43509866 29.78418169 13.64740345 25.48369985 14.7964826  12.02650501 14.32564788 19.98903407  9.51042821  3.32919384  2.11719029 27.89274379 19.15395706 24.34236904 36.31006306 14.38014999\n",
      " 33.74044408 11.94528308 23.72463048 13.96663902 37.02719277 15.70423566  5.8844465  36.56540003 26.07980557 22.39042876 30.10277473 34.92071098 25.2110135  16.12308298 12.94872181 16.78088517 33.29026557  8.06176594 11.87319306 28.65760759 40.43722681 12.24336803 20.36939914 22.62541494 29.26770346  2.92820663\n",
      " 29.67297133 19.12865151 37.61290979 12.65593091 24.40299849 22.22063136  6.80865104 23.08871962 19.35128755 33.11865124 12.86494131 19.99530372 40.40588483 19.41803414  1.33244845 25.2848987  20.80742761 16.59998185 33.40581388 16.45590473 38.02424605 13.37486856 31.20111702 12.03323067 28.18090964 24.3339919\n",
      " 38.46719448 48.91244126 27.27947965 32.35542369 23.38256965 37.80209434 18.97037521 17.00935828 22.09183045 56.66330021 17.00739368 22.55962776 15.70777475 24.96375634 34.31838002 21.04588062 32.98952214 46.49037546 28.89441168 44.9618179  47.75011713 10.22657457 34.01112648 14.78541138 12.30119061 29.68832913\n",
      "  5.63175828 47.24639763 26.13307306 38.17336147 34.76610473 42.25979546 29.37467676 15.14853007 28.70976175 28.50280519 55.84654677 29.74858317 32.07871469 24.72365515 22.56858132 17.81109227  1.9690766  28.47233214 40.94387306 68.61168512 42.65140871 16.94831346 27.11101032 51.18234267 19.90120316 20.73488527\n",
      " 34.65654724 21.56492824 16.26686509 16.52461894 29.41170804 48.51334439 21.18208105 51.29269415 41.95531195 45.72853476 38.99740826 54.51810744 70.02383294 63.64110412 63.40840293 76.97753238 55.22652351 25.58607314 60.59233711 43.19800406 78.10308389 74.28800034 80.82560979 49.41512693 75.58112578]\n",
      "True False\n",
      "D:\\CaseStudies\\CornerDigitization\\FineAdjustment\\\\registration/48201C0845J.tif\n",
      "[[ 1.00595887e+00  6.67244855e-05  6.31241921e+04]\n",
      " [-6.67244855e-05  1.00595887e+00 -2.13002718e+04]\n",
      " [ 0.00000000e+00  0.00000000e+00  1.00000000e+00]]\n",
      "[[ 8.70182525e-01  7.23019369e-04 -1.06397633e+07]\n",
      " [-3.13034280e-05 -8.78802023e-01  3.46396978e+06]\n",
      " [ 0.00000000e+00  0.00000000e+00  1.00000000e+00]]\n",
      "D:\\CaseStudies\\CornerDigitization\\FineAdjustment\\\\referencing\\48201C0845K.tif\n",
      "1021 / 3878\n",
      "Enter Matching\n"
     ]
    },
    {
     "data": {
      "application/vnd.jupyter.widget-view+json": {
       "model_id": "7e475bc28a174edc83c8f38fc03ef2b9",
       "version_major": 2,
       "version_minor": 0
      },
      "text/plain": [
       "Calculating Descriptors:   0%|          | 0/3578 [00:00<?, ?it/s]"
      ]
     },
     "metadata": {},
     "output_type": "display_data"
    },
    {
     "data": {
      "application/vnd.jupyter.widget-view+json": {
       "model_id": "7f9e731443af4472bba018978795a559",
       "version_major": 2,
       "version_minor": 0
      },
      "text/plain": [
       "Calculating Descriptors:   0%|          | 0/1007 [00:00<?, ?it/s]"
      ]
     },
     "metadata": {},
     "output_type": "display_data"
    },
    {
     "data": {
      "application/vnd.jupyter.widget-view+json": {
       "model_id": "923f2e96b06b49c1ac8196776735f897",
       "version_major": 2,
       "version_minor": 0
      },
      "text/plain": [
       "Descriptor Matching (Flipped):   0%|          | 0/1007 [00:00<?, ?it/s]"
      ]
     },
     "metadata": {},
     "output_type": "display_data"
    },
    {
     "name": "stdout",
     "output_type": "stream",
     "text": [
      "718\n",
      "IDX 717\n",
      "DISTNACE 513\n",
      "DBSCAN 717\n",
      "INTERSECT 513\n",
      "514\n",
      "[  0   2   3   4   5   6   8   9  12  13  14  15  16  18  19  20  21  22  23  24  26  27  28  29  31  32  35  36  37  38  39  40  41  42  43  44  45  46  47  48  51  54  55  56  57  58  59  60  61  63  65  66  67  68  69  70  71  72  74  75  76  77  78  80  81  82  85  86  87  89  91  93  94  96  97  98  99 100 101\n",
      " 103 104 106 107 108 109 110 112 114 115 116 117 118 119 120 122 123 124 125 126 127 128 130 131 132 133 134 135 136 138 139 140 141 142 144 145 150 151 152 153 154 155 157 160 161 162 164 166 167 168 169 170 171 172 173 175 178 179 180 181 182 183 184 185 186 187 188 189 190 191 192 193 195 196 197 198 199 200 201\n",
      " 202 203 205 206 207 209 211 212 213 215 218 219 220 221 223 224 225 227 229 230 231 232 233 234 236 237 239 240 241 242 243 244 246 247 249 252 253 255 256 257 258 259 260 261 262 263 267 268 269 270 271 272 273 275 276 277 280 281 283 284 286 288 289 290 292 293 294 295 296 298 299 300 301 303 304 305 309 310 312\n",
      " 313 314 315 316 317 318 319 320 324 325 326 327 329 330 333 334 336 337 338 339 340 341 342 343 344 345 347 348 349 350 351 353 354 355 358 360 361 362 363 364 365 366 368 369 370 371 372 373 377 378 380 381 382 383 384 386 388 389 391 392 394 395 396 397 399 401 402 403 404 406 408 409 411 412 414 417 418 419 420\n",
      " 421 422 423 424 425 426 427 429 431 433 434 435 437 439 440 441 442 443 444 445 446 447 448 449 450 451 452 453 454 455 456 457 458 459 460 461 462 463 464 465 466 467 468 469 472 473 474 475 476 477 479 480 482 483 484 486 488 489 490 491 492 493 494 496 498 499 500 501 502 503 504 507 508 511 512 513 514 515 518\n",
      " 520 521 523 524 525 527 528 529 530 531 532 534 535 536 537 538 539 540 542 543 545 547 548 549 550 551 552 554 555 556 557 558 559 560 563 564 565 566 569 570 571 573 574 575 578 579 581 584 585 587 588 589 590 591 594 596 597 598 599 600 601 602 604 605 606 607 608 612 613 614 615 616 618 619 621 622 624 625 626\n",
      " 627 631 632 634 635 636 638 639 640 641 644 645 647 649 650 655 656 658 662 665 666 668 669 672 673 678 679 681 687 688 689 690 694 702 704 706 708 709 712 714]\n",
      "[ 0.71464274  9.37351606 15.14040782 22.41900876 62.80328053] 514 514\n",
      "Distances under 100: [ 6.27005386  3.05604264 26.06011709 19.51114706 34.93916582 10.19791765 14.73378739 25.81261509 50.09088511 11.55084161 30.75809099  6.18756054 13.97372864 16.09489863 24.3565901   6.59251999  6.25412374 10.79334949 12.65760093  6.83038874  7.910409   19.48781143  2.47624193 13.88491965 32.81951979 62.3817398\n",
      " 17.1407368  31.13269708  2.53226502  3.48386346 10.30370221 18.01972044  7.82027471  9.57410715 46.22692776 12.76422895 29.14260246 10.16106875 18.38112909 15.06099184 14.49326168 26.41303388 19.17556402 23.0713803  20.98392493 14.05925626 11.59459625 57.1730781   1.41324977 62.80328053  8.15720635 12.42107574\n",
      " 19.58239702 25.27487712  5.85240136  6.74966282 18.52928416 17.31649065 25.87088854 20.65088359 26.45615047 10.47788294 24.61296525 12.61807991 61.97470297  5.30993123 13.32952308 11.08292155 35.72021836 10.11370696 21.64210115 16.65770751 16.98069639 18.48894478 58.18623316 22.77606848 33.62403284 19.64487011\n",
      " 21.92945817 19.92311173 21.05245297 10.75357276 10.20034201 11.21872933 16.65386102 20.52071726  4.92032739 49.27493879 24.80259232 21.82951165 14.43641735 21.82281921 23.67573872 17.49875644 22.27196253  8.29302208 22.03883464  2.37241038  8.05617866 11.47972634  2.3409246  20.38699165  8.88941323  4.51308813\n",
      " 19.45452052 59.8798169  16.31623804 13.92275751 14.23754242 31.0028332  24.91610477 10.67128957  7.59661352 10.67259943 21.39321389 15.7812489  12.12407867  5.67941641  5.57577136  8.19564048  9.54454042 16.17528001 12.69663322 40.80332443 13.09342768 25.9375706   8.40120852 12.34619734  9.20716862  7.02157967\n",
      " 12.82641694  3.08082673 15.16270514 14.50963339 13.50379334 18.19076052 11.51437795  2.5649009   9.03553339 25.52218765  6.89020058 16.12375331  1.90727569  7.8930393  11.21834697 19.38485666  3.2587028   6.40963534 17.47313139 22.55860699 17.3930816  54.87078355 50.35973894 12.8191442  24.47217257  2.92946697\n",
      " 11.49601465 32.64805917 11.86842079 25.796016   12.34340185 22.35019734  9.32791403 15.36587671 19.71479342 24.63414728 22.71330098  9.0610268  22.97904689  2.37983002 18.19793146  1.11869686 23.345596   11.31797752 12.2548295  11.4009396  14.73614057 20.40470011 10.79394488 11.47133778 12.4458903   7.74430749\n",
      " 23.20368982 16.81959107 41.463018   24.46971918 14.04437134 47.1133776  20.76483288 12.47674288 23.00523348 24.32979671 25.95498754  0.71464274 57.71026576 14.5100628  13.38452854 16.98665917  8.12234014 15.69677986  7.71461753 20.40073015  6.44272852 19.31077535 23.10667616  8.23485383 12.06218274 11.45269602\n",
      " 28.44820702 16.40494182 21.60417529  1.51591995 26.63105224 28.68131767  9.55975602 14.30604708 10.48292991 23.2400801  24.71869625 10.85657787  2.32606401 17.15255033 18.78089844  7.26595671 15.1181105   8.12456384  3.77182682  4.97598099 20.87097178  6.73349947 13.06936997 19.81675545  8.02295096 29.08564421\n",
      "  3.16363169  8.79495001 17.695301   13.89517315 19.97433376 11.92028866  5.54234402 19.81280068 22.04825061 23.15213083 22.4582226  27.57905028  8.99021414 25.86700356 11.02301316  9.25460687 23.71532236 21.86003353 61.63964005 10.27205195 11.08279091 40.09513083 12.21756453 25.92862935 16.76081623 29.34001568\n",
      " 24.24385257  9.35250492  7.41950278 21.55291604  9.84660291 20.4340029  18.74038354  7.18765242 23.36485974 12.72197781  5.68537601  3.8918207  21.34038377 31.56264569  4.28781796 16.75614879  2.91464351  4.9498243  11.61654488 12.4422671  20.7635546  20.80598055  4.61972744  5.17053841 12.4110878   1.73775533\n",
      "  7.21068148 25.97121031 25.86214424 34.40355323 26.28260645 18.52849089 13.60154783 17.92702246  9.43654947 13.84996658 51.55228338  5.21629174  3.34209461 33.14494438 19.35234573 34.59755612 10.15095698 34.17428706 11.07697121  1.63022857  4.82933682 12.76324568 15.00889628  4.83967593  9.85420152 11.76406107\n",
      "  4.39337583 17.93965388 15.24779866  5.53852816  8.54977329 24.89631449 12.47500674 23.49026439 14.71045359 22.30234808 22.45756393 31.04935459 20.50885838  0.71715793 54.03983017 11.5885814   4.81487195  4.52025297 14.83126473  2.18375943 11.31926847  6.17642173 21.94492942  8.33460287 28.67292619 11.39121118\n",
      "  6.52892664  9.72239315  8.8715106   9.92471037 23.62534673 21.75816184  7.29582044  3.73096359 20.82293671  4.40319596 15.87813624 14.12821976  1.58578535 15.23426538  3.16979706 22.33054716 16.60072793 20.47915064 27.36915737 19.6934083   8.15892752  7.6814403  54.4228931  12.88383017  7.87318275 14.20541629\n",
      "  9.64914895 20.43048034 18.25287665 18.49707476 29.92670397 21.13560999 25.82415677 12.28924918  3.01865763 21.56565723 11.11193615 21.58191341 24.59987117  3.93969271 24.00425041  2.48339816 13.88520996 21.1718535  14.2846985   9.50424372 16.37950939 16.40437392 25.20463811 26.5019426  18.89335713 26.93842574\n",
      " 18.81056851 21.18088425  5.77959557 21.56145151 11.80566009 21.46139441  7.35448342  9.6602344  21.73828922  4.84062996 20.36069015 22.8148197   7.91010764  4.12580103  8.91151087 10.0612539  18.19093607 13.32395831 19.06720475 12.55511509  4.28438982  8.67161412  6.26899888 17.17681168 10.56256543 13.86097203\n",
      "  8.81913756  4.47186972 31.34260965 26.17731547  6.01756101 21.15363087  5.40725884 10.51112935  8.64341762 14.97059282 35.08407812 10.85999478 18.00280988  7.90069945 12.54707355 42.81572602  4.11960799 18.82606805 17.93979606  3.75660523 17.33001326 20.55177903 11.04057948 22.4419459  25.81466796 36.41537708\n",
      " 10.25077995 23.42731933 18.97351545 12.32251777  7.39453009 20.76348559 10.69888957 20.43657226  6.30742995 17.78901004 19.43568774 12.41195633 12.20326351  7.17103956 25.68869294 21.99069454 10.69179345 26.73810534 54.67604009 19.44285178 17.81184784  6.97266528 27.59466319 15.8323587  11.15820409 60.2687855\n",
      "  7.55877712 18.19705783 33.82105721 15.6855169  17.76378537 16.74800263 14.50742525 16.6348663  28.7190781   3.78476348 38.73407434  2.49309414 11.62171581 16.29642022 43.82195864 47.12056621 26.37764593  6.53088162 19.16083438 14.24328509  8.48961688 33.64544094 30.97637557 30.31573455 10.58415802 32.51965261\n",
      " 13.79959067 26.05762983 46.9797196   9.01995908 30.30453278 14.25695936 50.20359497 14.83886883 32.22412189 11.60320631 30.49420685 19.74831457 23.25658269 53.57065778 13.73415531 27.51540971 43.68827871 45.0182857  19.2968169   7.26251586]\n",
      "Enter Matching\n"
     ]
    },
    {
     "data": {
      "application/vnd.jupyter.widget-view+json": {
       "model_id": "5670e4f450464ad083ea9be43838fcae",
       "version_major": 2,
       "version_minor": 0
      },
      "text/plain": [
       "Descriptor Matching (Flipped):   0%|          | 0/1007 [00:00<?, ?it/s]"
      ]
     },
     "metadata": {},
     "output_type": "display_data"
    },
    {
     "name": "stdout",
     "output_type": "stream",
     "text": [
      "Results Update: 514 717 606\n",
      "606\n",
      "IDX 605\n",
      "DISTNACE 480\n",
      "DBSCAN 605\n",
      "INTERSECT 480\n",
      "481\n",
      "[  0   1   2   3   4   5   6   7   8   9  10  11  12  13  14  15  16  17  18  19  20  21  22  23  24  26  27  28  29  30  31  33  34  35  36  37  38  39  40  41  42  43  44  45  46  47  48  50  52  53  54  55  56  57  58  59  60  61  62  63  65  66  67  68  69  70  71  72  73  75  76  77  78  79  80  81  82  83  84\n",
      "  85  86  87  88  89  90  91  92  93  94  95  96  97  98  99 100 101 102 103 105 106 107 108 109 110 111 112 113 114 115 116 117 118 119 120 121 122 123 124 125 126 127 128 129 130 131 132 133 134 135 136 137 138 139 140 141 142 143 144 145 146 147 148 149 151 153 154 155 156 157 158 159 160 161 162 163 164 165 166\n",
      " 167 168 169 170 171 172 173 174 176 177 178 179 180 181 182 183 184 185 186 187 188 189 190 191 193 194 195 196 197 198 199 200 202 203 204 205 206 207 208 209 210 211 212 213 214 215 216 217 218 219 220 221 222 223 224 225 226 227 228 229 230 231 232 233 234 235 236 237 238 239 240 241 242 243 244 245 247 248 249\n",
      " 250 251 252 253 254 255 256 257 258 259 260 261 262 263 264 265 266 267 268 269 270 271 272 273 274 275 276 277 278 279 280 281 282 283 284 285 286 287 288 289 290 291 292 293 294 295 296 297 298 299 300 301 302 303 304 305 306 307 308 309 310 311 312 313 314 315 316 317 318 319 320 321 322 323 324 325 326 327 328\n",
      " 329 331 332 333 334 335 336 337 338 339 340 341 342 343 344 345 346 347 348 349 350 351 352 353 354 355 356 357 359 360 361 362 363 364 365 366 367 368 369 370 371 372 373 374 375 376 377 378 379 380 381 382 383 384 385 386 387 388 389 390 391 392 393 394 395 396 397 398 399 400 401 402 403 404 405 406 407 408 409\n",
      " 410 411 412 413 414 415 416 417 418 419 420 421 423 424 425 426 427 428 429 430 431 432 433 434 435 436 437 438 439 440 441 442 443 444 445 446 447 448 449 450 452 453 454 455 458 459 460 461 462 463 464 465 466 467 468 469 470 471 472 473 474 475 476 477 478 479 480 481 482 483 484 485 486 487 488 490 491 492 493\n",
      " 494 503 539 569 570 578 580]\n",
      "[ 0.7419313   9.12158099 14.50747743 21.63875939 53.89726557] 481 481\n",
      "Distances under 100: [ 8.32899584  1.3236313  25.9279678  21.29286418 35.7261164   9.12068552 12.75589422 24.05315849 52.02587366 10.53886005 30.26556173  5.64187891 14.45810357 18.07511869 26.13382692  8.9224518   7.00243103 10.19289001 11.31867457  8.32242563  9.00004151 19.68427848  1.31865914 12.36133754 34.49774756 17.13028019\n",
      " 32.75899302  3.32436093  1.70864797  8.28865963 17.91482274 10.02968482 37.8133375  14.12435571 29.54330419 10.17450033 16.47003731 15.70454699 13.95908609 27.34367077 21.31489345 23.59714341 19.84293595 13.59485232 12.79059577  7.30625857  3.874563    9.46028754 18.70170483 25.59252198  6.4661756   8.54246814\n",
      " 15.06161201 11.76423666 23.08584238 22.27799403 26.38293424 11.8886352  25.62885417 12.64768997  4.24689626 13.82210157  9.45353271 34.95294475  8.46413921 19.48389659 15.62830424 17.86380494  9.8080496  19.74417614  7.21233498 21.2747278  21.31399349 21.37464567 21.64053499 12.95933908 10.47789379 11.68508863\n",
      " 14.44724344 19.2348438   7.04297104 43.11889913 25.04887469 18.55600222 14.4406681  18.14545402 23.41247761 14.46724005 22.46735186  6.49298048 23.53044783  1.46739063 10.37903011 13.80109501  4.90767553 22.00609552  2.91413817 18.95654375 17.5746674  12.02765983 14.79541874 47.39172054 23.50735942 12.21160303\n",
      "  8.22173538  9.88973077 18.08828956 15.16736739 13.91626973  6.89511389  4.83331229  5.9868184  10.25795105 18.12899311 12.15498102 39.23294553 14.93282416 26.97946857 20.35244251  9.85782993  9.39145083  6.61348257 12.32255669  3.28030353 17.47775379 15.99860805 13.42285024 17.42602451 13.30839669  1.67284517\n",
      " 10.69983534 26.84354064 41.88205904 14.68527986  2.78732121  7.8872905  11.51241162 20.39690961  2.76184564  8.13410032 14.64553825 23.97320291 17.47072594 51.63939735 24.90231501  4.82186023 11.45669478 32.36406843 14.25619855 26.94262548 12.20719103 23.79112962 11.70055591 18.22786455 16.4246794  23.7352625\n",
      " 24.8055693  20.84072419 19.55257594  0.7856816  18.99184339  3.06869243 24.41306667 12.39993764 32.44852916 12.10884224 21.48629496 12.2778418  10.01988183 11.41809927 36.62045168 22.80729758 16.39332754 40.40869822 24.65993714 13.68332291 22.34704673 12.91767736 21.86172007 24.69982519 25.16422435  1.02235901\n",
      " 16.08854699 11.93061078 15.38391269  8.2094122  16.39376346  9.62086407  8.01424748  6.62869974  3.22990143  7.12285622 12.34456017 10.33815936 28.72660031 18.55370663 22.10002378  1.41684194 28.32924347 28.89758326 10.40025993 14.50747743  9.04598502 21.89087669 20.5912542  10.24482713  2.79373922 16.56011224\n",
      " 20.18973123  8.3244083  15.02615218  9.1495569   3.96993736  7.04755845 23.16165115 24.02518222 13.42216944 16.73838509  6.59589146 28.67423196  4.58544253  6.94103289 17.42999329 13.67361317 20.40568576 12.5227255   5.70901128 18.29660202 21.17759486 22.23724942 23.44232971 27.69350422  9.00458627 26.51900096\n",
      "  8.04351054 24.67257425 18.51049895 53.37258201 11.58792607 10.35230202 12.24489318  5.15715484 18.89631551 31.00896881 25.62089416 10.51001792  8.0180375  20.1087413  11.03383038 21.5270468  18.39377188  7.29296139 22.86406392 12.44886092  7.06964665  4.17725568 19.9545626  30.06341448  3.77303997 15.95664243\n",
      "  1.29403408  3.37619776 11.10763727 11.61952496 19.60662413 21.15441639  5.09246233  5.7302736  13.43879728  1.44205365  7.79185106 26.46628835 26.70091687 33.46937124 26.49118821 16.27949332 14.67784127 16.49238175  9.63459201 14.01151396 53.89726557  7.14806072  2.98916344 18.01708906 10.34447386 32.05056536\n",
      " 10.54004701 36.64821201  5.15658233 12.69510625 16.24032878  3.32682077  9.53483868 11.54482103  5.90015504 17.48181285 15.84995947  5.9502226   8.39454248 25.05897493 10.8078974  25.47565135 17.2524576  18.81923191 20.45511596 31.90586216 22.74771777  0.7419313  11.62334294  5.13365651  4.35891103 14.54640675\n",
      "  1.69104777 10.91141799  7.84519375 23.24337298  7.64182113 10.27751269  6.16665317  9.71223252  8.59156968  9.85061169 23.76779646 21.65106854  9.10023911  3.33836224 21.63875939 19.62514359 17.33411198 15.63093525  2.94410371 14.79708441  1.8870931  25.02203642 16.25244384 20.68751441 27.66808102 19.13359786\n",
      "  8.50390464  8.97967032 12.62647041  9.9746255  13.87705051  7.63821888 18.00282956 20.48377118 28.94346489 19.67577206 24.65559664 12.54414272  3.04807584 24.26363824  9.246901   19.81985709 25.50449508  4.03077299 23.94741682  3.30887523 13.228491   19.99650039 14.23425155  9.78773122 15.14390397 16.73335801\n",
      " 25.11071415 26.45032392 19.06531853 27.39237109 17.99732592 10.72072037  4.04684359 22.72557187 13.61465511 21.07034529  7.11137811  9.16689906 11.16501842  5.32584797 19.4658027  23.54445493  9.12158099  4.62703108 19.49864904 10.32108249 18.26505057 14.66401116 20.67991451 12.05027242  5.15117517  9.8856147\n",
      "  6.81075077 19.16858611 10.1700844  13.48176646  4.91264536 32.54505214 26.79537517  6.31997143 20.4132114   6.18441541  9.97704247 10.38427059 15.03004941 36.44445738 10.07653521 18.23570484  8.5493311   4.99973659 17.20120345 17.10987877  3.27242067 15.59273799 18.92837902 27.30636469 23.05621212 27.7418533\n",
      " 38.87829795 10.16689898 24.75949127 20.76855473 12.46507399  5.17551336 42.12282148  8.64089844 21.10899407  5.58784158 17.84374251 17.67536843 12.80624119 11.71784249 52.74579248 21.58244062 21.84255412 12.63463533 25.64136381  8.4936754  25.96856014 15.30394252 13.50815977 19.78299704  9.49154751 16.19868601\n",
      " 23.15790684 14.27204328 16.47236572 17.13954854 27.84949092  6.19953492  3.28247254 11.44684376 16.88376167 45.10773494 49.80738901  8.39855658 19.01408982 13.76427907  7.11054644 29.93193363 11.79900631  8.64763827 35.64539092 11.61836461 24.54455869  7.72178644 30.55968976 11.47592016 50.48863022 12.85188155\n",
      " 11.78222937 31.31239723 11.39089965 44.34980325  5.54528107  8.27036382 51.41360315 44.4332576   2.52426169 17.4545107   8.73327803 45.99668072  2.18535809]\n",
      "Enter Matching\n"
     ]
    },
    {
     "data": {
      "application/vnd.jupyter.widget-view+json": {
       "model_id": "70035e13ee3245d6ae0b676bbb9f6d0d",
       "version_major": 2,
       "version_minor": 0
      },
      "text/plain": [
       "Descriptor Matching (Flipped):   0%|          | 0/1007 [00:00<?, ?it/s]"
      ]
     },
     "metadata": {},
     "output_type": "display_data"
    },
    {
     "name": "stdout",
     "output_type": "stream",
     "text": [
      "Results Update: 481 709 604\n",
      "604\n",
      "IDX 603\n",
      "DISTNACE 487\n",
      "DBSCAN 603\n",
      "INTERSECT 487\n",
      "488\n",
      "[  0   1   2   3   4   5   6   7   8   9  10  11  12  13  14  15  16  17  18  19  20  21  22  23  25  26  27  28  29  30  31  32  33  34  35  36  37  38  39  40  41  42  43  44  45  46  47  48  49  50  51  52  53  54  55  56  57  58  59  60  61  62  63  64  65  66  67  68  69  70  71  72  73  74  75  76  77  78  79\n",
      "  80  81  82  83  84  85  86  87  88  89  90  91  92  93  94  95  96  97  98  99 100 101 102 103 104 105 106 107 108 109 110 111 112 113 114 115 116 117 118 119 120 121 122 123 124 125 126 127 128 129 130 131 132 133 134 135 136 137 138 139 140 141 142 143 144 145 146 147 148 149 150 151 152 153 154 155 156 157 158\n",
      " 159 160 161 162 163 164 165 166 167 168 169 170 171 172 174 175 176 177 178 179 180 181 182 183 184 185 186 187 188 190 191 192 193 194 196 197 198 199 200 201 202 203 204 205 206 207 208 209 210 211 212 213 214 215 216 218 219 220 221 222 223 224 225 226 227 228 229 230 231 232 233 234 235 236 237 238 239 240 241\n",
      " 242 243 244 245 246 247 248 249 250 251 252 253 254 255 256 257 258 259 260 261 262 263 264 265 266 267 268 269 270 271 272 273 274 275 276 277 278 279 280 281 282 283 284 285 286 287 288 289 290 291 292 293 294 295 296 297 298 299 300 301 302 303 304 305 306 307 308 309 310 311 312 313 314 315 316 317 318 319 320\n",
      " 321 322 323 324 325 326 327 328 329 330 331 332 333 334 335 336 337 338 339 340 341 342 343 344 345 346 347 348 349 350 351 352 353 354 355 356 357 358 359 360 361 362 363 364 365 366 367 368 369 370 371 372 373 374 375 376 377 378 379 380 381 382 383 384 385 386 387 388 389 390 391 392 393 394 395 396 397 398 399\n",
      " 400 401 402 403 404 405 407 408 409 410 411 412 413 414 415 416 417 418 419 420 421 422 423 424 425 426 427 428 429 430 431 432 433 434 435 436 437 438 439 440 441 442 443 445 446 447 448 449 450 451 452 453 454 455 456 457 458 459 460 461 462 463 464 465 466 467 468 469 470 471 472 473 474 475 476 477 478 479 480\n",
      " 486 495 507 517 520 528 534 540 543 549 562 564 577 601]\n",
      "[ 1.50107948 12.25001225 19.32628323 29.28966146 69.16996458] 488 488\n",
      "Distances under 100: [ 9.25014978  1.50107948 16.03519919 23.5803742  43.0424222  19.66618245 15.87493617 29.00134578 54.38452355 16.07846797 34.09936063  2.71959731 14.27532848 14.3844163  24.16090111  7.26073501 11.73180182  8.86068909 13.68193679  9.60453425 10.97170866 27.51384561  3.48550885 17.0415664  17.91555459 29.69166997\n",
      " 10.94829301 15.62560164  8.31544695 27.56243965 12.42991078 52.68009522 17.77328649 36.38979629 12.57826919 30.29699009 18.84035064 16.07809111 34.31945494 25.51935918 30.66311758 17.75670486 14.08651514 15.62222028  8.16576065  4.10067673 11.32920238 28.45463435 32.81592159 13.19152657 10.57342803 30.63662463\n",
      "  7.55759369 38.27002614 12.64049545 33.4312078  12.26372594 18.55552686 17.23880726 13.18229596  6.8176922  14.61435101 31.16680138 22.58502244 34.01482642 23.77052617 20.84301707  5.7746345  30.42530361 11.80065141 26.77064686 29.05417905  8.36220566 30.09325812 13.11934037 13.25901738 16.01824644 29.25671737\n",
      " 28.697753    6.52181082 52.01945373 28.58692153 34.27153209 16.91716543 32.89930033 33.62207691 29.77871051 29.40139197 19.34490306 30.06452734  6.17968815 14.72342265  9.90391985 12.05842047 10.04604878  6.28968885 22.47458987 22.21110568 16.32646871 20.9016141  41.7062895  28.03411899  6.84062147 13.42400985\n",
      " 13.68463512 32.63578892 24.56581355 12.52544419  6.65330567 13.99656298 15.51567697  1.62961371 18.61705293 15.86092008 38.29424845  2.51238931 29.52689481 15.04019279 20.24878268  8.97175806 16.56887458 11.92849349  2.89030033 16.10746799 20.47275032 15.94193578 27.30562713 14.05151313 12.85033349 12.12654186\n",
      " 33.01954807 32.3748641  24.49039326  8.934943    5.18325184  8.08311826 26.91404496 13.34868668  7.2469362  30.53930281 28.91283257 23.31739331 49.97108323 33.39549205  7.18404617 14.37215393 40.0993976  14.16071257 33.3482392  15.79398067 28.77454806  8.40015176 18.88374651 29.55781635 57.95670417 33.12876242\n",
      " 16.28871114 33.55478492  4.48088688 27.04736614 12.33318641 29.38849374 19.85059984 22.06650305 14.18906495 26.45367841  3.95953767 13.45609809 13.37754402 29.60012135 26.66061916 20.96733868 30.97843722 20.23004829 26.7794016  15.38033983 27.98046878 30.1335454  33.62487743 57.56797628  4.71870965 20.12238198\n",
      " 22.61105386 13.77361826 22.60183353 10.83019089  4.84740748  2.6723479   3.43622469 26.46329099 15.00709421 35.09273922 29.84605377 10.68972975 22.34844524 35.92547587 11.80713345 15.34091717 22.40808414 29.69502845 13.35319702 13.26064655  8.0549945  24.3433459  25.27498839 11.61704076 19.30766339 11.85876854\n",
      "  6.42570531  8.06497891 14.81561836 17.32164431 10.49544795 10.07662918 31.20801665  8.21150569 13.758703   22.57032548 19.65124221 19.22041353 13.30345508 11.55166845 24.91304513 30.38954216 29.70392212 29.00615737 34.42932628 10.75186626 32.39358137 15.73608696 30.60955541 33.31063454 48.74664164 18.07623115\n",
      " 13.94176379 15.0758167   4.15471933 16.8381497  34.92760908 29.43984843 17.1846429  14.86523941 25.89601593  6.96749857 27.14763497 16.56895951  6.81977427 32.20942555 15.74641131  9.54490673  9.79051767 29.47149459 38.95025804 12.67253192 25.90881814 27.99342926  3.35173735 21.22618854  9.09199475 28.32128808\n",
      " 32.3954277   9.83368273  8.43521763 15.21131732  5.25848329 12.20887118 32.35826924 34.59396254 39.52940496 33.78866045 22.30978464 22.08676569 22.17052101  9.02007034 13.25000743 54.95202185  8.49465071 12.39967592 26.27581017 17.1638105  31.87669199 14.49219969 27.16619325 13.33861293  9.81679028 21.10459599\n",
      "  6.45054971 18.65003624  8.99430567  8.61179941 26.06085022 22.56500986  4.3393046   7.69612724 33.19048288 35.07459584 25.20552366 21.60265095 34.03864527 25.94624594 35.06364647 27.33229474  4.71323704 14.37934154  4.88973914  4.5375625  17.73848587  6.06546385 37.34719008  9.99324539 41.70179387 12.84487241\n",
      "  9.89261663 53.45157081 17.40288312  9.71960807 16.17108483 29.82510682 29.15970185 10.66708269  8.59245129 28.52728677 30.92460622 19.61427939 22.58628701 26.18369348 40.41147773 24.19868913 28.24248341 23.47274147 28.26736512 34.48554257 27.38516004 16.99247891 11.71181374 46.05587348 10.14885876 13.29406693\n",
      " 16.00159803 23.73489962 25.14549471 28.47503039 23.54465677 33.60988268 14.15769955  9.06343823 25.07404533 12.66198414 26.15704358 31.30998197 57.368735   32.93785922  5.46015597 17.43905423 29.09922197 18.92488157 13.53965561 23.11063012  7.92344318 33.61748415 27.48984639 24.70885981 31.60172018 23.85207818\n",
      " 10.34878527  4.53340543 38.52024548  6.01187454 17.85892383 28.98727501  8.76224204  7.16305409  6.20864857 19.1646601  31.98768853 10.88440902  5.76146217 15.88055379 17.89041181 22.18218841 21.06565497 24.95655964 17.84656553  6.03023832 13.38444999 13.90261875 16.18856862 12.88237974 13.55178396 12.20269536\n",
      " 39.21230268 34.61782259  4.31824182 25.44738754  6.9282835  13.80433699 11.28726316 17.83826823 42.41240244 10.89325987 20.07330216  9.46458371 16.4419163  40.5011872   7.90371177 21.54290633 24.93805799 22.02347268 30.88340572 26.39924986 41.0586808  14.24983198 31.09449938 25.50877068 12.80238646  8.88336432\n",
      " 28.8506449  20.79577    27.88107061 11.61754746 19.60865045 18.29569303 14.98627982  5.59477459 37.90811554 26.95449102 31.35474345 13.04172627 26.31314877 10.64187423 36.07043307 12.58124713 13.75758735 19.81676081  5.6313584  19.17878939 28.63251788 24.79576356 22.21795274 21.59239235  6.44818721  4.36812023\n",
      " 21.47893766 24.32726162 49.27500674 44.19510292 13.52717744 17.3631077  21.92607081  6.69908679 44.95060936  5.93107351 23.62522571 35.17265915 19.42128546 29.47402903 20.2236447  37.32065314 23.51013954 59.20699862 17.52183524  6.71116466 38.8554469  26.39213303 32.83841043  7.68487635 13.70707823 61.34500237\n",
      " 34.03623806  4.47616782 13.83783384  6.47989941 59.69280801  3.06284513 16.47122111 21.5471393  66.77476005 64.65619109 68.92507348 36.14878686 33.91274456 43.35217226 54.05932983 60.31117823 60.80934147 26.11843419 69.16996458 51.78300734]\n",
      "True False\n",
      "D:\\CaseStudies\\CornerDigitization\\FineAdjustment\\\\registration/48201C0845K.tif\n",
      "[[ 1.01382632e+00 -3.93413444e-03  1.60614238e+05]\n",
      " [ 3.93413444e-03  1.01382632e+00 -5.94594737e+03]\n",
      " [ 0.00000000e+00  0.00000000e+00  1.00000000e+00]]\n",
      "[[ 8.74133596e-01  1.77606131e-03 -1.06398177e+07]\n",
      " [ 2.74241119e-03 -8.88003814e-01  3.46400605e+06]\n",
      " [ 0.00000000e+00  0.00000000e+00  1.00000000e+00]]\n",
      "D:\\CaseStudies\\CornerDigitization\\FineAdjustment\\\\referencing\\48201C0855J.tif\n",
      "1587 / 5368\n",
      "Enter Matching\n"
     ]
    },
    {
     "data": {
      "application/vnd.jupyter.widget-view+json": {
       "model_id": "efc555542bdd44ea8294f43164d83911",
       "version_major": 2,
       "version_minor": 0
      },
      "text/plain": [
       "Calculating Descriptors:   0%|          | 0/5108 [00:00<?, ?it/s]"
      ]
     },
     "metadata": {},
     "output_type": "display_data"
    },
    {
     "data": {
      "application/vnd.jupyter.widget-view+json": {
       "model_id": "4ed88494d2364a5594fafe3375341234",
       "version_major": 2,
       "version_minor": 0
      },
      "text/plain": [
       "Calculating Descriptors:   0%|          | 0/1584 [00:00<?, ?it/s]"
      ]
     },
     "metadata": {},
     "output_type": "display_data"
    },
    {
     "data": {
      "application/vnd.jupyter.widget-view+json": {
       "model_id": "e927917bd3b74e7db943677bd887d840",
       "version_major": 2,
       "version_minor": 0
      },
      "text/plain": [
       "Descriptor Matching (Flipped):   0%|          | 0/1584 [00:00<?, ?it/s]"
      ]
     },
     "metadata": {},
     "output_type": "display_data"
    },
    {
     "name": "stdout",
     "output_type": "stream",
     "text": [
      "1103\n",
      "IDX 1102\n",
      "DISTNACE 730\n",
      "DBSCAN 1102\n",
      "INTERSECT 730\n",
      "731\n",
      "[   0    4    5    6   10   12   16   17   18   19   20   21   22   23   25   26   27   28   29   30   31   32   34   35   36   37   38   39   40   41   44   45   46   48   49   50   51   52   53   54   55   57   58   59   61   63   64   65   66   67   68   69   70   71   74   75   78   80   81   82   83   85   86\n",
      "   88   89   90   91   92   93   96   97   98   99  100  101  102  103  104  105  106  107  108  109  112  114  115  117  118  119  120  122  123  125  127  128  129  130  131  132  133  134  136  137  138  140  142  143  144  145  146  147  149  150  152  154  155  156  159  160  161  163  164  167  169  171  173\n",
      "  174  175  176  177  179  180  181  182  184  185  187  188  189  191  192  193  194  197  198  199  201  202  203  206  207  209  210  211  212  213  214  218  219  220  221  223  224  225  226  227  228  229  230  231  232  234  238  239  240  242  243  244  245  249  251  254  255  256  257  259  260  263  268\n",
      "  269  270  273  274  277  278  279  280  282  284  286  287  288  289  290  291  296  297  298  299  300  304  305  306  307  308  311  313  314  315  316  317  321  322  323  324  327  328  329  330  331  333  334  335  338  339  341  342  343  344  346  347  348  352  353  357  358  359  360  361  362  363  364\n",
      "  365  366  367  368  369  371  372  374  375  376  379  383  384  385  386  389  390  392  393  394  395  396  397  398  400  401  403  405  406  407  408  410  412  413  414  415  416  417  418  419  421  422  423  425  427  428  430  431  432  434  435  436  438  440  444  446  447  448  451  452  453  454  455\n",
      "  456  457  459  460  461  462  463  465  466  467  470  471  472  473  474  476  477  479  480  481  482  484  485  487  488  489  490  492  495  496  497  498  499  501  502  505  508  509  511  512  513  514  516  517  519  520  522  523  524  525  526  527  529  530  531  532  533  534  535  536  538  539  540\n",
      "  541  543  544  545  547  549  550  551  552  554  555  556  557  559  561  562  564  566  567  568  571  572  574  575  576  577  578  579  580  582  584  585  586  588  589  591  593  595  596  597  598  600  603  606  607  608  612  613  615  616  618  619  621  622  623  624  625  626  627  629  631  632  634\n",
      "  636  637  639  640  641  642  643  644  645  646  647  648  650  651  654  655  658  659  660  661  665  667  670  671  672  673  674  675  676  677  678  679  682  683  684  685  688  690  693  695  698  699  700  701  702  706  707  708  710  711  712  713  714  715  716  718  719  722  723  724  725  727  728\n",
      "  729  730  731  733  735  736  737  738  739  741  743  744  746  747  748  752  753  756  757  760  761  762  763  764  765  768  770  771  772  773  776  777  780  782  783  784  785  786  787  788  790  792  795  796  797  798  800  801  803  805  807  809  811  814  815  816  817  819  821  822  824  826  828\n",
      "  832  833  834  835  836  837  838  840  841  843  845  846  847  848  849  850  852  853  854  855  859  860  861  863  864  865  866  868  869  871  872  873  874  876  877  878  879  880  881  883  888  889  890  891  892  893  895  896  898  900  901  902  903  905  906  907  909  912  914  915  916  920  923\n",
      "  924  925  926  928  929  930  931  933  934  935  936  937  938  939  941  942  943  944  945  946  950  953  954  955  956  958  965  966  967  968  969  970  971  972  973  977  978  979  980  981  982  987  990  994  996  997 1003 1005 1006 1009 1010 1011 1013 1015 1017 1018 1019 1021 1022 1025 1026 1031 1032\n",
      " 1033 1035 1036 1037 1038 1039 1040 1043 1044 1048 1050 1052 1055 1057 1060 1063 1064 1065 1067 1068 1069 1071 1072 1073 1074 1076 1081 1082 1084 1085 1088 1089 1091 1093 1094 1096 1098 1100]\n",
      "[  1.77538892  16.35465478  27.28699732  37.30719246 110.66139632] 731 707\n",
      "Distances under 100: [60.13863267 27.28699732 32.12020015 24.81098008 25.17450451 37.96350111 31.11315003 27.07838862 16.98829005 30.52851577 30.43757769 20.58853007 33.91886388 16.19242176 41.20249414 21.3788889  17.79546352 26.00330924 35.69476533 13.58614277 80.71353114 44.43650552 99.94484621 20.92018566 12.6042962  17.1142917\n",
      "  8.8476643  36.63515188 28.45878025 14.57707666 19.21381137 16.76070076 36.38070754 34.54162616 14.64672283 33.10702507  8.02857728 16.91148467 49.21233727 32.95130477 34.87458927 11.09576048 62.07483716 15.92044475 50.11162464 81.20043665 35.81133288 37.72896349 19.68400059 28.9686506  37.91536552 23.89735723\n",
      " 27.20233084  6.04917268 21.01067061 37.31844587 10.43172048 21.63863278 10.22381686 28.52076551  9.20764331 65.54838376 29.53502352 30.68375565 20.9457406  39.95533726 36.73269019 94.46808933 42.78377058 13.73046584 12.09306271 13.89100558 22.9447155  39.55966337 39.8057159  92.3364286  15.66723725  9.20624715\n",
      " 19.41868219 49.72431706 16.31164662 11.08239991 27.12483942  9.65756883 27.42061341 37.13675199  6.99339819 35.99609957 46.53226325 26.07350238 20.25461538 10.49028141 19.85963514 32.27913731 24.24671651 31.93350519 25.41246139 37.41594391 22.48309291 13.29752088 34.15996979 26.26447864 15.45484292 26.67808209\n",
      " 28.2684818  12.23263074 13.80345906  7.8355152  27.26607386 38.65322559 42.34031159 36.11027839 42.24974562  3.9998467  46.04622464 28.86556437 15.13988448  7.73400859 26.92573087 11.23576197 29.89592575 24.48104977 13.56410249 36.92299852 14.50791038 12.15627277 21.91345063 10.12693055  6.75831055 25.44505565\n",
      " 19.29192843 20.23927228 38.74965488 29.96045498 26.09163465 26.46725712 32.08447535 22.45239767 22.28465668 22.99914057 18.3396038  31.16838606 13.54253624 25.60201984 37.41479327 29.34859875 10.1242205  18.98626042 39.74015566 10.84254255 36.32311866  8.28252919 20.22884749 10.64008284 17.33936963 15.86143662\n",
      " 16.45140179 26.17808281 12.00023204 23.45958131 50.10290454 14.81120128 28.34068337 31.80458174 18.81205642 17.07969078 10.79419852 31.77469152 11.08490632  6.16715149 27.57294154 21.08262243 13.39656322 19.95921774 93.55649374 13.63922866 33.65486143  8.35322666  4.34310502 13.1128833   1.77538892 19.17747165\n",
      " 31.0768857  44.50239396 21.23053645 14.29503123  6.13080319 17.55775369 10.55761661 11.36010643 25.74301899  9.23272541 22.06533562 13.47912953 17.51898241 29.28895522 30.10919582 33.75293945 35.4159944  16.91015093 20.9483454  13.18878298 36.34425108 18.4675399  29.70037647 32.32457543 23.13112344 19.14940142\n",
      " 11.77523608 35.4719298  40.55341137  4.96523456 48.38562506 10.02439891  5.85988897  2.08772415 19.27877304 20.99231411 34.43693203 13.08094557 10.45898826 25.83368326 31.36721321 23.00983764 31.73866383 13.18900342 13.37239781 92.4784749   5.69924228 19.31452631 94.59286107 37.42571765  4.33551993 20.21684026\n",
      " 45.71712541  7.19158168 90.21971791 31.17916079 40.20075273 18.49021885 35.33074609 12.21134171 19.04014183 31.26311699 36.35699535 14.30455251 95.65165461 10.98718298 10.5089088  25.33923737 24.99717592 95.03573656 24.92173727 26.68119219 27.51568772 13.19442978 15.8173531  35.13499342 36.47304256 30.34859784\n",
      " 11.8068715  37.76175021 18.9576552  22.52187264 30.77541496 27.82806915 16.3183011  14.26693743 28.44448085 35.41512492 15.53932351 33.86456921  3.23057174  4.47524742 16.64378773 45.83962495  6.32932021 25.19526687 38.28180481 19.37565979 10.17090378 31.22548937 17.41696456 17.94273051 13.18630108 45.868657\n",
      " 13.6228417   6.97466387 27.95520927 16.9632942  18.17674711  6.84356009  6.76516791 16.15940132 34.12242921 28.32727991 18.23767678 16.0634236  37.29593906 12.09864728 27.25510906  7.5471355  39.55207689 10.45283958 24.57489384 23.45320239 91.25826591 21.0515626  10.63422999 14.2316782  35.75978683 31.10965605\n",
      " 40.9947522  30.30046072 29.56873463 33.14253034 37.60276934 29.41080927 32.01524779 37.55802916 30.70920252 33.51215474 15.90149464 96.67975438 24.31299892 17.07355479 60.30031776 30.62898476 35.05581771 35.92423119 30.47213553 48.0445584  19.72938337  6.80413354 94.55647874 21.77244479 37.7426397  36.52470446\n",
      " 34.98223504 96.96178213 36.23286695 24.40926723 34.94343781 16.91492269  4.32481902 42.26927609 45.07822689 27.1831668  87.03065269 12.07634928 41.84189905 97.23107415 28.12437503 30.18537453 30.61383901 21.95125043  7.52588186  5.49233908 30.99638695 31.71877287 37.68520488 30.85104693 72.3565752  16.60425164\n",
      " 32.88402954 25.33498245 99.87352785 28.10845822 12.00684639 25.1682927  60.61043922 34.21303958 30.83465896 21.00556091 35.88589994 70.40874062 11.67307792 22.65965011 16.40088921 29.53660693 32.69593884 77.3560069  28.58560262 83.66100324 25.15350192 28.28022838 54.39741813 36.26546539 14.43059629 32.46388097\n",
      " 24.19235363 24.31498398 17.69089596 15.99884782 37.15116366 20.09176989 17.77135431 31.09943293 37.41948803 17.89621806 27.57159667 31.67333716 12.55153698 35.41784607 22.00080916  9.89280746 37.56566591 24.9515097  23.55276143 38.31932438 14.26940077 27.80601608  7.28089454 32.9654062  37.75034748 40.96333352\n",
      " 42.94025985 21.63184149 16.39100846 34.25893784  4.40839621 40.1112437  22.82055127 45.6918037  27.69974786 12.51764519 24.01890401  6.90389801 31.22038453 34.86553273 24.76691746 35.89501598 25.78204797 38.22730508 39.28118925 28.92511663 41.54445835 27.07391127 24.60356708 30.47525826 25.16631372 28.20103313\n",
      " 26.89334711 38.35942459 41.34495554 33.36920423 14.52101365 83.3832561  33.48054576 22.92831144 36.88449867 44.48024637 14.33662504 11.94275203 42.21281329 44.1362106  22.41251931 17.27221617 25.31898901 56.92963861 35.89296517 11.79207555  4.14261182 28.79697697 18.59798455 91.57894687 35.43360339 11.32623909\n",
      "  8.05936846 36.35362825 29.73377766 34.00735145 33.6315538  30.54848713 42.08674139 77.91168866 47.04177918 29.05397183 80.01789994 32.53834585 10.01029499 32.26628351 28.96516589 32.9487169  94.252878   31.92322333 23.78277625 24.63260365  7.4323999  16.74748122  9.20859069  9.87021793 19.59524545 10.21461841\n",
      " 14.5567108  18.54996589 20.45800901  7.58838197 87.10738809 52.48314406 33.48241947 27.71679036 30.07176762 25.65071935  7.24141942 74.40781379 23.84857602  9.36124391 68.02411558 15.90129339 11.07350084  5.01574577 12.65559789 10.61603873 19.72995996 86.8700918  18.73143171 39.17414225 32.1895369  30.29346383\n",
      " 18.47402403 42.1111651  35.01141785 14.62954307 36.24026545 79.72163628 34.83115799  3.44518777 42.3364048  34.01472812 17.82533307 34.94493408 23.52971679 51.30112245 28.19868059 23.26062976 12.06365965 32.85467444 29.18892528 32.10820053 20.4009623  26.23139016  4.89385283 90.56483193 35.50724323 31.86803056\n",
      " 32.20394138 35.43570018 15.21808862  9.51372103 87.71244106 14.81999338  2.89838074 32.6029449   4.03150015 10.14026692 27.93551625 39.68879919 58.31622443 36.17831925 64.76000067 45.85543925 12.33643456 30.31390598  9.11388999 16.28587194 59.22720091 41.32229141 29.90108087 13.14064091 31.75721457 33.17846028\n",
      "  8.29607376 36.83864309 25.40479936 32.90068329 36.22808854 74.64785902 15.74421792 38.1128756  18.70821317 54.78045084 33.9572686  27.85629737 80.32713026 22.82003725  7.07654528 23.26685004 18.04589543 33.77036662 71.70867369 38.19614809 29.52551937  9.55881481 17.90883273 10.46382969 32.3568816  36.16522624\n",
      " 15.66360705  5.52282011 32.90863869 21.25955792 23.35770363  7.73397311 52.44837684 31.9255952  28.82475932 28.83844596 24.21650162 24.6586393  27.90622698 49.27807456 38.868145   11.32050523  9.92739797 90.63061827 58.78792465 23.77200561 16.22222803 78.60692673 77.45170843 22.25967512 37.63132135  3.78798556\n",
      "  9.08741368 27.16620565 57.47678037 28.42076262 29.46435301 32.05038636 11.82206031  7.82953666 25.9755564  73.12266612 31.24302255 38.0526917  21.94008042 25.18179303 24.07886909 37.50452038 70.25472945 38.87647367 11.86739497 21.77832444 36.34903709 12.45862244 22.82724669 18.4378064  58.6793423  41.48273622\n",
      " 15.64772099 77.03503838  8.12311346 23.16678008 14.73011811 55.72160841  4.50419112 24.86164793  4.89825551 10.11048126 70.03026492 51.26379556 26.88763265  8.00445487 97.23842915 20.46766962 22.11667362 14.82436879 19.38755724 14.23435008 38.78473301 50.54978959 69.27984812 22.76900546 22.47009459 55.16673909\n",
      " 23.64677494 41.74338899 64.12060867 23.17878125 19.10095653  9.92019615 25.49591656 15.92013735 16.1374295  23.1615887  16.82803697 97.07506191 18.99820472  8.42407241 33.47209245 60.6603677   9.99879418 87.6991863  44.50258447 39.50358322 60.20786844 85.71872744 75.54553723 67.93089661 91.30096625 10.9857013\n",
      " 70.98591874 69.50084855 36.35316723 24.09620533 44.24231601]\n",
      "Enter Matching\n"
     ]
    },
    {
     "data": {
      "application/vnd.jupyter.widget-view+json": {
       "model_id": "292d293dde8542ccaf439471fedfc765",
       "version_major": 2,
       "version_minor": 0
      },
      "text/plain": [
       "Descriptor Matching (Flipped):   0%|          | 0/1584 [00:00<?, ?it/s]"
      ]
     },
     "metadata": {},
     "output_type": "display_data"
    },
    {
     "name": "stdout",
     "output_type": "stream",
     "text": [
      "Results Update: 731 1115 829\n",
      "829\n",
      "IDX 828\n",
      "DISTNACE 619\n",
      "DBSCAN 828\n",
      "INTERSECT 619\n",
      "620\n",
      "[  0   1   2   3   5   6   7   8   9  10  11  12  14  15  16  17  18  19  20  21  22  23  24  25  26  27  28  29  30  31  32  33  34  36  37  38  39  40  41  42  43  44  45  46  47  48  49  50  51  52  53  54  55  56  57  58  60  61  62  63  64  65  66  67  68  69  70  71  72  73  74  75  77  78  79  80  81  82  83\n",
      "  84  85  86  87  88  89  91  92  93  95  96  98  99 100 101 102 103 104 105 106 107 108 109 110 111 112 113 114 115 116 117 118 119 120 121 122 123 124 125 126 127 128 129 130 131 132 133 134 135 136 137 139 140 141 142 143 145 146 147 148 149 150 151 152 153 154 155 156 157 158 159 160 161 162 163 164 165 166 167\n",
      " 168 169 170 171 172 173 174 175 176 177 178 179 180 181 182 183 184 186 187 188 189 190 191 192 193 194 195 196 197 198 199 200 201 202 203 204 205 206 207 208 209 210 211 212 213 214 215 216 217 218 219 220 221 222 223 224 225 226 227 230 231 233 234 235 236 237 238 239 240 241 242 243 244 245 246 247 248 249 250\n",
      " 251 253 254 255 256 257 258 259 260 261 262 263 264 266 267 268 269 270 271 272 273 274 275 276 277 278 279 280 281 282 283 284 285 286 288 289 290 291 292 293 294 295 296 297 298 299 300 301 302 303 304 305 306 307 308 309 310 311 312 313 314 315 316 317 319 320 321 323 324 325 326 327 328 330 331 332 333 334 336\n",
      " 337 338 339 340 341 343 344 346 347 348 349 350 351 352 353 354 357 358 359 360 361 362 363 364 365 367 368 369 370 371 373 374 376 377 378 379 380 381 382 383 384 385 386 387 388 389 390 391 392 393 394 395 396 397 398 399 400 402 403 404 405 406 407 409 410 411 412 413 414 415 416 418 419 420 421 422 423 424 425\n",
      " 426 427 428 429 430 431 432 433 434 435 436 438 439 440 441 442 443 444 445 446 447 448 450 451 452 453 454 455 456 457 458 459 460 461 462 463 465 466 467 468 470 471 472 473 475 476 477 478 479 480 481 482 483 484 485 486 487 488 489 490 491 492 493 495 496 497 499 500 501 502 503 504 505 506 507 508 509 510 511\n",
      " 512 513 514 515 516 517 518 519 520 521 522 524 526 527 528 529 530 532 533 534 535 536 537 538 540 541 542 543 544 545 546 547 549 550 551 552 553 554 556 557 558 559 560 561 562 564 566 567 568 569 570 571 572 573 575 577 578 579 580 581 582 583 584 586 587 588 589 591 592 593 594 595 596 598 599 600 601 602 603\n",
      " 604 605 606 607 608 609 610 611 612 613 614 615 616 617 618 619 620 621 623 624 625 626 627 629 630 631 632 635 636 637 638 639 640 641 642 643 644 645 646 647 648 649 651 652 654 655 656 657 658 661 662 663 664 665 666 697 709 713 716 732 745 746 762 774 776 777 814]\n",
      "[ 0.97314152 13.17919981 22.75985123 30.07584942 82.88599608] 620 620\n",
      "Distances under 100: [63.71693317 21.85902761 24.61022395  7.92095621 30.70596218 23.35287057 28.98419182 15.24824058 21.76853305 24.58701887 10.22269158 27.04734549 35.14014469 19.23562195 14.64418213 22.45921382 28.48955987 13.71603017  6.30712443 10.4304384  25.03845813 27.65646424 12.69524577 17.54516377  9.65039848 30.11311836\n",
      " 30.24282654 16.70100517 10.90791771 16.45495334 27.81445374 28.33121526 11.53788818 23.83067486 20.1048232  13.85612991 44.24542278 21.5251826  26.96235548 12.87841952 57.40365447  9.65932681 43.03252145 77.2455292  31.75463546 31.98477199 21.82631364 22.23295857 26.28222612 15.38444526 22.67838485  5.09194176\n",
      " 21.01209634 24.81596882 12.41503312 14.61523267 24.02444596 10.11611014 76.52092606 29.07533303 23.18793922 26.43020647 19.04725249 34.50566334 31.69584018 46.50379885 14.42881646 11.45012854 11.51176902 20.99455739 39.18593652 33.12531507 11.23809675  9.43232257 17.79456557 44.81253614 12.13716636 11.86228347\n",
      " 36.72640731  6.44288819 27.99533489 32.44790607  5.79705796 32.78062574 41.25427944 15.96226822  6.44622845 17.58673194 16.28518669 29.07163231 32.68895511 20.37705231 13.74340236 26.72447274 25.33063262 11.20828622 21.94694015 26.31240576 27.7989335  14.95143457  7.26597942 15.99210568 35.25908683 39.10129751\n",
      " 29.18814479 35.56021728  4.1727595  34.85963329 29.58923656 15.54439233  6.51393427 28.12056662 10.09466538 26.13269593 23.36092873 14.95432417 25.32501621 14.08421839 10.2512416  16.80333616 17.85010896 10.63309263  6.9598931  20.18848108 15.10936769 15.9332331  35.11143902 17.87606805 26.90101542 23.71199461\n",
      " 20.88605358 24.58047943 23.28635431 17.24682068 33.26143861 24.42831835 30.20150824 28.38718397  7.61182733 20.01072667 30.42168985 69.44997781 29.88770616  6.17156631 24.80886796 11.08077916 16.7480223  13.33126725 17.12136996 23.55570593 14.4350687  19.60660519 42.48876104 10.31779582 28.07257798 29.39125605\n",
      " 14.52802743 14.79488736 11.56915849 30.11756675 10.35724629  6.83312102 24.33418877 11.5947795  13.61720741 20.72781833 58.47429892 10.69070218 25.43652333 11.09526053 11.54169323  0.97314152 10.86022731 24.66036979 35.69939632 24.22548904 74.61123724 11.9634632   6.56694114 17.94193618 10.5253529  12.63297653\n",
      " 28.28111166 11.7736282  25.84860375  6.24074529 14.56987805 26.72174504 30.21564716 21.36164137 33.36304206 11.51212188 14.05609638 14.2209937  29.59413695  6.88775557 28.73709527 23.72654808 21.77553181 31.22326996  2.4350139   5.0096491  43.04471347 10.68422879  5.17413294 22.54109484 23.17415664 18.99183326\n",
      " 35.10694838 32.75594356 11.08504941 25.74446722 32.61891758 14.2391114  28.4609031  15.17947029 12.44921011 16.2422902  33.48815462 35.45265615  7.88134095 36.90030613 34.20855995  6.4662202  32.06078137 31.59556262 16.45306457 27.71107238 13.26772896 18.26350468 22.49827909 33.52717235 26.08563683 14.37860308\n",
      "  2.72719552  5.92497579 40.26333941 14.85268377  6.49803389 26.65704341 23.54865427 19.68904335 14.25441443 16.51943031 31.46742971 36.97704216 28.66443136 11.34605359 30.54144408 20.69542562 27.7102856  20.57280405 15.40568301 12.15371372 24.97027236 23.5540517  12.23521404 23.14715316  3.32770535 13.67695946\n",
      " 47.69384649  7.05652526 19.00237053 34.36388056 22.36804022  5.49579203 14.37768023  8.98368441 14.18289893 36.0253079  34.19866891 11.77303159 16.3190543   8.3140125   4.46007431 11.81596408 27.82156905 25.88010004 12.02509857 46.82408572 10.99367133 22.64826743  9.78940076 41.27625492 11.83779957 15.26065458\n",
      " 14.14482693 18.02219198  5.89703073 10.82554042 29.14176769 23.32649194 32.81051128 26.7001345  27.49992346 34.05527882 25.82957683 25.49266729 31.68621819 24.27654223 25.7946802  23.50075377 14.94868183 52.58591096 25.96844564 24.58008458 28.21585712 37.59655508 11.90487176  5.22368083 13.07300781 32.83396264\n",
      " 25.19631146 30.58951952 24.03641705 25.64991726 12.41279576  2.10332238 36.91481972 45.286659   22.3671442  13.82152979 32.52308462 21.29017617 24.71399127 31.86936544 12.28347222  9.92928239  6.67538204 26.57548151 27.91734568 25.43332171  9.56229566 25.68130288 21.5219852  10.18303838 16.6862432  28.10476027\n",
      " 31.79444066 12.94021646 25.16615668 14.37519245 18.64017154 16.22433851 23.63121949 24.64712247 29.52994559 27.2088855  29.0768701   3.15099522 19.71942259 13.66353973 19.2961983  13.68390538 13.29771381 30.6227129  13.8805712  10.3721331  25.46142676 31.46364445 13.67851284 24.66650145 35.45127281 12.60876983\n",
      " 23.21012153 13.77055193  9.08559045 27.83882778 25.00520648 82.88599608 28.96099674 14.7303797  21.77127662 31.90572912 39.82282101 29.70774835 39.35401216 24.01623075 20.63395534 21.30979054  4.77706627 28.6426533  13.19301699 33.73836239 15.94162038 10.04206024 19.92297741 10.26478951 20.94034302 37.23673913\n",
      " 19.57004485 26.16786782 25.42255598 27.47915708 23.25977698 41.35836728 21.11129993 16.11683428 29.26814528 14.89204512 22.30378904 17.0711897  33.99979828 33.0030162  33.64708358 11.07906281 37.86660795 40.69714545 10.78308379 29.8053525  34.39285189 17.41070061 12.96140045 27.73962609 67.1976949  34.70493633\n",
      "  8.29376243 27.15040589 21.44310654 12.22917275 42.33337458 10.18487716  9.15331046 38.96447467 23.62157686 24.13497551 28.36518755 24.88797218 32.5897434  35.22211444 25.20232771 25.7418784  22.76364532 29.27137448 26.76313106 30.06342644 15.59553633 14.69230566  9.22631577 34.01147251 10.47662624  4.06388194\n",
      " 12.17820319 17.39744399 13.64829828  6.32845813 75.61033664 17.1165801  27.70868572 19.6157391   8.04585923 20.08749653  5.48952349 17.80993641  6.21233333 74.59910605 11.69567136  9.60487873 11.35734637  7.25456855 11.51330297 18.39599005 33.80432101 29.5033896  20.77773374 29.85946221 29.73622292 15.54782597\n",
      " 29.59340876 75.32924801 32.57713511  1.44225696 36.30384967 25.51410582 16.18258049 34.47497737 17.02315541 23.34625782 29.29045006 13.52676524  8.47969666 27.0527608  22.75801315 28.95107187 14.11028329  6.71409616 31.02725898 26.78328314 22.76168931 10.61913669  3.42648472  8.45184487 23.43068685  5.43853817\n",
      "  6.91746125 24.83379558 32.55288278 10.85524732 42.12270991  9.1101993   6.92756626 17.29123586 33.10314733 25.46333366 13.97144119 33.11003781 27.6637372   6.7486141  24.72787307 23.43686629 33.84392145 27.14290399 10.55948522 54.29668263 32.28392657 24.00923881 18.97016769 20.43496959 12.74464193 35.82847374\n",
      " 37.10205359 32.81578833 12.26641971 15.23037679 10.78653024 28.50736595 36.83265847 24.39730546 32.57578304 23.44846119  3.51710882 23.69283379 27.62402594 31.19190062 26.01423527 21.7058086  20.41756144 37.99565763 32.48765    12.76446046  6.50973737 57.39729728 13.65979565 77.15466749 74.11084219 22.87336044\n",
      " 31.58914854  6.78087556 23.32546581 31.77398132 21.70717127 27.08333943 31.05759942  9.46380345  4.20690279 67.43469503 25.89568567 36.9335437  22.22582058 19.31400503 30.48883023 62.46565786 32.96248249  8.64866776 16.73294717 10.96414022 20.93235442 10.51380009 55.31020389 29.4507873  13.07243733  7.99685646\n",
      " 21.87310084 11.78499202 50.65470881  5.58786817  3.34365258  8.20064712 64.87263056  6.87454484 11.09040676 23.13823147 16.61935053 41.0894123  46.34515338 25.93386845 43.312726   17.60486799 41.70446949 20.5398595  29.87300064 30.7404356  13.13774827 16.2543533  35.35959442 15.05045164  6.85721311 60.42065837\n",
      " 38.1832264  35.02817237 54.49980211 82.72614496 11.89651232 70.65686825 68.47979818 41.15392176 19.43566827 47.39301628 19.6575284  39.59896621 24.78597881  1.72991321 31.13252095 48.46237044 41.96239628 23.35202513 40.39158855 12.51321644 42.0635406  43.88054319]\n",
      "Enter Matching\n"
     ]
    },
    {
     "data": {
      "application/vnd.jupyter.widget-view+json": {
       "model_id": "6b096bb838e44c4a8f0534226a507bec",
       "version_major": 2,
       "version_minor": 0
      },
      "text/plain": [
       "Descriptor Matching (Flipped):   0%|          | 0/1584 [00:00<?, ?it/s]"
      ]
     },
     "metadata": {},
     "output_type": "display_data"
    },
    {
     "name": "stdout",
     "output_type": "stream",
     "text": [
      "Results Update: 620 1126 846\n",
      "846\n",
      "IDX 845\n",
      "DISTNACE 653\n",
      "DBSCAN 845\n",
      "INTERSECT 653\n",
      "654\n",
      "[  0   1   2   3   4   5   6   7   8   9  10  11  12  13  14  15  16  17  18  19  20  21  22  23  24  25  27  28  29  30  31  32  33  34  35  36  37  38  39  40  41  42  43  44  45  46  47  48  49  50  51  52  53  54  55  56  57  58  59  60  61  62  63  64  65  66  67  68  69  70  71  72  73  74  75  76  77  78  79\n",
      "  80  81  82  83  84  85  86  87  88  89  90  91  92  93  94  95  96  97  98  99 100 101 102 103 104 105 106 107 108 109 110 111 112 113 114 115 116 117 118 119 120 121 122 123 124 125 126 127 128 129 130 131 132 133 134 135 136 137 138 139 140 141 142 143 144 145 146 147 148 149 150 151 152 153 154 155 156 157 158\n",
      " 159 160 161 162 163 164 165 166 167 168 169 170 171 172 173 174 175 176 177 178 179 180 181 182 183 184 185 186 187 188 189 190 191 192 193 194 195 196 197 198 199 200 201 202 203 204 205 206 207 208 209 210 211 212 213 214 215 216 217 218 219 220 221 222 223 224 225 226 227 228 229 230 231 232 233 234 235 236 237\n",
      " 238 239 240 241 242 243 244 245 246 247 248 249 250 251 252 253 254 255 256 257 258 259 260 261 262 263 264 265 266 267 268 269 270 271 272 273 274 275 276 277 278 279 280 281 282 283 284 285 286 287 288 289 290 291 292 293 294 295 296 297 298 299 300 301 302 303 304 305 306 307 308 309 310 311 312 313 314 315 316\n",
      " 317 318 319 320 321 322 323 324 325 326 327 328 329 330 331 332 333 334 335 336 337 338 339 340 341 342 343 344 345 346 347 348 349 350 351 352 353 354 355 356 357 358 359 360 361 362 363 364 365 366 368 369 370 371 372 373 374 375 376 377 378 379 380 381 382 383 384 385 386 387 388 389 390 391 392 393 394 395 396\n",
      " 397 398 399 400 401 402 403 404 405 406 407 408 409 410 411 412 413 414 415 416 417 418 419 420 421 422 423 424 425 426 427 428 429 430 431 432 433 434 435 436 437 438 439 440 441 442 443 444 445 446 447 448 449 450 451 452 453 454 455 456 457 458 459 460 461 462 463 464 465 466 467 468 469 470 471 472 473 474 475\n",
      " 476 477 478 479 480 481 482 483 484 485 486 487 488 489 490 491 492 493 494 495 496 497 498 499 500 501 502 503 504 505 506 507 508 509 510 511 512 513 514 515 516 517 518 519 520 521 522 523 524 525 526 527 528 529 530 531 532 533 534 535 536 537 538 539 540 541 542 543 544 545 546 547 548 549 550 551 552 553 554\n",
      " 555 556 557 558 559 560 561 562 563 564 565 566 567 568 569 570 571 572 573 574 575 576 577 578 579 580 581 582 583 584 585 586 587 588 589 590 591 592 593 594 595 596 597 598 599 600 601 602 603 604 605 606 607 608 609 610 611 612 613 614 615 616 617 618 619 624 630 632 635 636 642 644 652 658 669 672 681 705 717\n",
      " 718 726 731 734 738 740 745 748 755 758 759 760 763 769 789 793 802 805 809 821 830 831]\n",
      "[  2.18063839  18.13689818  28.15857446  39.42657905 101.64528682] 654 650\n",
      "Distances under 100: [65.30751991 31.35406894 35.58681983  7.20979019 41.85833296 32.93924818 26.10388026 25.795606   27.32684499 34.36002705 17.36907607 25.40246518 46.92894514 27.58377633 21.81606138 24.10850204 39.6275872  15.2250284  18.53905687 22.93609121 19.08633392 33.67626909 14.00700449 12.15179796 13.86891513 42.42455444\n",
      " 17.73480188 19.54090624 19.55753273 27.97026997 38.4991439  16.01522454 31.88398317 10.46885537 26.88838903 55.24753365 30.06067752 28.03461119 14.06933302 65.42428251 19.5468511  48.10420689 69.51081916 30.83487118 43.93404458 21.63870927 33.54454936 32.91381772 17.02208872 41.50620136 11.80113939 18.56607741\n",
      " 31.48934166 13.6836478  10.74324252 24.97764458 25.52856941 80.45359962 39.07107258 21.63908349 32.87917513 19.82391224 35.58525412 43.17324113 44.39180665 16.79102398 21.03995055 11.44881071 29.42570139 40.34975563 43.55848142 13.82544374 13.61298493 18.35174676 55.19206968 11.89694202 20.23318032 26.65840895\n",
      " 10.19186058 25.39161709 37.72433854 12.94162091 33.93143002 31.74546659 15.24923958 14.27423235 25.89243361 16.16640102 30.50915292 35.11433319 20.85681662 15.86873529 38.24905062 21.79008697 12.08605696 24.96730531 28.55186891 21.92465921 17.8891413  18.69723124 23.13497067 35.76772815 38.88424092 26.27779133\n",
      " 39.86372597  8.88796846 53.42652069 29.07760691 14.92125488 12.76496714 27.08507504 13.49134969 28.43808478 20.8091973  14.0500674  34.121837    8.19036663 11.10968735 20.18461402 45.4003463  13.02067119  6.06253134 22.18031023 15.32469009 16.79906411 34.97314616 25.97414109 25.16138652 26.25525373 21.3005038\n",
      " 25.12463915 23.43357244 16.44428465 44.95383163 24.11362929 41.75235005 25.93442327 69.34673445 21.62108986 37.34172402 79.44769593 41.85195393  7.85565461 32.9775906  11.41694167 25.50521121 15.281983   17.30132272 24.42971017 13.75316021 21.41104671 47.72748958 11.90571063 25.32521256 28.77072384 17.02365655\n",
      " 24.92547113 14.77502222 29.03653477 16.22239823 11.28783896 25.60272343 19.53371954 16.55243107 22.14561313 56.73226883 18.993047   29.58521889 17.50904425 19.55386574  5.36413625  3.97320832 30.39332629 42.58743845 27.53206418 69.58002788 18.3806803   8.79515651 19.67879172 14.63751501  7.74944326 28.21966294\n",
      "  6.86050552 35.74115977 19.66890375 27.65975613 28.82952367 31.07203903 31.85520245 40.5765216   8.76133735 28.58563461 48.26397034 41.66540831 18.24687775 42.61529603 23.62925343 14.61271278 35.5533482  14.06407205  9.97309059 27.72427449 10.12804397 11.40517574 14.18126164 34.7590926  25.67389361 34.15240637\n",
      " 24.29698754 14.40496856 24.55029605 45.85726897 15.91822233 39.4750782  17.37134884 16.30776577 30.46507335 32.379713   35.94329641 16.5201699  24.29357181 38.81567267 12.96311564 31.39317667 37.42725006 11.33453414 30.80445421 13.31170895 15.84549735 30.69750338 33.28729259 12.83774877 27.25963443 10.91688957\n",
      " 10.87022695 29.06145464 19.39584054 12.73148799 68.97021791 22.30005496 30.14706484 10.12034714 29.07009779 30.34929077 40.32602365 43.37986888 23.33854248 42.22129318 18.69082689 27.00878671 29.4950182  12.55586201 13.0412101  35.84783065 28.54025422 14.1180806  28.08247653  8.34374133 19.98813332 59.76853514\n",
      " 10.73099627 29.36459487 46.45454564 22.51349857 19.06922458 14.83103465 14.15911162 15.65013665 54.71381346 25.64347516 22.8062898  19.23988363  9.96986893 12.69280231 20.81562976 38.12746992 35.98432753 20.46414061 37.41946138 17.18368554 37.32316277 19.78514224 37.69815688 10.8502588  20.52992696 21.66256924\n",
      " 21.89352064 18.81510987 18.16217686 39.43612089 46.07667558 45.21462708 37.72599015 38.72278381 37.19995227 35.60709141 29.9921558  43.43301835 34.58731549 37.20377934 24.70331046 18.1216371  63.46735427 39.85246321 30.58632307 42.76119542 41.58328825 22.24394439  9.29852839 24.56872584 32.61033751 33.09485925\n",
      " 32.31744555 30.83022332 28.97563766 16.71029214 11.5200639  39.99097693 43.60451001 35.16559122 15.89105269 38.98159873 31.82023366 27.46241382 44.54770501 50.22146415  8.6839938   4.61390275 28.06886938 32.6671555  31.532771    8.61397538 29.06308735 29.521227   16.66421845 22.35432243 38.4924537  29.55466317\n",
      " 23.44958679 28.58617761 15.05377513 28.39111443 24.73728797 35.50523992 32.37166407 42.60202344 27.02306176 41.4381282  15.65442322 29.10543967 20.34629661 21.66034947 22.56400523 17.4703657  36.78421394  7.33094672 12.73113915 35.69020031 41.12753151 27.81492083 35.56532327 45.82192742 11.63260311 28.20565517\n",
      " 25.77366898 14.40097065 24.11496389 93.65854709 32.00175333 15.38608633 31.80261443 46.19600895 41.94910037 33.01039843 45.20382023 21.22593939  8.37707475 29.65518911 11.48745901 41.02441919 20.57548351 41.51270261 22.90407093 35.4728883  18.75574393  8.99408616 27.00076159 63.40632042 23.05256765 22.71458131\n",
      " 32.21641914 35.21107246 33.32246682 54.55120289 35.30875822 24.09550936 72.33484036 26.37669409 32.89050473 21.86679494 39.60095174 38.45746024 46.83089676 13.21259583 37.8297103  26.10036195 16.35351155 36.39250815 43.41664898 18.88259062 27.39635911 27.99016222 56.73669966 48.77086311 17.84698175 40.60110373\n",
      " 36.66018842 66.72341082 36.80419636 17.41663458  6.50822178 46.45487507 36.30093412 23.73881726 30.72655427 34.1918923  38.37137379 38.79417957 61.70627946 36.17559882 30.67961467 42.47975947 39.39795356 42.60072803 29.71292448 19.34534418 12.03418449 64.05718932 20.70141185 15.8476907  19.9664847  29.38420496\n",
      " 43.15721639  7.90634157 79.17101175  5.58762785 27.46621745 29.74255142 15.53425271 29.54738422  6.65386754 29.30242749 15.26421065 62.11344692  2.18063839 52.53082305 18.66278728 19.49407068 20.3415177  26.26200967 46.10799311 40.5289982  16.33033708 38.33439695 18.04115787 12.85929721 40.37918923 67.58492748\n",
      " 46.3903748  10.80162559 28.11149375 30.72516013 28.35434069 32.35075723 28.05856299 26.90469369 30.02231536 27.88436497 21.01611908 20.48281092 40.86708238 32.04283646 24.43441035 11.87289113 41.78718392 37.45858994 28.2419614  14.45158618 11.18188295  9.62954146 29.78887859 11.52140586  6.98148999 35.4665999\n",
      " 34.99793189 66.24149931 57.85063088 19.12572215 14.0781     15.2961535  22.086238   27.75794257 15.38738811 45.49214281 38.90553253 12.60219785 35.90666095 29.67918593 33.1808324  56.38697785 14.25026533 66.81709736 38.14345485 33.38792016 28.86515468 21.73096343 20.40835693 48.92456942 47.28542417 42.85981534\n",
      " 12.56856566 28.25918767 22.10050129 39.01855892 50.1379861  29.12149417 29.38556026 23.88335256  9.4024916  17.89701475 27.24941761 43.73327814 37.35550943 28.4551611  30.60092273 40.17321686 44.09605666 12.31564333 14.71344629 58.50066489 22.01737474 67.48210456 69.34945758 27.22063777 31.0044128  11.36662093\n",
      " 41.20505418 30.0925171  18.12847196 34.68625312 30.86380573 17.67753214 13.44768533 67.10316323 37.08558255 51.47857329 20.44852548 30.60594701 42.59650239 66.37609267 36.85525756 12.41472034 16.9941524   7.384185   30.46082365 23.5311394  64.03333852 39.09646903 21.91557095  7.92528689 59.76580096 20.32627354\n",
      " 49.90956518  5.82607937  4.37086217 17.29142894 78.56923595 12.9642894  20.42627067 22.67361042 17.819608   41.46870687 58.78192627 25.31076086 54.52999362 12.64475841 41.64809315 55.75074174 21.7489849  25.96717701 25.15916289 12.08538835 26.6529729  21.39516974 16.48748242 72.47862963 39.72422446 39.72841731\n",
      " 67.47409159 90.06374941 16.27977182 82.06308127 66.85443489 52.02335489 19.35467784 55.83613264 11.35710705 34.70422952 19.71347925 12.04987389 23.69055513 39.38507535 46.58571476 12.54305569 27.71953951 23.85409147 54.04500323 47.97421082 82.57980483 35.15739675 68.59800461 39.54624825 39.52912842 68.50581463\n",
      " 17.39041315 88.75823089 60.59512467 29.46773838 98.54675787 39.53998425 57.45610451 90.89875323 79.84182079 98.97062639 68.18388792 70.60701067 68.59045923 53.58656771 50.8951008  57.53137091 60.69365255 75.68631294 64.88191962 77.933717   41.35567581 99.23311323 81.3607672  51.39346651 77.68243819 52.79494147]\n",
      "True False\n",
      "D:\\CaseStudies\\CornerDigitization\\FineAdjustment\\\\registration/48201C0855J.tif\n",
      "[[ 1.01003618e+00  1.12060107e-03  1.02744483e+05]\n",
      " [-1.12060107e-03  1.01003618e+00 -4.66600545e+04]\n",
      " [ 0.00000000e+00  0.00000000e+00  1.00000000e+00]]\n",
      "[[ 8.73453412e-01 -2.78635179e-03 -1.06327897e+07]\n",
      " [-2.60173993e-03 -8.84493573e-01  3.47204839e+06]\n",
      " [ 0.00000000e+00  0.00000000e+00  1.00000000e+00]]\n",
      "D:\\CaseStudies\\CornerDigitization\\FineAdjustment\\\\referencing\\48201C0855K.tif\n",
      "1594 / 5230\n",
      "Enter Matching\n"
     ]
    },
    {
     "data": {
      "application/vnd.jupyter.widget-view+json": {
       "model_id": "aef9a232a6b346b396d9ddeaff1b1d28",
       "version_major": 2,
       "version_minor": 0
      },
      "text/plain": [
       "Calculating Descriptors:   0%|          | 0/5087 [00:00<?, ?it/s]"
      ]
     },
     "metadata": {},
     "output_type": "display_data"
    },
    {
     "data": {
      "application/vnd.jupyter.widget-view+json": {
       "model_id": "d23ef4a3b13a4592828e2212958b7249",
       "version_major": 2,
       "version_minor": 0
      },
      "text/plain": [
       "Calculating Descriptors:   0%|          | 0/1588 [00:00<?, ?it/s]"
      ]
     },
     "metadata": {},
     "output_type": "display_data"
    },
    {
     "data": {
      "application/vnd.jupyter.widget-view+json": {
       "model_id": "13a02c6d9ce34b99bebbbdf3379f2873",
       "version_major": 2,
       "version_minor": 0
      },
      "text/plain": [
       "Descriptor Matching (Flipped):   0%|          | 0/1588 [00:00<?, ?it/s]"
      ]
     },
     "metadata": {},
     "output_type": "display_data"
    },
    {
     "name": "stdout",
     "output_type": "stream",
     "text": [
      "1064\n",
      "IDX 1063\n",
      "DISTNACE 692\n",
      "DBSCAN 1063\n",
      "INTERSECT 692\n",
      "693\n",
      "[   0    2    3    4    5    6    7    8   10   12   15   16   18   19   22   23   25   26   27   29   30   32   34   35   36   37   38   40   41   42   45   46   47   49   50   51   52   53   55   56   57   59   60   61   63   64   66   68   69   70   71   72   73   74   76   78   79   80   81   83   85   86   88\n",
      "   90   91   92   93   94   95   96   97   99  100  101  104  105  106  107  108  110  111  114  115  116  117  118  119  120  122  123  124  125  126  127  128  130  131  132  133  134  135  137  140  143  144  145  146  150  154  155  156  157  158  159  160  161  163  165  166  167  168  169  171  172  173  174\n",
      "  175  176  177  178  179  180  181  182  183  185  186  188  190  191  192  193  194  195  196  198  200  201  203  204  205  206  208  211  214  215  216  217  218  220  222  223  224  225  226  228  229  230  231  232  234  235  236  237  238  240  243  245  247  248  249  251  252  253  254  258  259  260  261\n",
      "  262  264  265  266  267  268  269  270  271  272  274  275  277  278  279  281  283  284  285  286  288  290  291  292  293  294  297  299  301  302  304  306  308  309  311  315  317  318  322  324  325  326  328  329  331  332  333  335  336  337  338  342  343  344  345  347  348  349  352  353  354  355  356\n",
      "  357  358  359  360  361  363  364  366  367  368  369  373  374  375  376  377  378  384  386  387  388  390  391  392  393  394  395  396  400  402  404  407  408  410  411  412  413  414  415  416  417  418  419  420  421  422  423  424  425  426  427  428  430  433  435  436  437  438  439  440  441  442  443\n",
      "  444  445  446  447  448  451  452  453  454  456  457  459  460  462  463  464  465  466  467  469  472  473  474  475  477  478  481  483  485  486  488  489  491  492  493  494  495  497  498  499  500  502  505  506  509  510  511  512  513  514  516  517  519  520  522  523  524  525  526  527  528  529  530\n",
      "  531  532  533  534  535  537  540  541  544  546  548  549  552  553  554  556  557  558  560  561  562  563  565  567  568  571  573  576  577  580  582  583  584  585  586  587  589  590  591  592  593  594  595  597  598  602  604  606  607  608  609  610  611  612  613  615  616  618  620  623  624  626  627\n",
      "  628  629  630  631  633  634  635  636  637  638  639  640  641  642  643  644  645  646  650  652  653  655  658  659  662  663  666  667  668  669  670  671  673  675  676  677  680  681  682  683  684  685  686  688  691  692  693  694  695  696  697  698  699  700  701  702  703  707  710  711  714  715  716\n",
      "  718  719  720  721  723  724  725  726  729  731  733  734  735  736  739  741  744  745  746  747  748  749  750  752  754  756  757  760  761  762  764  766  769  772  774  775  776  778  779  782  783  784  787  789  792  794  795  796  797  798  800  801  802  804  805  810  811  812  813  815  818  819  820\n",
      "  822  827  828  829  830  831  832  833  835  837  838  839  840  842  844  846  849  851  852  854  855  856  857  858  859  860  862  863  864  866  867  868  870  874  875  878  879  880  881  882  884  886  888  889  891  894  895  897  899  902  905  908  915  916  917  920  926  928  929  930  932  935  937\n",
      "  940  942  945  948  949  950  951  952  953  955  956  957  958  961  962  963  965  966  968  970  974  977  978  979  981  984  985  986  987  988  989  990  991  992  993  994  996  998  999 1003 1004 1006 1009 1012 1013 1015 1019 1023 1026 1027 1028 1030 1031 1032 1034 1039 1040 1044 1046 1048 1050 1060 1062]\n",
      "[ 1.53116896 14.94342721 24.78260958 32.67895152 99.79936422] 693 693\n",
      "Distances under 100: [46.27725256 20.48747224 25.07312986 99.73174559 48.5373171   8.72335789 15.2245288  16.51545375 33.6724284  27.00840171 13.27895287 12.99003135 40.54802301 39.61893838 16.93856117 32.97882215 35.45230435 32.3484396  22.48932973 34.11501252 28.40120434 22.19202319 17.13116957 37.19060826 38.69375499 25.63269941\n",
      " 24.603083   29.32075661 94.59317697 24.3689806  31.65727413 16.15582105 28.39548383  6.34373529 14.11441417  9.94948031 11.67414496 13.69588488 26.36390038 28.22932886 26.24507174  8.15059988 17.17706157 76.7688904  44.6553116   8.88970947 36.70009298 25.5434238  16.2316628  33.92254911 27.50599357 36.18720835\n",
      " 12.97868927 40.88054924 34.33083784 38.65955364 27.89616211 10.68601739  6.59041796 25.30565426  4.14596852  8.43926436 12.5717635  34.5391518  31.4588922   4.86790897 32.91965207 79.51584865 21.62179587 26.29539892 12.25714128 29.86452531 82.05417256 33.76169917 35.51001852 30.27571083 89.26297474 25.00755873\n",
      " 12.43822217 17.27486456 18.7181272  10.76652067  9.81556301 31.44859619 91.01413855 35.87239548 14.38651471 14.72255816  8.39305656 11.82684396 27.01032137 24.80068955 21.1963142  30.88738245 19.77705885 19.99512293 31.61588464 31.8224511   7.59703337 31.90865416 11.76389466 26.3047855   4.36328576 15.38967932\n",
      "  9.82404906 31.43321267 53.94966843 22.59987555 31.45968917 17.69671246 12.99011843 16.68495895 31.06605532 28.97758546 12.18346076 15.71334761 32.67895152 31.18602192 28.68739757 21.64231409 32.52968611 25.29183601 23.83571346 32.34521837 35.15144432 32.93043823 32.86593019 25.59104566 36.15998464 16.86034058\n",
      "  7.32936831 12.20289043 10.62908692 24.77706861 21.32961981 15.04905827 21.66777732  5.83835039 24.83743481  8.72507912 34.475066   22.38135348 27.74434897 21.75696075 71.36712189 15.18899718  8.17630604 24.4294042  26.88750011 27.49975693 14.66863344 35.20380793 40.7526448  30.06291745 25.00864151 25.82001478\n",
      " 28.10064092 16.22721818 21.89311859 17.13282683 33.83776261  6.30922517 44.71360152 16.25327055 27.2224147  28.08609518 18.07129629 11.17238697 11.52795981 17.93068298 13.08792598 10.9904384  28.61028454 39.26510847 39.28827473 21.85149423 37.18142217 20.0409721   5.88454982  9.6706577  22.83477671  9.65105074\n",
      " 20.19577751 15.25667047  8.61712279  9.98150418 30.57685733 16.15179199 40.1921392  15.27453647 32.04830462 43.39248757 13.94136476 13.70331817 14.32100567 12.94336075 27.5279258  81.7986175  26.37191426 28.67519509 16.03854649 17.23863144 29.94093706 25.06228157 30.50892857 22.45460376 93.59463961 19.78955227\n",
      " 27.59659483 28.12864771 10.2562286  10.00588304 74.99450747 40.96526849 31.20870306 28.63757724 95.10636252 25.91954485 34.44112229 11.92742167 14.99274961  9.2316518  12.81791539 11.82436163  6.03523318 25.3880763  18.90334302 15.94182401 28.23094835 13.70880187 27.20893334  9.93118497  7.05822306 31.46511127\n",
      "  8.99583995 20.3041494  14.35985503 16.77448807 93.30076348 14.4288382  11.19847199 34.17782747  9.67274645 43.62865576 29.77910945 23.66366846  5.38531848 34.84254947 15.67869972 48.96322216 25.84914907 11.30293631 15.8402042  20.42359183 90.7331353   9.5222186  34.19458197 13.30596048 25.39821724 33.71967635\n",
      "  7.34433048  9.96942159 15.20615076 24.63988729 15.10383151 17.07743847  8.72010333 39.82543337 15.82853184 14.16484093 75.80400741 33.79830166 29.80134283 10.52637731 13.88905249 92.34619008 10.01573687 12.002915   23.14930507 35.83636722 11.25008663 16.26985671 12.96544804 24.79760313 86.15320475 10.55157634\n",
      " 13.66530415 33.90257739 29.09464316 15.94293325 23.78560882  5.42858157 27.79581337  7.84830493 23.88280425 30.08533182 19.63785073 36.53188476  5.77566015 23.05258008 89.70635846 13.47265978 88.25745984 78.99727211 83.44853761 41.3249038  46.51973377 17.99242087  9.98264498 27.86489404 35.15349553 28.98501308\n",
      "  9.24293089 15.9870677   8.94626273  9.29902378 10.60735601  9.39645853 25.59515294 33.92823476 31.37261702 33.72476496 28.05123202 32.39991034 15.20031021 27.58877484 15.08197279  9.20760145 28.30612334 29.36667168  8.92939716 43.52864434 23.52681526 15.32299718 12.90393498 36.60066502 13.78630453 35.08178961\n",
      " 22.66546736 15.10728144 34.93083194 12.34037627 16.4343035   6.66050878 18.37306122 39.42131119 29.85711826  3.83451928 13.10508894  9.07404832 25.72477108 10.71329755 24.30223646 12.79579265 25.72666204 30.94861537 31.92464394 45.27612685 91.70118384 15.06140349 21.89091459 15.90852877 36.80630949 12.5605077\n",
      " 27.60676402 39.15306925 26.75878591 13.69694854  2.85886353 22.69597763 30.7220749  22.145632   43.2648471  26.53559929 11.04682754 18.84574386 22.01608383 19.78378781 25.21206128 24.99486166 19.26288766 27.2349012  34.55370197 83.41769741 37.55441105 28.7941494  11.33829919 34.03129991  8.12685836 83.0261782\n",
      " 26.7616017  49.6288075  14.21044061 14.26709753 35.99514377 29.15311845 30.75195467 16.87101894 12.96256749 32.80406647 35.55748828 28.32071227 26.2510624  15.19536103 16.74241031 20.45127286 33.63815779 10.05729343 28.86351914  8.1550913  19.85345191 31.25229068 41.69418251  7.22860842 50.98137745 20.88585377\n",
      " 19.37343004 13.62299514 25.89842803 24.05006321 28.24155194 28.74901549 59.70993121  8.38083107 16.44903178 18.52757257 21.40442972 14.82447302 27.4852389   5.46235233  8.89141894  9.45884255 26.04899023 25.76335065 18.30208517 13.84254857 27.21486792  3.3601785  14.94756885 29.1278667  36.18434075 14.67388585\n",
      " 25.40869861 29.37096901 88.97673858 32.66880305 21.51166362 13.71320766 30.83624863 38.53039117 19.31798004 88.36079123 86.21220612 25.58438413 40.23080785 21.2767818  26.75765462 19.16314385  7.08366174 18.84188425 28.32235273 86.31431147 11.18062476 24.83721067  7.931606   41.22433716 21.52680449 21.6611747\n",
      " 15.44749285 41.08067183 33.18304183  6.27615486 10.50109232 24.78260958 15.42060728 33.48987187  7.41166015 26.96023866 89.24817183  5.09952799 15.83910699 30.22888938  6.20819355 25.33544882 29.85169475 14.51514745 16.72245016 18.7575038  27.13734572 10.28435792 32.09544733 18.14649985 30.72168545  8.79967366\n",
      " 10.47632701 27.72730516 14.38563716 21.52402538 28.97455876 30.40345243 26.14743791 13.48002125 15.53214422 94.00075988 15.88753663 16.04626782 29.0079603  20.95313059 17.41517364 38.26569231 25.44173267 29.33504355 25.38099965 17.64740447 99.55341541 21.6703742  76.99686369 18.79697156 14.98341836 82.26209853\n",
      " 10.6349774  10.01490334 44.27200872  8.34725037 22.29368799 11.12875645 16.75196594 83.61341591 41.42860295 22.5325466   3.98789764  6.72981537 29.89756287 89.68194204 42.57931722 23.63231921 15.96979457 22.64484498  2.60805611 50.20846121 24.52982399 27.61122724 41.15606735  9.54283235 29.13404493 20.07616381\n",
      " 22.92732016 31.25206919 30.10543664  5.28811449 46.61346224  6.13989201 20.26894351 31.90315742 66.89584907 25.50978655 75.3217059  22.05161082 10.36740735 57.68439359 24.42482619 81.78579348  8.51440223 24.58910893 15.11244812 23.49646534 11.18261293 21.6782407  31.08386846 67.93510851 41.77781262 41.54135535\n",
      " 23.71671864 10.72444727  1.53116896 28.29397358 16.94988824 19.28765902 22.46354393 94.77056018 22.61225904  8.32209088 12.65029558 20.58496403 69.25570428 18.09637083 23.07170944 32.68679775  5.90099204 46.97391444 54.58992907 50.91599951 28.58777451 24.83691333 37.51880918 41.45870739 68.29711471 12.01824182\n",
      " 99.79936422 24.12614394 31.69937135  5.26732671 26.11929624 32.01503033 29.65163227 57.72544615 25.8175406  25.1850257  87.98676679 46.94998211 13.81844295 15.11719061 22.15911991 25.66453615 95.58657569 34.33434259 13.80316473 35.27484239 30.51688449 35.32116943 87.2170412  18.28320215 94.92581606 87.38968693\n",
      " 31.90177699 22.58331345 25.63750947 10.38718172 35.59298416 29.06369325 17.07034603  8.66420994 31.83572946 44.63338133 27.18052153 30.12183395 43.78223421  9.87283979 23.68165373 47.83726915  3.66296957 29.70789543 62.39828261 22.90435742 31.44862423 15.90670644  5.91455533 44.50185955  9.36749435  2.11827772\n",
      " 14.94342721 23.80439541 40.5095889  31.22722159 24.27716104 29.37665837 32.67108197 39.06951849 27.06865723  8.3923976  25.89443615 18.70847254 49.85169361 41.85910412 11.34123197 16.04072835 28.67642729 28.09436929 67.119589   36.81746404 32.24615139 60.63164604 27.57364342 44.87328486 19.2836538  15.2937189\n",
      " 24.15538957 63.14687322 14.67387921 28.2527242  66.87220278 66.86306559 17.08977037 44.57362852 30.07134661 65.51010154 24.0839397  37.85146127 75.04917931 24.31561876 36.09828231 22.19793678  9.49010742]\n",
      "Enter Matching\n"
     ]
    },
    {
     "data": {
      "application/vnd.jupyter.widget-view+json": {
       "model_id": "fd6ffb7a4248448cb8e1a7309ee7f518",
       "version_major": 2,
       "version_minor": 0
      },
      "text/plain": [
       "Descriptor Matching (Flipped):   0%|          | 0/1588 [00:00<?, ?it/s]"
      ]
     },
     "metadata": {},
     "output_type": "display_data"
    },
    {
     "name": "stdout",
     "output_type": "stream",
     "text": [
      "Results Update: 693 1076 811\n",
      "811\n",
      "IDX 810\n",
      "DISTNACE 594\n",
      "DBSCAN 810\n",
      "INTERSECT 594\n",
      "595\n",
      "[  0   1   2   4   5   6   7   8   9  11  12  13  14  15  16  17  18  19  20  21  23  25  26  27  29  30  32  33  34  35  36  37  38  39  40  41  42  43  44  45  46  47  48  49  50  51  52  53  54  55  56  57  58  59  60  61  62  63  64  67  69  72  73  76  77  78  79  80  81  82  84  86  87  88  89  90  91  92  93\n",
      "  94  95  96  97  98  99 100 101 102 103 104 105 106 107 108 109 110 111 112 113 114 115 117 118 119 120 121 123 124 125 126 127 128 129 131 133 134 135 137 138 139 140 141 142 143 145 146 147 148 149 151 152 153 154 155 156 157 158 159 160 161 162 163 164 165 167 168 169 170 171 174 175 176 177 178 179 180 181 182\n",
      " 183 184 185 186 187 188 189 190 191 192 193 194 195 197 198 199 200 201 202 203 205 207 208 209 210 211 212 214 215 216 217 218 219 220 222 223 224 225 226 227 228 229 231 232 235 236 237 238 239 240 241 242 243 244 245 246 247 248 249 251 252 253 254 255 256 257 258 259 260 261 262 263 264 265 266 267 268 269 270\n",
      " 272 273 274 275 276 277 278 279 281 283 284 285 286 287 288 289 290 291 292 293 294 295 297 300 301 302 303 304 306 307 308 309 310 311 312 313 314 315 316 317 318 319 320 322 323 324 325 326 327 328 329 330 331 332 333 334 335 336 337 338 339 341 342 343 344 345 346 347 348 349 351 352 354 355 357 358 359 360 361\n",
      " 362 363 364 365 366 367 369 370 371 372 373 374 375 376 377 378 379 380 381 383 384 385 386 387 388 389 390 391 392 393 394 395 396 397 398 399 400 401 402 403 404 405 406 407 408 409 410 411 412 413 414 415 416 417 418 419 420 421 422 423 424 425 426 427 428 429 430 431 432 433 434 435 436 437 438 439 440 441 442\n",
      " 443 444 445 446 447 448 450 451 452 453 454 455 456 457 458 459 460 461 462 464 465 466 467 468 469 470 471 472 473 475 476 477 478 479 480 481 482 483 484 485 486 488 489 490 491 492 493 494 495 496 497 498 499 501 502 503 504 505 506 507 509 510 511 512 513 515 516 517 518 519 520 521 522 523 524 525 527 528 529\n",
      " 530 531 532 535 536 537 538 539 540 541 542 543 544 545 546 547 548 550 551 552 553 554 555 556 558 559 560 561 562 563 564 565 566 567 568 569 570 571 572 573 575 576 577 578 580 581 582 584 585 587 588 589 590 591 593 595 596 597 598 599 600 601 602 603 604 605 606 607 608 609 610 611 612 613 614 615 616 617 619\n",
      " 620 621 622 623 624 625 626 627 628 630 631 632 633 634 635 636 637 639 640 641 642 643 644 645 646 647 648 649 650 651 686 692 716 718 719 730 740 751 761 766 784 794]\n",
      "[ 0.84613353 12.23354451 20.04927326 27.54334682 74.97908685] 595 595\n",
      "Distances under 100: [51.05020238 18.92320402 20.67898208 43.66300102  8.31581511 11.02484264 11.99107239 29.26407    21.45534655 10.51737538 41.24603031 38.17994675 17.82377262 27.47364386 34.0841751  32.83355546 23.05313258 30.45958067 22.75768668 16.71918569 37.37194197 20.29264741 21.02644533 24.84539082 20.62579269 28.61113327\n",
      " 28.40851581  4.2827397   9.43212496 29.2104312   9.3213383  12.46344351 27.52134826 22.83386304 27.32818112  6.61727517 14.43543173 24.81970542  7.4512872  32.19142895 25.63123497 13.12117075 30.57945134 23.45041314 31.69959063  9.96780459 41.19744615 30.7622852  35.45739518 24.52137032  8.3626858   8.13908657\n",
      " 20.04927326  5.92520277 22.71274321 19.44397774 30.10920736 26.66720078  3.66311787 16.0489505   9.45458645 29.33630203 32.01423222 21.30795296 13.83038731 15.51236506 20.51540983 10.68667581  7.30684956 28.08008847 32.24901649 11.63931527  8.14604641 10.08994188 22.67593604 20.01145931 15.46077665 27.49334011\n",
      " 14.79474467 18.06859109 32.21752749 28.58254527  6.48347981 25.59146021  9.51007561 22.39180465  6.31849159 15.59115582  7.3040125  26.98330375 49.2673637  19.10134373 28.02958985 14.96288504 11.44865203 12.84285512 16.42026527 58.02451418 13.29906905 13.24163186 33.35736249 25.03632614 18.51883635 29.22749615\n",
      " 21.96221372 21.15233336 16.04859548 28.76739398 27.30732353 22.33515253 32.64762781 14.33102183  5.96840397  8.53400751 18.96186907 12.77759583 19.77768765 20.56241506  6.17752633 18.3728287  20.60305859 22.90834353 18.74951069 67.65145807  8.85845267 22.26271046 27.02036067 23.97956354 13.57947163 37.32263533\n",
      " 25.11766681 24.2686676  26.2141242  24.70638587 14.02494276 15.99631775 15.37997714 30.50695722  4.09859617 42.88598311 11.34428001 21.81228383 23.72003332 13.00679673 10.01296888 15.2970776  10.72230131  9.0900463  23.88859326 18.41677471 33.70708486 17.25689088  6.79289505  7.60195137 18.08285529  9.65145133\n",
      " 15.28062967 13.46411329  6.2946831   7.52213045 27.32758098 16.18760606 38.47138349 14.05787995 28.24008788 39.36044312 11.5753638  19.1224855  13.80004834 12.09183449 22.79959248 26.66648944 25.22553056 13.29732518 15.46021309 26.56662558 21.83441587 18.47613841 20.73107482 12.59359379  7.72099521 14.62498581\n",
      " 36.68211788 25.37210884 24.15172349 25.97147337 29.37880295  9.91204864 12.36300346  7.50503201 11.22160425 13.53402221 16.86524093 14.85000673 24.19547372 11.64260375 22.56250505 16.86029697  5.20099502 31.70500382 15.53723921 12.2610129  10.68979558  9.26837928 29.84150979  8.39866656 39.26544722 25.41707892\n",
      " 24.4756926   3.87464688 34.86369276 15.34940201 47.89175073 22.85623215  8.35788391 17.07291137 15.35160231  6.79284515 29.7788946  12.78514142 19.68208177 28.27753286  8.9589186   8.09152668 12.48047797 19.78787637 12.23296451 18.48736925  5.82276019 35.47680113 17.56430614 11.27299893 74.1643311  29.37638583\n",
      " 29.76468819  9.73473105 10.90510061  7.53488282  9.37736173 19.88601882 33.91048399 11.66134038 11.68868378 10.01961047 20.76982075  9.08811035 33.85303117 24.70510565 15.63581815 19.95661927  3.37607141 23.12864312  5.10401002 20.51915628 25.75443935 17.36504476 32.10866653  3.57802168 29.35355311  9.61012272\n",
      " 39.31516008 41.32588726 16.09130746  9.28667596 27.70265625 23.30672067  6.68192592 11.31433023  7.9699824  10.92501346 11.73839479 10.48406851 28.61664582 31.20975594 28.38778705 24.51619345 32.62792381 13.23765299 22.13577084 16.1190829  28.22662131 29.12969635  8.32981565 40.91835498 22.94944821 11.3758903\n",
      " 11.47904347 32.19770046 30.26433022 16.91793064 13.40689603 28.49358957 13.12777712  6.24475089 19.27668313 36.4289984  26.62263845  4.54578005  6.43657589 24.8145513   8.9863767  19.68691561 10.15006616 25.13099725 26.67017237 26.37998584 43.01717449 13.29010283 21.9082588  36.55758921 10.55148575 37.65337531\n",
      " 22.26926249 11.33843131  1.8167413  18.21189761 26.30036227 22.41569965 41.50573882 21.85930602  8.24446617 15.19192134 15.01697387 25.17899819 21.04096135 16.39148602 23.78616666 33.0458002  23.98589667  9.56993346 31.44233517 14.51314749 25.13944308 47.33780283 10.58828105 27.65140568 26.63554967 11.49776217\n",
      "  7.53502195 32.61917396 34.54939723 22.97795362 20.88756449 13.0810281  17.57026433 17.74111571 29.50880147  7.830827   24.06443162  8.71218137 15.46346971 27.43750374 37.28554479 10.80547435  3.34627437 19.40518307 13.91637939  9.25501338 24.56727244 24.86250725 22.43955651 26.06271686 63.64488808  8.86897533\n",
      " 17.54334709 13.95089898 18.4895567  15.30679722 24.29870276  5.86661979 10.19079126  6.82476196 26.29646117 20.70027082 10.14352786 11.76852423 27.57896675  3.05454405 14.47000059 24.29369941 34.62316274 10.90198943 25.33577051 23.85624374 31.27917345 16.21825111 14.91509629 26.82874412 33.96137356 12.36185696\n",
      " 23.72725881 36.2522023  22.47806743 21.87850391 19.87143118 32.7035886  22.35491647 28.39692842 22.10850852 12.03700307 20.32010879 38.0406416  17.36725705 21.34011383 13.98899159 35.67790735 28.54219597  5.10642962  7.80719623  6.20420362 10.90257486 29.15906059  3.02549748 23.50390505  2.83870879 11.10849016\n",
      " 30.32333991  3.99357792 18.33925413 15.85717746 17.50340506 19.64397636 21.35298579  7.3232613  13.93758312 26.104685    6.09883926 11.4680214  24.62595874 14.68426545 16.02111648 25.17054247 26.4337203  26.49439251 12.23412452 11.10548996 12.37148182 28.89048769 16.1906692  16.98349524 34.3169585  21.52400797\n",
      " 24.37474607 25.79121716 13.86109619  8.24271239 14.79838226 16.0700284  11.23784317  7.78714107 44.10752598  6.00253962 22.42258329  8.14568673 13.43363453 39.17855818 19.99209665  1.65511285  4.64556549 25.90629746 41.97769986 19.75208003 12.22936547 18.93756381  0.84613353 20.68377251 27.48922949 40.00505361\n",
      "  9.15804332 19.17797372 22.71436476 26.37582677  5.70042489 49.21593927  3.51848095 16.94530057 31.55357455 74.97908685 21.43418473  9.95717874 21.30273034 21.45354864  4.50845584 22.02834337 12.56632478 20.07337429  9.56343743 16.97249903 15.69785407 26.35294952 35.03365567 25.04267779 12.49530821  1.99711638\n",
      " 28.04876984 13.76067343 17.6075113  19.60156733 20.55269228  7.33935934 14.10241646 19.07170778 73.25192899 16.66416654 20.43822387  5.10954417 45.67279588 58.52214291 46.62743737 25.25357476 21.55421161 39.02398967 66.72217568  9.15437036 20.76147078 28.65743803 21.63514424 20.10834643 54.70328298 22.09878029\n",
      " 20.99147282 44.13537276 27.56534537 18.0863922  17.41159088 11.74295795 33.89056908 31.53517812 16.06886142 32.55271136 18.38065088 11.44650964 31.99232479 26.25323918 15.11400988  6.8751368  27.72060871 46.19950585 42.0447673  11.09686522 20.41189098 47.69549799 12.58814537 29.99818565 19.08690143 12.76181033\n",
      "  3.44851267 42.25973002  6.19151126  1.86495111 11.99812576 24.35358204 19.58744736 32.07362955 29.37843095 36.29399759 23.55014582  7.10310796 25.88153242 15.57175457 43.93220836 42.2623511  30.58623911 68.06127116 35.40977609 59.3976732  43.81475313 15.69323714 15.9696473  24.41032705 11.56817331 29.0665921\n",
      " 66.01589271 64.21362661 14.49682376 44.18102557 26.91179114 61.01723096 25.13685153 36.32346328 31.56378496 18.51753492  8.55950136 22.23711602 22.65638793 54.83953649 16.05135846 15.77396055 33.35362441 46.51135684 16.21078347 23.432724   67.62325268 44.01669857 19.32657796]\n",
      "Enter Matching\n"
     ]
    },
    {
     "data": {
      "application/vnd.jupyter.widget-view+json": {
       "model_id": "d4073fc5a3964064889abe2189114161",
       "version_major": 2,
       "version_minor": 0
      },
      "text/plain": [
       "Descriptor Matching (Flipped):   0%|          | 0/1588 [00:00<?, ?it/s]"
      ]
     },
     "metadata": {},
     "output_type": "display_data"
    },
    {
     "name": "stdout",
     "output_type": "stream",
     "text": [
      "Results Update: 595 1095 832\n",
      "832\n",
      "IDX 831\n",
      "DISTNACE 621\n",
      "DBSCAN 831\n",
      "INTERSECT 621\n",
      "622\n",
      "[  0   1   2   3   4   5   6   7   8   9  10  11  12  14  15  16  17  19  20  21  22  23  24  25  26  28  29  30  31  32  33  34  35  36  37  38  39  40  41  42  43  44  45  46  47  48  49  50  51  52  53  54  55  56  57  58  59  60  61  62  63  64  65  66  67  68  69  70  71  72  73  74  75  76  77  78  79  80  81\n",
      "  82  83  84  85  86  87  88  89  90  91  92  93  94  95  96  97  98  99 100 101 102 103 104 105 106 107 108 109 110 111 112 113 114 115 116 117 118 119 120 121 122 123 124 125 126 127 128 129 130 131 132 133 134 135 136 137 138 139 140 141 142 143 144 145 146 147 148 149 150 151 152 153 154 155 156 157 158 159 160\n",
      " 161 162 163 164 165 166 167 168 169 170 171 172 173 174 175 176 177 178 179 180 181 182 183 184 185 186 187 188 189 190 191 192 193 194 195 196 197 198 199 200 201 202 203 204 205 206 207 208 209 210 211 212 213 214 215 216 217 218 219 220 221 222 223 224 225 226 227 228 229 230 231 232 233 234 235 236 237 238 239\n",
      " 240 241 242 243 244 245 246 247 248 249 250 251 252 253 254 255 256 257 258 259 260 261 262 263 264 265 266 267 268 269 270 271 272 273 274 275 276 277 278 279 280 281 282 283 284 285 286 287 288 289 290 291 292 293 294 295 296 297 298 299 300 301 302 303 304 305 306 307 308 309 310 311 312 313 314 315 316 317 318\n",
      " 319 320 321 322 323 324 325 326 327 328 329 330 331 332 333 334 335 336 337 338 339 340 341 342 343 344 345 346 347 348 349 350 351 352 353 354 355 356 357 358 359 360 361 362 363 364 365 366 367 368 369 370 371 372 373 374 375 376 377 378 379 380 381 382 383 384 385 386 387 388 389 390 391 392 393 394 395 396 397\n",
      " 398 399 400 401 402 403 404 405 406 407 408 409 410 411 412 413 414 415 416 417 418 419 420 421 422 423 424 425 426 427 428 429 430 431 432 433 434 435 436 437 438 439 440 441 442 443 444 445 446 447 448 449 450 451 452 453 454 455 456 457 458 459 460 461 462 463 464 465 466 468 469 470 471 472 473 474 475 476 477\n",
      " 478 479 480 481 482 483 484 485 486 487 488 489 490 491 492 493 494 495 496 497 498 499 500 501 503 504 505 506 507 508 509 510 511 512 513 514 515 516 517 518 519 520 521 522 523 524 525 526 527 528 529 530 531 532 533 534 535 536 537 538 539 540 541 542 543 544 545 546 547 548 549 550 551 552 553 554 555 556 557\n",
      " 558 559 560 561 562 563 564 565 566 567 568 569 570 571 572 573 574 575 576 577 578 579 580 581 582 583 584 585 586 587 588 589 590 591 592 593 594 595 604 606 609 620 624 625 626 636 643 672 682 686 693 699 704 716 718 724 732 737 741 742 755 758 761 780 791 792 793 797 813]\n",
      "[ 0.54097795 13.96993933 22.33250409 31.19544775 77.65419242] 622 622\n",
      "Distances under 100: [52.84890083 38.17176888 22.63126462 44.82138195 21.26968279 53.32148063 14.1685667  27.73813723 24.00319307  8.29076537 46.69111173 37.90448698 21.50106767 38.82778613 38.67721655 33.46162421 29.35728475 19.44846952 41.68167085 22.94307334 21.90005509 25.29431398 19.35039188 32.89469721 33.78808843 12.13722765\n",
      " 26.45049601  6.7564678  10.93370574 32.92786921 24.97291104 30.00042622  7.83352404 19.13439114 48.1617781  11.75841059 30.19014459 31.30150826 14.39227789 28.27771117 23.60538739 29.66434842 12.01715447 46.37473109 28.8156971  36.69586426 23.26272517  5.43626682 12.18621135 22.63409616  9.00052923 20.19184534\n",
      " 17.37603308 32.2611433  27.17087529  6.81431535 20.219819    7.48338979 28.92222552 29.45086428 18.01267892 18.3912485  13.41929614 24.36510203 12.12367959  4.22521254 26.83867716 33.39637693 11.29816658  9.7176183   8.06972863 20.65135973 22.62841446 18.80158698 25.2111731  17.52232879 22.23348733 37.82397973\n",
      " 26.04258205  7.28809104 23.79987447  8.26746057 21.83577994 10.60923859 17.89018956  6.13324199 25.07463653 52.09172564 18.79335422 27.15365156 13.14203306 12.93366418 12.56613255 15.84952903 54.72713241 17.32877204 15.22368996 38.83864444 24.57317681 17.47985183 27.19452159 21.05413559 21.61423915 20.6850293\n",
      " 27.11446276 30.13789388 21.51892122 31.03909535 10.80463709  7.83553231  8.38271311 15.89453697 17.15040006 18.93909862 21.60437201  5.50197677 15.03124202 19.62239485 24.74148391 24.80334032 69.14234101 10.61073284 22.15606711 32.72853051 22.2660023  13.37440776 35.05866313 26.47346361 27.76341325 31.75882107\n",
      " 22.8742742  12.68739178 19.14204263 14.7950638  28.44053424  0.54097795 47.1842933  16.1376435  24.49309747 28.51836339 16.10921323 11.1446584  13.29742266  8.19099784  7.94820796 24.73416178 17.61541821 33.32244939 15.75221614  9.89113504  8.36230383 20.95334698 13.21332538 18.15379243 13.88281754  4.04008908\n",
      " 16.07057958 25.38600616 20.96733477 42.40668943 18.11342112 27.67414316 41.07559388 10.20563928 19.12648235 15.55412202 14.04495034 24.11034571 32.37207802 23.83499575 21.70768965 14.40590086 25.16253581 21.02009162 18.5196972  24.23894251 11.00879953  8.54592653 17.78747264 35.57603432 29.13322217 25.9906334\n",
      " 31.48156047 31.21620335  9.95570706 24.01252814 10.15359222 12.00818542 17.6162978  21.69254834 16.0802352  23.36638891 10.93838572 25.41879589 15.79312303  4.87788152 37.69053587 17.58736193 12.28666834 10.38113447  7.30841021 29.81403501  8.742909   39.56431145 25.41964551 29.87422917  4.74312787 40.17238694\n",
      " 18.2039763  46.76106309 27.6553898   9.29669542 22.32511308 18.12755564  4.25679307 28.87760068 16.93473507 22.57852466 31.83939373 44.96069597  6.92686918  9.68509029 22.57470036  9.706374   22.45287779  5.84217251 35.47136278 21.18403475  8.44326312 77.65419242 32.43053213 34.89525299 14.19660334 13.06369854\n",
      "  4.97569065  6.41323042 18.96278901 38.03683889 10.54499292 12.90305866 12.20613463 21.07209007  9.37821402 35.91098162 23.8402485  18.9568138  20.94235542  2.32133099 24.78916776  3.61777526 18.10362685 24.10606024 16.94615126 33.24535687  2.74830089 24.13020928  9.81843106 43.53401973 42.98092299 20.40364042\n",
      " 38.35269314 32.72935073 26.49396712  6.54793111 57.52024921  8.54824052 15.36061325 15.18351781 13.83695305 32.0972084  35.64009659 31.80733783 23.51675505 37.41404792 12.00809781 25.24616462 21.26415664 32.12213247 33.94228328 10.41191037 45.7974514  26.09424889 11.74081717  8.48819186 31.63333046 31.34230173\n",
      " 20.62692201 17.3586236  32.6152162  13.96530025  8.05490392 24.2615874  33.85194143 30.99139428  8.48145012  8.5708423  27.894797   12.41068154 29.92862557  7.66762879 28.71976975 26.31094317 29.5041236  47.91068735 15.8940688  26.72255111 42.22180484  9.48299493 41.06213056 23.48529843 11.2800057   2.0055033\n",
      " 23.17370893 25.85394376 32.60514887 45.19879726 21.59122191  9.71699118 13.03920453 17.64765613 29.67862788 25.43592953 13.388214   22.652179   32.60935738 26.49289809 11.80660604 36.25769233 11.63603665 16.5720944  51.97360236 12.23242128 37.75783874 26.87519224 14.71358225 10.80059117 37.74184245 39.05027178\n",
      " 39.34785771 42.30119224 32.00243288 22.5315601  16.18289797 34.51735337  9.2592084  26.55621381 11.41497522 18.95748552 27.27921387 36.44387262  7.01002174  2.43162176 23.51750683 17.11364662 14.08544556 26.45628223 29.40693282 26.25778688 30.59158035 59.28545228 11.87661432 22.73645045 16.24635363 22.99467516\n",
      " 20.33922636 23.32179917  9.75518289 14.31940391  6.75848895 30.36129049 22.52178673  7.51084473  8.47232027 58.69435469  6.50735749 15.25045928 26.77057464 38.29099372 12.25948326 30.3457366  27.21259284 34.77510514 18.94550016 20.34251238 27.47626987 31.88988369  8.14821514 27.46675926 35.29358025 27.60907639\n",
      " 24.89627027 24.98534293 27.80601821 21.19661494 32.78429547 21.32781663 17.08911032 21.57474006 43.4258786  17.28604896 24.46957517 18.28211654 38.4383495  29.5943736   5.99810638  5.71921475 10.38607901 12.39865061 27.61080921  5.91082281 23.02219613  3.30000254 14.03273459 33.30388216  7.13722738 13.8001656\n",
      " 20.12028755 22.35787869 24.67268552 24.6833809  11.64230392 16.19910211 28.4540055   7.26810355 15.56993769 25.34520614 16.80579708 19.41080257 30.39481445 26.41765213 38.18683897  8.81787939 14.04870692 15.70204353 34.25164678 19.09811225 15.06611553 33.18627555 22.65202191 22.21804882 30.35458283 17.28789704\n",
      "  8.85725068 16.37255064 21.86537811  9.24044602  8.67481561 49.99969956  8.21665622 27.30054753  7.05690703 13.78218565 43.96985296 16.89261834  2.99425231  5.63067806 25.54415299 44.28951444 24.41222962  8.3321675  17.36042671 40.16471763 20.65099716 31.8137745  11.09096208 22.65158293 27.26724961 44.86689385\n",
      "  8.83244368 48.54829229  4.26636582 13.98385658 36.25852151 73.57705054 25.02449415 13.73747361 26.38835614 25.55215208  8.48018639 25.85822645 20.6294479  42.84846246 12.79333415 18.74255903 14.73937507 24.85021962 33.93301505 29.89349388 17.067271    6.29435517 33.65644858 11.15522523 22.3398951  19.13540375\n",
      " 20.33659817  9.78583248 18.39277401 15.79873616 15.36495612 18.51039245  6.97019158 49.66344826 53.91132076 44.29096438 23.21166365 21.18751791 43.90988895 40.18191441  7.6477979  18.80964327 31.08753387 21.74274216 20.97807825 56.99419276 26.92195654 21.22727889 49.65548754 29.65542011 19.20757978 16.08791593\n",
      " 12.48283802 37.73238762 30.10563917 15.18949705 35.11877993 21.01587636 15.49912551 32.42285762 29.60393289 14.66067258  5.29692962 26.77792071 46.30966432 45.11750672 15.63674986 20.08393692 52.09776727  9.42760492 34.83571111 25.01607269 10.52071312  1.85723391 46.59799262  6.93824748  2.22723433  9.32094644\n",
      " 27.66353489 21.98836241 34.26133287 28.15725209 36.58274043 23.14518651  9.46536777 28.17939694 18.45820623 48.2132231  47.37097224 30.83618833 66.04667098 33.86976051 63.43374271 42.97991296 15.78030584 20.39304189 29.38794411 11.34339172 35.04014279 70.0350231  67.3433448  13.20167169 46.80244387 31.13318098\n",
      " 63.62012945 29.89547177 32.01031698 29.5802677  11.58097997 10.94075577 19.70234095 22.22010606 61.731497   13.29920354 11.79218919 28.48271594 51.10304586 16.91897986 20.16799565 62.40460775 48.762891   21.90149891 76.75865653 28.3072247  16.85074589 23.9027255  50.22024174 66.39684004 57.8186234  21.33941568\n",
      " 75.25024817 19.25786648 52.1040389  13.71320778 29.30063386 55.99848334 65.47156665 70.78986112 70.66408204 49.58559451 67.10243981 32.72109426 19.69650424 77.42830421 29.24333761 60.13519585 13.95605203 54.41169453 68.4616413  42.41049183 19.20352481 14.34976902 23.9964314  26.73670409]\n",
      "True False\n",
      "D:\\CaseStudies\\CornerDigitization\\FineAdjustment\\\\registration/48201C0855K.tif\n",
      "[[ 1.01326913e+00  2.25351842e-04  1.40222165e+05]\n",
      " [-2.25351842e-04  1.01326913e+00 -4.83796784e+04]\n",
      " [ 0.00000000e+00  0.00000000e+00  1.00000000e+00]]\n",
      "[[ 8.72468307e-01 -1.09023568e-03 -1.06328268e+07]\n",
      " [ 8.53223286e-05 -8.85177566e-01  3.47202080e+06]\n",
      " [ 0.00000000e+00  0.00000000e+00  1.00000000e+00]]\n",
      "D:\\CaseStudies\\CornerDigitization\\FineAdjustment\\\\referencing\\48201C0860J.tif\n",
      "2240 / 6160\n",
      "Enter Matching\n"
     ]
    },
    {
     "data": {
      "application/vnd.jupyter.widget-view+json": {
       "model_id": "280d9a7443a840eab668632d4571b4cb",
       "version_major": 2,
       "version_minor": 0
      },
      "text/plain": [
       "Calculating Descriptors:   0%|          | 0/6493 [00:00<?, ?it/s]"
      ]
     },
     "metadata": {},
     "output_type": "display_data"
    },
    {
     "data": {
      "application/vnd.jupyter.widget-view+json": {
       "model_id": "6b99459d07cd4353872ead4b0787ba6c",
       "version_major": 2,
       "version_minor": 0
      },
      "text/plain": [
       "Calculating Descriptors:   0%|          | 0/2177 [00:00<?, ?it/s]"
      ]
     },
     "metadata": {},
     "output_type": "display_data"
    },
    {
     "data": {
      "application/vnd.jupyter.widget-view+json": {
       "model_id": "1d411cdac29248cb81f195c6826107e0",
       "version_major": 2,
       "version_minor": 0
      },
      "text/plain": [
       "Descriptor Matching (Flipped):   0%|          | 0/2177 [00:00<?, ?it/s]"
      ]
     },
     "metadata": {},
     "output_type": "display_data"
    },
    {
     "name": "stdout",
     "output_type": "stream",
     "text": [
      "1506\n",
      "IDX 1505\n",
      "DISTNACE 1031\n",
      "DBSCAN 1505\n",
      "INTERSECT 1031\n",
      "1032\n",
      "[   0    1    2 ... 1500 1504 1505]\n",
      "[  0.65040959  14.4968163   23.20325583  50.41093489 129.28934424] 1032 883\n",
      "Distances under 100: [16.71049748 26.15429085 22.29735899 19.35231452 19.62458774 19.63522291 25.66087668 24.8327809  29.35271413 30.35281311 11.09663831 34.87419924 15.38187285 68.65374051 89.45773125 99.36053127  5.96567011 52.97349744 15.81421132  9.05881288 36.95140469 18.38224658 37.07636719 23.49091099 80.82515791 25.25385805\n",
      " 21.26129191 38.58857921 25.70035371 24.89605014 26.29370071 45.6757946  75.23382386 65.36146538 26.9575989  32.33322257 49.66795247 39.13362809 34.53582436 25.55033298 20.41337647 17.08344749 16.24113966 18.17963767  4.77467603  8.45642089 40.80197258 18.91044445 22.80935114 16.81548801 27.06799728 15.89150712\n",
      " 51.03137919 42.84902407 31.68767601 32.76878404 19.064722   30.5582657   7.90507569 35.3729345  23.84864507 52.06232192  3.70861884 19.27723291 43.79801018 76.16861986 13.62097023 16.71422881  5.5599758  15.52718346 23.6489579  95.57458134  9.06526634 37.87268845 87.17360442 19.63964445  8.13063981 24.23411311\n",
      " 34.85483186 21.79761228 42.68024625 26.36919833 31.98669622 19.10245069 34.31440614  2.47718352 19.16985933 39.91427934  9.26232163 37.33355749  7.41639639 13.55301547 16.43276322 15.78879111 21.04513662 10.53029141 13.84163771 35.20119849 17.76147567 18.59013433 15.35639704  8.28663048 29.9482177  32.52129628\n",
      " 33.95448793 22.03407098 17.23014622 27.47956965 10.34941632 13.7578159  17.75829479 26.76812145 22.28438715 20.10478142 44.55264091 32.64642802 27.89219823 94.7386892  91.70982107 21.95511214 25.3132035  17.22364803 15.73003099 10.1846464  18.98693246 25.69646199 20.23875251 19.63465268 19.25656468 31.48101202\n",
      " 18.90028808 37.33351511  8.37123938 23.00796625 16.9394912  23.26739984 29.69950258 15.92084741 61.27433461 41.29557504 22.4707942  96.62331614 22.34031461 96.06586245 47.17276825 12.47331253 82.86287032 24.91179764 18.80027736  9.81671898 32.5587284  14.26838472  7.28500688 94.08237263 17.69852261 43.70250397\n",
      " 24.91587558 78.89097201 37.34017321 32.29664391 25.68708464 25.17559113 22.84603188 35.81203042 15.622236   84.64338554 11.6456419  10.04877839 23.19450303 30.8387932  24.90927872 20.17047127 20.26791932  6.96527342 20.75800604  1.00655713 28.2773548  19.54732543 17.68965923 13.78899781 19.82640704  9.47450187\n",
      " 18.33297132 36.67888377 33.0725748  13.7697826  22.18944659 16.34326677 11.33878145 29.80627055 18.84964167 20.14298812 29.54477742 11.46701603  7.68333862  6.25459431 27.91706672 36.3423028  46.43629629 16.85047693 39.53073653 89.39459492 28.14388044  4.55350799 49.89559889 21.80255396 10.81373767 53.50550276\n",
      "  2.37190653 31.94082747 29.83014411 83.76571425 14.82241613 18.33216543 10.82778914 10.45860086 15.42421719 24.16754967 19.12681225 10.73691155  9.99413609 15.24808994 42.48986379 12.18985056 32.67813716 14.44739787 33.38322877 24.68642863 36.02003876 19.94097133 49.18939005  6.04399135  8.42373144 25.24609169\n",
      " 27.73935913 28.13463848  9.91982332 22.54742521 40.56417061  7.70819831  4.47950371 11.77674904 12.26518802 31.28160207 21.47975647 86.22527417 92.30232503  2.04706727 38.86148717 19.27426129  6.00237862 37.52109545  5.31413755 25.78379065  7.72623971 99.4757204  19.46269961 18.45258744 56.11778246  9.33974976\n",
      " 10.2950637  32.66336889 13.28139144  8.78176809  6.51229636 13.50701494 52.11367659 22.33235128 16.6584113  18.1660029  56.01027336 80.75617501 14.12567024  4.35881929 18.42604216 15.2928632  17.7381432  94.82177867  5.40457764  8.65397968 22.62135757  8.89748997 40.80117417  5.30852041 26.98319282 37.15586349\n",
      " 25.87998712 16.58777375 10.34294723 17.58986595 70.22276203 20.63702974 35.15801085 14.31928417 86.85726164  5.86913821 99.09517343 19.15448909 13.99546825 14.42157821 97.04432104 21.94815413 41.8109158  18.84236568  6.45607855 10.72060596 20.4390858  19.05184486 19.98773492 26.85330626 30.95257291 16.86444621\n",
      " 16.74998637 24.70237523  8.20414613 25.14321211 14.20541779 17.351072    0.98983883 14.0855249   9.20261055 42.74036437 20.66570378 11.10162412 12.93494542 12.92805893 17.57577313  7.31111789 96.63119519 21.71517928 26.33706817 16.77264336 29.25890907 17.85682368 12.93318996 29.87657656 25.15564837 30.63360276\n",
      " 19.32350444 22.26702786 27.03263476  6.18501809 35.04269017 24.19806254 21.17835259  8.61791208 30.54818227  6.86994466 29.85587112  7.13484622 14.02575739 98.44266264 33.28590221 30.35197122  9.16693055  8.02099096 85.06301851 65.37570546 26.24007547 15.28869445  9.85006255 14.53600352 18.88277652 11.53594604\n",
      "  9.40404852  0.65040959 10.08846634 24.70428689 86.92001057 32.7409173  24.19781405 23.86989775 18.93986887 21.10389354 15.86034948 19.73080901 15.2811243   3.6586986  14.57104205 32.1159747  93.06084701 97.28786847 23.90387598 30.10905787 13.15857638  8.65336868 38.78847839 25.21501838 17.40342232 11.22481858\n",
      " 13.05255216 28.04836167  9.0482273  34.38595437 28.81339733 15.07054612 15.22943525  1.51591517 30.07380675 94.83852357 12.65378225 17.35017812 15.41460572 28.9267794   2.53691003 14.76762739 26.19165605  6.79643383 19.91888933 34.0493897  24.28023072 13.06482609  4.46998943  9.98787851 32.33756417 29.86425788\n",
      " 28.73333675 17.27604732  8.62386429  5.82618334  8.18249172 90.38058564 19.5300305  22.25870238  2.64156328 95.3564302  11.75248489 69.15700078 14.01015194 13.12441611 38.67425226  7.49100552  0.96235249 35.11039433 75.60795971  6.48638089 22.72536    10.48605887 21.95192452 10.89505215 20.7180161  14.56761962\n",
      " 29.44474428 18.03173974 26.28536293 18.57306748 10.10159238 18.36851773 20.41372098 38.03836873 14.35047104 78.50343715 16.28903508 20.15836436 19.35098016 25.93096336 11.31561222 16.46050824 13.73057165 12.94701107 15.11635283 11.71048749 22.23438066 19.77635069 26.64110945 93.64024728 94.93183073 18.80309249\n",
      " 19.44059147 20.82315618 95.31930913 25.73450384 23.28936764  4.79775433 18.67787799 14.48465923 18.19471038 39.04572432 16.54998186  7.21622169 24.59689869 11.53573142 93.29319548 11.95831623  3.80274156 16.20785983 61.49034731 30.79782994 18.27406458 16.91534361 15.58751733 24.20404048  3.6589971   4.94668287\n",
      " 23.75665219 19.07440295 23.79189267 37.09412763 22.40094631 14.46959019  1.1610643  24.95919965 13.20508308  7.35930497 11.7998337  94.58431383 13.91825922  8.95470535 22.01987463 40.15888814 23.40881342 13.08994052 23.67723345  6.17929197 22.00532958 19.38444755  6.06556013  7.75494842 17.66333811 19.31635497\n",
      " 31.47939518 20.7477054   6.96693777 22.60719388 17.50173321 87.93433386 18.32335665 12.00780527 31.70163441 89.71116774 18.78537655 22.55076324 10.37389666 28.48381846 15.00355197 31.41430959 11.6055134   4.02420164 10.41698444 82.03593529 12.28423675 97.97384778  4.89411698  8.77253979 24.46374055 97.53311469\n",
      " 27.25077592 90.89991529 14.50086865 30.42613625 14.05107542 22.68035525 19.85979412 23.42377594 25.57838489 17.08704085 20.8248359  95.91280967 24.5476292   7.25229897 16.88742193 16.97243254  2.46941912 15.89735669 13.19445166 29.09800179 18.54217224 10.40605248 25.83689682 13.99651214 14.59531023 97.06666176\n",
      " 19.31818168  9.84471334 20.07843933  9.24900741 14.25556051 97.64620039 23.51003871 11.93510453 76.38151837  7.43383326  3.63882193 20.91797598  8.71531901  9.15350212 21.33063147 11.6662446  19.56270496  7.90122341 17.34616504 20.21479361  6.69586885 29.16345717 22.49101629 25.59008205 33.57909435 43.42862429\n",
      " 30.05276543  9.40155306 13.55162298 18.92929988  9.16984881 21.40333224 19.2063877  10.64657648 29.70781122 19.97758904 44.70044398 16.09668542 20.35644379 14.76630959 12.13619132 13.40170535 29.03425441 15.68764309 33.6162869  19.89165561  8.16064671 10.8995323  17.72791728 39.73555479  8.18932409 11.31198399\n",
      " 34.96234819 34.74793058 14.68730644 26.98230761 19.05560185 19.16330336 99.7015924  17.76888957 11.88433158 10.64259118 22.1383942  21.70842844 75.270685    9.57211461 62.22831964 22.30170661 27.44246012 24.26198367  9.95256144 13.25302599 21.16466904 88.26347433 21.0051525  12.78775875 38.79866891 16.93316103\n",
      "  8.04741812 30.44115985 23.21200863 81.94832613 37.53119033 30.99030209 31.18846676 98.23395439 28.47112557 31.53831227 12.70097578 23.66731969 11.91222096 14.97304099 16.71553175 45.92688102 18.92434634 25.57856833  7.92094307  3.91619527 17.82994615 22.80983567 20.43669903  5.04561894 14.83237921 26.03098349\n",
      " 20.27575685 19.73061457 92.34403834 12.93327429 10.99059599 28.99032375 78.19021374 14.37095688  9.97591606 17.85633976 96.37606268 35.16372844 24.8798012  10.64771602 10.56100496 94.75687726 20.53608677 81.90875183  8.38107172 27.07861882 14.62577388  9.34124326 12.30184011  5.04156185 11.21324904 27.24651193\n",
      " 17.94472349 19.0233173  16.56853184 10.14332149 12.46022965 25.19995531 31.80806148  6.44774631 82.4144815  20.64238956 14.00295674 23.39814148 12.69894977 13.72222285 15.58936893  9.86897801 97.54134163 18.95618163  0.94361068 84.34731535 14.84473556 14.14372122 17.72149159  7.17884931 11.13050758  1.02328105\n",
      " 15.61966238 11.31466347 24.17630238 47.80800218  9.8216948  10.90163542 37.53653507  7.51117731 17.37078785  7.82542416 13.11281706 10.24353532 98.06139057 19.95322581  9.4136849  24.6515356   9.36365511 28.77217435  8.3220528  73.04551023 16.30351614 44.44724047 13.84690621 29.23454524 19.31420013 20.00262291\n",
      " 47.6376098  13.11154401  7.06946453 79.97218224 30.75767718 12.96898925 14.97652108 17.04600877 18.44676333 10.98216796 74.81426681 31.68594899 14.06718165 16.26431874 67.20151523 20.17844265 16.41148564  8.28114967 91.25751537 14.07028448 11.03709222 32.51950782  8.22590816 15.9277792  54.09964981 90.28238274\n",
      " 26.5480708  27.22909164  5.21323474 22.5988654  25.51241591 48.62233879 31.22678985 23.43385113 43.61139051 22.75617316 22.78926932 13.22775401 21.65196892 21.87280165 28.3769273  35.3243026  19.51250124 38.771703   21.16633267 21.78049227 15.09890393 47.24161504 26.76113666  9.43857605 33.64266262 55.80566714\n",
      " 41.03072015 62.38743796 29.6859746  37.65161502 17.3183602  99.91635587 15.1170998  25.40847164 73.67689922  7.42167822 20.89176979 23.59078274 32.16650709  4.62507232 24.19739379 15.85492271 23.84854945 70.86636934 16.27157513  5.79057009 20.46258192 18.96801542  9.7256088  24.28913304 36.0318268   1.91416179\n",
      " 10.63374259 95.15654474 52.06808998 34.99960349 21.40957408 28.13343891 13.84083964 64.28813964  9.46461346 13.59491505 21.2597629  24.26223461 76.24595134 16.80708563 50.20412012 34.07729672  2.67059906 89.50371815 32.49516332 37.61202588 21.27720051  8.25955954 91.68725506 46.33264761 79.05414095  9.28513853\n",
      " 13.02003463 32.60175461 19.10793333 45.01546205 13.36784687 34.44999186 90.20544281 86.68104881 73.5389374  36.52174797 68.34112022 31.24449804  9.89453225 59.95911961 18.995727   52.99121277 11.59646959 17.83993792 71.13719141 65.54745361 14.84626061 25.54907973 97.99131555 37.93222898 99.26852692]\n",
      "Enter Matching\n"
     ]
    },
    {
     "data": {
      "application/vnd.jupyter.widget-view+json": {
       "model_id": "e27fab88942946aba1440d2e261b1245",
       "version_major": 2,
       "version_minor": 0
      },
      "text/plain": [
       "Descriptor Matching (Flipped):   0%|          | 0/2177 [00:00<?, ?it/s]"
      ]
     },
     "metadata": {},
     "output_type": "display_data"
    },
    {
     "name": "stdout",
     "output_type": "stream",
     "text": [
      "Results Update: 1032 1515 1100\n",
      "1100\n",
      "IDX 1099\n",
      "DISTNACE 738\n",
      "DBSCAN 1099\n",
      "INTERSECT 738\n",
      "739\n",
      "[   0    2    3    5    6    7    8    9   10   11   15   16   17   20   21   22   23   24   25   27   28   30   31   32   33   34   36   37   38   40   41   42   43   46   47   48   49   50   51   52   53   54   56   57   58   59   60   61   62   63   66   67   68   69   70   71   72   74   75   76   78   79   80\n",
      "   81   83   86   88   90   92   93   95   96   97   98   99  100  101  102  103  104  105  106  107  109  110  111  112  113  114  115  117  118  119  120  121  122  123  125  128  129  130  131  136  138  139  140  141  143  144  145  146  147  148  149  150  151  152  153  154  155  156  157  158  160  161  162\n",
      "  165  166  167  168  169  171  172  173  174  175  176  177  178  179  180  181  182  183  184  185  186  187  188  189  191  192  193  195  196  197  199  200  201  202  205  206  207  208  209  210  211  212  213  214  216  217  218  219  221  223  224  225  228  229  230  233  234  235  238  239  240  241  242\n",
      "  243  244  245  246  247  248  249  250  251  252  253  254  255  259  260  261  263  264  265  266  267  268  269  270  272  273  274  275  278  279  280  282  283  285  286  287  288  289  292  293  294  295  296  297  298  299  300  302  303  304  305  306  307  309  310  311  312  313  314  315  316  317  318\n",
      "  319  321  322  323  325  327  328  329  330  331  332  333  334  335  337  338  339  340  341  342  343  344  345  346  347  348  349  350  351  352  353  354  358  359  360  361  362  363  364  365  366  367  368  369  370  371  372  373  374  376  377  378  379  380  381  382  383  384  385  386  387  388  389\n",
      "  390  391  392  393  394  395  396  397  398  399  400  402  403  404  405  406  407  408  409  410  411  412  413  415  416  417  418  420  421  422  423  424  425  427  428  429  430  431  433  434  435  436  438  439  440  441  442  443  444  445  446  447  448  449  450  451  452  454  455  456  457  459  460\n",
      "  461  462  464  465  466  467  469  470  471  472  473  474  475  476  477  478  479  480  481  482  483  484  485  486  487  488  489  490  491  492  493  494  495  496  497  499  500  501  502  503  504  505  506  507  508  509  510  511  512  513  514  515  517  518  519  520  521  522  523  524  525  526  527\n",
      "  528  529  530  531  532  533  534  535  536  538  539  541  542  543  544  545  546  547  548  549  550  551  552  553  555  556  557  558  559  560  561  562  563  564  565  566  567  569  570  571  572  573  574  575  576  577  578  579  580  581  583  584  585  586  587  588  589  590  591  592  595  596  597\n",
      "  598  599  600  601  603  604  605  606  607  609  610  611  612  613  614  615  616  619  620  621  622  623  624  625  626  627  628  629  630  631  632  633  634  636  637  638  640  641  642  643  644  645  646  648  649  650  651  652  653  656  658  659  660  663  665  666  667  668  669  670  671  672  673\n",
      "  674  676  677  678  679  680  681  682  683  684  685  686  687  688  689  690  693  694  695  697  698  700  701  702  704  705  706  707  709  710  711  712  713  715  716  717  718  720  721  722  723  724  725  726  727  729  731  732  733  734  735  736  737  738  740  743  744  745  746  747  748  750  751\n",
      "  752  753  754  755  756  757  758  759  760  761  763  764  765  766  767  768  770  772  773  774  776  777  778  779  780  781  783  784  785  786  787  790  791  792  793  794  795  796  797  798  799  800  801  802  803  804  808  809  810  812  813  814  816  817  818  820  821  822  823  824  825  826  828\n",
      "  829  831  832  833  835  836  837  838  840  841  842  843  847  848  849  850  851  853  855  856  860  861  862  863  864  865  868  869  870  871  872  873  875  882  883  899  909  916  917  943  946  947  967  991  993 1008]\n",
      "[ 1.68158144 13.29693938 19.64975982 27.43162515 80.41135509] 739 739\n",
      "Distances under 100: [18.15503557 22.41452563 19.63863686 24.29272453 22.66543235 19.00396161 13.86329046 29.59253515 18.8465341  21.63591447 27.13154018  9.30316362 24.08779778 10.67209865 50.48402338 16.49549899 28.29722995  9.99350238 37.98362703 13.86917096 37.86464001 76.87264266 28.27072942 22.06484367 33.72147958 27.14453034\n",
      " 30.42065001 23.9165467  47.29416197 24.65868028 52.93200191 29.20798987 40.32456936 44.89848846 29.08624722 31.62567185 26.2709106  18.45249455 20.42937045  6.45745505 16.71503254 43.03887902 20.73203884 21.57618    18.95747398 35.11197681 22.48065818 58.03660674 36.1761523  25.47221485 24.28902932 29.19729498\n",
      " 25.34485513 31.43131089  5.19326961 38.56264179 17.89337347  5.35636394 23.54326023 36.48010191 73.21059314  4.66881813 17.77811383  3.45526879 10.7404788  35.39994237 16.89049903 24.20822589 37.51251112 27.80105095 25.4985594  25.89560541 26.50111103 29.05714654  3.93909801 20.72109598 40.14426927  9.10514766\n",
      " 30.68528417  6.62782303 12.08140623 14.13424135 13.8192281   8.89763051 16.6723861  32.91412827 19.39324463 14.74008978  8.01463916  7.04790666 28.51622234 29.59767869 32.51147707 22.2927864  19.98277365 20.52546365 15.48701307 20.03437836 21.21305555 42.07249767 28.11669949 21.53359236 19.90870591 13.48340275\n",
      " 14.8944661   8.2364204  14.79739141 19.76545773 27.49522628 21.79863562 16.43626525 27.64612829 19.11451008 41.30057211 10.14585927 22.50195673 19.73753968 29.10971133 34.5863973  19.90409505 28.34872195 58.42106202 34.04074097 26.2892175  10.08564163 21.47670952  8.63811829 15.15011804 22.04415185 23.3298947\n",
      " 15.71771657 27.87137312 25.1996568  10.31595499  4.82376907 13.67288469 17.81783904 41.29428247 24.85431343 74.41206589 33.65950571 27.511232   26.53552048 29.14348184 21.4562788  37.31223736 20.56737171 43.55246527 11.16458121 21.43330103 25.58565229 25.35937127 21.94504582 12.98119862 21.09997082  8.64059061\n",
      " 21.66765609 21.18050003 11.15102254 13.9534621  21.0112124  19.98404016 35.54025015 33.584252   14.96544644 22.32850222 18.67539158 16.71932503 29.07141387 19.54914133 20.05543065 24.28962267 14.02099352 13.06018491 27.93110002 32.07553674 17.74496602 37.483888   10.04407899 46.6873384  19.20086849 51.27872131\n",
      "  4.14713842 32.87595526 10.69013169 18.98863758 11.34768555 14.91991147 10.88128357 25.44793714 19.20877295 15.94402916 20.24204265 38.58969976 30.00442811 15.69405077 30.42763435 22.74599475 35.72198734 22.6164893  50.80257795  9.29233751 20.81034804 27.57649674 12.65800454 16.86963913 24.93271108  7.12147517\n",
      " 11.62535484 10.16710959 35.27358152 24.20050087 77.56647188  6.22203566 40.10120546 11.07483703  8.2570259  10.53745843 26.02739138 10.47455502 22.65665202 12.36391951 63.1486435  14.08204146 12.22355033 30.20578612 13.88557412  8.23138467 13.49609377 54.46235651 26.22036999 10.55290629 20.99197882 51.52894989\n",
      " 27.91472382 19.64975982  6.91654193 17.77619064 20.82748824 19.22454886  7.08412622 13.16318524  5.13832075 13.51327331 25.57879482  7.65220421 25.17742157 35.28365327 24.4052535  16.0867354   4.56751828 20.77889623 13.77754609 33.2535789  12.40339689 18.85569611  5.67607107 19.25152759 13.52211243 11.56953539\n",
      " 15.48984404 44.39977742 43.9550268   9.99357444  8.94748545 20.81544523 13.92712314 25.16259436 20.2894417  28.9846425  32.02432126 19.95281589 17.22439323 23.88586317 13.9310383  27.15617854 14.38181819 21.78966465  1.68158144 19.3271961   2.54075563 45.16102706 21.64415891 20.69449281  8.89213466 18.13635429\n",
      " 12.20920279 14.64669677  8.79276118 17.52663246 21.04620262 14.29300999 30.6075098  17.37385221 13.53313617 27.68692579 23.70006477 18.04047033 24.86151289 22.62145282 38.73990714 21.56640258  6.69717065 32.71770763  8.975694   30.30745457  8.0782555  15.08814026 12.87450863 15.12708339 34.33980272 27.87789104\n",
      " 10.44826912  7.70648739 68.82045706 25.99859705 11.73689617 17.66112936 16.20914704 27.7241454  12.07794752 12.86928339  9.54737193  8.46262518  7.72474263 33.4945841  36.81942605 21.14177224 22.70186981 22.43753283 19.84382728 17.66176746 18.14104303 10.12827458  6.67845194 21.23490945 25.97523626 11.65210533\n",
      " 20.62899292 28.8598804  11.3486862   7.74984481 26.59200339 20.63423699 15.72335596 12.13127657 37.67785096  9.04040917 25.7384921  22.22818826 16.75322825  8.29393798 30.67799    13.22539198 21.00058979 16.26491197 27.57529866 16.25867971 14.34601217 22.26568578 35.53508834 22.78801634 10.22541399 12.07161525\n",
      " 10.30226875 28.61343363 30.32481847 26.8644152  18.20734     9.71572062  6.8208675  15.71881575 13.66429441 18.92417164 22.74096582  5.01753851 13.93352803 66.98086706 13.47253585 18.4524938  37.57204302  6.0774362   5.57509555 31.9107511  74.15908414 14.29630274 30.47583813 19.50289596  8.26897042 16.43792099\n",
      " 13.39168693 36.15176279 23.19180946 24.02587362 18.54155205 12.02151919 22.13219489 14.25609551 28.00560464 12.57877661  5.42558741 18.51241469 16.73961603 19.98530333 12.94987053 22.22341648 15.53531895 14.1796462  20.91777395 14.89117321 24.33861427 16.47197714 24.73692378 18.54778814 26.20241328 20.41232571\n",
      " 26.28614747  9.78334961 19.67418406 21.218432   15.76015434 34.39625494 17.30540553 10.64271925 19.28829003 13.76568908 12.84990146  5.6235063  19.26092412 17.96488241 37.64473898 19.764141   30.35610978 10.29686498  6.03925732  4.97859034 27.76767431 23.79515346 20.2951424  38.98212874 24.06780506 16.74533726\n",
      "  2.27351814 25.68701883 14.084144    9.00828669  4.34302373  4.42925027 14.669515   13.70599761 24.55624352 38.72854665 25.0611201  15.66950038 21.90344832  9.18407837 22.99287174  9.14881194  8.32847565 19.03259068 21.30434683 31.6045428  17.61928119  8.26755003 78.79475394 21.51204828  6.80769244 29.53808415\n",
      " 27.08146081 20.94050303 10.32503064 27.33046033 14.94863864 29.97803651 13.76131864 12.8478009  11.80457896  6.55928618 12.45300367  9.68290342 25.11217672 29.68580641 14.07068823 31.4438297  17.06083518 20.54689141 23.63686244 25.51355808 22.13334155 17.96630692 32.67372382 18.71897331 21.10182259  6.4783554\n",
      " 22.50361117 16.25138466 23.25995232 21.88613259 14.2156804  13.03731277 18.27086754 22.41309237 15.92539209 26.71591761  9.99513784 15.16221634 22.14897754 10.09325996 11.72538773 21.27488378 12.1082799   8.84809401 27.92585843 17.3739357  18.64184784 15.88258749 15.66398606 20.87581072 19.74259076  8.53085828\n",
      " 38.76025282 29.51088307  6.79124726 13.88592495 16.48904302 14.10238357  9.93428717 34.04975651 16.30687414 17.70177735 20.83175401 12.72248984 10.11766672  5.92046735 30.48399996 16.56817366 31.67387084  6.14997547 10.37237455 11.64719358 18.37215297 10.9342491  29.25656627 28.93464755 15.06373118 34.55427817\n",
      " 21.94823332  5.40858142 11.94740948 11.4875958  20.37497588 21.99280363  9.62763819 21.79853631 31.97407036 11.84158868 25.19361305 12.44510833 27.88877154 44.70250438 19.13667366 43.0536764  16.78104864 25.81821792 16.53850152 34.31634563 21.43282921 24.82773211 30.28961177 30.31309315 13.8568486  13.79608649\n",
      " 19.38342058 23.43851838  4.70430593 17.37755002  7.67069881 17.74939047  6.81419453 16.77526551 25.21290121 19.27261919 16.9240957   9.42572382 10.90750318 33.65658394 15.84430254 21.8882143  39.35877454 12.32879582 10.96548796  9.1066646  78.85628328  6.1192051  22.13056985 14.04155411  8.80825666 10.57343599\n",
      "  9.8381977   8.91222653 19.32990828 16.66774653 15.80999446 11.39037063 33.09676023  6.97287827 27.51443631 14.58904845 12.88096875  4.0452619  11.79066079 13.94557918 13.7957913  80.41135509 15.02183159 16.8886461  12.82108276 12.54670622  8.04889128 18.55964576 12.85034777 22.4940164  12.56233354 37.27073697\n",
      " 12.5795833   9.90061512 13.36848678 13.47715928 20.59563501  6.26550985 26.16367974 28.68839404 79.80456883 20.01053015 16.16503183 30.89707311 23.19045702 51.79995047 15.39817689 11.35691019 36.70693002 16.39344043 19.01023572 18.83325188 27.26355788 78.14349591 13.82137453 19.4444409  14.39410333  4.03019085\n",
      " 17.34634896 12.44605201 27.52734827 14.16291045 16.83312546 49.83696299 33.87565083 27.14144965 11.00131062 25.05133204 25.05119293 41.96787061 29.07366258 20.40406984 36.56658388 25.20347049 10.3762684  21.73687191 24.53833698 38.83897211 18.27645642 32.90076442 18.2589127  20.96476991 45.29617654 32.53033571\n",
      " 57.46620976 37.67514676 26.97554059 42.5088227  25.92601797 16.48324733 24.28871177 73.01530916  7.08508241 27.8850696  30.60199215 29.10186256  9.19027187 21.46481714  7.30685202 19.1991157  11.19620012 10.38394849 20.53599289 21.22548069 10.34503551 21.75866514 37.17065163  5.49578906 17.86020503 59.1111345\n",
      " 39.12333911 32.00267985 16.26015829 11.10570323 17.25274047 72.35458992 13.37728316 16.50827711 36.33255658 16.06624037  5.28400761 78.76536541 17.73282469 37.58817706 24.72506959 44.71107389  9.38514715 30.91705933 20.12187468 11.70345446 18.52760887 69.27826797 61.26969147 15.50514903 78.53336775 72.33560043\n",
      "  9.63959107 17.39846913 27.36802402 12.4758936  47.29068409 44.36966885 18.78994236 23.37849707 14.92186704 43.92586479 32.52539038]\n",
      "Enter Matching\n"
     ]
    },
    {
     "data": {
      "application/vnd.jupyter.widget-view+json": {
       "model_id": "59c079afdc394cbcb60bca5f3df00552",
       "version_major": 2,
       "version_minor": 0
      },
      "text/plain": [
       "Descriptor Matching (Flipped):   0%|          | 0/2177 [00:00<?, ?it/s]"
      ]
     },
     "metadata": {},
     "output_type": "display_data"
    },
    {
     "name": "stdout",
     "output_type": "stream",
     "text": [
      "Results Update: 739 1513 1117\n",
      "1117\n",
      "IDX 1116\n",
      "DISTNACE 781\n",
      "DBSCAN 1116\n",
      "INTERSECT 781\n",
      "782\n",
      "[   0    1    2    3    4    5    6    7    8    9   10   11   12   13   14   15   16   17   18   19   20   21   22   23   24   25   26   27   28   29   30   31   32   33   34   35   36   37   38   39   40   41   42   43   44   45   46   47   48   49   50   51   52   53   54   55   56   57   58   59   60   61   62\n",
      "   63   64   65   66   67   68   69   70   71   72   73   74   75   76   77   78   79   80   81   82   83   84   85   86   87   88   89   90   91   92   93   94   95   96   97   98   99  100  101  102  103  104  105  106  107  108  109  110  111  112  113  114  115  116  117  118  119  120  121  122  123  124  125\n",
      "  126  127  129  130  131  132  133  134  135  136  137  138  139  140  141  142  143  144  145  146  147  148  149  150  151  152  153  154  155  156  157  158  159  160  161  162  163  164  165  166  167  168  169  170  171  172  173  174  175  176  177  178  179  180  181  182  183  184  185  186  187  188  189\n",
      "  190  191  192  193  194  195  196  197  198  199  200  201  202  203  204  205  206  207  208  209  210  211  212  213  214  215  216  217  218  219  220  221  222  223  224  225  226  227  228  229  230  231  232  233  234  235  236  237  238  239  240  241  242  243  244  245  246  247  248  249  250  251  252\n",
      "  253  254  255  256  257  258  259  260  261  262  263  264  265  266  267  268  269  270  271  272  273  274  275  276  277  278  279  280  281  282  283  284  285  286  287  288  289  290  291  292  293  294  295  296  297  298  299  300  301  302  303  304  305  306  307  308  309  310  311  312  313  314  315\n",
      "  316  317  318  319  320  321  322  323  324  325  326  327  328  329  330  331  332  333  334  335  336  337  338  339  340  341  342  343  344  345  346  347  348  349  350  351  352  353  354  355  356  357  358  359  360  361  362  363  364  365  366  367  368  369  370  371  372  373  374  375  376  377  378\n",
      "  379  380  381  382  383  384  385  386  387  388  389  390  391  392  393  394  395  396  397  398  399  400  401  402  403  404  405  406  407  408  409  410  411  412  413  414  415  416  417  418  419  420  421  422  423  424  425  426  427  428  429  430  431  432  433  434  435  436  437  438  439  440  441\n",
      "  442  443  444  445  446  447  448  449  450  451  452  453  454  455  456  457  458  459  460  461  462  463  464  465  466  467  468  469  470  471  472  473  474  475  476  477  478  479  480  481  482  483  484  485  486  487  488  489  490  491  492  493  494  495  496  497  498  499  500  501  502  503  504\n",
      "  505  506  507  508  509  510  511  512  513  514  515  516  517  518  519  520  521  522  523  524  525  526  527  528  529  530  531  532  533  534  535  536  537  538  539  540  541  542  543  544  545  546  547  548  549  550  551  552  553  554  555  556  557  558  560  561  562  563  564  565  566  567  568\n",
      "  569  570  571  572  573  574  575  576  577  578  579  580  581  582  583  584  585  586  587  588  589  590  591  592  593  594  595  596  597  598  599  600  601  602  603  604  605  606  607  608  609  610  611  612  613  614  615  616  617  618  619  620  621  622  623  624  625  626  627  628  629  630  631\n",
      "  632  633  634  635  636  637  638  639  640  641  642  643  644  645  646  647  648  649  650  651  652  653  654  655  656  657  658  659  660  661  662  663  664  665  666  667  668  669  671  672  673  674  675  676  677  678  679  680  681  682  683  684  685  686  687  688  689  690  691  692  693  694  695\n",
      "  696  697  698  699  700  702  703  704  705  706  707  708  709  710  711  712  714  715  716  717  718  719  720  721  722  723  724  725  726  727  728  729  730  731  732  733  734  735  737  738  743  747  749  750  758  784  795  797  801  811  814  815  817  832  848  863  873  874  883  889  890  897  908\n",
      "  910  912  918  923  924  926  928  936  938  940  944  948  965  978  979  994 1000 1014 1022 1030 1049 1057 1059 1092 1096 1097]\n",
      "[ 1.43444324 17.00999797 24.38002352 33.31268427 91.9069109 ] 782 782\n",
      "Distances under 100: [21.16202968 24.47685034 23.03376495 27.03362459 27.55016428 21.92952928 15.58939225 34.10091952 21.38056192 23.45831149 32.4418003   7.31013946 22.71544956 13.83372095 47.47311168 21.86337249 32.86141142 16.11704029 12.54395671 20.20467053 39.88446077 70.32214765 33.16997706 26.69459895 32.83455791 30.67751841\n",
      " 34.64934899 29.62109184 52.14873781 24.87446844 49.08173359 33.60821024 41.61626947 49.17115604 31.0228475  33.3932627  29.38753072 25.77542007 25.19482955  9.6326834  14.23499626 47.5486689  26.43840035 25.2333181  21.76269384 37.61900945 24.05780398 60.49456518 38.88120006 27.3728673   6.89920771 35.44264402\n",
      " 27.59277158 36.90909737 11.32887815 41.2604676  19.94579524  9.42463922 26.25991012 39.37311823 78.47829754  9.74314955 23.96323706  3.43493227  6.4233409  40.97608946 39.85535865 26.86522366 17.48335673 28.03439328 29.57535448 27.67484059 27.87022615 34.70671375  8.22031143 25.57385426 41.93097868 13.68722461\n",
      " 33.36025333  5.25640637 12.59344184 19.88017153 16.52559578  9.72093534 21.01545395 11.34876497 25.70817857 21.08613373  8.62033022  8.36942751 34.90882299 33.46100845 38.92277876 28.76256146 26.24319959 22.57727998 17.89055006 23.3793381  25.83100148 44.98250932 30.52068909 23.70407646 25.29703997 35.958899\n",
      " 21.4073427   5.88557259 21.10092764 16.80216799 30.06718311 26.62951634 19.34682913 33.62495298 31.23541213 45.73190342 15.07370689 25.92629193 26.0747589  30.32978117 38.00947451 14.69422612 30.4549558  57.64463293 36.59221059 28.58745405 15.34146361 22.31047856 14.92601    12.43397649 28.40921042 20.28133472\n",
      " 30.5571873  30.78989923 17.09225606  6.84351148 15.35180471 23.50169953 43.9372645  31.32886362 69.20136755 35.80490444 29.71478298 27.92112993 33.69155762 27.48687274 42.24242061 26.19412889 49.36296699 14.12480279 23.56051786 29.73041895 27.90569473 24.99785592 15.66262225 25.26718314 47.9301978  23.98597843\n",
      " 25.64346773 17.05158842 15.02169841 24.80165791 24.07839575 41.29693735 35.8998243  19.12131442 28.85330181 24.92174033 19.31319643 32.6820373  22.82527685 22.81460281 26.70343995 19.52423417 54.48438368 34.33004577 34.56434029 20.8014822  39.93131766 13.77228229 45.80498587 25.59435555 53.79521951 16.94273974\n",
      " 37.19174304  8.72126822 23.02132894 17.1730646  15.96037666 17.37023948 31.78517301 20.11991015 19.24894044 22.79564485 44.15833946 32.87793349 21.0826284  33.12543734 27.72579255 42.07652814  8.92186505 52.82417279 13.9234726  26.9515112  27.7345252  17.34967878 19.9069512  26.06569569 11.26403699 17.82417945\n",
      " 10.32142999 39.47951637 29.02967571 77.65015968  8.3004321  44.81822405 14.73297718 42.9976229  12.60889843 27.84012759 13.79842999 26.8077899  14.71522814 65.58276555 16.13455298 17.74532842 36.67829891 19.43196248 12.72641819 17.15997297 56.4712269  28.66611798 16.01622326 25.45229312 45.01764523 29.95432922\n",
      " 22.70657266 11.60778651 21.20296353 24.80303933 24.67621412 12.06071037 17.17903883  4.40333374 15.75454357 29.63496031 11.56297175 26.49564657 41.56747388 30.85103431 18.83485574 10.76129322 25.02564848 19.38708853 39.46464886 15.0851113  21.38642465 10.43803563 22.10954364 16.04527671 17.39040774 16.71739538\n",
      " 49.20682151 40.96410851 53.93796794 15.03048149 24.37433896 19.35817349 27.53852572 26.57867558 33.62783173 36.83859764 25.60122813 23.0606731  27.88482047 18.42321807 31.25031733 19.04852432 25.73284433  4.97545904 36.36320943  8.72425375 47.37766344 27.22588079 23.79352093 15.15957814 19.78927893 18.14851934\n",
      " 21.28107116 14.13495196 20.64722126 36.58714543 20.61158755 37.15354627 23.99671201 12.50198817 30.32198497 27.71902219 23.49195521 27.26196058 16.87577275 41.07954216 21.53350021  7.42715942 37.5615136  13.49078504 31.77275153 12.11144702 18.29129343 22.86196219 20.68088384 34.40847988 29.82036165 16.4481197\n",
      " 10.1213417  72.27780032 27.41746439 18.2144611  20.36184378 22.55014077 29.48653565 15.04219594 18.8189223  15.04139009 10.71072485 13.9158131  35.44515535 40.16847916 27.51191907 25.96442693 26.64487108 20.86486655 21.61287661 24.77323236 16.35223514 10.52958217 23.79767489 28.62726628 17.24770084 23.36419087\n",
      " 30.62182663 17.35755715 13.59786767 29.27385957 25.15326239 18.44960777 15.77194869 36.23605719 14.44408888 27.49524842 24.24896602 22.22824151 11.57508736 33.41535025 37.31193307 25.86240272 19.21407274 29.65163171 20.51303065 16.16849318 25.63942391 41.13579796 24.82609164  7.61372414 15.5936644  48.97045467\n",
      " 32.72769868 34.64889997 28.91632739 22.85199533 13.9805595  11.95392997 10.93142301 19.55858757 25.20023755 28.61953034  7.09719204 17.8671118  62.90107008 16.89902043 20.28701046 41.15834943 11.85703585  8.57486872 33.94553447 80.0460059  14.53435877 32.02962728 20.50544715 14.63375075 22.33317124 17.7608253\n",
      " 41.14567323 25.32157055 26.80190613 24.35747124 15.28598288 26.10454055 16.55914576 26.1530349  14.88296918 10.02634792 22.64027897 23.26263074 23.45250172 17.09125645 27.20258267 19.8489774  15.33096638 21.80040588 18.87659644 29.73953788 19.25967154 29.95389659 21.13668144 28.01127083 15.14034789 28.08239824\n",
      " 11.96345146 23.05018897 23.7043135  18.38743216 36.66599025 20.78083567 13.63548909 20.57009998 19.42357828 16.33278025  9.15179587 21.95567857 22.40178348 31.72688483 24.896047   34.44570171 46.6410098  11.08276767 10.01753734 30.70681405 28.50404637 22.54382738 43.23584775 28.60831805 22.43028429  6.00243953\n",
      " 24.43029325 18.0705379  49.58202371  9.79851264 10.25857447 18.80420009 15.27452669 29.44544043 40.40817189 27.77575536 19.70962146  8.71883652 12.01818888 29.48554465  6.90788452 11.32206448 22.31283834 25.43637088 37.32030463 23.82608262 11.22980296 72.4509084  25.60161778 13.50354944 34.1535723  26.93258822\n",
      " 24.48321438 12.73011107 31.17994793 20.38134056 32.24850736 17.7789526  12.2079559  14.80789185 12.14210346 13.3494657  13.85667221 19.21458475 34.55823887 18.00684958 37.56285403 21.08482621 22.99035698 26.00606794 11.80464128 26.61676167 22.92735853 35.72974119 22.16656461 25.47584941  9.35215461 24.89753882\n",
      " 18.26575898 28.50171272 26.34314351  9.44995755 14.7827137  21.82135648 26.68497737 20.29045972 29.26765324 13.14134594 18.88329969 27.76991853  9.39961122 16.15281783 23.47664824 17.27000298 14.84981017 29.08353214 22.09252884 20.29694774 18.53967182 21.66878756 22.2972918  25.95431114 31.37314153 42.35421349\n",
      " 31.55154597  9.14163026 19.12990212 18.64012532 17.41723923  4.02874328 37.84014544 22.1761237  23.65596024 22.28834523 18.42516138 10.28405652 10.57918289 33.46652686 18.46106374 33.48500633 12.20430212 15.05859735 13.85812329 38.78659204  8.15354756 31.86983459 31.47198843 19.32461899 36.296601   26.66816343\n",
      "  9.56076025 14.60109434 16.31382543 26.8359075  25.30072141  6.22189786 26.15477622 34.987828   15.40940063 30.54209277 16.85430147 23.74938963 24.83226839 47.41211146 18.71696753 42.79504589 18.50567299 40.28019727 23.16296961 28.62134686 34.63407997 36.26657785 20.43523976 18.87599922 24.68529285 25.9807579\n",
      "  9.70342596 20.02903718  4.95044913 23.93964198 11.84960719 22.23885685 26.42251605 25.43621875 13.07747782 14.99722687 16.8117704  36.00059176 20.96449478 25.58247104 41.71124848 13.88129843 15.09825624 12.55299888 76.46837627  1.49201296 24.40376158 19.81860058 10.26661106 12.80096351 13.47622871 15.19975013\n",
      " 20.47932194 22.43969554 17.19120028 13.78043889 37.50333471  9.39146464 29.75883036 20.36555941 15.93325276 56.24273063 17.50926874 14.95508364 18.9034169  75.42534424 20.75791666 17.4713505  12.57717426 16.54748729 10.30565341 20.21688063 18.73790333 24.680271   14.49855909 42.79731977 16.78415696 12.94888042\n",
      " 10.91336735 13.66502872 21.89025087 12.29733099 27.91594826 31.08454975 75.62298075 25.442813   21.02909872 36.24572951 45.00429337 54.86354833 20.28067268 15.73679673 30.8046565  19.17424007 24.21386994 21.54059257 26.13220576 80.77109641 19.99787416 24.51399771 16.99613449  2.2724309  18.19253929 15.03516529\n",
      " 32.67354891 16.75030504 22.54842475 47.81928155 36.43060015 31.3149159  14.21650528 29.07249966 29.05649548 44.40524196 32.10058198 21.94952513 39.09833754 30.65529333 10.50343722 24.90782138 30.86396519 40.00509768 34.98333739 19.09144822 22.50828145 47.43159143 34.5830502  57.67223931 39.60279432 29.65806204\n",
      " 44.49394318 28.39260664 19.15182598 30.51006407 76.68677003  9.91842889 29.45243109 32.53551598 30.42717702 13.38671781 23.73198386 10.10099112 25.54867145 48.46321726 14.53867416 26.98022462 27.23483783 13.81405897 24.38570808 41.37962663 16.30187937 12.2593051  43.45669246 37.30094303 41.34137073 11.33038212\n",
      " 15.52922582 69.48384303  6.96365352 19.9807578  37.63714059 17.58143506  3.72514246 19.14589521 39.51134521 25.91811895 47.74356911 11.08851232 35.58291866 21.7401829  17.14102688 16.19282534 51.39404554 55.51498997 18.04904818 83.35671618 72.77348565  4.91207841 38.99609673 27.90094365 15.1509981  51.27714375\n",
      " 38.86821498 22.02253069 16.70166464 36.70505994 29.05842249 76.45479904 80.67981438 20.65519019 80.46262659 79.06135117 80.39193891 41.86358299 82.69955489 90.19460194 90.68301242 42.53198806 85.24631656 84.94500105 41.22073044 28.29985503 45.27621634 43.57669853 89.36842125 40.03349128 34.77662556 39.23965817\n",
      " 86.96483326 86.11744224 57.25914293 37.46507246 31.84003941 28.76508494 52.68757962 15.52968242 78.87635952 85.02285329 79.68147585 36.21046303 38.62271741 84.23044804 21.11958345 38.49549864 40.057131   71.94621999 88.00964948 83.24402318 82.30403168 91.9069109  18.67313252 72.71298408 26.42238489 81.08743849\n",
      "  1.43444324 88.88438437]\n",
      "True False\n",
      "D:\\CaseStudies\\CornerDigitization\\FineAdjustment\\\\registration/48201C0860J.tif\n",
      "[[ 1.01028708e+00 -1.69799011e-03  1.15126345e+05]\n",
      " [ 1.69799011e-03  1.01028708e+00 -1.76154519e+04]\n",
      " [ 0.00000000e+00  0.00000000e+00  1.00000000e+00]]\n",
      "[[ 8.76543188e-01  1.65661838e-03 -1.06258768e+07]\n",
      " [-2.75345556e-03 -8.83884060e-01  3.47202884e+06]\n",
      " [ 0.00000000e+00  0.00000000e+00  1.00000000e+00]]\n",
      "D:\\CaseStudies\\CornerDigitization\\FineAdjustment\\\\referencing\\48201C0860K.tif\n",
      "2172 / 6175\n",
      "Enter Matching\n"
     ]
    },
    {
     "data": {
      "application/vnd.jupyter.widget-view+json": {
       "model_id": "ea6dbe0568654cb7912defa884d558e9",
       "version_major": 2,
       "version_minor": 0
      },
      "text/plain": [
       "Calculating Descriptors:   0%|          | 0/6661 [00:00<?, ?it/s]"
      ]
     },
     "metadata": {},
     "output_type": "display_data"
    },
    {
     "data": {
      "application/vnd.jupyter.widget-view+json": {
       "model_id": "3809812b6673484a9547411e79030bf2",
       "version_major": 2,
       "version_minor": 0
      },
      "text/plain": [
       "Calculating Descriptors:   0%|          | 0/2143 [00:00<?, ?it/s]"
      ]
     },
     "metadata": {},
     "output_type": "display_data"
    },
    {
     "data": {
      "application/vnd.jupyter.widget-view+json": {
       "model_id": "861e5ad063814b11be7a1229cd239671",
       "version_major": 2,
       "version_minor": 0
      },
      "text/plain": [
       "Descriptor Matching (Flipped):   0%|          | 0/2143 [00:00<?, ?it/s]"
      ]
     },
     "metadata": {},
     "output_type": "display_data"
    },
    {
     "name": "stdout",
     "output_type": "stream",
     "text": [
      "1469\n",
      "IDX 1468\n",
      "DISTNACE 911\n",
      "DBSCAN 1468\n",
      "INTERSECT 911\n",
      "911\n",
      "[   1    3    4   10   12   13   14   17   22   23   25   26   28   29   30   31   33   35   36   37   41   42   43   44   45   48   51   52   56   57   59   60   61   66   69   70   71   73   74   76   77   78   80   81   82   83   86   89   90   92   94   98  101  102  103  109  110  112  115  117  118  119  120\n",
      "  122  123  126  127  128  133  135  138  139  143  144  147  148  150  151  152  153  156  158  159  160  161  162  164  166  169  170  171  172  173  175  176  181  182  183  184  187  188  189  190  191  192  194  195  196  197  198  199  200  202  203  204  205  212  214  217  219  220  226  228  230  231  234\n",
      "  235  236  237  238  239  241  243  244  245  247  248  251  254  255  256  257  258  259  260  262  263  264  265  268  270  273  275  276  277  279  280  283  284  285  289  290  294  295  296  297  299  300  302  305  307  308  309  312  313  314  315  318  319  321  322  323  325  326  327  330  331  332  333\n",
      "  334  336  340  341  343  346  347  349  351  352  353  355  356  358  360  361  362  364  365  366  368  369  370  371  372  373  374  375  376  377  378  379  380  381  382  388  390  392  397  400  402  403  404  407  409  410  414  415  416  418  421  422  423  427  428  429  432  435  437  438  439  440  441\n",
      "  443  445  446  448  449  450  452  456  458  459  461  462  463  464  466  468  469  470  471  472  474  475  476  477  479  481  482  483  484  487  488  489  491  492  494  496  497  500  502  505  506  510  511  513  514  515  516  519  523  524  525  526  528  530  532  533  535  537  538  539  540  541  544\n",
      "  545  547  548  549  550  551  553  555  557  558  559  560  561  562  563  564  565  567  570  576  578  579  581  582  583  584  587  588  589  590  591  592  595  597  599  600  601  602  603  604  605  606  607  608  609  610  611  612  613  614  615  616  617  618  619  621  622  623  624  626  627  629  631\n",
      "  632  633  634  635  636  637  640  642  644  645  646  647  648  649  650  651  653  654  655  656  660  661  663  664  665  666  667  668  669  671  672  673  674  676  677  679  682  684  685  686  687  688  689  690  691  694  695  696  697  699  700  702  704  705  706  708  709  710  714  718  720  721  725\n",
      "  727  730  731  732  733  734  737  740  741  742  743  745  746  747  748  749  750  752  753  754  755  756  759  761  762  763  765  766  767  768  769  770  771  772  773  774  775  776  777  778  779  780  781  783  785  786  787  788  789  790  791  792  794  797  798  800  801  803  805  806  807  808  809\n",
      "  810  811  812  813  815  816  817  818  821  822  824  825  827  828  831  832  834  835  836  838  840  842  843  845  846  847  848  849  851  852  853  854  855  856  857  859  863  868  869  870  871  872  873  874  875  876  877  878  880  882  885  887  888  890  891  892  893  894  895  897  898  899  900\n",
      "  901  902  903  904  906  907  908  910  911  912  913  914  916  917  920  923  924  927  930  931  934  935  937  939  941  942  944  945  946  947  948  949  950  951  953  954  955  956  957  958  960  962  963  965  966  967  969  970  971  972  973  974  975  976  977  978  979  982  985  986  987  988  989\n",
      "  990  992  993  994  996  999 1000 1001 1002 1003 1004 1006 1007 1008 1009 1011 1013 1018 1019 1020 1021 1022 1024 1025 1027 1029 1033 1035 1037 1038 1040 1041 1042 1043 1044 1045 1046 1047 1048 1050 1052 1053 1054 1056 1058 1060 1061 1064 1065 1068 1069 1071 1073 1075 1076 1079 1081 1082 1087 1089 1090 1091 1093\n",
      " 1094 1098 1100 1102 1104 1105 1106 1107 1108 1109 1113 1115 1116 1117 1118 1122 1123 1124 1125 1126 1127 1128 1129 1130 1131 1132 1133 1135 1138 1139 1140 1142 1144 1145 1146 1147 1148 1149 1150 1151 1152 1153 1154 1156 1157 1158 1159 1161 1163 1164 1165 1166 1167 1171 1172 1175 1176 1177 1179 1180 1181 1182 1183\n",
      " 1185 1187 1189 1191 1194 1198 1200 1202 1203 1204 1205 1206 1207 1208 1209 1211 1215 1216 1217 1218 1219 1221 1222 1223 1225 1226 1227 1231 1232 1233 1235 1236 1237 1239 1240 1241 1242 1243 1244 1245 1246 1247 1248 1249 1252 1257 1258 1260 1262 1263 1267 1269 1270 1272 1274 1275 1278 1279 1283 1285 1286 1287 1290\n",
      " 1291 1292 1294 1295 1296 1299 1300 1301 1303 1304 1309 1311 1312 1313 1314 1315 1316 1317 1319 1320 1322 1323 1324 1325 1327 1328 1329 1330 1331 1333 1334 1336 1339 1341 1342 1343 1344 1347 1348 1349 1350 1351 1353 1356 1359 1360 1361 1363 1365 1367 1369 1374 1375 1376 1377 1380 1381 1382 1383 1387 1389 1390 1392\n",
      " 1393 1397 1398 1401 1403 1408 1409 1411 1412 1414 1415 1420 1421 1423 1424 1425 1426 1427 1430 1433 1439 1442 1443 1449 1451 1452 1453 1461 1465]\n",
      "[  1.20237949  13.62105388  21.13347263  31.14443571 105.91342331] 911 889\n",
      "Distances under 100: [57.58552687 14.09023805 12.81594169  6.37948197 13.34965717 12.3133947  11.64785228 12.70378708 22.02701774 13.30753168 11.64718867 12.83055368 77.95530717 26.47038235 96.80310289 14.80486012 18.26833495  2.55153258 24.82201444 13.50250039  9.66578218 59.85802824 38.58332866 23.67217732  3.36429088 11.13591727\n",
      " 29.51665418 22.83285231 91.57538583 25.7601964  15.48499983 29.76344269  6.99677061 15.87875916 19.58758629  6.17098547 12.65078616 23.72787179 72.78130832 24.30766448 28.42200756  6.7915393   3.85247721  7.76395668 27.47567931 21.29371133 36.50189151 34.27105633 26.71295009 22.94884803 23.4139672   7.90956669\n",
      " 19.28868958 37.08386813 14.74561393 32.00508941 31.24500398 22.95994811  4.5878159  30.24730664  3.7349249  20.70957841 13.48368613  9.0538284  19.76604549  3.2997515  98.42845393 33.58818921 41.03271451 27.81181518 10.30023519 15.58061753 67.62917265 14.04775741 25.27749539 24.48644053 99.71947088 24.22435146\n",
      " 91.50963605 27.30280413 27.1146396   2.31436755 91.86281817 11.18268981 27.11757449 41.25511961 17.46080911 27.25867681 17.47243698 14.9180153   4.35693536 66.98907534 21.24950538  4.63383044  8.5431156  47.47218801 24.4712572   9.17022176 49.66615427  7.26680818 22.24263107  8.95781232 15.82157213 18.40858519\n",
      " 29.72857507 38.19993295 22.68939388 89.09655689 26.68673798 40.74602374 17.95410273  9.55287041 30.32007374 75.62440465  7.08069929 22.04988482  6.40355276 91.04553545  6.09018197  5.47771374  8.3110187  27.48573433 26.78074257 19.08277057  7.57480137 82.09122397 27.35473313 10.39278282 34.05673436 19.02376683\n",
      " 17.04943539 17.93138218 22.65795083 17.12369594 14.07566082 94.8845157  11.12203512 35.46843475 29.72749771 70.67308146 92.22782963 21.02572579 35.6563441  12.99020367  2.63682467 33.7666791  16.00287764 99.59747033  4.38243614 67.38099705 15.04623651  9.61489791 21.37530723  8.52428989 16.29398678 27.28678609\n",
      " 22.69860268 30.07386841  7.14667446 19.7198344   8.19145253 14.08614547 27.94189351  4.17336172  4.31054353 14.71816729 16.51274411 21.49795796  5.61319679 22.76854773 17.94549729 24.08760059 27.87381925 98.12881778 96.87193731 21.56567823 19.54329815  9.67174873 27.99788709  6.42691145 21.06918432  8.47423525\n",
      "  8.99941426 45.84119433 26.21301373 19.43853316  4.11982047 22.73194936 14.89952246 96.94216475 13.96268775 25.37136599  2.7981985  27.69620666  9.37400479  3.81481467 17.42999475 31.65528191 28.72864253 11.48316878 19.63113339 75.12583042 24.12035896 19.34576646 18.1091331  13.25656643 33.63161342 13.27180781\n",
      "  1.68870385 30.72680314 10.25536022 20.36589119 17.93460483 68.09214127 25.24362855 13.32019387 17.41054244 15.65298904 16.59930964  9.4118912  21.33432767 17.45871314 26.38038087 41.01438136 22.07361436 91.56192537 32.66924562 24.48608301  1.73175724 16.19492738 22.58953525  7.2751569  21.08707096 27.92809218\n",
      " 66.00107788 18.49308201 64.59900664 22.58213465 13.2158244  97.8922933   5.94317071 23.99257754  8.6202459  15.09492844 13.63885293 24.35955265  9.99557465 83.535318   14.70299043 89.40548148  6.89110499 16.8269389  26.92440414 10.68316114 42.72506065 36.27562609 34.44463129 19.73372667 17.61261537 91.06319121\n",
      " 16.05154324 21.73452865 92.85435105 19.8441579  13.84118561 18.56639843 12.97513007 19.38454631 11.73294785 16.92966869  8.79343905 26.51144026 12.50392192 99.72851994  9.61701559  9.92117923 22.84676478 85.13791543 21.13347263 68.54274814 25.54600075 14.576208   32.13455075 29.362231   16.46922115 17.23196404\n",
      " 31.3466358  10.2465249  13.05742424  3.05642154 36.92373501 19.47405123 23.41835637  7.18865783 89.23979682 23.39776939 15.29809396 38.21157183 27.31578306 19.47903274 15.59850781  7.6033052   8.36765433  4.9815885  23.75615112 20.76890241 29.15226145  7.63012788 16.79411755 16.80079313  6.09384115  4.8226337\n",
      " 27.67207398 21.95535555 15.87174997 33.70934812 38.73026143 35.99077832 10.49157696 19.29199035 26.58749387 18.26169748 15.22598419 34.16955049 21.75400744  8.90278865 27.17573444 28.35548205 79.47843134 22.93388689  1.97845273 14.06938041 36.50956993 22.10870783 29.35905655  4.59423477 21.61336459  4.74120655\n",
      " 19.2492317  24.19159624 39.54965448 21.92479305  6.17132682 18.90746553 90.39561948 27.22187428 21.78895613 32.90688221 32.25683281 10.67652513 36.51990924  8.48087436 24.81711671 15.59424267 25.44940696 14.73607111 25.49698172 91.34642528  2.51471567 18.61811611  9.79809339 20.45421298 18.57774294 30.19588439\n",
      " 21.1645043  31.35577647 87.75956184  5.22533855 21.02291846 19.21837981  9.58334636 18.81189326 25.23887432 26.19446121 30.53110093 35.80883341 21.09075052 21.59922076 12.54916469 17.53157555 33.23241368 21.46914345  1.30797178 23.06707297  5.1852161  88.41214773 71.45639043 15.43288272 17.1749433  21.8356121\n",
      " 10.42448371 10.06673097 25.20486399 20.95267865  9.80722294 80.92260623  6.01896776 11.43257423  6.05598138 85.91584039 24.51225627  5.86835858 11.57466867  8.17493285 20.37934579 14.98745809 23.54326688  4.69968399 14.07867608 14.50424407 23.64077572 14.69492109 97.15413473 16.48109506 89.98563343 10.49224617\n",
      " 16.01632627 19.01451429 13.25324891 32.59574099 25.67004718 16.78936271 11.40447723 13.81209802 26.5822694  28.95581637 14.32374212 16.54068261 18.01582155 23.28371242 26.82197082 31.85427598 34.5391864  28.53228619 10.2073724  21.8063224  93.38890787 21.35465106 12.91878478  2.40644419 20.59284757 14.59339587\n",
      " 10.82157346 15.99759055 74.43794416 24.04581771 25.33838035 14.34745438 26.99307558 23.158288   23.3143741  32.234058   14.70515446 23.90472915 84.36840241 11.20723284 32.70775232 25.34466052 17.96055796  1.20237949 27.61663914 17.30165202 24.22901032 20.56200522 12.98532528 55.68318918 35.59998909 15.58448599\n",
      " 34.17315482 10.17155317 36.95826584  4.59966592 79.37131429 22.87063862 25.43318155 24.73367878 33.66156363 98.80357676 28.70707508 14.75946022 26.94780275  8.11867584 23.19859898 17.10811431  8.84636449 27.62644829 18.62551474 36.29658451  9.46005087 38.40036088 20.67465264 30.25597038 12.96027121 20.63967053\n",
      " 23.39083543 18.7539162  97.4624541   2.32871826 16.02088038 99.95734452 92.91299057 23.26687366 44.57390406 27.66368099 21.60468062 26.27416082 11.02358516 30.15539674 93.5823316  19.76413636 68.04509924  8.67651742 15.24933913 22.70336106 28.03667495 17.19915323 22.91774714 17.8114221  32.11969468 18.35713508\n",
      " 32.73832583 23.79206059 21.65352001 23.97482974 21.55291157 35.66022173 29.35592131 14.41314894  6.67860792 18.05797755 35.320442   26.66613438 21.55256449 33.42109735 13.21924407 17.36481067  6.80614982 20.0407745  30.16534102 15.35215663 19.94026372 20.13403929 27.05236526 25.505733   38.90539918 17.36941904\n",
      " 23.2395122  88.97276517  5.92389829 22.78639878 30.77145241 25.45282748  8.95612648 33.18044385 18.68906321 38.05546062 19.77658161 13.42009761 43.79618589 20.05231748 26.81773783 89.95594426 97.44818605 62.86367514 22.37122621 19.52849519 11.14560675 32.90151593 58.31927944 41.75704683 17.88277293 18.60502287\n",
      " 15.37807042 20.27546565 32.6822949  41.51937813 22.3255153   6.38905016 11.14850661 27.72237186  5.63422551 33.54191406 52.34619986 25.07293837 18.46476514 39.06591944 15.32171086 14.01913741 30.55806163 19.73936764 10.35384951  1.96467707 20.01732957  3.84349619  4.26234367 12.11938849 34.52978012 15.64193706\n",
      " 24.37437316 13.82529498  4.22752879 26.02224818  6.63971447  5.08550155 33.4850578  21.07302083 27.77797151 25.29777485 34.80688193 20.37514804 26.92211037 13.76745588 19.2636134  88.15116086 29.15925964 95.17182556 14.47812216 17.4411099  16.10070983 99.68143632 18.12931943 29.11381544  9.35932466 16.86836944\n",
      " 11.53070945 14.22315812  6.51786998 11.43700443 13.11519193 21.19629334 19.19222609 21.13090136 14.64983511 29.60778765 11.30787508 20.98879577  9.07771989 21.55454202 19.92217069 24.97636088 15.94777574 21.80791537 30.81681349  8.78270798 14.74899233 11.86839343 18.87772533 12.07437818  1.73730655 18.29389797\n",
      " 13.47399714 22.08505953 25.55123671 24.90188013 18.75065866  5.70491833 14.66083798 26.58330994 15.0716606   7.88231406 10.24838037 29.44674575 27.63330083 29.50230779 88.75835664 14.26136909 23.39807558 16.78753147 95.08081321 97.86217715 17.72798929  5.01567688 28.55609001 31.13667617 28.56481231 23.92732093\n",
      " 15.08632718 25.82862664 13.05333969 29.13530327 22.47356859 20.22091872 33.77584685 18.42314285 28.49080838 89.91434629  8.69964198 19.75778492 13.14494906 11.56675758 31.15219525 32.75004748 21.53580477 29.23260801 12.15068074 21.62956762 97.73193363 12.46904497 22.72175051  8.72522397 10.37698171 25.51886486\n",
      " 10.03488386 98.06003952  7.49328795 23.38690489 25.26851751 13.60325483 14.30612782 34.15193459 19.50670106 51.96944498 33.00382917 26.9896835  17.20039704 35.16815639  9.94621462 12.42364696 21.78145563 26.58709957 28.87141278  7.42366458 36.64091699 26.69841273 34.64548062 46.84165061 43.75590073 35.49464869\n",
      " 19.26781202  3.01821433 20.47328874 14.73925707 20.18045988 23.27197663 47.72994394  9.05379905 17.44690602 13.57754273  6.74546359 18.5112334  21.94927918  8.04626858 97.34161436  4.83553028 21.70702974 29.63150688 18.08433175 18.55272261 20.37213715 17.26731405 33.16761605 18.65531063  8.09184222 30.92721198\n",
      " 17.91212804 12.11374721 21.58166114 81.6420977  15.42819783 87.94417191 33.06891921 12.65972392 14.81804135 14.8512563  26.00030439 14.9893993  11.40234329 87.68025417 35.58101221 17.86152086 18.82150532  5.93074272  7.69987934 15.57229649 40.79433415  8.96529518 19.44339429 37.01531261 74.63447571 14.15158864\n",
      " 18.74516567  7.27253743 90.18319448 95.64978691  6.28534668 95.1406016  64.0276128   8.05353007 27.52953849 39.78627822  5.68071957 24.06947515 70.09347873 69.75342403 18.25435491 14.26216264  2.00019117 22.35818581 20.5724656  11.77471964 45.46302087  8.09893956 13.01851115 16.56797604 11.16900019 11.01766646\n",
      " 79.66639533  7.54056397  9.23384601 17.52435763 29.36259098 42.28138606 10.31798895 25.55448134  4.09118845  1.31865115 30.25740278  9.55501112 34.32926998 14.87292987 20.4143397  84.11399079 26.04258926 12.88242399 36.760877   34.7906158  96.52346725 16.59209864 15.7163129  25.45435488 17.96814686 29.03219976\n",
      " 18.31376113 24.17427037 17.7154875  34.19562149  6.75101558 13.7553939  18.7708833  22.50633486 72.81395724 50.32651875 11.78452851 61.72213385 52.94379964 27.67666331 94.364478   27.08768493  4.95920556 19.39015964  9.17858644 55.19713487 14.63900071 13.69992332  7.21259686 72.51897889 17.35643688 11.82714838\n",
      " 27.35145034  4.08484902 22.25675722  5.7090266  46.72708067 23.90126864 40.77299355 71.76289432 27.21113045 99.11536703 49.07314415 75.85286946 20.56331421 12.57962319  5.00138667  7.49843817 15.10063571 31.7344481  52.3379247   3.9991821  13.91955631 98.36710014 33.94378604 21.06279285 84.44110059  6.11939605\n",
      " 33.1971601  88.66379334 65.68265031 17.13010278 56.60478899]\n",
      "Enter Matching\n"
     ]
    },
    {
     "data": {
      "application/vnd.jupyter.widget-view+json": {
       "model_id": "a01dde560f1248afa972a260cbfd8b8c",
       "version_major": 2,
       "version_minor": 0
      },
      "text/plain": [
       "Descriptor Matching (Flipped):   0%|          | 0/2143 [00:00<?, ?it/s]"
      ]
     },
     "metadata": {},
     "output_type": "display_data"
    },
    {
     "name": "stdout",
     "output_type": "stream",
     "text": [
      "Results Update: 911 1495 1108\n",
      "1108\n",
      "IDX 1107\n",
      "DISTNACE 742\n",
      "DBSCAN 1107\n",
      "INTERSECT 742\n",
      "743\n",
      "[   0    1    2    3    4    5    6    7    8    9   10   11   13   15   16   17   18   20   21   23   25   26   27   28   29   31   32   33   34   35   36   37   38   39   41   42   44   46   48   49   50   51   52   53   54   56   57   58   59   61   62   64   65   66   67   68   70   71   72   73   74   75   76\n",
      "   77   78   80   82   83   84   86   87   88   89   90   91   92   93   94   95   96   97   98   99  100  101  102  103  104  105  106  107  108  109  110  111  112  113  114  117  118  120  121  122  123  124  125  126  127  128  129  130  131  132  133  134  136  138  139  140  141  142  143  144  145  146  147\n",
      "  148  149  150  151  152  153  154  155  156  157  158  159  160  161  162  163  165  166  167  168  169  170  171  172  173  175  176  177  178  179  180  181  182  183  184  185  186  187  188  190  191  192  193  195  196  197  198  199  200  202  203  204  205  206  208  209  211  212  213  215  216  218  219\n",
      "  220  221  222  223  225  226  227  229  230  231  232  233  234  235  237  238  239  240  241  242  244  245  247  249  250  251  253  254  255  256  257  258  260  261  262  263  264  265  266  267  268  269  270  271  273  275  278  280  281  282  283  284  285  286  288  290  291  292  295  296  297  298  299\n",
      "  300  301  302  303  304  305  306  307  308  309  310  311  312  313  314  315  316  317  318  319  320  321  322  323  324  325  326  328  329  330  331  332  333  334  335  336  337  338  339  340  341  342  343  344  345  346  347  348  349  350  351  352  353  354  355  356  357  358  359  361  363  364  365\n",
      "  366  367  369  370  371  372  374  375  376  377  378  379  380  381  382  383  384  385  386  387  388  389  390  391  393  394  395  396  397  398  399  400  401  402  404  405  406  407  408  409  410  411  412  413  414  415  416  417  418  419  420  421  422  423  424  425  426  428  429  430  431  432  433\n",
      "  436  437  438  439  440  441  442  443  444  445  446  447  448  449  450  451  452  454  455  456  458  459  460  461  463  464  465  466  467  468  469  470  471  472  473  474  475  476  477  478  479  480  481  483  484  485  487  488  489  490  491  492  493  494  496  497  498  499  500  501  502  503  504\n",
      "  505  506  507  508  509  510  511  512  513  514  515  517  518  519  520  521  522  523  524  525  526  527  528  529  531  532  533  534  535  536  537  538  539  541  542  543  545  546  547  548  549  550  551  552  553  554  555  556  557  558  559  560  561  562  563  564  565  566  567  568  569  570  571\n",
      "  572  573  574  575  576  577  578  579  580  581  582  583  584  585  586  587  588  589  590  591  592  594  595  596  597  598  599  600  601  602  603  604  605  606  607  608  609  610  611  612  613  614  615  616  617  618  619  620  621  622  624  625  626  627  628  629  630  632  633  634  635  636  638\n",
      "  639  640  642  643  644  646  647  648  649  650  652  653  654  655  656  657  658  659  661  662  663  664  665  666  667  668  669  671  672  673  674  675  677  679  680  681  682  683  684  685  686  687  688  689  690  691  692  693  694  695  696  697  698  699  700  701  702  703  704  705  706  707  709\n",
      "  710  712  713  714  716  718  719  720  721  722  723  725  727  728  729  730  731  732  733  734  735  736  737  738  739  741  742  743  744  745  746  748  749  750  751  754  755  756  757  758  759  760  762  763  765  766  767  768  769  770  772  773  775  776  777  778  779  780  781  782  783  785  786\n",
      "  787  789  790  791  792  793  794  795  796  797  798  801  802  803  804  805  806  807  808  809  810  811  812  813  814  815  816  817  818  819  820  821  823  824  826  827  871  874  890  906  919  923  942  967 1010 1020 1048 1072 1086 1091]\n",
      "[ 0.33183072 13.17347832 19.37925894 25.30011515 74.62398718] 743 743\n",
      "Distances under 100: [54.6458745   7.44624389 12.44010608 12.90437047  4.99158365  8.21853525 13.20810742 17.25334856 19.58657784  5.97754147 17.20359403  4.03505548 17.93358731 15.34985699 17.63985038  4.52332686 23.09650841 17.03179934  4.09579053 38.93054787 22.39392393  4.9741436  14.04622485 26.60412253 20.58810011 24.73630138\n",
      " 31.01182987 29.33099411 18.49634564 12.6420416  17.93359839 10.58376305 14.77889038 23.57284793 22.93629199 26.59806939  4.58537503 24.34570111 20.53089996 43.37234719 31.31134825 23.96246157 22.84745326 20.20973464  6.09399805 34.35812388 16.32713573 32.38295049 27.39740689  6.50577665 30.2820709  23.57100036\n",
      " 14.45536421 10.56256965 17.79069769  6.57250203 31.93607307 40.06690759 25.49059995  7.24628198  9.90151234 70.59122791 11.1962821  22.74908693 23.37954487 27.59065282 26.97828082 24.18329512 26.06556806 25.13238956 32.81217567 19.31427325 24.1621495  17.49109312 11.57097778  6.67742981 63.00676651 20.96320543\n",
      "  7.26963351  4.80713964 38.77448028 22.73522345 12.31732309 46.09691191 12.2037029  25.22003813  6.72611451 18.32487307 17.21509586 27.19636788 37.18011447 23.12179275 15.07673242 23.6035288  36.62288952 16.71454207 11.89173622 31.50108223 23.1805738  10.15738592  6.50299714 10.33201258 10.81366003 25.08734384\n",
      " 23.1473143  10.83042391  8.2794605  17.3948147  29.33496506 13.19032588 31.00435828 23.11719468 15.89721781  8.89997485 19.34326216 17.19713782  4.26062344 36.54749452 26.56184528 74.62398718 24.99719731 33.37572321  8.33351891  5.81052779 34.44624965 16.40626388 15.23507827  6.52672051 65.55001143 13.61285232\n",
      "  3.64953564 23.87547078 10.46108506 14.7341496  27.37232806 21.49765671 27.53984662  4.61545339 17.68402825 13.07646809 21.49831129 25.76900105 10.61074504  7.0501803  19.52969451 15.37705736 22.8906574   7.03967509 19.70292543 12.13483839 24.63051128 17.33931181 18.33248233 17.27317923 25.94196548  6.09520327\n",
      " 17.70223795 14.4377786   6.74152035 42.38607936 25.32744904 17.14833001  5.34969421 21.8668753   5.52480377 25.03677139 16.66263854 25.06286704  6.63558467  9.5761659   5.00423696 14.34723064 30.38314016 25.90519471  2.74160311 70.47171922 23.06094369 19.8977522  17.32589929 21.11034267 10.77261967  5.02299119\n",
      " 29.04143341  6.51451598 22.531546   73.12990064 21.79355476  9.72408026 21.11649852 21.21225207 13.26540884 18.76518959 19.38123342 53.63877071 12.61516341 15.78294453 28.91654352 24.48232224  6.31539024 16.07797006 20.24176123  7.33538336 20.15232942 70.22423053 15.84798714 35.87383987 20.72285002 15.95623363\n",
      "  7.87520392  7.15731336 20.38678694 20.90278864 24.35948881 17.13888584  8.76439217 23.73502671  7.65322384 44.05181509 32.57904158 31.84508573 23.10895474 10.21798036 19.57012836 27.44697074 17.70011198 21.44335386 14.01826347 21.0146608  10.44056252 13.51821278 10.87895799 25.5603201  10.1913748   9.24313132\n",
      " 22.4923926  18.78346224 27.71625565 18.64713583 37.06555341 14.80711838 17.62503418 17.19145777 31.11690984  9.49274026 34.80211311 18.77977043 11.46991749 18.4024786  35.63881892 24.08417942 19.122329    9.35696321  6.23749586 13.21398638 12.00116797 24.57915262 18.61910086 25.40422935 10.03468341 18.44736649\n",
      " 20.2101154   7.20813403 11.76665445 23.75933744  9.95248602 21.99058233 41.6079952  36.16459785 33.1801221  14.52193808 22.68121168 23.24359264 17.55695237 19.33260687 30.18133588 19.94765776 11.2583147  24.10009852 27.95976166  6.83879309  3.82711404 15.52477959 33.84955128 17.94213314 10.1205984  21.95375491\n",
      "  7.77540272 20.96370049 16.27482275 15.31854701 12.80532763 18.02926035  7.50761959 24.90345593 22.62622662 30.50417592 32.65345184 13.09026384 36.32820909  2.09028895 21.95264791 17.60721606 23.36818204 18.26121589 27.09920816  4.52860712 20.61166461  0.33183072 17.91624245 19.87905805 30.03788357 26.99711755\n",
      " 21.66929764 21.0485331  13.95544861 20.1769844  23.54558571 30.91669478 37.16376699 20.83399146 20.43269205 18.75121593 28.87011402 18.41912062  7.56047673 24.84098831  9.82936904 19.75118666 17.70608775 18.53485737 23.78089772  7.54825851 10.05421239 24.54115777 22.94995536  3.76371898  5.92162085 17.5927371\n",
      "  9.48450055 25.68329028 25.42421734 14.96453509  9.82634436 21.33219625 16.52968145 22.02599701  6.31828117 10.00548529 17.9391798  22.579534   17.37758124 14.59649885 12.8234717  15.98583887 21.01488982 16.35780107 33.42446047 22.55997371 20.33952502 12.5811133  18.39650758 26.5483856  18.36889523 14.20801829\n",
      " 16.5327537  19.50899571 26.31353156 32.4572084  34.52185297 26.30759524  8.31651825 19.61620106 19.88135907 14.44353604  4.79645847 22.01665382 15.79830412  7.67067594 21.00527911 24.07672604 18.58709505 26.55981418 22.07503313 19.11154925 30.64156955 13.64718001 26.26837684 32.85968127 27.29094101 11.49535661\n",
      "  6.47705592 24.97149101 17.88803317 20.90746696 19.4570075  32.0839528   7.81116616 34.32537033 36.69129419  4.80666151 23.45984459 24.44384414  9.99268644 25.05682927 19.48523701 16.16476635 24.52396541 11.89971204 24.14920468 15.39853734  9.38824526 28.28198438 19.67234185 37.95339588 13.6082332  35.65407149\n",
      " 19.30612629 28.3162888  14.77552426 14.20060787 23.16354202 14.8116896   7.4501979  14.50177082 16.2108938  20.82960276 43.53028718 25.21233038 19.40106061 23.65504404 14.66577719 27.55468519 21.20892473 41.16467561 16.85438195 22.93438719 25.30895812 17.0817186  24.17205573 13.70868671 30.76993347 16.31020515\n",
      " 29.93791331 25.29127219 19.49829455 22.84908054 20.03221144 36.4447017  29.15755314 13.72558884 10.20455908 22.05652987 19.11041843 32.32881358 16.03641305 16.4779121   7.85663658 23.03411229 28.86901442 11.56349053 17.70054408 26.65368199 25.56499868 38.38646091 17.83309299  2.91501644 23.95837313 30.61932532\n",
      " 22.90924459 12.631922   33.48805327 10.70800783 38.69889389 21.3186416  55.9852371  17.98465246 23.83172868 65.94214657 17.27457178 21.16977417 11.72884067 32.57150292 50.75523394 43.39438534 12.54689842 16.58943974 16.03463494 18.4613552  31.46100797  7.71228493  4.66525277  9.6456751  28.43641868  9.51392193\n",
      " 32.08353617 53.54311599 22.45062453 19.50846419 35.63020471 17.99152219 27.05806107 21.65373183 15.74843199  8.26054712 18.28105245  7.50371411  8.79481627  2.6734926  35.35082813 24.75943876 16.93755734  4.47291159 27.56913026  7.49531059  6.76725759 29.92010926 19.41205668 29.43590409 20.8570217  36.41580326\n",
      " 18.45441444 27.57708301 12.64923321 17.56078675 27.09746036 13.52434702 15.65689689 53.13732198 16.28801531 26.8573874  10.88503636 41.97625038 12.50792983 13.84717794 11.10719098  8.94811199 17.02650479 18.47712989 20.93373989 19.37925894 13.82469898 30.00571275 14.82488579 23.30344599  8.8229821  18.24488297\n",
      " 24.99109934 16.6349437  21.32211048 29.03789346 13.57617451 17.6360723  11.51346924 29.01704258  5.14296819 16.09933631 15.28019231 20.55068968 22.33695423 23.62572647 19.60066471 14.7112503  27.02917889 15.54134093  6.93460142 11.26152549 28.35915578 24.97078786  1.9994594  12.47914883 21.50420433 17.72311848\n",
      " 19.33197342  6.07526976 24.73224955 33.90968192 24.96647616 27.00145692 16.03677002 28.80695388 20.96939862 21.09043663 30.61315089 22.9963508  11.80989002 12.94405748 19.24664686 10.55224037 29.80813321 11.42770601 17.76366965 28.81608233 16.46095631 19.60108238 12.34574516 20.72910122 22.09668102 15.53597053\n",
      " 21.72566525 23.72674698 23.19473502 18.64449562  2.80811136 11.87400256 33.15066766 21.29305282 35.39523081 11.82537244  6.88841631 20.38452131 22.7652365  24.76283424  7.01490547 36.09636369 27.60549402 35.64969337 45.20568853 43.74909171 36.06882751 18.90190979  6.69221039 20.40064405 15.1614064  19.36198458\n",
      " 26.09998937 48.95052207  9.0371375  18.04745551 14.7074486  13.64946047 14.43534448  6.6469077  21.35440845 19.95180557 14.53350872 33.15831888 20.12771074  1.81730732 22.25546504 15.1317753  19.75079    13.15663076 24.59017963 13.13113126 16.36020277 16.62024481 26.30287039 20.88988506 17.53809353 34.41672196\n",
      " 16.20435944 20.3776747  13.44594692  0.72357219 12.77551372 20.09102236 37.11178738 15.81851136 14.10064695 10.72481883 30.56743228 67.09902118 29.33108522  7.29544705 26.73191134 19.72382386  2.89526948 16.39878883 23.84378702  9.98363895 10.9038287  10.41146717 14.56660365 14.72589899 13.24120246  1.23938587\n",
      " 37.80430838  5.03980917  4.68988788 26.85690549 36.60244151 24.42174228 13.41294104 34.0484782  18.03456917 17.1334019  18.25129528 20.5615471  21.41431172 24.33167422  6.66963441 27.00749444 10.08293174 15.06542255 20.25027906 64.98830063 18.43258058 56.92270971 57.67196997 24.5301216  28.25849098  9.29497553\n",
      " 22.44934471 13.74584713 13.82414875 19.52001637 11.26529259 71.87118077 20.56509454  3.72468683  6.28981929  8.26447016 40.70882405 23.55536217 43.49796982 70.21195682 46.10587879 74.09949196  8.01134744  9.26816609 17.11052325 28.63319438 50.83758443  7.90326262 16.55361051 27.86496022 24.36354175 11.30564406\n",
      " 31.53721269 17.66383526 21.07108646 30.94283394 13.55407578 40.48002601 31.75767547 14.42677168  6.35546197 18.66355878 20.10198226 33.52021791 10.59699606 13.86835629 68.53206523]\n",
      "Enter Matching\n"
     ]
    },
    {
     "data": {
      "application/vnd.jupyter.widget-view+json": {
       "model_id": "52ad33d9819f49bbbd9e1937f2b9be2c",
       "version_major": 2,
       "version_minor": 0
      },
      "text/plain": [
       "Descriptor Matching (Flipped):   0%|          | 0/2143 [00:00<?, ?it/s]"
      ]
     },
     "metadata": {},
     "output_type": "display_data"
    },
    {
     "name": "stdout",
     "output_type": "stream",
     "text": [
      "Results Update: 743 1500 1132\n",
      "1132\n",
      "IDX 1131\n",
      "DISTNACE 805\n",
      "DBSCAN 1131\n",
      "INTERSECT 805\n",
      "806\n",
      "[   0    1    2    3    4    5    6    7    8    9   10   11   12   13   14   15   16   17   18   19   20   21   22   23   24   25   26   27   28   29   30   31   32   33   34   35   36   37   38   39   40   41   42   43   44   45   46   47   48   49   50   51   52   53   54   55   56   57   58   59   60   61   62\n",
      "   63   64   65   66   67   68   69   70   71   72   73   74   75   76   77   78   79   80   81   82   83   84   85   86   87   88   89   90   91   92   93   94   95   96   97   98   99  100  101  102  103  104  105  106  107  108  109  110  111  112  113  114  115  116  117  118  119  120  122  123  124  125  126\n",
      "  127  128  129  130  131  132  133  134  135  136  137  138  139  140  141  142  143  144  145  146  147  148  149  150  151  152  153  154  155  156  157  158  159  160  161  162  163  164  165  166  167  168  169  170  171  172  173  174  176  177  178  179  180  181  182  183  184  186  187  188  189  190  191\n",
      "  192  193  194  195  196  197  198  199  200  201  202  203  204  205  206  207  208  209  210  211  212  213  214  215  216  217  218  219  220  221  222  223  224  225  226  227  228  229  230  231  232  233  234  235  236  237  238  239  240  241  242  243  244  245  246  247  248  249  250  251  252  253  254\n",
      "  255  256  257  258  259  260  261  262  263  264  265  266  267  268  269  270  271  272  273  274  275  276  277  278  279  280  281  282  283  284  285  286  287  288  289  290  291  292  293  294  295  296  297  298  299  300  301  302  303  304  305  306  307  308  309  310  311  312  313  314  315  316  317\n",
      "  318  319  320  321  322  323  324  325  326  327  328  329  330  331  332  333  334  335  336  337  338  339  340  341  342  343  344  345  346  347  348  349  350  351  352  353  354  355  356  357  358  359  360  361  362  363  364  365  366  367  368  369  370  371  372  373  374  375  376  377  378  379  380\n",
      "  381  382  383  384  385  386  387  388  389  390  391  392  393  394  395  396  397  398  399  400  401  402  403  404  405  406  407  408  409  410  411  412  413  414  415  416  417  418  419  420  421  422  423  424  425  426  427  428  429  430  431  432  433  434  435  436  437  438  439  440  441  442  443\n",
      "  444  445  446  447  448  449  450  451  452  453  454  455  456  457  458  459  460  461  462  463  464  465  466  467  468  469  470  471  472  473  474  475  476  477  478  479  480  481  482  483  484  485  486  487  488  489  490  491  492  493  494  495  496  497  498  499  500  501  502  503  504  505  507\n",
      "  508  509  510  511  512  513  514  515  516  517  518  519  520  521  522  523  524  525  526  527  528  529  530  531  532  533  534  535  536  537  538  539  540  541  542  543  544  545  546  547  548  549  550  551  552  553  554  555  556  557  558  559  560  561  562  563  564  565  566  567  568  569  570\n",
      "  571  572  573  574  575  576  577  578  579  580  581  582  583  584  585  586  587  588  589  590  591  592  593  594  595  596  597  598  599  600  601  602  603  604  605  606  607  608  609  610  611  612  613  614  615  616  617  618  619  620  621  622  623  624  625  626  627  628  629  630  631  632  633\n",
      "  634  635  636  637  638  639  640  641  642  643  644  645  646  647  648  649  650  651  652  653  654  655  656  657  658  659  660  661  662  663  664  665  666  667  668  669  670  671  672  673  674  675  676  677  678  679  680  681  682  683  684  685  686  687  688  689  690  691  692  693  694  695  696\n",
      "  697  698  699  700  701  702  703  704  705  706  707  708  709  710  711  712  713  714  715  716  717  718  719  720  721  723  724  725  726  727  728  729  730  731  732  733  734  735  736  737  738  739  740  741  742  746  748  750  757  762  765  777  783  793  795  804  809  812  817  819  824  826  831\n",
      "  834  836  837  838  840  845  851  859  884  887  907  913  916  924  932  934  935  942  954  965  966  971  977  981  984  985  988  996 1000 1002 1010 1011 1015 1022 1030 1031 1034 1036 1037 1039 1051 1058 1062 1073 1077 1078 1084 1097 1112 1130]\n",
      "[ 0.3747542  18.43838622 26.00281406 34.24326398 92.75534875] 806 806\n",
      "Distances under 100: [58.80896299  6.85645022 17.56931012 18.38027736  1.57739027  3.86406705 18.76243311 22.61519885 23.69547236  2.85000306 21.8955327   2.8751262  11.95216701 19.37892595 22.8158131   9.62034617 28.25796671 22.82208713  6.72627356 42.82077138 27.78372371  9.63974817 17.11554748 31.86682888 35.29500629 30.27259976\n",
      " 32.22407208 33.04885612 12.76297343 15.97987457 23.54051491 13.66602737 20.83544486 19.6312777  28.61396731 32.06254012 10.65983043 28.50540298 25.49484192 48.58392854 26.2492732  29.38727034 28.35491123 26.07586213 10.59649634 39.81133312 36.78079623 36.77284568 32.24322317 12.37737453 36.10719531 29.02100465\n",
      " 20.74007403 14.40972125 23.37174347 12.78084863 36.89223324 43.86156589 29.59642007 11.55179218 14.27146918 75.35043288 15.13261578 28.93370308 28.21155376 29.17543941 33.25520906 38.37323148 20.37912637 29.72890206 26.57266371 13.43908428 29.71862471 23.81084418 14.6768057   9.00883024 67.10924225 25.21852754\n",
      " 13.15226576  8.05601286 33.6294765  28.60713515 14.86660121 49.62067419 36.86160673 30.9515281  11.78980522 24.1473868  22.59212925 31.80987856 43.39895941 29.3006525  21.32335483 29.30549949 42.08804788 21.8736476  17.63884242 37.48885462 27.84501229 16.0875771   4.9237641  16.57922035 16.5166808  30.92066513\n",
      " 37.04603083 34.90701427 14.24265194 23.49449916 33.15415326 18.32377084 36.23706045 29.03394405 19.46193956 44.97974327 25.0111253  22.82839434  8.29791793 41.78415092 31.7297365  80.91958463 29.77949466 49.60009149 11.90034677 40.72873708 21.59559883 43.80531129 12.68432442 70.31383429 19.66984643  7.36002953\n",
      " 29.90467164 14.64063347 20.41061997 33.88955139 26.65356577 32.30720358 10.00975254 23.89929739 36.27328771 27.64805723 31.91244418 17.04827385 12.63713003 26.04076909  9.693215   27.90190082 12.1290279  25.34968273 49.45475935 29.8905344  22.9069728  22.50529264 10.80292633 32.15780005 10.54414846 23.40377361\n",
      " 20.18890356 12.09510106 47.55085752 32.4047056  23.29137545  9.712121   27.57910277  3.55733606 30.76059607 21.78461447 31.40367414 12.51079871 14.79257167 10.97519249 19.64599184 36.21290398 30.28008062  4.3694776  29.28093048 25.6860493  22.42117121 16.82073306 14.55173909 10.82020512 34.23629199 10.98452968\n",
      " 28.55714773 27.26547881 54.98338492 27.63491673 26.41719342 19.36758206 24.52726584 25.42835028 51.10439872  6.83876982 11.22865151 34.16523465 28.41447045 12.37464017 38.55765482 22.30705199 12.96238126 25.78451368 64.6316214  40.24093237 27.6760842  26.41321442 21.02283514 13.83244756 12.20809422 26.94353959\n",
      " 26.59802166 30.59152641 22.85703484 52.30740986 29.10526653 11.66028038 49.50551979 38.28715901 36.88198029 30.33756027 12.43951647 25.66088686 30.72626783 23.9181315  27.65417587 19.8791902  25.16081679 15.7767236  17.02668645 16.05695289 31.13595396 16.03384261 14.68015814 28.89438838 40.68212706 34.34160085\n",
      " 24.62050171 42.1309914  12.28005003 21.7624369  23.19178481 37.47772057 10.96336237 40.03356894 38.58903967 17.41161016 24.34530859 41.05127922 29.6810355  23.78425183 10.28975015 10.07707147 18.98661888 18.1450915  29.98125512 24.36522628 30.54542052  8.46143337 22.38371219 25.01510489 12.87391024 18.12580041\n",
      " 29.50381561  5.09486707 27.97997464 44.79989638 20.56209182 38.37583026 20.79055898 26.52615281 29.23088195 22.64987125 25.56379266 35.5295308  25.99301563 17.05626222 28.34637658 34.36086048  2.06719547  9.20680024 21.59749674 39.25004202 50.30351014 38.39112714 28.27420061 13.15491477 26.88882384 38.15677742\n",
      " 18.60845996 19.15054716 22.65434842  9.99391815 30.15164482 28.9954532  35.1857449  38.91974893 19.19275287 42.29538515  7.19321132 27.59161924 23.47519494 28.86023886 23.97337729 33.1608304  10.49709441 27.21403821  6.38895271 23.49856211 25.663304   36.38062684 32.93853217 45.60135955 26.27094788 20.25858644\n",
      " 25.78644397 28.5461597  37.47707299 43.76360969 27.15935636 26.11371806 23.41449684 34.22538803 41.20634744 13.83994721 31.31564037 16.12727236 22.24278374 23.22411251 38.31866182 27.3132923  12.15429075 14.40501644 30.71240914 28.71786456  8.00975569 11.65632311 23.77402314 15.63899606 31.74873543 19.53376628\n",
      " 21.9093349  15.83959235 32.87463059 21.31526948 27.29587481 12.16343513 13.44282769 22.75749298 25.87474044 23.7339375  20.31021537 18.65976702 21.23278397 27.51802727 22.50040345 39.63138888 28.31195854 26.56117324 11.73424401 24.63126728 43.20913613 24.55280708 19.77446206 22.22442885 24.99696951 32.49813929\n",
      " 23.23050993 47.89181254 31.8094005  14.42450285 25.59079121 26.00167268 19.75332056 10.90891329 27.77667103 22.08759275  7.80426185 42.63489453 27.5520497  24.80277862 32.9255517  24.59890693 21.73779653 36.19417492 19.89635457 32.0155219  38.97283051 34.10400967  6.55294082 12.87463644 29.29440456 22.95870745\n",
      " 26.73775972 25.72938416 25.68602012 10.75230122 40.7047702  42.53782027 10.59502143 29.31728159 29.98046818 10.9420719  30.26137726 25.79361878 22.15599472 28.75604393 17.89020034 30.89555623 21.50021249 14.48700905 34.45746673 25.8673067  44.25096447 19.59431256 41.46232688 39.3534358  33.71903088 20.70189213\n",
      " 18.18504534 28.62902945 32.68310026 13.86985278 19.72424257 21.26187987 25.88989283 48.58435245 30.96365951 25.01608533 28.76703147 17.10838303 32.8625735  27.6419948  47.38077147 21.9170245  29.25734738 30.73923814 23.30682734 30.14500713 16.82887848 36.23636749 22.29435353 35.14542037 31.45004855 25.2116493\n",
      " 28.78903773 26.14255772 42.59911789 30.35120682 19.66549497 16.39676883 27.59910436 24.30282377 37.26287933 22.18011089 40.9000654  13.58002491 28.9551417  34.36692139 11.48720349 23.02928232 32.65480002 31.76510961 43.69323221 24.17737696  8.72649864 29.81008595 37.09321534 28.05889513 18.81146594 39.43771551\n",
      "  5.11333663 44.51335922 27.36330053 51.08008644 23.93514838 29.51860004 60.49429536 21.64648158 26.97154247 17.04679875 39.06501666 48.26887475 50.08296325 16.91146949 21.03528995 19.3749397  24.20385113 37.44931896  1.46824767  8.01135843 12.89632566 34.74934297 15.5853763  37.59132336 58.95206872 27.45314061\n",
      " 25.54100325 40.93905916 24.03538155 32.64180657 27.55459513 21.63568874 14.46229931 22.86855311 13.68495951  3.38490173 41.42973818 30.83854591 23.02651615 10.45620303 33.24954902 13.03121702 10.36391593 35.81342741 23.71646632 36.31826786 26.7197971  43.0543206  23.62272201 34.22528546 17.89253681 23.87879895\n",
      " 33.18379542 19.1583205  21.66035325 58.71400903 20.94214321 33.07940152 40.05627863 36.02049038 17.42509166 20.16118359 16.1900511  15.04729797 23.31771958 24.27665926 26.94198453 24.82744576 19.47436883 36.36115933 20.72091884 23.17423561 13.58083515 16.52977052 31.42975673 22.94277095 26.04290521 33.89039588\n",
      " 19.86321241 23.69554176 17.84147387 25.20016099 11.37386994 21.95742568 21.40017948 26.65155794 26.87258369 45.88114479 25.91199476 21.10046706 32.64290926 21.7690726  12.73932528 17.59920936 34.44781286 30.31491677  5.15170213 14.27164466 26.54975242 18.70084164 23.89170243 11.78064227 30.6033186  32.00657714\n",
      " 30.53198521 33.49893886 22.16402561 34.34839752 26.96056045 26.86591848 36.48212594 29.23713691  8.51709501 19.0416539  25.5477905  14.89509947 34.24557029 13.06470394 23.17518512 34.74755405 21.31222721 25.16888551 18.5900809  25.52657262 41.9439742  21.68591411 26.52581298 17.35340689 29.01164605 14.70245272\n",
      "  5.34285102  6.20802046 38.79045101 27.49363173 41.59786991 17.86622848  0.885942   26.00395545 28.26459371 30.35506294 12.58675769 41.80743798 33.88814351 42.26205879 40.25224731 12.73483888 42.35072393 23.28803608 11.69035874 38.58627329 20.51939626 25.50697317 31.46075808 22.70031564 13.93837105 24.78993417\n",
      " 20.69718458  9.2050175  20.25052927  7.0963195  26.81148462 36.18470398  8.46547994 38.81436708 25.89471351  6.56491575 28.45363367 21.37602318 24.72227603 17.16409375 27.05566702 18.79188666 10.57910035 40.47763992 32.501357   24.81023706 23.78861246 29.61756575 21.9158838  25.5332375  19.76263536  6.77599064\n",
      " 18.42858391 26.56901087 43.32683459 22.7967629  41.37314209 16.89025518 28.22710676 72.29932332 35.96566589 13.13769931 32.70577428 25.19842157  7.54437258 17.6325734  30.67696689 14.32002184 17.16249107 15.60942917 17.8227213  20.65640811 19.25784127  6.26449974 33.35008489 11.02306862 10.24702552 32.19172358\n",
      " 43.31980443 20.3104669  17.94274449 38.89843278 23.45127015 22.4658405  12.12999999 27.59170927 24.609796   30.09007381  3.32420554 24.68318349 15.92712541 17.50292429 24.9123601  67.61005711 24.54743327 53.22992294 62.14218118 30.13798296 34.5628123  15.43012122 28.53153425 18.02865301 18.16040482 25.5253186\n",
      " 17.33311124 68.06030338 26.0799539   7.32950805  9.84357294 14.37795741 41.5268615  29.14302491 48.85305505 66.84009503 40.44554841 71.78321219 11.09627458 12.2400719  22.63223621 24.42227304 14.06839242 22.31010652 31.57663421 35.28764586 12.79723947 26.77361255 12.05732916 17.43057985 26.01835645  8.31775315\n",
      " 34.26899517 26.10665056 15.06302269  0.3747542  13.71075948 14.35369159 28.52028037  9.80024197 18.46779316 64.1243396  31.77924379 78.1835543  91.1117223  47.14407407 64.75834049 74.69407216 44.47623486 72.57389816 31.26823233 34.15667672 83.07925261 43.61728452 73.95952928 55.84668757 43.60760765 78.26106274\n",
      " 78.85023815 34.82439826 62.33961061 84.85194389 47.84255169 74.53889601 67.68373218 73.77698243 31.40079447 78.87582245 48.33955269 42.25125498 79.19169699 66.2148631  84.41835419 75.88995271 89.38522645 29.45526562 83.05099522 88.22252888 39.02835675 76.18723827 32.48296284 40.60246397 38.85892945 89.28288976\n",
      " 77.68809916 34.23634508 76.25237436 80.01524448 92.75534875 43.82511165 91.30679437 36.2522021  38.22884344 23.91087898 44.81055229 71.66508361 44.84743249 34.15885236 89.69807607 72.02202835 47.16150525 65.82342904 76.47693301 66.65031344 40.17466484 42.23912309 62.33526361 61.89902715 84.62795618 86.95969094]\n",
      "True False\n",
      "D:\\CaseStudies\\CornerDigitization\\FineAdjustment\\\\registration/48201C0860K.tif\n",
      "[[ 1.00218509e+00  3.42886021e-04  2.20489201e+04]\n",
      " [-3.42886021e-04  1.00218509e+00 -1.11704043e+04]\n",
      " [ 0.00000000e+00  0.00000000e+00  1.00000000e+00]]\n",
      "[[ 8.75715194e-01 -7.20919735e-04 -1.06258947e+07]\n",
      " [-1.98181425e-03 -8.76926755e-01  3.47203557e+06]\n",
      " [ 0.00000000e+00  0.00000000e+00  1.00000000e+00]]\n",
      "D:\\CaseStudies\\CornerDigitization\\FineAdjustment\\\\referencing\\48201C0865J.tif\n",
      "1356 / 4905\n",
      "Enter Matching\n"
     ]
    },
    {
     "data": {
      "application/vnd.jupyter.widget-view+json": {
       "model_id": "9f0bf7b6ea824d0b9462abc387617920",
       "version_major": 2,
       "version_minor": 0
      },
      "text/plain": [
       "Calculating Descriptors:   0%|          | 0/4315 [00:00<?, ?it/s]"
      ]
     },
     "metadata": {},
     "output_type": "display_data"
    },
    {
     "data": {
      "application/vnd.jupyter.widget-view+json": {
       "model_id": "e54b3824b8b5412e904c865b7e2d41cb",
       "version_major": 2,
       "version_minor": 0
      },
      "text/plain": [
       "Calculating Descriptors:   0%|          | 0/1352 [00:00<?, ?it/s]"
      ]
     },
     "metadata": {},
     "output_type": "display_data"
    },
    {
     "data": {
      "application/vnd.jupyter.widget-view+json": {
       "model_id": "b22a2684862b4470b690ca96e01cf843",
       "version_major": 2,
       "version_minor": 0
      },
      "text/plain": [
       "Descriptor Matching (Flipped):   0%|          | 0/1352 [00:00<?, ?it/s]"
      ]
     },
     "metadata": {},
     "output_type": "display_data"
    },
    {
     "name": "stdout",
     "output_type": "stream",
     "text": [
      "982\n",
      "IDX 981\n",
      "DISTNACE 726\n",
      "DBSCAN 981\n",
      "INTERSECT 726\n",
      "726\n",
      "[  5   8  10  11  12  13  14  15  16  17  18  19  20  21  22  23  24  25  26  27  28  31  33  34  35  36  38  39  41  42  43  44  45  47  48  49  50  51  52  53  54  56  57  58  59  60  61  62  63  64  65  66  67  68  69  71  74  75  76  80  81  82  83  84  85  86  87  88  90  91  93  94  95  97  98  99 100 101 102\n",
      " 105 106 107 108 109 110 111 112 113 114 115 118 119 121 122 123 124 125 127 128 129 130 131 132 133 135 136 138 139 140 142 143 144 145 146 147 148 149 151 152 153 154 155 157 158 160 162 164 165 166 167 168 169 170 171 172 174 175 176 177 178 179 180 181 182 183 184 185 186 187 188 189 190 191 192 193 194 195 196\n",
      " 198 199 200 202 204 205 206 207 209 211 212 213 214 215 217 218 219 220 221 223 224 225 226 227 228 229 230 231 233 234 235 236 237 238 239 240 241 242 243 244 245 246 247 248 249 250 251 252 253 254 255 256 257 258 259 260 262 263 264 265 266 267 268 269 270 271 272 273 274 275 276 277 278 279 280 281 282 283 285\n",
      " 286 287 288 289 290 291 293 294 295 296 297 298 299 300 301 302 303 304 306 307 308 309 311 312 313 316 317 318 319 320 321 322 323 324 325 326 327 329 331 332 333 334 335 336 337 338 339 340 341 343 346 347 348 350 352 354 355 356 357 358 359 360 361 363 364 365 366 367 368 369 371 372 373 374 375 376 377 378 379\n",
      " 380 383 384 385 386 387 388 389 390 393 394 395 397 398 400 402 403 405 406 408 410 411 412 413 414 415 416 417 418 419 420 421 422 424 425 426 427 428 429 430 431 432 435 436 437 439 440 441 442 443 444 445 446 448 449 450 452 453 454 456 457 458 459 460 462 463 464 465 467 468 469 470 471 472 473 474 475 477 479\n",
      " 480 482 484 485 486 487 488 489 490 491 492 493 494 496 497 498 500 501 502 503 504 505 507 508 509 510 511 512 513 514 515 516 517 518 520 521 522 523 524 525 527 528 529 530 531 532 533 535 536 537 539 540 541 542 543 544 545 546 547 548 549 550 551 552 553 554 555 556 557 558 559 560 561 562 565 566 567 568 569\n",
      " 571 572 573 574 575 576 577 578 579 580 581 582 583 584 585 586 587 588 589 590 592 593 594 595 596 599 600 601 602 604 605 606 607 608 609 611 614 615 617 618 619 620 621 622 624 626 627 628 629 630 631 632 633 634 635 636 637 639 644 645 647 648 649 651 652 654 655 656 657 658 659 660 663 665 666 667 669 672 674\n",
      " 675 676 677 678 679 680 681 682 683 684 687 688 689 690 691 692 694 695 696 698 699 702 703 704 705 706 707 708 709 710 711 713 714 715 717 718 719 720 721 723 724 725 726 727 728 729 730 731 732 733 735 736 737 738 739 740 741 743 744 747 748 750 752 753 754 756 757 758 759 761 763 764 765 766 768 769 771 772 774\n",
      " 775 776 777 778 779 780 781 782 783 784 785 786 787 790 792 793 794 795 796 797 800 801 803 805 806 807 809 812 813 814 816 817 820 821 822 825 826 831 833 834 835 836 843 844 845 849 850 851 854 857 858 859 865 866 868 871 874 876 878 883 885 890 893 895 897 898 899 905 906 907 911 914 917 918 928 929 938 940 942\n",
      " 946 947 948 957 958 959 960 965 969 972 973 974 976 977 981]\n",
      "[ 0.78057288  9.38441459 13.01323877 17.75281536 41.40104692] 726 726\n",
      "Distances under 100: [15.79711651  9.99761693 35.58265618  8.24992113 13.69630501  8.9656282   2.40521817 16.5120546  12.46912522 26.42212943 16.47761213 10.61952806 12.84600223 12.23924457 14.47779411 20.72754379 14.29437024  2.60846734 10.44845439  6.82580561 13.1070274   2.14992009 19.92448061  1.17706692 18.24317226 11.66426856\n",
      " 10.44880124 17.33265007 14.27825054  7.24455781  7.60829375  7.55954492 20.79113963 20.56408821 23.55233921 14.30716013 11.06549452 11.89769352 22.36437549  9.22446539 13.71842155 12.50432727  8.31588863 19.54710928 16.21238685 25.3055073  22.64714587 26.3732312  14.74639351  8.31349301  6.48221584 14.35559341\n",
      "  8.55880037 23.80720882  6.95148064  7.10078065 15.94222452 39.97161018 30.17663624  8.40922301 12.02431533 22.53349759 12.98632505  9.10583573 13.22101415  2.92392293  6.96963414 15.28772252 10.12166917  7.14715549 20.32416142  7.96233706 25.90663302  9.72047555  8.1437473  16.65619952 12.82972109 15.53603647\n",
      "  6.24672296  6.97065937 20.47904376 15.81947367  6.25535317 10.93943672 12.47089137  5.19116718  7.2527425  13.38031336  4.23714388 19.91840402 14.66875444 16.13499658 10.40834316 12.269592   11.01423107 10.51715809 14.0880613   8.7123531  15.81103908 29.83733289 10.86272953 26.57059416 16.51927657 15.83395991\n",
      "  7.7317943  21.03104447 18.16682878 15.50911002 19.91385014 14.60289033 16.40282978 14.60945454  7.84382395  5.7076101  15.15628246 14.02483394 15.86325575 22.18719466 13.83641679 12.0519246   8.88468615  3.41220954 23.45190211 14.87395906 24.00354751  7.79987759 16.02184781 10.26423673 12.34231388 11.83516102\n",
      " 16.72664897 12.37168031 13.28586285  6.42922496 24.28644262 15.68798506 22.64564823 22.17643431 11.65925568 16.851414   11.58414838 10.3402822   9.79428772  7.17975136  9.46844145 13.5158414  19.4436815   3.00204446  9.11281767  8.96526565 11.76650431 15.48818162  3.48489375 11.02819061 11.53631911 14.71124152\n",
      " 10.68912422 11.23584002  8.29836246  8.20754268  6.79701215 21.55607866 15.13819337 12.56247472 16.08254455 11.57285412 11.77826648  6.19750532 14.15528314 21.30556798  6.81028244 10.06113518 16.213576    9.74084813 17.89192033 18.48683259 11.86213253  9.92473952  9.77443121  9.81486695 13.28147197 41.40104692\n",
      "  5.04935891 14.99164218 10.86737447 14.85107346 13.87496894 12.38438267 11.90763102 10.27855655 14.0699611   6.0362423   9.80287479 16.43675006 12.43414335 20.7338493   6.76957731 11.78849763 18.90415627 10.40772718 14.69509793 14.95364264 21.54981884 10.039094   11.09991602 11.53143199 15.58003167 14.86257641\n",
      "  7.67660244 12.42101014  7.04135384 11.8055189   4.98075717  9.77358349 12.9682319  18.19038787 12.16863269 15.45229396  6.74155806 13.84136004 15.9561646  12.85736828  9.32790265  4.93687943 17.70210393 11.26018902 12.63053086 17.68369395 24.32434879 19.49924269  7.60602872 11.93108386 11.9866986   9.69486385\n",
      " 19.15481454 12.67225644 16.31568117  3.94089349 15.37539088 15.75203603 10.32873706 16.85997541 11.97328162 12.68913943 26.2374585  25.26820448 17.91673584  2.83344942 11.2841573  10.48324098 20.03156662 11.78698549 16.77083505 16.01810884  8.51611211  5.58169897 12.84850654 19.36356355 11.6402615  15.0000038\n",
      "  5.34888905 18.21170513 17.76971917 22.52248958 17.2319001  13.23770079 12.2372329  11.05102611 17.86587432 19.70960363 14.20959966 10.18868085  2.18978551 13.24019768 14.67290927 20.96099422  7.1952153   9.50629044  9.70084058  6.98898766 23.92525032  7.09514446 27.70004336  9.58290607  6.81827991 14.69663786\n",
      " 11.91363457 16.36242825 18.03960822 14.49336072 11.42362213 11.97059106  2.56223201 16.05050019 13.09671037 11.65880892  9.19022962 12.24629862 11.92543356 35.73799446  9.0153871  16.87477446 12.89318324  6.65432892 20.04805055 12.25854641 18.74678961 12.46145495 15.28489575 18.96288872 17.66357556 18.68505756\n",
      " 18.56435251 10.98061841 14.98152563 12.88431233 18.41558594 18.58427689 11.34109257  6.20054486 20.83564858 15.36110334 15.63225446  8.07766838 15.889143   15.46058947  7.12387164 20.50219345 11.64599269  8.49773328 30.62735064 10.90333599 21.87787291 16.90654461  4.79578703 11.18056623  8.91999458 14.29523702\n",
      "  3.20048707 19.28513131 30.28190066 10.96514564 11.40213873 16.45646612 16.04862271  5.67109832 16.05136308  2.72536111  5.44663365 11.10730562 17.60334996  9.71245947  2.72533605  2.8025126  25.79017453 10.0876621   1.93233282 10.29229827 15.14481173  3.35423179 13.08674575  1.79610468 15.11237859  8.87711023\n",
      " 18.05348978  4.92876312 10.75756523 19.58601061 21.42894452 14.25215899  7.08416519 22.70614065 12.54084805 14.35868263  2.99270013  2.87768357 18.35087733  7.92619281  9.98007122 24.26359946 14.0013134  11.81100344  7.80083495 11.23955067  9.75634091 14.03960998 13.93364045  5.41535691 24.76398617 16.12652015\n",
      " 26.10958053  7.33418536  2.52131898 17.16701608 17.92016232  4.8972901  12.27654499  6.40291176  8.23057266  6.14697648  1.27700025  8.97980413 19.68559712 11.46406051  9.46562813 16.00391443  7.50963994 13.97075734 12.89989003 17.70098777  7.46124134  4.4366451  27.42757345 40.74826326 12.31449453 27.96752289\n",
      "  1.82834107 15.09864849  8.20530189  9.69268586 17.94745371 24.04257662 11.72030214  6.25012447 10.90533786 10.9985951  15.95230834  9.80275019  6.16992241 12.81038922 18.34144665 16.0330425   6.32832023  6.22234851 10.22545032 10.97820691 14.27572829 14.81740475 13.75336995  3.35838784 29.26731707 13.03332401\n",
      "  6.28445353 25.34145027 10.32685877  1.21412971 10.5483687  14.45026967  3.90863585  8.11814353 11.96366362 20.46049552 20.3994306  16.66483607  5.57418529  1.99022147 12.6375337   7.75393699 18.03198    16.75656179 14.98708967  9.15018242  4.9183499  13.83172458 15.21067301  2.31250162 18.46663288 25.41282725\n",
      " 21.28029919 14.22985271 11.51289268  7.14283354  7.56539412 21.93599226  4.36692552  7.14389007 12.98625981 15.72278115 10.19336051  6.27265476 15.06677601 16.68353675 13.4614633  12.68193297 10.24258624 14.71537966 10.01204187 13.91577366 20.54752604  8.49675384  8.10998525 24.94347991 24.62719531 11.46518503\n",
      " 17.46316285  7.49489626 10.17603548 11.675759    8.90335722  9.5346139  16.96767854  8.3184263  26.72155807 12.97706744  9.38699366 10.56918931 19.90266452 17.03865627 11.01150737 16.80125155 25.00234397  7.09159313 12.38847389  8.56993933 18.62754944  8.66296395 11.78502958 18.439451   18.99073564  5.73060446\n",
      " 14.3782216  13.04809761 15.47152153  8.29345804 12.89459882  0.78057288  9.50565727 23.64657569 14.60963133 31.23543762  6.86412733 21.33803204 19.37816404 11.45671205 19.87972025  8.57161417 12.08197979 13.91714631 23.789255   11.98809872 11.13786675  3.55496047  8.85484046 20.70686412 10.49653722 15.91300408\n",
      " 12.91449607 14.82682816 22.37832944  5.3180278  15.58183003 17.87660234  7.98430041 12.99315353 19.06755063  9.30498534 14.13955334 18.20501763 14.03461655  6.40902364  5.51988179 20.62046056  8.61090373 19.02076766 13.07515483 21.43967178 10.74727464 11.42612369  6.52863489 17.4789487   6.14400761 12.63158906\n",
      " 11.31642173 25.97144055 12.19958906 23.01895609 14.02752611 15.37990692 13.23870869  6.48792584  6.30386092 19.39025119 19.0055201  25.70716744 19.83352638  1.06378622 14.58786253 21.84181268 14.15340998 23.74077918  2.32848954  8.87447108 12.18117827 20.84083252 13.15099613 18.96095235 10.51052311 14.05495664\n",
      " 18.75084664 11.53140388 23.46337952 20.60340211 14.5192492  13.04539623  9.38355491 22.95058807 17.84514101  9.66290687 25.58520836 14.6479088  18.78627532  7.26534487  4.97772646  9.60935567 23.74849481 12.22588487  4.75313969  3.98616828 20.03146189 14.17013614 15.45413621 14.07865084 24.75039886 11.35687835\n",
      "  4.87876278 10.56977984 14.81207386 15.25053034 17.97970087 20.29036419 12.16548464 22.90033893 15.76842754 25.72413286 12.01256817 27.93020233 23.29657741 24.37710603 20.09472428  7.43778362 17.11286702 12.14699238 16.14766534 16.8330728  14.12025113 15.39571405  9.80158707 13.58594559 17.41663245 19.03351557\n",
      " 27.66999445  4.90478163 19.87916898 16.34078875  8.75108473 21.61383117  7.07568571 26.94688571  4.00018888  9.05735513  2.82944798  5.19309772 31.2786944   9.31050097  8.88453302 21.99707312 10.48117172 12.32536131 36.12340938  9.80217623 10.03573687 15.88479183 28.41754647  8.71391418  9.21659926 31.35818671\n",
      " 16.06159321 38.56233671 18.25381406  5.4917189  25.99009346 38.49327149 11.30202224 17.0727984  16.50182603 25.76274309 20.28360441 12.91232953 37.09158534  9.43290538  7.14807311 21.31727011 30.7374438  18.32253164 16.79628157 16.41357143 11.40857639 11.8376944  17.01886565  7.05221335 12.13484823  9.04661277\n",
      " 16.62761053 32.51299579 13.85026534 41.13291252 33.05352014 13.05788613 25.78962272 40.44680373 21.43365007 17.80631677 27.80015363 22.72952528 32.774222   13.84987034 15.04526753 10.5480517  22.31163337 13.61936062  8.32890211  3.33699233  5.93020158 18.0555108  14.64492325  5.65084495]\n",
      "Enter Matching\n"
     ]
    },
    {
     "data": {
      "application/vnd.jupyter.widget-view+json": {
       "model_id": "3b603cc204704a199b20ea8908311aeb",
       "version_major": 2,
       "version_minor": 0
      },
      "text/plain": [
       "Descriptor Matching (Flipped):   0%|          | 0/1352 [00:00<?, ?it/s]"
      ]
     },
     "metadata": {},
     "output_type": "display_data"
    },
    {
     "name": "stdout",
     "output_type": "stream",
     "text": [
      "Results Update: 726 995 821\n",
      "821\n",
      "IDX 820\n",
      "DISTNACE 684\n",
      "DBSCAN 820\n",
      "INTERSECT 684\n",
      "685\n",
      "[  0   1   2   3   4   5   7   8   9  10  11  12  13  14  15  16  17  18  19  20  21  22  23  24  25  26  27  28  29  30  31  32  33  34  35  36  37  38  39  40  41  42  43  44  45  46  47  48  50  51  52  53  54  55  56  57  58  59  60  61  62  64  66  67  68  69  70  71  72  73  74  75  76  77  78  79  80  81  82\n",
      "  83  84  85  86  87  88  89  90  91  92  93  94  95  96  98  99 100 101 102 103 104 105 106 107 108 109 110 111 112 113 114 115 116 117 118 119 120 121 122 123 124 125 126 127 128 129 130 131 132 133 134 136 137 138 139 140 141 142 143 144 145 146 147 148 149 150 151 152 154 155 156 157 158 159 160 161 162 163 164\n",
      " 165 166 167 169 170 171 172 173 174 175 176 177 178 179 182 183 184 185 186 187 188 189 190 191 192 194 195 196 197 198 199 200 201 203 204 205 207 208 209 210 211 212 213 214 215 216 217 218 219 220 221 222 223 224 225 226 227 228 229 230 231 232 233 234 235 236 237 238 239 240 241 242 243 245 246 247 248 249 250\n",
      " 251 252 253 254 255 256 257 258 259 260 261 263 264 265 267 268 269 270 271 272 273 274 275 276 277 278 279 280 281 282 283 284 285 286 287 288 289 290 292 293 294 295 296 297 298 299 300 301 302 303 304 305 306 307 308 309 310 311 312 313 314 315 316 317 318 319 320 321 322 323 324 325 326 327 328 329 330 331 332\n",
      " 333 334 335 336 337 338 339 340 341 342 343 344 345 346 347 348 349 350 351 352 353 354 355 356 357 358 359 360 361 362 363 364 365 366 367 368 369 370 371 372 373 374 375 376 378 379 380 381 382 383 384 385 386 387 388 389 390 391 392 393 394 395 396 397 398 399 400 401 402 403 404 405 406 407 408 409 410 411 412\n",
      " 413 414 415 416 417 418 419 420 421 422 423 424 425 426 427 428 429 430 431 432 433 434 435 436 437 438 439 440 441 442 443 445 446 447 448 449 450 451 452 453 454 455 456 457 458 459 460 461 462 463 464 465 466 467 468 469 470 471 472 473 474 475 476 477 478 479 480 481 482 483 484 485 486 487 488 489 490 491 492\n",
      " 493 495 496 497 498 499 500 501 502 503 504 505 506 507 508 509 510 511 512 513 514 515 516 517 518 520 521 522 523 524 525 526 527 528 529 530 531 532 533 534 535 536 537 538 539 540 541 542 543 544 545 546 547 548 549 550 551 552 553 554 555 556 557 558 559 560 561 562 563 564 565 566 567 568 569 570 571 572 573\n",
      " 574 575 576 577 578 579 580 581 582 583 584 585 586 587 588 589 590 591 592 593 594 595 596 597 598 599 600 601 602 603 604 605 606 607 608 609 610 611 612 613 614 616 617 618 619 620 621 622 623 624 625 626 627 628 629 630 631 632 633 634 635 637 638 639 640 641 642 644 645 646 647 648 649 650 651 652 653 654 656\n",
      " 657 658 659 660 661 662 663 664 665 666 667 668 669 671 672 674 675 676 677 678 680 681 682 684 685 686 687 688 689 690 691 692 693 694 695 696 697 698 699 700 701 702 703 704 705 709 729 732 761 762 775 788 813]\n",
      "[ 0.29738981  7.50915593 11.60319042 17.39023963 39.66532145] 685 685\n",
      "Distances under 100: [13.01043307  7.79574134 31.98627168  8.41827442 10.34025979  5.34403917 13.00959741 10.55962009 26.77032912 14.6321213   7.77730109 13.28307059  8.74368815 11.60319042 20.6379289  11.34524958  2.82631354  7.58554455  3.59755715 11.35266943 19.83261121 17.07476454  2.25165706 30.02094232  8.62577135  8.35322402\n",
      " 17.11139977 11.51810318  3.091412    4.35274176  5.54058979 17.85465308 20.00400414 21.89093717 10.18931973  7.38219187  9.626848   22.92603068  5.80510434  9.34806126  8.47756174  5.52125559 15.41781175 13.81714756 23.51058052 18.09243483 23.91782701 11.10781025  6.58582319 10.11110326  4.85858808 20.84837904\n",
      " 36.98607188  4.29335345 13.02650064 38.01537649 28.27091007  4.4307983   7.86904019 29.62248367 14.54817053 15.02331784  4.20089146 13.75250176  6.6832828   8.26505449 18.24703957  8.54933715 23.10947526  5.96680019  8.8897906  15.1720675  10.55860109 10.57557384  4.56120648  4.85890195 16.73239157 13.45586171\n",
      "  2.14490091  8.3401547   8.08007352  2.24152705  5.36377415  8.52670653  1.55384763 17.88377976 10.77141624 13.29918693  5.49636398  9.84250165  8.84950374  7.71543818 15.38308422 12.76342636 31.28792078  8.3532061  26.7721898  12.53971566 12.6483406   6.45424922 18.41937679 14.61047518 12.50213046 18.59729384\n",
      " 14.28334209 14.50757749 10.68682239  5.59063803  1.09114131 13.72097748 10.15153155 22.52315502 20.0648477  10.64695768  9.07623264  5.02554615  2.26383974 19.32199522 12.21054688 23.95736141  3.03522771 10.20938459  6.50721931  8.20553649 31.5510379  16.44958513 13.72120059 10.08920212  5.13155742 24.29359698\n",
      " 22.32540153 23.68932959 24.43068794 13.55107766  8.98831772  5.57385151 11.70750524  3.39452372 13.30830214 13.34914896 17.22193053  1.83576851  9.6620179   6.70215634  9.56723137 11.91005107  4.24192811 20.6279834  11.1367191  11.2923541   8.52077211  9.27543239  6.47185907  3.50176843 17.98715692 13.95619131\n",
      "  9.21443543 15.25848735  8.55137651  9.14602763  3.60824891 19.40706553  3.38154101  9.42951451 13.08081561  9.08932188 19.55515225 14.3018901   8.65449604  7.23242013  6.4989247   6.15440456  4.3264437  12.50383179  9.45320448 13.22465425 11.67113959  8.77950185 10.43322348  7.29129814 10.95017358  8.65032021\n",
      "  7.73385318  9.35064265 18.90546132  5.50921377 12.97967557 17.55062188  7.27341421 14.53280485 12.12502006  7.25794266  6.12526598  8.13169627 12.413795    6.65764711  7.74592187 36.96277539 10.15561347  1.68905945  7.29315352 11.68733583 17.36233018  7.12247501 11.70045635 10.89014303 12.13902366 15.91756111\n",
      " 21.16933301  4.82380327  0.73469634 16.96358579  7.17865404 10.06348574 13.36908087 29.16640072 19.16687601  5.58959139 10.48513759  9.15860895  7.50915593 14.19387256 10.64141222 14.21281225  2.26982284 13.7138737  11.51511124  9.40301451 14.11555952  8.35410808  9.56756899 25.76768424 16.02859878 31.14329958\n",
      "  8.24874459  8.1278678  17.79758475  9.60890124 17.90492669 15.01271435  6.30963379  2.95591051 29.9895373  17.1615558  11.28242403 12.27411495  1.68858315 18.85499839 19.73680092 16.3996252  10.02616579  7.92265425 14.82349433 13.24308476 13.02668152  8.45807673  0.29738981 12.42791744 10.41705839 18.96310617\n",
      "  3.50602339  4.7099164  10.32073663  3.35520422 22.19703277  4.99557559 24.38542628 10.14822164  3.35014284 11.0268793  29.58927641 16.09796232 13.69942157 10.87947309  8.59868531  5.80036808 12.38225229 11.97863864 11.49777564  8.6358326  10.09676174  9.79972318 33.06851601 34.8655861  16.12976778 10.92504596\n",
      "  4.31990924 18.53297501  9.38895824 15.34230766 10.4092006  13.19415169 18.52103688 15.11222526 19.24324453 16.58323762  7.33010415 10.02194592  8.14715264 14.80035087 17.65696995 11.32279006 22.17578495 21.05000279 13.31308705 11.17762454 11.72052787 15.25577767 19.49425069  5.3579848  18.8089006   9.83801569\n",
      "  4.66294896 29.6680453  28.24109497 20.84688948 17.39023963  9.10371534  7.15266591 10.86817404 10.98356457  3.28001724 18.4419682  28.88685943 12.17083034  6.5321291  15.6294563  11.64229331  2.93326855 15.3652387   2.46095702  5.69829721 13.39478673 13.85209536 12.50934868  1.46581452  5.64213717 25.51566722\n",
      "  6.4583597   2.38140504  7.06095338 11.71830878  1.5471128  11.05633761  3.21655523 17.11340471  7.74061865 16.89035     1.3075464   6.65116329 16.86617554 19.26402181 12.96256773 24.50577073 17.76929896  9.18828857 13.2567903   5.74626109  5.53244585 17.93108709 11.42878614 24.78119402 10.58330721  8.44846053\n",
      "  3.56797606  8.8221961   4.72468493 11.45970892 10.28274131  6.54047605 24.1786847  13.76879789 23.5608718   3.3498602   3.66976098 19.36065579 20.46644386  6.49167754 14.43435604  2.27229785 10.75406585  5.20270293  2.38707719  8.80244536 18.28101699  8.01202211  7.12960442 17.9206222   2.79291471 11.39350515\n",
      "  9.30499228 16.48395989  4.93648036  3.51519521 22.15765267  4.73450807 10.0029616  26.61202061  5.52468435 12.67599999  8.83933128 10.99154044 12.59453694 22.34050527 15.22693786  2.04000261  7.49063578  8.30263381 17.57290567 12.02746344  3.99604525 10.19594324 16.1544618  29.58535912  6.0134234   4.48555132\n",
      " 12.31398116 11.96923777 13.58992739 30.89416999 12.67162459  3.41055823 27.17515903  9.35962654  7.99817272 23.38828272  3.47611331  5.872068    8.40285778  2.86379305  2.97834786  8.61328076 16.69250546 20.26148321 18.59314543  2.28516575  4.29834496 14.47134864  3.33754919 16.44270702 11.61411589 14.99606146\n",
      "  3.00126359 14.78625554 12.6858763   1.48293265 17.13492319 23.45217812 20.29751211  9.92891013 12.30286398  8.18966582  2.97007669 18.70519955  4.98991908 35.94726813 11.21950931 14.21631347  7.79451999  1.24494643 30.25712137 18.42256828 10.03694703  8.87732265 14.60994142 14.62337286  9.48225877 12.52776948\n",
      " 17.80316767 21.01638883  8.30442369 24.81711618 23.50536145  8.46437643 16.78631933 10.1585594   8.04304977  6.87052098  6.3359077  15.35799365  9.4090955  13.78193855  9.8862879   6.78408046 19.39330784 13.79782201  5.0172277  15.8964223  24.6602519   6.54065099 11.55964419  5.32184358 19.7760423   4.19361957\n",
      "  9.89905302 19.57358518 18.19564967  5.51061394 20.92108386 11.19869215  6.8429171  11.95158853  3.08524744  5.58388523 24.37145521 15.77459462 30.86020355  1.51338224 17.36606583 17.66387254  8.99735892 15.16698234  5.96061324  7.73988033 11.84913072 23.62019877 13.0600837  11.97696238  2.23993052 10.29455318\n",
      " 18.46634316  8.01476896 11.53415713 28.10240537 12.24976294 20.67638702  3.45946821 11.01132056 17.90537345  8.86827793 12.0787298  19.28828999  6.76282622 36.00279083 16.91354401 17.71568714  3.97638116  4.43679132 19.66016874  6.40334211 18.63446414  8.79607978 21.25096175  5.56477266  8.1293079  11.65498286\n",
      " 17.46338808  6.01333213 11.87053024 13.03831232 24.28589917 13.69665521 21.29212988 12.07706725 17.27500058 15.95409223 10.64085655  3.40758861 18.46236294 18.02925381 25.57111277 19.40183107  5.11389327 30.27834705 20.58791691 10.47260498 16.41901617  7.21168858  7.05323138  9.73109866 20.48193984 11.03454185\n",
      " 14.30731391 10.88182127 15.8544306  16.89472822 11.91918109 31.92536149 19.19305216 16.29460728  8.32586391  7.37620336 22.11995266 18.98014605  7.03760049 25.19670209 10.51359607 18.09211284  3.62261475  1.73110275 12.40223661 27.28840362 18.77160186 31.15652169 21.99175429  9.18166811 15.07958106 16.09525137\n",
      " 27.37938727  7.71955814  8.75461526  6.82250834 12.14751983 14.63505751 17.64702062 20.25373568  9.41043451 21.49623228 14.54443265  7.85577968 26.50610375 23.08834394 20.68993134 18.07248689 12.8529788  13.05017428 15.19697371 15.32618746  8.96666035 26.37932404 12.72298203 15.09030967 16.14733506 37.16605107\n",
      "  2.10010151 18.81319391 14.45319387  5.07381168  5.18127667 25.50320675  1.06234637  5.82866838  3.26444326 33.82917023  7.61914755  5.82954081 22.34740481 10.21109218 12.13442713  7.31250148 14.08295891 31.51617929  9.49699173 14.47882231 19.05665894  5.59355354 21.36693932  9.58363657 15.99295366 20.62505114\n",
      "  7.86919188 24.15870856  6.92636528  4.84074222 17.45648434 16.83533618 14.38658352 16.0450105  34.31587024 17.70609871  4.48593753 11.16309309  7.40330942 13.88051398 13.74626696  9.58613097 23.23546499 32.05540314 15.5510138   6.15253177  9.94899272  6.02118805  4.64883925  3.08244274 15.33805805 14.24876592\n",
      "  7.06742483 39.66532145 18.40941387 34.66014236 25.07666432 36.41673588 10.73158255 32.73326073  9.86765595]\n",
      "Enter Matching\n"
     ]
    },
    {
     "data": {
      "application/vnd.jupyter.widget-view+json": {
       "model_id": "8f53eed3c1fc490f962736637c6d6482",
       "version_major": 2,
       "version_minor": 0
      },
      "text/plain": [
       "Descriptor Matching (Flipped):   0%|          | 0/1352 [00:00<?, ?it/s]"
      ]
     },
     "metadata": {},
     "output_type": "display_data"
    },
    {
     "name": "stdout",
     "output_type": "stream",
     "text": [
      "Results Update: 685 993 830\n",
      "830\n",
      "IDX 829\n",
      "DISTNACE 676\n",
      "DBSCAN 829\n",
      "INTERSECT 676\n",
      "677\n",
      "[  0   1   2   3   4   5   6   7   8   9  10  11  12  13  14  15  16  17  18  19  20  21  22  24  25  26  27  28  29  30  31  32  33  34  36  37  38  39  40  41  42  43  44  45  46  47  49  50  51  52  53  54  55  56  57  58  59  60  61  63  64  65  66  67  68  69  70  71  73  74  75  76  77  78  79  80  81  82  83\n",
      "  84  85  86  87  88  89  90  91  92  93  94  95  96  97  98  99 100 101 103 104 105 106 107 108 109 110 111 112 113 114 115 116 117 118 119 120 121 122 123 124 125 126 127 128 129 130 131 132 133 134 135 136 137 138 139 140 141 142 143 144 145 146 147 148 149 150 151 152 153 154 155 156 157 158 159 160 161 162 163\n",
      " 164 165 166 167 168 169 170 171 172 173 174 175 176 177 178 180 181 182 183 184 185 186 187 188 189 190 191 192 193 194 195 196 197 198 199 200 201 202 203 204 205 206 207 208 209 210 211 212 214 215 216 217 218 219 221 222 223 224 225 226 227 228 229 230 231 232 233 234 235 236 237 238 239 240 241 243 244 245 247\n",
      " 248 249 250 252 253 254 255 256 257 258 259 260 261 262 263 264 265 266 267 268 269 270 271 272 273 274 275 276 277 278 279 280 281 282 284 285 286 287 288 289 290 291 293 294 295 296 297 298 299 300 301 302 303 304 305 306 307 308 310 311 312 314 315 316 317 318 319 320 321 322 323 324 325 326 327 328 329 330 331\n",
      " 332 333 334 335 336 337 338 339 340 342 343 344 345 346 347 348 349 350 351 352 353 354 355 356 357 358 359 360 361 362 363 364 365 366 367 368 369 370 371 372 373 374 375 376 377 378 379 380 381 382 383 384 385 386 387 388 389 390 391 392 393 394 395 396 397 398 399 400 401 402 403 404 405 406 407 408 409 410 411\n",
      " 412 413 414 415 416 417 418 419 420 421 422 423 424 425 426 427 428 429 430 431 432 433 434 435 436 437 438 439 440 441 442 443 444 445 446 447 448 449 450 451 452 453 454 455 456 457 458 459 460 461 462 463 464 465 467 468 469 470 471 472 473 474 475 476 477 478 479 480 481 482 483 484 485 486 487 488 489 490 491\n",
      " 492 493 494 495 496 497 498 499 500 501 502 503 504 505 507 508 509 510 511 512 513 514 515 516 517 518 519 520 521 522 523 524 525 526 527 528 529 530 531 532 533 535 536 537 538 539 540 541 542 543 544 545 546 547 548 549 550 551 552 553 554 555 556 557 558 559 560 561 562 563 564 565 566 567 568 569 570 571 572\n",
      " 573 574 575 576 577 578 580 581 582 583 584 585 586 587 589 590 591 592 593 594 595 596 597 598 599 600 601 602 603 604 605 606 607 608 609 610 611 612 613 614 615 616 617 618 620 621 622 623 624 625 626 627 628 629 630 631 632 634 635 636 637 638 639 640 641 642 643 644 645 646 647 648 649 650 651 652 653 654 655\n",
      " 656 657 658 659 661 662 663 664 665 666 667 668 669 670 671 672 673 674 675 677 678 679 680 681 682 683 684 685 687 703 704 707 710 713 726 736 739 740 769 774 777 799 801 808 826]\n",
      "[ 0.92363162 12.24966158 17.36316746 23.45342709 57.97146451] 677 677\n",
      "Distances under 100: [22.8013284  17.72998018 30.50864176 13.85847971  9.64276925 14.48969103 23.368921   18.60754224 35.9856508  20.88322618 14.34087975 15.32696871 13.43582458 17.22613042 31.02008669 17.47559837  7.4826754  16.75378915 10.66425505 18.36642887 16.65728852 24.32929134  8.08840561 16.04086424 18.40903321 16.56353048\n",
      " 19.495814   11.416299   13.92619463 15.49858007 24.91499809 30.65123276 29.6528102  18.62904119 15.76105334 31.79353862 14.69262394 16.14840021 15.81799271 12.67960002 17.94487255 21.65234617 31.59355758 19.66731105 27.93371554 16.15711259 12.81316571  5.9145969  27.00540491 29.22311068  9.93191742 19.96942177\n",
      " 44.80955955 35.74855404 11.97036614 14.34549434 19.98512334 45.53754673 20.12208168 22.27270783 11.60833888 13.50385304 25.66036279 10.04663827 25.75785155 14.13888376 12.07627441 23.88439368 15.25601145  9.0330804  10.26508975 19.48216435 14.22830394  9.74106917 16.29041841  7.84302757  4.63649472 10.47179136\n",
      " 13.88157696  7.91449394 25.97685929 16.75130111 17.71811518  4.87739307 19.28234248 18.14123622 13.0521453  17.26409748 19.94666937 30.24372826 17.57699816 37.25092485 19.97238153 19.16462732 11.65967178 23.74140268 24.02657865 25.73638658 20.84228199 21.18377228 13.71172359 11.93015301  3.15986215 19.07428286\n",
      " 16.06415318 46.34538169 22.30745915 16.97200331 15.06636448 10.43324716  6.84748443 19.07382713 17.42214607 34.45702958  6.64757573  7.96548089 13.71414772 13.02614027 25.99164333 25.13885151 18.6191401  16.98128064  9.47564666 35.1416836  33.16483545 25.79876609 17.7463927  18.4543296  10.39067088  8.47219177\n",
      "  8.97989789 11.17782759 16.05689653 16.38452917 25.39756009  7.48602794  8.42536673 15.52425301 19.03450624 19.71003016  4.01544922 15.48353427 15.92302986 13.98117623 16.48508461  8.05493722 14.7663554  10.00595716 23.87357464 22.41521715 53.80994963 21.98751868 15.89124005 18.96118022 10.4815518  27.19318378\n",
      "  5.47550499 12.24488306 18.99752822 10.50934377 17.05781478 14.24616232 13.63845478 17.23835065 15.20027115  8.42706854  6.98194537 19.29807178 12.15427799 21.31304397 13.96190238 17.39952682 17.02474941 19.53855451  3.2804649  15.06269479 13.41256783 27.96549389 10.5684639  15.89893058 27.47307337 12.41406222\n",
      " 23.97551158 15.54291248 12.53291705 10.41403206 14.00324899 18.81724679  9.52822168 12.24966158 28.78463076 18.95064302  9.53235698 15.94745612 18.27513    22.73321105  9.90890057 17.74458223  7.1299581  21.89762229 18.10858725 14.73686019  9.93551223  8.32631076 23.93808088 10.11059657 18.88523479 20.03793291\n",
      " 26.85602251  7.40427355 19.0177111  16.96802684 16.85150214 14.28704019 21.2894291   4.57400586 20.27772209 19.17870942 17.2876925  22.68738116 14.20269662 15.33039712 31.00678651 23.97774717 25.45600277 13.66456931 13.99472962 23.04764421 17.19213463 23.25674659 23.03261506 16.49036123  9.228942   25.59117128\n",
      " 11.55231846 19.71198519 21.27352648 27.21378342 21.66793638 16.18730186 15.23274199 28.90335737 17.75382969 16.64385678 10.20239053 17.73913654 14.10998457 26.47288589 10.29847102  6.75619111 12.44500274  8.47413705 30.08342936  7.43359552 30.06625222 11.67688823 12.24240354 11.36549326 21.64904556 22.71693381\n",
      " 20.26457752 17.32959592 13.37921783  2.50699417 17.05762253 15.30991411 16.82712913 16.56099148 17.51554935 12.4256687  39.73100298 23.45329883 18.95595654  8.32791851 21.18519346 16.28032126 19.21596215 15.55375292 18.3513767  23.40434502 21.49842347 24.47212127 13.06685754 12.92277074 29.83810682 20.02458879\n",
      " 25.5499039  16.97939986 44.79527861 29.79624574 20.38625207 14.64907796  8.22815021 18.15684077 25.77736158 28.67337393 10.25347956  7.55653386 21.27676699 27.15742817 27.06912931  5.75681518 13.40303567 22.6423702  19.57149897  4.7719532  23.45342709 38.05315828 12.64218577 10.26075047 23.52370469 17.36517721\n",
      "  8.39931322 19.31930413  5.2375361   4.06748384 18.01141878 14.80593323 18.27101623 57.97146451  3.68710544 35.51108795 12.09232364  8.48745036 14.21030652  7.70564081 16.78588758  2.41312586 21.25200695 15.48333635 26.40469274  8.45680393 12.31958923 21.84342798 27.67896375 22.69122294 18.84358819 21.90800507\n",
      " 14.99100617 19.61714392 10.81414318  9.54020877 27.46696205 36.49823126 33.44731284 15.84759881 13.47399956  5.49109228 14.29195517  7.86837803 16.01185339 14.20187401 11.23459691 34.26492245 19.54475635 29.10680519  7.21289162  4.18357675 25.11299853 26.11001539  9.24076881 20.12732223  8.32248648 13.14596593\n",
      " 13.58657358  8.22043922  9.60306491 24.89328506 16.06480445 16.31483417 22.69537224  8.12637931 20.29500006 16.19797977 25.05326505  6.90820844  7.1595344  20.70549663  8.98247475 13.1561355  36.04791261  3.71306304 19.87944576  9.48272276 15.70419466 13.4290723  28.38890865 20.75280276  7.60148218 13.8965444\n",
      " 10.05512696 11.51532737 17.36316746  5.42207658 18.67445609 21.8814498  20.88231367 12.06003179 10.6668993  53.26396833 16.90282009 24.20332315 22.40383404 13.87893611  4.29111511 20.49177515 17.38044577  6.11662904 31.72862203  0.92363162 10.66773054  9.33588439  5.31289849  7.02388157 18.24715772 17.42933174\n",
      " 29.96048079 21.51128444  1.06046991  6.17329266 19.54905628  7.90692733 22.51943887 16.23229318 22.05906894  4.1493027  19.47486081 18.37946341  7.79740803 22.25453605 31.89613998 28.71895564 15.25325059 16.00825095  8.47303752  4.69089074 20.64283658  3.63907313 27.85698677 19.23480816 17.39377819 15.615831\n",
      "  3.27598775 21.73762191 16.75615154 14.31194149 15.3440143  20.19017851 18.50955718 14.54259321 23.75597681 16.00558336 12.23195794 33.51528438 33.73328555 12.40684187 24.06147727 13.95309477 13.2961809  16.54477775 54.75449915 22.05950894 14.42715085 17.88134523 13.36091403 10.72847453 29.89313056 18.3109167\n",
      "  6.03679568 24.91870259 26.60029525  8.35233725 18.49691939  7.55938818 25.60079015 10.23205925 12.679109   24.32376774 27.25598317  8.05669872 14.58316336 16.62418282  7.27087411 18.6284344   7.89700216 11.01966197 28.75911249 21.40065069  5.30261425 23.5421555  23.47241634 12.65813338 13.77654854  9.71625198\n",
      " 10.61379622 13.09791032 32.77421461 35.19764245 15.39773358  3.86236111 15.93421418 25.06325527 17.14985183 13.80649613 21.13708462 17.40853582 27.15716875  9.52162489 17.43025425 27.9651992   8.2829248  16.13185619 22.51602829 12.92242196 38.15250552 23.80587753 12.98026736  7.04526918 29.54493298  7.70711748\n",
      " 28.03152183 14.07824493 29.15565861  8.79678133 56.35977184 27.27949084 25.88104321  6.60982202 17.76929431 15.46488901 32.42974004 18.56167066 28.99176244 18.46274013 20.81034754 22.26254448  5.97405427 32.12230219 26.19571214 27.38834351 34.10192941 26.96130032 11.8391611  25.57014527 28.0213765  12.47017917\n",
      "  9.17833266 10.16302693 14.81541637 15.92277201 29.4597356  17.98706449 17.12497715 11.53668801 21.16605419 23.08376717 15.01537111 25.91391673 27.52827833  6.92501711 10.43238134 29.51974557 23.73117606 16.21305032 33.55974108 14.31568169 24.54304446  8.19119494 15.63872661 33.19186897 13.26623823 24.50020985\n",
      " 26.5046125  13.53727689 23.5623271  21.57560717 18.49985468 11.84479865 11.8516777  15.19529055 14.36875477 21.24872644 24.07163964 29.88149219 13.69334123 24.38604384 19.57413721 10.75198806 35.28899535 31.28091328 26.16464917 24.78564355 11.57433286 17.71902924 22.72807949 23.17386638 13.33413478 13.80251154\n",
      " 23.53020476 21.14045208 28.91634482  9.1934147  23.65266866 22.43237572 13.20475553 39.05715654 27.52135487  2.69532205  1.26145099  5.97576155 14.25581583  8.43246451 26.83474715 18.91271541 17.28971631 13.61730082 18.88511513 23.22213071 10.66121955 20.73121087 24.92164756  6.28106473 25.21825219 15.69461835\n",
      " 21.75739009 18.94172027 11.29891976 22.75997701  4.15429701  8.02807126 23.00645214 20.37278904 18.71281907 25.6060017  26.19477522 21.78413705 13.39174845 14.69657594 20.15230007 21.78235483 14.90106157 24.38960482 41.72133687 19.12473683  9.45287514 18.17380885 13.10117959  7.88435749  6.64727009 20.54161149\n",
      " 25.60552869 47.48714252 14.77005168 27.71430174 21.76314126 26.13290312 21.25940978 34.43914628 10.22497667 55.95738409 30.14150085 32.93583138 54.98038046 51.52205645 44.48361794 57.51199674 12.12527099 21.8981564  52.8754183  37.60661932 22.94645102 39.49989275 46.54745311  7.00939894 49.2513755  33.74500067\n",
      " 28.04657691]\n",
      "True False\n",
      "D:\\CaseStudies\\CornerDigitization\\FineAdjustment\\\\registration/48201C0865J.tif\n",
      "[[ 1.01276636e+00 -1.23837415e-03  1.39977906e+05]\n",
      " [ 1.23837415e-03  1.01276636e+00 -3.09496181e+04]\n",
      " [ 0.00000000e+00  0.00000000e+00  1.00000000e+00]]\n",
      "[[ 8.81203616e-01 -1.72477242e-03 -1.06328249e+07]\n",
      " [-2.35751109e-03 -8.84907292e-01  3.46404805e+06]\n",
      " [ 0.00000000e+00  0.00000000e+00  1.00000000e+00]]\n",
      "D:\\CaseStudies\\CornerDigitization\\FineAdjustment\\\\referencing\\48201C0865K.tif\n",
      "1301 / 4567\n",
      "Enter Matching\n"
     ]
    },
    {
     "data": {
      "application/vnd.jupyter.widget-view+json": {
       "model_id": "afbdc70ddb3a4f6aaf0c2d3ebf8d65fc",
       "version_major": 2,
       "version_minor": 0
      },
      "text/plain": [
       "Calculating Descriptors:   0%|          | 0/4274 [00:00<?, ?it/s]"
      ]
     },
     "metadata": {},
     "output_type": "display_data"
    },
    {
     "data": {
      "application/vnd.jupyter.widget-view+json": {
       "model_id": "3b037237d34242fd90ee1aee8c9c8a39",
       "version_major": 2,
       "version_minor": 0
      },
      "text/plain": [
       "Calculating Descriptors:   0%|          | 0/1300 [00:00<?, ?it/s]"
      ]
     },
     "metadata": {},
     "output_type": "display_data"
    },
    {
     "data": {
      "application/vnd.jupyter.widget-view+json": {
       "model_id": "4af17b850dc54f1d866f149a53431bf7",
       "version_major": 2,
       "version_minor": 0
      },
      "text/plain": [
       "Descriptor Matching (Flipped):   0%|          | 0/1300 [00:00<?, ?it/s]"
      ]
     },
     "metadata": {},
     "output_type": "display_data"
    },
    {
     "name": "stdout",
     "output_type": "stream",
     "text": [
      "929\n",
      "IDX 928\n",
      "DISTNACE 721\n",
      "DBSCAN 928\n",
      "INTERSECT 721\n",
      "722\n",
      "[  0   1   2   3   5   6   9  10  11  13  16  17  18  22  24  25  26  27  28  30  31  33  35  36  37  38  39  41  43  44  45  46  47  48  49  50  51  52  53  54  55  56  57  58  59  60  61  62  63  64  65  67  68  70  71  73  74  75  76  77  79  80  81  82  83  84  85  86  87  88  89  90  91  93  94  95  96  98  99\n",
      " 101 102 103 104 105 107 109 110 111 112 113 114 117 118 119 120 122 123 124 125 126 127 128 129 130 132 133 134 136 137 138 139 140 142 143 144 145 146 148 149 150 152 153 154 155 156 159 160 161 162 163 164 166 167 168 169 170 171 172 173 174 175 176 177 178 180 181 182 183 184 185 186 187 188 189 190 191 192 193\n",
      " 194 195 196 197 198 199 200 201 202 203 204 205 207 208 209 210 211 212 213 214 215 216 217 218 219 220 221 225 226 227 228 230 231 232 233 235 236 237 238 239 240 241 242 243 244 245 246 247 248 249 250 251 253 254 255 256 257 258 259 260 261 263 264 265 267 268 269 272 273 274 275 276 277 278 279 280 281 282 283\n",
      " 284 285 287 288 289 290 291 292 293 294 295 296 297 298 299 300 301 302 303 304 305 306 308 309 310 312 313 315 317 318 319 320 321 322 323 324 326 327 328 329 330 331 332 333 334 335 336 337 338 340 342 343 344 345 346 347 350 351 353 356 357 358 360 361 362 363 364 365 366 367 368 370 371 372 373 374 375 376 377\n",
      " 378 379 380 383 385 386 387 388 389 390 391 392 393 394 395 396 398 400 401 402 403 404 405 406 407 408 410 411 413 414 415 418 421 422 423 426 427 428 429 430 431 432 433 434 437 438 439 440 441 442 443 444 445 446 447 448 449 450 451 452 453 454 455 456 458 459 460 461 462 463 464 465 466 467 468 469 470 472 473\n",
      " 474 475 476 479 480 481 482 483 484 485 486 487 488 489 490 491 493 494 495 496 497 499 500 501 502 503 506 507 508 509 511 512 513 515 517 518 519 520 521 522 523 524 525 526 527 530 531 532 533 534 535 536 537 538 539 540 541 543 544 545 546 547 548 549 550 551 552 554 555 557 558 559 560 561 562 563 564 565 567\n",
      " 568 569 570 571 572 573 574 576 578 579 580 582 583 584 585 586 587 588 589 591 592 593 594 595 596 599 600 601 602 603 604 605 606 607 608 609 610 611 612 613 614 615 616 617 618 619 620 621 622 624 625 626 627 628 629 630 631 632 633 634 637 638 639 640 641 642 643 644 645 646 647 648 651 652 653 654 655 656 659\n",
      " 660 661 662 663 664 666 667 669 670 671 672 674 675 676 677 679 680 681 682 684 685 686 687 689 690 691 692 693 694 695 696 697 698 699 700 702 703 704 705 706 707 708 709 711 713 714 716 717 718 719 720 721 722 724 725 726 727 728 729 730 731 733 734 735 736 737 739 740 741 743 746 749 750 751 752 754 755 758 760\n",
      " 766 767 768 770 773 774 775 776 777 778 779 780 781 783 786 787 788 789 790 792 794 795 796 798 799 801 805 806 807 808 810 811 812 813 814 816 819 820 823 824 825 827 830 832 833 834 837 838 839 843 844 845 846 847 848 849 854 856 857 858 860 862 864 866 869 870 871 872 881 882 885 886 887 890 892 894 895 898 901\n",
      " 902 903 907 909 910 913 914 915 921 926 928]\n",
      "[ 1.29067886  9.47203247 14.73959492 20.82206669 52.77434728] 722 722\n",
      "Distances under 100: [ 6.26016711 12.59596519 14.84738481 15.1642745   8.56259306  8.67199846 27.26810923 15.60156855 24.61614458 32.85917667 12.64562708 17.42460886 16.07688686 10.24952747  4.89239697 21.89385512  9.73770922 29.6656621  15.75359154 11.86245505 34.13321048  7.88891834 26.04876119  8.48356388  5.80210089 24.66724287\n",
      " 11.02756339 13.91711077 10.81770266 17.77772434  9.26538775 25.27711471  9.942741   12.71793642 23.50658349  4.51416486  8.31324965 17.09256709  8.69342299 15.04426024 10.1118194  12.85329101 13.26722292 16.07324792  4.68737565 11.30524301 20.23620582 12.52863266 16.17289173 14.31443851 14.31201697 14.42702419\n",
      "  6.82135706 16.64376561 10.95368423  5.39758982 33.56277616 16.27395004  5.14378867 13.06385854 19.51753485 23.37577336 16.65569429  9.5930176  14.53706675 12.62208545 10.44577311 12.14858505 13.83508865 11.65851127 10.16314944 14.24534863 17.86427932 37.05569579 12.94373412 12.22872645 10.59959455 18.14604344\n",
      " 28.51590137  7.43232042 15.06630015  2.51429977 16.68893284 15.17631827  7.03143049 11.40177186 28.69383381 16.62339014 14.18032329 27.27791274 20.21170852  2.26021892  2.89991361 13.24713857 17.23634273  6.84687834  8.04276886  5.8271778   8.5772183  13.82092094 20.83343096 22.17981744 15.73605759 12.36229121\n",
      " 13.54651258  7.64752236 13.8222038   7.54794303 11.84187667 36.95179445 27.10685082 10.40351545 18.14345309  5.66967359  4.68885735 21.36824631 15.76435375  5.39381475 12.90689946 20.06381544 12.78337145 15.1070221   1.76085006 14.77919206 21.89978394  3.61085529  7.81919094 17.07772152  8.01217248 11.87570305\n",
      "  9.57624748 22.04529187 11.58305014  9.44101884  5.86897187  5.33764578  9.82588423 17.40314708  9.83195833 17.27606429 13.76879103 10.93910874  7.13043091  6.2723345  14.82152897  8.74583577 21.71308549 16.94486395 14.04212424  5.52363187  5.10564921 17.1895098   5.23400613 25.5096457  16.37411841 22.60578622\n",
      "  7.21498859  5.32113965 12.05335938 16.47053865  1.67289123 19.17194829 10.8571205  22.44860282 16.54253774 16.6277521   9.84571497  6.72283711 13.40949132  8.85326862  9.00464931 16.21612403  2.25549264  9.68500191  5.58256916  9.11929825 13.00159042  7.70362603  7.34057488 20.34968634  9.1602813  11.61551236\n",
      " 14.95133595 11.18328922  6.05235635  9.49249595  3.6398112  10.98246704  7.91230332 27.72172021  9.288107   18.503098    6.77771594  8.26941909  4.75281442  6.76194678 14.51744848 24.81845939  5.42124649 19.72055609 14.22796545  6.67971941 29.77225745 12.85592151  6.65849558  3.63349696  2.41623384 10.92733049\n",
      "  6.2560466  11.64540627 18.98383871  6.95527001 15.6579404  19.378547   21.54767114  6.61355722  4.51434327 15.01060116 10.16527068 31.47653952  6.56872408 13.26505151 12.18685635 18.41667549 17.97625385 19.95955618 10.00500534 15.77545594 15.178134   27.95399257 22.98018798 27.05755655 13.81379348  7.00105868\n",
      "  5.09530622 27.12545592 10.04508707  6.94178132 26.99771257  5.23378336 13.89357342  4.09665144  5.56142109 11.86500337  3.23747577 26.79801765 18.68604305 10.54602982 11.84922289  4.48376605 14.45555748 19.13988918 21.69680354 24.77992539 23.57777313  7.44612162 17.33761726 16.54863538 25.49434127 18.85647309\n",
      " 14.01612455 19.6769961   8.46125347 13.93099327 21.66173599 10.0472699  12.45132861 26.69073823 15.7643281  10.39792542  8.06594328 10.65788676  5.75569036  8.07898989 11.7954773   6.0835947   9.60200167 29.14881182  4.37249739  4.09802555  5.29786588  6.32229746 19.73952882 19.19152604 16.07083753 13.91599663\n",
      " 14.35020935 16.7837365  16.34560338  9.13547514 14.48518314 11.41575896 12.72272828  7.52172273 16.72400522  8.83121245  3.12973165 14.86389184 27.97825741  8.59123263  2.72980255 26.67473039  5.57519586  9.54677397 13.30624181  9.51717196  8.30548498 15.02263807 15.01675662 15.25055933 19.32865341 15.67369192\n",
      "  9.68203381  5.98410097 18.73321885 24.5281497   5.95425955 24.64241312 11.16368678 28.64106846 10.35140332 30.43599467 22.60765633 13.16369788  9.08539216  8.9518811  19.71897482 26.7318505  15.12148092 13.27103353 19.86081086 11.16441822  9.11899366 22.75790357 14.48154309 21.19561931  3.53842713  3.3721373\n",
      " 16.07347321 28.23829498  7.43515937 14.5979632   7.15423233 13.0365653  12.93017062  6.93724525 25.19865946 23.92800538  6.85008911 30.60178227 10.33477368 19.31048782  9.81604173  8.9278307  27.80521431 24.2173469  20.5634085  15.69012335 23.93579371 23.23785157 10.89343768 10.19435472 17.97600424 13.93641783\n",
      " 15.04905561  6.29617793 23.70484866  2.1894057  29.95680337 20.74253226  8.82569988  6.3669383  14.33060637  9.52464411 21.78024482 18.93344603 14.27855334  8.21131657 13.37010356 11.25083785 11.73475044 19.33415822 13.52811546  7.91955104 17.50708099 12.96904798  5.6611324  15.86138432 24.47814514 22.60651282\n",
      "  4.99735032 10.58746734 16.91525927 16.16379524 24.39461555 21.75164507  5.77044042 16.91844562  8.76786965 16.65728482 13.82308839 12.47800817 15.63921213  8.47018228 22.65853101  3.29726512 15.39381712 25.82221129 12.34020608  7.5369822  12.05049461 10.46213301  6.4371516  19.12688505 12.20883963 14.63353021\n",
      " 12.71347963  9.82852941 19.97343105 13.4457624   8.59928133  8.05395136  1.29067886 21.41705223 16.01904703 26.14403077 13.78424336  7.74062968  1.42252696 14.9139779  15.65561877 12.07414037 23.11983229 15.51890065  5.71023897 12.56005728  7.71534093 19.81749382  4.91282088  9.2917319   6.00808097 29.36980288\n",
      " 17.79196049 11.95125283  9.90412651 20.76666279 27.39230676  5.74277397  6.53132288  9.54497161 15.83168709  8.38784292 28.05064249 15.6146252  13.97088183 17.88463402 25.55196014  6.85421883 19.06528641 27.49799042 14.73803034 24.02844012  7.05853918 24.03388014 23.55074658 25.77887214 26.14772288 32.79888145\n",
      " 23.10987288  9.46373233 15.42299261 16.26459425 18.80508965 24.54309424 16.744107    7.90093097 15.11368019 15.38201003  5.8567794  10.57818519  8.17586543 14.28822127 26.84276096 33.99897113 18.1679941  15.50565955 18.24905367 19.83082841 12.29531113 14.55919213 24.02105497 26.94811001 15.44190669 26.92638177\n",
      " 27.80440362 19.23070627 34.42424106 18.78336438  3.02164503  9.1911416  11.26704997 15.30011632 17.90938412 19.56658165 28.20167715 22.28325457 24.71147766 12.82187422  9.34725226 15.90050779 14.20340331 15.55049161 27.39305619  1.5254516  14.77760615 19.08429532 22.64887181 18.51486098 14.66069293 20.02793458\n",
      " 14.92518525 32.75862681 17.37177215  5.00970283 18.35014107 23.59136201 20.95994512 18.79142958 22.98099464  9.23984185 27.9492704  16.59089772 12.51142542 21.43720885 22.0946496  16.5690392  18.35806667 21.78285427 11.05211816 22.70094265 15.81306382 22.20519432 18.96017416 13.81013965 21.09390087 17.84954749\n",
      " 14.24206458 23.56927664 15.28379897 17.60494912 11.84247224 21.67986921 14.23828787 23.5761366  21.99113873  3.87761364 18.03677373 21.84273093 16.50484832 17.15066942 28.74721979  6.095209   17.09633566 11.89011234 19.6618158  14.00540658 51.63562311  8.75711252 15.77923595  1.32318237 25.93242019 22.44505144\n",
      "  1.93505461 23.60719898 22.54082827  9.37358548 19.98900468 21.05051052  9.90786451 21.71541952 27.81008477 10.64398525 28.51631502 17.22567654 12.0650939  20.19849834 22.00882093 19.89409847 17.61778275  8.3767354  15.657246   11.91098106 24.48050375 23.22699716 20.60788197 21.21403633 24.20475999  6.01457031\n",
      " 24.04656225 19.06630352 33.88192968 12.59275911  7.03155081 18.5167541  23.13010924 20.60746779  7.39091224 19.955885    7.05687478  2.92948007 20.92022427 25.99285918 18.73768201 22.77282656 15.18833783 27.23017511 20.66633512  7.47698697 16.61660663  8.43128056 16.96387961  9.8015537  18.55213037 22.8906486\n",
      " 24.89057708 20.30588137 20.87676383 30.34977826 13.34528082 26.51484673 24.44050967 51.39342731 24.95973678 10.79190147 14.16056054 29.61440431  8.19084831 24.89653637  8.38482097 44.9863152  21.66864306 20.47533872 26.328907   23.32190258 27.7211755  13.43338703  8.24563324 11.17329588 21.48047196  5.30775129\n",
      " 10.3595409  24.59220618 15.88673829 15.5232389   6.74284116 10.30637074 24.74348012 12.55332432 26.788773    5.55889166  6.3414453   9.82749242 40.48384406  5.51487654 13.6972047  18.01420465 11.80064456 20.72621624 14.60587817 46.24998189  5.88098246 12.56282277 23.30719638  6.98318353 12.03643938 29.94994044\n",
      " 14.7411595  42.65089827 24.30168453 26.05343147 26.66523615 14.44908627  5.96097881 27.36148419  9.47002546 11.75760677 34.46954058 29.67808367 18.04090301 15.59031444 11.69968308 18.43436692  8.92864601  6.73606492  9.2244209  41.7991237  16.11904885 35.12019633 21.75880901 18.19570921 52.16891937 21.62382184\n",
      " 12.64226407 27.85573191 22.27654393 52.77434728 10.73797183 14.42517831 46.08402507 20.78797386 11.90904909 28.30026716  9.22877591 22.84711908 12.64225237  5.96750508  1.98500689  9.47805347 19.43100537 21.72851567 16.7330076  26.56003882]\n",
      "Enter Matching\n"
     ]
    },
    {
     "data": {
      "application/vnd.jupyter.widget-view+json": {
       "model_id": "a6ead6c89b4a490686bdfa03f4876542",
       "version_major": 2,
       "version_minor": 0
      },
      "text/plain": [
       "Descriptor Matching (Flipped):   0%|          | 0/1300 [00:00<?, ?it/s]"
      ]
     },
     "metadata": {},
     "output_type": "display_data"
    },
    {
     "name": "stdout",
     "output_type": "stream",
     "text": [
      "Results Update: 722 943 803\n",
      "803\n",
      "IDX 802\n",
      "DISTNACE 689\n",
      "DBSCAN 802\n",
      "INTERSECT 689\n",
      "689\n",
      "[  1   2   3   4   5   7   8   9  10  11  12  13  14  15  16  17  18  19  20  21  22  23  24  25  26  27  28  30  31  32  33  34  35  36  37  38  39  40  41  42  43  44  45  46  47  48  49  50  51  53  54  55  56  57  58  60  61  62  63  64  65  66  67  68  69  70  71  72  73  74  75  76  77  78  79  80  81  82  83\n",
      "  86  87  88  89  90  91  92  93  94  95  96  97  98 100 101 102 103 104 105 106 107 108 109 110 111 112 113 114 115 116 117 119 120 121 122 123 124 125 126 127 128 129 130 131 132 133 134 135 136 137 138 139 140 142 143 144 145 146 147 148 149 150 151 152 153 154 155 156 157 158 159 160 161 162 163 164 165 166 167\n",
      " 168 169 170 171 173 174 175 176 177 178 179 180 181 182 183 184 185 186 187 188 189 190 191 192 193 194 195 196 197 198 199 200 201 202 203 204 205 206 207 208 209 210 211 212 213 214 215 216 217 219 220 221 222 223 225 226 227 228 229 230 231 232 233 234 235 236 237 238 239 240 241 242 243 244 245 246 247 248 249\n",
      " 250 251 252 253 254 255 256 257 258 259 260 261 262 263 264 265 266 267 268 269 270 272 273 274 275 276 277 278 279 280 281 282 283 284 285 286 287 288 289 290 291 292 293 294 295 296 297 298 299 300 301 302 303 304 305 306 307 308 309 310 311 312 313 314 315 316 317 318 319 320 321 322 323 324 325 326 327 328 329\n",
      " 330 331 332 333 334 335 336 337 338 339 340 341 342 343 344 345 346 347 348 349 350 351 352 353 354 355 356 357 358 359 360 361 362 363 364 365 366 367 369 370 371 372 373 374 375 376 377 378 379 380 381 382 383 384 385 386 387 388 389 390 391 392 393 394 395 396 397 398 399 400 402 403 404 405 406 407 408 409 410\n",
      " 411 412 413 414 415 417 418 419 420 421 422 423 424 425 426 428 429 430 431 432 433 434 435 436 437 439 440 441 442 443 444 445 446 447 449 450 451 452 453 454 455 456 457 458 459 460 461 462 464 465 466 467 468 469 470 471 472 473 474 475 476 477 478 479 480 481 482 483 484 485 486 487 488 489 490 491 492 493 494\n",
      " 495 496 497 498 499 500 501 502 503 504 505 506 507 508 509 510 511 512 513 514 515 516 517 518 519 520 521 522 523 524 525 526 527 528 529 530 531 532 533 534 535 536 537 538 539 540 541 542 543 544 545 546 547 548 549 550 551 552 553 554 555 556 557 558 559 560 561 562 563 564 566 567 568 569 570 571 572 573 574\n",
      " 575 576 577 578 579 580 581 582 583 584 585 586 587 588 589 590 591 592 593 594 595 596 597 598 599 600 601 602 603 604 605 606 607 608 609 610 611 612 613 614 615 616 617 618 619 620 621 622 623 624 625 626 627 628 629 630 631 632 633 634 635 636 637 640 641 642 643 645 646 649 650 651 652 653 654 655 656 658 659\n",
      " 660 661 662 663 664 665 666 667 668 669 670 671 672 673 674 675 676 677 678 679 680 681 682 683 684 685 686 687 688 689 690 691 692 693 694 695 696 697 698 699 701 706 714 718 719 721 727 745 753 757 763 773 777 790 792 797 801]\n",
      "[ 1.66100826 11.39853556 17.19892949 23.67518737 56.31985981] 689 689\n",
      "Distances under 100: [12.68318467 17.28458129 14.03117313 10.05125435  9.34728081 17.51618105 55.84418929 35.42253784 12.03564499 20.73484623 18.26743018 12.58168384  4.34861847 24.53334263 10.62708019 31.36633061 18.73176533 14.14318767 35.95942536 32.71883182 28.7725351   5.88576545  8.13320839 27.5608873  12.09400631 16.17755352\n",
      " 25.7415652   9.4437921  28.09433213 12.53074234 15.64428138 11.39853556  2.27332306  4.82317805 18.10340267 10.21235328 17.74179421  9.11942788 14.15864919 16.28676695 16.29935219  7.82502776 10.30159778 22.34133829 15.24844351 17.57084807 16.64179868 16.75806682 16.32885767 19.67455531 12.57122042  3.58181619\n",
      " 32.77087754 16.55834925  5.97787788 22.04799389 23.14668118 18.7023091   7.90023534 17.19377043 14.27648498  9.21132622 13.59866047 15.73201602 12.89993    12.79605801 16.95491033 19.6462705  38.62284747 24.48765884 14.71985091 13.34408634 15.88128891 28.7292119   9.42668265 17.47643349  5.70865077 14.95639128\n",
      " 17.48242891 30.38607582 18.68405356 15.99838328 28.72179017 19.317874   48.20727468  4.3848266  16.09116851 19.16197302 43.34217951 11.08565126  6.93713331 10.97342314 13.38904359 22.20636714 17.03465911 15.00343604 16.14262182  9.8331083  15.11138536 10.55121988 13.05808484 34.45687513 28.39831697 12.4829245\n",
      " 19.88801474  8.49148021  7.9860777  21.23992473 16.69190905  3.22020066 17.94073051  8.7370585  15.65841353  4.05187696 17.33644359 22.38989225  3.85115586 11.03345281 18.94124952 10.55143802 13.82582979  9.3612218  25.09493267 13.13973738 11.40365107  8.77602658  6.18065995 11.70980861 17.88606444 12.00750836\n",
      " 18.95233388 14.63743785  8.57652908  5.82080172 17.71596498 37.62020506 22.17638107 18.41253022 14.2944648   5.99583048  5.52395638 20.1743852   7.67476385 26.27394055 18.70872771 22.99199139  6.17314767  7.50803953  8.9540698  16.73949783  4.67831281 20.76820468  8.60129411 22.95490074 18.54537646 16.93079971\n",
      " 11.25055951  6.6689514  15.32304756 56.12560878 11.7899969  18.33338503  8.65503218  6.44492746 11.35893901 12.77826602 10.32748758  9.39123877 22.9717865   8.42548907 14.18384018 13.30584917 13.09873573  9.09794188 12.19356258  4.50164737 13.34026015  5.03948556 29.08724699  7.4361337  20.6222802   8.34209192\n",
      " 10.82399971  7.45496738  5.28614855 15.62609422 27.2765495   7.88869196 21.40152147 35.94475447  3.65755555 32.47538392 15.58422513  8.91239365  3.67210382 45.3647025  12.903058   56.31985981  8.6090156  19.38365445 45.12782959 17.4672953  30.55020054 22.38899518  7.13542661  1.92549679 15.38207772 33.54495009\n",
      "  8.11850957 15.52433439 14.89521732 20.47915007 20.20499572  6.4944201  18.28090533 16.92471218 28.28735247 26.0961784  27.50059497 14.40037159  8.79311267  2.91019059 28.647287   10.5221029   9.17543468 27.45016593  8.04429366 15.71777948  4.69025499  4.80223991 14.26873959  5.63758305 27.52012123 21.36831279\n",
      " 45.69951647 41.72910024  6.99650724 16.11003171 19.31886994 23.41304184 27.47336363 26.23240737  9.55214746 19.18316108 18.7663259  25.89005088 21.55455054 17.21506281 20.76574504  9.23694753 14.07524585 23.81581005  9.23303129 14.4320496  29.0949439  16.27572902 13.08926607 10.30044447  8.92174727 37.03379453\n",
      " 25.78836406  8.86549216 10.18877675 30.80502469  7.14996253  2.55192951  2.93283233  8.53140581 22.77723205 19.43883057 18.3866052  12.8456795  15.43990786 18.07880387 16.11631568 28.92069101 15.72689157 14.05032819 38.2508882   5.94207824 19.61471197 10.36517617 47.25432149 38.54513022 30.56923839 10.66627031\n",
      "  4.40340606 28.10052372  8.29821385 11.34317405 15.7635425  10.60634186  9.59416228 16.49848148 14.94012402 17.19892949 20.78502187 17.72631264 10.6052035   8.09211001 20.49994673 27.15128431  9.11184509 25.10876735  9.2990352  28.28727156 10.48953895 22.42589217 20.51062377 13.52939599 11.70665444 11.85929241\n",
      " 22.84330367 28.80819981 18.26695775 12.35753075 22.09463413 12.9849298  37.81101991 24.8724434  15.46220832 22.43626555 53.08472209  3.64593438 18.1177489  27.60987016  9.74285568 16.47099504  6.5959441  14.3347476  12.97781078  9.5707968  26.9899969  25.99905905  7.55726173 31.5119593  11.25141474 21.99147555\n",
      " 11.74849002  7.55819583 28.40844303 25.96650835 22.5057534  15.46634592 24.20545444 24.95563494 48.33816253 12.72898622 20.08460143 15.66497326 17.70905834  7.7330464  26.25466998  5.02246887 14.88056905  8.65811613  8.23792762 14.74932429 11.54412565 22.02774321 20.94166632 18.56026532 10.08652272 16.20428797\n",
      " 13.28928987 13.62423191 21.45249124 16.02935611 33.69758855 19.95213057 15.71422495  4.05170847 17.67250393 27.42585753 24.29241195  7.37391599 11.63158892 17.67349253 16.83033097 25.0727007  52.48757639  2.80995748 18.81716518 11.00598877 19.03266801 17.11290841 16.42935786 11.98862891 23.23381336  2.56239519\n",
      " 17.6084902  27.46717729 13.42552903  6.39516807 14.50488252 13.27413175  5.45189199 21.40926779 13.67898724 14.84159144 11.96923914 21.43064986 16.07107164 10.81939798  9.79549378 29.26521292 23.10732631 18.07895262 26.86975088 14.15822636  1.66100826 17.51018164 15.56829222 28.11102025 23.34270841 18.44889805\n",
      "  8.23233453 14.19258739  8.21527002 20.274508   11.47821599  6.11994541 49.20214957 19.72535494 10.07655585  9.73310334 22.25520932 27.71385616 51.49179292 11.83214122 17.88336253  9.6774364  27.67456152 14.00894646 15.78214038 19.97750442 25.93214467  4.40780889 19.49490057 30.64580041 15.09549891 25.70847585\n",
      "  6.82495592 24.13739538 23.88564681 26.79357844 19.85590665 23.82761919 11.64941354 17.17202544 17.07480655 20.08218411 25.12745711 19.18170356 10.52815781 16.79749278 16.57171534  7.52071884 11.28924601 41.10038027 15.63201937 28.6686306  17.72313422 20.10266515 16.10711372 20.38847342 21.39357329 14.39861245\n",
      " 16.34899157 21.68265879 20.82026969 17.82169708 27.50589076 28.31285789 22.05963647 37.05412289 18.64539584  4.80818402 53.93725362 12.0280944  28.44706858 12.18853918 20.32764498 30.29286945 24.6998733  25.42134765 12.65872148 11.18259857 16.30247023 16.38266653 17.55969613 28.24637498 46.02019077 18.33891241\n",
      " 19.86804924 24.06429504 16.42415893 20.25962419 15.41114502 34.16453715 18.63831894  6.64614848 16.3279456  38.50460712 23.07753978 19.33156055 23.41218111 48.89222087 29.53974519 18.49092895 13.03483012 21.78464557 24.21290331 19.65769812 20.37105491 22.96627071 12.4761739  23.42478211 18.49568614 22.57029134\n",
      " 21.42064514 16.17031482 22.72631599 21.48418287 16.05191924 25.48155433 17.30804016 19.80489905 13.3187326  24.0107508  16.6078662  24.21979448 24.52852216  4.88296301 20.25211464 22.70021156 17.90219363 19.53423411 30.10540564  8.13980847 19.22508809 14.37952904 23.18671292 15.01680543 11.01477554 17.56676389\n",
      "  2.50434202 26.44322825 22.78184348  2.20252782 26.59157639 24.81575111 11.79886843 22.03288593 24.16340223 31.42250027 24.32540897 29.2889462  12.83749504 30.48954629 19.14028732 14.58797377 20.6980289  23.67518737 22.71521044 19.81709098 10.53509846 16.16561302 12.34505781 24.95847363 23.60067945 23.07423238\n",
      " 21.32495376  3.9723993  26.08966119 19.40580089 34.69626573 15.4575799   9.17491585 20.39011617 21.84290948 22.32754564 10.01762859 21.10316505  9.00836016  4.38181045 23.55088982 27.05216028 21.24761042 25.3988827  15.51091049 30.08247948 22.21410144  6.2925793  18.08488058 10.75855788 18.42255307 12.93651934\n",
      " 18.75539174 25.35063155 25.50058837 18.71686025 21.89980862 32.27058629 12.70245693 27.39200133 26.26594626 55.15471912 26.03132837 10.31992752 14.77429281 40.9471207   5.09422054  9.88805925 22.17174823 22.19652248 15.37509415  9.92263456 13.6344244  18.039821   11.53764397 25.22967186 55.14931217  9.6097306\n",
      " 27.37454021 14.93263447 27.52320998  7.94896659  6.33170856 12.46377571  9.99570766 20.31720598 16.04805731 51.68853379  2.90710298 13.39808967 24.24485205  9.52927328 14.05568088 26.36521478 28.48544066 27.06776803 15.83712494  3.14927875 27.57030199 11.39606073 12.37450867 30.25906095 20.41773687 17.84405771\n",
      " 14.30518186 20.37759157  5.22868724  9.04685502  7.97928934 54.94473618 37.98549621 24.26257955 15.51929402 29.87813068 25.02517926 54.69395144  9.18731859 35.42514885 12.37796504  6.28102014 14.76476952  5.41716084  5.2571836  51.74113194 22.03181692 19.54118558 34.9640531  43.53855581 55.76944082 54.96066008\n",
      " 52.3545925  31.34290026 27.86772387 22.27923766 35.03911578 13.36083254 50.58628714 45.37548859 29.39525803 51.64823956 45.68392036 29.09453463 27.05666056]\n",
      "Enter Matching\n"
     ]
    },
    {
     "data": {
      "application/vnd.jupyter.widget-view+json": {
       "model_id": "62076f2249af40fc8d0d4673fc890dff",
       "version_major": 2,
       "version_minor": 0
      },
      "text/plain": [
       "Descriptor Matching (Flipped):   0%|          | 0/1300 [00:00<?, ?it/s]"
      ]
     },
     "metadata": {},
     "output_type": "display_data"
    },
    {
     "name": "stdout",
     "output_type": "stream",
     "text": [
      "Results Update: 689 939 814\n",
      "814\n",
      "IDX 813\n",
      "DISTNACE 688\n",
      "DBSCAN 813\n",
      "INTERSECT 688\n",
      "689\n",
      "[  0   1   2   3   4   5   6   7   8   9  10  11  12  13  14  15  16  17  18  19  20  21  22  23  24  25  26  27  28  29  30  31  32  33  34  35  36  38  39  40  41  42  43  44  45  46  47  48  49  50  51  52  53  54  55  56  57  58  59  60  61  62  63  64  65  66  67  68  69  71  72  73  74  75  76  77  78  79  80\n",
      "  81  82  83  84  85  86  87  88  89  90  91  92  93  94  95  96  97  98  99 100 101 102 103 104 105 106 107 108 110 111 112 113 114 115 116 117 118 119 120 121 123 124 125 126 127 128 129 130 131 133 134 135 136 137 138 139 140 141 142 143 144 145 146 147 148 149 150 151 152 153 154 155 156 157 158 159 160 161 162\n",
      " 163 164 165 166 167 168 169 170 171 172 173 174 175 176 177 178 179 180 181 182 183 184 185 186 187 188 189 190 191 192 193 194 195 196 197 199 200 201 202 203 204 205 206 207 208 209 210 211 212 213 214 215 216 217 218 219 220 221 222 223 224 225 227 228 229 230 231 232 233 234 235 236 237 238 239 240 241 242 243\n",
      " 244 245 246 247 248 249 250 251 252 253 254 255 256 257 258 259 260 261 262 263 264 265 266 267 268 269 270 271 272 273 274 275 276 277 278 279 280 281 283 284 285 286 287 288 289 290 291 292 293 294 295 296 297 298 299 300 301 302 303 304 305 306 307 308 309 310 311 312 313 314 315 316 317 318 319 320 321 322 323\n",
      " 324 325 326 327 328 329 330 331 332 333 334 335 336 337 338 339 340 341 342 343 344 345 346 347 348 349 350 351 352 353 354 355 356 357 358 359 360 361 362 363 364 365 366 367 368 369 370 371 372 373 374 375 376 377 378 379 380 381 382 383 384 385 386 387 388 389 390 391 392 393 394 395 396 397 398 399 400 401 402\n",
      " 403 404 405 406 407 408 410 411 412 413 414 415 416 417 418 419 420 421 422 423 424 425 426 427 428 429 430 431 432 433 434 435 436 437 438 439 440 441 442 443 444 445 446 447 448 449 450 451 452 453 454 455 456 457 458 460 461 462 463 464 465 466 467 468 469 470 471 472 473 474 475 476 477 478 479 480 481 482 483\n",
      " 484 485 486 487 488 489 490 491 492 493 494 495 496 497 498 499 500 501 502 503 504 505 506 507 508 509 510 511 512 513 514 515 516 517 519 520 521 522 523 524 525 526 527 528 529 530 531 532 533 534 535 536 537 538 539 540 541 542 543 544 545 546 547 548 550 551 552 553 554 555 556 557 558 559 560 561 562 563 564\n",
      " 565 566 567 568 569 570 571 572 573 574 575 576 577 578 579 580 581 582 583 584 585 586 587 588 589 591 592 593 594 595 596 597 598 599 600 601 602 603 604 605 606 607 608 609 610 611 612 613 614 615 616 617 618 619 620 621 622 623 624 625 626 627 628 629 630 631 632 633 634 635 636 637 638 639 640 641 642 643 644\n",
      " 645 646 647 648 649 650 651 652 653 654 656 657 658 659 660 661 662 663 664 665 666 667 669 670 671 672 674 675 676 677 678 679 681 682 683 684 685 686 687 688 692 703 713 727 728 729 730 747 750 756 770 775 792 796 798 806 811]\n",
      "[ 2.182637   17.87950965 23.03170295 29.34841021 74.50045648] 689 689\n",
      "Distances under 100: [21.51202916 24.17346267 19.7100959  17.66423761 16.1656579  26.23576757 48.24768186 42.54297803 15.6977302  30.85851109 24.49262183 65.78156103 13.97015182 33.91404433 20.68956002 39.8774892  27.69285203 21.75537424 44.45539448 65.37074173 36.36415986  8.84407684 16.09066281 37.0163516  23.31048196 22.59950805\n",
      " 19.60820539 17.97661014 37.62560162 20.035219   24.59308582  3.85394767 10.65579167  6.95313274 18.3270391  18.97787644 25.49158866 20.66427323 25.42446807 24.76112442 17.92061108 18.14359646 27.7613895  26.43345237 23.57558107 23.85156587 23.76213771 23.60716771 28.75422027 21.19635693 11.11467241 31.34870347\n",
      " 14.7692145  15.01124528 31.18507383 28.65876375 24.79645    10.3446007  25.44437447 20.52792366 15.57330578 20.63788356 22.0950231  20.00485669 20.30174963 26.2180705  26.7046286  47.08669832 17.78295234 21.34335076 17.47548208 34.84683207 17.32298567 57.0052926  16.18956742 19.07819486 23.70541112 39.05630546\n",
      " 25.2986111  21.07899524 34.94919559 25.12680412 38.50936202 17.73821458 24.09630875 26.99329778 34.07142155 23.90635945 14.86292807 19.27749139  6.17956814 18.86744907 22.84286439 23.06980747 26.72670788 16.22501938 20.6776574  19.88717676 18.92786585 31.46928927 34.68350165 17.52919234 27.25731146 17.74080785\n",
      " 19.57204726 27.68773158 24.00914461 19.75662479  5.80788028 14.02333531 11.16352611 27.72794627 18.93494475 10.4626517  23.62450344 26.75220335 19.14462756 20.44239912 18.96415446 20.51410813 18.2588025  18.16270434 14.11427061 19.14056492 16.41156841 20.05452086 27.74082993 21.70015379 13.56068037 26.45149854\n",
      " 28.07360111 21.60171841 27.79632609 73.99488995 15.6057402  14.06565857 29.66611228 16.79970122 33.32361297 25.30908859 20.78065023 14.10285761 15.91649354  9.663428   13.99463657 15.42958981 28.04494999 11.32144848 21.88601173 48.64114835 14.3430878  20.77678483 14.63987515 21.77004599 44.10905561 20.10804004\n",
      " 27.06219081 12.03255776 15.05580581 20.61012712 16.29887256 17.87950965 20.59623848 32.79684528 15.27254007 22.22028236 16.4919627  21.02429484 18.03161987 20.0260882  16.19455791 24.02333513  9.09998862 37.25802135 12.19465967 26.54540306 17.39784509 19.00392649 16.318622    9.98110706 24.35345508 34.3349941\n",
      " 17.831927   29.46765456 25.34528335  7.45701989 39.98380087 23.6661699  15.56541717  8.39299219 35.10355972 19.18809657 44.07834157 13.47179441 34.87175192 26.02127715 20.48794368 21.77340611  5.2202878   7.53664345 13.02898061 41.3873519  15.73699076 24.11328638 24.31027793 28.80238912 17.15227177  5.02656351\n",
      " 26.41886009 26.6499737  26.72158754 36.48912581 25.44155893 13.20454732 19.09833363  3.60941614 29.34841021 19.37504008 16.47858129 25.30711224 20.10410536 12.43965405 11.06326933 71.26152402 14.17441695 26.50046099 29.78768873 57.29084732 32.98677495 14.34059191 24.14560576 19.88185177 32.51234604 35.40401906\n",
      " 34.5122511  19.32715276 23.16133477 27.86532761 24.97603034 29.77251953 27.39358685 29.05850526 18.61569825 20.17330515 31.83638494 14.21830524 18.99668047 37.60909281 23.93292934 20.75580131 20.67008896 18.99225769 29.35465203 53.51470477 19.0806957  17.91802824 39.43784716 15.5581301   8.48996219  7.23577467\n",
      " 14.36338609 32.3957687  16.71265585 26.08185979 16.76352815 24.06396001 25.82317511 22.77886483 21.57995874 22.38969146 21.24041709 28.27849856 15.01798191 28.0832548  18.61375649 28.88979637 37.66429804 63.67677443 13.99277785 36.87104522 17.48830169 16.03736206 23.19877968 18.1871822  19.33493604 21.28547389\n",
      " 21.89720189 22.34507914 27.97279    23.83809344 72.3733687  13.3421329  27.46825447 34.40030582 19.98402424 24.20142258 10.01461638 23.99201366 18.8516385  20.75380071 21.70621768 23.05329089 19.22796324 25.11949313 32.02844905 34.91907483 28.84977445 18.05017497 27.43799458 22.66607199 28.78679689 29.7471774\n",
      " 23.09053762 31.41605396 42.20277312 11.8023619  23.59229    32.17058411 18.64847288 22.46231298  7.59030621 23.46452902 20.39931798 18.56173451 33.28822036 34.64300763 14.40688086 14.33448778 19.33286225 29.29592822 21.23917288 16.10684619 26.9644263  33.11317006 31.72378138 19.2101655  21.24376594 28.32086881\n",
      " 39.6248201  21.95229639 29.22131316 24.34467841 25.21041478 16.41548126 51.41046186 14.74771949 13.54415707 14.74278734 16.53240901 21.74724662 19.81538137 19.98767603 25.58511749 15.2254546  18.7548207  24.17858203 21.05860031 17.88714779 26.74183465 22.87565641 25.45229182 29.11941458 24.30636819  7.93643616\n",
      " 26.65148596 36.59154656 31.46042628 14.46358979 20.24753437 24.07169424 15.58589914 32.53634009 41.34134387  6.5001943  23.05941024 19.30576021 25.45304191 27.31175814 26.98592277 23.19559189 21.70628947 10.90207344 24.52512375 34.71985792 18.66350765 15.89272598 21.14465797 21.3694454  13.86408599 28.10530606\n",
      " 21.77786197 23.94834875 21.67246634 69.16963818 23.73433665 22.05345266 16.64341864 30.78007477 28.67174618 22.88456354 25.88031719  7.64371791 62.17733709 19.55365621 20.53994431 20.38946231 28.27422319 15.13227832 19.53305037 16.41922458 18.54554671 17.50338011 11.62699239 51.37957359 24.40436431 10.1174479\n",
      " 15.95766553 31.54601129 26.29576717 42.33818418 68.2749382  28.08465659 17.37213961 33.47819987 18.85481074 24.71551681 26.91384745 23.5896494  12.94381354 17.34556139 40.06303714 12.80239563 33.44941636  8.70916344 22.47150745 21.74239668 18.76133538 20.34853332 31.50349059 20.2573178  20.81711473 16.58484117\n",
      " 27.12481328 23.60519672 26.14959659 20.83692992 25.30379033 25.93715663 16.97991301 19.37683357 23.54706582 38.18314382 17.26131247 24.4863626  15.89644659 25.37771994 11.70435388 21.53803334 22.99791742 21.06275448 11.92552607 25.44325208 25.80529692 26.5277563  29.95355078 44.62344793 33.04483409 12.49891478\n",
      " 42.47694813 19.47237058 61.81855887  5.94521762 19.56979096 35.15978741 34.4769769  24.2835225  18.56197301 17.68613181 14.10754071 24.62394875 22.3785618  10.86614815 37.1013049  59.82835199 19.08322487 29.66820976 55.95947933 17.39625886 13.26125827 22.70014915 26.82150642 16.29314257 11.4050043  31.6230496\n",
      " 29.25039984  9.8379072  21.17034704 39.30111496 36.27157917 27.68403619 11.0488784  19.77728575 29.04579094 28.88568318 24.95661058 30.82817683 19.54897431 22.30859644 20.20859666 28.83453849 22.09237821 31.09793055 32.86219547 24.65486055 35.15385591 21.80843299 28.76949483 22.3494853  29.78834823 26.41236417\n",
      " 23.03170295 31.43618952 10.81162134 25.54267642 22.19454338 26.07865129 26.74653573 36.13645148 13.57602289 25.15160734 23.12287097 34.40406626 17.45368877 18.01893809 25.31875791 14.30256656 24.67553313 20.78634553 69.34516435 34.51017253 20.45401169 26.96266939 33.64535852 24.61620832 31.42733125 37.5184865\n",
      " 21.08792442 34.70031745 23.14228324 24.66819189 16.43633768 31.71031575 32.32949191 25.32624012 17.53712145 15.76430039 19.39559265 23.43210157 21.11922348 30.76428299 18.18797038 10.1705225  30.76802365 17.14739364 33.91820289 23.60606161 14.56078521 26.81449893 14.41022407 32.00036093 17.54061622 22.33761609\n",
      " 18.04368654 12.50079709 30.76830828 27.40660006 27.81106706 32.49391117 38.83051488 30.80230623  7.68801596 27.38930647 19.32851052 50.39325531 22.46474908 15.92397061 31.99517169 24.09049654 15.65949531 22.30307454 40.37048422 10.66891781 27.11088932 34.22580793 69.05235195 26.37768464 13.45347612 13.99472201\n",
      " 36.72308169  7.67384903 13.65851058 20.43176416 27.38613548 52.91404578 18.52093531 20.45557409 12.29809932 14.86560107 24.02720549 45.49177836 12.22342291 34.68893639 21.49352354 26.65427136 17.2627871  13.32084574 21.02763496  2.182637   26.72790933 26.43820399 53.69200465 10.8259092  16.76156693 32.84515596\n",
      " 17.23731133 19.48268889 35.96910658 36.76507492 31.71363308 22.38023626  9.56757466 30.54221017 17.26102164 21.7233367  34.90637513 26.55406499 23.98839211 21.51965947 27.45400162  8.4319012  17.69924976 13.21898504 46.21449354 32.6588584  74.50045648 35.74021459 32.71306738 59.79490727 12.13282248 25.86987177\n",
      " 21.51449675  5.47774821 21.13408298  6.31863688 40.01500824 19.62962576 27.86642218 38.52357998 43.08001846 43.87398476 42.10551274 28.31506147 18.28813875 20.60646688 11.3497577  43.7081518  36.71281042 32.28678413 39.10346721 51.47783788 42.55053841 38.24308693 39.88664254 35.93783256 22.37550576 34.31582994\n",
      " 42.10772572 46.96336239 35.89370385 57.34833063 59.57168705 48.59249042 17.06258566 63.77568534 40.59576865 37.41702984 46.47207535 67.19608845 73.14499422]\n",
      "True False\n",
      "D:\\CaseStudies\\CornerDigitization\\FineAdjustment\\\\registration/48201C0865K.tif\n",
      "[[ 1.00855092e+00  1.37082205e-03  8.61244565e+04]\n",
      " [-1.37082205e-03  1.00855092e+00 -4.41188104e+04]\n",
      " [ 0.00000000e+00  0.00000000e+00  1.00000000e+00]]\n",
      "[[ 8.72563853e-01  1.16633249e-03 -1.06328017e+07]\n",
      " [-1.79949376e-03 -8.82264623e-01  3.46400801e+06]\n",
      " [ 0.00000000e+00  0.00000000e+00  1.00000000e+00]]\n",
      "D:\\CaseStudies\\CornerDigitization\\FineAdjustment\\\\referencing\\48201C0870J.tif\n",
      "551 / 2515\n",
      "Enter Matching\n"
     ]
    },
    {
     "data": {
      "application/vnd.jupyter.widget-view+json": {
       "model_id": "423e89870e5c4eb283a3913f90fb068b",
       "version_major": 2,
       "version_minor": 0
      },
      "text/plain": [
       "Calculating Descriptors:   0%|          | 0/3926 [00:00<?, ?it/s]"
      ]
     },
     "metadata": {},
     "output_type": "display_data"
    },
    {
     "data": {
      "application/vnd.jupyter.widget-view+json": {
       "model_id": "f10cee62de2f474ca0c7e42ea35119e4",
       "version_major": 2,
       "version_minor": 0
      },
      "text/plain": [
       "Calculating Descriptors:   0%|          | 0/547 [00:00<?, ?it/s]"
      ]
     },
     "metadata": {},
     "output_type": "display_data"
    },
    {
     "data": {
      "application/vnd.jupyter.widget-view+json": {
       "model_id": "7df907593bb84c05a20a0d17f9afba20",
       "version_major": 2,
       "version_minor": 0
      },
      "text/plain": [
       "Descriptor Matching (Flipped):   0%|          | 0/547 [00:00<?, ?it/s]"
      ]
     },
     "metadata": {},
     "output_type": "display_data"
    },
    {
     "name": "stdout",
     "output_type": "stream",
     "text": [
      "310\n",
      "IDX 309\n",
      "DISTNACE 211\n",
      "DBSCAN 309\n",
      "INTERSECT 211\n",
      "212\n",
      "[  0   4   5   6   7   8   9  10  11  12  13  14  15  16  17  18  19  20  21  22  23  24  25  26  27  29  30  31  32  33  34  35  37  38  39  42  43  45  46  47  48  50  51  52  53  55  56  57  58  59  60  61  63  64  65  66  68  69  71  72  73  74  75  76  77  79  80  81  82  83  84  85  86  87  91  92  93  94  95\n",
      "  96  97  98  99 100 101 102 103 104 105 106 109 110 111 112 113 114 115 116 117 120 121 122 123 125 126 127 128 129 130 131 132 134 135 136 137 139 141 143 144 145 147 148 149 150 151 152 153 154 155 156 157 158 159 161 166 167 168 169 170 171 172 173 174 179 180 182 183 184 185 186 187 188 189 190 192 193 194 196\n",
      " 197 198 201 205 206 208 209 210 212 215 217 218 219 220 225 226 227 229 230 234 238 241 245 247 248 249 250 252 253 255 256 257 265 268 269 273 274 278 279 283 284 286 287 288 289 290 291 293 297 300 301 302 306 309]\n",
      "[  1.04924434  16.97106489  25.60729399  35.20045339 101.51700113] 212 210\n",
      "Distances under 100: [35.36091533 17.10510989 98.99995883 42.62100216  1.04924434 15.44799405  9.1154586  12.52084482 36.66744848  9.66266909 11.64395316 36.80632411 31.35406592 32.38104562 27.28976118 20.20397677 46.05103437 22.26874631 37.39921631 30.85686595 16.10887056  6.37321496 34.33949818 31.1790506  11.84796255 86.9302643\n",
      " 16.83699228  7.1700446  28.93204791 36.39697106 30.80654814 13.66965792 17.06103598 19.34202388 27.20441501  9.11314307  9.29837346 15.1490623  14.72866475 20.05890957 60.99974474 24.35130628 32.87196505 26.38734693 35.17668659 19.9918218  11.63372811 31.75960214 20.21849492 17.72763921 17.29291078 33.91489967\n",
      " 29.02974424 15.79477125 38.02350856 10.54300956 22.14454951 33.88320108 34.79475663 33.72630843 30.50275511 26.00479543 24.44532588 38.5490752  24.16499447 18.00742466 17.49678356 19.66684784 32.2290468  23.44146102 23.81881265 34.19721167 25.53273337 16.20470957 33.35686371 13.76522085 17.58851622 14.75881806\n",
      " 20.47908232 41.74039838 34.47303231 43.03940568 47.91960857 26.360478   36.14966003 86.41113582 99.5956714  35.47242434 24.214905   37.98081784 27.85651284 24.80890434 23.49546907 33.10256099 35.41129725 35.29527183 37.83154081 33.50973756 43.57114262 16.65511689 22.1352326  48.805362   34.25621991 20.91037579\n",
      " 15.81747421 14.66328508 35.27175381 37.05131965 24.05628193  9.00207949 29.01780981 25.52350716 35.30714779 19.52894463 17.56717877 34.7439406  72.60057243  9.32544361 20.48704221 15.55224613 22.47367403 16.9909216  31.34206565 19.30493397 87.03125906 16.91149475 34.65405686 15.54406307 21.27025641 11.49059313\n",
      " 32.71089231 22.35649087 27.98925911  8.50373244 61.77623328 21.6206286  91.96864715 22.09504893 22.69035095 13.73637816 31.09414327 25.6818546  17.59977952 25.84542917 37.21396135 33.45810603 22.90675552 26.20831427  2.85390291 22.16553203 10.1816714  14.36036708 19.63123895 17.45871983 21.26104396 15.67805791\n",
      " 16.22966995 27.4553012  26.07990116 31.85404083 31.8207358  13.82105208  3.4472297  31.35161481 11.00558635 13.78449724 11.43562096 56.16068373 13.45289454 94.93749154 53.0305014  23.97112941  9.94490142 13.13667185 34.23047073 37.7303009  26.66027457 96.52460587 88.31468156 10.23558676 40.82523468 16.48812392\n",
      " 39.82067363 22.06915708  7.4188308  28.68027155 35.45250458 32.11918407 20.14909342 84.20930933 88.40866476 25.96345716 43.04011078 23.88127477  9.51133603 85.29451742 36.6436236  10.56543759 52.00657865 28.18881817 16.29747313 21.54489743 70.21549089 30.90851044 75.16826937 17.60614387 32.13624409 25.2578391\n",
      " 14.08600226 87.39593604]\n",
      "Enter Matching\n"
     ]
    },
    {
     "data": {
      "application/vnd.jupyter.widget-view+json": {
       "model_id": "ba9934e2471647c3bf6c50c987584e0f",
       "version_major": 2,
       "version_minor": 0
      },
      "text/plain": [
       "Descriptor Matching (Flipped):   0%|          | 0/547 [00:00<?, ?it/s]"
      ]
     },
     "metadata": {},
     "output_type": "display_data"
    },
    {
     "name": "stdout",
     "output_type": "stream",
     "text": [
      "Results Update: 212 305 261\n",
      "261\n",
      "IDX 260\n",
      "DISTNACE 203\n",
      "DBSCAN 260\n",
      "INTERSECT 203\n",
      "204\n",
      "[  0   1   2   3   4   5   6   7   8   9  10  11  12  13  14  15  16  17  18  19  20  21  22  23  24  25  26  27  28  29  30  31  32  33  34  35  36  37  38  39  40  41  42  43  44  46  47  48  49  50  51  52  53  54  55  56  57  58  59  60  61  62  63  64  65  66  67  68  69  70  71  72  73  74  75  76  77  78  79\n",
      "  80  81  82  83  84  85  86  87  88  89  90  91  92  93  94  95  96  97  98  99 100 101 102 103 104 105 106 107 108 109 110 111 112 113 114 115 116 117 118 119 120 121 122 123 124 125 126 127 128 129 130 131 132 133 134 135 136 137 138 139 140 141 142 143 144 145 146 147 148 149 150 151 152 153 154 155 156 157 158\n",
      " 159 160 161 162 163 164 165 166 167 168 169 170 171 172 173 174 175 176 177 178 179 180 181 182 183 184 185 186 187 188 189 190 191 192 193 194 196 203 207 222 223 226 227 228 243 245]\n",
      "[  6.66659712  23.82852092  33.7637926   43.33121385 113.39543641] 204 194\n",
      "Distances under 100: [16.08318263 15.35141899 22.56883834 51.63898663 55.03997798 32.07517531 24.91584261 29.66789858 45.88157524 28.07817347 45.45937909 39.65118463 41.46995314 25.31108274 17.42689116 48.16032505 21.06602961 46.78857073 38.92846816 13.86821208 14.65681681 43.33669119 36.99739103 29.77434675 88.92566889 14.81496333\n",
      " 23.90818116 35.27735784 45.09093025 39.5165993  27.28101643 22.25054251 36.31930662 33.20592844 26.19724892 52.11835336 55.62900955 14.74265119 31.83074955 40.72352763 35.81610344 43.62548235 19.60747872 29.76936985 37.17529526 20.74718385 19.31438152 42.1002757  36.10166726 15.52076749 23.04042785 28.92904108\n",
      " 24.7058351  45.87893593 43.76145453 38.05639305 34.81571488 35.14305825 27.88639255 48.66457416 27.11033394 34.18511512 16.67836226 33.68367666 40.81504416 23.34624679 41.74018723 41.17609542 27.36368899 17.45552681 42.94593858 29.55560547 31.5289412  14.25404583 21.61676125  6.66659712 41.82465254 52.04227696\n",
      " 43.32938807 12.36201755 29.39198651 40.69049602 29.17674352 34.19465123 34.64161006 32.11093269 39.73764284 32.77628167 30.80406995 23.53490479 33.06197875 38.0711484  36.16108752 46.75992966 45.29038063 18.97799766 21.3846623  50.2042032  40.59559014 24.78262022 16.00042155 41.71560278 44.96959943 22.76746693\n",
      " 23.82982354 38.415888   24.34018043 44.07170151 18.3517671  21.87288755 33.7888798  17.33269134 99.81456898 26.66470809 23.82461307 22.30172209 21.61396744 34.39096122 40.81504788 21.82947866 35.53968951 32.35227277 35.92161294 20.94146017 35.93116028 27.09459408 45.74294527 58.97391643 55.96808748 23.35451948\n",
      " 78.99582901 21.74645987 40.78183999 30.06118362 32.88001054 42.96999369 49.09432942 33.84449239 33.56301278 41.35005791 52.4982244  30.80566604 19.77654958 18.90863141 26.33575332 16.55253389 36.3607059  34.22207937 26.17933032 21.59733444 15.28770146 24.41903375 24.17082058 33.73870539 41.08568573 29.99083982\n",
      " 18.42110981 39.40606888 26.70160979 12.04675495 26.15953728 18.57689209 63.82180627 19.55456835  8.12017274 30.83626044 43.69488505 39.17624143 27.43860573 86.79316442 22.27586015 16.42772461 49.41804153 21.66374311 28.30453492 40.9724058  39.1956462  40.95872971 97.60292408 44.29122477 54.21350598 76.89937184\n",
      " 35.14945305 28.71251793 55.28854182 15.60984499 30.05982649 65.78716974 43.45914685 89.72022339 41.54130819 95.74694022 27.09872884 32.97237659]\n",
      "Enter Matching\n"
     ]
    },
    {
     "data": {
      "application/vnd.jupyter.widget-view+json": {
       "model_id": "6da7d5ad5aa24130a9ceb6124084a033",
       "version_major": 2,
       "version_minor": 0
      },
      "text/plain": [
       "Descriptor Matching (Flipped):   0%|          | 0/547 [00:00<?, ?it/s]"
      ]
     },
     "metadata": {},
     "output_type": "display_data"
    },
    {
     "name": "stdout",
     "output_type": "stream",
     "text": [
      "Results Update: 204 305 262\n",
      "262\n",
      "IDX 261\n",
      "DISTNACE 212\n",
      "DBSCAN 261\n",
      "INTERSECT 212\n",
      "213\n",
      "[  0   1   2   3   4   5   6   7   8   9  10  11  12  13  14  15  16  17  18  19  20  21  22  23  24  25  26  27  28  29  30  31  32  33  34  35  36  37  38  39  40  41  42  43  44  45  46  47  48  49  50  51  52  53  54  55  56  57  58  59  60  61  62  63  64  65  66  67  68  69  70  71  72  73  74  75  76  77  78\n",
      "  79  80  81  82  83  84  85  86  87  88  89  90  91  92  93  94  95  96  97  98  99 100 101 102 103 104 105 106 107 108 109 110 111 112 113 114 115 116 117 118 119 120 121 122 123 124 125 126 127 128 129 130 131 132 133 134 135 136 137 138 139 140 141 142 143 144 145 146 147 148 149 150 151 152 153 154 155 156 157\n",
      " 158 159 160 161 162 163 164 165 166 167 168 169 170 171 172 173 174 175 176 177 178 179 180 181 182 183 184 185 186 187 188 189 190 191 192 193 194 195 196 197 198 200 201 202 203 210 212 213 215 216 218 222 226 234 244]\n",
      "[  8.94248132  30.25272913  35.7558326   45.08259764 112.93818486] 213 200\n",
      "Distances under 100: [ 8.94248132 25.92826705 24.32230916 45.22983209 47.38796902 36.79801379 27.88210433 34.27740655 40.8117887  30.39862951 44.21747208 35.7558326  36.64706666 34.51609332 26.01068963 60.96894413 29.70606006 39.38325613 34.81157311 23.0443955  17.67594181 36.48036253 32.8155214  34.70448335 91.00508217 23.67140369\n",
      " 27.87123764 35.01083216 23.29507309 34.9878172  29.60755645 24.93897924 41.13995416 80.68428678 32.29108387 43.09590149 45.66978665 25.71031261 33.81233308 36.29189184 28.52110631 35.99592118 31.08100207 35.02660468 40.0658672  29.68819872 19.75861405 34.70236011 32.53541086 25.39533113 20.08955311 33.16584373\n",
      " 26.57474897 84.61441293 37.0522559  38.09862152 36.84038356 28.82995788 37.75496766 47.25649476 37.43327654 37.21938872 27.59630344 34.84181309 35.26436445 35.01558196 44.15761975 41.34328531 37.65231632 27.90224981 35.62216798 32.6457663  32.86404831 24.75037607 31.99190863 13.79458958 38.21741769 48.53760898\n",
      " 45.45790074 13.16394353 41.26121668 50.68739186 24.64850764 45.76646688 35.82351122 26.80680138 52.45497426 42.31199324 40.70587346 35.929831   46.16117698 38.79244563 49.09734367 41.17113718 58.13979202 29.43626719 32.73265505 53.26959791 36.63266339 34.33262076 27.45446733 38.04281636 37.7980804  34.26937336\n",
      " 30.55142336 30.80496466 34.00522414 38.18716885 20.87878089 31.33067715 45.70672466  9.8878278  31.22251956 33.82859093 11.86500609 32.7729224  38.37428002 33.03100957 32.37089195 35.37771263 35.23574021 19.45372343 32.69806553 99.60820683 36.07880113 37.98981543 51.95471248 49.2262706  58.69141715 33.17987757\n",
      " 71.47378358 32.11554686 44.55933101 34.63189889 45.08259764 45.31351923 34.1765918  35.09077658 37.18814625 55.03213248 40.72968241 24.94434209 30.72542987 30.25272913 25.19678619 38.98096317 38.22857876 25.652537   24.36018564 25.91286355 35.66183303 33.36947514 44.79876956 16.59818629 34.33140169 20.71437712\n",
      " 34.80755017 29.44671501 22.81755367 28.70269223 13.27157737 62.33793378 30.43633839 14.26202401 34.7517092  35.83569243 49.37090309 37.54917632 96.95579369 84.65454226 23.93635512 27.10889816 42.73194562 24.07671214 38.29721666 37.20105105 42.14223982 42.42134842 54.2968316  45.86625207 52.63357244 78.71585188\n",
      " 40.41508288 33.63802944 54.17780474 16.36552216 37.06543282 71.33102404 45.69999371 91.29366432 35.87334394 21.90885742 99.1863737  26.87363201 22.45092076 40.28635256 91.41885998 35.10880764 32.53776521 82.67789947]\n",
      "Enter Matching\n"
     ]
    },
    {
     "data": {
      "application/vnd.jupyter.widget-view+json": {
       "model_id": "f562340cf0ec4d2994190d16d83589e1",
       "version_major": 2,
       "version_minor": 0
      },
      "text/plain": [
       "Descriptor Matching (Flipped):   0%|          | 0/547 [00:00<?, ?it/s]"
      ]
     },
     "metadata": {},
     "output_type": "display_data"
    },
    {
     "name": "stdout",
     "output_type": "stream",
     "text": [
      "Results Update: 213 305 265\n",
      "265\n",
      "IDX 264\n",
      "DISTNACE 215\n",
      "DBSCAN 264\n",
      "INTERSECT 215\n",
      "216\n",
      "[  0   1   2   3   4   5   6   7   8   9  10  11  12  13  14  15  16  17  18  19  20  21  22  23  24  25  26  27  28  29  30  31  32  34  35  37  38  39  40  41  42  43  44  45  46  47  48  49  50  51  52  53  54  55  56  57  58  59  60  61  62  63  64  65  66  67  68  69  70  71  72  73  74  75  76  77  78  79  80\n",
      "  81  82  83  84  85  86  87  88  89  90  91  92  93  94  95  96  97  98  99 100 101 102 103 104 105 106 107 108 109 110 111 112 113 114 115 116 117 118 119 120 121 122 123 124 126 127 128 129 130 131 132 133 134 135 136 137 138 139 140 141 142 143 144 145 146 147 149 150 151 152 153 154 155 156 158 159 160 161 162\n",
      " 163 164 165 166 167 168 169 170 171 172 173 174 175 176 177 178 179 180 181 182 184 185 186 187 188 189 190 191 192 193 194 195 196 197 198 199 200 201 202 203 204 205 206 207 208 209 210 211 212 214 218 222 228 232 238 243 256 262]\n",
      "[  9.28657166  29.25616576  36.91869601  46.37698607 117.13806642] 216 200\n",
      "Distances under 100: [ 9.28657166 23.45101406 26.37176931 48.6937961  48.03509529 36.76332138 28.63249505 34.27960344 44.46184537 31.41239491 45.79337718 38.32801184 40.14577524 32.92505786 24.80132759 56.15563993 28.43415723 43.21865639 37.4821998  21.49980558 18.13086429 39.95688929 34.68933088 35.01997614 87.75351812 22.32227841\n",
      " 28.36173098 35.81702944 20.49673269 38.07350057 31.18136465 25.09400018 41.14988574 31.86718702 44.47447793 22.82465587 29.07441509 46.24887527 32.87071217 39.75148708 28.0279377  34.76588847 40.51156581 26.17695436 20.3042197  38.17831526 34.94948424 23.12169508 20.45184654 33.16545732 26.21246704 80.90727255\n",
      " 40.51022153 38.19829282 36.31101622 24.50410108 34.85349686 49.341823   34.41622555 37.45239686 24.97360362 35.42609488 38.36815472 31.45623038 45.02965019 41.94861388 35.20912733 25.40410241 39.76837347 33.12568814 33.63693635 22.21200916 28.74799389  9.81125159 40.29371518 51.0437731  43.84934692 14.87282487\n",
      " 37.01336258 47.50419778 27.45712653 42.51630927 34.59470764 30.13324286 47.80905069 39.19964867 36.82402944 31.48615815 41.60233542 38.41490888 44.62450827 44.28955436 53.53034926 26.27141566 29.70879472 51.89348206 38.14437768 31.45308667 23.96713314 39.65282953 41.0140284  31.30576884 30.00811816 35.04024303\n",
      " 31.93749773 41.4302713  22.45464364 28.28205556 42.15447205 14.20957881 31.3338772  30.31375971 16.45921666 29.9448298  38.74105437 37.35308468 29.31674931 36.17612363 36.26960501 21.89466634 29.35069338 36.04940366 33.53250655 51.59289988 50.99659525 57.76607326 57.231518   72.04517268 29.89784338 45.00497648\n",
      " 34.66406253 41.20296584 45.42312403 35.14283038 37.1348582  39.63533339 56.55308065 37.33444737 25.0600176  27.58807317 30.44546235 22.00448265 38.28868276 26.75459918 25.28086735 23.26513306 33.00865353 31.93302578 41.79636042 19.07037121 22.8166415  45.33756796 29.99801793 20.20069143 30.62974687 15.57133298\n",
      " 65.95455504 28.01981994 14.02782673 35.09016055 40.01299274 46.81775466 35.06156833 98.62153857 86.11367263 25.67115488 24.26473528 46.82679924 26.11602942 36.24347393 38.41456366 42.63733854 38.26863964 61.56658218 56.67239395 74.3373124  41.05057507 33.51991687 57.3012237  16.39410224 36.57563827 73.20261661\n",
      " 46.76131848 93.58547227 39.19837453 22.54879474 28.79254314 21.89794098 73.19367709 91.72539727 39.65912793 35.57459003 79.97234244 63.95947932 69.53672534 87.61333716 38.85059443 88.89243622 72.83173706 61.43593461]\n",
      "Enter Matching\n"
     ]
    },
    {
     "data": {
      "application/vnd.jupyter.widget-view+json": {
       "model_id": "f25979705d044e5a9ce0385adc407d41",
       "version_major": 2,
       "version_minor": 0
      },
      "text/plain": [
       "Descriptor Matching (Flipped):   0%|          | 0/547 [00:00<?, ?it/s]"
      ]
     },
     "metadata": {},
     "output_type": "display_data"
    },
    {
     "name": "stdout",
     "output_type": "stream",
     "text": [
      "Results Update: 216 305 269\n",
      "269\n",
      "IDX 268\n",
      "DISTNACE 230\n",
      "DBSCAN 268\n",
      "INTERSECT 230\n",
      "231\n",
      "[  0   1   2   3   4   5   6   7   8   9  10  11  12  13  14  15  16  17  18  19  21  22  23  24  25  26  27  28  29  30  31  32  33  34  35  36  37  38  39  40  41  43  44  45  46  47  48  49  50  51  52  53  54  55  56  57  58  59  60  61  62  63  64  65  66  67  68  69  70  71  72  73  74  75  76  77  78  79  80\n",
      "  81  82  83  84  85  86  87  88  89  90  91  92  93  94  95  96  97  98  99 100 101 102 103 104 105 106 107 108 109 110 111 112 113 114 115 116 117 118 119 120 121 122 123 124 125 126 127 128 129 130 131 132 133 134 135 136 137 138 139 140 141 142 143 144 145 146 147 148 149 150 151 152 153 154 155 156 157 158 159\n",
      " 160 161 162 163 164 165 166 167 168 169 170 171 172 173 174 175 176 177 178 179 180 181 182 183 184 185 186 187 188 189 190 191 192 193 194 195 196 197 198 199 200 201 202 203 204 205 206 207 208 209 210 211 212 213 214 215 216 217 218 221 223 227 232 235 242 243 244 245 253 256 258 259 266]\n",
      "[  4.82692575  40.18820529  54.885854    70.20521237 174.04185052] 231 191\n",
      "Distances under 100: [15.58285503 28.44612696 61.34486806 23.13353418 63.02001039 54.90843591 61.44104812 57.12519586 58.63510073 66.29321185 53.77544898 53.24167616 34.04863358 24.97571408 70.71933986 29.91694887 55.27502922 57.68080022 24.04756602 52.47258428 48.1546363  63.45057055 94.2900427  24.64392813 54.885854   57.66881894\n",
      " 29.27571033 52.15306857 51.78759267 35.7044269  67.88182409 60.29620754 23.48360799 31.36624533 27.60081159 40.61597168 43.78976473 50.32526506 37.16673709 67.38168981 35.64134752 42.76881025 49.06049735 65.68545484 27.94018683 49.33696678 62.64930902 53.12838466 53.07599276 59.44442501 63.01802389 21.05544813\n",
      " 45.46796829 69.69108487 45.12280098 63.61270692 32.71921898 60.27208208 51.81504127 40.39925051 72.72179132 65.05143961 44.43011973 34.75188991 51.4214874  58.73453009 58.35373023 28.75935216 36.61345273 27.14262008 55.90660921 67.54003387 58.36957759  9.04861015 51.53257491 60.31212959 40.41767387 52.31642184\n",
      " 54.24539259 42.06115071 61.74860261 51.97466913 52.76311119 42.55401115 53.70436962 59.47011746 57.67520307 58.12993597 67.46852101 36.45726514 37.47008862 75.10761198 53.47736689 42.28209995 33.42294618 55.13635013 52.11606637 39.02987518 56.24644615 46.13916338 34.51029823 54.5608387  18.83424174 39.861529\n",
      " 49.79228704  4.82692575 58.77766163 41.49613887  5.33178038 37.31596873 48.30410083 39.97716008 58.28241352 59.84064397 62.31952017 38.79378336 56.45308665 49.49160317 26.33217339 66.12105564 51.23430884 47.22796069 37.05713746 60.42019862 54.24559647 85.49589164 34.3692315  28.2682393  54.62748792 78.69440193\n",
      " 50.36778579 51.96064117 33.34053213 56.53018881 29.34693789 64.81973978 49.02294916 29.13539782 38.01286958 35.22155817 52.44070693 31.54574255 45.7197907  39.45686355 56.71953154 26.12540654 54.16058598 55.6371364  77.4953822  31.38105599 12.55801413 62.93821275 51.26794172 54.56323465 41.69723245 78.69881783\n",
      " 46.92389278 31.31146901 58.63573902 41.62813917 53.29198939 72.64330535 28.26905154 68.01047005 68.49732521 71.04989061 38.57109363 62.4599855  57.69101845 61.19906851 65.06099504 53.3179177  99.16897333 97.49341319 34.33912619 42.47247846 33.53717775 61.92870671 82.08138985 33.0309871  33.53084379 54.23738661\n",
      " 87.25435973 81.97244841 88.061129   86.9109023  38.49108253 67.44085321 57.45257907 38.26975547 83.68486807]\n",
      "Enter Matching\n"
     ]
    },
    {
     "data": {
      "application/vnd.jupyter.widget-view+json": {
       "model_id": "155d66fe14c04160b1964770cab54791",
       "version_major": 2,
       "version_minor": 0
      },
      "text/plain": [
       "Descriptor Matching (Flipped):   0%|          | 0/547 [00:00<?, ?it/s]"
      ]
     },
     "metadata": {},
     "output_type": "display_data"
    },
    {
     "name": "stdout",
     "output_type": "stream",
     "text": [
      "Results Update: 231 315 273\n",
      "273\n",
      "IDX 272\n",
      "DISTNACE 246\n",
      "DBSCAN 272\n",
      "INTERSECT 246\n",
      "247\n",
      "[  0   1   2   3   4   5   6   7   8   9  10  11  12  13  14  15  16  17  18  19  20  21  22  23  24  25  26  27  28  29  30  31  32  33  34  35  36  37  38  39  40  41  42  43  44  45  46  47  49  50  51  52  53  54  55  56  57  58  59  60  61  62  63  64  65  66  67  68  69  70  71  72  73  74  75  76  77  78  79\n",
      "  80  81  82  83  84  85  86  87  88  89  90  91  92  93  94  95  96  97  98  99 100 101 102 103 104 105 106 107 108 109 110 111 112 113 114 115 116 117 118 119 120 121 122 123 124 125 126 127 128 129 130 131 132 133 134 135 136 137 138 139 140 141 142 143 144 145 146 147 148 149 150 151 152 153 154 155 156 157 158\n",
      " 159 160 161 162 163 164 165 166 167 168 169 170 171 172 173 174 175 176 177 178 179 180 181 182 183 184 185 186 187 188 189 190 191 192 193 194 195 196 197 198 199 200 201 202 203 204 205 206 207 208 209 210 211 212 213 214 215 216 217 218 219 220 221 222 223 224 225 226 227 228 229 230 231 234 239 240 242 249 251\n",
      " 253 254 255 256 257 259 265 266 269 272]\n",
      "[  3.66962981  45.58136948  61.26092145  86.09075323 194.22818875] 247 191\n",
      "Distances under 100: [24.42253833 35.37387796 61.7193318  12.97259743 71.75948621 63.55395455 70.36825474 58.95036663 67.25988208 71.06356789 56.28115385 55.24565582 40.7718262  31.79401027 78.3241908  36.52304619 54.858252   54.04064524 31.00389958 52.36016591 49.65819336 72.82247238 93.26988206 31.6254719  63.78772551 62.97808212\n",
      " 28.26692163 54.26801022 59.34378981 41.36619713 76.68351164 69.89673756 15.29556907 38.45970845 25.11387972 37.45334305 43.70093419 49.4078865  44.75027041 75.6410634  40.81716939 48.69541201 48.17116723 61.65540665 34.39796924 45.4803703  59.99221493 53.10925851 64.50606263 69.88215571 18.50361036 52.16178634\n",
      " 74.60987339 52.04897083 71.78748763 40.17820054 67.79589375 52.85401556 47.44046417 81.02101269 70.69647289 51.88167665 42.14103148 51.28140649 67.07431847 66.08311661 35.63533534 42.76655682 33.49617614 58.33969853 70.45282655 64.28875246 15.27555767 58.83766212 92.01594805 42.27736617 85.78025297 59.46098186\n",
      " 43.37389397 69.30228136 58.55630154 59.32033645 49.33681427 61.34964152 64.86418376 65.48434333 59.18427893 75.25970841 43.13224191 44.81870111 82.13610594 67.63100767 48.79284856 40.25145242 57.09440604 51.26538535 46.72132685 65.72368677 45.68236867 40.9558707  55.33593093 24.50792199 46.25947519 57.12446027\n",
      "  4.787829   67.84621612 47.66438941  3.66962981 44.75650785 47.73656383 46.97099404 64.92115214 67.84876011 54.53679735 46.26453761 61.50711288 56.06919306 16.94811856 72.87483959 43.5231741  36.89285971 44.69107277 69.08645516 62.13775838 74.33623331 31.51950696 33.13644609 56.72704519 86.40125349 56.96009009\n",
      " 61.26092145 40.74931658 65.19735298 34.32467868 73.32789422 56.90401248 35.89601637 45.82837095 42.75975811 60.12475918 30.1093669  53.58023124 36.38580165 65.28821876 32.99539995 62.13153933 52.66566348 81.99943615 39.12837646 18.7874145  71.84883161 50.56045119 61.63873265 48.52159325 77.45013959 54.61229169\n",
      " 38.01841583 59.13397868 48.94929848 54.71263976 81.4577091  27.47817441 70.69374913 73.20928457 67.69360065 44.69352452 71.7885775  60.32500475 59.39089476 71.64260216 54.48357214 33.07343201 93.65286867 41.78137486 31.72429229 52.50777073 70.37684543 25.09122843 27.31222785 47.33654287 76.09131352 70.44183624\n",
      " 97.02195867 95.18881013 35.98835094 59.4229533  53.89486004 35.29362861 75.99697265 78.89552458 29.8853797 ]\n",
      "Enter Matching\n"
     ]
    },
    {
     "data": {
      "application/vnd.jupyter.widget-view+json": {
       "model_id": "d62c3b16197742f69bd7605eb6c6295a",
       "version_major": 2,
       "version_minor": 0
      },
      "text/plain": [
       "Descriptor Matching (Flipped):   0%|          | 0/547 [00:00<?, ?it/s]"
      ]
     },
     "metadata": {},
     "output_type": "display_data"
    },
    {
     "name": "stdout",
     "output_type": "stream",
     "text": [
      "Results Update: 247 313 273\n",
      "273\n",
      "IDX 272\n",
      "DISTNACE 260\n",
      "DBSCAN 272\n",
      "INTERSECT 260\n",
      "261\n",
      "[  0   1   2   3   4   5   6   7   8   9  10  11  12  13  14  15  16  17  18  19  20  21  22  23  24  25  26  27  28  29  30  31  32  33  34  35  36  37  38  39  40  41  42  43  44  45  46  47  48  49  50  51  52  53  54  55  56  57  58  59  60  61  62  63  64  65  66  67  68  69  70  71  72  73  74  75  76  77  78\n",
      "  79  80  81  82  83  84  85  86  87  88  89  90  91  92  93  94  95  96  97  98  99 100 101 102 103 104 105 106 107 108 109 110 111 112 113 114 115 116 117 118 119 120 121 122 123 124 125 126 127 128 129 130 131 132 133 134 135 136 137 138 139 140 141 142 143 144 145 146 147 148 149 150 151 152 153 154 155 156 157\n",
      " 158 159 160 161 162 163 164 165 166 167 168 169 170 171 172 173 174 175 176 177 178 179 180 181 182 183 184 185 186 187 188 189 190 191 192 193 194 195 196 197 198 199 200 201 202 203 204 205 206 207 208 209 210 211 212 213 214 215 216 217 218 219 220 221 222 223 224 225 226 227 228 229 230 231 232 233 234 235 236\n",
      " 237 238 239 240 241 242 243 244 245 246 247 248 249 250 254 255 256 257 258 259 260 265 270 272]\n",
      "[  4.07903282  52.06548133  70.84725097 112.87225073 215.99445348] 261 185\n",
      "Distances under 100: [36.07037932 42.07796465 64.73484955  4.07903282 83.79600526 75.51671205 82.84588464 62.31287668 79.52742722 79.60211781 61.56906389 58.92711925 45.57415677 36.65846307 89.27793313 40.96308381 57.23119718 53.77306527 36.65857795 55.19848308 54.38423378 85.73900319 96.2265063  37.05617501 75.90767254 72.6309401\n",
      " 33.43518248 58.60671952 68.30219012 46.60675651 88.8332955  83.24899036 13.3875204  46.19088735 29.6506959  39.99127762 45.57764574 51.14288791 53.2191879  47.46309991 58.59270082 50.18145543 60.67193894 40.1119938  45.21943888 72.40841337 56.01687161 74.50015784 82.6587794  22.78725763 59.64788295 82.75457439\n",
      " 59.88525283 47.94933378 56.60534383 55.72980882 93.16987066 81.11208145 59.42729324 49.83254552 53.4477356  78.73146375 42.47451164 49.58160641 43.68050954 64.02214684 76.33097748 75.23043239 18.25217833 69.06919459 84.551697   46.28603473 77.50763187 70.22356231 46.53864186 79.96281441 66.6796876  69.00351389\n",
      " 58.75684855 71.74154022 75.38774268 76.05613833 63.06991152 86.04609619 50.85118406 52.75128503 95.25425017 68.15999893 56.1644295  48.47679702 62.87730796 53.49384051 94.81242725 47.56639459 45.9723245  58.80248542 26.12778812 53.90088096 77.78097774  7.3042458  80.46883523 55.47824235 12.94875398 52.53763144\n",
      " 49.47084379 54.94832082 75.27329597 78.24884289 48.17731988 54.93101862 71.33701194 66.31855313 13.56836122 82.78012233 37.66526428 23.45256687 52.06548133 80.91236824 72.19407268 58.96963356 27.96550563 33.37311894 61.81104397 96.23285902 65.42196341 73.7770863  48.89058966 77.21116346 39.93664511 97.19818467\n",
      " 67.75986524 42.6186788  53.67913285 48.91068581 68.64598848 33.14416427 63.29557269 38.99462518 77.54057786 40.02625295 72.10822399 53.49310554 85.20053601 46.83353217 22.22670744 84.47824265 52.4138416  68.50718281 54.94974648 72.12115876 64.06476124 44.97835218 61.50436818 55.40196836 60.34867227 94.84845105\n",
      " 34.54758214 70.84725097 76.50231048 69.83252157 46.89051411 85.13290677 58.98039084 53.78419609 79.39103043 58.3843607  99.03383219 36.6712269  86.84122296 45.66575608 35.68361279 42.98658114 54.04484523 18.65416094 23.20076111 41.39682893 60.48993306 54.22953907 40.23723108 53.72029559 55.66986263 38.07402846\n",
      " 67.62360697 72.85469951 37.09519772]\n",
      "Enter Matching\n"
     ]
    },
    {
     "data": {
      "application/vnd.jupyter.widget-view+json": {
       "model_id": "20994043542744249ebe9b3433486895",
       "version_major": 2,
       "version_minor": 0
      },
      "text/plain": [
       "Descriptor Matching (Flipped):   0%|          | 0/547 [00:00<?, ?it/s]"
      ]
     },
     "metadata": {},
     "output_type": "display_data"
    },
    {
     "name": "stdout",
     "output_type": "stream",
     "text": [
      "Results Update: 261 321 275\n",
      "275\n",
      "IDX 274\n",
      "DISTNACE 264\n",
      "DBSCAN 274\n",
      "INTERSECT 264\n",
      "265\n",
      "[  0   1   2   3   4   5   6   7   8   9  10  11  12  13  14  15  16  17  18  19  20  21  22  23  24  25  26  27  28  29  30  31  32  33  34  35  36  37  38  39  40  41  42  43  44  45  46  47  48  49  50  51  52  53  54  55  56  57  58  59  60  61  62  63  64  65  66  67  68  69  70  71  72  73  74  75  76  77  78\n",
      "  79  80  81  82  83  84  85  86  87  88  89  90  91  92  93  94  95  96  97  98  99 100 101 102 103 104 105 106 107 108 109 110 111 112 113 114 115 116 117 118 119 120 121 122 123 124 125 126 127 128 129 130 131 132 133 134 135 136 137 138 139 140 141 142 143 144 145 146 147 148 149 150 151 152 153 154 155 156 157\n",
      " 158 159 160 161 162 163 164 165 166 167 168 169 170 171 172 173 174 175 176 177 178 179 180 181 182 183 184 185 186 187 188 189 190 191 192 193 194 195 196 197 198 199 200 201 202 203 204 205 206 207 208 209 210 211 212 213 214 215 216 217 218 219 220 221 222 223 224 225 226 227 228 229 230 231 232 233 234 235 236\n",
      " 237 238 239 240 241 242 243 244 245 246 247 248 249 250 251 252 253 254 255 256 257 258 259 260 261 262 264 272]\n",
      "[  6.89263348  52.70713401  74.27889765 117.38976054 226.01189625] 265 183\n",
      "Distances under 100: [39.59171667 44.73675705 64.53719905  6.89263348 87.29174014 79.02722457 86.38372079 55.82006309 83.0493285  80.92528619 62.17246293 59.52270047 48.35541858 39.45386095 91.76282503 43.76811309 56.69515008 51.51403684 39.44751226 54.74808209 54.52752509 89.32607799 95.6144599  39.89445805 79.43988026 74.06051824\n",
      " 32.13119876 59.15185928 71.56940019 49.55462825 92.33583393 86.88484915 15.68058436 48.88907435 27.56916131 37.64949082 45.28771672 56.02058138 49.555457   60.32090701 49.42886416 58.33196607 42.72754186 42.85802651 74.24931923 55.6372004  75.72900563 84.43245195 20.9868696  62.28812214 84.23638494 62.56267754\n",
      " 50.77474354 56.64589633 58.28127156 96.63075067 82.60267332 62.33606168 52.70713401 53.09596355 82.18947039 45.15245657 51.96681249 46.17923491 64.51864106 77.06852402 76.81918045 21.15602289 71.60768757 81.16771008 46.74274608 74.26702404 71.41297961 46.82848658 82.47078044 69.24979831 71.41042709 93.72556977\n",
      " 74.27889765 76.71037552 78.6763326  63.10190062 88.63687368 53.42999292 55.47949588 97.03297467 65.94872673 58.7701899  50.98890566 63.09034716 52.72990861 91.6225875  47.07352027 48.61319013 58.7457876  29.06731522 56.45567346 74.61296677 10.02697326 84.03330655 57.84796632 15.34804354 55.32530206 48.94609356\n",
      " 57.63741473 78.44280743 81.63099299 44.99395547 99.70646468 72.58945884 68.60335436 15.88175516 85.03850724 34.45132892 19.89218859 55.02101606 84.39807894 74.97132732 55.67568706 29.32892262 36.28731927 62.22213373 99.01301482 67.9382473  77.35167897 90.87070976 80.71464944 42.06126856 94.74968516 70.44236608\n",
      " 45.22917985 56.55914808 51.9333989  71.52612485 31.86876436 66.30659285 36.67231035 81.05253479 42.64377304 75.12158542 51.46048785 87.95452236 49.66321879 24.93461056 88.02660841 51.79690989 71.29397089 57.66478914 73.37653727 67.36182537 47.5680125  61.48603429 58.30881483 60.28550367 98.40051484 33.84931552\n",
      " 72.44659759 79.17134386 67.43441005 49.864059   88.74421788 61.41528041 54.20217508 82.50922238 58.47284221 35.42277808 86.38296692 52.59536499 34.05647464 39.48822326 50.31872872 20.45259009 38.6483863  56.98917749 50.7300517  37.97710428 50.52511248 53.36993038 35.76806079 64.55225086 69.76910372 37.32538426\n",
      " 91.41942112]\n",
      "Enter Matching\n"
     ]
    },
    {
     "data": {
      "application/vnd.jupyter.widget-view+json": {
       "model_id": "d6667998928a40779c131c723f1d2fc1",
       "version_major": 2,
       "version_minor": 0
      },
      "text/plain": [
       "Descriptor Matching (Flipped):   0%|          | 0/547 [00:00<?, ?it/s]"
      ]
     },
     "metadata": {},
     "output_type": "display_data"
    },
    {
     "name": "stdout",
     "output_type": "stream",
     "text": [
      "Results Update: 265 322 280\n",
      "280\n",
      "IDX 279\n",
      "DISTNACE 278\n",
      "DBSCAN 279\n",
      "INTERSECT 278\n",
      "279\n",
      "[  0   1   2   3   4   5   6   7   8   9  10  11  12  13  14  15  16  17  18  19  20  21  22  23  24  25  26  27  28  29  30  31  32  33  34  35  36  37  38  39  40  41  42  43  44  45  46  47  48  49  50  51  52  53  54  55  56  57  58  59  60  61  62  63  64  65  66  67  68  69  70  71  72  73  74  75  76  77  78\n",
      "  79  80  81  82  83  84  85  86  87  88  89  90  91  92  93  94  95  96  97  98  99 100 101 102 103 104 105 106 107 108 109 110 111 112 113 114 115 116 117 118 119 120 121 122 123 124 125 126 127 128 129 130 131 132 133 134 135 136 137 138 139 140 141 142 143 144 145 146 147 148 149 150 151 152 153 154 155 156 157\n",
      " 158 159 160 161 162 163 164 165 166 167 168 169 170 171 172 173 174 175 176 177 178 179 180 181 182 183 184 185 186 187 188 189 190 191 192 193 194 195 196 197 198 199 200 201 202 203 204 205 206 207 208 209 210 211 212 213 214 215 216 217 218 219 220 221 222 223 224 225 226 227 228 229 230 231 232 233 234 235 236\n",
      " 237 238 239 240 241 242 243 244 245 246 247 248 249 250 251 252 253 254 255 256 257 258 259 260 261 262 263 264 265 266 267 268 269 271 272 273 274 275 276 277 278 279]\n",
      "[  9.86225825  54.60962625  80.65789579 129.33561733 241.43719911] 279 183\n",
      "Distances under 100: [42.80356278 47.25176096 64.43789898  9.86225825 90.52097296 82.22196257 89.68348878 55.0656486  86.27151022 82.36210254 62.81830469 59.95718923 50.70369595 41.8314056  86.86152558 46.05413018 56.31825623 50.62202779 41.89480227 60.47627288 54.89217705 92.65955086 95.79567921 42.33121726 82.6674735  75.70092236\n",
      " 64.57361105 59.64445746 74.23229502 51.73528934 95.57151027 90.34445947 18.0320934  51.51903998 27.10083815 36.95225445 44.99035218 58.80036056 51.72904216 62.15289864 48.91748886 57.29363376 45.07058387 41.89554144 76.43255338 55.42670597 77.32433926 86.63715846 20.64543242 64.80863404 85.69973877 65.15588751\n",
      " 53.47800016 65.80802951 60.92885296 99.8076205  84.36714674 65.0084595  55.38760316 52.79201604 85.34267519 47.66835776 54.32707545 48.98841595 65.16837301 77.8525649  78.89685999 23.39122742 74.45225943 78.24188427 47.17356631 71.27465106 73.13009683 47.05274361 85.37705227 71.79661099 74.07979268 90.7577819\n",
      " 77.19193436 78.44186042 81.6378649  63.24343896 91.60076169 55.97681051 58.16935289 99.36927234 65.18611962 61.2542979  53.60100901 63.60780605 52.24500748 88.69453165 46.66272745 50.90309455 58.78982109 31.05681488 58.95017823 71.73968234 12.36777981 87.35539788 60.29674382 18.13217396 58.0237554  48.49416712\n",
      " 60.26213355 81.33608686 84.55394674 42.30386607 96.74861807 74.19065964 71.31128615 18.35055451 87.5060486  31.839955   16.43902983 57.72634682 87.59717528 77.92123657 52.0282103  29.94541352 99.37940845 38.23114306 62.74282385 70.51431142 80.65789579 88.01377252 83.94355862 44.12854977 93.10623828 72.94840309\n",
      " 47.71093765 59.35519374 87.28438433 74.31861389 31.22775331 68.85177319 36.00770493 84.30285005 45.17425551 77.69449853 50.7754791  89.54020347 52.43854258 27.06987773 91.32959662 51.30767845 73.83554045 60.12828424 73.37350618 70.09598524 50.0571249  61.39149939 60.88421165 60.64788926 34.63852507 73.00412172\n",
      " 80.68629946 51.9371327  92.18209392 62.33318253 53.90540201 84.99571692 58.63869237 34.91583557 85.53741539 52.07331524 33.42000942 36.19358722 46.34955051 92.69665807 18.23546944 37.17189215 53.24334354 46.88154331 37.4441961  47.99314879 52.50518904 35.06531453 62.24097893 67.14981514 38.65902978 88.18999489\n",
      " 86.42308942]\n",
      "Enter Matching\n"
     ]
    },
    {
     "data": {
      "application/vnd.jupyter.widget-view+json": {
       "model_id": "e3d9f723126d4fd2a3e9506a4783aa0f",
       "version_major": 2,
       "version_minor": 0
      },
      "text/plain": [
       "Descriptor Matching (Flipped):   0%|          | 0/547 [00:00<?, ?it/s]"
      ]
     },
     "metadata": {},
     "output_type": "display_data"
    },
    {
     "name": "stdout",
     "output_type": "stream",
     "text": [
      "Results Update: 279 321 282\n",
      "282\n",
      "IDX 281\n",
      "DISTNACE 281\n",
      "DBSCAN 281\n",
      "INTERSECT 281\n",
      "282\n",
      "[  0   1   2   3   4   5   6   7   8   9  10  11  12  13  14  15  16  17  18  19  20  21  22  23  24  25  26  27  28  29  30  31  32  33  34  35  36  37  38  39  40  41  42  43  44  45  46  47  48  49  50  51  52  53  54  55  56  57  58  59  60  61  62  63  64  65  66  67  68  69  70  71  72  73  74  75  76  77  78\n",
      "  79  80  81  82  83  84  85  86  87  88  89  90  91  92  93  94  95  96  97  98  99 100 101 102 103 104 105 106 107 108 109 110 111 112 113 114 115 116 117 118 119 120 121 122 123 124 125 126 127 128 129 130 131 132 133 134 135 136 137 138 139 140 141 142 143 144 145 146 147 148 149 150 151 152 153 154 155 156 157\n",
      " 158 159 160 161 162 163 164 165 166 167 168 169 170 171 172 173 174 175 176 177 178 179 180 181 182 183 184 185 186 187 188 189 190 191 192 193 194 195 196 197 198 199 200 201 202 203 204 205 206 207 208 209 210 211 212 213 214 215 216 217 218 219 220 221 222 223 224 225 226 227 228 229 230 231 232 233 234 235 236\n",
      " 237 238 239 240 241 242 243 244 245 246 247 248 249 250 251 252 253 254 255 256 257 258 259 260 261 262 263 264 265 266 267 268 269 270 271 272 273 274 275 276 277 278 279 280 281]\n",
      "[ 12.3996139   55.08243267  83.1994768  130.03184    244.57433735] 282 181\n",
      "Distances under 100: [44.74162704 47.79617122 65.23132599 12.3996139  92.83402493 84.64888748 92.01140656 52.79681085 88.81096021 83.52998286 63.79740928 61.07044555 51.28002221 42.37075531 86.87244969 46.76014863 57.06331122 48.23386669 42.5104217  58.65179058 55.51689213 95.00708466 95.75672036 42.98932251 85.01008635 76.84323652\n",
      " 62.36876218 60.67360455 76.67503029 53.85500068 97.92248053 92.55064739 20.79398408 52.1972724  25.32391417 34.61174254 45.90803823 59.44446344 52.39858618 63.49888242 49.46760441 54.93168379 45.74993514 39.48315803 77.76024073 56.15423953 78.23254032 87.81957196 19.2290281  65.70979837 87.03203023 66.00225893\n",
      " 54.15436505 63.5836514  61.43355582 85.49893482 65.89237392 56.24465779 53.66508649 87.76967379 48.3296843  54.93761285 49.8347982  66.00194774 78.87022991 79.30672777 23.98134831 75.08188832 77.62017919 48.10869023 70.69711346 73.78791924 47.99157448 85.83541595 72.76503358 74.93002674 90.56398175 77.5534587\n",
      " 79.28862496 82.09491749 64.07629436 92.07533465 56.73608787 58.74446217 62.725781   62.18893359 54.15427973 64.24619376 52.73856002 88.17360156 47.48306026 51.49875202 59.60077627 31.89928879 59.8735637  71.36223282 12.71099124 89.67894587 61.02748246 18.50673039 58.62737769 49.32265958 61.07671238 83.90239773\n",
      " 87.03383545 41.58841152 96.29622372 75.07308406 71.94213883 21.36331378 87.80242869 31.06576408 15.10739415 58.48654079 89.89977273 78.57676013 52.01502379 32.55552576 96.81102943 38.70886928 63.60701186 71.39098829 82.86897074 87.70204658 86.27531903 44.82626005 90.67498289 74.67917034 48.29383667 59.79964171\n",
      " 86.63384127 75.11660566 31.44388615 71.02049869 33.64623881 86.74499675 45.72767815 79.84924764 48.727523   92.66490291 52.79215135 27.73752689 93.75694073 52.07922295 74.63496031 60.87555333 75.95377342 72.55455695 50.68169632 62.38574778 61.60927144 61.10094345 33.25642941 74.87851858 83.64406746 52.73576645\n",
      " 94.5163326  65.33344237 53.78540812 87.52444243 59.55356931 71.77149028 84.56291124 50.36466621 33.03260296 35.8417737  45.46281012 92.5195264  17.71299506 33.79228658 52.52798113 46.52507992 35.36243528 47.51026397 50.4204346  32.98224972 59.66932995 66.48442528 37.75305951 88.07742093 86.27793729]\n",
      "D:\\CaseStudies\\CornerDigitization\\FineAdjustment\\\\registration/48201C0870J.tif\n",
      "[[ 1.00822565e+00 -1.10028873e-04  8.77258991e+04]\n",
      " [ 1.10028873e-04  1.00822565e+00 -2.72553640e+04]\n",
      " [ 0.00000000e+00  0.00000000e+00  1.00000000e+00]]\n",
      "[[ 8.70803021e-01 -1.35167850e-03 -1.06258416e+07]\n",
      " [-3.61590195e-03 -8.81890090e-01  3.46403183e+06]\n",
      " [ 0.00000000e+00  0.00000000e+00  1.00000000e+00]]\n",
      "D:\\CaseStudies\\CornerDigitization\\FineAdjustment\\\\referencing\\48201C0870K.tif\n",
      "512 / 2183\n",
      "Enter Matching\n"
     ]
    },
    {
     "data": {
      "application/vnd.jupyter.widget-view+json": {
       "model_id": "e97d2182ebb847f09de0147f34a90875",
       "version_major": 2,
       "version_minor": 0
      },
      "text/plain": [
       "Calculating Descriptors:   0%|          | 0/3895 [00:00<?, ?it/s]"
      ]
     },
     "metadata": {},
     "output_type": "display_data"
    },
    {
     "data": {
      "application/vnd.jupyter.widget-view+json": {
       "model_id": "bf811101590449468d908057f4bd2d62",
       "version_major": 2,
       "version_minor": 0
      },
      "text/plain": [
       "Calculating Descriptors:   0%|          | 0/509 [00:00<?, ?it/s]"
      ]
     },
     "metadata": {},
     "output_type": "display_data"
    },
    {
     "data": {
      "application/vnd.jupyter.widget-view+json": {
       "model_id": "c27f4e48b7a64c4c90af16500049d1fb",
       "version_major": 2,
       "version_minor": 0
      },
      "text/plain": [
       "Descriptor Matching (Flipped):   0%|          | 0/509 [00:00<?, ?it/s]"
      ]
     },
     "metadata": {},
     "output_type": "display_data"
    },
    {
     "name": "stdout",
     "output_type": "stream",
     "text": [
      "304\n",
      "IDX 303\n",
      "DISTNACE 201\n",
      "DBSCAN 303\n",
      "INTERSECT 201\n",
      "201\n",
      "[  2   3   5   6   7  10  11  12  13  15  16  17  18  19  20  21  22  23  24  25  26  27  28  29  30  31  32  33  35  37  38  39  43  44  45  46  47  48  50  51  53  55  56  57  59  60  62  63  65  66  67  68  69  70  71  74  75  76  77  78  79  80  81  82  85  86  88  89  90  92  94  95  96  97  98  99 100 101 102\n",
      " 103 105 106 107 108 109 111 112 114 115 117 118 119 120 121 122 123 126 127 129 130 131 132 133 134 135 136 137 138 139 141 142 143 144 146 147 148 151 152 153 154 155 157 158 159 160 161 162 164 166 167 168 172 173 174 176 178 179 180 182 183 185 188 189 191 193 194 195 196 197 198 200 202 203 204 205 208 211 212\n",
      " 213 214 215 216 217 218 220 225 226 230 232 236 238 239 240 243 245 246 247 248 251 252 253 255 258 259 262 263 264 269 273 274 276 277 280 281 288 289 292 294 296 299 301]\n",
      "[ 3.70650231 19.49464542 24.94071759 30.7069675  92.86939299] 201 201\n",
      "Distances under 100: [30.66435863  7.08846017 12.21187494  4.92408565 27.60511585 18.06569734 16.69842299 18.19325023 33.13611996 22.03767154 20.61283483 26.96049345 24.81545607 20.28584529 18.05499608 28.90194971 13.2621873  17.0072936  24.02179039 12.70995792 27.49059709 13.14165931 26.57920339 89.51486713 21.11805133 83.16104742\n",
      " 31.24307952 21.92991702 23.00492497 12.77936214 29.84813032 26.80498071 19.98695079 25.2059181  30.39600533 18.58015967 34.59554919 16.74285888 44.15578619 16.83116347 16.77621467 22.84135841 26.56960861 82.25250108 31.45071873 19.33356204 25.08372537 25.75832014 31.58444899 29.00012868 23.67836555 21.15151702\n",
      " 26.57946877 25.83629686 20.67379705 27.24471032 24.48411897 21.71408721 24.90318793 22.77384584 22.21725056 18.49980523 26.11402021 78.27986228 27.34026002 23.30478441 20.87066339 24.94071759 17.57315978 25.12979986 41.16981217 18.30335524 23.22572557 27.12516183 30.08405636 23.47821251 17.97581761 90.61182913\n",
      " 32.12567969 27.5754919  17.98918538 16.26533954 16.21122706 21.7462102  33.48616721 34.99268623 20.3636814  26.0814315  28.9687054  22.31213298 19.75848356 30.17025824 13.12600137 27.17839462 22.79566223 25.51001202 21.04033603 46.95284282 32.00055721 17.63038779 26.89216827 31.43829814 90.07205424 29.42654353\n",
      " 31.4794555  19.11754646 31.18270801 82.70359295 10.99048646 33.53349426 20.76034278 78.46056049 18.95575527 15.30788761 19.43953973 35.97721351 26.75316147 19.18140141 21.04042315 29.06681323 15.47685872 38.99971456 30.7069675  23.49758139 30.65520359 29.13984415 29.84619306 26.07034502 47.92944727 33.24629515\n",
      " 13.1425737  39.31606294 20.46147357 30.30045433 20.9359928  17.37262852 77.64535623 29.98975284  5.9329171   6.66196011 22.26215218 35.56998144 20.36572705 45.3893927  19.49464542 31.55507369 22.6587273  20.91628607 27.4562046  21.57976169 23.95267674 23.43481401  6.75481657 21.56317987 12.95340534 29.07338542\n",
      " 18.71776944 29.99384383  3.70650231 13.13430273 26.01572567 30.3946277  35.80234681 29.61689629 46.68726841 16.56537887 17.91317816 13.83939892 21.54376445 55.17794315 36.56507449 23.99855096 46.15934882 23.32890189 28.64350938 27.32527104 36.40463481 36.95843112 49.50408236 27.70993065 45.47153178 23.944628\n",
      " 27.13465605 27.05343401 17.81688696 23.35660572 92.86939299 74.0692807  21.87905281 15.21595438 34.39411528 16.74430646 92.65402913 46.99252111 40.1697523  87.13088753 16.83313433 22.85033638 19.72601869  7.83944099 64.6624936 ]\n",
      "Enter Matching\n"
     ]
    },
    {
     "data": {
      "application/vnd.jupyter.widget-view+json": {
       "model_id": "3e8d0bd2e2a7409fac19a8c6d915078e",
       "version_major": 2,
       "version_minor": 0
      },
      "text/plain": [
       "Descriptor Matching (Flipped):   0%|          | 0/509 [00:00<?, ?it/s]"
      ]
     },
     "metadata": {},
     "output_type": "display_data"
    },
    {
     "name": "stdout",
     "output_type": "stream",
     "text": [
      "Results Update: 201 301 246\n",
      "246\n",
      "IDX 245\n",
      "DISTNACE 191\n",
      "DBSCAN 245\n",
      "INTERSECT 191\n",
      "192\n",
      "[  0   1   2   3   4   5   6   7   8   9  10  11  12  13  14  15  16  17  18  19  20  21  22  23  24  25  26  27  28  29  30  31  32  33  34  35  36  37  39  40  41  42  43  44  45  46  47  48  49  50  51  52  53  54  55  56  57  58  59  60  61  62  63  64  65  66  67  68  69  70  71  72  73  74  75  76  77  78  79\n",
      "  80  81  82  83  84  85  86  87  88  89  90  91  92  93  94  95  96  97  98  99 100 101 102 103 104 105 106 107 108 109 110 111 112 113 114 115 116 117 118 119 120 121 122 123 124 125 127 128 129 130 131 132 133 134 135 136 137 138 139 140 141 142 143 144 145 146 147 148 149 150 151 152 153 154 155 156 157 158 159\n",
      " 160 161 162 163 164 166 167 168 169 170 171 172 174 175 176 177 178 179 180 181 182 184 185 186 187 190 192 198 201 202 203 214 234 236]\n",
      "[  4.10050912  24.2997144   30.57542854  41.3961046  100.38728795] 192 191\n",
      "Distances under 100: [31.11892579 14.5589843  24.06183773  4.10050912 36.22634517 26.56924152 19.74166349 15.64935872 40.00979381 23.09507615 31.1427799  28.01229971 26.13491075 93.62438496 17.5124068  30.50244125 26.68719485 11.73959018 36.72709024 26.72397703 28.50639979 85.11365528 39.51296993 84.585355   21.65481345 41.28710627\n",
      " 27.32422116 30.99618383 30.32117782 34.64263821 27.18457296 23.45802793 22.38656516 31.23256581 23.42969993 80.86520215 15.28718881 51.41816006 16.90203791 22.37517568 21.09562642 91.06809075 31.65730189 32.86661651 25.54614237 37.18136144 41.96251517 59.90137384 35.03724934 22.373698   27.65441444 29.37365013\n",
      " 25.48778548 31.80530373 25.35543802 24.3053456  72.3390223  29.37815721 16.50724757 15.11362518 74.96366953 32.16897081 23.14337433 24.37555982 31.40231078 30.33855707 33.10598667 41.68562941 29.42258711 30.15195372 34.0468612  41.50181493 29.88523872 29.1584469  36.07789467 28.05256346 23.48590853 24.5915704\n",
      " 20.61676743 26.29142648 43.37074566 46.60686385 25.93160038 33.33056664 17.9889984  29.0487024  31.18729682 42.42870031 94.15176531 26.6440692  28.64653543 31.90246449 33.6100842  44.26273931 23.05738374 21.47786486 27.46853622 28.70108866 93.16623355 28.0004693  37.66070096 15.70514989 28.57576683 14.95103781\n",
      " 23.01562519 31.22450683 25.73977691 24.28282079 21.03219986 64.31094408 45.59045412 68.27084059 24.21431313 28.63571981 42.69003684 22.09620673 46.55539193 24.11151593 33.03083605 31.47592252 61.34383338 34.9685567  76.33412936 83.45791133 29.14006304 44.47470639 33.00629714 30.7952447  26.25515536 30.26703859\n",
      " 36.18328145  7.78674829 19.10423826 42.64535188 33.01125819 51.19731604 58.03478679 38.56658703 26.23819728 31.9492122  25.30750856 30.88232633 22.8721493  28.93275423 10.31262863 25.21925944 12.66640981 32.29572128 29.69942345 41.36086782  8.06964699 39.40087745 40.27737208 42.10512063 33.25702181 57.65525715\n",
      " 21.52049547 31.52529929 17.51285113 35.18946124 61.12432444 42.48470291 37.21753498 19.91781729 27.0732138  32.4636387  23.6851196  41.76312645 30.64841584 38.47724674 23.84046085 25.05082842 91.12677121 19.8674089  21.27679871 28.26444568 81.07137791 54.64387473 48.7806327  29.94075433  8.98490037 12.62560471\n",
      " 64.77959072 98.79280361 92.68876622 31.2535484  95.90695365 54.47826383 68.13095309 87.40725276 78.34605656]\n",
      "Enter Matching\n"
     ]
    },
    {
     "data": {
      "application/vnd.jupyter.widget-view+json": {
       "model_id": "8681656dcc7e4184a64033ec62a97460",
       "version_major": 2,
       "version_minor": 0
      },
      "text/plain": [
       "Descriptor Matching (Flipped):   0%|          | 0/509 [00:00<?, ?it/s]"
      ]
     },
     "metadata": {},
     "output_type": "display_data"
    },
    {
     "name": "stdout",
     "output_type": "stream",
     "text": [
      "Results Update: 192 309 256\n",
      "256\n",
      "IDX 255\n",
      "DISTNACE 211\n",
      "DBSCAN 255\n",
      "INTERSECT 211\n",
      "212\n",
      "[  0   1   2   3   4   5   6   7   8   9  10  11  12  13  14  15  16  17  18  19  20  21  22  23  24  25  26  27  28  29  30  31  32  33  34  35  36  37  38  39  40  41  42  43  44  45  46  47  48  49  50  51  52  53  54  55  56  57  58  59  60  61  62  63  64  65  66  67  68  69  70  71  72  73  74  75  76  77  78\n",
      "  79  80  81  82  83  84  85  86  87  88  89  90  91  92  93  94  95  96  97  98  99 100 101 102 103 104 105 106 107 108 109 110 111 112 113 114 115 116 117 118 119 120 121 122 123 124 125 126 127 128 129 130 131 132 133 134 135 136 137 138 139 140 141 142 143 144 145 146 147 148 149 150 151 152 153 154 155 156 157\n",
      " 158 159 160 161 162 163 164 165 166 167 168 169 170 171 172 173 174 175 176 177 178 179 180 181 182 183 184 186 187 188 189 190 191 197 201 203 204 206 210 213 214 215 221 223 227 228 234 235 245 246 251 252 254 255]\n",
      "[  3.8804689   28.32623887  42.88091324  58.42873026 143.32349525] 212 188\n",
      "Distances under 100: [31.5008898  27.00473483 38.75119589  7.98431639 49.51177999 40.10631541 24.57734626 18.03352885 48.23644824 24.12772756 45.2185168  28.97600708 32.07329584 19.08885014 32.21443427 42.48081933 16.92786073 51.7541071  42.31853269 30.1606438  88.17265155 55.09387465 79.13622406 23.42389854 54.92844542 33.7441721\n",
      " 42.70041267 45.89197788 40.67489506 27.48679985 28.11783061 20.24338781 31.83852826 29.89976023 78.69982575 19.19666122 59.99473659 18.18872246 23.2299341  18.97670969 32.02107395 48.09491858 25.84156645 52.37001364 55.95164632 49.51405926 24.05333916 28.68674547 34.49668343 32.04362581 37.82512678 26.07405232\n",
      " 38.83569061 37.25733383 18.44987283 17.6373972  62.18912466 40.23413077 23.59871294 29.70168967 39.4187165  45.03599079 26.82667598 43.0614138  44.00232582 38.26226033 42.11137586 55.74089286 37.57821267 44.33692717 41.64238708 28.37044328 30.48698936 17.32834683 26.84597918 17.32859691 56.78680883 61.41316344\n",
      " 32.96693021 41.71754809  8.97437302 37.30587502 45.41222493 57.59451883 27.23352739 35.69807776 39.55904083 48.80158789 43.88068725 15.1381352  27.33779512 28.49179717 26.54770915 97.34922297 26.61036117 45.1987951  18.58406227 26.42410995 27.8529773  37.82650614 33.21602141 32.0858297  30.83846789 28.19362563\n",
      " 53.12351264 57.19333217 57.88538881 30.74536051 72.89860375 58.62584208 29.9306081  55.26422732 20.08660857 33.37742745 50.70561366 41.33401676 74.72752371 79.32798928 27.37038536 51.10246732 48.25745592 30.99470938 32.99675884 45.24445423 43.46828531 20.71992323 15.58339727 50.90426919 48.40078396 58.36302632\n",
      " 46.036279   46.69502427 20.38233313 46.50163055 23.9759599  23.02789447 45.01267974 35.5924706  15.32409529 30.49856539 22.43376797 36.85479251 43.84310107 12.18110275 54.74867965 53.32186022 49.78620524 41.55765464 70.15921553 27.83108779 46.77189811 50.95010982 70.04600029 49.48232627 12.53579701 26.24582474\n",
      " 48.9861651   9.79281056 50.19221966 35.00597448 53.54452767 30.94301792 27.32105279 91.68386557 18.86315156 28.40113659 43.71763852 68.61813761 65.29657729 58.10140529 45.23352888  3.8804689  18.38334597 86.44089632 88.71362177 73.48044045 96.27974647 61.56917679 91.71949429 84.45531529 55.2629362  55.89489701\n",
      " 76.87656294 95.09774212 98.86799678 95.48539    61.97220125 81.68448605]\n",
      "Enter Matching\n"
     ]
    },
    {
     "data": {
      "application/vnd.jupyter.widget-view+json": {
       "model_id": "ae9fbfa9f00f4047a759379ffba00a78",
       "version_major": 2,
       "version_minor": 0
      },
      "text/plain": [
       "Descriptor Matching (Flipped):   0%|          | 0/509 [00:00<?, ?it/s]"
      ]
     },
     "metadata": {},
     "output_type": "display_data"
    },
    {
     "name": "stdout",
     "output_type": "stream",
     "text": [
      "Results Update: 212 310 262\n",
      "262\n",
      "IDX 261\n",
      "DISTNACE 220\n",
      "DBSCAN 261\n",
      "INTERSECT 220\n",
      "221\n",
      "[  0   1   2   3   5   6   7   8   9  10  11  12  13  14  15  16  17  18  19  20  21  22  23  24  25  26  27  28  29  30  31  32  33  34  35  36  37  38  39  40  41  42  43  44  45  46  47  48  49  50  51  52  53  54  55  56  57  58  59  60  61  62  63  64  65  66  67  68  69  70  71  72  73  74  75  76  77  78  79\n",
      "  80  81  82  83  84  85  86  87  88  89  90  91  92  93  94  95  96  97  98  99 100 101 102 103 104 105 106 107 108 110 111 112 113 114 115 116 117 118 119 120 121 123 124 125 126 127 128 129 130 131 132 133 134 135 136 137 138 139 140 141 142 143 144 145 146 147 148 149 150 151 152 153 154 155 156 157 158 159 160\n",
      " 161 162 163 164 165 166 167 168 169 170 171 172 173 174 175 177 178 179 180 181 182 183 184 185 186 187 188 189 190 191 192 193 194 195 196 197 198 199 200 201 202 203 204 205 206 207 208 209 210 211 213 215 222 223 224 226 227 236 240 245 251 260 261]\n",
      "[  1.13837605  31.97071379  51.29150646  76.84420336 166.77284635] 221 183\n",
      "Distances under 100: [34.03979381 36.58481754 48.07384663 13.63177248 49.5784489  25.93837484 23.24875996 49.94969321 27.62222086 54.63317054 32.22264038 26.50553268 23.15741228 35.93825178 52.08636375 61.06275422 51.49766384 33.67674411 88.44282637 64.8860051  73.3430803  27.28673977 64.07927531 35.59283059 51.2269688  56.04540654\n",
      " 41.45033463 30.11874598 29.33948356 21.03130085 34.7466428  31.74848182 77.28935835 25.16093311 62.50404339 22.01216708 57.24817198 21.09800828 34.4475947  57.18187111 28.51698788 62.59301704 65.44156391 47.30410542 27.93221071 31.98789419 35.5386656  33.80524405 38.62491601 29.35399259 31.97071379 39.99200004\n",
      " 24.42430158 23.23404657 52.75833432 45.78392169 26.42499276 31.01684032 41.43525644 21.61969859 43.50259314 53.45498025 40.98893645 44.87518696 65.00245128 40.24046742 54.22640417 47.1638707  31.1571965  32.49055365 11.40553462 28.338918   14.14678399 65.84719896 71.46826849 34.7274921  44.42272382 10.60310582\n",
      " 39.37936834 54.32764101 67.3816857  29.94231259 38.16866439 42.06407198 58.66271025 44.56410497 12.6171158  29.20896381 31.57973469 26.78310729 97.88983688 27.32159315 46.54513508 24.39580088 26.57258146 37.09961373 47.15848763 36.77239118 33.14068003 32.79932165 30.0839847  64.75977402 55.21686829 32.1152384\n",
      " 70.07419936 68.66722082 32.2556566  58.14086288 20.4528186  36.80965166 48.47322812 42.53286864 79.24455305 28.40939554 52.19148791 57.96431758 26.81066366 34.82721346 54.37351858 45.73084383 30.06093057 16.09596721 53.51484169 58.23323325 59.63475705 49.54671792 18.93989044 56.06722786 63.15958682 21.05979846\n",
      " 38.26136808 37.45877228 16.51191375 31.32298448 31.21334472 38.31746362 52.83256518 19.34110977 64.24202262 62.34965684 51.29150646 49.60142267 78.60409987 29.3767799  55.65511563 60.58583943 78.1826045  51.74151889 87.97254602 27.75845439 46.72014131  1.13837605 55.66610621 36.50461466 63.66827473 32.05075434\n",
      " 31.47319467 94.08603469 20.86393375 30.26246046 53.98470562 72.99479317 65.76497149 54.60381353 13.02476573 19.71125847 85.03775332 88.15555545 70.51684796 97.23475285 66.8698716  96.06403667 54.35868291 53.45627864 76.84420336 87.28338411 96.37560969 95.27114232 60.81243669 73.40684504 94.98585104 89.01199189\n",
      " 58.42317118]\n",
      "Enter Matching\n"
     ]
    },
    {
     "data": {
      "application/vnd.jupyter.widget-view+json": {
       "model_id": "4bd5e5aeb0ee404f943b4a4dc981264e",
       "version_major": 2,
       "version_minor": 0
      },
      "text/plain": [
       "Descriptor Matching (Flipped):   0%|          | 0/509 [00:00<?, ?it/s]"
      ]
     },
     "metadata": {},
     "output_type": "display_data"
    },
    {
     "name": "stdout",
     "output_type": "stream",
     "text": [
      "Results Update: 221 312 268\n",
      "268\n",
      "IDX 267\n",
      "DISTNACE 261\n",
      "DBSCAN 267\n",
      "INTERSECT 261\n",
      "262\n",
      "[  0   1   2   3   4   5   6   7   8   9  10  11  12  13  14  15  16  17  18  19  20  21  22  23  24  25  26  27  28  29  30  31  32  33  34  35  36  37  38  39  40  41  42  43  44  45  46  47  48  49  50  51  52  53  54  55  56  57  58  59  60  61  62  63  64  65  66  67  68  69  70  71  72  73  74  75  76  77  78\n",
      "  79  80  81  82  83  84  85  86  87  88  89  90  91  92  93  94  95  96  97  98  99 100 101 102 103 104 105 106 107 108 109 110 111 112 113 114 115 116 117 118 119 120 121 122 123 124 125 126 127 128 129 130 131 132 133 134 135 136 137 138 139 140 141 142 143 144 145 146 147 148 149 150 151 152 153 154 155 156 157\n",
      " 158 159 160 161 162 163 164 165 166 167 168 169 170 171 172 173 174 175 176 177 178 179 180 181 182 183 184 185 186 187 188 189 190 191 192 193 194 195 196 197 198 199 200 201 202 203 204 205 206 207 208 209 210 211 212 213 214 215 216 217 218 219 220 221 222 223 224 225 226 227 229 230 231 232 233 234 235 236 237\n",
      " 238 239 241 243 244 245 247 248 249 250 251 254 255 256 257 258 259 260 261 262 263 264 265 266 267]\n",
      "[  4.37298481  48.11497274  77.10893557 125.5591402  231.28810462] 262 175\n",
      "Distances under 100: [47.8396684  77.76851103 25.22324913 76.93212402 37.05794961 49.92137389 69.94625841 39.68363073 82.32319693 45.14167112 30.35845544 42.55927198 50.09793873 85.00971466 91.12537116 85.00419763 50.34429467 91.66180332 71.79118884 44.9138878  46.12808496 72.49703298 43.80771653 55.14115451 43.0299905  37.54913199\n",
      " 37.72011212 46.98785747 46.09753402 52.38332312 82.88898679 36.67676055 46.99302925 50.12915573 82.8536464  49.7936642  88.84308851 40.87395072 93.20993267 92.58622708 28.10695309 79.67403452 41.14974996 45.08929018 48.83282225 49.56321564 53.64846387 40.02637214 27.24862052 97.69467834 55.9132463  60.04464204\n",
      " 52.04515814 57.75690361 42.37121625 44.67438532 60.73006259 30.91644687 49.82421891 82.68907735 56.73736217 60.29386324 92.39457564 55.92470822 73.43007099 42.5503945  47.40668756 21.76130956 42.76129435  4.37298481 50.24682328 60.20817748 45.98736802 58.81667568 97.42447914 49.6845202  51.67509683 57.83269581\n",
      " 89.11822604 71.37208684 41.78913079 43.61335283 47.87568957 45.29798319 42.26661698 64.91387363 54.84762997 44.49220626 65.49742589 77.28574713 72.29545812 47.12357497 45.07736259 44.83220545 84.25189217 46.66702071 49.81814477 47.34382556 75.31940933 49.86317156 92.27444911 57.70328909 28.64864953 56.60182683\n",
      " 71.80721043 56.19372388 70.3071289  38.21491512 49.27616885 84.80415793 59.36889332 56.73899136 15.5953717  70.66556354 78.52082251 98.89021067 13.64052919 85.10144587 53.27591564  7.19974824 34.65254035 50.12505167 23.6885854  44.36827164 53.47769123 49.58178549 95.34312043 86.39748022 70.39534929 63.70429367\n",
      " 41.80660299 87.73698615 69.90741722 93.03646271 88.90189876 65.35952528 85.67680692 72.43062931 46.15472659 34.20203592 37.47016131 91.76734986 47.8242638  93.91273828 46.67641924 47.80971914 81.07822865 37.27906909 42.56725739 85.74710521 89.71050457 87.5586202  85.90318356 26.87769529 75.40940082 92.6557037\n",
      " 48.86591723 96.82294403 97.02013161 72.3519763  91.97594543 97.08496246 78.76194309 46.83211927 32.78403133 57.4563176  59.74089194 74.39709738 94.7221705  47.68969405 34.04137037 67.94153979 73.03775528 36.57812837 70.36950222]\n",
      "Enter Matching\n"
     ]
    },
    {
     "data": {
      "application/vnd.jupyter.widget-view+json": {
       "model_id": "5260e518339d448887b0d9d707302b83",
       "version_major": 2,
       "version_minor": 0
      },
      "text/plain": [
       "Descriptor Matching (Flipped):   0%|          | 0/509 [00:00<?, ?it/s]"
      ]
     },
     "metadata": {},
     "output_type": "display_data"
    },
    {
     "name": "stdout",
     "output_type": "stream",
     "text": [
      "Results Update: 262 317 275\n",
      "275\n",
      "IDX 274\n",
      "DISTNACE 274\n",
      "DBSCAN 274\n",
      "INTERSECT 274\n",
      "275\n",
      "[  0   1   2   3   4   5   6   7   8   9  10  11  12  13  14  15  16  17  18  19  20  21  22  23  24  25  26  27  28  29  30  31  32  33  34  35  36  37  38  39  40  41  42  43  44  45  46  47  48  49  50  51  52  53  54  55  56  57  58  59  60  61  62  63  64  65  66  67  68  69  70  71  72  73  74  75  76  77  78\n",
      "  79  80  81  82  83  84  85  86  87  88  89  90  91  92  93  94  95  96  97  98  99 100 101 102 103 104 105 106 107 108 109 110 111 112 113 114 115 116 117 118 119 120 121 122 123 124 125 126 127 128 129 130 131 132 133 134 135 136 137 138 139 140 141 142 143 144 145 146 147 148 149 150 151 152 153 154 155 156 157\n",
      " 158 159 160 161 162 163 164 165 166 167 168 169 170 171 172 173 174 175 176 177 178 179 180 181 182 183 184 185 186 187 188 189 190 191 192 193 194 195 196 197 198 199 200 201 202 203 204 205 206 207 208 209 210 211 212 213 214 215 216 217 218 219 220 221 222 223 224 225 226 227 228 229 230 231 232 233 234 235 236\n",
      " 237 238 239 240 241 242 243 244 245 246 247 248 249 250 251 252 253 254 255 256 257 258 259 260 261 262 263 264 265 266 267 268 269 270 271 272 273 274]\n",
      "[  3.92938046  51.83845256  83.86243794 151.69228246 248.96436382] 275 168\n",
      "Distances under 100: [54.5309797  84.31250511 30.88613806 83.60488328 35.56122229 57.91596446 70.22934152 46.28313541 88.86144827 51.87251261 34.06953923 49.52723371 56.74256866 91.9631196  97.61590875 91.73729967 56.8921951  90.9161492  71.75045054 51.61517108 44.70331595 78.1174955  40.22436261 53.7730448  49.62430117 35.434576\n",
      " 44.17118637 53.63387511 45.32948345 60.49842813 83.42528929 42.8708686  44.69255455 58.45744809 75.921033   56.47478409 47.56128725 99.19163955 31.42460725 73.9286394  47.26260798 51.80439252 47.53996597 49.00721172 52.55227076 46.28000913 28.67252406 94.37822289 55.85194379 69.72949452 60.40274822 60.20363748\n",
      " 49.09117156 43.58971186 60.92947661 36.16698194 47.88524941 89.30327707 56.64648414 60.16984978 98.7071466  55.78994694 81.27661286 48.80586374 46.79891711 27.64515998 41.8555229   3.92938046 49.6370014  60.18929446 55.53759777 59.11448474 56.75271241 51.1024366  57.61582831 96.19295336 76.68616098 50.07436383\n",
      " 42.94440033 54.71745923 52.13374665 48.90942035 64.72250632 63.55275394 51.32985875 72.99334911 83.86243794 81.32906439 45.98238675 43.99610607 44.16529134 88.52964637 45.73073885 49.32296796 46.97173443 75.58158223 58.11452255 85.49742327 64.89583943 32.04431663 55.4491926  71.61915172 64.14591648 69.82736612\n",
      " 44.20330466 48.49717602 91.18124961 58.66911241 63.84764879 17.0361218  70.72752983 78.23092683 98.86459363 14.29137027 91.82008909 50.89679894  5.05572824 35.53693593 49.04935844 21.34190813 42.92385218 60.1453783  48.33010547 92.41470972 70.33243459 69.64897312 40.54688456 94.05625419 62.74512985 99.99275857\n",
      " 93.98893738 64.66445043 78.82620963 72.5724869  53.05988661 47.0934967  98.66300935 46.67111918 46.12103116 54.74288497 79.95556497 43.64195566 41.55214797 93.27427521 94.18530403 94.28175915 92.55208578 24.74153085 74.87475109 97.35987324 47.8898381  98.67452239 64.02989777 92.19646251 96.83352537 72.05158392\n",
      " 49.03152513 31.88133448 48.88430587 65.35378958 69.7636462  48.97731962 26.43822026 61.87196139 97.90905764 72.90769467 33.13245073 69.01997013]\n",
      "Enter Matching\n"
     ]
    },
    {
     "data": {
      "application/vnd.jupyter.widget-view+json": {
       "model_id": "d8f19a53b6a54079bd1a30b5845f9043",
       "version_major": 2,
       "version_minor": 0
      },
      "text/plain": [
       "Descriptor Matching (Flipped):   0%|          | 0/509 [00:00<?, ?it/s]"
      ]
     },
     "metadata": {},
     "output_type": "display_data"
    },
    {
     "name": "stdout",
     "output_type": "stream",
     "text": [
      "Results Update: 275 317 279\n",
      "279\n",
      "IDX 278\n",
      "DISTNACE 278\n",
      "DBSCAN 278\n",
      "INTERSECT 278\n",
      "279\n",
      "[  0   1   2   3   4   5   6   7   8   9  10  11  12  13  14  15  16  17  18  19  20  21  22  23  24  25  26  27  28  29  30  31  32  33  34  35  36  37  38  39  40  41  42  43  44  45  46  47  48  49  50  51  52  53  54  55  56  57  58  59  60  61  62  63  64  65  66  67  68  69  70  71  72  73  74  75  76  77  78\n",
      "  79  80  81  82  83  84  85  86  87  88  89  90  91  92  93  94  95  96  97  98  99 100 101 102 103 104 105 106 107 108 109 110 111 112 113 114 115 116 117 118 119 120 121 122 123 124 125 126 127 128 129 130 131 132 133 134 135 136 137 138 139 140 141 142 143 144 145 146 147 148 149 150 151 152 153 154 155 156 157\n",
      " 158 159 160 161 162 163 164 165 166 167 168 169 170 171 172 173 174 175 176 177 178 179 180 181 182 183 184 185 186 187 188 189 190 191 192 193 194 195 196 197 198 199 200 201 202 203 204 205 206 207 208 209 210 211 212 213 214 215 216 217 218 219 220 221 222 223 224 225 226 227 228 229 230 231 232 233 234 235 236\n",
      " 237 238 239 240 241 242 243 244 245 246 247 248 249 250 251 252 253 254 255 256 257 258 259 260 261 262 263 264 265 266 267 268 269 270 271 272 273 274 275 276 277 278]\n",
      "[  3.23933409  53.8095742   90.53960109 157.55900149 248.36541648] 279 162\n",
      "Distances under 100: [56.26171931 87.2920421  32.2171341  86.68167599 35.69831538 60.37226444 71.57503087 47.92313522 91.88396913 53.58341665 35.30570991 51.42000094 58.41030236 95.23709618 98.09072629 94.86884377 58.5743454  91.68570164 72.17016901 53.37188559 44.91917207 80.58602269 39.56168566 54.33363012 51.3034558  35.25447488\n",
      " 45.86083519 55.32397066 45.87006678 63.02201047 84.61837445 44.38557689 44.32189465 61.09185827 73.20542923 58.21158169 49.28847448 33.77015668 71.60645185 48.71671618 53.50612798 47.88626015 49.69078449 53.23588458 47.76821749 29.34288103 56.61526295 73.02025865 63.04959107 61.63036056 50.8329243  43.99713176\n",
      " 62.11051164 37.73730687 47.2773639  92.4158059  57.46408362 60.94323172 56.5046205  83.6756072  50.31788345 47.45237069 48.3656839  42.46209099  4.40050385 61.14099784 58.77258363 60.37857604 58.69859004 51.56044319 58.34566467 99.39090246 78.50712121 52.74445647 43.42657209 56.50797836 54.03573176 50.7141987\n",
      " 65.86278582 66.36259173 53.23305224 75.71098719 86.85931437 84.42594577 46.63919754 44.35062272 44.88285075 90.53960109 46.39986479 48.26611444 47.78836113 76.63290254 60.76043358 82.8023676  66.90640146 34.43332162 56.00334626 70.45574057 66.64427715 70.71749909 45.95057458 49.07762898 94.17555141 59.20607614\n",
      " 66.5147961  16.63004846 71.65880393 79.21859427 98.13639474 15.48061304 94.98001554 50.50543575  3.23933409 36.16566672 49.45443522 21.21610089 43.35614838 62.7201031  48.35623509 95.19160278 71.47926923 71.97227143 40.96354732 97.07119717 60.22364571 96.03786673 65.11214949 76.06690553 71.95919728 54.94603225\n",
      " 50.42275873 46.69575861 47.18007389 56.55056338 79.9712326  45.26685967 42.1323539  96.70967304 96.43312659 96.36586019 95.66216588 24.75599042 73.53883033 98.66722879 46.50431525 61.01746437 92.55947955 95.3613863  69.58371286 48.95719813 30.43590467 46.08578506 67.15487439 68.23662599 48.48064143 22.96532749\n",
      " 59.52448077 99.13864703 95.26329208 72.16468854 31.67340276 68.96054107]\n",
      "Enter Matching\n"
     ]
    },
    {
     "data": {
      "application/vnd.jupyter.widget-view+json": {
       "model_id": "464b1dcaa9df4e87bb5c048f6c2283a7",
       "version_major": 2,
       "version_minor": 0
      },
      "text/plain": [
       "Descriptor Matching (Flipped):   0%|          | 0/509 [00:00<?, ?it/s]"
      ]
     },
     "metadata": {},
     "output_type": "display_data"
    },
    {
     "name": "stdout",
     "output_type": "stream",
     "text": [
      "Results Update: 279 316 281\n",
      "281\n",
      "IDX 280\n",
      "DISTNACE 280\n",
      "DBSCAN 280\n",
      "INTERSECT 280\n",
      "281\n",
      "[  0   1   2   3   4   5   6   7   8   9  10  11  12  13  14  15  16  17  18  19  20  21  22  23  24  25  26  27  28  29  30  31  32  33  34  35  36  37  38  39  40  41  42  43  44  45  46  47  48  49  50  51  52  53  54  55  56  57  58  59  60  61  62  63  64  65  66  67  68  69  70  71  72  73  74  75  76  77  78\n",
      "  79  80  81  82  83  84  85  86  87  88  89  90  91  92  93  94  95  96  97  98  99 100 101 102 103 104 105 106 107 108 109 110 111 112 113 114 115 116 117 118 119 120 121 122 123 124 125 126 127 128 129 130 131 132 133 134 135 136 137 138 139 140 141 142 143 144 145 146 147 148 149 150 151 152 153 154 155 156 157\n",
      " 158 159 160 161 162 163 164 165 166 167 168 169 170 171 172 173 174 175 176 177 178 179 180 181 182 183 184 185 186 187 188 189 190 191 192 193 194 195 196 197 198 199 200 201 202 203 204 205 206 207 208 209 210 211 212 213 214 215 216 217 218 219 220 221 222 223 224 225 226 227 228 229 230 231 232 233 234 235 236\n",
      " 237 238 239 240 241 242 243 244 245 246 247 248 249 250 251 252 253 254 255 256 257 258 259 260 261 262 263 264 265 266 267 268 269 270 271 272 273 274 275 276 277 278 279 280]\n",
      "[ 10.51210334  58.06446114  94.64627726 165.58026346 248.40004311] 281 148\n",
      "Distances under 100: [49.46838849 93.67507044 26.33842924 92.66193038 45.98706532 58.24484955 40.35990049 97.91425275 46.25023777 32.56621754 46.92305951 51.67592347 98.67581044 53.27734266 98.18645169 73.67578377 48.34288169 54.69094783 84.58343793 42.6644038  44.2210057  44.96373003 41.02042086 47.85647128 56.63772213 61.07936148\n",
      " 96.52685191 38.61231258 46.02222227 59.72360785 70.36376136 52.1466205  41.92398157 36.16107563 63.41332417 42.30583713 46.25692456 59.26670301 60.97151268 39.98822648 28.12878734 66.7571668  73.0314687  61.53368945 66.54670699 44.93762632 55.09139219 74.35813767 34.26709556 55.05559085 99.12585195 67.7600544\n",
      " 71.04948693 66.60047144 81.56755747 42.90465153 58.32133521 49.50062686 53.83316585 14.66199355 71.67130341 58.81566133 72.64224102 54.26533486 61.1003466  68.75345022 82.70596057 52.07875563 53.85532849 50.5943526  49.76735088 44.91972556 78.65606282 65.16872096 48.68145263 77.47418381 93.36678556 85.60358896\n",
      " 58.56168214 54.4241826  55.98146888 95.18949465 58.06446114 36.4765104  58.51722745 87.35036725 60.00409325 74.59432652 62.85470729 36.70961741 67.75690106 63.87056431 65.4976225  83.61804179 40.38718376 60.01147016 69.36958171 68.93201942 11.99309605 82.54232916 92.2009746  88.19160321 21.17544306 52.47529904\n",
      " 10.51210334 36.10463546 59.83644755 31.102108   55.20907145 64.98778584 57.78497218 84.31169787 72.3957711  51.7811614  57.72500328 95.78545894 75.01662845 67.12517128 62.28071239 50.21862935 51.22990946 55.90674973 58.85601893 50.4840435  79.01841603 40.22178483 52.61407741 94.62335511 34.28208897 66.57313449\n",
      " 94.64627726 34.17637732 60.30126154 92.56708526 94.47154327 64.85023103 38.85875283 47.89475824 69.18033241 66.79316327 36.80256075 15.85903186 57.38276527 93.09875122 62.60281201 30.54856751 90.99887849 70.26607845]\n",
      "Enter Matching\n"
     ]
    },
    {
     "data": {
      "application/vnd.jupyter.widget-view+json": {
       "model_id": "e417e91962f848599f80261721477929",
       "version_major": 2,
       "version_minor": 0
      },
      "text/plain": [
       "Descriptor Matching (Flipped):   0%|          | 0/509 [00:00<?, ?it/s]"
      ]
     },
     "metadata": {},
     "output_type": "display_data"
    },
    {
     "name": "stdout",
     "output_type": "stream",
     "text": [
      "Results Update: 281 316 281\n",
      "281\n",
      "IDX 280\n",
      "DISTNACE 280\n",
      "DBSCAN 280\n",
      "INTERSECT 280\n",
      "281\n",
      "[  0   1   2   3   4   5   6   7   8   9  10  11  12  13  14  15  16  17  18  19  20  21  22  23  24  25  26  27  28  29  30  31  32  33  34  35  36  37  38  39  40  41  42  43  44  45  46  47  48  49  50  51  52  53  54  55  56  57  58  59  60  61  62  63  64  65  66  67  68  69  70  71  72  73  74  75  76  77  78\n",
      "  79  80  81  82  83  84  85  86  87  88  89  90  91  92  93  94  95  96  97  98  99 100 101 102 103 104 105 106 107 108 109 110 111 112 113 114 115 116 117 118 119 120 121 122 123 124 125 126 127 128 129 130 131 132 133 134 135 136 137 138 139 140 141 142 143 144 145 146 147 148 149 150 151 152 153 154 155 156 157\n",
      " 158 159 160 161 162 163 164 165 166 167 168 169 170 171 172 173 174 175 176 177 178 179 180 181 182 183 184 185 186 187 188 189 190 191 192 193 194 195 196 197 198 199 200 201 202 203 204 205 206 207 208 209 210 211 212 213 214 215 216 217 218 219 220 221 222 223 224 225 226 227 228 229 230 231 232 233 234 235 236\n",
      " 237 238 239 240 241 242 243 244 245 246 247 248 249 250 251 252 253 254 255 256 257 258 259 260 261 262 263 264 265 266 267 268 269 270 271 272 273 274 275 276 277 278 279 280]\n",
      "[ 12.23987398  59.35927654  96.0899605  164.47974283 248.04738601] 281 146\n",
      "Distances under 100: [48.37246861 94.6906977  25.74255304 93.62647941 47.59381478 57.98461418 39.20917082 98.8874264  45.10765796 31.71722809 46.33391953 50.70939804 98.63226222 52.56292233 98.87326284 73.29618886 47.67978965 56.21222187 85.37731932 42.61518104 43.08792486 46.54130001 40.26985566 46.66429708 58.24692662 60.85872841\n",
      " 98.1996175  37.87936207 45.73086907 59.47634919 69.73183932 51.19269077 40.71232883 36.72975508 62.23167144 41.4762511  45.13952411 60.96179895 62.61931463 38.83172495 27.45380535 68.29507853 72.98512755 61.34844261 67.50567967 44.05185971 56.75272782 76.02967906 33.4115401  56.56208047 69.29086697 72.56998734\n",
      " 68.14190114 81.32595151 41.77418335 59.91957339 49.14001107 55.47218411 16.21689607 73.18133539 58.75810506 74.29209803 56.63889202 62.61369942 70.31760506 83.39152689 51.90420847 55.457075   49.7036459  49.02153823 43.88052251 80.34679211 65.00964027 47.86862481 77.91144432 94.39470838 85.69695037 60.208478\n",
      " 55.9758159  96.0899605  59.70790099 34.77389524 60.05988396 88.88493072 59.8207235  73.46346016 62.27272547 37.25849525 69.42928003 63.52370795 65.25218432 85.40106266 39.22678058 61.62394502 70.91348479 69.476835   12.23987398 84.12318176 93.97866124 86.64174804 22.03831401 52.21378963 12.2994945  35.54457721\n",
      " 61.4079386  32.62807449 56.9046543  65.54963028 59.35927654 86.02933462 72.79535166 53.37382733 57.24987101 96.14754273 76.5661847  65.91321005 60.7392885  49.45037701 51.29549294 57.46414537 60.35187272 49.62898504 79.39654516 39.50833665 54.12335191 94.63945232 35.73509984 66.07780962 93.69821709 32.5349609\n",
      " 59.9653877  93.08146173 93.15981656 64.11285918 37.35212176 47.92651023 69.6324064  66.29022554 35.16172834 14.96833453 56.78568059 92.60744787 61.09185185 30.08798091 89.44849188 69.92591597]\n",
      "Enter Matching\n"
     ]
    },
    {
     "data": {
      "application/vnd.jupyter.widget-view+json": {
       "model_id": "793feaf47c2d45489d6734d58e7816ce",
       "version_major": 2,
       "version_minor": 0
      },
      "text/plain": [
       "Descriptor Matching (Flipped):   0%|          | 0/509 [00:00<?, ?it/s]"
      ]
     },
     "metadata": {},
     "output_type": "display_data"
    },
    {
     "name": "stdout",
     "output_type": "stream",
     "text": [
      "Results Update: 281 317 283\n",
      "283\n",
      "IDX 282\n",
      "DISTNACE 282\n",
      "DBSCAN 282\n",
      "INTERSECT 282\n",
      "283\n",
      "[  0   1   2   3   4   5   6   7   8   9  10  11  12  13  14  15  16  17  18  19  20  21  22  23  24  25  26  27  28  29  30  31  32  33  34  35  36  37  38  39  40  41  42  43  44  45  46  47  48  49  50  51  52  53  54  55  56  57  58  59  60  61  62  63  64  65  66  67  68  69  70  71  72  73  74  75  76  77  78\n",
      "  79  80  81  82  83  84  85  86  87  88  89  90  91  92  93  94  95  96  97  98  99 100 101 102 103 104 105 106 107 108 109 110 111 112 113 114 115 116 117 118 119 120 121 122 123 124 125 126 127 128 129 130 131 132 133 134 135 136 137 138 139 140 141 142 143 144 145 146 147 148 149 150 151 152 153 154 155 156 157\n",
      " 158 159 160 161 162 163 164 165 166 167 168 169 170 171 172 173 174 175 176 177 178 179 180 181 182 183 184 185 186 187 188 189 190 191 192 193 194 195 196 197 198 199 200 201 202 203 204 205 206 207 208 209 210 211 212 213 214 215 216 217 218 219 220 221 222 223 224 225 226 227 228 229 230 231 232 233 234 235 236\n",
      " 237 238 239 240 241 242 243 244 245 246 247 248 249 250 251 252 253 254 255 256 257 258 259 260 261 262 263 264 265 266 267 268 269 270 271 272 273 274 275 276 277 278 279 280 281 282]\n",
      "[ 11.52714101  60.31927029  97.94365371 167.89388083 248.37773916] 283 144\n",
      "Distances under 100: [49.67589148 96.81860146 26.42505815 95.77759401 47.96824904 59.79273572 40.37726862 46.35210621 33.02323608 47.66995628 51.85776084 96.40223723 53.73700143 99.57926311 74.15814411 48.90095939 56.54018583 86.95161679 42.62050473 44.34367027 46.6518426  41.57438497 47.91506275 58.90066366 62.69937002 99.38689887\n",
      " 38.86824096 45.99891202 61.54585783 68.03050906 52.49626706 42.03033736 38.52650689 60.18070737 42.40180941 46.3681863  61.55962584 63.41326286 39.85908566 28.43275753 69.03782144 75.51966394 63.31647538 68.29207558 45.3268839  57.36518493 77.22625787 34.91440323 56.40382806 70.07140265 73.30507717 68.85151574\n",
      " 83.07803932 42.85407677 60.64658649 49.35352567 56.21326223 74.06399431 61.27849621 75.54351171 57.59531824 63.10738575 71.05949218 85.03760424 54.05926008 56.06646956 51.01208524 50.56583852 45.34921676 81.56475173 67.11844568 49.42240104 79.77138379 96.54595501 88.19034178 61.02004619 56.43583542 97.33395779\n",
      " 60.50768208 33.73680743 60.8684954  89.85679104 61.95253509 71.06808772 63.76758025 39.12194824 70.162913   62.2939815  67.28181548 86.47261818 40.76650225 62.309763   71.4930132  71.28355356 11.52714101 85.03382463 95.11917417 85.97407354 23.04851335 52.48790666 12.89459146 36.51791766 61.92284325 32.77195441\n",
      " 57.57993693 67.21300947 59.62479039 87.25648989 74.0733859  53.93391381 55.35781625 97.09677216 77.07801424 63.42767106 60.18902089 50.9223841  57.72323077 61.42733241 50.88506288 78.62323512 40.69455712 54.74510759 95.90712859 35.89937277 64.84782155 95.00721687 31.13337543 58.12806656 92.64259701 94.09440582\n",
      " 62.10409815 37.1660696  46.22133719 71.04908831 65.34433523 34.52220362 12.73804326 55.46560519 97.94365371 90.78261388 60.44951968 29.95369555 88.99762347 70.34531549]\n",
      "D:\\CaseStudies\\CornerDigitization\\FineAdjustment\\\\registration/48201C0870K.tif\n",
      "[[ 1.00961517e+00 -8.86427417e-04  1.05154033e+05]\n",
      " [ 8.86427417e-04  1.00961517e+00 -2.38171872e+04]\n",
      " [ 0.00000000e+00  0.00000000e+00  1.00000000e+00]]\n",
      "[[ 8.68347826e-01  1.90760437e-03 -1.06258650e+07]\n",
      " [ 1.66162115e-03 -8.83308040e-01  3.46399988e+06]\n",
      " [ 0.00000000e+00  0.00000000e+00  1.00000000e+00]]\n"
     ]
    }
   ],
   "source": [
    "\n",
    "register_tile_names = glob.glob(proc_dir + \"referencing/*\")\n",
    "\n",
    "for curr_dir in register_tile_names:\n",
    "    \n",
    "    print(curr_dir)\n",
    "\n",
    "    ra_ref = []\n",
    "    im_corner_list = []\n",
    "    tile_dirs = []\n",
    "    corner_conf_list = []\n",
    "\n",
    "    if os.path.isdir(curr_dir):\n",
    "        print(\"FOUND GROUPING - USING\")\n",
    "        curr_tile_names = glob.glob(curr_dir + \"/*\")\n",
    "        for tile_dir in curr_tile_names:\n",
    "            curr_ra_ref = rio.open(tile_dir)\n",
    "            curr_im_corner_gdf, corner_confs = getTileCorners(tile_dir, curr_ra_ref, conf_thresh=detector_conf_thresh)\n",
    "            if curr_im_corner_gdf is None or curr_im_corner_gdf.shape[0] == 0:\n",
    "                continue\n",
    "            curr_im_corner_gdf['source_image'] = tile_dir               # ENCODING NAME\n",
    "            corner_confs = cornerConfsToDescriptorWeights(corner_confs)\n",
    "            tile_dirs.append(tile_dir)\n",
    "            ra_ref.append(curr_ra_ref)\n",
    "            im_corner_list.append(curr_im_corner_gdf)\n",
    "            corner_conf_list.append(corner_confs) \n",
    "    else:\n",
    "        curr_ra_ref = rio.open(curr_dir)\n",
    "        curr_im_corner_gdf, corner_confs = getTileCorners(curr_dir, curr_ra_ref, conf_thresh=detector_conf_thresh)\n",
    "        curr_im_corner_gdf['source_image'] = curr_dir                   # ENCODING NAME\n",
    "        corner_confs = cornerConfsToDescriptorWeights(corner_confs)\n",
    "        ra_ref.append(curr_ra_ref)\n",
    "        im_corner_list.append(curr_im_corner_gdf)\n",
    "        tile_dirs.append(curr_dir)\n",
    "        corner_conf_list.append(corner_confs)\n",
    "\n",
    "    gcps = loadGCPs(os.path.join(curr_dir, \"gcps.csv\"), tile_dirs, ra_ref)\n",
    "    \n",
    "    # CONVERT LIST TO GEODATAFRAME\n",
    "    im_corner_gdf      = gpd.GeoDataFrame(pd.concat(im_corner_list))\n",
    "    im_corner_arry     = np.stack(im_corner_gdf.geometry.apply(lambda point: np.array([point.x, point.y])))\n",
    "    im_corner_confs    = np.concatenate(corner_conf_list)\n",
    "\n",
    "    descriptor_kwds = {\n",
    "        'angle_step'       :   15, \n",
    "        'azimuth_radius'   :   [100, 250, 500, 1000, 1500, 2500], # [50, 100, 250, 500, 1000, 1500, 2000, 2500], \n",
    "        'overlap'          :   True, \n",
    "        'confidences'      :   im_corner_confs\n",
    "    }\n",
    "    \n",
    "    # BOUNDS\n",
    "    bounds_poly     = enlarged_bounds(ra_ref, n=1.2)\n",
    "    corners_curr    = gpd.clip(corners, bounds_poly)\n",
    "\n",
    "    # REGISTER FIRST PASS\n",
    "    im_corner_gdf_adj, group_registration_struct = registerImagesV3(os.path.basename(curr_dir).split(\".\")[0],  \n",
    "                        im_corner_gdf, corners_curr, im_corner_arry, descriptor_kwds, **registration_kwds)\n",
    "    if im_corner_gdf_adj is None:\n",
    "        raise(Exception(f\"Error with Registration\"))\n",
    "    \n",
    "    # ESTIMATE ORIGINAL TRANSFORMS FROM OUTPUT POINT ADJUSTMENTS\n",
    "    group_transform_dict = estimate_per_image_transforms(im_corner_gdf_adj)\n",
    "\n",
    "    # FOR EACH IMAGE\n",
    "    for i, tile_dir in enumerate(tile_dirs):\n",
    "\n",
    "        # I/O\n",
    "        image = cv2.imread(tile_dir)\n",
    "        image = cv2.cvtColor(image, cv2.COLOR_BGR2GRAY)\n",
    "        tile_name = os.path.basename(tile_dir).split(\".\")[0]\n",
    "        print(f\"{registration_dir}/{tile_name}.tif\")\n",
    "\n",
    "        # GET TRANSFORM\n",
    "        transform = group_transform_dict.get(tile_dir)\n",
    "        if transform is None:\n",
    "            print(f\"No transform found for {tile_name}, skipping.\")\n",
    "        \n",
    "        # FINALIZE TRANSFORM AND EXPORT RASTER\n",
    "        print(transform.matrix)\n",
    "        transform = transform.matrix @ getMatrixFromAffine(ra_ref[i].transform)\n",
    "        print(transform)\n",
    "        # transform = getMatrixFromAffine(ra_ref[i].transform) @ transform.matrix\n",
    "        try:\n",
    "            with rio.open(f\"{registration_dir}/{tile_name}.tif\", 'w',\n",
    "                        driver='GTiff', count=1, dtype=np.uint8,\n",
    "                        height=image.shape[0], width=image.shape[1],\n",
    "                        crs='EPSG:3857',\n",
    "                        transform=rio.Affine(*transform.flatten()[:6])) as dst:\n",
    "                dst.write(image, 1)\n",
    "        except Exception as e:\n",
    "            print(e)\n",
    "            traceback.print_exc()\n",
    "    "
   ]
  },
  {
   "cell_type": "code",
   "execution_count": null,
   "id": "697cbd83",
   "metadata": {},
   "outputs": [],
   "source": [
    "\n",
    "    # DO WE NEED TO ADJUST THIS? \n",
    "if False: # len(tile_dirs) > 1:\n",
    "    for i, tile_dir in enumerate(tile_dirs):\n",
    "        ind_dir = os.path.join(registration_dir, \"IndividualAdjustments\")\n",
    "        os.makedirs(ind_dir, exist_ok=True)\n",
    "\n",
    "        # GET CURRENT DETECTIONS AND ADJUST\n",
    "        im_corner_gdf_ind = im_corner_gdf_adj[im_corner_gdf_adj[\"source_image\"] == tile_dir]\n",
    "        print(f\"INDIVIDUAL ADJUSTMENT ON {im_corner_gdf_ind.shape[0]} POINTS\")\n",
    "        if im_corner_gdf_ind.shape[0] == 0:\n",
    "            print(\"CANNOT CONTINUE - NO INDIVIDUAL POINTS\")\n",
    "            continue\n",
    "        im_corner_arry_ind  = np.stack(im_corner_gdf_ind.geometry.apply(lambda point: np.array([point.x, point.y])))\n",
    "\n",
    "        # REGISTER FIRST PASS\n",
    "        im_corner_gdf_adj_ind, registration_struct_ind = registerImagesV3(os.path.basename(tile_dir).split(\".\")[0],  \n",
    "                    im_corner_gdf_ind, corners_curr, im_corner_arry_ind, descriptor_kwds, **adjustment_kwds)\n",
    "        \n",
    "        image_transform_dict = estimate_per_image_transforms(im_corner_gdf_adj_ind)\n",
    "\n",
    "        transform = image_transform_dict.get(tile_dir)\n",
    "        if transform is None:\n",
    "            print(f\"No transform found for {tile_name}, skipping.\")\n",
    "        \n",
    "        # FINALIZE TRANSFORM AND EXPORT RASTER\n",
    "        transform = transform.matrix @ getMatrixFromAffine(ra_ref[i].transform)\n",
    "        try:\n",
    "            with rio.open(f\"{ind_dir}/{tile_name}.tif\", 'w',\n",
    "                        driver='GTiff', count=1, dtype=np.uint8,\n",
    "                        height=image.shape[0], width=image.shape[1],\n",
    "                        crs='EPSG:3857',\n",
    "                        transform=rio.Affine(*transform.flatten()[:6])) as dst:\n",
    "                dst.write(image, 1)\n",
    "        except Exception as e:\n",
    "            print(e)\n",
    "            traceback.print_exc()   "
   ]
  }
 ],
 "metadata": {
  "kernelspec": {
   "display_name": "yolo",
   "language": "python",
   "name": "python3"
  },
  "language_info": {
   "codemirror_mode": {
    "name": "ipython",
    "version": 3
   },
   "file_extension": ".py",
   "mimetype": "text/x-python",
   "name": "python",
   "nbconvert_exporter": "python",
   "pygments_lexer": "ipython3",
   "version": "3.8.18"
  }
 },
 "nbformat": 4,
 "nbformat_minor": 5
}
