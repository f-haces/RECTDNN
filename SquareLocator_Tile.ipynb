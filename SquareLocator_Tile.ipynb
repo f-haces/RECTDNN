{
 "cells": [
  {
   "cell_type": "code",
   "execution_count": 1,
   "id": "4333b7a8",
   "metadata": {},
   "outputs": [],
   "source": [
    "# PYTHON IMPORTS\n",
    "import os\n",
    "import copy\n",
    "from tqdm.notebook import trange, tqdm\n",
    "\n",
    "# IMAGE IMPORTS \n",
    "from PIL import Image\n",
    "import cv2\n",
    "\n",
    "# DATA IMPORTS \n",
    "import random\n",
    "import h5py\n",
    "import numpy as np\n",
    "\n",
    "# PLOTTING\n",
    "import matplotlib.pyplot as plt\n",
    "import matplotlib.cm as cm\n",
    "\n",
    "# NEURAL NETWORK\n",
    "import torch\n",
    "import torch.nn as nn\n",
    "import torch.optim as optim\n",
    "from torch.utils.data import DataLoader, Dataset\n",
    "from torchvision import transforms, datasets\n",
    "from torchvision.transforms import ToPILImage, GaussianBlur\n",
    "from torchvision.transforms import Compose, RandomCrop, ToTensor, Normalize\n",
    "import torch.optim.lr_scheduler as lr_scheduler\n",
    "import torchvision.models as models\n",
    "from sklearn.preprocessing import LabelEncoder, OneHotEncoder\n",
    "\n",
    "# MY OWN CLASSES\n",
    "from SquareLocator import *\n",
    "Image.MAX_IMAGE_PIXELS = 933120000\n",
    "\n",
    "verbose_level = 1"
   ]
  },
  {
   "cell_type": "code",
   "execution_count": 2,
   "id": "874397a5",
   "metadata": {},
   "outputs": [
    {
     "name": "stdout",
     "output_type": "stream",
     "text": [
      "72768287\n",
      "72150850\n",
      "72469828\n",
      "72453067\n",
      "84903579\n",
      "55143349\n",
      "18179326\n",
      "7783887\n",
      "72076109\n",
      "73090043\n",
      "71838340\n"
     ]
    }
   ],
   "source": [
    "base_dir = r\"C:\\Users\\fhacesga\\OneDrive - University Of Houston\\AAA_RECTDNN\\data\"\n",
    "\n",
    "input_folder        = f\"{base_dir}/SquareLocator/in\"\n",
    "val_folder          = f\"{base_dir}/SquareLocator/val\"\n",
    "train_target_folder = f\"{base_dir}/SquareLocator/out\"\n",
    "val_target_folder   = f\"{base_dir}/SquareLocator/val_out\"\n",
    "batch_size = 8\n",
    "\n",
    "transform = transforms.Compose([\n",
    "    transforms.RandomRotation(degrees=30),\n",
    "    transforms.RandomHorizontalFlip(),\n",
    "    transforms.RandomVerticalFlip(),\n",
    "    transforms.ToTensor(),\n",
    "])\n",
    "\n",
    "tensor = transforms.Compose([\n",
    "    transforms.ToTensor(),\n",
    "])\n",
    "\n",
    "train_dataset = SquareDataset_Multiclass(input_folder, train_target_folder, transform=transform, \n",
    "                                         crop=False, \n",
    "                                         resize=True,\n",
    "                                         resize_def=512,\n",
    "                                        )\n",
    "train_loader  = DataLoader(train_dataset, batch_size=batch_size, shuffle=True, num_workers=0)\n",
    "\n",
    "val_dataset   = SquareDataset_Multiclass(val_folder, val_target_folder, transform=transform, \n",
    "                                         crop=False, \n",
    "                                         resize=True,\n",
    "                                         resize_def=512,\n",
    "                                        )\n",
    "val_loader  = DataLoader(val_dataset, batch_size=2, shuffle=True, num_workers=0)\n",
    "\n",
    "loaders = {'train' : train_loader, \"test\" : val_loader }"
   ]
  },
  {
   "cell_type": "code",
   "execution_count": 5,
   "id": "124a7bbc",
   "metadata": {},
   "outputs": [
    {
     "data": {
      "text/plain": [
       "tensor(0)"
      ]
     },
     "execution_count": 5,
     "metadata": {},
     "output_type": "execute_result"
    }
   ],
   "source": [
    "torch.min(train_dataset[0][1])"
   ]
  },
  {
   "cell_type": "code",
   "execution_count": 7,
   "id": "97acd5c7",
   "metadata": {},
   "outputs": [],
   "source": [
    "def notify(mess, level=4):\n",
    "    if verbose_level >= level:\n",
    "        print(mess)\n",
    "        \n",
    "def saveImages(prob_img_or, outputs, filenames, minputs, outputs_folder, rep_id):\n",
    "    \n",
    "    # IF FOR SOME REASON OUTPUT IS UNBATCHED, BATCH IT\n",
    "    if prob_img_or.ndim == 3:\n",
    "        prob_img_or = prob_img_or.unsqueeze(0)\n",
    "    prob_img_or = prob_img_or.numpy()\n",
    "    \n",
    "    # FOR EACH BATCHED OUTPUT\n",
    "    for i in range(len(outputs)):\n",
    "        filename = filenames[i]\n",
    "        \n",
    "        # FOR EACH CLASS\n",
    "        for ii in range(prob_img_or.shape[1]):\n",
    "            \n",
    "            # GET CURRENT PROBABILITY IMAGE AND SAVE\n",
    "            prob_img = prob_img_or[i, ii, :, :]\n",
    "            prob_img = (prob_img * 255).astype(np.uint8) \n",
    "            prob_img = Image.fromarray(np.squeeze(prob_img))\n",
    "            prob_img.save(os.path.join(outputs_folder, f\"{rep_id}_{ii}_{filename}\"))\n",
    "        \n",
    "        # SAVE INPUTS\n",
    "        myinp = Image.fromarray(np.uint8(minputs[i, 0, :, :] * 255))\n",
    "        myinp.save(os.path.join(outputs_folder, f\"{rep_id}_{filename[:-3]}_inp.png\"))\n",
    "\n",
    "def train(model, dataloaders, num_epochs=50, \n",
    "          output_dir=f'{base_dir}/SquareLocator/intermediate_outputs', \n",
    "          learning_rate=5e-4,\n",
    "          device = torch.device(\"cuda:0\"),\n",
    "          weights=[1, 120]):\n",
    "    \n",
    "    # TRAINING PARAMETERS\n",
    "    weights = torch.tensor(weights).float().to(device)\n",
    "    criterion = nn.CrossEntropyLoss(weight=weights, reduction=\"mean\")\n",
    "    optimizer = optim.Adam(model.parameters(), lr=learning_rate)\n",
    "    learning_rate_scheduler = lr_scheduler.StepLR(optimizer, step_size=10, gamma=0.97)\n",
    "        \n",
    "    # SEND MODEL TO GPU\n",
    "    model = model.to(device)\n",
    "    \n",
    "    # MAKE SURE DIRS FOR TEMP OUTPUTS EXIST\n",
    "    if not os.path.exists(output_dir):\n",
    "        os.makedirs(output_dir)\n",
    "        \n",
    "    # LOOP THROUGH EPOCHS\n",
    "    for epoch in range(num_epochs):\n",
    "        notify('Epoch {}/{}'.format(epoch+1, num_epochs), level=1)\n",
    "        notify('-' * 10, level=1)\n",
    "        epoch_loss = 0\n",
    "        \n",
    "        # FOR BOTH PHASES\n",
    "        for phase in ['train', 'test']: \n",
    "            if phase == 'train':\n",
    "                model.train()\n",
    "                repeats = range(4)\n",
    "            else:\n",
    "                model.eval()\n",
    "                repeats = range(1)\n",
    "            \n",
    "            # MAKE DIR FOR CURRENT PHASE IF IT DOES NOT EXIST\n",
    "            outputs_folder = os.path.join(output_dir, phase)\n",
    "            if not os.path.exists(outputs_folder):\n",
    "                os.makedirs(outputs_folder)\n",
    "                \n",
    "            # BASELINE MEMORY USAGE                \n",
    "            notify(f\"Prior to Iterations\\t {torch.cuda.memory_allocated() / 1e6}\")\n",
    "            \n",
    "            # ITERATE OVER REPEATS\n",
    "            for rep_id in tqdm(repeats):\n",
    "                for inputs, labels, filenames in dataloaders[phase]:\n",
    "                    \n",
    "                    plt.hist(inputs.flatten())\n",
    "                    plt.show()\n",
    "                    plt.hist(labels.flatten())\n",
    "                    plt.show()\n",
    "                    error\n",
    "                    \n",
    "                    # SEND TO GPU\n",
    "                    inputs = inputs.to(device)\n",
    "                    labels = labels.to(device)\n",
    "                    notify(f\"Datasets Moved\\t\\t {torch.cuda.memory_allocated()/ 1e6}\")\n",
    "                    \n",
    "                    # ZERO GRADIENTS AND THROUGH MODEL\n",
    "                    optimizer.zero_grad()\n",
    "                    outputs = model(inputs, resize=False)\n",
    "                    \n",
    "                    \n",
    "                    \n",
    "                    \n",
    "                    \n",
    "                    notify(f\"Outputs Processed\\t {torch.cuda.memory_allocated() / 1e6}\")\n",
    "                    \n",
    "                    # CALCULATE LOSS AND KEEP TRACK OF IT FOR CURRENT EPOCH\n",
    "                    loss = criterion(outputs, labels) \n",
    "                    epoch_loss += loss\n",
    "                    notify(f\"Loss Calculated\\t\\t {torch.cuda.memory_allocated() / 1e6}\")\n",
    "                    \n",
    "                    # OPTIMIZE IF PHASE IS TRAINING\n",
    "                    if phase is 'train':\n",
    "                        notify(\"Optimizing\", level=1)\n",
    "                        loss.backward()\n",
    "                        optimizer.step()\n",
    "                        notify(f\"Backwards and optimized\\t {torch.cuda.memory_allocated() / 1e6}\")\n",
    "                    \n",
    "                    # SAVE TRAINING IMAGES IF CURRENT STEP REQUIRES IT\n",
    "                    if rep_id % 2 == 0 and rep_id != 0:\n",
    "                        prob_img_or = outputs.detach().cpu()\n",
    "                        minputs     = inputs.detach().cpu().numpy()\n",
    "                        saveImages(prob_img_or, outputs, filenames, minputs, outputs_folder, rep_id)\n",
    "                    \n",
    "                    # EMPTY CACHE\n",
    "                    torch.cuda.empty_cache()\n",
    "                    notify(f\"Cache Emptied\\t\\t {torch.cuda.memory_allocated() / 1e6}\")\n",
    "                    \n",
    "            notify('{} Loss: {:.4f}'.format(phase, epoch_loss), level=1)\n",
    "            \n",
    "        # UPDATE LEARNING RATE SCHEDULER\n",
    "        learning_rate_scheduler.step()\n",
    "        notify(f\"Learning Rate: {optimizer.param_groups[0]['lr']}\", level=1)\n",
    "        \n",
    "        # SAVE MODEL EVERY TEN EPOCHS\n",
    "        if epoch % 10 == 0:\n",
    "            torch.save({\n",
    "                'epoch': epoch,\n",
    "                'model_state_dict': model.state_dict(),\n",
    "                'optimizer_state_dict': optimizer.state_dict(),\n",
    "                'loss': loss,\n",
    "            }, f'{base_dir}/SquareLocator/checkpoint_072723.pth')\n",
    "            \n",
    "            torch.save(model, f\"{base_dir}/SquareLocator/072723.pth\")\n",
    "        \n",
    "    return model"
   ]
  },
  {
   "cell_type": "code",
   "execution_count": 8,
   "id": "2b79ff73",
   "metadata": {
    "scrolled": false
   },
   "outputs": [
    {
     "name": "stdout",
     "output_type": "stream",
     "text": [
      "Epoch 1/2500\n",
      "----------\n"
     ]
    },
    {
     "data": {
      "application/vnd.jupyter.widget-view+json": {
       "model_id": "328223019333469e998920b023d62a2c",
       "version_major": 2,
       "version_minor": 0
      },
      "text/plain": [
       "  0%|          | 0/4 [00:00<?, ?it/s]"
      ]
     },
     "metadata": {},
     "output_type": "display_data"
    },
    {
     "data": {
      "image/png": "[encoded data removed]",
      "text/plain": [
       "<Figure size 640x480 with 1 Axes>"
      ]
     },
     "metadata": {},
     "output_type": "display_data"
    },
    {
     "data": {
      "image/png": "[encoded data removed]",
      "text/plain": [
       "<Figure size 640x480 with 1 Axes>"
      ]
     },
     "metadata": {},
     "output_type": "display_data"
    },
    {
     "ename": "NameError",
     "evalue": "name 'error' is not defined",
     "output_type": "error",
     "traceback": [
      "\u001b[1;31m---------------------------------------------------------------------------\u001b[0m",
      "\u001b[1;31mNameError\u001b[0m                                 Traceback (most recent call last)",
      "\u001b[1;32m~\\AppData\\Local\\Temp\\ipykernel_1896\\1548220726.py\u001b[0m in \u001b[0;36m<module>\u001b[1;34m\u001b[0m\n\u001b[0;32m      1\u001b[0m \u001b[0mmodel\u001b[0m \u001b[1;33m=\u001b[0m \u001b[0mSquareLocator\u001b[0m\u001b[1;33m(\u001b[0m\u001b[0mfinalpadding\u001b[0m\u001b[1;33m=\u001b[0m\u001b[1;36m1\u001b[0m\u001b[1;33m)\u001b[0m\u001b[1;33m\u001b[0m\u001b[1;33m\u001b[0m\u001b[0m\n\u001b[1;32m----> 2\u001b[1;33m \u001b[0mmodel\u001b[0m \u001b[1;33m=\u001b[0m \u001b[0mtrain\u001b[0m\u001b[1;33m(\u001b[0m\u001b[0mmodel\u001b[0m\u001b[1;33m,\u001b[0m \u001b[0mloaders\u001b[0m\u001b[1;33m,\u001b[0m \u001b[0mnum_epochs\u001b[0m\u001b[1;33m=\u001b[0m\u001b[1;36m2500\u001b[0m\u001b[1;33m,\u001b[0m \u001b[0mlearning_rate\u001b[0m\u001b[1;33m=\u001b[0m\u001b[1;36m1e-3\u001b[0m\u001b[1;33m)\u001b[0m\u001b[1;33m\u001b[0m\u001b[1;33m\u001b[0m\u001b[0m\n\u001b[0m",
      "\u001b[1;32m~\\AppData\\Local\\Temp\\ipykernel_1896\\1712471662.py\u001b[0m in \u001b[0;36mtrain\u001b[1;34m(model, dataloaders, num_epochs, output_dir, learning_rate, device, weights)\u001b[0m\n\u001b[0;32m     77\u001b[0m                     \u001b[0mplt\u001b[0m\u001b[1;33m.\u001b[0m\u001b[0mhist\u001b[0m\u001b[1;33m(\u001b[0m\u001b[0mlabels\u001b[0m\u001b[1;33m.\u001b[0m\u001b[0mflatten\u001b[0m\u001b[1;33m(\u001b[0m\u001b[1;33m)\u001b[0m\u001b[1;33m)\u001b[0m\u001b[1;33m\u001b[0m\u001b[1;33m\u001b[0m\u001b[0m\n\u001b[0;32m     78\u001b[0m                     \u001b[0mplt\u001b[0m\u001b[1;33m.\u001b[0m\u001b[0mshow\u001b[0m\u001b[1;33m(\u001b[0m\u001b[1;33m)\u001b[0m\u001b[1;33m\u001b[0m\u001b[1;33m\u001b[0m\u001b[0m\n\u001b[1;32m---> 79\u001b[1;33m                     \u001b[0merror\u001b[0m\u001b[1;33m\u001b[0m\u001b[1;33m\u001b[0m\u001b[0m\n\u001b[0m\u001b[0;32m     80\u001b[0m \u001b[1;33m\u001b[0m\u001b[0m\n\u001b[0;32m     81\u001b[0m                     \u001b[1;31m# SEND TO GPU\u001b[0m\u001b[1;33m\u001b[0m\u001b[1;33m\u001b[0m\u001b[1;33m\u001b[0m\u001b[0m\n",
      "\u001b[1;31mNameError\u001b[0m: name 'error' is not defined"
     ]
    }
   ],
   "source": [
    "model = SquareLocator(finalpadding=1)\n",
    "model = train(model, loaders, num_epochs=2500, learning_rate=1e-3)"
   ]
  }
 ],
 "metadata": {
  "kernelspec": {
   "display_name": "Python 3 (ipykernel)",
   "language": "python",
   "name": "python3"
  },
  "language_info": {
   "codemirror_mode": {
    "name": "ipython",
    "version": 3
   },
   "file_extension": ".py",
   "mimetype": "text/x-python",
   "name": "python",
   "nbconvert_exporter": "python",
   "pygments_lexer": "ipython3",
   "version": "3.7.16"
  }
 },
 "nbformat": 4,
 "nbformat_minor": 5
}
