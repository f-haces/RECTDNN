{
 "cells": [
  {
   "cell_type": "code",
   "execution_count": 1,
   "id": "92f7c239",
   "metadata": {},
   "outputs": [],
   "source": [
    "# PYTHON IMPORTS\n",
    "import os\n",
    "import copy\n",
    "from tqdm.notebook import trange, tqdm\n",
    "\n",
    "# IMAGE IMPORTS \n",
    "from PIL import Image\n",
    "import cv2\n",
    "\n",
    "# DATA IMPORTS \n",
    "import numpy as np\n",
    "\n",
    "# PLOTTING\n",
    "import matplotlib.pyplot as plt\n",
    "import matplotlib.cm as cm\n",
    "\n",
    "# SAM\n",
    "from segment_anything import SamAutomaticMaskGenerator, sam_model_registry\n",
    "\n",
    "# MY OWN CLASSES\n",
    "from TileLocator import *"
   ]
  },
  {
   "cell_type": "code",
   "execution_count": 2,
   "id": "f2cb2f50",
   "metadata": {},
   "outputs": [],
   "source": [
    "sam = sam_model_registry[\"vit_h\"](checkpoint=\"data/SAM/sam_vit_h_4b8939.pth\")\n",
    "sam = sam.to(\"cuda\")"
   ]
  },
  {
   "cell_type": "code",
   "execution_count": 3,
   "id": "9f48f703",
   "metadata": {},
   "outputs": [],
   "source": [
    "mask_generator = SamAutomaticMaskGenerator(sam)"
   ]
  },
  {
   "cell_type": "code",
   "execution_count": 4,
   "id": "d0c04957",
   "metadata": {},
   "outputs": [],
   "source": [
    "def resize_image(image, n_pixels):\n",
    "    \n",
    "    # Get the dimensions of the image\n",
    "    height, width = image.shape[:2]\n",
    "\n",
    "    # Determine the scaling factor for resizing\n",
    "    if width > height:\n",
    "        scaling_factor = n_pixels / width\n",
    "    else:\n",
    "        scaling_factor = n_pixels / height\n",
    "\n",
    "    # Resize the image\n",
    "    new_width = int(width * scaling_factor)\n",
    "    new_height = int(height * scaling_factor)\n",
    "    resized_image = cv2.resize(image, (new_width, new_height))\n",
    "\n",
    "    return resized_image\n",
    "\n",
    "def show_anns(anns, ax):\n",
    "    if len(anns) == 0:\n",
    "        return\n",
    "    sorted_anns = sorted(anns, key=(lambda x: x['area']), reverse=True)\n",
    "    # ax.set_autoscale_on(False)\n",
    "\n",
    "    img = np.ones((sorted_anns[0]['segmentation'].shape[0], sorted_anns[0]['segmentation'].shape[1], 4))\n",
    "    img[:,:,3] = 0\n",
    "    for ann in sorted_anns:\n",
    "        m = ann['segmentation']\n",
    "        color_mask = np.concatenate([np.random.random(3), [0.35]])\n",
    "        img[m] = color_mask\n",
    "        \n",
    "    return img"
   ]
  },
  {
   "cell_type": "code",
   "execution_count": 5,
   "id": "20a98fe9",
   "metadata": {},
   "outputs": [],
   "source": [
    "image = 'data/TileIndices/48201CIND0_0992.tif'"
   ]
  },
  {
   "cell_type": "code",
   "execution_count": null,
   "id": "75ce8e32",
   "metadata": {},
   "outputs": [
    {
     "name": "stderr",
     "output_type": "stream",
     "text": [
      "C:\\Users\\franc\\anaconda3\\envs\\deeplearning\\lib\\site-packages\\PIL\\Image.py:2921: DecompressionBombWarning: Image size (151368000 pixels) exceeds limit of 89478485 pixels, could be decompression bomb DOS attack.\n",
      "  DecompressionBombWarning,\n"
     ]
    },
    {
     "data": {
      "application/vnd.jupyter.widget-view+json": {
       "model_id": "e9786d9e131e46d08aabd756fd3332a9",
       "version_major": 2,
       "version_minor": 0
      },
      "text/plain": [
       "  0%|          | 0/15 [00:00<?, ?it/s]"
      ]
     },
     "metadata": {},
     "output_type": "display_data"
    },
    {
     "name": "stdout",
     "output_type": "stream",
     "text": [
      "(1024, 1024, 3)\n",
      "(1024, 1024, 3)\n",
      "(1024, 1024, 3)\n",
      "(1024, 1024, 3)\n",
      "(1024, 1024, 3)\n",
      "(1024, 1024, 3)\n",
      "(1024, 1024, 3)\n",
      "(1024, 1024, 3)\n",
      "(1024, 1024, 3)\n",
      "(1024, 1024, 3)\n",
      "(1024, 1024, 3)\n",
      "(1024, 1024, 3)\n",
      "(1024, 1024, 3)\n",
      "(1024, 1024, 3)\n",
      "(1024, 1024, 3)\n",
      "(1024, 1024, 3)\n",
      "(1024, 1024, 3)\n",
      "(1024, 1024, 3)\n",
      "(1024, 1024, 3)\n",
      "(1024, 1024, 3)\n",
      "(1024, 1024, 3)\n",
      "(1024, 1024, 3)\n",
      "(1024, 1024, 3)\n",
      "(1024, 1024, 3)\n",
      "(1024, 1024, 3)\n",
      "(1024, 1024, 3)\n",
      "(1024, 1024, 3)\n",
      "(1024, 1024, 3)\n",
      "(1024, 1024, 3)\n",
      "(1024, 1024, 3)\n",
      "(1024, 1024, 3)\n",
      "(1024, 1024, 3)\n",
      "(1024, 1024, 3)\n",
      "(1024, 1024, 3)\n",
      "(1024, 1024, 3)\n",
      "(1024, 1024, 3)\n",
      "(1024, 1024, 3)\n",
      "(1024, 1024, 3)\n",
      "(1024, 1024, 3)\n",
      "(1024, 1024, 3)\n",
      "(1024, 1024, 3)\n",
      "(1024, 1024, 3)\n",
      "(1024, 1024, 3)\n",
      "(1024, 1024, 3)\n",
      "(1024, 1024, 3)\n",
      "(1024, 1024, 3)\n",
      "(1024, 1024, 3)\n",
      "(1024, 1024, 3)\n",
      "(1024, 1024, 3)\n",
      "(1024, 1024, 3)\n",
      "(1024, 1024, 3)\n",
      "(1024, 1024, 3)\n",
      "(1024, 1024, 3)\n",
      "(1024, 1024, 3)\n",
      "(1024, 1024, 3)\n",
      "(1024, 1024, 3)\n",
      "(1024, 1024, 3)\n",
      "(1024, 1024, 3)\n",
      "(1024, 1024, 3)\n",
      "(1024, 1024, 3)\n",
      "(1024, 1024, 3)\n",
      "(1024, 1024, 3)\n",
      "(1024, 1024, 3)\n",
      "(1024, 1024, 3)\n",
      "(1024, 1024, 3)\n",
      "(1024, 1024, 3)\n",
      "(1024, 1024, 3)\n",
      "(1024, 1024, 3)\n"
     ]
    }
   ],
   "source": [
    "def split_and_SAM(image_path,mask_generator, tilesize=1024):\n",
    "    # Load the image\n",
    "    image = Image.open(image_path)\n",
    "    \n",
    "    # Calculate the number of tiles needed\n",
    "    width, height = image.size\n",
    "    num_tiles_x = (width + tilesize-1) // tilesize\n",
    "    num_tiles_y = (height + tilesize-1) // tilesize\n",
    "    \n",
    "    # Create an empty list to store the output tiles\n",
    "    output_masks = []\n",
    "    \n",
    "    # Iterate over each tile\n",
    "    for tile_x in tqdm(range(num_tiles_x)):\n",
    "        for tile_y in range(num_tiles_y):\n",
    "                        \n",
    "            # Calculate the coordinates for the current tile\n",
    "            x0 = tile_x * tilesize\n",
    "            y0 = tile_y * tilesize\n",
    "            x1 = min(x0 + tilesize, width)\n",
    "            y1 = min(y0 + tilesize, height)\n",
    "            \n",
    "            # Crop the image to the current tile\n",
    "            tile = image.crop((x0, y0, x1, y1))\n",
    "            \n",
    "            # Pad the tile if needed\n",
    "            pad_width = tilesize - tile.width\n",
    "            pad_height = tilesize - tile.height\n",
    "            if pad_width > 0 or pad_height > 0:\n",
    "                padding = ((0, pad_height), (0, pad_width))\n",
    "                tile = np.pad(tile, padding, mode='constant')\n",
    "            \n",
    "            tile = np.asarray(tile)\n",
    "            tile = np.dstack((tile, tile, tile))\n",
    "            tile = np.where(tile, 255, 0).astype(np.uint8)\n",
    "            \n",
    "            print(tile.shape)\n",
    "            \n",
    "            \n",
    "            # Run the CNN on the tile\n",
    "            masks = mask_generator.generate(tile)\n",
    "            \n",
    "            output_masks.append(masks)\n",
    "            \n",
    "    return output_masks\n",
    "\n",
    "masks = split_and_SAM(image, mask_generator)"
   ]
  },
  {
   "cell_type": "code",
   "execution_count": null,
   "id": "b96fe57e",
   "metadata": {},
   "outputs": [],
   "source": [
    "print(test.shape)"
   ]
  },
  {
   "cell_type": "code",
   "execution_count": null,
   "id": "da7b938c",
   "metadata": {},
   "outputs": [],
   "source": [
    "fig, axs = plt.subplots(2, 1, figsize=(20, 20))\n",
    "axs[0].imshow(image_res)\n",
    "#axs[1].imshow(image_res)\n",
    "masks_img = show_anns(masks, axs[1])\n",
    "axs[1].imshow(masks_img)"
   ]
  },
  {
   "cell_type": "code",
   "execution_count": null,
   "id": "b0b3724a",
   "metadata": {},
   "outputs": [],
   "source": [
    "def revert_resizing(resized_image, original_image):\n",
    "    # Get the dimensions of the original image\n",
    "    original_height, original_width = original_image.shape[:2]\n",
    "\n",
    "    # Get the dimensions of the resized image\n",
    "    resized_height, resized_width = resized_image.shape[:2]\n",
    "\n",
    "    # Determine the scaling factor for reverting the resizing\n",
    "    if resized_width > resized_height:\n",
    "        scaling_factor = original_width / resized_width\n",
    "    else:\n",
    "        scaling_factor = original_height / resized_height\n",
    "\n",
    "    # Resize the image back to the original dimensions\n",
    "    new_width = int(resized_width * scaling_factor)\n",
    "    new_height = int(resized_height * scaling_factor)\n",
    "    reverted_image = cv2.resize(resized_image, (new_width, new_height))\n",
    "\n",
    "    return reverted_image * 255\n",
    "\n",
    "or_res_masks = revert_resizing(masks_img, image).astype(np.uint8)\n",
    "\n",
    "plt.imshow(or_res_masks)"
   ]
  },
  {
   "cell_type": "code",
   "execution_count": null,
   "id": "bf1c0a2b",
   "metadata": {},
   "outputs": [],
   "source": [
    "plt.hist(or_res_masks.flatten())"
   ]
  },
  {
   "cell_type": "code",
   "execution_count": null,
   "id": "598b161c",
   "metadata": {},
   "outputs": [],
   "source": [
    "cv2.imwrite(\"masks_test.png\", or_res_masks)"
   ]
  },
  {
   "cell_type": "code",
   "execution_count": null,
   "id": "dabbb8e9",
   "metadata": {},
   "outputs": [],
   "source": [
    "or_res_masks_grey  = cv2.cvtColor(or_res_masks, cv2.COLOR_BGR2GRAY)\n",
    "plt.imshow(or_res_masks_grey)"
   ]
  },
  {
   "cell_type": "code",
   "execution_count": null,
   "id": "22466a35",
   "metadata": {},
   "outputs": [],
   "source": [
    "or_res_masks_black = np.where(or_res_masks_grey < 250, 0, 255)\n",
    "\n",
    "plt.imshow(or_res_masks_black)"
   ]
  },
  {
   "cell_type": "code",
   "execution_count": null,
   "id": "4a916637",
   "metadata": {},
   "outputs": [],
   "source": [
    "cv2.imwrite(\"masks_black.png\", or_res_masks_black)"
   ]
  },
  {
   "cell_type": "code",
   "execution_count": null,
   "id": "65d95769",
   "metadata": {},
   "outputs": [],
   "source": []
  }
 ],
 "metadata": {
  "kernelspec": {
   "display_name": "Python 3 (ipykernel)",
   "language": "python",
   "name": "python3"
  },
  "language_info": {
   "codemirror_mode": {
    "name": "ipython",
    "version": 3
   },
   "file_extension": ".py",
   "mimetype": "text/x-python",
   "name": "python",
   "nbconvert_exporter": "python",
   "pygments_lexer": "ipython3",
   "version": "3.7.10"
  }
 },
 "nbformat": 4,
 "nbformat_minor": 5
}
