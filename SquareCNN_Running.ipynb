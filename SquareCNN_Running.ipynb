{
 "cells": [
  {
   "cell_type": "code",
   "execution_count": 1,
   "id": "6b80c117",
   "metadata": {},
   "outputs": [],
   "source": [
    "# PYTHON IMPORTS\n",
    "import os\n",
    "import copy\n",
    "from tqdm.notebook import trange, tqdm\n",
    "\n",
    "# IMAGE IMPORTS \n",
    "from PIL import Image\n",
    "import cv2\n",
    "\n",
    "# DATA IMPORTS \n",
    "import random\n",
    "import h5py\n",
    "import numpy as np\n",
    "import glob\n",
    "\n",
    "# PLOTTING\n",
    "import matplotlib.pyplot as plt\n",
    "import matplotlib.cm as cm\n",
    "\n",
    "# NEURAL NETWORK\n",
    "import torch\n",
    "import torch.nn as nn\n",
    "import torch.optim as optim\n",
    "from torch.utils.data import DataLoader, Dataset\n",
    "from torchvision import transforms, datasets\n",
    "from torchvision.transforms import ToPILImage, GaussianBlur\n",
    "from torchvision.transforms import Compose, RandomCrop, ToTensor, Normalize\n",
    "import torch.optim.lr_scheduler as lr_scheduler\n",
    "import torchvision.models as models\n",
    "\n",
    "# MY OWN CLASSES\n",
    "from SquareLocator import *\n",
    "Image.MAX_IMAGE_PIXELS = 933120000"
   ]
  },
  {
   "cell_type": "code",
   "execution_count": 2,
   "id": "a4df21b7",
   "metadata": {},
   "outputs": [],
   "source": [
    "data_dir = r\"C:\\Users\\franc\\OneDrive - University Of Houston\\AAA_RECTDNN\\data/\"\n",
    "\n",
    "templates_dir = f\"{data_dir}templates/\"\n",
    "tempfiles_dir = \"tempfiles/\"\n",
    "\n",
    "boundary_shapefile = f\"{templates_dir}HCAD_Harris_County_Boundary.shp\"\n",
    "boundary_points    = f'{tempfiles_dir}boundary_points.shp'\n",
    "roads_points       = f'{tempfiles_dir}roads_points.shp'\n",
    "\n",
    "roads_fn = f\"data/Roads/TexasHighways.shp\"\n",
    "model_checkpoint = f\"{data_dir}SquareLocator/checkpoint_072823.pth\"\n",
    "\n",
    "input_folder = f\"../data/HistoricalFIRMS/\"\n",
    "output_dir   = f\"../data/ZZZ_Squares\"\n",
    "\n",
    "tensor = transforms.Compose([\n",
    "        transforms.ToTensor(),\n",
    "    ])"
   ]
  },
  {
   "cell_type": "code",
   "execution_count": 3,
   "id": "face9e4f",
   "metadata": {},
   "outputs": [],
   "source": [
    "# Initialize model\n",
    "model = SquareLocator(finalpadding=1)\n",
    "model.load_state_dict(torch.load(model_checkpoint)['model_state_dict'])\n",
    "model = model.to(\"cuda\")"
   ]
  },
  {
   "cell_type": "code",
   "execution_count": 6,
   "id": "f26a9916",
   "metadata": {},
   "outputs": [],
   "source": [
    "images = glob.glob(input_folder+\"*.tif\")\n",
    "images.append(glob.glob(input_folder+\"*.png\"))\n",
    "images.append(glob.glob(input_folder+\"*.jpg\"))"
   ]
  },
  {
   "cell_type": "code",
   "execution_count": 7,
   "id": "4ea11617",
   "metadata": {
    "scrolled": false
   },
   "outputs": [
    {
     "data": {
      "application/vnd.jupyter.widget-view+json": {
       "model_id": "fb41ca62a3ed41ecaea759e8bded93e4",
       "version_major": 2,
       "version_minor": 0
      },
      "text/plain": [
       "  0%|          | 0/493 [00:00<?, ?it/s]"
      ]
     },
     "metadata": {},
     "output_type": "display_data"
    },
    {
     "ename": "error",
     "evalue": "OpenCV(4.7.0) :-1: error: (-5:Bad argument) in function 'resize'\n> Overload resolution failed:\n>  - src data type = 17 is not supported\n>  - Expected Ptr<cv::UMat> for argument 'src'\n",
     "output_type": "error",
     "traceback": [
      "\u001b[1;31m---------------------------------------------------------------------------\u001b[0m",
      "\u001b[1;31merror\u001b[0m                                     Traceback (most recent call last)",
      "\u001b[1;32m~\\AppData\\Local\\Temp\\ipykernel_12896\\2405428374.py\u001b[0m in \u001b[0;36m<module>\u001b[1;34m\u001b[0m\n\u001b[0;32m      9\u001b[0m     \u001b[0mimage\u001b[0m \u001b[1;33m=\u001b[0m \u001b[0mnp\u001b[0m\u001b[1;33m.\u001b[0m\u001b[0masarray\u001b[0m\u001b[1;33m(\u001b[0m\u001b[0mcv2\u001b[0m\u001b[1;33m.\u001b[0m\u001b[0mimread\u001b[0m\u001b[1;33m(\u001b[0m\u001b[0mimage_path\u001b[0m\u001b[1;33m,\u001b[0m \u001b[1;36m0\u001b[0m\u001b[1;33m)\u001b[0m\u001b[1;33m)\u001b[0m\u001b[1;33m\u001b[0m\u001b[1;33m\u001b[0m\u001b[0m\n\u001b[0;32m     10\u001b[0m     \u001b[0mshape\u001b[0m \u001b[1;33m=\u001b[0m \u001b[0mimage\u001b[0m\u001b[1;33m.\u001b[0m\u001b[0mshape\u001b[0m\u001b[1;33m\u001b[0m\u001b[1;33m\u001b[0m\u001b[0m\n\u001b[1;32m---> 11\u001b[1;33m     \u001b[0mimage\u001b[0m \u001b[1;33m=\u001b[0m \u001b[0mcv2\u001b[0m\u001b[1;33m.\u001b[0m\u001b[0mresize\u001b[0m\u001b[1;33m(\u001b[0m\u001b[0mimage\u001b[0m\u001b[1;33m,\u001b[0m \u001b[1;33m(\u001b[0m\u001b[1;36m512\u001b[0m\u001b[1;33m,\u001b[0m \u001b[1;36m512\u001b[0m\u001b[1;33m)\u001b[0m\u001b[1;33m)\u001b[0m\u001b[1;33m\u001b[0m\u001b[1;33m\u001b[0m\u001b[0m\n\u001b[0m\u001b[0;32m     12\u001b[0m     \u001b[0mimage_prep\u001b[0m \u001b[1;33m=\u001b[0m \u001b[0mtensor\u001b[0m\u001b[1;33m(\u001b[0m\u001b[0mimage\u001b[0m\u001b[1;33m)\u001b[0m\u001b[1;33m.\u001b[0m\u001b[0munsqueeze\u001b[0m\u001b[1;33m(\u001b[0m\u001b[1;36m0\u001b[0m\u001b[1;33m)\u001b[0m\u001b[1;33m.\u001b[0m\u001b[0mto\u001b[0m\u001b[1;33m(\u001b[0m\u001b[1;34m\"cuda\"\u001b[0m\u001b[1;33m)\u001b[0m\u001b[1;33m\u001b[0m\u001b[1;33m\u001b[0m\u001b[0m\n\u001b[0;32m     13\u001b[0m \u001b[1;33m\u001b[0m\u001b[0m\n",
      "\u001b[1;31merror\u001b[0m: OpenCV(4.7.0) :-1: error: (-5:Bad argument) in function 'resize'\n> Overload resolution failed:\n>  - src data type = 17 is not supported\n>  - Expected Ptr<cv::UMat> for argument 'src'\n"
     ]
    }
   ],
   "source": [
    "# Iterate over the files in the input folder\n",
    "for image in tqdm(images):\n",
    "    # Open the image file\n",
    "    filename = os.path.basename(image)\n",
    "    image_path = os.path.join(input_folder, filename)\n",
    "    output_path = os.path.join(output_dir, filename)\n",
    "\n",
    "    # INPUT IMAGE AND PREP\n",
    "    image = np.asarray(cv2.imread(image_path, 0))\n",
    "    shape = image.shape\n",
    "    image = cv2.resize(image, (512, 512))    \n",
    "    image_prep = tensor(image).unsqueeze(0).to(\"cuda\")\n",
    "\n",
    "    # PROCESS IMAGE\n",
    "    outputs = model(image_prep)\n",
    "    outputs = outputs[0, 1, :, :].detach().cpu().numpy()\n",
    "\n",
    "    # RESIZE AND OUTPUT \n",
    "    outputs_resized = cv2.resize(outputs, shape)\n",
    "    cv2.imwrite(output_path, outputs_resized * 255)"
   ]
  }
 ],
 "metadata": {
  "kernelspec": {
   "display_name": "Python 3 (ipykernel)",
   "language": "python",
   "name": "python3"
  },
  "language_info": {
   "codemirror_mode": {
    "name": "ipython",
    "version": 3
   },
   "file_extension": ".py",
   "mimetype": "text/x-python",
   "name": "python",
   "nbconvert_exporter": "python",
   "pygments_lexer": "ipython3",
   "version": "3.7.10"
  }
 },
 "nbformat": 4,
 "nbformat_minor": 5
}
