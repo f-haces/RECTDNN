{
 "cells": [
  {
   "cell_type": "code",
   "execution_count": 1,
   "id": "6b80c117",
   "metadata": {},
   "outputs": [],
   "source": [
    "# PYTHON IMPORTS\n",
    "import os\n",
    "import copy\n",
    "from tqdm.notebook import trange, tqdm\n",
    "\n",
    "# IMAGE IMPORTS \n",
    "from PIL import Image\n",
    "import cv2\n",
    "\n",
    "# DATA IMPORTS \n",
    "import random\n",
    "import h5py\n",
    "import numpy as np\n",
    "import glob\n",
    "\n",
    "# PLOTTING\n",
    "import matplotlib.pyplot as plt\n",
    "import matplotlib.cm as cm\n",
    "\n",
    "# NEURAL NETWORK\n",
    "import torch\n",
    "\n",
    "# MY OWN CLASSES\n",
    "from TileLocator import *\n",
    "Image.MAX_IMAGE_PIXELS = 933120000"
   ]
  },
  {
   "cell_type": "code",
   "execution_count": 2,
   "id": "a4df21b7",
   "metadata": {},
   "outputs": [],
   "source": [
    "data_dir = r\"C:\\Users\\fhacesga\\OneDrive - University Of Houston\\AAA_RECTDNN\\data/\"\n",
    "\n",
    "model_checkpoint = f\"{data_dir}TileLocator/080323.pth\""
   ]
  },
  {
   "cell_type": "code",
   "execution_count": 3,
   "id": "face9e4f",
   "metadata": {},
   "outputs": [],
   "source": [
    "# Initialize model\n",
    "model = torch.load(model_checkpoint)\n",
    "model = model.to(\"cuda\")"
   ]
  },
  {
   "cell_type": "code",
   "execution_count": 4,
   "id": "4ea11617",
   "metadata": {
    "scrolled": true
   },
   "outputs": [],
   "source": [
    "prep_folder   = f\"{data_dir}TileLocator/in_prepped_v2/\"    \n",
    "output_folder = f\"{data_dir}TileLocator/out_v2/\""
   ]
  },
  {
   "cell_type": "code",
   "execution_count": 5,
   "id": "1b0b7192",
   "metadata": {
    "scrolled": true
   },
   "outputs": [
    {
     "name": "stdout",
     "output_type": "stream",
     "text": [
      "C:\\Users\\fhacesga\\OneDrive - University Of Houston\\AAA_RECTDNN\\data/TileLocator/out_v2/480296IND0_0982.png\n",
      "[0]\n"
     ]
    },
    {
     "data": {
      "application/vnd.jupyter.widget-view+json": {
       "model_id": "40aee623def84695a4f8141e41780d17",
       "version_major": 2,
       "version_minor": 0
      },
      "text/plain": [
       "  0%|          | 0/5 [00:00<?, ?it/s]"
      ]
     },
     "metadata": {},
     "output_type": "display_data"
    },
    {
     "name": "stderr",
     "output_type": "stream",
     "text": [
      "C:\\Users\\fhacesga\\Desktop\\FIRMsDigitizing\\RECTDNN\\TileLocator.py:93: UserWarning: Implicit dimension choice for softmax has been deprecated. Change the call to include dim=X as an argument.\n",
      "  output = self.softmax(output)\n"
     ]
    },
    {
     "name": "stdout",
     "output_type": "stream",
     "text": [
      "C:\\Users\\fhacesga\\OneDrive - University Of Houston\\AAA_RECTDNN\\data/TileLocator/out_v2/480304IND0_1077.png\n",
      "[0]\n"
     ]
    },
    {
     "data": {
      "application/vnd.jupyter.widget-view+json": {
       "model_id": "d6c62647a9514be18ecfe0b697a52356",
       "version_major": 2,
       "version_minor": 0
      },
      "text/plain": [
       "  0%|          | 0/3 [00:00<?, ?it/s]"
      ]
     },
     "metadata": {},
     "output_type": "display_data"
    },
    {
     "name": "stdout",
     "output_type": "stream",
     "text": [
      "C:\\Users\\fhacesga\\OneDrive - University Of Houston\\AAA_RECTDNN\\data/TileLocator/out_v2/48071CIND0A.png\n",
      "[0]\n"
     ]
    },
    {
     "data": {
      "application/vnd.jupyter.widget-view+json": {
       "model_id": "50450eedfc58411a97ee318ef1884b14",
       "version_major": 2,
       "version_minor": 0
      },
      "text/plain": [
       "  0%|          | 0/15 [00:00<?, ?it/s]"
      ]
     },
     "metadata": {},
     "output_type": "display_data"
    },
    {
     "name": "stdout",
     "output_type": "stream",
     "text": [
      "C:\\Users\\fhacesga\\OneDrive - University Of Houston\\AAA_RECTDNN\\data/TileLocator/out_v2/48157CIND0A.png\n",
      "[0]\n"
     ]
    },
    {
     "data": {
      "application/vnd.jupyter.widget-view+json": {
       "model_id": "dad3a4b6064847c2b04dd8da6beb3a29",
       "version_major": 2,
       "version_minor": 0
      },
      "text/plain": [
       "  0%|          | 0/15 [00:00<?, ?it/s]"
      ]
     },
     "metadata": {},
     "output_type": "display_data"
    },
    {
     "name": "stdout",
     "output_type": "stream",
     "text": [
      "C:\\Users\\fhacesga\\OneDrive - University Of Houston\\AAA_RECTDNN\\data/TileLocator/out_v2/48201CIND0A.png\n",
      "[0]\n"
     ]
    },
    {
     "data": {
      "application/vnd.jupyter.widget-view+json": {
       "model_id": "1b09d26a6f5a4d0781e15da2e260daa4",
       "version_major": 2,
       "version_minor": 0
      },
      "text/plain": [
       "  0%|          | 0/14 [00:00<?, ?it/s]"
      ]
     },
     "metadata": {},
     "output_type": "display_data"
    },
    {
     "name": "stdout",
     "output_type": "stream",
     "text": [
      "C:\\Users\\fhacesga\\OneDrive - University Of Houston\\AAA_RECTDNN\\data/TileLocator/out_v2/48201CIND0D.png\n",
      "[0]\n"
     ]
    },
    {
     "data": {
      "application/vnd.jupyter.widget-view+json": {
       "model_id": "07489dc049f64c68892af7102d4992ab",
       "version_major": 2,
       "version_minor": 0
      },
      "text/plain": [
       "  0%|          | 0/15 [00:00<?, ?it/s]"
      ]
     },
     "metadata": {},
     "output_type": "display_data"
    },
    {
     "name": "stdout",
     "output_type": "stream",
     "text": [
      "C:\\Users\\fhacesga\\OneDrive - University Of Houston\\AAA_RECTDNN\\data/TileLocator/out_v2/48201CIND0_0992.png\n",
      "[0]\n"
     ]
    },
    {
     "data": {
      "application/vnd.jupyter.widget-view+json": {
       "model_id": "444321f25a6843bab91078f82b8c23d4",
       "version_major": 2,
       "version_minor": 0
      },
      "text/plain": [
       "  0%|          | 0/15 [00:00<?, ?it/s]"
      ]
     },
     "metadata": {},
     "output_type": "display_data"
    },
    {
     "name": "stdout",
     "output_type": "stream",
     "text": [
      "C:\\Users\\fhacesga\\OneDrive - University Of Houston\\AAA_RECTDNN\\data/TileLocator/out_v2/48473CIND0A.png\n",
      "[0]\n"
     ]
    },
    {
     "data": {
      "application/vnd.jupyter.widget-view+json": {
       "model_id": "24ebd0015f604c2fa92b7294fc36c600",
       "version_major": 2,
       "version_minor": 0
      },
      "text/plain": [
       "  0%|          | 0/15 [00:00<?, ?it/s]"
      ]
     },
     "metadata": {},
     "output_type": "display_data"
    }
   ],
   "source": [
    "for filename in os.listdir(prep_folder):\n",
    "    if filename.lower().endswith(('.png', '.jpg', '.jpeg', '.tif', '.tiff')):\n",
    "        image_path = os.path.join(prep_folder, filename)\n",
    "        output_path = os.path.join(output_folder, filename[:-3] + \"png\")\n",
    "        \n",
    "        # print(f\"Processing {filename} and saved to {output_path}\")\n",
    "        print(output_path)\n",
    "        processed_image = split_and_run_cnn(image_path, model, tilesize=1024, edges=0, dims_rep=[0])\n",
    "        image = processed_image * 255\n",
    "        image = np.swapaxes(image, 0, 1)\n",
    "        # Save the processed image to the output folder\n",
    "        cv2.imwrite(output_path, image.astype(np.uint8))"
   ]
  },
  {
   "cell_type": "code",
   "execution_count": 24,
   "id": "94455d9f",
   "metadata": {},
   "outputs": [],
   "source": [
    "# Load the image\n",
    "image_path = f'{data_dir}TileLocator/out_v2/48071CIND0A.png'\n",
    "image = cv2.imread(image_path,)\n",
    "image = cv2.cvtColor(image, cv2.COLOR_BGR2RGB)"
   ]
  },
  {
   "cell_type": "code",
   "execution_count": 44,
   "id": "223e0bad",
   "metadata": {},
   "outputs": [],
   "source": []
  },
  {
   "cell_type": "code",
   "execution_count": 58,
   "id": "fc003939",
   "metadata": {},
   "outputs": [
    {
     "data": {
      "text/plain": [
       "True"
      ]
     },
     "execution_count": 58,
     "metadata": {},
     "output_type": "execute_result"
    }
   ],
   "source": [
    "# Apply Gaussian blur to reduce noise and improve edge detection\n",
    "# blurred = cv2.GaussianBlur(gray, (5, 5), 0)\n",
    "\n",
    "# Perform edge detection using Canny\n",
    "# edges = cv2.Canny(blurred, threshold1=50, threshold2=150)\n",
    "cv2.imwrite(\"test.png\", gray)"
   ]
  },
  {
   "cell_type": "code",
   "execution_count": 101,
   "id": "2e95b31b",
   "metadata": {
    "scrolled": true
   },
   "outputs": [
    {
     "name": "stdout",
     "output_type": "stream",
     "text": [
      "[[[  18 1182   18   22]]\n",
      "\n",
      " [[1181  801 1181   18]]\n",
      "\n",
      " [[  19 1182  520 1182]]\n",
      "\n",
      " [[ 512   18 1180   18]]\n",
      "\n",
      " [[  83  720  938  675]]\n",
      "\n",
      " [[ 195  325  926  287]]\n",
      "\n",
      " [[  88  525  932  481]]\n",
      "\n",
      " [[  89  914  760  879]]\n",
      "\n",
      " [[  31   35  524   35]]\n",
      "\n",
      " [[  31   33  522   33]]\n",
      "\n",
      " [[ 278  906  758  881]]\n",
      "\n",
      " [[  37  185  511  185]]\n",
      "\n",
      " [[  40  186  511  186]]\n",
      "\n",
      " [[ 329  805  879  776]]\n",
      "\n",
      " [[  31   34  524   34]]\n",
      "\n",
      " [[  30  155  557  155]]\n",
      "\n",
      " [[  30  165  557  165]]\n",
      "\n",
      " [[ 512   19  945   19]]\n",
      "\n",
      " [[ 999 1182  999  801]]\n",
      "\n",
      " [[1180 1177 1180  800]]\n",
      "\n",
      " [[1070 1181 1070  800]]\n",
      "\n",
      " [[1000 1182 1000  801]]\n",
      "\n",
      " [[ 197  422  624  400]]\n",
      "\n",
      " [[1034 1174 1034  800]]\n",
      "\n",
      " [[ 807  444  820  821]]\n",
      "\n",
      " [[  30  166  557  166]]\n",
      "\n",
      " [[ 329  806  880  777]]\n",
      "\n",
      " [[  72   76  524   76]]\n",
      "\n",
      " [[  73   77  524   77]]\n",
      "\n",
      " [[ 523  113  914   92]]\n",
      "\n",
      " [[ 202  617  574  598]]\n",
      "\n",
      " [[ 547 1099  795 1099]]\n",
      "\n",
      " [[ 547 1098  795 1098]]\n",
      "\n",
      " [[ 923  204  936  604]]\n",
      "\n",
      " [[ 208  227  558  208]]\n",
      "\n",
      " [[ 802  259  817  673]]\n",
      "\n",
      " [[ 556  112  914   93]]\n",
      "\n",
      " [[ 501  360  692  367]]\n",
      "\n",
      " [[ 799  116  808  374]]\n",
      "\n",
      " [[ 212  422  623  401]]\n",
      "\n",
      " [[ 195  310  645  279]]\n",
      "\n",
      " [[  79  533   85  846]]\n",
      "\n",
      " [[ 314  709  925  677]]\n",
      "\n",
      " [[ 921  123  931  432]]\n",
      "\n",
      " [[ 489  448  800  420]]\n",
      "\n",
      " [[  85  156  341  156]]\n",
      "\n",
      " [[ 564  479  576  807]]\n",
      "\n",
      " [[ 209  227  558  209]]\n",
      "\n",
      " [[ 319  300  325  652]]\n",
      "\n",
      " [[  85  175  255  175]]\n",
      "\n",
      " [[ 570  668  576  867]]\n",
      "\n",
      " [[ 195  311  727  274]]\n",
      "\n",
      " [[ 682  298  690  555]]\n",
      "\n",
      " [[  82  657   87  914]]\n",
      "\n",
      " [[ 256  323  837  292]]\n",
      "\n",
      " [[ 685  430  698  815]]\n",
      "\n",
      " [[1035  841 1179  841]]\n",
      "\n",
      " [[ 204  616  209  911]]\n",
      "\n",
      " [[ 332  878  336 1074]]\n",
      "\n",
      " [[ 255  252  261  613]]\n",
      "\n",
      " [[ 259  381  264  657]]\n",
      "\n",
      " [[1035  949 1035  800]]\n",
      "\n",
      " [[ 208  818  213 1072]]\n",
      "\n",
      " [[ 546  973  795  973]]\n",
      "\n",
      " [[ 678  154  689  470]]\n",
      "\n",
      " [[ 560  329  570  632]]\n",
      "\n",
      " [[ 556  156  565  440]]\n",
      "\n",
      " [[ 692  689  699  882]]\n",
      "\n",
      " [[ 504  426  508  659]]\n",
      "\n",
      " [[ 754  687  760  876]]\n",
      "\n",
      " [[ 672  493  829  485]]\n",
      "\n",
      " [[ 547 1097  547  969]]\n",
      "\n",
      " [[ 929  404  938  676]]\n",
      "\n",
      " [[ 376  220  381  498]]\n",
      "\n",
      " [[ 815  686  821  874]]\n",
      "\n",
      " [[ 378  281  382  496]]\n",
      "\n",
      " [[1036  840 1179  840]]\n",
      "\n",
      " [[ 386  605  390  805]]\n",
      "\n",
      " [[ 325  608  330  881]]\n",
      "\n",
      " [[ 524  213  524   36]]\n",
      "\n",
      " [[1036  839 1179  839]]\n",
      "\n",
      " [[ 194  242  197  421]]\n",
      "\n",
      " [[ 500  288  504  511]]\n",
      "\n",
      " [[ 876  681  882  853]]\n",
      "\n",
      " [[ 445  569  453  814]]\n",
      "\n",
      " [[1003  800 1179  800]]\n",
      "\n",
      " [[ 546  972  795  972]]\n",
      "\n",
      " [[ 509  669  516  893]]\n",
      "\n",
      " [[ 632  694  638  881]]\n",
      "\n",
      " [[  32  183   32   36]]\n",
      "\n",
      " [[ 316  252  320  474]]\n",
      "\n",
      " [[  85  525  383  509]]\n",
      "\n",
      " [[1039 1181 1176 1181]]\n",
      "\n",
      " [[1003  801 1179  801]]\n",
      "\n",
      " [[ 630 1097  630  970]]\n",
      "\n",
      " [[ 381  386  386  650]]\n",
      "\n",
      " [[  31  181   31   36]]\n",
      "\n",
      " [[1068  959 1068  819]]\n",
      "\n",
      " [[ 222 1103  330 1097]]\n",
      "\n",
      " [[ 663  367  820  373]]\n",
      "\n",
      " [[ 795 1097  795  965]]\n",
      "\n",
      " [[ 441  342  445  568]]\n",
      "\n",
      " [[1063  817 1175  815]]\n",
      "\n",
      " [[ 498  219  501  387]]\n",
      "\n",
      " [[ 523  214  523   36]]\n",
      "\n",
      " [[ 437  184  442  456]]\n",
      "\n",
      " [[ 202  616  574  597]]\n",
      "\n",
      " [[ 328  708  333  975]]\n",
      "\n",
      " [[ 291  404  441  375]]\n",
      "\n",
      " [[ 518  360  662  365]]\n",
      "\n",
      " [[ 723  371  825  368]]\n",
      "\n",
      " [[ 714 1097  714  970]]\n",
      "\n",
      " [[ 794 1097  794  968]]\n",
      "\n",
      " [[ 713 1097  713  971]]\n",
      "\n",
      " [[ 631 1097  631  970]]\n",
      "\n",
      " [[ 556  131  563  342]]\n",
      "\n",
      " [[ 258  385  379  374]]\n",
      "\n",
      " [[ 307   95  427   95]]\n",
      "\n",
      " [[ 877  724  882  874]]\n",
      "\n",
      " [[ 282  417  483  406]]\n",
      "\n",
      " [[ 200  521  203  663]]\n",
      "\n",
      " [[ 213  308  462  291]]\n",
      "\n",
      " [[ 450  751  455  896]]\n",
      "\n",
      " [[ 299  301  300  403]]\n",
      "\n",
      " [[ 488  445  800  423]]\n",
      "\n",
      " [[ 389  705  392  883]]\n",
      "\n",
      " [[ 799  110  803  229]]\n",
      "\n",
      " [[ 548 1096  548  971]]\n",
      "\n",
      " [[ 427  370  562  356]]\n",
      "\n",
      " [[ 560  298  567  524]]\n",
      "\n",
      " [[ 263  543  266  710]]]\n"
     ]
    },
    {
     "data": {
      "text/plain": [
       "True"
      ]
     },
     "execution_count": 101,
     "metadata": {},
     "output_type": "execute_result"
    }
   ],
   "source": [
    "# Define the target dimensions for processing\n",
    "target_dim = (1200, 1200)\n",
    "\n",
    "# Process the image and get the result\n",
    "def upscale_to_max(image, target_dim, threshold=50):\n",
    "    resized_image = cv2.resize(image, target_dim, interpolation=cv2.INTER_LINEAR)\n",
    "    resized_image[resized_image > threshold] = 255  # Set pixel values above threshold to max (255)\n",
    "    return resized_image\n",
    "\n",
    "# Rescale the image to the target dimensions\n",
    "resized_image = cv2.resize(image, target_dim, interpolation=cv2.INTER_AREA)\n",
    "\n",
    "# Convert the resized image to grayscale\n",
    "threshold = 10\n",
    "gray = np.logical_or(resized_image[:, :, 0] > threshold, resized_image[:, :, 1] > threshold) * 255\n",
    "gray = gray.astype(np.uint8)\n",
    "\n",
    "\n",
    "# Apply Hough Transform to detect lines\n",
    "lines = cv2.HoughLinesP(gray, rho=1, theta=np.pi/180, threshold=100, minLineLength=100, maxLineGap=35)\n",
    "print(lines)\n",
    "\n",
    "# Draw the detected lines on a copy of the resized image\n",
    "image_with_lines = resized_image.copy() * 0\n",
    "for line in lines:\n",
    "    x1, y1, x2, y2 = line[0]\n",
    "    \n",
    "    colors = np.random.randint(255, size=3).astype(np.int32)\n",
    "    color = ( int (colors [ 0 ]), int (colors [ 1 ]), int (colors [ 2 ])) \n",
    "    cv2.line(image_with_lines, (x1, y1), (x2, y2), color, 2)\n",
    "\n",
    "# Rescale the image with detected lines back to the original dimensions\n",
    "result_image = cv2.resize(image_with_lines, image.shape[:2][::-1], interpolation=cv2.INTER_LINEAR)\n",
    "cv2.imwrite(\"test.png\", result_image)\n",
    "cv2.imwrite(\"test1.png\", image)"
   ]
  },
  {
   "cell_type": "code",
   "execution_count": 92,
   "id": "9c80a6ba",
   "metadata": {},
   "outputs": [
    {
     "data": {
      "text/plain": [
       "(0.0, 1200.0)"
      ]
     },
     "execution_count": 92,
     "metadata": {},
     "output_type": "execute_result"
    },
    {
     "data": {
      "image/png": "[encoded data removed]",
      "text/plain": [
       "<Figure size 640x480 with 1 Axes>"
      ]
     },
     "metadata": {},
     "output_type": "display_data"
    }
   ],
   "source": [
    "def line_intersection(line1, line2):\n",
    "    x1, y1, x2, y2 = line1\n",
    "    x3, y3, x4, y4 = line2\n",
    "\n",
    "    denominator = (x1 - x2) * (y3 - y4) - (y1 - y2) * (x3 - x4)\n",
    "\n",
    "    if denominator == 0:\n",
    "        return None  # Lines are parallel or coincident\n",
    "\n",
    "    px = ((x1 * y2 - y1 * x2) * (x3 - x4) - (x1 - x2) * (x3 * y4 - y3 * x4)) / denominator\n",
    "    py = ((x1 * y2 - y1 * x2) * (y3 - y4) - (y1 - y2) * (x3 * y4 - y3 * x4)) / denominator\n",
    "\n",
    "    return px, py\n",
    "\n",
    "def find_all_intersections(lines):\n",
    "    intersections = []\n",
    "    num_lines = len(lines)\n",
    "\n",
    "    for i in range(num_lines - 1):\n",
    "        for j in range(i + 1, num_lines):\n",
    "            intersection = line_intersection(lines[i][0], lines[j][0])\n",
    "            if intersection:\n",
    "                intersections.append([intersection[0], intersection[1]])\n",
    "\n",
    "    return intersections\n",
    "\n",
    "intersections = find_all_intersections(lines)\n",
    "intersections = np.array(intersections)\n",
    "\n",
    "plt.scatter(intersections[:, 0], intersections[:, 1])\n",
    "plt.xlim((0, 1200))\n",
    "plt.ylim((0, 1200))"
   ]
  }
 ],
 "metadata": {
  "kernelspec": {
   "display_name": "Python 3 (ipykernel)",
   "language": "python",
   "name": "python3"
  },
  "language_info": {
   "codemirror_mode": {
    "name": "ipython",
    "version": 3
   },
   "file_extension": ".py",
   "mimetype": "text/x-python",
   "name": "python",
   "nbconvert_exporter": "python",
   "pygments_lexer": "ipython3",
   "version": "3.7.16"
  }
 },
 "nbformat": 4,
 "nbformat_minor": 5
}
