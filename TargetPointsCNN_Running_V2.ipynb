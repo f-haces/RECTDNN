{
 "cells": [
  {
   "cell_type": "code",
   "execution_count": 1,
   "id": "6b80c117",
   "metadata": {},
   "outputs": [],
   "source": [
    "# PYTHON IMPORTS\n",
    "import os\n",
    "import copy\n",
    "from tqdm.notebook import trange, tqdm\n",
    "\n",
    "# IMAGE IMPORTS \n",
    "from PIL import Image\n",
    "import cv2\n",
    "\n",
    "# DATA IMPORTS \n",
    "import random\n",
    "import h5py\n",
    "import numpy as np\n",
    "import glob\n",
    "\n",
    "# PLOTTING\n",
    "import matplotlib.pyplot as plt\n",
    "import matplotlib.cm as cm\n",
    "\n",
    "# NEURAL NETWORK\n",
    "import torch\n",
    "import torch.nn as nn\n",
    "import torch.optim as optim\n",
    "from torch.utils.data import DataLoader, Dataset\n",
    "from torchvision import transforms, datasets\n",
    "from torchvision.transforms import ToPILImage, GaussianBlur\n",
    "from torchvision.transforms import Compose, RandomCrop, ToTensor, Normalize\n",
    "import torch.optim.lr_scheduler as lr_scheduler\n",
    "import torchvision.models as models\n",
    "\n",
    "# MY OWN CLASSES\n",
    "from TileLocator import *\n",
    "Image.MAX_IMAGE_PIXELS = 933120000"
   ]
  },
  {
   "cell_type": "code",
   "execution_count": 2,
   "id": "a4df21b7",
   "metadata": {},
   "outputs": [],
   "source": [
    "data_dir = r\"C:\\Users\\fhacesga\\OneDrive - University Of Houston\\AAA_RECTDNN\\data/\"\n",
    "\n",
    "templates_dir = f\"{data_dir}templates/\"\n",
    "tempfiles_dir = \"tempfiles/\"\n",
    "\n",
    "boundary_shapefile = f\"{templates_dir}HCAD_Harris_County_Boundary.shp\"\n",
    "boundary_points    = f'{tempfiles_dir}boundary_points.shp'\n",
    "roads_points       = f'{tempfiles_dir}roads_points.shp'\n",
    "\n",
    "roads_fn = f\"data/Roads/TexasHighways.shp\"\n",
    "model_checkpoint = f\"{data_dir}TileLocator/071723.pth\""
   ]
  },
  {
   "cell_type": "code",
   "execution_count": 3,
   "id": "face9e4f",
   "metadata": {},
   "outputs": [],
   "source": [
    "# Initialize model\n",
    "model = torch.load(model_checkpoint)\n",
    "model = model.to(\"cuda\")"
   ]
  },
  {
   "cell_type": "code",
   "execution_count": 4,
   "id": "a30eb828",
   "metadata": {},
   "outputs": [],
   "source": [
    "def sharpeningKernel(n_window):\n",
    "    assert n_window % 2 == 1    \n",
    "    kernel = np.zeros((n_window, n_window))\n",
    "    \n",
    "    kernel[:, n_window // 2] = -1\n",
    "    kernel[n_window // 2, :] = -1\n",
    "    \n",
    "    kernel[n_window // 2, n_window // 2] = -1 * np.sum(kernel)\n",
    "    return kernel\n",
    "\n",
    "def resize_image(image, max_size):\n",
    "    # Get the original image dimensions\n",
    "    height, width = image.shape[:2]\n",
    "    \n",
    "    # Determine the scaling factor\n",
    "    scale = max_size / max(height, width)\n",
    "    \n",
    "    # Calculate the new dimensions\n",
    "    new_height = int(height * scale)\n",
    "    new_width = int(width * scale)\n",
    "    \n",
    "    # Resize the image using the calculated dimensions\n",
    "    resized_image = cv2.resize(image, (new_width, new_height))\n",
    "    \n",
    "    return resized_image\n"
   ]
  },
  {
   "cell_type": "code",
   "execution_count": 5,
   "id": "4ea11617",
   "metadata": {
    "scrolled": true
   },
   "outputs": [
    {
     "data": {
      "application/vnd.jupyter.widget-view+json": {
       "model_id": "bbf57e684cfa400bbe94fdb4bbf9a23a",
       "version_major": 2,
       "version_minor": 0
      },
      "text/plain": [
       "  0%|          | 0/12 [00:00<?, ?it/s]"
      ]
     },
     "metadata": {},
     "output_type": "display_data"
    }
   ],
   "source": [
    "input_folder  = f\"{data_dir}TileLocator/in/\"\n",
    "prep_folder   = f\"{data_dir}TileLocator/in_prepped/\"    \n",
    "output_folder = f\"{data_dir}TileLocator/out/roads/\"\n",
    "\n",
    "# Iterate over the files in the input folder\n",
    "for filename in tqdm(os.listdir(input_folder)):\n",
    "    # Check if the file has a supported image extension\n",
    "    if filename.lower().endswith(('.png', '.jpg', '.jpeg', '.tif', '.tiff')):\n",
    "        # Open the image file\n",
    "        image_path = os.path.join(input_folder, filename)\n",
    "        output_path = os.path.join(prep_folder, filename[:-3] + \"png\")\n",
    "        \n",
    "        image = cv2.imread(image_path, 0)\n",
    "                \n",
    "        image = resize_image(image, 14400)\n",
    "        # image = cv2.GaussianBlur(image, (51, 51), 0)\n",
    "        # image = cv2.adaptiveThreshold(image, 255, \n",
    "        #                               cv2.ADAPTIVE_THRESH_GAUSSIAN_C, \n",
    "        #                               cv2.THRESH_BINARY, 35, 2)\n",
    "        \n",
    "        # Save the processed image to the output folder\n",
    "        cv2.imwrite(output_path, image.astype(np.uint8))"
   ]
  },
  {
   "cell_type": "code",
   "execution_count": 6,
   "id": "1b0b7192",
   "metadata": {
    "scrolled": false
   },
   "outputs": [
    {
     "name": "stdout",
     "output_type": "stream",
     "text": [
      "Processing 480233IND0_0382.png and saved to C:\\Users\\fhacesga\\OneDrive - University Of Houston\\AAA_RECTDNN\\data/TileLocator/out/roads/480233IND0_0382.png\n"
     ]
    },
    {
     "data": {
      "application/vnd.jupyter.widget-view+json": {
       "model_id": "15493f99f765417eb45d10da93f493ae",
       "version_major": 2,
       "version_minor": 0
      },
      "text/plain": [
       "  0%|          | 0/8 [00:00<?, ?it/s]"
      ]
     },
     "metadata": {},
     "output_type": "display_data"
    },
    {
     "name": "stderr",
     "output_type": "stream",
     "text": [
      "C:\\Users\\fhacesga\\Desktop\\FIRMsDigitizing\\RECTDNN\\TileLocator.py:93: UserWarning: Implicit dimension choice for softmax has been deprecated. Change the call to include dim=X as an argument.\n",
      "  output = self.softmax(output)\n"
     ]
    },
    {
     "name": "stdout",
     "output_type": "stream",
     "text": [
      "Processing 480296IND0_0982.png and saved to C:\\Users\\fhacesga\\OneDrive - University Of Houston\\AAA_RECTDNN\\data/TileLocator/out/roads/480296IND0_0982.png\n"
     ]
    },
    {
     "data": {
      "application/vnd.jupyter.widget-view+json": {
       "model_id": "fa0092d8144a4fe6a6e8f5374409caf7",
       "version_major": 2,
       "version_minor": 0
      },
      "text/plain": [
       "  0%|          | 0/8 [00:00<?, ?it/s]"
      ]
     },
     "metadata": {},
     "output_type": "display_data"
    },
    {
     "name": "stdout",
     "output_type": "stream",
     "text": [
      "Processing 480304IND0_1077.png and saved to C:\\Users\\fhacesga\\OneDrive - University Of Houston\\AAA_RECTDNN\\data/TileLocator/out/roads/480304IND0_1077.png\n"
     ]
    },
    {
     "data": {
      "application/vnd.jupyter.widget-view+json": {
       "model_id": "54513fcc4ab9449bba6c469a308f48e3",
       "version_major": 2,
       "version_minor": 0
      },
      "text/plain": [
       "  0%|          | 0/8 [00:00<?, ?it/s]"
      ]
     },
     "metadata": {},
     "output_type": "display_data"
    },
    {
     "name": "stdout",
     "output_type": "stream",
     "text": [
      "Processing 48071CIND0A.png and saved to C:\\Users\\fhacesga\\OneDrive - University Of Houston\\AAA_RECTDNN\\data/TileLocator/out/roads/48071CIND0A.png\n"
     ]
    },
    {
     "data": {
      "application/vnd.jupyter.widget-view+json": {
       "model_id": "2130f92f19b94a819f69edc7dbc8fe18",
       "version_major": 2,
       "version_minor": 0
      },
      "text/plain": [
       "  0%|          | 0/8 [00:00<?, ?it/s]"
      ]
     },
     "metadata": {},
     "output_type": "display_data"
    },
    {
     "name": "stdout",
     "output_type": "stream",
     "text": [
      "Processing 48157CIND0A.png and saved to C:\\Users\\fhacesga\\OneDrive - University Of Houston\\AAA_RECTDNN\\data/TileLocator/out/roads/48157CIND0A.png\n"
     ]
    },
    {
     "data": {
      "application/vnd.jupyter.widget-view+json": {
       "model_id": "220e06d27dbd440fbea6c70a355eb48e",
       "version_major": 2,
       "version_minor": 0
      },
      "text/plain": [
       "  0%|          | 0/8 [00:00<?, ?it/s]"
      ]
     },
     "metadata": {},
     "output_type": "display_data"
    },
    {
     "name": "stdout",
     "output_type": "stream",
     "text": [
      "Processing 48201CIND0A.png and saved to C:\\Users\\fhacesga\\OneDrive - University Of Houston\\AAA_RECTDNN\\data/TileLocator/out/roads/48201CIND0A.png\n"
     ]
    },
    {
     "data": {
      "application/vnd.jupyter.widget-view+json": {
       "model_id": "0e3906d3235f4d4199a58a7a95bed7f4",
       "version_major": 2,
       "version_minor": 0
      },
      "text/plain": [
       "  0%|          | 0/8 [00:00<?, ?it/s]"
      ]
     },
     "metadata": {},
     "output_type": "display_data"
    },
    {
     "name": "stdout",
     "output_type": "stream",
     "text": [
      "Processing 48201CIND0D.png and saved to C:\\Users\\fhacesga\\OneDrive - University Of Houston\\AAA_RECTDNN\\data/TileLocator/out/roads/48201CIND0D.png\n"
     ]
    },
    {
     "data": {
      "application/vnd.jupyter.widget-view+json": {
       "model_id": "05fbec4e8b554dfc87fdab7bafa3ec64",
       "version_major": 2,
       "version_minor": 0
      },
      "text/plain": [
       "  0%|          | 0/8 [00:00<?, ?it/s]"
      ]
     },
     "metadata": {},
     "output_type": "display_data"
    },
    {
     "name": "stdout",
     "output_type": "stream",
     "text": [
      "Processing 48201CIND0_0992.png and saved to C:\\Users\\fhacesga\\OneDrive - University Of Houston\\AAA_RECTDNN\\data/TileLocator/out/roads/48201CIND0_0992.png\n"
     ]
    },
    {
     "data": {
      "application/vnd.jupyter.widget-view+json": {
       "model_id": "a8f3338afc3047059f0cfd87e1903ac0",
       "version_major": 2,
       "version_minor": 0
      },
      "text/plain": [
       "  0%|          | 0/8 [00:00<?, ?it/s]"
      ]
     },
     "metadata": {},
     "output_type": "display_data"
    },
    {
     "name": "stdout",
     "output_type": "stream",
     "text": [
      "Processing 48339CIND0.png and saved to C:\\Users\\fhacesga\\OneDrive - University Of Houston\\AAA_RECTDNN\\data/TileLocator/out/roads/48339CIND0.png\n"
     ]
    },
    {
     "data": {
      "application/vnd.jupyter.widget-view+json": {
       "model_id": "e3cbacc83a8649db8992a565463101ae",
       "version_major": 2,
       "version_minor": 0
      },
      "text/plain": [
       "  0%|          | 0/8 [00:00<?, ?it/s]"
      ]
     },
     "metadata": {},
     "output_type": "display_data"
    },
    {
     "name": "stdout",
     "output_type": "stream",
     "text": [
      "Processing 48473CIND0A.png and saved to C:\\Users\\fhacesga\\OneDrive - University Of Houston\\AAA_RECTDNN\\data/TileLocator/out/roads/48473CIND0A.png\n"
     ]
    },
    {
     "data": {
      "application/vnd.jupyter.widget-view+json": {
       "model_id": "d944bfc7a68b4d94bf18cd872746281c",
       "version_major": 2,
       "version_minor": 0
      },
      "text/plain": [
       "  0%|          | 0/8 [00:00<?, ?it/s]"
      ]
     },
     "metadata": {},
     "output_type": "display_data"
    },
    {
     "name": "stdout",
     "output_type": "stream",
     "text": [
      "Processing 485456IND0_0982.png and saved to C:\\Users\\fhacesga\\OneDrive - University Of Houston\\AAA_RECTDNN\\data/TileLocator/out/roads/485456IND0_0982.png\n"
     ]
    },
    {
     "data": {
      "application/vnd.jupyter.widget-view+json": {
       "model_id": "fa17711300364a5fbbed6d795afaf7e2",
       "version_major": 2,
       "version_minor": 0
      },
      "text/plain": [
       "  0%|          | 0/6 [00:00<?, ?it/s]"
      ]
     },
     "metadata": {},
     "output_type": "display_data"
    },
    {
     "name": "stdout",
     "output_type": "stream",
     "text": [
      "Processing 485468IND0_0483.png and saved to C:\\Users\\fhacesga\\OneDrive - University Of Houston\\AAA_RECTDNN\\data/TileLocator/out/roads/485468IND0_0483.png\n"
     ]
    },
    {
     "data": {
      "application/vnd.jupyter.widget-view+json": {
       "model_id": "057b81bc8e91434592b81fe8ea174f73",
       "version_major": 2,
       "version_minor": 0
      },
      "text/plain": [
       "  0%|          | 0/8 [00:00<?, ?it/s]"
      ]
     },
     "metadata": {},
     "output_type": "display_data"
    }
   ],
   "source": [
    "# Iterate over the files in the input folder\n",
    "for filename in os.listdir(prep_folder):\n",
    "    # Check if the file has a supported image extension\n",
    "    if filename.lower().endswith(('.png', '.jpg', '.jpeg', '.tif', '.tiff')):\n",
    "        # Open the image file\n",
    "        image_path = os.path.join(prep_folder, filename)\n",
    "        output_path = os.path.join(output_folder, filename[:-3] + \"png\")\n",
    "        print(f\"Processing {filename} and saved to {output_path}\")\n",
    "        \n",
    "        # Apply the process function to the image\n",
    "        processed_image = split_and_run_cnn(image_path, model, tilesize=2048)\n",
    "        \n",
    "        # plt.hist(processed_image.flatten())\n",
    "        # plt.yscale(\"log\")\n",
    "        # plt.show()\n",
    "                \n",
    "        # image = np.where(processed_image > 0.1, 255, 0)\n",
    "        image = processed_image * 255\n",
    "        \n",
    "        # Save the processed image to the output folder\n",
    "        cv2.imwrite(output_path, image.astype(np.uint8))"
   ]
  },
  {
   "cell_type": "code",
   "execution_count": null,
   "id": "ff562247",
   "metadata": {},
   "outputs": [],
   "source": []
  }
 ],
 "metadata": {
  "kernelspec": {
   "display_name": "Python 3 (ipykernel)",
   "language": "python",
   "name": "python3"
  },
  "language_info": {
   "codemirror_mode": {
    "name": "ipython",
    "version": 3
   },
   "file_extension": ".py",
   "mimetype": "text/x-python",
   "name": "python",
   "nbconvert_exporter": "python",
   "pygments_lexer": "ipython3",
   "version": "3.7.10"
  }
 },
 "nbformat": 4,
 "nbformat_minor": 5
}
