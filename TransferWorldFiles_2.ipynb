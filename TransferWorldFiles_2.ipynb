{
 "cells": [
  {
   "cell_type": "code",
   "execution_count": 2,
   "id": "cfc31ecc",
   "metadata": {},
   "outputs": [],
   "source": [
    "import os\n",
    "import numpy as np\n",
    "import cv2\n",
    "import rasterio\n",
    "from rasterio.shutil import copy\n",
    "import geopandas as gpd\n",
    "from rasterio.features import shapes\n",
    "from shapely.geometry import shape"
   ]
  },
  {
   "cell_type": "code",
   "execution_count": 4,
   "id": "517b2acf",
   "metadata": {},
   "outputs": [
    {
     "name": "stdout",
     "output_type": "stream",
     "text": [
      "Georeferencing transfer complete.\n"
     ]
    }
   ],
   "source": [
    "base_dir = r\"C:\\Users\\fhacesga\\OneDrive - University Of Houston\\AAA_RECTDNN\\data\\FLNN\\AAA_NewDataset_3\\\\\"\n",
    "\n",
    "# Define directories\n",
    "dir_a = r\"D:\\RECTDNN\\processing\\2024-11-15_09-31-24\\CornerTest\\referenced\\\\\"  # Directory A with referenced imagery\n",
    "dir_b = f\"{base_dir}000_drawn_double\\\\\"  # Directory B with unreferenced imagery\n",
    "dir_c = r\"D:\\RECTDNN\\000_AGU_2\\\\\"  # Output directory\n",
    "\n",
    "# Ensure the output directory exists\n",
    "os.makedirs(dir_c, exist_ok=True)\n",
    "\n",
    "# Iterate through files in Directory A\n",
    "for file_a in os.listdir(dir_a):\n",
    "    file_a_path = os.path.join(dir_a, file_a)\n",
    "    \n",
    "    # Ensure the file is a raster\n",
    "    if not file_a_path.lower().endswith(('.tif', '.tiff', '.img', '.vrt')):\n",
    "        continue\n",
    "\n",
    "    # Match files in Directory B based on name (ignoring extensions)\n",
    "    base_name = os.path.splitext(file_a)[0]\n",
    "    matching_files_b = [f for f in os.listdir(dir_b) if os.path.splitext(f)[0] == base_name]\n",
    "\n",
    "    for file_b in matching_files_b:\n",
    "        file_b_path = os.path.join(dir_b, file_b)\n",
    "\n",
    "        # Load georeferencing information from Directory A\n",
    "        with rasterio.open(file_a_path) as src_a:\n",
    "            profile_a = src_a.profile\n",
    "\n",
    "        # Open the image from Directory B\n",
    "        with rasterio.open(file_b_path) as src_b:\n",
    "            data = src_b.read()\n",
    "\n",
    "        # Update the profile with referencing information from Directory A\n",
    "        profile_b = profile_a.copy()\n",
    "        profile_b.update(dtype=data.dtype, count=data.shape[0], height=data.shape[1], width=data.shape[2])\n",
    "\n",
    "        # Save the updated raster to Directory C\n",
    "        output_path = os.path.join(dir_c, file_b.split(\".\")[0]+ \".tif\")\n",
    "        with rasterio.open(output_path, 'w', **profile_b) as dst:\n",
    "            dst.write(data)\n",
    "\n",
    "print(\"Georeferencing transfer complete.\")\n"
   ]
  },
  {
   "cell_type": "code",
   "execution_count": 6,
   "id": "c0475291",
   "metadata": {},
   "outputs": [],
   "source": [
    "def threshold_and_polygonize(input_raster, output_vector, threshold_value):\n",
    "    \"\"\"\n",
    "    Applies thresholding and polygonizes a raster.\n",
    "\n",
    "    Parameters:\n",
    "    - input_raster (str): Path to the input raster file.\n",
    "    - output_vector (str): Path to the output vector file (GeoJSON).\n",
    "    - threshold_value (int or float): Threshold value for binary mask creation.\n",
    "\n",
    "    Returns:\n",
    "    - None\n",
    "    \"\"\"\n",
    "    with rasterio.open(input_raster) as src:\n",
    "        # Read the first band\n",
    "        data = src.read(1)\n",
    "        transform = src.transform\n",
    "\n",
    "        # Apply threshold to create a binary mask\n",
    "        binary_mask = (data > threshold_value).astype(rasterio.uint8)\n",
    "\n",
    "        # Polygonize the binary mask\n",
    "        shapes_generator = shapes(binary_mask, transform=transform)\n",
    "        polygons = [\n",
    "            shape(geom) for geom, value in shapes_generator if value == 1\n",
    "        ]\n",
    "\n",
    "        # Create GeoDataFrame\n",
    "        gdf = gpd.GeoDataFrame(geometry=polygons, crs=src.crs)\n",
    "\n",
    "    # Save polygons to the output vector file\n",
    "    gdf.to_file(output_vector, driver=\"GeoJSON\")\n",
    "    print(f\"Polygonized output saved to: {output_vector}\")\n",
    "\n",
    "def process_directory(input_dir, output_dir, threshold_value):\n",
    "    \"\"\"\n",
    "    Processes all raster files in a directory and saves polygonized results.\n",
    "\n",
    "    Parameters:\n",
    "    - input_dir (str): Path to the input directory containing raster files.\n",
    "    - output_dir (str): Path to the output directory for vector files.\n",
    "    - threshold_value (int or float): Threshold value for binary mask creation.\n",
    "\n",
    "    Returns:\n",
    "    - None\n",
    "    \"\"\"\n",
    "    # Ensure the output directory exists\n",
    "    os.makedirs(output_dir, exist_ok=True)\n",
    "\n",
    "    # Loop through all files in the input directory\n",
    "    for filename in os.listdir(input_dir):\n",
    "        if filename.lower().endswith(('.tif', '.tiff')):\n",
    "            input_raster = os.path.join(input_dir, filename)\n",
    "            output_vector = os.path.join(output_dir, os.path.splitext(filename)[0] + \".geojson\")\n",
    "\n",
    "            # Apply thresholding and polygonization\n",
    "            threshold_and_polygonize(input_raster, output_vector, threshold_value)\n"
   ]
  },
  {
   "cell_type": "code",
   "execution_count": 7,
   "id": "adf10d3c",
   "metadata": {},
   "outputs": [
    {
     "name": "stdout",
     "output_type": "stream",
     "text": [
      "Polygonized output saved to: D:\\RECTDNN\\000_AGU_2\\vectors\\\\48201C0845J.geojson\n",
      "Polygonized output saved to: D:\\RECTDNN\\000_AGU_2\\vectors\\\\48201C0845K.geojson\n",
      "Polygonized output saved to: D:\\RECTDNN\\000_AGU_2\\vectors\\\\48201C0855J.geojson\n",
      "Polygonized output saved to: D:\\RECTDNN\\000_AGU_2\\vectors\\\\48201C0855K.geojson\n",
      "Polygonized output saved to: D:\\RECTDNN\\000_AGU_2\\vectors\\\\48201C0865J.geojson\n",
      "Polygonized output saved to: D:\\RECTDNN\\000_AGU_2\\vectors\\\\48201C0865K.geojson\n"
     ]
    }
   ],
   "source": [
    "# input_directory =   r\"D:\\RECTDNN\\000_AGU_2\\\\\"\n",
    "output_directory =  r\"D:\\RECTDNN\\000_AGU_2\\vectors\\\\\"\n",
    "threshold = 100\n",
    "\n",
    "process_directory(dir_c, output_directory, threshold)"
   ]
  }
 ],
 "metadata": {
  "kernelspec": {
   "display_name": "Python 3",
   "language": "python",
   "name": "python3"
  },
  "language_info": {
   "codemirror_mode": {
    "name": "ipython",
    "version": 3
   },
   "file_extension": ".py",
   "mimetype": "text/x-python",
   "name": "python",
   "nbconvert_exporter": "python",
   "pygments_lexer": "ipython3",
   "version": "3.8.18"
  }
 },
 "nbformat": 4,
 "nbformat_minor": 5
}
