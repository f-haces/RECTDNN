{
 "cells": [
  {
   "cell_type": "code",
   "execution_count": 2,
   "id": "9c12f72a",
   "metadata": {},
   "outputs": [],
   "source": [
    "import os, cv2, json, pickle\n",
    "import numpy as np\n",
    "from tqdm.notebook import tqdm\n",
    "\n",
    "import matplotlib.pyplot as plt\n",
    "\n",
    "from ultralytics.data.converter import convert_coco"
   ]
  },
  {
   "cell_type": "code",
   "execution_count": 5,
   "id": "4a2b2d2f",
   "metadata": {},
   "outputs": [
    {
     "name": "stderr",
     "output_type": "stream",
     "text": [
      "Annotations C:\\Users\\franc\\OneDrive - University Of Houston\\AAA_RECTDNN\\data\\BBNN\\Retrain\\COCO\\annotations\\all.json: 100%|█████████"
     ]
    },
    {
     "name": "stdout",
     "output_type": "stream",
     "text": [
      "COCO data converted successfully.\n",
      "Results saved to C:\\Users\\franc\\OneDrive - University Of Houston\\AAA_RECTDNN\\data\\BBNN\\Retrain\\YOLO_dataset\n"
     ]
    },
    {
     "name": "stderr",
     "output_type": "stream",
     "text": [
      "\n"
     ]
    }
   ],
   "source": [
    "base_dir = r\"C:\\Users\\franc\\OneDrive - University Of Houston\\AAA_RECTDNN\\data\\BBNN\\Retrain\\\\\"\n",
    "convert_coco(labels_dir=f'{base_dir}COCO\\\\annotations', save_dir=f\"{base_dir}YOLO_dataset\", cls91to80=False)"
   ]
  }
 ],
 "metadata": {
  "kernelspec": {
   "display_name": "Python 3 (ipykernel)",
   "language": "python",
   "name": "python3"
  },
  "language_info": {
   "codemirror_mode": {
    "name": "ipython",
    "version": 3
   },
   "file_extension": ".py",
   "mimetype": "text/x-python",
   "name": "python",
   "nbconvert_exporter": "python",
   "pygments_lexer": "ipython3",
   "version": "3.8.18"
  }
 },
 "nbformat": 4,
 "nbformat_minor": 5
}
