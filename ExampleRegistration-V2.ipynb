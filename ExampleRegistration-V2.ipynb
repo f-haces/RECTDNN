{
 "cells": [
  {
   "cell_type": "code",
   "execution_count": 2,
   "metadata": {},
   "outputs": [
    {
     "name": "stdout",
     "output_type": "stream",
     "text": [
      "The autoreload extension is already loaded. To reload it, use:\n",
      "  %reload_ext autoreload\n"
     ]
    }
   ],
   "source": [
    "%load_ext autoreload\n",
    "%notebook autoreload"
   ]
  },
  {
   "cell_type": "code",
   "execution_count": 13,
   "metadata": {},
   "outputs": [],
   "source": [
    "import numpy as np\n",
    "import geopandas as gpd\n",
    "from scipy.spatial import KDTree\n",
    "from tqdm.autonotebook import tqdm\n",
    "from scipy.ndimage import gaussian_filter\n",
    "from fuzzywuzzy import process\n",
    "import contextily as cx\n",
    "\n",
    "import warnings\n",
    "\n",
    "from IndexUtils import * \n",
    "from TileUtils import *\n",
    "from featurematching import *\n",
    "\n",
    "# TILED INFERENCE\n",
    "import sahi\n",
    "from sahi import AutoDetectionModel\n",
    "from sahi.predict import get_sliced_prediction, predict\n",
    "from scipy.spatial.distance import cdist\n",
    "\n",
    "from scipy.fftpack import fft2, ifft2, fftshift\n",
    "from scipy.ndimage import center_of_mass\n",
    "\n",
    "from sklearn.cluster import DBSCAN\n",
    "\n",
    "from skimage.morphology import skeletonize\n",
    "\n",
    "from scipy.interpolate import Rbf\n"
   ]
  },
  {
   "cell_type": "code",
   "execution_count": 4,
   "metadata": {},
   "outputs": [
    {
     "data": {
      "application/vnd.jupyter.widget-view+json": {
       "model_id": "5b4ddf6ff64a4744be03eb35d4089a9d",
       "version_major": 2,
       "version_minor": 0
      },
      "text/plain": [
       "  0%|          | 0/127256 [00:00<?, ?it/s]"
      ]
     },
     "metadata": {},
     "output_type": "display_data"
    }
   ],
   "source": [
    "corners = gpd.read_file(r\"C:\\Users\\fhacesga\\OneDrive - University Of Houston\\AAA_RECTDNN\\data\\AAA_ReferenceDatasets\\OSM_Roads\\TexasRoads_filtered_strict_3857_nondupe_smaller_harris.gpkg\")\n",
    "roads_gdf = gpd.read_file(r\"C:\\Users\\fhacesga\\Downloads\\TexasRoads_filtered_strict_3857.gpkg\", engine='pyogrio', use_arrow=True)\n",
    "\n",
    "corner_dir = r\"D:\\RECTDNN\\processing\\2024-10-11_15-08-46\\street_corners\\exp4\\pickles\\\\\"\n",
    "\n",
    "output_dir = r\"D:\\RECTDNN\\processing\\2024-10-11_15-08-46\\registration\\\\\"\n",
    "\n",
    "descriptor_kwds = {\n",
    "    \"angle_step\"        : 5,\n",
    "    \"azimuth_radius\"    : 500\n",
    "}\n",
    "\n",
    "corners, _ = calcDescriptors(corners, **descriptor_kwds)"
   ]
  },
  {
   "cell_type": "code",
   "execution_count": 5,
   "metadata": {},
   "outputs": [],
   "source": [
    "with open(\"SmartDictV2.p\", 'rb') as f:\n",
    "    tile_coords = pickle.load(f)"
   ]
  },
  {
   "cell_type": "code",
   "execution_count": 18,
   "metadata": {},
   "outputs": [
    {
     "name": "stdout",
     "output_type": "stream",
     "text": [
      "210 / 210\n",
      "Could not find tile extension in detections 48201C0930 - J, using default 0\n"
     ]
    }
   ],
   "source": [
    "# r\"D:\\RECTDNN\\processing\\2024-10-11_15-08-46\\referencing\\48201C0930J.tif\"\n",
    "# tile_name = f\"48201C0660L\"\n",
    "tile_name = f\"48201C0930J\"\n",
    "\n",
    "with open(f\"{corner_dir}{tile_name}.pickle\", 'rb') as f:\n",
    "    x = pickle.load(f)    \n",
    "    corner_bbox = [a.bbox.to_xyxy() for a in x if a.score.value > 0.001]\n",
    "    corner_arry = np.array([calcCenter(a) for a in corner_bbox ]) * 2\n",
    "    print(f\"{len(corner_bbox)} / {len(x)}\")\n",
    "\n",
    "im_file    = r\"D:\\RECTDNN\\processing\\2024-10-11_15-08-46\\referencing\\\\\" + tile_name + \".tif\"\n",
    "him_file   = r\"D:\\RECTDNN\\processing\\2024-10-11_15-08-46\\half_size\\\\\" + tile_name + \".tif\"\n",
    "\n",
    "curr_tn = os.path.basename(im_file.split(\".\")[0])[:-1]\n",
    "curr_tf = os.path.basename(im_file.split(\".\")[0])[-1]\n",
    "\n",
    "ra = rio.open(im_file)\n",
    "bounds  = ra.bounds\n",
    "image   = ra.read(1)\n",
    "\n",
    "bounds, RLNN = findBounds(im_file, None)\n",
    "bbox = bounds[0].boxes.xyxy.numpy().astype(np.int32)[0].flatten()\n",
    "\n",
    "current_tile_coords = tile_coords.get(curr_tn, None)\n",
    "if current_tile_coords is None:\n",
    "    raise(Exception(f\"Could not find tile in detections {curr_tn}\"))\n",
    "\n",
    "current_tf_coords = current_tile_coords.get(curr_tf, None)\n",
    "if current_tf_coords is None:\n",
    "    # warnings.warn(f\"Could not find tile extension in detections {curr_tn} - {curr_tf}, using default\")\n",
    "    print(f\"Could not find tile extension in detections {curr_tn} - {curr_tf}, using default {list(current_tile_coords.keys())[0]}\")\n",
    "    curr_tf = list(current_tile_coords.keys())[0]\n",
    "    \n",
    "\n",
    "real_x, real_y = bbox_to_coords_realworld(tile_coords[curr_tn][curr_tf][\"coords\"][0])\n",
    "pic_x, pic_y   = bbox_to_coords_raster(bbox)\n",
    "\n",
    "affine = affineTransformation(pic_x, pic_y, real_x, real_y)\n",
    "\n",
    "# corner_arry = streetcorners[os.path.basename(tile).split(\".\")[0] + \".pickle\"] * 2# streetresults_struct[tile_coords[out_name]['input_file']]\n",
    "corner_arry = np.int32(corner_arry)                 # CONVERT TO INT32\n",
    "corner_arry = cleanCenterBBOX(corner_arry, bbox)\n",
    "\n",
    "# USE RASTER TRANSFORM TO GET REAL-WORLD ESTIMATES OF STREET CORNERS\n",
    "im_corner_gdf = pointsToGeodataFrame(ra, corner_arry[:, 1], corner_arry[:, 0])\n",
    "\n",
    "bounds_poly = enlarged_bounds(ra, n=2)\n",
    "\n",
    "corners_curr = gpd.clip(corners, bounds_poly)"
   ]
  },
  {
   "cell_type": "code",
   "execution_count": 32,
   "metadata": {},
   "outputs": [
    {
     "data": {
      "text/plain": [
       "{'coords': [array([-1.0593e+07,   3.471e+06, -1.0586e+07,  3.4631e+06]),\n",
       "  array([-1.0592e+07,  3.4713e+06, -1.0585e+07,  3.4635e+06])],\n",
       " 'indexes': ['48201CIND0.tif', '48201CIND0_1196.tif'],\n",
       " 'pix': [array([     7776.4,      6962.6,      8310.7,      7570.4]),\n",
       "  array([     7790.6,        6916,      8325.2,      7526.5])],\n",
       " 'dates': [datetime.datetime(2000, 4, 20, 0, 0),\n",
       "  datetime.datetime(1996, 11, 23, 0, 0)]}"
      ]
     },
     "execution_count": 32,
     "metadata": {},
     "output_type": "execute_result"
    }
   ],
   "source": [
    "tile_coords[curr_tn][curr_tf]"
   ]
  },
  {
   "cell_type": "code",
   "execution_count": 29,
   "metadata": {},
   "outputs": [],
   "source": [
    "\n",
    "def registerImagesV1(ra,im_corner_gdf, corners_curr, corner_arry, descriptor_kwds, r_initial=500, verbose=1, ):\n",
    "    compoundedAdjustment = np.eye(3)\n",
    "    flip=np.array([\n",
    "        [1, 0, 0],\n",
    "        [0, -1, 0],\n",
    "        [0, 0, 1]\n",
    "        ]) \n",
    "    \n",
    "\n",
    "    for i in range(20):\n",
    "        \n",
    "        r_current = r_initial * 0.9 ** i\n",
    "\n",
    "        if i == 0:\n",
    "            matching_results, im_corner_gdf, corners_curr = matching(im_corner_gdf, corners_curr, ratio_threshold=0.95, **descriptor_kwds)\n",
    "            matrix, distances = iterativeAdjustFromMatching(matching_results, corners_curr=corners_curr, im_corner_gdf=im_corner_gdf, plot=verbose>3)\n",
    "        else:\n",
    "            matching_results, _, _ = matching_distances(im_corner_gdf_adj, corners_curr, match_radius=r_current, **descriptor_kwds)\n",
    "            matrix, distances = iterativeAdjustFromMatching(matching_results, plot=verbose>3)\n",
    "\n",
    "        compoundedAdjustment = np.linalg.inv(matrix) @ compoundedAdjustment \n",
    "\n",
    "        rev_adj = compoundedAdjustment @ flip\n",
    "        current_adjustment = getMatrixFromAffine(ra.transform) @ flip @ rev_adj\n",
    "\n",
    "        reprojectedcorners = np.hstack((corner_arry, np.ones((corner_arry.shape[0], 1)))) @ current_adjustment.T\n",
    "\n",
    "        if verbose > 2:\n",
    "            plt.figure()\n",
    "            plt.scatter(reprojectedcorners[:, 0], reprojectedcorners[:, 1])\n",
    "            test = np.hstack((corner_arry, np.ones((corner_arry.shape[0], 1)))) @  getMatrixFromAffine(ra.transform).T\n",
    "            plt.scatter(test[:, 0], test[:, 1])\n",
    "            plt.show()\n",
    "\n",
    "        im_corner_gdf_adj = im_corner_gdf.copy()\n",
    "        im_corner_gdf_adj['geometry'] = gpd.points_from_xy(reprojectedcorners[:,0], reprojectedcorners[:, 1])\n",
    "        if verbose > 0:\n",
    "            print(np.nanpercentile(distances, [0, 25, 50, 75, 100]), len(matching_results))\n",
    "\n",
    "    return current_adjustment"
   ]
  },
  {
   "cell_type": "code",
   "execution_count": 31,
   "metadata": {},
   "outputs": [
    {
     "data": {
      "application/vnd.jupyter.widget-view+json": {
       "model_id": "964d4abb901542d58ab7f5cbf24e713a",
       "version_major": 2,
       "version_minor": 0
      },
      "text/plain": [
       "  0%|          | 0/200 [00:00<?, ?it/s]"
      ]
     },
     "metadata": {},
     "output_type": "display_data"
    },
    {
     "data": {
      "application/vnd.jupyter.widget-view+json": {
       "model_id": "342cd8fc255245dbbcaf71fbec1a94f2",
       "version_major": 2,
       "version_minor": 0
      },
      "text/plain": [
       "  0%|          | 0/200 [00:00<?, ?it/s]"
      ]
     },
     "metadata": {},
     "output_type": "display_data"
    },
    {
     "data": {
      "image/png": "[encoded data removed]",
      "text/plain": [
       "<Figure size 640x480 with 1 Axes>"
      ]
     },
     "metadata": {},
     "output_type": "display_data"
    },
    {
     "name": "stdout",
     "output_type": "stream",
     "text": [
      "[ 2.2152e-10  3.2534e-10       7.459      14.918      14.918] 90\n"
     ]
    },
    {
     "data": {
      "application/vnd.jupyter.widget-view+json": {
       "model_id": "a8fe94d3aa9b4fcba2839b48589cd371",
       "version_major": 2,
       "version_minor": 0
      },
      "text/plain": [
       "  0%|          | 0/200 [00:00<?, ?it/s]"
      ]
     },
     "metadata": {},
     "output_type": "display_data"
    },
    {
     "data": {
      "application/vnd.jupyter.widget-view+json": {
       "model_id": "2c4132ba8513481ebf8e7ae316acc2c1",
       "version_major": 2,
       "version_minor": 0
      },
      "text/plain": [
       "  0%|          | 0/4263 [00:00<?, ?it/s]"
      ]
     },
     "metadata": {},
     "output_type": "display_data"
    },
    {
     "ename": "IndexError",
     "evalue": "list index out of range",
     "output_type": "error",
     "traceback": [
      "\u001b[1;31m---------------------------------------------------------------------------\u001b[0m",
      "\u001b[1;31mIndexError\u001b[0m                                Traceback (most recent call last)",
      "Cell \u001b[1;32mIn[31], line 3\u001b[0m\n\u001b[0;32m      1\u001b[0m prev_transform \u001b[38;5;241m=\u001b[39m getMatrixFromAffine(ra\u001b[38;5;241m.\u001b[39mtransform)\n\u001b[1;32m----> 3\u001b[0m current_adjustment \u001b[38;5;241m=\u001b[39m \u001b[43mregisterImagesV1\u001b[49m\u001b[43m(\u001b[49m\u001b[43mra\u001b[49m\u001b[43m,\u001b[49m\u001b[43mim_corner_gdf\u001b[49m\u001b[43m,\u001b[49m\u001b[43m \u001b[49m\u001b[43mcorners_curr\u001b[49m\u001b[43m,\u001b[49m\u001b[43m \u001b[49m\u001b[43mcorner_arry\u001b[49m\u001b[43m,\u001b[49m\u001b[43m \u001b[49m\u001b[43mdescriptor_kwds\u001b[49m\u001b[43m,\u001b[49m\u001b[43m \u001b[49m\u001b[43mverbose\u001b[49m\u001b[38;5;241;43m=\u001b[39;49m\u001b[38;5;241;43m3\u001b[39;49m\u001b[43m)\u001b[49m\n\u001b[0;32m      5\u001b[0m \u001b[38;5;28mprint\u001b[39m(current_adjustment \u001b[38;5;241m-\u001b[39m prev_transform)\n\u001b[0;32m      7\u001b[0m \u001b[38;5;28;01mwith\u001b[39;00m rio\u001b[38;5;241m.\u001b[39mopen(\u001b[38;5;124mf\u001b[39m\u001b[38;5;124m\"\u001b[39m\u001b[38;5;132;01m{\u001b[39;00moutput_dir\u001b[38;5;132;01m}\u001b[39;00m\u001b[38;5;132;01m{\u001b[39;00mtile_name\u001b[38;5;132;01m}\u001b[39;00m\u001b[38;5;124m.tif\u001b[39m\u001b[38;5;124m\"\u001b[39m, \u001b[38;5;124m'\u001b[39m\u001b[38;5;124mw\u001b[39m\u001b[38;5;124m'\u001b[39m,\n\u001b[0;32m      8\u001b[0m                 driver\u001b[38;5;241m=\u001b[39m\u001b[38;5;124m'\u001b[39m\u001b[38;5;124mGTiff\u001b[39m\u001b[38;5;124m'\u001b[39m, count\u001b[38;5;241m=\u001b[39m\u001b[38;5;241m1\u001b[39m, dtype\u001b[38;5;241m=\u001b[39mnp\u001b[38;5;241m.\u001b[39muint8,\n\u001b[0;32m      9\u001b[0m                 height\u001b[38;5;241m=\u001b[39mimage\u001b[38;5;241m.\u001b[39mshape[\u001b[38;5;241m0\u001b[39m], width\u001b[38;5;241m=\u001b[39mimage\u001b[38;5;241m.\u001b[39mshape[\u001b[38;5;241m1\u001b[39m],\n\u001b[0;32m     10\u001b[0m                 crs\u001b[38;5;241m=\u001b[39m\u001b[38;5;124mf\u001b[39m\u001b[38;5;124m'\u001b[39m\u001b[38;5;124mEPSG:3857\u001b[39m\u001b[38;5;124m'\u001b[39m,\n\u001b[0;32m     11\u001b[0m                 transform\u001b[38;5;241m=\u001b[39mrio\u001b[38;5;241m.\u001b[39mAffine(\u001b[38;5;241m*\u001b[39mcurrent_adjustment\u001b[38;5;241m.\u001b[39mflatten()[:\u001b[38;5;241m6\u001b[39m])) \u001b[38;5;28;01mas\u001b[39;00m dst:\n",
      "Cell \u001b[1;32mIn[29], line 19\u001b[0m, in \u001b[0;36mregisterImagesV1\u001b[1;34m(ra, im_corner_gdf, corners_curr, corner_arry, descriptor_kwds, r_initial, verbose)\u001b[0m\n\u001b[0;32m     17\u001b[0m \u001b[38;5;28;01melse\u001b[39;00m:\n\u001b[0;32m     18\u001b[0m     matching_results, _, _ \u001b[38;5;241m=\u001b[39m matching_distances(im_corner_gdf_adj, corners_curr, match_radius\u001b[38;5;241m=\u001b[39mr_current, \u001b[38;5;241m*\u001b[39m\u001b[38;5;241m*\u001b[39mdescriptor_kwds)\n\u001b[1;32m---> 19\u001b[0m     matrix, distances \u001b[38;5;241m=\u001b[39m \u001b[43miterativeAdjustFromMatching\u001b[49m\u001b[43m(\u001b[49m\u001b[43mmatching_results\u001b[49m\u001b[43m,\u001b[49m\u001b[43m \u001b[49m\u001b[43mplot\u001b[49m\u001b[38;5;241;43m=\u001b[39;49m\u001b[43mverbose\u001b[49m\u001b[38;5;241;43m>\u001b[39;49m\u001b[38;5;241;43m3\u001b[39;49m\u001b[43m)\u001b[49m\n\u001b[0;32m     21\u001b[0m compoundedAdjustment \u001b[38;5;241m=\u001b[39m np\u001b[38;5;241m.\u001b[39mlinalg\u001b[38;5;241m.\u001b[39minv(matrix) \u001b[38;5;241m@\u001b[39m compoundedAdjustment \n\u001b[0;32m     23\u001b[0m rev_adj \u001b[38;5;241m=\u001b[39m compoundedAdjustment \u001b[38;5;241m@\u001b[39m flip\n",
      "File \u001b[1;32mc:\\Users\\fhacesga\\Desktop\\FIRMsDigitizing\\RECTDNN\\featurematching.py:349\u001b[0m, in \u001b[0;36miterativeAdjustFromMatching\u001b[1;34m(matchresults, corners_curr, idx, im_corner_gdf, plot)\u001b[0m\n\u001b[0;32m    346\u001b[0m \u001b[38;5;28;01mif\u001b[39;00m idx \u001b[38;5;129;01mis\u001b[39;00m \u001b[38;5;28;01mNone\u001b[39;00m:\n\u001b[0;32m    347\u001b[0m     idx \u001b[38;5;241m=\u001b[39m np\u001b[38;5;241m.\u001b[39marange(\u001b[38;5;28mlen\u001b[39m(matchresults), dtype\u001b[38;5;241m=\u001b[39mnp\u001b[38;5;241m.\u001b[39mint32)\n\u001b[1;32m--> 349\u001b[0m \u001b[38;5;28;01mif\u001b[39;00m \u001b[38;5;28mlen\u001b[39m(\u001b[43mmatchresults\u001b[49m\u001b[43m[\u001b[49m\u001b[38;5;241;43m0\u001b[39;49m\u001b[43m]\u001b[49m) \u001b[38;5;241m>\u001b[39m \u001b[38;5;241m4\u001b[39m:\n\u001b[0;32m    350\u001b[0m     fromPoints \u001b[38;5;241m=\u001b[39m gpd\u001b[38;5;241m.\u001b[39mGeoDataFrame(geometry\u001b[38;5;241m=\u001b[39mgpd\u001b[38;5;241m.\u001b[39mpoints_from_xy([x[\u001b[38;5;241m4\u001b[39m][\u001b[38;5;241m0\u001b[39m] \u001b[38;5;28;01mfor\u001b[39;00m x \u001b[38;5;129;01min\u001b[39;00m matchresults], [x[\u001b[38;5;241m4\u001b[39m][\u001b[38;5;241m1\u001b[39m] \u001b[38;5;28;01mfor\u001b[39;00m x \u001b[38;5;129;01min\u001b[39;00m matchresults]))\n\u001b[0;32m    351\u001b[0m     toPoints   \u001b[38;5;241m=\u001b[39m gpd\u001b[38;5;241m.\u001b[39mGeoDataFrame(geometry\u001b[38;5;241m=\u001b[39mgpd\u001b[38;5;241m.\u001b[39mpoints_from_xy([x[\u001b[38;5;241m5\u001b[39m][\u001b[38;5;241m0\u001b[39m] \u001b[38;5;28;01mfor\u001b[39;00m x \u001b[38;5;129;01min\u001b[39;00m matchresults], [x[\u001b[38;5;241m5\u001b[39m][\u001b[38;5;241m1\u001b[39m] \u001b[38;5;28;01mfor\u001b[39;00m x \u001b[38;5;129;01min\u001b[39;00m matchresults]))\n",
      "\u001b[1;31mIndexError\u001b[0m: list index out of range"
     ]
    }
   ],
   "source": [
    "\n",
    "prev_transform = getMatrixFromAffine(ra.transform)\n",
    "\n",
    "current_adjustment = registerImagesV1(ra,im_corner_gdf, corners_curr, corner_arry, descriptor_kwds, verbose=3)\n",
    "\n",
    "print(current_adjustment - prev_transform)\n",
    "\n",
    "with rio.open(f\"{output_dir}{tile_name}.tif\", 'w',\n",
    "                driver='GTiff', count=1, dtype=np.uint8,\n",
    "                height=image.shape[0], width=image.shape[1],\n",
    "                crs=f'EPSG:3857',\n",
    "                transform=rio.Affine(*current_adjustment.flatten()[:6])) as dst:\n",
    "                    dst.write(image, 1) "
   ]
  }
 ],
 "metadata": {
  "kernelspec": {
   "display_name": "Python 3",
   "language": "python",
   "name": "python3"
  },
  "language_info": {
   "codemirror_mode": {
    "name": "ipython",
    "version": 3
   },
   "file_extension": ".py",
   "mimetype": "text/x-python",
   "name": "python",
   "nbconvert_exporter": "python",
   "pygments_lexer": "ipython3",
   "version": "3.8.18"
  }
 },
 "nbformat": 4,
 "nbformat_minor": 2
}
