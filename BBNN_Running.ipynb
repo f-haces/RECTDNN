{
 "cells": [
  {
   "cell_type": "code",
   "execution_count": null,
   "metadata": {},
   "outputs": [],
   "source": [
    "# PYTHON IMPORTS\n",
    "import os, glob, zipfile, shutil\n",
    "from tqdm.notebook import tqdm\n",
    "from datetime import datetime\n",
    "\n",
    "# IMAGE IMPORTS \n",
    "from PIL import Image\n",
    "\n",
    "# DATA IMPORTS \n",
    "import numpy as np\n",
    "\n",
    "# NN IMPORTS \n",
    "import torch, ultralytics\n",
    "\n",
    "# PREFERENCES\n",
    "Image.MAX_IMAGE_PIXELS = 933120000"
   ]
  },
  {
   "cell_type": "code",
   "execution_count": 2,
   "metadata": {},
   "outputs": [],
   "source": [
    "model_weights = r\"C:\\Users\\fhacesga\\Downloads\\best (1).pt\"\n",
    "\n",
    "zip_folder    = r\"D:\\FloodChange\\AAA_HistoricalDownload\\ZIP\\\\\"\n",
    "input_folder  = r\"D:\\FloodChange\\AAA_HistoricalDownload\\Files\\\\\"\n",
    "\n",
    "\n",
    "output_folder = r\"D:\\FloodChange\\Outputs\\\\\"\n",
    "output_folder = f\"{output_folder}\\\\{datetime.now().strftime('%m-%d-%Y_%H-%M-%S')}\\\\\"\n",
    "index_folder  = f\"{output_folder}00_identifiedIndices\\\\\"\n",
    "infer_folder  = f\"{output_folder}01_infered\\\\\"\n",
    "\n",
    "os.makedirs(index_folder, exist_ok=True)\n",
    "os.makedirs(infer_folder,  exist_ok=True)"
   ]
  },
  {
   "cell_type": "markdown",
   "metadata": {},
   "source": [
    "Unzip all the files, and undo TIFF multi-paging"
   ]
  },
  {
   "cell_type": "code",
   "execution_count": 3,
   "metadata": {},
   "outputs": [],
   "source": [
    "def undoMultiPageTIFFs(input_folder):\n",
    "    '''\n",
    "    Some images are saved as Multi-page TIFF files. These need to be exported into individual images, which is what this function does\n",
    "    '''\n",
    "    for filename in tqdm(glob.glob(input_folder + \"\\\\*.tif*\")):\n",
    "        tiff_file = os.path.join(input_folder, filename)\n",
    "        try:\n",
    "        # Check if the file is a multi-page TIFF\n",
    "            with Image.open(tiff_file) as img:\n",
    "                if img.is_animated:    \n",
    "                    for i in range(img.n_frames):\n",
    "                        try:\n",
    "                            img.seek(i)\n",
    "                            output_filename = f\"{os.path.splitext(tiff_file)[0]}_{i+1}{os.path.splitext(tiff_file)[1]}\"\n",
    "                            img.save(output_filename, format=img.format)\n",
    "                        except:\n",
    "                            print(f\"Error with {tiff_file} page {i}\")\n",
    "                            continue\n",
    "        except:\n",
    "            print(f\"Error opening {tiff_file}\")\n",
    "            continue\n",
    "\n",
    "        os.remove(tiff_file)\n",
    "\n",
    "def unzip_all_zips(input_dir, output_dir):\n",
    "    # Create the output directory if it doesn't exist\n",
    "    if not os.path.exists(output_dir):\n",
    "        os.makedirs(output_dir)\n",
    "\n",
    "    # Iterate through all files in the input directory\n",
    "    for filename in os.listdir(input_dir):\n",
    "        if filename.endswith(\".zip\"):\n",
    "            zip_file_path = os.path.join(input_dir, filename)\n",
    "            # Open the ZIP file\n",
    "            with zipfile.ZipFile(zip_file_path, 'r') as zip_ref:\n",
    "                # Extract all contents to the output directory\n",
    "                zip_ref.extractall(output_dir)\n",
    "                print(f\"Contents of {zip_file_path} extracted to {output_dir}\")\n",
    "\n",
    "    \n",
    "\n",
    "if not os.path.exists(input_folder):\n",
    "    unzip_all_zips(zip_folder, input_folder)\n",
    "    undoMultiPageTIFFs(input_folder)"
   ]
  },
  {
   "cell_type": "markdown",
   "metadata": {},
   "source": [
    "Identify the TileIndices through known heuristics"
   ]
  },
  {
   "cell_type": "code",
   "execution_count": 1,
   "metadata": {},
   "outputs": [
    {
     "ename": "NameError",
     "evalue": "name 'glob' is not defined",
     "output_type": "error",
     "traceback": [
      "\u001b[1;31m---------------------------------------------------------------------------\u001b[0m",
      "\u001b[1;31mNameError\u001b[0m                                 Traceback (most recent call last)",
      "Cell \u001b[1;32mIn[1], line 2\u001b[0m\n\u001b[0;32m      1\u001b[0m patterns \u001b[38;5;241m=\u001b[39m [\u001b[38;5;124m\"\u001b[39m\u001b[38;5;124mIND\u001b[39m\u001b[38;5;124m\"\u001b[39m, \u001b[38;5;124m\"\u001b[39m\u001b[38;5;124m_1.\u001b[39m\u001b[38;5;124m\"\u001b[39m]\n\u001b[1;32m----> 2\u001b[0m index_files \u001b[38;5;241m=\u001b[39m [file \u001b[38;5;28;01mfor\u001b[39;00m pattern \u001b[38;5;129;01min\u001b[39;00m patterns \u001b[38;5;28;01mfor\u001b[39;00m file \u001b[38;5;129;01min\u001b[39;00m glob\u001b[38;5;241m.\u001b[39mglob(input_folder \u001b[38;5;241m+\u001b[39m \u001b[38;5;124m\"\u001b[39m\u001b[38;5;130;01m\\\\\u001b[39;00m\u001b[38;5;124m*\u001b[39m\u001b[38;5;124m\"\u001b[39m \u001b[38;5;241m+\u001b[39m pattern \u001b[38;5;241m+\u001b[39m \u001b[38;5;124m\"\u001b[39m\u001b[38;5;124m*\u001b[39m\u001b[38;5;124m\"\u001b[39m)]\n\u001b[0;32m      4\u001b[0m all_files \u001b[38;5;241m=\u001b[39m glob\u001b[38;5;241m.\u001b[39mglob(input_folder \u001b[38;5;241m+\u001b[39m \u001b[38;5;124m\"\u001b[39m\u001b[38;5;130;01m\\\\\u001b[39;00m\u001b[38;5;124m*\u001b[39m\u001b[38;5;124m\"\u001b[39m)\n\u001b[0;32m      5\u001b[0m tiles     \u001b[38;5;241m=\u001b[39m \u001b[38;5;28mset\u001b[39m(all_files) \u001b[38;5;241m-\u001b[39m \u001b[38;5;28mset\u001b[39m(index_files)\n",
      "Cell \u001b[1;32mIn[1], line 2\u001b[0m, in \u001b[0;36m<listcomp>\u001b[1;34m(.0)\u001b[0m\n\u001b[0;32m      1\u001b[0m patterns \u001b[38;5;241m=\u001b[39m [\u001b[38;5;124m\"\u001b[39m\u001b[38;5;124mIND\u001b[39m\u001b[38;5;124m\"\u001b[39m, \u001b[38;5;124m\"\u001b[39m\u001b[38;5;124m_1.\u001b[39m\u001b[38;5;124m\"\u001b[39m]\n\u001b[1;32m----> 2\u001b[0m index_files \u001b[38;5;241m=\u001b[39m [file \u001b[38;5;28;01mfor\u001b[39;00m pattern \u001b[38;5;129;01min\u001b[39;00m patterns \u001b[38;5;28;01mfor\u001b[39;00m file \u001b[38;5;129;01min\u001b[39;00m \u001b[43mglob\u001b[49m\u001b[38;5;241m.\u001b[39mglob(input_folder \u001b[38;5;241m+\u001b[39m \u001b[38;5;124m\"\u001b[39m\u001b[38;5;130;01m\\\\\u001b[39;00m\u001b[38;5;124m*\u001b[39m\u001b[38;5;124m\"\u001b[39m \u001b[38;5;241m+\u001b[39m pattern \u001b[38;5;241m+\u001b[39m \u001b[38;5;124m\"\u001b[39m\u001b[38;5;124m*\u001b[39m\u001b[38;5;124m\"\u001b[39m)]\n\u001b[0;32m      4\u001b[0m all_files \u001b[38;5;241m=\u001b[39m glob\u001b[38;5;241m.\u001b[39mglob(input_folder \u001b[38;5;241m+\u001b[39m \u001b[38;5;124m\"\u001b[39m\u001b[38;5;130;01m\\\\\u001b[39;00m\u001b[38;5;124m*\u001b[39m\u001b[38;5;124m\"\u001b[39m)\n\u001b[0;32m      5\u001b[0m tiles     \u001b[38;5;241m=\u001b[39m \u001b[38;5;28mset\u001b[39m(all_files) \u001b[38;5;241m-\u001b[39m \u001b[38;5;28mset\u001b[39m(index_files)\n",
      "\u001b[1;31mNameError\u001b[0m: name 'glob' is not defined"
     ]
    }
   ],
   "source": [
    "patterns = [\"IND\", \"_1.\"]\n",
    "index_tiles = [file for pattern in patterns for file in glob.glob(input_folder + \"\\\\*\" + pattern + \"*\")]\n",
    "\n",
    "for file in tqdm(index_tiles):\n",
    "    shutil.copy(file, os.path.join(index_folder, os.path.basename(file)))"
   ]
  },
  {
   "cell_type": "markdown",
   "metadata": {},
   "source": [
    "These are the parameters we define to run BBNN"
   ]
  },
  {
   "cell_type": "code",
   "execution_count": 5,
   "metadata": {},
   "outputs": [],
   "source": [
    "target_size = 1024\n",
    "original_shapes = []\n",
    "\n",
    "# COCO DATASET PARAMS\n",
    "category_labels = {\n",
    "    0 : \"County\",\n",
    "    1 : \"Tile\",\n",
    "    2 : \"Box\",\n",
    "    3 : \"Legend\"\n",
    "}\n",
    "\n",
    "categories=[0, 1]"
   ]
  },
  {
   "cell_type": "code",
   "execution_count": null,
   "metadata": {},
   "outputs": [],
   "source": []
  },
  {
   "cell_type": "code",
   "execution_count": 6,
   "metadata": {},
   "outputs": [
    {
     "data": {
      "application/vnd.jupyter.widget-view+json": {
       "model_id": "62715c615ca94d17a4d9547314b26519",
       "version_major": 2,
       "version_minor": 0
      },
      "text/plain": [
       "  0%|          | 0/26 [00:00<?, ?it/s]"
      ]
     },
     "metadata": {},
     "output_type": "display_data"
    }
   ],
   "source": [
    "model = ultralytics.YOLO(model_weights).to(\"cuda\")\n",
    "\n",
    "files = glob.glob(index_folder+\"\\\\*\")\n",
    "outputs = []\n",
    "batch_size = 5\n",
    "\n",
    "\n",
    "for i in tqdm(np.arange(0, len(files), batch_size)):\n",
    "    outputs.extend(model(files[i:i+batch_size], imgsz=(1920, 1920), verbose=False, conf=0.7))\n",
    "\n",
    "model = model.to(\"cpu\")\n",
    "torch.cuda.empty_cache()"
   ]
  },
  {
   "cell_type": "code",
   "execution_count": 7,
   "metadata": {},
   "outputs": [],
   "source": [
    "# Process results list\n",
    "for result in outputs:\n",
    "    fn = os.path.join(infer_folder, os.path.basename(result.path))\n",
    "    result.save(filename=os.path.join(infer_folder, os.path.basename(result.path)))"
   ]
  },
  {
   "cell_type": "code",
   "execution_count": 8,
   "metadata": {},
   "outputs": [],
   "source": [
    "if False:\n",
    "    indexes_to_copy = [\"480035A_1\", \"480036A_1\", \"480037A_1\", \"480038A_1\", \"480039_1\", \"480040A_1\", \"480041_1\", \"480041A_1\", \"480043_1\", \"480045IND0_0186\", \"480045IND0_0791\", \"480046_1\", \"480047A_1\", \"480049A_1\", \"480077_1\", \"480077A_1\", \"480243IND0_0583\", \"480269_1\", \"480287B_1\", \"480289_1\", \"480290A_1\", \"480293_1\", \"480293A_1\", \"480296A_1\", \"480297A_1\", \"480298A_1\", \"480303A_1\", \"480304_1\", \"480305A_1\", \"480307A_1\", \"480311A_1\", \"480424B_1\", \"480710_1\", \"481141_1\", \"485466B_1\", \"485468B_1\", \"485469B_1\", \"485470B_1\", \"485470IND0_1190\", \"485487C_1\", \"485491C_1\", \"485516_1\"]\n",
    "    copy_folder = r\"D:\\FloodChange\\Outputs\\redo\\\\\"\n",
    "\n",
    "    for i in indexes_to_copy:\n",
    "        fn = glob.glob(f'{input_folder}/{i}.*')[0]\n",
    "        shutil.copy(fn, os.path.join(copy_folder, os.path.basename(fn)))"
   ]
  }
 ],
 "metadata": {
  "kernelspec": {
   "display_name": "Python 3",
   "language": "python",
   "name": "python3"
  },
  "language_info": {
   "codemirror_mode": {
    "name": "ipython",
    "version": 3
   },
   "file_extension": ".py",
   "mimetype": "text/x-python",
   "name": "python",
   "nbconvert_exporter": "python",
   "pygments_lexer": "ipython3",
   "version": "3.8.18"
  }
 },
 "nbformat": 4,
 "nbformat_minor": 2
}
