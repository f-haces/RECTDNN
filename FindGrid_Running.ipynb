{
 "cells": [
  {
   "cell_type": "code",
   "execution_count": 1,
   "id": "6b80c117",
   "metadata": {},
   "outputs": [
    {
     "name": "stderr",
     "output_type": "stream",
     "text": [
      "C:\\Users\\fhacesga\\Anaconda3\\envs\\deeplearning\\lib\\site-packages\\fuzzywuzzy\\fuzz.py:11: UserWarning: Using slow pure-python SequenceMatcher. Install python-Levenshtein to remove this warning\n",
      "  warnings.warn('Using slow pure-python SequenceMatcher. Install python-Levenshtein to remove this warning')\n"
     ]
    }
   ],
   "source": [
    "# PYTHON IMPORTS\n",
    "import os, copy, math\n",
    "from tqdm.notebook import trange, tqdm\n",
    "\n",
    "# IMAGE IMPORTS \n",
    "from PIL import Image\n",
    "\n",
    "# DATA IMPORTS \n",
    "import random, h5py, glob\n",
    "import numpy as np\n",
    "\n",
    "# PLOTTING\n",
    "import matplotlib.pyplot as plt\n",
    "import matplotlib.cm as cm\n",
    "\n",
    "# SHAPES IMPORTS\n",
    "import shapely\n",
    "import geopandas as gpd\n",
    "from shapely.ops import unary_union\n",
    "from shapely.geometry import LineString, Polygon, Point\n",
    "\n",
    "# MY OWN CLASSES\n",
    "from FindGrid import *\n",
    "\n",
    "# OCR libraries\n",
    "import pytesseract\n",
    "from fuzzywuzzy import fuzz\n",
    "import re\n",
    "\n",
    "# INITIALIZE\n",
    "t_path = r'C:\\Users\\fhacesga\\AppData\\Local\\Programs\\Tesseract-OCR\\tesseract.exe'\n",
    "pytesseract.pytesseract.tesseract_cmd = t_path\n",
    "\n",
    "# PREFERENCES\n",
    "Image.MAX_IMAGE_PIXELS = 933120000"
   ]
  },
  {
   "cell_type": "code",
   "execution_count": 2,
   "id": "4ea11617",
   "metadata": {
    "scrolled": true
   },
   "outputs": [],
   "source": [
    "data_dir      = r\"C:\\Users\\fhacesga\\OneDrive - University Of Houston\\AAA_RECTDNN\\data/\"\n",
    "prep_folder   = f\"{data_dir}TileLocator/in_prepped_v2/\""
   ]
  },
  {
   "cell_type": "code",
   "execution_count": null,
   "id": "9764e544",
   "metadata": {
    "scrolled": false
   },
   "outputs": [
    {
     "name": "stderr",
     "output_type": "stream",
     "text": [
      "C:\\Users\\fhacesga\\Anaconda3\\envs\\deeplearning\\lib\\site-packages\\torchvision\\models\\_utils.py:209: UserWarning: The parameter 'pretrained' is deprecated since 0.13 and may be removed in the future, please use 'weights' instead.\n",
      "  f\"The parameter '{pretrained_param}' is deprecated since 0.13 and may be removed in the future, \"\n",
      "C:\\Users\\fhacesga\\Anaconda3\\envs\\deeplearning\\lib\\site-packages\\torchvision\\models\\_utils.py:223: UserWarning: Arguments other than a weight enum or `None` for 'weights' are deprecated since 0.13 and may be removed in the future. The current behavior is equivalent to passing `weights=ResNet34_Weights.IMAGENET1K_V1`. You can also use `weights=ResNet34_Weights.DEFAULT` to get the most up-to-date weights.\n",
      "  warnings.warn(msg)\n"
     ]
    },
    {
     "data": {
      "application/vnd.jupyter.widget-view+json": {
       "model_id": "d132ceb48996420bb9a3ab0b00121524",
       "version_major": 2,
       "version_minor": 0
      },
      "text/plain": [
       "  0%|          | 0/5 [00:00<?, ?it/s]"
      ]
     },
     "metadata": {},
     "output_type": "display_data"
    },
    {
     "name": "stderr",
     "output_type": "stream",
     "text": [
      "C:\\Users\\fhacesga\\Desktop\\FIRMsDigitizing\\RECTDNN\\TileLocator.py:93: UserWarning: Implicit dimension choice for softmax has been deprecated. Change the call to include dim=X as an argument.\n",
      "  output = self.softmax(output)\n",
      "C:\\Users\\fhacesga\\Desktop\\FIRMsDigitizing\\RECTDNN\\SquareLocator.py:94: UserWarning: Implicit dimension choice for softmax has been deprecated. Change the call to include dim=X as an argument.\n",
      "  output = self.softmax(output)\n",
      "C:\\Users\\fhacesga\\Desktop\\FIRMsDigitizing\\RECTDNN\\FindGrid.py:317: ShapelyDeprecationWarning: Iteration over multi-part geometries is deprecated and will be removed in Shapely 2.0. Use the `geoms` property to access the constituent parts of a multi-part geometry.\n",
      "  for linestring in linestrings:\n"
     ]
    },
    {
     "data": {
      "application/vnd.jupyter.widget-view+json": {
       "model_id": "3269247a94e644e6865fcb278464f7d0",
       "version_major": 2,
       "version_minor": 0
      },
      "text/plain": [
       "  0%|          | 0/262 [00:00<?, ?it/s]"
      ]
     },
     "metadata": {},
     "output_type": "display_data"
    },
    {
     "name": "stdout",
     "output_type": "stream",
     "text": [
      "(1, 35, 4)\n",
      "[[[ 1 -1 -1 -1]\n",
      "  [32  0  2 -1]\n",
      "  [ 3 -1 -1  1]\n",
      "  [ 4  2 -1  1]\n",
      "  [ 5  3 -1  1]\n",
      "  [ 6  4 -1  1]\n",
      "  [ 7  5 -1  1]\n",
      "  [ 8  6 -1  1]\n",
      "  [ 9  7 -1  1]\n",
      "  [10  8 -1  1]\n",
      "  [11  9 -1  1]\n",
      "  [12 10 -1  1]\n",
      "  [13 11 -1  1]\n",
      "  [14 12 -1  1]\n",
      "  [15 13 -1  1]\n",
      "  [16 14 -1  1]\n",
      "  [17 15 -1  1]\n",
      "  [18 16 -1  1]\n",
      "  [19 17 -1  1]\n",
      "  [20 18 -1  1]\n",
      "  [21 19 -1  1]\n",
      "  [22 20 -1  1]\n",
      "  [23 21 -1  1]\n",
      "  [24 22 -1  1]\n",
      "  [25 23 -1  1]\n",
      "  [26 24 -1  1]\n",
      "  [27 25 -1  1]\n",
      "  [28 26 -1  1]\n",
      "  [29 27 -1  1]\n",
      "  [30 28 -1  1]\n",
      "  [31 29 -1  1]\n",
      "  [-1 30 -1  1]\n",
      "  [33  1 -1 -1]\n",
      "  [34 32 -1 -1]\n",
      "  [-1 33 -1 -1]]]\n",
      "Highest Hierarchy: 1\n"
     ]
    },
    {
     "data": {
      "application/vnd.jupyter.widget-view+json": {
       "model_id": "c2d4c6ae89c04bb9b722217f714eaf58",
       "version_major": 2,
       "version_minor": 0
      },
      "text/plain": [
       "  0%|          | 0/35 [00:00<?, ?it/s]"
      ]
     },
     "metadata": {},
     "output_type": "display_data"
    }
   ],
   "source": [
    "# List all files in the directory\n",
    "for i, filename in enumerate(os.listdir(prep_folder)):\n",
    "    image_path = os.path.join(prep_folder, filename)\n",
    "    if image_path.lower().endswith(('.jpg', '.jpeg', '.png', '.gif', '.tif')):\n",
    "        \n",
    "        outdict = FindGrid(image_path)\n",
    "        if not outdict:\n",
    "            continue\n",
    "            \n",
    "        contour_dict = outdict.copy()\n",
    "        contours_shapely = {}\n",
    "        for i, (k, v) in enumerate(contour_dict.items()):\n",
    "            if isinstance(v, Polygon):\n",
    "                contours_shapely[k] = v.simplify(tolerance=10)\n",
    "                continue\n",
    "            contour_points = [tuple(point[0]) for point in v]\n",
    "            contours_shapely[k] = Polygon(contour_points).simplify(tolerance=10)\n",
    "        create_shapefile_from_dict(contours_shapely, f\"tempfiles/{i}_{filename[:-4]}.shp\")\n",
    "        "
   ]
  },
  {
   "cell_type": "code",
   "execution_count": null,
   "id": "91cd00c4",
   "metadata": {
    "scrolled": false
   },
   "outputs": [],
   "source": []
  },
  {
   "cell_type": "code",
   "execution_count": null,
   "id": "69ad012d",
   "metadata": {},
   "outputs": [],
   "source": [
    "outdict"
   ]
  }
 ],
 "metadata": {
  "kernelspec": {
   "display_name": "Python 3 (ipykernel)",
   "language": "python",
   "name": "python3"
  },
  "language_info": {
   "codemirror_mode": {
    "name": "ipython",
    "version": 3
   },
   "file_extension": ".py",
   "mimetype": "text/x-python",
   "name": "python",
   "nbconvert_exporter": "python",
   "pygments_lexer": "ipython3",
   "version": "3.7.16"
  }
 },
 "nbformat": 4,
 "nbformat_minor": 5
}
