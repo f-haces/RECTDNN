{
 "cells": [
  {
   "cell_type": "code",
   "execution_count": 1,
   "id": "af57e126",
   "metadata": {},
   "outputs": [],
   "source": [
    "import torch\n",
    "import torch.nn as nn\n",
    "import torch.optim as optim\n",
    "from torch.utils.data import DataLoader, Dataset\n",
    "from torchvision import transforms, datasets\n",
    "import os\n",
    "from PIL import Image\n",
    "import matplotlib.pyplot as plt\n",
    "import numpy as np\n",
    "from tqdm.notebook import trange, tqdm\n",
    "import copy\n",
    "from torchvision.transforms import Compose, RandomCrop, ToTensor, Normalize\n",
    "import random\n",
    "import matplotlib.cm as cm\n",
    "from torchvision.transforms import ToPILImage, GaussianBlur\n",
    "import h5py\n",
    "import torch.optim.lr_scheduler as lr_scheduler\n",
    "import torchvision.models as models\n",
    "\n",
    "from PIL import Image\n",
    "import matplotlib.pyplot as plt\n",
    "import cv2"
   ]
  },
  {
   "cell_type": "code",
   "execution_count": 2,
   "id": "48472881",
   "metadata": {},
   "outputs": [],
   "source": [
    "class CNN(nn.Module):\n",
    "    def __init__(self, in_channels=1, out_channels=2):\n",
    "        super().__init__()\n",
    "        \n",
    "        self.relu = nn.ReLU(inplace=True)\n",
    "        \n",
    "        self.conv1 = nn.Conv2d(in_channels, 32, kernel_size=7, padding=3)\n",
    "        self.conv2 = nn.Conv2d(32, 32, kernel_size=7, padding=3)\n",
    "        self.conv3 = nn.Conv2d(32, 64, kernel_size=7, padding=3)\n",
    "        self.conv4 = nn.Conv2d(64, 32, kernel_size=7, padding=3)\n",
    "        self.conv5 = nn.Conv2d(32, out_channels, kernel_size=7, padding=3)\n",
    "        \n",
    "    def forward(self, x):\n",
    "        x = self.conv1(x)\n",
    "        x = self.relu(x)\n",
    "        \n",
    "        x = self.conv2(x)\n",
    "        x = self.relu(x)\n",
    "        x = self.conv3(x)\n",
    "        x = self.relu(x)\n",
    "        x = self.conv4(x)\n",
    "        x = self.relu(x)\n",
    "        x = self.conv5(x)\n",
    "        return x\n",
    "    \n",
    "\n",
    "# U-Net with ResNet backbone\n",
    "class UNetResNet(nn.Module):\n",
    "    def __init__(self, num_classes):\n",
    "        super(UNetResNet, self).__init__()\n",
    "        \n",
    "        # ResNet backbone\n",
    "        self.resnet = models.resnet34(pretrained=True)\n",
    "        \n",
    "        # Adjust the first convolutional layer to accept single-channel input\n",
    "        self.resnet.conv1 = nn.Conv2d(1, 64, kernel_size=7, stride=2, padding=3, bias=False)\n",
    "        \n",
    "        # Encoder\n",
    "        self.encoder1 = nn.Sequential(\n",
    "            self.resnet.conv1,\n",
    "            self.resnet.bn1,\n",
    "            self.resnet.relu,\n",
    "            self.resnet.maxpool\n",
    "        )\n",
    "        self.encoder2 = self.resnet.layer1\n",
    "        self.encoder3 = self.resnet.layer2\n",
    "        self.encoder4 = self.resnet.layer3\n",
    "        self.encoder5 = self.resnet.layer4\n",
    "        \n",
    "        # Decoder\n",
    "        self.decoder4 = self._make_decoder_block(512, 256, 256)\n",
    "        self.decoder3 = self._make_decoder_block(512, 128, 128)\n",
    "        self.decoder2 = self._make_decoder_block(256, 64, 64)\n",
    "        self.decoder1 = self._make_decoder_block(128, 64, 64, s=4)\n",
    "        \n",
    "        # Final convolutional layer\n",
    "        self.final_conv = nn.Conv2d(64, num_classes, kernel_size=1)\n",
    "        \n",
    "    def _make_decoder_block(self, in_channels, mid_channels, out_channels, s=2):\n",
    "        return nn.Sequential(\n",
    "            nn.ConvTranspose2d(in_channels, mid_channels, kernel_size=2, stride=s),\n",
    "            nn.ReLU(inplace=True),\n",
    "            nn.Conv2d(mid_channels, out_channels, kernel_size=3, padding=1),\n",
    "            nn.ReLU(inplace=True)\n",
    "        )\n",
    "        \n",
    "    def forward(self, x):\n",
    "        # Encoder\n",
    "        enc1 = self.encoder1(x)\n",
    "        enc2 = self.encoder2(enc1)\n",
    "        enc3 = self.encoder3(enc2)\n",
    "        enc4 = self.encoder4(enc3)\n",
    "        enc5 = self.encoder5(enc4)\n",
    "        \n",
    "        \n",
    "        # Decoder with residual connections\n",
    "        dec4 = self.decoder4(enc5)\n",
    "        dec3 = self.decoder3(torch.cat([dec4, enc4], dim=1))\n",
    "        dec2 = self.decoder2(torch.cat([dec3, enc3], dim=1))\n",
    "        dec1 = self.decoder1(torch.cat([dec2, enc2], dim=1))\n",
    "        \n",
    "        # Final convolutional layer\n",
    "        output = self.final_conv(dec1)\n",
    "        \n",
    "        # Reshape output to match input dimensions\n",
    "        output = nn.functional.interpolate(output, size=x.shape[2:], mode='bilinear', align_corners=False)\n",
    "        \n",
    "        return output"
   ]
  },
  {
   "cell_type": "code",
   "execution_count": 3,
   "id": "011c962d",
   "metadata": {},
   "outputs": [],
   "source": [
    "# Define the input and output directories\n",
    "train_directory = r'data\\000_WorkingFiles\\CNNTrain\\train\\\\'\n",
    "val_directory = r'data\\000_WorkingFiles\\CNNTrain\\val\\\\'\n",
    "output_directory = r'data\\000_WorkingFiles\\CNNTrain\\out\\\\'"
   ]
  },
  {
   "cell_type": "code",
   "execution_count": 4,
   "id": "c6bfe575",
   "metadata": {},
   "outputs": [],
   "source": [
    "# Define the desired output size\n",
    "output_size = 1024\n",
    "\n",
    "# Define the transformations for data augmentation\n",
    "transform = transforms.Compose([\n",
    "    transforms.RandomCrop(output_size),\n",
    "    transforms.RandomRotation(10),\n",
    "    transforms.RandomHorizontalFlip(),\n",
    "    transforms.ToTensor()\n",
    "])\n",
    "\n",
    "# Create a custom dataset\n",
    "class MyDataset(Dataset):\n",
    "    def __init__(self, input_directory, output_directory, transform=None):\n",
    "        self.input_directory = input_directory\n",
    "        self.output_directory = output_directory\n",
    "        self.transform = transform\n",
    "        self.filenames = os.listdir(input_directory)\n",
    "\n",
    "    def __len__(self):\n",
    "        return len(self.filenames)\n",
    "\n",
    "    def __getitem__(self, index):\n",
    "        file_name = self.filenames[index]\n",
    "        input_image_path = os.path.join(self.input_directory, file_name)\n",
    "        output_image_path = os.path.join(self.output_directory, file_name)\n",
    "\n",
    "        input_image = Image.open(input_image_path)\n",
    "        output_image = Image.open(output_image_path)\n",
    "        \n",
    "        seed = np.random.randint(2147483647) \n",
    "        if self.transform is not None:\n",
    "            random.seed(seed)\n",
    "            torch.manual_seed(seed)\n",
    "            input_image = self.transform(input_image)\n",
    "            random.seed(seed)\n",
    "            torch.manual_seed(seed)\n",
    "            output_image = self.transform(output_image)\n",
    "          \n",
    "        input_image = input_image * 255\n",
    "        # input_image = np.dstack((input_image,input_image,input_image)) * 255\n",
    "        # input_image = np.swapaxes(input_image, 2, 0)\n",
    "        # input_image = np.swapaxes(input_image, 1, 2)\n",
    "        # output_image = output_image * 255\n",
    "\n",
    "        tf = np.where(output_image[1,:,:] > 0, 1, 0)\n",
    "        output_image = np.dstack((tf, 1-tf)).astype(np.uint8)\n",
    "        output_image = np.swapaxes(output_image, 2, 0)\n",
    "        output_image = np.swapaxes(output_image, 1, 2)\n",
    "        \n",
    "        \n",
    "        \n",
    "        return input_image, output_image, self.filenames\n",
    "\n",
    "# Create the output directory if it does not exist\n",
    "# os.makedirs(output_directory, exist_ok=True)\n",
    "\n",
    "# Create the dataset and data loader\n",
    "dataset = MyDataset(train_directory, output_directory, transform=transform)\n",
    "train_loader = DataLoader(dataset, batch_size=32, shuffle=True)\n",
    "\n",
    "dataset = MyDataset(val_directory, output_directory, transform=transform)\n",
    "val_loader = DataLoader(dataset, batch_size=32, shuffle=True)"
   ]
  },
  {
   "cell_type": "code",
   "execution_count": 5,
   "id": "a0de885c",
   "metadata": {},
   "outputs": [
    {
     "name": "stderr",
     "output_type": "stream",
     "text": [
      "C:\\Users\\fhacesga\\Anaconda3\\envs\\deeplearning\\lib\\site-packages\\PIL\\Image.py:3077: DecompressionBombWarning: Image size (151368000 pixels) exceeds limit of 89478485 pixels, could be decompression bomb DOS attack.\n",
      "  DecompressionBombWarning,\n"
     ]
    },
    {
     "data": {
      "image/png": "[encoded data removed]",
      "text/plain": [
       "<Figure size 640x480 with 1 Axes>"
      ]
     },
     "metadata": {},
     "output_type": "display_data"
    },
    {
     "name": "stdout",
     "output_type": "stream",
     "text": [
      "torch.Size([1, 1, 1024, 1024])\n",
      "torch.Size([1, 2, 1024, 1024])\n"
     ]
    },
    {
     "data": {
      "image/png": "[encoded data removed]",
      "text/plain": [
       "<Figure size 640x480 with 1 Axes>"
      ]
     },
     "metadata": {},
     "output_type": "display_data"
    },
    {
     "data": {
      "image/png": "[encoded data removed]",
      "text/plain": [
       "<Figure size 640x480 with 1 Axes>"
      ]
     },
     "metadata": {},
     "output_type": "display_data"
    }
   ],
   "source": [
    "\n",
    "for batch_input, batch_output, filenames in train_loader:\n",
    "    plt.imshow(batch_input[0, :, :, :].squeeze())\n",
    "    plt.show()\n",
    "    print(batch_input.shape)\n",
    "    print(batch_output.shape)\n",
    "    plt.imshow(batch_output[0,0,:,:])\n",
    "    plt.show()\n",
    "    plt.imshow(batch_output[0,1,:,:])"
   ]
  },
  {
   "cell_type": "code",
   "execution_count": 6,
   "id": "54f51d2e",
   "metadata": {},
   "outputs": [],
   "source": [
    "def train(model, dataloaders, num_epochs=20, \n",
    "          output_dir=r'data\\000_WorkingFiles\\CNNTrain\\intermediate_outputs', \n",
    "          learning_rate=5e-4,\n",
    "          continuefrom=\"checkpoint.pth\"):\n",
    "    device = torch.device(\"cuda:0\")\n",
    "    weights = torch.tensor([200, 1]).float().to(device)\n",
    "    # criterion = nn.MSELoss()\n",
    "    criterion = torch.nn.CrossEntropyLoss(weight=weights)\n",
    "    # criterion = MaskedCrossEntropy(device)\n",
    "    optimizer = optim.Adam(model.parameters(), lr=learning_rate)\n",
    "    learning_rate_scheduler = lr_scheduler.StepLR(optimizer, step_size=10, gamma=0.96)\n",
    "    \n",
    "    model = model.to(device)\n",
    "    # since = time.time()\n",
    "    val_acc_history = []\n",
    "\n",
    "    best_model_wts = copy.deepcopy(model.state_dict())\n",
    "    best_acc = 0.0\n",
    "    \n",
    "    if not os.path.exists(output_dir):\n",
    "        os.makedirs(output_dir)\n",
    "\n",
    "    for epoch in range(num_epochs):\n",
    "        print('Epoch {}/{}'.format(epoch+1, num_epochs))\n",
    "        print('-' * 10)\n",
    "        \n",
    "        for phase in ['train', 'val']: \n",
    "            if phase == 'train':\n",
    "                model.train()\n",
    "                repeats = range(32)\n",
    "            else:\n",
    "                model.eval()\n",
    "                repeats = range(2)\n",
    "\n",
    "            running_loss = 0.0\n",
    "            \n",
    "            outputs_folder = os.path.join(output_dir, phase)\n",
    "            if not os.path.exists(outputs_folder):\n",
    "                os.makedirs(outputs_folder)\n",
    "                \n",
    "            curr_loss = 0\n",
    "            \n",
    "            # Iterate over data.\n",
    "            for rep_id in tqdm(repeats):\n",
    "                for batch_input, batch_output, filenames in dataloaders[phase]:\n",
    "                    batch_input = batch_input.to(device)\n",
    "                    batch_output = batch_output.float().to(device)\n",
    "\n",
    "                    optimizer.zero_grad()\n",
    "                    outputs = model(batch_input)\n",
    "                    \n",
    "                    \n",
    "                    loss = criterion(outputs, batch_output)\n",
    "                    curr_loss = loss + curr_loss \n",
    "                    if rep_id % 4 == 0 and phase is 'train' and rep_id != 0:\n",
    "                        print(f\"{curr_loss:.4e} {curr_loss/4:.4e}\")\n",
    "                        curr_loss = 0\n",
    "                        \n",
    "                        \n",
    "                        for i in range(len(outputs)):\n",
    "                            filename = filenames[i]\n",
    "                            prob_img = np.squeeze(outputs.detach().cpu().numpy()[0, 0, :, :]).astype(np.uint8)\n",
    "                            #print(prob_img)\n",
    "                            prob_img = Image.fromarray(np.squeeze(prob_img))\n",
    "                            #plt.imshow(prob_img)\n",
    "                            #plt.show()\n",
    "                            prob_img.save(os.path.join(outputs_folder, f\"{rep_id}_{filename}.png\"))\n",
    "                        \n",
    "                    if phase == 'train':\n",
    "                        loss.backward()\n",
    "                        optimizer.step()\n",
    "                    else:\n",
    "                        for i in range(len(outputs)):\n",
    "                            filename = filenames[i]\n",
    "                            prob_img = np.squeeze(outputs.detach().cpu().numpy()[0, 0, :, :]).astype(np.uint8)\n",
    "                            #print(prob_img)\n",
    "                            prob_img = Image.fromarray(np.squeeze(prob_img))\n",
    "                            #plt.imshow(prob_img)\n",
    "                            #plt.show()\n",
    "                            prob_img.save(os.path.join(outputs_folder, f\"{rep_id}_{filename}.png\"))\n",
    "\n",
    "                    running_loss += loss.item() \n",
    "\n",
    "            epoch_loss = running_loss / len(dataloaders[phase].dataset)\n",
    "\n",
    "            print('{} Loss: {:.4f}'.format(phase, epoch_loss))\n",
    "\n",
    "            if phase == 'val' and epoch_loss < best_acc:\n",
    "                best_model_wts = copy.deepcopy(model.state_dict())\n",
    "        # Update the learning rate scheduler after each epoch\n",
    "        learning_rate_scheduler.step()\n",
    "        print(f\"Learning Rate: {optimizer.param_groups[0]['lr']}\")\n",
    "        # Save the model and optimizer states\n",
    "        if epoch % 10 == 0:\n",
    "            torch.save({\n",
    "                'epoch': epoch,\n",
    "                'model_state_dict': model.state_dict(),\n",
    "                'optimizer_state_dict': optimizer.state_dict(),\n",
    "                'loss': loss,\n",
    "            }, 'checkpoint.pth')\n",
    "            \n",
    "            torch.save(model, r\"preprocess.pth\")\n",
    "        \n",
    "    return model"
   ]
  },
  {
   "cell_type": "code",
   "execution_count": 7,
   "id": "6d72ef02",
   "metadata": {
    "scrolled": true
   },
   "outputs": [
    {
     "name": "stderr",
     "output_type": "stream",
     "text": [
      "C:\\Users\\fhacesga\\Anaconda3\\envs\\deeplearning\\lib\\site-packages\\torchvision\\models\\_utils.py:209: UserWarning: The parameter 'pretrained' is deprecated since 0.13 and may be removed in the future, please use 'weights' instead.\n",
      "  f\"The parameter '{pretrained_param}' is deprecated since 0.13 and may be removed in the future, \"\n",
      "C:\\Users\\fhacesga\\Anaconda3\\envs\\deeplearning\\lib\\site-packages\\torchvision\\models\\_utils.py:223: UserWarning: Arguments other than a weight enum or `None` for 'weights' are deprecated since 0.13 and may be removed in the future. The current behavior is equivalent to passing `weights=ResNet34_Weights.IMAGENET1K_V1`. You can also use `weights=ResNet34_Weights.DEFAULT` to get the most up-to-date weights.\n",
      "  warnings.warn(msg)\n"
     ]
    },
    {
     "name": "stdout",
     "output_type": "stream",
     "text": [
      "Epoch 1/1000\n",
      "----------\n"
     ]
    },
    {
     "data": {
      "application/vnd.jupyter.widget-view+json": {
       "model_id": "0e57aa9455a64d909c5b48afd7b41c2f",
       "version_major": 2,
       "version_minor": 0
      },
      "text/plain": [
       "  0%|          | 0/32 [00:00<?, ?it/s]"
      ]
     },
     "metadata": {},
     "output_type": "display_data"
    },
    {
     "name": "stdout",
     "output_type": "stream",
     "text": [
      "4.4224e+01 1.1056e+01\n",
      "2.6349e+01 6.5873e+00\n",
      "1.3801e+01 3.4503e+00\n",
      "1.1569e+01 2.8921e+00\n",
      "1.2787e+01 3.1967e+00\n",
      "2.1964e+01 5.4910e+00\n",
      "1.4425e+01 3.6062e+00\n",
      "train Loss: 156.6136\n"
     ]
    },
    {
     "data": {
      "application/vnd.jupyter.widget-view+json": {
       "model_id": "20dff5c49c3947d3a76ee2fd4bee0824",
       "version_major": 2,
       "version_minor": 0
      },
      "text/plain": [
       "  0%|          | 0/2 [00:00<?, ?it/s]"
      ]
     },
     "metadata": {},
     "output_type": "display_data"
    },
    {
     "name": "stderr",
     "output_type": "stream",
     "text": [
      "C:\\Users\\fhacesga\\Anaconda3\\envs\\deeplearning\\lib\\site-packages\\PIL\\Image.py:3077: DecompressionBombWarning: Image size (120780563 pixels) exceeds limit of 89478485 pixels, could be decompression bomb DOS attack.\n",
      "  DecompressionBombWarning,\n"
     ]
    },
    {
     "name": "stdout",
     "output_type": "stream",
     "text": [
      "val Loss: 7.1801\n",
      "Learning Rate: 0.001\n",
      "Epoch 2/1000\n",
      "----------\n"
     ]
    },
    {
     "data": {
      "application/vnd.jupyter.widget-view+json": {
       "model_id": "602a84f5cb7b41e0983f75705e38f08d",
       "version_major": 2,
       "version_minor": 0
      },
      "text/plain": [
       "  0%|          | 0/32 [00:00<?, ?it/s]"
      ]
     },
     "metadata": {},
     "output_type": "display_data"
    },
    {
     "name": "stdout",
     "output_type": "stream",
     "text": [
      "2.1104e+01 5.2759e+00\n",
      "1.3366e+01 3.3416e+00\n",
      "1.1180e+01 2.7951e+00\n",
      "1.5844e+01 3.9611e+00\n",
      "9.5390e+00 2.3847e+00\n",
      "1.1581e+01 2.8952e+00\n",
      "9.7393e+00 2.4348e+00\n",
      "train Loss: 100.3860\n"
     ]
    },
    {
     "data": {
      "application/vnd.jupyter.widget-view+json": {
       "model_id": "3b1a244c90dc4a9196cb49cf1faa11dc",
       "version_major": 2,
       "version_minor": 0
      },
      "text/plain": [
       "  0%|          | 0/2 [00:00<?, ?it/s]"
      ]
     },
     "metadata": {},
     "output_type": "display_data"
    },
    {
     "name": "stdout",
     "output_type": "stream",
     "text": [
      "val Loss: 9.5289\n",
      "Learning Rate: 0.001\n",
      "Epoch 3/1000\n",
      "----------\n"
     ]
    },
    {
     "data": {
      "application/vnd.jupyter.widget-view+json": {
       "model_id": "863df424ae9347daba1c50890f7965c6",
       "version_major": 2,
       "version_minor": 0
      },
      "text/plain": [
       "  0%|          | 0/32 [00:00<?, ?it/s]"
      ]
     },
     "metadata": {},
     "output_type": "display_data"
    },
    {
     "name": "stdout",
     "output_type": "stream",
     "text": [
      "1.3355e+01 3.3388e+00\n",
      "8.3616e+00 2.0904e+00\n",
      "1.1349e+01 2.8372e+00\n",
      "1.1188e+01 2.7970e+00\n",
      "7.9528e+00 1.9882e+00\n",
      "9.5376e+00 2.3844e+00\n",
      "1.0410e+01 2.6025e+00\n",
      "train Loss: 79.2732\n"
     ]
    },
    {
     "data": {
      "application/vnd.jupyter.widget-view+json": {
       "model_id": "f01331e088d1477d875f098ab0eaf3cf",
       "version_major": 2,
       "version_minor": 0
      },
      "text/plain": [
       "  0%|          | 0/2 [00:00<?, ?it/s]"
      ]
     },
     "metadata": {},
     "output_type": "display_data"
    },
    {
     "name": "stdout",
     "output_type": "stream",
     "text": [
      "val Loss: 8.4661\n",
      "Learning Rate: 0.001\n",
      "Epoch 4/1000\n",
      "----------\n"
     ]
    },
    {
     "data": {
      "application/vnd.jupyter.widget-view+json": {
       "model_id": "d4931bae66b647e2b4e86a49e717b111",
       "version_major": 2,
       "version_minor": 0
      },
      "text/plain": [
       "  0%|          | 0/32 [00:00<?, ?it/s]"
      ]
     },
     "metadata": {},
     "output_type": "display_data"
    },
    {
     "name": "stdout",
     "output_type": "stream",
     "text": [
      "1.5498e+01 3.8745e+00\n",
      "1.2125e+01 3.0313e+00\n",
      "1.0201e+01 2.5502e+00\n",
      "1.0124e+01 2.5310e+00\n",
      "1.1143e+01 2.7857e+00\n",
      "7.4049e+00 1.8512e+00\n",
      "8.3406e+00 2.0851e+00\n",
      "train Loss: 82.2290\n"
     ]
    },
    {
     "data": {
      "application/vnd.jupyter.widget-view+json": {
       "model_id": "25f4d13c2c4543d4b9db01d8a81da971",
       "version_major": 2,
       "version_minor": 0
      },
      "text/plain": [
       "  0%|          | 0/2 [00:00<?, ?it/s]"
      ]
     },
     "metadata": {},
     "output_type": "display_data"
    },
    {
     "name": "stdout",
     "output_type": "stream",
     "text": [
      "val Loss: 8.0350\n",
      "Learning Rate: 0.001\n",
      "Epoch 5/1000\n",
      "----------\n"
     ]
    },
    {
     "data": {
      "application/vnd.jupyter.widget-view+json": {
       "model_id": "c40057f1ce2b4b2d85d12fbe4b63ddf0",
       "version_major": 2,
       "version_minor": 0
      },
      "text/plain": [
       "  0%|          | 0/32 [00:00<?, ?it/s]"
      ]
     },
     "metadata": {},
     "output_type": "display_data"
    },
    {
     "name": "stdout",
     "output_type": "stream",
     "text": [
      "1.3036e+01 3.2589e+00\n",
      "8.0010e+00 2.0003e+00\n",
      "8.4945e+00 2.1236e+00\n",
      "1.0346e+01 2.5866e+00\n",
      "8.7152e+00 2.1788e+00\n",
      "7.0790e+00 1.7697e+00\n",
      "8.8099e+00 2.2025e+00\n",
      "train Loss: 69.2129\n"
     ]
    },
    {
     "data": {
      "application/vnd.jupyter.widget-view+json": {
       "model_id": "ab4ec32839e141f9ad6eb8a8c3110d50",
       "version_major": 2,
       "version_minor": 0
      },
      "text/plain": [
       "  0%|          | 0/2 [00:00<?, ?it/s]"
      ]
     },
     "metadata": {},
     "output_type": "display_data"
    },
    {
     "name": "stdout",
     "output_type": "stream",
     "text": [
      "val Loss: 3.1627\n",
      "Learning Rate: 0.001\n",
      "Epoch 6/1000\n",
      "----------\n"
     ]
    },
    {
     "data": {
      "application/vnd.jupyter.widget-view+json": {
       "model_id": "5a214039c62f4b5088228b3161f1e623",
       "version_major": 2,
       "version_minor": 0
      },
      "text/plain": [
       "  0%|          | 0/32 [00:00<?, ?it/s]"
      ]
     },
     "metadata": {},
     "output_type": "display_data"
    },
    {
     "name": "stdout",
     "output_type": "stream",
     "text": [
      "7.5169e+00 1.8792e+00\n",
      "9.4827e+00 2.3707e+00\n",
      "7.2864e+00 1.8216e+00\n",
      "1.0502e+01 2.6255e+00\n",
      "8.9245e+00 2.2311e+00\n",
      "1.0843e+01 2.7108e+00\n",
      "7.2312e+00 1.8078e+00\n",
      "train Loss: 67.0249\n"
     ]
    },
    {
     "data": {
      "application/vnd.jupyter.widget-view+json": {
       "model_id": "ffea4b5acc494ebfac9de1c2418c2fac",
       "version_major": 2,
       "version_minor": 0
      },
      "text/plain": [
       "  0%|          | 0/2 [00:00<?, ?it/s]"
      ]
     },
     "metadata": {},
     "output_type": "display_data"
    },
    {
     "name": "stdout",
     "output_type": "stream",
     "text": [
      "val Loss: 8.1246\n",
      "Learning Rate: 0.001\n",
      "Epoch 7/1000\n",
      "----------\n"
     ]
    },
    {
     "data": {
      "application/vnd.jupyter.widget-view+json": {
       "model_id": "367389a4de8c4affaae159bb996a985b",
       "version_major": 2,
       "version_minor": 0
      },
      "text/plain": [
       "  0%|          | 0/32 [00:00<?, ?it/s]"
      ]
     },
     "metadata": {},
     "output_type": "display_data"
    },
    {
     "name": "stdout",
     "output_type": "stream",
     "text": [
      "1.1761e+01 2.9403e+00\n",
      "8.4649e+00 2.1162e+00\n",
      "6.4183e+00 1.6046e+00\n",
      "7.0933e+00 1.7733e+00\n",
      "5.2458e+00 1.3114e+00\n",
      "6.6974e+00 1.6744e+00\n",
      "4.2272e+00 1.0568e+00\n",
      "train Loss: 60.9888\n"
     ]
    },
    {
     "data": {
      "application/vnd.jupyter.widget-view+json": {
       "model_id": "b838f29238354976b44b77d92bbeaa95",
       "version_major": 2,
       "version_minor": 0
      },
      "text/plain": [
       "  0%|          | 0/2 [00:00<?, ?it/s]"
      ]
     },
     "metadata": {},
     "output_type": "display_data"
    },
    {
     "name": "stdout",
     "output_type": "stream",
     "text": [
      "val Loss: 1.7186\n",
      "Learning Rate: 0.001\n",
      "Epoch 8/1000\n",
      "----------\n"
     ]
    },
    {
     "data": {
      "application/vnd.jupyter.widget-view+json": {
       "model_id": "3c3345c47b004953a3b0dd3e0fbd7d79",
       "version_major": 2,
       "version_minor": 0
      },
      "text/plain": [
       "  0%|          | 0/32 [00:00<?, ?it/s]"
      ]
     },
     "metadata": {},
     "output_type": "display_data"
    },
    {
     "name": "stdout",
     "output_type": "stream",
     "text": [
      "1.2271e+01 3.0678e+00\n",
      "9.2146e+00 2.3037e+00\n",
      "9.8381e+00 2.4595e+00\n",
      "8.7670e+00 2.1918e+00\n",
      "7.4020e+00 1.8505e+00\n",
      "7.4349e+00 1.8587e+00\n",
      "5.3840e+00 1.3460e+00\n",
      "train Loss: 68.4312\n"
     ]
    },
    {
     "data": {
      "application/vnd.jupyter.widget-view+json": {
       "model_id": "15d10f2a0d4f4fabb1c5b77291651c45",
       "version_major": 2,
       "version_minor": 0
      },
      "text/plain": [
       "  0%|          | 0/2 [00:00<?, ?it/s]"
      ]
     },
     "metadata": {},
     "output_type": "display_data"
    },
    {
     "name": "stdout",
     "output_type": "stream",
     "text": [
      "val Loss: 3.2856\n",
      "Learning Rate: 0.001\n",
      "Epoch 9/1000\n",
      "----------\n"
     ]
    },
    {
     "data": {
      "application/vnd.jupyter.widget-view+json": {
       "model_id": "ef711dcf28674b14ac4421c759610114",
       "version_major": 2,
       "version_minor": 0
      },
      "text/plain": [
       "  0%|          | 0/32 [00:00<?, ?it/s]"
      ]
     },
     "metadata": {},
     "output_type": "display_data"
    },
    {
     "name": "stdout",
     "output_type": "stream",
     "text": [
      "1.4488e+01 3.6221e+00\n",
      "8.7697e+00 2.1924e+00\n",
      "1.0195e+01 2.5488e+00\n",
      "7.3452e+00 1.8363e+00\n",
      "6.5292e+00 1.6323e+00\n",
      "5.1269e+00 1.2817e+00\n",
      "7.7551e+00 1.9388e+00\n",
      "train Loss: 63.8346\n"
     ]
    },
    {
     "data": {
      "application/vnd.jupyter.widget-view+json": {
       "model_id": "e1c7b44ae157463988ffa9059acda91a",
       "version_major": 2,
       "version_minor": 0
      },
      "text/plain": [
       "  0%|          | 0/2 [00:00<?, ?it/s]"
      ]
     },
     "metadata": {},
     "output_type": "display_data"
    },
    {
     "name": "stdout",
     "output_type": "stream",
     "text": [
      "val Loss: 1.5166\n",
      "Learning Rate: 0.001\n",
      "Epoch 10/1000\n",
      "----------\n"
     ]
    },
    {
     "data": {
      "application/vnd.jupyter.widget-view+json": {
       "model_id": "7dd353d3136043d08c1eaccf6936c880",
       "version_major": 2,
       "version_minor": 0
      },
      "text/plain": [
       "  0%|          | 0/32 [00:00<?, ?it/s]"
      ]
     },
     "metadata": {},
     "output_type": "display_data"
    },
    {
     "name": "stdout",
     "output_type": "stream",
     "text": [
      "8.5272e+00 2.1318e+00\n",
      "9.8504e+00 2.4626e+00\n",
      "5.8360e+00 1.4590e+00\n",
      "8.4206e+00 2.1052e+00\n",
      "8.2704e+00 2.0676e+00\n",
      "3.3274e+00 8.3184e-01\n",
      "8.1608e+00 2.0402e+00\n",
      "train Loss: 57.7444\n"
     ]
    },
    {
     "data": {
      "application/vnd.jupyter.widget-view+json": {
       "model_id": "a9f5ccb7b1e0482a93996b47caf197f0",
       "version_major": 2,
       "version_minor": 0
      },
      "text/plain": [
       "  0%|          | 0/2 [00:00<?, ?it/s]"
      ]
     },
     "metadata": {},
     "output_type": "display_data"
    },
    {
     "name": "stdout",
     "output_type": "stream",
     "text": [
      "val Loss: 3.6507\n",
      "Learning Rate: 0.00096\n",
      "Epoch 11/1000\n",
      "----------\n"
     ]
    },
    {
     "data": {
      "application/vnd.jupyter.widget-view+json": {
       "model_id": "5b7332a0196a45a6911e7879a8cc90fb",
       "version_major": 2,
       "version_minor": 0
      },
      "text/plain": [
       "  0%|          | 0/32 [00:00<?, ?it/s]"
      ]
     },
     "metadata": {},
     "output_type": "display_data"
    },
    {
     "name": "stdout",
     "output_type": "stream",
     "text": [
      "7.6288e+00 1.9072e+00\n",
      "1.1212e+01 2.8031e+00\n",
      "7.9425e+00 1.9856e+00\n",
      "9.6375e+00 2.4094e+00\n",
      "6.9284e+00 1.7321e+00\n",
      "6.4188e+00 1.6047e+00\n",
      "6.7067e+00 1.6767e+00\n",
      "train Loss: 61.8417\n"
     ]
    },
    {
     "data": {
      "application/vnd.jupyter.widget-view+json": {
       "model_id": "ccfdf605edec4f60a3c54601ca7fda93",
       "version_major": 2,
       "version_minor": 0
      },
      "text/plain": [
       "  0%|          | 0/2 [00:00<?, ?it/s]"
      ]
     },
     "metadata": {},
     "output_type": "display_data"
    },
    {
     "name": "stdout",
     "output_type": "stream",
     "text": [
      "val Loss: 7.4661\n",
      "Learning Rate: 0.00096\n",
      "Epoch 12/1000\n",
      "----------\n"
     ]
    },
    {
     "data": {
      "application/vnd.jupyter.widget-view+json": {
       "model_id": "c19b500ba1f74829a93b569c95cdcbf6",
       "version_major": 2,
       "version_minor": 0
      },
      "text/plain": [
       "  0%|          | 0/32 [00:00<?, ?it/s]"
      ]
     },
     "metadata": {},
     "output_type": "display_data"
    },
    {
     "name": "stdout",
     "output_type": "stream",
     "text": [
      "9.7844e+00 2.4461e+00\n",
      "3.9648e+00 9.9120e-01\n",
      "6.3300e+00 1.5825e+00\n",
      "5.7617e+00 1.4404e+00\n",
      "5.5866e+00 1.3966e+00\n",
      "1.0282e+01 2.5706e+00\n",
      "7.3507e+00 1.8377e+00\n",
      "train Loss: 55.9622\n"
     ]
    },
    {
     "data": {
      "application/vnd.jupyter.widget-view+json": {
       "model_id": "6cb02a49783f45ff8230a1f953dda193",
       "version_major": 2,
       "version_minor": 0
      },
      "text/plain": [
       "  0%|          | 0/2 [00:00<?, ?it/s]"
      ]
     },
     "metadata": {},
     "output_type": "display_data"
    },
    {
     "name": "stdout",
     "output_type": "stream",
     "text": [
      "val Loss: 4.4826\n",
      "Learning Rate: 0.00096\n",
      "Epoch 13/1000\n",
      "----------\n"
     ]
    },
    {
     "data": {
      "application/vnd.jupyter.widget-view+json": {
       "model_id": "bb76d068a2574111986a3caea8bb9d90",
       "version_major": 2,
       "version_minor": 0
      },
      "text/plain": [
       "  0%|          | 0/32 [00:00<?, ?it/s]"
      ]
     },
     "metadata": {},
     "output_type": "display_data"
    },
    {
     "name": "stdout",
     "output_type": "stream",
     "text": [
      "8.7719e+00 2.1930e+00\n",
      "4.1565e+00 1.0391e+00\n",
      "5.4210e+00 1.3552e+00\n",
      "5.4148e+00 1.3537e+00\n",
      "7.6592e+00 1.9148e+00\n",
      "8.0175e+00 2.0044e+00\n",
      "9.0898e+00 2.2724e+00\n",
      "train Loss: 53.8900\n"
     ]
    },
    {
     "data": {
      "application/vnd.jupyter.widget-view+json": {
       "model_id": "e9ed92c3317844dd840d588d9f0e0e1f",
       "version_major": 2,
       "version_minor": 0
      },
      "text/plain": [
       "  0%|          | 0/2 [00:00<?, ?it/s]"
      ]
     },
     "metadata": {},
     "output_type": "display_data"
    },
    {
     "name": "stdout",
     "output_type": "stream",
     "text": [
      "val Loss: 11.2457\n",
      "Learning Rate: 0.00096\n",
      "Epoch 14/1000\n",
      "----------\n"
     ]
    },
    {
     "data": {
      "application/vnd.jupyter.widget-view+json": {
       "model_id": "31384e70479540b2995ee1f0a89caf06",
       "version_major": 2,
       "version_minor": 0
      },
      "text/plain": [
       "  0%|          | 0/32 [00:00<?, ?it/s]"
      ]
     },
     "metadata": {},
     "output_type": "display_data"
    },
    {
     "name": "stdout",
     "output_type": "stream",
     "text": [
      "1.0171e+01 2.5428e+00\n",
      "7.6363e+00 1.9091e+00\n",
      "5.4697e+00 1.3674e+00\n",
      "6.0159e+00 1.5040e+00\n",
      "6.2304e+00 1.5576e+00\n",
      "3.8824e+00 9.7061e-01\n",
      "6.1831e+00 1.5458e+00\n",
      "train Loss: 49.9804\n"
     ]
    },
    {
     "data": {
      "application/vnd.jupyter.widget-view+json": {
       "model_id": "ba2ae0a53e4242deb2783a253a2fa2f2",
       "version_major": 2,
       "version_minor": 0
      },
      "text/plain": [
       "  0%|          | 0/2 [00:00<?, ?it/s]"
      ]
     },
     "metadata": {},
     "output_type": "display_data"
    },
    {
     "name": "stdout",
     "output_type": "stream",
     "text": [
      "val Loss: 6.9861\n",
      "Learning Rate: 0.00096\n",
      "Epoch 15/1000\n",
      "----------\n"
     ]
    },
    {
     "data": {
      "application/vnd.jupyter.widget-view+json": {
       "model_id": "609b678335d84c4bb9bcc454a3498b84",
       "version_major": 2,
       "version_minor": 0
      },
      "text/plain": [
       "  0%|          | 0/32 [00:00<?, ?it/s]"
      ]
     },
     "metadata": {},
     "output_type": "display_data"
    },
    {
     "name": "stdout",
     "output_type": "stream",
     "text": [
      "8.4305e+00 2.1076e+00\n",
      "7.3215e+00 1.8304e+00\n",
      "8.1242e+00 2.0311e+00\n",
      "5.2716e+00 1.3179e+00\n",
      "6.0756e+00 1.5189e+00\n",
      "5.2024e+00 1.3006e+00\n",
      "6.7003e+00 1.6751e+00\n",
      "train Loss: 52.4700\n"
     ]
    },
    {
     "data": {
      "application/vnd.jupyter.widget-view+json": {
       "model_id": "2ed23978959f4e18aeb9d3fe5bb4d089",
       "version_major": 2,
       "version_minor": 0
      },
      "text/plain": [
       "  0%|          | 0/2 [00:00<?, ?it/s]"
      ]
     },
     "metadata": {},
     "output_type": "display_data"
    },
    {
     "name": "stdout",
     "output_type": "stream",
     "text": [
      "val Loss: 0.9879\n",
      "Learning Rate: 0.00096\n",
      "Epoch 16/1000\n",
      "----------\n"
     ]
    },
    {
     "data": {
      "application/vnd.jupyter.widget-view+json": {
       "model_id": "9f39c1727816497496af1aa75d0e085b",
       "version_major": 2,
       "version_minor": 0
      },
      "text/plain": [
       "  0%|          | 0/32 [00:00<?, ?it/s]"
      ]
     },
     "metadata": {},
     "output_type": "display_data"
    },
    {
     "name": "stdout",
     "output_type": "stream",
     "text": [
      "7.3035e+00 1.8259e+00\n",
      "3.4054e+00 8.5135e-01\n",
      "4.5701e+00 1.1425e+00\n",
      "7.9166e+00 1.9791e+00\n",
      "4.8013e+00 1.2003e+00\n",
      "6.3613e+00 1.5903e+00\n",
      "3.2453e+00 8.1133e-01\n",
      "train Loss: 41.4877\n"
     ]
    },
    {
     "data": {
      "application/vnd.jupyter.widget-view+json": {
       "model_id": "457177753245472e928c469069730e94",
       "version_major": 2,
       "version_minor": 0
      },
      "text/plain": [
       "  0%|          | 0/2 [00:00<?, ?it/s]"
      ]
     },
     "metadata": {},
     "output_type": "display_data"
    },
    {
     "name": "stdout",
     "output_type": "stream",
     "text": [
      "val Loss: 2.3324\n",
      "Learning Rate: 0.00096\n",
      "Epoch 17/1000\n",
      "----------\n"
     ]
    },
    {
     "data": {
      "application/vnd.jupyter.widget-view+json": {
       "model_id": "f08c3c3fb64e4996b4b607607d5b6399",
       "version_major": 2,
       "version_minor": 0
      },
      "text/plain": [
       "  0%|          | 0/32 [00:00<?, ?it/s]"
      ]
     },
     "metadata": {},
     "output_type": "display_data"
    },
    {
     "name": "stdout",
     "output_type": "stream",
     "text": [
      "9.0965e+00 2.2741e+00\n",
      "8.2744e+00 2.0686e+00\n",
      "5.3113e+00 1.3278e+00\n",
      "6.9866e+00 1.7466e+00\n",
      "3.6896e+00 9.2239e-01\n",
      "1.0914e+01 2.7284e+00\n",
      "5.2002e+00 1.3001e+00\n",
      "train Loss: 55.0090\n"
     ]
    },
    {
     "data": {
      "application/vnd.jupyter.widget-view+json": {
       "model_id": "f253fa09c2484527b983e7392f94620a",
       "version_major": 2,
       "version_minor": 0
      },
      "text/plain": [
       "  0%|          | 0/2 [00:00<?, ?it/s]"
      ]
     },
     "metadata": {},
     "output_type": "display_data"
    },
    {
     "name": "stdout",
     "output_type": "stream",
     "text": [
      "val Loss: 1.3642\n",
      "Learning Rate: 0.00096\n",
      "Epoch 18/1000\n",
      "----------\n"
     ]
    },
    {
     "data": {
      "application/vnd.jupyter.widget-view+json": {
       "model_id": "20658ef1920041f3915c5c60a1ed3f0a",
       "version_major": 2,
       "version_minor": 0
      },
      "text/plain": [
       "  0%|          | 0/32 [00:00<?, ?it/s]"
      ]
     },
     "metadata": {},
     "output_type": "display_data"
    },
    {
     "name": "stdout",
     "output_type": "stream",
     "text": [
      "6.9497e+00 1.7374e+00\n",
      "3.8149e+00 9.5373e-01\n",
      "6.2002e+00 1.5500e+00\n",
      "7.1206e+00 1.7801e+00\n",
      "4.0487e+00 1.0122e+00\n",
      "1.1566e+01 2.8916e+00\n",
      "6.4506e+00 1.6126e+00\n",
      "train Loss: 51.9744\n"
     ]
    },
    {
     "data": {
      "application/vnd.jupyter.widget-view+json": {
       "model_id": "332f29347b0749be98517fa53eadc370",
       "version_major": 2,
       "version_minor": 0
      },
      "text/plain": [
       "  0%|          | 0/2 [00:00<?, ?it/s]"
      ]
     },
     "metadata": {},
     "output_type": "display_data"
    },
    {
     "name": "stdout",
     "output_type": "stream",
     "text": [
      "val Loss: 4.8076\n",
      "Learning Rate: 0.00096\n",
      "Epoch 19/1000\n",
      "----------\n"
     ]
    },
    {
     "data": {
      "application/vnd.jupyter.widget-view+json": {
       "model_id": "7466ba9c69e94aa9af131e949bbb4107",
       "version_major": 2,
       "version_minor": 0
      },
      "text/plain": [
       "  0%|          | 0/32 [00:00<?, ?it/s]"
      ]
     },
     "metadata": {},
     "output_type": "display_data"
    },
    {
     "name": "stdout",
     "output_type": "stream",
     "text": [
      "5.9617e+00 1.4904e+00\n",
      "6.2776e+00 1.5694e+00\n",
      "8.2725e+00 2.0681e+00\n",
      "4.1972e+00 1.0493e+00\n",
      "9.2831e+00 2.3208e+00\n",
      "7.5157e+00 1.8789e+00\n",
      "3.9525e+00 9.8813e-01\n",
      "train Loss: 48.5138\n"
     ]
    },
    {
     "data": {
      "application/vnd.jupyter.widget-view+json": {
       "model_id": "2fb7b40d43954249856387e26bb7d306",
       "version_major": 2,
       "version_minor": 0
      },
      "text/plain": [
       "  0%|          | 0/2 [00:00<?, ?it/s]"
      ]
     },
     "metadata": {},
     "output_type": "display_data"
    },
    {
     "name": "stdout",
     "output_type": "stream",
     "text": [
      "val Loss: 0.8137\n",
      "Learning Rate: 0.00096\n",
      "Epoch 20/1000\n",
      "----------\n"
     ]
    },
    {
     "data": {
      "application/vnd.jupyter.widget-view+json": {
       "model_id": "f717f8597ea44854b0235671720bbdbf",
       "version_major": 2,
       "version_minor": 0
      },
      "text/plain": [
       "  0%|          | 0/32 [00:00<?, ?it/s]"
      ]
     },
     "metadata": {},
     "output_type": "display_data"
    },
    {
     "name": "stdout",
     "output_type": "stream",
     "text": [
      "7.1986e+00 1.7997e+00\n",
      "4.1361e+00 1.0340e+00\n",
      "5.9610e+00 1.4903e+00\n",
      "5.0761e+00 1.2690e+00\n",
      "6.0779e+00 1.5195e+00\n",
      "8.6797e+00 2.1699e+00\n",
      "5.3143e+00 1.3286e+00\n",
      "train Loss: 46.9317\n"
     ]
    },
    {
     "data": {
      "application/vnd.jupyter.widget-view+json": {
       "model_id": "b4377be1d65a421bae569f64083ec587",
       "version_major": 2,
       "version_minor": 0
      },
      "text/plain": [
       "  0%|          | 0/2 [00:00<?, ?it/s]"
      ]
     },
     "metadata": {},
     "output_type": "display_data"
    },
    {
     "name": "stdout",
     "output_type": "stream",
     "text": [
      "val Loss: 3.0100\n",
      "Learning Rate: 0.0009216\n",
      "Epoch 21/1000\n",
      "----------\n"
     ]
    },
    {
     "data": {
      "application/vnd.jupyter.widget-view+json": {
       "model_id": "6f4195798b8c4c34b06398719ee8cd5e",
       "version_major": 2,
       "version_minor": 0
      },
      "text/plain": [
       "  0%|          | 0/32 [00:00<?, ?it/s]"
      ]
     },
     "metadata": {},
     "output_type": "display_data"
    },
    {
     "name": "stdout",
     "output_type": "stream",
     "text": [
      "8.6026e+00 2.1507e+00\n",
      "1.4712e+00 3.6781e-01\n",
      "3.9010e+00 9.7525e-01\n",
      "6.8261e+00 1.7065e+00\n",
      "4.7588e+00 1.1897e+00\n",
      "7.0328e+00 1.7582e+00\n",
      "3.4020e+00 8.5049e-01\n",
      "train Loss: 41.0218\n"
     ]
    },
    {
     "data": {
      "application/vnd.jupyter.widget-view+json": {
       "model_id": "9792339427464035b5af7cc51f6ffd30",
       "version_major": 2,
       "version_minor": 0
      },
      "text/plain": [
       "  0%|          | 0/2 [00:00<?, ?it/s]"
      ]
     },
     "metadata": {},
     "output_type": "display_data"
    },
    {
     "name": "stdout",
     "output_type": "stream",
     "text": [
      "val Loss: 4.6081\n",
      "Learning Rate: 0.0009216\n",
      "Epoch 22/1000\n",
      "----------\n"
     ]
    },
    {
     "data": {
      "application/vnd.jupyter.widget-view+json": {
       "model_id": "c56e923ba97142b19a85e951e54fda7b",
       "version_major": 2,
       "version_minor": 0
      },
      "text/plain": [
       "  0%|          | 0/32 [00:00<?, ?it/s]"
      ]
     },
     "metadata": {},
     "output_type": "display_data"
    },
    {
     "name": "stdout",
     "output_type": "stream",
     "text": [
      "8.6015e+00 2.1504e+00\n",
      "5.7559e+00 1.4390e+00\n",
      "3.3895e+00 8.4738e-01\n",
      "6.0109e+00 1.5027e+00\n",
      "2.6037e+00 6.5092e-01\n",
      "3.4008e+00 8.5021e-01\n",
      "9.7251e+00 2.4313e+00\n",
      "train Loss: 42.5894\n"
     ]
    },
    {
     "data": {
      "application/vnd.jupyter.widget-view+json": {
       "model_id": "61b2e47a551b4ac0be1c589d389ad07e",
       "version_major": 2,
       "version_minor": 0
      },
      "text/plain": [
       "  0%|          | 0/2 [00:00<?, ?it/s]"
      ]
     },
     "metadata": {},
     "output_type": "display_data"
    },
    {
     "name": "stdout",
     "output_type": "stream",
     "text": [
      "val Loss: 2.4474\n",
      "Learning Rate: 0.0009216\n",
      "Epoch 23/1000\n",
      "----------\n"
     ]
    },
    {
     "data": {
      "application/vnd.jupyter.widget-view+json": {
       "model_id": "870c561f858d437eb9aa2f823f0678db",
       "version_major": 2,
       "version_minor": 0
      },
      "text/plain": [
       "  0%|          | 0/32 [00:00<?, ?it/s]"
      ]
     },
     "metadata": {},
     "output_type": "display_data"
    },
    {
     "name": "stdout",
     "output_type": "stream",
     "text": [
      "4.8281e+00 1.2070e+00\n",
      "7.6877e+00 1.9219e+00\n",
      "7.3145e+00 1.8286e+00\n",
      "4.9672e+00 1.2418e+00\n",
      "5.4089e+00 1.3522e+00\n",
      "5.8722e+00 1.4681e+00\n",
      "5.0628e+00 1.2657e+00\n",
      "train Loss: 46.3139\n"
     ]
    },
    {
     "data": {
      "application/vnd.jupyter.widget-view+json": {
       "model_id": "c3901a92a29e411f8ba57118219e767e",
       "version_major": 2,
       "version_minor": 0
      },
      "text/plain": [
       "  0%|          | 0/2 [00:00<?, ?it/s]"
      ]
     },
     "metadata": {},
     "output_type": "display_data"
    },
    {
     "name": "stdout",
     "output_type": "stream",
     "text": [
      "val Loss: 2.6923\n",
      "Learning Rate: 0.0009216\n",
      "Epoch 24/1000\n",
      "----------\n"
     ]
    },
    {
     "data": {
      "application/vnd.jupyter.widget-view+json": {
       "model_id": "2c46a68abab041c4962c6efb05c98c0a",
       "version_major": 2,
       "version_minor": 0
      },
      "text/plain": [
       "  0%|          | 0/32 [00:00<?, ?it/s]"
      ]
     },
     "metadata": {},
     "output_type": "display_data"
    },
    {
     "name": "stdout",
     "output_type": "stream",
     "text": [
      "6.5010e+00 1.6253e+00\n",
      "2.5062e+00 6.2654e-01\n",
      "1.2702e+01 3.1755e+00\n",
      "7.6971e+00 1.9243e+00\n",
      "7.8761e+00 1.9690e+00\n",
      "9.7242e+00 2.4310e+00\n",
      "8.3749e+00 2.0937e+00\n",
      "train Loss: 60.5270\n"
     ]
    },
    {
     "data": {
      "application/vnd.jupyter.widget-view+json": {
       "model_id": "e16160ffe86a4c809a5a2c73812871f6",
       "version_major": 2,
       "version_minor": 0
      },
      "text/plain": [
       "  0%|          | 0/2 [00:00<?, ?it/s]"
      ]
     },
     "metadata": {},
     "output_type": "display_data"
    },
    {
     "name": "stdout",
     "output_type": "stream",
     "text": [
      "val Loss: 2.4308\n",
      "Learning Rate: 0.0009216\n",
      "Epoch 25/1000\n",
      "----------\n"
     ]
    },
    {
     "data": {
      "application/vnd.jupyter.widget-view+json": {
       "model_id": "139ffebbf0954a07a7b919eb329fef51",
       "version_major": 2,
       "version_minor": 0
      },
      "text/plain": [
       "  0%|          | 0/32 [00:00<?, ?it/s]"
      ]
     },
     "metadata": {},
     "output_type": "display_data"
    },
    {
     "name": "stdout",
     "output_type": "stream",
     "text": [
      "8.7045e+00 2.1761e+00\n",
      "7.8998e+00 1.9750e+00\n",
      "7.4077e+00 1.8519e+00\n",
      "5.1800e+00 1.2950e+00\n",
      "5.5419e+00 1.3855e+00\n",
      "5.2474e+00 1.3118e+00\n",
      "6.0857e+00 1.5214e+00\n",
      "train Loss: 52.9007\n"
     ]
    },
    {
     "data": {
      "application/vnd.jupyter.widget-view+json": {
       "model_id": "6d0f54baf5b24086bab08cb1e58f85c2",
       "version_major": 2,
       "version_minor": 0
      },
      "text/plain": [
       "  0%|          | 0/2 [00:00<?, ?it/s]"
      ]
     },
     "metadata": {},
     "output_type": "display_data"
    },
    {
     "name": "stdout",
     "output_type": "stream",
     "text": [
      "val Loss: 3.1482\n",
      "Learning Rate: 0.0009216\n",
      "Epoch 26/1000\n",
      "----------\n"
     ]
    },
    {
     "data": {
      "application/vnd.jupyter.widget-view+json": {
       "model_id": "e4090520705e408bb82c434dc030d205",
       "version_major": 2,
       "version_minor": 0
      },
      "text/plain": [
       "  0%|          | 0/32 [00:00<?, ?it/s]"
      ]
     },
     "metadata": {},
     "output_type": "display_data"
    },
    {
     "name": "stdout",
     "output_type": "stream",
     "text": [
      "7.4842e+00 1.8710e+00\n",
      "7.7908e+00 1.9477e+00\n",
      "5.9459e+00 1.4865e+00\n",
      "6.9413e+00 1.7353e+00\n",
      "4.2444e+00 1.0611e+00\n",
      "8.6553e+00 2.1638e+00\n",
      "8.0787e+00 2.0197e+00\n",
      "train Loss: 51.1364\n"
     ]
    },
    {
     "data": {
      "application/vnd.jupyter.widget-view+json": {
       "model_id": "986d6299534b43d9bbd96b06c72c26e6",
       "version_major": 2,
       "version_minor": 0
      },
      "text/plain": [
       "  0%|          | 0/2 [00:00<?, ?it/s]"
      ]
     },
     "metadata": {},
     "output_type": "display_data"
    },
    {
     "name": "stdout",
     "output_type": "stream",
     "text": [
      "val Loss: 1.9330\n",
      "Learning Rate: 0.0009216\n",
      "Epoch 27/1000\n",
      "----------\n"
     ]
    },
    {
     "data": {
      "application/vnd.jupyter.widget-view+json": {
       "model_id": "1b05b2b47975496ca24cea2648099d07",
       "version_major": 2,
       "version_minor": 0
      },
      "text/plain": [
       "  0%|          | 0/32 [00:00<?, ?it/s]"
      ]
     },
     "metadata": {},
     "output_type": "display_data"
    },
    {
     "name": "stdout",
     "output_type": "stream",
     "text": [
      "8.1796e+00 2.0449e+00\n",
      "7.1684e+00 1.7921e+00\n",
      "5.4201e+00 1.3550e+00\n",
      "5.9868e+00 1.4967e+00\n",
      "4.8596e+00 1.2149e+00\n",
      "6.0311e+00 1.5078e+00\n",
      "9.0815e+00 2.2704e+00\n",
      "train Loss: 51.9694\n"
     ]
    },
    {
     "data": {
      "application/vnd.jupyter.widget-view+json": {
       "model_id": "132e3fc91095435ca129c52a801afaa0",
       "version_major": 2,
       "version_minor": 0
      },
      "text/plain": [
       "  0%|          | 0/2 [00:00<?, ?it/s]"
      ]
     },
     "metadata": {},
     "output_type": "display_data"
    },
    {
     "name": "stdout",
     "output_type": "stream",
     "text": [
      "val Loss: 2.7299\n",
      "Learning Rate: 0.0009216\n",
      "Epoch 28/1000\n",
      "----------\n"
     ]
    },
    {
     "data": {
      "application/vnd.jupyter.widget-view+json": {
       "model_id": "a93090fa0a1d4083984facfe74832383",
       "version_major": 2,
       "version_minor": 0
      },
      "text/plain": [
       "  0%|          | 0/32 [00:00<?, ?it/s]"
      ]
     },
     "metadata": {},
     "output_type": "display_data"
    },
    {
     "name": "stdout",
     "output_type": "stream",
     "text": [
      "6.5829e+00 1.6457e+00\n",
      "6.2878e+00 1.5720e+00\n",
      "6.2369e+00 1.5592e+00\n",
      "6.0738e+00 1.5185e+00\n",
      "7.0144e+00 1.7536e+00\n",
      "4.1915e+00 1.0479e+00\n",
      "6.8570e+00 1.7142e+00\n",
      "train Loss: 50.3160\n"
     ]
    },
    {
     "data": {
      "application/vnd.jupyter.widget-view+json": {
       "model_id": "f2493d1a0de9403784b5c6843eaba368",
       "version_major": 2,
       "version_minor": 0
      },
      "text/plain": [
       "  0%|          | 0/2 [00:00<?, ?it/s]"
      ]
     },
     "metadata": {},
     "output_type": "display_data"
    },
    {
     "name": "stdout",
     "output_type": "stream",
     "text": [
      "val Loss: 1.3897\n",
      "Learning Rate: 0.0009216\n",
      "Epoch 29/1000\n",
      "----------\n"
     ]
    },
    {
     "data": {
      "application/vnd.jupyter.widget-view+json": {
       "model_id": "a6b434b898fd46ffb4a8593b0760f89b",
       "version_major": 2,
       "version_minor": 0
      },
      "text/plain": [
       "  0%|          | 0/32 [00:00<?, ?it/s]"
      ]
     },
     "metadata": {},
     "output_type": "display_data"
    },
    {
     "name": "stdout",
     "output_type": "stream",
     "text": [
      "5.6120e+00 1.4030e+00\n",
      "6.9691e+00 1.7423e+00\n",
      "6.9013e+00 1.7253e+00\n",
      "6.9533e+00 1.7383e+00\n",
      "6.1975e+00 1.5494e+00\n",
      "6.5626e+00 1.6407e+00\n",
      "6.5694e+00 1.6424e+00\n",
      "train Loss: 50.0545\n"
     ]
    },
    {
     "data": {
      "application/vnd.jupyter.widget-view+json": {
       "model_id": "489ae103533b4a71a7fc0bfb1abe2e5b",
       "version_major": 2,
       "version_minor": 0
      },
      "text/plain": [
       "  0%|          | 0/2 [00:00<?, ?it/s]"
      ]
     },
     "metadata": {},
     "output_type": "display_data"
    },
    {
     "name": "stdout",
     "output_type": "stream",
     "text": [
      "val Loss: 1.8057\n",
      "Learning Rate: 0.0009216\n",
      "Epoch 30/1000\n",
      "----------\n"
     ]
    },
    {
     "data": {
      "application/vnd.jupyter.widget-view+json": {
       "model_id": "9464238d1f5c4b3ab591982566248754",
       "version_major": 2,
       "version_minor": 0
      },
      "text/plain": [
       "  0%|          | 0/32 [00:00<?, ?it/s]"
      ]
     },
     "metadata": {},
     "output_type": "display_data"
    },
    {
     "name": "stdout",
     "output_type": "stream",
     "text": [
      "3.5392e+00 8.8479e-01\n",
      "6.5554e+00 1.6388e+00\n",
      "9.1024e+00 2.2756e+00\n",
      "6.7738e+00 1.6935e+00\n",
      "7.7961e+00 1.9490e+00\n",
      "5.4336e+00 1.3584e+00\n",
      "5.9569e+00 1.4892e+00\n",
      "train Loss: 50.3682\n"
     ]
    },
    {
     "data": {
      "application/vnd.jupyter.widget-view+json": {
       "model_id": "4c621681b7a74bde9e23a36fc3ca0756",
       "version_major": 2,
       "version_minor": 0
      },
      "text/plain": [
       "  0%|          | 0/2 [00:00<?, ?it/s]"
      ]
     },
     "metadata": {},
     "output_type": "display_data"
    },
    {
     "name": "stdout",
     "output_type": "stream",
     "text": [
      "val Loss: 2.5023\n",
      "Learning Rate: 0.0008847359999999999\n",
      "Epoch 31/1000\n",
      "----------\n"
     ]
    },
    {
     "data": {
      "application/vnd.jupyter.widget-view+json": {
       "model_id": "fc97b58527ad4eb6ac7dd1d4b6b6ad58",
       "version_major": 2,
       "version_minor": 0
      },
      "text/plain": [
       "  0%|          | 0/32 [00:00<?, ?it/s]"
      ]
     },
     "metadata": {},
     "output_type": "display_data"
    },
    {
     "name": "stdout",
     "output_type": "stream",
     "text": [
      "7.7461e+00 1.9365e+00\n",
      "7.8677e+00 1.9669e+00\n",
      "7.9735e+00 1.9934e+00\n",
      "6.6573e+00 1.6643e+00\n",
      "8.4861e+00 2.1215e+00\n",
      "5.8643e+00 1.4661e+00\n",
      "4.5905e+00 1.1476e+00\n",
      "train Loss: 55.5411\n"
     ]
    },
    {
     "data": {
      "application/vnd.jupyter.widget-view+json": {
       "model_id": "763708503635466cba6b4e20f6a4a03f",
       "version_major": 2,
       "version_minor": 0
      },
      "text/plain": [
       "  0%|          | 0/2 [00:00<?, ?it/s]"
      ]
     },
     "metadata": {},
     "output_type": "display_data"
    },
    {
     "name": "stdout",
     "output_type": "stream",
     "text": [
      "val Loss: 0.5969\n",
      "Learning Rate: 0.0008847359999999999\n",
      "Epoch 32/1000\n",
      "----------\n"
     ]
    },
    {
     "data": {
      "application/vnd.jupyter.widget-view+json": {
       "model_id": "811bc6e9864e42d5a9f09554ac45b021",
       "version_major": 2,
       "version_minor": 0
      },
      "text/plain": [
       "  0%|          | 0/32 [00:00<?, ?it/s]"
      ]
     },
     "metadata": {},
     "output_type": "display_data"
    },
    {
     "name": "stdout",
     "output_type": "stream",
     "text": [
      "9.1605e+00 2.2901e+00\n",
      "6.2297e+00 1.5574e+00\n",
      "6.7927e+00 1.6982e+00\n",
      "4.0989e+00 1.0247e+00\n",
      "8.6070e+00 2.1518e+00\n",
      "7.8062e+00 1.9515e+00\n",
      "6.0102e+00 1.5026e+00\n",
      "train Loss: 54.5727\n"
     ]
    },
    {
     "data": {
      "application/vnd.jupyter.widget-view+json": {
       "model_id": "4476e05018ce4b53af689fa323a97316",
       "version_major": 2,
       "version_minor": 0
      },
      "text/plain": [
       "  0%|          | 0/2 [00:00<?, ?it/s]"
      ]
     },
     "metadata": {},
     "output_type": "display_data"
    },
    {
     "name": "stdout",
     "output_type": "stream",
     "text": [
      "val Loss: 1.8059\n",
      "Learning Rate: 0.0008847359999999999\n",
      "Epoch 33/1000\n",
      "----------\n"
     ]
    },
    {
     "data": {
      "application/vnd.jupyter.widget-view+json": {
       "model_id": "1a1b735c97a048879f09c14c12e65c78",
       "version_major": 2,
       "version_minor": 0
      },
      "text/plain": [
       "  0%|          | 0/32 [00:00<?, ?it/s]"
      ]
     },
     "metadata": {},
     "output_type": "display_data"
    },
    {
     "name": "stdout",
     "output_type": "stream",
     "text": [
      "7.3791e+00 1.8448e+00\n",
      "3.7112e+00 9.2780e-01\n",
      "6.3892e+00 1.5973e+00\n",
      "5.1333e+00 1.2833e+00\n",
      "6.2910e+00 1.5727e+00\n",
      "6.6300e+00 1.6575e+00\n",
      "5.4242e+00 1.3561e+00\n",
      "train Loss: 46.4817\n"
     ]
    },
    {
     "data": {
      "application/vnd.jupyter.widget-view+json": {
       "model_id": "3258a84727df47a79463252b9b5edb35",
       "version_major": 2,
       "version_minor": 0
      },
      "text/plain": [
       "  0%|          | 0/2 [00:00<?, ?it/s]"
      ]
     },
     "metadata": {},
     "output_type": "display_data"
    },
    {
     "name": "stdout",
     "output_type": "stream",
     "text": [
      "val Loss: 3.1664\n",
      "Learning Rate: 0.0008847359999999999\n",
      "Epoch 34/1000\n",
      "----------\n"
     ]
    },
    {
     "data": {
      "application/vnd.jupyter.widget-view+json": {
       "model_id": "966e7f4e35fa402d8fbf962768a95dcc",
       "version_major": 2,
       "version_minor": 0
      },
      "text/plain": [
       "  0%|          | 0/32 [00:00<?, ?it/s]"
      ]
     },
     "metadata": {},
     "output_type": "display_data"
    },
    {
     "name": "stdout",
     "output_type": "stream",
     "text": [
      "8.7018e+00 2.1755e+00\n",
      "6.4201e+00 1.6050e+00\n",
      "6.2206e+00 1.5552e+00\n",
      "5.1773e+00 1.2943e+00\n",
      "8.0270e+00 2.0067e+00\n",
      "6.3749e+00 1.5937e+00\n",
      "5.5333e+00 1.3833e+00\n",
      "train Loss: 51.7408\n"
     ]
    },
    {
     "data": {
      "application/vnd.jupyter.widget-view+json": {
       "model_id": "80758f853ffb49f89a6546d7d0ef444c",
       "version_major": 2,
       "version_minor": 0
      },
      "text/plain": [
       "  0%|          | 0/2 [00:00<?, ?it/s]"
      ]
     },
     "metadata": {},
     "output_type": "display_data"
    },
    {
     "name": "stdout",
     "output_type": "stream",
     "text": [
      "val Loss: 1.7647\n",
      "Learning Rate: 0.0008847359999999999\n",
      "Epoch 35/1000\n",
      "----------\n"
     ]
    },
    {
     "data": {
      "application/vnd.jupyter.widget-view+json": {
       "model_id": "86b01ca60e9d4c81b0679f96b27021c4",
       "version_major": 2,
       "version_minor": 0
      },
      "text/plain": [
       "  0%|          | 0/32 [00:00<?, ?it/s]"
      ]
     },
     "metadata": {},
     "output_type": "display_data"
    },
    {
     "name": "stdout",
     "output_type": "stream",
     "text": [
      "6.3300e+00 1.5825e+00\n",
      "3.7531e+00 9.3828e-01\n",
      "6.9505e+00 1.7376e+00\n",
      "6.1639e+00 1.5410e+00\n",
      "6.2202e+00 1.5550e+00\n",
      "7.5098e+00 1.8775e+00\n",
      "4.9778e+00 1.2444e+00\n",
      "train Loss: 44.7325\n"
     ]
    },
    {
     "data": {
      "application/vnd.jupyter.widget-view+json": {
       "model_id": "82b9d7f2b1f24bac83f5211ab8f2a982",
       "version_major": 2,
       "version_minor": 0
      },
      "text/plain": [
       "  0%|          | 0/2 [00:00<?, ?it/s]"
      ]
     },
     "metadata": {},
     "output_type": "display_data"
    },
    {
     "name": "stdout",
     "output_type": "stream",
     "text": [
      "val Loss: 1.8774\n",
      "Learning Rate: 0.0008847359999999999\n",
      "Epoch 36/1000\n",
      "----------\n"
     ]
    },
    {
     "data": {
      "application/vnd.jupyter.widget-view+json": {
       "model_id": "b1802aa2cb5341129d1546551fe9c2c8",
       "version_major": 2,
       "version_minor": 0
      },
      "text/plain": [
       "  0%|          | 0/32 [00:00<?, ?it/s]"
      ]
     },
     "metadata": {},
     "output_type": "display_data"
    },
    {
     "name": "stdout",
     "output_type": "stream",
     "text": [
      "5.8868e+00 1.4717e+00\n",
      "5.2455e+00 1.3114e+00\n",
      "5.4405e+00 1.3601e+00\n",
      "7.8943e+00 1.9736e+00\n",
      "4.9626e+00 1.2406e+00\n",
      "6.3260e+00 1.5815e+00\n",
      "4.7321e+00 1.1830e+00\n",
      "train Loss: 45.1712\n"
     ]
    },
    {
     "data": {
      "application/vnd.jupyter.widget-view+json": {
       "model_id": "6119b4a1ef5c4bbe8b7961b30e2cd161",
       "version_major": 2,
       "version_minor": 0
      },
      "text/plain": [
       "  0%|          | 0/2 [00:00<?, ?it/s]"
      ]
     },
     "metadata": {},
     "output_type": "display_data"
    },
    {
     "name": "stdout",
     "output_type": "stream",
     "text": [
      "val Loss: 2.9584\n",
      "Learning Rate: 0.0008847359999999999\n",
      "Epoch 37/1000\n",
      "----------\n"
     ]
    },
    {
     "data": {
      "application/vnd.jupyter.widget-view+json": {
       "model_id": "e2701a0d27b948c39b74877f206a4836",
       "version_major": 2,
       "version_minor": 0
      },
      "text/plain": [
       "  0%|          | 0/32 [00:00<?, ?it/s]"
      ]
     },
     "metadata": {},
     "output_type": "display_data"
    },
    {
     "name": "stdout",
     "output_type": "stream",
     "text": [
      "7.6951e+00 1.9238e+00\n",
      "4.7063e+00 1.1766e+00\n",
      "6.3841e+00 1.5960e+00\n",
      "6.8173e+00 1.7043e+00\n",
      "6.9081e+00 1.7270e+00\n",
      "5.7246e+00 1.4312e+00\n",
      "7.4825e+00 1.8706e+00\n",
      "train Loss: 50.0280\n"
     ]
    },
    {
     "data": {
      "application/vnd.jupyter.widget-view+json": {
       "model_id": "1ba3d745d63f4723b7f8750b36cfd2df",
       "version_major": 2,
       "version_minor": 0
      },
      "text/plain": [
       "  0%|          | 0/2 [00:00<?, ?it/s]"
      ]
     },
     "metadata": {},
     "output_type": "display_data"
    },
    {
     "name": "stdout",
     "output_type": "stream",
     "text": [
      "val Loss: 2.8110\n",
      "Learning Rate: 0.0008847359999999999\n",
      "Epoch 38/1000\n",
      "----------\n"
     ]
    },
    {
     "data": {
      "application/vnd.jupyter.widget-view+json": {
       "model_id": "38954d91eb914d768379c0f0d8807841",
       "version_major": 2,
       "version_minor": 0
      },
      "text/plain": [
       "  0%|          | 0/32 [00:00<?, ?it/s]"
      ]
     },
     "metadata": {},
     "output_type": "display_data"
    },
    {
     "name": "stdout",
     "output_type": "stream",
     "text": [
      "9.2491e+00 2.3123e+00\n",
      "7.0605e+00 1.7651e+00\n",
      "6.7580e+00 1.6895e+00\n",
      "7.1957e+00 1.7989e+00\n",
      "7.2845e+00 1.8211e+00\n",
      "6.6644e+00 1.6661e+00\n",
      "4.5722e+00 1.1431e+00\n",
      "train Loss: 53.8332\n"
     ]
    },
    {
     "data": {
      "application/vnd.jupyter.widget-view+json": {
       "model_id": "7d59681b68f444ba82b4e0067d237315",
       "version_major": 2,
       "version_minor": 0
      },
      "text/plain": [
       "  0%|          | 0/2 [00:00<?, ?it/s]"
      ]
     },
     "metadata": {},
     "output_type": "display_data"
    },
    {
     "name": "stdout",
     "output_type": "stream",
     "text": [
      "val Loss: 0.2836\n",
      "Learning Rate: 0.0008847359999999999\n",
      "Epoch 39/1000\n",
      "----------\n"
     ]
    },
    {
     "data": {
      "application/vnd.jupyter.widget-view+json": {
       "model_id": "d47e78e211f44b328361ea1df1439fd5",
       "version_major": 2,
       "version_minor": 0
      },
      "text/plain": [
       "  0%|          | 0/32 [00:00<?, ?it/s]"
      ]
     },
     "metadata": {},
     "output_type": "display_data"
    },
    {
     "name": "stdout",
     "output_type": "stream",
     "text": [
      "6.4401e+00 1.6100e+00\n",
      "4.2095e+00 1.0524e+00\n",
      "6.0983e+00 1.5246e+00\n",
      "6.0646e+00 1.5161e+00\n",
      "3.5621e+00 8.9052e-01\n",
      "7.2056e+00 1.8014e+00\n",
      "5.4398e+00 1.3600e+00\n",
      "train Loss: 43.3163\n"
     ]
    },
    {
     "data": {
      "application/vnd.jupyter.widget-view+json": {
       "model_id": "0871f0ea23de4d76b545af0920ced227",
       "version_major": 2,
       "version_minor": 0
      },
      "text/plain": [
       "  0%|          | 0/2 [00:00<?, ?it/s]"
      ]
     },
     "metadata": {},
     "output_type": "display_data"
    },
    {
     "name": "stdout",
     "output_type": "stream",
     "text": [
      "val Loss: 3.8893\n",
      "Learning Rate: 0.0008847359999999999\n",
      "Epoch 40/1000\n",
      "----------\n"
     ]
    },
    {
     "data": {
      "application/vnd.jupyter.widget-view+json": {
       "model_id": "fe70db248257480b8012c98782f6ca33",
       "version_major": 2,
       "version_minor": 0
      },
      "text/plain": [
       "  0%|          | 0/32 [00:00<?, ?it/s]"
      ]
     },
     "metadata": {},
     "output_type": "display_data"
    },
    {
     "name": "stdout",
     "output_type": "stream",
     "text": [
      "8.3875e+00 2.0969e+00\n",
      "4.3267e+00 1.0817e+00\n",
      "7.9612e+00 1.9903e+00\n",
      "6.4945e+00 1.6236e+00\n",
      "3.8794e+00 9.6985e-01\n",
      "5.9718e+00 1.4930e+00\n",
      "5.5879e+00 1.3970e+00\n",
      "train Loss: 47.3676\n"
     ]
    },
    {
     "data": {
      "application/vnd.jupyter.widget-view+json": {
       "model_id": "73950509f71743149eba1a4d2a2bcbe6",
       "version_major": 2,
       "version_minor": 0
      },
      "text/plain": [
       "  0%|          | 0/2 [00:00<?, ?it/s]"
      ]
     },
     "metadata": {},
     "output_type": "display_data"
    },
    {
     "name": "stdout",
     "output_type": "stream",
     "text": [
      "val Loss: 2.8189\n",
      "Learning Rate: 0.0008493465599999999\n",
      "Epoch 41/1000\n",
      "----------\n"
     ]
    },
    {
     "data": {
      "application/vnd.jupyter.widget-view+json": {
       "model_id": "34b6fc968b27489587e0d3c207672ff5",
       "version_major": 2,
       "version_minor": 0
      },
      "text/plain": [
       "  0%|          | 0/32 [00:00<?, ?it/s]"
      ]
     },
     "metadata": {},
     "output_type": "display_data"
    },
    {
     "name": "stdout",
     "output_type": "stream",
     "text": [
      "6.3524e+00 1.5881e+00\n",
      "5.2971e+00 1.3243e+00\n",
      "7.3388e+00 1.8347e+00\n",
      "7.7156e+00 1.9289e+00\n",
      "5.1742e+00 1.2936e+00\n",
      "6.4216e+00 1.6054e+00\n",
      "8.8672e+00 2.2168e+00\n",
      "train Loss: 50.2963\n"
     ]
    },
    {
     "data": {
      "application/vnd.jupyter.widget-view+json": {
       "model_id": "0f7e78dfdc3a410e9bfc7237e70c4dc7",
       "version_major": 2,
       "version_minor": 0
      },
      "text/plain": [
       "  0%|          | 0/2 [00:00<?, ?it/s]"
      ]
     },
     "metadata": {},
     "output_type": "display_data"
    },
    {
     "name": "stdout",
     "output_type": "stream",
     "text": [
      "val Loss: 2.5695\n",
      "Learning Rate: 0.0008493465599999999\n",
      "Epoch 42/1000\n",
      "----------\n"
     ]
    },
    {
     "data": {
      "application/vnd.jupyter.widget-view+json": {
       "model_id": "4ce0a0bc528749c7b0b1cf72f5928c4d",
       "version_major": 2,
       "version_minor": 0
      },
      "text/plain": [
       "  0%|          | 0/32 [00:00<?, ?it/s]"
      ]
     },
     "metadata": {},
     "output_type": "display_data"
    },
    {
     "name": "stdout",
     "output_type": "stream",
     "text": [
      "4.8787e+00 1.2197e+00\n",
      "7.6426e+00 1.9107e+00\n",
      "6.0028e+00 1.5007e+00\n",
      "6.0645e+00 1.5161e+00\n",
      "6.4420e+00 1.6105e+00\n",
      "4.5263e+00 1.1316e+00\n",
      "7.2480e+00 1.8120e+00\n",
      "train Loss: 48.0162\n"
     ]
    },
    {
     "data": {
      "application/vnd.jupyter.widget-view+json": {
       "model_id": "c16079a4433244a69eef1c14fcadd60e",
       "version_major": 2,
       "version_minor": 0
      },
      "text/plain": [
       "  0%|          | 0/2 [00:00<?, ?it/s]"
      ]
     },
     "metadata": {},
     "output_type": "display_data"
    },
    {
     "name": "stdout",
     "output_type": "stream",
     "text": [
      "val Loss: 2.3496\n",
      "Learning Rate: 0.0008493465599999999\n",
      "Epoch 43/1000\n",
      "----------\n"
     ]
    },
    {
     "data": {
      "application/vnd.jupyter.widget-view+json": {
       "model_id": "7bef04f60d6045fd8d5cac61166da38f",
       "version_major": 2,
       "version_minor": 0
      },
      "text/plain": [
       "  0%|          | 0/32 [00:00<?, ?it/s]"
      ]
     },
     "metadata": {},
     "output_type": "display_data"
    },
    {
     "name": "stdout",
     "output_type": "stream",
     "text": [
      "8.4110e+00 2.1028e+00\n",
      "3.7616e+00 9.4039e-01\n",
      "6.4002e+00 1.6000e+00\n",
      "5.7305e+00 1.4326e+00\n",
      "9.0501e+00 2.2625e+00\n",
      "6.1086e+00 1.5271e+00\n",
      "3.5388e+00 8.8469e-01\n",
      "train Loss: 47.4749\n"
     ]
    },
    {
     "data": {
      "application/vnd.jupyter.widget-view+json": {
       "model_id": "539aa7a1e8b14610abc8edf38bc2d23b",
       "version_major": 2,
       "version_minor": 0
      },
      "text/plain": [
       "  0%|          | 0/2 [00:00<?, ?it/s]"
      ]
     },
     "metadata": {},
     "output_type": "display_data"
    },
    {
     "name": "stdout",
     "output_type": "stream",
     "text": [
      "val Loss: 2.7087\n",
      "Learning Rate: 0.0008493465599999999\n",
      "Epoch 44/1000\n",
      "----------\n"
     ]
    },
    {
     "data": {
      "application/vnd.jupyter.widget-view+json": {
       "model_id": "3aa508882760475d925c75d5e8769a60",
       "version_major": 2,
       "version_minor": 0
      },
      "text/plain": [
       "  0%|          | 0/32 [00:00<?, ?it/s]"
      ]
     },
     "metadata": {},
     "output_type": "display_data"
    },
    {
     "name": "stdout",
     "output_type": "stream",
     "text": [
      "8.6867e+00 2.1717e+00\n",
      "6.0765e+00 1.5191e+00\n",
      "4.0124e+00 1.0031e+00\n",
      "7.9206e+00 1.9801e+00\n",
      "4.4222e+00 1.1055e+00\n",
      "4.7795e+00 1.1949e+00\n",
      "6.5347e+00 1.6337e+00\n",
      "train Loss: 46.7086\n"
     ]
    },
    {
     "data": {
      "application/vnd.jupyter.widget-view+json": {
       "model_id": "8e5bca73485c4f5388f2d49f576eb657",
       "version_major": 2,
       "version_minor": 0
      },
      "text/plain": [
       "  0%|          | 0/2 [00:00<?, ?it/s]"
      ]
     },
     "metadata": {},
     "output_type": "display_data"
    },
    {
     "name": "stdout",
     "output_type": "stream",
     "text": [
      "val Loss: 0.7582\n",
      "Learning Rate: 0.0008493465599999999\n",
      "Epoch 45/1000\n",
      "----------\n"
     ]
    },
    {
     "data": {
      "application/vnd.jupyter.widget-view+json": {
       "model_id": "49363a14ebed4aedb4a2f461b9656a23",
       "version_major": 2,
       "version_minor": 0
      },
      "text/plain": [
       "  0%|          | 0/32 [00:00<?, ?it/s]"
      ]
     },
     "metadata": {},
     "output_type": "display_data"
    },
    {
     "name": "stdout",
     "output_type": "stream",
     "text": [
      "4.9404e+00 1.2351e+00\n",
      "7.9538e+00 1.9884e+00\n",
      "6.7918e+00 1.6980e+00\n",
      "5.9990e+00 1.4998e+00\n",
      "4.3528e+00 1.0882e+00\n",
      "5.6779e+00 1.4195e+00\n",
      "3.8803e+00 9.7008e-01\n",
      "train Loss: 45.8902\n"
     ]
    },
    {
     "data": {
      "application/vnd.jupyter.widget-view+json": {
       "model_id": "34037c5355224beeaca19edafc86bbac",
       "version_major": 2,
       "version_minor": 0
      },
      "text/plain": [
       "  0%|          | 0/2 [00:00<?, ?it/s]"
      ]
     },
     "metadata": {},
     "output_type": "display_data"
    },
    {
     "name": "stdout",
     "output_type": "stream",
     "text": [
      "val Loss: 0.3546\n",
      "Learning Rate: 0.0008493465599999999\n",
      "Epoch 46/1000\n",
      "----------\n"
     ]
    },
    {
     "data": {
      "application/vnd.jupyter.widget-view+json": {
       "model_id": "c8cf224e94284334bd5a0678e7202688",
       "version_major": 2,
       "version_minor": 0
      },
      "text/plain": [
       "  0%|          | 0/32 [00:00<?, ?it/s]"
      ]
     },
     "metadata": {},
     "output_type": "display_data"
    },
    {
     "name": "stdout",
     "output_type": "stream",
     "text": [
      "6.6879e+00 1.6720e+00\n",
      "5.7809e+00 1.4452e+00\n",
      "4.7085e+00 1.1771e+00\n",
      "5.6023e+00 1.4006e+00\n",
      "4.1149e+00 1.0287e+00\n",
      "6.5628e+00 1.6407e+00\n",
      "6.4398e+00 1.6100e+00\n",
      "train Loss: 44.2874\n"
     ]
    },
    {
     "data": {
      "application/vnd.jupyter.widget-view+json": {
       "model_id": "16020de66fb44e00a35a7e737d03930f",
       "version_major": 2,
       "version_minor": 0
      },
      "text/plain": [
       "  0%|          | 0/2 [00:00<?, ?it/s]"
      ]
     },
     "metadata": {},
     "output_type": "display_data"
    },
    {
     "name": "stdout",
     "output_type": "stream",
     "text": [
      "val Loss: 3.1959\n",
      "Learning Rate: 0.0008493465599999999\n",
      "Epoch 47/1000\n",
      "----------\n"
     ]
    },
    {
     "data": {
      "application/vnd.jupyter.widget-view+json": {
       "model_id": "c691f73ca82d4f22b8a83b9bd1432954",
       "version_major": 2,
       "version_minor": 0
      },
      "text/plain": [
       "  0%|          | 0/32 [00:00<?, ?it/s]"
      ]
     },
     "metadata": {},
     "output_type": "display_data"
    },
    {
     "name": "stdout",
     "output_type": "stream",
     "text": [
      "5.3495e+00 1.3374e+00\n",
      "5.4070e+00 1.3518e+00\n",
      "7.0634e+00 1.7659e+00\n",
      "8.8324e+00 2.2081e+00\n",
      "6.8385e+00 1.7096e+00\n",
      "8.1714e+00 2.0428e+00\n",
      "4.8278e+00 1.2070e+00\n",
      "train Loss: 49.5365\n"
     ]
    },
    {
     "data": {
      "application/vnd.jupyter.widget-view+json": {
       "model_id": "8662b61cb4664c2bb6ca0a2be3a898a1",
       "version_major": 2,
       "version_minor": 0
      },
      "text/plain": [
       "  0%|          | 0/2 [00:00<?, ?it/s]"
      ]
     },
     "metadata": {},
     "output_type": "display_data"
    },
    {
     "name": "stdout",
     "output_type": "stream",
     "text": [
      "val Loss: 1.7581\n",
      "Learning Rate: 0.0008493465599999999\n",
      "Epoch 48/1000\n",
      "----------\n"
     ]
    },
    {
     "data": {
      "application/vnd.jupyter.widget-view+json": {
       "model_id": "0c06db31b2bd419496bf0bcf0c059ccd",
       "version_major": 2,
       "version_minor": 0
      },
      "text/plain": [
       "  0%|          | 0/32 [00:00<?, ?it/s]"
      ]
     },
     "metadata": {},
     "output_type": "display_data"
    },
    {
     "name": "stdout",
     "output_type": "stream",
     "text": [
      "7.8976e+00 1.9744e+00\n",
      "2.9433e+00 7.3584e-01\n",
      "6.9693e+00 1.7423e+00\n",
      "4.9073e+00 1.2268e+00\n",
      "1.0554e+01 2.6385e+00\n",
      "6.1197e+00 1.5299e+00\n",
      "6.4647e+00 1.6162e+00\n",
      "train Loss: 51.0259\n"
     ]
    },
    {
     "data": {
      "application/vnd.jupyter.widget-view+json": {
       "model_id": "36804ddd5463459da517493c638161a7",
       "version_major": 2,
       "version_minor": 0
      },
      "text/plain": [
       "  0%|          | 0/2 [00:00<?, ?it/s]"
      ]
     },
     "metadata": {},
     "output_type": "display_data"
    },
    {
     "name": "stdout",
     "output_type": "stream",
     "text": [
      "val Loss: 1.8923\n",
      "Learning Rate: 0.0008493465599999999\n",
      "Epoch 49/1000\n",
      "----------\n"
     ]
    },
    {
     "data": {
      "application/vnd.jupyter.widget-view+json": {
       "model_id": "cc832d1a93d74b2baded0e0fd4306e04",
       "version_major": 2,
       "version_minor": 0
      },
      "text/plain": [
       "  0%|          | 0/32 [00:00<?, ?it/s]"
      ]
     },
     "metadata": {},
     "output_type": "display_data"
    },
    {
     "name": "stdout",
     "output_type": "stream",
     "text": [
      "9.6993e+00 2.4248e+00\n",
      "3.0370e+00 7.5924e-01\n",
      "7.8930e+00 1.9733e+00\n",
      "4.5604e+00 1.1401e+00\n",
      "4.6839e+00 1.1710e+00\n",
      "7.4623e+00 1.8656e+00\n",
      "4.5450e+00 1.1362e+00\n",
      "train Loss: 45.4853\n"
     ]
    },
    {
     "data": {
      "application/vnd.jupyter.widget-view+json": {
       "model_id": "f61c0428be774870bf17ff9e03d0b07e",
       "version_major": 2,
       "version_minor": 0
      },
      "text/plain": [
       "  0%|          | 0/2 [00:00<?, ?it/s]"
      ]
     },
     "metadata": {},
     "output_type": "display_data"
    },
    {
     "name": "stdout",
     "output_type": "stream",
     "text": [
      "val Loss: 2.2492\n",
      "Learning Rate: 0.0008493465599999999\n",
      "Epoch 50/1000\n",
      "----------\n"
     ]
    },
    {
     "data": {
      "application/vnd.jupyter.widget-view+json": {
       "model_id": "7cd33fa998194c53ab026da8992d34a9",
       "version_major": 2,
       "version_minor": 0
      },
      "text/plain": [
       "  0%|          | 0/32 [00:00<?, ?it/s]"
      ]
     },
     "metadata": {},
     "output_type": "display_data"
    },
    {
     "name": "stdout",
     "output_type": "stream",
     "text": [
      "7.4470e+00 1.8617e+00\n",
      "8.3368e+00 2.0842e+00\n",
      "8.0297e+00 2.0074e+00\n",
      "5.2407e+00 1.3102e+00\n",
      "6.6033e+00 1.6508e+00\n",
      "6.5102e+00 1.6275e+00\n",
      "4.3861e+00 1.0965e+00\n",
      "train Loss: 50.3349\n"
     ]
    },
    {
     "data": {
      "application/vnd.jupyter.widget-view+json": {
       "model_id": "7787265df6a54db29c0799876414ddcf",
       "version_major": 2,
       "version_minor": 0
      },
      "text/plain": [
       "  0%|          | 0/2 [00:00<?, ?it/s]"
      ]
     },
     "metadata": {},
     "output_type": "display_data"
    },
    {
     "name": "stdout",
     "output_type": "stream",
     "text": [
      "val Loss: 3.6027\n",
      "Learning Rate: 0.0008153726975999999\n",
      "Epoch 51/1000\n",
      "----------\n"
     ]
    },
    {
     "data": {
      "application/vnd.jupyter.widget-view+json": {
       "model_id": "b03fb48b10654d6db7e9e6c6761b4702",
       "version_major": 2,
       "version_minor": 0
      },
      "text/plain": [
       "  0%|          | 0/32 [00:00<?, ?it/s]"
      ]
     },
     "metadata": {},
     "output_type": "display_data"
    },
    {
     "name": "stdout",
     "output_type": "stream",
     "text": [
      "6.4987e+00 1.6247e+00\n",
      "6.1189e+00 1.5297e+00\n",
      "3.2175e+00 8.0438e-01\n",
      "6.3969e+00 1.5992e+00\n",
      "5.3698e+00 1.3425e+00\n",
      "3.3541e+00 8.3852e-01\n",
      "6.7037e+00 1.6759e+00\n",
      "train Loss: 41.7921\n"
     ]
    },
    {
     "data": {
      "application/vnd.jupyter.widget-view+json": {
       "model_id": "8b1e48e0bd104917ae8ab4cfaec4e2c9",
       "version_major": 2,
       "version_minor": 0
      },
      "text/plain": [
       "  0%|          | 0/2 [00:00<?, ?it/s]"
      ]
     },
     "metadata": {},
     "output_type": "display_data"
    },
    {
     "name": "stdout",
     "output_type": "stream",
     "text": [
      "val Loss: 7.6102\n",
      "Learning Rate: 0.0008153726975999999\n",
      "Epoch 52/1000\n",
      "----------\n"
     ]
    },
    {
     "data": {
      "application/vnd.jupyter.widget-view+json": {
       "model_id": "fbf98a5c3b814578b21ab0022bcb4c26",
       "version_major": 2,
       "version_minor": 0
      },
      "text/plain": [
       "  0%|          | 0/32 [00:00<?, ?it/s]"
      ]
     },
     "metadata": {},
     "output_type": "display_data"
    },
    {
     "name": "stdout",
     "output_type": "stream",
     "text": [
      "6.5649e+00 1.6412e+00\n",
      "4.2096e+00 1.0524e+00\n",
      "1.0271e+01 2.5678e+00\n",
      "4.6033e+00 1.1508e+00\n",
      "4.9231e+00 1.2308e+00\n",
      "5.0106e+00 1.2526e+00\n",
      "7.0496e+00 1.7624e+00\n",
      "train Loss: 45.2024\n"
     ]
    },
    {
     "data": {
      "application/vnd.jupyter.widget-view+json": {
       "model_id": "bd0621657e094e1d8ab7697fbce61381",
       "version_major": 2,
       "version_minor": 0
      },
      "text/plain": [
       "  0%|          | 0/2 [00:00<?, ?it/s]"
      ]
     },
     "metadata": {},
     "output_type": "display_data"
    },
    {
     "name": "stdout",
     "output_type": "stream",
     "text": [
      "val Loss: 4.5878\n",
      "Learning Rate: 0.0008153726975999999\n",
      "Epoch 53/1000\n",
      "----------\n"
     ]
    },
    {
     "data": {
      "application/vnd.jupyter.widget-view+json": {
       "model_id": "db6abbb8ad134f9c91e2e03e09a5fa33",
       "version_major": 2,
       "version_minor": 0
      },
      "text/plain": [
       "  0%|          | 0/32 [00:00<?, ?it/s]"
      ]
     },
     "metadata": {},
     "output_type": "display_data"
    },
    {
     "name": "stdout",
     "output_type": "stream",
     "text": [
      "4.4973e+00 1.1243e+00\n",
      "5.1679e+00 1.2920e+00\n",
      "7.9164e+00 1.9791e+00\n",
      "5.0024e+00 1.2506e+00\n",
      "5.6403e+00 1.4101e+00\n",
      "5.5613e+00 1.3903e+00\n",
      "3.5848e+00 8.9620e-01\n",
      "train Loss: 43.4253\n"
     ]
    },
    {
     "data": {
      "application/vnd.jupyter.widget-view+json": {
       "model_id": "df769717f8354fd09998b94ae810988d",
       "version_major": 2,
       "version_minor": 0
      },
      "text/plain": [
       "  0%|          | 0/2 [00:00<?, ?it/s]"
      ]
     },
     "metadata": {},
     "output_type": "display_data"
    },
    {
     "name": "stdout",
     "output_type": "stream",
     "text": [
      "val Loss: 2.9081\n",
      "Learning Rate: 0.0008153726975999999\n",
      "Epoch 54/1000\n",
      "----------\n"
     ]
    },
    {
     "data": {
      "application/vnd.jupyter.widget-view+json": {
       "model_id": "439d7c4d6d974ef981ee3b8008d193fc",
       "version_major": 2,
       "version_minor": 0
      },
      "text/plain": [
       "  0%|          | 0/32 [00:00<?, ?it/s]"
      ]
     },
     "metadata": {},
     "output_type": "display_data"
    },
    {
     "name": "stdout",
     "output_type": "stream",
     "text": [
      "3.7724e+00 9.4310e-01\n",
      "7.1013e+00 1.7753e+00\n",
      "4.5453e+00 1.1363e+00\n",
      "2.4465e+00 6.1163e-01\n",
      "7.2015e+00 1.8004e+00\n",
      "1.0858e+01 2.7145e+00\n",
      "5.4564e+00 1.3641e+00\n",
      "train Loss: 43.9027\n"
     ]
    },
    {
     "data": {
      "application/vnd.jupyter.widget-view+json": {
       "model_id": "3ee6d6a8242b46a1a299e66865903acf",
       "version_major": 2,
       "version_minor": 0
      },
      "text/plain": [
       "  0%|          | 0/2 [00:00<?, ?it/s]"
      ]
     },
     "metadata": {},
     "output_type": "display_data"
    },
    {
     "name": "stdout",
     "output_type": "stream",
     "text": [
      "val Loss: 2.4299\n",
      "Learning Rate: 0.0008153726975999999\n",
      "Epoch 55/1000\n",
      "----------\n"
     ]
    },
    {
     "data": {
      "application/vnd.jupyter.widget-view+json": {
       "model_id": "076bafe8f12a4d5db49f1eddbf14c588",
       "version_major": 2,
       "version_minor": 0
      },
      "text/plain": [
       "  0%|          | 0/32 [00:00<?, ?it/s]"
      ]
     },
     "metadata": {},
     "output_type": "display_data"
    },
    {
     "name": "stdout",
     "output_type": "stream",
     "text": [
      "7.0341e+00 1.7585e+00\n",
      "4.8867e+00 1.2217e+00\n",
      "5.9442e+00 1.4861e+00\n",
      "4.0192e+00 1.0048e+00\n",
      "7.7345e+00 1.9336e+00\n",
      "4.8161e+00 1.2040e+00\n",
      "5.2735e+00 1.3184e+00\n",
      "train Loss: 43.9012\n"
     ]
    },
    {
     "data": {
      "application/vnd.jupyter.widget-view+json": {
       "model_id": "f477b27473f94b45a3bdfc7de31296f6",
       "version_major": 2,
       "version_minor": 0
      },
      "text/plain": [
       "  0%|          | 0/2 [00:00<?, ?it/s]"
      ]
     },
     "metadata": {},
     "output_type": "display_data"
    },
    {
     "name": "stdout",
     "output_type": "stream",
     "text": [
      "val Loss: 1.0712\n",
      "Learning Rate: 0.0008153726975999999\n",
      "Epoch 56/1000\n",
      "----------\n"
     ]
    },
    {
     "data": {
      "application/vnd.jupyter.widget-view+json": {
       "model_id": "31f0dc012df249b2a6bf4fb4f3cc29cc",
       "version_major": 2,
       "version_minor": 0
      },
      "text/plain": [
       "  0%|          | 0/32 [00:00<?, ?it/s]"
      ]
     },
     "metadata": {},
     "output_type": "display_data"
    },
    {
     "name": "stdout",
     "output_type": "stream",
     "text": [
      "6.4661e+00 1.6165e+00\n",
      "4.1576e+00 1.0394e+00\n",
      "6.4501e+00 1.6125e+00\n",
      "5.8967e+00 1.4742e+00\n",
      "8.0214e+00 2.0054e+00\n",
      "5.0216e+00 1.2554e+00\n",
      "8.2427e+00 2.0607e+00\n",
      "train Loss: 49.8546\n"
     ]
    },
    {
     "data": {
      "application/vnd.jupyter.widget-view+json": {
       "model_id": "615bacdc1db34985857e3f7d0f79bba3",
       "version_major": 2,
       "version_minor": 0
      },
      "text/plain": [
       "  0%|          | 0/2 [00:00<?, ?it/s]"
      ]
     },
     "metadata": {},
     "output_type": "display_data"
    },
    {
     "name": "stdout",
     "output_type": "stream",
     "text": [
      "val Loss: 2.4873\n",
      "Learning Rate: 0.0008153726975999999\n",
      "Epoch 57/1000\n",
      "----------\n"
     ]
    },
    {
     "data": {
      "application/vnd.jupyter.widget-view+json": {
       "model_id": "20b8976d4b614130a06cce471712ef14",
       "version_major": 2,
       "version_minor": 0
      },
      "text/plain": [
       "  0%|          | 0/32 [00:00<?, ?it/s]"
      ]
     },
     "metadata": {},
     "output_type": "display_data"
    },
    {
     "name": "stdout",
     "output_type": "stream",
     "text": [
      "7.2039e+00 1.8010e+00\n",
      "5.0381e+00 1.2595e+00\n",
      "5.3696e+00 1.3424e+00\n",
      "3.9604e+00 9.9011e-01\n",
      "6.6986e+00 1.6747e+00\n",
      "6.5479e+00 1.6370e+00\n",
      "3.6700e+00 9.1751e-01\n",
      "train Loss: 44.3557\n"
     ]
    },
    {
     "data": {
      "application/vnd.jupyter.widget-view+json": {
       "model_id": "a3b1f56d62e14ccda22b6d7633003431",
       "version_major": 2,
       "version_minor": 0
      },
      "text/plain": [
       "  0%|          | 0/2 [00:00<?, ?it/s]"
      ]
     },
     "metadata": {},
     "output_type": "display_data"
    },
    {
     "name": "stdout",
     "output_type": "stream",
     "text": [
      "val Loss: 3.6579\n",
      "Learning Rate: 0.0008153726975999999\n",
      "Epoch 58/1000\n",
      "----------\n"
     ]
    },
    {
     "data": {
      "application/vnd.jupyter.widget-view+json": {
       "model_id": "3971ad4582bc4b6882ad48820fb67ec0",
       "version_major": 2,
       "version_minor": 0
      },
      "text/plain": [
       "  0%|          | 0/32 [00:00<?, ?it/s]"
      ]
     },
     "metadata": {},
     "output_type": "display_data"
    },
    {
     "name": "stdout",
     "output_type": "stream",
     "text": [
      "7.5298e+00 1.8825e+00\n",
      "7.3383e+00 1.8346e+00\n",
      "6.3734e+00 1.5934e+00\n",
      "5.7804e+00 1.4451e+00\n",
      "4.7314e+00 1.1828e+00\n",
      "7.2955e+00 1.8239e+00\n",
      "5.3812e+00 1.3453e+00\n",
      "train Loss: 49.1085\n"
     ]
    },
    {
     "data": {
      "application/vnd.jupyter.widget-view+json": {
       "model_id": "27a51842506a4da0a21daa8d3557899f",
       "version_major": 2,
       "version_minor": 0
      },
      "text/plain": [
       "  0%|          | 0/2 [00:00<?, ?it/s]"
      ]
     },
     "metadata": {},
     "output_type": "display_data"
    },
    {
     "name": "stdout",
     "output_type": "stream",
     "text": [
      "val Loss: 2.6788\n",
      "Learning Rate: 0.0008153726975999999\n",
      "Epoch 59/1000\n",
      "----------\n"
     ]
    },
    {
     "data": {
      "application/vnd.jupyter.widget-view+json": {
       "model_id": "3bbabc1307df40fc9b90f5f0c2883895",
       "version_major": 2,
       "version_minor": 0
      },
      "text/plain": [
       "  0%|          | 0/32 [00:00<?, ?it/s]"
      ]
     },
     "metadata": {},
     "output_type": "display_data"
    },
    {
     "name": "stdout",
     "output_type": "stream",
     "text": [
      "4.9884e+00 1.2471e+00\n",
      "2.4112e+00 6.0279e-01\n",
      "7.7165e+00 1.9291e+00\n",
      "5.2927e+00 1.3232e+00\n",
      "6.4070e+00 1.6017e+00\n",
      "6.0706e+00 1.5176e+00\n",
      "9.7243e+00 2.4311e+00\n",
      "train Loss: 44.9486\n"
     ]
    },
    {
     "data": {
      "application/vnd.jupyter.widget-view+json": {
       "model_id": "648bad5531a74c76968aea674a538ed9",
       "version_major": 2,
       "version_minor": 0
      },
      "text/plain": [
       "  0%|          | 0/2 [00:00<?, ?it/s]"
      ]
     },
     "metadata": {},
     "output_type": "display_data"
    },
    {
     "name": "stdout",
     "output_type": "stream",
     "text": [
      "val Loss: 0.3825\n",
      "Learning Rate: 0.0008153726975999999\n",
      "Epoch 60/1000\n",
      "----------\n"
     ]
    },
    {
     "data": {
      "application/vnd.jupyter.widget-view+json": {
       "model_id": "6e16dbcb838144b7bc850eb592d30a0d",
       "version_major": 2,
       "version_minor": 0
      },
      "text/plain": [
       "  0%|          | 0/32 [00:00<?, ?it/s]"
      ]
     },
     "metadata": {},
     "output_type": "display_data"
    },
    {
     "name": "stdout",
     "output_type": "stream",
     "text": [
      "5.2758e+00 1.3189e+00\n",
      "6.8055e+00 1.7014e+00\n",
      "5.7148e+00 1.4287e+00\n",
      "4.5647e+00 1.1412e+00\n",
      "5.2174e+00 1.3043e+00\n",
      "3.1102e+00 7.7755e-01\n",
      "4.9199e+00 1.2300e+00\n",
      "train Loss: 39.7031\n"
     ]
    },
    {
     "data": {
      "application/vnd.jupyter.widget-view+json": {
       "model_id": "bb65d97e4c204dabbaa4285fd7c4caca",
       "version_major": 2,
       "version_minor": 0
      },
      "text/plain": [
       "  0%|          | 0/2 [00:00<?, ?it/s]"
      ]
     },
     "metadata": {},
     "output_type": "display_data"
    },
    {
     "name": "stdout",
     "output_type": "stream",
     "text": [
      "val Loss: 2.1712\n",
      "Learning Rate: 0.0007827577896959998\n",
      "Epoch 61/1000\n",
      "----------\n"
     ]
    },
    {
     "data": {
      "application/vnd.jupyter.widget-view+json": {
       "model_id": "d85e781fbb1a4e3ba6e1819807b0bf40",
       "version_major": 2,
       "version_minor": 0
      },
      "text/plain": [
       "  0%|          | 0/32 [00:00<?, ?it/s]"
      ]
     },
     "metadata": {},
     "output_type": "display_data"
    },
    {
     "name": "stdout",
     "output_type": "stream",
     "text": [
      "8.0476e+00 2.0119e+00\n",
      "7.4972e+00 1.8743e+00\n",
      "5.9446e+00 1.4862e+00\n",
      "6.1658e+00 1.5414e+00\n",
      "3.7293e+00 9.3232e-01\n",
      "8.3663e+00 2.0916e+00\n",
      "3.8766e+00 9.6915e-01\n",
      "train Loss: 48.4353\n"
     ]
    },
    {
     "data": {
      "application/vnd.jupyter.widget-view+json": {
       "model_id": "079c8068c5084066980a99e24d0a13ce",
       "version_major": 2,
       "version_minor": 0
      },
      "text/plain": [
       "  0%|          | 0/2 [00:00<?, ?it/s]"
      ]
     },
     "metadata": {},
     "output_type": "display_data"
    },
    {
     "name": "stdout",
     "output_type": "stream",
     "text": [
      "val Loss: 3.3560\n",
      "Learning Rate: 0.0007827577896959998\n",
      "Epoch 62/1000\n",
      "----------\n"
     ]
    },
    {
     "data": {
      "application/vnd.jupyter.widget-view+json": {
       "model_id": "ee6c6f1aaf80403da25ae78714e3a0da",
       "version_major": 2,
       "version_minor": 0
      },
      "text/plain": [
       "  0%|          | 0/32 [00:00<?, ?it/s]"
      ]
     },
     "metadata": {},
     "output_type": "display_data"
    },
    {
     "name": "stdout",
     "output_type": "stream",
     "text": [
      "7.2247e+00 1.8062e+00\n",
      "4.7006e+00 1.1751e+00\n",
      "5.5616e+00 1.3904e+00\n",
      "5.6312e+00 1.4078e+00\n",
      "5.0439e+00 1.2610e+00\n",
      "6.8036e+00 1.7009e+00\n",
      "4.4663e+00 1.1166e+00\n",
      "train Loss: 44.7785\n"
     ]
    },
    {
     "data": {
      "application/vnd.jupyter.widget-view+json": {
       "model_id": "1c2df3c1b30747239c9b321fa45b5d2d",
       "version_major": 2,
       "version_minor": 0
      },
      "text/plain": [
       "  0%|          | 0/2 [00:00<?, ?it/s]"
      ]
     },
     "metadata": {},
     "output_type": "display_data"
    },
    {
     "name": "stdout",
     "output_type": "stream",
     "text": [
      "val Loss: 4.4052\n",
      "Learning Rate: 0.0007827577896959998\n",
      "Epoch 63/1000\n",
      "----------\n"
     ]
    },
    {
     "data": {
      "application/vnd.jupyter.widget-view+json": {
       "model_id": "21681d5592bb42bdbf623c4ec2980e7b",
       "version_major": 2,
       "version_minor": 0
      },
      "text/plain": [
       "  0%|          | 0/32 [00:00<?, ?it/s]"
      ]
     },
     "metadata": {},
     "output_type": "display_data"
    },
    {
     "name": "stdout",
     "output_type": "stream",
     "text": [
      "4.3820e+00 1.0955e+00\n",
      "7.5966e+00 1.8991e+00\n",
      "3.9505e+00 9.8763e-01\n",
      "5.7173e+00 1.4293e+00\n",
      "4.4881e+00 1.1220e+00\n",
      "6.3250e+00 1.5812e+00\n",
      "3.4622e+00 8.6554e-01\n",
      "train Loss: 38.5088\n"
     ]
    },
    {
     "data": {
      "application/vnd.jupyter.widget-view+json": {
       "model_id": "cd84519548a54f5db26d8123ac3c3326",
       "version_major": 2,
       "version_minor": 0
      },
      "text/plain": [
       "  0%|          | 0/2 [00:00<?, ?it/s]"
      ]
     },
     "metadata": {},
     "output_type": "display_data"
    },
    {
     "name": "stdout",
     "output_type": "stream",
     "text": [
      "val Loss: 0.9330\n",
      "Learning Rate: 0.0007827577896959998\n",
      "Epoch 64/1000\n",
      "----------\n"
     ]
    },
    {
     "data": {
      "application/vnd.jupyter.widget-view+json": {
       "model_id": "ee231f3786854ad4babfee32eb7053e4",
       "version_major": 2,
       "version_minor": 0
      },
      "text/plain": [
       "  0%|          | 0/32 [00:00<?, ?it/s]"
      ]
     },
     "metadata": {},
     "output_type": "display_data"
    },
    {
     "name": "stdout",
     "output_type": "stream",
     "text": [
      "5.2156e+00 1.3039e+00\n",
      "8.6959e+00 2.1740e+00\n",
      "4.3293e+00 1.0823e+00\n",
      "5.6493e+00 1.4123e+00\n",
      "5.0045e+00 1.2511e+00\n",
      "5.3233e+00 1.3308e+00\n",
      "7.4058e+00 1.8514e+00\n",
      "train Loss: 46.8516\n"
     ]
    },
    {
     "data": {
      "application/vnd.jupyter.widget-view+json": {
       "model_id": "220273cb68f944fda164bded5d1b4085",
       "version_major": 2,
       "version_minor": 0
      },
      "text/plain": [
       "  0%|          | 0/2 [00:00<?, ?it/s]"
      ]
     },
     "metadata": {},
     "output_type": "display_data"
    },
    {
     "name": "stdout",
     "output_type": "stream",
     "text": [
      "val Loss: 0.4922\n",
      "Learning Rate: 0.0007827577896959998\n",
      "Epoch 65/1000\n",
      "----------\n"
     ]
    },
    {
     "data": {
      "application/vnd.jupyter.widget-view+json": {
       "model_id": "b9ec1abeede046b7bd3e2ea7b19cf09f",
       "version_major": 2,
       "version_minor": 0
      },
      "text/plain": [
       "  0%|          | 0/32 [00:00<?, ?it/s]"
      ]
     },
     "metadata": {},
     "output_type": "display_data"
    },
    {
     "name": "stdout",
     "output_type": "stream",
     "text": [
      "4.8543e+00 1.2136e+00\n",
      "4.5126e+00 1.1281e+00\n",
      "3.6706e+00 9.1764e-01\n",
      "8.1383e+00 2.0346e+00\n",
      "3.6859e+00 9.2148e-01\n",
      "6.2869e+00 1.5717e+00\n",
      "5.9598e+00 1.4900e+00\n",
      "train Loss: 41.4462\n"
     ]
    },
    {
     "data": {
      "application/vnd.jupyter.widget-view+json": {
       "model_id": "cbf19759c835484aadae5ea935a7adbf",
       "version_major": 2,
       "version_minor": 0
      },
      "text/plain": [
       "  0%|          | 0/2 [00:00<?, ?it/s]"
      ]
     },
     "metadata": {},
     "output_type": "display_data"
    },
    {
     "name": "stdout",
     "output_type": "stream",
     "text": [
      "val Loss: 2.3710\n",
      "Learning Rate: 0.0007827577896959998\n",
      "Epoch 66/1000\n",
      "----------\n"
     ]
    },
    {
     "data": {
      "application/vnd.jupyter.widget-view+json": {
       "model_id": "075a138ee60b483e8688bfaa82ef3232",
       "version_major": 2,
       "version_minor": 0
      },
      "text/plain": [
       "  0%|          | 0/32 [00:00<?, ?it/s]"
      ]
     },
     "metadata": {},
     "output_type": "display_data"
    },
    {
     "name": "stdout",
     "output_type": "stream",
     "text": [
      "4.0570e+00 1.0143e+00\n",
      "4.7600e+00 1.1900e+00\n",
      "7.7516e+00 1.9379e+00\n",
      "4.3777e+00 1.0944e+00\n",
      "1.0428e+01 2.6069e+00\n",
      "5.6864e+00 1.4216e+00\n",
      "5.3239e+00 1.3310e+00\n",
      "train Loss: 49.2016\n"
     ]
    },
    {
     "data": {
      "application/vnd.jupyter.widget-view+json": {
       "model_id": "d14f592ce5694f0d905e248a91bba51b",
       "version_major": 2,
       "version_minor": 0
      },
      "text/plain": [
       "  0%|          | 0/2 [00:00<?, ?it/s]"
      ]
     },
     "metadata": {},
     "output_type": "display_data"
    },
    {
     "name": "stdout",
     "output_type": "stream",
     "text": [
      "val Loss: 3.3639\n",
      "Learning Rate: 0.0007827577896959998\n",
      "Epoch 67/1000\n",
      "----------\n"
     ]
    },
    {
     "data": {
      "application/vnd.jupyter.widget-view+json": {
       "model_id": "d2c1d0db75df4040a6c5d8f40678e8da",
       "version_major": 2,
       "version_minor": 0
      },
      "text/plain": [
       "  0%|          | 0/32 [00:00<?, ?it/s]"
      ]
     },
     "metadata": {},
     "output_type": "display_data"
    },
    {
     "name": "stdout",
     "output_type": "stream",
     "text": [
      "6.8265e+00 1.7066e+00\n",
      "6.4032e+00 1.6008e+00\n",
      "3.4453e+00 8.6134e-01\n",
      "6.1703e+00 1.5426e+00\n",
      "4.5216e+00 1.1304e+00\n",
      "3.6990e+00 9.2476e-01\n",
      "9.6087e+00 2.4022e+00\n",
      "train Loss: 43.8123\n"
     ]
    },
    {
     "data": {
      "application/vnd.jupyter.widget-view+json": {
       "model_id": "660806419291410c8d309254976f3e8f",
       "version_major": 2,
       "version_minor": 0
      },
      "text/plain": [
       "  0%|          | 0/2 [00:00<?, ?it/s]"
      ]
     },
     "metadata": {},
     "output_type": "display_data"
    },
    {
     "name": "stdout",
     "output_type": "stream",
     "text": [
      "val Loss: 2.7427\n",
      "Learning Rate: 0.0007827577896959998\n",
      "Epoch 68/1000\n",
      "----------\n"
     ]
    },
    {
     "data": {
      "application/vnd.jupyter.widget-view+json": {
       "model_id": "0063b886267a4b9ab5e3348d73da140a",
       "version_major": 2,
       "version_minor": 0
      },
      "text/plain": [
       "  0%|          | 0/32 [00:00<?, ?it/s]"
      ]
     },
     "metadata": {},
     "output_type": "display_data"
    },
    {
     "name": "stdout",
     "output_type": "stream",
     "text": [
      "5.4336e+00 1.3584e+00\n",
      "6.1402e+00 1.5351e+00\n",
      "5.4572e+00 1.3643e+00\n",
      "8.6331e+00 2.1583e+00\n",
      "5.5266e+00 1.3816e+00\n",
      "7.8105e+00 1.9526e+00\n",
      "8.5841e+00 2.1460e+00\n",
      "train Loss: 49.8194\n"
     ]
    },
    {
     "data": {
      "application/vnd.jupyter.widget-view+json": {
       "model_id": "ce00478c990d459bb778736c2495f0fe",
       "version_major": 2,
       "version_minor": 0
      },
      "text/plain": [
       "  0%|          | 0/2 [00:00<?, ?it/s]"
      ]
     },
     "metadata": {},
     "output_type": "display_data"
    },
    {
     "name": "stdout",
     "output_type": "stream",
     "text": [
      "val Loss: 2.5072\n",
      "Learning Rate: 0.0007827577896959998\n",
      "Epoch 69/1000\n",
      "----------\n"
     ]
    },
    {
     "data": {
      "application/vnd.jupyter.widget-view+json": {
       "model_id": "a357f168a0da49aa8e6641f2ea38c87c",
       "version_major": 2,
       "version_minor": 0
      },
      "text/plain": [
       "  0%|          | 0/32 [00:00<?, ?it/s]"
      ]
     },
     "metadata": {},
     "output_type": "display_data"
    },
    {
     "name": "stdout",
     "output_type": "stream",
     "text": [
      "5.7513e+00 1.4378e+00\n",
      "5.4510e+00 1.3628e+00\n",
      "4.7137e+00 1.1784e+00\n",
      "4.2320e+00 1.0580e+00\n",
      "6.3491e+00 1.5873e+00\n",
      "4.9680e+00 1.2420e+00\n",
      "7.2662e+00 1.8165e+00\n",
      "train Loss: 43.8539\n"
     ]
    },
    {
     "data": {
      "application/vnd.jupyter.widget-view+json": {
       "model_id": "fd06c55f833348b58e4e02b4b14c8059",
       "version_major": 2,
       "version_minor": 0
      },
      "text/plain": [
       "  0%|          | 0/2 [00:00<?, ?it/s]"
      ]
     },
     "metadata": {},
     "output_type": "display_data"
    },
    {
     "name": "stdout",
     "output_type": "stream",
     "text": [
      "val Loss: 6.5069\n",
      "Learning Rate: 0.0007827577896959998\n",
      "Epoch 70/1000\n",
      "----------\n"
     ]
    },
    {
     "data": {
      "application/vnd.jupyter.widget-view+json": {
       "model_id": "76ae9afd5754474fbb39ed8f6507a401",
       "version_major": 2,
       "version_minor": 0
      },
      "text/plain": [
       "  0%|          | 0/32 [00:00<?, ?it/s]"
      ]
     },
     "metadata": {},
     "output_type": "display_data"
    },
    {
     "name": "stdout",
     "output_type": "stream",
     "text": [
      "7.1038e+00 1.7759e+00\n",
      "4.3845e+00 1.0961e+00\n",
      "4.9056e+00 1.2264e+00\n",
      "4.7749e+00 1.1937e+00\n",
      "3.7982e+00 9.4954e-01\n",
      "6.5482e+00 1.6371e+00\n",
      "3.1281e+00 7.8202e-01\n",
      "train Loss: 39.9185\n"
     ]
    },
    {
     "data": {
      "application/vnd.jupyter.widget-view+json": {
       "model_id": "6bd5c7d7fb9d42ffa7baadad66fd33d6",
       "version_major": 2,
       "version_minor": 0
      },
      "text/plain": [
       "  0%|          | 0/2 [00:00<?, ?it/s]"
      ]
     },
     "metadata": {},
     "output_type": "display_data"
    },
    {
     "name": "stdout",
     "output_type": "stream",
     "text": [
      "val Loss: 0.6554\n",
      "Learning Rate: 0.0007514474781081598\n",
      "Epoch 71/1000\n",
      "----------\n"
     ]
    },
    {
     "data": {
      "application/vnd.jupyter.widget-view+json": {
       "model_id": "b7ffbab081fa4d3c89c82d78f4c4c217",
       "version_major": 2,
       "version_minor": 0
      },
      "text/plain": [
       "  0%|          | 0/32 [00:00<?, ?it/s]"
      ]
     },
     "metadata": {},
     "output_type": "display_data"
    },
    {
     "name": "stdout",
     "output_type": "stream",
     "text": [
      "7.2598e+00 1.8150e+00\n",
      "5.3752e+00 1.3438e+00\n",
      "4.7347e+00 1.1837e+00\n",
      "4.7872e+00 1.1968e+00\n",
      "4.6355e+00 1.1589e+00\n",
      "4.6227e+00 1.1557e+00\n",
      "7.9810e+00 1.9952e+00\n",
      "train Loss: 42.6607\n"
     ]
    },
    {
     "data": {
      "application/vnd.jupyter.widget-view+json": {
       "model_id": "bb94d334041a4d2e9ae76101878f4507",
       "version_major": 2,
       "version_minor": 0
      },
      "text/plain": [
       "  0%|          | 0/2 [00:00<?, ?it/s]"
      ]
     },
     "metadata": {},
     "output_type": "display_data"
    },
    {
     "name": "stdout",
     "output_type": "stream",
     "text": [
      "val Loss: 3.0422\n",
      "Learning Rate: 0.0007514474781081598\n",
      "Epoch 72/1000\n",
      "----------\n"
     ]
    },
    {
     "data": {
      "application/vnd.jupyter.widget-view+json": {
       "model_id": "28764d58205448b38ce18c08e74a3881",
       "version_major": 2,
       "version_minor": 0
      },
      "text/plain": [
       "  0%|          | 0/32 [00:00<?, ?it/s]"
      ]
     },
     "metadata": {},
     "output_type": "display_data"
    },
    {
     "name": "stdout",
     "output_type": "stream",
     "text": [
      "5.6505e+00 1.4126e+00\n",
      "3.5895e+00 8.9737e-01\n",
      "1.8063e+00 4.5157e-01\n",
      "6.8374e+00 1.7093e+00\n",
      "5.0899e+00 1.2725e+00\n",
      "4.9642e+00 1.2411e+00\n",
      "7.3021e+00 1.8255e+00\n",
      "train Loss: 39.3712\n"
     ]
    },
    {
     "data": {
      "application/vnd.jupyter.widget-view+json": {
       "model_id": "5e640b959cf6471a93d9b61c86311179",
       "version_major": 2,
       "version_minor": 0
      },
      "text/plain": [
       "  0%|          | 0/2 [00:00<?, ?it/s]"
      ]
     },
     "metadata": {},
     "output_type": "display_data"
    },
    {
     "name": "stdout",
     "output_type": "stream",
     "text": [
      "val Loss: 0.3648\n",
      "Learning Rate: 0.0007514474781081598\n",
      "Epoch 73/1000\n",
      "----------\n"
     ]
    },
    {
     "data": {
      "application/vnd.jupyter.widget-view+json": {
       "model_id": "1d17914f4c9c4aef88d4dd45552dc5c7",
       "version_major": 2,
       "version_minor": 0
      },
      "text/plain": [
       "  0%|          | 0/32 [00:00<?, ?it/s]"
      ]
     },
     "metadata": {},
     "output_type": "display_data"
    },
    {
     "name": "stdout",
     "output_type": "stream",
     "text": [
      "4.5354e+00 1.1338e+00\n",
      "6.1387e+00 1.5347e+00\n",
      "6.7223e+00 1.6806e+00\n",
      "2.8046e+00 7.0116e-01\n",
      "3.3807e+00 8.4518e-01\n",
      "6.1291e+00 1.5323e+00\n",
      "4.3991e+00 1.0998e+00\n",
      "train Loss: 37.6706\n"
     ]
    },
    {
     "data": {
      "application/vnd.jupyter.widget-view+json": {
       "model_id": "69322f3896b54521b78059e125ab7ba4",
       "version_major": 2,
       "version_minor": 0
      },
      "text/plain": [
       "  0%|          | 0/2 [00:00<?, ?it/s]"
      ]
     },
     "metadata": {},
     "output_type": "display_data"
    },
    {
     "name": "stdout",
     "output_type": "stream",
     "text": [
      "val Loss: 2.0415\n",
      "Learning Rate: 0.0007514474781081598\n",
      "Epoch 74/1000\n",
      "----------\n"
     ]
    },
    {
     "data": {
      "application/vnd.jupyter.widget-view+json": {
       "model_id": "7f93d053ed754f86b2d064c195e3ee5a",
       "version_major": 2,
       "version_minor": 0
      },
      "text/plain": [
       "  0%|          | 0/32 [00:00<?, ?it/s]"
      ]
     },
     "metadata": {},
     "output_type": "display_data"
    },
    {
     "name": "stdout",
     "output_type": "stream",
     "text": [
      "5.8344e+00 1.4586e+00\n",
      "4.5101e+00 1.1275e+00\n",
      "5.2881e+00 1.3220e+00\n",
      "3.2226e+00 8.0564e-01\n",
      "4.1212e+00 1.0303e+00\n",
      "5.4073e+00 1.3518e+00\n",
      "4.5204e+00 1.1301e+00\n",
      "train Loss: 36.8258\n"
     ]
    },
    {
     "data": {
      "application/vnd.jupyter.widget-view+json": {
       "model_id": "20bea26154604e69a19cfeb3e3403107",
       "version_major": 2,
       "version_minor": 0
      },
      "text/plain": [
       "  0%|          | 0/2 [00:00<?, ?it/s]"
      ]
     },
     "metadata": {},
     "output_type": "display_data"
    },
    {
     "name": "stdout",
     "output_type": "stream",
     "text": [
      "val Loss: 3.1792\n",
      "Learning Rate: 0.0007514474781081598\n",
      "Epoch 75/1000\n",
      "----------\n"
     ]
    },
    {
     "data": {
      "application/vnd.jupyter.widget-view+json": {
       "model_id": "af4222caf154430bac3a42a5d7482a77",
       "version_major": 2,
       "version_minor": 0
      },
      "text/plain": [
       "  0%|          | 0/32 [00:00<?, ?it/s]"
      ]
     },
     "metadata": {},
     "output_type": "display_data"
    },
    {
     "name": "stdout",
     "output_type": "stream",
     "text": [
      "5.2278e+00 1.3069e+00\n",
      "4.2849e+00 1.0712e+00\n",
      "6.6800e+00 1.6700e+00\n",
      "3.0660e+00 7.6651e-01\n",
      "8.9688e+00 2.2422e+00\n",
      "4.0917e+00 1.0229e+00\n",
      "5.9912e+00 1.4978e+00\n",
      "train Loss: 43.0180\n"
     ]
    },
    {
     "data": {
      "application/vnd.jupyter.widget-view+json": {
       "model_id": "b811d988525a47cf8f163ffc886960a8",
       "version_major": 2,
       "version_minor": 0
      },
      "text/plain": [
       "  0%|          | 0/2 [00:00<?, ?it/s]"
      ]
     },
     "metadata": {},
     "output_type": "display_data"
    },
    {
     "name": "stdout",
     "output_type": "stream",
     "text": [
      "val Loss: 8.9814\n",
      "Learning Rate: 0.0007514474781081598\n",
      "Epoch 76/1000\n",
      "----------\n"
     ]
    },
    {
     "data": {
      "application/vnd.jupyter.widget-view+json": {
       "model_id": "f8ea02d637c9420090385c88acc0b3fd",
       "version_major": 2,
       "version_minor": 0
      },
      "text/plain": [
       "  0%|          | 0/32 [00:00<?, ?it/s]"
      ]
     },
     "metadata": {},
     "output_type": "display_data"
    },
    {
     "name": "stdout",
     "output_type": "stream",
     "text": [
      "4.0017e+00 1.0004e+00\n",
      "1.6650e+00 4.1625e-01\n",
      "8.4757e+00 2.1189e+00\n",
      "6.8778e+00 1.7194e+00\n",
      "3.8342e+00 9.5854e-01\n",
      "5.9795e+00 1.4949e+00\n",
      "8.0548e+00 2.0137e+00\n",
      "train Loss: 40.5818\n"
     ]
    },
    {
     "data": {
      "application/vnd.jupyter.widget-view+json": {
       "model_id": "bf83e8958c46451ab6111893138b3ddb",
       "version_major": 2,
       "version_minor": 0
      },
      "text/plain": [
       "  0%|          | 0/2 [00:00<?, ?it/s]"
      ]
     },
     "metadata": {},
     "output_type": "display_data"
    },
    {
     "name": "stdout",
     "output_type": "stream",
     "text": [
      "val Loss: 3.4099\n",
      "Learning Rate: 0.0007514474781081598\n",
      "Epoch 77/1000\n",
      "----------\n"
     ]
    },
    {
     "data": {
      "application/vnd.jupyter.widget-view+json": {
       "model_id": "7414beaa64994e84ac27ddcd76dd78cb",
       "version_major": 2,
       "version_minor": 0
      },
      "text/plain": [
       "  0%|          | 0/32 [00:00<?, ?it/s]"
      ]
     },
     "metadata": {},
     "output_type": "display_data"
    },
    {
     "name": "stdout",
     "output_type": "stream",
     "text": [
      "3.7919e+00 9.4798e-01\n",
      "5.4831e+00 1.3708e+00\n",
      "6.4795e+00 1.6199e+00\n",
      "9.5027e+00 2.3757e+00\n",
      "2.7750e+00 6.9376e-01\n",
      "5.8884e+00 1.4721e+00\n",
      "5.1895e+00 1.2974e+00\n",
      "train Loss: 44.3602\n"
     ]
    },
    {
     "data": {
      "application/vnd.jupyter.widget-view+json": {
       "model_id": "9782fb094096476daf11c1dd0c4c0b73",
       "version_major": 2,
       "version_minor": 0
      },
      "text/plain": [
       "  0%|          | 0/2 [00:00<?, ?it/s]"
      ]
     },
     "metadata": {},
     "output_type": "display_data"
    },
    {
     "name": "stdout",
     "output_type": "stream",
     "text": [
      "val Loss: 2.1573\n",
      "Learning Rate: 0.0007514474781081598\n",
      "Epoch 78/1000\n",
      "----------\n"
     ]
    },
    {
     "data": {
      "application/vnd.jupyter.widget-view+json": {
       "model_id": "96d563b842564e9f8ebfcd0816344b5b",
       "version_major": 2,
       "version_minor": 0
      },
      "text/plain": [
       "  0%|          | 0/32 [00:00<?, ?it/s]"
      ]
     },
     "metadata": {},
     "output_type": "display_data"
    },
    {
     "name": "stdout",
     "output_type": "stream",
     "text": [
      "4.5199e+00 1.1300e+00\n",
      "7.7285e+00 1.9321e+00\n",
      "4.8909e+00 1.2227e+00\n",
      "3.9791e+00 9.9479e-01\n",
      "5.1525e+00 1.2881e+00\n",
      "2.8053e+00 7.0131e-01\n",
      "3.8725e+00 9.6813e-01\n",
      "train Loss: 35.2722\n"
     ]
    },
    {
     "data": {
      "application/vnd.jupyter.widget-view+json": {
       "model_id": "d188ac5a2bfa4c52ac4bba6025fba082",
       "version_major": 2,
       "version_minor": 0
      },
      "text/plain": [
       "  0%|          | 0/2 [00:00<?, ?it/s]"
      ]
     },
     "metadata": {},
     "output_type": "display_data"
    },
    {
     "name": "stdout",
     "output_type": "stream",
     "text": [
      "val Loss: 0.8155\n",
      "Learning Rate: 0.0007514474781081598\n",
      "Epoch 79/1000\n",
      "----------\n"
     ]
    },
    {
     "data": {
      "application/vnd.jupyter.widget-view+json": {
       "model_id": "402f7391773d4a5fa4f5bafbf65c415f",
       "version_major": 2,
       "version_minor": 0
      },
      "text/plain": [
       "  0%|          | 0/32 [00:00<?, ?it/s]"
      ]
     },
     "metadata": {},
     "output_type": "display_data"
    },
    {
     "name": "stdout",
     "output_type": "stream",
     "text": [
      "8.6517e+00 2.1629e+00\n",
      "6.7345e+00 1.6836e+00\n",
      "4.0544e+00 1.0136e+00\n",
      "4.9562e+00 1.2391e+00\n",
      "5.2481e+00 1.3120e+00\n",
      "8.4588e+00 2.1147e+00\n",
      "5.4303e+00 1.3576e+00\n",
      "train Loss: 48.1948\n"
     ]
    },
    {
     "data": {
      "application/vnd.jupyter.widget-view+json": {
       "model_id": "6f6169e68f03487ca6f95eb056898381",
       "version_major": 2,
       "version_minor": 0
      },
      "text/plain": [
       "  0%|          | 0/2 [00:00<?, ?it/s]"
      ]
     },
     "metadata": {},
     "output_type": "display_data"
    },
    {
     "name": "stdout",
     "output_type": "stream",
     "text": [
      "val Loss: 1.7371\n",
      "Learning Rate: 0.0007514474781081598\n",
      "Epoch 80/1000\n",
      "----------\n"
     ]
    },
    {
     "data": {
      "application/vnd.jupyter.widget-view+json": {
       "model_id": "237bee115c194c468bda68a90b9c5b2c",
       "version_major": 2,
       "version_minor": 0
      },
      "text/plain": [
       "  0%|          | 0/32 [00:00<?, ?it/s]"
      ]
     },
     "metadata": {},
     "output_type": "display_data"
    },
    {
     "name": "stdout",
     "output_type": "stream",
     "text": [
      "7.9359e+00 1.9840e+00\n",
      "5.8066e+00 1.4517e+00\n",
      "5.8123e+00 1.4531e+00\n",
      "6.2599e+00 1.5650e+00\n",
      "4.4544e+00 1.1136e+00\n",
      "5.1217e+00 1.2804e+00\n",
      "5.3114e+00 1.3278e+00\n",
      "train Loss: 44.4383\n"
     ]
    },
    {
     "data": {
      "application/vnd.jupyter.widget-view+json": {
       "model_id": "25e65b91af80478eb67fa635221721cb",
       "version_major": 2,
       "version_minor": 0
      },
      "text/plain": [
       "  0%|          | 0/2 [00:00<?, ?it/s]"
      ]
     },
     "metadata": {},
     "output_type": "display_data"
    },
    {
     "name": "stdout",
     "output_type": "stream",
     "text": [
      "val Loss: 0.5504\n",
      "Learning Rate: 0.0007213895789838333\n",
      "Epoch 81/1000\n",
      "----------\n"
     ]
    },
    {
     "data": {
      "application/vnd.jupyter.widget-view+json": {
       "model_id": "9825783aaa1e433697af98b427d7e776",
       "version_major": 2,
       "version_minor": 0
      },
      "text/plain": [
       "  0%|          | 0/32 [00:00<?, ?it/s]"
      ]
     },
     "metadata": {},
     "output_type": "display_data"
    },
    {
     "name": "stdout",
     "output_type": "stream",
     "text": [
      "9.9190e+00 2.4798e+00\n",
      "4.9799e+00 1.2450e+00\n",
      "6.5489e+00 1.6372e+00\n",
      "4.2997e+00 1.0749e+00\n",
      "4.1688e+00 1.0422e+00\n",
      "4.4463e+00 1.1116e+00\n",
      "5.1302e+00 1.2826e+00\n",
      "train Loss: 43.8357\n"
     ]
    },
    {
     "data": {
      "application/vnd.jupyter.widget-view+json": {
       "model_id": "2240dcdbb3e84b66ac41c877c0dde278",
       "version_major": 2,
       "version_minor": 0
      },
      "text/plain": [
       "  0%|          | 0/2 [00:00<?, ?it/s]"
      ]
     },
     "metadata": {},
     "output_type": "display_data"
    },
    {
     "name": "stdout",
     "output_type": "stream",
     "text": [
      "val Loss: 5.0503\n",
      "Learning Rate: 0.0007213895789838333\n",
      "Epoch 82/1000\n",
      "----------\n"
     ]
    },
    {
     "data": {
      "application/vnd.jupyter.widget-view+json": {
       "model_id": "9a69b13aed884b28ab81230edf11e554",
       "version_major": 2,
       "version_minor": 0
      },
      "text/plain": [
       "  0%|          | 0/32 [00:00<?, ?it/s]"
      ]
     },
     "metadata": {},
     "output_type": "display_data"
    },
    {
     "name": "stdout",
     "output_type": "stream",
     "text": [
      "4.9475e+00 1.2369e+00\n",
      "4.5611e+00 1.1403e+00\n",
      "6.5139e+00 1.6285e+00\n",
      "3.0963e+00 7.7407e-01\n",
      "4.6205e+00 1.1551e+00\n",
      "7.6974e+00 1.9243e+00\n",
      "6.6416e+00 1.6604e+00\n",
      "train Loss: 41.2862\n"
     ]
    },
    {
     "data": {
      "application/vnd.jupyter.widget-view+json": {
       "model_id": "7f1078e86be4453886d9b2e996bcd334",
       "version_major": 2,
       "version_minor": 0
      },
      "text/plain": [
       "  0%|          | 0/2 [00:00<?, ?it/s]"
      ]
     },
     "metadata": {},
     "output_type": "display_data"
    },
    {
     "name": "stdout",
     "output_type": "stream",
     "text": [
      "val Loss: 0.5711\n",
      "Learning Rate: 0.0007213895789838333\n",
      "Epoch 83/1000\n",
      "----------\n"
     ]
    },
    {
     "data": {
      "application/vnd.jupyter.widget-view+json": {
       "model_id": "052a585f872a4265ace73bcc0abe47c4",
       "version_major": 2,
       "version_minor": 0
      },
      "text/plain": [
       "  0%|          | 0/32 [00:00<?, ?it/s]"
      ]
     },
     "metadata": {},
     "output_type": "display_data"
    },
    {
     "name": "stdout",
     "output_type": "stream",
     "text": [
      "6.7125e+00 1.6781e+00\n",
      "6.7685e+00 1.6921e+00\n",
      "6.9157e+00 1.7289e+00\n",
      "3.5419e+00 8.8548e-01\n",
      "3.8595e+00 9.6488e-01\n",
      "7.3213e+00 1.8303e+00\n",
      "4.2079e+00 1.0520e+00\n",
      "train Loss: 46.1955\n"
     ]
    },
    {
     "data": {
      "application/vnd.jupyter.widget-view+json": {
       "model_id": "2ca91dd5a9254f369d5f3e82ccc9e7f4",
       "version_major": 2,
       "version_minor": 0
      },
      "text/plain": [
       "  0%|          | 0/2 [00:00<?, ?it/s]"
      ]
     },
     "metadata": {},
     "output_type": "display_data"
    },
    {
     "name": "stdout",
     "output_type": "stream",
     "text": [
      "val Loss: 0.3666\n",
      "Learning Rate: 0.0007213895789838333\n",
      "Epoch 84/1000\n",
      "----------\n"
     ]
    },
    {
     "data": {
      "application/vnd.jupyter.widget-view+json": {
       "model_id": "220e43e8e2b14899b4aa55409e490809",
       "version_major": 2,
       "version_minor": 0
      },
      "text/plain": [
       "  0%|          | 0/32 [00:00<?, ?it/s]"
      ]
     },
     "metadata": {},
     "output_type": "display_data"
    },
    {
     "name": "stdout",
     "output_type": "stream",
     "text": [
      "5.7628e+00 1.4407e+00\n",
      "4.9426e+00 1.2356e+00\n",
      "6.0766e+00 1.5191e+00\n",
      "4.8877e+00 1.2219e+00\n",
      "5.5264e+00 1.3816e+00\n",
      "5.2980e+00 1.3245e+00\n",
      "4.8976e+00 1.2244e+00\n",
      "train Loss: 42.1982\n"
     ]
    },
    {
     "data": {
      "application/vnd.jupyter.widget-view+json": {
       "model_id": "e700eb1479564884a8a03dc8316cdeaa",
       "version_major": 2,
       "version_minor": 0
      },
      "text/plain": [
       "  0%|          | 0/2 [00:00<?, ?it/s]"
      ]
     },
     "metadata": {},
     "output_type": "display_data"
    },
    {
     "name": "stdout",
     "output_type": "stream",
     "text": [
      "val Loss: 1.4193\n",
      "Learning Rate: 0.0007213895789838333\n",
      "Epoch 85/1000\n",
      "----------\n"
     ]
    },
    {
     "data": {
      "application/vnd.jupyter.widget-view+json": {
       "model_id": "99c9790ea29d4c9cb367000d7b33c52a",
       "version_major": 2,
       "version_minor": 0
      },
      "text/plain": [
       "  0%|          | 0/32 [00:00<?, ?it/s]"
      ]
     },
     "metadata": {},
     "output_type": "display_data"
    },
    {
     "name": "stdout",
     "output_type": "stream",
     "text": [
      "7.6887e+00 1.9222e+00\n",
      "6.3908e+00 1.5977e+00\n",
      "2.5379e+00 6.3447e-01\n",
      "3.0271e+00 7.5677e-01\n",
      "3.3200e+00 8.2999e-01\n",
      "7.3096e+00 1.8274e+00\n",
      "5.7388e+00 1.4347e+00\n",
      "train Loss: 41.7811\n"
     ]
    },
    {
     "data": {
      "application/vnd.jupyter.widget-view+json": {
       "model_id": "77af8aeff89143428d800426854da133",
       "version_major": 2,
       "version_minor": 0
      },
      "text/plain": [
       "  0%|          | 0/2 [00:00<?, ?it/s]"
      ]
     },
     "metadata": {},
     "output_type": "display_data"
    },
    {
     "name": "stdout",
     "output_type": "stream",
     "text": [
      "val Loss: 3.4626\n",
      "Learning Rate: 0.0007213895789838333\n",
      "Epoch 86/1000\n",
      "----------\n"
     ]
    },
    {
     "data": {
      "application/vnd.jupyter.widget-view+json": {
       "model_id": "dbfe5bab98544265a101beb7d65680b8",
       "version_major": 2,
       "version_minor": 0
      },
      "text/plain": [
       "  0%|          | 0/32 [00:00<?, ?it/s]"
      ]
     },
     "metadata": {},
     "output_type": "display_data"
    },
    {
     "name": "stdout",
     "output_type": "stream",
     "text": [
      "7.2432e+00 1.8108e+00\n",
      "5.1634e+00 1.2908e+00\n",
      "3.7011e+00 9.2526e-01\n",
      "6.9079e+00 1.7270e+00\n",
      "7.2412e+00 1.8103e+00\n",
      "5.0576e+00 1.2644e+00\n",
      "2.7692e+00 6.9230e-01\n",
      "train Loss: 41.9491\n"
     ]
    },
    {
     "data": {
      "application/vnd.jupyter.widget-view+json": {
       "model_id": "182516fb21554e598d09c4216e0e1d58",
       "version_major": 2,
       "version_minor": 0
      },
      "text/plain": [
       "  0%|          | 0/2 [00:00<?, ?it/s]"
      ]
     },
     "metadata": {},
     "output_type": "display_data"
    },
    {
     "name": "stdout",
     "output_type": "stream",
     "text": [
      "val Loss: 0.7741\n",
      "Learning Rate: 0.0007213895789838333\n",
      "Epoch 87/1000\n",
      "----------\n"
     ]
    },
    {
     "data": {
      "application/vnd.jupyter.widget-view+json": {
       "model_id": "83c05bace5b74d1183aaa71edd01d7db",
       "version_major": 2,
       "version_minor": 0
      },
      "text/plain": [
       "  0%|          | 0/32 [00:00<?, ?it/s]"
      ]
     },
     "metadata": {},
     "output_type": "display_data"
    },
    {
     "name": "stdout",
     "output_type": "stream",
     "text": [
      "7.2596e+00 1.8149e+00\n",
      "5.4235e+00 1.3559e+00\n",
      "3.9960e+00 9.9900e-01\n",
      "5.1661e+00 1.2915e+00\n",
      "4.3417e+00 1.0854e+00\n",
      "7.7283e+00 1.9321e+00\n",
      "8.5149e+00 2.1287e+00\n",
      "train Loss: 46.8189\n"
     ]
    },
    {
     "data": {
      "application/vnd.jupyter.widget-view+json": {
       "model_id": "11bbf45df15a45df916c3147c452422a",
       "version_major": 2,
       "version_minor": 0
      },
      "text/plain": [
       "  0%|          | 0/2 [00:00<?, ?it/s]"
      ]
     },
     "metadata": {},
     "output_type": "display_data"
    },
    {
     "name": "stdout",
     "output_type": "stream",
     "text": [
      "val Loss: 4.1921\n",
      "Learning Rate: 0.0007213895789838333\n",
      "Epoch 88/1000\n",
      "----------\n"
     ]
    },
    {
     "data": {
      "application/vnd.jupyter.widget-view+json": {
       "model_id": "dc6d83aaa2e54e26ac10309263176a42",
       "version_major": 2,
       "version_minor": 0
      },
      "text/plain": [
       "  0%|          | 0/32 [00:00<?, ?it/s]"
      ]
     },
     "metadata": {},
     "output_type": "display_data"
    },
    {
     "name": "stdout",
     "output_type": "stream",
     "text": [
      "6.3255e+00 1.5814e+00\n",
      "5.1954e+00 1.2989e+00\n",
      "7.9095e+00 1.9774e+00\n",
      "5.0937e+00 1.2734e+00\n",
      "8.0544e+00 2.0136e+00\n",
      "3.8329e+00 9.5824e-01\n",
      "3.6471e+00 9.1179e-01\n",
      "train Loss: 44.0775\n"
     ]
    },
    {
     "data": {
      "application/vnd.jupyter.widget-view+json": {
       "model_id": "ac11f55857de405484ab7ff36885e456",
       "version_major": 2,
       "version_minor": 0
      },
      "text/plain": [
       "  0%|          | 0/2 [00:00<?, ?it/s]"
      ]
     },
     "metadata": {},
     "output_type": "display_data"
    },
    {
     "name": "stdout",
     "output_type": "stream",
     "text": [
      "val Loss: 6.7955\n",
      "Learning Rate: 0.0007213895789838333\n",
      "Epoch 89/1000\n",
      "----------\n"
     ]
    },
    {
     "data": {
      "application/vnd.jupyter.widget-view+json": {
       "model_id": "d9a0734116f34f64b6bcb901cce8a75f",
       "version_major": 2,
       "version_minor": 0
      },
      "text/plain": [
       "  0%|          | 0/32 [00:00<?, ?it/s]"
      ]
     },
     "metadata": {},
     "output_type": "display_data"
    },
    {
     "name": "stdout",
     "output_type": "stream",
     "text": [
      "5.1063e+00 1.2766e+00\n",
      "5.3374e+00 1.3343e+00\n",
      "7.3377e+00 1.8344e+00\n",
      "5.0168e+00 1.2542e+00\n",
      "7.7665e+00 1.9416e+00\n",
      "4.1886e+00 1.0471e+00\n",
      "4.1165e+00 1.0291e+00\n",
      "train Loss: 42.2764\n"
     ]
    },
    {
     "data": {
      "application/vnd.jupyter.widget-view+json": {
       "model_id": "73c17a9ae3e446c18243f16b132a903c",
       "version_major": 2,
       "version_minor": 0
      },
      "text/plain": [
       "  0%|          | 0/2 [00:00<?, ?it/s]"
      ]
     },
     "metadata": {},
     "output_type": "display_data"
    },
    {
     "name": "stdout",
     "output_type": "stream",
     "text": [
      "val Loss: 6.4110\n",
      "Learning Rate: 0.0007213895789838333\n",
      "Epoch 90/1000\n",
      "----------\n"
     ]
    },
    {
     "data": {
      "application/vnd.jupyter.widget-view+json": {
       "model_id": "35a6648b72ea40518f7cb1d2fe82b6e4",
       "version_major": 2,
       "version_minor": 0
      },
      "text/plain": [
       "  0%|          | 0/32 [00:00<?, ?it/s]"
      ]
     },
     "metadata": {},
     "output_type": "display_data"
    },
    {
     "name": "stdout",
     "output_type": "stream",
     "text": [
      "6.7578e+00 1.6895e+00\n",
      "4.7762e+00 1.1940e+00\n",
      "1.7165e+00 4.2913e-01\n",
      "5.1954e+00 1.2989e+00\n",
      "6.1596e+00 1.5399e+00\n",
      "4.9354e+00 1.2338e+00\n",
      "2.8173e+00 7.0432e-01\n",
      "train Loss: 35.6511\n"
     ]
    },
    {
     "data": {
      "application/vnd.jupyter.widget-view+json": {
       "model_id": "3c03ef923e6c4db7806e1b43d6765ac0",
       "version_major": 2,
       "version_minor": 0
      },
      "text/plain": [
       "  0%|          | 0/2 [00:00<?, ?it/s]"
      ]
     },
     "metadata": {},
     "output_type": "display_data"
    },
    {
     "name": "stdout",
     "output_type": "stream",
     "text": [
      "val Loss: 17.8870\n",
      "Learning Rate: 0.00069253399582448\n",
      "Epoch 91/1000\n",
      "----------\n"
     ]
    },
    {
     "data": {
      "application/vnd.jupyter.widget-view+json": {
       "model_id": "d403cbb51d6c4caa8c2df8f9a0045612",
       "version_major": 2,
       "version_minor": 0
      },
      "text/plain": [
       "  0%|          | 0/32 [00:00<?, ?it/s]"
      ]
     },
     "metadata": {},
     "output_type": "display_data"
    },
    {
     "name": "stdout",
     "output_type": "stream",
     "text": [
      "5.3792e+00 1.3448e+00\n",
      "8.6173e+00 2.1543e+00\n",
      "3.6999e+00 9.2498e-01\n",
      "5.4121e+00 1.3530e+00\n",
      "6.2360e+00 1.5590e+00\n",
      "2.9342e+00 7.3355e-01\n",
      "2.0450e+00 5.1126e-01\n",
      "train Loss: 37.5563\n"
     ]
    },
    {
     "data": {
      "application/vnd.jupyter.widget-view+json": {
       "model_id": "766435280a6a4148a1d9f2dff4ed4203",
       "version_major": 2,
       "version_minor": 0
      },
      "text/plain": [
       "  0%|          | 0/2 [00:00<?, ?it/s]"
      ]
     },
     "metadata": {},
     "output_type": "display_data"
    },
    {
     "name": "stdout",
     "output_type": "stream",
     "text": [
      "val Loss: 3.1701\n",
      "Learning Rate: 0.00069253399582448\n",
      "Epoch 92/1000\n",
      "----------\n"
     ]
    },
    {
     "data": {
      "application/vnd.jupyter.widget-view+json": {
       "model_id": "faa1f6164efe46e29bc9983ed1983dc1",
       "version_major": 2,
       "version_minor": 0
      },
      "text/plain": [
       "  0%|          | 0/32 [00:00<?, ?it/s]"
      ]
     },
     "metadata": {},
     "output_type": "display_data"
    },
    {
     "name": "stdout",
     "output_type": "stream",
     "text": [
      "1.0778e+01 2.6946e+00\n",
      "4.2148e+00 1.0537e+00\n",
      "6.2796e+00 1.5699e+00\n",
      "6.2820e+00 1.5705e+00\n",
      "5.5966e+00 1.3992e+00\n",
      "4.0835e+00 1.0209e+00\n",
      "5.0020e+00 1.2505e+00\n",
      "train Loss: 46.3174\n"
     ]
    },
    {
     "data": {
      "application/vnd.jupyter.widget-view+json": {
       "model_id": "797f838389a940009c79908d530832ba",
       "version_major": 2,
       "version_minor": 0
      },
      "text/plain": [
       "  0%|          | 0/2 [00:00<?, ?it/s]"
      ]
     },
     "metadata": {},
     "output_type": "display_data"
    },
    {
     "name": "stdout",
     "output_type": "stream",
     "text": [
      "val Loss: 3.3818\n",
      "Learning Rate: 0.00069253399582448\n",
      "Epoch 93/1000\n",
      "----------\n"
     ]
    },
    {
     "data": {
      "application/vnd.jupyter.widget-view+json": {
       "model_id": "e39b0fbe825146c6b759e4c6101333ac",
       "version_major": 2,
       "version_minor": 0
      },
      "text/plain": [
       "  0%|          | 0/32 [00:00<?, ?it/s]"
      ]
     },
     "metadata": {},
     "output_type": "display_data"
    },
    {
     "name": "stdout",
     "output_type": "stream",
     "text": [
      "5.2689e+00 1.3172e+00\n",
      "6.4710e+00 1.6178e+00\n",
      "7.9361e+00 1.9840e+00\n",
      "4.9017e+00 1.2254e+00\n",
      "6.2000e+00 1.5500e+00\n",
      "5.5336e+00 1.3834e+00\n",
      "4.5730e+00 1.1432e+00\n",
      "train Loss: 45.2712\n"
     ]
    },
    {
     "data": {
      "application/vnd.jupyter.widget-view+json": {
       "model_id": "284f67cb25594f33a1c7893c1af016b9",
       "version_major": 2,
       "version_minor": 0
      },
      "text/plain": [
       "  0%|          | 0/2 [00:00<?, ?it/s]"
      ]
     },
     "metadata": {},
     "output_type": "display_data"
    },
    {
     "name": "stdout",
     "output_type": "stream",
     "text": [
      "val Loss: 4.7529\n",
      "Learning Rate: 0.00069253399582448\n",
      "Epoch 94/1000\n",
      "----------\n"
     ]
    },
    {
     "data": {
      "application/vnd.jupyter.widget-view+json": {
       "model_id": "71479744bcca47959eee95919969cb15",
       "version_major": 2,
       "version_minor": 0
      },
      "text/plain": [
       "  0%|          | 0/32 [00:00<?, ?it/s]"
      ]
     },
     "metadata": {},
     "output_type": "display_data"
    },
    {
     "name": "stdout",
     "output_type": "stream",
     "text": [
      "6.0510e+00 1.5127e+00\n",
      "4.4836e+00 1.1209e+00\n",
      "3.4539e+00 8.6347e-01\n",
      "4.5631e+00 1.1408e+00\n",
      "7.1403e+00 1.7851e+00\n",
      "3.9991e+00 9.9977e-01\n",
      "6.8075e+00 1.7019e+00\n",
      "train Loss: 42.0924\n"
     ]
    },
    {
     "data": {
      "application/vnd.jupyter.widget-view+json": {
       "model_id": "39823fe0c5e74347842e08322a63467d",
       "version_major": 2,
       "version_minor": 0
      },
      "text/plain": [
       "  0%|          | 0/2 [00:00<?, ?it/s]"
      ]
     },
     "metadata": {},
     "output_type": "display_data"
    },
    {
     "name": "stdout",
     "output_type": "stream",
     "text": [
      "val Loss: 0.4962\n",
      "Learning Rate: 0.00069253399582448\n",
      "Epoch 95/1000\n",
      "----------\n"
     ]
    },
    {
     "data": {
      "application/vnd.jupyter.widget-view+json": {
       "model_id": "c86b887404954f60ab24f0fcb838d1f1",
       "version_major": 2,
       "version_minor": 0
      },
      "text/plain": [
       "  0%|          | 0/32 [00:00<?, ?it/s]"
      ]
     },
     "metadata": {},
     "output_type": "display_data"
    },
    {
     "name": "stdout",
     "output_type": "stream",
     "text": [
      "7.5939e+00 1.8985e+00\n",
      "4.6040e+00 1.1510e+00\n",
      "4.4158e+00 1.1039e+00\n",
      "5.8010e+00 1.4503e+00\n",
      "3.8872e+00 9.7179e-01\n",
      "4.9903e+00 1.2476e+00\n",
      "7.8436e+00 1.9609e+00\n",
      "train Loss: 42.9359\n"
     ]
    },
    {
     "data": {
      "application/vnd.jupyter.widget-view+json": {
       "model_id": "1d499f6de67248a2a60ab3a029ee6e54",
       "version_major": 2,
       "version_minor": 0
      },
      "text/plain": [
       "  0%|          | 0/2 [00:00<?, ?it/s]"
      ]
     },
     "metadata": {},
     "output_type": "display_data"
    },
    {
     "name": "stdout",
     "output_type": "stream",
     "text": [
      "val Loss: 1.5292\n",
      "Learning Rate: 0.00069253399582448\n",
      "Epoch 96/1000\n",
      "----------\n"
     ]
    },
    {
     "data": {
      "application/vnd.jupyter.widget-view+json": {
       "model_id": "cc1b1e0883b6491f823fe9c478c83c5d",
       "version_major": 2,
       "version_minor": 0
      },
      "text/plain": [
       "  0%|          | 0/32 [00:00<?, ?it/s]"
      ]
     },
     "metadata": {},
     "output_type": "display_data"
    },
    {
     "name": "stdout",
     "output_type": "stream",
     "text": [
      "5.9170e+00 1.4793e+00\n",
      "4.4218e+00 1.1054e+00\n",
      "4.5429e+00 1.1357e+00\n",
      "5.2260e+00 1.3065e+00\n",
      "6.1066e+00 1.5267e+00\n",
      "4.8085e+00 1.2021e+00\n",
      "7.9400e+00 1.9850e+00\n",
      "train Loss: 41.5198\n"
     ]
    },
    {
     "data": {
      "application/vnd.jupyter.widget-view+json": {
       "model_id": "610e6aa6bde94930ba124457f90d29fd",
       "version_major": 2,
       "version_minor": 0
      },
      "text/plain": [
       "  0%|          | 0/2 [00:00<?, ?it/s]"
      ]
     },
     "metadata": {},
     "output_type": "display_data"
    },
    {
     "name": "stdout",
     "output_type": "stream",
     "text": [
      "val Loss: 6.3146\n",
      "Learning Rate: 0.00069253399582448\n",
      "Epoch 97/1000\n",
      "----------\n"
     ]
    },
    {
     "data": {
      "application/vnd.jupyter.widget-view+json": {
       "model_id": "829d0eaafcbe410ead2e005fc676aae8",
       "version_major": 2,
       "version_minor": 0
      },
      "text/plain": [
       "  0%|          | 0/32 [00:00<?, ?it/s]"
      ]
     },
     "metadata": {},
     "output_type": "display_data"
    },
    {
     "name": "stdout",
     "output_type": "stream",
     "text": [
      "5.2616e+00 1.3154e+00\n",
      "4.9119e+00 1.2280e+00\n",
      "3.8207e+00 9.5518e-01\n",
      "5.7853e+00 1.4463e+00\n",
      "5.1117e+00 1.2779e+00\n",
      "6.9570e+00 1.7393e+00\n",
      "4.3054e+00 1.0764e+00\n",
      "train Loss: 39.9745\n"
     ]
    },
    {
     "data": {
      "application/vnd.jupyter.widget-view+json": {
       "model_id": "33ecc990811f44acba324e5582633750",
       "version_major": 2,
       "version_minor": 0
      },
      "text/plain": [
       "  0%|          | 0/2 [00:00<?, ?it/s]"
      ]
     },
     "metadata": {},
     "output_type": "display_data"
    },
    {
     "name": "stdout",
     "output_type": "stream",
     "text": [
      "val Loss: 1.1338\n",
      "Learning Rate: 0.00069253399582448\n",
      "Epoch 98/1000\n",
      "----------\n"
     ]
    },
    {
     "data": {
      "application/vnd.jupyter.widget-view+json": {
       "model_id": "8c776db5744e4f4b8721d1845da60d90",
       "version_major": 2,
       "version_minor": 0
      },
      "text/plain": [
       "  0%|          | 0/32 [00:00<?, ?it/s]"
      ]
     },
     "metadata": {},
     "output_type": "display_data"
    },
    {
     "name": "stdout",
     "output_type": "stream",
     "text": [
      "4.3219e+00 1.0805e+00\n",
      "5.8168e+00 1.4542e+00\n",
      "6.6852e+00 1.6713e+00\n",
      "5.2092e+00 1.3023e+00\n",
      "3.9970e+00 9.9925e-01\n",
      "1.0300e+01 2.5749e+00\n",
      "5.0910e+00 1.2728e+00\n",
      "train Loss: 43.9790\n"
     ]
    },
    {
     "data": {
      "application/vnd.jupyter.widget-view+json": {
       "model_id": "8685fa9be77c434d8c82684ae5be61dc",
       "version_major": 2,
       "version_minor": 0
      },
      "text/plain": [
       "  0%|          | 0/2 [00:00<?, ?it/s]"
      ]
     },
     "metadata": {},
     "output_type": "display_data"
    },
    {
     "name": "stdout",
     "output_type": "stream",
     "text": [
      "val Loss: 5.5305\n",
      "Learning Rate: 0.00069253399582448\n",
      "Epoch 99/1000\n",
      "----------\n"
     ]
    },
    {
     "data": {
      "application/vnd.jupyter.widget-view+json": {
       "model_id": "ce2a8aadf9244d91a85428296e487f13",
       "version_major": 2,
       "version_minor": 0
      },
      "text/plain": [
       "  0%|          | 0/32 [00:00<?, ?it/s]"
      ]
     },
     "metadata": {},
     "output_type": "display_data"
    },
    {
     "name": "stdout",
     "output_type": "stream",
     "text": [
      "7.1096e+00 1.7774e+00\n",
      "5.4703e+00 1.3676e+00\n",
      "4.2889e+00 1.0722e+00\n",
      "5.4080e+00 1.3520e+00\n",
      "5.8732e+00 1.4683e+00\n",
      "4.6758e+00 1.1689e+00\n",
      "6.9576e+00 1.7394e+00\n",
      "train Loss: 44.7162\n"
     ]
    },
    {
     "data": {
      "application/vnd.jupyter.widget-view+json": {
       "model_id": "c685f454edee4177a3bc5e93e0bd5b0e",
       "version_major": 2,
       "version_minor": 0
      },
      "text/plain": [
       "  0%|          | 0/2 [00:00<?, ?it/s]"
      ]
     },
     "metadata": {},
     "output_type": "display_data"
    },
    {
     "name": "stdout",
     "output_type": "stream",
     "text": [
      "val Loss: 7.3044\n",
      "Learning Rate: 0.00069253399582448\n",
      "Epoch 100/1000\n",
      "----------\n"
     ]
    },
    {
     "data": {
      "application/vnd.jupyter.widget-view+json": {
       "model_id": "8bcc274f698b4c84b0edd766baa11918",
       "version_major": 2,
       "version_minor": 0
      },
      "text/plain": [
       "  0%|          | 0/32 [00:00<?, ?it/s]"
      ]
     },
     "metadata": {},
     "output_type": "display_data"
    },
    {
     "name": "stdout",
     "output_type": "stream",
     "text": [
      "6.2592e+00 1.5648e+00\n",
      "5.0290e+00 1.2573e+00\n",
      "5.0159e+00 1.2540e+00\n",
      "3.9240e+00 9.8099e-01\n",
      "3.5279e+00 8.8197e-01\n",
      "3.7926e+00 9.4815e-01\n",
      "6.7262e+00 1.6816e+00\n",
      "train Loss: 36.9269\n"
     ]
    },
    {
     "data": {
      "application/vnd.jupyter.widget-view+json": {
       "model_id": "a6070de6b26d4882bfee73e4f5b5e0e2",
       "version_major": 2,
       "version_minor": 0
      },
      "text/plain": [
       "  0%|          | 0/2 [00:00<?, ?it/s]"
      ]
     },
     "metadata": {},
     "output_type": "display_data"
    },
    {
     "name": "stdout",
     "output_type": "stream",
     "text": [
      "val Loss: 2.6987\n",
      "Learning Rate: 0.0006648326359915007\n",
      "Epoch 101/1000\n",
      "----------\n"
     ]
    },
    {
     "data": {
      "application/vnd.jupyter.widget-view+json": {
       "model_id": "fe1d049a2acc44df94541b3c1c41db42",
       "version_major": 2,
       "version_minor": 0
      },
      "text/plain": [
       "  0%|          | 0/32 [00:00<?, ?it/s]"
      ]
     },
     "metadata": {},
     "output_type": "display_data"
    },
    {
     "name": "stdout",
     "output_type": "stream",
     "text": [
      "9.3363e+00 2.3341e+00\n",
      "5.9717e+00 1.4929e+00\n",
      "5.4192e+00 1.3548e+00\n",
      "4.3383e+00 1.0846e+00\n",
      "5.2752e+00 1.3188e+00\n",
      "7.1932e+00 1.7983e+00\n",
      "4.3077e+00 1.0769e+00\n",
      "train Loss: 44.8216\n"
     ]
    },
    {
     "data": {
      "application/vnd.jupyter.widget-view+json": {
       "model_id": "ff5353cee90a4104be4d45119c8fbd81",
       "version_major": 2,
       "version_minor": 0
      },
      "text/plain": [
       "  0%|          | 0/2 [00:00<?, ?it/s]"
      ]
     },
     "metadata": {},
     "output_type": "display_data"
    },
    {
     "name": "stdout",
     "output_type": "stream",
     "text": [
      "val Loss: 1.2614\n",
      "Learning Rate: 0.0006648326359915007\n",
      "Epoch 102/1000\n",
      "----------\n"
     ]
    },
    {
     "data": {
      "application/vnd.jupyter.widget-view+json": {
       "model_id": "dc5d1899b7444abeb536e50015a75cf4",
       "version_major": 2,
       "version_minor": 0
      },
      "text/plain": [
       "  0%|          | 0/32 [00:00<?, ?it/s]"
      ]
     },
     "metadata": {},
     "output_type": "display_data"
    },
    {
     "name": "stdout",
     "output_type": "stream",
     "text": [
      "6.2526e+00 1.5631e+00\n",
      "3.3091e+00 8.2729e-01\n",
      "4.2135e+00 1.0534e+00\n",
      "5.4168e+00 1.3542e+00\n",
      "3.1280e+00 7.8200e-01\n",
      "5.9127e+00 1.4782e+00\n",
      "4.9791e+00 1.2448e+00\n",
      "train Loss: 40.0389\n"
     ]
    },
    {
     "data": {
      "application/vnd.jupyter.widget-view+json": {
       "model_id": "6cde0c485fd243a0b5ae2e81b939abf6",
       "version_major": 2,
       "version_minor": 0
      },
      "text/plain": [
       "  0%|          | 0/2 [00:00<?, ?it/s]"
      ]
     },
     "metadata": {},
     "output_type": "display_data"
    },
    {
     "name": "stdout",
     "output_type": "stream",
     "text": [
      "val Loss: 0.3215\n",
      "Learning Rate: 0.0006648326359915007\n",
      "Epoch 103/1000\n",
      "----------\n"
     ]
    },
    {
     "data": {
      "application/vnd.jupyter.widget-view+json": {
       "model_id": "cba97fdba7a94eb6a0096af829ba5c5d",
       "version_major": 2,
       "version_minor": 0
      },
      "text/plain": [
       "  0%|          | 0/32 [00:00<?, ?it/s]"
      ]
     },
     "metadata": {},
     "output_type": "display_data"
    },
    {
     "name": "stdout",
     "output_type": "stream",
     "text": [
      "7.6285e+00 1.9071e+00\n",
      "4.5971e+00 1.1493e+00\n",
      "5.5397e+00 1.3849e+00\n",
      "4.4521e+00 1.1130e+00\n",
      "4.7336e+00 1.1834e+00\n",
      "4.2994e+00 1.0749e+00\n",
      "6.6250e+00 1.6562e+00\n",
      "train Loss: 40.2273\n"
     ]
    },
    {
     "data": {
      "application/vnd.jupyter.widget-view+json": {
       "model_id": "5af4f02af4c54dbbbd2f7e65ca3e2688",
       "version_major": 2,
       "version_minor": 0
      },
      "text/plain": [
       "  0%|          | 0/2 [00:00<?, ?it/s]"
      ]
     },
     "metadata": {},
     "output_type": "display_data"
    },
    {
     "name": "stdout",
     "output_type": "stream",
     "text": [
      "val Loss: 12.9814\n",
      "Learning Rate: 0.0006648326359915007\n",
      "Epoch 104/1000\n",
      "----------\n"
     ]
    },
    {
     "data": {
      "application/vnd.jupyter.widget-view+json": {
       "model_id": "59e49e6abf384be39cff331d4bcaebae",
       "version_major": 2,
       "version_minor": 0
      },
      "text/plain": [
       "  0%|          | 0/32 [00:00<?, ?it/s]"
      ]
     },
     "metadata": {},
     "output_type": "display_data"
    },
    {
     "name": "stdout",
     "output_type": "stream",
     "text": [
      "6.1777e+00 1.5444e+00\n",
      "2.0774e+00 5.1935e-01\n",
      "5.8405e+00 1.4601e+00\n",
      "5.6390e+00 1.4098e+00\n",
      "2.9676e+00 7.4191e-01\n",
      "5.0336e+00 1.2584e+00\n",
      "4.9776e+00 1.2444e+00\n",
      "train Loss: 36.4073\n"
     ]
    },
    {
     "data": {
      "application/vnd.jupyter.widget-view+json": {
       "model_id": "53e8e1ccbf0a4b14be265dd48b332d81",
       "version_major": 2,
       "version_minor": 0
      },
      "text/plain": [
       "  0%|          | 0/2 [00:00<?, ?it/s]"
      ]
     },
     "metadata": {},
     "output_type": "display_data"
    },
    {
     "name": "stdout",
     "output_type": "stream",
     "text": [
      "val Loss: 0.9006\n",
      "Learning Rate: 0.0006648326359915007\n",
      "Epoch 105/1000\n",
      "----------\n"
     ]
    },
    {
     "data": {
      "application/vnd.jupyter.widget-view+json": {
       "model_id": "2c6a45eec9694d9795e46c85a5a983fb",
       "version_major": 2,
       "version_minor": 0
      },
      "text/plain": [
       "  0%|          | 0/32 [00:00<?, ?it/s]"
      ]
     },
     "metadata": {},
     "output_type": "display_data"
    },
    {
     "name": "stdout",
     "output_type": "stream",
     "text": [
      "4.7293e+00 1.1823e+00\n",
      "3.8031e+00 9.5078e-01\n",
      "3.3461e+00 8.3652e-01\n",
      "3.0318e+00 7.5794e-01\n",
      "6.9160e+00 1.7290e+00\n",
      "7.0140e+00 1.7535e+00\n",
      "2.5359e+00 6.3396e-01\n",
      "train Loss: 37.3426\n"
     ]
    },
    {
     "data": {
      "application/vnd.jupyter.widget-view+json": {
       "model_id": "b5ab6db89d3442dabb194d1b5df15dee",
       "version_major": 2,
       "version_minor": 0
      },
      "text/plain": [
       "  0%|          | 0/2 [00:00<?, ?it/s]"
      ]
     },
     "metadata": {},
     "output_type": "display_data"
    },
    {
     "name": "stdout",
     "output_type": "stream",
     "text": [
      "val Loss: 5.0262\n",
      "Learning Rate: 0.0006648326359915007\n",
      "Epoch 106/1000\n",
      "----------\n"
     ]
    },
    {
     "data": {
      "application/vnd.jupyter.widget-view+json": {
       "model_id": "e24bf36ca1ab437a9211e8d3d5226eeb",
       "version_major": 2,
       "version_minor": 0
      },
      "text/plain": [
       "  0%|          | 0/32 [00:00<?, ?it/s]"
      ]
     },
     "metadata": {},
     "output_type": "display_data"
    },
    {
     "name": "stdout",
     "output_type": "stream",
     "text": [
      "3.8702e+00 9.6755e-01\n",
      "3.9391e+00 9.8477e-01\n",
      "7.3815e+00 1.8454e+00\n",
      "6.2575e+00 1.5644e+00\n",
      "7.6564e+00 1.9141e+00\n",
      "4.2382e+00 1.0595e+00\n",
      "3.7439e+00 9.3597e-01\n",
      "train Loss: 38.8269\n"
     ]
    },
    {
     "data": {
      "application/vnd.jupyter.widget-view+json": {
       "model_id": "c7257b86cba94f15851668ee66eb5702",
       "version_major": 2,
       "version_minor": 0
      },
      "text/plain": [
       "  0%|          | 0/2 [00:00<?, ?it/s]"
      ]
     },
     "metadata": {},
     "output_type": "display_data"
    },
    {
     "name": "stdout",
     "output_type": "stream",
     "text": [
      "val Loss: 3.8653\n",
      "Learning Rate: 0.0006648326359915007\n",
      "Epoch 107/1000\n",
      "----------\n"
     ]
    },
    {
     "data": {
      "application/vnd.jupyter.widget-view+json": {
       "model_id": "cf9f2ee7b4c6410b9f88aa4bdb028f5a",
       "version_major": 2,
       "version_minor": 0
      },
      "text/plain": [
       "  0%|          | 0/32 [00:00<?, ?it/s]"
      ]
     },
     "metadata": {},
     "output_type": "display_data"
    },
    {
     "name": "stdout",
     "output_type": "stream",
     "text": [
      "6.5965e+00 1.6491e+00\n",
      "3.7508e+00 9.3771e-01\n",
      "1.9202e+00 4.8006e-01\n",
      "5.0173e+00 1.2543e+00\n",
      "6.2667e+00 1.5667e+00\n",
      "7.6470e+00 1.9118e+00\n",
      "7.6777e+00 1.9194e+00\n",
      "train Loss: 43.4400\n"
     ]
    },
    {
     "data": {
      "application/vnd.jupyter.widget-view+json": {
       "model_id": "e84b6b443b4844edb7e4334d975caf1b",
       "version_major": 2,
       "version_minor": 0
      },
      "text/plain": [
       "  0%|          | 0/2 [00:00<?, ?it/s]"
      ]
     },
     "metadata": {},
     "output_type": "display_data"
    },
    {
     "name": "stdout",
     "output_type": "stream",
     "text": [
      "val Loss: 1.8369\n",
      "Learning Rate: 0.0006648326359915007\n",
      "Epoch 108/1000\n",
      "----------\n"
     ]
    },
    {
     "data": {
      "application/vnd.jupyter.widget-view+json": {
       "model_id": "870fb2d66e744b20b90babed1f74bae7",
       "version_major": 2,
       "version_minor": 0
      },
      "text/plain": [
       "  0%|          | 0/32 [00:00<?, ?it/s]"
      ]
     },
     "metadata": {},
     "output_type": "display_data"
    },
    {
     "name": "stdout",
     "output_type": "stream",
     "text": [
      "5.7273e+00 1.4318e+00\n",
      "4.4898e+00 1.1224e+00\n",
      "5.4392e+00 1.3598e+00\n",
      "5.5925e+00 1.3981e+00\n",
      "4.2370e+00 1.0592e+00\n",
      "4.9602e+00 1.2400e+00\n",
      "5.5702e+00 1.3926e+00\n",
      "train Loss: 41.4477\n"
     ]
    },
    {
     "data": {
      "application/vnd.jupyter.widget-view+json": {
       "model_id": "9d35d905d7374031a3d5c275f5feb961",
       "version_major": 2,
       "version_minor": 0
      },
      "text/plain": [
       "  0%|          | 0/2 [00:00<?, ?it/s]"
      ]
     },
     "metadata": {},
     "output_type": "display_data"
    },
    {
     "name": "stdout",
     "output_type": "stream",
     "text": [
      "val Loss: 3.2817\n",
      "Learning Rate: 0.0006648326359915007\n",
      "Epoch 109/1000\n",
      "----------\n"
     ]
    },
    {
     "data": {
      "application/vnd.jupyter.widget-view+json": {
       "model_id": "a99ca4929f5f4f6887f8a4883887e1b1",
       "version_major": 2,
       "version_minor": 0
      },
      "text/plain": [
       "  0%|          | 0/32 [00:00<?, ?it/s]"
      ]
     },
     "metadata": {},
     "output_type": "display_data"
    },
    {
     "name": "stdout",
     "output_type": "stream",
     "text": [
      "5.5274e+00 1.3818e+00\n",
      "6.5151e+00 1.6288e+00\n",
      "1.6405e+00 4.1013e-01\n",
      "2.6096e+00 6.5239e-01\n",
      "4.8632e+00 1.2158e+00\n",
      "4.7518e+00 1.1880e+00\n",
      "5.2865e+00 1.3216e+00\n",
      "train Loss: 35.8461\n"
     ]
    },
    {
     "data": {
      "application/vnd.jupyter.widget-view+json": {
       "model_id": "bdf9afbc8553431c93ee547689a2de1a",
       "version_major": 2,
       "version_minor": 0
      },
      "text/plain": [
       "  0%|          | 0/2 [00:00<?, ?it/s]"
      ]
     },
     "metadata": {},
     "output_type": "display_data"
    },
    {
     "name": "stdout",
     "output_type": "stream",
     "text": [
      "val Loss: 1.0356\n",
      "Learning Rate: 0.0006648326359915007\n",
      "Epoch 110/1000\n",
      "----------\n"
     ]
    },
    {
     "data": {
      "application/vnd.jupyter.widget-view+json": {
       "model_id": "4d048bd4ee994a6390127342e3aad94c",
       "version_major": 2,
       "version_minor": 0
      },
      "text/plain": [
       "  0%|          | 0/32 [00:00<?, ?it/s]"
      ]
     },
     "metadata": {},
     "output_type": "display_data"
    },
    {
     "name": "stdout",
     "output_type": "stream",
     "text": [
      "5.1647e+00 1.2912e+00\n",
      "4.6820e+00 1.1705e+00\n",
      "3.1819e+00 7.9548e-01\n",
      "6.7590e+00 1.6897e+00\n",
      "4.4756e+00 1.1189e+00\n",
      "5.1906e+00 1.2976e+00\n",
      "3.4185e+00 8.5464e-01\n",
      "train Loss: 37.4524\n"
     ]
    },
    {
     "data": {
      "application/vnd.jupyter.widget-view+json": {
       "model_id": "e468ab2f4e72422d98489f4d54de9ede",
       "version_major": 2,
       "version_minor": 0
      },
      "text/plain": [
       "  0%|          | 0/2 [00:00<?, ?it/s]"
      ]
     },
     "metadata": {},
     "output_type": "display_data"
    },
    {
     "name": "stdout",
     "output_type": "stream",
     "text": [
      "val Loss: 5.8766\n",
      "Learning Rate: 0.0006382393305518406\n",
      "Epoch 111/1000\n",
      "----------\n"
     ]
    },
    {
     "data": {
      "application/vnd.jupyter.widget-view+json": {
       "model_id": "e9d5d178fef14b49b55731b45e6b32de",
       "version_major": 2,
       "version_minor": 0
      },
      "text/plain": [
       "  0%|          | 0/32 [00:00<?, ?it/s]"
      ]
     },
     "metadata": {},
     "output_type": "display_data"
    },
    {
     "name": "stdout",
     "output_type": "stream",
     "text": [
      "5.3986e+00 1.3496e+00\n",
      "4.7956e+00 1.1989e+00\n",
      "5.2368e+00 1.3092e+00\n",
      "4.3162e+00 1.0790e+00\n",
      "4.6366e+00 1.1592e+00\n",
      "5.5218e+00 1.3805e+00\n",
      "4.1933e+00 1.0483e+00\n",
      "train Loss: 36.5158\n"
     ]
    },
    {
     "data": {
      "application/vnd.jupyter.widget-view+json": {
       "model_id": "30bff4548c20494a9383f067cabb94c8",
       "version_major": 2,
       "version_minor": 0
      },
      "text/plain": [
       "  0%|          | 0/2 [00:00<?, ?it/s]"
      ]
     },
     "metadata": {},
     "output_type": "display_data"
    },
    {
     "name": "stdout",
     "output_type": "stream",
     "text": [
      "val Loss: 1.8391\n",
      "Learning Rate: 0.0006382393305518406\n",
      "Epoch 112/1000\n",
      "----------\n"
     ]
    },
    {
     "data": {
      "application/vnd.jupyter.widget-view+json": {
       "model_id": "6c808f1cf3ea45c8ad1fbbdda63a8a67",
       "version_major": 2,
       "version_minor": 0
      },
      "text/plain": [
       "  0%|          | 0/32 [00:00<?, ?it/s]"
      ]
     },
     "metadata": {},
     "output_type": "display_data"
    },
    {
     "name": "stdout",
     "output_type": "stream",
     "text": [
      "7.6479e+00 1.9120e+00\n",
      "5.9655e+00 1.4914e+00\n",
      "1.8825e+00 4.7063e-01\n",
      "4.9736e+00 1.2434e+00\n",
      "6.9704e+00 1.7426e+00\n",
      "2.8383e+00 7.0958e-01\n",
      "1.8014e+00 4.5034e-01\n",
      "train Loss: 35.2036\n"
     ]
    },
    {
     "data": {
      "application/vnd.jupyter.widget-view+json": {
       "model_id": "63d8d5f381234797b3ce5aa3f5a03e9b",
       "version_major": 2,
       "version_minor": 0
      },
      "text/plain": [
       "  0%|          | 0/2 [00:00<?, ?it/s]"
      ]
     },
     "metadata": {},
     "output_type": "display_data"
    },
    {
     "name": "stdout",
     "output_type": "stream",
     "text": [
      "val Loss: 1.5114\n",
      "Learning Rate: 0.0006382393305518406\n",
      "Epoch 113/1000\n",
      "----------\n"
     ]
    },
    {
     "data": {
      "application/vnd.jupyter.widget-view+json": {
       "model_id": "da4783a08abb40bf848f5f8c5bdd6c61",
       "version_major": 2,
       "version_minor": 0
      },
      "text/plain": [
       "  0%|          | 0/32 [00:00<?, ?it/s]"
      ]
     },
     "metadata": {},
     "output_type": "display_data"
    },
    {
     "name": "stdout",
     "output_type": "stream",
     "text": [
      "6.2246e+00 1.5562e+00\n",
      "3.9534e+00 9.8834e-01\n",
      "4.8927e+00 1.2232e+00\n",
      "4.4537e+00 1.1134e+00\n",
      "7.4163e+00 1.8541e+00\n",
      "2.1282e+00 5.3204e-01\n",
      "5.3164e+00 1.3291e+00\n",
      "train Loss: 37.2818\n"
     ]
    },
    {
     "data": {
      "application/vnd.jupyter.widget-view+json": {
       "model_id": "9e10c3f7e55b4534a3656c7648374193",
       "version_major": 2,
       "version_minor": 0
      },
      "text/plain": [
       "  0%|          | 0/2 [00:00<?, ?it/s]"
      ]
     },
     "metadata": {},
     "output_type": "display_data"
    },
    {
     "name": "stdout",
     "output_type": "stream",
     "text": [
      "val Loss: 3.2032\n",
      "Learning Rate: 0.0006382393305518406\n",
      "Epoch 114/1000\n",
      "----------\n"
     ]
    },
    {
     "data": {
      "application/vnd.jupyter.widget-view+json": {
       "model_id": "07e0424dc3b54166afd1533997a84a50",
       "version_major": 2,
       "version_minor": 0
      },
      "text/plain": [
       "  0%|          | 0/32 [00:00<?, ?it/s]"
      ]
     },
     "metadata": {},
     "output_type": "display_data"
    },
    {
     "name": "stdout",
     "output_type": "stream",
     "text": [
      "4.5473e+00 1.1368e+00\n",
      "7.2746e+00 1.8186e+00\n",
      "4.3360e+00 1.0840e+00\n",
      "3.8224e+00 9.5560e-01\n",
      "5.1563e+00 1.2891e+00\n",
      "4.7418e+00 1.1854e+00\n",
      "4.2388e+00 1.0597e+00\n",
      "train Loss: 38.0736\n"
     ]
    },
    {
     "data": {
      "application/vnd.jupyter.widget-view+json": {
       "model_id": "c88520e7c04c49458de088f11cc03376",
       "version_major": 2,
       "version_minor": 0
      },
      "text/plain": [
       "  0%|          | 0/2 [00:00<?, ?it/s]"
      ]
     },
     "metadata": {},
     "output_type": "display_data"
    },
    {
     "name": "stdout",
     "output_type": "stream",
     "text": [
      "val Loss: 0.6884\n",
      "Learning Rate: 0.0006382393305518406\n",
      "Epoch 115/1000\n",
      "----------\n"
     ]
    },
    {
     "data": {
      "application/vnd.jupyter.widget-view+json": {
       "model_id": "ee3407521d644e53bfe842a0e9c8204e",
       "version_major": 2,
       "version_minor": 0
      },
      "text/plain": [
       "  0%|          | 0/32 [00:00<?, ?it/s]"
      ]
     },
     "metadata": {},
     "output_type": "display_data"
    },
    {
     "name": "stdout",
     "output_type": "stream",
     "text": [
      "6.6446e+00 1.6611e+00\n",
      "5.2445e+00 1.3111e+00\n",
      "3.2043e+00 8.0108e-01\n",
      "2.6284e+00 6.5711e-01\n",
      "3.4740e+00 8.6851e-01\n",
      "3.2154e+00 8.0384e-01\n",
      "3.3123e+00 8.2807e-01\n",
      "train Loss: 29.7650\n"
     ]
    },
    {
     "data": {
      "application/vnd.jupyter.widget-view+json": {
       "model_id": "001e6ac7cbeb43748387fbf2a72a9c13",
       "version_major": 2,
       "version_minor": 0
      },
      "text/plain": [
       "  0%|          | 0/2 [00:00<?, ?it/s]"
      ]
     },
     "metadata": {},
     "output_type": "display_data"
    },
    {
     "name": "stdout",
     "output_type": "stream",
     "text": [
      "val Loss: 7.1452\n",
      "Learning Rate: 0.0006382393305518406\n",
      "Epoch 116/1000\n",
      "----------\n"
     ]
    },
    {
     "data": {
      "application/vnd.jupyter.widget-view+json": {
       "model_id": "694f5160185c4d9daef4f63256a24cd8",
       "version_major": 2,
       "version_minor": 0
      },
      "text/plain": [
       "  0%|          | 0/32 [00:00<?, ?it/s]"
      ]
     },
     "metadata": {},
     "output_type": "display_data"
    },
    {
     "name": "stdout",
     "output_type": "stream",
     "text": [
      "3.0697e+00 7.6743e-01\n",
      "3.7405e+00 9.3514e-01\n",
      "6.0387e+00 1.5097e+00\n",
      "6.3077e+00 1.5769e+00\n",
      "6.2349e+00 1.5587e+00\n",
      "7.7181e+00 1.9295e+00\n",
      "3.7967e+00 9.4916e-01\n",
      "train Loss: 40.6951\n"
     ]
    },
    {
     "data": {
      "application/vnd.jupyter.widget-view+json": {
       "model_id": "be88936efc53438099852d7b38042c85",
       "version_major": 2,
       "version_minor": 0
      },
      "text/plain": [
       "  0%|          | 0/2 [00:00<?, ?it/s]"
      ]
     },
     "metadata": {},
     "output_type": "display_data"
    },
    {
     "name": "stdout",
     "output_type": "stream",
     "text": [
      "val Loss: 5.5156\n",
      "Learning Rate: 0.0006382393305518406\n",
      "Epoch 117/1000\n",
      "----------\n"
     ]
    },
    {
     "data": {
      "application/vnd.jupyter.widget-view+json": {
       "model_id": "1ccc1a91a7304ca58dcde4137b4f2b18",
       "version_major": 2,
       "version_minor": 0
      },
      "text/plain": [
       "  0%|          | 0/32 [00:00<?, ?it/s]"
      ]
     },
     "metadata": {},
     "output_type": "display_data"
    },
    {
     "name": "stdout",
     "output_type": "stream",
     "text": [
      "4.7567e+00 1.1892e+00\n",
      "5.1008e+00 1.2752e+00\n",
      "5.5708e+00 1.3927e+00\n",
      "5.3358e+00 1.3339e+00\n",
      "6.2816e+00 1.5704e+00\n",
      "5.2252e+00 1.3063e+00\n",
      "7.0499e+00 1.7625e+00\n",
      "train Loss: 43.8357\n"
     ]
    },
    {
     "data": {
      "application/vnd.jupyter.widget-view+json": {
       "model_id": "7c5f351a2f92486eb4193fd3c2945e9a",
       "version_major": 2,
       "version_minor": 0
      },
      "text/plain": [
       "  0%|          | 0/2 [00:00<?, ?it/s]"
      ]
     },
     "metadata": {},
     "output_type": "display_data"
    },
    {
     "name": "stdout",
     "output_type": "stream",
     "text": [
      "val Loss: 3.3633\n",
      "Learning Rate: 0.0006382393305518406\n",
      "Epoch 118/1000\n",
      "----------\n"
     ]
    },
    {
     "data": {
      "application/vnd.jupyter.widget-view+json": {
       "model_id": "4e69e9ae1b6f48c998085d7a2f83dcbb",
       "version_major": 2,
       "version_minor": 0
      },
      "text/plain": [
       "  0%|          | 0/32 [00:00<?, ?it/s]"
      ]
     },
     "metadata": {},
     "output_type": "display_data"
    },
    {
     "name": "stdout",
     "output_type": "stream",
     "text": [
      "8.1529e+00 2.0382e+00\n",
      "4.5145e+00 1.1286e+00\n",
      "5.0933e+00 1.2733e+00\n",
      "5.4435e+00 1.3609e+00\n",
      "4.4602e+00 1.1150e+00\n",
      "6.1480e+00 1.5370e+00\n",
      "5.2231e+00 1.3058e+00\n",
      "train Loss: 40.6726\n"
     ]
    },
    {
     "data": {
      "application/vnd.jupyter.widget-view+json": {
       "model_id": "283104e8cbaf48c99707941508577fdd",
       "version_major": 2,
       "version_minor": 0
      },
      "text/plain": [
       "  0%|          | 0/2 [00:00<?, ?it/s]"
      ]
     },
     "metadata": {},
     "output_type": "display_data"
    },
    {
     "name": "stdout",
     "output_type": "stream",
     "text": [
      "val Loss: 0.2793\n",
      "Learning Rate: 0.0006382393305518406\n",
      "Epoch 119/1000\n",
      "----------\n"
     ]
    },
    {
     "data": {
      "application/vnd.jupyter.widget-view+json": {
       "model_id": "47ebd7316cc14660a6ac90846a47228a",
       "version_major": 2,
       "version_minor": 0
      },
      "text/plain": [
       "  0%|          | 0/32 [00:00<?, ?it/s]"
      ]
     },
     "metadata": {},
     "output_type": "display_data"
    },
    {
     "name": "stdout",
     "output_type": "stream",
     "text": [
      "4.0770e+00 1.0192e+00\n",
      "8.6673e+00 2.1668e+00\n",
      "6.6113e+00 1.6528e+00\n",
      "5.3144e+00 1.3286e+00\n",
      "4.7444e+00 1.1861e+00\n",
      "3.3791e+00 8.4478e-01\n",
      "6.4081e+00 1.6020e+00\n",
      "train Loss: 44.4569\n"
     ]
    },
    {
     "data": {
      "application/vnd.jupyter.widget-view+json": {
       "model_id": "0c17819556d943f8aba641b2021d3cc6",
       "version_major": 2,
       "version_minor": 0
      },
      "text/plain": [
       "  0%|          | 0/2 [00:00<?, ?it/s]"
      ]
     },
     "metadata": {},
     "output_type": "display_data"
    },
    {
     "name": "stdout",
     "output_type": "stream",
     "text": [
      "val Loss: 7.2492\n",
      "Learning Rate: 0.0006382393305518406\n",
      "Epoch 120/1000\n",
      "----------\n"
     ]
    },
    {
     "data": {
      "application/vnd.jupyter.widget-view+json": {
       "model_id": "1f6f8685af494eddb1628b8ecd15109c",
       "version_major": 2,
       "version_minor": 0
      },
      "text/plain": [
       "  0%|          | 0/32 [00:00<?, ?it/s]"
      ]
     },
     "metadata": {},
     "output_type": "display_data"
    },
    {
     "name": "stdout",
     "output_type": "stream",
     "text": [
      "4.0047e+00 1.0012e+00\n",
      "2.5364e+00 6.3409e-01\n",
      "3.3848e+00 8.4619e-01\n",
      "6.5689e+00 1.6422e+00\n",
      "2.3751e+00 5.9378e-01\n",
      "2.7406e+00 6.8515e-01\n",
      "4.5698e+00 1.1424e+00\n",
      "train Loss: 29.1862\n"
     ]
    },
    {
     "data": {
      "application/vnd.jupyter.widget-view+json": {
       "model_id": "7935911c9164435b86d61901e7014690",
       "version_major": 2,
       "version_minor": 0
      },
      "text/plain": [
       "  0%|          | 0/2 [00:00<?, ?it/s]"
      ]
     },
     "metadata": {},
     "output_type": "display_data"
    },
    {
     "name": "stdout",
     "output_type": "stream",
     "text": [
      "val Loss: 7.7872\n",
      "Learning Rate: 0.000612709757329767\n",
      "Epoch 121/1000\n",
      "----------\n"
     ]
    },
    {
     "data": {
      "application/vnd.jupyter.widget-view+json": {
       "model_id": "9f4b8cff39df417eb1e7aa850ee56cbd",
       "version_major": 2,
       "version_minor": 0
      },
      "text/plain": [
       "  0%|          | 0/32 [00:00<?, ?it/s]"
      ]
     },
     "metadata": {},
     "output_type": "display_data"
    },
    {
     "name": "stdout",
     "output_type": "stream",
     "text": [
      "4.4642e+00 1.1161e+00\n",
      "4.9021e+00 1.2255e+00\n",
      "7.4655e+00 1.8664e+00\n",
      "6.4869e+00 1.6217e+00\n",
      "5.0573e+00 1.2643e+00\n",
      "6.4108e+00 1.6027e+00\n",
      "5.9818e+00 1.4954e+00\n",
      "train Loss: 43.9463\n"
     ]
    },
    {
     "data": {
      "application/vnd.jupyter.widget-view+json": {
       "model_id": "73fd8f49fa2148aa904ce912715e1222",
       "version_major": 2,
       "version_minor": 0
      },
      "text/plain": [
       "  0%|          | 0/2 [00:00<?, ?it/s]"
      ]
     },
     "metadata": {},
     "output_type": "display_data"
    },
    {
     "name": "stdout",
     "output_type": "stream",
     "text": [
      "val Loss: 8.1179\n",
      "Learning Rate: 0.000612709757329767\n",
      "Epoch 122/1000\n",
      "----------\n"
     ]
    },
    {
     "data": {
      "application/vnd.jupyter.widget-view+json": {
       "model_id": "c7f80a212bff417889a4e762381e9bfa",
       "version_major": 2,
       "version_minor": 0
      },
      "text/plain": [
       "  0%|          | 0/32 [00:00<?, ?it/s]"
      ]
     },
     "metadata": {},
     "output_type": "display_data"
    },
    {
     "name": "stdout",
     "output_type": "stream",
     "text": [
      "6.9791e+00 1.7448e+00\n",
      "3.6443e+00 9.1107e-01\n",
      "3.8239e+00 9.5597e-01\n",
      "3.9559e+00 9.8898e-01\n",
      "3.4050e+00 8.5125e-01\n",
      "3.6682e+00 9.1705e-01\n",
      "6.8865e+00 1.7216e+00\n",
      "train Loss: 36.4553\n"
     ]
    },
    {
     "data": {
      "application/vnd.jupyter.widget-view+json": {
       "model_id": "a28abaf708904ca9aee14f225d938f2a",
       "version_major": 2,
       "version_minor": 0
      },
      "text/plain": [
       "  0%|          | 0/2 [00:00<?, ?it/s]"
      ]
     },
     "metadata": {},
     "output_type": "display_data"
    },
    {
     "name": "stdout",
     "output_type": "stream",
     "text": [
      "val Loss: 3.2176\n",
      "Learning Rate: 0.000612709757329767\n",
      "Epoch 123/1000\n",
      "----------\n"
     ]
    },
    {
     "data": {
      "application/vnd.jupyter.widget-view+json": {
       "model_id": "79c3ed34409741c4a492f11081778d62",
       "version_major": 2,
       "version_minor": 0
      },
      "text/plain": [
       "  0%|          | 0/32 [00:00<?, ?it/s]"
      ]
     },
     "metadata": {},
     "output_type": "display_data"
    },
    {
     "name": "stdout",
     "output_type": "stream",
     "text": [
      "5.7132e+00 1.4283e+00\n",
      "4.2692e+00 1.0673e+00\n",
      "6.1902e+00 1.5475e+00\n",
      "3.0744e+00 7.6859e-01\n",
      "5.6568e+00 1.4142e+00\n",
      "5.4481e+00 1.3620e+00\n",
      "3.9142e+00 9.7855e-01\n",
      "train Loss: 40.0024\n"
     ]
    },
    {
     "data": {
      "application/vnd.jupyter.widget-view+json": {
       "model_id": "31614a21722a4b41bdc0bada37baee08",
       "version_major": 2,
       "version_minor": 0
      },
      "text/plain": [
       "  0%|          | 0/2 [00:00<?, ?it/s]"
      ]
     },
     "metadata": {},
     "output_type": "display_data"
    },
    {
     "name": "stdout",
     "output_type": "stream",
     "text": [
      "val Loss: 2.1236\n",
      "Learning Rate: 0.000612709757329767\n",
      "Epoch 124/1000\n",
      "----------\n"
     ]
    },
    {
     "data": {
      "application/vnd.jupyter.widget-view+json": {
       "model_id": "7d691d39799a4a2abf65b7b40cce6ffd",
       "version_major": 2,
       "version_minor": 0
      },
      "text/plain": [
       "  0%|          | 0/32 [00:00<?, ?it/s]"
      ]
     },
     "metadata": {},
     "output_type": "display_data"
    },
    {
     "name": "stdout",
     "output_type": "stream",
     "text": [
      "7.2371e+00 1.8093e+00\n",
      "3.9371e+00 9.8427e-01\n",
      "4.6722e+00 1.1681e+00\n",
      "6.3511e+00 1.5878e+00\n",
      "5.6140e+00 1.4035e+00\n",
      "4.8842e+00 1.2211e+00\n",
      "3.4857e+00 8.7143e-01\n",
      "train Loss: 41.0377\n"
     ]
    },
    {
     "data": {
      "application/vnd.jupyter.widget-view+json": {
       "model_id": "98068e38e15a4d4fb81460c1e988aae8",
       "version_major": 2,
       "version_minor": 0
      },
      "text/plain": [
       "  0%|          | 0/2 [00:00<?, ?it/s]"
      ]
     },
     "metadata": {},
     "output_type": "display_data"
    },
    {
     "name": "stdout",
     "output_type": "stream",
     "text": [
      "val Loss: 7.6842\n",
      "Learning Rate: 0.000612709757329767\n",
      "Epoch 125/1000\n",
      "----------\n"
     ]
    },
    {
     "data": {
      "application/vnd.jupyter.widget-view+json": {
       "model_id": "da3fbe4fcff74370981ad0e51e68f81a",
       "version_major": 2,
       "version_minor": 0
      },
      "text/plain": [
       "  0%|          | 0/32 [00:00<?, ?it/s]"
      ]
     },
     "metadata": {},
     "output_type": "display_data"
    },
    {
     "name": "stdout",
     "output_type": "stream",
     "text": [
      "6.6802e+00 1.6701e+00\n",
      "7.2597e+00 1.8149e+00\n",
      "2.4785e+00 6.1963e-01\n",
      "5.8633e+00 1.4658e+00\n",
      "5.0351e+00 1.2588e+00\n",
      "3.9505e+00 9.8763e-01\n",
      "1.9650e+00 4.9124e-01\n",
      "train Loss: 34.2482\n"
     ]
    },
    {
     "data": {
      "application/vnd.jupyter.widget-view+json": {
       "model_id": "ce9d039114464d5b84e5d599bcb078cb",
       "version_major": 2,
       "version_minor": 0
      },
      "text/plain": [
       "  0%|          | 0/2 [00:00<?, ?it/s]"
      ]
     },
     "metadata": {},
     "output_type": "display_data"
    },
    {
     "name": "stdout",
     "output_type": "stream",
     "text": [
      "val Loss: 3.1960\n",
      "Learning Rate: 0.000612709757329767\n",
      "Epoch 126/1000\n",
      "----------\n"
     ]
    },
    {
     "data": {
      "application/vnd.jupyter.widget-view+json": {
       "model_id": "867e4152bcb64576bd0df86d62636988",
       "version_major": 2,
       "version_minor": 0
      },
      "text/plain": [
       "  0%|          | 0/32 [00:00<?, ?it/s]"
      ]
     },
     "metadata": {},
     "output_type": "display_data"
    },
    {
     "name": "stdout",
     "output_type": "stream",
     "text": [
      "7.3646e+00 1.8412e+00\n",
      "5.1984e+00 1.2996e+00\n",
      "6.5633e+00 1.6408e+00\n",
      "3.2844e+00 8.2110e-01\n",
      "3.3004e+00 8.2511e-01\n",
      "6.1967e+00 1.5492e+00\n",
      "3.6985e+00 9.2464e-01\n",
      "train Loss: 40.0568\n"
     ]
    },
    {
     "data": {
      "application/vnd.jupyter.widget-view+json": {
       "model_id": "090a8d5c976c459e83774b55b54ffdc2",
       "version_major": 2,
       "version_minor": 0
      },
      "text/plain": [
       "  0%|          | 0/2 [00:00<?, ?it/s]"
      ]
     },
     "metadata": {},
     "output_type": "display_data"
    },
    {
     "name": "stdout",
     "output_type": "stream",
     "text": [
      "val Loss: 3.9216\n",
      "Learning Rate: 0.000612709757329767\n",
      "Epoch 127/1000\n",
      "----------\n"
     ]
    },
    {
     "data": {
      "application/vnd.jupyter.widget-view+json": {
       "model_id": "af18e7d6a1324e21b170bd945b6c799a",
       "version_major": 2,
       "version_minor": 0
      },
      "text/plain": [
       "  0%|          | 0/32 [00:00<?, ?it/s]"
      ]
     },
     "metadata": {},
     "output_type": "display_data"
    },
    {
     "name": "stdout",
     "output_type": "stream",
     "text": [
      "6.7419e+00 1.6855e+00\n",
      "3.2932e+00 8.2331e-01\n",
      "1.5174e+00 3.7935e-01\n",
      "6.0586e+00 1.5146e+00\n",
      "4.0556e+00 1.0139e+00\n",
      "4.6396e+00 1.1599e+00\n",
      "5.0252e+00 1.2563e+00\n",
      "train Loss: 37.6079\n"
     ]
    },
    {
     "data": {
      "application/vnd.jupyter.widget-view+json": {
       "model_id": "0e3ef628834c4100b4dc025284e16532",
       "version_major": 2,
       "version_minor": 0
      },
      "text/plain": [
       "  0%|          | 0/2 [00:00<?, ?it/s]"
      ]
     },
     "metadata": {},
     "output_type": "display_data"
    },
    {
     "name": "stdout",
     "output_type": "stream",
     "text": [
      "val Loss: 11.1870\n",
      "Learning Rate: 0.000612709757329767\n",
      "Epoch 128/1000\n",
      "----------\n"
     ]
    },
    {
     "data": {
      "application/vnd.jupyter.widget-view+json": {
       "model_id": "c097cd8407044e2c994d9b6b9b1a120a",
       "version_major": 2,
       "version_minor": 0
      },
      "text/plain": [
       "  0%|          | 0/32 [00:00<?, ?it/s]"
      ]
     },
     "metadata": {},
     "output_type": "display_data"
    },
    {
     "name": "stdout",
     "output_type": "stream",
     "text": [
      "1.0221e+01 2.5552e+00\n",
      "4.8391e+00 1.2098e+00\n",
      "3.0806e+00 7.7015e-01\n",
      "3.6083e+00 9.0207e-01\n",
      "3.1378e+00 7.8445e-01\n",
      "4.5437e+00 1.1359e+00\n",
      "3.2680e+00 8.1700e-01\n",
      "train Loss: 34.0122\n"
     ]
    },
    {
     "data": {
      "application/vnd.jupyter.widget-view+json": {
       "model_id": "2f32b1d626514bda8718d5d5a93e73ce",
       "version_major": 2,
       "version_minor": 0
      },
      "text/plain": [
       "  0%|          | 0/2 [00:00<?, ?it/s]"
      ]
     },
     "metadata": {},
     "output_type": "display_data"
    },
    {
     "name": "stdout",
     "output_type": "stream",
     "text": [
      "val Loss: 1.3432\n",
      "Learning Rate: 0.000612709757329767\n",
      "Epoch 129/1000\n",
      "----------\n"
     ]
    },
    {
     "data": {
      "application/vnd.jupyter.widget-view+json": {
       "model_id": "508f778f57c84f3bb322dbf97f7de7ba",
       "version_major": 2,
       "version_minor": 0
      },
      "text/plain": [
       "  0%|          | 0/32 [00:00<?, ?it/s]"
      ]
     },
     "metadata": {},
     "output_type": "display_data"
    },
    {
     "name": "stdout",
     "output_type": "stream",
     "text": [
      "9.5589e+00 2.3897e+00\n",
      "5.7430e+00 1.4357e+00\n",
      "4.2332e+00 1.0583e+00\n",
      "5.4403e+00 1.3601e+00\n",
      "4.7374e+00 1.1844e+00\n",
      "5.3503e+00 1.3376e+00\n",
      "5.5369e+00 1.3842e+00\n",
      "train Loss: 46.4620\n"
     ]
    },
    {
     "data": {
      "application/vnd.jupyter.widget-view+json": {
       "model_id": "885fe26c9c0a4760baf2d222d6123810",
       "version_major": 2,
       "version_minor": 0
      },
      "text/plain": [
       "  0%|          | 0/2 [00:00<?, ?it/s]"
      ]
     },
     "metadata": {},
     "output_type": "display_data"
    },
    {
     "name": "stdout",
     "output_type": "stream",
     "text": [
      "val Loss: 5.0496\n",
      "Learning Rate: 0.000612709757329767\n",
      "Epoch 130/1000\n",
      "----------\n"
     ]
    },
    {
     "data": {
      "application/vnd.jupyter.widget-view+json": {
       "model_id": "2579558a16ad4c64ad9adf4fc54e5ff3",
       "version_major": 2,
       "version_minor": 0
      },
      "text/plain": [
       "  0%|          | 0/32 [00:00<?, ?it/s]"
      ]
     },
     "metadata": {},
     "output_type": "display_data"
    },
    {
     "name": "stdout",
     "output_type": "stream",
     "text": [
      "6.7545e+00 1.6886e+00\n",
      "6.3005e+00 1.5751e+00\n",
      "4.9326e+00 1.2331e+00\n",
      "6.2169e+00 1.5542e+00\n",
      "5.5563e+00 1.3891e+00\n",
      "3.5781e+00 8.9454e-01\n",
      "3.4854e+00 8.7134e-01\n",
      "train Loss: 40.7483\n"
     ]
    },
    {
     "data": {
      "application/vnd.jupyter.widget-view+json": {
       "model_id": "9910a0627f404744b754f48c2118cf05",
       "version_major": 2,
       "version_minor": 0
      },
      "text/plain": [
       "  0%|          | 0/2 [00:00<?, ?it/s]"
      ]
     },
     "metadata": {},
     "output_type": "display_data"
    },
    {
     "name": "stdout",
     "output_type": "stream",
     "text": [
      "val Loss: 3.1346\n",
      "Learning Rate: 0.0005882013670365763\n",
      "Epoch 131/1000\n",
      "----------\n"
     ]
    },
    {
     "data": {
      "application/vnd.jupyter.widget-view+json": {
       "model_id": "3c43fe087c0a4e2a91e877113aa9e616",
       "version_major": 2,
       "version_minor": 0
      },
      "text/plain": [
       "  0%|          | 0/32 [00:00<?, ?it/s]"
      ]
     },
     "metadata": {},
     "output_type": "display_data"
    },
    {
     "name": "stdout",
     "output_type": "stream",
     "text": [
      "4.9912e+00 1.2478e+00\n",
      "5.0358e+00 1.2589e+00\n",
      "4.3058e+00 1.0765e+00\n",
      "4.6129e+00 1.1532e+00\n",
      "7.5060e+00 1.8765e+00\n",
      "4.2004e+00 1.0501e+00\n",
      "8.5094e+00 2.1274e+00\n",
      "train Loss: 42.3048\n"
     ]
    },
    {
     "data": {
      "application/vnd.jupyter.widget-view+json": {
       "model_id": "f8d4c0b503ae4a179f66fec9487dcc77",
       "version_major": 2,
       "version_minor": 0
      },
      "text/plain": [
       "  0%|          | 0/2 [00:00<?, ?it/s]"
      ]
     },
     "metadata": {},
     "output_type": "display_data"
    },
    {
     "name": "stdout",
     "output_type": "stream",
     "text": [
      "val Loss: 0.9084\n",
      "Learning Rate: 0.0005882013670365763\n",
      "Epoch 132/1000\n",
      "----------\n"
     ]
    },
    {
     "data": {
      "application/vnd.jupyter.widget-view+json": {
       "model_id": "24493319cbcf4d0dbf4a13355f2f1a3e",
       "version_major": 2,
       "version_minor": 0
      },
      "text/plain": [
       "  0%|          | 0/32 [00:00<?, ?it/s]"
      ]
     },
     "metadata": {},
     "output_type": "display_data"
    },
    {
     "name": "stdout",
     "output_type": "stream",
     "text": [
      "4.8127e+00 1.2032e+00\n",
      "3.0904e+00 7.7260e-01\n",
      "6.6611e+00 1.6653e+00\n",
      "5.3683e+00 1.3421e+00\n",
      "3.1968e+00 7.9920e-01\n",
      "6.6287e+00 1.6572e+00\n",
      "4.0558e+00 1.0140e+00\n",
      "train Loss: 34.2464\n"
     ]
    },
    {
     "data": {
      "application/vnd.jupyter.widget-view+json": {
       "model_id": "0bc3c9fbc1c345948265c984a06f725d",
       "version_major": 2,
       "version_minor": 0
      },
      "text/plain": [
       "  0%|          | 0/2 [00:00<?, ?it/s]"
      ]
     },
     "metadata": {},
     "output_type": "display_data"
    },
    {
     "name": "stdout",
     "output_type": "stream",
     "text": [
      "val Loss: 2.3635\n",
      "Learning Rate: 0.0005882013670365763\n",
      "Epoch 133/1000\n",
      "----------\n"
     ]
    },
    {
     "data": {
      "application/vnd.jupyter.widget-view+json": {
       "model_id": "049e197eaff942dba15217ebf3eb239e",
       "version_major": 2,
       "version_minor": 0
      },
      "text/plain": [
       "  0%|          | 0/32 [00:00<?, ?it/s]"
      ]
     },
     "metadata": {},
     "output_type": "display_data"
    },
    {
     "name": "stdout",
     "output_type": "stream",
     "text": [
      "6.8850e+00 1.7212e+00\n",
      "3.1754e+00 7.9384e-01\n",
      "4.6614e+00 1.1653e+00\n",
      "5.6645e+00 1.4161e+00\n",
      "6.5680e+00 1.6420e+00\n",
      "4.7138e+00 1.1784e+00\n"
     ]
    },
    {
     "ename": "KeyboardInterrupt",
     "evalue": "",
     "output_type": "error",
     "traceback": [
      "\u001b[1;31m---------------------------------------------------------------------------\u001b[0m",
      "\u001b[1;31mKeyboardInterrupt\u001b[0m                         Traceback (most recent call last)",
      "\u001b[1;32m~\\AppData\\Local\\Temp\\ipykernel_9588\\606879412.py\u001b[0m in \u001b[0;36m<module>\u001b[1;34m\u001b[0m\n\u001b[0;32m      1\u001b[0m \u001b[0mmodel\u001b[0m \u001b[1;33m=\u001b[0m \u001b[0mUNetResNet\u001b[0m\u001b[1;33m(\u001b[0m\u001b[1;36m2\u001b[0m\u001b[1;33m)\u001b[0m\u001b[1;33m\u001b[0m\u001b[1;33m\u001b[0m\u001b[0m\n\u001b[0;32m      2\u001b[0m \u001b[0mloaders\u001b[0m \u001b[1;33m=\u001b[0m \u001b[1;33m{\u001b[0m\u001b[1;34m'train'\u001b[0m \u001b[1;33m:\u001b[0m \u001b[0mtrain_loader\u001b[0m\u001b[1;33m,\u001b[0m \u001b[1;34m'val'\u001b[0m \u001b[1;33m:\u001b[0m \u001b[0mval_loader\u001b[0m\u001b[1;33m}\u001b[0m\u001b[1;33m\u001b[0m\u001b[1;33m\u001b[0m\u001b[0m\n\u001b[1;32m----> 3\u001b[1;33m \u001b[0mmodel\u001b[0m \u001b[1;33m=\u001b[0m \u001b[0mtrain\u001b[0m\u001b[1;33m(\u001b[0m\u001b[0mmodel\u001b[0m\u001b[1;33m,\u001b[0m \u001b[0mloaders\u001b[0m\u001b[1;33m,\u001b[0m \u001b[0mnum_epochs\u001b[0m\u001b[1;33m=\u001b[0m\u001b[1;36m1000\u001b[0m\u001b[1;33m,\u001b[0m \u001b[0mlearning_rate\u001b[0m\u001b[1;33m=\u001b[0m\u001b[1;36m1e-3\u001b[0m\u001b[1;33m)\u001b[0m\u001b[1;33m\u001b[0m\u001b[1;33m\u001b[0m\u001b[0m\n\u001b[0m",
      "\u001b[1;32m~\\AppData\\Local\\Temp\\ipykernel_9588\\1909525983.py\u001b[0m in \u001b[0;36mtrain\u001b[1;34m(model, dataloaders, num_epochs, output_dir, learning_rate)\u001b[0m\n\u001b[0;32m     40\u001b[0m             \u001b[1;31m# Iterate over data.\u001b[0m\u001b[1;33m\u001b[0m\u001b[1;33m\u001b[0m\u001b[1;33m\u001b[0m\u001b[0m\n\u001b[0;32m     41\u001b[0m             \u001b[1;32mfor\u001b[0m \u001b[0mrep_id\u001b[0m \u001b[1;32min\u001b[0m \u001b[0mtqdm\u001b[0m\u001b[1;33m(\u001b[0m\u001b[0mrepeats\u001b[0m\u001b[1;33m)\u001b[0m\u001b[1;33m:\u001b[0m\u001b[1;33m\u001b[0m\u001b[1;33m\u001b[0m\u001b[0m\n\u001b[1;32m---> 42\u001b[1;33m                 \u001b[1;32mfor\u001b[0m \u001b[0mbatch_input\u001b[0m\u001b[1;33m,\u001b[0m \u001b[0mbatch_output\u001b[0m\u001b[1;33m,\u001b[0m \u001b[0mfilenames\u001b[0m \u001b[1;32min\u001b[0m \u001b[0mdataloaders\u001b[0m\u001b[1;33m[\u001b[0m\u001b[0mphase\u001b[0m\u001b[1;33m]\u001b[0m\u001b[1;33m:\u001b[0m\u001b[1;33m\u001b[0m\u001b[1;33m\u001b[0m\u001b[0m\n\u001b[0m\u001b[0;32m     43\u001b[0m                     \u001b[0mbatch_input\u001b[0m \u001b[1;33m=\u001b[0m \u001b[0mbatch_input\u001b[0m\u001b[1;33m.\u001b[0m\u001b[0mto\u001b[0m\u001b[1;33m(\u001b[0m\u001b[0mdevice\u001b[0m\u001b[1;33m)\u001b[0m\u001b[1;33m\u001b[0m\u001b[1;33m\u001b[0m\u001b[0m\n\u001b[0;32m     44\u001b[0m                     \u001b[0mbatch_output\u001b[0m \u001b[1;33m=\u001b[0m \u001b[0mbatch_output\u001b[0m\u001b[1;33m.\u001b[0m\u001b[0mfloat\u001b[0m\u001b[1;33m(\u001b[0m\u001b[1;33m)\u001b[0m\u001b[1;33m.\u001b[0m\u001b[0mto\u001b[0m\u001b[1;33m(\u001b[0m\u001b[0mdevice\u001b[0m\u001b[1;33m)\u001b[0m\u001b[1;33m\u001b[0m\u001b[1;33m\u001b[0m\u001b[0m\n",
      "\u001b[1;32m~\\Anaconda3\\envs\\deeplearning\\lib\\site-packages\\torch\\utils\\data\\dataloader.py\u001b[0m in \u001b[0;36m__next__\u001b[1;34m(self)\u001b[0m\n\u001b[0;32m    626\u001b[0m                 \u001b[1;31m# TODO(https://github.com/pytorch/pytorch/issues/76750)\u001b[0m\u001b[1;33m\u001b[0m\u001b[1;33m\u001b[0m\u001b[1;33m\u001b[0m\u001b[0m\n\u001b[0;32m    627\u001b[0m                 \u001b[0mself\u001b[0m\u001b[1;33m.\u001b[0m\u001b[0m_reset\u001b[0m\u001b[1;33m(\u001b[0m\u001b[1;33m)\u001b[0m  \u001b[1;31m# type: ignore[call-arg]\u001b[0m\u001b[1;33m\u001b[0m\u001b[1;33m\u001b[0m\u001b[0m\n\u001b[1;32m--> 628\u001b[1;33m             \u001b[0mdata\u001b[0m \u001b[1;33m=\u001b[0m \u001b[0mself\u001b[0m\u001b[1;33m.\u001b[0m\u001b[0m_next_data\u001b[0m\u001b[1;33m(\u001b[0m\u001b[1;33m)\u001b[0m\u001b[1;33m\u001b[0m\u001b[1;33m\u001b[0m\u001b[0m\n\u001b[0m\u001b[0;32m    629\u001b[0m             \u001b[0mself\u001b[0m\u001b[1;33m.\u001b[0m\u001b[0m_num_yielded\u001b[0m \u001b[1;33m+=\u001b[0m \u001b[1;36m1\u001b[0m\u001b[1;33m\u001b[0m\u001b[1;33m\u001b[0m\u001b[0m\n\u001b[0;32m    630\u001b[0m             \u001b[1;32mif\u001b[0m \u001b[0mself\u001b[0m\u001b[1;33m.\u001b[0m\u001b[0m_dataset_kind\u001b[0m \u001b[1;33m==\u001b[0m \u001b[0m_DatasetKind\u001b[0m\u001b[1;33m.\u001b[0m\u001b[0mIterable\u001b[0m \u001b[1;32mand\u001b[0m\u001b[0;31m \u001b[0m\u001b[0;31m\\\u001b[0m\u001b[1;33m\u001b[0m\u001b[1;33m\u001b[0m\u001b[0m\n",
      "\u001b[1;32m~\\Anaconda3\\envs\\deeplearning\\lib\\site-packages\\torch\\utils\\data\\dataloader.py\u001b[0m in \u001b[0;36m_next_data\u001b[1;34m(self)\u001b[0m\n\u001b[0;32m    669\u001b[0m     \u001b[1;32mdef\u001b[0m \u001b[0m_next_data\u001b[0m\u001b[1;33m(\u001b[0m\u001b[0mself\u001b[0m\u001b[1;33m)\u001b[0m\u001b[1;33m:\u001b[0m\u001b[1;33m\u001b[0m\u001b[1;33m\u001b[0m\u001b[0m\n\u001b[0;32m    670\u001b[0m         \u001b[0mindex\u001b[0m \u001b[1;33m=\u001b[0m \u001b[0mself\u001b[0m\u001b[1;33m.\u001b[0m\u001b[0m_next_index\u001b[0m\u001b[1;33m(\u001b[0m\u001b[1;33m)\u001b[0m  \u001b[1;31m# may raise StopIteration\u001b[0m\u001b[1;33m\u001b[0m\u001b[1;33m\u001b[0m\u001b[0m\n\u001b[1;32m--> 671\u001b[1;33m         \u001b[0mdata\u001b[0m \u001b[1;33m=\u001b[0m \u001b[0mself\u001b[0m\u001b[1;33m.\u001b[0m\u001b[0m_dataset_fetcher\u001b[0m\u001b[1;33m.\u001b[0m\u001b[0mfetch\u001b[0m\u001b[1;33m(\u001b[0m\u001b[0mindex\u001b[0m\u001b[1;33m)\u001b[0m  \u001b[1;31m# may raise StopIteration\u001b[0m\u001b[1;33m\u001b[0m\u001b[1;33m\u001b[0m\u001b[0m\n\u001b[0m\u001b[0;32m    672\u001b[0m         \u001b[1;32mif\u001b[0m \u001b[0mself\u001b[0m\u001b[1;33m.\u001b[0m\u001b[0m_pin_memory\u001b[0m\u001b[1;33m:\u001b[0m\u001b[1;33m\u001b[0m\u001b[1;33m\u001b[0m\u001b[0m\n\u001b[0;32m    673\u001b[0m             \u001b[0mdata\u001b[0m \u001b[1;33m=\u001b[0m \u001b[0m_utils\u001b[0m\u001b[1;33m.\u001b[0m\u001b[0mpin_memory\u001b[0m\u001b[1;33m.\u001b[0m\u001b[0mpin_memory\u001b[0m\u001b[1;33m(\u001b[0m\u001b[0mdata\u001b[0m\u001b[1;33m,\u001b[0m \u001b[0mself\u001b[0m\u001b[1;33m.\u001b[0m\u001b[0m_pin_memory_device\u001b[0m\u001b[1;33m)\u001b[0m\u001b[1;33m\u001b[0m\u001b[1;33m\u001b[0m\u001b[0m\n",
      "\u001b[1;32m~\\Anaconda3\\envs\\deeplearning\\lib\\site-packages\\torch\\utils\\data\\_utils\\fetch.py\u001b[0m in \u001b[0;36mfetch\u001b[1;34m(self, possibly_batched_index)\u001b[0m\n\u001b[0;32m     56\u001b[0m                 \u001b[0mdata\u001b[0m \u001b[1;33m=\u001b[0m \u001b[0mself\u001b[0m\u001b[1;33m.\u001b[0m\u001b[0mdataset\u001b[0m\u001b[1;33m.\u001b[0m\u001b[0m__getitems__\u001b[0m\u001b[1;33m(\u001b[0m\u001b[0mpossibly_batched_index\u001b[0m\u001b[1;33m)\u001b[0m\u001b[1;33m\u001b[0m\u001b[1;33m\u001b[0m\u001b[0m\n\u001b[0;32m     57\u001b[0m             \u001b[1;32melse\u001b[0m\u001b[1;33m:\u001b[0m\u001b[1;33m\u001b[0m\u001b[1;33m\u001b[0m\u001b[0m\n\u001b[1;32m---> 58\u001b[1;33m                 \u001b[0mdata\u001b[0m \u001b[1;33m=\u001b[0m \u001b[1;33m[\u001b[0m\u001b[0mself\u001b[0m\u001b[1;33m.\u001b[0m\u001b[0mdataset\u001b[0m\u001b[1;33m[\u001b[0m\u001b[0midx\u001b[0m\u001b[1;33m]\u001b[0m \u001b[1;32mfor\u001b[0m \u001b[0midx\u001b[0m \u001b[1;32min\u001b[0m \u001b[0mpossibly_batched_index\u001b[0m\u001b[1;33m]\u001b[0m\u001b[1;33m\u001b[0m\u001b[1;33m\u001b[0m\u001b[0m\n\u001b[0m\u001b[0;32m     59\u001b[0m         \u001b[1;32melse\u001b[0m\u001b[1;33m:\u001b[0m\u001b[1;33m\u001b[0m\u001b[1;33m\u001b[0m\u001b[0m\n\u001b[0;32m     60\u001b[0m             \u001b[0mdata\u001b[0m \u001b[1;33m=\u001b[0m \u001b[0mself\u001b[0m\u001b[1;33m.\u001b[0m\u001b[0mdataset\u001b[0m\u001b[1;33m[\u001b[0m\u001b[0mpossibly_batched_index\u001b[0m\u001b[1;33m]\u001b[0m\u001b[1;33m\u001b[0m\u001b[1;33m\u001b[0m\u001b[0m\n",
      "\u001b[1;32m~\\Anaconda3\\envs\\deeplearning\\lib\\site-packages\\torch\\utils\\data\\_utils\\fetch.py\u001b[0m in \u001b[0;36m<listcomp>\u001b[1;34m(.0)\u001b[0m\n\u001b[0;32m     56\u001b[0m                 \u001b[0mdata\u001b[0m \u001b[1;33m=\u001b[0m \u001b[0mself\u001b[0m\u001b[1;33m.\u001b[0m\u001b[0mdataset\u001b[0m\u001b[1;33m.\u001b[0m\u001b[0m__getitems__\u001b[0m\u001b[1;33m(\u001b[0m\u001b[0mpossibly_batched_index\u001b[0m\u001b[1;33m)\u001b[0m\u001b[1;33m\u001b[0m\u001b[1;33m\u001b[0m\u001b[0m\n\u001b[0;32m     57\u001b[0m             \u001b[1;32melse\u001b[0m\u001b[1;33m:\u001b[0m\u001b[1;33m\u001b[0m\u001b[1;33m\u001b[0m\u001b[0m\n\u001b[1;32m---> 58\u001b[1;33m                 \u001b[0mdata\u001b[0m \u001b[1;33m=\u001b[0m \u001b[1;33m[\u001b[0m\u001b[0mself\u001b[0m\u001b[1;33m.\u001b[0m\u001b[0mdataset\u001b[0m\u001b[1;33m[\u001b[0m\u001b[0midx\u001b[0m\u001b[1;33m]\u001b[0m \u001b[1;32mfor\u001b[0m \u001b[0midx\u001b[0m \u001b[1;32min\u001b[0m \u001b[0mpossibly_batched_index\u001b[0m\u001b[1;33m]\u001b[0m\u001b[1;33m\u001b[0m\u001b[1;33m\u001b[0m\u001b[0m\n\u001b[0m\u001b[0;32m     59\u001b[0m         \u001b[1;32melse\u001b[0m\u001b[1;33m:\u001b[0m\u001b[1;33m\u001b[0m\u001b[1;33m\u001b[0m\u001b[0m\n\u001b[0;32m     60\u001b[0m             \u001b[0mdata\u001b[0m \u001b[1;33m=\u001b[0m \u001b[0mself\u001b[0m\u001b[1;33m.\u001b[0m\u001b[0mdataset\u001b[0m\u001b[1;33m[\u001b[0m\u001b[0mpossibly_batched_index\u001b[0m\u001b[1;33m]\u001b[0m\u001b[1;33m\u001b[0m\u001b[1;33m\u001b[0m\u001b[0m\n",
      "\u001b[1;32m~\\AppData\\Local\\Temp\\ipykernel_9588\\823561695.py\u001b[0m in \u001b[0;36m__getitem__\u001b[1;34m(self, index)\u001b[0m\n\u001b[0;32m     33\u001b[0m             \u001b[0mrandom\u001b[0m\u001b[1;33m.\u001b[0m\u001b[0mseed\u001b[0m\u001b[1;33m(\u001b[0m\u001b[0mseed\u001b[0m\u001b[1;33m)\u001b[0m\u001b[1;33m\u001b[0m\u001b[1;33m\u001b[0m\u001b[0m\n\u001b[0;32m     34\u001b[0m             \u001b[0mtorch\u001b[0m\u001b[1;33m.\u001b[0m\u001b[0mmanual_seed\u001b[0m\u001b[1;33m(\u001b[0m\u001b[0mseed\u001b[0m\u001b[1;33m)\u001b[0m\u001b[1;33m\u001b[0m\u001b[1;33m\u001b[0m\u001b[0m\n\u001b[1;32m---> 35\u001b[1;33m             \u001b[0minput_image\u001b[0m \u001b[1;33m=\u001b[0m \u001b[0mself\u001b[0m\u001b[1;33m.\u001b[0m\u001b[0mtransform\u001b[0m\u001b[1;33m(\u001b[0m\u001b[0minput_image\u001b[0m\u001b[1;33m)\u001b[0m\u001b[1;33m\u001b[0m\u001b[1;33m\u001b[0m\u001b[0m\n\u001b[0m\u001b[0;32m     36\u001b[0m             \u001b[0mrandom\u001b[0m\u001b[1;33m.\u001b[0m\u001b[0mseed\u001b[0m\u001b[1;33m(\u001b[0m\u001b[0mseed\u001b[0m\u001b[1;33m)\u001b[0m\u001b[1;33m\u001b[0m\u001b[1;33m\u001b[0m\u001b[0m\n\u001b[0;32m     37\u001b[0m             \u001b[0mtorch\u001b[0m\u001b[1;33m.\u001b[0m\u001b[0mmanual_seed\u001b[0m\u001b[1;33m(\u001b[0m\u001b[0mseed\u001b[0m\u001b[1;33m)\u001b[0m\u001b[1;33m\u001b[0m\u001b[1;33m\u001b[0m\u001b[0m\n",
      "\u001b[1;32m~\\Anaconda3\\envs\\deeplearning\\lib\\site-packages\\torchvision\\transforms\\transforms.py\u001b[0m in \u001b[0;36m__call__\u001b[1;34m(self, img)\u001b[0m\n\u001b[0;32m     93\u001b[0m     \u001b[1;32mdef\u001b[0m \u001b[0m__call__\u001b[0m\u001b[1;33m(\u001b[0m\u001b[0mself\u001b[0m\u001b[1;33m,\u001b[0m \u001b[0mimg\u001b[0m\u001b[1;33m)\u001b[0m\u001b[1;33m:\u001b[0m\u001b[1;33m\u001b[0m\u001b[1;33m\u001b[0m\u001b[0m\n\u001b[0;32m     94\u001b[0m         \u001b[1;32mfor\u001b[0m \u001b[0mt\u001b[0m \u001b[1;32min\u001b[0m \u001b[0mself\u001b[0m\u001b[1;33m.\u001b[0m\u001b[0mtransforms\u001b[0m\u001b[1;33m:\u001b[0m\u001b[1;33m\u001b[0m\u001b[1;33m\u001b[0m\u001b[0m\n\u001b[1;32m---> 95\u001b[1;33m             \u001b[0mimg\u001b[0m \u001b[1;33m=\u001b[0m \u001b[0mt\u001b[0m\u001b[1;33m(\u001b[0m\u001b[0mimg\u001b[0m\u001b[1;33m)\u001b[0m\u001b[1;33m\u001b[0m\u001b[1;33m\u001b[0m\u001b[0m\n\u001b[0m\u001b[0;32m     96\u001b[0m         \u001b[1;32mreturn\u001b[0m \u001b[0mimg\u001b[0m\u001b[1;33m\u001b[0m\u001b[1;33m\u001b[0m\u001b[0m\n\u001b[0;32m     97\u001b[0m \u001b[1;33m\u001b[0m\u001b[0m\n",
      "\u001b[1;32m~\\Anaconda3\\envs\\deeplearning\\lib\\site-packages\\torch\\nn\\modules\\module.py\u001b[0m in \u001b[0;36m_call_impl\u001b[1;34m(self, *input, **kwargs)\u001b[0m\n\u001b[0;32m   1192\u001b[0m         if not (self._backward_hooks or self._forward_hooks or self._forward_pre_hooks or _global_backward_hooks\n\u001b[0;32m   1193\u001b[0m                 or _global_forward_hooks or _global_forward_pre_hooks):\n\u001b[1;32m-> 1194\u001b[1;33m             \u001b[1;32mreturn\u001b[0m \u001b[0mforward_call\u001b[0m\u001b[1;33m(\u001b[0m\u001b[1;33m*\u001b[0m\u001b[0minput\u001b[0m\u001b[1;33m,\u001b[0m \u001b[1;33m**\u001b[0m\u001b[0mkwargs\u001b[0m\u001b[1;33m)\u001b[0m\u001b[1;33m\u001b[0m\u001b[1;33m\u001b[0m\u001b[0m\n\u001b[0m\u001b[0;32m   1195\u001b[0m         \u001b[1;31m# Do not call functions when jit is used\u001b[0m\u001b[1;33m\u001b[0m\u001b[1;33m\u001b[0m\u001b[1;33m\u001b[0m\u001b[0m\n\u001b[0;32m   1196\u001b[0m         \u001b[0mfull_backward_hooks\u001b[0m\u001b[1;33m,\u001b[0m \u001b[0mnon_full_backward_hooks\u001b[0m \u001b[1;33m=\u001b[0m \u001b[1;33m[\u001b[0m\u001b[1;33m]\u001b[0m\u001b[1;33m,\u001b[0m \u001b[1;33m[\u001b[0m\u001b[1;33m]\u001b[0m\u001b[1;33m\u001b[0m\u001b[1;33m\u001b[0m\u001b[0m\n",
      "\u001b[1;32m~\\Anaconda3\\envs\\deeplearning\\lib\\site-packages\\torchvision\\transforms\\transforms.py\u001b[0m in \u001b[0;36mforward\u001b[1;34m(self, img)\u001b[0m\n\u001b[0;32m    673\u001b[0m         \u001b[0mi\u001b[0m\u001b[1;33m,\u001b[0m \u001b[0mj\u001b[0m\u001b[1;33m,\u001b[0m \u001b[0mh\u001b[0m\u001b[1;33m,\u001b[0m \u001b[0mw\u001b[0m \u001b[1;33m=\u001b[0m \u001b[0mself\u001b[0m\u001b[1;33m.\u001b[0m\u001b[0mget_params\u001b[0m\u001b[1;33m(\u001b[0m\u001b[0mimg\u001b[0m\u001b[1;33m,\u001b[0m \u001b[0mself\u001b[0m\u001b[1;33m.\u001b[0m\u001b[0msize\u001b[0m\u001b[1;33m)\u001b[0m\u001b[1;33m\u001b[0m\u001b[1;33m\u001b[0m\u001b[0m\n\u001b[0;32m    674\u001b[0m \u001b[1;33m\u001b[0m\u001b[0m\n\u001b[1;32m--> 675\u001b[1;33m         \u001b[1;32mreturn\u001b[0m \u001b[0mF\u001b[0m\u001b[1;33m.\u001b[0m\u001b[0mcrop\u001b[0m\u001b[1;33m(\u001b[0m\u001b[0mimg\u001b[0m\u001b[1;33m,\u001b[0m \u001b[0mi\u001b[0m\u001b[1;33m,\u001b[0m \u001b[0mj\u001b[0m\u001b[1;33m,\u001b[0m \u001b[0mh\u001b[0m\u001b[1;33m,\u001b[0m \u001b[0mw\u001b[0m\u001b[1;33m)\u001b[0m\u001b[1;33m\u001b[0m\u001b[1;33m\u001b[0m\u001b[0m\n\u001b[0m\u001b[0;32m    676\u001b[0m \u001b[1;33m\u001b[0m\u001b[0m\n\u001b[0;32m    677\u001b[0m     \u001b[1;32mdef\u001b[0m \u001b[0m__repr__\u001b[0m\u001b[1;33m(\u001b[0m\u001b[0mself\u001b[0m\u001b[1;33m)\u001b[0m \u001b[1;33m->\u001b[0m \u001b[0mstr\u001b[0m\u001b[1;33m:\u001b[0m\u001b[1;33m\u001b[0m\u001b[1;33m\u001b[0m\u001b[0m\n",
      "\u001b[1;32m~\\Anaconda3\\envs\\deeplearning\\lib\\site-packages\\torchvision\\transforms\\functional.py\u001b[0m in \u001b[0;36mcrop\u001b[1;34m(img, top, left, height, width)\u001b[0m\n\u001b[0;32m    546\u001b[0m         \u001b[0m_log_api_usage_once\u001b[0m\u001b[1;33m(\u001b[0m\u001b[0mcrop\u001b[0m\u001b[1;33m)\u001b[0m\u001b[1;33m\u001b[0m\u001b[1;33m\u001b[0m\u001b[0m\n\u001b[0;32m    547\u001b[0m     \u001b[1;32mif\u001b[0m \u001b[1;32mnot\u001b[0m \u001b[0misinstance\u001b[0m\u001b[1;33m(\u001b[0m\u001b[0mimg\u001b[0m\u001b[1;33m,\u001b[0m \u001b[0mtorch\u001b[0m\u001b[1;33m.\u001b[0m\u001b[0mTensor\u001b[0m\u001b[1;33m)\u001b[0m\u001b[1;33m:\u001b[0m\u001b[1;33m\u001b[0m\u001b[1;33m\u001b[0m\u001b[0m\n\u001b[1;32m--> 548\u001b[1;33m         \u001b[1;32mreturn\u001b[0m \u001b[0mF_pil\u001b[0m\u001b[1;33m.\u001b[0m\u001b[0mcrop\u001b[0m\u001b[1;33m(\u001b[0m\u001b[0mimg\u001b[0m\u001b[1;33m,\u001b[0m \u001b[0mtop\u001b[0m\u001b[1;33m,\u001b[0m \u001b[0mleft\u001b[0m\u001b[1;33m,\u001b[0m \u001b[0mheight\u001b[0m\u001b[1;33m,\u001b[0m \u001b[0mwidth\u001b[0m\u001b[1;33m)\u001b[0m\u001b[1;33m\u001b[0m\u001b[1;33m\u001b[0m\u001b[0m\n\u001b[0m\u001b[0;32m    549\u001b[0m \u001b[1;33m\u001b[0m\u001b[0m\n\u001b[0;32m    550\u001b[0m     \u001b[1;32mreturn\u001b[0m \u001b[0mF_t\u001b[0m\u001b[1;33m.\u001b[0m\u001b[0mcrop\u001b[0m\u001b[1;33m(\u001b[0m\u001b[0mimg\u001b[0m\u001b[1;33m,\u001b[0m \u001b[0mtop\u001b[0m\u001b[1;33m,\u001b[0m \u001b[0mleft\u001b[0m\u001b[1;33m,\u001b[0m \u001b[0mheight\u001b[0m\u001b[1;33m,\u001b[0m \u001b[0mwidth\u001b[0m\u001b[1;33m)\u001b[0m\u001b[1;33m\u001b[0m\u001b[1;33m\u001b[0m\u001b[0m\n",
      "\u001b[1;32m~\\Anaconda3\\envs\\deeplearning\\lib\\site-packages\\torchvision\\transforms\\functional_pil.py\u001b[0m in \u001b[0;36mcrop\u001b[1;34m(img, top, left, height, width)\u001b[0m\n\u001b[0;32m    235\u001b[0m         \u001b[1;32mraise\u001b[0m \u001b[0mTypeError\u001b[0m\u001b[1;33m(\u001b[0m\u001b[1;34mf\"img should be PIL Image. Got {type(img)}\"\u001b[0m\u001b[1;33m)\u001b[0m\u001b[1;33m\u001b[0m\u001b[1;33m\u001b[0m\u001b[0m\n\u001b[0;32m    236\u001b[0m \u001b[1;33m\u001b[0m\u001b[0m\n\u001b[1;32m--> 237\u001b[1;33m     \u001b[1;32mreturn\u001b[0m \u001b[0mimg\u001b[0m\u001b[1;33m.\u001b[0m\u001b[0mcrop\u001b[0m\u001b[1;33m(\u001b[0m\u001b[1;33m(\u001b[0m\u001b[0mleft\u001b[0m\u001b[1;33m,\u001b[0m \u001b[0mtop\u001b[0m\u001b[1;33m,\u001b[0m \u001b[0mleft\u001b[0m \u001b[1;33m+\u001b[0m \u001b[0mwidth\u001b[0m\u001b[1;33m,\u001b[0m \u001b[0mtop\u001b[0m \u001b[1;33m+\u001b[0m \u001b[0mheight\u001b[0m\u001b[1;33m)\u001b[0m\u001b[1;33m)\u001b[0m\u001b[1;33m\u001b[0m\u001b[1;33m\u001b[0m\u001b[0m\n\u001b[0m\u001b[0;32m    238\u001b[0m \u001b[1;33m\u001b[0m\u001b[0m\n\u001b[0;32m    239\u001b[0m \u001b[1;33m\u001b[0m\u001b[0m\n",
      "\u001b[1;32m~\\Anaconda3\\envs\\deeplearning\\lib\\site-packages\\PIL\\Image.py\u001b[0m in \u001b[0;36mcrop\u001b[1;34m(self, box)\u001b[0m\n\u001b[0;32m   1209\u001b[0m             \u001b[1;32mraise\u001b[0m \u001b[0mValueError\u001b[0m\u001b[1;33m(\u001b[0m\u001b[1;34m\"Coordinate 'lower' is less than 'upper'\"\u001b[0m\u001b[1;33m)\u001b[0m\u001b[1;33m\u001b[0m\u001b[1;33m\u001b[0m\u001b[0m\n\u001b[0;32m   1210\u001b[0m \u001b[1;33m\u001b[0m\u001b[0m\n\u001b[1;32m-> 1211\u001b[1;33m         \u001b[0mself\u001b[0m\u001b[1;33m.\u001b[0m\u001b[0mload\u001b[0m\u001b[1;33m(\u001b[0m\u001b[1;33m)\u001b[0m\u001b[1;33m\u001b[0m\u001b[1;33m\u001b[0m\u001b[0m\n\u001b[0m\u001b[0;32m   1212\u001b[0m         \u001b[1;32mreturn\u001b[0m \u001b[0mself\u001b[0m\u001b[1;33m.\u001b[0m\u001b[0m_new\u001b[0m\u001b[1;33m(\u001b[0m\u001b[0mself\u001b[0m\u001b[1;33m.\u001b[0m\u001b[0m_crop\u001b[0m\u001b[1;33m(\u001b[0m\u001b[0mself\u001b[0m\u001b[1;33m.\u001b[0m\u001b[0mim\u001b[0m\u001b[1;33m,\u001b[0m \u001b[0mbox\u001b[0m\u001b[1;33m)\u001b[0m\u001b[1;33m)\u001b[0m\u001b[1;33m\u001b[0m\u001b[1;33m\u001b[0m\u001b[0m\n\u001b[0;32m   1213\u001b[0m \u001b[1;33m\u001b[0m\u001b[0m\n",
      "\u001b[1;32m~\\Anaconda3\\envs\\deeplearning\\lib\\site-packages\\PIL\\TiffImagePlugin.py\u001b[0m in \u001b[0;36mload\u001b[1;34m(self)\u001b[0m\n\u001b[0;32m   1217\u001b[0m     \u001b[1;32mdef\u001b[0m \u001b[0mload\u001b[0m\u001b[1;33m(\u001b[0m\u001b[0mself\u001b[0m\u001b[1;33m)\u001b[0m\u001b[1;33m:\u001b[0m\u001b[1;33m\u001b[0m\u001b[1;33m\u001b[0m\u001b[0m\n\u001b[0;32m   1218\u001b[0m         \u001b[1;32mif\u001b[0m \u001b[0mself\u001b[0m\u001b[1;33m.\u001b[0m\u001b[0mtile\u001b[0m \u001b[1;32mand\u001b[0m \u001b[0mself\u001b[0m\u001b[1;33m.\u001b[0m\u001b[0muse_load_libtiff\u001b[0m\u001b[1;33m:\u001b[0m\u001b[1;33m\u001b[0m\u001b[1;33m\u001b[0m\u001b[0m\n\u001b[1;32m-> 1219\u001b[1;33m             \u001b[1;32mreturn\u001b[0m \u001b[0mself\u001b[0m\u001b[1;33m.\u001b[0m\u001b[0m_load_libtiff\u001b[0m\u001b[1;33m(\u001b[0m\u001b[1;33m)\u001b[0m\u001b[1;33m\u001b[0m\u001b[1;33m\u001b[0m\u001b[0m\n\u001b[0m\u001b[0;32m   1220\u001b[0m         \u001b[1;32mreturn\u001b[0m \u001b[0msuper\u001b[0m\u001b[1;33m(\u001b[0m\u001b[1;33m)\u001b[0m\u001b[1;33m.\u001b[0m\u001b[0mload\u001b[0m\u001b[1;33m(\u001b[0m\u001b[1;33m)\u001b[0m\u001b[1;33m\u001b[0m\u001b[1;33m\u001b[0m\u001b[0m\n\u001b[0;32m   1221\u001b[0m \u001b[1;33m\u001b[0m\u001b[0m\n",
      "\u001b[1;32m~\\Anaconda3\\envs\\deeplearning\\lib\\site-packages\\PIL\\TiffImagePlugin.py\u001b[0m in \u001b[0;36m_load_libtiff\u001b[1;34m(self)\u001b[0m\n\u001b[0;32m   1313\u001b[0m                 \u001b[0mself\u001b[0m\u001b[1;33m.\u001b[0m\u001b[0mfp\u001b[0m\u001b[1;33m.\u001b[0m\u001b[0mseek\u001b[0m\u001b[1;33m(\u001b[0m\u001b[1;36m0\u001b[0m\u001b[1;33m)\u001b[0m\u001b[1;33m\u001b[0m\u001b[1;33m\u001b[0m\u001b[0m\n\u001b[0;32m   1314\u001b[0m             \u001b[1;31m# 4 bytes, otherwise the trace might error out\u001b[0m\u001b[1;33m\u001b[0m\u001b[1;33m\u001b[0m\u001b[1;33m\u001b[0m\u001b[0m\n\u001b[1;32m-> 1315\u001b[1;33m             \u001b[0mn\u001b[0m\u001b[1;33m,\u001b[0m \u001b[0merr\u001b[0m \u001b[1;33m=\u001b[0m \u001b[0mdecoder\u001b[0m\u001b[1;33m.\u001b[0m\u001b[0mdecode\u001b[0m\u001b[1;33m(\u001b[0m\u001b[1;34mb\"fpfp\"\u001b[0m\u001b[1;33m)\u001b[0m\u001b[1;33m\u001b[0m\u001b[1;33m\u001b[0m\u001b[0m\n\u001b[0m\u001b[0;32m   1316\u001b[0m         \u001b[1;32melse\u001b[0m\u001b[1;33m:\u001b[0m\u001b[1;33m\u001b[0m\u001b[1;33m\u001b[0m\u001b[0m\n\u001b[0;32m   1317\u001b[0m             \u001b[1;31m# we have something else.\u001b[0m\u001b[1;33m\u001b[0m\u001b[1;33m\u001b[0m\u001b[1;33m\u001b[0m\u001b[0m\n",
      "\u001b[1;31mKeyboardInterrupt\u001b[0m: "
     ]
    }
   ],
   "source": [
    "model = UNetResNet(2)\n",
    "loaders = {'train' : train_loader, 'val' : val_loader}\n",
    "model = train(model, loaders, num_epochs=1000, learning_rate=1e-3)"
   ]
  }
 ],
 "metadata": {
  "kernelspec": {
   "display_name": "Python 3 (ipykernel)",
   "language": "python",
   "name": "python3"
  },
  "language_info": {
   "codemirror_mode": {
    "name": "ipython",
    "version": 3
   },
   "file_extension": ".py",
   "mimetype": "text/x-python",
   "name": "python",
   "nbconvert_exporter": "python",
   "pygments_lexer": "ipython3",
   "version": "3.7.16"
  }
 },
 "nbformat": 4,
 "nbformat_minor": 5
}
