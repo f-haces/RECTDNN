{
 "cells": [
  {
   "cell_type": "code",
   "execution_count": 1,
   "id": "c7621809",
   "metadata": {},
   "outputs": [
    {
     "name": "stdout",
     "output_type": "stream",
     "text": [
      "WARNING  Python>=3.10 is required, but Python==3.8.18 is currently installed \n"
     ]
    }
   ],
   "source": [
    "# NOTEBOOK IMPORTS\n",
    "import os, glob, warnings, pickle, re, traceback\n",
    "import numpy as np\n",
    "from shutil import copyfile\n",
    "from datetime import datetime\n",
    "from fuzzywuzzy import process\n",
    "import easyocr\n",
    "\n",
    "# IMAGE IMPORTS\n",
    "from PIL import Image\n",
    "import cv2\n",
    "\n",
    "# GIS IMPORTS\n",
    "from affinetransformation import *\n",
    "from affine import Affine\n",
    "import pandas as pd\n",
    "import geopandas as gpd\n",
    "import rasterio as rio\n",
    "\n",
    "# IMAGE IMPORTS\n",
    "# from skimage.morphology import skeletonize\n",
    "# from skimage import img_as_bool, img_as_ubyte\n",
    "\n",
    "\n",
    "# PLOTTING IMPORTS\n",
    "import matplotlib.pyplot as plt\n",
    "\n",
    "# CUSTOM UTILITIES\n",
    "from IndexUtils import * \n",
    "from TileUtils import *\n",
    "from TileNameFinder import *\n",
    "from ReadDate import *\n",
    "from featurematching import *\n",
    "\n",
    "Image.MAX_IMAGE_PIXELS = 933120000\n",
    "warnings.filterwarnings(\"ignore\")\n",
    "initialize = False\n",
    "\n",
    "%matplotlib widget"
   ]
  },
  {
   "cell_type": "markdown",
   "id": "5ed09b63",
   "metadata": {},
   "source": [
    "IO directories depending on which machine. "
   ]
  },
  {
   "cell_type": "code",
   "execution_count": 2,
   "id": "34617015",
   "metadata": {},
   "outputs": [],
   "source": [
    "username = os.getlogin()\n",
    "\n",
    "dnn_params = {}\n",
    "dnn_params['CLNN'] = {}\n",
    "dnn_params['TPNN'] = {}\n",
    "dnn_params['RLNN'] = {}\n",
    "dnn_params['FLNN'] = {}\n",
    "dnn_params['TLNN'] = {}\n",
    "\n",
    "\n",
    "if username == 'fhacesga':\n",
    "    base_input_path   = r\"D:\\RECTDNN\\uncompress_2\\\\\"\n",
    "    base_output_path  = r\"D:\\RECTDNN\\processing\\\\\"\n",
    "    ref_dir  = r\"C:\\Users\\fhacesga\\OneDrive - University Of Houston\\AAA_RECTDNN\\data\\AAA_ReferenceDatasets\\\\\"\n",
    "    tiled_yolo_model_paths = [\n",
    "        r\"C:\\Users\\fhacesga\\OneDrive - University Of Houston\\AAA_RECTDNN\\data\\CORNERS\\CornersTiled_111324.pt\",\n",
    "        r\"C:\\Users\\fhacesga\\OneDrive - University Of Houston\\AAA_RECTDNN\\data\\FANN\\FANN_large_YOLO.pt\"\n",
    "    ]\n",
    "elif username == 'fhace':\n",
    "    base_input_path   = r\"C:\\Users\\fhace\\Desktop\\FIRMs\\data\\Uncompress\\\\\"\n",
    "    ref_dir = r\"C:\\Users\\fhace\\Desktop\\FIRMs\\data\\AAA_ReferenceDatasets\\\\\"\n",
    "    base_output_path = r\"C:\\Users\\fhace\\Desktop\\FIRMs\\data\\Outputs\\\\\"\n",
    "    # dnn_params['TLNN']['model_weights']    = r\"C:\\Users\\fhace\\Desktop\\FIRMs\\data\\BBNN\\curr_weights.pt\"\n",
    "    dnn_params['CLNN']['model_checkpoint'] = r\"C:\\Users\\fhace\\Desktop\\FIRMs\\data\\RLNN\\checkpoint_101423.pth\"\n",
    "    dnn_params['TPNN']['model_checkpoint'] = r\"C:\\Users\\fhace\\OneDrive - University Of Houston\\AAA_RECTDNN\\data\\TPNN\\checkpoint_091523_pyramids_2.pth\"\n",
    "    dnn_params['RLNN']['model_checkpoint'] = r\"C:\\Users\\fhace\\OneDrive - University Of Houston\\AAA_RECTDNN\\data\\RLNN\\checkpoint_091323.pth\"\n",
    "    \n",
    "else:\n",
    "    base_input_path   = r\"D:\\Desktop\\FIRMsDigitizing\\data\\HistoricalFIRMS\"\n",
    "    base_output_path  = r\"D:\\Desktop\\FIRMsDigitizing\\processing\"\n",
    "    ref_dir  = r\"C:\\Users\\franc\\OneDrive - University Of Houston\\AAA_RECTDNN\\data\\AAA_ReferenceDatasets\\\\\"\n",
    "\n",
    "if not initialize:\n",
    "    initialize = init_databases(ref_dir)\n",
    "\n",
    "try:\n",
    "    reader\n",
    "except:\n",
    "    reader = easyocr.Reader(['en']) "
   ]
  },
  {
   "cell_type": "markdown",
   "id": "a5ca1967",
   "metadata": {},
   "source": [
    "Create working dir and unzip all files if needed"
   ]
  },
  {
   "cell_type": "code",
   "execution_count": 3,
   "id": "28ab84aa",
   "metadata": {},
   "outputs": [],
   "source": [
    "def getLegendNumber(image, reader):\n",
    "\n",
    "    im_arry = np.asarray(image).astype(np.uint8) * 255\n",
    "    im_arry_crop = im_arry[int(-0.05 * im_arry.shape[0]):, int(-0.1 * im_arry.shape[1]):]\n",
    "    im_arry_crop = cv2.GaussianBlur(im_arry_crop, (1, 1), 1, 1)\n",
    "\n",
    "    im_scan = reader.readtext(im_arry_crop, detail=1, text_threshold=0.9)\n",
    "\n",
    "    if len(im_scan) == 0:\n",
    "        return None\n",
    "\n",
    "    best = np.argmax([a[-1] for a in im_scan])\n",
    "\n",
    "    text = re.sub('[^0-9]', \"\", im_scan[best][1])\n",
    "    if text == '':\n",
    "        return None\n",
    "\n",
    "    return text\n"
   ]
  },
  {
   "cell_type": "code",
   "execution_count": 4,
   "id": "39875d63",
   "metadata": {},
   "outputs": [
    {
     "data": {
      "application/vnd.jupyter.widget-view+json": {
       "model_id": "bb2a2ec8a6174fa08c192a54c1c4d09b",
       "version_major": 2,
       "version_minor": 0
      },
      "text/plain": [
       "  0%|          | 0/893 [00:00<?, ?it/s]"
      ]
     },
     "metadata": {},
     "output_type": "display_data"
    },
    {
     "name": "stdout",
     "output_type": "stream",
     "text": [
      "Error opening D:\\RECTDNN\\uncompress_2\\485510.tif\n",
      "cannot identify image file 'D:\\\\RECTDNN\\\\uncompress_2\\\\485510.tif'\n",
      "Error opening D:\\RECTDNN\\uncompress_2\\485510B.tif\n",
      "cannot identify image file 'D:\\\\RECTDNN\\\\uncompress_2\\\\485510B.tif'\n",
      "Error opening D:\\RECTDNN\\uncompress_2\\485516A.tif\n",
      "cannot identify image file 'D:\\\\RECTDNN\\\\uncompress_2\\\\485516A.tif'\n"
     ]
    }
   ],
   "source": [
    "remove_files = []\n",
    "\n",
    "for filename in tqdm(glob.glob(base_input_path + \"\\\\*.tif*\")):\n",
    "    tiff_file = os.path.join(base_input_path, filename)\n",
    "    try:\n",
    "    # Check if the file is a multi-page TIFF\n",
    "        with Image.open(tiff_file) as img:\n",
    "            if img.is_animated:    \n",
    "                prev_counter = 0\n",
    "                print(f\"Expanding {os.path.basename(tiff_file)} into {img.n_frames}\")\n",
    "                for i in range(img.n_frames):\n",
    "                    if i == 0:\n",
    "                        img.seek(i)\n",
    "                        output_filename = f\"{os.path.splitext(tiff_file)[0]}_IND{os.path.splitext(tiff_file)[1]}\"\n",
    "                        img.save(output_filename, format=img.format)\n",
    "                    else:\n",
    "                        try:\n",
    "                            img.seek(i)\n",
    "                            text = getLegendNumber(np.asarray(img), reader)\n",
    "\n",
    "                            if text is not None:\n",
    "                                output_filename = f\"{os.path.splitext(tiff_file)[0]}_{text}.tif\"\n",
    "                                img.save(output_filename, format=img.format)\n",
    "                                prev_counter = int(text)\n",
    "                            \n",
    "                            else:\n",
    "                                prev_counter = prev_counter+1\n",
    "                                output_filename = f\"{os.path.splitext(tiff_file)[0]}_unsure_{prev_counter}.tif\"\n",
    "                                img.save(output_filename, format=img.format)\n",
    "                        except:\n",
    "                            print(f\"Error with {tiff_file} page {i}\")\n",
    "                            print(traceback.format_exc())\n",
    "                            continue\n",
    "                remove_files.append(tiff_file)\n",
    "    except Exception as e:\n",
    "        print(f\"Error opening {tiff_file}\")\n",
    "        print(e)\n",
    "        continue\n",
    "\n",
    "for tiff_file in remove_files:\n",
    "   os.remove(tiff_file)"
   ]
  },
  {
   "cell_type": "code",
   "execution_count": 5,
   "id": "eca9abcb",
   "metadata": {},
   "outputs": [],
   "source": [
    "# MAKE PROCESSING DIRECTORY\n",
    "datetime_str = datetime.now().strftime(\"%Y-%m-%d_%H-%M-%S\")\n",
    "proc_dir     = os.path.join(base_output_path, datetime_str)\n",
    "# proc_dir = r\"D:\\RECTDNN\\processing\\2024-11-15_09-31-24\\\\\"\n",
    "# proc_dir = r\"D:\\RECTDNN\\processing\\2025-01-21_17-30-34\\\\\"\n",
    "proc_dir = r\"D:\\RECTDNN\\processing\\2025-01-29_16-17-10\\\\\"\n",
    "\n",
    "# IF THERE ARE ANY ZIP FILES IN DIRECTORY, UNZIP THEM IN PLACE\n",
    "if len(glob.glob(base_input_path + \"*.zip*\")) != 0:\n",
    "    extractZipFiles(base_input_path, base_input_path)\n",
    "\n",
    "outputs_dir  = os.path.join(proc_dir, \"Outputs\")\n",
    "os.makedirs(outputs_dir, exist_ok=True)"
   ]
  },
  {
   "cell_type": "markdown",
   "id": "469fbdb7",
   "metadata": {},
   "source": [
    "Read through all the images in the directory. Some images are saved as Multi-page TIFF files. These need to be exported into individual images. We'll do that first in-place at uncompressed directory"
   ]
  },
  {
   "cell_type": "code",
   "execution_count": 6,
   "id": "ea68a26c",
   "metadata": {},
   "outputs": [
    {
     "data": {
      "application/vnd.jupyter.widget-view+json": {
       "model_id": "581a24d2017c43ecbdb67d2f9b8ac347",
       "version_major": 2,
       "version_minor": 0
      },
      "text/plain": [
       "  0%|          | 0/893 [00:00<?, ?it/s]"
      ]
     },
     "metadata": {},
     "output_type": "display_data"
    },
    {
     "name": "stdout",
     "output_type": "stream",
     "text": [
      "Error opening D:\\RECTDNN\\uncompress_2\\485510.tif\n",
      "cannot identify image file 'D:\\\\RECTDNN\\\\uncompress_2\\\\485510.tif'\n",
      "Error opening D:\\RECTDNN\\uncompress_2\\485510B.tif\n",
      "cannot identify image file 'D:\\\\RECTDNN\\\\uncompress_2\\\\485510B.tif'\n",
      "Error opening D:\\RECTDNN\\uncompress_2\\485516A.tif\n",
      "cannot identify image file 'D:\\\\RECTDNN\\\\uncompress_2\\\\485516A.tif'\n"
     ]
    }
   ],
   "source": [
    "remove_files = []\n",
    "\n",
    "for filename in tqdm(glob.glob(base_input_path + \"\\\\*.tif*\")):\n",
    "    tiff_file = os.path.join(base_input_path, filename)\n",
    "    try:\n",
    "    # Check if the file is a multi-page TIFF\n",
    "        with Image.open(tiff_file) as img:\n",
    "            if img.is_animated:    \n",
    "                print(f\"Expanding {os.path.basename(tiff_file)} into {img.n_frames}\")\n",
    "                for i in range(img.n_frames):\n",
    "                    try:\n",
    "                        img.seek(i)\n",
    "                        output_filename = f\"{os.path.splitext(tiff_file)[0]}_{i+1}{os.path.splitext(tiff_file)[1]}\"\n",
    "                        img.save(output_filename, format=img.format)\n",
    "                    except:\n",
    "                        print(f\"Error with {tiff_file} page {i}\")\n",
    "                        continue\n",
    "                remove_files.append(tiff_file)\n",
    "    except Exception as e:\n",
    "        print(f\"Error opening {tiff_file}\")\n",
    "        print(e)\n",
    "        continue\n",
    "\n",
    "for tiff_file in remove_files:\n",
    "    os.remove(tiff_file)"
   ]
  },
  {
   "cell_type": "markdown",
   "id": "acac9f90",
   "metadata": {},
   "source": [
    "Here we're using heuristics to identify indices within all the image files. These include:\n",
    "- Files that are shorter than 12 characters\n",
    "- Files that have the ```IND``` marker\n",
    "\n",
    "We create a Pandas DataFrame with the files matching. We then add several fields as below"
   ]
  },
  {
   "cell_type": "code",
   "execution_count": 7,
   "id": "d5180ac2",
   "metadata": {},
   "outputs": [],
   "source": [
    "# LIST ALL IMAGES IN DIRECTORY\n",
    "image_files = glob.glob(f\"{base_input_path}/*48201*\")\n",
    "\n",
    "# FILTER IMAGES USING HEURISTICS\n",
    "patterns = [\"IND\", \"_1.\"]\n",
    "index_files = [file for pattern in patterns for file in glob.glob(base_input_path + \"\\\\*48201*\" + pattern + \"*\")]\n",
    "filtered_files = [file for file in image_files if len(os.path.basename(file)) < 12]\n",
    "index_files.extend(filtered_files)\n",
    "index_files = [a for a in index_files if \"unsure\" not in a]\n",
    "\n",
    "# CREATE DATAFRAME\n",
    "index_files = pd.DataFrame(index_files, columns=[\"FilePath\"])\n",
    "\n",
    "# INDEX ATTRIBUTES TO BE ADDED\n",
    "index_files[\"Basename\"] = [os.path.basename(file) for file in index_files[\"FilePath\"].to_list()]    # BASENAME\n",
    "index_files[\"Location\"] = index_files[\"Basename\"].apply(extract_numerical_chars).astype(np.int32)   # \n",
    "index_files[\"GEOID\"]    = index_files[\"Location\"].apply(getGEOID)       # GET GEOID FOR EACH INDEX\n",
    "index_files[\"geometry\"] = index_files[\"GEOID\"].apply(getGeometry)       # GET GEOMETRY FROM MATCHING GEOIDs"
   ]
  },
  {
   "cell_type": "markdown",
   "id": "1fc84090",
   "metadata": {},
   "source": [
    "This is where we perform the ICP for each index..."
   ]
  },
  {
   "cell_type": "code",
   "execution_count": 8,
   "id": "f855f845",
   "metadata": {},
   "outputs": [],
   "source": [
    "verbose = True\n",
    "\n",
    "TPNN = None\n",
    "RLNN = None\n",
    "CLNN = None\n",
    "TLNN = None\n",
    "\n",
    "# THIS CHECKS WHETHER THE RUN WAS INTERRUPTED\n",
    "# TO MAKE SURE WE'RE NOT STARTING FROM SCRATCH UNNECESSARILY\n",
    "try:\n",
    "    gen_dict\n",
    "    print(\"Starting with predefined dict\")\n",
    "except:\n",
    "    gen_dict = {}\n",
    "\n",
    "# gen_dict = {}\n",
    "\n",
    "# OUTPUT DIRECTORY FOR GENERAL RESULTS STRUCTURE\n",
    "output_struct_dir = os.path.join(outputs_dir, \"IndexCoords.pkl\")\n",
    "\n",
    "if not os.path.exists(output_struct_dir):\n",
    "    for i, row in tqdm(index_files.iterrows(), total=index_files.shape[0]):\n",
    "        \n",
    "        try:\n",
    "\n",
    "            filename = os.path.basename(row[\"FilePath\"])\n",
    "            \n",
    "            # THIS CHECKS WHETHER THIS PARTICULAR RASTER WAS RUN ALREADY BY USING THE INDIVIDUAL PKL FILE\n",
    "            if os.path.exists(os.path.join(outputs_dir, f\"{filename}.pkl\")):\n",
    "                print(f\"Skipping, found {os.path.join(outputs_dir, filename + '.pkl')}\")\n",
    "                continue\n",
    "\n",
    "            # READ FILES AND CONVERT TO GRAYSCALE\n",
    "            image = cv2.imread(row[\"FilePath\"])\n",
    "            image = cv2.cvtColor(image, cv2.COLOR_BGR2GRAY)\n",
    "            image_arry = np.asarray(image)\n",
    "            \n",
    "            # SAVE IMAGE TO OUTPUT DIRECTORY\n",
    "            output_image_fn = os.path.join(outputs_dir, filename.split(\".\")[0] + \".tif\")\n",
    "            copyfile(row[\"FilePath\"], output_image_fn)\n",
    "\n",
    "            # GET BOUNDARY POINTS FROM RESPECTIVE SHAPEFILE\n",
    "            output = getBoundaryPoints(row, distance=100) # TODO: THIS IS THE SAME AS OUR APPROX ACCURACY - MAYBE MAKE IT TIGHTER? \n",
    "            if output is None:\n",
    "                print(f\"COULD NOT FIND SHAPEFILE FOR {filename}\")\n",
    "                continue\n",
    "            point_boundary_gdf, shp_bounds = output\n",
    "            \n",
    "            # RUN IMAGES THROUGH DNNs\n",
    "            classifications, TPNN  = findKeypoints(image, model=TPNN, **dnn_params['TPNN'], legacy=True)\n",
    "            effectiveArea, RLNN    = findSquares(image, model=RLNN, **dnn_params['RLNN'])\n",
    "            countyArea, CLNN       = findCounty(image, model=CLNN, **dnn_params['CLNN'])\n",
    "            tiles, TLNN            = runTLNN(row['FilePath'], outputs_dir, TLNN=TLNN)\n",
    "\n",
    "            dnn_outputs = {\n",
    "                \"classifications\"   : classifications,\n",
    "                \"effectiveArea\"     : effectiveArea,\n",
    "                \"countyArea\"    : countyArea,\n",
    "                \"tiles\"         : tiles\n",
    "            }\n",
    "            \n",
    "            # GET COUNTY BOUNDS IDENTIFIED IN INDEX BY TLNN\n",
    "            # bounds_panels = tiles[\"county\"][\"bbox\"]\n",
    "            bounds_panels = find_bbox(dnn_outputs['countyArea'][:, :, 1])\n",
    "\n",
    "            # SKIP IF WE CAN'T FIND BOUNDARY IN EXISTING DATABASES\n",
    "            if point_boundary_gdf is None:\n",
    "                continue\n",
    "\n",
    "            # DEFINE BOUNDARY STRUCTU\n",
    "            boundaries = {\n",
    "                \"point_boundary_gdf\"    : point_boundary_gdf,\n",
    "                \"shp_bounds\"            : shp_bounds,\n",
    "                \"bounds_panels\"         : bounds_panels,\n",
    "            }\n",
    "\n",
    "            # WHAT ARE WE LOOKING FOR IN EACH IDENTIFIED SQUARE?\n",
    "            key = findKey(row[\"Basename\"])    \n",
    "            if key is None:\n",
    "                print(f\"Could not find key in {filename}\")\n",
    "            \n",
    "            # DO ICP\n",
    "            transform_dict = performICPonIndex(boundaries, dnn_outputs, debug=False, plot=True, rotation=False, shear=False, perspective=False, icp_iterations=30, proc_limit=500)\n",
    "\n",
    "            # GET TRANSFORM FROM ICP TO CRS TRANSFORM\n",
    "            output_transform, transform_dict = ICPtoCRSTransform(image_arry, transform_dict)\n",
    "\n",
    "            # GET OUTPUT TRANSFORM INTO AFFINE AND WRITE\n",
    "            output_affine = Affine(*output_transform.flatten()[:6])\n",
    "            with rio.open(output_image_fn, 'w',\n",
    "                driver='GTiff',\n",
    "                height=image.shape[0], width=image.shape[1],\n",
    "                count=1, dtype=image.dtype,\n",
    "                crs=f'EPSG:3857',\n",
    "                transform=rio.Affine(*output_transform.flatten()[:6])) as dst:\n",
    "                    dst.write(image, 1)   \n",
    "\n",
    "            tiles['transform_info'] = transform_dict\n",
    "            tiles['output_transform'] = output_transform\n",
    "            tiles['DNN_outputs'] = dnn_outputs\n",
    "            gen_dict[filename] = tiles\n",
    "            \n",
    "            with open(os.path.join(outputs_dir, f\"{filename}.pkl\"), 'wb') as handle:\n",
    "                pickle.dump(gen_dict, handle, protocol=pickle.HIGHEST_PROTOCOL)\n",
    "        except Exception: \n",
    "            print(f'Error with {os.path.basename(row[\"FilePath\"])}')\n",
    "            print(traceback.format_exc())\n",
    "            continue\n",
    "    \n",
    "    # SAVE AS GENERAL OUTPUT\n",
    "    with open(os.path.join(outputs_dir, \"IndexCoords.pkl\"), 'wb') as handle:\n",
    "        pickle.dump(gen_dict, handle, protocol=pickle.HIGHEST_PROTOCOL)\n",
    "else:\n",
    "    with open(output_struct_dir, 'rb') as f:\n",
    "        gen_dict = pickle.load(f)"
   ]
  },
  {
   "cell_type": "code",
   "execution_count": 9,
   "id": "b2a1dd55",
   "metadata": {},
   "outputs": [
    {
     "name": "stdout",
     "output_type": "stream",
     "text": [
      "48201CIND0.tif\n",
      "48201CIND0A.tif\n",
      "48201CIND0B.tif\n",
      "48201CIND0C.tif\n",
      "48201CIND0D.tif\n",
      "48201CIND0E.tif\n",
      "48201CIND0F.tif\n",
      "48201CIND0_0990.jpg\n",
      "48201CIND0_0992.tif\n",
      "48201CIND0_1196.tif\n"
     ]
    }
   ],
   "source": [
    "for i, (k, v) in enumerate(gen_dict.items()):\n",
    "    print(k)"
   ]
  },
  {
   "cell_type": "code",
   "execution_count": 11,
   "id": "62e88317",
   "metadata": {},
   "outputs": [
    {
     "data": {
      "application/vnd.jupyter.widget-view+json": {
       "model_id": "252d2400dea046aa9d348d861799b3d9",
       "version_major": 2,
       "version_minor": 0
      },
      "text/plain": [
       "  0%|          | 0/10 [00:00<?, ?it/s]"
      ]
     },
     "metadata": {},
     "output_type": "display_data"
    },
    {
     "data": {
      "application/vnd.jupyter.widget-view+json": {
       "model_id": "a995b2b6e7714406b2f34163c57bcdb2",
       "version_major": 2,
       "version_minor": 0
      },
      "text/plain": [
       "  0%|          | 0/148 [00:00<?, ?it/s]"
      ]
     },
     "metadata": {},
     "output_type": "display_data"
    },
    {
     "data": {
      "application/vnd.jupyter.widget-view+json": {
       "model_id": "b9db16e2811b4cf3a84431b5c12c6fe1",
       "version_major": 2,
       "version_minor": 0
      },
      "text/plain": [
       "  0%|          | 0/160 [00:00<?, ?it/s]"
      ]
     },
     "metadata": {},
     "output_type": "display_data"
    },
    {
     "data": {
      "application/vnd.jupyter.widget-view+json": {
       "model_id": "a565fa82476d4e69868def453687d3be",
       "version_major": 2,
       "version_minor": 0
      },
      "text/plain": [
       "  0%|          | 0/163 [00:00<?, ?it/s]"
      ]
     },
     "metadata": {},
     "output_type": "display_data"
    },
    {
     "data": {
      "application/vnd.jupyter.widget-view+json": {
       "model_id": "af1049057b364269889115c4b515e20e",
       "version_major": 2,
       "version_minor": 0
      },
      "text/plain": [
       "  0%|          | 0/161 [00:00<?, ?it/s]"
      ]
     },
     "metadata": {},
     "output_type": "display_data"
    },
    {
     "data": {
      "application/vnd.jupyter.widget-view+json": {
       "model_id": "cdc752fd6f1c4dcd84d23ddf0d8879e9",
       "version_major": 2,
       "version_minor": 0
      },
      "text/plain": [
       "  0%|          | 0/160 [00:00<?, ?it/s]"
      ]
     },
     "metadata": {},
     "output_type": "display_data"
    },
    {
     "data": {
      "application/vnd.jupyter.widget-view+json": {
       "model_id": "639e5136e4b949919edd9592ad3a6563",
       "version_major": 2,
       "version_minor": 0
      },
      "text/plain": [
       "  0%|          | 0/160 [00:00<?, ?it/s]"
      ]
     },
     "metadata": {},
     "output_type": "display_data"
    },
    {
     "data": {
      "application/vnd.jupyter.widget-view+json": {
       "model_id": "8d4ec8e651f64605af469e5bdaca4b05",
       "version_major": 2,
       "version_minor": 0
      },
      "text/plain": [
       "  0%|          | 0/164 [00:00<?, ?it/s]"
      ]
     },
     "metadata": {},
     "output_type": "display_data"
    },
    {
     "data": {
      "application/vnd.jupyter.widget-view+json": {
       "model_id": "6761b0eb1a2f4a27b38313f5482a3271",
       "version_major": 2,
       "version_minor": 0
      },
      "text/plain": [
       "  0%|          | 0/78 [00:00<?, ?it/s]"
      ]
     },
     "metadata": {},
     "output_type": "display_data"
    },
    {
     "data": {
      "application/vnd.jupyter.widget-view+json": {
       "model_id": "41f5942c8c62433584f1ebd736921287",
       "version_major": 2,
       "version_minor": 0
      },
      "text/plain": [
       "  0%|          | 0/79 [00:00<?, ?it/s]"
      ]
     },
     "metadata": {},
     "output_type": "display_data"
    },
    {
     "data": {
      "application/vnd.jupyter.widget-view+json": {
       "model_id": "3031c592aaa942dbab7ddd4b52c1a9d2",
       "version_major": 2,
       "version_minor": 0
      },
      "text/plain": [
       "  0%|          | 0/149 [00:00<?, ?it/s]"
      ]
     },
     "metadata": {},
     "output_type": "display_data"
    }
   ],
   "source": [
    "smartdict_dir = os.path.join(proc_dir, \"SmartDict.p\")\n",
    "\n",
    "if os.path.exists(smartdict_dir):\n",
    "    with open(smartdict_dir, 'rb') as handle:\n",
    "        tile_coords = pickle.load(handle)\n",
    "else:\n",
    "    tile_coords = smartifyDict(gen_dict, base_input_path, reader, verbose=0, diagnostics=True)\n",
    "\n",
    "    with open(smartdict_dir, 'wb') as handle:\n",
    "        pickle.dump(tile_coords, handle, protocol=pickle.HIGHEST_PROTOCOL)"
   ]
  },
  {
   "cell_type": "code",
   "execution_count": 12,
   "id": "5a36a3dc",
   "metadata": {},
   "outputs": [],
   "source": [
    "with open(os.path.join(proc_dir, \"SmartDict.p\"), 'wb') as handle:\n",
    "    pickle.dump(tile_coords, handle, protocol=pickle.HIGHEST_PROTOCOL)"
   ]
  },
  {
   "cell_type": "code",
   "execution_count": 13,
   "id": "8a63ed37",
   "metadata": {},
   "outputs": [
    {
     "data": {
      "text/plain": [
       "True"
      ]
     },
     "execution_count": 13,
     "metadata": {},
     "output_type": "execute_result"
    }
   ],
   "source": [
    "stateplanes = gpd.read_file(f\"{data_dir}/AAA_ReferenceDatasets/stateplane.shp\")\n",
    "intersections = gpd.read_file(f\"{data_dir}/AAA_ReferenceDatasets/OSM_Roads/TexasRoads_filtered_strict_3857_nondupe_smaller.gpkg\", engine='pyogrio', use_arrow=True)\n",
    "roads_gdf = gpd.read_file(r\"C:\\Users\\fhacesga\\Downloads\\TexasRoads_filtered_strict_3857.gpkg\", engine='pyogrio', use_arrow=True)\n",
    "init_databases(f\"{data_dir}/AAA_ReferenceDatasets/\")"
   ]
  },
  {
   "cell_type": "markdown",
   "id": "8053154f",
   "metadata": {},
   "source": [
    "Which tiles are we processing?"
   ]
  },
  {
   "cell_type": "code",
   "execution_count": 14,
   "id": "0b09ede7",
   "metadata": {},
   "outputs": [],
   "source": [
    "# LIST ALL IMAGES IN DIRECTORY\n",
    "image_files = []\n",
    "wildcards = ['48201']\n",
    "# wildcards = ['480287']\n",
    "# wildcards = ['480296']\n",
    "for w in wildcards:\n",
    "    image_files.extend(glob.glob(f\"{base_input_path}/*{w}*\"))\n",
    "image_files = [f for f in image_files if 'w' not in os.path.splitext(f)[1]]\n",
    "\n",
    "# FILTER IMAGES USING HEURISTICS TO GET TILEINDICES\n",
    "patterns = [\"IND\", \"_1.\"]\n",
    "index_files = [file for pattern in patterns for file in glob.glob(base_input_path + \"\\\\*\" + pattern + \"*.*[!w]*\")]\n",
    "filtered_files = [file for file in image_files if len(os.path.basename(file)) < 12]\n",
    "index_files.extend(filtered_files)\n",
    "index_files = [a for a in index_files if \"unsure\" not in a]\n",
    "\n",
    "# GET ACTUAL TILES\n",
    "tiles       = list(set(image_files) - set(index_files))\n",
    "tiles_bns   = [os.path.basename(tile).split(\".\")[0] for tile in tiles]"
   ]
  },
  {
   "cell_type": "markdown",
   "id": "b16d15a8",
   "metadata": {},
   "source": [
    "Build tile database for detections in images"
   ]
  },
  {
   "cell_type": "code",
   "execution_count": 15,
   "id": "eeaacbb0",
   "metadata": {},
   "outputs": [
    {
     "name": "stdout",
     "output_type": "stream",
     "text": [
      "586 389\n"
     ]
    }
   ],
   "source": [
    "duplicate_db, non_dupped_dict, dupped_dict = buildDetectedDatabase(gen_dict)\n",
    "\n",
    "print(len(non_dupped_dict), len(dupped_dict))  \n",
    "\n",
    "detected_tiles = pd.DataFrame.from_dict(non_dupped_dict).T\n",
    "detected_tiles['geometry'] = detected_tiles['coords'].apply(bbox_to_polygon)\n",
    "detected_tiles_gdf = gpd.GeoDataFrame(detected_tiles)\n",
    "detected_tiles_gdf = detected_tiles_gdf[['geometry']]"
   ]
  },
  {
   "cell_type": "code",
   "execution_count": 16,
   "id": "4d521691",
   "metadata": {},
   "outputs": [],
   "source": [
    "if os.path.exists(os.path.join(proc_dir, \"observed_misses.csv\")):\n",
    "    miss_dict = pd.read_csv(os.path.join(proc_dir, \"observed_misses.csv\"), delimiter=\"\\t\")\n",
    "    for i, r in miss_dict.iterrows():\n",
    "        new_name = os.path.splitext(r['filename'])[0].replace(\"_IND\", \"\")\n",
    "        if new_name[-1].isalpha():\n",
    "            new_name = new_name[:-1]\n",
    "\n",
    "        new_name = new_name + f\"_{r['tilenumber']}\"\n",
    "        print(new_name)\n",
    "        tile_coords[new_name] = tile_coords[r['tilename']]"
   ]
  },
  {
   "cell_type": "code",
   "execution_count": 36,
   "id": "57ccfc54",
   "metadata": {},
   "outputs": [
    {
     "data": {
      "application/vnd.jupyter.widget-view+json": {
       "model_id": "9bd3a6219eb74238b918ff70e0845aa8",
       "version_major": 2,
       "version_minor": 0
      },
      "text/plain": [
       "  0%|          | 0/383 [00:00<?, ?it/s]"
      ]
     },
     "metadata": {},
     "output_type": "display_data"
    },
    {
     "name": "stdout",
     "output_type": "stream",
     "text": [
      "Found D:\\RECTDNN\\processing\\2025-01-29_16-17-10\\\\referencing\\48201C1095J.tif\n",
      "Found D:\\RECTDNN\\processing\\2025-01-29_16-17-10\\\\referencing\\48201C0405J.tif\n",
      "Found D:\\RECTDNN\\processing\\2025-01-29_16-17-10\\\\referencing\\48201C0295L.tif\n",
      "Found D:\\RECTDNN\\processing\\2025-01-29_16-17-10\\\\referencing\\48201C0195M.tif\n",
      "Found D:\\RECTDNN\\processing\\2025-01-29_16-17-10\\\\referencing\\48201C0420L.tif\n",
      "Found D:\\RECTDNN\\processing\\2025-01-29_16-17-10\\\\referencing\\48201C0630J.tif\n",
      "Found D:\\RECTDNN\\processing\\2025-01-29_16-17-10\\\\referencing\\48201C0465J.tif\n",
      "Found D:\\RECTDNN\\processing\\2025-01-29_16-17-10\\\\referencing\\48201C0840K.tif\n",
      "Processing 48201C0130G--------------------------------------------------\n",
      "Couldn't find strict, now trying 482010130\n",
      "Could not find tile in detections 482010130\n",
      "Processing 48201C0215G--------------------------------------------------\n",
      "([datetime.datetime(1990, 9, 28, 0, 0)], ['HARRIS COUNTY,', 'TEXAS AND', 'INCORPORATED AREAS', 'PANEL 215 OF 390', '(SEE MAP INDEX FOA PANELS Not PRINTED}', 'CONTAWNS:', 'COMMUNITY~ WUMBER   PANEL = SUFFIX', 'UNINCORPORATED AREAS &  480287   02i5. 6', 'MAP NUMBER', '48201C0215 G', 'EFFECTIVE DATE:', 'SEPTEMBER 28, 1990', 'Federal Emergency Management Agency', 'V'])\n",
      "Could not find key G for current tile from options [0, 'L'], using closest date from all keys\n",
      "Using 1996-11-29 00:00:00 for tile date 1990-09-28 00:00:00\n",
      "Processing 48201C0445K--------------------------------------------------\n",
      "Could not find date in ['CITY OF', '313  ! | Ehoustov/|WEARRIS COUNTY ?', '480296- ||WTEXAS AND', '1', 'INCORFORATDAREAS', '3C €', 'TllC', 'Xleid', \"ZONEt ~ U/ 8a~) ' _ Toc ## Ek8T|W pahel 445 DF 1135\", 'Rent4', 'WE0 Mnt | UdoocotXITID', 'Zhox| KN', 'SaUO', 'Qi', 'ro| \"', 'JurII 2 _VD', 'KII', 'To', 'ZONE', 'Eei', 'ZONE', 'Mult', 'Map MUMBER', '48207C0445 *', 'MAP REVISED:', 'Zuog2', 'RPRIL ZU, \"2400', 'Tpte Oa Uaie 25*38*00\"', '{Li; QWu{C', 'Krdrtaa', 'EttgeT } Menxsetceni Agenc;', 'E'], trying to use K\n",
      "Could not find tile extension in detections 48201C0445 - K, using default L from options dict_keys(['L', 'M', 'J'])\n",
      "Processing 48201CSTD02--------------------------------------------------\n",
      "COULD NOT FIND BOUNDS, USING IMAGE EXTENTS 48201CSTD02\n",
      "Couldn't find strict, now trying 4820102\n",
      "Could not find tile in detections 4820102\n",
      "Processing 48201C1035K--------------------------------------------------\n",
      "([datetime.datetime(2000, 4, 20, 0, 0)], ['HARRIS COUNTY,', 'TEXAS AND', 'INCORPORATED   AREAS', 'PANEl 1035 OF 1135', '(SEE MAP INDEX FQP FANELS NOT PRINTED}', 'CONTAINS:', 'OMMUNITY _ NUMBER   PANEL   SUFFIX', 'KARRIS', 'UNINCOASCRATED AAEAS   480287   1035', 'HOUSTON Gly %F 480296   1035', '0n', 'Map NUMBER', '48201C1035 K', 'MAP REVISED:', 'APRIL 20,2000', 'Federal Emergency Management Agency'])\n",
      "Using 2000-04-20 00:00:00 for tile date 2000-04-20 00:00:00\n"
     ]
    },
    {
     "name": "stderr",
     "output_type": "stream",
     "text": [
      "01/29/2025 18:28:23 - WARNING - rasterio._env -   CPLE_AppDefined in D:/RECTDNN/uncompress_2/48201C1080L.tif: _TIFFVSetField:D:/RECTDNN/uncompress_2/48201C1080L.tif: Null count for \"Tag 32934\" (type 4, writecount -3, passcount 1)\n"
     ]
    },
    {
     "name": "stdout",
     "output_type": "stream",
     "text": [
      "Processing 48201C1080L--------------------------------------------------\n",
      "([datetime.datetime(2007, 6, 18, 0, 0)], ['T4u4uo CUUI\"1 1', 'TEXAS', 'AND NNCORPORATED AREAS', 'PANEL 1080 OF 1150', '(SEE   MAP   INDEX   FOR   FIRM   PANEL  LAYOUT)', 'CONIAINS _', '1', 'COMMUNITY NumbER > PANEL_> sufaX', 'PASADENA CITY OF 480307 1080', 'HOUSTON, CITY OF 480298 1080', 'TAYLORLAKE VILAGE, GITY CF  4855t3 I0BO', 'HARRIS COUNTY', 'UNINCORPORATED AREAS 480287 10BC', 'WD', 'Notice to User: The Map Number shown balow should be used', 'when   plecing map  orders;  the  Community   Numbar   shown', 'above should be used on insurance applications for the subject', 'community:', 'MAP NUMBER', '48201C1080L', 'MAP REVISED:', 'JUNE 18 , 2007', 'Federal Emergency Management Agency', 'OEPART ,', 'SECUB', 'AND'])\n",
      "Using 2014-06-09 00:00:00 for tile date 2007-06-18 00:00:00\n",
      "Processing 48201C1065J--------------------------------------------------\n",
      "Could not find date in ['HARRIS COUNTY', 'TEXAS AND', 'INCORPORATED   AREAS', 'Panel 1065 OF 1135', '{SEF MAP INDEX FOR\" PANELS NOT PRINTED}', 'CONTAINS:', 'COMMUNIY_~~ NUMBER   PANEL  SUFFIX', 'HARHIS COUNLY,', 'UNINCORPORAIEC ARE\"S  480287   1065', 'PEARL ND{dtY &F 480077  1065', '(9', 'Map NUMBER', '48201C1065', 'MAP REVISED:', \"9030'*00\", 'NOVEMBER 6,1996', '\"ederal Emergency Management Agenc'], trying to use J\n",
      "Could not find tile extension in detections 48201C1065 - J, using default K from options dict_keys(['K', 'L', 'M', 0])\n",
      "Processing 48201C0785J--------------------------------------------------\n",
      "([datetime.datetime(1996, 11, 6, 0, 0)], ['HARRIS COUNTY,', 'TEXAS  AND', 'INCORPORATED   AREAS', 'PANEL 785 OF 1135', 'iSEE MAP INDEX FOR ?ANELS NOT PRINTED)', 'CONTAINS:', 'COMMUNTYNNGER   PANEL   SUFFIX', 'HARRIS CCUNTY', 'UNINCCRPCRATEDxAREXS 480287  0785', 'HOUSTCNGlx 0ra 180295  0785', 'U', 'MAP NUMBEP', '48201C0785 )', 'Map REVISEB:', 'NOVEMBER 6, 1996', 'Federal Emnergercy Management Agency', 'KRUS'])\n",
      "Could not find key J for current tile from options [0, 'L'], using closest date from all keys\n",
      "Using 1996-11-29 00:00:00 for tile date 1996-11-06 00:00:00\n",
      "Processing 48201C0905M--------------------------------------------------\n",
      "([datetime.datetime(2017, 1, 6, 0, 0)], ['HARRIS COUNTY', 'TEXAS', 'AND INCORPORATED AREAS', 'PANEL 905 OF 1150', '(SEE MAP INDEX FOR FIRM PANEL LAYOUT )', 'CQNTAINS:', 'CQMMUNITY NUMBER   PANEL   SUFFIX', 'GALENA PARK Clty QF 480293  0905 M', 'HARRIS COUNTY 480287  0905 m', 'KOUSTON, CITY OF 480236  Cg05 M', 'PASADENA, CITY OF 480307  0s05 M', 'Notice to User;   The Map Number shom below should be', 'used  when placing  map crders; the Community Number', 'showi aboie should be used on Insurance applications for the', 'subject corruriity:', 'MAP NUMBER', '48201CO9O5M', 'MAP REVISED', 'JANUARY 6, 2017', 'Federal Emergency Management Agency', 'Map', 'AND'])\n",
      "Using 1900-01-01 00:00:00 for tile date 2017-01-06 00:00:00\n",
      "Using 1900-01-01 00:00:00 for tile date 2017-01-06 00:00:00\n",
      "CLOSEST DATE IN KEY IS TOO FAR (42739 days), using general instead (1900-01-01 00:00:00)\n",
      "Processing 48201C0520J--------------------------------------------------\n",
      "([datetime.datetime(1996, 11, 6, 0, 0)], ['HARRIS  COUNTY,', 'TEXAS AND', 'INCORPORATED AREAS', 'PANEL 520 OF 1135', '{SEE MAP INDEX FOR PANELS NoT PRINTED}', 'CONTAINS', 'COMMUNTY _\" NUMBER   PANEL   SUFFIX', 'HARRS CCUNTY', 'UNINCOAPORATED ~REAS  48025}  OEz0', 'HCUSTON QTY OF Va 4802c6  Us20', 'V', 'MAP NUMBER', '48201C0520 )', 'MAP REVISED;', 'NOVEMBER  6, 1996', 'Federal Emergency Management Agency'])\n",
      "Using 1996-11-29 00:00:00 for tile date 1996-11-06 00:00:00\n",
      "Processing 48201C0100G--------------------------------------------------\n",
      "COULD NOT FIND BOUNDS, USING IMAGE EXTENTS 48201C0100G\n",
      "([datetime.datetime(1990, 9, 28, 0, 0)], ['ZQNE |e .hh HARRIS COUNTY', 'TEXAS AND', 'INCORPORATED AREAS', 'PANEL 100 OF 390', 'ZCME AB464 HHHHW <see MAP INDEX FoR PANELS NOT PRINTED}', 'CONTAIKS:', 'GO6MunIty64  KumBeh ` PANEL   SUFFlX', '#uis U\" CiT Wf   *857r3106   Co', 'Li IcuFs UH; LJ AIILAS` ~{Wzi   jiu', 'aqi', 'ZONE X', 'MXP NUMBER', '48201C0100 6', 'EFFECTIVE DATE:', 'ZONE X u VaNc SEPTEMBER 28 , 1990', \"'deral Emlergency Management Agency\", 'BvAJ', 'BCuL', '4uPd'])\n",
      "Could not find key G for current tile from options ['L', 0], using closest date from all keys\n",
      "Using 1990-09-28 00:00:00 for tile date 1990-09-28 00:00:00\n",
      "Processing 48201C0250G--------------------------------------------------\n",
      "Couldn't find strict, now trying 482010250\n",
      "Could not find tile in detections 482010250\n",
      "Processing 48201C0105G--------------------------------------------------\n",
      "([datetime.datetime(1990, 9, 28, 0, 0)], ['HARRIS COUNTY', 'TEXAS AND', 'INCORPORATED AREAS', 'PANEL 105 OF 390', '(SEE MAP INDEXFOR PANELS NOt PRiNTEd)', 'CONTAINS:', 'cQmmuniiyVax  NUMBEE   PANEL   Suefwx', 'KUMBLE CITY OF480297   0105 6', 'HOuSTCN, CITY OF 480296   0105 {', 'UNINCORPCRATED AREAS 480287   0105 ` {', '0n', 'MAP NUMBER', '48201C0105 G', 'EFFECTIVE DATE :', 'SEPTEMBER 28, 1990', 'Federal Emergency Management Agency'])\n",
      "Using 1992-09-30 00:00:00 for tile date 1990-09-28 00:00:00\n",
      "Processing 48201C0445J--------------------------------------------------\n",
      "([datetime.datetime(1996, 11, 6, 0, 0)], ['HARRIS  COUNTY', 'TEXAS AND', 'INCORPORATED  AREAS', 'PANEL 445 OF 1135', '{SEE MAP INDEX FOR #ANELS Nor PRINTED)', 'CONTAINS:', 'COMMUNITY _ NUMBER   PANEL  SUFFI', 'HAAAS COU', 'UMCORPUERTED AREFS 430287  0445', 'HouScN GT} CF 420230 3445', 'JERSEY MLLAGE Cly OF  430300 145', 'U)', 'MAp NuMBER', \"'48201C0445\", 'Map REVISED:', 'november 6, 1996', 'Federal Emergency Management Agency'])\n",
      "Using 1996-11-29 00:00:00 for tile date 1996-11-06 00:00:00\n"
     ]
    },
    {
     "name": "stderr",
     "output_type": "stream",
     "text": [
      "01/29/2025 18:29:35 - WARNING - rasterio._env -   CPLE_AppDefined in D:/RECTDNN/uncompress_2/48201C0720L.tif: _TIFFVSetField:D:/RECTDNN/uncompress_2/48201C0720L.tif: Null count for \"Tag 32934\" (type 4, writecount -3, passcount 1)\n"
     ]
    },
    {
     "name": "stdout",
     "output_type": "stream",
     "text": [
      "Processing 48201C0720L--------------------------------------------------\n",
      "([datetime.datetime(2007, 6, 18, 0, 0)], ['TEXAS', 'AND INCORPORATED AREAS', 'PANEL 720 OF 1150', '(SEE   MAP   INDEX   FOR   FIRM   PANEL  LAYOUT}', 'CONIAINS', '2', 'COMMUNITY NUMBER > PANEL _> SUFAX', 'HAAAIS COUNTY,', 'UNINCORPORATED AREAS 480287 0720', 'HOUSTCN; CITY OF 480206 0720', 'Notice to Usor: The Map Number shown bolow should bo usod', 'when   placing   map  orders;  tho  Community   Numbar shown', 'above should be Usod on insuranca applications for the subjact', 'communitv:', 'MAP NUMBER', '48201C0720L', 'MAP REVISED:', 'JUNE 18, 2007', 'Federal Emergency Management Agency', 'M', 'DEEL', 'GECUR', 'AND'])\n",
      "Using 2013-10-16 00:00:00 for tile date 2007-06-18 00:00:00\n",
      "Processing 48201C0280G--------------------------------------------------\n",
      "([datetime.datetime(1980, 9, 28, 0, 0)], ['HARRIS COUNTY_', 'TEXAS AND', 'INCORPORATED AREAS', 'PANEL 280 OF 390', '(SEE MAP INDEXFoA PANELS NOT PRINTED)', 'CONTAINS:', 'COMMUNITY 41 NUMBER   PANEL   SUFFIX', 'BELLAIRE, CITY DF  ~a0z 480289   0280', 'HQUSTON, CITY 0f4480296   0280', 'HUNTERS CREEK VILLAGE; CiY OF   480298   0280', 'Un', 'MAP NUMBER', '48201C0280 G', 'EFFECTIVE DATE:', 'SEPTEMBER 28 , 1980', 'Federal', 'Emergency Management Agency'])\n",
      "Could not find key G for current tile from options [0, 'L'], using closest date from all keys\n",
      "Using 1990-09-28 00:00:00 for tile date 1980-09-28 00:00:00\n",
      "Using 1990-09-28 00:00:00 for tile date 1980-09-28 00:00:00\n",
      "CLOSEST DATE IN KEY IS TOO FAR (3652 days), using general instead (1990-09-28 00:00:00)\n"
     ]
    },
    {
     "name": "stderr",
     "output_type": "stream",
     "text": [
      "01/29/2025 18:29:47 - WARNING - rasterio._env -   CPLE_AppDefined in D:/RECTDNN/uncompress_2/48201C0640L.tif: _TIFFVSetField:D:/RECTDNN/uncompress_2/48201C0640L.tif: Null count for \"Tag 32934\" (type 4, writecount -3, passcount 1)\n"
     ]
    },
    {
     "name": "stdout",
     "output_type": "stream",
     "text": [
      "Processing 48201C0640L--------------------------------------------------\n",
      "([datetime.datetime(2007, 6, 18, 0, 0)], ['TEXAS', 'V', 'AND INCORPORATED AREAS', 'PANEL 640 OF 1150', '(SEE   MAP   INDEX   FOR   FIRM   PANEL  LAYOUT)', 'CQNTAINS_', 'COMMUNITY NumbeR > PANEL _> SUFFX', '9', 'HOUSTON, CITY OF 480286 0840', 'Notica to User: Tho Map Number shown bolow should be usod', 'whan   placing   map  orders;  the  Community   Nurber   shown', 'above should be Usod on insurance', 'applications for the subjoct', 'community-', 'MAP NUMBER', '48201C0640L', 'MAP REVISED:', 'JUNE 18, 2007', 'Federal Emergency Management Agency', 'ObPaRTl', 'SECUR E', 'AND'])\n",
      "Using 2013-10-16 00:00:00 for tile date 2007-06-18 00:00:00\n",
      "Processing 48201C1005J--------------------------------------------------\n",
      "([datetime.datetime(1996, 11, 6, 0, 0)], ['HARRIS COUNTY', 'TEXAS AND', 'INCORPORATED AREAS', 'PANEL 1005 8F 1135', '(SEE MAP INDEX Foh PANELS NOT PRINTED}', 'ONTANS', 'COMMUNTY~ NUMBER   PANEL   SUFFIX', 'HarRIS CO', 'UNINCORPORLTED ARFAS  480287  1005', 'NOUSTON,Ax CF 480298  1005', 'U)', 'MAP  NUMBER', '48201C1085 )', 'MAp REVKSED:', 'NOVEMBER 6, 1996', 'Federal Emergency Management Agency'])\n",
      "Using 1996-11-29 00:00:00 for tile date 1996-11-06 00:00:00\n",
      "Processing 48201C0050G--------------------------------------------------\n",
      "Could not find date in ['HARRIS CQUNTY,', 'TEXAS AND', 'INCORPORA TED AREAS', 'PANEL 50 Of 380', '(SEE MAP inDEX For PANELS Not Rhinte', 'CONININS:', 'Cohhunuy 4   * WWHBER', 'Unincoaporated Aers   3 *80267', '6', 'MAQnjCoGee', 'EFFECTIVE DATE:', 'SEPTENOCR 28, 1990', 'Federal Emergency Management Agency', '8'], trying to use G\n",
      "Could not find tile extension in detections 48201C0050 - G, using default L from options dict_keys(['L'])\n",
      "Processing 48201C0150G--------------------------------------------------\n",
      "COULD NOT FIND BOUNDS, USING IMAGE EXTENTS 48201C0150G\n",
      "([datetime.datetime(1990, 9, 28, 0, 0)], ['HARRIS COUNTY', 'TEXAS AND', 'INCORPORATED AREAS', 'PANEL 150 OF 390', 'Harris County', 'ISEE MAP INDT', 'CRPANEL', 'Not PRINTED}', 'incorporated Areas V W cowihrs:', 'COMMUNITY 7   WumbeR   PaNeL = SWFFUX', '480287', 'KuMale Zi7y 0: . ~RSF\"7   150', 'HcuStoN, CitT %; #0zii   GICD', 'inia \" IHD  Rael', 'AKERS 4Luze}   3162', 'Map NUMBER', 'Zonex U Hkhh #  48201c0f50 G', 'EFFECTIVE DATE:', 'SEPTEMBER 28, 1990', 'Fedcral', 'Emergercy Managemnent Agency'])\n",
      "Could not find key G for current tile from options ['L'], using closest date from all keys\n",
      "Using 2013-10-16 00:00:00 for tile date 1990-09-28 00:00:00\n",
      "Using 2013-10-16 00:00:00 for tile date 1990-09-28 00:00:00\n",
      "CLOSEST DATE IN KEY IS TOO FAR (8419 days), using general instead (2013-10-16 00:00:00)\n",
      "Processing 48201C0385M--------------------------------------------------\n",
      "Could not find date in ['TEXAS', 'AND INCORPORATED AREAS', 'PANEL 385 OF 1150', '(SEE MAP INDEX FOR FIRM PANEL LAYOUT)', 'CONTAINS:', 'COMMUNITY NUMBER   PANEL   SUFFIX', 'HARRIS COUNTY , 480287 0385 M', 'UNINCORPORATED AREAS', 'HOUSTON, CITY OF 480296 0385', 'Notice to User: The Map Number shown below should be used', 'when   placing   map orders;  the  Community   Number   shown', 'above should be used on insurance applications for the subject', 'community.', 'MAP NUMBER', '48201C0385M', '1', 'OCTOBERREVTSED', 'Federal Emergency Management Agency', 'Map'], trying to use M\n",
      "Processing 48201C0760M--------------------------------------------------\n",
      "([datetime.datetime(2015, 5, 4, 0, 0)], ['HARRIS COUNTY', 'TEXAS', 'AND INCORPORATED ARLAS', 'PANEL 760 OF 1150', '(SEE MAP INDEX FOR FIRM PANEL LAYOUT)', 'CONTAINS:', 'COMMUNITY NUMBER   PANEL   SUFFIX', 'BAYTOWN, CITY @F 485456  0760 m', 'HARRIS COUNTY 480287  0768 m', 'Nclice t0 User:   The Map Number shown belcw should be', 'used  When placing  map orders; the Community Number', 'show aboie shculd be used on insurance applications for the', 'subject comunity', 'SDMa MAP NUMBER', '48201C0760M', 'Sec', 'MAP REVISED', 'MAY 4,2015', 'Federal Emergency Management Agcncy', 'Map', 'WND'])\n",
      "Using 2015-05-04 00:00:00 for tile date 2015-05-04 00:00:00\n"
     ]
    },
    {
     "name": "stderr",
     "output_type": "stream",
     "text": [
      "01/29/2025 18:30:17 - WARNING - rasterio._env -   CPLE_AppDefined in D:/RECTDNN/uncompress_2/48201C0580L.tif: _TIFFVSetField:D:/RECTDNN/uncompress_2/48201C0580L.tif: Null count for \"Tag 32934\" (type 4, writecount -3, passcount 1)\n"
     ]
    },
    {
     "name": "stdout",
     "output_type": "stream",
     "text": [
      "Processing 48201C0580L--------------------------------------------------\n",
      "([datetime.datetime(2007, 6, 18, 0, 0)], ['14f4uu0 #UUi 1 1', 'TEXAS', 'AND NNCORPORATED AREAS', 'PANEL 580 OF 1150', '(SEE   MAP   INDEX   FOR   FIRM   PANEL   LAYOUT)', 'CQNIAINS ', '1', 'CQMMUNTY _ NumbeR > PANEL = SUFFX', 'HARRIS COUNTY,', 'UNINCORPORATED AREAS 480287 0580', 'Notice to Usor: The Map Number shown below should bo usod', 'when   placing   map  orders;  the  Communtty  Numbar  shown', 'above should be Used on Insurance applications for the subjoct', 'communiy', 'MAP NUMBER', '48201C0580L', 'MAP REVISED:', 'JUNE 18 , 2007', 'Federal Emergency Management Agency', 'Tho', 'DEPARTA', 'AND', 'SEC'])\n",
      "Using 2013-10-16 00:00:00 for tile date 2007-06-18 00:00:00\n",
      "Processing 48201C0145G--------------------------------------------------\n",
      "COULD NOT FIND BOUNDS, USING IMAGE EXTENTS 48201C0145G\n",
      "([datetime.datetime(1990, 9, 28, 0, 0)], ['ZONEX', 'HARRIS COUNTY', 'RM 332', 'TEXAS AND', 'INCORPORATED AREAS', 'ZONE', 'COLD_', 'SOLRgs |  khh panel 145 Of 390', '(SEE MAP iNoex', 'For Pansl', 'Not PAINTED)', 'CJMAKS:', 'GQhhumitY * WUMBE6 } PAHEL   SUFFIX', 'HJ_STON, cIlY U:  ~e  48(246   0*45', 'UnwcoaCORA FD AREAS~ 480287   0445', 'O', 'Map NUMBER', '48201C0145 G', 'EFFECTIVE DATE:', 'SEPTEMBER 28, 1990', 'ZONEXPhSCLs /ZONE:', '69 XZONEZAaWl Federal Emergency Management Agcncy', '1', '9', '0', '4', '1', '6'])\n",
      "Using 1992-09-30 00:00:00 for tile date 1990-09-28 00:00:00\n",
      "Processing 48201C0045J--------------------------------------------------\n",
      "([datetime.datetime(1996, 11, 6, 0, 0)], ['HARRIS COUNTTY,', 'TEXAS AND', 'INCORPORATED  AREAS', 'PANEL 45 OF 1135', '{SEE MAP INDEX FOASPANELS NOT PRINTED)', 'CONTAINS:', 'CMMUNTYMUUBER   PANEL   SUFFIX', 'TCMBALL CITY OF> 480315 0045', 'er', '0)', 'MaP NUMbER', '48201C0045 )', 'MAP REVISED:', 'NOVEMBER  6, 1996', 'Federal Emergency Management Agency'])\n",
      "Could not find key J for current tile from options [0, 'L'], using closest date from all keys\n",
      "Using 1996-11-29 00:00:00 for tile date 1996-11-06 00:00:00\n",
      "Processing 48201C0345J--------------------------------------------------\n",
      "([datetime.datetime(1996, 11, 6, 0, 0)], ['HARRIS COUNTY;', 'TEXAS AND', 'INCORPORATED   AREAS', 'PANEL 345 OF 1135', '(SEE MAP INDEX FOR PANELS NOT PRINTED)', 'CONIANS', 'CONMUNTY_ NUMBER   PANEL   SUFFIX_', 'MPRRIS Ccu', 'LNNCORRORATED AREAS  480287  034s', '0', 'MAP NUMBER', '48201C0345 )', 'MAP REVISED:', 'NOVEMBER  6, 1996', 'Federal Emergency Management Agency'])\n",
      "Could not find key J for current tile from options [0, 'L', 'G'], using closest date from all keys\n",
      "Using 1996-11-29 00:00:00 for tile date 1996-11-06 00:00:00\n"
     ]
    },
    {
     "name": "stderr",
     "output_type": "stream",
     "text": [
      "01/29/2025 18:30:34 - WARNING - rasterio._env -   CPLE_AppDefined in D:/RECTDNN/uncompress_2/48201C0430L.tif: _TIFFVSetField:D:/RECTDNN/uncompress_2/48201C0430L.tif: Null count for \"Tag 32934\" (type 4, writecount -3, passcount 1)\n"
     ]
    },
    {
     "name": "stdout",
     "output_type": "stream",
     "text": [
      "Processing 48201C0430L--------------------------------------------------\n",
      "Could not find date in ['TEXAS', 'AND INCORPORATED AREAS', 'PANEL 430 OF 1150', '(SEE   MAP   INDEX   FOR   FIRM   PANEL  LAYOUT)', 'CONTAINS_', 'COMMUNITY NUMBER > PANEL _> SVFFX', '1', 'HAUNISCOIFOFATED AFEAS}x 480287  0430', 'HOUSTON, CITY OF 480296 0430', 'Notice to User: The Map Number shown below should be used', 'when   placing   map  orders;  the  Community   Number   shown', 'above should be usad on insurance applications for the subject', 'community:', 'I', 'MAP NUMBER', '48201C0430L', 'MAP REVISED:', 'NinT', 'JUNE 18 , 2007', 'miTTI', 'Federal Emergency Management Agency', 'The', 'User:', 'DEPARTA', 'SECURI', 'AND'], trying to use L\n",
      "Processing 48201C0440J--------------------------------------------------\n",
      "([datetime.datetime(1996, 11, 6, 0, 0)], ['HARRIS COUNTY', 'TEXAS AND', 'INCORPORATED   AREAS', 'PANEL 440 OF 1135', '(SEE MAP INDEX FOn PANELS NOT PRINTED)', 'CONTAINS:', 'COMMUMTYFJUMBER   PANE   SUFFIX', 'HaRRIS coUii', 'LNNCORPORXTED ARExs   48178/  04n6', \"HOUSTUN, Gu OF 48,298  '4i0\", 'ITRSFY Mlalat #F 480306  {10', '0', 'MAp NUMBER', '48201C0440', 'Map  REVISED:', 'NOVEMBER 6, 1996', \"'ederal Emergency Management\", 'Agency'])\n",
      "Could not find key J for current tile from options ['K', 'L', 'M', 0], using closest date from all keys\n",
      "Using 1996-11-29 00:00:00 for tile date 1996-11-06 00:00:00\n"
     ]
    },
    {
     "name": "stderr",
     "output_type": "stream",
     "text": [
      "01/29/2025 18:30:44 - WARNING - rasterio._env -   CPLE_AppDefined in D:/RECTDNN/uncompress_2/48201C0695L.tif: _TIFFVSetField:D:/RECTDNN/uncompress_2/48201C0695L.tif: Null count for \"Tag 32934\" (type 4, writecount -3, passcount 1)\n"
     ]
    },
    {
     "name": "stdout",
     "output_type": "stream",
     "text": [
      "Processing 48201C0695L--------------------------------------------------\n",
      "Could not find date in ['144uu0 #UUI\" 1 1 =', 'TEXAS', 'AND INCORPORATED AREAS', 'PANEL 695 OF 1150', '(SEE   MAP   INDEX   FOR   FIRM   PANEL  LAYOUT)', 'CONTAINS', 'Oz', 'COMMUNITY NuMbER > PANEL _> SufFX', 'WD', 'HOUSTON, CITY OF 480206 0605', 'JACINTO CITY, CITY OF 480299 0505', 'GALENA PAFK CITY OF 480283 0605', 'Notica t0 User: Tha Map Number shown bolow should b0 usod', 'when   placing   map  orders;   the  Community   Numbar shown', 'above should be used on insurance  applications for the subjoct', 'community:', 'MAP NUMBER', '48201C0695L', 'MAP REVISED:', 'AND', 'JUNE 18, 2007', 'Federal Emergency Management Agency', 'DEPAR', 'SECS'], trying to use L\n"
     ]
    },
    {
     "name": "stderr",
     "output_type": "stream",
     "text": [
      "01/29/2025 18:30:49 - WARNING - rasterio._env -   CPLE_AppDefined in D:/RECTDNN/uncompress_2/48201C0480L.tif: _TIFFVSetField:D:/RECTDNN/uncompress_2/48201C0480L.tif: Null count for \"Tag 32934\" (type 4, writecount -3, passcount 1)\n"
     ]
    },
    {
     "name": "stdout",
     "output_type": "stream",
     "text": [
      "Processing 48201C0480L--------------------------------------------------\n",
      "Could not find date in ['Tuuuuu CUUI 1 1', 'TEXAS', 'W', 'AND INCORPORATED AREAS', 'PANEL 480 OF 1150', '{SEE   MAP   INDEX   FOR   FIRM   PANEL   LAYOUT)', 'CONTAINS;', 'COMMUNTY NUMBER = PANEL _= SUFFIX', '9', 'HOHRIOCOCNYOF  480298   0480', 'UNINCORPORATED AREAS 480287 0480', 'Notice to Usor: The Map Number shown below should be usod', 'whon   placing   map   ordors;   the   Community   Number   shown', 'above should bo used on insurance applications for the subject', 'communitv:', 'MAP NUMBER', '48201C048OL', 'MAP REVISED:', 'AND', 'JUNE 18 , 2007', 'Federal Emergency Management Agency', 'F1', 'DEPARTA', 'SECUB'], trying to use L\n",
      "Processing 48201C0325G--------------------------------------------------\n",
      "([datetime.datetime(1990, 9, 28, 0, 0)], ['HARRIS COUNTY', 'TEXAS AND', 'INCORPORATED AREAS', 'PANEL 325 OF 390', '(SEE MAP INDEX FoA PANELS Not PRINTED)', 'CONTAINS:', 'COMMUNITY _ 9  NUMBE . PANEL   SUFFIX', 'hoUSTON; CTY OF  Raren 480296   0325', 'U]', 'MAP NUMBER', '48201C0325 G', 'EFFECTIVE DATE:', 'SEPTEMBER 28, 1990', 'Federal Emergency Management Agency'])\n",
      "Using 1990-09-28 00:00:00 for tile date 1990-09-28 00:00:00\n"
     ]
    },
    {
     "name": "stderr",
     "output_type": "stream",
     "text": [
      "01/29/2025 18:30:58 - WARNING - rasterio._env -   CPLE_AppDefined in D:/RECTDNN/uncompress_2/48201C0515L.tif: _TIFFVSetField:D:/RECTDNN/uncompress_2/48201C0515L.tif: Null count for \"Tag 32934\" (type 4, writecount -3, passcount 1)\n"
     ]
    },
    {
     "name": "stdout",
     "output_type": "stream",
     "text": [
      "Processing 48201C0515L--------------------------------------------------\n",
      "Could not find date in ['LL HJJ1', 'TEXAS', 'AND INCORPORATED AREAS', 'PANEL 515 OF 1150', '(SEE   MAP   INDEX   FOR   FIRM   PANEL  LAYOUT)', 'CQNTAINS_', '9', 'COMMUNITY_ NuMBER = PANEL   SUFFX', '2', 'HARISCCOPORATED AREAS} 480287  0515', 'Notica to Usar: Tha Map Number shown bolow should bo usad', 'when', 'placing   map   orders;   tho  Community   Number   shown', 'above should be usad on insuranco applications for the subjact', 'community', 'MAP NUMBER', '48201C0515L', 'MAP REVISED:', 'AND', 'JUNE 18, 2007', 'Federal Emergency Management Agency', 'Tho', 'SECUR'], trying to use L\n",
      "Processing 48201C0885M--------------------------------------------------\n",
      "([datetime.datetime(2017, 1, 6, 0, 0)], ['HARRIS COUNTY,', 'TEXAS', 'AND INCORPORATED AREAS', 'PANEL 885 OF 1150', '(SEE MAP INDEX FOR FIRM PANEL LAYOUT )', 'CONTAINS:', 'COMMUNITY NUMBER   PANEL   SUFFIX', 'GALENA PARK CITy OF 480293  0885 m', 'HARRIS COUNTY 480287  0885 M', 'HouSTON, CITY OF 480295  0885 M', 'Notice t User:   The Map Number show below should be', 'used   when placing map orders; the Community Number', 'showi aboie should be used on insurance', 'applications for the', 'subject cormunity:', 'MAP NUMBER', '48201C0885M', 'MAP REVISED', 'JANUARY 6, 2017', 'Federal Emergency Management Agency', 'AND'])\n",
      "Using 1900-01-01 00:00:00 for tile date 2017-01-06 00:00:00\n",
      "Using 1900-01-01 00:00:00 for tile date 2017-01-06 00:00:00\n",
      "CLOSEST DATE IN KEY IS TOO FAR (42739 days), using general instead (1900-01-01 00:00:00)\n",
      "Processing 48201C1055K--------------------------------------------------\n",
      "([datetime.datetime(2000, 4, 20, 0, 0)], ['HARRIS COUNTY,', 'TEXAS AND', 'INCORPORATED   AREAS', 'PANEL 1055 OF 1135', '{SEE MAP INDEX FOR PANELS NOT PRINTED}', 'CONTAINS:', 'COMMUNITY _^ NUMBER PANEL   SUFFIX', 'KARRIS COUNTY', 'UNINCORPORATED AREAS 480787   1055', 'HOUSTON; CITYOF 480296   1065', 'PEARLANC,ClieOF 480077  1055', 'U', 'MAP  NUMBER', '48201C1055 K', 'Map REVISED;', 'APRIL 20,2000', 'Federal Emergency Management Agency'])\n",
      "Using 2000-04-20 00:00:00 for tile date 2000-04-20 00:00:00\n",
      "Processing 48201C0265J--------------------------------------------------\n",
      "([datetime.datetime(1996, 11, 6, 0, 0)], ['04t 9940ai4 8ia #ud', 'HARRIS COUNTY', 'TEXAS AND', 'INCORPORATED   AREAS', 'PANEL 265 OF 1135', '(SEE MAP INDEXFOR PANELS NoT PRINTED}', 'CONIAINS:', 'COMMUNITY NUMBE?   FANEL   SUFFIX', 'KARRIS Co', 'UNINCORPORATED AREZS 48026}  \"265', '0)', 'MAP NUMBER', '48201C0265', 'Map   REVISED:', 'NOVEMBER 6, 1996', 'Federal Emergency Management Agency'])\n",
      "Could not find key J for current tile from options [0, 'L', 'M', 'G'], using closest date from all keys\n",
      "Using 1996-11-29 00:00:00 for tile date 1996-11-06 00:00:00\n",
      "Processing 48201C0270H--------------------------------------------------\n",
      "([datetime.datetime(1992, 9, 30, 0, 0)], ['HARRIS COUNTY', 'TEXAS AND', 'INCORPORATED AREAS', 'PANEL 270 OF 390', '(SEE MAP INDEX FoR PANELS Not PRINTED)', 'CONTAINS:', 'COMMUNITY 24 NUMBER   PANEL   SUFFIX', '#ouSton CITY OF  % enee  480296   0270 +', 'Missicn BENC Miinicipaiacux 401578   0270 H', 'UfilfTY DisTrICT NG', 'UNINcORPORATED AREAS 480287   0270  #', 'Notice To User: TheMAP NUMBER shownbelow shouidveused', 'when placing map orders; the COMMUNITY NUMBER shcwn', 'shouid be used on irsurance applications icr the sunject', 'cbmmunit ', 'MaP NUMBER', '48201C0270 H', 'MAP REVISED:', 'SEPTEMBER 30, 1992', 'Federal Emergency Management Agency', 'above'])\n",
      "Using 1992-09-30 00:00:00 for tile date 1992-09-30 00:00:00\n"
     ]
    },
    {
     "name": "stderr",
     "output_type": "stream",
     "text": [
      "01/29/2025 18:31:28 - WARNING - rasterio._env -   CPLE_AppDefined in D:/RECTDNN/uncompress_2/48201C0620L.tif: _TIFFVSetField:D:/RECTDNN/uncompress_2/48201C0620L.tif: Null count for \"Tag 32934\" (type 4, writecount -3, passcount 1)\n"
     ]
    },
    {
     "name": "stdout",
     "output_type": "stream",
     "text": [
      "Processing 48201C0620L--------------------------------------------------\n",
      "([datetime.datetime(2007, 6, 18, 0, 0)], ['Iuo CUUlv4 1 ,', 'TEXAS', 'AND INCORPORATED AREAS', 'PANEL 620 OF 1150', '(SEE   MAP   INDEX   FOR   FIRM   PANEL  LAYOUT)', 'CQNIAINS', 'COMMUNITY _ NUMBER PANEL _ SUFAX', 'HOUSTON, CITY OF 480296 0620', 'HARRIS COUNTY,', '3', 'UNINCORPORATED AREAS 480287 0620', 'Notice to Usor: The Map Number shown bolow should bo usod', 'placing   map   orders;   the   Community   Number  shown', 'above should be usod on insuranco applications for the subjact', 'community', 'MAP NUMBER', '48201C0620L', 'MAP REVISED:', 'JUNE 18, 2007', 'Federal Emergency Management Agency', 'Tho', 'Map', 'whon', 'SECUR', 'AND'])\n",
      "Using 2013-10-16 00:00:00 for tile date 2007-06-18 00:00:00\n",
      "Processing 48201C0665K--------------------------------------------------\n",
      "([datetime.datetime(2000, 4, 20, 0, 0)], ['HARRIS COUNTY', 'TEXAS AND', 'INCORPORATED AREAS', 'PANEL 665 OF 1135', '{SEE MAP INDEX FoR PANELS NoT PRINTED}', 'CONTAINS:', 'COMMUNIT _ NUMBEE PANEL   SUFFIX', 'KILSAIFE VLLIGE, CITY CF  420295 0655', 'HcUSTo Dy Of 481290  066o', 'KNTERSLCREEK ViliAGe', 'CitY C588 790708   0665', \"SPRing ' NLES,Jtc6 43138  0655\", 'Un', 'MAP  NUMBER', '48201C0665 K', 'MAP REVISED:', 'APRIL 20, 2000', 'Federal Emergency Management', 'Agency'])\n",
      "Using 2000-04-20 00:00:00 for tile date 2000-04-20 00:00:00\n",
      "Processing 48201C0290J--------------------------------------------------\n",
      "([datetime.datetime(1996, 11, 6, 0, 0)], ['HARRIS COUNTY', 'TEXAS AND', 'INCORPORATED   AREAS', 'PANEL 290 OF 1135', '{SEE MAP INDEX FOR   PANELS NOT PRINTED}', 'CONIANS:', 'COMMUNTYNUMBER   PANEL   SUFFIX', 'HARRIS COUNT', 'JNINCORPORATFD AREAS  480287  [2J0', 'HQUSTCY & 6 480296  42Ju', 'Un', 'Map  NUMBER', '48201C0290', 'MAp REVISED:', 'NOVEMBER 6, 1996', 'Federal Emergency Management Agency'])\n",
      "Could not find key J for current tile from options ['M', 'N', 'G', 'H'], using closest date from all keys\n",
      "Using 1992-09-30 00:00:00 for tile date 1996-11-06 00:00:00\n"
     ]
    },
    {
     "name": "stderr",
     "output_type": "stream",
     "text": [
      "01/29/2025 18:31:45 - WARNING - rasterio._env -   CPLE_AppDefined in D:/RECTDNN/uncompress_2/48201C0920L.tif: _TIFFVSetField:D:/RECTDNN/uncompress_2/48201C0920L.tif: Null count for \"Tag 32934\" (type 4, writecount -3, passcount 1)\n"
     ]
    },
    {
     "name": "stdout",
     "output_type": "stream",
     "text": [
      "Processing 48201C0920L--------------------------------------------------\n",
      "Could not find date in ['TEXAS', 'AND INCORPORATED AREAS', 'L', 'PANEL 920 OF 1150', '(SEE   MAP   INDEX   FOR   FIRM   PANEL   LAYOUT)', 'CONTAINS _', 'COMMUNTY NUMBER > PANEL _> SUFFIX', 'W', 'DEERPAFK CITY OF 480201 0820', 'PASADEIA CHTY OF 480307 0820', 'HOUSTON, CITY OF 480206 0820', 'HL', 'WD', 'Notice to Usor: The Map Numbar shown bolow should be usod', 'whan   placing   map   ordars;   the  Community   Number   shown', 'above should be usod on insuranca applications for the subject', 'communiy', 'MAP NUMBER', '48201C0920L', 'MAP REVISED:', 'AND', 'JUNE 18 , 2007', 'Federal Emergency Management Agency', 'DEPAR', 'SECUR'], trying to use L\n",
      "Processing 48201C0930J--------------------------------------------------\n",
      "([datetime.datetime(1996, 11, 6, 0, 0)], ['HARRIS COUNTY', 'TEXAS AND', 'INCORPORATED   AREAS', 'PANEL 930 OF 1135', '(SEE MAP INDEX FOR', '~PANELS NOT PRINTED)', 'CONTAIS', 'COMMUNITY _ NUMBER   PANEL   SUFFIX', 'DEER PAAK CTY OR} 480291  0930', 'HARRIS CCUNTY', 'INCCRPORATE? AREAS  480287  C9z0', 'HOUSTCN uly Gd  48c29  C9z0', 'Ponutokdooc  485487   0930', 'U', 'MAP  NUMBER', '48201C0930', 'Map REVISED:', 'NOVEMBER 6, 1996', 'Federal Emergency Management Agency'])\n",
      "Could not find key J for current tile from options [0, 'L', 'M'], using closest date from all keys\n",
      "Using 1996-11-29 00:00:00 for tile date 1996-11-06 00:00:00\n",
      "Processing 48201C0110G--------------------------------------------------\n",
      "COULD NOT FIND BOUNDS, USING IMAGE EXTENTS 48201C0110G\n",
      "Couldn't find strict, now trying 482010110\n",
      "Could not find tile in detections 482010110\n",
      "Processing 48201C0370G--------------------------------------------------\n",
      "([datetime.datetime(1990, 9, 28, 0, 0)], ['HARRIS COUNTY', 'TEXAS AND', 'INCORPORATED AREAS', 'PANEL 370 OF 390', '(SEE MAP INDEX For PANELS Not PRINTED}', 'COHTAINS;', 'COMMAUNITL \"  HUMBER   PANEL = SUFFIX', \"HOUSTON, city OF Y8a  480296 ' 0370\", 'PASADENA, CIY OF Qnenn 480307   0370', 'UNINCCFPORATEC AREAS 480287   0370', 'U', 'MAP NUMBER', '48201C0370 G', 'EFFECTIVE DATE;', 'SEPTEMBER 28, 1990', 'Federal Erergency Management Agency'])\n",
      "Could not find key G for current tile from options ['L', 'M', 0], using closest date from all keys\n",
      "Using 1990-09-28 00:00:00 for tile date 1990-09-28 00:00:00\n"
     ]
    },
    {
     "name": "stderr",
     "output_type": "stream",
     "text": [
      "01/29/2025 18:32:08 - WARNING - rasterio._env -   CPLE_AppDefined in D:/RECTDNN/uncompress_2/48201C1065L.tif: _TIFFVSetField:D:/RECTDNN/uncompress_2/48201C1065L.tif: Null count for \"Tag 32934\" (type 4, writecount -3, passcount 1)\n"
     ]
    },
    {
     "name": "stdout",
     "output_type": "stream",
     "text": [
      "Processing 48201C1065L--------------------------------------------------\n",
      "Could not find date in ['L4LAL ~JI 1 1', 'TEXAS', 'AND INCORPORATED AREAS', 'PANEL 1065 OF 1150', '(SEE   MAP   INDEX   FOR   FIRM   PANEL   LAYOUT}', 'CQNIAINS _', '9', 'COMMUNITY NumbeR > PANEL _= SUFFX', 'HAARIS COUNTY ,', 'UNINCORPORATED AREAS 480287 1085', 'PEARLAND, CITYOF 480077 1065', 'Notico to Usar; Tha Map Number shown bolow should be Usod', 'whon   placing   map   ordors;   the   Community   Number   showh', 'above should b0 usod on insurance applications for tho subject', 'community:', 'MAP NUMBER', '48201C1065L', 'MAP REVISED:', 'AND SEC', 'JUNE 18, 2007', 'Federal Emergency Management Agency', 'Map', 'OEPARTA'], trying to use L\n",
      "Processing 48201C0020G--------------------------------------------------\n",
      "([datetime.datetime(1990, 9, 28, 0, 0)], ['HARRIS COUNTY', 'TEXAS AND', 'INCORPORATED AREAS', 'PANEL 20 OF 390', '(SEE MAP INDEX FoR PANELS Not PRINTED)', 'CONTAINS:', 'CoMMunIiY 2  NUMBER   PANEL = SUFFIX', 'UNINCORPORATED ARESS _An2 4480287   0020 6', '(', 'MAP NUMBER', '48201C0O20 G', 'EFFECTIVE DATE:', 'SEPTEMBER 28 , 1990', 'ederal Emergency Management Agency'])\n",
      "Could not find key G for current tile from options [0, 'L'], using closest date from all keys\n",
      "Using 1996-11-29 00:00:00 for tile date 1990-09-28 00:00:00\n",
      "Processing 48201C0670J--------------------------------------------------\n",
      "([datetime.datetime(1996, 11, 6, 0, 0)], ['HARRIS COUNTY', 'TEXAS AND', 'INCORPORATED   AREAS', 'PANEL 670 OF 1135', \"(SEE MAP INDEX 'FoR PANELS NOT PAINTED}\", 'CONTAINS', 'COMMUNTY `# NUMEER PANEL   SUFFIX', 'HOUSTON C7xO 410zer  670', '0)', 'Map   NUMBER', '48281C0670 ]', 'Map REVISED:', 'NOVEMBER 6, 1996', 'Federal Emergency Management Agency'])\n",
      "Could not find key J for current tile from options ['K', 'L', 'M', 0], using closest date from all keys\n",
      "Using 1996-11-29 00:00:00 for tile date 1996-11-06 00:00:00\n",
      "Processing 48201CSTD01--------------------------------------------------\n",
      "COULD NOT FIND BOUNDS, USING IMAGE EXTENTS 48201CSTD01\n",
      "Couldn't find strict, now trying 4820101\n",
      "Could not find tile in detections 4820101\n",
      "Processing 48201C0870J--------------------------------------------------\n",
      "([datetime.datetime(1996, 11, 6, 0, 0)], ['HARRIS COUNTY,', 'TEXAS AND', 'INCORPORATED   AREAS', 'Panel 870 QF 1135', '(SEE MAP INDEX FOR PANELS Not PRINTED)', 'ElN', '0', '~NEL   SUFFIX', 'OSON City 0F * ', '0', 'HB281GUBBER', 'Map REVISED:', 'NOVEMBER 6, 1996', 'Federal Emergency Management Agency'])\n",
      "Could not find key J for current tile from options ['K', 'L', 'M', 0], using closest date from all keys\n",
      "Using 1996-11-29 00:00:00 for tile date 1996-11-06 00:00:00\n",
      "Processing 48201C0035G--------------------------------------------------\n",
      "Couldn't find strict, now trying 482010035\n",
      "Could not find tile in detections 482010035\n",
      "Processing 48201C0715J--------------------------------------------------\n",
      "([datetime.datetime(1996, 11, 29, 0, 0)], ['HARRIS COUNTY', 'TEXAS AND', 'INCORPORATED AREAS', 'PANEL 715 OF 1135', '(SEE MAP INDEX FOR PANELS NOT PRINTED}', 'CONTAINS:', 'COMMUNITY_ NUMBER PANEL   SUTFIX', 'GALENA RABK CITY Or 480293  (715', 'HARRIS COUNTY', 'UNINCORRORETED AREAS 480287  (715', 'HoustoRET8RAS 45c236  0715', 'JACINIC City  ch0182#%   480293  6715', 'U', 'MAP NUMBER', '48201C0715', 'MAp REVISED:', 'NOVEMBER €, 1996', 'Federal Emergency Management Agency'])\n",
      "Could not find key J for current tile from options [0, 'L', 'M'], using closest date from all keys\n",
      "Using 1996-11-29 00:00:00 for tile date 1996-11-29 00:00:00\n",
      "Processing 48201C0755J--------------------------------------------------\n",
      "([datetime.datetime(1996, 11, 6, 0, 0)], ['HARRIS COUNTY_', 'TEXAS AND', 'INCORPORATED   AREAS', 'PANEL 755 OF 1135', '(SEE MAP INDEX FOR  PANELS NOT PRINTED)', 'CONTANS', 'COMMUNITY _~ NUMBER   PANEL   SUFFIX', 'HARFIS COUNTY', 'UNINCCRPORATE } AREAS   480287   075E', 'L', 'MAp  NUMBER', '48201C0755', 'MaP REVISED:', 'NOVEMBER 6, 1996', 'Federal Emergency Management Agency'])\n",
      "Could not find key J for current tile from options [0, 'L', 'M'], using closest date from all keys\n",
      "Using 1996-11-29 00:00:00 for tile date 1996-11-06 00:00:00\n",
      "Processing 48201C0180G--------------------------------------------------\n",
      "([datetime.datetime(1990, 9, 28, 0, 0)], ['HARRIS COUNTY', 'TEXAS AND', 'INCORPORATED AREAS', 'PANEL 180 OF 390', '(SEE MAP INDEX FoR PANELS Not PRiNTED}', 'CONIAINS:', 'COKMUNITY Ve   NUMBEB   PANEL  SUFFLX', 'HOUSTON, CiTY OF reaanl 480236   0180 6', 'JERSEY VILLAGE, CITY Of 480300   0180', 'UNINCDAPORATED AREAS 480287   0180', 'U)', 'MAP NUMBER', '48201C0180 G', 'EFFECTIVE DATE:', 'SEPTEMBER 28 , 1990', 'Federal Emergency Management Agency'])\n",
      "Could not find key G for current tile from options [0, 'L', 'J'], using closest date from all keys\n",
      "Using 1996-11-29 00:00:00 for tile date 1990-09-28 00:00:00\n",
      "Processing 48201C0835J--------------------------------------------------\n",
      "([datetime.datetime(1996, 11, 6, 0, 0)], ['HARRIS COUNTY,', 'TEXAS AND', 'INCORPORATED   AREAS', 'PANEL 835 OF 1135', '{SEE MAP INDEX Foh PANELS NOT PRINTED}', 'CONTAINS:', 'COMMUNTY _NCMBER   PANEL   SUFFIX', 'HOVSTONChyQF 480296  C835', 'PINEY POINT YLUNGE ClTY OF   480308   L83-', 'U', 'MaP NUMBER', '48201C0835 ]', 'Map REVISED:', 'NOVEMBER 6, 1996', 'Federal', 'Emergency Management Agency'])\n",
      "Could not find key J for current tile from options ['K', 'C', 'L', 0], using closest date from all keys\n",
      "Using 1996-11-29 00:00:00 for tile date 1996-11-06 00:00:00\n",
      "Processing 48201C1005K--------------------------------------------------\n",
      "([datetime.datetime(2000, 4, 20, 0, 0)], ['HARRIS COUNTY', 'TEXAS AND', 'INCORPORATED   AREAS', 'PANEL 1005 OF 1135', \"(SEE MAP 'NDEX FOR PANELS NoT PRINTED)\", 'CONTAINS:', 'COMMUNTYNcMBER   PANEL   SUFFIX', 'HARRIS CoUMy', 'UNINCORPORATED AREAS  480287   1CC5', 'HOUSTONGGOF 480295  1005', '0)', 'Map NUMBER', '48201C1005 K', 'MAp REVISED:', 'APRIL 20, 2000', 'Federal Emergency Management Agency', 'OR'])\n",
      "Using 2000-04-20 00:00:00 for tile date 2000-04-20 00:00:00\n",
      "Processing 48201C0505J--------------------------------------------------\n",
      "([datetime.datetime(1996, 11, 6, 0, 0)], ['HARRIS COUNTY', 'TEXAS AND', 'INCORPORATED   AREAS', 'PANEL 505 OF 1135', '(SEE MAP INDEX FQR PANELS NOT PRINTED}', 'CONAINS:', 'COMMUNIIY _ NUMBER   PANEL   SUFFIX', 'RaRRIS CO:', 'VNINCCRAOHATCC AKLAS   \"8u287  U505', 'HOUSTCNL QF 480286  65Cs', 'HUMBLI. Ci', 'YopF', '48020}  0505', '0', 'MaP NUMBER', '48201C0505', 'Map REVISED:', 'NOVEMBER 6, 1996', 'Federal Emergency Management Agency'])\n",
      "Could not find key J for current tile from options [0, 'L', 'M'], using closest date from all keys\n",
      "Using 1996-11-29 00:00:00 for tile date 1996-11-06 00:00:00\n",
      "Processing 48201C0885K--------------------------------------------------\n",
      "([datetime.datetime(2000, 4, 20, 0, 0)], ['HARRIS COUNTY;', 'TEXAS AND', 'INCORPORATED   AREAS', 'PANEL 885 OF 1135', '(SEE MAP INDEX FoR PANELS NOT PRINTED}', 'CONTAINS:', 'CCNMUN;TY NUMBFR   PANEL   SUFFIX', 'GALENA GARX07 OF 480233 \"885', 'hcusicNay Of 4802866 0885', '3n', 'MAp NUMBER', '48201C0885 K', 'MAP REVISED:', 'APRIL 20, 2000', 'Federal Emergency Management Agency'])\n",
      "Using 2000-04-20 00:00:00 for tile date 2000-04-20 00:00:00\n",
      "Processing 48201C0350H--------------------------------------------------\n",
      "([datetime.datetime(1992, 9, 30, 0, 0)], ['HARRIS COUNTY', 'TEXAS AND', 'INCORPORATED AREAS', 'PANEL 350 OF 390', '(SEE MAP iNDEXFOR PANELS Not PRiNTED)', 'CONIAINS:', 'CQMMUNITY #  NUMBER } PANEL   SUFEXX', 'HOUSTON; CiTY @F   a  480295   0350 H', 'MISSOURI CITY, CTY OF \" Juae 488304   0350 H', 'STAFFURD, CITY CF 480233  0350 #', 'Motice To User: TneMAP NUMBER shown below shiould be used', 'when Alacing nap orcers; the COMMUNITY NUMBER shcwn', 'above', 'shoind', 'be fsed Pn insurarice applications for the subject', 'colninunry', 'Map NUMBER', '48201C035O H', 'MAP REVISED:', 'SEPTEMBER 30, 1992', 'Federal Emergency Management Agency'])\n",
      "Using 1992-09-30 00:00:00 for tile date 1992-09-30 00:00:00\n",
      "Processing 48201C0390M--------------------------------------------------\n",
      "([datetime.datetime(2013, 10, 16, 0, 0)], ['TEXAS', 'AND INCORPORATED AREAS', 'PANEL 390 OF 1150', '(SEE MAP INDEX FOR FIRM PANEL LAYOUT)', 'CONTAINS:', 'CQMMUNITY NUMBER   PANEL   SUEFIX', 'HARRIS COUNTY , 480287 0390 m', 'UNINCORPORATED AREAS', 'Natice t0 User: The Map Number shown below should be used', 'when   placing   map orders; the  Community    Number   shown', 'above should be used an insurance applications for the subject', 'community.', 'MAP NUMBER', '48201C0390M', 'MAP REVISED', 'OCTOBER 16,2013', 'Federal Emergency Management Agency', 'Map', 'ID'])\n",
      "Using 2013-10-16 00:00:00 for tile date 2013-10-16 00:00:00\n"
     ]
    },
    {
     "name": "stderr",
     "output_type": "stream",
     "text": [
      "01/29/2025 18:33:03 - WARNING - rasterio._env -   CPLE_AppDefined in D:/RECTDNN/uncompress_2/48201C0605L.tif: _TIFFVSetField:D:/RECTDNN/uncompress_2/48201C0605L.tif: Null count for \"Tag 32934\" (type 4, writecount -3, passcount 1)\n"
     ]
    },
    {
     "name": "stdout",
     "output_type": "stream",
     "text": [
      "Processing 48201C0605L--------------------------------------------------\n",
      "([datetime.datetime(2007, 6, 18, 0, 0)], ['14uu UUI\" 1 1 ,', 'TEXAS', 'AND INCORPORATED AREAS', 'WWL', 'PANEL 605 OF 1150', '(SEE   MAP   INDEX   FOR   FIRM   PANEL   LAYOUT)', 'CONIAINS:', 'COMMUNITY NUMBER > PANEL   SUFFX', 'E', 'HAAFISCCOUHNHYATED AREAS} 480287 } 0605', 'HOUSTON, CITY OF 480296 0605', 'Mc', 'WD', 'LLLLLU', 'QD', 'Notice to User: Tho Map Number shown below should be Used', 'whon', 'placing   map  ordars;   the  Community   Mumber  shown', 'above should be used on insurance   applications for the subject', 'community-', 'MAP NUMBER', '48201C0605L', 'MAP REVISED:', 'JUNE 18, 2007', 'Federal Emergency Management Agency', 'UI', 'Tho', 'Map', 'OEPARTM', 'BECUI', 'AND'])\n",
      "Using 2013-10-16 00:00:00 for tile date 2007-06-18 00:00:00\n",
      "Processing 48201C0495J--------------------------------------------------\n",
      "([datetime.datetime(1996, 11, 6, 0, 0)], ['HARRIS COUNTY', 'TEXAS AND', 'INCORPORATED   AREAS', 'PANEL 495 OF 1135', '(SEE MAP INDEX FGR RANELS NOT PRINTED}', 'ONTAINS;', 'OMMUNITYNJMBER   PANEL   SUFFIX', 'HaxRIS COUNTY', 'UNINCORPORATEC AREAS 480z87  0495', 'HCUSTON ChyA 480296 0495', 'Ua', 'MAp NUMBER', '48201C0495', 'Map REVISED:', 'NOVEMBER 6,1996', 'Federal Emergency Management Agency', '8o3;'])\n",
      "Could not find key J for current tile from options [0, 'L'], using closest date from all keys\n",
      "Using 1996-11-29 00:00:00 for tile date 1996-11-06 00:00:00\n",
      "Processing 48201C1105J--------------------------------------------------\n",
      "([datetime.datetime(1996, 11, 6, 0, 0)], ['69 M1oyintawr M0@ Mni', 'HARRIS COUNTY', 'TEXAS AND', 'INCORPORATED  AREAS', 'PANEL 1105 OF 1135', '{SEE MAP INGEX FCR  PANELS NOT PRINTED}', 'CONTAINS:', 'COMMUNITY NUMBER   PANEL   SUFFIX', '4G3RIS CCUNT', 'LNINCORPORATED AREAS  .80287 `  105', '4 PomeATC 48548} 1105', 'PASADENG CTronoe~  43030/  Tice', 'SEABROOKcT OR860   485507   T0s', 'SHCREACRES ClTy OF4n   485510   |06', 'J', 'MAP  NUMBER', '48201C1105', 'MAp REVISED;', 'NOVEMBER 6,1996', 'Federal Emergency Management Agency'])\n",
      "Using 1996-11-29 00:00:00 for tile date 1996-11-06 00:00:00\n"
     ]
    },
    {
     "name": "stderr",
     "output_type": "stream",
     "text": [
      "01/29/2025 18:33:15 - WARNING - rasterio._env -   CPLE_AppDefined in D:/RECTDNN/uncompress_2/48201C0235L.tif: _TIFFVSetField:D:/RECTDNN/uncompress_2/48201C0235L.tif: Null count for \"Tag 32934\" (type 4, writecount -3, passcount 1)\n"
     ]
    },
    {
     "name": "stdout",
     "output_type": "stream",
     "text": [
      "Processing 48201C0235L--------------------------------------------------\n",
      "([datetime.datetime(2007, 6, 18, 0, 0)], ['1444AU #Jia', 'TEXAS', 'AND INCORPORATED AREAS', 'PANEL 235 OF 1150', '(SEE   MAP   INDEX   FOR   FIRM   PANEL   LAYOUT)', 'CONIAINS ', 'COMMUNITY NUMBER _> PANEL = SUFFX', 'HARAIS COUNTY,', 'UNINCORPORATED AREAS 480287 0235', 'HOUSTON, CITY OF 480206 0235', 'Notice to Usor; Tha Map Number shown below should be usod', 'when   placing   map  ordors;   the  Community   Number   shown', 'above should be usod on insuranco applications for the subjact', 'community:', 'MAP  NUMBER', '48201C0235L', 'MAP REVISED:', 'JUNE 18 , 2007', 'Federal Emergency Management Agency', 'User;', 'DEPARTA', 'SEC ', 'AND'])\n",
      "Using 1900-01-01 00:00:00 for tile date 2007-06-18 00:00:00\n",
      "Using 1900-01-01 00:00:00 for tile date 2007-06-18 00:00:00\n",
      "CLOSEST DATE IN KEY IS TOO FAR (39249 days), using general instead (1900-01-01 00:00:00)\n",
      "Processing 48201C0070G--------------------------------------------------\n",
      "([datetime.datetime(1990, 9, 28, 0, 0)], ['HARRIS COUNTY', 'TEXAS AND', 'INCORPORATED AREAS', 'PANEL 70 OF 390', '{SEE MAP INDEX FOR PANELS Not PRiNTED)', 'CONTAINS:', 'comhunity  NUHBER   PANEL   SUFFWX', 'UNINCORPORATED AREAS 22 :480287   0070 6', '0)', 'MAP NUMBER', '48201C0070 G', 'EFFECTIVE DATE:', 'SEPTEMBER 28 , 1990', 'Federal Emergency Management Agency'])\n",
      "Using 1992-09-30 00:00:00 for tile date 1990-09-28 00:00:00\n",
      "Processing 48201C0080G--------------------------------------------------\n",
      "COULD NOT FIND BOUNDS, USING IMAGE EXTENTS 48201C0080G\n",
      "Couldn't find strict, now trying 482010080\n",
      "Could not find tile in detections 482010080\n",
      "Processing 48201C0225G--------------------------------------------------\n",
      "([datetime.datetime(1990, 9, 28, 0, 0)], ['HARRIS COUNTY', 'TEXAS AND', 'INCORPORATED AREAS', 'PANEL 225 OF 390', '(SEE MAP INDEX FOA PANELS NOT PRINTED)', 'CONTAINS:', 'COMMunIIY # WUMBER ; PANEL   SUFELX', 'HCUSTCN; City OF  ~8an 480296   0225 j', 'unincorporATEd AREAS480287   0225 6', 'U', 'Map NUMBER', '48201c0225 G', 'EFFECTIVE DATE:', 'SEPTEMBER 28 , 1990', 'Federal Emergency Management Agency'])\n",
      "Using 1992-09-30 00:00:00 for tile date 1990-09-28 00:00:00\n"
     ]
    },
    {
     "name": "stderr",
     "output_type": "stream",
     "text": [
      "01/29/2025 18:33:30 - WARNING - rasterio._env -   CPLE_AppDefined in D:/RECTDNN/uncompress_2/48201C0755L.tif: _TIFFVSetField:D:/RECTDNN/uncompress_2/48201C0755L.tif: Null count for \"Tag 32934\" (type 4, writecount -3, passcount 1)\n"
     ]
    },
    {
     "name": "stdout",
     "output_type": "stream",
     "text": [
      "Processing 48201C0755L--------------------------------------------------\n",
      "Could not find date in ['TEXAS', 'V', 'AND INCORPORATED AREAS', 'PANEL 755 OF 1150', '(SEE   MAP   INDEX   FOR   FIRM   PANEL   LAYOUT)', 'CQNTAINS ', '8', 'COMMUNITY NUMBER > PANEL_ > suFFX', 'MAYTOWN, CITY OF 485456 0755', 'HAARIS COUNTY', 'UNINCORPORATED AREAS 480287 0755', 'WUD', 'LLLL', 'QD', 'QL', 'Notice to Usor: The Map Number shown bolow should be used', 'when   plecing   map   orders;   the  Community   Mumber  shown', 'above should be used on insuranca applications for the subject', 'community-', 'MAP NUMBER', '48201C0755L', 'MAP REVISED:', 'AND', 'JUNE 18, 2007', 'Federal Emergency Management Agency', 'LLLL', 'DEPART', 'SECUR'], trying to use L\n",
      "Processing 48201C0175G--------------------------------------------------\n",
      "([datetime.datetime(1990, 9, 28, 0, 0)], ['HARRIS COUNTY', 'TEXAS AND', 'INCORPORA TED AREAS', 'PANEL 175 OF 390_', '(SEE MAP INDE', 'Foa PANeLS Not PRINTED}', 'CONTAINS:;', 'COMmunITYa  WUMBER   PANEL = SUFFL', 'HQuSTON, CITY 0f~480296   0175 6', 'UNINCORPORATEC AREAS 480287   0175', 'U', 'MAP NUMBER', '48201C0175 C', 'EFFECTIVE DATE:', 'SEPTEMBER 28, 1990', 'Federal Emergency Management', 'Agency'])\n",
      "Could not find key G for current tile from options ['L'], using closest date from all keys\n",
      "Using 2013-10-16 00:00:00 for tile date 1990-09-28 00:00:00\n",
      "Using 2013-10-16 00:00:00 for tile date 1990-09-28 00:00:00\n",
      "CLOSEST DATE IN KEY IS TOO FAR (8419 days), using general instead (2013-10-16 00:00:00)\n",
      "Processing 48201C0610J--------------------------------------------------\n",
      "Could not find date in ['HARRIS COUNTY', 'TEXAS AND', 'INCORPORATED   AREAS', 'PANEL 610 OF 1135', '{SEE MAP INDEY Fon PANELS NOT PRINTED)', 'CONTAINS:', 'COMVUNTY  NUMBER   PANEL   SUFFIY', 'HeRRIS CC', 'NINCC QQAATED AREAS 48078;  Opu', 'KOUSTCN ATX QF 48C293  0gi', '(n', 'Map  NUMBER', '48201C0610 ]', 'Map REVISED:', \"9048'45'\", 'NOVEMBER 6, 1996', '0\"', 'Federal Emergency Management Agency'], trying to use J\n",
      "Processing 48201C0125G--------------------------------------------------\n",
      "([datetime.datetime(1990, 9, 28, 0, 0)], ['HARRIS COUNTY', 'TEXAS AND', 'INCORPORATED AREAS', 'PANEL 125 OF 390', '(SEE MAP INDEx F0n PANELS Not PaiNTED}', 'CONTAINS:;', 'COMMUNITY 4  NUMBER   PANEL = SUFFLX', 'UNINCORPORATED AREAS Eo; 480287 * 0125', 'U', 'Map NUMBER', '48201C0125 G', 'EFFECTIVE DATE:', 'SEPTEMBER 28 , 1990', 'Federal Emnergercy Management Agency'])\n",
      "Could not find key G for current tile from options ['L'], using closest date from all keys\n",
      "Using 2013-10-16 00:00:00 for tile date 1990-09-28 00:00:00\n",
      "Using 2013-10-16 00:00:00 for tile date 1990-09-28 00:00:00\n",
      "CLOSEST DATE IN KEY IS TOO FAR (8419 days), using general instead (2013-10-16 00:00:00)\n",
      "Processing 48201C0845K--------------------------------------------------\n",
      "([datetime.datetime(2000, 4, 20, 0, 0)], ['HARRIS COUNTY', 'TEXAS AND', 'INCORPORATED   AREAS', 'PANEL 845 OF 1135', \"(SEE MAP 'NDEX FOR PANELS NOT PRINTED}\", 'CCNTANS', 'COVMUNTY_NUMBER   PAVEL   SUFFIX', 'KARRIS CQufk', 'UNINCCAPORATEO /RERS   487787   045', 'HOUSTON Gity QF 480296   8825', 'VISSQURIGZ GR CF 480304  0845', 'SATCkdd7704 48025:  W5', 'U7', 'Map NUMBER', '48201C0845 K', 'Map REVISED:', 'APRIL 20, 2000', 'Federal Emergency Management Agency'])\n",
      "Using 2000-04-20 00:00:00 for tile date 2000-04-20 00:00:00\n",
      "Processing 48201C0355G--------------------------------------------------\n",
      "Couldn't find strict, now trying 482010355\n",
      "Could not find tile in detections 482010355\n",
      "Processing 48201C0515J--------------------------------------------------\n",
      "([datetime.datetime(1996, 11, 6, 0, 0)], ['HARRIS  COUNTY', 'TEXAS AND', 'INCORPORATED AREAS', 'PANEL 515 OF 1135', '(SEE MAP INDEN FCR PANELS NOT PRINTED)', 'CONTAINS:', 'COMMUNITY NUMBER   PANEL   SUFFIX', 'HAPRIS CCUNT', 'UNINCCRFCRATED ^PEXS  480287  0515', '(n', 'Map  NUMBER', '48201C0515 )', 'Map REVISED:', 'NOVEMBER 6, 1996', 'Federal Emergency Management Agency'])\n",
      "Could not find key J for current tile from options [0, 'L', 'M'], using closest date from all keys\n",
      "Using 1996-11-29 00:00:00 for tile date 1996-11-06 00:00:00\n",
      "Processing 48201C0640J--------------------------------------------------\n",
      "Could not find date in ['Lud WrarnmaiiJe #Nie Budub', 'HARRIS COUNTY', 'TEXAS AND', 'INCORPORATED   AREAS', 'PANEL 640 OF 1135', '{SEE MAP INDEX FCR PANELS NOT PRINTED}', 'CCNTANS:', 'COMMUNTY _ NUMBER  PANEL   SUFFX', 'HOUSTOSTx QF 480238 Je4C', '0', 'MAP  NUMBER', '48201C0640 )', 'Map REVISED:', 'NOVEMBER 6, 7996', 'Federal Emergency Management Agency'], trying to use J\n",
      "Could not find tile extension in detections 48201C0640 - J, using default 0 from options dict_keys([0, 'L'])\n",
      "Processing 48201C0770J--------------------------------------------------\n",
      "([datetime.datetime(1996, 11, 6, 0, 0)], ['444  a8aaataec   4amx', 'HARRIS COUNTY', 'TEXAS AND', 'INCORPORATED AREAS', 'PANEL 770 OF 1/35', 'ISEE MAP INDEX FOR PANELS NOT PRINTEDI', 'CONIAINS', 'CCMMUNITY _ NUMBER    PANEL   SUFFIX', 'BAYTOWN, GTy & 185456  \"770', 'VAPRIS Co', 'UNINCORPOAATES  AREAS  180287   8770', '0', 'Map NUMBER', '48201C0770 ]', 'MAp REVISED:', 'NOVEMBER 6, 1996', 'Federal Emergency Management', 'Agedry'])\n",
      "Could not find key J for current tile from options ['L', 'M', 'N', 0], using closest date from all keys\n",
      "Using 1996-11-29 00:00:00 for tile date 1996-11-06 00:00:00\n"
     ]
    },
    {
     "name": "stderr",
     "output_type": "stream",
     "text": [
      "01/29/2025 18:34:03 - WARNING - rasterio._env -   CPLE_AppDefined in D:/RECTDNN/uncompress_2/48201C1095L.tif: _TIFFVSetField:D:/RECTDNN/uncompress_2/48201C1095L.tif: Null count for \"Tag 32934\" (type 4, writecount -3, passcount 1)\n"
     ]
    },
    {
     "name": "stdout",
     "output_type": "stream",
     "text": [
      "Processing 48201C1095L--------------------------------------------------\n",
      "Could not find date in ['T4iuuo CUUI 1 1 ,', 'TEXAS', 'AND INCORPORATED AREAS', 'PANEL 1095 OF 1150', '(SEE   MAP   INDEX   FOR   FIRM   PANEL   LAYOUT)', 'CONTAINS _', 'COMMUNITY NUMBER > PANEL _> SUFHX', '5', 'ELLAGO, ClTY OF 485466 1085', 'HARAS COUNTY', 'UNINCORPORATED AREAS 480287 1085', 'SEABROOK, CITY OF 485507 1095', 'Notice to Usor: The Map Number shown below should be used', 'whon   placing   map  orders;   the  Community   Number   shown', 'above should bo used on insurance applications for the subjoct', 'community:', 'MAP NUMBER', '48201C1095L', 'MAP REVISED:', 'TTT', 'JUNE 18 , 2007', 'Federal Emergency Management Agency', 'QEPARTM', 'SECU', 'AND'], trying to use L\n",
      "Processing 48201C0590J--------------------------------------------------\n",
      "([datetime.datetime(1996, 11, 6, 0, 0)], ['HARRIS COUNTY', 'TEXAS AND', 'INCORPORATED   AREAS', 'PANEL 590 OF 1135', '{SE= MAP INDEX FOR  PANELS NOT PRINTED)', 'CONIAINS:', 'CONvMUNITY VUMPER   FANEL   SUFFIX', 'HaaRIS COUNTY,', 'UNINCORFORATED AREAS 48028; . 9590', '0)', 'MAP  NUMBER', '48201C0590', 'Map REVISED:', 'NOVEMBER 6, 1996', 'Federal Emergency Management Agency'])\n",
      "Could not find key J for current tile from options [0, 'L'], using closest date from all keys\n",
      "Using 1996-11-29 00:00:00 for tile date 1996-11-06 00:00:00\n"
     ]
    },
    {
     "name": "stderr",
     "output_type": "stream",
     "text": [
      "01/29/2025 18:34:11 - WARNING - rasterio._env -   CPLE_AppDefined in D:/RECTDNN/uncompress_2/48201C0270L.tif: _TIFFVSetField:D:/RECTDNN/uncompress_2/48201C0270L.tif: Null count for \"Tag 32934\" (type 4, writecount -3, passcount 1)\n"
     ]
    },
    {
     "name": "stdout",
     "output_type": "stream",
     "text": [
      "Processing 48201C0270L--------------------------------------------------\n",
      "Could not find date in ['4A #AL>1', 'TEXAS', 'AND INCORPORATED AREAS', 'PANEL 270 OF 1150', '(SEE   MAP   INDEX   FOR   FIRM   PANEL   LAYOUT}', 'CONTAINS _', 'COMMUNITY_ NUMBER _> PANEL _  SUFFX', 'HARRIS COUNTY,', 'UNINCORPORATED AREAS 480287 0270', 'HOUSTON, CITY OF 480296 0270', '~D', 'Notico to Usor: Tho Map Number shown bolow should be used', \"'[HWLLL \", 'whon   placing   map  orders;  the  Community   Number   shown', 'abovo should bo Usod on insurance   applications for the subject', 'communiv:', 'MAP NUMBER', '48201CO27OL', 'MAP REVISED:', 'AND', 'JUNE 18, 2007', 'Federal Emergency Management Agency', 'DEPAR', \"SEC'\"], trying to use L\n"
     ]
    },
    {
     "name": "stderr",
     "output_type": "stream",
     "text": [
      "01/29/2025 18:34:16 - WARNING - rasterio._env -   CPLE_AppDefined in D:/RECTDNN/uncompress_2/48201C0595L.tif: _TIFFVSetField:D:/RECTDNN/uncompress_2/48201C0595L.tif: Null count for \"Tag 32934\" (type 4, writecount -3, passcount 1)\n"
     ]
    },
    {
     "name": "stdout",
     "output_type": "stream",
     "text": [
      "Processing 48201C0595L--------------------------------------------------\n",
      "([datetime.datetime(2007, 6, 18, 0, 0)], ['nuvuo LUUi1 1', 'TEXAS', '4 W', 'AND INCORPORATED AREAS', 'Kl  PANEL 595 OF 1150', '(SEE   MAP   INDEX   FOR   FIRM   PANEL  LAYOUT)', 'CONTAINS', 'W', '8', 'COMMUNITY NUMBER _  PANEL _  SUFHX', 'HARAIS COUNTY,', 'UNINCORPORATED AREAS 480287 0505', 'HOUSTON, CITY OF 480296 0595', 'E', 'TuWD', 'Notico t0 Usar: The Map Number shown bolow should bo usod', 'whon   placing   map  orders;   tho  Community   Number   shown', 'above should bo usod on insurance applications for the subject', 'communiy:', 'MAP NUMBER', '48201C0595L', 'MAP REVISED:', 'JUNE 18, 2007', 'Federal Emergency Management Agency', 'DBPARTA', 'SECUR', 'AND'])\n",
      "Using 2013-10-16 00:00:00 for tile date 2007-06-18 00:00:00\n"
     ]
    },
    {
     "name": "stderr",
     "output_type": "stream",
     "text": [
      "01/29/2025 18:34:20 - WARNING - rasterio._env -   CPLE_AppDefined in D:/RECTDNN/uncompress_2/48201C0955L.tif: _TIFFVSetField:D:/RECTDNN/uncompress_2/48201C0955L.tif: Null count for \"Tag 32934\" (type 4, writecount -3, passcount 1)\n"
     ]
    },
    {
     "name": "stdout",
     "output_type": "stream",
     "text": [
      "Processing 48201C0955L--------------------------------------------------\n",
      "Could not find date in ['144440 JUI 1 1', 'TEXAS', 'AND INCORPORATED AREAS', 'PANEL 955 OF 1150', '(SEE   MAP   INDEX   FOR   FIRM   PANEL   LAYOUT)', 'CONTAINS _', 'COMMUNITY NUMBER _> PANEL _  SUEFX', '8', 'BAYTOW, CITY OF 485456 0855', 'MORGANS POINT, CITY OF 480305 0855', 'HARRIS COUNTY,', 'UNINCORPORATED AREAS 480287 0955', 'LA PORTE CITY OF 485487 0855', 'I', 'WWD', 'QD', 'Notice to Usor: Tha Map Number shown below should be Usad', 'when  placing   map  ordors;  tho  Community   Number   shown', 'abova should bo Usod on insurance applications for the subject', 'communitv-', 'MAP NUMBER', '48201C0955L', 'MAP REVISED:', 'AND', 'JUNE 18 , 2007', 'Federal Emergency Management Agency', 'DEPARTA ', 'SECUR'], trying to use L\n",
      "Processing 48201C0185J--------------------------------------------------\n",
      "([datetime.datetime(1996, 11, 6, 0, 0)], ['HARRIS  COUNTY', 'TEXAS AND', 'INCORPORATED   AREAS', 'PANEL 185 OF 1135', 'iSEE MAP INDEX TCkFANELS NOT PRINTED}', 'CONTANS', 'OMMUVITY NUBER   PANEL   SUFFI', 'KARAS COUNT', \"NCORPCRA'EC AREAS   480287   0185\", '(n', 'MaP NUMBER', '48201C0185 ]', 'MAP REVISED;', 'NOVEMBER 6, 1996', 'deral Emergency Management Agency'])\n",
      "Could not find key J for current tile from options [0, 'L', 'G'], using closest date from all keys\n",
      "Using 1996-11-29 00:00:00 for tile date 1996-11-06 00:00:00\n",
      "Processing 48201C0160G--------------------------------------------------\n",
      "([datetime.datetime(1990, 9, 28, 0, 0)], ['HARRIS COUNTY', 'TEXAS AND', 'INCORPORATED AREAS', 'PANEL 160 OF 390', '(SEE MAP iNDEX FoR PANELS NOT PRINTED)', 'CONTAINS:', 'communiiy4  NUMBER   PANEL  SUFFIX', \"UNINCURPORATED AREAS Rxs'480287   0160\", '(n', 'MAp NUMBER', '48201C0160 G', 'EFFECTIVE DATE:', 'SEPTEMBER 28, 1990', 'Federal Emergency Management Agency'])\n",
      "Could not find key G for current tile from options [0, 'L', 'J'], using closest date from all keys\n",
      "Using 1996-11-29 00:00:00 for tile date 1990-09-28 00:00:00\n"
     ]
    },
    {
     "name": "stderr",
     "output_type": "stream",
     "text": [
      "01/29/2025 18:34:32 - WARNING - rasterio._env -   CPLE_AppDefined in D:/RECTDNN/uncompress_2/48201C0240L.tif: _TIFFVSetField:D:/RECTDNN/uncompress_2/48201C0240L.tif: Null count for \"Tag 32934\" (type 4, writecount -3, passcount 1)\n"
     ]
    },
    {
     "name": "stdout",
     "output_type": "stream",
     "text": [
      "Processing 48201C0240L--------------------------------------------------\n",
      "Could not find date in ['1444uU #UJI\" 1 1', 'TEXAS', 'AND INCORPORATED AREAS', 'PANEL 240 OF 1150', '(SEE   MAP   INDEX   FOR   FIRM   PANEL  LAYOUT)', 'CONTAINS ', '0', 'LUM |  coMMUNTY_ NUMBER = PANEL _> SUFFX', 'HARRIS COUNTY', 'UNINCORPORATED AREAS 480287 0240', 'HOUSTON, CITY OF 480288 0240', 'LL', 'WD', 'QD', 'Notice to User; The Map Number shown bolow should be usad', 'whon   placing   map  orders;   tho  Community   Number   shown', 'above should bo used on Insuranco  applications for the subject', 'communitv:', 'MAP NUMBER', '48201C0240L', 'MAP REVISED:', 'AND', 'JUNE 18 , 2007', 'Federal Emergency Management Agency', 'OEPARTM', \"SECUR'\"], trying to use L\n",
      "Processing 48201C0660K--------------------------------------------------\n",
      "Could not find date in ['np Taindd en', 'HARRIS  COUNTY', 'TEXAS AND', 'INCORPORATED  AREAS', 'PANEL 660 OF 4135', '(SEE MAP INDEX FOR PANELS NOT PRINTED}', 'CONTAINS:', 'COMMUNTY _ NUMBER   PANEL   SUFFX', 'HCUSTON, Ciy OF 48o286   CGGC', '0', 'Map  NUMBER', '48201C0660 K', 'Map REVISED:', '1048\\'45\"', 'APRIL 20, 2000', 'Federal Emergency Management Agency'], trying to use K\n",
      "Processing 48201C0045H--------------------------------------------------\n",
      "COULD NOT FIND BOUNDS, USING IMAGE EXTENTS 48201C0045H\n",
      "Could not find date in ['HARRIS COUNTY', 'TEXAS AND', 'INCORPORATED AREAS', 'ZONE:', 'FANEL 45 @F 390', '{SEf MAP {NDEX FOn PANELS NOT PRINTED}', 'CQNTARS:', 'LImit QF', 'DETAILED STUDY |4WXHU eoxmunity8_ NUMBEl > PAHEL   Surtlx', 'ZONE', 'TWNBALL. CITY CI \"sK   045', 'NCCPPOAEFFm KALAS +247   {15', 'Txione', 'W\"or', 'Woh', 'ZONE X,x WHXM  Notice To User: Thp MAP NUIBEM sowr Dolow', 'shontbauszdwvhenP,arngMjp orders: thaCciu', 'OLD SFTNG CYPHESS', 'ZONE X |!hlh  Nify NUmeef ancw above  Iduld be Usedcn insur', 'ROAD', 'abnacnreus uesie Wmet Acnntiny', 'ZONE AE63o', 'MAF NUMBER', '48201C0045 H', 'MAP REVISED:', ')r8AXe %o RM 48 // ! V:aa . SEPTEMBER 3C, 1992', 'ZONE', 'FQep   IRM', 'erleral', 'Lnergericy Management Ageicy', 'Utrr'], trying to use H\n",
      "Could not find tile extension in detections 48201C0045 - H, using default 0 from options dict_keys([0, 'L'])\n"
     ]
    },
    {
     "name": "stderr",
     "output_type": "stream",
     "text": [
      "01/29/2025 18:34:44 - WARNING - rasterio._env -   CPLE_AppDefined in D:/RECTDNN/uncompress_2/48201C0890L.tif: _TIFFVSetField:D:/RECTDNN/uncompress_2/48201C0890L.tif: Null count for \"Tag 32934\" (type 4, writecount -3, passcount 1)\n"
     ]
    },
    {
     "name": "stdout",
     "output_type": "stream",
     "text": [
      "Processing 48201C0890L--------------------------------------------------\n",
      "Could not find date in ['LL XNJ#ie_', 'TEXAS', 'AND INCORPORATED AREAS', 'PANEL 890 OF 1150', '(SEE   MAP   INDEX   FOR   FIRM   PANEL   LAYOUT)', 'CQNIAINS ', 'CQMMUNITY NUMBER > PANEL = SuFFIX', 'HOUSTON, CITY OF 480286 0880', '1', 'Notico to Usor; Tha Map Numbar shown bolow should bo usod', 'whon   placing   map ordert;  the  Communlty   Number   shown', 'ebove should b0 Usod on insurance applications for the subject', 'community', 'MAP NUMBER', '48201C0890L', 'MAP REVISED:', 'AND', 'JUNE 18, 2007', 'Federal Emergency Management Agency', 'OEPARTA', 'SEC'], trying to use L\n"
     ]
    },
    {
     "name": "stderr",
     "output_type": "stream",
     "text": [
      "01/29/2025 18:34:49 - WARNING - rasterio._env -   CPLE_AppDefined in D:/RECTDNN/uncompress_2/48201C0385L.tif: _TIFFVSetField:D:/RECTDNN/uncompress_2/48201C0385L.tif: Null count for \"Tag 32934\" (type 4, writecount -3, passcount 1)\n"
     ]
    },
    {
     "name": "stdout",
     "output_type": "stream",
     "text": [
      "Processing 48201C0385L--------------------------------------------------\n",
      "Could not find date in ['nfuuuu LUUin1 1', 'TEXAS', 'AND INCORPORATED AREAS', 'PANEL 385 OF 1150', '(SEE   MAP   INDEX   FOR   FIRM   PANEL   LAYOUT}', 'CQNTAINS;', 'COMMUNITY NUMBER > PANEL ]= SUFFX', '7', 'HARRIS COUNTY,', 'UNINGORPORATED AREAS 480287 0385', 'HOUSTON, GITY OF 480296 0385', 'LD', 'Notice to User: The Map Number shown below should bo used', 'wtheh', 'placing   map  orders;  the  Community   Number   shown', 'above should be used on insurance   applications for the subjoct', 'community-', 'MAP NUMBER', '48201C0385L', 'MAP REVISED:', 'AND', 'JUNE 18 , 2007', 'Federal Emergency Management Agency', 'DEPARTL', 'SECUR E'], trying to use L\n",
      "Could not find tile extension in detections 48201C0385 - L, using default 0 from options dict_keys([0, 'M', 'G'])\n",
      "Processing 48201C0025G--------------------------------------------------\n",
      "([datetime.datetime(1990, 9, 28, 0, 0)], ['HARRIS COUNTY,', 'TEXAS AND', 'INCORPORATED AREAS', 'PANEL 25 OF 390', '{SEE MAP iNDEX FOR PANELS NoT PRINTED)', 'CONT', 'coramuNITY8 NUMBER   PANEL  SUFFIX', 'UNINCORPORATED AREAS  cen   480287    (1025 6', 'U', 'MAP NUMBER', '48201C0025 G', 'EFFECTIVE DATE:', 'SEPTEMBER 28 , 1990', 'Federal Emergency Management Agency', '[AINS'])\n",
      "Could not find key G for current tile from options ['L'], using closest date from all keys\n",
      "Using 2013-10-16 00:00:00 for tile date 1990-09-28 00:00:00\n",
      "Using 2013-10-16 00:00:00 for tile date 1990-09-28 00:00:00\n",
      "CLOSEST DATE IN KEY IS TOO FAR (8419 days), using general instead (2013-10-16 00:00:00)\n",
      "Processing 48201C1045K--------------------------------------------------\n",
      "([datetime.datetime(2000, 4, 20, 0, 0)], ['HARRIS COUNTY', 'TEXAS AND', 'INCORPORATED   AREAS', 'PANEL 1045 OF 1135', '(SEE MAP INDEX FCR RANELS NCT PRINTED}', 'CONTANS:', 'OMIUNTY _NUUBER   PAVEL   SUFFIX', 'Hax COU', 'NCORPCRAJFD AAEAS   48187Q46', 'PEARLAND O7o; 4807? Wa', '0)', 'Map NUMBER', '48201C1045 K', 'MAP REVISED:', 'APRIL 20, 2000', 'Federal Emergency Management Agency'])\n",
      "Using 2000-04-20 00:00:00 for tile date 2000-04-20 00:00:00\n",
      "Processing 48201C0285G--------------------------------------------------\n",
      "([datetime.datetime(1990, 9, 28, 0, 0)], ['HARRIS COUNTY', 'TEXAS AND', 'INCORPORATED AREAS', 'PANEL 285 OF 390', '(SEE MAP {NOEXForPANELS Not PRINTED}', 'CONTAINS:', 'COMMUNIIY#  NUMBER \" PANEL = SUFFUK', 'HOUSTON; CTY OFRa480296   0285', 'Un', 'MaP NUMBER', '48201c0285 G', 'EFFECTIVE DATE:', 'SEPTEMBER 28 , 1990', 'Federal Emergency Managernent Agency'])\n",
      "Using 1990-09-28 00:00:00 for tile date 1990-09-28 00:00:00\n",
      "Processing 48201C0670K--------------------------------------------------\n",
      "([datetime.datetime(2000, 4, 20, 0, 0)], ['HARRIS  COUNTY', 'TEXAS AND', 'INCORPORATED   AREAS', 'PANEL 670 OF 1135', '(SEE MAP INDEX EOR PANELS NoT PRINTED)', 'CONTAINS:', 'COMIUNTY  NUMBER   PANEL   SUFFTX', 'HOUSTCN G 0i 437286  #6z0', 'Un', 'MAp  NUMBER', '48201C0670 K', 'MAP REVISED:', 'APRIL 20, 2000', 'Federal Emergency Management Agency'])\n",
      "Using 2000-04-20 00:00:00 for tile date 2000-04-20 00:00:00\n"
     ]
    },
    {
     "name": "stderr",
     "output_type": "stream",
     "text": [
      "01/29/2025 18:35:07 - WARNING - rasterio._env -   CPLE_AppDefined in D:/RECTDNN/uncompress_2/48201C0765L.tif: _TIFFVSetField:D:/RECTDNN/uncompress_2/48201C0765L.tif: Null count for \"Tag 32934\" (type 4, writecount -3, passcount 1)\n"
     ]
    },
    {
     "name": "stdout",
     "output_type": "stream",
     "text": [
      "Processing 48201C0765L--------------------------------------------------\n",
      "([datetime.datetime(2007, 6, 18, 0, 0)], ['TEXAS', 'AND INCORPORATED AREAS', 'PANEL 765 OF 1150', '(SEE   MAP   INDEX   FOR   FIRM   PANEL  LAYOUT)', 'CONTAINS  ', '4E', 'COMMUNITY_ MUMBER > PANEL _> SVFRX', 'DAYTOWN;, CITY OF 485456 0765', '1', 'HAIRISCOPORATED AREASx 480287  0765', 'WD', 'Notice to Usor; The Map Number shown balow should b0 usod', 'when', 'placing   map   ordors;   the   Community  Number   shown', 'above should be usad oninsurance applications for the sUbject', 'community', 'MAP NUMBER', '48201C0765L', 'MAP REVISED:', 'JUNE 18 , 2007', 'Federal Emergency Management Agency', 'Tho', 'DEPAR', 'SECUE', 'AND'])\n",
      "Using 2013-10-16 00:00:00 for tile date 2007-06-18 00:00:00\n",
      "Processing 48201C1030K--------------------------------------------------\n",
      "Could not find date in ['HARRIS COUNTY', 'TEXAS AND', 'INCORPORATED   AREAS', 'PANEL 1030 OF 1135', '(SEE MAP INDEX FOR PANELS NoT PRINTED)', 'CONTAINS', 'COMMUNTY _ NUMBcR   PANEL   SUFEIX', 'HaRAIS', 'COUNTY _', 'UNNCOHPORAILD ARLAS 480287 1030', 'HoustoicGx OF 480230  1030', '47', 'Map NUMBER', '48201C1030 K', 'MAP  REVISED:', \"29033'45'-\", 'APRIL 20,2000', '\\'18\\'45\"', 'Federal Emergency Management Agency', '20 ,'], trying to use K\n",
      "Could not find tile extension in detections 48201C1030 - K, using default L from options dict_keys(['L', 'M', 0])\n",
      "Processing 48201C0880J--------------------------------------------------\n",
      "Could not find date in None, trying to use J\n",
      "Could not find tile extension in detections 48201C0880 - J, using default K from options dict_keys(['K', 'L', 'M', 0])\n",
      "Processing 48201C0320J--------------------------------------------------\n",
      "([datetime.datetime(1996, 11, 6, 0, 0)], ['HARRIS COUNTY', 'TEXAS AND', 'INCORPORATED   AREAS', 'PANEL 320 OF 1135', '(SEE VAP INDEX FOR PANELS NOT PRINTED)', 'CCNTNNS:', 'COMMUNTY  CMBER   PANEL   SUFFIX', 'HARRIS COUNT', 'UNINCORPORITED AALAS  .Rq781   8320', 'HOUSTON C  OF 48029u  GzV', '0', 'MAP  NUMBER', '48201C0320', 'Map REVISED:', 'NOVEMBER  6, 1996', 'Federal', 'Emergency Management Agency'])\n",
      "Using 1996-11-29 00:00:00 for tile date 1996-11-06 00:00:00\n",
      "Processing 48201C0260G--------------------------------------------------\n",
      "([datetime.datetime(1990, 9, 28, 0, 0)], ['HARRIS COUNTY', 'TEXAS AND', 'INCORPORATED AREAS', 'PANeL 260 OF 390', '(SEE MAP INDEXfor', 'PANELS Not PRINTED}', 'COXTAIr s', 'COmMunity0  NUMBER , PANEL = SUFFIX', 'uMincdaporated AAEAS 2207  480237   0260 6', '0n', 'MAP NUMBER', '48201C02G0 G', 'EFFECTIVE DATE:', 'SEPTEMBER 28, 1990', 'deral Emergercy Management Agency'])\n",
      "Could not find key G for current tile from options ['J', 'L', 0], using closest date from all keys\n",
      "Using 1996-11-29 00:00:00 for tile date 1990-09-28 00:00:00\n",
      "Processing 48201C0860J--------------------------------------------------\n",
      "([datetime.datetime(1996, 11, 6, 0, 0)], ['HARRIS  COUNTY', 'TEXAS AND', 'INCORPORATED  AREAS', 'PANEL 860 OF 1135', '(SFE MAP INDEX FUA  FANELS NOT PRINTED}', 'CONTAIvS:', 'CQMNUNITY _ NUMBER  PANEL   SUFFI', \"HCUSTONQE 0F 48'295  Qbc)\", 'U)', 'MAP NUMBER', '48201C0860', 'Map REVISED:', 'NOVEMBER 6, 1996', 'Federal Emergency Management Agency'])\n",
      "Could not find key J for current tile from options ['K', 'L', 0], using closest date from all keys\n",
      "Using 1996-11-29 00:00:00 for tile date 1996-11-06 00:00:00\n"
     ]
    },
    {
     "name": "stderr",
     "output_type": "stream",
     "text": [
      "01/29/2025 18:35:29 - WARNING - rasterio._env -   CPLE_AppDefined in D:/RECTDNN/uncompress_2/48201C0940L.tif: _TIFFVSetField:D:/RECTDNN/uncompress_2/48201C0940L.tif: Null count for \"Tag 32934\" (type 4, writecount -3, passcount 1)\n"
     ]
    },
    {
     "name": "stdout",
     "output_type": "stream",
     "text": [
      "Processing 48201C0940L--------------------------------------------------\n",
      "Could not find date in ['irUA JUOi\" 1 Le', 'TEXAS', 'AND INCORPORATED AREAS', 'PANEL 940 OF 1150', '(SEE   MAP   INDEX   FOR   FIRM   PANEL   LAYOUT}', 'CONTAINS;', 'Jwwl |   cOMMUNiTY_ NUMBER   PANEL _  SUFAX', 'DEFR PARK, GITYOF 480291 0840 L', 'LAPORTE CITY OF 485487 0940 L', 'PASADENA, CITY OF 480307 0840 L', 'HARRIS COUNTY', 'UNINCORPORATED AREAS 480287 0840', 'HOUSTON, CITY OF 480286 0940', 'Notice t0 User: Tho Map Number shown balow should be Used', 'whon   placing   map   orders;  the  Community   Number  shown', 'above should be used on insurance  applications for the subject', 'communitv:', 'MAP NUMBER', '48201C0940L', 'MAP REVISED:', 'AND', 'JUNE 18, 2007', 'Federal Emergency Management Agency', 'DEPARTM', 'SECUR'], trying to use L\n",
      "Processing 48201C0245K--------------------------------------------------\n",
      "([datetime.datetime(2000, 4, 20, 0, 0)], ['HARRIS  COUNTY', 'TEXAS AND', 'INCORPORATED   AREAS', 'PANel 245 OF 1135', '(SEE MAP INDEX FOR PANELS NOT PRINTED)', 'CONTAINS:', 'COMMUNITY', 'UMBER   PANEL   SUFFIX', 'HARRIS CcUNTY', 'UNINCOAPORATED ARUS   480787   045', 'LO', 'MAP NUMBER', '48201C0245 K', 'MAP REVISED:', 'APRIL 20, 2000', 'Federal Emergency Management Agency'])\n",
      "Using 2000-04-20 00:00:00 for tile date 2000-04-20 00:00:00\n"
     ]
    },
    {
     "name": "stderr",
     "output_type": "stream",
     "text": [
      "01/29/2025 18:35:37 - WARNING - rasterio._env -   CPLE_AppDefined in D:/RECTDNN/uncompress_2/48201C0735L.tif: _TIFFVSetField:D:/RECTDNN/uncompress_2/48201C0735L.tif: Null count for \"Tag 32934\" (type 4, writecount -3, passcount 1)\n"
     ]
    },
    {
     "name": "stdout",
     "output_type": "stream",
     "text": [
      "Processing 48201C0735L--------------------------------------------------\n",
      "([datetime.datetime(2007, 6, 18, 0, 0)], ['44MLW1 L K', 'TEXAS', 'AND NNCORPORATED AREAS', 'PANEL 735 OF 1150', '(SEE   MAP   INDEX   FOR   FIRM   PANEL  LAYOUT}', 'CONIAINS:', 'COMMUNITY NUMBER   PANEL _  SVFFIX ', '7', 'HAAAIS COUNTY ,', 'UNINCORPCRATED AREAS 480287 0735', 'Notico t0 Usor: The Map Iumnber shown below should be usod', 'whon   placing   map  orders;   the  Community   Number   shown', 'abovo should b0 usod Dn insurance applications for the subjoct', 'community', 'MAP NUMBER', '48201C0735L', 'MAP REVISED:', 'JUNE 18, 2007', 'Federal Emergency Management Agency', 'DEPAL', 'SECUR', 'ND'])\n",
      "Using 2013-10-16 00:00:00 for tile date 2007-06-18 00:00:00\n",
      "Processing 48201C1030J--------------------------------------------------\n",
      "([datetime.datetime(1996, 11, 6, 0, 0)], ['HARRIS COUNTY', 'TEXAS AND', 'INCORPORATED   AREAS', 'PANEL 1030 OF 1135', '(SEE MAP INDEX FOR PANELS Noi PRINTED)', 'ONIANS', 'CQMMUNITY_3 NMBER   PANEL   SUFFIX', 'HARRIs COUry', 'UNINCORPURATED AREAS  488287  1032', 'HOUSTON HTy CF ~#z6   183j', 'U', 'Map  NUMBER', '48201C1030 )', 'Map REVISED:', 'NOVEMBER 6, 1996', 'Federal Emergency Management', 'Agency'])\n",
      "Could not find key J for current tile from options ['L', 'M', 0], using closest date from all keys\n",
      "Using 1996-11-29 00:00:00 for tile date 1996-11-06 00:00:00\n",
      "Processing 48201C0340J--------------------------------------------------\n",
      "([datetime.datetime(1996, 11, 6, 0, 0)], ['O4044as ', 'HARRIS COUNTY', 'TEXAS AND', 'INCORPORATED   AREAS', 'PANEL 340 OF 1135', '{SEE MAP INDEX FOR PANELS NOT PRINTED)', 'CONTAINS:', 'COMMUNTY _ NUMBER   PANEL   SUFEIX', 'HiARNS COUN', 'UNIXCORPORATED AREAS 48C287 0340', 'HOUSTCN GCROR L80z266 0340', '0)', 'MAP  NUMBER', '48201C0340', 'Map REVISED:', 'NOVEMBER 6, 1996', 'Federal Emergency Management Agency'])\n",
      "Could not find key J for current tile from options [0, 'L', 'G'], using closest date from all keys\n",
      "Using 1996-11-29 00:00:00 for tile date 1996-11-06 00:00:00\n",
      "Processing 48201C0220G--------------------------------------------------\n",
      "([datetime.datetime(1990, 9, 28, 0, 0)], ['HARRIS COUNTY', 'TEXAS AND', 'INCORPORATED AREAS', 'PANEL 220 OF 390', '(SEE MAP iNDEX FoR PANELS Not PRINTEd)', 'CONTAINS:', 'COMMUNITY . HUMBER   PANEL   SUFFUX', 'UNINCORPORATED AREAS 78ens480287   0220', '(', 'MAP NUMBER', '48201C0220 G', 'EFFECTIVE DATE:', 'SEPTEMBER 28, 1990', 'Federal Emergency Management Agency'])\n",
      "Could not find key G for current tile from options [0, 'L', 'J'], using closest date from all keys\n",
      "Using 1996-11-29 00:00:00 for tile date 1990-09-28 00:00:00\n",
      "Processing 48201C1055J--------------------------------------------------\n",
      "([datetime.datetime(1996, 11, 6, 0, 0)], ['HARRIS COUNTY,', 'TEXAS AND', 'INCORPORATED   AREAS', 'PANEL 1055 €F 1135', '{SEE MAP INDEX FOR PANELS NCT PRINTED)', 'CCNIAINS:', 'COMMUNIY~NUMBER   FANEL   SUFFIX', 'HARAIS COUNTY', \"'NINCCRPCRATED AREAS   480287   166\", 'MOUSTON Gv 0f 480796  1666', 'PiAmANPAAN & 480677 {355', '0', 'MBZO1GiO5er', 'Map REVISED:', 'NOVEMBER 6, 1996', 'Federal Emergency Management Agency'])\n",
      "Could not find key J for current tile from options ['K', 'L', 0], using closest date from all keys\n",
      "Using 1996-11-29 00:00:00 for tile date 1996-11-06 00:00:00\n",
      "Processing 48201C0855K--------------------------------------------------\n",
      "([datetime.datetime(2000, 4, 20, 0, 0)], ['HARRIS COUNTY,', 'TEXAS AND', 'INCORPORATED   AREAS', 'PANEl 855 OF 1135', '{SEE MAP INDEX FCR Fa~ELS Not PRINTED}', 'CONTAINS:', 'COVMUNTY AUMBER  PANEL   SUFFX', 'BELLARE, ChTY % 480289  2355', 'HOUSTON, City OF 480296  0355', 'SCUTFSICE PUeci CIY OF  48312  3353', 'wvEST UNVERSTY PLACE', 'City 0F #Ca  480315  #55', 'U)', 'MAp  NUMBEP', '48201C0855 K', 'Map REVISED:', 'APRIL 20, 2000', 'Federal Emergency Management Agency'])\n",
      "Using 2000-04-20 00:00:00 for tile date 2000-04-20 00:00:00\n",
      "Processing 48201C0170J--------------------------------------------------\n",
      "([datetime.datetime(1996, 11, 6, 0, 0)], ['2n099p 8h 420', 'HARRIS COUNTY', 'TEXAS AND', 'INCORPORATED   AREAS', 'PANEL 170 OF 1135', 'ISEE MAP INDEX FOR PANELS NOT PRINTED}', 'CONTAINS:', 'COMMUNITY _ NUMBER  PANE   SUFFIX', 'ParRS COUN', 'UNINCCRPORATED AREAS  430237   0170', 'Un', 'MAp  NUMBER', '48201C0170', 'MAp REVISED:', 'NOVEMBER 6, 1996', 'Federal', 'Emergency Management Agency'])\n",
      "Could not find key J for current tile from options [0, 'M'], using closest date from all keys\n",
      "Using 1996-11-29 00:00:00 for tile date 1996-11-06 00:00:00\n",
      "Processing 48201C0970J--------------------------------------------------\n",
      "([datetime.datetime(1996, 11, 6, 0, 0)], ['HARRIS COUNTY', 'TEXAS AND', 'INCORPORATED  AREAS', 'PANEL 970 OF 1135', '{SEE MAP INDEXFoR PANELS NOT PRINTED)', 'CONTAINS:', 'COMMUNITY NUMBER   PANEL   SUFFIX', 'BAYTOWN, Cityc; 435466  OSzc', 'Marris Co', 'UNINCORPORATED AFEAS 480287   0s7o', 'Un', 'MaP NUMBER', '48201C0970 )', 'Map REVISED:', 'NOVEMBER 6, 1996', 'Federal Emergency Management Agency'])\n",
      "Could not find key J for current tile from options [0, 'L', 'M', 'N'], using closest date from all keys\n",
      "Using 1996-11-29 00:00:00 for tile date 1996-11-06 00:00:00\n"
     ]
    },
    {
     "name": "stderr",
     "output_type": "stream",
     "text": [
      "01/29/2025 18:36:09 - WARNING - rasterio._env -   CPLE_AppDefined in D:/RECTDNN/uncompress_2/48201C0440L.tif: _TIFFVSetField:D:/RECTDNN/uncompress_2/48201C0440L.tif: Null count for \"Tag 32934\" (type 4, writecount -3, passcount 1)\n"
     ]
    },
    {
     "name": "stdout",
     "output_type": "stream",
     "text": [
      "Processing 48201C0440L--------------------------------------------------\n",
      "([datetime.datetime(2007, 6, 18, 0, 0)], ['IL444U #UJi\" 4 1', 'TEXAS', 'AND INCORPORATED AREAS', 'PANEL 440 OF 1150', 'ISEE   MAP   INDEX   FOR   FIRM   PANEL   LAYOUT)', 'CONTAINS:', 'COMMUNITY NUMBER   PANEL _ = SUFFX', 'HARRIS COUNTY ,', 'UNINCOAPORATED AREAS 480287 0440', 'JERSEY VILLAGE CITY OF 480300 0440', 'HOUSTON; CITY OF 480286 0440', 'Notice to Usor: The Map Number shown below should bo used', 'when', 'placing   map  orders;   the  Community   Number   shown', 'above   should bo used on insutance', 'applications for tho subject', 'community-', 'MAP NUMBER', '48201C0440L', 'MAP REVISED:', 'JUNE 18, 2007', 'Federal Emergency Management Agency', 'Tho', 'Map', 'DEPARTM', 'SECUR', 'AND'])\n",
      "Using 2013-10-16 00:00:00 for tile date 2007-06-18 00:00:00\n",
      "Processing 48201C0315K--------------------------------------------------\n",
      "([datetime.datetime(2000, 4, 20, 0, 0)], ['HARRIS COUNTY', 'TEXAS AND', 'INCORPORATED   AREAS', 'PANEL 375 UF 1135', '(SEE MAP INDEX ROR PANELS NOT PRINTED;', 'CONTAINS:', 'COMMUNITYNUMBER   PANEL   SUFFI', 'KARRS Cou', 'JNNCoaRCPATED AReas   48028}   815', 'HOUSTOn e 0\" 4296   (25', 'PUMBLLWec_ 65029}  615', '0', 'MAP NUMBER', '48201C0315 K', 'MAP REVISED;', 'APRIL 20, 2000', 'Federal Emergency Management Agency'])\n",
      "Using 2000-04-20 00:00:00 for tile date 2000-04-20 00:00:00\n",
      "Processing 48201C0765J--------------------------------------------------\n",
      "([datetime.datetime(1996, 11, 29, 0, 0)], ['HARRIS  COUNTY', 'TEXAS AND', 'INCORPORATED   AREAS', 'PANEL 765 OF 1135', '{SEE MAP INDEX FoR PANELS NOT PRINTED}', 'CONTAIVS:', 'COMMUNITYWUMSER   PANEL   SUFFIX', 'bantonnCy 0F `85456  0765', 'HARRIS CCUNTY,', 'UNINCORRCAATED GAEAs ` 48728?   0765', 'En', 'U', 'MAP  NUMBER', '48201C0765', 'Map REVISED:', 'NOVEMBER &, 1996', 'Federal', 'Emergency Management Agency'])\n",
      "Could not find key J for current tile from options [0, 'L', 'M'], using closest date from all keys\n",
      "Using 1996-11-29 00:00:00 for tile date 1996-11-29 00:00:00\n"
     ]
    },
    {
     "name": "stderr",
     "output_type": "stream",
     "text": [
      "01/29/2025 18:36:28 - WARNING - rasterio._env -   CPLE_AppDefined in D:/RECTDNN/uncompress_2/48201C0380L.tif: _TIFFVSetField:D:/RECTDNN/uncompress_2/48201C0380L.tif: Null count for \"Tag 32934\" (type 4, writecount -3, passcount 1)\n"
     ]
    },
    {
     "name": "stdout",
     "output_type": "stream",
     "text": [
      "Processing 48201C0380L--------------------------------------------------\n",
      "([datetime.datetime(2007, 6, 18, 0, 0)], ['LLMiJU1 L +', 'TEXAS', 'AND INCORPORATED AREAS', 'PANEL 380 OF 1150', '(SFE   MAP   INDEX   FOR   FIRM   PANEL   LAYOUT)', 'CONTAINS _', 'COMMUNTY_ NUMBER = PANEL _  SVFAX', 'HARRIS COUNTY,', 'UNINCORPORATED AREAS 480287 03Bo', '8', 'QlD', 'Notice to User: The Map Number shown below should be used', 'when   placing   map   ordors;  the  Community   Number   shown', 'above should be usod on instrance', 'applications for the subject', 'community:', 'MAP NUMBER', '48201CO380L', 'MAP REVISED:', 'JUNE 18, 2007', 'Federal Emergency Management Agency', 'OEPARTM', 'SECURI', 'AND'])\n",
      "Using 1900-01-01 00:00:00 for tile date 2007-06-18 00:00:00\n",
      "Using 1900-01-01 00:00:00 for tile date 2007-06-18 00:00:00\n",
      "CLOSEST DATE IN KEY IS TOO FAR (39249 days), using general instead (1900-01-01 00:00:00)\n"
     ]
    },
    {
     "name": "stderr",
     "output_type": "stream",
     "text": [
      "01/29/2025 18:36:34 - WARNING - rasterio._env -   CPLE_AppDefined in D:/RECTDNN/uncompress_2/48201C1085L.tif: _TIFFVSetField:D:/RECTDNN/uncompress_2/48201C1085L.tif: Null count for \"Tag 32934\" (type 4, writecount -3, passcount 1)\n"
     ]
    },
    {
     "name": "stdout",
     "output_type": "stream",
     "text": [
      "Processing 48201C1085L--------------------------------------------------\n",
      "([datetime.datetime(2007, 6, 18, 0, 0)], ['14444D JJi 1 1', 'TEXAS', 'AND INCORPORATED AREAS', 'PANEL 1085 OF 1150', '(SEE   MAP   INDEX   FOR   FIRM   PANEL   LAYOUT)', 'CONTAINS ', '4', 'COMMUNITY_ NUMBER _> PANEL _= sVfrx', '7', 'HARRIS COUNTY,', 'VNINCORPORATED AAEAS 480287 1085 L', 'SHOAEACRES, CITY OF 485510 1085 L', 'APORTE;, CITY OF 485487 1085 L', 'PASADENA CITY OF 480307 1085 L', 'TAYLOR LAKE VILLAGE, CITY OF   485513 1085 L', 'EL LAGO, CITY OF 485486 1085 L', 'SEABROOK, CITY OF 485507 1085 L', 'Notice t0 User: The Map Number shown below should be used', 'when   placing   map  ordots;   the  Community   Number   shown', 'above should b0 Usod on insurance applications for the subject', 'communmy', 'MAP NUMBER', '48201C1085L', 'MAP REVISED:', 'JUNE 18, 2007', 'Federal Emergency Management Agency', 'Map', 'OEPARTM', 'SECUR S', 'AND'])\n",
      "Using 2013-10-16 00:00:00 for tile date 2007-06-18 00:00:00\n"
     ]
    },
    {
     "name": "stderr",
     "output_type": "stream",
     "text": [
      "01/29/2025 18:36:39 - WARNING - rasterio._env -   CPLE_AppDefined in D:/RECTDNN/uncompress_2/48201C0630L.tif: _TIFFVSetField:D:/RECTDNN/uncompress_2/48201C0630L.tif: Null count for \"Tag 32934\" (type 4, writecount -3, passcount 1)\n"
     ]
    },
    {
     "name": "stdout",
     "output_type": "stream",
     "text": [
      "Processing 48201C0630L--------------------------------------------------\n",
      "([datetime.datetime(2007, 6, 18, 0, 0)], ['Tuuuo UUINi 1', 'TEXAS', 'AND INCORPORATED AREAS', 'PANEL 630 OF 1150', '(SEE   MAP   INDEX   FOR   FIRM   PANEL  LAYOUT)', 'CONTAINS _', 'COMMUNITY NuMbER > PANEL _= SUFAX', '9', 'JERSEY VILLAGE CITY OF 480300 0630', 'HAARIS COUNTY,', 'UNINCORPORATED AREAS 480287 0830', 'HOUSTON, CITY OF 480296 0630', '@', 'TD', 'Notice to Usor: Tho Map Number shown bolow should bo used', 'when   placing   map   orders;   the  Cominunity  Number   shown', 'abovo should bo usod on insurance applications for the subject', 'communitv:', 'MAP NUMBER', '48201C0630L', 'MAP REVISED:', 'JUNE 18, 2007', 'Federal Emergency Management Agency', 'EPART', 'SECUR E', 'AND'])\n",
      "Using 2015-05-04 00:00:00 for tile date 2007-06-18 00:00:00\n"
     ]
    },
    {
     "name": "stderr",
     "output_type": "stream",
     "text": [
      "01/29/2025 18:36:44 - WARNING - rasterio._env -   CPLE_AppDefined in D:/RECTDNN/uncompress_2/48201C0970L.tif: _TIFFVSetField:D:/RECTDNN/uncompress_2/48201C0970L.tif: Null count for \"Tag 32934\" (type 4, writecount -3, passcount 1)\n"
     ]
    },
    {
     "name": "stdout",
     "output_type": "stream",
     "text": [
      "Processing 48201C0970L--------------------------------------------------\n",
      "([datetime.datetime(2007, 6, 18, 0, 0)], ['14444U #JJI 1 1', 'TEXAS', 'AND INCORPORATED AREAS', 'PANEL 970 OF 1150', '(SEE   MAP   INDEX   FOR   FIRM   PANEL   LAYOUT}', 'CONTAINS _', '4', 'LWwlH |= cOMMUNTY_ NUMBER   PANEL _[ SUFFX', '2', 'DAYTOWI;, CITY OF 485456 0870', 'HARRIS COUNTY,', 'UNINCORPORATED AREAS 480287 0870', 'WD', 'Notice to User: The Map Number shown bolow should be used', 'when   placing  map   orders;   the  Community   Numbet   shown', 'above should be usod on insurance  applications tor the subject', 'communty:', 'MAP NUMBER', '48201C0970L', 'MAP REVISED:', 'JUNE 18 , 2007', 'Federal Emergency Management Agency', 'OEPARTM', 'SECURE', \"'AND\"])\n",
      "Using 2013-10-16 00:00:00 for tile date 2007-06-18 00:00:00\n",
      "Processing 48201C0935J--------------------------------------------------\n",
      "([datetime.datetime(1996, 11, 6, 0, 0)], ['HARRIS COUNTY', 'TEXAS AND', 'INCORPORATED   AREAS', 'PANEL 935 OF 1135', '{SEE MAP INDEX TOR FANELS NOT PRINTED)', 'CONTAANS', 'COMMUNTY _ NUMBER   PANEL   SUFFIX', 'BAYTOWN, 6J OF 485456   (825', 'KAGRIS COU', 'UNINCOR?', 'ORRTED AREA;   480287   C835', 'KOUSTON CRGe&n   480236  C935', 'PORTE CITY Ooan} 487187   6935', 'U', 'MAp NUMBER', '48201C0935 ]', 'MaP  REVISED:', 'NOVEMBER 6, 1996', 'Federal Emergency Management', 'Agency'])\n",
      "Could not find key J for current tile from options [0, 'L', 'M'], using closest date from all keys\n",
      "Using 1996-11-29 00:00:00 for tile date 1996-11-06 00:00:00\n",
      "Processing 48201C0420J--------------------------------------------------\n",
      "([datetime.datetime(1996, 11, 29, 0, 0)], ['HARRIS  COUNTY', 'TEXAS AND', 'INCORPORATED  AREAS', 'PANEL 420 OF 1135', '(SEE MAP INDEX FOR PANELS NoT PRINTFD}', 'COMLANS', 'COMMUNTY  Ce NLMBER   PANEL   SUFFIX', 'HARRIS COUNTY', 'UNINCOXPURATED AFUS  43207   020', 'HOUSTON CX 0f 480298  Waz', 'Un', 'HB2UTGU4ZER', 'MAp REVISED:', 'NOVEMBER &, 1996', 'Federal Emergency Management Agency'])\n",
      "Could not find key J for current tile from options ['L', 'M', 'N', 0], using closest date from all keys\n",
      "Using 1996-11-29 00:00:00 for tile date 1996-11-29 00:00:00\n",
      "Processing 48201C0480J--------------------------------------------------\n",
      "([datetime.datetime(1996, 11, 6, 0, 0)], ['HARRIS COUNTY,', 'TEXAS AND', 'INCORPORATEDAREAS', 'PANEL 480 OF 1135', 'ISEE MAP INDEX FOR PANELS NOT PRINTED)', 'CONTAINS', 'COMMUNITY_ NUMBER   PANEL   SUFFIX', 'HAR3IS', 'UNINCORPORSTED AREAS   480287   0480', 'HOUSTON, GiTr OF 488296  NAS0', '0', 'Map NUMBER', '48201C0480', 'Map REVISED:', 'NOVEMBER 6, 1996', 'Federal Emergency Management Agency'])\n",
      "Using 1996-11-29 00:00:00 for tile date 1996-11-06 00:00:00\n",
      "Processing 48201C0040G--------------------------------------------------\n",
      "Couldn't find strict, now trying 482010040\n",
      "Could not find tile in detections 482010040\n",
      "Processing 48201C0160J--------------------------------------------------\n",
      "Could not find date in ['HARRIS COUNTY,', 'TEXAS AND', 'INCORPORATED AREAS', 'PANEL 160 OF 1135', '(SEE MAP INDEX FOR PANELS NOT PRINTED}', 'CCNTAINS:', 'COMMUNITY NUMBER', 'FAVEL   SUFFIX', 'Harais COUNTY,', 'CNNCORPORATED: AREAS  480287   01G0', 'HOUSTON, CllY OF; & 480296  0160', 'Up', 'MAP NUMBER', '48201C0160 )', 'MAP REVISED:', '45', 'NOVEMBER 6, 1996', 'Federal Emergency Management Agency'], trying to use J\n",
      "Processing 48201C0210G--------------------------------------------------\n",
      "([datetime.datetime(1990, 9, 28, 0, 0)], ['HARRIS COUNTY,', 'TEXAS AND', 'INCORPORATED AREAS', 'PANEL 210 OF 390', '{SEE MAP INDEX FoA RANELS NoT PAINTED)', 'CONTAINS:', 'CQMMUNIty 8  NUMBER   PANEL   SUFEIX', 'UNiNCORPORATED AREAS * e 480287   0210', 'U)', 'MAP NUMBER', '48201C0210 G', 'EFFECTIVE DATE:', 'SEPTEMBER 28 , 1990', 'Federal Emergency Management Agency'])\n",
      "Using 1990-09-28 00:00:00 for tile date 1990-09-28 00:00:00\n",
      "Processing 48201C0295J--------------------------------------------------\n",
      "([datetime.datetime(1996, 11, 6, 0, 0)], ['HARRIS COUNTY,', 'TEXAS AND', 'INCORPORATED AREAS', 'PANEL 295 OF 1135', \"(SEE VAP INDEX F09 PANELS NOT PRINTFD'\", 'CONTAINS:', 'COMMUNI_ NUMBER   PANEL   SUFFIX', '#ARNIS col', 'INiNCORPOA ED AREAS   480287   0295', 'HOUSTON GICF . 480245  (295', 'HiMBLE4o870  480297  0296', '6', 'Map  NUMBER', '48201C0295', 'MAP REVISED:', 'NOVEMBER 6, 1996', 'Federal Emergency Management Agency'])\n",
      "Could not find key J for current tile from options [0, 'L', 'M'], using closest date from all keys\n",
      "Using 1996-11-29 00:00:00 for tile date 1996-11-06 00:00:00\n",
      "Processing 48201C0390G--------------------------------------------------\n",
      "([datetime.datetime(1990, 9, 28, 0, 0)], ['HARRIS COUNTY', 'TEXAS AND', 'INCORPORATED AREAS', 'PANEL 390 OF 390', '(SEE MAP INDEX FOA PANELS NOT PRINTED)', 'CQNTANZ', 'CUMMUNITY0 NUMBER   PANEL = SUFFUX', 'EL LAGD, CITY OF 485466      0790', 'NASSAU BAY, CITY OF.485491   0390', 'PASADENA, CITY OF 480307   0390', 'TAYLOR LAKE VILLAGE, CITY OF   485513   0390', 'UNINCORPORATED AREAS  480287   0390', 'MAP NUMBER', '48201C0390 &', 'EFFECTIVE DATE:', 'SEPTEMBER 28 , 1990', 'Federal', 'Emergency Management Agency'])\n",
      "Using 1990-09-28 00:00:00 for tile date 1990-09-28 00:00:00\n",
      "Processing 48201C0855J--------------------------------------------------\n",
      "([datetime.datetime(1996, 11, 29, 0, 0)], ['HARRIS COUNTY', 'TEXAS AND', 'INCORPORATED   AREAS', 'PANEL 855 OF 1135', '(SEE MAP INDEX FCRPANELS NOT PRINTED}', 'CONTAINS:', 'COMMUNITYP NUMBER   PaNEi   SUFFX', 'BELLAIRE CTY CF 480239  1855', 'HIQUSTORP OF 480298   0855', '12', 'Map NUMBER', '48201C0855', 'Map REVISED:', 'NOVEMBER &, 1996', 'Federal', 'Emergency Management Agency'])\n",
      "Could not find key J for current tile from options ['K', 'L', 0], using closest date from all keys\n",
      "Using 1996-11-29 00:00:00 for tile date 1996-11-29 00:00:00\n",
      "Processing 48201C0565J--------------------------------------------------\n",
      "([datetime.datetime(1996, 11, 6, 0, 0)], ['HARRIS COUNTY', 'TEXAS AND', 'INCORPORATED   AREAS', 'PANEL 565 OF 1135', 'ISEE MAP INDEX FOR RANELS Not PRINTED}', 'CCNTANS:', 'CCMMUNITY _NMBER   PANEL   SUFFIX', 'HARRIS COUNTY', '\"UNNCORPORATED AREAS   483287   0s65', 'U', 'Map NUMBER', '48201C0565 ]', 'MAp REVISED:', 'NOVEMBER 6, 1996', 'Federal Emergency Management Agency'])\n",
      "Using 2000-04-20 00:00:00 for tile date 1996-11-06 00:00:00\n",
      "Processing 48201C0470J--------------------------------------------------\n",
      "([datetime.datetime(1996, 11, 6, 0, 0)], ['HARRIS   COUNTY', 'TEXAS  AND', 'INCORPORATED  AREAS', 'PANEL 470 OF 1135', '{SFE MAP INDEX FOR PANELS NOT PRINTED;', 'CONTAINS:', 'CQMMUNIY _ NUMBER PANEL   SUFFiX', 'Harris COUNTY', 'UNNNCORPOAATED AREAS  480287   M7C', 'HOUSTON, Cny OF /00 487296 ` (470', 'U', 'HSZOICUhTER', 'Map REVISED:', 'NOVEMBER 6, 1996', 'Federal Emergency Management Agency'])\n",
      "Could not find key J for current tile from options [0, 'L', 'N'], using closest date from all keys\n",
      "Using 1996-11-29 00:00:00 for tile date 1996-11-06 00:00:00\n",
      "Processing 48201C0195J--------------------------------------------------\n",
      "([datetime.datetime(1996, 11, 6, 0, 0)], ['HARRIS COUNTY', 'TEXAS AND', 'INCORPORATED   AREAS', 'PANEL 195 OF 1135', '(SEF MAP INDEX FOR PANELS NoT PRINTED}', 'CCNTAINS:', 'OMMUNTY NUMBER   PANEL   SUFFiX', 'HARRIS Cc', 'UMINCORROHATED AREAS   -30287   c195', 'HCUSTON CRLQF 488296  01s5', 'Un', 'MAP NUMBER', '48201C0195 )', 'Map REVISED:', 'NOVEMBER 6, 1996', 'Federal Emergency Management Agency'])\n",
      "Could not find key J for current tile from options [0, 'L', 'M'], using closest date from all keys\n",
      "Using 1996-11-29 00:00:00 for tile date 1996-11-06 00:00:00\n"
     ]
    },
    {
     "name": "stderr",
     "output_type": "stream",
     "text": [
      "01/29/2025 18:37:27 - WARNING - rasterio._env -   CPLE_AppDefined in D:/RECTDNN/uncompress_2/48201C0960L.tif: _TIFFVSetField:D:/RECTDNN/uncompress_2/48201C0960L.tif: Null count for \"Tag 32934\" (type 4, writecount -3, passcount 1)\n"
     ]
    },
    {
     "name": "stdout",
     "output_type": "stream",
     "text": [
      "Processing 48201C0960L--------------------------------------------------\n",
      "([datetime.datetime(2007, 6, 18, 0, 0)], ['r4uuuo LJUi 1 1 ,', 'TEXAS', 'AND INCORPORATED AREAS', 'PANEL 960 OF 1150', '(SEE   MAP   INDEX   FOR   FIRM   PANEL  LAYOUT)', 'CONTAINS;:', 'J', 'CQMMUNITY  NUMBER > PANEL _= SUFFX', '2', 'BAYTOWN; CITY OF 485456 0860', 'HAAAIS COUNTY ,', 'UNINCORPORATED AREAS 480287 0960', 'Notico to Usor: The Map Number shown balow should be usod', 'when   placing   map  orders;  the  Community   Number   shown', 'above should bo usad on insurance   applications for the subject', 'community:', 'MAP NUMBER', '48201CO960L', 'MAP REVISED:', 'JUNE 18 , 2007', 'Federal Emergency Management Agency', 'DEPARTM', 'SECUR', 'AND'])\n",
      "Using 2013-10-16 00:00:00 for tile date 2007-06-18 00:00:00\n",
      "Processing 48201C0320K--------------------------------------------------\n",
      "([datetime.datetime(2000, 4, 20, 0, 0)], ['HARRIS COUNTY,', 'TEXAS AND', 'INCORPORATED   AREAS', 'PANEL 320 OF 1135', 'ISEE MAP INDEX FOR PANELS NoT PRINTED}', 'ONTANS:', 'COMMUNTY_eNWBER    FANEL   SUFFIX', 'HARRIS COUNTY.', 'UNINCOAPCRATED AREAS   480287   02z', 'HOUSTONCy &F 48C290  63zV', '(O', 'MAP NUMBER', '48201C0320 K', 'MAP REVASED:', 'APRIL 20 , 2000', 'Federal Eiergency Management', 'Agency'])\n",
      "Using 2000-04-20 00:00:00 for tile date 2000-04-20 00:00:00\n"
     ]
    },
    {
     "name": "stderr",
     "output_type": "stream",
     "text": [
      "01/29/2025 18:37:35 - WARNING - rasterio._env -   CPLE_AppDefined in D:/RECTDNN/uncompress_2/48201C0670L.tif: _TIFFVSetField:D:/RECTDNN/uncompress_2/48201C0670L.tif: Null count for \"Tag 32934\" (type 4, writecount -3, passcount 1)\n"
     ]
    },
    {
     "name": "stdout",
     "output_type": "stream",
     "text": [
      "Processing 48201C0670L--------------------------------------------------\n",
      "Could not find date in ['L444AD  JJi 1 1', 'TEXAS', 'AND INCORPORATED AREAS', 'PANEL 670 OF 1150', '{SEE   MAP   INDEX   FOR   FIRM   PANEL ` LAYOUT)', 'CONTAINS:', '35', 'COMMUNITY NumbER > PANEL _> suFFX', 'HOUSTON, CITY OF 480206 0670', '3', 'WD', 'W', 'Notice to Usor: The Map Number shown below should be used', 'when   placing   map  ordors;  the   Community   Number   shown', 'above should be usod on insurance applications for the subject', 'community:', 'MAP NUMBER', '48201C0670L', 'MAP REVISED:', 'MTTrI', 'JUNE 18 , 2007', 'MITTTI', 'Federal Emergency Management Agency', 'HHLT', 'OEPARTM', 'SEC ', 'AND'], trying to use L\n"
     ]
    },
    {
     "name": "stderr",
     "output_type": "stream",
     "text": [
      "01/29/2025 18:37:40 - WARNING - rasterio._env -   CPLE_AppDefined in D:/RECTDNN/uncompress_2/48201C0660L.tif: _TIFFVSetField:D:/RECTDNN/uncompress_2/48201C0660L.tif: Null count for \"Tag 32934\" (type 4, writecount -3, passcount 1)\n"
     ]
    },
    {
     "name": "stdout",
     "output_type": "stream",
     "text": [
      "Processing 48201C0660L--------------------------------------------------\n",
      "([datetime.datetime(2007, 6, 18, 0, 0)], ['L444nJ #Ui 1 1', 'TEXAS', 'AND INCORPORATED AREAS', 'PANEL 660 OF 1150', '(SEE   MAP   INDEX   FOR   FIRM   PANEL   LAYOUT)', 'CQNTAINS _', 'CQMMUNITY NUMBER > PANEL _= SUFFIX', '8', 'HOUSTON, CITY OF 480206 0560', '\"', 'Notice to Usor: The Map Numbar shown bolow should b0 usod', 'when   placing   map  orders;   tho  Community   Number   shown', 'above should be Uted on insurance applications tor tho subjoct', 'community_', 'MAP NUMBER', '48201C0660L', 'MAP REVISED:', 'JUNE 18, 2007', 'Federal Emergency Management Agency', 'SECUR', 'AND'])\n",
      "Using 1900-01-01 00:00:00 for tile date 2007-06-18 00:00:00\n",
      "Using 1900-01-01 00:00:00 for tile date 2007-06-18 00:00:00\n",
      "CLOSEST DATE IN KEY IS TOO FAR (39249 days), using general instead (1900-01-01 00:00:00)\n",
      "Processing 48201C0305K--------------------------------------------------\n",
      "([datetime.datetime(2000, 4, 20, 0, 0)], ['HARRIS  COUNTY_', 'TEXAS AND', 'INCORPORATED    AREAS', 'PANEL 305 OF 1135', '(SEE MAP INDEX FOR PANELS NCT PRINTED}', 'CONTAINS:', 'COMMUMTYRBSNJMBER   PANEL   SUFFIX', 'MnTS CouN ', 'UNNCORPERATED ARES  483281  03ub', 'Un', 'MAp NUMBER', '48201C0305 K', 'Map REWISED:', 'APRIL 20, 2000', 'Federal Emergency Management Agency'])\n",
      "Using 2000-04-20 00:00:00 for tile date 2000-04-20 00:00:00\n",
      "Processing 48201C0805J--------------------------------------------------\n",
      "([datetime.datetime(1996, 11, 6, 0, 0)], ['26  #uoeievalysea', 'HARRIS COUNTY', 'TEXAS AND', 'INCORPORATED  AREAS', 'PANEL 805 OF 1135', '(SEE MAP INDEY FOR  PANELS NOT PRINTED}', 'CQNTAINS:', 'COMMUNIZY _ NUMBER   PANEL   SUFFIX', 'HARRIS CQUJMTY', 'JNNCORSQAATED ARE S 48C23}  18C5', 'HOUSTON GONGF 48u2C0  L805', 'Wilow: FaRI', 'URAINAGE DisnROidaan 431603   0305', 'Un', 'Map NUMBER', '48201C0805', 'MAP REVISED:', 'NOVEMBER 6, 1996', 'Federal', 'Emergency Management Agency'])\n",
      "Could not find key J for current tile from options [0, 'L'], using closest date from all keys\n",
      "Using 1996-11-29 00:00:00 for tile date 1996-11-06 00:00:00\n",
      "Processing 48201C0955J--------------------------------------------------\n",
      "([datetime.datetime(1996, 11, 6, 0, 0)], ['HARRIS COUNTY', 'TEXAS AND', 'INCORPORATED   AREAS', 'PANEL 955 OF 1135', '(SEE MAP INDEX FOR RANELS NOT PRINTED}', 'CONIAINS:', 'COMMUNTY _ NUMBER   PANEL  SUFFIX', 'RAYTORN GN CF 485458  0955', 'HAARIS Co', 'UNINC', '{OrPCiT OP', 'AAEAS 480237  0955', 'LA PORTE CIt} OPe2 485487   0953', 'U', 'MAP  NUMBER', '48201C0955', 'MAP REVISED:', 'NOVEMBER 6, 1996', 'Federal Emergency Management Agency'])\n",
      "Could not find key J for current tile from options [0, 'L', 'M'], using closest date from all keys\n",
      "Using 1996-11-29 00:00:00 for tile date 1996-11-06 00:00:00\n",
      "Processing 48201C0745J--------------------------------------------------\n",
      "([datetime.datetime(1996, 11, 6, 0, 0)], ['HARRIS COUNTY', 'TEXAS AND', 'INCORPORATED   AREAS', 'PANEL 745 OF 1135', '(SEE MAP INDEX FOR PANELS NOT PRINTED)', 'CONTAINS:', 'COMMUNITY _~~NUMBER   PANEL   SUFFIX', 'BAYTOVVN, CITY OF 485456  0745', 'HaaRIS COUNTY_', 'UNINCORPORATE', 'ED AREAS 480287  0745', 'HOUSTON; CITYECF 480296  0745', 'Un', 'MAP  NUMBER', '48201C0745', 'MAP REVISED:', 'NOVEMBER  6, 1996', 'Federal Emergency Management Agency'])\n",
      "Could not find key J for current tile from options ['K', 'L', 'M', 0], using closest date from all keys\n",
      "Using 1996-11-29 00:00:00 for tile date 1996-11-06 00:00:00\n"
     ]
    },
    {
     "name": "stderr",
     "output_type": "stream",
     "text": [
      "01/29/2025 18:37:58 - WARNING - rasterio._env -   CPLE_AppDefined in D:/RECTDNN/uncompress_2/48201C0715L.tif: _TIFFVSetField:D:/RECTDNN/uncompress_2/48201C0715L.tif: Null count for \"Tag 32934\" (type 4, writecount -3, passcount 1)\n"
     ]
    },
    {
     "name": "stdout",
     "output_type": "stream",
     "text": [
      "Processing 48201C0715L--------------------------------------------------\n",
      "([datetime.datetime(2007, 6, 18, 0, 0)], ['HAR D CUUIvi 1,', 'TEXAS', 'AND INCORPORATED AREAS', 'PANEL 715 OF 1150', '(SEE   MAP   INDEX   FOR   FIRM   PANEL  LAYOUT)', 'CONTAINS:', 'COMMUNITY NuMbeR _> PANEL _> SUFFX', '5', 'HOUSTON, CITY OF 480296 0715', 'HARRIS COUNTY,', 'UNINCORPOAATED AREAS 480287 0715', 'JACINTO CITY,CITY OF 480299 0715 L', 'GALENA PARK, CITY OF 480283 0715 1', 'Notica to Usar: Tho Map Number shown bolow should be usad', 'whon   placing   map  orders;   the  Community   Number showr', 'above should b0 used on insurance applications for the subject', 'community:', 'MAP NUMBER', '48201C0715L', 'MAP REVISED:', 'JUNE 18, 2007', 'Federal Emergency Management Agency', 'EPART', 'SECURI', 'AND'])\n",
      "Using 2013-10-16 00:00:00 for tile date 2007-06-18 00:00:00\n",
      "Processing 48201C0660J--------------------------------------------------\n",
      "([datetime.datetime(1996, 11, 6, 0, 0)], ['HARRIS COUNTY', 'TEXAS AND', 'INCORPORATED   AREAS', 'PANEl 660 0F 1135', '(SEE MAP INDEX FOR PANELS NOT PRINTED}', 'CONTAINS:', 'COMMUNTY * NUMBER   PANEL   SUFFIX', 'HOUSTON UTY OF 480295  8Gg0', 'n', 'MAP NUMBER', '48201C0660 )', 'MAP  REVISED:', 'NOVEMBER 6, 1996', 'Federal Emergency Management Agency'])\n",
      "Could not find key J for current tile from options ['K', 'L', 'M', 0], using closest date from all keys\n",
      "Using 1996-11-29 00:00:00 for tile date 1996-11-06 00:00:00\n",
      "Processing 48201C0690K--------------------------------------------------\n",
      "([datetime.datetime(2000, 4, 20, 0, 0)], ['HARRIS  COUNTY', 'TEXAS AND', 'INCORPORATED   AREAS', 'PANEL 690 OF 1135', '(SEE MAP (NDEX FOR QANELS NOT PRINTED}', 'CONTAINS:', 'COMMUNTY _ NUMBER   PANEL   SUFFIX', 'HOUSTON STY 0F 480236   0g5c', 'LA', 'MAP  NUMBER', '48201C0690 K', 'MAp  REVISED:', 'APRIL 20, 2000', 'Federal Emergency Management Agency'])\n",
      "Using 2000-04-20 00:00:00 for tile date 2000-04-20 00:00:00\n",
      "Processing 48201C0015J--------------------------------------------------\n",
      "([datetime.datetime(1996, 11, 6, 0, 0)], ['HARRIS COUNTY', 'TEXAS AND', 'INCORPORATED   AREAS', 'PANEL 15 OF 1135', '{SEE MAP INDEX FOR PANELS NOT PRINTED)', 'CONTAINS:', 'COMMUNITY _ MMBER   PANEL   SUFEIX', 'HAnRIS Coumt', 'UNNCCRPOREIEC AREAS  480287  C01s', '(2', 'MAP NUMBER', '48201c0015', 'Map   REVISED;', 'NOVEMBER 6, 1996', 'Federal Emergency Management Agency', 'WBER'])\n",
      "Could not find key J for current tile from options [0, 'L'], using closest date from all keys\n",
      "Using 1996-11-29 00:00:00 for tile date 1996-11-06 00:00:00\n",
      "Processing 48201C0760J--------------------------------------------------\n",
      "([datetime.datetime(1996, 11, 6, 0, 0)], ['HARRIS COUNTY,', 'TEXAS AND', 'INCORPORATED   AREAS', 'PANEL 760  OF 1135', '{SEE MAP INDEX FCR FANELS NOT PRINTEO}', 'CONTAINS', 'COMMUNTY_ NUMBER  PANEL   SUFHI', \"BAYTONN CTAOF '85456  O7ed\", 'KARAIS COU', 'UNNCORPOSWIEDAREAS 48C287  0760', 'U', 'Map NUMBER', '48201C0760', 'MAP REVISED:', 'NOVEMBER 6, 1996 ', 'Federal Emergency Maragement Agercy'])\n",
      "Could not find key J for current tile from options [0, 'L', 'M', 'N'], using closest date from all keys\n",
      "Using 1996-11-29 00:00:00 for tile date 1996-11-06 00:00:00\n",
      "Processing 48201C0540J--------------------------------------------------\n",
      "([datetime.datetime(1996, 11, 6, 0, 0)], ['HARRIS COUNTY', 'TEXAS AND', 'INCORPORATED AREAS', 'PANEL 540 OF 1135', '(SEF MAP INDEX FOF PANFLS NOT PRINTED}', 'CONTAINS:', 'COMMUNITYNUMBER  PANEL   SUFFIX', 'HARRiS cCul', 'COFPORATFD AFFAS  48028; 054n', 'HCUSYCN SaLOF 430296  0548', 'U)', 'Map NUMBER', '48201C0540 ]', 'Map REVISED:', 'NOVEMBER 6, 1996', 'Federal Emergency Management Agency'])\n",
      "Could not find key J for current tile from options [0, 'L'], using closest date from all keys\n",
      "Using 1996-11-29 00:00:00 for tile date 1996-11-06 00:00:00\n",
      "Processing 48201C0885J--------------------------------------------------\n",
      "([datetime.datetime(1996, 11, 6, 0, 0)], ['HARRIS COUNTY', 'TEXAS AND', 'INCORPORATED   AREAS', 'PANEL 885 OF 1135', '(SEE MAP INDEX fOF\" PANELS NOT PRINTED)', 'COMIAINS_', 'OMMUNITYNUMBER   PANEL   SUFHIX', 'GALENA PARK CITY OF 480293   Cpes', 'HCUSTON,SIY CF 480296  0885', '(a', 'Map NUMBER', '48201C0885 )', 'Map REVISED;', 'NOVEMBER 6, 1996', 'Federal Emergency Management Agency'])\n",
      "Using 1996-11-29 00:00:00 for tile date 1996-11-06 00:00:00\n",
      "Processing 48201C0290M--------------------------------------------------\n",
      "Could not find date in ['TEXAS', 'AND INCORPORATED AREAS', 'PANEL 290 OF 1150', '(SEE MAP INDEX FOR FIRM PANEL LAYOUT)', 'CONTAINS:', 'COMMUNITY NUMBER   PANEL   SUFFIX', 'HARRIS COUNTY. 480287 0290 M', 'UNINCORPORATED AREAS', 'HOUSTON, CITY OF 480296 0290 M', 'Notice to User:  The Map Number shown below should be used', 'when   placing   map  orders; the Community Number  shown', 'above should be used on insurance applications for the subject', 'community.', 'MAP NUMBER', '48201C0290M', 'ND $e', 'MAP REVISED', '3', 'OCTOBER 16,2013', 'Federal Emergency Management Agency', 'Map'], trying to use M\n",
      "Processing 48201C0915M--------------------------------------------------\n",
      "([datetime.datetime(2017, 1, 6, 0, 0)], ['PsiLON_ST', 'HARRIS COUNTY,', 'AMMA', 'TEXAS', 'APPA', 'AN) INCORPORATED) ARIAS', 'IGMA', 'ATKY', '87|IZlM PANEL 915 OF 1150', '{', '(SEE MAP INDEX FOR FIRM PANEL LAYOUT )', 'CONTAINS:', 'COMMUNTY', 'NUMBER   PANEL   SUFFIX', 'DIAMANTE', 'CIRCLEL |WULETTTWIMUMU HOUISTON; City Qf 480228   015', 'PASADeNA City OF {S0acy 6816', 'SOUT  HOUSTON CIYOF   48031+   3ts', 'SELVA', 'CIRCLE] |\"80 oTv', 'Nctice t0 User;   The Map Number shcun below should be', 'used when placing map orders; the Community Number', 'shown abo e should be used cn insurance applicatons for the', 'subject contnunity', 'MAP NUMBER', '48201C0915M', '29*37\\'30\"', 'MAP REVISED', '\\'E   95*11*15\"', 'JANUARY 6,2017', 'Federal Emergency Management Agency', 'BLUFF'])\n",
      "Using 1900-01-01 00:00:00 for tile date 2017-01-06 00:00:00\n",
      "Using 1900-01-01 00:00:00 for tile date 2017-01-06 00:00:00\n",
      "CLOSEST DATE IN KEY IS TOO FAR (42739 days), using general instead (1900-01-01 00:00:00)\n",
      "Processing 48201C0420M--------------------------------------------------\n",
      "([datetime.datetime(2013, 10, 16, 0, 0)], ['TEXAS', 'AND INCORPORATED AREAS', 'PANEL 420 OF 1150', '(SEE MAP INDEX FOR FIRM PANEL LAYOUT)', 'CONTAINS:', 'CQMMUNTY NUMBER   PANEL   SUFEIX', 'HARRIS COUNTY , 480287 0420 M', 'UNINCORPORATED AREAS', 'HOUSTON, CITY OF 480296 0420 M', 'Notice to User: The Map Number shown below should be used', 'when   placing   map orders;  the Community Number   shown', 'above should be used on insurance', 'applications for the subject', 'community.', 'MAP NUMBER', '48201C0420M', '#Cs', 'MAP REVISED', 'OCTOBER 16,2013', 'Federal Emergency Management Agency', 'Map', 'JEPARE'])\n",
      "Using 2013-10-16 00:00:00 for tile date 2013-10-16 00:00:00\n",
      "Processing 48201C0340G--------------------------------------------------\n",
      "COULD NOT FIND BOUNDS, USING IMAGE EXTENTS 48201C0340G\n",
      "([datetime.datetime(1990, 9, 28, 0, 0)], ['HARRIS COUNTY', 'TEXAS AND', 'INCORPORATED AREAS', 'PANEL 3+0 OF 390', '{SEE MAP iNDE', 'PANELS Not Printed)', 'COHZAIN::', 'COMMWNiZY *  KUMBER; PANeL > Suefix', \"P0'Tz CTY CF *a48u437   0340\", \"HORGANS ['QINIT TITt & +80325 3\", \"PAsnDENA CiTY CF 48US0'   4M4u\", 'UincUSTUILV RAERS 480287   0J4U', 'Map NUMBER', '48201C0340 G', 'EFFECTIVE DATE:', 'SEPTEMBER 28, 1990', 'Federal Emergercy Managerent Agency'])\n",
      "Using 1992-09-30 00:00:00 for tile date 1990-09-28 00:00:00\n",
      "Processing 48201C0120G--------------------------------------------------\n",
      "([datetime.datetime(1990, 9, 28, 0, 0)], ['HARRIS COUNTY', 'TEXAS AND', 'INCORPORATED AREAS', 'PANEL 120 OF 390', '(SEE MAP INDEX Fon PANELS NOt PRiNTed)', 'CONTAINS:', 'CoMMunItY 99 NUMBER   PANEL = SUFFIX', 'UNINCORPORATED Antas _aee ; 480287   0120 6', 'Un', 'MAP NUMBER', '48201C0120 €', 'EFFECTIVE DATE :', 'SEPTEMBER 28, 1990', 'Federal Emergency Management Agency'])\n",
      "Could not find key G for current tile from options [0, 'L', 'J'], using closest date from all keys\n",
      "Using 1996-11-29 00:00:00 for tile date 1990-09-28 00:00:00\n"
     ]
    },
    {
     "name": "stderr",
     "output_type": "stream",
     "text": [
      "01/29/2025 18:38:45 - WARNING - rasterio._env -   CPLE_AppDefined in D:/RECTDNN/uncompress_2/48201C0945L.tif: _TIFFVSetField:D:/RECTDNN/uncompress_2/48201C0945L.tif: Null count for \"Tag 32934\" (type 4, writecount -3, passcount 1)\n"
     ]
    },
    {
     "name": "stdout",
     "output_type": "stream",
     "text": [
      "Processing 48201C0945L--------------------------------------------------\n",
      "([datetime.datetime(2007, 6, 18, 0, 0)], ['LXXcLd 1', 'TEXAS', 'AND INCORPORATED AREAS', 'PANEL 945 OF 1150', '(SEE   MAP   INDEX   FOR   FIRM   PANEL  LAYOUT)', 'CONTAINS:', 'Xwl covmuniy _ NUMBER   PANE _  suehX', '=', 'MORGANS POINT, CITY OF 480305 0045', 'LAPORTE CITY OF 485487 0845', 'HARRIS COUNTY ,', 'UMINCORPORATED AREAS 480287 0945', 'PASADENA CITY OF 480307 0845', 'Notice t0 User: The Map Number shown balow should be usod', 'whon', 'placing   map   orders;  the  Gommunity  Number  shown', 'above should be usod on insurance applications for the subject', 'community:', 'MAP NUMBER', '48201C0945L', 'MAP REVISED:', 'JUNE 18, 2007', 'Federal Emergency Management Agency', 'DEPAL', 'SECUR E', 'LAND'])\n",
      "Using 2013-10-16 00:00:00 for tile date 2007-06-18 00:00:00\n"
     ]
    },
    {
     "name": "stderr",
     "output_type": "stream",
     "text": [
      "01/29/2025 18:38:50 - WARNING - rasterio._env -   CPLE_AppDefined in D:/RECTDNN/uncompress_2/48201C1030L.tif: _TIFFVSetField:D:/RECTDNN/uncompress_2/48201C1030L.tif: Null count for \"Tag 32934\" (type 4, writecount -3, passcount 1)\n"
     ]
    },
    {
     "name": "stdout",
     "output_type": "stream",
     "text": [
      "Processing 48201C1030L--------------------------------------------------\n",
      "COULD NOT FIND BOUNDS, USING IMAGE EXTENTS 48201C1030L\n",
      "Could not find date in ['TEXAS', '3274000 Mvl', 'AND INCORPORATED AREAS', 'PANEL 1030 OF 1160', '{SEE   MAP   INDEX   FOR  FiRM PANEL LAYot', 'CQNLAINS:', 'COMMUNITY . NUMBER   PANEL   SuFFIX', 'AARRI8COUNY', 'UNNcOnPORATSI) 41F4s 46228} I033', 'PEXALNDCITYCF 480077 103\"', 'HOUSICA,Cnyof 431286 1083', '3272000 M', 'No ice (0 Ve: Thn Map Number chow) Lelov shorld be Usod', '2', 'aboec shcing ,02x48 dcrsn _hencecmp kceticnsNu hee subjecr', 'Tnnuet', 'MAP NUMBER', '48201c1C30L', 'MAP REVISED=', '29*33\\'45\"', 'JUNE 78, 2007', '95\"18\\'45', 'Federal Emergency Management Agency'], trying to use L\n",
      "Processing 48201C0055G--------------------------------------------------\n",
      "([datetime.datetime(1990, 9, 28, 0, 0)], ['HARRIS COUNTY', 'TEXAS AND', 'INCORPORATED AREAS', 'PANEL 55 OF 390', '{SEE MAP iNDEX FORPANELS NOT PAiNTED)', 'CONTAINS:;', 'COMMUNITY 9 NUMBER : PANEL = SUFFIX', 'UNiNcoRPOHATED AREASOA  480287   0055 6', 'Un', 'MAP NUMBER', '48201CI055 G', 'EFFECTIVE DATE:', 'SEPTEMBER 28, 1990', 'Federal Emergency Management Agency', 'Areas'])\n",
      "Using 1990-09-28 00:00:00 for tile date 1990-09-28 00:00:00\n",
      "Processing 48201C0235K--------------------------------------------------\n",
      "([datetime.datetime(2000, 4, 20, 0, 0)], ['HARRIS COUNTY', 'TEXAS AND', 'INCORPORATED  AREAS', 'PANEL 235 OF 1935', '(SEE MAP INDEX FoR #ANELS NOT PRINTED}', 'CCNTANS:', 'coMMUNITY _#AU BER   FANEL   SUFFIX', 'HARRIS COUNTY', 'UNINCORPORAILC ARES   480287   C235', 'HOUSTON, CITA QF 480296   8235', 'U)', 'MAP  NUMBER', '48201C0235 K', 'MAp REVISED:', 'APRIL 20, 2000', 'Federal Emergency Management Agency'])\n",
      "Using 2000-04-20 00:00:00 for tile date 2000-04-20 00:00:00\n",
      "Processing 48201C0415J--------------------------------------------------\n",
      "([datetime.datetime(1996, 11, 6, 0, 0)], ['HARRIS COUNTY,', 'TEXAS AND', 'INCORPORATED   AREAS', 'PANEL 415 OF 1135', 'ISEE MAP INDEX FOR PANELS NOT PRINTED)', 'CONTAINS:', 'COMMUNTY~ AUMBER   PANEL   SUFFIX', 'MARRIS COUMTY,', 'UNINCORPORATeL; AREAS  48C287  0415', 'U)', 'Map  NUMBER', '48201C0415', 'Map REVISED:', 'NOVEMBER 6, 1996', 'Federal Emergency Management Agency'])\n",
      "Using 2000-04-20 00:00:00 for tile date 1996-11-06 00:00:00\n"
     ]
    },
    {
     "name": "stderr",
     "output_type": "stream",
     "text": [
      "01/29/2025 18:39:11 - WARNING - rasterio._env -   CPLE_AppDefined in D:/RECTDNN/uncompress_2/48201C0245L.tif: _TIFFVSetField:D:/RECTDNN/uncompress_2/48201C0245L.tif: Null count for \"Tag 32934\" (type 4, writecount -3, passcount 1)\n"
     ]
    },
    {
     "name": "stdout",
     "output_type": "stream",
     "text": [
      "Processing 48201C0245L--------------------------------------------------\n",
      "([datetime.datetime(2007, 6, 18, 0, 0)], ['144uuD #UUI 1 1', 'TEXAS', 'AND INCORPORATED AREAS', 'PANEL 245 OF 1150', '(SEE   MAP   INDEX   FOR   FIRM   PANEL   LAYOUT)', 'CONTAINS:', 'COMMUNITY NumbeR > PANEL _ > SUFFIX', 'E', 'HAINISCORAORVATED AREAS 480287   0245', 'ML', 'WD', 'Notice to Usar: The Map Number shown below should be uced', 'when   placing   map  orders;   the  Community   Number  shown', 'above should be usod on insuranco', 'applications for the subjact', 'community:', 'MAP NUMBER', '48201C0245L', 'MAP REVISED:', 'JUnE 18, 2007', 'Federal Emergency Management Agency', 'I', 'OEPARTM', \"SECUR'\", 'AND'])\n",
      "Using 1900-01-01 00:00:00 for tile date 2007-06-18 00:00:00\n",
      "Using 1900-01-01 00:00:00 for tile date 2007-06-18 00:00:00\n",
      "CLOSEST DATE IN KEY IS TOO FAR (39249 days), using general instead (1900-01-01 00:00:00)\n",
      "Processing 48201C0310G--------------------------------------------------\n"
     ]
    },
    {
     "name": "stderr",
     "output_type": "stream",
     "text": [
      "01/29/2025 18:39:17 - WARNING - rasterio._env -   CPLE_AppDefined in D:/RECTDNN/uncompress_2/48201C1090L.tif: _TIFFVSetField:D:/RECTDNN/uncompress_2/48201C1090L.tif: Null count for \"Tag 32934\" (type 4, writecount -3, passcount 1)\n"
     ]
    },
    {
     "name": "stdout",
     "output_type": "stream",
     "text": [
      "([datetime.datetime(1990, 9, 28, 0, 0)], ['HARRIS COUNTY,', 'TEXAS AND', 'INCORPORA TED AREAS', 'PANEL 310 OF-3902', '(SEE MAP iNDEX For PANELS Nosprinted)', 'CONIAWNS:', 'COMMuNWY 3 *  HUHER Put2?ESuffl', 'Holston city 0Fe =  480298', 'unincorporated R8iss   48026/ 2031d', 'MAP NUMBER', '4B201C0310 G', 'EFFECTIVE DATE:', 'SEPTEMBER 28 , 1990', 'Federal Emergency Management Agency', '6', '8'])\n",
      "Using 1990-09-28 00:00:00 for tile date 1990-09-28 00:00:00\n",
      "Processing 48201C1090L--------------------------------------------------\n",
      "([datetime.datetime(2007, 6, 18, 0, 0)], ['LX#LlidD1', 'TEXAS', 'AND INCORPORATED AREAS', 'LLLE', 'PANEL 1090 OF 1150', '(SEE   MAP   INDEX   FOR   FIRM   PANEL   LAYOUT)', 'CONTAINS:', 'COMMUNITY NumbeR > PANEL _> SVFAX', '31', 'HOUSTCN, CITY OF 480296 1080', 'HARRIS COUNTY ,', 'UNNCORPORATED AREAS 480287 +op0', 'MASSAU BAY, CITY OF 485491 10g0 L', 'WEBSTER CITY OF 485516 1090', 'PASADEM CITY OF 480307 1090', 'JD', 'WLL', 'Notice to Usar: The Map Number shown below should be used', 'whan', 'placing   map  ordors;   the  Community   Mumber   shown', 'above should bo used on insurance applications for the subject', 'community-', 'MAP NUMBER', '48201C1O9OL', 'MAP REVISED:', 'JUNE 18 , 2007', 'Federal Emergency Management Agency', 'Map', 'DEPART', 'SECURI', 'LAND'])\n",
      "Using 2013-10-16 00:00:00 for tile date 2007-06-18 00:00:00\n",
      "Processing 48201C0455J--------------------------------------------------\n",
      "([datetime.datetime(1996, 11, 29, 0, 0)], ['HARRIS  COUNTY,', 'TEXAS AND', 'INCORPORATED AREAS', 'PANEL 455 OF 1135', '{SEE MAP INDEX FCR FeNELS Nor PRINTED}', 'CONTAINS:', 'COMMUNTYMLGPER   PANEL   SUFFIX', 'HRRIS COUNt,', 'UMINCORPORATFSSAREAS  480287   045s', 'HCUSTONCTY Oa 430286  0455', 'Un', 'Map NUMBER', '48201C0455', 'Map REVISED:', 'NOVEMBER &, 1996', 'Federal Emergency Management Agency'])\n",
      "Could not find key J for current tile from options [0, 'L'], using closest date from all keys\n",
      "Using 1996-11-29 00:00:00 for tile date 1996-11-29 00:00:00\n",
      "Processing 48201C0415M--------------------------------------------------\n",
      "COULD NOT FIND BOUNDS, USING IMAGE EXTENTS 48201C0415M\n",
      "Could not find date in ['WIMBERLY PARK', 'TEXAS', 'AND INCORPORATED AREAS', 'PANEL 415 OF 1150', '(SEE MAP INDEX FOR FIRM PANEL LAYOUT)', 'CONIAINE', ' iM', \"'0gUOCmN\", 'COMMUNITY NUMBER   PANEL   SUFFKX', 'HARRISCOUNTY, 4802157 *15', '1291MilvAIU   UNINCORPCRATED AREAS', 'HCUSTCN; CITY OF 480295 0215 M', 'U10O-0O-0o', 'angham Creek)', 'ZONE AE', 'Nctice to User: The Map Numbcr shown belcw should be Used', 'when   placing map orcers; the Community  Number shown', 'above shoulc be Used %I mnsurance @Pplca lons  0I [h subecl', 'HEATHERMtITTHM  community_', 'HOLLOW DR', 'SANTOLINA', 'MAP NUMBER', '48201C0415M', 'VVILD', 'WVILLOWLN', 'AUTUMN', 'TRAILS LN', 'MAP REVISED', '299 52\\' 30\" | Il-4 OCTOBER 16, 2013', '950 41\\' 15\"', 'Federal Emergency Management Agency'], trying to use M\n",
      "Processing 48201C0865J--------------------------------------------------\n",
      "([datetime.datetime(1996, 11, 6, 0, 0)], ['HARRIS COUNTY', 'TEXAS AND', 'INCORPORATED   AREAS', 'PANEL 865 OF 1135', '{SEE MAP INDEX FOR RANELS NOT PRINTED}', 'CONTAINS:', 'OMMUNITY3 NUMBER   PANEL   SUFFIX', 'HCUSTON, UTY OF 487796  1855', 'I', 'Map NUMBER', '48201C0865 ]', 'MAP REVISED:', 'NOVEMBER 6, 1996', 'Federal Emergency Management Agency'])\n",
      "Using 1996-11-29 00:00:00 for tile date 1996-11-06 00:00:00\n",
      "Processing 48201C0430J--------------------------------------------------\n",
      "([datetime.datetime(1996, 11, 6, 0, 0)], ['HARRIS COUNTY', 'TEXAS AND', 'INCORPORATED AREAS', 'PANEL 430 OF 1135', '(SEE MAP INDEX FOR PANELS NOT PRINTED)', 'CCNIAINS:', 'CQMMUNTY _NUMBER   PANEL  SUFEX', 'HARRS COU', 'UNKCO?PO OTED 4REAS  *0C28:   (4X', 'MOUSTONTw# EDZSE  630', 'Un', 'MAp  NUMBER', '48201C0430 ]', 'MAp REVISED:', 'NOVEMBER 6, 1996', 'Federal Emergency Management Agency'])\n",
      "Could not find key J for current tile from options ['L', 'M', 0], using closest date from all keys\n",
      "Using 1996-11-29 00:00:00 for tile date 1996-11-06 00:00:00\n",
      "Processing 48201C0485J--------------------------------------------------\n",
      "([datetime.datetime(1996, 11, 6, 0, 0)], ['Ea da 9148804 004058 #anta0 M', 'HARRIS COUNTY', 'TEXAS AND', 'INCORPORATED   AREAS', 'PANEL 485 OF 1135', '(SEE MAF INDEX FOR PANELS NOT PRINTED)', 'CONIAINS', 'CCMMUNITY_ NUMBER PANEL   SUFFIX', 'HARRIS coi', 'UNINCCRPERATD ARFAS 480287 0485', 'HCUSTON Aoat 480286  0406', 'Humbl.CICcRH 488  480297   0485', 'Un', 'Map   NUMBER', '48201C0485 }', 'Map REVISED:', 'NOVEMBER 6, 1996', 'Federal Emergency Management', 'Agency'])\n",
      "Could not find key J for current tile from options [0, 'L', 'M'], using closest date from all keys\n",
      "Using 1996-11-29 00:00:00 for tile date 1996-11-06 00:00:00\n",
      "Processing 48201C0545J--------------------------------------------------\n",
      "([datetime.datetime(1996, 11, 6, 0, 0)], ['HARRIS COUNTY', 'TEXAS AND', 'INCORPORATED   AREAS', 'PANEL 545 OF 1135', '{SEE MAP INDEX FOR PANELS NOT PRINTED)', 'CONTAiNS', 'COMMUNTY_ NUMBER   PANEL   SUFFIX', 'HARRS COUi', 'UNNCORPCRATED AREAS 460267  0545', 'U', 'Map NUMBER', '48201C0545', 'MAp REVISED:', 'NOVEMBER 6, 1996', 'Federal Emergency Management Agency'])\n",
      "Could not find key J for current tile from options [0, 'L'], using closest date from all keys\n",
      "Using 1996-11-29 00:00:00 for tile date 1996-11-06 00:00:00\n",
      "Processing 48201C0335G--------------------------------------------------\n",
      "Could not find date in ['HARRIS CQUNTX ,', 'TEXAS AND', 'INCORPORATED ARES', 'PANEL 335 EE2C0', '(see MAP index7oeANELS Not #inteE', 'CONIMNS', 'comMunW WmI', 'OLEM paar CIy U2 % 440z9|', 'Poril ct 0 & Ri', 'Pasadlt: Ciy Q 4347768 40j01', 'WancOHPOAAI: Ws \"   Xaqwa:', '8', 'L', 'Maps WABER', '\"462urna35 6', 'Effeeve DATE:', 'SEPTEMRE 229 , 1990', 'Federiaenrgcncy Managcmcnt Aecncy', '6'], trying to use G\n",
      "Could not find tile extension in detections 48201C0335 - G, using default 0 from options dict_keys([0, 'L', 'H'])\n",
      "Processing 48201C0810K--------------------------------------------------\n",
      "([datetime.datetime(2000, 4, 20, 0, 0)], ['HARRIS COUNTY', 'TEXAS AND', 'INCORPORATED   AREAS', 'PANEL 810 8F 1135', '(SEE MAP INDEX FOR PANELS NoT PRINTED}', 'CONIANS:', 'CCMMUMTYexS NUMBER   PANEL   SUFFIX', 'CKel ORD CTY M {538  %810', 'pousTcney 0f 450z96; WOIn', 'MssioN BEND MUD Y0,1   485/8   1810', 'MSSION BEND MUD `0. 2   48,636  4813', 'AAPRS', 'UNNNCOEORRTEC~RE3-   488287 #', 'Y', 'Map NUMBER', '4828160810 K', 'Map REVISED:', 'APRIL 20, 2000', 'Federal Emergency Management Agency'])\n",
      "Using 2000-04-20 00:00:00 for tile date 2000-04-20 00:00:00\n",
      "Processing 48201C0045G--------------------------------------------------\n"
     ]
    },
    {
     "name": "stderr",
     "output_type": "stream",
     "text": [
      "01/29/2025 18:39:53 - WARNING - rasterio._env -   CPLE_AppDefined in D:/RECTDNN/uncompress_2/48201C0465L.tif: _TIFFVSetField:D:/RECTDNN/uncompress_2/48201C0465L.tif: Null count for \"Tag 32934\" (type 4, writecount -3, passcount 1)\n"
     ]
    },
    {
     "name": "stdout",
     "output_type": "stream",
     "text": [
      "([datetime.datetime(1990, 9, 28, 0, 0)], ['HARRIS CQUNTY,', 'TEXAS AND', 'INCORPORA TED AREAS', 'PANEL 45 OF*398', '(SEe MAP index For PANELS Not Rnte', 'CONiNNS:', 'CoMMuniiy 3   % NUMDER ', 'IOHBALLcIty CF0 & *80315', 'Unincorpurate0 Anes e83  480287   0037', 'MaP NMMBER', '482a1c0045 6', 'EFFECTPNE DATE:', 'SEPT WNDER 28 , 1990', 'Federal Emergency Management Agency', '8', '6'])\n",
      "Could not find key G for current tile from options [0, 'L'], using closest date from all keys\n",
      "Using 1996-11-29 00:00:00 for tile date 1990-09-28 00:00:00\n",
      "Processing 48201C0465L--------------------------------------------------\n",
      "([datetime.datetime(2007, 6, 18, 0, 0)], ['TEXAS', 'AND INCORPORATED AREAS', 'PANEL 465 OF 1150', '(SEE   MAP   INDEX   FOR   FIRM   PANEL  LAYOUT)', 'CQNIAINS _', 'J', 'COMMUNITY _ NUMBER > PANEL _> SUFFX', '3', 'HAUNISCCOUMRATED AREAS  480287  0465', 'HOUSTON, CITY OF 480296 0465', 'Notice to User: The Map Number shown balow should be used', 'when', 'placing   map  orders;  the  Community   Number   shown', 'above should b0 Used on insurance', 'applications for the subject', 'community:', 'MAP NUMBER', '48201C0465L', 'MAP REVISED:', 'JUNE 18 , 2007', 'Federal Emergency Management Agency', 'OEPARTM', 'GECURE', 'LAND'])\n",
      "Using 2013-10-16 00:00:00 for tile date 2007-06-18 00:00:00\n",
      "Processing 48201C0580J--------------------------------------------------\n",
      "([datetime.datetime(1996, 11, 6, 0, 0)], ['HARRIS COUNTY,', 'TEXAS AND', 'INCORPORATED   AREAS', 'PANEL 580 OF 1135', '(SEE MAP INDEX FOR PANELS NoT PRINTED}', 'CONTANNS', 'COMMUNIY _ NMBER   PANEL   SUFFIX', 'HARRIS COUNTY', \"UNINCORPORATED' AMEAS 480287  C58o\", 'U', 'MAP NUMBER', '4820ic0580', 'MAP REVISED:', 'NOVEMBER 6, 1996', 'Federal Emergency Management Agency'])\n",
      "Could not find key J for current tile from options [0, 'L'], using closest date from all keys\n",
      "Using 2000-04-20 00:00:00 for tile date 1996-11-06 00:00:00\n",
      "Processing 48201C0635J--------------------------------------------------\n",
      "([datetime.datetime(1996, 11, 6, 0, 0)], ['HARRIS COUNTY,', 'TEXAS AND', 'INCORPORATED   AREAS', 'PANEL 635 OF 1135', '{SEE MAP INDEX FOR PANELS NOT PRINTED}', 'CONTAINS:', 'CONMUNTY_? NUXBER   PANEL   SUFFIX', 'HARRIS COUNtT', 'UNINCORPORATED AREAS 42328?  0335', 'HOUSTON. 08 OF 480296  0835', 'JERSEY {KlgeChY &F 48130  0635', '12', 'HBZO1GUGBeR', 'Map REVISED:', 'NOVEMBER 6, 1996', 'Federal Emergency Management Agency'])\n",
      "Could not find key J for current tile from options ['L', 'M'], using closest date from all keys\n",
      "Using 2013-10-16 00:00:00 for tile date 1996-11-06 00:00:00\n",
      "Using 2013-10-16 00:00:00 for tile date 1996-11-06 00:00:00\n",
      "CLOSEST DATE IN KEY IS TOO FAR (6188 days), using general instead (2013-10-16 00:00:00)\n",
      "Processing 48201C0010G--------------------------------------------------\n",
      "([datetime.datetime(1990, 9, 28, 0, 0)], ['HARRIS COUNTY,', 'TEXAS AND', 'INCORPORATED AREAS', 'PANEL 10 OF 390', '(SEE MAP INDE', 'XfOR PANELS Not PRINTED)', 'CONIAIES', 'COMMuniiy2  WMBER ` PANEL   SUFFIX', 'TOMBALL, CIY DF \"eeean 4803i5   0010  6', 'UNINCORPCRATED AREAS 3v 480287   0010', 'U', 'MAP NUMBER', '48201c0010 G', 'EFFECTIVE DATE:', 'SEPTEMBER 28, 1990', 'Federal Emergency Management Agency'])\n",
      "Using 1990-09-28 00:00:00 for tile date 1990-09-28 00:00:00\n",
      "Processing 48201C1035J--------------------------------------------------\n",
      "([datetime.datetime(1996, 11, 6, 0, 0)], ['HARRIS COUNTY', 'TEXAS AND', 'INCORPORATED   AREAS', 'PANEL 1035 OF 1135', '(SEE MAP INDEX FOR PANELS NOT PRINTED)', 'CONTAINS:', 'QMMUNITY .^NUMBER   ?ANEL   SUFFIX', '44arIS couY', \"'NINCCRPOpATLD AREAS  48;   1895\", 'HoUsTOYG# OF 420296  195', '{}', 'Map NUMBER', '48201C1035', 'MAp REVISED:', 'NOVEMBER 6, 1996', 'Federal Emergency Management', 'Agency'])\n",
      "Could not find key J for current tile from options ['K', 'L', 0], using closest date from all keys\n",
      "Using 1996-11-29 00:00:00 for tile date 1996-11-06 00:00:00\n"
     ]
    },
    {
     "name": "stderr",
     "output_type": "stream",
     "text": [
      "01/29/2025 18:40:14 - WARNING - rasterio._env -   CPLE_AppDefined in D:/RECTDNN/uncompress_2/48201C0880L.tif: _TIFFVSetField:D:/RECTDNN/uncompress_2/48201C0880L.tif: Null count for \"Tag 32934\" (type 4, writecount -3, passcount 1)\n"
     ]
    },
    {
     "name": "stdout",
     "output_type": "stream",
     "text": [
      "Processing 48201C0880L--------------------------------------------------\n",
      "([datetime.datetime(2007, 6, 18, 0, 0)], ['14K#A i 1 1', 'TEXAS', 'W W', 'AND INCORPORATED AREAS', 'PANEL 880 OF 1150', '(SEE   MAP   INDEX   FOR   FIRM   PANEL  LAYOUT)', 'CQNTAINS _', 'COMMUNITY_ NUMBER _> PANEL _> SVFFX', 'E', 'HOUSTON, CITY OF 480296 0880', '3', 'Q', 'Notica to Usar: The Map Number shown bolow should be used', 'whan', 'placing   map  orders;   the  Community   Number   shown', 'above should b0 usad on insurance', 'applications for the subject', 'community-', 'MAP NUMBER', '48201co880L', 'MAP REVISED:', 'JUNE 18 , 2007', 'Federal Emergency Management Agency', 'Tho', 'QEPAR', 'GECUE', 'AND'])\n",
      "Using 2013-10-16 00:00:00 for tile date 2007-06-18 00:00:00\n",
      "Processing 48201C0385G--------------------------------------------------\n",
      "COULD NOT FIND BOUNDS, USING IMAGE EXTENTS 48201C0385G\n",
      "([datetime.datetime(1990, 9, 28, 0, 0)], ['HARRIS COUNTY,', 'TEXAS AND', 'INCORPORATED AREAS', 'PANEL 385 OF 390', '{SEE MAP IND', 'Fon FANEL', 'NOT PAINTED}', 'CONTAINS:', \"Cuxhunity 6   NWkBEZ ' FRNeL   SuffWY\", 'HOUSTO\" CT? GFR450Z;   0336', 'NASSAU DAy, CIFY CF 485491   03J5', 'TNINCOAP ORATIC AA.AS 480287   0385', 'WERSTER, CTXPF 485516   0385', 'Map NUMBER', '48201c0385 G', 'EFFECTIVE DATE:', 'SEPTEMBER 28, 1990', 'esleral Emcrgcrcy Managerient Agency'])\n",
      "Using 1990-09-28 00:00:00 for tile date 1990-09-28 00:00:00\n"
     ]
    },
    {
     "name": "stderr",
     "output_type": "stream",
     "text": [
      "01/29/2025 18:40:23 - WARNING - rasterio._env -   CPLE_AppDefined in D:/RECTDNN/uncompress_2/48201C0655L.tif: _TIFFVSetField:D:/RECTDNN/uncompress_2/48201C0655L.tif: Null count for \"Tag 32934\" (type 4, writecount -3, passcount 1)\n"
     ]
    },
    {
     "name": "stdout",
     "output_type": "stream",
     "text": [
      "Processing 48201C0655L--------------------------------------------------\n",
      "([datetime.datetime(2007, 6, 18, 0, 0)], ['L4H4AD JJI L 1', 'TEXAS', 'AND INCORPORATED AREAS', 'PANEL 655 OF 1150', '(SEE   MAP   INDEX   FOR   FIRM   PANEL LAYOUT)', 'CONTAINS ', 'COMMUNITY _ NUMBER = PANEL _= SUFFX', '9', 'HOUSTON, CITY OF 480296 0655', 'HARRIS COUNTY', 'UNINCORPORATED AREAS 480287 0855', 'Notice to Usar: The Map Number shown below should be used', 'when   placing   map  ordors;   the  Community   Number   shown', 'above should b0 usod on insurance  applications for the subject', 'community.', 'MAP NUMBER', '48201C0655L', 'MAP REVISED:', 'JUNE 18, 2007', 'Federal Emergency Management Agency', 'JEPA', \"SECUR'\", 'AND'])\n",
      "Using 2013-10-16 00:00:00 for tile date 2007-06-18 00:00:00\n"
     ]
    },
    {
     "name": "stderr",
     "output_type": "stream",
     "text": [
      "01/29/2025 18:40:27 - WARNING - rasterio._env -   CPLE_AppDefined in D:/RECTDNN/uncompress_2/48201C0760L.tif: _TIFFVSetField:D:/RECTDNN/uncompress_2/48201C0760L.tif: Null count for \"Tag 32934\" (type 4, writecount -3, passcount 1)\n"
     ]
    },
    {
     "name": "stdout",
     "output_type": "stream",
     "text": [
      "Processing 48201C0760L--------------------------------------------------\n",
      "([datetime.datetime(2007, 6, 18, 0, 0)], ['14uuud CUUI41 1', 'TEXAS', 'AND INCORPORATED AREAS', 'PANEL 760 OF 1150', '(SEE   MAP   INDEX   FOR   FIRM   PANEL   LAYOUT)', 'CONTAINS: _', 'COMMUNITY _ NUMBER _> PANEL  SUFFIX', '1', 'MAMRONCOCUFOFEDAREAS > 480267   0780', 'Notice to Usar: Tho Map Rumber shown bolow should be usod', 'whor', 'placing   map   orders;  the  Community   Number  shown', 'above should be usod on insuranca  applications for the subjact', 'communiy:', 'MAP NUMBER', '48201C0760L', 'MAP REVISED:', 'JUnE 18, 2007', 'Federal Emergency Management Agency', 'Usor:', 'Map', 'DePARTM', 'SECUE', 'AND'])\n",
      "Using 2013-10-16 00:00:00 for tile date 2007-06-18 00:00:00\n",
      "Processing 48201C0270J--------------------------------------------------\n",
      "([datetime.datetime(1996, 11, 6, 0, 0)], ['1500 Mnuenico #Nil MiI', 'HARRIS COUNTY', 'TEXAS AND', 'INCORPORATED  AREAS', 'PANEL 270 OF 1135', '{SEE MAP INDEX FOR # ANELS NOT PRINTED}', 'CONTAINS:', 'COMV JNITY NUMBER   PANEL   SUFFix', 'AARRIS CCUN', 'JNINCOR?ORATED ARFLS 480287  0i0', 'FOUSTON,G96a.  480256   {27', '(', 'MAP NUMBER', '48201C0270 }', 'MAP REVISED:', 'NOVEMBER  6, 1996 ', 'Federal Emergency Management', 'Agency'])\n",
      "Could not find key J for current tile from options [0, 'L', 'M', 'H'], using closest date from all keys\n",
      "Using 1996-11-29 00:00:00 for tile date 1996-11-06 00:00:00\n",
      "Processing 48201C0385J--------------------------------------------------\n",
      "([datetime.datetime(1996, 11, 6, 0, 0)], ['HARRIS  COUNTY,', 'TEXAS AND', 'INCORPORATED   AREAS', 'PANEL 385 OF 1135', '{SER MAP INDEX FOR) RANELS NOT PRINTED}', 'CONTAINS:', 'COMMUNITYNUABER   PANEL   SUFFIX', 'hlrrIs COUN', 'UNINCORPORATED AREAS  489287   838', 'KOUSTCN CFTYYOF 480296 %', '0)', 'Map NUMBER', '4820/C0385', 'MAP  REVISED:', 'NOVEMBER 6,1996', 'Federal Emergency Management Agency'])\n",
      "Could not find key J for current tile from options [0, 'M', 'G'], using closest date from all keys\n",
      "Using 1996-11-29 00:00:00 for tile date 1996-11-06 00:00:00\n",
      "Processing 48201C0905J--------------------------------------------------\n",
      "([datetime.datetime(1996, 11, 6, 0, 0)], ['HARRIS COUNTY', 'TEXAS AND', 'INCORPORATED  AREAS', 'PANEL 905 OF 1135', '(SEE MAP INDEX FOR PANELS NOT PRINTED}', 'CONTAINS:', 'COMMUNIY _ NumBER    PANEL   SUFFIX', 'GALFNA PARK CEOF 480293  0905', 'HARnis COUNT', 'NCCAPORAED 4aUX3   480287   0905', 'HOUSTON CT JE   480295   0905', 'PASADENA CEeopaei 480307   0905', 'La', 'MAP NUMBER', '48201c0905 ', 'Map REVISED;', 'NOVEMBER 6, 1996', 'Federal Emergency Management Agency'])\n",
      "Could not find key J for current tile from options ['L', 'M', 'N', 0], using closest date from all keys\n",
      "Using 1996-11-29 00:00:00 for tile date 1996-11-06 00:00:00\n",
      "Processing 48201C0295G--------------------------------------------------\n",
      "([datetime.datetime(1990, 9, 28, 0, 0)], ['HARRIS COUNTY', 'TEXAS AND', 'INCORPORATED AREAS', 'PANEL 295 OF 390', '(SEE MAP INDEXFoa PANELS NoT PRiNTED)', 'CONTANS:', 'COMMunitY 94 NUMBER   PANEL = SUFFLX', 'DEER PARK, CITy OF 22e87   480291   0295 6', 'KOUSTON, CITY OFAW> 480296   0295 G', 'IA POATE, CITY OF 485487   0295 [', 'PASADENA, CITY OF 480307   0295', 'UNINCORPORATED AAEAS 480287   0295 ', 'U', 'MAP NUMBER', '48201C0295 G', 'EFFECTHVE DATE:', 'SEPTEMBER 28 , 1990', 'Federal Emergency Management Agency'])\n",
      "Could not find key G for current tile from options [0, 'L', 'M'], using closest date from all keys\n",
      "Using 1996-11-29 00:00:00 for tile date 1990-09-28 00:00:00\n",
      "Processing 48201C0965J--------------------------------------------------\n",
      "([datetime.datetime(1996, 11, 6, 0, 0)], ['HARRIS COUNTY,', 'TEXAS AND', 'INCORPORATED AREAS', 'PANEL 965 OF 1135', '(SEE MAP INDEX FOR PANELS NOT PRINTED)', 'CONTAINS:', 'COMMUNTY _ WVBE PANEL   SUFFVX', 'Harris COUNTY', 'UNINCORPORATED AREAS  480287  {962', 'POATE, City O64 485487  0965', 'MORGANS PINT Cit: OF 480305  0965', 'MAP NUMBER', '48201C0965', 'MAP REVISED:', 'NOVEMBER 6, 1996', 'Federal Emergency Management Agency', 'U'])\n",
      "Could not find key J for current tile from options ['L', 'M'], using closest date from all keys\n",
      "Using 2013-10-16 00:00:00 for tile date 1996-11-06 00:00:00\n",
      "Using 2013-10-16 00:00:00 for tile date 1996-11-06 00:00:00\n",
      "CLOSEST DATE IN KEY IS TOO FAR (6188 days), using general instead (2013-10-16 00:00:00)\n",
      "Processing 48201C0135G--------------------------------------------------\n",
      "COULD NOT FIND BOUNDS, USING IMAGE EXTENTS 48201C0135G\n",
      "Couldn't find strict, now trying 482010135\n",
      "Could not find tile in detections 482010135\n",
      "Processing 48201C0375G--------------------------------------------------\n",
      "([datetime.datetime(1990, 9, 28, 0, 0)], ['HARRIS COUNTY', 'TEXAS AND', 'INCORPORATED AREAS', 'PANEL 375 OF 390', '(SEE MAP INDEX For PANELS Not PAINTED)', 'CoNTAINS:', 'COMMUNITY 02  NUMBEE   PANEL   SUFFIX', 'LAGO, CITy QF  \"al  485466   0375 6', 'LA PORTE, CiTy OF~~ 485487   0375', 'PASADENA, CTY OF 480307   0375', 'SHOREACRES, CITY OF 485510   0375', 'TAYLOR LAKE VILLAGE, City OF   485513   0375', 'UMNCORPORATED AREAS 480287   0375', 'V', 'MAP NUMBER', '48201C0375 G', 'EFFECTIVE DATE:', 'SEPTEMBER 28, 1990', 'Federal Emergency Management', '95456', 'Agency'])\n",
      "Could not find key G for current tile from options ['L'], using closest date from all keys\n",
      "Using 2013-10-16 00:00:00 for tile date 1990-09-28 00:00:00\n",
      "Using 2013-10-16 00:00:00 for tile date 1990-09-28 00:00:00\n",
      "CLOSEST DATE IN KEY IS TOO FAR (8419 days), using general instead (2013-10-16 00:00:00)\n",
      "Processing 48201C0065J--------------------------------------------------\n",
      "Could not find date in ['HARRIS COUNTY', 'TEXAS AND', 'INCORPORATED   AREAS', 'PANEL 65 OF 1135', '(SEE MAP INDEX FOR PENELS NOT PRINTED)', 'CONTAINS:', 'COMMUNIY _ NUMBER   PANEL   SUFFIX', 'HARRIS CcUNTY', 'UNINCORPORA EX AAEAS 48C281   CcG5', 'TOMBALL.Cy ( 486315  CGC5', 'Un', 'MAp NUMBER', '48201c0065', 'MAP REVISED:', 'NOVEMBER 6, 4996', 'Federal Emergency Management', 'Agency'], trying to use J\n",
      "Could not find tile extension in detections 48201C0065 - J, using default 0 from options dict_keys([0, 'L'])\n",
      "Processing 48201C0880K--------------------------------------------------\n",
      "([datetime.datetime(2002, 4, 20, 0, 0)], ['HARRIS COUNTY', 'TEXAS AND', 'INCORPORATED  AREAS', 'PANEL 880 OF 1135', '(SEE MAP INDEX FORERANELS NOT PRINTED)', 'CCNTAINS', 'COMMUNTY NUMBEE PANEL   SUFFI', 'HOLSTON Lt OF 480238  0380', '(O', 'MAP  NUMBER', '48201c0880 K', 'MAP REVISED:', 'APRIL 20, 2O00', 'Federal Emergency Management Agency'])\n",
      "Using 2000-04-20 00:00:00 for tile date 2002-04-20 00:00:00\n",
      "Processing 48201C0365G--------------------------------------------------\n"
     ]
    },
    {
     "name": "stderr",
     "output_type": "stream",
     "text": [
      "01/29/2025 18:41:15 - WARNING - rasterio._env -   CPLE_AppDefined in D:/RECTDNN/uncompress_2/48201C0290L.tif: _TIFFVSetField:D:/RECTDNN/uncompress_2/48201C0290L.tif: Null count for \"Tag 32934\" (type 4, writecount -3, passcount 1)\n"
     ]
    },
    {
     "name": "stdout",
     "output_type": "stream",
     "text": [
      "COULD NOT FIND BOUNDS, USING IMAGE EXTENTS 48201C0365G\n",
      "Couldn't find strict, now trying 482010365\n",
      "Could not find tile in detections 482010365\n",
      "Processing 48201C0290L--------------------------------------------------\n",
      "([datetime.datetime(2018, 6, 6, 20, 7)], ['Hfluuo CUUIY4 1,', 'TEXAS', 'AND INCORPORATED AREAS', 'PANEL 290 OF 1150', '(SEE   MAP   INDEX   FOR   FIRM   PANEL   LAYOUT)', 'CONTAINS:', 'COMMUNITY NUMBER _  PANEL _  SUFFX', '5', 'HAONISCCOIFORATED AREAS 480287  0290', 'HOUSTON, CITY OF 480296 020', 'Hu', 'WD', 'Jd', 'M', 'Notice to User: The Map Number shown below should be used', '#UIIII |   aere shacing bmarsaordorsnsthencGommuation sNtombhe   shiern', 'above should be usod on insuranc8 applications for the subject', 'community:', 'MAP NUMBER', '48201C0290L', 'MAP REVISED:', 'aND St6Y JUNE 18, 2007', 'Federal Emergency Management Agency', 'DEPARTA '])\n",
      "Could not find key L for current tile from options ['M', 'N', 'G', 'H'], using closest date from all keys\n",
      "Using 2019-05-02 00:00:00 for tile date 2018-06-06 20:07:00\n",
      "Processing 48201C0095G--------------------------------------------------\n",
      "Couldn't find strict, now trying 482010095\n",
      "Could not find tile in detections 482010095\n",
      "Processing 48201C0605J--------------------------------------------------\n",
      "([datetime.datetime(1996, 11, 6, 0, 0)], ['1\"adid  419dd0444 d 0e', 'HARRIS COUNTY,', 'TEXAS AND', 'INCORPORATED   AREAS', 'PANEL 605 OF 1135', \"{SEE MAP INDEX FOR' PANELS NOT PRINTEC;\", 'CONIANS:', 'COMMUNTY_ NUMBER   PANEL   SUFFI', 'HARRIS COUM', 'UNINCCARARATED AREAS   48028}   0605', 'HOUSTOMCIG9  480236  CG05', '(a', 'Map NUMBER', '48201C0605', 'Map REVISED:', 'NOVEMBER  6,1996', 'Federal Emergency Management Agency'])\n",
      "Could not find key J for current tile from options [0, 'L'], using closest date from all keys\n",
      "Using 1996-11-29 00:00:00 for tile date 1996-11-06 00:00:00\n",
      "Processing 48201C0745K--------------------------------------------------\n",
      "([datetime.datetime(2000, 4, 20, 0, 0)], ['HARRIS  COUNTY', 'TEXAS AND', 'INCORPORATEDAREAS', 'PANEL 745 OF 1135', '{SEE VAP INDEX FOR PANELS NOT PRWNTED)', 'CONTANS', 'COMMUNITYUMBZR   PANEL   SUFFIX', 'BaYTownG 8F. 185456 045', 'HARRIS COJNE', 'UNINCOAPORATEC AAEAS 4028}  {746', 'HiOUSTON, (Y OF 480296  0746', '0', 'MAP  NUMBER', '48201C0745 K', 'Map REVISED;', 'APRIL 20, 2000', 'Federal Emergency Management Agency'])\n",
      "Using 2000-04-20 00:00:00 for tile date 2000-04-20 00:00:00\n",
      "Processing 48201C1065K--------------------------------------------------\n",
      "Could not find date in ['HARRIS COUNTY,', 'TEXAS AND', 'INCORPORATED   AREAS', 'PANEL 1065 OF 1135', '(SEE MAP INDEX FOR PANELS NoT PRINTEDi', 'CQNIAINS:', 'COMMUNiTY_ NUMSER   PANFL   SUFFIX', 'HARRIS COUNTY.', \"UNINCORPORATED ARERS  480287  '0g5\", 'PEARLAND  CIiof 480077 1065', '0', 'MAP NUMBER', '48201C1065 K', 'Map REVISED:', 'Jo', 'APRIL 20, 2000', 'Federal Emergency Management Agency'], trying to use K\n",
      "Processing 48201C0240J--------------------------------------------------\n",
      "([datetime.datetime(1996, 11, 29, 0, 0)], ['HARRIS COUNTY', 'TEXAS AND', 'INCORPORATED   AREAS', 'PANEL 240 OF 1135', '(SEE MAP INDEX FOP PANELS NCT PRINTED}', 'ONIAWS', 'COMMUNITY NUMEER   PANEL   SUFFIX', 'HARRIS CoUI', 'UNICOAPORSTED AREAS   480237   024c', 'HOUSTON, & QF 480286  6240', 'U', 'MAp  NUMBER', '48201C0240 )', 'MAP REVISED;', 'NOVEMBER &,1996', 'ederal', 'Emergency Maragement', 'Agency'])\n",
      "Could not find key J for current tile from options [0, 'L', 'M'], using closest date from all keys\n",
      "Using 1996-11-29 00:00:00 for tile date 1996-11-29 00:00:00\n",
      "Processing 48201C0685J--------------------------------------------------\n",
      "Could not find date in ['HARRIS COUNTY', 'TEXAS AND', 'INCORPORATED   AREAS', 'PANEL 685 OF  1135', 'SEE MAP INDEX FOR PANJELS NoT PRNTED)', 'QNANS', 'COMMUNTY NUMBER   PANEL   SUFFIX', 'MaraS GOl', 'UNNCORPETD ^EnS 437787  2665', 'HCUS ON @T OF 4802C1;  06c5', 'V', 'MAP NUMBER', '48201c0685', 'MAp REVISED:', '29048\\'45\"', 'NOVEMBER 6, 1996', \"5'00'\", 'Federal', 'Emergency Management Agency', 'For'], trying to use J\n",
      "Could not find tile extension in detections 48201C0685 - J, using default 0 from options dict_keys([0, 'L'])\n",
      "Processing 48201C1060K--------------------------------------------------\n",
      "([datetime.datetime(2000, 4, 20, 0, 0)], ['HARRIS COUNTY', 'TEXAS AND', 'INCORPORATED  AREAS', 'PANEL 1060 OF 1135', '{SEE MAP INDEX FOR PANELS NOT PRINTED}', 'CONTAINS:', 'OMMUNITY _~NUBER   PAVEL   SUFFX', 'FARRI COUNTY', 'JNINCORPORRAIEO ARXLAS  180787   1ec', '{QuSOnCap 4801296  1oGC', '0n', 'MAP  NUMBER', '48201C1060 K', 'Map REVISED:', 'APRIL 20, 2000', 'ederal', 'Emergency Management Agency'])\n",
      "Using 2000-04-20 00:00:00 for tile date 2000-04-20 00:00:00\n",
      "Processing 48201C0320G--------------------------------------------------\n",
      "([datetime.datetime(1990, 9, 28, 0, 0)], ['HARRIS COUNTY', 'TEXAS AND', 'INCORPORATED AREAS', 'PANEL 320 OF 390', '(SEE MAP INDEX FOR PANELS NOT PRINTED)', 'CONTAINS:', 'COMRAUNITY 0 Nukerd   PANEL / SUFFIX', 'BELLAIRE, CITY OF Gon  480289   0320', 'HCUSTON, CITY OF~480296   0320 6', '(', 'MaP NUMBER', '48201C0320 &', 'EFFECTIVE DATE:', 'SEPTEMBER 28 , 1990', 'Federal Emergency Management Agency'])\n",
      "Using 1992-09-30 00:00:00 for tile date 1990-09-28 00:00:00\n",
      "Processing 48201C0985J--------------------------------------------------\n",
      "([datetime.datetime(1996, 11, 6, 0, 0)], ['HARRIS COUNTY,', 'TEXAS AND', 'INCORPORATED   AREAS', 'PANEL 985 OF 1135', '(SEE MAP INDEX TOR PANELS NOT PRINTED}', 'CONTAINS', 'COMMUNITY _ NUMBER   FANEL   SUFFIX', 'HOUSICN, CKECF 480296 U985', 'Un', 'Map  NUMBER', '48201c0985', 'Map REVISED:', 'NOVEMBER  6, 1996', 'Federal Emergency Management Agency'])\n",
      "Could not find key J for current tile from options [0, 'L', 'M'], using closest date from all keys\n",
      "Using 1996-11-29 00:00:00 for tile date 1996-11-06 00:00:00\n",
      "Processing 48201C0220J--------------------------------------------------\n",
      "([datetime.datetime(1996, 11, 6, 0, 0)], ['Luye Mi4yyiiyJi M#en Wuni', 'HARRIS  COUNTY', 'TEXAS AND', 'INCORPORATED  AREAS', 'PANEL 220 OF 1135', '(SEE MAP INDEX TOR PANGLS NOT PRINTED)', 'CONTAINS:', 'CCMMUNTY_ NUMBER  PANEL   SUFFIX', 'PAnAIS Col', 'JNINCORPCRCTED AREAS   480237   02z0', 'KCUSTON, @6.9e  480298   022)', '(a', 'MAP  NUMBER', '48201C0220 ]', 'Map REVISED:', 'NOVEMBER  6, 1996', 'Federal Emergency Management Agency'])\n",
      "Using 1996-11-29 00:00:00 for tile date 1996-11-06 00:00:00\n",
      "Processing 48201C0420N--------------------------------------------------\n",
      "Could not find date in ['TEXAS', 'AND INCORPORATED AREAS', 'PANEL 420 OF 1150', '(SEE MAP INDEX FOR FIRM PANEL LAYOUT)', 'CONTAINS:', 'CQMMUNIITY NUMBER   PANEL   SUFEEIX', 'HARRIS COUNTY , 480287 0420 N', 'UNINCORPORATED AREAS', 'HOUSTON, CITY OF 480296 0420 N', 'Notice to User: The Map Number shown below should be used', 'when', 'placing   map   orders; the Community Number  shown', 'bove should be used on insurance applications for the subject', 'community_', 'MAP NUMBER', '48201C042ON', 'MAP REVISED', '', 'JUNE 9, 2014', 'Federal Emergency Management Agency'], trying to use N\n",
      "Processing 48201C0275H--------------------------------------------------\n",
      "COULD NOT FIND BOUNDS, USING IMAGE EXTENTS 48201C0275H\n",
      "([datetime.datetime(1992, 9, 30, 0, 0)], ['KaaWlN', 'HARRIS COUNTY', 'TEXAS AND', 'INCORPORATED AREAS', 'PANEL 275 DF 390', '{SEE MAP IND', 'EX ForPANELS NOT PRINTED}', 'COHTAEHS:', 'City of Houston   hK v iWhHH cowxuwix   _ Wele  Bancl > swew', \"480296/  &WHHHH  HOUSICN CY j' ~eanaen 04iz9a  0275\", 'hunt RS CRFEK M.AGE [MY a;  40l288   C27]', 'PI\"ET FWINT LirEE; LITY 0;  4Bnacr 86', '9', 'Po', '2', '42,', 'Wnke ouler', 'ThemA? NUIABERshowbelov shoulLe used', 'wran Dlacing man prdets; %e COMMUNNY NUMDER shot.n', \"Ahove shoulootSE4 on insurance applieetious for I;1c' subjcet\", '~hmaamenat', 'DE  LCES', 'DRIVE', 'Map NUMBER', 'ZONEX', 'NCsPiTAL', '4820180275 N', 'IMiT DF', 'DETAILED STUDY', 'ZONE', 'Map REVISED;', 'ZONEXLeecrcaoAA YV67a ` SEPTEMBER 30, 1992', 'ZQNe', 'ederal Emergency Managenient Agency', '0', 'LMVE', 'EADER', 'ICbia'])\n",
      "Using 1992-09-30 00:00:00 for tile date 1992-09-30 00:00:00\n"
     ]
    },
    {
     "name": "stderr",
     "output_type": "stream",
     "text": [
      "01/29/2025 18:42:10 - WARNING - rasterio._env -   CPLE_AppDefined in D:/RECTDNN/uncompress_2/48201C0415L.tif: _TIFFVSetField:D:/RECTDNN/uncompress_2/48201C0415L.tif: Null count for \"Tag 32934\" (type 4, writecount -3, passcount 1)\n"
     ]
    },
    {
     "name": "stdout",
     "output_type": "stream",
     "text": [
      "Processing 48201C0415L--------------------------------------------------\n",
      "Could not find date in ['TEXAS', 'AND INCORPORATED AREAS', 'PANEL 415 OF 1150', '{SEE   MAP   INDEX   FOR   FIRM   PANEL   LAYOUT}', 'WL', 'CONTAINS ', 'COMMUNITY NUMBER > PANEL _= SUFEX', '8', 'HAONISCCOPORATED AREAS  480287   0415', 'WD', 'HLLNI', 'WD', 'Natice to User: Tha Map Mumber shown bolow should be used', 'when   placing   map   orders;   the  Community   Number   shown', 'above should be used on insurance applications for the subject', 'community:', 'MAP NUMBER', '48201C0415L', 'MAP REVISED:', 'AND', 'JUNE 18 , 2007', 'Federal Emergency Management Agency', 'Map', 'OEPARTM', 'SECUL'], trying to use L\n",
      "Processing 48201C0380J--------------------------------------------------\n",
      "([datetime.datetime(1996, 11, 6, 0, 0)], ['HARRIS COUNTY,', 'TEXAS AND', 'INCORPORATED   AREAS', 'PANEL 380 OF 1135', '(SEE MAP INDEX FOR PANELS NoT PRINTEC}', 'CONTANS', 'CCMMUNITY _NJMBER   PANEL   SUFFiX', 'HARRIS COUC', 'UXNCORPORRTED AREXS   48028}   8380', 'Ln', 'MAP NUMBER', '48201C0380', 'MAP REVISED:', 'NOVEMBER  6, 1996', 'ederal Emergency Management', 'Agency'])\n",
      "Using 1996-11-29 00:00:00 for tile date 1996-11-06 00:00:00\n",
      "Processing 48201C0410J--------------------------------------------------\n",
      "([datetime.datetime(1996, 11, 6, 0, 0)], ['HARRIS COUNTY', 'TEXAS AND', 'INCORPORATED  AREAS', 'PANEL 410 OF 1135', '(SEE MAP INDEX FOR FANELS NOT PRINTED}', 'CONIANS', 'COMMUNTY NCMBER   PANEL   SUFFIX', 'HARRIS COUNTY', \"UNINCORPORATED' APEAS  480237  Of1u\", 'HOUSTCN, Cly OR 280296  ce10', 'Un', 'Map  NUMBER', '48201c0410', 'MAP REVISED:', 'NOVEMBER 6, 1996', 'Federal Emergency Management Agency'])\n",
      "Could not find key J for current tile from options [0, 'L', 'M'], using closest date from all keys\n",
      "Using 1996-11-29 00:00:00 for tile date 1996-11-06 00:00:00\n",
      "Processing 48201C0360G--------------------------------------------------\n",
      "([datetime.datetime(1990, 9, 28, 0, 0)], ['HARRIS COUNTY', 'TEXAS AND', 'INCORPORATED AREAS', 'PANEL 360 OF 390', '{SEE MAP', 'INDEX Foa PANELS NOT PRINTED}', 'CONTAINS:', 'ComMuniy (2  NUMBCR   PANEL = SUFFLX', 'hquston, city 0f `4069n.430296   0360 . g', 'UMINCORPORATED AREAS `*4 > 480287   0360', 'U', 'MaP NUMBER', '48201C0360 G', 'EFFECTIVE DATE:', 'SEPTEMBER 28 , 1990', 'Federal Emergency Management Agency'])\n",
      "Using 1992-09-30 00:00:00 for tile date 1990-09-28 00:00:00\n",
      "Processing 48201C0210J--------------------------------------------------\n",
      "([datetime.datetime(1996, 11, 6, 0, 0)], ['HARRIS COUNTY', 'TEXAS AND', 'INCORPORATED   AREAS', 'PANEL 210 OF 1135', '(SEF MAP INDEX FOR PANELS NOT PRINTED)', 'CONTANS:', 'COMMUNTY MMBER   PANEL   SUFFiX', 'HarRIS colj', 'UNINCCRRERATED AREAS 480237  0zi0', 'TCMBAlAtX0F 480315  020', 'In', 'MAP NUMBER', '48201C0210 )', 'MAP REVISED:', 'NOVEMBER 6, 1996', 'Federal Emergency Management Agency'])\n",
      "Using 1996-11-29 00:00:00 for tile date 1996-11-06 00:00:00\n",
      "Processing 48201C0835K--------------------------------------------------\n",
      "([datetime.datetime(2000, 4, 20, 0, 0)], ['Tnd dednny99 #ed|', 'HARRIS COUNTY', 'TEXAS AND', 'INCORPORATED   AREAS', 'PANEL 835 0F 1135 ', '{SEE MAP INDEX GOR EANELS NOT PRINTED}', 'CCNTAINS', 'CONMUNITY _ NUMBER   FANEL   SUFFIX', 'NOUSTC #7 OF 480296   c835', 'PNEY PCINT MLLAGE,CTY Of   480308   6835', '67', 'MAp  NUMBER', '48201C0835 K', 'MAP REVISED:', 'APRIL 20, 2000', 'Federal Emergency Management Agency'])\n",
      "Using 2000-04-20 00:00:00 for tile date 2000-04-20 00:00:00\n"
     ]
    },
    {
     "name": "stderr",
     "output_type": "stream",
     "text": [
      "01/29/2025 18:42:31 - WARNING - rasterio._env -   CPLE_AppDefined in D:/RECTDNN/uncompress_2/48201C1070L.tif: _TIFFVSetField:D:/RECTDNN/uncompress_2/48201C1070L.tif: Null count for \"Tag 32934\" (type 4, writecount -3, passcount 1)\n"
     ]
    },
    {
     "name": "stdout",
     "output_type": "stream",
     "text": [
      "Processing 48201C1070L--------------------------------------------------\n",
      "([datetime.datetime(2007, 6, 18, 0, 0)], ['14uuo CUUI1 1 ,', 'TEXAS', 'AND INCORPORATED AREAS', 'KLlN pANEL 1070 OF 1150', '(SEE   MAP   INDEX   FOR   FIRM   PANEL   LAYOUT)', 'CONTAINS; _', 'CQMMUNITY NUMBER _> PANEL _  SUEF', '7', 'HAONISCCOIPORATED AREAS} 480287 } 1070', 'WEBSTER CITY OF 485516 1070', 'HOUSTON, CITY OF 480286 1070', 'IL', 'JD', '4D', 'LLL', 'Notica t0 User: The Map Number shown bolow should be used', 'when   placing   map  orders;   the  Community   Mumber   shown', 'above should be Used on insurance applications for the subject', 'community-', 'MAP NUMBER', '48201C1070L', 'MAP REVISED:', 'JUNE 18, 2007', 'Federal Emergency Management Agency', 'SECUR', 'AND'])\n",
      "Using 2015-05-04 00:00:00 for tile date 2007-06-18 00:00:00\n",
      "Processing 48201C0960M--------------------------------------------------\n",
      "([datetime.datetime(2015, 5, 4, 0, 0)], ['HARRIS COUNTY', 'TEXAS', 'AND INCORPORATED AREAS', 'PANEL 960 OF 1150', '(SEE MAP INDEX FOR FIRM PANEL LAYOUT)', 'CONTAINS:', 'COMMUNITY NUMBER   PANEL   SUFFIX', 'BAYTOWN, CITY OF 485456  0960 M', 'HARRIS COUNTY 480287  j96u m', 'Notice t0 User:   The Map Number shown below should be', 'used  when placing  map orders; the Community Number', 'shown above should be used 0n insurance applications for the', 'subject community', 'MAP NUMBER', '48201CO960M', 'MAP REVISED', 'MAY 4,2015', 'Federal Emergency Management Agcncy', 'Map', 'EPA', 'DC', '4'])\n",
      "Using 2015-05-04 00:00:00 for tile date 2015-05-04 00:00:00\n",
      "Processing 48201C0260J--------------------------------------------------\n",
      "([datetime.datetime(1996, 11, 6, 0, 0)], ['Aeede  044 ea #ovntu', 'HARRIS COUNTY', 'TEXAS AND', 'INCORPORATED AREAS', 'PANEL 260 OF 1135', '{SEE MAP INDEX FOR; PANELS NOT PRINTED)', 'CONTANS:', 'COMMUNTY _. NUMBER   PANEL   SUFFIX', 'HARRIS CO', 'UNINCOR PGRATED ARFAS 480287  0xfu', 'V)', 'MAP  NUMBER', '48201C0260', 'Map REVISED:', 'NOVEMBER 6, 1996', 'Federal Emergency Management Agency'])\n",
      "Using 2000-04-20 00:00:00 for tile date 1996-11-06 00:00:00\n",
      "Processing 48201C0940J--------------------------------------------------\n",
      "([datetime.datetime(1996, 11, 6, 0, 0)], ['HARRIS COUNTY', 'TEXAS AND', 'INCORPORATED AREAS', 'PANEL 940 OF 1135', '(SEE MAP INDEX FOR PANELS NOT PRINTED)', 'CONTAINS:_', 'COMMUNITY', 'NUMBER   PANEL   SUFFIX', 'DEER PARKACITY OF 480231  0940', 'HARRIS COUNTY,', 'UNINCORRCRATED AREAS  480287 0240', 'HOUSTON CiT Opn  430298   Deao', 'PORTE CITY @Roeea  485487   0940', \"PASADERA'CITY CF30 4u3u}  0240\", 'V', 'MAP  NUMBER', '48201C0940 ]', 'MAp REVISED:', 'NOVEMBER 6,1996', 'Federal Emergency Managcment Agency'])\n",
      "Could not find key J for current tile from options [0, 'L', 'M'], using closest date from all keys\n",
      "Using 1996-11-29 00:00:00 for tile date 1996-11-06 00:00:00\n"
     ]
    },
    {
     "name": "stderr",
     "output_type": "stream",
     "text": [
      "01/29/2025 18:42:47 - WARNING - rasterio._env -   CPLE_AppDefined in D:/RECTDNN/uncompress_2/48201C1060L.tif: _TIFFVSetField:D:/RECTDNN/uncompress_2/48201C1060L.tif: Null count for \"Tag 32934\" (type 4, writecount -3, passcount 1)\n"
     ]
    },
    {
     "name": "stdout",
     "output_type": "stream",
     "text": [
      "Processing 48201C1060L--------------------------------------------------\n",
      "([datetime.datetime(2007, 6, 18, 0, 0)], ['TEXAS', 'AND INCORPORATED AREAS', 'PANEL 1060 OF 1150', '(SEE   MAP   INDEX   FOR   FIRM   PANEL  LAYOUT)', 'CONTAINS:', '\"', 'COMMUNTY NUMBER > PANEL _> SUFFIX', 'HOUSTON, CITYOF 480296 1060', 'WULL', 'QD', 'Notico t0 User: The Map Number shown bolow should be usad', 'when   placing   map  orders;   the  Comnunity   Number   shown', 'above should bo used on insuranca  applications for the subject', 'community.', 'MAP NUMBER', '48201C1060L', 'MAP REVISED:', 'JUNE 18, 2007', 'Federal Emergency Management Agency', 'EPART}', 'SECU', \"'AND\"])\n",
      "Using 2013-10-16 00:00:00 for tile date 2007-06-18 00:00:00\n"
     ]
    },
    {
     "name": "stderr",
     "output_type": "stream",
     "text": [
      "01/29/2025 18:42:51 - WARNING - rasterio._env -   CPLE_AppDefined in D:/RECTDNN/uncompress_2/48201C0985L.tif: _TIFFVSetField:D:/RECTDNN/uncompress_2/48201C0985L.tif: Null count for \"Tag 32934\" (type 4, writecount -3, passcount 1)\n"
     ]
    },
    {
     "name": "stdout",
     "output_type": "stream",
     "text": [
      "Processing 48201C0985L--------------------------------------------------\n",
      "Could not find date in ['Lae', 'TEXAS', 'AND NNCORPORATED AREAS', 'PANEL 985 OF 1150', '(SEE   MAP   INDEX   FOR   FIRM   PANEL  LAYOUT)', 'CONTAINS; _', 'COMMUNITY _ NUMBER > PANEL _= SVFFX', 'S', 'MISSQURI CITY, CITY OF 480304 0985', 'HOUSTCN, CITY OF 480296 0885', 'Notice t0 User; The Map Numnber shown bolow should be used', 'when   placing   map  ordars;  the  Community   Number   shown', 'above should be used on insuranca  applications for the subjoct', 'community', 'MAP NUMBER', '48201C0985L', 'MAP REVISED:', 'AND', 'JUNE 18 , 2007', 'Federal Emergency Management Agency', 'DEPAE', 'SECU'], trying to use L\n",
      "Processing 48201C0945J--------------------------------------------------\n",
      "Could not find date in ['HARRIS COUNTY', 'TEXAS AND', 'INCORPORATED   AREAS', 'PANEL 945 UF 1135', '(SEE MAP INDEX Fon PANELS NOT PRINTED)', 'CONTAINS', 'COMMUNIY NUMBER   PANEL   SUFFIX', 'KARRIS CC:', 'UNINCCRCORATED AREAS   480287   0945', 'LA PORTLSIXGf 485487  09a5', 'MORGANS PONNTCI OF   480305  0945', 'PASADENK&Tr CRRCOO 480307  6945', '0', 'MAp NUMBER', '48201C0945', 'Map REVISED:', 'NOVEMBER  6, 7996', 'Federal Emergency Management Agency'], trying to use J\n",
      "Could not find tile extension in detections 48201C0945 - J, using default L from options dict_keys(['L', 'M', 0])\n",
      "Processing 48201C0510J--------------------------------------------------\n",
      "([datetime.datetime(1996, 11, 6, 0, 0)], ['HARRIS COUNTY,', 'TEXAS AND', 'INCORPORATED   AREAS', 'PANEL 510 OF 1135', '(SEE MAP INDEX FOR  PANELS NOT PRINTED)', 'CONTAIS:', 'COMIUNTY MMBER   PANEL   SUFCIX', 'HARRiS COUNTY,', \"UMINCOFPORATERCARLS  480237  65'j\", 'HOUSTON;Cily G 480290  550', 'Ua', 'Map NUMBER', '48201C0510', 'MAP REVISED:', 'NOVEMBER 6, 1996', 'Federal Emergency Management Agency'])\n",
      "Using 1996-11-29 00:00:00 for tile date 1996-11-06 00:00:00\n",
      "Processing 48201C0265H--------------------------------------------------\n",
      "([datetime.datetime(1992, 9, 30, 0, 0)], ['HARRIS COUNTY', 'TEXAS AND', 'INCORPORATED AREAS', 'PANEL 265 OF 390', '(SEE MAP index FOR PANELS Not PRiNTED}', 'COHTAINS:', 'coMkunity 01 NUMbeR   PAXEL ` SUFFIX', 'HOUSTCN; CITY Of /e  480246   0265` m', 'UNINCOAPORATED ARE43  2 2 \"48u287   0265 H', 'WVILLOW FORK DRAINAGE  ~ 481603  0265 H', 'UISTRICT', 'Notice To UJser: The MAP NUMIBER shown below should beused', 'when placing map orders; the COMMUNITY NUMBER shown', 'above should be used on insurance applications for the subject', 'community', 'MAp NUMBER', '6n', '48201CC265 H', 'MAP REVISED:', 'SEPTEMBER 30, 1992', 'Federal Emergency Management Agency', 'ARLAS'])\n",
      "Could not find key H for current tile from options [0, 'L', 'M', 'G'], using closest date from all keys\n",
      "Using 1992-09-30 00:00:00 for tile date 1992-09-30 00:00:00\n",
      "Processing 48201C0585J--------------------------------------------------\n",
      "([datetime.datetime(1996, 11, 6, 0, 0)], ['HARRIS  COUNTY', 'TEXAS AND', 'INCORPORATED AREAS', 'PANEL 585 OF 1135', '(SEE MAP INDFX FOR PANEL S NOT PRINTED)', 'CONTAINS:', 'COMMUNTY_UMBER   PANEL   SUFFIX', 'HARRIS COUNTY_', 'UNICORPORATEDC AREAS  480287   0585', 'HOUSTON,GwY OR} 480296  0585', 'U', 'MAP  NUMBER', '48201C0585', 'Map   REVISED:', 'NOVEMBER 6, 1996', 'Federal Emergency Management Agency'])\n",
      "Using 2000-04-20 00:00:00 for tile date 1996-11-06 00:00:00\n",
      "Processing 48201C0690M--------------------------------------------------\n",
      "([datetime.datetime(2014, 6, 9, 0, 0)], ['TEXAS', 'AND INCORPORATED AREAS', 'PANEL 690 OF 1150', '(SEE MAP INDEX FOR FIRM PANEL LAYOUT)', 'CONTAINS:', 'CQMMUNIIY NUMBER   PANEL   SUEEIX', 'HOUSTON, CITY QF 480296 0690 M', 'Notice to User: The Map Number shown below should be used', 'when   placing   map   orders; the Community Number   shown', 'above should be used on insurance', 'applications for the subject', 'community.', 'MAP NUMBER', '48201CO690M', 'ND', 'MAP REVISED', 'JUNE 9, 2014', 'Federal Emergency Management Agency', 'cing'])\n",
      "Using 2015-05-04 00:00:00 for tile date 2014-06-09 00:00:00\n",
      "Processing 48201C0920J--------------------------------------------------\n",
      "([datetime.datetime(1996, 11, 6, 0, 0)], ['HARRIS  COUNTY', 'TEXAS AND', 'INCORPORATED   AREAS', 'PANEL 920 OF 1135', '{SEE MAP INDEX FOR PANELS NCT PRINTED)', 'CONTAINS:', 'COMMUNITY _NUMBER  PANEL   SUFFIX', 'DEER PaakuY 0R 450291 0C20', 'HOUSTO\"Giy OF k 480296  Cz0', 'FASEDENA CTY UET 480307  0920', 'Un', 'MAP   NUMBER', '48201C0920 ]', 'MaP REVISED:', 'NOVEMBER 6, 1996', 'Federal Emergercy Management Agency'])\n",
      "Could not find key J for current tile from options [0, 'L', 'M'], using closest date from all keys\n",
      "Using 1996-11-29 00:00:00 for tile date 1996-11-06 00:00:00\n",
      "Processing 48201C0085H--------------------------------------------------\n",
      "Couldn't find strict, now trying 482010085\n",
      "Could not find tile in detections 482010085\n",
      "Processing 48201C0165G--------------------------------------------------\n",
      "Couldn't find strict, now trying 482010165\n",
      "Could not find tile in detections 482010165\n",
      "Processing 48201C0180J--------------------------------------------------\n",
      "([datetime.datetime(1996, 11, 6, 0, 0)], ['6aoddnntadce', 'HARRIS CQUNTY', 'TEXAS AND', 'INCORPORATED  AREAS', 'PANEL 180 OF 1135', '{SFE MAP INDEX FoR PANECS NOT PRINTED}', 'CONTAIVS:', 'COMMUNY_ NUMBER   PANEL   SUFFIX', 'NARIS COUe', 'UNINCORPORCTED ArLAS 480287  *80', 'HOUSTON GUOFEA 480296  \"80', 'U', 'MAP NUMBER', '48201c0180 )', 'Map REVISED:', 'NOVEMBER 6, 1996', 'Federal Emergency Management Agency'])\n",
      "Using 1996-11-29 00:00:00 for tile date 1996-11-06 00:00:00\n",
      "Processing 48201C0555J--------------------------------------------------\n",
      "([datetime.datetime(1996, 11, 6, 0, 0)], ['HARRIS COUNTY', 'TEXAS AND', 'INCORPORATED   AREAS', 'PANEL 555 OF 1135', '{SEE MAP INDEX FOB PANELS NOT PRINTED}', 'CONTAINS', 'COMMUNTY _\"BER   PANEI   SUFFIX', 'HARRIS CJUNTY', \"UNINCCRPORATER' AREAS .  480281.  C555\", '0)', 'Map NUMBER', '48201C0555 j', 'MAP REVISED:', 'NOVEMBER  6, 1996', 'Federal Emergency Management Agency'])\n",
      "Could not find key J for current tile from options [0, 'L'], using closest date from all keys\n",
      "Using 1996-11-29 00:00:00 for tile date 1996-11-06 00:00:00\n",
      "Processing 48201C0960J--------------------------------------------------\n",
      "([datetime.datetime(1996, 11, 6, 0, 0)], ['HARRIS COUNTY', 'TEXAS AND', 'INCORPORATED   AREAS', 'PAnEL 960 OF 1135', '(SEE MAP INDEX FOR PANELS NOT PRINTED}', 'CONTAINS:', 'COMMUNTYNUMBER   PANEL   SUFFIX', 'BAXOWN CKJ 0f 4854E6  0962', 'HARRIS cOl', 'UNINCORPORATED AREAS 480287  0960', '0n', 'MAP NUMBER', '48201C0960', 'MAP REVISED:', 'NOVEMBER 6, 1996', 'Federal Emergency Management Agency'])\n",
      "Could not find key J for current tile from options ['L', 'M', 'N', 0], using closest date from all keys\n",
      "Using 1996-11-29 00:00:00 for tile date 1996-11-06 00:00:00\n"
     ]
    },
    {
     "name": "stderr",
     "output_type": "stream",
     "text": [
      "01/29/2025 18:43:42 - WARNING - rasterio._env -   CPLE_AppDefined in D:/RECTDNN/uncompress_2/48201C0390L.tif: _TIFFVSetField:D:/RECTDNN/uncompress_2/48201C0390L.tif: Null count for \"Tag 32934\" (type 4, writecount -3, passcount 1)\n"
     ]
    },
    {
     "name": "stdout",
     "output_type": "stream",
     "text": [
      "Processing 48201C0390L--------------------------------------------------\n",
      "Could not find date in ['TEXAS', 'AND INCORPORATED AREAS', 'PANEL 390 OF 1150', '(SEE   MAP   INDEX   FOR   FIRM   PANEL  LAYOUT)', 'CONTAINS', 'COMMUNITY NUMBER > PANEL _> SUFEX', '1', 'HARRINCCOPORVATED AREAS 480287 } 0390', 'M', 'LD', 'Notice to Usor: Tha Map Number shown below should be Usod', 'when   placing   map  orders;   the  Community   Number   shown', 'above should b0 usod on insurance applications for the subject', 'community-', 'MAP NUMBER', '48201C0390L', 'MAP REVISED:', 'TEIT', 'AND', 'JUNE 18, 2007', 'Federal Emergency Managerent Agency', 'KQEPARTM', 'SEC '], trying to use L\n",
      "Processing 48201C0140G--------------------------------------------------\n",
      "([datetime.datetime(1990, 9, 28, 0, 0)], ['HARRIS COUNTY', 'TEXAS AND', 'INCORPORATED AREAS', 'PANEL 140 OF 390', '(SEE MAP INDEXFOR PANELS Not PRiNTED}', 'CINTAINS:', 'COMMUNITY 0* WWEBER   PANEL   SUFEVX', 'HOuSTGn MTY Oreiaee  020296   Di4u 6', 'tniscorporatfo ArEas*430287   0140 (', '(n', 'MAP NUMBER', '48201C0140 G', 'EFFECTHVE DATE:', 'SEPTEMBER 28, 1990', 'Federal Erergency Management Agency'])\n",
      "Could not find key G for current tile from options [0, 'L'], using closest date from all keys\n",
      "Using 1996-11-29 00:00:00 for tile date 1990-09-28 00:00:00\n"
     ]
    },
    {
     "name": "stderr",
     "output_type": "stream",
     "text": [
      "01/29/2025 18:43:53 - WARNING - rasterio._env -   CPLE_AppDefined in D:/RECTDNN/uncompress_2/48201CSTD2.tif: TIFFFetchNormalTag:ASCII value for tag \"ImageDescription\" contains null byte in value; value incorrectly truncated during reading due to implementation limitations\n"
     ]
    },
    {
     "name": "stdout",
     "output_type": "stream",
     "text": [
      "Processing 48201CSTD2--------------------------------------------------\n",
      "COULD NOT FIND BOUNDS, USING IMAGE EXTENTS 48201CSTD2\n",
      "Couldn't find strict, now trying 482012\n",
      "Could not find tile in detections 482012\n",
      "Processing 48201C0655K--------------------------------------------------\n",
      "([datetime.datetime(2000, 4, 20, 0, 0)], ['HARRIS  COUNTY', 'TEXAS AND', 'INCORPORATED   AREAS', 'PANEL 655 OF 1135', '{SEE MAP NDEX FOH #JANELS NOT PRINTED}', 'CQVTAAS:', 'COMMUNTY NUMBER   PANEL   SUFFIX', 'HOUSTON @yoL 480296  1555', 'Ua', 'Map  NUMBER', '48201C0655 K', 'Map REVISED:', 'APRIL 20, 2000', 'Federal Emergency Management Agency', 'V'])\n",
      "Using 2000-04-20 00:00:00 for tile date 2000-04-20 00:00:00\n",
      "Processing 48201C0290H--------------------------------------------------\n",
      "([datetime.datetime(1992, 9, 30, 0, 0)], ['HARRIS COUNTY', 'TEXAS AND', 'INCORPORATED AREAS', 'PANEL 290 OF 390', 'ISEE MAP INDEX FOR PANELS NOT PRINTED)', 'CONTAINS:', 'Comhaunity 4 NUMBER   PANEL   SUFFUX', 'GALENA PAAK, CTY UF E4e 480293   0290 H', 'hOUSTON Clty Qr~# 480296  . 0230 H', 'JACNTOCity ChyOF 480299   0290 h', 'PASADENA, CITY OF 480307   0290 +', 'umncORPORA ED ARERS  480287   0250 . 4', 'Notice To User; The MAP NUMBER shown} belew', 'sheuldbe used wvher Placing map orrers; the COMMU-', 'NITaMuiBer showr above should be used on insul-', 'ant', 'applicatione fcr the subject corrmunity', 'MAP NUMBER', '48201C0290 H', 'MAP REVISED:', 'SEPTEMBER 30, 1992', 'Federal Emergency Manageraent', 'The', 'Agency'])\n",
      "Using 1992-09-30 00:00:00 for tile date 1992-09-30 00:00:00\n",
      "Processing 48201C0695J--------------------------------------------------\n",
      "([datetime.datetime(1996, 11, 6, 0, 0)], ['Epo9  404eeral 9t  \"ie  Mnb', 'HARRIS COUNTY,', 'TEXAS AND', 'INCORPORATED   AREAS', 'PANEL 695  OF 1135', '(SEE MAP INDEX FOR  PANELS NOT PRINTED)', 'CCNTAINS;', 'OMMUNIY _ NUMBER   PANEL   SUFFIX', 'GALENA PSPK: CITY OF 480293  {695', 'HCUSTON GF OF 480296   (676', 'JACINTO ATC WY QF 480299  (835', 'U)', 'Map NUMBER', '48201C0695 )', 'Map REVISED:', 'NOVEMBER  6, 1996', 'Federal Emergency Management Agency'])\n",
      "Could not find key J for current tile from options ['L', 'M', 0], using closest date from all keys\n",
      "Using 1996-11-29 00:00:00 for tile date 1996-11-06 00:00:00\n",
      "Processing 48201C0865K--------------------------------------------------\n",
      "([datetime.datetime(2000, 4, 20, 0, 0)], ['HARRIS COUNTY', 'TEXAS AND', 'INCORPORATED   AREAS', 'PANEL 865 0F 1135', '(SEE MAP INDEX FOR PANELS NOT PRINTED)', 'CONTAINS-', 'COMvMUNTY NUMBER   PANEL   SUFFIX', 'HOLSTON CY OF 480296  0865', '0n', 'MAp  NUMBER', '48201c0865 K', 'Map REVISED:', 'APRIL 20, 2000', 'Federal Emergency Management Agency'])\n",
      "Using 2000-04-20 00:00:00 for tile date 2000-04-20 00:00:00\n",
      "Processing 48201C0895M--------------------------------------------------\n",
      "([datetime.datetime(2017, 1, 6, 0, 0)], ['HARRIS COUNTY', 'TEXAS', 'AND INCORPORATED AREAS', 'PANEL 895 OF 1150', '(SEE MAP INDEX FOR FIRM PANEL LAYOUT)', 'CQNTAINS:', 'CQMMUNITY NUMBER   PANEL   SUFFIX', 'HOUSTON, City OF 480296  0895 M', 'Notice to User:   The Map Number show below should be', 'used   when placing map crders; the Community Number', 'shown above should be used on insurance applications for the', 'subject cormuriity:', 'SZMMA MAP NUMBER', '48201C0895M', 'IND', 'MAP REVISED', 'JANUARY 6, 2017', 'Federal Emergency Management Agency'])\n",
      "Using 1900-01-01 00:00:00 for tile date 2017-01-06 00:00:00\n",
      "Using 1900-01-01 00:00:00 for tile date 2017-01-06 00:00:00\n",
      "CLOSEST DATE IN KEY IS TOO FAR (42739 days), using general instead (1900-01-01 00:00:00)\n",
      "Processing 48201C0810J--------------------------------------------------\n",
      "([datetime.datetime(1996, 11, 6, 0, 0)], ['HARRIS COUNTY', 'TEXAS AND', 'INCORPORATED   AREAS', 'PANEL 880 OF 1135', '(SEE MAP INDFX FCR PANFLS NCT PRINTED}', 'CONIAINS:', 'COMMUNTY _~NUVBER   FANEL   SUFFIX', 'HARRIS OM', 'UVNCCFP', \"'TEO AREAS   480237   {810\", 'HOUSTON Ci OF 480296  081o', 'MissiOt BEND MUC; 481678 Veu', 'U}', 'Map  NUMBER', '48201C0810', 'Map REVISED:', 'NOVEMBER 6, 1996', 'Federal Emergency Management Agency'])\n",
      "Could not find key J for current tile from options ['K', 'L', 0], using closest date from all keys\n",
      "Using 1996-11-29 00:00:00 for tile date 1996-11-06 00:00:00\n",
      "Processing 48201C0235G--------------------------------------------------\n",
      "COULD NOT FIND BOUNDS, USING IMAGE EXTENTS 48201C0235G\n",
      "Could not find date in ['{Pth', 'HARRIS COUNTY,', 'U UHa8', 'ULLU? TEXASAN', 'wetr JL__eetk', 'INCORPORATED AREAS', 'SOUHCSN', 'ACIFIC', 'LPMRRENCE; | (#|rTLRo;b', 'PANEL 235 OF 390', 'RM', '628-Ton 17777 # T Wmrnemhr I |hhH <SEE MAP INDEXFaFFaNfLs NoT PRINTED}', 'ROADM{ { | #M1||W6eA ConTaINS:', \"CQHHUMTY X  Wumbeb ' PAHEL = suffwx\", 'STn_SNLZ ,  G #nsti UL EGtkC WhhL #ouston Eiry DF  eeny403196   0235', 'KUNTEKS CFEE< ViLLAGE CT )   480290   02J6', 'S Piku VAllY.0t JF 43n33   0235', 'ZONE Xul', 'HI', 'RAIFF IkoAL', 'ZONE X', 'EASAN', 'ROAD', 'Hnkerlf Is !J=', 'Map NUMBER', 'SFENEER', 'EiGEL', '0', '48201C0235 G', 'MAXIEJ', '0', 'KCEHLER', 'STREET WFIIMONTANAST /', 'EFFECTIVE DATE:', 'ZONE}  Mcorio| =1K6 e SEPTEMBEP 28,; 1990', 'SCHUER_L i6 AE', 'CENTER', 'EPhVEF_JL  |BowSVARD', 'ederal Emergency Management Agency'], trying to use G\n",
      "Could not find tile extension in detections 48201C0235 - G, using default K from options dict_keys(['K', 'L', 'M', 0])\n",
      "Processing 48201C0870K--------------------------------------------------\n",
      "([datetime.datetime(2000, 4, 20, 0, 0)], ['HARRIS COUNTY', 'TEXAS AND', 'INCORPORATED   AREAS', 'panel 870 OF 1135', '{SEE MAP INDEX FOR PANELS NOT PRINTED)', 'CCNTAINS:', 'COMMUNTY AUBER   PANEL   SUFFIX', 'POUSTON,CTy Gp 480293   087c', 'MAP NUMBER', '48201C0870 K', 'Map REVISED:', 'APRIL 20, 2000', 'Federal', 'Emergency Management', 'h', 'Agency'])\n",
      "Using 2000-04-20 00:00:00 for tile date 2000-04-20 00:00:00\n"
     ]
    },
    {
     "name": "stderr",
     "output_type": "stream",
     "text": [
      "01/29/2025 18:44:25 - WARNING - rasterio._env -   CPLE_AppDefined in D:/RECTDNN/uncompress_2/48201C0705L.tif: _TIFFVSetField:D:/RECTDNN/uncompress_2/48201C0705L.tif: Null count for \"Tag 32934\" (type 4, writecount -3, passcount 1)\n"
     ]
    },
    {
     "name": "stdout",
     "output_type": "stream",
     "text": [
      "Processing 48201C0705L--------------------------------------------------\n",
      "([datetime.datetime(2007, 6, 18, 0, 0)], ['TEXAS', 'AND INCORPORATED AREAS', 'PANEL 705 OF 1150', '(SEE   MAP   INDEX   FOR   FIRM   PANEL  LAYOUT)', 'CONIAINS:', 'Jl  cOMMUNITY Number > PANEL _> SuFFX', 'W', 'HOUSTON, CITY OF 480286 0705', 'HARRIS COUNTY', 'UNINCOAPORATED AREAS 480287 0705', 'Notico to Usar: The Map Numbor shown bolow should be usod', 'wnon', 'placing   map  orders;  the  Communlty  Number shown', 'above should be Usod on ingurance', 'applications for the subject', 'community-', 'MAP NUMBER', '48201C0705L', 'MAP REVISED', 'JUNE 18 , 2007', 'Federal Emergency Management Agency', 'DEPA', \"SECUR'\", 'AND'])\n",
      "Using 2013-10-16 00:00:00 for tile date 2007-06-18 00:00:00\n",
      "Processing 48201C1010K--------------------------------------------------\n",
      "([datetime.datetime(2000, 4, 20, 0, 0)], ['HARRIS  COUNTY', 'TEXAS AND', 'INCORPORATED   AREAS', 'PANEL 1010  OF 1135', 'ISFF VAP INDEX FOR PANELS NOI PRINTED)', 'COMMuNty', 'Ospe2', 'PANEL   SuFNIX', 'HARRIS CoVN', 'UNZACCRPORAEEC ARLAS 480267  Tt', 'HOUSTON,CITYUF 480298  110', 'U', 'MAP   NUMBER', '48201C1010 K', 'MAP REVISED:', 'APRIL 20, 2000', 'Federal Emergency Management Agency'])\n",
      "Using 2000-04-20 00:00:00 for tile date 2000-04-20 00:00:00\n",
      "Processing 48201C0665J--------------------------------------------------\n",
      "([datetime.datetime(1996, 6, 29, 0, 0)], ['HARRIS  COUNTY,', 'TEXAS AND', 'INCORPORATED AREAS', 'PANEL 665 OF 1135', '(SEE MAP INDEX TOn PANELS Not PRINTED)', 'CONTAINS:', 'COMMUNTY_Su NUMBER   FANEL   SUFFIX', 'KLSHIRE VLLACE,ChTY QF  480205  0665', 'HOUSTON, Cl; OF 486248 06C5', 'HUNTERS Chgik VUAGE;', 'cly CF ,4 ` 480z98  06C5', 'SPRING VALLEY CTY CF 481313  05C5', '(n', 'Map NUMBER', '48201C0665', 'Map PEVISED:', 'MOVEMBER 6, 1996', 'ederai', 'Emergency Management Agency'])\n",
      "Using 1996-11-29 00:00:00 for tile date 1996-06-29 00:00:00\n"
     ]
    },
    {
     "name": "stderr",
     "output_type": "stream",
     "text": [
      "01/29/2025 18:44:37 - WARNING - rasterio._env -   CPLE_AppDefined in D:/RECTDNN/uncompress_2/48201C0265L.tif: _TIFFVSetField:D:/RECTDNN/uncompress_2/48201C0265L.tif: Null count for \"Tag 32934\" (type 4, writecount -3, passcount 1)\n"
     ]
    },
    {
     "name": "stdout",
     "output_type": "stream",
     "text": [
      "Processing 48201C0265L--------------------------------------------------\n",
      "Could not find date in [\"K444AD ~J1 ' 1\", 'TEXAS', 'AND INCORPORATED AREAS', 'PANEL 265 OF 1150', '(SEE   MAP   INDEX   FOR   FIRM   PANEL   LAYOUT)', 'CONIAINS: ', 'COMMUNITY_ NUMBER > PANEL _> SUFRX', '5', 'HAARISCCOUNRATED AREAS 480287  0285', '', 'Notice to User: The Map Number shown bolow should be used', 'when   placing   map  orders;   the   Community  Number  shown', 'above should b0 Used on insuranca  applications for the subjoct', 'community:', 'TaiM MAP NUMBER', '48201C0265L', 'MAP REVISED:', 'AND', 'JUNE 18, 2007', 'Federal Emergency Management Agency', 'SECUR'], trying to use L\n",
      "Processing 48201C0680K--------------------------------------------------\n",
      "([datetime.datetime(2000, 4, 20, 0, 0)], ['GtUd 40489jann4te Tun Woo   018nrid', 'HARRIS COUNTY', 'TEXAS AND', 'INCORPORATED   AREAS', 'PANEL 680 OF 1135', '(SEE MAP INDEX FOR #ANELS NOT PRINTED}', 'CONZAINS:_', 'COMMUNTY NUMBER   PANEL   SUFFIX', 'HOUSTON &TI OF 480296   C58c', \"HARRIS C'\", 'UNINCORPSRATEX W FEAS 480287   C63j', '0', 'MAP  NUMBER', '48201C0680 K', 'MAp REVISED:', 'APRIL 20, 2000', 'Federal Emergency Management Agency'])\n",
      "Using 2000-04-20 00:00:00 for tile date 2000-04-20 00:00:00\n",
      "Processing 48201C1060J--------------------------------------------------\n",
      "([datetime.datetime(1996, 11, 29, 0, 0)], ['HARRIS COUNTY', 'TEXAS AND', 'INCORPORATED   AREAS', 'PAMEL 1060 OF 1135', 'ISEE MAP INDEX FOR\"PANELS NOT PFRINTED}', 'CONTAINS:', 'COMMUNiTYNUMBER   PANEL   SUFfIX', 'HRKIS', 'UNINCORPCRATED AREnS   430287   {0sc', 'HOUSTO Gr uf 480256 1u5o', 'I', 'Map  NUMBER', '48201C1060', 'Map  REVISED:', 'NOVEMBER  &, 1996', 'ederal Emergency Management Agency'])\n",
      "Could not find key J for current tile from options ['K', 'L', 'M', 0], using closest date from all keys\n",
      "Using 1996-11-29 00:00:00 for tile date 1996-11-29 00:00:00\n",
      "Processing 48201C0215J--------------------------------------------------\n",
      "([datetime.datetime(1996, 11, 6, 0, 0)], ['HARRIS COUNTY', 'TEXAS AND', 'INCORPORATED   AREAS', 'PANEL 215 OF 1135', '(SEE MAP INDEX FCR PANELS NCT PRINTED}', 'CONAINS:', 'COMMUNITY~NUMEER   PANEL   SUFFIX', 'HARRIS', 'UNINCOREOHATED ZAES   480z8;   6216', 'HOUSTONCT Oi 40296  \"21s', 'U)', 'Map  NUMBER', '48201C0215', 'MAP REVISED:', 'NOVEMBER  6, 1996', 'Federal Emergency Management Agency'])\n",
      "Could not find key J for current tile from options [0, 'L'], using closest date from all keys\n",
      "Using 1996-11-29 00:00:00 for tile date 1996-11-06 00:00:00\n"
     ]
    },
    {
     "name": "stderr",
     "output_type": "stream",
     "text": [
      "01/29/2025 18:44:57 - WARNING - rasterio._env -   CPLE_AppDefined in D:/RECTDNN/uncompress_2/48201C0910L.tif: _TIFFVSetField:D:/RECTDNN/uncompress_2/48201C0910L.tif: Null count for \"Tag 32934\" (type 4, writecount -3, passcount 1)\n"
     ]
    },
    {
     "name": "stdout",
     "output_type": "stream",
     "text": [
      "Processing 48201C0910L--------------------------------------------------\n",
      "([datetime.datetime(2007, 6, 18, 0, 0)], ['1444AU #i 1 1', 'TEXAS', 'AND INCORPORATED AREAS', 'PANEL 910 OF 1150', '(SEE   MAP   INDEX   FOR   FIRM   PANEL  LAYOUT)', 'CQNTAINS _', 'COMMUNTY_ NUMBER > PANEL _ = SUFFX', '1', 'PASADEMA CITY OF 480307 0810', 'DEERPARK CITY OF 400201 0810', 'HARRS COUNTY', 'UNINCORPORATED AREAS 480287 08t0', 'HOUSTOM, CHTY OF 480206 0010', 'Notlco to Usor: The Map Number shown below should be Usod', 'when   placing   map  orders;  the  Community   Number  shown', 'above should b0 usod on insurance applications fot tho subject', 'community:', 'EPA', 'MAP NUMBER', '48201C0910L', 'MAP REVISED:', 'JUNE 18, 2007', 'Federal Emergency Management Agency', 'SECUR', 'LAND'])\n",
      "Using 2013-10-16 00:00:00 for tile date 2007-06-18 00:00:00\n"
     ]
    },
    {
     "name": "stderr",
     "output_type": "stream",
     "text": [
      "01/29/2025 18:45:01 - WARNING - rasterio._env -   CPLE_AppDefined in D:/RECTDNN/uncompress_2/48201C0845L.tif: _TIFFVSetField:D:/RECTDNN/uncompress_2/48201C0845L.tif: Null count for \"Tag 32934\" (type 4, writecount -3, passcount 1)\n"
     ]
    },
    {
     "name": "stdout",
     "output_type": "stream",
     "text": [
      "Processing 48201C0845L--------------------------------------------------\n",
      "([datetime.datetime(2007, 6, 18, 0, 0)], ['TEXAS', 'AND INCORPORATED AREAS', 'WLL', 'PANEL 845 OF 1150', '(SEE   MAP   INDEX   FOR   FIRM   PANEL   LAYOUT)', 'CONTAINS', 'COMMUNITY _ NuMBER _  PANEL_> SUFFX', 'HOUSTON, CITY OF 480296 0845', 'HARRIS COUNTY ,', 'UNINCORPORATED AREAS 480287 0845', 'STAFFORD, CITY CF 480233 0845', 'MISSOUA CITY, CITYCF 480304 0845', 'Notice to Usar; The Map Number shown below should be urod', 'placing   map]ordars;  the  Community  Number shown', 'above should be usad on insurance applications for the subject', 'community', 'MAP NUMBER', '48201C0845L', 'MAP REVISED:', 'JUNE 18, 2007', 'Federal Emergency Management Agency', 'Tho', 'shon', 'JEPAL', 'SECURI', 'AND'])\n",
      "Using 2013-10-16 00:00:00 for tile date 2007-06-18 00:00:00\n",
      "Processing 48201C0310H--------------------------------------------------\n",
      "([datetime.datetime(1992, 9, 30, 0, 0)], ['HARRIS COUNTY', 'TEXAS AND', 'INCORPORATED AREAS', 'PANEl 310 OF 390', '(SEE MAP INDEX FoR PANELS Not PRiNTED}', 'CONTAINS:', 'COMMUNITY`k . NUMBER ` PANEL  SUFfWL', 'FORT BEND COUNTY M niciPl   481272 , 770310', 'Utiuty DiSTRICT NO.', 'HCUSION, CIFY QF:,480236 . 0310', 'KINGSBRIDGF MUNICIPAL 481561 ` 02i0', 'UTILITY DISTRICT', 'MISSION BEND niciPAl 4813/8   0310', 'UTiUTY DSTRICT', 'UnNcOR?ORATLIZREASeOALe00; .Wi', 'Motice Tc User: The MAP NUMBER shown below should beused', 'when placing map orders; the COMMUNITY NUMBER showvn', 'above shauld be used on insurance applications for the subject', 'corimi', 'MaP NUMBER', '48201C0310 H', 'MAp REVISED:', 'SEPTEMBER 30, 1992', 'Federal Emergency Management Agency', '431272'])\n",
      "Using 1992-09-30 00:00:00 for tile date 1992-09-30 00:00:00\n",
      "Processing 48201C0200G--------------------------------------------------\n",
      "Couldn't find strict, now trying 482010200\n",
      "Could not find tile in detections 482010200\n",
      "Processing 48201C0645J--------------------------------------------------\n",
      "([datetime.datetime(1996, 11, 6, 0, 0)], ['HARRIS COUNTY', 'TEXAS AND', 'INCORPORATED  AREAS', 'PANEL 645 OF 1135', '{SFF MAP INDFX FOR PANELS NOT PRINTED}', 'ONTAINS', 'COMMUNTY _~\" NUMBER   PANEL   SUFEI', 'KOUSTONuty OF :80295  ChiS', 'KUNTERS MLLX MLLAGE.', 'CY Of * BR0zep  CE45', 'PINEY PoINt vile', 'AGECTY Of   4303c8  C645', 'SPRING VALIO CIT DF 43033  (645', 'U', 'HBZO1Cu6beR', 'Map REVISED:', 'NOVEMBER 6, 1996', 'Federal Erergency Management Agency'])\n",
      "Using 1996-11-29 00:00:00 for tile date 1996-11-06 00:00:00\n"
     ]
    },
    {
     "name": "stderr",
     "output_type": "stream",
     "text": [
      "01/29/2025 18:45:15 - WARNING - rasterio._env -   CPLE_AppDefined in D:/RECTDNN/uncompress_2/48201C0865L.tif: _TIFFVSetField:D:/RECTDNN/uncompress_2/48201C0865L.tif: Null count for \"Tag 32934\" (type 4, writecount -3, passcount 1)\n"
     ]
    },
    {
     "name": "stdout",
     "output_type": "stream",
     "text": [
      "Processing 48201C0865L--------------------------------------------------\n",
      "Could not find date in ['1444D UJUI1 1 ,', 'TEXAS', 'AND INCORPORATED AREAS', 'PANEL 865 OF 1150 ', '(SEE  MAP   INDEX   FOR   FIRM   PANEL  LAYOUT)', 'CONTAINS ', 'COMMUNITY NUMBER > PANEL _= SUFEX ', '1', 'HOUSTON, CITY OF 480230 0885', 'Notice to Usor: Tha Map Numbor shown bolow should be usod', 'whon', 'placing   map orders;  tho   Community   Number shown', 'above should be Usod on insuranca   applications for the subject', 'community.', 'MAP NUMBER', '48201C0865L', 'MAP REVISED:', 'AND', 'JUNE 18, 2007', 'Federal Emergency Management Agency', 'Tho', 'DEPARTA', 'SEC'], trying to use L\n",
      "Processing 48201C0245J--------------------------------------------------\n",
      "([datetime.datetime(1998, 11, 6, 0, 0)], ['HARRIS   COUNTY', 'TEXAS AND', 'INCORPORATED    AREAS', 'PANEL 245 UF 1135', '{SEE MAP INDEX FOR PANELS NOT PRINTED)', 'CONTAWNS:', 'COMMUNTY_\"NLMBE3   FANEL   SUFFIX', 'HAAIS CCUNY_', 'UNNNCCRPERATFS GRE4S   480287   G245', '(2', 'Map NUMBER', '48201C0245 ]', 'MAP REVISED:', 'NOVEMBER 6, 1998', 'Federal Emergency Management Agency'])\n",
      "Could not find key J for current tile from options ['K', 'L', 'M', 'G', 'W'], using closest date from all keys\n",
      "Using 2000-04-20 00:00:00 for tile date 1998-11-06 00:00:00\n",
      "Processing 48201C0115G--------------------------------------------------\n",
      "([datetime.datetime(1990, 9, 28, 0, 0)], ['HARRIS COUNTY', 'TEXAS AND', 'INCORPORATED AREAS', 'PANEL 115 OF 390', '(SEE MAP INDEX FOA PANELS NOT PRINTED}', 'CONTAINS;', 'communtya  WMBER } EANEL   SUFFU', 'UNincORPURATED AREAS \"a   480287  / 0115', 'L', 'MaP NUMBER', '48201C0115 G', 'EFFECTIVE DATE:', 'SEPTEMBER 28 , 1990', 'Federal Emergency Management Agency'])\n",
      "Using 1990-09-28 00:00:00 for tile date 1990-09-28 00:00:00\n",
      "Processing 48201C0380G--------------------------------------------------\n",
      "Could not find date in ['HARRIS COUNTY', 'TEXAS AND', 'INCORPORATED AREAS', 'PANEL 380 OF 390', '(SEE MAP INDEX FOR PANELS NOT PRINTED}', 'Contail_', \"COMMWNITY `` ' *4 . NUMBER   PaNel ` SUFFIX\", 'PEARLANC, CTY OF~3 4BOD77 <0380', 'UNINCORPORATED AREAS :~ 480287 ` 0380 [', 'U', 'MAP NUMBER', '48201c0380 G', 'EFFECTIVE DATE:', 'SEPTEMBER 28, 1390', 'Federal Emergency Management Agency'], trying to use G\n",
      "Processing 48201C0490J--------------------------------------------------\n",
      "([datetime.datetime(1996, 11, 6, 0, 0)], ['HARRIS COUNTY', 'TEXAS AND', 'INCORPORATED   AREAS', 'PANEL 498 OF 1135', \"(SEE MAP INDEX FOR' PANELS NOT PRINTED}\", 'CONTAINS:', 'COMMUNITY NUMBER   PANEL   SUFFIX', 'HARRIS Co', 'UNINCORPORATED /RFAS  480287  0490', 'KOUSTON;UTK OF 480z96  WaYJ', 'U', 'MAp  NUMBER', '48201C0490 )', 'MAP REVISED:', 'NOVEMBER 6, 1996', 'Federal Emergency Management Agency'])\n",
      "Could not find key J for current tile from options [0, 'L'], using closest date from all keys\n",
      "Using 2000-04-20 00:00:00 for tile date 1996-11-06 00:00:00\n",
      "Processing 48201C0840J--------------------------------------------------\n",
      "Could not find date in ['HARRIS COUNTY', 'TEXAS AND', 'INCORPORATED   AREAS', 'PANEL 840 UF 1135', '(SEE MAP INDEX EOR PANELS NoT PRINTED)', 'CONTAINS:', 'CCMMUNTY~NUMBFR   PANFL   SuffIX', 'FonT BEND', 'UoNC 3 481272  084)', 'KAR3IS COUNT', 'UNINCURPORATFO AAEAS  483237   co', '#OUSTCN Gietr* 480291;  6840', '0)', 'MAP NUMBER', '48201C0840 )', 'MAp REVISED:', '29937\\'30\"', 'NOVEMBER 6,1996', '45\"', 'Federal Emergency Management Agency'], trying to use J\n",
      "Could not find tile extension in detections 48201C0840 - J, using default K from options dict_keys(['K', 'L', 0])\n",
      "Processing 48201C0380M--------------------------------------------------\n",
      "Could not find date in ['TEXAS', 'AND INCORPORATED AREAS', '-00', 'reek) |ihluuhHL PANEL 380 OF 1150', '(SEE MAP INDEX FOR FIRM PANEL LAYOUT)', 'CONTAINS:', 'COMMUNITY NUMBER   PANEL   SUEFIX', 'HARRIS COUNTY , 480287 0380 M', 'UNINCORPORATED AREAS', 'Notice to User: The Map Number shown below should be used', 'when   placing   map orders; the Community Number  shown', 'above', 'should be used on insurance applications for the subject', 'community.', 'MAP NUMBER', '48201C0380M', 'MAP REVISED', '1', 'OCTOBER 16,.2013', 'Federal Emergency Management Agency', 'Map'], trying to use M\n",
      "Processing 48201C0845J--------------------------------------------------\n",
      "([datetime.datetime(1996, 11, 29, 0, 0)], ['HARRIS COUNTY', 'TEXAS AND', 'INCORPORATED   AREAS', 'PANEL 845 UF 1135', '{SEE MAP INDFX FOR PANELS NOT PRINTED}', 'CONIAINS:', 'COMVUNITY _ NUMBER  PANEL ` SUFTIX', 'HARRIS CJVM ,', \"UNINCORPORRTEC 'REAS   480287   (945\", 'KOUS ON,GI OF 480298  0p45', 'MISSOURICITX CHy QF 47804  0845', 'STAFFORD CyOnne  4P02;}   0345', '0', 'MaP NUMBER', '48201C0845 )', 'Map REVISED:', 'nOveMbeR  &, 1996', 'Federal Emergency Management', 'Agercy'])\n",
      "Using 1996-11-29 00:00:00 for tile date 1996-11-29 00:00:00\n"
     ]
    },
    {
     "name": "stderr",
     "output_type": "stream",
     "text": [
      "01/29/2025 18:45:47 - WARNING - rasterio._env -   CPLE_AppDefined in D:/RECTDNN/uncompress_2/48201C0885L.tif: _TIFFVSetField:D:/RECTDNN/uncompress_2/48201C0885L.tif: Null count for \"Tag 32934\" (type 4, writecount -3, passcount 1)\n"
     ]
    },
    {
     "name": "stdout",
     "output_type": "stream",
     "text": [
      "Processing 48201C0885L--------------------------------------------------\n",
      "([datetime.datetime(2007, 6, 18, 0, 0)], ['144 A0JJi 1 1', 'TEXAS', 'AND INCORPORATED AREAS', 'PANEL 885 OF 1150', '(SEE   MAP   INDEX   FOR   FIRM   PANEL   LAYOUT)', 'CONTAINS _', '2', '8', 'CQMMUNITY NUMBER _> PANEL = SUFRX', 'HOUSTON, CITY OF 480206 0885', 'HARRIS COUNTY', 'UNINCORPORATED AREAS 480287 0885', 'GALENA PARK CITY OF 480293 0885', '3', 'Notice t0 User: Tha Map Number shown bolw should bo usod', \"'IFU \", 'when   placing   map  orders;  the  Community   Mumber  shown', 'above should be Used on insurance   applications for tho subject', 'community-', 'MAP NUMBER', '48201C0885L', 'MAP REVISED:', 'JUNE 18, 2007', 'Federal Emergency Management Agency', 'EPA', 'SECL', 'AND'])\n",
      "Using 2013-10-16 00:00:00 for tile date 2007-06-18 00:00:00\n",
      "Processing 48201C0910J--------------------------------------------------\n",
      "([datetime.datetime(1996, 11, 6, 0, 0)], ['4500 Wnimdiam Ui Mantl Mure', 'HARRIS COUNTY', 'TEXAS AND', 'INCORPORATED   AREAS', 'PANEL 910 OF 1135', '(SEE MAP INDEX FOR PANELS NOT PRINTED)', 'CONTAINS_', 'COMMUNITY _ NUMBER   PANEL   SUFFIX', 'DEER Paa<GtY CF 480291   c910', 'HARFIS COUl', 'UNICORFORATED: AREAS   480287   0910', 'HOUSTCN CtnUinsco 450296   0910', 'PASADENAUTY 0F oooonb}480307   0910', 'U', 'MAP NUMBER', '48201C0910 )', 'MAP REVISED:', 'NOVEMBER  6, 1996', 'Federal', 'Emergency Management Agency'])\n",
      "Could not find key J for current tile from options [0, 'L', 'M'], using closest date from all keys\n",
      "Using 1996-11-29 00:00:00 for tile date 1996-11-06 00:00:00\n",
      "Processing 48201C1080J--------------------------------------------------\n",
      "([datetime.datetime(1996, 11, 6, 0, 0)], ['HARRIS  COUNTY,', 'TEXAS AND', 'INCORPORATED  AREAS', 'PANEL 1080 OF 1135', '(SFF MAP INDEX FOR PANELS NOT PRINTED)', 'CONTAINS:', 'COMMUNTY* NUMBER , PANEL   SUFFIX', 'HARRIS COUNTY', 'UNINCCRPORATED AREAS  480287  108J', 'HCUSTOM CitY CF \"k 480296 1080', 'PASAOENA CY OF   48L307{080', 'TAYLOR LK VLLAGChY CF   486513   \"80', '(', 'Map NUMBER', '48201C1080', 'MAp REVISED:', 'NOVEMBER 6, 1996', 'Federal Energency Management Agency'])\n",
      "Could not find key J for current tile from options [0, 'L', 'M'], using closest date from all keys\n",
      "Using 1996-11-29 00:00:00 for tile date 1996-11-06 00:00:00\n",
      "Processing 48201C0050H--------------------------------------------------\n",
      "([datetime.datetime(1992, 9, 30, 0, 0)], ['HARRIS COUNTY,', 'TEXAS AND', 'INCORPORATED AREAS', 'PANEL 58 QF 390', '{SEE MAP inDEX FOR PANELS NOT PRINTED}', 'CONTAINS;', 'COMMUNITY  NUMBER ) PANEL   SUFELX', 'UNiNCORPCRATED AREAS >~   480247` (C50 h', 'Notice Tc User: The MAP NUMBER shown beicw', 'should be usedwhen placing mar orcers; the COMMU:', 'Nity NUMBER shon above should be Lised on insur', 'ance #plications for the subject comrunity:', 'MAP NUMBER', '48201C0050 #', 'MAP REVISED:', 'SEPTEMBER 30, 1992', 'Ferderal Emergency Management Agency', 'User:'])\n",
      "Could not find key H for current tile from options ['L'], using closest date from all keys\n",
      "Using 2013-10-16 00:00:00 for tile date 1992-09-30 00:00:00\n",
      "Using 2013-10-16 00:00:00 for tile date 1992-09-30 00:00:00\n",
      "CLOSEST DATE IN KEY IS TOO FAR (7686 days), using general instead (2013-10-16 00:00:00)\n"
     ]
    },
    {
     "name": "stderr",
     "output_type": "stream",
     "text": [
      "01/29/2025 18:46:03 - WARNING - rasterio._env -   CPLE_AppDefined in D:/RECTDNN/uncompress_2/48201C0405L.tif: _TIFFVSetField:D:/RECTDNN/uncompress_2/48201C0405L.tif: Null count for \"Tag 32934\" (type 4, writecount -3, passcount 1)\n"
     ]
    },
    {
     "name": "stdout",
     "output_type": "stream",
     "text": [
      "Processing 48201C0405L--------------------------------------------------\n",
      "([datetime.datetime(2007, 6, 18, 0, 0)], ['14iuu0 UUUi\" 1 1', 'TEXAS', 'AND NNCORPORATED AREAS', 'PANEL 405 OF 1150', '(SEE   MAP   INDEX   FOR   FIRM   PANEL   LAYOUT)', 'CONTAINS:', 'J', 'LM |: coMwuntyNUMBER   PANEL _  SUFFX', '73', 'HARPS COUNIY', 'UNINCORPORATED AREAS 480287 0405', 'HOUSTON, CITY OF 480286 0405', 'Notice to User: The Map Numnber shown bolow should b0 used', 'when   placing   map   orders;  the  Community   Number   shown', 'above should be used on insurance', 'applications for tho subject', 'communitv-', 'MAP NUMBER', '48201C04O5L', 'MAP REVISED=', 'JUNE 18, 2007', 'Federal Emergency Management Agency', 'Map', 'OEPARTM', 'SECURS', 'AND'])\n",
      "Using 1900-01-01 00:00:00 for tile date 2007-06-18 00:00:00\n",
      "Using 1900-01-01 00:00:00 for tile date 2007-06-18 00:00:00\n",
      "CLOSEST DATE IN KEY IS TOO FAR (39249 days), using general instead (1900-01-01 00:00:00)\n",
      "Processing 48201C0090J--------------------------------------------------\n",
      "([datetime.datetime(1996, 11, 6, 0, 0)], ['HARRIS COUNTY', 'TEXAS AND', 'INCORPORATED  AREAS', 'PAMEL 90 OF 1135', '{SEF MAP INDEX FOR PANELS NoT PRINTED}', 'CCNTAINS:', 'COMMUNITY _ANCMBER   PANEL   SUFFIX', 'NARRIS Colny', 'UNINCORPORATED MLS  480287  (u90', 'U}', 'MAp NUMBER', '48201C0090 ', 'MAP REVISED;', 'NOVEMBER 6, 1996', 'Federal Emergency Management Agency'])\n",
      "Could not find key J for current tile from options [0, 'L'], using closest date from all keys\n",
      "Using 1996-11-29 00:00:00 for tile date 1996-11-06 00:00:00\n"
     ]
    },
    {
     "name": "stderr",
     "output_type": "stream",
     "text": [
      "01/29/2025 18:46:11 - WARNING - rasterio._env -   CPLE_AppDefined in D:/RECTDNN/uncompress_2/48201C1010L.tif: _TIFFVSetField:D:/RECTDNN/uncompress_2/48201C1010L.tif: Null count for \"Tag 32934\" (type 4, writecount -3, passcount 1)\n"
     ]
    },
    {
     "name": "stdout",
     "output_type": "stream",
     "text": [
      "Processing 48201C1010L--------------------------------------------------\n",
      "([datetime.datetime(2007, 6, 18, 0, 0)], ['44 K4Ji', 'TEXAS', 'AND INCORPORATED AREAS', 'PANEL 1010 OF 1150', '(SEE   MAP   INDEX   FOR   FIRM   PANEL   LAYOUT)', 'CONIAINS _', 'J', 'COMMUNITY_NMBER > PANEL _= SufNX', 'LW', 'HOUSTON; CITY OF 480286 1010', 'HARAIS COUNTY', 'UNINCORPORATED AAEAS 480287 1010', 'PEAALAND; CITY OF 480077 1010', 'W', 'LLLL_', 'IUID', 'QWLL', 'Notice to Usar: The Map Number shown bolow should be Usod', 'when   placing   map  ordors;   tho  Community   Number   shown', 'above should be Usod on insurande applications for tha subject', 'communitv:', 'MAP NUMBER', '48201C101OL', 'MAP REVISED', 'JUNE 18, 2007', 'Federal Emergency Management Agency', 'M', 'EPAE', 'SEC', 'AND'])\n",
      "Using 2013-10-16 00:00:00 for tile date 2007-06-18 00:00:00\n",
      "Processing 48201C0620J--------------------------------------------------\n",
      "([datetime.datetime(1996, 11, 6, 0, 0)], ['HARRIS COUNTY', 'TEXAS AND', 'INCORPORATED   AREAS', 'PANEL 620 OF 1135', \"(SEE MAP INDEX FOR' FANELS NOT PRINTED}\", 'CONTAINS:', 'COMMUNITY_ NUMBER   PANEL   SUFFIX', 'PARRIS COUNTY', 'UNINCORPORATED AREAS   480287   0620', 'HOUS ON, ChY Gf4 48C295  0620', 'Map NUMBER', '4820180620', 'Map REVISED:', 'NOVEMBER 6, 1996', 'Federal Emergency Management Agency', 'U'])\n",
      "Could not find key J for current tile from options [0, 'L'], using closest date from all keys\n",
      "Using 1996-11-29 00:00:00 for tile date 1996-11-06 00:00:00\n",
      "Processing 48201C0420K--------------------------------------------------\n",
      "([datetime.datetime(2000, 4, 20, 0, 0)], ['HARRIS COUNTY,', 'TEXAS AND', 'INCORPORATED  AREAS', 'PANEL 420 OF 1135', '{SEE MAP INDEX FOR PANELS Not PRINTED}', 'ONTAINS:', 'COMMUNITY~NUMABER   PANEL   SUFFIX', 'HOUSTCN,', \"'ColNT ,\", 'OF 480295  0420', 'PARRIS', 'JNINCORPOAATED AREAS   480287  420', 'U)', 'Map  NUMBER', '48201C0420 K', 'Map REVISED:', 'APRIL 20, 2000', 'deral Emergency Management Agency'])\n",
      "Could not find key K for current tile from options ['L', 'M', 'N', 0], using closest date from all keys\n",
      "Using 1996-11-29 00:00:00 for tile date 2000-04-20 00:00:00\n"
     ]
    },
    {
     "name": "stderr",
     "output_type": "stream",
     "text": [
      "01/29/2025 18:46:23 - WARNING - rasterio._env -   CPLE_AppDefined in D:/RECTDNN/uncompress_2/48201C0740L.tif: _TIFFVSetField:D:/RECTDNN/uncompress_2/48201C0740L.tif: Null count for \"Tag 32934\" (type 4, writecount -3, passcount 1)\n"
     ]
    },
    {
     "name": "stdout",
     "output_type": "stream",
     "text": [
      "Processing 48201C0740L--------------------------------------------------\n",
      "([datetime.datetime(2007, 6, 18, 0, 0)], ['TEXAS', 'AND INCORPORATED AREAS', 'PANEL 740 OF 1150', '(SEE   MAP   INDEX   FOR   FIRM   PANEL  LAYOUT)', 'CONTAINS _', '8', 'COMMUNITY NUMBER _  PANEL > SUFFIX', 'HAARIS COUNTY ,', 'VNINCORPORATED AREAS 480287 0740', 'HOUSTON, CITY OF 480286 0740', 'I', 'Notice to User: The Map Nunbar shown balow should bo usod', 'when   placing   map   ordars;   tha   Community  Number  shown', 'abovo should be used on insuranca applications for tho sUbject', 'community', 'MAP NUMBER', '48201C0740L', 'MAP REVISED:', 'JUNE 18 , 2007', 'Federal Emergency Management Agency', 'Tho', 'DEPARTA', 'SECUR', 'AND'])\n",
      "Using 2013-10-16 00:00:00 for tile date 2007-06-18 00:00:00\n",
      "Processing 48201C0140J--------------------------------------------------\n",
      "([datetime.datetime(1996, 11, 6, 0, 0)], ['HARRIS   COUNTY,', 'TEXAS AND', 'INCORPORATED  AREAS', 'PANEL 140 OF 0135', 'ISEE MAP INDEX FOR PANELS NOT PRINTED}', 'CONTAINS:', 'COMMUWHTYNUMEER   PANEL   SUFFIX', 'HARFIS COUNTYA', 'UYINCORPORAT', '(ed AREAS   48C287   0140', '0)', 'Map  NUMBER', '48201C0140', 'MAP REVISED:', 'NOVEMBER  6, 1996', 'Federal Emergency Management Agency'])\n",
      "Could not find key J for current tile from options [0, 'L'], using closest date from all keys\n",
      "Using 1996-11-29 00:00:00 for tile date 1996-11-06 00:00:00\n",
      "Processing 48201C1010J--------------------------------------------------\n",
      "([datetime.datetime(1996, 11, 29, 0, 0)], ['HARRIS COUNTY', 'TEXAS AND', 'INCORPORATED   AREAS', 'PANEL 1010 OF 1135', '(SEF MAP INDEX FOR PANELS NOT PRINTEDI', 'CONTAINS', 'COMMUNTYDw DUMBER   PANEL   SUFFIX', '~VRKIS UMUNIY', 'UNINCORPORATED AREAS  43281  `01o', 'HOUSTCN CT OF 4802c8 Wt', 'U', 'MBR OICUBER', 'Map REVISED:', 'NOVEMBER &, 1996', \"'ederal Emergency Management Agency\"])\n",
      "Using 1996-11-29 00:00:00 for tile date 1996-11-29 00:00:00\n",
      "Processing 48201C0275G--------------------------------------------------\n",
      "Could not find date in ['HARRIS COUNTY,', 'TEXAS AND', 'INCORPORA TED AREAS', 'PANEL 275 OF.390', '(SEE MAP INDEX FoA PANELS NTLPRUAETED)', 'CONiANS:', 'ComMuniy  3 *  Wketr  Hce-asufeix', 'HQUSTUN Citte &   4s024', 'hunters Calek Ware WF   4807987 0T75', 'Piney Poi VEaGL city 0f   480j08', 'MAP NUMBER', '48201C0275 G', 'EFFECTIVE DATE:', 'SEPTERBER 28, 1990', 'Federal Emergency Management Agency', '8', '6'], trying to use G\n",
      "Could not find tile extension in detections 48201C0275 - G, using default H from options dict_keys(['H'])\n",
      "Processing 48201C0350G--------------------------------------------------\n",
      "([datetime.datetime(1990, 9, 28, 0, 0)], ['HARRIS COUNTY,', 'TEXAS AND', 'INCORPORA TED AREAS', 'PANEL 350-OF 390', '(see MAP index For PANELS Not printed)', 'CONIAINS;', 'Comhuniy % % WEB]HILZ 2 cueew', 'HOUSTON city 05 R   480283 *20350', '6', 'MZO GUSbEr ', 'EFFECTIVE DATE:', 'SEPTEMBER 28 , 1990', 'Federal Emergency Management Agency', '8'])\n",
      "Using 1990-09-28 00:00:00 for tile date 1990-09-28 00:00:00\n",
      "Processing 48201C0895J--------------------------------------------------\n",
      "([datetime.datetime(1996, 11, 6, 0, 0)], ['HARRIS COUNTY', 'TEXAS AND', 'INCORPORATED   AREAS', 'PANEL 895 OF 1135', '(SEE MAP INDEX FOR PANELS NOT PRINTED)', 'CCNTAINS:', 'OMMUNTY _ NUMBER   FANEL   SUFFI', 'HOLSTCN,CTY Cf 480296   C895', '0', 'MAP  NUMBER', '48201C0895 ]', 'Map REVISED:', 'NOVEMBER  6, 1996', 'Federal Emergency Management Agency'])\n",
      "Could not find key J for current tile from options [0, 'L', 'M', 'N'], using closest date from all keys\n",
      "Using 1996-11-29 00:00:00 for tile date 1996-11-06 00:00:00\n",
      "Processing 48201C0190J--------------------------------------------------\n",
      "([datetime.datetime(1996, 11, 29, 0, 0)], ['HARRIS COUNTY,', 'TEXAS AND', 'INCORPORATED   AREAS', 'PANEL 190 OF 1135', '(SEE MAP INDEX FOR PANELS NCT PRINTED)', 'CONTAINS:', 'COMM UNITY NJMSER   PANEL   SUFFIX', 'NAfFiS', 'COUNT ', 'UMNCOREJAATEL AREAS  480257   *90', 'HoUSTON STY UF 488290  *Q', '(n', 'Map  NUMBER', '48201C0190 )', 'MAP REVISED:', 'NOVEMBER &, 1996', 'Federal Emergency Management Agency'])\n",
      "Could not find key J for current tile from options [0, 'L'], using closest date from all keys\n",
      "Using 1996-11-29 00:00:00 for tile date 1996-11-29 00:00:00\n",
      "Processing 48201C0595J--------------------------------------------------\n",
      "([datetime.datetime(1996, 11, 6, 0, 0)], ['HARRIS COUNTY', 'TEXAS AND', 'INCORPORATED   AREAS', 'PANEL 595 OF 1135', '({SEE MAP INDEX FOF PANELS NO7 PRINTED)', 'CONTAINS:', 'COMMUNITY NUMBER   FANEL   SUFFIY', 'MARRIS COUNTY', 'UN NCORRORATEQ AREAS  480287  0595', 'WILLOW', 'DAAINAGI CisTAICT ?    431003  0595', '0)', 'Map NUMBER', '48201C0595 )', 'MAP REVISED:', 'NOVEMBER 6, 1996', 'Federal Emergency Management Agency'])\n",
      "Could not find key J for current tile from options [0, 'L'], using closest date from all keys\n",
      "Using 1996-11-29 00:00:00 for tile date 1996-11-06 00:00:00\n",
      "Processing 48201C0065G--------------------------------------------------\n",
      "([datetime.datetime(1990, 9, 28, 0, 0)], ['HARRIS COUNTY', 'TEXAS AND', 'INCORPORATED AREAS', 'PANEL 65 OF 390', '(SEE MAP INDEX FOA PANELS NOT PRINTED}', 'CONTAINS:', 'COMMUNITY 24 NUMBER   PANEL = SVFFLX', 'HOUSTON, CITY 8F *{eeee##80296   0065', \"UNINCORPORATED AAEAS * 2'480287   0065\", 'La', 'MAP NUMBER', '48201c0065 G', 'EFFECTIVE DATE:', 'SEPTEMBER 28 , 1990', 'Federal Emergency Management Agency'])\n",
      "Could not find key G for current tile from options [0, 'L'], using closest date from all keys\n",
      "Using 1996-11-29 00:00:00 for tile date 1990-09-28 00:00:00\n"
     ]
    },
    {
     "name": "stderr",
     "output_type": "stream",
     "text": [
      "01/29/2025 18:46:52 - WARNING - rasterio._env -   CPLE_AppDefined in D:/RECTDNN/uncompress_2/48201C0710L.tif: _TIFFVSetField:D:/RECTDNN/uncompress_2/48201C0710L.tif: Null count for \"Tag 32934\" (type 4, writecount -3, passcount 1)\n"
     ]
    },
    {
     "name": "stdout",
     "output_type": "stream",
     "text": [
      "Processing 48201C0710L--------------------------------------------------\n",
      "([datetime.datetime(2007, 6, 18, 0, 0)], ['Tuuuo CUUI1 1', 'TEXAS', 'AND INCORPORATED AREAS', 'PANEL 710 OF 1150', '(SEE   MAP   INDEX   FOR   FIRM   PANEL   LAYOUT)', 'CONTAINS:', 'COMMUNITY NUMBER  > PANEL_> SVFRX', '5', 'HAFRISCOUNFVATED AREAS} 480287   0710', 'HOUSTON, CITY OF 480296 0710', '2', 'Notice to User: The Map Humber shown below should bo usod', 'when', 'placing   map  orders;  tho  Community  Number   shown', 'above should be usod on insuranco applications for tho subjoct', 'communitv:', 'MAP NUMBER', '48201C0710L', 'MAP REVISED:', 'JUNE 18, 2007', 'Federal Emergency Management Agency', 'The', 'DEPARTA', 'SECURE', 'AND'])\n",
      "Using 2013-10-16 00:00:00 for tile date 2007-06-18 00:00:00\n"
     ]
    },
    {
     "name": "stderr",
     "output_type": "stream",
     "text": [
      "01/29/2025 18:46:56 - WARNING - rasterio._env -   CPLE_AppDefined in D:/RECTDNN/uncompress_2/48201C0615L.tif: _TIFFVSetField:D:/RECTDNN/uncompress_2/48201C0615L.tif: Null count for \"Tag 32934\" (type 4, writecount -3, passcount 1)\n"
     ]
    },
    {
     "name": "stdout",
     "output_type": "stream",
     "text": [
      "Processing 48201C0615L--------------------------------------------------\n",
      "([datetime.datetime(2007, 6, 18, 0, 0)], ['HUuuo CUUI i 1 ,', 'TEXAS', 'AND INCORPORATED AREAS', 'PANEL 615 OF 1150', '(SEE   MAP   INDEX   FOR   FIRM   PANEL  LAYOUT}', 'CONTAINS _', '24', 'CQMMUNITY NUMBER > PANEL _= SUFFX', '2', 'HAIMISCOIPNORATED AREAS}x 480287 x 0615', 'HOUSTON, CITY OF 480286 0615', 'LLLL', 'Notice to Usor: The Map Number shown below should be used', 'when', 'placing   map  orders;   the  Community   Numbet   shown', 'above should be used on insurance applications for the subject', 'communitv-', 'MAP NUMBER', '48201C0615L', 'MAP REVISED:', 'JUNE 18, 2007', 'Federal Emergency Management Agency', 'DEPARTA', 'GECUR ', 'AND'])\n",
      "Using 2013-10-16 00:00:00 for tile date 2007-06-18 00:00:00\n",
      "Processing 48201C0770M--------------------------------------------------\n",
      "([datetime.datetime(2015, 5, 4, 0, 0)], ['HARRIS COUNTY', 'TEXAS', 'AND INCORPORATED AREAS', 'PANEL 770 OF 1150', '(SEE MAP INDEX FOR FIRM PANEL LAYOUT)', 'CONTANS:', 'COMMUNITY NUMBER   PANEL   SUFFIX', 'BAYTOWN, CITY @F 485456  0770 m', 'HARRIS COUNTY 480287  0778 m', 'Nctice to User:   The Map Number show belcw should be', 'used  When placing map orders; te Community Number', 'show above shculd be used on insurance applications for the', 'subject comunity:', 'MAP NUMBER', '48201C0770M', '#D', 'MAP REVISED', 'MAY 4,2015', 'Federal Emergency Management Agcncy', 'Map', 'TPAR?'])\n",
      "Using 2015-05-04 00:00:00 for tile date 2015-05-04 00:00:00\n"
     ]
    },
    {
     "name": "stderr",
     "output_type": "stream",
     "text": [
      "01/29/2025 18:47:05 - WARNING - rasterio._env -   CPLE_AppDefined in D:/RECTDNN/uncompress_2/48201C0930L.tif: _TIFFVSetField:D:/RECTDNN/uncompress_2/48201C0930L.tif: Null count for \"Tag 32934\" (type 4, writecount -3, passcount 1)\n"
     ]
    },
    {
     "name": "stdout",
     "output_type": "stream",
     "text": [
      "Processing 48201C0930L--------------------------------------------------\n",
      "([datetime.datetime(2007, 6, 18, 0, 0)], ['I4iuu CUUI i 1,', 'TEXAS', 'AND INCORPORATED AREAS', 'PANEL 930 OF 1150', '(SEE   MAP   INDEX   FOR   FIRM   PANEL LAYOUT)', '8', 'cowany nmber   Rne   Sufrx', 'DEERPARK CITY OF 480201 0830', 'LAPORTE CITY OF 486487 0830', 'HARAIS COUNTY,', 'UNINCORPORATED AHEAS 480287 0030', 'LueuML  HOUSTON, GITY OF 480296 0830', 'Notico to Usor: Tho Map Number shown balow should be usod', 'whan   placing   map   orders;  the  Community  Number  shown', 'above should be used on insurance  applications for tho subjact', 'community:', 'MAP NUMBER', '48201C0930L', 'MAP REVISED:', 'JUNE 18 , 2007', 'Federal Emergency Management Agency', 'DEPARTS', 'SECUR)', 'AND'])\n",
      "Using 2013-10-16 00:00:00 for tile date 2007-06-18 00:00:00\n",
      "Processing 48201C0970M--------------------------------------------------\n",
      "COULD NOT FIND BOUNDS, USING IMAGE EXTENTS 48201C0970M\n",
      "Could not find date in ['HARRIS COUNTY,', 'TEXAS', 'AND INCORPORATED AREAS', \"'80\", 'PANEL 970 OF 1150', '(SEE MAP INDEX FOR FIRM PANEL LAYOUT )', 'CONTAlg', 'COMMUNITY NUMBER   PANEL   SUFFIX', 'BAYTCMN Chty OF 485456  Gt0', 'HARRI8 COUNTY 480287   CtC', 'Nctice t User:   Tne Map Number shcun belcw shoul be', 'used wvhen placing meap orders; iie Community Number', 'shovm} above should be used on insurance applications I; the', 'subject contunity:', '\"79\"6\"N', 'MAP NUMBER', '48201C0970M }', '29*37\\'30}\"', 'MAP REVISED', '94*52*30\"', 'MAY 4, 2015', 'Federal Emergency Management Agency', 'Map', 'Ine'], trying to use M\n"
     ]
    },
    {
     "name": "stderr",
     "output_type": "stream",
     "text": [
      "01/29/2025 18:47:14 - WARNING - rasterio._env -   CPLE_AppDefined in D:/RECTDNN/uncompress_2/48201C0610L.tif: _TIFFVSetField:D:/RECTDNN/uncompress_2/48201C0610L.tif: Null count for \"Tag 32934\" (type 4, writecount -3, passcount 1)\n"
     ]
    },
    {
     "name": "stdout",
     "output_type": "stream",
     "text": [
      "Processing 48201C0610L--------------------------------------------------\n",
      "([datetime.datetime(2007, 6, 18, 0, 0)], ['nf4uuo CUUi i1,', 'TEXAS', 'AND INCORPORATED AREAS', 'PANEL 610 OF 1150', 'ISEE   MAP   INDEX   FOR   FIRM   PANEL  LAYOUT)', 'CONIAINS', 'COMMUNITY NUMBER _> PANEL _  SUFAX', '9', 'HARRIS', 'RISCORUPNFYATED AREAS x 480287   0g10', 'HOUSTON, CITY OF 480288 0610', 'WW', 'WWE', 'QD', 'DL', 'Natice to User: The Map Number shown bolow should bo usod', 'whon   placing   map  orders:  the  Community  Muunber  shown', 'above should be used on insurance  applications  for the subject', 'community:', 'MAP NUMBER', '48201C0610L', 'MAP REVISED:', 'JUNE 18, 2007', 'Federal Emergency Management Agency', 'DEPART', 'SEC', 'AND'])\n",
      "Using 2013-10-16 00:00:00 for tile date 2007-06-18 00:00:00\n",
      "Processing 48201C0830K--------------------------------------------------\n",
      "([datetime.datetime(2000, 4, 20, 0, 0)], ['HARRIS  COUNTY', 'TEXAS AND', 'INCORPORATED   AREAS', 'PANEL 830 OF 1135', '{SEE MAP INDEX FoR PANELS NOT PRINTED}', 'CONTAINS:', 'COMNUNTY _ NUMBER   PANEL   SUFFIX', 'HARMAS', 'COl', 'UMINCOUDORATED AREXS  480287  0830', 'HOUSTONADTXQF 480z95   0330', '(n', 'Map  NUMBER', '48201C0830 K', 'MaP REVISED:', 'APRIL 20, 2000', 'Federal Emergency Management', 'DF', 'Agency'])\n",
      "Using 2000-04-20 00:00:00 for tile date 2000-04-20 00:00:00\n",
      "Processing 48201C0440K--------------------------------------------------\n",
      "([datetime.datetime(2000, 4, 20, 0, 0)], ['HARRIS COUNTY', 'TEXAS AND', 'INCORPORATED   AREAS', 'PANEL 440 OF 1135', '(SEE MAP INDEX FOR PANELS Nor PRINTED}', 'CONTAINS:', 'COMMUNITY ZNCMBER   PANEL   SUFFIX', 'KOUSTON, Chy CF 483286  0440', 'Jersey MlaGEuTY QF  480300   0440', 'HARRIS Chi', 'UNNNCORRORATED AREAS  .30287  G', 'U', 'MAP NUMBER', '4820180440 K', 'Map PEVISEb:', 'APRIL 20, 2000', 'Federal', 'Emergency Management', 'Agency'])\n",
      "Using 2000-04-20 00:00:00 for tile date 2000-04-20 00:00:00\n",
      "Processing 48201C0085G--------------------------------------------------\n",
      "Couldn't find strict, now trying 482010085\n",
      "Could not find tile in detections 482010085\n",
      "Processing 48201C0235J--------------------------------------------------\n",
      "([datetime.datetime(1996, 11, 6, 0, 0)], ['HARRIS COUNTY', 'TEXAS AND', 'INCORPORATED   AREAS', 'PANEL 235 OF 1135', '(SEE MAP INDEX FOR PANELS NOT PRINTED}', 'CQNIANS', 'COMMUMTY~NUMBER   PANEL   SUFFIX', 'KARRIS', 'UNINCORFORATD AE4S  4R287  6235', 'Hcustcndn0 480796   03i', '0', 'Map NUMBER', '48201C0235 )', 'Map  REVISED:', 'NOVEMBER 6, 1996', 'Federal Emergency Management', 'Agency'])\n",
      "Could not find key J for current tile from options ['K', 'L', 'M', 0], using closest date from all keys\n",
      "Using 1996-11-29 00:00:00 for tile date 1996-11-06 00:00:00\n"
     ]
    },
    {
     "name": "stderr",
     "output_type": "stream",
     "text": [
      "01/29/2025 18:47:35 - WARNING - rasterio._env -   CPLE_AppDefined in D:/RECTDNN/uncompress_2/48201C0690L.tif: _TIFFVSetField:D:/RECTDNN/uncompress_2/48201C0690L.tif: Null count for \"Tag 32934\" (type 4, writecount -3, passcount 1)\n"
     ]
    },
    {
     "name": "stdout",
     "output_type": "stream",
     "text": [
      "Processing 48201C0690L--------------------------------------------------\n",
      "Could not find date in ['4M Mlij1', 'TEXAS', 'AND INCORPORATED AREAS', 'PANEL 690 OF 1150', '(SEE   MAP   INDEX   FOR   FIRM   PANEL   LAYOUT)', 'CONTAINS:', 'J', 'COMMUNITY NUMBER > PANEL  SVFFX', 'WW', 'HOUSTON, CITY OF 480206 0600', 'Notice to Usor: The Map Number shown balow should be usod', 'when', 'placing   map   orders;   the   Community   Number   shown', 'above should be usod on insuranca applications for the subject', 'communitv', 'MAP NUMBER', '48201CO690L', 'MAP REVISED:', 'AND', 'JUNE 18, 2007', 'Federal Emergency Management Agency', 'OEPARTM', 'SC'], trying to use L\n",
      "Processing 48201C0195G--------------------------------------------------\n",
      "COULD NOT FIND BOUNDS, USING IMAGE EXTENTS 48201C0195G\n",
      "Could not find date in ['HARRIS COUNTY ,', 'TEXAS AND', 'DF', 'INCORPORA TED AREAS', 'TIPWFLL RCAD', 'PANEL 195 OF 390', '{SEE MAP INDEXFOR PANELS NoT PAINTED}', 'CONIHIKS:', 'CQMMukITY € NUMBER _ PANEL = SVFFLX', 'HOL-TCN CITY JF*  480255', 'UMINCORrCRA EJ 4m2s2 1lrs::  0125', 'Rod', 'ZONE', '(n', 'MAP NUMBER', '48201C0195 G', 'B\"% Gwlh', 'ZoNex: ! <xoz-s,(o}', 'EFFECTIVE DATE:', 'Goad', 'SEPTEMBER 28, 1990', 'ZONE', 'SOUTHERN PACIFIC', 'RAILROAD', 'Federal Emergency Menagement Agency'], trying to use G\n",
      "Could not find tile extension in detections 48201C0195 - G, using default 0 from options dict_keys([0, 'L', 'M'])\n",
      "Processing 48201C0915J--------------------------------------------------\n",
      "([datetime.datetime(1996, 11, 6, 0, 0)], ['HARRIS COUNTY', 'TEXAS AND', 'INCORPORATED   AREAS', 'PANEL 915 OF 1135', '(SEE MAP INDEX FOR PANELS NOT PRINTED}', 'CCNTAIVS', 'OMMUNITY NUMEER  PANEL   SUFFIX', 'HCUSTON, CITY OF 48629e   4916', 'PASACENA,CitY OF e 480207   6915', 'SOUTH HCUSTONGy OF 48u2n1  0s1E', 'U', 'MAP NUMBER', '48201C0915', 'MAP REVISED:', 'NOVEMBER 6, 1996', 'Federal Emergency Management Agency'])\n",
      "Could not find key J for current tile from options [0, 'L', 'M', 'N'], using closest date from all keys\n",
      "Using 1996-11-29 00:00:00 for tile date 1996-11-06 00:00:00\n"
     ]
    },
    {
     "name": "stderr",
     "output_type": "stream",
     "text": [
      "01/29/2025 18:47:48 - WARNING - rasterio._env -   CPLE_AppDefined in D:/RECTDNN/uncompress_2/48201C0635L.tif: _TIFFVSetField:D:/RECTDNN/uncompress_2/48201C0635L.tif: Null count for \"Tag 32934\" (type 4, writecount -3, passcount 1)\n"
     ]
    },
    {
     "name": "stdout",
     "output_type": "stream",
     "text": [
      "Processing 48201C0635L--------------------------------------------------\n",
      "Could not find date in ['1444IAJ Ji 1', 'TEXAS', 'AND NNCORPORATED AREAS', 'PANEL 635 OF 1150', '(SEE   MAP   INDEX   FOR   FIRM  PANEL LAYOUT)', 'CONTAINS ', '8', 'COMMUNITYnumbER > PANEL _= SUFFX', 'Jersey VILLAGE CITYOF 480300 0535', 'HARAIS COUNTY', 'UNINCORPORATED AREAS 480287 0635', 'HOUSTON, CIY OF 480296 0635', '3', 'Notice to Ucor; Tho Map Number thown bolw should be usod', 'whon   placing   Map  ordars;  tho  Communit   Number   shown', 'above should bo usod on inturanco   applications for the subjoct', 'community:', 'eP', 'MAP NUMBER', '48201C0635L', 'MAP REVISED:', 'AND', 'JUNE 18, 2007', 'Federal Emergency Management Agency', 'SEC'], trying to use L\n",
      "Processing 48201C0205G--------------------------------------------------\n",
      "([datetime.datetime(1990, 9, 28, 0, 0)], ['HARRIS COUNTY', 'TEXAS AND', 'INCORPORATED AREAS', 'PANEL 205 OF 390', '(SEE MAP INDEX FoR PANELS Not PRINTED}', 'CONTAINS:', 'COMRAUNITY # NUMBEB | PANEL = SUFFIX', 'UNINCORPCRATED ARFAS8s2  480207   0205', 'L', 'MAP NUMBER', '48201C0205 G', 'EFFECTIVE DATE:', 'SEPTEMBER 28, 1990', 'Federal Emergency Management Agency'])\n",
      "Could not find key G for current tile from options ['L', 'J'], using closest date from all keys\n",
      "Using 1996-11-29 00:00:00 for tile date 1990-09-28 00:00:00\n"
     ]
    },
    {
     "name": "stderr",
     "output_type": "stream",
     "text": [
      "01/29/2025 18:47:57 - WARNING - rasterio._env -   CPLE_AppDefined in D:/RECTDNN/uncompress_2/48201C0905L.tif: _TIFFVSetField:D:/RECTDNN/uncompress_2/48201C0905L.tif: Null count for \"Tag 32934\" (type 4, writecount -3, passcount 1)\n"
     ]
    },
    {
     "name": "stdout",
     "output_type": "stream",
     "text": [
      "Processing 48201C0905L--------------------------------------------------\n",
      "Could not find date in ['TEXAS', 'AND INCORPORATED AREAS', 'PANEL 905 OF 1150', '(SEE   MAP   INDEX   FOR   FIRM   PANEL   LAYOUT}', 'CONTAINS _', 'COMMUNITY NUMBER _> PANEL _= SuFAX', '9', 'HOUSTON, CIY OF 480206 C005', 'GALENA PARK CITY OF 480283 0005', 'HapRIS COUNTY,', 'UNINCORPORATED AREAS 480287 0005', 'PASADENA CITY OF 480307 0005', 'WD', 'LlLL', 'QD', 'Notica to User: Tho Map Number shown below should be used', 'whon   placing   map   orders;   the Community   Mumber   shown', 'above should be usod on insurance applications tor tha subject', 'communiv', 'MAP NUMBER', '48201C0905L', 'MAP REVISED:', 'AND', 'JUNE 18 , 2007', 'Federal Emergency Management Agency', 'DEPART', 'SC'], trying to use L\n",
      "Processing 48201C1090J--------------------------------------------------\n",
      "([datetime.datetime(1996, 11, 6, 0, 0)], ['HARRIS COUNTY,', 'TEXAS AND', 'INCORPORATED   AREAS', 'PAEL 1090 OF 1135', '(SEE MAP INDEX FCR RANELS NOT PRINTED}', 'CONTAINS:', 'CQMMUNIY _NUMBER   PANEL   SUFFIX', 'NARRIS COUN', 'UNINCORYUANTCD AREXS  480287  {09o', 'HOUSTON Ctcof 480293  `Ugu', 'NASSAU BARcty OF 4814491 {u9', 'PASADENA OTT S5 ~` 480307  {uec', 'WEBSTER,Go OAit 485518   109g', '0', 'Map NUMBER', '48201C1090', 'Map REVISED;', 'NOVEMBER 6, 1996', 'Federal Emergency Management Agency'])\n",
      "Could not find key J for current tile from options ['L', 'M', 0], using closest date from all keys\n",
      "Using 1996-11-29 00:00:00 for tile date 1996-11-06 00:00:00\n"
     ]
    },
    {
     "name": "stderr",
     "output_type": "stream",
     "text": [
      "01/29/2025 18:48:06 - WARNING - rasterio._env -   CPLE_AppDefined in D:/RECTDNN/uncompress_2/48201C0195L.tif: _TIFFVSetField:D:/RECTDNN/uncompress_2/48201C0195L.tif: Null count for \"Tag 32934\" (type 4, writecount -3, passcount 1)\n"
     ]
    },
    {
     "name": "stdout",
     "output_type": "stream",
     "text": [
      "Processing 48201C0195L--------------------------------------------------\n",
      "([datetime.datetime(2007, 6, 18, 0, 0)], ['IAND CUUINI 1 ,', 'TEXAS', 'AND NNCORPORATED AREAS', 'PANEL 195 OF 1150', '(SEE   MAP   INDEX   FOR   FIRM   PANEL  LYOUT)', 'CQNTAINS;', 'COMMUNITY NUMBER > PANEL _> SUFFX', '7', 'HAARIS COUNTY ,', 'UNINCORPORATED AREAS 480287 0105', 'HOUSTON, CITY OF 480296 0105', '@', 'Notice to Usor: Tha Map Numbar shown balow should be used', 'when   placing   map   orders;   tho  Gommunity   Number   shown', 'above should bo used on insuranca  applications for the subject', 'community:', 'MAP NUMBER', '48201C0195L', 'MAP REVISED:', 'JUNE 18, 2007', 'Federal Emergency Management Agency', 'The', 'DEPAC', \"SECL'\", 'AND'])\n",
      "Using 1900-01-01 00:00:00 for tile date 2007-06-18 00:00:00\n",
      "Using 1900-01-01 00:00:00 for tile date 2007-06-18 00:00:00\n",
      "CLOSEST DATE IN KEY IS TOO FAR (39249 days), using general instead (1900-01-01 00:00:00)\n"
     ]
    },
    {
     "name": "stderr",
     "output_type": "stream",
     "text": [
      "01/29/2025 18:48:11 - WARNING - rasterio._env -   CPLE_AppDefined in D:/RECTDNN/uncompress_2/48201C0360L.tif: _TIFFVSetField:D:/RECTDNN/uncompress_2/48201C0360L.tif: Null count for \"Tag 32934\" (type 4, writecount -3, passcount 1)\n"
     ]
    },
    {
     "name": "stdout",
     "output_type": "stream",
     "text": [
      "Processing 48201C0360L--------------------------------------------------\n",
      "Could not find date in ['TEXAS', 'AND INCORPORATED AREAS', '', 'PANEL 360 OF 1150', 'ISEE   MAP   INDEX   FOR   FIRM  PANEL LAYOUT)', 'Duoiacolwa', 'LALL', 'COMiMuNITX NUHBBR > PANe_> SVEEX', 'ImDpIS nY', 'VhntraprrAteD AFFA9 40pat I3ad', '3318000', 'We', 'Ia', 'Kotido t0 Uzec: Tho Mao Nutbet shown Juloiv Ghogld Vb Vbbu', 'pleciaar  Met  pndars:  thA Contngaiy  Aunbar   shotvn', 'Jbovo Shovid bo Usod On Isurzi go Bppigamnb I0i Ihy bubiot', 'cohilaly', 'LJWuJ', 'MAP NUMBER', 'Yanttt', '48201C0360L', 'MAP REVISED:', '29*68\\'15\"', 'JUNE 18 , 2007', '222000 M 95252*30', 'Zantt', 'Fcdcral Emcrgcncy Management Agency', 'TW', 'Im', 'At'], trying to use L\n"
     ]
    },
    {
     "name": "stderr",
     "output_type": "stream",
     "text": [
      "01/29/2025 18:48:16 - WARNING - rasterio._env -   CPLE_AppDefined in D:/RECTDNN/uncompress_2/48201C0370L.tif: _TIFFVSetField:D:/RECTDNN/uncompress_2/48201C0370L.tif: Null count for \"Tag 32934\" (type 4, writecount -3, passcount 1)\n"
     ]
    },
    {
     "name": "stdout",
     "output_type": "stream",
     "text": [
      "Processing 48201C0370L--------------------------------------------------\n",
      "([datetime.datetime(2007, 6, 18, 0, 0)], ['TEXAS', 'AND INCORPORATED AREAS', 'PANEL 370 OF 1150', '(SEE   MAP   INDEX   FOR   FIRM   PANEL   LAYOUT)', 'CQNTAINS:', 'COMMUNITY NuMBER = PANEL = SUFFX', 'HARRIS COUNTY', 'UNINCORPORATED AREAS 480287 0370', 'Notice t0 Usar: Tha Map Number shown balow should be used', 'when   placing   map  orders;   the  Community   Number   shown', 'above should be used on insurance  applications for the subject', 'community:', 'MAP NUMBER', '48201CO37OL', 'MAP REVISED:', 'S1 JUNE 18, 2007', 'Federal Emergency Management Agency', 'OEPARTA', 'SECL', 'AND'])\n",
      "Using 1900-01-01 00:00:00 for tile date 2007-06-18 00:00:00\n",
      "Using 1900-01-01 00:00:00 for tile date 2007-06-18 00:00:00\n",
      "CLOSEST DATE IN KEY IS TOO FAR (39249 days), using general instead (1900-01-01 00:00:00)\n",
      "Processing 48201C0070J--------------------------------------------------\n",
      "([datetime.datetime(1996, 11, 6, 0, 0)], ['HARRIS  COUNTY', 'TEXAS AND', 'INCORPORATED   AREAS', 'PANEL 70 OF 1135', '(SEE MAP INDEX FQF PANELS NOT PRINTED}', 'CCNTANS:', 'COMMUNTY _ NUMBER   PANEL   SUFFIX_', 'HARRIS CCUNTY,', \"JNINCCAPORATEE' AREAS  480287 OGd\", 'Un', 'Map  NuMbER', '48201C0070', 'MAp REVISED:', 'NOVEMBER 6, 1996', 'Federal Emergency Management', 'Agency'])\n",
      "Could not find key J for current tile from options [0, 'L', 'G'], using closest date from all keys\n",
      "Using 1996-11-29 00:00:00 for tile date 1996-11-06 00:00:00\n"
     ]
    },
    {
     "name": "stderr",
     "output_type": "stream",
     "text": [
      "01/29/2025 18:48:26 - WARNING - rasterio._env -   CPLE_AppDefined in D:/RECTDNN/uncompress_2/48201C0770L.tif: _TIFFVSetField:D:/RECTDNN/uncompress_2/48201C0770L.tif: Null count for \"Tag 32934\" (type 4, writecount -3, passcount 1)\n"
     ]
    },
    {
     "name": "stdout",
     "output_type": "stream",
     "text": [
      "Processing 48201C0770L--------------------------------------------------\n",
      "([datetime.datetime(2007, 6, 18, 0, 0)], ['1444U ~Ji 1 1', 'TEXAS', '2', 'AND NNCORPORATED AREAS', 'PANEL 770 OF 1150', '(SEE   MAP   INDEX   FOR   FIRM   PANEL   LAYOUT)', 'CONTAINS_', 'CQMMUNITY NumbeR > PANEL _= SUFFIX', '2', 'BAYTOWN CITY OF 485456  0770', 'HARRIS COUNTY ,', 'UNINCORPORATED AREAS 490287 0770', 'Notice to User: The Map Number shown balow shouid be usod', 'placing   mep  orders;   the  Community   Number  shown', 'above should be usad on insurance applications for the subject', 'community-', 'MAP NUMBER', '48201C0770L', 'MAP REVISED:', 'JUNE 18, 2007', 'Federal Emergency Management Agency', 'Tho', 'whon', 'SECS', 'AND'])\n",
      "Using 2013-10-16 00:00:00 for tile date 2007-06-18 00:00:00\n",
      "Processing 48201C0060G--------------------------------------------------\n",
      "([datetime.datetime(1990, 9, 28, 0, 0)], ['HARRIS COUNTY,', 'TEXAS AND', 'INCORPORATED AREAS', 'PANEL 60 OF 390', '{SEE MAP INDEX For PANELS Not PRINTED)', 'CONTAINS:', 'COMMUNITY *2 NUMBER   PANEL = SUFFLX', 'UNINCORPORATED AREAS ` eeces: 450287   OOGu 6', 'e', '0', 'MAP NUMBER', '48201C0060 G', 'EFFECTIVE DATE:', 'SEPTEMBER 28, 1990', \"'ederal\", 'Emergency Management Agency'])\n",
      "Could not find key G for current tile from options [0], using closest date from all keys\n",
      "Using 1990-09-28 00:00:00 for tile date 1990-09-28 00:00:00\n",
      "Processing 48201C0330H--------------------------------------------------\n",
      "([datetime.datetime(1992, 9, 30, 0, 0)], ['HARRIS COUNTY', 'TEXAS AND', 'INCORPORA TED AREAS', 'PANEL 330 OF 390', '(SEE MAP [NDEX Fc3 PANELS NOT PRINTED)', 'CONTAINS:', 'COMRHuNItY 2a NUMBED   PANEL = SUFELX', 'HCUSTON, CTY OF *Aa00480296   0330 #', 'PASADENA, CITY OF\"480307   03J0', 'SOUTH HOUSTCN, CIY OF 480311   0330', 'Nctice To User: The MAP NUMBER sh;cwn beiow', 'shculdbe usedwhen piacing map orders; the COMIU', 'Nity NUMBER sicwn above should be used on isur', 'arca epolications for the subject cumzunity:', 'L\"', 'MaP NUMBER', '48201C0330 #', 'MAP REVISED:', 'SEPTEMBER 30, 1992', 'Federal Emergency Managernent Agency', 'The'])\n",
      "Using 1992-09-30 00:00:00 for tile date 1992-09-30 00:00:00\n"
     ]
    },
    {
     "name": "stderr",
     "output_type": "stream",
     "text": [
      "01/29/2025 18:48:39 - WARNING - rasterio._env -   CPLE_AppDefined in D:/RECTDNN/uncompress_2/48201C0870L.tif: _TIFFVSetField:D:/RECTDNN/uncompress_2/48201C0870L.tif: Null count for \"Tag 32934\" (type 4, writecount -3, passcount 1)\n"
     ]
    },
    {
     "name": "stdout",
     "output_type": "stream",
     "text": [
      "Processing 48201C0870L--------------------------------------------------\n",
      "([datetime.datetime(2007, 6, 18, 0, 0)], ['41uuun CUOi1 1', 'TEXAS', 'AND INCORPORATED AREAS', 'PANEL 870 OF 1150', '(SEE   MAP   INDEX   FOR   FIRM   PANEL   LAYOUT)', 'CONTAINS', 'COMMUNTY_ NumbeR > PANEL_  sufRX', '2', 'HOUSTON, CITY OF 480206 0870', 'Notico to Usor: Tho Map Numbar shown bolow should b0 usod', 'when   placing   mop]orders;  the  Community   Number  shown', 'above should bo Usad on insuranca  applications tor tha subjact', 'community:', 'MAP NUMBER', '48201C0870L', 'MAP REVISED:', 'JUNE 18, 2007', 'Federal Emergency Management Agency', 'DEPART', 'GECUR', 'EAND'])\n",
      "Using 2013-10-16 00:00:00 for tile date 2007-06-18 00:00:00\n",
      "Processing 48201C0255J--------------------------------------------------\n",
      "([datetime.datetime(1996, 11, 6, 0, 0)], ['HARRIS COUNTY', 'TEXAS AND', 'INCORPORATED   AREAS', 'PANEL 255 OF 1135', '{SEE MAP INDEX FOR PANELS NOT PRINTED}', 'CONIAINS:', \"COMMUNTY _ NLRER ' PANEL   SUFFIX\", 'KARRIS COUNTY,', \"UNINCORPORATERSARFAS 40287 '  0255\", 'L', 'Map NUMBER', '48201C0255', 'Map  REVISED:', 'NOVEMBER 6, 1996', 'Federal Emergency Management Agency'])\n",
      "Using 2000-04-20 00:00:00 for tile date 1996-11-06 00:00:00\n",
      "Processing 48201C0230J--------------------------------------------------\n",
      "([datetime.datetime(1996, 6, 29, 0, 0)], ['HARRIS COUNTY', 'TEXAS AND', 'INCORPORATED   AREAS', 'PANEL 230 OF 1135', '(SEE MAP INDEX FCF PANELS NOT PRINTED}', 'CONINNS:', 'CCNLUNIY_NULBcR  PANEL   SLFFIX', 'HAPAC Coun', 'JuNCCRPORATA AALAS   {0237   03', 'HOUSWN Uly ,05 480296  4230', \"TOMDALL Ciy 8cn  '803 03\", 'U', 'Map NUMBER', '48201C0230 )', 'MAP REVISED:', 'NOVEMEER 6, 1996', 'Federal Erergency Management Azenc;'])\n",
      "Using 1996-11-29 00:00:00 for tile date 1996-06-29 00:00:00\n",
      "Processing 48201C0430K--------------------------------------------------\n",
      "([datetime.datetime(2000, 4, 20, 0, 0)], ['HARRIS COUNTY', 'TEXAS AND', 'INCORPORATEDAREAS', 'PANEL 430 OF 1135', '{SEE MAD INDEX FOR FANELS NOT PRINTED)', 'CONTAINS:', 'COMMUNITYaSCMBER   PANEL   SUFFIX', 'HARRIS cul', 'UNINCORPCONED AHEAS   430267   13', 'HOUSTONGv & 43j796  043:', '0n', 'MAP  NUMBER', '48201c0430 K', 'MAP REVISED:', 'APRIL 20, 2000', 'Federal Emergency Management Agency'])\n",
      "Could not find key K for current tile from options ['L', 'M', 0], using closest date from all keys\n",
      "Using 1996-11-29 00:00:00 for tile date 2000-04-20 00:00:00\n"
     ]
    },
    {
     "name": "stderr",
     "output_type": "stream",
     "text": [
      "01/29/2025 18:48:58 - WARNING - rasterio._env -   CPLE_AppDefined in D:/RECTDNN/uncompress_2/48201C0745L.tif: _TIFFVSetField:D:/RECTDNN/uncompress_2/48201C0745L.tif: Null count for \"Tag 32934\" (type 4, writecount -3, passcount 1)\n"
     ]
    },
    {
     "name": "stdout",
     "output_type": "stream",
     "text": [
      "Processing 48201C0745L--------------------------------------------------\n",
      "Could not find date in ['Tifun ~UOIa1 1', 'TEXAS', 'AND INCORPORATED AREAS', 'PANEL 745 OF 1150', '(SEE   MAP   INDEX   FOR   FIRM   PANEL   LAYOUT)', 'CONTAINS:', '2', 'COMMUNITY WMBER = PANEL _> SVFRX', '3', 'HAUMISCOPUYATED AREASx 480287 x 0745', 'BAYTOWN; CITY OF 485455 0745 L', 'HOUSTON, CITY OF 480296 0745 L', 'y', 'Notice to Usar: The Map Number shown balow should be used', 'whan   placing   map  orders;  the  Community  Mumber   shown', 'above should b0 used on insuranco applications for the subject', 'community.', 'MAP NUMBER', '48201C0745L', 'MAP REVISED:', 'TTTT', 'AND', 'JUNE 18, 2007', 'lLNTT', 'Federal Emergency Management Agency', 'Tho', 'OEPARTA', 'SECUR'], trying to use L\n",
      "Processing 48201C0205J--------------------------------------------------\n",
      "([datetime.datetime(1996, 11, 6, 0, 0)], ['HARRIS COUNTY,', 'TEXAS AND', 'INCORPORATED   AREAS', 'PANEL 205 OF 1135', '(SEE MAP INDEX FOR FANELS NOT PRINTED)', 'CCNTAINS:', 'COMMUNITYREJNBER   PANEL   SUFFIX', 'KARRIS COUNTX', 'UNNCCRPCRAIED AREAS  480287  0z05', '1)', 'Map NUMBER', '48201C0205 }', 'MAP REVISED:', 'NOVEMBER 6, 1996', 'Federal Emergency Management Agency'])\n",
      "Using 1996-11-29 00:00:00 for tile date 1996-11-06 00:00:00\n"
     ]
    },
    {
     "name": "stderr",
     "output_type": "stream",
     "text": [
      "01/29/2025 18:49:07 - WARNING - rasterio._env -   CPLE_AppDefined in D:/RECTDNN/uncompress_2/48201C0445L.tif: _TIFFVSetField:D:/RECTDNN/uncompress_2/48201C0445L.tif: Null count for \"Tag 32934\" (type 4, writecount -3, passcount 1)\n"
     ]
    },
    {
     "name": "stdout",
     "output_type": "stream",
     "text": [
      "Processing 48201C0445L--------------------------------------------------\n",
      "([datetime.datetime(2007, 6, 18, 0, 0)], ['TifLAD DUOi\" 1 1', 'TEXAS', 'AND INCORPORATED AREAS', 'PANEL 445 OF 1150', '(SEE   MAP   INDEX   FOR   FIRM   PANEL  LAYOUT)', 'CONTAINS _', 'CQMMUNITY_ NUMBER _  PANEL_> SUFFX ', 'HARRIS COUNTY', 'UNINCCRPORATED AREAS 480287 0445', 'JERSEY VILLAGE CITY OF 480300 0445 L', 'HOUSTON; CITY OF 480298 0445 L', 'Notice to User: The Map Number shown below should be usad', 'when', 'placing   map   orders;   the  Community   Number   shown', 'above should be usod on insuranco applications tor the subject', 'community:', 'onrMA MARNNUMBER', '48201C0445L', 'MAP REVISED:', 'JUNE 18, 2007', 'Federal Emergency Management Agency', 'Tho', 'SEC', 'AND'])\n",
      "Using 1900-01-01 00:00:00 for tile date 2007-06-18 00:00:00\n",
      "Using 1900-01-01 00:00:00 for tile date 2007-06-18 00:00:00\n",
      "CLOSEST DATE IN KEY IS TOO FAR (39249 days), using general instead (1900-01-01 00:00:00)\n"
     ]
    },
    {
     "name": "stderr",
     "output_type": "stream",
     "text": [
      "01/29/2025 18:49:12 - WARNING - rasterio._env -   CPLE_AppDefined in D:/RECTDNN/uncompress_2/48201C1105L.tif: _TIFFVSetField:D:/RECTDNN/uncompress_2/48201C1105L.tif: Null count for \"Tag 32934\" (type 4, writecount -3, passcount 1)\n"
     ]
    },
    {
     "name": "stdout",
     "output_type": "stream",
     "text": [
      "Processing 48201C1105L--------------------------------------------------\n",
      "([datetime.datetime(2007, 6, 18, 0, 0)], ['LM_AL)#1a 1 1', 'TEXAS', 'AND INCORPORATED AREAS', 'PANEL 1105 OF 1150', '(SEE   MAP   INDEX   FOR   FIRM   PANEL  LAYOUT)', 'CONTAINS: _', 'CQMMUNTY NUMBER > PANEL > suFaX', 'WW', 'SHOREACRES, CITY OF 485510 1105', 'LAPORTE CITY OF 485487 1105 ', 'PASADENA, CITY OF 480307 1105 L', 'SEABROOK CHTY OF 485507 1105 L', 'Notice to User: Tho Map Number shown below should be used', 'when   placing   map   orders;  the  Community  Number shown', 'above should be used an insurance   applications for the subject', 'community', 'MAP NUMBER', '48201C1105L', 'MAP REVISED:', 'JUNE 18 , 2007', 'Federal Emergency Management Agency', 'EPART', 'SECURI', 'LAND'])\n",
      "Using 2013-10-16 00:00:00 for tile date 2007-06-18 00:00:00\n",
      "Processing 48201C0305G--------------------------------------------------\n",
      "([datetime.datetime(1990, 9, 28, 0, 0)], ['HARRIS COUNTY,', 'TEXAS AND', 'INCORPORATED AREAS', 'PANEL 305 OF 390', '(SEE MAP INDEX FoR PANELS NOT PRINTED)', 'CoNtiiug', 'CoMMunITY4  NUMBER    PANEL   SUFFIX', 'UNINCORPORATED AREAs 72   480287   0305 G', 'MAP NUMBER', '48201C0305 G', 'EFFECTIVE DATE:', 'SEPTEMBER 28 , 1990', 'Federal Emergency Management', 'U', 'Agency'])\n",
      "Could not find key G for current tile from options ['K', 'L', 0, 'J'], using closest date from all keys\n",
      "Using 1990-09-28 00:00:00 for tile date 1990-09-28 00:00:00\n",
      "Processing 48201C0345G--------------------------------------------------\n",
      "([datetime.datetime(1990, 9, 28, 0, 0)], ['HARRIS COUNTY', 'TEXAS AND', 'INCORPORATED AREAS', 'PANEL 345 OF 390', '{SEE MAP INDEX FOR PANELS NOT PRINTED}', 'CONTAINS:', 'CQMMuNITY4  WUMBER   PANNEL = SUfFW', 'UNINCORPORATED AREAS {ee = 480287 : 0345 6', 'U', 'MAP NUMBER', '48201C0345 G', 'EFFECTIVE DATE:', 'SEPTEMBER 28, 1990', 'Federal Emergency Management Agency'])\n",
      "Using 1990-09-28 00:00:00 for tile date 1990-09-28 00:00:00\n"
     ]
    },
    {
     "name": "stderr",
     "output_type": "stream",
     "text": [
      "01/29/2025 18:49:24 - WARNING - rasterio._env -   CPLE_AppDefined in D:/RECTDNN/uncompress_2/48201C0935L.tif: _TIFFVSetField:D:/RECTDNN/uncompress_2/48201C0935L.tif: Null count for \"Tag 32934\" (type 4, writecount -3, passcount 1)\n"
     ]
    },
    {
     "name": "stdout",
     "output_type": "stream",
     "text": [
      "Processing 48201C0935L--------------------------------------------------\n",
      "Could not find date in ['ninuo CUUII 1,', 'TEXAS', 'AND INCORPORATED AREAS', 'PANEL 935 OF 1150', '(SEE   MAP   INDEX   FOR   FIRM   PANEL   LAYOUT}', 'CONTAINS:', 'COMMUNITY NUMBER _> PANEL _ = SUFFX', 'MORGANS POINT , CITY OF 480305 0035', 'BAYTOW, CITY OF 485456 0935', 'HARRIS COUNTY,', 'UNINCORPORATED AAEAS 480287 0935', 'WAPORTE, CITY OF 485487 0935', 'HOUSTON, CITY OF 480296 0935', 'WD', 'LL', 'JD', 'Notico to Usor: The Map Number shown balow should be usod', 'when   placing   map  ordars;   the  Community   Mumber  shown', 'above should b0 usod on insurance applications for the subject', 'community:', 'MAP NUMBER', '48201C0935L', 'MAP REVISED:', 'AND', 'JUNE 18 , 2007', 'Federal Emergency Management Agency', 'usod', 'JEPAL', 'SECUR)'], trying to use L\n",
      "Processing 48201C0230G--------------------------------------------------\n",
      "([datetime.datetime(1990, 9, 28, 0, 0)], ['HARRIS COUNTY', 'TEXAS AND', 'INCORPORATED AREAS', 'PANEL 230 OF 390', '(SEE MAP INDEX FOR PANELS NOT PRINTED)', 'CONTHINS:', 'COHMUNITY 2   NUMBER  PANEL = SUFFIX', 'HOUSTON, City OF480296   0230', 'KunteRS CREEK VILLage CIty OF   480298   0230', 'PINEy POinT WILLAGE, City OF  480308   0230', \"Spring VALLEY' CITY OF 480313   0230\", 'UNiNCORPORAtfD AREAS 480287   0230', 'V', 'MAP NUMBER', '48201C0230 G', 'EFFECTIVE DATE:', 'SEPTEMBER 28, 1990', 'Federal Emergency Management Agency'])\n",
      "Using 1992-09-30 00:00:00 for tile date 1990-09-28 00:00:00\n"
     ]
    },
    {
     "name": "stderr",
     "output_type": "stream",
     "text": [
      "01/29/2025 18:49:34 - WARNING - rasterio._env -   CPLE_AppDefined in D:/RECTDNN/uncompress_2/48201C0965L.tif: _TIFFVSetField:D:/RECTDNN/uncompress_2/48201C0965L.tif: Null count for \"Tag 32934\" (type 4, writecount -3, passcount 1)\n"
     ]
    },
    {
     "name": "stdout",
     "output_type": "stream",
     "text": [
      "Processing 48201C0965L--------------------------------------------------\n",
      "([datetime.datetime(2007, 6, 18, 0, 0)], ['TEXAS', 'AND INCORPORATED AREAS', 'PANEL 965 OF 1150', '(SEE   MAP   INDEX   FOR   FIRM   PANEL  LAYOUT)', 'CONTAINS:', 'COMMUNITY _ NUMBER > PANEL_> SuFFX', 'MORGANS POINT , CITY QF 480305 0965', 'HARAIS COUNTY', '5', 'UNINCORPORATED AREAS 480287 0965', 'Notice to User: Tha Map Number shown below should be used', 'when   placing   map  ordars;   the  Community   Numher   shown', 'above should be used on insuranco applications for the subjoct', 'community-', 'MAP NUMBER', '48201C0965L', 'MAP REVISED:', 'JUNE 18 , 2007', 'Federal Emergency Management Agency', 'JEPAL', 'SCU)', 'AND'])\n",
      "Using 2013-10-16 00:00:00 for tile date 2007-06-18 00:00:00\n",
      "Processing 48201C0705J--------------------------------------------------\n",
      "([datetime.datetime(1996, 11, 6, 0, 0)], ['HARRIS COUNTY,', 'TEXAS AND', 'INCORPORATED   AREAS', 'PANEL 705 OF 1135', '(SEE MAP iNDEX EOA PANELS NOT PRINTED}', 'CONTAINS:', 'COMMUNTY _ NUMBER   PANEL   SUFFIX', 'HARRIS CQ', 'UNINCORSCRATed 4REAS 480287  0705', 'HOUSTON NXOF 480296   0705', '0)', 'MAP NUMBER', '48201C0705 }', 'MAP REVISED;', 'NOVEMBER 6, 1996', 'Federal Emergency Management Agency'])\n",
      "Could not find key J for current tile from options [0, 'L', 'M'], using closest date from all keys\n",
      "Using 1996-11-29 00:00:00 for tile date 1996-11-06 00:00:00\n",
      "Processing 48201C0355H--------------------------------------------------\n"
     ]
    },
    {
     "name": "stderr",
     "output_type": "stream",
     "text": [
      "01/29/2025 18:49:44 - WARNING - rasterio._env -   CPLE_AppDefined in D:/RECTDNN/uncompress_2/48201C0485L.tif: _TIFFVSetField:D:/RECTDNN/uncompress_2/48201C0485L.tif: Null count for \"Tag 32934\" (type 4, writecount -3, passcount 1)\n"
     ]
    },
    {
     "name": "stdout",
     "output_type": "stream",
     "text": [
      "Couldn't find strict, now trying 482010355\n",
      "Could not find tile in detections 482010355\n",
      "Processing 48201C0485L--------------------------------------------------\n",
      "([datetime.datetime(2007, 6, 18, 0, 0)], ['4414uu0 JUI\" 1 1 ,', 'TEXAS', 'AND INCORPORATED AREAS', 'PANEL 485 OF 1150', '(SEE   MAP   INDEX   FOR   FIRM   PANEL   LAYOUT)', 'CONTAINS:', 'COMMUNITY NUMBER   PANEL _  SUFFIX', 'HUMBLE CITY OF 480297 0485', '7', 'HOUSTON, CITY OF 480296 0435', 'HAARIS COUNTY,', 'UNINCORPORATED AREAS 480287 0485', 'Notice to User: The Map Number shown below should bo used', 'when   placing   map  orders;  the  Community   Number   shown', 'above should be Used on insurance  applications for tho subject', 'communitv:', 'MAP NUMBER', '48201C0485L', 'MAP REVISED:', 'JUNE 18, 2007', 'Federal Emergency Management Agency', 'DEPARTM', 'SECU', 'AND'])\n",
      "Using 2013-10-16 00:00:00 for tile date 2007-06-18 00:00:00\n"
     ]
    },
    {
     "name": "stderr",
     "output_type": "stream",
     "text": [
      "01/29/2025 18:49:51 - WARNING - rasterio._env -   CPLE_AppDefined in D:/RECTDNN/uncompress_2/48201C0505L.tif: _TIFFVSetField:D:/RECTDNN/uncompress_2/48201C0505L.tif: Null count for \"Tag 32934\" (type 4, writecount -3, passcount 1)\n"
     ]
    },
    {
     "name": "stdout",
     "output_type": "stream",
     "text": [
      "Processing 48201C0505L--------------------------------------------------\n",
      "Could not find date in ['TEXAS', 'AND NNCORPORATED AREAS', 'PANEL 505 OF 1150', '(SEE   MAP   INDEX   FOR   FIRM   PANEL   LAYOUT)', 'CONTAINS _', 'COMMUNITY_ NUMBER = PANEL  _ = SUFEX', 'HUMBLE, CITY OF 480297 0505', 'HARRIS COUNTY', 'UNINCORPORATED AREAS 480287 0505', 'HOUSTON, CITY OF 480296 0505', 'Notico to Usor: The Map Number shown below should be used', 'whon   placing   map  orders;  tho   Community   Number   shown', 'above should bo usod on insurance applications for the subject', 'community:', 'MAP NUMBER', '48201CO5O5L', 'MAP REVISED:', 'AND', 'JUNE 18, 2007', 'Federal Emergency Management Agency', 'WL', 'OBPARTM', 'GECURE'], trying to use L\n"
     ]
    },
    {
     "name": "stderr",
     "output_type": "stream",
     "text": [
      "01/29/2025 18:49:57 - WARNING - rasterio._env -   CPLE_AppDefined in D:/RECTDNN/uncompress_2/48201C0460L.tif: _TIFFVSetField:D:/RECTDNN/uncompress_2/48201C0460L.tif: Null count for \"Tag 32934\" (type 4, writecount -3, passcount 1)\n"
     ]
    },
    {
     "name": "stdout",
     "output_type": "stream",
     "text": [
      "Processing 48201C0460L--------------------------------------------------\n",
      "([datetime.datetime(2007, 6, 18, 0, 0)], ['TEXAS', 'AND INCORPORATED AREAS', 'PANEL 460 OF 1150', '(SEE   MAP   INDEX   FOR   FIRM   PANEL   LAYOUT)', 'CONTAINS:', 'COMMUNITY NUMBER  PANEL _ % SUFFX', 'HARRIS COUNTY,', 'UNINCORPORATED AREAS 480287 0460', 'HOUSTON, CITY OF 480296 0460', 'MLLLHIL', 'LD', 'Notice to Usor: The Map Number shown below should be used', 'when   placing   map   orders;  the  Community   Number   shown', 'abovo should be used oninsurance', 'applications for the subject', 'community:', 'MAP NUMBER', '48201CO4GOL', 'MAP REVISED:', 'JUNE 18, 2007', 'Federal Emergency Management Agency', 'OEPARTA', 'SECL', 'AND'])\n",
      "Using 1900-01-01 00:00:00 for tile date 2007-06-18 00:00:00\n",
      "Using 1900-01-01 00:00:00 for tile date 2007-06-18 00:00:00\n",
      "CLOSEST DATE IN KEY IS TOO FAR (39249 days), using general instead (1900-01-01 00:00:00)\n"
     ]
    },
    {
     "name": "stderr",
     "output_type": "stream",
     "text": [
      "01/29/2025 18:50:03 - WARNING - rasterio._env -   CPLE_AppDefined in D:/RECTDNN/uncompress_2/48201C0585L.tif: _TIFFVSetField:D:/RECTDNN/uncompress_2/48201C0585L.tif: Null count for \"Tag 32934\" (type 4, writecount -3, passcount 1)\n"
     ]
    },
    {
     "name": "stdout",
     "output_type": "stream",
     "text": [
      "Processing 48201C0585L--------------------------------------------------\n",
      "([datetime.datetime(2007, 6, 18, 0, 0)], ['14uud CUUI 1 1 ,', 'TEXAS', 'AND INCORPORATED AREAS', 'PANEL 585 OF 1150', '(SEE   MAP   INDEX   FOR   FIRM   PANEL   LAYOUT)', 'CQNIAINS _', 'CQMMUNITY nuMber > PANEL_> sufpX', '0', 'HAGHISCOUNTYATED AAEAS  480287  0685', 'HOUSTON, CITY OF 480206 0585', '@', 'Notice to User: Tho Map Numnber shown balow should be used', 'when  plecing   map  ordors;  the  Communit}  Number  shown', 'abovo should bo Usad on insuranca   applications  for the subject', 'community', 'MAP NUMBER', '48201CO585L', 'MAP REVISED:', 'JUNE 18, 2007', 'Federal Emergency Management Agency', 'EPA', 'SEC', 'AND'])\n",
      "Using 2013-10-16 00:00:00 for tile date 2007-06-18 00:00:00\n",
      "Processing 48201C0735K--------------------------------------------------\n",
      "([datetime.datetime(2000, 4, 20, 0, 0)], ['HARRIS COUNTY,', 'TEXAS AND', 'INCORPORATED AREAS', 'PANEL 735 OF 1135', '{SEE MAD INDEX FOR FANELS NOT PRINTED}', 'CONTAINS', 'COMMUNTY_ NUMBER   PANEL   SUFFIX', 'HARR;S CCUNTY', 'UNiNCCaPE', 'ORATED ARFAS   480287   0735', 'U', 'MAP  NUMBER', '48201C0735 K', 'MAp REVISED:', 'aprIL 20, 2000', 'Federal Emergency Management Agency'])\n",
      "Using 2000-04-20 00:00:00 for tile date 2000-04-20 00:00:00\n",
      "Processing 48201C0330G--------------------------------------------------\n",
      "Could not find date in ['HARRIS COUNTY,', 'TEXAS END', 'INCO RPORATEDeN EAS', 'PANEL Jueeera 90', 'I0e Map inde* For FaneLs Foleride0)', 'Cqhas', 'CamuMNI', '\"qusiuy', 'Danoita', 'Mqu& #0', '5', 'ENuMbER', '6270icd3jd 6', 'Tective date', 'Jer 20 , 1990', 'Federal Encegcfey Man Getngnt Ageney', '6'], trying to use G\n",
      "Could not find tile extension in detections 48201C0330 - G, using default J from options dict_keys(['J', 'L', 'H', 0])\n",
      "Processing 48201C1070K--------------------------------------------------\n",
      "Could not find date in ['HARRIS COUNTY_', 'TEXAS AND', 'INCORPORATED AREAS', 'PANEL 1070   OF 1135', '(SEE MAP: INDEX FOR EANELS No, PRINTED}', 'CONTAINS:', 'COMMUNTYSUPER   PAVEL   SUFFIX', 'HARAIS COUNTY_', \"UNNCORPORATED AREAS 480287   '070\", 'HOUSTON, CiTY OF 480296 *70', 'WEBSTER Ciyic 485518  {07', 'Un', 'MAP NUMBER', '48201C1070 K', 'MAP REVISED:', 'APRIL 20, 2080', 'Federal Emergency Management Agency'], trying to use K\n",
      "Processing 48201C0335J--------------------------------------------------\n",
      "([datetime.datetime(1996, 11, 6, 0, 0)], ['HARRIS COUNTY', 'TEXAS AND', 'INCORPORATED  AREAS', 'PANEL 335 OF 1135', '{SEE MAP INDEX FOR PANELS NOT PRINTED;', 'CONTAINS:', 'COMMUNITY~ NLMBER : PANEL   SUFFIX', 'KAARS Coun}', 'UNINCCAPORATED LKeAs   480287   0336', 'U', 'MAp NUMBER', '48201C0335 J', 'MAP REVISED:', 'NOVEMBER  6, 1996', 'Federal Emergency Management Agency'])\n",
      "Could not find key J for current tile from options [0, 'L', 'H'], using closest date from all keys\n",
      "Using 1996-11-29 00:00:00 for tile date 1996-11-06 00:00:00\n",
      "Processing 48201C0860K--------------------------------------------------\n",
      "([datetime.datetime(2000, 4, 20, 0, 0)], ['HARRIS COUNTY,', 'TEXAS AND', 'INCORPORATED  AREAS', 'PANEL 860 OF 1135', '{SEE MAP INDEX FOR PANELS NOT PRINTED}', 'CONTAINS:', 'OMMLNT', 'Late', 'PANEL   SUFFIX', 'DousOvun OF 48280  V8dn', 'SOUHSIDE Fiac Cly & .   48022  *0', 'WVEST UNVERSOP_CF,', 'OF * Ra  O8kn', 'Fe', 'U', '48201CU86BER', 'MAP REVISED:', 'APRIL 20, 2000', 'Federal Emergency Management Agency'])\n",
      "Using 2000-04-20 00:00:00 for tile date 2000-04-20 00:00:00\n"
     ]
    },
    {
     "name": "stderr",
     "output_type": "stream",
     "text": [
      "01/29/2025 18:50:32 - WARNING - rasterio._env -   CPLE_AppDefined in D:/RECTDNN/uncompress_2/48201C0895L.tif: _TIFFVSetField:D:/RECTDNN/uncompress_2/48201C0895L.tif: Null count for \"Tag 32934\" (type 4, writecount -3, passcount 1)\n"
     ]
    },
    {
     "name": "stdout",
     "output_type": "stream",
     "text": [
      "Processing 48201C0895L--------------------------------------------------\n",
      "([datetime.datetime(2007, 6, 18, 0, 0)], ['LLML1a1 1', 'TEXAS', 'AND INCORPORATED AREAS', 'PANEL 895 OF 1150', '(SEE   MAP   INDEX   FOR   FIRM   PANEL  LAYOUT)', 'CONTAINS ', 'CQMMUNITY _NUMBER > PANEL _> SVFFX', '1', 'HOUSTON; CITY OF 480286 0895', 'WL', 'WuD', 'Notice to Usor: The Map Nunbar shown bolow should bo usod', 'whan   placing   map   ordors;   the  Community   Numnber  shown', 'above should be usod on insurance  applications for tho subjact', 'community', 'EPA', 'MAP NUMBER', '48201C0895L', 'MAP REVISED:', 'JUNE 18, 2007', 'Federal Emergency Management Agency', 'BECUI', 'AND'])\n",
      "Using 2013-10-16 00:00:00 for tile date 2007-06-18 00:00:00\n",
      "Processing 48201C0720J--------------------------------------------------\n",
      "([datetime.datetime(1996, 11, 6, 0, 0)], ['# U@  44v940m4940 MI@Mn6r', 'HARRIS COUNTY', 'TEXAS AND', 'INCORPORATED   AREAS', 'PANEL 720 OF 1135', '{SEE MAP INDEX FOR PANELS NOT PRINTED)', 'CONEAINS:', 'COMMUNITY NUMBER   PANEL   SUFFIX', 'HARRIS CQUI', 'UNINCURPGTUIED AREAS 430287  v20', 'HOUSTON, Gcl 480296  0,20', 'Ua', 'MAp NUMBER', '48201C0720', 'Map   REVISED:', 'NOVEMBER 6, 1996 ', 'Federal Emergency Management Agency'])\n",
      "Using 1996-11-29 00:00:00 for tile date 1996-11-06 00:00:00\n",
      "Processing 48201C0680J--------------------------------------------------\n",
      "([datetime.datetime(1996, 11, 6, 0, 0)], ['HARRIS COUNTY', 'TEXAS AND', 'INCORPORATEDAREAS', 'PANEL 680 UF 1135', '{SEE MAP INDEX TOR PANELS NOT PRINTED}', 'CONTAINS', 'COMMUNITY _ NUMBER   PANEL   SUFHIX', 'HAARIS LOlis', 'UNINCORPGRZTED AREXS   48\"28}   W55)', 'HOUSTON, e} OF 480296  0580', '0n', 'Map  NUMBER', '4820180680 )', 'MAP   REVISED:', 'NOVEMBER 6, 1996', 'Federal Emergency Management Agency'])\n",
      "Could not find key J for current tile from options ['K', 'L'], using closest date from all keys\n",
      "Using 2000-04-20 00:00:00 for tile date 1996-11-06 00:00:00\n",
      "Processing 48201C0655J--------------------------------------------------\n",
      "([datetime.datetime(1996, 11, 29, 0, 0)], ['HARRIS COUNTY,', 'TEXAS AND', 'INCORPORATED   AREAS', 'PANEL 655 OF 1135', '(SEE MAP INDEX FOR PANELS NOT PRINTED}', 'CONTAINS:', 'OMMUNITYRe NUT BER   PANEL   SUFFIX', 'OUSTON, CiTY OF 480296  C85S', 'Un', 'MAP NUMBER', '48201C0655 )', 'MAP REVISEB:', 'NOVEMBER &, 1996', 'Federal\"', 'Emergency Management Agency'])\n",
      "Could not find key J for current tile from options ['K', 'L', 'M', 0], using closest date from all keys\n",
      "Using 1996-11-29 00:00:00 for tile date 1996-11-29 00:00:00\n"
     ]
    },
    {
     "name": "stderr",
     "output_type": "stream",
     "text": [
      "01/29/2025 18:51:02 - WARNING - rasterio._env -   CPLE_AppDefined in D:/RECTDNN/uncompress_2/48201C0730L.tif: _TIFFVSetField:D:/RECTDNN/uncompress_2/48201C0730L.tif: Null count for \"Tag 32934\" (type 4, writecount -3, passcount 1)\n"
     ]
    },
    {
     "name": "stdout",
     "output_type": "stream",
     "text": [
      "Processing 48201C0730L--------------------------------------------------\n",
      "([datetime.datetime(2007, 6, 18, 0, 0)], ['1444AD JUUI 1 1', 'TEXAS', 'AND INCORPORATED AREAS', 'PANEL 730 OF 1150', '(SEE   MAP   INDEX   FOR   FIRM   PANEL  LAYOUT)', 'CONTAINS _', 'CQMMUNIIY Number = PANEL _ > SUFAX', '1', 'HGNISCOUNRYATED AREAS 480287  0730', 'Fww', 'L', 'QlD', 'Notica to User: The Map Number shown balow should be used', 'placing   map  orders;  the   Community  Number  shown', 'above should be usod on insuranco  applications tor tho subjoct', 'community:', 'MAP NUMBER', '48201C0730L', 'MAP REVISED:', 'JUNE 18 , 2007', 'Federal Emergency Management Agency', 'whon', 'QEPARTM', 'GECUR', 'AND'])\n",
      "Using 2013-10-16 00:00:00 for tile date 2007-06-18 00:00:00\n",
      "Processing 48201C1070J--------------------------------------------------\n",
      "([datetime.datetime(1996, 11, 6, 0, 0)], ['HARRIS CQUNTY', 'TEXAS AND', 'INCORPORATED  AREAS', 'PANEL 1070  OF 1135', '{SEE MAP INDEX FOR PANELS NOT PRINTED)', 'CONTANS:', 'COMMUNITY _NUMBER   PANEL   SUFFIX', 'HARFIS COUI', 'UNINCCRPORATEC ARE\"S  {50287 \"o', 'MOUSTC Cly Or .80796   1070', \"'EBSTER, GUCUE . 485516 107o\", '0)', 'MAP  NUMBER', '48201C1070', 'Map REVISED:', 'NOVEMBER 6, 1996', 'ederal Emergency Management Agency'])\n",
      "Using 1996-11-29 00:00:00 for tile date 1996-11-06 00:00:00\n"
     ]
    },
    {
     "name": "stderr",
     "output_type": "stream",
     "text": [
      "01/29/2025 18:51:14 - WARNING - rasterio._env -   CPLE_AppDefined in D:/RECTDNN/uncompress_2/48201C0395L.tif: _TIFFVSetField:D:/RECTDNN/uncompress_2/48201C0395L.tif: Null count for \"Tag 32934\" (type 4, writecount -3, passcount 1)\n"
     ]
    },
    {
     "name": "stdout",
     "output_type": "stream",
     "text": [
      "Processing 48201C0395L--------------------------------------------------\n",
      "([datetime.datetime(2007, 6, 18, 0, 0)], ['TEXAS', 'AND INCORPORATED AREAS', 'PANEL 395 OF 1150', '(SEE   MAP   INDEX   FOR   FIRM   PANEL   LAYOUT)', 'CONIAINS:_', 'COMMUNTY NUMBER > PANEL = SUFFX', '8', 'HAUNISCCOPNIYATED AREAS} [480287   0395', 'HOUSTON, CITY OF 480296 0395', 'MLLMI', 'WD', 'W', 'Notice t0 User: The Map Number shown below should be used', 'plecing   map   orders;   the  Community   Number   shown', 'above should be usod on insurance applications for the subject', 'community:', 'MAP NUMBER', '48201C0395L', 'MAP REVISED:', 'JUNE 18 , 2007', 'Federal Emergency Management Agency', 'Map', 'whon', 'OEPARTM', 'SECURE', 'AAND'])\n",
      "Using 1900-01-01 00:00:00 for tile date 2007-06-18 00:00:00\n",
      "Using 1900-01-01 00:00:00 for tile date 2007-06-18 00:00:00\n",
      "CLOSEST DATE IN KEY IS TOO FAR (39249 days), using general instead (1900-01-01 00:00:00)\n",
      "Processing 48201C0305J--------------------------------------------------\n",
      "([datetime.datetime(1996, 11, 6, 0, 0)], ['HARRIS  COUNTY_', 'TEXAS AND', 'INCORPORATED   AREAS', 'PANEL 305 OF 1135', '(SEE MAP INDEX FOR PANELS NoT PRINTED}', 'CONIAINS:', 'COMMUNTY_\"BER   PANE   SUFFIX', 'FARRIS CCUNN', 'UNINCORPORATEC AREAS   480287   (45', 'a', 'Map  NUMBER', '48201C0305 ]', 'Map REVISED:', 'NOVEMBER 6, 1996', 'Feder4/ Emergency Management Agency'])\n",
      "Using 1996-11-29 00:00:00 for tile date 1996-11-06 00:00:00\n"
     ]
    },
    {
     "name": "stderr",
     "output_type": "stream",
     "text": [
      "01/29/2025 18:51:23 - WARNING - rasterio._env -   CPLE_AppDefined in D:/RECTDNN/uncompress_2/48201C1005L.tif: _TIFFVSetField:D:/RECTDNN/uncompress_2/48201C1005L.tif: Null count for \"Tag 32934\" (type 4, writecount -3, passcount 1)\n"
     ]
    },
    {
     "name": "stdout",
     "output_type": "stream",
     "text": [
      "Processing 48201C1005L--------------------------------------------------\n",
      "([datetime.datetime(2007, 6, 18, 0, 0)], ['14L4A #UOJi 1 1', 'TEXAS', 'AND INCORPORATED AREAS', 'PANEL 1005 OF 1150', '(SEE   MAP   INDEX   FOR   FIRM   PANEL   LAYOUT)', 'CONTAINS:', 'Llwl |  coMmuNity NUMBER   PANEL _  SUFFX', 'HOUSTON; CITY OF 480286 1005', 'HARRIS COUNTY', 'UNINCORPORATED AREAS 480287 1005', 'E', 'E', 'Notice to User: The Map Number shown below should be used', 'when', 'placing   map  orders;   the  Community   Number  shown', 'above should be Used on insurance applitations for the subject', 'commurity:', 'MAP NUMBER', '48201C1005L', 'MAP REVISED:', 'JUNE 18, 2007', 'Federal Emergency Management Agency', 'MLULLL', 'DEPARTA', 'SECUR', 'AND'])\n",
      "Using 2013-10-16 00:00:00 for tile date 2007-06-18 00:00:00\n",
      "Processing 48201C0020J--------------------------------------------------\n",
      "Could not find date in ['HARRIS COUNTY', 'TEXAS AND', \"INCORPORATED' AREAS\", 'PANEL 20 OF 1135', '(SEE MAP INDEX FCR PANELS NoT PRINTED}', 'CONIAWS', 'COMMUNIY _ Nuber  PANEL   SUFFIX', 'HARRis COUNT', 'UNNCCRPORATOY ARLAs  480287   Jozv', 'U', 'MAp  NUMBER', '48201C0020', 'MAP REVISED:', '30\"', 'NOVEMBER  &, 1996', 'Federal Emergency Management Agency'], trying to use J\n",
      "Could not find tile extension in detections 48201C0020 - J, using default 0 from options dict_keys([0, 'L'])\n",
      "Processing 48201C0395M--------------------------------------------------\n",
      "Could not find date in ['TEXAS', 'AND INCORPORATED AREAS', 'PANEL 395 OF 1150', '(SEE MAP INDEX FOR FIRM PANEL LAYOUT)', 'CONTAINS:', 'COMMUNITY NUMBER   PANEL   SUFFIX', 'HARRIS COUNTY , 480287 0295 M', 'UNINCORPORATED AREAS', 'HOUSTON, CITY OF 480296 0395 M', 'Notice to User; The Map Number shown below should be used', 'when', 'placing   map  orders; the Community Number  shown', 'abave should be used on insurance applications for the subject', 'community.', 'MAP NUMBER', '48201CO395M', 'ND', 'MAP REVISED', '2', 'OCTOBER 16,2013', 'Federal Emergency Management Agency'], trying to use M\n",
      "Processing 48201C0280J--------------------------------------------------\n",
      "([datetime.datetime(1996, 11, 6, 0, 0)], ['HARRIS COUNTY', 'TEXAS AND', 'INCORPORATED   AREAS', 'PANEL 280  OF 1135', '(SEE MAP INDEX FC6; FANELS NOT PRINTED}', 'CONTAINS:', 'COMMUNiY', 'NUMBER   FANEL   SUFFIX', 'HAkRS COUNA', 'UNINCORPCFATED AAEAS 480227   {2#;', '0', 'Map NUMBER', '48201C0280 )', 'Map REVISED:', 'NOVEMBER 6, 1996', 'Federal Emergency Management Agency'])\n",
      "Could not find key J for current tile from options [0, 'L'], using closest date from all keys\n",
      "Using 1996-11-29 00:00:00 for tile date 1996-11-06 00:00:00\n",
      "Processing 48201C0245G--------------------------------------------------\n",
      "([datetime.datetime(1990, 9, 28, 0, 0)], ['HARRIS COUNTY', 'TEXAS AND', 'INCORPORATED AREAS', 'PANEL 245 OF 390', '{SEE MAP INDEX FOR PANELS NOT PAINTED)', 'CONTAINS:', 'COMMUNITY #  NUMBER ; PANEL = SUFFIX', 'houSTOn, CITY Of4an 480296   0245 [', 'JACNTO CltY, CiTY OF400299   8245', 'UNiNCOSPORATED AREAS 4B0287   0246', 'Un', 'MAP NUMBER', '48201C0245 G', 'EFFECTIVE DATE:', 'SEPTEMBER 28, 1990', 'Federal Emergency Management Agency'])\n",
      "Using 1992-09-30 00:00:00 for tile date 1990-09-28 00:00:00\n",
      "Processing 48201C0730J--------------------------------------------------\n",
      "([datetime.datetime(1996, 11, 29, 0, 0)], ['HARRIS  COUNTY,', 'TEXAS AND', 'INCORPORATED  AREAS', 'PANEL 730 OF 1135', '(SEE MAP INDEX FOR PANELS NOT PRINTED)', 'CCNTANS:', \"COMMUNITY _WMBER ' PANEL   SLFFIX\", 'KARAS COUMY', 'UNINCORPORATED  ARFAS 48926/  \"130', 'Un', 'MAp NUMBER', '4820180730 )', 'Map REVISED:', 'NOVEMBER &, 1996', 'Federal Emergency Management Agency', 'RNAAEAs'])\n",
      "Could not find key J for current tile from options [0, 'L', 'M'], using closest date from all keys\n",
      "Using 1996-11-29 00:00:00 for tile date 1996-11-29 00:00:00\n",
      "Processing 48201C0015H--------------------------------------------------\n",
      "([datetime.datetime(1992, 9, 30, 0, 0)], ['HARRIS COUNTY', 'TEXAS AND', 'INCORPORATED AREAS', 'PANEL 15 OF 390', '(SEE MAP INDEXFORPANELS NoT PRINTED)', 'CONTAINS:', 'CQMmunIIY  6e   WMeER   PaNeL > SUFFIX', \"UNincORPORATE? AREAS = 2i0700 430287   0315 ' . H\", 'Notice To User: The MAP NUMBER shown below shoufa be used', 'when placing map orders; the COMMIUNIIY NUMBER showvr}', 'above should be Ysed on insurance <pplications for the subject', 'conimunity', 'MAP NUMBER', '48201C00T5 H', 'MAP REVISED:', 'SEPTEMBER 30, 1992', 'Federal Emergency Management', 'Agency'])\n",
      "Could not find key H for current tile from options [0, 'L'], using closest date from all keys\n",
      "Using 1996-11-29 00:00:00 for tile date 1992-09-30 00:00:00\n"
     ]
    },
    {
     "name": "stderr",
     "output_type": "stream",
     "text": [
      "01/29/2025 18:51:59 - WARNING - rasterio._env -   CPLE_AppDefined in D:/RECTDNN/uncompress_2/48201C0170L.tif: _TIFFVSetField:D:/RECTDNN/uncompress_2/48201C0170L.tif: Null count for \"Tag 32934\" (type 4, writecount -3, passcount 1)\n"
     ]
    },
    {
     "name": "stdout",
     "output_type": "stream",
     "text": [
      "Processing 48201C0170L--------------------------------------------------\n",
      "([datetime.datetime(2007, 6, 18, 0, 0)], ['Tuuuo CUUIN1 1', 'TEXAS', 'AND INCORPORATED AREAS', 'PANEL 170 OF 1150', '(SEE   MAP   INDEX   FOR   FIRM   PANEL   LAYOUT}', 'CONTAINS:', '3', 'COMMUNITY_ NUMBER_  PANEL   SUFFIX', 'HARRIS COUNTY ,', 'VNINCORPORATED AREAS 480287 0170', 'M', 'Notice to Usar: Tho Map Mumber shown below should .be used', 'whan   placing   map  orders;   tho  Community   Number   shown', 'above should be used on insurancc applications for the subject', 'community', 'MAP NUMBER', '48201C0170L', 'MAP REVISED:', 'JUNE 18 , 2007', 'Federal Emergency Management Agency', 'DEPARTA', 'SECUR)', 'AND'])\n",
      "Could not find key L for current tile from options [0, 'M'], using closest date from all keys\n",
      "Using 2013-10-16 00:00:00 for tile date 2007-06-18 00:00:00\n",
      "Processing 48201C0690J--------------------------------------------------\n",
      "([datetime.datetime(1996, 11, 6, 0, 0)], ['HARRIS COUNTY', 'TEXAS AND', 'INCORPORATED   AREAS', 'PANEL 698 OF 1135', '(SEE MAP INDEX FOR PANELS NOT PRINTED}', 'CONTAINS:', 'CCMMUNITY _ NUMBEF   PANEL   SUFFIX', 'HOUSIONGD GF 480296  068C', '0n', 'Map  NUMBER', '4820180690 }', 'Map REViSED:', 'NOVEMBER 6,1996', 'Federal Exergency Management Agency'])\n",
      "Could not find key J for current tile from options ['K', 'L', 'M', 'N', 0], using closest date from all keys\n",
      "Using 1996-11-29 00:00:00 for tile date 1996-11-06 00:00:00\n",
      "Processing 48201C0155G--------------------------------------------------\n",
      "Couldn't find strict, now trying 482010155\n",
      "Could not find tile in detections 482010155\n",
      "Processing 48201C0740J--------------------------------------------------\n",
      "([datetime.datetime(1996, 11, 6, 0, 0)], ['HARRIS  COUNTY', 'TEXAS AND', 'INCORPORATED   AREAS', 'PANEL 740 OF 1135', '(SEE MAP INDEX FOR PANELS NOT PRINTED}', 'CONTAINS:', 'CCMMUNTYNUMBER   PANEL   SUFFIX', 'HAAAIS COUi', 'UNINCORPORATED AREAS   480287   0740', 'HOUSTON C3 OF 480296  @740', 'PoRTE 6tXOR  485487  C740', 'U)', 'Map NUMBER', '48201C0740', 'Map REVISED;', 'NOVEMBER 6, 1996', \"'ederal\", 'Emergency Management', 'Agency'])\n",
      "Using 2000-04-20 00:00:00 for tile date 1996-11-06 00:00:00\n",
      "Processing 48201C1085J--------------------------------------------------\n",
      "([datetime.datetime(1996, 11, 6, 0, 0)], ['HARRIS COUNTY,', 'TEXAS AND', 'INCORPORATED   AREAS', 'PANEL 1085 OF 1135', '(SEE MAP INDEX FOR PANELS NOT PRINTED)', 'CONTAINS:', 'COMMUNTYNMBER   PANEL   SUFFIX', 'EL L4GoCY ORY 485466  ic85', 'HARRIS COUNTY', 'UNINCCRPORATCD AREAS  48928;  1085', 'LA PCRTE,GTy Oa  485487   1OEE', \"PASADENA CI7oreata  480307   '085\", \"SEABRCOK  CitteC? aion 425507   '085\", 'SHOREACFES ClTr OF*4543551J 1085', 'TAYLOR', 'LAKE ILLAGE, CITY OF   486613   1065', 'U', 'Map  NUMBER', '48201C1085', 'MAp REVISED:', 'NOVEMBER 6, 1996', 'eral', 'Emergency Management Agency'])\n",
      "Could not find key J for current tile from options [0, 'L', 'M'], using closest date from all keys\n",
      "Using 1996-11-29 00:00:00 for tile date 1996-11-06 00:00:00\n"
     ]
    },
    {
     "name": "stderr",
     "output_type": "stream",
     "text": [
      "01/29/2025 18:52:20 - WARNING - rasterio._env -   CPLE_AppDefined in D:/RECTDNN/uncompress_2/48201C0915L.tif: _TIFFVSetField:D:/RECTDNN/uncompress_2/48201C0915L.tif: Null count for \"Tag 32934\" (type 4, writecount -3, passcount 1)\n"
     ]
    },
    {
     "name": "stdout",
     "output_type": "stream",
     "text": [
      "Processing 48201C0915L--------------------------------------------------\n",
      "([datetime.datetime(2007, 6, 18, 0, 0)], ['TEXAS', 'AND INCORPORATED AREAS', 'PANEL 915 OF 1150', '(SEE   MAP   INDEX   FOR   FIRM   PANEL   LAYOUT}', 'CONTAINS _', 'COMMUNITY NUMBER   PANEL _> SUFFX ', 'E', 'HOUSTON, CITY OF 480236 0915', 'SOUTHHOUSTONCITY OF 480311 0915', 'PASADENA, CITY OF 480307 0915', 'LL', 'MUII', 'WD', 'QD', 'JLI', 'Notico to User: The Map Number shown below should be used', 'wher}   placing  map  orders;  the Community  Number   shown', 'above should be Used on insurance  applications for the subject', 'communitv-', 'MAP NUMBER', '48201C0915L', 'MAP REVISED:', 'JUNE 18, 2007', 'Federal Emergency Management Agency', 'OBPARTM', 'SEC', 'AND'])\n",
      "Using 2013-10-16 00:00:00 for tile date 2007-06-18 00:00:00\n",
      "Processing 48201C0315H--------------------------------------------------\n",
      "COULD NOT FIND BOUNDS, USING IMAGE EXTENTS 48201C0315H\n",
      "([datetime.datetime(1992, 9, 30, 0, 0)], ['JELLFEXA Dfive', 'HARRIS COUNTY,', 'DarcridGge WaiVf', 'TEXAS AND', 'DLXBURY OxIv', 'INCORPORA TED AREAS', 'DXYAD DPIVE', '{FF', 'PANEL 315 CF 390', 'DaIYE', '{SEE MAP inor', 'FORPANELS Not PRiNTED}', '', 'GONINIKG:', 'WESI 4i36OAL @Z\"0iHHH CoMMuNizz k  NUMBER:', 'PAKEL   SuffIX', \"'IJUSTUY CiTY W*9 _ J8U2J0   U15\", 'MisSJumenk50? #eeM3CG   0}us', 'FCNTENELLE {BinFMEIi STANTORE CHTY Ci *   015', 'UMRLORPGRA\\'ED AR:AS 480287   \"3I=', 'DFNSMORE DR', 'ZONEX', '1', '23', 'Notite Toilser: The MAP NUIMAERshownbelowohouldbe u3ar', '3', 'when pfeclng mnap orders; the COMXVity NUMBER &hown', 'NE AE 9', 'Jorna saDuicbo srron jnbutance Jop ications lorthe subicr', 'comnatintu', '3lg', 'WaTFR ', 'Map NUMBER', 'y of Missouri City', '8', '1', '48201C0315 H', '480304', '3', '1 1 |', 'MAF REVISED:', 'SEPTEMBER 30, 1992', 'MIETTA', 'deral Emergency Management Agcncy', 'Jaghar', 'TRSRkOAD{', 'PACSPLE {'])\n",
      "Using 1992-09-30 00:00:00 for tile date 1992-09-30 00:00:00\n",
      "Processing 48201C1090K--------------------------------------------------\n",
      "([datetime.datetime(2000, 4, 20, 0, 0)], ['HARRIS COUNTY,', 'TEXAS AND', 'INCORPORATED  AREAS', 'PANEL 1090 OF 1135', '(SEE MAP INDEX FCR PANELS NOT PRINTED)', 'CONTANNS:', 'COMMUNTY _~#AUMBER PAVEL   ZUFEIX', 'MAFRIS COUNTY', 'UNINCORPORATEL A0CAS  480281  `Ce', 'HOUSTON CTY 08 48C298  `0c?', 'NASSAU B2y.CUXUF 435491 `Ocp', 'PAMDENACTYOSF 4803\"7  iC9q', 'WNEBSTER CiTy Opste  435510  JogC', 'U', 'MAP  NUMBER', '48201C1090 K', 'MAp REVISED:', 'APRIL 20, 2000', \"'ederal Emergency Management Agency\"])\n",
      "Could not find key K for current tile from options ['L', 'M', 0], using closest date from all keys\n",
      "Using 1996-11-29 00:00:00 for tile date 2000-04-20 00:00:00\n",
      "Processing 48201C0460J--------------------------------------------------\n",
      "([datetime.datetime(1996, 11, 6, 0, 0)], ['Loot   600 0902nnu4S #ani%', 'HARRIS COUNTY', 'TEXAS AND', 'INCORPORATED   AREAS', 'PANEL 460 . OF 1135', '(SEE MAP INDEX Fon PANELS NOT PRINTED}', 'CONTANS:', 'COMMUNTY _ NUMBER   PANEL   SUFFIX', 'HAaIS COE', 'UNINCORRORATED AREAS  480287  0460', 'HOUSTON  UTY Cf  480296  0460', '0n', 'Map  NUMBER', '48201C0460 ]', 'Map REVISED:', 'NOVEMBER 6, 1996', 'Federal Emergency Management Agency'])\n",
      "Could not find key J for current tile from options [0, 'L', 'M'], using closest date from all keys\n",
      "Using 1996-11-29 00:00:00 for tile date 1996-11-06 00:00:00\n",
      "Processing 48201C0395J--------------------------------------------------\n",
      "([datetime.datetime(1996, 11, 6, 0, 0)], ['HARRIS  COUNTY,', 'TEXAS AND', 'INCORPORATED    AREAS', 'PANEL 395 OF 1/35', '(SEE MAP INDEX FOR PANELS NOT PRINTED)', 'CONTAINS:', 'CQMMUNTYNUMBER   PANEL   SUFFIX', 'KARRIS COUNTY_', 'UMMNCCRPORATEC AFES 480287  0395', 'HCUSTCN, CITYEOF 480295   C395', '0)', 'HB2O1CU3BE8', 'MaP REVISEB;', 'NOVEMBER 6, 1996', 'ederal Emergency Management Agercy'])\n",
      "Using 2000-04-20 00:00:00 for tile date 1996-11-06 00:00:00\n",
      "Processing 48201C0185G--------------------------------------------------\n",
      "([datetime.datetime(1990, 9, 28, 0, 0)], ['HARRIS COUNTY', 'TEXAS AND', 'INCORPORATED AREAS', 'PANEL 185 OF 390', '(SEE MAP INDEX FoA PANELS Not PRINTED}', 'CONTAINS:', 'COMMUNITY 4 WUMBER   PANEL ` SUFFIX', 'hduston, CIty @F *ans 480296   0185', 'UNINCORPORATED AREAS * Va2}480257   0185 6', 'U)', 'MAP NUMBER', '48201C0185 G', 'EFFECTIVE DATE:', 'SEPTEMBER 28, 1990', 'Federal Emergency Management Agency'])\n",
      "Using 1990-09-28 00:00:00 for tile date 1990-09-28 00:00:00\n"
     ]
    },
    {
     "name": "stderr",
     "output_type": "stream",
     "text": [
      "01/29/2025 18:52:49 - WARNING - rasterio._env -   CPLE_AppDefined in D:/RECTDNN/uncompress_2/48201C0410L.tif: _TIFFVSetField:D:/RECTDNN/uncompress_2/48201C0410L.tif: Null count for \"Tag 32934\" (type 4, writecount -3, passcount 1)\n"
     ]
    },
    {
     "name": "stdout",
     "output_type": "stream",
     "text": [
      "Processing 48201C0410L--------------------------------------------------\n",
      "([datetime.datetime(2007, 6, 18, 0, 0)], ['1444A1U #JUi 1 1', 'TEXAS', 'AND INCORPORATED AREAS', 'PANEL 410 OF 1150', '(SEE   MAP   INDEX   FOR   FIRM   PANEL  LAYOUT)', 'CONTAINS;', 'J', 'Wwww | . coMMUNiYNUMBER   PANEL _  SUFFX', 'HARRIS COUNTY,', 'UMNCOAPORATED AREAS 480287 0410', 'HOUSTON, CITY OF 480296 0410', 'WWD', 'Notico to Usor: The Map Number shown below should be used', 'whon', 'placing   map  ordors;  tho   Community   Number   shown', 'abova should bo usod on insurance applioations for the subjact', 'community:', 'MAP NUMBER', '48201C0410L', 'MAP REVISED:', 'JUNE 18, 2007', 'Federal Emergency Management Agency', 'Tho', 'Map', 'EPARTA', 'SECI', 'AND'])\n",
      "Using 1900-01-01 00:00:00 for tile date 2007-06-18 00:00:00\n",
      "Using 1900-01-01 00:00:00 for tile date 2007-06-18 00:00:00\n",
      "CLOSEST DATE IN KEY IS TOO FAR (39249 days), using general instead (1900-01-01 00:00:00)\n",
      "Processing 48201C0360J--------------------------------------------------\n",
      "([datetime.datetime(1996, 11, 6, 0, 0)], ['HARRIS COUNTY', 'TEXAS AND', 'INCORPORATED   AREAS', 'PANEL 360 UF 1135', '(SEZ MAP INDEX FOR PANELS NOT PRINTED}', 'CONIAINS', 'COMMUNITY _ NUMBER   PANEL   SUFFIX', 'MARRIS COU', 'UNINCORPCRATED AREAS  481287  C360', '0', 'MAP NUMBER', '48201C0360', 'MAP REVISED:', 'NOVEMBER 6, 1996', 'Federal Emergency Management Agency'])\n",
      "Using 2000-04-20 00:00:00 for tile date 1996-11-06 00:00:00\n",
      "Processing 48201C0030G--------------------------------------------------\n"
     ]
    },
    {
     "name": "stderr",
     "output_type": "stream",
     "text": [
      "01/29/2025 18:53:01 - WARNING - rasterio._env -   CPLE_AppDefined in D:/RECTDNN/uncompress_2/48201C0665L.tif: _TIFFVSetField:D:/RECTDNN/uncompress_2/48201C0665L.tif: Null count for \"Tag 32934\" (type 4, writecount -3, passcount 1)\n"
     ]
    },
    {
     "name": "stdout",
     "output_type": "stream",
     "text": [
      "Couldn't find strict, now trying 482010030\n",
      "Could not find tile in detections 482010030\n",
      "Processing 48201C0665L--------------------------------------------------\n",
      "Could not find date in ['Aand Mee', 'TEXAS', 'AND INCORPORATED AREAS', 'PANEL 665 OF 1150', '(SEE   MAP   INDEX   FOR   FIRM   PANEL  LAYOUT)', 'CONTAINS _', 'Ewl :communty_ NUMBER   PANEL _  SUFFX', 'HOUSTON, CITY OF 480296 0665', 'SPRING VALLEY, CITY OF 480313 0665', 'HILSHIRE VILLAGE; CITY OF 480295 0665', 'HUNTERS CREEK VILLAGE CITY', 'OF 480298 C665', 'M', 'Notice to User: The Map Number chown below should be Used', 'when   placing  map  orders;   tho  Community   Number   shown', 'above should be Usad on insuranco applications for tho subject', 'community', 'MAP NUMBER', '48201C0665L', 'MAP REVISED:', 'AND', 'JUNE 18, 2007', 'Federal Emergency Management Agency', 'LLLHIHE', 'OEPARTM', 'SECL_'], trying to use L\n",
      "Could not find tile extension in detections 48201C0665 - L, using default K from options dict_keys(['K', 'M', 'J'])\n",
      "Processing 48201C0265G--------------------------------------------------\n",
      "([datetime.datetime(1990, 9, 28, 0, 0)], ['HARRIS COUNTY,', 'TEXAS AND', 'INCORPORA TED AREAS', 'PANEL 265 OF 390', '(SEE MAP INDEX For PANELS NGIPRiATED)', 'CONIAIS:', 'ComMunuiy % * Naer   PangIe asufelX', 'HouStON city 0 #   48073 *230265', '480287 4 0z05', 'MAP NUMBER', '48201C0265 G', 'EFFECTIVE DATE:', 'SEPTEMBER 28, 1990', 'Federal Emergency Management', '1', '8', 'Agency'])\n",
      "Using 1990-09-28 00:00:00 for tile date 1990-09-28 00:00:00\n",
      "Processing 48201C0290G--------------------------------------------------\n",
      "Could not find date in ['HARRIS CQUNTY ,', 'TEXAS AND', 'INCORPORATED AREAS', 'PANEL 290-0E2 90', '(Se e MAP indexfotenels Notshinte', 'CONTAINS', 'CoMMunIIY 4 WumbeRENis * Sui', \"GalenA Pah' cina R {03?]\", \"Hquston ciy 0 @  9 '40246\", \"Jacinto Citt  Cin 0322   'H0ngo\", \"Pasadem: (& 0p3 'aojot\", 'Map MURABER', '4820180290 G', 'Effective date:', 'SEPTEMBEE328 , 1990', 'Federat #anergency Management Agency', '2', '{'], trying to use G\n",
      "Processing 48201C0090G--------------------------------------------------\n",
      "([datetime.datetime(1990, 9, 28, 0, 0)], ['HARRIS COUNTY', 'TEXAS AND', 'INCORPORATED AREAS', 'PANEL %0 OF 390', '(SEE MAP iNDEX FOA PANELS Not PAINTED)', 'CONTAINS;', 'ComrauNItY 9   NUMBER   PANEL   SUFFUX', 'UNINCORPURATED AREAS / /3 7480287   009C 6', '(', 'MAP NUMBER', '48201C0090 G', 'EFFECTIVE DATE:', 'SEPTEMBER 28 , 1990', \"'ederal Erergency Management Agency\"])\n",
      "Could not find key G for current tile from options [0, 'L'], using closest date from all keys\n",
      "Using 1996-11-29 00:00:00 for tile date 1990-09-28 00:00:00\n",
      "Processing 48201C0435J--------------------------------------------------\n",
      "([datetime.datetime(1996, 11, 6, 0, 0)], ['HARRIS COUNTY', 'TEXAS AND', 'INCORPORATED   AREAS', 'PANEL 435 OF 1135', '(SEE MAP INDEX FOR PANELS NOT PRINTED}', 'CONTANS;', 'COMMUNTYNUMBER   FANEL   SuFFIX', 'KARRIS CCu', 'UNINCORPORATED AFEAS  480287   (435', 'FCUSTON, CX CF` 480296  4435', '(n', 'MAP  NUMBER', '4820180435', 'MAp REVISED:', 'NOVEMBER 6, 1996', 'Federal Emergency Management Agency'])\n",
      "Could not find key J for current tile from options [0, 'L', 'M'], using closest date from all keys\n",
      "Using 1996-11-29 00:00:00 for tile date 1996-11-06 00:00:00\n",
      "Processing 48201C0315J--------------------------------------------------\n",
      "([datetime.datetime(1996, 11, 6, 0, 0)], ['HARRIS COUNTY,', 'TEXAS AND', 'INCORPORATED  AREAS', 'PANEL 315 OF 1735', '(SEE MAP INDEX FOR PANELS NOT PRINTED)', 'CCNTANS:', 'COMMUNTYABER   PANEL   SUFFIX', 'HARRIS COUNT ', 'UNNCORPCRATFO AREAS  480287 #31', '-Douncvddi #&220 0315', 'IMBLL, CTYJ 4882? 6315', '0', 'MAP  NUMBER', '48201C0315', 'MaP REVISED:', 'NOVEMBER 6, 1996', 'Federal Emergency Mansgemen! Agency'])\n",
      "Could not find key J for current tile from options ['K', 'L', 'H', 0], using closest date from all keys\n",
      "Using 1996-11-29 00:00:00 for tile date 1996-11-06 00:00:00\n",
      "Processing 48201C0120J--------------------------------------------------\n",
      "([datetime.datetime(1996, 11, 29, 0, 0)], ['HARRIS COUNTY', 'TEXAS AND', 'INCORPORATED   AREAS', 'PANEL 120 OF 1135', '{SEE MAP INDEX FOH PANELS NOT PRINTED:', 'CONIAINS', 'COMMUNITY_ LUMBER   PANEL   SUEFIX', 'HarRIS CUNTY,', 'UMINCCAPORATLECAREAS   480287  0120', 'U', 'MAp  NUMBER', '48201C0120', 'Map REVISED:', 'NOVEMBER &, 1996', 'Federal Emergency Management Agency'])\n",
      "Using 1996-11-29 00:00:00 for tile date 1996-11-29 00:00:00\n",
      "Processing 48201C0005G--------------------------------------------------\n",
      "([datetime.datetime(1990, 9, 28, 0, 0)], ['HARRIS COUNTY', 'TEXAS AND', 'INCORPORATED AREAS', 'PANEL 5 OF 390', '(SEE MAP INDEX', 'FoR PANELS NOT PRINTED}', 'CONTAINS:', 'COMMUNITY0  NUMBER   PANEL   SUFFLX', 'UNINCOAPORATED AREAS , 24n 480267/  0005 6', 'U', 'Map NUMBER', '48201C4085 &', 'EFFECTIVE DATE:', 'SEPTEMBER 28, 1990', 'Federal Emergency Management Agency'])\n",
      "Using 1992-09-30 00:00:00 for tile date 1990-09-28 00:00:00\n",
      "Processing 48201C0465K--------------------------------------------------\n",
      "([datetime.datetime(2000, 4, 20, 0, 0)], ['HARRIS COUNTY', 'TEXAS AND', 'INCORPORATED   AREAS', 'PANEL 465 OF 1135', '(SEF MAP INDEX FoRPANFIS NoT PRINTED}', 'CONTAINS', 'COMMUNTY _~NWbER PANEL   SUFFIX', 'HOUSTCN Cin @F 480296  0456', 'HARRS COUNT', 'UNINCORFCRAXFO AaEAS  480787   Viss', 'U', 'MAP  NUMBER', '48201C0465 K', 'MaP   REVISED:', 'APRIL 20, 2000', 'Federal Emergency Management Agency'])\n",
      "Using 2000-04-20 00:00:00 for tile date 2000-04-20 00:00:00\n",
      "Processing 48201C0830J--------------------------------------------------\n",
      "([datetime.datetime(1996, 11, 6, 0, 0)], ['HARRIS COUNTY', 'TEXAS AND', 'INCORPORATED   AREAS', 'PANeL 830 OF 1135', '(SEC MAP INDEX FOR RANELS NOT PRINTED}', 'CONTAINS:', 'COMMUNTYMBER   PANEL   SUFFIX', 'NARTS CoUui', 'UNNcUkPURRTEV AREAS  48120?  0030', 'HOJSTON,CMt 0F 480726  0830', 'Un', 'Map  NUMBER', '4828/c0830', 'MAP REVISED:', 'NOVEMBER 6, 1996', 'Federal Emergency Management Agency'])\n",
      "Could not find key J for current tile from options ['K', 'L', 0], using closest date from all keys\n",
      "Using 1996-11-29 00:00:00 for tile date 1996-11-06 00:00:00\n",
      "Processing 48201C0315G--------------------------------------------------\n",
      "Could not find date in ['HARRIS CQUNTY,', 'TEXAS AND:', 'INCORPORA TED ARES', 'PANEL 315 ', '(see MaP index Foa PANELS Not PiIltID', 'CONINNS:', 'COMMVNIIl 4   #wiL', 'Moustom citt 0i @  340790', 'Vanicoaporated 40l32 400701   01i', '6', 'Mpniquree', 'Effecung DATE:', 'SEPUI217z8 , 1990', 'Fedenl Emergency Management', 'ncy', '8'], trying to use G\n",
      "Could not find tile extension in detections 48201C0315 - G, using default K from options dict_keys(['K', 'L', 'H', 0])\n",
      "Processing 48201C0535J--------------------------------------------------\n",
      "([datetime.datetime(1996, 11, 6, 0, 0)], ['HARRIS COUNTY', 'TEXAS  AND', 'INCORPORATED   AREAS', 'PANEL 535 OF 1135', '{SEE MAP INLEX FOR PANELS NOT PRINTEDi', 'CONTAINS:', 'COMMUNITY4NUMBER  PANEL   SUFFIX', 'KARRIS COUNTY', 'UNINCCAPORATED AREAS 280287  0535', 'U', 'MUZUICU5BeR', 'MAP REVISED:', 'NOVEMBER 6, 1996', 'Federal', 'Emergency Management', 'Agency'])\n",
      "Could not find key J for current tile from options [0, 'L'], using closest date from all keys\n",
      "Using 1996-11-29 00:00:00 for tile date 1996-11-06 00:00:00\n",
      "Processing 48201C0615J--------------------------------------------------\n",
      "([datetime.datetime(1996, 11, 6, 0, 0)], ['HARRIS COUNTY', 'TEXAS AND', 'INCORPORATED   AREAS', 'PANEL 615 UF 1135', '(SEE MAP INDEX TOk FANELS NOT PRINTED)', 'CONTAINS:', 'COMMUNTY NUMBER   PANEL   SUFFIX_', 'KARRIS COUI', 'UNINCORPORATED ARFAS   480287  CG1S', 'HOUSTON Gyc 480296  Le1s', 'In', 'MAP NUMBER', '48201C0615 )', 'Map REVISED:', 'NoveMBER 6, 1996', 'Federal Emergency Management Agency'])\n",
      "Could not find key J for current tile from options [0, 'L'], using closest date from all keys\n",
      "Using 1996-11-29 00:00:00 for tile date 1996-11-06 00:00:00\n",
      "Processing 48201C0170G--------------------------------------------------\n",
      "([datetime.datetime(1990, 9, 28, 0, 0)], ['HARRIS COUNTY', 'TEXAS AND', 'INCORPORATED AREAS', 'PANEL 170 OF 390', '(SEE MAP iNDEX ForPANELS Not PAINTED)', 'CONTAINS:', 'COMMUNITY 8 NUMBER   PANEL  SUFEIX', 'UNiNcORPORATED AREAS \"  aete 480287   0170 6', 'La', 'MAP NUMBER', '48201C01 70', 'EFFECTIVE DATE:', 'SEPTEMBER 28, 1990', 'Federal Emergency Management', 'Agercy'])\n",
      "Could not find key G for current tile from options [0, 'M'], using closest date from all keys\n",
      "Using 1996-11-29 00:00:00 for tile date 1990-09-28 00:00:00\n"
     ]
    },
    {
     "name": "stderr",
     "output_type": "stream",
     "text": [
      "01/29/2025 18:54:11 - WARNING - rasterio._env -   CPLE_AppDefined in D:/RECTDNN/uncompress_2/48201CSTD1.tif: TIFFFetchNormalTag:ASCII value for tag \"ImageDescription\" contains null byte in value; value incorrectly truncated during reading due to implementation limitations\n"
     ]
    },
    {
     "name": "stdout",
     "output_type": "stream",
     "text": [
      "Processing 48201CSTD1--------------------------------------------------\n",
      "COULD NOT FIND BOUNDS, USING IMAGE EXTENTS 48201CSTD1\n",
      "Couldn't find strict, now trying 482011\n",
      "Could not find tile in detections 482011\n",
      "Processing 48201C0710J--------------------------------------------------\n",
      "([datetime.datetime(1996, 11, 29, 0, 0)], ['HARRIS COUNTY', 'TEXAS AND', 'INCORPORATED   AREAS', 'PANEL 710 OF 1135', '{SEE MAP INDEX FCn}', 'PANELS NoT PRINTED)', 'CONAINS:', 'COMMUNITY NUMBER   PANEL   SUFFIX', 'AARRIS CCUI', 'UNINCORPCRATED MLAS  480287  OT1o', 'HOUSTON Uto5 480296  \"x1o', 'U}', 'Map  NUMBER', '4820/C0710 ]', 'MAp REVISED:', 'NOVEMBER &, 1996', 'Federal Emergency Management Agency'])\n",
      "Using 1996-11-29 00:00:00 for tile date 1996-11-29 00:00:00\n",
      "Processing 48201C0310J--------------------------------------------------\n",
      "([datetime.datetime(1996, 11, 6, 0, 0)], ['HARRIS COUNTY', 'TEXAS AND', 'INCORPORATED   AREAS', 'PANEL 310 OF 1135', '(SEE MAP INDEX FORPANELS NOT PRINTED}', 'CONTAINS:_', 'COMMUNTY_ NUMBER   PANEL   SUFFIX', 'HARRIS COUNTY_', 'UNINCORPORATED AREAS  480287   0310', 'KOUSTON, CITY OF 480296   0310', 'U)', 'MAP  NUMBER', '48201C0310 J', 'MAP REVISED:', 'NOVEMBER  6, 1996', 'Federal Emergency Management Agency'])\n",
      "Could not find key J for current tile from options [0, 'L', 'G', 'H'], using closest date from all keys\n",
      "Using 1996-11-29 00:00:00 for tile date 1996-11-06 00:00:00\n",
      "Processing 48201C0635K--------------------------------------------------\n",
      "([datetime.datetime(2000, 4, 20, 0, 0)], ['HARRIS COUNTY,', 'TEXAS AND', 'INCORPORATED   AREAS', 'PANEL 635 OF 1135', '(SEE MAP INDEX FQB PANELS NOT PRINTED}', 'CONTAINS', 'CCMMUNITY_ NUMBER  PANEL   SUFFX', \"HOUSToN ETx &F 480296  '526\", 'SFRSFY MOLACE,GY OF ^3u30   0635', 'HARRIS', 'UUNINC', 'CRATED AREAS  480287   3.35', 'I', 'MAP  NUMBER', '48201C0635 K', 'MAp  REVISED:', 'APRIL 20, 2000', 'Federal Emergency Management Agency'])\n",
      "Could not find key K for current tile from options ['L', 'M'], using closest date from all keys\n",
      "Using 2013-10-16 00:00:00 for tile date 2000-04-20 00:00:00\n",
      "Using 2013-10-16 00:00:00 for tile date 2000-04-20 00:00:00\n",
      "CLOSEST DATE IN KEY IS TOO FAR (4927 days), using general instead (2013-10-16 00:00:00)\n",
      "Processing 48201C0330J--------------------------------------------------\n",
      "([datetime.datetime(1996, 11, 29, 0, 0)], ['HARRIS COUNTY', 'TEXAS AND', 'INCORPORATED   AREAS', 'PANEL 330 OF 1135', '(SEF MAP INDEX FOR RANELS NOT PRINTFD}', 'CONTNNS', 'COMMUNTY NUMBER   PANEL   SUFFIX', 'HARRIS COUNT', 'UNINCORPORATLO AKEAS   480287   6230', 'HOUSTON CI7  ,E 480296   6330', 'L', 'MAP NUMBER', '48201C0330 J', 'MAP REVISED:', 'NOVEMBER &,1996', 'Federal Emergency Management Agency'])\n",
      "Using 2000-04-20 00:00:00 for tile date 1996-11-29 00:00:00\n",
      "Processing 48201C0335H--------------------------------------------------\n",
      "([datetime.datetime(1992, 9, 30, 0, 0)], ['HARRIS COUNTY', 'TEXAS AND', 'INCORPORATED AREAS', 'PANEL 335 UF 390', '{SEE MAP INDEX FOR PANELS NOT PRINTED)', 'CONTAINS:', 'Comhunity 0 NUMBEp   PANEL   SQFFIX', 'DEER PARK, CITY OF Gia   480291   0335 h', 'LA PORTE, CITY OFx 485487   0335 #', \"PASADENA , CITY QF 480307   0335' #\", 'UNINCORPORATED AREAS 460287   0335 H', 'Notice To User: Tha MA? NUMBER shown belcw', 'should be used when placirg rnap orders;thgCOmmv', 'NiTY NUMBER showr above sioutd be used on insur:', 'Fe', 'apptications Ior the sunject ccmmunity.', 'MAP NUMBER', '48201C0335 K', 'MAP REVISED:', 'SEPTEMBER 30, 1992', 'Federal Emergency Management Agency'])\n",
      "Using 1992-09-30 00:00:00 for tile date 1992-09-30 00:00:00\n",
      "Processing 48201C0015G--------------------------------------------------\n",
      "Could not find date in ['HARRIS CQUNTY,', 'TEXAS AND', 'INCORRORATED AREAS', 'PANEL 15 Op', '(SEE MAP INDEX For PANELS NOT', 'COnIMNS', 'commumii 4  * WNBERZ', 'unincorporatin #S & `80287', '6', 'Mar', '8', '~NUMBER', '49201C0015 G', 'EFFECTIVE DATE:', 'SEPTEMOER 28, 1990', 'Federal Eniergency Management Agency'], trying to use G\n",
      "Could not find tile extension in detections 48201C0015 - G, using default 0 from options dict_keys([0, 'L'])\n",
      "Processing 48201C0255G--------------------------------------------------\n",
      "([datetime.datetime(1990, 9, 28, 0, 0)], ['HARRIS COUNTY', 'TEXAS AND', 'INCORPORATED AREAS', 'PANEL 255 OF 390', '(SEE MAP INDEXFoa PANELS Not PRINTED)', 'CONTAINS;', 'COMMunity V  ` NUMBER   PANEL   SUFFLX', 'UNINCORFOFATED AREAS :2 : 480287   0255', 'U', 'MAP NUMBER', '48201C0255 &', 'EFFECTIVE DATE:', 'SEPTEMBER 28, 1990', 'Federal Emergency Management Agency'])\n",
      "Could not find key G for current tile from options ['J', 'L', 0], using closest date from all keys\n",
      "Using 1996-11-29 00:00:00 for tile date 1990-09-28 00:00:00\n",
      "Processing 48201C0530J--------------------------------------------------\n",
      "([datetime.datetime(1996, 11, 6, 0, 0)], ['HARRIS COUNTY', 'TEXAS AND', 'INCORPORATED   AREAS', 'PANEL 530 OF 1135', '(SEE MAP INDEX FOR FANELS NOT PRINTED)', 'CONTAINS:', 'COMMUNITY_ NUMBER  PANEL   SUFFIX', 'XARRIS Co', 'UNINCORPORATED ARFAS  480287   C530', 'FOUSTON CTY OF 480296  0530', '(a', 'MAP NUMBER', '48201C0530 ]', 'MAP REVISED:', 'NOVEMBER  6, 1996', 'Federal Emergency Management Agency'])\n",
      "Could not find key J for current tile from options [0, 'L'], using closest date from all keys\n",
      "Using 1996-11-29 00:00:00 for tile date 1996-11-06 00:00:00\n"
     ]
    },
    {
     "name": "stderr",
     "output_type": "stream",
     "text": [
      "01/29/2025 18:54:45 - WARNING - rasterio._env -   CPLE_AppDefined in D:/RECTDNN/uncompress_2/48201C0435L.tif: _TIFFVSetField:D:/RECTDNN/uncompress_2/48201C0435L.tif: Null count for \"Tag 32934\" (type 4, writecount -3, passcount 1)\n"
     ]
    },
    {
     "name": "stdout",
     "output_type": "stream",
     "text": [
      "Processing 48201C0435L--------------------------------------------------\n",
      "([datetime.datetime(2007, 6, 18, 0, 0)], ['44 AAJ1 1 +', 'TEXAS', 'V', '\"l : AND NNCORPORATED AREAS', 'PANEL 435 OF 1150', '(SEE   MAP   INDEX   FOR   FIRM   PANEL   LAYOUT)', 'CONTAINS:', 'COMMUNTY NUMBER   PANEL  _  SUFFIX', 'HARAIS COUNTY ,', 'UNINCORPORATED AREAS 480287 0435', 'HOUSTON, CITY OF 480296 0435', 'Notice t0 User; The Map Number shown below should b8 Used', 'when   placing   map  ordars;   the  Community   Number   showh', 'above should be used on insurance  applications for the subject', 'community-', 'MAP  NUMBER', '48201C0435L', 'MAP REVISED:', 'JUNE 18, 2007', 'Federal Emergency Management Agency', 'DEPART', 'AND', 'SEC '])\n",
      "Using 1900-01-01 00:00:00 for tile date 2007-06-18 00:00:00\n",
      "Using 1900-01-01 00:00:00 for tile date 2007-06-18 00:00:00\n",
      "CLOSEST DATE IN KEY IS TOO FAR (39249 days), using general instead (1900-01-01 00:00:00)\n",
      "Processing 48201C0440M--------------------------------------------------\n",
      "([datetime.datetime(2014, 6, 9, 0, 0)], ['TEXAS', 'AND INCORPORATED AREAS', 'PANEL 440 OF 1150', '(SEE MAP INDEX FOR FIRM PANEL LAYOUT)', 'CONTAINS:', 'CQMMUNIY NUMBER   PANEL   SUEEIX', 'HARRIS COUNTY, 480287 0440 M', 'UNINCORPORATED AREAS', 'HOUSTON, CITY OF 480296 0440 M', 'JERSEY VILLAGE; CITY OF   480300 0440 M', 'Notice to User: The Map Number shown below should be used', 'when', 'placing   map  orders; the  Community Number   shown', 'above should be used on insurance applications for the subject', 'community.', 'MAP NUMBER', '48201CO440M', 'YD', 'MAP REVISED', 'JUNE 9, 2014', 'Federal Emergency Management Agency'])\n",
      "Using 2014-06-09 00:00:00 for tile date 2014-06-09 00:00:00\n",
      "Processing 48201C0190G--------------------------------------------------\n",
      "([datetime.datetime(1990, 9, 28, 0, 0)], ['HARRIS COUNTY', 'TEXAS AND', 'INCORPORATED AREAS', 'PANEL 190 OF 390', '{SEE MAP INDEX', 'For PANELS NOT PRINTED}', 'CONTAINS:', 'COMMNITY 24 WMBEL   PANEL = SUFEL', 'HOUSTON, CiTY DF Je28904 480296   0190', 'UNINCORPORATED AREAS *{ -480287   0190', '(O', 'MAp NUMBER', '48201C0190 G', 'EFFECTIVE DATE:', 'SEPTEMBER 28 , 1990', 'Federal Emergency Management Agency'])\n",
      "Could not find key G for current tile from options [0, 'L'], using closest date from all keys\n",
      "Using 1996-11-29 00:00:00 for tile date 1990-09-28 00:00:00\n",
      "Processing 48201C0890J--------------------------------------------------\n",
      "([datetime.datetime(1996, 11, 6, 0, 0)], ['HARRIS COUNTY', 'TEXAS AND', 'INCORPORATED   AREAS', 'PANEL 890 OF 1135', '{SEE MAP INDEX Foh BANELS NOT PRINTED)', 'CONTAINS', 'CQMMUNIY _ NUMBER   PANEL   SUFFX', \"HOUSTON, GTY' CF 480238  0890\", '0)', 'Map NUMBER', '48201c0890', 'MAP  REVISED:', 'NOVEMBER 6, 1996', 'Federal Emergency Management Agency'])\n",
      "Could not find key J for current tile from options [0, 'L', 'M'], using closest date from all keys\n",
      "Using 1996-11-29 00:00:00 for tile date 1996-11-06 00:00:00\n"
     ]
    },
    {
     "name": "stderr",
     "output_type": "stream",
     "text": [
      "01/29/2025 18:55:02 - WARNING - rasterio._env -   CPLE_AppDefined in D:/RECTDNN/uncompress_2/48201C0240G.tif: _TIFFVSetField:D:/RECTDNN/uncompress_2/48201C0240G.tif: Null count for \"Tag 32934\" (type 4, writecount -3, passcount 1)\n"
     ]
    },
    {
     "name": "stdout",
     "output_type": "stream",
     "text": [
      "Processing 48201C0240G--------------------------------------------------\n",
      "([datetime.datetime(1990, 9, 28, 0, 0)], ['HARRIS COUNTY,', 'TEXAS AND', 'INCORPORATED AREAS', 'PANEL 240 OF 390', '(SEE MAP INDEX Foa PANELS Not PRINTED}', 'CONTAINS;', 'COMMUNIIY NUMBER   PANEL = SUFEWX', 'HOUSTON, CTY Df 46296   0240 {', 'MAP NUMBER', '48201C0240 G', 'EFFECTIVE DATE:', 'SEPTEMBER 28 , 1990', 'Federal Emergency Management Agency'])\n",
      "Could not find key G for current tile from options [0, 'L', 'M'], using closest date from all keys\n",
      "Using 1992-09-30 00:00:00 for tile date 1990-09-28 00:00:00\n",
      "Processing 48201C0390J--------------------------------------------------\n",
      "([datetime.datetime(1996, 11, 6, 0, 0)], ['HARRIS COUNTY,', 'TEXAS AND', 'INCORPORATED   AREAS', 'PANEL 390 OF 1135', '(SEE MAP INDEX FOR PANELS NOT PRINTED)', 'CONTAINS:', 'COMMUNITY _ NUMBER   PANEL   SUFFX', 'HaRaS CoU', 'UNINCORPCRATEC AREAS 480287  C3Cj', '0n', 'MAp MUMBER', '48201C0390 )', 'MAP REVISED:', 'NOVEMBER 6, 1996', 'Federal Emergency Management Agency'])\n",
      "Could not find key J for current tile from options [0, 'L', 'M', 'G'], using closest date from all keys\n",
      "Using 1996-11-29 00:00:00 for tile date 1996-11-06 00:00:00\n",
      "Processing 48201C0300G--------------------------------------------------\n",
      "Couldn't find strict, now trying 482010300\n",
      "Could not find tile in detections 482010300\n",
      "Processing 48201C1045J--------------------------------------------------\n",
      "Could not find date in ['HARRIS COUNTY,', 'TEXAS AND', 'INCORPORATED AREAS', 'PANEL 1045 OF 1135', 'ISEE MAP INDEX FCK PANELS NOT PRINTED}', 'CONTANS:', 'COMMUNTY .\"NNUKBER   PANEL   SUFFIX', 'HARRiS COUMY', 'LNINCORPORATED AREAS  420z87 1045', 'PEARLANDCY OF 480877  1045', 'Un', 'MAp NUMBER', '48201C1045 }', 'Map REVISED:', 'NOVEMBER 6, 4996', 'Federal Emergency MManagement Agency'], trying to use J\n",
      "Could not find tile extension in detections 48201C1045 - J, using default K from options dict_keys(['K', 'L', 0])\n",
      "Processing 48201C0735J--------------------------------------------------\n",
      "([datetime.datetime(1996, 11, 6, 0, 0)], ['HARRIS COUNTY,', 'TEXAS AND', 'INCORPORATED   AREAS', 'PANEL 735 OF 1135', '{SEF MAP INDEX Tos PANELS NOT PRINTED}', 'CONTAINS:', 'OMMUNTY NUMBER   PANEL   SUFFIX', 'H~RRIS', 'COlt', 'UNCORPOpATED AREAS   480287   0735', '0', 'Map NUMBER', '48201C0735', 'Maf REVISED:', 'NOVEMBER 6,1996', 'Federal Emergency Management Agency'])\n",
      "Could not find key J for current tile from options ['K', 'L', 'M', 0], using closest date from all keys\n",
      "Using 1996-11-29 00:00:00 for tile date 1996-11-06 00:00:00\n"
     ]
    }
   ],
   "source": [
    "referencing_dir  = os.path.join(proc_dir, \"referencing\") + \"\\\\\"\n",
    "os.makedirs(referencing_dir, exist_ok=True)\n",
    "\n",
    "def find_file_with_extension(filename, allowed_extensions, directory):\n",
    "    for ext in allowed_extensions:\n",
    "        file_path = os.path.join(directory, f\"{filename}.{ext}\")\n",
    "        if os.path.isfile(file_path):\n",
    "            return file_path\n",
    "    return None \n",
    "\n",
    "counter = 0\n",
    "bad_counter = 0\n",
    "\n",
    "# FOR EACH TILE IN THE BASENAME\n",
    "for tile_name in (pbar := tqdm(tiles_bns)): # tile_names: \n",
    "    ref_dir = f\"{referencing_dir}{tile_name}.tif\"\n",
    "    if os.path.exists(ref_dir):\n",
    "        print(f\"Found {ref_dir}\")\n",
    "        continue\n",
    "\n",
    "    # PRETTIFY PPROGRESS BAR AND VERBOSE OUTPUT\n",
    "    pbar.set_description(f\"Bad counter: {bad_counter}\")\n",
    "    counter = counter\n",
    "    print(f\"Processing {tile_name}\" + \"-\" * 50)\n",
    "    \n",
    "    # FIND THE CORRECT FILE NAME FOR \n",
    "    im_file = find_file_with_extension(tile_name, ['tif', 'jpg', 'png'], base_input_path)\n",
    "\n",
    "    # MAYBE THE IMAGE FILE WAS NOWHERE TO BE FOUND\n",
    "    if im_file is None:\n",
    "        print(f\"COULD NOT FIND {tile_name} IMAGE \" + '-' * 20)\n",
    "        continue\n",
    "\n",
    "    # CURRENT TILE PARAMETERS\n",
    "    curr_tn = os.path.basename(im_file.split(\".\")[0])[:-1]  # TILE BASE NAME\n",
    "    curr_tf = os.path.basename(im_file.split(\".\")[0])[-1]   # TILE EXTENSION (INDIVIDUAL LETTER)\n",
    "\n",
    "    # READ TILE IN RASETERIO\n",
    "    ra = rio.open(im_file)\n",
    "    bounds  = ra.bounds\n",
    "    image   = ra.read(1)\n",
    "\n",
    "    # GET THE BOUNDS USING RLNN - TODO: CHECK LOADING TIMES HERE\n",
    "    bounds, RLNN = findBounds(im_file, None)\n",
    "\n",
    "    # IF BOUNDS FOUND, USE. ELSE, USE IMAGE BOUNDS\n",
    "    if len(bounds[0]) < 1:\n",
    "        print(f\"COULD NOT FIND BOUNDS, USING IMAGE EXTENTS {tile_name}\")\n",
    "        bbox = [0, 0, image.shape[0], image.shape[1]]\n",
    "        datebox = [ int(image.shape[1] * 0.75), int(image.shape[0] * 0.75), image.shape[1], image.shape[0]]\n",
    "    else:\n",
    "        bbox = bounds[0].boxes.xyxy.numpy().astype(np.int32)[0].flatten()\n",
    "        # ASSUME DATE IS IN LOWER RIGHT OF IMAGE\n",
    "        # TODO: WE ARE USING DIFFERENT FOR LEGEND - USE THAT INSTEAD.\n",
    "        datebox = [bbox[2], int(3 * image.shape[0] // 4), image.shape[1], image.shape[0]]\n",
    "\n",
    "\n",
    "    current_tile_coords = tile_coords.get(curr_tn, None)\n",
    "    if current_tile_coords is None:\n",
    "        sec_level = re.sub(r'[a-zA-Z]', '', os.path.basename(im_file.split(\".\")[0]))\n",
    "        sec_level = re.sub(r'__', '_', sec_level)\n",
    "        print(f\"Couldn't find strict, now trying {sec_level}\")\n",
    "        current_tile_coords = tile_coords.get(sec_level, None)\n",
    "        if current_tile_coords is None:\n",
    "            print(f\"Could not find tile in detections {sec_level}\")\n",
    "            bad_counter = bad_counter + 1\n",
    "            continue\n",
    "        curr_tn = sec_level\n",
    "        curr_tf = 0\n",
    "    \n",
    "    # GET DATE OF CURRENT TILE FROM DATEBOX, FILTERING WITH HEURISTICS (REVISED, EFFECTIVE)\n",
    "    tile_datetime = extractDate(image[datebox[1]:datebox[3], datebox[0]:datebox[2]], reader, imsize=4092, filter_values=['revised', 'effective'])\n",
    "\n",
    "    # CHECK IF WE FOUND A DATE, AND PROCEED ACCORDINGLY\n",
    "    if tile_datetime[0] is not None: \n",
    "        print(tile_datetime)\n",
    "        # IF FOUND, FIND CLOSEST DATE WITHIN CURRENT KEY\n",
    "        # tile_dates = extractDatesFromDict(tile_coords[curr_tn], curr_tf)\n",
    "        # try:\n",
    "        #    tile_dates.pop(None)\n",
    "        #except:\n",
    "        #    continue\n",
    "        # curr_bbox, closest_date = getBBOXClosestDate(extractDatesFromDict(tile_dates, tile_datetime[0][0]))\n",
    "\n",
    "        # IF CLOSEST DATE WITHIN CURRENT KEY IS OVER 10 YEARS, RETRY WITH ENTIRE DICT\n",
    "        # IF FOUND, FIND CLOSEST DATE WITHIN CURRENT KEY\n",
    "\n",
    "        curr_dates = extractDatesFromDict_legacy(tile_coords[curr_tn], curr_tf)\n",
    "        if curr_dates.get(None, None) is not None:\n",
    "            curr_dates[datetime(1900, 1, 1)] = curr_dates[None]\n",
    "            curr_dates.pop(None)\n",
    "\n",
    "        curr_bbox, closest_date = getBBOXClosestDate(curr_dates, tile_datetime[0][0])\n",
    "        if abs(closest_date - tile_datetime[0][0]).days > 3650:\n",
    "            curr_bbox, closest_date_gen = getBBOXClosestDate(curr_dates, tile_datetime[0][0])\n",
    "            print(f\"CLOSEST DATE IN KEY IS TOO FAR ({abs(closest_date - tile_datetime[0][0]).days} days), using general instead ({closest_date_gen})\")\n",
    "\n",
    "    else: \n",
    "        print(f\"Could not find date in {tile_datetime[1]}, trying to use {curr_tf}\")\n",
    "        # IF NOT FOUND, USE DEFAULT (0)\n",
    "        current_tf_coords = current_tile_coords.get(curr_tf, None)\n",
    "        if current_tf_coords is None:\n",
    "            print(f\"Could not find tile extension in detections {curr_tn} - {curr_tf}, using default {list(current_tile_coords.keys())[0]} from options {current_tile_coords.keys()}\")\n",
    "            curr_tf = list(current_tile_coords.keys())[0]\n",
    "            curr_bbox = tile_coords[curr_tn][curr_tf][\"coords\"][0]\n",
    "        else:\n",
    "            curr_bbox = current_tf_coords[\"coords\"][0]\n",
    "\n",
    "    # BOUND BBOX COORDINATE CONVERSIONS\n",
    "    real_x, real_y = bbox_to_coords_realworld(curr_bbox)\n",
    "    pic_x, pic_y   = bbox_to_coords_raster(bbox)\n",
    "    affine = affineTransformation(pic_x, pic_y, real_x, real_y)\n",
    "    transform = bboxTransformToCRS(affine.matrix, image)\n",
    "\n",
    "    # OUTPUT NAME DIRECTORY FOR TILES\n",
    "    \n",
    "    try:\n",
    "        with rio.open(ref_dir, 'w',\n",
    "            driver='GTiff', count=1, dtype=np.uint8,\n",
    "            height=image.shape[0], width=image.shape[1],\n",
    "            crs=f'EPSG:3857',\n",
    "            transform=rio.Affine(*transform.flatten()[:6])) as dst:\n",
    "                dst.write(image, 1) \n",
    "    except:\n",
    "        print(f\"COULD NOT SAVE {ref_dir}\")\n",
    "        continue\n",
    "\n",
    "    del curr_bbox"
   ]
  },
  {
   "cell_type": "markdown",
   "id": "ca15694b",
   "metadata": {},
   "source": [
    "For each image we are processing, identify street corners"
   ]
  },
  {
   "cell_type": "code",
   "execution_count": null,
   "id": "9c3f763b",
   "metadata": {},
   "outputs": [
    {
     "name": "stdout",
     "output_type": "stream",
     "text": [
      "Making images half size for tiled inference\n"
     ]
    },
    {
     "data": {
      "application/vnd.jupyter.widget-view+json": {
       "model_id": "d40e49c8cbd348c4b3c55e9c4c3872a9",
       "version_major": 2,
       "version_minor": 0
      },
      "text/plain": [
       "  0%|          | 0/383 [00:00<?, ?it/s]"
      ]
     },
     "metadata": {},
     "output_type": "display_data"
    },
    {
     "name": "stderr",
     "output_type": "stream",
     "text": [
      "Performing inference on images: 100%|██████████| 383/383 [2:07:38<00:00, 20.00s/it]  "
     ]
    },
    {
     "name": "stdout",
     "output_type": "stream",
     "text": [
      "Prediction results are successfully exported to D:\\RECTDNN\\processing\\2025-01-29_16-17-10\\street_corners\\exp\n"
     ]
    },
    {
     "name": "stderr",
     "output_type": "stream",
     "text": [
      "\n"
     ]
    },
    {
     "ename": "TypeError",
     "evalue": "join() argument must be str, bytes, or os.PathLike object, not 'NoneType'",
     "output_type": "error",
     "traceback": [
      "\u001b[1;31m---------------------------------------------------------------------------\u001b[0m",
      "\u001b[1;31mTypeError\u001b[0m                                 Traceback (most recent call last)",
      "Cell \u001b[1;32mIn[39], line 4\u001b[0m\n\u001b[0;32m      1\u001b[0m \u001b[38;5;66;03m# proc_dir = r\"D:\\RECTDNN\\processing\\newtest\\\\\"\u001b[39;00m\n\u001b[0;32m      2\u001b[0m \n\u001b[0;32m      3\u001b[0m \u001b[38;5;66;03m# out = processTiledYOLOs(tiles, tiled_yolo_model_paths, ['CornerCoordinates', 'street_corners'], proc_dir, imsizes=[256, 320])\u001b[39;00m\n\u001b[1;32m----> 4\u001b[0m out \u001b[38;5;241m=\u001b[39m \u001b[43mprocessTiledYOLOs\u001b[49m\u001b[43m(\u001b[49m\u001b[43mtiles\u001b[49m\u001b[43m,\u001b[49m\u001b[43m \u001b[49m\u001b[43m[\u001b[49m\u001b[43mtiled_yolo_model_paths\u001b[49m\u001b[43m[\u001b[49m\u001b[38;5;241;43m1\u001b[39;49m\u001b[43m]\u001b[49m\u001b[43m]\u001b[49m\u001b[43m,\u001b[49m\u001b[43m \u001b[49m\u001b[43m[\u001b[49m\u001b[38;5;124;43m'\u001b[39;49m\u001b[38;5;124;43mstreet_corners\u001b[39;49m\u001b[38;5;124;43m'\u001b[39;49m\u001b[43m]\u001b[49m\u001b[43m,\u001b[49m\u001b[43m \u001b[49m\u001b[43mproc_dir\u001b[49m\u001b[43m,\u001b[49m\u001b[43m \u001b[49m\u001b[43mimsizes\u001b[49m\u001b[38;5;241;43m=\u001b[39;49m\u001b[43m[\u001b[49m\u001b[38;5;241;43m320\u001b[39;49m\u001b[43m]\u001b[49m\u001b[43m)\u001b[49m\n\u001b[0;32m      7\u001b[0m \u001b[38;5;28;01mdef\u001b[39;00m \u001b[38;5;21mget_largest_subdirectory\u001b[39m(base_dir):\n\u001b[0;32m      8\u001b[0m     subdirs \u001b[38;5;241m=\u001b[39m [d \u001b[38;5;28;01mfor\u001b[39;00m d \u001b[38;5;129;01min\u001b[39;00m os\u001b[38;5;241m.\u001b[39mlistdir(base_dir) \u001b[38;5;28;01mif\u001b[39;00m os\u001b[38;5;241m.\u001b[39mpath\u001b[38;5;241m.\u001b[39misdir(os\u001b[38;5;241m.\u001b[39mpath\u001b[38;5;241m.\u001b[39mjoin(base_dir, d))]\n",
      "File \u001b[1;32mc:\\Users\\fhacesga\\Desktop\\FIRMsDigitizing\\RECTDNN\\TileUtils.py:1141\u001b[0m, in \u001b[0;36mprocessTiledYOLOs\u001b[1;34m(tiles, model_paths, out_dict_names, proc_dir, imsizes)\u001b[0m\n\u001b[0;32m   1123\u001b[0m     detection_model \u001b[38;5;241m=\u001b[39m AutoDetectionModel\u001b[38;5;241m.\u001b[39mfrom_pretrained(\n\u001b[0;32m   1124\u001b[0m         model_type\u001b[38;5;241m=\u001b[39m\u001b[38;5;124m\"\u001b[39m\u001b[38;5;124myolov8\u001b[39m\u001b[38;5;124m\"\u001b[39m,\n\u001b[0;32m   1125\u001b[0m         model_path\u001b[38;5;241m=\u001b[39mmodel_path,\n\u001b[0;32m   1126\u001b[0m         confidence_threshold\u001b[38;5;241m=\u001b[39m\u001b[38;5;241m0.001\u001b[39m,\n\u001b[0;32m   1127\u001b[0m         device\u001b[38;5;241m=\u001b[39m\u001b[38;5;124m\"\u001b[39m\u001b[38;5;124mcuda\u001b[39m\u001b[38;5;124m\"\u001b[39m,  \u001b[38;5;66;03m# or 'cuda:0'\u001b[39;00m\n\u001b[0;32m   1128\u001b[0m     )\n\u001b[0;32m   1130\u001b[0m     result \u001b[38;5;241m=\u001b[39m predict(source\u001b[38;5;241m=\u001b[39mhalf_path,\n\u001b[0;32m   1131\u001b[0m                     detection_model\u001b[38;5;241m=\u001b[39mdetection_model, \n\u001b[0;32m   1132\u001b[0m                     verbose\u001b[38;5;241m=\u001b[39m\u001b[38;5;241m0\u001b[39m, \n\u001b[1;32m   (...)\u001b[0m\n\u001b[0;32m   1138\u001b[0m                     export_pickle\u001b[38;5;241m=\u001b[39m\u001b[38;5;28;01mTrue\u001b[39;00m,\n\u001b[0;32m   1139\u001b[0m                     visual_hide_labels\u001b[38;5;241m=\u001b[39m\u001b[38;5;28;01mTrue\u001b[39;00m)\n\u001b[1;32m-> 1141\u001b[0m     curr_dict \u001b[38;5;241m=\u001b[39m \u001b[43mprocessSAHIresults\u001b[49m\u001b[43m(\u001b[49m\u001b[43myolo_path\u001b[49m\u001b[43m,\u001b[49m\u001b[43m \u001b[49m\u001b[43mout_fn\u001b[49m\u001b[43m)\u001b[49m\n\u001b[0;32m   1142\u001b[0m \u001b[38;5;28;01melse\u001b[39;00m:\n\u001b[0;32m   1143\u001b[0m     \u001b[38;5;28mprint\u001b[39m(\u001b[38;5;124mf\u001b[39m\u001b[38;5;124m\"\u001b[39m\u001b[38;5;124mReading from \u001b[39m\u001b[38;5;132;01m{\u001b[39;00mout_fn\u001b[38;5;132;01m}\u001b[39;00m\u001b[38;5;124m\"\u001b[39m)\n",
      "File \u001b[1;32mc:\\Users\\fhacesga\\Desktop\\FIRMsDigitizing\\RECTDNN\\TileUtils.py:1087\u001b[0m, in \u001b[0;36mprocessSAHIresults\u001b[1;34m(yolo_path, streetcorner_out_fn)\u001b[0m\n\u001b[0;32m   1084\u001b[0m     largest_subdir \u001b[38;5;241m=\u001b[39m \u001b[38;5;28mmax\u001b[39m(numbered_subdirs, key\u001b[38;5;241m=\u001b[39m\u001b[38;5;28;01mlambda\u001b[39;00m x: x[\u001b[38;5;241m1\u001b[39m])[\u001b[38;5;241m0\u001b[39m] \u001b[38;5;28;01mif\u001b[39;00m numbered_subdirs \u001b[38;5;28;01melse\u001b[39;00m \u001b[38;5;28;01mNone\u001b[39;00m\n\u001b[0;32m   1085\u001b[0m     \u001b[38;5;28;01mreturn\u001b[39;00m os\u001b[38;5;241m.\u001b[39mpath\u001b[38;5;241m.\u001b[39mjoin(base_dir, largest_subdir)\n\u001b[1;32m-> 1087\u001b[0m pkldir    \u001b[38;5;241m=\u001b[39m os\u001b[38;5;241m.\u001b[39mpath\u001b[38;5;241m.\u001b[39mjoin(\u001b[43mget_largest_subdirectory\u001b[49m\u001b[43m(\u001b[49m\u001b[43myolo_path\u001b[49m\u001b[43m)\u001b[49m, \u001b[38;5;124m\"\u001b[39m\u001b[38;5;124mpickles\u001b[39m\u001b[38;5;130;01m\\\\\u001b[39;00m\u001b[38;5;124m\"\u001b[39m)\n\u001b[0;32m   1088\u001b[0m \u001b[38;5;28mprint\u001b[39m(\u001b[38;5;124mf\u001b[39m\u001b[38;5;124m\"\u001b[39m\u001b[38;5;124mReading results from: \u001b[39m\u001b[38;5;132;01m{\u001b[39;00mpkldir\u001b[38;5;132;01m}\u001b[39;00m\u001b[38;5;124m\"\u001b[39m )\n\u001b[0;32m   1090\u001b[0m pkl_files \u001b[38;5;241m=\u001b[39m glob\u001b[38;5;241m.\u001b[39mglob(pkldir \u001b[38;5;241m+\u001b[39m \u001b[38;5;124m\"\u001b[39m\u001b[38;5;124m*\u001b[39m\u001b[38;5;124m\"\u001b[39m)\n",
      "File \u001b[1;32mc:\\Users\\fhacesga\\Desktop\\FIRMsDigitizing\\RECTDNN\\TileUtils.py:1085\u001b[0m, in \u001b[0;36mprocessSAHIresults.<locals>.get_largest_subdirectory\u001b[1;34m(base_dir)\u001b[0m\n\u001b[0;32m   1083\u001b[0m numbered_subdirs \u001b[38;5;241m=\u001b[39m [(d, \u001b[38;5;28mint\u001b[39m(d\u001b[38;5;241m.\u001b[39mreplace(\u001b[38;5;124m'\u001b[39m\u001b[38;5;124mexp\u001b[39m\u001b[38;5;124m'\u001b[39m, \u001b[38;5;124m'\u001b[39m\u001b[38;5;124m'\u001b[39m))) \u001b[38;5;28;01mfor\u001b[39;00m d \u001b[38;5;129;01min\u001b[39;00m subdirs \u001b[38;5;28;01mif\u001b[39;00m d\u001b[38;5;241m.\u001b[39mstartswith(\u001b[38;5;124m'\u001b[39m\u001b[38;5;124mexp\u001b[39m\u001b[38;5;124m'\u001b[39m) \u001b[38;5;129;01mand\u001b[39;00m d[\u001b[38;5;241m3\u001b[39m:]\u001b[38;5;241m.\u001b[39misdigit()]\n\u001b[0;32m   1084\u001b[0m largest_subdir \u001b[38;5;241m=\u001b[39m \u001b[38;5;28mmax\u001b[39m(numbered_subdirs, key\u001b[38;5;241m=\u001b[39m\u001b[38;5;28;01mlambda\u001b[39;00m x: x[\u001b[38;5;241m1\u001b[39m])[\u001b[38;5;241m0\u001b[39m] \u001b[38;5;28;01mif\u001b[39;00m numbered_subdirs \u001b[38;5;28;01melse\u001b[39;00m \u001b[38;5;28;01mNone\u001b[39;00m\n\u001b[1;32m-> 1085\u001b[0m \u001b[38;5;28;01mreturn\u001b[39;00m \u001b[43mos\u001b[49m\u001b[38;5;241;43m.\u001b[39;49m\u001b[43mpath\u001b[49m\u001b[38;5;241;43m.\u001b[39;49m\u001b[43mjoin\u001b[49m\u001b[43m(\u001b[49m\u001b[43mbase_dir\u001b[49m\u001b[43m,\u001b[49m\u001b[43m \u001b[49m\u001b[43mlargest_subdir\u001b[49m\u001b[43m)\u001b[49m\n",
      "File \u001b[1;32mc:\\Users\\fhacesga\\Anaconda3\\envs\\yolo\\lib\\ntpath.py:117\u001b[0m, in \u001b[0;36mjoin\u001b[1;34m(path, *paths)\u001b[0m\n\u001b[0;32m    115\u001b[0m     \u001b[38;5;28;01mreturn\u001b[39;00m result_drive \u001b[38;5;241m+\u001b[39m result_path\n\u001b[0;32m    116\u001b[0m \u001b[38;5;28;01mexcept\u001b[39;00m (\u001b[38;5;167;01mTypeError\u001b[39;00m, \u001b[38;5;167;01mAttributeError\u001b[39;00m, \u001b[38;5;167;01mBytesWarning\u001b[39;00m):\n\u001b[1;32m--> 117\u001b[0m     \u001b[43mgenericpath\u001b[49m\u001b[38;5;241;43m.\u001b[39;49m\u001b[43m_check_arg_types\u001b[49m\u001b[43m(\u001b[49m\u001b[38;5;124;43m'\u001b[39;49m\u001b[38;5;124;43mjoin\u001b[39;49m\u001b[38;5;124;43m'\u001b[39;49m\u001b[43m,\u001b[49m\u001b[43m \u001b[49m\u001b[43mpath\u001b[49m\u001b[43m,\u001b[49m\u001b[43m \u001b[49m\u001b[38;5;241;43m*\u001b[39;49m\u001b[43mpaths\u001b[49m\u001b[43m)\u001b[49m\n\u001b[0;32m    118\u001b[0m     \u001b[38;5;28;01mraise\u001b[39;00m\n",
      "File \u001b[1;32mc:\\Users\\fhacesga\\Anaconda3\\envs\\yolo\\lib\\genericpath.py:152\u001b[0m, in \u001b[0;36m_check_arg_types\u001b[1;34m(funcname, *args)\u001b[0m\n\u001b[0;32m    150\u001b[0m         hasbytes \u001b[38;5;241m=\u001b[39m \u001b[38;5;28;01mTrue\u001b[39;00m\n\u001b[0;32m    151\u001b[0m     \u001b[38;5;28;01melse\u001b[39;00m:\n\u001b[1;32m--> 152\u001b[0m         \u001b[38;5;28;01mraise\u001b[39;00m \u001b[38;5;167;01mTypeError\u001b[39;00m(\u001b[38;5;124mf\u001b[39m\u001b[38;5;124m'\u001b[39m\u001b[38;5;132;01m{\u001b[39;00mfuncname\u001b[38;5;132;01m}\u001b[39;00m\u001b[38;5;124m() argument must be str, bytes, or \u001b[39m\u001b[38;5;124m'\u001b[39m\n\u001b[0;32m    153\u001b[0m                         \u001b[38;5;124mf\u001b[39m\u001b[38;5;124m'\u001b[39m\u001b[38;5;124mos.PathLike object, not \u001b[39m\u001b[38;5;132;01m{\u001b[39;00ms\u001b[38;5;241m.\u001b[39m\u001b[38;5;18m__class__\u001b[39m\u001b[38;5;241m.\u001b[39m\u001b[38;5;18m__name__\u001b[39m\u001b[38;5;132;01m!r}\u001b[39;00m\u001b[38;5;124m'\u001b[39m) \u001b[38;5;28;01mfrom\u001b[39;00m \u001b[38;5;28;01mNone\u001b[39;00m\n\u001b[0;32m    154\u001b[0m \u001b[38;5;28;01mif\u001b[39;00m hasstr \u001b[38;5;129;01mand\u001b[39;00m hasbytes:\n\u001b[0;32m    155\u001b[0m     \u001b[38;5;28;01mraise\u001b[39;00m \u001b[38;5;167;01mTypeError\u001b[39;00m(\u001b[38;5;124m\"\u001b[39m\u001b[38;5;124mCan\u001b[39m\u001b[38;5;124m'\u001b[39m\u001b[38;5;124mt mix strings and bytes in path components\u001b[39m\u001b[38;5;124m\"\u001b[39m) \u001b[38;5;28;01mfrom\u001b[39;00m \u001b[38;5;28;01mNone\u001b[39;00m\n",
      "\u001b[1;31mTypeError\u001b[0m: join() argument must be str, bytes, or os.PathLike object, not 'NoneType'"
     ]
    }
   ],
   "source": [
    "# proc_dir = r\"D:\\RECTDNN\\processing\\newtest\\\\\"\n",
    "\n",
    "# out = processTiledYOLOs(tiles, tiled_yolo_model_paths, ['CornerCoordinates', 'street_corners'], proc_dir, imsizes=[256, 320])\n",
    "out = processTiledYOLOs(tiles, [tiled_yolo_model_paths[1]], ['street_corners'], proc_dir, imsizes=[320])\n",
    "\n",
    "\n",
    "def get_largest_subdirectory(base_dir):\n",
    "    subdirs = [d for d in os.listdir(base_dir) if os.path.isdir(os.path.join(base_dir, d))]\n",
    "    numbered_subdirs = [(d, int(d.replace('exp', ''))) for d in subdirs if d.startswith('exp') and d[3:].isdigit()]\n",
    "    largest_subdir = max(numbered_subdirs, key=lambda x: x[1])[0] if numbered_subdirs else None\n",
    "    if largest_subdir is None:\n",
    "        largest_subdir = \"exp\"\n",
    "    return os.path.join(base_dir, largest_subdir)\n",
    "\n",
    "def processSAHIresults(yolo_path, streetcorner_out_fn, threshold=0.2):\n",
    "\n",
    "    pkldir    = os.path.join(get_largest_subdirectory(yolo_path), \"pickles\\\\\")\n",
    "    print(f\"Reading results from: {pkldir}\" )\n",
    "\n",
    "    pkl_files = glob.glob(pkldir + \"*\")\n",
    "\n",
    "\n",
    "    streetcorner_dict = {}\n",
    "\n",
    "    for pkl in pkl_files:\n",
    "        with open(pkl, 'rb') as f:\n",
    "            x = pickle.load(f)\n",
    "\n",
    "        streetcorner_dict[os.path.basename(pkl).split(\".\")[0]] = np.array([(calcCenter(a.bbox.to_xyxy())) for a in x if a.score.value > threshold])\n",
    "\n",
    "    pickle.dump(streetcorner_dict, open(streetcorner_out_fn, \"wb\" ) )\n",
    "\n",
    "    return streetcorner_dict\n",
    "\n",
    "# out = processTiledYOLOs(tiles, tiled_yolo_model_paths, ['CornerCoordinates', 'street_corners'], proc_dir, imsizes=[256, 320])\n",
    "streetcorner_dict = processSAHIresults(proc_dir+\"\\\\street_corners\\\\\", proc_dir+\"street_corners.pkl\")\n",
    "cornercoords_dict = processSAHIresults(proc_dir+\"\\\\CornerCoordinates\\\\\", proc_dir+\"CornerCoordinates.pkl\")"
   ]
  },
  {
   "cell_type": "code",
   "execution_count": 22,
   "id": "9f176a88",
   "metadata": {},
   "outputs": [
    {
     "name": "stdout",
     "output_type": "stream",
     "text": [
      "34\n"
     ]
    },
    {
     "data": {
      "application/vnd.jupyter.widget-view+json": {
       "model_id": "f4d00cd87e0b4dd3a1ce6ade79a5b256",
       "version_major": 2,
       "version_minor": 0
      },
      "image/png": "[encoded data removed]",
      "text/html": [
       "\n",
       "            <div style=\"display: inline-block;\">\n",
       "                <div class=\"jupyter-widgets widget-label\" style=\"text-align: center;\">\n",
       "                    Figure\n",
       "                </div>\n",
       "                <img src='data:image/png;base64,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' width=640.0/>\n",
       "            </div>\n",
       "        "
      ],
      "text/plain": [
       "Canvas(toolbar=Toolbar(toolitems=[('Home', 'Reset original view', 'home', 'home'), ('Back', 'Back to previous …"
      ]
     },
     "metadata": {},
     "output_type": "display_data"
    }
   ],
   "source": [
    "plt.figure()\n",
    "amount_of_corners = np.array([len(a) for a in streetcorner_dict.values()])\n",
    "_ = plt.hist(amount_of_corners, bins=100)\n",
    "print(np.count_nonzero(amount_of_corners <= 10))"
   ]
  },
  {
   "cell_type": "code",
   "execution_count": 23,
   "id": "e9ba6500",
   "metadata": {},
   "outputs": [],
   "source": [
    "corners     = gpd.read_file(r\"C:\\Users\\fhacesga\\OneDrive - University Of Houston\\AAA_RECTDNN\\data\\AAA_ReferenceDatasets\\OSM_Roads\\TexasRoads_filtered_strict_3857_nondupe_smaller_harris.gpkg\")\n",
    "roads_gdf   = gpd.read_file(r\"C:\\Users\\fhacesga\\Downloads\\TexasRoads_filtered_strict_3857.gpkg\", engine='pyogrio', use_arrow=True)"
   ]
  },
  {
   "cell_type": "code",
   "execution_count": 24,
   "id": "3f1d4ec5",
   "metadata": {},
   "outputs": [
    {
     "name": "stdout",
     "output_type": "stream",
     "text": [
      "Focus found, using D:\\RECTDNN\\processing\\2025-01-21_17-30-34\\\\focus\\\n",
      "D:\\RECTDNN\\processing\\2025-01-21_17-30-34\\\\street_corners\\exp\\pickles\n"
     ]
    }
   ],
   "source": [
    "corner_dir = os.path.join(get_largest_subdirectory(os.path.join(proc_dir, \"street_corners\")), \"pickles\")\n",
    "\n",
    "if os.path.isdir(os.path.join(proc_dir, \"focus\")):\n",
    "    referencing_dir  =  os.path.join(proc_dir, \"focus\") + \"\\\\\"\n",
    "    print(f\"Focus found, using {referencing_dir}\")\n",
    "\n",
    "registration_dir = os.path.join(proc_dir, \"registration\")\n",
    "os.makedirs(registration_dir, exist_ok=True)\n",
    "\n",
    "descriptor_kwds = {\n",
    "    # \"angle_step\"        : 18,\n",
    "    \"angle_step\"        : 25,\n",
    "    # \"azimuth_radius\"    : [50, 100, 500]\n",
    "    \"azimuth_radius\"    : [50, 100, 250, 500, 1000, 1500, 2000, 2500]\n",
    "}\n",
    "\n",
    "print(corner_dir)"
   ]
  },
  {
   "cell_type": "code",
   "execution_count": 25,
   "id": "094b4758",
   "metadata": {},
   "outputs": [],
   "source": [
    "np.set_printoptions(precision=8) "
   ]
  },
  {
   "cell_type": "code",
   "execution_count": 26,
   "id": "6613bd34",
   "metadata": {},
   "outputs": [],
   "source": [
    "def normCoords(A, B):\n",
    "    offsets = np.min(A, axis=0)\n",
    "    return A - offsets, B - offsets\n",
    "\n",
    "def updateResults(list1, list2, compare_idx=8):\n",
    "    combined_dict = {}\n",
    "    \n",
    "    # Add elements from list1, prioritizing these tuples initially\n",
    "    for tup in list1:\n",
    "        key = (tup[0], tup[1])  # A and B are used as the key\n",
    "        if key not in combined_dict:\n",
    "            combined_dict[key] = tup\n",
    "    \n",
    "    # Add or update elements from list2\n",
    "    for tup in list2:\n",
    "        key = (tup[0], tup[1])  # A and B are used as the key\n",
    "        # Replace the tuple if the key exists and G in list2's tuple is greater\n",
    "        \n",
    "        if key in combined_dict:\n",
    "            print_val = combined_dict[key][compare_idx][0]\n",
    "        else:\n",
    "            print_val = None\n",
    "        # print(key, key in combined_dict, tup[compare_idx][0], print_val)\n",
    "        if key not in combined_dict:\n",
    "            combined_dict[key] = tup\n",
    "        elif key in combined_dict and tup[compare_idx][0] > combined_dict[key][compare_idx][0]:\n",
    "            combined_dict[key] = tup\n",
    "                \n",
    "    # Convert the dictionary back to a list\n",
    "    combined_list = list(combined_dict.values())\n",
    "\n",
    "    print(len(list1), len(list2), len(combined_list))\n",
    "    return combined_list\n",
    "\n",
    "def most_popular_indices(values, eps=0.1):\n",
    "    # RETURN TO featurematching.py\n",
    "    # Convert values to a 2D array as required by DBSCAN\n",
    "    values_2d = np.array(values).reshape(-1, 1)\n",
    "    \n",
    "    # Cluster the values using DBSCAN\n",
    "    db = DBSCAN(eps=eps, min_samples=2).fit(values_2d)\n",
    "    \n",
    "    # Find the most common cluster label, ignoring noise (-1 label)\n",
    "    labels, counts = np.unique(db.labels_[db.labels_ != -1], return_counts=True)\n",
    "    if len(counts) == 0:\n",
    "        return []  # No clusters found\n",
    "\n",
    "    most_common_label = labels[np.argmax(counts)]\n",
    "    \n",
    "    # Get indices of values in the most common cluster\n",
    "    indices = [i for i, label in enumerate(db.labels_) if label == most_common_label]\n",
    "    \n",
    "    return indices\n",
    "\n",
    "def most_popular_indices_2d(points, eps=0.1):\n",
    "    # Convert the list of 2D points to a numpy array\n",
    "    points_array = np.array(points)\n",
    "    \n",
    "    # Cluster the points using DBSCAN\n",
    "    db = DBSCAN(eps=eps, min_samples=2).fit(points_array)\n",
    "    \n",
    "    # Find the most common cluster label, ignoring noise (-1 label)\n",
    "    labels, counts = np.unique(db.labels_[db.labels_ != -1], return_counts=True)\n",
    "    if len(counts) == 0:\n",
    "        return []  # No clusters found\n",
    "    \n",
    "    print(\"THESE ARE THE DBSCAN COUNTS\")\n",
    "    print(counts)\n",
    "    \n",
    "    most_common_label = labels[np.argmax(counts)]\n",
    "    \n",
    "    # Get indices of points in the most common cluster\n",
    "    indices = [i for i, label in enumerate(db.labels_) if label == most_common_label]\n",
    "    \n",
    "    return indices\n",
    "\n",
    "\n",
    "def adjustFromMatchingV2(matchresults, corners_curr=None, idx=None, im_corner_gdf=None, plot=False, verbose=False, dbscan_eps=0.04, logging_dir=None, filter_topn=None):\n",
    "\n",
    "    if filter_topn is not None:\n",
    "        print(f\"Filtering top {filter_topn}\")\n",
    "        conf = [a[8][0] / a[8][1] for a in matchresults]\n",
    "        indices = np.argsort(conf)[:filter_topn]\n",
    "        matchresults = [matchresults[a] for a in indices]\n",
    "\n",
    "    if idx is None:\n",
    "        idx = np.arange(len(matchresults), dtype=np.int32)\n",
    "    \n",
    "    fromPoints = gpd.GeoDataFrame(geometry=gpd.points_from_xy([x[4][0] for x in matchresults], [x[4][1] for x in matchresults]))\n",
    "    toPoints   = gpd.GeoDataFrame(geometry=gpd.points_from_xy([x[5][0] for x in matchresults], [x[5][1] for x in matchresults]))\n",
    "\n",
    "    coordsA = getCoordsGDF(fromPoints)\n",
    "    coordsB = getCoordsGDF(toPoints)\n",
    "\n",
    "    i = 0\n",
    "\n",
    "    checker = True\n",
    "    prev = np.where(idx)[0].shape[0]\n",
    "\n",
    "    if logging_dir is not None:\n",
    "        fig, axs, _, _ = plotMatches(fromPoints, toPoints, dbscan_eps=dbscan_eps)\n",
    "        fig.savefig(logging_dir)\n",
    "        if not plot:\n",
    "            plt.close(fig)\n",
    "        else:\n",
    "            plt.show()\n",
    "    \n",
    "    while checker and i < 2:\n",
    "        \n",
    "        initial = affineTransformation(coordsA[idx, 0], coordsA[idx, 1], coordsB[idx, 0], coordsB[idx, 1],verbose=False, )\n",
    "        matrix = initial.matrix        \n",
    "        coordsBprime = np.hstack((coordsB[idx], np.ones((coordsB[idx].shape[0], 1)))) @ np.linalg.inv(matrix).T\n",
    "        distances = np.sqrt((coordsBprime[:, 0] - coordsA[idx, 0]) ** 2 + (coordsBprime[:, 1] - coordsA[idx, 1]) ** 2)\n",
    "        uv = coordsB - coordsA\n",
    "        angles = np.degrees(np.arctan2(uv[:, 1], uv[:, 0]))\n",
    "        test = np.vstack((normArry(angles), normArry(np.sqrt(uv[:, 0] ** 2, uv[:, 1] ** 2 )))).T\n",
    "        test[np.isnan(test)] = 0\n",
    "        db_idx = most_popular_indices_2d(test, eps=dbscan_eps)\n",
    "\n",
    "        dist_idx = np.where(distances <= 3 * np.median(distances))[0]\n",
    "        idx = np.intersect1d(idx, dist_idx, db_idx)\n",
    "\n",
    "        print(idx.shape, dist_idx.shape, len(db_idx), np.median(distances))\n",
    "        \n",
    "\n",
    "        counter = 0\n",
    "        if np.where(idx)[0].shape[0] < 10:\n",
    "            print(\"Loosening, under 10... \", end=\" \")\n",
    "            while np.where(idx)[0].shape[0] < 10:\n",
    "                counter = counter + 1\n",
    "                idx = most_popular_indices_2d(test, eps=dbscan_eps + 0.02 * counter)\n",
    "                if counter > 10:\n",
    "                    break\n",
    "            print(f\"Loosened {counter} times at {dbscan_eps + 0.02 * counter}\")\n",
    "        \n",
    "        if np.where(idx)[0].shape[0] < prev:\n",
    "            prev = np.where(idx)[0].shape[0]\n",
    "        else: \n",
    "            checker = False\n",
    "        \n",
    "        if verbose:\n",
    "            print(i)\n",
    "            print(np.linalg.inv(matrix).T)\n",
    "            fig, axs = plt.subplots(1, 2)\n",
    "            axs[0].scatter(coordsA[idx, 0], coordsA[idx, 1], color='black')\n",
    "            axs[0].scatter(coordsB[idx, 0], coordsB[idx, 1])\n",
    "            axs[0].scatter(coordsBprime[:, 0], coordsBprime[:, 1], marker='x')\n",
    "            axs[1].hist(distances[idx], bins=50)\n",
    "            axs[1].set_title(f\"Iteration {i}\")\n",
    "            fig.savefig(logging_dir[:-3] + f\"internalremovals_iteration{i}.jpg\")\n",
    "            if not plot:\n",
    "                plt.close(fig)\n",
    "            else:\n",
    "                plt.show()\n",
    "\n",
    "        i = i + 1\n",
    "\n",
    "    return matrix, distances[idx], idx\n",
    "\n",
    "def registerImagesV2(ra, im_corner_gdf, corners_curr, corner_arry, descriptor_kwds, \n",
    "                     r_initial=500, \n",
    "                     verbose=1, \n",
    "                     distance_threshold=10,\n",
    "                     n_iters=20,\n",
    "                     r_change=0.6,\n",
    "                     dbscan_ini=0.04,\n",
    "                     logging_dir=None,\n",
    "                     remove_stdev=True\n",
    "                     ):\n",
    "    compoundedAdjustment = np.eye(3)\n",
    "    flip=np.array([\n",
    "        [1, 0, 0],\n",
    "        [0, -1, 0],\n",
    "        [0, 0, 1]\n",
    "        ]) \n",
    "    \n",
    "    os.makedirs(logging_dir, exist_ok=True)\n",
    "    logging_basename = os.path.join(logging_dir, os.path.basename(ra.files[0]).split(\".\")[0])\n",
    "\n",
    "    logging_struct = {}\n",
    "\n",
    "    matching_results = None\n",
    "    im_corner_gdf_adj = im_corner_gdf.copy()\n",
    "\n",
    "    registration_struct = {}\n",
    "    registration_struct['best_grade']       = 1e9\n",
    "    registration_struct['best_transform']   = None\n",
    "    registration_struct['grades']           = []\n",
    "    registration_struct['transforms']       = []\n",
    "    registration_struct['points']           = []\n",
    "\n",
    "\n",
    "    for i in range(n_iters):\n",
    "\n",
    "        logging_struct[i] = {}\n",
    "        \n",
    "        # r_current = r_initial * 0.95 ** i\n",
    "        r_current = r_initial * r_change ** i\n",
    "        dbscan_curr = dbscan_ini + dbscan_ini * i\n",
    "            \n",
    "        matching_results_curr, _, _ = matching_distances_loosen_distance(im_corner_gdf_adj, corners_curr, ratio_threshold=0.8, \n",
    "                                                                    match_radius=r_current, \n",
    "                                                                    num_retries=10,\n",
    "                                                                    loosening_factor=0.25, \n",
    "                                                                    **descriptor_kwds)\n",
    "        \n",
    "        if matching_results is None:\n",
    "            matching_results = matching_results_curr\n",
    "        else:\n",
    "            print(\"UPDATING RESULTS\", print(len(matching_results)))\n",
    "            matching_results = updateResults(matching_results, matching_results_curr)\n",
    "            print(len(matching_results))\n",
    "        \n",
    "        if len(matching_results) < 3:\n",
    "            raise(Exception(f\"Cannot match: {len(matching_results)} matches found for {os.path.basename(ra.files[0])}\"))\n",
    "        \n",
    "        matrix, distances, idx = adjustFromMatchingV2(matching_results, plot=verbose>8, \n",
    "                                                        dbscan_eps=dbscan_curr,\n",
    "                                                        verbose=verbose>8,\n",
    "                                                        # filter_topn=100,\n",
    "                                                        logging_dir=None if logging_dir is None else logging_basename + f\"_iteration{str(i).zfill(2)}.jpg\")\n",
    "        \n",
    "        matching_results = [matching_results[i] for i in idx]\n",
    "\n",
    "        print(len(matching_results))\n",
    "\n",
    "        logging_struct[i][\"matching_results\"]   = matching_results\n",
    "        logging_struct[i][\"distances\"]          = distances\n",
    "\n",
    "        current_adjustment      = np.linalg.inv(matrix) @ getMatrixFromAffine(ra.transform)\n",
    "\n",
    "        reprojectedcorners = np.hstack((corner_arry, np.ones((corner_arry.shape[0], 1)))) @ current_adjustment.T\n",
    "\n",
    "        scale       = np.sqrt(0.5 * (matrix[0,0] ** 2 + matrix[1,1] ** 2))\n",
    "        translation = np.sqrt(matrix[0,2] ** 2 + matrix[1,2] ** 2)\n",
    "        conv_check  = np.abs(1 - scale) < 0.002 and translation < distance_threshold\n",
    "\n",
    "        if verbose > 3:\n",
    "            print(f\"Scale {scale:.3e}\")\n",
    "            print(f\"Translation {translation:.3e}\")\n",
    "            print(conv_check)\n",
    "            print(np.linalg.inv(matrix))\n",
    "            print(\"Inverse\")\n",
    "            print(np.linalg.inv(np.linalg.inv(matrix)))\n",
    "\n",
    "        if verbose > 5:\n",
    "            fig, ax  = plt.subplots()\n",
    "            ax.scatter(reprojectedcorners[:, 0], reprojectedcorners[:, 1], label=\"Reprojected Corners\")\n",
    "\n",
    "            original_image_corners = np.hstack((corner_arry, np.ones((corner_arry.shape[0], 1)))) @  getMatrixFromAffine(ra.transform).T\n",
    "            ax.scatter(original_image_corners[:, 0], original_image_corners[:, 1], label=\"Original Image Corners\")\n",
    "\n",
    "            # READ MATCHING RESULTS AND GET DATABASE (TARGET?)\n",
    "            db_corners_x = np.array([m[5][0] for m in matching_results])\n",
    "            db_corners_y = np.array([m[5][1] for m in matching_results])\n",
    "            ax.scatter(db_corners_x, db_corners_y, label=\"Matching - Image Corners\")\n",
    "\n",
    "            # READ MATCHING RESULTS AND GET DETECTIONS (REFERENCE?)\n",
    "            r_corners_x = np.array([m[4][0] for m in matching_results])\n",
    "            r_corners_y = np.array([m[4][1] for m in matching_results])\n",
    "            ax.scatter(r_corners_x, r_corners_y, label=\"Matching - Database Corners\")\n",
    "\n",
    "            ax, _ = calcQuiver(ax, \n",
    "                       gpd.GeoDataFrame(geometry=gpd.points_from_xy(db_corners_x, db_corners_y)),\n",
    "                       gpd.GeoDataFrame(geometry=gpd.points_from_xy(r_corners_x, r_corners_y)), )\n",
    "\n",
    "            try:\n",
    "                cx.add_basemap(ax, zoom_adjust=1)\n",
    "            except:\n",
    "                print(\"Error adding basemap\")\n",
    "            ax.legend()\n",
    "            plt.show()\n",
    "\n",
    "        im_corner_gdf_adj['geometry'] = gpd.points_from_xy(reprojectedcorners[:,0], reprojectedcorners[:, 1])\n",
    "\n",
    "        if verbose > 0:\n",
    "            print(np.nanpercentile(distances, [0, 25, 50, 75, 100]), len(matching_results))\n",
    "\n",
    "        # CHECK IF WE HAVE CORRECT DISTANCE\n",
    "        matched_check = np.nanpercentile(distances, 50) < distance_threshold # and distances.shape[0] > 10\n",
    "\n",
    "        # IF BEST, SAVE AS BEST\n",
    "        if np.nanpercentile(distances, 50) < registration_struct['best_grade']:\n",
    "            registration_struct['best_grade']       = np.nanpercentile(distances, 50)\n",
    "            registration_struct['best_transform']   = current_adjustment\n",
    "            registration_struct['best_im_corner_gdf_adj']    = im_corner_gdf_adj\n",
    "\n",
    "        # SAVE CURRENT TIMESTEP VALUES\n",
    "        registration_struct[i] = {}\n",
    "        registration_struct[i]['grade']     = np.nanpercentile(distances, 50)\n",
    "        registration_struct[i]['transform'] = current_adjustment\n",
    "        registration_struct[i]['im_corner_gdf_adj'] = im_corner_gdf_adj\n",
    "\n",
    "        if (matched_check or conv_check) and i > 1:\n",
    "            print(matched_check, conv_check)\n",
    "            break\n",
    "\n",
    "    logging_struct['registration_struct'] = registration_struct\n",
    "    with open(logging_basename+\".pkl\", 'wb') as handle:\n",
    "        pickle.dump(logging_struct, handle, protocol=pickle.HIGHEST_PROTOCOL)       \n",
    "\n",
    "    return registration_struct['best_transform'] , registration_struct['best_im_corner_gdf_adj']\n"
   ]
  },
  {
   "cell_type": "code",
   "execution_count": 52,
   "id": "e20588a8",
   "metadata": {},
   "outputs": [],
   "source": [
    "def most_popular_indices_2d_v1(points, eps=0.1, auto_include=10):\n",
    "    # Convert the list of 2D points to a numpy array\n",
    "    points_array = np.array(points)\n",
    "    \n",
    "    # Cluster the points using DBSCAN\n",
    "    db = DBSCAN(eps=eps, min_samples=2).fit(points_array)\n",
    "    \n",
    "    # Find the most common cluster label, ignoring noise (-1 label)\n",
    "    labels, counts = np.unique(db.labels_[db.labels_ != -1], return_counts=True)\n",
    "    if len(counts) == 0:\n",
    "        return []  # No clusters found\n",
    "    \n",
    "    print(\"THESE ARE THE DBSCAN COUNTS\")\n",
    "    print(counts)\n",
    "\n",
    "    goodlabels = [a for a in labels[np.max(counts) == counts]]\n",
    "    goodlabels.extend([a for a in labels[counts > auto_include]])\n",
    "    \n",
    "    # Get indices of points in the most common cluster\n",
    "    indices = [i for i, label in enumerate(db.labels_) if label in goodlabels]\n",
    "\n",
    "    return indices\n",
    "\n",
    "def plotMatches(fromPoints, toPoints, dbscan_eps=0.04):\n",
    "    fig, axs = plt.subplots(1, 2, figsize=(15,5))\n",
    "\n",
    "    fromPoints.plot(ax=axs[0])\n",
    "    toPoints.plot(ax=axs[0])\n",
    "    axs[0], uv = calcQuiver(axs[0], fromPoints, toPoints, color=\"black\")\n",
    "\n",
    "    try:\n",
    "        cx.add_basemap(axs[0])\n",
    "    except:\n",
    "        print(\"Error adding Basemap\")\n",
    "\n",
    "    angles = np.degrees(np.arctan2(uv[:, 1], uv[:, 0]))\n",
    "    angle_mean = np.nanmean(angles)\n",
    "    angles = angles - angle_mean\n",
    "    test = np.vstack((normArry(angles), normArry(np.sqrt(uv[:, 0] ** 2, uv[:, 1] ** 2 )))).T\n",
    "    idx = most_popular_indices_2d_v1(test, eps=dbscan_eps)\n",
    "\n",
    "    axs[0], uv = calcQuiver(axs[0], fromPoints.iloc[idx], toPoints.iloc[idx], color=\"yellow\")\n",
    "\n",
    "    bins = np.linspace(-180, 180, 100)\n",
    "\n",
    "    axs[1].hist(angles + angle_mean, bins, label=\"All\")\n",
    "    axs[1].hist(angles[idx] + angle_mean, bins, label=\"Selected\")\n",
    "    axs[1].set_xlabel(\"Adjustment Bearing\")\n",
    "    axs[1].set_ylabel(\"Frequency (n)\")\n",
    "\n",
    "    return fig, axs, uv, idx\n",
    "\n",
    "\n",
    "def adjustFromMatchingV3(matchresults, corners_curr=None, idx=None, im_corner_gdf=None, plot=False, verbose=False, dbscan_eps=0.04, logging_dir=None, filter_topn=None, distance_thresh=None):\n",
    "\n",
    "    if filter_topn is not None:\n",
    "        print(f\"Filtering top {filter_topn}\")\n",
    "        conf = [a[8][0] / a[8][1] for a in matchresults]\n",
    "        indices = np.argsort(conf)[:filter_topn]\n",
    "        matchresults = [matchresults[a] for a in indices]\n",
    "\n",
    "    if idx is None:\n",
    "        idx = np.arange(len(matchresults), dtype=np.int32)\n",
    "    \n",
    "    fromPoints = gpd.GeoDataFrame(geometry=gpd.points_from_xy([x[4][0] for x in matchresults], [x[4][1] for x in matchresults]))\n",
    "    toPoints   = gpd.GeoDataFrame(geometry=gpd.points_from_xy([x[5][0] for x in matchresults], [x[5][1] for x in matchresults]))\n",
    "\n",
    "    coordsA = getCoordsGDF(fromPoints)\n",
    "    coordsB = getCoordsGDF(toPoints)\n",
    "\n",
    "    i = 0\n",
    "\n",
    "    checker = True\n",
    "    prev = np.where(idx)[0].shape[0]\n",
    "\n",
    "    if logging_dir is not None:\n",
    "        fig, axs, _, _ = plotMatches(fromPoints, toPoints, dbscan_eps=dbscan_eps)\n",
    "        fig.savefig(logging_dir)\n",
    "        if not plot:\n",
    "            plt.close(fig)\n",
    "        else:\n",
    "            plt.show()\n",
    "    \n",
    "    while checker and i < 2:\n",
    "        \n",
    "        initial = similarityTransformation(coordsA[idx, 0], coordsA[idx, 1], coordsB[idx, 0], coordsB[idx, 1],verbose=False, )\n",
    "        matrix = initial.matrix        \n",
    "        coordsBprime = np.hstack((coordsB[idx], np.ones((coordsB[idx].shape[0], 1)))) @ np.linalg.inv(matrix).T\n",
    "        distances = np.sqrt((coordsBprime[:, 0] - coordsA[idx, 0]) ** 2 + (coordsBprime[:, 1] - coordsA[idx, 1]) ** 2)\n",
    "        uv = coordsB - coordsA\n",
    "        angles = np.degrees(np.arctan2(uv[:, 1], uv[:, 0]))\n",
    "        test = np.vstack((normArry(angles), normArry(np.sqrt(uv[:, 0] ** 2, uv[:, 1] ** 2 )))).T\n",
    "        test[np.isnan(test)] = 0\n",
    "        db_idx = most_popular_indices_2d_v1(test, eps=dbscan_eps)\n",
    "\n",
    "        dist_idx = np.where(distances <= 3 * np.median(distances))[0]\n",
    "        idx = np.intersect1d(idx, dist_idx, db_idx)\n",
    "\n",
    "        print(idx.shape, dist_idx.shape, len(db_idx), np.median(distances))\n",
    "        \n",
    "\n",
    "        counter = 0\n",
    "        if np.where(idx)[0].shape[0] < 10:\n",
    "            print(\"Loosening, under 10... \", end=\" \")\n",
    "            while np.where(idx)[0].shape[0] < 10:\n",
    "                counter = counter + 1\n",
    "                idx = most_popular_indices_2d_v1(test, eps=dbscan_eps + 0.02 * counter)\n",
    "                if counter > 10:\n",
    "                    break\n",
    "            print(f\"Loosened {counter} times at {dbscan_eps + 0.02 * counter}\")\n",
    "        \n",
    "        if np.where(idx)[0].shape[0] < prev:\n",
    "            prev = np.where(idx)[0].shape[0]\n",
    "        else: \n",
    "            checker = False\n",
    "        \n",
    "        if verbose:\n",
    "            print(i)\n",
    "            print(np.linalg.inv(matrix).T)\n",
    "            fig, axs = plt.subplots(1, 2)\n",
    "            axs[0].scatter(coordsA[idx, 0], coordsA[idx, 1], color='black')\n",
    "            axs[0].scatter(coordsB[idx, 0], coordsB[idx, 1])\n",
    "            axs[0].scatter(coordsBprime[:, 0], coordsBprime[:, 1], marker='x')\n",
    "            axs[1].hist(distances[idx], bins=50)\n",
    "            axs[1].set_title(f\"Iteration {i}\")\n",
    "            fig.savefig(logging_dir[:-3] + f\"internalremovals_iteration{i}.jpg\")\n",
    "            if not plot:\n",
    "                plt.close(fig)\n",
    "            else:\n",
    "                plt.show()\n",
    "\n",
    "        i = i + 1\n",
    "\n",
    "    \n",
    "\n",
    "    if distance_thresh is not None:\n",
    "        print(\"APPLYING DISTANCE THRESHOLD\")\n",
    "        print(distances.shape)\n",
    "        # print(distances)\n",
    "        distances = distances[idx]\n",
    "        # print(distances)\n",
    "        # print(idx)\n",
    "        idx = idx[distances < distance_thresh]\n",
    "        # print(idx)\n",
    "        print(distances.shape)\n",
    "        distances = distances[distances < distance_thresh]\n",
    "        \n",
    "    else:\n",
    "        distances = distances[idx]\n",
    "\n",
    "    return matrix, distances, idx\n",
    "\n",
    "\n",
    "def registerImagesV2_group(group_name, im_corner_gdf, corners_curr, corner_arry, descriptor_kwds, \n",
    "                     r_initial=500, \n",
    "                     verbose=1, \n",
    "                     distance_threshold=10,\n",
    "                     n_iters=20,\n",
    "                     r_change=0.6,\n",
    "                     dbscan_ini=0.04,\n",
    "                     dbscan_max=0.1,\n",
    "                     logging_dir=None,\n",
    "                     remove_stdev=True\n",
    "                     ):\n",
    "    compoundedAdjustment = np.eye(3)\n",
    "    flip=np.array([\n",
    "        [1, 0, 0],\n",
    "        [0, -1, 0],\n",
    "        [0, 0, 1]\n",
    "        ]) \n",
    "    \n",
    "    os.makedirs(logging_dir, exist_ok=True)\n",
    "    logging_basename = os.path.join(logging_dir, group_name)\n",
    "\n",
    "    logging_struct = {}\n",
    "\n",
    "    matching_results = None\n",
    "    im_corner_gdf_adj = im_corner_gdf.copy()\n",
    "\n",
    "    registration_struct = {}\n",
    "    registration_struct['best_grade']       = 1e9\n",
    "    registration_struct['best_transform']   = None\n",
    "    registration_struct['grades']           = []\n",
    "    registration_struct['transforms']       = []\n",
    "    registration_struct['points']           = []\n",
    "\n",
    "    for i in range(n_iters):\n",
    "\n",
    "        logging_struct[i] = {}\n",
    "        \n",
    "        # r_current = r_initial * 0.95 ** i\n",
    "        r_current = r_initial * r_change ** i\n",
    "        dbscan_curr = dbscan_ini + dbscan_ini * i\n",
    "        if dbscan_curr > dbscan_max:\n",
    "            dbscan_max = dbscan_curr\n",
    "            \n",
    "        matching_results_curr, _, _ = matching_distances_loosen_distance(im_corner_gdf_adj, corners_curr, ratio_threshold=0.75, \n",
    "                                                                    match_radius=r_current, \n",
    "                                                                    num_retries=10,\n",
    "                                                                    loosening_factor=0.25, \n",
    "                                                                    **descriptor_kwds)\n",
    "        \n",
    "        if matching_results is None:\n",
    "            matching_results = matching_results_curr\n",
    "        else:\n",
    "            print(\"UPDATING RESULTS\", len(matching_results))\n",
    "            matching_results = updateResults(matching_results, matching_results_curr)\n",
    "            print(len(matching_results))\n",
    "        \n",
    "        if len(matching_results) < 3:\n",
    "            raise(Exception(f\"Cannot match: {len(matching_results)} matches found for {os.path.basename(ra.files[0])}\"))\n",
    "        \n",
    "        matrix, distances, idx = adjustFromMatchingV3(matching_results, plot=verbose>8, \n",
    "                                                        dbscan_eps=dbscan_curr,\n",
    "                                                        verbose=verbose>8,\n",
    "                                                        # filter_topn=500,\n",
    "                                                        distance_thresh=r_current,\n",
    "                                                        logging_dir=None if logging_dir is None else logging_basename + f\"_iteration{str(i).zfill(2)}.jpg\")\n",
    "        \n",
    "        matching_results = [matching_results[i] for i in idx]\n",
    "\n",
    "        print(len(matching_results))\n",
    "\n",
    "        logging_struct[i][\"matching_results\"]   = matching_results\n",
    "        logging_struct[i][\"distances\"]          = distances\n",
    "\n",
    "        # current_transformation  = np.linalg.inv(matrix) @ getMatrixFromAffine(ra.transform)\n",
    "        current_adjustment      = np.linalg.inv(matrix)\n",
    "\n",
    "        # reprojectedcorners = np.hstack((corner_arry, np.ones((corner_arry.shape[0], 1)))) @ current_transformation.T\n",
    "\n",
    "        scale       = np.sqrt(0.5 * (matrix[0,0] ** 2 + matrix[1,1] ** 2))\n",
    "        translation = np.sqrt(matrix[0,2] ** 2 + matrix[1,2] ** 2)\n",
    "        conv_check  = np.abs(1 - scale) < 0.002 and translation < distance_threshold\n",
    "\n",
    "        if verbose > 3:\n",
    "            print(f\"Scale {scale:.3e}\")\n",
    "            print(f\"Translation {translation:.3e}\")\n",
    "            print(conv_check)\n",
    "            print(np.linalg.inv(matrix))\n",
    "            print(\"Inverse\")\n",
    "            print(np.linalg.inv(np.linalg.inv(matrix)))\n",
    "\n",
    "        if verbose > 5:\n",
    "            fig, ax  = plt.subplots()\n",
    "            # ax.scatter(reprojectedcorners[:, 0], reprojectedcorners[:, 1], label=\"Reprojected Corners\")\n",
    "\n",
    "            # original_image_corners = np.hstack((corner_arry, np.ones((corner_arry.shape[0], 1)))) @  getMatrixFromAffine(ra.transform).T\n",
    "            # ax.scatter(original_image_corners[:, 0], original_image_corners[:, 1], label=\"Original Image Corners\")\n",
    "\n",
    "            # READ MATCHING RESULTS AND GET DATABASE (TARGET?)\n",
    "            db_corners_x = np.array([m[5][0] for m in matching_results])\n",
    "            db_corners_y = np.array([m[5][1] for m in matching_results])\n",
    "            ax.scatter(db_corners_x, db_corners_y, label=\"Matching - Image Corners\")\n",
    "\n",
    "            # READ MATCHING RESULTS AND GET DETECTIONS (REFERENCE?)\n",
    "            r_corners_x = np.array([m[4][0] for m in matching_results])\n",
    "            r_corners_y = np.array([m[4][1] for m in matching_results])\n",
    "            ax.scatter(r_corners_x, r_corners_y, label=\"Matching - Database Corners\")\n",
    "\n",
    "            ax, _ = calcQuiver(ax, \n",
    "                       gpd.GeoDataFrame(geometry=gpd.points_from_xy(db_corners_x, db_corners_y)),\n",
    "                       gpd.GeoDataFrame(geometry=gpd.points_from_xy(r_corners_x, r_corners_y)), )\n",
    "\n",
    "            try:\n",
    "                cx.add_basemap(ax, zoom_adjust=1)\n",
    "            except:\n",
    "                print(\"Error adding basemap\")\n",
    "            ax.legend()\n",
    "            plt.show()\n",
    "\n",
    "        # im_corner_gdf_adj['geometry'] = gpd.points_from_xy(reprojectedcorners[:,0], reprojectedcorners[:, 1])\n",
    "\n",
    "        if verbose > 0:\n",
    "            print(np.nanpercentile(distances, [0, 25, 50, 75, 100]), len(matching_results))\n",
    "            print(f\"Distances under 100: {distances[distances<100]}\" )\n",
    "\n",
    "        # CHECK IF WE HAVE CORRECT DISTANCE\n",
    "        matched_check = np.nanpercentile(distances, 50) < distance_threshold # and distances.shape[0] > 10\n",
    "\n",
    "        # IF BEST, SAVE AS BEST\n",
    "        if np.nanpercentile(distances, 50) < registration_struct['best_grade']:\n",
    "            registration_struct['best_grade']       = np.nanpercentile(distances, 50)\n",
    "            # registration_struct['best_transform']   = current_transformation\n",
    "            registration_struct['best_adjustment'] = current_adjustment\n",
    "            # registration_struct['best_im_corner_gdf_adj']    = im_corner_gdf_adj\n",
    "\n",
    "        # SAVE CURRENT TIMESTEP VALUES\n",
    "        registration_struct[i] = {}\n",
    "        registration_struct[i]['grade']     = np.nanpercentile(distances, 50)\n",
    "        # registration_struct[i]['transform'] = current_transformation\n",
    "        registration_struct[i]['adjust'] = current_adjustment\n",
    "        # registration_struct[i]['im_corner_gdf_adj'] = im_corner_gdf_adj\n",
    "\n",
    "        if (matched_check or conv_check) and i > 1:\n",
    "            print(matched_check, conv_check)\n",
    "            break\n",
    "\n",
    "    logging_struct['registration_struct'] = registration_struct\n",
    "    with open(logging_basename+\".pkl\", 'wb') as handle:\n",
    "        pickle.dump(logging_struct, handle, protocol=pickle.HIGHEST_PROTOCOL)       \n",
    "\n",
    "    # return registration_struct['best_transform'] , registration_struct['best_im_corner_gdf_adj'], registration_struct['best_adjustment']\n",
    "    return registration_struct['best_transform'] , None, registration_struct['best_adjustment']\n"
   ]
  },
  {
   "cell_type": "code",
   "execution_count": 55,
   "id": "f9259695",
   "metadata": {},
   "outputs": [
    {
     "name": "stdout",
     "output_type": "stream",
     "text": [
      "FOUND GROUPING - USING\n",
      "2 / 65\n",
      "37 / 551\n",
      "25 / 362\n",
      "81 / 434\n",
      "21 / 287\n",
      "17 / 269\n",
      "84 / 431\n",
      "24 / 222\n",
      "30 / 252\n"
     ]
    },
    {
     "data": {
      "application/vnd.jupyter.widget-view+json": {
       "model_id": "67753a654acb43f6aa4f9e856b2fbac6",
       "version_major": 2,
       "version_minor": 0
      },
      "text/plain": [
       "  0%|          | 0/21475 [00:00<?, ?it/s]"
      ]
     },
     "metadata": {},
     "output_type": "display_data"
    },
    {
     "data": {
      "application/vnd.jupyter.widget-view+json": {
       "model_id": "16d5fe3f006c4736aae05a48cce3476d",
       "version_major": 2,
       "version_minor": 0
      },
      "text/plain": [
       "  0%|          | 0/292 [00:00<?, ?it/s]"
      ]
     },
     "metadata": {},
     "output_type": "display_data"
    },
    {
     "data": {
      "application/vnd.jupyter.widget-view+json": {
       "model_id": "26ad0430ceb94db1aefe89245e61a12b",
       "version_major": 2,
       "version_minor": 0
      },
      "text/plain": [
       "  0%|          | 0/21475 [00:00<?, ?it/s]"
      ]
     },
     "metadata": {},
     "output_type": "display_data"
    },
    {
     "name": "stdout",
     "output_type": "stream",
     "text": [
      "THESE ARE THE DBSCAN COUNTS\n",
      "[4 3 2 4 2 3]\n",
      "THESE ARE THE DBSCAN COUNTS\n",
      "[4 3 2 4 2 3]\n",
      "(58,) (58,) 8 2670.834415679236\n",
      "APPLYING DISTANCE THRESHOLD\n",
      "(58,)\n",
      "(58,)\n",
      "44\n",
      "Scale 8.605e-01\n",
      "Translation 1.672e+06\n",
      "False\n",
      "[[ 1.15781184e+00  7.08191101e-02  1.43320607e+06]\n",
      " [-7.08191101e-02  1.15781184e+00 -1.30710223e+06]\n",
      " [ 0.00000000e+00  0.00000000e+00  1.00000000e+00]]\n",
      "Inverse\n",
      "[[ 8.60478869e-01 -5.26323410e-02 -1.30203939e+06]\n",
      " [ 5.26323410e-02  8.60478869e-01  1.04930086e+06]\n",
      " [ 0.00000000e+00  0.00000000e+00  1.00000000e+00]]\n",
      "[ 731.49722638 1735.1956077  2392.47221244 2774.73403839 3490.5122918 ] 44\n",
      "Distances under 100: []\n"
     ]
    },
    {
     "data": {
      "application/vnd.jupyter.widget-view+json": {
       "model_id": "9657343a9ac04df1af78cc1071d6a0ee",
       "version_major": 2,
       "version_minor": 0
      },
      "text/plain": [
       "  0%|          | 0/292 [00:00<?, ?it/s]"
      ]
     },
     "metadata": {},
     "output_type": "display_data"
    },
    {
     "data": {
      "application/vnd.jupyter.widget-view+json": {
       "model_id": "fa2b72385d754d44b1abf2eade82783e",
       "version_major": 2,
       "version_minor": 0
      },
      "text/plain": [
       "  0%|          | 0/21475 [00:00<?, ?it/s]"
      ]
     },
     "metadata": {},
     "output_type": "display_data"
    },
    {
     "name": "stdout",
     "output_type": "stream",
     "text": [
      "UPDATING RESULTS 44\n",
      "44 48 59\n",
      "59\n",
      "THESE ARE THE DBSCAN COUNTS\n",
      "[2 2 4 4 5 2 2 4 2 6]\n",
      "THESE ARE THE DBSCAN COUNTS\n",
      "[2 2 4 4 5 2 2 4 2 6]\n",
      "(59,) (59,) 6 2383.3831593407563\n",
      "APPLYING DISTANCE THRESHOLD\n",
      "(59,)\n",
      "(59,)\n",
      "41\n",
      "Scale 8.497e-01\n",
      "Translation 1.813e+06\n",
      "False\n",
      "[[ 1.17114654e+00  8.19446502e-02  1.53659416e+06]\n",
      " [-8.19446502e-02  1.17114654e+00 -1.47244516e+06]\n",
      " [ 0.00000000e+00  0.00000000e+00  1.00000000e+00]]\n",
      "Inverse\n",
      "[[ 8.49704179e-01 -5.94534583e-02 -1.39319243e+06]\n",
      " [ 5.94534583e-02  8.49704179e-01  1.15978697e+06]\n",
      " [ 0.00000000e+00  0.00000000e+00  1.00000000e+00]]\n",
      "[ 701.38104232 1595.51040843 2125.28229163 2410.89397767 2933.31329037] 41\n",
      "Distances under 100: []\n"
     ]
    },
    {
     "data": {
      "application/vnd.jupyter.widget-view+json": {
       "model_id": "33b618ef91c04ebba04b7f6bd096e338",
       "version_major": 2,
       "version_minor": 0
      },
      "text/plain": [
       "  0%|          | 0/292 [00:00<?, ?it/s]"
      ]
     },
     "metadata": {},
     "output_type": "display_data"
    },
    {
     "data": {
      "application/vnd.jupyter.widget-view+json": {
       "model_id": "39246d9322c24cce9c16762b06e5e113",
       "version_major": 2,
       "version_minor": 0
      },
      "text/plain": [
       "  0%|          | 0/21475 [00:00<?, ?it/s]"
      ]
     },
     "metadata": {},
     "output_type": "display_data"
    },
    {
     "name": "stdout",
     "output_type": "stream",
     "text": [
      "UPDATING RESULTS 41\n",
      "41 39 56\n",
      "56\n",
      "THESE ARE THE DBSCAN COUNTS\n",
      "[2 2 8 3 3 5 3 2 2 4 4 2]\n",
      "THESE ARE THE DBSCAN COUNTS\n",
      "[2 2 8 3 3 5 3 2 2 4 4 2]\n",
      "(56,) (56,) 8 2314.387827644485\n",
      "APPLYING DISTANCE THRESHOLD\n",
      "(56,)\n",
      "(56,)\n",
      "43\n",
      "Scale 8.533e-01\n",
      "Translation 1.804e+06\n",
      "False\n",
      "[[ 1.16501646e+00  8.99556413e-02  1.44333251e+06]\n",
      " [-8.99556413e-02  1.16501646e+00 -1.53647068e+06]\n",
      " [ 0.00000000e+00  0.00000000e+00  1.00000000e+00]]\n",
      "Inverse\n",
      "[[ 8.53269768e-01 -6.58844160e-02 -1.33278147e+06]\n",
      " [ 6.58844160e-02  8.53269768e-01  1.21593086e+06]\n",
      " [ 0.00000000e+00  0.00000000e+00  1.00000000e+00]]\n",
      "[ 681.61595375 1648.37820102 2122.0072863  2417.94099332 2840.60437098] 43\n",
      "Distances under 100: []\n"
     ]
    },
    {
     "data": {
      "application/vnd.jupyter.widget-view+json": {
       "model_id": "60c11876192243e9abf631f554f10ae8",
       "version_major": 2,
       "version_minor": 0
      },
      "text/plain": [
       "  0%|          | 0/292 [00:00<?, ?it/s]"
      ]
     },
     "metadata": {},
     "output_type": "display_data"
    },
    {
     "data": {
      "application/vnd.jupyter.widget-view+json": {
       "model_id": "d608d5b1b8a34453ba2dfa57708a705f",
       "version_major": 2,
       "version_minor": 0
      },
      "text/plain": [
       "  0%|          | 0/21475 [00:00<?, ?it/s]"
      ]
     },
     "metadata": {},
     "output_type": "display_data"
    },
    {
     "name": "stdout",
     "output_type": "stream",
     "text": [
      "UPDATING RESULTS 43\n",
      "43 35 60\n",
      "60\n",
      "THESE ARE THE DBSCAN COUNTS\n",
      "[16 13  6  2  4  2  2  3]\n",
      "THESE ARE THE DBSCAN COUNTS\n",
      "[16 13  6  2  4  2  2  3]\n",
      "(60,) (60,) 29 2345.098984424723\n",
      "APPLYING DISTANCE THRESHOLD\n",
      "(60,)\n",
      "(60,)\n",
      "44\n",
      "Scale 8.475e-01\n",
      "Translation 1.822e+06\n",
      "False\n",
      "[[ 1.17475153e+00  7.78519449e-02  1.58913281e+06]\n",
      " [-7.78519449e-02  1.17475153e+00 -1.44159368e+06]\n",
      " [ 0.00000000e+00  0.00000000e+00  1.00000000e+00]]\n",
      "Inverse\n",
      "[[ 8.47521652e-01 -5.61660973e-02 -1.42779316e+06]\n",
      " [ 5.61660973e-02  8.47521652e-01  1.13252647e+06]\n",
      " [ 0.00000000e+00  0.00000000e+00  1.00000000e+00]]\n",
      "[ 633.30119107 1649.74532658 2107.41995265 2405.77237683 2913.23759967] 44\n",
      "Distances under 100: []\n"
     ]
    },
    {
     "data": {
      "application/vnd.jupyter.widget-view+json": {
       "model_id": "ad0d0b76d79a470f8fcc69a549b57bc4",
       "version_major": 2,
       "version_minor": 0
      },
      "text/plain": [
       "  0%|          | 0/292 [00:00<?, ?it/s]"
      ]
     },
     "metadata": {},
     "output_type": "display_data"
    },
    {
     "data": {
      "application/vnd.jupyter.widget-view+json": {
       "model_id": "4aab8414c3e34f85b82dd7008ae526b9",
       "version_major": 2,
       "version_minor": 0
      },
      "text/plain": [
       "  0%|          | 0/21475 [00:00<?, ?it/s]"
      ]
     },
     "metadata": {},
     "output_type": "display_data"
    },
    {
     "name": "stdout",
     "output_type": "stream",
     "text": [
      "UPDATING RESULTS 44\n",
      "44 34 66\n",
      "66\n",
      "THESE ARE THE DBSCAN COUNTS\n",
      "[15 21  6  2  4  2  2  2  2]\n",
      "THESE ARE THE DBSCAN COUNTS\n",
      "[15 21  6  2  4  2  2  2  2]\n",
      "(66,) (66,) 36 2243.152038924644\n",
      "APPLYING DISTANCE THRESHOLD\n",
      "(66,)\n",
      "(66,)\n",
      "52\n",
      "Scale 8.533e-01\n",
      "Translation 1.785e+06\n",
      "False\n",
      "[[ 1.16586130e+00  8.43021376e-02  1.47189712e+06]\n",
      " [-8.43021376e-02  1.16586130e+00 -1.47915685e+06]\n",
      " [ 0.00000000e+00  0.00000000e+00  1.00000000e+00]]\n",
      "Inverse\n",
      "[[ 8.53273560e-01 -6.16992650e-02 -1.34719379e+06]\n",
      " [ 6.16992650e-02  8.53273560e-01  1.17131046e+06]\n",
      " [ 0.00000000e+00  0.00000000e+00  1.00000000e+00]]\n",
      "[ 591.75324278 1644.29654077 2096.52852403 2368.05337481 2847.24050874] 52\n",
      "Distances under 100: []\n"
     ]
    },
    {
     "data": {
      "application/vnd.jupyter.widget-view+json": {
       "model_id": "5d3dcd5678bd411cb79017fde20a7abc",
       "version_major": 2,
       "version_minor": 0
      },
      "text/plain": [
       "  0%|          | 0/292 [00:00<?, ?it/s]"
      ]
     },
     "metadata": {},
     "output_type": "display_data"
    },
    {
     "data": {
      "application/vnd.jupyter.widget-view+json": {
       "model_id": "4d3aee7b90724146a0a4ca3c979712db",
       "version_major": 2,
       "version_minor": 0
      },
      "text/plain": [
       "  0%|          | 0/21475 [00:00<?, ?it/s]"
      ]
     },
     "metadata": {},
     "output_type": "display_data"
    },
    {
     "name": "stdout",
     "output_type": "stream",
     "text": [
      "UPDATING RESULTS 52\n",
      "52 29 68\n",
      "68\n",
      "THESE ARE THE DBSCAN COUNTS\n",
      "[21 19  6  4  4  7]\n",
      "THESE ARE THE DBSCAN COUNTS\n",
      "[21 19  6  4  4  7]\n",
      "(68,) (68,) 40 2132.5148453239867\n",
      "APPLYING DISTANCE THRESHOLD\n",
      "(68,)\n",
      "(68,)\n",
      "52\n",
      "Scale 8.645e-01\n",
      "Translation 1.720e+06\n",
      "False\n",
      "[[ 1.14883043e+00  9.53431056e-02  1.25195935e+06]\n",
      " [-9.53431056e-02  1.14883043e+00 -1.53735088e+06]\n",
      " [ 0.00000000e+00  0.00000000e+00  1.00000000e+00]]\n",
      "Inverse\n",
      "[[ 8.64496190e-01 -7.17457939e-02 -1.19261255e+06]\n",
      " [ 7.17457939e-02  8.64496190e-01  1.23921116e+06]\n",
      " [ 0.00000000e+00  0.00000000e+00  1.00000000e+00]]\n",
      "[ 249.59410047 1521.21561646 1950.17008605 2279.06385102 2626.67677665] 52\n",
      "Distances under 100: []\n"
     ]
    },
    {
     "data": {
      "application/vnd.jupyter.widget-view+json": {
       "model_id": "1f134b47cf394c23973baa3da1b866d8",
       "version_major": 2,
       "version_minor": 0
      },
      "text/plain": [
       "  0%|          | 0/292 [00:00<?, ?it/s]"
      ]
     },
     "metadata": {},
     "output_type": "display_data"
    },
    {
     "data": {
      "application/vnd.jupyter.widget-view+json": {
       "model_id": "11607c9ba94c437993129cdd2119eb65",
       "version_major": 2,
       "version_minor": 0
      },
      "text/plain": [
       "  0%|          | 0/21475 [00:00<?, ?it/s]"
      ]
     },
     "metadata": {},
     "output_type": "display_data"
    },
    {
     "name": "stdout",
     "output_type": "stream",
     "text": [
      "UPDATING RESULTS 52\n",
      "52 31 70\n",
      "70\n",
      "THESE ARE THE DBSCAN COUNTS\n",
      "[46  7  2  4  6  2]\n",
      "THESE ARE THE DBSCAN COUNTS\n",
      "[46  7  2  4  6  2]\n",
      "(70,) (70,) 46 2085.669550017601\n",
      "APPLYING DISTANCE THRESHOLD\n",
      "(70,)\n",
      "(70,)\n",
      "54\n",
      "Scale 8.631e-01\n",
      "Translation 1.721e+06\n",
      "False\n",
      "[[ 1.15123227e+00  9.22708304e-02  1.28809931e+06]\n",
      " [-9.22708304e-02  1.15123227e+00 -1.51309092e+06]\n",
      " [ 0.00000000e+00  0.00000000e+00  1.00000000e+00]]\n",
      "Inverse\n",
      "[[ 8.63089983e-01 -6.91763351e-02 -1.21641570e+06]\n",
      " [ 6.91763351e-02  8.63089983e-01  1.21682763e+06]\n",
      " [ 0.00000000e+00  0.00000000e+00  1.00000000e+00]]\n",
      "[ 499.35381965 1258.20122502 1973.42553334 2177.32739684 2555.35840243] 54\n",
      "Distances under 100: []\n"
     ]
    },
    {
     "data": {
      "application/vnd.jupyter.widget-view+json": {
       "model_id": "845bfb99d04a4fc392142f75b009cb5d",
       "version_major": 2,
       "version_minor": 0
      },
      "text/plain": [
       "  0%|          | 0/292 [00:00<?, ?it/s]"
      ]
     },
     "metadata": {},
     "output_type": "display_data"
    },
    {
     "data": {
      "application/vnd.jupyter.widget-view+json": {
       "model_id": "a66723d2e8424e0296a7c01f49e8109e",
       "version_major": 2,
       "version_minor": 0
      },
      "text/plain": [
       "  0%|          | 0/21475 [00:00<?, ?it/s]"
      ]
     },
     "metadata": {},
     "output_type": "display_data"
    },
    {
     "name": "stdout",
     "output_type": "stream",
     "text": [
      "UPDATING RESULTS 54\n",
      "54 23 69\n",
      "69\n",
      "THESE ARE THE DBSCAN COUNTS\n",
      "[46  8  2  8  5]\n",
      "THESE ARE THE DBSCAN COUNTS\n",
      "[46  8  2  8  5]\n",
      "(69,) (69,) 46 1998.3257709730624\n",
      "APPLYING DISTANCE THRESHOLD\n",
      "(69,)\n",
      "(69,)\n",
      "52\n",
      "Scale 8.714e-01\n",
      "Translation 1.678e+06\n",
      "False\n",
      "[[ 1.13887686e+00  9.97846748e-02  1.13032216e+06]\n",
      " [-9.97846748e-02  1.13887686e+00 -1.54999564e+06]\n",
      " [ 0.00000000e+00  0.00000000e+00  1.00000000e+00]]\n",
      "Inverse\n",
      "[[ 8.71368822e-01 -7.63464931e-02 -1.10326423e+06]\n",
      " [ 7.63464931e-02  8.71368822e-01  1.26432175e+06]\n",
      " [ 0.00000000e+00  0.00000000e+00  1.00000000e+00]]\n",
      "[ 219.59436254 1186.79130918 1813.65188932 2094.55882819 2417.78270644] 52\n",
      "Distances under 100: []\n"
     ]
    },
    {
     "data": {
      "application/vnd.jupyter.widget-view+json": {
       "model_id": "94f36c38060e42e1904fee711e4b6ab8",
       "version_major": 2,
       "version_minor": 0
      },
      "text/plain": [
       "  0%|          | 0/292 [00:00<?, ?it/s]"
      ]
     },
     "metadata": {},
     "output_type": "display_data"
    },
    {
     "data": {
      "application/vnd.jupyter.widget-view+json": {
       "model_id": "2758c22668fb47ddba9553a593365ddf",
       "version_major": 2,
       "version_minor": 0
      },
      "text/plain": [
       "  0%|          | 0/21475 [00:00<?, ?it/s]"
      ]
     },
     "metadata": {},
     "output_type": "display_data"
    },
    {
     "name": "stdout",
     "output_type": "stream",
     "text": [
      "UPDATING RESULTS 52\n",
      "52 20 66\n",
      "66\n",
      "THESE ARE THE DBSCAN COUNTS\n",
      "[52  2  9  3]\n",
      "THESE ARE THE DBSCAN COUNTS\n",
      "[52  2  9  3]\n",
      "(66,) (66,) 52 1916.8862696149295\n",
      "APPLYING DISTANCE THRESHOLD\n",
      "(66,)\n",
      "(66,)\n",
      "51\n",
      "Scale 8.577e-01\n",
      "Translation 1.776e+06\n",
      "False\n",
      "[[ 1.15826830e+00  9.38691901e-02  1.35769743e+06]\n",
      " [-9.38691901e-02  1.15826830e+00 -1.55490083e+06]\n",
      " [ 0.00000000e+00  0.00000000e+00  1.00000000e+00]]\n",
      "Inverse\n",
      "[[ 8.57724364e-01 -6.95122984e-02 -1.27261489e+06]\n",
      " [ 6.95122984e-02  8.57724364e-01  1.23929966e+06]\n",
      " [ 0.00000000e+00  0.00000000e+00  1.00000000e+00]]\n",
      "[ 410.03834191 1091.26364536 1670.56917212 2104.82919492 2277.85251111] 51\n",
      "Distances under 100: []\n"
     ]
    },
    {
     "data": {
      "application/vnd.jupyter.widget-view+json": {
       "model_id": "6e2a14a9f6f940948a7abcf9217fcaa2",
       "version_major": 2,
       "version_minor": 0
      },
      "text/plain": [
       "  0%|          | 0/292 [00:00<?, ?it/s]"
      ]
     },
     "metadata": {},
     "output_type": "display_data"
    },
    {
     "data": {
      "application/vnd.jupyter.widget-view+json": {
       "model_id": "78150ab52bb94a3da862d76dd5a5057c",
       "version_major": 2,
       "version_minor": 0
      },
      "text/plain": [
       "  0%|          | 0/21475 [00:00<?, ?it/s]"
      ]
     },
     "metadata": {},
     "output_type": "display_data"
    },
    {
     "name": "stdout",
     "output_type": "stream",
     "text": [
      "UPDATING RESULTS 51\n",
      "51 26 70\n",
      "70\n",
      "THESE ARE THE DBSCAN COUNTS\n",
      "[68  2]\n",
      "THESE ARE THE DBSCAN COUNTS\n",
      "[68  2]\n",
      "(70,) (70,) 68 1914.2761841467704\n",
      "APPLYING DISTANCE THRESHOLD\n",
      "(70,)\n",
      "(70,)\n",
      "53\n",
      "Scale 8.598e-01\n",
      "Translation 1.743e+06\n",
      "False\n",
      "[[ 1.15600147e+00  9.00176375e-02  1.34733244e+06]\n",
      " [-9.00176375e-02  1.15600147e+00 -1.50571655e+06]\n",
      " [ 0.00000000e+00  0.00000000e+00  1.00000000e+00]]\n",
      "Inverse\n",
      "[[ 8.59837003e-01 -6.69553611e-02 -1.25930209e+06]\n",
      " [ 6.69553611e-02  8.59837003e-01  1.20445967e+06]\n",
      " [ 0.00000000e+00  0.00000000e+00  1.00000000e+00]]\n",
      "[ 319.88486891 1063.04810031 1654.34019503 1944.54914599 2173.9998097 ] 53\n",
      "Distances under 100: []\n"
     ]
    },
    {
     "data": {
      "application/vnd.jupyter.widget-view+json": {
       "model_id": "24ea52fbf56d4b9db82b9055ff1a8b93",
       "version_major": 2,
       "version_minor": 0
      },
      "text/plain": [
       "  0%|          | 0/292 [00:00<?, ?it/s]"
      ]
     },
     "metadata": {},
     "output_type": "display_data"
    },
    {
     "data": {
      "application/vnd.jupyter.widget-view+json": {
       "model_id": "978ed9adbb19410ab7428b465ca6c4a4",
       "version_major": 2,
       "version_minor": 0
      },
      "text/plain": [
       "  0%|          | 0/21475 [00:00<?, ?it/s]"
      ]
     },
     "metadata": {},
     "output_type": "display_data"
    },
    {
     "name": "stdout",
     "output_type": "stream",
     "text": [
      "UPDATING RESULTS 53\n",
      "53 26 66\n",
      "66\n",
      "THESE ARE THE DBSCAN COUNTS\n",
      "[45  2 19]\n",
      "THESE ARE THE DBSCAN COUNTS\n",
      "[45  2 19]\n",
      "(66,) (66,) 64 1629.327464134\n",
      "APPLYING DISTANCE THRESHOLD\n",
      "(66,)\n",
      "(66,)\n",
      "48\n",
      "Scale 8.529e-01\n",
      "Translation 1.761e+06\n",
      "False\n",
      "[[ 1.16764859e+00  7.50933087e-02  1.52371959e+06]\n",
      " [-7.50933087e-02  1.16764859e+00 -1.38726426e+06]\n",
      " [ 0.00000000e+00  0.00000000e+00  1.00000000e+00]]\n",
      "Inverse\n",
      "[[ 8.52894498e-01 -5.48509803e-02 -1.37566486e+06]\n",
      " [ 5.48509803e-02  8.52894498e-01  1.09961254e+06]\n",
      " [ 0.00000000e+00  0.00000000e+00  1.00000000e+00]]\n",
      "[ 417.79590638 1143.6753669  1492.182009   1636.26867559 2016.06229285] 48\n",
      "Distances under 100: []\n"
     ]
    },
    {
     "data": {
      "application/vnd.jupyter.widget-view+json": {
       "model_id": "f8811182ca0b4e54b382dea3c61f022e",
       "version_major": 2,
       "version_minor": 0
      },
      "text/plain": [
       "  0%|          | 0/292 [00:00<?, ?it/s]"
      ]
     },
     "metadata": {},
     "output_type": "display_data"
    },
    {
     "data": {
      "application/vnd.jupyter.widget-view+json": {
       "model_id": "1550b3b43910472cb8b4e768891e459a",
       "version_major": 2,
       "version_minor": 0
      },
      "text/plain": [
       "  0%|          | 0/21475 [00:00<?, ?it/s]"
      ]
     },
     "metadata": {},
     "output_type": "display_data"
    },
    {
     "name": "stdout",
     "output_type": "stream",
     "text": [
      "UPDATING RESULTS 48\n",
      "48 23 62\n",
      "62\n",
      "THESE ARE THE DBSCAN COUNTS\n",
      "[40  2 20]\n",
      "THESE ARE THE DBSCAN COUNTS\n",
      "[40  2 20]\n",
      "(62,) (62,) 60 1468.9529810098038\n",
      "APPLYING DISTANCE THRESHOLD\n",
      "(62,)\n",
      "(62,)\n",
      "48\n",
      "Scale 8.499e-01\n",
      "Translation 1.739e+06\n",
      "False\n",
      "[[ 1.17418110e+00  5.33621764e-02  1.66950463e+06]\n",
      " [-5.33621764e-02  1.17418110e+00 -1.17838265e+06]\n",
      " [ 0.00000000e+00  0.00000000e+00  1.00000000e+00]]\n",
      "Inverse\n",
      "[[ 8.49902020e-01 -3.86248947e-02 -1.46443026e+06]\n",
      " [ 3.86248947e-02  8.49902020e-01  9.37025350e+05]\n",
      " [ 0.00000000e+00  0.00000000e+00  1.00000000e+00]]\n",
      "[ 469.08848058 1229.4419434  1361.91835045 1491.89071285 1778.33232959] 48\n",
      "Distances under 100: []\n"
     ]
    },
    {
     "data": {
      "application/vnd.jupyter.widget-view+json": {
       "model_id": "69b8b311698a4d298e065a65b59f470e",
       "version_major": 2,
       "version_minor": 0
      },
      "text/plain": [
       "  0%|          | 0/292 [00:00<?, ?it/s]"
      ]
     },
     "metadata": {},
     "output_type": "display_data"
    },
    {
     "data": {
      "application/vnd.jupyter.widget-view+json": {
       "model_id": "7285ecf2367b4b92b9a63eac6a418d2a",
       "version_major": 2,
       "version_minor": 0
      },
      "text/plain": [
       "  0%|          | 0/21475 [00:00<?, ?it/s]"
      ]
     },
     "metadata": {},
     "output_type": "display_data"
    },
    {
     "name": "stdout",
     "output_type": "stream",
     "text": [
      "UPDATING RESULTS 48\n",
      "48 24 62\n",
      "62\n",
      "THESE ARE THE DBSCAN COUNTS\n",
      "[61]\n",
      "THESE ARE THE DBSCAN COUNTS\n",
      "[61]\n",
      "(62,) (62,) 61 1458.192776353143\n",
      "APPLYING DISTANCE THRESHOLD\n",
      "(62,)\n",
      "(62,)\n",
      "52\n",
      "Scale 8.609e-01\n",
      "Translation 1.605e+06\n",
      "False\n",
      "[[ 1.15974027e+00  4.54035835e-02  1.54346034e+06]\n",
      " [-4.54035835e-02  1.15974027e+00 -1.04296770e+06]\n",
      " [ 0.00000000e+00  0.00000000e+00  1.00000000e+00]]\n",
      "Inverse\n",
      "[[ 8.60942461e-01 -3.37057133e-02 -1.36398452e+06]\n",
      " [ 3.37057133e-02  8.60942461e-01  8.45911751e+05]\n",
      " [ 0.00000000e+00  0.00000000e+00  1.00000000e+00]]\n",
      "[ 533.97046358 1182.80823237 1397.27322518 1547.16389254 1870.92289495] 52\n",
      "Distances under 100: []\n"
     ]
    },
    {
     "data": {
      "application/vnd.jupyter.widget-view+json": {
       "model_id": "d8f0f5dde7cb4aa6bafa0ccc20acd3d7",
       "version_major": 2,
       "version_minor": 0
      },
      "text/plain": [
       "  0%|          | 0/292 [00:00<?, ?it/s]"
      ]
     },
     "metadata": {},
     "output_type": "display_data"
    },
    {
     "data": {
      "application/vnd.jupyter.widget-view+json": {
       "model_id": "930eafe4baad4191ae3e5d22e4667777",
       "version_major": 2,
       "version_minor": 0
      },
      "text/plain": [
       "  0%|          | 0/21475 [00:00<?, ?it/s]"
      ]
     },
     "metadata": {},
     "output_type": "display_data"
    },
    {
     "name": "stdout",
     "output_type": "stream",
     "text": [
      "UPDATING RESULTS 52\n",
      "52 26 66\n",
      "66\n",
      "THESE ARE THE DBSCAN COUNTS\n",
      "[65]\n",
      "THESE ARE THE DBSCAN COUNTS\n",
      "[65]\n",
      "(66,) (66,) 65 1433.347131530264\n",
      "APPLYING DISTANCE THRESHOLD\n",
      "(66,)\n",
      "(66,)\n",
      "52\n",
      "Scale 8.596e-01\n",
      "Translation 1.608e+06\n",
      "False\n",
      "[[ 1.16194468e+00  3.92849686e-02  1.58834501e+06]\n",
      " [-3.92849686e-02  1.16194468e+00 -9.85426786e+05]\n",
      " [ 0.00000000e+00  0.00000000e+00  1.00000000e+00]]\n",
      "Inverse\n",
      "[[ 8.59643515e-01 -2.90642653e-02 -1.39405119e+06]\n",
      " [ 2.90642653e-02  8.59643515e-01  8.00951666e+05]\n",
      " [ 0.00000000e+00  0.00000000e+00  1.00000000e+00]]\n",
      "[ 640.63159147 1084.65456386 1317.08253348 1517.86390972 1710.78974057] 52\n",
      "Distances under 100: []\n"
     ]
    },
    {
     "data": {
      "application/vnd.jupyter.widget-view+json": {
       "model_id": "6631d7d8125a4f168cae2954e4af3ed1",
       "version_major": 2,
       "version_minor": 0
      },
      "text/plain": [
       "  0%|          | 0/292 [00:00<?, ?it/s]"
      ]
     },
     "metadata": {},
     "output_type": "display_data"
    },
    {
     "data": {
      "application/vnd.jupyter.widget-view+json": {
       "model_id": "62b7cefea0444b828af36506b4987f57",
       "version_major": 2,
       "version_minor": 0
      },
      "text/plain": [
       "  0%|          | 0/21475 [00:00<?, ?it/s]"
      ]
     },
     "metadata": {},
     "output_type": "display_data"
    },
    {
     "name": "stdout",
     "output_type": "stream",
     "text": [
      "UPDATING RESULTS 52\n",
      "52 24 66\n",
      "66\n",
      "THESE ARE THE DBSCAN COUNTS\n",
      "[65]\n",
      "THESE ARE THE DBSCAN COUNTS\n",
      "[65]\n",
      "(66,) (66,) 65 1422.856460308888\n",
      "APPLYING DISTANCE THRESHOLD\n",
      "(66,)\n",
      "(66,)\n",
      "49\n",
      "Scale 8.717e-01\n",
      "Translation 1.461e+06\n",
      "False\n",
      "[[ 1.14639113e+00  2.94437395e-02  1.45701850e+06]\n",
      " [-2.94437395e-02  1.14639113e+00 -8.26183125e+05]\n",
      " [ 0.00000000e+00  0.00000000e+00  1.00000000e+00]]\n",
      "Inverse\n",
      "[[ 8.71727586e-01 -2.23893218e-02 -1.28862090e+06]\n",
      " [ 2.23893218e-02  8.71727586e-01  6.87584965e+05]\n",
      " [ 0.00000000e+00  0.00000000e+00  1.00000000e+00]]\n",
      "[ 535.81341953 1150.33770386 1336.65165388 1477.4581889  1689.65055552] 49\n",
      "Distances under 100: []\n"
     ]
    },
    {
     "data": {
      "application/vnd.jupyter.widget-view+json": {
       "model_id": "8c7d94a5545b448eb3bcd16afdbb112c",
       "version_major": 2,
       "version_minor": 0
      },
      "text/plain": [
       "  0%|          | 0/292 [00:00<?, ?it/s]"
      ]
     },
     "metadata": {},
     "output_type": "display_data"
    },
    {
     "data": {
      "application/vnd.jupyter.widget-view+json": {
       "model_id": "f2a5908e72d1463d9af4a563be2835f7",
       "version_major": 2,
       "version_minor": 0
      },
      "text/plain": [
       "  0%|          | 0/21475 [00:00<?, ?it/s]"
      ]
     },
     "metadata": {},
     "output_type": "display_data"
    },
    {
     "name": "stdout",
     "output_type": "stream",
     "text": [
      "UPDATING RESULTS 49\n",
      "49 26 68\n",
      "68\n",
      "THESE ARE THE DBSCAN COUNTS\n",
      "[68]\n",
      "THESE ARE THE DBSCAN COUNTS\n",
      "[68]\n",
      "(68,) (68,) 68 1408.266712114636\n",
      "APPLYING DISTANCE THRESHOLD\n",
      "(68,)\n",
      "(68,)\n",
      "45\n",
      "Scale 8.768e-01\n",
      "Translation 1.390e+06\n",
      "False\n",
      "[[ 1.14028121e+00  1.71277419e-02  1.43481169e+06]\n",
      " [-1.71277419e-02  1.14028121e+00 -6.73544112e+05]\n",
      " [ 0.00000000e+00  0.00000000e+00  1.00000000e+00]]\n",
      "Inverse\n",
      "[[ 8.76778832e-01 -1.31697702e-02 -1.26688294e+06]\n",
      " [ 1.31697702e-02  8.76778832e-01  5.71653080e+05]\n",
      " [ 0.00000000e+00  0.00000000e+00  1.00000000e+00]]\n",
      "[ 501.87290621 1051.89305165 1253.77435203 1408.11683058 1555.52069217] 45\n",
      "Distances under 100: []\n"
     ]
    },
    {
     "data": {
      "application/vnd.jupyter.widget-view+json": {
       "model_id": "4bde746e82264247a4a2f8a323d31d42",
       "version_major": 2,
       "version_minor": 0
      },
      "text/plain": [
       "  0%|          | 0/292 [00:00<?, ?it/s]"
      ]
     },
     "metadata": {},
     "output_type": "display_data"
    },
    {
     "data": {
      "application/vnd.jupyter.widget-view+json": {
       "model_id": "5f8ef69033ad44abadc8161e0d7db43a",
       "version_major": 2,
       "version_minor": 0
      },
      "text/plain": [
       "  0%|          | 0/21475 [00:00<?, ?it/s]"
      ]
     },
     "metadata": {},
     "output_type": "display_data"
    },
    {
     "name": "stdout",
     "output_type": "stream",
     "text": [
      "UPDATING RESULTS 45\n",
      "45 21 59\n",
      "59\n",
      "THESE ARE THE DBSCAN COUNTS\n",
      "[59]\n",
      "THESE ARE THE DBSCAN COUNTS\n",
      "[59]\n",
      "(59,) (59,) 59 1330.5462662671368\n",
      "APPLYING DISTANCE THRESHOLD\n",
      "(59,)\n",
      "(59,)\n",
      "43\n",
      "Scale 8.836e-01\n",
      "Translation 1.307e+06\n",
      "False\n",
      "[[ 1.13163703e+00  8.57252456e-03  1.37252172e+06]\n",
      " [-8.57252456e-03  1.13163703e+00 -5.51937015e+05]\n",
      " [ 0.00000000e+00  0.00000000e+00  1.00000000e+00]]\n",
      "Inverse\n",
      "[[ 8.83624865e-01 -6.69375043e-03 -1.21648885e+06]\n",
      " [ 6.69375043e-03  8.83624865e-01  4.78517953e+05]\n",
      " [ 0.00000000e+00  0.00000000e+00  1.00000000e+00]]\n",
      "[ 640.55106049  990.65261852 1252.65436571 1337.78704034 1532.87835199] 43\n",
      "Distances under 100: []\n"
     ]
    },
    {
     "data": {
      "application/vnd.jupyter.widget-view+json": {
       "model_id": "dfe1398d1ce54d2694732e659fc6d9bd",
       "version_major": 2,
       "version_minor": 0
      },
      "text/plain": [
       "  0%|          | 0/292 [00:00<?, ?it/s]"
      ]
     },
     "metadata": {},
     "output_type": "display_data"
    },
    {
     "data": {
      "application/vnd.jupyter.widget-view+json": {
       "model_id": "e4dbbed9a62e4c56ba1b317a93cf463c",
       "version_major": 2,
       "version_minor": 0
      },
      "text/plain": [
       "  0%|          | 0/21475 [00:00<?, ?it/s]"
      ]
     },
     "metadata": {},
     "output_type": "display_data"
    },
    {
     "name": "stdout",
     "output_type": "stream",
     "text": [
      "UPDATING RESULTS 43\n",
      "43 20 57\n",
      "57\n",
      "THESE ARE THE DBSCAN COUNTS\n",
      "[57]\n",
      "THESE ARE THE DBSCAN COUNTS\n",
      "[57]\n",
      "(57,) (57,) 57 1284.2398752389627\n",
      "APPLYING DISTANCE THRESHOLD\n",
      "(57,)\n",
      "(57,)\n",
      "42\n",
      "Scale 8.791e-01\n",
      "Translation 1.356e+06\n",
      "False\n",
      "[[ 1.13748799e+00  4.51512606e-03  1.44904090e+06]\n",
      " [-4.51512606e-03  1.13748799e+00 -5.29148713e+05]\n",
      " [ 0.00000000e+00  0.00000000e+00  1.00000000e+00]]\n",
      "Inverse\n",
      "[[ 8.79116307e-01 -3.48954975e-03 -1.27572197e+06]\n",
      " [ 3.48954975e-03  8.79116307e-01  4.60126762e+05]\n",
      " [ 0.00000000e+00  0.00000000e+00  1.00000000e+00]]\n",
      "[ 532.08171087  950.3143392  1202.4698265  1291.50504718 1453.59072519] 42\n",
      "Distances under 100: []\n"
     ]
    },
    {
     "data": {
      "application/vnd.jupyter.widget-view+json": {
       "model_id": "638bdf7e6b1e4d99850ffc2829327607",
       "version_major": 2,
       "version_minor": 0
      },
      "text/plain": [
       "  0%|          | 0/292 [00:00<?, ?it/s]"
      ]
     },
     "metadata": {},
     "output_type": "display_data"
    },
    {
     "data": {
      "application/vnd.jupyter.widget-view+json": {
       "model_id": "6f38f175ffe94a9d9bf4d0524fcd87e1",
       "version_major": 2,
       "version_minor": 0
      },
      "text/plain": [
       "  0%|          | 0/21475 [00:00<?, ?it/s]"
      ]
     },
     "metadata": {},
     "output_type": "display_data"
    },
    {
     "name": "stdout",
     "output_type": "stream",
     "text": [
      "UPDATING RESULTS 42\n",
      "42 19 56\n",
      "56\n",
      "THESE ARE THE DBSCAN COUNTS\n",
      "[56]\n",
      "THESE ARE THE DBSCAN COUNTS\n",
      "[56]\n",
      "(56,) (56,) 56 1279.2384113841795\n",
      "APPLYING DISTANCE THRESHOLD\n",
      "(56,)\n",
      "(56,)\n",
      "36\n",
      "Scale 8.830e-01\n",
      "Translation 1.313e+06\n",
      "False\n",
      "[[ 1.13243566e+00  5.31158234e-03  1.39249511e+06]\n",
      " [-5.31158234e-03  1.13243566e+00 -5.19845366e+05]\n",
      " [ 0.00000000e+00  0.00000000e+00  1.00000000e+00]]\n",
      "Inverse\n",
      "[[ 8.83032950e-01 -4.14178252e-03 -1.23177215e+06]\n",
      " [ 4.14178252e-03  8.83032950e-01  4.53273175e+05]\n",
      " [ 0.00000000e+00  0.00000000e+00  1.00000000e+00]]\n",
      "[ 430.09766764  893.85940671 1109.20112485 1255.78062017 1360.24169729] 36\n",
      "Distances under 100: []\n"
     ]
    },
    {
     "data": {
      "application/vnd.jupyter.widget-view+json": {
       "model_id": "09b21b8806cf4ef19a635349d52bf74c",
       "version_major": 2,
       "version_minor": 0
      },
      "text/plain": [
       "  0%|          | 0/292 [00:00<?, ?it/s]"
      ]
     },
     "metadata": {},
     "output_type": "display_data"
    },
    {
     "data": {
      "application/vnd.jupyter.widget-view+json": {
       "model_id": "10cd6512999a4bd29fe1f23627551c79",
       "version_major": 2,
       "version_minor": 0
      },
      "text/plain": [
       "  0%|          | 0/21475 [00:00<?, ?it/s]"
      ]
     },
     "metadata": {},
     "output_type": "display_data"
    },
    {
     "name": "stdout",
     "output_type": "stream",
     "text": [
      "UPDATING RESULTS 36\n",
      "36 16 48\n",
      "48\n",
      "THESE ARE THE DBSCAN COUNTS\n",
      "[48]\n",
      "THESE ARE THE DBSCAN COUNTS\n",
      "[48]\n",
      "(48,) (48,) 48 1097.510557155275\n",
      "APPLYING DISTANCE THRESHOLD\n",
      "(48,)\n",
      "(48,)\n",
      "31\n",
      "Scale 8.883e-01\n",
      "Translation 1.253e+06\n",
      "False\n",
      "[[ 1.12579445e+00  1.64543904e-03  1.33473276e+06]\n",
      " [-1.64543904e-03  1.12579445e+00 -4.57412286e+05]\n",
      " [ 0.00000000e+00  0.00000000e+00  1.00000000e+00]]\n",
      "Inverse\n",
      "[[ 8.88259720e-01 -1.29826295e-03 -1.18618319e+06]\n",
      " [ 1.29826295e-03  8.88259720e-01  4.04568075e+05]\n",
      " [ 0.00000000e+00  0.00000000e+00  1.00000000e+00]]\n",
      "[ 266.96399707  851.11606721  987.47214502 1085.43587997 1306.92419298] 31\n",
      "Distances under 100: []\n"
     ]
    },
    {
     "data": {
      "application/vnd.jupyter.widget-view+json": {
       "model_id": "5de3e79d86ef46b58a8e6d8f8ded66f0",
       "version_major": 2,
       "version_minor": 0
      },
      "text/plain": [
       "  0%|          | 0/292 [00:00<?, ?it/s]"
      ]
     },
     "metadata": {},
     "output_type": "display_data"
    },
    {
     "data": {
      "application/vnd.jupyter.widget-view+json": {
       "model_id": "2b8d5ea9aa7b4fd6aac9b7442ef50a6c",
       "version_major": 2,
       "version_minor": 0
      },
      "text/plain": [
       "  0%|          | 0/21475 [00:00<?, ?it/s]"
      ]
     },
     "metadata": {},
     "output_type": "display_data"
    },
    {
     "name": "stdout",
     "output_type": "stream",
     "text": [
      "UPDATING RESULTS 31\n",
      "31 15 43\n",
      "43\n",
      "THESE ARE THE DBSCAN COUNTS\n",
      "[43]\n",
      "THESE ARE THE DBSCAN COUNTS\n",
      "[43]\n",
      "(43,) (43,) 43 1029.2561721885593\n",
      "APPLYING DISTANCE THRESHOLD\n",
      "(43,)\n",
      "(43,)\n",
      "28\n",
      "Scale 9.042e-01\n",
      "Translation 1.075e+06\n",
      "False\n",
      "[[ 1.10599150e+00 -2.78114169e-03  1.13937648e+06]\n",
      " [ 2.78114169e-03  1.10599150e+00 -3.40909355e+05]\n",
      " [ 0.00000000e+00  0.00000000e+00  1.00000000e+00]]\n",
      "Inverse\n",
      "[[ 9.04160364e-01  2.27361429e-03 -1.02940396e+06]\n",
      " [-2.27361429e-03  9.04160364e-01  3.10827229e+05]\n",
      " [ 0.00000000e+00  0.00000000e+00  1.00000000e+00]]\n",
      "[ 223.20320106  650.91217521  899.84274506 1015.93753805 1155.53380939] 28\n",
      "Distances under 100: []\n"
     ]
    },
    {
     "data": {
      "application/vnd.jupyter.widget-view+json": {
       "model_id": "4674682e3cce4cf1a243477de34ef347",
       "version_major": 2,
       "version_minor": 0
      },
      "text/plain": [
       "  0%|          | 0/292 [00:00<?, ?it/s]"
      ]
     },
     "metadata": {},
     "output_type": "display_data"
    },
    {
     "data": {
      "application/vnd.jupyter.widget-view+json": {
       "model_id": "b44908dd24e046d9b16f8c5991cf4de6",
       "version_major": 2,
       "version_minor": 0
      },
      "text/plain": [
       "  0%|          | 0/21475 [00:00<?, ?it/s]"
      ]
     },
     "metadata": {},
     "output_type": "display_data"
    },
    {
     "name": "stdout",
     "output_type": "stream",
     "text": [
      "UPDATING RESULTS 28\n",
      "28 17 40\n",
      "40\n",
      "THESE ARE THE DBSCAN COUNTS\n",
      "[40]\n",
      "THESE ARE THE DBSCAN COUNTS\n",
      "[40]\n",
      "(40,) (40,) 40 979.1855062511381\n",
      "APPLYING DISTANCE THRESHOLD\n",
      "(40,)\n",
      "(40,)\n",
      "26\n",
      "Scale 9.155e-01\n",
      "Translation 9.912e+05\n",
      "False\n",
      "[[ 1.09143562e+00 -3.07094279e-02  1.08219169e+06]\n",
      " [ 3.07094279e-02  1.09143562e+00  7.52352332e+03]\n",
      " [ 0.00000000e+00  0.00000000e+00  1.00000000e+00]]\n",
      "Inverse\n",
      "[[ 9.15499671e-01  2.57591658e-02 -9.90939936e+05]\n",
      " [-2.57591658e-02  9.15499671e-01  2.09885721e+04]\n",
      " [ 0.00000000e+00  0.00000000e+00  1.00000000e+00]]\n",
      "[ 118.3479223   402.87875888  795.36878107  954.05023562 1182.50283707] 26\n",
      "Distances under 100: []\n"
     ]
    },
    {
     "data": {
      "application/vnd.jupyter.widget-view+json": {
       "model_id": "894d0573d79f46f59d6da8af2d29d29a",
       "version_major": 2,
       "version_minor": 0
      },
      "text/plain": [
       "  0%|          | 0/292 [00:00<?, ?it/s]"
      ]
     },
     "metadata": {},
     "output_type": "display_data"
    },
    {
     "data": {
      "application/vnd.jupyter.widget-view+json": {
       "model_id": "f2fdf4209c6344458ed43d3391c89983",
       "version_major": 2,
       "version_minor": 0
      },
      "text/plain": [
       "  0%|          | 0/21475 [00:00<?, ?it/s]"
      ]
     },
     "metadata": {},
     "output_type": "display_data"
    },
    {
     "name": "stdout",
     "output_type": "stream",
     "text": [
      "UPDATING RESULTS 26\n",
      "26 17 41\n",
      "41\n",
      "THESE ARE THE DBSCAN COUNTS\n",
      "[41]\n",
      "THESE ARE THE DBSCAN COUNTS\n",
      "[41]\n",
      "(41,) (41,) 41 1033.1158999823642\n",
      "APPLYING DISTANCE THRESHOLD\n",
      "(41,)\n",
      "(41,)\n",
      "24\n",
      "Scale 9.250e-01\n",
      "Translation 9.034e+05\n",
      "False\n",
      "[[ 1.07997057e+00 -3.42437755e-02  9.72373973e+05]\n",
      " [ 3.42437755e-02  1.07997057e+00  8.52597268e+04]\n",
      " [ 0.00000000e+00  0.00000000e+00  1.00000000e+00]]\n",
      "Inverse\n",
      "[[ 9.25021141e-01  2.93306292e-02 -9.01967204e+05]\n",
      " [-2.93306292e-02  9.25021141e-01 -5.03467094e+04]\n",
      " [ 0.00000000e+00  0.00000000e+00  1.00000000e+00]]\n",
      "[ 141.06264578  369.61895387  823.71030922  985.1704324  1109.67649952] 24\n",
      "Distances under 100: []\n"
     ]
    },
    {
     "data": {
      "application/vnd.jupyter.widget-view+json": {
       "model_id": "66b0d86a82d34ed088b6be3bc863a940",
       "version_major": 2,
       "version_minor": 0
      },
      "text/plain": [
       "  0%|          | 0/292 [00:00<?, ?it/s]"
      ]
     },
     "metadata": {},
     "output_type": "display_data"
    },
    {
     "data": {
      "application/vnd.jupyter.widget-view+json": {
       "model_id": "89f0ec21d6474e78868a654b71992878",
       "version_major": 2,
       "version_minor": 0
      },
      "text/plain": [
       "  0%|          | 0/21475 [00:00<?, ?it/s]"
      ]
     },
     "metadata": {},
     "output_type": "display_data"
    },
    {
     "name": "stdout",
     "output_type": "stream",
     "text": [
      "UPDATING RESULTS 24\n",
      "24 16 38\n",
      "38\n",
      "THESE ARE THE DBSCAN COUNTS\n",
      "[38]\n",
      "THESE ARE THE DBSCAN COUNTS\n",
      "[38]\n",
      "(38,) (38,) 38 980.2433697206008\n",
      "APPLYING DISTANCE THRESHOLD\n",
      "(38,)\n",
      "(38,)\n",
      "22\n",
      "Scale 9.264e-01\n",
      "Translation 8.814e+05\n",
      "False\n",
      "[[ 1.07855592e+00 -3.18312618e-02  9.48860468e+05]\n",
      " [ 3.18312618e-02  1.07855592e+00  6.45316673e+04]\n",
      " [ 0.00000000e+00  0.00000000e+00  1.00000000e+00]]\n",
      "Inverse\n",
      "[[ 9.26358779e-01  2.73394899e-02 -8.80749488e+05]\n",
      " [-2.73394899e-02  9.26358779e-01 -3.38381154e+04]\n",
      " [ 0.00000000e+00  0.00000000e+00  1.00000000e+00]]\n",
      "[ 134.2750028   364.15954603  754.66864964  965.74565044 1028.60018401] 22\n",
      "Distances under 100: []\n"
     ]
    },
    {
     "data": {
      "application/vnd.jupyter.widget-view+json": {
       "model_id": "b5b2170085cd4a7c99a541f17c7a94ff",
       "version_major": 2,
       "version_minor": 0
      },
      "text/plain": [
       "  0%|          | 0/292 [00:00<?, ?it/s]"
      ]
     },
     "metadata": {},
     "output_type": "display_data"
    },
    {
     "data": {
      "application/vnd.jupyter.widget-view+json": {
       "model_id": "4a577e4e037f4d058e8155b373aa0130",
       "version_major": 2,
       "version_minor": 0
      },
      "text/plain": [
       "  0%|          | 0/21475 [00:00<?, ?it/s]"
      ]
     },
     "metadata": {},
     "output_type": "display_data"
    },
    {
     "name": "stdout",
     "output_type": "stream",
     "text": [
      "UPDATING RESULTS 22\n",
      "22 15 35\n",
      "35\n",
      "THESE ARE THE DBSCAN COUNTS\n",
      "[35]\n",
      "THESE ARE THE DBSCAN COUNTS\n",
      "[35]\n",
      "(35,) (35,) 35 1016.6293407962053\n",
      "APPLYING DISTANCE THRESHOLD\n",
      "(35,)\n",
      "(35,)\n",
      "18\n",
      "Scale 9.337e-01\n",
      "Translation 7.475e+05\n",
      "False\n",
      "[[ 1.07100411e+00 -7.09605452e-03  7.81736137e+05]\n",
      " [ 7.09605452e-03  1.07100411e+00 -1.72533649e+05]\n",
      " [ 0.00000000e+00  0.00000000e+00  1.00000000e+00]]\n",
      "Inverse\n",
      "[[ 9.33662248e-01  6.18608104e-03 -7.28810212e+05]\n",
      " [-6.18608104e-03  9.33662248e-01  1.65924038e+05]\n",
      " [ 0.00000000e+00  0.00000000e+00  1.00000000e+00]]\n",
      "[ 206.58267565  394.40828837  626.86581702  872.67914323 1016.6293408 ] 18\n",
      "Distances under 100: []\n"
     ]
    },
    {
     "data": {
      "application/vnd.jupyter.widget-view+json": {
       "model_id": "84f14b05e08a45699dd2cc00de4d1194",
       "version_major": 2,
       "version_minor": 0
      },
      "text/plain": [
       "  0%|          | 0/292 [00:00<?, ?it/s]"
      ]
     },
     "metadata": {},
     "output_type": "display_data"
    },
    {
     "data": {
      "application/vnd.jupyter.widget-view+json": {
       "model_id": "de174d1261df468ab6504fecd7aa56df",
       "version_major": 2,
       "version_minor": 0
      },
      "text/plain": [
       "  0%|          | 0/21475 [00:00<?, ?it/s]"
      ]
     },
     "metadata": {},
     "output_type": "display_data"
    },
    {
     "name": "stdout",
     "output_type": "stream",
     "text": [
      "UPDATING RESULTS 18\n",
      "18 11 26\n",
      "26\n",
      "THESE ARE THE DBSCAN COUNTS\n",
      "[26]\n",
      "THESE ARE THE DBSCAN COUNTS\n",
      "[26]\n",
      "(26,) (26,) 26 884.3282387721912\n",
      "APPLYING DISTANCE THRESHOLD\n",
      "(26,)\n",
      "(26,)\n",
      "16\n",
      "Scale 9.481e-01\n",
      "Translation 5.909e+05\n",
      "False\n",
      "[[ 1.05470193e+00 -9.68764926e-03  6.17045695e+05]\n",
      " [ 9.68764926e-03  1.05470193e+00 -8.79072087e+04]\n",
      " [ 0.00000000e+00  0.00000000e+00  1.00000000e+00]]\n",
      "Inverse\n",
      "[[ 9.48055194e-01  8.70807759e-03 -5.84227873e+05]\n",
      " [-8.70807759e-03  9.48055194e-01  8.87141676e+04]\n",
      " [ 0.00000000e+00  0.00000000e+00  1.00000000e+00]]\n",
      "[309.95735142 455.92309636 606.51572819 862.19102518 923.62162083] 16\n",
      "Distances under 100: []\n"
     ]
    },
    {
     "data": {
      "application/vnd.jupyter.widget-view+json": {
       "model_id": "aa6ca22e86774ff6812ecf58ab97976e",
       "version_major": 2,
       "version_minor": 0
      },
      "text/plain": [
       "  0%|          | 0/292 [00:00<?, ?it/s]"
      ]
     },
     "metadata": {},
     "output_type": "display_data"
    },
    {
     "data": {
      "application/vnd.jupyter.widget-view+json": {
       "model_id": "ddfadb7a4aa549c9ba01dbc47d979c9f",
       "version_major": 2,
       "version_minor": 0
      },
      "text/plain": [
       "  0%|          | 0/21475 [00:00<?, ?it/s]"
      ]
     },
     "metadata": {},
     "output_type": "display_data"
    },
    {
     "name": "stdout",
     "output_type": "stream",
     "text": [
      "UPDATING RESULTS 16\n",
      "16 12 24\n",
      "24\n",
      "THESE ARE THE DBSCAN COUNTS\n",
      "[24]\n",
      "THESE ARE THE DBSCAN COUNTS\n",
      "[24]\n",
      "(24,) (24,) 24 788.9155788417427\n",
      "APPLYING DISTANCE THRESHOLD\n",
      "(24,)\n",
      "(24,)\n",
      "15\n",
      "Scale 9.569e-01\n",
      "Translation 4.854e+05\n",
      "False\n",
      "[[ 1.04498050e+00 -4.66202223e-03  4.95729722e+05]\n",
      " [ 4.66202223e-03  1.04498050e+00 -1.07440734e+05]\n",
      " [ 0.00000000e+00  0.00000000e+00  1.00000000e+00]]\n",
      "Inverse\n",
      "[[ 9.56936610e-01  4.26922775e-03 -4.73923231e+05]\n",
      " [-4.26922775e-03  9.56936610e-01  1.04930355e+05]\n",
      " [ 0.00000000e+00  0.00000000e+00  1.00000000e+00]]\n",
      "[303.22532589 562.7670521  720.75722082 775.00045163 893.17492526] 15\n",
      "Distances under 100: []\n"
     ]
    },
    {
     "data": {
      "application/vnd.jupyter.widget-view+json": {
       "model_id": "808de3c74500487ba7e3674516ad7509",
       "version_major": 2,
       "version_minor": 0
      },
      "text/plain": [
       "  0%|          | 0/292 [00:00<?, ?it/s]"
      ]
     },
     "metadata": {},
     "output_type": "display_data"
    },
    {
     "data": {
      "application/vnd.jupyter.widget-view+json": {
       "model_id": "ab6048c93acc4ef985db36fbb0f35c70",
       "version_major": 2,
       "version_minor": 0
      },
      "text/plain": [
       "  0%|          | 0/21475 [00:00<?, ?it/s]"
      ]
     },
     "metadata": {},
     "output_type": "display_data"
    },
    {
     "name": "stdout",
     "output_type": "stream",
     "text": [
      "UPDATING RESULTS 15\n",
      "15 8 18\n",
      "18\n",
      "THESE ARE THE DBSCAN COUNTS\n",
      "[18]\n",
      "THESE ARE THE DBSCAN COUNTS\n",
      "[18]\n",
      "(18,) (18,) 18 741.0948041487662\n",
      "APPLYING DISTANCE THRESHOLD\n",
      "(18,)\n",
      "(18,)\n",
      "15\n",
      "Scale 9.632e-01\n",
      "Translation 4.147e+05\n",
      "False\n",
      "[[ 1.03816383e+00 -4.10307179e-03  4.21160342e+05]\n",
      " [ 4.10307179e-03  1.03816383e+00 -8.95585035e+04]\n",
      " [ 0.00000000e+00  0.00000000e+00  1.00000000e+00]]\n",
      "Inverse\n",
      "[[ 9.63224060e-01  3.80689189e-03 -4.05330835e+05]\n",
      " [-3.80689189e-03  9.63224060e-01  8.78682172e+04]\n",
      " [ 0.00000000e+00  0.00000000e+00  1.00000000e+00]]\n",
      "[262.26375182 606.70741949 684.46753026 762.15643492 848.21922402] 15\n",
      "Distances under 100: []\n"
     ]
    },
    {
     "data": {
      "application/vnd.jupyter.widget-view+json": {
       "model_id": "b81f9a09618b44bf8b6b1afdec302019",
       "version_major": 2,
       "version_minor": 0
      },
      "text/plain": [
       "  0%|          | 0/292 [00:00<?, ?it/s]"
      ]
     },
     "metadata": {},
     "output_type": "display_data"
    },
    {
     "data": {
      "application/vnd.jupyter.widget-view+json": {
       "model_id": "7a8afadd8c3c478f854a8ba30d9f4d13",
       "version_major": 2,
       "version_minor": 0
      },
      "text/plain": [
       "  0%|          | 0/21475 [00:00<?, ?it/s]"
      ]
     },
     "metadata": {},
     "output_type": "display_data"
    },
    {
     "name": "stdout",
     "output_type": "stream",
     "text": [
      "UPDATING RESULTS 15\n",
      "15 9 19\n",
      "19\n",
      "THESE ARE THE DBSCAN COUNTS\n",
      "[19]\n",
      "THESE ARE THE DBSCAN COUNTS\n",
      "[19]\n",
      "(19,) (19,) 19 695.884293153647\n",
      "APPLYING DISTANCE THRESHOLD\n",
      "(19,)\n",
      "(19,)\n",
      "15\n",
      "Scale 9.692e-01\n",
      "Translation 3.599e+05\n",
      "False\n",
      "[[ 1.03171663e+00 -9.44922582e-03  3.71174088e+05]\n",
      " [ 9.44922582e-03  1.03171663e+00 -1.00239862e+04]\n",
      " [ 0.00000000e+00  0.00000000e+00  1.00000000e+00]]\n",
      "Inverse\n",
      "[[ 9.69177096e-01  8.87644243e-03 -3.59644447e+05]\n",
      " [-8.87644243e-03  9.69177096e-01  1.30097233e+04]\n",
      " [ 0.00000000e+00  0.00000000e+00  1.00000000e+00]]\n",
      "[293.18696943 556.69501011 675.32369371 732.44238231 828.12122889] 15\n",
      "Distances under 100: []\n"
     ]
    },
    {
     "data": {
      "application/vnd.jupyter.widget-view+json": {
       "model_id": "53e89a7130ca4dd8bdaf31a4655d85b5",
       "version_major": 2,
       "version_minor": 0
      },
      "text/plain": [
       "  0%|          | 0/292 [00:00<?, ?it/s]"
      ]
     },
     "metadata": {},
     "output_type": "display_data"
    },
    {
     "data": {
      "application/vnd.jupyter.widget-view+json": {
       "model_id": "823ae27ecd78413a9eb92f3390bf15c5",
       "version_major": 2,
       "version_minor": 0
      },
      "text/plain": [
       "  0%|          | 0/21475 [00:00<?, ?it/s]"
      ]
     },
     "metadata": {},
     "output_type": "display_data"
    },
    {
     "name": "stdout",
     "output_type": "stream",
     "text": [
      "UPDATING RESULTS 15\n",
      "15 10 19\n",
      "19\n",
      "THESE ARE THE DBSCAN COUNTS\n",
      "[19]\n",
      "THESE ARE THE DBSCAN COUNTS\n",
      "[19]\n",
      "(19,) (19,) 19 692.6287189605017\n",
      "APPLYING DISTANCE THRESHOLD\n",
      "(19,)\n",
      "(19,)\n",
      "11\n",
      "Scale 9.727e-01\n",
      "Translation 3.159e+05\n",
      "False\n",
      "[[ 1.02798396e+00 -7.43875444e-03  3.24271019e+05]\n",
      " [ 7.43875444e-03  1.02798396e+00 -1.84272598e+04]\n",
      " [ 0.00000000e+00  0.00000000e+00  1.00000000e+00]]\n",
      "Inverse\n",
      "[[ 9.72726892e-01  7.03890021e-03 -3.15297433e+05]\n",
      " [-7.03890021e-03  9.72726892e-01  2.02072025e+04]\n",
      " [ 0.00000000e+00  0.00000000e+00  1.00000000e+00]]\n",
      "[233.35555158 572.65078743 634.41815537 670.19135368 745.11855814] 11\n",
      "Distances under 100: []\n"
     ]
    },
    {
     "data": {
      "application/vnd.jupyter.widget-view+json": {
       "model_id": "23ae81b9bde945fc823bf27b3308a4f0",
       "version_major": 2,
       "version_minor": 0
      },
      "text/plain": [
       "  0%|          | 0/292 [00:00<?, ?it/s]"
      ]
     },
     "metadata": {},
     "output_type": "display_data"
    },
    {
     "data": {
      "application/vnd.jupyter.widget-view+json": {
       "model_id": "25c4bc9b78fc4b3685e8f5187222ff19",
       "version_major": 2,
       "version_minor": 0
      },
      "text/plain": [
       "  0%|          | 0/21475 [00:00<?, ?it/s]"
      ]
     },
     "metadata": {},
     "output_type": "display_data"
    },
    {
     "name": "stdout",
     "output_type": "stream",
     "text": [
      "UPDATING RESULTS 11\n",
      "11 9 15\n",
      "15\n",
      "THESE ARE THE DBSCAN COUNTS\n",
      "[15]\n",
      "THESE ARE THE DBSCAN COUNTS\n",
      "[15]\n",
      "(15,) (15,) 15 658.3821375263668\n",
      "APPLYING DISTANCE THRESHOLD\n",
      "(15,)\n",
      "(15,)\n",
      "9\n",
      "Scale 9.898e-01\n",
      "Translation 1.405e+05\n",
      "False\n",
      "[[ 1.01029557e+00 -7.37275185e-03  1.35327573e+05]\n",
      " [ 7.37275185e-03  1.01029557e+00  4.27549382e+04]\n",
      " [ 0.00000000e+00  0.00000000e+00  1.00000000e+00]]\n",
      "Inverse\n",
      "[[ 9.89756634e-01  7.22286649e-03 -1.34250176e+05]\n",
      " [-7.22286649e-03  9.89756634e-01 -4.13395308e+04]\n",
      " [ 0.00000000e+00  0.00000000e+00  1.00000000e+00]]\n",
      "[ 39.963543   468.47849972 498.50270856 594.83730223 685.67314395] 9\n",
      "Distances under 100: [39.963543]\n"
     ]
    },
    {
     "data": {
      "application/vnd.jupyter.widget-view+json": {
       "model_id": "9147078779b7497091f0560b58051c55",
       "version_major": 2,
       "version_minor": 0
      },
      "text/plain": [
       "  0%|          | 0/292 [00:00<?, ?it/s]"
      ]
     },
     "metadata": {},
     "output_type": "display_data"
    },
    {
     "data": {
      "application/vnd.jupyter.widget-view+json": {
       "model_id": "0e56ac845e034b5fa327af5606007dd6",
       "version_major": 2,
       "version_minor": 0
      },
      "text/plain": [
       "  0%|          | 0/21475 [00:00<?, ?it/s]"
      ]
     },
     "metadata": {},
     "output_type": "display_data"
    },
    {
     "name": "stdout",
     "output_type": "stream",
     "text": [
      "UPDATING RESULTS 9\n",
      "9 8 12\n",
      "12\n",
      "THESE ARE THE DBSCAN COUNTS\n",
      "[12]\n",
      "THESE ARE THE DBSCAN COUNTS\n",
      "[12]\n",
      "(12,) (12,) 12 504.158451399898\n",
      "APPLYING DISTANCE THRESHOLD\n",
      "(12,)\n",
      "(12,)\n",
      "9\n",
      "Scale 9.967e-01\n",
      "Translation 4.273e+04\n",
      "False\n",
      "[[ 1.00330498e+00 -1.96217990e-03  4.18165254e+04]\n",
      " [ 1.96217990e-03  1.00330498e+00  9.44137234e+03]\n",
      " [ 0.00000000e+00  0.00000000e+00  1.00000000e+00]]\n",
      "Inverse\n",
      "[[ 9.96702097e-01  1.94926654e-03 -4.16970223e+04]\n",
      " [-1.94926654e-03  9.96702097e-01 -9.32872406e+03]\n",
      " [ 0.00000000e+00  0.00000000e+00  1.00000000e+00]]\n",
      "[ 88.18447806 351.73677298 386.66137433 538.9079676  698.65353086] 9\n",
      "Distances under 100: [88.18447806]\n"
     ]
    },
    {
     "data": {
      "application/vnd.jupyter.widget-view+json": {
       "model_id": "923eb97ecd8b428e80118762816b8dd1",
       "version_major": 2,
       "version_minor": 0
      },
      "text/plain": [
       "  0%|          | 0/292 [00:00<?, ?it/s]"
      ]
     },
     "metadata": {},
     "output_type": "display_data"
    },
    {
     "data": {
      "application/vnd.jupyter.widget-view+json": {
       "model_id": "036494dee48944fc95654cfa01aa7005",
       "version_major": 2,
       "version_minor": 0
      },
      "text/plain": [
       "  0%|          | 0/21475 [00:00<?, ?it/s]"
      ]
     },
     "metadata": {},
     "output_type": "display_data"
    },
    {
     "name": "stdout",
     "output_type": "stream",
     "text": [
      "UPDATING RESULTS 9\n",
      "9 11 13\n",
      "13\n",
      "THESE ARE THE DBSCAN COUNTS\n",
      "[13]\n",
      "THESE ARE THE DBSCAN COUNTS\n",
      "[13]\n",
      "(13,) (13,) 13 374.63163001572497\n",
      "APPLYING DISTANCE THRESHOLD\n",
      "(13,)\n",
      "(13,)\n",
      "12\n",
      "Scale 9.971e-01\n",
      "Translation 1.704e+05\n",
      "False\n",
      "[[ 1.00267946e+00  1.49833206e-02 -2.40973348e+04]\n",
      " [-1.49833206e-02  1.00267946e+00 -1.69200292e+05]\n",
      " [ 0.00000000e+00  0.00000000e+00  1.00000000e+00]]\n",
      "Inverse\n",
      "[[ 9.97105043e-01 -1.49000205e-02  2.15064863e+04]\n",
      " [ 1.49000205e-02  9.97105043e-01  1.69069516e+05]\n",
      " [ 0.00000000e+00  0.00000000e+00  1.00000000e+00]]\n",
      "[196.98055788 284.4984411  344.19070714 484.15702694 584.05453451] 12\n",
      "Distances under 100: []\n"
     ]
    },
    {
     "data": {
      "application/vnd.jupyter.widget-view+json": {
       "model_id": "e98e4152605742519899c0bf05146835",
       "version_major": 2,
       "version_minor": 0
      },
      "text/plain": [
       "  0%|          | 0/292 [00:00<?, ?it/s]"
      ]
     },
     "metadata": {},
     "output_type": "display_data"
    },
    {
     "data": {
      "application/vnd.jupyter.widget-view+json": {
       "model_id": "34748851868b400681f291142502c49c",
       "version_major": 2,
       "version_minor": 0
      },
      "text/plain": [
       "  0%|          | 0/21475 [00:00<?, ?it/s]"
      ]
     },
     "metadata": {},
     "output_type": "display_data"
    },
    {
     "name": "stdout",
     "output_type": "stream",
     "text": [
      "UPDATING RESULTS 12\n",
      "12 13 16\n",
      "16\n",
      "THESE ARE THE DBSCAN COUNTS\n",
      "[16]\n",
      "THESE ARE THE DBSCAN COUNTS\n",
      "[16]\n",
      "(16,) (16,) 16 463.61394838744343\n",
      "APPLYING DISTANCE THRESHOLD\n",
      "(16,)\n",
      "(16,)\n",
      "15\n",
      "Scale 1.001e+00\n",
      "Translation 1.181e+05\n",
      "False\n",
      "[[ 9.99243914e-01  1.04821640e-02 -4.48686240e+04]\n",
      " [-1.04821640e-02  9.99243914e-01 -1.09114080e+05]\n",
      " [ 0.00000000e+00  0.00000000e+00  1.00000000e+00]]\n",
      "Inverse\n",
      "[[ 1.00064654e+00 -1.04968777e-02  4.37522764e+04]\n",
      " [ 1.04968777e-02  1.00064654e+00  1.09655608e+05]\n",
      " [ 0.00000000e+00  0.00000000e+00  1.00000000e+00]]\n",
      "[ 84.52648328 318.29500783 432.12419585 515.56476514 532.42581578] 15\n",
      "Distances under 100: [84.52648328]\n"
     ]
    },
    {
     "data": {
      "application/vnd.jupyter.widget-view+json": {
       "model_id": "c134788c6e1449f49a9e3c22510943bd",
       "version_major": 2,
       "version_minor": 0
      },
      "text/plain": [
       "  0%|          | 0/292 [00:00<?, ?it/s]"
      ]
     },
     "metadata": {},
     "output_type": "display_data"
    },
    {
     "data": {
      "application/vnd.jupyter.widget-view+json": {
       "model_id": "b5d0a87f6e2a40c4a5732788ae4418d4",
       "version_major": 2,
       "version_minor": 0
      },
      "text/plain": [
       "  0%|          | 0/21475 [00:00<?, ?it/s]"
      ]
     },
     "metadata": {},
     "output_type": "display_data"
    },
    {
     "name": "stdout",
     "output_type": "stream",
     "text": [
      "UPDATING RESULTS 15\n",
      "15 17 21\n",
      "21\n",
      "THESE ARE THE DBSCAN COUNTS\n",
      "[21]\n",
      "THESE ARE THE DBSCAN COUNTS\n",
      "[21]\n",
      "(21,) (21,) 21 455.97751204412555\n",
      "APPLYING DISTANCE THRESHOLD\n",
      "(21,)\n",
      "(21,)\n",
      "20\n",
      "Scale 9.976e-01\n",
      "Translation 1.306e+05\n",
      "False\n",
      "[[ 1.00231430e+00  1.14356040e-02 -1.54597978e+04]\n",
      " [-1.14356040e-02  1.00231430e+00 -1.29997782e+05]\n",
      " [ 0.00000000e+00  0.00000000e+00  1.00000000e+00]]\n",
      "Inverse\n",
      "[[ 9.97561192e-01 -1.13813749e-02  1.39425409e+04]\n",
      " [ 1.13813749e-02  9.97561192e-01  1.29856696e+05]\n",
      " [ 0.00000000e+00  0.00000000e+00  1.00000000e+00]]\n",
      "[ 89.6268547  393.97434724 451.94172817 484.81539528 559.7843124 ] 20\n",
      "Distances under 100: [89.6268547]\n"
     ]
    },
    {
     "data": {
      "application/vnd.jupyter.widget-view+json": {
       "model_id": "a5a971d4559e41a2be5d4a98e30bb830",
       "version_major": 2,
       "version_minor": 0
      },
      "text/plain": [
       "  0%|          | 0/292 [00:00<?, ?it/s]"
      ]
     },
     "metadata": {},
     "output_type": "display_data"
    },
    {
     "data": {
      "application/vnd.jupyter.widget-view+json": {
       "model_id": "fb4e2558908d4f0fafb537fe6b00a1ce",
       "version_major": 2,
       "version_minor": 0
      },
      "text/plain": [
       "  0%|          | 0/21475 [00:00<?, ?it/s]"
      ]
     },
     "metadata": {},
     "output_type": "display_data"
    },
    {
     "name": "stdout",
     "output_type": "stream",
     "text": [
      "UPDATING RESULTS 20\n",
      "20 16 22\n",
      "22\n",
      "THESE ARE THE DBSCAN COUNTS\n",
      "[22]\n",
      "THESE ARE THE DBSCAN COUNTS\n",
      "[22]\n",
      "(22,) (22,) 22 448.095899151836\n",
      "APPLYING DISTANCE THRESHOLD\n",
      "(22,)\n",
      "(22,)\n",
      "21\n",
      "Scale 9.976e-01\n",
      "Translation 1.419e+05\n",
      "False\n",
      "[[ 1.00227478e+00  1.24726180e-02 -1.95126797e+04]\n",
      " [-1.24726180e-02  1.00227478e+00 -1.40921504e+05]\n",
      " [ 0.00000000e+00  0.00000000e+00  1.00000000e+00]]\n",
      "Inverse\n",
      "[[ 9.97575900e-01 -1.24141437e-02  1.77159592e+04]\n",
      " [ 1.24141437e-02  9.97575900e-01  1.40822129e+05]\n",
      " [ 0.00000000e+00  0.00000000e+00  1.00000000e+00]]\n",
      "[ 99.07842466 360.34732923 434.73319856 479.27897154 563.10580149] 21\n",
      "Distances under 100: [99.07842466]\n"
     ]
    },
    {
     "data": {
      "application/vnd.jupyter.widget-view+json": {
       "model_id": "b4c34c1aa0b247e4b7001f3153cdecf5",
       "version_major": 2,
       "version_minor": 0
      },
      "text/plain": [
       "  0%|          | 0/292 [00:00<?, ?it/s]"
      ]
     },
     "metadata": {},
     "output_type": "display_data"
    },
    {
     "data": {
      "application/vnd.jupyter.widget-view+json": {
       "model_id": "b15c7e1451554978b098eaff3ad16e71",
       "version_major": 2,
       "version_minor": 0
      },
      "text/plain": [
       "  0%|          | 0/21475 [00:00<?, ?it/s]"
      ]
     },
     "metadata": {},
     "output_type": "display_data"
    },
    {
     "name": "stdout",
     "output_type": "stream",
     "text": [
      "UPDATING RESULTS 21\n",
      "21 16 24\n",
      "24\n",
      "THESE ARE THE DBSCAN COUNTS\n",
      "[24]\n",
      "THESE ARE THE DBSCAN COUNTS\n",
      "[24]\n",
      "(24,) (24,) 24 410.9293498792528\n",
      "APPLYING DISTANCE THRESHOLD\n",
      "(24,)\n",
      "(24,)\n",
      "20\n",
      "Scale 9.973e-01\n",
      "Translation 1.600e+05\n",
      "False\n",
      "[[ 1.00247669e+00  1.40803454e-02 -2.29891370e+04]\n",
      " [-1.40803454e-02  1.00247669e+00 -1.58777607e+05]\n",
      " [ 0.00000000e+00  0.00000000e+00  1.00000000e+00]]\n",
      "Inverse\n",
      "[[ 9.97332677e-01 -1.40080949e-02  2.07036458e+04]\n",
      " [ 1.40080949e-02  9.97332677e-01  1.58676130e+05]\n",
      " [ 0.00000000e+00  0.00000000e+00  1.00000000e+00]]\n",
      "[116.84333566 355.8329959  395.24923815 465.71924727 506.63363341] 20\n",
      "Distances under 100: []\n"
     ]
    },
    {
     "data": {
      "application/vnd.jupyter.widget-view+json": {
       "model_id": "8152be71da9e4fd4b53d6092c26bd185",
       "version_major": 2,
       "version_minor": 0
      },
      "text/plain": [
       "  0%|          | 0/292 [00:00<?, ?it/s]"
      ]
     },
     "metadata": {},
     "output_type": "display_data"
    },
    {
     "data": {
      "application/vnd.jupyter.widget-view+json": {
       "model_id": "a57e9f9b98564020bc9f952593c03cc7",
       "version_major": 2,
       "version_minor": 0
      },
      "text/plain": [
       "  0%|          | 0/21475 [00:00<?, ?it/s]"
      ]
     },
     "metadata": {},
     "output_type": "display_data"
    },
    {
     "name": "stdout",
     "output_type": "stream",
     "text": [
      "UPDATING RESULTS 20\n",
      "20 11 22\n",
      "22\n",
      "THESE ARE THE DBSCAN COUNTS\n",
      "[22]\n",
      "THESE ARE THE DBSCAN COUNTS\n",
      "[22]\n",
      "(22,) (22,) 22 420.4367374486407\n",
      "APPLYING DISTANCE THRESHOLD\n",
      "(22,)\n",
      "(22,)\n",
      "21\n",
      "Scale 9.972e-01\n",
      "Translation 1.900e+05\n",
      "False\n",
      "[[ 1.00252757e+00  1.67893156e-02 -3.18829331e+04]\n",
      " [-1.67893156e-02  1.00252757e+00 -1.87859129e+05]\n",
      " [ 0.00000000e+00  0.00000000e+00  1.00000000e+00]]\n",
      "Inverse\n",
      "[[ 9.97199127e-01 -1.67000803e-02  2.86563705e+04]\n",
      " [ 1.67000803e-02  9.97199127e-01  1.87865407e+05]\n",
      " [ 0.00000000e+00  0.00000000e+00  1.00000000e+00]]\n",
      "[123.57882541 294.20258558 415.85482433 440.13342193 498.83804611] 21\n",
      "Distances under 100: []\n"
     ]
    },
    {
     "data": {
      "application/vnd.jupyter.widget-view+json": {
       "model_id": "c2c0b0e3801e48d4bf6186a407be1e47",
       "version_major": 2,
       "version_minor": 0
      },
      "text/plain": [
       "  0%|          | 0/292 [00:00<?, ?it/s]"
      ]
     },
     "metadata": {},
     "output_type": "display_data"
    },
    {
     "data": {
      "application/vnd.jupyter.widget-view+json": {
       "model_id": "533865edd16846cb865dfbe5a3e5acee",
       "version_major": 2,
       "version_minor": 0
      },
      "text/plain": [
       "  0%|          | 0/21475 [00:00<?, ?it/s]"
      ]
     },
     "metadata": {},
     "output_type": "display_data"
    },
    {
     "name": "stdout",
     "output_type": "stream",
     "text": [
      "UPDATING RESULTS 21\n",
      "21 10 22\n",
      "22\n",
      "THESE ARE THE DBSCAN COUNTS\n",
      "[22]\n",
      "THESE ARE THE DBSCAN COUNTS\n",
      "[22]\n",
      "(22,) (22,) 22 396.97429201353316\n",
      "APPLYING DISTANCE THRESHOLD\n",
      "(22,)\n",
      "(22,)\n",
      "21\n",
      "Scale 9.977e-01\n",
      "Translation 1.972e+05\n",
      "False\n",
      "[[ 1.00203712e+00  1.74905384e-02 -3.95571846e+04]\n",
      " [-1.74905384e-02  1.00203712e+00 -1.93633192e+05]\n",
      " [ 0.00000000e+00  0.00000000e+00  1.00000000e+00]]\n",
      "Inverse\n",
      "[[ 9.97663054e-01 -1.74141891e-02  3.60927765e+04]\n",
      " [ 1.74141891e-02  9.97663054e-01  1.93869538e+05]\n",
      " [ 0.00000000e+00  0.00000000e+00  1.00000000e+00]]\n",
      "[129.98381499 273.135621   377.30784402 440.44052736 497.31728518] 21\n",
      "Distances under 100: []\n"
     ]
    },
    {
     "data": {
      "application/vnd.jupyter.widget-view+json": {
       "model_id": "3286541aa8d9444ebaa25a4347798247",
       "version_major": 2,
       "version_minor": 0
      },
      "text/plain": [
       "  0%|          | 0/292 [00:00<?, ?it/s]"
      ]
     },
     "metadata": {},
     "output_type": "display_data"
    },
    {
     "data": {
      "application/vnd.jupyter.widget-view+json": {
       "model_id": "8260a928a66145cfbdd1f02aef7230f6",
       "version_major": 2,
       "version_minor": 0
      },
      "text/plain": [
       "  0%|          | 0/21475 [00:00<?, ?it/s]"
      ]
     },
     "metadata": {},
     "output_type": "display_data"
    },
    {
     "name": "stdout",
     "output_type": "stream",
     "text": [
      "UPDATING RESULTS 21\n",
      "21 11 24\n",
      "24\n",
      "THESE ARE THE DBSCAN COUNTS\n",
      "[24]\n",
      "THESE ARE THE DBSCAN COUNTS\n",
      "[24]\n",
      "(24,) (24,) 24 391.86168176101967\n",
      "APPLYING DISTANCE THRESHOLD\n",
      "(24,)\n",
      "(24,)\n",
      "21\n",
      "Scale 9.962e-01\n",
      "Translation 1.931e+05\n",
      "False\n",
      "[[ 1.00352713e+00  1.69090344e-02 -2.16312865e+04]\n",
      " [-1.69090344e-02  1.00352713e+00 -1.92625650e+05]\n",
      " [ 0.00000000e+00  0.00000000e+00  1.00000000e+00]]\n",
      "Inverse\n",
      "[[ 9.96202438e-01 -1.67856163e-02  1.83158001e+04]\n",
      " [ 1.67856163e-02  9.96202438e-01  1.92257237e+05]\n",
      " [ 0.00000000e+00  0.00000000e+00  1.00000000e+00]]\n",
      "[121.21727675 288.72955373 381.94082989 419.73862013 472.8623417 ] 21\n",
      "Distances under 100: []\n"
     ]
    },
    {
     "data": {
      "application/vnd.jupyter.widget-view+json": {
       "model_id": "e6e094e4986948018505c1772ab29053",
       "version_major": 2,
       "version_minor": 0
      },
      "text/plain": [
       "  0%|          | 0/292 [00:00<?, ?it/s]"
      ]
     },
     "metadata": {},
     "output_type": "display_data"
    },
    {
     "data": {
      "application/vnd.jupyter.widget-view+json": {
       "model_id": "5fd5dd60679c42b1b2c39641e3382832",
       "version_major": 2,
       "version_minor": 0
      },
      "text/plain": [
       "  0%|          | 0/21475 [00:00<?, ?it/s]"
      ]
     },
     "metadata": {},
     "output_type": "display_data"
    },
    {
     "name": "stdout",
     "output_type": "stream",
     "text": [
      "UPDATING RESULTS 21\n",
      "21 8 22\n",
      "22\n",
      "THESE ARE THE DBSCAN COUNTS\n",
      "[22]\n",
      "THESE ARE THE DBSCAN COUNTS\n",
      "[22]\n",
      "(22,) (22,) 22 361.4597781810719\n",
      "APPLYING DISTANCE THRESHOLD\n",
      "(22,)\n",
      "(22,)\n",
      "17\n",
      "Scale 9.949e-01\n",
      "Translation 1.382e+05\n",
      "False\n",
      "[[ 1.00497815e+00  1.13297934e-02  1.33865353e+04]\n",
      " [-1.13297934e-02  1.00497815e+00 -1.38298444e+05]\n",
      " [ 0.00000000e+00  0.00000000e+00  1.00000000e+00]]\n",
      "Inverse\n",
      "[[ 9.94920058e-01 -1.12164018e-02 -1.48697434e+04]\n",
      " [ 1.12164018e-02  9.94920058e-01  1.37445748e+05]\n",
      " [ 0.00000000e+00  0.00000000e+00  1.00000000e+00]]\n",
      "[217.94728869 268.94525873 327.52662115 368.2740053  423.22573394] 17\n",
      "Distances under 100: []\n"
     ]
    },
    {
     "data": {
      "application/vnd.jupyter.widget-view+json": {
       "model_id": "2dcdb852e8b842738cb3989c255d1fdb",
       "version_major": 2,
       "version_minor": 0
      },
      "text/plain": [
       "  0%|          | 0/292 [00:00<?, ?it/s]"
      ]
     },
     "metadata": {},
     "output_type": "display_data"
    },
    {
     "data": {
      "application/vnd.jupyter.widget-view+json": {
       "model_id": "0f476d04c1814dfe977dfe4e8b47003d",
       "version_major": 2,
       "version_minor": 0
      },
      "text/plain": [
       "  0%|          | 0/21475 [00:00<?, ?it/s]"
      ]
     },
     "metadata": {},
     "output_type": "display_data"
    },
    {
     "name": "stdout",
     "output_type": "stream",
     "text": [
      "UPDATING RESULTS 17\n",
      "17 8 20\n",
      "20\n",
      "THESE ARE THE DBSCAN COUNTS\n",
      "[20]\n",
      "THESE ARE THE DBSCAN COUNTS\n",
      "[20]\n",
      "(20,) (20,) 20 297.2084363859668\n",
      "APPLYING DISTANCE THRESHOLD\n",
      "(20,)\n",
      "(20,)\n",
      "17\n",
      "Scale 9.919e-01\n",
      "Translation 1.433e+05\n",
      "False\n",
      "[[ 1.00808216e+00  1.00154836e-02  5.11210690e+04]\n",
      " [-1.00154836e-02  1.00808216e+00 -1.35163781e+05]\n",
      " [ 0.00000000e+00  0.00000000e+00  1.00000000e+00]]\n",
      "Inverse\n",
      "[[ 9.91884734e-01 -9.85455918e-03 -5.20381874e+04]\n",
      " [ 9.85455918e-03  9.91884734e-01  1.33563115e+05]\n",
      " [ 0.00000000e+00  0.00000000e+00  1.00000000e+00]]\n",
      "[178.92421984 257.60273866 282.75302901 327.72130851 409.82127578] 17\n",
      "Distances under 100: []\n"
     ]
    },
    {
     "data": {
      "application/vnd.jupyter.widget-view+json": {
       "model_id": "a3dd86e19a9e4e7380d78b55d83c966d",
       "version_major": 2,
       "version_minor": 0
      },
      "text/plain": [
       "  0%|          | 0/292 [00:00<?, ?it/s]"
      ]
     },
     "metadata": {},
     "output_type": "display_data"
    },
    {
     "data": {
      "application/vnd.jupyter.widget-view+json": {
       "model_id": "b15f9fef366f48d6a55840df86b8154f",
       "version_major": 2,
       "version_minor": 0
      },
      "text/plain": [
       "  0%|          | 0/21475 [00:00<?, ?it/s]"
      ]
     },
     "metadata": {},
     "output_type": "display_data"
    },
    {
     "name": "stdout",
     "output_type": "stream",
     "text": [
      "UPDATING RESULTS 17\n",
      "17 8 18\n",
      "18\n",
      "THESE ARE THE DBSCAN COUNTS\n",
      "[18]\n",
      "THESE ARE THE DBSCAN COUNTS\n",
      "[18]\n",
      "(18,) (18,) 18 289.4766743738767\n",
      "APPLYING DISTANCE THRESHOLD\n",
      "(18,)\n",
      "(18,)\n",
      "16\n",
      "Scale 9.900e-01\n",
      "Translation 1.543e+05\n",
      "False\n",
      "[[ 1.01004589e+00  9.57919363e-03  7.36183893e+04]\n",
      " [-9.57919363e-03  1.01004589e+00 -1.37386130e+05]\n",
      " [ 0.00000000e+00  0.00000000e+00  1.00000000e+00]]\n",
      "Inverse\n",
      "[[ 9.89964986e-01 -9.38874798e-03 -7.41695115e+04]\n",
      " [ 9.38874798e-03  9.89964986e-01  1.35316274e+05]\n",
      " [ 0.00000000e+00  0.00000000e+00  1.00000000e+00]]\n",
      "[148.54756376 249.20741847 281.18205027 304.10003539 395.6328698 ] 16\n",
      "Distances under 100: []\n"
     ]
    },
    {
     "data": {
      "application/vnd.jupyter.widget-view+json": {
       "model_id": "5316e6800115463bb925d797dd86cb03",
       "version_major": 2,
       "version_minor": 0
      },
      "text/plain": [
       "  0%|          | 0/292 [00:00<?, ?it/s]"
      ]
     },
     "metadata": {},
     "output_type": "display_data"
    },
    {
     "data": {
      "application/vnd.jupyter.widget-view+json": {
       "model_id": "0ce9416d295d4e379a70166db5987321",
       "version_major": 2,
       "version_minor": 0
      },
      "text/plain": [
       "  0%|          | 0/21475 [00:00<?, ?it/s]"
      ]
     },
     "metadata": {},
     "output_type": "display_data"
    },
    {
     "name": "stdout",
     "output_type": "stream",
     "text": [
      "UPDATING RESULTS 16\n",
      "16 7 18\n",
      "18\n",
      "THESE ARE THE DBSCAN COUNTS\n",
      "[18]\n",
      "THESE ARE THE DBSCAN COUNTS\n",
      "[18]\n",
      "(18,) (18,) 18 294.9662660100498\n",
      "APPLYING DISTANCE THRESHOLD\n",
      "(18,)\n",
      "(18,)\n",
      "15\n",
      "Scale 9.891e-01\n",
      "Translation 1.491e+05\n",
      "False\n",
      "[[ 1.01097237e+00  7.73184117e-03  8.99631132e+04]\n",
      " [-7.73184117e-03  1.01097237e+00 -1.20925850e+05]\n",
      " [ 0.00000000e+00  0.00000000e+00  1.00000000e+00]]\n",
      "Inverse\n",
      "[[ 9.89088868e-01 -7.56447780e-03 -8.98962547e+04]\n",
      " [ 7.56447780e-03  9.89088868e-01  1.18925888e+05]\n",
      " [ 0.00000000e+00  0.00000000e+00  1.00000000e+00]]\n",
      "[114.25849513 235.25770901 272.47582931 322.01845706 339.52049136] 15\n",
      "Distances under 100: []\n"
     ]
    },
    {
     "data": {
      "application/vnd.jupyter.widget-view+json": {
       "model_id": "73deff7ddffc471692ed36c426a246ba",
       "version_major": 2,
       "version_minor": 0
      },
      "text/plain": [
       "  0%|          | 0/292 [00:00<?, ?it/s]"
      ]
     },
     "metadata": {},
     "output_type": "display_data"
    },
    {
     "data": {
      "application/vnd.jupyter.widget-view+json": {
       "model_id": "45867bc294434c678cdfc54890746324",
       "version_major": 2,
       "version_minor": 0
      },
      "text/plain": [
       "  0%|          | 0/21475 [00:00<?, ?it/s]"
      ]
     },
     "metadata": {},
     "output_type": "display_data"
    },
    {
     "name": "stdout",
     "output_type": "stream",
     "text": [
      "UPDATING RESULTS 15\n",
      "15 4 18\n",
      "18\n",
      "THESE ARE THE DBSCAN COUNTS\n",
      "[18]\n",
      "THESE ARE THE DBSCAN COUNTS\n",
      "[18]\n",
      "(18,) (18,) 18 294.4113388332511\n",
      "APPLYING DISTANCE THRESHOLD\n",
      "(18,)\n",
      "(18,)\n",
      "15\n",
      "Scale 9.895e-01\n",
      "Translation 1.409e+05\n",
      "False\n",
      "[[ 1.01055815e+00  7.02911351e-03  8.80076494e+04]\n",
      " [-7.02911351e-03  1.01055815e+00 -1.11978658e+05]\n",
      " [ 0.00000000e+00  0.00000000e+00  1.00000000e+00]]\n",
      "Inverse\n",
      "[[ 9.89504281e-01 -6.88266962e-03 -8.78546580e+04]\n",
      " [ 6.88266962e-03  9.89504281e-01  1.10197634e+05]\n",
      " [ 0.00000000e+00  0.00000000e+00  1.00000000e+00]]\n",
      "[102.41001639 234.13049309 271.6149803  320.29972112 353.12299463] 15\n",
      "Distances under 100: []\n"
     ]
    },
    {
     "data": {
      "application/vnd.jupyter.widget-view+json": {
       "model_id": "4a0f62b8813445ac95ba2e07e1828d0a",
       "version_major": 2,
       "version_minor": 0
      },
      "text/plain": [
       "  0%|          | 0/292 [00:00<?, ?it/s]"
      ]
     },
     "metadata": {},
     "output_type": "display_data"
    },
    {
     "data": {
      "application/vnd.jupyter.widget-view+json": {
       "model_id": "5820c7ef0b1040bcaf5d62114299a845",
       "version_major": 2,
       "version_minor": 0
      },
      "text/plain": [
       "  0%|          | 0/21475 [00:00<?, ?it/s]"
      ]
     },
     "metadata": {},
     "output_type": "display_data"
    },
    {
     "name": "stdout",
     "output_type": "stream",
     "text": [
      "UPDATING RESULTS 15\n",
      "15 4 18\n",
      "18\n",
      "THESE ARE THE DBSCAN COUNTS\n",
      "[18]\n",
      "THESE ARE THE DBSCAN COUNTS\n",
      "[18]\n",
      "(18,) (18,) 18 294.4113388332511\n",
      "APPLYING DISTANCE THRESHOLD\n",
      "(18,)\n",
      "(18,)\n",
      "14\n",
      "Scale 9.895e-01\n",
      "Translation 1.409e+05\n",
      "False\n",
      "[[ 1.01055815e+00  7.02911351e-03  8.80076494e+04]\n",
      " [-7.02911351e-03  1.01055815e+00 -1.11978658e+05]\n",
      " [ 0.00000000e+00  0.00000000e+00  1.00000000e+00]]\n",
      "Inverse\n",
      "[[ 9.89504281e-01 -6.88266962e-03 -8.78546580e+04]\n",
      " [ 6.88266962e-03  9.89504281e-01  1.10197634e+05]\n",
      " [ 0.00000000e+00  0.00000000e+00  1.00000000e+00]]\n",
      "[102.41001639 231.66469153 260.44659624 317.87239547 343.85964001] 14\n",
      "Distances under 100: []\n"
     ]
    },
    {
     "data": {
      "application/vnd.jupyter.widget-view+json": {
       "model_id": "139012871c5e46c7a4eb81300ad388f3",
       "version_major": 2,
       "version_minor": 0
      },
      "text/plain": [
       "  0%|          | 0/292 [00:00<?, ?it/s]"
      ]
     },
     "metadata": {},
     "output_type": "display_data"
    },
    {
     "data": {
      "application/vnd.jupyter.widget-view+json": {
       "model_id": "3830c97bfd0243e79dd462da3a95cd1a",
       "version_major": 2,
       "version_minor": 0
      },
      "text/plain": [
       "  0%|          | 0/21475 [00:00<?, ?it/s]"
      ]
     },
     "metadata": {},
     "output_type": "display_data"
    },
    {
     "name": "stdout",
     "output_type": "stream",
     "text": [
      "UPDATING RESULTS 14\n",
      "14 3 16\n",
      "16\n",
      "THESE ARE THE DBSCAN COUNTS\n",
      "[16]\n",
      "THESE ARE THE DBSCAN COUNTS\n",
      "[16]\n",
      "(16,) (16,) 16 252.9655776917241\n",
      "APPLYING DISTANCE THRESHOLD\n",
      "(16,)\n",
      "(16,)\n",
      "10\n",
      "Scale 9.886e-01\n",
      "Translation 1.369e+05\n",
      "False\n",
      "[[ 1.01155163e+00  4.32534857e-03  1.08068606e+05]\n",
      " [-4.32534857e-03  1.01155163e+00 -8.66230863e+04]\n",
      " [ 0.00000000e+00  0.00000000e+00  1.00000000e+00]]\n",
      "Inverse\n",
      "[[ 9.88562216e-01 -4.22704691e-03 -1.07198701e+05]\n",
      " [ 4.22704691e-03  9.88562216e-01  8.51754991e+04]\n",
      " [ 0.00000000e+00  0.00000000e+00  1.00000000e+00]]\n",
      "[ 57.03790706 204.58561425 230.70332379 247.45530782 268.87209949] 10\n",
      "Distances under 100: [57.03790706]\n"
     ]
    },
    {
     "data": {
      "application/vnd.jupyter.widget-view+json": {
       "model_id": "8510ffdafb7f4c33b6f41c83cfd41497",
       "version_major": 2,
       "version_minor": 0
      },
      "text/plain": [
       "  0%|          | 0/292 [00:00<?, ?it/s]"
      ]
     },
     "metadata": {},
     "output_type": "display_data"
    },
    {
     "data": {
      "application/vnd.jupyter.widget-view+json": {
       "model_id": "436f081b771a440d80658135cc518e5e",
       "version_major": 2,
       "version_minor": 0
      },
      "text/plain": [
       "  0%|          | 0/21475 [00:00<?, ?it/s]"
      ]
     },
     "metadata": {},
     "output_type": "display_data"
    },
    {
     "name": "stdout",
     "output_type": "stream",
     "text": [
      "Couldn't find with initial match params, rematching iteration 1 with radius 392.63363969747206; Currently 2 matches, expecting 29.200000000000003\n"
     ]
    },
    {
     "data": {
      "application/vnd.jupyter.widget-view+json": {
       "model_id": "3ebdaafeb59b43b793ff57500ef390ca",
       "version_major": 2,
       "version_minor": 0
      },
      "text/plain": [
       "  0%|          | 0/21475 [00:00<?, ?it/s]"
      ]
     },
     "metadata": {},
     "output_type": "display_data"
    },
    {
     "name": "stdout",
     "output_type": "stream",
     "text": [
      "UPDATING RESULTS 10\n",
      "10 8 13\n",
      "13\n",
      "THESE ARE THE DBSCAN COUNTS\n",
      "[13]\n",
      "THESE ARE THE DBSCAN COUNTS\n",
      "[13]\n",
      "(13,) (13,) 13 176.16320049584616\n",
      "APPLYING DISTANCE THRESHOLD\n",
      "(13,)\n",
      "(13,)\n",
      "11\n",
      "Scale 9.876e-01\n",
      "Translation 1.496e+05\n",
      "False\n",
      "[[ 1.01253357e+00 -4.99404137e-03  1.51211597e+05]\n",
      " [ 4.99404137e-03  1.01253357e+00  9.25351826e+03]\n",
      " [ 0.00000000e+00  0.00000000e+00  1.00000000e+00]]\n",
      "Inverse\n",
      "[[ 9.87597548e-01  4.87105134e-03 -1.49381277e+05]\n",
      " [-4.87105134e-03  9.87597548e-01 -8.40219249e+03]\n",
      " [ 0.00000000e+00  0.00000000e+00  1.00000000e+00]]\n",
      "[ 42.79546529 131.42576035 169.90649213 208.713651   299.97341427] 11\n",
      "Distances under 100: [42.79546529]\n"
     ]
    },
    {
     "data": {
      "application/vnd.jupyter.widget-view+json": {
       "model_id": "68f38981ba8c44b7b77a13bf873a783a",
       "version_major": 2,
       "version_minor": 0
      },
      "text/plain": [
       "  0%|          | 0/292 [00:00<?, ?it/s]"
      ]
     },
     "metadata": {},
     "output_type": "display_data"
    },
    {
     "data": {
      "application/vnd.jupyter.widget-view+json": {
       "model_id": "d8a7eec7125643eaac984c913eafc5f4",
       "version_major": 2,
       "version_minor": 0
      },
      "text/plain": [
       "  0%|          | 0/21475 [00:00<?, ?it/s]"
      ]
     },
     "metadata": {},
     "output_type": "display_data"
    },
    {
     "name": "stdout",
     "output_type": "stream",
     "text": [
      "Couldn't find with initial match params, rematching iteration 1 with radius 373.00195771259837; Currently 2 matches, expecting 29.200000000000003\n"
     ]
    },
    {
     "data": {
      "application/vnd.jupyter.widget-view+json": {
       "model_id": "83a6a5c277cb44f7a17d1a800b860793",
       "version_major": 2,
       "version_minor": 0
      },
      "text/plain": [
       "  0%|          | 0/21475 [00:00<?, ?it/s]"
      ]
     },
     "metadata": {},
     "output_type": "display_data"
    },
    {
     "name": "stdout",
     "output_type": "stream",
     "text": [
      "UPDATING RESULTS 11\n",
      "11 6 14\n",
      "14\n",
      "THESE ARE THE DBSCAN COUNTS\n",
      "[14]\n",
      "THESE ARE THE DBSCAN COUNTS\n",
      "[14]\n",
      "(14,) (14,) 14 218.89918650355835\n",
      "APPLYING DISTANCE THRESHOLD\n",
      "(14,)\n",
      "(14,)\n",
      "10\n",
      "Scale 9.895e-01\n",
      "Translation 1.220e+05\n",
      "False\n",
      "[[ 1.01062019e+00 -2.79494965e-03  1.23092535e+05]\n",
      " [ 2.79494965e-03  1.01062019e+00 -7.48851896e+03]\n",
      " [ 0.00000000e+00  0.00000000e+00  1.00000000e+00]]\n",
      "Inverse\n",
      "[[ 9.89483843e-01  2.73649541e-03 -1.21777583e+05]\n",
      " [-2.73649541e-03  9.89483843e-01  7.74661068e+03]\n",
      " [ 0.00000000e+00  0.00000000e+00  1.00000000e+00]]\n",
      "[  7.54068891 176.31509477 188.88991251 221.58720428 256.05057277] 10\n",
      "Distances under 100: [7.54068891]\n"
     ]
    },
    {
     "data": {
      "application/vnd.jupyter.widget-view+json": {
       "model_id": "320438d472de4693b134fd307d56a330",
       "version_major": 2,
       "version_minor": 0
      },
      "text/plain": [
       "  0%|          | 0/292 [00:00<?, ?it/s]"
      ]
     },
     "metadata": {},
     "output_type": "display_data"
    },
    {
     "data": {
      "application/vnd.jupyter.widget-view+json": {
       "model_id": "0a1bd6ee86f2411cbc94f08eb097c6bb",
       "version_major": 2,
       "version_minor": 0
      },
      "text/plain": [
       "  0%|          | 0/21475 [00:00<?, ?it/s]"
      ]
     },
     "metadata": {},
     "output_type": "display_data"
    },
    {
     "name": "stdout",
     "output_type": "stream",
     "text": [
      "Couldn't find with initial match params, rematching iteration 1 with radius 354.3518598269685; Currently 2 matches, expecting 29.200000000000003\n"
     ]
    },
    {
     "data": {
      "application/vnd.jupyter.widget-view+json": {
       "model_id": "540861d86474452c90b154e7cd9f2445",
       "version_major": 2,
       "version_minor": 0
      },
      "text/plain": [
       "  0%|          | 0/21475 [00:00<?, ?it/s]"
      ]
     },
     "metadata": {},
     "output_type": "display_data"
    },
    {
     "name": "stdout",
     "output_type": "stream",
     "text": [
      "UPDATING RESULTS 10\n",
      "10 4 13\n",
      "13\n",
      "THESE ARE THE DBSCAN COUNTS\n",
      "[13]\n",
      "THESE ARE THE DBSCAN COUNTS\n",
      "[13]\n",
      "(13,) (13,) 13 179.10034340854577\n",
      "APPLYING DISTANCE THRESHOLD\n",
      "(13,)\n",
      "(13,)\n",
      "10\n",
      "Scale 9.884e-01\n",
      "Translation 1.416e+05\n",
      "False\n",
      "[[ 1.01166913e+00 -5.15109643e-03  1.42544017e+05]\n",
      " [ 5.15109643e-03  1.01166913e+00  1.39607272e+04]\n",
      " [ 0.00000000e+00  0.00000000e+00  1.00000000e+00]]\n",
      "Inverse\n",
      "[[ 9.88439843e-01  5.03282032e-03 -1.40966448e+05]\n",
      " [-5.03282032e-03  9.88439843e-01 -1.30819406e+04]\n",
      " [ 0.00000000e+00  0.00000000e+00  1.00000000e+00]]\n",
      "[ 38.40570344 139.54990824 163.41816882 199.08879569 260.75759736] 10\n",
      "Distances under 100: [38.40570344]\n",
      "D:\\RECTDNN\\processing\\2025-01-21_17-30-34\\\\registration/480287B_27.tif\n",
      "D:\\RECTDNN\\processing\\2025-01-21_17-30-34\\\\registration/480287B_28.tif\n",
      "D:\\RECTDNN\\processing\\2025-01-21_17-30-34\\\\registration/480287B_29.tif\n",
      "D:\\RECTDNN\\processing\\2025-01-21_17-30-34\\\\registration/480287B_30.tif\n",
      "D:\\RECTDNN\\processing\\2025-01-21_17-30-34\\\\registration/480287B_38.tif\n",
      "D:\\RECTDNN\\processing\\2025-01-21_17-30-34\\\\registration/480287B_39.tif\n",
      "D:\\RECTDNN\\processing\\2025-01-21_17-30-34\\\\registration/480287B_40.tif\n",
      "D:\\RECTDNN\\processing\\2025-01-21_17-30-34\\\\registration/480287B_48.tif\n",
      "D:\\RECTDNN\\processing\\2025-01-21_17-30-34\\\\registration/480287B_60.tif\n"
     ]
    },
    {
     "ename": "NameError",
     "evalue": "name 'error' is not defined",
     "output_type": "error",
     "traceback": [
      "\u001b[1;31m---------------------------------------------------------------------------\u001b[0m",
      "\u001b[1;31mNameError\u001b[0m                                 Traceback (most recent call last)",
      "Cell \u001b[1;32mIn[55], line 111\u001b[0m\n\u001b[0;32m    109\u001b[0m \u001b[38;5;28;01mfor\u001b[39;00m r \u001b[38;5;129;01min\u001b[39;00m ra_ref:\n\u001b[0;32m    110\u001b[0m     r\u001b[38;5;241m.\u001b[39mclose()\n\u001b[1;32m--> 111\u001b[0m \u001b[43merror\u001b[49m\n",
      "\u001b[1;31mNameError\u001b[0m: name 'error' is not defined"
     ]
    }
   ],
   "source": [
    "register_tile_names = glob.glob(referencing_dir + \"*\")\n",
    "\n",
    "flip=np.array([\n",
    "    [1, 0, 0],\n",
    "    [0, -1, 0],\n",
    "    [0, 0, 1]\n",
    "    ]) \n",
    "\n",
    "def getTileCorners(tile_dir, ra_ref, conf_thresh=0.3):\n",
    "\n",
    "    tile_name = os.path.basename(tile_dir).split(\".\")[0]\n",
    "\n",
    "    with open(f\"{corner_dir}/{tile_name}.pickle\", 'rb') as f:\n",
    "        x = pickle.load(f)    \n",
    "        corner_bbox = [a.bbox.to_xyxy() for a in x if a.score.value > conf_thresh]\n",
    "        corner_arry = np.array([calcCenter(a) for a in corner_bbox ]) * 2\n",
    "        print(f\"{len(corner_bbox)} / {len(x)}\")\n",
    "\n",
    "    corner_arry = np.int32(corner_arry)                # CONVERT TO INT32\n",
    "    corner_arry = cleanCenterBBOX(corner_arry, bbox)\n",
    "\n",
    "    # USE RASTER TRANSFORM TO GET REAL-WORLD ESTIMATES OF STREET CORNERS\n",
    "    im_corner_gdf = pointsToGeodataFrame(ra_ref, corner_arry[:, 1], corner_arry[:, 0])\n",
    "    return im_corner_gdf\n",
    "\n",
    "\n",
    "for curr_dir in register_tile_names:\n",
    "    \n",
    "    ra_ref = []\n",
    "    im_corner_list = []\n",
    "    tile_dirs = []\n",
    "\n",
    "    if os.path.isdir(curr_dir):\n",
    "        print(\"FOUND GROUPING - USING\")\n",
    "        curr_tile_names = glob.glob(curr_dir + \"/*.tif\")\n",
    "        for tile_dir in curr_tile_names:\n",
    "            curr_ra_ref = rio.open(tile_dir)\n",
    "            curr_im_corner_gdf = getTileCorners(tile_dir, curr_ra_ref)\n",
    "            tile_dirs.append(tile_dir)\n",
    "            ra_ref.append(curr_ra_ref)\n",
    "            im_corner_list.append(curr_im_corner_gdf)\n",
    "\n",
    "    else:\n",
    "        print(\"FOUND GROUPING - USING\")\n",
    "        curr_ra_ref = rio.open(curr_dir)\n",
    "        curr_im_corner_gdf = getTileCorners(curr_dir, curr_ra_ref)\n",
    "        ra_ref.append(curr_ra_ref)\n",
    "        im_corner_list.append(curr_im_corner_gdf)\n",
    "        tile_dirs.append(tile_dir)\n",
    "\n",
    "    # CONVERT LIST TO GEODATAFRAME\n",
    "    im_corner_gdf   = gpd.GeoDataFrame(pd.concat(im_corner_list))\n",
    "    corner_arry     = np.stack(im_corner_gdf.geometry.apply(lambda point: np.array([point.x, point.y])))\n",
    "\n",
    "    # BOUNDS\n",
    "    bounds_poly     = enlarged_bounds(ra_ref, n=1.2)\n",
    "    corners_curr    = gpd.clip(corners, bounds_poly)\n",
    "    \n",
    "    current_transform_mymethod, im_corner_gdf_adj, best_adjustment = registerImagesV2_group(\"test1\", im_corner_gdf, corners_curr, corner_arry, descriptor_kwds,\n",
    "                                        distance_threshold=5,\n",
    "                                        n_iters=50,\n",
    "                                        r_initial=3500, \n",
    "                                        r_change=0.95, # 0.99,# 0.95, # 0.8,# 0.995,\n",
    "                                        dbscan_ini=0.02,\n",
    "                                        dbscan_max=0.1,\n",
    "                                        verbose=5, logging_dir=f\"{registration_dir}/logs/\")\n",
    "    \n",
    "    # icp_transform, transform_dict = performWeightedICPonTile([im_corner_gdf_adj], [corners_curr], proc_limit=5000, \n",
    "    #                                                       icp_iterations=100, plot_datasets=[corners_curr], weights=[1, 1/10], \n",
    "    #                                                       plot=True, shear=True, dist_threshold=100)\n",
    "    \n",
    "    # current_adjustment = icp_transform @ np.linalg.inv(best_adjustment)\n",
    "    \n",
    "    for i, tile_dir in enumerate(tile_dirs):\n",
    "\n",
    "        image = cv2.imread(tile_dir)\n",
    "        image = cv2.cvtColor(image, cv2.COLOR_BGR2GRAY)\n",
    "\n",
    "        tile_name = os.path.basename(tile_dir).split(\".\")[0]\n",
    "        print(f\"{registration_dir}/{tile_name}.tif\")\n",
    "\n",
    "        current_adjustment_mymethod = np.linalg.inv(best_adjustment) @ getMatrixFromAffine(ra_ref[i].transform)\n",
    "\n",
    "        try:\n",
    "            with rio.open(f\"{registration_dir}/{tile_name}.tif\", 'w',\n",
    "                        driver='GTiff', count=1, dtype=np.uint8,\n",
    "                        height=image.shape[0], width=image.shape[1],\n",
    "                        crs=f'EPSG:3857',\n",
    "                        # compress= 'CCITTFAX4',  # Use CCITTFAX4 or CCITTRLE for binary data compression\n",
    "                        transform=rio.Affine(*current_adjustment_mymethod.flatten()[:6])) as dst:\n",
    "                            dst.write(image, 1) \n",
    "        except Exception as e:\n",
    "            print(e)\n",
    "            traceback.print_exc()\n",
    "        \n",
    "        \"\"\"\n",
    "        try:\n",
    "            with rio.open(f\"{registration_dir}/{tile_name}_icp.tif\", 'w',\n",
    "                        driver='GTiff', count=1, dtype=np.uint8,\n",
    "                        height=image.shape[0], width=image.shape[1],\n",
    "                        crs=f'EPSG:3857',\n",
    "                        # compress= 'CCITTFAX4',  # Use CCITTFAX4 or CCITTRLE for binary data compression\n",
    "                        transform=rio.Affine(*current_adjustment.flatten()[:6])) as dst:\n",
    "                            dst.write(image, 1) \n",
    "        except Exception as e:\n",
    "                print(e)\n",
    "                traceback.print_exc()\"\"\"\n",
    "    \n",
    "    for r in ra_ref:\n",
    "        r.close()\n",
    "    error"
   ]
  },
  {
   "cell_type": "code",
   "execution_count": null,
   "id": "1e182fb3",
   "metadata": {},
   "outputs": [],
   "source": [
    "def assign_and_output_rasters(selected_rasters, source_folder, output_folder):\n",
    "    \"\"\"\n",
    "    Outputs all rasters to a specified folder, updating their projection information\n",
    "    if they share the same base code as the selected rasters.\n",
    "    \n",
    "    Parameters:\n",
    "        selected_rasters (list): List of file paths to the selected rasters.\n",
    "        source_folder (str): Path to the folder containing the source rasters.\n",
    "        output_folder (str): Path to the folder where updated rasters will be saved.\n",
    "    \"\"\"\n",
    "    # Create the output folder if it doesn't exist\n",
    "    os.makedirs(output_folder, exist_ok=True)\n",
    "    \n",
    "    # Extract base codes and their respective affine/projection info from selected rasters\n",
    "    code_to_transform = {}\n",
    "    \n",
    "    for raster_path in selected_rasters:\n",
    "        base_code = os.path.basename(raster_path).split(\".\")[0][:-1]  # Remove the suffix (last character)\n",
    "        \n",
    "        # Read the affine transform and CRS (projection info)\n",
    "        with rio.open(raster_path) as src:\n",
    "            code_to_transform[base_code] = {\n",
    "                \"transform\": src.transform,\n",
    "                \"crs\": src.crs\n",
    "            }\n",
    "    \n",
    "    # Iterate through all rasters in the source folder\n",
    "    for raster_file in os.listdir(source_folder):\n",
    "        source_path = os.path.join(source_folder, raster_file)\n",
    "        \n",
    "        # Skip if not a valid raster file\n",
    "        if not raster_file.endswith(('.tif', '.img', '.jp2')):  # Add more extensions if needed\n",
    "            continue\n",
    "        \n",
    "        base_code = os.path.basename(raster_file).split(\".\")[0][:-1]  # Extract base code\n",
    "        \n",
    "        # Determine the output path\n",
    "        output_path = os.path.join(output_folder, raster_file)\n",
    "        \n",
    "        # If the raster matches a selected base code, update its projection info\n",
    "        if base_code in code_to_transform:\n",
    "            with rio.open(source_path) as src:\n",
    "                data = src.read()  # Read all raster data\n",
    "            \n",
    "            # Write the raster with updated projection information\n",
    "            with rio.open(\n",
    "                output_path, \n",
    "                \"w\",\n",
    "                driver=src.driver,\n",
    "                height=src.height,\n",
    "                width=src.width,\n",
    "                count=src.count,\n",
    "                dtype=src.dtypes[0],\n",
    "                transform=code_to_transform[base_code][\"transform\"],\n",
    "                crs=code_to_transform[base_code][\"crs\"]\n",
    "            ) as dst:\n",
    "                dst.write(data)\n",
    "            \n",
    "            print(f\"Output and updated projection: {raster_file} -> {output_path}\")\n",
    "        else:\n",
    "            # Copy the file as-is to the output folder\n",
    "            with rio.open(source_path) as src:\n",
    "                data = src.read()\n",
    "                with rio.open(\n",
    "                    output_path,\n",
    "                    \"w\",\n",
    "                    driver=src.driver,\n",
    "                    height=src.height,\n",
    "                    width=src.width,\n",
    "                    count=src.count,\n",
    "                    dtype=src.dtypes[0],\n",
    "                    transform=src.transform,\n",
    "                    crs=src.crs\n",
    "                ) as dst:\n",
    "                    dst.write(data)\n",
    "            \n",
    "            print(f\"Output without modification: {raster_file} -> {output_path}\")"
   ]
  },
  {
   "cell_type": "code",
   "execution_count": null,
   "id": "beac4bef",
   "metadata": {},
   "outputs": [
    {
     "name": "stderr",
     "output_type": "stream",
     "text": [
      "12/09/2024 09:20:16 - INFO - rasterio._env -   GDAL signalled an error: err_no=4, msg='D:/RECTDNN/processing/2024-11-15_09-31-24/registration/4802960085D.tif: No such file or directory'\n"
     ]
    },
    {
     "ename": "RasterioIOError",
     "evalue": "D:/RECTDNN/processing/2024-11-15_09-31-24/registration/4802960085D.tif: No such file or directory",
     "output_type": "error",
     "traceback": [
      "\u001b[1;31m---------------------------------------------------------------------------\u001b[0m",
      "\u001b[1;31mCPLE_OpenFailedError\u001b[0m                      Traceback (most recent call last)",
      "File \u001b[1;32mrasterio\\_base.pyx:310\u001b[0m, in \u001b[0;36mrasterio._base.DatasetBase.__init__\u001b[1;34m()\u001b[0m\n",
      "File \u001b[1;32mrasterio\\_base.pyx:221\u001b[0m, in \u001b[0;36mrasterio._base.open_dataset\u001b[1;34m()\u001b[0m\n",
      "File \u001b[1;32mrasterio\\_err.pyx:221\u001b[0m, in \u001b[0;36mrasterio._err.exc_wrap_pointer\u001b[1;34m()\u001b[0m\n",
      "\u001b[1;31mCPLE_OpenFailedError\u001b[0m: D:/RECTDNN/processing/2024-11-15_09-31-24/registration/4802960085D.tif: No such file or directory",
      "\nDuring handling of the above exception, another exception occurred:\n",
      "\u001b[1;31mRasterioIOError\u001b[0m                           Traceback (most recent call last)",
      "Cell \u001b[1;32mIn[26], line 28\u001b[0m\n\u001b[0;32m     18\u001b[0m selected_rasters \u001b[38;5;241m=\u001b[39m [\n\u001b[0;32m     19\u001b[0m     \u001b[38;5;124mf\u001b[39m\u001b[38;5;124m\"\u001b[39m\u001b[38;5;132;01m{\u001b[39;00msource_folder\u001b[38;5;132;01m}\u001b[39;00m\u001b[38;5;124m4802960085D.tif\u001b[39m\u001b[38;5;124m\"\u001b[39m,\n\u001b[0;32m     20\u001b[0m     \u001b[38;5;124mf\u001b[39m\u001b[38;5;124m\"\u001b[39m\u001b[38;5;132;01m{\u001b[39;00msource_folder\u001b[38;5;132;01m}\u001b[39;00m\u001b[38;5;124m4802960115D.tif\u001b[39m\u001b[38;5;124m\"\u001b[39m,\n\u001b[1;32m   (...)\u001b[0m\n\u001b[0;32m     23\u001b[0m \n\u001b[0;32m     24\u001b[0m ]\n\u001b[0;32m     26\u001b[0m output_folder \u001b[38;5;241m=\u001b[39m \u001b[38;5;124mr\u001b[39m\u001b[38;5;124m\"\u001b[39m\u001b[38;5;124mD:\u001b[39m\u001b[38;5;124m\\\u001b[39m\u001b[38;5;124mRECTDNN\u001b[39m\u001b[38;5;124m\\\u001b[39m\u001b[38;5;124mprocessing\u001b[39m\u001b[38;5;124m\\\u001b[39m\u001b[38;5;124m2024-11-15_09-31-24\u001b[39m\u001b[38;5;124m\\\u001b[39m\u001b[38;5;124mregistration_homo\u001b[39m\u001b[38;5;130;01m\\\\\u001b[39;00m\u001b[38;5;124m\"\u001b[39m\n\u001b[1;32m---> 28\u001b[0m \u001b[43massign_and_output_rasters\u001b[49m\u001b[43m(\u001b[49m\u001b[43mselected_rasters\u001b[49m\u001b[43m,\u001b[49m\u001b[43m \u001b[49m\u001b[43msource_folder\u001b[49m\u001b[43m,\u001b[49m\u001b[43m \u001b[49m\u001b[43moutput_folder\u001b[49m\u001b[43m)\u001b[49m\n",
      "Cell \u001b[1;32mIn[25], line 21\u001b[0m, in \u001b[0;36massign_and_output_rasters\u001b[1;34m(selected_rasters, source_folder, output_folder)\u001b[0m\n\u001b[0;32m     18\u001b[0m     base_code \u001b[38;5;241m=\u001b[39m os\u001b[38;5;241m.\u001b[39mpath\u001b[38;5;241m.\u001b[39mbasename(raster_path)\u001b[38;5;241m.\u001b[39msplit(\u001b[38;5;124m\"\u001b[39m\u001b[38;5;124m.\u001b[39m\u001b[38;5;124m\"\u001b[39m)[\u001b[38;5;241m0\u001b[39m][:\u001b[38;5;241m-\u001b[39m\u001b[38;5;241m1\u001b[39m]  \u001b[38;5;66;03m# Remove the suffix (last character)\u001b[39;00m\n\u001b[0;32m     20\u001b[0m     \u001b[38;5;66;03m# Read the affine transform and CRS (projection info)\u001b[39;00m\n\u001b[1;32m---> 21\u001b[0m     \u001b[38;5;28;01mwith\u001b[39;00m \u001b[43mrio\u001b[49m\u001b[38;5;241;43m.\u001b[39;49m\u001b[43mopen\u001b[49m\u001b[43m(\u001b[49m\u001b[43mraster_path\u001b[49m\u001b[43m)\u001b[49m \u001b[38;5;28;01mas\u001b[39;00m src:\n\u001b[0;32m     22\u001b[0m         code_to_transform[base_code] \u001b[38;5;241m=\u001b[39m {\n\u001b[0;32m     23\u001b[0m             \u001b[38;5;124m\"\u001b[39m\u001b[38;5;124mtransform\u001b[39m\u001b[38;5;124m\"\u001b[39m: src\u001b[38;5;241m.\u001b[39mtransform,\n\u001b[0;32m     24\u001b[0m             \u001b[38;5;124m\"\u001b[39m\u001b[38;5;124mcrs\u001b[39m\u001b[38;5;124m\"\u001b[39m: src\u001b[38;5;241m.\u001b[39mcrs\n\u001b[0;32m     25\u001b[0m         }\n\u001b[0;32m     27\u001b[0m \u001b[38;5;66;03m# Iterate through all rasters in the source folder\u001b[39;00m\n",
      "File \u001b[1;32mc:\\Users\\fhacesga\\Anaconda3\\envs\\yolo\\lib\\site-packages\\rasterio\\env.py:451\u001b[0m, in \u001b[0;36mensure_env_with_credentials.<locals>.wrapper\u001b[1;34m(*args, **kwds)\u001b[0m\n\u001b[0;32m    448\u001b[0m     session \u001b[38;5;241m=\u001b[39m DummySession()\n\u001b[0;32m    450\u001b[0m \u001b[38;5;28;01mwith\u001b[39;00m env_ctor(session\u001b[38;5;241m=\u001b[39msession):\n\u001b[1;32m--> 451\u001b[0m     \u001b[38;5;28;01mreturn\u001b[39;00m \u001b[43mf\u001b[49m\u001b[43m(\u001b[49m\u001b[38;5;241;43m*\u001b[39;49m\u001b[43margs\u001b[49m\u001b[43m,\u001b[49m\u001b[43m \u001b[49m\u001b[38;5;241;43m*\u001b[39;49m\u001b[38;5;241;43m*\u001b[39;49m\u001b[43mkwds\u001b[49m\u001b[43m)\u001b[49m\n",
      "File \u001b[1;32mc:\\Users\\fhacesga\\Anaconda3\\envs\\yolo\\lib\\site-packages\\rasterio\\__init__.py:304\u001b[0m, in \u001b[0;36mopen\u001b[1;34m(fp, mode, driver, width, height, count, crs, transform, dtype, nodata, sharing, **kwargs)\u001b[0m\n\u001b[0;32m    301\u001b[0m path \u001b[38;5;241m=\u001b[39m _parse_path(raw_dataset_path)\n\u001b[0;32m    303\u001b[0m \u001b[38;5;28;01mif\u001b[39;00m mode \u001b[38;5;241m==\u001b[39m \u001b[38;5;124m\"\u001b[39m\u001b[38;5;124mr\u001b[39m\u001b[38;5;124m\"\u001b[39m:\n\u001b[1;32m--> 304\u001b[0m     dataset \u001b[38;5;241m=\u001b[39m \u001b[43mDatasetReader\u001b[49m\u001b[43m(\u001b[49m\u001b[43mpath\u001b[49m\u001b[43m,\u001b[49m\u001b[43m \u001b[49m\u001b[43mdriver\u001b[49m\u001b[38;5;241;43m=\u001b[39;49m\u001b[43mdriver\u001b[49m\u001b[43m,\u001b[49m\u001b[43m \u001b[49m\u001b[43msharing\u001b[49m\u001b[38;5;241;43m=\u001b[39;49m\u001b[43msharing\u001b[49m\u001b[43m,\u001b[49m\u001b[43m \u001b[49m\u001b[38;5;241;43m*\u001b[39;49m\u001b[38;5;241;43m*\u001b[39;49m\u001b[43mkwargs\u001b[49m\u001b[43m)\u001b[49m\n\u001b[0;32m    305\u001b[0m \u001b[38;5;28;01melif\u001b[39;00m mode \u001b[38;5;241m==\u001b[39m \u001b[38;5;124m\"\u001b[39m\u001b[38;5;124mr+\u001b[39m\u001b[38;5;124m\"\u001b[39m:\n\u001b[0;32m    306\u001b[0m     dataset \u001b[38;5;241m=\u001b[39m get_writer_for_path(path, driver\u001b[38;5;241m=\u001b[39mdriver)(\n\u001b[0;32m    307\u001b[0m         path, mode, driver\u001b[38;5;241m=\u001b[39mdriver, sharing\u001b[38;5;241m=\u001b[39msharing, \u001b[38;5;241m*\u001b[39m\u001b[38;5;241m*\u001b[39mkwargs\n\u001b[0;32m    308\u001b[0m     )\n",
      "File \u001b[1;32mrasterio\\_base.pyx:312\u001b[0m, in \u001b[0;36mrasterio._base.DatasetBase.__init__\u001b[1;34m()\u001b[0m\n",
      "\u001b[1;31mRasterioIOError\u001b[0m: D:/RECTDNN/processing/2024-11-15_09-31-24/registration/4802960085D.tif: No such file or directory"
     ]
    }
   ],
   "source": [
    "source_folder = r\"D:\\RECTDNN\\processing\\2024-11-15_09-31-24\\registration\\\\\"\n",
    "\n",
    "# Example usage\n",
    "\"\"\"selected_rasters = [\n",
    "    f\"{source_folder}4802960160C.tif\",\n",
    "    f\"{source_folder}4802960155E.tif\",\n",
    "    f\"{source_folder}4802960175D.tif\"\n",
    "\n",
    "]\"\"\"\n",
    "\n",
    "\"\"\"selected_rasters = [\n",
    "    f\"{source_folder}4802960150D.tif\",\n",
    "    f\"{source_folder}4802960080D.tif\",\n",
    "    f\"{source_folder}4802960090B.tif\"\n",
    "\n",
    "]\"\"\"\n",
    "\n",
    "selected_rasters = [\n",
    "    f\"{source_folder}4802960085D.tif\",\n",
    "    f\"{source_folder}4802960115D.tif\",\n",
    "    f\"{source_folder}4802960120C.tif\",\n",
    "    f\"{source_folder}4802960125B.tif\"\n",
    "\n",
    "]\n",
    "\n",
    "output_folder = r\"D:\\RECTDNN\\processing\\2024-11-15_09-31-24\\registration_homo\\\\\"\n",
    "\n",
    "assign_and_output_rasters(selected_rasters, source_folder, output_folder)"
   ]
  }
 ],
 "metadata": {
  "kernelspec": {
   "display_name": "yolo",
   "language": "python",
   "name": "python3"
  },
  "language_info": {
   "codemirror_mode": {
    "name": "ipython",
    "version": 3
   },
   "file_extension": ".py",
   "mimetype": "text/x-python",
   "name": "python",
   "nbconvert_exporter": "python",
   "pygments_lexer": "ipython3",
   "version": "3.8.18"
  }
 },
 "nbformat": 4,
 "nbformat_minor": 5
}
