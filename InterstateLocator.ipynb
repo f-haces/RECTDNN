{
 "cells": [
  {
   "cell_type": "code",
   "execution_count": 1,
   "id": "e39c8d38",
   "metadata": {},
   "outputs": [],
   "source": [
    "# NOTEBOOK IMPORTS\n",
    "import os\n",
    "import glob\n",
    "import numpy as np\n",
    "from tqdm.notebook import tqdm\n",
    "from shutil import copyfile\n",
    "from datetime import datetime\n",
    "\n",
    "# IMAGE IMPORTS\n",
    "import cv2\n",
    "from PIL import Image\n",
    "\n",
    "# GIS IMPORTS\n",
    "import fiona\n",
    "import pyproj\n",
    "from affine import Affine\n",
    "from shapely.geometry import shape, mapping\n",
    "from shapely.geometry import Point, LineString\n",
    "from shapely.ops import transform, nearest_points, snap\n",
    "import pandas as pd\n",
    "import geopandas as gpd\n",
    "import rasterio as rio\n",
    "from rasterio.mask import mask\n",
    "from scipy.spatial import cKDTree\n",
    "\n",
    "# PLOTTING IMPORTS\n",
    "import matplotlib.pyplot as plt\n",
    "import matplotlib.patches as patches\n",
    "\n",
    "\n",
    "# CUSTOM UTILITIES\n",
    "from WorldFileUtils import *\n",
    "from GeometryUtils import *\n",
    "from icp import *\n",
    "\n",
    "Image.MAX_IMAGE_PIXELS = 933120000"
   ]
  },
  {
   "cell_type": "code",
   "execution_count": 2,
   "id": "1ee7bc87",
   "metadata": {},
   "outputs": [],
   "source": [
    "templates_dir = \"data/templates/\"\n",
    "tempfiles_dir = \"tempfiles/\"\n",
    "\n",
    "boundary_shapefile = f\"{templates_dir}HCAD_Harris_County_Boundary.shp\"\n",
    "boundary_points    = f'{tempfiles_dir}boundary_points.shp'\n",
    "roads_points       = f'{tempfiles_dir}roads_points.shp'\n",
    "\n",
    "tile_file = r\"data_local\\000_WorkingFiles\\HarrisIndexes\\48201CIND0_0992.tif\"\n",
    "\n",
    "roads_fn = f\"data/Roads/TexasHighways.shp\"\n",
    "selected_transform = f\"{tempfiles_dir}SelectedTransform.png\""
   ]
  },
  {
   "cell_type": "code",
   "execution_count": 24,
   "id": "417a4fe2",
   "metadata": {},
   "outputs": [
    {
     "data": {
      "text/plain": [
       "True"
      ]
     },
     "execution_count": 24,
     "metadata": {},
     "output_type": "execute_result"
    }
   ],
   "source": [
    "def extract_thick_lines(image_path):\n",
    "    # Load the image in grayscale\n",
    "    image = cv2.imread(image_path, 0)\n",
    "    image = np.where(np.asarray(image), 255, 0).astype(np.uint8)\n",
    "    \n",
    "    # Apply Gaussian blur to reduce noise\n",
    "    image = cv2.GaussianBlur(image, (31, 31), 0)\n",
    "    image = cv2.GaussianBlur(image, (31, 31), 0)\n",
    "    image = cv2.GaussianBlur(image, (31, 31), 0)\n",
    "    image = cv2.GaussianBlur(image, (15, 15), 0)\n",
    "\n",
    "    # Perform adaptive thresholding to obtain a binary image\n",
    "    # _, thresholded = cv2.threshold(blurred, 0, 255, cv2.THRESH_BINARY + cv2.THRESH_OTSU)\n",
    "\n",
    "    # Define the structuring element for morphological operations\n",
    "    # kernel = cv2.getStructuringElement(cv2.MORPH_RECT, (3, 3))\n",
    "\n",
    "    # Perform erosion and dilation to enhance the lines\n",
    "    # eroded = cv2.erode(thresholded, kernel, iterations=4)\n",
    "    image = cv2.dilate(image, np.ones((3,3), np.uint8), iterations=3)\n",
    "    image = cv2.adaptiveThreshold(image, 255,cv2.ADAPTIVE_THRESH_MEAN_C, cv2.THRESH_BINARY,19, 8)\n",
    "    \n",
    "    return image\n",
    "\n",
    "# Example usage\n",
    "image_path = tile_file\n",
    "\n",
    "result = extract_thick_lines(image_path)\n",
    "cv2.imwrite(f\"{tempfiles_dir}ExtractThickLines.png\", result)"
   ]
  },
  {
   "cell_type": "markdown",
   "id": "bd1f400a",
   "metadata": {},
   "source": [
    "Here you fixed it up, now you need to flip it"
   ]
  },
  {
   "cell_type": "code",
   "execution_count": 13,
   "id": "d53e96ef",
   "metadata": {},
   "outputs": [
    {
     "data": {
      "text/plain": [
       "True"
      ]
     },
     "execution_count": 13,
     "metadata": {},
     "output_type": "execute_result"
    }
   ],
   "source": [
    "data_dir = r\"C:\\Users\\fhacesga\\OneDrive - University Of Houston\\AAA_RECTDNN\\data\\TileLocator\\out\"\n",
    "image_to_flip = cv2.imread(f\"{data_dir}/2.png\")\n",
    "image_to_flip = 255 - np.asarray(image_to_flip)[:,:,0]\n",
    "cv2.imwrite(f\"{data_dir}/2_1.png\", image_to_flip)"
   ]
  },
  {
   "cell_type": "code",
   "execution_count": 12,
   "id": "9f0e176b",
   "metadata": {},
   "outputs": [
    {
     "data": {
      "text/plain": [
       "(10200, 14840)"
      ]
     },
     "execution_count": 12,
     "metadata": {},
     "output_type": "execute_result"
    }
   ],
   "source": [
    "image_to_flip.shape"
   ]
  }
 ],
 "metadata": {
  "kernelspec": {
   "display_name": "Python 3 (ipykernel)",
   "language": "python",
   "name": "python3"
  },
  "language_info": {
   "codemirror_mode": {
    "name": "ipython",
    "version": 3
   },
   "file_extension": ".py",
   "mimetype": "text/x-python",
   "name": "python",
   "nbconvert_exporter": "python",
   "pygments_lexer": "ipython3",
   "version": "3.7.16"
  }
 },
 "nbformat": 4,
 "nbformat_minor": 5
}
