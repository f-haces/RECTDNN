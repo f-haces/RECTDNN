{
 "cells": [
  {
   "cell_type": "code",
   "execution_count": 1,
   "id": "6b80c117",
   "metadata": {},
   "outputs": [],
   "source": [
    "# PYTHON IMPORTS\n",
    "import os\n",
    "import copy\n",
    "from tqdm.notebook import trange, tqdm\n",
    "\n",
    "# IMAGE IMPORTS \n",
    "from PIL import Image\n",
    "import cv2\n",
    "import tifffile\n",
    "\n",
    "# DATA IMPORTS \n",
    "import random\n",
    "import h5py\n",
    "import netCDF4 as nc\n",
    "import numpy as np\n",
    "import glob\n",
    "\n",
    "# PLOTTING\n",
    "import matplotlib.pyplot as plt\n",
    "import matplotlib.cm as cm\n",
    "\n",
    "# NEURAL NETWORK\n",
    "import torch\n",
    "import torch.nn as nn\n",
    "import torch.optim as optim\n",
    "from torch.utils.data import DataLoader, Dataset\n",
    "from torchvision import transforms, datasets\n",
    "from torchvision.transforms import ToPILImage, GaussianBlur\n",
    "from torchvision.transforms import Compose, RandomCrop, ToTensor, Normalize\n",
    "import torch.optim.lr_scheduler as lr_scheduler\n",
    "import torchvision.models as models\n",
    "\n",
    "# MY OWN CLASSES\n",
    "from TileLocator import *\n",
    "\n",
    "# PREFERENCES\n",
    "Image.MAX_IMAGE_PIXELS = 933120000"
   ]
  },
  {
   "cell_type": "code",
   "execution_count": 2,
   "id": "face9e4f",
   "metadata": {},
   "outputs": [],
   "source": [
    "templates_dir = \"data/templates/\"\n",
    "tempfiles_dir = \"tempfiles/\"\n",
    "\n",
    "boundary_shapefile = f\"{templates_dir}HCAD_Harris_County_Boundary.shp\"\n",
    "boundary_points    = f'{tempfiles_dir}boundary_points.shp'\n",
    "roads_points       = f'{tempfiles_dir}roads_points.shp'\n",
    "\n",
    "tile_file = f\"data/TileIndices/48201CIND0_0992.tif\"\n",
    "\n",
    "roads_fn = f\"data/Roads/TexasHighways.shp\"\n",
    "model_checkpoint = \"data/TileLocator/checkpoint_071723.pth\"\n",
    "\n",
    "class_names = [\"Tiles\", \"Roads\"]"
   ]
  },
  {
   "cell_type": "code",
   "execution_count": 13,
   "id": "c1052056",
   "metadata": {},
   "outputs": [],
   "source": [
    "def split_and_run_cnn(image_path, model, tilesize=1024, overhang_size=2):\n",
    "        \n",
    "    tensor = transforms.Compose([\n",
    "        transforms.ToTensor(),\n",
    "    ])\n",
    "    \n",
    "    num_classes = 2\n",
    "    \n",
    "    # Load the image\n",
    "    image = Image.open(image_path)\n",
    "    \n",
    "    # Calculate the number of tiles needed\n",
    "    width, height = image.size\n",
    "    num_tiles_x = (width + tilesize-1) // tilesize\n",
    "    num_tiles_y = (height + tilesize-1) // tilesize\n",
    "    \n",
    "    # Create an empty list to store the output tiles\n",
    "    output_tiles = []\n",
    "    \n",
    "    output_gen = np.zeros((width, height, num_classes))\n",
    "    \n",
    "    # Iterate over each tile\n",
    "    for tile_x in tqdm(range(num_tiles_x)):\n",
    "        for tile_y in range(num_tiles_y):\n",
    "                        \n",
    "            # Calculate the coordinates for the current tile\n",
    "            x0 = tile_x * tilesize\n",
    "            y0 = tile_y * tilesize\n",
    "            x1 = min(x0 + tilesize, width)\n",
    "            y1 = min(y0 + tilesize, height)\n",
    "            \n",
    "            # Crop the image to the current tile\n",
    "            tile = image.crop((x0, y0, x1, y1))\n",
    "            \n",
    "            # Pad the tile if needed\n",
    "            pad_width = tilesize - tile.width\n",
    "            pad_height = tilesize - tile.height\n",
    "            if pad_width > 0 or pad_height > 0:\n",
    "                padding = ((0, pad_height), (0, pad_width))\n",
    "                tile = np.pad(tile, padding, mode='constant')\n",
    "            \n",
    "            # Preprocess the tile\n",
    "            tile = np.array(tile)\n",
    "            \n",
    "            #if np.max(tile) == 1:\n",
    "            #    tile = tile * 255\n",
    "            \n",
    "            # tile = np.where(tile > 127, 255, 0).astype(np.uint8)\n",
    "            \n",
    "            tile_tensor = tensor(tile).unsqueeze(0).to(\"cuda\")\n",
    "            \n",
    "            # Run the CNN on the tile\n",
    "            output = model(tile_tensor)\n",
    "            output = output[0, 1:, :, :].cpu().detach().numpy().T\n",
    "            \n",
    "            # Store the output tile\n",
    "            \n",
    "            x_fin = tilesize - pad_width\n",
    "            y_fin = tilesize - pad_height\n",
    "            \n",
    "            temp = output[0:x_fin, 0:y_fin, :]\n",
    "            \n",
    "            temp[:, :overhang_size, :] = 0\n",
    "            temp[:, overhang_size:, :] = 0\n",
    "            temp[:, :, overhang_size:] = 0\n",
    "            temp[:, :, :overhang_size] = 0\n",
    "            \n",
    "            output_gen[x0:x1, y0:y1, :] = temp\n",
    "        torch.cuda.empty_cache()\n",
    "    return output_gen.T\n"
   ]
  },
  {
   "cell_type": "code",
   "execution_count": 4,
   "id": "c5e51deb",
   "metadata": {},
   "outputs": [],
   "source": [
    "# Initialize model\n",
    "# model = torch.load(model_checkpoint)# RectangleClass()\n",
    "# model = model.to(\"cuda\")\n",
    "model = RectangleClass(num_classes=3)\n",
    "checkpoint = torch.load(model_checkpoint)\n",
    "model.load_state_dict(checkpoint[\"model_state_dict\"])\n",
    "model = model.to(\"cuda\")"
   ]
  },
  {
   "cell_type": "code",
   "execution_count": 6,
   "id": "4ea11617",
   "metadata": {
    "scrolled": true
   },
   "outputs": [
    {
     "data": {
      "application/vnd.jupyter.widget-view+json": {
       "model_id": "7ec3b9d4c33c45269719cff766bbbeaa",
       "version_major": 2,
       "version_minor": 0
      },
      "text/plain": [
       "  0%|          | 0/39 [00:00<?, ?it/s]"
      ]
     },
     "metadata": {},
     "output_type": "display_data"
    }
   ],
   "source": [
    "input_folder = f\"data/TileIndicesStore/\"\n",
    "output_folder = f\"data/TileIndices_Sharpened/\"\n",
    "    \n",
    "def makeKernel(w):\n",
    "    kernel = np.ones((w, w)) * 0\n",
    "    kernel[w // 2, :] = -1\n",
    "    kernel[:, w // 2] = -1\n",
    "    kernel[w // 2, w // 2] = kernel.size + np.sum(kernel) + 1\n",
    "    return kernel\n",
    "    \n",
    "if True:\n",
    "     # Iterate over the files in the input folder\n",
    "    for filename in tqdm(os.listdir(input_folder)):\n",
    "        # Check if the file has a supported image extension\n",
    "        if filename.lower().endswith(('.png', '.jpg', '.jpeg', '.tif', '.tiff')):\n",
    "            # Open the image file\n",
    "            image_path = os.path.join(input_folder, filename)\n",
    "            output_path = os.path.join(output_folder, filename[:-3] + \"png\")\n",
    "\n",
    "            image = cv2.imread(image_path, 0)\n",
    "            \n",
    "            # Get the original image dimensions\n",
    "            height, width = image.shape[:2]\n",
    "            max_size = 14440\n",
    "\n",
    "            # Determine the scaling factor\n",
    "            scale = max_size / max(height, width)\n",
    "\n",
    "            # Calculate the new dimensions\n",
    "            new_height = int(height * scale)\n",
    "            new_width = int(width * scale)\n",
    "\n",
    "            # Resize the image using the calculated dimensions\n",
    "            image = cv2.resize(image, (new_width, new_height), interpolation=cv2.INTER_CUBIC)\n",
    "    \n",
    "\n",
    "            # Create a kernel\n",
    "            kernel = makeKernel(4)\n",
    "\n",
    "            # Apply the kernel to the image\n",
    "            processed_image = cv2.filter2D(image, -1, kernel).astype(np.uint8)\n",
    "            \n",
    "            # processed_image = image\n",
    "            \n",
    "            # processed_image = cv2.adaptiveThreshold(processed_image, 255,cv2.ADAPTIVE_THRESH_MEAN_C,\\\n",
    "            #                        cv2.THRESH_BINARY,19, 8)\n",
    "\n",
    "            # Save the processed image to the output folder\n",
    "            cv2.imwrite(output_path, processed_image.astype(np.uint8))"
   ]
  },
  {
   "cell_type": "code",
   "execution_count": 14,
   "id": "1b0b7192",
   "metadata": {
    "scrolled": false
   },
   "outputs": [
    {
     "name": "stdout",
     "output_type": "stream",
     "text": [
      "Processing 480233IND0_0382.png and saved to data/TileIndicesBoundaries/480233IND0_0382.tif\n"
     ]
    },
    {
     "data": {
      "application/vnd.jupyter.widget-view+json": {
       "model_id": "e17ee57ed4c54445a05c9791991479b3",
       "version_major": 2,
       "version_minor": 0
      },
      "text/plain": [
       "  0%|          | 0/15 [00:00<?, ?it/s]"
      ]
     },
     "metadata": {},
     "output_type": "display_data"
    },
    {
     "name": "stdout",
     "output_type": "stream",
     "text": [
      "Processing 480287IND0_0281.png and saved to data/TileIndicesBoundaries/480287IND0_0281.tif\n"
     ]
    },
    {
     "data": {
      "application/vnd.jupyter.widget-view+json": {
       "model_id": "05ed80170fbf430bb8f2aa2ba2dbcbf3",
       "version_major": 2,
       "version_minor": 0
      },
      "text/plain": [
       "  0%|          | 0/10 [00:00<?, ?it/s]"
      ]
     },
     "metadata": {},
     "output_type": "display_data"
    },
    {
     "name": "stdout",
     "output_type": "stream",
     "text": [
      "Processing 480287IND0_0288.png and saved to data/TileIndicesBoundaries/480287IND0_0288.tif\n"
     ]
    },
    {
     "data": {
      "application/vnd.jupyter.widget-view+json": {
       "model_id": "25e07b54b38e4b0f9a925eb09c52a75f",
       "version_major": 2,
       "version_minor": 0
      },
      "text/plain": [
       "  0%|          | 0/15 [00:00<?, ?it/s]"
      ]
     },
     "metadata": {},
     "output_type": "display_data"
    },
    {
     "name": "stdout",
     "output_type": "stream",
     "text": [
      "Processing 480287IND0_0382.png and saved to data/TileIndicesBoundaries/480287IND0_0382.tif\n"
     ]
    },
    {
     "data": {
      "application/vnd.jupyter.widget-view+json": {
       "model_id": "40de937c3f2f47858bdbaf759b0979bd",
       "version_major": 2,
       "version_minor": 0
      },
      "text/plain": [
       "  0%|          | 0/10 [00:00<?, ?it/s]"
      ]
     },
     "metadata": {},
     "output_type": "display_data"
    },
    {
     "name": "stdout",
     "output_type": "stream",
     "text": [
      "Processing 480287IND0_0985.png and saved to data/TileIndicesBoundaries/480287IND0_0985.tif\n"
     ]
    },
    {
     "data": {
      "application/vnd.jupyter.widget-view+json": {
       "model_id": "355ccced261244379f36ca33cc05b7f0",
       "version_major": 2,
       "version_minor": 0
      },
      "text/plain": [
       "  0%|          | 0/15 [00:00<?, ?it/s]"
      ]
     },
     "metadata": {},
     "output_type": "display_data"
    },
    {
     "name": "stdout",
     "output_type": "stream",
     "text": [
      "Processing 480296IND0_0982.png and saved to data/TileIndicesBoundaries/480296IND0_0982.tif\n"
     ]
    },
    {
     "data": {
      "application/vnd.jupyter.widget-view+json": {
       "model_id": "496084077ee1434f81b3b1e80107b8b6",
       "version_major": 2,
       "version_minor": 0
      },
      "text/plain": [
       "  0%|          | 0/15 [00:00<?, ?it/s]"
      ]
     },
     "metadata": {},
     "output_type": "display_data"
    },
    {
     "name": "stdout",
     "output_type": "stream",
     "text": [
      "Processing 480296IND0_0985.png and saved to data/TileIndicesBoundaries/480296IND0_0985.tif\n"
     ]
    },
    {
     "data": {
      "application/vnd.jupyter.widget-view+json": {
       "model_id": "5559568ef4b34d4fb32718094cdcae02",
       "version_major": 2,
       "version_minor": 0
      },
      "text/plain": [
       "  0%|          | 0/15 [00:00<?, ?it/s]"
      ]
     },
     "metadata": {},
     "output_type": "display_data"
    },
    {
     "name": "stdout",
     "output_type": "stream",
     "text": [
      "Processing 480296IND0_0987.png and saved to data/TileIndicesBoundaries/480296IND0_0987.tif\n"
     ]
    },
    {
     "data": {
      "application/vnd.jupyter.widget-view+json": {
       "model_id": "248e2d7d5b64467f83e15dcf0464dc15",
       "version_major": 2,
       "version_minor": 0
      },
      "text/plain": [
       "  0%|          | 0/15 [00:00<?, ?it/s]"
      ]
     },
     "metadata": {},
     "output_type": "display_data"
    },
    {
     "name": "stdout",
     "output_type": "stream",
     "text": [
      "Processing 480296IND0_1279.png and saved to data/TileIndicesBoundaries/480296IND0_1279.tif\n"
     ]
    },
    {
     "data": {
      "application/vnd.jupyter.widget-view+json": {
       "model_id": "fa4f064021cc4c9a8d9f9f856f93f31d",
       "version_major": 2,
       "version_minor": 0
      },
      "text/plain": [
       "  0%|          | 0/15 [00:00<?, ?it/s]"
      ]
     },
     "metadata": {},
     "output_type": "display_data"
    },
    {
     "name": "stdout",
     "output_type": "stream",
     "text": [
      "Processing 480304IND0_0182.png and saved to data/TileIndicesBoundaries/480304IND0_0182.tif\n"
     ]
    },
    {
     "data": {
      "application/vnd.jupyter.widget-view+json": {
       "model_id": "2eb1fa96d3bf4bfba2a661e8aeeb8d57",
       "version_major": 2,
       "version_minor": 0
      },
      "text/plain": [
       "  0%|          | 0/15 [00:00<?, ?it/s]"
      ]
     },
     "metadata": {},
     "output_type": "display_data"
    },
    {
     "name": "stdout",
     "output_type": "stream",
     "text": [
      "Processing 480304IND0_1077.png and saved to data/TileIndicesBoundaries/480304IND0_1077.tif\n"
     ]
    },
    {
     "data": {
      "application/vnd.jupyter.widget-view+json": {
       "model_id": "fe15521824ac4ba5b6b031f1a3a0f029",
       "version_major": 2,
       "version_minor": 0
      },
      "text/plain": [
       "  0%|          | 0/15 [00:00<?, ?it/s]"
      ]
     },
     "metadata": {},
     "output_type": "display_data"
    },
    {
     "name": "stdout",
     "output_type": "stream",
     "text": [
      "Processing 480304IND0_1287.png and saved to data/TileIndicesBoundaries/480304IND0_1287.tif\n"
     ]
    },
    {
     "data": {
      "application/vnd.jupyter.widget-view+json": {
       "model_id": "b20517da97b84219853b354f4ab5bb8b",
       "version_major": 2,
       "version_minor": 0
      },
      "text/plain": [
       "  0%|          | 0/15 [00:00<?, ?it/s]"
      ]
     },
     "metadata": {},
     "output_type": "display_data"
    },
    {
     "name": "stdout",
     "output_type": "stream",
     "text": [
      "Processing 480307IND0_0686.png and saved to data/TileIndicesBoundaries/480307IND0_0686.tif\n"
     ]
    },
    {
     "data": {
      "application/vnd.jupyter.widget-view+json": {
       "model_id": "9bf960072e8d413bbf0a24906844a9f9",
       "version_major": 2,
       "version_minor": 0
      },
      "text/plain": [
       "  0%|          | 0/10 [00:00<?, ?it/s]"
      ]
     },
     "metadata": {},
     "output_type": "display_data"
    },
    {
     "name": "stdout",
     "output_type": "stream",
     "text": [
      "Processing 48039CIND0.png and saved to data/TileIndicesBoundaries/48039CIND0.tif\n"
     ]
    },
    {
     "data": {
      "application/vnd.jupyter.widget-view+json": {
       "model_id": "471d719bc259410891574c4acdc21b61",
       "version_major": 2,
       "version_minor": 0
      },
      "text/plain": [
       "  0%|          | 0/15 [00:00<?, ?it/s]"
      ]
     },
     "metadata": {},
     "output_type": "display_data"
    },
    {
     "name": "stdout",
     "output_type": "stream",
     "text": [
      "Processing 48071CIND0A.png and saved to data/TileIndicesBoundaries/48071CIND0A.tif\n"
     ]
    },
    {
     "data": {
      "application/vnd.jupyter.widget-view+json": {
       "model_id": "acc05f783109403aae380c32fe54d6ef",
       "version_major": 2,
       "version_minor": 0
      },
      "text/plain": [
       "  0%|          | 0/15 [00:00<?, ?it/s]"
      ]
     },
     "metadata": {},
     "output_type": "display_data"
    },
    {
     "name": "stdout",
     "output_type": "stream",
     "text": [
      "Processing 48157CIND0.png and saved to data/TileIndicesBoundaries/48157CIND0.tif\n"
     ]
    },
    {
     "data": {
      "application/vnd.jupyter.widget-view+json": {
       "model_id": "f9534614552549538b8bc1198e392b8b",
       "version_major": 2,
       "version_minor": 0
      },
      "text/plain": [
       "  0%|          | 0/15 [00:00<?, ?it/s]"
      ]
     },
     "metadata": {},
     "output_type": "display_data"
    },
    {
     "name": "stdout",
     "output_type": "stream",
     "text": [
      "Processing 48157CIND0A.png and saved to data/TileIndicesBoundaries/48157CIND0A.tif\n"
     ]
    },
    {
     "data": {
      "application/vnd.jupyter.widget-view+json": {
       "model_id": "1dae9f817f84419b90c6a4e8bbb38bcd",
       "version_major": 2,
       "version_minor": 0
      },
      "text/plain": [
       "  0%|          | 0/15 [00:00<?, ?it/s]"
      ]
     },
     "metadata": {},
     "output_type": "display_data"
    },
    {
     "name": "stdout",
     "output_type": "stream",
     "text": [
      "Processing 48157CIND0B.png and saved to data/TileIndicesBoundaries/48157CIND0B.tif\n"
     ]
    },
    {
     "data": {
      "application/vnd.jupyter.widget-view+json": {
       "model_id": "4f443e23340642848b7954c7be989650",
       "version_major": 2,
       "version_minor": 0
      },
      "text/plain": [
       "  0%|          | 0/15 [00:00<?, ?it/s]"
      ]
     },
     "metadata": {},
     "output_type": "display_data"
    },
    {
     "name": "stdout",
     "output_type": "stream",
     "text": [
      "Processing 48201CIND0.png and saved to data/TileIndicesBoundaries/48201CIND0.tif\n"
     ]
    },
    {
     "data": {
      "application/vnd.jupyter.widget-view+json": {
       "model_id": "27951ad436f548608b820bd5e75f87aa",
       "version_major": 2,
       "version_minor": 0
      },
      "text/plain": [
       "  0%|          | 0/15 [00:00<?, ?it/s]"
      ]
     },
     "metadata": {},
     "output_type": "display_data"
    },
    {
     "name": "stdout",
     "output_type": "stream",
     "text": [
      "Processing 48201CIND0A.png and saved to data/TileIndicesBoundaries/48201CIND0A.tif\n"
     ]
    },
    {
     "data": {
      "application/vnd.jupyter.widget-view+json": {
       "model_id": "c91bbba29f124cd9ba1f245dd647f26c",
       "version_major": 2,
       "version_minor": 0
      },
      "text/plain": [
       "  0%|          | 0/15 [00:00<?, ?it/s]"
      ]
     },
     "metadata": {},
     "output_type": "display_data"
    },
    {
     "name": "stdout",
     "output_type": "stream",
     "text": [
      "Processing 48201CIND0B.png and saved to data/TileIndicesBoundaries/48201CIND0B.tif\n"
     ]
    },
    {
     "data": {
      "application/vnd.jupyter.widget-view+json": {
       "model_id": "91af6882191f48d78a74ce689af43aa1",
       "version_major": 2,
       "version_minor": 0
      },
      "text/plain": [
       "  0%|          | 0/15 [00:00<?, ?it/s]"
      ]
     },
     "metadata": {},
     "output_type": "display_data"
    },
    {
     "name": "stdout",
     "output_type": "stream",
     "text": [
      "Processing 48201CIND0C.png and saved to data/TileIndicesBoundaries/48201CIND0C.tif\n"
     ]
    },
    {
     "data": {
      "application/vnd.jupyter.widget-view+json": {
       "model_id": "dfebc0d74b724a5a87697bb1ccacfd1e",
       "version_major": 2,
       "version_minor": 0
      },
      "text/plain": [
       "  0%|          | 0/15 [00:00<?, ?it/s]"
      ]
     },
     "metadata": {},
     "output_type": "display_data"
    },
    {
     "name": "stdout",
     "output_type": "stream",
     "text": [
      "Processing 48201CIND0D.png and saved to data/TileIndicesBoundaries/48201CIND0D.tif\n"
     ]
    },
    {
     "data": {
      "application/vnd.jupyter.widget-view+json": {
       "model_id": "666c8791ada94bfe85f6c5005dafb4d0",
       "version_major": 2,
       "version_minor": 0
      },
      "text/plain": [
       "  0%|          | 0/15 [00:00<?, ?it/s]"
      ]
     },
     "metadata": {},
     "output_type": "display_data"
    },
    {
     "name": "stdout",
     "output_type": "stream",
     "text": [
      "Processing 48201CIND0E.png and saved to data/TileIndicesBoundaries/48201CIND0E.tif\n"
     ]
    },
    {
     "data": {
      "application/vnd.jupyter.widget-view+json": {
       "model_id": "867b9cf0c7654b6e95c472a71bc72675",
       "version_major": 2,
       "version_minor": 0
      },
      "text/plain": [
       "  0%|          | 0/15 [00:00<?, ?it/s]"
      ]
     },
     "metadata": {},
     "output_type": "display_data"
    },
    {
     "name": "stdout",
     "output_type": "stream",
     "text": [
      "Processing 48201CIND0F.png and saved to data/TileIndicesBoundaries/48201CIND0F.tif\n"
     ]
    },
    {
     "data": {
      "application/vnd.jupyter.widget-view+json": {
       "model_id": "37668f0012b64724a4a2a0362e65db94",
       "version_major": 2,
       "version_minor": 0
      },
      "text/plain": [
       "  0%|          | 0/15 [00:00<?, ?it/s]"
      ]
     },
     "metadata": {},
     "output_type": "display_data"
    },
    {
     "name": "stdout",
     "output_type": "stream",
     "text": [
      "Processing 48201CIND0_0990.png and saved to data/TileIndicesBoundaries/48201CIND0_0990.tif\n"
     ]
    },
    {
     "data": {
      "application/vnd.jupyter.widget-view+json": {
       "model_id": "4a66b19b15254538994f68d388b19614",
       "version_major": 2,
       "version_minor": 0
      },
      "text/plain": [
       "  0%|          | 0/15 [00:00<?, ?it/s]"
      ]
     },
     "metadata": {},
     "output_type": "display_data"
    },
    {
     "name": "stdout",
     "output_type": "stream",
     "text": [
      "Processing 48201CIND0_0992.png and saved to data/TileIndicesBoundaries/48201CIND0_0992.tif\n"
     ]
    },
    {
     "data": {
      "application/vnd.jupyter.widget-view+json": {
       "model_id": "9e3f0508f2a34c3eaf21b5b44618ad21",
       "version_major": 2,
       "version_minor": 0
      },
      "text/plain": [
       "  0%|          | 0/15 [00:00<?, ?it/s]"
      ]
     },
     "metadata": {},
     "output_type": "display_data"
    },
    {
     "name": "stdout",
     "output_type": "stream",
     "text": [
      "Processing 48201CIND0_1196.png and saved to data/TileIndicesBoundaries/48201CIND0_1196.tif\n"
     ]
    },
    {
     "data": {
      "application/vnd.jupyter.widget-view+json": {
       "model_id": "960287ca32c24c888ecd72bb2a064c68",
       "version_major": 2,
       "version_minor": 0
      },
      "text/plain": [
       "  0%|          | 0/15 [00:00<?, ?it/s]"
      ]
     },
     "metadata": {},
     "output_type": "display_data"
    },
    {
     "name": "stdout",
     "output_type": "stream",
     "text": [
      "Processing 48339CIND0.png and saved to data/TileIndicesBoundaries/48339CIND0.tif\n"
     ]
    },
    {
     "data": {
      "application/vnd.jupyter.widget-view+json": {
       "model_id": "0e8bd514d9424a3ea1cde4d573fb2ce1",
       "version_major": 2,
       "version_minor": 0
      },
      "text/plain": [
       "  0%|          | 0/15 [00:00<?, ?it/s]"
      ]
     },
     "metadata": {},
     "output_type": "display_data"
    },
    {
     "name": "stdout",
     "output_type": "stream",
     "text": [
      "Processing 48473CIND0A.png and saved to data/TileIndicesBoundaries/48473CIND0A.tif\n"
     ]
    },
    {
     "data": {
      "application/vnd.jupyter.widget-view+json": {
       "model_id": "c7d874f0c6eb48ac9091c2d03e0f7a13",
       "version_major": 2,
       "version_minor": 0
      },
      "text/plain": [
       "  0%|          | 0/15 [00:00<?, ?it/s]"
      ]
     },
     "metadata": {},
     "output_type": "display_data"
    },
    {
     "name": "stdout",
     "output_type": "stream",
     "text": [
      "Processing 485456IND0_0279.png and saved to data/TileIndicesBoundaries/485456IND0_0279.tif\n"
     ]
    },
    {
     "data": {
      "application/vnd.jupyter.widget-view+json": {
       "model_id": "af5c3d6b81034fcdb8644a0c1c4b7726",
       "version_major": 2,
       "version_minor": 0
      },
      "text/plain": [
       "  0%|          | 0/11 [00:00<?, ?it/s]"
      ]
     },
     "metadata": {},
     "output_type": "display_data"
    },
    {
     "name": "stdout",
     "output_type": "stream",
     "text": [
      "Processing 485456IND0_0982.png and saved to data/TileIndicesBoundaries/485456IND0_0982.tif\n"
     ]
    },
    {
     "data": {
      "application/vnd.jupyter.widget-view+json": {
       "model_id": "1c7a8fa160d34946abdcff9f812848c6",
       "version_major": 2,
       "version_minor": 0
      },
      "text/plain": [
       "  0%|          | 0/11 [00:00<?, ?it/s]"
      ]
     },
     "metadata": {},
     "output_type": "display_data"
    },
    {
     "name": "stdout",
     "output_type": "stream",
     "text": [
      "Processing 485456IND0_1185.png and saved to data/TileIndicesBoundaries/485456IND0_1185.tif\n"
     ]
    },
    {
     "data": {
      "application/vnd.jupyter.widget-view+json": {
       "model_id": "a3dd51b52cf94e428b7267737decd0d1",
       "version_major": 2,
       "version_minor": 0
      },
      "text/plain": [
       "  0%|          | 0/10 [00:00<?, ?it/s]"
      ]
     },
     "metadata": {},
     "output_type": "display_data"
    },
    {
     "name": "stdout",
     "output_type": "stream",
     "text": [
      "Processing 485468IND0_0483.png and saved to data/TileIndicesBoundaries/485468IND0_0483.tif\n"
     ]
    },
    {
     "data": {
      "application/vnd.jupyter.widget-view+json": {
       "model_id": "e02f5786cace41daa6ad740725f45ad2",
       "version_major": 2,
       "version_minor": 0
      },
      "text/plain": [
       "  0%|          | 0/15 [00:00<?, ?it/s]"
      ]
     },
     "metadata": {},
     "output_type": "display_data"
    },
    {
     "name": "stdout",
     "output_type": "stream",
     "text": [
      "Processing 485487IND0_1185.png and saved to data/TileIndicesBoundaries/485487IND0_1185.tif\n"
     ]
    },
    {
     "data": {
      "application/vnd.jupyter.widget-view+json": {
       "model_id": "0c218b34dc8741c7964c47e8e4246fb9",
       "version_major": 2,
       "version_minor": 0
      },
      "text/plain": [
       "  0%|          | 0/11 [00:00<?, ?it/s]"
      ]
     },
     "metadata": {},
     "output_type": "display_data"
    },
    {
     "name": "stdout",
     "output_type": "stream",
     "text": [
      "Processing 485488IND0.png and saved to data/TileIndicesBoundaries/485488IND0.tif\n"
     ]
    },
    {
     "data": {
      "application/vnd.jupyter.widget-view+json": {
       "model_id": "427c379e0aad484cb4f6001b3f8fdf5d",
       "version_major": 2,
       "version_minor": 0
      },
      "text/plain": [
       "  0%|          | 0/15 [00:00<?, ?it/s]"
      ]
     },
     "metadata": {},
     "output_type": "display_data"
    },
    {
     "name": "stdout",
     "output_type": "stream",
     "text": [
      "Processing 485488IND0_0583.png and saved to data/TileIndicesBoundaries/485488IND0_0583.tif\n"
     ]
    },
    {
     "data": {
      "application/vnd.jupyter.widget-view+json": {
       "model_id": "fdbbc61f3853465197e2ef9ce324e3ec",
       "version_major": 2,
       "version_minor": 0
      },
      "text/plain": [
       "  0%|          | 0/15 [00:00<?, ?it/s]"
      ]
     },
     "metadata": {},
     "output_type": "display_data"
    },
    {
     "name": "stdout",
     "output_type": "stream",
     "text": [
      "Processing 485488IND0_0990.png and saved to data/TileIndicesBoundaries/485488IND0_0990.tif\n"
     ]
    },
    {
     "data": {
      "application/vnd.jupyter.widget-view+json": {
       "model_id": "4a734f42c61d437b8a89a289007b1197",
       "version_major": 2,
       "version_minor": 0
      },
      "text/plain": [
       "  0%|          | 0/15 [00:00<?, ?it/s]"
      ]
     },
     "metadata": {},
     "output_type": "display_data"
    },
    {
     "name": "stdout",
     "output_type": "stream",
     "text": [
      "Processing 485516IND0_0281.png and saved to data/TileIndicesBoundaries/485516IND0_0281.tif\n"
     ]
    },
    {
     "data": {
      "application/vnd.jupyter.widget-view+json": {
       "model_id": "46c327a3628046449521ebaa7cb04a90",
       "version_major": 2,
       "version_minor": 0
      },
      "text/plain": [
       "  0%|          | 0/10 [00:00<?, ?it/s]"
      ]
     },
     "metadata": {},
     "output_type": "display_data"
    }
   ],
   "source": [
    "input_folder = f\"data/TileIndices_Sharpened/\"\n",
    "output_folder = f\"data/TileIndicesBoundaries/\"\n",
    "    \n",
    " # Iterate over the files in the input folder\n",
    "for filename in os.listdir(input_folder):\n",
    "    # Check if the file has a supported image extension\n",
    "    if filename.lower().endswith(('.png', '.jpg', '.jpeg', '.tif', '.tiff')):\n",
    "        # Open the image file\n",
    "        image_path = os.path.join(input_folder, filename)\n",
    "        output_path = os.path.join(output_folder, filename[:-3] + \"tif\")\n",
    "        print(f\"Processing {filename} and saved to {output_path}\")\n",
    "        \n",
    "        # Apply the process function to the image\n",
    "        processed_image = split_and_run_cnn(image_path, model)\n",
    "        \n",
    "        \n",
    "        processed_image = np.dstack((\n",
    "            processed_image[0, :, :],\n",
    "            processed_image[1, :, :],\n",
    "            np.zeros(processed_image[0, :, :].shape)\n",
    "        ))\n",
    "            \n",
    "        image = processed_image * 255 \n",
    "        \n",
    "        cv2.imwrite(output_path, image.astype(np.uint8))"
   ]
  },
  {
   "cell_type": "code",
   "execution_count": null,
   "id": "ff562247",
   "metadata": {},
   "outputs": [],
   "source": []
  }
 ],
 "metadata": {
  "kernelspec": {
   "display_name": "Python 3 (ipykernel)",
   "language": "python",
   "name": "python3"
  },
  "language_info": {
   "codemirror_mode": {
    "name": "ipython",
    "version": 3
   },
   "file_extension": ".py",
   "mimetype": "text/x-python",
   "name": "python",
   "nbconvert_exporter": "python",
   "pygments_lexer": "ipython3",
   "version": "3.7.10"
  }
 },
 "nbformat": 4,
 "nbformat_minor": 5
}
